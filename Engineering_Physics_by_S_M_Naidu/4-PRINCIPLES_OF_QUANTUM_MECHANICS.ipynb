{
"cells": [
 {
		   "cell_type": "markdown",
	   "metadata": {},
	   "source": [
       "# Chapter 4: PRINCIPLES OF QUANTUM MECHANICS"
	   ]
	},
{
		   "cell_type": "markdown",
		   "metadata": {},
		   "source": [
			"## Example 4.10: energy_value_in_states.sce"
		   ]
		  },
  {
"cell_type": "code",
	   "execution_count": null,
	   "metadata": {
	    "collapsed": true
	   },
	   "outputs": [],
"source": [
"//Variable declaration\n",
"n=1;\n",
"e=1.6*10**-19;  \n",
"m=9.1*10**-31;    //mass(kg)\n",
"h=6.63*10**-34;    //planck's constant\n",
"L=2*10**-10;       //width(m)\n",
"\n",
"//Calculation\n",
"E1=n**2*h**2/(8*m*e*L**2);      //energy value in g state(eV)\n",
"E2=2**2*E1;      //energy value in 2nd quantum state(eV)\n",
"E4=4**2*E1;      //energy value in 2nd quantum state(eV)\n",
"\n",
"//Result\n",
"printf('energy value in 2nd quantum state is  %0.3f     \n',(E2))\n",
"printf('energy value in 4th quantum state is %0.3d eV\n ',(E4))\n",
"printf('answer varies due to approximating off errors\n')"
   ]
   }
,
{
		   "cell_type": "markdown",
		   "metadata": {},
		   "source": [
			"## Example 4.11: interplanar_spacing.sce"
		   ]
		  },
  {
"cell_type": "code",
	   "execution_count": null,
	   "metadata": {
	    "collapsed": true
	   },
	   "outputs": [],
"source": [
"\n",
"//Variable declaration\n",
"e=1.6*10**-19;  \n",
"m=9.1*10**-31;    //mass(kg)\n",
"h=6.63*10**-34;    //planck's constant\n",
"V=344;          //potemtial(V)\n",
"n=1;\n",
"theta=60;     //angle(degrees)\n",
"\n",
"//Calculation\n",
"theta=theta*%pi/180;      //angle(radian)\n",
"d=n*h/(2*sin(theta)*sqrt(2*m*V*e));     //interplanar spacing(m)\n",
"\n",
"//Result\n",
"printf('interplanar spacing is %0.3f  angstrom   \n',(d*10**10))"
   ]
   }
,
{
		   "cell_type": "markdown",
		   "metadata": {},
		   "source": [
			"## Example 4.12: energy_required_to_pump_an_electron.sce"
		   ]
		  },
  {
"cell_type": "code",
	   "execution_count": null,
	   "metadata": {
	    "collapsed": true
	   },
	   "outputs": [],
"source": [
"\n",
"//Variable declaration\n",
"n=1;\n",
"e=1.6*10**-19;  \n",
"m=9.11*10**-31;    //mass(kg)\n",
"h=6.63*10**-34;    //planck's constant\n",
"L=1*10**-10;       //width(m)\n",
"\n",
"//Calculation\n",
"E1=n**2*h**2/(8*m*e*L**2);      //energy value in g state(eV)\n",
"E3=3**2*E1;      //energy value in 2nd quantum state(eV)\n",
"E=E3-E1;       //energy required to pump an electron(eV)\n",
"\n",
"//Result\n",
"printf('energy required to pump an electron is %0.3f  eV   \n',(E))\n",
"printf('answer varies due to approximating off errors\n')"
   ]
   }
,
{
		   "cell_type": "markdown",
		   "metadata": {},
		   "source": [
			"## Example 4.13: minimum_energy.sce"
		   ]
		  },
  {
"cell_type": "code",
	   "execution_count": null,
	   "metadata": {
	    "collapsed": true
	   },
	   "outputs": [],
"source": [
"\n",
"//Variable declaration\n",
"n=1;\n",
"e=1.6*10**-19;  \n",
"m=9.11*10**-31;    //mass(kg)\n",
"h=6.63*10**-34;    //planck's constant\n",
"L=2*10**-10;       //width(m)\n",
"\n",
"//Calculation\n",
"E1=n**2*h**2/(8*m*e*L**2);      //energy value in g state(eV)\n",
"\n",
"//Result\n",
"printf('minimum energy is %0.3f   eV  \n',(E1))\n",
"printf('answer varies due to approximating off errors\n')"
   ]
   }
,
{
		   "cell_type": "markdown",
		   "metadata": {},
		   "source": [
			"## Example 4.14: wavelength.sce"
		   ]
		  },
  {
"cell_type": "code",
	   "execution_count": null,
	   "metadata": {
	    "collapsed": true
	   },
	   "outputs": [],
"source": [
"\n",
"//Variable declaration\n",
"V=1600;    //voltage(V)\n",
"\n",
"//Calculation\n",
"lamda=1.227/sqrt(V);     //wavelength(nm)\n",
"\n",
"//Result\n",
"printf('wavelength is %0.3f  angstrom   \n',(lamda*10))"
   ]
   }
,
{
		   "cell_type": "markdown",
		   "metadata": {},
		   "source": [
			"## Example 4.1: wavelength.sce"
		   ]
		  },
  {
"cell_type": "code",
	   "execution_count": null,
	   "metadata": {
	    "collapsed": true
	   },
	   "outputs": [],
"source": [
"\n",
"//Variable declaration\n",
"e=1.6*10**-19;  \n",
"m=9.1*10**-31;    //mass(kg)\n",
"h=6.63*10**-34;    //planck's constant\n",
"E=2000;     //energy(eV)\n",
"\n",
"//Calculation\n",
"lamda=h/sqrt(2*m*E*e);     //wavelength(m)\n",
"\n",
"//Result\n",
"printf('wavelength is %0.4f nm\n ',(lamda*10**9))"
   ]
   }
,
{
		   "cell_type": "markdown",
		   "metadata": {},
		   "source": [
			"## Example 4.2: velocity.sce"
		   ]
		  },
  {
"cell_type": "code",
	   "execution_count": null,
	   "metadata": {
	    "collapsed": true
	   },
	   "outputs": [],
"source": [
"\n",
"//Variable declaration\n",
"e=1.6*10**-19;  \n",
"m=9.1*10**-31;    //mass(kg)\n",
"h=6.626*10**-34;    //planck's constant\n",
"lamda=1.66*10**-10;    //wavelength(m)\n",
"\n",
"//Calculation\n",
"v=h/(m*lamda);     //velocity(m/s)\n",
"E=h**2/(2*m*e*lamda**2);    //kinetic energy(eV)\n",
"\n",
"//Result\n",
"printf('velocity is %0.3f   *10**4 m/s  \n',(v/10**4))\n",
"printf('answer varies due to approximating off errors\n')\n",
"printf('kinetic energy is %0.3f  eV   \n',(E))"
   ]
   }
,
{
		   "cell_type": "markdown",
		   "metadata": {},
		   "source": [
			"## Example 4.3: nergy_value_in_states.sce"
		   ]
		  },
  {
"cell_type": "code",
	   "execution_count": null,
	   "metadata": {
	    "collapsed": true
	   },
	   "outputs": [],
"source": [
"\n",
"//Variable declaration\n",
"n=1;\n",
"e=1.6*10**-19;  \n",
"m=9.1*10**-31;    //mass(kg)\n",
"h=6.63*10**-34;    //planck's constant\n",
"L=1*10**-10;       //width(m)\n",
"\n",
"//Calculation\n",
"E1=n**2*h**2/(8*m*e*L**2);      //energy value in ground state(eV)\n",
"E2=4*E1;      //energy value in 1st state(eV)\n",
"E3=9*E1;      //energy value in 2nd state(eV)\n",
"\n",
"//Result\n",
"printf('energy value in ground state is %0.4f eV',(E1))\n",
"printf('\nenergy value in 1st state is %0.2f eV',(E2))\n",
"printf('\nenergy value in 2nd state is %0.4f eV',(E3))"
   ]
   }
,
{
		   "cell_type": "markdown",
		   "metadata": {},
		   "source": [
			"## Example 4.4: minimum_energy.sce"
		   ]
		  },
  {
"cell_type": "code",
	   "execution_count": null,
	   "metadata": {
	    "collapsed": true
	   },
	   "outputs": [],
"source": [
"\n",
"//Variable declaration\n",
"n=1;\n",
"e=1.6*10**-19;  \n",
"m=9.1*10**-31;    //mass(kg)\n",
"h=6.63*10**-34;    //planck's constant\n",
"L=4*10**-10;       //width(m)\n",
"\n",
"//Calculation\n",
"E1=n**2*h**2/(8*m*e*L**2);      //energy value in g state(eV)\n",
"\n",
"//Result\n",
"printf('minimum energy is %0.3f eV   \n',(E1))"
   ]
   }
,
{
		   "cell_type": "markdown",
		   "metadata": {},
		   "source": [
			"## Example 4.5: wavelength.sce"
		   ]
		  },
  {
"cell_type": "code",
	   "execution_count": null,
	   "metadata": {
	    "collapsed": true
	   },
	   "outputs": [],
"source": [
"\n",
"//Variable declaration\n",
"V=15*10**3;    //voltage(V)\n",
"\n",
"//Calculation\n",
"lamda=1.227/sqrt(V);     //wavelength(nm)\n",
"\n",
"//Result\n",
"printf('wavelength is %0.3f  nm   \n',(lamda))"
   ]
   }
,
{
		   "cell_type": "markdown",
		   "metadata": {},
		   "source": [
			"## Example 4.6: minimum_energy.sce"
		   ]
		  },
  {
"cell_type": "code",
	   "execution_count": null,
	   "metadata": {
	    "collapsed": true
	   },
	   "outputs": [],
"source": [
"//Variable declaration\n",
"n=1;\n",
"e=1.6*10**-19;  \n",
"m=9.1*10**-31;    //mass(kg)\n",
"h=6.63*10**-34;    //planck's constant\n",
"L=0.05*10**-9;       //width(m)\n",
"\n",
"//Calculation\n",
"E1=n**2*h**2/(8*m*e*L**2);      //energy value in g state(eV)\n",
"\n",
"//Result\n",
"printf('minimum energy is %0.3f  eV   \n',(E1))"
   ]
   }
,
{
		   "cell_type": "markdown",
		   "metadata": {},
		   "source": [
			"## Example 4.8: minimum_energy.sce"
		   ]
		  },
  {
"cell_type": "code",
	   "execution_count": null,
	   "metadata": {
	    "collapsed": true
	   },
	   "outputs": [],
"source": [
"//Variable declaration\n",
"n=1;\n",
"e=1.6*10**-19;  \n",
"m=9.1*10**-31;    //mass(kg)\n",
"h=6.63*10**-34;    //planck's constant\n",
"L=3*10**-10;       //width(m)\n",
"\n",
"//Calculation\n",
"E1=n**2*h**2/(8*m*e*L**2);      //energy value in g state(eV)\n",
"\n",
"//Result\n",
"printf('minimum energy is %0.3f   eV  \n',(E1))"
   ]
   }
,
{
		   "cell_type": "markdown",
		   "metadata": {},
		   "source": [
			"## Example 4.9: de_broglie_wavelength.sce"
		   ]
		  },
  {
"cell_type": "code",
	   "execution_count": null,
	   "metadata": {
	    "collapsed": true
	   },
	   "outputs": [],
"source": [
"//Variable declaration\n",
"me=1.676*10**-27;    //mass(kg)  \n",
"mn=9.1*10**-31;    //mass(kg)\n",
"h=6.63*10**-34;    //planck's constant\n",
"\n",
"//Calculation\n",
"lamda_n=h/sqrt(4*mn*me);      //de broglie wavelength(m)\n",
"\n",
"//Result\n",
"printf('de broglie wavelength is %0.3f  nm   \n',int(lamda_n*10**9))"
   ]
   }
],
"metadata": {
		  "kernelspec": {
		   "display_name": "Scilab",
		   "language": "scilab",
		   "name": "scilab"
		  },
		  "language_info": {
		   "file_extension": ".sce",
		   "help_links": [
			{
			 "text": "MetaKernel Magics",
			 "url": "https://github.com/calysto/metakernel/blob/master/metakernel/magics/README.md"
			}
		   ],
		   "mimetype": "text/x-octave",
		   "name": "scilab",
		   "version": "0.7.1"
		  }
		 },
		 "nbformat": 4,
		 "nbformat_minor": 0
}
