{
"cells": [
 {
		   "cell_type": "markdown",
	   "metadata": {},
	   "source": [
       "# Chapter 9: Superconductivity"
	   ]
	},
{
		   "cell_type": "markdown",
		   "metadata": {},
		   "source": [
			"## Example 9.1: transition_temperature.sce"
		   ]
		  },
  {
"cell_type": "code",
	   "execution_count": null,
	   "metadata": {
	    "collapsed": true
	   },
	   "outputs": [],
"source": [
"\n",
"//Variable declaration\n",
"T=8;    //temperature(K)\n",
"Hc=1*10**5;   //critical field(amp/m)\n",
"H0=2*10**5;   //critical field(amp/m)\n",
"\n",
"//Calculation\n",
"Tc=T/sqrt(1-(Hc/H0));     //transition temperature(K)\n",
"\n",
"//Result\n",
"printf('transition temperature is %0.3f   K  \n',(Tc))"
   ]
   }
,
{
		   "cell_type": "markdown",
		   "metadata": {},
		   "source": [
			"## Example 9.2: frequency.sce"
		   ]
		  },
  {
"cell_type": "code",
	   "execution_count": null,
	   "metadata": {
	    "collapsed": true
	   },
	   "outputs": [],
"source": [
"\n",
"//Variable declaration\n",
"h=6.626*10**-34;    //plancks constant\n",
"e=1.6*10**-19;  \n",
"V=8.5*10**-6;    //voltage(V)\n",
"\n",
"//Calculation\n",
"new=2*e*V/h;     //frequency(Hz)\n",
"\n",
"//Result\n",
"printf('frequency is %0.3f   *10**9 Hz  \n',(new/10**9))"
   ]
   }
,
{
		   "cell_type": "markdown",
		   "metadata": {},
		   "source": [
			"## Example 9.3: critical_field.sce"
		   ]
		  },
  {
"cell_type": "code",
	   "execution_count": null,
	   "metadata": {
	    "collapsed": true
	   },
	   "outputs": [],
"source": [
"\n",
"//Variable declaration\n",
"T=2;    //temperature(K)\n",
"H0=0.0306;   //critical field(amp/m)\n",
"Tc=3.7;     //transition temperature(K)\n",
"\n",
"//Calculation\n",
"Hc=H0*(1-(T/Tc)**2);   //critical field(Tesla)\n",
"\n",
"//Result\n",
"printf('critical field is %0.3f    Tesla \n',(Hc))"
   ]
   }
,
{
		   "cell_type": "markdown",
		   "metadata": {},
		   "source": [
			"## Example 9.4: temperature.sce"
		   ]
		  },
  {
"cell_type": "code",
	   "execution_count": null,
	   "metadata": {
	    "collapsed": true
	   },
	   "outputs": [],
"source": [
"\n",
"//Variable declaration\n",
"H0=250*10**3;   //critical field(amp/m)\n",
"Tc=12;     //transition temperature(K)\n",
"Hc=200*10**3;   //critical field(Tesla)\n",
"\n",
"//Calculation\n",
"T=Tc*sqrt(1-(Hc/H0)**2);    //temperature(K)\n",
"\n",
"//Result\n",
"printf('temperature is %0.3f   K  \n',(T))"
   ]
   }
,
{
		   "cell_type": "markdown",
		   "metadata": {},
		   "source": [
			"## Example 9.5: critical_field.sce"
		   ]
		  },
  {
"cell_type": "code",
	   "execution_count": null,
	   "metadata": {
	    "collapsed": true
	   },
	   "outputs": [],
"source": [
"\n",
"//Variable declaration\n",
"T=2.5;    //temperature(K)\n",
"H0=0.03;   //critical field(amp/m)\n",
"Tc=3.7;     //transition temperature(K)\n",
"\n",
"//Calculation\n",
"Hc=H0*(1-(T/Tc)**2);   //critical field(Tesla)\n",
"\n",
"//Result\n",
"printf('critical field is %0.3f    Tesla \n',(Hc))"
   ]
   }
,
{
		   "cell_type": "markdown",
		   "metadata": {},
		   "source": [
			"## Example 9.6: frequency.sce"
		   ]
		  },
  {
"cell_type": "code",
	   "execution_count": null,
	   "metadata": {
	    "collapsed": true
	   },
	   "outputs": [],
"source": [
"\n",
"//Variable declaration\n",
"h=6.625*10**-34;    //plancks constant\n",
"e=1.6*10**-19;  \n",
"V=650*10**-6;    //voltage(V)\n",
"\n",
"//Calculation\n",
"new=2*e*V/h;     //frequency(Hz)\n",
"\n",
"//Result\n",
"printf('frequency is %0.3f  *10**9 Hz   \n',(new/10**9))"
   ]
   }
,
{
		   "cell_type": "markdown",
		   "metadata": {},
		   "source": [
			"## Example 9.7: critical_field.sce"
		   ]
		  },
  {
"cell_type": "code",
	   "execution_count": null,
	   "metadata": {
	    "collapsed": true
	   },
	   "outputs": [],
"source": [
"\n",
"//Variable declaration\n",
"T=5;    //temperature(K)\n",
"H0=6.5*10**3;   //critical field(amp/m)\n",
"Tc=7.2;     //transition temperature(K)\n",
"\n",
"//Calculation\n",
"Hc=H0*(1-(T/Tc)**2);   //critical field(Tesla)\n",
"\n",
"//Result\n",
"printf('critical field is %0.3f  *10**3 A/m   \n',(Hc/10**3))"
   ]
   }
],
"metadata": {
		  "kernelspec": {
		   "display_name": "Scilab",
		   "language": "scilab",
		   "name": "scilab"
		  },
		  "language_info": {
		   "file_extension": ".sce",
		   "help_links": [
			{
			 "text": "MetaKernel Magics",
			 "url": "https://github.com/calysto/metakernel/blob/master/metakernel/magics/README.md"
			}
		   ],
		   "mimetype": "text/x-octave",
		   "name": "scilab",
		   "version": "0.7.1"
		  }
		 },
		 "nbformat": 4,
		 "nbformat_minor": 0
}
