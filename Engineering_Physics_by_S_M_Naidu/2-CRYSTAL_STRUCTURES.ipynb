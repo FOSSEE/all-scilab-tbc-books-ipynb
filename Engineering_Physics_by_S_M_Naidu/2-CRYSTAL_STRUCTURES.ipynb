{
"cells": [
 {
		   "cell_type": "markdown",
	   "metadata": {},
	   "source": [
       "# Chapter 2: CRYSTAL STRUCTURES"
	   ]
	},
{
		   "cell_type": "markdown",
		   "metadata": {},
		   "source": [
			"## Example 2.1: free_volume_per_unit_cell.sce"
		   ]
		  },
  {
"cell_type": "code",
	   "execution_count": null,
	   "metadata": {
	    "collapsed": true
	   },
	   "outputs": [],
"source": [
"\n",
"//Variable declaration\n",
"r=0.1249;     //atomic radius(nm)\n",
"n=2;     //number of atoms\n",
"\n",
"//Calculation\n",
"a=4*r/sqrt(3);     //edge length(m)\n",
"V=a**3;              //volume(nm**3)\n",
"v=4*%pi*r**3*n/3;    //volume of atoms(nm**3)\n",
"Fv=V-v;     //free volume/unit cell(nm**3)\n",
"\n",
"//Result\n",
"printf('free volume/unit cell is %0.3f  nm**3   \n',(Fv))"
   ]
   }
,
{
		   "cell_type": "markdown",
		   "metadata": {},
		   "source": [
			"## Example 2.2: lattice_constant.sce"
		   ]
		  },
  {
"cell_type": "code",
	   "execution_count": null,
	   "metadata": {
	    "collapsed": true
	   },
	   "outputs": [],
"source": [
"//Variable declaration\n",
"n=2;     //number of atoms\n",
"M=6.94;   //atomic weight(kg)\n",
"rho=530;   //density(kg/m**3)\n",
"Na=6.02*10**26;    //avagadro number\n",
"\n",
"//Calculation\n",
"a3=n*M/(rho*Na);\n",
"a=a3**(1/3);     //lattice constant(m)\n",
"\n",
"//Result\n",
"printf('lattice constant is %0.3f   angstrom  \n',(a*10**10))"
   ]
   }
,
{
		   "cell_type": "markdown",
		   "metadata": {},
		   "source": [
			"## Example 2.3: lattice_constant.sce"
		   ]
		  },
  {
"cell_type": "code",
	   "execution_count": null,
	   "metadata": {
	    "collapsed": true
	   },
	   "outputs": [],
"source": [
"\n",
"//Variable declaration\n",
"n=2;     //number of atoms\n",
"M=55.85;   //atomic weight(kg)\n",
"rho=7860;   //density(kg/m**3)\n",
"Na=6.02*10**26;    //avagadro number\n",
"\n",
"//Calculation\n",
"a3=n*M/(rho*Na);\n",
"a=a3**(1/3);     //lattice constant(m)\n",
"\n",
"//Result\n",
"printf('lattice constant is %0.3f  angstrom   \n',(a*10**10))"
   ]
   }
,
{
		   "cell_type": "markdown",
		   "metadata": {},
		   "source": [
			"## Example 2.4: number_of_atoms_per_m3.sce"
		   ]
		  },
  {
"cell_type": "code",
	   "execution_count": null,
	   "metadata": {
	    "collapsed": true
	   },
	   "outputs": [],
"source": [
"\n",
"//Variable declaration\n",
"a=0.356*10**-9;     //lattice constant(m)\n",
"n=8;     //number of atoms\n",
"\n",
"//Calculation\n",
"N=n/a**3;     //number of atoms per m**3\n",
"\n",
"//Result\n",
"printf('//number of atoms per m**3 is %0.3f  *10**27   \n',(N/10**27))"
   ]
   }
,
{
		   "cell_type": "markdown",
		   "metadata": {},
		   "source": [
			"## Example 2.5: number_of_atoms_per_sq_mm.sce"
		   ]
		  },
  {
"cell_type": "code",
	   "execution_count": null,
	   "metadata": {
	    "collapsed": true
	   },
	   "outputs": [],
"source": [
"\n",
"//Variable declaration\n",
"a=3.5;     //lattice constant(angstrom)\n",
"\n",
"//Calculation\n",
"A=a**2;\n",
"N=10**7*10**7/A;    //number of atoms per sq. mm\n",
"\n",
"//Result\n",
"printf('number of atoms per sq. mm is %0.3f  *10**12   \n',(N/10**12))"
   ]
   }
,
{
		   "cell_type": "markdown",
		   "metadata": {},
		   "source": [
			"## Example 2.6: Calculate_density.sce"
		   ]
		  },
  {
"cell_type": "code",
	   "execution_count": null,
	   "metadata": {
	    "collapsed": true
	   },
	   "outputs": [],
"source": [
"\n",
"//Variable declaration\n",
"n=8;     //number of atoms\n",
"a=5.62*10**-10;     //lattice constant(m)\n",
"M=72.59;   //atomic weight(kg)\n",
"Na=6.02*10**26;    //avagadro number\n",
"\n",
"//Calculation\n",
"rho=n*M/(a**3*Na);   //density(kg/m**3)\n",
"\n",
"//Result\n",
"printf('density is %0.3f   kg/m**3  \n',(rho))"
   ]
   }
],
"metadata": {
		  "kernelspec": {
		   "display_name": "Scilab",
		   "language": "scilab",
		   "name": "scilab"
		  },
		  "language_info": {
		   "file_extension": ".sce",
		   "help_links": [
			{
			 "text": "MetaKernel Magics",
			 "url": "https://github.com/calysto/metakernel/blob/master/metakernel/magics/README.md"
			}
		   ],
		   "mimetype": "text/x-octave",
		   "name": "scilab",
		   "version": "0.7.1"
		  }
		 },
		 "nbformat": 4,
		 "nbformat_minor": 0
}
