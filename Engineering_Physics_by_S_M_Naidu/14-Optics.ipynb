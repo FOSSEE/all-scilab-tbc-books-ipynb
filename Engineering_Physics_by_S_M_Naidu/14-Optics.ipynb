{
"cells": [
 {
		   "cell_type": "markdown",
	   "metadata": {},
	   "source": [
       "# Chapter 14: Optics"
	   ]
	},
{
		   "cell_type": "markdown",
		   "metadata": {},
		   "source": [
			"## Example 14.10: ratio_of_maximum_intensity_to_minimum_intensity.sce"
		   ]
		  },
  {
"cell_type": "code",
	   "execution_count": null,
	   "metadata": {
	    "collapsed": true
	   },
	   "outputs": [],
"source": [
"\n",
"//Variable declaration\n",
"a12=36;       //intensity 1\n",
"a22=1;        //intensity 2\n",
"\n",
"//Calculation\n",
"a1=sqrt(a12);\n",
"a2=sqrt(a22);\n",
"Imin=(a1-a2)**2;     //minimum intensity\n",
"Imax=(a1+a2)**2;     //maximum intensity\n",
"r=Imax/Imin;\n",
"\n",
"//Result\n",
"printf('ratio of maximum intensity to minimum intensity is %0.3f     \n',(r))"
   ]
   }
,
{
		   "cell_type": "markdown",
		   "metadata": {},
		   "source": [
			"## Example 14.11: diameter_of_25th_ring.sce"
		   ]
		  },
  {
"cell_type": "code",
	   "execution_count": null,
	   "metadata": {
	    "collapsed": true
	   },
	   "outputs": [],
"source": [
"\n",
"//Variable declaration\n",
"D5=0.3;      //diameter of 5th ring(cm)\n",
"D15=0.62;    //diameter of 15th ring(cm)\n",
"\n",
"//Calculation\n",
"D_25=2*(D15**2)-(D5**2);\n",
"D25=sqrt(D_25);      //diameter of 25th ring(cm)\n",
"\n",
"//Result\n",
"printf('diameter of 25th ring is %0.3f    cm \n',(D25))"
   ]
   }
,
{
		   "cell_type": "markdown",
		   "metadata": {},
		   "source": [
			"## Example 14.1: ratio_of_maximum_intensity_to_minimum_intensity.sce"
		   ]
		  },
  {
"cell_type": "code",
	   "execution_count": null,
	   "metadata": {
	    "collapsed": true
	   },
	   "outputs": [],
"source": [
"\n",
"//Variable declaration\n",
"I1=10;     //intensity(w/m**2)\n",
"I2=25;     //intensity(w/m**2)\n",
"\n",
"//Calculation\n",
"a1bya2=sqrt(I1/I2);    \n",
"I=((1+a1bya2)**2)/((a1bya2-1)**2);    //ratio of maximum intensity to minimum intensity\n",
"\n",
"//Result\n",
"printf('ratio of maximum intensity to minimum intensity is %0.3f     \n',(I))\n",
"printf('answer varies due to approximating off errors\n')"
   ]
   }
,
{
		   "cell_type": "markdown",
		   "metadata": {},
		   "source": [
			"## Example 14.2: angular_position_of_1st_minimum.sce"
		   ]
		  },
  {
"cell_type": "code",
	   "execution_count": null,
	   "metadata": {
	    "collapsed": true
	   },
	   "outputs": [],
"source": [
"\n",
"//Variable declaration\n",
"lamda=5460*10**-10;    //wavelength(m)\n",
"d=1*10**-4;     //seperation(m)\n",
"D=2;     //distance(m)\n",
"n=10;    //position\n",
"\n",
"//Calculation\n",
"Xmax10=n*lamda*D/d;\n",
"tan_phi=Xmax10/D;     \n",
"phi_max10=atan(tan_phi);\n",
"phi_max10=phi_max10*180/%pi;     //angular position of 10th maximum(degrees)\n",
"phim=60*(phi_max10-int(phi_max10));\n",
"phis=60*(phim-int(phim));\n",
"xmin1=lamda*D/(2*d);       \n",
"tan_phi1=xmin1/D;\n",
"phi_min1=atan(tan_phi1);\n",
"phi_min1=phi_min1*180/%pi;     //angular position of 1st minimum(degrees)\n",
"phi_m=60*(phi_min1-int(phi_min1));\n",
"phi_s=60*(phi_m-int(phi_m));\n",
"\n",
"//Result\n",
"printf('angular position of 10th maximum is %0.3f  degrees %0.3f  minutes %0.3f  seconds \n',int(phi_max10),int(phim),(phis))\n",
"printf('answer varies due to approximating off errors\n')\n",
"printf('angular position of 1st minimum is %0.3f  degrees %0.3f  minutes %0.3f seconds \n',int(phi_min1),int(phi_m),int(phi_s))"
   ]
   }
,
{
		   "cell_type": "markdown",
		   "metadata": {},
		   "source": [
			"## Example 14.3: visible_regio.sce"
		   ]
		  },
  {
"cell_type": "code",
	   "execution_count": null,
	   "metadata": {
	    "collapsed": true
	   },
	   "outputs": [],
"source": [
"\n",
"//Variable declaration\n",
"mew=1.33;      //refractive index of soap\n",
"t=5000*10**-10;    //thickness(m)\n",
"n0=0;\n",
"n1=1;\n",
"n2=2;\n",
"n3=3;\n",
"\n",
"//Calculation\n",
"x=4*mew*t;\n",
"lamda1=x/((2*n0)+1);       //for n=0\n",
"lamda2=x/((2*n1)+1);       //for n=1\n",
"lamda3=x/((2*n2)+1);       //for n=2\n",
"lamda4=x/((2*n3)+1);       //for n=3\n",
"\n",
"//Result\n",
"printf('%0.3f angstrom lies in the visible region', lamda3*10**10)"
   ]
   }
,
{
		   "cell_type": "markdown",
		   "metadata": {},
		   "source": [
			"## Example 14.4: wavelength.sce"
		   ]
		  },
  {
"cell_type": "code",
	   "execution_count": null,
	   "metadata": {
	    "collapsed": true
	   },
	   "outputs": [],
"source": [
"\n",
"//Variable declaration\n",
"D15=0.59*10**-2;     //diameter of 15th ring(m)\n",
"D5=0.336*10**-2;     //diameter of 5th ring(m)\n",
"R=1;    //radius(m)\n",
"m=10;\n",
"\n",
"//Calculation\n",
"lamda=((D15**2)-(D5**2))/(4*m*R);     //wavelength of light(m)\n",
"\n",
"//Result\n",
"printf('wavelength of light is %0.3f   angstrom  \n',int(lamda*10**10))"
   ]
   }
,
{
		   "cell_type": "markdown",
		   "metadata": {},
		   "source": [
			"## Example 14.5: radius_of_curvature.sce"
		   ]
		  },
  {
"cell_type": "code",
	   "execution_count": null,
	   "metadata": {
	    "collapsed": true
	   },
	   "outputs": [],
"source": [
"\n",
"//Variable declaration\n",
"D10=0.5*10**-2;     //diameter of 10th ring(m)\n",
"lamda=5900*10**-10;    //wavelength of light(m)\n",
"n=10;\n",
"\n",
"//Calculation\n",
"R=D10**2/(4*n*lamda);     //radius of curvature(m)\n",
"\n",
"//Result\n",
"printf('radius of curvature is %0.3f   m  \n',(R))"
   ]
   }
,
{
		   "cell_type": "markdown",
		   "metadata": {},
		   "source": [
			"## Example 14.6: least_distance_of_the_point.sce"
		   ]
		  },
  {
"cell_type": "code",
	   "execution_count": null,
	   "metadata": {
	    "collapsed": true
	   },
	   "outputs": [],
"source": [
"\n",
"//Variable declaration\n",
"lamda1=650*10**-9;      //wavelength(m)\n",
"lamda2=500*10**-9;      //wavelength(m)\n",
"D=1;    //distance(m)\n",
"d=0.5*10**-3;     //seperation(m)\n",
"n=10;\n",
"\n",
"//Calculation\n",
"x=n*lamda1*D/d;    //least distance of the point(m)\n",
"\n",
"//Result\n",
"printf('least distance of the point is %0.3f   mm  \n',int(x*10**3))"
   ]
   }
,
{
		   "cell_type": "markdown",
		   "metadata": {},
		   "source": [
			"## Example 14.7: thickness.sce"
		   ]
		  },
  {
"cell_type": "code",
	   "execution_count": null,
	   "metadata": {
	    "collapsed": true
	   },
	   "outputs": [],
"source": [
"\n",
"//Variable declaration\n",
"lamda=500*10**-9;    //wavelength(m)\n",
"n=10;\n",
"D10=2*10**-3;     //diameter(m)\n",
"\n",
"//Calculation\n",
"r10=D10/2;    //radius(m)\n",
"R=D10**2/(4*n*lamda);\n",
"t=r10**2/(2*R);        //thickness(m)\n",
"\n",
"//Result\n",
"printf('thickness is %0.3f    micro m \n',t*10**6)"
   ]
   }
,
{
		   "cell_type": "markdown",
		   "metadata": {},
		   "source": [
			"## Example 14.8: fringe_width.sce"
		   ]
		  },
  {
"cell_type": "code",
	   "execution_count": null,
	   "metadata": {
	    "collapsed": true
	   },
	   "outputs": [],
"source": [
"\n",
"//Variable declaration\n",
"d=0.2*10**-3;     //seperation(m)\n",
"lamda=550*10**-9;    //wavelength(m)\n",
"D=1;     //diameter(m)\n",
"\n",
"//Calculation\n",
"beta=lamda*D/d;     //fringe width(m)\n",
"\n",
"//Result\n",
"printf('fringe width is %0.3f   mm  \n',beta*10**3)"
   ]
   }
,
{
		   "cell_type": "markdown",
		   "metadata": {},
		   "source": [
			"## Example 14.9: separation_between_slits.sce"
		   ]
		  },
  {
"cell_type": "code",
	   "execution_count": null,
	   "metadata": {
	    "collapsed": true
	   },
	   "outputs": [],
"source": [
"\n",
"//Variable declaration\n",
"lamda=500*10**-9;    //wavelength(m)\n",
"D=2;     //diameter(m)\n",
"beta=(5/100)*10**-2;     //fringe width(m)\n",
"\n",
"//Calculation\n",
"d=lamda*D/beta;      //separation between slits(m)\n",
"\n",
"//Result\n",
"printf('separation between slits is %0.3f   mm  \n',int(d*10**3))"
   ]
   }
],
"metadata": {
		  "kernelspec": {
		   "display_name": "Scilab",
		   "language": "scilab",
		   "name": "scilab"
		  },
		  "language_info": {
		   "file_extension": ".sce",
		   "help_links": [
			{
			 "text": "MetaKernel Magics",
			 "url": "https://github.com/calysto/metakernel/blob/master/metakernel/magics/README.md"
			}
		   ],
		   "mimetype": "text/x-octave",
		   "name": "scilab",
		   "version": "0.7.1"
		  }
		 },
		 "nbformat": 4,
		 "nbformat_minor": 0
}
