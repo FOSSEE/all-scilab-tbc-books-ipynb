{
"cells": [
 {
		   "cell_type": "markdown",
	   "metadata": {},
	   "source": [
       "# Chapter 10: Lasers"
	   ]
	},
{
		   "cell_type": "markdown",
		   "metadata": {},
		   "source": [
			"## Example 10.1: energy_gap.sce"
		   ]
		  },
  {
"cell_type": "code",
	   "execution_count": null,
	   "metadata": {
	    "collapsed": true
	   },
	   "outputs": [],
"source": [
"\n",
"//Variable declaration\n",
"h=6.63*10**-34;      //planck's constant\n",
"c=3*10**8;      //velocity of light(m/s)\n",
"lamda=1.55*10**-6;     //wavelength(m)\n",
"e=1.6*10**-19;   \n",
"\n",
"//Calculation\n",
"Eg=h*c/(lamda*e);     //energy gap(eV)\n",
"\n",
"//Result\n",
"printf('energy gap is %0.3f   eV  \n',(Eg))"
   ]
   }
,
{
		   "cell_type": "markdown",
		   "metadata": {},
		   "source": [
			"## Example 10.2: wavelength.sce"
		   ]
		  },
  {
"cell_type": "code",
	   "execution_count": null,
	   "metadata": {
	    "collapsed": true
	   },
	   "outputs": [],
"source": [
"\n",
"//Variable declaration\n",
"h=6.63*10**-34;      //planck's constant\n",
"c=3*10**8;      //velocity of light(m/s)\n",
"Eg=1.44;     //energy gap(eV)\n",
"e=1.6*10**-19; \n",
"\n",
"//Calculation\n",
"lamda=h*c/(Eg*e);    //wavelength(m)\n",
"\n",
"//Result\n",
"printf('wavelength is %0.3f   angstrom  \n',(lamda*10**10))"
   ]
   }
],
"metadata": {
		  "kernelspec": {
		   "display_name": "Scilab",
		   "language": "scilab",
		   "name": "scilab"
		  },
		  "language_info": {
		   "file_extension": ".sce",
		   "help_links": [
			{
			 "text": "MetaKernel Magics",
			 "url": "https://github.com/calysto/metakernel/blob/master/metakernel/magics/README.md"
			}
		   ],
		   "mimetype": "text/x-octave",
		   "name": "scilab",
		   "version": "0.7.1"
		  }
		 },
		 "nbformat": 4,
		 "nbformat_minor": 0
}
