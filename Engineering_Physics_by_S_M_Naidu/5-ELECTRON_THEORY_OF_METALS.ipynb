{
"cells": [
 {
		   "cell_type": "markdown",
	   "metadata": {},
	   "source": [
       "# Chapter 5: ELECTRON THEORY OF METALS"
	   ]
	},
{
		   "cell_type": "markdown",
		   "metadata": {},
		   "source": [
			"## Example 5.10: mean_free_path.sce"
		   ]
		  },
  {
"cell_type": "code",
	   "execution_count": null,
	   "metadata": {
	    "collapsed": true
	   },
	   "outputs": [],
"source": [
"\n",
"//Variable declaration\n",
"EF=5.5*1.602*10**-19;     //fermi energy of silver(J)\n",
"tow=3.97*10**-14;    //relaxation time(s)\n",
"m=9.11*10**-31;     //mass(kg)\n",
"\n",
"//Calculation\n",
"vf=sqrt(2*EF/m);      //fermi velocity(m/s)\n",
"lamda=vf*tow;      //mean free path(m)\n",
"\n",
"//Result\n",
"printf('fermi velocity is %0.3f  *10**6 m/s   \n',(vf/10**6))\n",
"printf('mean free path is %0.3f   *10**-8 m  \n',(lamda*10**8))"
   ]
   }
,
{
		   "cell_type": "markdown",
		   "metadata": {},
		   "source": [
			"## Example 5.11: fermi_energy.sce"
		   ]
		  },
  {
"cell_type": "code",
	   "execution_count": null,
	   "metadata": {
	    "collapsed": true
	   },
	   "outputs": [],
"source": [
"\n",
"//Variable declaration\n",
"ne=1;    //number of electrons\n",
"M=107.9;   //atomic weight\n",
"D=10500;   //density(kg/m**3)\n",
"Na=6.025*10**26;   //avagadro number(per k mol)\n",
"m=9.11*10**-31;     //mass(kg)\n",
"h=6.63*10**-34;     //planck's constant\n",
"\n",
"//Calculation\n",
"n=ne*Na*D/M;    \n",
"x=h**2/(8*m);\n",
"y=(3/%pi)**(2/3);\n",
"Ef=x*y*n**(2/3);       //fermi energy(eV)   \n",
"\n",
"//Result\n",
"printf('fermi energy is %0.3f  *10**-19 J   \n',(Ef*10**19))"
   ]
   }
,
{
		   "cell_type": "markdown",
		   "metadata": {},
		   "source": [
			"## Example 5.12: drift_velocity_of_free_electrons.sce"
		   ]
		  },
  {
"cell_type": "code",
	   "execution_count": null,
	   "metadata": {
	    "collapsed": true
	   },
	   "outputs": [],
"source": [
"\n",
"//Variable declaration\n",
"A=10*10**-6;     //area(m**2)\n",
"ne=1;    //number of electrons\n",
"I=100;    //current(amperes)\n",
"w=63.5;   //atomic weight\n",
"e=1.6*10**-19;     //charge(c)\n",
"D=8.92*10**3;   //density(kg/m**3)\n",
"Na=6.02*10**26;   //avagadro number(per k mol)\n",
"\n",
"//Calculation\n",
"n=ne*Na*D/w;\n",
"J=I/A;\n",
"vd=J/(n*e);      //drift velocity of free electrons(m/s)\n",
"\n",
"//Result\n",
"printf('drift velocity of free electrons is %0.3f   *10**-3 m/s  \n',(vd*10**3))"
   ]
   }
,
{
		   "cell_type": "markdown",
		   "metadata": {},
		   "source": [
			"## Example 5.1: temperature.sce"
		   ]
		  },
  {
"cell_type": "code",
	   "execution_count": null,
	   "metadata": {
	    "collapsed": true
	   },
	   "outputs": [],
"source": [
"\n",
"//Variable declaration\n",
"fE=1/100;    //probability(%)\n",
"E_EF=0.5;    //fermi energy(eV)\n",
"Kb=1.38*10**-23;    //boltzmann constant\n",
"e=6.24*10**18;      //conversion faction from J to eV\n",
"\n",
"//Calculation\n",
"x=E_EF/(Kb*e);\n",
"y=log(1/fE);\n",
"T=x/y;        //temperature(K)\n",
"\n",
"//Result\n",
"printf('temperature is %0.3f    K \n',(T))\n",
"printf('answer varies due to approximating off errors\n')"
   ]
   }
,
{
		   "cell_type": "markdown",
		   "metadata": {},
		   "source": [
			"## Example 5.2: total_number_of_free_electrons.sce"
		   ]
		  },
  {
"cell_type": "code",
	   "execution_count": null,
	   "metadata": {
	    "collapsed": true
	   },
	   "outputs": [],
"source": [
"\n",
"//Variable declaration\n",
"Ef=7*1.602*10**-19;     //fermi energy(J)\n",
"h=6.63*10**-34;     //planck's constant\n",
"m=9.11*10**-31;     //mass(kg)\n",
"\n",
"//Calculation\n",
"x=h**2/(8*m);\n",
"y=(3/%pi)**(2/3);\n",
"n23=Ef/(x*y);\n",
"n=n23**(3/2);       //total number of free electrons(per m**3)\n",
"\n",
"//Result\n",
"printf('total number of free electrons is %0.3f     **10**28 per m**3\n',(n/10**28))\n",
"printf('answer varies due to approximating off errors\n')"
   ]
   }
,
{
		   "cell_type": "markdown",
		   "metadata": {},
		   "source": [
			"## Example 5.3: relaxation_time.sce"
		   ]
		  },
  {
"cell_type": "code",
	   "execution_count": null,
	   "metadata": {
	    "collapsed": true
	   },
	   "outputs": [],
"source": [
"\n",
"//Variable declaration\n",
"rho=1.54*10**-8;     //resistivity of metal(ohm m)\n",
"n=5.8*10**28;     //number of free electrons(per m**3)\n",
"e=1.602*10**-19;     //charge(c)\n",
"m=9.11*10**-31;     //mass(kg)\n",
"\n",
"//Calculation\n",
"tow=m/(n*e**2*rho);       //relaxation time(s)\n",
"\n",
"//Result\n",
"printf('relaxation time is %0.3f  *10**-15 s   \n',(tow*10**15))\n",
"printf('answer varies due to approximating off errors\n')"
   ]
   }
,
{
		   "cell_type": "markdown",
		   "metadata": {},
		   "source": [
			"## Example 5.4: relaxation_time.sce"
		   ]
		  },
  {
"cell_type": "code",
	   "execution_count": null,
	   "metadata": {
	    "collapsed": true
	   },
	   "outputs": [],
"source": [
"\n",
"//Variable declaration\n",
"rho=1.43*10**-8;     //resistivity of metal(ohm m)\n",
"n=6.5*10**28;     //number of free electrons(per m**3)\n",
"e=1.6*10**-19;     //charge(c)\n",
"m=9.1*10**-31;     //mass(kg)\n",
"\n",
"//Calculation\n",
"tow=m/(n*e**2*rho);       //relaxation time(s)\n",
"\n",
"//Result\n",
"printf('relaxation time is %0.3f   *10**-14 s  \n',(tow*10**14))"
   ]
   }
,
{
		   "cell_type": "markdown",
		   "metadata": {},
		   "source": [
			"## Example 5.5: drift_velocity.sce"
		   ]
		  },
  {
"cell_type": "code",
	   "execution_count": null,
	   "metadata": {
	    "collapsed": true
	   },
	   "outputs": [],
"source": [
"\n",
"//Variable declaration\n",
"L=5;    //length(m)\n",
"R=0.06;    //resistance(ohm)\n",
"I=15;      //current(A)\n",
"ne=3;    //number of electrons\n",
"rho=2.7*10**-8;   //resistivity(ohm m)\n",
"w=26.98;   //atomic weight\n",
"D=2.7*10**3;   //density(kg/m**3)\n",
"Na=6.025*10**26;   //avagadro number(per k mol)\n",
"e=1.6*10**-19; \n",
"//Calculation\n",
"n=ne*Na*D/w;       //number of conduction electrons(per m**3)\n",
"mew=1/(n*e*rho);    //mobility of electrons(m**2/Vs)\n",
"vd=I*R/(L*rho*n*e);     //drift velocity(m/s)\n",
"\n",
"//Result\n",
"printf('number of conduction electrons is %0.3f  *10**29 per m**3   \n',(n/10**29))\n",
"printf('mobility of electrons is %0.3f   m**2/Vs  \n',(mew))\n",
"printf('drift velocity is %0.3f    *10**-4 m/s\n',(vd*10**4))"
   ]
   }
,
{
		   "cell_type": "markdown",
		   "metadata": {},
		   "source": [
			"## Example 5.6: mobility_of_electrons.sce"
		   ]
		  },
  {
"cell_type": "code",
	   "execution_count": null,
	   "metadata": {
	    "collapsed": true
	   },
	   "outputs": [],
"source": [
"\n",
"//Variable declaration\n",
"ne=1;    //number of electrons\n",
"rho=1.73*10**-8;   //resistivity(ohm m)\n",
"w=63.5;   //atomic weight\n",
"e=1.6*10**-19;     //charge(c)\n",
"D=8.92*10**3;   //density(kg/m**3)\n",
"Na=6.02*10**26;   //avagadro number(per k mol)\n",
"\n",
"//Calculation\n",
"n=ne*Na*D/w;\n",
"mew=1/(n*e*rho);     //mobility of electrons(m**2/Vs)\n",
"\n",
"//Result\n",
"printf('mobility of electrons is %0.3f   m**2/Vs  \n',(mew))\n",
"printf('answer in the book is wrong\n')"
   ]
   }
,
{
		   "cell_type": "markdown",
		   "metadata": {},
		   "source": [
			"## Example 5.7: mobility_of_electrons.sce"
		   ]
		  },
  {
"cell_type": "code",
	   "execution_count": null,
	   "metadata": {
	    "collapsed": true
	   },
	   "outputs": [],
"source": [
"\n",
"//Variable declaration\n",
"ne=1;    //number of electrons\n",
"rho=1.721*10**-8;   //resistivity(ohm m)\n",
"w=63.54;   //atomic weight\n",
"e=1.6*10**-19;     //charge(c)\n",
"D=8.95*10**3;   //density(kg/m**3)\n",
"Na=6.025*10**26;   //avagadro number(per k mol)\n",
"\n",
"//Calculation\n",
"n=ne*Na*D/w;\n",
"mew=1/(n*e*rho);     //mobility of electrons(m**2/Vs)\n",
"\n",
"//Result\n",
"printf('mobility of electrons is %0.3f   m**2/Vs  \n',(mew))\n",
"printf('answer in the book is wrong\n')"
   ]
   }
,
{
		   "cell_type": "markdown",
		   "metadata": {},
		   "source": [
			"## Example 5.8: relaxation_time.sce"
		   ]
		  },
  {
"cell_type": "code",
	   "execution_count": null,
	   "metadata": {
	    "collapsed": true
	   },
	   "outputs": [],
"source": [
"\n",
"//Variable declaration\n",
"rho=1.5*10**-8;     //resistivity of metal(ohm m)\n",
"n=6.5*10**28;     //number of free electrons(per m**3)\n",
"e=1.602*10**-19;     //charge(c)\n",
"m=9.11*10**-31;     //mass(kg)\n",
"\n",
"//Calculation\n",
"tow=m/(n*e**2*rho);       //relaxation time(s)\n",
"\n",
"//Result\n",
"printf('relaxation time is %0.3f   *10**-14 s  \n',(tow*10**14))"
   ]
   }
,
{
		   "cell_type": "markdown",
		   "metadata": {},
		   "source": [
			"## Example 5.9: thermal_velocity.sce"
		   ]
		  },
  {
"cell_type": "code",
	   "execution_count": null,
	   "metadata": {
	    "collapsed": true
	   },
	   "outputs": [],
"source": [
"\n",
"//Variable declaration\n",
"rho=1.54*10**-8;     //resistivity of metal(ohm m)\n",
"n=5.8*10**28;     //number of free electrons(per m**3)\n",
"e=1.602*10**-19;     //charge(c)\n",
"m=9.11*10**-31;     //mass(kg)\n",
"E=1*10**2;   //electric field(V/m)\n",
"Kb=1.381*10**-23;    //boltzmann constant\n",
"T=300;    //temperature(K)\n",
"\n",
"//Calculation\n",
"tow=m/(n*e**2*rho);       //relaxation time(s)\n",
"vd=e*E*tow/m;    //drift velocity(m/s)\n",
"mew=vd/E;        //mobility(m**2/Vs)\n",
"Vth=sqrt(3*Kb*T/m);    //thermal velocity(m/s)\n",
"\n",
"//Result\n",
"printf('relaxation time is %0.3f  *10**-14 s   \n',(tow*10**14))\n",
"printf('drift velocity is %0.3f    m/s \n',(vd))\n",
"printf('mobility is %0.3f   *10**-2 m**2/Vs  \n',(mew*10**2))\n",
"printf('thermal velocity is %0.3f   *10**5 m/s  \n',(Vth/10**5))"
   ]
   }
],
"metadata": {
		  "kernelspec": {
		   "display_name": "Scilab",
		   "language": "scilab",
		   "name": "scilab"
		  },
		  "language_info": {
		   "file_extension": ".sce",
		   "help_links": [
			{
			 "text": "MetaKernel Magics",
			 "url": "https://github.com/calysto/metakernel/blob/master/metakernel/magics/README.md"
			}
		   ],
		   "mimetype": "text/x-octave",
		   "name": "scilab",
		   "version": "0.7.1"
		  }
		 },
		 "nbformat": 4,
		 "nbformat_minor": 0
}
