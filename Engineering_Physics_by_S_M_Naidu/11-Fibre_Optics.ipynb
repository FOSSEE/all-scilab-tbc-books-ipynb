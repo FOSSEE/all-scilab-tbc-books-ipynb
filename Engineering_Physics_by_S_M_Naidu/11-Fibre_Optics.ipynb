{
"cells": [
 {
		   "cell_type": "markdown",
	   "metadata": {},
	   "source": [
       "# Chapter 11: Fibre Optics"
	   ]
	},
{
		   "cell_type": "markdown",
		   "metadata": {},
		   "source": [
			"## Example 11.10: fractional_refractive_indices_change.sce"
		   ]
		  },
  {
"cell_type": "code",
	   "execution_count": null,
	   "metadata": {
	    "collapsed": true
	   },
	   "outputs": [],
"source": [
"\n",
"//Variable declaration\n",
"n1=1.45;      //refractive index of core\n",
"n2=1.44;      //refractive index of cladding\n",
"\n",
"//Calculation\n",
"delta=(n1-n2)/n1;      //fractional refractive indices change\n",
"\n",
"//Result\n",
"printf('fractional refractive indices change is %0.3f  *10**-3   \n',(delta*10**3))"
   ]
   }
,
{
		   "cell_type": "markdown",
		   "metadata": {},
		   "source": [
			"## Example 11.11: Critical_angle.sce"
		   ]
		  },
  {
"cell_type": "code",
	   "execution_count": null,
	   "metadata": {
	    "collapsed": true
	   },
	   "outputs": [],
"source": [
"\n",
"//Variable declaration\n",
"n1=1.50;      //refractive index of core\n",
"delta=4/100;    //fractional refractive indices change\n",
"\n",
"//Calculation\n",
"n2=n1-(n1*delta);      //refractive index of cladding\n",
"NA=sqrt((n1**2)-(n2**2));     //numerical aperture\n",
"theta0=asin(NA);     //acceptance angle(radian)\n",
"theta0=theta0*180/%pi;    //acceptance angle(degrees)\n",
"theta0_m=60*(theta0-int(theta0));\n",
"thetac=asin(n2/n1);     //critical angle(radian)\n",
"thetac=thetac*180/%pi;    //critical angle(degrees)\n",
"thetac_m=60*(thetac-int(thetac));\n",
"\n",
"//Result\n",
"printf('refractive index of cladding is %0.3f     \n',n2)\n",
"printf('numerical aperture is %0.3f     \n',(NA))\n",
"printf('acceptance angle is %0.3f  degrees %0.3f  minutes  \n',int(theta0),int(theta0_m))\n",
"printf('critical angle is %0.3f    degrees %0.3f  minutes\n',int(thetac),int(thetac_m))"
   ]
   }
,
{
		   "cell_type": "markdown",
		   "metadata": {},
		   "source": [
			"## Example 11.12: Numerical_aperture.sce"
		   ]
		  },
  {
"cell_type": "code",
	   "execution_count": null,
	   "metadata": {
	    "collapsed": true
	   },
	   "outputs": [],
"source": [
"\n",
"//Variable declaration\n",
"n1=1.563;      //refractive index of core\n",
"n2=1.498;      //refractive index of cladding\n",
"\n",
"//Calculation\n",
"NA=sqrt((n1**2)-(n2**2));     //numerical aperture\n",
"theta0=asin(NA);     //acceptance angle(radian)\n",
"theta0=theta0*180/%pi;    //acceptance angle(degrees)\n",
"theta0_m=60*(theta0-int(theta0));\n",
"\n",
"//Result\n",
"printf('numerical aperture is %0.3f     \n',(NA))\n",
"printf('acceptance angle is %0.3f  degrees %0.3f minutes  \n',int(theta0),(theta0_m))\n",
"printf('answer varies due to approximating off errors\n')"
   ]
   }
,
{
		   "cell_type": "markdown",
		   "metadata": {},
		   "source": [
			"## Example 11.1: fractional_refractive_indices_change.sce"
		   ]
		  },
  {
"cell_type": "code",
	   "execution_count": null,
	   "metadata": {
	    "collapsed": true
	   },
	   "outputs": [],
"source": [
"\n",
"//Variable declaration\n",
"n1=1.48;      //refractive index of core\n",
"n2=1.45;      //refractive index of cladding\n",
"\n",
"//Calculation\n",
"NA=sqrt((n1**2)-(n2**2));     //numerical aperture\n",
"theta0=asin(NA);     //acceptance angle(radian)\n",
"theta0=theta0*180/%pi;    //acceptance angle(degrees)\n",
"theta0_m=60*(theta0-int(theta0));\n",
"thetac=asin(n2/n1);     //critical angle(radian)\n",
"thetac=thetac*180/%pi;    //critical angle(degrees)\n",
"thetac_m=60*(thetac-int(thetac));\n",
"delta=(n1-n2)/n1;      //fractional refractive indices change\n",
"\n",
"//Result\n",
"printf('numerical aperture is %0.3f     \n',(NA))\n",
"printf('acceptance angle is %0.3f   degrees %0.3f  minutes \n',int(theta0),(theta0_m))\n",
"printf('critical angle is %0.3f   degrees %0.3f minutes  \n',int(thetac),int(thetac_m))\n",
"printf('fractional refractive indices change is %0.3f     \n',(delta))"
   ]
   }
,
{
		   "cell_type": "markdown",
		   "metadata": {},
		   "source": [
			"## Example 11.2: Acceptance_angle.sce"
		   ]
		  },
  {
"cell_type": "code",
	   "execution_count": null,
	   "metadata": {
	    "collapsed": true
	   },
	   "outputs": [],
"source": [
"\n",
"//Variable declaration\n",
"n1=1.563;      //refractive index of core\n",
"n2=1.498;      //refractive index of cladding\n",
"\n",
"//Calculation\n",
"NA=sqrt((n1**2)-(n2**2));     //numerical aperture\n",
"theta0=asin(NA);     //acceptance angle(radian)\n",
"theta0=theta0*180/%pi;    //acceptance angle(degrees)\n",
"theta0_m=60*(theta0-int(theta0));\n",
"\n",
"//Result\n",
"printf('numerical aperture is %0.3f     \n',(NA))\n",
"printf('acceptance angle is %0.3f   degrees %0.3f  minutes\n',int(theta0),(theta0_m))\n",
"printf('answer varies due to approximating off errors\n')"
   ]
   }
,
{
		   "cell_type": "markdown",
		   "metadata": {},
		   "source": [
			"## Example 11.3: fractional_refractive_indices_change.sce"
		   ]
		  },
  {
"cell_type": "code",
	   "execution_count": null,
	   "metadata": {
	    "collapsed": true
	   },
	   "outputs": [],
"source": [
"\n",
"//Variable declaration\n",
"n1=1.563;      //refractive index of core\n",
"n2=1.498;      //refractive index of cladding\n",
"\n",
"//Calculation\n",
"delta=(n1-n2)/n1;      //fractional refractive indices change\n",
"\n",
"//Result\n",
"printf('fractional refractive indices change is %0.3f     \n',(delta))"
   ]
   }
,
{
		   "cell_type": "markdown",
		   "metadata": {},
		   "source": [
			"## Example 11.4: Numerical_aperture.sce"
		   ]
		  },
  {
"cell_type": "code",
	   "execution_count": null,
	   "metadata": {
	    "collapsed": true
	   },
	   "outputs": [],
"source": [
"\n",
"//Variable declaration\n",
"n1=1.55;      //refractive index of core\n",
"n2=1.50;      //refractive index of cladding\n",
"\n",
"//Calculation\n",
"NA=sqrt((n1**2)-(n2**2));     //numerical aperture\n",
"\n",
"//Result\n",
"printf('numerical aperture is %0.3f     \n',(NA))"
   ]
   }
,
{
		   "cell_type": "markdown",
		   "metadata": {},
		   "source": [
			"## Example 11.5: refractive_index.sce"
		   ]
		  },
  {
"cell_type": "code",
	   "execution_count": null,
	   "metadata": {
	    "collapsed": true
	   },
	   "outputs": [],
"source": [
"\n",
"//Variable declaration\n",
"NA=0.39;     //numerical aperture\n",
"n1_n2=0.05;    //difference in refractive indices\n",
"\n",
"//Calculation\n",
"x=NA**2/n1_n2;\n",
"n2=(x-n1_n2)/2;     //refractive index of cladding\n",
"n1=n2+n1_n2;      //refractive index of core\n",
"\n",
"//Result\n",
"printf('refractive index of core is %0.3f     \n',n1)\n",
"printf('refractive index of cladding is %0.3f     \n',n2)"
   ]
   }
,
{
		   "cell_type": "markdown",
		   "metadata": {},
		   "source": [
			"## Example 11.6: Numerical_aperture.sce"
		   ]
		  },
  {
"cell_type": "code",
	   "execution_count": null,
	   "metadata": {
	    "collapsed": true
	   },
	   "outputs": [],
"source": [
"\n",
"//Variable declaration\n",
"n1=1.55;      //refractive index of core\n",
"n2=1.50;      //refractive index of cladding\n",
"\n",
"//Calculation\n",
"NA=sqrt((n1**2)-(n2**2));     //numerical aperture\n",
"\n",
"//Result\n",
"printf('numerical aperture is %0.3f     \n',(NA))"
   ]
   }
,
{
		   "cell_type": "markdown",
		   "metadata": {},
		   "source": [
			"## Example 11.7: Acceptance_angle.sce"
		   ]
		  },
  {
"cell_type": "code",
	   "execution_count": null,
	   "metadata": {
	    "collapsed": true
	   },
	   "outputs": [],
"source": [
"\n",
"//Variable declaration\n",
"n1=1.48;      //refractive index of core\n",
"n2=1.45;      //refractive index of cladding\n",
"\n",
"//Calculation\n",
"NA=sqrt((n1**2)-(n2**2));     //numerical aperture\n",
"theta0=asin(NA);     //acceptance angle(radian)\n",
"theta0=theta0*180/%pi;    //acceptance angle(degrees)\n",
"theta0_m=60*(theta0-int(theta0));\n",
"\n",
"//Result\n",
"printf('numerical aperture is %0.3f     \n',(NA))\n",
"printf('acceptance angle is %0.3f    degrees %0.3f minutes \n',int(theta0),(theta0_m))"
   ]
   }
,
{
		   "cell_type": "markdown",
		   "metadata": {},
		   "source": [
			"## Example 11.8: refractive_index.sce"
		   ]
		  },
  {
"cell_type": "code",
	   "execution_count": null,
	   "metadata": {
	    "collapsed": true
	   },
	   "outputs": [],
"source": [
"\n",
"//Variable declaration\n",
"NA=0.33;     //numerical aperture\n",
"delta=0.02;     //fractional refractive indices change\n",
"\n",
"//Calculation\n",
"x=1-delta\n",
"y=sqrt(1-x**2);\n",
"n1=NA/y;       //refractive index of core\n",
"n2=n1*x;       //refractive index of cladding\n",
"\n",
"//Result\n",
"printf('refractive index of core is %0.3f     \n',(n1))\n",
"printf('refractive index of cladding is %0.3f     \n',(n2))"
   ]
   }
,
{
		   "cell_type": "markdown",
		   "metadata": {},
		   "source": [
			"## Example 11.9: Acceptance_angle.sce"
		   ]
		  },
  {
"cell_type": "code",
	   "execution_count": null,
	   "metadata": {
	    "collapsed": true
	   },
	   "outputs": [],
"source": [
"\n",
"//Variable declaration\n",
"NA=0.20;     //numerical aperture\n",
"n2=1.59;     //refractive index of cladding\n",
"n0=1.33;     //refractive index of water\n",
"\n",
"//Calculation\n",
"n1=sqrt(NA**2+n2**2);      //refractive index of core\n",
"theta0=asin(NA/n0);       //acceptance angle(radian)\n",
"theta0=theta0*180/%pi;    //acceptance angle(degrees)\n",
"theta0_m=60*(theta0-int(theta0));\n",
"theta0_s=60*(theta0_m-int(theta0_m));\n",
"\n",
"//Result\n",
"printf('acceptance angle is %0.3f   degrees %0.3f  minutes %0.3f seconds  \n',int(theta0),int(theta0_m),(theta0_s))\n",
"printf('answer varies due to approximating off errors\n')"
   ]
   }
],
"metadata": {
		  "kernelspec": {
		   "display_name": "Scilab",
		   "language": "scilab",
		   "name": "scilab"
		  },
		  "language_info": {
		   "file_extension": ".sce",
		   "help_links": [
			{
			 "text": "MetaKernel Magics",
			 "url": "https://github.com/calysto/metakernel/blob/master/metakernel/magics/README.md"
			}
		   ],
		   "mimetype": "text/x-octave",
		   "name": "scilab",
		   "version": "0.7.1"
		  }
		 },
		 "nbformat": 4,
		 "nbformat_minor": 0
}
