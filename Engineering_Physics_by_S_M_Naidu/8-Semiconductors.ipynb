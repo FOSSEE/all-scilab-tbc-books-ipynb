{
"cells": [
 {
		   "cell_type": "markdown",
	   "metadata": {},
	   "source": [
       "# Chapter 8: Semiconductors"
	   ]
	},
{
		   "cell_type": "markdown",
		   "metadata": {},
		   "source": [
			"## Example 8.10: conductivity.sce"
		   ]
		  },
  {
"cell_type": "code",
	   "execution_count": null,
	   "metadata": {
	    "collapsed": true
	   },
	   "outputs": [],
"source": [
"\n",
"//Variable declaration\n",
"mewe=0.14;     //mobility of electrons(m**2/Vs)\n",
"mewh=0.05;    //mobility of holes(m**2/Vs)\n",
"e=1.6*10**-19;\n",
"ni=1.5*10**16;     //intrinsic concentration(per m**3)\n",
"A=28.09;     //atomic weight\n",
"D=2.33*10**3;    //density(kg/m**3)\n",
"Na=6.025*10**26;    //avagadro number\n",
"\n",
"//Calculation\n",
"N=Na*D/A;    //number of atoms(per m**3)\n",
"n=N/10**8;    //electron concentration(per m**3)\n",
"p=ni**2/n;    //hole concentration(per m**3)\n",
"sigma=e*((n*mewe)+(p*mewh));     //conductivity(per ohm m)  \n",
"\n",
"//Result\n",
"printf('conductivity is %0.3f   per ohm m\n  \n',(sigma)  )"
   ]
   }
,
{
		   "cell_type": "markdown",
		   "metadata": {},
		   "source": [
			"## Example 8.11: resistivity.sce"
		   ]
		  },
  {
"cell_type": "code",
	   "execution_count": null,
	   "metadata": {
	    "collapsed": true
	   },
	   "outputs": [],
"source": [
"\n",
"//Variable declaration\n",
"mewe=0.36;     //mobility of electrons(m**2/Vs)\n",
"mewh=0.18;    //mobility of holes(m**2/Vs)\n",
"e=1.6*10**-19;\n",
"ni=2.5*10**19;     //intrinsic concentration(per m**3)\n",
"N=4.2*10**28;    //avagadro number\n",
"\n",
"//Calculation\n",
"n=N/10**6;    //electron concentration(per m**3)\n",
"p=ni**2/n;    //hole concentration(per m**3)\n",
"rhoi=1/(e*((n*mewe)+(p*mewh)));     //resistivity(per ohm m)  \n",
"\n",
"//Result\n",
"printf('resistivity is %0.3f   *10**-4 per ohm m  \n',(rhoi*10**4))"
   ]
   }
,
{
		   "cell_type": "markdown",
		   "metadata": {},
		   "source": [
			"## Example 8.12: hole_concentration.sce"
		   ]
		  },
  {
"cell_type": "code",
	   "execution_count": null,
	   "metadata": {
	    "collapsed": true
	   },
	   "outputs": [],
"source": [
"\n",
"//Variable declaration\n",
"np=2.4*10**9;    //carrier concentration(per m**3)\n",
"N=4.2*10**28;    //avagadro number\n",
"\n",
"//Calculation\n",
"p=np/2;     //hole concentration(per m**3)\n",
"\n",
"//Result\n",
"printf('hole concentration is %0.3f  *10**9 per m**3   \n',p/10**9)"
   ]
   }
,
{
		   "cell_type": "markdown",
		   "metadata": {},
		   "source": [
			"## Example 8.13: density_of_donor_atoms.sce"
		   ]
		  },
  {
"cell_type": "code",
	   "execution_count": null,
	   "metadata": {
	    "collapsed": true
	   },
	   "outputs": [],
"source": [
"\n",
"//Variable declaration\n",
"mewn=0.35;     //mobility of electrons(m**2/Vs)\n",
"e=1.602*10**-19;\n",
"rho=0.2;    //resistivity(ohm m)\n",
"\n",
"//Calculation\n",
"n=1/(rho*e*mewn);      //density of donor atoms\n",
"\n",
"//Result\n",
"printf('density of donor atoms is %0.3f  *10**19 electrons/m**3   \n',(n/10**19))"
   ]
   }
,
{
		   "cell_type": "markdown",
		   "metadata": {},
		   "source": [
			"## Example 8.14: energy_gap.sce"
		   ]
		  },
  {
"cell_type": "code",
	   "execution_count": null,
	   "metadata": {
	    "collapsed": true
	   },
	   "outputs": [],
"source": [
"\n",
"//Variable declaration\n",
"Kb=1.38*10**-23;    //boltzmann constant\n",
"T1=300;    //temperature(K)\n",
"T2=320;    //temperature(K)\n",
"rho1=5;    //resistivity(ohm m)\n",
"rho2=2.5;    //resistivity(ohm m)\n",
"e=1.6*10**-19; \n",
"//Calculation\n",
"Eg=2*Kb*log(rho1/rho2)/((1/T1)-(1/T2));     //energy gap(J)\n",
"\n",
"//Result\n",
"printf('energy gap is %0.3f   eV  \n',(Eg/e))"
   ]
   }
,
{
		   "cell_type": "markdown",
		   "metadata": {},
		   "source": [
			"## Example 8.15: diffusion_coefficient.sce"
		   ]
		  },
  {
"cell_type": "code",
	   "execution_count": null,
	   "metadata": {
	    "collapsed": true
	   },
	   "outputs": [],
"source": [
"\n",
"//Variable declaration\n",
"Kb=1.38*10**-23;    //boltzmann constant\n",
"T=300;    //temperature(K)\n",
"mewe=0.19;     //mobility of electrons(m**2/Vs)\n",
"e=1.6*10**-19;\n",
"\n",
"//Calculation\n",
"Dn=mewe*Kb*T/e;      //diffusion coefficient(m**2/sec)\n",
"\n",
"//Result\n",
"printf('diffusion coefficient is %0.3f  *10**-3 m**2/sec   \n',(Dn*10**3))"
   ]
   }
,
{
		   "cell_type": "markdown",
		   "metadata": {},
		   "source": [
			"## Example 8.16: energy_gap.sce"
		   ]
		  },
  {
"cell_type": "code",
	   "execution_count": null,
	   "metadata": {
	    "collapsed": true
	   },
	   "outputs": [],
"source": [
"\n",
"//Variable declaration\n",
"Kb=1.38*10**-23;    //boltzmann constant\n",
"T1=293;    //temperature(K)\n",
"T2=305;    //temperature(K)\n",
"rho1=4.5;    //resistivity(ohm m)\n",
"rho2=2.0;    //resistivity(ohm m)\n",
"e=1.6*10**-19; \n",
"//Calculation\n",
"Eg=2*Kb*log(rho1/rho2)/((1/T1)-(1/T2));     //energy gap(J)\n",
"\n",
"//Result\n",
"printf('energy gap is %0.3f  eV   \n',(Eg/e))"
   ]
   }
,
{
		   "cell_type": "markdown",
		   "metadata": {},
		   "source": [
			"## Example 8.1: resistivity.sce"
		   ]
		  },
  {
"cell_type": "code",
	   "execution_count": null,
	   "metadata": {
	    "collapsed": true
	   },
	   "outputs": [],
"source": [
"\n",
"//Variable declaration\n",
"ni=2.5*10**19;     //intrinsic concentration(per m**3)\n",
"mewn=0.4;     //mobility of electrons(m**2/Vs)\n",
"mewp=0.2;    //mobility of holes(m**2/Vs)\n",
"e=1.6*10**-19;\n",
"\n",
"//Calculation\n",
"sigma_i=ni*e*(mewn+mewp);\n",
"rhoi=1/sigma_i;     //resistivity(ohm m)\n",
"\n",
"//Result\n",
"printf('resistivity is %0.3f   ohm m  \n',(rhoi))"
   ]
   }
,
{
		   "cell_type": "markdown",
		   "metadata": {},
		   "source": [
			"## Example 8.2: number_of_donor_atoms.sce"
		   ]
		  },
  {
"cell_type": "code",
	   "execution_count": null,
	   "metadata": {
	    "collapsed": true
	   },
	   "outputs": [],
"source": [
"\n",
"//Variable declaration\n",
"mewn=0.3;     //mobility of electrons(m**2/Vs)\n",
"rho=0.25;     //resistivity(ohm m)\n",
"e=1.6*10**-19;\n",
"\n",
"//Calculation\n",
"n=1/(rho*e*mewn);    //number of donor atoms(per m**3)\n",
"\n",
"//Result\n",
"printf('number of donor atoms is %0.3f   *10**19 per m**3  \n',(n/10**19))"
   ]
   }
,
{
		   "cell_type": "markdown",
		   "metadata": {},
		   "source": [
			"## Example 8.3: diffusion_coefficient.sce"
		   ]
		  },
  {
"cell_type": "code",
	   "execution_count": null,
	   "metadata": {
	    "collapsed": true
	   },
	   "outputs": [],
"source": [
"\n",
"//Variable declaration\n",
"mewn=0.21;     //mobility of electrons(m**2/Vs)\n",
"e=1.6*10**-19;\n",
"Kb=1.38*10**-23;    //boltzmann constant\n",
"T=300;    //temperature(K)\n",
"\n",
"//Calculation\n",
"Dn=mewn*Kb*T/e;     //diffusion coefficient of electrons(m**2/s)\n",
"\n",
"//Result\n",
"printf('diffusion coefficient of electrons is %0.3f  *10**-4 m**2/s   \n',(Dn*10**4))"
   ]
   }
,
{
		   "cell_type": "markdown",
		   "metadata": {},
		   "source": [
			"## Example 8.4: mobility_of_holes.sce"
		   ]
		  },
  {
"cell_type": "code",
	   "execution_count": null,
	   "metadata": {
	    "collapsed": true
	   },
	   "outputs": [],
"source": [
"\n",
"//Variable declaration\n",
"Rh=3.22*10**-4;    //hall coefficient(m**3/C)\n",
"e=1.6*10**-19;\n",
"rho=8.5*10**-3;    //resistivity(ohm m)\n",
"\n",
"//Calculation\n",
"p=1/(Rh*e);      //carrier concentration(per m**3)\n",
"mewp=Rh/rho;     //mobility of holes(m**2/Vs)\n",
"\n",
"//Result\n",
"printf('carrier concentration is %0.3f    *10**21 per m**3 \n',(p/10**21))\n",
"printf('//mobility of holes is %0.3f     m**2/Vs\n',(mewp))"
   ]
   }
,
{
		   "cell_type": "markdown",
		   "metadata": {},
		   "source": [
			"## Example 8.5: intrinsic_concentration.sce"
		   ]
		  },
  {
"cell_type": "code",
	   "execution_count": null,
	   "metadata": {
	    "collapsed": true
	   },
	   "outputs": [],
"source": [
"\n",
"//Variable declaration\n",
"mewe=0.36;     //mobility of electrons(m**2/Vs)\n",
"mewh=0.17;    //mobility of holes(m**2/Vs)\n",
"e=1.6*10**-19;\n",
"rhoi=2.12;    //resistivity(ohm m)\n",
"\n",
"//Calculation\n",
"ni=1/(rhoi*e*(mewe+mewh));     //intrinsic concentration(per m**3)\n",
"\n",
"//Result\n",
"printf('intrinsic concentration is %0.3f    *10**16 per m**3 \n',(ni/10**16))"
   ]
   }
,
{
		   "cell_type": "markdown",
		   "metadata": {},
		   "source": [
			"## Example 8.6: resistivity.sce"
		   ]
		  },
  {
"cell_type": "code",
	   "execution_count": null,
	   "metadata": {
	    "collapsed": true
	   },
	   "outputs": [],
"source": [
"//variable declaration\n",
"mewe=0.39;     //mobility of electrons(m**2/Vs)\n",
"mewh=0.19;    //mobility of holes(m**2/Vs)\n",
"e=1.6*10**-19;\n",
"ni=2.4*10**19;     //intrinsic concentration(per m**3)  \n",
"\n",
"//Calculation\n",
"rhoi=1/(ni*e*(mewe+mewh));           //resistivity(ohm m)     \n",
"\n",
"//Result\n",
"printf('resistivity is %0.3f  ohm m   \n',(rhoi))"
   ]
   }
,
{
		   "cell_type": "markdown",
		   "metadata": {},
		   "source": [
			"## Example 8.7: conductivity.sce"
		   ]
		  },
  {
"cell_type": "code",
	   "execution_count": null,
	   "metadata": {
	    "collapsed": true
	   },
	   "outputs": [],
"source": [
"\n",
"//Variable declaration\n",
"mewe=0.135;     //mobility of electrons(m**2/Vs)\n",
"mewh=0.048;    //mobility of holes(m**2/Vs)\n",
"e=1.6*10**-19;\n",
"ni=1.5*10**16;     //intrinsic concentration(per m**3)\n",
"Nd=10**23;         //doping concentration(per m**3)\n",
"\n",
"//Calculation\n",
"sigma=ni*e*(mewe+mewh);     //conductivity(per ohm m)    \n",
"p=ni**2/Nd;      //hole concentration(per m**3)\n",
"sigman=Nd*e*mewe;     //conductivity(per ohm m)  \n",
"\n",
"//Result\n",
"printf('conductivity is %0.3f   *10**-3 per ohm m  \n',(sigma*10**3))\n",
"printf('hole concentration is %0.3f  *10**9 per m**3   \n',p/10**9)\n",
"printf('conductivity is %0.3f   *10**3 per ohm m  \n',sigman/10**3)"
   ]
   }
,
{
		   "cell_type": "markdown",
		   "metadata": {},
		   "source": [
			"## Example 8.8: carrier_concentration.sce"
		   ]
		  },
  {
"cell_type": "code",
	   "execution_count": null,
	   "metadata": {
	    "collapsed": true
	   },
	   "outputs": [],
"source": [
"\n",
"//Variable declaration\n",
"Rh=3.66*10**-4;    //hall coefficient(m**3/C)\n",
"e=1.6*10**-19;\n",
"rhoh=8.93*10**-3;    //resistivity(ohm m)\n",
"\n",
"//Calculation\n",
"p=1/(Rh*e);      //carrier concentration(per m**3)\n",
"mewp=Rh/rhoh;     //mobility of holes(m**2/Vs)\n",
"\n",
"//Result\n",
"printf('carrier concentration is %0.3f *10**22 per m**3    \n',(p/10**22))\n",
"printf('//mobility of holes is %0.3f   *10**-2 m**2/Vs  \n',(mewp*10**2))"
   ]
   }
,
{
		   "cell_type": "markdown",
		   "metadata": {},
		   "source": [
			"## Example 8.9: conductivity.sce"
		   ]
		  },
  {
"cell_type": "code",
	   "execution_count": null,
	   "metadata": {
	    "collapsed": true
	   },
	   "outputs": [],
"source": [
"\n",
"//Variable declaration\n",
"mewe=0.13;     //mobility of electrons(m**2/Vs)\n",
"mewh=0.05;    //mobility of holes(m**2/Vs)\n",
"e=1.6*10**-19;\n",
"ni=1.5*10**16;     //intrinsic concentration(per m**3)\n",
"\n",
"//Calculation\n",
"sigma=ni*e*(mewe+mewh);     //conductivity(per ohm m)  \n",
"\n",
"//Result\n",
"printf('conductivity is %0.3f  *10**-4 per ohm m   \n',sigma*10**4)  "
   ]
   }
],
"metadata": {
		  "kernelspec": {
		   "display_name": "Scilab",
		   "language": "scilab",
		   "name": "scilab"
		  },
		  "language_info": {
		   "file_extension": ".sce",
		   "help_links": [
			{
			 "text": "MetaKernel Magics",
			 "url": "https://github.com/calysto/metakernel/blob/master/metakernel/magics/README.md"
			}
		   ],
		   "mimetype": "text/x-octave",
		   "name": "scilab",
		   "version": "0.7.1"
		  }
		 },
		 "nbformat": 4,
		 "nbformat_minor": 0
}
