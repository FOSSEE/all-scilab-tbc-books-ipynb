{
"cells": [
 {
		   "cell_type": "markdown",
	   "metadata": {},
	   "source": [
       "# Chapter 1: Bonding in Solids"
	   ]
	},
{
		   "cell_type": "markdown",
		   "metadata": {},
		   "source": [
			"## Example 1.1: bond_energy.sce"
		   ]
		  },
  {
"cell_type": "code",
	   "execution_count": null,
	   "metadata": {
	    "collapsed": true
	   },
	   "outputs": [],
"source": [
"\n",
"//Variable declaration\n",
"e=1.6*10**-19;   //charge of electron(c)\n",
"epsilon0=8.85*10**-12;    //permittivity(C/Nm)\n",
"r0=236*10**-12;     //seperation(m)\n",
"IE=5.14;     //ionisation energy of Na(eV)\n",
"Ea=-3.65;     //electron affinity(eV)\n",
"\n",
"//Calculation\n",
"V=-e**2/(4*e*%pi*epsilon0*r0);     \n",
"BE=IE+Ea+(V);       //bond energy(eV)\n",
"\n",
"//Result\n",
"printf('bond energy is %0.3f    eV    \n',(BE))"
   ]
   }
,
{
		   "cell_type": "markdown",
		   "metadata": {},
		   "source": [
			"## Example 1.2: total_cohesive_energy.sce"
		   ]
		  },
  {
"cell_type": "code",
	   "execution_count": null,
	   "metadata": {
	    "collapsed": true
	   },
	   "outputs": [],
"source": [
"\n",
"//Variable declaration\n",
"e=1.602*10**-19;   //charge of electron(c)\n",
"epsilon0=8.85*10**-12;    //permittivity(C/Nm)\n",
"r0=0.314*10**-9;     //seperation(m)\n",
"A=1.75;    //madelung constant\n",
"n=5.77;    //repulsive exponent value\n",
"IE=4.1;     //ionisation energy of K(eV)\n",
"Ea=3.6;     //electron affinity(eV)\n",
"\n",
"//Calculation\n",
"E=-A*e**2*(1-(1/n))/(4*e*%pi*epsilon0*r0);      //energy(eV)\n",
"Ce=E/2;      //cohesive energy per atom(eV)\n",
"x=IE-Ea;     //energy(eV)\n",
"CE=Ce+(x/2);    //total cohesive energy per atom(eV)\n",
"\n",
"//Result\n",
"printf('total cohesive energy per atom is %0.3f     eV   \n',(CE))\n",
"printf('answer varies due to ing off errors')"
   ]
   }
,
{
		   "cell_type": "markdown",
		   "metadata": {},
		   "source": [
			"## Example 1.3: cohesive_energy.sce"
		   ]
		  },
  {
"cell_type": "code",
	   "execution_count": null,
	   "metadata": {
	    "collapsed": true
	   },
	   "outputs": [],
"source": [
"\n",
"//Variable declaration\n",
"e=1.602*10**-19;   //charge of electron(c)\n",
"epsilon0=8.85*10**-12;    //permittivity(C/Nm)\n",
"r0=0.281*10**-9;     //seperation(m)\n",
"alpham=1.748;    //madelung constant\n",
"n=9;    //repulsive exponent value\n",
"\n",
"//Calculation\n",
"E=-alpham*e**2*(1-(1/n))/(4*e*%pi*epsilon0*r0);      //cohesive energy(eV)\n",
"\n",
"//Result\n",
"printf('cohesive energy is %0.3f  eV      \n',(E))"
   ]
   }
,
{
		   "cell_type": "markdown",
		   "metadata": {},
		   "source": [
			"## Example 1.4: potential_energy.sce"
		   ]
		  },
  {
"cell_type": "code",
	   "execution_count": null,
	   "metadata": {
	    "collapsed": true
	   },
	   "outputs": [],
"source": [
"\n",
"//Variable declaration\n",
"e=1.6*10**-19;   //charge of electron(c)\n",
"epsilon0=8.85*10**-12;    //permittivity(C/Nm)\n",
"r0=2.5*10**-10;     //seperation(m)\n",
"\n",
"//Calculation\n",
"PE=e**2/(4*e*%pi*epsilon0*r0);     //potential energy(eV)\n",
"\n",
"//Result\n",
"printf('potential energy is %0.3f   eV  \n',(PE))"
   ]
   }
,
{
		   "cell_type": "markdown",
		   "metadata": {},
		   "source": [
			"## Example 1.5: cohesive_energy.sce"
		   ]
		  },
  {
"cell_type": "code",
	   "execution_count": null,
	   "metadata": {
	    "collapsed": true
	   },
	   "outputs": [],
"source": [
"\n",
"//Variable declaration\n",
"m=1;\n",
"n=9;     //repulsive exponent value\n",
"a=1.748*10**-28;     \n",
"r0=0.281*10**-9;     //seperation(m)\n",
"e=1.6*10**-19; \n",
"//Calculation\n",
"Ur0=-a*(1-(m/n))/(e*r0**m);    //cohesive energy(eV)\n",
"\n",
"//Result\n",
"printf('cohesive energy is %0.3f   eV  \n',(Ur0))"
   ]
   }
,
{
		   "cell_type": "markdown",
		   "metadata": {},
		   "source": [
			"## Example 1.6: cohesive_energy.sce"
		   ]
		  },
  {
"cell_type": "code",
	   "execution_count": null,
	   "metadata": {
	    "collapsed": true
	   },
	   "outputs": [],
"source": [
"\n",
"//Variable declaration\n",
"e=1.6*10**-19;   //charge of electron(c)\n",
"epsilon0=8.85*10**-12;    //permittivity(C/Nm)\n",
"r0=0.281*10**-9;     //seperation(m)\n",
"IE=5.14;     //ionisation energy of Na(eV)\n",
"Ea=-3.61;     //electron affinity(eV)\n",
"\n",
"//Calculation\n",
"V=-e**2/(4*e*%pi*epsilon0*r0);     \n",
"CE=IE+Ea+(V);       //cohesive energy(eV)\n",
"\n",
"//Result\n",
"printf('cohesive energy is %0.3f   eV  \n',CE)"
   ]
   }
],
"metadata": {
		  "kernelspec": {
		   "display_name": "Scilab",
		   "language": "scilab",
		   "name": "scilab"
		  },
		  "language_info": {
		   "file_extension": ".sce",
		   "help_links": [
			{
			 "text": "MetaKernel Magics",
			 "url": "https://github.com/calysto/metakernel/blob/master/metakernel/magics/README.md"
			}
		   ],
		   "mimetype": "text/x-octave",
		   "name": "scilab",
		   "version": "0.7.1"
		  }
		 },
		 "nbformat": 4,
		 "nbformat_minor": 0
}
