{
"cells": [
 {
		   "cell_type": "markdown",
	   "metadata": {},
	   "source": [
       "# Chapter 1: ELECTRONS IN SOLIDS"
	   ]
	},
{
		   "cell_type": "markdown",
		   "metadata": {},
		   "source": [
			"## Example 1.10: BOLTZMANN_STATISTICS_AND_JOYCE_DIXON_APPROXIMATION.sce"
		   ]
		  },
  {
"cell_type": "code",
	   "execution_count": null,
	   "metadata": {
	    "collapsed": true
	   },
	   "outputs": [],
"source": [
"clc\n",
"disp('for temperature T1=77K')\n",
"kBT1=0.0067\n",
"disp('kBT1 = '+string(kBT1)+'eV') //initializing value of multiplication of boltzmann constant and temperature T1\n",
"n1 = 10^19\n",
"disp('n1 = '+string(n1)+'cm^-3') //initializing value of density of electron\n",
"Nc1 = 3.34*10^18\n",
"disp('Nc1 = '+string(Nc1)+'cm^-3') //initializing value of effective density of electron\n",
"Ef1= kBT1*((log(n1/Nc1)))\n",
"disp('The fermi level at 77K (using boltzmann static) is ,Ef1(B)= kBT1*((log(n1/Nc1)))= '+string(Ef1)+'eV')//calculation\n",
"Ef2= kBT1*((log(n1/Nc1))+(1/sqrt(8))*(n1/Nc1))\n",
"disp('The fermi level at 77K (using Joyce-Dixon static) is ,Ef1(J)= kBT1*((log(n1/Nc1))+(1/sqrt(8))*(n1/Nc1))= '+string(Ef2)+'eV')//calculation\n",
"disp('for temperature T2=300K')\n",
"kBT2=0.026\n",
"disp('kBT2 = '+string(kBT2)+'eV') //initializing value of multiplication of boltzmann constant and temperature T2\n",
"Nc2 = 2.56*10^19\n",
"disp('Nc2 = '+string(Nc2)+'cm^-3') //initializing value of effective density of electron\n",
"Ef3= kBT2*((log(n1/Nc2)))\n",
"disp('The fermi level at 300K (using boltzmann static) is ,Ef2(B)= kBT2*((log(n1/Nc2)))= '+string(Ef3)+'eV')//calculation\n",
"Ef4= kBT2*((log(n1/Nc2))+(1/sqrt(8))*(n1/Nc2))\n",
"disp('The fermi level at 300K (using Joyce-Dixon static) is ,Ef2(J)= kBT2*((log(n1/Nc2))+(1/sqrt(8))*(n1/Nc2))= '+string(Ef4)+'eV')//calculation\n",
""
   ]
   }
,
{
		   "cell_type": "markdown",
		   "metadata": {},
		   "source": [
			"## Example 1.1: ELECTRON_DENSITY.sce"
		   ]
		  },
  {
"cell_type": "code",
	   "execution_count": null,
	   "metadata": {
	    "collapsed": true
	   },
	   "outputs": [],
"source": [
"clc\n",
"A1=27\n",
"disp('A1 = '+string(A1)+'amu') //initializing value of atomic mass of alluminium\n",
"AV = 6.023*10^23\n",
"disp('AV = '+string(AV)) //initializing value of avagadro number\n",
"N = 13\n",
"disp('N = '+string(N)) //initializing value of number of electrons of alluminium per atom\n",
"P1 = 2.7\n",
"disp('P1 = '+string(P1)+'gcm^-3') ////initializing value of density of alluminium\n",
"E1=AV*(N*P1/A1)\n",
"disp('Electrons density of alluminium,n(Al)=AV*(N*P1/A1))= '+string(E1)+' cm^-3')//calculation\n",
"A2=12\n",
"disp('A2 = '+string(A2)+'amu') //initializing value of atomic mass of carbon\n",
"N1 = 6\n",
"disp('N1 = '+string(N1)) //initializing value of number of electrons of carbon per atom\n",
"P2 = 3.515\n",
"disp('P2 = '+string(P2)+'gcm^-3') ////initializing value of density of carbon\n",
"E2=AV*(N1*P2/A2)\n",
"disp('Electrons density of carbon,n(C)=AV*(N1*P2/A2))= '+string(E2)+' cm^-3')//calculation\n",
"A3=28\n",
"disp('A3 = '+string(A3)+'amu') //initializing value of atomic mass of silicon\n",
"N2 = 14\n",
"disp('N2 = '+string(N2)) //initializing value of number of electrons of silicon per atom\n",
"P3 = 2.33\n",
"disp('P3 = '+string(P3)+'gcm^-3') ////initializing value of density of silicon\n",
"E3=AV*(N2*P3/A3)\n",
"disp('Electrons density of silicon,n(Si)=AV*(N2*P3/A3))= '+string(E3)+' cm^-3')//calculation\n",
"//using Drudes approach\n",
"disp('using Drudes approach')\n",
"Zc1=3\n",
"disp('Zc1 = '+string(Zc1)) ////initializing value of valence electron of alluminium atom\n",
"E4=AV*(Zc1*P1/A1)\n",
"disp('Electrons density of alluminium,n(Al)=AV*(Zc1*P1/A1))= '+string(E4)+' cm^-3')//calculation\n",
"Zc2=4\n",
"disp('Zc2 = '+string(Zc2)) ////initializing value of valence electron of carbon atom\n",
"E5=AV*(Zc2*P2/A2)\n",
"disp('Electrons density of carbon,n(C)=AV*(Zc2*P2/A2))= '+string(E5)+' cm^-3')//calculation\n",
"Zc3=4\n",
"disp('Zc3 = '+string(Zc3)) ////initializing value of valence electron of silicon atom\n",
"E6=AV*(Zc3*P3/A3)\n",
"disp('Electrons density of silicon,n(Si)=AV*(Zc3*P3/A3))= '+string(E6)+' cm^-3')//calculation"
   ]
   }
,
{
		   "cell_type": "markdown",
		   "metadata": {},
		   "source": [
			"## Example 1.2: Number_of_silcon_atom_in_cubic_centimeter.sce"
		   ]
		  },
  {
"cell_type": "code",
	   "execution_count": null,
	   "metadata": {
	    "collapsed": true
	   },
	   "outputs": [],
"source": [
"clc\n",
"// silicon has diomond structure which is made up of FCC lattice \n",
"N=4\n",
"disp('N = '+string(N)) //initializing value of number of points per cube of volume\n",
"A = 5.43*10^-8\n",
"disp('A = '+string(A)+'cm^-1') //initializing value of lattice constant of silicon\n",
"D = 2\n",
"disp('D = '+string(D)+'atoms') //initializing value of number of silicon atoms per lattice point\n",
"E1 = N*D/A^3\n",
"disp('number density of silicon,N(Si) = N*D/A^3)= '+string(E1)+' atomscm^-3')//calculation\n",
"//for gallium in GaAs there is 1 Ga atom and 1 As atom as per lattice point , it also has fcc structure\n",
"A1 = 5.65*10^-8\n",
"disp('A1 = '+string(A1)+'cm^-1') //initializing value of lattice constant of gallium\n",
"D1 = 1\n",
"disp('D1 = '+string(D1)+'atoms') //initializing value of number of gallium atoms per lattice point\n",
"E2 = N*D1/A1^3\n",
"disp('number density of gallium atoms,N(Ga) = N*D1/A1^3)= '+string(E2)+' atomscm^-3')//calculation"
   ]
   }
,
{
		   "cell_type": "markdown",
		   "metadata": {},
		   "source": [
			"## Example 1.3: NUMBER_OF_ATOMS.sce"
		   ]
		  },
  {
"cell_type": "code",
	   "execution_count": null,
	   "metadata": {
	    "collapsed": true
	   },
	   "outputs": [],
"source": [
"clc\n",
"// silicon has diomond structure which is made up of FCC lattice \n",
"N=4\n",
"disp('N = '+string(N)) //initializing value of number of points per cube of volume\n",
"A = 5.43*10^-8\n",
"disp('A = '+string(A)+'cm^-3') //initializing value of lattice constant of silicon\n",
"D = 2\n",
"disp('D = '+string(D)+'atoms') //initializing value of number of silicon atoms per lattice point\n",
"E1 = N*D/A^3\n",
"disp('number density of silicon,Nsi = N*D/A^3)= '+string(E1)+' atomscm^-3')//calculation\n",
"//for gallium in GaAs there is 1 Ga atom and 1 As atom as per lattice point , it also has fcc structure\n",
"A1 = 5.65*10^-8\n",
"disp('A1 = '+string(A1)+'cm^-3') //initializing value of lattice constant of gallium\n",
"D1 = 1\n",
"disp('D1 = '+string(D1)+'atoms') //initializing value of number of gallium atoms per lattice point\n",
"E2 = N*D1/A1^3\n",
"disp('number density of gallium atoms,NGa = N*D1/A1^3)= '+string(E2)+' atomscm^-3')//calculation\n",
"// using above answer in following part\n",
"S1=10*10^-12\n",
"disp('S1 = '+string(S1)+' cm^3') //initializing value of dimensions of silicon transistor\n",
"N1 = (E1*S1)\n",
"disp('number Si atom in silicon transistor,N(Si) = (E1*S1))= '+string(N1)+' atoms')//calculation\n",
"S2 = 200*10*5*10^(-12)\n",
"disp('S2 = '+string(S2)+' cm^3') //initializing value of dimensions of GaAs semiconductor laser\n",
"N2 = (E2*S2)\n",
"disp('number of Ga atom in GaAs semiconductor,N(Ga) = (E2*S2))= '+string(N2)+' atoms')//calculation"
   ]
   }
,
{
		   "cell_type": "markdown",
		   "metadata": {},
		   "source": [
			"## Example 1.4: SURFACE_DENSITY.sce"
		   ]
		  },
  {
"cell_type": "code",
	   "execution_count": null,
	   "metadata": {
	    "collapsed": true
	   },
	   "outputs": [],
"source": [
"clc\n",
"// In the (001) surface the top atoms are either Ga or As\n",
"//A square of area a^2 has 4 atoms on the edges of square shared by 4 other square and 1 atom in centre\n",
"N=2\n",
"disp('N = '+string(N)) //initializing value of total number of atoms per square\n",
"a = 5.65*10^-8\n",
"disp('a = '+string(a)+'cm^-1') //initializing value of lattice constant of gallium\n",
"SD = N/(a^2)\n",
"disp('surface density of Ga,N(Ga) = N/(a^2))= '+string(SD)+'cm^-2')//calculation\n",
""
   ]
   }
,
{
		   "cell_type": "markdown",
		   "metadata": {},
		   "source": [
			"## Example 1.5: HEIGHT_OF_MONOLAYER.sce"
		   ]
		  },
  {
"cell_type": "code",
	   "execution_count": null,
	   "metadata": {
	    "collapsed": true
	   },
	   "outputs": [],
"source": [
"clc\n",
"a = 5.65*10^-8\n",
"disp('a = '+string(a)+'cm^-1') //initializing value of lattice constant of gallium\n",
"A = a/2\n",
"disp('monolayer distance in the (001) direction,(A(ml) = a/2)= '+string(A)+' cm^-1')//calculation"
   ]
   }
,
{
		   "cell_type": "markdown",
		   "metadata": {},
		   "source": [
			"## Example 1.6: WAVELENGTH.sce"
		   ]
		  },
  {
"cell_type": "code",
	   "execution_count": null,
	   "metadata": {
	    "collapsed": true
	   },
	   "outputs": [],
"source": [
"clc\n",
"h=6.6*10^-34    \n",
"disp('h = '+string(h)+'Js') // plancks constant\n",
"c = 3*10^8\n",
"disp('c = '+string(c)+'m/s') // velocity of light\n",
"E1 = 1.6*10^-19 \n",
"disp('E1 = '+string(E1)+'J') //initializing value of energy of photon\n",
"L1 = h*c/E1\n",
"disp('wavelengh of photon,(L(ph) = hc/E1)= '+string(L1)+' m')//calculation\n",
"E2 = 1.6*10^-19 \n",
"disp('E2 = '+string(E2)+'J') //initializing value of energy of electron\n",
"mo = 9.1*10^-31\n",
"disp('mo = '+string(mo)+'kg') //initializing value of mass of electron\n",
"L2 = h/sqrt(2*mo*E2)\n",
"disp('wavelengh of electron,(L(e) = h/sqrt(2*mo*E2))= '+string(L2)+' m')//calculation\n",
"m=1/1824\n",
"disp('mo/m1 = '+string(m)) //initializing value of ratio of mass of electron to mass of neutron\n",
"L3 = L2*sqrt(m)\n",
"disp('wavelengh of neutron,L(n) = L2*sqrt(mo/m1)= '+string(L3)+' m')//calculation\n",
"\n",
"\n",
""
   ]
   }
,
{
		   "cell_type": "markdown",
		   "metadata": {},
		   "source": [
			"## Example 1.7: DENSITY.sce"
		   ]
		  },
  {
"cell_type": "code",
	   "execution_count": null,
	   "metadata": {
	    "collapsed": true
	   },
	   "outputs": [],
"source": [
"clc\n",
"h=1.05*10^-34    \n",
"disp('h = '+string(h)+'Js') //initializing value of reduced plancks constant or dirac constant or h-bar\n",
"m = 9.1*10^-31\n",
"disp('m = '+string(m)+'kg') //initializing value of mass of electron\n",
"E = 0.1\n",
"disp('E = '+string(E)+' eV') //initializing value of energy of electron\n",
"N = [sqrt(2)*(m)^(3/2)]/[(%pi)^2*(h)^3]\n",
"disp('density of states in 3D is ,(N(E) = [sqrt(2)*(m)^(3/2)]/%pi^2*h^3)= '+string(N)+'E^1/2 J^-1m^-3')//calculation\n",
"//Expressing E in eV and the density of states in commonly used units of eV^-1cm^-3\n",
"N1 = 6.8*10^21*sqrt(E)\n",
"disp('density of states in 3D is ,(N(E)= 6.8*10^21*sqrt(E))= '+string(N1)+'eV^-1cm^-3')//calculation\n",
"\n",
"\n",
"\n",
""
   ]
   }
,
{
		   "cell_type": "markdown",
		   "metadata": {},
		   "source": [
			"## Example 1.8: DENSITY_OF_STATES.sce"
		   ]
		  },
  {
"cell_type": "code",
	   "execution_count": null,
	   "metadata": {
	    "collapsed": true
	   },
	   "outputs": [],
"source": [
"clc\n",
"h=1.05*10^-34    \n",
"disp('h = '+string(h)+'Js') //initializing value of reduced plancks constant or dirac constant or h-bar\n",
"m = 9.1*10^-31\n",
"disp('m = '+string(m)+'kg') //initializing value of mass of electron\n",
"E = 2.0\n",
"disp('E = '+string(E)+' eV') //initializing value of energy of electron\n",
"N = [sqrt(2)*(m)^(3/2)]/[(%pi)^2*(h)^3]\n",
"disp('density of states in 3D is ,(N(E) = [sqrt(2)*(m)^(3/2)]/%pi^2*h^3)= '+string(N)+'E^1/2 J^-1m^-3')//calculation\n",
"//Expressing E in eV and the density of states in commonly used units of eV^-1cm^-3\n",
"N1 = 6.8*10^21*sqrt(E-2.0)\n",
"disp('density of states in 3D is ,(N(E)= 6.8*10^21*sqrt(E-2.0))= '+string(N1)+'eV^-1cm^-3')//calculation\n",
"\n",
"\n",
"\n",
""
   ]
   }
,
{
		   "cell_type": "markdown",
		   "metadata": {},
		   "source": [
			"## Example 1.9: FERMI_LEVEL_ENERGY.sce"
		   ]
		  },
  {
"cell_type": "code",
	   "execution_count": null,
	   "metadata": {
	    "collapsed": true
	   },
	   "outputs": [],
"source": [
"clc\n",
"h=1.05*10^-34    \n",
"disp('h = '+string(h)+'Js') //initializing value of reduced plancks constant or dirac constant or h-bar\n",
"m = 9.1*10^-31\n",
"disp('m = '+string(m)+'kg') //initializing value of mass of electron\n",
"n = 10^28\n",
"disp('n = '+string(n)+'m^-3') //initializing value of mass of electron\n",
"E = (3*(%pi)^(2)*n)^(2/3)*(h^2/(2*m))\n",
"disp('The fermi energy at 0K is ,(E[F] = (3*(%pi)^(2)*n)^(2/3)*(h^2/(2*m))= '+string(E)+'J')//calculation\n",
"Ef= E/(1.6*10^(-19))\n",
"disp('The fermi energy at 0K in eV is ,(E[F] = E/1.6*10^-19)= '+string(Ef)+'eV')//calculation\n",
"// Answer givenin the textbook is wrong\n",
"\n",
" \n",
""
   ]
   }
],
"metadata": {
		  "kernelspec": {
		   "display_name": "Scilab",
		   "language": "scilab",
		   "name": "scilab"
		  },
		  "language_info": {
		   "file_extension": ".sce",
		   "help_links": [
			{
			 "text": "MetaKernel Magics",
			 "url": "https://github.com/calysto/metakernel/blob/master/metakernel/magics/README.md"
			}
		   ],
		   "mimetype": "text/x-octave",
		   "name": "scilab",
		   "version": "0.7.1"
		  }
		 },
		 "nbformat": 4,
		 "nbformat_minor": 0
}
