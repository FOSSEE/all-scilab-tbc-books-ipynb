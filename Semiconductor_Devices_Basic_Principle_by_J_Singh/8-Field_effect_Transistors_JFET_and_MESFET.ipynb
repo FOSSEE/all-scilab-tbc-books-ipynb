{
"cells": [
 {
		   "cell_type": "markdown",
	   "metadata": {},
	   "source": [
       "# Chapter 8: Field effect Transistors JFET and MESFET"
	   ]
	},
{
		   "cell_type": "markdown",
		   "metadata": {},
		   "source": [
			"## Example 8.10: maximum_frequency.sce"
		   ]
		  },
  {
"cell_type": "code",
	   "execution_count": null,
	   "metadata": {
	    "collapsed": true
	   },
	   "outputs": [],
"source": [
"clc\n",
"VB = 100\n",
"disp('VB = '+string(VB)+'V') //initializing value of sorce-drain voltage \n",
"FSi=3*10^5\n",
"disp('FSi = '+string(FSi)+'V/cm') //initializing value of breakdown field of Si\n",
"FGaAs=4*10^5\n",
"disp('FGaAs = '+string(FGaAs)+'V/cm') //initializing value of breakdown field of GaAs\n",
"FSiC=3*10^6\n",
"disp('FSiC = '+string(FSiC)+'V/cm') //initializing value of breakdown field of SiC\n",
"Vsi = 10^7\n",
"disp('Vsi = '+string(Vsi)+'cm/s') //initializing value of saturation velocity of Si\n",
"VGaAs = 10^7\n",
"disp('VGaAs = '+string(VGaAs)+'cm/s') //initializing value of  saturation velocity of GaAs\n",
"VSiC = 2*10^7\n",
"disp('VSiC = '+string(VSiC)+'cm/s') //initializing value of saturation velocity of SiC\n",
"LBSi = VB/FSi\n",
"disp('The minimum channel length at which Si material will breakdown is ,LBSi = VB/FSi = '+string(LBSi)+'cm')//calculation\n",
"LBGaAs = VB/FGaAs\n",
"disp('The minimum channel length at which GaAs material will breakdown is ,LBGaAs = VB/FGaAs = '+string(LBGaAs)+'cm')//calculation\n",
"LBSiC = VB/FSiC\n",
"disp('The minimum channel length at which SiC material will breakdown is ,LBSiC = VB/FSiC = '+string(LBSiC)+'cm')//calculation\n",
"fT1 = Vsi/(2*%pi*LBSi)\n",
"disp('The corresponding cutoff frequency of silicon is ,fT(Si) = Vsi/(2*%pi*LBSi)= '+string(fT1)+'Hz')//calculation\n",
"fT2 = VGaAs/(2*%pi*LBGaAs)\n",
"disp('The corresponding frequency of GaAs is ,fT(GaAs) = VGaAs/(2*%pi*LBGaAs)= '+string(fT2)+'Hz')//calculation\n",
"fT3 = VSiC/(2*%pi*LBSiC)\n",
"disp('The corresponding cutoff frequency of SiC is ,fT(SiC) = VsiC/(2*%pi*LBSiC)= '+string(fT3)+'Hz')//calculation"
   ]
   }
,
{
		   "cell_type": "markdown",
		   "metadata": {},
		   "source": [
			"## Example 8.1: Built_in_voltage_and_pinch_off.sce"
		   ]
		  },
  {
"cell_type": "code",
	   "execution_count": null,
	   "metadata": {
	    "collapsed": true
	   },
	   "outputs": [],
"source": [
"clc\n",
"ni = 1.5*10^10\n",
"disp('ni= '+string(ni)+'cm^-3')//initializing value of intrinsic carrier concentration\n",
"Na = 10^18\n",
"disp('Na = '+string(Na)+'cm^-3') //initializing value of p+ doping\n",
"Nd = 10^17\n",
"disp('Nd = '+string(Nd)+'cm^-3') //initializing value of n channel doping\n",
"kBT=0.026\n",
"disp('kBT = '+string(kBT)+'eV') //initializing value of multiplication of boltzmann constant and 300K temperature\n",
"e = 1.6*10^-19\n",
"disp('e= '+string(e)+'C')//initializing value of charge of electron \n",
"Vbi= (kBT)*((log((Na*Nd)/ni^2)))\n",
"disp('The built in voltage of a p+n diode is ,Vbi= (kBT)*((log((Na*Nd)/Ni^2)))= '+string(Vbi)+'V')//calculation\n",
"h=.25*10^-4\n",
"disp('h = '+string(h)+'cm') //initializing value of width of the channel\n",
"apsilen = 11.9*8.85*10^-14\n",
"disp('apsilen = '+string(apsilen)+'F/cm') //initializing value of relative permitivity\n",
"Vp= (e*(h^2)*Nd)/(2*apsilen)\n",
"disp('The total volage drop required to pinch the channel is ,Vp= (e*(h^2)*Nd)/(2*apsilen)= '+string(Vp)+'V')//calculation\n",
"VG= Vbi-Vp\n",
"disp('The pinch off at gate bias is ,VG= Vbi-Vp= '+string(VG)+'V')//calculation\n",
"// Note : due to different precisions taken by me and the author ... my answer differ \n",
""
   ]
   }
,
{
		   "cell_type": "markdown",
		   "metadata": {},
		   "source": [
			"## Example 8.2: gate_current_density.sce"
		   ]
		  },
  {
"cell_type": "code",
	   "execution_count": null,
	   "metadata": {
	    "collapsed": true
	   },
	   "outputs": [],
"source": [
"clc\n",
"phi_b=0.8\n",
"disp('phi_b = '+string(phi_b)+'V') //initializing value of barrierpotential\n",
"T=300\n",
"disp('T = '+string(T)+'K') //initializing value of temperature\n",
"kBT=0.026\n",
"disp('kBT = '+string(kBT)+'eV') //initializing value of multiplication of boltzmann constant and 300K temperature\n",
"R_star=8\n",
"disp('R_star = '+string(R_star)+'Acm^-2K^-2') //initializing value of effective richardson constant\n",
"Dp=20\n",
"disp('Dp = '+string(Dp)+'cm^2/s') //initializing value of diffusion coefficient \n",
"pn = 3.38*10^-5\n",
"disp('pn = '+string(pn)+'cm^-3') //initializing value of hole electron density \n",
"e = 1.6*10^-19\n",
"disp('e= '+string(e)+'C')//initializing value of charge of electron \n",
"Lp=1*10^-4\n",
"disp('Lp = '+string(Lp)+'cm') //initializing value of length\n",
"// for Schottky case Js = R_star*T^2*(exp(-(phi_b)/(kBT)))\n",
"Js = R_star*T^2*(exp(-(phi_b)/(kBT)))\n",
"disp('The gate current density is ,Js = R_star*T^2*(exp(-(phi_b)/(kBT))) = '+string(Js)+'A/cm^2')//calculation\n",
"// from p-n diode theory Jo = (e*Dp*pn)/(Lp)\n",
"Jo = (e*Dp*pn)/(Lp)\n",
"disp('The gate current density is ,Jo = (e*Dp*pn)/(Lp) = '+string(Jo)+'A/cm^2')//calculation"
   ]
   }
,
{
		   "cell_type": "markdown",
		   "metadata": {},
		   "source": [
			"## Example 8.3: Threshold_voltage.sce"
		   ]
		  },
  {
"cell_type": "code",
	   "execution_count": null,
	   "metadata": {
	    "collapsed": true
	   },
	   "outputs": [],
"source": [
"clc\n",
"ni = 1.5*10^10\n",
"disp('ni= '+string(ni)+'cm^-3')//initializing value of intrinsic carrier concentration\n",
"Nc = 4.45*10^17\n",
"disp('Nc = '+string(Nc)+'cm^-3') //initializing value of effective density of of states for GaAS\n",
"Nd = 10^17\n",
"disp('Nd = '+string(Nd)+'cm^-3') //initializing value of n channel doping\n",
"kBT=0.026\n",
"disp('kBT = '+string(kBT)+'eV') //initializing value of multiplication of boltzmann constant and 300K temperature\n",
"e = 1.6*10^-19\n",
"disp('e= '+string(e)+'C')//initializing value of charge of electron \n",
"h=0.25*10^-4\n",
"disp('h = '+string(h)+'cm') //initializing value of width of the channel\n",
"apsilen = 13.2*8.85*10^-14\n",
"disp('apsilen = '+string(apsilen)+'F/cm') //initializing value of relative permitivity\n",
"Vh = 0.8\n",
"disp('Vh = '+string(Vh)+'V') //initializing value of barrier height of gold schottky barrier\n",
"Vp= (e*(h^2)*Nd)/(2*apsilen)\n",
"disp('The total volage drop required to pinch the channel is ,Vp= (e*(h^2)*Nd)/(2*apsilen)= '+string(Vp)+'V')//calculation\n",
"Ecf= -(kBT)*(log(Nd/Nc))\n",
"disp('The difference between the conduction band and fermi level is ,Ecf= (kBT)*(log(Nd/Nc)))= '+string(Ecf)+'V')//calculation\n",
"Vbi= Vh-Ecf\n",
"disp('The built in potential is ,Vbi= Vh-Ecf= '+string(Vbi)+'V')//calculation\n",
"VGS= Vbi-Vp\n",
"disp('The pinch off at gate bias is ,VT=VGS= Vbi-Vp= '+string(VGS)+'V')//calculation\n",
""
   ]
   }
,
{
		   "cell_type": "markdown",
		   "metadata": {},
		   "source": [
			"## Example 8.4: maximum_channel_thickness.sce"
		   ]
		  },
  {
"cell_type": "code",
	   "execution_count": null,
	   "metadata": {
	    "collapsed": true
	   },
	   "outputs": [],
"source": [
"clc\n",
"Nd = 10^17\n",
"disp('Nd = '+string(Nd)+'cm^-3') //initializing value of n channel doping\n",
"e = 1.6*10^-19\n",
"disp('e= '+string(e)+'C')//initializing value of charge of electron \n",
"apsilen = 13.1*8.85*10^-14\n",
"disp('apsilen = '+string(apsilen)) //initializing value of relative permitivity\n",
"Vbi = 0.76\n",
"disp('Vbi = '+string(Vbi)+'V') //initializing value of built in potential\n",
"h= sqrt((2*apsilen*Vbi)/(e*Nd))\n",
"disp('The thickness at which the value of Vp is same at Vbi is ,h= sqrt((2*apsilen*Vbi)/(e*Nd))= '+string(h)+'cm')//calculation\n",
"\n",
""
   ]
   }
,
{
		   "cell_type": "markdown",
		   "metadata": {},
		   "source": [
			"## Example 8.5: gate_bias.sce"
		   ]
		  },
  {
"cell_type": "code",
	   "execution_count": null,
	   "metadata": {
	    "collapsed": true
	   },
	   "outputs": [],
"source": [
"clc\n",
"Nc = 4.45*10^17\n",
"disp('Nc = '+string(Nc)+'cm^-3') //initializing value of effective density of of states for GaAS\n",
"Nd = 10^17\n",
"disp('Nd = '+string(Nd)+'cm^-3') //initializing value of n channel doping\n",
"kBT=0.026\n",
"disp('kBT = '+string(kBT)+'eV') //initializing value of multiplication of boltzmann constant and 300K temperature\n",
"e = 1.6*10^-19\n",
"disp('e= '+string(e)+'C')//initializing value of charge of electron \n",
"h=0.06*10^-4\n",
"disp('h = '+string(h)+'cm') //initializing value of width of the channel\n",
"apsilen = 13.2*8.85*10^-14\n",
"disp('apsilen = '+string(apsilen)) //initializing value of relative permitivity\n",
"Vh = 0.8\n",
"disp('Vh = '+string(Vh)+'V') //initializing value of barrier height of gold schottky barrier\n",
"Vp= (e*(h^2)*Nd)/(2*apsilen)\n",
"disp('The total volage drop required to pinch the channel is ,Vp= (e*(h^2)*Nd)/(2*apsilen)= '+string(Vp)+'V')//calculation\n",
"Ecf= -(kBT)*(log(Nd/Nc))\n",
"disp('The difference between the conduction band and fermi level is ,Ecf= (kBT)*(log(Nd/Nc)))= '+string(Ecf)+'V')//calculation\n",
"Vbi= Vh-Ecf\n",
"disp('The built in potential is ,Vbi= Vh-Ecf= '+string(Vbi)+'V')//calculation\n",
"VG= Vbi-Vp\n",
"disp('The pinch off at gate bias is ,VG= Vbi-Vp= '+string(VG)+'V')//calculation\n",
""
   ]
   }
,
{
		   "cell_type": "markdown",
		   "metadata": {},
		   "source": [
			"## Example 8.6: Transconductance_of_the_device.sce"
		   ]
		  },
  {
"cell_type": "code",
	   "execution_count": null,
	   "metadata": {
	    "collapsed": true
	   },
	   "outputs": [],
"source": [
"clc\n",
"mu_n=6000\n",
"disp('mu_n = '+string(mu_n)+'cm^2(Vs)^-1') //initializing value of channel mobility \n",
"phi_b=0.8\n",
"disp('phi_b = '+string(phi_b)+'V') //initializing value of Schottky barrier height\n",
"kBT=0.026\n",
"disp('kBT = '+string(kBT)+'eV') //initializing value of multiplication of boltzmann constant and 300K temperature\n",
"e = 1.6*10^-19\n",
"disp('e= '+string(e)+'C')//initializing value of charge of electron \n",
"h=0.25*10^-4\n",
"disp('h = '+string(h)+'cm') //initializing value of channel depth\n",
"Nd = 5*10^16\n",
"disp('Nd = '+string(Nd)+'cm^-3') //initializing value of channel doping\n",
"Nc = 4.45*10^17\n",
"disp('Nc = '+string(Nc)+'cm^-3') //initializing value of effective density of of states for GaAS\n",
"L = 2*10^-4\n",
"disp('L = '+string(L)+'cm') //initializing value of channel length\n",
"Z = 25*10^-4\n",
"disp('Z = '+string(Z)+'cm') //initializing value of gate width\n",
"apsilen = 13.2*8.85*10^-14\n",
"disp('apsilen = '+string(apsilen)) //initializing value of relative permitivity\n",
"VGS1 = 0\n",
"disp('VGS1 = '+string(VGS1)+'V') //initializing value of gate bias voltage 1\n",
"VGS2 = -1\n",
"disp('VGS2 = '+string(VGS2)+'V') //initializing value of gate bias voltage 2\n",
"Vbi = (phi_b-(kBT*(log(Nc/Nd))))\n",
"disp('The built-in voltage is ,Vbi = (phi_b-(kBT*(log(Nc/Nd))))= '+string(Vbi)+'V')//calculation\n",
"Vp= (e*(h^2)*Nd)/(2*apsilen)\n",
"disp('The internal pinch off potential is ,Vp= (e*(h^2)*Nd)/(2*apsilen)= '+string(Vp)+'V')//calculation\n",
"go=(e*mu_n*Nd*Z*h)/(L)\n",
"disp('The value of go of the channel is ,go=(e*mu_n*Nd*Z*h)/(L)= '+string(go)+'ohm^-1')//calculation\n",
"ID_sat = go*((Vp/3)-Vbi+((2*(Vbi^1.5))/(3*(Vp^.5))))\n",
"disp('The value of saturation voltage is ,ID_sat = go*((Vp/3)-Vbi+((2*(Vbi^3/2))/(3*(Vp^.5)))= '+string(ID_sat)+'V')//calculation\n",
"ID1 = go*((Vp/3)-Vbi+VGS2+((2*((Vbi+abs(VGS2))^1.5))/(3*(Vp^.5))))\n",
"disp('The value of saturation current at VGS1 is ,ID(sat) = go*((Vp/3)-(Vbi)+VGS+((2*(Vbi-VGS)^(3/2))/(3*(Vp)^(1/2))))= '+string(ID1)+'A')//calculation\n",
"gm_sat= go*(1-((Vbi/Vp)^.5))\n",
"disp('The value of saturation conductance at VGS1 is ,gm_sat= go*(1-((Vbi/Vp)^.5))= '+string(gm_sat)+'S')//calculation\n",
"gm_sat= go*(1-((((Vbi+abs(VGS2))/Vp)^.5)))\n",
"disp('The value of saturation conductance at VGS2 is ,gm_sat= go*(1-((Vbi+VGS2)/Vp)^.5)= '+string(gm_sat)+'S')//calculation\n",
"// Note : due to different precisions taken by me and the author ... my answer differ "
   ]
   }
,
{
		   "cell_type": "markdown",
		   "metadata": {},
		   "source": [
			"## Example 8.7: Output_current_and_output_resistance.sce"
		   ]
		  },
  {
"cell_type": "code",
	   "execution_count": null,
	   "metadata": {
	    "collapsed": true
	   },
	   "outputs": [],
"source": [
"clc\n",
"Nd = 5*10^16\n",
"disp('Nd = '+string(Nd)+'cm^-3') //initializing value of channel doping\n",
"L = 2*10^-4\n",
"disp('L = '+string(L)+'cm') //initializing value of channel length\n",
"apsilen = 13.2*8.85*10^-14\n",
"disp('apsilen = '+string(apsilen)) //initializing value of relative permitivity\n",
"VDS1 = 1.0\n",
"disp('VDS1 = '+string(VDS1)+'V') //initializing value of drain bias voltage 1\n",
"VDS2 = 1.5\n",
"disp('VDS2 = '+string(VDS2)+'V') //initializing value of drain bias voltage 2\n",
"VGS1 = 0\n",
"disp('VGS1 = '+string(VGS1)+'V') //initializing value of gate bias voltage 1\n",
"ID=4.03\n",
"disp('ID(sat) = '+string(ID)+'mA') //initializing value of saturated current\n",
"dL1 = sqrt((2*apsilen*VDS1)/(e*Nd))\n",
"disp('The change in channel length is ,dL (VDS(sat)+1 V) = sqrt((2*apsilen*VDS1)/(e*Nd))= '+string(dL1)+'cm')//calculation\n",
"dL2 = sqrt((2*apsilen*VDS2)/(e*Nd))\n",
"disp('The change in channel length is ,dL (VDS(sat)+1.5 V) = sqrt((2*apsilen*VDS2)/(e*Nd))= '+string(dL2)+'cm')//calculation\n",
"ID1 = ID*(1+(dL1/(2*L)))\n",
"disp('The current at the bias is ,ID1(VDS(sat)+1 V) = ID*(1+(dL1/(2*L)))= '+string(ID1)+'mA')//calculation\n",
"ID2 = ID*(1+(dL2/(2*L)))\n",
"disp('The current at the bias is ,ID2(VDS(sat)+1.5 V) = ID*(1+(dL2/(2*L)))= '+string(ID2)+'mA')//calculation\n",
"rDS = (VDS2-VDS1)/((ID2-ID1)*10^-3)\n",
"disp('The output resistance of source drain channel is ,rDS = (VDS2-VDS1)/(ID2-ID1)= '+string(rDS)+'ohm')//calculation\n",
"// Note : due to different precisions taken by me and the author ... my answer differ \n",
""
   ]
   }
,
{
		   "cell_type": "markdown",
		   "metadata": {},
		   "source": [
			"## Example 8.8: maximum_cutoff_frequency.sce"
		   ]
		  },
  {
"cell_type": "code",
	   "execution_count": null,
	   "metadata": {
	    "collapsed": true
	   },
	   "outputs": [],
"source": [
"clc\n",
"mu_n=1000\n",
"disp('mu_n = '+string(mu_n)+'cm^2(Vs)^-1') //initializing value of channel mobility \n",
"e = 1.6*10^-19\n",
"disp('e= '+string(e)+'C')//initializing value of charge of electron \n",
"h=0.5*10^-4\n",
"disp('h = '+string(h)+'cm') //initializing value of channel depth\n",
"Nd = 10^16\n",
"disp('Nd = '+string(Nd)+'cm^-3') //initializing value of channel doping\n",
"L = 2*10^-4\n",
"disp('L = '+string(L)+'cm') //initializing value of channel length\n",
"apsilen = 11.9*8.85*10^-14\n",
"disp('apsilen = '+string(apsilen)) //initializing value of relative permitivity\n",
"Vs = 10^7\n",
"disp('Vs = '+string(Vs)+'cm/s') //initializing value of saturated velocity\n",
"fT = (e*mu_n*Nd*(h^2))/(2*%pi*apsilen*(L^2))\n",
"disp('The maximum cutoff frequency of the device in the constant mobility model is ,fT = (e*mu_n*Nd*(h^2))/(2*%pi*apsilen*(L^2))= '+string(fT)+'Hz')//calculation\n",
"fT = Vs/(2*%pi*L)\n",
"disp('The maximum cutoff frequency of the device in the saturation velocity model is fT = Vs/(2*%pi*L)= '+string(fT)+'Hz')//calculation"
   ]
   }
,
{
		   "cell_type": "markdown",
		   "metadata": {},
		   "source": [
			"## Example 8.9: transit_time.sce"
		   ]
		  },
  {
"cell_type": "code",
	   "execution_count": null,
	   "metadata": {
	    "collapsed": true
	   },
	   "outputs": [],
"source": [
"clc\n",
"VDS = .5\n",
"disp('VDS = '+string(VDS)+'V') //initializing value of drain bias voltage \n",
"h=1*10^-4\n",
"disp('h = '+string(h)+'cm') //initializing value of MOSFET depth\n",
"ID=4.03\n",
"disp('ID(sat) = '+string(ID)+'mA') //initializing value of saturated current\n",
"F = VDS/h\n",
"disp('The electric field in channel is ,F = VDS/h = '+string(h)+'V/cm')//calculation\n",
"Vsi = 5*10^6\n",
"disp('Vsi = '+string(Vsi)+'cm/s') //initializing value of velocity of electrons at this field in Si\n",
"VGaAs = 10^7\n",
"disp('VGaAs = '+string(VGaAs)+'cm/s') //initializing value of  velocity of electrons at this field in GaAs\n",
"Ttr1 = h/Vsi \n",
"disp('The transit time  of electrons in silicon is ,Ttr(si) = h/Vsi = '+string(Ttr1)+'s')//calculation\n",
"Ttr2 = h/VGaAs \n",
"disp('The transit time of electrons in GaAs is ,Ttr(GaAs) = h/VGaAs= '+string(Ttr2)+'s')//calculation\n",
"fT1 = 1/(2*%pi*Ttr1)\n",
"disp('The corresponding frequency of silicon is ,fT(Si) = 1/(2*%pi*Ttr(si))= '+string(fT1)+'Hz')//calculation\n",
"fT2 = 1/(2*%pi*Ttr2)\n",
"disp('The corresponding frequency of GaAs is ,fT(GaAs) = 1/(2*%pi*Ttr(GaAs))= '+string(fT2)+'Hz')//calculation\n",
""
   ]
   }
],
"metadata": {
		  "kernelspec": {
		   "display_name": "Scilab",
		   "language": "scilab",
		   "name": "scilab"
		  },
		  "language_info": {
		   "file_extension": ".sce",
		   "help_links": [
			{
			 "text": "MetaKernel Magics",
			 "url": "https://github.com/calysto/metakernel/blob/master/metakernel/magics/README.md"
			}
		   ],
		   "mimetype": "text/x-octave",
		   "name": "scilab",
		   "version": "0.7.1"
		  }
		 },
		 "nbformat": 4,
		 "nbformat_minor": 0
}
