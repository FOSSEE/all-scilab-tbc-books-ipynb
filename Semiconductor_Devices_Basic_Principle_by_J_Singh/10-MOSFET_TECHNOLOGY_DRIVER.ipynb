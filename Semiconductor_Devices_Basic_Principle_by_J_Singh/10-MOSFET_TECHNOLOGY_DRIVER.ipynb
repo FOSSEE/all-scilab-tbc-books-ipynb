{
"cells": [
 {
		   "cell_type": "markdown",
	   "metadata": {},
	   "source": [
       "# Chapter 10: MOSFET TECHNOLOGY DRIVER"
	   ]
	},
{
		   "cell_type": "markdown",
		   "metadata": {},
		   "source": [
			"## Example 10.1: Critical_voltage_and_noise_margin.sce"
		   ]
		  },
  {
"cell_type": "code",
	   "execution_count": null,
	   "metadata": {
	    "collapsed": true
	   },
	   "outputs": [],
"source": [
"clc\n",
"K_dash = 25*10^-6\n",
"disp('K_dash = '+string(K_dash)+'A/V^2') \n",
"VT = 1\n",
"disp('VT = '+string(VT)+'V') \n",
"Z_by_L = 2\n",
"disp('Z_by_L = '+string(Z_by_L)+'V') \n",
"VDD = 5\n",
"disp('VOH = VDD = '+string(VDD)+'V') //initialising value of drain voltage\n",
"VOH = 5\n",
"RL = 100*10^3\n",
"disp('RL = '+string(RL)+'ohm') //initialising value of load resistance\n",
"k=K_dash*Z_by_L\n",
"disp('k = '+string(k))\n",
"VOL = VDD/(1+(k*RL*(VDD-VT)))\n",
"disp('The voltage in outout load is ,VOL = VDD/(1+(k*RL*(VDD-VT))) = '+string(VOL)+' V')//calculation\n",
"VIL = (1/(k*RL))+VT\n",
"disp('The low input value is ,VIL = (1/(k*RL))+VT = '+string(VIL)+' V')//calculation\n",
"//VIH_VT = VIH-VT \n",
"//Using the relation between Vout and Vin, we have \n",
"//(k/2)*((3/4)*(VIH_VT)^2)+((VIH_VT)/(2*RL))-(VDD/RL)\n",
"//solving using physically correct solution\n",
"VIH_VT = (-0.2+2.45)/1.5\n",
"VIH = VIH_VT + VT\n",
"disp('The high input value is ,VIH = VIH_VT + VT = '+string(VIH)+' V')//calculation\n",
"//Equting the Current in the load and the transistor yields \n",
"//(k/2)*(VM-VT)^2 = ((VDD-VM)/RL)\n",
"//solving using physically correct solution\n",
"VM = 2.08 \n",
"NML = VIL-VOL\n",
"disp('The low noise margin of the device is ,NML = VIL-VOL = '+string(NML)+' V')//calculation\n",
"NMH = VOH-VIH\n",
"disp('The high noise margin of the device is ,NMH = VOH-VIH = '+string(NMH)+' V')//calculation\n",
""
   ]
   }
,
{
		   "cell_type": "markdown",
		   "metadata": {},
		   "source": [
			"## Example 10.2: Device_parameter.sce"
		   ]
		  },
  {
"cell_type": "code",
	   "execution_count": null,
	   "metadata": {
	    "collapsed": true
	   },
	   "outputs": [],
"source": [
"clc\n",
"K_dash = 25*10^-6\n",
"disp('K_dash = '+string(K_dash)+'A/V^2') \n",
"VT = 1\n",
"disp('VT = '+string(VT)+'V') \n",
"VDD = 5\n",
"disp('VDD = '+string(VDD)+'V') //initialising value of drain voltage\n",
"VOL= 0.24\n",
"disp('VOL = '+string(VOL)+'V') //initialising value of output load voltage\n",
"RL = 10^5\n",
"disp('RL = '+string(RL)+'ohm') //initialising value of  load resistance\n",
"VGS = 4.7\n",
"disp('VGS = '+string(VGS)+'V') //initialising value of  gate and source voltage\n",
"KL = (2*((VDD-VOL)/RL))/(VGS-VT)^2\n",
"disp('The parameter of load transistor is ,KL = (2*((VDD-VOL)/RL))/(VGS-VT)^2 = '+string(KL)+' A/V^2')//calculation\n",
"Z_by_L = KL/K_dash\n",
"disp('Z_by_L = KL/K_dash= '+string(Z_by_L))//calculation\n",
"//NOTE: let \n",
"L = 10*10^-6\n",
"disp('L = '+string(L)+'m') //initialising value of length of transistor\n",
"Z = Z_by_L*L\n",
"disp('the width of transistor is Z = Z_by_L*L= '+string(Z)+'m')//calculation\n",
"//NOTE: let \n",
"Z_by_L = 2\n",
"L1 = 3*10^-6\n",
"disp('L1 = '+string(L1)+'m') //initialising value of length of transistor\n",
"Z1 = Z_by_L*L1\n",
"disp('the width of transistor is Z1 = Z_by_L*L1= '+string(Z1)+'m')//calculation\n",
"// Note : due to different precisions taken by me and the author ... my answer differ and author also takes the approximate values "
   ]
   }
,
{
		   "cell_type": "markdown",
		   "metadata": {},
		   "source": [
			"## Example 10.3: Output_high_of_the_inverter.sce"
		   ]
		  },
  {
"cell_type": "code",
	   "execution_count": null,
	   "metadata": {
	    "collapsed": true
	   },
	   "outputs": [],
"source": [
"\n",
"clc\n",
"VTO = 1.5\n",
"disp('VTO = '+string(VTO)+'V')\n",
"Two_Phi_F = .7 \n",
"disp('Two_Phi_F = '+string(Two_Phi_F)+'V')\n",
"Gamma = .4\n",
"disp('Gamma = '+string(Gamma)+'V^.5')\n",
"VDD = 5\n",
"disp('VDD = '+string(VDD)+'V') //initialising value of drain voltage\n",
"\n",
"//VOH = VDD-(VTO+(Gamma*(sqrt(VOH+Two_Phi_F)-sqrt(Two_Phi_F))))\n",
"//By putting all the values in the equation, we get\n",
"disp('Voh-3.16 = 0.4*sqrt(Voh+1.4)')\n",
"//squaring both sides and result in quad equation\n",
"disp('VOH^2-6.72VOH+9.42')\n",
"p1 = poly([9.42, -6.72, 1], 'VOH', 'c') \n",
"a = roots(p1)\n",
"VOH = a(1)\n",
"disp('The output high is VOH = '+string(VOH)+'V')\n",
""
   ]
   }
,
{
		   "cell_type": "markdown",
		   "metadata": {},
		   "source": [
			"## Example 10.4: Cutoff_frequency.sce"
		   ]
		  },
  {
"cell_type": "code",
	   "execution_count": null,
	   "metadata": {
	    "collapsed": true
	   },
	   "outputs": [],
"source": [
"clc\n",
"mu_n=700\n",
"disp('mu_n = '+string(mu_n)+'cm^2(Vs)^-1') //initializing value of channel mobility \n",
"VT = 1.5\n",
"disp('VT = '+string(VT)+'V') //initializing value of threshold velocity\n",
"VG=3\n",
"disp('VG = '+string(VG)+'V') //initializing value of gate bias\n",
"vs = 10^7\n",
"disp('vs = '+string(vs)+'cm/s') //initializing value of saturated velocity\n",
"L = 10^-4\n",
"disp('L = '+string(L)+'cm') //initializing value of channel length\n",
"fT1 = (mu_n*(VG-VT))/(2*%pi*(L^2))\n",
"disp('The cutoff frequency of the device in the constant mobility model is ,fT1 = (mu_n*(VG-VT))/(2*%pi*(L^2))= '+string(fT1)+'Hz')//calculation\n",
"fT2 = vs/(2*%pi*L)\n",
"disp('The cutoff frequency of the device in the saturation velocity model is fT2 = vs/(2*%pi*L)= '+string(fT2)+'Hz')//calculation"
   ]
   }
],
"metadata": {
		  "kernelspec": {
		   "display_name": "Scilab",
		   "language": "scilab",
		   "name": "scilab"
		  },
		  "language_info": {
		   "file_extension": ".sce",
		   "help_links": [
			{
			 "text": "MetaKernel Magics",
			 "url": "https://github.com/calysto/metakernel/blob/master/metakernel/magics/README.md"
			}
		   ],
		   "mimetype": "text/x-octave",
		   "name": "scilab",
		   "version": "0.7.1"
		  }
		 },
		 "nbformat": 4,
		 "nbformat_minor": 0
}
