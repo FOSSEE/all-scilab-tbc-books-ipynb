{
"cells": [
 {
		   "cell_type": "markdown",
	   "metadata": {},
	   "source": [
       "# Chapter 11: MOSFET TECHNOLOGY DRIVER"
	   ]
	},
{
		   "cell_type": "markdown",
		   "metadata": {},
		   "source": [
			"## Example 11.10: injection_efficiency.sce"
		   ]
		  },
  {
"cell_type": "code",
	   "execution_count": null,
	   "metadata": {
	    "collapsed": true
	   },
	   "outputs": [],
"source": [
"clc\n",
"Na=5*10^16\n",
"disp('Na = '+string(Na)+'cm^-3') //initializing value of p side doping\n",
"Nd=5*10^17\n",
"disp('Nd = '+string(Nd)+'cm^-3') //initializing value of n side doping\n",
"Dn = 30\n",
"disp('Dn= '+string(Dn)+'cm^2/s')//initializing value of electron diffusion coefficient\n",
"Dp = 15\n",
"disp('Dp= '+string(Dp)+'cm^2/s')//initializing value of hole diffusion coefficient\n",
"Tn = 10^-8\n",
"disp('Tn= '+string(Tn)+'s')//inializing value of electron minority carrier lifetime\n",
"Tp = 10^-7\n",
"disp('Tp= '+string(Tp)+'s')//inializing value of hole minority carrier lifetime\n",
"e = 1.6*10^-19\n",
"disp('e= '+string(e)+'C')//initializing value of charge of electron\n",
"ni = 1.84*10^6\n",
"disp('ni = '+string(ni)+'cm^-3') //initializing value of intrinsic carrier concentration in GaAs\n",
"kbT = 0.026\n",
"disp('kbT = '+string(kbT)+'V/K') //initializing value of kbT at 300K\n",
"V = 1\n",
"disp('V = '+string(V)+'V') //initializing value of forward bias potential\n",
"nQr=.5\n",
"disp('nQr = '+string(nQr)) //initializing value of radiative recombination efficiency\n",
"np = ni^2/Na\n",
"disp(' np = ni^2/Na= '+string(np)+'cm^-3')//calculation\n",
"pn = ni^2/Nd\n",
"disp(' pn = ni^2/Nd= '+string(pn)+'cm^-3')//calculation\n",
"Ln = sqrt(Dn*Tn)\n",
"disp('The electron diffusion length is ,Ln = sqrt(Dn*Tn)= '+string(Ln)+'cm')//calculation\n",
"Lp = sqrt(Dp*Tp)\n",
"disp('The hole diffusion length is ,Lp = sqrt(Dp*Tp)= '+string(Lp)+'cm')//calculation\n",
"Yinj = ((e*Dn*np)/Ln)/(((e*Dn*np)/Ln)+((e*Dp*pn)/Lp))\n",
"disp('The injection efficiency is ,Yinj = ((e*Dn*np)/Ln)/(((e*Dn*np)/Ln)+((e*Dp*pn)/Lp))= '+string(Yinj))//calculation\n",
"\n",
"\n",
""
   ]
   }
,
{
		   "cell_type": "markdown",
		   "metadata": {},
		   "source": [
			"## Example 11.11: photon_flux_and_Optical_power.sce"
		   ]
		  },
  {
"cell_type": "code",
	   "execution_count": null,
	   "metadata": {
	    "collapsed": true
	   },
	   "outputs": [],
"source": [
"clc\n",
"A= 10^-2\n",
"disp('A= '+string(A)+'cm^2') //initializing value of diode area\n",
"Na=5*10^16\n",
"disp('Na = '+string(Na)+'cm^-3') //initializing value of p side doping\n",
"Nd=5*10^17\n",
"disp('Nd = '+string(Nd)+'cm^-3') //initializing value of n side doping\n",
"Dn = 30\n",
"disp('Dn= '+string(Dn)+'cm^2/s')//initializing value of electron diffusion coefficient\n",
"Dp = 15\n",
"disp('Dp= '+string(Dp)+'cm^2/s')//initializing value of hole diffusion coefficient\n",
"Tn = 10^-8\n",
"disp('Tn= '+string(Tn)+'s')//inializing value of electron minority carrier lifetime\n",
"Tp = 10^-7\n",
"disp('Tp= '+string(Tp)+'s')//inializing value of hole minority carrier lifetime\n",
"e = 1.6*10^-19\n",
"disp('e= '+string(e)+'C')//initializing value of charge of electron\n",
"ni = 1.84*10^6\n",
"disp('ni = '+string(ni)+'cm^-3') //initializing value of intrinsic carrier concentration in GaAs\n",
"kbT = 0.026\n",
"disp('kbT = '+string(kbT)+'V/K') //initializing value of kbT at 300K\n",
"V = 1\n",
"disp('V = '+string(V)+'V') //initializing value of forward bias potential\n",
"nQr=.5\n",
"disp('nQr = '+string(nQr)) //initializing value of radiative recombination efficiency\n",
"Eph = 1.41\n",
"disp('Eph= '+string(Eph)+'eV')//initializing value of Energy of each photon\n",
"np = ni^2/Na\n",
"disp(' np = ni^2/Na= '+string(np)+'cm^-3')//calculation\n",
"pn = ni^2/Nd\n",
"disp(' pn = ni^2/Nd= '+string(pn)+'cm^-3')//calculation\n",
"Ln = sqrt(Dn*Tn)\n",
"disp('The electron diffusion length is ,Ln = sqrt(Dn*Tn)= '+string(Ln)+'cm')//calculation\n",
"Lp = sqrt(Dp*Tp)\n",
"disp('The hole diffusion length is ,Lp = sqrt(Dp*Tp)= '+string(Lp)+'cm')//calculation\n",
"In = ((A*e*Dn*np)/Ln)*(exp(V/kbT)-1)\n",
"disp('The injected current is ,In = ((A*e*Dn*np)/Ln)*(exp(V/kbT)-1)= '+string(In)+'A')//calculation\n",
"Iph = (In*nQr)/e\n",
"disp('The photon generated per second is ,Iph = (In*nQr)/e= '+string(Iph)+'s^-1')//calculation\n",
"P = Iph*e*Eph\n",
"disp('The optical power is ,P = Iph*e*Eph= '+string(P)+'W')//calculation\n",
" \n",
""
   ]
   }
,
{
		   "cell_type": "markdown",
		   "metadata": {},
		   "source": [
			"## Example 11.12: Cavity_length.sce"
		   ]
		  },
  {
"cell_type": "code",
	   "execution_count": null,
	   "metadata": {
	    "collapsed": true
	   },
	   "outputs": [],
"source": [
"clc\n",
"R =.33\n",
"disp('R = '+string(R)) //initializing value of reflection coefficient\n",
"alpha_R = 20\n",
"disp('alpha_R = '+string(alpha_R)+'cm^-1') //initializing value of absorption loss coefficient\n",
"L= (-1/alpha_R)*log(R)\n",
"disp('The length of the cavity is ,L= (-1/alpha_R)*log(R)= '+string(L)+'cm')//calculation\n",
"\n",
" \n",
""
   ]
   }
,
{
		   "cell_type": "markdown",
		   "metadata": {},
		   "source": [
			"## Example 11.14: threshold_carrier_density.sce"
		   ]
		  },
  {
"cell_type": "code",
	   "execution_count": null,
	   "metadata": {
	    "collapsed": true
	   },
	   "outputs": [],
"source": [
"clc\n",
"n = 1.1*10^18\n",
"disp('n = '+string(n)+'cm^-3') //initializing value of number of electron or hole\n",
"nth=1.32*10^18\n",
"disp('nth = '+string(nth)+'cm^-3') //initializing value of theshold density\n",
"e = 1.6*10^-19\n",
"disp('e= '+string(e)+'C')//initializing value of charge of electron\n",
"d = 2*10^-4\n",
"disp('d= '+string(d)+'cm')//initializing value of active layer thickness\n",
"Tr = 2.4*10^-9\n",
"disp('Tr= '+string(Tr)+'J')//initializing value of radiatve recombination time\n",
"Jth = (e*nth*d)/Tr\n",
"disp('The current density is Jth = (e*nth*d)/Tr= '+string(Jth)+'A/cm^2')//calculation\n",
"\n",
""
   ]
   }
,
{
		   "cell_type": "markdown",
		   "metadata": {},
		   "source": [
			"## Example 11.1: Absorption_coefficient.sce"
		   ]
		  },
  {
"cell_type": "code",
	   "execution_count": null,
	   "metadata": {
	    "collapsed": true
	   },
	   "outputs": [],
"source": [
"clc\n",
"hw=1.7\n",
"disp('hw = '+string(hw)+'eV') //initializing value of energy of incident optical beam (h-bar omega)\n",
"Eg = 1.43\n",
"disp('Eg= '+string(Eg)+'eV')//initializing value of Energy of band gap\n",
"alpha= 4.21*10^4*((hw-Eg)/(hw))\n",
"disp('The absorption coefficient(alpha) for GaAs is ,alpha= 4.21*10^4*((hw-Eg)/(hw))= '+string(alpha)+'cm^-1')//calculation\n",
"\n",
" \n",
""
   ]
   }
,
{
		   "cell_type": "markdown",
		   "metadata": {},
		   "source": [
			"## Example 11.2: Length_of_material.sce"
		   ]
		  },
  {
"cell_type": "code",
	   "execution_count": null,
	   "metadata": {
	    "collapsed": true
	   },
	   "outputs": [],
"source": [
"clc\n",
"hw=1.43\n",
"disp('hw = '+string(hw)+'eV') //initializing value of energy of incident optical beam (h-bar omega)\n",
"alpha = 2.5*10^4\n",
"disp('alpha= '+string(alpha)+'cm^-1')//initializing value of absorption coefficient(alpha) for GaAs\n",
"amt = .9\n",
"disp('amt= '+string(amt))//initializing value of amount of light to be absorbed\n",
"L= -(1/alpha)*log(1-amt)\n",
"disp('The length of the material  is ,L= -(1/alpha)*ln(1-amt)= '+string(L)+'cm')//calculation\n",
"\n",
" \n",
""
   ]
   }
,
{
		   "cell_type": "markdown",
		   "metadata": {},
		   "source": [
			"## Example 11.3: excess_carrier_density.sce"
		   ]
		  },
  {
"cell_type": "code",
	   "execution_count": null,
	   "metadata": {
	    "collapsed": true
	   },
	   "outputs": [],
"source": [
"clc\n",
"Pop = 10\n",
"disp('Pop= '+string(Pop))//initializing value of amount of optical intensity\n",
"hw=1.65\n",
"disp('hw = '+string(hw)+'eV') //initializing value of energy of incident optical beam (h-bar omega)\n",
"alpha = 7*10^3\n",
"disp('alpha= '+string(alpha)+'cm^-1')//initializing value of absorption coefficient(alpha) for GaAs\n",
"T = 10^-9\n",
"disp('T= '+string(T)+'s')//inializing value of e-h recombination time\n",
"GL = (alpha*Pop)/(hw*1.6*10^-19)\n",
"disp('The rate of e-h pair production is ,GL = (a*Pop)/(hw)= '+string(GL)+'cm^-3s^-1')//calculation\n",
"dn = (GL*T)\n",
"disp('The excess carrier density is ,dn = (GL*T)= '+string(dn)+'cm^-3')//calculation\n",
"\n",
" \n",
""
   ]
   }
,
{
		   "cell_type": "markdown",
		   "metadata": {},
		   "source": [
			"## Example 11.4: Photocurrent.sce"
		   ]
		  },
  {
"cell_type": "code",
	   "execution_count": null,
	   "metadata": {
	    "collapsed": true
	   },
	   "outputs": [],
"source": [
"clc\n",
"A= 10^4*10^-8\n",
"disp('A= '+string(A)+'cm^2') //initializing value of diode area\n",
"Na=2*10^16\n",
"disp('Na = '+string(Na)+'cm^-3') //initializing value of p side doping\n",
"Nd=10^16\n",
"disp('Nd = '+string(Nd)+'cm^-3') //initializing value of n side doping\n",
"Dn = 20\n",
"disp('Dn= '+string(Dn)+'cm^2/s')//initializing value of electron diffusion coefficient\n",
"Dp = 12\n",
"disp('Dp= '+string(Dp)+'cm^2/s')//initializing value of hole diffusion coefficient\n",
"Tn = 10^-8\n",
"disp('Tn= '+string(Tn)+'s')//inializing value of electron minority carrier lifetime\n",
"Tp = 10^-8\n",
"disp('Tp= '+string(Tp)+'s')//inializing value of hole minority carrier lifetime\n",
"GL = 10^22\n",
"disp('GL= '+string(GL)+'cm^-3s^-1')//inializing value of rate of e-h pair production\n",
"kbT = 0.026\n",
"disp('kbT = '+string(kbT)+'V/K') //initializing value of kbT at 300K\n",
"Es = 11.9*8.85*10^-14\n",
"disp('Es = '+string(Es)) //initializing value of relative permitivity\n",
"e = 1.6*10^-19\n",
"disp('e= '+string(e)+'C')//initializing value of charge of electron\n",
"VR = 2\n",
"disp('VR= '+string(VR)+'V')//initializing value of Reverse bias voltage\n",
"ni = 1.5*10^10\n",
"disp('ni = '+string(ni)+'cm^-3') //initializing value of intrinsic carrier concentration\n",
"Ln = sqrt(Dn*Tn)\n",
"disp('The electron diffusion length is ,Ln = sqrt(Dn*Tn)= '+string(Ln)+'cm')//calculation\n",
"Lp = sqrt(Dp*Tp)\n",
"disp('The hole diffusion length is ,Lp = sqrt(Dp*Tp)= '+string(Lp)+'cm')//calculation\n",
"Vbi = kbT*log((Na*Nd)/(ni)^2)\n",
"disp('The built in voltage is ,Vbi = kbT*log((Na*Nd)/(ni)^2)= '+string(Vbi)+'V')//calculation\n",
"W = sqrt((2*Es*(Na+Nd)*(Vbi+VR))/(e*Na*Nd))\n",
"disp('The depletion width is ,W = sqrt((2*Es*(Na+Nd)*(Vbi+VR))/(e*Na*Nd))= '+string(W)+'cm')//calculation\n",
"IL= (e*A*GL*(W+Ln+Lp))\n",
"disp('The photocurrent is ,IL= (e*A*GL*(W+Ln+Lp)= '+string(IL)+'A')//calculation\n",
" \n",
""
   ]
   }
,
{
		   "cell_type": "markdown",
		   "metadata": {},
		   "source": [
			"## Example 11.5: Open_circuit_voltage.sce"
		   ]
		  },
  {
"cell_type": "code",
	   "execution_count": null,
	   "metadata": {
	    "collapsed": true
	   },
	   "outputs": [],
"source": [
"clc\n",
"A= 1\n",
"disp('A= '+string(A)+'cm^2') //initializing value of diode area\n",
"Na=5*10^17\n",
"disp('Na = '+string(Na)+'cm^-3') //initializing value of p side doping\n",
"Nd=10^16\n",
"disp('Nd = '+string(Nd)+'cm^-3') //initializing value of n side doping\n",
"Dn = 20\n",
"disp('Dn= '+string(Dn)+'cm^2/s')//initializing value of electron diffusion coefficient\n",
"Dp = 10\n",
"disp('Dp= '+string(Dp)+'cm^2/s')//initializing value of hole diffusion coefficient\n",
"Tn = 3*10^-7\n",
"disp('Tn= '+string(Tn)+'s')//inializing value of electron minority carrier lifetime\n",
"Tp = 10^-7\n",
"disp('Tp= '+string(Tp)+'s')//inializing value of hole minority carrier lifetime\n",
"kbT = 0.026\n",
"disp('kbT = '+string(kbT)+'eV/K') //initializing value of kbT at 300K\n",
"IL = 25*10^-3\n",
"disp('IL= '+string(IL)+'A')//initializing value of photocurrent\n",
"e = 1.6*10^-19\n",
"disp('e= '+string(e)+'C')//initializing value of charge of electron\n",
"ni = 1.5*10^10\n",
"disp('ni = '+string(ni)+'cm^-3') //initializing value of electron density of ionisation electron for silicon\n",
"Ln = sqrt(Dn*Tn)\n",
"disp('The electron diffusion length is ,Ln = sqrt(Dn*Tn)= '+string(Ln)+'cm')//calculation\n",
"Lp = sqrt(Dp*Tp)\n",
"disp('The hole diffusion length is ,Lp = sqrt(Dp*Tp)= '+string(Lp)+'cm')//calculation\n",
"Io = A*e*(ni)^2*((Dn/(Ln*Na))+(Dp/(Lp*Nd)))\n",
"disp('The saturation current is ,Io = A*e*(ni)^2*((Dn/(Ln*Na))+(Dp/(Lp*Nd)))= '+string(Io)+'A')//calculation\n",
"Voc= (kbT)*log(1+(IL/Io))\n",
"disp('The open circuit voltage is ,Voc= (kbT)*log(1+(IL/Io))= '+string(Voc)+'V')//calculation\n",
" \n",
""
   ]
   }
,
{
		   "cell_type": "markdown",
		   "metadata": {},
		   "source": [
			"## Example 11.6: number_of_solar_cell_required_to_generate_desire_power.sce"
		   ]
		  },
  {
"cell_type": "code",
	   "execution_count": null,
	   "metadata": {
	    "collapsed": true
	   },
	   "outputs": [],
"source": [
"clc\n",
"A= 1\n",
"disp('A= '+string(A)+'cm^2') //initializing value of diode area\n",
"Na=5*10^17\n",
"disp('Na = '+string(Na)+'cm^-3') //initializing value of p side doping\n",
"Nd=10^16\n",
"disp('Nd = '+string(Nd)+'cm^-3') //initializing value of n side doping\n",
"Dn = 20\n",
"disp('Dn= '+string(Dn)+'cm^2/s')//initializing value of electron diffusion coefficient\n",
"Dp = 10\n",
"disp('Dp= '+string(Dp)+'cm^2/s')//initializing value of hole diffusion coefficient\n",
"Tn = 3*10^-7\n",
"disp('Tn= '+string(Tn)+'s')//inializing value of electron minority carrier lifetime\n",
"Tp = 10^-7\n",
"disp('Tp= '+string(Tp)+'s')//inializing value of hole minority carrier lifetime\n",
"kbT = 0.026\n",
"disp('kbT = '+string(kbT)+'V/K') //initializing value of kbT at 300K\n",
"IL = 25*10^-3\n",
"disp('IL= '+string(IL)+'A')//initializing value of photocurrent or short circuit current of solar cell \n",
"e = 1.6*10^-19\n",
"disp('e= '+string(e)+'C')//initializing value of charge of electron\n",
"ni = 1.5*10^10\n",
"disp('ni = '+string(ni)+'cm^-3') //initializing value of electron density of ionisation electron for silicon\n",
"Io = 3.66*10^-11\n",
"disp('Io= '+string(Io)+'A')//initializing value of diode saturation current\n",
"Voc= (kbT)*log(1+(IL/Io))\n",
"disp('The open circuit voltage is ,Voc= (kbT)*log(1+(IL/Io))= '+string(Voc)+'V')//calculation\n",
"P = 0.8*IL*Voc \n",
"disp('The power per solar cell is ,P = 0.8*IL*Voc = '+string(P)+'W')//calculation\n",
"// Note: Answer given in the book is incorrect it is 10.6 mW not 1.06 mW\n",
"N_series = 10/(0.9*Voc)\n",
"disp('The number of solar cell needed to produce output power 10V is ,N_series = 10/(0.9*Voc) = '+string(N_series))//calculation\n",
"N_parallel = 10/(0.9*IL*10)\n",
"disp('The number of solar cell needed to produce output power 10W is ,N_parallel = 10/(0.9*IL*10) = '+string(N_parallel))//calculation\n",
"// Note : due to different precisions taken by me and the author ... my answer differ \n",
""
   ]
   }
,
{
		   "cell_type": "markdown",
		   "metadata": {},
		   "source": [
			"## Example 11.7: photocurrent_dendity.sce"
		   ]
		  },
  {
"cell_type": "code",
	   "execution_count": null,
	   "metadata": {
	    "collapsed": true
	   },
	   "outputs": [],
"source": [
"clc\n",
"Pop = 1\n",
"disp('Pop= '+string(Pop)+'W/cm^2')//initializing value of amount of optical power\n",
"hw=1.43\n",
"disp('hw = '+string(hw)+'eV') //initializing value of energy of incident optical beam (h-bar omega)\n",
"a = 700\n",
"disp('a= '+string(a)+'cm^-1')//initializing value of absorption coefficient(alpha) \n",
"W = 10^-3\n",
"disp('W= '+string(W)+'m')//inializing value of intrinsic region width\n",
"e = 1.6*10^-19\n",
"disp('e= '+string(e)+'C')//initializing value of charge of electron\n",
"Phi_o = (Pop)/(hw*1.6*10^-19)\n",
"disp('The photon flux incident on the detector Phi_o = (Pop)/(hw*1.6*10^-19)= '+string(Phi_o)+'cm^-2s^-1')//calculation\n",
"JL=e*Phi_o*(1-exp(-(a*W)))\n",
"disp('The photocurrent density is ,JL=e*Phi_o*(1-exp(-(a*W))= '+string(JL)+'A/cm^2')//calculation\n",
"\n",
" \n",
""
   ]
   }
,
{
		   "cell_type": "markdown",
		   "metadata": {},
		   "source": [
			"## Example 11.8: e_h_recombination_time.sce"
		   ]
		  },
  {
"cell_type": "code",
	   "execution_count": null,
	   "metadata": {
	    "collapsed": true
	   },
	   "outputs": [],
"source": [
"clc\n",
"h=1.05*10^-34\n",
"disp('h = '+string(h)+'Js') //initializing value of reduced plancks constant or dirac constant or h-bar\n",
"mo = 9.1*10^-31\n",
"disp('mo = '+string(mo)+'kg') //initializing value of mass of electron\n",
"me = 0.067*9.1*10^-31\n",
"disp('me* = '+string(me)+'kg') //initializing value of electron mass of InAs\n",
"kbT = 0.026\n",
"disp('kbT = '+string(kbT)+'eV') //initializing value of kbT at 300K\n",
"mh = 0.45*9.1*10^-31\n",
"disp('mh*= '+string(mh)+'kg')//initializing value of hole density of state mass\n",
"To = .6*10^-9\n",
"disp('To = '+string(To)+'s') //initializing value of minimum recombination time\n",
"p = 10^21\n",
"disp('p = '+string(p)+'m^-3') //initializing value of excess electron or hole density injected\n",
"T = (p/(2*To))*((2*(%pi)*h^2)/(kbT*1.6*10^-19*(me+mh)))^(3/2)\n",
"disp('T = (p/(2*To))*((2*(%pi)*h^2)/(kbT*1.6*10^-19*(me+mh)))^(3/2) = '+string(T)+'s^-1')//calculation\n",
"Tr = 1/T\n",
"disp('The e-h recombination time is Tr = 1/T = '+string(Tr)+'s')//calculation"
   ]
   }
,
{
		   "cell_type": "markdown",
		   "metadata": {},
		   "source": [
			"## Example 11.9: internal_quantum_efficiency.sce"
		   ]
		  },
  {
"cell_type": "code",
	   "execution_count": null,
	   "metadata": {
	    "collapsed": true
	   },
	   "outputs": [],
"source": [
"clc\n",
"h=1.05*10^-34\n",
"disp('h = '+string(h)+'Js') //initializing value of reduced plancks constant or dirac constant or h-bar\n",
"mo = 9.1*10^-31\n",
"disp('mo = '+string(mo)+'kg') //initializing value of mass of electron\n",
"me = 0.067*9.1*10^-31\n",
"disp('me* = '+string(me)+'kg') //initializing value of electron mass of InAs\n",
"kbT = 0.026\n",
"disp('kbT = '+string(kbT)+'eV') //initializing value of kbT at 300K\n",
"mh = 0.45*9.1*10^-31\n",
"disp('mh*= '+string(mh)+'kg')//initializing value of hole density of state mass\n",
"To = .6*10^-9\n",
"disp('To = '+string(To)+'s') //initializing value of minimum recombination time\n",
"tnr = 10^-7\n",
"disp('tnr = '+string(tnr)+'s') //initializing value of nonradiative recombination time\n",
"p = 10^21\n",
"disp('p = '+string(p)+'m^-3') //initializing value of excess electron or hole density injected\n",
"mr = 1/((1/me)+(1/mh))\n",
"disp('The reduced mass for the e-h system is mr* = 1/((1/me)+(1/mh)) = '+string(mr)+'kg')//calculation\n",
"disp('           For low p-doping such as 10^16, the recombination time is given as below')\n",
"T1 = (p/(2*To))*((2*(%pi)*h^2)/(kbT*1.6*10^-19*(me+mh)))^(3/2)\n",
"disp('T = (p/(2*To))*((2*(%pi)*h^2)/(kbT*1.6*10^-19*(me+mh)))^(3/2) = '+string(T1)+'s^-1')//calculation\n",
"Tr1 = 1/T1\n",
"disp('The e-h recombination time is Tr1 = 1/T1 = '+string(Tr1)+'s')//calculation\n",
"nQr1 = 1/(1+(Tr1/tnr))\n",
"disp('The internal quantum efficiency  is nQr1 = 1/(1+(Tr1/tnr)) = '+string(nQr1))//calculation\n",
"disp('         For high p-doping such as 5*10^17, the recombination time is given as below')\n",
"T2 = (1/To)*((mr/mh)^(3/2))\n",
"disp('T2 = (1/To)*((mr/mh)^(3/2)) = '+string(T2)+'s^-1')//calculation\n",
"Tr2 = 1/T2\n",
"disp('The e-h recombination time is Tr2 = 1/T2 = '+string(Tr2)+'s')//calculation\n",
"nQr2 = 1/(1+(Tr2/tnr))\n",
"disp('The internal quantum efficiency  is nQr2 = 1/(1+(Tr2/tnr)) = '+string(nQr2))//calculation\n",
"// Note : due to different precisions taken by me and the author ... my answer differ "
   ]
   }
],
"metadata": {
		  "kernelspec": {
		   "display_name": "Scilab",
		   "language": "scilab",
		   "name": "scilab"
		  },
		  "language_info": {
		   "file_extension": ".sce",
		   "help_links": [
			{
			 "text": "MetaKernel Magics",
			 "url": "https://github.com/calysto/metakernel/blob/master/metakernel/magics/README.md"
			}
		   ],
		   "mimetype": "text/x-octave",
		   "name": "scilab",
		   "version": "0.7.1"
		  }
		 },
		 "nbformat": 4,
		 "nbformat_minor": 0
}
