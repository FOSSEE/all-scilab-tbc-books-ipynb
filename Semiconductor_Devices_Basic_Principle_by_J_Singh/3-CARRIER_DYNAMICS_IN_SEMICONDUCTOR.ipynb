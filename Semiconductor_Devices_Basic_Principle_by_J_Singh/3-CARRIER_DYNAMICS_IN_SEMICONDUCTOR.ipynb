{
"cells": [
 {
		   "cell_type": "markdown",
	   "metadata": {},
	   "source": [
       "# Chapter 3: CARRIER DYNAMICS IN SEMICONDUCTOR"
	   ]
	},
{
		   "cell_type": "markdown",
		   "metadata": {},
		   "source": [
			"## Example 3.10: position_of_electron_and_hole_quasi_fermi_level.sce"
		   ]
		  },
  {
"cell_type": "code",
	   "execution_count": null,
	   "metadata": {
	    "collapsed": true
	   },
	   "outputs": [],
"source": [
"clc\n",
"Nc=2.8*10^(19)\n",
"disp('Nc = '+string(Nc)+'cm^-3') \n",
"Nv=1.04*10^(19)\n",
"disp('Nv = '+string(Nv)+'cm^-3') \n",
"//NOTE: Ec-Ev = forbidden band gap energy = Eg\n",
"Eg = 1.1\n",
"e = 1.6*10^-19\n",
"disp('e= '+string(e)+'C')//initializing value of charge of electron\n",
"kbT = 0.026\n",
"disp('kbT = '+string(kbT)+'eV') //initializing value of kbT at 300K\n",
"n= 10^17\n",
"disp('n = '+string(n)+'cm^-3') \n",
"p= 10^17\n",
"disp('p = '+string(p)+'cm^-3') \n",
"Efn_minus_Efp = Eg+(kbT*(log(p/Nv)+log(n/Nc)))\n",
"disp('The difference in the quasi fermi level is ,Efn_minus_Efp = Eg+(kbT*(log(p/Nv)+log(n/Nc))) = '+string(Efn_minus_Efp)+'eV')//calculation\n",
"n= 10^15\n",
"disp('n = '+string(n)+'cm^-3') \n",
"p= 10^15\n",
"disp('p = '+string(p)+'cm^-3') \n",
"Efn_minus_Efp = Eg+(kbT*(log(p/Nv)+log(n/Nc)))\n",
"disp('The difference in the quasi fermi level is ,Efn_minus_Efp = Eg+(kbT*(log(p/Nv)+log(n/Nc))) = '+string(Efn_minus_Efp)+'eV')//calculation \n",
"\n",
""
   ]
   }
,
{
		   "cell_type": "markdown",
		   "metadata": {},
		   "source": [
			"## Example 3.11: Minimum_thickness_of_sample.sce"
		   ]
		  },
  {
"cell_type": "code",
	   "execution_count": null,
	   "metadata": {
	    "collapsed": true
	   },
	   "outputs": [],
"source": [
"clc\n",
"alpha1=(-10^(4))\n",
"disp('Alpha1 = '+string(alpha1)+'cm^-1') //initializing value of absorption coefficient near the bandedges of GaAs\n",
"alpha2=(-10^(3))\n",
"disp('alpha2 = '+string(alpha2)+'cm^-1') //initializing value of absorption coefficient near the bandedges of Si\n",
"Iabs_by_Iinc = 0.9\n",
"disp('Iabs/Iinc= '+string(Iabs_by_Iinc)+'C')//initializing value of amount of light absorbed\n",
"L1 = (1/alpha1)*log(1-(Iabs_by_Iinc))\n",
"disp('The thickness of a sample GaAs is ,L = (1/alpha1)*log(1-Iabs/Iinc) = '+string(L1)+'cm')//calculation\n",
"L2 = (1/alpha2)*log(1-(Iabs_by_Iinc))\n",
"disp('The thickness of a sample Si is ,L = (1/alpha2)*log(1-Iabs/Iinc) = '+string(L2)+'cm')//calculation\n",
""
   ]
   }
,
{
		   "cell_type": "markdown",
		   "metadata": {},
		   "source": [
			"## Example 3.12: Carrier_generation_rate.sce"
		   ]
		  },
  {
"cell_type": "code",
	   "execution_count": null,
	   "metadata": {
	    "collapsed": true
	   },
	   "outputs": [],
"source": [
"clc\n",
"alpha=(3*10^(3))\n",
"disp('alpha = '+string(alpha)+'cm^-1') //initializing value of absorption coefficient near the bandedges of GaAs\n",
"p=(10^(3))\n",
"disp('(power density)p = '+string(p)+'W cm^-2') //initializing value of power density that impringes on GaAs\n",
"Tr = 1.5*1.6*10^-19\n",
"disp('Tr= '+string(Tr)+'J')//initializing value of photon energy\n",
"d = 10^-3\n",
"disp('d= '+string(d)+'')//initializing value of photon energy\n",
"Rg1 = (alpha*p)/Tr\n",
"disp('The carrier generation rate at the surface is ,Rg(0) = (alpha*p)/Tr = '+string(Rg1)+'cm^-3s^-1')//calculation\n",
"Rg2 = (alpha*p*exp(-3))/Tr\n",
"disp('The carrier generation rate at the depth of 10 um is ,Rg(10) = (alpha*p*exp(-3))/Tr = '+string(Rg2)+'cm^-3s^-1')//calculation\n",
""
   ]
   }
,
{
		   "cell_type": "markdown",
		   "metadata": {},
		   "source": [
			"## Example 3.13: Electron_trapping_time.sce"
		   ]
		  },
  {
"cell_type": "code",
	   "execution_count": null,
	   "metadata": {
	    "collapsed": true
	   },
	   "outputs": [],
"source": [
"clc\n",
"mo = 9.1*10^-31\n",
"disp('mo = '+string(mo)+'kg') //initializing value of mass of electron\n",
"m = 0.27*mo\n",
"disp('m* = '+string(m)+'kg') //initializing value of effective mass of silicon\n",
"kb = (1.38*10^-23)\n",
"disp('kb = '+string(kb)+'J/K') //initializing value of boltzman constant\n",
"T1 = 300\n",
"disp('T1 = '+string(T1)+'K') //initializing value of temperature\n",
"T2 = 77\n",
"disp('T2 = '+string(T2)+'K') //initializing value of temperature\n",
"vth1=(sqrt((3*kb*T1)/(m)))*100\n",
"disp('The thermal velocity of the electron at 300K is ,vth(300K)=sqrt((3*kb*T)/(m*)) = '+string(vth1)+'cms^-1')//calculation\n",
"vth2=(sqrt((3*kb*T2)/(m)))*100\n",
"disp('The thermal velocity of the electron at 77K is ,vth(77K)=sqrt((3*kb*T)/(m*)) = '+string(vth2)+'cms^-1')//calculation\n",
"sigma=10^(-14)\n",
"disp('sigma = '+string(sigma)+'cm^2') //initializing value of cross-section\n",
"Nt = 10^15\n",
"disp('Nt= '+string(Nt)+'cm^-3')//initializing value of impurity density\n",
"Tnr1 = 1/(sigma*Nt*vth1)\n",
"disp('The electron trapping time is ,Tnr1 = 1/(sigma*Nt*vth1) = '+string(Tnr1)+'s')//calculation\n",
"Tnr2 = 1/(sigma*Nt*vth2)\n",
"disp('The electron trapping time is ,Tnr2 = 1/(sigma*Nt*vth2) = '+string(Tnr2)+'s')//calculation\n",
"//NOTE: in the Textbook the author has taken the approximated value for Vth thermal velocity\\n",
"// NOTE: these approximated values of velocity affects the value of electron trapping time"
   ]
   }
,
{
		   "cell_type": "markdown",
		   "metadata": {},
		   "source": [
			"## Example 3.14: diffusion_length.sce"
		   ]
		  },
  {
"cell_type": "code",
	   "execution_count": null,
	   "metadata": {
	    "collapsed": true
	   },
	   "outputs": [],
"source": [
"clc\n",
"KbT = 1.38*(10^-23)*300\n",
"disp('kbT = '+string(KbT)+'V') //initializing value of kbT at 300K\n",
"mu=.4\n",
"disp('mu = '+string(mu)+'m^2(Vs)^-1') //initializing value of mobility of p-type GaAs\n",
"e = 1.6*10^-19\n",
"disp('e= '+string(e)+'C')//initializing value of charge of electron\n",
"Dn = (mu*KbT)/e\n",
"disp('The diffusion constant using einstein relation is Dn = (mu*KbT)/e= '+string(Dn)+'m^2/s')//calculation\n",
"T = 0.6*10^-9\n",
"disp('T= '+string(T)+'s')//initializing value of recombination time\n",
"Ln = sqrt(Dn*T)\n",
"disp('The diffusion length of p type GaAs is Ln = sqrt(Dn*T)= '+string(Ln)+'m')//calculation\n",
""
   ]
   }
,
{
		   "cell_type": "markdown",
		   "metadata": {},
		   "source": [
			"## Example 3.16: fraction_of_donor_and_diffusion_length.sce"
		   ]
		  },
  {
"cell_type": "code",
	   "execution_count": null,
	   "metadata": {
	    "collapsed": true
	   },
	   "outputs": [],
"source": [
"clc\n",
"e = 1.6*10^-19\n",
"disp('e= '+string(e)+'C')//initializing value of charge of electron\n",
"KbT = 0.026\n",
"disp('kbT = '+string(kbT)+'V') //initializing value of kbT at 300K\n",
"sigma=10\n",
"disp('sigma = '+string(sigma)+'ohmcm^-1') //initializing value of conductivity\n",
"mu_n=1100\n",
"disp('mu_n = '+string(mu_n)+'cm^2(Vs)^-1') //initializing value of mobility of electrons\n",
"mu_p=400\n",
"disp('mu_p = '+string(mu_p)+'cm^2(Vs)^-1') //initializing value of mobility of holes\n",
"Nd = 10^17\n",
"disp('Nd= '+string(Nd)+'cm^-3')//initializing value of doping\n",
"n = sigma/(e*mu_n)\n",
"disp('The carrier concentration in n type material is n = sigma/(e*mu_n)= '+string(n)+'cm^-3')//calculation\n",
"// the answer in textbook is given in %\n",
"//The excess drops by 50% once light is off using this fact in below equation\n",
"T = -1/log(.5)\n",
"disp('The recombination time is T = -1/log(.5)= '+string(T)+'micro-sec')//calculation\n",
"Dp = mu_p*kbT\n",
"disp('The diffusion constant is Dp = mu_p*kbT = '+string(Dp)+'cm^2/s')//calculation\n",
"Lp = sqrt(Dp*T*10^-6)\n",
"disp('The diffusion length is Lp = sqrt(Dp*T*10^-6) = '+string(Lp)+'m')//calculation\n",
"\n",
"\n",
"\n",
""
   ]
   }
,
{
		   "cell_type": "markdown",
		   "metadata": {},
		   "source": [
			"## Example 3.1: Relaxation_time.sce"
		   ]
		  },
  {
"cell_type": "code",
	   "execution_count": null,
	   "metadata": {
	    "collapsed": true
	   },
	   "outputs": [],
"source": [
"clc\n",
"mo = 9.1*10^-31\n",
"disp('mo = '+string(mo)+'kg') //initializing value of mass of electron\n",
"me = 0.067*mo\n",
"disp('me* = '+string(me)+'kg') //initializing value of effective mass of GaAs\n",
"u1=8500*10^(-4)\n",
"disp('u1 = '+string(u1)+'m^2(Vs)^-1') //initializing value of mobility of pure GaAs\n",
"e = 1.6*10^-19\n",
"disp('e= '+string(e)+'C')//initializing value of charge of electron\n",
"u2=5000*10^(-4)\n",
"disp('u2 = '+string(u2)+'m^2(Vs)^-1') //initializing value of mobility of impure GaAs\n",
"Tsc1 = (me*u1)/e\n",
"disp('The relaxation time of pure GaAs is Tsc1 = (me*u1)/e= '+string(Tsc1)+'s')//calculation\n",
"Tsc2 = (me*u2)/e\n",
"disp('The relaxation time of impure GaAs is Tsc2 = (me*u2)/e= '+string(Tsc2)+'s')//calculation\n",
"//using Mathieson rule\n",
"Tsc = ((1/Tsc2)-(1/Tsc1))^-1\n",
"disp('The impurity related time is Tsc(imp) = ((1/Tsc2)-(1/Tsc1))^-1 = '+string(Tsc)+'s')//calculation"
   ]
   }
,
{
		   "cell_type": "markdown",
		   "metadata": {},
		   "source": [
			"## Example 3.2: Scattering_time.sce"
		   ]
		  },
  {
"cell_type": "code",
	   "execution_count": null,
	   "metadata": {
	    "collapsed": true
	   },
	   "outputs": [],
"source": [
"clc\n",
"mo = 9.1*10^-31\n",
"disp('mo = '+string(mo)+'kg') //initializing value of mass of electron\n",
"ml = 0.98*mo\n",
"disp('ml* = '+string(ml)+'kg') //initializing value of longitudinal mass\n",
"mt = 0.19*mo\n",
"disp('mt*= '+string(mt)+'kg')//initializing value of transverse mass\n",
"u=1500*10^(-4)\n",
"disp('u = '+string(u)+'m^2(Vs)^-1') //initializing value of mobility of pure silicon\n",
"e = 1.6*10^-19\n",
"disp('e= '+string(e)+'C')//initializing value of charge of electron\n",
"Msig = 3*((2/mt)+(1/ml))^(-1)\n",
"disp('The conductivity mass is ,(Msig* = 3*((2/mt)+(1/ml))^(-1)))= '+string(Msig)+'kg')//calculation\n",
"Tsc = u*Msig/e\n",
"disp('The scattering time is ,Tsc = u*Msig/e= '+string(Tsc)+'s')//calculation\n",
"\n",
" \n",
""
   ]
   }
,
{
		   "cell_type": "markdown",
		   "metadata": {},
		   "source": [
			"## Example 3.3: conductivity.sce"
		   ]
		  },
  {
"cell_type": "code",
	   "execution_count": null,
	   "metadata": {
	    "collapsed": true
	   },
	   "outputs": [],
"source": [
"clc\n",
"un1=1000\n",
"disp('un1 = '+string(un1)+'cm^2(Vs)^-1') //initializing value of mobility of electron of silicon\n",
"e = 1.6*10^-19\n",
"disp('e= '+string(e)+'C')//initializing value of charge of electron\n",
"un2 = 8000\n",
"disp('un2 = '+string(un2)+'cm^2(Vs)^-1') //initializing value of mobility of electron of GaAs\n",
"up1 = 350\n",
"disp('up1 = '+string(up1)+'cm^2(Vs)^-1') //initializing value of mobility of holes of silicon\n",
"up2 = 400\n",
"disp('up2 = '+string(up2)+'cm^2(Vs)^-1') //initializing value of mobility of holes of GaAs\n",
"ndoped = (50/100)*10^17\n",
"disp('ndoped = '+string(ndoped)+'cm^-3') //initializing value of electron density of doped semiconductor(50% of Nd=10^17 cm^-3)\n",
"ni = 1.5*10^10\n",
"disp('ni = '+string(ni)+'cm^-3') //initializing value of electron density of ionisation electron for silicon\n",
"pdoped = (ni)^2/ndoped\n",
"disp('The hole density of doped semiconductor is pdoped = (ni)^2/ndoped = '+string(pdoped)+'cm^-3')//calculation\n",
"//pdoped can be neglected \n",
"Sdoped = ndoped*e*un1\n",
"disp('The conductivity of doped silicon is (sigma doped) Sdoped = ndoped*e*un = '+string(Sdoped)+'ohmcm^-1')//calculation\n",
"p1 = 1.5*10^10\n",
"disp('p1 = '+string(p1)+'cm^-3') //initializing value of hole density for undoped silicon\n",
"Sundoped = ni*e*un1+p1*e*up1\n",
"disp('The conductivity of undoped silicon is (sigma undoped)Sundoped = ni*e*un+p*e*up = '+string(Sundoped)+'ohmcm^-1')//calculation\n",
"Sdoped1 = ndoped*e*un2\n",
"disp('The conductivity of doped GaAs is (sigma doped) Sdoped = ndoped*e*un = '+string(Sdoped1)+'ohmcm^-1')//calculation\n",
"p2 = 1.84*10^6\n",
"disp('p2 = '+string(p2)+'cm^-3') //initializing value of hole density for undoped GaAs\n",
"ni1 = 1.84*10^6\n",
"disp('ni = '+string(ni1)+'cm^-3') //initializing value of electron density of ionisation electron for GaAs\n",
"Sundoped = ni1*e*un2+p2*e*up1\n",
"disp('The conductivity of undoped silicon is (sigma undoped) Sundoped = ni*e*un1+p1*e*up1 = '+string(Sundoped)+'ohmcm^-1')//calculation"
   ]
   }
,
{
		   "cell_type": "markdown",
		   "metadata": {},
		   "source": [
			"## Example 3.4: Maximum_and_minimum_conductivity.sce"
		   ]
		  },
  {
"cell_type": "code",
	   "execution_count": null,
	   "metadata": {
	    "collapsed": true
	   },
	   "outputs": [],
"source": [
"clc\n",
"un1=1000\n",
"disp('un1 = '+string(un1)+'cm^2(Vs)^-1') //initializing value of mobility of electron of silicon\n",
"e = 1.6*10^-19\n",
"disp('e= '+string(e)+'C')//initializing value of charge of electron\n",
"un2 = 400\n",
"disp('un2 = '+string(un2)+'cm^2(Vs)^-1') //initializing value of mobility of electron of GaAs\n",
"up1 = 350\n",
"disp('up1 = '+string(up1)+'cm^2(Vs)^-1') //initializing value of mobility of holes of silicon\n",
"up2 = 8000\n",
"disp('up2 = '+string(up2)+'cm^2(Vs)^-1') //initializing value of mobility of holes of GaAs\n",
"ni = 1.5*10^10\n",
"disp('ni = '+string(ni)+'cm^-3') //initializing value of electron density of ionisation electron\n",
"nmax = 2.78*10^19\n",
"disp('nmax = '+string(nmax)+'cm^-3') //initializing value of maximum electron density for silicon\n",
"nmax1 = 7.72*10^18\n",
"disp('nmax1 = '+string(nmax1)+'cm^-3') //initializing value of maximum electron density for GaAs\n",
"Smax = nmax*e*un1\n",
"disp('The maximum conductivity for silicon is (sigma max) Smax = nmax*e*un = '+string(Smax)+'ohmcm^-1')//calculation\n",
"Smax1 = nmax1*e*un2\n",
"disp('The maximum conductivity of GaAs is (sigma max) Smax = nmax*e*un = '+string(Smax1)+'ohmcm^-1')//calculation\n",
"Smin = ni*e*((un1*sqrt(up1/un1))+(up1*sqrt(un1/up1)))\n",
"disp('The minimum conductivity of silicon is (sigma min)Smin = ni*e*((un1*sqrt(up1/un1))+(up1*sqrt(un1/up1))) = '+string(Smin)+'ohmcm^-1')//calculation\n",
"ni1 = 1.84*10^6\n",
"disp('ni = '+string(ni1)+'cm^-3') //initializing value of electron density of ionisation electron for GaAs\n",
"Smin1 = ni1*e*((un2*sqrt(up2/un2))+(up2*sqrt(un2/up2)))\n",
"disp('The minimum conductivity of GaAs is (sigma min)Smin1 = ni*e*((un2*sqrt(up2/un2))+(up2*sqrt(un2/up2))) = '+string(Smin1)+'ohmcm^-1')//calculation"
   ]
   }
,
{
		   "cell_type": "markdown",
		   "metadata": {},
		   "source": [
			"## Example 3.5: RELAXATION_TIME.sce"
		   ]
		  },
  {
"cell_type": "code",
	   "execution_count": null,
	   "metadata": {
	    "collapsed": true
	   },
	   "outputs": [],
"source": [
"clc\n",
"mo = 9.1*10^-31\n",
"disp('mo = '+string(mo)+'kg') //initializing value of mass of electron\n",
"me = 0.26*mo\n",
"disp('me* = '+string(me)+'kg') //initializing value of conductivity mass of silicon\n",
"v1=1.4*10^(6)\n",
"disp('v1 = '+string(v1)+'cm(s)^-1') //initializing value of velocity of silicon electron at 300K\n",
"e = 1.6*10^-19\n",
"disp('e= '+string(e)+'C')//initializing value of charge of electron\n",
"v2=1.0*10^(7)\n",
"disp('v2 = '+string(v2)+'cm^(s)^-1') //initializing value of velocity of silicon electron at 300K\n",
"F1= 1000\n",
"disp('F1 = '+string(F1)+'V(cm)^-1') //initializing value of electric field \n",
"F2= 100000\n",
"disp('F2 = '+string(F2)+'V(cm)^-1') //initializing value of electric field \n",
"u1 = v1/(F1*10^4)\n",
"disp('The mobility for electrons in silicon (1 kV/cm) is u1 = v1/(F1*10^4) = '+string(u1)+'m^2/V.s')//calculation\n",
"u2 = v2/(F2*10^4)\n",
"disp('The mobility for electrons in silicon (100 kV/cm) is u2 = v2/(F2*10^4) = '+string(u2)+'m^2/V.s')//calculation\n",
"Tsc1 = (me*u1)/e\n",
"disp('The relaxation time of electrons in silicon at 1kV/cm is Tsc1 = (me*u1)/e= '+string(Tsc1)+'s')//calculatio\n",
"Tsc2 = (me*u2)/e\n",
"disp('The relaxation time of electrons in silicon at 100kV/cm is Tsc2 = (me*u2)/e= '+string(Tsc2)+'s')//calculation\n",
""
   ]
   }
,
{
		   "cell_type": "markdown",
		   "metadata": {},
		   "source": [
			"## Example 3.6: transit_time.sce"
		   ]
		  },
  {
"cell_type": "code",
	   "execution_count": null,
	   "metadata": {
	    "collapsed": true
	   },
	   "outputs": [],
"source": [
"clc\n",
"v2=1.0*10^(7)\n",
"disp('v2 = '+string(v2)+'cm^(s)^-1') //initializing value of saturation velocity of GaAs device\n",
"F= 5000\n",
"disp('F = '+string(F)+'V(cm)^-1') //initializing value of average electric field in GaAs device\n",
"L= 2*10^(-4)\n",
"disp('L = '+string(L)+'cm') //initializing value of length of GaAs device \n",
"u = 8000\n",
"disp('u = '+string(u)+'cm^2/Vs') //initializing value of low field mobility\n",
"v1 = u*F\n",
"disp('The average velocity of electrons is v = u*F = '+string(v1)+'cm/s')//calculation\n",
"Ttr1 = L/v1\n",
"disp('The transit time of electrons through the device is Ttr1 = L/v1= '+string(Ttr1)+'s')//calculation\n",
"Ttr2 = L/v2\n",
"disp('The transit time of electrons using saturation velocity through the device is Ttr2 = L/v2= '+string(Ttr2)+'s')//calculation"
   ]
   }
,
{
		   "cell_type": "markdown",
		   "metadata": {},
		   "source": [
			"## Example 3.7: Tunneling_probability.sce"
		   ]
		  },
  {
"cell_type": "code",
	   "execution_count": null,
	   "metadata": {
	    "collapsed": true
	   },
	   "outputs": [],
"source": [
"clc\n",
"h=1.05*10^-34\n",
"disp('h = '+string(h)+'Js') //initializing value of reduced plancks constant or dirac constant or h-bar\n",
"mo = 9.1*10^-31\n",
"disp('mo = '+string(mo)+'kg') //initializing value of mass of electron\n",
"me1 = 0.065*9.1*10^-31\n",
"disp('me*(GaAs) = '+string(me1)+'kg') //initializing value of electron mass of GaAs\n",
"me2 = 0.02*9.1*10^-31\n",
"disp('me*(InAs) = '+string(me2)+'kg') //initializing value of electron mass of InAs\n",
"e = 1.6*10^-19\n",
"disp('e= '+string(e)+'C')//initializing value of charge of electron\n",
"Eg1 = 1.5*1.6*10^-19\n",
"disp('Eg(GaAs) = '+string(Eg1)+'J') //initializing value of valence bandedge energy of GaAs\n",
"Eg2 = 0.4052*1.6*10^-19\n",
"disp('Eg(InAs) = '+string(Eg2)+'J') //initializing value of valence bandedge energy of InAs\n",
"F= 2*10^7\n",
"disp('F = '+string(F)+'V(cm)^-1') //initializing value of applied electric field \n",
"T1 = exp(-(4*sqrt(2*me1)*(Eg1)^(3/2))/(3*e*h*F))\n",
"disp('The tunneling probability in GaAs is T1 = exp(-(4*sqrt(2*me1)*(Eg1)^(3/2))/(3*e*h*F)) = '+string(T1)+'')//calculation\n",
"T2 = exp(-(4*sqrt(2*me2)*(Eg2)^(3/2))/(3*e*h*F))\n",
"disp('The tunneling probability in InAs is T2 = exp(-(4*sqrt(2*me2)*(Eg2)^(3/2))/(3*e*h*F)) = '+string(T2)+'')//calculation\n",
"//NOTE: The tunneling probability in GaAs is approximately given zero in the textbook"
   ]
   }
,
{
		   "cell_type": "markdown",
		   "metadata": {},
		   "source": [
			"## Example 3.8: Diffusion_current_density.sce"
		   ]
		  },
  {
"cell_type": "code",
	   "execution_count": null,
	   "metadata": {
	    "collapsed": true
	   },
	   "outputs": [],
"source": [
"clc\n",
"e = 1.6*10^-19\n",
"disp('e= '+string(e)+'C')//initializing value of charge of electron\n",
"L =10^-4\n",
"disp('L= '+string(L)+'cm')//initializing value of length\n",
"Dn =220\n",
"disp('Dn= '+string(Dn)+'cm^2/s')//initializing value of electron diffusion coefficient\n",
"//n(x) = 10^16*exp(-(x/L)) cm^-3\n",
"//Derivative of n(x) for x =0 is  10^16/L\n",
"dn_by_dx =10^16/L\n",
"disp('dn_by_dx= '+string(dn_by_dx)+'cm^-4')//initializing value of derivative of n(x) for x=0\n",
"Jn_diff = e*Dn*dn_by_dx\n",
"disp('The diffusion current density is Jn_diff = e*Dn*dn_by_dx = '+string(Jn_diff)+'A/cm^2')//calculation\n",
"// Note : due to different precisions taken by me and the author ... my answer differ \n",
" \n",
" \n",
""
   ]
   }
,
{
		   "cell_type": "markdown",
		   "metadata": {},
		   "source": [
			"## Example 3.9: diffusion_coefficient.sce"
		   ]
		  },
  {
"cell_type": "code",
	   "execution_count": null,
	   "metadata": {
	    "collapsed": true
	   },
	   "outputs": [],
"source": [
"clc\n",
"v1=1.4*10^(4)\n",
"disp('v1 = '+string(v1)+'m(s)^-1') //initializing value of velocity of electrons in silion at 1kV/cm\n",
"v2=7*10^(4)\n",
"disp('v2 = '+string(v2)+'m(s)^-1') //initializing value of velocity of electrons in silion at 10kV/cm\n",
"e = 1.6*10^-19\n",
"disp('e= '+string(e)+'C')//initializing value of charge of electron\n",
"kbT = 0.026\n",
"disp('kbT = '+string(kbT)+'eV') //initializing value of kbT at 300K\n",
"F1= 10^5\n",
"disp('F1 = '+string(F1)+'V(m)^-1') //initializing value of applied electric field\n",
"F2= 10^6\n",
"disp('F2 = '+string(F2)+'V(m)^-1') //initializing value of applied electric field \n",
"D1 = (v1*kbT*1.6*10^-19)/(e*F1)\n",
"disp('The diffusion coefficient is ,D(1kV/cm) = (v*kbT*1.6*10^-19)/(e*F) = '+string(D1)+'m^2/s')//calculation\n",
"D2 = (v2*kbT*1.6*10^-19)/(e*F2)\n",
"disp('The diffusion coefficient is ,D(10kV/cm) = (v*kbT*1.6*10^-19)/(e*F) = '+string(D2)+'m^2/s')//calculation\n",
" \n",
""
   ]
   }
],
"metadata": {
		  "kernelspec": {
		   "display_name": "Scilab",
		   "language": "scilab",
		   "name": "scilab"
		  },
		  "language_info": {
		   "file_extension": ".sce",
		   "help_links": [
			{
			 "text": "MetaKernel Magics",
			 "url": "https://github.com/calysto/metakernel/blob/master/metakernel/magics/README.md"
			}
		   ],
		   "mimetype": "text/x-octave",
		   "name": "scilab",
		   "version": "0.7.1"
		  }
		 },
		 "nbformat": 4,
		 "nbformat_minor": 0
}
