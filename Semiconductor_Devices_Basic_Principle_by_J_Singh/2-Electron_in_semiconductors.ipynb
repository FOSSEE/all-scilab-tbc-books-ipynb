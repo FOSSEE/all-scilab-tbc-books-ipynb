{
"cells": [
 {
		   "cell_type": "markdown",
	   "metadata": {},
	   "source": [
       "# Chapter 2: Electron in semiconductors"
	   ]
	},
{
		   "cell_type": "markdown",
		   "metadata": {},
		   "source": [
			"## Example 2.10: Position_of_intrinsic_Fermi_level.sce"
		   ]
		  },
  {
"cell_type": "code",
	   "execution_count": null,
	   "metadata": {
	    "collapsed": true
	   },
	   "outputs": [],
"source": [
"clc\n",
"mo = 9.1*10^-31\n",
"disp('mo = '+string(mo)+'kg') //initializing value of mass of electron\n",
"me = 0.067*mo\n",
"disp('me* = '+string(me)+'kg') //initializing value of effective mass of GaAs\n",
"kbT = 0.026\n",
"disp('kbT = '+string(kbT)+'eV/K') //initializing value of kbT at 300K\n",
"ml = 0.98*mo\n",
"disp('ml* = '+string(ml)+'kg') //initializing value of longitudinal mass\n",
"mt = 0.19*mo\n",
"disp('mt*= '+string(mt)+'kg')//initializing value of transverse mass\n",
"mh = 0.55*mo\n",
"disp('mh*= '+string(mh)+'kg')//initializing value of density of state mass for the valence band \n",
"//let\n",
"Eg = 0.0\n",
"disp('Eg = '+string(Eg)+'J') //initializing value of valence bandedge energy\n",
"mdos = (((6)^(2/3))*((ml)*((mt)^2))^(1/3))\n",
"disp('The desity of states of effective mass of the combined six valleys of silicon is (mdos* = (((6)^(2/3))*((ml*)*((mt*)^2))^(1/3)))= '+string(mdos)+'kg')//calculation\n",
"Efi = (Eg/2)+((3/4)*kbT*log(mh/mdos))\n",
"disp('The intrinsic fermi level is given by Efi = (Eg/2)+((3/4)*kbT*log(mh/me))= '+string(Efi)+'eV')//calculation\n",
"// -ve sign show that fermi level is below the centre of mid-bandgap\n",
"// In this question the answer is provided in the book is in terms of Eg and i have assumed value of Eg = 0 V "
   ]
   }
,
{
		   "cell_type": "markdown",
		   "metadata": {},
		   "source": [
			"## Example 2.11: Intrinsic_carrier_concentration.sce"
		   ]
		  },
  {
"cell_type": "code",
	   "execution_count": null,
	   "metadata": {
	    "collapsed": true
	   },
	   "outputs": [],
"source": [
"clc\n",
"mo = 9.1*10^-31\n",
"disp('mo = '+string(mo)+'kg') //initializing value of mass of electron\n",
"me = 0.027*mo\n",
"disp('me* = '+string(me)+'kg') //initializing value of effective mass of GaAs\n",
"kbT = 0.026\n",
"disp('kbT = '+string(kbT)+'eV') //initializing value of kbT at 300K\n",
"mh = 0.4*mo\n",
"disp('ml* = '+string(mh)+'kg') //initializing value of longitudinal mass\n",
"h=1.05*10^-34\n",
"disp('h= '+string(h))//initializing value of plank constant.\n",
"Eg = 0.35\n",
"disp('Eg = '+string(Eg)+'J') //initializing value of valence bandedge energy\n",
"ni =2*(((kbT*1.6*10^-19)/(2*(%pi)*h^2))^(3/2))*((me*mh)^(3/4))*(exp(-Eg/(2*kbT)))\n",
"disp('ni =2*(kbT/(2*(%pi)*h^2))^(3/2)*((me*mh)^(3/4))*(exp(-Eg/(2*kbT)))= '+string(ni)+'m^-3')//calculation\n",
"kbT = 0.05175\n",
"disp('kbT = '+string(kbT)+'eV') //initializing value of kbT at 600K\n",
"ni =2*(((kbT*1.6*10^-19)/(2*(%pi)*h^2))^(3/2))*((me*mh)^(3/4))*(exp(-Eg/(2*kbT)))\n",
"disp('ni =2*(kbT/(2*(%pi)*h^2))^(3/2)*((me*mh)^(3/4))*(exp(-Eg/(2*kbT)))= '+string(ni)+'m^-3')//calculation\n",
"//Note: In the textbook wrong answer is given for intrinsic carrier concentration at 600K"
   ]
   }
,
{
		   "cell_type": "markdown",
		   "metadata": {},
		   "source": [
			"## Example 2.12: Donor_and_acceptor_energy_level.sce"
		   ]
		  },
  {
"cell_type": "code",
	   "execution_count": null,
	   "metadata": {
	    "collapsed": true
	   },
	   "outputs": [],
"source": [
"clc\n",
"mo = 9.1*10^-31\n",
"disp('mo = '+string(mo)+'kg') //initializing value of mass of electron\n",
"m_star=0.067*mo\n",
"disp('m_star=0.067*mo = '+string(m_star)+'kg') //initializing value of appropriate mass in the conduction band for GaAs\n",
"apsilen = 13.2*8.85*10^-14\n",
"disp('apsilen = '+string(apsilen)+'F/cm') //initializing value of relative permitivity for GaAs\n",
"apsilen_not = 8.85*10^-14\n",
"disp('apsilen_not = '+string(apsilen_not)+'F/cm') //initializing value of permitivity\n",
"ml = 0.98*mo\n",
"disp('ml* = '+string(ml)+'kg') //initializing value of longitudinal mass\n",
"mt = 0.2*mo\n",
"disp('mt*= '+string(mt)+'kg')//initializing value of transverse mass\n",
"m_sigma_star = (3)/((1/ml)+(2/mt))\n",
"disp('The conductivity mass for silicon is ,m_sigma_star = (3*mo)/((1/ml)+(2/mt))= '+string(m_sigma_star)+'Kg')//calculation\n",
"disp('The shallow level energies are given by,Ed = Ec-(13.6(eV)*((m_star/mo)/(apsilen/apsilen_not)^2))')\n",
"//Let Ec = 0 V and taking positive answer, \n",
"Ed_GaAs = (13.6*((m_star/mo)/(apsilen/apsilen_not)^2))\n",
"disp('The donor level energy in GaAs is ,Ed_GaAs = Ed = (13.6*((m_star/mo)/(apsilen/apsilen_not)^2))= '+string(Ed_GaAs)+'eV')//calculation\n",
"m_dot_GaAs=0.45*mo\n",
"disp('m_dot_GaAs=0.45*mo = '+string(m_dot_GaAs)+'kg') //initializing value of heavy hole mass for GaAs\n",
"Ea_GaAs = (13.6*((m_dot_GaAs/mo)/(apsilen/apsilen_not)^2))\n",
"disp('The acceptor level energy in GaAs is ,Ea_GaAs = (13.6*((m_dot_GaAs/mo)/(apsilen/apsilen_not)^2))= '+string(Ea_GaAs)+'eV')//calculation\n",
"apsilen = 11.9*8.85*10^-14\n",
"disp('apsilen = '+string(apsilen)+'F/cm') //initializing value of relative permitivity for GaAs\n",
"m_dot_Si=0.5*mo\n",
"disp('m_dot_Si=0.45*mo = '+string(m_dot_Si)+'kg') //initializing value of heavy hole mass for GaAs\n",
"Ea_Si = (13.6*((m_dot_Si/mo)/(apsilen/apsilen_not)^2))\n",
"disp('The acceptor level energy in Si is ,Ea_Si = (13.6*((m_dot_Si/mo)/(apsilen/apsilen_not)^2))= '+string(Ea_Si)+'eV')//calculation\n",
"Ed_Si = (13.6*((m_sigma_star/mo)/(apsilen/apsilen_not)^2))\n",
"disp('The donor level energy in Si is ,Ed_Si = (13.6*((m_sigma_star/mo)/(apsilen/apsilen_not)^2))= '+string(Ed_Si)+'eV')//calculation\n",
"// Note : due to different precisions taken by me and the author ... my answer differ "
   ]
   }
,
{
		   "cell_type": "markdown",
		   "metadata": {},
		   "source": [
			"## Example 2.13: Position_of_fermi_level.sce"
		   ]
		  },
  {
"cell_type": "code",
	   "execution_count": null,
	   "metadata": {
	    "collapsed": true
	   },
	   "outputs": [],
"source": [
"clc\n",
"n = 10^17\n",
"disp('n = '+string(n)+'cm^-3') //initializing value of free density of electron of GaAs\n",
"kBT=0.026\n",
"disp('kBT = '+string(kBT)+'eV') //initializing value of multiplication of boltzmann constant and temperature \n",
"Nc = 4.45*10^17\n",
"disp('Nc = '+string(Nc)+'cm^-3') //initializing value of effective density of electron\n",
"//(we have assumed the valence band energy Ev=0eV as it is not provided in the book)\n",
"E1= kBT*((log(n/Nc)))\n",
"disp('Ef(B)= kBT*((log(n/Nc)))= '+string(E1)+'eV')//calculation\n",
"E2= kBT*((log(n/Nc))+(1/sqrt(8))*(n/Nc))\n",
"disp('E(J)= kBT*((log(n/Nc))+(1/sqrt(8))*(n/Nc))= '+string(E2)+'eV')//calculation\n",
"//for Boltzmann approximation the carrier concentration and fermi level are related as : Ef = Ec+E1\n",
"//for joyce dixon approximation the carrier concentration and fermi level are related as : Ef = Ec+E2\n",
"e=E1-E2\n",
"disp('The error produced by using boltzmann approx. is  e=E1-E2= '+string(e)+'eV')//calculation"
   ]
   }
,
{
		   "cell_type": "markdown",
		   "metadata": {},
		   "source": [
			"## Example 2.14: Electron_carrier_concentration_using_Boltzmann_approximation_and_Joyce_dixon.sce"
		   ]
		  },
  {
"cell_type": "code",
	   "execution_count": null,
	   "metadata": {
	    "collapsed": true
	   },
	   "outputs": [],
"source": [
"\n",
"clc\n",
"disp('In the Boltzmann approximation, the carrier density is simply')\n",
"disp('n = Nc = 2.78*10^19 cm^-3')\n",
"N=2.78*10^19\n",
"disp('N = '+string(N)+'cm^-3') //initializing value of carrier density\n",
"//In joyce dixon approximation the carrier density is obtained from the solution of the equation\n",
"disp('Ef = 0 = kBT *(log(n/Nc)+(n/(sqrt8*Nc)))')\n",
"//solving by trial and error , we get\n",
"//n/Nc= 0.76\n",
"n=0.76*N\n",
"disp('electron carrier concentration is n=0.76*Nc= '+string(n)+' cm^-3')//calculation"
   ]
   }
,
{
		   "cell_type": "markdown",
		   "metadata": {},
		   "source": [
			"## Example 2.16: fraction_of_ionised.sce"
		   ]
		  },
  {
"cell_type": "code",
	   "execution_count": null,
	   "metadata": {
	    "collapsed": true
	   },
	   "outputs": [],
"source": [
"clc\n",
"Nc = 2.8*10^19\n",
"disp('Nc = '+string(Nc)+'cm^-3') //initializing value of effective density of electron\n",
"Nd = 10^16\n",
"disp('Nd = '+string(Nd)+'cm^-3') //initializing value of donor atom\n",
"Ec_minus_Ed = 45*10^-3\n",
"disp('Ec_minus_Ed = '+string(Ec_minus_Ed)+'eV') //initializing value of donor binding energy\n",
"kBT=0.026\n",
"disp('kBT = '+string(kBT)+'eV') //initializing value of multiplication of boltzmann constant and temperature \n",
"//let fraction of ionised donor are represented as Fd = (nd/(n+nd))\n",
"Fd= (1/(((Nc/(2*Nd))*exp(-(Ec_minus_Ed/kBT)))+1))*100\n",
"disp('fraction of ionised donor is Fd= 1/(((Nc/(2*Nd))*exp(-(Ec_minus_Ed/kBT)))+1)= '+string(Fd)+'%')//calculation\n",
"Nd = 10^18\n",
"disp('Nd = '+string(Nd)+'cm^-3') //initializing value of donor atom\n",
"Fd= (1/(((Nc/(2*Nd))*exp(-(Ec_minus_Ed/kBT)))+1))*100\n",
"disp('fraction of ionised donor is Fd= 1/(((Nc/(2*Nd))*exp(-(Ec_minus_Ed/kBT)))+1)= '+string(Fd)+'%')//calculation\n",
"// Note : due to different precisions taken by me and the author ... my answer differ \n",
"\n",
"\n",
""
   ]
   }
,
{
		   "cell_type": "markdown",
		   "metadata": {},
		   "source": [
			"## Example 2.17: Free_electron_density.sce"
		   ]
		  },
  {
"cell_type": "code",
	   "execution_count": null,
	   "metadata": {
	    "collapsed": true
	   },
	   "outputs": [],
"source": [
"clc\n",
"Nc_Si = 2.78*10^19\n",
"disp('Nc_Si = '+string(Nc_Si)+'cm^-3') //initializing value of effective density of electron for silicon\n",
"Nc_GaAs = 4.45*10^17\n",
"disp('Nc_GaAs = '+string(Nc_GaAs)+'cm^-3') //initializing value of effective density of electron for GaAs\n",
"disp('for joyce dixon approximation the carrier concentration and fermi level are related as : Ef -Ec = kBT*(log(n/Nc)+(n/(sqrt8*Nc))')\n",
"disp('using Ef-Ec = 3* kBT') \n",
"disp('solving above equation by hit and trial method for n/Nc,we get n/Nc = 4.4') \n",
"n_by_Nc = 4.4\n",
"n_Si = n_by_Nc*Nc_Si\n",
"disp('carrier density for silicon is n= n_by_Nc*Nc_Si= '+string(n_Si)+'cm^-3')//calculation\n",
"n_GaAs = n_by_Nc*Nc_GaAs\n",
"disp('carrier density for GaAs is n= n_by_Nc*Nc_GaAs= '+string(n_GaAs)+'cm^-3')//calculation"
   ]
   }
,
{
		   "cell_type": "markdown",
		   "metadata": {},
		   "source": [
			"## Example 2.1: K_value.sce"
		   ]
		  },
  {
"cell_type": "code",
	   "execution_count": null,
	   "metadata": {
	    "collapsed": true
	   },
	   "outputs": [],
"source": [
"clc\n",
"h=1.05*10^-34\n",
"disp('h = '+string(h)+'Js') //initializing value of reduced plancks constant or dirac constant or h-bar\n",
"mo = 9.1*10^-31\n",
"disp('mo = '+string(mo)+'kg') //initializing value of mass of electron\n",
"E = 0.1*1.6*10^(-19)\n",
"disp('E= '+string(E)+'J')//initializing value of Energy of electron in conduction band\n",
"m=0.067*mo\n",
"disp('m = '+string(m)+'kg') //initializing value of appropriate mass in the conduction band for GaAs\n",
"k = sqrt(2*m*E)/h\n",
"disp('The k-value for an electron in the conduction band of GaAs is ,(k = sqrt(2*m*E)/h)= '+string(k)+'m^-1')//calculation\n",
"ko = 1.625*10^9\n",
"disp('The k-value for an electron in the free space is ,ko = '+string(ko)+'m^-1')// initializing k value of electron in the free space\n",
"disp('the two value are quite difference since the k value represent effective momentum')"
   ]
   }
,
{
		   "cell_type": "markdown",
		   "metadata": {},
		   "source": [
			"## Example 2.2: Density_of_states_masses.sce"
		   ]
		  },
  {
"cell_type": "code",
	   "execution_count": null,
	   "metadata": {
	    "collapsed": true
	   },
	   "outputs": [],
"source": [
"clc\n",
"mo = 9.1*10^-31\n",
"disp('mo = '+string(mo)+'kg') //initializing value of mass of electron\n",
"ml = 0.98*mo\n",
"disp('ml* = '+string(ml)+'kg') //initializing value of longitudinal mass\n",
"mt = 0.19*mo\n",
"disp('mt*= '+string(mt)+'kg')//initializing value of transverse mass\n",
"mhh =0.49*mo\n",
"disp('mhh* = '+string(mhh)+'kg') //initializing value of heavy hole mass\n",
"mlh = 0.16*mo\n",
"disp('mlh*= '+string(mlh)+'kg')//initializing value of light hole mass\n",
"mdos = (((6)^(2/3))*((ml)*((mt)^2))^(1/3))\n",
"disp('The conduction band density of states mass is ,(mdos* = (((6)^(2/3))*((ml*)*((mt*)^2))^(1/3)))= '+string(mdos)+'kg')//calculation\n",
"mdos1 = (((mhh)^(3/2)+(mlh)^(3/2))^(2/3))\n",
"disp('The Valence band density of states mass is ,(mdos1* = (((mhh)^(3/2)+(mlh)^(3/2))^(2/3))= '+string(mdos1)+'kg')//calculation\n",
"\n",
" \n",
""
   ]
   }
,
{
		   "cell_type": "markdown",
		   "metadata": {},
		   "source": [
			"## Example 2.3: ENERGY_OF_ELECTRON_AND_OF_HOLE.sce"
		   ]
		  },
  {
"cell_type": "code",
	   "execution_count": null,
	   "metadata": {
	    "collapsed": true
	   },
	   "outputs": [],
"source": [
"clc\n",
"h=1.05*10^-34\n",
"disp('h = '+string(h)+'Js') //initializing value of reduced plancks constant or dirac constant or h-bar\n",
"mo = 9.1*10^-31\n",
"disp('mo = '+string(mo)+'kg') //initializing value of mass of electron\n",
"mhh =0.5*mo\n",
"disp('m* = '+string(mhh)+'kg') //initializing value of heavy hole mass\n",
"k = 0.1*10^10\n",
"disp('k = '+string(k)+'m^-1') //initializing value of k-value in the heavy hole band of semiconductor\n",
"Ev = 0\n",
"disp('Ev= '+string(Ev)+'J')//initializing value of Energy of electron in valence band\n",
"e = 1.6*10^-19\n",
"disp('e= '+string(e)+'C')//initializing value of charge of electron\n",
"//(we have assumed the valence band energy Ev=0eV as it is not provided in the book)\n",
"Ee= Ev-(((h^2)*(k^2))/(2*mhh))\n",
"disp('The electron energy in the valence band is ,(Ee= Ev-(((h^2)*(k^2))/(2*mhh))= '+string(Ee)+'J')//calculation\n",
"Ee1= Ee/e\n",
"disp('The electron energy in the valence band is ,Ee= Ee/e='+string(Ee1)+'eV')//calculation\n",
"Eh= Ev+((((h^2)*(k^2))/(2*mhh))/e)\n",
"disp('The hole energy in the valence band is ,(Eh= Ev+((((h^2)*(k^2))/(2*mhh))/e)= '+string(Eh)+'eV')//calculation\n",
"\n",
" \n",
""
   ]
   }
,
{
		   "cell_type": "markdown",
		   "metadata": {},
		   "source": [
			"## Example 2.4: Momentum_of_electrons_and_free_electrons.sce"
		   ]
		  },
  {
"cell_type": "code",
	   "execution_count": null,
	   "metadata": {
	    "collapsed": true
	   },
	   "outputs": [],
"source": [
"clc\n",
"h=1.05*10^-34\n",
"disp('h = '+string(h)+'Js') //initializing value of reduced plancks constant or dirac constant or h-bar\n",
"mo = 9.1*10^-31\n",
"disp('mo = '+string(mo)+'kg') //initializing value of mass of electron\n",
"m = 0.067*mo\n",
"disp('m = '+string(m)+'kg') //initializing value of heavy hole mass\n",
"E = 0.5*1.6*10^-19\n",
"disp('E = '+string(E)+'J') //initializing value of electron energy measured from the bandedge\n",
"//  Effective momentum of electron in the conduction band of GaAs\n",
"hk = sqrt(2*m*E)\n",
"disp('The effetive momentum of an electron in the conduction band of GaAs is ,hk = sqrt(2*m*E)= '+string(hk)+'m^-1')//calculation\n",
"k = hk/h\n",
"disp('the corresponding wavevector is,k = hk/h = '+string(k)+'m^-1') //calculation\n",
"//Effective momentum of free electron in the space with same energy\n",
"p = sqrt(2*mo*E)\n",
"disp('The effetive momentum of an electron in the space is ,p = sqrt(2*mo*E)= '+string(p)+'kgms^-1')//calculation\n",
""
   ]
   }
,
{
		   "cell_type": "markdown",
		   "metadata": {},
		   "source": [
			"## Example 2.5: Energy_of_electron.sce"
		   ]
		  },
  {
"cell_type": "code",
	   "execution_count": null,
	   "metadata": {
	    "collapsed": true
	   },
	   "outputs": [],
"source": [
"clc\n",
"h=1.05*10^-34\n",
"disp('h = '+string(h)+'Js') //initializing value of reduced plancks constant or dirac constant or h-bar\n",
"mo = 9.1*10^-31\n",
"disp('mo = '+string(mo)+'kg') //initializing value of mass of electron\n",
"ml = 0.98*mo\n",
"disp('ml* = '+string(ml)+'kg') //initializing value of longitudinal mass\n",
"mt = 0.19*mo\n",
"disp('mt*= '+string(mt)+'kg')//initializing value of transverse mass\n",
"a = 5.43*10^-10\n",
"disp('a = '+string(a)+'J') //initializing value of latice constant\n",
"kx = ((2*%pi*0.95)/a)\n",
"disp('kx = '+string(kx)+'m^-1') //initializing value of given k-value in x direction \n",
"ky = ((2*%pi*0.1)/a)\n",
"disp('ky = '+string(ky)+'m^-1') //initializing value of given k-value in y direction \n",
"kz = ((2*%pi*0.0)/a)\n",
"disp('kz = '+string(kz)+'m^-1') //initializing value of given k-value in z direction \n",
"kxo = ((2*%pi*0.85)/a)\n",
"disp('kxo = '+string(kxo)+'m^-1') //initializing value of k-value for Si occupies the (100) valley in x direction \n",
"kyo = ((2*%pi*0.0)/a)\n",
"disp('kyo = '+string(kyo)+'m^-1') //initializing value of k-value for Si occupies the (100) valley in y direction \n",
"kzo = ((2*%pi*0.0)/a)\n",
"disp('kzo = '+string(kzo)+'m^-1') //initializing value of k-value for Si occupies the (100) valley in z direction \n",
"kl = kx-kxo\n",
"disp('the change in k vector in x direction is,kl = kx-kxo = '+string(kl)+'m^-1') //calculation\n",
"kt = ky-kyo\n",
"disp('the change in k vector in y direction is,kt = ky-kyo = '+string(kt)+'m^-1') //calculation\n",
"E= (((h^2)*(kl^2))/(2*ml))+(((h^2)*(kt^2))/(2*mt))\n",
"disp('The electron energy measured from the conduction bandege is ,E= (((h^2)*(kl^2))/(2*ml))+(((h^2)*(kt^2))/(2*mt))= '+string(E)+'J')//calculation"
   ]
   }
,
{
		   "cell_type": "markdown",
		   "metadata": {},
		   "source": [
			"## Example 2.9: effective_density_of_states.sce"
		   ]
		  },
  {
"cell_type": "code",
	   "execution_count": null,
	   "metadata": {
	    "collapsed": true
	   },
	   "outputs": [],
"source": [
"clc\n",
"h=1.05*10^-34\n",
"disp('h = '+string(h)+'Js') //initializing value of reduced plancks constant or dirac constant or h-bar\n",
"mo = 9.1*10^-31\n",
"disp('mo = '+string(mo)+'kg') //initializing value of mass of electron\n",
"me = 0.067*mo\n",
"disp('me* = '+string(me)+'kg') //initializing value of effective mass of GaAs\n",
"kbT = 4.16*10^-21\n",
"disp('kbT = '+string(kbT)+'J/K') //initializing value of kbT at 300K\n",
"Nc=2*(((me*kbT)/(2*%pi*(h^2)))^(3/2))\n",
"disp('for GaAs conduction band case effective density of states is ,Nc = 2*(((me*kbT)/(2*%pi*(h^2)))^(3/2)) = '+string(Nc)+'m^-3')//calculation\n",
"ml = 0.98*mo\n",
"disp('ml* = '+string(ml)+'kg') //initializing value of longitudinal mass\n",
"mt = 0.19*mo\n",
"disp('mt*= '+string(mt)+'kg')//initializing value of transverse mass\n",
"mdos = (((6)^(2/3))*((ml)*((mt)^2))^(1/3))\n",
"disp('The conduction band density of states mass is (mdos* = (((6)^(2/3))*((ml*)*((mt*)^2))^(1/3)))= '+string(mdos)+'kg')//calculation\n",
"Nc1 = 2*((mdos*kbT)/(2*(%pi)*(h^2)))^(3/2)\n",
"disp('for silicon conduction band case effective density of states is ,Nc = 2*((mdos*kbT)/(2*(%pi)*(h^2)))^(3/2) = '+string(Nc1)+'m^-3')//calculation\n",
"// Note : due to different precisions taken by me and the author ... my answer differ \n",
"disp('          for silicon                 ')\n",
"mhh =0.5*mo\n",
"disp('mhh* = '+string(mhh)+'kg') //initializing value of heavy hole mass for silicon\n",
"mlh = 0.15*mo\n",
"disp('mlh*= '+string(mlh)+'kg')//initializing value of light hole mass for silicon\n",
"Nv1 =((kbT/(2*(%pi)*(h^2)))^(3/2))*2*(mhh^(3/2)+mlh^(3/2))\n",
"disp('for silicon valence band case effective density of states is ,Nv = 2*(mhh^(3/2)+mlh^(3/2))*(kbT/(2*(%pi)*(h^2)))^(3/2)= '+string(Nv1)+'m^-3')//calculation\n",
"disp('for GaAs ')\n",
"mhh1 =0.45*mo\n",
"disp('mhh* = '+string(mhh1)+'kg') //initializing value of heavy hole mass\n",
"mlh1 = 0.08*mo\n",
"disp('mlh*= '+string(mlh1)+'kg')//initializing value of light hole mass\n",
"Nv = 2*(mhh1^(3/2)+mlh1^(3/2))*((kbT/(2*(%pi)*(h^2)))^(3/2))\n",
"disp('for GaAs valence band case effective density of states is ,Nv = 2*(mhh1^(3/2)+mlh1^(3/2))*(kbT/(2*(%pi)*(h^2)))^(3/2)= '+string(Nv)+'m^-3')//calculation\n",
"// Answer given in the book for valence band case is wrong"
   ]
   }
],
"metadata": {
		  "kernelspec": {
		   "display_name": "Scilab",
		   "language": "scilab",
		   "name": "scilab"
		  },
		  "language_info": {
		   "file_extension": ".sce",
		   "help_links": [
			{
			 "text": "MetaKernel Magics",
			 "url": "https://github.com/calysto/metakernel/blob/master/metakernel/magics/README.md"
			}
		   ],
		   "mimetype": "text/x-octave",
		   "name": "scilab",
		   "version": "0.7.1"
		  }
		 },
		 "nbformat": 4,
		 "nbformat_minor": 0
}
