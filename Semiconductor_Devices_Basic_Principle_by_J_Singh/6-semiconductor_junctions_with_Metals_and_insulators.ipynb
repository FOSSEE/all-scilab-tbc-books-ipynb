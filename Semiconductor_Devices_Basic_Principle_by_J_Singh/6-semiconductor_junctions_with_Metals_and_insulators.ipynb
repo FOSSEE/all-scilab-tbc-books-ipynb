{
"cells": [
 {
		   "cell_type": "markdown",
	   "metadata": {},
	   "source": [
       "# Chapter 6: semiconductor junctions with Metals and insulators"
	   ]
	},
{
		   "cell_type": "markdown",
		   "metadata": {},
		   "source": [
			"## Example 6.1: Mobility_of_electrons_in_alluminium.sce"
		   ]
		  },
  {
"cell_type": "code",
	   "execution_count": null,
	   "metadata": {
	    "collapsed": true
	   },
	   "outputs": [],
"source": [
"clc\n",
"e = 1.6*10^-19\n",
"disp('e= '+string(e)+'C')//initializing value of charge of electron\n",
"n = 10^22\n",
"disp('n = '+string(n)+'cm^-3') //initializing value of electron density in current flow\n",
"rho = 2.7*10^(-6)\n",
"disp('rho = '+string(rho)+' ohm-cm') //initializing value of resistiviy of aluminium at room temperature\n",
"disp('using following terms   J = Current density ; s(sigma) = 1/rho = conductivity ; F = Electric field ')\n",
"disp('Using relations  J = s*F = n*e*v = n*e*u*F ; we get')\n",
"mu_ = 1/(n*e*rho)\n",
"disp('The mobility of electrons in aluminium is ,mu_ = 1/(n*e*r) = '+string(mu_)+' cm^2(Vs)^-1')//calculation\n",
"//The answer given in the book is 240.4 cm^2/Vs which is wrong"
   ]
   }
,
{
		   "cell_type": "markdown",
		   "metadata": {},
		   "source": [
			"## Example 6.2: doping_density.sce"
		   ]
		  },
  {
"cell_type": "code",
	   "execution_count": null,
	   "metadata": {
	    "collapsed": true
	   },
	   "outputs": [],
"source": [
"clc\n",
"e = 1.6*10^-19\n",
"disp('e= '+string(e)+'C')//initializing value of charge of electron\n",
"apsilen = 11.9*8.85*10^-12\n",
"disp('apsilen = '+string(apsilen)+'F/m') //initializing value of relative permitivity\n",
"A= 7.85*10^-9\n",
"disp('A= '+string(A)+'m^2') //initializing value of area \n",
"S= 3*10^24\n",
"disp('d(1/c2)/dV = S= '+string(S)+'F^-2V^-1') //initializing value of area of slope of the (1/c2) vs V relation\n",
"Nd = (2/(S*e*apsilen*(A^2)))\n",
"disp('The doping density in silicon is ,Nd = (2/(S*e*Es*(A^2)))= '+string(Nd)+'m^-3')//calculation"
   ]
   }
,
{
		   "cell_type": "markdown",
		   "metadata": {},
		   "source": [
			"## Example 6.3: diode_current.sce"
		   ]
		  },
  {
"cell_type": "code",
	   "execution_count": null,
	   "metadata": {
	    "collapsed": true
	   },
	   "outputs": [],
"source": [
"clc\n",
"Nd = 10^16\n",
"disp('Nd = '+string(Nd)+'cm^-3') //initializing value of diode doping\n",
"Nc = 2.8*10^19\n",
"disp('Nc = '+string(Nd)+'cm^-3') //initializing value of channel doping\n",
"kBT=0.026\n",
"disp('kBT = '+string(kBT)+'eV') //initializing value of multiplication of boltzmann constant and 300K temperature\n",
"Vf=0.3\n",
"disp('Vf = '+string(Vf)+'V') //initializing value of forward bias\n",
"e = 1.6*10^-19\n",
"disp('e= '+string(e)+'C')//initializing value of charge of electron\n",
"A= 10^-3\n",
"disp('A= '+string(A)+'cm^2') //initializing value of area \n",
"disp('        for W-n type Si schottky barrier          ')\n",
"T = 300\n",
"disp('T= '+string(T)+'K')//initializing value of temperature\n",
"phi_b = 0.67\n",
"disp('schottky barrier heights(in volts) = phi_b= '+string(phi_b)+'eV')//initializing value of schottky barrier heights(in volts)\n",
"R = 110\n",
"disp('R* = '+string(R)+'Acm^-2K^-1') //initializing value of effective richardson constant\n",
"Is = A*R*(T^2)*(exp(-(phi_b)/(kBT)))\n",
"disp('The reverse saturation current is ,Is = A*R*(T^2)*(exp(-(phi_b/kbT))) = '+string(Is)+'A')//calculation\n",
"disp('using relation I= Is*(exp((e*V)/(nkBT))-1) and neglecting 1')\n",
"I = Is*(exp((Vf)/(kBT)))\n",
"disp('The diode current is ,I = Is*(exp((Vf)/(kBT))) = '+string(I)+'A')//calculation\n",
"disp('        for Si p+ -n junction diode          ')\n",
"Na = 10^19\n",
"disp('Na = '+string(Na)+'cm^-3') //initializing value of p+ doping\n",
"Db = 10.5\n",
"disp('Db= '+string(Db)+'cm^2/s')//initializing value of diffusion coefficient in the base\n",
"Tb = 10^-6\n",
"disp('Tb= '+string(Tb)+'s')//inializing value of electron lifetime\n",
"Lb = sqrt(Db*Tb)\n",
"disp('The electron carrier diffusion length is,Lb = sqrt(Db*Tb)= '+string(Lb)+'cm')//calculatio\n",
"pn = 2.2*10^4\n",
"disp('pn = '+string(pn)+'cm^-3') //initializing value of hole electron density \n",
"Io = A*e*pn*(Db/Lb)\n",
"disp('The saturation current current is Io = A*e*pn*(Db/Lb) = '+string(Io)+'A')//calculation\n",
"I1 = Io*(exp((Vf)/(kBT)))\n",
"disp('The diode current for HBT is ,I = I0*(exp((Vf)/(kBT))) = '+string(I1)+'A')//calculation\n",
"disp('Since diode current for HBT is almost 6 orders of magnitude smaller than the value in the Schottky diode ')\n",
"disp('hence for the p-n diode to have the same current that the schottky dode has at .3 V , the voltage required is .71V')"
   ]
   }
,
{
		   "cell_type": "markdown",
		   "metadata": {},
		   "source": [
			"## Example 6.4: saturation_current_density.sce"
		   ]
		  },
  {
"cell_type": "code",
	   "execution_count": null,
	   "metadata": {
	    "collapsed": true
	   },
	   "outputs": [],
"source": [
"clc\n",
"kBT=0.026\n",
"disp('kBT = '+string(kBT)+'eV') //initializing value of multiplication of boltzmann constant and 300K temperature\n",
"mo = 9.1*10^-31\n",
"disp('mo = '+string(mo)+'kg') //initializing value of mass of electron\n",
"m=0.08*mo\n",
"disp('m = '+string(m)+'kg') //initializing value of mass of electron in InAlAs\n",
"T = 300\n",
"disp('T= '+string(T)+'K')//initializing value of temperature\n",
"phi_b1 = 0.7\n",
"disp('schottky barrier heights(in volts) = phi_b1= '+string(phi_b1)+'eV')//initializing value of schottky barrier heights(in volts)\n",
"phi_b2 = 0.6\n",
"disp('schottky barrier heights(in volts) = phi_b2= '+string(phi_b2)+'eV')//initializing value of schottky barrier heights(in volts)\n",
"R = 120*(m/mo)\n",
"disp('The effective richardson constant is ,R* = 120*(m/mo) = '+string(R)+' A cm^-2 k^-2')//calculation\n",
"Js1 = R*(T^2)*(exp(-(phi_b1)/(kBT)))\n",
"disp('The saturation current density is ,Js(phi_b=0.7) = R*(T^2)*(exp(-(phi_b)/(kBT))) = '+string(Js1)+'A/cm^2')//calculation\n",
"Js2 = R*(T^2)*(exp(-(phi_b2)/(kBT)))\n",
"disp('The saturation current density is ,Js(phi_b=0.6) = R*(T^2)*(exp(-(phi_b)/(kBT))) = '+string(Js2)+'A/cm^2')//calculation"
   ]
   }
,
{
		   "cell_type": "markdown",
		   "metadata": {},
		   "source": [
			"## Example 6.5: capacitance.sce"
		   ]
		  },
  {
"cell_type": "code",
	   "execution_count": null,
	   "metadata": {
	    "collapsed": true
	   },
	   "outputs": [],
"source": [
"clc\n",
"apsilen = 11.9*8.85*10^-12\n",
"disp('apsilen = '+string(apsilen)+'F/m') //initializing value of relative permitivity\n",
"Nd = 10^16\n",
"disp('Nd = '+string(Nd)+'cm^-3') //initializing value of diode doping\n",
"Nc = 2.8*10^19\n",
"disp('Nc = '+string(Nd)+'cm^-3') //initializing value of channel doping\n",
"kBT = 0.026\n",
"disp('kBT = '+string(kBT)+'eV') //initializing value of multiplication of boltzmann constant and 300K temperature\n",
"I=10*10^-3\n",
"disp('I = '+string(I)+'A') //initializing value of forward bias current\n",
"e = 1.6*10^-19\n",
"disp('e= '+string(e)+'C')//initializing value of charge of electron\n",
"A= 10^-3\n",
"disp('A= '+string(A)+'cm^2') //initializing value of area \n",
"disp('        for W-n type Si schottky barrier          ')\n",
"T = 300\n",
"disp('T= '+string(T)+'K')//initializing value of temperature\n",
"phi_b = 0.67\n",
"disp('schottky barrier heights(in volts) =phi_b= '+string(phi_b)+'eV')//initializing value of schottky barrier heights(in volts)\n",
"R = 110\n",
"disp('R* = '+string(R)+'Acm^-2K^-1') //initializing value of effective richardson constant\n",
"Is = A*R*(T^2)*(exp(-(phi_b)/(kBT)))\n",
"disp('The reverse saturation current is ,Is = A*R*(T^2)*(exp(-(Qb/kbT))) = '+string(Is)+'A')//calculation\n",
"V = kBT*(log(I/Is))\n",
"disp('The applied bias for schottky diode corresponding to 10mA forward current is,V = kBT*(log(I/Is))= '+string(V)+'V')//calculation\n",
"E = kBT*log(Nc/Nd)\n",
"disp('The fermi level positionin the neutral semiconductor(Efs) with respect to the conduction band is,Ec-Efs= E = kBT*log(Nc/Nd)= '+string(E)+' eV')//calculation\n",
"Vbi= phi_b-(E)\n",
"disp('The built in voltage is ,Vbi= phi_b-((1/e)*E)= '+string(Vbi)+'V')//calculation\n",
"Cd = A*sqrt((e*Nd*apsilen)/(2*(Vbi-V)))\n",
"disp('The diode capacitance is ,Cd = A*sqrt((e*Nd*apsilen)/(2*(Vbi-V))) = '+string(Cd)+'F')//calculation\n",
"R = kBT/I\n",
"disp('The resistance is ,R = kBT/I = '+string(R)+'ohm')//calculation\n",
"RC = R*Cd\n",
"disp('The RC time constant is ,RC(schottky) = R*Cd = '+string(RC)+'s')//calculation\n",
"disp('        for Si p+ -n junction diode          ')\n",
"Tb = 10^-6\n",
"disp('Tb= '+string(Tb)+'s')//inializing value of electron lifetime\n",
"disp('In the p-n diode the junction capacitance and the small signal resistance will be same as those in the schottky diode')\n",
"Cdiff = ((I*Tb)/(kBT))\n",
"disp('The diffusion capacitance is ,Cdiff = (I*Tb)/(kBT) = '+string(Cdiff)+'F')//calculation\n",
"RC1 = R*Cdiff\n",
"disp('The RC time constant is ,RC(p-n) = R*Cdiff = '+string(RC1)+'s')//calculation\n",
"disp('From the above RC time constant value it can be concluded that p-n diode is almost 1000 times slower')\n",
"// Note: due to approximation, the value of diode capicitance and diffusion capacitance are differ from that of the textbook\n",
"\n",
""
   ]
   }
,
{
		   "cell_type": "markdown",
		   "metadata": {},
		   "source": [
			"## Example 6.6: Tunneling_probability.sce"
		   ]
		  },
  {
"cell_type": "code",
	   "execution_count": null,
	   "metadata": {
	    "collapsed": true
	   },
	   "outputs": [],
"source": [
"clc\n",
"apsilen = 11.9*8.85*10^-14\n",
"disp('apsilen = '+string(apsilen)+'F/m') //initializing value of relative permitivity\n",
"phi_b = 0.66\n",
"disp('schottky barrier heights(in volts) = phi_b= '+string(phi_b)+'eV')//initializing value of schottky barrier heights(in volts)\n",
"mo = 9.1*10^-31\n",
"disp('mo = '+string(mo)+'kg') //initializing value of mass of electron\n",
"m=0.34*mo\n",
"disp('m* = '+string(m)+'kg') //initializing value of density of state mass\n",
"e = 1.6*10^-19\n",
"disp('e= '+string(e)+'C')//initializing value of charge of electron\n",
"h = 1.05*10^-34\n",
"disp('h= '+string(h)+'C')//initializing value of h_cut \n",
"n1 = 10^18\n",
"disp('n= '+string(n1)+'cm^-3') //initializing value of silicon doping\n",
"n2 = 10^20\n",
"disp('n= '+string(n2)+'cm^-3') //initializing value of silicon doping\n",
"disp('Assume that the built in potential Vbi is same as barrier potential becouse of highly doped semiconductor')\n",
"W1 = (sqrt((2*apsilen*phi_b)/(e*n1)))/10^-8\n",
"disp('The depletion width is ,W(n=10^18) = sqrt((2*apsilen*Vbi)/(e*n)) = '+string(W1)+' Angstrom')//calculation\n",
"W2 = (sqrt((2*apsilen*phi_b)/(e*n2)))/10^-8\n",
"disp('The depletion width is ,W(n=10^20) = sqrt((2*apsilen*Vbi)/(e*n)) = '+string(W2)+' Angstrom')//calculation\n",
"F1 = phi_b/(W1*10^-8)\n",
"disp('The average field in depletion region for(n=10^18), F1 = phi_b/(W1/10^-8)=   '+string(F1)+'V/cm')\n",
"F2 = phi_b/(W2*10^-8)\n",
"disp('The average field in depletion region for(n=10^18), F2 = phi_b/(W2/10^-8)=   '+string(F2)+'V/cm')\n",
"F1 = F1/10^-2\n",
"F2 = F2/10^-2\n",
"T = exp(-(4*(2*m)^.5*(e*phi_b)^(3/2))/(3*e*F1*h))\n",
"disp('The tunneling current for(n=10^18),T = exp(-(4*(2*m)^.5*(e*phi_b)^(3/2))/(3*e*F1*h))='+string(T)+'V/cm')\n",
"T1 = exp(-(4*(2*m)^.5*(e*phi_b)^(3/2))/(3*e*F2*h))\n",
"disp('The tunneling current for(n=10^20), T1 = exp(-(4*(2*m)^.5*(e*phi_b)^(3/2))/(3*e*F2*h))='+string(T1)+'V/cm')\n",
"\n",
"// in the textbook author has used approximate value for depletion width and hence it affect the value of all other answer\n",
"// NOTE: In the textbook author has used approximate answer for tunneling current\n",
"\n",
"\n",
""
   ]
   }
,
{
		   "cell_type": "markdown",
		   "metadata": {},
		   "source": [
			"## Example 6.7: length_of_resistor.sce"
		   ]
		  },
  {
"cell_type": "code",
	   "execution_count": null,
	   "metadata": {
	    "collapsed": true
	   },
	   "outputs": [],
"source": [
"clc\n",
"n = 10^18\n",
"disp('n= '+string(n)+'cm^-3') //initializing value of doping\n",
"W = 25*10^-4\n",
"disp('W= '+string(W)+'cm') //initializing value of width of the resistor\n",
"R = 100*10^3\n",
"disp('R = '+string(R)+'ohm') //initializing value of resistance\n",
"e = 1.6*10^-19\n",
"disp('e= '+string(e)+'C')//initializing value of charge of electron\n",
"D= 5000*10^-8\n",
"disp('D= '+string(D)+'cm') //initializing value of thickness of film \n",
"mu_=100\n",
"disp('mu_= '+string(mu_)+'cm^2(Vs)^-1') //initializing value of mobility\n",
"Ro = 1/(n*e*mu_*D)\n",
"disp('The sheet resistance of the film is ,Ro = 1/(n*e*mu_*D) = '+string(Ro)+' ohm/square')//calculation\n",
"L = (R*W)/Ro\n",
"disp('The length of the desired resistor is ,L = (R*W)/Ro = '+string(L)+' cm')//calculation\n",
"\n",
"\n",
""
   ]
   }
],
"metadata": {
		  "kernelspec": {
		   "display_name": "Scilab",
		   "language": "scilab",
		   "name": "scilab"
		  },
		  "language_info": {
		   "file_extension": ".sce",
		   "help_links": [
			{
			 "text": "MetaKernel Magics",
			 "url": "https://github.com/calysto/metakernel/blob/master/metakernel/magics/README.md"
			}
		   ],
		   "mimetype": "text/x-octave",
		   "name": "scilab",
		   "version": "0.7.1"
		  }
		 },
		 "nbformat": 4,
		 "nbformat_minor": 0
}
