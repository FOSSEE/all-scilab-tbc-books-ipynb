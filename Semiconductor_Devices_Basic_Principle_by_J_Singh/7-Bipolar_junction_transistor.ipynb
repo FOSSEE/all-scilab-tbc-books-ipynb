{
"cells": [
 {
		   "cell_type": "markdown",
	   "metadata": {},
	   "source": [
       "# Chapter 7: Bipolar junction transistor"
	   ]
	},
{
		   "cell_type": "markdown",
		   "metadata": {},
		   "source": [
			"## Example 7.10: base_width.sce"
		   ]
		  },
  {
"cell_type": "code",
	   "execution_count": null,
	   "metadata": {
	    "collapsed": true
	   },
	   "outputs": [],
"source": [
"clc\n",
"apsilent_s = 11.9*8.85*10^-14\n",
"disp('apsilent_s = '+string(apsilent_s)+'F/cm') //initializing value of relative permitivity\n",
"Ndc = 5*10^16\n",
"disp('Ndc= '+string(Ndc)+'cm^-3')//inializing value of collector doping\n",
"Nde = 10^18\n",
"disp('Nde= '+string(Nde)+'cm^-3')//inializing value of emitter doping\n",
"Nab = 10^17\n",
"disp('Nab= '+string(Nab)+'cm^-3')//inializing value of base doping\n",
"ni = sqrt(2.25*10^20)\n",
"disp('ni = '+string(ni)+'cm^-3') //initializing value of  electron density of ionisation electron for silicon\n",
"kbT = 0.026\n",
"disp('kbT = '+string(kbT)+'eV') //initializing value of kbT at 300K\n",
"e = 1.6*10^-19\n",
"disp('e= '+string(e)+'C')//initializing value of charge of electron\n",
"Db = 30\n",
"disp('Db= '+string(Db)+'cm^2/s')//initializing value of diffusion coefficient in the base\n",
"De = 10\n",
"disp('De= '+string(De)+'cm^2/s')//initializing value of diffusion coefficient\n",
"Lb = 15*10^-4\n",
"disp('Lb= '+string(Lb)+'cm')//inializing value of minority carrier base diffusion length\n",
"Le = 5*10^-4\n",
"disp('Le= '+string(Le)+'cm')//inializing value of minority carrier emitter diffusion length\n",
"Beta= 100\n",
"disp('Beta= '+string(Beta)) //initializing value of current gain (Beta)\n",
"nbo = 2.25*10^3\n",
"disp('nbo= '+string(nbo)+'cm^-3')//inializing value of majority carrier densities for the base in npn transistor\n",
"peo = 112.5\n",
"disp('peo= '+string(peo)+'cm^-3')//inializing value of majority carrier densities for the emitter in npn transistor\n",
"VCB1 = 5\n",
"disp('VCB = '+string(VCB1)+' V')//initializing value of Collector-base bias voltage\n",
"//'using relation   B = (IC/IB) = ((Db*nbo*Le)/(De*peo*Wbn))'\n",
"Wbn = ((Db*nbo*Le)/(De*peo*100))\n",
"disp('neutral base width is ,Wbn = ((Db*nbo*Le)/(De*peo*100))= '+string(Wbn)+'cm')//calculation\n",
"Vbi= (kbT)*((log((Nab*Ndc)/(ni^2))))\n",
"disp('The built in voltage is ,Vbi= (kbT)*((log((Na*Nd)/Ni^2)))= '+string(Vbi)+'V')//calculation\n",
"dWb1 = sqrt((2*apsilent_s*(Vbi+VCB1)*Ndc)/(e*Nab*(Nab+Ndc)))\n",
"disp('The extent of depletion into the base side is,dWb = sqrt((2*apsilent_s*(Vbi+Vcb1)*Ndc)/(e*Nab*(Nab+Ndc))) = '+string(dWb1)+'cm')//calculation\n",
"Wb = Wbn+dWb1\n",
"disp('The  base width is,Wb = Wbn+dWb1= '+string(Wb)+'cm')//calculation\n",
"// NOTE: the value calculated for Wbn is wrong in the book and all the succesive answer also depeandant on that are also wrong\n",
"//('Two disadvange are')\n",
"//('The output conductance will suffer and the collector current will have a stronger dependence on VCB')\n",
"//('The device may suffer punchthrough at a lower bias')\n",
"//('Two advantages')\n",
"//('The current gain will be higher')\n",
"//('The device speed will be faster')\n",
"\n",
"\n",
"\n",
"\n",
"\n",
"\n",
"\n",
"\n",
"\n",
"\n",
"\n",
"\n",
"\n",
"\n",
"\n",
"\n",
"\n",
"\n",
"\n",
"\n",
"\n",
"\n",
"\n",
""
   ]
   }
,
{
		   "cell_type": "markdown",
		   "metadata": {},
		   "source": [
			"## Example 7.11: Output_conductance.sce"
		   ]
		  },
  {
"cell_type": "code",
	   "execution_count": null,
	   "metadata": {
	    "collapsed": true
	   },
	   "outputs": [],
"source": [
"clc\n",
"Ndc = 10^16\n",
"disp('Ndc= '+string(Ndc)+'cm^-3')//inializing value of collector doping\n",
"Nab = 10^17\n",
"disp('Nab= '+string(Nab)+'cm^-3')//inializing value of base doping\n",
"Nde = 10^18\n",
"disp('Nde= '+string(Nde)+'cm^-3')//inializing value of emitter doping\n",
"ni = 1.5*10^10\n",
"disp('ni = '+string(ni)+'cm^-3') //initializing value of square of electron density of ionisation electron for silicon\n",
"kbT = 0.026\n",
"disp('kbT = '+string(kbT)+'eV') //initializing value of kbT at 300K\n",
"e = 1.6*10^-19\n",
"disp('e= '+string(e)+'C')//initializing value of charge of electron\n",
"Db = 30\n",
"disp('Db= '+string(Db)+'cm^2/s')//initializing value of diffusion coefficient in the base\n",
"De = 10\n",
"disp('De= '+string(De)+'cm^2/s')//initializing value of diffusion coefficient\n",
"Lb = 10*10^-4\n",
"disp('Lb= '+string(Lb)+'cm')//inializing value of minority carrier base diffusion length\n",
"Le = 10*10^-4\n",
"disp('Le= '+string(Le)+'cm')//inializing value of minority carrier emitter diffusion length\n",
"Wb = 10^-4\n",
"disp('Wb= '+string(Wb)+'cm')//initializing value of base width\n",
"We = 10^-4\n",
"disp('We= '+string(We)+'cm')//initializing value of emitter width\n",
"Vbi= (kbT)*((log((Nab*Ndc)/ni^2)))\n",
"disp('The built in voltage is ,Vbi= (kbT)*((log((Na*Nd)/Ni^2)))= '+string(Vbi)+'V')//calculation\n",
"disp('              for an applied reverse bias of 5 V                ')\n",
"VCB1 = 5\n",
"disp('VCB = '+string(VCB1)+' V')//initializing value of Collector-base bias voltage\n",
"apsilen = 11.9*8.85*10^-14\n",
"disp('apsilen = '+string(apsilen)+'F/cm') //initializing value of relative permitivity\n",
"nbo = 2.25*10^3\n",
"disp('nbo= '+string(nbo)+'cm^-3')//inializing value of majority carrier densities for the base in npn transistor\n",
"peo = 112.5\n",
"disp('peo= '+string(peo)+'cm^-3')//inializing value of majority carrier densities for the emitter in npn transistor\n",
"dWb1 = sqrt((2*apsilen*(Vbi+VCB1)*Ndc)/(e*Nab*(Nab+Ndc)))\n",
"disp('The extent of depletion into the base side is,dWb = sqrt((2*apsilen*(Vbi+Vcb)*Ndc)/(e*Nab*(Nab+Ndc))) = '+string(dWb1)+'cm')//calculation\n",
"Wbn1 = Wb-dWb1\n",
"disp('The neutral base width is,Wbn = Wb-dWb1= '+string(Wbn1)+'cm')//calculation\n",
"gamma_e_1 = (1-((peo*De*Wbn1)/(Db*nbo*We)))\n",
"disp('The emitter efficiency gamma_e_1 = (1-((peo*De*Wbn)/(Db*nbo*We)))= '+string(gamma_e_1))//calculation\n",
"B1 = 1-((Wbn1^2)/(2*(Lb)^2))\n",
"disp('The base transport factor is,B = 1-((Wbn^2)/(2*(Lb)^2)) = '+string(B1))//calculation\n",
"alpha1 = gamma_e_1*B1\n",
"disp('The  current gain alpha1 = gamma_e_1*B1= '+string(alpha1))//calculation\n",
"Beta3 = (alpha1)/(1-alpha1)\n",
"disp('The current gain Beta3 = (alpha1)/(1-alpha1) = '+string(Beta3))//calculation\n",
"VBE = 1\n",
"disp('VBE= '+string(VBE)+'V')//initializing value of Emitter-base bias voltage\n",
"A= 4*10^-6\n",
"disp('A= '+string(A)+'cm^2') //initializing value of area of silicon npn transistor device\n",
"disp('using collector relation IC = (((e*A*Db*nbo)/(Wbn))*(exp((e*VBE)/(KbT))-1))-(((e*A*Db*nbo*Wbn)/(2*(Lb)^2))*(exp((e*VBE)/(KbT))-1)) and neglecting 2nd part')\n",
"IC = (((e*A*Db*nbo)/(Wbn1))*(exp((VBE)/(kbT))-1))\n",
"disp('The collector current is,IC = (((e*A*Db*nbo)/(Wbn))*(exp((e*VBE)/(KbT))-1)) = '+string(IC)+'A')//calculation\n",
"//Note: in text book the author hasused precision value for gamma and alpha thats why there is difference in the value of beta.\n",
"disp('              for an applied reverse bias of 6 V                ')\n",
"VCB2 = 6\n",
"disp('VCB = '+string(VCB2)+' V')//initializing value of Collector-base bias voltage\n",
"dWb2 = sqrt((2*apsilen*(Vbi+VCB2)*Ndc)/(e*Nab*(Nab+Ndc)))\n",
"disp('The extent of depletion into the base side is,dWb2 = sqrt((2*apsilen*(Vbi+VCB2)*Ndc)/(e*Nab*(Nab+Ndc))) = '+string(dWb2)+'cm')//calculation\n",
"Wbn2 = Wb-dWb2\n",
"disp('The neutral base width is,Wbn2 = Wb-dWb2= '+string(Wbn2)+'cm')//calculation\n",
"IC2 = (((e*A*Db*nbo)/(Wbn2))*(exp((VBE)/(kbT))-1))\n",
"disp('The collector current is,IC = (((e*A*Db*nbo)/(Wbn2))*(exp((VBE)/(kbT))-1)) = '+string(IC2)+'A')//calculation\n",
"go = (IC2-IC)/(VCB2-VCB1)\n",
"disp('The output conductance is,go = (IC2-IC)/(VCB2-VCB1) = '+string(go)+'ohm^-1')//calculation"
   ]
   }
,
{
		   "cell_type": "markdown",
		   "metadata": {},
		   "source": [
			"## Example 7.12: Cutoff_frequency.sce"
		   ]
		  },
  {
"cell_type": "code",
	   "execution_count": null,
	   "metadata": {
	    "collapsed": true
	   },
	   "outputs": [],
"source": [
"clc\n",
"kbT = 0.026\n",
"disp('kbT = '+string(kbT)+'eV') //initializing value of kbT at 300K\n",
"Wb = 0.4*10^-4\n",
"disp('Wb= '+string(Wb)+'cm')//initializing value of base width\n",
"e = 1.6*10^-19\n",
"disp('e= '+string(e)+'C')//initializing value of charge of electron\n",
"IE = 1.5*10^-3\n",
"disp('IE= '+string(IE)+'A')//initializing value of Emitter current current\n",
"Db = 60\n",
"disp('Db= '+string(Db)+'cm^2/s')//initializing value of diffusion coefficient in the base\n",
"Wdc = 2*10^-4\n",
"disp('Wdc= '+string(Wdc)+'cm')//initializing value of width ofc ollector depletion region \n",
"Cje = 2*10^-12\n",
"disp('Cje= '+string(Cje)+'F')//initializing value of emitter base junction\n",
"rC = 30\n",
"disp('rC= '+string(rC)+'ohm')//initializing value of collector resistance\n",
"TcC = .4*10^-12\n",
"disp('TcC= '+string(TcC)+'F')//initializing value of Total collector capicitance represented in book as(Cu+Cs)\n",
"//NOTE:Total collector capicitance represented in book as(Cu+Cs)\n",
"vs = 10^7\n",
"disp('vs= '+string(vs)+'cm/s')//initializing value of velocity\n",
"disp('the emitter resistance of a forward biased diode is re = (dIE/dVBE) = ((kbT)/(e*IE))')\n",
"re = kbT/IE\n",
"disp('The emitter resistance is,re = kbT/IE= '+string(re)+'ohm')//calculation\n",
"Te = re*Cje\n",
"disp('The emitter transit time is,Te = re*Cje = '+string(Te)+'s')//calculation\n",
"Tt = (Wb^2)/(2*Db)\n",
"disp('The base transit time is,Tt = (Wb^2)/(2*Db)= '+string(Tt)+'s')//calculation\n",
"Td = (Wdc)/vs\n",
"disp('The collector transit time is,Tt = (Wdc)/vs= '+string(Td)+'s')//calculation\n",
"Tc = rC*TcC\n",
"disp('The collector charging time is,Tc = rC*TcC = '+string(Tc)+'s')//calculation\n",
"Tec = Te+Tt+Td+Tc\n",
"disp('The total time is,Tec = Te+Tt+Td+Tc = '+string(Tec)+'s')//calculation\n",
"fT = 1/(2*%pi*Tec)\n",
"disp('The cutoff frequency is,fT = 1/(2*%pi*Tec) = '+string(fT)+' Hz')//calculation\n",
"disp('if the emitter current is doubled the time is reduced by half and cutoff frequency becomes 2.54 GHz')\n",
"disp('if the base width is reduced by half , the base transit time becomes 3.3 ps and cutoff frequency becomes 2.08 GHz')\n",
""
   ]
   }
,
{
		   "cell_type": "markdown",
		   "metadata": {},
		   "source": [
			"## Example 7.13: hole_concentration.sce"
		   ]
		  },
  {
"cell_type": "code",
	   "execution_count": null,
	   "metadata": {
	    "collapsed": true
	   },
	   "outputs": [],
"source": [
"clc\n",
"T = 300\n",
"disp('T = '+string(T)+'K') //initializing value of temperature\n",
"Nd1 = 10^18\n",
"disp('Nd1= '+string(Nd1)+'cm^-3')//inializing value of emitter doping\n",
"Nd2 = 10^20\n",
"disp('Nd2= '+string(Nd2)+'cm^-3')//inializing value of emitter doping\n",
"dEg1 = (22.5*sqrt((Nd1*300)/((10^18)*T)))/10^3\n",
"disp('The bandgap narrowing is,dEg = 22.5*sqrt((Nd1*300)/((10^18)*T)) = '+string(dEg1)+'ev')//calculation\n",
"dEg2= (22.5*sqrt((Nd2*300)/((10^18)*T)))/10^3\n",
"disp('The bandgap narrowing is,dEg = 22.5*sqrt((Nd2*300)/((10^18)*T)) = '+string(dEg2)+'ev')//calculation\n",
"kbT = .026\n",
"disp('kbT = '+string(kbT)+'eV/K') //initializing value of kbT at 300K\n",
"neo1 = 10^18\n",
"disp('neo= '+string(neo1)+'cm^-3')//inializing value of majority carrier densities for the emitter\n",
"neo2 = 10^20\n",
"disp('neo= '+string(neo2)+'cm^-3')//inializing value of majority carrier densities for the emitter\n",
"ni = sqrt(2.25*10^20)\n",
"disp('ni = '+string(ni)+'cm^-3') //initializing value of  electron density of ionisation electron for silicon\n",
"peo1 = (ni^2*exp(dEg1/kbT))/neo1\n",
"disp('The hole density in emitter is,peo = (ni^2*exp(dEg1/kbT))/neo1 = '+string(peo1)+'cm^-3')//calculation\n",
"// note:-there is error in the unit of peo in the book\n",
"peo2 = (ni^2*exp(dEg2/kbT))/neo2\n",
"disp('The hole density in emitter is,peo2 = (ni^2*exp(dEg2/kbT))/neo2 = '+string(peo2)+'cm^-3')//calculation\n",
"// Note : due to different precisions taken by me and the author ... my answer differ "
   ]
   }
,
{
		   "cell_type": "markdown",
		   "metadata": {},
		   "source": [
			"## Example 7.14: emitter_efficiency.sce"
		   ]
		  },
  {
"cell_type": "code",
	   "execution_count": null,
	   "metadata": {
	    "collapsed": true
	   },
	   "outputs": [],
"source": [
"clc\n",
"ni = 2.2*10^6\n",
"disp('ni = '+string(ni)+'cm^-3') //initializing value of electron density of ionisation electron for GaAs\n",
"Nde = 5*10^17\n",
"disp('Nde= '+string(Nde)+'cm^-3')//inializing value of emitter doping\n",
"Nab = 10^17\n",
"disp('Nab= '+string(Nab)+'cm^-3')//inializing value of base doping\n",
"kbT = 0.026\n",
"disp('kbT = '+string(kbT)+'eV') //initializing value of kbT at 300K\n",
"Wb = 0.5*10^-4\n",
"disp('Wb= '+string(Wb)+'cm')//initializing value of base width\n",
"Db = 100\n",
"disp('Db= '+string(Db)+'cm^2/s')//initializing value of diffusion coefficient in the base\n",
"De = 15\n",
"disp('De= '+string(De)+'cm^2/s')//initializing value of diffusion coefficient in the emitter\n",
"Le = 1.5*10^-4\n",
"disp('Le= '+string(Le)+'cm')//inializing value of minority carrier emitter diffusion length\n",
"dEg = .36\n",
"disp('dEg= '+string(dEg)+'eV')//inializing value of Bandgap discontinuity\n",
"disp('        For GaAs          ')\n",
"peo1 = ni^2/Nde\n",
"disp('The  minority carrier densities for the emitter in npn GaAs BJT is,peo(GaAs) = ni1/Nde= '+string(peo1)+'cm^-3')//calculation\n",
"nbo1 = ni^2/Nab\n",
"disp('The  minority carrier densities for the base in npn GaAs BJT is,nbo = ni1/Nab= '+string(nbo1)+'cm^-3')//calculation\n",
"Ve1 = (1-((peo1*De*Wb)/(Db*nbo1*Le)))\n",
"disp('The emitter efficiency (gamma)is,Ve = (1-((peo*De*Wb)/(Db*nbo1*Le))) = '+string(Ve1))//calculation\n",
"disp('        For HBT          ')\n",
"peo2 = (peo1)*(exp(-(dEg/kbT)))\n",
"disp('The  minority carrier densities for the emitter in HBT is,peo(HBT) = (peo1)*(exp(-(dEg/kbT)))= '+string(peo2)+'cm^-3')//calculation\n",
"disp('in this case the emitter efficiency is essentially unity')"
   ]
   }
,
{
		   "cell_type": "markdown",
		   "metadata": {},
		   "source": [
			"## Example 7.2: saturation_voltage.sce"
		   ]
		  },
  {
"cell_type": "code",
	   "execution_count": null,
	   "metadata": {
	    "collapsed": true
	   },
	   "outputs": [],
"source": [
"clc\n",
"alpha_F=.99\n",
"disp('alpha_F = '+string(alpha_F)) //initializing value of forward bias current transfer ratio\n",
"alpha_R=.25\n",
"disp('alpha_R = '+string(alpha_R)) //initializing value of Reverse bias current transfer ratio\n",
"kbT = 0.026\n",
"disp('kbT = '+string(kbT)+'eV') //initializing value of kbT at 300K\n",
"// for part a\n",
"Ic1 = 1\n",
"disp('Ic1= '+string(Ic1)+'mA')//initializing value of collector current\n",
"Ib1 = .02\n",
"disp('Ib1= '+string(Ib1)+'mA')//initializing value of base current\n",
"VCE= kbT*log((((Ic1*(1-alpha_R))+Ib1)*alpha_F)/(((alpha_F*Ib1)-((Ic1*(1-alpha_F))))*alpha_R))\n",
"disp('The saturation voltage is ,VCE= kbT*log((((Ic1*(1-alpha_R))+Ib1)*alpha_F)/(((alpha_F*Ib1)-((Ic1*(1-alpha_F))))*alpha_R))= '+string(VCE)+' V')//calculation\n",
" //for part b\n",
"Ic2 = 5\n",
"disp('Ic2 = '+string(Ic2)+'mA')//initializing value of collector current \n",
"Ib2 = .075\n",
"disp('Ib2 = '+string(Ib2)+'A')//initializing value of base current\n",
"VCE1= kbT*log((((Ic2*(1-alpha_R))+Ib2)*alpha_F)/(((alpha_F*Ib2)-((Ic2*(1-alpha_F))))*alpha_R))\n",
"disp('The saturation voltage is ,VCE1= kbT*log((((Ic2*(1-alpha_R))+Ib2)*alpha_F)/(((alpha_F*Ib2)-((Ic2*(1-alpha_F))))*alpha_R))= '+string(VCE1)+' V')//calculation\n",
"\n",
"\n",
""
   ]
   }
,
{
		   "cell_type": "markdown",
		   "metadata": {},
		   "source": [
			"## Example 7.3: emitter_doping.sce"
		   ]
		  },
  {
"cell_type": "code",
	   "execution_count": null,
	   "metadata": {
	    "collapsed": true
	   },
	   "outputs": [],
"source": [
"clc\n",
"nbo = 2.25*10^3\n",
"disp('nbo= '+string(nbo)+'cm^-3')//inializing value of majority carrier densities for the base in npn transistor\n",
"peo = 112.5\n",
"disp('peo= '+string(peo)+'cm^-3')//inializing value of majority carrier densities for the emitter in npn transistor\n",
"pco = 2.25*10^4\n",
"disp('pco= '+string(pco)+'cm^-3')//inializing value of majority carrier densities for the collector in npn transistor\n",
"// using law of mass action for a homogeneous semiconductor, we have relation peo*neo=nbo*pbo=ni^2 \n",
"ni_power_2 = nbo/peo\n",
"disp('square of electron density of ionisation electron for npn silicon transistor is ni^2 = nbo/peo='+string(ni_power_2)+'cm^-3') //calculation\n",
"pbo = 10^16\n",
"disp('pbo= '+string(pbo)+'cm^-3')//initializing value of p type base doping\n",
"V = (1-((peo)/(10*nbo)))\n",
"disp('The emitter efficiency (gamma)is,V = (1-((peo)/(10*nbo)))= '+string(V))//calculation\n",
"neo = ni_power_2*pbo\n",
"disp('The required emitter doping is,neo = ni_power_2*pbo = '+string(neo)+'cm^-3')//calculation"
   ]
   }
,
{
		   "cell_type": "markdown",
		   "metadata": {},
		   "source": [
			"## Example 7.4: electron_diffusion_length_and_base_width.sce"
		   ]
		  },
  {
"cell_type": "code",
	   "execution_count": null,
	   "metadata": {
	    "collapsed": true
	   },
	   "outputs": [],
"source": [
"clc\n",
"B= 0.997\n",
"disp('B= '+string(B)) //initializing value of base transport factor\n",
"Db = 10\n",
"disp('Db= '+string(Db)+'cm^2/s')//initializing value of diffusion coefficient in the base\n",
"Tb = 10^-6\n",
"disp('Tb= '+string(Tb)+'s')//inializing value of electron lifetime\n",
"Lb = sqrt(Db*Tb)\n",
"disp('The electron carrier diffusion length is,Lb = sqrt(Db*Tb)= '+string(Lb)+'cm')//calculation\n",
"// assume the neutral basewidth Wbn is equal to actual basewidth Wb\n",
"Wbn = sqrt((1-B)*(2*(Lb^2)))\n",
"disp('The base width is,Wb = sqrt((1-B)*(2*(Lb^2)))= '+string(Wbn)+'cm')//calculation\n",
"// Note : due to different precisions taken by me and the author ... my answer differ "
   ]
   }
,
{
		   "cell_type": "markdown",
		   "metadata": {},
		   "source": [
			"## Example 7.5: current_gain_and_transconductance.sce"
		   ]
		  },
  {
"cell_type": "code",
	   "execution_count": null,
	   "metadata": {
	    "collapsed": true
	   },
	   "outputs": [],
"source": [
"clc\n",
"// using values from the result of Example 7.1\n",
"VEB = 0.6\n",
"disp('VEB= '+string(VEB)+'V')//initializing value of Emitter-base bias voltage\n",
"Ic = .2268*10^-3\n",
"disp('Ic= '+string(Ic)+'A')//initializing value of collector current\n",
"Ib = 4.92*10^-6\n",
"disp('Ib= '+string(Ib)+'A')//initializing value of base current at the biasing\n",
"kbT = 0.026\n",
"disp('kbT = '+string(kbT)+'eV/K') //initializing value of kbT at 300K\n",
"Beta = Ic/Ib\n",
"disp('The current gain Beta = Ic/Ib= '+string(Beta))//calculation\n",
"gm = Ic/kbT\n",
"disp('The transconductance is,gm = Ic/kbT = '+string(gm)+'S')//calculation"
   ]
   }
,
{
		   "cell_type": "markdown",
		   "metadata": {},
		   "source": [
			"## Example 7.6: current_gain.sce"
		   ]
		  },
  {
"cell_type": "code",
	   "execution_count": null,
	   "metadata": {
	    "collapsed": true
	   },
	   "outputs": [],
"source": [
"clc\n",
"De = 20\n",
"disp('De= '+string(De)+'cm^2/s')//initializing value of diffusion coefficient\n",
"Db=De\n",
"Nde = 5*10^17\n",
"disp('Nde= '+string(Nde)+'cm^-3')//inializing value of emitter doping\n",
"Nab = 10^17\n",
"disp('Nab= '+string(Nab)+'cm^-3')//inializing value of base doping\n",
"Wb = 10^-4\n",
"disp('Wb= '+string(Wb)+'cm')//initializing value of base width\n",
"ni = 1.5*10^10\n",
"disp('ni = '+string(ni)+'cm^-3') //initializing value of  electron density of ionisation electron for silicon\n",
"// for case (a) value of Te=10^-6s\n",
"Te1 = 10^-6\n",
"disp('Te= '+string(Te1)+'s')//inializing value of minority carrier lifetime for the electrons and holes\n",
"Le1 = sqrt(De*Te1)\n",
"disp('The  diffusion length is,Le1 = sqrt(De*Te)= '+string(Le1)+'cm')//calculation\n",
"Lb1=Le1\n",
"disp('The  diffusion length is,Lb1= '+string(Lb1)+'cm')//calculation\n",
"peo1 = (ni)^2/Nde\n",
"disp('The  majority carrier densities for the emitter in npn transistor is,peo = (ni)^2/Nde= '+string(peo1)+'cm^-3')//calculation\n",
"nbo1 = (ni)^2/Nab\n",
"disp('The  majority carrier densities for the base in npn transistor is,nbo = (ni)^2/Nab= '+string(nbo1)+'cm^-3')//calculation\n",
"alpha_1 = (1-((peo1*De*Wb)/(nbo1*Db*Le1)))*(1-((Wb^2)/(2*Le1^2)))\n",
"disp('The  current gain is,alpha_ = (1-((peo*De*Wb)/(nbo*Db*Le1)))*(1-((Wb^2)/(2*Le^2)))= '+string(alpha_1))//calculation\n",
"Beta1 = (alpha_1)/(1-alpha_1)\n",
"disp('The current gain Beta1 = (alpha_1)/(1-alpha_1) = '+string(Beta1))//calculation\n",
"\n",
"//for case (b) value of Te=10^-8s\n",
"Te2 = 10^-8\n",
"disp('Te= '+string(Te2)+'s')//inializing value of minority carrier lifetime for the electrons and holes\n",
"Le2 = sqrt(De*Te2)\n",
"disp('The  diffusion length is,Le = sqrt(De*Te)= '+string(Le2)+'cm')//calculation\n",
"peo2 = (ni)^2/Nde\n",
"disp('The  majority carrier densities for the emitter in npn transistor is,peo = (ni)^2/Nde= '+string(peo2)+'cm^-3')//calculation\n",
"nbo2 = (ni)^2/Nab\n",
"disp('The  majority carrier densities for the base in npn transistor is,nbo = (ni)^2/Nab= '+string(nbo2)+'cm^-3')//calculation\n",
"alpha_2 = (1-((peo2*De*Wb)/(nbo2*Db*Le2)))*(1-((Wb^2)/(2*Le2^2)))\n",
"disp('The  current gain alpha_ = (1-((peo*De*Wb)/(nbo*Db*Le2)))*(1-((Wb^2)/(2*Le^2)))= '+string(alpha_2))//calculation\n",
"Beta2 = (alpha_2)/(1-alpha_2)\n",
"disp('The current gain Beta2 = (alpha_2)/(1-alpha_2) = '+string(Beta2))//calculation"
   ]
   }
,
{
		   "cell_type": "markdown",
		   "metadata": {},
		   "source": [
			"## Example 7.7: emitter_efficiency.sce"
		   ]
		  },
  {
"cell_type": "code",
	   "execution_count": null,
	   "metadata": {
	    "collapsed": true
	   },
	   "outputs": [],
"source": [
"clc\n",
"nbo = 2.25*10^3\n",
"disp('nbo= '+string(nbo)+'cm^-3')//inializing value of majority carrier densities for the base in npn transistor\n",
"peo = 112.5\n",
"disp('peo= '+string(peo)+'cm^-3')//inializing value of majority carrier densities for the emitter in npn transistor\n",
"Db = 30\n",
"disp('Db= '+string(Db)+'cm^2/s')//initializing value of diffusion coefficient in the base\n",
"De = 10\n",
"disp('De= '+string(De)+'cm^2/s')//initializing value of diffusion coefficient in the emitter\n",
"Nde = 10^18\n",
"disp('Nde= '+string(Nde)+'cm^-3')//inializing value of emitter doping\n",
"Nab = 10^16\n",
"disp('Nab= '+string(Nab)+'cm^-3')//inializing value of base doping\n",
"Lb = 10*10^-4\n",
"disp('Lb= '+string(Lb)+'cm')//inializing value of minority carrier diffusion length\n",
"Le = 4*10^-4\n",
"disp('Le= '+string(Le)+'cm')//inializing value of emitter diffusion length\n",
"kbT = 0.026\n",
"disp('kbT = '+string(kbT)+'eV/K') //initializing value of kbT at 300K\n",
"Wb = 0.5*10^-4\n",
"disp('Wb= '+string(Wb)+'cm')//initializing value of base width\n",
"We1 = 10*10^-4\n",
"disp('We= '+string(We1)+'cm')//initializing value of emitter width \n",
"We2 = 10^-4\n",
"disp('We2= '+string(We2)+'cm')//initializing value of emitter width \n",
"e = 1.6*10^-19\n",
"disp('e= '+string(e)+'C')//initializing value of charge of electron\n",
"disp('for emitter thickness = 10*10^-4 cm')\n",
"gamma_1 = (((Db*nbo*coth(Wb/Lb))/(Lb))/(((Db*nbo*coth(Wb/Lb))/Lb)+((De*peo*coth(We1/Le))/Le)))\n",
"disp('The emitter efficiency gamma_1 = (((Db*nbo*Lb*coth(Wb/Lb))/(Lb))/(((Db*nbo*coth(Wb/Lb))/Lb)+((De*peo*coth(We/Le))/Le)))= '+string(gamma_1))//calculation\n",
"disp('for emitter thickness = 10^-4 cm')\n",
"gamma_2 = (((Db*nbo*coth(Wb/Lb))/(Lb))/(((Db*nbo*coth(Wb/Lb))/Lb)+((De*peo*coth(We2/Le))/Le)))\n",
"disp('The emitter efficiency (gamma)is,gamma_2 = (((Db*nbo*Lb*coth(Wb/Lb))/(Lb))/(((Db*nbo*coth(Wb/Lb))/Lb)+((De*peo*coth(We/Le))/Le)))= '+string(gamma_2))//calculation\n",
"//NOTE: In the textbook author has used approximate value for the calculation of gamma thus the above solution is differ from that of the gamma"
   ]
   }
,
{
		   "cell_type": "markdown",
		   "metadata": {},
		   "source": [
			"## Example 7.8: early_voltage.sce"
		   ]
		  },
  {
"cell_type": "code",
	   "execution_count": null,
	   "metadata": {
	    "collapsed": true
	   },
	   "outputs": [],
"source": [
"clc\n",
"Ndc = 5*10^15\n",
"disp('Ndc= '+string(Ndc)+'cm^-3')//inializing value of collector doping\n",
"Nab = 5*10^16\n",
"disp('Nab= '+string(Nab)+'cm^-3')//inializing value of base doping\n",
"ni = sqrt(2.25*10^20)\n",
"disp('ni = '+string(ni)+'cm^-3') //initializing value of  electron density of ionisation electron for silicon\n",
"kbT = 0.026\n",
"disp('kbT = '+string(kbT)+'eV/K') //initializing value of thermal voltage at 300K\n",
"e = 1.6*10^-19\n",
"disp('e= '+string(e)+'C')//initializing value of charge of electron\n",
"Vbi= (kbT)*((log((Nab*Ndc)/(ni^2))))\n",
"disp('The built in voltage is ,Vbi= (kbT)*((log((Na*Nd)/Ni^2)))= '+string(Vbi)+'V')//calculation\n",
"disp('              for an applied bias of 1 V                ')\n",
"VCB1 = 1\n",
"disp('VCB = '+string(VCB1)+' V')//initializing value of Collector-base bias voltage\n",
"apsilent_s = 11.9*8.85*10^-14\n",
"disp('apsilent_s = '+string(apsilent_s)+'F/cm') //initializing value of relative permitivity\n",
"Wb = 10^-4\n",
"disp('Wb= '+string(Wb)+'cm')//initializing value of base width\n",
"dWb1 = sqrt((2*apsilent_s*(Vbi+VCB1)*Ndc)/(e*Nab*(Nab+Ndc)))\n",
"disp('The extent of depletion into the base side is,dWb = sqrt((2*apsilent_s*(Vbi+Vcb1)*Ndc)/(e*Nab*(Nab+Ndc))) = '+string(dWb1)+'cm')//calculation\n",
"Wbn1 = Wb-dWb1\n",
"disp('The neutral base width is,Wbn = Wb-dWb1= '+string(Wbn1)+'cm')//calculation\n",
"nbo = ((ni)^2)/Nab\n",
"disp('The required base doping is,nbo = (ni^2)/Nab = '+string(nbo)+'cm^-3')//calculation\n",
"Db = 20\n",
"disp('Db= '+string(Db)+'cm^2/s')//initializing value of diffusion coefficient in the base\n",
"VBE = 0.7\n",
"disp('VBE= '+string(VBE)+'V')//initializing value of base-Emitter bias voltage\n",
"Jc1 = ((e*Db*nbo)/Wbn1)*(exp(VBE/kbT))\n",
"disp('The collector current density is,Jc = ((e*Db*nbo)/Wbn)*(exp((e*VBE)/kbT))= '+string(Jc1)+'A/cm^2')//calculation\n",
"disp('              for an applied bias of 5 V            ')\n",
"VCB2 = 5\n",
"disp('VCB = '+string(VCB2)+' V')//initializing value of Collector-base bias voltage\n",
"VCE1= VCB1+VBE\n",
"disp('The collector emitter voltage is ,VCE= VCB+VBE= '+string(VCE1)+' V')//calculation\n",
"VCE2= VCB2+VBE\n",
"disp('The collector emitter voltage is ,VCE= VCB+VBE= '+string(VCE2)+' V')//calculation\n",
"dWb2 = sqrt((2*apsilent_s*(Vbi+VCB2)*Ndc)/(e*Nab*(Nab+Ndc)))\n",
"disp('The extent of depletion into the base side is,dWb = sqrt((2*apsilent_s*(Vbi+Vcb1)*Ndc)/(e*Nab*(Nab+Ndc))) = '+string(dWb2)+'cm')//calculation\n",
"Wbn2 = Wb-dWb2\n",
"disp('The neutral base width is,Wbn = Wb-dWb1= '+string(Wbn2)+'cm')//calculation\n",
"Jc2 = ((e*Db*nbo)/Wbn2)*(exp(VBE/kbT))\n",
"disp('The collector current density is,Jc = ((e*Db*nbo)/Wbn)*(exp((e*VBE)/kbT))= '+string(Jc2)+' A/cm^2')//calculation\n",
"VA = (Jc1/((Jc2-Jc1)/(VCE2-VCE1)))-(VCE1)\n",
"disp('The Early voltage is,VA = (Jc1/((Jc2-Jc1)/(VCE2-VCE1)))-(VCE1)= '+string(VA)+'V')//calculation\n",
"// Note : due to different precisions taken by me and the author ... my answer differ by '0.2' value.\n",
"\n",
"\n",
"\n",
"\n",
"\n",
"\n",
"\n",
"\n",
"\n",
"\n",
""
   ]
   }
,
{
		   "cell_type": "markdown",
		   "metadata": {},
		   "source": [
			"## Example 7.9: punchthrough_voltage.sce"
		   ]
		  },
  {
"cell_type": "code",
	   "execution_count": null,
	   "metadata": {
	    "collapsed": true
	   },
	   "outputs": [],
"source": [
"clc\n",
"Ndc = 10^16\n",
"disp('Ndc= '+string(Ndc)+'cm^-3')//inializing value of collector doping\n",
"Nab = 5*10^16\n",
"disp('Nab= '+string(Nab)+'cm^-3')//inializing value of base doping\n",
"e = 1.6*10^-19\n",
"disp('e= '+string(e)+'C')//initializing value of charge of electron\n",
"apsilen = 11.9*8.85*10^-14\n",
"disp('apsilen = '+string(apsilen)+'F/cm') //initializing value of relative permitivity\n",
"Wb = .2*10^-4\n",
"disp('Wb= '+string(Wb)+'cm')//initializing value of base width\n",
"Vpt= ((e*(Wb^2)*Nab*(Ndc+Nab))/(2*apsilen*Ndc))\n",
"disp('The punchthrough voltage is ,Vpt= (e*(Wb^2)*Nab*(Ndc+Nab))/(2*apsilen*Ndc)= '+string(Vpt)+'V')//calculation\n",
"Twb = 1.2*10^-4\n",
"disp('Twb= '+string(Twb)+'cm')//initializing value of total depletion width\n",
"F = Vpt/Twb\n",
"disp('The average field at punchthrough voltage is ,F = Vpt/Twb= '+string(F)+'V/cm')//calculation\n",
"\n",
"// Note : due to different precisions taken by me and the author ... my answer differ by '0.16' value.\n",
""
   ]
   }
],
"metadata": {
		  "kernelspec": {
		   "display_name": "Scilab",
		   "language": "scilab",
		   "name": "scilab"
		  },
		  "language_info": {
		   "file_extension": ".sce",
		   "help_links": [
			{
			 "text": "MetaKernel Magics",
			 "url": "https://github.com/calysto/metakernel/blob/master/metakernel/magics/README.md"
			}
		   ],
		   "mimetype": "text/x-octave",
		   "name": "scilab",
		   "version": "0.7.1"
		  }
		 },
		 "nbformat": 4,
		 "nbformat_minor": 0
}
