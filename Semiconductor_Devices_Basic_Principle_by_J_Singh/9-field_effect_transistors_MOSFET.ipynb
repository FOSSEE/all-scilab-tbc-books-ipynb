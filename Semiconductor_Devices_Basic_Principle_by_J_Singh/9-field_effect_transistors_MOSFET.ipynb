{
"cells": [
 {
		   "cell_type": "markdown",
	   "metadata": {},
	   "source": [
       "# Chapter 9: field effect transistors MOSFET"
	   ]
	},
{
		   "cell_type": "markdown",
		   "metadata": {},
		   "source": [
			"## Example 9.10: shift_in_threshold_voltage.sce"
		   ]
		  },
  {
"cell_type": "code",
	   "execution_count": null,
	   "metadata": {
	    "collapsed": true
	   },
	   "outputs": [],
"source": [
"clc\n",
"kbT = 0.026\n",
"disp('kbT = '+string(kbT)+'eV') //initializing value of kbT at 300K\n",
"apsilen = 11.9*8.85*10^-14\n",
"disp('apsilen = '+string(apsilen)+'F/cm') //initializing value of relative permitivity\n",
"e = 1.6*10^-19\n",
"disp('e= '+string(e)+'C')//initializing value of charge of electron\n",
"Na=2*10^16\n",
"disp('Na = '+string(Na)+'cm^-3') //initializing value of doped carrier concentration\n",
"ni = 1.5*10^10\n",
"disp('ni= '+string(ni)+'cm^-3')//initializing value of intrinsic carrier concentration\n",
"VSB = 1\n",
"disp('VSB= '+string(VSB)+'V')//initializing value of sorce body voltage\n",
"apsilen_ox = 3.9*8.85*10^-14\n",
"disp('apsilen_ox= '+string(apsilen_ox))//initializing value of relative permitivity of oxide\n",
"dox = 500*10^-8\n",
"disp('dox= '+string(dox)+'cm')//initializing value of thickness of oxide\n",
"Cox = apsilen_ox/dox\n",
"disp('The oxide capicitance per unit area is ,Cox = apsilen_ox/dox= '+string(Cox)+' F*cm^-2')//calculation\n",
"phi_F= (-kbT*log(Na/ni))\n",
"disp('The potential phi_F= (-kbT*log(Na/ni))= '+string(phi_F)+' V')//calculation\n",
"dVT = ((sqrt(2*e*apsilen*Na)/Cox)*((sqrt((-2*phi_F)+VSB)-sqrt(-2*phi_F))))\n",
"disp(' The shift in threshold voltage is ,dVT = ((sqrt(2*e*apsilen*Na)/Cox)*((sqrt((-2*phi_F)+VSB)-sqrt(-2*phi_F)))) = '+string(dVT)+' V')//calculation"
   ]
   }
,
{
		   "cell_type": "markdown",
		   "metadata": {},
		   "source": [
			"## Example 9.11: threshold_voltage_and_dopant_density.sce"
		   ]
		  },
  {
"cell_type": "code",
	   "execution_count": null,
	   "metadata": {
	    "collapsed": true
	   },
	   "outputs": [],
"source": [
"clc\n",
"kbT = 0.026\n",
"disp('kbT = '+string(kbT)+'eV') //initializing value of kbT at 300K\n",
"apsilen = 11.9*8.85*10^-14\n",
"disp('apsilen = '+string(apsilen)+'F/cm') //initializing value of relative permitivity\n",
"e = 1.6*10^-19\n",
"disp('e= '+string(e)+'C')//initializing value of charge of electron\n",
"D = 10^-5\n",
"disp('D= '+string(D)+'cm')//initializing value of thickness\n",
"Na=10^14\n",
"disp('Na = '+string(Na)+'cm^-3') //initializing value of doped carrier concentration\n",
"dVT=.5\n",
"disp('dVT = '+string(dVT)+'V') //initializing value of change in threshold voltage\n",
"ni = 1.5*10^10\n",
"disp('ni= '+string(ni)+'cm^-3')//initializing value of intrinsic carrier concentration\n",
"apsilen_ox = 3.9*8.85*10^-14\n",
"disp('apsilen_ox= '+string(apsilen_ox))//initializing value of relative permitivity of oxide\n",
"phi_F= (-kbT*log(Na/ni))\n",
"disp('The potential phi_F= (-kbT*log(Na/ni))= '+string(phi_F)+' V')//calculation\n",
"dox = 5*10^-6\n",
"disp('dox= '+string(dox)+'cm')//initializing value of thickness of oxide\n",
"Cox = apsilen_ox/dox\n",
"disp('The oxide capicitance per unit area is ,Cox = apsilen_ox/dox= '+string(Cox)+' cm^-1')//calculation\n",
"phi_ms = -0.83\n",
"disp('phi_ms = '+string(phi_ms)+'V') \n",
"VT = (phi_ms)-(2*phi_F)+((sqrt(4*e*apsilen*Na*(-phi_F)))/Cox)\n",
"disp('the threshold voltage is ,VT = (phi_ms)-(2*phi_F)+((sqrt(4*e*apsilen*Na*(-phi_F)))/Cox) = '+string(VT)+' V')//calculation\n",
"Na = (dVT*Cox)/(e*D)\n",
"disp('the dopant density is ,Na = (dVT*Cox)/(e*D) = '+string(Na)+' cm^-3')//calculation\n",
"// Note : due to different precisions taken by me and the author ... my answer differ \n",
""
   ]
   }
,
{
		   "cell_type": "markdown",
		   "metadata": {},
		   "source": [
			"## Example 9.1: maximum_depletion_width.sce"
		   ]
		  },
  {
"cell_type": "code",
	   "execution_count": null,
	   "metadata": {
	    "collapsed": true
	   },
	   "outputs": [],
"source": [
"clc\n",
"kbT = 0.026\n",
"disp('kbT = '+string(kbT)+'eV') //initializing value of kbT at 300K\n",
"apsilen = 11.9*8.85*10^-14\n",
"disp('apsilen = '+string(apsilen)+'F/cm') //initializing value of relative permitivity\n",
"e = 1.6*10^-19\n",
"disp('e= '+string(e)+'C')//initializing value of charge of electron\n",
"Na=10^16\n",
"disp('Na = '+string(Na)+'cm^-3') //initializing value of doped carrier concentration\n",
"ni = 1.5*10^10\n",
"disp('ni= '+string(ni)+'cm^-3')//initializing value of intrinsic carrier concentration\n",
"phi_F= (-kbT*log(Na/ni))\n",
"disp('The potential phi_F= (-kbT*log(Na/ni))= '+string(phi_F)+'V')//calculation\n",
"W = sqrt((4*apsilen*(-phi_F))/(e*Na))*10^4\n",
"disp('The space charge width is ,W = sqrt((4*apsilen*phi_F)/e*Na)= '+string(W)+' micro_meter')//calculation\n",
""
   ]
   }
,
{
		   "cell_type": "markdown",
		   "metadata": {},
		   "source": [
			"## Example 9.2: potential.sce"
		   ]
		  },
  {
"cell_type": "code",
	   "execution_count": null,
	   "metadata": {
	    "collapsed": true
	   },
	   "outputs": [],
"source": [
"clc\n",
"kbT = 0.026\n",
"disp('kbT = '+string(kbT)+'V/K') //initializing value of kbT at 300K\n",
"Eg = 1.11\n",
"disp('Eg = '+string(Eg)+'eV') //initializing value of forbidden energy gap\n",
"e = 1.6*10^-19\n",
"disp('e= '+string(e)+'C')//initializing value of charge of electron\n",
"Na=10^14\n",
"disp('Na = '+string(Na)+'cm^-3') //initializing value of doped carrier concentration\n",
"ni = 1.5*10^10\n",
"disp('ni= '+string(ni)+'cm^-3')//initializing value of intrinsic carrier concentration\n",
"phi_m = 4.1\n",
"disp('phi_m = '+string(phi_m)+'eV') //initializing value of work function of Al\n",
"Es = 4.15\n",
"disp('Es = '+string(Es)+'eV') //initializing value of electron affinity of silicon\n",
"EF= ((Eg/2)+kbT*log(Na/ni))\n",
"disp('The position of fermi level below conduction band is ,EF= (EFi+kbT*log(Na/ni))= '+string(EF)+'eV')//calculation\n",
"Vfb = phi_m-(Es+EF)\n",
"disp('The potential is ,Vfb = Qm-(Es+EF)= '+string(Vfb)+'eV')//calculation\n",
"\n",
""
   ]
   }
,
{
		   "cell_type": "markdown",
		   "metadata": {},
		   "source": [
			"## Example 9.3: Threshold_voltage.sce"
		   ]
		  },
  {
"cell_type": "code",
	   "execution_count": null,
	   "metadata": {
	    "collapsed": true
	   },
	   "outputs": [],
"source": [
"clc\n",
"kbT = 0.026\n",
"disp('kbT = '+string(kbT)+'eV') //initializing value of kbT at 300K\n",
"apsilen = 11.9*8.85*10^-14\n",
"disp('apsilen = '+string(apsilen)+'F/cm') //initializing value of relative permitivity\n",
"e = 1.6*10^-19\n",
"disp('e= '+string(e)+'C')//initializing value of charge of electron\n",
"Na=3*10^16\n",
"disp('Na = '+string(Na)+'cm^-3') //initializing value of doped carrier concentration\n",
"ni = 1.5*10^10\n",
"disp('ni= '+string(ni)+'cm^-3')//initializing value of intrinsic carrier concentration\n",
"Vfb = -1.13\n",
"disp('Vfb= '+string(Vfb)+'eV')//initializing value of flat band voltage\n",
"Eox = 3.9*8.85*10^-14\n",
"disp('Eox= '+string(Eox))//initializing value of relative permitivity of oxide\n",
"dox = 500*10^-8\n",
"disp('dox= '+string(dox)+'cm')//initializing value of thickness of oxide\n",
"Nt = 10^11\n",
"disp('Nt= '+string(Nt)+'cm^-3')//initializing value trap density in oxide region\n",
"phi_F= (-kbT*log(Na/ni))\n",
"disp('The potential phi_F= (-kbT*log(Na/ni))= '+string(phi_F)+' V')//calculation\n",
"Qs = sqrt((4*apsilen*(-phi_F))*(e*Na))\n",
"disp('The maximum depletion width is ,Qs = sqrt((4*apsilen*(-phi_F))*(e*Na))= '+string(Qs)+' C cm^-2')//calculation\n",
"Vs = -(2*phi_F)\n",
"disp('The surface potential is ,Vs = -(2*phi_F)= '+string(Vs)+' V')//calculation\n",
"VT = Vfb+Vs+((Qs*dox)/Eox)\n",
"disp('In the absence of any oxide charge, the threshold voltage is ,VT = Vfb+Vs+((Qs*dox)/Eox) = '+string(VT)+' V')//calculation\n",
"dVT = -((e*Nt*dox)/Eox)\n",
"disp('when oxide has trap charges, the shift in threshold voltage is ,dVT = -((e*Nt*dox)/Eox) = '+string(dVT)+' V')//calculation\n",
"// Note : due to different precisions taken by me and the author ... my answer differ "
   ]
   }
,
{
		   "cell_type": "markdown",
		   "metadata": {},
		   "source": [
			"## Example 9.4: channel_conductivity_and_threshold_voltage.sce"
		   ]
		  },
  {
"cell_type": "code",
	   "execution_count": null,
	   "metadata": {
	    "collapsed": true
	   },
	   "outputs": [],
"source": [
"clc\n",
"mu_n=600\n",
"disp('mu_n = '+string(mu_n)+'cm^2(Vs)^-1') //initializing value of mobility of electron \n",
"mu_p = 200\n",
"disp('mu_p = '+string(mu_p)+'cm^2(Vs)^-1') //initializing value of mobility of holes \n",
"kbT = 0.026\n",
"disp('kbT = '+string(kbT)+'eV') //initializing value of kbT at 300K\n",
"apsilen = 11.9*8.85*10^-14\n",
"disp('apsilen = '+string(apsilen)+'F/cm') //initializing value of relative permitivity\n",
"e = 1.6*10^-19\n",
"disp('e= '+string(e)+'C')//initializing value of charge of electron\n",
"Na=5*10^16\n",
"disp('Na = '+string(Na)+'cm^-3') //initializing value of doped carrier concentration\n",
"ni = 1.5*10^10\n",
"disp('ni= '+string(ni)+'cm^-3')//initializing value of intrinsic carrier concentration\n",
"Vfb = -0.5\n",
"disp('Vfb= '+string(Vfb)+'eV')//initializing value of flat band voltage\n",
"Eox = 1.583*8.85*10^-14\n",
"disp('Eox= '+string(Eox))//initializing value of relative permitivity of oxide\n",
"dox = 200*10^-8\n",
"disp('dox= '+string(dox)+'cm')//initializing value of thickness of oxide\n",
"sigma_1= Na*e*mu_p\n",
"disp('The channel conductivity under flat band sigma_1= Na*e*mu_p= '+string(sigma_1)+' ohm^-1cm^-1')//calculation\n",
"sigma_2= Na*e*mu_n\n",
"disp('The channel conductivity at inversion sigma_1= Na*e*mu_n= '+string(sigma_2)+' ohm^-1cm^-1')//calculation\n",
"phi_F= (-kbT*log(Na/ni))\n",
"disp('The potential phi_F= (-kbT*log(Na/ni))= '+string(phi_F)+' V')//calculation\n",
"Qs = sqrt((4*apsilen*(-phi_F))*(e*Na))\n",
"disp('The maximum depletion width is ,Qs = sqrt((4*apsilen*(-phi_F))*(e*Na))= '+string(Qs)+' C cm^-2')//calculation\n",
"Vs = -(2*phi_F)\n",
"disp('The surface potential is ,Vs = -(2*phi_F)= '+string(Vs)+' V')//calculation\n",
"VT = Vfb+Vs+((Qs*dox)/Eox)\n",
"disp('In the absence of any oxide charge, the threshold voltage is ,VT = Vfb+Vs+((Qs*dox)/Eox) = '+string(VT)+' V')//calculation\n",
"// Note : due to different precisions taken by me and the author ... my answer differ \n",
""
   ]
   }
,
{
		   "cell_type": "markdown",
		   "metadata": {},
		   "source": [
			"## Example 9.6: Capacitance.sce"
		   ]
		  },
  {
"cell_type": "code",
	   "execution_count": null,
	   "metadata": {
	    "collapsed": true
	   },
	   "outputs": [],
"source": [
"clc\n",
"kbT = 0.026\n",
"disp('kbT = '+string(kbT)+'eV') //initializing value of kbT at 300K\n",
"apsilen = 11.9*8.85*10^-14\n",
"disp('apsilen = '+string(apsilen)+'F/cm') //initializing value of relative permitivity\n",
"e = 1.6*10^-19\n",
"disp('e= '+string(e)+'C')//initializing value of charge of electron\n",
"Na=10^16\n",
"disp('Na = '+string(Na)+'cm^-3') //initializing value of doped carrier concentration\n",
"ni = 1.5*10^10\n",
"disp('ni= '+string(ni)+'cm^-3')//initializing value of intrinsic carrier concentration\n",
"apsilen_ox = 3.9*8.85*10^-14\n",
"disp('apsilen_ox= '+string(apsilen_ox))//initializing value of relative permitivity of oxide\n",
"dox = 500*10^-8\n",
"disp('dox= '+string(dox)+'cm')//initializing value of thickness of oxide\n",
"Cox= apsilen_ox/dox\n",
"disp('The oxide capacitance Cox= apsilen_ox/dox= '+string(Cox)+'F/cm^2')//calculation\n",
"phi_F= (-kbT*log(Na/ni))\n",
"disp('The potential phi_F= (-kbT*log(Na/ni))= '+string(phi_F)+' V')//calculation\n",
"Wmax = sqrt((4*apsilen*(-phi_F))/(e*Na))\n",
"disp('The maximum depletion width is ,Wmax = sqrt((4*apsilen*(-phi_F))/(e*Na))= '+string(Wmax)+' cm')//calculation\n",
"Cmin = (apsilen_ox/(dox+((apsilen_ox*Wmax)/apsilen)))\n",
"disp('The minimum capicitance is ,Cmin = (apsilen_ox/(dox+((apsilen_ox*Wmax)/apsilen)))= '+string(Cmin)+' F/cm^2')//calculation\n",
"Cfb = (apsilen_ox/((dox)+((apsilen_ox/apsilen)*(sqrt((kbT*apsilen)/(e*Na))))))\n",
"disp('The capicitance under flat band conditions is ,Cfb = (apsilen_ox/((dox)+((apsilen_ox/apsilen)*(sqrt((kbT*apsilen)/(e*Na)))))) = '+string(Cfb)+' F/cm^2')//calculation\n",
""
   ]
   }
,
{
		   "cell_type": "markdown",
		   "metadata": {},
		   "source": [
			"## Example 9.7: saturation_current.sce"
		   ]
		  },
  {
"cell_type": "code",
	   "execution_count": null,
	   "metadata": {
	    "collapsed": true
	   },
	   "outputs": [],
"source": [
"clc\n",
"mu_n=600\n",
"disp('mu_n = '+string(mu_n)+'cm^2(Vs)^-1') //initializing value of channel mobility \n",
"kbT = 0.026\n",
"disp('kbT = '+string(kbT)+'eV') //initializing value of kbT at 300K\n",
"apsilen = 11.9*8.85*10^-14\n",
"disp('apsilen = '+string(apsilen)+'F/cm') //initializing value of relative permitivity\n",
"e = 1.6*10^-19\n",
"disp('e= '+string(e)+'C')//initializing value of charge of electron\n",
"Na=10^16\n",
"disp('Na = '+string(Na)+'cm^-3') //initializing value of doped carrier concentration\n",
"ni = 1.5*10^10\n",
"disp('ni= '+string(ni)+'cm^-3')//initializing value of intrinsic carrier concentration\n",
"apsilen_ox = 3.9*8.85*10^-14\n",
"disp('apsilen_ox= '+string(apsilen_ox))//initializing value of relative permitivity of oxide\n",
"dox = 500*10^-8\n",
"disp('dox= '+string(dox)+'cm')//initializing value of thickness of oxide\n",
"phi_ms = -1.13\n",
"disp('phi_ms = '+string(phi_ms)+'V') //initializing value of work function of metal semiconductor\n",
"Qss = 10^11\n",
"disp('Qss = '+string(Qss)+'cm^-2') //initializing value of oxide charge\n",
"VGS = 5\n",
"disp('VGS= '+string(VGS)+'V')//initializing value of gate voltage\n",
"Z=25*10^-6\n",
"disp('Z= '+string(Z)+'m')//initializing value of channel width\n",
"L=1.5*10^-6\n",
"disp('L= '+string(L)+'m')//initializing value of channel length\n",
"phi_F= (-kbT*log(Na/ni))\n",
"disp('The potential phi_F= (-kbT*log(Na/ni))= '+string(phi_F)+' V')//calculation\n",
"Cox = apsilen_ox/dox\n",
"disp('The oxide capicitance per unit area is ,Cox = apsilen_ox/dox= '+string(Cox)+' F/cm^-2')//calculation\n",
"Vfb = phi_ms-((Qss*e)/Cox)\n",
"disp('The flat band potential is Vfb = phi_ms-(Qss/Cox)= '+string(Vfb)+'V')//calculation\n",
"Vs = -(2*phi_F)\n",
"disp('The surface potential is ,Vs = -(2*phi_F)= '+string(Vs)+' V')//calculation\n",
"VT = Vfb+Vs+(sqrt(4*e*apsilen*Na*(-phi_F))/Cox)\n",
"disp('In the absence of any oxide charge, the threshold voltage is ,VT = Vfb+Vs+(sqrt(4*e*apsilen*Na*(-phi_F))/Cox) = '+string(VT)+' V')//calculation\n",
"ID = (Z*mu_n*Cox*(VGS-VT)^2)/(2*L)\n",
"disp('The saturation current is ,ID = (Z*mu_n*Cox*(VGS-VT)^2)/(2*L)= '+string(ID)+' A')//calculation\n",
"\n",
"//NOTE: The value of Vfb in the text book is wrong for the above solution and thus the value of VT and saturation current is also wrong"
   ]
   }
,
{
		   "cell_type": "markdown",
		   "metadata": {},
		   "source": [
			"## Example 9.8: Drain_current.sce"
		   ]
		  },
  {
"cell_type": "code",
	   "execution_count": null,
	   "metadata": {
	    "collapsed": true
	   },
	   "outputs": [],
"source": [
"clc\n",
"kbT = 0.026\n",
"disp('kbT = '+string(kbT)+'eV') //initializing value of kbT at 300K\n",
"Z = 10*10^-4\n",
"disp('Z = '+string(Z)+'cm') //initializing value of channel width\n",
"L = 1*10^-4\n",
"disp('L = '+string(L)+'cm') //initializing value of channel length\n",
"mu_n=700\n",
"disp('mu_n = '+string(mu_n)+'cm^2(Vs)^-1') //initializing value of channel mobility \n",
"apsilen = 11.9*8.85*10^-14\n",
"disp('apsilen = '+string(apsilen)+'F/cm') //initializing value of relative permitivity\n",
"e = 1.6*10^-19\n",
"disp('e= '+string(e)+'C')//initializing value of charge of electron\n",
"Na=4*10^14\n",
"disp('Na = '+string(Na)+'cm^-3') //initializing value of doped carrier concentration\n",
"ni = 1.5*10^10\n",
"disp('ni= '+string(ni)+'cm^-3')//initializing value of intrinsic carrier concentration\n",
"apsilen_ox = 3.9*8.85*10^-14\n",
"disp('apsilen_ox= '+string(apsilen_ox))//initializing value of relative permitivity of oxide\n",
"dox = 200*10^-8\n",
"disp('dox= '+string(dox)+'cm')//initializing value of thickness of oxide\n",
"VGS = 5\n",
"disp('VGS= '+string(VGS)+'V')//initializing value of gate voltage\n",
"Qs = sqrt(4*apsilen*(-phi_F)*e*Na)\n",
"disp('The maximum depletion width is ,Qs = sqrt(4*apsilen*(-phi_F)*e*Na)= '+string(Qs)+' cm^-2')//calculation\n",
"phi_F= (-kbT*log(Na/ni))\n",
"disp('The potential phi_F= (-kbT*log(Na/ni))= '+string(phi_F)+' V')//calculation\n",
"Cox = apsilen_ox/dox\n",
"disp('The oxide capicitance per unit area is ,Cox = apsilen_ox/dox= '+string(Cox)+' cm^-1')//calculation\n",
"Vs = -(2*phi_F)\n",
"disp('The surface potential is ,Vs = -(2*QF)= '+string(Vs)+' V')//calculation\n",
"VT = Vs+((Qs/Cox))\n",
"disp(' The threshold voltage is ,VT = Vs+((Qs/Cox)) = '+string(VT)+' V')//calculation\n",
"VDS = VGS-VT\n",
"disp('The saturation voltage is ,VDS = VGS-VT= '+string(VDS)+' V')//calculation\n",
"ID = (Z*mu_n*Cox*(VDS)^2)/(2*L)\n",
"disp('The saturation current is ,ID = (Z*mu_n*Cox*(VDS)^2)/(2*L)= '+string(ID)+' A')//calculation\n",
"// Note : due to different precisions taken by me and the author ... my answer differ "
   ]
   }
,
{
		   "cell_type": "markdown",
		   "metadata": {},
		   "source": [
			"## Example 9.9: mobility_of_electrons.sce"
		   ]
		  },
  {
"cell_type": "code",
	   "execution_count": null,
	   "metadata": {
	    "collapsed": true
	   },
	   "outputs": [],
"source": [
"clc\n",
"VDS = .1\n",
"disp('VDS = '+string(VDS)+'V') //initializing value of saturation voltage\n",
"Z = 10*10^-4\n",
"disp('Z = '+string(Z)+'cm') //initializing value of channel width\n",
"L = 2*10^-4\n",
"disp('L = '+string(L)+'cm') //initializing value of channel length\n",
"Cox=10^-7\n",
"disp('Cox = '+string(Cox)+' F cm^2') //initializing value of oxide capacitance \n",
"ID1= 50\n",
"disp('ID1 = '+string(ID1)+'uA') //initializing value of saturation current 1\n",
"ID2= 80\n",
"disp('ID2 = '+string(ID2)+'uA') //initializing value of saturation current 2\n",
"VGS1 = 1.5\n",
"disp('VGS1= '+string(VGS1)+'V')//initializing value of gate voltage 1\n",
"VGS2 = 2.5\n",
"disp('VGS2= '+string(VGS2)+'V')//initializing value of gate voltage 2\n",
"mu_n = (((ID2-ID1)*10^(-6)*L)/(VDS*Z*Cox*(VGS2-VGS1)))\n",
"disp('The mobility of electron in silicon is ,mu_n = (((ID2-ID1)*L)/(VDS*Z*Cox*(VGS2-VGS1)))= '+string(mu_n)+' cm^2/Vs')//calculation"
   ]
   }
],
"metadata": {
		  "kernelspec": {
		   "display_name": "Scilab",
		   "language": "scilab",
		   "name": "scilab"
		  },
		  "language_info": {
		   "file_extension": ".sce",
		   "help_links": [
			{
			 "text": "MetaKernel Magics",
			 "url": "https://github.com/calysto/metakernel/blob/master/metakernel/magics/README.md"
			}
		   ],
		   "mimetype": "text/x-octave",
		   "name": "scilab",
		   "version": "0.7.1"
		  }
		 },
		 "nbformat": 4,
		 "nbformat_minor": 0
}
