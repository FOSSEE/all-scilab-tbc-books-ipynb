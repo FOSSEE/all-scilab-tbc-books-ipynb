{
"cells": [
 {
		   "cell_type": "markdown",
	   "metadata": {},
	   "source": [
       "# Chapter 5: Three Phase AC Circuits"
	   ]
	},
{
		   "cell_type": "markdown",
		   "metadata": {},
		   "source": [
			"## Example 5.10: Impedance_of_the_load_phase_current_and_power_factor.sce"
		   ]
		  },
  {
"cell_type": "code",
	   "execution_count": null,
	   "metadata": {
	    "collapsed": true
	   },
	   "outputs": [],
"source": [
"// Exa 5.10\n",
"clc;\n",
"clear;\n",
"close;\n",
"format('v',6)\n",
"// Given data\n",
"P = 12;// in kW\n",
"P = P * 10^3;// in W\n",
"V_L = 400;// in V\n",
"I_L = 20;// in A\n",
"I_Ph = I_L;// in A\n",
"disp(I_Ph,'The phase current in A is');\n",
"V_Ph = V_L/sqrt(3);// in V\n",
"Z_Ph = V_Ph/I_Ph;// in ohm\n",
"disp(Z_Ph,'The impedance of load in ohm is');\n",
"// P = sqrt(3)*V_L*I_L*cos(phi);\n",
"phi= acosd(P/(sqrt(3)*V_L*I_L));// in lag\n",
"// power factor\n",
"pf= cosd(phi);// lag\n",
"disp('The power factor is : '+string(pf)+' lag.');"
   ]
   }
,
{
		   "cell_type": "markdown",
		   "metadata": {},
		   "source": [
			"## Example 5.11: Line_current_power_factor_three_phase_current_and_volt_amperes.sce"
		   ]
		  },
  {
"cell_type": "code",
	   "execution_count": null,
	   "metadata": {
	    "collapsed": true
	   },
	   "outputs": [],
"source": [
"// Exa 5.11\n",
"clc;\n",
"clear;\n",
"close;\n",
"format('v',6)\n",
"// Given data\n",
"Z_Ph= 8+6*%i;// in ohm\n",
"V_L= 400;// in V\n",
"V_Ph= V_L/sqrt(3);// in V\n",
"I_Ph= V_Ph/Z_Ph;// in A\n",
"I_L= I_Ph;// in A\n",
"phi= atand(imag(I_L),real(I_L));// in °\n",
"disp(abs(I_L),'The line current in A is : ')\n",
"// power factor\n",
"pf= cosd(phi);// lagging\n",
"disp('Power factor is : '+string(pf)+' lagging')\n",
"P= sqrt(3)*V_L*abs(I_L)*cosd(phi);// in W\n",
"disp(P,'The three phase power in W is : ')\n",
"S= sqrt(3)*V_L*abs(I_L);// in VA.\n",
"disp(S,'The three phase volt-amperes in VA is : ')"
   ]
   }
,
{
		   "cell_type": "markdown",
		   "metadata": {},
		   "source": [
			"## Example 5.12: Power_and_power_factor_of_load.sce"
		   ]
		  },
  {
"cell_type": "code",
	   "execution_count": null,
	   "metadata": {
	    "collapsed": true
	   },
	   "outputs": [],
"source": [
"// Exa 5.12\n",
"clc;\n",
"clear;\n",
"close;\n",
"format('v',7)\n",
"// Given data\n",
"W1 = 20;// in kW\n",
"W2 = -5;// in kW\n",
"P = W1+W2;// in kW\n",
"disp(P,'The power in kW is : ')\n",
"phi = (atand( sqrt(3)*((W1-W2)/(W1+W2)) ));// in lag\n",
"// Power factor of the load\n",
"pf= cosd(phi)\n",
"disp(pf,'The power factor of the load is : ');"
   ]
   }
,
{
		   "cell_type": "markdown",
		   "metadata": {},
		   "source": [
			"## Example 5.13: Reading_of_two_wattmeters.sce"
		   ]
		  },
  {
"cell_type": "code",
	   "execution_count": null,
	   "metadata": {
	    "collapsed": true
	   },
	   "outputs": [],
"source": [
"// Exa 5.13\n",
"clc;\n",
"clear;\n",
"close;\n",
"format('v',6)\n",
"// Given data\n",
"V_L = 400;// in V\n",
"I_L = 10;// in A\n",
"W2= 1;// assumed\n",
"W1= 2*W2;\n",
"phi= atand(sqrt(3)*(W1-W2)/(W1+W2));\n",
"W1= V_L*I_L*cosd(30-phi);// in W\n",
"W2= V_L*I_L*cosd(30+phi);// in W\n",
"disp(W1,'The reading of first wattmeter in W is : ')\n",
"disp(W2,'The reading of second wattmeter in W is : ')\n",
"\n",
""
   ]
   }
,
{
		   "cell_type": "markdown",
		   "metadata": {},
		   "source": [
			"## Example 5.14: Phase_current_resistance_and_inductance_of_coil_and_power_drawn_by_coil.sce"
		   ]
		  },
  {
"cell_type": "code",
	   "execution_count": null,
	   "metadata": {
	    "collapsed": true
	   },
	   "outputs": [],
"source": [
"// Exa 5.14\n",
"clc;\n",
"clear;\n",
"close;\n",
"format('v',6)\n",
"// Given data\n",
"V_L = 400;// in V\n",
"f = 50;// in Hz\n",
"I_L = 17.32;// in A\n",
"phi = acosd(0.8);\n",
"I_Ph =I_L/sqrt(3);// in A\n",
"disp(I_Ph,'The phase current in A is');\n",
"V_Ph=V_L;// in V\n",
"Z_Ph = V_Ph/I_Ph;// in ohm\n",
"Z_Ph= Z_Ph*expm(phi*%i*%pi/180);// in ohm\n",
"R= real(Z_Ph);// in ohm\n",
"XL= imag(Z_Ph);// in ohm\n",
"L= XL/(2*%pi*f);// in H\n",
"L= L*10^3;// in mH\n",
"disp(R,'The resistance of the coil in Ω is : ')\n",
"disp(L,'The inductance of the coil in mH is : ')\n",
"// The power drawn by each coil\n",
"P_Ph= V_Ph*I_Ph*cosd(phi);// in W\n",
"disp(P_Ph,'The power drawn by each coil in W is : ')"
   ]
   }
,
{
		   "cell_type": "markdown",
		   "metadata": {},
		   "source": [
			"## Example 5.15: Reading_of_each_wattmeter.sce"
		   ]
		  },
  {
"cell_type": "code",
	   "execution_count": null,
	   "metadata": {
	    "collapsed": true
	   },
	   "outputs": [],
"source": [
"// Exa 5.15\n",
"clc;\n",
"clear;\n",
"close;\n",
"format('v',8)\n",
"// Given data\n",
"P = 30;// in kW\n",
"pf = 0.7;\n",
"// cosd(phi) = pf;\n",
"phi = acosd(pf);// in degree\n",
"// P = sqrt(3)*V_L*I_L*cosd(phi);\n",
"theta = 30;// in degree\n",
"V_LI_L = P/(sqrt(3)*cosd(phi));\n",
"W1 = V_LI_L*cosd(theta-phi);// in kW\n",
"disp(W1,'The reading of first wattmeter in kW is');\n",
"W2 = V_LI_L*cosd(theta+phi);// in kW\n",
"disp(W2,'The reading of second wattmeter in kW is');"
   ]
   }
,
{
		   "cell_type": "markdown",
		   "metadata": {},
		   "source": [
			"## Example 5.16: Values_and_nature_of_load_components_and_power_factor.sce"
		   ]
		  },
  {
"cell_type": "code",
	   "execution_count": null,
	   "metadata": {
	    "collapsed": true
	   },
	   "outputs": [],
"source": [
"// Exa 5.16\n",
"clc;\n",
"clear;\n",
"close;\n",
"format('v',7)\n",
"// Given data\n",
"P = 18;// in kW\n",
"P= P*10^3;// in W\n",
"I_L = 60;// in A\n",
"V_L = 440;// in V\n",
"f= 50;// in Hz\n",
"// P = sqrt(3)*V_L*I_L*cosd(phi);\n",
"phi= acosd(P/(sqrt(3)*V_L*I_L));// in °\n",
"I_L= I_L*expm(phi*%pi*%i/180);// in A\n",
"I_Ph= I_L;// in A\n",
"V_Ph= V_L/sqrt(3);// in V\n",
"Z_Ph= V_Ph/I_Ph;// in ohm\n",
"R= real(Z_Ph);// in ohm\n",
"XC=abs(imag(Z_Ph));// in ohm\n",
"C = 1/(2*%pi*f*XC);// in F\n",
"C=C*10^6;// in µF\n",
"// Power factor\n",
"pf= cosd(phi);// lead\n",
"disp('The power factor is : '+string(pf)+' leading')\n",
"disp(R,'The resistance in Ω is : ')\n",
"disp(C,'The capacitance in µF is : ');\n",
"disp('The load is capacitive in nature.')"
   ]
   }
,
{
		   "cell_type": "markdown",
		   "metadata": {},
		   "source": [
			"## Example 5.17: Line_current_impedance_of_each_phase_and_resistance_and_inductance_of_each_phase.sce"
		   ]
		  },
  {
"cell_type": "code",
	   "execution_count": null,
	   "metadata": {
	    "collapsed": true
	   },
	   "outputs": [],
"source": [
"// Exa 5.17\n",
"clc;\n",
"clear;\n",
"close;\n",
"format('v',7)\n",
"// Given data\n",
"V_L = 400;// in V\n",
"f = 50;// in Hz\n",
"W1 = 8000;// in W\n",
"W2 = 4000;// in W\n",
"W = W1+W2;// in W\n",
"phi =(atand( sqrt(3)*((W1-W2)/(W1+W2)) ));// in lag\n",
"P = W;// in W\n",
"//P = sqrt(3)*V_L*I_L*cosd(phi);\n",
"I_L = P/(sqrt(3)*V_L*cosd(phi));// in A\n",
"V_Ph = V_L/sqrt(3);// in V\n",
"I_Ph = I_L;// in A\n",
"Z_Ph = V_Ph/I_Ph;// in  ohm\n",
"Z_Ph= Z_Ph*expm(phi*%i*%pi/180);// ohm\n",
"R_Ph= real(Z_Ph);// in ohm\n",
"XL_Ph= imag(Z_Ph);// in ohm\n",
"L_Ph= XL_Ph/(2*%pi*f);// in H\n",
"// power factor\n",
"pf= cosd(phi);\n",
"disp(pf,'The power factor is : ')\n",
"disp(I_L,'The line current in A is');\n",
"disp(Z_Ph,'The impedance of each phase in Ω is : ')\n",
"disp(R_Ph,'The resistance of each phase in Ω is : ')\n",
"disp(L_Ph,'The inductance of each phase in H is : ')"
   ]
   }
,
{
		   "cell_type": "markdown",
		   "metadata": {},
		   "source": [
			"## Example 5.1: Line_current_power_factor_and_power_supplied.sce"
		   ]
		  },
  {
"cell_type": "code",
	   "execution_count": null,
	   "metadata": {
	    "collapsed": true
	   },
	   "outputs": [],
"source": [
"// Exa 5.1\n",
"clc;\n",
"clear;\n",
"close;\n",
"format('v',6)\n",
"// Given data\n",
"R = 20;// in ohm\n",
"X_L = 15;// in ohm\n",
"V_L = 400;// in V\n",
"f = 50;// in Hz\n",
"V_Ph = V_L/sqrt(3);// in V\n",
"Z_Ph = sqrt( (R^2) + (X_L^2) );// in ohm\n",
"I_Ph = V_Ph/Z_Ph;// in A\n",
"I_L = I_Ph;// in A\n",
"disp(I_L,'The line current in A is');\n",
"//pf = cos(phi) = R_Ph/Z_Ph;\n",
"R_Ph = R;// in ohm\n",
"phi= acosd(R_Ph/Z_Ph);\n",
"// Power factor\n",
"pf= cosd(phi);// in °\n",
"disp('The power factor is : '+string(pf)+'° lag.');\n",
"P = sqrt(3)*V_L*I_L*cosd(phi);// in W\n",
"disp(P,'The power supplied in W is');"
   ]
   }
,
{
		   "cell_type": "markdown",
		   "metadata": {},
		   "source": [
			"## Example 5.2: Line_ans_phase_voltage_and_current_and_power_factor.sce"
		   ]
		  },
  {
"cell_type": "code",
	   "execution_count": null,
	   "metadata": {
	    "collapsed": true
	   },
	   "outputs": [],
"source": [
"// Exa 5.2\n",
"clc;\n",
"clear;\n",
"close;\n",
"format('v',6)\n",
"// Given data\n",
"R_Ph = 16;// in ohm\n",
"X_L = 12;// in ohm\n",
"V_L = 400;// in V\n",
"disp(V_L,'The line voltage in V is');\n",
"f = 50;// in Hz\n",
"V_Ph = V_L/sqrt(3);// in V\n",
"disp(V_Ph,'The phase voltage in V is');\n",
"Z_Ph = R_Ph + %i*X_L;// in ohm\n",
"I_Ph= V_Ph/Z_Ph;// in A\n",
"I_L= I_Ph;// in A\n",
"phi= atand(imag(I_L),real(I_L));\n",
"cos_phi= R_Ph/abs(Z_Ph);\n",
"disp(abs(I_L),'The line current in A is : ')\n",
"disp(abs(I_Ph),'The line current in A is : ')\n",
"disp('Power factor is : '+string(cos_phi)+' lagging')\n",
"P= sqrt(3)*V_L*abs(I_L)*cos_phi;// in W\n",
"disp(P,'The power absorbed in W is : ')\n",
""
   ]
   }
,
{
		   "cell_type": "markdown",
		   "metadata": {},
		   "source": [
			"## Example 5.3: Resistance_and_inductance_of_coil.sce"
		   ]
		  },
  {
"cell_type": "code",
	   "execution_count": null,
	   "metadata": {
	    "collapsed": true
	   },
	   "outputs": [],
"source": [
"// Exa 5.3\n",
"clc;\n",
"clear;\n",
"close;\n",
"format('v',7)\n",
"// Given data\n",
"P = 1.5;// in kW\n",
"P = P * 10^3;// in W\n",
"pf = 0.2;// in lag\n",
"phi= acosd(pf);\n",
"V_L = 400;// in V\n",
"f = 50;// in Hz\n",
"V_Ph = V_L/sqrt(3);// in V\n",
"//P = sqrt(3)*V_L*I_L*cos(phi);\n",
"I_L = P/(sqrt(3)*V_L*cosd(phi));// in A\n",
"I_Ph = I_L;// in A\n",
"Z_Ph = V_Ph/I_Ph;// in ohm\n",
"R_Ph = Z_Ph*cosd(phi);// in ohm\n",
"disp(R_Ph,'The Resistance in Ω is');\n",
"X_Ph = sqrt( (Z_Ph^2) - (R_Ph^2) );// in  ohm\n",
"L_Ph = X_Ph/(2*%pi*f);// in H\n",
"disp(L_Ph,'The inductance in H is');\n",
""
   ]
   }
,
{
		   "cell_type": "markdown",
		   "metadata": {},
		   "source": [
			"## Example 5.4: Line_current_and_power_absorbed.sce"
		   ]
		  },
  {
"cell_type": "code",
	   "execution_count": null,
	   "metadata": {
	    "collapsed": true
	   },
	   "outputs": [],
"source": [
"// Exa 5.4\n",
"clc;\n",
"clear;\n",
"close;\n",
"format('v',6)\n",
"// Given data\n",
"R = 5;// in ohm\n",
"L =0.02;// in H\n",
"V_L = 440;// in V\n",
"f = 50;// in Hz\n",
"X_L = 2*%pi*f*L;// in  ohm\n",
"Z_Ph = sqrt( (R^2)+(X_L^2) );// in ohm\n",
"V_Ph = V_L;// in V\n",
"I_Ph = V_Ph/Z_Ph;// in A\n",
"I_L = sqrt(3)*I_Ph;// in A\n",
"disp(I_L,'The line current in A is');\n",
"phi = acosd(R/Z_Ph);// in lag\n",
"P = sqrt(3)*V_L*I_L*cosd(phi);// in W\n",
"P= P*10^-3;// in kW\n",
"disp(P,'The total power absorbed in kW is');\n",
"\n",
"// Note: To evaluate the value of P, the wrong value of I_L is putted , so the calculated value of P in the book is not correct"
   ]
   }
,
{
		   "cell_type": "markdown",
		   "metadata": {},
		   "source": [
			"## Example 5.5: Phase_current_and_resistance_and_inductance_of_coil_and_power_drawn_by_coil.sce"
		   ]
		  },
  {
"cell_type": "code",
	   "execution_count": null,
	   "metadata": {
	    "collapsed": true
	   },
	   "outputs": [],
"source": [
"// Exa 5.5\n",
"clc;\n",
"clear;\n",
"close;\n",
"format('v',6)\n",
"// Given data\n",
"V_L = 400;// in V\n",
"f = 50;// in Hz\n",
"I_L = 17.32;// in A\n",
"pf = 0.8;//in lag\n",
"I_Ph = I_L/sqrt(3);// in A\n",
"disp(I_Ph,'The phase current in A is');\n",
"V_Ph = V_L;// in V\n",
"Z_Ph = V_Ph/I_Ph;// in ohm\n",
"phi = acosd(pf)// in lag\n",
"R_Ph = Z_Ph*cosd(phi);// in ohm\n",
"disp(R_Ph,'The resistance of coil in Ω is');\n",
"X_Ph = sqrt( (Z_Ph^2) - (R_Ph^2) );// in ohm\n",
"// X_Ph = 2*%pi*f*L;\n",
"L = X_Ph/(2*%pi*f);// in H\n",
"L = L * 10^3;// in mH\n",
"disp(L,'The inductance of coil in mH is');\n",
"P = V_Ph*I_Ph*cosd(phi);// in W\n",
"disp(P,'The power drawn by each coil in W is');"
   ]
   }
,
{
		   "cell_type": "markdown",
		   "metadata": {},
		   "source": [
			"## Example 5.6: Power_factor_of_the_load.sce"
		   ]
		  },
  {
"cell_type": "code",
	   "execution_count": null,
	   "metadata": {
	    "collapsed": true
	   },
	   "outputs": [],
"source": [
"// Exa 5.6\n",
"clc;\n",
"clear;\n",
"close;\n",
"format('v',5)\n",
"// Given data\n",
"W1 = 1000;// in W\n",
"W2 = 550;// in W\n",
"phi = (atand( sqrt(3)*((W1-W2)/(W1+W2)) ));//in °\n",
"// power factor \n",
"pf= cosd(phi);// lag\n",
"disp('The power factor of the load is : '+string(cosd(phi))+' lag.');"
   ]
   }
,
{
		   "cell_type": "markdown",
		   "metadata": {},
		   "source": [
			"## Example 5.7: Power_factor_of_circuit.sce"
		   ]
		  },
  {
"cell_type": "code",
	   "execution_count": null,
	   "metadata": {
	    "collapsed": true
	   },
	   "outputs": [],
"source": [
"// Exa 5.7\n",
"clc;\n",
"clear;\n",
"close;\n",
"format('v',6)\n",
"// Given data\n",
"W1 = 2000;// in W\n",
"W2 = 500;// in W\n",
"phi = (atand( sqrt(3)*((W1-W2)/(W1+W2)) ));// in lag\n",
"// power factor \n",
"pf= cosd(phi);// lagging\n",
"disp('Part (i) : Power factor is : '+string(pf)+' lagging');\n",
"W2 = -W2;// in W\n",
"phi = (atand( sqrt(3)*((W1-W2)/(W1+W2)) ));// in lag\n",
"// power factor \n",
"pf= cosd(phi);// lagging\n",
"disp('Part (ii) : Power factor is : '+string(pf)+' lagging');"
   ]
   }
,
{
		   "cell_type": "markdown",
		   "metadata": {},
		   "source": [
			"## Example 5.8: Power_factor_of_motor_at_no_load.sce"
		   ]
		  },
  {
"cell_type": "code",
	   "execution_count": null,
	   "metadata": {
	    "collapsed": true
	   },
	   "outputs": [],
"source": [
"// Exa 5.8\n",
"clc;\n",
"clear;\n",
"close;\n",
"format('v',6)\n",
"// Given data\n",
"W1 = 375;// in W\n",
"W2 = -50;// in W\n",
"// tan(phi) = sqrt(3)*((W1-W2)/(W1+W2));\n",
"phi = atand(sqrt(3)*((W1-W2)/(W1+W2)));// in degree\n",
"// power factor \n",
"pf= cosd(phi);// lag\n",
"disp('The power factor is : '+string(pf)+' lag.');"
   ]
   }
,
{
		   "cell_type": "markdown",
		   "metadata": {},
		   "source": [
			"## Example 5.9: Input_power_factor_line_current_and_output.sce"
		   ]
		  },
  {
"cell_type": "code",
	   "execution_count": null,
	   "metadata": {
	    "collapsed": true
	   },
	   "outputs": [],
"source": [
"// Exa 5.9\n",
"clc;\n",
"clear;\n",
"close;\n",
"format('v',6)\n",
"// Given data\n",
"W1 = 300;// in kW\n",
"W2 = 100;// in kW\n",
"V_L= 2000;// in V\n",
"Eta= 90/100;\n",
"P = W1+W2;// in kW\n",
"disp(P,'The power input in kW is');\n",
"// tan(phi) = sqrt(3)*((W1-W2)/(W1+W2));\n",
"phi = atand(sqrt(3)*((W1-W2)/(W1+W2)));\n",
"pf = cosd(phi);// power factor\n",
"disp(pf,'The power factor is');\n",
"// P = sqrt(3)*V_L*I_L*cosd(phi);\n",
"I_L = (P*10^3)/(sqrt(3)*V_L*pf);// in A\n",
"disp(I_L,'The line current in A is');\n",
"output = P*Eta;// in kW\n",
"disp(output,'The power output in kW is');"
   ]
   }
],
"metadata": {
		  "kernelspec": {
		   "display_name": "Scilab",
		   "language": "scilab",
		   "name": "scilab"
		  },
		  "language_info": {
		   "file_extension": ".sce",
		   "help_links": [
			{
			 "text": "MetaKernel Magics",
			 "url": "https://github.com/calysto/metakernel/blob/master/metakernel/magics/README.md"
			}
		   ],
		   "mimetype": "text/x-octave",
		   "name": "scilab",
		   "version": "0.7.1"
		  }
		 },
		 "nbformat": 4,
		 "nbformat_minor": 0
}
