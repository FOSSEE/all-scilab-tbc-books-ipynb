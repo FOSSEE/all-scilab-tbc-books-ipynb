{
"cells": [
 {
		   "cell_type": "markdown",
	   "metadata": {},
	   "source": [
       "# Chapter 8: Magnetic Circuits"
	   ]
	},
{
		   "cell_type": "markdown",
		   "metadata": {},
		   "source": [
			"## Example 8.10: Coil_inductance.sce"
		   ]
		  },
  {
"cell_type": "code",
	   "execution_count": null,
	   "metadata": {
	    "collapsed": true
	   },
	   "outputs": [],
"source": [
"// Exa 8.10\n",
"clc;\n",
"clear;\n",
"close;\n",
"format('v',7)\n",
"// Given data\n",
"N = 1000;\n",
"a = 5;// in cm^2\n",
"a = a * 10^-4;// in m^2\n",
"l_g = 2;// in mm\n",
"l_g = l_g * 10^-3;// in m\n",
"B = 0.5;// in T\n",
"miu_r= %inf;\n",
"phi = B*a;// in Wb\n",
"miu_o = 4*%pi*10^-7;\n",
"S = l_g/(miu_o*a);// in AT/Wb\n",
"// Calculation of current with the help of flux\n",
"//phi = mmf/S = N*I/S;\n",
"I = (phi*S)/N;// in A\n",
"disp(I,'The current required in A is');\n",
"// Evaluation of coil inductance\n",
"L = (N^2)/S;// in H\n",
"disp(L,'The coil inductance in H is');"
   ]
   }
,
{
		   "cell_type": "markdown",
		   "metadata": {},
		   "source": [
			"## Example 8.11: Ampere_turns.sce"
		   ]
		  },
  {
"cell_type": "code",
	   "execution_count": null,
	   "metadata": {
	    "collapsed": true
	   },
	   "outputs": [],
"source": [
"// Exa 8.11\n",
"clc;\n",
"clear;\n",
"close;\n",
"format('v',8)\n",
"// Given data\n",
"l_g = 4;// in mm\n",
"l_g = l_g * 10^-3;// in m\n",
"Bg = 1.3;// in Wb/m^2\n",
"miu_o = 4*%pi*10^-7;\n",
"Hg = Bg/miu_o;\n",
"// Ampere turns for the gap\n",
"AT = Hg*l_g;// in AT\n",
"disp(AT,'The amphere turns in AT is');"
   ]
   }
,
{
		   "cell_type": "markdown",
		   "metadata": {},
		   "source": [
			"## Example 8.12: Required_MMF.sce"
		   ]
		  },
  {
"cell_type": "code",
	   "execution_count": null,
	   "metadata": {
	    "collapsed": true
	   },
	   "outputs": [],
"source": [
"// Exa 8.12\n",
"clc;\n",
"clear;\n",
"close;\n",
"format('v',6)\n",
"// Given data\n",
"phi = 0.015;// in Wb\n",
"l_g = 2.5;// in mm\n",
"l_g = l_g * 10^-3;// in m\n",
"a = 200;// in cm^2\n",
"a = a * 10^-4;// in m^2\n",
"miu_o = 4*%pi*10^-7;\n",
"// Calculation of reluctance of air gap\n",
"Sg = l_g/(miu_o*a);// in AT/Wb\n",
"mmf = phi*Sg;// in AT\n",
"disp(mmf,'The mmf required in AT is');"
   ]
   }
,
{
		   "cell_type": "markdown",
		   "metadata": {},
		   "source": [
			"## Example 8.13: Flux_density_of_air_gap.sce"
		   ]
		  },
  {
"cell_type": "code",
	   "execution_count": null,
	   "metadata": {
	    "collapsed": true
	   },
	   "outputs": [],
"source": [
"// Exa 8.13\n",
"clc;\n",
"clear;\n",
"close;\n",
"format('v',9)\n",
"// Given data\n",
"a = 12;// in cm^2\n",
"a = a * 10^-4;// in m^2\n",
"l_i = 50;// in cm\n",
"l_i = l_i * 10^-2;// in m\n",
"l_g = 0.4;// in cm\n",
"l_g = l_g * 10^-2;// in m\n",
"N = 2*400;\n",
"I = 1;// in A\n",
"miu_r = 1300;\n",
"miu_o = 4*%pi*10^-7;\n",
"Si = l_i/(miu_o*miu_r*a);// in AT/Wb\n",
"disp(Si,'The reluctance of magnetic circuit in AT/Wb is');\n",
"miu_r = 1;\n",
"Sg = l_g/(miu_o*miu_r*a);// in AT/Wb\n",
"disp(Sg,'The reluctance of air gap in AT/Wb is');\n",
"S_T = Si+Sg;// in AT/Wb\n",
"disp(S_T,'Total reluctance in AT/Wb is');\n",
"format('v',7)\n",
"mmf = N*I;// in AT\n",
"phi_T = mmf/S_T;// in Wb\n",
"phi_T= phi_T*10^3;// in mWb\n",
"disp(phi_T,'The total flux in mWb is');\n",
"phi_T= phi_T*10^-3;// in Wb\n",
"//phi_T =B*a;\n",
"B = (phi_T)/a;// in Wb/m^2\n",
"disp(B,'The flux density of air gap in Wb/m^2 is');"
   ]
   }
,
{
		   "cell_type": "markdown",
		   "metadata": {},
		   "source": [
			"## Example 8.14: Required_current.sce"
		   ]
		  },
  {
"cell_type": "code",
	   "execution_count": null,
	   "metadata": {
	    "collapsed": true
	   },
	   "outputs": [],
"source": [
"// Exa 8.14\n",
"clc;\n",
"clear;\n",
"close;\n",
"format('v',7)\n",
"// Given data\n",
"l = 30;// in cm\n",
"d = 2;// in cm\n",
"N = 500;\n",
"phi = 0.5;// in mWb\n",
"Airgap = 1;// in mm\n",
"miu_r = 4000;\n",
"miu_o = 4*%pi*10^-7;\n",
"Ac = (%pi/4)*(d^2);// in cm^2\n",
"Ac = Ac * 10^-4;// in m^2\n",
"l_i = (l*10^-2)-(Airgap*10^-3);// in m\n",
"l_g = 1;// in mm\n",
"l_g = l_g * 10^-3;// in m\n",
"Si = l_i/(miu_r*miu_o*Ac);// in AT/Wb\n",
"Sg = l_g/(miu_o*Ac);// in AT/Wb\n",
"S =Si+Sg;// in AT/Wb\n",
"//phi = mmf/S = N*I/S;\n",
"I = (phi*10^-3*S)/N;// in A\n",
"disp(I,'The current required in A is');"
   ]
   }
,
{
		   "cell_type": "markdown",
		   "metadata": {},
		   "source": [
			"## Example 8.15: Coil_inductance.sce"
		   ]
		  },
  {
"cell_type": "code",
	   "execution_count": null,
	   "metadata": {
	    "collapsed": true
	   },
	   "outputs": [],
"source": [
"// Exa 8.15\n",
"clc;\n",
"clear;\n",
"close;\n",
"format('v',7)\n",
"// Given data\n",
"l = 40;// in cm\n",
"l = l * 10^-2;// in m\n",
"a = 4;// in cm^2\n",
"a = a * 10^-4;// in m^2\n",
"miu_r = 1000;\n",
"miu_o = 4*%pi*10^-7;\n",
"l_g = 1;// in mm\n",
"l_g = l_g * 10^-3;// in m\n",
"N = 1000;\n",
"l_i = l-l_g;// in m\n",
"Si = l_i/(miu_r*miu_o*a);// in AT/Wb\n",
"Sg = l_g/(miu_o*a);// in AT/Wb\n",
"S = Si+Sg;// in AT/Wb\n",
"// The inductnace of the coil \n",
"L = (N^2)/S;// in H\n",
"disp(L,'The inductnace of the coil in H is');"
   ]
   }
,
{
		   "cell_type": "markdown",
		   "metadata": {},
		   "source": [
			"## Example 8.1: Required_current.sce"
		   ]
		  },
  {
"cell_type": "code",
	   "execution_count": null,
	   "metadata": {
	    "collapsed": true
	   },
	   "outputs": [],
"source": [
"// Exa 8.1\n",
"clc;\n",
"clear;\n",
"close;\n",
"format('v',6)\n",
"// Given data\n",
"a = 3;// in cm^2\n",
"a = a * 10^-4;// in m^2\n",
"d = 20;// in cm\n",
"N = 500;\n",
"phi = 0.5*10^-3;// in Wb\n",
"miu_r = 833.33;\n",
"miu_o = 4*%pi*10^-7;\n",
"l = %pi*d;// in cm  \n",
"l = l * 10^-2;// in m\n",
"S = l/(miu_o*miu_r*a);// in AT/Wb\n",
"//Calculation of the current with the help of flux\n",
"//Formula  phi = (m*m*f)/S = (N*I)/S;\n",
"I = (phi*S)/N;// in A\n",
"disp(I,'The current in A is');"
   ]
   }
,
{
		   "cell_type": "markdown",
		   "metadata": {},
		   "source": [
			"## Example 8.2: Coil_mmf_field_strength_total_flux_reluctance_and_permeance_of_the_ring.sce"
		   ]
		  },
  {
"cell_type": "code",
	   "execution_count": null,
	   "metadata": {
	    "collapsed": true
	   },
	   "outputs": [],
"source": [
"// Exa 8.2\n",
"clc;\n",
"clear;\n",
"close;\n",
"format('v',8)\n",
"// Given data\n",
"N = 300;\n",
"miu_r = 900;\n",
"l = 40;// in cm\n",
"a = 5;// in cm^2\n",
"R = 100;// in ohm\n",
"V = 250;// in V\n",
"miu_o = 4*%pi*10^-7;\n",
"I = V/R;// in A\n",
"mmf = N*I;// in AT\n",
"disp(mmf,'The coil mmf in AT is');\n",
"H = (N*I)/(l*10^-2);// in AT/m\n",
"disp(H,'The field strength in AT/m is');\n",
"B = miu_o*miu_r*H;// in Wb/m^2\n",
"phi = B*a*10^-4;// in Wb\n",
"disp(phi,'Total flux in Wb is');\n",
"S = mmf/phi;// in AT/Wb\n",
"disp(S,'The reluctance of the ring in AT/Wb is');\n",
"// Permeance is recipocal of reluctance\n",
"Permeance = 1/S;// in Wb/AT\n",
"disp(Permeance,'Permeance of the ring in Wb/AT is');"
   ]
   }
,
{
		   "cell_type": "markdown",
		   "metadata": {},
		   "source": [
			"## Example 8.3: Ampere_turns.sce"
		   ]
		  },
  {
"cell_type": "code",
	   "execution_count": null,
	   "metadata": {
	    "collapsed": true
	   },
	   "outputs": [],
"source": [
"// Exa 8.3\n",
"clc;\n",
"clear;\n",
"close;\n",
"format('v',6)\n",
"// Given data\n",
"Ig = 4;// in mm\n",
"Ig = Ig * 10^-3;// in m\n",
"B = 1.3;// in Wb/m^2\n",
"miu_r = 1;\n",
"miu_o = 4*%pi*10^-7;\n",
"H = B/(miu_o*miu_r);// in AT/m\n",
"Hg = H;// in AT/m\n",
"// Ampere turn required for air gap\n",
"AT = Hg*Ig;// AT for air gap in AT\n",
"disp(AT,'The amphere turns for the gap in AT is');"
   ]
   }
,
{
		   "cell_type": "markdown",
		   "metadata": {},
		   "source": [
			"## Example 8.4: Total_flux_in_the_ring.sce"
		   ]
		  },
  {
"cell_type": "code",
	   "execution_count": null,
	   "metadata": {
	    "collapsed": true
	   },
	   "outputs": [],
"source": [
"// Exa 8.4\n",
"clc;\n",
"clear;\n",
"close;\n",
"format('v',6)\n",
"// Given data\n",
"N = 500;\n",
"R = 4;// in ohm\n",
"d = 0.25;// in m\n",
"a = 700;// in mm^2\n",
"a = a*10^-6;// in m^2\n",
"V = 6;// in V\n",
"miu_r = 550;\n",
"miu_o = 4*%pi*10^-7;\n",
"// Evaluation of current by ohm's law\n",
"I = V/R;// in A\n",
"l = %pi*d;// in m\n",
"H = (N*I)/l;// in A/m\n",
"// Evaluation of flux density\n",
"B = miu_o*miu_r*H;// in T\n",
"// Evaluation of total flux\n",
"phi = B*a;// in Wb\n",
"phi= phi*10^3;// in mWb\n",
"disp(phi,'The total flux in the coil in m/Wb is');"
   ]
   }
,
{
		   "cell_type": "markdown",
		   "metadata": {},
		   "source": [
			"## Example 8.5: MMF_total_reluctance_flux_and_flux_density_of_the_ring.sce"
		   ]
		  },
  {
"cell_type": "code",
	   "execution_count": null,
	   "metadata": {
	    "collapsed": true
	   },
	   "outputs": [],
"source": [
"// Exa 8.5\n",
"clc;\n",
"clear;\n",
"close;\n",
"format('v',8)\n",
"// Given data\n",
"d_r = 8;// diameter of ring in cm\n",
"d_r = d_r*10^-2;// in m\n",
"d_i = 1;// diameter of iron in cm\n",
"d_i = d_i * 10^-2;// in m\n",
"Permeability = 900;\n",
"gap = 2;// in mm\n",
"gap = gap * 10^-3;// in m\n",
"N = 400;\n",
"I = 3.5;// in A\n",
"l_i = (%pi*d_r)-gap;// length of iron in m\n",
"a = (%pi/4)*(d_i^2);// in m^2\n",
"mmf = N*I;// in AT\n",
"disp(mmf,'The mmf in AT is');\n",
"miu_o = 4*%pi*10^-7;\n",
"miu_r = 900;\n",
"Si = l_i/(miu_o*miu_r*a);// in AT/Wb\n",
"miu_r = 1;\n",
"Sg = gap/(miu_o*miu_r*a);// in AT/Wb\n",
"S_T = Si+Sg;// in AT/Wb\n",
"disp(S_T,'The total reluctance in AT/Wb is');\n",
"phi = mmf/S_T;// in Wb\n",
"disp(phi,'The flux in Wb is');\n",
"// phi = B*a;\n",
"B = phi/a;// in Wb/m^2\n",
"disp(B,'The flux density of the ring in Wb/m^2');"
   ]
   }
,
{
		   "cell_type": "markdown",
		   "metadata": {},
		   "source": [
			"## Example 8.6: Reluctance_of_magnetic_circuit_and_inductance_of_coil.sce"
		   ]
		  },
  {
"cell_type": "code",
	   "execution_count": null,
	   "metadata": {
	    "collapsed": true
	   },
	   "outputs": [],
"source": [
"// Exa 8.6\n",
"clc;\n",
"clear;\n",
"close;\n",
"format('v',8)\n",
"// Given data\n",
"miu_r = 1400;\n",
"l = 70;// in cm\n",
"l = l * 10^-2;// in m\n",
"a = 5;// in cm^2\n",
"a = a * 10^-4;// in m^2\n",
"N = 1000;\n",
"miu_o = 4*%pi*10^-7;\n",
"S = l/(miu_o*miu_r*a);// in AT/Wb\n",
"disp(S,'The reluctance of the magnetic circuit in AT/Wb is');\n",
"format('v',7)\n",
"// Calculation of inductance of the coil\n",
"L = (N^2)/S;// in H\n",
"disp(L,'The inductance of the coil in H is');\n",
"\n",
"// Note: In the book the calculated value of L is correct but at last they print its value wrong"
   ]
   }
,
{
		   "cell_type": "markdown",
		   "metadata": {},
		   "source": [
			"## Example 8.7: Required_current.sce"
		   ]
		  },
  {
"cell_type": "code",
	   "execution_count": null,
	   "metadata": {
	    "collapsed": true
	   },
	   "outputs": [],
"source": [
"// Exa 8.7\n",
"clc;\n",
"clear;\n",
"close;\n",
"format('v',7)\n",
"// Given data\n",
"l1 = 25;// in cm\n",
"l1 = l1 * 10^-2;// in m\n",
"miu_o = 4*%pi*10^-7;\n",
"miu_r = 750;\n",
"a1 = 2.5*2.5*10^-4;// in m\n",
"S1 = l1/(miu_o*miu_r*a1);// in AT/Wb\n",
"l2 = 40;// in cm\n",
"l2 = l2 * 10^-2;// in m\n",
"S2 = l2/(miu_o*miu_r*a1);// in AT/Wb\n",
"phi2 = 2.5*10^-3;// in Wb\n",
"N = 500;\n",
"//mmf = phi1*S1 = phi2*S2;\n",
"phi1 = (phi2*S2)/S1;// in Wb\n",
"phi = phi1+phi2;// in Wb\n",
"// Sum of mmf required for AEFB\n",
"S_AEFB = S2;// in AT/Wb\n",
"mmfforAEFB = S_AEFB*phi;//mmf for AEFB in AT\n",
"totalmmf = mmfforAEFB+(phi1*S1);//total mmf in AT\n",
"// N*I = totalmmf;\n",
"// Calculation of current\n",
"I = totalmmf/N;// in A\n",
"disp(I,'The current in A is');"
   ]
   }
,
{
		   "cell_type": "markdown",
		   "metadata": {},
		   "source": [
			"## Example 8.8: Exciting_current_needed_in_a_coil.sce"
		   ]
		  },
  {
"cell_type": "code",
	   "execution_count": null,
	   "metadata": {
	    "collapsed": true
	   },
	   "outputs": [],
"source": [
"// Exa 8.8\n",
"clc;\n",
"clear;\n",
"close;\n",
"format('v',6)\n",
"// Given data\n",
"a = 16*10^-4;// in m^2\n",
"lg = 2*10^-3;// in m\n",
"N = 1000;\n",
"phi = 4*10^-3;// in Wb\n",
"miu_r = 2000;\n",
"miu_o = 4*%pi*10^-7;\n",
"l=25;// length of magnetic in cm\n",
"w= 20;// in cm (width)\n",
"t= 4;// in cm (thickness)\n",
"li= {[w-t]*t/2+[l-t]*t/2-0.2};// in cm\n",
"li= li*10^-2;// in m\n",
"S_T= 1/(miu_o*a)*(li/miu_r+lg)\n",
"// Calculation of current with the help of flux\n",
"//phi = mmf/S_T = N*I/S_T;\n",
"I = (phi*S_T)/N;// in A\n",
"disp(I,'The current in A is');"
   ]
   }
,
{
		   "cell_type": "markdown",
		   "metadata": {},
		   "source": [
			"## Example 8.9: Total_flux_in_the_ring.sce"
		   ]
		  },
  {
"cell_type": "code",
	   "execution_count": null,
	   "metadata": {
	    "collapsed": true
	   },
	   "outputs": [],
"source": [
"// Exa 8.9\n",
"clc;\n",
"clear;\n",
"close;\n",
"format('v',7)\n",
"// Given data\n",
"N = 500;\n",
"R = 4;// in ohm\n",
"d_mean = 0.25;// in m\n",
"a = 700;// in mm^2\n",
"a = a * 10^-6;// in m\n",
"V = 6;// in V\n",
"miu_r = 550;\n",
"miu_o = 4*%pi*10^-7;\n",
"l_i = %pi*d_mean;// in m\n",
"S = l_i/(miu_o*miu_r*a);// in AT/Wb\n",
"I = V/R;// in A\n",
"// Calculation of mmf\n",
"mmf = N*I;// in AT\n",
"// total flux\n",
"phi = mmf/S;// in Wb \n",
"phi = phi * 10^6;// in µWb\n",
"disp(phi,'The total flux in the ring in µWb is');\n",
"\n",
"// Note: In the book the value of flux calculated correct in µWb but at last they print only in Wb, so the answer in the book is wrong."
   ]
   }
],
"metadata": {
		  "kernelspec": {
		   "display_name": "Scilab",
		   "language": "scilab",
		   "name": "scilab"
		  },
		  "language_info": {
		   "file_extension": ".sce",
		   "help_links": [
			{
			 "text": "MetaKernel Magics",
			 "url": "https://github.com/calysto/metakernel/blob/master/metakernel/magics/README.md"
			}
		   ],
		   "mimetype": "text/x-octave",
		   "name": "scilab",
		   "version": "0.7.1"
		  }
		 },
		 "nbformat": 4,
		 "nbformat_minor": 0
}
