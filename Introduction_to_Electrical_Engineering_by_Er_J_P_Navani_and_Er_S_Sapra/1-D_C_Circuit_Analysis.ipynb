{
"cells": [
 {
		   "cell_type": "markdown",
	   "metadata": {},
	   "source": [
       "# Chapter 1: D C Circuit Analysis"
	   ]
	},
{
		   "cell_type": "markdown",
		   "metadata": {},
		   "source": [
			"## Example 1.10: Value_of_R3_and_R4.sce"
		   ]
		  },
  {
"cell_type": "code",
	   "execution_count": null,
	   "metadata": {
	    "collapsed": true
	   },
	   "outputs": [],
"source": [
"// Exa 1.10\n",
"clc;\n",
"clear;\n",
"close;\n",
"format('v',7)\n",
"// Given data\n",
"R1= 5;// in ohm\n",
"R2= 5;// in ohm\n",
"R3= 10;// in ohm\n",
"R4= 10;// in ohm\n",
"R5= 5;// in ohm\n",
"V1= 50;// in V\n",
"V2= 20;// in V\n",
"//Applying KCL at node A:  VA*(R1*R3+R3*R2+R2*R1)+VB*-R1*R3 = V1*R2*R3                 (i)\n",
"//Applying KCL at node B:  VA*R4*R5+VB*-(R2*R4+R4*R5+R5*R2) = -V2*R2*R4              (ii)\n",
"A=[(R1*R3+R2*R3+R2*R1) R4*R5; -R1*R3 -(R2*R4+R4*R5+R5*R2)]\n",
"B= [V1*R2*R3 -V2*R2*R4];\n",
"V= B*A^-1;// Solving eq(i) and (ii) by Matrix method\n",
"VA= V(1);// in V\n",
"VB= V(2);// in V\n",
"I_through_R3= VA/R3;// in A\n",
"I_through_R4= VB/R4;// in A\n",
"disp(I_through_R3,'The current in R3 in A is : ')\n",
"disp(I_through_R4,'The current in R4 in A is : ')\n",
""
   ]
   }
,
{
		   "cell_type": "markdown",
		   "metadata": {},
		   "source": [
			"## Example 1.11: Current_through_each_resistor.sce"
		   ]
		  },
  {
"cell_type": "code",
	   "execution_count": null,
	   "metadata": {
	    "collapsed": true
	   },
	   "outputs": [],
"source": [
"// Exa 1.11\n",
"clc;\n",
"clear;\n",
"close;\n",
"format('v',7)\n",
"// Given data\n",
"R1= 1;// in ohm\n",
"R2= 1;// in ohm\n",
"R3= 0.5;// in ohm\n",
"R4= 2;// in ohm\n",
"R5= 1;// in ohm\n",
"V1= 15;// in V\n",
"V2= 20;// in V\n",
"//Applying KCL at node A:  VA*(R1*R2+R2*R3+R3*R1)+VB*-R1*R2 = V1*R2*R3                 (i)\n",
"//Applying KCL at node B:  VA*R4*R5+VB*-(R3*R4+R4*R5+R5*R3) = V2*R3*R4                (ii)\n",
"A=[(R1*R2+R2*R3+R3*R1) R4*R5; -R1*R2 -(R3*R4+R4*R5+R5*R3)]\n",
"B= [V1*R2*R3 -V2*R3*R4];\n",
"V= B*A^-1;// Solving eq(i) and (ii) by Matrix method\n",
"VA= V(1);// in V\n",
"VB= V(2);// in V\n",
"I1= (VA-V1)/R1;// in A\n",
"I2= VA/R2;// in A\n",
"I3= (VA-VB)/R3;// in A\n",
"I4= VB/R4;// in A\n",
"I5= (VB-V2)/R5;// in A\n",
"disp(I1,'The value of I1 in A is : ')\n",
"disp(I2,'The value of I2 in A is : ')\n",
"disp(I3,'The value of I3 in A is : ')\n",
"disp(I4,'The value of I4 in A is : ')\n",
"disp(I5,'The value of I5 in A is : ')"
   ]
   }
,
{
		   "cell_type": "markdown",
		   "metadata": {},
		   "source": [
			"## Example 1.12: Current_in_each_branch.sce"
		   ]
		  },
  {
"cell_type": "code",
	   "execution_count": null,
	   "metadata": {
	    "collapsed": true
	   },
	   "outputs": [],
"source": [
"// Exa 1.12\n",
"clc;\n",
"clear;\n",
"close;\n",
"format('v',7)\n",
"// Given data\n",
"V1 = 12;// in V\n",
"V2 = 10;// in V\n",
"VB = 0;// in V\n",
"R1 = 2;// in ohm\n",
"R2 = 1;// in ohm\n",
"R3 = 10;// in ohm\n",
"// Using KCL at node A :\n",
"VA= (V1*R2*R3+V2*R3*R1)/(R1*R2+R2*R3+R3*R1);// in V\n",
"I1 = (V1-VA)/R1;// in A\n",
"I2 = (V2-VA)/R2;// in A\n",
"I3 = (VA-VB)/R3;// in A\n",
"disp(I1,'The value of I1 in A is : ')\n",
"disp(I2,'The value of I2 in A is : ')\n",
"disp(I3,'The value of I3 in A is : ')"
   ]
   }
,
{
		   "cell_type": "markdown",
		   "metadata": {},
		   "source": [
			"## Example 1.13: Voltage_at_node_1_and_2.sce"
		   ]
		  },
  {
"cell_type": "code",
	   "execution_count": null,
	   "metadata": {
	    "collapsed": true
	   },
	   "outputs": [],
"source": [
"// Exa 1.13\n",
"clc;\n",
"clear;\n",
"close;\n",
"format('v',7)\n",
"// Given data\n",
"R1= 1;// in ohm\n",
"R2= 2;// in ohm\n",
"R3= 2;// in ohm\n",
"R4= 1;// in ohm\n",
"I1= 1;// in A\n",
"I5= 2;// in A\n",
"// Using KCL at node 1: V1*(R2+R3)-V2*R2= I1*R2*R3        (i)\n",
"// Using KCL at node 2: V1*R4-V2*(R3+R4)= -I5*(R3*R4)   (ii)\n",
"A= [(R2+R3) R4; -R2 -(R3+R4)];\n",
"B= [I1*R2*R3 -I5*R3*R4];\n",
"V= B*A^-1;// Solving eq(i) and (ii) by Matrix method\n",
"V1= V(1);// in V\n",
"V2= V(2);// in V\n",
"disp(V1,'The voltage at node 1 in volts is : ')\n",
"disp(V2,'The voltage at node 2 in volts is : ')\n",
""
   ]
   }
,
{
		   "cell_type": "markdown",
		   "metadata": {},
		   "source": [
			"## Example 1.14: Current_I1_and_I2.sce"
		   ]
		  },
  {
"cell_type": "code",
	   "execution_count": null,
	   "metadata": {
	    "collapsed": true
	   },
	   "outputs": [],
"source": [
"// Exa 1.14\n",
"clc;\n",
"clear;\n",
"close;\n",
"format('v',6)\n",
"// Given data\n",
"R1= 2;// in ohm\n",
"R2= 6;// in ohm\n",
"R3= 3;// in ohm\n",
"V1= 10;// in V\n",
"V2= 6;// in V\n",
"V3= 2;// in V\n",
"//Applying KVL in ABEFA  :  I1*(R1+R2) - R2*I2=V1-V2                  (i)\n",
"//Applying KVL in BCDEB  :  -I1*R2+I2*(R2+R3)=V2-V3                   (ii)\n",
"A= [(R1+R2) -R2; -R2 (R2+R3)];\n",
"B= [(V1-V2) (V2-V3)];\n",
"I= B*A^-1;// Solving eq(i),  and (ii) by Matrix method\n",
"I1= I(1);// in A\n",
"I2= I(2);// in A\n",
"disp(I1,'The value of I1 in A is : ')\n",
"disp(I2,'The value of I2 in A is : ')\n",
""
   ]
   }
,
{
		   "cell_type": "markdown",
		   "metadata": {},
		   "source": [
			"## Example 1.15: Current_I1_and_I2.sce"
		   ]
		  },
  {
"cell_type": "code",
	   "execution_count": null,
	   "metadata": {
	    "collapsed": true
	   },
	   "outputs": [],
"source": [
"// Exa 1.15\n",
"clc;\n",
"clear;\n",
"close;\n",
"format('v',6)\n",
"// Given data\n",
"R1= 2;// in ohm\n",
"R2= 6;// in ohm\n",
"R3= 4;// in ohm\n",
"R4= 3;// in ohm\n",
"R5= 5;// in ohm\n",
"V1= 10;// in V\n",
"V2= 6;// in V\n",
"V3= 2;// in V\n",
"//Applying KVL in ABEFA :  I1*(R1+R2+R3) - R2*I2 = V1-V2  (i)\n",
"//Applying KVL in BCDEB :  I1*-R2+I2*(R2+R4+R5) =V2-V3  (ii)\n",
"A= [(R1+R2+R3) -R2; -R2 (R2+R4+R5)];\n",
"B= [(V1-V2) (V2-V3)];\n",
"I= B*A^-1;// Solving eq(i) and (ii) by Matrix method\n",
"I1= I(1);// in A\n",
"I2= I(2);// in A\n",
"disp(I1,'The value of I1 in A is : ')\n",
"disp(I2,'The value of I2 in A is : ')"
   ]
   }
,
{
		   "cell_type": "markdown",
		   "metadata": {},
		   "source": [
			"## Example 1.16: Current_in_resistor_R1.sce"
		   ]
		  },
  {
"cell_type": "code",
	   "execution_count": null,
	   "metadata": {
	    "collapsed": true
	   },
	   "outputs": [],
"source": [
"// Exa 1.16\n",
"clc;\n",
"clear;\n",
"close;\n",
"format('v',7)\n",
"// Given data\n",
"R1= 10;// in ohm\n",
"R2= 5;// in ohm\n",
"R3= 5;// in ohm\n",
"R4= 5;// in ohm\n",
"V2= 10;// in V\n",
"I= 1;// in A\n",
"V1= R4*I;// in V\n",
"//Applying KVL in ABEFA :  I1*(R1+R2+R3) + R1*I2 = V1  (i)\n",
"//Applying KVL in BCDEB :  I1*R1+I2*(R1+R4) =V2            (ii)\n",
"A= [(R1+R2+R3) R1; R1 (R1+R4)];\n",
"B= [V1 V2];\n",
"I= B*A^-1;// Solving eq(i) and (ii) by Matrix method\n",
"I1= I(1);// in A\n",
"I2= I(2);// in A\n",
"I10_ohm= I1+I2;// in A\n",
"disp(I10_ohm,'The current through 10 ohm resistor in A is : ')"
   ]
   }
,
{
		   "cell_type": "markdown",
		   "metadata": {},
		   "source": [
			"## Example 1.17: Current_in_10_ohm_resistor.sce"
		   ]
		  },
  {
"cell_type": "code",
	   "execution_count": null,
	   "metadata": {
	    "collapsed": true
	   },
	   "outputs": [],
"source": [
"// Exa 1.17\n",
"clc;\n",
"clear;\n",
"close;\n",
"format('v',7)\n",
"// Given data\n",
"R1= 4;// in ohm\n",
"R2= 5;// in ohm\n",
"R3= 10;// in ohm\n",
"R4= 6;// in ohm\n",
"R5= 4;// in ohm\n",
"V1= 15;// in V\n",
"V2= 30;// in V\n",
"//Applying KCL at node A:  VA*(R1*R2+R2*R3+R3*R1)+VB*-R1*R2 = V1*R1*R3                 (i)\n",
"//Applying KCL at node B:  VA*R4*R5+VB*-(R3*R4+R4*R5+R5*R3) = -V2*R3*R4                (ii)\n",
"A=[(R1*R2+R2*R3+R3*R1) R4*R5; -R1*R2 -(R3*R4+R4*R5+R5*R3)]\n",
"B= [V1*R1*R3 -V2*R3*R4];\n",
"V= B*A^-1;// Solving eq(i) and (iii) by Matrix method\n",
"VA= V(1);// in V\n",
"VB= V(2);// in V\n",
"I10_ohm= abs((VA-VB)/R3);// in A\n",
"disp(I10_ohm,'The current through 10 ohm resistor from right to left in A is : ')"
   ]
   }
,
{
		   "cell_type": "markdown",
		   "metadata": {},
		   "source": [
			"## Example 1.19: Current_in_each_branch.sce"
		   ]
		  },
  {
"cell_type": "code",
	   "execution_count": null,
	   "metadata": {
	    "collapsed": true
	   },
	   "outputs": [],
"source": [
"// Exa 1.19\n",
"clc;\n",
"clear;\n",
"close;\n",
"format('v',7)\n",
"// Given data\n",
"R1= 10;// in ohm\n",
"R2= 10;// in ohm\n",
"R3= 20;// in ohm\n",
"R4= 20;// in ohm\n",
"R5= 20;// in ohm\n",
"V= 10;// in V\n",
"I1= 1;// in A\n",
"I7=0.5;// in A\n",
"//Applying KCL at node A:  VA*(R1+R2)+VB*-R1 = I1*R1*R2                                                                 (i)\n",
"//Applying KCL at node B:  VA*R3*R4+VB*-(R2*R3+R3*R4+R4*R2)+VC*R2*R3 = V*R2*R4      (ii)\n",
"//Applying KCL at node C: -VB*R5+VC*(R4+R5)=I7*R4*R5                                                                   (iii)\n",
"A=[(R1+R2) R3*R4 0; -R1 -(R2*R3+R3*R4+R4*R2) -R5;0 R2*R3 (R4+R5)]\n",
"B= [I1*R1*R2 V*R2*R4 I7*R4*R5];\n",
"Value= B*A^-1;// Solving eq(i), (ii) and (iii) by Matrix method\n",
"VA= Value(1);// in V\n",
"VB= Value(2);// in V\n",
"VC= Value(3)\n",
"I2= VA/R1;// in A\n",
"I3= (VA-VB)/R2;// in A\n",
"I4= (VB+V)/R3;// in A\n",
"I5= (VC-VB)/R4;// in A\n",
"I6= VC/R5;// in A\n",
"disp(I1,'The value of I1 in A is : ');\n",
"disp(I2,'The value of I2 in A is : ');\n",
"disp(I3,'The value of I3 in A is : ');\n",
"disp(I4,'The value of I4 in A is : ');\n",
"disp(I5,'The value of I5 in A is : ');\n",
"disp(I6,'The value of I6 in A is : ');\n",
"disp(I7,'The value of I7 in A is : ');"
   ]
   }
,
{
		   "cell_type": "markdown",
		   "metadata": {},
		   "source": [
			"## Example 1.1: Current_in_each_element.sce"
		   ]
		  },
  {
"cell_type": "code",
	   "execution_count": null,
	   "metadata": {
	    "collapsed": true
	   },
	   "outputs": [],
"source": [
"// Exa 1.1\n",
"clc;\n",
"clear;\n",
"close;\n",
"format('v',5)\n",
"// Given data\n",
"R1=4;// in ohm\n",
"R2= 6;// in ohm\n",
"R3= 2;// in ohm\n",
"V1= 24;// in V\n",
"V2= 12;// in V\n",
"// Applying KVL in Mesh ABEFA, V1 = (R1+R3)*I1 - R3*I2    (i)\n",
"// Applying KVL in Mesh BCDEB, V2 = R3*I1 - (R2+R3)*I2   (ii)\n",
"A= [(R1+R3) R3;-R3 -(R2+R3)];// assumed\n",
"B= [V1 V2];// assumed\n",
"I= B*A^-1;// Solving equations by matrix multiplication\n",
"I1= I(1);// in A\n",
"I2= I(2);// in A\n",
"disp(I1,'The current through 4 ohm resistor in A is');\n",
"// current through 2 ohm resistor \n",
"I= I1-I2;// in A\n",
"disp(I,'The current through 2 ohm resistor in A is');\n",
"disp(I2,'The current through 6 ohm resistor in A is');\n",
"disp('That is '+string(abs(I2))+' A current flows in 6 ohm resistor from C to B')\n",
""
   ]
   }
,
{
		   "cell_type": "markdown",
		   "metadata": {},
		   "source": [
			"## Example 1.20: Current_in_8_ohm_resistor.sce"
		   ]
		  },
  {
"cell_type": "code",
	   "execution_count": null,
	   "metadata": {
	    "collapsed": true
	   },
	   "outputs": [],
"source": [
"// Exa 1.20\n",
"clc;\n",
"clear;\n",
"close;\n",
"format('v',7)\n",
"// Given data\n",
"R1 = 3;// in ohm\n",
"R2 = 8;// in ohm\n",
"R3 = 4;// in ohm\n",
"R4 = 12;// in ohm\n",
"R5 = 14;// in ohm\n",
"V1 = 10;// in V\n",
"V2 = 3;// in V\n",
"V3 = 6;// in V\n",
"//Applying KCL at node A:  VA*(R1*R2+R2*R3+R3*R1)+VB*-R1*R2 = V1*R2*R3+V2*R1*R2                 (i)\n",
"//Applying KCL at node B:  VA*R4*R5+VB*-(R3*R4+R4*R5+R5*R3) = V2*R4*R5-V3*R3*R4                (ii)\n",
"A=[(R1*R2+R2*R3+R3*R1) R4*R5; -R1*R2 -(R3*R4+R4*R5+R5*R3)]\n",
"B= [(V1*R2*R3+V2*R1*R2) (V2*R4*R5-V3*R3*R4)];\n",
"V= B*A^-1;// Solving eq(i) and (ii) by Matrix method\n",
"VA= V(1);// in V\n",
"VB= V(2);// in V\n",
"I8_ohm= VA/R2;//The current through 8 ohm resistance  in A\n",
"disp(I8_ohm,'The current through 8 ohm resistance in A is : ')"
   ]
   }
,
{
		   "cell_type": "markdown",
		   "metadata": {},
		   "source": [
			"## Example 1.21: Current_drawn_from_the_source.sce"
		   ]
		  },
  {
"cell_type": "code",
	   "execution_count": null,
	   "metadata": {
	    "collapsed": true
	   },
	   "outputs": [],
"source": [
"// Exa 1.21\n",
"clc;\n",
"clear;\n",
"close;\n",
"format('v',6)\n",
"// Given data\n",
"V= 100;// in V\n",
"R12 = 3;// in ohm\n",
"R31 = 2;// in ohm\n",
"R23 = 4;// in ohm\n",
"R4= 6;// in ohm\n",
"R5=2;// in ohm\n",
"R6= 5;// in ohm\n",
"R1 = (R12*R31)/(R12+R23+R31);// in ohm\n",
"R2 = (R31*R23)/(R12+R23+R31);// in ohm\n",
"R3 = (R23*R12)/(R12+R23+R31);// in ohm\n",
"R_S= R6+R1;// in ohm\n",
"R_P1= R2+R4;// in ohm\n",
"R_P2= R3+R5;// in ohm\n",
"R_P= R_P1*R_P2/(R_P1+R_P2);// in ohm\n",
"R= R_P+R_S;// in ohm\n",
"I= V/R;// in A\n",
"disp(I,'The current drawn from the source in A is : ')"
   ]
   }
,
{
		   "cell_type": "markdown",
		   "metadata": {},
		   "source": [
			"## Example 1.22: Current_in_all_branch.sce"
		   ]
		  },
  {
"cell_type": "code",
	   "execution_count": null,
	   "metadata": {
	    "collapsed": true
	   },
	   "outputs": [],
"source": [
"// Exa 1.22\n",
"clc;\n",
"clear;\n",
"close;\n",
"format('v',6)\n",
"// Given data\n",
"R1= 10;// in ohm\n",
"R2= 5;// in ohm\n",
"R3= 20;// in ohm\n",
"V= 100;// in V\n",
"I2= 10;// in A\n",
"// Applying KVL in ABEFA : -R1*I1-R2*(I1+I2)+V= 0\n",
"I1= (V-R2*I2)/(R1+R2);// in A\n",
"I10_ohm= I1;//current through 10 ohm resistance in A\n",
"I5_ohm= I1+I2;//current through 5 ohm resistance in A\n",
"I20_ohm= I2;//current through 20 ohm resistance in A\n",
"disp('Part (i) : Using by KVL')\n",
"disp(I10_ohm,'The current through 10 ohm resistance in A is : ')\n",
"disp(I5_ohm,'The current through 5 ohm resistance in A is : ')\n",
"disp(I20_ohm,'The current through 20 ohm resistance in A is : ')\n",
"// Applying KCL at node A :\n",
"VA= (V*R2+I2*R1*R2)/(R1+R2);// in V\n",
"I10_ohm= (VA-V)/R1;// in A\n",
"I5_ohm= VA/R2;// in A\n",
"I20_ohm= I2;// in A\n",
"disp('Part (ii) : Using by KVL')\n",
"disp(I10_ohm,'The current through 10 ohm resistance in A is : ')\n",
"disp(I5_ohm,'The current through 5 ohm resistance in A is : ')\n",
"disp(I20_ohm,'The current through 20 ohm resistance in A is : ')\n",
"\n",
""
   ]
   }
,
{
		   "cell_type": "markdown",
		   "metadata": {},
		   "source": [
			"## Example 1.23: Current_and_voltage_across_2_ohm_resistor.sce"
		   ]
		  },
  {
"cell_type": "code",
	   "execution_count": null,
	   "metadata": {
	    "collapsed": true
	   },
	   "outputs": [],
"source": [
"// Exa 1.23\n",
"clc;\n",
"clear;\n",
"close;\n",
"format('v',7)\n",
"// Given data\n",
"R1= 5;// in ohm\n",
"R2= 10;// in ohm\n",
"R3= 3;// in ohm\n",
"R4= 2;// in ohm\n",
"V1= 10;// in V\n",
"V2= 20;// in V\n",
"I= 5;// in A\n",
"//Applying KCL at node A:  VA*(R1+R2)+VB*-R1 =I*R1*R2+V1*R1                                                 (i)\n",
"//Applying KCL at node B:  VA*R3*R4+VB*-(R2*R3+R4*R3+R4*R2) =V1*R3*R4+V2*R2*R3 (ii)\n",
"A=[(R1+R2) R3*R4; -R1 -(R3*R2+R4*R3+R4*R2)]\n",
"B= [(I*R1*R2+V1*R1) (V1*R3*R4+V2*R2*R3)];\n",
"V= B*A^-1;// Solving eq(i) and (ii) by Matrix method\n",
"VA= V(1);// in V\n",
"VB= V(2);// in V\n",
"I4= (VB+V2)/R4;// in A\n",
"V4= R4*I4;// in V\n",
"disp(I4,'The current through 2 ohm resistor in A is : ')\n",
"disp(V4,'The voltage across 2 ohm resistor in V is : ')"
   ]
   }
,
{
		   "cell_type": "markdown",
		   "metadata": {},
		   "source": [
			"## Example 1.24: Voltage_across_6_ohm_resistor.sce"
		   ]
		  },
  {
"cell_type": "code",
	   "execution_count": null,
	   "metadata": {
	    "collapsed": true
	   },
	   "outputs": [],
"source": [
"// Exa 1.24\n",
"clc;\n",
"clear;\n",
"close;\n",
"format('v',7)\n",
"// Given data\n",
"R1= 6;// in ohm\n",
"R2= 12;// in ohm\n",
"R3= 2;// in ohm\n",
"R4= 6;// in ohm\n",
"V2= 12;// in V\n",
"V3= 30;// in V\n",
"//Applying KVL in ABEFA  :  I1*(R1+R2) - R2*I2=V3-V2                  (i)\n",
"//Applying KVL in BCDEB  :  -I1*R2+I2*(R1+R2+R3)=V2                   (ii)\n",
"A= [(R1+R2) -R2; -R2 (R1+R2+R3)];\n",
"B= [(V3-V2) (V2)];\n",
"I= B*A^-1;// Solving eq(i),  and (ii) by Matrix method\n",
"I1= I(1);// in A\n",
"I2= I(2);// in A\n",
"V1= I2*R1;//voltage across 6 ohm resistor  in V\n",
"disp(V1,'The voltage across 6 ohm resistor in V is : ')"
   ]
   }
,
{
		   "cell_type": "markdown",
		   "metadata": {},
		   "source": [
			"## Example 1.25: Resistance_between_point_B_and_C.sce"
		   ]
		  },
  {
"cell_type": "code",
	   "execution_count": null,
	   "metadata": {
	    "collapsed": true
	   },
	   "outputs": [],
"source": [
"// Exa 1.25\n",
"clc;\n",
"clear;\n",
"close;\n",
"format('v',5)\n",
"// Given data\n",
"R1 = 6;// in ohm\n",
"R2 = 2;// in ohm\n",
"R3 = 2;// in ohm\n",
"R4 = 4;// in ohm\n",
"R5 = 4;// in ohm\n",
"R6 = 6;// in ohm\n",
"R12= R1*R2/(R1+R2);// in ohm\n",
"R34= R3*R4/(R3+R4);// in ohm\n",
"R56= R5*R6/(R5+R6);// in ohm\n",
"// Resistance between the point B and C\n",
"R_BC= (R12+R34)*R56/((R12+R34)+R56);// in ohm\n",
"disp(R_BC,'The resistance between the point B and C in ohm is : ')"
   ]
   }
,
{
		   "cell_type": "markdown",
		   "metadata": {},
		   "source": [
			"## Example 1.26: Voltage_across_R1_and_R2.sce"
		   ]
		  },
  {
"cell_type": "code",
	   "execution_count": null,
	   "metadata": {
	    "collapsed": true
	   },
	   "outputs": [],
"source": [
"// Exa 1.26\n",
"clc;\n",
"clear;\n",
"close;\n",
"format('v',7)\n",
"// Given data\n",
"R1 = 10;// in ohm\n",
"R2 = 10;// in ohm\n",
"R4 = 80;// in ohm\n",
"V1= 100;// in V\n",
"I2= 0.5;// in A\n",
"V2= I2*R4;// in V\n",
"// Applying KVL : -R1*I1-V2+V1-R1*I2=0\n",
"I1= (V1-V2)/(R1+R2);// in A\n",
"V_R1= I1*R1;//voltage across R1 resistor  in V\n",
"V_R2= I1*R2;//voltage across R2 resistor  in V\n",
"disp(V_R1,'The voltage across R1 resistor in V is : ')\n",
"disp(V_R2,'The voltage across R2 resistor in V is : ')"
   ]
   }
,
{
		   "cell_type": "markdown",
		   "metadata": {},
		   "source": [
			"## Example 1.27: Current_I1_and_I2.sce"
		   ]
		  },
  {
"cell_type": "code",
	   "execution_count": null,
	   "metadata": {
	    "collapsed": true
	   },
	   "outputs": [],
"source": [
"// Exa 1.27\n",
"clc;\n",
"clear;\n",
"close;\n",
"format('v',5)\n",
"// Given data\n",
"R1 = 8;// in ohm\n",
"R2 = 4;// in ohm\n",
"R3 = 4;// in ohm\n",
"R4 = 4;// in ohm\n",
"R5 = 8;// in ohm\n",
"R6 = 8;// in ohm\n",
"I=10;// in A\n",
"V= 20;// in V\n",
"// Applying KVL in ABEFA : I1*(R1+R2+R3)+I2*(R3)= I*R2-V    (i)\n",
"// Applying KVL in BCDEB : I1*R3-I2*(R3+R4+R5)= R4*I+V      (ii)\n",
"A= [(R1+R2+R3) R3; R3 -(R3+R4+R5)];\n",
"B= [I*R2-V R4*I+V];\n",
"I= B*A^-1;//// Solving equations by matrix multiplication\n",
"I1= I(1);// in A\n",
"I2= I(2);// in A\n",
"disp(I1,'The value of I1 in A is : ');\n",
"disp(I2,'The value of I2 in A is : ');"
   ]
   }
,
{
		   "cell_type": "markdown",
		   "metadata": {},
		   "source": [
			"## Example 1.2: Current_in_each_branch.sce"
		   ]
		  },
  {
"cell_type": "code",
	   "execution_count": null,
	   "metadata": {
	    "collapsed": true
	   },
	   "outputs": [],
"source": [
"// Exa 1.2\n",
"clc;\n",
"clear;\n",
"close;\n",
"format('v',5)\n",
"// Given data\n",
"V = 100;// in V\n",
"I3= 10;// in A\n",
"R1 = 10;// in ohm \n",
"R2 = 5;// in ohm\n",
"// I1 = (V - V_A)/R1\n",
"// I2 = (V_A-0)/R2\n",
"// Using KCL at note A, I1-I2+I3=0 or\n",
"V_A= (R1*R2)/(R1+R2)*(I3+V/R1);// in V\n",
"I1 = (V - V_A)/R1;// in A\n",
"I2 = (V_A-0)/R2;// in A\n",
"disp(I1,'The current through 10 ohm resistor in A is');\n",
"disp(I2,'The current through 5 ohm resistor in A is');\n",
"disp(I3,'The current through 20 ohm resistor in A is');"
   ]
   }
,
{
		   "cell_type": "markdown",
		   "metadata": {},
		   "source": [
			"## Example 1.3: Voltage_source_to_current_source.sce"
		   ]
		  },
  {
"cell_type": "code",
	   "execution_count": null,
	   "metadata": {
	    "collapsed": true
	   },
	   "outputs": [],
"source": [
"// Exa 1.3\n",
"clc;\n",
"clear;\n",
"close;\n",
"format('v',5)\n",
"// Given data\n",
"// Part (a)\n",
"V = 30;// in V\n",
"R = 6;// in ohm\n",
"I = V/R;// the equivalent current in A\n",
"disp(I,'The equivalent current in A is');\n",
"// Part (b)\n",
"I = 10;// in A\n",
"R = 5;// in ohm\n",
"V = I*R;// the equivalent voltage in V\n",
"disp(V,'The equivalent voltage in V is');"
   ]
   }
,
{
		   "cell_type": "markdown",
		   "metadata": {},
		   "source": [
			"## Example 1.4: Value_of_current.sce"
		   ]
		  },
  {
"cell_type": "code",
	   "execution_count": null,
	   "metadata": {
	    "collapsed": true
	   },
	   "outputs": [],
"source": [
"// Exa 1.4\n",
"clc;\n",
"clear;\n",
"close;\n",
"format('v',7)\n",
"// Given data\n",
"R1= 6;// in ohm\n",
"R2= 2;// in ohm\n",
"R3= 5;// in ohm\n",
"I2= 4;// in A\n",
"V=24;//in V\n",
"// Applying KVL to the loop ABCDA, -R1*I1-R3*I+V=0  (i)\n",
"// but I1= I+I2 , so from eq(i)\n",
"I= (V-R1*I2)/(R1+R3);// in A\n",
"disp(I,'The current in A is');"
   ]
   }
,
{
		   "cell_type": "markdown",
		   "metadata": {},
		   "source": [
			"## Example 1.5: Value_of_I1_and_I2.sce"
		   ]
		  },
  {
"cell_type": "code",
	   "execution_count": null,
	   "metadata": {
	    "collapsed": true
	   },
	   "outputs": [],
"source": [
"// Exa 1.5\n",
"clc;\n",
"clear;\n",
"close;\n",
"format('v',7)\n",
"// Given data\n",
"R1= 40;// in ohm\n",
"R2= 20;// in ohm\n",
"R3= 25;// in ohm\n",
"R4= 60;// in ohm\n",
"R5= 50;// in ohm\n",
"V1= 120;// in V\n",
"V2= 60;// in V\n",
"V3= 40;// in V\n",
"// Applying KVL in Mesh ABEFA, we get  -I1*(R1+R2+R3)+I2*R3=V2-V1       (i)\n",
"// Applying KVL in Mesh BCEDB, we get  R3*I1-I2*(R3+R4+R5)= V3-V2       (ii)\n",
"A= [-(R1+R2+R3) R3; R3 -(R3+R4+R5)];\n",
"B= [V2-V1 V3-V2];\n",
"I= B*A^-1;//Solving eq(i) and (ii) by Matrix method\n",
"I1= I(1);// in A\n",
"I2= I(2);// in A\n",
"disp(I1,'The value of I1 in A is : ');\n",
"disp(I2,'The value of I2 in A is : ');"
   ]
   }
,
{
		   "cell_type": "markdown",
		   "metadata": {},
		   "source": [
			"## Example 1.6: Current_through_each_battery_and_load_current.sce"
		   ]
		  },
  {
"cell_type": "code",
	   "execution_count": null,
	   "metadata": {
	    "collapsed": true
	   },
	   "outputs": [],
"source": [
"// Exa 1.6\n",
"clc;\n",
"clear;\n",
"close;\n",
"format('v',6)\n",
"// Given data\n",
"R1= 2;// in ohm\n",
"R2= 4;// in ohm\n",
"R3= 6;// in ohm\n",
"V1= 4;// in V\n",
"V2= 44;// in V\n",
"//Applying KVL in ABEFA :  -R1*I1 + R2*I2 = V1      (i)\n",
"//Applying KVL in BCDEB:  R3*I1 + I2*(R2+R3)=V2 (ii)\n",
"A= [-R1 R3; R2 (R2+R3)]; // assumed\n",
"B= [V1 V2];// assumed\n",
"I= B*A^-1;// Solving eq(i) and (ii) by Matrix method\n",
"I1= I(1);// in A\n",
"I2= I(2);// in A\n",
"I_L= I1+I2;// in A\n",
"disp(I1,'The value of I1 in A is : ');\n",
"disp(I2,'The value of I2 in A is : ');\n",
"disp(I_L,'The value of I_L in A is : ');"
   ]
   }
,
{
		   "cell_type": "markdown",
		   "metadata": {},
		   "source": [
			"## Example 1.7: Mesh_analysis.sce"
		   ]
		  },
  {
"cell_type": "code",
	   "execution_count": null,
	   "metadata": {
	    "collapsed": true
	   },
	   "outputs": [],
"source": [
"// Exa 1.7\n",
"clc;\n",
"clear;\n",
"close;\n",
"format('v',6)\n",
"// Given data\n",
"R1= 1;// in ohm\n",
"R2= 1;// in ohm\n",
"R3= 2;// in ohm\n",
"R4= 1;// in ohm\n",
"R5= 1;// in ohm\n",
"V1= 1.5;// in V\n",
"V2= 1.1;// in V\n",
"//Applying KVL in ABCFA :  I1*(R1+R2+R3) + R3*I2 = V1      (i)\n",
"//Applying KVL in BCDEB:  R3*I1 + I2*(R3+R4+R5)=V2        (ii)\n",
"A= [(R1+R2+R3) R3; R3 (R3+R4+R5)];\n",
"B= [V1 V2];\n",
"I= B*A^-1;// Solving eq(i) and (ii) by Matrix method\n",
"I1= I(1);// in A\n",
"I2= I(2);// in A\n",
"disp(I1,'The value of I1 in A is : ');\n",
"disp(I2,'The value of I2 in A is : ');"
   ]
   }
,
{
		   "cell_type": "markdown",
		   "metadata": {},
		   "source": [
			"## Example 1.8: Current_in_6_ohm_resistor.sce"
		   ]
		  },
  {
"cell_type": "code",
	   "execution_count": null,
	   "metadata": {
	    "collapsed": true
	   },
	   "outputs": [],
"source": [
"// Exa 1.8\n",
"clc;\n",
"clear;\n",
"close;\n",
"format('v',7)\n",
"// Given data\n",
"R1= 2;// in ohm\n",
"R2= 4;// in ohm\n",
"R3= 1;// in ohm\n",
"R4= 6;// in ohm\n",
"R5= 4;// in ohm\n",
"V1= 10;// in V\n",
"V2= 20;// in V\n",
"//Applying KVL in ABGHA :  I1*(R1+R2) - R2*I2 = V1                   (i)\n",
"//Applying KVL in BCFGB :  I1*R5-I2*(R3+R4+R5)+I3*R4 = 0      (ii)\n",
"//Applying KVL in CDEFC:  R4*I2-I3*(R2+R4)=V2                          (iii)\n",
"A= [(R1+R2) R5 0; -R2 -(R3+R4+R5) R4; 0 R4 -(R2+R4)];\n",
"B= [V1 0 V2];\n",
"I= B*A^-1;// Solving eq(i), (ii) and (iii) by Matrix method\n",
"I1= I(1);// in A\n",
"I2= I(2);// in A\n",
"I3= I(3);// in A\n",
"I6_ohm_resistor= I2-I3;//The current through 6 ohm resistance  in A\n",
"disp(I6_ohm_resistor,'The current through 6 ohm resistance in A is : ')"
   ]
   }
,
{
		   "cell_type": "markdown",
		   "metadata": {},
		   "source": [
			"## Example 1.9: Current_in_each_element.sce"
		   ]
		  },
  {
"cell_type": "code",
	   "execution_count": null,
	   "metadata": {
	    "collapsed": true
	   },
	   "outputs": [],
"source": [
"// Exa 1.9\n",
"clc;\n",
"clear;\n",
"close;\n",
"format('v',6)\n",
"// Given data\n",
"R1= 30;// in ohm\n",
"R2= 40;// in ohm\n",
"R3= 20;// in ohm\n",
"R4= 60;// in ohm\n",
"R5= 50;// in ohm\n",
"V= 240;// in V\n",
"//Applying KVL in ABDA  :  I1*-(R1+R2+R3) + R2*I2+R3*I3 =0                  (i)\n",
"//Applying KVL in BCDB  :  I1*R2+I2*-(R2+R4+R5)+I3*R5 = 0                   (ii)\n",
"//Applying KVL in CFEADC: I1*R3+ R5*I2+I3*-(R3+R5)=-V                       (iii)\n",
"A= [-(R1+R2+R3) R2 R3; R2 -(R2+R4+R5) R5; R3 R5 -(R3+R5)];\n",
"B= [0 0 -V];\n",
"I= B*A^-1;// Solving eq(i), (ii) and (iii) by Matrix method\n",
"I1= I(1);// in A\n",
"I2= I(2);// in A\n",
"I3= I(3);// in A\n",
"I30_ohm_resistor= I1;// in A\n",
"I60_ohm_resistor= I2;// in A\n",
"I50_ohm_resistor= I2-I3;// in A\n",
"I20_ohm_resistor= I1-I3;// in A\n",
"I40_ohm_resistor= I1-I2;// in A\n",
"disp(I30_ohm_resistor,'The current through 30 ohm resistance in A is : ')\n",
"disp(I60_ohm_resistor,'The current through 60 ohm resistance in A is : ')\n",
"disp(I50_ohm_resistor,'The current through 50 ohm resistance in A is : ')\n",
"disp(I20_ohm_resistor,'The current through 20 ohm resistance in A is : ')\n",
"disp(I40_ohm_resistor,'The current through 40 ohm resistance in A is : ')\n",
"\n",
"// Note: In the book there is a mistake in eq(iii), the R.H.S of eq(iii) should be -24 not -240. Since they divide the L.H.S of eq(iii) by 10 and R.H.S not divided, So the answer in the book is wrong\n",
"\n",
"\n",
"  "
   ]
   }
],
"metadata": {
		  "kernelspec": {
		   "display_name": "Scilab",
		   "language": "scilab",
		   "name": "scilab"
		  },
		  "language_info": {
		   "file_extension": ".sce",
		   "help_links": [
			{
			 "text": "MetaKernel Magics",
			 "url": "https://github.com/calysto/metakernel/blob/master/metakernel/magics/README.md"
			}
		   ],
		   "mimetype": "text/x-octave",
		   "name": "scilab",
		   "version": "0.7.1"
		  }
		 },
		 "nbformat": 4,
		 "nbformat_minor": 0
}
