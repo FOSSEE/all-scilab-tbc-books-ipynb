{
"cells": [
 {
		   "cell_type": "markdown",
	   "metadata": {},
	   "source": [
       "# Chapter 3: AC fundamental"
	   ]
	},
{
		   "cell_type": "markdown",
		   "metadata": {},
		   "source": [
			"## Example 3.10: Phaser_diagram.sce"
		   ]
		  },
  {
"cell_type": "code",
	   "execution_count": null,
	   "metadata": {
	    "collapsed": true
	   },
	   "outputs": [],
"source": [
"// Exa 3.10\n",
"clc;\n",
"clear;\n",
"close;\n",
"format('v',7)\n",
"// Given data\n",
"V1= 100/sqrt(2)*expm(%i*0*%pi/180);// in V\n",
"V2= 200/sqrt(2)*expm(%i*60*%pi/180);// in V\n",
"V3= 50/sqrt(2)*expm(%i*-90*%pi/180);// in V\n",
"V4= 150/sqrt(2)*expm(%i*-45*%pi/180);// in V\n",
"// The R.M.S. value of the resultant \n",
"V_R= real(V1)+real(V2)+real(V3)+real(V4);// in V\n",
"disp(V_R,'The R.M.S. value of the resultant in volts is : ')\n",
""
   ]
   }
,
{
		   "cell_type": "markdown",
		   "metadata": {},
		   "source": [
			"## Example 3.11: Value_of_current.sce"
		   ]
		  },
  {
"cell_type": "code",
	   "execution_count": null,
	   "metadata": {
	    "collapsed": true
	   },
	   "outputs": [],
"source": [
"// Exa 3.11\n",
"clc;\n",
"clear;\n",
"close;\n",
"format('v',7)\n",
"// Given data\n",
"Im = 15;// in A\n",
"f = 60;// in Hz\n",
"omega = 2*%pi * f;// in rad/sec\n",
"t = 1/200;// in sec\n",
"i = Im*sin(omega*t);// in A\n",
"disp(i,'The value of current after 1/200 sec in A is');\n",
"i = 10;// in A\n",
"// i = Im*sind(omega*t);\n",
"t = (asin(i/Im))/omega;// in sec\n",
"t = t * 10^3;// in ms\n",
"disp(t,'The time to reach 10 A in ms is');\n",
"Iav = Im*0.637;// in A\n",
"disp(Iav,'The average value in A is');"
   ]
   }
,
{
		   "cell_type": "markdown",
		   "metadata": {},
		   "source": [
			"## Example 3.12: Maximum_current_frequency_and_RMS_value_and_form_factor.sce"
		   ]
		  },
  {
"cell_type": "code",
	   "execution_count": null,
	   "metadata": {
	    "collapsed": true
	   },
	   "outputs": [],
"source": [
"// Exa 3.12\n",
"clc;\n",
"clear;\n",
"close;\n",
"format('v',5)\n",
"// Given data\n",
"Im = 42.42;// in A\n",
"omega = 628;// in rad/sec\n",
"t = 1/6.977;// in sec assumed \n",
"i = Im*sind(omega*t);// in A\n",
"disp(i,'The maximum value of current in A is');\n",
"// omega = 2*%pi*f;\n",
"f = omega/(2*%pi);// in Hz\n",
"disp(f,'The frequency in Hz is');\n",
"Irms = Im/(sqrt(2));// in A\n",
"disp(Irms,'The rms value in A is');\n",
"Iav = (2*Im)/%pi;// in A\n",
"disp(Iav,'The average value in A is');\n",
"k_f = Irms/Iav;\n",
"disp(k_f,'The form factor is');"
   ]
   }
,
{
		   "cell_type": "markdown",
		   "metadata": {},
		   "source": [
			"## Example 3.13: Power_factor_and_RMS_value_of_current.sce"
		   ]
		  },
  {
"cell_type": "code",
	   "execution_count": null,
	   "metadata": {
	    "collapsed": true
	   },
	   "outputs": [],
"source": [
"// Exa 3.13\n",
"clc;\n",
"clear;\n",
"close;\n",
"format('v',6)\n",
"// Given data\n",
"phi = %pi/6;\n",
"// Power factor\n",
"powerfactor = cos(phi);// in lag\n",
"disp(powerfactor,'The power factor is');\n",
"Im = 22;// in A\n",
"// The R.M.S value of current \n",
"Irms = Im/sqrt(2);// in A\n",
"disp(Irms,'The R.M.S value of current in A is');\n",
"omega = 314;// in rad/sec\n",
"// omega = 2*%pi*f;\n",
"f = omega/(2*%pi);// in Hz\n",
"disp(f,'The frequency in Hz is');"
   ]
   }
,
{
		   "cell_type": "markdown",
		   "metadata": {},
		   "source": [
			"## Example 3.14: RMS_value_average_value_and_form_factor.sce"
		   ]
		  },
  {
"cell_type": "code",
	   "execution_count": null,
	   "metadata": {
	    "collapsed": true
	   },
	   "outputs": [],
"source": [
"// Exa 3.14\n",
"clc;\n",
"clear;\n",
"close;\n",
"format('v',6)\n",
"// Given data\n",
"Im= 100;// in A\n",
"Irms= sqrt(Im^2/2*integrate('1-cos(2*theta)','theta',0,%pi)/%pi);// in A\n",
"disp(Irms,'The R.M.S value of current in A is : ')\n",
"Iav= Im*integrate('sin(theta)','theta',0,%pi)/%pi;// in A\n",
"disp(Iav,'The average value of current in A is : ')\n",
"// The form factor \n",
"kf= Irms/Iav;\n",
"disp(kf,'The form factor is : ')"
   ]
   }
,
{
		   "cell_type": "markdown",
		   "metadata": {},
		   "source": [
			"## Example 3.15: Form_factor.sce"
		   ]
		  },
  {
"cell_type": "code",
	   "execution_count": null,
	   "metadata": {
	    "collapsed": true
	   },
	   "outputs": [],
"source": [
"// Exa 3.15\n",
"clc;\n",
"clear;\n",
"close;\n",
"format('v',6)\n",
"// Given data\n",
"A= 2*10;// area under curve for a cycle\n",
"B= 2;// base of half cycle\n",
"Vav= 1/2*A/B;// in V\n",
"// For line AB\n",
"y1= 0;\n",
"y2= 10;\n",
"x1= 0;\n",
"x2= 1;\n",
"m_for_AB= (y2-y1)/(x2-x1);\n",
"// For line BC\n",
"y1= 10;\n",
"y2= 0;\n",
"x1= 1;\n",
"x2= 2;\n",
"m_for_BC= (y2-y1)/(x2-x1);\n",
"Vrms= sqrt((integrate('(m_for_AB*t)^2','t',0,1)+integrate('(m_for_BC*t+20)^2','t',1,2))/2);// in V\n",
"kf= Vrms/Vav;\n",
"disp(kf,'The form factor is : ')"
   ]
   }
,
{
		   "cell_type": "markdown",
		   "metadata": {},
		   "source": [
			"## Example 3.2: Time_period.sce"
		   ]
		  },
  {
"cell_type": "code",
	   "execution_count": null,
	   "metadata": {
	    "collapsed": true
	   },
	   "outputs": [],
"source": [
"// Exa 3.2\n",
"clc;\n",
"clear;\n",
"close;\n",
"format('v',7)\n",
"// Given data\n",
"Im = 141.4;// in A\n",
"t = 3;// in ms\n",
"t = t * 10^-3;// in sec\n",
"disp(Im,'The maximum value of current in A is');\n",
"omega = 314;// in rad/sec\n",
"// omega = 2*%pi*f;\n",
"f = round(omega/(2*%pi));// in Hz\n",
"disp(f,'The frequency in Hz is');\n",
"T = 1/f;// in sec\n",
"disp(T,'The time period in sec is');\n",
"i = 141.4 * sin(omega*t);// in A\n",
"disp(i,'The instantaneous value in A is');"
   ]
   }
,
{
		   "cell_type": "markdown",
		   "metadata": {},
		   "source": [
			"## Example 3.3: Value_of_current.sce"
		   ]
		  },
  {
"cell_type": "code",
	   "execution_count": null,
	   "metadata": {
	    "collapsed": true
	   },
	   "outputs": [],
"source": [
"// Exa 3.3\n",
"clc;\n",
"clear;\n",
"close;\n",
"format('v',8)\n",
"// Given data\n",
"f = 60;// in Hz\n",
"Im = 120;// in A\n",
"t = 1/360;// in sec\n",
"omega = 2*%pi*f;// in rad/sec\n",
"i = Im*sin(omega*t);// in A\n",
"disp(i,'The value of current after 1/360 sec in A is');\n",
"i = 96;// in A\n",
"// i = Im*sind(omega*t);\n",
"t = (asin(i/Im))/omega;// in sec\n",
"disp(t,'The time taken to reach 96 A for the first time in sec is');"
   ]
   }
,
{
		   "cell_type": "markdown",
		   "metadata": {},
		   "source": [
			"## Example 3.4: Average_and_RMS_value.sce"
		   ]
		  },
  {
"cell_type": "code",
	   "execution_count": null,
	   "metadata": {
	    "collapsed": true
	   },
	   "outputs": [],
"source": [
"// Exa 3.4\n",
"clc;\n",
"clear;\n",
"close;\n",
"format('v',6)\n",
"// Given data\n",
"i1 = 0;// in A\n",
"i2 = 10;// in A\n",
"i3 = 20;// in A\n",
"i4 = 30;// in A\n",
"i5 = 20;//in A\n",
"i6 = 10;// in A\n",
"n = 6;// unit less\n",
"Iav = (i1+i2+i3+i4+i5+i6)/n;// in A\n",
"disp(Iav,'The average value in A is');\n",
"Irms = sqrt(( (i1^2) + (i2^2) + (i3^2) + (i4^2) + (i5^2) + (i6^2) )/n);// in A\n",
"disp(Irms,'The RMS value in A is');\n",
"k_f = Irms/Iav;// unit less\n",
"disp(k_f,'The form factor is');\n",
"Im = 30;// in A\n",
"k_p = Im/Irms;// unit less\n",
"disp(k_p,'The peak factor is');"
   ]
   }
,
{
		   "cell_type": "markdown",
		   "metadata": {},
		   "source": [
			"## Example 3.5: Phase_difference.sce"
		   ]
		  },
  {
"cell_type": "code",
	   "execution_count": null,
	   "metadata": {
	    "collapsed": true
	   },
	   "outputs": [],
"source": [
"// Exa 3.5\n",
"clc;\n",
"clear;\n",
"close;\n",
"format('v',6)\n",
"// Given data\n",
"theta1 = 60;// in degree\n",
"theta2 = -45;// in degree\n",
"// phase difference \n",
"phi = theta1-theta2;// in degree\n",
"disp(phi,'The phase difference in degree is');"
   ]
   }
,
{
		   "cell_type": "markdown",
		   "metadata": {},
		   "source": [
			"## Example 3.6: Instantaneous_values_of_sum_and_difference_of_voltage.sce"
		   ]
		  },
  {
"cell_type": "code",
	   "execution_count": null,
	   "metadata": {
	    "collapsed": true
	   },
	   "outputs": [],
"source": [
"// Exa 3.6\n",
"clc;\n",
"clear;\n",
"close;\n",
"format('v',7)\n",
"// Givven data\n",
"V1= 60*expm(%i*0*%pi/180);// in V\n",
"V2= 40*expm(%i*-%pi/3);// in V\n",
"add_V= V1+V2;// in V\n",
"diff_V= V1-V2;// in V\n",
"disp('The sum of V1 and V2 is : ')\n",
"disp(string(abs(add_V))+' sin (theta'+string(atand(imag(add_V),real(add_V)))+'°) V')\n",
"disp('The difference of V1 and V2 is : ')\n",
"disp(string(abs(diff_V))+' sin (theta+'+string(atand(imag(diff_V),real(diff_V)))+'°) V')\n",
""
   ]
   }
,
{
		   "cell_type": "markdown",
		   "metadata": {},
		   "source": [
			"## Example 3.7: Average_value_effective_value_and_form_factor.sce"
		   ]
		  },
  {
"cell_type": "code",
	   "execution_count": null,
	   "metadata": {
	    "collapsed": true
	   },
	   "outputs": [],
"source": [
"// Exa 3.7\n",
"clc;\n",
"clear;\n",
"close;\n",
"format('v',6)\n",
"// Givven data\n",
"Vo= 1;// in V (assumed)\n",
"Vav= integrate('Vo*sin(theta)','theta',0,%pi)/(2*%pi);\n",
"Vrms= sqrt(integrate('Vo^2*(1-cos(2*theta))/2','theta',0,%pi))*sqrt(1/(2*%pi));\n",
"kf= Vrms/Vav;\n",
"disp('The average value of output voltage in volts is : '+string(Vav)+'*Vo or Vo/%pi')\n",
"disp('The R.M.S value of output voltage in volts is :  '+string(Vrms)+'*Vo or Vo/2')\n",
"disp(kf,'The form factor is : ')"
   ]
   }
,
{
		   "cell_type": "markdown",
		   "metadata": {},
		   "source": [
			"## Example 3.8: Average_and_RMS_value.sce"
		   ]
		  },
  {
"cell_type": "code",
	   "execution_count": null,
	   "metadata": {
	    "collapsed": true
	   },
	   "outputs": [],
"source": [
"// Exa 3.8\n",
"clc;\n",
"clear;\n",
"close;\n",
"format('v',5)\n",
"// Given data\n",
"T = 0.3;// in sec\n",
"V = 20;// in V\n",
"Vav = 1/T*V*integrate('1','t',0,0.1)\n",
"disp(Vav,'The average value of voltage in V is');\n",
"Vrms =sqrt(1/T*V^2*integrate('1','t',0,0.1)) \n",
"disp(Vrms,'The R.M.S value of voltage in V is');"
   ]
   }
,
{
		   "cell_type": "markdown",
		   "metadata": {},
		   "source": [
			"## Example 3.9: Rectangular_form_of_voltage.sce"
		   ]
		  },
  {
"cell_type": "code",
	   "execution_count": null,
	   "metadata": {
	    "collapsed": true
	   },
	   "outputs": [],
"source": [
"// Exa 3.9\n",
"clc;\n",
"clear;\n",
"close;\n",
"format('v',6)\n",
"// Given data\n",
"Vm = 100;// in V\n",
"phi = %pi/6;// in degree\n",
"Vrms = Vm/(sqrt(2));// in V\n",
"// Rectangular form of the voltage \n",
"RectForm= Vrms*expm(%i*phi)\n",
"disp(RectForm,'Rectangular form of the voltage in V is : ')\n",
"disp('Polar form of the voltage :')\n",
"disp('Magnitude of voltage in V is : '+string(abs(RectForm))+' V')\n",
"disp('Angle is : '+string(atand(imag(RectForm),real(RectForm)))+' °')"
   ]
   }
],
"metadata": {
		  "kernelspec": {
		   "display_name": "Scilab",
		   "language": "scilab",
		   "name": "scilab"
		  },
		  "language_info": {
		   "file_extension": ".sce",
		   "help_links": [
			{
			 "text": "MetaKernel Magics",
			 "url": "https://github.com/calysto/metakernel/blob/master/metakernel/magics/README.md"
			}
		   ],
		   "mimetype": "text/x-octave",
		   "name": "scilab",
		   "version": "0.7.1"
		  }
		 },
		 "nbformat": 4,
		 "nbformat_minor": 0
}
