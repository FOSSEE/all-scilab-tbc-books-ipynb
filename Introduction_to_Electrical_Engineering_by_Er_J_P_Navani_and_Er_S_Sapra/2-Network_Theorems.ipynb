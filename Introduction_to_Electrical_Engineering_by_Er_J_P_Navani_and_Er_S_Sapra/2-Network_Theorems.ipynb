{
"cells": [
 {
		   "cell_type": "markdown",
	   "metadata": {},
	   "source": [
       "# Chapter 2: Network Theorems"
	   ]
	},
{
		   "cell_type": "markdown",
		   "metadata": {},
		   "source": [
			"## Example 2.10: Current_in_10_ohm_resistor.sce"
		   ]
		  },
  {
"cell_type": "code",
	   "execution_count": null,
	   "metadata": {
	    "collapsed": true
	   },
	   "outputs": [],
"source": [
"// Exa 2.10\n",
"clc;\n",
"clear;\n",
"close;\n",
"format('v',7)\n",
"// Given data\n",
"R1 = 8;// in ohm\n",
"R2 = 5;// in ohm\n",
"R3 = 2;// in ohm\n",
"R_L = 10;// in ohm\n",
"V1= 20;// in V\n",
"V2= 12;// in V\n",
"// V1-R3*I - R2*I = 0;\n",
"I = V1/(R2+R3);// in A\n",
"// Vth + V2 - R3*I = 0;\n",
"Vth = R3*I - V2;// in V\n",
"Rth = ((R2*R3)/(R2+R3)) + R1;// in ohm\n",
"// current through 10 ohm resistance \n",
"I_L = abs(Vth)/(Rth+R_L);// in A\n",
"disp(I_L,'The current through 10 ohm resistance in A is');"
   ]
   }
,
{
		   "cell_type": "markdown",
		   "metadata": {},
		   "source": [
			"## Example 2.11: Current_in_5_ohm_resistor.sce"
		   ]
		  },
  {
"cell_type": "code",
	   "execution_count": null,
	   "metadata": {
	    "collapsed": true
	   },
	   "outputs": [],
"source": [
"// Exa 2.11\n",
"clc;\n",
"clear;\n",
"close;\n",
"format('v',4)\n",
"// Given data\n",
"R1 = 4;// in ohm\n",
"R2 = 3;// in ohm\n",
"R3 = 2;// in ohm\n",
"R_L = 5;// in ohm\n",
"I = 6;// in A\n",
"V = 15;// in V\n",
"// V-R1*I1-R3*(I1+I) = 0;\n",
"I1 = (V-R3*I)/(R1+R3);// in A\n",
"I = I1 + I;// in A\n",
"Vth = R3*I;// in V\n",
"Rth = ((R1*R3)/(R1+R3)) + R2;// in ohm\n",
"// current in 5 ohm resistance \n",
"I_L = Vth/(Rth+R_L);// in A\n",
"disp(I_L,'The current in 5 ohm resistance in A is');"
   ]
   }
,
{
		   "cell_type": "markdown",
		   "metadata": {},
		   "source": [
			"## Example 2.12: Thevenins_equivalent_of_the_netword.sce"
		   ]
		  },
  {
"cell_type": "code",
	   "execution_count": null,
	   "metadata": {
	    "collapsed": true
	   },
	   "outputs": [],
"source": [
"// Exa 2.12\n",
"clc;\n",
"clear;\n",
"close;\n",
"format('v',5)\n",
"// Given data\n",
"R1 = 8;// in ohm\n",
"R2 = 32;// in ohm\n",
"V = 60;// in V\n",
"I1= 5;// in A\n",
"I2= 3;// in A\n",
"// Vth-R1*I1-(I1+I2)*R2-V=0\n",
"Vth= R1*I1+(I1+I2)*R2+V\n",
"Rth = R1+R2;// in ohm\n",
"disp(Vth,'The value of Vth in volts is : ')\n",
"disp(Rth,'The value of Rth in ohm is : ');\n",
""
   ]
   }
,
{
		   "cell_type": "markdown",
		   "metadata": {},
		   "source": [
			"## Example 2.13: Current_in_6_ohm_resistor.sce"
		   ]
		  },
  {
"cell_type": "code",
	   "execution_count": null,
	   "metadata": {
	    "collapsed": true
	   },
	   "outputs": [],
"source": [
"clc;\n",
"clear;\n",
"close;\n",
"format('v',5)\n",
"// Given data\n",
"R1 = 6;// in ohm\n",
"R2 = 4;// in ohm\n",
"R3 = 3;// in ohm\n",
"R_L = 6;// in ohm\n",
"V1 = 6;// in V\n",
"V2= 15;// in V\n",
"// V1 - R1*I - R3*I -V2 = 0;\n",
"I= (V1-V2)/(R1+R3)\n",
"Vth = V2 + (R3*I);// in V\n",
"Rth = ((R1*R3)/(R1+R3)) + R2;// in ohm\n",
"I_N = Vth/Rth;// in A\n",
"// current through 6 ohm resistor \n",
"I = (I_N*Rth)/(Rth+R_L);// in A\n",
"disp(I,'The current through 6 ohm resistor in A is');"
   ]
   }
,
{
		   "cell_type": "markdown",
		   "metadata": {},
		   "source": [
			"## Example 2.14: Current_in_10_ohm_resistor.sce"
		   ]
		  },
  {
"cell_type": "code",
	   "execution_count": null,
	   "metadata": {
	    "collapsed": true
	   },
	   "outputs": [],
"source": [
"// Exa 2.14\n",
"clc;\n",
"clear;\n",
"close;\n",
"format('v',7)\n",
"// Given data\n",
"R1 = 5;// in ohm\n",
"R2 = 2;// in ohm\n",
"R3 = 8;// in ohm\n",
"V1 = 20;// in V\n",
"V2 = 12;// in V\n",
"// V1-R2*I-R1*I = 0;\n",
"I = V1/(R1+R2);// in A\n",
"// Vth + V2 - R2*I = 0;\n",
"Vth = (R2*I) - V2;// in V\n",
"Rth = ((R1*R2)/(R1+R2)) + R3;// in ohm\n",
"I_N = Vth/Rth;// in A\n",
"R_L = 10;// in ohm\n",
"// current through 10 ohm resistace \n",
"I = (abs(I_N)*Rth)/(Rth+R_L);// in A\n",
"disp(I,'The current through 10 ohm resistace in A is');"
   ]
   }
,
{
		   "cell_type": "markdown",
		   "metadata": {},
		   "source": [
			"## Example 2.15: Current_in_5_ohm_resistor.sce"
		   ]
		  },
  {
"cell_type": "code",
	   "execution_count": null,
	   "metadata": {
	    "collapsed": true
	   },
	   "outputs": [],
"source": [
"// Exa 2.15\n",
"clc;\n",
"clear;\n",
"close;\n",
"format('v',6)\n",
"// Given data\n",
"V = 15;// in V\n",
"R1 = 4;// in  ohm\n",
"R2 = 3;// in ohm\n",
"R3 = 2;// in ohm\n",
"R_L = 5;// in ohm\n",
"Ig = 6;// in A\n",
"// V - R1*I1 - R3*(I1+Ig) = 0;\n",
"I1 = (V-R3*Ig)/(R1+R3);// in A\n",
"I = I1 + Ig;// in A\n",
"Vth = R3*I;// in V\n",
"Rth = ((R1*R3)/(R1+R3)) + R2;// in ohm\n",
"I_N = Vth/Rth;// in A\n",
"// current through 5 ohm resistor \n",
"I = (I_N*Rth)/(Rth+R_L);// in A\n",
"disp(I,'The current through 5 ohm resistor in A is');"
   ]
   }
,
{
		   "cell_type": "markdown",
		   "metadata": {},
		   "source": [
			"## Example 2.16: Value_of_R.sce"
		   ]
		  },
  {
"cell_type": "code",
	   "execution_count": null,
	   "metadata": {
	    "collapsed": true
	   },
	   "outputs": [],
"source": [
"// Exa 2.16\n",
"clc;\n",
"clear;\n",
"close;\n",
"format('v',5)\n",
"// Given data\n",
"V = 6;// in V\n",
"R1 = 2;// in ohm\n",
"R2 = 1;// in ohm\n",
"R3 = 3;//in ohm\n",
"R4 = 2;// in ohm\n",
"Rth=(R1*R2/(R1+R2)+R3)*R4/((R1*R2/(R1+R2)+R3)+R4)\n",
"R_L = Rth;// in ohm\n",
"disp(R_L,'The value of R in ohm is');"
   ]
   }
,
{
		   "cell_type": "markdown",
		   "metadata": {},
		   "source": [
			"## Example 2.17: Load_Resistance_and_power_delivered_to_load.sce"
		   ]
		  },
  {
"cell_type": "code",
	   "execution_count": null,
	   "metadata": {
	    "collapsed": true
	   },
	   "outputs": [],
"source": [
"// Exa 2.17\n",
"clc;\n",
"clear;\n",
"close;\n",
"format('v',6)\n",
"// Given data\n",
"R1 = 10;// in ohm\n",
"R2 = 10;// in ohm\n",
"R3 = 4;// in ohm\n",
"V = 20;// in V\n",
"// V - R1*I1 - R2*I1 = 0;\n",
"I1 = V/(R1+R2);// in A\n",
"Vth = R1*I1;// in V\n",
"Rth =R1*R2/(R1+R2)+R3\n",
"R_L = Rth;// in ohm\n",
"disp(R_L,'The value of load resistance in ohm is');\n",
"Pmax = (Vth^2)/(4*Rth);// in W\n",
"disp(Pmax,'The power delivered to the load in W is');"
   ]
   }
,
{
		   "cell_type": "markdown",
		   "metadata": {},
		   "source": [
			"## Example 2.18: Current_in_6_ohm_resistor.sce"
		   ]
		  },
  {
"cell_type": "code",
	   "execution_count": null,
	   "metadata": {
	    "collapsed": true
	   },
	   "outputs": [],
"source": [
"// Exa 2.18\n",
"clc;\n",
"clear;\n",
"close;\n",
"format('v',5)\n",
"// Given data\n",
"R1 = 3;// in ohm\n",
"R2 = 9;// in ohm\n",
"R3 = 6;// in ohm\n",
"V1 = 120;// in V\n",
"V2 = 60;// in V\n",
"R = (R3*R2)/(R3+R2);// in ohm\n",
"R_T = R+R1;// in ohm\n",
"I_T = V1/R_T;// in A\n",
"I1 = (R2/(R2+R3)) * I_T;// in A\n",
"R_T = 2 + R2;// in  ohm\n",
"I_T = V2/R_T;// in A\n",
"I2 = (R1/(R1+R3)) * I_T;// in A\n",
"// current through 6 ohm resistor \n",
"I = I1-I2;// in A\n",
"disp(I,'The current through 6 ohm resistor in A is');"
   ]
   }
,
{
		   "cell_type": "markdown",
		   "metadata": {},
		   "source": [
			"## Example 2.19: Current_in_8_ohm_resistor.sce"
		   ]
		  },
  {
"cell_type": "code",
	   "execution_count": null,
	   "metadata": {
	    "collapsed": true
	   },
	   "outputs": [],
"source": [
"// Exa 2.19\n",
"clc;\n",
"clear;\n",
"close;\n",
"format('v',5)\n",
"// Given data\n",
"R1 = 36;// in ohm\n",
"R2 = 12;// in ohm\n",
"R3 = 8;// in ohm\n",
"V1 = 90;// in V\n",
"V2 = 60;// in V\n",
"R_T = (R2*R3)/(R2+R3)+R1;// in ohm\n",
"I_T = V1/R_T;// in A\n",
"I1 = (R2/(R2+R3)) * I_T;// in A\n",
"R = (R1*R3)/(R1+R3);// in ohm\n",
"R_T = R2+R;// in ohm\n",
"I_T = V2/R_T;// in A \n",
"I2 = (R1/(R1+R3))*I_T;// in A\n",
"Ra = (R1*R2)/(R1+R2);// in ohm asumed\n",
"I_T = 2;// in A\n",
"I3 = (Ra/(Ra+R3))*I_T;// in A\n",
"// current in 8 ohm resistor \n",
"I = I1+I2+I3;// in A\n",
"disp(I,'The current in 8 ohm resistor in A is');"
   ]
   }
,
{
		   "cell_type": "markdown",
		   "metadata": {},
		   "source": [
			"## Example 2.1: Current_through_load_resistance.sce"
		   ]
		  },
  {
"cell_type": "code",
	   "execution_count": null,
	   "metadata": {
	    "collapsed": true
	   },
	   "outputs": [],
"source": [
"// Exa 2.1\n",
"clc;\n",
"clear;\n",
"close;\n",
"format('v',5)\n",
"// Given data\n",
"R1 = 6;// in ohm\n",
"R2 = 6;// in ohm\n",
"R3 = 6;// in ohm\n",
"V = 24;// in V\n",
"R_T =R1+R1*R2/(R1+R2);// in ohm\n",
"I_T = V/R_T;// in A\n",
"I1 = (R1/(R1+R2))*I_T;// in A\n",
"V = 12;// in V\n",
"I_T = V/R_T;// in A\n",
"I2 = (R1/(R1+R2))*I_T;// in A\n",
"I = I1+I2;// in A\n",
"disp(I,'The current in A is');"
   ]
   }
,
{
		   "cell_type": "markdown",
		   "metadata": {},
		   "source": [
			"## Example 2.20: Thevenins_equivalent_circuit.sce"
		   ]
		  },
  {
"cell_type": "code",
	   "execution_count": null,
	   "metadata": {
	    "collapsed": true
	   },
	   "outputs": [],
"source": [
"// Exa 2.20\n",
"clc;\n",
"clear;\n",
"close;\n",
"format('v',5)\n",
"// Given data\n",
"R1 = 5;// in ohm\n",
"R2 = 10;// in ohm\n",
"R3 = 5;// in ohm\n",
"V1 = 60;// in v\n",
"V2 = 30;// in V\n",
"//-R1*i1 - R3*i1 - V2+V1 = 0;\n",
"i1 = (V2-V1)/(R1+R3);// in A\n",
"V_acrossR3 = R3*i1;// in V\n",
"Vth = V_acrossR3+V1;// in V\n",
"V_AB =Vth;// in V\n",
"disp(V_AB,'The Thevenins voltage in V is');\n",
"R = (R1*R3)/(R1+R3);// in ohm\n",
"Rth = R2+R;// in ohm\n",
"disp(Rth,'The Thevenins resistance in ohm is');"
   ]
   }
,
{
		   "cell_type": "markdown",
		   "metadata": {},
		   "source": [
			"## Example 2.21: Current_in_5_ohm_resistor.sce"
		   ]
		  },
  {
"cell_type": "code",
	   "execution_count": null,
	   "metadata": {
	    "collapsed": true
	   },
	   "outputs": [],
"source": [
"// Exa 2.21\n",
"clc;\n",
"clear;\n",
"close;\n",
"format('v',6)\n",
"// Given data\n",
"R1 = 4;// in ohm\n",
"R2 = 3;// in  ohm\n",
"R3 = 2;// in ohm\n",
"R_L = 5;// in ohm\n",
"V = 15;// in V\n",
"I2 = 6;// in A\n",
"// -R1*I1 - R3*I1 + R3*I2 + V = 0;\n",
"I1 = (V+R3*I2)/(R1+R3);// in A\n",
"Vth = I2/R3;// in V\n",
"V_CD = Vth;// in V\n",
"Rth = (R1*R3)/(R1+R3)+R2;// in ohm\n",
"I = Vth/(Rth+R_L);// in A\n",
"disp(I,'The current flowing through 5 ohm resistor in A is');"
   ]
   }
,
{
		   "cell_type": "markdown",
		   "metadata": {},
		   "source": [
			"## Example 2.22: Norton_equivalent_circuit.sce"
		   ]
		  },
  {
"cell_type": "code",
	   "execution_count": null,
	   "metadata": {
	    "collapsed": true
	   },
	   "outputs": [],
"source": [
"// Exa 2.22\n",
"clc;\n",
"clear;\n",
"close;\n",
"format('v',6)\n",
"// Given data\n",
"R1 = 20;// in ohm\n",
"R2 = 5;// in ohm\n",
"R3 = 3;// in ohm\n",
"R4 = 2;// in ohm\n",
"V = 30;// in V\n",
"I1=4;// in A\n",
"V1= I1*R3;// in V\n",
"// R1*I -R2*I+V = 0;\n",
"I = V/(R1+R2);// in A\n",
"V_acrossR2= R2*I;// in V\n",
"V_AB = V_acrossR2-V1;// in V\n",
"Vth = abs(V_AB);// in V\n",
"Rth = (R1*R2)/(R1+R2)+R3+R4;// in ohm\n",
"disp(Rth,'The value of Rth in ohm is');\n",
"I_N = Vth/Rth;// in A\n",
"disp(I_N,'The value of I_N in A is');"
   ]
   }
,
{
		   "cell_type": "markdown",
		   "metadata": {},
		   "source": [
			"## Example 2.23: Vth_and_Rth.sce"
		   ]
		  },
  {
"cell_type": "code",
	   "execution_count": null,
	   "metadata": {
	    "collapsed": true
	   },
	   "outputs": [],
"source": [
"// Exa 2.23\n",
"clc;\n",
"clear;\n",
"close;\n",
"format('v',5)\n",
"// Given data\n",
"R1 = 2;// in ohm\n",
"R2 = 4;// in ohm\n",
"R3 = 6;// in ohm\n",
"R4 = 4;// in ohm\n",
"V = 16;// in v\n",
"I1= 8;// in A\n",
"V1= I1*R2;// in V\n",
"I2= 16;// in A\n",
"V2= I2*R3;// in V\n",
"// Applying KVL : R2*I+V1+R3*I-V2+V+R1*I\n",
"I= (V2-V1-V)/(R1+R2+R3);// in A\n",
"Vth= V2-R3*I;// in V\n",
"Rth= (R1+R2)*R3/((R1+R2)+R3)+R4;// in ohm\n",
"disp(Vth,'The value of Vth in volts is : ')\n",
"disp(Rth,'The value of Rth in ohm is : ')"
   ]
   }
,
{
		   "cell_type": "markdown",
		   "metadata": {},
		   "source": [
			"## Example 2.24: Load_resistance.sce"
		   ]
		  },
  {
"cell_type": "code",
	   "execution_count": null,
	   "metadata": {
	    "collapsed": true
	   },
	   "outputs": [],
"source": [
"// Exa 2.24\n",
"clc;\n",
"clear;\n",
"close;\n",
"format('v',5)\n",
"// Given data\n",
"R1 = 3;// in ohm\n",
"R2 = 2;// in ohm\n",
"R3 = 1;// in ohm\n",
"R4 = 8;// in ohm\n",
"R5 = 2;// in ohm\n",
"V = 10;// in V\n",
"R = ((R1+R2)*R5)/((R1+R2)+R5);// in ohm\n",
"Rth = R + R3;// in ohm\n",
"R_L = Rth;// in ohm\n",
"disp(R_L,'The value of load resistance in ohm is');"
   ]
   }
,
{
		   "cell_type": "markdown",
		   "metadata": {},
		   "source": [
			"## Example 2.25: Load_resistance_and_maximum_power.sce"
		   ]
		  },
  {
"cell_type": "code",
	   "execution_count": null,
	   "metadata": {
	    "collapsed": true
	   },
	   "outputs": [],
"source": [
"// Exa 2.25\n",
"clc;\n",
"clear;\n",
"close;\n",
"format('v',8)\n",
"// Given data\n",
"V = 250;// in V\n",
"R1 = 10;// in ohm\n",
"R2 = 10;// in ohm\n",
"R3 = 10;// in ohm\n",
"R4 = 10;// in ohm\n",
"I2 = 20;// in A.\n",
"//Applying KVL in GEFHG :  -R1*I1-R2*I1-R2*I2 + V = 0;\n",
"I1= (V-R2*I2)/(R1+R2);// in A\n",
"V_AB= R3*I2+V-R1*I1;// in V\n",
"Vth = V_AB;// in V\n",
"Rth = (R1*R2)/(R1+R2)+R3+R4;// in ohm\n",
"R_L = Rth;// in ohm\n",
"disp(R_L,'The value of R_L in ohm is');\n",
"Pmax = (Vth^2)/(4*R_L);//maximum power  in W\n",
"disp(Pmax,'The value of maximum power in W is');"
   ]
   }
,
{
		   "cell_type": "markdown",
		   "metadata": {},
		   "source": [
			"## Example 2.26: Value_of_current.sce"
		   ]
		  },
  {
"cell_type": "code",
	   "execution_count": null,
	   "metadata": {
	    "collapsed": true
	   },
	   "outputs": [],
"source": [
"// Exa 2.26\n",
"clc;\n",
"clear;\n",
"close;\n",
"format('v',7)\n",
"// Given data\n",
"R1 = 2;// in ohm\n",
"R2 = 4;// in ohm\n",
"R_L = 4;// in ohm\n",
"V1 = 6;// in v\n",
"V2 = 12;// in V\n",
"// -R2*Ix -R1*Ix-V1+V2= 0;\n",
"Ix = (V2-V1)/(R1+R2);// in A\n",
"Vth = V1+R1*Ix;// in V\n",
"Rth = (R1*R2)/(R1+R2);// in ohm\n",
"I_N = Vth/Rth;// in A\n",
"I = (I_N*Rth)/(Rth+R_L);// in A\n",
"disp(I,'The current in A is'); \n",
"\n",
"// Note: At last, there is calculation error to find the value of I, so the answer in the book is wrong."
   ]
   }
,
{
		   "cell_type": "markdown",
		   "metadata": {},
		   "source": [
			"## Example 2.27: Current_in_4_ohm_resistor.sce"
		   ]
		  },
  {
"cell_type": "code",
	   "execution_count": null,
	   "metadata": {
	    "collapsed": true
	   },
	   "outputs": [],
"source": [
"// Exa 2.27\n",
"clc;\n",
"clear;\n",
"close;\n",
"format('v',5)\n",
"// Given data\n",
"R1 = 3;// in ohm\n",
"R2 = 6;// in ohm\n",
"R_L = 4;// in ohm\n",
"V = 27;// in V\n",
"I=3;// in A\n",
"// -I1+I2= I     (i)\n",
"// Applying KVL: I1*R1+I2*R2=V  (ii)\n",
"A= [-1 R1; 1 R2];\n",
"B= [I V]\n",
"I= B*A^-1;// Solving eq(i) and (2) by Matrix method\n",
"I1= I(1);// in A\n",
"I2= I(2);// in A\n",
"Vth= R2*I2;// in V\n",
"Rth= R1*R2/(R1+R2);// in ohm\n",
"// current in 4 ohm resistor \n",
"I= Vth/(Rth+R_L);// in A\n",
"disp(I,'The current in 4 ohm resistor in A is : ')"
   ]
   }
,
{
		   "cell_type": "markdown",
		   "metadata": {},
		   "source": [
			"## Example 2.28: Current_in_20_ohm_resistor.sce"
		   ]
		  },
  {
"cell_type": "code",
	   "execution_count": null,
	   "metadata": {
	    "collapsed": true
	   },
	   "outputs": [],
"source": [
"// Exa 2.28\n",
"clc;\n",
"clear;\n",
"close;\n",
"format('v',6)\n",
"// Given data\n",
"R1 = 20;// in ohm\n",
"R2 = 12;// in ohm\n",
"R3 = 8;// in ohm\n",
"V1 = 90;// in V\n",
"V2 = 60;// in V\n",
"R_T = R1 + ((R2*R3)/(R2+R3));// in ohm\n",
"I_T = V1/R_T;// in A\n",
"I1 = I_T;// in A\n",
"R_T = R2 + ((R1*R3)/(R1+R3));// in ohm\n",
"I_T = V2/R_T;// in A\n",
"I2 = (R3/(R3+R1))*I_T;// in A\n",
"R_T = R1 + ((R2*R3)/(R2+R3));// in ohm\n",
"I_T = 2;// in A (given)\n",
"R = (R2*R3)/(R2+R3);// in ohm\n",
"I3 = (R/(R1+R))*I_T;// in A\n",
"// current in 20 ohm resistor \n",
"I20 = I1-I2-I3;// in A\n",
"disp(I20,'The current in 20 ohm resistor in A is');"
   ]
   }
,
{
		   "cell_type": "markdown",
		   "metadata": {},
		   "source": [
			"## Example 2.29: Current_in_resistor_R2.sce"
		   ]
		  },
  {
"cell_type": "code",
	   "execution_count": null,
	   "metadata": {
	    "collapsed": true
	   },
	   "outputs": [],
"source": [
"// Exa 2.29\n",
"clc;\n",
"clear;\n",
"close;\n",
"format('v',7)\n",
"// Given data\n",
"R1 = 10;// in ohm\n",
"R2 = 20;// in ohm\n",
"R3 = 60;// in ohm\n",
"R4 = 30;// in ohm\n",
"E1 = 120;// in V\n",
"E2 = 60;// in V\n",
"R_T = ((R2*R3)/(R2+R3)) + R4+R1;// in ohm\n",
"I_T = E1/R_T;// in A\n",
"I1 = (R3/(R2+R3))*I_T;// in A\n",
"R_T = ( ((R1+R4)*R2)/((R1+R4)+R2) ) + R3;// in ohm\n",
"I_T = E2/R_T;// in A\n",
"I2 = ((R1+R4)/(R1+R4+R2))*I_T;// in A\n",
"// current through R2 resistor \n",
"I= I1+I2;// in A\n",
"disp(I,'The current through R2 resistor in A is');"
   ]
   }
,
{
		   "cell_type": "markdown",
		   "metadata": {},
		   "source": [
			"## Example 2.2: Value_of_current_across_12_ohm.sce"
		   ]
		  },
  {
"cell_type": "code",
	   "execution_count": null,
	   "metadata": {
	    "collapsed": true
	   },
	   "outputs": [],
"source": [
"// Exa 2.2\n",
"clc;\n",
"clear;\n",
"close;\n",
"format('v',5)\n",
"// Given data\n",
"R1 = 5;// in ohm\n",
"Vth= 10;// in ohm\n",
"R2 = 7;// in ohm\n",
"R3=10;// in ohm\n",
"R_L = 12;// in ohm\n",
"V = 20;// in ohm\n",
"Vth = (Vth*V)/(R1+R3);// in V\n",
"Rth = R2 + ((Vth*R1)/(Vth+R1));// in ohm\n",
"// The current through 12 ohm resistor \n",
"I = Vth/(Rth+R_L);// in A\n",
"disp(I,'The current through 12 ohm resistor in A is');"
   ]
   }
,
{
		   "cell_type": "markdown",
		   "metadata": {},
		   "source": [
			"## Example 2.30: Current_in_all_resistor.sce"
		   ]
		  },
  {
"cell_type": "code",
	   "execution_count": null,
	   "metadata": {
	    "collapsed": true
	   },
	   "outputs": [],
"source": [
"// Exa 2.30\n",
"clc;\n",
"clear;\n",
"close;\n",
"format('v',5)\n",
"// Given data\n",
"R1 = 4;// in ohm\n",
"R2 = 4;// in ohm\n",
"R3 = 8;// in ohm\n",
"Ig = 3;// in A \n",
"V = 15;// in V\n",
"I1 = R1/(R1+R2)*Ig;// in A\n",
"I2 = -I1;// in A\n",
"I3 = 0;// in A\n",
"R_T = ((R1+R2)*R3)/((R1+R2)+R3);// in ohm\n",
"I_T = V/R_T;// in A\n",
"I_2= R3/(R1+R2+R3)*I_T;// in A\n",
"I_1 = I_2;// in A\n",
"// Total current through upper 4 Ω resistor \n",
"tot_cur_up_4ohm= I1+I2;// in A\n",
"// Total current through lower 4 Ω resistor \n",
"tot_cur_low_4ohm= I_1+I_2;// in A\n",
"// Total current through 8Ω resistor \n",
"tot_cur_8ohm= I3+I_T;// in A\n",
"disp(tot_cur_up_4ohm,'Total current through upper 4 Ω resistor in A is : ')\n",
"disp(tot_cur_low_4ohm,'Total current through lower 4 Ω resistor in A is : ')\n",
"disp(tot_cur_8ohm,'Total current through 8 Ω resistor in A is : ')"
   ]
   }
,
{
		   "cell_type": "markdown",
		   "metadata": {},
		   "source": [
			"## Example 2.31: Current_in_all_resistor.sce"
		   ]
		  },
  {
"cell_type": "code",
	   "execution_count": null,
	   "metadata": {
	    "collapsed": true
	   },
	   "outputs": [],
"source": [
"// Exa 2.31\n",
"clc;\n",
"clear;\n",
"close;\n",
"format('v',5)\n",
"// Given data\n",
"R1 = 5;// in ohm\n",
"R2 = 5;// in ohm\n",
"R3 = 10;// in ohm\n",
"V = 10;// in V\n",
"Ig = 2;// in A \n",
"I2 = (R1/R3)*Ig;// in A\n",
"I1 = I2;// in A\n",
"I3 = 0;// in A\n",
"R_T = ((R1+R2)*R3)/((R1+R2)+R3);// in ohm\n",
"I_T = V/R_T;// in A\n",
"I_2 = (R3/((R1+R2)+R3))*I_T;// in A\n",
"I_1 = I_2;// in A\n",
"I_3 = I_1;// in A\n",
"// Total current through upper in 5 Ω resistor \n",
"tot_cur_up_5ohm = I1-I2;// in A\n",
"// Total current through lower in 5 Ω resistor \n",
"tot_cur_low_5ohm = I_1+I_2;// in A\n",
"// Total current through 10 Ω resistor \n",
"tot_cur_10ohm =  I3+I_3;// in A\n",
"disp(tot_cur_up_5ohm ,'The total current through upper in 5 Ω resistor in A is');\n",
"disp(tot_cur_low_5ohm,'The total current through lower in 5 Ω resistor in A is');\n",
"disp(tot_cur_10ohm,'The total current through in 10 Ω resistor in A is');"
   ]
   }
,
{
		   "cell_type": "markdown",
		   "metadata": {},
		   "source": [
			"## Example 2.3: Value_of_current_across_12_ohm.sce"
		   ]
		  },
  {
"cell_type": "code",
	   "execution_count": null,
	   "metadata": {
	    "collapsed": true
	   },
	   "outputs": [],
"source": [
"// Exa 2.3\n",
"clc;\n",
"clear;\n",
"close;\n",
"format('v',6)\n",
"// Given data\n",
"R1 = 6;// in ohm\n",
"R2 = 7;// in ohm\n",
"R3 = 4;// in ohm\n",
"R_L = 12;// in ohm\n",
"V = 30;// in V\n",
"Vth = (R3*V)/(R3+R1);// in V\n",
"Rth = R2 + ((R3*R1)/(R3+R1)) ;// in ohm\n",
"I_N = Vth/Rth;// in A\n",
"//The current through 12 ohm resistor \n",
"I = (I_N*Rth)/(Rth+R_L);// in ohm\n",
"disp(I,'The current through 12 ohm resistor in A is');"
   ]
   }
,
{
		   "cell_type": "markdown",
		   "metadata": {},
		   "source": [
			"## Example 2.4: Load_resistor.sce"
		   ]
		  },
  {
"cell_type": "code",
	   "execution_count": null,
	   "metadata": {
	    "collapsed": true
	   },
	   "outputs": [],
"source": [
"// Exa 2.4\n",
"clc;\n",
"clear;\n",
"close;\n",
"format('v',5)\n",
"// Given data\n",
"R1 = 5;// in ohm\n",
"R2 = 10;// in ohm\n",
"R3 = 7;// in ohm\n",
"V = 20;// in V\n",
"Vth = R2*V/(R1+R2);// in V\n",
"Rth = R3 + ((R2*R1)/(R2+R1));// in ohm\n",
"R_L = Rth;// in ohm\n",
"disp(R_L,'The value of load resistance in ohm is');\n",
"Pmax = (Vth^2)/(4*R_L);// in W\n",
"disp(Pmax,'The magnitude of maximum power in W is');"
   ]
   }
,
{
		   "cell_type": "markdown",
		   "metadata": {},
		   "source": [
			"## Example 2.5: Current_across_4_ohm_resistor.sce"
		   ]
		  },
  {
"cell_type": "code",
	   "execution_count": null,
	   "metadata": {
	    "collapsed": true
	   },
	   "outputs": [],
"source": [
"// Exa 2.5\n",
"clc;\n",
"clear;\n",
"close;\n",
"format('v',5)\n",
"// Given data\n",
"V1 = 12;// in V\n",
"V2 = 10;// in V\n",
"R1 = 6;// in ohm\n",
"R2 = 7;// in ohm\n",
"R3 = 4;// in ohm\n",
"R_T = R1 + ( (R2*R3)/(R2+R3) );// in ohm\n",
"I_T = V1/R_T;// in A\n",
"I1 = (R2/(R2+R3))*I_T;// in A\n",
"R_T = R2 + ( (R1*R3)/(R1+R3) );// in ohm\n",
"I_T = V2/R_T;// in A\n",
"I2 = (R1*I_T)/(R1+R3);// in A\n",
"// current across 4 ohm resistor \n",
"I = I1+I2;// in A\n",
"disp(I,'The current across 4 ohm resistor in A is');"
   ]
   }
,
{
		   "cell_type": "markdown",
		   "metadata": {},
		   "source": [
			"## Example 2.6: Current_in_branch_AB.sce"
		   ]
		  },
  {
"cell_type": "code",
	   "execution_count": null,
	   "metadata": {
	    "collapsed": true
	   },
	   "outputs": [],
"source": [
"// Exa 2.6\n",
"clc;\n",
"clear;\n",
"close;\n",
"format('v',5)\n",
"// Given data\n",
"R1 = 2;// in ohm\n",
"R2 = 3;// in ohm\n",
"R3 = 1;// in ohm\n",
"R4= 2;// in ohm\n",
"V1 = 4.2;// in V\n",
"V2 = 3.5;// in V\n",
"R_T =R1+R3+R2*R4/(R2+R4);// in ohm\n",
"I_T = V1/R_T;// in A\n",
"I1 = (R1/(R1+R2))*I_T;// in A\n",
"R = R1+R3;// in ohm\n",
"R_desh = (R*R2)/(R+R2);// in ohm\n",
"R_T = R_desh+R1;// in ohm\n",
"I_T = V2/R_T;// in A\n",
"I2 = (R2/(R2+R))*I_T;// in A\n",
"// current in the branch AB \n",
"I = I2-I1;// in A\n",
"disp(I,'The current in the branch AB of the circuit in A is');"
   ]
   }
,
{
		   "cell_type": "markdown",
		   "metadata": {},
		   "source": [
			"## Example 2.7: Current_through_8_ohm_resistor.sce"
		   ]
		  },
  {
"cell_type": "code",
	   "execution_count": null,
	   "metadata": {
	    "collapsed": true
	   },
	   "outputs": [],
"source": [
"// Exa 2.7\n",
"clc;\n",
"clear;\n",
"close;\n",
"format('v',5)\n",
"// Given data\n",
"R1 = 2;// in ohm\n",
"R2 = 4;// in ohm\n",
"R3 = 8;// in ohm\n",
"Ig = 2;// in A\n",
"V = 20;// in V\n",
"R_T = R1+R3;// in ohm\n",
"I1 = V/R_T;// in A\n",
"I2 = (R1/(R1+R3))*Ig;// in A\n",
"// current through in 8 ohm resistor \n",
"I = I1-I2;// in A\n",
"disp(I,'The current through in 8 ohm resistor in A is');"
   ]
   }
,
{
		   "cell_type": "markdown",
		   "metadata": {},
		   "source": [
			"## Example 2.8: Current_across_16_ohm_resistor.sce"
		   ]
		  },
  {
"cell_type": "code",
	   "execution_count": null,
	   "metadata": {
	    "collapsed": true
	   },
	   "outputs": [],
"source": [
"// Exa 2.8\n",
"clc;\n",
"clear;\n",
"close;\n",
"format('v',7)\n",
"// Given data\n",
"R1 = 4;// in ohm\n",
"R2 = 24;// in ohm\n",
"R_L = 16;// in ohm\n",
"V1 = 20;// in V\n",
"V2 = 30;// in V\n",
"// V1-R1*I-R2*I-V2 = 0;\n",
"I= (V1-V2)/(R1+R2)\n",
"// V1-R1*I-Vth = 0;\n",
"Vth = V1-R1*I;// in V\n",
"Rth = (R1*R2)/(R1+R2);// in ohm\n",
"// current through 16 ohm resistor \n",
"I_L = Vth/(Rth+R_L);// in A\n",
"disp(I_L,'The current through 16 ohm resistor in A is');"
   ]
   }
,
{
		   "cell_type": "markdown",
		   "metadata": {},
		   "source": [
			"## Example 2.9: Current_through_6_ohm_resistor.sce"
		   ]
		  },
  {
"cell_type": "code",
	   "execution_count": null,
	   "metadata": {
	    "collapsed": true
	   },
	   "outputs": [],
"source": [
"// Exa 2.9\n",
"clc;\n",
"clear;\n",
"close;\n",
"format('v',5)\n",
"// Given data\n",
"R1 = 6;// in ohm\n",
"R2 = 4;// in ohm\n",
"R3 = 3;// in ohm\n",
"R_L = 6;// in ohm\n",
"V1 = 6;// in V\n",
"V2 = 15;// in V\n",
"// V1 - R1*I - R3*I -V2 = 0\n",
"I= (V1-V2)/(R1+R3);\n",
"// Vth - R3*I -V2 = 0;\n",
"Vth =V2+R3*I;// in V\n",
"Rth = ((R1*R3)/(R1+R3)) + R2;// in ohm\n",
"// current through 6 ohm resistance \n",
"I_L = Vth/(Rth+R_L);// in A\n",
"disp(I_L,'The current through 6 ohm resistance in A is');"
   ]
   }
],
"metadata": {
		  "kernelspec": {
		   "display_name": "Scilab",
		   "language": "scilab",
		   "name": "scilab"
		  },
		  "language_info": {
		   "file_extension": ".sce",
		   "help_links": [
			{
			 "text": "MetaKernel Magics",
			 "url": "https://github.com/calysto/metakernel/blob/master/metakernel/magics/README.md"
			}
		   ],
		   "mimetype": "text/x-octave",
		   "name": "scilab",
		   "version": "0.7.1"
		  }
		 },
		 "nbformat": 4,
		 "nbformat_minor": 0
}
