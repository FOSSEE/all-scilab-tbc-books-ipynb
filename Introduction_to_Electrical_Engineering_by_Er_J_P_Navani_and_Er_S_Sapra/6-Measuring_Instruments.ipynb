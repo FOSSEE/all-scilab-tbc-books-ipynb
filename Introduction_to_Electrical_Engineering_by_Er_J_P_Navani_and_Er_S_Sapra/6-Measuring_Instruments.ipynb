{
"cells": [
 {
		   "cell_type": "markdown",
	   "metadata": {},
	   "source": [
       "# Chapter 6: Measuring Instruments"
	   ]
	},
{
		   "cell_type": "markdown",
		   "metadata": {},
		   "source": [
			"## Example 6.10: Number_of_revolutio.sce"
		   ]
		  },
  {
"cell_type": "code",
	   "execution_count": null,
	   "metadata": {
	    "collapsed": true
	   },
	   "outputs": [],
"source": [
"// Exa 6.10\n",
"clc;\n",
"clear;\n",
"close;\n",
"format('v',6)\n",
"// Given data\n",
"N = 100;\n",
"I = 20;// in A\n",
"V = 210;// in V\n",
"pf = 0.8;// in lad\n",
"Er = 350;// in rev\n",
"a = 3.36;// assumed\n",
"Et = (a*3600)/3600;// in kWh\n",
"// 1 kWh = 100;//  revolution\n",
"Et = Et*N;// revolution\n",
"// Percentage error\n",
"PerError = ((Er-Et)/Et)*100;// in %\n",
"disp(PerError,'The percentage error in % is');"
   ]
   }
,
{
		   "cell_type": "markdown",
		   "metadata": {},
		   "source": [
			"## Example 6.11: Percentage_error.sce"
		   ]
		  },
  {
"cell_type": "code",
	   "execution_count": null,
	   "metadata": {
	    "collapsed": true
	   },
	   "outputs": [],
"source": [
"// Exa 6.11\n",
"clc;\n",
"clear;\n",
"close;\n",
"format('v',6)\n",
"// Given data\n",
"I = 5;// in A\n",
"V = 230;// in V\n",
"N = 61;// number of revolution\n",
"t = 37;// in sec\n",
"// speed of the disc\n",
"discSpeed= 500;// in rev/kWh\n",
"Er = N/discSpeed;\n",
"Et = (V*I*t)/(3600*100);\n",
"// percentage error\n",
"PerError = ((Er-Et)/Et)*100;// in %\n",
"disp(PerError,'The percentage error in % is');"
   ]
   }
,
{
		   "cell_type": "markdown",
		   "metadata": {},
		   "source": [
			"## Example 6.1: Required_shunt_resistance.sce"
		   ]
		  },
  {
"cell_type": "code",
	   "execution_count": null,
	   "metadata": {
	    "collapsed": true
	   },
	   "outputs": [],
"source": [
"// Exa 6.1\n",
"clc;\n",
"clear;\n",
"close;\n",
"format('v',6)\n",
"// Given data\n",
"Rm = 8;// in ohm\n",
"Im = 20;// in mA\n",
"Im = Im * 10^-3;// in A\n",
"I = 1;// in A\n",
"// Multiplying factor\n",
"N = I/Im;\n",
"// Shunt resistance\n",
"Rsh = Rm/(N-1);// in ohm\n",
"disp(Rsh,'The shunt resistance required in Ω is');"
   ]
   }
,
{
		   "cell_type": "markdown",
		   "metadata": {},
		   "source": [
			"## Example 6.2: Multiplying_factor.sce"
		   ]
		  },
  {
"cell_type": "code",
	   "execution_count": null,
	   "metadata": {
	    "collapsed": true
	   },
	   "outputs": [],
"source": [
"// Exa 6.2\n",
"clc;\n",
"clear;\n",
"close;\n",
"format('v',6)\n",
"// Given data\n",
"Rm = 6;// in ohm\n",
"Rsh = 0.025;// in ohm\n",
"N = 1 + (Rm/Rsh);// multiplying factor\n",
"disp(N,'The multiplying factor is');"
   ]
   }
,
{
		   "cell_type": "markdown",
		   "metadata": {},
		   "source": [
			"## Example 6.3: Resistance_to_be_connected_in_parallel_and_series.sce"
		   ]
		  },
  {
"cell_type": "code",
	   "execution_count": null,
	   "metadata": {
	    "collapsed": true
	   },
	   "outputs": [],
"source": [
"// Exa 6.3\n",
"clc;\n",
"clear;\n",
"close;\n",
"format('v',7)\n",
"// Given data\n",
"Rm = 5;// in ohm\n",
"Im = 15;// in mA\n",
"Im = Im * 10^-3;// in A\n",
"I = 1;// in A\n",
"N = I/Im;// multiplying factor\n",
"Rsh = Rm/(N-1);// in ohm\n",
"disp(Rsh,'The resiatnce to be connected in parallel in Ω is');\n",
"V = 10;// in V\n",
"Rs = (V/Im)-Rm;// in ohm\n",
"disp(Rs,'The resiatnce to be connected in series in Ω is');"
   ]
   }
,
{
		   "cell_type": "markdown",
		   "metadata": {},
		   "source": [
			"## Example 6.4: Current_range.sce"
		   ]
		  },
  {
"cell_type": "code",
	   "execution_count": null,
	   "metadata": {
	    "collapsed": true
	   },
	   "outputs": [],
"source": [
"// Exa 6.4\n",
"clc;\n",
"clear;\n",
"close;\n",
"format('v',5)\n",
"// Given data\n",
"V=250;// full scale voltage reading in V\n",
"Rm = 2;// in ohm\n",
"Rsh = 2;// in m ohm\n",
"Rsh = Rsh * 10^-3;// in ohm\n",
"R = 5000;// in ohm\n",
"Im = V/(Rm+R);// in A\n",
"Ish = (Im*Rm)/Rsh;// in A\n",
"// Current range of instrument\n",
"I = Im+Ish;// in A\n",
"disp(I,'The current range of instrument in A is');"
   ]
   }
,
{
		   "cell_type": "markdown",
		   "metadata": {},
		   "source": [
			"## Example 6.5: Percentage_error.sce"
		   ]
		  },
  {
"cell_type": "code",
	   "execution_count": null,
	   "metadata": {
	    "collapsed": true
	   },
	   "outputs": [],
"source": [
"// Exa 6.5\n",
"clc;\n",
"clear;\n",
"close;\n",
"format('v',6)\n",
"// Given data\n",
"V = 230;// in V\n",
"I = 35;// in A\n",
"N = 200;\n",
"t = 64;// in sec\n",
"kwh = 500;\n",
"phi= acosd(0.8);// in °\n",
"Er = N/kwh;// in kWh\n",
"Et =  V*I*cosd(phi)*t;// in Joules\n",
"Et = Et/3600;// in W hour\n",
"Et = Et * 10^-3;// in kWh\n",
"// percentage error\n",
"PerError = ((Er-Et)/Et)*100;// in %\n",
"disp(PerError,'The percentage error in % is');"
   ]
   }
,
{
		   "cell_type": "markdown",
		   "metadata": {},
		   "source": [
			"## Example 6.6: Percentage_error.sce"
		   ]
		  },
  {
"cell_type": "code",
	   "execution_count": null,
	   "metadata": {
	    "collapsed": true
	   },
	   "outputs": [],
"source": [
"// Exa 6.6\n",
"clc;\n",
"clear;\n",
"close;\n",
"format('v',6)\n",
"// Given data\n",
"I = 50;// in A\n",
"V = 230;// in V\n",
"N = 61;\n",
"t = 37;// in sec\n",
"KWh = 500;\n",
"phi= acosd(1);// in °\n",
"Er = N/KWh;// in kWh\n",
"Et = V*I*cosd(phi)*t;// in Joules\n",
"Et = Et/3600;// in Wh\n",
"Et = Et*10^-3;// in kWh\n",
"// Percentage error\n",
"PerError = ((Er-Et)/Et)*100;// in %\n",
"disp(PerError,'The percentage error in % is');"
   ]
   }
,
{
		   "cell_type": "markdown",
		   "metadata": {},
		   "source": [
			"## Example 6.7: Series_resistance.sce"
		   ]
		  },
  {
"cell_type": "code",
	   "execution_count": null,
	   "metadata": {
	    "collapsed": true
	   },
	   "outputs": [],
"source": [
"// Exa 6.7\n",
"clc;\n",
"clear;\n",
"close;\n",
"format('v',9)\n",
"// Given data\n",
"Im = 20;// in mA\n",
"Im =  Im * 10^-3;// in A\n",
"Vm = 50;// in mV\n",
"Vm = Vm * 10^-3;// in V\n",
"V = 500;// in V\n",
"Rm = Vm/Im;// in ohm\n",
"Rs = (V/Im)-Rm;// in ohm\n",
"disp(Rs,'The series resistance in ohm is');"
   ]
   }
,
{
		   "cell_type": "markdown",
		   "metadata": {},
		   "source": [
			"## Example 6.8: Value_of_Rs_and_Rsh.sce"
		   ]
		  },
  {
"cell_type": "code",
	   "execution_count": null,
	   "metadata": {
	    "collapsed": true
	   },
	   "outputs": [],
"source": [
"// Exa 6.8\n",
"clc;\n",
"clear;\n",
"close;\n",
"format('v',6)\n",
"// Given data\n",
"Rm = 50;// in ohm\n",
"Im = 10;// in mA\n",
"Im = Im * 10^-3;// in A\n",
"V = 100;// in V\n",
"Rs = (V/Im)-Rm;// in ohm\n",
"disp(Rs,'The value of Rs in Ω is');\n",
"N = 1/Im;\n",
"Rsh = Rm/(N-1);// in ohm\n",
"disp(Rsh,'The value of Rsh in Ω is');"
   ]
   }
,
{
		   "cell_type": "markdown",
		   "metadata": {},
		   "source": [
			"## Example 6.9: Percentage_error.sce"
		   ]
		  },
  {
"cell_type": "code",
	   "execution_count": null,
	   "metadata": {
	    "collapsed": true
	   },
	   "outputs": [],
"source": [
"// Exa 6.9\n",
"clc;\n",
"clear;\n",
"close;\n",
"format('v',5)\n",
"// Given data\n",
"I = 40;// in A\n",
"V = 230;// in V\n",
"N = 600;\n",
"t = 46;// in sec\n",
"phi= acosd(1);// in °\n",
"P = V*I*cosd(phi);// in W\n",
"P = P * 10^-3;// in kW\n",
"// 1 kWh = 500 revolution \n",
"P = P * 500;// in revolution\n",
"T = (3600/t)*60;// in revolution\n",
"// Percentage error\n",
"PerError = ((T-P)/P)*100;// in %\n",
"disp(PerError,'The percentage error in % is');"
   ]
   }
],
"metadata": {
		  "kernelspec": {
		   "display_name": "Scilab",
		   "language": "scilab",
		   "name": "scilab"
		  },
		  "language_info": {
		   "file_extension": ".sce",
		   "help_links": [
			{
			 "text": "MetaKernel Magics",
			 "url": "https://github.com/calysto/metakernel/blob/master/metakernel/magics/README.md"
			}
		   ],
		   "mimetype": "text/x-octave",
		   "name": "scilab",
		   "version": "0.7.1"
		  }
		 },
		 "nbformat": 4,
		 "nbformat_minor": 0
}
