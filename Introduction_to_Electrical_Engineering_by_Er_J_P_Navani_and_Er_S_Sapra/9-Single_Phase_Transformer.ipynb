{
"cells": [
 {
		   "cell_type": "markdown",
	   "metadata": {},
	   "source": [
       "# Chapter 9: Single Phase Transformer"
	   ]
	},
{
		   "cell_type": "markdown",
		   "metadata": {},
		   "source": [
			"## Example 9.10: Iron_and_full_load_copper_loss.sce"
		   ]
		  },
  {
"cell_type": "code",
	   "execution_count": null,
	   "metadata": {
	    "collapsed": true
	   },
	   "outputs": [],
"source": [
"// Exa 9.10\n",
"clc;\n",
"clear;\n",
"close;\n",
"format('v',9)\n",
"// Given data\n",
"phi= acosd(1);// in °\n",
"Pout = 500;// in kW\n",
"Pout = Pout*10^3;// in W\n",
"Eta = 90;// in %\n",
"n=1/2;\n",
"// For full load, Eta= Pout*100/(Pout+Pi+Pcu_f1) or Pi+Pcu_f1= (Pout*100-Eta*Pout)/Eta                                       (i)\n",
"// For half load, Eta= n*Pout*100/(n*Pout+Pi+n^2*Pcu_f1) or Pi+n^2*Pcu_f1= (n*Pout*100-n*Eta*Pout)/Eta    (ii)\n",
"// From eq(i) and (ii)\n",
"Pcu_fl= [(n*Pout*100-n*Eta*Pout)/Eta-(Pout*100-Eta*Pout)/Eta]/(n^2-1)\n",
"Pi=(Pout*100-Eta*Pout)/Eta-Pcu_fl\n",
"disp(Pi,'The iron loss in W is : ')\n",
"disp(Pcu_fl,'The full load copper loss in watt')"
   ]
   }
,
{
		   "cell_type": "markdown",
		   "metadata": {},
		   "source": [
			"## Example 9.11: Maximum_core_flux.sce"
		   ]
		  },
  {
"cell_type": "code",
	   "execution_count": null,
	   "metadata": {
	    "collapsed": true
	   },
	   "outputs": [],
"source": [
"// Exa 9.11\n",
"clc;\n",
"clear;\n",
"close;\n",
"format('v',6)\n",
"// Given data\n",
"Io = 10;// in A\n",
"phi_o= acosd(0.25);// in °\n",
"V1 = 400;// in V\n",
"f = 50;// in Hz\n",
"N1 =500;\n",
"Im = Io*sind(phi_o);// in A\n",
"disp(Im,'The magnetizing component of no load current in A is');\n",
"Pi = V1*Io*cosd(phi_o);// in W\n",
"disp(Pi,'The iron loss in W is');\n",
"E1 = V1;// in V\n",
"//E1 v= 4.44*f*phi_m*N1;\n",
"phi_m = E1/(4.44*f*N1);// in Wb\n",
"phi_m=phi_m*10^3;// in mWb\n",
"disp(phi_m,'The maximum value of flux in mWb is');"
   ]
   }
,
{
		   "cell_type": "markdown",
		   "metadata": {},
		   "source": [
			"## Example 9.12: Total_copper_loss.sce"
		   ]
		  },
  {
"cell_type": "code",
	   "execution_count": null,
	   "metadata": {
	    "collapsed": true
	   },
	   "outputs": [],
"source": [
"// Exa 9.12\n",
"clc;\n",
"clear;\n",
"close;\n",
"format('v',6)\n",
"// Given data\n",
"Rating = 30*10^3;// in VA\n",
"V1 = 2000;// in V\n",
"V2 = 200;// in V\n",
"f = 50;// in Hz\n",
"R1 = 3.5;// in ohm\n",
"X1 = 4.5;// in ohm\n",
"R2 = 0.015;// in  ohm\n",
"X2 = 0.02;// in ohm\n",
"K = V2/V1;\n",
"R1e = R1 + (R2/(K^2));// in ohm\n",
"disp(R1e,'The equivalent resistance to primary side in ohm is');\n",
"X1e = X1 + (X2/(K^2));// in ohm\n",
"disp(X1e,'The equivalent reactance to primary side in ohm is');\n",
"Z1e = sqrt( (R1e^2) + (X1e^2) );// in ohm\n",
"disp(Z1e,'The equivalent impedance to primary side in ohm is');\n",
"I1 = Rating/V1;// in A\n",
"// Total copper loss in transformer\n",
"Pcu_total = (I1^2)*R1e;// in W\n",
"disp(Pcu_total,'Total copper loss in W is');"
   ]
   }
,
{
		   "cell_type": "markdown",
		   "metadata": {},
		   "source": [
			"## Example 9.13: Secondary_voltage_at_full_load.sce"
		   ]
		  },
  {
"cell_type": "code",
	   "execution_count": null,
	   "metadata": {
	    "collapsed": true
	   },
	   "outputs": [],
"source": [
"// Exa 9.13\n",
"clc;\n",
"clear;\n",
"close;\n",
"format('v',7)\n",
"// Given data\n",
"Rating = 10;// in KVA\n",
"phi= acosd(0.8)\n",
"V1 = 2000;// in V\n",
"V2 = 400;// in V\n",
"R1 = 5.5;// in ohm\n",
"X1 = 12;// in ohm\n",
"R2 = 0.2;// in ohm\n",
"X2 = 0.45;// in ohm\n",
"K = V2/V1;\n",
"//R1e = R1 + R_2 = R1 + (R2/(K^2));\n",
"R1e = R1 + (R2/(K^2));// in ohm\n",
"//X1e = X1 + X_ = X1 + (X2/(K^2));\n",
"X1e = X1 + (X2/(K^2));// in ohm\n",
"I2 = (Rating*10^3)/V2;// in A\n",
"R2e = (K^2)*R1e;// in ohm\n",
"X2e = (K^2)*X1e;// in ohm\n",
"Vdrop = I2 * ( (R2e*cosd(phi)) + (X2e*sind(phi)) );// voltage drop in V\n",
"//E2 = V2 +Vd;\n",
"E2 = V2;// in V\n",
"// The full load secondary voltage \n",
"V2 = E2-Vdrop;// in V\n",
"disp(V2,'The full load secondary voltage in V is');"
   ]
   }
,
{
		   "cell_type": "markdown",
		   "metadata": {},
		   "source": [
			"## Example 9.14: Percentage_of_full_load.sce"
		   ]
		  },
  {
"cell_type": "code",
	   "execution_count": null,
	   "metadata": {
	    "collapsed": true
	   },
	   "outputs": [],
"source": [
"// Exa 9.14\n",
"clc;\n",
"clear;\n",
"close;\n",
"format('v',6)\n",
"// Given data\n",
"Rating = 40*10^3;// in VA\n",
"Pi = 400;// in W\n",
"Pcu_f1  = 800;// in W\n",
"phi= acosd(0.9);// in °\n",
"Eta_f1 = ((Rating*cosd(phi))/( (Rating*cosd(phi)) + Pi + Pcu_f1 ))*100;// in %\n",
"disp(Eta_f1,'Full load efficiency in % is');\n",
"// percentage of the full load\n",
"Eta_max = Rating*sqrt( Pi/Pcu_f1);// in KVA\n",
"Eta_max = Eta_max/Rating*100;// in %\n",
"disp(Eta_max,'The percentage of the full load in % is');"
   ]
   }
,
{
		   "cell_type": "markdown",
		   "metadata": {},
		   "source": [
			"## Example 9.15: Full_load_efficiency.sce"
		   ]
		  },
  {
"cell_type": "code",
	   "execution_count": null,
	   "metadata": {
	    "collapsed": true
	   },
	   "outputs": [],
"source": [
"// Exa 9.15\n",
"clc;\n",
"clear;\n",
"close;\n",
"format('v',6)\n",
"// Given data\n",
"Rating = 8*10^3;// in VA\n",
"phi= acosd(0.8);// in °\n",
"V1 = 400;// in V\n",
"V2 = 100;// in V\n",
"f = 50;// in Hz\n",
"Pi = 60;// in W\n",
"Wo = Pi;// in W\n",
"Pcu = 100;// in W\n",
"// The full load efficiency \n",
"Eta_f1 = ((Rating*cosd(phi))/((Rating*cosd(phi)) + Pi + Pcu))*100;// in %\n",
"disp(Eta_f1,'The full load efficiency in % is');"
   ]
   }
,
{
		   "cell_type": "markdown",
		   "metadata": {},
		   "source": [
			"## Example 9.16: Full_load_efficiency.sce"
		   ]
		  },
  {
"cell_type": "code",
	   "execution_count": null,
	   "metadata": {
	    "collapsed": true
	   },
	   "outputs": [],
"source": [
"// Exa 9.16\n",
"clc;\n",
"clear;\n",
"close;\n",
"format('v',6)\n",
"// Given data\n",
"Rating = 10*10^3;// in VA\n",
"phi= acosd(0.8);// in °\n",
"V1 = 500;// in V\n",
"V2 = 250;// in V\n",
"Pi = 200;// in W\n",
"Pcu = 300;// in W\n",
"Isc = 30;// in A\n",
"I1 = Rating/V1;// in A\n",
"// Pcu/(Pcu(f1)) = (Isc^2)/(I1^2);\n",
"Pcu_f1 = Pcu * ((I1^2)/(Isc^2));// in W\n",
"// The efficiency at full load\n",
"Eta_f1 = Rating*cosd(phi)/(Rating*cosd(phi) + Pi + Pcu_f1)*100;// in %\n",
"disp(Eta_f1,'The full load efficiency in % is');"
   ]
   }
,
{
		   "cell_type": "markdown",
		   "metadata": {},
		   "source": [
			"## Example 9.17: Maximum_efficiency_of_transformer.sce"
		   ]
		  },
  {
"cell_type": "code",
	   "execution_count": null,
	   "metadata": {
	    "collapsed": true
	   },
	   "outputs": [],
"source": [
"// Exa 9.17\n",
"clc;\n",
"clear;\n",
"close;\n",
"format('v',7)\n",
"// Given data\n",
"Rating = 20*10^3;// in VA\n",
"phi= acosd(0.8);// in °\n",
"V1 = 2000;// in V\n",
"V2 = 200;// in V\n",
"Pi = 120;// in W\n",
"Pcu = 300;// in W\n",
"Eta_max = Rating*(sqrt( Pi/Pcu ));// in VA\n",
"Pcu = Pi;// in W\n",
"// The maximum efficiency of transformer \n",
"Eta_max = ((Eta_max*cosd(phi))/( Eta_max*cosd(phi) + (2*Pi) ))*100;// in %\n",
"disp(Eta_max,'The maximum efficiency of transformer in % is');"
   ]
   }
,
{
		   "cell_type": "markdown",
		   "metadata": {},
		   "source": [
			"## Example 9.18: Equivalent_circuit_of_the_transformer.sce"
		   ]
		  },
  {
"cell_type": "code",
	   "execution_count": null,
	   "metadata": {
	    "collapsed": true
	   },
	   "outputs": [],
"source": [
"// Exa 9.18\n",
"clc;\n",
"clear;\n",
"close;\n",
"format('v',6)\n",
"// Given data\n",
"Turnratio = 5;\n",
"R1 = 0.5;// in ohm\n",
"R2 = 0.021;// in ohm\n",
"X1 = 3.2;// in ohm\n",
"X2 = 0.12;// in ohm\n",
"Rc = 350;// in ohm\n",
"Xm = 98;// in ohm\n",
"N1 = 5;\n",
"N2 = 1;\n",
"K = N2/N1;\n",
"// Evaluation of the equivalent parameters referred to secondary side \n",
"R2e = R2 + ((K^2)*R1);// in ohm\n",
"disp('The equivalent parameters referred to secondary side are : ')\n",
"disp('The value of  R_2e  is : '+string(R2e)+' Ω')\n",
"X2e = X2 + ((K^2)*X1);// in ohm\n",
"disp('The value of  X_2e  is : '+string(X2e)+' Ω')\n",
"R_c = (K^2)*Rc;// in ohm\n",
"disp('The value of  R''c  is : '+string(R_c)+' Ω')\n",
"X_m = (K^2)*Xm;// in ohm\n",
"disp('The value of  X''m  is : '+string(X_m)+' Ω')"
   ]
   }
,
{
		   "cell_type": "markdown",
		   "metadata": {},
		   "source": [
			"## Example 9.19: Equivalent_circuit_parameters.sce"
		   ]
		  },
  {
"cell_type": "code",
	   "execution_count": null,
	   "metadata": {
	    "collapsed": true
	   },
	   "outputs": [],
"source": [
"// Exa 9.19\n",
"clc;\n",
"clear;\n",
"close;\n",
"format('v',7)\n",
"// Given data\n",
"Rating = 100*10^3;// in VA\n",
"V1 = 11000;// in V\n",
"V2 = 220;// in V\n",
"Wo = 2*10^3;// in W\n",
"Vo = 220;// in V\n",
"Io = 45;// in A\n",
"phi_o = acosd(Wo/(Vo*Io));\n",
"I_c = Io*cosd(phi_o);// in A\n",
"I_m = Io*sind(phi_o);// in A\n",
"Ro= V2/I_c;// in ohm\n",
"Xo= V2/I_m;// in ohm\n",
"Wsc= 3*10^3;// in W\n",
"Vsc= 500;// in V\n",
"Isc= 9.09;// in A\n",
"R1e= Wsc/Isc^2;// in ohm\n",
"Z1e= Vsc/Isc;// in ohm\n",
"X1e= sqrt(Z1e^2-R1e^2);// in ohm\n",
"K= V2/V1;\n",
"R2e= K^2*R1e;// in ohm\n",
"X2e= K^2*X1e;// in ohm\n",
"Z2e= K^2*Z1e;// in ohm\n",
"disp('The value of R''o is : '+string(Ro)+' Ω')\n",
"disp('The value of X''o is : '+string(Xo)+' Ω')\n",
"disp('The value of R1e is : '+string(R1e)+' Ω')\n",
"disp('The value of Z1e is : '+string(Z1e)+' Ω')\n",
"disp('The value of X1e is : '+string(X1e)+' Ω')\n",
"disp('The value of R2e is : '+string(R2e)+' Ω')\n",
"disp('The value of X2e is : '+string(X2e)+' Ω')\n",
"disp('The value of Z2e is : '+string(Z2e)+' Ω')"
   ]
   }
,
{
		   "cell_type": "markdown",
		   "metadata": {},
		   "source": [
			"## Example 9.1: Primary_turns_primary_and_secondary_full_load_current.sce"
		   ]
		  },
  {
"cell_type": "code",
	   "execution_count": null,
	   "metadata": {
	    "collapsed": true
	   },
	   "outputs": [],
"source": [
"// Exa 9.1\n",
"clc;\n",
"clear;\n",
"close;\n",
"format('v',6)\n",
"// Given data\n",
"V1 = 3000;// in V\n",
"V2 = 300;// in V\n",
"N2 = 86;// in Turns\n",
"Rating = 60*10^3;// in VA\n",
"K = V2/V1;\n",
"//Transformer ratio,  N2/N1 = K;\n",
"N1 = N2/K;// in turns\n",
"disp(N1,'The numbers of primary turns is');\n",
"I2 = Rating/V2;// in A\n",
"disp(I2,'The secondary full load current in A is');\n",
"I1 = Rating/V1;// in A\n",
"disp(I1,'The primary full load current in A is');"
   ]
   }
,
{
		   "cell_type": "markdown",
		   "metadata": {},
		   "source": [
			"## Example 9.20: Efficiency_of_transformer.sce"
		   ]
		  },
  {
"cell_type": "code",
	   "execution_count": null,
	   "metadata": {
	    "collapsed": true
	   },
	   "outputs": [],
"source": [
"// Exa 9.20\n",
"clc;\n",
"clear;\n",
"close;\n",
"format('v',6)\n",
"// Given data\n",
"V1 = 250;// in V\n",
"V2 = 500;// in V\n",
"Pcu = 100;// in W\n",
"Pi = 80;// in W\n",
"V = V2;// in V\n",
"A = 12;// in A\n",
"phi= acosd(0.85);// in °\n",
"// The efficiency of the transformer \n",
"Eta = ((V*A*cosd(phi))/( V*A*cosd(phi) + Pi+Pcu ))*100;// in %\n",
"disp(Eta,'The efficiency of the transformer in % is');"
   ]
   }
,
{
		   "cell_type": "markdown",
		   "metadata": {},
		   "source": [
			"## Example 9.21: Iron_and_copper_loss_at_full_and_half_full_load.sce"
		   ]
		  },
  {
"cell_type": "code",
	   "execution_count": null,
	   "metadata": {
	    "collapsed": true
	   },
	   "outputs": [],
"source": [
"// Exa 9.21\n",
"clc;\n",
"clear;\n",
"close;\n",
"format('v',8)\n",
"// Given data\n",
"VA = 400*10^3;// in Mean\n",
"Eta_fl = 98.77/100;// in %\n",
"phi1= acosd(0.8);// in °\n",
"phi2= acosd(1);// in °\n",
"Eta_hl = 99.13/100;// in %\n",
"n = 1/2;\n",
"//For full load,  Eta_f1 = ((VA*cosd(phi1))/( VA*cosd(phi1) + Pi + Pcu_f1 )) or Pi+Pcu_f1 = VA*cosd(phi1)*(1-Eta_fl)/(Eta_f1)                   (i)\n",
"//For half load,  Eta_hl = n*VA*cosd(phi2)/(n*VA*cosd(phi2)+Pi+n^2*Pcu_f1) or Pi+n^2*Pcu_f1 = n*VA*cosd(phi2)*( 1-Eta_hl)/Eta_hl    (ii)\n",
"// From eq(i) and (ii)\n",
"Pcu_fl=(n*VA*cosd(phi2)*( 1-Eta_hl)/Eta_hl-VA*cosd(phi1)*(1-Eta_fl)/(Eta_fl))/(n^2-1);// in W\n",
"Pi=VA*cosd(phi1)*(1-Eta_fl)/(Eta_fl)-Pcu_fl;// in W\n",
"disp(Pi,'The iron loss on full load and half load remain same in W which are : ')\n",
"disp(Pcu_fl,'The copper loss on full load in W is : ')\n",
"// The copper loss on half load \n",
"C_loss_half_load=n^2*Pcu_fl;// in W \n",
"disp(C_loss_half_load,'The copper loss on half load in W is : ')\n",
"\n",
""
   ]
   }
,
{
		   "cell_type": "markdown",
		   "metadata": {},
		   "source": [
			"## Example 9.22: Efficiency_of_transformer.sce"
		   ]
		  },
  {
"cell_type": "code",
	   "execution_count": null,
	   "metadata": {
	    "collapsed": true
	   },
	   "outputs": [],
"source": [
"// Exa 9.22\n",
"clc;\n",
"clear;\n",
"close;\n",
"format('v',7)\n",
"// Given data\n",
"VA = 100*10^3;// in VA\n",
"Eta_max = 98.40/100;// in %\n",
"Eta_max1 = 90/100;// in %\n",
"phi= acosd(1);// in °\n",
"//Eta_max = (Eta_max1*VA*cosd(phi)/(Eta_max1*VA*cosd(phi) + 2*Pi);\n",
"Pi = (Eta_max1*VA*cosd(phi)/Eta_max - Eta_max1*VA*cosd(phi))/2;// in W\n",
"Pcu = Pi;// in W\n",
"n = 0.9;\n",
"// Pcu_fl/Pcu = (VA/(0.9*VA) )^2;\n",
"Pcu_fl = Pcu*(VA/(0.9*VA) )^2;// in W\n",
"Eta_fl = ( (VA*cosd(phi))/( (VA*cosd(phi)) + Pi + Pcu_fl ) )*100;// in %\n",
"disp(Eta_fl,'The efficiency of a transformer in % is');"
   ]
   }
,
{
		   "cell_type": "markdown",
		   "metadata": {},
		   "source": [
			"## Example 9.2: Maximum_flux_density.sce"
		   ]
		  },
  {
"cell_type": "code",
	   "execution_count": null,
	   "metadata": {
	    "collapsed": true
	   },
	   "outputs": [],
"source": [
"// Exa 9.2\n",
"clc;\n",
"clear;\n",
"close;\n",
"format('v',5)\n",
"// Given data\n",
"E1 = 3000;// in V\n",
"E2 = 200;// in V\n",
"f = 50;// in Hz\n",
"a = 150;// in cm^2\n",
"N2 = 80;// turns\n",
"//Formula E2 = 4.44*phi_m*f*N2;\n",
"phi_m = E2/(4.44*f*N2);// in Wb\n",
"Bm = phi_m/(a*10^-4);// in Wb/m^2\n",
"disp(Bm,'The maximum flux density in Wb/m^2 is');"
   ]
   }
,
{
		   "cell_type": "markdown",
		   "metadata": {},
		   "source": [
			"## Example 9.3: Maximum_core_flux.sce"
		   ]
		  },
  {
"cell_type": "code",
	   "execution_count": null,
	   "metadata": {
	    "collapsed": true
	   },
	   "outputs": [],
"source": [
"// Exa 9.3\n",
"clc;\n",
"clear;\n",
"close;\n",
"format('v',5)\n",
"// Given data\n",
"N1 = 500;\n",
"N2 = 40;\n",
"E1 = 3000;// in V\n",
"f = 50;// in Hz\n",
"K = N2/N1;\n",
"Rating = 25*10^3;// in VA\n",
"I1 = Rating/E1;// in A\n",
"disp(I1,'The primary full load current in A is');\n",
"I2 = I1/K;// in A\n",
"disp(I2,'The secondary full load current in A is');\n",
"// K = E2/E1;\n",
"E2 = K*E1;// in V\n",
"disp(E2,'The secondary emf in V is');\n",
"// e.m.f equation of the transformer, E1 = 4.44*phi_m*f*N1;\n",
"phi_m = E1/(4.44*f*N1);// in Wb\n",
"phi_m = phi_m*10^3;// in mWb\n",
"disp(phi_m,'The maximum core flux in mWb is');"
   ]
   }
,
{
		   "cell_type": "markdown",
		   "metadata": {},
		   "source": [
			"## Example 9.4: Two_component_of_current.sce"
		   ]
		  },
  {
"cell_type": "code",
	   "execution_count": null,
	   "metadata": {
	    "collapsed": true
	   },
	   "outputs": [],
"source": [
"// Exa 9.4\n",
"clc;\n",
"clear;\n",
"close;\n",
"format('v',6)\n",
"// Given data\n",
"Rating = 25;// in KVA\n",
"f = 50;// in Hz\n",
"Io = 15;// in A\n",
"Wo = 350;// in W\n",
"Vo = 230;// in V\n",
"// No load power factor\n",
"phi_o = acosd(Wo/(Vo*Io));\n",
"// active component of current \n",
"Ic = Io*cosd(phi_o);// in A\n",
"disp(Ic,'The active component of current in A is');\n",
"// magnetizing component of current \n",
"Im = Io*sind(phi_o);// in A\n",
"disp(Im,'The magnetizing component of current in A is');"
   ]
   }
,
{
		   "cell_type": "markdown",
		   "metadata": {},
		   "source": [
			"## Example 9.5: Equivalent_Resistance_reactance_and_impedence_reffered_to_primary_and_secondary.sce"
		   ]
		  },
  {
"cell_type": "code",
	   "execution_count": null,
	   "metadata": {
	    "collapsed": true
	   },
	   "outputs": [],
"source": [
"// Exa 9.5\n",
"clc;\n",
"clear;\n",
"close;\n",
"format('v',8)\n",
"// Given data\n",
"V1 = 2200;// in V\n",
"V2 = 110;// in V\n",
"R1 = 1.75;// in ohm\n",
"R2 = 0.0045;// in ohm\n",
"X1 = 2.6;// in ohm\n",
"X2 = 0.0075;// in ohm\n",
"K = V2/V1;\n",
"//R1e = R1+R_2 = R1 + (R2/(K^2));\n",
"R1e = R1 + (R2/(K^2));// in ohm\n",
"disp(R1e,'Equivalent resistance reffered to primary  in ohm is');\n",
"// R2e = R2+R_1 = R2+((K^2)*R1);\n",
"R2e = R2+((K^2)*R1);// in ohm\n",
"disp(R2e,'Equivalent resistance reffered to secondary  in ohm is');\n",
"//X1e = X1+X_2 = X1+(X2/(K^2));\n",
"X1e = X1+(X2/(K^2));// in ohm\n",
"disp(X1e,'Equivalent reactance reffered to primary  in ohm is');\n",
"// X2e = X2+X_1 = X2 + ((K^2)*X1);\n",
"X2e = X2 + ((K^2)*X1);// in ohm\n",
"disp(X2e,'Equivalent reactance reffered to secondary  in ohm is');\n",
"Z1e= R1e+%i*X1e;// in ohm\n",
"Z2e= R2e+%i*X2e;// in ohm\n",
"disp(abs(Z1e),'Equivalent impedance reffered to primary in ohm is : ')\n",
"disp(abs(Z2e),'Equivalent impedance reffered to secondary in ohm is : ')\n",
""
   ]
   }
,
{
		   "cell_type": "markdown",
		   "metadata": {},
		   "source": [
			"## Example 9.6: Total_copper_loss.sce"
		   ]
		  },
  {
"cell_type": "code",
	   "execution_count": null,
	   "metadata": {
	    "collapsed": true
	   },
	   "outputs": [],
"source": [
"// Exa 9.6\n",
"clc;\n",
"clear;\n",
"close;\n",
"format('v',7)\n",
"// Given data\n",
"V1 = 2200;// in V\n",
"V2 = 440;// in V\n",
"R1 = 0.3;// in ohm\n",
"R2 = 0.01;// in ohm\n",
"X1 = 1.1;// in ohm\n",
"X2 = 0.035;// in ohm\n",
"K = V2/V1;\n",
"Rating = 100;// in KVA\n",
"I1 = (Rating*10^3)/V1;// in A\n",
"I2 = (Rating*10^3)/V2;// in A\n",
"R1e = R1 + (R2/(K^2));// in ohm\n",
"X1e = X1+(X2/(K^2));// in ohm\n",
"Z1e = sqrt( (R1e^2) + (X1e^2) );// in ohm\n",
"disp(Z1e,'The equivalent impedance of the transformer reffered to primary in ohm is');\n",
"// Total copper loss\n",
"totalcopperloss = (I1^2)*R1e;// in W\n",
"disp(totalcopperloss,'The total copper loss in W is');"
   ]
   }
,
{
		   "cell_type": "markdown",
		   "metadata": {},
		   "source": [
			"## Example 9.7: Efficiency_of_transformer.sce"
		   ]
		  },
  {
"cell_type": "code",
	   "execution_count": null,
	   "metadata": {
	    "collapsed": true
	   },
	   "outputs": [],
"source": [
"// Exa 9.7\n",
"clc;\n",
"clear;\n",
"close;\n",
"format('v',6)\n",
"// Given data\n",
"Rating = 150000;// in VA\n",
"phi= acosd(0.8);// in °\n",
"Pcu = 1600;// in W\n",
"Pi = 1400;// in W\n",
"n = 1/4;\n",
"// Total loss of 25% load\n",
"totalloss = Pi + (n^2)*Pcu;// in W\n",
"// efficiency of transformer of 25% load\n",
"Eta = n*Rating*cosd(phi)/(n*Rating*cosd(phi)+Pi+n^2*Pcu)*100;// in %\n",
"disp(Eta,'The efficiency in % is');\n",
""
   ]
   }
,
{
		   "cell_type": "markdown",
		   "metadata": {},
		   "source": [
			"## Example 9.8: Efficiency_on_unity_power_factor.sce"
		   ]
		  },
  {
"cell_type": "code",
	   "execution_count": null,
	   "metadata": {
	    "collapsed": true
	   },
	   "outputs": [],
"source": [
"// Exa 9.8\n",
"clc;\n",
"clear;\n",
"close;\n",
"format('v',6)\n",
"// Given data\n",
"Rating = 25;// in KVA\n",
"V1 = 2000;// in V\n",
"V2 = 200;// in V\n",
"Pi = 350;// in W\n",
"Pi = Pi * 10^-3;// in kW\n",
"Pcu = 400;// in W\n",
"Pcu = Pcu * 10^-3;// in kW\n",
"phi= acosd(1);// in °\n",
"output = Rating;\n",
"losses = Pi+Pcu;\n",
"Eta = (output/(output + losses))*100;// %Eta in %\n",
"disp(Eta,'The efficiency of full load power in % is');\n",
"// For half load\n",
"output = Rating/2;// in kW\n",
"h = 1;\n",
"Pcu = Pcu*((h/2)^2);// in kW\n",
"losses = Pi+Pcu;\n",
"// efficiency of half load power \n",
"Eta = (output/(output+losses))*100;// in %\n",
"disp(Eta,'The efficiency of half load power in % is');"
   ]
   }
,
{
		   "cell_type": "markdown",
		   "metadata": {},
		   "source": [
			"## Example 9.9: Maximum_efficiency.sce"
		   ]
		  },
  {
"cell_type": "code",
	   "execution_count": null,
	   "metadata": {
	    "collapsed": true
	   },
	   "outputs": [],
"source": [
"// Exa 9.9\n",
"clc;\n",
"clear;\n",
"close;\n",
"format('v',7)\n",
"// Given data\n",
"Rating = 250*10^3;// in VA\n",
"Pi = 1.8;// in kW\n",
"Pi = Pi * 10^3;// in W\n",
"Pcu_f1 = 2000;// in W\n",
"phi= acosd(0.8);// in °\n",
"Eta = ((Rating*cosd(phi))/((Rating*cosd(phi))+Pi+Pcu_f1))*100;// %Eta in %\n",
"disp(Eta,'The efficiency at full load in % is');\n",
"// The maximum efficiency \n",
"Eta_max = Rating * sqrt(Pi/Pcu_f1 );// in VA\n",
"Eta_max = Eta_max *10^-3;// in kVA\n",
"disp(Eta_max,'The maximum efficiency in kVA is');\n",
"Eta_max = Eta_max *10^3;// in VA\n",
"Pcu = Pi;// in W\n",
"Eta_max1 = ((Eta_max*cosd(phi))/((Eta_max*cosd(phi)) + Pi+Pcu ))*100;// in %\n",
"disp(Eta_max1,'The maximum efficiency in % is');"
   ]
   }
],
"metadata": {
		  "kernelspec": {
		   "display_name": "Scilab",
		   "language": "scilab",
		   "name": "scilab"
		  },
		  "language_info": {
		   "file_extension": ".sce",
		   "help_links": [
			{
			 "text": "MetaKernel Magics",
			 "url": "https://github.com/calysto/metakernel/blob/master/metakernel/magics/README.md"
			}
		   ],
		   "mimetype": "text/x-octave",
		   "name": "scilab",
		   "version": "0.7.1"
		  }
		 },
		 "nbformat": 4,
		 "nbformat_minor": 0
}
