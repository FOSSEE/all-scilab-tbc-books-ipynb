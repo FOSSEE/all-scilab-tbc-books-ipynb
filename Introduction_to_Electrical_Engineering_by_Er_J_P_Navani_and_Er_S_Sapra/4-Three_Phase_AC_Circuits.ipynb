{
"cells": [
 {
		   "cell_type": "markdown",
	   "metadata": {},
	   "source": [
       "# Chapter 4: Three Phase AC Circuits"
	   ]
	},
{
		   "cell_type": "markdown",
		   "metadata": {},
		   "source": [
			"## Example 4.10: Power_factor_supply_voltage_and_active_and_reactive_power.sce"
		   ]
		  },
  {
"cell_type": "code",
	   "execution_count": null,
	   "metadata": {
	    "collapsed": true
	   },
	   "outputs": [],
"source": [
"// Exa 4.10\n",
"clc;\n",
"clear;\n",
"close;\n",
"format('v',7)\n",
"// Given data\n",
"R = 120;// in ohm\n",
"XC = 250;// in ohm\n",
"I = 0.9;// in A\n",
"Z= R-%i*XC;// in ohm\n",
"phi= atand(imag(Z),real(Z))\n",
"V=I*Z;// in V\n",
"VR = I*R;// in V\n",
"VC= I*XC;// in V\n",
"P= abs(V)*I*cosd(phi);// in W\n",
"Q= abs(V)*I*sind(phi);// in VAR\n",
"disp(cosd(phi),'The power factor is : ')\n",
"disp('Supply voltage : ')\n",
"disp('Magnitude is : '+string(abs(V))+' V and angle is : '+string(atand(imag(V),real(V)))+' °')\n",
"disp(VR,'The voltage across resistance in V is : ')\n",
"disp(VC,'The voltage across capacitance in V is : ')\n",
"disp(P,'The active power in W is : ')\n",
"disp(Q,'The reactive power in VAR is : ')"
   ]
   }
,
{
		   "cell_type": "markdown",
		   "metadata": {},
		   "source": [
			"## Example 4.11: Impedance_current_power_factor_and_power_consumed.sce"
		   ]
		  },
  {
"cell_type": "code",
	   "execution_count": null,
	   "metadata": {
	    "collapsed": true
	   },
	   "outputs": [],
"source": [
"// Exa 4.11\n",
"clc;\n",
"clear;\n",
"close;\n",
"format('v',7)\n",
"// Given data\n",
"V = 230;// in V\n",
"f = 50;// in Hz\n",
"L = 0.06;// in H\n",
"R = 2.5;// in ohm\n",
"C = 6.8;// in µF\n",
"C = C * 10^-6;// in F\n",
"X_L = 2*%pi*f*L;// in ohm\n",
"X_C = 1/(2*%pi*f*C);// in ohm\n",
"Z = sqrt( (R^2) + ((X_L-X_C)^2) );// in ohm\n",
"disp(Z,'The impedance in ohm is');\n",
"I = V/Z;// in A\n",
"disp(I,'The current in A is');\n",
"// tan(phi) = (X_L-X_C)/R;\n",
"phi = atand( (X_L-X_C)/R );// in lead\n",
"disp('The phase angle between current and voltage is : '+string(abs(phi))+' lead');\n",
"phi = acosd(R/Z);\n",
"disp('The power factor is : '+string(cosd(phi))+' lead');\n",
"P = V*I*cosd(phi);// in W\n",
"disp(P,'The power consumed in W is');"
   ]
   }
,
{
		   "cell_type": "markdown",
		   "metadata": {},
		   "source": [
			"## Example 4.12: The_resonant_frequency.sce"
		   ]
		  },
  {
"cell_type": "code",
	   "execution_count": null,
	   "metadata": {
	    "collapsed": true
	   },
	   "outputs": [],
"source": [
"// Exa 4.12\n",
"clc;\n",
"clear;\n",
"close;\n",
"format('v',9)\n",
"// GIven data\n",
"R = 100;// in ohm\n",
"L = 100;// in µH\n",
"L = L * 10^-6;// in H\n",
"C = 100;// in  pF\n",
"C = C * 10^-12;// in F\n",
"V = 10;// in V\n",
"// The resonant frequency \n",
"f_r = 1/(2*%pi*sqrt(L*C));// in Hz \n",
"disp(f_r,'The resonant frequency in Hz is');\n",
"// current at resonance \n",
"Ir = V/R;// in A\n",
"disp(Ir,'The current at resonance in A is');\n",
"X_L = 2*%pi*f_r*L;// in ohm \n",
"// voltage across L at resonance \n",
"V_L = Ir*X_L;// in V\n",
"disp(V_L,'The voltage across L at resonance in V is');\n",
"X_C = X_L;// in ohm\n",
"// voltage across C at resonance \n",
"V_C = Ir*X_C;// in V\n",
"disp(V_C,'The voltage across C at resonance in V is');\n",
"Q= 1/R*sqrt(L/C);\n",
"disp(Q,'The Q-factor is : ')"
   ]
   }
,
{
		   "cell_type": "markdown",
		   "metadata": {},
		   "source": [
			"## Example 4.13: Frequency_at_resonance.sce"
		   ]
		  },
  {
"cell_type": "code",
	   "execution_count": null,
	   "metadata": {
	    "collapsed": true
	   },
	   "outputs": [],
"source": [
"// Exa 4.13\n",
"clc;\n",
"clear;\n",
"close;\n",
"format('v',7)\n",
"// Given data\n",
"R = 10;// in ohm\n",
"L = 0.2;// in H\n",
"C = 40;// in µF\n",
"C = C * 10^-6;// in F\n",
"V = 100;// in V\n",
"f_r = 1/(2*%pi*sqrt(L*C));// in Hz\n",
"disp(f_r,'The frequency at resonace in Hz is');\n",
"Im = V/R;// in A\n",
"disp(Im,'The current in A is');\n",
"Pm = (Im^2)*R;// in W\n",
"disp(Pm,'The power in W is');\n",
"// voltage across R \n",
"V_R = Im*R;// in V\n",
"disp(V_R,'The voltage across R in V is');\n",
"X_L = 2*%pi*f_r*L;// in ohm\n",
"// voltage across L \n",
"V_L = Im*X_L;// in V\n",
"disp(V_L,'The voltage across L in V is');\n",
"X_C = 1/(2*%pi*f_r*C);// in ohm\n",
"// voltage across  C \n",
"V_C = Im*X_C;// in V\n",
"disp(V_C,'The voltage across  C in V is');\n",
"omega = 2*%pi*f_r;// in rad/sec\n",
"Q = (omega*L)/R;\n",
"disp(Q,'The quality factor is');\n",
"del_F = R/(4*%pi*L);\n",
"f1 = f_r-del_F;// in Hz\n",
"f2 = f_r+del_F;// in Hz\n",
"disp('The half power frequencies are : '+string(f1)+' Hz and '+string(f2)+' Hz');\n",
"BW = f2-f1;// in Hz\n",
"disp(BW,'The bandwidth in Hz is : ')"
   ]
   }
,
{
		   "cell_type": "markdown",
		   "metadata": {},
		   "source": [
			"## Example 4.14: Bandwidth.sce"
		   ]
		  },
  {
"cell_type": "code",
	   "execution_count": null,
	   "metadata": {
	    "collapsed": true
	   },
	   "outputs": [],
"source": [
"// Exa 4.14\n",
"clc;\n",
"clear;\n",
"close;\n",
"format('v',6)\n",
"// Given data\n",
"R = 10;// in ohm\n",
"L = 15;// in µH\n",
"L = L * 10^-6;// in H\n",
"C = 100;// in pF\n",
"C = C * 10^-12;// in F\n",
"f_r = 1/(2*%pi*sqrt(L*C));// in Hz\n",
"X_L = 2*%pi*f_r*L;// in ohm\n",
"Q = X_L/R;// in ohm\n",
"BW = f_r/Q;// in Hz\n",
"BW = BW * 10^-3;// in kHz\n",
"disp(BW,'The bandwidth in kHz is');"
   ]
   }
,
{
		   "cell_type": "markdown",
		   "metadata": {},
		   "source": [
			"## Example 4.15: Half_power_points.sce"
		   ]
		  },
  {
"cell_type": "code",
	   "execution_count": null,
	   "metadata": {
	    "collapsed": true
	   },
	   "outputs": [],
"source": [
"// Exa 4.15\n",
"clc;\n",
"clear;\n",
"close;\n",
"format('v',6)\n",
"// Given data\n",
"R = 1000;// in ohm\n",
"L = 100;// in mH\n",
"L = L * 10^-3;// in H\n",
"C = 10;// in µµF\n",
"C = C * 10^-12;// in F\n",
"f_r = 1/(2*%pi*sqrt(L*C));// in Hz\n",
"disp(f_r*10^-3,'The resonant frequency in kHz is');\n",
"Q = (1/R)*(sqrt(L/C));\n",
"disp(Q,'The quality factor is');\n",
"f1 = f_r - R/(4*%pi*L);// in Hz\n",
"f1 = f1 * 10^-3;// in kHz\n",
"f2 = f_r + R/(4*%pi*L);// in Hz\n",
"f2 = f2 * 10^-3;// in kHz\n",
"disp('The half point frequencies are : '+string(f1)+' Hz and '+string(f2)+' Hz')"
   ]
   }
,
{
		   "cell_type": "markdown",
		   "metadata": {},
		   "source": [
			"## Example 4.16: Power_factor_and_power_consumed.sce"
		   ]
		  },
  {
"cell_type": "code",
	   "execution_count": null,
	   "metadata": {
	    "collapsed": true
	   },
	   "outputs": [],
"source": [
"// Exa 4.16\n",
"clc;\n",
"clear;\n",
"close;\n",
"format('v',6)\n",
"// Given data\n",
"R = 20;// in ohm\n",
"L = 31.8;// in mH\n",
"L = L * 10^-3;// in H\n",
"V = 230;// in V\n",
"f = 50;// in Hz\n",
"I_R = V/R;// in A\n",
"X_L = 2*%pi*f*L;// in ohm\n",
"I_L = V/X_L;// in A\n",
"I = sqrt( (I_R^2) + (I_L^2) );// in A\n",
"disp(I,'The line current in A is');\n",
"phi= acosd( I_R/I);\n",
"disp('The power factor is : '+string(cosd(phi))+' lag');\n",
"P = V*I*cosd(phi);// in W\n",
"disp(P,'The power consumed in W is');"
   ]
   }
,
{
		   "cell_type": "markdown",
		   "metadata": {},
		   "source": [
			"## Example 4.17: Power_factor_and_power_consumed.sce"
		   ]
		  },
  {
"cell_type": "code",
	   "execution_count": null,
	   "metadata": {
	    "collapsed": true
	   },
	   "outputs": [],
"source": [
"// Exa 4.17\n",
"clc;\n",
"clear;\n",
"close;\n",
"format('v',6)\n",
"// Given data\n",
"C = 50;// in µF\n",
"C = C * 10^-6;// in F\n",
"R = 20;// in ohm\n",
"L = 0.05;// in H\n",
"V = 200;// in V\n",
"f = 50;// in Hz\n",
"X_C = 1/(2*%pi*f*C);// in ohm\n",
"Z1 = X_C;// in ohm\n",
"I1 = V/X_C;// in A\n",
"X_L = 2*%pi*f*L;// in ohm\n",
"Z2 = sqrt( (R^2) + (X_L^2) );// in ohm\n",
"I2 = V/Z2;// in A\n",
"// tan(phi2) = X_L/R;\n",
"phi2 = atand(X_L/R);// in degree\n",
"phi1 = 90;// in degree\n",
"I_cos_phi = I1*cosd(phi1) + I2*cosd(phi2);// in A \n",
"I_sin_phi = I1*sind(phi1) - I2*sind(phi2);// in A \n",
"phi= atand(I_sin_phi/I_cos_phi);// in °\n",
"I= sqrt(I_cos_phi^2+I_sin_phi^2);// in A\n",
"P= V*I*cosd(phi);// in W\n",
"disp(I,'The line current in A is : ')\n",
"disp('The power factor is : '+string(cosd(phi))+' lag');\n",
"disp(P,'The power consumed in W is : ')"
   ]
   }
,
{
		   "cell_type": "markdown",
		   "metadata": {},
		   "source": [
			"## Example 4.18: Power_factor.sce"
		   ]
		  },
  {
"cell_type": "code",
	   "execution_count": null,
	   "metadata": {
	    "collapsed": true
	   },
	   "outputs": [],
"source": [
"// Exa 4.18\n",
"clc;\n",
"clear;\n",
"close;\n",
"format('v',6)\n",
"// Given data\n",
"V= 68+154*%i;// in V\n",
"I1= 10+14*%i;// in A\n",
"I2= 2+8*%i;// in A\n",
"I= I1+I2;// in A\n",
"phi= atand(imag(V),real(V))-atand(imag(I),real(I));// in °\n",
"disp(phi,'The phase angle in ° is : ')\n",
"disp('The power factor is : '+string(cosd(phi))+' lag')"
   ]
   }
,
{
		   "cell_type": "markdown",
		   "metadata": {},
		   "source": [
			"## Example 4.19: Supply_current_and_power_factor.sce"
		   ]
		  },
  {
"cell_type": "code",
	   "execution_count": null,
	   "metadata": {
	    "collapsed": true
	   },
	   "outputs": [],
"source": [
"// Exa 4.19\n",
"clc;\n",
"clear;\n",
"close;\n",
"format('v',6)\n",
"// Given data\n",
"R1 = 50;// in ohm\n",
"L = 318;// in mH\n",
"L = L * 10^-3;// in H\n",
"R2 = 75;// in ohm\n",
"C = 159;// in µF\n",
"C =C * 10^-6;// in F\n",
"V = 230;// in V\n",
"f = 50;// in Hz\n",
"XL= 2*%pi*f*L;// in ohm\n",
"Z1= R1+XL*%i;// in ohm\n",
"I1= V/Z1;// in A\n",
"XC= 1/(2*%pi*f*C);// in ohm\n",
"Z2= R2-%i*XC;// in ohm\n",
"I2= V/Z2;// in A\n",
"I= I1+I2;// in A\n",
"phi= atand(imag(I),real(I));// in °\n",
"disp('Supply current : ')\n",
"disp('Magnitude is : '+string(abs(I))+' A')\n",
"disp('Angle : '+string(phi)+' °')\n",
"disp('Power factor is : '+string(cosd(phi))+' lag')"
   ]
   }
,
{
		   "cell_type": "markdown",
		   "metadata": {},
		   "source": [
			"## Example 4.1: Current_and_power_consumed.sce"
		   ]
		  },
  {
"cell_type": "code",
	   "execution_count": null,
	   "metadata": {
	    "collapsed": true
	   },
	   "outputs": [],
"source": [
"// Exa 4.1\n",
"clc;\n",
"clear;\n",
"close;\n",
"format('v',6)\n",
"// Given data\n",
"R = 10;// inohm\n",
"V = 230;// in V\n",
"f = 50;// in Hz\n",
"I = V/R;// in A\n",
"disp(I,'The currrent in A is');\n",
"P =V*I;// in W\n",
"disp(P,'The power consumed in W is');\n",
"Vm = sqrt(2)*V;// in V\n",
"Im =sqrt(2)*I;// in A\n",
"omega = 2*%pi*f;// in rad/sec\n",
"//Equation for voltage: V = Vm*sind(omega*t) \n",
"//Equation for current: i = Im*sind(omega*t)\n",
"disp('Voltage equation : v = '+string(Vm)+' sin ('+string(round(omega))+' t)')\n",
"disp('Current equation : i = '+string(Im)+' sin ('+string(round(omega))+' t)')"
   ]
   }
,
{
		   "cell_type": "markdown",
		   "metadata": {},
		   "source": [
			"## Example 4.20: Supply_current_and_power_factor.sce"
		   ]
		  },
  {
"cell_type": "code",
	   "execution_count": null,
	   "metadata": {
	    "collapsed": true
	   },
	   "outputs": [],
"source": [
"// Exa 4.20\n",
"clc;\n",
"clear;\n",
"close;\n",
"format('v',6)\n",
"// Given data\n",
"V=250;// in V\n",
"Z1= 70.7+70.7*%i;// in ohm\n",
"Z2= 120+160*%i;// in ohm\n",
"Z3= 120+90*%i;// in ohm\n",
"Y1= 1/Z1;// in S\n",
"Y2= 1/Z2;// in S\n",
"Y3= 1/Z3;// in S\n",
"Y_T= Y1+Y2+Y3;// in S\n",
"phi= atand(imag(Y_T),real(Y_T));// in °\n",
"disp('Total admittance of the circuit : ')\n",
"disp('Magnitude is : '+string(abs(Y_T))+' mho')\n",
"disp('Angle is : '+string(phi)+' °')\n",
"I= V*Y_T;// in A\n",
"disp('The supply current : ')\n",
"disp('Magnitude is : '+string(abs(I))+' A')\n",
"disp('Angle is : '+string(phi)+' °')\n",
"disp('Power factor is : '+string(cosd(phi))+' ° lag')"
   ]
   }
,
{
		   "cell_type": "markdown",
		   "metadata": {},
		   "source": [
			"## Example 4.21: Power_and_power_factor.sce"
		   ]
		  },
  {
"cell_type": "code",
	   "execution_count": null,
	   "metadata": {
	    "collapsed": true
	   },
	   "outputs": [],
"source": [
"// Exa 4.21\n",
"clc;\n",
"clear;\n",
"close;\n",
"format('v',6)\n",
"// Given data\n",
"Vm = 100;// in V\n",
"phi1= 30;// in °\n",
"Im = 15;// in A\n",
"phi2= 60;// in °\n",
"V= Vm/sqrt(2)*expm(phi1*%i*%pi/180);// in V\n",
"I= Im/sqrt(2)*expm(phi2*%i*%pi/180);// in A\n",
"Z= V/I;// in ohm\n",
"R= real(Z);// in ohm\n",
"XC= abs(imag(Z));// in ohm\n",
"phi= atand(imag(Z),real(Z));// in °\n",
"P= abs(V)*abs(I)*cosd(phi);// in W\n",
"disp('The impedance is : '+string(Z)+' Ω')\n",
"disp('The resistance is : '+string(R)+' Ω')\n",
"disp('The reactance is : '+string(XC)+' Ω')\n",
"disp('The power is : '+string(P)+' W')\n",
"disp('The power factor is : '+string(cosd(phi))+' leading')"
   ]
   }
,
{
		   "cell_type": "markdown",
		   "metadata": {},
		   "source": [
			"## Example 4.22: Value_of_pure_indutance.sce"
		   ]
		  },
  {
"cell_type": "code",
	   "execution_count": null,
	   "metadata": {
	    "collapsed": true
	   },
	   "outputs": [],
"source": [
"// Exa 4.22\n",
"clc;\n",
"clear;\n",
"close;\n",
"format('v',6)\n",
"// Given data\n",
"P = 100;// in W\n",
"V = 120;// in V\n",
"f= 50;// in Hz\n",
"I = P/V;// in A\n",
"V = 200;// in V\n",
"V_R = 120;// in V\n",
"V_L = sqrt( (V^2) - (V_R^2) );// in V\n",
"// V_L = I*X_L;\n",
"X_L = V_L/I;// in ohm\n",
"// X_L = 2*%pi*f*L;\n",
"L = X_L/(2*%pi*f);// in H\n",
"disp(L,'The value of pure inductance in H is');\n",
"\n",
"// Note: There is calculation error to find the value of V_L, So the answer in the book is wrong  and coding is correct."
   ]
   }
,
{
		   "cell_type": "markdown",
		   "metadata": {},
		   "source": [
			"## Example 4.23: Power_factor_and_power_consumed.sce"
		   ]
		  },
  {
"cell_type": "code",
	   "execution_count": null,
	   "metadata": {
	    "collapsed": true
	   },
	   "outputs": [],
"source": [
"// Exa 4.23\n",
"clc;\n",
"clear;\n",
"close;\n",
"format('v',6)\n",
"// Given data\n",
"V=230;// in V\n",
"f= 50;// in Hz\n",
"Z1= 10*expm(-30*%i*%pi/180);// in ohm\n",
"Z2= 20*expm(60*%i*%pi/180);// in ohm\n",
"Z3= 40*expm(0*%i*%pi/180);// in ohm\n",
"Y1= 1/Z1;// in S\n",
"Y2= 1/Z2;// in S\n",
"Y3= 1/Z3;// in S\n",
"Y= Y1+Y2+Y3;// in S\n",
"phi= atand(imag(Y),real(Y));// in °\n",
"Z=1/Y;// in ohm\n",
"P= V^2*abs(Y);// in W\n",
"disp('The circuit admittance is : '+string(abs(Y))+' mho');\n",
"disp('The circuit impedance is : '+string(abs(Z))+' Ω');\n",
"disp(P,'The power consumed in W is : ')\n",
"disp('The power factor is : '+string(cosd(phi))+' lead')"
   ]
   }
,
{
		   "cell_type": "markdown",
		   "metadata": {},
		   "source": [
			"## Example 4.24: Current_and_power_absorbed_by_each_branch.sce"
		   ]
		  },
  {
"cell_type": "code",
	   "execution_count": null,
	   "metadata": {
	    "collapsed": true
	   },
	   "outputs": [],
"source": [
"// Exa 4.24\n",
"clc;\n",
"clear;\n",
"close;\n",
"format('v',8)\n",
"// Given data\n",
"Z1= 10+15*%i;// in ohm\n",
"Z2= 6-8*%i;// in ohm\n",
"R1= 10;// in ohm\n",
"R2= 6;// in ohm\n",
"I_T= 15;// in A\n",
"I1= I_T*Z2/(Z1+Z2);// in A\n",
"I2= I_T*Z1/(Z1+Z2);// in A\n",
"P1= (abs(I1))^2*R1;// in W\n",
"P2= (abs(I2))^2*R2;// in W\n",
"disp(P1,'The value of P1 in W is : ')\n",
"disp(P2,'The value of P2 in W is : ')"
   ]
   }
,
{
		   "cell_type": "markdown",
		   "metadata": {},
		   "source": [
			"## Example 4.25: Voltage_across_the_condenser.sce"
		   ]
		  },
  {
"cell_type": "code",
	   "execution_count": null,
	   "metadata": {
	    "collapsed": true
	   },
	   "outputs": [],
"source": [
"// Exa 4.25\n",
"clc;\n",
"clear;\n",
"close;\n",
"format('v',7)\n",
"// Given data\n",
"R = 8;// in ohm\n",
"L = 0.12;// in H\n",
"C = 140;// in µF\n",
"C = C * 10^-6;// in F\n",
"V = 230;// in V\n",
"f = 50;// in Hz\n",
"XL = 2*%pi*f*L;// in ohm\n",
"XC= 1/(2*%pi*f*C);// in ohm\n",
"Z= R+%i*XL-%i*XC;// in ohm\n",
"I= V/Z;// in A\n",
"phi= atand(imag(I),real(I));// in °\n",
"PowerFactor= cosd(phi);\n",
"VC= abs(I)*XC;// in V\n",
"disp('Impedence of the entire circuit : ')\n",
"disp('Magnitude is : '+string(abs(Z))+' Ω');\n",
"disp('Angle is : '+string(atand(imag(Z),real(Z)))+' °')\n",
"disp('Current flowing through the condensor : ')\n",
"disp('Magnitude is : '+string(abs(I))+' Ω');\n",
"disp('Angle is : '+string(atand(imag(I),real(I)))+' °')\n",
"disp('Power factor of the circuit is : '+string(cosd(phi))+' lag')\n",
"disp(VC,'The voltage across the condensor in V is : ')\n",
"\n",
""
   ]
   }
,
{
		   "cell_type": "markdown",
		   "metadata": {},
		   "source": [
			"## Example 4.26: Half_power_frequencies.sce"
		   ]
		  },
  {
"cell_type": "code",
	   "execution_count": null,
	   "metadata": {
	    "collapsed": true
	   },
	   "outputs": [],
"source": [
"// Exa 4.26\n",
"clc;\n",
"clear;\n",
"close;\n",
"format('v',8)\n",
"// Given data\n",
"R = 10;// in ohm\n",
"L = 0.1;// in H\n",
"C = 8;// in µF\n",
"C = C * 10^-6;// in F\n",
"f_r = 1/(2*%pi*sqrt(L*C));// in Hz\n",
"Q = (1/R) * (sqrt(L/C));\n",
"del_F = R/(4*%pi*L);\n",
"// The half power frequencies \n",
"f1 = f_r - del_F;// in Hz\n",
"f2 = f_r+del_F;// in Hz\n",
"disp('The half power frequencies are : '+string(f1)+' Hz and '+string(f2)+' Hz')"
   ]
   }
,
{
		   "cell_type": "markdown",
		   "metadata": {},
		   "source": [
			"## Example 4.27: Value_of_capacitor.sce"
		   ]
		  },
  {
"cell_type": "code",
	   "execution_count": null,
	   "metadata": {
	    "collapsed": true
	   },
	   "outputs": [],
"source": [
"// Exa 4.27\n",
"clc;\n",
"clear;\n",
"close;\n",
"format('v',6)\n",
"// Given data\n",
"R = 15;// in ohm\n",
"X_L = 10;// in ohm\n",
"f_r = 50;// in Hz\n",
"// X_L = 2*%pi*f_r*L;\n",
"L = X_L/(2*%pi*f_r);// in H\n",
"// value of capacitance \n",
"C = 1/( L*( ((f_r*2*%pi)^2)+((R^2)/(L^2)) ));// in F\n",
"C = C*10^6;// in µF\n",
"disp(C,'The value of capacitance in µF is');"
   ]
   }
,
{
		   "cell_type": "markdown",
		   "metadata": {},
		   "source": [
			"## Example 4.28: Current_and_power_drawn.sce"
		   ]
		  },
  {
"cell_type": "code",
	   "execution_count": null,
	   "metadata": {
	    "collapsed": true
	   },
	   "outputs": [],
"source": [
"// Exa 4.28\n",
"clc;\n",
"clear;\n",
"close;\n",
"format('v',6)\n",
"// Given data\n",
"Z1= 3+4*%i;// in ohm\n",
"Z2= 6+8*%i;// in ohm\n",
"V= 230;// in V\n",
"I1= V/Z1;// in A\n",
"I2= V/Z2;// in A\n",
"I_T= I1+I2;// in A\n",
"phi= atand(imag(I_T),real(I_T));// in °\n",
"P= V*abs(I_T)*cosd(phi);//in V\n",
"disp('The value of current : ')\n",
"disp(abs(I_T),'The magnitude in A is : ')\n",
"disp(phi,'The phase angle in degree is : ')\n",
"disp(P,'The power drawn from the source in W is : ')"
   ]
   }
,
{
		   "cell_type": "markdown",
		   "metadata": {},
		   "source": [
			"## Example 4.29: Total_power_supplied_by_source.sce"
		   ]
		  },
  {
"cell_type": "code",
	   "execution_count": null,
	   "metadata": {
	    "collapsed": true
	   },
	   "outputs": [],
"source": [
"// Exa 4.29\n",
"clc;\n",
"clear;\n",
"close;\n",
"format('v',6)\n",
"// Given data\n",
"Z1= 1.6+%i*7.2;// in ohm\n",
"Z2= 4+%i*3;// in ohm\n",
"Z3= 6-%i*8;// in ohm\n",
"V= 100;// in V\n",
"Y2= 1/Z2;// in mho\n",
"disp(Y2,'The admittance in mho is : ')\n",
"Y3= 1/Z3;// in mho\n",
"disp(Y3,'The admittance in mho is : ')\n",
"ZT= Z1+1/(Y2+Y3);\n",
"phi= atand(imag(ZT),real(ZT));\n",
"disp('Total circuit impedance : ')\n",
"disp('Magnitude : '+string(abs(ZT))+' Ω')\n",
"disp('Angle : '+string(phi)+' °');\n",
"IT= V/ZT;// in A\n",
"PT= V*abs(IT)*cosd(phi);// in W\n",
"disp(PT,'The total power supplied in W is : ')"
   ]
   }
,
{
		   "cell_type": "markdown",
		   "metadata": {},
		   "source": [
			"## Example 4.2: Instantaneous_power_and_average_power.sce"
		   ]
		  },
  {
"cell_type": "code",
	   "execution_count": null,
	   "metadata": {
	    "collapsed": true
	   },
	   "outputs": [],
"source": [
"// Exa 4.2\n",
"clc;\n",
"clear;\n",
"close;\n",
"format('v',6)\n",
"// Given data\n",
"R = 100;// in ohm\n",
"i= '3*cos(omega*t)';// in A\n",
"A= R*3^2;// assumed\n",
"disp('Instantaneous power taken by resistor in watts is : ')\n",
"disp(string(A/2)+' (1+cos(2*omega*t))')\n",
"P= R*3^2/2*(1+cos(%pi/2));// in watts\n",
"disp(P,'The average power in watts is : ')"
   ]
   }
,
{
		   "cell_type": "markdown",
		   "metadata": {},
		   "source": [
			"## Example 4.30: Q_factor_of_the_circuit.sce"
		   ]
		  },
  {
"cell_type": "code",
	   "execution_count": null,
	   "metadata": {
	    "collapsed": true
	   },
	   "outputs": [],
"source": [
"// Exa 4.30\n",
"clc;\n",
"clear;\n",
"close;\n",
"format('v',6)\n",
"// Given data\n",
"R = 4;// in ohm\n",
"L = 0.5;// in H\n",
"V = 100;// in V\n",
"f = 50;// in Hz\n",
"X_L = 2*%pi*f*L;// in ohm\n",
"X_C = X_L;// in ohm\n",
"// X_C = 1/(2*%pi*f*C);\n",
"C = 1/(X_C*2*%pi*f);// in F\n",
"C = C * 10^6;// in F\n",
"disp(C,'The value of capacitance in µF is');\n",
"I = V/R;// in A]\n",
"V_C = I*X_C;// in V\n",
"disp(V_C,'The voltage across the capacitance in V');\n",
"omega = 2*%pi*f;// in rad/sec\n",
"Q = (omega*L)/R;\n",
"disp(Q,'The Q factor of the circuit is');"
   ]
   }
,
{
		   "cell_type": "markdown",
		   "metadata": {},
		   "source": [
			"## Example 4.3: Inductive_reactance.sce"
		   ]
		  },
  {
"cell_type": "code",
	   "execution_count": null,
	   "metadata": {
	    "collapsed": true
	   },
	   "outputs": [],
"source": [
"// Exa 4.3\n",
"clc;\n",
"clear;\n",
"close;\n",
"format('v',6)\n",
"// Given data\n",
"I = 10;// in A\n",
"V = 230;// in V\n",
"f = 50;// in Hz\n",
"X_L = V/I;// in ohm\n",
"disp(X_L,'Inductive reactance in ohm is');\n",
"// X_L = 2*%pi*f*L;\n",
"L = X_L/(2*%pi*f);// in H\n",
"disp(L,'Inductance of the coil in H is');\n",
"Vrms = V;// in V\n",
"Irms = I;// in A\n",
"Vm = Vrms*sqrt(2);// in V\n",
"Im = Irms*sqrt(2);// in A\n",
"omega = 2*%pi*f;// in rad/sec\n",
"//Equation for voltage: V = Vm*sind(omega*t) \n",
"//Equation for current: i = Im*sind(omega*t)\n",
"disp('Voltage equation : v = '+string(Vm)+' sin ('+string(round(omega))+' t)')\n",
"disp('Current equation : i = '+string(Im)+' sin ('+string(round(omega))+' t - %pi/2)')"
   ]
   }
,
{
		   "cell_type": "markdown",
		   "metadata": {},
		   "source": [
			"## Example 4.4: Capacitive_reactance.sce"
		   ]
		  },
  {
"cell_type": "code",
	   "execution_count": null,
	   "metadata": {
	    "collapsed": true
	   },
	   "outputs": [],
"source": [
"// Exa 4.4\n",
"clc;\n",
"clear;\n",
"close;\n",
"format('v',6)\n",
"// GIven data\n",
"C = 318;// in µF\n",
"C = C * 10^-6;// in F\n",
"V = 230;// in V\n",
"f = 50;// in Hz\n",
"X_C = 1/(2*%pi*f*C);// in ohm\n",
"disp(X_C,'The capacitive reactance in ohm is');\n",
"I = V/X_C;// in A\n",
"disp(I,'The R.M.S value of current in A is');\n",
"Vrms = V;// in V\n",
"Irms = I;// in A\n",
"Vm = Vrms*sqrt(2);// in V\n",
"Im = Irms*sqrt(2);// in A\n",
"omega = 2*%pi*f;// in rad/sec\n",
"// V = Vm*sind(omega*t);\n",
"// i = Im*sind((omega*t)+(%pi/2));\n",
"//Equation for voltage: V = Vm*sind(omega*t) \n",
"//Equation for current: i = Im*sind(omega*t)\n",
"disp('Voltage equation : v = '+string(Vm)+' sin ('+string(round(omega))+' t)')\n",
"disp('Current equation : i = '+string(Im)+' sin ('+string(round(omega))+' t + %pi/2)')"
   ]
   }
,
{
		   "cell_type": "markdown",
		   "metadata": {},
		   "source": [
			"## Example 4.5: Circuit_current.sce"
		   ]
		  },
  {
"cell_type": "code",
	   "execution_count": null,
	   "metadata": {
	    "collapsed": true
	   },
	   "outputs": [],
"source": [
"// Exa 4.5\n",
"clc;\n",
"clear;\n",
"close;\n",
"format('v',6)\n",
"// Given data\n",
"R = 7;// in ohm\n",
"L = 31.8;// in mH\n",
"L = L * 10^-3;// in H\n",
"V = 230;// in V\n",
"f = 50;// in Hz\n",
"X_L = 2*%pi*f*L;// in ohm\n",
"Z = sqrt( (R^2)+(X_L^2) );// in ohm\n",
"I = V/Z;// in A\n",
"disp(I,'The circuit current in A is');\n",
"// tand(phi) = X_L/R;\n",
"phi = atand(X_L/R);// in degree lag\n",
"disp(phi,'The phase angle in degree is');\n",
"// Power factor\n",
"powerfactor = cosd(phi);// in lag\n",
"disp(powerfactor,'The power factor is');\n",
"P = V*I*cosd(phi);// in W\n",
"disp(P,'The power consumed in W is');\n",
""
   ]
   }
,
{
		   "cell_type": "markdown",
		   "metadata": {},
		   "source": [
			"## Example 4.6: Value_of_R_and_L.sce"
		   ]
		  },
  {
"cell_type": "code",
	   "execution_count": null,
	   "metadata": {
	    "collapsed": true
	   },
	   "outputs": [],
"source": [
"// Exa 4.6\n",
"clc;\n",
"clear;\n",
"close;\n",
"format('v',6)\n",
"// Given data\n",
"P = 400;// in W\n",
"f = 50;// in Hz\n",
"V = 120;// in V\n",
"phi= acosd(0.8);// in °\n",
"// P =V*I*cos(phi);\n",
"I = P/(V*cosd(phi));// in A\n",
"Z= V/I;// in ohm\n",
"Z= Z*expm(%i*phi*%pi/180);// ohm\n",
"R= real(Z);// in ohm\n",
"XL= imag(Z);// in ohm\n",
"// Formula XL= 2*%pi*f*L\n",
"L= XL/(2*%pi*f);// in H\n",
"disp(R,'The value of R in Ω is : ')\n",
"disp(L,'The value of L in H is : ')\n",
"\n",
""
   ]
   }
,
{
		   "cell_type": "markdown",
		   "metadata": {},
		   "source": [
			"## Example 4.7: Active_and_reactive_component_of_current.sce"
		   ]
		  },
  {
"cell_type": "code",
	   "execution_count": null,
	   "metadata": {
	    "collapsed": true
	   },
	   "outputs": [],
"source": [
"// Exa 4.7\n",
"clc;\n",
"clear;\n",
"close;\n",
"format('v',6)\n",
"// Given data\n",
"R = 17.32;// in ohm\n",
"L = 31.8;// in mH\n",
"L = L * 10^-3;// in H\n",
"V = 200;// in V\n",
"f = 50;// in Hz\n",
"X_L = 2*%pi*f*L;// in ohm\n",
"Z = sqrt( (R^2) + (X_L^2) );// in ohm\n",
"I = V/Z;// in A\n",
"phi =acosd( R/Z);// in °\n",
"ActiveCom= I*cosd(phi);// in A\n",
"ReactiveCom= I*sind(phi);// in A\n",
"disp(ActiveCom,'The active component of current in A is : ')\n",
"disp(ReactiveCom,'The reactive component of current in A is : ')\n",
"P= V*I*cosd(phi);// in W\n",
"disp(P,'The active power in W is : ')\n",
"Q= V*I*sind(phi);// in VAR\n",
"disp(Q,'The reactive power in VAR is : ')\n",
"\n",
"// Note: There is calculation error to evaluate the value of P, so the answer in the book is wrong."
   ]
   }
,
{
		   "cell_type": "markdown",
		   "metadata": {},
		   "source": [
			"## Example 4.8: Voltage_across_each_component_and_circuit.sce"
		   ]
		  },
  {
"cell_type": "code",
	   "execution_count": null,
	   "metadata": {
	    "collapsed": true
	   },
	   "outputs": [],
"source": [
"// Exa 4.8\n",
"clc;\n",
"clear;\n",
"close;\n",
"format('v',7)\n",
"// Given data\n",
"R = 20;// in ohm\n",
"C = 200;// in µF\n",
"C=C*10^-6\n",
"f =50;// in Hz\n",
"//I = 10.8 sin(314*t)\n",
"Im = 10.8;// in A\n",
"I = Im/sqrt(2);// in A\n",
"V_R = I*R;// in V\n",
"disp(V_R,'The voltage across 20Ω resistor in V is : ')\n",
"//Vc = I*X_C and  X_C = 1/omega*C;\n",
"omega = 2*%pi*f;// in rad/sec\n",
"Vc = I * 1/(omega*C);// in V\n",
"disp(Vc,'The voltage across 200 µF capacitor in V is');\n",
"V = sqrt( (V_R^2) + (Vc^2) );// in V\n",
"disp(V,'The voltage across the circuit in V is');"
   ]
   }
,
{
		   "cell_type": "markdown",
		   "metadata": {},
		   "source": [
			"## Example 4.9: Resistance_and_inductance.sce"
		   ]
		  },
  {
"cell_type": "code",
	   "execution_count": null,
	   "metadata": {
	    "collapsed": true
	   },
	   "outputs": [],
"source": [
"// Exa 4.9\n",
"clc;\n",
"clear;\n",
"close;\n",
"format('v',6)\n",
"// Given data\n",
"f= 60;// in Hz\n",
"disp('Part (a)')\n",
"Z= 12+30*%i;\n",
"R= real(Z);// in ohm\n",
"XL= imag(Z);// in ohm\n",
"// Formula XL= 2*%pi*f*L\n",
"L= XL/(2*%pi*f);// in H\n",
"L= L*10^3;// in mH\n",
"disp(R,'The value of resistance in Ω is : ')\n",
"disp(L,'The value of inductance in mH is : ')\n",
"L= L*10^-3;// in H\n",
"disp('Part (b)')\n",
"Z= 0-60*%i;\n",
"R= real(Z);// in ohm\n",
"XC= (abs(imag(Z)));// in ohm\n",
"// Formula XC= 1/(2*%pi*f*C)\n",
"C= 1/(2*%pi*XC*f);// in H\n",
"C= C*10^6;// in µF\n",
"disp(R,'The value of resistance in Ω is : ')\n",
"disp(C,'The value of inductance in µF is : ')\n",
"C= C*10^-6;// in F\n",
"disp('Part (c)')\n",
"Z= 20*expm(60*%i*%pi/180)\n",
"R= real(Z);// in ohm\n",
"XL= imag(Z);// in ohm\n",
"// Formula XL= 2*%pi*f*L\n",
"L= XL/(2*%pi*f);// in H\n",
"L= L*10^3;// in mH\n",
"disp(R,'The value of resistance in Ω is : ')\n",
"disp(L,'The value of inductance in mH is : ')"
   ]
   }
],
"metadata": {
		  "kernelspec": {
		   "display_name": "Scilab",
		   "language": "scilab",
		   "name": "scilab"
		  },
		  "language_info": {
		   "file_extension": ".sce",
		   "help_links": [
			{
			 "text": "MetaKernel Magics",
			 "url": "https://github.com/calysto/metakernel/blob/master/metakernel/magics/README.md"
			}
		   ],
		   "mimetype": "text/x-octave",
		   "name": "scilab",
		   "version": "0.7.1"
		  }
		 },
		 "nbformat": 4,
		 "nbformat_minor": 0
}
