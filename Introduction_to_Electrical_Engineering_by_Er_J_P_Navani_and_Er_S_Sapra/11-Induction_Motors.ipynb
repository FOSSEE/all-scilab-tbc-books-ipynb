{
"cells": [
 {
		   "cell_type": "markdown",
	   "metadata": {},
	   "source": [
       "# Chapter 11: Induction Motors"
	   ]
	},
{
		   "cell_type": "markdown",
		   "metadata": {},
		   "source": [
			"## Example 11.10: Speed_at_which_maximum_torque_is_developed.sce"
		   ]
		  },
  {
"cell_type": "code",
	   "execution_count": null,
	   "metadata": {
	    "collapsed": true
	   },
	   "outputs": [],
"source": [
"// Exa 11.10\n",
"clc;\n",
"clear;\n",
"close;\n",
"format('v',6)\n",
"// Given data\n",
"R2 = 0.024;// in per phase\n",
"X2 = 0.6;// in ohm per phase\n",
"s = R2/X2;\n",
"f = 50;// in Hz\n",
"P = 4;\n",
"Ns = (120*f)/P;// in rpm\n",
"// Speed corresponding to maximum torque\n",
"N = Ns*(1-s);// in rpm\n",
"disp(N,'The speed at which maximum torque is developed in rpm is');"
   ]
   }
,
{
		   "cell_type": "markdown",
		   "metadata": {},
		   "source": [
			"## Example 11.11: Rotor_speed_in_rpm.sce"
		   ]
		  },
  {
"cell_type": "code",
	   "execution_count": null,
	   "metadata": {
	    "collapsed": true
	   },
	   "outputs": [],
"source": [
"// Exa 11.11\n",
"clc;\n",
"clear;\n",
"close;\n",
"format('v',6)\n",
"// Given data\n",
"P = 4;\n",
"f =60;// in Hz\n",
"s = 0.03;\n",
"Ns = (120*f)/P;// in rpm\n",
"N = Ns*(1-s);// in rpm\n",
"disp(Ns,'The synchronous speed in rpm is : ')\n",
"disp(N,'The rotor speed in rpm is');\n",
"f_r = s*f;// in Hz\n",
"disp(f_r,'The rotor current frequency in Hz is');\n",
"// Rotor magnetic field rorats at speed \n",
"Rm = (120*f_r)/P;// in rpm\n",
"disp(Rm,'The rotor magnetic field rotates at speed in rpm is');"
   ]
   }
,
{
		   "cell_type": "markdown",
		   "metadata": {},
		   "source": [
			"## Example 11.12: Slip_and_frequency_of_rotor_induced_emf.sce"
		   ]
		  },
  {
"cell_type": "code",
	   "execution_count": null,
	   "metadata": {
	    "collapsed": true
	   },
	   "outputs": [],
"source": [
"// Exa 11.12\n",
"clc;\n",
"clear;\n",
"close;\n",
"format('v',6)\n",
"// Given data\n",
"N = 960;// in rpm\n",
"f = 50;// in Hz\n",
"Ns = 1000;// in rpm\n",
"s = ((Ns-N)/Ns)*100;// %s in %\n",
"disp(s,'The slip in % is');\n",
"f_r = (s/100)*f;// in Hz\n",
"disp(f_r,'The frequency of rotor induced emf in Hz is');\n",
"// Ns = (120*f)/P;\n",
"P = (120*f)/Ns;\n",
"disp(P,'The number of ploes is');\n",
"// Speed of rotor field with respect to rotor structure \n",
"s1 = (120*f_r)/P;//in rpm\n",
"disp(s1,'Speed of rotor field with respect to rotor structure in rpm is');"
   ]
   }
,
{
		   "cell_type": "markdown",
		   "metadata": {},
		   "source": [
			"## Example 11.13: Full_load_speed_of_motor.sce"
		   ]
		  },
  {
"cell_type": "code",
	   "execution_count": null,
	   "metadata": {
	    "collapsed": true
	   },
	   "outputs": [],
"source": [
"// Exa 11.13\n",
"clc;\n",
"clear;\n",
"close;\n",
"format('v',6)\n",
"// Given data\n",
"P = 4;\n",
"f = 50;// in Hz\n",
"Sfl = 4/100;\n",
"Ns = (120*f)/P;// in rpm\n",
"//The full load speed, Sfl = (Ns-Nfl)/Ns;\n",
"Nfl = Ns - (Sfl*Ns);// in rpm\n",
"disp(Nfl,'The full load speed in rpm is');"
   ]
   }
,
{
		   "cell_type": "markdown",
		   "metadata": {},
		   "source": [
			"## Example 11.1: Synchronous_Speed.sce"
		   ]
		  },
  {
"cell_type": "code",
	   "execution_count": null,
	   "metadata": {
	    "collapsed": true
	   },
	   "outputs": [],
"source": [
"// Exa 11.1\n",
"clc;\n",
"clear;\n",
"close;\n",
"format('v',6)\n",
"// Given data\n",
"P = 4;\n",
"f = 50;// in Hz\n",
"Ns = (120*f)/P;// in rpm\n",
"disp(Ns,'The synchronous speed in rpm is');\n",
"s = 4;\n",
"//s = ((Ns-N)/Ns)*100;\n",
"N = Ns - ( (s*Ns)/100 );// in rpm\n",
"disp(N,'The speed of the motor in rpm is');\n",
"N = 1000;// in rpm\n",
"s = ((Ns-N)/Ns);\n",
"f_desh= s*f;// in Hz\n",
"disp(f_desh,'The rotor current frequency in Hz is');"
   ]
   }
,
{
		   "cell_type": "markdown",
		   "metadata": {},
		   "source": [
			"## Example 11.2: Slip_and_speed_of_motors.sce"
		   ]
		  },
  {
"cell_type": "code",
	   "execution_count": null,
	   "metadata": {
	    "collapsed": true
	   },
	   "outputs": [],
"source": [
"// Exa 11.2\n",
"clc;\n",
"clear;\n",
"close;\n",
"format('v',6)\n",
"// Given data\n",
"f = 50;// in Hz\n",
"P = 4;\n",
"f_DASH = 2;// in Hz\n",
"// f_DASH = s*f;\n",
"s = (f_DASH/f)*100;// in %\n",
"disp(s,'The slip in % is');\n",
"N_S = (120*f)/P;// in rpm\n",
"// s = (N_S-N)/N_S;\n",
"N = N_S - (s/100*N_S);// in rpm\n",
"disp(N,'The speed of the motor in rpm is');"
   ]
   }
,
{
		   "cell_type": "markdown",
		   "metadata": {},
		   "source": [
			"## Example 11.3: Synchronous_speed_and_no_load_speed.sce"
		   ]
		  },
  {
"cell_type": "code",
	   "execution_count": null,
	   "metadata": {
	    "collapsed": true
	   },
	   "outputs": [],
"source": [
"// Exa 11.3\n",
"clc;\n",
"clear;\n",
"close;\n",
"format('v',6)\n",
"// Given data\n",
"P = 6;\n",
"f = 50;// in Hz\n",
"Snl = 1/100;\n",
"Sfl = 3/100;\n",
"N_S = (120*f)/P;// in rpm\n",
"disp(N_S,'The synchronous speed in rpm is');\n",
"Nnl = N_S*(1-Snl);// in rpm\n",
"disp(Nnl,'No load speed in rpm is');\n",
"Nfl = N_S*(1-Sfl);// in rpm.. correction \n",
"disp(Nfl,'The full load speed in rpm is');\n",
"// frequency of rotor current \n",
"s = 1;\n",
"Sf = s*f;// in Hz\n",
"disp(Sf,'The frequency of rotor current in Hz is');\n",
"// frequency of rotor current at full load \n",
"f_r = Sfl * f;// in Hz\n",
"disp(f_r,'The frequency of rotor current at full load in Hz is');\n",
"\n",
"// Note : The calculated value of Nnl is wrong and value of Nfl is correct but at last they printed wrong."
   ]
   }
,
{
		   "cell_type": "markdown",
		   "metadata": {},
		   "source": [
			"## Example 11.4: Number_of_the_pole_in_the_motor.sce"
		   ]
		  },
  {
"cell_type": "code",
	   "execution_count": null,
	   "metadata": {
	    "collapsed": true
	   },
	   "outputs": [],
"source": [
"// Exa 11.4\n",
"clc;\n",
"clear;\n",
"close;\n",
"format('v',6)\n",
"// Given data\n",
"Pa= 12;\n",
"N= 1440;// in rpm\n",
"Na= 500;// in rpm\n",
"Nm= 1450;// in rpm\n",
"fa= Pa*Na/120;// in Hz\n",
"Pm= round(120*fa/Nm);\n",
"// Synchronous speed of motor\n",
"Ns= 120*fa/Pm;// in rpm\n",
"s= (Ns-N)/Ns*100;// in %\n",
"disp(Pm,'The numbers of pole is : ')\n",
"disp(s,'The percentage slip is : ')"
   ]
   }
,
{
		   "cell_type": "markdown",
		   "metadata": {},
		   "source": [
			"## Example 11.5: Frequency_of_rotor_emf_in_running_condition.sce"
		   ]
		  },
  {
"cell_type": "code",
	   "execution_count": null,
	   "metadata": {
	    "collapsed": true
	   },
	   "outputs": [],
"source": [
"// Exa 11.5\n",
"clc;\n",
"clear;\n",
"close;\n",
"format('v',6)\n",
"// Given data\n",
"K = 1/2;\n",
"P = 4;\n",
"f = 50;// in Hz\n",
"N = 1445;// in rpm\n",
"E1line = 415;// in V\n",
"Ns = (120*f)/P;// in rpm\n",
"N = 1455;// in rpm\n",
"s = (Ns-N)/Ns*100;// in %\n",
"f_r = s/100*f;// in Hz\n",
"disp(f_r,'The frequency of rotor in Hz is');\n",
"E1ph = E1line/sqrt(3);// in V\n",
"//E2ph/E1ph = K;\n",
"E2ph = E1ph*K;// in V\n",
"disp(E2ph,'The magnitude of induced emf in V is');\n",
"E2r = s/100*E2ph;// in V\n",
"disp(E2r,'The magnitude of induced emf in the running condition in V is');"
   ]
   }
,
{
		   "cell_type": "markdown",
		   "metadata": {},
		   "source": [
			"## Example 11.6: Rotor_speed_when_slip_is_4_percent.sce"
		   ]
		  },
  {
"cell_type": "code",
	   "execution_count": null,
	   "metadata": {
	    "collapsed": true
	   },
	   "outputs": [],
"source": [
"// Exa 11.6\n",
"clc;\n",
"clear;\n",
"close;\n",
"format('v',6)\n",
"// Given data\n",
"P = 4;\n",
"S =4/100;\n",
"f = 50;// in Hz\n",
"Ns = (120*f/P);// in rpm\n",
"disp(Ns,'The value of Ns in rpm is');\n",
"// The rotor speed when slip is 4 %\n",
"N = Ns*(1-S);// in rpm\n",
"disp(N,'The rotor speed when slip is 4% in rpm is');\n",
"// The rotor speed when rotor runs at 600 rpm\n",
"N1 = 600;// in rpm\n",
"s1 = ((Ns-N1)/Ns)*100;// in %\n",
"f_r = (s1/100)*f;// in Hz\n",
"disp(f_r,'The rotor frequency when rotor runs at 600 rpm in Hz is');"
   ]
   }
,
{
		   "cell_type": "markdown",
		   "metadata": {},
		   "source": [
			"## Example 11.7: Number_of_poles.sce"
		   ]
		  },
  {
"cell_type": "code",
	   "execution_count": null,
	   "metadata": {
	    "collapsed": true
	   },
	   "outputs": [],
"source": [
"// Exa 11.7\n",
"clc;\n",
"clear;\n",
"close;\n",
"format('v',6)\n",
"// Given data\n",
"V_L = 230;// in V\n",
"f = 50;// in Hz\n",
"N = 950;// in rpm\n",
"E2 = 100;// in V\n",
"Ns =1000;// in rpm\n",
"// Ns = 120*f/P;\n",
"P = (120*f)/Ns;\n",
"disp(P,'The Number of ploes is');\n",
"s = ((Ns-N)/Ns)*100;// %s in %\n",
"disp(s,'The percentage of full load slip in % is');\n",
"// The rotor induced voltage at full load\n",
"E2r = (s/100)*E2;// in V\n",
"disp(E2r,'The rotor induced voltage in V is');\n",
"// The rotor frequency at full load\n",
"f_r = (s/100)*f;// in Hz\n",
"disp(f_r,'The frequency at full load in Hz is');"
   ]
   }
,
{
		   "cell_type": "markdown",
		   "metadata": {},
		   "source": [
			"## Example 11.8: Number_of_poles_in_the_machine.sce"
		   ]
		  },
  {
"cell_type": "code",
	   "execution_count": null,
	   "metadata": {
	    "collapsed": true
	   },
	   "outputs": [],
"source": [
"// Exa 11.8\n",
"clc;\n",
"clear;\n",
"close;\n",
"format('v',6)\n",
"// Given data\n",
"V = 440;// in V\n",
"f = 50;// in Hz\n",
"N = 1450;// in rpm\n",
"Ns = 1450;// in rpm\n",
"Nr = 1450;// in rpm\n",
"P = round((120*f)/Ns);\n",
"disp(P,'The number of poles in the machine is');\n",
"P = 4;\n",
"Ns = (120*f)/P;// in rpm\n",
"disp(Ns,'Speed of rotation air gap field in rpm is');\n",
"k = 0.8/1;\n",
"//Pemf = k*E1 = k*V;\n",
"Pemf = k*V;// produced emf in rotor in V\n",
"disp(Pemf,'Produced emf in rotor in V is');\n",
"s = ((Ns-Nr)/Ns)*100;// in %\n",
"Ivoltage = k*(s/100)*V;// rotor induces voltage in V\n",
"f_r = (s/100)*f;// in Hz\n",
"disp(f_r,'The frequency of rotor current in Hz is ');"
   ]
   }
,
{
		   "cell_type": "markdown",
		   "metadata": {},
		   "source": [
			"## Example 11.9: Full_load_speed_and_corresponding_speed.sce"
		   ]
		  },
  {
"cell_type": "code",
	   "execution_count": null,
	   "metadata": {
	    "collapsed": true
	   },
	   "outputs": [],
"source": [
"// Exa 11.9\n",
"clc;\n",
"clear;\n",
"close;\n",
"format('v',6)\n",
"// Given data\n",
"P = 8;\n",
"f = 50;// in Hz\n",
"f_r = 2;// in Hz\n",
"// f_r = s*f;\n",
"s = (f_r/f)*100;// in %\n",
"disp(s,'The full load slip in % is');\n",
"// s = Ns-N/Ns;\n",
"Ns = (120*f)/P;// in rpm\n",
"N = Ns*(1-(s/100));// in rpm\n",
"disp(N,'The corresponding speed in rpm is');"
   ]
   }
],
"metadata": {
		  "kernelspec": {
		   "display_name": "Scilab",
		   "language": "scilab",
		   "name": "scilab"
		  },
		  "language_info": {
		   "file_extension": ".sce",
		   "help_links": [
			{
			 "text": "MetaKernel Magics",
			 "url": "https://github.com/calysto/metakernel/blob/master/metakernel/magics/README.md"
			}
		   ],
		   "mimetype": "text/x-octave",
		   "name": "scilab",
		   "version": "0.7.1"
		  }
		 },
		 "nbformat": 4,
		 "nbformat_minor": 0
}
