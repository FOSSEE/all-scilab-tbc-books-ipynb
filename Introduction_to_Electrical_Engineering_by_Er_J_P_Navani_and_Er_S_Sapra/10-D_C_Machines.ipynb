{
"cells": [
 {
		   "cell_type": "markdown",
	   "metadata": {},
	   "source": [
       "# Chapter 10: D C Machines"
	   ]
	},
{
		   "cell_type": "markdown",
		   "metadata": {},
		   "source": [
			"## Example 10.10: Armature_current_and_back_emf.sce"
		   ]
		  },
  {
"cell_type": "code",
	   "execution_count": null,
	   "metadata": {
	    "collapsed": true
	   },
	   "outputs": [],
"source": [
"// Exa 10.10\n",
"clc;\n",
"clear;\n",
"close;\n",
"format('v',7)\n",
"// Given data\n",
"V = 250;// in V\n",
"I_L = 20;// in A\n",
"Ra = 0.3;// in ohm\n",
"Rsh = 200;// in ohm\n",
"Ish = V/Rsh;// in A\n",
"// I_L = Ia+Ish;\n",
"Ia = I_L-Ish;// inA\n",
"disp(Ia,'The armature current in A is');\n",
"Eb = V-(Ia*Ra);// in V\n",
"disp(Eb,'The back emf in V is');"
   ]
   }
,
{
		   "cell_type": "markdown",
		   "metadata": {},
		   "source": [
			"## Example 10.11: Speed_of_motor.sce"
		   ]
		  },
  {
"cell_type": "code",
	   "execution_count": null,
	   "metadata": {
	    "collapsed": true
	   },
	   "outputs": [],
"source": [
"// Exa 10.11\n",
"clc;\n",
"clear;\n",
"close;\n",
"format('v',6)\n",
"// Given data\n",
"P = 4;\n",
"A = 2;//(wave connected)\n",
"Z = 200;\n",
"V=250;// in V\n",
"phi = 25;// in mWb\n",
"phi = phi * 10^-3;// in Wb\n",
"Ia = 60;// in A\n",
"I_L = 60;// in A\n",
"Ra = 0.15;// in ohm\n",
"Rse = 0.2;// in ohm\n",
"//V = Eb + (Ia*Ra) + (Ia*Rse);\n",
"Eb = V - (Ia*Ra) - (Ia*Rse);// in V\n",
"// Eb = (phi*P*N*Z)/(60*A);\n",
"N = (Eb*60*A)/(phi*P*Z);// in rpm\n",
"disp(N,'The speed in rpm is');"
   ]
   }
,
{
		   "cell_type": "markdown",
		   "metadata": {},
		   "source": [
			"## Example 10.12: Armature_resistance_and_current.sce"
		   ]
		  },
  {
"cell_type": "code",
	   "execution_count": null,
	   "metadata": {
	    "collapsed": true
	   },
	   "outputs": [],
"source": [
"// Exa 10.12\n",
"clc;\n",
"clear;\n",
"close;\n",
"format('v',6)\n",
"// Given data\n",
"Eb = 227;// in V\n",
"Rsh = 160;// in ohm\n",
"Ish = 1.5;// in A\n",
"I_L = 39.5;// in A\n",
"V = Ish*Rsh;// in V\n",
"Ia = I_L-Ish;// in A\n",
"//V = Eb + (Ia*Ra);\n",
"Ra = (V-Eb)/Ia;// in ohm\n",
"disp(Ra,'The armature resistance in ohm is');\n",
"Ia = V/Ra;// in A\n",
"disp(Ia,'The armature current in A is');"
   ]
   }
,
{
		   "cell_type": "markdown",
		   "metadata": {},
		   "source": [
			"## Example 10.13: Ratio_of_speed_as_a_generator_to_speed_as_a_motor.sce"
		   ]
		  },
  {
"cell_type": "code",
	   "execution_count": null,
	   "metadata": {
	    "collapsed": true
	   },
	   "outputs": [],
"source": [
"// Exa 10.13\n",
"clc;\n",
"clear;\n",
"close;\n",
"format('v',6)\n",
"// Given data\n",
"V = 230;// in V\n",
"Ra = 0.115;// in ohm\n",
"Rsh = 115;// in ohm\n",
"I_L = 100;// inA\n",
"Ish =V/Rsh;// in A\n",
"Ia = I_L + Ish;// in A\n",
"Eg = V + (Ia*Ra);// in V\n",
"Ia = I_L-Ish;// in A\n",
"Eb = V - (Ia*Ra);// in V\n",
"// The ratio of speed as a generator to speed as a motor \n",
"NgBYNm = Eg/Eb;\n",
"disp(NgBYNm,'The ratio of speed as a generator to speed as a motor is');"
   ]
   }
,
{
		   "cell_type": "markdown",
		   "metadata": {},
		   "source": [
			"## Example 10.14: Induced_voltage.sce"
		   ]
		  },
  {
"cell_type": "code",
	   "execution_count": null,
	   "metadata": {
	    "collapsed": true
	   },
	   "outputs": [],
"source": [
"// Exa 10.14\n",
"clc;\n",
"clear;\n",
"close;\n",
"format('v',7)\n",
"// Given data\n",
"P = 4;\n",
"slots = 144;\n",
"phi = 20;// in mWb\n",
"phi = phi * 10^-3;// in Wb\n",
"N = 720;// in rpm\n",
"A = 4;\n",
"P =4;\n",
"n1 = 2;// in coil/slot\n",
"n2 = 2;// in turns/coil\n",
"Z = slots*n1*n2;// total number of conductor\n",
"Eg = (N*P*phi*Z)/(60*A);// in V\n",
"disp(Eg,'The induced voltage in V is');"
   ]
   }
,
{
		   "cell_type": "markdown",
		   "metadata": {},
		   "source": [
			"## Example 10.15: Generated_emf.sce"
		   ]
		  },
  {
"cell_type": "code",
	   "execution_count": null,
	   "metadata": {
	    "collapsed": true
	   },
	   "outputs": [],
"source": [
"// Exa 10.15\n",
"clc;\n",
"clear;\n",
"close;\n",
"format('v',6)\n",
"// Given data\n",
"P = 8;\n",
"phi = 0.1;// in Wb\n",
"Z = 400;\n",
"N =300;// in rpm\n",
"Eg = (N*phi*Z)/(60);// in V (A = p)\n",
"disp(Eg,'The emf when lap is connected in V is');\n",
"// For A=2, connected armature\n",
"A = 2;\n",
"Eg = (N*phi*P*Z)/(60*A);// in V\n",
"disp(Eg,'The emf when wave is connected in V is');"
   ]
   }
,
{
		   "cell_type": "markdown",
		   "metadata": {},
		   "source": [
			"## Example 10.16: Power_developed_in_the_armature.sce"
		   ]
		  },
  {
"cell_type": "code",
	   "execution_count": null,
	   "metadata": {
	    "collapsed": true
	   },
	   "outputs": [],
"source": [
"// Exa 10.16\n",
"clc;\n",
"clear;\n",
"close;\n",
"format('v',6)\n",
"// Given data\n",
"P_L = 20;// in kW\n",
"P_L = P_L * 10^3;// in W\n",
"V = 200;// in V\n",
"Ra = 0.05;// in ohm\n",
"Rsh = 200;// in ohm\n",
"// P_L = V*I_L;\n",
"I_L = P_L/V;// in A\n",
"Ish = V/Rsh;// in A\n",
"Ia = I_L+Ish;// in A\n",
"Eg = V + (Ia*Ra);// in V\n",
"Pa = Eg*Ia;// in W\n",
"Pa = Pa * 10^-3;// in kW\n",
"disp(Pa,'The power developed in armature in kW is');"
   ]
   }
,
{
		   "cell_type": "markdown",
		   "metadata": {},
		   "source": [
			"## Example 10.17: Speed_when_the_current_in_armature_is_30_A.sce"
		   ]
		  },
  {
"cell_type": "code",
	   "execution_count": null,
	   "metadata": {
	    "collapsed": true
	   },
	   "outputs": [],
"source": [
"// Exa 10.17\n",
"clc;\n",
"clear;\n",
"close;\n",
"format('v',6)\n",
"// Given data\n",
"N1 = 600;// inrpm\n",
"I_L1 = 60;// in A\n",
"V = 230;// in V\n",
"Rsh = 115;// in ohm\n",
"Ra= 0.2;// in ohm\n",
"Ia2 = 30;// in A\n",
"Ish = V/Rsh;// in A\n",
"Ia1 = I_L1 - Ish;// in A\n",
"Eb1 = V-(Ia1*Ra);// in V\n",
"Eb2 = V - (Ia2*Ra);// in V\n",
"// N1/N2 = Eb1/Eb2;\n",
"N2 = (N1*Eb2)/Eb1;// in rpm\n",
"disp(N2,'The speed when 30 A current through the armature in rpm is');"
   ]
   }
,
{
		   "cell_type": "markdown",
		   "metadata": {},
		   "source": [
			"## Example 10.18: Speed_of_motor.sce"
		   ]
		  },
  {
"cell_type": "code",
	   "execution_count": null,
	   "metadata": {
	    "collapsed": true
	   },
	   "outputs": [],
"source": [
"// Exa 10.18\n",
"clc;\n",
"clear;\n",
"close;\n",
"format('v',6)\n",
"// Given data\n",
"P = 6;\n",
"A = 6;\n",
"Z = 500;\n",
"Ra = 0.05;// in ohm\n",
"Rsh =25;// in ohm\n",
"V = 100;// in V\n",
"I_L = 120;// in A\n",
"phi = 2*10^-2;// in Wb\n",
"Ish = V/Rsh;// in A\n",
"Ia = I_L-Ish;// in A\n",
"Eb = V - (Ia*Ra);// in V\n",
"// Eb = (N*P*phi*Z)/(60*A);\n",
"N = (Eb*60*A)/(P*phi*Z);// in rpm\n",
"disp(N,'The speed of the motor in rpm is');"
   ]
   }
,
{
		   "cell_type": "markdown",
		   "metadata": {},
		   "source": [
			"## Example 10.19: Change_in_emf_induced.sce"
		   ]
		  },
  {
"cell_type": "code",
	   "execution_count": null,
	   "metadata": {
	    "collapsed": true
	   },
	   "outputs": [],
"source": [
"// Exa 10.19\n",
"clc;\n",
"clear;\n",
"close;\n",
"format('v',6)\n",
"// Given ata\n",
"N1 = 1;\n",
"N2 = 1.2*N1;\n",
"phi1 = 1;\n",
"phi2 = 0.8*phi1;\n",
"Eg1BYEg2 = (N1/N2) * (phi1/phi2);\n",
"Eg1 = 1;// assumed\n",
"// The change in emf \n",
"Eg2 = (Eg1*phi2*N2)/(phi1*N1);\n",
"Eg2 = Eg2 * 100;// in %\n",
"disp(Eg2,'The change in emf in % is');"
   ]
   }
,
{
		   "cell_type": "markdown",
		   "metadata": {},
		   "source": [
			"## Example 10.1: emf_generated_by_4_pole_wave_wound_generator.sce"
		   ]
		  },
  {
"cell_type": "code",
	   "execution_count": null,
	   "metadata": {
	    "collapsed": true
	   },
	   "outputs": [],
"source": [
"// Exa 10.1\n",
"clc;\n",
"clear;\n",
"close;\n",
"format('v',6)\n",
"// Given data\n",
"A = 2;// in wavewound\n",
"N = 1200;// in rpm\n",
"phi = 0.02;// in Wb\n",
"n = 65;// no of slots\n",
"P = 4;\n",
"Z = n*12;// total number of conductor\n",
"// Emf equation\n",
"Eg = (N*P*phi*Z)/(60*A);// in V\n",
"disp(Eg,'The emf generated in V is');"
   ]
   }
,
{
		   "cell_type": "markdown",
		   "metadata": {},
		   "source": [
			"## Example 10.20: Total_power_developed_by_armature.sce"
		   ]
		  },
  {
"cell_type": "code",
	   "execution_count": null,
	   "metadata": {
	    "collapsed": true
	   },
	   "outputs": [],
"source": [
"// Exa 10.20\n",
"clc;\n",
"clear;\n",
"close;\n",
"format('v',7)\n",
"// Given data\n",
"Pout = 25;// in kW\n",
"Pout = Pout*10^3;// in W\n",
"Vt = 250;// in V\n",
"Ra = 0.06;// in ohm\n",
"Rsh = 100;// in ohm\n",
"// Pout = Vt*I_L;\n",
"I_L = Pout/Vt;// in A\n",
"Ish = Vt/Rsh;// in A\n",
"Ia = I_L+Ish;// in A\n",
"Eg = Vt + (Ia*Ra);// in V\n",
"// Total armature power developed when working as a generator \n",
"Pdeveloped = Eg*Ia;// in W\n",
"Pdeveloped = Pdeveloped * 10^-3;// in kW\n",
"disp(Pdeveloped,'Total armature power developed in kW is');\n",
"Ia = I_L-Ish;// in A\n",
"Eb = Vt - (Ia*Ra);// in V\n",
"// Total armature power developed when working as a motor \n",
"Pdeveloped = Eb*Ia;// in W\n",
"Pdeveloped = Pdeveloped * 10^-3;// in kW\n",
"disp(Pdeveloped,'Total armature power developed when working as a motor in kW is');"
   ]
   }
,
{
		   "cell_type": "markdown",
		   "metadata": {},
		   "source": [
			"## Example 10.21: Useful_flux_per_pole.sce"
		   ]
		  },
  {
"cell_type": "code",
	   "execution_count": null,
	   "metadata": {
	    "collapsed": true
	   },
	   "outputs": [],
"source": [
"// Exa 10.21\n",
"clc;\n",
"clear;\n",
"close;\n",
"format('v',6)\n",
"// Given data\n",
"P = 4;\n",
"A = 4;\n",
"Turns = 100;\n",
"N = 600;// in rpm\n",
"Eg = 220;// in V\n",
"n = 2;// no of total conductors\n",
"Z = n*Turns;\n",
"// Eg = (N*P*phi*Z)/(60*A);\n",
"phi = (Eg*60*A)/(N*P*Z);// in Wb\n",
"disp(phi,'The useful flux per mole when armature is LAP connected in Wb is');\n",
"A = 2;\n",
"// Eg = (N*P*phi*Z)/(60*A);\n",
"phi = (Eg*60*A)/(N*P*Z);// in Wb\n",
"disp(phi,'The useful flux per mole when armature is WAVE connected in Wb is');"
   ]
   }
,
{
		   "cell_type": "markdown",
		   "metadata": {},
		   "source": [
			"## Example 10.2: Numbers_of_conductor.sce"
		   ]
		  },
  {
"cell_type": "code",
	   "execution_count": null,
	   "metadata": {
	    "collapsed": true
	   },
	   "outputs": [],
"source": [
"// Exa 10.2\n",
"clc;\n",
"clear;\n",
"close;\n",
"format('v',6)\n",
"// Given data\n",
"P = 8;\n",
"N = 1200;// in rpm\n",
"phi = 25;// in mWb\n",
"phi = phi * 10^-3;// in Wb\n",
"Eg = 440;// in V\n",
"A = P;\n",
"// Eg = (N*P*phi*Z)/(60*A);\n",
"Z = (Eg*60*A)/(phi*N*P);// in conductors\n",
"disp(Z,'The numbers of conductors when armature is lap wound');\n",
"A = 2;\n",
"// Eg = (N*P*phi*Z)/(60*A);\n",
"Z = (Eg*60*A)/(phi*N*P);// in conductors\n",
"disp(Z,'The numbers of conductors when armature is wave wound ');"
   ]
   }
,
{
		   "cell_type": "markdown",
		   "metadata": {},
		   "source": [
			"## Example 10.3: Induced_voltage.sce"
		   ]
		  },
  {
"cell_type": "code",
	   "execution_count": null,
	   "metadata": {
	    "collapsed": true
	   },
	   "outputs": [],
"source": [
"// Exa 10.3\n",
"clc;\n",
"clear;\n",
"close;\n",
"format('v',7)\n",
"// Given data\n",
"P = 4;\n",
"phi = 20;// in mWb\n",
"phi = phi * 10^-3;// in Wb\n",
"A = 4;\n",
"P = A;\n",
"N =720;// in rpm\n",
"n = 144;// no of slots in slots\n",
"n1 = 2;// no of coils \n",
"n2 = 2;// no of turns in turns\n",
"Z = n*n1*n2;// total number of conductor\n",
"// Generated emf\n",
"E = (N*P*phi*Z)/(60*A);// in V\n",
"disp(E,'The induced voltage in V is');"
   ]
   }
,
{
		   "cell_type": "markdown",
		   "metadata": {},
		   "source": [
			"## Example 10.4: Generated_emf.sce"
		   ]
		  },
  {
"cell_type": "code",
	   "execution_count": null,
	   "metadata": {
	    "collapsed": true
	   },
	   "outputs": [],
"source": [
"// Exa 10.4\n",
"clc;\n",
"clear;\n",
"close;\n",
"format('v',6)\n",
"// Given data\n",
"Eg1 = 100;// in V\n",
"phi1 = 20;// in mWb\n",
"phi1 = phi1 * 10^-3;// in Wb\n",
"N1 = 800;// in rpm\n",
"N2 = 1000;// in rpm\n",
"// Eg1/Eg2 = (phi1/phi2) * (N1/N2) but phi1 = phi2\n",
"Eg2 = (Eg1*N2)/N1;// in V\n",
"disp(Eg2,'Part (i) : The generated emf in V is');\n",
"phi2 = 24;// in mWb\n",
"phi2 = phi2 * 10^-3;// in Wb\n",
"N2 = 900;// in rpm\n",
"// Eg1/Eg2 = (phi1/phi2) * (N1/N2) ;\n",
"Eg2 = (Eg1*N2*phi2)/(N1*phi1);// in V\n",
"disp(Eg2,'Part (ii) : The generated emf in V is');"
   ]
   }
,
{
		   "cell_type": "markdown",
		   "metadata": {},
		   "source": [
			"## Example 10.5: Total_power_developed_by_armature.sce"
		   ]
		  },
  {
"cell_type": "code",
	   "execution_count": null,
	   "metadata": {
	    "collapsed": true
	   },
	   "outputs": [],
"source": [
"// Exa 10.5\n",
"clc;\n",
"clear;\n",
"close;\n",
"format('v',6)\n",
"// Given data\n",
"P = 30;// in kW\n",
"P = P * 10^3;// in W\n",
"V = 300;// in V\n",
"Ra = 0.05;// in ohm\n",
"Rsh = 100;// in ohm\n",
"// p = V*I_L;\n",
"I_L = P/V;// in A\n",
"Ish = V/Rsh;// in A\n",
"Ia = I_L+Ish;// in A\n",
"Eg = V + (Ia*Ra);// in V\n",
"// power developed by armature \n",
"power = (Eg*Ia);// in W\n",
"power = power * 10^-3;// in kW\n",
"disp(power,'The total power developed by the armature in kW is');"
   ]
   }
,
{
		   "cell_type": "markdown",
		   "metadata": {},
		   "source": [
			"## Example 10.6: Power_developed_in_the_armature.sce"
		   ]
		  },
  {
"cell_type": "code",
	   "execution_count": null,
	   "metadata": {
	    "collapsed": true
	   },
	   "outputs": [],
"source": [
"// Exa 10.6\n",
"clc;\n",
"clear;\n",
"close;\n",
"format('v',6)\n",
"// Given data\n",
"V = 200;// in V\n",
"Ra = 0.5;// in ohm\n",
"Rsh = 200;// in ohm\n",
"P = 20;// in kW\n",
"P = P * 10^3;// in W\n",
"// P = V*I_L;\n",
"I_L =P/V;// in A\n",
"Ish = V/Rsh;// in A\n",
"Ia = I_L+Ish;// in A\n",
"Eg = V + (Ia*Ra);// in V\n",
"// power developed in the armature \n",
"power = Eg*Ia;// in W\n",
"power = power * 10^-3;// in kW\n",
"disp(power,'The power developed in the armature in kW is');"
   ]
   }
,
{
		   "cell_type": "markdown",
		   "metadata": {},
		   "source": [
			"## Example 10.7: Total_armature_current.sce"
		   ]
		  },
  {
"cell_type": "code",
	   "execution_count": null,
	   "metadata": {
	    "collapsed": true
	   },
	   "outputs": [],
"source": [
"// Exa 10.7\n",
"clc;\n",
"clear;\n",
"close;\n",
"format('v',8)\n",
"// Given data\n",
"P = 60;\n",
"A =P;\n",
"Vbrush = 2;// in V/brush\n",
"Vt = 100;// in V\n",
"Ra = 0.1;// in ohm\n",
"Rsh = 80;// in ohm\n",
"Ish = Vt/Rsh;// in A\n",
"Ilamp = P/Vt;// in A\n",
"I_L = 50*Ilamp;// in A\n",
"// Armature current\n",
"Ia = I_L+Ish;// in A\n",
"disp(Ia,'The total armature current in A is');\n",
"// Evaluation of generated emf\n",
"Eg = Vt + (Ia*Ra) + Vbrush;// in V\n",
"disp(Eg,'The generated emf in V is');"
   ]
   }
,
{
		   "cell_type": "markdown",
		   "metadata": {},
		   "source": [
			"## Example 10.8: Generated_voltage.sce"
		   ]
		  },
  {
"cell_type": "code",
	   "execution_count": null,
	   "metadata": {
	    "collapsed": true
	   },
	   "outputs": [],
"source": [
"// Exa 10.8\n",
"clc;\n",
"clear;\n",
"close;\n",
"format('v',6)\n",
"// Given data\n",
"V = 440;// in V\n",
"I_L =40;// in A\n",
"Rse = 1;// in ohm\n",
"Rsh = 200;// in ohm\n",
"Ra = 0.5;// in ohm\n",
"Ish = V/Rsh;// in A\n",
"Ia = I_L+Ish;// in A\n",
"Eg = V + (Ia*(Ra+Rse));// in V\n",
"disp(Eg,'The generated voltage for long shunt in V is');\n",
"//Voltage across shunt field, Vsh = V + Ise*Rse = V + (I_L*Rse);\n",
"Vsh = V+(I_L*Rse);// in V\n",
"Ish = Vsh/Rsh;// in A\n",
"Ia =I_L+Ia;// in A\n",
"Eg = V + (I_L*Rse) + (Ia*Ra);// in V\n",
"disp(Eg,'The generated voltage for short shunt in V is');"
   ]
   }
,
{
		   "cell_type": "markdown",
		   "metadata": {},
		   "source": [
			"## Example 10.9: Back_emf.sce"
		   ]
		  },
  {
"cell_type": "code",
	   "execution_count": null,
	   "metadata": {
	    "collapsed": true
	   },
	   "outputs": [],
"source": [
"// Exa 10.9\n",
"clc;\n",
"clear;\n",
"close;\n",
"format('v',6)\n",
"// Given data\n",
"V = 440;// in V\n",
"I = 80;// in A\n",
"Rse = 0.025;// in ohm\n",
"Ra = 0.1;// in ohm\n",
"Bd = 2;// brush drop in V\n",
"Ia = I;// in A\n",
"Ise = I;// in A\n",
"Eb = V - (Ia*(Ra+Rse)) - Bd;// in V\n",
"disp(Eb,'The back emf in V is');"
   ]
   }
],
"metadata": {
		  "kernelspec": {
		   "display_name": "Scilab",
		   "language": "scilab",
		   "name": "scilab"
		  },
		  "language_info": {
		   "file_extension": ".sce",
		   "help_links": [
			{
			 "text": "MetaKernel Magics",
			 "url": "https://github.com/calysto/metakernel/blob/master/metakernel/magics/README.md"
			}
		   ],
		   "mimetype": "text/x-octave",
		   "name": "scilab",
		   "version": "0.7.1"
		  }
		 },
		 "nbformat": 4,
		 "nbformat_minor": 0
}
