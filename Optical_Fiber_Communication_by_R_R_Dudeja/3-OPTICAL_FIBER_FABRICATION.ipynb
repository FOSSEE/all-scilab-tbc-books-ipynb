{
"cells": [
 {
		   "cell_type": "markdown",
	   "metadata": {},
	   "source": [
       "# Chapter 3: OPTICAL FIBER FABRICATION"
	   ]
	},
{
		   "cell_type": "markdown",
		   "metadata": {},
		   "source": [
			"## Example 3.1_a: fracture_stress.sce"
		   ]
		  },
  {
"cell_type": "code",
	   "execution_count": null,
	   "metadata": {
	    "collapsed": true
	   },
	   "outputs": [],
"source": [
"// Example 3.1.a:fracture stress\n",
"clc;\n",
"clear;\n",
"close;\n",
"la=0.16;//bond length in nm\n",
"st=2.6*10^6;//psi\n",
"psi=6894.76;//Nm^-2\n",
"e=9*10^10;//NM^-2\n",
"yp=((4*la*10^-9*(st*psi)^2)/(e));//in joules\n",
"c=10^-8;//\n",
"sf=sqrt((2*e*yp)/(%pi*c));//N/m^2\n",
"sf1=sf/(psi);//psi\n",
"disp(sf1,'fracture stress in psi is')"
   ]
   }
,
{
		   "cell_type": "markdown",
		   "metadata": {},
		   "source": [
			"## Example 3.1_b: percentage_strain.sce"
		   ]
		  },
  {
"cell_type": "code",
	   "execution_count": null,
	   "metadata": {
	    "collapsed": true
	   },
	   "outputs": [],
"source": [
"// Example 3.1.b:percentage strain\n",
"clc;\n",
"clear;\n",
"close;\n",
"la=0.16;//bond length in nm\n",
"st=2.6*10^6;//psi\n",
"psi=6894.76;//Nm^-2\n",
"e=9*10^10;//NM^-2\n",
"yp=((4*la*10^-9*(st*psi)^2)/(e));//in joules\n",
"c=10^-8;//\n",
"sf=sqrt((2*e*yp)/(%pi*c));//N/m^2\n",
"sf1=sf/(psi);//psi\n",
"e=(sf/e)*100;//\n",
"disp(round(e),'percentage strain (%) is')"
   ]
   }
,
{
		   "cell_type": "markdown",
		   "metadata": {},
		   "source": [
			"## Example 3.2: loss.sce"
		   ]
		  },
  {
"cell_type": "code",
	   "execution_count": null,
	   "metadata": {
	    "collapsed": true
	   },
	   "outputs": [],
"source": [
"//Example 3.2 // The loss\n",
"clc;\n",
"clear;\n",
"close;\n",
"//given data :\n",
"format('v',5)\n",
"n1=1.5;\n",
"n2=1;\n",
"r=((n1-n2)/(n1+n2))^2;\n",
"L_f= (-10*log10(1-r));\n",
"disp(L_f,'The optical loss at one end,(dB) = ')\n",
"Lt=2*L_f;\n",
"disp(Lt,'Total loss at both joints,(dB) = ')"
   ]
   }
,
{
		   "cell_type": "markdown",
		   "metadata": {},
		   "source": [
			"## Example 3.3_a: insertion_loss_and_lateral_misalignment.sce"
		   ]
		  },
  {
"cell_type": "code",
	   "execution_count": null,
	   "metadata": {
	    "collapsed": true
	   },
	   "outputs": [],
"source": [
"// Example 3.3.a:insertion loss\n",
"clc;\n",
"clear;\n",
"close;\n",
"n12=1.5;//refractive index\n",
"y=5;//lateral misalignment in micro meter\n",
"a2=50;//dia in micro meter\n",
"nlat=((16*n12^2)/(%pi*(1+n12)^4))*((2*acos(y/a2))-(y/a2)*sqrt(1-(y/a2)^2));//\n",
"loss=-10*log10(nlat);//loss in dB\n",
"disp(loss,'insertion loss in dB is')\n",
"//answer is wrong in the textbook"
   ]
   }
,
{
		   "cell_type": "markdown",
		   "metadata": {},
		   "source": [
			"## Example 3.3_b: insertion_loss_and_lateral_misalignment.sce"
		   ]
		  },
  {
"cell_type": "code",
	   "execution_count": null,
	   "metadata": {
	    "collapsed": true
	   },
	   "outputs": [],
"source": [
"// Example 3.3.b:insertion loss\n",
"clc;\n",
"clear;\n",
"close;\n",
"n12=1.5;//refractive index\n",
"y=5;//lateral misalignment in micro meter\n",
"a2=50;//dia in micro meter\n",
"nlat=(1/(%pi))*((2*acos(y/a2))-(y/a2)*sqrt(1-(y/a2)^2));//\n",
"loss=-10*log10(nlat);//loss in dB\n",
"disp(loss,'insertion loss in dB is')\n",
"//answer is wrong in the textbook"
   ]
   }
,
{
		   "cell_type": "markdown",
		   "metadata": {},
		   "source": [
			"## Example 3.4_a: insertion_loss.sce"
		   ]
		  },
  {
"cell_type": "code",
	   "execution_count": null,
	   "metadata": {
	    "collapsed": true
	   },
	   "outputs": [],
"source": [
"//Example 3.4.a // insertion loss\n",
"clc;\n",
"clear;\n",
"close;\n",
"//given data :\n",
"y=3;// in micro-m\n",
"alfa=2;\n",
"d=50;// in micro-m\n",
"a=d/alfa;\n",
"Lt=0.85*(y/a);\n",
"eta_lat=1-Lt;\n",
"L_lat=-10*log10(eta_lat);\n",
"disp(L_lat,'The insertion loss,(dB) = ')"
   ]
   }
,
{
		   "cell_type": "markdown",
		   "metadata": {},
		   "source": [
			"## Example 3.4_b: insertion_loss.sce"
		   ]
		  },
  {
"cell_type": "code",
	   "execution_count": null,
	   "metadata": {
	    "collapsed": true
	   },
	   "outputs": [],
"source": [
"//Example 3.4.b // insertion loss\n",
"clc;\n",
"clear;\n",
"close;\n",
"//given data :\n",
"y=3;// in micro-m\n",
"alfa=2;\n",
"d=50;// in micro-m\n",
"a=d/alfa;\n",
"Lt=0.75*(y/a);\n",
"eta_lat=1-Lt;\n",
"L_lat=-10*log10(eta_lat);\n",
"disp(L_lat,'The insertion loss,(dB) = ')"
   ]
   }
,
{
		   "cell_type": "markdown",
		   "metadata": {},
		   "source": [
			"## Example 3.5: insertion_loss.sce"
		   ]
		  },
  {
"cell_type": "code",
	   "execution_count": null,
	   "metadata": {
	    "collapsed": true
	   },
	   "outputs": [],
"source": [
"//Example 3.5 // insertion loss\n",
"clc;\n",
"clear;\n",
"close;\n",
"//given data :\n",
"n1BYn2=1.48;\n",
"NA1=0.2;\n",
"n2theta=(5*%pi)/180;\n",
"NA2=0.4;\n",
"eta1=((16*(n1BYn2)^2)/(1+n1BYn2)^4)*(1-((n2theta/(%pi*NA1))));\n",
"L_ang1=-10*log10(eta1);\n",
"eta2=((16*(n1BYn2)^2)/(1+n1BYn2)^4)*(1-((n2theta/(%pi*NA2))));\n",
"L_ang2=-10*log10(eta2)\n",
"disp(L_ang1,'the insertion loss,(dB) = ')\n",
"disp(L_ang2,'the insertion loss,(dB) = ')"
   ]
   }
,
{
		   "cell_type": "markdown",
		   "metadata": {},
		   "source": [
			"## Example 3.6: total_insertion_loss.sce"
		   ]
		  },
  {
"cell_type": "code",
	   "execution_count": null,
	   "metadata": {
	    "collapsed": true
	   },
	   "outputs": [],
"source": [
"//Example 3.6 //total insertion loss\n",
"clc;\n",
"clear;\n",
"close;\n",
"//given data :\n",
"a=8/2;// in micro-m\n",
"V=2.4;\n",
"w=a*((0.65+(1.62*V^(-3/2))+(2.88*V^-6))/sqrt(2));\n",
"y=1;\n",
"NA=0.1;\n",
"theta=%pi/180;\n",
"n1=1.46;\n",
"T_lat=2.17*(y/w)^2;\n",
"T_ang=2.17*((theta*w*n1*V)/(a*NA))^2;\n",
"T=T_lat+T_ang;\n",
"disp(T,'Total insertion loss,(dB) = ')"
   ]
   }
,
{
		   "cell_type": "markdown",
		   "metadata": {},
		   "source": [
			"## Example 3.7: loss.sce"
		   ]
		  },
  {
"cell_type": "code",
	   "execution_count": null,
	   "metadata": {
	    "collapsed": true
	   },
	   "outputs": [],
"source": [
"//Example 3.7 //The loss\n",
"clc;\n",
"clear;\n",
"close;\n",
"//given data :\n",
"a=9.2;// in micro-m\n",
"b=8.4;// in micro-m\n",
"wo2=b/2;\n",
"wo1=a/2;\n",
"L=-10*log10(4*((wo2/wo1)+(wo1/wo2))^-2);\n",
"disp(L,'The loss,L(dB) = ')\n",
"// answer is wrong in textbook  "
   ]
   }
,
{
		   "cell_type": "markdown",
		   "metadata": {},
		   "source": [
			"## Example 3.8: excess_loss_insertion_loss_cross_talk_and_split_ratio.sce"
		   ]
		  },
  {
"cell_type": "code",
	   "execution_count": null,
	   "metadata": {
	    "collapsed": true
	   },
	   "outputs": [],
"source": [
"//Example 3.8.a // Excess loss\n",
"clc;\n",
"clear;\n",
"close;\n",
"//given data :\n",
"P1=60;// in micro-W\n",
"P3=26;// in micro-W\n",
"P4=27.5;// in micro-W\n",
"P2=0.004;// in micro-W\n",
"E_loss=10*log10((P1/(P3+P4)));\n",
"disp(E_loss,'(a). The excess loss,(dB) = ')\n",
"I_loss=10*log10(P1/P4);\n",
"disp(I_loss,'(b).i. insertion loss port 1 to port 4,(dB) = ')\n",
"I_loss1=10*log10(P1/P3);\n",
"disp(I_loss1,'(b).ii. insertion loss port 1 to port 3,(dB) = ')\n",
"C_talk=10*log10(P2/P1);\n",
"disp(C_talk,'Cross talk,(db) = ')\n",
"sr=(P3/(P3+P4))*100;\n",
"disp(sr,'Split ratio,(%) = ')"
   ]
   }
,
{
		   "cell_type": "markdown",
		   "metadata": {},
		   "source": [
			"## Example 3.9: total_loss_and_average_insertion_loss.sce"
		   ]
		  },
  {
"cell_type": "code",
	   "execution_count": null,
	   "metadata": {
	    "collapsed": true
	   },
	   "outputs": [],
"source": [
"//Example 3.9 // Total loss and Average insertion loss\n",
"clc;\n",
"clear;\n",
"close;\n",
"//given data :\n",
"N=32;\n",
"Pin=10^3;\n",
"a=14;// in micro-W\n",
"pf=a*N;\n",
"s_loss=10*log10(N);\n",
"e_loss=10*log10(Pin/pf);\n",
"T_loss=s_loss+e_loss;\n",
"disp(T_loss,'Total loss,(dB) = ')\n",
"I_loss=10*log10(Pin/a);\n",
"disp(I_loss,'The insertion loss,(dB) = ' )"
   ]
   }
],
"metadata": {
		  "kernelspec": {
		   "display_name": "Scilab",
		   "language": "scilab",
		   "name": "scilab"
		  },
		  "language_info": {
		   "file_extension": ".sce",
		   "help_links": [
			{
			 "text": "MetaKernel Magics",
			 "url": "https://github.com/calysto/metakernel/blob/master/metakernel/magics/README.md"
			}
		   ],
		   "mimetype": "text/x-octave",
		   "name": "scilab",
		   "version": "0.7.1"
		  }
		 },
		 "nbformat": 4,
		 "nbformat_minor": 0
}
