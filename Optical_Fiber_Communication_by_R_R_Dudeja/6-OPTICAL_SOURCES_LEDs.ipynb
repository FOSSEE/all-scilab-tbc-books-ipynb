{
"cells": [
 {
		   "cell_type": "markdown",
	   "metadata": {},
	   "source": [
       "# Chapter 6: OPTICAL SOURCES LEDs"
	   ]
	},
{
		   "cell_type": "markdown",
		   "metadata": {},
		   "source": [
			"## Example 6.10: power_coupled.sce"
		   ]
		  },
  {
"cell_type": "code",
	   "execution_count": null,
	   "metadata": {
	    "collapsed": true
	   },
	   "outputs": [],
"source": [
"// Example 6.10 //power coupled\n",
"clc;\n",
"clear;\n",
"close;\n",
"tha=15;//in degree\n",
"po=1;//in micro watt\n",
"nc=(sind(tha))^2;//\n",
"pf=nc*po*10^-6;//in watts\n",
"disp(pf*10^9,'power coupled in nW is')"
   ]
   }
,
{
		   "cell_type": "markdown",
		   "metadata": {},
		   "source": [
			"## Example 6.11: power_coupled.sce"
		   ]
		  },
  {
"cell_type": "code",
	   "execution_count": null,
	   "metadata": {
	    "collapsed": true
	   },
	   "outputs": [],
"source": [
"// Example 6.11 //power coupled\n",
"clc;\n",
"clear;\n",
"close;\n",
"If=1.5;//in mA\n",
"Vf=20;//in volts\n",
"pin=If*Vf;//in Watts\n",
"nint=2;//efficiency    \n",
"tha=20;//in degree\n",
"po=((nint/100)*pin);//in Watt\n",
"nc=(sind(tha))^2;//\n",
"pf=nc*po;//in Watts\n",
"disp(pf*10^3,'power coupled in micro watts is')"
   ]
   }
,
{
		   "cell_type": "markdown",
		   "metadata": {},
		   "source": [
			"## Example 6.12: bandwidth.sce"
		   ]
		  },
  {
"cell_type": "code",
	   "execution_count": null,
	   "metadata": {
	    "collapsed": true
	   },
	   "outputs": [],
"source": [
"// Example 6.12;//bandwidth\n",
"clc;\n",
"clear;\n",
"close;\n",
"tr=10;//in ns\n",
"bw=(0.35/tr);//in MHz\n",
"disp(bw*10^3,'bandwidth in MHz is')"
   ]
   }
,
{
		   "cell_type": "markdown",
		   "metadata": {},
		   "source": [
			"## Example 6.13: coupling_efficiency.sce"
		   ]
		  },
  {
"cell_type": "code",
	   "execution_count": null,
	   "metadata": {
	    "collapsed": true
	   },
	   "outputs": [],
"source": [
"// Example 6.13 //coupling efficiency\n",
"clc;\n",
"clear;\n",
"close;\n",
"t=1;//\n",
"no=1;//\n",
"na=0.3;//\n",
"x=1;//assume\n",
"y=1;//\n",
"nc1=(t*(na/no)^2*(x/y)^2)*100;//\n",
"alpha=2;//\n",
"nc2=((t*(na/no)^2*(x/y)^2*(alpha/(alpha+2))))*100;//\n",
"disp(nc1,'coupling efficiency for step index fiber in (%)')\n",
"disp(nc2,'coupling efficiency for graded index fiber in (%)')"
   ]
   }
,
{
		   "cell_type": "markdown",
		   "metadata": {},
		   "source": [
			"## Example 6.14: coupling_efficiency.sce"
		   ]
		  },
  {
"cell_type": "code",
	   "execution_count": null,
	   "metadata": {
	    "collapsed": true
	   },
	   "outputs": [],
"source": [
"// Example 6.14 //coupling efficiency\n",
"clc;\n",
"clear;\n",
"close;\n",
"t=1;//\n",
"no=1;//\n",
"na=0.3;//\n",
"x=1;//assume\n",
"y=3/4;//\n",
"alpha=2;//\n",
"nc1=((t*(na/no)^2)*(alpha+(1-(y/x)^2)))/(alpha+2)*100;//\n",
"disp(nc1,'coupling efficiency for graded index fiber in (%)')"
   ]
   }
,
{
		   "cell_type": "markdown",
		   "metadata": {},
		   "source": [
			"## Example 6.15: power_coupled.sce"
		   ]
		  },
  {
"cell_type": "code",
	   "execution_count": null,
	   "metadata": {
	    "collapsed": true
	   },
	   "outputs": [],
"source": [
"// Example 6.15;//power coupled\n",
"clc;\n",
"clear;\n",
"close;\n",
"n1=1.48;//\n",
"n2=1.46;//\n",
"po=100;//in micro watts\n",
"pin=((po*((n1^2-n2^2))));//in micro watts\n",
"disp(pin,'power coupled in micro watts is')"
   ]
   }
,
{
		   "cell_type": "markdown",
		   "metadata": {},
		   "source": [
			"## Example 6.1: internal_quantum_efficiency.sce"
		   ]
		  },
  {
"cell_type": "code",
	   "execution_count": null,
	   "metadata": {
	    "collapsed": true
	   },
	   "outputs": [],
"source": [
"// Example 6.1 //inernal quantum efficiency\n",
"clc;\n",
"clear;\n",
"close;\n",
"tr=2.5;//radiative recombination time in milli second\n",
"tnr=50;//non radiative recombination time in milli second\n",
"t=(tr*tnr)/(tr+tnr);//Bulk recombination life time in millisecond\n",
"nint= (t/tr)\n",
"disp(nint*100,'inernal quantum efficiency is(%) ')"
   ]
   }
,
{
		   "cell_type": "markdown",
		   "metadata": {},
		   "source": [
			"## Example 6.2: total_carrier_recombination_lifetime_and_power.sce"
		   ]
		  },
  {
"cell_type": "code",
	   "execution_count": null,
	   "metadata": {
	    "collapsed": true
	   },
	   "outputs": [],
"source": [
"// Example 6.2//internal power level\n",
"clc;\n",
"clear;\n",
"close;\n",
"e=1.6*10^-19;//Electronic charge\n",
"ht=6.62*10^-34;//Constt\n",
"C=3*10^8;//speed light in m/s\n",
"h=0.87*10^-6;//wavelength in meter\n",
"tr=80;//radiative recombination time in nano second\n",
"tnr=120;//non radiative recombination time in nano second\n",
"t=(tr*tnr)/(tr+tnr);//Bulk recombination life time in nano second\n",
"nint= (t/tr)\n",
"i=40;//injected current in milli ampere\n",
"Pint= (nint*((ht*C*i*10^-3)/(e*h)))*10^3;//internal power level in milli Watt\n",
"disp(Pint,'internal power level in milli Watt')"
   ]
   }
,
{
		   "cell_type": "markdown",
		   "metadata": {},
		   "source": [
			"## Example 6.3_a: optical_power.sce"
		   ]
		  },
  {
"cell_type": "code",
	   "execution_count": null,
	   "metadata": {
	    "collapsed": true
	   },
	   "outputs": [],
"source": [
"// Example 6.3.a//optical power emitted\n",
"clc;\n",
"clear;\n",
"close;\n",
"F=0.62;//transmission factore\n",
"nx=3.6;//refractive index\n",
"n=1;//refractive index of air\n",
"Px=((F*n^2)/(4*nx^2));//optical power emitter\n",
"disp('emiiter power in terms of power generated internally is '+string(Px)+' Pint')"
   ]
   }
,
{
		   "cell_type": "markdown",
		   "metadata": {},
		   "source": [
			"## Example 6.3_b: external_efficiency.sce"
		   ]
		  },
  {
"cell_type": "code",
	   "execution_count": null,
	   "metadata": {
	    "collapsed": true
	   },
	   "outputs": [],
"source": [
"// Example 6.3.b //external power efficiency\n",
"clc;\n",
"clear;\n",
"close;\n",
"F=0.62;//transmission factore\n",
"nx=3.6;//refractive index\n",
"n=1;//refractive index of air\n",
"Px=((F*n^2)/(4*nx^2));//optical power emitter\n",
"Pint=0.5;//\n",
"NEP=(Px*Pint)*100;//\n",
"disp(NEP,'external power efficiency in (%) is')"
   ]
   }
,
{
		   "cell_type": "markdown",
		   "metadata": {},
		   "source": [
			"## Example 6.4_a: coupling_efficiency.sce"
		   ]
		  },
  {
"cell_type": "code",
	   "execution_count": null,
	   "metadata": {
	    "collapsed": true
	   },
	   "outputs": [],
"source": [
"// Example 6.4.a //coupling efficiency\n",
"clc;\n",
"clear;\n",
"close;\n",
"NA=0.2;//numerical aperture\n",
"n=1.4;//refractive index\n",
"nc=(NA)^2;//coupling efficiency\n",
"disp(nc,'coupling efficiency is')"
   ]
   }
,
{
		   "cell_type": "markdown",
		   "metadata": {},
		   "source": [
			"## Example 6.4_b: optical_loss.sce"
		   ]
		  },
  {
"cell_type": "code",
	   "execution_count": null,
	   "metadata": {
	    "collapsed": true
	   },
	   "outputs": [],
"source": [
"// Example 6.4.b //optical power loss\n",
"clc;\n",
"clear;\n",
"close;\n",
"NA=0.2;//numerical aperture\n",
"n=1.4;//refractive index\n",
"nc=(NA)^2;//coupling efficiency\n",
"Loss=round(-(10*log10(nc)));//optical loss in dB\n",
"disp(Loss,'optical loss in dB is')"
   ]
   }
,
{
		   "cell_type": "markdown",
		   "metadata": {},
		   "source": [
			"## Example 6.4_c: loss.sce"
		   ]
		  },
  {
"cell_type": "code",
	   "execution_count": null,
	   "metadata": {
	    "collapsed": true
	   },
	   "outputs": [],
"source": [
"// Example 6.4.c //optical  loss\n",
"clc;\n",
"clear;\n",
"close;\n",
"NA=0.2;//numerical aperture\n",
"n=1.4;//refractive index\n",
"nc=(NA)^2;//coupling efficiency\n",
"pe=0.012;//\n",
"pc1=pe*nc;//\n",
"Loss=round(-(10*log10(pc1)));//optical loss in dB\n",
"disp(Loss,'optical loss in dB is')\n",
"//answer is wrong in the text book"
   ]
   }
,
{
		   "cell_type": "markdown",
		   "metadata": {},
		   "source": [
			"## Example 6.5: optical_power.sce"
		   ]
		  },
  {
"cell_type": "code",
	   "execution_count": null,
	   "metadata": {
	    "collapsed": true
	   },
	   "outputs": [],
"source": [
"// Example 6.5 //optical power \n",
"clc;\n",
"clear;\n",
"close;\n",
"r=0.01;//fresenel reflection coefficient\n",
"NA=0.15;//numeical apertrure\n",
"Rd=30;//radiance in W sr-1 cm-2\n",
"R=30*10^-4;//radis in centi meter\n",
"A=(%pi*R^2);//area \n",
"Pc=(%pi*(1-r)*A*Rd*NA^2)*10^6;//optical power coupled in mincro watt\n",
"disp(Pc,'optical power coupled in micro Watt is')\n",
"// answer is wrong in the textbook"
   ]
   }
,
{
		   "cell_type": "markdown",
		   "metadata": {},
		   "source": [
			"## Example 6.6: overall_power_conversion_efficiency.sce"
		   ]
		  },
  {
"cell_type": "code",
	   "execution_count": null,
	   "metadata": {
	    "collapsed": true
	   },
	   "outputs": [],
"source": [
"\n",
"// Example 6.6 //overall power conversion efficiency \n",
"clc;\n",
"clear;\n",
"close;\n",
"Pc=200*10^-6;//Optical power in Watt\n",
"If=25;//forward current in milli Ampere\n",
"Vf=1.5;//forward voltage in Volts\n",
"P=If*10^-3*Vf;//power in Watt\n",
"npc=((Pc/P));//overall power conversion efficiency\n",
"disp(npc*100,'overall power conversion efficiency in percentage')\n",
"//answer is wrong in the textbook"
   ]
   }
,
{
		   "cell_type": "markdown",
		   "metadata": {},
		   "source": [
			"## Example 6.7: compare_electrical_and_optical_bandwidth.sce"
		   ]
		  },
  {
"cell_type": "code",
	   "execution_count": null,
	   "metadata": {
	    "collapsed": true
	   },
	   "outputs": [],
"source": [
"// Example 6.7:compare\n",
"clc;\n",
"clear;\n",
"close;\n",
"ioi=1/sqrt(2);//given\n",
"ioi1=1/(2);//given/\n",
"disp(ioi,'-3 dB electrical bandwidth point occur when Iout/Iin,=')\n",
"disp(ioi1,'-3 dB optical bandwidth point occur when Iout/Iin,=')"
   ]
   }
,
{
		   "cell_type": "markdown",
		   "metadata": {},
		   "source": [
			"## Example 6.8: optical_power_and_optical_bandwidth.sce"
		   ]
		  },
  {
"cell_type": "code",
	   "execution_count": null,
	   "metadata": {
	    "collapsed": true
	   },
	   "outputs": [],
"source": [
"// Example 6.8 //find output power and bandwidth\n",
"clc;\n",
"clear;\n",
"close;\n",
"Pdc=320*10^-6;//d.c. power in Watt\n",
"f1=20*10^6;//frequency in hertz\n",
"Ti=5*10^-9;//recombination life time in nano second\n",
"Pe1=(Pdc/sqrt(1+(2*%pi*f1*Ti)^2))*10^6;\n",
"f2=100*10^6;//frequency in hertz\n",
"Pe2=(Pdc/sqrt(1+(2*%pi*f2*Ti)^2))*10^6;\n",
"f=((sqrt(3))/(2*%pi*Ti));//in MHz\n",
"fele=f*0.707;//\n",
"disp(Pe1,'overall power in micro Watt when frequecy is 20 MHz')\n",
"disp(Pe2,'overall power in micro Watt when frequecy is 80 MHz')\n",
"disp(f*10^-6,'optical bandwidth in MHz is')\n",
"disp(round(fele*10^-6),'electrical bandwidth in MHz is')"
   ]
   }
,
{
		   "cell_type": "markdown",
		   "metadata": {},
		   "source": [
			"## Example 6.9: operating_lifetime.sce"
		   ]
		  },
  {
"cell_type": "code",
	   "execution_count": null,
	   "metadata": {
	    "collapsed": true
	   },
	   "outputs": [],
"source": [
"// Example 6.9;//CW operating lifetime\n",
"clc;\n",
"clear;\n",
"close;\n",
"d=0.67;//\n",
"bo=1.86*10^7;//in h^-1\n",
"ea=1.67*10^-19;//\n",
"k=1.38*10^-23;//\n",
"t=290;//Kelvin\n",
"x=((-ea)/(k*t));//\n",
"be=((bo)*exp(-40));//in h^-1\n",
"t=((-log(d))/be);//in hours\n",
"disp(t,'CW operating lifetime in hours is')"
   ]
   }
],
"metadata": {
		  "kernelspec": {
		   "display_name": "Scilab",
		   "language": "scilab",
		   "name": "scilab"
		  },
		  "language_info": {
		   "file_extension": ".sce",
		   "help_links": [
			{
			 "text": "MetaKernel Magics",
			 "url": "https://github.com/calysto/metakernel/blob/master/metakernel/magics/README.md"
			}
		   ],
		   "mimetype": "text/x-octave",
		   "name": "scilab",
		   "version": "0.7.1"
		  }
		 },
		 "nbformat": 4,
		 "nbformat_minor": 0
}
