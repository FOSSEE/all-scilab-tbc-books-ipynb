{
"cells": [
 {
		   "cell_type": "markdown",
	   "metadata": {},
	   "source": [
       "# Chapter 5: OPTICAL SOURCES LASER"
	   ]
	},
{
		   "cell_type": "markdown",
		   "metadata": {},
		   "source": [
			"## Example 5.1: number_of_longitudinal_modes_and_their_frequency_separation.sce"
		   ]
		  },
  {
"cell_type": "code",
	   "execution_count": null,
	   "metadata": {
	    "collapsed": true
	   },
	   "outputs": [],
"source": [
"// Example 5.1 //number of longitudinal modes and frequency spacing\n",
"clc;\n",
"clear;\n",
"close;\n",
"h=0.55*10^-6;//Wavelength in meter\n",
"n=1.78;//refractive index\n",
"L=4*10^-2;//Length in meter\n",
"C=3*10^8;//Speed of light in m/s\n",
"q=(2*n*L)/(h);//Number of logitudinal modes\n",
"df=((C)/(2*n*L))*10^-9;//frequency sepration in Gega Hertz\n",
"disp(q,'Number of longitudinal modes are ')\n",
"disp(df,'frequency spacing in Gega Hertz is ')\n",
""
   ]
   }
,
{
		   "cell_type": "markdown",
		   "metadata": {},
		   "source": [
			"## Example 5.2: radiative_minority_carrier_lifetimes.sce"
		   ]
		  },
  {
"cell_type": "code",
	   "execution_count": null,
	   "metadata": {
	    "collapsed": true
	   },
	   "outputs": [],
"source": [
"// Example 5.2;//wavelength spacing and frequency spacing\n",
"clc;\n",
"clear;\n",
"close;\n",
"Br1=7.21*10^-10;//Bit rate\n",
"n=10^18;//hole concentration\n",
"Trg=((Br1*n)^-1)*10^9;//radiative minority carrier lifetime in GaAs in ns\n",
"Br2=1.79*10^-15;//Bit rate\n",
"Trs=((Br2*n)^-1)*10^3;//radiative minority carrier lifetime in Si in ms\n",
"disp(Trg,'radiative minority carrier lifetime in GaAs in ns')\n",
"disp(Trs,'radiative minority carrier lifetime in Si in ms')"
   ]
   }
,
{
		   "cell_type": "markdown",
		   "metadata": {},
		   "source": [
			"## Example 5.3: threshold_current_density.sce"
		   ]
		  },
  {
"cell_type": "code",
	   "execution_count": null,
	   "metadata": {
	    "collapsed": true
	   },
	   "outputs": [],
"source": [
"\n",
"// Example 5.3 //threshold density and threshold current\n",
"clc;\n",
"clear;\n",
"close;\n",
"B=21*10^-3;//Gain factor in ampere per centimeter cube\n",
"alpha=10;// in per cm\n",
"L=250*10^-4;//length in meter\n",
"w=100;//in micro meter\n",
"r=0.32;\n",
"Jth=(1/B)*(alpha+(1/L)*log(1/r));//Threshold current in ampere per centimeter cube\n",
"ith=Jth*L*w*10^-4;//\n",
"disp(Jth,'threshold density in Ampere per centimeter square')\n",
"disp(ith*10^3,'threshold current in mA is')"
   ]
   }
,
{
		   "cell_type": "markdown",
		   "metadata": {},
		   "source": [
			"## Example 5.4: slope_efficiency.sce"
		   ]
		  },
  {
"cell_type": "code",
	   "execution_count": null,
	   "metadata": {
	    "collapsed": true
	   },
	   "outputs": [],
"source": [
"// Example 5.4 //slope efficiency\n",
"clc;\n",
"clear;\n",
"close;\n",
"eg=1242;//\n",
"e=1300;//in nm\n",
"n=0.1;//efficiency\n",
"s=((eg/e)*n);//\n",
"disp(s,'slope efficiency is')"
   ]
   }
,
{
		   "cell_type": "markdown",
		   "metadata": {},
		   "source": [
			"## Example 5.5: external_power_efficiency.sce"
		   ]
		  },
  {
"cell_type": "code",
	   "execution_count": null,
	   "metadata": {
	    "collapsed": true
	   },
	   "outputs": [],
"source": [
"// Example 5.5//external power efficiency\n",
"clc;\n",
"clear;\n",
"close;\n",
"eg=1.44;//\n",
"v=2.8;//in volts\n",
"an=0.20;;//efficiency\n",
"nep=((an*(eg/v))*100);//external power efficiency \n",
"disp(nep,'external power efficiency in percentage is')"
   ]
   }
,
{
		   "cell_type": "markdown",
		   "metadata": {},
		   "source": [
			"## Example 5.6: compare_ratio_of_threshold_current_densities.sce"
		   ]
		  },
  {
"cell_type": "code",
	   "execution_count": null,
	   "metadata": {
	    "collapsed": true
	   },
	   "outputs": [],
"source": [
"// Example 5.6;//ratio of threshold current at differnt temperatures\n",
"clc;\n",
"close;\n",
"clear;\n",
"To1=160;//Absolute temperature in Kelvin\n",
"To=55;//in Kelvin\n",
"T1=293;//T=20 in Kelvin\n",
"T2=353;//T=80 in Kelvin\n",
"J1=exp((T2-T1)/To1);//threshold current ration for AlGaAs laser\n",
"J2=exp((T2-T1)/To);//threshold current RATIO FOR InGaAs laser\n",
"disp(J1,'ratio of the threshold current densities for AlGaAs laser')\n",
"disp(J2,'ratio of current densities for InGaAs laser')"
   ]
   }
,
{
		   "cell_type": "markdown",
		   "metadata": {},
		   "source": [
			"## Example 5.7_a: rms_value_of_power_fluctuatio.sce"
		   ]
		  },
  {
"cell_type": "code",
	   "execution_count": null,
	   "metadata": {
	    "collapsed": true
	   },
	   "outputs": [],
"source": [
"// Example 5.7.a;//rms value of power fluctuation\n",
"clc;\n",
"close;\n",
"clear;\n",
"op=10^-15;//outputin dB Hz^-1\n",
"bw=100;//in MHz\n",
"h=1.55;//in micro meter\n",
"ef=0.6;//quantum efficiency\n",
"pi=2;//in mW\n",
"rrmf=op*bw*10^6;//\n",
"rmf=sqrt(rrmf);//\n",
"disp(rmf,'rms value of power fluctuation is')"
   ]
   }
,
{
		   "cell_type": "markdown",
		   "metadata": {},
		   "source": [
			"## Example 5.7_b: rms_noise_current.sce"
		   ]
		  },
  {
"cell_type": "code",
	   "execution_count": null,
	   "metadata": {
	    "collapsed": true
	   },
	   "outputs": [],
"source": [
"// Example 5.7.b;//rms noise current\n",
"clc;\n",
"close;\n",
"clear;\n",
"op=10^-15;//outputin dB Hz^-1\n",
"bw=100;//in MHz\n",
"h=1.55;//in micro meter\n",
"ef=0.6;//quantum efficiency\n",
"pi=2;//in mW\n",
"rrmf=op*bw*10^6;//\n",
"rmf=sqrt(rrmf);//\n",
"e=1.6*10^-19;//\n",
"hc=6.63*10^-34;//\n",
"c=3*10^8;//in m/s\n",
"x=((e*ef*h*10^-6*pi*10^-3*10^4*3.16*10^-8)/(hc*c));//\n",
"disp(x,'rms noise current in A is')"
   ]
   }
],
"metadata": {
		  "kernelspec": {
		   "display_name": "Scilab",
		   "language": "scilab",
		   "name": "scilab"
		  },
		  "language_info": {
		   "file_extension": ".sce",
		   "help_links": [
			{
			 "text": "MetaKernel Magics",
			 "url": "https://github.com/calysto/metakernel/blob/master/metakernel/magics/README.md"
			}
		   ],
		   "mimetype": "text/x-octave",
		   "name": "scilab",
		   "version": "0.7.1"
		  }
		 },
		 "nbformat": 4,
		 "nbformat_minor": 0
}
