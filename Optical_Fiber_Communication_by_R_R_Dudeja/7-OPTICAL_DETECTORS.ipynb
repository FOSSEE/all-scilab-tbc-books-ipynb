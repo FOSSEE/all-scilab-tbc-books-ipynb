{
"cells": [
 {
		   "cell_type": "markdown",
	   "metadata": {},
	   "source": [
       "# Chapter 7: OPTICAL DETECTORS"
	   ]
	},
{
		   "cell_type": "markdown",
		   "metadata": {},
		   "source": [
			"## Example 7.10: bandwidth.sce"
		   ]
		  },
  {
"cell_type": "code",
	   "execution_count": null,
	   "metadata": {
	    "collapsed": true
	   },
	   "outputs": [],
"source": [
"//Example 7.10 // Bandwidth\n",
"clc;\n",
"clear;\n",
"close;\n",
"//given data :\n",
"t_tr=100;// in ps\n",
"tau_rc=100;// in ps\n",
"BW=(1/(2*%pi*(t_tr+tau_rc)*10^-12))*10^-9;\n",
"disp(BW,'Bandwidth,BW(G bit/s) = ')"
   ]
   }
,
{
		   "cell_type": "markdown",
		   "metadata": {},
		   "source": [
			"## Example 7.11: multiplication_factor.sce"
		   ]
		  },
  {
"cell_type": "code",
	   "execution_count": null,
	   "metadata": {
	    "collapsed": true
	   },
	   "outputs": [],
"source": [
"//Example 7.11 // Multiplication factor\n",
"clc;\n",
"clear;\n",
"close;\n",
"//given data :\n",
"eta=80/100;// quantum efficiency\n",
"e=1.6*10^-19;\n",
"lamda=.88*10^-6;// in m\n",
"h=6.63*10^-34;// \n",
"c=3*10^8;\n",
"I=12;// in micro-A\n",
"R=(eta*e*lamda)/(h*c);\n",
"P0=0.6*10^-6;// in W\n",
"Ip=P0*R*10^6;\n",
"M=I/Ip;\n",
"disp(M,'Multiplication factor,M = ')"
   ]
   }
,
{
		   "cell_type": "markdown",
		   "metadata": {},
		   "source": [
			"## Example 7.12: optical_gain_and_hfe.sce"
		   ]
		  },
  {
"cell_type": "code",
	   "execution_count": null,
	   "metadata": {
	    "collapsed": true
	   },
	   "outputs": [],
"source": [
"//Example 7.12 // Optical gain and hFE\n",
"clc;\n",
"clear;\n",
"close;\n",
"//given data :\n",
"h=6.63*10^-34;\n",
"c=3*10^8;\n",
"e=1.6*10^-19;\n",
"Ic=15*10^-3;// in A\n",
"P0=140*10^-6;// in W\n",
"lamda=1.3*10^-6;// in m\n",
"eta=45/100;// quantum efficiency\n",
"G0=(h*c*Ic)/(e*P0*lamda);\n",
"disp(G0,'The optical gain,G0 = ')\n",
"h_FE=G0/eta;\n",
"disp(h_FE,'hFE = ')\n",
"// answer is wrong in the textbook"
   ]
   }
,
{
		   "cell_type": "markdown",
		   "metadata": {},
		   "source": [
			"## Example 7.13: maximum_3_dB_bandwidth.sce"
		   ]
		  },
  {
"cell_type": "code",
	   "execution_count": null,
	   "metadata": {
	    "collapsed": true
	   },
	   "outputs": [],
"source": [
"//Example 7.13 // Maximum 3dB bandwidth\n",
"clc;\n",
"clear;\n",
"close;\n",
"//given data :\n",
"tF=5*10^-12;// in sec\n",
"G=60;// photoconductive gain\n",
"Bm=(1/(2*%pi*tF*G))*10^-6;\n",
"disp(Bm,'The maximum 3dB bandwidth,Bm(MHz) = ')\n",
"// answer is wrong in textbook"
   ]
   }
,
{
		   "cell_type": "markdown",
		   "metadata": {},
		   "source": [
			"## Example 7.14: SNR.sce"
		   ]
		  },
  {
"cell_type": "code",
	   "execution_count": null,
	   "metadata": {
	    "collapsed": true
	   },
	   "outputs": [],
"source": [
"//Example 7.14 // SNR\n",
"clc;\n",
"clear;\n",
"close;\n",
"r=1;//responsivity\n",
"p=0.1;//micro watt\n",
"ins=910;//nA\n",
"snr=((r^2*(p*10^3)^2)/(ins^2));//\n",
"disp(snr,'SNR is, =')"
   ]
   }
,
{
		   "cell_type": "markdown",
		   "metadata": {},
		   "source": [
			"## Example 7.1: cut_off_wavelength.sce"
		   ]
		  },
  {
"cell_type": "code",
	   "execution_count": null,
	   "metadata": {
	    "collapsed": true
	   },
	   "outputs": [],
"source": [
"// Example 7.1 //WAVELENGTH\n",
"clc;\n",
"clear;\n",
"close;\n",
"E=1.35//energy gap in electron-volt\n",
"e=1.6*10^-19;//elecronic charge\n",
"C=3*10^8;//Speed of light in meter per second\n",
"ht=6.63*10^-34;//plank constt.\n",
"h=((ht*C)/(E*e))*10^6;//Wavelength\n",
"disp(h,'wavelength in micro meter')"
   ]
   }
,
{
		   "cell_type": "markdown",
		   "metadata": {},
		   "source": [
			"## Example 7.2: quantum_efficiency_and_responsivity.sce"
		   ]
		  },
  {
"cell_type": "code",
	   "execution_count": null,
	   "metadata": {
	    "collapsed": true
	   },
	   "outputs": [],
"source": [
"\n",
"// Example 7.2 //quantum efficiency and responsivity\n",
"clc;\n",
"clear;\n",
"close;\n",
"e=1.6*10^-19;//elecronic charge\n",
"re=1.2*10^12;// Average no. of electron hole pair generated\n",
"rp=3*10^12;//no. of photons\n",
"h=0.85;//wavelength in micro meter\n",
"E=0.75;//energy gap in electron volt\n",
"C=3*10^8;//SPEED of light in meter per second\n",
"n=round((re/rp)*100);//quantum efficiency\n",
"ht=6.62*10^-34;//plank constt.\n",
"R=((n/100)*e*h*10^-6)/(ht*C);\n",
"disp(n,'quantum efficiency (%)')\n",
"disp(R,'Responsivity is in Ampere per Watt')"
   ]
   }
,
{
		   "cell_type": "markdown",
		   "metadata": {},
		   "source": [
			"## Example 7.3: wavelength_and_optical_power.sce"
		   ]
		  },
  {
"cell_type": "code",
	   "execution_count": null,
	   "metadata": {
	    "collapsed": true
	   },
	   "outputs": [],
"source": [
"// Example 7.3 //Wavelength and Incident optical power\n",
"clc;\n",
"clear;\n",
"close;\n",
"E=1.5*10^-19;//energy in joule\n",
"e=1.6*10^-19;//elecronic charge\n",
"If=3*10^-6;//forward current in ampere\n",
"C=3*10^8;//Speed of light in meter per second\n",
"n=0.6;//quantum efficiency\n",
"ht=6.62*10^-34;//plank constt.\n",
"h=((ht*C)/E)*10^6;//Wavelength\n",
"R=(n*e)/(E);//Responsivity in ampere per watt\n",
"Po=(If/R)*10^6;//Output power in micro watt\n",
"disp(h,'wavelength in micro meter')\n",
"disp(Po,'Output power in micro Watt')"
   ]
   }
,
{
		   "cell_type": "markdown",
		   "metadata": {},
		   "source": [
			"## Example 7.4: responsivity.sce"
		   ]
		  },
  {
"cell_type": "code",
	   "execution_count": null,
	   "metadata": {
	    "collapsed": true
	   },
	   "outputs": [],
"source": [
"// Example 7.4 //responsivity\n",
"clc;\n",
"clear;\n",
"close;\n",
"n=20;//efficiency\n",
"e=1.6*10^-19;//elecronic charge\n",
"h=0.80;//wavelength in micro meter\n",
"C=3*10^8;//SPEED of light in meter per second\n",
"ht=6.62*10^-34;//plank constt.\n",
"R=((n/100)*e*h*10^-6)/(ht*C);\n",
"disp(R,'Responsivity is in Ampere per Watt')"
   ]
   }
,
{
		   "cell_type": "markdown",
		   "metadata": {},
		   "source": [
			"## Example 7.5_a: photocurrent.sce"
		   ]
		  },
  {
"cell_type": "code",
	   "execution_count": null,
	   "metadata": {
	    "collapsed": true
	   },
	   "outputs": [],
"source": [
"// Example 7.5.a //photocurrent\n",
"clc;\n",
"clear;\n",
"close;\n",
"R=0.85;//in AW^-1\n",
"pi=1.5;//in mW\n",
"po=1;//in mW\n",
"ip=po*R;//in mA\n",
"disp(ip,'photocurrent in mA is')"
   ]
   }
,
{
		   "cell_type": "markdown",
		   "metadata": {},
		   "source": [
			"## Example 7.6: responsivity.sce"
		   ]
		  },
  {
"cell_type": "code",
	   "execution_count": null,
	   "metadata": {
	    "collapsed": true
	   },
	   "outputs": [],
"source": [
"// Example 7.6 // responsivity\n",
"clc;\n",
"clear;\n",
"close;\n",
"e=1.6*10^-19;//elecronic charge\n",
"eg=0.75;//eV\n",
"n=0.7;//\n",
"R=(n*e)/(eg*e);//\n",
"disp(R,'Responsivity is in Ampere per Watt')"
   ]
   }
,
{
		   "cell_type": "markdown",
		   "metadata": {},
		   "source": [
			"## Example 7.7: width.sce"
		   ]
		  },
  {
"cell_type": "code",
	   "execution_count": null,
	   "metadata": {
	    "collapsed": true
	   },
	   "outputs": [],
"source": [
"// Example 7.7 //width  of deplition region\n",
"clc;\n",
"clear;\n",
"close;\n",
"n=70;//efficinecy\n",
"absc=10^5;//cm^-1\n",
"W=(2.303*-log10(1-(n/100)))/(absc);//in meter\n",
"disp(round(W*10^6),'deplition width in micro meter is')"
   ]
   }
,
{
		   "cell_type": "markdown",
		   "metadata": {},
		   "source": [
			"## Example 7.8: response_time.sce"
		   ]
		  },
  {
"cell_type": "code",
	   "execution_count": null,
	   "metadata": {
	    "collapsed": true
	   },
	   "outputs": [],
"source": [
"//Example 7.8 // Maximum response time\n",
"clc;\n",
"clear;\n",
"close;\n",
"//given data :\n",
"Vd=3*10^4;// in m/s\n",
"W=30*10^-6;// in m\n",
"Bm=Vd/(2*%pi*W);\n",
"M=(1/Bm)*10^9;\n",
"disp(M,'Maximum response time,(ns) = ')"
   ]
   }
,
{
		   "cell_type": "markdown",
		   "metadata": {},
		   "source": [
			"## Example 7.9: NEP_and_specific_detectivity.sce"
		   ]
		  },
  {
"cell_type": "code",
	   "execution_count": null,
	   "metadata": {
	    "collapsed": true
	   },
	   "outputs": [],
"source": [
"//Example 7.9 // NEP and specific detectivity\n",
"clc;\n",
"clear;\n",
"close;\n",
"//given data :\n",
"h=6.63*10^-34;\n",
"c=3*10^8;\n",
"Id=9*10^-9;// in A\n",
"e=1.6*10^-19;\n",
"eta=60/100;\n",
"lamda=1.3*10^-6;// in m\n",
"A=100*50*10^-12;// in m^2\n",
"NEP=(h*c*sqrt(2*Id*e))/(eta*e*lamda);\n",
"disp(NEP,'NEP,(W) = ')\n",
"D=sqrt(A)/NEP;\n",
"disp(D,'Specific detectivity,(MHz^(-1/2) W^-1) = ')"
   ]
   }
],
"metadata": {
		  "kernelspec": {
		   "display_name": "Scilab",
		   "language": "scilab",
		   "name": "scilab"
		  },
		  "language_info": {
		   "file_extension": ".sce",
		   "help_links": [
			{
			 "text": "MetaKernel Magics",
			 "url": "https://github.com/calysto/metakernel/blob/master/metakernel/magics/README.md"
			}
		   ],
		   "mimetype": "text/x-octave",
		   "name": "scilab",
		   "version": "0.7.1"
		  }
		 },
		 "nbformat": 4,
		 "nbformat_minor": 0
}
