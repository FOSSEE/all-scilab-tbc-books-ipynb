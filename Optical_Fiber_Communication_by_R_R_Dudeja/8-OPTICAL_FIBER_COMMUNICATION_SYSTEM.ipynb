{
"cells": [
 {
		   "cell_type": "markdown",
	   "metadata": {},
	   "source": [
       "# Chapter 8: OPTICAL FIBER COMMUNICATION SYSTEM"
	   ]
	},
{
		   "cell_type": "markdown",
		   "metadata": {},
		   "source": [
			"## Example 8.10: optical_power_budget.sce"
		   ]
		  },
  {
"cell_type": "code",
	   "execution_count": null,
	   "metadata": {
	    "collapsed": true
	   },
	   "outputs": [],
"source": [
"// Example 8.10 //optical power budget\n",
"clc;\n",
"clear;\n",
"close;\n",
"mip=-10;//dBm\n",
"mop=-41;//dBm\n",
"tsm=mip-mop;//dB\n",
"disp(tsm,'total system margin in dB is')\n",
"l=7;//km\n",
"fcl=2.6;//dB\n",
"lfc=l*fcl;//fiber cable loss in dB\n",
"sl=0.5;//dBm\n",
"slc=sl*(l-1);//dB\n",
"cl=1.5;//dB\n",
"sm=6;//dB\n",
"tsm1=lfc+slc+cl+sm;//dB\n",
"disp(tsm1,'total system margin in dB is')\n",
"epm=tsm-tsm1;//dB\n",
"disp(epm,'excess power margin in dB is')"
   ]
   }
,
{
		   "cell_type": "markdown",
		   "metadata": {},
		   "source": [
			"## Example 8.12: average_incident_power.sce"
		   ]
		  },
  {
"cell_type": "code",
	   "execution_count": null,
	   "metadata": {
	    "collapsed": true
	   },
	   "outputs": [],
"source": [
"// Example 8.12 //optical power\n",
"clc;\n",
"clear;\n",
"close;\n",
"e=1.6*10^-19;//electron charge\n",
"sndb=55;//signal to noise ration in dB\n",
"sn=(10^(sndb/10));//\n",
"bw=5;//Mhz\n",
"r=0.5;//responsivity\n",
"cs=0.7;//signal attenuation\n",
"k=1.38*10^-23;//bolzman constant\n",
"tc=20;//degree celsius\n",
"tk=tc+273;//Kelvin\n",
"fdb=1.5;//\n",
"f=10^(fdb/10);//\n",
"rl=1;//mega ohms\n",
"x=((sn*4*k*tk*bw*10^6*f)/(rl*10^6));//\n",
"y=((2*sn*e*bw*10^6*r));//\n",
"ma=9/8;//\n",
"z=(2*ma*r^2*cs^2);//\n",
"s=poly(0,'s');//\n",
"p=-x-y*s+z*s^2;//\n",
"m=roots(p);//\n",
"disp(m(1,1)*10^6,'average incident power in micro Watts is')"
   ]
   }
,
{
		   "cell_type": "markdown",
		   "metadata": {},
		   "source": [
			"## Example 8.13: average_incident_power.sce"
		   ]
		  },
  {
"cell_type": "code",
	   "execution_count": null,
	   "metadata": {
	    "collapsed": true
	   },
	   "outputs": [],
"source": [
"// Example 8.13 //optical power\n",
"clc;\n",
"clear;\n",
"close;\n",
"fdb=6;//\n",
"f=10^(fdb/10);//\n",
"e=1.6*10^-19;//electron charge\n",
"sndb=45;//signal to noise ration in dB\n",
"sn=(10^(sndb/10));//\n",
"h=6.63*10^-34;//planck constant\n",
"c=3*10^8;//m/s\n",
"e=1.6*10^-19;//\n",
"n=0.6;//efficneicny\n",
"ma=0.5*10^-3;//\n",
"k=1.38*10^-23;//boltzman constant\n",
"tk=300;//degree celcius\n",
"bw=8;//MHz\n",
"rl=50;//kilo ohms\n",
"po=((h*c)/(e*n*ma^2))*sqrt((8*k*tk*bw*10^6*f)/(rl*10^3))*sqrt(sn);//\n",
"disp(po*10^6,'average power incident in micro Watts is')"
   ]
   }
,
{
		   "cell_type": "markdown",
		   "metadata": {},
		   "source": [
			"## Example 8.14_a: optical_power_budget.sce"
		   ]
		  },
  {
"cell_type": "code",
	   "execution_count": null,
	   "metadata": {
	    "collapsed": true
	   },
	   "outputs": [],
"source": [
"// Example 8.14.a //optical power budget\n",
"clc;\n",
"clear;\n",
"close;\n",
"mip=-10;//dBm\n",
"mop=-25;//dBm\n",
"tsm=mip-mop;//dB\n",
"disp(tsm,'total system margin in dB is')\n",
"l=2;//km\n",
"fcl=3.2;//dB\n",
"lfc=l*fcl;//fiber cable loss in dB\n",
"sl=0.8;//dBm\n",
"slc=sl*l;//dB\n",
"cl=1.6;//dB\n",
"sm=4;//dB\n",
"tsm1=lfc+slc+cl+sm;//dB\n",
"disp(tsm1,'total system margin in dB is')\n",
"epm=tsm-tsm1;//dB\n",
"disp(epm,'excess power margin in dB is')"
   ]
   }
,
{
		   "cell_type": "markdown",
		   "metadata": {},
		   "source": [
			"## Example 8.14_b: link_length.sce"
		   ]
		  },
  {
"cell_type": "code",
	   "execution_count": null,
	   "metadata": {
	    "collapsed": true
	   },
	   "outputs": [],
"source": [
"// Example 8.14.b //possible increase in link length\n",
"clc;\n",
"clear;\n",
"close;\n",
"mip=-10;//dBm\n",
"mop=-25;//dBm\n",
"tsm=mip-mop;//dB\n",
"disp(tsm,'total system margin in dB is')\n",
"l=2;//km\n",
"fcl=3.2;//dB\n",
"lfc=l*fcl;//fiber cable loss in dB\n",
"sl=0.8;//dBm\n",
"slc=sl*l;//dB\n",
"cl=1.6;//dB\n",
"sm=4;//dB\n",
"tsm1=lfc+slc+cl+sm;//dB\n",
"disp(tsm1,'total system margin in dB is')\n",
"epm=tsm-tsm1;//dB\n",
"ma=8;//dB\n",
"l1=((-mop-cl-ma)/(fcl+sl));//km\n",
"eil=l1-l;//\n",
"disp(eil,'possible increase in length in km')"
   ]
   }
,
{
		   "cell_type": "markdown",
		   "metadata": {},
		   "source": [
			"## Example 8.15: time.sce"
		   ]
		  },
  {
"cell_type": "code",
	   "execution_count": null,
	   "metadata": {
	    "collapsed": true
	   },
	   "outputs": [],
"source": [
"//Example 8.15 // \n",
"clc;\n",
"clear;\n",
"close;\n",
"//given data :\n",
"B=5*10^6;// in Hz\n",
"Ts=10;// in ns\n",
"Td=4;// in ns\n",
"a=9;// in ns/km\n",
"b=2;// in ns/km\n",
"l=6;// in km\n",
"Tn=a*l;// in ns\n",
"Tc=b*l;// in ns\n",
"Ts_max=(0.35/B)*10^9;\n",
"disp(Ts_max,'T system_maxmum,(ns) = ')\n",
"Tsys=1.1*sqrt(Ts^2+Tn^2+Tc^2+Td^2);\n",
"disp(Tsys,'T system,(ns) = ')\n",
"//answer is wrong in the textbook"
   ]
   }
,
{
		   "cell_type": "markdown",
		   "metadata": {},
		   "source": [
			"## Example 8.16_b: improvement_in_SNR_and_bandwidth.sce"
		   ]
		  },
  {
"cell_type": "code",
	   "execution_count": null,
	   "metadata": {
	    "collapsed": true
	   },
	   "outputs": [],
"source": [
"// Example 8.16.b //SNR improvement and bandwidth\n",
"clc;\n",
"clear;\n",
"close;\n",
"fd=400;//KHz\n",
"ba=4;//kHz\n",
"df1=fd/ba;//\n",
"snri=(1.76+20*log10(df1));//dB\n",
"disp(snri,'SNR improvement in dB is')\n",
"bm=2*ba*(df1+1);//kHz\n",
"disp(bm,'bandwidth in kHz is')"
   ]
   }
,
{
		   "cell_type": "markdown",
		   "metadata": {},
		   "source": [
			"## Example 8.17: ration_of_SNR.sce"
		   ]
		  },
  {
"cell_type": "code",
	   "execution_count": null,
	   "metadata": {
	    "collapsed": true
	   },
	   "outputs": [],
"source": [
"// Example 8.17;//ration of SNR\n",
"clc;\n",
"clear;\n",
"close;\n",
"fa=1;//\n",
"pa=1;//\n",
"r=1;//\n",
"po=1;//\n",
"ac=1;//\n",
"ba=1;//\n",
"no=1;//\n",
"snr1=((3*fa^3*po*(r*po)^2*((ac^2)/2))/(2*ba^3*no));//SNR output FM\n",
"snr2=((fa^3*po*(r*po)^2*((ac^2)/2))/(2*ba^3*no));//SNR output FM\n",
"rt=snr1/snr2;//\n",
"disp(rt,'ratio of output SNR (in dB) in two system is')"
   ]
   }
,
{
		   "cell_type": "markdown",
		   "metadata": {},
		   "source": [
			"## Example 8.18: bandwidth_and_SNR.sce"
		   ]
		  },
  {
"cell_type": "code",
	   "execution_count": null,
	   "metadata": {
	    "collapsed": true
	   },
	   "outputs": [],
"source": [
"//Example 8.18 // Optimum receiver bandwidth and peak to peak signal power to noise ratio\n",
"clc;\n",
"clear;\n",
"close;\n",
"//given data :\n",
"Tr=12*10^-9;// in sec\n",
"f0=20*10^6;// in Hz\n",
"fD=5*10^6;// in Hz\n",
"Mr=80;// multiplication factor\n",
"Pp=.75*10^-7;\n",
"B=5*10^6;// in Hz\n",
"i2N=10^-17;// in A^2\n",
"fr=(1/Tr)*10^-6;\n",
"disp(fr,' Optimum receiver bandwidth,fr(MHz) = ')\n",
"T0=1/f0;\n",
"SbyN=10*log10((3*(T0*fD*Mr*Pp)^2)/((2*%pi*Tr*B)^2*i2N));\n",
"disp(SbyN,'signal power to noise ratio,(dB) = ')"
   ]
   }
,
{
		   "cell_type": "markdown",
		   "metadata": {},
		   "source": [
			"## Example 8.19: loss_for_star_and_bus_distribution_system.sce"
		   ]
		  },
  {
"cell_type": "code",
	   "execution_count": null,
	   "metadata": {
	    "collapsed": true
	   },
	   "outputs": [],
"source": [
"// Example 8.19:compare\n",
"clc;\n",
"clear;\n",
"close;\n",
"cl=1;//dB\n",
"actr=10;//dB\n",
"acl=1;//dB\n",
"fcl=4.5;//dB/km\n",
"sl=2.5;//dB\n",
"cel=2;//dB\n",
"dl=100;//m\n",
"x=cel*cl-fcl*dl*10^-3+(cel*cl+cl)*-(cel+cl)+(cel*cl+actr)+sl+cl;//\n",
"x1=(fcl*dl*10^-3)+(cel*cl+cl);//\n",
"disp('total loss for bus distribution system is '+string(x1)+'N + '+string(x)+'')\n",
"x3=(cel*2*cl)+cel+(fcl*dl*10^-3);//\n",
"disp('total loss for star distribution system is '+string(x3)+'+ 10log10(N)')"
   ]
   }
,
{
		   "cell_type": "markdown",
		   "metadata": {},
		   "source": [
			"## Example 8.1: compare_shot_noise_and_thermal_noise_current.sce"
		   ]
		  },
  {
"cell_type": "code",
	   "execution_count": null,
	   "metadata": {
	    "collapsed": true
	   },
	   "outputs": [],
"source": [
"\n",
"// Example 8.1 //compare shot noise and thermal current\n",
"clc;\n",
"clear;\n",
"close;\n",
"T=293;//Temperature in Kelvin\n",
"K=1.38*10^-23;//boltzman constt\n",
"C=3*10^8;//Speed of light in meter per second\n",
"e=1.6*10^-19;//elecronic charge\n",
"ht=6.62*10^-34;//plank constt.\n",
"Id=3;//dark current in nano ampere\n",
"n=0.60;//efficiency\n",
"Rl=4;//load resistance in kilo-ohms\n",
"h=0.9;//wavelength in micro meter\n",
"Po=200;// ouput power in nano Watt\n",
"B=5;// bandwidth in mega hertz\n",
"Ip= ((n*h*10^-6*Po*10^-9*e)/(ht*C))*10^9;//Photo current in Ampere\n",
"its=(2*e*B*10^6*(Id+Ip)*10^-9);//total shot noise\n",
"itsr=sqrt(its);//RMS shot noise\n",
"disp(itsr,'RMS shot noise current in Ampere is')\n",
"T=293;//Temperature in Kelvin\n",
"K=1.38*10^-23;//boltzman constt\n",
"C=3*10^8;//Speed of light in meter per second\n",
"e=1.6*10^-19;//elecronic charge\n",
"ht=6.62*10^-34;//plank constt.\n",
"Id=3;//dark current in nano ampere\n",
"n=0.60;//efficiency\n",
"Rl=4;//load resistance in killo ohms\n",
"h=0.9;//wavelength in micro meter\n",
"Po=200;// ouput power in nano wat\n",
"B=5;// bandwidth in mega hertz\n",
"it=(((4*K*T*B*10^6)/(Rl*10^3)));//thermal noise\n",
"itr=sqrt(it);//rms thermal noise\n",
"disp(itr,'RMS thermal noise current in Ampere is')\n",
"\n",
""
   ]
   }
,
{
		   "cell_type": "markdown",
		   "metadata": {},
		   "source": [
			"## Example 8.20: length.sce"
		   ]
		  },
  {
"cell_type": "code",
	   "execution_count": null,
	   "metadata": {
	    "collapsed": true
	   },
	   "outputs": [],
"source": [
"// Example 8.20;//maximum length of the system\n",
"clc;\n",
"clear;\n",
"close;\n",
"af=0.20;//dB/km\n",
"ac1=0.05;//dB/km\n",
"k=4;//\n",
"b=1.2;//G bit/s\n",
"c=3*10^8;//m/s\n",
"h=1.55;//micro meter\n",
"sndb=17\n",
"sn=10^(sndb/10);//\n",
"l=100;//km\n",
"hc=6.63*10^-34;//\n",
"lt=((10^-3*h*10^-6*(10^-((af+ac1)*(l/10)))*l*10^3)/(k*hc*c*b*10^12*sn));//\n",
"disp(lt,'maximum length of the system in km is')\n",
"//answer is wrong in the textbook"
   ]
   }
,
{
		   "cell_type": "markdown",
		   "metadata": {},
		   "source": [
			"## Example 8.2_a: quantum_limit.sce"
		   ]
		  },
  {
"cell_type": "code",
	   "execution_count": null,
	   "metadata": {
	    "collapsed": true
	   },
	   "outputs": [],
"source": [
"// Example 8.2.a //threshold quantum limit\n",
"clc;\n",
"clear;\n",
"close;\n",
"en=10^-9;//\n",
"n=-log(en);//\n",
"disp(round(n),'quantum limit is (photons per pulse required )')"
   ]
   }
,
{
		   "cell_type": "markdown",
		   "metadata": {},
		   "source": [
			"## Example 8.2_b: incident_power.sce"
		   ]
		  },
  {
"cell_type": "code",
	   "execution_count": null,
	   "metadata": {
	    "collapsed": true
	   },
	   "outputs": [],
"source": [
"// Example 8.2.b //minumum incident optical power\n",
"clc;\n",
"clear;\n",
"close;\n",
"en=10^-9;\n",
"n=-log(en);//\n",
"c=3*10^8;//m/s\n",
"ht=6.62*10^-34;//plank constt.\n",
"B=10^7;//NO. OF BITS\n",
"h=0.85*10^-6;//wavelength in meter\n",
"Po=((20.7*ht*B*c)/(2*h));//pulse energy in pico Watt\n",
"Podb=10*(log10(Po));//pulse energy in dB when refrence level is one Watt\n",
"Podb1=10*(log10(Po*10^3));//pulse energy in dB when refrence level is one mili Watt\n",
"disp(Po, 'minimum incident optical power in Watts is')\n",
"disp(Podb1 , 'pulse energy in dB when refrence level is one miiliwatt in dBm')"
   ]
   }
,
{
		   "cell_type": "markdown",
		   "metadata": {},
		   "source": [
			"## Example 8.3_a: bit_rate_for_the_system.sce"
		   ]
		  },
  {
"cell_type": "code",
	   "execution_count": null,
	   "metadata": {
	    "collapsed": true
	   },
	   "outputs": [],
"source": [
"// Example 8.3.a;//bit rate for the system\n",
"clc;\n",
"clear;\n",
"close;\n",
"wd=8;//bit wide\n",
"ts=32;//time slots\n",
"nb=ts*wd;//no. of bits in a frame\n",
"nf=8*10^3;//no. of frames\n",
"tr=nf*nb;//transmission rate\n",
"disp(tr*10^-6,'transmission rate for the system in M-bits-s^-1')"
   ]
   }
,
{
		   "cell_type": "markdown",
		   "metadata": {},
		   "source": [
			"## Example 8.3_b: duration_of_time_slot.sce"
		   ]
		  },
  {
"cell_type": "code",
	   "execution_count": null,
	   "metadata": {
	    "collapsed": true
	   },
	   "outputs": [],
"source": [
"// Example 8.3.b //duration of time slot\n",
"clc;\n",
"clear;\n",
"close;\n",
"wd=8;//bit wide\n",
"ts=32;//time slots\n",
"nb=ts*wd;//no. of bits in a frame\n",
"nf=8*10^3;//no. of frames\n",
"tr=nf*nb;//transmission rate\n",
"bdr1=1/tr;//bit duration\n",
"bdr=bdr1*wd;//\n",
"disp(bdr*10^6,'duration of time slot in micro seconds')"
   ]
   }
,
{
		   "cell_type": "markdown",
		   "metadata": {},
		   "source": [
			"## Example 8.3_c: duration_of_a_frame_and_multiframe.sce"
		   ]
		  },
  {
"cell_type": "code",
	   "execution_count": null,
	   "metadata": {
	    "collapsed": true
	   },
	   "outputs": [],
"source": [
"// Example 8.3.c //duration of a frame and multiframe\n",
"clc;\n",
"clear;\n",
"close;\n",
"wd=8;//bit wide\n",
"ts=32;//time slots\n",
"nb=ts*wd;//no. of bits in a frame\n",
"nf=8*10^3;//no. of frames\n",
"tr=nf*nb;//transmission rate\n",
"bdr1=1/tr;//bit duration\n",
"bdr=bdr1*wd;//\n",
"df=bdr*10^6*ts;//duration of frame\n",
"dmf=df*(ts/2);//ms\n",
"disp(df,'duration of frame in micro seconds')\n",
"disp(dmf*10^-3,'duration of multiframe in milli seconds')"
   ]
   }
,
{
		   "cell_type": "markdown",
		   "metadata": {},
		   "source": [
			"## Example 8.4: average_number_of_photons.sce"
		   ]
		  },
  {
"cell_type": "code",
	   "execution_count": null,
	   "metadata": {
	    "collapsed": true
	   },
	   "outputs": [],
"source": [
"//Example 8.4 // Average nummber of photon\n",
"clc;\n",
"clear;\n",
"close;\n",
"//given data :\n",
"format('v',5)\n",
"M=80;// multiplication factor\n",
"K=0.02;// carrier ionization rates\n",
"eta=85/100;// quntum efficiency\n",
"Bt=0.6;// assuming a raised cosine signal spectrum\n",
"SbyN=144;\n",
"FM=(K*M)+(2-(1/M))*(1-K);\n",
"eta_max=(2*Bt*FM*SbyN)/(eta);\n",
"disp(eta_max,'The average number of photon,(photon) = ')\n",
"// answer is wrong in a textbook"
   ]
   }
,
{
		   "cell_type": "markdown",
		   "metadata": {},
		   "source": [
			"## Example 8.5: incident_optical_power.sce"
		   ]
		  },
  {
"cell_type": "code",
	   "execution_count": null,
	   "metadata": {
	    "collapsed": true
	   },
	   "outputs": [],
"source": [
"// Example 8.5;//minumum incident optical power\n",
"clc;\n",
"clear;\n",
"close;\n",
"nmax=732;//\n",
"c=3*10^8;//m/s\n",
"ht=6.62*10^-34;//plank constt.\n",
"B=10^7;//NO. OF BITS\n",
"h=1*10^-6;//wavelength in meter\n",
"Po=((nmax*ht*B*c)/(2*h))*10^12;//pulse energy in pico Watt\n",
"Podb=10*(log10(Po));//pulse energy in dB when refrence level is one Watt\n",
"Podb1=10*(log10(Po*10^-9));//pulse energy in dB when refrence level is one mili Watt\n",
"disp(Podb1 , 'pulse energy at bit rate of 10 M bit s^-1 in dBm')\n",
"B1=14*10^7;//NO. OF BITS\n",
"Po1=((nmax*ht*B1*c)/(2*h))*10^12;//pulse energy in pico Watt\n",
"Podb1=10*(log10(Po1));//pulse energy in dB when refrence level is one Watt\n",
"Podb2=10*(log10(Po1*10^-9));//pulse energy in dB when refrence level is one mili Watt\n",
"disp(Podb2 , 'pulse energy at bit rate of 140 M bit s^-1 in dBm')\n",
"//at 10 M bit s^-1 power is calc ulated wrong in the book"
   ]
   }
,
{
		   "cell_type": "markdown",
		   "metadata": {},
		   "source": [
			"## Example 8.6: channel_loss.sce"
		   ]
		  },
  {
"cell_type": "code",
	   "execution_count": null,
	   "metadata": {
	    "collapsed": true
	   },
	   "outputs": [],
"source": [
"// Example 8.6;//total channel loss\n",
"clc;\n",
"clear;\n",
"close;\n",
"afc=5;//attenuation in dB/km\n",
"aj=2;//splice loss in dB/km\n",
"l=5;//length in km\n",
"ac=3;//dB\n",
"ac1=4.5;//dB\n",
"cl=(afc+aj)*l+ac+ac1;//dB\n",
"disp(cl,'tota channel loss in dB is')"
   ]
   }
,
{
		   "cell_type": "markdown",
		   "metadata": {},
		   "source": [
			"## Example 8.7_a: dispersion_equalization_penalty.sce"
		   ]
		  },
  {
"cell_type": "code",
	   "execution_count": null,
	   "metadata": {
	    "collapsed": true
	   },
	   "outputs": [],
"source": [
"// Example 8.7.a //dispersion equalization penalty\n",
"clc;\n",
"clear;\n",
"close;\n",
"sg=0.65;// ns km^-1\n",
"l=8;//km\n",
"st=sg*l;//ns\n",
"bt=20;//M bit s^-1\n",
"dlw=2*(2*st*10^-9*bt*10^6*sqrt(2))^4;//dB\n",
"st1=sg*sqrt(l);//ns\n",
"dlw1=2*(2*st1*10^-9*bt*10^6*sqrt(2))^4;//dB\n",
"disp(dlw,'dispersion equalization penalty in dB without mode coupling at bit rate of 20 M bit s^-1')\n",
"disp(dlw1,'dispersion equalization penalty in dB with mode coupling at bit rate of 20 M bit s^-1')\n",
"//penalty with mode coupling is calculated wrong in the book"
   ]
   }
,
{
		   "cell_type": "markdown",
		   "metadata": {},
		   "source": [
			"## Example 8.7_b: dispersion_equalization_penalty.sce"
		   ]
		  },
  {
"cell_type": "code",
	   "execution_count": null,
	   "metadata": {
	    "collapsed": true
	   },
	   "outputs": [],
"source": [
"// Example 8.7.b;//dispersion equalization penalty\n",
"clc;\n",
"clear;\n",
"close;\n",
"sg=0.65;// ns km^-1\n",
"l=8;//km\n",
"st=sg*l;//ns\n",
"bt=140;//M bit s^-1\n",
"dlw=2*(2*st*10^-9*bt*10^6*sqrt(2))^4;//dB\n",
"st1=sg*sqrt(l);//ns\n",
"dlw1=2*(2*st1*10^-9*bt*10^6*sqrt(2))^4;//dB\n",
"disp(dlw,'dispersion equalization penalty in dB without mode coupling at bit rate of 20 M bit s^-1')\n",
"disp(dlw1,'dispersion equalization penalty in dB with mode coupling at bit rate of 20 M bit s^-1')\n",
"//answer is calculated wrong in the book"
   ]
   }
,
{
		   "cell_type": "markdown",
		   "metadata": {},
		   "source": [
			"## Example 8.8: bit_rate.sce"
		   ]
		  },
  {
"cell_type": "code",
	   "execution_count": null,
	   "metadata": {
	    "collapsed": true
	   },
	   "outputs": [],
"source": [
"// Example 8.8 //bit rate\n",
"clc;\n",
"clear;\n",
"close;\n",
"ts=8;//ns\n",
"l=8;//km\n",
"tn=4;//ns\n",
"tn1=tn*l;//ns\n",
"tc=1;//\n",
"tc1=tc*l;//ns\n",
"td=5;//ns\n",
"tsys=1.1*sqrt(ts^2+tn1^2+tc1^2+td^2);//ns\n",
"btmax=(0.7/(tsys*10^-9))*10^-6;//M bit/s\n",
"bt=btmax/2;//\n",
"disp(bt,'maximum bit rate for NRZ format in MHz')"
   ]
   }
,
{
		   "cell_type": "markdown",
		   "metadata": {},
		   "source": [
			"## Example 8.9_a: lonk_length.sce"
		   ]
		  },
  {
"cell_type": "code",
	   "execution_count": null,
	   "metadata": {
	    "collapsed": true
	   },
	   "outputs": [],
"source": [
"// Example 8.9.a //Link length\n",
"clc;\n",
"clear;\n",
"close;\n",
"pi=-3;//dBm\n",
"po=-56;//dBm\n",
"ac=2;//dBm\n",
"ma=8;//dBm\n",
"afc=0.4;//dBm\n",
"aj=0.1;//dBm\n",
"l=((pi-po-ac-ma)/(afc+aj));//km\n",
"disp(l,'link length when operating at 50 M bit/s in km is')"
   ]
   }
,
{
		   "cell_type": "markdown",
		   "metadata": {},
		   "source": [
			"## Example 8.9_b: link_length.sce"
		   ]
		  },
  {
"cell_type": "code",
	   "execution_count": null,
	   "metadata": {
	    "collapsed": true
	   },
	   "outputs": [],
"source": [
"// Example 8.9.b;//Link length\n",
"clc;\n",
"clear;\n",
"close;\n",
"pi=-3;//dBm\n",
"po=-42;//dBm\n",
"ac=2;//dBm\n",
"ma=8;//dBm\n",
"afc=0.4;//dBm\n",
"aj=0.1;//dBm\n",
"l=((pi-po-ac-ma)/(afc+aj));//km\n",
"disp(l,'link length when operating at 500 M bit/s in km is')"
   ]
   }
,
{
		   "cell_type": "markdown",
		   "metadata": {},
		   "source": [
			"## Example 8.9_c: link_length.sce"
		   ]
		  },
  {
"cell_type": "code",
	   "execution_count": null,
	   "metadata": {
	    "collapsed": true
	   },
	   "outputs": [],
"source": [
"// Example 8.9.c;//Link length\n",
"clc;\n",
"clear;\n",
"close;\n",
"pi=-3;//dBm\n",
"po=-42;//dBm\n",
"ac=2;//dBm\n",
"ma=8;//dBm\n",
"afc=0.4;//dBm\n",
"aj=0.1;//dBm\n",
"dl=1.5;//dbm\n",
"l=((pi-po-ac-ma-dl)/(afc+aj));//km\n",
"disp(l,'link length when dispersion equalisation penalty is included in km is')"
   ]
   }
],
"metadata": {
		  "kernelspec": {
		   "display_name": "Scilab",
		   "language": "scilab",
		   "name": "scilab"
		  },
		  "language_info": {
		   "file_extension": ".sce",
		   "help_links": [
			{
			 "text": "MetaKernel Magics",
			 "url": "https://github.com/calysto/metakernel/blob/master/metakernel/magics/README.md"
			}
		   ],
		   "mimetype": "text/x-octave",
		   "name": "scilab",
		   "version": "0.7.1"
		  }
		 },
		 "nbformat": 4,
		 "nbformat_minor": 0
}
