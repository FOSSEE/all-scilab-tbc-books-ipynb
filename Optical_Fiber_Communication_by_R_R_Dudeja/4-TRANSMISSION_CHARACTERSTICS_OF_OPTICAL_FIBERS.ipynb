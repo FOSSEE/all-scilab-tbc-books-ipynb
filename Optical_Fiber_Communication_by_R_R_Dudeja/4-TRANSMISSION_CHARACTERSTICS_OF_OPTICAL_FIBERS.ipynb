{
"cells": [
 {
		   "cell_type": "markdown",
	   "metadata": {},
	   "source": [
       "# Chapter 4: TRANSMISSION CHARACTERSTICS OF OPTICAL FIBERS"
	   ]
	},
{
		   "cell_type": "markdown",
		   "metadata": {},
		   "source": [
			"## Example 4.10_a: rms_pulse_broadning.sce"
		   ]
		  },
  {
"cell_type": "code",
	   "execution_count": null,
	   "metadata": {
	    "collapsed": true
	   },
	   "outputs": [],
"source": [
"// Example 4.10.a;//TOTAL RMS Pulse broadning \n",
"clc;\n",
"clear;\n",
"close;\n",
"M=250;//dispersion parametr picosecond per nano meter per kilometer\n",
"Sa=50;//spectral width in nm\n",
"NA=0.3;//numerical aperture\n",
"n1=1.45;// Core refractibve index\n",
"C=2.998*10^8;//Speed of light in m/s\n",
"L=1;//length in Km\n",
"Sm=M*L*Sa*10^-3;//rms pulse broadning due to material dispersion\n",
"Ss=(L*10^3*NA^2)/(4*sqrt(3)*C*n1)*10^9;//Pulse broadning due to intermodal dispersion in ns/km\n",
"St=sqrt(Sm^2+Ss^2);// Total broadning\n",
"disp(St,'Total broadning ns per km is')"
   ]
   }
,
{
		   "cell_type": "markdown",
		   "metadata": {},
		   "source": [
			"## Example 4.10_b: bandwidth_length_product.sce"
		   ]
		  },
  {
"cell_type": "code",
	   "execution_count": null,
	   "metadata": {
	    "collapsed": true
	   },
	   "outputs": [],
"source": [
"// Example 4.10.b;//bandwidth length product\n",
"clc;\n",
"clear;\n",
"close;\n",
"M=250;//dispersion parameter picosecond per nano meter per kilometer\n",
"Sa=50;//spectral width in nm\n",
"NA=0.3;//numerical aperture\n",
"n1=1.45;// Core refractibve index\n",
"C=2.998*10^8;//Speed of light in m/s\n",
"L=1;//length in km\n",
"Sm=M*L*Sa*10^-3;//rms pulse broadning due to material dispersion\n",
"Ss=(L*10^3*NA^2)/(4*sqrt(3)*C*n1)*10^9;//Pulse broadning due to intermodal dispersion in ns/km\n",
"St=sqrt(Sm^2+Ss^2);// Total broadning\n",
"BL= (0.2/(St*10^-9))*10^-6;// Bandwidth length product in Mega hertz km\n",
"disp(BL,'Bandwidth length product is,(MHz-km)')"
   ]
   }
,
{
		   "cell_type": "markdown",
		   "metadata": {},
		   "source": [
			"## Example 4.11: compare_first_order_dispersio.sce"
		   ]
		  },
  {
"cell_type": "code",
	   "execution_count": null,
	   "metadata": {
	    "collapsed": true
	   },
	   "outputs": [],
"source": [
"// Example 4.11 //compare the total first order dispersion\n",
"clc;\n",
"clear;\n",
"close;\n",
"so=0.095;//ps nm^-2 km^-1\n",
"h=1270;//in nm\n",
"ho=1320;//in nm\n",
"dt1=((h*so)/4)*((1-(ho/h)^4));// in ps nm^-1 km^-1\n",
"h1=1520;//in nm\n",
"dt21=((h1*so)/4)*((1-(ho/h1)^4));// in ps nm^-1 km^-1\n",
"dt2=dt21-(13.5+4.1);// in ps nm^-1 km^-1\n",
"disp(dt1,'first order dispersion at wavelength 1270nm in ps nm^-1 km^-1')\n",
"disp(dt2,'first order dispersion at wavelength 1320nm in ps nm^-1 km^-1')\n",
"//answer is wrong in the textbook"
   ]
   }
,
{
		   "cell_type": "markdown",
		   "metadata": {},
		   "source": [
			"## Example 4.12: bit_rate.sce"
		   ]
		  },
  {
"cell_type": "code",
	   "execution_count": null,
	   "metadata": {
	    "collapsed": true
	   },
	   "outputs": [],
"source": [
"// Example 4.12;//bit rate\n",
"clc;\n",
"clear;\n",
"close;\n",
"dx=2;//in ps/nm-km\n",
"L=100;//in km\n",
"h1=1310;// in nm\n",
"h2=1300;//in nm\n",
"dh=h1-h2;//in nm\n",
"brl=(1/(4*dx*(dh/10)));//in Gbps-km\n",
"br=brl/L;//in Gbps\n",
"disp(br*10^3,'bit rate in Gbps')"
   ]
   }
,
{
		   "cell_type": "markdown",
		   "metadata": {},
		   "source": [
			"## Example 4.13: bit_rate.sce"
		   ]
		  },
  {
"cell_type": "code",
	   "execution_count": null,
	   "metadata": {
	    "collapsed": true
	   },
	   "outputs": [],
"source": [
"// Example 4.13;//Maximum bit rate\n",
"clc;\n",
"clear;\n",
"close;\n",
"L=20;//Length in km\n",
"Dt2=300*10^-12;//Birefringent in second per kilometer\n",
"B=(0.9)/(Dt2*L*10^3);//\n",
"Btm= round((B/0.55)*10^-3);// maximum bit rate in kilo bit per second\n",
"disp(Btm,'maximum bit rate in kilo bit per second')"
   ]
   }
,
{
		   "cell_type": "markdown",
		   "metadata": {},
		   "source": [
			"## Example 4.14: modal_birefringence.sce"
		   ]
		  },
  {
"cell_type": "code",
	   "execution_count": null,
	   "metadata": {
	    "collapsed": true
	   },
	   "outputs": [],
"source": [
"// Example 4.14 //birefringence\n",
"clc;\n",
"clear;\n",
"close;\n",
"Lbc1=0.7;//beat length micro meter\n",
"h=1.3;//wavelength in micro meter\n",
"Bf1=((h*10^-6)/(Lbc1*10^-3));// birefringence when beat length = 0.5mm\n",
"Lbc2=80;//beat length meter\n",
"Bf2=((h*10^-6)/(Lbc2));// birefringence when beat length = 60 meter\n",
"disp(Bf1,'birefringence (high birefringent fiber) when beat length = 0.7micro meter')\n",
"disp(Bf2,'birefringence (lower birefringent fiber) when beat length = 80 meter')"
   ]
   }
,
{
		   "cell_type": "markdown",
		   "metadata": {},
		   "source": [
			"## Example 4.15: modal_birefringence_cohrence_length_and_propogation_difference.sce"
		   ]
		  },
  {
"cell_type": "code",
	   "execution_count": null,
	   "metadata": {
	    "collapsed": true
	   },
	   "outputs": [],
"source": [
"// Example 4.15//Bifringence and differnce between the propogation constt.\n",
"clc;\n",
"clear;\n",
"close;\n",
"Lb=0.09;//Birefringent Coherence over length in meter\n",
"h=0.9;//wavelength in micro meter\n",
"df=1;//spectral width in nano meter\n",
"Bf=((h*10^-6)/(Lb));//modal bifringence \n",
"Lbc= (((h*10^-6)^2)/(Bf*df*10^-9));//Coherance length in meter\n",
"Bxy=(2*%pi)/(Lb);//Diff in the propogation constant\n",
"disp(Bf,'modal bifringence  is')\n",
"disp(Bxy,'Difference in the propgation constants. is')"
   ]
   }
,
{
		   "cell_type": "markdown",
		   "metadata": {},
		   "source": [
			"## Example 4.16: bit_rate.sce"
		   ]
		  },
  {
"cell_type": "code",
	   "execution_count": null,
	   "metadata": {
	    "collapsed": true
	   },
	   "outputs": [],
"source": [
"// Example 4.16//bit rate\n",
"clc;\n",
"clear;\n",
"close;\n",
"pmc=0.5;//ps/sqrt(km)\n",
"l=100;//km\n",
"br=(1/(4*pmc*sqrt(l)));//\n",
"disp(br*10^3,'bit rate is ,(Gbps)=')"
   ]
   }
,
{
		   "cell_type": "markdown",
		   "metadata": {},
		   "source": [
			"## Example 4.1_a: overall_signal_attenuation.sce"
		   ]
		  },
  {
"cell_type": "code",
	   "execution_count": null,
	   "metadata": {
	    "collapsed": true
	   },
	   "outputs": [],
"source": [
"// Example 4.1.a:signal attenuation\n",
"clc;\n",
"clear;\n",
"close;\n",
"L=8;// Length of fiber in km\n",
"Pi=120*10^-6;// input power in Watt\n",
"Po=4*10^-6;//Output power in Watt\n",
"alpha=(10*(log10(Pi/Po)));//Loss in dB\n",
"disp(alpha,'signal attenuation in dB')"
   ]
   }
,
{
		   "cell_type": "markdown",
		   "metadata": {},
		   "source": [
			"## Example 4.1_b: signal_attenuation_per_km.sce"
		   ]
		  },
  {
"cell_type": "code",
	   "execution_count": null,
	   "metadata": {
	    "collapsed": true
	   },
	   "outputs": [],
"source": [
"// Example 4.1.b:signal attenuation per km\n",
"clc;\n",
"clear;\n",
"close;\n",
"L=8;// Length of fiber in km\n",
"Pi=120*10^-6;// input power in Watt\n",
"Po=4*10^-6;//Output power in Watt\n",
"alpha=(10*(log10(Pi/Po)));//Loss in dB\n",
"alphal=alpha/L\n",
"disp(alphal,'signal attenuation per km in dB/km is')"
   ]
   }
,
{
		   "cell_type": "markdown",
		   "metadata": {},
		   "source": [
			"## Example 4.1_c: overall_signal_attenuation.sce"
		   ]
		  },
  {
"cell_type": "code",
	   "execution_count": null,
	   "metadata": {
	    "collapsed": true
	   },
	   "outputs": [],
"source": [
"// Example 4.2.c:Loss for 10Km\n",
"clc;\n",
"clear;\n",
"close;\n",
"L=8;// Length of fiber in km\n",
"Pi=120*10^-6;// input power in Watt\n",
"Po=4*10^-6;//Output power in Watt\n",
"alpha= round(10*(log10(Pi/Po)));//Loss in dB\n",
"alphadb= alpha/L;//Loss in dB/Km\n",
"alphadb2=alphadb*10;// Loss along 10Km fiber length in dB\n",
"Ds=alphadb2+9;// Due to splices at 1km Interval\n",
"disp(Ds,'Atenuation Due to splices at 1km Interval in dB')\n",
""
   ]
   }
,
{
		   "cell_type": "markdown",
		   "metadata": {},
		   "source": [
			"## Example 4.1_d: ratio_of_input_power_to_output_power.sce"
		   ]
		  },
  {
"cell_type": "code",
	   "execution_count": null,
	   "metadata": {
	    "collapsed": true
	   },
	   "outputs": [],
"source": [
"// Example 4.1.d:Ratio of powers\n",
"clc;\n",
"clear;\n",
"close;\n",
"L=8;// Length of fiber in km\n",
"Pi=120*10^-6;// input power in Watt\n",
"Po=4*10^-6;//Output power in Watt\n",
"alpha= round(10*(log10(Pi/Po)));//Loss in dB\n",
"alphadb= alpha/L;//Loss in dB/Km\n",
"alphadb2=alphadb*10;// Loss along 10Km fiber length in dB\n",
"Ds=alphadb2+9;// Due to splices at 1km Interval\n",
"rt= 10^(Ds/10);// Ratio of input to output power\n",
"disp(rt,'Ratio of input to output power')\n",
"//answer is wrong in the textbook\n",
""
   ]
   }
,
{
		   "cell_type": "markdown",
		   "metadata": {},
		   "source": [
			"## Example 4.2: attenuation.sce"
		   ]
		  },
  {
"cell_type": "code",
	   "execution_count": null,
	   "metadata": {
	    "collapsed": true
	   },
	   "outputs": [],
"source": [
"// Example 4.2:Attenuation \n",
"clc;\n",
"clear;\n",
"close;\n",
"L=1;//in km\n",
"h1=0.63;//in micro meter\n",
"h2=1;//in micro meter\n",
"h3=1.3;//in micro meter\n",
"Tf=1400;//Temperature in Kelvin\n",
"p=0.286;//photoelastic coefficient of silica\n",
"n=1.46;//Refractive index of silica\n",
"Bc=7*10^-11;//isothermal compersebility in in Metere square per N\n",
"K=1.38*10^-23;// boltzman constt. in julian per Kelvin\n",
"x1= (h1*10^-6);\n",
"x2= (h2*10^-6);\n",
"x3= (h3*10^-6);\n",
"Yr1=(8*%pi^3*n^8*p^2*Bc*K*Tf)/(3*(x1)^4);//ray leigh scattering coefficient\n",
"Ekm1= exp(-Yr1*L*10^3)\n",
"alpha1=10*(log10(1/Ekm1));//Attenuation in dB/km\n",
"Yr2=(8*%pi^3*n^8*p^2*Bc*K*Tf)/(3*(x2)^4);//ray leigh scattering coefficient\n",
"Ekm2= exp(-Yr2*L*10^3)\n",
"alpha2=10*(log10(1/Ekm2));//Attenuation in dB/km\n",
"Yr3=(8*%pi^3*n^8*p^2*Bc*K*Tf)/(3*(x3)^4);//ray leigh scattering coefficient\n",
"Ekm3= exp(-Yr3*L*10^3)\n",
"alpha3=10*(log10(1/Ekm3));//Attenuation in dB/km\n",
"disp(alpha1,'Attenuation in dB/km for (h=0.63 micro meter)')\n",
"disp(alpha2,'Attenuation in dB/km for (h=1 micro meter)')\n",
"disp(alpha3,'Attenuation in dB/km for (h=1.30 micro meter)')\n",
"\n",
""
   ]
   }
,
{
		   "cell_type": "markdown",
		   "metadata": {},
		   "source": [
			"## Example 4.3: threshold_stimulated_Brillouin_and_Raman_scattering_powers.sce"
		   ]
		  },
  {
"cell_type": "code",
	   "execution_count": null,
	   "metadata": {
	    "collapsed": true
	   },
	   "outputs": [],
"source": [
"// Example 4.3:Optical Powers\n",
"clc;\n",
"clear;\n",
"close;\n",
"h=1.5;//Wavelength in micro meter\n",
"d=6;//Core diameter in micro meter\n",
"v=600;//frequency in Mega Hertz\n",
"alpha=0.4;//Attenuation in dB/km\n",
"Pb=(4.4*10^-3*d^2*h^2*alpha*v*10^-3)*10^3;//Threshold optical power for brillouin scattering in milli Watt\n",
"Pr=(5.9*10^-2*d^2*alpha*h);//Threshold optical power for Raman scattering in Watt\n",
"disp(Pb,'Threshold optical power for Brillouin scattering in milli Watt')\n",
"disp(Pr,'Threshold optical power for Raman scattering in Watt')\n",
"//Pb is calculated wrong in the text book"
   ]
   }
,
{
		   "cell_type": "markdown",
		   "metadata": {},
		   "source": [
			"## Example 4.4_a: critical_radius.sce"
		   ]
		  },
  {
"cell_type": "code",
	   "execution_count": null,
	   "metadata": {
	    "collapsed": true
	   },
	   "outputs": [],
"source": [
"// Example 4.4.a:Critical Radius\n",
"clc;\n",
"clear;\n",
"close;\n",
"d=0.03;//Refractive index difference\n",
"n1=1.5;//Core refractive index\n",
"h= 0.85*10^-6;//Wavelength in meters\n",
"x=2*n1^2*d;//\n",
"Rc=(3*n1^2*h)/(4*%pi*sqrt(x))*10^6;// Critical Radius in micro meters\n",
"disp(Rc,'Critical Radius in micro meters')\n",
"//answer is calculated wrong in the textbook"
   ]
   }
,
{
		   "cell_type": "markdown",
		   "metadata": {},
		   "source": [
			"## Example 4.4_b: critical_radius.sce"
		   ]
		  },
  {
"cell_type": "code",
	   "execution_count": null,
	   "metadata": {
	    "collapsed": true
	   },
	   "outputs": [],
"source": [
"// Example 4.4.b:Critical Radius of curvature\n",
"clc;\n",
"clear;\n",
"close;\n",
"a=4;// core radius in micro meters\n",
"d=0.003;//Refractive index difference\n",
"n1=1.5;//Core refractive index\n",
"h= 1.55*10^-6;//Wavelength in meters\n",
"x=2*n1^2*d;//\n",
"hc= ((2*%pi*a*10^-6*sqrt(2*d)*n1)/2.405)*10^6;//cut off wavelength in micro meters;\n",
"x1=(20*h)/(sqrt(x));\n",
"y=((2.748-0.996*((h*10^6)/hc)))^-3;\n",
"Rcs=x1*y*10^6;\n",
"disp(Rcs,'Critical Radius of curvature in micro meters')\n",
"//answer is calculated wrong in the textbook"
   ]
   }
,
{
		   "cell_type": "markdown",
		   "metadata": {},
		   "source": [
			"## Example 4.5_a: bandwidth.sce"
		   ]
		  },
  {
"cell_type": "code",
	   "execution_count": null,
	   "metadata": {
	    "collapsed": true
	   },
	   "outputs": [],
"source": [
"// Example 4.5.a:Maximum possible optical bandwidth\n",
"clc;\n",
"clear;\n",
"close;\n",
"t=0.1*10^-6;//Time in second\n",
"L=15;//Distance in km\n",
"Bt=(1/(2*t))*10^-6;//Maximum possible optical bandwidth in Mega Hertz\n",
"disp(Bt,'Maximum possible optical bandwidth in Mega Hertz')"
   ]
   }
,
{
		   "cell_type": "markdown",
		   "metadata": {},
		   "source": [
			"## Example 4.5_b: pulse_dispersion.sce"
		   ]
		  },
  {
"cell_type": "code",
	   "execution_count": null,
	   "metadata": {
	    "collapsed": true
	   },
	   "outputs": [],
"source": [
"// Example 4.5.b:Despersion per unit length\n",
"clc;\n",
"clear;\n",
"close;\n",
"t=0.1*10^-6;//Time in second\n",
"L=15;//Distance in km\n",
"dp=(t/L)*10^6;//Despersion per unit length in micro second per Km\n",
"disp(dp*10^3,'Despersion per unit length in nano second per km')"
   ]
   }
,
{
		   "cell_type": "markdown",
		   "metadata": {},
		   "source": [
			"## Example 4.5_c: bandwidth_length_product.sce"
		   ]
		  },
  {
"cell_type": "code",
	   "execution_count": null,
	   "metadata": {
	    "collapsed": true
	   },
	   "outputs": [],
"source": [
"// Example 4.5.c:Bandwidth legth product\n",
"clc;\n",
"clear;\n",
"close;\n",
"t=0.1*10^-6;//Time in second\n",
"L=15;//Distance in km\n",
"Bt=(1/(2*t))*10^-6;//Maximum possible optical bandwidth in Mega Hertz\n",
"BL=Bt*L;// bandwidth length product in km\n",
"disp(BL,'bandwidth length product in MHz km')"
   ]
   }
,
{
		   "cell_type": "markdown",
		   "metadata": {},
		   "source": [
			"## Example 4.6: material_dispersion_parameter_and_pulse_broadning.sce"
		   ]
		  },
  {
"cell_type": "code",
	   "execution_count": null,
	   "metadata": {
	    "collapsed": true
	   },
	   "outputs": [],
"source": [
"// Example 4.6;/Pulse broadning due to material dispersion\n",
"clc;\n",
"clear;\n",
"close;\n",
"c=3*10^5;// speed of light in km/s\n",
"Dh=0.025;//Material dispersion\n",
"L=1;//distance in km\n",
"h=0.85;//Wavelength micro meters\n",
"Sh=20;// Spectral width in nano meter\n",
"M=Dh/(c*h*10^3);//\n",
"Sm=M*L*Sh//Pulse broadning due to material dispersion in nano second per kilometer\n",
"disp(Sm*10^9,'Pulse broadning due to material dispersion in nano second per kilometer')"
   ]
   }
,
{
		   "cell_type": "markdown",
		   "metadata": {},
		   "source": [
			"## Example 4.7: rms_pulse_broadning.sce"
		   ]
		  },
  {
"cell_type": "code",
	   "execution_count": null,
	   "metadata": {
	    "collapsed": true
	   },
	   "outputs": [],
"source": [
"// Example 4.7//Pulse broadning due to material dispersion\n",
"clc;\n",
"clear;\n",
"close;\n",
"c=3*10^5;// speed of light in km/s\n",
"Dh=0.03;//Material dispersion\n",
"L=1;//distance in km\n",
"h=0.85;//Wavelength in micro meters\n",
"Sh=0.0012*h;// Spectral width in nano meter\n",
"M=Dh/(c*h*10^3);//\n",
"Sm=M*L*Sh//Pulse broadning due to material dispersion in nano second per kilometer\n",
"disp(Sm*10^12,'Pulse broadning due to material dispersion in nano second per kilometer')"
   ]
   }
,
{
		   "cell_type": "markdown",
		   "metadata": {},
		   "source": [
			"## Example 4.8: pulse_spreading.sce"
		   ]
		  },
  {
"cell_type": "code",
	   "execution_count": null,
	   "metadata": {
	    "collapsed": true
	   },
	   "outputs": [],
"source": [
"// Example 4.8//Pulse broadning due to material dispersion\n",
"clc;\n",
"clear;\n",
"close;\n",
"ho=1343;//nm\n",
"h=850;//in nm\n",
"so=0.097;//in ps/nm^2\n",
"m(h)=((so*(h/4))*(1-(h/ho))^4);// in ps/nm-km\n",
"tgmat=m(h)*70;//in ns/km\n",
"dt=tgmat*100;//in ns\n",
"disp(dt,'total pulse spread in ns is')\n",
"//answer is wrong in the textbook"
   ]
   }
,
{
		   "cell_type": "markdown",
		   "metadata": {},
		   "source": [
			"## Example 4.9_a: delay_difference.sce"
		   ]
		  },
  {
"cell_type": "code",
	   "execution_count": null,
	   "metadata": {
	    "collapsed": true
	   },
	   "outputs": [],
"source": [
"// Example 4.9.a //delay\n",
"clc;\n",
"clear;\n",
"close;\n",
"d=0.01;// Change in refractive index\n",
"n1=1.5;//Core refrctive index\n",
"L=6*10^3;//Length in meter\n",
"C=2.998*10^8;//Speed of light in m/s\n",
"dts=round(((L*n1*d)/C)*10^9);//delay in ns\n",
"disp(dts,'delay in ns')"
   ]
   }
,
{
		   "cell_type": "markdown",
		   "metadata": {},
		   "source": [
			"## Example 4.9_b: rms_pulse_broadning.sce"
		   ]
		  },
  {
"cell_type": "code",
	   "execution_count": null,
	   "metadata": {
	    "collapsed": true
	   },
	   "outputs": [],
"source": [
"// Example 4.9.b;//Pulse broadning due to intermodal dispersion\n",
"clc;\n",
"clear;\n",
"close;\n",
"d=0.01;// Change in refractive index\n",
"n1=1.5;//Core refrctive index\n",
"L=6*10^3;//Length in meter\n",
"C=2.998*10^8;//Speed of light in m/s\n",
"Ss=(L*n1*d)/(2*sqrt(3)*C)*10^9;//Pulse broadning due to intermodal dispersion in ns\n",
"disp(Ss,'Pulse broadning due to intermodal dispersion in ns')"
   ]
   }
,
{
		   "cell_type": "markdown",
		   "metadata": {},
		   "source": [
			"## Example 4.9_c: bit_rate.sce"
		   ]
		  },
  {
"cell_type": "code",
	   "execution_count": null,
	   "metadata": {
	    "collapsed": true
	   },
	   "outputs": [],
"source": [
"// Example 4.9.c//Bit Rate\n",
"clc;\n",
"clear;\n",
"close;\n",
"d=0.01;// Change in refractive index\n",
"n1=1.5;//Core refrctive index\n",
"L=6*10^3;//Length in meter\n",
"C=2.998*10^8;//Speed of light in m/s\n",
"dts=round(((L*n1*d)/C)*10^9);//Delay in ns\n",
"Bt=(1/(2*dts*10^9))*10^12;//Bit rate in Mbits/sec\n",
"Ss=(L*n1*d)/(2*sqrt(3)*C);//Pulse broadning due to intermodal dispersion in ns\n",
"Btimp=0.2/Ss;//\n",
"disp(Bt,'Bit rate in M bit per seconds')\n",
"disp(Btimp*10^-6,'improved estimate of bit rate in M bit per seconds')"
   ]
   }
,
{
		   "cell_type": "markdown",
		   "metadata": {},
		   "source": [
			"## Example 4.9_d: bandwidth_length_product.sce"
		   ]
		  },
  {
"cell_type": "code",
	   "execution_count": null,
	   "metadata": {
	    "collapsed": true
	   },
	   "outputs": [],
"source": [
"// Example 4.9.d//BANDWIDTH LENGTH PRODUCT\n",
"clc;\n",
"clear;\n",
"close;\n",
"d=0.01;// Change in refractive index\n",
"n1=1.5;//Core refrctive index\n",
"L=6*10^3;//Length in meter\n",
"C=2.998*10^8;//Speed of light in m/s\n",
"dts=round(((L*n1*d)/C)*10^9);//Delay in ns\n",
"Bt=(1/(2*dts*10^9))*10^12;//Bit rate in Mbits/sec\n",
"Ss=(L*n1*d)/(2*sqrt(3)*C);//Pulse broadning due to intermodal dispersion in ns\n",
"Btimp=0.2/Ss;//\n",
"BL=Btimp*L*10^-9;// bandwidth length product in km\n",
"disp(BL,'bandwidth length product MHz km')"
   ]
   }
],
"metadata": {
		  "kernelspec": {
		   "display_name": "Scilab",
		   "language": "scilab",
		   "name": "scilab"
		  },
		  "language_info": {
		   "file_extension": ".sce",
		   "help_links": [
			{
			 "text": "MetaKernel Magics",
			 "url": "https://github.com/calysto/metakernel/blob/master/metakernel/magics/README.md"
			}
		   ],
		   "mimetype": "text/x-octave",
		   "name": "scilab",
		   "version": "0.7.1"
		  }
		 },
		 "nbformat": 4,
		 "nbformat_minor": 0
}
