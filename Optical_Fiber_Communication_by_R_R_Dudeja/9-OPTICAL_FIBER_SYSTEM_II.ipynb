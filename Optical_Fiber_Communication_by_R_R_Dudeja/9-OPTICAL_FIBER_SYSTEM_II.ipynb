{
"cells": [
 {
		   "cell_type": "markdown",
	   "metadata": {},
	   "source": [
       "# Chapter 9: OPTICAL FIBER SYSTEM II"
	   ]
	},
{
		   "cell_type": "markdown",
		   "metadata": {},
		   "source": [
			"## Example 9.1: temperture.sce"
		   ]
		  },
  {
"cell_type": "code",
	   "execution_count": null,
	   "metadata": {
	    "collapsed": true
	   },
	   "outputs": [],
"source": [
"// Example 9.1;//maximum termperature change\n",
"clc;\n",
"clear;\n",
"close;\n",
"f=0.15;//GHz\n",
"fc=18;//GHz/degree celsius\n",
"ta=f/fc;//\n",
"disp(ta,'maximum temperature change alowed in degree celsius is')\n",
""
   ]
   }
,
{
		   "cell_type": "markdown",
		   "metadata": {},
		   "source": [
			"## Example 9.2: bandwidth.sce"
		   ]
		  },
  {
"cell_type": "code",
	   "execution_count": null,
	   "metadata": {
	    "collapsed": true
	   },
	   "outputs": [],
"source": [
"// Example 9.2;//bandwidth\n",
"clc;\n",
"clear;\n",
"close;\n",
"snl=-55.45;//dBm\n",
"ps=10^(snl/10);//\n",
"n=0.8;//\n",
"h=1.54;//micro meter\n",
"hc=6.63*10^-34;//\n",
"c=3*10^8;//m/s\n",
"sndb=12;//\n",
"sn=10^(sndb/10);//\n",
"b=((n*ps*10^-3*h*10^-6)/(hc*c*sn));//\n",
"disp(b*10^-9,'bandwidth in GHz is')\n",
"//answer is wrong in the textbook"
   ]
   }
,
{
		   "cell_type": "markdown",
		   "metadata": {},
		   "source": [
			"## Example 9.3: number_of_recieved_photons.sce"
		   ]
		  },
  {
"cell_type": "code",
	   "execution_count": null,
	   "metadata": {
	    "collapsed": true
	   },
	   "outputs": [],
"source": [
"// Example 9.3;//number of received photos\n",
"clc;\n",
"clear;\n",
"close;\n",
"ber=10^-9;//\n",
"x=-2*log10(ber);//\n",
"np1=4*x;//no. of received photons for ASK heterodyne sysnchronous detection\n",
"np2=-4*log(2*ber);//no. of received photons for ASK heterodyne non-sysnchronous detection\n",
"np3=x/2;//no. of received photons for PSK homodyne detection\n",
"disp(round(np1),'no. of received photons for ASK heterodyne sysnchronous detection')\n",
"disp(round(np2),'no. of received photons for ASK heterodyne non-sysnchronous detection')\n",
"disp(round(np3),'no. of received photons for PSK homodyne detection')"
   ]
   }
,
{
		   "cell_type": "markdown",
		   "metadata": {},
		   "source": [
			"## Example 9.4: incoming_power_level.sce"
		   ]
		  },
  {
"cell_type": "code",
	   "execution_count": null,
	   "metadata": {
	    "collapsed": true
	   },
	   "outputs": [],
"source": [
"// Example 9.4 //minimum incoming power level\n",
"clc;\n",
"clear;\n",
"close;\n",
"ber=10^-9;//\n",
"x=-2*log10(ber);//\n",
"hc=6.63*10^-34;//\n",
"c=3*10^8;//m/s\n",
"bt=500;//Mbits/s\n",
"h=1.55;//micro meter\n",
"ps=((x*2*hc*c*bt*10^6)/(h*10^-6));//nW\n",
"disp(ps*10^9,'minimum incoming power level in nano Watts is')"
   ]
   }
,
{
		   "cell_type": "markdown",
		   "metadata": {},
		   "source": [
			"## Example 9.5_a: repeater_spacing.sce"
		   ]
		  },
  {
"cell_type": "code",
	   "execution_count": null,
	   "metadata": {
	    "collapsed": true
	   },
	   "outputs": [],
"source": [
"// Example 9.5.a;//maximum repeater spacing \n",
"clc;\n",
"clear;\n",
"close;\n",
"ber=10^-9;//\n",
"x1=-2*log10(ber);//\n",
"hc=6.63*10^-34;//\n",
"c=3*10^8;//m/s\n",
"bt=50;//Mbits/s\n",
"h=1.55;//micro meter\n",
"ps=((x1*2*hc*c*bt*10^6)/(h*10^-6));//nW\n",
"psdb=10*log10(ps*10^3);//\n",
"cl=0.25;//dB/km\n",
"x=4;//dBm\n",
"y=x-psdb;//\n",
"mrs1=y/cl;//km\n",
"disp(mrs1,'maximum repeater spacing in km at 50 M-bit/s  system (ASK) in km is')\n",
"bt1=1;//Gbit/s\n",
"ps1=((x1*2*hc*c*bt1*10^9)/(h*10^-6));//nW\n",
"psdb1=10*log10(ps1*10^3);//\n",
"cl=0.25;//dB/km\n",
"x=4;//dBm\n",
"y1=x-psdb1;//\n",
"mrs2=y1/cl;//km\n",
"disp(mrs2,'maximum repeater spacing in km at 1 G-bit/s  system (ASK) in km is')"
   ]
   }
,
{
		   "cell_type": "markdown",
		   "metadata": {},
		   "source": [
			"## Example 9.5_b: repeater_spacing.sce"
		   ]
		  },
  {
"cell_type": "code",
	   "execution_count": null,
	   "metadata": {
	    "collapsed": true
	   },
	   "outputs": [],
"source": [
"// Example 9.5.B;//maximum repeater spacing \n",
"clc;\n",
"clear;\n",
"close;\n",
"ber=10^-9;//\n",
"x1=-2*log10(ber);//\n",
"hc=6.63*10^-34;//\n",
"c=3*10^8;//m/s\n",
"bt=50;//Mbits/s\n",
"h=1.55;//micro meter\n",
"ps=(((x1/2)*hc*c*bt*10^6)/(h*10^-6));//nW\n",
"psdb=10*log10(ps*10^3);//\n",
"cl=0.25;//dB/km\n",
"x=4;//dBm\n",
"y=x-psdb;//\n",
"mrs1=y/cl;//km\n",
"disp(mrs1,'maximum repeater spacing in km at 50 M-bit/s  system (PSK) in km is')\n",
"bt1=1;//Gbit/s\n",
"ps1=(((x1/2)*2*hc*c*bt1*10^9)/(h*10^-6));//nW\n",
"psdb1=10*log10(ps1*10^3);//\n",
"cl=0.25;//dB/km\n",
"x=4;//dBm\n",
"y1=x-psdb1;//\n",
"mrs2=y1/cl;//km\n",
"disp(mrs2,'maximum repeater spacing in km at 1 G-bit/s  system (PSK) in km is')\n",
"//for 1 Gbit/s systme answer is wrong in the textbook"
   ]
   }
,
{
		   "cell_type": "markdown",
		   "metadata": {},
		   "source": [
			"## Example 9.6: refractive_index_and_bandwidth.sce"
		   ]
		  },
  {
"cell_type": "code",
	   "execution_count": null,
	   "metadata": {
	    "collapsed": true
	   },
	   "outputs": [],
"source": [
"//Example 9.6 // refractive index and 3dB spectral bandwidth\n",
"clc;\n",
"clear;\n",
"close;\n",
"//given data :\n",
"lamda=1.5*10^-6;// in m\n",
"L=300*10^-6;// in m\n",
"del_lamda=10^-9;// in m\n",
"n=lamda^2/(2*del_lamda*L);\n",
"disp(n,'refractive index , n = ')\n",
"R1=0.3;\n",
"R2=R1;\n",
"a=4.8;// in dB\n",
"Gs=10^(4.8/10);\n",
"c=3*10^8;\n",
"B=(c/(%pi*n*L)*asin((1-sqrt(R1*R2)*Gs)/(2*sqrt(sqrt(R1*R2)*Gs))))*10^-9;\n",
"disp(B,' Spectral bandwidth,(GHz) = ')"
   ]
   }
,
{
		   "cell_type": "markdown",
		   "metadata": {},
		   "source": [
			"## Example 9.7: cavity_gai.sce"
		   ]
		  },
  {
"cell_type": "code",
	   "execution_count": null,
	   "metadata": {
	    "collapsed": true
	   },
	   "outputs": [],
"source": [
"//Example 9.7// cavity gain\n",
"clc;\n",
"clear;\n",
"close;\n",
"x=0.5;//\n",
"y=(1-(sqrt(x)))/(1+sqrt(x));//\n",
"g=(y/(1-y)^2);//\n",
"disp('cavity gain is '+string(g)+'/(sqrt(R1*R2))')"
   ]
   }
],
"metadata": {
		  "kernelspec": {
		   "display_name": "Scilab",
		   "language": "scilab",
		   "name": "scilab"
		  },
		  "language_info": {
		   "file_extension": ".sce",
		   "help_links": [
			{
			 "text": "MetaKernel Magics",
			 "url": "https://github.com/calysto/metakernel/blob/master/metakernel/magics/README.md"
			}
		   ],
		   "mimetype": "text/x-octave",
		   "name": "scilab",
		   "version": "0.7.1"
		  }
		 },
		 "nbformat": 4,
		 "nbformat_minor": 0
}
