{
"cells": [
 {
		   "cell_type": "markdown",
	   "metadata": {},
	   "source": [
       "# Chapter 2: OPTICAL FIBER"
	   ]
	},
{
		   "cell_type": "markdown",
		   "metadata": {},
		   "source": [
			"## Example 2.10: number_of_modes.sce"
		   ]
		  },
  {
"cell_type": "code",
	   "execution_count": null,
	   "metadata": {
	    "collapsed": true
	   },
	   "outputs": [],
"source": [
"// Example 2.10:Number of modes\n",
"clc;\n",
"clear;\n",
"close;\n",
"NA=0.2\n",
"a=40;// core radius in micro meters\n",
"h=1;//wavelngth in micro meters\n",
"v=(2*%pi*(a/2)*NA)/h;//Normalised wavelngth\n",
"m= round (v^2/4);// number of modes\n",
"disp(m,'number of modes')"
   ]
   }
,
{
		   "cell_type": "markdown",
		   "metadata": {},
		   "source": [
			"## Example 2.11: core_diameter.sce"
		   ]
		  },
  {
"cell_type": "code",
	   "execution_count": null,
	   "metadata": {
	    "collapsed": true
	   },
	   "outputs": [],
"source": [
"// Example 2.11:diameter\n",
"clc;\n",
"clear;\n",
"close;\n",
"v1=1.2;//\n",
"v2=2.4;//\n",
"h=0.85;//in micro meter\n",
"n1=1.5;//refrative index\n",
"d1=0.015;//\n",
"a1=((v1*h)/(2*%pi*n1*sqrt(2*d1)));//in micro meter\n",
"d2=0.0015;//\n",
"a2=((v2*h)/(2*%pi*n1*sqrt(2*d2)));//in micro meter\n",
"disp(2*a1,'diameter (case 1) in micro meters is')\n",
"disp(2*a2,'diameter (case 2) in micro meters is')\n",
"//answer is wrong in the textbook"
   ]
   }
,
{
		   "cell_type": "markdown",
		   "metadata": {},
		   "source": [
			"## Example 2.12: core_diameter.sce"
		   ]
		  },
  {
"cell_type": "code",
	   "execution_count": null,
	   "metadata": {
	    "collapsed": true
	   },
	   "outputs": [],
"source": [
"// Example 2.12:diameter\n",
"clc;\n",
"clear;\n",
"close;\n",
"v=2.4*sqrt(2);//\n",
"h=1.3;//in micro meter\n",
"n1=1.5;//refrative index\n",
"d1=0.01;//\n",
"a1=((v*h)/(2*%pi*n1*sqrt(2*d1)));//in micro meter\n",
"disp(a1,'radius in micro meters is')"
   ]
   }
,
{
		   "cell_type": "markdown",
		   "metadata": {},
		   "source": [
			"## Example 2.13: cut_off_wavelength.sce"
		   ]
		  },
  {
"cell_type": "code",
	   "execution_count": null,
	   "metadata": {
	    "collapsed": true
	   },
	   "outputs": [],
"source": [
"// Example 2.13:Cutoff Wavelength\n",
"clc;\n",
"clear;\n",
"close;\n",
"n1=1.48;//Waveguide Refractive Index\n",
"a=4.8;// core radius in micro meters\n",
"d= 0.0025;// Cange in core-cladding refractive index\n",
"Hc= (2*%pi*a*sqrt(2*d)*n1)/2.4;\n",
"disp(round(Hc*10^3),'Cutoff wavelength in nano meters')\n",
"//answer is wrong in the textbook"
   ]
   }
,
{
		   "cell_type": "markdown",
		   "metadata": {},
		   "source": [
			"## Example 2.15: core_diameter.sce"
		   ]
		  },
  {
"cell_type": "code",
	   "execution_count": null,
	   "metadata": {
	    "collapsed": true
	   },
	   "outputs": [],
"source": [
"// Example 2.15:diameter\n",
"clc;\n",
"clear;\n",
"close;\n",
"mfd=11.6;//in micro meter\n",
"a=mfd/2;//in micro meters\n",
"v=2.2;//\n",
"alpha=((a*10^-6)/(0.65+1.619*sqrt(v)+2.879*((v)^-6)));//\n",
"disp(2*alpha*10^6,'core diameter in micro meter ')\n",
"//answer is wrong in the textbook"
   ]
   }
,
{
		   "cell_type": "markdown",
		   "metadata": {},
		   "source": [
			"## Example 2.16: ESI_refractive_index_difference.sce"
		   ]
		  },
  {
"cell_type": "code",
	   "execution_count": null,
	   "metadata": {
	    "collapsed": true
	   },
	   "outputs": [],
"source": [
"// Example 2.16:ESI relative refractive index\n",
"clc;\n",
"clear;\n",
"close;\n",
"h=1.190;//micro meter\n",
"sp=5.2;//in micro meter\n",
"n=1.5;//refractive index\n",
"alpha2=1.820*sp;//in micro meter\n",
"desi1=(0.293/(n)^2);//\n",
"desi2=desi1*(1.19/alpha2)^2;//\n",
"disp(desi2*100,'ESI relative refrative index difference in percentage is')\n",
"//answer is wrong in the textbook"
   ]
   }
,
{
		   "cell_type": "markdown",
		   "metadata": {},
		   "source": [
			"## Example 2.1: critical_angle.sce"
		   ]
		  },
  {
"cell_type": "code",
	   "execution_count": null,
	   "metadata": {
	    "collapsed": true
	   },
	   "outputs": [],
"source": [
"// Example 2.1:Critical angle\n",
"clc;\n",
"clear;\n",
"close;\n",
"n2=1.402;//Waveguide Refractive Index\n",
"n1=1.495;//Cladding Refractive Index\n",
"no=1;// for air\n",
"Oc=asind(n2/n1);// Critical Angle\n",
"disp(Oc,'Critical angle in degree')"
   ]
   }
,
{
		   "cell_type": "markdown",
		   "metadata": {},
		   "source": [
			"## Example 2.2_a: critical_angle.sce"
		   ]
		  },
  {
"cell_type": "code",
	   "execution_count": null,
	   "metadata": {
	    "collapsed": true
	   },
	   "outputs": [],
"source": [
"// Example 2.2.a: Critical Angle\n",
"clc;\n",
"clear;\n",
"close;\n",
"n1=1.50;//Waveguide Refractive Index\n",
"n2=1.47;//Cladding Refractive Index\n",
"Oc=asind(n2/n1);//Critical Angle\n",
"oc=floor(Oc);//\n",
"x=Oc-oc;//\n",
"disp('CRITICAL ANGLE IS '+string(oc)+' DEGREE AND '+string(round((60*(x))))+' MINUTES ')\n",
"//answer is wrong in the textbook"
   ]
   }
,
{
		   "cell_type": "markdown",
		   "metadata": {},
		   "source": [
			"## Example 2.2_b: NA.sce"
		   ]
		  },
  {
"cell_type": "code",
	   "execution_count": null,
	   "metadata": {
	    "collapsed": true
	   },
	   "outputs": [],
"source": [
"// Example 2.2.b:Numerical Aperture\n",
"clc;\n",
"clear;\n",
"close;\n",
"n1=1.50;//Waveguide Refractive Index\n",
"n2=1.47;//Cladding Refractive Index\n",
"NA=sqrt(n1^2-n2^2);// Numerical Aperture\n",
"disp(NA,'Numerical Aperture is')"
   ]
   }
,
{
		   "cell_type": "markdown",
		   "metadata": {},
		   "source": [
			"## Example 2.2_c: acceptance_angle.sce"
		   ]
		  },
  {
"cell_type": "code",
	   "execution_count": null,
	   "metadata": {
	    "collapsed": true
	   },
	   "outputs": [],
"source": [
"// Example 2.2.c: Acceptance Angle\n",
"clc;\n",
"clear;\n",
"close;\n",
"n1=1.50;//Waveguide Refractive Index\n",
"n2=1.47;//Cladding Refractive Index\n",
"h= 1.3;// Wavelenght in micrometers\n",
"NA=sqrt(n1^2-n2^2);// Numerical Aperture\n",
"Oa=asind(NA);//ACCEPTANCE ANGLE\n",
"oa=floor(Oa);//\n",
"x=Oa-oa;//\n",
"disp('ACCEPTANCE ANGLE IS '+string(oa)+' DEGREE AND '+string(round((60*(x))))+' MINUTES ')\n",
"//answer is wrong in the textbook"
   ]
   }
,
{
		   "cell_type": "markdown",
		   "metadata": {},
		   "source": [
			"## Example 2.3: NA_solid_acceptance_angle_and_critical_angle.sce"
		   ]
		  },
  {
"cell_type": "code",
	   "execution_count": null,
	   "metadata": {
	    "collapsed": true
	   },
	   "outputs": [],
"source": [
"// Example 2.3:Numerical Aperture ,Acceptance Angle and criticle angke\n",
"clc; \n",
"clear;\n",
"close;\n",
"n1=1.46;//core Refractive Index\n",
"d=1;// refractive index differnce in percentage\n",
"NA=n1*(sqrt(2*(d/100)));// Numerical Aperture\n",
"Sa= %pi*(NA)^2;//solid accepance angle in strad\n",
"r=1-(d/100);//ratio of refractive index\n",
"Oc=asind(r);//criticle angle in degree\n",
"oc=floor(Oc);//\n",
"x=Oc-oc;//\n",
"disp(NA,'numerical aperture is')\n",
"disp(Sa,'solid acceptance angle in air in stard is')\n",
"disp('CRITICAL ANGLE IS '+string(oc)+' DEGREE AND '+string(round((60*(x))))+' MINUTES ')\n",
"\n",
""
   ]
   }
,
{
		   "cell_type": "markdown",
		   "metadata": {},
		   "source": [
			"## Example 2.4: critical_angle.sce"
		   ]
		  },
  {
"cell_type": "code",
	   "execution_count": null,
	   "metadata": {
	    "collapsed": true
	   },
	   "outputs": [],
"source": [
"// Example 2.4;Critical Angle\n",
"clc;\n",
"clear;\n",
"close;\n",
"n1=1.48;//Waveguide Refractive Index\n",
"n2=1.46;//Cladding Refractive Index\n",
"Oc=asind(sqrt((1-(n2/n1)^2)));//Critical Angle\n",
"disp(Oc,'critical angle in degree is')"
   ]
   }
,
{
		   "cell_type": "markdown",
		   "metadata": {},
		   "source": [
			"## Example 2.5: refrative_index.sce"
		   ]
		  },
  {
"cell_type": "code",
	   "execution_count": null,
	   "metadata": {
	    "collapsed": true
	   },
	   "outputs": [],
"source": [
"// Example 2.5: Core and Cladding Index\n",
"clc;\n",
"clear;\n",
"close;\n",
"NA=0.3;// numerical aperture\n",
"d= 0.01;// Cange in core-cladding refractive index\n",
"r=(1-d);//ratio\n",
"n1=sqrt(((NA)^2)/(1-r^2));//core refrative index\n",
"n2= n1-(d*n1);\n",
"disp(n1,'refrative index of core is')\n",
"disp(n2,'Refradctive index of cladding is')"
   ]
   }
,
{
		   "cell_type": "markdown",
		   "metadata": {},
		   "source": [
			"## Example 2.6: compare_acceptance_angle.sce"
		   ]
		  },
  {
"cell_type": "code",
	   "execution_count": null,
	   "metadata": {
	    "collapsed": true
	   },
	   "outputs": [],
"source": [
"// Example 2.6: compare acceptance angle\n",
"clc;\n",
"clear;\n",
"close;\n",
"NA=0.4;// numerical aperture\n",
"r2=100;//angle at which rays change dirction\n",
"r=r2/2;//in degree\n",
"Oa=asind(NA);//ACCEPTANCE ANGLE\n",
"oa=floor(Oa);//\n",
"x=Oa-oa;//\n",
"Oas=asind(NA/cosd(r));//ACCEPTANCE ANGLE for skew rays in degree\n",
"oas=floor(Oas);//\n",
"xs=Oas-oas;//\n",
"disp('ACCEPTANCE ANGLE IS '+string(oa)+' DEGREE AND '+string(round((60*(x))))+' MINUTES ')\n",
"disp('ACCEPTANCE ANGLE FOR MEIDONAL RAYS IS '+string(oas)+' DEGREE AND '+string(round((60*(xs))))+' MINUTES ')"
   ]
   }
,
{
		   "cell_type": "markdown",
		   "metadata": {},
		   "source": [
			"## Example 2.7: number_of_modes.sce"
		   ]
		  },
  {
"cell_type": "code",
	   "execution_count": null,
	   "metadata": {
	    "collapsed": true
	   },
	   "outputs": [],
"source": [
"// Example 2.7:Number of the modes\n",
"clc;\n",
"clear;\n",
"close;\n",
"a=50;;// Radius in meter\n",
"NA=0.29;// Numerical Aperture\n",
"h=0.85;// Wavelength in meter\n",
"M=round((2*%pi^2*a^2*NA^2)/(h)^2);//\n",
"disp(M,'Number of modes')\n",
"//answer is wrong in the textbook"
   ]
   }
,
{
		   "cell_type": "markdown",
		   "metadata": {},
		   "source": [
			"## Example 2.8: normalised_frequency_and_number_of_modes.sce"
		   ]
		  },
  {
"cell_type": "code",
	   "execution_count": null,
	   "metadata": {
	    "collapsed": true
	   },
	   "outputs": [],
"source": [
"// Example 2.8:Number of modes\n",
"clc;\n",
"clear;\n",
"close;\n",
"n1=1.5;//Waveguide Refractive Index\n",
"d= 0.015;// Cange in core-cladding refractive index\n",
"a=40;// core radius in micro meters\n",
"h=0.85;//wavelngth in micro meters\n",
"v=(2*%pi*a*n1*sqrt(2*d))/h;//Normalised wavelngth\n",
"m= round (v^2/2);// number of modes\n",
"disp(m,'number of modes')\n",
"//answer is wrong in the textbook\n",
""
   ]
   }
,
{
		   "cell_type": "markdown",
		   "metadata": {},
		   "source": [
			"## Example 2.9: radius.sce"
		   ]
		  },
  {
"cell_type": "code",
	   "execution_count": null,
	   "metadata": {
	    "collapsed": true
	   },
	   "outputs": [],
"source": [
"// Example 2.9:Maximum Core Readius\n",
"clc;\n",
"clear;\n",
"close;\n",
"n1=1.55;//Waveguide Refractive Index\n",
"n2=1.52;//\n",
"d= n1-n2;// Cange in core-cladding refractive index\n",
"h=1550;//wavelngth in nano meters\n",
"a=((2.405*h*10^-9)/(2*%pi*sqrt(n1^2-n2^2)));//Core Radius\n",
"disp(a*10^6,'maximum core radius in micro meters')\n",
""
   ]
   }
],
"metadata": {
		  "kernelspec": {
		   "display_name": "Scilab",
		   "language": "scilab",
		   "name": "scilab"
		  },
		  "language_info": {
		   "file_extension": ".sce",
		   "help_links": [
			{
			 "text": "MetaKernel Magics",
			 "url": "https://github.com/calysto/metakernel/blob/master/metakernel/magics/README.md"
			}
		   ],
		   "mimetype": "text/x-octave",
		   "name": "scilab",
		   "version": "0.7.1"
		  }
		 },
		 "nbformat": 4,
		 "nbformat_minor": 0
}
