{
"cells": [
 {
		   "cell_type": "markdown",
	   "metadata": {},
	   "source": [
       "# Chapter 5: Tariff"
	   ]
	},
{
		   "cell_type": "markdown",
		   "metadata": {},
		   "source": [
			"## Example 5.10: monthly_bill_1.sce"
		   ]
		  },
  {
"cell_type": "code",
	   "execution_count": null,
	   "metadata": {
	    "collapsed": true
	   },
	   "outputs": [],
"source": [
"//Chapter 5\n",
"//Example 5_10\n",
"//Page 96\n",
"clear;clc;\n",
"md=50;\n",
"ec=36000;\n",
"re=23400;\n",
"fc=80;\n",
"rc=0.08;\n",
"plus=0.5;\n",
"pfl=86;\n",
"al=ec/24/30;\n",
"arp=re/24/30;\n",
"phi=atan(arp/al);\n",
"pf=cos(phi);\n",
"pfsc=ec*plus*(pfl-pf*100)/100;\n",
"mb=fc*md+rc*ec+pfsc;\n",
"printf('Average laod = %.0f kW \n\n', al);\n",
"printf('Average reactive power = %.1f kVAR \n\n', arp);\n",
"printf('Power factor angle = %.2f radians \n\n', phi);\n",
"printf('Power factor = %.4f \n\n', pf);\n",
"printf('Power factor surcharge = Rs. %.1f \n\n', pfsc);\n",
"printf('Monthly bill = Rs. %.2f \n\n', mb);"
   ]
   }
,
{
		   "cell_type": "markdown",
		   "metadata": {},
		   "source": [
			"## Example 5.11: cost_at_varying_pf.sce"
		   ]
		  },
  {
"cell_type": "code",
	   "execution_count": null,
	   "metadata": {
	    "collapsed": true
	   },
	   "outputs": [],
"source": [
"//Chapter 5\n",
"//Example 5_11\n",
"//Page 96\n",
"clear;clc;\n",
"fc=150;\n",
"rc=0.08;\n",
"lf=0.3;\n",
"pf1=1;\n",
"pf2=0.7;\n",
"md1=fc*100/8760/lf/pf1;\n",
"oc1=md1+rc*100;\n",
"printf('(i) When power factor is unity\n ');\n",
"printf('    MAx demand charge per unit = %.2f paise \n', md1);\n",
"printf('    Energy charge per unit = %.0f paise \n', rc*100);\n",
"printf('    Overall cost per unit = %.2f paise \n\n', oc1);\n",
"md2=fc*100/8760/lf/pf2;\n",
"oc2=md2+rc*100;\n",
"printf('(i) When power factor is unity\n ');\n",
"printf('    MAx demand charge per unit = %.2f paise \n', md2);\n",
"printf('    Energy charge per unit = %.0f paise \n', rc*100);\n",
"printf('    Overall cost per unit = %.2f paise \n\n', oc2);"
   ]
   }
,
{
		   "cell_type": "markdown",
		   "metadata": {},
		   "source": [
			"## Example 5.12: difference_in_cost_annually.sce"
		   ]
		  },
  {
"cell_type": "code",
	   "execution_count": null,
	   "metadata": {
	    "collapsed": true
	   },
	   "outputs": [],
"source": [
"//Chapter 5\n",
"//Example 5_12\n",
"//Page 97\n",
"clear;clc;\n",
"h=8;\n",
"d=300;\n",
"kwh1=0.05;\n",
"kva1=4.5;\n",
"kwh2=5.5;\n",
"kva2=5;\n",
"al=200;\n",
"pf1=0.8;\n",
"md=250;\n",
"hvc=50;\n",
"lhv=0.04;\n",
"id=0.12;\n",
"md1=md/pf1;\n",
"cap=md1/(1-lhv);\n",
"ci=hvc*cap;\n",
"aid=ci*id;\n",
"ac1=cap*kva1*12;\n",
"uc1=al*h*d/(1-lhv);\n",
"ackwh1=kwh1*uc1;\n",
"tac1=aid+ac1+ackwh1;\n",
"printf('(i) High voltage supply\n');\n",
"printf('    Max demand in kVA = %.2f \n', md1);\n",
"printf('    Considering losses in hv equipment, the capacity is = %.2f kVA \n', cap);\n",
"printf('    Annual interest and depreciation = Rs. %.0f \n', aid);\n",
"printf('    Annual charge due to max kVA demand = Rs. %.0f \n', ac1);\n",
"printf('    Units consumed/year = %.0f kWh \n', uc1);\n",
"printf('    Annual charge due to kWh consumption = Rs. %.0f \n', ackwh1);\n",
"printf('    Total annual cost = Rs. %.0f \n\n', tac1);\n",
"md2=md/pf1;\n",
"ac2=md2*kva2*12;\n",
"uc2=al*h*d;\n",
"ackwh2=kwh2*uc2/100;\n",
"tac2=ac2+ackwh2;\n",
"printf('(ii)Low voltage supply\n');\n",
"printf('    Max demand in kVA = %.2f \n', md2);\n",
"printf('    Annual charge due to max kVA demand = Rs. %.0f \n', ac2);\n",
"printf('    Units consumed/year = %.0f kWh \n', uc2);\n",
"printf('    Annual charge due to kWh consumption = Rs. %.0f \n', ackwh2);\n",
"printf('    Total annual cost = Rs. %.0f \n\n', tac2);\n",
"printf('Difference in annual costs of two systems = Rs. %.0f \n', tac2-tac1);"
   ]
   }
,
{
		   "cell_type": "markdown",
		   "metadata": {},
		   "source": [
			"## Example 5.13: cheaper_alternative.sce"
		   ]
		  },
  {
"cell_type": "code",
	   "execution_count": null,
	   "metadata": {
	    "collapsed": true
	   },
	   "outputs": [],
"source": [
"//Chapter 5\n",
"//Example 5_13\n",
"//Page 97\n",
"clear;clc;\n",
"p=1000;\n",
"md=2500;\n",
"inc=5.5*1e6;\n",
"ds=1000;\n",
"rs=400;\n",
"id=0.1;\n",
"fc=75;\n",
"rc=0.05;\n",
"gcc=120;\n",
"grc=0.03;\n",
"cc=rs*ds;\n",
"aid=id*cc;\n",
"ep=md-2*ds;\n",
"kw1=fc*ep;\n",
"kwh1=rc*inc;\n",
"tac1=aid+kw1+kwh1;\n",
"printf('(i) Purchasing diesel set: \n');\n",
"printf('Capital cost = Rs. %.0f \n', cc);\n",
"printf('Annual interest and depreciation = Rs. %.0f \n', aid);\n",
"printf('Extra power to be generated = %.0f kW \n', ep);\n",
"printf('Annual charge due to extra kW max demand = Rs. %.0f \n', kw1);\n",
"printf('Annual charge due to extra kWh consumption = Rs. %.0f \n', kwh1);\n",
"printf('Total Annual cost = Rs. %.0f \n\n', tac1);\n",
"kw2=ep*gcc;\n",
"kwh2=grc*inc;\n",
"tac2=kw2+kwh2;\n",
"printf('(ii) Purchasing from grid supply: \n');\n",
"printf('Annual charge due to extra kW max demand = Rs. %.0f \n', kw2);\n",
"printf('Annual charge due to extra kWh consumption = Rs. %.0f \n', kwh2);\n",
"printf('Total Annual cost = Rs. %.0f \n\n', tac2);\n",
"cheap=abs(tac1-tac2);\n",
"if tac1<tac2\n",
"  printf('Alternative (i) is cheaper by Rs. %.0f\n', cheap);\n",
"else\n",
" printf('Alternative (ii) is cheaper by Rs. %.0f\n', cheap);\n",
"  "
   ]
   }
,
{
		   "cell_type": "markdown",
		   "metadata": {},
		   "source": [
			"## Example 5.1: simple_tariff_1.sce"
		   ]
		  },
  {
"cell_type": "code",
	   "execution_count": null,
	   "metadata": {
	    "collapsed": true
	   },
	   "outputs": [],
"source": [
"//Chapter 5\n",
"//Exxample 5_1\n",
"//PAge 91\n",
"clear;clc;\n",
"md=200;\n",
"lf=0.4;\n",
"mdc=100;\n",
"ec=0.1;\n",
"ugpa=md*lf*8760;\n",
"ac=mdc*md+ec*ugpa;\n",
"oc=ac/ugpa;\n",
"printf('Units generated per annum = %.0f kWh \n\n', ugpa);\n",
"printf('Annual charges = %.0f kWh \n\n', ac);\n",
"printf('Overall cost per kWh = Rs. %.5f \n\n', oc);"
   ]
   }
,
{
		   "cell_type": "markdown",
		   "metadata": {},
		   "source": [
			"## Example 5.2: flat_rate_1.sce"
		   ]
		  },
  {
"cell_type": "code",
	   "execution_count": null,
	   "metadata": {
	    "collapsed": true
	   },
	   "outputs": [],
"source": [
"//Chapter 5\n",
"//Example 5_2\n",
"//Page 91\n",
"clear;clc;\n",
"i=20;\n",
"v=220;\n",
"e=8760;\n",
"t=500;\n",
"et=0.2;\n",
"et_plus=0.1;\n",
"lf=1;\n",
"md=i*v*lf/1000;\n",
"printf('Assuming load factor to be unity\n');\n",
"printf('Maximum demand = %.1f kW \n\n', md);\n",
"u=md*t;\n",
"c=et*u;\n",
"ru=e-u;\n",
"c_extra=et_plus*ru;\n",
"total=c+c_extra;\n",
"eqfr=total/e;\n",
"printf('(i) Units consumed = %.0f kWh \n\n', u);\n",
"printf('    Charges = Rs. %.0f \n\n', c);\n",
"printf('    Remaining units = %.0f kWh \n\n', ru);\n",
"printf('    Extra charges = Rs. %.0f \n\n', c_extra);\n",
"printf('    Total annual bill = Rs. %.0f \n\n\n', total);\n",
"printf('(ii)Equivalent flat rate = Rs. %.5f \n\n', eqfr);"
   ]
   }
,
{
		   "cell_type": "markdown",
		   "metadata": {},
		   "source": [
			"## Example 5.3: economical_tariff.sce"
		   ]
		  },
  {
"cell_type": "code",
	   "execution_count": null,
	   "metadata": {
	    "collapsed": true
	   },
	   "outputs": [],
"source": [
"//Chapter 5\n",
"//Example 5_3\n",
"//Page 92\n",
"clear;clc;\n",
"rs=100;\n",
"exceed=0.15;\n",
"fr=0.3;\n",
"x=rs/(fr-exceed);\n",
"printf('Number of units at which charges due to both tariffs become equal = %.2f units \n\n', x);\n",
"printf('Tariff (a) is economical if consumption is more than %.2f units \n\n', x);"
   ]
   }
,
{
		   "cell_type": "markdown",
		   "metadata": {},
		   "source": [
			"## Example 5.4: number_of_units.sce"
		   ]
		  },
  {
"cell_type": "code",
	   "execution_count": null,
	   "metadata": {
	    "collapsed": true
	   },
	   "outputs": [],
"source": [
"//Chapter 5\n",
"//Example 5_4\n",
"//Page 92\n",
"clear;clc;\n",
"fc=30;\n",
"rc=0.03;\n",
"fu=400;\n",
"rfu=0.06;\n",
"add_u=0.05;\n",
"rate=fu*rfu-fu*add_u;\n",
"x=(fc-rate)/(add_u-rc);\n",
"printf('x is the number of units taken per annum for which the annual charges due to both tariffs become equal. \n\n');\n",
"printf('Annual charges due to first tariff = Rs. (%d+%.2f*x) \n\n', fc, rc);\n",
"printf('Annual charges due to second tariff = Rs. (%d+%.2f*x) \n\n', rate, add_u);\n",
"printf('Equating the two equations, x = %.2f kWh \n\n', x);"
   ]
   }
,
{
		   "cell_type": "markdown",
		   "metadata": {},
		   "source": [
			"## Example 5.5: two_part_1.sce"
		   ]
		  },
  {
"cell_type": "code",
	   "execution_count": null,
	   "metadata": {
	    "collapsed": true
	   },
	   "outputs": [],
"source": [
"//Chapter 5\n",
"//Example 5_5\n",
"//PAge 92\n",
"clear;clc;\n",
"md=50;\n",
"u=18*1e7;\n",
"ad=75;\n",
"fc=9000000;\n",
"fcg=2800000;\n",
"fctnd=3200000;\n",
"l=0.15;\n",
"rc=0.9;\n",
"printf('Annual fixed charges\n');\n",
"fuel=(1-rc)*fc;\n",
"tac=fcg+fctnd+fuel;\n",
"printf('Total annual charges = Rs. %.0f \n', tac);\n",
"cmd=tac/ad/1000;\n",
"printf('Cost per kW of maximum demand = Rs. %.0f \n\n', cmd);\n",
"printf('Annual running charges\n');\n",
"cf=rc*fc;\n",
"udc=(1-l)*u;\n",
"c=cf/udc;\n",
"printf('Cost of fuel = Rs. %.0f \n', cf);\n",
"printf('Units deliivered to consumers = %.0f kWh \n', udc);\n",
"printf('Cost per kWh = Rs. %.3f \n\n', c);\n",
"printf('Tariff is Rs. %.0f of maximum demand plus %.3f rupess per kWh \n\n', cmd, c);"
   ]
   }
,
{
		   "cell_type": "markdown",
		   "metadata": {},
		   "source": [
			"## Example 5.6: substation_and_consumer.sce"
		   ]
		  },
  {
"cell_type": "code",
	   "execution_count": null,
	   "metadata": {
	    "collapsed": true
	   },
	   "outputs": [],
"source": [
"//Chapter 5\n",
"//Exampl 5_6\n",
"//PAge 93\n",
"clear;clc;\n",
"md=75;\n",
"lf=0.4;\n",
"gcc=60;\n",
"goc=0.04;\n",
"tcc=2000000;\n",
"dcc=1500000;\n",
"tdf=1.2;\n",
"ddf=1.25;\n",
"n_tr=0.9;\n",
"n_dr=0.85;\n",
"printf('Cost at Substation\n\n');\n",
"printf('\t (i) Annual fixed charges\n');\n",
"gc=gcc*md*1000;\n",
"tafc=gc+tcc;\n",
"agg=md*1000*tdf;\n",
"ac=tafc/agg;\n",
"printf('\t\t Generation cost = Rs. %.0f \n', gc);\n",
"printf('\t\t Transmission cost = Rs. %.0f \n',tcc);\n",
"printf('\t\t Total annual fixed charges at the substation=Rs. %.0f \n', tafc);\n",
"printf('\t\t Aggregate of all max demands by various substations =  %.0f kW \n', agg);\n",
"printf('\t\t Annual cost per kW of maximum demand = Rs. %.2f \n\n', ac);\n",
"printf('\t (ii) Running charges\n');\n",
"c=goc/n_tr;\n",
"printf('\t\t Cost per kWh at substation = Rs. %.4f \n\n', c);\n",
"printf('Cost at Consumers premises\n');\n",
"cp=tafc+dcc;\n",
"aggm=agg*ddf;\n",
"ckW=cp/aggm;\n",
"ckWh=c/n_dr;\n",
"printf('\t\t Total annual fixed charges at consumers premises = Rs. %.0f \n\n', cp);\n",
"printf('\t\t Aggregate of max demands of all consumers = %.0f kW \n\n', aggm);\n",
"printf('\t\t Annual cost per kW of max demand = Rs. %.0f \n\n', ckW);\n",
"printf('\t\t Cost per kWh at consumers premises = Rs. %.4f \n\n', ckWh);"
   ]
   }
,
{
		   "cell_type": "markdown",
		   "metadata": {},
		   "source": [
			"## Example 5.7: solving_for_L.sce"
		   ]
		  },
  {
"cell_type": "code",
	   "execution_count": null,
	   "metadata": {
	    "collapsed": true
	   },
	   "outputs": [],
"source": [
"//Chapter 5\n",
"//Example 5_7\n",
"//Page 94\n",
"clear;clc;\n",
"fcd=300;\n",
"fcs=1200;\n",
"rcd=0.25;\n",
"rcs=0.0625;\n",
"printf('Let L be the load factor\n');\n",
"printf('DIESEL STATION: \n');\n",
"apd=100/8760;\n",
"fc_d=fcd*apd;\n",
"rc_d=100*rcd;\n",
"printf('Average power = %.4f kW \n', apd);\n",
"printf('Maximum demand = %.4f/L kW \n', apd);\n",
"printf('Fixed charges = Rs. %.2f/L \n', fc_d);\n",
"printf('Running charges = Rs. %.2f \n', rc_d);\n",
"printf('Fixed and running charges = Rs. (%.2f/L + %.2f) \n\n', fc_d, rc_d);\n",
"printf('STEAM STATION: \n');\n",
"aps=100/8760;\n",
"fc_s=fcs*aps;\n",
"rc_s=100*rcs;\n",
"printf('Fixed charges = Rs. %.2f/L \n', fc_s);\n",
"printf('Running charges = Rs. %.2f \n', rc_s);\n",
"printf('Fixed and running charges = Rs. (%.2f/L + %.2f) \n\n', fc_s, rc_s);\n",
"l=54.72;\n",
"printf('Equating the two charges and solving, we get L = %.2f %% \n\n', l);"
   ]
   }
,
{
		   "cell_type": "markdown",
		   "metadata": {},
		   "source": [
			"## Example 5.8: annual_bill_1.sce"
		   ]
		  },
  {
"cell_type": "code",
	   "execution_count": null,
	   "metadata": {
	    "collapsed": true
	   },
	   "outputs": [],
"source": [
"//Chapter 5\n",
"//Example 5_8\n",
"//PAge 95\n",
"clear;clc;\n",
"md=100;\n",
"pf=0.8;\n",
"lf=0.6;\n",
"fc=75;\n",
"rc=0.15;\n",
"ucpy=md*lf*8760;\n",
"mdkva=md/pf;\n",
"bill=fc*mdkva+rc*ucpy;\n",
"printf('Units consumed per year = %.0f kWh \n\n', ucpy);\n",
"printf('Max demand in kVA = %.0f kWh \n\n', mdkva);\n",
"printf('Annual bill = %.0f kWh \n\n', bill);"
   ]
   }
,
{
		   "cell_type": "markdown",
		   "metadata": {},
		   "source": [
			"## Example 5.9: annual_saving_1.sce"
		   ]
		  },
  {
"cell_type": "code",
	   "execution_count": null,
	   "metadata": {
	    "collapsed": true
	   },
	   "outputs": [],
"source": [
"//Chapter 5\n",
"//Example 5_9\n",
"//PAge 95\n",
"clear;clc;\n",
"ml=240;\n",
"pf=0.8;\n",
"ac=50000;\n",
"fc=50;\n",
"rc=0.1;\n",
"md1=ml/pf;\n",
"ab1=fc*md1+rc*ac;\n",
"flat1=ab1/ac;\n",
"md2=ml/1;\n",
"ab2=fc*md2+rc*ac;\n",
"as=ab1-ab2;\n",
"printf('With power factor = %.1f \n', pf);\n",
"printf('Maximum demand = %.0f kVA \n', md1);\n",
"printf('Annual bill = Rs. %.0f \n', ab1);\n",
"printf('Flat rate per unit = Rs. %.3f \n\n', flat1);\n",
"printf('With power factor unity \n');\n",
"printf('Maximum demand = %.0f kVA \n', md2);\n",
"printf('Annual bill = Rs. %.0f \n', ab2);\n",
"printf('Annual saving = Rs. %.0f\n', as);"
   ]
   }
],
"metadata": {
		  "kernelspec": {
		   "display_name": "Scilab",
		   "language": "scilab",
		   "name": "scilab"
		  },
		  "language_info": {
		   "file_extension": ".sce",
		   "help_links": [
			{
			 "text": "MetaKernel Magics",
			 "url": "https://github.com/calysto/metakernel/blob/master/metakernel/magics/README.md"
			}
		   ],
		   "mimetype": "text/x-octave",
		   "name": "scilab",
		   "version": "0.7.1"
		  }
		 },
		 "nbformat": 4,
		 "nbformat_minor": 0
}
