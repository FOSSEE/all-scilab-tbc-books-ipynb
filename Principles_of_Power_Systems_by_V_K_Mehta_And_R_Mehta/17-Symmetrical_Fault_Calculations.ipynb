{
"cells": [
 {
		   "cell_type": "markdown",
	   "metadata": {},
	   "source": [
       "# Chapter 17: Symmetrical Fault Calculations"
	   ]
	},
{
		   "cell_type": "markdown",
		   "metadata": {},
		   "source": [
			"## Example 17.10: sc_kVA.sce"
		   ]
		  },
  {
"cell_type": "code",
	   "execution_count": null,
	   "metadata": {
	    "collapsed": true
	   },
	   "outputs": [],
"source": [
"//Chapter 17\n",
"//Example 17_10\n",
"//Page 412\n",
"clear;clc;\n",
"q=50000;\n",
"x=20;\n",
"b=10;\n",
"n1=3;\n",
"n2=9;\n",
"//from the derivation\n",
"sckva1=(q/x+q*(n1-1)/(b*n1+x))*100;\n",
"sckva2=(q/x+q*(n2-1)/(b*n2+x))*100;\n",
"//When n is very large\n",
"sckva3=(q/x+q/b)*100;\n",
"printf('(i) Short circuit kVA with %d sections = %d kVA \n\n', n1, sckva1);\n",
"printf('(ii) Short circuit kVA with %d sections = %d kVA \n\n', n2, sckva2);\n",
"printf('(iii) Short circuit kVA when n is very large = %d kVA \n\n', sckva3);"
   ]
   }
,
{
		   "cell_type": "markdown",
		   "metadata": {},
		   "source": [
			"## Example 17.11: reactor_reactance.sce"
		   ]
		  },
  {
"cell_type": "code",
	   "execution_count": null,
	   "metadata": {
	    "collapsed": true
	   },
	   "outputs": [],
"source": [
"//Chapter 17\n",
"//Example 17_11\n",
"//Page 414\n",
"clear;clc;\n",
"v=33;\n",
"pmva=10;\n",
"qmva=50;\n",
"xp=20;\n",
"xq=10;\n",
"rc=500;\n",
"base=50;\n",
"per_xg=base/pmva*xp;\n",
"per_xt=base/qmva*xq;\n",
"printf('%% reactance of each generator = %d %% \n', per_xg);\n",
"printf('%% reactance of transformer = %d %% \n', per_xt);\n",
"per_x=base*100/rc;\n",
"printf('Required %% reactance = %d %% \n', per_x);\n",
"x=100/15;\n",
"rr=x*10*v^2/base/1000;\n",
"printf('Reactance of reactor = %.3f ohms \n\n', rr);"
   ]
   }
,
{
		   "cell_type": "markdown",
		   "metadata": {},
		   "source": [
			"## Example 17.12: reactance_of_reactor.sce"
		   ]
		  },
  {
"cell_type": "code",
	   "execution_count": null,
	   "metadata": {
	    "collapsed": true
	   },
	   "outputs": [],
"source": [
"//Chapter 17\n",
"//Example 17_12\n",
"//Page 415\n",
"clear;clc;\n",
"ml=5000;\n",
"v=6600;\n",
"x=6;\n",
"m=5;\n",
"base=input('Base kVA: ');\n",
"x=base*100/m/ml-6;\n",
"xohm=x*10*(v/1000)^2/ml;\n",
"printf('%% reactance of the reactor = %.2f %% \n\n', x);\n",
"printf('Reactance in ohms = %.2f \n\n', xohm);"
   ]
   }
,
{
		   "cell_type": "markdown",
		   "metadata": {},
		   "source": [
			"## Example 17.13: fault_mva_calculations_3.sce"
		   ]
		  },
  {
"cell_type": "code",
	   "execution_count": null,
	   "metadata": {
	    "collapsed": true
	   },
	   "outputs": [],
"source": [
"//Chapter 17\n",
"//Example 17_13\n",
"//Page 416\n",
"clear;clc;\n",
"mva=[15 15 8];\n",
"x=[12 12 10];\n",
"mvat=5;\n",
"xt=4;\n",
"mvar=10;\n",
"xr=15;\n",
"base=input('Enter base mva: ');\n",
"for i=1:3\n",
"perx(i)=base*x(i)/mva(i);\n",
"printf('%% X(%i) = %.2f %% \n\n', i, perx(i));\n",
"end;\n",
"perxt=base*xt/mvat;\n",
"perxr=base*xr/mvar;\n",
"printf('%% Xt = %.2f %% \n\n', perxt);\n",
"printf('%% Xr = %.2f %% \n\n', perxr);\n",
"xabt=perx(1)/2+perxt;\n",
"xcr=perx(3)+perxr;\n",
"tx=xabt*xcr/(xabt+xcr);\n",
"f=base*100/tx;\n",
"printf('Total %% reactance = %.2f %% \n\n', tx);\n",
"printf('Fault MVA = %.2f MVA \n\n', f);"
   ]
   }
,
{
		   "cell_type": "markdown",
		   "metadata": {},
		   "source": [
			"## Example 17.14: fault_current_fed_by_alternator.sce"
		   ]
		  },
  {
"cell_type": "code",
	   "execution_count": null,
	   "metadata": {
	    "collapsed": true
	   },
	   "outputs": [],
"source": [
"//Chapter 17\n",
"//Example 17_14\n",
"//Page 417\n",
"clear;clc;\n",
"mva=10;\n",
"kv=6.6;\n",
"xa=20;\n",
"mvat=5;\n",
"kvpt=6.6;\n",
"kvst=33;\n",
"xt=10;\n",
"r=0.2;\n",
"x=1;\n",
"ll=50;\n",
"base=input('Enter base MVA: ');\n",
"per_xa=base*xa/mva;\n",
"per_xt=base*xt/mvat;\n",
"per_xl=mva*1000*ll*x/10/kvst^2;\n",
"per_rl=mva*1000*ll*r/10/kvst^2;\n",
"tx=per_xl+per_xa+per_xt;\n",
"tr=per_rl;\n",
"per_z=sqrt(tx^2+tr^2);\n",
"scmva=base*100/per_z;\n",
"isc=scmva*1e6/sqrt(3)/kv/1000;\n",
"printf('%% reactance of the alternator = %.2f %% \n\n', per_xa);\n",
"printf('%% reactance of the transformer = %.2f %% \n\n', per_xt);\n",
"printf('%% reactance of the transmission line = %.2f %% \n\n', per_xl);\n",
"printf('%% resistance of the transmission line = %.2f %% \n\n', per_rl);\n",
"printf('Total %% reactance upto fault point = %.2f %% \n\n', tx);\n",
"printf('Total %% resistance upto fault point = %.2f %% \n\n', tr);\n",
"printf('Total %% impedance upto fault point = %.2f %% \n\n', per_z);\n",
"printf('Short circuit MVA = %.2f MVA \n\n', scmva);\n",
"printf('Short circuit current fed by the alternator to the fault = %.2f A \n\n', isc);"
   ]
   }
,
{
		   "cell_type": "markdown",
		   "metadata": {},
		   "source": [
			"## Example 17.15: short_circuit_current_calculations.sce"
		   ]
		  },
  {
"cell_type": "code",
	   "execution_count": null,
	   "metadata": {
	    "collapsed": true
	   },
	   "outputs": [],
"source": [
"//Chapter 17\n",
"//Example 17_15\n",
"//Page 418\n",
"clear;clc;\n",
"kv=11;\n",
"mva=10;\n",
"xa=12;\n",
"mvar=10;\n",
"xr=24;\n",
"mvat=6;\n",
"xt=3;\n",
"ts=66;\n",
"base=input('Enter base MVA: ');\n",
"per_xa=base*xa/mva;\n",
"per_xr=base*xr/mvar;\n",
"per_xt=base*xt/mvat;\n",
"//From the figure, the total reactance from generator to fault point is \n",
"l1=per_xa/2+per_xr;\n",
"l2=per_xa/2;\n",
"tx=l1*l2/(l1+l2)+per_xt;\n",
"fmva=base*100/tx;\n",
"isc=fmva*1e6/sqrt(3)/ts/1000;\n",
"printf('%% reactance of the alternator = %.2f %% \n\n', per_xa);\n",
"printf('%% reactance of the transformer = %.2f %% \n\n', per_xt);\n",
"printf('%% reactance of the reactor = %.2f %% \n\n', per_xr);\n",
"printf('Total %% reactance upto fault point = %.2f %% \n\n', tx);\n",
"printf('Fault MVA = %.2f MVA \n\n', fmva);\n",
"printf('Short circuit current fed by the alternator to the fault = %.2f A \n\n', isc);"
   ]
   }
,
{
		   "cell_type": "markdown",
		   "metadata": {},
		   "source": [
			"## Example 17.1: short_circuit_current.sce"
		   ]
		  },
  {
"cell_type": "code",
	   "execution_count": null,
	   "metadata": {
	    "collapsed": true
	   },
	   "outputs": [],
"source": [
"//Chapter 17\n",
"//Page 402\n",
"//Example 17_1\n",
"clear;clc;\n",
"kva=[15000 20000];\n",
"x=[30 50];\n",
"vl=12000;\n",
"base=input('Enter base kVA:    ');\n",
"for i=1:2;\n",
"  per_x(i)=base*x(i)/kva(i);\n",
"  printf('%% Reactance of alternator %i is = %.2f %% \n\n', i,     per_x(i));\n",
"end;\n",
"i=base*1000/sqrt(3)/vl;\n",
"printf('Line current = %.0f A \n\n', i);\n",
"tx=per_x(1)*per_x(2)/(per_x(1)+per_x(2));\n",
"printf('Total percentage reactance from generator nuetral upto fault point = %.2f %% \n\n', tx);\n",
"isc=i*100/tx;\n",
"printf('Short circuit current = %.0f A \n\n', isc);"
   ]
   }
,
{
		   "cell_type": "markdown",
		   "metadata": {},
		   "source": [
			"## Example 17.2: percentage_reactance.sce"
		   ]
		  },
  {
"cell_type": "code",
	   "execution_count": null,
	   "metadata": {
	    "collapsed": true
	   },
	   "outputs": [],
"source": [
"//Chapter 17\n",
"//Example 17_2\n",
"//Page 404\n",
"clear;clc;\n",
"mva=20*1e6;\n",
"kv=10*1e3;\n",
"x=5;\n",
"sc=8;\n",
"i=mva/sqrt(3)/kv;\n",
"vph=kv/sqrt(3);\n",
"tperx=(1/sc)*100;\n",
"ext=tperx-x;\n",
"perx=ext*vph/100/i;\n",
"printf('Full load current = %.2f A \n\n', i);\n",
"printf('Voltage per phase = %.2f V \n\n', vph);\n",
"printf('Total percentage reactance required = %.2f %% \n\n', tperx);\n",
"printf('External percentage reactance required = %.2f %% \n\n', ext);\n",
"printf('Percentage reactance = %.2f ohm \n\n', perx);"
   ]
   }
,
{
		   "cell_type": "markdown",
		   "metadata": {},
		   "source": [
			"## Example 17.3: short_circuit_kva_1.sce"
		   ]
		  },
  {
"cell_type": "code",
	   "execution_count": null,
	   "metadata": {
	    "collapsed": true
	   },
	   "outputs": [],
"source": [
"//Chapter 17\n",
"//Example 17_3\n",
"//Page 404\n",
"clear;clc;\n",
"kv=10;\n",
"r=1;\n",
"x=4;\n",
"mvaa=10;\n",
"mvat=5;\n",
"xt=5;\n",
"mvabb=10;\n",
"xa=10;\n",
"base=input('Enter base kVA:  ');\n",
"per_xa=base*xa/(mvaa*1000);\n",
"per_xt=base*xt/(mvat*1000);\n",
"per_xl=x*mvabb*1000/10/kv^2;\n",
"per_rl=r*mvabb*1000/10/kv^2;\n",
"tx=per_xa+per_xt+per_xl;\n",
"tr=per_rl;\n",
"per_z=sqrt(tr^2+tx^2);\n",
"sckva1=mvabb*1000*100/per_z;\n",
"txgf=per_xa+per_xt;\n",
"sckva2=mvaa*1000*100/txgf;\n",
"printf('%% reactance of alternator = %.2f %% \n\n', per_xa);\n",
"printf('%% reactance of transformer = %.2f %% \n\n', per_xt);\n",
"printf('%% reactance of transmission line = %.2f %% \n\n', per_xl);\n",
"printf('%% resistance of transmission line = %.2f %% \n\n', per_rl);\n",
"printf('(i) Total %% reactance = %.2f %% \n\n', tx);\n",
"printf('    Total %% resistance = %.2f %% \n\n', tr);\n",
"printf('    %% impedance from generator nuetral upto fault point = %.2f %% \n\n', per_z);\n",
"printf('    Short circuit kva = %.0f kVA \n\n', sckva1);\n",
"printf('(ii) %% impedance from generator nuetral upto fault point = %.2f %% \n\n', txgf);\n",
"printf('     Short circuit kva = %.0f kVA \n\n', sckva2);"
   ]
   }
,
{
		   "cell_type": "markdown",
		   "metadata": {},
		   "source": [
			"## Example 17.4: fault_mva_calculations.sce"
		   ]
		  },
  {
"cell_type": "code",
	   "execution_count": null,
	   "metadata": {
	    "collapsed": true
	   },
	   "outputs": [],
"source": [
"//Chapter 17\n",
"//Example 17_4\n",
"//Page 405\n",
"clear;clc;\n",
"kva=[10000 10000 5000];\n",
"x=[12 12 18];\n",
"kva_tr=5000;\n",
"x_tr=5;\n",
"base=input('Enter base kva:   ');\n",
"for i=1:3;\n",
"  per_x(i)= x(i)*base/kva(i);\n",
"  printf('%% x(%i) = %.0f \n\n', i, per_x(i));\n",
"end\n",
"per_xt=x_tr*base/kva_tr;\n",
"printf('%% Xt = %.0f \n\n', per_xt);\n",
"tx1=1/(1/per_x(1)+1/per_x(2)+1/per_x(3));\n",
"fmva1=base*100/tx1*1/1000;\n",
"tx2=tx1+per_xt;\n",
"fmva2=base*100/tx2*1/1000;\n",
"printf('(i) Total percentage reactance from generator to fault F1 = %.2f %% \n\n', tx1);\n",
"printf('    Fault MVA = %.2f \n\n', fmva1);\n",
"printf('(ii) Total percentage reactance from generator to fault to F2 = %.2f %% \n\n', tx2);\n",
"printf('     Fault MVA = %.2f \n\n', fmva2);"
   ]
   }
,
{
		   "cell_type": "markdown",
		   "metadata": {},
		   "source": [
			"## Example 17.5: fault_mva_calculations_2.sce"
		   ]
		  },
  {
"cell_type": "code",
	   "execution_count": null,
	   "metadata": {
	    "collapsed": true
	   },
	   "outputs": [],
"source": [
"//Chapter 17\n",
"//Example 17_5\n",
"//Page 407\n",
"clear;clc;\n",
"kva=[10000 10000 8000 8000];\n",
"x=[10 10 12 12];\n",
"kva_bb=5000;\n",
"x_bb=10;\n",
"base=input('Enter base kva:   ');\n",
"for i=1:4;\n",
"  per_x(i)= x(i)*base/kva(i);\n",
"  printf('%% reactance of generator %i = %.0f \n\n', i, per_x(i));\n",
"end\n",
"per_bb=x_bb*base/kva_bb;\n",
"printf('%% reactance of bus bar = %.0f \n\n', per_bb);\n",
"xa=per_x(1)*per_x(2)/(per_x(1)+per_x(2));\n",
"xb=per_x(3)*per_x(4)/(per_x(3)+per_x(4));\n",
"xf=xa+per_bb;\n",
"tx=xf*xb/(xf+xb);\n",
"printf('Total %% reactance from generator nuetral to fult point is = %.2f %% \n\n', tx);\n",
"fmva=base*100/tx/1000;\n",
"printf('Fault MVA = %.2f \n\n', fmva);"
   ]
   }
,
{
		   "cell_type": "markdown",
		   "metadata": {},
		   "source": [
			"## Example 17.6: reactance.sce"
		   ]
		  },
  {
"cell_type": "code",
	   "execution_count": null,
	   "metadata": {
	    "collapsed": true
	   },
	   "outputs": [],
"source": [
"//Chapter 17\n",
"//Example 17_6\n",
"//Page 408\n",
"\n",
"clear;clc;\n",
"\n",
"kva1=3000;\n",
"kva2=4500;\n",
"x1=7;\n",
"x2=8;\n",
"rc=150*1e6/1000;\n",
"kvatr=7500;\n",
"xt=7.5;\n",
"bv=3300;\n",
"\n",
"base=7500;\n",
"printf('Let base kVA be 7500 kVA \n');\n",
"per_x1=x1*base/kva1;\n",
"per_x2=x2*base/kva2;\n",
"per_xt=xt*base/kvatr;\n",
"\n",
"r_ab=per_x1*per_x2/(per_x1+per_x2);\n",
"c=base*100/r_ab/rc;\n",
"per_x=abs((c*(r_ab+per_xt)-per_xt)/(c-1));\n",
"x=per_x*10*(bv/1000)^2/base;\n",
"\n",
"printf('%% reactance of generator A = %.2f %% \n\n', per_x1);\n",
"printf('%% reactance of generator B = %.2f %% \n\n', per_x2);\n",
"printf('%% reactance of transformer = %.2f %% \n\n', per_xt);\n",
"printf('%% reactance of the bus bar = %.2f %% \n\n', per_x);\n",
"printf('%% reactance in ohms = %.3f ohms \n\n', x);\n",
"\n",
"\n",
""
   ]
   }
,
{
		   "cell_type": "markdown",
		   "metadata": {},
		   "source": [
			"## Example 17.7: short_circuit_mva.sce"
		   ]
		  },
  {
"cell_type": "code",
	   "execution_count": null,
	   "metadata": {
	    "collapsed": true
	   },
	   "outputs": [],
"source": [
"//Chapter 17\n",
"//Example 17_7\n",
"//Page 409\n",
"clear;clc;\n",
"mva1=1500;\n",
"mva2=1200;\n",
"v=33;\n",
"x=1;\n",
"base=input('Base MVA:  ');\n",
"per_x1=base*100/mva1;\n",
"per_x2=base*100/mva2;\n",
"printf('%% reactance of station A = %.2f %% \n\n', per_x1);\n",
"printf('%% reactance of station B = %.2f %% \n\n', per_x2);\n",
"per_xt=base*1000*x/10/v^2;\n",
"printf('%% reactance of interconnector = %.2f %% \n\n', per_xt);\n",
"x1=per_x1+per_xt;\n",
"tx1=x1*per_x2/(x1+per_x2);\n",
"scmva1=base*100/tx1;\n",
"x2=per_x2+per_xt;\n",
"tx2=x2*per_x1/(x2+per_x1);\n",
"scmva2=base*100/tx2;\n",
"printf('FAULT ON STATION A: \n\n');\n",
"printf('Total %% reactance upto fault point F2 = %.2f %% \n\n', tx2);\n",
"printf('Short circuit MVA = %.2f \n\n', scmva2);\n",
"printf('FAULT ON STATION B: \n\n');\n",
"printf('Total %% reactance upto fault point F1 = %.2f %% \n\n', tx1);\n",
"printf('Short circuit MVA = %.2f \n\n', scmva1);"
   ]
   }
,
{
		   "cell_type": "markdown",
		   "metadata": {},
		   "source": [
			"## Example 17.8: steady_state_input.sce"
		   ]
		  },
  {
"cell_type": "code",
	   "execution_count": null,
	   "metadata": {
	    "collapsed": true
	   },
	   "outputs": [],
"source": [
"//Chapter 17\n",
"//Example 17_8\n",
"//Page 410\n",
"clear;clc;\n",
"kva=5000;\n",
"x=12;\n",
"r=6;\n",
"base=input('Input base kva:   ');\n",
"perx=base*x/kva;\n",
"printf('With reactors: \n');\n",
"x1=(perx+r)/2+r;\n",
"tx1=x1*x/(x1+x);\n",
"sci1=base*100/tx1;\n",
"printf('Total %% reactance from generator to fault = %.2f %% \n', tx1);\n",
"printf('Short circuit input = %.3f MVA \n\n', sci1/1000);\n",
"printf('Without reactors: \n');\n",
"tx2=x/3;\n",
"sci2=base*100/tx2;\n",
"printf('Total %% reactance from generator to fault = %.2f %% \n', tx2);\n",
"printf('Short circuit input = %.3f MVA \n\n', sci2/1000);"
   ]
   }
,
{
		   "cell_type": "markdown",
		   "metadata": {},
		   "source": [
			"## Example 17.9: short_circuit_mva_2.sce"
		   ]
		  },
  {
"cell_type": "code",
	   "execution_count": null,
	   "metadata": {
	    "collapsed": true
	   },
	   "outputs": [],
"source": [
"//Chapter 17\n",
"//Example 17_9\n",
"//Page 411\n",
"clear;clc;\n",
"gmva=10;\n",
"gx=30;\n",
"rmva=10;\n",
"rx=10;\n",
"tmva=5;\n",
"tx=5;\n",
"base=input('Enter base MVA: ');\n",
"pergx=base*gx/gmva;\n",
"printf('%% reactance of each generator = %.0f %% \n\n', pergx);\n",
"perrx=base*rx/rmva;\n",
"printf('%% reactance of each generator = %.0f %% \n\n', perrx);\n",
"pertx=base*tx/tmva;\n",
"printf('%% reactance of each generator = %.0f %% \n\n', pertx);\n",
"xbc=(pergx+perrx)/2+pertx;\n",
"tx=xbc*pergx/(xbc+pergx)+pertx;\n",
"sc=base*100/tx;\n",
"printf('Total %% reactance = %.2f %% \n\n', tx);\n",
"printf('S.C MVA = %.2f \n\n', sc);"
   ]
   }
],
"metadata": {
		  "kernelspec": {
		   "display_name": "Scilab",
		   "language": "scilab",
		   "name": "scilab"
		  },
		  "language_info": {
		   "file_extension": ".sce",
		   "help_links": [
			{
			 "text": "MetaKernel Magics",
			 "url": "https://github.com/calysto/metakernel/blob/master/metakernel/magics/README.md"
			}
		   ],
		   "mimetype": "text/x-octave",
		   "name": "scilab",
		   "version": "0.7.1"
		  }
		 },
		 "nbformat": 4,
		 "nbformat_minor": 0
}
