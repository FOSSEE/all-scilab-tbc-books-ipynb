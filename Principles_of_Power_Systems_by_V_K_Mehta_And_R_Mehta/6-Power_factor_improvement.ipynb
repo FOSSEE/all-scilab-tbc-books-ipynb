{
"cells": [
 {
		   "cell_type": "markdown",
	   "metadata": {},
	   "source": [
       "# Chapter 6: Power factor improvement"
	   ]
	},
{
		   "cell_type": "markdown",
		   "metadata": {},
		   "source": [
			"## Example 6.10: total_annual_bill.sce"
		   ]
		  },
  {
"cell_type": "code",
	   "execution_count": null,
	   "metadata": {
	    "collapsed": true
	   },
	   "outputs": [],
"source": [
"//Chapter 6\n",
"//Example 6_10\n",
"//Page 114\n",
"clear;clc;\n",
"im=37.3;\n",
"pf1=0.8;\n",
"n_im=0.85;\n",
"sm=18.65;\n",
"pf2=0.9;\n",
"n_sm=0.9;\n",
"ll=10;\n",
"pf3=1;\n",
"fc=60;\n",
"rc=0.05;\n",
"h=2000;\n",
"ip_im=im/n_im;\n",
"lag_im=ip_im*tan(acos(pf1));\n",
"printf('Input power to induction motor = %.2f kW \n', ip_im);\n",
"printf('Lagging kVAR taken by induction motor = %.2f kW \n\n', lag_im);\n",
"ip_sm=sm/n_sm;\n",
"lead_sm=ip_sm*tan(acos(pf2));\n",
"printf('Input power to synchronous motor = %.2f kW \n', ip_sm);\n",
"printf('Leading kVAR taken by synchronous motor = %.2f kW \n\n', lead_sm);\n",
"net=lag_im-abs(lead_sm);\n",
"tap=ip_im+ip_sm+ll;\n",
"tkva=abs(sqrt(net^2+tap^2));\n",
"dc=fc*tkva;\n",
"ec=tap*h;\n",
"aec=abs(rc*ec);\n",
"t=dc+aec;\n",
"printf('Net lagging kVAR = %.2f \n', net);\n",
"printf('Total active power = %.2f \n', tap);\n",
"printf('Total kVA = %.2f \n', tkva);\n",
"printf('Annual demand charges = Rs. %.2f \n', dc);\n",
"printf('Energy consumed per year = %.2f kWh \n', ec);\n",
"printf('Annual energy charges = Rs. %.2f \n', aec);\n",
"printf('Total annual bill = Rs. %.2f \n', t);"
   ]
   }
,
{
		   "cell_type": "markdown",
		   "metadata": {},
		   "source": [
			"## Example 6.11: synchronous_motor_power_factor.sce"
		   ]
		  },
  {
"cell_type": "code",
	   "execution_count": null,
	   "metadata": {
	    "collapsed": true
	   },
	   "outputs": [],
"source": [
"//Chapter 6\n",
"//Example 6_11\n",
"//Page 114\n",
"clear;clc;\n",
"ll=500;\n",
"l1=400;\n",
"pf1=0.707;\n",
"l2=800;\n",
"pf2=0.8;\n",
"l3=500;\n",
"pf3=0.6;\n",
"dcg=540;\n",
"n=0.9;\n",
"tlag=l1*tan(acos(pf1))+l3*tan(acos(pf3));\n",
"lead=l2*tan(acos(pf2));\n",
"tlead=tlag-lead;\n",
"ip=dcg/n;\n",
"tan_phi=tlead/lead;\n",
"phi=atan(tan_phi);\n",
"pf=cos(phi);\n",
"printf('Total lagging kVAR taken = %.2f \n', tlag);\n",
"printf('Leading kVAR taken = %.2f \n', lead);\n",
"printf('Total leading kVAR taken = %.2f \n', tlead);\n",
"printf('Motor input = %.2f kW \n', ip);\n",
"printf('phi = %.2f radians\n', phi);\n",
"printf('Power factor of synchronous motor = %.2f lead\n', pf);"
   ]
   }
,
{
		   "cell_type": "markdown",
		   "metadata": {},
		   "source": [
			"## Example 6.12: annual_saving_5.sce"
		   ]
		  },
  {
"cell_type": "code",
	   "execution_count": null,
	   "metadata": {
	    "collapsed": true
	   },
	   "outputs": [],
"source": [
"//Chapter 6\n",
"//Example 6_12\n",
"//Page 115\n",
"clear;clc;\n",
"sm=100;\n",
"im=200;\n",
"pf2=0.707;\n",
"n2=0.82;\n",
"ll=30;\n",
"fc=100;\n",
"rc=0.06;\n",
"pf1=0.8;\n",
"n1=0.93;\n",
"printf('(i) When synchronous motor runs at %.1f pf lag:\n\n', pf1);\n",
"ip_sm=sm*735.5/n1/1000;\n",
"lag1=ip_sm*tan(acos(pf1));\n",
"printf('\t Input to synchronous motor = %.2f kW \n', ip_sm);\n",
"printf('\t Lagging kVAR taken by synchronous motor = %.2f kVAR \n\n', lag1);\n",
"ip_im=im*735.5/n2/1000;\n",
"lag2=ip_im*tan(acos(pf2));\n",
"printf('\t Input to induction motor = %.2f kW \n', ip_im);\n",
"printf('\t Lagging kVAR taken by induction motor = %.2f kVAR \n\n', lag2);\n",
"tlag1=lag1+lag2;\n",
"tap1=ip_im+ip_sm+ll;\n",
"tkva1=sqrt(tlag1^2+tap1^2);\n",
"dc1=tkva1*fc;\n",
"ec1=tap1*8760;\n",
"aec1=ec1*rc;\n",
"tab1=aec1+dc1;\n",
"printf('\t Total lagging kVAR = %.2f kVAR \n', tlag1);\n",
"printf('\t Total active power = %.2f kW \n', tap1);\n",
"printf('\t Total kVA = %.2f kVA \n', tkva1);\n",
"printf('\t Annual kVA demand charges = Rs. %.2f \n', dc1);\n",
"printf('\t Energy consumed per year = %.2f kWh \n', ec1);\n",
"printf('\t Annual energy charges = Rs. %.2f \n', aec1);\n",
"printf('\t Total annual bill = Rs. %.2f \n\n', tab1);\n",
"printf('(ii) When synchronous motor runs at %.1f pf lead:\n\n', pf1);\n",
"net=-lag1+lag2;\n",
"tap2=ip_im+ip_sm+ll;\n",
"tkva2=sqrt(net^2+tap2^2);\n",
"dc2=tkva2*fc;\n",
"ec2=tap2*8760;\n",
"aec2=ec2*rc;\n",
"tab2=aec2+dc2;\n",
"printf('\t Net lagging kVAR = %.2f kVAR \n', net);\n",
"printf('\t Total active power = %.2f kW \n', tap2);\n",
"printf('\t Total kVA = %.2f kVA \n', tkva2);\n",
"printf('\t Annual kVA demand charges = Rs. %.2f \n', dc2);\n",
"printf('\t Energy consumed per year = %.2f kWh \n', ec2);\n",
"printf('\t Annual energy charges = Rs. %.2f \n', aec2);\n",
"printf('\t Total annual bill = Rs. %.2f \n\n', tab2);\n",
"as=tab1-tab2;\n",
"printf('Annual saving = Rs. %.0f \n\n', as);"
   ]
   }
,
{
		   "cell_type": "markdown",
		   "metadata": {},
		   "source": [
			"## Example 6.13: economical_pf_operation.sce"
		   ]
		  },
  {
"cell_type": "code",
	   "execution_count": null,
	   "metadata": {
	    "collapsed": true
	   },
	   "outputs": [],
"source": [
"//Chapter 6\n",
"//Example 6_13\n",
"//Page 118\n",
"clear;clc;\n",
"md=175;\n",
"pf=0.75;\n",
"fc=72;\n",
"pae=120;\n",
"id=0.1;\n",
"x=fc;\n",
"y=pae*id;\n",
"ec_pf=sqrt(1-(y/x)^2);\n",
"printf('MAx demand charges = Rs. %.0f per kVA per annum\n', fc);\n",
"printf('Expenditure on phase advancing equipment = Rs. %.0f /kVAR/annum \n', y);\n",
"printf('Most economical power factor at which factory should operate = %.3f lag \n', ec_pf);"
   ]
   }
,
{
		   "cell_type": "markdown",
		   "metadata": {},
		   "source": [
			"## Example 6.14: annual_saving_6.sce"
		   ]
		  },
  {
"cell_type": "code",
	   "execution_count": null,
	   "metadata": {
	    "collapsed": true
	   },
	   "outputs": [],
"source": [
"//Chapter 6\n",
"//Example 6_14\n",
"//PAge 119\n",
"clear;clc;\n",
"ad=400;\n",
"pf1=0.8;\n",
"lf=0.5;\n",
"fc=50;\n",
"rc=0.05;\n",
"pf2=0.95;\n",
"pae=100;\n",
"id=0.1;\n",
"p=ad/lf;\n",
"printf('Max kW demand = %.0f kW \n\n', p);\n",
"phi1=acos(pf1);\n",
"phi2=acos(pf2);\n",
"lead=p*(tan(phi1)-tan(phi2));\n",
"printf('(i) Leading kVAR taken by the phase advancing equipment = %.2f kVAR \n', lead);\n",
"printf('    Capacity of phase advancing equipment = %.2f kVAR \n\n', lead);\n",
"x=fc;\n",
"y=pae*id;\n",
"max1=p/pf1;\n",
"max2=p/pf2;\n",
"as=fc*(max1-max2);\n",
"aexp=y*lead;\n",
"net=as-aexp;\n",
"printf('(ii) Max demand charges = %.0f kW \n', x);\n",
"printf('     Expenditure on phase advnacing equipement = Rs. %.2f /kVAR/annnum \n', y);\n",
"printf('     Max demand at %.1f pf = %.2f kVA \n', pf1,max1);\n",
"printf('     Max demand at %.1f pf = %.2f kVA \n', pf2,max2);\n",
"printf('     Annual saving in max demand charges = Rs. %.2f \n', as);\n",
"printf('     Annual expenditure in max demand charges = Rs. %.2f \n', aexp);\n",
"printf('     Net Annual saving = Rs. %.2f \n', net);"
   ]
   }
,
{
		   "cell_type": "markdown",
		   "metadata": {},
		   "source": [
			"## Example 6.15: annual_saving_9.sce"
		   ]
		  },
  {
"cell_type": "code",
	   "execution_count": null,
	   "metadata": {
	    "collapsed": true
	   },
	   "outputs": [],
"source": [
"//Chapter 6\n",
"//Example 6_15\n",
"//Page 119\n",
"clear;clc;\n",
"md=50;\n",
"lf=0.5;\n",
"pf=0.75;\n",
"fc=100;\n",
"rc=0.05;\n",
"lfc=600;\n",
"id=0.1;\n",
"x=fc;\n",
"y=id*lfc;\n",
"z=y/x;\n",
"ec_pf=sqrt(1-z^2);\n",
"kwd=md/lf;\n",
"m1=kwd/pf;\n",
"m2=kwd/ec_pf;\n",
"as=fc*(m1-m2);\n",
"printf('Max demand charge = Rs. %.0f/kVA/annum \n', x);\n",
"printf('Expendiutre on capacitors = Rs. %.0f/kVA/annum \n', y);\n",
"printf('Most economical pf = %.2f \n', ec_pf);\n",
"printf('Max kW demand = %.0f kW \n', kwd);\n",
"printf('Max kVA demand at %.2f pf = %.2f kVA \n', pf, m1);\n",
"printf('Max kVA demand at %.2f pf = %.2f kVA \n', ec_pf, m2);\n",
"printf('Annual saving = Rs. %.0f \n', as);"
   ]
   }
,
{
		   "cell_type": "markdown",
		   "metadata": {},
		   "source": [
			"## Example 6.16: annual_bill_3.sce"
		   ]
		  },
  {
"cell_type": "code",
	   "execution_count": null,
	   "metadata": {
	    "collapsed": true
	   },
	   "outputs": [],
"source": [
"//Chapter 6\n",
"//Example 6_16\n",
"//Page 120\n",
"clear;clc;\n",
"p=200;\n",
"pf=0.8;\n",
"fc=100;\n",
"rc=0.05;\n",
"pae=500;\n",
"id=0.1;\n",
"h=5000;\n",
"x=fc;\n",
"y=pae*id;\n",
"ec_pf=sqrt(1-(y/x)^2);\n",
"cap=p*(tan(acos(pf))-tan(acos(ec_pf)));\n",
"uc=h*p;\n",
"ec=uc*rc;\n",
"cpae=y*cap;\n",
"dc=x*p/ec_pf;\n",
"ab=ec+cpae+dc;\n",
"printf('Max demand charges = %.0f kW \n', x);\n",
"printf('Expenditure on phase advnacing equipement = Rs. %.2f /kVAR/annnum \n\n', y);\n",
"printf('(i) Most economical power factor at which factory should operate = %.3f lag \n\n', ec_pf);\n",
"printf('(ii)Capacity of phase advancing equipment = %.2f kVAR \n\n', cap);\n",
"printf('(iii) Units consumed per year = %.0f kWh \n', uc);\n",
"printf('Annual energy charges = Rs. %.0f \n', ec);\n",
"printf('Annual cost of phase advancing equipment = Rs. %.0f \n', cpae);\n",
"printf('Max demand charges = Rs. %.0f \n', dc);\n",
"printf('Annual bill for energy = Rs. %.0f \n', ab);"
   ]
   }
,
{
		   "cell_type": "markdown",
		   "metadata": {},
		   "source": [
			"## Example 6.17: annual_saving_8.sce"
		   ]
		  },
  {
"cell_type": "code",
	   "execution_count": null,
	   "metadata": {
	    "collapsed": true
	   },
	   "outputs": [],
"source": [
"//Chapter 6\n",
"//Example 6_17\n",
"//Page 120\n",
"clear;clc;\n",
"u=80000;\n",
"md=500;\n",
"pf1=0.707;\n",
"fc=120;\n",
"rc=0.025;\n",
"pae=50;\n",
"pf2=0.9;\n",
"id=0.1;\n",
"printf('Energy consumed per year = %.0f kWh\n', u);\n",
"printf('Max kVA demand = %.0f \n', md);\n",
"ac=md*fc+rc*u;\n",
"printf('Annual cost of supply = Rs. %.0f \n',ac);\n",
"m1=md*pf1;\n",
"p=m1;\n",
"printf('Max kW demand at %.3f pf = %.2f \n', pf1, m1);\n",
"lead=p*(tan(acos(pf1))-tan(acos(pf2)));\n",
"printf('Leading kVAR taken by phase advancing equipment = %.1f kVAR \n', lead);\n",
"cpae=pae*id*lead;\n",
"printf('Annual cost of phase advancing equipment = Rs. %.0f \n', cpae);\n",
"m2=p/pf2;\n",
"printf('Max kW demand at %.3f pf = %.2f \n', pf2, m2);\n",
"red=md-m2;\n",
"printf('Reduction in kVA demand = %.1f \n', red);\n",
"as=fc*red;\n",
"printf('Annual saving in kVA charges = Rs. %.0f \n', as);\n",
"printf('Annual saving = Rs. %.0f \n', as-cpae);"
   ]
   }
,
{
		   "cell_type": "markdown",
		   "metadata": {},
		   "source": [
			"## Example 6.18: pfc_equipment.sce"
		   ]
		  },
  {
"cell_type": "code",
	   "execution_count": null,
	   "metadata": {
	    "collapsed": true
	   },
	   "outputs": [],
"source": [
"//Chapter 6\n",
"//Example 6_18\n",
"//Page 123\n",
"clear;clc;\n",
"pf1=0.7;\n",
"pf2=0.85;\n",
"add_cost=800;\n",
"//Referring to figure 6.15, \n",
"//The initial capacity of the plant is OB kVA at pf = pf1\n",
"a1=pf2/pf1;\n",
"BD=a1-1;\n",
"tc=BD*add_cost;\n",
"phi1=(acosd(pf1));\n",
"phi2=(acosd(pf2));\n",
"lead=a1*sind(phi1)-sind(phi2);\n",
"cost=tc/lead;\n",
"disp('COST OF INCREASING PLANT CAPACITY: ');\n",
"printf('The initial capacity of the plant is OB kVA at pf = pf1 \n\n');\n",
"printf('The increase in kVA capacity of the plant = %.4f*OB \n\n', BD);\n",
"printf('Total cost of increasing the plant capacity = Rs. %.2f*OB \n\n', tc);\n",
"disp('COST OF POWER FACTOR CORRECTION EQUIPMENT: ');\n",
"printf('Leading kVAR taken by p.f correction equipment = %.2f*OB \n\n', lead);\n",
"printf('Let the cost per kVAR of the equipment be Rs. y \n\n');\n",
"printf('Total cost of p.f correction equipment = Rs. %.2f*y*OB \n\n', lead);\n",
"printf('Equating the total cost, y = Rs. %.1f \n\n', cost);"
   ]
   }
,
{
		   "cell_type": "markdown",
		   "metadata": {},
		   "source": [
			"## Example 6.19: phase_advancers.sce"
		   ]
		  },
  {
"cell_type": "code",
	   "execution_count": null,
	   "metadata": {
	    "collapsed": true
	   },
	   "outputs": [],
"source": [
"//Chapter 6\n",
"//Example 6_19\n",
"//Page 124\n",
"clear;clc;\n",
"pf1=0.7;\n",
"pf2=0.866;\n",
"tc=100;\n",
"id=0.1;\n",
"//Referring to phasor diagram of figure 6.16,\n",
"a1=pf2/pf1;\n",
"BD=a1-1;\n",
"ac=BD*10;\n",
"phi1=(acosd(pf1));\n",
"phi2=(acosd(pf2));\n",
"lead=a1*sind(phi1)-sind(phi2);\n",
"pae_cost=lead*id;\n",
"cost=ac/pae_cost;\n",
"disp('COST OF INCREASING PLANT CAPACITY: ');\n",
"printf('The increase in kVA capacity of the plant = %.4f*OB \n\n', BD);\n",
"printf('Total cost of increasing the plant capacity = Rs. %.2f*OB \n\n', ac);\n",
"disp('COST OF PHASE ADVANCING EQUIPMENT: ');\n",
"printf('Leading kVAR taken by p.f correction equipment = %.3f*OB \n\n', lead);\n",
"printf('Let the cost per kVAR of the equipment be Rs. y \n\n');\n",
"printf('Annual cost of phase advancing equipment = Rs. %.3f*y*OB \n\n', pae_cost);\n",
"printf('Equating the total costs for economy, y = Rs. %.2f \n\n', cost);"
   ]
   }
,
{
		   "cell_type": "markdown",
		   "metadata": {},
		   "source": [
			"## Example 6.1: extra_power_supplied.sce"
		   ]
		  },
  {
"cell_type": "code",
	   "execution_count": null,
	   "metadata": {
	    "collapsed": true
	   },
	   "outputs": [],
"source": [
"//Chapter 6\n",
"//Example 6_1\n",
"//Page 109\n",
"clear;clc;\n",
"kw=300;\n",
"pf=0.6;\n",
"kva=kw/pf;\n",
"p=kva-kw;\n",
"printf('kVA = %0.f kW \n\n', kva);\n",
"printf('Increased power supplied by the alternator = %0.f kW \n\n', p);"
   ]
   }
,
{
		   "cell_type": "markdown",
		   "metadata": {},
		   "source": [
			"## Example 6.2: capacitance_in_parallel.sce"
		   ]
		  },
  {
"cell_type": "code",
	   "execution_count": null,
	   "metadata": {
	    "collapsed": true
	   },
	   "outputs": [],
"source": [
"//Chapter 6\n",
"//Example 6_2\n",
"//Page 109\n",
"clear;clc;\n",
"v=400;\n",
"f=50;\n",
"im=31.7;\n",
"pf1=0.7;\n",
"pf2=0.9;\n",
"acim=im*pf1;\n",
"i=acim/pf2;\n",
"rcim=im*sin(acos(pf1));\n",
"rci=i*sin(acos(pf2));\n",
"ic=rcim-rci;\n",
"c=ic/v/(2*%pi*f);\n",
"printf('Active component of Im = %.2f A \n\n', acim);\n",
"printf('Active component of I = %.1f*I A \n\n', pf2);\n",
"printf('Reactive component of Im = %.2f A \n\n', rcim);\n",
"printf('Reactive component of I = %.2f A \n\n', rci);\n",
"printf('Current through capacitor = %.2f A \n\n', ic);\n",
"printf('C = %.2f uF \n\n', c*1e6);"
   ]
   }
,
{
		   "cell_type": "markdown",
		   "metadata": {},
		   "source": [
			"## Example 6.3: kw_kva_and_pf.sce"
		   ]
		  },
  {
"cell_type": "code",
	   "execution_count": null,
	   "metadata": {
	    "collapsed": true
	   },
	   "outputs": [],
"source": [
"//Chapter 6\n",
"//Example 6_3\n",
"//Page 110\n",
"clear;clc;\n",
"kw=[20 100 50];\n",
"pf=[1 -0.707 0.9];\n",
"tkvar=0;\n",
"for i=1:3\n",
"  kva(i)=abs(kw(i)/pf(i));\n",
"  printf('kVA %i = %.2f kVA \n', i,kva(i));\n",
"  kvar(i)=kva(i)*sin(acos(pf(i)));\n",
"  printf('kVAR %i = %.2f kVAR \n', i,kvar(i));\n",
"end;\n",
"tkvar=kvar(1)+kvar(2)+kvar(3);\n",
"tkva=sqrt(sum(kw)^2+(tkvar)^2);\n",
"printf('Total kW = %.2f kW \n', sum(kw));\n",
"printf('Total kVAR = %.2f kVAR \n', tkvar);\n",
"printf('Total kVA = %.2f kVA \n', tkva);\n",
"printf('Power factor = %.2f lagging\n', sum(kw)/tkva);\n",
"  \n",
"      "
   ]
   }
,
{
		   "cell_type": "markdown",
		   "metadata": {},
		   "source": [
			"## Example 6.4: rating_of_capacitors.sce"
		   ]
		  },
  {
"cell_type": "code",
	   "execution_count": null,
	   "metadata": {
	    "collapsed": true
	   },
	   "outputs": [],
"source": [
"//Chapter 6\n",
"//Example 6_4\n",
"//Page 111\n",
"clear;clc;\n",
"p=5;\n",
"pf1=0.75;\n",
"pf2=0.9;\n",
"phi1=acos(pf1);\n",
"phi2=acos(pf2);\n",
"lead_kvar=p*(tan(phi1)-tan(phi2));\n",
"c=lead_kvar/3;\n",
"printf('Leading kVAR taken by condensor bank = %.2f kVAR \n\n', lead_kvar);\n",
"printf('Rating of capacitors connected in phase = %.3f kVAR \n\n',c);"
   ]
   }
,
{
		   "cell_type": "markdown",
		   "metadata": {},
		   "source": [
			"## Example 6.5: capacitance_of_each_capacitor.sce"
		   ]
		  },
  {
"cell_type": "code",
	   "execution_count": null,
	   "metadata": {
	    "collapsed": true
	   },
	   "outputs": [],
"source": [
"//Chapter 6\n",
"//Example 6_5\n",
"//Page 111\n",
"clear;clc;\n",
"f=50;\n",
"v=400;\n",
"op=74.6;\n",
"pf1=0.75;\n",
"n=0.93;\n",
"pf2=0.95;\n",
"nc=4;\n",
"vc=100;\n",
"p=op/n;\n",
"phi1=acos(pf1);\n",
"phi2=acos(pf2);\n",
"lead=p*(tan(phi1)-tan(phi2));\n",
"lead_each=lead/3;\n",
"icp=2*%pi*f*v;\n",
"kvar=v*icp/1000;\n",
"c=lead_each/kvar;\n",
"c_each=c*nc;\n",
"printf('Leading kVAR taken by the condensor bank = %.2f kVAR \n\n', lead);\n",
"printf('Leading kVAR taken by the each of the three sets = %.2f kVAR \n\n', lead_each);\n",
"printf('Phase current of each capacitor is = %.2f*C A \n\n', icp);\n",
"printf('kVAR/phase = %.2f*C \n\n', kvar);\n",
"printf('C = %.2f uF \n\n', c*1e6);\n",
"printf('Capacitance of each capacitor is = %.2f uF \n\n', c_each*1e6);"
   ]
   }
,
{
		   "cell_type": "markdown",
		   "metadata": {},
		   "source": [
			"## Example 6.6: annual_saving_2.sce"
		   ]
		  },
  {
"cell_type": "code",
	   "execution_count": null,
	   "metadata": {
	    "collapsed": true
	   },
	   "outputs": [],
"source": [
"//Chapter 6\n",
"//Example 6_6\n",
"//Page 112\n",
"clear;clc;\n",
"p=800;\n",
"pf1=0.8;\n",
"pf2=0.9;\n",
"h=3000;\n",
"fc=100;\n",
"rc=0.2;\n",
"cap=60;\n",
"id=0.1;\n",
"phi1=acos(pf1);\n",
"phi2=acos(pf2);\n",
"lead=p*(tan(phi1)-tan(phi2));\n",
"printf('Leading kVAR taken by the capacitors = %.2f \n\n', lead);\n",
"printf('Annual cost before pf correction\n');\n",
"md1=p/pf1;\n",
"kva1=fc*md1;\n",
"uc1=p*h;\n",
"ec1=rc*uc1;\n",
"tac1=kva1+ec1;\n",
"printf('Max kVA demand = %.2f \n', md1);\n",
"printf('kVA demand charges = Rs. %.0f \n', kva1);\n",
"printf('Units consumed per year = %.0f kWh \n', uc1);\n",
"printf('Energy charges per year = Rs. %.0f \n', ec1);\n",
"printf('Total annual cost = Rs. %.0f \n\n', tac1);\n",
"printf('Annual cost after pf correction\n');\n",
"md2=p/pf2;\n",
"kva2=fc*md2;\n",
"ec2=rc*uc1;\n",
"cc=cap*lead;\n",
"aid=id*cc;\n",
"tac2=kva2+ec2+aid;\n",
"printf('Max kVA demand = %.2f \n', md2);\n",
"printf('kVA demand charges = Rs. %.0f \n', kva2);\n",
"printf('Energy charges per year = Rs. %.0f \n', ec2);\n",
"printf('Capital cost of capacitors = Rs. %.0f \n', cc);\n",
"printf('Annual interest and depreciation = Rs. %.0f \n', aid);\n",
"printf('Total annual cost = Rs. %.0f \n\n', tac2);\n",
"as=tac1-tac2;\n",
"printf('Annual saving = Rs. %.0f \n', as);"
   ]
   }
,
{
		   "cell_type": "markdown",
		   "metadata": {},
		   "source": [
			"## Example 6.7: annual_saving_3.sce"
		   ]
		  },
  {
"cell_type": "code",
	   "execution_count": null,
	   "metadata": {
	    "collapsed": true
	   },
	   "outputs": [],
"source": [
"//Chapter 6\n",
"//Example 6_7\n",
"//PAge 112\n",
"clear;clc;\n",
"p1=200;\n",
"pf1=0.85;\n",
"pf2=0.9;\n",
"h=2500;\n",
"fc=150;\n",
"rc=0.05;\n",
"cap=420;\n",
"loss=100;\n",
"id=0.1;\n",
"phi1=acos(pf1);\n",
"phi2=acos(pf2);\n",
"ini=p1*tan(phi1);\n",
"x=(ini-p1*tan(phi2))/(1+0.1*tan(phi2));\n",
"printf('Lead kVAR taken by tha capacitor is = %.2f kVAR \n\n', x);\n",
"printf('Annual cost before pf correction\n');\n",
"md1=p1/pf1;\n",
"kva1=fc*md1;\n",
"uc1=p1*h;\n",
"ec1=rc*uc1;\n",
"tac1=kva1+ec1;\n",
"printf('Max kVA demand = %.2f \n', md1);\n",
"printf('kVA demand charges = Rs. %.0f \n', kva1);\n",
"printf('Units consumed per year = %.0f kWh \n', uc1);\n",
"printf('Energy charges per year = Rs. %.0f \n', ec1);\n",
"printf('Total annual cost = Rs. %.0f \n\n', tac1);\n",
"printf('Annual cost after pf correction\n');\n",
"md2=p1/pf2;\n",
"kva2=fc*md2;\n",
"ec2=rc*uc1;\n",
"aid=x*cap*id;\n",
"cap_loss=0.1*x*h;\n",
"al=cap_loss*rc;\n",
"tac2=kva2+ec2+aid+al;\n",
"printf('Max kVA demand = %.2f \n', md2);\n",
"printf('kVA demand charges = Rs. %.0f \n', kva2);\n",
"printf('Energy charges per year = Rs. %.0f \n', ec2);\n",
"printf('Annual interest and depreciation = Rs. %.0f \n', aid);\n",
"printf('Annual energy loss in capacitors = %.0f kWh \n', cap_loss);\n",
"printf('Annual cost of losses occuring in capacitors = Rs. %.0f \n', al);\n",
"printf('Total annual cost = Rs. %.0f \n\n', tac2);\n",
"as=tac1-tac2;\n",
"printf('Annual saving = Rs. %.0f \n', as);"
   ]
   }
,
{
		   "cell_type": "markdown",
		   "metadata": {},
		   "source": [
			"## Example 6.8: net_annual_saving.sce"
		   ]
		  },
  {
"cell_type": "code",
	   "execution_count": null,
	   "metadata": {
	    "collapsed": true
	   },
	   "outputs": [],
"source": [
"//Chapter 6\n",
"//Example 6_8\n",
"//PAge 113\n",
"clear;clc;\n",
"md=750;\n",
"pf=0.8;\n",
"nc=250;\n",
"pr=8.5;\n",
"ic=20000;\n",
"fc=0.1;\n",
"phi=acos(pf);\n",
"ac=md*pf;\n",
"rc=md*sin(phi);\n",
"lead=rc-nc;\n",
"kva=sqrt(ac^2+lead^2);\n",
"red=md-kva;\n",
"m_saving=pr*red;\n",
"y_saving=m_saving*12;\n",
"fc_year=fc*ic;\n",
"net=y_saving-fc_year;\n",
"printf('Monthly demand = %.0f kVA \n', md);\n",
"printf('kW component of demand = %.0f \n', ac);\n",
"printf('kVA component of demand = %.0f \n', rc);\n",
"printf('Lead kVA = %.0f kVA \n', lead);\n",
"printf('kVA after improvement = %.2f kVA \n', kva);\n",
"printf('Reduction in kVA = %.2f kVA \n', red);\n",
"printf('Monthly saving on kVA charges = Rs. %.2f \n', m_saving);\n",
"printf('Yearly saving on kVA charges = Rs. %.2f \n', y_saving);\n",
"printf('Fixed charges per year = Rs. %.0f \n', fc_year);\n",
"printf('Net annual saving = Rs. %.0f \n\n', net);"
   ]
   }
,
{
		   "cell_type": "markdown",
		   "metadata": {},
		   "source": [
			"## Example 6.9: motor_power_factor.sce"
		   ]
		  },
  {
"cell_type": "code",
	   "execution_count": null,
	   "metadata": {
	    "collapsed": true
	   },
	   "outputs": [],
"source": [
"//Chapter 6\n",
"//Example 6_9\n",
"//Page 113\n",
"clear;clc;\n",
"p1=200;\n",
"p2=80;\n",
"pf1=0.8;\n",
"pf2=0.9;\n",
"p=p1+p2;\n",
"phi1=acos(pf1);\n",
"phi2=acos(pf2);\n",
"//From the figure given,\n",
"lead=p1*tan(phi1)-p*tan(phi2);\n",
"kva_rating=sqrt(p2^2+lead^2);\n",
"pf=p2/kva_rating;\n",
"printf('Combined load = %.0f kW \n\n', p);\n",
"printf('(i) Leading kVAR taken by the motor = %.2f kVAR \n\n', lead);\n",
"printf('(ii) kVA rating of the motor = %.2f kVA \n\n', kva_rating);\n",
"printf('(iii) pf of the motor = %.2f \n\n', pf);"
   ]
   }
],
"metadata": {
		  "kernelspec": {
		   "display_name": "Scilab",
		   "language": "scilab",
		   "name": "scilab"
		  },
		  "language_info": {
		   "file_extension": ".sce",
		   "help_links": [
			{
			 "text": "MetaKernel Magics",
			 "url": "https://github.com/calysto/metakernel/blob/master/metakernel/magics/README.md"
			}
		   ],
		   "mimetype": "text/x-octave",
		   "name": "scilab",
		   "version": "0.7.1"
		  }
		 },
		 "nbformat": 4,
		 "nbformat_minor": 0
}
