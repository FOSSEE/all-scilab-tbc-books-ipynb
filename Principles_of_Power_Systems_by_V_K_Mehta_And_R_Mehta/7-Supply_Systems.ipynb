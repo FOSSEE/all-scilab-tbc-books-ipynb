{
"cells": [
 {
		   "cell_type": "markdown",
	   "metadata": {},
	   "source": [
       "# Chapter 7: Supply Systems"
	   ]
	},
{
		   "cell_type": "markdown",
		   "metadata": {},
		   "source": [
			"## Example 7.10: area_of_conductor_4.sce"
		   ]
		  },
  {
"cell_type": "code",
	   "execution_count": null,
	   "metadata": {
	    "collapsed": true
	   },
	   "outputs": [],
"source": [
"//Chapter 7\n",
"//Example 7_10\n",
"//Page 154\n",
"clear;clc;\n",
"h=[6 12 6];\n",
"mw=[20 5 6];\n",
"pf=[0.8 0.8 0.8];\n",
"days=365;\n",
"kv=110;\n",
"cc=6000;\n",
"id=0.1;\n",
"cost=6;\n",
"ra=0.176;\n",
"v=kv*1000;\n",
"printf('Resistance of one conductor = %.3f/a ohm \n\n', ra);\n",
"printf('Line voltage = %d V \n\n', v);\n",
"sum_i=0;\n",
"for i=1:3\n",
"  I(i)=mw(i)*1e6/sqrt(3)/v/pf(i);\n",
"  printf('Current at %d MW = %.2f A \n\n', mw(i), I(i));\n",
"  sum_i=sum_i+I(i)^2*h(i);\n",
"end\n",
"e=3*ra*sum_i/1000;\n",
"loss=e*days;\n",
"ac=cost*loss/100;\n",
"vac=id*cc;\n",
"a=sqrt(ac/vac);\n",
"printf('Energy lost per day in  three phase line = %.2f/a kWh \n\n', e);\n",
"printf('Energy lost per annum = %.2f/a kWh \n\n', loss);\n",
"printf('Annual cost of energy lost = Rs. %.2f/a \n\n', ac);\n",
"printf('Variable annual charge = Rs. %d*a \n\n', vac);\n",
"printf('Area of cross section = %.2f cm^2 \n\n', a);"
   ]
   }
,
{
		   "cell_type": "markdown",
		   "metadata": {},
		   "source": [
			"## Example 7.1: saving_in_feeder_copper.sce"
		   ]
		  },
  {
"cell_type": "code",
	   "execution_count": null,
	   "metadata": {
	    "collapsed": true
	   },
	   "outputs": [],
"source": [
"//Chapter 7\n",
"//Example 7_1\n",
"//Page 145\n",
"clear;clc;\n",
"v1=200;\n",
"v2=400;\n",
"//ratio of two voltages r is\n",
"r=v1/v2;\n",
"v2_by_v1=1/(2/r);\n",
"//In the above relation 'v' is volume\n",
"saving=(1-v2_by_v1)*100;\n",
"printf('%% saving in feeder copper = %d %% \n\n', saving);"
   ]
   }
,
{
		   "cell_type": "markdown",
		   "metadata": {},
		   "source": [
			"## Example 7.4: additional_load.sce"
		   ]
		  },
  {
"cell_type": "code",
	   "execution_count": null,
	   "metadata": {
	    "collapsed": true
	   },
	   "outputs": [],
"source": [
"//Chapter 7\n",
"//Example 7_4\n",
"//Page 149\n",
"clear;clc;\n",
"p1=200;\n",
"//The inference from the derivation is that power supplied by 3-phase , 3-wire a.c. system is twice the power supplied by single phase 2 wire system\n",
"p2=2*p1;\n",
"printf('Power supplied by 3-phase, 3-wire a.c. system is = %d kW \n\n', p2);\n",
"per=(p2-p1)/p1*100;\n",
"printf('Thus three phase three wire system can supply %d %% additional load \n\n', per);"
   ]
   }
,
{
		   "cell_type": "markdown",
		   "metadata": {},
		   "source": [
			"## Example 7.5: conductor_volume_comparision.sce"
		   ]
		  },
  {
"cell_type": "code",
	   "execution_count": null,
	   "metadata": {
	    "collapsed": true
	   },
	   "outputs": [],
"source": [
"//Chapter 7\n",
"//Example 7_5\n",
"//Page 149\n",
"clear;clc;\n",
"l=50;\n",
"mva=5;\n",
"pf=0.8;\n",
"kv=33;\n",
"n=0.9;\n",
"sr=2.85*1e-8;\n",
"p=mva*1e6*pf;\n",
"w=0.1*p;\n",
"//Single phase 2-wire system\n",
"i1=mva*1e6/kv/1000;\n",
"area1=2*sr*i1^2*l*1000/w;\n",
"vol1=2*area1*l*1000;\n",
"//3-phase 3-wire system\n",
"i2=mva*1e6/sqrt(3)/kv/1000;\n",
"area2=3*i2^2*sr*l*1000/w;\n",
"vol2=3*area2*l*1000;\n",
"printf('(I) SINGLE PHASE, 2-WIRE SYSTEM: \n');\n",
"printf('Line current = %.1f A \n', i1);\n",
"printf('Area of cross section = %.3f*10^-4 m^2 \n', area1*1e4);\n",
"printf('Volume of conductor required = %.2f m^3 \n\n', vol1);\n",
"printf('(II) 3-PHASE, 3-WIRE SYSTEM: \n');\n",
"printf('Line current = %.1f A \n', i2);\n",
"printf('Area of cross section = %.3f*10^-4 m^2 \n', area2*1e4);\n",
"printf('Volume of conductor required = %.2f m^3 \n\n', vol2);"
   ]
   }
,
{
		   "cell_type": "markdown",
		   "metadata": {},
		   "source": [
			"## Example 7.6: voltages_in_DC_2wire_system.sce"
		   ]
		  },
  {
"cell_type": "code",
	   "execution_count": null,
	   "metadata": {
	    "collapsed": true
	   },
	   "outputs": [],
"source": [
"//Chapter 7\n",
"//Example 7_6\n",
"//Page 149\n",
"clear;clc;\n",
"kv=11;\n",
"pf=0.8;\n",
"r=0.15;\n",
"vd=0.15;\n",
"tr=0.05;\n",
"avd=0.25;\n",
"//single phase system\n",
"volt_drop=vd*kv*1000;\n",
"i1=volt_drop/r;\n",
"p1=i1*kv*1000*pf/1000;\n",
"//DC two wire system\n",
"v=sqrt((p1*1000*tr)/avd);\n",
"printf('SINGLE PHASE SYSTEM: \n');\n",
"printf('Voltage drop = %.2f*I1 V \n', vd);\n",
"printf('Also voltage drop = %d V \n', volt_drop);\n",
"printf('Load current = I1 = %d A \n', i1);\n",
"printf('Power recieved by consumer = %.2f*10^4 kW \n\n', p1*1e-4);\n",
"printf('DC TWO WIRE SYSTEM: \n');\n",
"printf('Load current = I2 = %d/V A \n', p1*1000);\n",
"printf('Voltage drop = %.2f*%.3f/V \n', p1*1000, tr);\n",
"printf('Allowable voltage drop = %.2f V \n', avd);\n",
"printf('V = %d V \n\n', v);"
   ]
   }
,
{
		   "cell_type": "markdown",
		   "metadata": {},
		   "source": [
			"## Example 7.7: area_of_conductor_1.sce"
		   ]
		  },
  {
"cell_type": "code",
	   "execution_count": null,
	   "metadata": {
	    "collapsed": true
	   },
	   "outputs": [],
"source": [
"//Chapter 7\n",
"//Example 7_7\n",
"//Page 153\n",
"clear;clc;\n",
"l=1;\n",
"i=200;\n",
"//cost = (20*a + 20)\n",
"cost=5;\n",
"id=0.1;\n",
"p=1.73*1e-6;\n",
"ra=p*l*1e5;\n",
"e=2*i^2*ra*8760/1000;\n",
"ac=cost*e/100;\n",
"cc=20*1000;\n",
"vac=id*cc;\n",
"a=sqrt(ac/vac);\n",
"printf('Resistance of one conductor = %.3f/a ohm \n\n', ra);\n",
"printf('Energy lost per annum = %.1f/a kWh \n\n', e);\n",
"printf('Annual cost of energy lost = Rs. %d/a \n\n', ac);\n",
"printf('Capital cost is given to be Rs.20*a per metre. Threfore for 1km cable = Rs. %d*a \n\n', cc);\n",
"printf('Variable annual charge = Rs. %d*a \n\n', vac);\n",
"printf('Area of cross section = %.2f cm^2 \n\n', a);"
   ]
   }
,
{
		   "cell_type": "markdown",
		   "metadata": {},
		   "source": [
			"## Example 7.8: area_of_conductor_2.sce"
		   ]
		  },
  {
"cell_type": "code",
	   "execution_count": null,
	   "metadata": {
	    "collapsed": true
	   },
	   "outputs": [],
"source": [
"//Chapter 7\n",
"//Example 7_8\n",
"//Page 153\n",
"clear;clc;\n",
"mw=5;\n",
"kv=33;\n",
"pf=0.8;\n",
"cost=4;\n",
"id=0.1;\n",
"p=1e-6;\n",
"//cost = Rs (25000*a + 2500)\n",
"ra=p*1e5;\n",
"i=mw*1e6/sqrt(3)/kv/1000/pf;\n",
"e=3*i^2*ra*8760/1000;\n",
"ac=cost*e/100;\n",
"cc=25000;\n",
"vac=id*cc;\n",
"a=sqrt(ac/vac);\n",
"printf('Resistance of one conductor = %.3f/a ohm \n\n', ra);\n",
"printf('Line current = %.2f A \n\n', i);\n",
"printf('Energy lost per annum = %.1f/a kWh \n\n', e);\n",
"printf('Annual cost of energy lost = Rs. %d/a \n\n', ac);\n",
"printf('Capital cost is given to be Rs.20*a per metre. Threfore for 1km cable = Rs. %d*a \n\n', cc);\n",
"printf('Variable annual charge = Rs. %d*a \n\n', vac);\n",
"printf('Area of cross section = %.2f cm^2 \n\n', a);"
   ]
   }
,
{
		   "cell_type": "markdown",
		   "metadata": {},
		   "source": [
			"## Example 7.9: area_of_conductor_3.sce"
		   ]
		  },
  {
"cell_type": "code",
	   "execution_count": null,
	   "metadata": {
	    "collapsed": true
	   },
	   "outputs": [],
"source": [
"//Chapter 7\n",
"//Example 7_9\n",
"//Page 154\n",
"clear;clc;\n",
"i=250;\n",
"cc=5;\n",
"id=0.1;\n",
"cost=5;\n",
"d=8.93;\n",
"p=1.73*1e-8;\n",
"l=1;\n",
"ra=p*l;\n",
"e=2*i^2*ra*8760/1000;\n",
"ac=cost*e/100;\n",
"mass=2*d*l*1000;\n",
"cc=cc*mass;\n",
"vac=id*cc;\n",
"a=sqrt(ac/vac);\n",
"printf('Resistance of one conductor = %.3f*10^-8/a ohm \n\n', ra*1e8);\n",
"printf('Line current = %.2f A \n\n', i);\n",
"printf('Energy lost per annum = %d*10^-8/a kWh \n\n', e*1e8);\n",
"printf('Annual cost of energy lost = Rs. %d*10^-8/a \n\n', ac*1e8);\n",
"printf('Mass of 1m feeder = %.2f*10^3*a \n\n', mass*1e-3);\n",
"printf('Capital cost is given to be Rs.20*a per metre. Threfore for 1km cable = Rs. %d*a \n\n', cc);\n",
"printf('Variable annual charge = Rs. %d*a \n\n', vac);\n",
"printf('Area of cross section = %.2f*10^-4 m^2 \n\n', a*1e4);"
   ]
   }
],
"metadata": {
		  "kernelspec": {
		   "display_name": "Scilab",
		   "language": "scilab",
		   "name": "scilab"
		  },
		  "language_info": {
		   "file_extension": ".sce",
		   "help_links": [
			{
			 "text": "MetaKernel Magics",
			 "url": "https://github.com/calysto/metakernel/blob/master/metakernel/magics/README.md"
			}
		   ],
		   "mimetype": "text/x-octave",
		   "name": "scilab",
		   "version": "0.7.1"
		  }
		 },
		 "nbformat": 4,
		 "nbformat_minor": 0
}
