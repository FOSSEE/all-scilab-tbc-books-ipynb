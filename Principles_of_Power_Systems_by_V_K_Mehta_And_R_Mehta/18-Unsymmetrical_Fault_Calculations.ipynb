{
"cells": [
 {
		   "cell_type": "markdown",
	   "metadata": {},
	   "source": [
       "# Chapter 18: Unsymmetrical Fault Calculations"
	   ]
	},
{
		   "cell_type": "markdown",
		   "metadata": {},
		   "source": [
			"## Example 18.10: resistor_and_line_currents.sce"
		   ]
		  },
  {
"cell_type": "code",
	   "execution_count": null,
	   "metadata": {
	    "collapsed": true
	   },
	   "outputs": [],
"source": [
"//Chapter 18\n",
"//Example 18_10\n",
"//Page 435\n",
"clear;clc;\n",
"a=1*(cosd(120)+%i*sind(120));\n",
"rr=5;\n",
"ry=10;\n",
"rb=20;\n",
"Er=-100*(cosd(0)+%i*sind(0));\n",
"Ey=100*(cosd(60)+%i*sind(60));\n",
"Eb=100*(cosd(-60)+%i*sind(-60));\n",
"Ir=Er/rr;\n",
"Iy=Ey/ry;\n",
"Ib=Eb/rb;\n",
"printf('Er = %.2f /_%.2f V \n', Er, atand(imag(Er)/real(Er)));\n",
"printf('Ey = %.2f /_%.2f V \n', abs(Ey), atand(imag(Ey)/real(Ey)));\n",
"printf('Eb = %.2f /_%.2f V \n\n', abs(Eb), atand(imag(Eb)/real(Eb)));\n",
"  \n",
"printf('Ir = %.2f /_%.2f A \n', Ir, atand(imag(Ir)/real(Ir)));\n",
"printf('Iy = %.2f /_%.2f A \n', abs(Iy), atand(imag(Iy)/real(Iy)));\n",
"printf('Ib = %.2f /_%.2f A \n\n', abs(Ib), atand(imag(Ib)/real(Ib)));\n",
"disp('SEQUENCE CURRENTS IN RESISTORS: ');\n",
"Ir0=1/3*(Ir+Iy+Ib);\n",
"Ir1=1/3*(Ir+a*Iy+a^2*Ib);\n",
"Ir2=1/3*(Ir+a^2*Iy+a*Ib);\n",
"Iy0=Ir0;\n",
"Iy1=a^2*Ir1;\n",
"Iy2=a*Ir2;\n",
"Ib0=Ir0;\n",
"Ib1=a*Ir1;\n",
"Ib2=a^2*Ir2;\n",
"printf('Ir0 = %.2f /_%.2f A \n', abs(Ir0), atand(imag(Ir0)/real(Ir0))+180);\n",
"printf('Ir1 = %.2f /_%.2f A \n', abs(Ir1), atand(imag(Ir1)/real(Ir1))+180);\n",
"printf('Ir2 = %.2f /_%.2f A \n\n', abs(Ir2), atand(imag(Ir2)/real(Ir2))-180);\n",
"printf('Iy0 = %.2f /_%.2f A \n', abs(Iy0), atand(imag(Iy0)/real(Iy0))+180);\n",
"printf('Iy1 = %.2f /_%.2f A \n', abs(Iy1), atand(imag(Iy1)/real(Iy1)));\n",
"printf('Iy2 = %.2f /_%.2f A \n\n', abs(Iy2), atand(imag(Iy2)/real(Iy2)));\n",
"printf('Ib0 = %.2f /_%.2f A \n', abs(Ib0), atand(imag(Ib0)/real(Ib0))+180);\n",
"printf('Ib1 = %.2f /_%.2f A \n', abs(Ib1), atand(imag(Ib1)/real(Ib1)));\n",
"printf('Ib2 = %.2f /_%.2f A \n\n', abs(Ib2), atand(imag(Ib2)/real(Ib2)));\n",
"disp('SEQUENCE CURRENTS IN SUPPLY LINES: ');\n",
"ir=Ib-Iy;\n",
"iy=Ir-Ib;\n",
"ib=Iy-Ir;\n",
"ir0=1/3*(ir+iy+ib);\n",
"ir1=1/3*(ir+a*iy+a^2*ib);\n",
"ir2=1/3*(ir+a^2*iy+a*ib);\n",
"  \n",
"printf('Line current in R-line = Ir = %.2f /_%.2f A \n', abs(ir), atand(imag(ir)/real(ir))-180);\n",
"printf('Line current in Y-line = Iy = %.2f /_%.2f A \n', abs(iy), atand(imag(iy)/real(iy))+180);\n",
"printf('Line current in B-line = Ib = %.2f /_%.2f A \n\n', abs(ib), atand(imag(ib)/real(ib)));\n",
"printf('Ir0 = %d A \n', abs(ir0));\n",
"printf('Ir1 = %.2f /_%.2f A \n', abs(ir1), atand(imag(ir1)/real(ir1))-180);\n",
"printf('Ir2 = %.2f /_%.2f A \n\n', abs(ir2), atand(imag(ir2)/real(ir2))+180);"
   ]
   }
,
{
		   "cell_type": "markdown",
		   "metadata": {},
		   "source": [
			"## Example 18.11: current_calculations.sce"
		   ]
		  },
  {
"cell_type": "code",
	   "execution_count": null,
	   "metadata": {
	    "collapsed": true
	   },
	   "outputs": [],
"source": [
"//Chapter 18\n",
"//Example 18_11\n",
"//Page 437\n",
"clear;clc;\n",
"a=1*(cosd(120)+%i*sind(120));\n",
"Ir=20*(cosd(0)+%i*sind(0));\n",
"Iy=20*(cosd(180)+%i*sind(180));\n",
"Ib=0;\n",
"Ir0=1/3*(Ir+Iy+Ib);\n",
"Ir1=1/3*(Ir+a*Iy+a^2*Ib);\n",
"Ir2=1/3*(Ir+a^2*Iy+a*Ib);\n",
"Iy0=Ir0;\n",
"Iy1=a^2*Ir1;\n",
"Iy2=a*Ir2;\n",
"Ib0=Ir0;\n",
"Ib1=a*Ir1;\n",
"Ib2=a^2*Ir2;\n",
"printf('Ir = %.2f /_%.2f A \n', abs(Ir), atand(imag(Ir)/real(Ir)));\n",
"printf('Iy = %.2f /_%.2f A \n', abs(Iy), atand(imag(Iy)/real(Iy))+180);\n",
"printf('Ib = %d A \n\n', abs(Ib));\n",
"disp('RED LINE: ');\n",
"printf('Ir0 = %d A \n', real(Ir0));\n",
"printf('Ir1 = %.2f /_%.2f A \n', abs(Ir1), atand(imag(Ir1)/real(Ir1)));\n",
"printf('Ir2 = %.2f /_%.2f A \n\n', abs(Ir2), atand(imag(Ir2)/real(Ir2)));\n",
"disp('YELLOW LINE: ');\n",
"printf('Iy0 = %d A \n', real(Iy0));\n",
"printf('Iy1 = %.2f /_%.2f A \n', abs(Iy1), atand(imag(Iy1)/real(Iy1))+180);\n",
"printf('Iy2 = %.2f /_%.2f A \n\n', abs(Iy2), atand(imag(Iy2)/real(Iy2))+180);\n",
"disp('BLUE LINE: ');\n",
"printf('Ib0 = %d  A \n', real(Ib0));\n",
"printf('Ib1 = %.2f /_%.2f A \n', abs(Ib1), atand(imag(Ib1)/real(Ib1)));\n",
"printf('Ib2 = %.2f /_%.2f A \n\n', abs(Ib2), atand(imag(Ib2)/real(Ib2))+180);"
   ]
   }
,
{
		   "cell_type": "markdown",
		   "metadata": {},
		   "source": [
			"## Example 18.12: current_calculations_2.sce"
		   ]
		  },
  {
"cell_type": "code",
	   "execution_count": null,
	   "metadata": {
	    "collapsed": true
	   },
	   "outputs": [],
"source": [
"//Chapter 18\n",
"//Example 18_12\n",
"//Page 438\n",
"clear;clc;\n",
"a=1*(cosd(120)+%i*sind(120));\n",
"z1=5-%i*10;\n",
"z2=6+%i*5;\n",
"z3=3+%i*15;\n",
"Vry=3300*(cosd(0)+%i*sind(0));\n",
"Vyb=a^2*Vry;\n",
"Vr_minus_Vy=3300;\n",
"Vy_minus_Vb=3300*(cosd(120)-%i*sind(120));\n",
"printf('Since Ir+Iy+Ib=0, Ir0=Iy0=Ib0=0 A \n');\n",
"v=[Vr_minus_Vy; Vy_minus_Vb];\n",
"za=z1-a^2*z2;\n",
"zb=z1-a*z2;\n",
"zc=a^2*z2-a*z3;\n",
"zd=a*z2-a^2*z3;\n",
"z=[za zb; zc zd];\n",
"I=z\v;\n",
"printf('Ir1 = %.2f+j(%.2f) \n', real(I(1)), imag(I(1)));\n",
"printf('Ir2 = %.2f+j(%.2f) \n\n', real(I(2)), imag(I(2)));\n",
"ir=I(1)+I(2);\n",
"printf('Ir = %.2f /_%.2f \n\n', abs(ir), atand(imag(ir)/real(ir)));"
   ]
   }
,
{
		   "cell_type": "markdown",
		   "metadata": {},
		   "source": [
			"## Example 18.13: current_calculations_3.sce"
		   ]
		  },
  {
"cell_type": "code",
	   "execution_count": null,
	   "metadata": {
	    "collapsed": true
	   },
	   "outputs": [],
"source": [
"//Chapter 18\n",
"//Example 18_13\n",
"//Page 440\n",
"clear;clc;\n",
"a=1*(cosd(120)+%i*sind(120));\n",
"r=1;\n",
"vry=200;\n",
"vyb=346;\n",
"vbr=400;\n",
"//referring to the phasor diagram\n",
"//vbr is twice vry, ie, factor =2\n",
"//vyb=1.75 times vry\n",
"alpha=acosd((1+1.75*cosd(90))/2);\n",
"Vry=vry*(cosd(180)+%i*sind(180));\n",
"Vyb=vyb*(cosd(90)+%i*sind(90));\n",
"Vbr=vbr*(cosd(-alpha)+%i*sind(-alpha));\n",
"printf('Vry = %.2f+j(%.2f) V \n', real(Vry), imag(Vry));\n",
"printf('Vyb = %.2f+j(%.2f) V \n', real(Vyb), imag(Vyb));\n",
"printf('Vbr = %.2f+j(%.2f) V \n\n', real(Vbr), imag(Vbr));\n",
"Ir=Vry/sqrt(3);\n",
"Iy=Vyb/sqrt(3);\n",
"Ib=Vbr/sqrt(3);\n",
"disp('Line current : ');\n",
"printf('Ir = %.2f /_%.2f A \n', abs(Ir), atand(imag(Ir)/real(Ir))+180);\n",
"printf('Iy = %.2f /_90 A \n', abs(Iy));\n",
"printf('Ib = %.2f /_%.2f A \n\n', abs(Ib), atand(imag(Ib)/real(Ib)));\n",
"Ir0=1/3*(Ir+Iy+Ib);\n",
"Ir1=1/3*(Ir+a*Iy+a^2*Ib);\n",
"Ir2=1/3*(Ir+a^2*Iy+a*Ib);\n",
"printf('Ir0 = %d A \n', abs(Ir0));\n",
"printf('Ir1 = %.2f /_%.2f A \n', abs(Ir1), atand(imag(Ir1)/real(Ir1))-180);\n",
"printf('Ir2 = %.2f /_%.2f A \n', abs(Ir2), atand(imag(Ir2)/real(Ir2)));"
   ]
   }
,
{
		   "cell_type": "markdown",
		   "metadata": {},
		   "source": [
			"## Example 18.14: impedance_and_voltage_calculations.sce"
		   ]
		  },
  {
"cell_type": "code",
	   "execution_count": null,
	   "metadata": {
	    "collapsed": true
	   },
	   "outputs": [],
"source": [
"//Chapter 18\n",
"//Example 18_14\n",
"//Page 449\n",
"clear;clc;\n",
"mva=10;\n",
"kv=11;\n",
"g=[%i*1.2 %i*0.9 %i*0.4];\n",
"f=[%i*1 %i*1 %i*3];\n",
"Er=kv*1000/sqrt(3);\n",
"printf('Phase enf of R phase = %d V \n', Er);\n",
"printf('(i) Total impedance to any sequence current is sum of generator and feeder impedances of that sequence currents \n');\n",
"for i=1:3\n",
"  tz(i)=g(i)+f(i);\n",
"  printf('\tTotal Z(%i) = j(%.1f) ohm \n', i,imag(tz(i)));\n",
"end\n",
"z=sum(tz);\n",
"I1=Er/z;\n",
"I2=I1;\n",
"I0=I1;\n",
"Ir=3*I0;\n",
"Vr=Er-I0*sum(g);\n",
"printf('I1 = I2 = I0 = j(%d) A \n\n', imag(I0));\n",
"printf('Fault current = j(%d) A \n\n\n', imag(Ir));\n",
"printf('(ii) Line to nuetral voltage of R-phase = %.2f V \n\n', Vr);"
   ]
   }
,
{
		   "cell_type": "markdown",
		   "metadata": {},
		   "source": [
			"## Example 18.15: ratio_of_fault_currents.sce"
		   ]
		  },
  {
"cell_type": "code",
	   "execution_count": null,
	   "metadata": {
	    "collapsed": true
	   },
	   "outputs": [],
"source": [
"//Chapter 18\n",
"//Example 18_15\n",
"//Page 450\n",
"clear;clc;\n",
"kv=11;\n",
"mva=10;\n",
"X0=%i*0.05;\n",
"X1=%i*0.15;\n",
"X2=%i*0.15;\n",
"Er=1;\n",
"I0=Er/(X0+X1+X2);\n",
"I1=I0;\n",
"I2=I0;\n",
"Ir=3*I0;\n",
"Ish=Er/X1;\n",
"ratio=Ir/Ish;\n",
"disp('Line to ground fault: ');\n",
"printf('I1=I2=I0=j(%.2f) A \n', imag(I0));\n",
"printf('Fault current = j(%.2f) A \n\n', imag(Ir));\n",
"disp('Three phase fault: ');\n",
"printf('Fault current = j(%.2f) A \n\n', imag(Ish));\n",
"printf('Ratio of two fault currents = %.3f A \n\n', ratio);\n",
"printf('Thus single line to ground fault is %.3f times that due to dead short circuit on the 3 phases \n\n', ratio);"
   ]
   }
,
{
		   "cell_type": "markdown",
		   "metadata": {},
		   "source": [
			"## Example 18.16: fault_current.sce"
		   ]
		  },
  {
"cell_type": "code",
	   "execution_count": null,
	   "metadata": {
	    "collapsed": true
	   },
	   "outputs": [],
"source": [
"//Chapter 18\n",
"//Example 18_16\n",
"//Page 450\n",
"clear;clc;\n",
"kv=11;\n",
"mva=25;\n",
"X0=%i*0.05;\n",
"X1=%i*0.2;\n",
"X2=%i*0.2;\n",
"Xn=%i*0.3;\n",
"Er=1;\n",
"pu_xn=Xn*mva*1000/kv^2/1000;\n",
"I0=Er/(X0+X1+X2+3*pu_xn);\n",
"I1=I0;\n",
"I2=I0;\n",
"Ir=3*I0;\n",
"fc=mva*1e6/sqrt(3)/kv/1000*abs(Ir);\n",
"printf('Per unit value of Xn = %.4f p.u \n\n', imag(pu_xn));\n",
"printf('I1=I2=I0=j(%.3f) A \n\n', imag(I0));\n",
"printf('Fault current = j(%.3f) A \n\n', imag(Ir));\n",
"printf('Fault current in amperes = Rated current * Per unit value\n');\n",
"printf('                           %d A \n\n', fc);"
   ]
   }
,
{
		   "cell_type": "markdown",
		   "metadata": {},
		   "source": [
			"## Example 18.17: fault_current_2.sce"
		   ]
		  },
  {
"cell_type": "code",
	   "execution_count": null,
	   "metadata": {
	    "collapsed": true
	   },
	   "outputs": [],
"source": [
"//Chapter 18\n",
"//Example 18_17\n",
"//Page 451\n",
"clear;clc;\n",
"Er=10.4*1e3/sqrt(3);\n",
"X1=0.6;\n",
"X2=0.5;\n",
"X0=0.2;\n",
"If=sqrt(3)*Er/(X1+X2);\n",
"printf('Phase emf of R-phase = %d V \n\n', Er);\n",
"printf('Fault current for line to line fault = %.1f A \n\n', If);"
   ]
   }
,
{
		   "cell_type": "markdown",
		   "metadata": {},
		   "source": [
			"## Example 18.18: fault_current_3.sce"
		   ]
		  },
  {
"cell_type": "code",
	   "execution_count": null,
	   "metadata": {
	    "collapsed": true
	   },
	   "outputs": [],
"source": [
"//Chapter 18\n",
"//Example 18_18\n",
"//Page 451\n",
"clear;clc;\n",
"X1=%i*0.08;\n",
"X2=%i*0.07;\n",
"X0=%i*0.05;\n",
"//pu value\n",
"Er=1;\n",
"If=-3*X2*Er/(X1*X2+X1*X0+X2*X0);\n",
"printf('Fault current = j%d p.u \n\n', imag(If));"
   ]
   }
,
{
		   "cell_type": "markdown",
		   "metadata": {},
		   "source": [
			"## Example 18.19: fault_current_4.sce"
		   ]
		  },
  {
"cell_type": "code",
	   "execution_count": null,
	   "metadata": {
	    "collapsed": true
	   },
	   "outputs": [],
"source": [
"//Chapter 18\n",
"//Example 18_19\n",
"//Page 452\n",
"clear;clc;\n",
"mva=20;\n",
"kv=11;\n",
"xn=5;\n",
"x1=20;\n",
"x2=10;\n",
"Er=kv*1000/sqrt(3);\n",
"printf('Phase emf of red phase = %d V \n\n', Er);\n",
"//from the reactance diagram given in the text;\n",
"r_x1=x1/2;\n",
"r_x2=x2/2;\n",
"r_xn=30;\n",
"X1=r_x1*kv^2*10/mva/1000;\n",
"X2=r_x2*kv^2*10/mva/1000;\n",
"X0=r_xn*kv^2*10/mva/1000;\n",
"Ir=3*Er/(X1+X2+X0)/%i;\n",
"printf('X1 = %.3f ohm \n\n', X1);\n",
"printf('X2 = %.3f ohm \n\n', X2);\n",
"printf('X0 = %.3f ohm \n\n', X0);\n",
"printf('Fault current = j(%d) A \n\n', imag(Ir));"
   ]
   }
,
{
		   "cell_type": "markdown",
		   "metadata": {},
		   "source": [
			"## Example 18.20: reactance_calculations.sce"
		   ]
		  },
  {
"cell_type": "code",
	   "execution_count": null,
	   "metadata": {
	    "collapsed": true
	   },
	   "outputs": [],
"source": [
"//Chapter 18\n",
"//Example 18_20\n",
"//Page 453\n",
"clear;clc;\n",
"mva=50;\n",
"kv=11;\n",
"//three phase fault\n",
"I1=2000;\n",
"//line to line fault\n",
"I2=2600;\n",
"//line to ground fault\n",
"I3=4200;\n",
"Eph=kv*1000/sqrt(3);\n",
"X1=Eph/I1;\n",
"X2=sqrt(3)*Eph/I2-X1;\n",
"X3=3*Eph/I3-X1-X2;\n",
"printf('X1 = %.3f ohm \n\n', X1);\n",
"printf('X2 = %.3f ohm \n\n', X2);\n",
"printf('X3 = %.3f ohm \n\n', X3);"
   ]
   }
,
{
		   "cell_type": "markdown",
		   "metadata": {},
		   "source": [
			"## Example 18.3: sequence_currents.sce"
		   ]
		  },
  {
"cell_type": "code",
	   "execution_count": null,
	   "metadata": {
	    "collapsed": true
	   },
	   "outputs": [],
"source": [
"//Chapter 18\n",
"//Example 18_3\n",
"//Page 429\n",
"clear;clc;\n",
"a=1*(cosd(120)+%i*sind(120));\n",
"    \n",
"Ir=12+%i*6;\n",
"Iy=12+%i*-12;\n",
"Ib=-15+%i*10;\n",
"  \n",
"  Ir0=1/3*(Ir+Iy+Ib);\n",
"  Ir1=1/3*(Ir+a*Iy+a^2*Ib);\n",
"  Ir2=1/3*(Ir+a^2*Iy+a*Ib);\n",
"  \n",
"disp('RED PHASE:');\n",
"printf('Ir0 = %.2f+j(%.2f) A \n', real(Ir0), imag(Ir0));\n",
"printf('Ir1 = %.2f+j(%.2f) A \n', real(Ir1), imag(Ir1));\n",
"printf('Ir2 = %.2f+j(%.2f) A \n\n', real(Ir2), imag(Ir2));\n",
"Iy0=Ir0;\n",
"Iy1=a^2*Ir1;\n",
"Iy2=a*Ir2;\n",
"disp('YELLOW PHASE:');\n",
"printf('Iy0 = %.2f+j(%.2f) A \n', real(Iy0), imag(Iy0));\n",
"printf('Iy1 = %.2f+j(%.2f) A \n', real(Iy1), imag(Iy1));\n",
"printf('Iy2 = %.2f+j(%.2f) A \n\n', real(Iy2), imag(Iy2));\n",
"Ib0=Ir0;\n",
"Ib1=a*Ir1;\n",
"Ib2=a^2*Ir2;\n",
"disp('BLUE PHASE:');  \n",
"printf('Ib0 = %.2f+j(%.2f) A \n', real(Ib0), imag(Ib0));\n",
"printf('Ib1 = %.2f+j(%.2f) A \n', real(Ib1), imag(Ib1));\n",
"printf('Ib2 = %.2f+j(%.2f) A \n\n', real(Ib2), imag(Ib2));"
   ]
   }
,
{
		   "cell_type": "markdown",
		   "metadata": {},
		   "source": [
			"## Example 18.4: sequence_components_for_voltage.sce"
		   ]
		  },
  {
"cell_type": "code",
	   "execution_count": null,
	   "metadata": {
	    "collapsed": true
	   },
	   "outputs": [],
"source": [
"//Chapter 18\n",
"//Example 18_4\n",
"//Page 430\n",
"clear;clc;\n",
"a=1*(cosd(120)+%i*sind(120));\n",
"Er0=100;\n",
"Er1=200-%i*100;\n",
"Er2=-100;\n",
"Er=Er0+Er1+Er2;\n",
"Ey=Er0+a^2*Er1+a*Er2;\n",
"Eb=Er0+a*Er1+a^2*Er2;\n",
"printf('Er = %.2f /_%.2f volts \n\n', abs(Er), atand(imag(Er)/real(Er)));\n",
"printf('Ey = %.2f /_%.2f volts \n\n', abs(Ey), atand(imag(Ey)/real(Ey))-180);\n",
"printf('Eb = %.2f /_%.2f volts \n\n', abs(Eb), atand(imag(Eb)/real(Eb)));"
   ]
   }
,
{
		   "cell_type": "markdown",
		   "metadata": {},
		   "source": [
			"## Example 18.5: sequence_components_calculations.sce"
		   ]
		  },
  {
"cell_type": "code",
	   "execution_count": null,
	   "metadata": {
	    "collapsed": true
	   },
	   "outputs": [],
"source": [
"//Chapter 18\n",
"//Example 18_5\n",
"//Page 431\n",
"clear;clc;\n",
"a=1*(cosd(120)+%i*sind(120));\n",
"Er0=0.5-%i*0.866;\n",
"Er1=2*(cosd(0)+%i*sind(0));\n",
"Er=3*(cosd(0)+%i*sind(0));\n",
"Er2=Er-Er0-Er1;\n",
"Ey=Er0+a^2*Er1+a*Er2;\n",
"Eb=Er0+a*Er1+a^2*Er2;\n",
"printf('Er2 = %.2f /_%.2f volts \n\n', abs(Er2), atand(imag(Er2)/real(Er2)));\n",
"printf('Ey = %.2f /_%.2f volts \n\n', abs(Ey), atand(imag(Ey)/real(Ey))-180);\n",
"printf('Eb = %.2f volts \n\n', abs(Eb));"
   ]
   }
,
{
		   "cell_type": "markdown",
		   "metadata": {},
		   "source": [
			"## Example 18.6: zero_sequence_currents.sce"
		   ]
		  },
  {
"cell_type": "code",
	   "execution_count": null,
	   "metadata": {
	    "collapsed": true
	   },
	   "outputs": [],
"source": [
"//Chapter 18\n",
"//Example 18_6\n",
"//Page 431\n",
"clear;clc;\n",
"i=12;\n",
"printf('Zero sequence current is equal to 1/3rd the current in nuetral wire.\n');\n",
"printf('Zero sequence current in each phase = %d A \n\n', i/3);"
   ]
   }
,
{
		   "cell_type": "markdown",
		   "metadata": {},
		   "source": [
			"## Example 18.7: with_and_without_fuse.sce"
		   ]
		  },
  {
"cell_type": "code",
	   "execution_count": null,
	   "metadata": {
	    "collapsed": true
	   },
	   "outputs": [],
"source": [
"//Chapter 18\n",
"//Example 18_7\n",
"//Page 432\n",
"clear;clc;\n",
"i=90;\n",
"disp('(i) BEFORE REMOVAL OF FUSES: ');\n",
"a=1*(cosd(120)+%i*sind(120));\n",
"Ir=90*(cosd(0)+%i*sind(0));\n",
"Iy=90*(cosd(240)+%i*sind(240));\n",
"Ib=90*(cosd(120)+%i*sind(120));\n",
"Ir0=1/3*(Ir+Iy+Ib);\n",
"Ir2=1/3*(Ir+a^2*Iy+a*Ib);\n",
"Iy2=a*Ir2;\n",
"Ib2=a^2*Ir2;\n",
"Ir1=Ir;\n",
"Iy1=Iy;\n",
"Ib1=Ib;\n",
"printf('Ir = %.2f /_%.2f A \n', abs(Ir), atand(imag(Ir)/real(Ir)));\n",
"printf('Iy = %.2f /_%.2f A \n', abs(Iy), atand(imag(Iy)/real(Iy))+180);\n",
"printf('Ib = %.2f /_%.2f A \n\n', abs(Ib), atand(imag(Ib)/real(Ib))+180);\n",
"printf('Zero sequence components of three line currents are: \n');\n",
"printf('Ir0 = Iy0 = Ib0 = %d A \n\n', real(Ir0));\n",
"printf('Ir2 = %d A \n', abs(Ir2));\n",
"printf('Iy2 = %d A \n', abs(Iy2));\n",
"printf('Ib2 = %d A \n\n', abs(Ib2));\n",
"printf('Ir1 = %.2f /_%.2f A \n', abs(Ir), atand(imag(Ir)/real(Ir)));\n",
"printf('Iy1 = %.2f /_%.2f A \n', abs(Iy), atand(imag(Iy)/real(Iy))+180);\n",
"printf('Ib1 = %.2f /_%.2f A \n\n\n', abs(Ib), atand(imag(Ib)/real(Ib))+180);\n",
"disp('AFTER REMOVAL OF FUSES: ');\n",
"Ird=90*(cosd(0)+%i*sind(0));\n",
"Iyd=0;\n",
"Ibd=0;\n",
"printf('Ir = %.2f /_%.2f A \n', abs(Ird), atand(imag(Ird)/real(Ird)));\n",
"printf('Iy = %d A \n', Iyd);\n",
"printf('Ib = %d A \n\n', Ibd);\n",
"Ir0d=1/3*(Ird+Iyd+Ibd);\n",
"Ir1d=1/3*(Ird+a*Iyd+a^2*Ibd);\n",
"Ir2d=1/3*(Ird+a^2*Iyd+a*Ibd);\n",
"printf('Zero sequence components of three line currents are: \n');\n",
"printf('Ir0 = Iy0 = Ib0 = %d /_0 A \n\n', real(Ir0d));\n",
"Iy0d=Ir0d;\n",
"Ib0d=Ir0d;\n",
"Iy1d=a^2*Ir1d;\n",
"Iy2d=a*Ir2d;\n",
"Ib1d=a*Ir1d;\n",
"Ib2d=a^2*Ir2d;\n",
"printf('Ir1 = %.2f /_%.2f A \n', abs(Ir1d), atand(imag(Ir1d)/real(Ir1d)));\n",
"printf('Ir2 = %.2f /_%.2f A \n\n', abs(Ir2d), atand(imag(Ir2d)/real(Ir2d))+180);\n",
"printf('Iy1 = %.2f /_%.2f A \n', abs(Iy1d), atand(imag(Iy1d)/real(Iy1d))+180);\n",
"printf('Iy2 = %.2f /_%.2f A \n\n', abs(Iy2d), atand(imag(Iy2d)/real(Iy2d))+180);\n",
"printf('Ib1 = %.2f /_%.2f A \n', abs(Ib1d), atand(imag(Ib1d)/real(Ib1d))+180);\n",
"printf('Ib2 = %.2f /_%.2f A \n\n', abs(Ib2d), atand(imag(Ib2d)/real(Ib2d))+180);\n",
"Iyd=Iy0d+Iy1d+Iy2d;\n",
"printf('Curretn in yellow line = %d A \n\n', real(Iyd));"
   ]
   }
,
{
		   "cell_type": "markdown",
		   "metadata": {},
		   "source": [
			"## Example 18.8: line_current_values.sce"
		   ]
		  },
  {
"cell_type": "code",
	   "execution_count": null,
	   "metadata": {
	    "collapsed": true
	   },
	   "outputs": [],
"source": [
"//Chapter 18\n",
"//Example 18_8\n",
"//Page 433\n",
"clear;clc;\n",
"a=1*(cosd(120)+%i*sind(120));\n",
"In=300*(cosd(300)+%i*sind(300));\n",
"Ir1=200*(cosd(0)+%i*sind(0));\n",
"Ir2=100*(cosd(60)+%i*sind(60));\n",
"Ir0=1/3*In;\n",
"Ir=Ir0+Ir1+Ir2;\n",
"Iy=Ir0+a^2*Ir1+a*Ir2;\n",
"Ib=Ir0+a*Ir1+a^2*Ir2;\n",
"printf('Ir = %.2f /_%.2f volts \n\n', abs(Ir), atand(imag(Ir)/real(Ir)));\n",
"printf('Iy = %.2f /_%.2f volts \n\n', abs(Iy), atand(imag(Iy)/real(Iy))-180);\n",
"printf('Ib = %.2f /_%.2f volts \n\n', abs(Ib), atand(imag(Ib)/real(Ib)));"
   ]
   }
,
{
		   "cell_type": "markdown",
		   "metadata": {},
		   "source": [
			"## Example 18.9: currents_in_three_phases.sce"
		   ]
		  },
  {
"cell_type": "code",
	   "execution_count": null,
	   "metadata": {
	    "collapsed": true
	   },
	   "outputs": [],
"source": [
"//Chapter 18\n",
"//Example 18_9\n",
"//Page 434\n",
"clear;clc;\n",
"a=1*(cosd(120)+%i*sind(120));\n",
"Ir=10*(cosd(0)+%i*sind(0));\n",
"Iy=10*(cosd(180)+%i*sind(180));\n",
"Ib=0;\n",
"Ir0=1/3*(Ir+Iy+Ib);\n",
"Ir1=1/3*(Ir+a*Iy+a^2*Ib);\n",
"Ir2=1/3*(Ir+a^2*Iy+a*Ib);\n",
"Iy0=Ir0;\n",
"Iy1=a^2*Ir1;\n",
"Iy2=a*Ir2;\n",
"Ib0=Ir0;\n",
"Ib1=a*Ir1;\n",
"Ib2=a^2*Ir2;\n",
"printf('Ir = %.2f /_%.2f A \n', abs(Ir), atand(imag(Ir)/real(Ir)));\n",
"printf('Iy = %.2f /_%.2f A \n', abs(Iy), atand(imag(Iy)/real(Iy))+180);\n",
"printf('Ib = %.d A \n\n', Ib);\n",
"disp('RED PHASE: ');\n",
"printf('Ir0 = %d A \n', real(Ir0));\n",
"printf('Ir1 = %.2f /_%.2f A \n', abs(Ir1), atand(imag(Ir1)/real(Ir1)));\n",
"printf('Ir2 = %.2f /_%.2f A \n\n', abs(Ir2), atand(imag(Ir2)/real(Ir2)));\n",
"disp('YELLOW PHASE: ');\n",
"printf('Iy0 = %d A \n', real(Iy0));\n",
"printf('Iy1 = %.2f /_%.2f A \n', abs(Iy1), atand(imag(Iy1)/real(Iy1))-180);\n",
"printf('Iy2 = %.2f /_%.2f A \n\n', abs(Iy2), atand(imag(Iy2)/real(Iy2))+180);\n",
"disp('BLUE PHASE: ');\n",
"printf('Ib0 = %d  A \n', real(Ib0));\n",
"printf('Ib1 = %.2f /_%.2f A \n', abs(Ib1), atand(imag(Ib1)/real(Ib1)));\n",
"printf('Ib2 = %.2f /_%.2f A \n\n', abs(Ib2), atand(imag(Ib2)/real(Ib2))-180);"
   ]
   }
],
"metadata": {
		  "kernelspec": {
		   "display_name": "Scilab",
		   "language": "scilab",
		   "name": "scilab"
		  },
		  "language_info": {
		   "file_extension": ".sce",
		   "help_links": [
			{
			 "text": "MetaKernel Magics",
			 "url": "https://github.com/calysto/metakernel/blob/master/metakernel/magics/README.md"
			}
		   ],
		   "mimetype": "text/x-octave",
		   "name": "scilab",
		   "version": "0.7.1"
		  }
		 },
		 "nbformat": 4,
		 "nbformat_minor": 0
}
