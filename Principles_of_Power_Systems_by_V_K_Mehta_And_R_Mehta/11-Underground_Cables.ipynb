{
"cells": [
 {
		   "cell_type": "markdown",
	   "metadata": {},
	   "source": [
       "# Chapter 11: Underground Cables"
	   ]
	},
{
		   "cell_type": "markdown",
		   "metadata": {},
		   "source": [
			"## Example 11.10: economical_conductor_diameter.sce"
		   ]
		  },
  {
"cell_type": "code",
	   "execution_count": null,
	   "metadata": {
	    "collapsed": true
	   },
	   "outputs": [],
"source": [
"//Chapter 11\n",
"//Example 11_10\n",
"//Page 280\n",
"clear;clc;\n",
"v=50;\n",
"g_max=40;\n",
"v_rms=v*sqrt(2);\n",
"d=2*v_rms/g_max;\n",
"printf('Peak value of cable voltage = %.2f kV \n\n', v_rms);\n",
"printf('Most economical conductor diameter = %.2f cm \n\n', d);"
   ]
   }
,
{
		   "cell_type": "markdown",
		   "metadata": {},
		   "source": [
			"## Example 11.11: internal_sheath_diameter.sce"
		   ]
		  },
  {
"cell_type": "code",
	   "execution_count": null,
	   "metadata": {
	    "collapsed": true
	   },
	   "outputs": [],
"source": [
"//Chapter 11\n",
"//Example 11_11\n",
"//Page 280\n",
"clear;clc;\n",
"v=132;\n",
"g_max=60;\n",
"vp=v/sqrt(3);\n",
"pv_ph=vp*sqrt(2);\n",
"d=2*pv_ph/g_max;\n",
"d_out=2.718*d;\n",
"printf('Phase value of cable voltage = %.2f kV \n\n', vp);\n",
"printf('Peak value of phase voltage = %.2f kV \n\n', pv_ph);\n",
"printf('Most economical conductor diameter = %.2f cm \n\n', d);\n",
"printf('Internal diameter of sheath = %.2f cm \n\n', d_out);"
   ]
   }
,
{
		   "cell_type": "markdown",
		   "metadata": {},
		   "source": [
			"## Example 11.12: rms_safe_working_voltage.sce"
		   ]
		  },
  {
"cell_type": "code",
	   "execution_count": null,
	   "metadata": {
	    "collapsed": true
	   },
	   "outputs": [],
"source": [
"//Chapter 11\n",
"//Example 11_12\n",
"//Page 282\n",
"clear;clc;\n",
"d_in=2;\n",
"d_out=8;\n",
"e1=5;\n",
"e2=4;\n",
"e3=3;\n",
"g_max=40;\n",
"d1=e1*d_in/e2;\n",
"d2=e1*d_in/e3;\n",
"printf('GRADED CABLE: \n');\n",
"printf('d1 = %.2f cm \n', d1);\n",
"printf('d2 = %.2f cm \n', d2);\n",
"v=g_max/2*(d_in*log(d1/d_in)+d1*log(d2/d1)+d2*log(d_out/d2));\n",
"sv=v/sqrt(2);\n",
"printf('Permissible peak voltage for the cable = %.3f kV \n', v);\n",
"printf('Safe working rms voltage for the cable = %.3f kV \n\n', sv);\n",
"pv=g_max/2*d_in*log(d_out/d_in);\n",
"printf('UNGRADED CABLE: \n');\n",
"printf('Permissible peak voltage for the cable = %.3f kV \n', pv);\n",
"printf('Safe working rms voltage for the cable = %.3f kV \n\n', pv/sqrt(2));"
   ]
   }
,
{
		   "cell_type": "markdown",
		   "metadata": {},
		   "source": [
			"## Example 11.13: rms_safe_working_voltage_2.sce"
		   ]
		  },
  {
"cell_type": "code",
	   "execution_count": null,
	   "metadata": {
	    "collapsed": true
	   },
	   "outputs": [],
"source": [
"//Chapter 11\n",
"//Example 11_13\n",
"//Page 283\n",
"clear;clc;\n",
"d_in=3;\n",
"d_out=9;\n",
"e1=5;\n",
"e2=4;\n",
"g1_max=30;\n",
"g2_max=20;\n",
"d1=g1_max*e1*d_in/g2_max/e2;\n",
"ri=(d1-d_in)/2;\n",
"ro=(d_out-d1)/2;\n",
"v=g1_max/2*d_in*log(d1/d_in)+g2_max/2*d1*log(d_out/d1);\n",
"printf('d1 = %.3f cm \n\n', d1);\n",
"printf('Radial thickness of inner dielectric = %.3f cm \n\n', ri);\n",
"printf('Radial thickness of outer dielectric = %.3f cm \n\n', ro);\n",
"printf('Permissible peak voltage for the cable = %.3f kV \n', v);\n",
"printf('Safe working rms voltage for the cable = %.3f kV \n\n', v/sqrt(2));"
   ]
   }
,
{
		   "cell_type": "markdown",
		   "metadata": {},
		   "source": [
			"## Example 11.14: max_dielectric_stress.sce"
		   ]
		  },
  {
"cell_type": "code",
	   "execution_count": null,
	   "metadata": {
	    "collapsed": true
	   },
	   "outputs": [],
"source": [
"//Chapter 11\n",
"//Example 11_14\n",
"//Page 284\n",
"clear;clc;\n",
"d_in=2;\n",
"d1=4;\n",
"d_out=6;\n",
"v=66;\n",
"e1=5;\n",
"e2=3;\n",
"vp=v*sqrt(2/3);\n",
"g1max=2*vp/d_in/(log(d1/d_in)+e1*log(d_out/d1)/e2);\n",
"g2max=2*vp/d1/(e2*log(d1/d_in)/e1+log(d_out/d1));\n",
"printf('g1max = %.2f kV/cm \n\n', g1max);\n",
"printf('g2max = %.2f kV/cm \n\n', g2max);"
   ]
   }
,
{
		   "cell_type": "markdown",
		   "metadata": {},
		   "source": [
			"## Example 11.15: intersheath_grading_1.sce"
		   ]
		  },
  {
"cell_type": "code",
	   "execution_count": null,
	   "metadata": {
	    "collapsed": true
	   },
	   "outputs": [],
"source": [
"//Chapter 11\n",
"//Example 11_15\n",
"//Page 285\n",
"clear;clc;\n",
"d_in=2;\n",
"d1=3.1;\n",
"d2=4.2;\n",
"d_out=5.3;\n",
"v=66;\n",
"vp=v*sqrt(2/3);\n",
"g1_max=1/(d_in/2)/log(d1/d_in);\n",
"g2_max=1/(d1/2)/log(d2/d1);\n",
"g3_max=1/(d2/2)/log(d_out/d2);\n",
"v2=g1_max/g2_max;\n",
"v3=g1_max/g3_max;\n",
"vd=1+v2+v3;\n",
"va1=vp/vd;\n",
"va2=v2*va1;\n",
"vf=vp-va1;\n",
"vs=vp-va1-va2;\n",
"printf('g1_max = %.2fV1 \n', g1_max);\n",
"printf('g2_max = %.2fV1 \n', g2_max);\n",
"printf('g3_max = %.2fV1 \n\n', g3_max);\n",
"printf('V2 = %.3fV1 \n', v2);\n",
"printf('V3 = %.3fV1 \n\n', v3);\n",
"printf('V1 = %.2f kV \n\n', va1);\n",
"printf('Voltage on the first intersheath = %.2f kV \n', vf);\n",
"printf('Voltage on the second intersheath = %.2f kV \n\n', vs);"
   ]
   }
,
{
		   "cell_type": "markdown",
		   "metadata": {},
		   "source": [
			"## Example 11.16: intersheath_grading_2.sce"
		   ]
		  },
  {
"cell_type": "code",
	   "execution_count": null,
	   "metadata": {
	    "collapsed": true
	   },
	   "outputs": [],
"source": [
"//Chapter 11\n",
"//Example 11_16\n",
"//Page 286\n",
"clear;clc;\n",
"v=66;\n",
"d_in=2;\n",
"d_out=5.3;\n",
"d1=(2*d_out*d_in)^(1/3);\n",
"d2=d1^2/2;\n",
"vp=v*sqrt(2/3);\n",
"v1=vp/(1+d1/d_in+d2/d_in);\n",
"v2=d1/d_in*v1;\n",
"vf=vp-v1;\n",
"vs=vp-v1-v2;\n",
"maxs=v1/(d_in*log(d1/d_in)/2);\n",
"mins=v1/(d1*log(d1/d_in)/2);\n",
"printf('(i) POSITIONS OF INTERSHEATHS: \n');\n",
"printf('d1 = %.2f cm \n', d1);\n",
"printf('d2 = %.2f cm \n\n', d2);\n",
"printf('(ii) VOLTAGE ON INTERSHEATH: \n');\n",
"printf('V1 = %.2f kV \n', v1);\n",
"printf('V2 = %.2f kV \n', v2);\n",
"printf('Voltage on first intersheath = %.2f kV \n', vf);\n",
"printf('Voltage on second intersheath = %.2f kV \n\n', vs);\n",
"printf('(iii) STRESSES ON DIELECTRIC: \n');\n",
"printf('Maximum stress = %.2f kV/cm \n', maxs);\n",
"printf('Minimum stress = %.2f kV/cm \n\n', mins);"
   ]
   }
,
{
		   "cell_type": "markdown",
		   "metadata": {},
		   "source": [
			"## Example 11.17: three_core_cable_Ic.sce"
		   ]
		  },
  {
"cell_type": "code",
	   "execution_count": null,
	   "metadata": {
	    "collapsed": true
	   },
	   "outputs": [],
"source": [
"//Chapter 11\n",
"//Example 11_17\n",
"//Page 289\n",
"clear;clc;\n",
"c=0.3;\n",
"v=11;\n",
"f=50;\n",
"l=5;\n",
"c3=l*c;\n",
"vph=v*1000/sqrt(3);\n",
"cn=2*c3;\n",
"ic=2*%pi*f*cn*vph/1e6;\n",
"printf('The capacitance between a pair of cores with third core earthed for a length of %d km is: \n C3 = %.2f uF \n\n', l, c3);\n",
"printf('Phase voltage = %.0f V \n\n', vph);\n",
"printf('Core to nuetral capacitance = %.2f uF \n\n', cn);\n",
"printf('Charging current = %.2f A \n\n', ic);"
   ]
   }
,
{
		   "cell_type": "markdown",
		   "metadata": {},
		   "source": [
			"## Example 11.18: three_core_cable_Ic2.sce"
		   ]
		  },
  {
"cell_type": "code",
	   "execution_count": null,
	   "metadata": {
	    "collapsed": true
	   },
	   "outputs": [],
"source": [
"//Chapter 11\n",
"//Example 11_18\n",
"//Page 290\n",
"clear;clc;\n",
"v=66;\n",
"v_ph=66*1000/sqrt(3);\n",
"f=50;\n",
"c1=12.6;\n",
"c2=7.4;\n",
"ce=c1/3;\n",
"cc=(c2-ce)/2;\n",
"cn=ce+3*cc;\n",
"ic=2*%pi*f*v_ph*cn/1e6;\n",
"printf('Core-core capacitance of the cable = %.2f uF \n\n', cc);\n",
"printf('Core-earth capacitance of the cable = %.2f uF \n\n', ce);\n",
"printf('Core to nuetral capacitance of the cable = %.2f uF \n\n', cn);\n",
"printf('Charging current = %.2f A \n\n', ic);"
   ]
   }
,
{
		   "cell_type": "markdown",
		   "metadata": {},
		   "source": [
			"## Example 11.19: kva_taken_by_cable.sce"
		   ]
		  },
  {
"cell_type": "code",
	   "execution_count": null,
	   "metadata": {
	    "collapsed": true
	   },
	   "outputs": [],
"source": [
"//Chapter 11\n",
"//Example 11_19\n",
"//Page 290\n",
"clear;clc;\n",
"c=0.18;\n",
"l=20;\n",
"v=3300;\n",
"f=50;\n",
"c3=c*l;\n",
"v_ph=v/sqrt(3);\n",
"cn=2*c3;\n",
"ic=2*%pi*f*v_ph*cn/1e6;\n",
"kva=3*v_ph*ic;\n",
"printf('Capacitance between pair of cores with third core = %.2f uF \n\n', c3);\n",
"printf('Core to nuetral capacitance of the cable = %.2f uF \n\n', cn);\n",
"printf('Charging current = %.2f A \n\n', ic);\n",
"printf('kVA taken by the cable = %.2f kVA \n\n', kva/1000);"
   ]
   }
,
{
		   "cell_type": "markdown",
		   "metadata": {},
		   "source": [
			"## Example 11.1: insulaiton_resistance.sce"
		   ]
		  },
  {
"cell_type": "code",
	   "execution_count": null,
	   "metadata": {
	    "collapsed": true
	   },
	   "outputs": [],
"source": [
"//Chapter 11\n",
"//Example 11_1\n",
"//Page 273\n",
"clear;clc;\n",
"r1=1/2;\n",
"l=2000;\n",
"p=5*1e12;\n",
"r2=0.5+0.4;\n",
"r=p*log(r2/r1)/(2*%pi*l);\n",
"printf('Internal resistance of the cable is = %.2f MW \n\n', r/1e6);"
   ]
   }
,
{
		   "cell_type": "markdown",
		   "metadata": {},
		   "source": [
			"## Example 11.20: permissible_current_loading.sce"
		   ]
		  },
  {
"cell_type": "code",
	   "execution_count": null,
	   "metadata": {
	    "collapsed": true
	   },
	   "outputs": [],
"source": [
"//Chapter 11\n",
"//Example 11_20\n",
"//Page 292\n",
"clear;clc;\n",
"k=5;\n",
"r=30/2;\n",
"r1=r+40;\n",
"er=110*1e-6;\n",
"s1=k/2/%pi*log(r1/r);\n",
"s2=0.45;\n",
"s=s1+s2;\n",
"n=1;\n",
"t=55;\n",
"i=sqrt(t/n/er/s);\n",
"printf('Thermal resistance of the dielectric of the cable = %.2f thermal ohms per metre length \n\n', s1);\n",
"printf('Total thermal resistance = %.2f thermal ohms per metre legth \n\n', s);\n",
"printf('Maximum permissible current loading = %.0f A \n\n', i);"
   ]
   }
,
{
		   "cell_type": "markdown",
		   "metadata": {},
		   "source": [
			"## Example 11.21: loop_testing_fault_location_1.sce"
		   ]
		  },
  {
"cell_type": "code",
	   "execution_count": null,
	   "metadata": {
	    "collapsed": true
	   },
	   "outputs": [],
"source": [
"//Chapter 11\n",
"//Example 11_21\n",
"//Page 296\n",
"clear;clc;\n",
"q=15;\n",
"p=45;\n",
"ll=2*300;\n",
"d=q/(p+q)*ll;\n",
"printf('Distance of the fault point from test end = %.0f m \n\n', d);"
   ]
   }
,
{
		   "cell_type": "markdown",
		   "metadata": {},
		   "source": [
			"## Example 11.22: loop_testing_fault_location_2.sce"
		   ]
		  },
  {
"cell_type": "code",
	   "execution_count": null,
	   "metadata": {
	    "collapsed": true
	   },
	   "outputs": [],
"source": [
"//Chapter 11\n",
"//Example 11_22\n",
"//Page 297\n",
"clear;clc;\n",
"q=1;\n",
"p=3*q;\n",
"ll=2*500;\n",
"d=q/(p+q)*ll;\n",
"printf('Distance of the fault point from test end = %.0f m \n\n', d);"
   ]
   }
,
{
		   "cell_type": "markdown",
		   "metadata": {},
		   "source": [
			"## Example 11.23: loop_testing_fault_location_3.sce"
		   ]
		  },
  {
"cell_type": "code",
	   "execution_count": null,
	   "metadata": {
	    "collapsed": true
	   },
	   "outputs": [],
"source": [
"//Chapter 11\n",
"//Example 11_23\n",
"//Page 297\n",
"clear;clc;\n",
"q=1;\n",
"p=2.75*q;\n",
"r1=1;\n",
"m1=1000;\n",
"r2=2.25;\n",
"m2=1000;\n",
"l=500;\n",
"r=r1/m1*l+r2/m2*l;\n",
"x=q/(p+q)*r;\n",
"d=x*1000;\n",
"printf('Resistance of the loop = %.3f ohm \n\n', r);\n",
"printf('Resistance of faulty cable from test end upto fault point = %.3f ohm \n\n', x);\n",
"printf('Distance of fault point from the testing end = %.0f m \n\n', d);"
   ]
   }
,
{
		   "cell_type": "markdown",
		   "metadata": {},
		   "source": [
			"## Example 11.24: distance_from_fault_end.sce"
		   ]
		  },
  {
"cell_type": "code",
	   "execution_count": null,
	   "metadata": {
	    "collapsed": true
	   },
	   "outputs": [],
"source": [
"//Chapter 11\n",
"//Example 11_24\n",
"//Page 297\n",
"clear;clc;\n",
"s=200;\n",
"r=20;\n",
"l=20;\n",
"//R+X is represented by the variable rx\n",
"rx=r*(l+l);\n",
"x=(rx-s)/2;\n",
"d=x/r;\n",
"printf('Resistance of cable from test end to fault point = %d ohm \n\n', x);\n",
"printf('Distance of fault from test end = %d km \n\n', d);"
   ]
   }
,
{
		   "cell_type": "markdown",
		   "metadata": {},
		   "source": [
			"## Example 11.2: insulation_thickness.sce"
		   ]
		  },
  {
"cell_type": "code",
	   "execution_count": null,
	   "metadata": {
	    "collapsed": true
	   },
	   "outputs": [],
"source": [
"//Chapter 11\n",
"//Example 11_2\n",
"//Page 274\n",
"clear;clc;\n",
"l=1000;\n",
"r=495*1e6;\n",
"r1=2.5/2;\n",
"p=4.5*1e12;\n",
"r2=r1*exp(2*%pi*r*l/p);\n",
"printf('Insulation thickness = %.2f cm \n\n', r2-r1);"
   ]
   }
,
{
		   "cell_type": "markdown",
		   "metadata": {},
		   "source": [
			"## Example 11.3: insulaiton_resistance_2.sce"
		   ]
		  },
  {
"cell_type": "code",
	   "execution_count": null,
	   "metadata": {
	    "collapsed": true
	   },
	   "outputs": [],
"source": [
"//Chapter 11\n",
"//Example 11_3\n",
"//Page 274\n",
"clear;clc;\n",
"l=5000;\n",
"r=0.4*1e6;\n",
"r1=20/2;\n",
"r2=50/2;\n",
"p=2*%pi*r*l/log(r2/r1);\n",
"printf('Resistance of the insulating material = %.2f*10^9 ohm-m \n\n', p*1e-9);"
   ]
   }
,
{
		   "cell_type": "markdown",
		   "metadata": {},
		   "source": [
			"## Example 11.4: cable_capacitance.sce"
		   ]
		  },
  {
"cell_type": "code",
	   "execution_count": null,
	   "metadata": {
	    "collapsed": true
	   },
	   "outputs": [],
"source": [
"//Chapter 11\n",
"//Example 11_4\n",
"//Page 275\n",
"clear;clc;\n",
"er=4;\n",
"l=1000;\n",
"d_out=1.8;\n",
"d_in=1;\n",
"c=er*l*1e-9/41.4/log10(d_out/d_in)/10;\n",
"printf('Capacitance of the cable = %.3f uF \n\n', c*10e6);"
   ]
   }
,
{
		   "cell_type": "markdown",
		   "metadata": {},
		   "source": [
			"## Example 11.5: total_charging_kvar.sce"
		   ]
		  },
  {
"cell_type": "code",
	   "execution_count": null,
	   "metadata": {
	    "collapsed": true
	   },
	   "outputs": [],
"source": [
"//Chapter 11\n",
"//Example 11_5\n",
"//Page 276\n",
"clear;clc;\n",
"er=4;\n",
"l=1000;\n",
"d_in=10;\n",
"d_out=10+2*7;\n",
"v=66*1e3;\n",
"f=50;\n",
"c=er*l*1e-9/(41.4*log(d_out/d_in))*log(10);\n",
"printf('Capacitance of the cable = %.3f uF \n\n', c*10e5);\n",
"v_ph=v/sqrt(3);\n",
"xc=1/(2*%pi*f*c);\n",
"ic=v_ph/xc;\n",
"printf('Voltage between core and sheath = %.0f V \n\nCharging current = %.2f A \n\n', v_ph, ic);"
   ]
   }
,
{
		   "cell_type": "markdown",
		   "metadata": {},
		   "source": [
			"## Example 11.6: total_charging_kvar_1.sce"
		   ]
		  },
  {
"cell_type": "code",
	   "execution_count": null,
	   "metadata": {
	    "collapsed": true
	   },
	   "outputs": [],
"source": [
"//Chapter 11\n",
"//Example 11_6\n",
"//Page 276\n",
"clear;clc;\n",
"er=3;\n",
"l=4000;\n",
"d_in=2.5;\n",
"d_out=d_in+2*0.5;\n",
"v=33*1e3;\n",
"f=50;\n",
"c=er*l*1e-9/(41.4*log(d_out/d_in))*log(10);\n",
"printf('(i) Capacitance of the cable = %.3f uF \n\n', c*10e5);\n",
"v_ph=v/sqrt(3);\n",
"xc=1/(2*%pi*f*c);\n",
"ic=v_ph/xc;\n",
"printf('(ii) Voltage between core and sheath = %.0f V \n\n    Charging current/phase = %.2f A \n\n', v_ph, ic);\n",
"kvar=3*ic*v_ph;\n",
"printf('(iii) Total charging kVAR = %.2f*10^3 kVAR \n\n', kvar*1e-3);"
   ]
   }
,
{
		   "cell_type": "markdown",
		   "metadata": {},
		   "source": [
			"## Example 11.7: minimum_dielectric_stress.sce"
		   ]
		  },
  {
"cell_type": "code",
	   "execution_count": null,
	   "metadata": {
	    "collapsed": true
	   },
	   "outputs": [],
"source": [
"//Chapter 11\n",
"//Example 11_7\n",
"//Page 278\n",
"clear;clc;\n",
"v=33;\n",
"d_in=1;\n",
"d_out=4;\n",
"g_max=2*v/d_in/log(d_out/d_in);\n",
"g_min=2*v/d_out/log(d_out/d_in);\n",
"printf('Maximum stress in the insulation = %.2f kV/cm \n\n', g_max);\n",
"printf('Minimum stress in the insulation = %.2f kV/cm \n\n', g_min);"
   ]
   }
,
{
		   "cell_type": "markdown",
		   "metadata": {},
		   "source": [
			"## Example 11.8: operating_voltage.sce"
		   ]
		  },
  {
"cell_type": "code",
	   "execution_count": null,
	   "metadata": {
	    "collapsed": true
	   },
	   "outputs": [],
"source": [
"//Chapter 11\n",
"//Example 11_8\n",
"//Page 278\n",
"clear;clc;\n",
"g_max=40;\n",
"g_min=10;\n",
"d_in=2;\n",
"d_out=d_in*g_max/g_min;\n",
"v=g_max*d_in*log(d_out/d_in)/2;\n",
"printf('(i) Insulation thickness = %.0f cm \n\n', (d_out-d_in)/2);\n",
"printf('(ii) Operating voltage = %.2f kV rms \n\n', v);"
   ]
   }
,
{
		   "cell_type": "markdown",
		   "metadata": {},
		   "source": [
			"## Example 11.9: charging_current.sce"
		   ]
		  },
  {
"cell_type": "code",
	   "execution_count": null,
	   "metadata": {
	    "collapsed": true
	   },
	   "outputs": [],
"source": [
"//Chapter 11\n",
"//Example 11_9\n",
"//Page 279\n",
"clear;clc;\n",
"v=11;\n",
"area=0.645;\n",
"d_out=2.18;\n",
"er=3.5;\n",
"l=1000;\n",
"f=50;\n",
"d_in=sqrt(4*area/%pi);\n",
"g_max=2*v/d_in/log(d_out/d_in);\n",
"g_min=2*v/d_out/log(d_out/d_in);\n",
"printf('(i) Maximum stress in the insulation = %.2f kV/cm \n\n', g_max);\n",
"printf('(ii) Minimum stress in the insulation = %.2f kV/cm \n\n', g_min);\n",
"c=er*l*1e-9/(41.4*log(d_out/d_in))*log(10);\n",
"printf('(iii) Capacitance of the cable = %.3f uF \n\n', c*10e5);\n",
"xc=1/(2*%pi*f*c);\n",
"ic=v*1e3/xc;\n",
"printf('(iv) Charging current = %.2f A \n\n', ic);"
   ]
   }
],
"metadata": {
		  "kernelspec": {
		   "display_name": "Scilab",
		   "language": "scilab",
		   "name": "scilab"
		  },
		  "language_info": {
		   "file_extension": ".sce",
		   "help_links": [
			{
			 "text": "MetaKernel Magics",
			 "url": "https://github.com/calysto/metakernel/blob/master/metakernel/magics/README.md"
			}
		   ],
		   "mimetype": "text/x-octave",
		   "name": "scilab",
		   "version": "0.7.1"
		  }
		 },
		 "nbformat": 4,
		 "nbformat_minor": 0
}
