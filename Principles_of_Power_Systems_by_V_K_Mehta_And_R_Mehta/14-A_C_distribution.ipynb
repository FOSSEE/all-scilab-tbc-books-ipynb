{
"cells": [
 {
		   "cell_type": "markdown",
	   "metadata": {},
	   "source": [
       "# Chapter 14: A C distribution"
	   ]
	},
{
		   "cell_type": "markdown",
		   "metadata": {},
		   "source": [
			"## Example 14.10: phase_voltage_calculatio.sce"
		   ]
		  },
  {
"cell_type": "code",
	   "execution_count": null,
	   "metadata": {
	    "collapsed": true
	   },
	   "outputs": [],
"source": [
"//Chapter 14\n",
"//Example 14_10\n",
"//Page 371\n",
"clear;clc;\n",
"v=400;\n",
"ph_v=230;\n",
"r=0.2;\n",
"i=30;\n",
"pfr=-0.866;\n",
"pfy=0.866;\n",
"pfb=1;\n",
"ar=0;\n",
"ay=-120;\n",
"ab=120;\n",
"//referring to the phasor diagram given in the text book\n",
"air=-30;\n",
"aiy=-90;\n",
"aib=120;\n",
"vr=ph_v*(cos(0)-%i*sin(0));\n",
"vy=ph_v*(cos(-120*%pi/180)-%i*sin(-120*%pi/180));\n",
"vb=ph_v*(cos(120*%pi/180)-%i*sin(120*%pi/180));\n",
"ir=i*(cos(-30*%pi/180)+%i*sin(-30*%pi/180));\n",
"iy=i*(cos(-90*%pi/180)+%i*sin(-90*%pi/180));\n",
"ib=i*(cos(120*%pi/180)+%i*sin(120*%pi/180));\n",
"in=ir+iy+ib;\n",
"er=vr+r*ir+2*r*in;\n",
"printf('Vr = %.0f/_%.0f \n', ph_v, ar);\n",
"printf('Vy = %.0f/_%.0f \n', ph_v, ay);\n",
"printf('Vb = %.0f/_%.0f \n\n', ph_v, ab);\n",
"printf('Ir = %.0f/_%.0f \n', i, air);\n",
"printf('Iy = %.0f/_%.0f \n', i, aiy);\n",
"printf('Ib = %.0f/_%.0f \n\n', i, aib);\n",
"printf('Nuetral current = %.2f+j(%.2f) \n\n', real(in), imag(in));\n",
"printf('The supply voltage of phase R to nuetral = Er = %.2f/_%.2f volts \n\n', abs(er), atan(imag(er)/real(er))*180/%pi);"
   ]
   }
,
{
		   "cell_type": "markdown",
		   "metadata": {},
		   "source": [
			"## Example 14.11: voltages_across_lamps.sce"
		   ]
		  },
  {
"cell_type": "code",
	   "execution_count": null,
	   "metadata": {
	    "collapsed": true
	   },
	   "outputs": [],
"source": [
"//Chapter 14\n",
"//Example 14_11\n",
"//Page 372\n",
"clear;clc;\n",
"v=400;\n",
"ph_v=230;\n",
"w1=100;\n",
"w2=150;\n",
"r1=ph_v^2/w1;\n",
"r2=ph_v^2/w2;\n",
"i=v/(r1+r2);\n",
"v1=i*r1;\n",
"v2=i*r2;\n",
"printf('Resistance of lamp L1 = R1 = %.2f ohm \n\n', r1);\n",
"printf('Resistance of lamp L2 = R2 = %.2f ohm \n\n', r2);\n",
"printf('Curretn through lamps = %.3f A \n\n', i);\n",
"printf('Voltage across lamp L1 = V1 = %.0f V \n\n', v1);\n",
"printf('Voltage across lamp L2 = V2 = %.0f V \n\n', v2);"
   ]
   }
,
{
		   "cell_type": "markdown",
		   "metadata": {},
		   "source": [
			"## Example 14.1: voltage_drop_in_distributor.sce"
		   ]
		  },
  {
"cell_type": "code",
	   "execution_count": null,
	   "metadata": {
	    "collapsed": true
	   },
	   "outputs": [],
"source": [
"//Chapter 14\n",
"//Example 14_1\n",
"//Page 359\n",
"clear;clc;\n",
"l=300;\n",
"i1=100;\n",
"i2=200;\n",
"l1=200;\n",
"pf1=0.707;\n",
"pf2=0.8;\n",
"r=0.2;\n",
"x=0.1;\n",
"l2=l-l1;\n",
"z=r+%i*x;\n",
"Zac=z*l1/1000;\n",
"Zcb=z*l2/1000;\n",
"I2=i2*(pf2-%i*sin(acos(pf2)));\n",
"I1=i1*(pf1-%i*sin(acos(pf1)));\n",
"Icb=I2;\n",
"Iac=I1+I2;\n",
"Vcb=Icb*Zcb;\n",
"Vac=Iac*Zac;\n",
"vd=Vac+Vcb;\n",
"printf('Impedance of distributor/km = %.2f+j(%.2f) ohm \n\n', real(z), imag(z));\n",
"printf('Impedance of section AC = Zac = %.2f+j(%.2f) ohm \n', real(Zac), imag(Zac));\n",
"printf('Impedance of section CB = Zcb = %.2f+j(%.2f) ohm \n\n', real(Zcb), imag(Zcb));\n",
"printf('Load current at point B = %.2f+j(%.2f) A \n', real(I2), imag(I2));\n",
"printf('Load current at point C = %.2f+j(%.2f) A \n\n', real(I1), imag(I1));\n",
"printf('Current in section CB = %.2f+j(%.2f) A \n', real(Icb), imag(Icb));\n",
"printf('Current in section AC = %.2f+j(%.2f) A \n\n', real(Iac), imag(Iac));\n",
"printf('Voltage drop in section CB = %.2f+j(%.2f) A \n', real(Vcb), imag(Vcb));\n",
"printf('Voltage drop in section AC = %.2f+j(%.2f) A \n\n', real(Vac), imag(Vac));\n",
"printf('Voltage drop in the distributor = %.2f+j(%.2f) A \n\n', real(vd), imag(vd));\n",
"printf('Magnitude of drop = %.2f V \n\n', abs(vd));\n",
"  "
   ]
   }
,
{
		   "cell_type": "markdown",
		   "metadata": {},
		   "source": [
			"## Example 14.2: phase_difference_and_Vs.sce"
		   ]
		  },
  {
"cell_type": "code",
	   "execution_count": null,
	   "metadata": {
	    "collapsed": true
	   },
	   "outputs": [],
"source": [
"//Chapter 14\n",
"//Example 14_2\n",
"//Page 359\n",
"clear;clc;\n",
"l=2000;\n",
"i1=80;\n",
"pf1=0.9;\n",
"i2=120;\n",
"pf2=0.8;\n",
"r=0.05;\n",
"x=0.1;\n",
"Vb=230+%i*0;\n",
"l1=1000;\n",
"l2=l-l1;\n",
"z=r+%i*x;\n",
"Zac=z*l1/1000;\n",
"Zcb=z*l2/1000;\n",
"printf('Impedance of distributor/km = %.2f+j(%.2f) ohm \n\n', real(z), imag(z));\n",
"printf('Impedance of section AC = Zac = %.2f+j(%.2f) ohm \n', real(Zac), imag(Zac));\n",
"printf('Impedance of section CB = Zcb = %.2f+j(%.2f) ohm \n\n\n', real(Zcb), imag(Zcb));\n",
"I2=i2*(pf2-%i*sin(acos(pf2)));\n",
"I1=i1*(pf1-%i*sin(acos(pf1)));\n",
"printf('(i)Load current at point B = %.2f+j(%.2f) A \n', real(I2), imag(I2));\n",
"printf('Load current at point C = %.2f+j(%.2f) A \n\n', real(I1), imag(I1));\n",
"Icb=I2;\n",
"Iac=I1+I2;\n",
"Vcb=Icb*Zcb;\n",
"Vac=Iac*Zac;\n",
"printf('Current in section CB = %.2f+j(%.2f) A \n', real(Icb), imag(Icb));\n",
"printf('Current in section AC = %.2f+j(%.2f) A \n\n', real(Iac), imag(Iac));\n",
"printf('Voltage drop in section CB = %.2f+j(%.2f) A \n', real(Vcb), imag(Vcb));\n",
"printf('Voltage drop in section AC = %.2f+j(%.2f) A \n\n', real(Vac), imag(Vac));\n",
"Va=Vb+Vcb+Vac;\n",
"printf('Sending end voltage = %.2f+j(%.2f) \n', real(Va), imag(Va));\n",
"printf('Magnitude of sending end voltage = %.2f V \n\n\n', abs(Va));\n",
"pd=atan(imag(Va)/abs(Va));\n",
"printf('(ii)The phase difference between Va and Vb = %.2f degrees \n\n', pd*180/%pi);"
   ]
   }
,
{
		   "cell_type": "markdown",
		   "metadata": {},
		   "source": [
			"## Example 14.3: phase_difference.sce"
		   ]
		  },
  {
"cell_type": "code",
	   "execution_count": null,
	   "metadata": {
	    "collapsed": true
	   },
	   "outputs": [],
"source": [
"//Chapter 14\n",
"//Example 14_3\n",
"//Page 360\n",
"clear;clc;\n",
"r=0.1;\n",
"x=0.15;\n",
"Vb=200+%i*0;\n",
"i1=100;\n",
"pf2=0.8;\n",
"i2=100;\n",
"pf1=0.6;\n",
"z=r*2+%i*x*2;\n",
"Zam=z/2;\n",
"Zmb=z/2;\n",
"printf('Impedance of distributor/km = %.2f+j(%.2f) ohm \n\n', real(z), imag(z));\n",
"printf('Impedance of section AC = Zac = %.2f+j(%.2f) ohm \n', real(Zam), imag(Zam));\n",
"printf('Impedance of section CB = Zcb = %.2f+j(%.2f) ohm \n\n\n', real(Zmb), imag(Zmb));\n",
"//part 1\n",
"I2=i2*(pf2-%i*sin(acos(pf2)));\n",
"printf('(i)Load current at point B = %.2f+j(%.2f) A \n', real(I2), imag(I2));\n",
"Imb=I2;\n",
"printf('Current in section MB = %.2f+j(%.2f) A \n', real(Imb), imag(Imb));\n",
"Vmb=Imb*Zmb;\n",
"printf('Voltage drop in section MB = %.2f+j(%.2f) A \n', real(Vmb), imag(Vmb));\n",
"Vm=Vb+Vmb;\n",
"printf('Voltage at point M = %.2f+j(%.2f) \n', real(Vm), imag(Vm));\n",
"printf('Magnitude of Vm = %.2f V \n', abs(Vm));\n",
"alpha=atan(imag(Vm)/abs(Vm));\n",
"printf('Phase angle between Vm and Vb = %.2f degrees \n\n\n', alpha*180/%pi);\n",
"//part 2\n",
"phi1=acos(pf1)-alpha;\n",
"printf('Phase angle between I1 and Vb = %.2f degrees \n', phi1*180/%pi);\n",
"I1=i1*(cos(phi1)-%i*sin(phi1));\n",
"printf('(ii)Load current at point M = %.2f+j(%.2f) A \n', real(I1), imag(I1));\n",
"Iam=I1+I2;\n",
"printf('Current in section AM = %.2f+j(%.2f) A \n', real(Iam), imag(Iam));\n",
"Vam=Iam*Zam;\n",
"printf('Voltage drop in section AM = %.2f+j(%.2f) A \n', real(Vam), imag(Vam));\n",
"Va=Vm+Vam;\n",
"printf('Sending end voltage = %.2f+j(%.2f) \n', real(Va), imag(Va));\n",
"printf('Magnitude of sending end voltage = %.2f V \n\n\n', abs(Va));\n",
"pd=atan(imag(Va)/abs(Va));\n",
"printf('(iii)The phase difference between Va and Vb = %.2f degrees \n\n', pd*180/%pi);"
   ]
   }
,
{
		   "cell_type": "markdown",
		   "metadata": {},
		   "source": [
			"## Example 14.4: thevenins_theorem.sce"
		   ]
		  },
  {
"cell_type": "code",
	   "execution_count": null,
	   "metadata": {
	    "collapsed": true
	   },
	   "outputs": [],
"source": [
"//Chapter 14\n",
"//Example 14_4\n",
"//Page 362\n",
"clear;clc;\n",
"Ib=20;\n",
"Ic=15;\n",
"pfb=0.8;\n",
"pfc=0.6;\n",
"zab=1+%i*1;\n",
"zac=1+%i*3;\n",
"zbc=1+%i*2;\n",
"Iab=Ib*(pfb-%i*sin(acos(pfb)));\n",
"Iac=Ic*(pfc-%i*sin(acos(pfc)));\n",
"Vab=Iab*zab;\n",
"Vac=Iac*zac;\n",
"Eo=Vac-Vab;\n",
"Zo=zab+zac;\n",
"Ibc=Eo/(Zo+zbc);\n",
"Iabs=Iab-Ibc;\n",
"Iacs=Iac-Ibc;\n",
"Ia=Iab+Iac;\n",
"printf('Current in section AB = %.2f+j(%.2f) \n', real(Iab), imag(Iab));\n",
"printf('Current in section AC = %.2f+j(%.2f) \n', real(Iac), imag(Iac));\n",
"printf('Voltage drop in section AB = %.2f+j(%.2f) \n', real(Vab), imag(Vab));\n",
"printf('Voltage drop in section AC = %.2f+j(%.2f) \n', real(Vac), imag(Vac));\n",
"printf('Thevenins equivalent circuit emf Eo = %.2f+(%.2f) \n', real(Eo), imag(Eo));\n",
"printf('Thevenins equivalent impedance Zo = %.2f+(%.2f) \n', real(Zo), imag(Zo));\n",
"printf('Current in BC = %.2f+j(%.2f) \n', real(Ibc), imag(Ibc));\n",
"printf('Current in AB = %.2f+j(%.2f) \n', real(Iabs), imag(Iabs));\n",
"printf('Current in AC = %.2f+j(%.2f) \n', real(Iacs), imag(Iacs));\n",
"printf('Current fed at A = %.2f+j(%.2f) \n', real(Ia), imag(Ia));"
   ]
   }
,
{
		   "cell_type": "markdown",
		   "metadata": {},
		   "source": [
			"## Example 14.5: line_voltage_at_sending_end.sce"
		   ]
		  },
  {
"cell_type": "code",
	   "execution_count": null,
	   "metadata": {
	    "collapsed": true
	   },
	   "outputs": [],
"source": [
"//Chapter 14\n",
"//Example 14_5\n",
"//Page 363\n",
"clear;clc;\n",
"i1=5;\n",
"i2=14.08;\n",
"pf1=0.8;\n",
"pf2=0.85;\n",
"l1=600;\n",
"l2=400;\n",
"hp=10;\n",
"n=0.90;\n",
"vb=400;\n",
"r=1;\n",
"x=0.5;\n",
"z=r+%i*x;\n",
"Zac=z*l1/1000;\n",
"Zcb=z*l2/1000;\n",
"printf('Impedance of distributor/km = %.2f+j(%.2f) ohm \n\n', real(z), imag(z));\n",
"printf('Impedance of section AC = Zac = %.2f+j(%.2f) ohm \n', real(Zac), imag(Zac));\n",
"printf('Impedance of section CB = Zcb = %.2f+j(%.2f) ohm \n\n\n', real(Zcb), imag(Zcb));\n",
"Vb=vb/sqrt(3)+%i*0;\n",
"printf('Voltage at point B taken as the reference vector = %.0f+j%.0f \n', real(Vb), imag(Vb));\n",
"Ib=hp*746/sqrt(3)/vb/n/pf2;\n",
"I2=i2*(pf2-%i*sin(acos(pf2)));\n",
"I1=i1*(pf1-%i*sin(acos(pf1)));\n",
"Iac=I2+I1;\n",
"Icb=I2;\n",
"Vcb=Icb*Zcb;\n",
"Vac=Iac*Zac;\n",
"Va=Vb+Vcb+Vac;\n",
"printf('Line current at B = %.2f A \n\n', Ib);\n",
"printf('Load current at point B = %.2f+j(%.2f) A \n', real(I2), imag(I2));\n",
"printf('Load current at point C = %.2f+j(%.2f) A \n\n', real(I1), imag(I1));\n",
"printf('Current in section CB = %.2f+j(%.2f) A \n', real(Icb), imag(Icb));\n",
"printf('Current in section AC = %.2f+j(%.2f) A \n\n', real(Iac), imag(Iac));\n",
"printf('Voltage drop in section CB = %.2f+j(%.2f) A \n', real(Vcb), imag(Vcb));\n",
"printf('Voltage drop in section AC = %.2f+j(%.2f) A \n\n', real(Vac), imag(Vac));\n",
"printf('Voltage at A/phase = %.2f+j(%.2f) A \n\n', real(Va), imag(Va));\n",
"printf('Magnitude of Va/phase = %.2f V \n\n', abs(Va));\n",
"printf('Line voltage at A = %.2f V \n\n', abs(Va)*sqrt(3));"
   ]
   }
,
{
		   "cell_type": "markdown",
		   "metadata": {},
		   "source": [
			"## Example 14.6: station_voltages.sce"
		   ]
		  },
  {
"cell_type": "code",
	   "execution_count": null,
	   "metadata": {
	    "collapsed": true
	   },
	   "outputs": [],
"source": [
"//Chapter 14\n",
"//Example 14_6\n",
"//Page 365\n",
"x=139.7;\n",
"y=-42.8;\n",
"iab=x+%i*(y);\n",
"ibc=(x-40)+%i*(y+30);\n",
"icd=(x-160)+%i*(y+30);\n",
"ida=(x-220.6)+%i*(y+65);\n",
"va=11000/sqrt(3);\n",
"vb=va-(iab)*(1+%i*0.6);\n",
"vc=vb-(ibc)*(1.2+%i*0.9);\n",
"vd=vc-(icd)*(0.8+%i*0.5);\n",
"printf('Current in section AB = %.2f+j(%.2f) A \n', real(iab), imag(iab));\n",
"printf('Current in section BC = %.2f+j(%.2f) A \n', real(ibc), imag(ibc));\n",
"printf('Current in section CD = %.2f+j(%.2f) A \n', real(icd), imag(icd));\n",
"printf('Current in section DA = %.2f+j(%.2f) A \n\n', real(ida), imag(ida));\n",
"printf('Voltage at supply end = %d V/phase \n', va);\n",
"printf('Voltage at station B = %.2f+j(%.2f) V \n', real(vb), imag(vb));\n",
"printf('Voltage at station C = %.2f+j(%.2f) V \n', real(vc), imag(vc));\n",
"printf('Voltage at station D = %.2f+j(%.2f) V \n', real(vd), imag(vd));"
   ]
   }
,
{
		   "cell_type": "markdown",
		   "metadata": {},
		   "source": [
			"## Example 14.7: current_in_nuetral.sce"
		   ]
		  },
  {
"cell_type": "code",
	   "execution_count": null,
	   "metadata": {
	    "collapsed": true
	   },
	   "outputs": [],
"source": [
"//Chapter 14\n",
"//Example 14_7\n",
"//Page 368\n",
"clear;clc;\n",
"lr=10*1e3;\n",
"ly=8*1e3;\n",
"lb=5*1e3;\n",
"v=400;\n",
"ph_v=v/sqrt(3);\n",
"ir=lr/ph_v;\n",
"iy=ly/ph_v;\n",
"ib=lb/ph_v;\n",
"hc=iy*cos(30*%pi/180)-ib*cos(30*%pi/180);\n",
"vc=ir-iy*cos(60*%pi/180)-ib*cos(60*%pi/180);\n",
"in=sqrt(hc^2+vc^2);\n",
"printf('(i) Phase voltage = %.2f V \n', ph_v);\n",
"printf('\t Ir = %.1f A \n', ir);\n",
"printf('\t Iy = %.1f A \n', iy);\n",
"printf('\t Ib = %.1f A \n', ib);\n",
"printf('(ii) The three line currents are different in magnitude and displaced by 120 degrees from one another. Resolving currents on x and y axis:\n');\n",
"printf('\t Resultant horizontal component = %.1f A \n', hc);\n",
"printf('\t Resultant vertical component = %.1f A \n', vc);\n",
"printf('\t Current in nuetral wire = %.1f A \n', in);"
   ]
   }
,
{
		   "cell_type": "markdown",
		   "metadata": {},
		   "source": [
			"## Example 14.8: lamp_and_motor_load.sce"
		   ]
		  },
  {
"cell_type": "code",
	   "execution_count": null,
	   "metadata": {
	    "collapsed": true
	   },
	   "outputs": [],
"source": [
"//Chapter 14\n",
"//Example 14_8\n",
"//Page 369\n",
"clear;clc;\n",
"v=400;\n",
"vl=230;\n",
"ia=70;\n",
"ib=84;\n",
"ic=33;\n",
"im=200;\n",
"pf=0.2;\n",
"//part 1\n",
"printf('LAMP LOAD ALONE: \n');\n",
"//Refering to the phasor diagram in the book\n",
"hc=ib*cos(30*%pi/180)-ic*cos(30*%pi/180);\n",
"vc=ia-ib*cos(60*%pi/180)-ic*cos(60*%pi/180);\n",
"in=sqrt(hc^2+vc^2);\n",
"printf('Resultant horizontal component = %.2f A \n', hc);\n",
"printf('Resultant vertical component = %.2f A \n', vc);\n",
"printf('Neutral component = %.2f A \n\n', in);\n",
"//part 2\n",
"printf('BOTH LAMP AND MOTOR LOAD: \n');\n",
"ac=im*pf;\n",
"rc=im*sin(acos(pf));\n",
"Ir=sqrt((ac+ia)^2+rc^2);\n",
"Iy=sqrt((ac+ib)^2+rc^2);\n",
"Ib=sqrt((ac+ic)^2+rc^2);\n",
"printf('Nuetral current remains the same, ie In = %.2f A \n', in);\n",
"printf('Active component of motor current = %.0f A \n', ac);\n",
"printf('Reactive component of motor current = %.0f A \n', rc);\n",
"printf('\t Ir = %.2f A \n', Ir);\n",
"printf('\t Iy = %.2f A \n', Iy);\n",
"printf('\t Ib = %.2f A \n\n', Ib);\n",
"//part 3\n",
"printf('POWER SUPPLIED: \n');\n",
"pl=vl*(ia+ib+ic);\n",
"pm=sqrt(3)*v*im*pf;\n",
"printf('Power supplied to lamps = %.0f W \n', pl);\n",
"printf('Power supplied to motor = %.0f W \n', pm);"
   ]
   }
,
{
		   "cell_type": "markdown",
		   "metadata": {},
		   "source": [
			"## Example 14.9: component_currents.sce"
		   ]
		  },
  {
"cell_type": "code",
	   "execution_count": null,
	   "metadata": {
	    "collapsed": true
	   },
	   "outputs": [],
"source": [
"//Chapter 14\n",
"//Example 14_9\n",
"//Page 370\n",
"clear;clc;\n",
"v=400;\n",
"ph_v=230;\n",
"lr=20*1e3;\n",
"ly=28.75*1e3;\n",
"lb=28.75*1e3;\n",
"ir=lr/ph_v;\n",
"iy=ly/ph_v;\n",
"ib=lb/ph_v;\n",
"//referring to the phasor diagram in the text book\n",
"xc=ir-iy*cos(30*%pi/180)-ib*cos(30*%pi/180);\n",
"yc=iy*cos(60*%pi/180)-ib*cos(60*%pi/180);\n",
"in=sqrt(xc^2+yc^2);\n",
"printf('\t Ir = %.1f A \n', ir);\n",
"printf('\t Iy = %.1f A \n', iy);\n",
"printf('\t Ib = %.1f A \n\n', ib);\n",
"printf('\t Resultant X-component = %.1f A \n', xc);\n",
"printf('\t Resultant Y-component = %.1f A \n', yc);\n",
"printf('\t Current in nuetral wire = %.1f A \n\n', in);\n",
"printf('WHEN LOAD FROM B TO N IS REMOVED: \n');\n",
"printf('\t Ir = %.2f A in phase with Vrn \n', ir);\n",
"printf('\t Iy = %.2f A lagging Vyn by 30 degrees \n', iy);\n",
"printf('\t Ib = 0 A \n\n');\n",
"ac=ir-iy*cos(30*%pi/180);\n",
"rc=0-iy*sin(30*%pi/180);\n",
"nc=sqrt(ac^2+rc^2)\n",
"printf('Resultant X-component = %.2f A \n', ac);\n",
"printf('Resultant Y-component = %.2f A \n', rc);\n",
"printf('Nuetral current = %.2f A \n\n', nc);"
   ]
   }
],
"metadata": {
		  "kernelspec": {
		   "display_name": "Scilab",
		   "language": "scilab",
		   "name": "scilab"
		  },
		  "language_info": {
		   "file_extension": ".sce",
		   "help_links": [
			{
			 "text": "MetaKernel Magics",
			 "url": "https://github.com/calysto/metakernel/blob/master/metakernel/magics/README.md"
			}
		   ],
		   "mimetype": "text/x-octave",
		   "name": "scilab",
		   "version": "0.7.1"
		  }
		 },
		 "nbformat": 4,
		 "nbformat_minor": 0
}
