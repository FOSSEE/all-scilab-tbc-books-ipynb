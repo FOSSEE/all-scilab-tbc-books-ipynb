{
"cells": [
 {
		   "cell_type": "markdown",
	   "metadata": {},
	   "source": [
       "# Chapter 26: Neutral Grounding"
	   ]
	},
{
		   "cell_type": "markdown",
		   "metadata": {},
		   "source": [
			"## Example 26.1: peterson_coil_reactance.sce"
		   ]
		  },
  {
"cell_type": "code",
	   "execution_count": null,
	   "metadata": {
	    "collapsed": true
	   },
	   "outputs": [],
"source": [
"//Chapter 26\n",
"//Example 26_1\n",
"//Page 599\n",
"clear;clc;\n",
"f=50;\n",
"v=33*1e3;\n",
"c=4.5*1e-6;\n",
"xl=1/(3*2*%pi*f*c);\n",
"printf('Reactance of Peterson Coil = %.2f ohm \n\n', xl);"
   ]
   }
,
{
		   "cell_type": "markdown",
		   "metadata": {},
		   "source": [
			"## Example 26.2: peterson_coil_rating.sce"
		   ]
		  },
  {
"cell_type": "code",
	   "execution_count": null,
	   "metadata": {
	    "collapsed": true
	   },
	   "outputs": [],
"source": [
"//Chapter 26\n",
"//Example 26_2\n",
"//Page 599\n",
"clear;clc;\n",
"v=230*1e3;\n",
"lt=200;\n",
"c=0.02*1e-6;\n",
"f=50;\n",
"cle=c*lt;\n",
"l=1/(3*(2*%pi*f)^2*cle);\n",
"xl=2*%pi*f*l;\n",
"vph=v/sqrt(3);\n",
"fi=vph/xl;\n",
"rating=vph*fi;\n",
"printf('Capacitance of line to earth = %.6f F \n\n', cle);\n",
"printf('Required inductance of Peterson coil = %.2f F \n\n', l);\n",
"printf('Current through Peterson coil = %.0f A \n\n', fi);\n",
"printf('Rating of Peterson coil = %.0f kVA \n\n', rating/1000);"
   ]
   }
,
{
		   "cell_type": "markdown",
		   "metadata": {},
		   "source": [
			"## Example 26.3: reactance_to_nuetralize_capacitance.sce"
		   ]
		  },
  {
"cell_type": "code",
	   "execution_count": null,
	   "metadata": {
	    "collapsed": true
	   },
	   "outputs": [],
"source": [
"//Chapter 26\n",
"//Example 26_3\n",
"//Page 600\n",
"clear;clc;\n",
"f=50;\n",
"c=1.2*1e-6;\n",
"c1=c;\n",
"c2=0.9*c;\n",
"c3=0.8*c;\n",
"xl1=1/(3*2*%pi*f*c1);\n",
"xl1=1/(3*2*%pi*f*c2);\n",
"xl1=1/(3*2*%pi*f*c3);\n",
"printf('Inductive reactance of coil to nuetralize capacitance of 100%% of the length of the line is %.2f ohm \n\n', xl1);\n",
"printf('Inductive reactance of coil to nuetralize capacitance of 90%% of the length of the line is %.2f ohm \n\n', xl2);\n",
"printf('Inductive reactance of coil to nuetralize capacitance of 80%% of the length of the line is %.2f ohm \n\n', xl3);"
   ]
   }
,
{
		   "cell_type": "markdown",
		   "metadata": {},
		   "source": [
			"## Example 26.4: coil_rating.sce"
		   ]
		  },
  {
"cell_type": "code",
	   "execution_count": null,
	   "metadata": {
	    "collapsed": true
	   },
	   "outputs": [],
"source": [
"//Chapter 26\n",
"//Example 26_4\n",
"//PAge 600\n",
"clear;clc;\n",
"v=132*1e3;\n",
"f=50;\n",
"lt=200;\n",
"d=20;\n",
"s=4;\n",
"eo=8.854*1e-12;\n",
"r=d/2/1000;\n",
"c=2*%pi*eo/log(s/r);\n",
"w=2*%pi*f;\n",
"l=1/(3*w^2*c*lt)/1000;\n",
"xl=2*%pi*f*l;\n",
"fi=v/sqrt(3)/xl;\n",
"rating=v/sqrt(3)*fi;\n",
"printf('Capacitance between phase and nuetral = %.2f*10^-9 F/km \n\n', c*1e12);\n",
"printf('Capacitance between phase and earth = %.2f*10^-7 F \n\n', c*lt*1e7*1000);\n",
"printf('Required Inductance of the arc supression coil = %.2f H \n\n', l);\n",
"printf('Current through the coil = %.0f A \n\n', fi);\n",
"printf('Rating of the coil = %.0f kVA \n\n', rating/1000);"
   ]
   }
],
"metadata": {
		  "kernelspec": {
		   "display_name": "Scilab",
		   "language": "scilab",
		   "name": "scilab"
		  },
		  "language_info": {
		   "file_extension": ".sce",
		   "help_links": [
			{
			 "text": "MetaKernel Magics",
			 "url": "https://github.com/calysto/metakernel/blob/master/metakernel/magics/README.md"
			}
		   ],
		   "mimetype": "text/x-octave",
		   "name": "scilab",
		   "version": "0.7.1"
		  }
		 },
		 "nbformat": 4,
		 "nbformat_minor": 0
}
