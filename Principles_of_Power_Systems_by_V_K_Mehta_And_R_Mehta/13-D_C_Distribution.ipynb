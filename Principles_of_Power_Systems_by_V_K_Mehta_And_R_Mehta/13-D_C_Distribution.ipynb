{
"cells": [
 {
		   "cell_type": "markdown",
	   "metadata": {},
	   "source": [
       "# Chapter 13: D C Distribution"
	   ]
	},
{
		   "cell_type": "markdown",
		   "metadata": {},
		   "source": [
			"## Example 13.10: minimum_consumer_voltage.sce"
		   ]
		  },
  {
"cell_type": "code",
	   "execution_count": null,
	   "metadata": {
	    "collapsed": true
	   },
	   "outputs": [],
"source": [
"//Chapter 13\n",
"//Example 13_10\n",
"//Page 321\n",
"clear;clc;\n",
"Va=220;\n",
"Ic=20;\n",
"Id=40;\n",
"Ie=50;\n",
"If=30;\n",
"Vb=220;\n",
"Lac=100;\n",
"Lcd=150;\n",
"Lde=150;\n",
"Lef=100;\n",
"Lfb=100;\n",
"area=1;\n",
"p=1.7*1e-6;\n",
"//resistance for 100 m length of conductor\n",
"R=2*p*100/area;\n",
"Rac=R*Lac;\n",
"Rcd=R*Lcd;\n",
"Rde=R*Lde;\n",
"Ref=R*Lef;\n",
"Rfb=R*Lfb;\n",
"//considering drop across various sections of the distributor and adding them to calculate Ia\n",
"Ia=(Va-Vb+(Ic*Rcd)+(Ic+Id)*Rde+(Ic+Id+Ie)*Ref+(Ic+Id+Ie+If)*Rfb)/(Rac+Rcd+Rde+Ref+Rfb);\n",
"Ve=Va-(Ia*Rac+(Ia-Ic)*Rcd+(Ia-Ic-Id)*Rde);\n",
"printf('Resistance per 100 m of distributor = %.2f*10^-4 ohm \n\n', R*1e4);\n",
"printf('Resistance of section AC = %.3f ohm \n', Rac);\n",
"printf('Resistance of section CD = %.3f ohm \n', Rcd);\n",
"printf('Resistance of section DE = %.3f ohm \n', Rde);\n",
"printf('Resistance of section EF = %.3f ohm \n', Ref);\n",
"printf('Resistance of section FB = %.3f ohm \n\n', Rfb);\n",
"printf('Ia = %.1f A \n', Ia);\n",
"printf('Minimum consumer voltage = Ve = %.2f V \n', Ve);  "
   ]
   }
,
{
		   "cell_type": "markdown",
		   "metadata": {},
		   "source": [
			"## Example 13.11: currents_and_voltages.sce"
		   ]
		  },
  {
"cell_type": "code",
	   "execution_count": null,
	   "metadata": {
	    "collapsed": true
	   },
	   "outputs": [],
"source": [
"//Chapter 13\n",
"//Example 13_11\n",
"//Page 322\n",
"clear;clc;\n",
"Va=230;\n",
"Ic=25;\n",
"Id=50;\n",
"Ie=30;\n",
"If=40;\n",
"Vb=235;\n",
"Lac=50;\n",
"Lcd=25;\n",
"Lde=25;\n",
"Lef=50;\n",
"Lfb=50;\n",
"r=0.3;\n",
"l=200;\n",
"//resistance for 1000 m length of conductor\n",
"R=2*r;\n",
"Rac=R*Lac/1000;\n",
"Rcd=R*Lcd/1000;\n",
"Rde=R*Lde/1000;\n",
"Ref=R*Lef/1000;\n",
"Rfb=R*Lfb/1000;\n",
"//considering drop across various sections of the distributor and adding them to calculate Ia\n",
"Ia=(Va-Vb+(Ic*Rcd)+(Ic+Id)*Rde+(Ic+Id+Ie)*Ref+(Ic+Id+Ie+If)*Rfb)/(Rac+Rcd+Rde+Ref+Rfb);\n",
"Iac=Ia;\n",
"Icd=Ia-Ic;\n",
"Ide=Ia-Ic-Id;\n",
"Ief=Ia-Ic-Id-Ie;\n",
"Ifb=Ia-Ic-Id-Ie-If;\n",
"Vd=Va-(Iac*Rac+Icd*Rcd);\n",
"printf('Resistance per 1000 m of distributor = %.2f ohm \n\n', R);\n",
"printf('Resistance of section AC = %.3f ohm \n', Rac);\n",
"printf('Resistance of section CD = %.3f ohm \n', Rcd);\n",
"printf('Resistance of section DE = %.3f ohm \n', Rde);\n",
"printf('Resistance of section EF = %.3f ohm \n', Ref);\n",
"printf('Resistance of section FB = %.3f ohm \n\n', Rfb);\n",
"printf('Ia = %.1f A \n\n', Ia);\n",
"printf('(i) Current in section AC = Iac = %.2f A \n', Iac);\n",
"printf('    Current in section CD = Icd = %.2f A \n', Icd);\n",
"printf('    Current in section DE = Ide = %.2f A \n', Ide);\n",
"printf('    Current in section EF = Ief = %.2f A \n', Ief);\n",
"printf('    Current in section FB = Ifb = %.2f A \n\n', Ifb);\n",
"printf('(ii) Voltage at D = Vd = %.2f V \n', Vd  );  "
   ]
   }
,
{
		   "cell_type": "markdown",
		   "metadata": {},
		   "source": [
			"## Example 13.12: power_loss_in_distributor2.sce"
		   ]
		  },
  {
"cell_type": "code",
	   "execution_count": null,
	   "metadata": {
	    "collapsed": true
	   },
	   "outputs": [],
"source": [
"//Chapter 13\n",
"//Example 13_12\n",
"//Page 323\n",
"clear;clc;\n",
"Va=440;\n",
"Ic=100;\n",
"Id=200;\n",
"Ie=250;\n",
"If=300;\n",
"Vb=430;\n",
"Lac=150;\n",
"Lcd=150;\n",
"Lde=50;\n",
"Lef=100;\n",
"Lfb=150;\n",
"r=0.01;\n",
"l=600;\n",
"//resistance for 100 m length of conductor\n",
"R=2*r;\n",
"Rac=R*Lac/100;\n",
"Rcd=R*Lcd/100;\n",
"Rde=R*Lde/100;\n",
"Ref=R*Lef/100;\n",
"Rfb=R*Lfb/100;\n",
"//considering drop across various sections of the distributor and adding them to calculate Ia\n",
"Ia=(Va-Vb+(Ic*Rcd)+(Ic+Id)*Rde+(Ic+Id+Ie)*Ref+(Ic+Id+Ie+If)*Rfb)/(Rac+Rcd+Rde+Ref+Rfb);\n",
"Iac=Ia;\n",
"Icd=Ia-Ic;\n",
"Ide=Ia-Ic-Id;\n",
"Ief=Ia-Ic-Id-Ie;\n",
"Ifb=Ia-Ic-Id-Ie-If;\n",
"Ib=abs(Ifb);\n",
"P=Iac^2*Rac+Icd^2*Rcd+Ide^2*Rde+Ief^2*Ref+Ifb^2*Rfb;\n",
"printf('Resistance per 100 m of distributor = %.2f ohm \n\n', R);\n",
"printf('Resistance of section AC = %.3f ohm \n', Rac);\n",
"printf('Resistance of section CD = %.3f ohm \n', Rcd);\n",
"printf('Resistance of section DE = %.3f ohm \n', Rde);\n",
"printf('Resistance of section EF = %.3f ohm \n', Ref);\n",
"printf('Resistance of section FB = %.3f ohm \n\n', Rfb);\n",
"printf('Ia = %.1f A \n\n', Ia);\n",
"printf('(i) Current supplied from end A = Ia = %.2f A \n', Ia);\n",
"printf('    Current supplied from end B = Ib = %.2f A \n\n', Ib);\n",
"printf('(ii) Power loss in the distributor = %.3f kW \n\n', P/1000);  "
   ]
   }
,
{
		   "cell_type": "markdown",
		   "metadata": {},
		   "source": [
			"## Example 13.13: current_supplied_by_stations.sce"
		   ]
		  },
  {
"cell_type": "code",
	   "execution_count": null,
	   "metadata": {
	    "collapsed": true
	   },
	   "outputs": [],
"source": [
"//Chapter 13\n",
"//Example 13_13\n",
"//Page 324\n",
"clear;clc;\n",
"l=6;\n",
"va=600;\n",
"vb=590;\n",
"i=300;\n",
"r=0.04;\n",
"x=3.425;\n",
"ia=341.7-50*x;\n",
"ib=i-ia;\n",
"printf('(i) x = %.3f km \n', x);\n",
"printf('(ii) Current suplied by A = %.2f A \n', ia);\n",
"printf('     Current suplied by B = %.2f A \n', ib);"
   ]
   }
,
{
		   "cell_type": "markdown",
		   "metadata": {},
		   "source": [
			"## Example 13.14: maximum_voltage_drop.sce"
		   ]
		  },
  {
"cell_type": "code",
	   "execution_count": null,
	   "metadata": {
	    "collapsed": true
	   },
	   "outputs": [],
"source": [
"//Chapter 13\n",
"//Example 13_14\n",
"//Page 327\n",
"clear;clc;\n",
"l=1000;\n",
"i=0.5;\n",
"r_km=0.05;\n",
"v=220;\n",
"r=2*r_km/1000;\n",
"I=i*l;\n",
"R=r*l;\n",
"vd=I*R/8;\n",
"maxv=v-vd;\n",
"printf('Resistance of distributor per metre = %.1f*10^-3 ohm \n\n', r*1e3);\n",
"printf('Total current supplied by distributor = %d A \n\n', I);\n",
"printf('Total resistance of the distributor = %.1f ohm \n\n', R);\n",
"printf('Maximum voltage drop = %.2f V \n\n', vd);\n",
"printf('Maximm voltage drop will occur at the midpoint of the distributor = %.2f V \n\n', maxv);"
   ]
   }
,
{
		   "cell_type": "markdown",
		   "metadata": {},
		   "source": [
			"## Example 13.15: currents_supplied_from_two_ends.sce"
		   ]
		  },
  {
"cell_type": "code",
	   "execution_count": null,
	   "metadata": {
	    "collapsed": true
	   },
	   "outputs": [],
"source": [
"//Chapter 13\n",
"//Example 13_15\n",
"//Page 327\n",
"clear;clc;\n",
"l=500;\n",
"i=1;\n",
"Va=255;\n",
"Vb=250;\n",
"r_km=0.1;\n",
"r=2*r_km/1000;\n",
"x=(Va-Vb)/(i*r*l)+(l/2);\n",
"Vc=Va-i*r*x^2/2;\n",
"ia=i*x;\n",
"ib=i*(l-x);\n",
"printf('Resistance of distributor per metre = %.4f ohm \n\n', r);\n",
"printf('(i) Minimum potential occurs at %d m from A \n\n', x);\n",
"printf('    Minimum voltage Vc = %d V \n\n', Vc);\n",
"printf('(ii) Current supplied from A = %d A \n\n', ia);\n",
"printf('     Current supplied from B = %d A \n\n', ib);"
   ]
   }
,
{
		   "cell_type": "markdown",
		   "metadata": {},
		   "source": [
			"## Example 13.16: voltage_calculations.sce"
		   ]
		  },
  {
"cell_type": "code",
	   "execution_count": null,
	   "metadata": {
	    "collapsed": true
	   },
	   "outputs": [],
"source": [
"//Chapter 13\n",
"//Example 13_16\n",
"//Page 328\n",
"clear;clc;\n",
"i=1.25;\n",
"//minimum voltage occurs at point C\n",
"Vc=220;\n",
"x=450;\n",
"r_km=0.05;\n",
"l=800;\n",
"r=2*r_km/1000;\n",
"Vac=i*r*x^2/2;\n",
"Va=Vc+Vac;\n",
"Vbc=i*r*(l-x)^2/2;\n",
"Vb=Vc+Vbc;\n",
"printf('Voltage drop in section AC = %.2f V \n\n', Vac);\n",
"printf('Voltage at feeding point A = %.2f V \n\n', Va);\n",
"printf('Voltage drop in section BC = %.2f V \n\n', Vbc);\n",
"printf('Voltage at feeding point B = %.2f V \n\n', Vb);"
   ]
   }
,
{
		   "cell_type": "markdown",
		   "metadata": {},
		   "source": [
			"## Example 13.17: max_voltage_drop_2.sce"
		   ]
		  },
  {
"cell_type": "code",
	   "execution_count": null,
	   "metadata": {
	    "collapsed": true
	   },
	   "outputs": [],
"source": [
"//Chapter 13\n",
"//Example 13_17\n",
"//Page 329\n",
"clear;clc;\n",
"l=1000;\n",
"i=1.25;\n",
"r_km=0.05;\n",
"r=2*r_km/1000;\n",
"I=i*l;\n",
"R=r*l;\n",
"vd=I*R/8;\n",
"//Part 1 is derivation of maximum voltage drop and is not included in the code. Only Part 2 is solved.\n",
" \n",
"printf('(i) Total current supplied by distributor = %d A \n\n', I);\n",
"printf('Total resistance of the distributor = %.1f ohm \n\n', R);\n",
"printf('Maximum voltage drop = %.2f V \n\n', vd);"
   ]
   }
,
{
		   "cell_type": "markdown",
		   "metadata": {},
		   "source": [
			"## Example 13.19: concentrated_and_uniform_loads.sce"
		   ]
		  },
  {
"cell_type": "code",
	   "execution_count": null,
	   "metadata": {
	    "collapsed": true
	   },
	   "outputs": [],
"source": [
"//Chapter 13\n",
"//Example 13_19\n",
"//Page 330\n",
"clear;clc;\n",
"l=900;\n",
"Va=400;\n",
"Ic=50;\n",
"Id=100;\n",
"Ie=150;\n",
"Lac=200;\n",
"Lcd=300;\n",
"Lde=300;\n",
"Leb=100;\n",
"r=0.0001;\n",
"x=500;\n",
"i=0.5;\n",
"Rac=Lac*r;\n",
"Rcd=Lcd*r;\n",
"Rde=Lde*r;\n",
"Ide=Ie;\n",
"Icd=Ie+Id;\n",
"Iac=Ic+Icd;\n",
"Vac=Iac*Rac;\n",
"Vcd=Rcd*Icd;\n",
"Vde=Ide*Rde;\n",
"tdrop=Vac+Vcd+Vde;\n",
"Vab=i*r*l^2/2;\n",
"Vad=i*r*(l*x-x^2/2);\n",
"Vb=Va-(tdrop+Vab);\n",
"Vd=Va-(Vac+Vcd+Vad);\n",
"disp('DROPS DUE TO CONCENTRATED LOADS: ');\n",
"printf('Iac = %d A \n', Iac);\n",
"printf('Icd = %d A \n', Icd);\n",
"printf('Ide = %d A \n\n', Ide);\n",
"printf('Drop in section AC = %.2f V \n', Vac);\n",
"printf('Drop in section CD = %.2f V \n', Vcd);\n",
"printf('Drop in section DE = %.2f V \n', Vde);\n",
"printf('Total drop over AB = %.2f V \n\n\n', tdrop);\n",
"disp('DROPS DUE TO UNIFORM LOADING: ');\n",
"printf('Drop over AB = %.2f V \n', Vab);\n",
"printf('Drop over Ad = %.2f V \n\n', Vad);\n",
"printf('(i) Voltage at point B = %.2f V \n\n', Vb);\n",
"printf('(ii) Voltage at point D = %.2f V \n\n', Vd);"
   ]
   }
,
{
		   "cell_type": "markdown",
		   "metadata": {},
		   "source": [
			"## Example 13.1: PD_at_each_point.sce"
		   ]
		  },
  {
"cell_type": "code",
	   "execution_count": null,
	   "metadata": {
	    "collapsed": true
	   },
	   "outputs": [],
"source": [
"//Chapter 13\n",
"//Example 13_1\n",
"//Page 313\n",
"clear;clc;\n",
"Va=300;\n",
"Ic=100;\n",
"Id=150;\n",
"Ie=200;\n",
"Ib=50;\n",
"Lac=500;\n",
"Lcd=400;\n",
"Lde=600;\n",
"Leb=400;\n",
"r=0.01;\n",
"R=r*2;\n",
"Rac=R*Lac/1000;\n",
"Rcd=R*Lcd/1000;\n",
"Rde=R*Lde/1000;\n",
"Reb=R*Leb/1000;\n",
"Ieb=Ib;\n",
"Ide=Ieb+Ie;\n",
"Icd=Ide+Id;\n",
"Iac=Icd+Ic;\n",
"Vc=Va-Iac*Rac;\n",
"Vd=Vc-Icd*Rcd;\n",
"Ve=Vd-Ide*Rde;\n",
"Vb=Ve-Ieb*Reb;\n",
"printf('Resistance per 1000m of distributor = %.2f ohm \n\n', R);\n",
"printf('Resistance of section AC = %.3f ohm \n', Rac);\n",
"printf('Resistance of section CD = %.3f ohm \n', Rcd);\n",
"printf('Resistance of section DE = %.3f ohm \n', Rde);\n",
"printf('Resistance of section EB = %.3f ohm \n\n', Reb);\n",
"printf('I_EB = %.0f A \n', Ieb);\n",
"printf('I_DE = %.0f A \n', Ide);\n",
"printf('I_CD = %.0f A \n', Icd);\n",
"printf('I_AC = %.0f A \n\n', Iac);\n",
"printf('Potential difference at load point C = Vc = %.1f V \n', Vc);\n",
"printf('Potential difference at load point D = Vd = %.1f V \n', Vd);\n",
"printf('Potential difference at load point E = Ve = %.1f V \n', Ve);\n",
"printf('Potential difference at load point B = Vb = %.1f V \n', Vb);  "
   ]
   }
,
{
		   "cell_type": "markdown",
		   "metadata": {},
		   "source": [
			"## Example 13.20: loading.sce"
		   ]
		  },
  {
"cell_type": "code",
	   "execution_count": null,
	   "metadata": {
	    "collapsed": true
	   },
	   "outputs": [],
"source": [
"//Chapter 13\n",
"//Example 13_20\n",
"//Page 331\n",
"clear;clc;\n",
"l=1000;\n",
"r=0.1;\n",
"va=240;\n",
"vb=240;\n",
"i_load=0.5;\n",
"ic=120;\n",
"id=60;\n",
"ie=100;\n",
"i_f=40;\n",
"//solving for current\n",
"I=166;\n",
"printf('(i) I = %d A \n\n', I);\n",
"Ia=I+i_load*400;\n",
"Ib=154+i_load*(l-400);\n",
"printf('(ii) Current supplied by A = %d A \n', Ia);\n",
"printf('     Current supplied by B = %d A \n', Ib);\n",
"//drop due to concentrated loading\n",
"cld=I*200/10000+46*200/10000;\n",
"//drop due to distributed loading\n",
"dld=i_load*400^2/2/10000;\n",
"vd=va-cld-dld;\n",
"printf('Drop due to concentrated loading = %.2f V \n', cld);\n",
"printf('Drop due to distributed loading = %.2f V \n', dld);\n",
"printf('Vd = %.2f V \n', vd);\n",
"  "
   ]
   }
,
{
		   "cell_type": "markdown",
		   "metadata": {},
		   "source": [
			"## Example 13.21: point_of_min_potential.sce"
		   ]
		  },
  {
"cell_type": "code",
	   "execution_count": null,
	   "metadata": {
	    "collapsed": true
	   },
	   "outputs": [],
"source": [
"//Chapter 13\n",
"//Example 13_21\n",
"//Page 332\n",
"clear;clc;\n",
"l=500;\n",
"v=240;\n",
"r=0.001;\n",
"x=50;\n",
"printf('(i) Point of minimum potential = %d A \n\n', x);\n",
"tc=160+200;\n",
"Ia=100+x;\n",
"Ib=360-150;\n",
"vd=v-150*(100*r)-x*(150*r);\n",
"printf('(ii)Total current = %d A \n', tc);\n",
"printf('Current supplied by A = %d A \n', Ia);\n",
"printf('Current supplied by B = %d A \n', Ib);\n",
"printf('Minimum potential = %.2f V \n', vd);"
   ]
   }
,
{
		   "cell_type": "markdown",
		   "metadata": {},
		   "source": [
			"## Example 13.22: ring_distributor.sce"
		   ]
		  },
  {
"cell_type": "code",
	   "execution_count": null,
	   "metadata": {
	    "collapsed": true
	   },
	   "outputs": [],
"source": [
"//Chapter 13\n",
"//Example 13_22\n",
"//Page 334\n",
"clear;clc;\n",
"l=300;\n",
"va=240;\n",
"lab=150;\n",
"ib=120;\n",
"lbc=50;\n",
"ic=80;\n",
"lca=100;\n",
"r=0.03;\n",
"rd=2*r;\n",
"rab=rd*lab/100;\n",
"rbc=rd*lbc/100;\n",
"rca=rd*lca/100;\n",
"Ia=86.67;\n",
"Iab=Ia;\n",
"Ibc=Ia-ib;\n",
"Ica=Ia-(ib+ic);\n",
"Vb=va-Iab*rab;\n",
"Vc=Vb+Ibc*rbc;\n",
"printf('Resistance per 100m = %.2f ohms \n', rd);\n",
"printf('Rab = %.2f ohms \n', rab);\n",
"printf('Rbc = %.2f ohms \n', rbc);\n",
"printf('Rca = %.2f ohms \n\n', rca);\n",
"printf('(i) Ia = %.2f A \n', Ia);\n",
"printf('Iab = %.2f \n', Iab);\n",
"printf('Ibc = %.2f \n', Ibc);\n",
"printf('Ica = %.2f \n\n', Ica);\n",
"printf('(ii) Vb = %.2f V \n', Vb);\n",
"printf('     Vc = %.2f V \n', Vc)"
   ]
   }
,
{
		   "cell_type": "markdown",
		   "metadata": {},
		   "source": [
			"## Example 13.23: current_tapping.sce"
		   ]
		  },
  {
"cell_type": "code",
	   "execution_count": null,
	   "metadata": {
	    "collapsed": true
	   },
	   "outputs": [],
"source": [
"//Chapter 13\n",
"//Example 13_23\n",
"//Page 335\n",
"clear;clc;\n",
"v=220;\n",
"ib=10;\n",
"ic=20;\n",
"id=30;\n",
"ie=10;\n",
"rab=0.1;\n",
"rbc=0.05;\n",
"rcd=0.01;\n",
"rde=0.025;\n",
"rea=0.075;\n",
"//by solving for current through the loop,\n",
"I=29.04;\n",
"printf('(i) I = %.2f A \n\n', I);\n",
"iab=I;\n",
"ibc=I-ib;\n",
"icd=I-(ib+ic);\n",
"ide=I-(ib+ic+id);\n",
"iea=I-(ib+ic+id+ie);\n",
"printf('Iab = %.2f A \n', iab);\n",
"printf('Ibc = %.2f A \n', ibc);\n",
"printf('Icd = %.2f A \n', icd);\n",
"printf('Ide = %.2f A \n', ide);\n",
"printf('Iea = %.2f A \n', iea);"
   ]
   }
,
{
		   "cell_type": "markdown",
		   "metadata": {},
		   "source": [
			"## Example 13.24: currents_and_voltages.sce"
		   ]
		  },
  {
"cell_type": "code",
	   "execution_count": null,
	   "metadata": {
	    "collapsed": true
	   },
	   "outputs": [],
"source": [
"//Chapter 13\n",
"//Example 13_24\n",
"//Page 336\n",
"clear;clc;\n",
"va=250;\n",
"rab=0.02;\n",
"rbc=0.018;\n",
"rcd=0.025;\n",
"rda=0.02;\n",
"ib=150;\n",
"ic=300;\n",
"id=250;\n",
"//interconnector resistance\n",
"icr=0.02;\n",
"I=(rbc*ib+rcd*(ib+ic)+rda*(ib+ic+id))/(rab+rbc+rcd+rda);\n",
"printf('I = %.2f A \n', I);\n",
"//from fig(ii)\n",
"vab=I*rab;\n",
"vbc=186.75*rbc;\n",
"vcd=113.25*rcd;\n",
"vda=363.25*rda;\n",
"vb=va-vab;\n",
"vc=vb-vbc;\n",
"vd=vc+vcd;\n",
"printf('Vab = %.3f V \n', vab);\n",
"printf('Vbc = %.3f V \n', vbc);\n",
"printf('Vcd = %.3f V \n', vcd);\n",
"printf('Vda = %.3f V \n\n', vda);\n",
"printf('Vb = %.3f V \n', vb);\n",
"printf('Vc = %.3f V \n', vc);\n",
"printf('Vd = %.3f V \n\n', vd);\n",
"printf('WITH INTERCONNECTOR: \n');\n",
"eo=va-vc;\n",
"ro=(rab+rbc)*(rab+rcd)/(rab+rbc+rab+rcd);\n",
"ith=eo/(ro+rab);\n",
"I1=(rbc*ib+rda*ith)/(rab+rbc);\n",
"dab=I1*rab;\n",
"dbc=53.15*rbc;\n",
"dad=244.45*rda;\n",
"pb=va-dab;\n",
"pc=pb-dbc;\n",
"pd=va-dad;\n",
"printf('Thevenin voltage = %.3f V \n', eo);\n",
"printf('Rac = %.2f ohms \n', ro);\n",
"printf('Current in interconnecter = %.2f A \n\n', ith);\n",
"printf('I1 = %.2f A \n', I1);\n",
"printf('Drop in AB = %.3f V \n', dab);\n",
"printf('Drop in BC = %.3f V \n', dbc);\n",
"printf('Drop in AD = %.3f V \n\n', dad);\n",
"printf('Potential of B = %.3f V \n', pb);\n",
"printf('Potential of C = %.3f V \n', pc);\n",
"printf('Potential of D = %.3f V \n\n', pd);"
   ]
   }
,
{
		   "cell_type": "markdown",
		   "metadata": {},
		   "source": [
			"## Example 13.25: interconnector_paramenters.sce"
		   ]
		  },
  {
"cell_type": "code",
	   "execution_count": null,
	   "metadata": {
	    "collapsed": true
	   },
	   "outputs": [],
"source": [
"//Chapter 13\n",
"//Example 13_25\n",
"//Page 338\n",
"clear;clc;\n",
"I=10.65/0.26;\n",
"vbd=30.96*.025+.96*.01;\n",
"e0=.7836;\n",
"r0=(.075+.1+.05)*(.025+.01)/(.075+.1+.05+.025+.01);\n",
"ibd=e0/(r0+0.05);\n",
"vdrop=9.8*0.05;\n",
"printf('I = %.2f A \n', I);\n",
"printf('Voltage drop along BCD = %.4f V \n', vbd);\n",
"printf('Thevenin voltage E0 = %.4f V \n', e0);\n",
"printf('Ro = %.3f ohms \n', r0);\n",
"printf('(i) Current in interconnector = %.2f A \n', ibd);\n",
"printf('(ii) Voltage drop along interconnector = %.2f V \n', vdrop);"
   ]
   }
,
{
		   "cell_type": "markdown",
		   "metadata": {},
		   "source": [
			"## Example 13.26: voltage_at_loads.sce"
		   ]
		  },
  {
"cell_type": "code",
	   "execution_count": null,
	   "metadata": {
	    "collapsed": true
	   },
	   "outputs": [],
"source": [
"//Chapter 13\n",
"//Example 13_26\n",
"//Page 341\n",
"clear;clc;\n",
"I1=50;\n",
"I2=40;\n",
"r=0.1;\n",
"v=250;\n",
"Rae=0.1;\n",
"Rnl=0.2;\n",
"Rbg=0.1;\n",
"Vel=v-I1*Rae-(I1-I2)*Rnl;\n",
"Vlg=v+(I1-I2)*Rnl-I2*Rbg;\n",
"printf('Voltage at the load end on the +ve side = %d V \n\n', Vel);\n",
"printf('Voltage at the load end on the -ve side = %d V \n\n', Vlg);"
   ]
   }
,
{
		   "cell_type": "markdown",
		   "metadata": {},
		   "source": [
			"## Example 13.27: voltage_at_load_end.sce"
		   ]
		  },
  {
"cell_type": "code",
	   "execution_count": null,
	   "metadata": {
	    "collapsed": true
	   },
	   "outputs": [],
"source": [
"//Chapter 13\n",
"//Example 13_27\n",
"//Page 342\n",
"clear;clc;\n",
"v1=240;\n",
"v2=240;\n",
"r1=5;\n",
"r2=6;\n",
"Rae=0.1;\n",
"Rnl=0.1;\n",
"Rbc=0.1;\n",
"I1=v1/r1;\n",
"I2=v2/r2;\n",
"In=I1-I2;\n",
"V1=v1+I1*Rae+In*Rnl;\n",
"V2=v2-In*Rnl+I2*Rbc;\n",
"printf('Current on +ve outer = %d A \n\n', I1);\n",
"printf('Current on -ve outer = %d A \n\n', I2);\n",
"printf('Current in nuetral = %d A \n\n', In);\n",
"printf('Voltage at the load end on the +ve side = %.2f V \n\n', V1);\n",
"printf('Voltage at the load end on the -ve side = %.2f V \n\n', V2);"
   ]
   }
,
{
		   "cell_type": "markdown",
		   "metadata": {},
		   "source": [
			"## Example 13.28: voltage_calculations_2.sce"
		   ]
		  },
  {
"cell_type": "code",
	   "execution_count": null,
	   "metadata": {
	    "collapsed": true
	   },
	   "outputs": [],
"source": [
"//Chapter 13\n",
"//Example 13_28\n",
"//Page 343\n",
"clear;clc;\n",
"v1=250;\n",
"v2=250;\n",
"l1=35;\n",
"l2=20;\n",
"r1=v1^2/l1/1000;\n",
"r2=v2^2/l2/1000;\n",
"I=(v1+v2)/(r1+r2);\n",
"V1=I*r1;\n",
"V2=I*r2;\n",
"printf('Resistance of load on the +ve side = %.3f ohm \n\n', r1);\n",
"printf('Resistance of load on the -ve side = %.3f ohm \n\n', r2);\n",
"printf('Circuit current = %.2f A \n\n', I);\n",
"printf('Voltage across +ve outer and middle wire = %.1f V \n\n', V1);\n",
"printf('Voltage across -ve outer and middle wire = %.1f V \n\n', V2);"
   ]
   }
,
{
		   "cell_type": "markdown",
		   "metadata": {},
		   "source": [
			"## Example 13.29: voltage_across_various_loads.sce"
		   ]
		  },
  {
"cell_type": "code",
	   "execution_count": null,
	   "metadata": {
	    "collapsed": true
	   },
	   "outputs": [],
"source": [
"//Chapter 13\n",
"//Example 13_29\n",
"//Page 344\n",
"clear;clc;\n",
"v1=250;\n",
"v2=250;\n",
"r=[0.015 0.01 0.006 0.014 0.02 0.02 0.024 0.02];\n",
"i=[50 30 30 6 14 10 36 60];\n",
"v=r.*i;\n",
"vck=v1-v(1)-v(5)+v(6);\n",
"vdm=vck-v(2)-v(3)+v(4);\n",
"vjg=v2-v(6)-v(8);\n",
"vlh=vjg+v(5)-v(4)-v(7);\n",
"printf('Voltage acorss load CK = %.2f V \n\n', vck);\n",
"printf('Voltage acorss load DM = %.2f V \n\n', vdm);\n",
"printf('Voltage acorss load JG = %.2f V \n\n', vjg);\n",
"printf('Voltage acorss load LH = %.2f V \n\n', vlh);"
   ]
   }
,
{
		   "cell_type": "markdown",
		   "metadata": {},
		   "source": [
			"## Example 13.2: cross_sectional_area_of_conductor.sce"
		   ]
		  },
  {
"cell_type": "code",
	   "execution_count": null,
	   "metadata": {
	    "collapsed": true
	   },
	   "outputs": [],
"source": [
"//Chapter 13\n",
"//Example 13_2\n",
"//Page 314\n",
"clear;clc;\n",
"ll=300;\n",
"max_drop=10;\n",
"p=1.78*1e-8;\n",
"Lac=40;\n",
"Lcd=60;\n",
"Lde=50;\n",
"Lef=100;\n",
"Lfb=50;\n",
"Ic=30;\n",
"Id=40;\n",
"Ie=100;\n",
"If=50;\n",
"Ief=If;\n",
"Ide=Ief+Ie;\n",
"Icd=Ide+Id;\n",
"Iac=Icd+Ic;\n",
"Rac=Lac/100;\n",
"Rcd=Lcd/100;\n",
"Rde=Lde/100;\n",
"Ref=Lef/100;\n",
"vd=Iac*Rac+Icd*Rcd+Ide*Rde+Ief*Ref;\n",
"r=max_drop/vd;\n",
"//for 100 m length of the conductor area is given by,\n",
"area=p*100*2/r;\n",
"printf('Resistance of 100 m length of distributor = %.5f ohm \n\n', r);\n",
"printf('Area = %.3f cm^2 \n', area*1e4);\n",
"  "
   ]
   }
,
{
		   "cell_type": "markdown",
		   "metadata": {},
		   "source": [
			"## Example 13.30: voltage_across_various_loads_3.sce"
		   ]
		  },
  {
"cell_type": "code",
	   "execution_count": null,
	   "metadata": {
	    "collapsed": true
	   },
	   "outputs": [],
"source": [
"//Chapter 13\n",
"//Example 13_30\n",
"//Page 344\n",
"clear;clc;\n",
"l=[200 160 240 100 60 100 100 340 160 100];\n",
"r=0.02;\n",
"R=r.*l/100;\n",
"i=[100 40 15 25 35 25 5 15 75 95];\n",
"v=R.*i;\n",
"v1=250;\n",
"v2=250;\n",
"vck=v1-v(1)-v(5)-v(7);\n",
"vdm=vck-v(2)-v(4)+v(5);\n",
"vjg=v2+v(7)-v(10);\n",
"vlh=vjg+v(6)-v(5)-v(9);\n",
"vpf=vlh+v(4)-v(3)-v(8);\n",
"printf('Voltage acorss load CK = %.2f V \n\n', vck);\n",
"printf('Voltage acorss load DM = %.2f V \n\n', vdm);\n",
"printf('Voltage acorss load JG = %.2f V \n\n', vjg);\n",
"printf('Voltage acorss load LH = %.2f V \n\n', vlh);\n",
"printf('Voltage acorss load PF = %.2f V \n\n', vpf);"
   ]
   }
,
{
		   "cell_type": "markdown",
		   "metadata": {},
		   "source": [
			"## Example 13.31: break_in_lines.sce"
		   ]
		  },
  {
"cell_type": "code",
	   "execution_count": null,
	   "metadata": {
	    "collapsed": true
	   },
	   "outputs": [],
"source": [
"//Chapter 13\n",
"//Example 13_31\n",
"//Page 345\n",
"clear;clc;\n",
"v1=240;\n",
"v2=240;\n",
"r1=4;\n",
"r2=6;\n",
"Rae=0.15;\n",
"Rnl=0.15;\n",
"Rbc=0.15;\n",
"i1=v1/r1;\n",
"i2=v2/r2;\n",
"in=i1-i2;\n",
"V1=v1+i1*Rae+in*Rnl;\n",
"V2=v2-in*Rnl+i2*Rbc;\n",
"printf('Current on +ve outer = %d A \n', i1);\n",
"printf('Current on -ve outer = %d A \n', i2);\n",
"printf('Current in nuetral = %d A \n\n', in);\n",
"printf('Voltage at the load end on the +ve side = %.2f V \n', V1);\n",
"printf('Voltage at the load end on the -ve side = %.2f V \n\n\n', V2);\n",
"disp('(i) WHEN NUETRAL BREAKS: ');\n",
"tr=r1+r2+Rae+Rbc;\n",
"i=(V1+V2)/tr;\n",
"vn1=i*r1;\n",
"vn2=i*r2;\n",
"printf('Total circuit resistance = %.1f ohm \n', tr);\n",
"printf('Load current = %.2f A \n', i);\n",
"printf('Voltage across %d ohm resistance = %.2f V \n', r1, vn1);\n",
"printf('Voltage across %d ohm resistance = %.2f V \n\n', r2, vn2);\n",
"disp('(ii) WHEN +VE OUTER BREAKS: ');\n",
"trd=r2+Rbc+Rnl;\n",
"id=V2/trd;\n",
"vd=id*r2;\n",
"printf('Total circuit resistance = %.1f ohm \n', trd);\n",
"printf('Load current = %.2f A \n', id);\n",
"printf('Voltage across %d ohm resistance = %.2f V \n\n', r2, vd);\n",
"disp('(iii) WHEN -VE OUTER BREAKS: ');\n",
"trdd=r1+Rae+Rnl;\n",
"idd=V1/trdd;\n",
"vdd=idd*r1;\n",
"printf('Total circuit resistance = %.1f ohm \n', trdd);\n",
"printf('Load current = %.2f A \n', idd);\n",
"printf('Voltage across %d ohm resistance = %.2f V \n\n', r1, vdd);"
   ]
   }
,
{
		   "cell_type": "markdown",
		   "metadata": {},
		   "source": [
			"## Example 13.32: current_in_two_machines.sce"
		   ]
		  },
  {
"cell_type": "code",
	   "execution_count": null,
	   "metadata": {
	    "collapsed": true
	   },
	   "outputs": [],
"source": [
"//Chapter 13\n",
"//Example 13_32\n",
"//Page 348\n",
"clear;clc;\n",
"v1=250;\n",
"v2=250;\n",
"w1=1500;\n",
"w2=2000;\n",
"i1=w1*1000/v1;\n",
"i2=w2*1000/v2;\n",
"in=i1-i2;\n",
"w=w1+w2;\n",
"ig=w*1000/(v1+v2);\n",
"ia=ig-i1;\n",
"ib=i2-ig;\n",
"printf('Load current on +ve outer = %d A \n\n', i1);\n",
"printf('Load current on -ve outer = %d A \n\n', i2);\n",
"printf('Current in nuetral = %d A \n\n', in);\n",
"printf('Total load on main generator = %d W \n\n', w);\n",
"printf('Current supplied by main generator = %d A \n\n', ig);\n",
"printf('Current in machine A = %d A \n\n', ia);\n",
"printf('Current in machine B = %d A \n\n', ib);"
   ]
   }
,
{
		   "cell_type": "markdown",
		   "metadata": {},
		   "source": [
			"## Example 13.33: current_and_load_calculations.sce"
		   ]
		  },
  {
"cell_type": "code",
	   "execution_count": null,
	   "metadata": {
	    "collapsed": true
	   },
	   "outputs": [],
"source": [
"//Chapter 13\n",
"//Example 13_33\n",
"//Page 349\n",
"clear;clc;\n",
"v1=250;\n",
"v2=250;\n",
"w1=150;\n",
"w2=100;\n",
"loss=3;\n",
"tl=w1+w2+loss*2;\n",
"i1=w1*1000/v1;\n",
"i2=w2*1000/v2;\n",
"in=i1-i2;\n",
"w=w1+w2;\n",
"ig=tl*1000/(v1+v2);\n",
"ia=i1-ig;\n",
"ib=ig-i2;\n",
"la=ia*v1/1000;\n",
"lb=ib*v2/1000;\n",
"printf('(i) Total load on main generator = %d kW \n\n', tl);\n",
"printf('(ii) Current supplied by main generator = %d A \n\n', ig);\n",
"printf('\t Load current on +ve outer = %d A \n\n', i1);\n",
"printf('\t Load current on -ve outer = %d A \n\n', i2);\n",
"printf('\t Current in nuetral = %d A \n\n', in);\n",
"printf('\t Current in machine A = %d A \n\n', ia);\n",
"printf('\t Current in machine B = %d A \n\n', ib);\n",
"printf('\t Load on machine A = %d kW \n\n', la);\n",
"printf('\t Load on machine B = %d kW \n\n', lb);"
   ]
   }
,
{
		   "cell_type": "markdown",
		   "metadata": {},
		   "source": [
			"## Example 13.34: current_and_load_calculations_2.sce"
		   ]
		  },
  {
"cell_type": "code",
	   "execution_count": null,
	   "metadata": {
	    "collapsed": true
	   },
	   "outputs": [],
"source": [
"//Chapter 13\n",
"//Example 13_34\n",
"//Page 350\n",
"clear;clc;\n",
"v1=250;\n",
"v2=250;\n",
"i1=1200;\n",
"i2=1000;\n",
"l=200;\n",
"loss1=5;\n",
"loss2=5;\n",
"p1=v1*i1/1000;\n",
"p2=v2*i2/1000;\n",
"p3=l;\n",
"tl=p1+p2+p3+loss1+loss2;\n",
"ig=tl*1000/(v1+v2);\n",
"in=i1-i2;\n",
"i3=p3/(v1+v2)*1000;\n",
"ia=i1+i3-ig;\n",
"ib=ig-i2-i3;\n",
"la=ia*v1/1000;\n",
"lb=ib*v2/1000;\n",
"printf('Load on positive side = %d kW \n\n', p1);\n",
"printf('Load on negative side = %d kW \n\n', p2);\n",
"printf('Load on outers = %d kW \n\n', p3);\n",
"printf('(i) Total load on main generator = %d W \n\n', tl);\n",
"printf('    Current supplied by main generator = %d A \n\n', ig);\n",
"printf('(ii) Current in nuetral = %d A \n\n', in);\n",
"printf('\t Current in machine A = %d A \n\n', ia);\n",
"printf('\t Current in machine B = %d A \n\n', ib);\n",
"printf('\t Load on machine A = %d W \n\n', la);\n",
"printf('\t Load on machine B = %d W \n\n', lb);"
   ]
   }
,
{
		   "cell_type": "markdown",
		   "metadata": {},
		   "source": [
			"## Example 13.35: load_on_main_generator.sce"
		   ]
		  },
  {
"cell_type": "code",
	   "execution_count": null,
	   "metadata": {
	    "collapsed": true
	   },
	   "outputs": [],
"source": [
"//Chapter 13\n",
"//Example 13_35\n",
"//Page 350\n",
"clear;clc;\n",
"v=500;\n",
"ip=800;\n",
"in=550;\n",
"io=1500;\n",
"ra=0.2;\n",
"//no load current\n",
"inl=5;\n",
"tip=io+ip;\n",
"tin=io+in;\n",
"cn=ip-in;\n",
"printf('Total current on positive side = %d A \n', tip);\n",
"printf('Total current on negative side = %d A \n', tin);\n",
"printf('Current in nuetral wire = %d A \n\n', cn);\n",
"e=v/2-ra*5;\n",
"printf('(i)BAck emf = %d V \n', e);\n",
"ib=130;\n",
"ia=120;\n",
"printf('Ib = %d A \n', ib);\n",
"printf('Ia = %d A \n\n', ia);\n",
"va=199+ra*ib;\n",
"vb=249+ra*ib;\n",
"printf('(ii) Voltage across machine A = %d V \n', va);\n",
"printf('     Voltage across machine B = %d V \n\n', vb);\n",
"l=tip-ia;\n",
"printf('(iii) Load on main generator = %d A \n', l);"
   ]
   }
,
{
		   "cell_type": "markdown",
		   "metadata": {},
		   "source": [
			"## Example 13.36: output_of_booster.sce"
		   ]
		  },
  {
"cell_type": "code",
	   "execution_count": null,
	   "metadata": {
	    "collapsed": true
	   },
	   "outputs": [],
"source": [
"//Chapter 13\n",
"//Example 13_36\n",
"//Page 352\n",
"clear;clc;\n",
"v=500;\n",
"l=3;\n",
"i=120;\n",
"r=0.5;\n",
"tr=r*l;\n",
"vd=tr*i;\n",
"tv=vd;\n",
"op=i*tv/1000;\n",
"printf('Total resistance of line = %.1f ohm \n\n', tr);\n",
"printf('Full load voltage drop in the line = %d V \n\n', vd);\n",
"printf('Terminal voltage of booster = %d V \n\n', tv);\n",
"printf('Output of booster = %.2f kW \n\n', op);"
   ]
   }
,
{
		   "cell_type": "markdown",
		   "metadata": {},
		   "source": [
			"## Example 13.3: voltages_across_trams.sce"
		   ]
		  },
  {
"cell_type": "code",
	   "execution_count": null,
	   "metadata": {
	    "collapsed": true
	   },
	   "outputs": [],
"source": [
"//Chapter 13\n",
"//Example 13_3\n",
"//Page 315\n",
"clear;clc;\n",
"l1=2;\n",
"l2=6-2;\n",
"i1=40;\n",
"i2=20;\n",
"v=600;\n",
"rw=0.25;\n",
"rt=0.03;\n",
"r=rw+rt;\n",
"i_sa=i1+i2;\n",
"i_ab=i2;\n",
"v_sa=i_sa*r*l1;\n",
"v_ab=i_ab*r*l2;\n",
"va=v-v_sa;\n",
"vb=va-v_ab;\n",
"printf('Reisistance of trolley wire and track/km = %.2f ohm \n\n', r);\n",
"printf('Current in section SA = %d A \n\n', i_sa);\n",
"printf('Current in section AB = %d A \n\n', i_ab);\n",
"printf('Voltage drop in section SA = %.2f V \n\n', v_sa);\n",
"printf('Voltage drop in section AB = %.2f V \n\n', v_ab);\n",
"printf('Voltage across tram A = %.2f V \n\n', va);\n",
"printf('Voltage across tram B = %.2f V \n\n', vb);"
   ]
   }
,
{
		   "cell_type": "markdown",
		   "metadata": {},
		   "source": [
			"## Example 13.4: voltage_at_tapping_points.sce"
		   ]
		  },
  {
"cell_type": "code",
	   "execution_count": null,
	   "metadata": {
	    "collapsed": true
	   },
	   "outputs": [],
"source": [
"//Chapter 13\n",
"//Example 13_4\n",
"//Page 315\n",
"clear;clc;\n",
"Va=250;\n",
"Ic=15;\n",
"Id=20;\n",
"Ib=12;\n",
"Lab=75;\n",
"Lcd=50;\n",
"Lbc=100;\n",
"area=0.27;\n",
"p=1.78*1e-6;\n",
"//single core resistance of the section of 100m length\n",
"R=p*100*100/area;\n",
"Rab=R*Lab/100*2;\n",
"Rbc=R*Lbc/100*2;\n",
"Rcd=R*Lcd/100*2;\n",
"Icd=Id;\n",
"Ibc=Icd+Ic;\n",
"Iab=Ibc+Ib;\n",
"Vb=Va-Iab*Rab;\n",
"Vc=Vb-Ibc*Rbc;\n",
"Vd=Vc-Icd*Rcd;\n",
"printf('(i) CURRENTS IN VARIOUS SECTIONS: \n');\n",
"printf('I_AB = %.0f A \n', Iab);\n",
"printf('I_BC = %.0f A \n', Ibc);\n",
"printf('I_CD = %.0f A \n\n', Icd);\n",
"printf('(ii) Single core resistance of the section of 100m length = %.3f ohm \n', R);\n",
"printf('Resistance of section AB = %.3f ohm \n', Rab);\n",
"printf('Resistance of section BC = %.3f ohm \n', Rbc);\n",
"printf('Resistance of section CD = %.3f ohm \n\n', Rcd);\n",
"printf('(iii) Voltage at tapping point B = Vb = %.2f V \n', Vb);\n",
"printf('Voltage at tapping point C = Vc = %.2f V \n', Vc);\n",
"printf('Voltage at tapping point D = Vd = %.2f V \n', Vd);"
   ]
   }
,
{
		   "cell_type": "markdown",
		   "metadata": {},
		   "source": [
			"## Example 13.5: max_voltage_drop.sce"
		   ]
		  },
  {
"cell_type": "code",
	   "execution_count": null,
	   "metadata": {
	    "collapsed": true
	   },
	   "outputs": [],
"source": [
"//Chapter 13\n",
"//Example 13_5\n",
"//Page 317\n",
"clear;clc;\n",
"l=200;\n",
"i=2;\n",
"r_km=0.3;\n",
"x=150;\n",
"r=2*r_km/1000;\n",
"vd=i*r*(l*x-x^2/2);\n",
"I=i*l;\n",
"R=r*l;\n",
"tvd=1/2*I*R;\n",
"printf('Resistance of distributor per metre run = %.4f ohm \n\n', r);\n",
"printf('(i) Voltage drop upto %d m from feeding point = %.1f V \n\n', x, vd);\n",
"printf('(ii) Total current entering distributor = %d A \n\n', I);\n",
"printf('     Total resistance of distributor = %.2f ohm \n\n', R);\n",
"printf('     Maximum voltage drop = %d V \n\n', tvd);"
   ]
   }
,
{
		   "cell_type": "markdown",
		   "metadata": {},
		   "source": [
			"## Example 13.6: x_section_of_distributor.sce"
		   ]
		  },
  {
"cell_type": "code",
	   "execution_count": null,
	   "metadata": {
	    "collapsed": true
	   },
	   "outputs": [],
"source": [
"//Chapter 13\n",
"//Example 13_6\n",
"//Page 317\n",
"clear;clc;\n",
"l=500;\n",
"i=0.4;\n",
"vd=10;\n",
"p=1.7*1e-6;\n",
"I=i*l;\n",
"r=vd/0.5/I/l;\n",
"area=p*100*2/r;\n",
"printf('Resistance per metre length of the distributor = %.2f*10^-3 ohm \n\n', r*1e3);\n",
"printf('Area of cross section of the distributor = %.1f cm^2 \n\n', area);"
   ]
   }
,
{
		   "cell_type": "markdown",
		   "metadata": {},
		   "source": [
			"## Example 13.7: voltage_at_feeding_points.sce"
		   ]
		  },
  {
"cell_type": "code",
	   "execution_count": null,
	   "metadata": {
	    "collapsed": true
	   },
	   "outputs": [],
"source": [
"//Chapter 13\n",
"//Example 13_7\n",
"//Page 318\n",
"clear;clc;\n",
"l=250;\n",
"i=1.6;\n",
"r=0.0002;\n",
"v=250;\n",
"I=i*l;\n",
"R=2*r*l;\n",
"vd=0.5*I*R;\n",
"vfp=v+vd;\n",
"x=l/2;\n",
"v_d=i*r*2*(l*x-x^2/2);\n",
"v_fp=v_d+v;\n",
"printf('Current entering the distributor = %d A \n\n', I);\n",
"printf('Total Resistance of the distributor = %.4f ohm \n\n', R);\n",
"printf('(i) Voltage drop over the entire distibutor = %d V \n\n', vd);\n",
"printf('    Voltage at feeding point = %d V \n\n', vfp);\n",
"printf('(ii) Voltage drop upto distance %d m from feeding point = %d V \n\n', x, v_d);\n",
"printf('     Voltage at feeding point = %d V \n\n', v_fp);"
   ]
   }
,
{
		   "cell_type": "markdown",
		   "metadata": {},
		   "source": [
			"## Example 13.9: power_loss_in_distributor.sce"
		   ]
		  },
  {
"cell_type": "code",
	   "execution_count": null,
	   "metadata": {
	    "collapsed": true
	   },
	   "outputs": [],
"source": [
"//Chapter 13\n",
"//Example 13_9\n",
"//Page 319\n",
"clear;clc;\n",
"x=200;\n",
"l=300;\n",
"i=0.75;\n",
"r=0.00018;\n",
"v=250;\n",
"vd=i*r*(l*x-x^2/2);\n",
"printf('Voltage drop = %.1f V \n\n', vd);\n",
"printf('Voltage at a distance %d m from supply end = %.1f V \n\n', x, v-vd);\n",
"p=i^2*r*l^3/3;\n",
"printf('Power loss in distributor = %.2f W \n\n', p);"
   ]
   }
],
"metadata": {
		  "kernelspec": {
		   "display_name": "Scilab",
		   "language": "scilab",
		   "name": "scilab"
		  },
		  "language_info": {
		   "file_extension": ".sce",
		   "help_links": [
			{
			 "text": "MetaKernel Magics",
			 "url": "https://github.com/calysto/metakernel/blob/master/metakernel/magics/README.md"
			}
		   ],
		   "mimetype": "text/x-octave",
		   "name": "scilab",
		   "version": "0.7.1"
		  }
		 },
		 "nbformat": 4,
		 "nbformat_minor": 0
}
