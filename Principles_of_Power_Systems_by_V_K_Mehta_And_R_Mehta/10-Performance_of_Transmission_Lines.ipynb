{
"cells": [
 {
		   "cell_type": "markdown",
	   "metadata": {},
	   "source": [
       "# Chapter 10: Performance of Transmission Lines"
	   ]
	},
{
		   "cell_type": "markdown",
		   "metadata": {},
		   "source": [
			"## Example 10.10: supply_pf_for_medium_tr_lines.sce"
		   ]
		  },
  {
"cell_type": "code",
	   "execution_count": null,
	   "metadata": {
	    "collapsed": true
	   },
	   "outputs": [],
"source": [
"//Chapter 10\n",
"//Example 10_10\n",
"//Page 241\n",
"clear;clc;\n",
"r=0.25;\n",
"xl=0.8;\n",
"y=14*1e-6;\n",
"vr=66000;\n",
"pd=15000;\n",
"pfr=0.8;\n",
"ll=100;\n",
"tr=ll*r;\n",
"txl=ll*xl;\n",
"ty=y*ll;\n",
"z=tr+%i*txl;\n",
"l=pd/vr/pfr;\n",
"i=pd*1000/vr/pfr;\n",
"vr_phasor=vr+%i*0;\n",
"ir_phasor=i*(pfr-%i*sin(acos(pfr)));\n",
"ic=%i*ty*vr;\n",
"is_phasor=ir_phasor+ic;\n",
"mag_is=abs(is_phasor);\n",
"vd=is_phasor*z;\n",
"vs_phasor=vr_phasor+is_phasor*z;\n",
"mag_vs=abs(vs_phasor);\n",
"reg=(mag_vs-vr)/vr*100;\n",
"theta1=atan(-imag(is_phasor)/real(is_phasor));\n",
"theta2=atan(imag(vs_phasor)/real(vs_phasor));\n",
"thetas=abs(theta1)+theta2;\n",
"pfs=cos(thetas);\n",
"printf('Total resistance = %.0f ohm \n\n', tr);\n",
"printf('Total reactance = %.0f ohm \n\n', txl);\n",
"printf('Total susceptance = %.0f ohm \n\n', ty);\n",
"printf('Recieving end voltage = %.0f V \n\n', vr);\n",
"printf('Load current = %.0f A \n\n', i);\n",
"printf('Vr phasor = %.2f+j%.2f \n\n', real(vr_phasor), imag(vr_phasor));\n",
"printf('Load current phasor = %.2f+j%.2f \n\n', real(ir_phasor), imag(ir_phasor));\n",
"printf('Capacitive current = j%.2f \n\n', imag(ic));\n",
"printf('(i) Sending end current = %.2f+j%.2f \n', real(is_phasor), imag(is_phasor));\n",
"printf('    Magnitude = %.0f V \n\n', mag_is);\n",
"printf('(ii) Voltage drop = %.2f+j%.2f \n', real(vd), imag(vd))\n",
"printf('     Sending end voltage = %.2f+j%.2f \n', real(vs_phasor), imag(vs_phasor));\n",
"printf('     Magnitude of Vs = %.0f V \n\n', mag_vs);\n",
"printf('(iii) %% Regulation = %.2f %% \n\n', reg);\n",
"printf('(iv) Phase angle between Vr and Ir = %.2f degrees \n\n', theta1*180/%pi);\n",
"printf('     Phase angle between Vr and Vs = %.2f degrees \n\n', theta2*180/%pi);\n",
"printf('     Supply power factor angle = %.2f degrees \n\n', thetas*180/%pi);\n",
"printf('     Supply power factor = %.2f lag \n\n', pfs);"
   ]
   }
,
{
		   "cell_type": "markdown",
		   "metadata": {},
		   "source": [
			"## Example 10.11: nominal_t_method_1.sce"
		   ]
		  },
  {
"cell_type": "code",
	   "execution_count": null,
	   "metadata": {
	    "collapsed": true
	   },
	   "outputs": [],
"source": [
"//Chapter 10\n",
"//Example 10_11\n",
"//Page 244\n",
"clear;clc;\n",
"r=0.1;\n",
"xl=0.2;\n",
"y=0.04*1e-4;\n",
"ll=100;\n",
"f=50;\n",
"pd=10000;\n",
"v_r=66000;\n",
"pfr=0.8;\n",
"tr=r*ll;\n",
"txl=ll*xl;\n",
"ty=ll*y;\n",
"vr=v_r/sqrt(3);\n",
"ir=pd*1000/sqrt(3)/v_r/pfr;\n",
"z=tr+%i*txl;\n",
"ir_p=ir*(pfr-%i*sin(acos(pfr)));\n",
"v1=vr+ir_p*z/2;\n",
"ic=%i*ty*v1;\n",
"is=ir_p+ic;\n",
"vs=v1+is*z/2;\n",
"theta1=atan(imag(vs)/real(vs));\n",
"theta2=atan(imag(is)/real(is));\n",
"thetas=theta1+abs(theta2);\n",
"pfs=cos(thetas);\n",
"ps=3*abs(vs)*abs(is)*pfs/1000;\n",
"n=pd/ps;\n",
"printf('Total resistance per phase = %.2f ohm \n\n', tr);\n",
"printf('Total reactance per phase = %.2f ohm \n\n', txl);\n",
"printf('Total susceptance per phase = %.5f ohm \n\n', ty);\n",
"printf('Recieving end voltage = %.0f V \n\n', vr);\n",
"printf('Load current = %.2f A \n\n', ir);\n",
"printf('Impedance per phase = %.2f+j%.2f \n\n', real(z), imag(z));\n",
"printf('Receiving end voltage is the reference phasor = %.2f+j0 \n\n', vr);\n",
"printf('Load current = %.2f+j%.2f \n\n', real(ir_p), imag(ir_p));\n",
"printf('Voltage across C = %.2f+j%.2f \n\n', real(v1), imag(v1));\n",
"printf('Charging current = %.2f+j%.2f \n\n', real(ic), imag(ic));\n",
"printf('Sending end current = %.2f+j%.2f \n\n', real(is), imag(is));\n",
"printf('Sending end current magnitude = %.2f A \n\n', abs(is));\n",
"printf('Sending end voltage = %.2f+j%.2f \n\n', real(vs), imag(vs));\n",
"printf('Sending end voltage magnitude = %.2f V \n\n', abs(vs)*sqrt(3)/1000);\n",
"printf('Phase angle between Vr and Vs = %.2f degrees \n\n', theta1*180/%pi);\n",
"printf('Phase angle between Vr and Is = %.2f degrees \n\n', abs(theta2*180/%pi));\n",
"printf('Sending end power factor angle = %.2f degrees \n\n', thetas*180/%pi);\n",
"printf('Sending end power factor = %.2f \n\n', pfs);\n",
"printf('Sending end power = %.3f kW \n\n', ps);\n",
"printf('Power delivered = %.0f kW \n\n', pd);\n",
"printf('Transmission efficiency = %.2f %% \n\n', n*100);"
   ]
   }
,
{
		   "cell_type": "markdown",
		   "metadata": {},
		   "source": [
			"## Example 10.12: nominal_t_method_2.sce"
		   ]
		  },
  {
"cell_type": "code",
	   "execution_count": null,
	   "metadata": {
	    "collapsed": true
	   },
	   "outputs": [],
"source": [
"//Chapter 10\n",
"//Example 10_12\n",
"//Page 245\n",
"clear;clc;\n",
"f=50;\n",
"ll=100;\n",
"pd=20*1e6;\n",
"pfr=0.9;\n",
"v_r=110*1e3;\n",
"r=0.2;\n",
"xl=0.4;\n",
"y=2.5*1e-6;\n",
"tr=r*ll;\n",
"txl=ll*xl;\n",
"ty=ll*y;\n",
"vr=v_r/sqrt(3);\n",
"ir=pd/sqrt(3)/v_r/pfr;\n",
"z=tr+%i*txl;\n",
"ir_p=ir*(pfr-%i*sin(acos(pfr)));\n",
"v1=vr+ir_p*z/2;\n",
"ic=%i*ty*v1;\n",
"is=ir_p+ic;\n",
"vs=v1+is*z/2;\n",
"lv=abs(vs)*sqrt(3);\n",
"loss=3*is^2*tr/2+3*ir^2*tr/2;\n",
"n=(pd)/(pd+loss);\n",
"printf('Total resistance per phase = %.2f ohm \n\n', tr);\n",
"printf('Total reactance per phase = %.2f ohm \n\n', txl);\n",
"printf('Total susceptance per phase = %.5f ohm \n\n', ty);\n",
"printf('Phase impedance = %.2f+j(%.2f) \n\n', real(z), imag(z));\n",
"printf('Recieving end voltage = %.0f V \n\n', vr);\n",
"printf('Load current = %.2f A \n\n', ir);\n",
"printf('Impedance per phase = %.2f+j(%.2f) \n\n', real(z), imag(z));\n",
"printf('Receiving end voltage is the reference phasor = %.2f+j0 \n\n', vr);\n",
"printf('Load current = %.2f+j(%.2f) \n\n', real(ir_p), imag(ir_p));\n",
"printf('Voltage across C = %.2f+j(%.2f) \n\n', real(v1), imag(v1));\n",
"printf('Charging current = %.2f+j(%.2f) \n\n', real(ic), imag(ic));\n",
"printf('Sending end current = %.2f+j(%.2f) \n\n', real(is), imag(is));\n",
"printf('Sending end current magnitude = %.2f A \n\n', abs(is));\n",
"printf('Sending end voltage = %.2f+j(%.2f) \n\n', real(vs), imag(vs));\n",
"printf('Sending end voltage magnitude = %.2f V \n\n', abs(vs));\n",
"printf('Line value of sending end voltage = %.2f V \n\n', lv/1000);\n",
"printf('Total line losses for three phases = %.3f MW \n\n', loss/1e6);\n",
"printf('Transmission efficiency = %.2f %% \n\n', n*100);"
   ]
   }
,
{
		   "cell_type": "markdown",
		   "metadata": {},
		   "source": [
			"## Example 10.13: nominal_pi_method_1.sce"
		   ]
		  },
  {
"cell_type": "code",
	   "execution_count": null,
	   "metadata": {
	    "collapsed": true
	   },
	   "outputs": [],
"source": [
"//Chapter 10\n",
"//Example 10_13\n",
"//Page 247\n",
"clear;clc;\n",
"f=50;\n",
"ll=150;\n",
"r=0.1;\n",
"xl=0.5;\n",
"y=3*1e-6;\n",
"pd=50*1e6;\n",
"v_r=110*1e3;\n",
"pfr=0.8;\n",
"tr=r*ll;\n",
"ty=y*ll;\n",
"txl=xl*ll;\n",
"z=tr+%i*txl;\n",
"vr=v_r/sqrt(3);\n",
"ir=pd/sqrt(3)/v_r/pfr;\n",
"ir_p=ir*(pfr-%i*sin(acos(pfr)));\n",
"ic1=vr*%i*ty/2;\n",
"il=ir_p+ic1;\n",
"vs=vr+il*z;\n",
"ic2=vs*%i*ty/2;\n",
"is=il+ic2;\n",
"printf('Total resistance / phase = %.2f ohm \n\n',tr);\n",
"printf('Total reactance / phase = %.2f ohm \n\n',txl);\n",
"printf('Total susceptance / phase = %.6f S \n\n',ty);\n",
"printf('Recieving end voltage = %.0f V \n\n', vr);\n",
"printf('                      = %.0f+j0 \n\n', vr);\n",
"printf('Load current = %.2f+j(%.2f) \n\n', real(ir_p), imag(ir_p));\n",
"printf('Charging current at load end = j(%.2f) \n\n', imag(ic1));\n",
"printf('Line current = %.2f+j(%.2f) \n\n', real(il), imag(il));\n",
"printf('Sending end voltage = %.2f+j(%.2f) \n\n', real(vs), imag(vs));\n",
"printf('Line to line sending end voltage = %.2f kV \n\n', abs(vs)*sqrt(3)/1000);\n",
"printf('Charging current at sending end = j(%.2f) \n\n', imag(ic2));\n",
"printf('Sending end current = %.2f+j(%.2f) A \n\n', real(is), imag(is));\n",
"printf('Sending end current = %.2f A \n\n', abs(is));"
   ]
   }
,
{
		   "cell_type": "markdown",
		   "metadata": {},
		   "source": [
			"## Example 10.14: nominal_pi_method_2.sce"
		   ]
		  },
  {
"cell_type": "code",
	   "execution_count": null,
	   "metadata": {
	    "collapsed": true
	   },
	   "outputs": [],
"source": [
"//Chapter 10\n",
"//Example 10_14\n",
"//Page 248\n",
"clear;clc;\n",
"ll=100;\n",
"r=0.1;\n",
"xl=0.5;\n",
"y=10*1e-6;\n",
"pd=20*1e6;\n",
"pfr=0.9;\n",
"v_r=66*1e3;\n",
"tr=r*ll;\n",
"ty=y*ll;\n",
"txl=xl*ll;\n",
"z=tr+%i*txl;\n",
"vr=v_r/sqrt(3);\n",
"ir=pd/sqrt(3)/v_r/pfr;\n",
"ir_p=ir*(pfr-%i*sin(acos(pfr)));\n",
"ic1=vr*%i*ty/2;\n",
"il=ir_p+ic1;\n",
"vs=vr+il*z;\n",
"ic2=vs*%i*ty/2;\n",
"is=il+ic2;\n",
"theta1=atan(imag(vs)/real(vs));\n",
"theta2=atan(imag(is)/real(is));\n",
"thetas=theta1+abs(theta2);\n",
"pfs=cos(thetas);\n",
"reg=(abs(vs)-vr)/vr*100;\n",
"ps=3*abs(vs)*abs(is)*pfs;\n",
"n=pd/ps*100;\n",
"printf('Total resistance / phase = %.2f ohm \n\n',tr);\n",
"printf('Total reactance / phase = %.2f ohm \n\n',txl);\n",
"printf('Total susceptance / phase = %.6f S \n\n',ty);\n",
"printf('Recieving end voltage = %.0f V \n\n', vr);\n",
"printf('Load current = %.2f A \n\n', ir);\n",
"printf('Recieving end voltage phasor = %.0f+j0 \n\n', vr);\n",
"printf('Load current = %.2f+j(%.2f) \n\n', real(ir_p), imag(ir_p));\n",
"printf('Charging current at load end = j(%.2f) \n\n', imag(ic1));\n",
"printf('Line current = %.2f+j(%.2f) \n\n', real(il), imag(il));\n",
"printf('Sending end voltage = %.2f+j(%.2f) \n\n', real(vs), imag(vs));\n",
"printf('Line to line sending end voltage = %.2f kV \n\n', abs(vs)*sqrt(3)/1000);\n",
"printf('Charging current at sending end = %.2f+j(%.2f) \n\n', real(ic2),imag(ic2));\n",
"printf('Sending end current = %.2f+j(%.2f) A \n\n', real(is), imag(is));\n",
"printf('Sending end current = %.2f A \n\n', abs(is));\n",
"printf('(i) Angle between Vr and Vs = %.2f degrees \n\n', theta1*180/%pi);\n",
"printf('    Angle between Vr and Is = %.2f degrees \n\n', theta2*180/%pi);\n",
"printf('    Angle between Is and Vs = %.2f degrees \n\n', thetas*180/%pi);\n",
"printf('    Sending end power factor = %.2f \n\n', pfs);\n",
"printf('(ii) %% Voltage regulation = %.2f %% \n\n', reg);\n",
"printf('(iii) Sending end power = %.2f MW \n\n', ps/1e6);\n",
"printf('      Transmission efficiency = %.2f %% \n\n', n);"
   ]
   }
,
{
		   "cell_type": "markdown",
		   "metadata": {},
		   "source": [
			"## Example 10.15: long_tr_line.sce"
		   ]
		  },
  {
"cell_type": "code",
	   "execution_count": null,
	   "metadata": {
	    "collapsed": true
	   },
	   "outputs": [],
"source": [
"//Chapter 10\n",
"//Example 10_15\n",
"//Page 254\n",
"clear;clc;\n",
"ll=200;\n",
"r=0.16;\n",
"xl=0.25;\n",
"y=1.5*1e-6;\n",
"pd=20*1e6;\n",
"pfr=0.8;\n",
"v_r=110*1e3;\n",
"tr=r*ll;\n",
"ty=y*ll;\n",
"txl=xl*ll;\n",
"z=tr+%i*txl;\n",
"vr=v_r/sqrt(3);\n",
"ir=pd/sqrt(3)/v_r/pfr;\n",
"vs=vr*cosh(ty*z)+ir*sqrt(z/ty)*sinh(z*ty);\n",
"is=vr*sqrt(ty/z)*sinh(ty*z)+ir*cosh(ty*z);\n",
"printf('Recieving end voltage per phase = %.0f V \n\n', vr);\n",
"printf('Recieving end current = %.0f A \n\n', ir);\n",
"printf('Sending end voltage = %.2f+j%.2f = %.2f kV \n\n', real(vs), imag(vs), abs(vs)*sqrt(3)/1000);\n",
"printf('Sending end current = %.2f+j%.2f = %.2f A \n\n', real(is), imag(is), abs(is));"
   ]
   }
,
{
		   "cell_type": "markdown",
		   "metadata": {},
		   "source": [
			"## Example 10.16: generalised_contants_1.sce"
		   ]
		  },
  {
"cell_type": "code",
	   "execution_count": null,
	   "metadata": {
	    "collapsed": true
	   },
	   "outputs": [],
"source": [
"//Chapter 10\n",
"//Example 10_16\n",
"//Page 258\n",
"clear;clc;\n",
"pd=30*1e6;\n",
"v_r=132*1e3;\n",
"pfr=0.85;\n",
"z=20+%i*52;\n",
"y=%i*315*1e-6;\n",
"a=1+z*y/2;\n",
"d=a;\n",
"b=z*(1+z*y/4);\n",
"c=y;\n",
"vr=v_r/sqrt(3)/1000;\n",
"ir=pd/sqrt(3)/v_r/pfr;\n",
"ir_p=ir*(pfr-%i*sin(acos(pfr)));\n",
"vs=a*vr*1000+b*ir_p;\n",
"mag_vs=abs(vs)/1000;\n",
"ll=mag_vs*sqrt(3);\n",
"reg=(mag_vs/abs(a)-vr)/vr*100;\n",
"printf('(i) GENERALISED CONSTANTS OF LINE: \n');\n",
"printf('    A = %.3f+j(%.6f) \n', real(a), imag(a));\n",
"printf('    B = %.2f+j(%.2f) \n', real(b), imag(b));\n",
"printf('    C = %.6f+j(%.4f) \n', real(c), imag(c));\n",
"printf('    D = %.3f+j(%.6f) \n\n', real(d), imag(d));\n",
"printf('(ii) SENDING END VOLTAGE: \n');\n",
"printf('     Recieving end voltage per phase = %.0f kV \n\n', vr);\n",
"printf('     Recieving end current = %.0f A \n\n', ir);\n",
"printf('     Recieving end current phasor = %.2f+j(%.2f) \n\n', real(ir_p), imag(ir_p));\n",
"printf('     Sending end voltage per phase = %.2f+j(%.2f) V \n\n', real(vs), imag(vs));\n",
"printf('     Magnitude of Sending end voltage = %.2f kV \n\n', mag_vs);\n",
"printf('     Line value = %.2f kV \n\n', ll);\n",
"printf('(iii) REGULATION: \n');\n",
"printf('      %% regulation = %.2f %% \n\n', reg);"
   ]
   }
,
{
		   "cell_type": "markdown",
		   "metadata": {},
		   "source": [
			"## Example 10.17: generalised_contants_2.sce"
		   ]
		  },
  {
"cell_type": "code",
	   "execution_count": null,
	   "metadata": {
	    "collapsed": true
	   },
	   "outputs": [],
"source": [
"//Chapter 10\n",
"//Example 10_17\n",
"//Page 259\n",
"clear;clc;\n",
"v_r=132*1e3;\n",
"pd=50*1e6;\n",
"pfr=0.8;\n",
"a=0.9497+%i*0.02321;\n",
"d=a;\n",
"b=19.9595+%i*93.90216;\n",
"c=%i*0.0015;\n",
"vr=v_r/sqrt(3);\n",
"ir=pd/sqrt(3)/v_r/pfr;\n",
"printf('Recieving end voltage per phase = %.0f V \n\n', vr);\n",
"printf('Recieving end current = %.0f A \n\n', ir);\n",
"printf('Recieving end voltage phasor = %.0f+j0 V \n\n', vr);\n",
"ir_p=ir*(pfr-%i*sin(acos(pfr)));\n",
"printf('Load current phasor = %.2f+j(%.2f) \n\n', real(ir_p), imag(ir_p));\n",
"vs=a*vr+b*ir_p;\n",
"mag_vs=abs(vs);\n",
"printf('Sending end voltage per phase = %.2f+j(%.2f) V \n\n', real(vs), imag(vs));\n",
"is=c*vr+d*ir_p;\n",
"mag_is=abs(is);\n",
"printf('Sending end current = %.2f+j(%.2f) = %.2f A \n\n', real(is), imag(is), abs(is));\n",
"ic=is-ir_p;\n",
"printf('Charging current = %.2f+j(%.2f) \n\n', real(ic), imag(ic));\n",
"reg=(abs(vs)/a-vr)/vr*100;\n",
"printf('%% regulation = %.2f %% \n\n', reg);"
   ]
   }
,
{
		   "cell_type": "markdown",
		   "metadata": {},
		   "source": [
			"## Example 10.18: generalised_contants_3.sce"
		   ]
		  },
  {
"cell_type": "code",
	   "execution_count": null,
	   "metadata": {
	    "collapsed": true
	   },
	   "outputs": [],
"source": [
"//Chapter 10\n",
"//Example 10_18\n",
"//Page 260\n",
"clear;clc;\n",
"v_r=110*1e3;\n",
"pd=50*1e6;\n",
"pfr=0.8;\n",
"a=0.97865+%i*0.051289;\n",
"d=a;\n",
"b=28.47009+%i*106.25184;\n",
"c=0.00008682+%i*0.0004924;\n",
"vr=v_r/sqrt(3);\n",
"ir=pd/sqrt(3)/v_r;\n",
"printf('Recieving end voltage per phase = %.0f V \n\n', vr);\n",
"printf('Recieving end current = %.0f A \n\n', ir);\n",
"printf('Recieving end voltage phasor = %.0f+j0 V \n\n', vr);\n",
"ir_p=ir*(pfr-%i*sin(acos(pfr)));\n",
"printf('Load current phasor = %.2f+j(%.2f) \n\n', real(ir_p), imag(ir_p));\n",
"vs=a*vr+b*ir_p;\n",
"mag_vs=abs(vs);\n",
"printf('(i) Sending end voltage per phase = %.2f+j(%.2f) V \n', real(vs), imag(vs));\n",
"printf('    Magnitude of Sending end voltage = %.2f kV \n\n', mag_vs);\n",
"is=c*vr+d*ir_p;\n",
"mag_is=abs(is);\n",
"printf('(ii) Sending end current = %.2f+j(%.2f) = %.2f A \n', real(is), imag(is), abs(is));\n",
"printf('     Magnitude of Sending end current = %.2f kV \n\n', mag_is);\n",
"t1=atan(imag(is)/real(is))*180/%pi;\n",
"t2=atan(imag(vs)/real(vs))*180/%pi;\n",
"pfs=cos((abs(t1)+t2)*%pi/180);\n",
"ps=3*mag_vs*mag_is*pfs/1e6;\n",
"printf('(iii) Sending end power = %.2f MW \n\n', ps);\n",
"pr=pd*pfr/1e6;\n",
"printf('(iv) Recieving end power = %.2f MW \n\n', pr);\n",
"printf('     Transmission efficiency = %.2f %% \n\n', pr/ps*100);"
   ]
   }
,
{
		   "cell_type": "markdown",
		   "metadata": {},
		   "source": [
			"## Example 10.1: transmission_efficiency_1.sce"
		   ]
		  },
  {
"cell_type": "code",
	   "execution_count": null,
	   "metadata": {
	    "collapsed": true
	   },
	   "outputs": [],
"source": [
"//Chapter 10\n",
"//Example 10_1\n",
"//Page 133\n",
"clear;clc;\n",
"load_kw=1100;\n",
"vr=33;\n",
"pf=0.8;\n",
"r=10;\n",
"xl=15;\n",
"phir=acos(0.8);\n",
"i=load_kw/vr/pf;\n",
"z=r+%i*xl;\n",
"i_vector=i*(cos(phir)- %i*(sin(phir)));\n",
"vs=vr*1000+z*i_vector;\n",
"alpha=imag(vs)/real(vs);\n",
"phis=phir+alpha;\n",
"loss=i^2*r;\n",
"op=load_kw;\n",
"ps=op+loss/1000;\n",
"n=op/ps*100;\n",
"printf('Line current = %.2f A \n', i);\n",
"printf('             = %.2f+j(%.2f) \n\n', real(i_vector), imag(i_vector));\n",
"printf('(i) Sending end voltage = %.2f+j(%.2f) \n', real(vs), imag(vs));\n",
"printf('    Magnitude of Vs = %.0f V \n\n', abs(vs));\n",
"printf('(ii) Angle betwen Vs and Vr = %.2f degrees \n', alpha*180/%pi);\n",
"printf('     Sending end power factor angle = %.2f degrees \n', phis*180/%pi);\n",
"printf('     Sending end power factor = %.2f \n\n', cos(phir));\n",
"printf('(iii) Line loss = %.2f kW \n', loss/1000);\n",
"printf('      Output delivered = %.0f kW \n', op);\n",
"printf('      Power sent = %.3f kW \n', ps);\n",
"printf('      Transmission efficiency = %.2f %% \n', n);"
   ]
   }
,
{
		   "cell_type": "markdown",
		   "metadata": {},
		   "source": [
			"## Example 10.2: length_of_conductor.sce"
		   ]
		  },
  {
"cell_type": "code",
	   "execution_count": null,
	   "metadata": {
	    "collapsed": true
	   },
	   "outputs": [],
"source": [
"//Chapter 10\n",
"//Example 10_2\n",
"//Page 235\n",
"clear;clc;\n",
"area=0.775;\n",
"pr=200;\n",
"pf=1;\n",
"v=3300;\n",
"n=0.9;\n",
"sr=1.725*1e-6;\n",
"ps=pr*1000/n;\n",
"loss=ps-pr*1000;\n",
"i=pr*1000/v;\n",
"r=loss/2/i^2;\n",
"l=r*area/sr;\n",
"printf('Sending end power = %.0f W \n\n', ps);\n",
"printf('Line losses = %.0f W \n\n', loss);\n",
"printf('Line current = %.1f A \n\n', i);\n",
"printf('Resistance of the line = %.3f ohms \n\n', r);\n",
"printf('Length of the conductor = %.2f km \n\n', l/1000/100);"
   ]
   }
,
{
		   "cell_type": "markdown",
		   "metadata": {},
		   "source": [
			"## Example 10.3: transmission_efficiency_2.sce"
		   ]
		  },
  {
"cell_type": "code",
	   "execution_count": null,
	   "metadata": {
	    "collapsed": true
	   },
	   "outputs": [],
"source": [
"//Chapter 10\n",
"//Example 10_3\n",
"//Page 235\n",
"clear;clc;\n",
"load_kw=5000;\n",
"v_r=22;\n",
"pfr=0.8;\n",
"r=4;\n",
"xl=6;\n",
"vr=22*1000/sqrt(3);\n",
"z=r+%i*xl;\n",
"i=load_kw*1000/3/vr/pfr;\n",
"vr_phasor=vr+%i*0;\n",
"i_phasor=i*(pfr-%i*sin(acos(pfr)));\n",
"vs_phasor=vr_phasor+i_phasor*z;\n",
"vs=abs(vs_phasor);\n",
"lv=vs*sqrt(3);\n",
"reg=(vs-vr)/vr*100;\n",
"loss=3*i^2*r;\n",
"n=load_kw/(load_kw+loss/1000);\n",
"printf('Impedance per phase = %.0f+j(%.0f) \n\n', real(z), imag(z));\n",
"printf('Line current = %.2f A \n\n', i);\n",
"printf('             = %.2f+j(%.2f) \n\n', real(i_phasor), imag(i_phasor));\n",
"printf('(i) Sending end voltage phasor =%.2f+j(%.2f) \n\n', real(vs_phasor), imag(vs_phasor));\n",
"printf('    Magnitude of Vs = %.2f V \n\n', vs);\n",
"printf('    Line value of Vs = %.2f kV \n\n', lv/1000);\n",
"printf('(ii) Percentage regulation = %.3f %% \n\n', reg);\n",
"printf('(iii) Line losses = %.3f kW \n\n', loss/1000);\n",
"printf('      Transmission efficiency = %.2f %% \n\n', n*100);"
   ]
   }
,
{
		   "cell_type": "markdown",
		   "metadata": {},
		   "source": [
			"## Example 10.4: length_of_line.sce"
		   ]
		  },
  {
"cell_type": "code",
	   "execution_count": null,
	   "metadata": {
	    "collapsed": true
	   },
	   "outputs": [],
"source": [
"//Chapter 10\n",
"//Example 10_4\n",
"//Page 236\n",
"clear;clc;\n",
"load_kw=15000;\n",
"pf=0.8;\n",
"r=1;\n",
"vr=132;\n",
"loss=0.05;\n",
"i=load_kw*1000/sqrt(3)/vr/1000/pf;\n",
"l_loss=loss*load_kw;\n",
"r=l_loss*1000/3/i^2;\n",
"l=r;\n",
"printf('Line current = %.0f A \n\n', i);\n",
"printf('Line losses = %.0f kW \n\n', l_loss);\n",
"printf('R = %.2f ohm \n\n', r);\n",
"printf('Length of the line = %.2f km \n\n', l);"
   ]
   }
,
{
		   "cell_type": "markdown",
		   "metadata": {},
		   "source": [
			"## Example 10.5: transmission_eff.sce"
		   ]
		  },
  {
"cell_type": "code",
	   "execution_count": null,
	   "metadata": {
	    "collapsed": true
	   },
	   "outputs": [],
"source": [
"//Chapter 10\n",
"//Example 10_5\n",
"//Page 236\n",
"clear;clc;\n",
"kw=3600;\n",
"pf=0.8;\n",
"vs=33;\n",
"r=5.31;\n",
"x=5.54;\n",
"//Sending end voltage per phase\n",
"vsp=vs*1000/sqrt(3);\n",
"printf('Sending end voltage per- phase = %d V \n', vsp);\n",
"//line current\n",
"il=kw/3*1000/pf;\n",
"printf('Line current = %d*10^5/Vr \n', il/10^5);\n",
"//using approximate expression,\n",
"vr=18435;\n",
"printf('(i) Vr = %d V \n', vr);\n",
"lv=sqrt(3)*vr/1000;\n",
"printf('    Line voltage at recieving end = %.2f kV \n\n', lv);\n",
"//line current \n",
"lc=il/vr;\n",
"printf('(ii) Line current = %.2f A \n\n', lc);\n",
"loss=3*lc^2*r;\n",
"eff=kw/(kw+loss/1000);\n",
"printf('(iii) Line losses = %.3f kW \n', loss/1000);\n",
"printf('      Transmission efficiency = %.2f %% \n\n', eff*100)"
   ]
   }
,
{
		   "cell_type": "markdown",
		   "metadata": {},
		   "source": [
			"## Example 10.6: sending_end_pf.sce"
		   ]
		  },
  {
"cell_type": "code",
	   "execution_count": null,
	   "metadata": {
	    "collapsed": true
	   },
	   "outputs": [],
"source": [
"//Chapter 10\n",
"//Example 10_6\n",
"//Page 237\n",
"clear;clc;\n",
"r=6;\n",
"xl=8;\n",
"pfr=0.9;\n",
"vr=110*1000/sqrt(3);\n",
"vs=120*1000/sqrt(3);\n",
"i=(vs-vr)/(r*pfr+xl*sin(acos(pfr)));\n",
"op=3*vr*i*pfr/1000;\n",
"pfs=(vr*pfr+i*r)/vs;\n",
"printf('Recieving end voltage = %.0f V \n\n', vr);\n",
"printf('Sending end voltage = %.0f V \n\n', vs);\n",
"printf('Load current = %.2f A \n\n', i);\n",
"printf('(i) Power output = %.0f kW \n\n', op);\n",
"printf('(ii) Sending end power factor = %.2f lag \n\n', pfs);"
   ]
   }
,
{
		   "cell_type": "markdown",
		   "metadata": {},
		   "source": [
			"## Example 10.7: transmission_efficiency_3.sce"
		   ]
		  },
  {
"cell_type": "code",
	   "execution_count": null,
	   "metadata": {
	    "collapsed": true
	   },
	   "outputs": [],
"source": [
"//Chapter 10\n",
"//Example 10_7\n",
"//Page 237\n",
"clear;clc;\n",
"vr=11*1000/sqrt(3);\n",
"r=1.5;\n",
"xl=4;\n",
"pfr=0.8;\n",
"pd=5000;\n",
"i=pd*1000/3/vr;\n",
"vs=vr+i*r*pfr+i*xl*sin(acos(pfr));\n",
"reg=(vs-vr)/vr*100;\n",
"loss=3*i^2*r;\n",
"op=pd*pfr;\n",
"ip=op+loss/1000;\n",
"n=op/ip*100;\n",
"printf('Recieving end voltage = %.0f V \n\n', vr);\n",
"printf('Load current = %.2f A \n\n', i);\n",
"printf('Sending ebd voltage = %.2f V \n\n', vs);\n",
"printf('%% Regulation = %.2f %% \n\n', reg);\n",
"printf('Lone losses = %.0f kW \n\n', loss/1000);\n",
"printf('Output power = %.0f kW \n\n', op);\n",
"printf('Input power = %.0f kW \n\n', ip);\n",
"printf('Transmission efficiency = %.2f %% \n\n', n);"
   ]
   }
,
{
		   "cell_type": "markdown",
		   "metadata": {},
		   "source": [
			"## Example 10.8: transmission_efficiency_4.sce"
		   ]
		  },
  {
"cell_type": "code",
	   "execution_count": null,
	   "metadata": {
	    "collapsed": true
	   },
	   "outputs": [],
"source": [
"//Chapter 10\n",
"//Example 10_8\n",
"//Page 238\n",
"clear;clc;\n",
"f=50;\n",
"ll=16;\n",
"pd=1000;\n",
"v_r=11;\n",
"pfr=0.8;\n",
"r=0.03;\n",
"l=0.7;\n",
"r_ohm=r*ll;\n",
"xl=l*2*%pi*f*ll/1000;\n",
"vr=v_r*1000/sqrt(3);\n",
"i=pd*1000/3/vr/pfr;\n",
"vs=vr+i*r_ohm*pfr+i*xl*sin(acos(pfr));\n",
"reg=(vs-vr)/vr*100;\n",
"loss=3*i^2*r_ohm;\n",
"op=pd;\n",
"ip=op+loss/1000;\n",
"n=op/ip*100;\n",
"printf('Resistance of each conductor = %.2f ohm \n\n', r_ohm);\n",
"printf('Reactance of each conductor = %.2f ohm \n\n', xl);\n",
"printf('Recieving end voltage = %.0f V \n\n', vr);\n",
"printf('Load current = %.2f A \n\n', i);\n",
"printf('Sending end voltage = %.2f V \n\n', vs);\n",
"printf('%% Regulation = %.2f %% \n\n', reg);\n",
"printf('Line losses = %.3f kW \n\n', loss/1000);\n",
"printf('Output power = %.0f kW \n\n', op);\n",
"printf('Input power = %.1f kW \n\n', ip);\n",
"printf('Transmission efficiency = %.2f %% \n\n', n);"
   ]
   }
,
{
		   "cell_type": "markdown",
		   "metadata": {},
		   "source": [
			"## Example 10.9: transmission_efficiency_5.sce"
		   ]
		  },
  {
"cell_type": "code",
	   "execution_count": null,
	   "metadata": {
	    "collapsed": true
	   },
	   "outputs": [],
"source": [
"//Chapter 10\n",
"//Example 10_9\n",
"//Page 238\n",
"clear;clc;\n",
"pd=2000;\n",
"pfr=0.8;\n",
"vrd=6.6;\n",
"ll=20;\n",
"f=50;\n",
"vr=33;\n",
"r=0.4;\n",
"xl=0.5;\n",
"rp=7.5;\n",
"xlp=13.2;\n",
"rs=0.35;\n",
"xls=0.65;\n",
"rc=ll*r;\n",
"xlc=ll*xl;\n",
"eqr=rp+rs*(vr/vrd)^2;\n",
"eqxl=xlp+xls*(vr/vrd)^2;\n",
"tr=rc+eqr;\n",
"txl=xlc+eqxl;\n",
"vr_phase=vr*1000/sqrt(3);\n",
"i=pd*1000/sqrt(3)/vr/1000;\n",
"vs=vr_phase+i*tr*pfr+i*txl*sin(acos(pfr));\n",
"pfs=(vr_phase*pfr+i*tr)/vs;\n",
"loss=3*i^2*tr/1000;\n",
"op=pd*pfr;\n",
"ip=op+loss;\n",
"n=op/ip*100;\n",
"printf('Resistance of each conductor = %.2f ohm \n\n', rc);\n",
"printf('Reactance of each conductor = %.2f ohm \n\n', xlc);\n",
"printf('Equivalent resistance of transformer referred to primary = %.2f ohm \n\n', eqr);\n",
"printf('Equivalent reactance of transformer referred to primary = %.2f ohm \n\n', eqxl);\n",
"printf('Total resistance of line and transformer = %.2f ohm \n\n', tr);\n",
"printf('Total Reactance of line and transformer = %.2f ohm \n\n', txl);\n",
"printf('Recieving end voltage per phase = %.0f V \n\n', vr_phase);\n",
"printf('Load current = %.2f A \n\n', i);\n",
"printf('Sending end voltage = %.2f kV \n\n', vs*sqrt(3)/1000);\n",
"printf('Sending end power factor = %.2f \n\n', pfs);\n",
"printf('Line losses = %.3f kW \n\n', loss);\n",
"printf('Output power = %.0f kW \n\n', op);\n",
"printf('Input power = %.1f kW \n\n', ip);\n",
"printf('Transmission efficiency = %.2f %% \n\n', n);"
   ]
   }
],
"metadata": {
		  "kernelspec": {
		   "display_name": "Scilab",
		   "language": "scilab",
		   "name": "scilab"
		  },
		  "language_info": {
		   "file_extension": ".sce",
		   "help_links": [
			{
			 "text": "MetaKernel Magics",
			 "url": "https://github.com/calysto/metakernel/blob/master/metakernel/magics/README.md"
			}
		   ],
		   "mimetype": "text/x-octave",
		   "name": "scilab",
		   "version": "0.7.1"
		  }
		 },
		 "nbformat": 4,
		 "nbformat_minor": 0
}
