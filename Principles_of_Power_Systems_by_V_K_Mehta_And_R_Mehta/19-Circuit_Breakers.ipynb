{
"cells": [
 {
		   "cell_type": "markdown",
	   "metadata": {},
	   "source": [
       "# Chapter 19: Circuit Breakers"
	   ]
	},
{
		   "cell_type": "markdown",
		   "metadata": {},
		   "source": [
			"## Example 19.1: circuit_breaker_rating.sce"
		   ]
		  },
  {
"cell_type": "code",
	   "execution_count": null,
	   "metadata": {
	    "collapsed": true
	   },
	   "outputs": [],
"source": [
"//Chapter 19\n",
"//Example 19_1\n",
"//Page 483\n",
"clear;clc;\n",
"i=1500;\n",
"mva=1000;\n",
"v=33*1e3;\n",
"t=3;\n",
"printf('(i) Rated normal current = %.0f A \n\n', i);\n",
"printf('(ii) Breaking capacity = %.0f MVA \n\n', mva);\n",
"rsbc=mva*1e6/sqrt(3)/v;\n",
"printf('(iii) Rated symmetrical breaking capacity = %.0f A \n\n', rsbc);\n",
"rmc=2.55*rsbc;\n",
"printf('(iv) Rated making current = %.0f A \n\n', rmc);\n",
"printf('(v) Rated short time rating = %.0f A for %.0f sec \n\n', rsbc, t);\n",
"printf('(vi) Rated service voltage = %.0f kV \n\n', v/1000);"
   ]
   }
,
{
		   "cell_type": "markdown",
		   "metadata": {},
		   "source": [
			"## Example 19.2: average_rrrv.sce"
		   ]
		  },
  {
"cell_type": "code",
	   "execution_count": null,
	   "metadata": {
	    "collapsed": true
	   },
	   "outputs": [],
"source": [
"//Chapter 19\n",
"//Example 19_2\n",
"//Page 484\n",
"clear;clc;\n",
"f=50;\n",
"v=11*1e3;\n",
"x=5;\n",
"c=0.01*1e-6;\n",
"l=x/2/%pi/f;\n",
"emax=sqrt(2)*v/1000/sqrt(3);\n",
"fn=1/2/%pi/sqrt(l*c);\n",
"t=1/2/fn;\n",
"avg=2*emax/t;\n",
"printf('Inductance per phase = %.5f H \n\n', l);\n",
"printf('(i) Maximum value of recovery voltage = %.2f kV \n\n', emax);\n",
"printf('    Peak restriking voltage = %.2f kV \n\n', 2*emax);\n",
"printf('(ii) Frequency of oscillation = %.0f Hz \n\n', fn);\n",
"printf('(iii) Time t at which peak restriking voltage occurs = %.2f us \n\n', t*1e6);\n",
"printf('      Average rate of rise of recovery voltage = %.0f kV/sec \n\n', avg);"
   ]
   }
,
{
		   "cell_type": "markdown",
		   "metadata": {},
		   "source": [
			"## Example 19.3: natural_frequency_of_oscillations.sce"
		   ]
		  },
  {
"cell_type": "code",
	   "execution_count": null,
	   "metadata": {
	    "collapsed": true
	   },
	   "outputs": [],
"source": [
"//Chapter 19\n",
"//Example 19_3\n",
"//Page 484\n",
"clear;clc;\n",
"tp=50*1e-6;\n",
"rvp=100*1e3;\n",
"rrrv=rvp/tp;\n",
"fn=1/2/tp;\n",
"printf('Average RRRV = %.0f kV/sec \n\n', rrrv/1000);\n",
"printf('Natural frequency of oscillatins = %.0f Hz \n\n', fn);"
   ]
   }
,
{
		   "cell_type": "markdown",
		   "metadata": {},
		   "source": [
			"## Example 19.4: voltage_during_chopping.sce"
		   ]
		  },
  {
"cell_type": "code",
	   "execution_count": null,
	   "metadata": {
	    "collapsed": true
	   },
	   "outputs": [],
"source": [
"//Chapter 19\n",
"//Example 19_4\n",
"//PAge 485\n",
"clear;clc;\n",
"i=7;\n",
"l=35.2;\n",
"c=0.0023*1e-6;\n",
"e=i*sqrt(l/c);\n",
"printf('Voltage across breaker = %.0f kV \n\n', e/1000);"
   ]
   }
],
"metadata": {
		  "kernelspec": {
		   "display_name": "Scilab",
		   "language": "scilab",
		   "name": "scilab"
		  },
		  "language_info": {
		   "file_extension": ".sce",
		   "help_links": [
			{
			 "text": "MetaKernel Magics",
			 "url": "https://github.com/calysto/metakernel/blob/master/metakernel/magics/README.md"
			}
		   ],
		   "mimetype": "text/x-octave",
		   "name": "scilab",
		   "version": "0.7.1"
		  }
		 },
		 "nbformat": 4,
		 "nbformat_minor": 0
}
