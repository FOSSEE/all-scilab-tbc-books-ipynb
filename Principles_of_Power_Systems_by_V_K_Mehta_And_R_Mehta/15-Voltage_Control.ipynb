{
"cells": [
 {
		   "cell_type": "markdown",
	   "metadata": {},
	   "source": [
       "# Chapter 15: Voltage Control"
	   ]
	},
{
		   "cell_type": "markdown",
		   "metadata": {},
		   "source": [
			"## Example 15.1: Vs_per_phase.sce"
		   ]
		  },
  {
"cell_type": "code",
	   "execution_count": null,
	   "metadata": {
	    "collapsed": true
	   },
	   "outputs": [],
"source": [
"//Chapter 15\n",
"//Example 15_1\n",
"//Page 384\n",
"clear;clc;\n",
"kw=10000;\n",
"pf=0.8;\n",
"v=33;\n",
"r=5;\n",
"x=10;\n",
"i2=kw*1000/sqrt(3)/v/1000/pf;\n",
"ip=i2*pf;\n",
"iq=i2*sind(acosd(pf));\n",
"v1=v*1000/sqrt(3);\n",
"im=231;\n",
"capacity=3*v1*im/1000;\n",
"printf('Load current = %d A \n', i2);\n",
"printf('Ip = %.2f A \n', ip);\n",
"printf('Iq = %.2f A \n', iq);\n",
"printf('Sending end voltage per phase = %d V \n', v1);\n",
"printf('Im = %d A \n', im);\n",
"printf('Capacity of synchrounous condenser = %d kVAR \n', capacity);"
   ]
   }
,
{
		   "cell_type": "markdown",
		   "metadata": {},
		   "source": [
			"## Example 15.2: sunchronous_condensor_capacity.sce"
		   ]
		  },
  {
"cell_type": "code",
	   "execution_count": null,
	   "metadata": {
	    "collapsed": true
	   },
	   "outputs": [],
"source": [
"//Chapter 15\n",
"//Example 15_2\n",
"//Page 385\n",
"clear;clc;\n",
"kw=25000;\n",
"pf=0.8;\n",
"v=33;\n",
"r=5;\n",
"x=20;\n",
"i2=kw*1000/sqrt(3)/v/1000/pf;\n",
"ip=i2*pf;\n",
"iq=i2*sind(acosd(pf));\n",
"v1=v*1000/sqrt(3);\n",
"im=579.5;\n",
"capacity=3*v1*im/10^6;\n",
"printf('Load current = %d A \n', i2);\n",
"printf('Ip = %.2f A \n', ip);\n",
"printf('Iq = %.2f A \n', iq);\n",
"printf('Sending end voltage per phase = %d V \n', v1);\n",
"printf('Im = %d A \n', im);\n",
"printf('Capacity of synchrounous condenser = %.2f MVAR \n', capacity);"
   ]
   }
],
"metadata": {
		  "kernelspec": {
		   "display_name": "Scilab",
		   "language": "scilab",
		   "name": "scilab"
		  },
		  "language_info": {
		   "file_extension": ".sce",
		   "help_links": [
			{
			 "text": "MetaKernel Magics",
			 "url": "https://github.com/calysto/metakernel/blob/master/metakernel/magics/README.md"
			}
		   ],
		   "mimetype": "text/x-octave",
		   "name": "scilab",
		   "version": "0.7.1"
		  }
		 },
		 "nbformat": 4,
		 "nbformat_minor": 0
}
