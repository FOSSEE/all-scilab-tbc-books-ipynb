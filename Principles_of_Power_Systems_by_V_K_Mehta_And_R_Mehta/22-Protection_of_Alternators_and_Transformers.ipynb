{
"cells": [
 {
		   "cell_type": "markdown",
	   "metadata": {},
	   "source": [
       "# Chapter 22: Protection of Alternators and Transformers"
	   ]
	},
{
		   "cell_type": "markdown",
		   "metadata": {},
		   "source": [
			"## Example 22.1: Merz_Price_principle.sce"
		   ]
		  },
  {
"cell_type": "code",
	   "execution_count": null,
	   "metadata": {
	    "collapsed": true
	   },
	   "outputs": [],
"source": [
"//Chapter 22\n",
"//Example 22_1\n",
"//Page 529\n",
"clear;clc;\n",
"mva=10*1e6;\n",
"v=6.6*1e3;\n",
"ph_z=0.1;\n",
"i=175;\n",
"awp=0.1;\n",
"vph=v/sqrt(3);\n",
"flc=mva/sqrt(3)/v;\n",
"x=v*mva/1e6/flc/sqrt(3)/100;\n",
"zw=x*ph_z;\n",
"emfw=vph*ph_z;\n",
"r=sqrt((emfw/i)^2-zw^2);\n",
"printf('Voltage per phase = %.0f V \n\n', vph);\n",
"printf('Full load current = %.0f V \n\n', flc);\n",
"printf('Reactance per phase = %.3f ohm \n\n', x);\n",
"printf('Reactance of 10 percent winding = %.4f ohm \n\n', zw);\n",
"printf('EMF induced in 10 percent winding = %.0f V \n\n', emfw);\n",
"printf('Impedance offered by fault by 10 percent winding is Zf=sqrt(%.4f^2+r^2) \n\n', zw);\n",
"printf('Earthing resistance to be provided = %.3f ohm \n\n', r);"
   ]
   }
,
{
		   "cell_type": "markdown",
		   "metadata": {},
		   "source": [
			"## Example 22.2: unprotected_winding_calculations.sce"
		   ]
		  },
  {
"cell_type": "code",
	   "execution_count": null,
	   "metadata": {
	    "collapsed": true
	   },
	   "outputs": [],
"source": [
"//Chapter 22\n",
"//Example 22_2\n",
"//Page 530\n",
"clear;clc;\n",
"r=7.5;\n",
"mva=10;\n",
"i1=1000;\n",
"i2=5;\n",
"kv=6.6;\n",
"oc=0.5;\n",
"v_ph=kv*1000/sqrt(3);\n",
"min_fc=i1/i2*oc;\n",
"emf=v_ph/100;\n",
"efc=emf/r;\n",
"uw=min_fc/efc;\n",
"printf('Voltage per phase = %d V \n\n', v_ph);\n",
"printf('Minimum fault current which will operate the relay = %d A \n\n', min_fc);\n",
"printf('EMF induced in %%x winding = %.2f*x V \n\n', emf)\n",
"printf('Earth fault current which %%x winding will cause = %.2f*x A \n\n', efc);\n",
"printf('This current must be equal to %dA \n\n', min_fc);\n",
"printf('Unprotected winding, x= %.2f %% \n\n', uw);"
   ]
   }
,
{
		   "cell_type": "markdown",
		   "metadata": {},
		   "source": [
			"## Example 22.3: unprotected_winding_and_r.sce"
		   ]
		  },
  {
"cell_type": "code",
	   "execution_count": null,
	   "metadata": {
	    "collapsed": true
	   },
	   "outputs": [],
"source": [
"//Chapter 22\n",
"//Example 22_3\n",
"//Page 530\n",
"clear;clc;\n",
"mva=10;\n",
"kv=6.6;\n",
"i1=1000;\n",
"i2=5;\n",
"oc=0.75;\n",
"r=6;\n",
"x=10;\n",
"v_ph=kv*1000/sqrt(3);\n",
"min_fc=i1/i2*oc;\n",
"emf=v_ph/100;\n",
"efc=emf/r;\n",
"uw=min_fc/efc;\n",
"printf('(i) x%% of the winding is unprotected, \n\n')\n",
"printf('Voltage per phase = %d V \n\n', v_ph);\n",
"printf('Minimum fault current which will operate the relay = %d A \n\n', min_fc);\n",
"printf('EMF induced in %%x winding = %.2f*x V \n\n', emf)\n",
"printf('Earth fault current which %%x winding will cause = %.2f*x A \n\n', efc);\n",
"printf('This current must be equal to %d A \n\n', min_fc);\n",
"printf('Unprotected winding, x= %.2f %% \n\n', uw);\n",
"min_r=emf*x/min_fc;\n",
"printf('(ii) The minimum earthing resistance required to provide protection for %d %% of stator winding = %.2f ohm \n\n', (100-x), min_r);"
   ]
   }
,
{
		   "cell_type": "markdown",
		   "metadata": {},
		   "source": [
			"## Example 22.4: earthing_resistance_r.sce"
		   ]
		  },
  {
"cell_type": "code",
	   "execution_count": null,
	   "metadata": {
	    "collapsed": true
	   },
	   "outputs": [],
"source": [
"//Chapter 22\n",
"//Example 22_4\n",
"//Page 531\n",
"clear;clc;\n",
"mva=10;\n",
"kv=6.6;\n",
"x=(100-85);\n",
"v_ph=kv*1000/sqrt(3);\n",
"i=mva*1e6/sqrt(3)/kv/1000;\n",
"min_fc=0.2*i;\n",
"emf=0.15*v_ph;\n",
"r=emf/min_fc;\n",
"printf('Full load current = %.2f A \n\n', i);\n",
"printf('Minimum fault current which will operate the relay = %.2f A \n\n', min_fc);\n",
"printf('Voltage induced in %d %% winding is %.2f V \n\n', x, emf);\n",
"printf('Earth fault current which %d %% winding will cause = %.2f/r \n\n', x, emf);\n",
"printf('This current must be equal to minimum fusing current %.2f A \n\n', min_fc);\n",
"printf('Earthing resistance required = %.2f ohm \n\n', r);"
   ]
   }
,
{
		   "cell_type": "markdown",
		   "metadata": {},
		   "source": [
			"## Example 22.5: turn_ratio_1.sce"
		   ]
		  },
  {
"cell_type": "code",
	   "execution_count": null,
	   "metadata": {
	    "collapsed": true
	   },
	   "outputs": [],
"source": [
"//Chapter 22\n",
"//Example 22_5\n",
"//Page 538\n",
"clear;clc;\n",
"v1=220;\n",
"v2=11000;\n",
"v=220;\n",
"i1=600;\n",
"i2=5;\n",
"lc=sqrt(3)*i2;\n",
"pap=sqrt(3)*v*i1;\n",
"i=pap/sqrt(3)/v2;\n",
"ratio=i/lc;\n",
"printf('Line current of delta connected CTs on %d V side = %.2f A \n\n', v1, lc);\n",
"printf('Phase current of star connected CTs on %d V side = %.2f A \n\n', v2, lc);\n",
"printf('The line current on the %d V side = %.2f A \n\n',v2, i);\n",
"printf('Turn ratio of CTs on %d V side = %.3f:1 \n\n', v2, ratio);"
   ]
   }
,
{
		   "cell_type": "markdown",
		   "metadata": {},
		   "source": [
			"## Example 22.6: turn_ratio_2.sce"
		   ]
		  },
  {
"cell_type": "code",
	   "execution_count": null,
	   "metadata": {
	    "collapsed": true
	   },
	   "outputs": [],
"source": [
"//Chapter 22\n",
"//Example 22_6\n",
"//Page 538\n",
"clear;clc;\n",
"v1=0.4;\n",
"v2=11;\n",
"v=400;\n",
"i1=500;\n",
"i2=5;\n",
"lc=sqrt(3)*i2;\n",
"pap=sqrt(3)*v*i1;\n",
"i=pap/sqrt(3)/v2/1000;\n",
"ratio=i/lc;\n",
"printf('Line current of delta connected CTs on %d V side = %.2f A \n\n', v1, lc);\n",
"printf('Phase current of star connected CTs on %d V side = %.2f A \n\n', v2, lc);\n",
"printf('The line current on the %d V side = %.2f A \n\n',v2, i);\n",
"printf('Turn ratio of CTs on %d V side = %.1f:1 \n\n', v2, ratio);"
   ]
   }
],
"metadata": {
		  "kernelspec": {
		   "display_name": "Scilab",
		   "language": "scilab",
		   "name": "scilab"
		  },
		  "language_info": {
		   "file_extension": ".sce",
		   "help_links": [
			{
			 "text": "MetaKernel Magics",
			 "url": "https://github.com/calysto/metakernel/blob/master/metakernel/magics/README.md"
			}
		   ],
		   "mimetype": "text/x-octave",
		   "name": "scilab",
		   "version": "0.7.1"
		  }
		 },
		 "nbformat": 4,
		 "nbformat_minor": 0
}
