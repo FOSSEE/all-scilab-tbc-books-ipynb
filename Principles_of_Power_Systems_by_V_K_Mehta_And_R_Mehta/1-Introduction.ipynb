{
"cells": [
 {
		   "cell_type": "markdown",
	   "metadata": {},
	   "source": [
       "# Chapter 1: Introduction"
	   ]
	},
{
		   "cell_type": "markdown",
		   "metadata": {},
		   "source": [
			"## Example 1.1: efficiency_and_energy.sci"
		   ]
		  },
  {
"cell_type": "code",
	   "execution_count": null,
	   "metadata": {
	    "collapsed": true
	   },
	   "outputs": [],
"source": [
"//Chapter 1\n",
"//Example 1.1\n",
"//Page 6\n",
"clear;\n",
"clc;\n",
"Pi = 4200;\n",
"E = 120;\n",
"I = 32.2; \n",
"printf('(i)	Input Power,	Pi = %.4f J/s = 4200 W\n', Pi)\n",
"Po = E*I;\n",
"printf('	Output Power,	Po = %.4f W\n', Po)\n",
"//Calculation of efficiency\n",
"n = Po/Pi*100;\n",
"printf('	Efficiency,	n = %.2f %%\n', n)\n",
"Pl = Pi-Po;\n",
"printf('(ii)	Power lost,	Pl = %.4f W\n', Pl)\n",
"//Calculation of energy lost per minute of operation\n",
"El = Pl*60;\n",
"printf('	Energy lost per minute(=60s) of operation= Pl*t = %.4f J\n',El)"
   ]
   }
],
"metadata": {
		  "kernelspec": {
		   "display_name": "Scilab",
		   "language": "scilab",
		   "name": "scilab"
		  },
		  "language_info": {
		   "file_extension": ".sce",
		   "help_links": [
			{
			 "text": "MetaKernel Magics",
			 "url": "https://github.com/calysto/metakernel/blob/master/metakernel/magics/README.md"
			}
		   ],
		   "mimetype": "text/x-octave",
		   "name": "scilab",
		   "version": "0.7.1"
		  }
		 },
		 "nbformat": 4,
		 "nbformat_minor": 0
}
