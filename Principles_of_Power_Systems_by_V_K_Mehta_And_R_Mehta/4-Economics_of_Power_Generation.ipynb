{
"cells": [
 {
		   "cell_type": "markdown",
	   "metadata": {},
	   "source": [
       "# Chapter 4: Economics of Power Generation"
	   ]
	},
{
		   "cell_type": "markdown",
		   "metadata": {},
		   "source": [
			"## Example 4.10: a_b_c_form.sce"
		   ]
		  },
  {
"cell_type": "code",
	   "execution_count": null,
	   "metadata": {
	    "collapsed": true
	   },
	   "outputs": [],
"source": [
"//Chapter 4\n",
"//Example 4_10\n",
"//Page 78\n",
"clear;clc;\n",
"md=60;\n",
"lf=0.5;\n",
"b_and_e=5*1e6;\n",
"fotw=900000;\n",
"int_dep=0.1;\n",
"org=500000;\n",
"ugpa=md*lf*8760*1000;\n",
"a=org;\n",
"asfc=int_dep*b_and_e;\n",
"b=asfc/md/1000;\n",
"c=fotw/ugpa;\n",
"printf('Units generated per annum = %.0f kWh \n\n', ugpa);\n",
"printf('Annual fixed cost = Rs. %.0f \n\n', a);\n",
"printf('Annual semi fixed cost = Rs. %.2f \n\n', b);\n",
"printf('Annual running cost = Rs. %.5f \n\n', c);"
   ]
   }
,
{
		   "cell_type": "markdown",
		   "metadata": {},
		   "source": [
			"## Example 4.11: overall_generation_cost.sce"
		   ]
		  },
  {
"cell_type": "code",
	   "execution_count": null,
	   "metadata": {
	    "collapsed": true
	   },
	   "outputs": [],
"source": [
"//Chapter 4\n",
"//Example 4_11\n",
"//Page 79\n",
"clear;clc;\n",
"cost=3000;\n",
"i=0.05;\n",
"dep=0.02;\n",
"om=0.02;\n",
"i_r=0.015;\n",
"l=0.125;\n",
"d=1.25;\n",
"m_d=0.8\n",
"lf=0.4;\n",
"//assume ic=100kW\n",
"ic=100;\n",
"md=m_d*ic;\n",
"ad=md*lf;\n",
"cc=cost*100;\n",
"fc=cc*(i+dep);\n",
"agg_md=md*d;\n",
"afc=fc/agg_md;\n",
"rc=cc*(om+i_r);\n",
"ugpa=ad*8760;\n",
"u=ugpa*(1-l);\n",
"arc=rc/u;\n",
"printf('Annual fixed charges\n');\n",
"printf('  Annual fixed charges = Rs. %.0f \n', fc);\n",
"printf('  Aggregate of maximum demamd = %.0f kW \n', agg_md);\n",
"printf('  Annual fixed charges = Rs. %.0f per kW of max demand\n\n', afc);\n",
"printf('Annual running charges\n');\n",
"printf('  Annual running charges = Rs. %.0f \n', rc);\n",
"printf('  Units generated per annum = %.0f kWh \n', ugpa);\n",
"printf('  Units reaching customer  = %.0f kWh \n', u);\n",
"printf('  Annual running charges = Rs. %.5f \n\n', arc);\n",
"printf('Generation cost in two part form is: \n \t\t\t\t\t Rs(%.0f * kW + %.5f * kWh)\n\n', afc, arc);\n",
"t=fc+rc;\n",
"printf('Total annual charges = Rs. %.0f \n\n', t);\n",
"printf('Cost per kWh = Rs. %.4f \n\n', t/u);"
   ]
   }
,
{
		   "cell_type": "markdown",
		   "metadata": {},
		   "source": [
			"## Example 4.12: private_and_public_supply.sce"
		   ]
		  },
  {
"cell_type": "code",
	   "execution_count": null,
	   "metadata": {
	    "collapsed": true
	   },
	   "outputs": [],
"source": [
"//Chapter 4\n",
"//Example 4_12\n",
"//Page 80\n",
"clear;clc;\n",
"md=1;\n",
"lf=0.5;\n",
"cc=12*1e5;\n",
"rm=0.005;\n",
"fc=1600;\n",
"id=0.1;\n",
"fcon=0.3;\n",
"w=50000;\n",
"c=150;\n",
"rc=0.15;\n",
"ugpa=md*1000*lf*8760;\n",
"printf('(i) Private oil engine generating plant\n');\n",
"afc=fcon*ugpa;\n",
"a_f_c=afc*fc/1000;\n",
"arm=rm*ugpa;\n",
"aw=w;\n",
"aid=id*cc;\n",
"printf(' Annual fuel consumption = %.0f kg \n', afc);\n",
"printf(' Annual cost of fuel = Rs. %.0f \n', a_f_c);\n",
"printf(' Annual cost of maintainence and repair = Rs. %.0f \n', arm);\n",
"printf(' Annual wages = Rs. %.0f \n', aw);\n",
"printf(' Annual interest and depreciation = Rs. %.0f \n\n', aid);\n",
"printf(' Total annual charges = Rs. %.0f \n\n', a_f_c+arm+aw+aid);\n",
"afc2=c*1000;\n",
"arc=rc*ugpa;\n",
"t=afc2+arc;\n",
"printf('(ii) Public supply\n');\n",
"printf(' Annual fixed charges = Rs. %.0f \n', afc2);\n",
"printf('Annual running charges = Rs. %.0f \n', arc);\n",
"printf('Total annual charges = Rs. %.0f \n\n',t);"
   ]
   }
,
{
		   "cell_type": "markdown",
		   "metadata": {},
		   "source": [
			"## Example 4.13: steam_and_hydro.sce"
		   ]
		  },
  {
"cell_type": "code",
	   "execution_count": null,
	   "metadata": {
	    "collapsed": true
	   },
	   "outputs": [],
"source": [
"//Chapter 4\n",
"//Example 4_13\n",
"//Page 80\n",
"clear;clc;\n",
"md=100;\n",
"lf=0.3;\n",
"hp=1e8;\n",
"max0(2)=40;\n",
"cc=[1250 2500];\n",
"id=[0.12 .1];\n",
"oc=[0.05 0.015];\n",
"tc=[0 0.002];\n",
"ugpa=md*lf*8760*1000;\n",
"printf('Units generated per annum = %.0f kWh \n\n', ugpa);\n",
"printf('STEAM IN CONJUNCTION WITH HYDRO STATION\n');\n",
"u(2)=hp;\n",
"u(1)=ugpa-u(2);\n",
"printf('Units supplied by hydro station = %.0f kWh \n\n', u(2));\n",
"printf('Units supplied by steam station = %.0f kWh \n\n', u(1));\n",
"max0(1)=md-max0(2);\n",
"printf('Maximum output of steam station = %.0f MW \n\n', max0(2));\n",
"for i=1:2\n",
"  if i==1\n",
"    printf('\n(a) Steam station\n');\n",
"  end;\n",
"  \n",
"  if i==2\n",
"    printf('\n(b) Hydro station\n');\n",
"  end;\n",
"  \n",
"  capc(i)=max0(i)*1000*cc(i);\n",
"  aid(i)=id(i)*capc(i); \n",
"  opc(i)=oc(i)*u(i);\n",
"  trc(i)=tc(i)*u(i);\n",
"  tac(i)=opc(i)+trc(i)+aid(i);\n",
"  \n",
"  printf('Capital cost = Rs. %.0f \n', capc(i));\n",
"  printf('Annual interest and depreciation = Rs. %.0f \n', aid(i));\n",
"  printf('Operating cost = Rs. %.0f \n', opc(i));\n",
"  printf('Transmission cost = Rs. %.0f \n', trc(i));\n",
"  printf('Total annual cost = Rs. %.0f \n\n', tac(i));\n",
"  \n",
"end;\n",
"t=sum(tac);\n",
"printf('Total annual charges for both steam and hydro stations = Rs. %.0f \n', t);\n",
"o_c=t/ugpa;\n",
"printf('Overall cost per kWh = Rs. %.5f \n\n', o_c);\n",
"for j=1:2\n",
"  \n",
"  if j==1\n",
"    printf('\nSTEAM STATION\n');\n",
"  end;\n",
"  if j==2\n",
"    printf('\nHYDRO STATION\n');\n",
"  end;\n",
"  \n",
"  cct(j)=cc(j)*md*1000;\n",
"  a_id(j)=id(j)*cct(j);\n",
"  fc(j)=a_id(j)/ugpa;\n",
"  opct(j)=oc(j);\n",
"  trct(j)=tc(j);\n",
"  ovct(j)=fc(j)+opct(j)+trct(j);\n",
"  \n",
"  printf('Capital cost = Rs. %.0f \n', cct(j));\n",
"  printf('Annual interest and depreciation = Rs. %.0f \n', a_id(j));\n",
"  printf('Fixed charges/kWh = Rs. %.5f \n', fc(j));\n",
"  printf('Operating cost/kWh = Rs. %.4f \n', opct(j));\n",
"  printf('Transmission cost/kWh = Rs. %.4f \n', trct(j));\n",
"  printf('Overall/kWh cost = Rs. %.5f \n\n', ovct(j));\n",
"end;\n",
"  \n",
"  \n",
"  "
   ]
   }
,
{
		   "cell_type": "markdown",
		   "metadata": {},
		   "source": [
			"## Example 4.14: unit_cost.sce"
		   ]
		  },
  {
"cell_type": "code",
	   "execution_count": null,
	   "metadata": {
	    "collapsed": true
	   },
	   "outputs": [],
"source": [
"//Chapter 4\n",
"//Example 4_14\n",
"//Page 81\n",
"clear;clc;\n",
"mw=150;\n",
"cc_steam=1600;\n",
"cc_hydro=3000;\n",
"oc_steam=0.06;\n",
"oc_hydro=0.03;\n",
"interest=0.07;\n",
"md=mw*10^3;\n",
"printf('MAximum demand = %d MW \n', mw);\n",
"printf('STEAM PLANT: \n');\n",
"cc_s=cc_steam*md;\n",
"ai_s=interest*cc_s;\n",
"fc_s=ai_s;\n",
"rc_s=oc_steam;\n",
"printf('Capital cost = Rs. %d*10^6 \n', cc_s/10^6);\n",
"printf('Annual interest = Rs. %.2f*10^6 \n', ai_s/10^6);\n",
"printf('Fixed cost/unit = Rs. %.2f*10^6/x \n', fc_s/10^6);\n",
"printf('Running cost/unit = Rs. %.2f \n', rc_s);\n",
"printf('Total cost/unit = Rs. %.2f*10^6/x+%.2f \n\n', ai_s/10^6, rc_s);\n",
"printf('HYDRO PLANT: \n');\n",
"cc_h=cc_hydro*md;\n",
"ai_h=interest*cc_h;\n",
"fc_h=ai_h;\n",
"rc_h=oc_hydro;\n",
"printf('Capital cost = Rs. %d*10^6 \n', cc_h/10^6);\n",
"printf('Annual interest = Rs. %.2f*10^6 \n', ai_h/10^6);\n",
"printf('Fixed cost/unit = Rs. %.2f*10^6/x \n', fc_h/10^6);\n",
"printf('Running cost/unit = Rs. %.2f \n', rc_h);\n",
"printf('Total cost/unit = Rs. %.2f*10^6/x+%.2f \n\n', ai_h/10^6, rc_h);\n",
"x=490*10^6;\n",
"printf('By equating the overall cost, we get x = %.2f kWh \n', x);\n",
"lf=x/md/8760;\n",
"printf('Load factor = %.2f %%', lf*100);"
   ]
   }
,
{
		   "cell_type": "markdown",
		   "metadata": {},
		   "source": [
			"## Example 4.15: generation_cost.sce"
		   ]
		  },
  {
"cell_type": "code",
	   "execution_count": null,
	   "metadata": {
	    "collapsed": true
	   },
	   "outputs": [],
"source": [
"//Chapter 4\n",
"//Example 4_15\n",
"//Page 82\n",
"clear;clc;\n",
"cc_h=2100;\n",
"cc_s=1200;\n",
"rc_h=0.032;\n",
"rc_s=0.05;\n",
"id_s=0.09;\n",
"id_h=0.075;\n",
"resc_h=0.33;\n",
"resc_s=0.25;\n",
"units=40*10^6;\n",
"u=8760;\n",
"printf(' x kW - maximum demand \ny -annual load factor at which cost for both stations are same \nUnits generated per annum = %dxy kWh \n\n', u);\n",
"ic_s=1+resc_s;\n",
"ic_h=1+resc_h;\n",
"printf('Installed capacity of steam plant = %.2fx kW \n', ic_s);\n",
"printf('Installed capacity of hydro plant = %.2fx kW \n\n', ic_h);\n",
"printf('STEAM STATION: \n');\n",
"ccs=cc_s*ic_s;\n",
"ids=id_s*ccs;\n",
"rcs=rc_s*8760;\n",
"printf('Capital cost = Rs. %dx \n', ccs);\n",
"printf('Interest and depreciation = Rs. %dx \n', ids);\n",
"printf('Running cost/annum = Rs %dxy \n', rcs);\n",
"printf('Overall cost/kWh = Rs (%dx+%dxy)/(%dxy) \n\n', ids, rcs, u);\n",
"printf('HYDRO STATION: \n');\n",
"cch=cc_h*ic_h;\n",
"idh=id_h*cch;\n",
"rch=rc_h*8760;\n",
"printf('Capital cost = Rs. %dx \n', cch);\n",
"printf('Interest and depreciation = Rs. %dx \n', idh);\n",
"printf('Running cost/annum = Rs %dxy \n', rch);\n",
"printf('Overall cost/kWh = Rs (%dx+%dxy)/(%dxy) \n\n', idh, rch, u);\n",
"y=47.46;\n",
"printf('Equating operating cost, Load factor y = %.2f %% \n', y);\n",
"md=units/8760/y*100;\n",
"printf('Max demand = x = %.2f*10^3 kW \n', md/1000);\n",
"cost=(ids*md+rcs*md*y/100);\n",
"printf('Cost of generation = Rs. %.2f*10^3 \n\n', cost/1000);"
   ]
   }
,
{
		   "cell_type": "markdown",
		   "metadata": {},
		   "source": [
			"## Example 4.16: hours_of_operatio.sce"
		   ]
		  },
  {
"cell_type": "code",
	   "execution_count": null,
	   "metadata": {
	    "collapsed": true
	   },
	   "outputs": [],
"source": [
"//Chapter 4\n",
"//Example 4_16\n",
"//Page 83\n",
"clear;clc;\n",
"cap_b=17241;\n",
"cap_a=50000-cap_b;\n",
"y=8760*cap_b/50000;\n",
"printf('Capacity of station B = %d kW \n', cap_b);\n",
"printf('Capacity of station A = %d kW \n', cap_a);\n",
"printf('Number of hours if station B operation = %d hours \n\n', y);"
   ]
   }
,
{
		   "cell_type": "markdown",
		   "metadata": {},
		   "source": [
			"## Example 4.1: annual_depreciation_charge.sce"
		   ]
		  },
  {
"cell_type": "code",
	   "execution_count": null,
	   "metadata": {
	    "collapsed": true
	   },
	   "outputs": [],
"source": [
"//Chapter 4\n",
"//Example 4_1\n",
"//Page 74\n",
"clear;clc;\n",
"p=90000;\n",
"n=20;\n",
"s=10000;\n",
"adc=(p-s)/n;\n",
"printf('Annual depreciation charge = Rs. %.0f \n\n ', adc);"
   ]
   }
,
{
		   "cell_type": "markdown",
		   "metadata": {},
		   "source": [
			"## Example 4.2: payment_for_sinking_fund.sce"
		   ]
		  },
  {
"cell_type": "code",
	   "execution_count": null,
	   "metadata": {
	    "collapsed": true
	   },
	   "outputs": [],
"source": [
"//Chapter 4\n",
"//Example 4_2\n",
"//Page 74\n",
"clear;clc;\n",
"p=200000;\n",
"s=10000;\n",
"n=20;\n",
"r=0.08;\n",
"q=(p-s)*r/((1+r)^n-1);\n",
"printf('Annual payment for sinking fund = Rs. %.0f \n\n', q);"
   ]
   }
,
{
		   "cell_type": "markdown",
		   "metadata": {},
		   "source": [
			"## Example 4.3: value_after_20years.sce"
		   ]
		  },
  {
"cell_type": "code",
	   "execution_count": null,
	   "metadata": {
	    "collapsed": true
	   },
	   "outputs": [],
"source": [
"//Chapter 4\n",
"//Example 4_3\n",
"//Page 75\n",
"clear;clc;\n",
"p=1560000;\n",
"s=60000;\n",
"n=25;\n",
"y=20;\n",
"r=0.05;\n",
"printf('(i)Straight line method\n');\n",
"ad=(p-s)/n;\n",
"val1=p-ad*y;\n",
"printf('\t Value of equipment after %.0f years = Rs. %.0f \n\n', y, val1);\n",
"printf('(ii)Diminishing value method\n');\n",
"x=1-(s/p)^(1/n);\n",
"val2=p*(1-x)^y;\n",
"printf('\t Value of equipment after %.0f years = Rs. %.0f \n\n', y, val2);\n",
"printf('(iii)Sinking fund method\n');\n",
"q=(p-s)*r/((1+r)^n-1);\n",
"sf=q*((1+r)^y-1)/r;\n",
"val3=p-sf;\n",
"printf('\t Value of equipment after %.0f years = Rs. %.0f \n\n', y, val3);"
   ]
   }
,
{
		   "cell_type": "markdown",
		   "metadata": {},
		   "source": [
			"## Example 4.4: fixed_and_running_charges.sce"
		   ]
		  },
  {
"cell_type": "code",
	   "execution_count": null,
	   "metadata": {
	    "collapsed": true
	   },
	   "outputs": [],
"source": [
"//Chapter 4\n",
"//Example 4_4\n",
"//Page 76\n",
"clear;clc;\n",
"md=50000;\n",
"p=95*1e6;\n",
"lf=0.4;\n",
"fuel_oil=9*1e6;\n",
"tax=7.5*1e6;\n",
"rate=0.12;\n",
"ugpa=md*lf*8760;\n",
"printf('Units generated per annum = %.0f kWh \n\n', ugpa);\n",
"afc=rate*p;\n",
"printf('Annual fixed charges = Rs. %.0f \n\n', afc);\n",
"arc=fuel_oil+tax;\n",
"tac=afc+arc;\n",
"cpu=tac/ugpa;\n",
"printf('Cost per unit= Rs. %.2f \n\n', cpu);"
   ]
   }
,
{
		   "cell_type": "markdown",
		   "metadata": {},
		   "source": [
			"## Example 4.5: cost_per_unit.sce"
		   ]
		  },
  {
"cell_type": "code",
	   "execution_count": null,
	   "metadata": {
	    "collapsed": true
	   },
	   "outputs": [],
"source": [
"//Chapter 4\n",
"//Example 4_5\n",
"//Page 76\n",
"clear;clc;\n",
"ic=50000;\n",
"units=220*1e6;\n",
"afc_per_kW=160;\n",
"rc_per_kWh=0.04;\n",
"afc=afc_per_kW*ic;\n",
"arc=rc_per_kWh*units;\n",
"tac=afc+arc;\n",
"cpu=tac/units;\n",
"printf('Annual fixed charges = Rs. %.0f \n\n', afc);\n",
"printf('Annual running charges = Rs. %.0f \n\n', arc);\n",
"printf('Total annual charges = Rs. %.0f \n\n', tac);\n",
"printf('Cost per unit = Rs. %.5f \n\n', cpu);"
   ]
   }
,
{
		   "cell_type": "markdown",
		   "metadata": {},
		   "source": [
			"## Example 4.6: load_factor_values.sce"
		   ]
		  },
  {
"cell_type": "code",
	   "execution_count": null,
	   "metadata": {
	    "collapsed": true
	   },
	   "outputs": [],
"source": [
"//Chapter4\n",
"//Example 4_6\n",
"//Page 76\n",
"clear;clc;\n",
"md=100;\n",
"cost=160000;\n",
"afc_rate=0.12;\n",
"interest=0.05;\n",
"dep=0.05;\n",
"tax=0.02;\n",
"lf1=1;\n",
"lf2=0.5;\n",
"afc=afc_rate*cost;\n",
"printf('Annual fixed charges = Rs. %.0f \n\n', afc);\n",
"printf('When laod factor is 100%% \n');\n",
"ugpa1=md*lf1*8760;\n",
"fc1=afc/ugpa1;\n",
"printf('Units generated per annum = %.0f kWh \n', ugpa1);\n",
"printf('Fixed charges per kWh = Rs. %.5f \n\n', fc1);\n",
"printf('When laod factor is 50%% \n');\n",
"ugpa2=md*lf2*8760;\n",
"fc2=afc/ugpa2;\n",
"printf('Units generated per annum = %.0f kWh \n', ugpa2);\n",
"printf('Fixed charges per kWh = Rs. %.5f \n\n', fc2);"
   ]
   }
,
{
		   "cell_type": "markdown",
		   "metadata": {},
		   "source": [
			"## Example 4.7: cost_per_kWh.sce"
		   ]
		  },
  {
"cell_type": "code",
	   "execution_count": null,
	   "metadata": {
	    "collapsed": true
	   },
	   "outputs": [],
"source": [
"//Chapter 4\n",
"//Example 4_7\n",
"//Page 77\n",
"clear;clc;\n",
"pc=50;\n",
"lf=0.4;\n",
"p=12*1e6;\n",
"tax=400000;\n",
"other_cost=0.01;\n",
"interest=0.05;\n",
"dep=0.06;\n",
"md=pc;\n",
"printf('Annual fixed charges\n');\n",
"i_and_d=p*(interest+dep);\n",
"afc=i_and_d+tax;\n",
"printf('Interest and depreciation = Rs. %.0f \n', i_and_d);\n",
"printf('Wages and taxation = Rs. %.0f \n', tax);\n",
"printf('Total annual fixed charges = Rs. %.0f \n\n', afc);\n",
"printf('Annual running charges\n');\n",
"ugpa=md*lf*8760*1000;\n",
"cost=other_cost*ugpa;\n",
"tac=cost+afc;\n",
"cpkWh=tac/ugpa;\n",
"printf('Units generated per annum = %.0f kWh \n', ugpa);\n",
"printf('Cost of fuel and lubrication = Rs. %.0f \n', cost);\n",
"printf('Total annual charges = Rs. %.0f \n', tac);\n",
"printf('Cost per kWh = Rs. %.4f \n\n', cpkWh);"
   ]
   }
,
{
		   "cell_type": "markdown",
		   "metadata": {},
		   "source": [
			"## Example 4.8: reserve_capacity_and_kWh.sce"
		   ]
		  },
  {
"cell_type": "code",
	   "execution_count": null,
	   "metadata": {
	    "collapsed": true
	   },
	   "outputs": [],
"source": [
"//Chapter 4\n",
"//Example 4_8\n",
"//PAge 77;\n",
"clear;clc;\n",
"ic=300;\n",
"cf=0.5;\n",
"lf=0.6;\n",
"cost=9*1e7;\n",
"p=1e9;\n",
"i_d=0.1;\n",
"md=ic*cf/lf;\n",
"rc=ic-md;\n",
"printf('Reserve capacity = %.0f MW \n\n', rc);\n",
"ugpa=md*lf*8760*1000;\n",
"afc=i_d*p;\n",
"arc=cost;\n",
"tac=afc+arc;\n",
"cost=tac/ugpa;\n",
"printf('Units generated per annum = %.0f kWh \n', ugpa);\n",
"printf('Annaul fixed charges = Rs. %.0f \n', afc);\n",
"printf('Annual running charges = Rs. %.0f \n', arc);\n",
"printf('Total annual charges = Rs. %.0f \n', tac);\n",
"printf('Cost per kWh = Rs. %.3f \n', cost);"
   ]
   }
,
{
		   "cell_type": "markdown",
		   "metadata": {},
		   "source": [
			"## Example 4.9: two_part_form.sce"
		   ]
		  },
  {
"cell_type": "code",
	   "execution_count": null,
	   "metadata": {
	    "collapsed": true
	   },
	   "outputs": [],
"source": [
"//Chapter 4\n",
"//Example 4_9\n",
"//Page 78\n",
"clear;clc;\n",
"md=40;\n",
"lf=0.6;\n",
"cost=7*1e5;\n",
"fc_rate = 0.2;\n",
"ic=50;\n",
"p=1000;\n",
"dep=0.1;\n",
"r_per_kW=1;\n",
"r_per_kWh=0.1;\n",
"ugpa=md*lf*1000*8760;\n",
"cc=ic*1e6;\n",
"printf('Annual fixed charges\n');\n",
"d=dep*cc;\n",
"sm=fc_rate*cost;\n",
"afc=d+sm;\n",
"c_per_kW=afc/md/1000+r_per_kW;\n",
"printf('\t Depreciation = Rs. %.0f \n', d);\n",
"printf('\t Sales, maintainence = Rs. %.0f \n', sm);\n",
"printf('\t Total annual fixed charges = Rs. %.0f \n', afc);\n",
"printf('\t Cost per kW = Rs. %.2f \n\n', c_per_kW);\n",
"printf('Annual running charges\n');\n",
"s_m=(1-fc_rate)*cost;\n",
"c_per_kWh=s_m/ugpa+r_per_kWh;\n",
"printf('\t Salaries, maintainence = Rs. %.0f \n', s_m);\n",
"printf('\t Cost per kWh = Rs. %.4f \n\n', c_per_kWh);\n",
"printf('Total generation cost in two part form is given by: \n \t\t\t\t\t\t\t Rs. (%.2f *kW + %.4f *kWh) \n\n', c_per_kW, c_per_kWh);"
   ]
   }
],
"metadata": {
		  "kernelspec": {
		   "display_name": "Scilab",
		   "language": "scilab",
		   "name": "scilab"
		  },
		  "language_info": {
		   "file_extension": ".sce",
		   "help_links": [
			{
			 "text": "MetaKernel Magics",
			 "url": "https://github.com/calysto/metakernel/blob/master/metakernel/magics/README.md"
			}
		   ],
		   "mimetype": "text/x-octave",
		   "name": "scilab",
		   "version": "0.7.1"
		  }
		 },
		 "nbformat": 4,
		 "nbformat_minor": 0
}
