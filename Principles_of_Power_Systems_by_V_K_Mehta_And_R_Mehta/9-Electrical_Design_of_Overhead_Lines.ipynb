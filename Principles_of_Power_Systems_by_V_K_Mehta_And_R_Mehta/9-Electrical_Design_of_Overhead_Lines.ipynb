{
"cells": [
 {
		   "cell_type": "markdown",
	   "metadata": {},
	   "source": [
       "# Chapter 9: Electrical Design of Overhead Lines"
	   ]
	},
{
		   "cell_type": "markdown",
		   "metadata": {},
		   "source": [
			"## Example 9.10: loop_inductance_per_km_4.sce"
		   ]
		  },
  {
"cell_type": "code",
	   "execution_count": null,
	   "metadata": {
	    "collapsed": true
	   },
	   "outputs": [],
"source": [
"//Chapter 9\n",
"//Example 9_10\n",
"//Page 219\n",
"clear;clc;\n",
"//From the figure\n",
"Daad=20;\n",
"Dadb=100;\n",
"Dbbd=20;\n",
"Dab=Daad+Dadb;\n",
"Dabd=Daad+Dadb+Dbbd;\n",
"Dadbd=Dadb+Dbbd;\n",
"gmr=0.7788;\n",
"Daa=gmr;\n",
"Dadad=gmr;\n",
"Dm=(Dab*Dabd*Dadb*Dadbd)^(1/4);\n",
"Ds=(Daa*Daad*Dadad*Daad)^(1/4);\n",
"l=4*1e-4*log(Dm/Ds);\n",
"printf('GMR of conductor = %.4f cm \n\n', gmr);\n",
"printf('Equivalent self GMD of one phase = %.3f m \n\n', Ds);\n",
"printf('Equivalent mutual GMD = %.3f m \n\n', Dm);\n",
"printf('Loop Inductance/km = %.3f mH/km \n\n', l*1e3);"
   ]
   }
,
{
		   "cell_type": "markdown",
		   "metadata": {},
		   "source": [
			"## Example 9.11: capacitance_per_km.sce"
		   ]
		  },
  {
"cell_type": "code",
	   "execution_count": null,
	   "metadata": {
	    "collapsed": true
	   },
	   "outputs": [],
"source": [
"//Chapter 9\n",
"//Example 9_11\n",
"//Page 224\n",
"clear;clc;\n",
"r=1;\n",
"d=300;\n",
"e0=8.854*1e-12;\n",
"c=%pi*e0/log(d/r);\n",
"printf('Capacitance of the line = %.4f*10^-2 uF/km', c*1000*1e8);"
   ]
   }
,
{
		   "cell_type": "markdown",
		   "metadata": {},
		   "source": [
			"## Example 9.12: capacitance_of_each_line_conductor.sce"
		   ]
		  },
  {
"cell_type": "code",
	   "execution_count": null,
	   "metadata": {
	    "collapsed": true
	   },
	   "outputs": [],
"source": [
"//Chapter 9\n",
"//Example 9_12\n",
"//Page 225\n",
"clear;clc;\n",
"r=1.25/2;\n",
"d=200;\n",
"e0=8.854*1e-12;\n",
"c=2*%pi*e0/log(d/r);\n",
"printf('Capacitance of the line = %.4f uF/km \n', c*1e9);"
   ]
   }
,
{
		   "cell_type": "markdown",
		   "metadata": {},
		   "source": [
			"## Example 9.13: charging_current_per_phase.sce"
		   ]
		  },
  {
"cell_type": "code",
	   "execution_count": null,
	   "metadata": {
	    "collapsed": true
	   },
	   "outputs": [],
"source": [
"//Chapter 9\n",
"//Example 9_13\n",
"//Page 225\n",
"clear;clc;\n",
"v=66*1e3;\n",
"f=50;\n",
"d1=2;\n",
"d2=2.5;\n",
"d3=4.5;\n",
"d=282;\n",
"r=1.25/2;\n",
"e0=8.854*1e-12;\n",
"c=2*%pi*e0/log(d/r);\n",
"printf('(i) Line to nuetral Capacitance for 100km line = %.4f uF \n\n', c*1000*1e8);\n",
"ic=v/sqrt(3)*(2*%pi*f*c*100);\n",
"printf('(ii) Charging current per phase = %.2f A \n\n', ic*1000);"
   ]
   }
,
{
		   "cell_type": "markdown",
		   "metadata": {},
		   "source": [
			"## Example 9.14: capacitance_of_line.sce"
		   ]
		  },
  {
"cell_type": "code",
	   "execution_count": null,
	   "metadata": {
	    "collapsed": true
	   },
	   "outputs": [],
"source": [
"//Chapter 9\n",
"//Example 9_14\n",
"//Page 225\n",
"clear;clc;\n",
"l=100;\n",
"f=50;\n",
"d=250;\n",
"r=2/2;\n",
"e0=8.854*1e-12;\n",
"c=2*%pi*e0/log(d/r);\n",
"printf('Capacitance of the line = %.4f*10^-9 F/km \n\n', c*1e9*1000);\n",
"printf('Capacitance of 100km line = %.4f uF/phase \n\n', c*1000*1e8);"
   ]
   }
,
{
		   "cell_type": "markdown",
		   "metadata": {},
		   "source": [
			"## Example 9.15: charging_current_per_phase_2.sce"
		   ]
		  },
  {
"cell_type": "code",
	   "execution_count": null,
	   "metadata": {
	    "collapsed": true
	   },
	   "outputs": [],
"source": [
"//Chapter 9\n",
"//Example 9_15\n",
"//Page 226\n",
"clear;clc;\n",
"f=50;\n",
"v=132*1e3;\n",
"d1=4;\n",
"d2=4;\n",
"d3=8;\n",
"r=1e-2;\n",
"deq=(d1*d2*d3)^(1/3);\n",
"printf('Deq = %.2f m \n\n', deq);\n",
"e0=8.854*1e-12;\n",
"c=2*%pi*e0/log(deq/r);\n",
"printf('Capacitance of each conductor to nuetral = %.4f uF/km \n\n', c*1e9);\n",
"cn=c*1e9*100;\n",
"printf('Capacitance/phase for 100km line = %.4f uF/km \n\n', cn);\n",
"ic=v/sqrt(3)*(2*%pi*f)*cn/1e6;\n",
"printf('Charging current per phase= %.2f A \n\n', ic);"
   ]
   }
,
{
		   "cell_type": "markdown",
		   "metadata": {},
		   "source": [
			"## Example 9.1: loop_inductance_per_km_1.sce"
		   ]
		  },
  {
"cell_type": "code",
	   "execution_count": null,
	   "metadata": {
	    "collapsed": true
	   },
	   "outputs": [],
"source": [
"//Chapter 9\n",
"//Example 9_1\n",
"//Page 214\n",
"clear;clc;\n",
"d=200;\n",
"r=1.2/2;\n",
"loop_l=(1e-7)*(1+4*log(d/r));\n",
"printf('Loop indictance per length of the line = %.2f*10^-7 H \n\n', loop_l*1e7 );\n",
"printf('Loop indictance per km of the line = %.3f mH \n\n', loop_l*1e6 );"
   ]
   }
,
{
		   "cell_type": "markdown",
		   "metadata": {},
		   "source": [
			"## Example 9.2: loop_inductance_per_km_2.sce"
		   ]
		  },
  {
"cell_type": "code",
	   "execution_count": null,
	   "metadata": {
	    "collapsed": true
	   },
	   "outputs": [],
"source": [
"//Chapter 9\n",
"//Example 9_2\n",
"//PAge 214\n",
"clear;clc;\n",
"d=300;\n",
"r=1;\n",
"mr1=1;\n",
"mr2=100;\n",
"loop_l=(1e-7)*(mr1+4*log(d/r));\n",
"loop_ls=(1e-7)*(mr2+4*log(d/r));\n",
"printf('(i) With copper conductors mr=1 \n Loop indictance per meter = %.2f*10^-7 H \n\n', loop_l*1e7 );\n",
"printf('Loop indictance per km = %.3f mH \n\n', loop_l*1e6 );\n",
"printf('(ii) With steel conductors mr=100 \n Loop indictance per meter = %.2f*10^-7 H \n\n', loop_ls*1e7 );\n",
"printf('Loop indictance per km = %.3f mH \n\n', loop_ls*1e6 );"
   ]
   }
,
{
		   "cell_type": "markdown",
		   "metadata": {},
		   "source": [
			"## Example 9.3: inductance_per_phase_per_km_3.sce"
		   ]
		  },
  {
"cell_type": "code",
	   "execution_count": null,
	   "metadata": {
	    "collapsed": true
	   },
	   "outputs": [],
"source": [
"//Chapter 9\n",
"//Example 9_3\n",
"//PAge 215\n",
"clear;clc;\n",
"d=200;\n",
"r=1.24/2;\n",
"loop_l=(1e-7)*(0.5+2*log(d/r));\n",
"loop_ls=loop_l*1000;\n",
"printf('Loop inductance/phase/m = %d*10^-7 H \n\n', loop_l*1e7 );\n",
"printf('Loop indictance per km = %.1f mH \n\n', loop_ls*1e3 );"
   ]
   }
,
{
		   "cell_type": "markdown",
		   "metadata": {},
		   "source": [
			"## Example 9.4: inductance_per_phase_per_km_4.sce"
		   ]
		  },
  {
"cell_type": "code",
	   "execution_count": null,
	   "metadata": {
	    "collapsed": true
	   },
	   "outputs": [],
"source": [
"//Chapter 9\n",
"//Example 9_4\n",
"//Page 215\n",
"clear;clc;\n",
"r=1.24/2;\n",
"d12=2;\n",
"d23=2.5;\n",
"d31=4.5;\n",
"deq=(d12*d23*d31)^(1/3)*100;\n",
"printf('Equivalent equilateral spacing = %.2f cm \n\n', deq);\n",
"loop_l=(1e-7)*(0.5+2*log(deq/r));\n",
"printf('Inductance/phase/m = %.2f*10^-7 H \n\n', loop_l*1e7 );\n",
"printf(' Inductance/phase/km = %.3f mH \n\n', loop_l*1e6 );"
   ]
   }
,
{
		   "cell_type": "markdown",
		   "metadata": {},
		   "source": [
			"## Example 9.5: inductance_per_phase_per_km_5.sce"
		   ]
		  },
  {
"cell_type": "code",
	   "execution_count": null,
	   "metadata": {
	    "collapsed": true
	   },
	   "outputs": [],
"source": [
"//Chapter 9\n",
"//Example 9_5\n",
"//PAge 215\n",
"clear;clc;\n",
"r=2.54/2;\n",
"d12=2;\n",
"d23=2;\n",
"d31=4;\n",
"deq=(d12*d23*d31)^(1/3);\n",
"printf('Equivalent equilateral spacing = %.3f cm \n\n', deq);\n",
"loop_l=(1e-7)*(0.5+2*log(deq*100/r));\n",
"printf('Inductance/phase/m = %.2f*10^-7 H \n\n', loop_l*1e7 );\n",
"printf(' Inductance/phase/km = %.3f mH \n\n', loop_l*1e6 );"
   ]
   }
,
{
		   "cell_type": "markdown",
		   "metadata": {},
		   "source": [
			"## Example 9.6: loop_inductance_per_km_3.sce"
		   ]
		  },
  {
"cell_type": "code",
	   "execution_count": null,
	   "metadata": {
	    "collapsed": true
	   },
	   "outputs": [],
"source": [
"//Chapter 9\n",
"//Example 9_6\n",
"//Page 215\n",
"clear;clc;\n",
"r=1/2;\n",
"dab=25;\n",
"daa=100;\n",
"dabdash=sqrt(dab^2+daa^2);\n",
"gmr=0.7788*r;\n",
"ds=((gmr*daa)^2)^(1/4);\n",
"dm=(dab^2*dabdash^2)^(1/4);\n",
"l=2*1e-7*log(dm/ds);\n",
"printf('GMR of conductor = %.3f cm \n\n', gmr);\n",
"printf('Self GMD = %.2f cm \n\n', ds);\n",
"printf('Mutual GMD = %.2f cm \n\n', dm);\n",
"printf('Inductance/conductor/m = %.2f*10^-7 H \n\n', l*1e7 );\n",
"printf(' Inductance/conductor/km = %.3f mH \n\n', 2*l*1e6 );"
   ]
   }
,
{
		   "cell_type": "markdown",
		   "metadata": {},
		   "source": [
			"## Example 9.7: inductance_per_phase_per_km_4.sce"
		   ]
		  },
  {
"cell_type": "code",
	   "execution_count": null,
	   "metadata": {
	    "collapsed": true
	   },
	   "outputs": [],
"source": [
"//Chapter 9\n",
"//Example 9_7\n",
"//Page 216\n",
"clear;clc;\n",
"r=1.3;\n",
"d_acd=6;\n",
"d_bbd=d_acd;\n",
"d_ab=3;\n",
"d_bc=3;\n",
"d_adbd=d_bc;\n",
"d_aa=1.01*1e-2;\n",
"d_bb=d_aa;\n",
"d_adad=d_aa;\n",
"d_bdbd=d_aa;\n",
"d_bdb=d_aa;\n",
"d_ca=6;\n",
"d_cad=6;\n",
"d_cda=6;\n",
"d_cdad=6;\n",
"gmr=r*0.7788;\n",
"d_abd=sqrt(d_acd^2+d_ab^2);\n",
"d_adb=d_abd;\n",
"d_aad=sqrt(d_acd^2+(d_ab+d_bc)^2);\n",
"ds1=(d_aa*d_aad*d_adad*d_aad)^(1/4);\n",
"ds2=(d_bb*d_bbd*d_bdbd*d_bbd)^(1/4);\n",
"ds=(ds1*ds2*ds1)^(1/3);\n",
"dab=(d_ab*d_abd*d_adb*d_adbd)^(1/4);\n",
"dbc=dab;\n",
"dca=(d_ca*d_cad*d_cda*d_cdad)^(1/4);\n",
"dm=(dab*dbc*dca)^(1/3);\n",
"l=(1e-7)*2*log(dm/ds);\n",
"printf('GMR of conductor = %.2f cm \n\n', gmr);\n",
"printf('Distance a to b_dash = %.2f m \n', d_abd);\n",
"printf('Distance a to a_dash = %.2f m \n\n', d_aad);\n",
"printf('Ds1 = %.2f m \n', ds1);\n",
"printf('Ds2 = %.2f m \n', ds2);\n",
"printf('Ds = %.2f m \n\n', ds);\n",
"printf('Dab = %.2f m \n', dab);\n",
"printf('Dbc = %.2f m \n', dbc);\n",
"printf('Dca = %.2f m \n', dca);\n",
"printf('Dm = %.2f m \n\n', dm);\n",
"printf('Inductance per phase per metre length = %.2f mH \n\n',l*1e6);"
   ]
   }
,
{
		   "cell_type": "markdown",
		   "metadata": {},
		   "source": [
			"## Example 9.8: inductance_per_phase_per_km_6.sce"
		   ]
		  },
  {
"cell_type": "code",
	   "execution_count": null,
	   "metadata": {
	    "collapsed": true
	   },
	   "outputs": [],
"source": [
"//Chapter 9\n",
"//Example 9_8\n",
"//Page 217\n",
"clear;clc;\n",
"r=0.75;\n",
"//According to the figure in the text book\n",
"dab=3;\n",
"dbc=3;\n",
"dacd=4;\n",
"dbbd=5.5;\n",
"dcad=4;\n",
"dca=dab+dbc;\n",
"gmr=r*0.7788;\n",
"Daa=gmr;\n",
"Dadad=gmr;\n",
"Dab=sqrt(dab^2+r^2);\n",
"Dabd=sqrt(dab^2+(dacd+r)^2);\n",
"Daad=sqrt((dab+dbc)^2+dacd^2);\n",
"Dada=Daad;\n",
"Ds1=(Daa*Daad*Dada*Dadad)^(1/4)/10;\n",
"Ds2=(Daa*dbbd*Daa*dbbd)^(1/4)/10;\n",
"Ds3=Ds1;\n",
"Ds=(Ds1*Ds2*Ds3)^(1/3);\n",
"DAB=(Dab*Dabd*Dabd*Dab)^(1/4);\n",
"DBC=DAB;\n",
"DCA=(dca*dacd*dacd*dca)^(1/4);\n",
"Dm=(DAB*DBC*DCA)^(1/3);\n",
"l_ph_m=1e-7*2*log(Dm/Ds);\n",
"printf('GMR of conductor = %.3f cm \n\n', gmr);\n",
"printf('Distance a to b = %.2f m \n', Dab);\n",
"printf('Distance a to b-dash = %.2f m \n', Dabd);\n",
"printf('Distance a to a-dash = %.2f m \n\n', Daad);\n",
"printf('Ds1 = %.3f m \n', Ds1);\n",
"printf('Ds2 = %.3f m \n', Ds2);\n",
"printf('Ds3 = %.3f m \n', Ds3);\n",
"printf('Equivalent self GMD of one phase = %.3f m \n\n', Ds);\n",
"printf('DAB = %.3f m \n', DAB);\n",
"printf('DBC = %.3f m \n', DBC);\n",
"printf('DCA = %.3f m \n', DCA);\n",
"printf('Equivalent mutual GMD = %.3f m \n\n', Dm);\n",
"printf('Inductance/phase/m = %.3f*10^-3 mH \n\n', l_ph_m/10*1e7);\n",
"printf('Inductance/phase/km = %.3f mH \n\n', l_ph_m/10*1e7);"
   ]
   }
,
{
		   "cell_type": "markdown",
		   "metadata": {},
		   "source": [
			"## Example 9.9: inductance_per_phase_per_km_7.sce"
		   ]
		  },
  {
"cell_type": "code",
	   "execution_count": null,
	   "metadata": {
	    "collapsed": true
	   },
	   "outputs": [],
"source": [
"//Chapter 9\n",
"//Example 9_9\n",
"//Page 218\n",
"clear;clc;\n",
"r=5.3;\n",
"dab=8;\n",
"dbc=dab;\n",
"dcad=dab;\n",
"dadbd=dab;\n",
"dbdcd=dab;\n",
"gmr=r*0.7788/100;\n",
"Ds1=(gmr*3*dab*3*dab*gmr)^(1/4);\n",
"Ds2=Ds1;\n",
"Ds3=Ds1;\n",
"Ds=(Ds1*Ds2*Ds3)^(1/3);\n",
"DAB=(dab*4*dab*2*dab*dab)^(1/4);\n",
"DCA=(2*dab*1*dab*5*dab*2*dab)^(1/4);\n",
"DBC=DAB;\n",
"Dm=(DAB*DBC*DCA)^(1/3);\n",
"l_ph_m=1e-7*2*log(Dm/Ds);\n",
"printf('GMR of conductor = %.4f cm \n\n', gmr);\n",
"printf('Ds1 = %.3f m \n', Ds1);\n",
"printf('Ds2 = %.3f m \n', Ds2);\n",
"printf('Ds3 = %.3f m \n', Ds3);\n",
"printf('Equivalent self GMD of one phase = %.3f m \n\n', Ds);\n",
"printf('DAB = %.3f m \n', DAB);\n",
"printf('DBC = %.3f m \n', DBC);\n",
"printf('DCA = %.3f m \n', DCA);\n",
"printf('Equivalent mutual GMD = %.3f m \n\n', Dm);\n",
"printf('Inductance/phase/m = %.3f*10^-7 mH \n\n', l_ph_m*1e7);"
   ]
   }
],
"metadata": {
		  "kernelspec": {
		   "display_name": "Scilab",
		   "language": "scilab",
		   "name": "scilab"
		  },
		  "language_info": {
		   "file_extension": ".sce",
		   "help_links": [
			{
			 "text": "MetaKernel Magics",
			 "url": "https://github.com/calysto/metakernel/blob/master/metakernel/magics/README.md"
			}
		   ],
		   "mimetype": "text/x-octave",
		   "name": "scilab",
		   "version": "0.7.1"
		  }
		 },
		 "nbformat": 4,
		 "nbformat_minor": 0
}
