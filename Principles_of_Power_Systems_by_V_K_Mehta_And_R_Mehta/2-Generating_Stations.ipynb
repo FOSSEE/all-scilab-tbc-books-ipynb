{
"cells": [
 {
		   "cell_type": "markdown",
	   "metadata": {},
	   "source": [
       "# Chapter 2: Generating Stations"
	   ]
	},
{
		   "cell_type": "markdown",
		   "metadata": {},
		   "source": [
			"## Example 2.10: level_of_reservoir.sce"
		   ]
		  },
  {
"cell_type": "code",
	   "execution_count": null,
	   "metadata": {
	    "collapsed": true
	   },
	   "outputs": [],
"source": [
"//Chapter 2\n",
"//Example 2_10\n",
"//Page 24\n",
"clear;clc;\n",
"area=2.4;\n",
"capacity=5e6;\n",
"head=100\n",
"n_penstock=0.95;\n",
"n_turbine=0.9;\n",
"n_generation=0.85;\n",
"load_kWh=15000;\n",
"//calculation of total electrical energy that can be generated\n",
"w=capacity*1e3*9.81;\n",
"printf('Wt. of water available= %.2f N \n\n', w);\n",
"n_overall=n_penstock*n_turbine*n_generation;\n",
"printf('Overall efficiency= %.2f \n\n', n_overall);\n",
"energy=w*head*n_overall/1000/3600;\n",
"printf('Electrical energy that can be generated= %.1f kWh \n\n',energy); \n",
"//calculation of fall in reservoir level\n",
"printf('Level of reservoir= %.3f m \n\n', capacity/area/1e6);\n",
"printf('kWh generated in 3 hours=%.2f kWh \n\n', load_kWh*3);\n",
"fall= capacity/area/1e6*load_kWh*3/energy*100;\n",
"printf('Fall in reservoir level= %.2f cm \n\n',fall);"
   ]
   }
,
{
		   "cell_type": "markdown",
		   "metadata": {},
		   "source": [
			"## Example 2.11: excess_power.sce"
		   ]
		  },
  {
"cell_type": "code",
	   "execution_count": null,
	   "metadata": {
	    "collapsed": true
	   },
	   "outputs": [],
"source": [
"//Chapter 2\n",
"//Example 2_11\n",
"//PAge 25\n",
"clear;clc;\n",
"h=25;\n",
"power=400;\n",
"vol=[10 6 1.5];\n",
"months=[4 2 6];\n",
"n_overall=0.8;\n",
"//standby capacity\n",
"pd1=vol(1)*1e3*9.81*n_overall*h/1000\n",
"pd2=pd1*vol(2)/vol(1)\n",
"pd3=pd1*vol(3)/vol(1)\n",
"cap=power-pd3\n",
"printf('(i)\t Capacity of standby unit = %.1f kW \n\n', cap);\n",
"//excess power\n",
"discharge = vol.*months\n",
"avg_dis=sum(discharge)/12\n",
"pd=avg_dis*pd1/vol(1)\n",
"ep=pd-power\n",
"printf('(ii)\t Excess power available = %.1f kW \n\n', ep);"
   ]
   }
,
{
		   "cell_type": "markdown",
		   "metadata": {},
		   "source": [
			"## Example 2.12: load_factor.sce"
		   ]
		  },
  {
"cell_type": "code",
	   "execution_count": null,
	   "metadata": {
	    "collapsed": true
	   },
	   "outputs": [],
"source": [
"//Chapter 2\n",
"//Example 2_12\n",
"//Page 25\n",
"clear;clc;\n",
"md=10;\n",
"h=20;\n",
"n_overall=0.8;\n",
"lf=0.4;\n",
"//river discharge\n",
"ugpw=md*lf*24*7*1e3;\n",
"printf('(i) Units generated per week =%.1f kWh \n\n', ugpw);\n",
"app=1e3*9.81*h*n_overall/1000;\n",
"upw=app*24*7;\n",
"q=ugpw/upw;\n",
"printf('\t River dishcharge required = %.2f m^3/sec', q);\n",
"//load factor\n",
"flow=20;\n",
"pd=app*flow;\n",
"ug=pd*24;\n",
"lf=ug/1e4/24;\n",
"printf('(ii) Load factor =%.2f %% \n\n', lf*100);"
   ]
   }
,
{
		   "cell_type": "markdown",
		   "metadata": {},
		   "source": [
			"## Example 2.13: installed_capacity_1.sce"
		   ]
		  },
  {
"cell_type": "code",
	   "execution_count": null,
	   "metadata": {
	    "collapsed": true
	   },
	   "outputs": [],
"source": [
"//Chapter 2\n",
"//Example 2_13\n",
"//Page 26\n",
"clear;clc;\n",
"d=[500 520 850 800 875 900 546];\n",
"days=7;\n",
"h=15;\n",
"n_overall=0.85;\n",
"lf=0.4;\n",
"scf(0)\n",
"bar(d, 1, 'red');\n",
"xlabel('Days');\n",
"ylabel('Discharge')\n",
"xgrid(0);\n",
"//Average daily discharge\n",
"avg=sum(d)/days;\n",
"printf('(i) Average daily discharge = %.0f m^3/sec \n\n', avg);\n",
"//Pondage required\n",
"vol=0;\n",
"j=0;\n",
"for i=1:7\n",
"  if d(i)<avg\n",
"    vol= vol+d(i);\n",
"    j=j+1;\n",
"  end;\n",
"end;\n",
"v=vol*24*3600;\n",
"v_req=j*avg*24*3600;\n",
"p=v_req-v;\n",
"printf('(ii) Pondage required = %.0f m^3 \n\n', p);\n",
"//Installed capacity\n",
"w=avg*1000*9.81;\n",
"app=w*h*n_overall;\n",
"ic=app/lf;\n",
"printf('(iii) Installed capacity of the plant = %.0f MW \n\n', ic/1e6);"
   ]
   }
,
{
		   "cell_type": "markdown",
		   "metadata": {},
		   "source": [
			"## Example 2.14: engine_efficiency.sce"
		   ]
		  },
  {
"cell_type": "code",
	   "execution_count": null,
	   "metadata": {
	    "collapsed": true
	   },
	   "outputs": [],
"source": [
"//Chapter 2\n",
"//Example 2_14\n",
"//Page 28\n",
"clear;clc;\n",
"fc=0.28;\n",
"cv=1e4;\n",
"n_alternator=0.95;\n",
"heat=cv*fc;\n",
"printf('Heat equivalent of ikWh =860 kcal\n');\n",
"n_overall = 860/heat;\n",
"printf('(i)\t Overall efficiency = %.2f %% \n\n', n_overall*100);\n",
"printf('(ii)\t Engine efficiency =%.2f %% \n\n', n_overall/n_alternator*100);"
   ]
   }
,
{
		   "cell_type": "markdown",
		   "metadata": {},
		   "source": [
			"## Example 2.15: thermal_efficiency.sce"
		   ]
		  },
  {
"cell_type": "code",
	   "execution_count": null,
	   "metadata": {
	    "collapsed": true
	   },
	   "outputs": [],
"source": [
"//Chapter 2\n",
"//Example 2_15\n",
"//PAge 30\n",
"clear;clc;\n",
"fc=1e3;\n",
"ugpd=4e3;\n",
"cv=1e4;\n",
"n_alternator=0.96;\n",
"n_mech=0.95;\n",
"//specific fuel consumption\n",
"printf('(i)\t Specific fuel consumption = %.2f kg/kWh \n\n', fc/ugpd);\n",
"//overall efficiency\n",
"heat_per_day = fc*cv;\n",
"e=ugpd*860;\n",
"printf('\t\t Electrical output in heat units per day =%3.0f kcal \n\n', e);\n",
"n_overall = e/1e7*100;\n",
"printf('(ii)\t Overall efficiency = %.2f %% \n\n', n_overall);\n",
"//thermal efficiency\n",
"n_engine = n_overall/n_alternator;\n",
"printf('\t\t Engine efficiency = %.2f %% \n\n', n_engine);\n",
"printf('(iii)\t Thermal efficiency = %.2f %% \n\n', n_engine/n_mech);"
   ]
   }
,
{
		   "cell_type": "markdown",
		   "metadata": {},
		   "source": [
			"## Example 2.16: overall_efficiency.sce"
		   ]
		  },
  {
"cell_type": "code",
	   "execution_count": null,
	   "metadata": {
	    "collapsed": true
	   },
	   "outputs": [],
"source": [
"//Chapter 2\n",
"//Example 2_16\n",
"//PAge 30\n",
"\n",
"clear;clc;\n",
"\n",
"p1=700;\n",
"p2=500;\n",
"n1=1;\n",
"n2=2;\n",
"fc=0.28;\n",
"cv=10200;\n",
"days=30;\n",
"pcf=0.4;\n",
"\n",
"max_energy=(p1*n1+p2*n2)*24*days;\n",
"printf('(i)\tMaximum energy that can be produced in a month = %.1f kWh \n\n', max_energy);\n",
"act_energy=pcf*max_energy;\n",
"printf('\t\t Actual energy produced = %.1f kWh \n\n', act_energy);\n",
"f_c=act_energy*fc;\n",
"printf('\t\t Fuel consumption in a month =%.0f kg \n\n', f_c);\n",
"\n",
"op=act_energy*860;\n",
"ip=f_c*cv;\n",
"printf('(ii)\t Overall efficiency =%.2f %% \n\n', op/ip*100);"
   ]
   }
,
{
		   "cell_type": "markdown",
		   "metadata": {},
		   "source": [
			"## Example 2.17: nuclear_power_1.sce"
		   ]
		  },
  {
"cell_type": "code",
	   "execution_count": null,
	   "metadata": {
	    "collapsed": true
	   },
	   "outputs": [],
"source": [
"//Chapter 2\n",
"//Example 2_17\n",
"//Page 34\n",
"clear;clc;\n",
"p=300*1e6;\n",
"e=200*1e6;\n",
"eph=p*3600;\n",
"printf('Energy recieved per hour = %.0f*10^10 J \n\n', eph*1e-10);\n",
"epf=e*1.6*1e-19;\n",
"printf('Energy released per fission = %.2f*10^-11 J \n\n', epf*1e11);\n",
"n=eph/epf;\n",
"printf('Number of atoms fissioned per hour = %.2f*10^21 \n\n', n*1e-21);\n",
"m=235/6.023/10^23*n;\n",
"printf('Mass of Uranium fissioned per hour = %.2f g \n\n', m);"
   ]
   }
,
{
		   "cell_type": "markdown",
		   "metadata": {},
		   "source": [
			"## Example 2.18: energy_per_second.sce"
		   ]
		  },
  {
"cell_type": "code",
	   "execution_count": null,
	   "metadata": {
	    "collapsed": true
	   },
	   "outputs": [],
"source": [
"//Chapter 2\n",
"//Example 2_18\n",
"//Page 35\n",
"clear;clc;\n",
"d=30;\n",
"m=2;\n",
"e=200*1e6;\n",
"n=m/235*6.023*10^26;\n",
"fr=n/d/8760;\n",
"epf=e*1.6*10^-19;\n",
"p=epf*fr;\n",
"printf('Number of atoms = %.2f*10^24 \n\n', n*1e-24);\n",
"printf('Fission rate = %.3f*10^18 \n\n', fr*10^-19);\n",
"printf('Energy per fission = %.2f*10^-11 J \n\n', epf*10^11);\n",
"printf('Energy released per second = %.3f MW \n\n', p*10^-7);"
   ]
   }
,
{
		   "cell_type": "markdown",
		   "metadata": {},
		   "source": [
			"## Example 2.1: calorific_value_fuel.sce"
		   ]
		  },
  {
"cell_type": "code",
	   "execution_count": null,
	   "metadata": {
	    "collapsed": true
	   },
	   "outputs": [],
"source": [
"//Chapter 1\n",
"//Example 2.1\n",
"//Page 16\n",
"clear;\n",
"clc;\n",
"n_overall = 20;\n",
"W = 0.6;\n",
"printf('Let x kcal/kg be the calorific value of fuel.\n')\n",
"printf('Heat produced by 0.6 kg of coal = 0.6 x kcal\n')\n",
"printf('Heat equivalent of 1 kWh = 860 k cal\n')\n",
"//Calculation of calorific value of coal\n",
"printf('Now, n_overall = Electrical output in heat units/ Heat of combustion\n')\n",
"x=860/(0.6*0.2);\n",
"printf('x = %.4f kcal/kg\n', x)"
   ]
   }
,
{
		   "cell_type": "markdown",
		   "metadata": {},
		   "source": [
			"## Example 2.2: annual_coal_bill.sce"
		   ]
		  },
  {
"cell_type": "code",
	   "execution_count": null,
	   "metadata": {
	    "collapsed": true
	   },
	   "outputs": [],
"source": [
"//Chapter 2\n",
"//Example 2.2\n",
"//Page 17\n",
"clear;\n",
"clc;\n",
"max_demand = 20000;\n",
"n_boiler = 0.85;\n",
"coal_consumption = 0.9;\n",
"load_factor = 40;\n",
"n_turbine = 0.90;\n",
"cost_per_ton = 300;\n",
"//Calculation of thermal efficiency\n",
"printf('(i)  Thermal efficiency = %.2f %%\n\n', n_boiler*n_turbine*100);\n",
"printf('(ii)  Units generated per annum = %.3f kWh\n', max_demand*load_factor*8760);\n",
"printf('\t Coal consumption/annum = %.3f tons\n', coal_consumption*7008*1e4/1000);\n",
"printf('\t Annual coal bill = Rs %.4f\n', cost_per_ton*coal_consumption*7008*1e4/1000);"
   ]
   }
,
{
		   "cell_type": "markdown",
		   "metadata": {},
		   "source": [
			"## Example 2.3: average_load.sce"
		   ]
		  },
  {
"cell_type": "code",
	   "execution_count": null,
	   "metadata": {
	    "collapsed": true
	   },
	   "outputs": [],
"source": [
"//Chapter 2\n",
"//Example 2.3\n",
"//Page 17\n",
"clear;\n",
"clc;\n",
"cost_per_annum = 300000;\n",
"cal_value = 5000;\n",
"cost_per_kg = 0.03;\n",
"n_thermal = 0.33;\n",
"n_electrical = 0.90;\n",
"n_overall = n_thermal*n_electrical;\n",
"printf('Overall efficiency = %.2f %% \n\n', n_overall*100);\n",
"coal_per_annum = cost_per_annum/cost_per_kg;\n",
"printf('Coal used/annum = %.2f kg\n\n', coal_per_annum);\n",
"hoc = coal_per_annum*cal_value;\n",
"//hoc-heat of combustion\n",
"printf('Heat of combustion = %.2f kcal \n\n', hoc);\n",
"heat_op = n_overall*hoc;\n",
"printf('Heat output = %.2f kcal \n\n', heat_op);\n",
"upa = heat_op/860;\n",
"//upa- units generated per annum\n",
"printf('Units generated per annum = %.0f kWh \n\n', upa);\n",
"avgl = upa/8760;\n",
"//avgl- average load on station\n",
"printf('Average load on station = %.1f kW \n\n', avgl);"
   ]
   }
,
{
		   "cell_type": "markdown",
		   "metadata": {},
		   "source": [
			"## Example 2.4: limiting_value.sce"
		   ]
		  },
  {
"cell_type": "code",
	   "execution_count": null,
	   "metadata": {
	    "collapsed": true
	   },
	   "outputs": [],
"source": [
"//Chapter 2\n",
"//Example 2.4\n",
"//Page 17\n",
"clear;\n",
"clc;\n",
"w=13500;\n",
"kWh1=7.5;\n",
"c=5000;\n",
"kWh2=2.9;\n",
"hours=8;\n",
"//limiting value\n",
"printf('Limiting value =%.2f kg \n\n', (w+kWh1)/(c+kWh2));\n",
"//coal consumption per hour\n",
"printf('Coal consumption per hour = %.1f kg \n\n', c/hours);"
   ]
   }
,
{
		   "cell_type": "markdown",
		   "metadata": {},
		   "source": [
			"## Example 2.5: coal_consumption_per_hour.sce"
		   ]
		  },
  {
"cell_type": "code",
	   "execution_count": null,
	   "metadata": {
	    "collapsed": true
	   },
	   "outputs": [],
"source": [
"//Chapter 2\n",
"//Example 2_5\n",
"//PAge 18\n",
"clear;clc;\n",
"power=100;\n",
"cv=6400;\n",
"n_thermal =0.3;\n",
"n_electrical =0.92;\n",
"//coal consumption\n",
"n_overall = n_thermal*n_electrical;\n",
"ugpa=power*1000;\n",
"h=ugpa*860/n_overall;\n",
"printf('Coal consumption per hour = %.1f kg \n\n', h/cv);"
   ]
   }
,
{
		   "cell_type": "markdown",
		   "metadata": {},
		   "source": [
			"## Example 2.6: total_energy_available.sce"
		   ]
		  },
  {
"cell_type": "code",
	   "execution_count": null,
	   "metadata": {
	    "collapsed": true
	   },
	   "outputs": [],
"source": [
"//chatper 2\n",
"//example 2_6\n",
"//page 23\n",
"clear;\n",
"clc;\n",
"capacity = 5*10^6;\n",
"h = 200;\n",
"n_overall = 75;\n",
"density=1000;\n",
"w = capacity*density*9.81;\n",
"printf('Weight of water available is W = %.2f N \n', w);\n",
"e = w*h*n_overall/3600/1000;\n",
"//e - electrical energy\n",
"printf('Electrical energy available = W*H*n_overall = %.2f kWh \n', e);"
   ]
   }
,
{
		   "cell_type": "markdown",
		   "metadata": {},
		   "source": [
			"## Example 2.7: yearly_gross_output.sce"
		   ]
		  },
  {
"cell_type": "code",
	   "execution_count": null,
	   "metadata": {
	    "collapsed": true
	   },
	   "outputs": [],
"source": [
"//Chapter 2\n",
"//Example 2_7\n",
"//Page 23\n",
"\n",
"clear;clc;\n",
"\n",
"w=94;\n",
"h=39;\n",
"n_plant=0.8;\n",
"\n",
"work=w*h*9.81;\n",
"printf('Work done/sec = %.1f kW \n\n', work);\n",
"\n",
"printf('This is gross plant capacity\n');\n",
"\n",
"fc=n_plant*work;\n",
"printf('(i)\t Firm capacity = %.1f kW \n\n', fc);\n",
"\n",
"printf('(ii)\t Yearly gross output = %.1f kW \n\n', fc*8760);\n",
"\n",
""
   ]
   }
,
{
		   "cell_type": "markdown",
		   "metadata": {},
		   "source": [
			"## Example 2.8: energy_per_hour.sce"
		   ]
		  },
  {
"cell_type": "code",
	   "execution_count": null,
	   "metadata": {
	    "collapsed": true
	   },
	   "outputs": [],
"source": [
"//Chapter 2\n",
"//Example 2_8\n",
"//Page 23\n",
"\n",
"clear;clc;\n",
"\n",
"h=100;\n",
"n_hydraulic=0.86;\n",
"n_electrical=0.92;\n",
"\n",
"n_overall=n_hydraulic*n_electrical;\n",
"w=9.81*1e3;\n",
"printf('Weight of water available = %.1f N \n\n', w);\n",
"power=w*h*n_overall;\n",
"printf('Power produced = %.1f kW \n\n', power/1000);\n",
"printf('Energy produced per hour = %.1f kWh \n\n', power/1000);"
   ]
   }
,
{
		   "cell_type": "markdown",
		   "metadata": {},
		   "source": [
			"## Example 2.9: maximum_demand.sce"
		   ]
		  },
  {
"cell_type": "code",
	   "execution_count": null,
	   "metadata": {
	    "collapsed": true
	   },
	   "outputs": [],
"source": [
"//Chapter 2\n",
"//Example 2_9\n",
"//PAge 23\n",
"clear;clc;\n",
"area=5e9;\n",
"h=30;\n",
"rainfall=1.25;\n",
"k=0.8;\n",
"n_overall=0.7;\n",
"lf=0.4;\n",
"//generator rating\n",
"vol=area*rainfall*k;\n",
"printf('Volume of water which can be utilised per annum =%1.0f m^3 \n\n', vol);\n",
"w=area*9.81*1e3;\n",
"printf('Weight of water available =%2.2f N \n\n', w);\n",
"e=w*h*n_overall/1e3/3600;\n",
"printf('Electrical energy available pr annum = %1.2f kWh\n\n', e);\n",
"ap=e/8760;\n",
"printf('Average power = %.1f kW \n\n', ap);\n",
"printf('MAximum demand = %.0f kW \n\n', ap/lf);"
   ]
   }
],
"metadata": {
		  "kernelspec": {
		   "display_name": "Scilab",
		   "language": "scilab",
		   "name": "scilab"
		  },
		  "language_info": {
		   "file_extension": ".sce",
		   "help_links": [
			{
			 "text": "MetaKernel Magics",
			 "url": "https://github.com/calysto/metakernel/blob/master/metakernel/magics/README.md"
			}
		   ],
		   "mimetype": "text/x-octave",
		   "name": "scilab",
		   "version": "0.7.1"
		  }
		 },
		 "nbformat": 4,
		 "nbformat_minor": 0
}
