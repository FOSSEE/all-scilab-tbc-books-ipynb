{
"cells": [
 {
		   "cell_type": "markdown",
	   "metadata": {},
	   "source": [
       "# Chapter 21: Protective relays"
	   ]
	},
{
		   "cell_type": "markdown",
		   "metadata": {},
		   "source": [
			"## Example 21.1: relay_operating_time.sce"
		   ]
		  },
  {
"cell_type": "code",
	   "execution_count": null,
	   "metadata": {
	    "collapsed": true
	   },
	   "outputs": [],
"source": [
"//Chapter 21\n",
"//Example 21.1\n",
"//Page 507\n",
"i=5;\n",
"cs=1.25;\n",
"ts=0.6;\n",
"tv1=400;\n",
"tv2=5;\n",
"fc=4000;\n",
"pup=i*cs;\n",
"frc=fc*tv2/tv1;\n",
"psm=frc/pup;\n",
"ot=3.5*0.6;\n",
"printf('Pick up current = %.2f A \n\n', pup);\n",
"printf('Fault current in relay coil = %.0f A \n\n', frc);\n",
"printf('Plug multiplier setting = %.0f  \n\n', psm);\n",
"printf('Corresponding to the plug multiplier setting of %.0f, the time of operation is 3.5 seconds.\n \t Therefore actual relay operating time = %.2f s \n\n', psm, ot);"
   ]
   }
],
"metadata": {
		  "kernelspec": {
		   "display_name": "Scilab",
		   "language": "scilab",
		   "name": "scilab"
		  },
		  "language_info": {
		   "file_extension": ".sce",
		   "help_links": [
			{
			 "text": "MetaKernel Magics",
			 "url": "https://github.com/calysto/metakernel/blob/master/metakernel/magics/README.md"
			}
		   ],
		   "mimetype": "text/x-octave",
		   "name": "scilab",
		   "version": "0.7.1"
		  }
		 },
		 "nbformat": 4,
		 "nbformat_minor": 0
}
