{
"cells": [
 {
		   "cell_type": "markdown",
	   "metadata": {},
	   "source": [
       "# Chapter 8: Mechanical Design of Overhead Lines"
	   ]
	},
{
		   "cell_type": "markdown",
		   "metadata": {},
		   "source": [
			"## Example 8.10: string_efficiency.sce"
		   ]
		  },
  {
"cell_type": "code",
	   "execution_count": null,
	   "metadata": {
	    "collapsed": true
	   },
	   "outputs": [],
"source": [
"//Chapter 8\n",
"//Example 8_10 \n",
"//Page 177\n",
"clear;clc;\n",
"shunt_cap=0.15;\n",
"line_cap=0.1;\n",
"n=3;\n",
"v1=13.25/40.55;\n",
"v2=12.5*v1/13.25;\n",
"v3=14.8*v1/13.25;\n",
"pv1=v1*100;\n",
"pv2=v2*100;\n",
"pv3=v3*100;\n",
"eff=1/n/v3*100;\n",
"printf('V1 = %.3f V \n', v1);\n",
"printf('V2 = %.3f V \n', v2);\n",
"printf('V3 = %.3f V \n\n', v3);\n",
"printf('(i) Voltage expressed as a percentage of V : \n');\n",
"printf('    Top unit = %.2f %% \n', pv1);\n",
"printf('    Middle unit = %.2f %% \n', pv2);\n",
"printf('    Third unit = %.2f %% \n\n', pv3);\n",
"printf('(ii) String efficiency = %.2f %% \n\n', eff);"
   ]
   }
,
{
		   "cell_type": "markdown",
		   "metadata": {},
		   "source": [
			"## Example 8.11: string_eff_1.sce"
		   ]
		  },
  {
"cell_type": "code",
	   "execution_count": null,
	   "metadata": {
	    "collapsed": true
	   },
	   "outputs": [],
"source": [
"//Chapter 8\n",
"//Example 8_11\n",
"//Page 179\n",
"clear;clc;\n",
"n=3;\n",
"shunt=0.2;\n",
"line=0.1;\n",
"lower=0.3;\n",
"v2=15.4/15.5;\n",
"v3=12-11*0.993;\n",
"v=1+v2+v3;\n",
"eff=v/n/v3;\n",
"printf('V2 = %.3f*V1 \n', v2);\n",
"printf('V3 = %.3f*V1 \n', v3);\n",
"printf('Voltage between conductor and earth = %.2f*V1 \n', v);\n",
"printf('String efficiency = %d %% \n\n', eff*100);"
   ]
   }
,
{
		   "cell_type": "markdown",
		   "metadata": {},
		   "source": [
			"## Example 8.12: v_across_each_insulator.sce"
		   ]
		  },
  {
"cell_type": "code",
	   "execution_count": null,
	   "metadata": {
	    "collapsed": true
	   },
	   "outputs": [],
"source": [
"//Chapter 8\n",
"//Example 8_11\n",
"//Page 179\n",
"clear;clc;\n",
"c1=1/6;\n",
"c2=2/5;\n",
"c3=3/4;\n",
"c4=4/3;\n",
"c5=5/2;\n",
"c6=6/1;\n",
"printf('At Junction A : C1 = %.3f C \n', c1);\n",
"printf('At Junction B : C2 = %.3f C \n', c2);\n",
"printf('At Junction C : C3 = %.3f C \n', c3);\n",
"printf('At Junction D : C4 = %.3f C \n', c4);\n",
"printf('At Junction E : C5 = %.3f C \n', c5);\n",
"printf('At Junction F : C6 = %.3f C \n', c6);"
   ]
   }
,
{
		   "cell_type": "markdown",
		   "metadata": {},
		   "source": [
			"## Example 8.13: rms_line_voltage.sce"
		   ]
		  },
  {
"cell_type": "code",
	   "execution_count": null,
	   "metadata": {
	    "collapsed": true
	   },
	   "outputs": [],
"source": [
"//Chapter 8\n",
"//Example 8_13\n",
"//Page 184\n",
"clear;clc;\n",
"r=1;\n",
"d=100;\n",
"go=30/sqrt(2);\n",
"mo=0.9;\n",
"delta=0.952;\n",
"vc=mo*go*delta*r*log(d/r);\n",
"lv=vc*sqrt(3);\n",
"printf('Disruptive critical voltage = %.2f kV/phase \n\n', vc);\n",
"printf('Line voltage = %.2f kV \n\n', lv);"
   ]
   }
,
{
		   "cell_type": "markdown",
		   "metadata": {},
		   "source": [
			"## Example 8.14: conductor_spacing.sce"
		   ]
		  },
  {
"cell_type": "code",
	   "execution_count": null,
	   "metadata": {
	    "collapsed": true
	   },
	   "outputs": [],
"source": [
"//Chapter 8\n",
"//Example 8_14\n",
"//Page 184\n",
"clear;clc;\n",
"v=132;\n",
"r=1.956/2;\n",
"vd=210;\n",
"go=30/sqrt(2);\n",
"mo=1;\n",
"delta=1;\n",
"vc=vd/sqrt(3);\n",
"dr=exp(vc/mo/go/delta/r);\n",
"d=dr*r;\n",
"printf('Conductor spacing = %.2f cm \n\n', d);"
   ]
   }
,
{
		   "cell_type": "markdown",
		   "metadata": {},
		   "source": [
			"## Example 8.15: total_corona_loss.sce"
		   ]
		  },
  {
"cell_type": "code",
	   "execution_count": null,
	   "metadata": {
	    "collapsed": true
	   },
	   "outputs": [],
"source": [
"//Chapter 8\n",
"//Example 8_15\n",
"//Page 185\n",
"clear;clc;\n",
"v=220;\n",
"r=1.5;\n",
"d=200;\n",
"t=40;\n",
"b=76;\n",
"mo=0.85;\n",
"f=50;\n",
"delta=3.92*b/(273+t);\n",
"go=30/sqrt(2);\n",
"vc=mo*go*delta*r*log(d/r);\n",
"v_phase=v/sqrt(3);\n",
"pc=242.2/delta*(f+25)*sqrt(r/d)*(v_phase-vc)^2*1e-5;\n",
"printf('Delta = %.3f \n\n', delta);\n",
"printf('Disruptive critical voltage per phase = %.2f kV \n\n', vc);\n",
"printf('Supply voltage per phase = %.2f kV \n\n', v_phase);\n",
"printf('Corona loss = %.5f kW/km/phase \n\n', pc);\n",
"printf('Total corona loss = %.5f kW \n\n', pc*3);"
   ]
   }
,
{
		   "cell_type": "markdown",
		   "metadata": {},
		   "source": [
			"## Example 8.16: power_loss.sce"
		   ]
		  },
  {
"cell_type": "code",
	   "execution_count": null,
	   "metadata": {
	    "collapsed": true
	   },
	   "outputs": [],
"source": [
"//Chapter 8\n",
"//Example 8_16\n",
"//Page 185\n",
"clear;clc;\n",
"pc=53;\n",
"v=106;\n",
"loss=98;\n",
"pl=110.9;\n",
"cv=113;\n",
"sq=sqrt(loss/pc);\n",
"vc=(sq*v/sqrt(3)-pl/sqrt(3))/(sq-1);\n",
"w=(cv/sqrt(3)-vc)^2/(v/sqrt(3)-vc)^2*pc;\n",
"printf('Critical disruptive voltage = %.2f kV \n\n', vc);\n",
"printf('Power loss at %.0f kV = %.0f kW \n\n', cv, w);"
   ]
   }
,
{
		   "cell_type": "markdown",
		   "metadata": {},
		   "source": [
			"## Example 8.17: ground_clearing_1.sce"
		   ]
		  },
  {
"cell_type": "code",
	   "execution_count": null,
	   "metadata": {
	    "collapsed": true
	   },
	   "outputs": [],
"source": [
"//Chapter 8\n",
"//Example 8_17\n",
"//Page 190\n",
"clear;clc;\n",
"w=680;\n",
"sf=2;\n",
"strength=3100;\n",
"l=260;\n",
"gc=10;\n",
"t=strength/sf;\n",
"sag=w/1000*l^2/8/t;\n",
"printf('Working tension = %.0f kg \n\n', t);\n",
"printf('Sag = %.1f m \n\n', sag);\n",
"printf('Conductor should be supported at a height of %.1f m \n\n', sag+gc);"
   ]
   }
,
{
		   "cell_type": "markdown",
		   "metadata": {},
		   "source": [
			"## Example 8.18: sag_and_vertical_sag.sce"
		   ]
		  },
  {
"cell_type": "code",
	   "execution_count": null,
	   "metadata": {
	    "collapsed": true
	   },
	   "outputs": [],
"source": [
"//Chapter 8\n",
"//Example 8_18\n",
"//Page 190\n",
"clear;clc;\n",
"l=150;\n",
"t=2000;\n",
"ww=1.5;\n",
"sg=9.9;\n",
"area=2;\n",
"w=sg*area*100/1000;\n",
"wt=sqrt(w^2+ww^2);\n",
"sag=wt*l^2/8/t;\n",
"theta=atan(ww/w);\n",
"vsag=sag*cos(theta);\n",
"printf('Weight of conductor per length = %.2f kg \n\n', w);\n",
"printf('Total weight of 1m conductor = %.2f kg \n\n', wt);\n",
"printf('Sag = %.2f m \n\n', sag);\n",
"printf('theta = %.2f degrees \n\n', theta/%pi*180);\n",
"printf('Vertical sag = %.2f m \n\n', vsag);"
   ]
   }
,
{
		   "cell_type": "markdown",
		   "metadata": {},
		   "source": [
			"## Example 8.19: vertical_sag_2.sce"
		   ]
		  },
  {
"cell_type": "code",
	   "execution_count": null,
	   "metadata": {
	    "collapsed": true
	   },
	   "outputs": [],
"source": [
"//Chapter 8\n",
"//Example 8_19\n",
"//Page 191\n",
"clear;clc;\n",
"l=200;\n",
"w=1170/1000;\n",
"bs=4218;\n",
"area=1.29;\n",
"pr=122;\n",
"sf=5;\n",
"t=bs*area/sf;\n",
"d=sqrt(4*area/%pi);\n",
"ww=pr*d*1e-2;\n",
"wt=sqrt(w^2+ww^2);\n",
"sag=wt*l^2/8/t;\n",
"theta=atan(ww/w);\n",
"vsag=sag*cos(theta);\n",
"printf('Working tension = %.0f kg \n\n', t);\n",
"printf('Diameter of the conductor = %.2f \n\n', d);\n",
"printf('Total weight of the conductor per metre length = %.2f kg \n\n', wt);\n",
"printf('Slant sag = %.2f m \n\n', sag);\n",
"printf('theta = %.2f degrees \n\n', theta*180/%pi);\n",
"printf('Vertical sag = %.2f m \n\n', vsag);"
   ]
   }
,
{
		   "cell_type": "markdown",
		   "metadata": {},
		   "source": [
			"## Example 8.1: string_efficiency_1.sce"
		   ]
		  },
  {
"cell_type": "code",
	   "execution_count": null,
	   "metadata": {
	    "collapsed": true
	   },
	   "outputs": [],
"source": [
"//Chapter 8\n",
"//Example 8_1\n",
"//page 171\n",
"clear;clc;\n",
"v=33*1e3;\n",
"k=0.11;\n",
"ins=3;\n",
"v_string=v/sqrt(3);\n",
"v1=v_string/(3+4*k+k^2);\n",
"v2=v1*(1+k);\n",
"v3=v1*(1+3*k+k^2);\n",
"n=v_string*100/ins/v3;\n",
"printf('(i)Voltage across top unit = %.2f kV \n\n', v1/1000);\n",
"printf('   Voltage across middle unit = %.2f kV \n\n', v2/1000);\n",
"printf('   Voltage across bottom unit = %.2f kV \n\n', v3/1000);\n",
"printf('(ii) String efficiency = %.2f %% \n\n', n);"
   ]
   }
,
{
		   "cell_type": "markdown",
		   "metadata": {},
		   "source": [
			"## Example 8.20: sag_in_tr_lines.sce"
		   ]
		  },
  {
"cell_type": "code",
	   "execution_count": null,
	   "metadata": {
	    "collapsed": true
	   },
	   "outputs": [],
"source": [
"//Chapter 8\n",
"//Example 8_20\n",
"//Page 191\n",
"clear;clc;\n",
"l=275;\n",
"d=1.96;\n",
"us=8060;\n",
"sf=2;\n",
"ice_t=1.27;\n",
"w=0.865;\n",
"pr=2;\n",
"wcc=0.91;\n",
"wp=3.9;\n",
"t=us/sf;\n",
"vol=%pi*ice_t*(d+ice_t)*100;\n",
"wi=wcc*vol/1000;\n",
"ww=wp*(d+2*ice_t)*100/1000;\n",
"wt=sqrt((w+wi)^2+ww^2);\n",
"sag=wt*l^2/8/t;\n",
"printf('Working tension = %.0f kg \n\n', t);\n",
"printf('Volume of ice per metre length of the conductor = %.0f cm^3 \n\n', vol);\n",
"printf('Weight of ice per metre length of conductor is %.2f kg \n\n', wi);\n",
"printf('Wind force/m length of conductor is %.3f kg \n\n', ww);\n",
"printf('Total weight of conductor per metre length of conductor is %.3f kg \n\n', wt);\n",
"printf('Sag = %.2f m \n\n', sag);"
   ]
   }
,
{
		   "cell_type": "markdown",
		   "metadata": {},
		   "source": [
			"## Example 8.21: safety_factor.sce"
		   ]
		  },
  {
"cell_type": "code",
	   "execution_count": null,
	   "metadata": {
	    "collapsed": true
	   },
	   "outputs": [],
"source": [
"//Chapter 8\n",
"//Example 8_21\n",
"//Page 192\n",
"clear;clc;\n",
"l=214;\n",
"vsag=2.35;\n",
"w=1.125;\n",
"ww=1.5;\n",
"area=3.225;\n",
"bs=2540;\n",
"wt=sqrt(w^2+ww^2);\n",
"t=bs*area;\n",
"s=vsag*wt/w;\n",
"f=t*8*s/(wt*l^2);\n",
"printf('Total weight of 1m length of conductor = %.3f kg \n\n', wt);\n",
"printf('Working tension = %.0f/f kg \n\n',t);\n",
"printf('Slant sag = %.2f m \n\n', s);\n",
"printf('Safety factor = %.0f \n\n', f);"
   ]
   }
,
{
		   "cell_type": "markdown",
		   "metadata": {},
		   "source": [
			"## Example 8.22: ground_clearance_2.sce"
		   ]
		  },
  {
"cell_type": "code",
	   "execution_count": null,
	   "metadata": {
	    "collapsed": true
	   },
	   "outputs": [],
"source": [
"//Chapter 8\n",
"//Example 8_22\n",
"//Page 192;\n",
"clear;clc;\n",
"l=150;\n",
"area=2;\n",
"us=5000;\n",
"sf=5;\n",
"sg=8.9;\n",
"ww=1.5;\n",
"mc=7;\n",
"w=area*sg*100/1000;\n",
"t=us*area/sf;\n",
"wt=sqrt(w^2+ww^2);\n",
"s=wt*l^2/8/t;\n",
"vsag=s*w/wt;\n",
"printf('Wt of conductor = %.2f kg \n\n', w);\n",
"printf('Working tension = %.0f kg \n\n', t);\n",
"printf('Total weight = %.2f kg \n\n', wt);\n",
"printf('Slant sag = %.2f m \n\n', s);\n",
"printf('Vertcal sag = %.2f m \n\n', vsag);\n",
"printf('Ground clearance = %.2f m \n\n', vsag+mc);"
   ]
   }
,
{
		   "cell_type": "markdown",
		   "metadata": {},
		   "source": [
			"## Example 8.23: clearence_from_water_level.sce"
		   ]
		  },
  {
"cell_type": "code",
	   "execution_count": null,
	   "metadata": {
	    "collapsed": true
	   },
	   "outputs": [],
"source": [
"//Chapter 8\n",
"//Example 8_23\n",
"//Page 193\n",
"clear;clc;\n",
"l=500;\n",
"w=1.5;\n",
"t=1600;\n",
"h2=90;\n",
"h1=30;\n",
"h=h2-h1;\n",
"printf('x1+x2=500 \n');\n",
"d=h*2*t/w/l;\n",
"printf('x2-x1=%.0f \n\n', d);\n",
"A=[1 1; -1 1];\n",
"b=[l; d];\n",
"X=A\b;\n",
"x1=X(1);\n",
"x2=X(2);\n",
"s1=w*x1^2/2/t;\n",
"cl=h1-s1;\n",
"x=l/2-x1;\n",
"smid=w*x^2/2/t;\n",
"clmp=cl+smid;\n",
"printf('x1 = %.0f m \n', x1);\n",
"printf('x2 = %.0f m \n\n', x2);\n",
"printf('S1 = %.0f m \n', s1);\n",
"printf('Clearance of the lowest point O from water level = %.0f m \n', cl);\n",
"printf('The distance from the lowest point to the midpoint = %.0f m \n', x);\n",
"printf('Sag at midpoint = %.2f m \n', smid);\n",
"printf('Clearance of mid point from water level = %.2f m \n\n', clmp);"
   ]
   }
,
{
		   "cell_type": "markdown",
		   "metadata": {},
		   "source": [
			"## Example 8.24: sag.sce"
		   ]
		  },
  {
"cell_type": "code",
	   "execution_count": null,
	   "metadata": {
	    "collapsed": true
	   },
	   "outputs": [],
"source": [
"//Chapter 8\n",
"//Example 8_24\n",
"//Page 194\n",
"clear;clc;\n",
"l=600;\n",
"wi=1;\n",
"h=15;\n",
"w=1.925;\n",
"t=8000*2.2/5;\n",
"wt=w+wi;\n",
"d=2*h*t/(1+w)/l;\n",
"A=[1 1; -1 1];\n",
"b=[l; d];\n",
"X=A\b;\n",
"x1=X(1);\n",
"x2=X(2);\n",
"s2=wt*x2^2/2/t;\n",
"printf('x1 = %.0f m \n', x1);\n",
"printf('x2 = %.0f m \n\n', x2);\n",
"printf('S2 = %.2f m \n', s2);"
   ]
   }
,
{
		   "cell_type": "markdown",
		   "metadata": {},
		   "source": [
			"## Example 8.25: clearence_from_water_level_2.sce"
		   ]
		  },
  {
"cell_type": "code",
	   "execution_count": null,
	   "metadata": {
	    "collapsed": true
	   },
	   "outputs": [],
"source": [
"//Chapter 8\n",
"//Example 8_25\n",
"//Page 195\n",
"clear;clc;\n",
"h2=90;\n",
"h1=40;\n",
"h=h2-h1;\n",
"l=400;\n",
"t=2000;\n",
"w=1;\n",
"d=h*2*t/l;\n",
"A=[1 1; -1 1];\n",
"b=[l; d];\n",
"X=A\b;\n",
"x1=X(1);\n",
"x2=X(2);\n",
"printf('x1 = %.0f m \n', x1);\n",
"printf('x2 = %.0f m \n\n', x2);\n",
"x=abs(x1)+l/2;\n",
"s2=w*x2^2/2/t;\n",
"smid=w*x^2/2/t;\n",
"hb=s2-smid;\n",
"cl=h2-hb;\n",
"printf('The distance from the lowest point to the midpoint = %.0f m \n', x);\n",
"printf('Sag at midpoint = %.2f m \n', smid);\n",
"printf('S2 = %.2f m \n', s2);\n",
"printf('Height of point B from mid point = %.0f m \n', hb);\n",
"printf('Clearance of mid point from water level = %.2f m \n\n', cl);"
   ]
   }
,
{
		   "cell_type": "markdown",
		   "metadata": {},
		   "source": [
			"## Example 8.26: clearence_from_ground.sce"
		   ]
		  },
  {
"cell_type": "code",
	   "execution_count": null,
	   "metadata": {
	    "collapsed": true
	   },
	   "outputs": [],
"source": [
"//Chapter 8\n",
"//Example 8_26\n",
"//Page 195\n",
"clear;clc;\n",
"grad=20;\n",
"h1=22;\n",
"h2=22;\n",
"l=300;\n",
"lc=2;\n",
"w=1;\n",
"t=1500;\n",
"eh=h1-lc;\n",
"h=l*(1/grad);\n",
"dc=sqrt(l^2-h^2);\n",
"d=2*t*h/w/dc;\n",
"a=[1 1; -1 1];\n",
"b=[dc; d];\n",
"x=a\b;\n",
"s2=w*x(2)^2/2/t;\n",
"bc=eh+h;\n",
"og=bc-s2-x(1)*tand(asind(1/grad));\n",
"printf('Effective height of each tower = %d m \n\n', eh);\n",
"printf('Vertical distance between towers is = %d m \n\n', h);\n",
"printf('Horizontal distance between two towers = %d m \n\n', dc);\n",
"printf('x1+x2=%d \n\n', dc);\n",
"printf('x2-x2=%d m \n\n', d);\n",
"printf('Solving the two, x1 = %d m , x2 = %d m \n\n', x(1), x(2));\n",
"printf('Sag S2 = %.2f m \n\n', s2);\n",
"printf('BC = %.2f m \n\n', bc);\n",
"printf('Clearance from the lowest point O from the ground = %.2f m \n\n', og);"
   ]
   }
,
{
		   "cell_type": "markdown",
		   "metadata": {},
		   "source": [
			"## Example 8.27: min_clearance.sce"
		   ]
		  },
  {
"cell_type": "code",
	   "execution_count": null,
	   "metadata": {
	    "collapsed": true
	   },
	   "outputs": [],
"source": [
"//Chapter 8\n",
"//Example 8_27\n",
"//Page 196\n",
"clear;clc;\n",
"c=8;\n",
"l=300;\n",
"s=10;\n",
"slope=15;\n",
"printf('On level ground: \n')\n",
"wbyt=8*s/l^2;\n",
"h=s+c;\n",
"printf('Height of tower = %d m \n\n', h);\n",
"printf('On sloping ground: \n');\n",
"hs=l/slope;\n",
"printf('Vertical distance between two towers = %d m \n', hs);\n",
"x1=75;\n",
"x2=225;\n",
"printf('From the graph: \nx1 = 75m, x2 = 225m \n');\n",
"s1=wbyt*x1^2/2;\n",
"s2=wbyt*x2^2/2;\n",
"printf('S1 = %.2f m \n', s1);\n",
"printf('S2 = %.2f m \n', s2);\n",
"cl=38-s2-5;\n",
"printf('Clearance = %.2f m \n', cl);\n",
"x=75;\n",
"//minimum clearance\n",
"minc=8;\n",
"printf('x = %d m \n', x);\n",
"printf('Minimum clearance = %d m \n', minc);"
   ]
   }
,
{
		   "cell_type": "markdown",
		   "metadata": {},
		   "source": [
			"## Example 8.2: string_efficiency_2.sce"
		   ]
		  },
  {
"cell_type": "code",
	   "execution_count": null,
	   "metadata": {
	    "collapsed": true
	   },
	   "outputs": [],
"source": [
"//Chapter 8\n",
"//Example 8_2\n",
"//Page 172\n",
"clear;clc;\n",
"v1=8;\n",
"v2=11;\n",
"k=(v2-v1)/v1;\n",
"v3=v2+(v2+v1)*k;\n",
"v=v1+v2+v3;\n",
"lv=sqrt(3)*v;\n",
"n=v*100/3/v3;\n",
"printf('k = %.2f kV \n\n', k);\n",
"printf('Voltage across third unit = %.2f kV \n\n', v3);\n",
"printf('Voltage between line and earth = %.2f kV \n\n', v);\n",
"printf('Line voltage = %.2f kV \n\n', lv)\n",
"printf('String efficiency = %.2f %% \n\n', n);"
   ]
   }
,
{
		   "cell_type": "markdown",
		   "metadata": {},
		   "source": [
			"## Example 8.3: string_efficiency_3.sce"
		   ]
		  },
  {
"cell_type": "code",
	   "execution_count": null,
	   "metadata": {
	    "collapsed": true
	   },
	   "outputs": [],
"source": [
"//Chapter 8\n",
"//Example 8_3\n",
"//Page 172\n",
"clear;clc;\n",
"ins=3;\n",
"v3=17.5;\n",
"k=1/8;\n",
"v1=v3/(1+3*k+k^2);\n",
"v2=(1+k)*v1;\n",
"v=v1+v2+v3;\n",
"n=v*100/3/v3;\n",
"printf('Voltage across first unit = %.2f kV \n\n', v1);\n",
"printf('Voltage across second unit = %.2f kV \n\n', v2);\n",
"printf('Voltage between line and earth = %.2f kV \n\n', v);\n",
"printf('String efficiency = %.2f %% \n\n', n);"
   ]
   }
,
{
		   "cell_type": "markdown",
		   "metadata": {},
		   "source": [
			"## Example 8.4: voltage_between_busbars.sce"
		   ]
		  },
  {
"cell_type": "code",
	   "execution_count": null,
	   "metadata": {
	    "collapsed": true
	   },
	   "outputs": [],
"source": [
"//Chapter 8\n",
"//Example 8_4\n",
"//Page 173\n",
"clear;clc;\n",
"v2=11;\n",
"v3=13.1;\n",
"p1=poly([1 3 1], 'k', 'c');\n",
"p2=poly([1 1],'k', 'c');\n",
"p=v3*p2-v2*p1;\n",
"r=roots(p, 'e');\n",
"k=r(2);\n",
"v1=v2/(1+k);\n",
"printf('V1 = %.2f kV \n\n', v1);\n",
"v=v1+v2+v3;\n",
"printf('Voltage between line and earth = %.2f kV \n\n', v);\n",
"printf('Voltage between bus bars = %.2f kV \n\n', v*sqrt(3));"
   ]
   }
,
{
		   "cell_type": "markdown",
		   "metadata": {},
		   "source": [
			"## Example 8.5: string_efficiency_4.sce"
		   ]
		  },
  {
"cell_type": "code",
	   "execution_count": null,
	   "metadata": {
	    "collapsed": true
	   },
	   "outputs": [],
"source": [
"//Chapter 8\n",
"//Example 8_5\n",
"//Page 173\n",
"clear;clc;\n",
"ins=3;\n",
"v3=15;\n",
"k=1/8;\n",
"v1=v3/(1+3*k+k^2);\n",
"v2=(1+k)*v1;\n",
"v=v1+v2+v3;\n",
"n=v*100/3/v3;\n",
"printf('Voltage across first unit = %.2f kV \n\n', v1);\n",
"printf('Voltage across second unit = %.2f kV \n\n', v2);\n",
"printf('Voltage between line and earth = %.2f kV \n\n', v);\n",
"printf('String efficiency = %.2f %% \n\n', n);"
   ]
   }
,
{
		   "cell_type": "markdown",
		   "metadata": {},
		   "source": [
			"## Example 8.6: string_efficiency_5.sce"
		   ]
		  },
  {
"cell_type": "code",
	   "execution_count": null,
	   "metadata": {
	    "collapsed": true
	   },
	   "outputs": [],
"source": [
"//Chapter 8\n",
"//Example 8_6\n",
"//Page 174\n",
"clear;clc;\n",
"ins=4;\n",
"k=0.1;\n",
"x=1;\n",
"v1=x*1;\n",
"v2=x*(1+k);\n",
"v3=x*(1+3*k+k^2);\n",
"v4=x*(1+6*k+5*k^2);\n",
"v=v1+v2+v3+v4;\n",
"pv1=v1/v*100;\n",
"pv2=v2/v*100;\n",
"pv3=v3/v*100;\n",
"pv4=v4/v*100;\n",
"n=v/ins/v4*100;\n",
"printf('\n(i) Voltage across top unit = %.2f V \n', v1);\n",
"printf('Voltage across second unit = %.2f V \n', v2);\n",
"printf('Voltage across third unit = %.2f V \n', v3);\n",
"printf('Voltage across fourth unit = %.2f V \n\n', v4);\n",
"printf('Voltage across the string = %.2f V \n', v);\n",
"printf('The voltage across each unit expressed as a percentage becomes: \n');\n",
"printf('\t Top unit = %.2f %% \n', pv1);\n",
"printf('\t Second from top = %.2f %% \n', pv2);\n",
"printf('\t Third from top = %.2f %% \n', pv3);\n",
"printf('\t Fourth from top = %.2f %% \n\n', pv4);\n",
"printf('(ii) String efficiency = %.2f %% \n', n);"
   ]
   }
,
{
		   "cell_type": "markdown",
		   "metadata": {},
		   "source": [
			"## Example 8.7: string_efficiency_6.sce"
		   ]
		  },
  {
"cell_type": "code",
	   "execution_count": null,
	   "metadata": {
	    "collapsed": true
	   },
	   "outputs": [],
"source": [
"//Chapter 8\n",
"//Example 8_7\n",
"//Page 175\n",
"clear;clc;\n",
"ins=5;\n",
"vl=100;\n",
"k=0.1;\n",
"v1=1;\n",
"v2=(1+k);\n",
"v3=(1+3*k+k^2);\n",
"v4=(1+6*k+5*k^2);\n",
"v5=(2+1*k+6*k^2);\n",
"v=v1+v2+v3+v4+v5;\n",
"pv1=v1/v*100;\n",
"pv2=v2/v*100;\n",
"pv3=v3/v*100;\n",
"pv4=v4/v*100;\n",
"pv5=v5/v*100;\n",
"v_string=vl/sqrt(3);\n",
"v_1=pv1/100*v_string;\n",
"v_2=pv2/100*v_string;\n",
"v_3=pv3/100*v_string;\n",
"v_4=pv4/100*v_string;\n",
"v_5=pv5/100*v_string;\n",
"n=v_string/ins/v_5;\n",
"printf('Voltage across string = %.2f kV \n\n', v_string);\n",
"printf('(i) Voltage across top insulator = %.2f kV \n', v_1);\n",
"printf('    Voltage across second unit = %.2f V \n', v_2);\n",
"printf('    Voltage across third unit = %.2f V \n', v_3);\n",
"printf('    Voltage across fourth unit = %.2f V \n', v_4);\n",
"printf('    Voltage across fifth unit = %.2f V \n\n', v_5);\n",
"printf('(ii) String efficiency = %.2f %% \n\n', n*100);"
   ]
   }
,
{
		   "cell_type": "markdown",
		   "metadata": {},
		   "source": [
			"## Example 8.8: voltage_between_conductors.sce"
		   ]
		  },
  {
"cell_type": "code",
	   "execution_count": null,
	   "metadata": {
	    "collapsed": true
	   },
	   "outputs": [],
"source": [
"//Chapter 8\n",
"//Example 8_8\n",
"//Page 176\n",
"clear;clc;\n",
"v2=13.2;\n",
"v3=18;\n",
"p1=poly([1 3 1], 'k', 'c');\n",
"p2=poly([1 1],'k', 'c');\n",
"p=v3*p2-v2*p1;\n",
"r=roots(p, 'e');\n",
"k=r(2);\n",
"v1=v2/(1+k);\n",
"printf('Voltage across first unit = V1 = %.2f kV \n\n', v1);\n",
"v4=v1*(1+k^3+5*k^2+6*k);\n",
"printf('Voltage across fourth unit = V4 = %.2f kV \n\n', v4);\n",
"v=v1+v2+v3+v4;\n",
"printf('Voltage between line and earth = %.2f kV \n\n', v);\n",
"printf('Voltage between bus bars = %.2f kV \n\n', v*sqrt(3));"
   ]
   }
,
{
		   "cell_type": "markdown",
		   "metadata": {},
		   "source": [
			"## Example 8.9: string_efficiency_7.sce"
		   ]
		  },
  {
"cell_type": "code",
	   "execution_count": null,
	   "metadata": {
	    "collapsed": true
	   },
	   "outputs": [],
"source": [
"//Chapter 8\n",
"//Example 8_9\n",
"//Page 177\n",
"clear;clc;\n",
"ins=4;\n",
"k=1/5;\n",
"v1=1;\n",
"v2=v1*(1+k);\n",
"v3=v1*(1+3*k+k^2);\n",
"v4=v1*(1+6*k+5*k^2+k^3);\n",
"v=v1+v2+v3+v4;\n",
"pv1=v1/v*100;\n",
"pv2=v2/v*100;\n",
"pv3=v3/v*100;\n",
"pv4=v4/v*100;\n",
"n=v/ins/v4*100;\n",
"printf('\n(i) V1 = %.2f V \n', v1);\n",
"printf('V2 = %.2f V \n', v2);\n",
"printf('V3 = %.2f V \n', v3);\n",
"printf('V4 = %.2f V \n\n', v4);\n",
"printf('Voltage across the string = %.2f V \n', v);\n",
"printf('The voltage across each unit expressed as a percentage becomes: \n');\n",
"printf('\t Top unit = %.2f %% \n', pv1);\n",
"printf('\t Second from top = %.2f %% \n', pv2);\n",
"printf('\t Third from top = %.2f %% \n', pv3);\n",
"printf('\t Fourth from top = %.2f %% \n\n', pv4);\n",
"printf('(ii) String efficiency = %.2f %% \n', n);"
   ]
   }
],
"metadata": {
		  "kernelspec": {
		   "display_name": "Scilab",
		   "language": "scilab",
		   "name": "scilab"
		  },
		  "language_info": {
		   "file_extension": ".sce",
		   "help_links": [
			{
			 "text": "MetaKernel Magics",
			 "url": "https://github.com/calysto/metakernel/blob/master/metakernel/magics/README.md"
			}
		   ],
		   "mimetype": "text/x-octave",
		   "name": "scilab",
		   "version": "0.7.1"
		  }
		 },
		 "nbformat": 4,
		 "nbformat_minor": 0
}
