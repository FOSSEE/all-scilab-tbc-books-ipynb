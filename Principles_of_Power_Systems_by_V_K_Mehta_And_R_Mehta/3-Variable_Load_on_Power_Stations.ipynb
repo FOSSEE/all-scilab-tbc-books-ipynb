{
"cells": [
 {
		   "cell_type": "markdown",
	   "metadata": {},
	   "source": [
       "# Chapter 3: Variable Load on Power Stations"
	   ]
	},
{
		   "cell_type": "markdown",
		   "metadata": {},
		   "source": [
			"## Example 3.10: load_curve.sce"
		   ]
		  },
  {
"cell_type": "code",
	   "execution_count": null,
	   "metadata": {
	    "collapsed": true
	   },
	   "outputs": [],
"source": [
"//Chapter 3\n",
"//Example 3_10\n",
"//Page 53\n",
"clear;clc;\n",
"time=[6 4 2 4 4 4];\n",
"load_mw=[40 50 60 50 70 40];\n",
"scf(0);\n",
"y=[40 40 40 50 50 60 50 50 70 70 40 40];\n",
"bar(y, 2, 'red');\n",
"xlabel('Time in hours');\n",
"ylabel('Load in kW');\n",
"xgrid(0) \n",
"md=max(y);\n",
"printf('\t (i)Maximum demand = %.0f MW \n\n', md);\n",
"area=0;\n",
"n=6;\n",
"for i=1:n;\n",
"  area=area+time(i)*load_mw(i);\n",
"end;\n",
"printf('\t (ii)Units generated per day = %.0f kWh \n\n', area*1000);\n",
"al=area*1000/24;\n",
"printf('\t (iii)Average load = %.0f kW \n\n', al);\n",
"lf=al/md/1000;\n",
"printf('\t (iv)Load factor = %.2f %% \n\n', lf*100);"
   ]
   }
,
{
		   "cell_type": "markdown",
		   "metadata": {},
		   "source": [
			"## Example 3.11: diversity_and_load_factor.sce"
		   ]
		  },
  {
"cell_type": "code",
	   "execution_count": null,
	   "metadata": {
	    "collapsed": true
	   },
	   "outputs": [],
"source": [
"//Chapter 3\n",
"//Example 3_11\n",
"//Page 54\n",
"clear;\n",
"clc;\n",
"l=[200 100 50 100]\n",
"p=[100 150 350 300 100];\n",
"t=[6 2 2 8 6];\n",
"scf(2);\n",
"y=[100 100 100 150 350 300 300 300 300 100 100 100];\n",
"bar(y, 2, 'green');\n",
"xgrid(0)\n",
"xlabel('Time in hours');\n",
"ylabel('Load in kW');\n",
"md=max(p);\n",
"printf('Maximum demand = %.0f kW \n\n', md);\n",
"sum_l=sum(l);\n",
"printf('(i) Diversity factor = %.3f \n\n', sum_l/md);\n",
"ugpd=0;\n",
"for i=1:5\n",
"  ugpd=ugpd+p(i)*t(i);\n",
"end;\n",
"printf('(ii) Units generated per day = %.0f kWh \n\n', ugpd);\n",
"al=ugpd/24;\n",
"printf('(iii) Average load = %.1f kW \n\n', al);\n",
"printf('\t Load factor = %.1f %% \n\n', al/md*100);"
   ]
   }
,
{
		   "cell_type": "markdown",
		   "metadata": {},
		   "source": [
			"## Example 3.12: station_load_factor.sce"
		   ]
		  },
  {
"cell_type": "code",
	   "execution_count": null,
	   "metadata": {
	    "collapsed": true
	   },
	   "outputs": [],
"source": [
"//Chapter 3\n",
"//Example 3_12\n",
"//Page 54\n",
"clear;clc;\n",
"c=[0 600 200 800 0; 200 0 1000 0 200; 0 200 1200 0 200];\n",
"t=[8 6 2 6 2];\n",
"for i=1:3\n",
"  energy(i)=0;\n",
"  sum_md=0;\n",
"  md(i)=max(c(i,:));\n",
"  printf('Max demand of customer %i = %.0f W \n\n',i, md(i));\n",
"    \n",
"  for j=1:5\n",
"    energy(i)=energy(i)+c(i,j)*t(j);\n",
"   \n",
"  end;\n",
"  sum_md=sum_md+md(i);\n",
"  lf(i)=energy(i)/md(i)/24*100;\n",
"  \n",
"  printf('Load factor of customer %i = %.2f %% \n\n', i,lf(i));\n",
"  \n",
"end;\n",
"for j=1:5\n",
"  sum_c(j)=0;\n",
"  for i=1:3\n",
"    \n",
"    sum_c(j)=sum_c(j)+(c(i,j));\n",
"    \n",
"  end;\n",
"end;\n",
"sim=max(sum_c);\n",
"df=sum(md)/sim;\n",
"printf('Diversity factor = %.2f \n\n', df);\n",
"slf=sum(energy)/sim/24;\n",
"printf('Station load factor = %.2f %% \n\n', slf*100);\n",
" \n",
"  "
   ]
   }
,
{
		   "cell_type": "markdown",
		   "metadata": {},
		   "source": [
			"## Example 3.13: 15_min_peak.sce"
		   ]
		  },
  {
"cell_type": "code",
	   "execution_count": null,
	   "metadata": {
	    "collapsed": true
	   },
	   "outputs": [],
"source": [
"//Chapter 3\n",
"//Example 3_13\n",
"//Page 55\n",
"clear;clc;\n",
"peak=3000;\n",
"area=12;\n",
"area_per_cm=1000;\n",
"peak_time=15;\n",
"ad=area_per_cm*2*area/24;\n",
"printf('Average demand = %.0f kW \n\n', ad);\n",
"lf=area_per_cm/peak*100;\n",
"printf('Load factor = %.2f %% \n\n', lf);"
   ]
   }
,
{
		   "cell_type": "markdown",
		   "metadata": {},
		   "source": [
			"## Example 3.14: heat_rate.sce"
		   ]
		  },
  {
"cell_type": "code",
	   "execution_count": null,
	   "metadata": {
	    "collapsed": true
	   },
	   "outputs": [],
"source": [
"//Chapter 3\n",
"//Example 3_14\n",
"//Page 56\n",
"clear;clc;\n",
"p=[260 200 160 100];\n",
"t=[6 8 4 6];\n",
"sets=4;\n",
"p_set=75;\n",
"cv=10000;\n",
"heat=2860;\n",
"//load factor\n",
"n=4;\n",
"upd=0;\n",
"for i=1:n\n",
" upd=(upd+(p(i)*t(i)));\n",
"end;\n",
"dlf=upd/max(p)/24;\n",
"printf('(i)\t Daily load factor=%.2f %% \n\n', dlf*100);\n",
"//average demand per day\n",
"adpd=upd/24;\n",
"printf('(ii)\t Average demand per day=%.0f kW \n\n', adpd*1000);\n",
"sc=p_set*1000*sets;\n",
"pcf=adpd/sc*1000;\n",
"printf('\t Plant capacity factor =%.2f %% \n\n', pcf*100);\n",
"//fuel per day\n",
"hpd=heat*upd;\n",
"fpd=hpd/cv;\n",
"printf('(iii)\tFuel required per day = %.1f tons \n\n', fpd);"
   ]
   }
,
{
		   "cell_type": "markdown",
		   "metadata": {},
		   "source": [
			"## Example 3.15: load_duration_curve.sce"
		   ]
		  },
  {
"cell_type": "code",
	   "execution_count": null,
	   "metadata": {
	    "collapsed": true
	   },
	   "outputs": [],
"source": [
"//Chapter 3\n",
"//Example 3_15\n",
"//Page 56\n",
"clear;clc;\n",
"l=[20 40 60 20 50 20];\n",
"t=[2 4 4 4 4 6];\n",
"scf(0);\n",
"subplot(1,2,1)\n",
"y=[20 20 40 60 20 50];\n",
"bar(y, 1, 'red');\n",
"xgrid(0);\n",
"xlabel('Time of day');\n",
"ylabel('Load in kW');\n",
"title('Load curve');\n",
"subplot(1,2,2)\n",
"r=[60 50 40 20 20 20];\n",
"bar(r, 1, 'green');\n",
"xgrid(0);\n",
"xlabel('Hours duration');\n",
"ylabel('Load in kW');\n",
"title('Load duration curve');\n",
"area=0;\n",
"for i=1:6\n",
"  area=area+l(i)*t(i);\n",
"end;\n",
"printf('Units generated per day = %.0f MWh \n\n', area);"
   ]
   }
,
{
		   "cell_type": "markdown",
		   "metadata": {},
		   "source": [
			"## Example 3.16: utilisation_factor.sce"
		   ]
		  },
  {
"cell_type": "code",
	   "execution_count": null,
	   "metadata": {
	    "collapsed": true
	   },
	   "outputs": [],
"source": [
"//Chapter 3\n",
"//Example 3_16\n",
"//Page 57\n",
"clear;clc;\n",
"const=4;\n",
"maxl=20;\n",
"tg1=10;\n",
"tg2=10;\n",
"tg3=5;\n",
"ic=tg1+tg2+tg3;\n",
"ad=0.5*(maxl+const);\n",
"pf=ad/ic;\n",
"ugpa=ad*1000*8760;\n",
"lf=ad/maxl*100;\n",
"uf=maxl/ic;\n",
"printf('Installed capacity = %.0f MW \n\n', ic);\n",
"printf('Average demand = %.0f MW \n\n', ad);\n",
"printf('Plant factor = %.2f %% \n\n', pf*100);\n",
"printf('Units generated per annum = %.2f*10^6 kWh \n\n', ugpa*1e-6);\n",
"printf('Load factor = %.2f %% \n\n', lf);\n",
"printf('Utilisation factor = %.2f %% \n\n', uf*100);"
   ]
   }
,
{
		   "cell_type": "markdown",
		   "metadata": {},
		   "source": [
			"## Example 3.17: maximum_load_on_feeder.sce"
		   ]
		  },
  {
"cell_type": "code",
	   "execution_count": null,
	   "metadata": {
	    "collapsed": true
	   },
	   "outputs": [],
"source": [
"//Chapter 3\n",
"//Example 3_17\n",
"//Page 57\n",
"clear;clc;\n",
"//Transformer 1- general power service and lighting\n",
"ahp=10; akw=5;\n",
"bhp=7.5; bkw=4;\n",
"chp=15;\n",
"dhp=5; dkw=2;\n",
"//Transformer 2 - residence lighting\n",
"ekw=5;\n",
"fkw=4;\n",
"gkw=8;\n",
"hkw=15;\n",
"ikw=20;\n",
"//Transformer 3 - Store lighting and power\n",
"jkw=10; jhp=5;\n",
"kkw=8; khp=25;\n",
"lkw=4;\n",
"n=0.72;\n",
"//Referring to Article 3.8 for demand factor values for various load types\n",
"//The factor used to convert HP to kW is 0.746\n",
"a=ahp*0.746/n*0.65+akw*0.6;\n",
"b=bhp*0.746/n*0.75+bkw*0.6;\n",
"c=chp*0.746/n*0.65;\n",
"d=dhp*0.746/n*0.75+dkw*0.6;\n",
"t1=a+b+c+d;\n",
"//diversity factor for consumers of this type is 1.5 as per Article 3.8\n",
"md1=t1/1.5;\n",
"e=ekw*0.5;\n",
"f=fkw*0.5;\n",
"g=gkw*0.5;\n",
"h=hkw*0.5;\n",
"i=ikw*0.5;\n",
"t2=e+f+g+h+i;\n",
"//diversity factor is given to be between 3 and 4, taking average of these two values\n",
"md2=t2/3.5;\n",
"j=jhp*0.746/n*0.75+jkw*0.5;\n",
"k=khp*0.746/n*0.55+kkw*0.5;\n",
"l=lkw*0.5;\n",
"t3=j+k+l;\n",
"//diversity factor is 1.5\n",
"md3=t3/1.5;\n",
"//diversity factor between transformers is 1.3\n",
"max_load=(md1+md2+md3)/1.3;\n",
"printf('Individual maximum demand of the group of consumers connected to transformer 1 as obtaiined from Article 3.8 are as follows: \n');\n",
"printf('\t a: %.2f kW \n', a);\n",
"printf('\t b: %.2f kW \n', b);\n",
"printf('\t c: %.2f kW \n', c);\n",
"printf('\t d: %.2f kW \n\n', d);\n",
"printf('Total = %.2f kW \n', t1);\n",
"printf('Maximum demand on transformer 1 = %.2f kW \n\n\n', md1);\n",
"printf('Individual maximum demand of the group of consumers connected to transformer 2 are as follows: \n');\n",
"printf('\t e: %.2f kW \n', e);\n",
"printf('\t f: %.2f kW \n', f);\n",
"printf('\t g: %.2f kW \n', g);\n",
"printf('\t h: %.2f kW \n', h);\n",
"printf('\t i: %.2f kW \n\n', i);\n",
"printf('Total = %.2f kW \n', t2);\n",
"printf('Maximum demand on transformer 2 = %.2f kW \n\n\n', md2);\n",
"printf('Individual maximum demand of the group of consumers connected to transformer 3 are as follows: \n');\n",
"printf('\t j: %.2f kW \n', j);\n",
"printf('\t k: %.2f kW \n', k);\n",
"printf('\t l: %.2f kW \n\n', l);\n",
"printf('Total = %.2f kW \n', t3);\n",
"printf('Maximum demand on transformer 3 = %.2f kW \n\n\n', md3);\n",
"printf('Diversity factor between transformers is 1.3 \n');\n",
"printf('Maximum load on feeder = %.2f kW \n\n', max_load);"
   ]
   }
,
{
		   "cell_type": "markdown",
		   "metadata": {},
		   "source": [
			"## Example 3.18: daily_load_cycle.sce"
		   ]
		  },
  {
"cell_type": "code",
	   "execution_count": null,
	   "metadata": {
	    "collapsed": true
	   },
	   "outputs": [],
"source": [
"//Chapter 3\n",
"//Example 3_18\n",
"//Page 61\n",
"clear;clc;\n",
"l=[20 40 50 35 70 40];\n",
"t=[8 3 5 3 3 2];\n",
"scf(0);\n",
"y=[20 20 20 20 20 20 20 20 40 40 40 50 50 50 50 50 35 35 35 70 70 70 40 40];\n",
"bar(y, 1, 'red');\n",
"xlabel('Time in hours');\n",
"ylabel('Load in MW');\n",
"xgrid(0);\n",
"ugpa=0;\n",
"for i=1:6;\n",
"  ugpa=ugpa+l(i)*t(i);\n",
"end;\n",
"printf('Units generated per day = %.0f MWh \n\n', ugpa);\n",
"al=ugpa*1000/24;\n",
"lf=al/max(l)/1000;\n",
"printf('Average load = %.1f kW \n\n', al);\n",
"printf('Load factor = %.2f %% \n\n', lf*100);"
   ]
   }
,
{
		   "cell_type": "markdown",
		   "metadata": {},
		   "source": [
			"## Example 3.19: installed_capacity.sce"
		   ]
		  },
  {
"cell_type": "code",
	   "execution_count": null,
	   "metadata": {
	    "collapsed": true
	   },
	   "outputs": [],
"source": [
"//Chapter 3\n",
"//Example 3_19\n",
"//Page 61\n",
"clear;clc;\n",
"pl=[10 5 8 7];\n",
"df=1.5;\n",
"lf=0.6;\n",
"sets=4;\n",
"//maximum demand\n",
"md=sum(pl)/df;\n",
"printf('(i)\t Max. demand on station = %.0f MW \n\n', md);\n",
"//units generated per annum\n",
"printf('(ii)\t Units generated/day = %.0f kWh \n\n', md*lf*8760*1000);\n",
"//installed capacity\n",
"printf('(iii)\t Installed capacity = %.1f MW \n\n', 1.2*md);\n",
"printf('\t\t Suitable unit sizes are %.1f MW \n\n', 1.2*md/sets);"
   ]
   }
,
{
		   "cell_type": "markdown",
		   "metadata": {},
		   "source": [
			"## Example 3.1: energy_per_year.sce"
		   ]
		  },
  {
"cell_type": "code",
	   "execution_count": null,
	   "metadata": {
	    "collapsed": true
	   },
	   "outputs": [],
"source": [
"//Chapter 3\n",
"//Example 3_1\n",
"//Page 50\n",
"clear;clc;\n",
"max_dem=100;\n",
"lf=0.4;\n",
"//energy generated\n",
"printf('Energy generated per annum = %.1f kWh\n\n', max_dem*lf*8760*1000);"
   ]
   }
,
{
		   "cell_type": "markdown",
		   "metadata": {},
		   "source": [
			"## Example 3.20: capacity_factor.sce"
		   ]
		  },
  {
"cell_type": "code",
	   "execution_count": null,
	   "metadata": {
	    "collapsed": true
	   },
	   "outputs": [],
"source": [
"//Chapter 3\n",
"//Example 3_20\n",
"//Page 64\n",
"clear;clc;\n",
"bl=18;\n",
"sc=20;\n",
"asso=7.35*1e6;\n",
"ablso=101.35*1e6;\n",
"pl=12;\n",
"hours=2190;\n",
"printf('Standby station\n\n');\n",
"alf=asso/pl/1000/hours;\n",
"printf('\t Annual loadfactor = %.2f %% \n\n', alf*100);\n",
"apcf=asso/sc/1000/8760;\n",
"printf('\t Annual plan capacity factor = %.2f %% \n\n', apcf*100);\n",
"printf('Base load station\n\n');\n",
"alf_base=ablso/bl/1000/8760;\n",
"printf('Annual load factor = %.2f %% \n\n', alf_base*100);"
   ]
   }
,
{
		   "cell_type": "markdown",
		   "metadata": {},
		   "source": [
			"## Example 3.21: steam_plant_capacity.sce"
		   ]
		  },
  {
"cell_type": "code",
	   "execution_count": null,
	   "metadata": {
	    "collapsed": true
	   },
	   "outputs": [],
"source": [
"//Chapter 3\n",
"//Example 3_31\n",
"//Page 64\n",
"clear;clc;\n",
"max_l=60000;\n",
"min_l=20000;\n",
"peak_l=50000;\n",
"lf=1;\n",
"n_steam=0.6;\n",
"s=poly(0,'s');\n",
"p=333*s^2+24000*s-338000;\n",
"r=roots(p);\n",
"x=r(1);\n",
"y=40000*round(x)/24;\n",
"steam_capacity=max_l-y;\n",
"printf('x=%d \n', x);\n",
"printf('y=%d kW \n', y);\n",
"printf('Capacity of steam plant = %d kW \n', steam_capacity);"
   ]
   }
,
{
		   "cell_type": "markdown",
		   "metadata": {},
		   "source": [
			"## Example 3.22: generated_units.sce"
		   ]
		  },
  {
"cell_type": "code",
	   "execution_count": null,
	   "metadata": {
	    "collapsed": true
	   },
	   "outputs": [],
"source": [
"//Chapter 3\n",
"//Example 3_22\n",
"//Page 65\n",
"clear;clc;\n",
"ratio = [7, 4, 1];\n",
"lf=1;\n",
"//Referring to the graph in page 66\n",
"ugpa=1000*(1/2*(320+160)*8760);\n",
"steam=ugpa*ratio(1)/sum(ratio);\n",
"ror=ugpa*ratio(2)/sum(ratio);\n",
"reservoir=ugpa*ratio(3)/sum(ratio);\n",
"md_ror=ror/8760;\n",
"y=sqrt(reservoir*32/876000);\n",
"md_res=y;\n",
"md_steam=320-y-md_ror/1000;\n",
"lf_res=reservoir/md_res/1000/8760;\n",
"lf_steam=steam/md_steam/1000/8760;\n",
"printf('Units generated per annum = %.2f*10^6 kW \n\n', ugpa/10^6);\n",
"printf('Units generated by steam plant = %.2f*10^6 kWh \n', steam/10^6);\n",
"printf('Units generated by run of river plant = %.2f*10^6 kWh \n', ror/10^6);\n",
"printf('Units generated by reservoir plant = %.2f*10^6 kWh \n\n', reservoir/10^6);\n",
"printf('(i) Maximum demand of run of river plant = %d kW \n', md_ror);\n",
"printf('    Maximum demand of reservoir plant = %d MW \n', md_res);\n",
"printf('    Maximum demand of steam plant = %d MW \n\n', md_steam);\n",
"printf('(ii) Load factor of run of river plant = %d %% \n', lf*100);\n",
"printf('     Load factor of reservoir plant = %d %% \n', lf_res*100);\n",
"printf('     Load factor of steam plant = %.2f %% \n', lf_steam*100);"
   ]
   }
,
{
		   "cell_type": "markdown",
		   "metadata": {},
		   "source": [
			"## Example 3.2: load_factor.sce"
		   ]
		  },
  {
"cell_type": "code",
	   "execution_count": null,
	   "metadata": {
	    "collapsed": true
	   },
	   "outputs": [],
"source": [
"//Chapter 3\n",
"//Example 3_2\n",
"//Page 50\n",
"clear;\n",
"clc;\n",
"cl = 43;\n",
"max_dem = 20;\n",
"ugpa = 61.5e6;\n",
"//Demand factor and load factor\n",
"printf('Demand factor = %.3f \n\n', max_dem/cl);\n",
"avg_dem = ugpa/8760;\n",
"printf('Load facor = %.3f \n\n', avg_dem/max_dem/1000);"
   ]
   }
,
{
		   "cell_type": "markdown",
		   "metadata": {},
		   "source": [
			"## Example 3.3: annual_load_factor.sce"
		   ]
		  },
  {
"cell_type": "code",
	   "execution_count": null,
	   "metadata": {
	    "collapsed": true
	   },
	   "outputs": [],
"source": [
"//Chapter3 \n",
"//Example 3_3\n",
"//PAge 50\n",
"clear;clc;\n",
"max_dem =100;\n",
"p1=100;\n",
"t1=2;\n",
"p2=50;\n",
"t2=6;\n",
"no_operation =45;\n",
"//Annual load factor\n",
"e_per_day=(p1*t1)+(p2*t2);\n",
"printf('Energy per day = %.2f MWh \n\n', e_per_day)\n",
"operation_days=365-no_operation;\n",
"e_per_year = e_per_day*operation_days;\n",
"printf('energy per year = %.2f MWh\n\n', e_per_year)\n",
"alf= e_per_year/max_dem/(operation_days*24);\n",
"printf('Annual load factor = %.2f %% \n\n', alf*100);"
   ]
   }
,
{
		   "cell_type": "markdown",
		   "metadata": {},
		   "source": [
			"## Example 3.4: maximum_energy.sce"
		   ]
		  },
  {
"cell_type": "code",
	   "execution_count": null,
	   "metadata": {
	    "collapsed": true
	   },
	   "outputs": [],
"source": [
"//Chapter 3\n",
"//Example 3_4\n",
"//PAge 50\n",
"clear;\n",
"clc;\n",
"max_dem=25;\n",
"lf=0.6;\n",
"pcf=0.5;\n",
"puf=0.72;\n",
"//reserve capacity\n",
"avg_dem=lf*max_dem;\n",
"pc=avg_dem/pcf;\n",
"printf('(i)\t Reserve capacity of plant = %.1f MW \n\n', pc-max_dem);\n",
"printf('(ii)\t Daily energy produced = %.1f MWh \n\n', avg_dem*24);\n",
"printf('(iii)\t Maximum energy produced = %.1f MWh/day \n\n', avg_dem*24/puf);"
   ]
   }
,
{
		   "cell_type": "markdown",
		   "metadata": {},
		   "source": [
			"## Example 3.5: diesel_statio.sce"
		   ]
		  },
  {
"cell_type": "code",
	   "execution_count": null,
	   "metadata": {
	    "collapsed": true
	   },
	   "outputs": [],
"source": [
"//Chapter 3\n",
"//Example 3_5\n",
"//PAge 51\n",
"clear;clc;\n",
"ic=1500;\n",
"ce=750;\n",
"dp=100;\n",
"dl=450;\n",
"max_dem=2500;\n",
"e_per_year =45e5;\n",
"//diversity factor and annual load factor\n",
"printf('Diversity factor = %.2f \n\n', (ic+ce+dp+dl)/max_dem);\n",
"avg_dem = e_per_year/8760;\n",
"printf('Average demand = %.2f kW \n\n', avg_dem);\n",
"printf('Load factor = %.1f %% \n\n', avg_dem/max_dem*100);"
   ]
   }
,
{
		   "cell_type": "markdown",
		   "metadata": {},
		   "source": [
			"## Example 3.6: reserve_capacity.sce"
		   ]
		  },
  {
"cell_type": "code",
	   "execution_count": null,
	   "metadata": {
	    "collapsed": true
	   },
	   "outputs": [],
"source": [
"//Chapter 3\n",
"//Example 6\n",
"//PAge 51\n",
"clear;clc;\n",
"max_dem=15000;\n",
"lf=0.5;\n",
"pcf=0.4;\n",
"//reserve capacity\n",
"e_per_annum=max_dem*lf*8760;\n",
"printf('Energy generated per annum = %.0f kWh \n\n', e_per_annum)\n",
"pc=e_per_annum/pcf/8760;\n",
"printf('Plant capacity =%.0f kW \n\n', pc)\n",
"printf('Reserve capacity =%.1f kW \n\n', pc-max_dem);"
   ]
   }
,
{
		   "cell_type": "markdown",
		   "metadata": {},
		   "source": [
			"## Example 3.7: connected_load.sce"
		   ]
		  },
  {
"cell_type": "code",
	   "execution_count": null,
	   "metadata": {
	    "collapsed": true
	   },
	   "outputs": [],
"source": [
"//Chapter 3\n",
"//Example 3_7\n",
"//Page 51\n",
"clear;\n",
"clc;\n",
"md1=1500;\n",
"d1=1.2;\n",
"df1=0.8;\n",
"md2=2000;\n",
"d2=1.1;\n",
"df2=0.9;\n",
"md3=10000;\n",
"d3=1.25;\n",
"df3=1;\n",
"odf=1.35;\n",
"//Maximum demand and connected load\n",
"sum_md=md1+md2+md3;\n",
"printf('Maximum demand on supply system = %.1f kW \n\n', sum_md/odf);\n",
"sum_domestic = md1*d1;\n",
"printf('Connected domestic load = %.1f kW \n\n', sum_domestic/df1);\n",
"sum_commercial = md2*d2;\n",
"printf('Connected commercial load = %.1f kW \n\n', sum_commercial/df2);\n",
"sum_industrial =md3*d3;\n",
"printf('Connected industrial load = %.1f kW \n\n', sum_industrial/df3);"
   ]
   }
,
{
		   "cell_type": "markdown",
		   "metadata": {},
		   "source": [
			"## Example 3.8: feeder_max_demand.sce"
		   ]
		  },
  {
"cell_type": "code",
	   "execution_count": null,
	   "metadata": {
	    "collapsed": true
	   },
	   "outputs": [],
"source": [
"//Chapter 3\n",
"//Example 3_8\n",
"//Page 52\n",
"tl=[10 12 15];\n",
"tdf=[0.65 0.6 0.7];\n",
"tdg=[1.5 3.5 1.5];\n",
"df=1.3;\n",
"total=0;\n",
"//maximum load\n",
"n=3;\n",
"for i=1:n;\n",
"  sum_md(i)=tl(i)*tdf(i);\n",
"  printf('Sum of maximum demands on transformer %i = %.2f kW \n\n', i,   sum_md(i));\n",
"  md(i)=sum_md(i)/tdg(i);\n",
"  printf('Maximum demand on transformer %i = %.3f kW \n\n', i, md(i));\n",
"  total=total+md(i);\n",
"end;\n",
"mdf=total/df;\n",
"printf('Maximum demand on feeder = %.2f kW \n\n', mdf)\n",
"  "
   ]
   }
,
{
		   "cell_type": "markdown",
		   "metadata": {},
		   "source": [
			"## Example 3.9: max_capacity.sce"
		   ]
		  },
  {
"cell_type": "code",
	   "execution_count": null,
	   "metadata": {
	    "collapsed": true
	   },
	   "outputs": [],
"source": [
"//Chapter 3\n",
"//Example 3_9\n",
"//PAge 52\n",
"clear;\n",
"clc;\n",
"houses=1e3;\n",
"cl=1.5;\n",
"dem_fac=0.4;\n",
"div_fac=2.5;\n",
"factories=10;\n",
"md_f=90;\n",
"tubewells=7;\n",
"mdt=7;\n",
"df=1.2;\n",
"//Minimum capacity of power station\n",
"sum_md=cl*dem_fac*houses;\n",
"md_dl=sum_md/div_fac;\n",
"md_t=mdt*tubewells;\n",
"total_md=md_dl+md_t+md_f;\n",
"md_station=total_md/df;\n",
"printf('Minimum capacity of station required=%.2f kW \n\n', md_station);"
   ]
   }
],
"metadata": {
		  "kernelspec": {
		   "display_name": "Scilab",
		   "language": "scilab",
		   "name": "scilab"
		  },
		  "language_info": {
		   "file_extension": ".sce",
		   "help_links": [
			{
			 "text": "MetaKernel Magics",
			 "url": "https://github.com/calysto/metakernel/blob/master/metakernel/magics/README.md"
			}
		   ],
		   "mimetype": "text/x-octave",
		   "name": "scilab",
		   "version": "0.7.1"
		  }
		 },
		 "nbformat": 4,
		 "nbformat_minor": 0
}
