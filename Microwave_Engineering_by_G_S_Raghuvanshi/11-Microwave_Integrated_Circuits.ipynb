{
"cells": [
 {
		   "cell_type": "markdown",
	   "metadata": {},
	   "source": [
       "# Chapter 11: Microwave Integrated Circuits"
	   ]
	},
{
		   "cell_type": "markdown",
		   "metadata": {},
		   "source": [
			"## Example 11.1: Costs.sce"
		   ]
		  },
  {
"cell_type": "code",
	   "execution_count": null,
	   "metadata": {
	    "collapsed": true
	   },
	   "outputs": [],
"source": [
"//Page Number: 595\n",
"//Example 11.1\n",
"clc;\n",
"//Given\n",
"fabc=10000; //Rs/waffer\n",
"c=100;\n",
"y=40/100; \n",
"coc=fabc/(y*c);\n",
"//Cost of one chip\n",
"disp('Rs',coc,'Cost of one chip:');\n",
"\n",
"//Market Cost\n",
"mc=2*coc;\n",
"disp('Rs',mc,'Market costof one chip:');"
   ]
   }
,
{
		   "cell_type": "markdown",
		   "metadata": {},
		   "source": [
			"## Example 11.2: Yield.sce"
		   ]
		  },
  {
"cell_type": "code",
	   "execution_count": null,
	   "metadata": {
	    "collapsed": true
	   },
	   "outputs": [],
"source": [
"//Page Number: 595\n",
"//Example 11.2\n",
"clc;\n",
"//Given\n",
"c=5000; //Rs\n",
"S=0.6; //cm\n",
"//Sides\n",
"x=3; //cm\n",
"y=2.54; //cm \n",
"//break even cost\n",
"bec=250;\n",
"//hence, chips/waffers needed\n",
"cpw=c/bec;\n",
"D=x*y;\n",
"//For given Area, atleast 40 chips are required\n",
"n=2*cpw;\n",
"\n",
"//Diameter\n",
"N=D/(sqrt(2)*S);\n",
"//Lower round off\n",
"NN=floor(N);\n",
"//Chips possible\n",
"cp=NN^2;\n",
"\n",
"//Yield\n",
"Y=(n/cp)*100; //Percent\n",
"disp('%',Y,'Yield:');"
   ]
   }
],
"metadata": {
		  "kernelspec": {
		   "display_name": "Scilab",
		   "language": "scilab",
		   "name": "scilab"
		  },
		  "language_info": {
		   "file_extension": ".sce",
		   "help_links": [
			{
			 "text": "MetaKernel Magics",
			 "url": "https://github.com/calysto/metakernel/blob/master/metakernel/magics/README.md"
			}
		   ],
		   "mimetype": "text/x-octave",
		   "name": "scilab",
		   "version": "0.7.1"
		  }
		 },
		 "nbformat": 4,
		 "nbformat_minor": 0
}
