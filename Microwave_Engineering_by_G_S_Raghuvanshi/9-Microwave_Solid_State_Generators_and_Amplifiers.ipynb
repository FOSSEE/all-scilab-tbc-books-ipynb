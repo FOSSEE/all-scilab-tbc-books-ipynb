{
"cells": [
 {
		   "cell_type": "markdown",
	   "metadata": {},
	   "source": [
       "# Chapter 9: Microwave Solid State Generators and Amplifiers"
	   ]
	},
{
		   "cell_type": "markdown",
		   "metadata": {},
		   "source": [
			"## Example 9.10: Gunn_device.sce"
		   ]
		  },
  {
"cell_type": "code",
	   "execution_count": null,
	   "metadata": {
	    "collapsed": true
	   },
	   "outputs": [],
"source": [
"//Page Number: 486\n",
"//Example 9.10\n",
"clc;\n",
"//Given\n",
"vd=2D+5; //m/s\n",
"L=10D-6; //m\n",
"Ec=3.2D+5; //V/m\n",
"\n",
"//Natural frequency\n",
"f=vd/L;\n",
"disp('GHz',f/10^9,'Natural frequency:');\n",
"\n",
"//Critical voltage\n",
"Vc=Ec*L;\n",
"disp('V',Vc,'Critical voltage:');"
   ]
   }
,
{
		   "cell_type": "markdown",
		   "metadata": {},
		   "source": [
			"## Example 9.11: Gunn_oscillator.sce"
		   ]
		  },
  {
"cell_type": "code",
	   "execution_count": null,
	   "metadata": {
	    "collapsed": true
	   },
	   "outputs": [],
"source": [
"//Page Number: 487\n",
"//Example 9.11\n",
"clc;\n",
"//Given\n",
"n=0.08;\n",
"A=3D-8; //m2\n",
"n0=1D+21; //m-3\n",
"e=1.6D-19;\n",
"vd=1.5D+5; //m/s\n",
"M=3.2\n",
"E=350D+3; //V\n",
"L=12D-6; //m\n",
"\n",
"//Power output\n",
"Pout=n*A*n0*e*vd*M*L*E;\n",
"disp('mW',Pout*1000,'Power output:');"
   ]
   }
,
{
		   "cell_type": "markdown",
		   "metadata": {},
		   "source": [
			"## Example 9.12: Tunnel_diode.sce"
		   ]
		  },
  {
"cell_type": "code",
	   "execution_count": null,
	   "metadata": {
	    "collapsed": true
	   },
	   "outputs": [],
"source": [
"//Page Number: 487\n",
"//Example 9.12\n",
"clc;\n",
"//Given\n",
"G=15.85;\n",
"Rn=75; //ohm\n",
"\n",
"Rl=Rn-(Rn/G);\n",
"C=Rl+(10*%i);\n",
"disp('ohms',C,'Cavity impedance:');"
   ]
   }
,
{
		   "cell_type": "markdown",
		   "metadata": {},
		   "source": [
			"## Example 9.13: Gunn_diode.sce"
		   ]
		  },
  {
"cell_type": "code",
	   "execution_count": null,
	   "metadata": {
	    "collapsed": true
	   },
	   "outputs": [],
"source": [
"//Page Number: 487\n",
"//Example 9.13\n",
"clc;\n",
"//Given\n",
"e=1.6D-19;\n",
"n1=1D+16; //m-3\n",
"mu1=8000D-4; //m2/Vs\n",
"nu=1D+14; //m-3\n",
"muu=180D-4; //m2/Vs\n",
"\n",
"///Conductivity\n",
"C=e*((n1*mu1)+(nu*muu));\n",
"disp('m mho',C*1000,'Conductivity:');\n",
""
   ]
   }
,
{
		   "cell_type": "markdown",
		   "metadata": {},
		   "source": [
			"## Example 9.14: Gunn_diode.sce"
		   ]
		  },
  {
"cell_type": "code",
	   "execution_count": null,
	   "metadata": {
	    "collapsed": true
	   },
	   "outputs": [],
"source": [
"//Page Number: 488\n",
"//Example 9.14\n",
"clc;\n",
"//Given\n",
"e0=8.854D-12;\n",
"er=13.1;\n",
"vd=2.5D+5; //m/s\n",
"e=1.6D-19;\n",
"mu=0.015; //m2/Vs\n",
"\n",
"//Criteria\n",
"n0L=(e0*er*vd)/(e*mu);\n",
"disp('m^-3',n0L,'n0L should be greater than');"
   ]
   }
,
{
		   "cell_type": "markdown",
		   "metadata": {},
		   "source": [
			"## Example 9.15: Gunn_diode.sce"
		   ]
		  },
  {
"cell_type": "code",
	   "execution_count": null,
	   "metadata": {
	    "collapsed": true
	   },
	   "outputs": [],
"source": [
"//Page Number: 488\n",
"//Example 9.15\n",
"clc;\n",
"//Given\n",
"L=10D-6; //m\n",
"f=10D+9; //Hz\n",
"e=1.6D-19;\n",
"n0=2D+20; //m3\n",
"E=3200D+2; //V/m\n",
"\n",
"//Current density\n",
"vd=L*f;\n",
"J=n0*e*vd;\n",
"disp('A/m sqr',J,'Current density:');\n",
"\n",
"//Negative electron mobility\n",
"mu=-vd/E;\n",
"disp('cm sqr/Vs',mu*10000,'Negative electron mobility:');\n",
"\n",
"//Answer for Negative electron mobility is 3125 but it is given as 3100\n",
""
   ]
   }
,
{
		   "cell_type": "markdown",
		   "metadata": {},
		   "source": [
			"## Example 9.17: IMPATT_diode.sce"
		   ]
		  },
  {
"cell_type": "code",
	   "execution_count": null,
	   "metadata": {
	    "collapsed": true
	   },
	   "outputs": [],
"source": [
"//Page Number: 497\n",
"//Example 9.17\n",
"clc;\n",
"//Given\n",
"n=0.15;\n",
"Vdc=100; //V\n",
"Idc=200D-3; //A\n",
"vd=2D+5; //m/s\n",
"L=6D-6; //m\n",
"\n",
"//(i) Maximum CW output power\n",
"Pdc=Vdc*Idc;\n",
"Pout=n*Pdc;\n",
"disp('W',Pout,'Maximum CW power output:');\n",
"\n",
"//(ii) Resonant frequency\n",
"f=vd/(2*L);\n",
"disp('GHz',f/10^9,'Resonant frequency:');"
   ]
   }
,
{
		   "cell_type": "markdown",
		   "metadata": {},
		   "source": [
			"## Example 9.18: IMPATT_diode.sce"
		   ]
		  },
  {
"cell_type": "code",
	   "execution_count": null,
	   "metadata": {
	    "collapsed": true
	   },
	   "outputs": [],
"source": [
"//Page Number: 497\n",
"//Example 9.18\n",
"clc;\n",
"//Given\n",
"n=0.1;\n",
"Vdc=100; //V\n",
"Idc=100D-3; //A\n",
"vd=2D+5; //m/s\n",
"L=5D-6; //m\n",
"V0=90; //V\n",
"k=3;\n",
"\n",
"//(i) Maximum CW output power\n",
"Pdc=Vdc*Idc;\n",
"Pout=n*Pdc;\n",
"disp('W',Pout,'Maximum CW power output:');\n",
"\n",
"//(ii) Resonant frequency\n",
"f=vd/(2*L);\n",
"disp('Hz',f,'Resonant frequency:');\n",
"\n",
"//(iii)Transit time\n",
"T=L/vd;\n",
"disp('s',T,'Transit time:');\n",
"\n",
"//(iv) Avalanche multiplication factor\n",
"M=1/(1-((Vdc/V0)^k));\n",
"disp(-M,'Avalanche multiplication factor:');\n",
""
   ]
   }
,
{
		   "cell_type": "markdown",
		   "metadata": {},
		   "source": [
			"## Example 9.19: IMPATT_diode.sce"
		   ]
		  },
  {
"cell_type": "code",
	   "execution_count": null,
	   "metadata": {
	    "collapsed": true
	   },
	   "outputs": [],
"source": [
"//Page Number: 498\n",
"//Example 9.19\n",
"clc;\n",
"//Given\n",
"n=0.1;\n",
"Vdc=100; //V\n",
"Idc=0.9; //A\n",
"t=0.01D-9; //s\n",
"f=16D+9; //Hz\n",
"\n",
"//(i)Power output\n",
"Pdc=Vdc*Idc;\n",
"Pout=n*Pdc;\n",
"disp('W',Pout,'Power output:');\n",
"\n",
"//(ii)Duty cycle\n",
"D=(t/2)+(1/(2*f));\n",
"disp('s',D,'Duty cycle:');"
   ]
   }
,
{
		   "cell_type": "markdown",
		   "metadata": {},
		   "source": [
			"## Example 9.20: IMPATT_diode.sce"
		   ]
		  },
  {
"cell_type": "code",
	   "execution_count": null,
	   "metadata": {
	    "collapsed": true
	   },
	   "outputs": [],
"source": [
"//Page Number: 498\n",
"//Example 9.20\n",
"clc;\n",
"//Given\n",
"Cj=0.5D-12; //F\n",
"Lp=0.5D-9; //H\n",
"Irf=0.65; //A\n",
"Rl=2; //ohms\n",
"Vbd=80; //V\n",
"Idc=0.08; //A\n",
"\n",
"//Resonant frequency\n",
"f=1/(2*%pi*sqrt(Cj*Lp));\n",
"disp('Hz',f,'Resonant frequency:');\n",
"\n",
"//Efficiency\n",
"Pout=(Irf*Irf*Rl)/2;\n",
"Pin=Vbd*Idc;\n",
"n=(Pout*100)/Pin;\n",
"disp('%',n,'Efficiency:');"
   ]
   }
,
{
		   "cell_type": "markdown",
		   "metadata": {},
		   "source": [
			"## Example 9.21: TRAPATT_diode.sce"
		   ]
		  },
  {
"cell_type": "code",
	   "execution_count": null,
	   "metadata": {
	    "collapsed": true
	   },
	   "outputs": [],
"source": [
"//Page Number: 501\n",
"//Example 9.21\n",
"clc;\n",
"//Given\n",
"J=25D+7; //A/m;\n",
"Na=2.5D+21; //m3\n",
"e=1.6D-19;\n",
"\n",
"//Avlance zone velocity\n",
"vz=J/(Na*e);\n",
"disp('m/s',vz,'Avlanche zone velocity:');\n",
""
   ]
   }
,
{
		   "cell_type": "markdown",
		   "metadata": {},
		   "source": [
			"## Example 9.22: BARITT_diode.sce"
		   ]
		  },
  {
"cell_type": "code",
	   "execution_count": null,
	   "metadata": {
	    "collapsed": true
	   },
	   "outputs": [],
"source": [
"//Page Number: 503\n",
"//Example 9.22\n",
"clc;\n",
"//Given\n",
"e=1.6D-19;\n",
"N=4D+21; //m\n",
"L=10D-6; //m\n",
"e0=8.854D-12;\n",
"er=11;\n",
"\n",
"//Breakdown voltage\n",
"Vbd=(e*N*L*L)/(e0*er);\n",
"disp('V',round(Vbd),'Breakdown voltage:');\n",
"\n",
"//Breakdown electric field\n",
"E=Vbd/L;\n",
"disp('V/m',E,'Breakdown electric field:');"
   ]
   }
,
{
		   "cell_type": "markdown",
		   "metadata": {},
		   "source": [
			"## Example 9.23: Laser.sce"
		   ]
		  },
  {
"cell_type": "code",
	   "execution_count": null,
	   "metadata": {
	    "collapsed": true
	   },
	   "outputs": [],
"source": [
"//Page Number: 515\n",
"//Example 9.23\n",
"clc;\n",
"//Given\n",
"lam=8000D-10; //m\n",
"a=0.5D-2; //m\n",
"D=4D+8; //m\n",
"\n",
"//Angular Spread\n",
"t=(1.22*lam)/a;\n",
"disp('rad',t,'Angular spread:');\n",
"\n",
"//Aerial spread\n",
"A=%pi*((D*t)^2);\n",
"disp('m sqr',A,'Aerial spread:');\n",
"\n",
"\n",
"//Answer for A is given as 193 m sqr but it is 1.915D+10 m sqr"
   ]
   }
,
{
		   "cell_type": "markdown",
		   "metadata": {},
		   "source": [
			"## Example 9.24: Laser.sce"
		   ]
		  },
  {
"cell_type": "code",
	   "execution_count": null,
	   "metadata": {
	    "collapsed": true
	   },
	   "outputs": [],
"source": [
"//Page Number: 515\n",
"//Example 9.24\n",
"clc;\n",
"//Given\n",
"E=10; //W\n",
"T=1D-9; //s\n",
"c=3D+8; //m/s\n",
"lam=650D-9; //m\n",
"\n",
"//Pulse Power\n",
"P=E/T;\n",
"disp('W',P,'Pulse Power:');\n",
"\n",
"//Q value\n",
"Q=(c*T)/lam;\n",
"disp(Q,'Q value:');"
   ]
   }
,
{
		   "cell_type": "markdown",
		   "metadata": {},
		   "source": [
			"## Example 9.25: Heterojunction_laser.sce"
		   ]
		  },
  {
"cell_type": "code",
	   "execution_count": null,
	   "metadata": {
	    "collapsed": true
	   },
	   "outputs": [],
"source": [
"//Page Number: 515\n",
"//Example 9.25\n",
"clc;\n",
"//Given\n",
"h=6.626D-34; \n",
"c=3D+8; //m/s\n",
"e=1.6D-19;\n",
"Eg=1.85; //eV\n",
"\n",
"//Wavelenght emitted\n",
"lam=(h*c)/(Eg*e);\n",
"lamarm=lam*1D+10;\n",
"disp('A',round(lamarm),'Wavelenght emitted:');"
   ]
   }
,
{
		   "cell_type": "markdown",
		   "metadata": {},
		   "source": [
			"## Example 9.2: Bipolar_transistor.sce"
		   ]
		  },
  {
"cell_type": "code",
	   "execution_count": null,
	   "metadata": {
	    "collapsed": true
	   },
	   "outputs": [],
"source": [
"//Page Number: 448\n",
"//Example 9.2\n",
"clc;\n",
"//Given\n",
"fc=5D+9; //Hz\n",
"Em=2D+7; //V/m\n",
"vs=4D+3; //ms/s\n",
"Xc=1; //ohm\n",
"\n",
"//Maximum allowable power\n",
"Pm=((Em*vs)^2)/(((2*%pi*fc)^2)*Xc);\n",
"disp('W',Pm,'Maximum allowable power:');"
   ]
   }
,
{
		   "cell_type": "markdown",
		   "metadata": {},
		   "source": [
			"## Example 9.3: Heterojunction_transistor.sce"
		   ]
		  },
  {
"cell_type": "code",
	   "execution_count": null,
	   "metadata": {
	    "collapsed": true
	   },
	   "outputs": [],
"source": [
"//Page Number: 451\n",
"//Example 9.3\n",
"clc;\n",
"//Given\n",
"XeGe=4.0; //eV\n",
"XeGaAs=4.1; //eV\n",
"delEgGe=0.78; //eV\n",
"delEgGaAs=1.42; //eV\n",
"\n",
"//Conduction band differential\n",
"delEc=XeGe-XeGaAs;\n",
"disp('eV',delEc,'Conduction band differential:');\n",
"\n",
"//Valence band differential\n",
"delEv=delEgGaAs-delEgGe-delEc;\n",
"disp('eV',delEv,'Valence band differential:');"
   ]
   }
,
{
		   "cell_type": "markdown",
		   "metadata": {},
		   "source": [
			"## Example 9.4: GaAs_FET.sce"
		   ]
		  },
  {
"cell_type": "code",
	   "execution_count": null,
	   "metadata": {
	    "collapsed": true
	   },
	   "outputs": [],
"source": [
"//Page Number: 454\n",
"//Example 9.4\n",
"clc;\n",
"//Given\n",
"S11=0.89;\n",
"S12=0.02;\n",
"S21=3.1;\n",
"S22=0.78;\n",
"\n",
"del=(S11*S22)-(S12*S21);\n",
"K=[1-(S11)^2-(S22)^2+(del)^2;]/(2*S12*S21);\n",
"if(K<1)\n",
"    disp('Amplifier is potentially unstable');\n",
"else\n",
"     disp('Amplifier is potentially stable');\n",
"     end\n",
"    "
   ]
   }
,
{
		   "cell_type": "markdown",
		   "metadata": {},
		   "source": [
			"## Example 9.5: Microwave_transistor.sce"
		   ]
		  },
  {
"cell_type": "code",
	   "execution_count": null,
	   "metadata": {
	    "collapsed": true
	   },
	   "outputs": [],
"source": [
"//Page Number: 454\n",
"//Example 9.5\n",
"clc;\n",
"//Given\n",
"S11=0.40;\n",
"S12=0.01;\n",
"S21=2.00;\n",
"S22=0.35;\n",
"\n",
"ZL=20; //ohm\n",
"ZS=30; //ohm\n",
"Z0=ZL+ZS; //ohm\n",
"\n",
"//Reflection coefficients of source and load\n",
"TL=(ZL-Z0)/(ZL+Z0);\n",
"TLm=-TL;\n",
"TS=(ZS-Z0)/(ZS+Z0);\n",
"TSm=-TS;\n",
"\n",
"//Reflection coefficients of input and output\n",
"Tin=S11+((S12*S21*TL)/(1-(S22*TL)));\n",
"Tout=S22+((S12*S21*TS)/(1-(S22*TS)));\n",
"\n",
"//Transducer Gain\n",
"x=(1-(TSm)^2)/((1-(S11*TSm))^2); //Value of should be 1.145\n",
"y=(S21*S21);\n",
"z=(1-(TLm)^2)/((1-(Tout*TLm))^2);\n",
"GT=x*y*z;\n",
"disp(GT,'Transducer Gain:');\n",
"\n",
"//Available Power Gain\n",
"z1=1-(Tout)^2;\n",
"GA=(x*y)/z1;\n",
"disp(GA,'Available power Gain:'); \n",
"\n",
"//Power Gain\n",
"z2=1-(Tin)^2;\n",
"GP=(x*y)/z2;\n",
"disp(GP,'Power Gain:');\n",
"\n",
"//All the end calculations of finding gain are not accurate in the book, hence the answers dont match\n",
""
   ]
   }
,
{
		   "cell_type": "markdown",
		   "metadata": {},
		   "source": [
			"## Example 9.6: Transistor_Amplifier.sce"
		   ]
		  },
  {
"cell_type": "code",
	   "execution_count": null,
	   "metadata": {
	    "collapsed": true
	   },
	   "outputs": [],
"source": [
"//Page Number: 455\n",
"//Example 9.6\n",
"clc;\n",
"//Given\n",
"S11=0.60;\n",
"S12=0.045;\n",
"S21=2.50;\n",
"S22=0.50\n",
"TS=0.5;\n",
"TL=0.4;\n",
"Vrms=10; //V\n",
"Z0=50; //ohm\n",
"\n",
"//(i)Reflection coefficients of input and output\n",
"Tin=S11+((S12*S21*TL)/(1-(S22*TL)));\n",
"Tout=S22+((S12*S21*TS)/(1-(S22*TS)));\n",
"disp(Tin,'Reflection coefficients of input:');\n",
"disp(Tout,'Reflection coefficients of output:');\n",
"\n",
"//(ii) Gains\n",
"//Transducer Gain\n",
"x=(1-(TS)^2)/((1-(S11*TS))^2);\n",
"y=(S21*S21);\n",
"z=(1-(TL)^2)/((1-(Tout*TL))^2);\n",
"GT=x*y*z;\n",
"disp(GT,'Transducer Gain:');\n",
"\n",
"//Available Power Gain\n",
"z1=1-(Tout)^2;\n",
"GA=(x*y)/z1;\n",
"disp(GA,'Available power Gain:'); \n",
"\n",
"//Power Gain\n",
"z2=1-(Tin)^2;\n",
"GP=(x*y)/z2;\n",
"disp(GP,'Power Gain:');\n",
"\n",
"//Calculation for Tout and Gains are wrong in the book, hence the answers dont match\n",
"\n",
"//(iii) Power available\n",
"Gt=9.4;\n",
"Pas=(sqrt(2)*Vrms)^2/(8*Z0);\n",
"Pal=Gt*Pas;\n",
"disp('W',Pas,'Power available at source:');\n",
"disp('W',Pal,'Power available at load:');"
   ]
   }
,
{
		   "cell_type": "markdown",
		   "metadata": {},
		   "source": [
			"## Example 9.7: Microwave_transistor.sce"
		   ]
		  },
  {
"cell_type": "code",
	   "execution_count": null,
	   "metadata": {
	    "collapsed": true
	   },
	   "outputs": [],
"source": [
"//Page Number: 457\n",
"//Example 9.7\n",
"clc;\n",
"//Given\n",
"S11=0.90;\n",
"S12=0;\n",
"S21=2.40;\n",
"S22=0.80;\n",
"\n",
"Gmax=(S21*S21)/((1-(S11)^2)*(1-(S22)^2));\n",
"Gdb=10*log10(Gmax);\n",
"disp(Gdb,'Maximum gain:');"
   ]
   }
,
{
		   "cell_type": "markdown",
		   "metadata": {},
		   "source": [
			"## Example 9.8: JEFT.sce"
		   ]
		  },
  {
"cell_type": "code",
	   "execution_count": null,
	   "metadata": {
	    "collapsed": true
	   },
	   "outputs": [],
"source": [
"//Page Number: 468\n",
"//Example 9.8\n",
"clc;\n",
"//Given\n",
"e=1.6D-19;\n",
"Nd=1.1D+23; //m-3\n",
"a=0.2D-6; //m\n",
"er=11.8;\n",
"e0=8.854D-12;\n",
"mue=800D-4; //m2/Vs\n",
"Z=50D-6; \n",
"L=8.5D-6; //m\n",
"W0=1; //V\n",
"Vd=12; //V\n",
"Vg=1.5; //V\n",
"\n",
"//(i) Pinch off voltage and pinch off current\n",
"Vp=(e*Nd*a*a)/(2*er*e0);\n",
"disp('V',Vp,'Pinch off voltage:');\n",
"\n",
"Ip=(mue*e*e*Nd*Nd*Z*a*a)/(e0*er*L);\n",
"disp('A',Ip,'Pinch off current:');\n",
"//Answer for Ip is 55809 A but it is given as 0.00558 A\n",
"\n",
"//(ii) Drain and maximum drain current\n",
"//Taking Ip=5.58mA as given in book\n",
"Ip1=0.00558; //A\n",
"x=(2/3)*(((Vd+Vg+W0)/Vp)^(3/2));\n",
"y=(2/3)*(((Vg+W0)/Vp)^(3/2));\n",
"Id=Ip1*[(Vd/Vp)-x+y];\n",
"disp('A',-Id,'Drain current:');\n",
"\n",
"//Saturation Current\n",
"Is=Ip1*[(1/3)-((Vg+W0)/Vp)+((2/3)*(((Vg+W0)/Vp)^(3/2)))];\n",
"disp('A',Is,'Drain saturation current:');\n",
"\n",
"//(iii) Cut off frequency\n",
"f=(2*mue*e*Nd*a*a)/(%pi*er*e0*L*L);\n",
"disp('GHz',f/10^9,'Cutt off freqency:');\n",
"\n",
""
   ]
   }
,
{
		   "cell_type": "markdown",
		   "metadata": {},
		   "source": [
			"## Example 9.9: MESFET.sce"
		   ]
		  },
  {
"cell_type": "code",
	   "execution_count": null,
	   "metadata": {
	    "collapsed": true
	   },
	   "outputs": [],
"source": [
"//Page Number: 469\n",
"//Example 9.9\n",
"clc;\n",
"//Given\n",
"e=1.6D-19;\n",
"Nd=8D+23; //m-3\n",
"a=0.12D-6; //m\n",
"er=13.2;\n",
"e0=8.854D-12;\n",
"\n",
"//Pinch off voltage\n",
"Vp=(e*Nd*a*a)/(2*er*e0);\n",
"disp('V',Vp,'Pinch off voltage:');"
   ]
   }
],
"metadata": {
		  "kernelspec": {
		   "display_name": "Scilab",
		   "language": "scilab",
		   "name": "scilab"
		  },
		  "language_info": {
		   "file_extension": ".sce",
		   "help_links": [
			{
			 "text": "MetaKernel Magics",
			 "url": "https://github.com/calysto/metakernel/blob/master/metakernel/magics/README.md"
			}
		   ],
		   "mimetype": "text/x-octave",
		   "name": "scilab",
		   "version": "0.7.1"
		  }
		 },
		 "nbformat": 4,
		 "nbformat_minor": 0
}
