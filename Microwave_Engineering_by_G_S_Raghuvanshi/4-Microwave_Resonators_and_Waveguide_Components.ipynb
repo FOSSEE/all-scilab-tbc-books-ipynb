{
"cells": [
 {
		   "cell_type": "markdown",
	   "metadata": {},
	   "source": [
       "# Chapter 4: Microwave Resonators and Waveguide Components"
	   ]
	},
{
		   "cell_type": "markdown",
		   "metadata": {},
		   "source": [
			"## Example 4.10: Cylindrical_resonator.sce"
		   ]
		  },
  {
"cell_type": "code",
	   "execution_count": null,
	   "metadata": {
	    "collapsed": true
	   },
	   "outputs": [],
"source": [
"//Page Number: 199\n",
"//Example 4.10\n",
"clc;\n",
"//Given\n",
"a=3;//cm\n",
"a1=a/100;//m\n",
"d=10;//cm\n",
"d1=d/100;//m\n",
"df=2.5D+6;\n",
"er=2.25;\n",
"p11=1.841;\n",
"c=3D+8; //m/s\n",
"\n",
"//Resonant frequency\n",
"fr=(c/2)*(sqrt((p11/a1)^2+(%pi/d1)^2));//hz\n",
"disp('Ghz',fr/10^9,'Resonant frequency:');\n",
"\n",
"//Q without dielectric\n",
"q0=fr/df;\n",
"disp(q0,'Q wirhout dielectric constant:');\n",
"\n",
"// Q with dielectric\n",
"fr1=fr/sqrt(er);\n",
"qd=1D+3;\n",
"q=(q0*qd)/(q0+qd);\n",
"disp(q,'Q with dielectric constant:');"
   ]
   }
,
{
		   "cell_type": "markdown",
		   "metadata": {},
		   "source": [
			"## Example 4.11: Cylindrical_resonantor.sce"
		   ]
		  },
  {
"cell_type": "code",
	   "execution_count": null,
	   "metadata": {
	    "collapsed": true
	   },
	   "outputs": [],
"source": [
"//Page Number: 200\n",
"//Example 4.11\n",
"clc;\n",
"//Given\n",
"f=9.375D+9;//hz\n",
"sig=5.8D+7;\n",
"eet=377;\n",
"c=3D+8; //m/s\n",
"w=2*%pi*f;\n",
"r=1.5;\n",
"u=4D-7*%pi;\n",
"\n",
"//Radius\n",
"a=c/(f*2.62);//m\n",
"disp('cm',a*100,'Radius of resonantor');\n",
"\n",
"//O\n",
"rs=sqrt((w*u)/(2*sig));//ohm\n",
"x=1.202*eet;\n",
"y=rs*(1+(1/r));\n",
"q=x/y;\n",
"disp(q,'Q of the resonator:');\n",
"\n",
"//Answer for Q is calculated as 10875 in book but it is 10763.303"
   ]
   }
,
{
		   "cell_type": "markdown",
		   "metadata": {},
		   "source": [
			"## Example 4.12: Cylindrical_Resonator.sce"
		   ]
		  },
  {
"cell_type": "code",
	   "execution_count": null,
	   "metadata": {
	    "collapsed": true
	   },
	   "outputs": [],
"source": [
"//Page Number: 215\n",
"//Example 4.12\n",
"clc;\n",
"//Given\n",
"f=5D+9;//hz\n",
"sig=5.813D+7;\n",
"er=2.25;\n",
"tandel=4D-4;\n",
"c=3D+8; //m/s\n",
"h01=3.832;\n",
"u=4D-7*%pi;\n",
"\n",
"//Length of resonator\n",
"lamr=c/(f*sqrt(er));\n",
"d=sqrt([{(((2*3.832)^2)+(%pi*%pi))*(lamr*lamr)}/(2*2*%pi*%pi)]);\n",
"disp('cm',d*100,'Length of resonator:');\n",
"\n",
"//Q of resonator\n",
"n=(120*%pi)/sqrt(er);\n",
"Rs=sqrt((f*u)/sig);\n",
"a=d/2;\n",
"Qw1=n*[[(h01/a)^2+(%pi/d)^2]^(3/2)];\n",
"Qw2=2*Rs*[((h01*h01)/(a*a*a))+((2*%pi*%pi)/(d*d*d))];\n",
"Qw=Qw1/Qw2;\n",
"Qd=1/tandel;\n",
"Q=(Qw*Qd)/(Qw+Qd);\n",
"disp(Q,'Q of resonator:');\n",
"\n",
"//Value of Qw is calculated wrong in the book, it should be 50057.91 instead of 53473.8\n",
"//Hence the value of Q also differs\n",
"\n",
"\n",
""
   ]
   }
,
{
		   "cell_type": "markdown",
		   "metadata": {},
		   "source": [
			"## Example 4.13: Lossless_plane_H_tee.sce"
		   ]
		  },
  {
"cell_type": "code",
	   "execution_count": null,
	   "metadata": {
	    "collapsed": true
	   },
	   "outputs": [],
"source": [
"//Page Number: 215\n",
"//Example 4.13\n",
"clc;\n",
"//Given\n",
"p=100; //mW\n",
"//As 2 and 3 are matched terminals\n",
"x=1/2;\n",
"y=1/sqrt(2);\n",
"s=[x -x y;-x 0 y;y y 0];\n",
"\n",
"//Power delivered\n",
"//Port 1\n",
"p1=p*(1-s(1,1)^2);\n",
"disp('mW',p1,'Power at port 1:');\n",
"\n",
"//Port2\n",
"p2=p*s(2,1)^2;\n",
"disp('mW',p2,'Power at port 2:');\n",
"\n",
"//Port 3\n",
"p3=p*s(3,1)^2;\n",
"disp('mW',p3,'Power at port 3:');"
   ]
   }
,
{
		   "cell_type": "markdown",
		   "metadata": {},
		   "source": [
			"## Example 4.14: E_plane_tee.sce"
		   ]
		  },
  {
"cell_type": "code",
	   "execution_count": null,
	   "metadata": {
	    "collapsed": true
	   },
	   "outputs": [],
"source": [
"//Page Number: 216\n",
"//Example 4.14\n",
"clc;\n",
"//Given\n",
"p=40; //mW\n",
"//Since port 3 is matched\n",
"x=sqrt(2);\n",
"s=[1 1 x;1 1 -x;x -x 0];\n",
"r1=40; //ohm\n",
"r2=60; //ohm\n",
"w=50; //ohm\n",
"\n",
"//Reflection coefficients\n",
"T1=(w-r1)/(w+r1);\n",
"T2=(r2-w)/(r2+w);\n",
"\n",
"//As power is fed into 1 and 2 equally\n",
"pd=p/2;\n",
"\n",
"//Power delivered\n",
"//Port 1\n",
"p1=pd*(1-T1^2);\n",
"disp('mW',p1,'Power at port 1:');\n",
"\n",
"//Port2\n",
"p2=pd*(1-T2^2);\n",
"disp('mW',p2,'Power at port 2:');"
   ]
   }
,
{
		   "cell_type": "markdown",
		   "metadata": {},
		   "source": [
			"## Example 4.15: Magic_Tee.sce"
		   ]
		  },
  {
"cell_type": "code",
	   "execution_count": null,
	   "metadata": {
	    "collapsed": true
	   },
	   "outputs": [],
"source": [
"//Page Number: 216\n",
"//Example 4.15\n",
"clc;\n",
"//Given\n",
"T1=1/2;\n",
"T2=3/5;\n",
"T3=0;\n",
"T4=4/5;\n",
"p=500D-3; //W\n",
"//S matrix for magic Tee\n",
"x=1/sqrt(2);\n",
"s=[0 0 x x;0 0 x -x;x x 0 0;x -x 0 0];\n",
"//Using the input output relation\n",
"//[b]=[s]*[a]\n",
"b=[0.6565;0.7576;0.5536;0.0892];\n",
"\n",
"//(i) Power transmitted through ports\n",
"//Port 1\n",
"p1=(1/2)*b(1,1)^2*(1-T1^2);\n",
"disp('W',p1,'Power at port 1:');\n",
"\n",
"//Port2\n",
"p2=(1/2)*(b(2,1)^2)*(1-(T2^2));\n",
"disp('W',p2,'Power at port 2:');\n",
"\n",
"//Port 4\n",
"p4=(1/2)*b(4,1)^2*(1-T4^2);\n",
"disp('W',p4,'Power at port 4:');\n",
"\n",
"//(ii) Power reflected at port 3\n",
"//Port 3\n",
"p3=p*b(3,1)^2;\n",
"disp('W',p3,'Power at port 3:');\n",
"\n",
"//(iii) Power absorbed\n",
"pabs=p-(p1+p2+p3+p4);\n",
"disp('W',pabs,'Power absorbed:');\n",
"\n",
"//Answer for power absorbed is calculated wrong in book"
   ]
   }
,
{
		   "cell_type": "markdown",
		   "metadata": {},
		   "source": [
			"## Example 4.18: Directional_Coupler.sce"
		   ]
		  },
  {
"cell_type": "code",
	   "execution_count": null,
	   "metadata": {
	    "collapsed": true
	   },
	   "outputs": [],
"source": [
"//Page Number: 236\n",
"//Example 4.18\n",
"clc;\n",
"//Given\n",
"C=10; //dB\n",
"D=30; //dB\n",
"\n",
"//Parameters\n",
"bet=10^(-C/20);\n",
"x=bet/(10^(D/20));\n",
"a=sqrt(1-(bet*bet));\n",
"//Scattering matrix\n",
"//Assuming symmetery\n",
"s=[0 a x (bet*%i);a 0 (bet*%i) x;x (bet*%i) 0 a;(bet*%i) x a 0];\n",
"disp(s,'Scattering matrix:');"
   ]
   }
,
{
		   "cell_type": "markdown",
		   "metadata": {},
		   "source": [
			"## Example 4.1: Rectangular_cavity_resonator.sce"
		   ]
		  },
  {
"cell_type": "code",
	   "execution_count": null,
	   "metadata": {
	    "collapsed": true
	   },
	   "outputs": [],
"source": [
"//Page Number: 193\n",
"//Example 4.1\n",
"clc;\n",
"//Given\n",
"a=5;//cm\n",
"a1=a/100;//m\n",
"b=2;//cm\n",
"b1=b/100;//m\n",
"c=15;//cm\n",
"c1=c/100;//m\n",
"\n",
"//(i) Air filled cavity\n",
"m=1;\n",
"n=0;\n",
"p=1;\n",
"c=3D+8; //for air\n",
"fr=(1/2)*c*sqrt((m/a1)^2+(n/b1)^2+(p/c1)^2); //hz\n",
"disp('Ghz',fr/10^9,'Resonant frequency for an air filled cavity:');\n",
"\n",
"//(ii) Dielctric filled cavity\n",
"er=2.56;\n",
"fr1=(1/2)*(c/sqrt(er))*sqrt((m/a1)^2+(n/b1)^2+(p/c1)^2);//hz\n",
"disp('Ghz',fr1/10^9,'Resonant frequency for dielectric cavity:');"
   ]
   }
,
{
		   "cell_type": "markdown",
		   "metadata": {},
		   "source": [
			"## Example 4.20: Directional_coupler.sce"
		   ]
		  },
  {
"cell_type": "code",
	   "execution_count": null,
	   "metadata": {
	    "collapsed": true
	   },
	   "outputs": [],
"source": [
"//Page Number: 238\n",
"//Example 4.20\n",
"clc;\n",
"//Given\n",
"vswr=2;\n",
"D1=8; //mW\n",
"D2=2; //mW\n",
"\n",
"//Reflection coefficient at arm 4\n",
"T=(vswr-1)/(vswr+1);\n",
"//Powwe delivered to D1\n",
"P=(D1*100)/(1-T^2);\n",
"P1=0.99*P;\n",
"//Power reflected at D1\n",
"W1=(P/100)*T*T;\n",
"//Power reflected at load\n",
"W2=D2-W1;\n",
"Tt=sqrt((W2*100)/(P1));\n",
"pt=(1+Tt)/(1-Tt);\n",
"disp(pt,'VSWR:');\n",
"Pl=P1*(1-(Tt*Tt));\n",
"disp('mW',Pl,'Power delivered:');\n",
"\n",
"//Answer for P1 should be 792 but it is given as 800"
   ]
   }
,
{
		   "cell_type": "markdown",
		   "metadata": {},
		   "source": [
			"## Example 4.21: Isolator_Matrix.sce"
		   ]
		  },
  {
"cell_type": "code",
	   "execution_count": null,
	   "metadata": {
	    "collapsed": true
	   },
	   "outputs": [],
"source": [
"//Page Number: 239\n",
"//Example 4.21\n",
"clc;\n",
"//Given\n",
"I=30; //dB\n",
"Il=0.4; //dB\n",
"\n",
"S12=10^(I/-20);\n",
"S21=10^(Il/-20);\n",
"s=[0 S12;S21 0];\n",
"disp(s,'Scattering matrix:');"
   ]
   }
,
{
		   "cell_type": "markdown",
		   "metadata": {},
		   "source": [
			"## Example 4.22: Circulator_Matrix.sce"
		   ]
		  },
  {
"cell_type": "code",
	   "execution_count": null,
	   "metadata": {
	    "collapsed": true
	   },
	   "outputs": [],
"source": [
"//Page Number: 240\n",
"//Example 4.22\n",
"clc;\n",
"//Given\n",
"I=30; //dB\n",
"Il=2; //dB\n",
"p=1.3;\n",
"\n",
"//Elelments\n",
"T=(p-1)/(p+1);\n",
"S11=T;\n",
"S22=T;\n",
"S33=T;\n",
"S12=10^(-Il/20);\n",
"S13=10^(-I/20);\n",
"S21=S13;\n",
"S32=S13;\n",
"S23=S12;\n",
"S31=S23;\n",
"s=[S11 S21 S31;S12 S22 S32;S13 S23 S33];\n",
"disp(s,'Scattering matrix:');"
   ]
   }
,
{
		   "cell_type": "markdown",
		   "metadata": {},
		   "source": [
			"## Example 4.23: Rectangular_Waveguide.sce"
		   ]
		  },
  {
"cell_type": "code",
	   "execution_count": null,
	   "metadata": {
	    "collapsed": true
	   },
	   "outputs": [],
"source": [
"//Page Number: 249\n",
"//Example 4.23\n",
"clc;\n",
"//Given\n",
"f=10D+9; //Hz\n",
"u=4D-7*%pi;\n",
"c=3D+8; //m/s\n",
"a=2.29; //cm\n",
"a1=a/100;\n",
"b=1.02; //cm\n",
"b1=b/100;\n",
"\n",
"//E/H\n",
"w=2*%pi*f;\n",
"EbyH=(w*u)/sqrt(((w/c)^2)+((%pi/a1)^2));\n",
"lam=c/f;\n",
"lamc=2*a1;\n",
"d=(1/4)*(lam/sqrt(1-((lam/lamc)^2)));\n",
"disp('cm',d*100,'Position:');\n",
"\n",
"//Answer for positon is calculated wrong in book"
   ]
   }
,
{
		   "cell_type": "markdown",
		   "metadata": {},
		   "source": [
			"## Example 4.24: Attenuator_matrix.sce"
		   ]
		  },
  {
"cell_type": "code",
	   "execution_count": null,
	   "metadata": {
	    "collapsed": true
	   },
	   "outputs": [],
"source": [
"//Page Number: 250\n",
"//Example 4.24\n",
"clc;\n",
"//Given\n",
"//As it is perfectly matched\n",
"S12=1/sqrt(2);\n",
"S21=S12;\n",
"s=[0 S12;S21 0];\n",
"disp(s,'Scattering matrix:');"
   ]
   }
,
{
		   "cell_type": "markdown",
		   "metadata": {},
		   "source": [
			"## Example 4.2: Rectangulr_resonator.sce"
		   ]
		  },
  {
"cell_type": "code",
	   "execution_count": null,
	   "metadata": {
	    "collapsed": true
	   },
	   "outputs": [],
"source": [
"//Page Number: 193\n",
"//Example 4.2\n",
"clc;\n",
"//Given\n",
"a=0.38;//cm\n",
"a1=a/100;//m\n",
"b=0.76;//cm\n",
"b1=b/100;//m\n",
"f=50D+9;\n",
"c=3D+8;\n",
"\n",
"//Length for TE102\n",
"m=1;\n",
"n=0;\n",
"p=2;\n",
"l=1/sqrt((f/c)^2-(1/(4*b1^2)));//m\n",
"disp('cm',l*100,'Length c:');"
   ]
   }
,
{
		   "cell_type": "markdown",
		   "metadata": {},
		   "source": [
			"## Example 4.3: X_band_resonator.sce"
		   ]
		  },
  {
"cell_type": "code",
	   "execution_count": null,
	   "metadata": {
	    "collapsed": true
	   },
	   "outputs": [],
"source": [
"//Page Number: 194\n",
"//Example 4.3\n",
"clc;\n",
"//Given\n",
"c=3D+8; //m/s\n",
"a=2.286;//cm\n",
"a1=a/100;//m\n",
"b=1.024;//cm\n",
"b1=b/100;//m\n",
"f=10D+9;//hz\n",
"sig=6D+7;\n",
"u=4D-7*%pi;\n",
"w=2*%pi*f;\n",
"eet=377;\n",
"\n",
"//Shortest cavity length\n",
"lamc=2*a1;//m\n",
"fc=c/lamc;//hz\n",
"lam=c/f;//m\n",
"lamg=lam/sqrt(1-(fc/f)^2);//m\n",
"sc=lamg/2;//m\n",
"disp('cm',sc*100,'Shortest cavity length:');\n",
"\n",
"//Qw of the resonator operating in TE101 mode\n",
"rs=sqrt((w*u)/(2*sig));//ohm\n",
"lamr=c/f;\n",
"x=(((a1*b1)/(sc^2))+((sc^2+a1^2)/(2*sc*a1))+(b1*sc/a1^2));\n",
"qw=(2*%pi*eet*a1*b1*sc)/(rs*(lamr^3)*x);\n",
"disp(qw,'Qw of the resonator operating in TE101 mode');"
   ]
   }
,
{
		   "cell_type": "markdown",
		   "metadata": {},
		   "source": [
			"## Example 4.4: Rectangular_resonator.sce"
		   ]
		  },
  {
"cell_type": "code",
	   "execution_count": null,
	   "metadata": {
	    "collapsed": true
	   },
	   "outputs": [],
"source": [
"//Page Number: 195\n",
"//Example 4.4\n",
"clc;\n",
"//Given\n",
"c=3D+8; //m/s\n",
"a=4.8;//cm\n",
"a1=a/100;//m\n",
"b=2.2;//cm\n",
"b1=b/100;//m\n",
"f=5D+9;//hz\n",
"er=2.25;\n",
"tandel=4D-4;\n",
"sig=5.813D+7;\n",
"oneby=3D+8;\n",
"u=4D-7*%pi;\n",
"w=2*%pi*f;\n",
"eet=377;\n",
"\n",
"//Length at p=1\n",
"m=1;\n",
"n=0;\n",
"p=1;\n",
"z=(f*2*sqrt(er))/c;\n",
"cp1=p/sqrt((z^2)-((m/a1)^2)-((n/b1)^2));\n",
"disp('cm',cp1*100,'Length of resonator at p=1:');\n",
"\n",
"//At p=2\n",
"cp2=cp1*2;\n",
"disp('cm',cp2*100,'Length of resonator at p=2:');\n",
"\n",
"//Qw\n",
"rs=sqrt((w*u)/(2*sig));//ohm\n",
"lamr=c/(f*sqrt(er));\n",
"x=(((a1*b1)/(cp1^2))+((cp1^2+a1^2)/(2*cp1*a1))+(b1*cp1/a1^2));\n",
"qw=(2*%pi*(eet/sqrt(er))*a1*b1*cp1)/(rs*(lamr^3)*x);\n",
"qd=1/tandel;\n",
"q=(qw*qd)/(qw+qd);\n",
"disp(q,'Q for TE101 mode:');\n",
""
   ]
   }
,
{
		   "cell_type": "markdown",
		   "metadata": {},
		   "source": [
			"## Example 4.5: Cylindrical_resonator.sce"
		   ]
		  },
  {
"cell_type": "code",
	   "execution_count": null,
	   "metadata": {
	    "collapsed": true
	   },
	   "outputs": [],
"source": [
"//Page Number: 196\n",
"//Example 4.5\n",
"clc;\n",
"//Given\n",
"c=3D+8; //m/s\n",
"a=2;//cm\n",
"a1=a/100;//m\n",
"b=2.5;//cm\n",
"b1=b/100;//m\n",
"\n",
"disp('TE modes');\n",
"h01=3.832;\n",
"fr=(c/(2*%pi))*sqrt((h01/a1)^2+(%pi/b1)^2);//hz\n",
"disp('Ghz',fr/10^9,'Resonant frequency for mode TE010:');\n",
"\n",
"h11=1.841;\n",
"fr1=(c/(2*%pi))*sqrt((h11/a1)^2+(%pi/b1)^2);//hz\n",
"disp('Ghz',fr1/10^9,'Resonant frequency for mode TE111:');\n",
"\n",
"h21=3.054;\n",
"fr2=(c/(2*%pi))*sqrt((h21/a1)^2+(%pi/b1)^2);//hz\n",
"disp('Ghz',fr2/10^9,'Resonant frequency for mode TE211:');\n",
"\n",
"disp('TM modes:');\n",
"l1=0;\n",
"h011=2.405;\n",
"fr3=(c/(2*%pi))*sqrt((h011/a1)^2+(%pi*l1/b1)^2);//hz\n",
"disp('Ghz',fr3/10^9,'Resonant frequency for mode TM010');\n",
"\n",
"l2=1;\n",
"fr4=(c/(2*%pi))*sqrt((h011/a1)^2+(%pi*l2/b1)^2);//hz\n",
"disp('Ghz',fr4/10^9,'resonant frequency for mode TM011:');\n",
"\n",
"l3=1;\n",
"h111=3.832;\n",
"fr5=(c/(2*%pi))*sqrt((h111/a1)^2+(%pi*l3/b1)^2);//hz\n",
"disp('Ghz',fr5/10^9,'Resonant frequency for mode TM111:');"
   ]
   }
,
{
		   "cell_type": "markdown",
		   "metadata": {},
		   "source": [
			"## Example 4.6: Resonator_comparison.sce"
		   ]
		  },
  {
"cell_type": "code",
	   "execution_count": null,
	   "metadata": {
	    "collapsed": true
	   },
	   "outputs": [],
"source": [
"//Page Number: 196\n",
"//Example 4.6\n",
"clc;\n",
"//Given\n",
"QTM010=1.202;\n",
"QTE101=1.11;\n",
"\n",
"r=QTM010/QTE101;\n",
"disp(r,'Ratio of Qs of cylindrical and rectangular resonators:');"
   ]
   }
,
{
		   "cell_type": "markdown",
		   "metadata": {},
		   "source": [
			"## Example 4.7: Cubical_Resonator.sce"
		   ]
		  },
  {
"cell_type": "code",
	   "execution_count": null,
	   "metadata": {
	    "collapsed": true
	   },
	   "outputs": [],
"source": [
"//Page Number: 197\n",
"//Example 4.7\n",
"clc;\n",
"//Given\n",
"f=7.07D+9;//hz\n",
"a=3;//cm\n",
"a1=a/100;//m\n",
"sig=5.8D+7;\n",
"er=2.25;\n",
"tandel=4D-4;\n",
"ur=1;\n",
"n=377;\n",
"w=2*%pi*f;\n",
"u=4D-7*%pi;\n",
"\n",
"//Q of resonantor\n",
"rs=sqrt(w*u/(2*sig));//ohm\n",
"qw=(0.7419*n)/(rs*sqrt(2.25));\n",
"qd=1/tandel;\n",
"q=(qw*qd)/(qw+qd);\n",
"disp(q,'Q of resonator:');"
   ]
   }
,
{
		   "cell_type": "markdown",
		   "metadata": {},
		   "source": [
			"## Example 4.8: Rectangular_Resonant_Cavity.sce"
		   ]
		  },
  {
"cell_type": "code",
	   "execution_count": null,
	   "metadata": {
	    "collapsed": true
	   },
	   "outputs": [],
"source": [
"//Page Number: 198\n",
"//Example 4.8\n",
"clc;\n",
"//Given\n",
"a=5;//cm\n",
"a1=a/100;//m\n",
"b=4;//cm\n",
"b1=b/100;//m\n",
"c=10;//cm\n",
"c1=c/100;//m\n",
"sig=5.8D+7;\n",
"u0=4D-7*%pi;\n",
"er=3;\n",
"eet=377;\n",
"\n",
"ur=1;\n",
"spl=3D+8;\n",
"tandel=2.5D-4;\n",
"\n",
"//TE101 mode\n",
"m=1;\n",
"n=0;\n",
"p=1;\n",
"fr=(spl/(2*sqrt(er*ur)))*sqrt((m/a1)^2+(n/b1)^2+(p/c1)^2);//hz\n",
"disp('Ghz',fr/10^9,'Resonant frequency:');\n",
"\n",
"w=2*%pi*fr;\n",
"rs=sqrt((w*u0)/(2*sig));//ohm\n",
"lamr=spl/(fr*sqrt(er));\n",
"x=(((a1*b1)/(c1^2))+((c1^2+a1^2)/(2*c1*a1))+((b1*c1)/a1^2));\n",
"qw=(2*%pi*(eet/sqrt(er))*a1*b1*c1)/(rs*(lamr^3)*x);\n",
"disp(qw,'Q for TE101 mode:');\n",
"\n",
"qd=1/tandel;\n",
"q=(qw*qd)/(qw+qd);\n",
"disp(q,'Q for lossy dielectric:');\n",
"\n",
"//Value of qw is calculated wrong in book as lamr comes to be 0.08 not 0.89 m\n",
""
   ]
   }
,
{
		   "cell_type": "markdown",
		   "metadata": {},
		   "source": [
			"## Example 4.9: Rectangular_resonator.sce"
		   ]
		  },
  {
"cell_type": "code",
	   "execution_count": null,
	   "metadata": {
	    "collapsed": true
	   },
	   "outputs": [],
"source": [
"//Page Number: 198\n",
"//Example 4.9\n",
"clc;\n",
"//Given\n",
"c=3D+8; //m/s\n",
"a=2.286;//cm\n",
"a1=a/100;//m\n",
"b=1.106;//cm\n",
"b1=b/100;//m\n",
"\n",
"//For fr1=9.3D+9;\n",
"fr1=9.3D+9;//hz\n",
"lamr1=c/fr1;//m\n",
"c1=(2*a1)/sqrt((((2*a1)/lamr1)^2)-1);\n",
"\n",
"//For fr2=10.2D+9;\n",
"fr2=10.2D+9;//hz\n",
"lamr2=c/fr2;//m\n",
"c2=(2*a1)/sqrt((((2*a1)/lamr2)^2)-1);\n",
"\n",
"r=c1-c2;\n",
"disp('cm',r*100,'Range of piston movement:');"
   ]
   }
],
"metadata": {
		  "kernelspec": {
		   "display_name": "Scilab",
		   "language": "scilab",
		   "name": "scilab"
		  },
		  "language_info": {
		   "file_extension": ".sce",
		   "help_links": [
			{
			 "text": "MetaKernel Magics",
			 "url": "https://github.com/calysto/metakernel/blob/master/metakernel/magics/README.md"
			}
		   ],
		   "mimetype": "text/x-octave",
		   "name": "scilab",
		   "version": "0.7.1"
		  }
		 },
		 "nbformat": 4,
		 "nbformat_minor": 0
}
