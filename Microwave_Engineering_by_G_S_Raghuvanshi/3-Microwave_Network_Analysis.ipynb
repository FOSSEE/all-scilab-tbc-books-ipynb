{
"cells": [
 {
		   "cell_type": "markdown",
	   "metadata": {},
	   "source": [
       "# Chapter 3: Microwave Network Analysis"
	   ]
	},
{
		   "cell_type": "markdown",
		   "metadata": {},
		   "source": [
			"## Example 3.12: Transistor_amplifier_circuit.sce"
		   ]
		  },
  {
"cell_type": "code",
	   "execution_count": null,
	   "metadata": {
	    "collapsed": true
	   },
	   "outputs": [],
"source": [
"//Page Number: 163\n",
"//Example 3.12\n",
"clc;\n",
"//Given\n",
"S11=0.6;\n",
"S12=0.045;\n",
"S21=2.5;\n",
"S22=0.50;\n",
"TS=0.5;\n",
"TL=0.4;\n",
"Z0=50; //ohm\n",
"Vrms=10; //V\n",
"\n",
"//(i) Gain Parameters\n",
"//(i)Reflection coefficients of input and output\n",
"Tin=S11+((S12*S21*TL)/(1-(S22*TL)));\n",
"Tout=S22+((S12*S21*TS)/(1-(S22*TS)));\n",
"\n",
"//Transducer Gain\n",
"x=(1-(TS)^2)/((1-(S11*TS))^2);\n",
"y=(S21*S21);\n",
"z=(1-(TL)^2)/((1-(Tout*TL))^2);\n",
"GT=x*y*z;\n",
"disp(GT,'Transducer Gain:');\n",
"\n",
"//Available Power Gain\n",
"z1=1-(Tout)^2;\n",
"GA=(x*y)/z1;\n",
"disp(GA,'Available power Gain:'); \n",
"\n",
"//Power Gain\n",
"z2=1-(Tin)^2;\n",
"GP=(x*y)/z2;\n",
"disp(GP,'Power Gain:');\n",
"\n",
"//(ii) Power levels\n",
"//Power available at source\n",
"Pavs=(sqrt(2)*Vrms)^2/(8*Z0);\n",
"disp('W',Pavs,'Power available at source:');\n",
"\n",
"Pl=9.4*Pavs;\n",
"//Power available at input\n",
"Pin=Pl/13.5;\n",
"disp('W',Pin,'Power available at input:');\n",
"\n",
"//(iii) VSWRs\n",
"M1=Pin/Pavs;\n",
"M2=Pl/(9.6*Pavs);\n",
"\n",
"Tin1=sqrt(1-M1);\n",
"Tout1=sqrt(1-M2);\n",
"\n",
"vswrin=(1+Tin1)/(1-Tin1);\n",
"disp(vswrin,'Input VSWR:');\n",
"vswrout=(1+Tout1)/(1-Tout1);\n",
"disp(vswrout,'Output VSWR:');\n",
"\n",
"//Calculations for gain are done wrong in book, hence answers dont match"
   ]
   }
,
{
		   "cell_type": "markdown",
		   "metadata": {},
		   "source": [
			"## Example 3.4: Scattering_matrix.sce"
		   ]
		  },
  {
"cell_type": "code",
	   "execution_count": null,
	   "metadata": {
	    "collapsed": true
	   },
	   "outputs": [],
"source": [
"//Page Number: 142\n",
"//Example 3.4\n",
"clc;\n",
"//Given\n",
"\n",
"[z]=[4 2;2 4];\n",
"[I]=[1 0;0 1];\n",
"\n",
"//Scattering matrix\n",
"[s]={[z]-[I]}*inv({[z]+[I]});\n",
"disp([s],'Scattering Matrix:');\n",
""
   ]
   }
,
{
		   "cell_type": "markdown",
		   "metadata": {},
		   "source": [
			"## Example 3.5: Network.sce"
		   ]
		  },
  {
"cell_type": "code",
	   "execution_count": null,
	   "metadata": {
	    "collapsed": true
	   },
	   "outputs": [],
"source": [
"//Page Number: 142\n",
"//Example 3.5\n",
"clc;\n",
"//Given\n",
"P=12.8D-3; //W\n",
"l=3; //cm\n",
"lamb=4.2; //cm\n",
"vswr=2.2;\n",
"jfi=%i*4.49;\n",
"\n",
"//ap\n",
"ap=sqrt(2*P);\n",
"\n",
"//Phase shift\n",
"bl=(2*%pi*l)/lamb;\n",
"//bp\n",
"bp=(ap*(vswr-1))/(vswr+1);\n",
"\n",
"a=ap*exp(jfi);\n",
"b=bp*exp(jfi);\n",
"disp(a,b,'Required Waves:');"
   ]
   }
,
{
		   "cell_type": "markdown",
		   "metadata": {},
		   "source": [
			"## Example 3.6: Microwave_network.sce"
		   ]
		  },
  {
"cell_type": "code",
	   "execution_count": null,
	   "metadata": {
	    "collapsed": true
	   },
	   "outputs": [],
"source": [
"//Page Number: 143\n",
"//Example 3.6\n",
"clc;\n",
"//Given\n",
"S11=0.10;\n",
"S12=0.90;\n",
"A12=-45;\n",
"S21=0.90;\n",
"A21=45;\n",
"S22=0.3;\n",
"\n",
"//(i) Network is reciprocal\n",
"if(A12==A21)\n",
"    disp('Network is reciprocal');\n",
"else\n",
"    \n",
"    disp('Network is not reciprocal');\n",
"end\n",
"\n",
"//(ii) Network is lossles\n",
"x=(S11^2)+(S12^2);\n",
"if(x==1)\n",
"    disp('Network is lossless');\n",
"else\n",
"    \n",
"    disp('Network is not lossless');\n",
"end\n",
"\n",
"//(iii)Return loss\n",
"T=S11-((S12*S21)/(1+S22));\n",
"Tm=-T; //mod of T\n",
"L=-20*log10(Tm);\n",
"disp('dB',L,'Return Loss:');"
   ]
   }
],
"metadata": {
		  "kernelspec": {
		   "display_name": "Scilab",
		   "language": "scilab",
		   "name": "scilab"
		  },
		  "language_info": {
		   "file_extension": ".sce",
		   "help_links": [
			{
			 "text": "MetaKernel Magics",
			 "url": "https://github.com/calysto/metakernel/blob/master/metakernel/magics/README.md"
			}
		   ],
		   "mimetype": "text/x-octave",
		   "name": "scilab",
		   "version": "0.7.1"
		  }
		 },
		 "nbformat": 4,
		 "nbformat_minor": 0
}
