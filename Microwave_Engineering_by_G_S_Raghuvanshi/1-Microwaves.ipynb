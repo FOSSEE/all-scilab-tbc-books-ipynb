{
"cells": [
 {
		   "cell_type": "markdown",
	   "metadata": {},
	   "source": [
       "# Chapter 1: Microwaves"
	   ]
	},
{
		   "cell_type": "markdown",
		   "metadata": {},
		   "source": [
			"## Example 1.10: Transmission_Line.sce"
		   ]
		  },
  {
"cell_type": "code",
	   "execution_count": null,
	   "metadata": {
	    "collapsed": true
	   },
	   "outputs": [],
"source": [
"//Page Number: 23\n",
"//Example 1.10\n",
"clc;\n",
"//Given\n",
"ZL=15+(%i*20); //ohms\n",
"Z0=50; //ohm\n",
"\n",
"//Normalized load impedance\n",
"z=ZL/Z0;\n",
"disp(z,'Normalized load impedance:');\n",
"\n",
"//From chart\n",
"T=0.6;\n",
"disp(T,'Reflection coefficient:');\n",
"\n",
"//VSWR\n",
"p=4;\n",
"disp(p,'VSWR:');"
   ]
   }
,
{
		   "cell_type": "markdown",
		   "metadata": {},
		   "source": [
			"## Example 1.11: Microwave_line.sce"
		   ]
		  },
  {
"cell_type": "code",
	   "execution_count": null,
	   "metadata": {
	    "collapsed": true
	   },
	   "outputs": [],
"source": [
"//Page Number: 25\n",
"//Example 1.11\n",
"clc;\n",
"//Given\n",
"Z0=50; //ohm\n",
"p=2.4;\n",
"\n",
"//From chart\n",
"zl=1.4+%i;\n",
"L=Z0*zl;\n",
"disp('ohm',L,'Load:');"
   ]
   }
,
{
		   "cell_type": "markdown",
		   "metadata": {},
		   "source": [
			"## Example 1.12: Active_Device.sce"
		   ]
		  },
  {
"cell_type": "code",
	   "execution_count": null,
	   "metadata": {
	    "collapsed": true
	   },
	   "outputs": [],
"source": [
"//Page Number: 26\n",
"//Example 1.12\n",
"clc;\n",
"//Given\n",
"Z0=50; //ohm\n",
"T=2.23;\n",
"\n",
"//From chart\n",
"zl=2+%i;\n",
"ZLd=Z0*zl;\n",
"disp('ohm',ZLd,'Normalized impedance:');\n",
"\n",
"//Impedance of device is by negating the real part\n",
"imp=-real(ZLd)+(imag(ZLd)*%i);\n",
"disp('ohm',imp,'Impedance of device:');\n",
"\n",
""
   ]
   }
,
{
		   "cell_type": "markdown",
		   "metadata": {},
		   "source": [
			"## Example 1.13: Transmission_line.sce"
		   ]
		  },
  {
"cell_type": "code",
	   "execution_count": null,
	   "metadata": {
	    "collapsed": true
	   },
	   "outputs": [],
"source": [
"//Page Number: 27\n",
"//Example 1.13\n",
"clc;\n",
"//Given\n",
"p=3;\n",
"m1=54; //cm\n",
"m2=204; //cm\n",
"\n",
"//Point A\n",
"disp('Point A');\n",
"lam=4*(m2-m1);\n",
"dA=0.083*lam;\n",
"L=m1-dA;\n",
"disp('cm',L,'Location of stub:');\n",
"IA=0.114*lam;\n",
"disp('cm',IA,'Length:');\n",
"\n",
"//Point B\n",
"disp('Point B');\n",
"dB=0.083*lam;\n",
"IB=0.386*lam;\n",
"Lb=dB+m1;\n",
"disp('cm',Lb,'Location of stub:');"
   ]
   }
,
{
		   "cell_type": "markdown",
		   "metadata": {},
		   "source": [
			"## Example 1.15: Microwave_line.sce"
		   ]
		  },
  {
"cell_type": "code",
	   "execution_count": null,
	   "metadata": {
	    "collapsed": true
	   },
	   "outputs": [],
"source": [
"//Page Number: 30\n",
"//Example 1.15\n",
"clc;\n",
"//Given\n",
"Z0=50; //ohm\n",
"ZL=100; //ohms\n",
"f=10D+9; //Hz\n",
"c=0.159D-12; //F\n",
"\n",
"//Normalized load impedance\n",
"z=ZL/Z0;\n",
"disp(z,'Normalized load impedance:');\n",
"\n",
"//From chart\n",
"zin=0.4+(%i*0.55);\n",
"ZINN=Z0*zin;\n",
"disp('ohm',ZINN,'Normalized impedance:');"
   ]
   }
,
{
		   "cell_type": "markdown",
		   "metadata": {},
		   "source": [
			"## Example 1.16: EM_Plane.sce"
		   ]
		  },
  {
"cell_type": "code",
	   "execution_count": null,
	   "metadata": {
	    "collapsed": true
	   },
	   "outputs": [],
"source": [
"//Page Number: 42\n",
"//Example 1.16\n",
"clc;\n",
"//From given wave equation we can see\n",
"w=1D+9;//rad/sec\n",
"bet=30;//rad/m\n",
"c=3D+8; //m/s\n",
"u0=1; //let\n",
"e0=1/(9D+16);\n",
"\n",
"vp=w/bet;//m/sec\n",
"disp('m/s',vp,'Phase velocity:');\n",
"\n",
"e=1/(vp^2*u0);\n",
"er=e/(e0*u0);\n",
"disp(er,'Dielectric constant:');"
   ]
   }
,
{
		   "cell_type": "markdown",
		   "metadata": {},
		   "source": [
			"## Example 1.17: Polyethylene.sce"
		   ]
		  },
  {
"cell_type": "code",
	   "execution_count": null,
	   "metadata": {
	    "collapsed": true
	   },
	   "outputs": [],
"source": [
"//Page Number: 42\n",
"//Example 1.17\n",
"clc;\n",
"//Given\n",
"c=3D+8; //m/s\n",
"f=10D+9;//hz\n",
"er=6;\n",
"tandel=2D-4;\n",
"\n",
"vp=c/er;//m/sec\n",
"disp('m/sec',vp,'Phase velocity:');\n",
"al=(%pi*f*tandel)/vp;//Np/m\n",
"disp('Np/m',al,'Attenuation constant:');\n",
"\n",
"//Answer for velocity is calculated wrong in book, hence answers dont match for both"
   ]
   }
,
{
		   "cell_type": "markdown",
		   "metadata": {},
		   "source": [
			"## Example 1.18: Electromagnetic_wave.sce"
		   ]
		  },
  {
"cell_type": "code",
	   "execution_count": null,
	   "metadata": {
	    "collapsed": true
	   },
	   "outputs": [],
"source": [
"//Page Number: 43\n",
"//Example 1.18\n",
"clc;\n",
"//Given\n",
"er=2.2;\n",
"n0=377;//ohm\n",
"n2=n0/sqrt(er);//ohm\n",
"n1=377;//ohm\n",
"\n",
"//Reflection coefficient\n",
"t=(n2-n1)/(n2+n1);\n",
"disp(t,'Reflection coefficient:');\n",
"\n",
"//Vswr\n",
"//Taking mod of reflection coefficient\n",
"t1=-t;\n",
"p=(1+t1)/(1-t1);\n",
"disp(p,'VSWR:');"
   ]
   }
,
{
		   "cell_type": "markdown",
		   "metadata": {},
		   "source": [
			"## Example 1.19: Range_in_sea_water.sce"
		   ]
		  },
  {
"cell_type": "code",
	   "execution_count": null,
	   "metadata": {
	    "collapsed": true
	   },
	   "outputs": [],
"source": [
"//Page Number: 43\n",
"//Example 1.19\n",
"clc;\n",
"//Given\n",
"sig=5;//mohm/m\n",
"er=80*8.85D-12;\n",
"eaz=0.1;\n",
"u=1.26D-6;\n",
"\n",
"az=-log(0.1);\n",
"//(i) Range at 25Khz\n",
"f=25D+3;//Khz\n",
"w=2*%pi*f;//rad/sec\n",
"a=w*(sqrt((u*er/2)*(sqrt(sig^2/(w^2*er^2)+1)-1)));\n",
"z=az/a;//m\n",
"disp('m',z,'Range at 25khz:');\n",
"\n",
"//(ii) Range at 25Mhz\n",
"f1=25D+6;//Mhz\n",
"w1=2*%pi*f1;//rad/sec\n",
"a1=w1*(sqrt((u*er/2)*(sqrt(sig^2/(w1^2*er^2)+1)-1)));\n",
"z1=az/a1;//m\n",
"disp('m',z1,'Range at 25Mhz:');"
   ]
   }
,
{
		   "cell_type": "markdown",
		   "metadata": {},
		   "source": [
			"## Example 1.2: Lossless_line.sce"
		   ]
		  },
  {
"cell_type": "code",
	   "execution_count": null,
	   "metadata": {
	    "collapsed": true
	   },
	   "outputs": [],
"source": [
"//Page Number: 12\n",
"//Example 1.2\n",
"clc;\n",
"//Given\n",
"z0=50;//ohm\n",
"zg=50;//ohm\n",
"l=0.25;//m\n",
"f=4D+9;//hz\n",
"zl=100;//ohm\n",
"vg=10;//V\n",
"w=2*%pi*f;//rad/sec\n",
"c=3D+8; //m/s\n",
"\n",
"//(i) Voltage and current at any point\n",
"tg=(zg-z0)/(zg+z0);\n",
"tl=(zl-z0)/(zl+z0);\n",
"vi=z0*vg/(z0+zg);//V\n",
"disp('V',vi,'Voltage at any point:');\n",
"ii=vg/(2*z0);//A\n",
"disp('A',ii,'Current at any point:');\n",
"\n",
"//(ii) Voltage at generator end\n",
"//Taking z=1\n",
"z=1;\n",
"bet=w/c;\n",
"vz=(vg/2)*exp(-%i*bet*(z+l))*(1+(tl*exp(2*%i*bet*z)));//V\n",
"disp('V',vz,'Voltage at generator end:');\n",
"iz=ii*exp(-%i*bet*(z+l))*(1-(tl*exp(2*%i*bet*z)));//A\n",
"vz1=(vg/2)*exp(-%i*bet*(z+l))*(1+(tl*exp(2*%i*bet*z)));//V\n",
"\n",
"//Voltage at load end, z=0\n",
"z11=0;\n",
"vl=(vg/2)*exp(-%i*bet*l)*(1+(tl*exp(2*%i*bet*z11)));//V\n",
"disp('V',vl,'Voltage at load end:');\n",
"\n",
"//(iii) Reflection coefficient\n",
"zx=0.25;\n",
"tz=tl*exp(%i*2*bet*zx);\n",
"disp(tz,'Reflection coefficient:');\n",
"\n",
"//(iv) VSWR\n",
"p=(1+tl)/(1-tl);\n",
"disp(p,'VSWR:');\n",
"\n",
"//(v) Average power delivered to the load\n",
"vl=20/3;\n",
"pl0=vl^2/(2*zl);//W\n",
"disp('W',pl0,'Average power delivered to the load:');"
   ]
   }
,
{
		   "cell_type": "markdown",
		   "metadata": {},
		   "source": [
			"## Example 1.3: Microwave_line.sce"
		   ]
		  },
  {
"cell_type": "code",
	   "execution_count": null,
	   "metadata": {
	    "collapsed": true
	   },
	   "outputs": [],
"source": [
"//Page Number: 14\n",
"//Example 1.3\n",
"clc;\n",
"//Given\n",
"pm=3;\n",
"pl=4;\n",
"l=24;//cm\n",
"l1=l/100;//m\n",
"\n",
"//Attenuation\n",
"tin=(pm-1)/(pm+1);\n",
"tl=(pl-1)/(pl+1);\n",
"alp=(1/(2*l1))*log(tl/tin);//Np/m\n",
"disp('Np/m',alp,'Attenuation in the line');"
   ]
   }
,
{
		   "cell_type": "markdown",
		   "metadata": {},
		   "source": [
			"## Example 1.4: Quater_wave_transformer.sce"
		   ]
		  },
  {
"cell_type": "code",
	   "execution_count": null,
	   "metadata": {
	    "collapsed": true
	   },
	   "outputs": [],
"source": [
"//Page Number: 14\n",
"//Example 1.4\n",
"clc;\n",
"//Given\n",
"c=3D+8; //m/s\n",
"z0=200;//ohm\n",
"zl=800;//ohm\n",
"f=30D+6;//hz\n",
"\n",
"//Characterstic impedance\n",
"z00=sqrt(z0*zl);//ohm\n",
"disp('ohm',z00,'Characterstic impedance:');\n",
"\n",
"//Length of line\n",
"lam=c/f;//m\n",
"l=lam/4;//m\n",
"disp('m',l,'Length of line:');"
   ]
   }
,
{
		   "cell_type": "markdown",
		   "metadata": {},
		   "source": [
			"## Example 1.5: Parallel_resonant_circuit.sce"
		   ]
		  },
  {
"cell_type": "code",
	   "execution_count": null,
	   "metadata": {
	    "collapsed": true
	   },
	   "outputs": [],
"source": [
"//Page Number: 15\n",
"//Example 1.5\n",
"clc;\n",
"//Given\n",
"l=1.2;//mH\n",
"r=8;//ohm\n",
"c=200D-12;//F\n",
"\n",
"//(i) Resonant frequency\n",
"f0=(1/(2*%pi))*sqrt(1/(l*c));//hz\n",
"disp('hz',f0,'Resonant frequency:');\n",
"\n",
"//(ii) Impedance of circuit\n",
"disp('ohm',r,'Impedance of circuit:');\n",
"\n",
"//(iii)Q factor of the circuit\n",
"q=1/(2*%pi*f0*c*r);\n",
"disp(q,'Q factor of the circuit:');\n",
"\n",
"//(iv) Bandwidth\n",
"df=f0/q;//hz\n",
"disp('hz',df,'Bandwidth:');\n",
"\n",
"//The value of resonant frequency is calculated wrong in book\n",
"//Hence Q factor and bandwidth, all these answers dont match"
   ]
   }
,
{
		   "cell_type": "markdown",
		   "metadata": {},
		   "source": [
			"## Example 1.6: Lossless_line.sce"
		   ]
		  },
  {
"cell_type": "code",
	   "execution_count": null,
	   "metadata": {
	    "collapsed": true
	   },
	   "outputs": [],
"source": [
"//Page Number:\n",
"//Example 1.6\n",
"clc;\n",
"//Given\n",
"c=3D+8; //m/s\n",
"le=25;//m\n",
"zl=40+(%i*30);//ohm\n",
"f=10D+6;//hz\n",
"cap=40D-12;//F\n",
"l=300D-9;//H/m\n",
"\n",
"//Input impedance\n",
"z0=sqrt(l/cap);//ohm\n",
"zl1=zl/z0;\n",
"lam=c/f;//m\n",
"bet=(2*%pi*le)/lam;//rad\n",
"zin=((zl1*cos(bet))+(%i*sin(bet)))/(cos(bet)+(%i*zl1*sin(bet)));//ohm\n",
"disp('ohm',zin,'Input impedance:');\n",
"\n",
"//Reflection coefficient\n",
"t=(zl1-1)/(zl1+1);\n",
"disp(t,'Reflection coefficient:');"
   ]
   }
,
{
		   "cell_type": "markdown",
		   "metadata": {},
		   "source": [
			"## Example 1.7: Lossy_cable.sce"
		   ]
		  },
  {
"cell_type": "code",
	   "execution_count": null,
	   "metadata": {
	    "collapsed": true
	   },
	   "outputs": [],
"source": [
"//Page Number: 16\n",
"//Example 1.7\n",
"clc;\n",
"//Given\n",
"c=3D+8; //m/s\n",
"R=2.25;//ohm\n",
"L=1D-9;//H/m\n",
"C=1D-12;//F/m\n",
"f=0.5D+9;//hz\n",
"G=0;\n",
"w=2*%pi*f;//rad/sec\n",
"\n",
"//Characterstic impedance\n",
"z0=sqrt((R+(%i*w*L))/(G+(%i*w*C))); //ohm\n",
"disp('ohm',z0,'Characterstic impedance:');\n",
"\n",
"//Propagation constant\n",
"gam=sqrt((R+(%i*w*L))*(G+(%i*w*C)));\n",
"disp(gam,'Propagation constant:');"
   ]
   }
,
{
		   "cell_type": "markdown",
		   "metadata": {},
		   "source": [
			"## Example 1.8: Transmission_Line.sce"
		   ]
		  },
  {
"cell_type": "code",
	   "execution_count": null,
	   "metadata": {
	    "collapsed": true
	   },
	   "outputs": [],
"source": [
"//Page Number: 20\n",
"//Example 1.8\n",
"clc;\n",
"//Given\n",
"c=3D+8; //m/s\n",
"f=3D+9; //Hz\n",
"ZL=50-(%i*100); //ohms\n",
"Z0=50; //ohm\n",
"//Wavelength\n",
"lam=c/f;\n",
"disp('cm',lam*100,'Wavelength:');\n",
"\n",
"//Normalized load impedance\n",
"z=ZL/Z0;\n",
"disp(z,'Normalized load impedance:');\n",
"\n",
"//From chart\n",
"zin=0.45+(%i*1.2);\n",
"yin=0.27-(%i*0.73);\n",
"ZINN=Z0*zin;\n",
"disp('ohm',ZINN,'Line impedance:');\n",
"YINN=yin/Z0;\n",
"disp('mho',YINN,'Line admittance:');\n",
""
   ]
   }
,
{
		   "cell_type": "markdown",
		   "metadata": {},
		   "source": [
			"## Example 1.9: Transmission_Line.sce"
		   ]
		  },
  {
"cell_type": "code",
	   "execution_count": null,
	   "metadata": {
	    "collapsed": true
	   },
	   "outputs": [],
"source": [
"//Page Number: 22\n",
"//Example 1.9\n",
"clc;\n",
"//Given\n",
"ZL=75+(%i*100); //ohms\n",
"Z0=50; //ohm\n",
"\n",
"//Normalized load impedance\n",
"z=ZL/Z0;\n",
"disp(z,'Normalized load impedance:');\n",
"\n",
"//(i) 0.051*lam\n",
"//From chart\n",
"r=4.6;\n",
"Zi1=r*Z0;\n",
"disp('ohm',Zi1,'Input impedance at 0.051 lam:');\n",
"\n",
"//(ii) 0.102*lam\n",
"r1=1.5-(%i*2);\n",
"Zi2=r1*Z0;\n",
"disp('ohm',Zi2,'Input impedance at 0.102 lam:');\n",
" \n",
"//(iii) 0.301*lam\n",
"r2=0.22;\n",
"Zi3=r2*Z0;\n",
"disp('ohm',Zi3,'Input impedance at 0.301 lam:');"
   ]
   }
],
"metadata": {
		  "kernelspec": {
		   "display_name": "Scilab",
		   "language": "scilab",
		   "name": "scilab"
		  },
		  "language_info": {
		   "file_extension": ".sce",
		   "help_links": [
			{
			 "text": "MetaKernel Magics",
			 "url": "https://github.com/calysto/metakernel/blob/master/metakernel/magics/README.md"
			}
		   ],
		   "mimetype": "text/x-octave",
		   "name": "scilab",
		   "version": "0.7.1"
		  }
		 },
		 "nbformat": 4,
		 "nbformat_minor": 0
}
