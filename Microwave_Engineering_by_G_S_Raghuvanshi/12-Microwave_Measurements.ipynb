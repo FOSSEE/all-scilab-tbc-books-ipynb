{
"cells": [
 {
		   "cell_type": "markdown",
	   "metadata": {},
	   "source": [
       "# Chapter 12: Microwave Measurements"
	   ]
	},
{
		   "cell_type": "markdown",
		   "metadata": {},
		   "source": [
			"## Example 12.10: Air_filled_cavity.sce"
		   ]
		  },
  {
"cell_type": "code",
	   "execution_count": null,
	   "metadata": {
	    "collapsed": true
	   },
	   "outputs": [],
"source": [
"//Page Number: 654\n",
"//Example 12.10\n",
"clc;\n",
"//Given\n",
"R1=10.6; //GHz\n",
"R2=8.30; //GHz\n",
"Q0=8200;\n",
"Q0d=890;\n",
"\n",
"Er=(R1/R2)^2;\n",
"disp(Er,'Dielectric constant');\n",
"\n",
"Qd=(Q0-Q0d)/(Q0*Q0d);\n",
"disp(Qd,'Loss tangent of dielectric');"
   ]
   }
,
{
		   "cell_type": "markdown",
		   "metadata": {},
		   "source": [
			"## Example 12.11: Rectangular_Waveguide.sce"
		   ]
		  },
  {
"cell_type": "code",
	   "execution_count": null,
	   "metadata": {
	    "collapsed": true
	   },
	   "outputs": [],
"source": [
"//Page Number: 654\n",
"//Example 12.11\n",
"clc;\n",
"//Given\n",
"l0=0.15; //cm\n",
"lmbg=2*2.24; //cm\n",
"le=1.14; //cm\n",
"a=2.286; //cm\n",
"d=2;\n",
"\n",
"B0=(2*%pi)/lmbg;\n",
"x=tan(B0*l0)/(B0*l0);\n",
"//Also\n",
"x1=(l0*x)/le;\n",
"//Correct value seems to be\n",
"Bele=2.786;\n",
"e1=((((a/%pi)^2)*(Bele/le)^2)+1);\n",
"e2=(((2*a)/lmbg)^2)+1;\n",
"Er=e1/e2;\n",
"disp(Er,'Er:');\n",
"\n",
"\n",
"//Answer in book for Er is given as 2.062 but it should be 2.038"
   ]
   }
,
{
		   "cell_type": "markdown",
		   "metadata": {},
		   "source": [
			"## Example 12.1: Microwave_diode.sce"
		   ]
		  },
  {
"cell_type": "code",
	   "execution_count": null,
	   "metadata": {
	    "collapsed": true
	   },
	   "outputs": [],
"source": [
"//Page Number: 649\n",
"//Example 12.1\n",
"clc;\n",
"//Given\n",
"Is=0.1*(10^-6); //A\n",
"Pi=0; //dBm\n",
"Cs=0.1*(10^-12); //F\n",
"Ls=2*(10^-9);\n",
"Cj=0.15*(10^-12); //F\n",
"Rs=10; //ohm\n",
"T=293; //K\n",
"nktbye=25*(10^-3); //V\n",
"\n",
"//Rj\n",
"Rj=(nktbye/Is);\n",
"disp('Kohm',Rj/1000,'Rj:');\n",
"\n",
"//Bi\n",
"Bi=nktbye/2;\n",
"Bii=Bi*1000;\n",
"disp('A/W',Bii,'Bi:');\n",
"\n",
"//Bv\n",
"Bv=Rj*Bii;\n",
"disp('V/W',Bv,'Bv:');"
   ]
   }
,
{
		   "cell_type": "markdown",
		   "metadata": {},
		   "source": [
			"## Example 12.2: Detector_mismatch.sce"
		   ]
		  },
  {
"cell_type": "code",
	   "execution_count": null,
	   "metadata": {
	    "collapsed": true
	   },
	   "outputs": [],
"source": [
"//Page Number: 650\n",
"//Example 12.2\n",
"clc;\n",
"//Given\n",
"vswr=4;\n",
"\n",
"modT=(vswr-1)/(vswr+1);\n",
"Lm=-10*log10(1-(modT*modT)); //dB\n",
"disp('dB',Lm,'Mismatch Loss:');\n",
"\n",
"//Sensitivity reduces by a factor\n",
"Bvd=(1-(modT*modT));\n",
"Bvdp=Bvd*100;\n",
"disp('%',Bvdp,'Voltge sensitivity reduces by:');\n",
"\n",
"\n",
""
   ]
   }
,
{
		   "cell_type": "markdown",
		   "metadata": {},
		   "source": [
			"## Example 12.3: Transmission_waveguide.sce"
		   ]
		  },
  {
"cell_type": "code",
	   "execution_count": null,
	   "metadata": {
	    "collapsed": true
	   },
	   "outputs": [],
"source": [
"//Page Number: 650\n",
"//Example 12.3\n",
"clc;\n",
"//Given\n",
"f=10D+9; //Hz\n",
"c=3D+10; //cm/s\n",
"a=4; //cm\n",
"s=0.1; //cm\n",
"lmb=c/f; //cm\n",
"lmbg=lmb/(sqrt(1-((lmb/(2*a))^2)));\n",
"vswr=lmbg/(%pi*s);\n",
"disp(vswr,'VSWR:');\n",
"\n",
"//Answer in book for lmbg is given as 3.49 but it should be 3.23 and hence the answer will be 10.3"
   ]
   }
,
{
		   "cell_type": "markdown",
		   "metadata": {},
		   "source": [
			"## Example 12.4: VSWR_of_waveguide.sce"
		   ]
		  },
  {
"cell_type": "code",
	   "execution_count": null,
	   "metadata": {
	    "collapsed": true
	   },
	   "outputs": [],
"source": [
"//Page Number: 651\n",
"//Example 12.4\n",
"clc;\n",
"//Given\n",
"delx=3.5; //cm\n",
"s=0.25; //cm\n",
"\n",
"lmbg=2*delx;\n",
"vswr=lmbg/(%pi*s);\n",
"disp(vswr,'VSWR:');\n",
"\n",
""
   ]
   }
,
{
		   "cell_type": "markdown",
		   "metadata": {},
		   "source": [
			"## Example 12.5: Directional_couplers.sce"
		   ]
		  },
  {
"cell_type": "code",
	   "execution_count": null,
	   "metadata": {
	    "collapsed": true
	   },
	   "outputs": [],
"source": [
"//Page Number: 651\n",
"//Example 12.5\n",
"clc;\n",
"//Given\n",
"vswr=2;\n",
"Pin=4.5D-3; //W\n",
"\n",
"modT=(vswr-1)/(vswr+1);\n",
"//Power reflected,\n",
"Pr=(modT^2)*Pin;\n",
"//As coupler samples only 1/1000th power\n",
"Prr=Pr*1000;\n",
"disp('W',Prr,'Reflected Power:');"
   ]
   }
,
{
		   "cell_type": "markdown",
		   "metadata": {},
		   "source": [
			"## Example 12.6: Microwave_line.sce"
		   ]
		  },
  {
"cell_type": "code",
	   "execution_count": null,
	   "metadata": {
	    "collapsed": true
	   },
	   "outputs": [],
"source": [
"//Page Number: 652\n",
"//Example 12.6\n",
"clc;\n",
"//Given\n",
"Z0=50; //ohm\n",
"p=2.4;\n",
"L=0.313;\n",
"x=2*%pi*L;\n",
"y=tan(x);\n",
"\n",
"Zl=(Z0*(1+(p*p*%i)))/(p+(p*%i));\n",
"T=(Zl-Z0)/(Zl+Z0);\n",
"p=sqrt((real(T))^2+(imag(T))^2);\n",
"disp(p,'Reflection coefficient:');\n",
""
   ]
   }
,
{
		   "cell_type": "markdown",
		   "metadata": {},
		   "source": [
			"## Example 12.7: Microwave_line.sce"
		   ]
		  },
  {
"cell_type": "code",
	   "execution_count": null,
	   "metadata": {
	    "collapsed": true
	   },
	   "outputs": [],
"source": [
"//Page Number: 652\n",
"//Example 12.7\n",
"clc;\n",
"//Given\n",
"Zl=25+25*%i; //ohm\n",
"Z0=50; //ohm\n",
"\n",
"T=(Zl-Z0)/(Zl+Z0);\n",
"p=sqrt((real(T))^2+(imag(T))^2);\n",
"disp(p,'Reflection coefficient:');\n",
"\n",
"vswrr=(1+p)/(1-p);\n",
"disp(vswrr,'VSWR:');\n",
"\n",
"//Fraction of power delivered\n",
"Pd=1-(p^2);\n",
"Pdp=Pd*100;\n",
"disp('%',Pdp,'Fraction of power delivered:');"
   ]
   }
,
{
		   "cell_type": "markdown",
		   "metadata": {},
		   "source": [
			"## Example 12.8: Rectangular_waveguide.sce"
		   ]
		  },
  {
"cell_type": "code",
	   "execution_count": null,
	   "metadata": {
	    "collapsed": true
	   },
	   "outputs": [],
"source": [
"//Page Number: 653\n",
"//Example 12.8\n",
"clc;\n",
"//Given\n",
"d=2.4;//cm\n",
"lmbc=1.8;\n",
"c=3*10^10; //cm/s\n",
"\n",
"lmbg=2*d;\n",
"lmb=(lmbg*lmbc)/(sqrt(lmbg^2+lmbc^2));\n",
"//Operating frequency\n",
"f=c/lmb;\n",
"disp('GHz',f/10^9,'Operating frequency:');"
   ]
   }
,
{
		   "cell_type": "markdown",
		   "metadata": {},
		   "source": [
			"## Example 12.9: Three_port_circulator.sce"
		   ]
		  },
  {
"cell_type": "code",
	   "execution_count": null,
	   "metadata": {
	    "collapsed": true
	   },
	   "outputs": [],
"source": [
"//Page Number: 653\n",
"//Example 12.9\n",
"clc;\n",
"//Given\n",
"p=1.5;\n",
"IsL=1; //dB\n",
"InL=30; //dB\n",
"\n",
"S21=10^(-IsL/20);\n",
"\n",
"//Assuming tgree ports to be identical\n",
"S32=S21;\n",
"S13=S21;\n",
"\n",
"//Isolations are also the same\n",
"S31=10^(-InL/20);\n",
"S23=S31;\n",
"S12=S31;\n",
"\n",
"//Refelction coefficients are also the same\n",
"T=(p-1)/(p+1);\n",
"S11=T;\n",
"S22=T;\n",
"S33=T;\n",
"\n",
"S=[S11 S12 S13;S21 S22 S23;S31 S32 S33];\n",
"disp(S,'Matrix is:');\n",
""
   ]
   }
],
"metadata": {
		  "kernelspec": {
		   "display_name": "Scilab",
		   "language": "scilab",
		   "name": "scilab"
		  },
		  "language_info": {
		   "file_extension": ".sce",
		   "help_links": [
			{
			 "text": "MetaKernel Magics",
			 "url": "https://github.com/calysto/metakernel/blob/master/metakernel/magics/README.md"
			}
		   ],
		   "mimetype": "text/x-octave",
		   "name": "scilab",
		   "version": "0.7.1"
		  }
		 },
		 "nbformat": 4,
		 "nbformat_minor": 0
}
