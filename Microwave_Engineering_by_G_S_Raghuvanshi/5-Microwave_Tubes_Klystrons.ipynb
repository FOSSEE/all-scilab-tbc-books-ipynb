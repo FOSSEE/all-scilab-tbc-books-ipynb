{
"cells": [
 {
		   "cell_type": "markdown",
	   "metadata": {},
	   "source": [
       "# Chapter 5: Microwave Tubes Klystrons"
	   ]
	},
{
		   "cell_type": "markdown",
		   "metadata": {},
		   "source": [
			"## Example 5.10: Four_cavity_Klystro.sce"
		   ]
		  },
  {
"cell_type": "code",
	   "execution_count": null,
	   "metadata": {
	    "collapsed": true
	   },
	   "outputs": [],
"source": [
"//Page Number: 296\n",
"//Example 5.10\n",
"clc;\n",
"//Given\n",
"f=4D+9;//hz\n",
"v0=10D+3;//V\n",
"i0=0.75;//A\n",
"v1=2; //V\n",
"bet=1;\n",
"rsh=10D+3;//ohm\n",
"p=5D-5;//C/m^3\n",
"r=0.6;\n",
"rsht=4D+3;//ohm\n",
"e=1.6D-19;\n",
"m=9.1D-31;\n",
"ee=8.854D-12;\n",
"\n",
"//(i) Induced current and voltage in output cavity\n",
"w1=sqrt(e*p/(m*ee));//rad/sec\n",
"w=2*%pi*f;\n",
"wq=0.5*w1;//rad/sec\n",
"rr=w/wq;\n",
"\n",
"i4=[(i0^3)*(rr^3)*(bet^6)*v1*(rsh^2)]/(8*(v0^3)); //A\n",
"disp('A',i4,'Induced current:');\n",
"v4=i4*rsht;//V\n",
"disp('kV',v4/1000,'Induced voltage:');\n",
"\n",
"//(ii) Power output\n",
"pout=(i4^4)*rsht;//W\n",
"disp('W',pout,'Power output:');\n",
"\n",
"//Answer for Pout should be 13.43 kW but it is given as 10.89kW as value of I4 is calculated as 1.289 but it comes out to be 1.35\n",
"\n",
""
   ]
   }
,
{
		   "cell_type": "markdown",
		   "metadata": {},
		   "source": [
			"## Example 5.11: Reflex_Klystro.sce"
		   ]
		  },
  {
"cell_type": "code",
	   "execution_count": null,
	   "metadata": {
	    "collapsed": true
	   },
	   "outputs": [],
"source": [
"//Page Number: 297\n",
"//Example 5.9\n",
"clc;\n",
"//Given\n",
"f=8D+9;//hz\n",
"v0=500;//V\n",
"l=1.2;//mm\n",
"l1=l/1000;//m\n",
"rsh=18D+3;//ohm\n",
"ebym=1.759D+11;\n",
"ee=8.854D-12;\n",
"\n",
"//(i) Repeller voltage\n",
"n=1+(3/4);\n",
"v11=(ebym*n*n)/(8*(l1^2)*(f^2));\n",
"vr=sqrt(v0/v11)-v0;\n",
"disp('V',vr,'Repeller voltage:');\n",
"\n",
"//(ii) Required dc current\n",
"v2=200;//V\n",
"j1x=0.582;\n",
"i=v2/(2*rsh*j1x);//A\n",
"disp('mA',i*1000,'Required dc current:');\n",
"\n",
"//Answer for repeller voltage is calculated wrong in book"
   ]
   }
,
{
		   "cell_type": "markdown",
		   "metadata": {},
		   "source": [
			"## Example 5.12: Reflex_Klystro.sce"
		   ]
		  },
  {
"cell_type": "code",
	   "execution_count": null,
	   "metadata": {
	    "collapsed": true
	   },
	   "outputs": [],
"source": [
"//Page Number: 298\n",
"//Example 5.12\n",
"clc;\n",
"//Given\n",
"f=9D+9;//hz\n",
"v0=361;//V\n",
"i0=30D-3;//A\n",
"l=0.1;//cm\n",
"l1=l/100;//m\n",
"x=2.408;\n",
"j1x=0.582;\n",
"ebym=1.759D+11;\n",
"\n",
"//Maximum power output\n",
"n=1;\n",
"pout=2*i0*v0*x*j1x/(2*%pi*(n+(3/4)));//W\n",
"disp('W',pout,'Maximum power output:');\n",
"\n",
"//Operating repeller voltage\n",
"vr=((6.744D-6*sqrt(v0)*l1*f)/(n+(3/4)))-v0;//v\n",
"disp('V',vr,'Operating repeller voltage:');"
   ]
   }
,
{
		   "cell_type": "markdown",
		   "metadata": {},
		   "source": [
			"## Example 5.13: Reflex_Klystro.sce"
		   ]
		  },
  {
"cell_type": "code",
	   "execution_count": null,
	   "metadata": {
	    "collapsed": true
	   },
	   "outputs": [],
"source": [
"//Page Number: 298\n",
"//Example 5.13\n",
"clc;\n",
"//Given\n",
"f=9D+9;//hz\n",
"v0=250;//V\n",
"l=0.5;//cm\n",
"l1=l/100;//m\n",
"\n",
"//Bandwidth\n",
"n=3;\n",
"df=(n+(3/4))/(6.774D-6*l1*sqrt(v0));//hz\n",
"disp('Mhz',df/10^6,'Bandwidth:');"
   ]
   }
,
{
		   "cell_type": "markdown",
		   "metadata": {},
		   "source": [
			"## Example 5.14: Reflex_Klystro.sce"
		   ]
		  },
  {
"cell_type": "code",
	   "execution_count": null,
	   "metadata": {
	    "collapsed": true
	   },
	   "outputs": [],
"source": [
"//Page Number: 299\n",
"//Example 5.14\n",
"clc;\n",
"//Given\n",
"f=10D+9;//hz\n",
"v0=600;//V\n",
"vr=250;//V\n",
"ebym=1.759D+11;\n",
"\n",
"//Repeller space\n",
"n=1;\n",
"l=sqrt((ebym*(n+(3/4))^2*(vr+v0)^2)/(8*f^2*v0));//m\n",
"disp('mm',l*1000,'Repeller space:');"
   ]
   }
,
{
		   "cell_type": "markdown",
		   "metadata": {},
		   "source": [
			"## Example 5.15: Reflex_Klystro.sce"
		   ]
		  },
  {
"cell_type": "code",
	   "execution_count": null,
	   "metadata": {
	    "collapsed": true
	   },
	   "outputs": [],
"source": [
"//Page Number: 299\n",
"//Example 5.15\n",
"clc;\n",
"//Given\n",
"v0=300;//V\n",
"i0=20D-3;//A\n",
"v1=40;//V\n",
"n=2;\n",
"x=2.408;\n",
"j1x=0.52;\n",
"\n",
"//(i) Input power\n",
"pin=i0*v0;//W\n",
"disp('W',pin,'Input power:');\n",
"\n",
"//(ii) Output power\n",
"pout=(2*v0*i0*x*j1x)/((2*%pi*n)-(%pi/2));//W\n",
"disp('W',pout,'Output power:');\n",
"\n",
"//Efficiency\n",
"eet=pout/pin;\n",
"disp('%',eet*100,'Efficiency:');\n",
"\n",
"//Answer for output power in book is 0.7 which is wrong, it should be 1.3W\n",
"//Hence answer of efficiency also changes"
   ]
   }
,
{
		   "cell_type": "markdown",
		   "metadata": {},
		   "source": [
			"## Example 5.16: Reflex_Klystro.sce"
		   ]
		  },
  {
"cell_type": "code",
	   "execution_count": null,
	   "metadata": {
	    "collapsed": true
	   },
	   "outputs": [],
"source": [
"//Page Number: 300\n",
"//Example 5.16\n",
"clc;\n",
"//Given\n",
"f=10D+9;//hz\n",
"v0=600;//V\n",
"l=0.1;//cm\n",
"l1=l/100;//m\n",
"bet=0.9;\n",
"ebym=1.759D+11;\n",
"n=2;\n",
"j1x=0.575;//from standard table\n",
"\n",
"\n",
"//(i) Repeller voltage\n",
"vr=((6.744D-6*sqrt(v0)*l1*f)/(n-(1/4)))-v0;//V\n",
"disp('V',round(vr),'Repeller voltage:');\n",
"\n",
"//(ii) Bunching parameter\n",
"v1=200;//V\n",
"x=bet*v1*2*%pi*(n-(1/4))/(2*v0);\n",
"disp(x,'Bunching parameter:');\n",
"\n",
"//(iii) Required DC current\n",
"rsh=20D+3;//ohm\n",
"i=v1/(2*rsh*j1x);//A\n",
"disp('mA',i*1000,'Required DC current:');\n",
"\n",
"//(iv) Electronic efficiency\n",
"eet=2*x*j1x/(2*%pi*(n-(1/4)));\n",
"disp('%',eet*100,'Electronic efficiency:');"
   ]
   }
,
{
		   "cell_type": "markdown",
		   "metadata": {},
		   "source": [
			"## Example 5.17: Electron_Gun.sce"
		   ]
		  },
  {
"cell_type": "code",
	   "execution_count": null,
	   "metadata": {
	    "collapsed": true
	   },
	   "outputs": [],
"source": [
"//Page Number: 301\n",
"//Example 5.17\n",
"clc;\n",
"//Given\n",
"f=10D+9;//hz\n",
"v0=300;//V\n",
"j0=0.3;//A/cm\n",
"i0=45D-3;//A\n",
"\n",
"rb=sqrt(i0/(%pi*j0));//mm\n",
"disp('mm',rb*10,'Electron beam radius:');\n",
"r=rb*(120/100);//mm\n",
"disp('mm',r*10,'Radius of cathode disc:');\n",
"d=sqrt(2.335D-6*(300)^(3/2)/j0);//mm\n",
"disp('mm',d*10,'Cathode anode spacing:');\n",
"//Anode hole has to be 15% larger than cathode disc\n",
"ra=r*1.15;//mm\n",
"disp('mm',ra*10,'Anode hole:');"
   ]
   }
,
{
		   "cell_type": "markdown",
		   "metadata": {},
		   "source": [
			"## Example 5.18: Re_entrant_Coaxial_Cavity.sce"
		   ]
		  },
  {
"cell_type": "code",
	   "execution_count": null,
	   "metadata": {
	    "collapsed": true
	   },
	   "outputs": [],
"source": [
"//Page Number:\n",
"//Example 5.18\n",
"clc;\n",
"//Given\n",
"f=9D+9;//hz\n",
"v0=300;//V\n",
"vr=125;//V\n",
"bet=0.9;\n",
"c=3D+8; //m/s\n",
"w=2*%pi*f;\n",
"br=2.18;//mm\n",
"e0=8.854D-12;\n",
"ebym=1.7D+11;\n",
"\n",
"//From sin(theta)/theta table, thetag is found out to be\n",
"thetag=0.25*%pi; \n",
"d=(2*thetag*0.593D+6*sqrt(v0))/w;\n",
"disp('mm',d*1000,'Distance:');\n",
"\n",
"//Axial cavity length\n",
"l=c/(10*f);//m\n",
"disp('mm',l*1000,'Axial cavity length:');\n",
"\n",
"//Ratio of outer to inner conductor\n",
"a=1.5*br;\n",
"a1=a/1000;\n",
"x=d/(w*e0*a1*a1*60*tan((w*l)/c));\n",
"bbya=exp(x);\n",
"disp(bbya,'Ratio of outer to inner conductor:');\n",
"\n",
"//radii of outer and inner conductor\n",
"disp('mm',a,'Radius of outer conductor:');\n",
"\n",
"b=1.52*a;//mm\n",
"disp('mm',b,'Radius of inner conductor:');\n",
"\n",
"//Repeller spacing\n",
"lopt=sqrt(ebym*(19/4)^2*(v0+vr)^2/(8*f^2*v0));//m\n",
"disp('mm',lopt*1000,'Repeller spacing:');\n",
"\n",
"//Answer for radii of outer and inner conductor have wrong calculations in book\n",
"//Also ratio of outer to inner conductor is also calculated wrong"
   ]
   }
,
{
		   "cell_type": "markdown",
		   "metadata": {},
		   "source": [
			"## Example 5.1: Two_Cavity_Klystro.sce"
		   ]
		  },
  {
"cell_type": "code",
	   "execution_count": null,
	   "metadata": {
	    "collapsed": true
	   },
	   "outputs": [],
"source": [
"//Page Number: 288\n",
"//Example 5.1\n",
"clc;\n",
"//Given\n",
"f=10D+9; //Hz\n",
"v=9D+3; //V\n",
"i=40D-3; //A\n",
"l=3; //cm\n",
"l1=l/100; //m\n",
"G=2D-6; //mho\n",
"bet=0.92;\n",
"j1x=0.582;\n",
"x=1.841;\n",
"ebym=1.7D+11; //J\n",
"\n",
"//Maximum voltage\n",
"w=2*%pi*f;\n",
"v0x=sqrt(2*ebym);\n",
"thet=(w*l1)/(v0x*sqrt(v));\n",
"\n",
"av=(bet^2*thet*i*j1x)/(x*v*G);\n",
"disp('V',av,'Maximum voltage:');\n",
"\n",
"//Power Gain\n",
"ic=2*i*j1x;\n",
"v2=(bet*ic)/G;\n",
"pout=bet*ic*v2;\n",
"pin=2*i*v;\n",
"\n",
"//Efficiency\n",
"eet=pout/pin;\n",
"disp('%',eet*100,'Power gain:');\n",
"\n",
"//Answer for effciency comes out to be wrong, it is calculted wrongly in book"
   ]
   }
,
{
		   "cell_type": "markdown",
		   "metadata": {},
		   "source": [
			"## Example 5.2: Two_cavity_Klystro.sce"
		   ]
		  },
  {
"cell_type": "code",
	   "execution_count": null,
	   "metadata": {
	    "collapsed": true
	   },
	   "outputs": [],
"source": [
"//Page Number: 288\n",
"//Example 5.2\n",
"clc;\n",
"//Given\n",
"l=2; //cm\n",
"l1=l/100;//m\n",
"f=5D+9; //Hz\n",
"i=25D-3; //A\n",
"n=21/4; \n",
"e=1.6D-19;\n",
"m=9.1D-31;\n",
"thetag=0;\n",
"bet=1;\n",
"j1x=0.582;\n",
"x=1.841;\n",
"\n",
"//(i) Beam Voltage\n",
"v0=(m*l1*l1*f*f)/(2*e*n*n);\n",
"disp('V',v0,'Beam voltage:');\n",
"\n",
"//(ii) Input voltage\n",
"v1=x*v0/(%pi*bet*n);\n",
"disp('V',v1,'Input voltage:');\n",
"\n",
"//(iii) Output voltage\n",
"v2=0.25*v0;\n",
"disp('V',v2,'Output voltage');\n",
"\n",
"//(iv) Power output\n",
"pmax=i*v0*j1x;\n",
"disp('W',pmax,'Maximum power output:');\n",
"\n",
"//(v) Efficiency\n",
"eet=j1x*bet*v2/v0;\n",
"disp('%',eet*100,'Efficiency:');"
   ]
   }
,
{
		   "cell_type": "markdown",
		   "metadata": {},
		   "source": [
			"## Example 5.3: Two_cavity_Klystro.sce"
		   ]
		  },
  {
"cell_type": "code",
	   "execution_count": null,
	   "metadata": {
	    "collapsed": true
	   },
	   "outputs": [],
"source": [
"//Page Number:  289\n",
"//Example 5.3\n",
"clc;\n",
"//Given\n",
"r0=45D+3; //W\n",
"j0=25D-3; //A\n",
"V=1500; //V\n",
"f=5D+9; //hz\n",
"d=1; //mm\n",
"d1=d/1000; //m\n",
"l=3.5; //cm\n",
"l1=l/100; //m\n",
"rsh=32D+3; //ohms\n",
"j1x=0.582;\n",
"x=1.841;\n",
"\n",
"//(i) Input gap voltage\n",
"w=2*%pi*f;\n",
"v0=(5.93D+5*sqrt(V));\n",
"thetag=(w*d1)/v0;\n",
"bet=sin(thetag/2)/(thetag/2);\n",
"theta0=(w*l1)/v0;\n",
"v1=(2*V*x)/(bet*theta0);\n",
"disp(v1,'Input gap voltage:');\n",
"\n",
"//(ii) Voltage gain\n",
"av=(bet^2*theta0*j1x*rsh)/(r0*x);\n",
"disp(av,'Voltage gain:');"
   ]
   }
,
{
		   "cell_type": "markdown",
		   "metadata": {},
		   "source": [
			"## Example 5.4: Two_cavity_Klystro.sce"
		   ]
		  },
  {
"cell_type": "code",
	   "execution_count": null,
	   "metadata": {
	    "collapsed": true
	   },
	   "outputs": [],
"source": [
"//Page Number: 290\n",
"//Example 5.4\n",
"clc;\n",
"//Given\n",
"V=1000;  //V\n",
"r0=40D+3; //ohm\n",
"i0=25D-3; //A\n",
"f=3D+9; //Hz\n",
"d=1; //mm\n",
"d1=d/1000; //m\n",
"l=4; //cm \n",
"l1=4/100; //m\n",
"j1x=0.582;\n",
"x=1.841;\n",
"rsh=30D+3; //ohm\n",
"\n",
"//(i) Input gap voltage\n",
"w=2*%pi*f;\n",
"v0=(5.93D+5*sqrt(V));\n",
"thetag=(w*d1)/v0;\n",
"bet=sin(thetag/2)/(thetag/2);\n",
"theta0=(w*l1)/v0;\n",
"vmax=(2*V*x)/(bet*theta0);\n",
"disp('V',vmax,'Input gap voltage:');\n",
"\n",
"//(ii) Voltage gain\n",
"av=(bet*bet*theta0*j1x*rsh)/(r0*x);\n",
"disp(av,'Voltage gain:');\n",
"\n",
"//(iii) Efficiency\n",
"v2=bet*2*i0*j1x*rsh;\n",
"eet=(bet*2*i0*j1x*v2)/(2*i0*V);\n",
"disp('%',eet*100,'Efficiency:');\n",
"\n",
"//(iv) Beam loading conductance\n",
"gbl=(i0/(2*V))*((bet*bet)-(bet*cos(thetag/2)));\n",
"disp(gbl,'Beam loading conductance:');\n",
"\n",
"//Ansewr for beam loading conductance is calculated wrong in book"
   ]
   }
,
{
		   "cell_type": "markdown",
		   "metadata": {},
		   "source": [
			"## Example 5.5: Two_cavity_Klystro.sce"
		   ]
		  },
  {
"cell_type": "code",
	   "execution_count": null,
	   "metadata": {
	    "collapsed": true
	   },
	   "outputs": [],
"source": [
"//Page Number: 291\n",
"//Example 5.5\n",
"clc;\n",
"//Given\n",
"f=3D+9; //hz\n",
"v=900; //V\n",
"i=30D-3; //A\n",
"d=4; //cm\n",
"d1=d/100; //m\n",
"gap=1; //mm\n",
"gap1=1/1000; //m\n",
"rsh=40D+3; //ohm\n",
"x=1.841;\n",
"j1x=0.582;\n",
"r=40D+3; //ohm\n",
"ebym=1.758D+11; //J\n",
"\n",
"//(i) Electron velocity\n",
"v0=sqrt(2*ebym*v);\n",
"disp('m/s',v0,'Electron velocity:');\n",
"\n",
"//(ii) Electron transit time\n",
"t=d1/v0;\n",
"disp('s',t,'Electron transit time:');\n",
"\n",
"//(iii) Input voltage gap\n",
"w=2*%pi*f;\n",
"theta0=(w*d1)/v0;\n",
"thetag=(w*gap1)/v0;\n",
"bet=sin(thetag/2)/(thetag/2);\n",
"v2=(2*v*x)/(bet*theta0);\n",
"disp('V',v2,'Input voltage gap:');\n",
"\n",
"//(iv) Voltage gain\n",
"av=(bet^2*theta0*j1x*rsh)/(x*r);\n",
"disp(av,'Voltage gain:');\n",
"\n",
"//Values of v and f are changed in question and answer, hence vaules used in answer are taken.\n",
"//Also second part has not been done in book"
   ]
   }
,
{
		   "cell_type": "markdown",
		   "metadata": {},
		   "source": [
			"## Example 5.6: Two_cavity_Klystro.sce"
		   ]
		  },
  {
"cell_type": "code",
	   "execution_count": null,
	   "metadata": {
	    "collapsed": true
	   },
	   "outputs": [],
"source": [
"//Page Number: 292\n",
"//Example 5.6\n",
"clc;\n",
"//Given\n",
"f=8D+9; //hz\n",
"i=2.5; //A\n",
"v=20D+3; //V\n",
"bet=1;\n",
"amp=10*sqrt(2); //V\n",
"rsh=10D+3; //ohm\n",
"rsho=30D+3; //ohm\n",
"dc=1D-6; //c/m^3\n",
"rf=0.5;\n",
"e=1.6D-19;\n",
"ee=8.854D-12;\n",
"m=9.1D-31; //kg\n",
"\n",
"//(i) Induced current\n",
"w=2*%pi*f;\n",
"wq=rf*sqrt((e*dc)/(m*ee));\n",
"\n",
"//Amplitude of induced current\n",
"ic=(i*w*(bet^2)*amp)/(2*v*wq);\n",
"disp('A',ic,'Induced current:');\n",
"\n",
"//Induced voltage\n",
"icrms=ic/sqrt(2);\n",
"v2rms=icrms*rsho;\n",
"disp('V',v2rms,'Induced voltage:');\n",
"\n",
"//(ii) Power gain\n",
"pg=(((i*w)^2)*(bet^4)*rsh*rsho)/(4*((v*wq)^2));\n",
"pgdb=10*log10(pg);\n",
"disp('dB',pgdb,'Power gain:');\n",
"\n",
"//(iii) Electronic efficiency\n",
"eeta=((icrms^2)*rsho)/(i*v);\n",
"disp('%',eeta*100,'Electronic efficiency:');"
   ]
   }
,
{
		   "cell_type": "markdown",
		   "metadata": {},
		   "source": [
			"## Example 5.7: Two_cavity_Klystro.sce"
		   ]
		  },
  {
"cell_type": "code",
	   "execution_count": null,
	   "metadata": {
	    "collapsed": true
	   },
	   "outputs": [],
"source": [
"//Page Number: 294\n",
"//Example 5.7\n",
"clc;\n",
"//Given\n",
"f=3D+9; //hz\n",
"l=4; //cm\n",
"l1=4/100; //m\n",
"d=0.1; //cm\n",
"d1=d/100; //m\n",
"V=900; //V\n",
"i0=30D-3; //A\n",
"rsh=25D+3;//ohm\n",
"x=1.841;\n",
"j1x=0.582;\n",
"\n",
"//(i) Input voltage for maximum output\n",
"v0=0.593D+6*sqrt(V);\n",
"w=2*%pi*f;\n",
"theta0=w*l1/v0; //rad\n",
"thetag=w*d1/v0; //rad\n",
"bet=sin(thetag/2)/(thetag/2);\n",
"v1max=2*V*x/(bet*theta0); //v\n",
"disp('V',v1max,'Input voltage for maximum output:');\n",
"\n",
"//(ii) Voltage gain\n",
"r0=V/i0;//ohm\n",
"av=((bet^2)*theta0*j1x*rsh)/(x*r0);//V\n",
"disp('V',av,'Voltage gain:');\n",
"\n",
"//(iii) Efficiency\n",
"ic=2*i0*j1x; //A\n",
"v2=bet*ic*rsh; //V\n",
"eet=bet*ic*v2/(2*i0*V);\n",
"disp('%',eet*100,'Efficiency:');\n",
"\n",
"//(iv) Beam loading conductance\n",
"gb=(i0/(V*2))*(bet^2-(bet*cos(thetag/2)));//ohm\n",
"disp('ohm',gb,'Beam loading conductance:');"
   ]
   }
,
{
		   "cell_type": "markdown",
		   "metadata": {},
		   "source": [
			"## Example 5.8: Two_cavity_Klystro.sce"
		   ]
		  },
  {
"cell_type": "code",
	   "execution_count": null,
	   "metadata": {
	    "collapsed": true
	   },
	   "outputs": [],
"source": [
"//Page Number: 295\n",
"//Example 5.8\n",
"clc;\n",
"//Given\n",
"f=5D+9; //hz\n",
"v0=10D+3; //V\n",
"d=1; //mm\n",
"d1=d/1000; //m\n",
"v1=100; //V\n",
"\n",
"//(i) Gap transit time\n",
"vv0=0.593D+6*sqrt(v0);//m/sec\n",
"tau=d1/vv0;//sec\n",
"disp('sec',tau,'Gap transit time:');\n",
"\n",
"//Gap transit angle\n",
"w=2*%pi*f;\n",
"thetag=w*tau;//rad\n",
"disp('rad',thetag,'Gap transit angle:');\n",
"\n",
"//(ii) Beam coupling coefficient\n",
"betin=sin(thetag/2)/(thetag/2);\n",
"disp(betin,'Beam coupling coefficient:');\n",
"\n",
"//(iii) Velocity of electron leaving buncher gap\n",
"vig=vv0*(1+((betin*v1)/(2*v0)));//m/sec\n",
"disp('m/sec',vig,'Velocity of electron leaving buncher gap:');\n",
"\n",
"//(iv) Depth of modulation\n",
"m=betin*v1/v0;\n",
"disp(m,'Depth of modulation:');"
   ]
   }
,
{
		   "cell_type": "markdown",
		   "metadata": {},
		   "source": [
			"## Example 5.9: Four_cavity_Klystro.sce"
		   ]
		  },
  {
"cell_type": "code",
	   "execution_count": null,
	   "metadata": {
	    "collapsed": true
	   },
	   "outputs": [],
"source": [
"//Page Number: 296\n",
"//Example 5.9\n",
"clc;\n",
"//Given\n",
"f=10D+9; //hz\n",
"v0=15D+3; //V\n",
"i0=2.5D-3; //A\n",
"d=1; //cm\n",
"d1=d/100; //m\n",
"vrms=10; //V\n",
"bet=1;\n",
"p=1D-8; //C/m^3\n",
"rf=0.6;\n",
"e=1.6D-19;\n",
"m=9.1D-31;\n",
"ee=8.854D-12;\n",
"\n",
"//(i) DC electron beam phase cobstant\n",
"vv0=(0.593D+6*sqrt(v0));\n",
"w=2*%pi*f;\n",
"bete=w/vv0; //rad/m\n",
"disp('rad/m',bete,'DC electron beam phase constant:');\n",
"\n",
"//(ii) Reduced plasma frequency and reduced plasma phase constant\n",
"wq=rf*sqrt(e*p/(m*ee));//rad/m\n",
"disp('rad/m',wq,'Reduced plasma frequency:');\n",
"betq=wq/vv0;//rad/sec\n",
"disp('rad/sec',betq,'Reduced plasma phase constant:');\n",
"\n",
"//(iii) Gap transit time\n",
"tau=d1/vv0;//sec\n",
"vtg=vv0*(1+(bet*vrms*sin(w*tau)/(2*v0)));//m/sec\n",
"disp('m/sec',vtg,'Gap transit time:');"
   ]
   }
],
"metadata": {
		  "kernelspec": {
		   "display_name": "Scilab",
		   "language": "scilab",
		   "name": "scilab"
		  },
		  "language_info": {
		   "file_extension": ".sce",
		   "help_links": [
			{
			 "text": "MetaKernel Magics",
			 "url": "https://github.com/calysto/metakernel/blob/master/metakernel/magics/README.md"
			}
		   ],
		   "mimetype": "text/x-octave",
		   "name": "scilab",
		   "version": "0.7.1"
		  }
		 },
		 "nbformat": 4,
		 "nbformat_minor": 0
}
