{
"cells": [
 {
		   "cell_type": "markdown",
	   "metadata": {},
	   "source": [
       "# Chapter 6: Microwave Travelling Wave Tubes O type"
	   ]
	},
{
		   "cell_type": "markdown",
		   "metadata": {},
		   "source": [
			"## Example 6.10: Low_Power_TWT.sce"
		   ]
		  },
  {
"cell_type": "code",
	   "execution_count": null,
	   "metadata": {
	    "collapsed": true
	   },
	   "outputs": [],
"source": [
"//Page Number: 335\n",
"//Example 6.10\n",
"clc;\n",
"//Given\n",
"Pout=250; //W\n",
"n=0.15;\n",
"V0=7.5D+3; //V\n",
"f=6.15D+9; //Hz\n",
"c=3D+8; //m/s\n",
"\n",
"//(i) Input Power\n",
"Pi=Pout/n;\n",
"disp('W',Pi,'Input Power:');\n",
"\n",
"//(ii) Beam current\n",
"I0=Pi/V0;\n",
"disp('A',I0,'Beam current:');\n",
"\n",
"//(iii) Beam velocity\n",
"vb=0.593D+6*sqrt(V0);\n",
"disp('m/s',vb,'Beam velocity:');\n",
"\n",
"//(iv) Radius of helix\n",
"a=(2*vb)/(2*%pi*f);\n",
"disp('m',a,'Radius of helix:');\n",
"\n",
"//(v) Electron beam radius\n",
"r=(3*a)/4;\n",
"disp('m',r,'Electron beam radius:');\n",
"\n",
"//(vi) Pitch of helix\n",
"p=(2*%pi*a*vb)/c;\n",
"disp('m',p,'Pitch of helix:');\n",
"\n",
"//(vii) Current density\n",
"J0=I0/(%pi*r*r);\n",
"disp('kA/msqr',J0/1000,'Current density:');\n",
"\n",
"//(viii) Magnetic field for beam confinement\n",
"B=(4*8.3D-4*sqrt(I0/(r*r*sqrt(V0))));\n",
"disp('mT',round(B*1000),'Magnetic field for beam confinement:');"
   ]
   }
,
{
		   "cell_type": "markdown",
		   "metadata": {},
		   "source": [
			"## Example 6.11: TWT.sce"
		   ]
		  },
  {
"cell_type": "code",
	   "execution_count": null,
	   "metadata": {
	    "collapsed": true
	   },
	   "outputs": [],
"source": [
"//Page Number: 336\n",
"//Example 6.11\n",
"clc;\n",
"//Given\n",
"I0=30D-3; //A\n",
"V0=3D+3; //V\n",
"Z0=10; //ohm\n",
"l=0.1624; //m\n",
"f=10D+9; //Hz\n",
"C=((I0*Z0)/(4*V0))^(1/3);\n",
"N=(l*f)/(0.593D+6*sqrt(V0));\n",
"\n",
"//Gain\n",
"Ap=-9.54+(47.3*C*N);\n",
"disp('dB',Ap,'Gain:');\n",
"\n",
"ve=0.593D+6*sqrt(V0);\n",
"be=(2*%pi*f)/ve;\n",
"\n",
"//Four propogation constants\n",
"gam1=((-sqrt(3)*be*C)/2)+(%i*be*(2+C))/2;\n",
"gam2=((sqrt(3)*be*C)/2)+(%i*be*(2+C))/2;\n",
"gam3=%i*be*(1-C);\n",
"gam4=-%i*be*(1-((C*C*C)/4));\n",
"\n",
"disp(gam4,gam3,gam2,gam1,'Four propogation constants:');\n",
"\n",
"//Calculations for propogation constants are wrong for gam 3 and 4 hence answers dont match"
   ]
   }
,
{
		   "cell_type": "markdown",
		   "metadata": {},
		   "source": [
			"## Example 6.12: TWT.sce"
		   ]
		  },
  {
"cell_type": "code",
	   "execution_count": null,
	   "metadata": {
	    "collapsed": true
	   },
	   "outputs": [],
"source": [
"//Page Number: 337\n",
"//Example 6.12\n",
"clc;\n",
"//Given\n",
"I0=35D-3; //A\n",
"V0=4D+3; //V\n",
"Z0=20; //ohm\n",
"f=10D+9; //Hz\n",
"\n",
"//(i) Gain parameter\n",
"C=((I0*Z0)/(4*V0))^(1/3);\n",
"disp(C,'Gain parameter:');\n",
"\n",
"ve=0.593D+6*sqrt(V0);\n",
"be=(2*%pi*f)/ve;\n",
"\n",
"//Four propogation constants\n",
"gam1=((-sqrt(3)*be*C)/2)+(%i*be*(2+C))/2;\n",
"gam2=((sqrt(3)*be*C)/2)+(%i*be*(2+C))/2;\n",
"gam3=%i*be*(1-C);\n",
"gam4=-%i*be*(1-((C*C*C)/4));\n",
"\n",
"disp(gam4,gam3,gam2,gam1,'Four propogation constants:');\n",
"\n",
"//Calculations for propogation constants are wrong hence answers dont match"
   ]
   }
,
{
		   "cell_type": "markdown",
		   "metadata": {},
		   "source": [
			"## Example 6.1: TWT.sce"
		   ]
		  },
  {
"cell_type": "code",
	   "execution_count": null,
	   "metadata": {
	    "collapsed": true
	   },
	   "outputs": [],
"source": [
"//Page Number: 330\n",
"//Example 6.1\n",
"clc;\n",
"//Given\n",
"clc;\n",
"//Given\n",
"I0=30D-3; //A\n",
"V0=3D+3; //V\n",
"Z0=10; //ohm\n",
"l=0.1624; //m\n",
"f=10D+9; //Hz\n",
"\n",
"//(i) Gain parameter\n",
"C=((I0*Z0)/(4*V0))^(1/3);\n",
"disp(C,'Gain parameter:');\n",
"\n",
"N=(l*f)/(0.593D+6*sqrt(V0));\n",
"\n",
"//(ii) Power Gain\n",
"Ap=-9.54+(47.3*C*N);\n",
"disp('dB',Ap,'Power gain:');\n",
"\n",
"ve=0.593D+6*sqrt(V0);\n",
"be=(2*%pi*f)/ve;\n",
"\n",
"//Four propogation constants\n",
"gam1=((-sqrt(3)*be*C)/2)+(%i*be*(2+C))/2;\n",
"gam2=((sqrt(3)*be*C)/2)+(%i*be*(2+C))/2;\n",
"gam3=%i*be*(1-C);\n",
"gam4=-%i*be*(1-((C*C*C)/4));\n",
"\n",
"disp(gam4,gam3,gam2,gam1,'Four propogation constants:');\n",
"\n",
"//Calculations for propogation constants are wrong in book for gam 3 and 4, hence answers dont match"
   ]
   }
,
{
		   "cell_type": "markdown",
		   "metadata": {},
		   "source": [
			"## Example 6.2: Helix_TWT.sce"
		   ]
		  },
  {
"cell_type": "code",
	   "execution_count": null,
	   "metadata": {
	    "collapsed": true
	   },
	   "outputs": [],
"source": [
"//Page Number: 332\n",
"//Example 6.2\n",
"clc;\n",
"//Given\n",
"I0=20D-3; //A\n",
"V0=4D+3; //V\n",
"Z0=100; //ohm\n",
"N=30;\n",
"\n",
"C=((I0*Z0)/(4*V0))^(1/3);\n",
"//Gain\n",
"Ap=-9.54+(47.3*C*N);\n",
"disp('dB',Ap,'Gain:');"
   ]
   }
,
{
		   "cell_type": "markdown",
		   "metadata": {},
		   "source": [
			"## Example 6.3: Helical_TWT.sce"
		   ]
		  },
  {
"cell_type": "code",
	   "execution_count": null,
	   "metadata": {
	    "collapsed": true
	   },
	   "outputs": [],
"source": [
"//Page Number: 332\n",
"//Example 6.3\n",
"clc;\n",
"//Given\n",
"c=3D+8; //m/s\n",
"d=2D-3; //m\n",
"p=50D+2; //turns per m\n",
"e=1.6D-19; //J\n",
"m=9.1D-31;\n",
"\n",
"// Axial phase velocity\n",
"vp=c/(%pi*p*d);\n",
"disp('m/s',vp,'Axial phase velocity:');\n",
"\n",
"//Anode voltage\n",
"V0=(m*vp*vp)/(2*e);\n",
"disp('V',V0,'Anode voltage:');"
   ]
   }
,
{
		   "cell_type": "markdown",
		   "metadata": {},
		   "source": [
			"## Example 6.4: O_type_TWT.sce"
		   ]
		  },
  {
"cell_type": "code",
	   "execution_count": null,
	   "metadata": {
	    "collapsed": true
	   },
	   "outputs": [],
"source": [
"//Page Number: 332\n",
"//Example 6.4\n",
"clc;\n",
"//Given\n",
"a=(4.4*%pi)/180; //radians\n",
"c=3D+8 //m/s\n",
"f=8D+9; //Hz\n",
"al=2; //Np/m\n",
"\n",
"//Phase velocity\n",
"vp=c*sin(a);\n",
"\n",
"//Propogation constant\n",
"be=(2*%pi*f)/vp;\n",
"\n",
"gam=al+(%i*be);\n",
"disp(gam,'Propogation constant:');"
   ]
   }
,
{
		   "cell_type": "markdown",
		   "metadata": {},
		   "source": [
			"## Example 6.5: Cavity_coupled.sce"
		   ]
		  },
  {
"cell_type": "code",
	   "execution_count": null,
	   "metadata": {
	    "collapsed": true
	   },
	   "outputs": [],
"source": [
"//Page Number: 333\n",
"//Example 6.5\n",
"clc;\n",
"//Given\n",
"Vc=11D+3; //V\n",
"Ir=0.85; //A\n",
"V0=31D+3; //V\n",
"Pout=50D+3; //W\n",
"I=7; //A\n",
"\n",
"//Electronic efficiency\n",
"ne=Pout/(V0*I);\n",
"disp('%',ne*100,'Electronic efficiency:');\n",
"\n",
"//Overall efficiency\n",
"no=Pout/(Vc*(I-Ir));\n",
"disp('%',no*100,'Overall efficiency:');\n",
"\n",
"//Answer for elecytronic efficiency should be 23.04% but it is given as 36.4 in book"
   ]
   }
,
{
		   "cell_type": "markdown",
		   "metadata": {},
		   "source": [
			"## Example 6.6: O_Type_Backward_Wave_amplifier.sce"
		   ]
		  },
  {
"cell_type": "code",
	   "execution_count": null,
	   "metadata": {
	    "collapsed": true
	   },
	   "outputs": [],
"source": [
"//Page Number: 333\n",
"//Example 6.6\n",
"clc;\n",
"//Given\n",
"I0=0.95; //A\n",
"V0=7D+3; //V\n",
"Z0=20; //ohm\n",
"N=20;\n",
"\n",
"C=((I0*Z0)/(4*V0))^(1/3);\n",
"//Gain\n",
"Ap=-9.54+(47.3*C*N);\n",
"disp('dB',Ap,'Gain:');"
   ]
   }
,
{
		   "cell_type": "markdown",
		   "metadata": {},
		   "source": [
			"## Example 6.7: Multicavity_TWT.sce"
		   ]
		  },
  {
"cell_type": "code",
	   "execution_count": null,
	   "metadata": {
	    "collapsed": true
	   },
	   "outputs": [],
"source": [
"//Page Number: 334\n",
"//Example 6.7\n",
"clc;\n",
"//Given\n",
"Vc=12D+3; //V\n",
"V0=30D+3; //V\n",
"Pout=60D+3; //W\n",
"I=7.5; //A\n",
"\n",
"//Electronic efficiency\n",
"ne=Pout/(V0*I);\n",
"disp('%',ne*100,'Electronic efficiency:');\n",
"\n",
"//Overall efficiency\n",
"no=Pout/(Vc*I);\n",
"disp('%',no*100,'Overall efficiency:');"
   ]
   }
,
{
		   "cell_type": "markdown",
		   "metadata": {},
		   "source": [
			"## Example 6.8: Gridded_TWT.sce"
		   ]
		  },
  {
"cell_type": "code",
	   "execution_count": null,
	   "metadata": {
	    "collapsed": true
	   },
	   "outputs": [],
"source": [
"//Page Number: 334\n",
"//Example 6.8\n",
"clc;\n",
"//Given\n",
"Vc=20D+3; //V\n",
"V0=32D+3; //V\n",
"Pout=75D+3; //W\n",
"I=7; //A\n",
"\n",
"//Electronic efficiency\n",
"ne=Pout/(V0*I);\n",
"disp('%',ne*100,'Electronic efficiency:');\n",
"\n",
"//Overall efficiency\n",
"no=Pout/(Vc*I);\n",
"disp('%',no*100,'Overall efficiency:');"
   ]
   }
,
{
		   "cell_type": "markdown",
		   "metadata": {},
		   "source": [
			"## Example 6.9: Helix_TWT.sce"
		   ]
		  },
  {
"cell_type": "code",
	   "execution_count": null,
	   "metadata": {
	    "collapsed": true
	   },
	   "outputs": [],
"source": [
"//Page Number: 335\n",
"//Example 6.9\n",
"clc;\n",
"//Given\n",
"I0=500D-3; //A\n",
"V0=10D+3; //V\n",
"Z0=25; //ohm\n",
"l=.20; //m\n",
"f=5.93D+9; //Hz\n",
"\n",
"//Gain parameter\n",
"C=((I0*Z0)/(4*V0))^(1/3);\n",
"disp(C,'Gain parameter:');\n",
"\n",
"N=(l*f)/(0.593D+6*sqrt(V0));\n",
"//Gain\n",
"Ap=-9.54+(47.3*C*N);\n",
"disp('dB',Ap,'Gain of TWT:');"
   ]
   }
],
"metadata": {
		  "kernelspec": {
		   "display_name": "Scilab",
		   "language": "scilab",
		   "name": "scilab"
		  },
		  "language_info": {
		   "file_extension": ".sce",
		   "help_links": [
			{
			 "text": "MetaKernel Magics",
			 "url": "https://github.com/calysto/metakernel/blob/master/metakernel/magics/README.md"
			}
		   ],
		   "mimetype": "text/x-octave",
		   "name": "scilab",
		   "version": "0.7.1"
		  }
		 },
		 "nbformat": 4,
		 "nbformat_minor": 0
}
