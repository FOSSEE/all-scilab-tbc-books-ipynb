{
"cells": [
 {
		   "cell_type": "markdown",
	   "metadata": {},
	   "source": [
       "# Chapter 10: Striplines and Microstrip Lines"
	   ]
	},
{
		   "cell_type": "markdown",
		   "metadata": {},
		   "source": [
			"## Example 10.10: Broadside_stripline.sce"
		   ]
		  },
  {
"cell_type": "code",
	   "execution_count": null,
	   "metadata": {
	    "collapsed": true
	   },
	   "outputs": [],
"source": [
"//Page Number: 560\n",
"//Example 10.10\n",
"clc;\n",
"//Given\n",
"W=6; //m\n",
"s=2.2; //m\n",
"b=4.8; //m\n",
"Er=2.2;\n",
"\n",
"//Even and odd mode impedance\n",
"Z0e=((120*%pi)*(b-s))/(2*sqrt(Er)*W);\n",
"disp('ohm',Z0e,'Even mode impedance:');\n",
"\n",
"\n",
"Z0o=(Z0e*s)/b;\n",
"disp('ohm',Z0o,'Odd mode impedance:');\n",
"\n",
"//Mid band coupling\n",
"x=(Z0e-Z0o)/(Z0e+Z0o);\n",
"C=-20*log10(x);\n",
"disp('db',C,'Mid band coupling:');\n",
"\n",
"//Answer in book for C is given as 54.2 but it should be 8.60"
   ]
   }
,
{
		   "cell_type": "markdown",
		   "metadata": {},
		   "source": [
			"## Example 10.11: Paralle_stripline.sce"
		   ]
		  },
  {
"cell_type": "code",
	   "execution_count": null,
	   "metadata": {
	    "collapsed": true
	   },
	   "outputs": [],
"source": [
"//Page Number: 562\n",
"//Example 10.11\n",
"clc;\n",
"//Given\n",
"Er=6;\n",
"d=3D-3; //m\n",
"Z0=50; //ohm\n",
"E0=8.854D-12; //F/m\n",
"Mu0=4*%pi*10D-7; //H/m\n",
"\n",
"//(i) W \n",
"W=(377*d)/(sqrt(Er)*Z0);\n",
"disp('mm',W*1000,'Required Width:');\n",
"\n",
"//(ii)Stripline capacitance\n",
"C=(E0*Er*W)/d;\n",
"disp('pF/m',C*10^12,'Stripline capacitance:');\n",
"\n",
"//(iii)Stripline inductance\n",
"L=(Mu0*d)/W;\n",
"disp('muH/m',L*10^6,'Stripline inductance:');\n",
"\n",
"//(iv)Phase velocity\n",
"c=3D+8;\n",
"vp=c/sqrt(Er);\n",
"disp('m/s',vp,'Phase velocity');"
   ]
   }
,
{
		   "cell_type": "markdown",
		   "metadata": {},
		   "source": [
			"## Example 10.12: Shielded_stripline.sce"
		   ]
		  },
  {
"cell_type": "code",
	   "execution_count": null,
	   "metadata": {
	    "collapsed": true
	   },
	   "outputs": [],
"source": [
"//Page Number: 562\n",
"//Example 10.12\n",
"clc;\n",
"//Given\n",
"Er=2.56;\n",
"w=25; //mils\n",
"t=14; //mils\n",
"d=70; //mils\n",
"E0=8.854D-12; //F/m\n",
"\n",
"//(i) K factor\n",
"K=1/(1-(t/d));\n",
"disp(K,'K factor:');\n",
"\n",
"//(ii) Fringe capacitance\n",
"C=[(E0*Er)*[2*K*log(K+1)-(K-1)*log(K^2-1)]]/%pi;\n",
"disp('pF/m',C*10^12,'Fringe capacitance:');\n",
"\n",
"//(iii) Charecteristic Impedance\n",
"X=1/[((w*K)/d)+(C/(E0*Er))];\n",
"Z0=(94.15*X)/sqrt(Er);\n",
"disp('ohm',Z0,'Charecteristic Impedance:');\n",
"\n",
"\n",
"//Answer in book for Z0 is given as 50.29 but it should be 51.7\n",
""
   ]
   }
,
{
		   "cell_type": "markdown",
		   "metadata": {},
		   "source": [
			"## Example 10.13: Lossless_stripline.sce"
		   ]
		  },
  {
"cell_type": "code",
	   "execution_count": null,
	   "metadata": {
	    "collapsed": true
	   },
	   "outputs": [],
"source": [
"//Page Number: 563\n",
"//Example 10.13\n",
"clc;\n",
"//Given\n",
"Z0=50; //ohm\n",
"//Sincr ratio of power is 2:3\n",
"x1=5/2;\n",
"y1=5/3;\n",
"//Output Impedance\n",
"Z1=x1*Z0;\n",
"Z2=y1*Z0;\n",
"disp('ohm',Z1,'Output Impedance 1:')\n",
"disp('ohm',Z2,'Output Impedance 2:')\n",
"\n",
"//Input Impedance\n",
"Zin=[((Z2*2*Z2)/3)/((Z2+(2*Z2)/3))];\n",
"\n",
"//Looking into Z1, Z2 is || to Z0\n",
"A1=(Z2*Z0)/(Z2+Z0);\n",
"\n",
"//Looking into Z, Z2 is || to Z0\n",
"A2=(Z1*Z0)/(Z1+Z0);\n",
"\n",
"//Reflection Coeffcients\n",
"R1=(A1-Z1)/(A1+Z1);\n",
"R2=(A2-Z2)/(A2+Z2);\n",
"\n",
"disp(R2,R1,'Reflection Coeffcients:');\n",
""
   ]
   }
,
{
		   "cell_type": "markdown",
		   "metadata": {},
		   "source": [
			"## Example 10.1: Copper_stripline.sce"
		   ]
		  },
  {
"cell_type": "code",
	   "execution_count": null,
	   "metadata": {
	    "collapsed": true
	   },
	   "outputs": [],
"source": [
"//Page Number: 554\n",
"//Example 10.1\n",
"clc;\n",
"//Given,\n",
"\n",
"z0=50; //ohm\n",
"t=0.001; //mm\n",
"b=0.32; //cm\n",
"er=2.20; \n",
"tandel= 0.0005;\n",
"rs=0.026; //ohm\n",
"f=10D+9; //Hz\n",
"c=3D+8;//m/sec\n",
"\n",
"p=sqrt(er)*z0;\n",
"//As p<120\n",
"w=b*[((30*%pi)/p)-0.441];\n",
"disp('cm',w,'Width');\n",
"\n",
"//Attenuation\n",
"k={(2*%pi*f*sqrt(er))/c};\n",
"ad=(k*tandel)/2;\n",
"\n",
"//and\n",
"A=1+{(2*w)/(b-t)}+[{(b+t)/((b-t)*%pi)}*log(((2*b)-t)/t)];\n",
"//Hence \n",
"ac=(2.7D-3*rs*er*z0*A)/{30*%pi*(b-t)*1D-2};\n",
"//Total attenution\n",
"a=ad+ac;\n",
"\n",
"//Total attenution in db\n",
"x=exp(a);\n",
"alp=20*log10(x); //db/m\n",
"\n",
"//Total attenution in db/lambda:\n",
"lam=c/(sqrt(er)*f);\n",
"lamm=lam*1D+2;\n",
"alph=alp/lamm;\n",
"disp('db/lambda',alph,'Total attenution in db/lambda:');\n",
"\n",
"\n",
"//Answer in book for alph is given as 0.856 but it should be 0.0856 as value of f is taken as 10D+10 but it should be 10D+9\n",
"\n",
"\n",
"\n",
"\n",
"\n",
""
   ]
   }
,
{
		   "cell_type": "markdown",
		   "metadata": {},
		   "source": [
			"## Example 10.2: Microstrip_line.sce"
		   ]
		  },
  {
"cell_type": "code",
	   "execution_count": null,
	   "metadata": {
	    "collapsed": true
	   },
	   "outputs": [],
"source": [
"//Page Number: 555\n",
"//Example 10.2\n",
"clc;\n",
"//Given,\n",
"er=9.7;\n",
"h=0.25; //mm\n",
"w=0.25; //mm\n",
"f=5D+9; //Hz\n",
"c=3D+8; //m/s\n",
"\n",
"//(i) Dielectric constant\n",
"dc=((er+1)/2)+(((er-1)/2)*(1/sqrt(1+12*h/w)));\n",
"disp(dc,'Dielectric constant:');\n",
"\n",
"//(ii) Phase constant\n",
"lam0=c/f;\n",
"pc=sqrt(dc)*(2*%pi/lam0);\n",
"disp('rad/m',pc/100,'Phase constant:');\n",
"\n",
"//(iii) Microstrip wavelength\n",
"lams=lam0/sqrt(dc);\n",
"disp('cm',lams*100,'Microstrip wavelength:');\n",
"\n",
"//(iv) Capacitance per unit length\n",
"e0=8.854D-12;\n",
"cap=(2*%pi*e0)/log((8*h/w)-(w/(4*h)));\n",
"disp('F/cm',cap,'Capacitance per unit length:');\n",
"\n",
"//(v) Characterstic Impedance\n",
"ci=(60/sqrt(dc))*log((8*h/w)+(w/(4*h)));\n",
"disp('ohm',ci,'Characterstic impedance:');\n",
""
   ]
   }
,
{
		   "cell_type": "markdown",
		   "metadata": {},
		   "source": [
			"## Example 10.3: Microstrip.sce"
		   ]
		  },
  {
"cell_type": "code",
	   "execution_count": null,
	   "metadata": {
	    "collapsed": true
	   },
	   "outputs": [],
"source": [
"//Page Number: 556\n",
"//Example 10.3\n",
"clc;\n",
"//Given,\n",
"er=5.23;\n",
"w=10; //mils\n",
"t=2.8; //mils\n",
"h=7; //mils\n",
"\n",
"dc=((er+1)/2)+(((er-1)/2)*(1/sqrt(1+12*h/w)));\n",
"disp(dc,'Dielectric constant:');\n",
"\n",
"//As w/h>1\n",
"ci=(120*%pi)/(sqrt(dc)*((w/h)+1.393+0.667*log((w/h)+1.444)));\n",
"disp('ohm',ci,'Characterstic impedance:');"
   ]
   }
,
{
		   "cell_type": "markdown",
		   "metadata": {},
		   "source": [
			"## Example 10.4: Stripline.sce"
		   ]
		  },
  {
"cell_type": "code",
	   "execution_count": null,
	   "metadata": {
	    "collapsed": true
	   },
	   "outputs": [],
"source": [
"//Page Number: 556\n",
"//Example 10.4\n",
"clc;\n",
"//Given,\n",
"\n",
"q=2.5;\n",
"dh=1.58;\n",
"er=9;\n",
"f=10;\n",
"c=3D+8;\n",
"\n",
"erff=((er+1)/2)+(((er-1)/2)*((1+(12/q))^(-1/2)));\n",
"vp=(c/sqrt(erff))*erff;\n",
"fe1=c/(sqrt(vp)*2*dh*q);\n",
"if f<fe1 then\n",
"    disp('Strip supports TEM mode only');\n",
"else\n",
"    disp('Strip does not support TEM mode only');\n",
"end\n",
"\n",
""
   ]
   }
,
{
		   "cell_type": "markdown",
		   "metadata": {},
		   "source": [
			"## Example 10.5: Microstrip_line.sce"
		   ]
		  },
  {
"cell_type": "code",
	   "execution_count": null,
	   "metadata": {
	    "collapsed": true
	   },
	   "outputs": [],
"source": [
"//Page Number: 557\n",
"//Example 10.5\n",
"clc;\n",
"//Given,\n",
"\n",
"er=9.7;\n",
"h=0.5; //mm\n",
"w=0.5; //mm\n",
"lt=2D-4; \n",
"t=0.02; //mm\n",
"f=5D+9; //Hz\n",
"fg=5; //HZ\n",
"c=3D+8;\n",
"rs=8.22D-3*sqrt(fg);\n",
"\n",
"//(i) Dielectric constant\n",
"dc=((er+1)/2)+(((er-1)/2)*(1/sqrt(1+12*h/w)));\n",
"disp(dc,'Dielectric constant:');\n",
"\n",
"//(ii) Characterstic Impedance\n",
"ci=(60/sqrt(dc))*log((8*h/w)+(w/(4*h)));\n",
"disp('ohm',ci,'Characterstic impedance:');\n",
"\n",
"//(iii) Dielectric attenuation\n",
"lam0=c/f;\n",
"alphd=(%pi/lam0)*(er/sqrt(dc))*((dc-1)/(er-1))*lt;\n",
"disp('Np/m',alphd,'Dielectric attenuation:');\n",
"\n",
"//Conductor attenuation\n",
"r1=[0.94+(0.132*(w/h))-(0.0062*((w/h)^2))]*[(1/%pi)+(1/(%pi^2))*log((4*%pi*w)/t)]*(rs/(w*1D-3));\n",
"r1m=r1*1D-2;\n",
"r2=(w/h)/[((w/h)+5.8+(0.03*(h/w)))]*(rs/(w*1D-3));\n",
"r2m=r2*1D-2;\n",
"alphc=(r1+r2)/(2*ci);\n",
"disp('Np/m',alphc,'Conductor attenuation:');\n",
"\n",
"//(iv) Total attenuation\n",
"A=alphc+alphd;\n",
"Adb=A*8.686*1D-2;\n",
"disp('db/cm',Adb,'Total attenuation:');"
   ]
   }
,
{
		   "cell_type": "markdown",
		   "metadata": {},
		   "source": [
			"## Example 10.6: Microstrip_line.sce"
		   ]
		  },
  {
"cell_type": "code",
	   "execution_count": null,
	   "metadata": {
	    "collapsed": true
	   },
	   "outputs": [],
"source": [
"//Page Number: 558\n",
"//Example 10.6\n",
"clc;\n",
"//Given\n",
"\n",
"sig=5.8D+7;\n",
"f=10; //GHz\n",
"h=0.12D-2; //m\n",
"\n",
"q=62.8*h*sqrt(f*sig);\n",
"disp(round(q),'conductor Q of the stripline:');"
   ]
   }
,
{
		   "cell_type": "markdown",
		   "metadata": {},
		   "source": [
			"## Example 10.7: Parallel_stripline.sce"
		   ]
		  },
  {
"cell_type": "code",
	   "execution_count": null,
	   "metadata": {
	    "collapsed": true
	   },
	   "outputs": [],
"source": [
"//Page Number: 558\n",
"//Example 10.7\n",
"clc;\n",
"//Given\n",
"Er=6;\n",
"h=4D-3; //m\n",
"\n",
"//(i) W for Z0=50W\n",
"Z0=50; //W\n",
"W=(120*%pi*h)/(sqrt(Er)*Z0);\n",
"disp('mm',W*1000,'Required Width:');\n",
"\n",
"//(ii)Stripline capacitance\n",
"E0=8.854D-12;\n",
"C=(E0*Er*W)/h;\n",
"disp('pF/m',C*10^12,'Stripline capacitance:');\n",
"\n",
"//(iii)Stripline inductance\n",
"Mu0=4*%pi*10D-7;\n",
"L=(Mu0*h)/W;\n",
"disp('muH/m',L*10^5,'Stripline inductance:');\n",
"\n",
"//(iv)Phase velocity\n",
"c=3D+8;\n",
"vp=c/sqrt(Er);\n",
"disp('m/s',vp,'Phase velocity');"
   ]
   }
,
{
		   "cell_type": "markdown",
		   "metadata": {},
		   "source": [
			"## Example 10.8: Stripline_coupler.sce"
		   ]
		  },
  {
"cell_type": "code",
	   "execution_count": null,
	   "metadata": {
	    "collapsed": true
	   },
	   "outputs": [],
"source": [
"//Page Number: 559\n",
"//Example 10.8\n",
"clc;\n",
"//Given\n",
"cl=3D+8; //m/s\n",
"f=5D+9; //Hz\n",
"Er=9;\n",
"C=-10; //db\n",
"Z0=50; //ohm\n",
"//Length\n",
"L=(cl/f)/(4*sqrt(Er));\n",
"disp('cm',L*100,'Length:');\n",
"\n",
"//Coupling coefficient\n",
"C0=10^(C/20);\n",
"disp(C0,'Coupling coefficient:');\n",
"\n",
"//Even and odd mode impedance\n",
"Z0e=(Z0*sqrt(1+C0))/sqrt(1-C0);\n",
"disp('ohm',Z0e,'Even mode impedance:');\n",
"\n",
"\n",
"Z0o=(Z0*sqrt(1-C0))/sqrt(1+C0);\n",
"disp('ohm',Z0o,'Odd mode impedance:');\n",
"\n",
"\n",
""
   ]
   }
,
{
		   "cell_type": "markdown",
		   "metadata": {},
		   "source": [
			"## Example 10.9: Branch_coupler.sce"
		   ]
		  },
  {
"cell_type": "code",
	   "execution_count": null,
	   "metadata": {
	    "collapsed": true
	   },
	   "outputs": [],
"source": [
"//Page Number: 560\n",
"//Example 10.9\n",
"clc;\n",
"//Given\n",
"Z0=50; //ohm\n",
"C=3; //db\n",
"\n",
"//Line impedance\n",
"Z01sqr=(1-(10^(C/-10)));\n",
"Z01=sqrt(Z0*Z0*Z01sqr);\n",
"disp('ohm',Z01,'Z01:');\n",
"\n",
"Z02=Z01/(sqrt(1-(1/sqrt(2))^2));\n",
"disp('ohm',round(Z02),'Z02:');"
   ]
   }
],
"metadata": {
		  "kernelspec": {
		   "display_name": "Scilab",
		   "language": "scilab",
		   "name": "scilab"
		  },
		  "language_info": {
		   "file_extension": ".sce",
		   "help_links": [
			{
			 "text": "MetaKernel Magics",
			 "url": "https://github.com/calysto/metakernel/blob/master/metakernel/magics/README.md"
			}
		   ],
		   "mimetype": "text/x-octave",
		   "name": "scilab",
		   "version": "0.7.1"
		  }
		 },
		 "nbformat": 4,
		 "nbformat_minor": 0
}
