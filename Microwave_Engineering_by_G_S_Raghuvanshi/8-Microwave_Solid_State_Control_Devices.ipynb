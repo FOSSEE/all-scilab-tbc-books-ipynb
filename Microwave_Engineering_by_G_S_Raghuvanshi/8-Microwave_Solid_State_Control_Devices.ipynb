{
"cells": [
 {
		   "cell_type": "markdown",
	   "metadata": {},
	   "source": [
       "# Chapter 8: Microwave Solid State Control Devices"
	   ]
	},
{
		   "cell_type": "markdown",
		   "metadata": {},
		   "source": [
			"## Example 8.10: 3_phase_CCD.sce"
		   ]
		  },
  {
"cell_type": "code",
	   "execution_count": null,
	   "metadata": {
	    "collapsed": true
	   },
	   "outputs": [],
"source": [
"//Page Number: 434\n",
"//Example 8.10\n",
"clc;\n",
"//Given\n",
"Qmax=0.05D-12; //C\n",
"f=10D+6; //Hz\n",
"V=10; //V\n",
"n=3;\n",
"\n",
"//Power disspated per bit\n",
"P=n*f*V*Qmax;\n",
"disp('muW',P*10^6,'Power disspated per bit:');"
   ]
   }
,
{
		   "cell_type": "markdown",
		   "metadata": {},
		   "source": [
			"## Example 8.11: Surface_channel_CCD.sce"
		   ]
		  },
  {
"cell_type": "code",
	   "execution_count": null,
	   "metadata": {
	    "collapsed": true
	   },
	   "outputs": [],
"source": [
"//Page Number: 434\n",
"//Example 8.11\n",
"clc;\n",
"//Given\n",
"e0=8.854D-12;\n",
"er=3.9;\n",
"d=0.15D-6; //m\n",
"e=1.6D-19; //J\n",
"Nmax=2.2D+16; //m-2\n",
"A=0.6D-8; //m\n",
"P=0.67D-3; //W\n",
"n=3;\n",
"\n",
"//(i) Junction capacitance\n",
"Ci=(e0*er)/d;\n",
"\n",
"//Gate voltage\n",
"V=(Nmax*e)/Ci;\n",
"disp('V',V,'Gate voltage:');\n",
"\n",
"//(ii) Charge stored\n",
"Qmax=Nmax*e*A;\n",
"\n",
"//Clock frequency\n",
"f=P/(n*V*Qmax);\n",
"disp('MHz',f/10^6,'Clock frequency:');"
   ]
   }
,
{
		   "cell_type": "markdown",
		   "metadata": {},
		   "source": [
			"## Example 8.12: 3_phase_CCD.sce"
		   ]
		  },
  {
"cell_type": "code",
	   "execution_count": null,
	   "metadata": {
	    "collapsed": true
	   },
	   "outputs": [],
"source": [
"//Page Number: 435\n",
"//Example 8.12\n",
"clc;\n",
"//Given\n",
"Qmax=0.06D-12; //C\n",
"f=20D+6; //Hz\n",
"V=10; //V\n",
"n=3;\n",
"\n",
"//Power disspated per bit\n",
"P=n*f*V*Qmax;\n",
"disp('muW',P*10^6,'Power disspated per bit:');"
   ]
   }
,
{
		   "cell_type": "markdown",
		   "metadata": {},
		   "source": [
			"## Example 8.13: Surface_channel_CCD.sce"
		   ]
		  },
  {
"cell_type": "code",
	   "execution_count": null,
	   "metadata": {
	    "collapsed": true
	   },
	   "outputs": [],
"source": [
"//Page Number: 435\n",
"//Example 8.13\n",
"clc;\n",
"//Given\n",
"e0=8.854D-12;\n",
"er=4;\n",
"d=0.1D-6; //m\n",
"si=0.85;\n",
"e=1.6D-19; //J\n",
"Na=1D+20;\n",
"\n",
"Ci=(e0*er)/d;\n",
"disp('F/m',Ci,'Junction capacitance:');\n",
"\n",
"W=sqrt((2*e0*er*si)/(e*Na));\n",
"disp('m',W,'Depletion layer width:');"
   ]
   }
,
{
		   "cell_type": "markdown",
		   "metadata": {},
		   "source": [
			"## Example 8.1: Single_pole_Switch.sce"
		   ]
		  },
  {
"cell_type": "code",
	   "execution_count": null,
	   "metadata": {
	    "collapsed": true
	   },
	   "outputs": [],
"source": [
"//Page Number: 389\n",
"//Example 8.1\n",
"clc;\n",
"//Given\n",
"Rf=0.5; //ohm\n",
"Rr=1; //ohm\n",
"Ls=0.3D-9; //H\n",
"Cj=0.1D-12; //F\n",
"f=3.18D+9; //Hz\n",
"Z0=50; //ohm\n",
"\n",
"Zf=Rf+(%i*round(2*%pi*f*Ls));\n",
"Zr=Rr+(%i*(round(2*%pi*f*Ls)-(1/(2*%pi*f*Cj))));\n",
"\n",
"//Series Configuration\n",
"disp('Series Configuration');\n",
"\n",
"//Insertion Loss\n",
"x=(2*Z0)/((2*Z0)+Zf);\n",
"x1=sqrt((real(x))^2+(imag(x))^2);\n",
"IN=-20*log10(x1);\n",
"disp('dB',IN,'Insertion Loss:');\n",
"\n",
"//Isolation Loss\n",
"y=(2*Z0)/((2*Z0)+Zr);\n",
"y1=sqrt((real(y))^2+(imag(y))^2);\n",
"IS=-20*log10(y1);\n",
"disp('dB',IS,'Isolation Loss:');\n",
"\n",
"//Shunt Configuration\n",
"disp('Shunt Configuration');\n",
"\n",
"//Insertion Loss\n",
"a=(2*Zr)/((2*Zr)+Z0);\n",
"a1=sqrt((real(a))^2+(imag(a))^2);\n",
"INs=-20*log10(a1);\n",
"disp('dB',INs,'Insertion Loss:');\n",
"\n",
"//Isolation Loss\n",
"b=(2*Zf)/((2*Zf)+Z0);\n",
"b1=sqrt((real(b))^2+(imag(b))^2);\n",
"ISs=-20*log10(b1);\n",
"disp('dB',ISs,'Isolation Loss:');\n",
"\n",
"//Answer for Series configuration insertion loss is 0.058 but is given as 0.58db"
   ]
   }
,
{
		   "cell_type": "markdown",
		   "metadata": {},
		   "source": [
			"## Example 8.2: Pin_diode_switches.sce"
		   ]
		  },
  {
"cell_type": "code",
	   "execution_count": null,
	   "metadata": {
	    "collapsed": true
	   },
	   "outputs": [],
"source": [
"//Page Number: 390\n",
"//Example 8.2\n",
"clc;\n",
"//Given\n",
"Rf=1; //ohm\n",
"Rr=4; //ohm\n",
"Ls=0.3D-9; //H\n",
"Cj=0.1D-12; //F\n",
"f=3.18D+9; //Hz\n",
"Z0=50; //ohm\n",
"\n",
"Zf=Rf+(%i*round(2*%pi*f*Ls));\n",
"Zr=Rr+(%i*(round(2*%pi*f*Ls)-(1/(2*%pi*f*Cj))));\n",
"\n",
"//Series Configuration\n",
"disp('Series Configuration');\n",
"\n",
"//Insertion Loss\n",
"x=(2*Z0)/((2*Z0)+Zf);\n",
"x1=sqrt((real(x))^2+(imag(x))^2);\n",
"IN=-20*log10(x1);\n",
"disp('dB',IN,'Insertion Loss:');\n",
"\n",
"//Isolation Loss\n",
"y=(2*Z0)/((2*Z0)+Zr);\n",
"y1=sqrt((real(y))^2+(imag(y))^2);\n",
"IS=-20*log10(y1);\n",
"disp('dB',IS,'Isolation Loss:');\n",
"\n",
"//Shunt Configuration\n",
"disp('Shunt Configuration');\n",
"\n",
"//Insertion Loss\n",
"a=(2*Zr)/((2*Zr)+Z0);\n",
"a1=sqrt((real(a))^2+(imag(a))^2);\n",
"INs=-20*log10(a1);\n",
"disp('dB',INs,'Insertion Loss:');\n",
"\n",
"//Isolation Loss\n",
"b=(2*Zf)/((2*Zf)+Z0);\n",
"b1=sqrt((real(b))^2+(imag(b))^2);\n",
"ISs=-20*log10(b1);\n",
"disp('dB',ISs,'Isolation Loss:');"
   ]
   }
,
{
		   "cell_type": "markdown",
		   "metadata": {},
		   "source": [
			"## Example 8.3: Silicon_switching_diode.sce"
		   ]
		  },
  {
"cell_type": "code",
	   "execution_count": null,
	   "metadata": {
	    "collapsed": true
	   },
	   "outputs": [],
"source": [
"//Page Number: 392\n",
"//Example 8.3\n",
"clc;\n",
"//Given\n",
"Vbd=1000; //V\n",
"f=30D+9; //Hz\n",
"E=3D+5; //V/cm\n",
"Cj=0.3D-12; //F\n",
"er=11.8;\n",
"e0=8.854D-12;\n",
"\n",
"W=Vbd/E;\n",
"Wpi=W/100; //mu\n",
"\n",
"//Total series resistance\n",
"R=1/(2*%pi*f*Cj);\n",
"disp('ohms',R,'Total series resistance:');\n",
"\n",
"//Junction Area\n",
"A=(Cj*Wpi)/(e0*er);\n",
"disp('cm2',A*10000,'Junction Area:');"
   ]
   }
,
{
		   "cell_type": "markdown",
		   "metadata": {},
		   "source": [
			"## Example 8.6: Parametric_upconverter.sce"
		   ]
		  },
  {
"cell_type": "code",
	   "execution_count": null,
	   "metadata": {
	    "collapsed": true
	   },
	   "outputs": [],
"source": [
"//Page Number: 428\n",
"//Example 8.6\n",
"clc;\n",
"//Given\n",
"MQ=10;\n",
"M=0.4;\n",
"r=20;\n",
"Td=300; //K\n",
"T=290; //K\n",
"\n",
"x=(MQ*MQ)/r;\n",
"//Power Gain\n",
"Ap=(r*x)/((1+sqrt(1+x))^2);\n",
"Apdb=10*log10(Ap);\n",
"disp('dB',Apdb,'Power gain:');\n",
"\n",
"//Noise figure\n",
"z=(Td/T)/sqrt(1+((MQ*MQ)/r));\n",
"F=1+z;\n",
"Fdb=10*log10(F);\n",
"disp('dB',F,'Nosie figure:');\n",
"\n",
"//Bandwidth\n",
"BW=2*M*sqrt(r);\n",
"disp(BW,'Bandwidth:');"
   ]
   }
,
{
		   "cell_type": "markdown",
		   "metadata": {},
		   "source": [
			"## Example 8.7: Parametric_amplifier.sce"
		   ]
		  },
  {
"cell_type": "code",
	   "execution_count": null,
	   "metadata": {
	    "collapsed": true
	   },
	   "outputs": [],
"source": [
"//Page Number: 428\n",
"//Example 8.7\n",
"clc;\n",
"//Given\n",
"MQ=10;\n",
"r=10;\n",
"\n",
"x=(MQ*MQ)/r;\n",
"\n",
"//Gain\n",
"Ap=(r*x)/((1+sqrt(1+x))^2);\n",
"Apdb=10*log10(Ap);\n",
"disp('dB',Apdb,'Gain:');"
   ]
   }
,
{
		   "cell_type": "markdown",
		   "metadata": {},
		   "source": [
			"## Example 8.8: Negative_resistance_parametric_amplifier.sce"
		   ]
		  },
  {
"cell_type": "code",
	   "execution_count": null,
	   "metadata": {
	    "collapsed": true
	   },
	   "outputs": [],
"source": [
"//Page Number: 429\n",
"//Example 8.8\n",
"clc;\n",
"//Given\n",
"Rs=1; //ohm\n",
"ws=5D+9; //Hz\n",
"M=0.25;\n",
"C0=2D-12; //F\n",
"\n",
"//(i) Effective Q\n",
"Q=1/(Rs*ws*C0*(1-(M*M)));\n",
"disp(Q,'Effective Q:');"
   ]
   }
,
{
		   "cell_type": "markdown",
		   "metadata": {},
		   "source": [
			"## Example 8.9: 330_stage_CCD.sce"
		   ]
		  },
  {
"cell_type": "code",
	   "execution_count": null,
	   "metadata": {
	    "collapsed": true
	   },
	   "outputs": [],
"source": [
"//Page Number: 434\n",
"//Example 8.9\n",
"clc;\n",
"//Given\n",
"e=0.0001;\n",
"s=330;\n",
"\n",
"//Charge transfer effciency\n",
"n=1-e;\n",
"\n",
"//Final charge pulse\n",
"//x=P/P0\n",
"x=(1-(e*s));\n",
"disp(x,'Final charge pulse:');"
   ]
   }
],
"metadata": {
		  "kernelspec": {
		   "display_name": "Scilab",
		   "language": "scilab",
		   "name": "scilab"
		  },
		  "language_info": {
		   "file_extension": ".sce",
		   "help_links": [
			{
			 "text": "MetaKernel Magics",
			 "url": "https://github.com/calysto/metakernel/blob/master/metakernel/magics/README.md"
			}
		   ],
		   "mimetype": "text/x-octave",
		   "name": "scilab",
		   "version": "0.7.1"
		  }
		 },
		 "nbformat": 4,
		 "nbformat_minor": 0
}
