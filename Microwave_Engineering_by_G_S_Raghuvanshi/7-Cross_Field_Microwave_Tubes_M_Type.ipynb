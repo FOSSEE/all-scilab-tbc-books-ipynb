{
"cells": [
 {
		   "cell_type": "markdown",
	   "metadata": {},
	   "source": [
       "# Chapter 7: Cross Field Microwave Tubes M Type"
	   ]
	},
{
		   "cell_type": "markdown",
		   "metadata": {},
		   "source": [
			"## Example 7.10: Inverted_coaxial_Magnetron.sce"
		   ]
		  },
  {
"cell_type": "code",
	   "execution_count": null,
	   "metadata": {
	    "collapsed": true
	   },
	   "outputs": [],
"source": [
"//Page Number: 376\n",
"//Example 7.10\n",
"clc;\n",
"//Given\n",
"V0=10D+3; //V\n",
"I0=2; //A\n",
"b=4D-2; //m\n",
"a=3D-2; //m\n",
"B0=0.01; //Wb/m2\n",
"ebym=1.759D+11;\n",
"\n",
"//Cut off voltage\n",
"x=1-((b*b)/(a*a));\n",
"V=(ebym*(B0^2)*(a^2)*(x^2))/8;\n",
"disp('KV',V/1000,'Cut off voltage:');\n",
"\n",
"//Magnetic flux density\n",
"y=-sqrt((8*V0)/ebym);\n",
"B=y/(a*x);\n",
"disp('T',B,'Magnetic flux density:');"
   ]
   }
,
{
		   "cell_type": "markdown",
		   "metadata": {},
		   "source": [
			"## Example 7.11: Linear_Magnetron.sce"
		   ]
		  },
  {
"cell_type": "code",
	   "execution_count": null,
	   "metadata": {
	    "collapsed": true
	   },
	   "outputs": [],
"source": [
"//Page Number: 376\n",
"//Example 7.11\n",
"clc;\n",
"//Given\n",
"e=1.6D-19; //J\n",
"B0=0.01; //Wb/m2\n",
"d=6D-2; //m\n",
"V0=20D+3; //V\n",
"ebym=1.759D+11;\n",
"\n",
"//(i) Hull cut off voltage\n",
"Voc=(B0*B0*d*d*ebym)/2;\n",
"disp('KV',Voc/1000,'Hull cut off voltage:');\n",
"\n",
"//(ii) Hull magnetic field\n",
"Boc=sqrt((2*V0)/ebym)/d;\n",
"disp('mT',Boc*1000,'Hull magnetic field:');"
   ]
   }
,
{
		   "cell_type": "markdown",
		   "metadata": {},
		   "source": [
			"## Example 7.12: Inverted_Coaxial_Magnetron.sce"
		   ]
		  },
  {
"cell_type": "code",
	   "execution_count": null,
	   "metadata": {
	    "collapsed": true
	   },
	   "outputs": [],
"source": [
"//Page Number: 377\n",
"//Example 7.12\n",
"clc;\n",
"//Given\n",
"V0=10D+3; //V\n",
"V01=5D+3; //V\n",
"I0=2; //A\n",
"b=3D-2; //m\n",
"a=2D-2; //m\n",
"B0=0.01; //Wb/m2\n",
"ebym=1.759D+11;\n",
"\n",
"//Cut off voltage\n",
"x=1-((b*b)/(a*a));\n",
"V=(ebym*(B0^2)*(a^2)*(x^2))/8;\n",
"KV=V/1000; //Kilovolts\n",
"disp('KV',KV,'Cut off voltage:');\n",
"\n",
"//Magnetic flux density\n",
"y=-sqrt((8*V01)/ebym);\n",
"B=y/(a*x);\n",
"disp('Wb/m2',B,'Magnetic flux density:');\n",
"\n",
"//Answer in book is wrong for Magnetic flux density as a*a ,where a=2, is taken as 5, which should be 4"
   ]
   }
,
{
		   "cell_type": "markdown",
		   "metadata": {},
		   "source": [
			"## Example 7.13: Agile_coaxial_Magnetron.sce"
		   ]
		  },
  {
"cell_type": "code",
	   "execution_count": null,
	   "metadata": {
	    "collapsed": true
	   },
	   "outputs": [],
"source": [
"//Page Number: 377\n",
"//Example 7.13\n",
"clc;\n",
"//Given\n",
"N=15;\n",
"t=0.3D-6; //s\n",
"DC=0.0011; //Duty cycle\n",
"\n",
"//(i) Agile excursion\n",
"A=N/t;\n",
"disp('MHz',A/10^6,'Agile excursion:');\n",
"\n",
"//(ii) Pulse to pulse frequency seperation\n",
"fp=1/t;\n",
"disp('Mhz',fp/10^6,'Pulse to pulse frequency seperation:');\n",
"\n",
"//(iii) Signal frequency\n",
"f=DC/t;\n",
"disp('Khz',f/1000,'Signal frequency:');\n",
"\n",
"//(iv) Agile rate\n",
"Tp=N/f;\n",
"R=1/(2*Tp);\n",
"disp('ps',R,'Agile Rate:');\n",
""
   ]
   }
,
{
		   "cell_type": "markdown",
		   "metadata": {},
		   "source": [
			"## Example 7.1: X_band_Magnetron.sce"
		   ]
		  },
  {
"cell_type": "code",
	   "execution_count": null,
	   "metadata": {
	    "collapsed": true
	   },
	   "outputs": [],
"source": [
"//Page Number: 369\n",
"//Example 7.1\n",
"clc;\n",
"//Given\n",
"f=10D+9; //Hz\n",
"C=2.5D-12; //F\n",
"Gr=2D-4; //mho\n",
"Ge=0.025D-3; //mho\n",
"Ploss=18.5D+3; //W\n",
"V0=5.5D+3; //V\n",
"I0=4.5; //A\n",
"\n",
"w=2*%pi*f;\n",
"\n",
"//(i) Unloaded Q\n",
"Qun=(w*C)/Gr;\n",
"disp(Qun,'Unloaded quality factor:');\n",
"\n",
"//External Q\n",
"Qe=(w*C)/Ge;\n",
"disp(Qe,'External quality factor:');\n",
"\n",
"//(ii) Circuit effciency\n",
"n=1/(1+(Qe/Qun));\n",
"disp('%',n*100,'Circuit effciency:');\n",
"\n",
"//Electronic effciency\n",
"ne=1-(Ploss/(V0*I0));\n",
"disp('%',ne*100,'Electronic effciency:');\n",
"\n",
"//Answer for Qe is given as 6285.6 but it should be 6283.1 "
   ]
   }
,
{
		   "cell_type": "markdown",
		   "metadata": {},
		   "source": [
			"## Example 7.2: Cylindrical_Magnetron.sce"
		   ]
		  },
  {
"cell_type": "code",
	   "execution_count": null,
	   "metadata": {
	    "collapsed": true
	   },
	   "outputs": [],
"source": [
"//Page Number: 370\n",
"//Example 7.2\n",
"clc;\n",
"//Given\n",
"V0=25D+3; //V\n",
"ebym=1.76D+11;\n",
"B0=0.0336; //T\n",
"a=5D-2; //m\n",
"b=10D-2; //m\n",
"\n",
"//(i) Cut off voltage\n",
"x=(b/((b*b)-(a*a)))^2;\n",
"V=(ebym*B0*B0)/(8*x);\n",
"disp('KV',V/1000,'Cut off voltage:');\n",
"\n",
"//(ii) Cut off magnetic field\n",
"y=((8*V0*x)/ebym);\n",
"B=sqrt(y);\n",
"disp('mT',B*1000,'Cut off magnetic field:');\n",
""
   ]
   }
,
{
		   "cell_type": "markdown",
		   "metadata": {},
		   "source": [
			"## Example 7.3: Cylindrical_Magnetron.sce"
		   ]
		  },
  {
"cell_type": "code",
	   "execution_count": null,
	   "metadata": {
	    "collapsed": true
	   },
	   "outputs": [],
"source": [
"//Page Number: 371\n",
"//Example 7.3\n",
"clc;\n",
"//Given\n",
"Pout=250D+3; //W\n",
"V0=25D+3; //V\n",
"I0=25; //A\n",
"ebym=1.76D+11;\n",
"B0=0.035; //T\n",
"a=4D-2; //m\n",
"b=8D-2; //m\n",
"\n",
"\n",
"//(i) Efficiency\n",
"n=Pout/(V0*I0);\n",
"disp('%',n*100,'Efficiency:');\n",
"\n",
"//(ii) Cyclotron frequency\n",
"f=(ebym*B0)/(2*%pi);\n",
"disp('Ghz',f/10^9,'Cyclotron frequency:');\n",
"\n",
"//(iii) Cut off magnetic field\n",
"x=(b/((b*b)-(a*a)))^2;\n",
"y=((8*V0*x)/ebym);\n",
"B=sqrt(y);\n",
"disp('mT',B*1000,'Cut off magnetic field:');\n",
"\n",
"//(iv) Cut off voltage\n",
"V=(ebym*B0*B0)/(8*x);\n",
"disp('KV',round(V/1000),'Cut off voltage:');\n",
"\n",
"//Answer for Cyclotron frequency is is given as 9.8GHz but it should be 0.98 GHz as value of B0=0.035 not 0.35 as taken in part 2"
   ]
   }
,
{
		   "cell_type": "markdown",
		   "metadata": {},
		   "source": [
			"## Example 7.4: Conventional_Magnetron.sce"
		   ]
		  },
  {
"cell_type": "code",
	   "execution_count": null,
	   "metadata": {
	    "collapsed": true
	   },
	   "outputs": [],
"source": [
"//Page Number: 372\n",
"//Example 7.4\n",
"clc;\n",
"//Given\n",
"Gr=3D-4; //mho\n",
"Ge=3D-5; //mho\n",
"Ploss=200D+3; //W\n",
"V0=22D+3; //V\n",
"I0=28; //A\n",
"\n",
"//(i) Circuit effciency\n",
"n=1/(1+(Gr/Ge));\n",
"disp('%',n*100,'Circuit effciency:');\n",
"\n",
"//(ii) Electronic effciency\n",
"ne=1-(Ploss/(V0*I0));\n",
"disp('%',ne*100,'Electronic effciency:');"
   ]
   }
,
{
		   "cell_type": "markdown",
		   "metadata": {},
		   "source": [
			"## Example 7.5: Conventional_Magnetron.sce"
		   ]
		  },
  {
"cell_type": "code",
	   "execution_count": null,
	   "metadata": {
	    "collapsed": true
	   },
	   "outputs": [],
"source": [
"//Page Number: 372\n",
"//Example 7.5\n",
"clc;\n",
"//Given\n",
"f=9D+9; //Hz\n",
"C=2.5D-12; //F\n",
"Gr=2D-4; //mho\n",
"Ge=2.5D-5; //mho\n",
"Ploss=18.5D+3; //W\n",
"V0=5.5D+3; //V\n",
"I0=4.5; //A\n",
"\n",
"//(i) Angular resonant frequency\n",
"w=2*%pi*f;\n",
"disp('rad/s',w,'Angular resonant frequency:');\n",
"\n",
"//(ii) Unloaded Q\n",
"Qun=round((w*C)/Gr);\n",
"disp(Qun,'Unloaded quality factor:');\n",
"\n",
"//(iii) Loaded Q\n",
"Ql=round((w*C)/(Gr+Ge));\n",
"disp(Ql,'Loaded quality factor:');\n",
"\n",
"//(iv) External Q\n",
"Qe=(w*C)/Ge;\n",
"disp(Qe,'External quality factor:');\n",
"\n",
"//(v) Circuit effciency\n",
"n=1/(1+(Qe/Qun));\n",
"disp('%',n*100,'Circuit effciency:');\n",
"\n",
"//(vi) Electronic effciency\n",
"ne=1-(Ploss/(V0*I0));\n",
"disp('%',ne*100,'Electronic effciency:');\n",
"\n",
"//Answer for external Q is given as 56.57 but it should be 5654.8"
   ]
   }
,
{
		   "cell_type": "markdown",
		   "metadata": {},
		   "source": [
			"## Example 7.6: Carcinotron.sce"
		   ]
		  },
  {
"cell_type": "code",
	   "execution_count": null,
	   "metadata": {
	    "collapsed": true
	   },
	   "outputs": [],
"source": [
"//Page Number: 373\n",
"//Example 7.6\n",
"clc;\n",
"//Given\n",
"f=4D+9; //Hz\n",
"V0=25D+3; //V\n",
"I0=3; //A\n",
"B0=0.3; //T\n",
"D=0.8;\n",
"Z0=50; //ohm\n",
"ebym=1.76D+11;\n",
"\n",
"//(i) Electron beam phase constant\n",
"be=(2*%pi*f)/sqrt(2*ebym*V0);\n",
"disp('rad/s',be,'Electron beam phase constant:');\n",
"\n",
"//(ii) Gain Parameter\n",
"C=((I0*Z0)/(4*V0))^(1/3);\n",
"disp(C,'Gain Parameter:');\n",
"\n",
"//(iii) Length for oscillation condition\n",
"N=1.25/D;\n",
"l=(2*%pi*N)/be;\n",
"disp('m',l,'Length for oscillation condition:');"
   ]
   }
,
{
		   "cell_type": "markdown",
		   "metadata": {},
		   "source": [
			"## Example 7.7: Frequency_Aglile_Magnetron.sce"
		   ]
		  },
  {
"cell_type": "code",
	   "execution_count": null,
	   "metadata": {
	    "collapsed": true
	   },
	   "outputs": [],
"source": [
"//Page Number: 374\n",
"//Example 7.7\n",
"clc;\n",
"//Given\n",
"N=20;\n",
"t=0.2D-6; //s\n",
"DC=0.001; //Duty cycle\n",
"\n",
"//(i) Agile excursion\n",
"A=N/t;\n",
"disp('MHz',A/10^6,'Agile excursion:');\n",
"\n",
"//(ii) Signal frequency\n",
"f=DC/t;\n",
"disp('Khz',f/1000,'Signal frequency:');\n",
"\n",
"//(iii) Agile rate\n",
"R=f/(2*N);\n",
"disp('Hz',R,'Agile Rate:');\n",
""
   ]
   }
,
{
		   "cell_type": "markdown",
		   "metadata": {},
		   "source": [
			"## Example 7.8: Cross_field_amplifier.sce"
		   ]
		  },
  {
"cell_type": "code",
	   "execution_count": null,
	   "metadata": {
	    "collapsed": true
	   },
	   "outputs": [],
"source": [
"//Page Number: 375\n",
"//Example 7.8\n",
"clc;\n",
"//Given\n",
"V0=1.8D+3; //V\n",
"I0=1.3; //A\n",
"Pin=70; //W\n",
"n=0.22;\n",
"\n",
"//(i) Power generated\n",
"Pgen=n*I0*V0;\n",
"disp('W',Pgen,'Power generated:');\n",
"\n",
"//(ii) Total RF power generated\n",
"Pt=Pin+Pgen;\n",
"disp('W',Pt,'Total RF power generated:');\n",
"\n",
"//(iii) Power gain\n",
"G=Pt/Pin;\n",
"Gdb=10*log10(G);\n",
"disp('dB',Gdb,'Power Gain:');"
   ]
   }
,
{
		   "cell_type": "markdown",
		   "metadata": {},
		   "source": [
			"## Example 7.9: Inverted_coaxial_Magnetron.sce"
		   ]
		  },
  {
"cell_type": "code",
	   "execution_count": null,
	   "metadata": {
	    "collapsed": true
	   },
	   "outputs": [],
"source": [
"//Page Number: 375\n",
"//Example 7.9\n",
"clc;\n",
"//Given\n",
"V0=10D+3; //V\n",
"I0=2; //A\n",
"b=4D-2; //m\n",
"a=3D-2; //m\n",
"B0=0.01; //Wb/m2\n",
"ebym=1.759D+11;\n",
"\n",
"//Cut off voltage\n",
"x=1-((b*b)/(a*a));\n",
"V=(ebym*(B0^2)*(a^2)*(x^2))/8;\n",
"KV=V/1000; //Kilovolts\n",
"disp('KV',KV,'Cut off voltage:');\n",
"\n",
"//Magnetic flux density\n",
"y=-sqrt((8*V0)/ebym);\n",
"B=y/(a*x);\n",
"disp('T',B,'Magnetic flux density:');"
   ]
   }
],
"metadata": {
		  "kernelspec": {
		   "display_name": "Scilab",
		   "language": "scilab",
		   "name": "scilab"
		  },
		  "language_info": {
		   "file_extension": ".sce",
		   "help_links": [
			{
			 "text": "MetaKernel Magics",
			 "url": "https://github.com/calysto/metakernel/blob/master/metakernel/magics/README.md"
			}
		   ],
		   "mimetype": "text/x-octave",
		   "name": "scilab",
		   "version": "0.7.1"
		  }
		 },
		 "nbformat": 4,
		 "nbformat_minor": 0
}
