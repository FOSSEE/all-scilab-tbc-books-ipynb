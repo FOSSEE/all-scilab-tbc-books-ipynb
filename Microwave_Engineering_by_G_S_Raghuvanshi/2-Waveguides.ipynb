{
"cells": [
 {
		   "cell_type": "markdown",
	   "metadata": {},
	   "source": [
       "# Chapter 2: Waveguides"
	   ]
	},
{
		   "cell_type": "markdown",
		   "metadata": {},
		   "source": [
			"## Example 2.10: Rectangular_Waveguide.sce"
		   ]
		  },
  {
"cell_type": "code",
	   "execution_count": null,
	   "metadata": {
	    "collapsed": true
	   },
	   "outputs": [],
"source": [
"//Page Number: \n",
"//Example 2.10\n",
"clc;\n",
"//Given,\n",
"\n",
"c=3D+8; //m/s\n",
"a=3; //cm\n",
"a1=a/100; //m\n",
"b=2; //cm\n",
"b1=b/100; //m\n",
"f=7.5D+9; //HZ\n",
"p=5D+3; //W\n",
"\n",
"mu=%pi*4D-7;\n",
"w=2*%pi*f;\n",
"bet=sqrt(((w/c)^2)-((%pi/a1)^2));\n",
"//Charecteristic impedance\n",
"z0=w*mu*2*b/(bet*a);\n",
"disp('ohm',z0,'Charecteristic impedance:');\n",
"\n",
"//Peak electric field\n",
"e0=4*w*mu*p/(bet*a*b);\n",
"disp('V/m',e0,'Peak electric field:');\n",
"\n",
"//Maximum voltage\n",
"v0=e0*b1;\n",
"disp('kV',v0/1000,'Maximum voltage:');\n",
"\n",
"//Answer for v0 is given as 3.172 kV it should be 33.71 kV"
   ]
   }
,
{
		   "cell_type": "markdown",
		   "metadata": {},
		   "source": [
			"## Example 2.14: Waveguide.sce"
		   ]
		  },
  {
"cell_type": "code",
	   "execution_count": null,
	   "metadata": {
	    "collapsed": true
	   },
	   "outputs": [],
"source": [
"//Page Number: 99\n",
"//Example 2.14\n",
"clc;\n",
"//Given,\n",
"c=3D+8; //m/s\n",
"a=1.5;//cm\n",
"a1=a/100;//m\n",
"b=0.8;//cm\n",
"b1=b/100;//m\n",
"mu=1/c*c;\n",
"e=4;\n",
"w=%pi*1D+11;\n",
"n=377;\n",
"\n",
"//(i) Frequency of operation\n",
"f=w/(2*%pi);\n",
"f1=f/1D+9;//ghz\n",
"disp('Ghz',f1,'Frequency of operation:');\n",
"\n",
"//(ii) Cutt off frequency\n",
"fc=(c*sqrt((1/a1)^2+(3/b1)^2))/(2*sqrt(e));\n",
"fc1=fc/1D+9;//ghz\n",
"disp('Ghz',fc1,'Cut off frequency:');\n",
"\n",
"//(iii) Phase constant\n",
"bet=(w*sqrt(e)*sqrt(1-(fc/f)^2))/(c);\n",
"disp('rad/m',bet,'Phase constant:');\n",
"\n",
"//(iv) Propogation constant\n",
"gam=%i*bet;\n",
"disp('rad/s',gam,'Propogation constant:');\n",
"\n",
"//(v) Intrensic wave impedance\n",
"zte=(n/sqrt(e))/sqrt(1-(fc/f)^2);\n",
"ztm=(n/sqrt(e))*sqrt(1-(fc/f)^2);\n",
"disp('Ohm',ztm,'ZTM13','Ohm',zte,'ZTE13','Intrinsic wave impedance:');"
   ]
   }
,
{
		   "cell_type": "markdown",
		   "metadata": {},
		   "source": [
			"## Example 2.17: Air_filled_Rectangular_Waveguide.sce"
		   ]
		  },
  {
"cell_type": "code",
	   "execution_count": null,
	   "metadata": {
	    "collapsed": true
	   },
	   "outputs": [],
"source": [
"//Page Number: 103\n",
"//Example 2.17\n",
"clc;\n",
"//Given\n",
"a=2; //cm\n",
"a1=1/100; //m\n",
"b=1; //cm\n",
"b1=b/100; //m\n",
"p=10D-3; //W\n",
"c=3D+8; //m/s\n",
"f0=10D+9; //Hz\n",
"\n",
"//Peak value of electric field\n",
"fc=c/(2*a);\n",
"E02=(4*p*377)/(a1*b1*sqrt(1-(fc/f0)^2));\n",
"E0=sqrt(E02);\n",
"disp('V/m',E0,'Peak value of electric field:');\n",
"\n",
"//Maximum power transmitted\n",
"Ed=3D+6; //V/m\n",
"Pt=2.6D+13*(Ed/f0)^2;\n",
"disp('kW',Pt/1000,'Maximum power transmitted:');\n",
"\n",
"//Answer is given as 2300kW but it is 2340kW"
   ]
   }
,
{
		   "cell_type": "markdown",
		   "metadata": {},
		   "source": [
			"## Example 2.18: Rectangular_Waveguide.sce"
		   ]
		  },
  {
"cell_type": "code",
	   "execution_count": null,
	   "metadata": {
	    "collapsed": true
	   },
	   "outputs": [],
"source": [
"//Page Number: 104\n",
"//Example 2.18\n",
"clc;\n",
"//Given\n",
"f=5D+9; //Hz\n",
"c=3D+8; //m/s\n",
"a=7.5; //cm\n",
"a1=a/100; //m\n",
"b=3.5; //cm\n",
"b1=b/100; //m\n",
"lam=c/f;\n",
"lamm=lam*100; //m\n",
"\n",
"disp('TE10 mode');\n",
"lamc10=2*a;\n",
"bet10=(2*%pi*sqrt(((lamc10/lamm)^2)-1))/lamc10;\n",
"disp('rad/cm',bet10,'Propogation constant:');\n",
"vp10=(2*%pi*f)/bet10;\n",
"disp('m/s',vp10/100,'Phase velocity:');\n",
"\n",
"disp('TE01 mode');\n",
"lamc01=2*b;\n",
"bet01=(2*%pi*sqrt(((lamc01/lamm)^2)-1))/lamc01;\n",
"disp('rad/cm',bet01,'Propogation constant:');\n",
"vp01=(2*%pi*f)/bet01;\n",
"disp('m/s',vp01/100,'Phase velocity:');\n",
"\n",
"disp('TE11 mode');\n",
"lamc11=(2*a*b)/sqrt((a*a)+(b*b));\n",
"bet11=(2*%pi*sqrt(((lamc11/lamm)^2)-1))/lamc11;\n",
"disp('rad/cm',bet11,'Propogation constant:');\n",
"vp11=(2*%pi*f)/bet11;\n",
"disp('m/s',vp11/100,'Phase velocity:');\n",
"\n",
"disp('TE02 mode');\n",
"lamc02=b;\n",
"bet02=(2*%pi*sqrt(((lamc02/lamm)^2)-1))/lamc02;\n",
"disp('rad/cm',bet02,'Propogation constant:');\n",
"disp('As beta is imaginary, mode gets attenuated');\n",
"alp=(2*%pi*sqrt(1-((lamc02/lamm)^2)))/lamc02;\n",
"disp('Np/m',alp,'Propogation constant alpha:');\n",
"\n",
""
   ]
   }
,
{
		   "cell_type": "markdown",
		   "metadata": {},
		   "source": [
			"## Example 2.19: Rectangular_Waveguide.sce"
		   ]
		  },
  {
"cell_type": "code",
	   "execution_count": null,
	   "metadata": {
	    "collapsed": true
	   },
	   "outputs": [],
"source": [
"//Page Number: 105\n",
"//Example 2.19\n",
"clc;\n",
"//Given\n",
"c=3D+8; //m/s\n",
"a=2.29; //cm\n",
"b=1.02; //cm\n",
"a1=a/100 ;//m\n",
"b1=b/100; //m\n",
"f=6D+9; //Hz\n",
"e=1;\n",
"mu=1/(c^2);\n",
"\n",
"//Cut off frequency\n",
"lamc=2*a1;\n",
"fc=c/lamc;\n",
"w=2*%pi*fc;\n",
"\n",
"//Attenuation constant\n",
"a=(w*sqrt(1-((f/fc)^2)))/c;;\n",
"adb=-20*log10(exp(-a));\n",
"disp('dB/m',adb,'Attenuation constant:');"
   ]
   }
,
{
		   "cell_type": "markdown",
		   "metadata": {},
		   "source": [
			"## Example 2.1: Dominant_mode.sce"
		   ]
		  },
  {
"cell_type": "code",
	   "execution_count": null,
	   "metadata": {
	    "collapsed": true
	   },
	   "outputs": [],
"source": [
"//Page Number:91\n",
"//Example 2.1\n",
"clc;\n",
"//Given,\n",
"\n",
"a=6;//cm\n",
"b=4;//cm\n",
"d=4.47;//cm\n",
"c=3D+8; //m/s\n",
"lamc=2*a;\n",
"lamg=2*d;\n",
"\n",
"//Signal wavelength\n",
"lam=lamg*lamc/(sqrt(lamg^2+lamc^2));\n",
"lam=lam/100; //m\n",
"f=c/lam;\n",
"disp('Ghz',f/1D+9,'Signal frequency of dominant mode:');"
   ]
   }
,
{
		   "cell_type": "markdown",
		   "metadata": {},
		   "source": [
			"## Example 2.20: Ratio_of_cross_sectio.sce"
		   ]
		  },
  {
"cell_type": "code",
	   "execution_count": null,
	   "metadata": {
	    "collapsed": true
	   },
	   "outputs": [],
"source": [
"//Page Number: 105\n",
"//Example 2.20\n",
"clc;\n",
"//Given,\n",
"a1=1.84;\n",
"a2=%pi;\n",
"\n",
"r=2*%pi*(a1/a2)^2;\n",
"disp(r,'Cross section ratio:');"
   ]
   }
,
{
		   "cell_type": "markdown",
		   "metadata": {},
		   "source": [
			"## Example 2.21: Rectangular_Waveguide.sce"
		   ]
		  },
  {
"cell_type": "code",
	   "execution_count": null,
	   "metadata": {
	    "collapsed": true
	   },
	   "outputs": [],
"source": [
"//Page Number: 106\n",
"//Example 2.21\n",
"clc;\n",
"//Given\n",
"c=3D+8; //m/s\n",
"f=15D+9; //hz\n",
"a=1.07; //cm\n",
"a1=a/100; //m\n",
"b=0.43; //cm\n",
"b1=b/100; //m\n",
"er=2.08;\n",
"tandel=0.0004;\n",
"lam=c/f;\n",
"\n",
"\n",
"//(i) Cut off frequency\n",
"m1=1;\n",
"n1=0;\n",
"fc10=(c/(2*%pi*sqrt(er))*sqrt((m1*%pi/a1)^2+(n1*%pi/b1)^2));\n",
"disp('GHz',fc10/10^9,'Cut off frequency for mode TE10:');\n",
"\n",
"m2=2;\n",
"n2=0;\n",
"fc20=(c/(2*%pi*sqrt(er))*sqrt((m2*%pi/a1)^2+(n2*%pi/b1)^2));\n",
"disp('Ghz',fc20/10^9,'Cut off frequency at mode TE20:');\n",
"\n",
"m3=0;\n",
"n3=1;\n",
"fc01=(c/(2*%pi*sqrt(er))*sqrt((m3*%pi/a1)^2+(n3*%pi/b1)^2));\n",
"disp('Ghz',fc01/10^9,'Cut off frequency at mode TE01:');\n",
"\n",
"//Dielectric attenuation constant\n",
"ad=(%pi*tandel)/(lam*sqrt(1-(fc10/f)^2));\n",
"adb=-20*log10(exp(-ad));\n",
"disp('dB/m',adb,'Attenuation constant:');"
   ]
   }
,
{
		   "cell_type": "markdown",
		   "metadata": {},
		   "source": [
			"## Example 2.22: Rectangular_Waveguide.sce"
		   ]
		  },
  {
"cell_type": "code",
	   "execution_count": null,
	   "metadata": {
	    "collapsed": true
	   },
	   "outputs": [],
"source": [
"//Page Number: 106\n",
"//Example 2.22\n",
"clc;\n",
"//Given\n",
"c=3D+8; //m/s\n",
"a=2.286; //cm\n",
"a1=a/100; //m\n",
"b=1.016; //cm\n",
"b1=b/100; //m\n",
"sig=5.8D+7; //s/m\n",
"f=9.6D+9; //Hz\n",
"\n",
"w=2*%pi*f;\n",
"mu=%pi*4D-7;\n",
"et=377;\n",
"\n",
"lam=c/f;\n",
"lamc=2*a1;\n",
"r=lam/lamc;\n",
"\n",
"Rs=sqrt((w*mu)/(2*sig));\n",
"ac=(Rs*(1+(2*(b1/a1)*r*r)))/(et*b1*sqrt(1-(r^2)));\n",
"adb=-20*log10(exp(-ac));\n",
"disp('dB/m',adb,'Conductor attenuation constant:');"
   ]
   }
,
{
		   "cell_type": "markdown",
		   "metadata": {},
		   "source": [
			"## Example 2.23: Circular_waveguide.sce"
		   ]
		  },
  {
"cell_type": "code",
	   "execution_count": null,
	   "metadata": {
	    "collapsed": true
	   },
	   "outputs": [],
"source": [
"//Page Number: 107\n",
"//Example 2.23\n",
"clc;\n",
"//Given\n",
"c=3D+8; //m/s\n",
"f=9D+9; //hz\n",
"a=5; //cm\n",
"a1=a/100; //m\n",
"e=1;\n",
"mu=1/(c*c);\n",
"p11=1.841;\n",
"\n",
"fc=(p11*c)/(2*%pi*a1);\n",
"//Maximum power transmitted\n",
"pmax=1790*(a1*a1)*sqrt(1-((fc/f)^2)); \n",
"disp('kW',pmax,'Maximum power transmitted:');"
   ]
   }
,
{
		   "cell_type": "markdown",
		   "metadata": {},
		   "source": [
			"## Example 2.24: Air_filled_circular_waveguide.sce"
		   ]
		  },
  {
"cell_type": "code",
	   "execution_count": null,
	   "metadata": {
	    "collapsed": true
	   },
	   "outputs": [],
"source": [
"//Page Number: 108\n",
"//Example 2.26\n",
"clc;\n",
"//Given\n",
"c=3D+8; //m/s\n",
"a=5; //cm\n",
"a1=a/100; //m\n",
"f=3D+9; //hz\n",
"p11=1.841;\n",
"e=1;\n",
"w=2*%pi*f;\n",
"\n",
"//(i) Cut off frequency\n",
"fc=(p11*c)/(2*%pi*a1);\n",
"disp('Ghz',fc/10^9,'Cut off frequency:');\n",
"\n",
"//(ii) Guide wavelength\n",
"bet=sqrt(((w*w)/(c*c))-((p11/a1)^2));\n",
"lamg=(2*%pi)/bet; \n",
"lamg1=lamg*100; //cm\n",
"disp('cm',lamg1,'Guide wavelength:');\n",
"\n",
"//(iii) Wave impedance\n",
"zte=(w*%pi*4D-7)/bet;\n",
"disp('ohm',round(zte),'Wave impedance:');"
   ]
   }
,
{
		   "cell_type": "markdown",
		   "metadata": {},
		   "source": [
			"## Example 2.25: Air_filled_rectangular_waveguide.sce"
		   ]
		  },
  {
"cell_type": "code",
	   "execution_count": null,
	   "metadata": {
	    "collapsed": true
	   },
	   "outputs": [],
"source": [
"//Page Number:108 \n",
"//Example 2.25\n",
"clc;\n",
"//Given\n",
"c=3D+8; //m/s\n",
"p01=2.405;\n",
"a=1/100;; //cm\n",
"p11=1.841;\n",
"\n",
"fc01=((c*p01)/(2*%pi*a));\n",
"fc11=((c*p11)/(2*%pi*a));\n",
"bw=fc01-fc11;\n",
"disp('Ghz',bw/10^9,'Bandwidth:');"
   ]
   }
,
{
		   "cell_type": "markdown",
		   "metadata": {},
		   "source": [
			"## Example 2.26: Rectangular_Waveguide.sce"
		   ]
		  },
  {
"cell_type": "code",
	   "execution_count": null,
	   "metadata": {
	    "collapsed": true
	   },
	   "outputs": [],
"source": [
"//Page Number: 109\n",
"//Example 2.26\n",
"clc;\n",
"//Given\n",
"c=3D+8; //m/s\n",
"a=2.286; //cm\n",
"f=5D+9; //Hz\n",
"er=2.25; \n",
"tandel=1D-3;\n",
"w=2*%pi*f;\n",
"mu=4D-7;\n",
"sig=5.8D+7; //s/m\n",
"\n",
"lamc=2*a;\n",
"lamm=c/f;//m\n",
"lam=lamm*100;//cm\n",
"\n",
"ermax=(lam/a)^2;\n",
"disp(ermax,'Maximum value of dielectric constant:');\n",
"ermin=(lam/(2*a))^2;\n",
"disp(ermin,'Minimum value of dielectric constant:');\n",
"\n",
"//Guide wavelength\n",
"lam1=lam/sqrt(er);//cm\n",
"lamg=lam1/sqrt(1-(lam1/lamc)^2);\n",
"disp('cm',lamg,'Guide wavelength:');\n",
"\n",
"lamm1=lam1/100;\n",
"ad=(%pi/lamm1)*(tandel/sqrt(1-(lam1/lamc)^2));\n",
"disp('Np/m',ad,'ad:');\n",
"bet=2*%pi/lamg;\n",
"disp('rad/cm',bet,'Beta:');\n",
"vp=w/(bet*100);\n",
"disp('m/s',vp,'Phase velocity:');\n",
"\n",
""
   ]
   }
,
{
		   "cell_type": "markdown",
		   "metadata": {},
		   "source": [
			"## Example 2.27: Circular_Waveguide.sce"
		   ]
		  },
  {
"cell_type": "code",
	   "execution_count": null,
	   "metadata": {
	    "collapsed": true
	   },
	   "outputs": [],
"source": [
"//Page Number: 110\n",
"//Example 2.27\n",
"clc;\n",
"//Given\n",
"c=3D+8; //m/s\n",
"a=0.5; //cm\n",
"a1=a/100; //m\n",
"f=14D+9; //Hz\n",
"er=2.08;\n",
"p11=1.841;\n",
"p01=2.405;\n",
"tandel=4D-4;\n",
"w=2*%pi*f;\n",
"u=%pi*4D-7;\n",
"sig=4.1D+7;\n",
"et=377;\n",
"\n",
"//(i) Cut off frequencies\n",
"fcte11=p11*c/(2*%pi*a1*sqrt(er));\n",
"fctm01=p01*c/(2*%pi*a1*sqrt(er));\n",
"disp('Ghz',fcte11/10^9,'Cut off frequencies for TE11 mode:');\n",
"disp('Ghz',fctm01/10^9,'Cut off frequencies for TM01 mode:');\n",
"\n",
"//(ii) Overall noise\n",
"//Dielectric attenuation\n",
"ad=(%pi*sqrt(er)*tandel*f)/(c*sqrt(1-((fcte11/f)^2)));\n",
"disp('dB/m',ad*8.686,'Dielectric attenuation:');\n",
"\n",
"//Conductor attenuation\n",
"k=(2*%pi*f*sqrt(er))/c;\n",
"bet=sqrt((k*k)-((p11/a1)^2));\n",
"//Surface resistance\n",
"rs=sqrt((w*u)/(2*sig));\n",
"kc2=(p11/a1)^2;\n",
"\n",
"ac=(rs*(kc2-((k^2)/((p11^2)-1))))/(a1*k*et*bet);\n",
"disp('dB/m',ac*8.686,'Conductor attenuation:');\n",
"\n",
"//Total attenuation\n",
"a=(ac+ad)*8.686;\n",
"disp('dB/m',a,'Total attenuation:');\n",
"ta=a*0.3;\n",
"disp('dB',ta,'Total attenuation in 30 cm line:');\n",
"\n",
"//Answer for condcutor attenuation is wrong in book, hence answer for total loss is different"
   ]
   }
,
{
		   "cell_type": "markdown",
		   "metadata": {},
		   "source": [
			"## Example 2.28: Rectangular_Waveguide.sce"
		   ]
		  },
  {
"cell_type": "code",
	   "execution_count": null,
	   "metadata": {
	    "collapsed": true
	   },
	   "outputs": [],
"source": [
"//Page Number: 112\n",
"//Example 2.28\n",
"clc;\n",
"//Given\n",
"c=3D+8; //m/s\n",
"er=9;\n",
"a=7; //cm\n",
"a1=a/100; //m\n",
"b=3.5; //cm\n",
"b1=b/100; //m\n",
"ur=1;\n",
"f1=2D+9; //Hz\n",
"\n",
"//(i) Cut off frequency\n",
"lamc=2*a1;\n",
"fc=c/(lamc*sqrt(ur*er));\n",
"disp('Ghz',fc/10^9,'Cut off frequency:');\n",
"\n",
"//(ii) Phase velocity\n",
"lam=c/f1;//m\n",
"lam1=lam*100;//cm\n",
"lamc1=lamc*100;//cm\n",
"lamg=lam1/(sqrt((ur*er)-((lamc1/lam1)^2))); //cm\n",
"lamg1=lamg/100;//m\n",
"vp=f1*lamg1;\n",
"disp('m/s',vp,'Phase velocity:');\n",
"\n",
"///(iii)Guide wavelength\n",
"disp('cm',lamg,'Guide wavelength:');"
   ]
   }
,
{
		   "cell_type": "markdown",
		   "metadata": {},
		   "source": [
			"## Example 2.29: Circular_waveguide.sce"
		   ]
		  },
  {
"cell_type": "code",
	   "execution_count": null,
	   "metadata": {
	    "collapsed": true
	   },
	   "outputs": [],
"source": [
"//Page Number: 112\n",
"//Example 2.29\n",
"clc;\n",
"//Given\n",
"c=3D+8; //m/s\n",
"fc=9D+9; //Hz\n",
"er=1; \n",
"er1=4;\n",
"p11=1.841;\n",
"\n",
"//(i) air filled\n",
"a=(p11*c)/(2*%pi*fc*sqrt(er));\n",
"disp('cm',a*100,'Inside diameter if air filled:');\n",
"//(ii) dielectric field\n",
"a1=(p11*c)/(2*%pi*fc*sqrt(er1));\n",
"disp('cm',a1*100,'Inside diameter if dielectric filled:');\n",
"\n",
"//Answers are calculated wrong in book"
   ]
   }
,
{
		   "cell_type": "markdown",
		   "metadata": {},
		   "source": [
			"## Example 2.2: Rectangular_Waveguide.sce"
		   ]
		  },
  {
"cell_type": "code",
	   "execution_count": null,
	   "metadata": {
	    "collapsed": true
	   },
	   "outputs": [],
"source": [
"//Page Number: 92\n",
"//Example 2.2\n",
"clc;\n",
"//Given,\n",
"c=3D+8; //m/s\n",
"a=2.5; //cm\n",
"b=5; //cm\n",
"lam=4.5; //cm\n",
"\n",
"lamc=2*b;\n",
"\n",
"//Guide wavelength\n",
"lamg=lam/(sqrt(1-((lam/lamc)^2)));\n",
"disp('cm',lamg,'Guide wavelength:');\n",
"\n",
"//Phase constant\n",
"bet=(2*%pi)/lamg;\n",
"bet=bet*100; //rad/m\n",
"disp('rad/m',bet,'Phase constant:');\n",
"\n",
"//Phase velocity\n",
"w=(2*%pi*c)/lam;\n",
"vp=w/bet;\n",
"disp('m/s',vp,'Phase velocity:');"
   ]
   }
,
{
		   "cell_type": "markdown",
		   "metadata": {},
		   "source": [
			"## Example 2.30: Cutoff_frequencies.sce"
		   ]
		  },
  {
"cell_type": "code",
	   "execution_count": null,
	   "metadata": {
	    "collapsed": true
	   },
	   "outputs": [],
"source": [
"//Page Number: 113\n",
"//Example 2.30\n",
"clc;\n",
"//Given\n",
"c=3D+8; //m/s\n",
"er=2.55;\n",
"d=1; //mm\n",
"d1=d/1000;//m\n",
"\n",
"//Cut off frequencies\n",
"fctm0=0;\n",
"disp('Ghz',fctm0,'Cut off frequency for mode TM0:');\n",
"\n",
"fcte1=c/(4*d1*sqrt(er-1));\n",
"disp('Ghz',fcte1/10^9,'Cut off frequency at mode TE1:');\n",
"\n",
"fctm1=c/(2*d1*sqrt(er-1));\n",
"disp('Ghz',fctm1/10^9,'Cut off frequency at mode TM1:');\n",
"\n",
"\n",
"//Answers are calculated wrong in book"
   ]
   }
,
{
		   "cell_type": "markdown",
		   "metadata": {},
		   "source": [
			"## Example 2.31: Dielectric_constant.sce"
		   ]
		  },
  {
"cell_type": "code",
	   "execution_count": null,
	   "metadata": {
	    "collapsed": true
	   },
	   "outputs": [],
"source": [
"//Page Number: 113\n",
"//Example 2.31\n",
"clc;\n",
"//Given,\n",
"c=3D+8; //m/s\n",
"f=15D+9; //hz\n",
"d=5; //mm\n",
"d1=d/1000; //m\n",
"\n",
"//Cut off frequency\n",
"fc=0.8*f;\n",
"//Dielctric constant\n",
"er=(c/(2*d1*fc))^2+1;\n",
"disp(er,'Dielectric constant:');"
   ]
   }
,
{
		   "cell_type": "markdown",
		   "metadata": {},
		   "source": [
			"## Example 2.3: Rectangular_Waveguide.sce"
		   ]
		  },
  {
"cell_type": "code",
	   "execution_count": null,
	   "metadata": {
	    "collapsed": true
	   },
	   "outputs": [],
"source": [
"//Page Number: 92\n",
"//Example 2.3\n",
"clc;\n",
"//Given,\n",
"\n",
"c=3D+8; //m/s\n",
"a=4; //cm\n",
"b=2; //cm\n",
"f=10D+9; //Hz\n",
"m=1; \n",
"n=1;\n",
"\n",
"\n",
"//Cutoff wavelength\n",
"lamc=2/sqrt((m/a)^2+(n/b)^2);\n",
"disp('cm',lamc,'Cut-off wavelength:');\n",
"\n",
"//Wave impedance\n",
"lam=c/f;//m\n",
"lam=lam*100;//cm\n",
"eeta=120*%pi;\n",
"z0=eeta*sqrt(1-(lam/lamc)^2);\n",
"disp('ohm',z0,'Wave impedance:');"
   ]
   }
,
{
		   "cell_type": "markdown",
		   "metadata": {},
		   "source": [
			"## Example 2.4: Wider_dimension.sce"
		   ]
		  },
  {
"cell_type": "code",
	   "execution_count": null,
	   "metadata": {
	    "collapsed": true
	   },
	   "outputs": [],
"source": [
"//Page Number: 93\n",
"//Example 2.4\n",
"clc;\n",
"//Given,\n",
"c=3D+8; //m/s\n",
"f=10D+9; //Hz\n",
"zte=410; //ohm\n",
"\n",
"//Wider dimension\n",
"lam=c/f;//m\n",
"lam=lam*100;//cm\n",
"a=3/(2*(sqrt(1-(120*%pi/zte)^2)));\n",
"disp('cm',a,'Wider dimension:');"
   ]
   }
,
{
		   "cell_type": "markdown",
		   "metadata": {},
		   "source": [
			"## Example 2.5: Rectangular_waveguide.sce"
		   ]
		  },
  {
"cell_type": "code",
	   "execution_count": null,
	   "metadata": {
	    "collapsed": true
	   },
	   "outputs": [],
"source": [
"//Page Number: 93\n",
"//Example 2.5\n",
"clc;\n",
"//Given,\n",
"c=3D+8; //m/s\n",
"a=3.0; //cm\n",
"b=1.5; //cm\n",
"mur=1;\n",
"er=2.25;\n",
"x=mur*er;\n",
"\n",
"//(i) Cutoff wavelength and frequencuy\n",
"disp('TE10 mode');\n",
"m1=1;\n",
"n1=0;\n",
"lamc10=2/sqrt((m1/a)^2+(n1/b)^2);\n",
"disp('cm',lamc10,'Cut-off wavelength:');\n",
"lamc10=lamc10/100;\n",
"f10=c/(lamc10*sqrt(x));\n",
"disp('Ghz',f10/1D+9,'Cutoff frequency:');\n",
"\n",
"disp('TE20 mode');\n",
"m2=2;\n",
"n2=0;\n",
"lamc20=2/sqrt((m2/a)^2+(n2/b)^2);\n",
"disp('cm',lamc20,'Cut-off wavelength:');\n",
"lamc20=lamc20/100;\n",
"f20=c/(lamc20*sqrt(x));\n",
"disp('Ghz',f20/1D+9,'Cutoff frequency:');\n",
"\n",
"disp('TE11 mode');\n",
"m3=1;\n",
"n3=1;\n",
"lamc11=2/sqrt((m3/a)^2+(n3/b)^2);\n",
"disp('cm',lamc11,'Cut-off wavelength:');\n",
"lamc11=lamc11/100;\n",
"f11=c/(lamc11*sqrt(x));\n",
"disp('Ghz',f11/1D+9,'Cutoff frequency:');\n",
"\n",
"//(ii) lambg and Z0\n",
"f=4D+9; //Hz\n",
"lam=c/f;\n",
"lamg=lam/(sqrt(x-((lam/lamc10)^2)));\n",
"disp('cm',lamg*100,'Guide wavelength:');\n",
"\n",
"fc=3.33D+9; //Hz\n",
"Z0=(120*%pi*(1/sqrt(x))*(b/a))/sqrt(1-((fc/f)^2));\n",
"disp('ohm',round(Z0),'Impedance:');"
   ]
   }
,
{
		   "cell_type": "markdown",
		   "metadata": {},
		   "source": [
			"## Example 2.7: Rectangular_waveguide.sce"
		   ]
		  },
  {
"cell_type": "code",
	   "execution_count": null,
	   "metadata": {
	    "collapsed": true
	   },
	   "outputs": [],
"source": [
"//Page Number: 95\n",
"//Example 2.5\n",
"clc;\n",
"//Given,\n",
"c=3D+8; //m/s\n",
"a=4; //cm\n",
"b=2; //cm\n",
"\n",
"//(i) Mode\n",
"lamc=2*a; //cm\n",
"lamcm=lamc/100; //m\n",
"fc=c/lamcm;\n",
"//20% above fc\n",
"f=1.2*fc; //Hz\n",
"\n",
"//Operating wavelength\n",
"lam1=c/f; //cm\n",
"\n",
"//For TE10 mode\n",
"lamc10=2*b;//cm\n",
"lamcm10=lamc10/100;//m\n",
"fc10=c/lamcm10;\n",
"disp('Hence mode of operation is TE10','Hz',fc,'Since guide is operating at');\n",
"\n",
"//(ii)Guide wavelength\n",
"lamm1=lam1*100;//cm\n",
"lamg=lamm1/(sqrt(1-(lamm1/lamc)^2));\n",
"disp('cm',lamg,'Guide wavelength:');\n",
"\n",
"//(iii) Phase velocity\n",
"vp=f*lamg;\n",
"disp('m/s',vp/100,'Phase velocity:');\n",
"\n",
"//(iii) Group velocity\n",
"vg=c^2/vp;\n",
"disp('m/s',vg,'Group velocity:');"
   ]
   }
,
{
		   "cell_type": "markdown",
		   "metadata": {},
		   "source": [
			"## Example 2.8: Lossless_Rectangular_Waveguide.sce"
		   ]
		  },
  {
"cell_type": "code",
	   "execution_count": null,
	   "metadata": {
	    "collapsed": true
	   },
	   "outputs": [],
"source": [
"//Page Number: 96\n",
"//Example 2.8\n",
"clc;\n",
"//Given,\n",
"c=3D+8; //m/s\n",
"a=7; //cm\n",
"b=3.5; //cm\n",
"f=3D+9; //Hz\n",
"h0=10; //amp/m\n",
"\n",
"//Wave impedance\n",
"lamc=2*a;\n",
"lam=c/f;//m\n",
"lam=lam*100;//cm\n",
"lamg=lam/sqrt(1-(lam/lamc)^2); //cm\n",
"z0=377*lamg/h0; //ohm\n",
"\n",
"a1=a/100;//m\n",
"b1=b/100;//m\n",
"//Average power transmitted\n",
"p=(z0*h0*h0*a1*b1)/4;\n",
"disp('W',p,'Average power transmitted:');\n",
"\n",
"//Peak electric field\n",
"e0=z0*h0;\n",
"disp('kV/m',e0/1000,'Peak electric field:');\n",
"\n",
"//Answer for p is given as 28.3 W but it should be 32.99W"
   ]
   }
,
{
		   "cell_type": "markdown",
		   "metadata": {},
		   "source": [
			"## Example 2.9: Dimensions.sce"
		   ]
		  },
  {
"cell_type": "code",
	   "execution_count": null,
	   "metadata": {
	    "collapsed": true
	   },
	   "outputs": [],
"source": [
"//Page Number: 96\n",
"//Example 2.9\n",
"clc;\n",
"//Given,\n",
"c=3D+8; //m/s\n",
"fc=3D+9; //Hz\n",
"\n",
"//Cutoff wavelength\n",
"lamc=c/fc; \n",
"a=lamc/2;//m\n",
"a=a*100;//cm\n",
"disp('Dimensions:');\n",
"disp('cm',a,'a:');\n",
"b=a/2; //cm\n",
"disp('cm',b,'b:');"
   ]
   }
],
"metadata": {
		  "kernelspec": {
		   "display_name": "Scilab",
		   "language": "scilab",
		   "name": "scilab"
		  },
		  "language_info": {
		   "file_extension": ".sce",
		   "help_links": [
			{
			 "text": "MetaKernel Magics",
			 "url": "https://github.com/calysto/metakernel/blob/master/metakernel/magics/README.md"
			}
		   ],
		   "mimetype": "text/x-octave",
		   "name": "scilab",
		   "version": "0.7.1"
		  }
		 },
		 "nbformat": 4,
		 "nbformat_minor": 0
}
