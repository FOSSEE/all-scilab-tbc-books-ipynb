{
"cells": [
 {
		   "cell_type": "markdown",
	   "metadata": {},
	   "source": [
       "# Chapter 3: Solution of Linear System of Equations and Matrix Inversion"
	   ]
	},
{
		   "cell_type": "markdown",
		   "metadata": {},
		   "source": [
			"## Example 3.10: Matrix_Inverse_using_Gauss_Jordan_Method.sce"
		   ]
		  },
  {
"cell_type": "code",
	   "execution_count": null,
	   "metadata": {
	    "collapsed": true
	   },
	   "outputs": [],
"source": [
"//Example 3.10\n",
"clc\n",
"clear\n",
"\n",
"A = [1 1 1; 4 3 -1; 3 5 3];\n",
"n = length (A(1,:));\n",
"Aug = [A,eye(n,n)];\n",
"\n",
"N = 1:n;\n",
"for i = 1:n\n",
"    dummy1 = N;\n",
"    dummy1(i) = [];\n",
"    index(i,:) = dummy1;\n",
"end\n",
"\n",
"// Forward Elimination\n",
"for j = 1:n\n",
"    [dummy2,t] = max(abs(Aug(j:n,j)));\n",
"    lrow = t+j-1;\n",
"    Aug([j,lrow],:) = Aug([lrow,j],:);\n",
"    Aug(j,:) = Aug(j,:) / Aug(j,j);\n",
"    for i = index(j,:)\n",
"        Aug(i,:) = Aug(i,:) - Aug(i,j) / Aug(j,j) * Aug(j,:);\n",
"    end\n",
"end\n",
"Inv_A = Aug(:,n+1:2*n);\n",
"disp(Inv_A,'Inverse of A (A-1) = ')"
   ]
   }
,
{
		   "cell_type": "markdown",
		   "metadata": {},
		   "source": [
			"## Example 3.1: Gauss_Elimination_Method.sce"
		   ]
		  },
  {
"cell_type": "code",
	   "execution_count": null,
	   "metadata": {
	    "collapsed": true
	   },
	   "outputs": [],
"source": [
"//Example 3.1\n",
"clc\n",
"clear\n",
"\n",
"A = [2 3 -1; 4 4 -3; -2 3 -1];  //Coefficient Matrix\n",
"B = [5; 3; 1];  //Constant Matrix\n",
"\n",
"n = length(B);\n",
"Aug = [A,B];\n",
"\n",
"// Forward Elimination\n",
"for j = 1:n-1\n",
"    for i = j+1:n\n",
"        Aug(i,j:n+1) = Aug(i,j:n+1) - Aug(i,j) / Aug(j,j) * Aug(j,j:n+1);\n",
"    end\n",
"end\n",
"\n",
"// Backward Substitution\n",
"x = zeros(n,1);\n",
"x(n) = Aug(n,n+1) / Aug(n,n);\n",
"for i = n-1:-1:1\n",
"    x(i) = (Aug(i,n+1)-Aug(i,i+1:n)*x(i+1:n))/Aug(i,i);\n",
"end\n",
"disp(strcat(['x = ',string(x(1))]))\n",
"disp(strcat(['y = ',string(x(2))]))\n",
"disp(strcat(['z = ',string(x(3))]))\n",
""
   ]
   }
,
{
		   "cell_type": "markdown",
		   "metadata": {},
		   "source": [
			"## Example 3.2: Gauss_Elimination_Method_with_Partial_Pivoting.sce"
		   ]
		  },
  {
"cell_type": "code",
	   "execution_count": null,
	   "metadata": {
	    "collapsed": true
	   },
	   "outputs": [],
"source": [
"//Example 3.2\n",
"clc\n",
"clear\n",
"\n",
"A = [1 1 1; 3 3 4; 2 1 3];  //Coefficient Matrix\n",
"B = [7; 24; 16];  //Constant Matrix\n",
"\n",
"n = length(B);\n",
"Aug = [A,B];\n",
"\n",
"// Forward Elimination\n",
"for j = 1:n-1\n",
"    // Partial Pivoting\n",
"    [dummy,t] = max(abs(Aug(j:n,j)));\n",
"    lrow = t(1)+j-1;\n",
"    Aug([j,lrow],:) = Aug([lrow,j],:);\n",
"    \n",
"    for i = j+1:n\n",
"        Aug(i,j:n+1) = Aug(i,j:n+1) - Aug(i,j) / Aug(j,j) * Aug(j,j:n+1);\n",
"    end\n",
"end\n",
"\n",
"// Backward Substitution\n",
"x = zeros(n,1);\n",
"x(n) = Aug(n,n+1) / Aug(n,n);\n",
"for i = n-1:-1:1\n",
"    x(i) = (Aug(i,n+1)-Aug(i,i+1:n)*x(i+1:n))/Aug(i,i);\n",
"end\n",
"disp(strcat(['x = ',string(x(1))]))\n",
"disp(strcat(['y = ',string(x(2))]))\n",
"disp(strcat(['z = ',string(x(3))]))\n",
""
   ]
   }
,
{
		   "cell_type": "markdown",
		   "metadata": {},
		   "source": [
			"## Example 3.3: Gauss_Elimination_Method_with_Partial_Pivoting.sce"
		   ]
		  },
  {
"cell_type": "code",
	   "execution_count": null,
	   "metadata": {
	    "collapsed": true
	   },
	   "outputs": [],
"source": [
"//Example 3.3\n",
"clc\n",
"clear\n",
"\n",
"A = [0 4 2 8; 4 10 5 4; 4 5 6.5 2; 9 4 4 0];  //Coefficient Matrix\n",
"B = [24; 32; 26; 21];  //Constant Matrix\n",
"\n",
"n = length(B);\n",
"Aug = [A,B];\n",
"\n",
"// Forward Elimination\n",
"for j = 1:n-1\n",
"    // Partial Pivoting\n",
"    [dummy,t] = max(abs(Aug(j:n,j)));\n",
"    lrow = t(1)+j-1;\n",
"    Aug([j,lrow],:) = Aug([lrow,j],:);\n",
"    \n",
"    for i = j+1:n\n",
"        Aug(i,j:n+1) = Aug(i,j:n+1) - Aug(i,j) / Aug(j,j) * Aug(j,j:n+1);\n",
"    end\n",
"end\n",
"\n",
"// Backward Substitution\n",
"x = zeros(n,1);\n",
"x(n) = Aug(n,n+1) / Aug(n,n);\n",
"for i = n-1:-1:1\n",
"    x(i) = (Aug(i,n+1)-Aug(i,i+1:n)*x(i+1:n))/Aug(i,i);\n",
"end\n",
"\n",
"disp(strcat(['x1 = ',string(x(1))]))\n",
"disp(strcat(['x2 = ',string(x(2))]))\n",
"disp(strcat(['x3 = ',string(x(3))]))\n",
"disp(strcat(['x4 = ',string(x(4))]))"
   ]
   }
,
{
		   "cell_type": "markdown",
		   "metadata": {},
		   "source": [
			"## Example 3.4: Gauss_Jordan_Method.sce"
		   ]
		  },
  {
"cell_type": "code",
	   "execution_count": null,
	   "metadata": {
	    "collapsed": true
	   },
	   "outputs": [],
"source": [
"//Example 3.4\n",
"clc\n",
"clear\n",
"\n",
"A = [1 2 1; 2 3 4; 4 3 2];\n",
"B = [8; 20; 16];\n",
"n = length (B);\n",
"Aug = [A,B];\n",
"\n",
"// Forward Elimination\n",
"for j = 1:n-1\n",
"    for i = j+1:n\n",
"        Aug(i,j:n+1) = Aug(i,j:n+1) - Aug(i,j) / Aug(j,j) * Aug(j,j:n+1);\n",
"    end\n",
"end\n",
"\n",
"// Backward Elimination\n",
"for j = n:-1:2\n",
"    Aug(1:j-1,:) = Aug(1:j-1,:) - Aug(1:j-1,j) / Aug(j,j) * Aug(j,:);\n",
"end\n",
"\n",
"// Diagonal Normalization\n",
"for j=1:n\n",
"    Aug(j,:) = Aug(j,:) / Aug(j,j);\n",
"end\n",
"x = Aug(:,n+1);\n",
"disp(strcat(['x = ',string(x(1))]))\n",
"disp(strcat(['y = ',string(x(2))]))\n",
"disp(strcat(['z = ',string(x(3))]))"
   ]
   }
,
{
		   "cell_type": "markdown",
		   "metadata": {},
		   "source": [
			"## Example 3.5: Crout_Reduction_Method.sce"
		   ]
		  },
  {
"cell_type": "code",
	   "execution_count": null,
	   "metadata": {
	    "collapsed": true
	   },
	   "outputs": [],
"source": [
"//Example 3.5\n",
"clc\n",
"clear\n",
"\n",
"A = [5 -2 1; 7 1 -5; 3 7 4];\n",
"B = [4; 8; 10];\n",
"\n",
"n = length (B);\n",
"L = zeros(n,n);         // L = Lower Triangular Matrix Initiation\n",
"U = eye(n,n);           // U = Upper Triangular Matrix Initiation\n",
"\n",
"// LU Decomposition\n",
"for i = 1:n\n",
"    sum1 = zeros(n-i+1,1);\n",
"    for k = 1:i-1\n",
"        sum1 = sum1 + L(i:n,k) * U(k,i);\n",
"    end\n",
"    L(i:n,i) = A(i:n,i) - sum1;\n",
"\n",
"    sum2 = zeros(1,n-i);\n",
"    for k = 1:i-1\n",
"        sum2 = sum2 + L(i,k) * U(k,i+1:n);\n",
"    end\n",
"    U(i,i+1:n) = (A(i,i+1:n) - sum2) / L(i,i);\n",
"end\n",
"\n",
"// Forward Substitution\n",
"D = ones(n,1);\n",
"for i = 1:n\n",
"    sum3 = 0;\n",
"    for k = 1:i-1\n",
"        sum3  = sum3 + L(i,k) * D(k);\n",
"    end\n",
"    D(i) = (B(i) - sum3) / L(i,i);\n",
"end\n",
"\n",
"// Back Substitution\n",
"x = ones(n,1);\n",
"for i = n:-1:1\n",
"    sum4 = 0;\n",
"    for k = i+1:n\n",
"        sum4 = sum4 + U(i,k) * x(k);\n",
"    end\n",
"    x(i) = D(i) - sum4;\n",
"end\n",
"\n",
"disp(strcat(['x1 = ',string(x(1))]))\n",
"disp(strcat(['x2 = ',string(x(2))]))\n",
"disp(strcat(['x3 = ',string(x(3))]))\n",
""
   ]
   }
,
{
		   "cell_type": "markdown",
		   "metadata": {},
		   "source": [
			"## Example 3.6: Jacobi_Iterative_Method.sce"
		   ]
		  },
  {
"cell_type": "code",
	   "execution_count": null,
	   "metadata": {
	    "collapsed": true
	   },
	   "outputs": [],
"source": [
"//Example 3.6\n",
"clc\n",
"clear\n",
"\n",
"A = [83 11 -4; 7 52 13; 3 8 29];\n",
"B = [95; 104; 71];\n",
"\n",
"n = length (B);\n",
"tol = 1e-4;\n",
"iter = 1;\n",
"maxit = 5;\n",
"\n",
"x = zeros(n,1);            //Intial guess\n",
"E = ones(n,1);            //Assuming to avoid variable size error\n",
"S = diag(diag(A));\n",
"\n",
"\n",
"while (1)\n",
"    x(:,iter+1) = S\(B + (S-A)*(x(:,iter)));\n",
"    E(:,iter+1) = (x(:,iter+1)-x(:,iter))./x(:,iter+1)*100;\n",
"    if x(:,iter) == 0\n",
"        Error = 1;\n",
"    else\n",
"        Error = sqrt((sum((E(:,iter+1)).^2))/n);\n",
"    end\n",
"    \n",
"    if Error <= tol | iter == maxit\n",
"        break\n",
"    end\n",
"    iter = iter+1;\n",
"end\n",
"xact = x(:,iter);\n",
"x = round(x*10^4)/10^4;\n",
"x(:,1) = [];\n",
"mprintf('%s %3s %9s %9s','Iter No.','x','y','z');\n",
"disp([(1:iter)' x']);"
   ]
   }
,
{
		   "cell_type": "markdown",
		   "metadata": {},
		   "source": [
			"## Example 3.7: Gauss_Seidel_Method.sce"
		   ]
		  },
  {
"cell_type": "code",
	   "execution_count": null,
	   "metadata": {
	    "collapsed": true
	   },
	   "outputs": [],
"source": [
"//Example 3.7\n",
"clc\n",
"clear\n",
"\n",
"A = [1 -1/4 -1/4 0; -1/4 1 0 -1/4; -1/4 0 1 -1/4; 0 -1/4 -1/4 1];\n",
"B = [1/2; 1/2; 1/4; 1/4];\n",
"\n",
"n = length (B);\n",
"tol = 1e-4;\n",
"iter = 1;\n",
"maxit = 5;\n",
"\n",
"x = zeros(n,1);            //Intial guess\n",
"E = ones(n,1);            //Assuming to avoid variable size error\n",
"S = diag(diag(A));\n",
"T = S-A;\n",
"xold = x;\n",
"\n",
"while (1)\n",
"    for i = 1:n\n",
"        x(i,iter+1) = (B(i) + T(i,:) * xold) / A(i,i);\n",
"        E(i,iter+1) = (x(i,iter+1)-xold(i))/x(i,iter+1)*100;\n",
"        xold(i) = x(i,iter+1);\n",
"    end\n",
"    \n",
"    if x(:,iter) == 0\n",
"        E = 1;\n",
"    else\n",
"        E = sqrt((sum((E(:,iter+1)).^2))/n);\n",
"    end\n",
"    \n",
"    if E <= tol | iter == maxit\n",
"        break\n",
"    end\n",
"    iter = iter + 1;\n",
"end\n",
"X = x(:,iter);\n",
"x = round(x*10^5)/10^5;\n",
"x(:,1) = [];\n",
"mprintf('%s %3s %11s %10s %10s','Iter No.','x1','x2','x3','x4');\n",
"disp([(1:iter)' x']);"
   ]
   }
,
{
		   "cell_type": "markdown",
		   "metadata": {},
		   "source": [
			"## Example 3.8: Relaxation_Method.sce"
		   ]
		  },
  {
"cell_type": "code",
	   "execution_count": null,
	   "metadata": {
	    "collapsed": true
	   },
	   "outputs": [],
"source": [
"//Example 3.8\n",
"clc\n",
"clear\n",
"\n",
"A = [6 -3 1;  2 1 -8;1 -7 1];\n",
"b = [11; -15; 10];\n",
"\n",
"n = length (b);\n",
"tol = 1e-4;\n",
"iter = 1;\n",
"maxit = 9;\n",
"\n",
"x = zeros(1,n);            //Intial guess\n",
"absA = abs(A);\n",
"[dummy,index] = max(absA(1,:),absA(2,:),absA(3,:));\n",
"if length(unique(index)) == n\n",
"    nu_T = diag(diag(A(index,:))) - A(index,:);\n",
"    if abs(diag(A(index,:))) - (sum(abs(nu_T),2)) > 0\n",
"        A(index,:) = A;\n",
"        b(index,:) = b;\n",
"    end\n",
"end\n",
"\n",
"for iter = 1:maxit\n",
"    R(iter,:) = b' - x(iter,:) * A';\n",
"    [mx,i] = max(abs(R(iter,:)));\n",
"    Rmax(iter) = R(iter,i);\n",
"    dx(iter) = Rmax(iter) ./ A(i,i);\n",
"    x(iter+1,:) = x(iter,:);\n",
"    x(iter+1,i) = x(iter,i) + dx(iter);\n",
"end\n",
"R = round(R*10^4)/10^4;\n",
"Rmax = round(Rmax*10^4)/10^4;\n",
"dx = round(dx*10^4)/10^4;\n",
"x = round(x*10^4)/10^4;\n",
"mprintf('%s %3s %9s %9s %12s %10s %6s %9s %9s','Iter No.','R1','R2','R3','Max Ri','Diff dxi','x1','x2','x3');\n",
"disp([(1:maxit)' R Rmax dx x(1:maxit,:)])"
   ]
   }
,
{
		   "cell_type": "markdown",
		   "metadata": {},
		   "source": [
			"## Example 3.9: Matrix_Inverse_using_Gauss_Elimination_Method.sce"
		   ]
		  },
  {
"cell_type": "code",
	   "execution_count": null,
	   "metadata": {
	    "collapsed": true
	   },
	   "outputs": [],
"source": [
"//Example 3.9\n",
"clc\n",
"clear\n",
"\n",
"A = [1 1 1; 4 3 -1; 3 5 3];\n",
"n = length (A(1,:));\n",
"Aug = [A,eye(n,n)];\n",
"\n",
"// Forward Elimination\n",
"for j = 1:n-1\n",
"    for i = j+1:n\n",
"        Aug(i,j:2*n) = Aug(i,j:2*n) - Aug(i,j) / Aug(j,j) * Aug(j,j:2*n);\n",
"    end\n",
"end\n",
"\n",
"// Backward Elimination\n",
"for j = n:-1:2\n",
"    Aug(1:j-1,:) = Aug(1:j-1,:) - Aug(1:j-1,j) / Aug(j,j) * Aug(j,:);\n",
"end\n",
"\n",
"// Diagonal Normalization\n",
"for j=1:n\n",
"    Aug(j,:) = Aug(j,:) / Aug(j,j);\n",
"end\n",
"Inv_A = Aug(:,n+1:2*n);\n",
"disp(Inv_A,'Inverse of A (A-1) = ')"
   ]
   }
],
"metadata": {
		  "kernelspec": {
		   "display_name": "Scilab",
		   "language": "scilab",
		   "name": "scilab"
		  },
		  "language_info": {
		   "file_extension": ".sce",
		   "help_links": [
			{
			 "text": "MetaKernel Magics",
			 "url": "https://github.com/calysto/metakernel/blob/master/metakernel/magics/README.md"
			}
		   ],
		   "mimetype": "text/x-octave",
		   "name": "scilab",
		   "version": "0.7.1"
		  }
		 },
		 "nbformat": 4,
		 "nbformat_minor": 0
}
