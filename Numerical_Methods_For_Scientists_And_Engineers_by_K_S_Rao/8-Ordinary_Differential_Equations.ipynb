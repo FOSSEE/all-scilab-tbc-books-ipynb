{
"cells": [
 {
		   "cell_type": "markdown",
	   "metadata": {},
	   "source": [
       "# Chapter 8: Ordinary Differential Equations"
	   ]
	},
{
		   "cell_type": "markdown",
		   "metadata": {},
		   "source": [
			"## Example 8.1: Initial_Value_Problem_using_Taylor_Series_Method.sce"
		   ]
		  },
  {
"cell_type": "code",
	   "execution_count": null,
	   "metadata": {
	    "collapsed": true
	   },
	   "outputs": [],
"source": [
"//Example 8.1\n",
"\n",
"clc\n",
"clear\n",
"\n",
"function [f] = dydt(t,y)\n",
"    f = t+y;\n",
"endfunction\n",
"\n",
"y0 = 0;\n",
"t0 = 1;\n",
"t = 1.2;\n",
"h = 0.1;\n",
"\n",
"n = (t-t0)/h;\n",
"tt = t0;\n",
"y = y0;\n",
"den = [1 2 6 24 120];\n",
"for i = 1:n\n",
"    d2ydt = 1 + dydt(tt,y);\n",
"    d3ydt = d2ydt;\n",
"    d4ydt = d3ydt;\n",
"    d5ydt = d4ydt;\n",
"    dy = [dydt(tt,y) d2ydt d3ydt d4ydt d5ydt];\n",
"    tt = tt + h;\n",
"    for j = 1:length(dy)\n",
"        y = y + dy(j)*(tt-t0)^j/den(j);\n",
"    end\n",
"    t0 = tt;\n",
"end\n",
"disp(y,'y(1.2) = ')\n",
"\n",
"function [f] = closed(t)\n",
"    f = -t -1 + 2*exp(t-1);\n",
"endfunction\n",
"yclosed = closed(1.2);\n",
"yclosed = round(yclosed*10^4)/10^4;\n",
"disp(yclosed,'y_closed form = ')\n",
"disp('Comparing the results obtained numerically and in closed form, we observe ')\n",
"disp('that they agree up to four decimals')"
   ]
   }
,
{
		   "cell_type": "markdown",
		   "metadata": {},
		   "source": [
			"## Example 8.2: Initial_Value_Problem_using_Euler_Method.sce"
		   ]
		  },
  {
"cell_type": "code",
	   "execution_count": null,
	   "metadata": {
	    "collapsed": true
	   },
	   "outputs": [],
"source": [
"//Example 8.2\n",
"\n",
"clc\n",
"clear\n",
"\n",
"function [f] = dydt(t,y)\n",
"    f = (y-t) / (y+t);\n",
"endfunction\n",
"\n",
"y0 = 1;\n",
"t0 = 0;\n",
"t = 0.1;\n",
"n = 5;\n",
"h = (t-t0)/n;\n",
"\n",
"tt = t0;\n",
"y = y0;\n",
"for i = 1:n\n",
"    y = y +h*dydt(tt,y);\n",
"    y = round(y*10^4)/10^4;\n",
"    tt = tt + h;\n",
"end\n",
"disp(y,'y(t = 0.1) = ')"
   ]
   }
,
{
		   "cell_type": "markdown",
		   "metadata": {},
		   "source": [
			"## Example 8.3: Initial_Value_Problem_using_Modified_Euler_Method.sce"
		   ]
		  },
  {
"cell_type": "code",
	   "execution_count": null,
	   "metadata": {
	    "collapsed": true
	   },
	   "outputs": [],
"source": [
"//Example 8.3\n",
"\n",
"clc\n",
"clear\n",
"\n",
"function [f] = dydt(t,y)\n",
"    f = t + sqrt(y);\n",
"endfunction\n",
"\n",
"y0 = 1;\n",
"t0 = 0;\n",
"h = 0.2;\n",
"t = 0.6;\n",
"n = (t-t0)/h;\n",
"\n",
"tt = t0;\n",
"\n",
"for i = 1:n\n",
"    y11 = y0 + h*dydt(tt,y0);\n",
"    t1 = tt + h;\n",
"    y1 = y0 + h/2*(dydt(tt,y0) + dydt(t1,y11));\n",
"    y1 = round(y1*10^4)/10^4;\n",
"\n",
"    y(i) = y1;\n",
"    y0 = y1;\n",
"    tt = t1;\n",
"end\n",
"mprintf('%5s %8s','t','y')\n",
"disp([(t0+h:h:t)' y])"
   ]
   }
,
{
		   "cell_type": "markdown",
		   "metadata": {},
		   "source": [
			"## Example 8.4: Initial_Value_Problem_using_Second_Order_Runge_Kutta_Method.sce"
		   ]
		  },
  {
"cell_type": "code",
	   "execution_count": null,
	   "metadata": {
	    "collapsed": true
	   },
	   "outputs": [],
"source": [
"//Example 8.4\n",
"\n",
"clc\n",
"clear\n",
"\n",
"function [f] = fun1(x,y)\n",
"    f = (y+x) / (y-x);\n",
"endfunction\n",
"\n",
"function [f] = rk2(x,y)\n",
"    k1 = h*fun1(x,y);\n",
"    k2 = h*fun1(x+3/2*h,y+3/2*k1);\n",
"    f = y + 1/3*(2*k1+k2);\n",
"endfunction\n",
"\n",
"x0 = 0;\n",
"y0 = 1;\n",
"h = 0.2;\n",
"x = 0.4;\n",
"n = (x-x0)/h;\n",
"\n",
"for i = 1:n\n",
"    y = rk2(x0,y0);\n",
"    x0 = x0 + h;\n",
"    y0 = y;\n",
"    y = round(y*10^5)/10^5;\n",
"end\n",
"\n",
"disp(y,'y(0.4) = ')"
   ]
   }
,
{
		   "cell_type": "markdown",
		   "metadata": {},
		   "source": [
			"## Example 8.5: Initial_Value_Problem_using_Fourth_Order_Runge_Kutta_Method.sce"
		   ]
		  },
  {
"cell_type": "code",
	   "execution_count": null,
	   "metadata": {
	    "collapsed": true
	   },
	   "outputs": [],
"source": [
"//Etample 8.5\n",
"\n",
"clc\n",
"clear\n",
"\n",
"function [f] = fun1(t,y)\n",
"    f = t+y;\n",
"endfunction\n",
"\n",
"function [f] = rk4(t,y)\n",
"    k1 = h*fun1(t,y);\n",
"    k2 = h*fun1(t+1/2*h,y+1/2*k1);\n",
"    k3 = h*fun1(t+1/2*h,y+1/2*k2);\n",
"    k4 = h*fun1(t+h,y+k1);\n",
"    f = y + 1/6*(k1+2*k2+2*k3+k4);\n",
"endfunction\n",
"\n",
"t0 = 0;\n",
"y0 = 1;\n",
"h = 0.1;\n",
"t = 0.4;\n",
"n = (t-t0)/h;\n",
"\n",
"for i = 1:n\n",
"    y = rk4(t0,y0);\n",
"    t0 = t0 + h;\n",
"    y0 = y;\n",
"    y = round(y*10^5)/10^5;\n",
"end\n",
"\n",
"disp(y,'y(0.4) = ')"
   ]
   }
,
{
		   "cell_type": "markdown",
		   "metadata": {},
		   "source": [
			"## Example 8.6: Van_Der_Pol_Equation_using_Fourth_Order_Runge_Kutta_Equation.sce"
		   ]
		  },
  {
"cell_type": "code",
	   "execution_count": null,
	   "metadata": {
	    "collapsed": true
	   },
	   "outputs": [],
"source": [
"//Example 8.6\n",
"\n",
"clc\n",
"clear\n",
"\n",
"function [f] = f1(x,y,p)\n",
"    f = p;\n",
"endfunction\n",
"\n",
"function [f] = f2(x,y,p)\n",
"    f = 0.1*(1-y^2)*p - y;\n",
"endfunction\n",
"\n",
"x0 = 0;\n",
"y0 = 1;\n",
"p0 = 0;\n",
"h = 0.2;\n",
"x = 0.2;\n",
"n = (x-x0)/h;\n",
"\n",
"for i = 1:n\n",
"    k1 = h*f1(x0,y0,p0);\n",
"    l1 = h*f2(x0,y0,p0);\n",
"    k2 = h*f1(x0+h/2,y0+k1/2,p0+l1/2);\n",
"    l2 = h*f2(x0+h/2,y0+k1/2,p0+l1/2);\n",
"    k3 = h*f1(x0+h/2,y0+k2/2,p0+l2/2);\n",
"    l3 = h*f2(x0+h/2,y0+k2/2,p0+l2/2);\n",
"    k4 = h*f1(x0+h,y0+k3,p0+l3);\n",
"    l4 = h*f2(x0+h,y0+k3,p0+l3);\n",
"    y = y0 + 1/6*(k1+2*(k2+k3)+k4);\n",
"    p = p0 + 1/6*(l1+2*(l2+l3)+l4);\n",
"    y = round(y*10^4)/10^4;\n",
"    p = round(p*10^4)/10^4;\n",
"end\n",
"\n",
"disp(y,'y(0.2) = ')\n",
"disp(p,'y''(0.2) = ')"
   ]
   }
,
{
		   "cell_type": "markdown",
		   "metadata": {},
		   "source": [
			"## Example 8.7: Milne_Predictor_Corrector_Method.sce"
		   ]
		  },
  {
"cell_type": "code",
	   "execution_count": null,
	   "metadata": {
	    "collapsed": true
	   },
	   "outputs": [],
"source": [
"//Example 8.7\n",
"\n",
"clc\n",
"clear\n",
"\n",
"function [f] = dy(t,y)\n",
"    f = 1/2*(t+y);\n",
"endfunction\n",
"\n",
"tt = 0:0.5:1.5;\n",
"yy = [2 2.636 3.595 4.968];\n",
"\n",
"t0 = tt(1);\n",
"y0 = yy(1);\n",
"t = 2;\n",
"h = tt(2) - tt(1);\n",
"n = (t-t0)/h;\n",
"for i = 1:n\n",
"    dydt(1) = dy(t0,yy(1));\n",
"    dydt(2) = dy(t0+h,yy(2));\n",
"    dydt(3) = dy(t0+2*h,yy(3));\n",
"    dydt(4) = dy(t0+3*h,yy(4));\n",
"\n",
"    yP = yy(1) + 4*h/3*(2*dydt(2)-dydt(3)+2*dydt(4));\n",
"    dydt(5) = dy(t0+4*h,yP);\n",
"    yC = yy(3) + h/3*(dydt(3)+4*dydt(4)+dydt(5));\n",
"end\n",
"yC = round(yC*10^4)/10^4;\n",
"disp(yC,'y(2.0) = ')"
   ]
   }
,
{
		   "cell_type": "markdown",
		   "metadata": {},
		   "source": [
			"## Example 8.8: Milne_Predictor_Corrector_Method.sce"
		   ]
		  },
  {
"cell_type": "code",
	   "execution_count": null,
	   "metadata": {
	    "collapsed": true
	   },
	   "outputs": [],
"source": [
"//Example 8.8\n",
"\n",
"clc\n",
"clear\n",
"\n",
"function [f] = dy(t,y)\n",
"    f = t+y;\n",
"endfunction\n",
"\n",
"\n",
"tt = 0:0.1:0.3;\n",
"yy = [1 1.1103 1.2428 1.3997];\n",
"\n",
"t0 = tt(1);\n",
"y0 = yy(1);\n",
"t = 2;\n",
"h = tt(2) - tt(1);\n",
"n = (t-t0)/h;\n",
"for i = 1:n\n",
"    dydt(1) = dy(t0,yy(1));\n",
"    dydt(2) = dy(t0+h,yy(2));\n",
"    dydt(3) = dy(t0+2*h,yy(3));\n",
"    dydt(4) = dy(t0+3*h,yy(4));\n",
"\n",
"    yP = yy(1) + 4*h/3*(2*dydt(2)-dydt(3)+2*dydt(4));\n",
"    dydt(5) = dy(t0+4*h,yP);\n",
"    yC = yy(3) + h/3*(dydt(3)+4*dydt(4)+dydt(5));\n",
"end\n",
"yC = round(yC*10^4)/10^4;\n",
"disp(yC,'y(0.4) = ')\n",
"\n",
"t = [tt'; t0+4*h];\n",
"y = [yy'; yC];\n",
"mprintf('\n%6s %8s','t','y')\n",
"disp([t y])"
   ]
   }
,
{
		   "cell_type": "markdown",
		   "metadata": {},
		   "source": [
			"## Example 8.9: Adam_Moulton_Predictor_Corrector_Method.sce"
		   ]
		  },
  {
"cell_type": "code",
	   "execution_count": null,
	   "metadata": {
	    "collapsed": true
	   },
	   "outputs": [],
"source": [
"//Example 8.9\n",
"\n",
"clc\n",
"clear\n",
"\n",
"function [f] = fun1(t,y)\n",
"    f = y - t^2;\n",
"endfunction\n",
"\n",
"function [f] = rk4(t,y)\n",
"    k1 = h*fun1(t,y);\n",
"    k2 = h*fun1(t+1/2*h,y+1/2*k1);\n",
"    k3 = h*fun1(t+1/2*h,y+1/2*k2);\n",
"    k4 = h*fun1(t+h,y+k1);\n",
"    f = y + 1/6*(k1+2*k2+2*k3+k4);\n",
"endfunction\n",
"\n",
"t0 = 0;\n",
"y0 = 1;\n",
"t = 1;\n",
"h = 0.2;\n",
"n = (t-t0)/h;\n",
"y = y0;\n",
"\n",
"for i = 2:4\n",
"    y(i) = rk4(t0,y0);\n",
"    t0 = t0 + h;\n",
"    y0 = y(i);\n",
"end\n",
"\n",
"t0 = 0;\n",
"dydt(1) = fun1(t0,y(1));\n",
"dydt(2) = fun1(t0+h,y(2));\n",
"dydt(3) = fun1(t0+2*h,y(3));\n",
"dydt(4) = fun1(t0+3*h,y(4));\n",
"\n",
"for i = 1:n-3\n",
"    yP = y(4) + h/24*(55*dydt(4)-59*dydt(3)+37*dydt(2)-9*dydt(1));\n",
"    dydt(5) = fun1(t0+(3+i)*h,yP);\n",
"    yC = y(4) + h/24*(9*dydt(5)+19*dydt(4)-5*dydt(3)+dydt(2));\n",
"    y = [y(2:4); yC];\n",
"    dydt = [dydt(2:4); fun1(t0+(3+i)*h,yC)]\n",
"end\n",
"disp(yC,'Computed Solution: y(1.0) = ')\n",
"\n",
"function [f] = true(t)\n",
"    f = t^2 + 2*t +2 - exp(t);\n",
"endfunction\n",
"ytrue = true(1.0);\n",
"ytrue = round(ytrue*10^4)/10^4;\n",
"disp(ytrue,'Analytical Solution: y(1.0) = ')"
   ]
   }
],
"metadata": {
		  "kernelspec": {
		   "display_name": "Scilab",
		   "language": "scilab",
		   "name": "scilab"
		  },
		  "language_info": {
		   "file_extension": ".sce",
		   "help_links": [
			{
			 "text": "MetaKernel Magics",
			 "url": "https://github.com/calysto/metakernel/blob/master/metakernel/magics/README.md"
			}
		   ],
		   "mimetype": "text/x-octave",
		   "name": "scilab",
		   "version": "0.7.1"
		  }
		 },
		 "nbformat": 4,
		 "nbformat_minor": 0
}
