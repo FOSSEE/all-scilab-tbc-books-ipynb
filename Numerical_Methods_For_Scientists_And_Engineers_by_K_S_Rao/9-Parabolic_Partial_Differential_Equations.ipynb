{
"cells": [
 {
		   "cell_type": "markdown",
	   "metadata": {},
	   "source": [
       "# Chapter 9: Parabolic Partial Differential Equations"
	   ]
	},
{
		   "cell_type": "markdown",
		   "metadata": {},
		   "source": [
			"## Example 9.1: Taylor_Series_Expansion.sce"
		   ]
		  },
  {
"cell_type": "code",
	   "execution_count": null,
	   "metadata": {
	    "collapsed": true
	   },
	   "outputs": [],
"source": [
"// Example 9.1\n",
"// This is an analytical problem and need not be coded."
   ]
   }
,
{
		   "cell_type": "markdown",
		   "metadata": {},
		   "source": [
			"## Example 9.2: Initial_Boundary_Value_Problem_using_Explicit_Finite_Difference_Method.sce"
		   ]
		  },
  {
"cell_type": "code",
	   "execution_count": null,
	   "metadata": {
	    "collapsed": true
	   },
	   "outputs": [],
"source": [
"//Example 9.2\n",
"\n",
"clc\n",
"clear\n",
"\n",
"delx = 0.1;\n",
"delt = 0.002;\n",
"xf = 1;\n",
"tf = 0.006;\n",
"x = 0:delx:xf;\n",
"t = 0:delt:tf;\n",
"m = length(x);\n",
"n = length(t);\n",
"lamda = delt/delx^2;\n",
"\n",
"y = zeros(n,m);\n",
"y(1:n,1) = 0;\n",
"y(1:n,m) = 0;\n",
"y(1,1:m) = sin(%pi*x);\n",
"for k = 2:n\n",
"    M1 = zeros(m-2);\n",
"    M2 = zeros(m-2,1);\n",
"    for i = 1:m-2\n",
"        M1(i,i) = 1+2*lamda;\n",
"        if i==1\n",
"            M1(i,i+1) = -lamda;\n",
"            M2(i) = y(k-1,i+1) + lamda*y(k,i);\n",
"        elseif i==m-2\n",
"            M1(i,i-1) = -lamda;\n",
"            M2(i) = y(k-1,i+1) + lamda*y(k,i+2);\n",
"        else\n",
"            M1(i,i+1) = -lamda;\n",
"            M1(i,i-1) = -lamda;\n",
"            M2(i) = y(k-1,i+1);\n",
"        end\n",
"    end\n",
"    y(k,2:m-1) = (M1\M2)';\n",
"end\n",
"y = round(y*10^4)/10^4;\n",
"mprintf('%4s %7s %9s %8s %9s %9s %9s %9s %9s %9s %9s %9s %9s','n','t','x = 0.0','x = 0.1','x = 0.2','x = 0.3','x = 0.4','x = 0.5','x = 0.6','x = 0.7','x = 0.8','x = 0.9','x = 1.0');\n",
"disp([(0:n-1)' t' y])\n",
"\n",
"disp('At t = 0.006:')\n",
"disp(y(n,1:m),'Computed Solution:')\n",
"Texact = exp(-%pi^2*tf)*sin(%pi*x);\n",
"Texact = round(Texact*10^4)/10^4;\n",
"disp(Texact,'Analytical Solution:')"
   ]
   }
,
{
		   "cell_type": "markdown",
		   "metadata": {},
		   "source": [
			"## Example 9.3: Initial_Boundary_Value_Problem_using_Explicit_Finite_Difference_Method.sce"
		   ]
		  },
  {
"cell_type": "code",
	   "execution_count": null,
	   "metadata": {
	    "collapsed": true
	   },
	   "outputs": [],
"source": [
"//Example 9.3\n",
"\n",
"clc\n",
"clear\n",
"\n",
"delx = 0.1;\n",
"delt = 0.001;\n",
"xf = 0.5;\n",
"tf = 0.003;\n",
"x = 0:delx:xf;\n",
"t = 0:delt:tf;\n",
"m = length(x);\n",
"n = length(t);\n",
"r = delt/delx^2;\n",
"\n",
"T = zeros(m,n);\n",
"T(1:m,1) = 0;\n",
"delTxi = 0;\n",
"delTxf = 1;\n",
"\n",
"for j = 1:n\n",
"    M1 = zeros(m,m);\n",
"    M2 = zeros(m,1);\n",
"    for i = 1:m\n",
"        if i == 1 then\n",
"            M1(i,i) = 1;\n",
"            M1(i,i+1) = -1;\n",
"            M2(i) = -delx * delTxi;\n",
"        elseif  i == m then\n",
"            M1(i,i) = 1;\n",
"            M1(i,i-1) = -1;\n",
"            M2(i) = delx * delTxf;\n",
"        else\n",
"            M1(i,i) = 1;\n",
"            M2(i) = r*T(i+1,j) + (1-2*r) * T(i,j) + r*T(i-1,j);\n",
"        end\n",
"    end\n",
"    T(1:m,j+1) = (M1\M2);\n",
"end\n",
"T = T(:,2:n+1);\n",
"mprintf('%4s %7s %9s %5s %7s %9s %9s %9s','n','t','x = 0.0','x=0.1','x = 0.2','x = 0.3','x = 0.4','x = 0.5');\n",
"disp([(0:n-1)' t' T'])"
   ]
   }
,
{
		   "cell_type": "markdown",
		   "metadata": {},
		   "source": [
			"## Example 9.4: Crank_Nicolson_Finite_Difference_Method.sce"
		   ]
		  },
  {
"cell_type": "code",
	   "execution_count": null,
	   "metadata": {
	    "collapsed": true
	   },
	   "outputs": [],
"source": [
"//Example 9.4\n",
"\n",
"clc\n",
"clear\n",
"\n",
"delx = 0.25;\n",
"delt = 1/32;\n",
"xf = 1;\n",
"tf = delt;\n",
"x = 0:delx:xf;\n",
"t = 0:delt:tf;\n",
"m = length(x);\n",
"n = length(t);\n",
"r = delt/delx^2;\n",
"\n",
"\n",
"T = zeros(m,n);\n",
"T(1:m,1) = 1;\n",
"T(1,1:n) = 0;\n",
"T(m,1:n) = 0;\n",
"\n",
"for j = 1:n-1\n",
"    M1 = zeros(m-2,m-2);\n",
"    M2 = zeros(m-2,1);\n",
"    for i = 2:m-1\n",
"        if i == 2 then\n",
"            M1(i-1,i-1)   = -2*(1+r);\n",
"            M1(i-1,i) = r;\n",
"            M2(i-1)     = -(r*T(i+1,j) + 2*(1-r)*T(i,j) + r*T(i-1,j));\n",
"        elseif i == m-1\n",
"            M1(i-1,i-2) = r;\n",
"            M1(i-1,i-1)   = -2*(1+r);\n",
"            M2(i-1)     = -(r*T(i+1,j) + 2*(1-r)*T(i,j) + r*T(i-1,j));\n",
"        else\n",
"            M1(i-1,i-2) = r;\n",
"            M1(i-1,i-1)   = -2*(1+r);\n",
"            M1(i-1,i) = r;\n",
"            M2(i-1)     = -(r*T(i+1,j) + 2*(1-r)*T(i,j) + r*T(i-1,j));\n",
"        end\n",
"    end\n",
"    T(2:m-1,j+1) = (M1\M2);\n",
"end\n",
"T1 = M1\M2;\n",
"for i = 1:length(T1)\n",
"    disp(strcat(['T',string(i),' = ',string(T1(i))]));\n",
"end"
   ]
   }
,
{
		   "cell_type": "markdown",
		   "metadata": {},
		   "source": [
			"## Example 9.5: Crank_Nicolson_Finite_Difference_Method.sce"
		   ]
		  },
  {
"cell_type": "code",
	   "execution_count": null,
	   "metadata": {
	    "collapsed": true
	   },
	   "outputs": [],
"source": [
"//Example 9.5\n",
"\n",
"clc\n",
"clear\n",
"\n",
"delx = 1;\n",
"delt = 1.893;\n",
"alpha = 0.132;\n",
"xf = 4;\n",
"tf = delt;\n",
"x = 0:delx:xf;\n",
"t = 0:delt:tf;\n",
"m = length(x);\n",
"n = length(t);\n",
"r = alpha*delt/delx^2;\n",
"r = round(r*10^2)/10^2;\n",
"\n",
"T = zeros(m,n);\n",
"T(1:m,1) = 1000;\n",
"\n",
"for j = 1:n-1\n",
"    M1 = zeros(m,m);\n",
"    M2 = zeros(m,1);\n",
"    for i = 1:m\n",
"        if i == 1 then\n",
"            M1(i,i) = -(2+2.15*r);\n",
"            M1(i,i+1) = 2*r;\n",
"            M2(i) = -(2*r*T(2,j) + (2-2.15*r)*T(1,j) + 21*r);\n",
"    elseif  i == m then\n",
"        M1(i,i) = -(2+1.75*r);\n",
"        M1(i,i-1) = 2*r;\n",
"        M2(i) = -(2*r*T(m-1,j) + (2-1.75*r)*T(m,j) - 35*r);\n",
"        else\n",
"            M1(i,i-1) = r;\n",
"            M1(i,i)   = -2*(1+r);\n",
"            M1(i,i+1) = r;\n",
"            M2(i)     = -(r*T(i+1,j) + 2*(1-r)*T(i,j) + r*T(i-1,j));\n",
"        end\n",
"    end\n",
"    T(1:m,j+1) = (M1\M2);\n",
"end\n",
"disp(M1,'Coefficient Matrix:')\n",
"disp(M2,'Constant Matrix:')\n",
"T = round(T*10^4)/10^4;\n",
"disp(T','Table:')"
   ]
   }
,
{
		   "cell_type": "markdown",
		   "metadata": {},
		   "source": [
			"## Example 9.6: Crank_Nicolson_Scheme_for_Diffusion_Equation.sce"
		   ]
		  },
  {
"cell_type": "code",
	   "execution_count": null,
	   "metadata": {
	    "collapsed": true
	   },
	   "outputs": [],
"source": [
"// Example 9.6\n",
"// This is an analytical problem and need not be coded."
   ]
   }
,
{
		   "cell_type": "markdown",
		   "metadata": {},
		   "source": [
			"## Example 9.7: Alternate_Direction_Implicit_Method.sce"
		   ]
		  },
  {
"cell_type": "code",
	   "execution_count": null,
	   "metadata": {
	    "collapsed": true
	   },
	   "outputs": [],
"source": [
"//Example 9.7\n",
"\n",
"clc\n",
"clear\n",
"\n",
"h = 2;\n",
"delt = 4;\n",
"tf = 8;\n",
"xf = 8;\n",
"yf = 6;\n",
"x = 0:h:xf;\n",
"y = 0:h:yf;\n",
"t = 0:delt:tf;\n",
"m = length(x);\n",
"n = length(y);\n",
"p = length(t);\n",
"r = delt/h^2;\n",
"r = round(r*10^2)/10^2;\n",
"\n",
"T = 50*ones(n,m);\n",
"T0 = T;\n",
"T(1,1:m) = 110:-10:70;\n",
"T(n,1:m) = 0:10:40;\n",
"T(2:n-1,1) = [65; 25];\n",
"T(2:n-1,m) = [60; 50];\n",
"\n",
"u = (m-2)*(n-2);\n",
"index = [repmat(2:m-1,1,n-2); gsort(repmat(2:n-1,1,m-2))];\n",
"\n",
"M1 = zeros(u,u);\n",
"M2 = zeros(u,1);\n",
"for j = 2:m-1\n",
"    for i = 2:n-1\n",
"        ind = find(index(1,:)== j& index(2,:) == i);\n",
"        if j == 2 then\n",
"            M1(ind,ind) = 1+2*r;\n",
"            M1(ind,ind+1) = -r;\n",
"            M2(ind) = r*T(i,j-1) + r*T0(i-1,j) + (1-2*r)*T0(i,j) + r*T0(i+1,j);\n",
"        elseif j == m-1 then\n",
"            M1(ind,ind-1) = -r;\n",
"            M1(ind,ind) = 1+2*r;\n",
"            M2(ind) = r*T(i,j+1) + r*T0(i-1,j) + (1-2*r)*T0(i,j) + r*T0(i+1,j);\n",
"        else\n",
"            M1(ind,ind-1) = -r;\n",
"            M1(ind,ind) = 1+2*r;\n",
"            M1(ind,ind+1) = -r;\n",
"            M2(ind) = r*T0(i-1,j) + (1-2*r)*T0(i,j) + r*T0(i+1,j);\n",
"        end\n",
"    end\n",
"end\n",
"value = M1\M2;\n",
"value = round(value*10^4)/10^4;\n",
"for i = 1:length(index(1,:))\n",
"    t = index(:,i);\n",
"    T(t(2),t(1)) = value(i);\n",
"end\n",
"disp(T,'At t = 4:')\n",
"T0 = T;\n",
"\n",
"index = gsort(index,'lc','i');\n",
"M1 = zeros(u,u);\n",
"M2 = zeros(u,1);\n",
"for j = 2:m-1\n",
"    for i = 2:n-1\n",
"        ind = find(index(1,:)== j& index(2,:) == i);\n",
"        if i == 2 then\n",
"            M1(ind,ind) = 1+2*r;\n",
"            M1(ind,ind+1) = -r;\n",
"            M2(ind) = r*T(i-1,j) + r*T0(i,j-1) + (1-2*r)*T0(i,j) + r*T0(i,j+1);\n",
"        elseif i == n-1 then\n",
"            M1(ind,ind-1) = -r;\n",
"            M1(ind,ind) = 1+2*r;\n",
"            M2(ind) = r*T(i+1,j) + r*T0(i,j-1) + (1-2*r)*T0(i,j) + r*T0(i,j+1);\n",
"        else\n",
"            M1(ind,ind-1) = -r;\n",
"            M1(ind,ind) = 1+2*r;\n",
"            M1(ind,ind+1) = -r;\n",
"            M2(ind) = + r*T0(i,j-1) + (1-2*r)*T0(i,j) + r*T0(i,j+1);\n",
"        end\n",
"    end\n",
"end\n",
"value = M1\M2;\n",
"value = round(value*10^4)/10^4;\n",
"for i = 1:length(index(1,:))\n",
"    t = index(:,i);\n",
"    T(t(2),t(1)) = value(i);\n",
"end\n",
"disp(T,'At t = 8:')"
   ]
   }
],
"metadata": {
		  "kernelspec": {
		   "display_name": "Scilab",
		   "language": "scilab",
		   "name": "scilab"
		  },
		  "language_info": {
		   "file_extension": ".sce",
		   "help_links": [
			{
			 "text": "MetaKernel Magics",
			 "url": "https://github.com/calysto/metakernel/blob/master/metakernel/magics/README.md"
			}
		   ],
		   "mimetype": "text/x-octave",
		   "name": "scilab",
		   "version": "0.7.1"
		  }
		 },
		 "nbformat": 4,
		 "nbformat_minor": 0
}
