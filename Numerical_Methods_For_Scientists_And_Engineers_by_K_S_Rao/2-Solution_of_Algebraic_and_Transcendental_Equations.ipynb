{
"cells": [
 {
		   "cell_type": "markdown",
	   "metadata": {},
	   "source": [
       "# Chapter 2: Solution of Algebraic and Transcendental Equations"
	   ]
	},
{
		   "cell_type": "markdown",
		   "metadata": {},
		   "source": [
			"## Example 2.10: Newton_Formula.sce"
		   ]
		  },
  {
"cell_type": "code",
	   "execution_count": null,
	   "metadata": {
	    "collapsed": true
	   },
	   "outputs": [],
"source": [
"//Example 2.10\n",
"clc\n",
"clear\n",
"\n",
"N = 12;\n",
"xold = 3.5;\n",
"iter = 1;\n",
"maxit = 3;\n",
"\n",
"while (1)\n",
"    xnew = (xold + N/xold) / 2;\n",
"    if iter == maxit then\n",
"        break\n",
"    end\n",
"    xold = xnew;\n",
"    iter = iter + 1;\n",
"end\n",
"root = round(xnew*10^4) / 10^4;\n",
"disp(root,'root = ')"
   ]
   }
,
{
		   "cell_type": "markdown",
		   "metadata": {},
		   "source": [
			"## Example 2.11: Newton_Raphson_Extended_Formula.sce"
		   ]
		  },
  {
"cell_type": "code",
	   "execution_count": null,
	   "metadata": {
	    "collapsed": true
	   },
	   "outputs": [],
"source": [
"// Example 2.11\n",
"// This is an analytical problem and need not be coded."
   ]
   }
,
{
		   "cell_type": "markdown",
		   "metadata": {},
		   "source": [
			"## Example 2.12: Root_using_Muller_Method.sce"
		   ]
		  },
  {
"cell_type": "code",
	   "execution_count": null,
	   "metadata": {
	    "collapsed": true
	   },
	   "outputs": [],
"source": [
"//Example 2.12\n",
"clc\n",
"clear\n",
"\n",
"function [f] = fun12(x)\n",
"    f  = x.^3 - x - 1;\n",
"endfunction\n",
"\n",
"x = [0 1 2];\n",
"h = [x(2)-x(1) x(3)-x(2)];\n",
"lamdai = h(2)/h(1);\n",
"deli = 1 + lamdai;\n",
"f = fun12(x);\n",
"\n",
"g = f(1)*lamdai^2 - f(2)*deli^2 + f(3)*(lamdai + deli);\n",
"lamda = -2*f(3)*deli / (g + sqrt(g^2 - 4*f(3)*deli*(f(1)*lamdai - f(2)*deli + f(3))));\n",
"xnew = x(3) + lamda*h(2);\n",
"xnew = round(xnew*10^5) / 10^5;\n",
"disp(xnew,'root = ')"
   ]
   }
,
{
		   "cell_type": "markdown",
		   "metadata": {},
		   "source": [
			"## Example 2.13: Graeffe_Root_Squaring_Method.sce"
		   ]
		  },
  {
"cell_type": "code",
	   "execution_count": null,
	   "metadata": {
	    "collapsed": true
	   },
	   "outputs": [],
"source": [
"//Example 2.13\n",
"clc\n",
"clear\n",
"\n",
"a = [-6 11 -6 1];\n",
"maxit = 3;\n",
"for iter = 1:maxit\n",
"    a = [a(4)^2 -(a(3)^2 -2*a(2)*a(4)) (a(2)^2 - 2*a(1)*a(3)) -a(1)^2];\n",
"    root = abs([a(4)/a(3) a(3)/a(2) a(2)/a(1)])^(1/(2^iter));\n",
"end\n",
"root = round(root*10^5) / 10^5;\n",
"disp(root,'Estimated roots for the polynomial are: ')"
   ]
   }
,
{
		   "cell_type": "markdown",
		   "metadata": {},
		   "source": [
			"## Example 2.1: Root_using_Bisection_Method.sce"
		   ]
		  },
  {
"cell_type": "code",
	   "execution_count": null,
	   "metadata": {
	    "collapsed": true
	   },
	   "outputs": [],
"source": [
"//Example 2.1\n",
"clc\n",
"clear\n",
"\n",
"function [root] = Bisection(fun,x,tol,maxit)\n",
"// Bisection: Computes roots of the function in the given range using Bisection Method\n",
"//// Input: Bisection(fun,x,tol,maxit)\n",
"// fun = function handle\n",
"// x = range in between sign change is evident\n",
"// tol = Maximum error between iterations that can be tolerated\n",
"// maxit = Maximum number of iterations\n",
"//// Output: [root]\n",
"// Root: Root of the given function in defined range\n",
"\n",
"if fun(x(1)) > 0 then\n",
"    xu = x(1);    xl = x(2);\n",
"else\n",
"    xu = x(2);    xl = x(1);\n",
"end\n",
"\n",
"Ea = 1;\n",
"iter = 1;\n",
"\n",
"while(1)\n",
"    xr(iter) = (xl(iter) + xu(iter)) / 2;\n",
"    if fun(xr(iter)) > 0 then\n",
"        xu(iter+1) = xr(iter);\n",
"        xl(iter+1) = xl(iter);\n",
"    elseif fun(xr(iter)) < 0 then\n",
"        xl(iter+1) = xr(iter);\n",
"        xu(iter+1) = xu(iter);\n",
"    else\n",
"        break\n",
"    end\n",
"    \n",
"    if iter>1 then\n",
"        Ea(iter) = 100 * abs((xr(iter) - xr(iter-1)) / xr(iter));\n",
"    end\n",
"   \n",
"    if Ea(iter) < tol | iter == maxit then\n",
"        break\n",
"    end\n",
"    iter = iter + 1;\n",
"end\n",
"root = xr(iter);\n",
"endfunction\n",
"\n",
"function f = fun1(x)\n",
"    f = x.^3 -9*x + 1;\n",
"endfunction\n",
"\n",
"x = [2 4];\n",
"tol = 1e-4;\n",
"maxit = 5;\n",
"root = Bisection(fun1,x,tol,maxit);\n",
"disp(root,'root = ')"
   ]
   }
,
{
		   "cell_type": "markdown",
		   "metadata": {},
		   "source": [
			"## Example 2.2: Root_using_Regula_Falsi_Method.sce"
		   ]
		  },
  {
"cell_type": "code",
	   "execution_count": null,
	   "metadata": {
	    "collapsed": true
	   },
	   "outputs": [],
"source": [
"//Example 2.2\n",
"clc\n",
"clear\n",
"\n",
"function [root] = FalsePosition(fun,x,tol,maxit)\n",
"// FalsePosition: Computes roots of the function in the given range using False Position Method\n",
"//// Input: FalsePosition(fun,x,tol,maxit)\n",
"// fun = function handle\n",
"// x = range in between sign change is evident\n",
"// tol = Maximum error between iterations that can be tolerated\n",
"// maxit = Maximum number of iterations\n",
"//// Output: [root]\n",
"// Root: Root of the given function in defined range\n",
"\n",
"if fun(x(1)) > 0 then\n",
"    xu = x(1);    xl = x(2);\n",
"else\n",
"    xu = x(2);    xl = x(1);\n",
"end\n",
"\n",
"Ea = 1;\n",
"iter = 1;\n",
"\n",
"while(1)\n",
"    xr(iter) = xl(iter) - ((xu(iter)-xl(iter)) / (fun(xu(iter))-fun(xl(iter))) * fun(xl(iter)));\n",
"    if fun(xr(iter)) > 0 then\n",
"        xu(iter+1) = xr(iter);\n",
"        xl(iter+1) = xl(iter);\n",
"    elseif fun(xr(iter)) < 0 then\n",
"        xl(iter+1) = xr(iter);\n",
"        xu(iter+1) = xu(iter);\n",
"    else\n",
"        break\n",
"    end\n",
"    \n",
"    if iter>1 then\n",
"        Ea(iter) = 100 * abs((xr(iter) - xr(iter-1)) / xr(iter));\n",
"    end\n",
"   \n",
"    if Ea(iter) < tol | iter == maxit then\n",
"        break\n",
"    end\n",
"    iter = iter + 1;\n",
"end\n",
"root = xr(iter);\n",
"endfunction\n",
"\n",
"function f = fun1(x)\n",
"    f = x.^3 -9*x + 1;\n",
"endfunction\n",
"\n",
"x = [2 4; 2 3];\n",
"tol = 1e-4;\n",
"maxit = 3;\n",
"for i = 1:2\n",
"    root = FalsePosition(fun1,x(i,:),tol,maxit);\n",
"    root = round(root*10^5)/10^5;\n",
"    disp(strcat(['root(',string(i),') = ',string(root)]))\n",
"end"
   ]
   }
,
{
		   "cell_type": "markdown",
		   "metadata": {},
		   "source": [
			"## Example 2.3: Root_using_Regula_Falsi_Method.sce"
		   ]
		  },
  {
"cell_type": "code",
	   "execution_count": null,
	   "metadata": {
	    "collapsed": true
	   },
	   "outputs": [],
"source": [
"//Example 2.3\n",
"clc\n",
"clear\n",
"\n",
"function [root] = FalsePosition(fun,x,tol,maxit)\n",
"// FalsePosition: Computes roots of the function in the given range using False Position Method\n",
"//// Input: FalsePosition(fun,x,tol,maxit)\n",
"// fun = function handle\n",
"// x = range in between sign change is evident\n",
"// tol = Maximum error between iterations that can be tolerated\n",
"// maxit = Maximum number of iterations\n",
"//// Output: [root]\n",
"// Root: Root of the given function in defined range\n",
"\n",
"if fun(x(1)) > 0 then\n",
"    xu = x(1);    xl = x(2);\n",
"else\n",
"    xu = x(2);    xl = x(1);\n",
"end\n",
"\n",
"Ea = 1;\n",
"iter = 1;\n",
"\n",
"while(1)\n",
"    xr(iter) = xl(iter) - ((xu(iter)-xl(iter)) / (fun(xu(iter))-fun(xl(iter))) * fun(xl(iter)));\n",
"    if fun(xr(iter)) > 0 then\n",
"        xu(iter+1) = xr(iter);\n",
"        xl(iter+1) = xl(iter);\n",
"    elseif fun(xr(iter)) < 0 then\n",
"        xl(iter+1) = xr(iter);\n",
"        xu(iter+1) = xu(iter);\n",
"    else\n",
"        break\n",
"    end\n",
"    \n",
"    if iter>1 then\n",
"        Ea(iter) = 100 * abs((xr(iter) - xr(iter-1)) / xr(iter));\n",
"    end\n",
"   \n",
"    if Ea(iter) < tol | iter == maxit then\n",
"        break\n",
"    end\n",
"    iter = iter + 1;\n",
"end\n",
"root = xr(iter);\n",
"endfunction\n",
"\n",
"function f = fun3(x)\n",
"    f = log(x) - cos(x);\n",
"endfunction\n",
"\n",
"x = [1 2];\n",
"tol = 1e-4;\n",
"maxit = 5;\n",
"root = FalsePosition(fun3,x,tol,maxit);\n",
"disp(round(root*10^4)/10^4,'root = ')"
   ]
   }
,
{
		   "cell_type": "markdown",
		   "metadata": {},
		   "source": [
			"## Example 2.4: Root_using_Regula_Falsi_Method.sce"
		   ]
		  },
  {
"cell_type": "code",
	   "execution_count": null,
	   "metadata": {
	    "collapsed": true
	   },
	   "outputs": [],
"source": [
"//Example 2.4\n",
"clc\n",
"clear\n",
"\n",
"function [root] = FalsePosition(fun,x,tol,maxit)\n",
"// FalsePosition: Computes roots of the function in the given range using False Position Method\n",
"//// Input: FalsePosition(fun,x,tol,maxit)\n",
"// fun = function handle\n",
"// x = range in between sign change is evident\n",
"// tol = Maximum error between iterations that can be tolerated\n",
"// maxit = Maximum number of iterations\n",
"//// Output: [root]\n",
"// Root: Root of the given function in defined range\n",
"\n",
"if fun(x(1)) > 0 then\n",
"    xu = x(1);    xl = x(2);\n",
"else\n",
"    xu = x(2);    xl = x(1);\n",
"end\n",
"\n",
"Ea = 1;\n",
"iter = 1;\n",
"\n",
"while(1)\n",
"    xr(iter) = xl(iter) - ((xu(iter)-xl(iter)) / (fun(xu(iter))-fun(xl(iter))) * fun(xl(iter)));\n",
"    if fun(xr(iter)) > 0 then\n",
"        xu(iter+1) = xr(iter);\n",
"        xl(iter+1) = xl(iter);\n",
"    elseif fun(xr(iter)) < 0 then\n",
"        xl(iter+1) = xr(iter);\n",
"        xu(iter+1) = xu(iter);\n",
"    else\n",
"        break\n",
"    end\n",
"    \n",
"    if iter>1 then\n",
"        Ea(iter) = 100 * abs((xr(iter) - xr(iter-1)) / xr(iter));\n",
"    end\n",
"   \n",
"    if Ea(iter) < tol | iter == maxit then\n",
"        break\n",
"    end\n",
"    iter = iter + 1;\n",
"end\n",
"root = xr(iter);\n",
"endfunction\n",
"\n",
"function f = fun4(x)\n",
"    f = x.*log10(x) - 1.2;\n",
"endfunction\n",
"\n",
"clc\n",
"x = [2 3];\n",
"tol = 1e-4;\n",
"maxit = 2;\n",
"root = FalsePosition(fun4,x,tol,maxit);\n",
"disp(round(root*10^4)/10^4,'root = ')"
   ]
   }
,
{
		   "cell_type": "markdown",
		   "metadata": {},
		   "source": [
			"## Example 2.5: Root_using_Method_of_Iteration.sce"
		   ]
		  },
  {
"cell_type": "code",
	   "execution_count": null,
	   "metadata": {
	    "collapsed": true
	   },
	   "outputs": [],
"source": [
"//Example 2.5\n",
"clc\n",
"clear\n",
"\n",
"function f = fun5(x)\n",
"    f = exp(-x)/10;\n",
"endfunction\n",
"\n",
"clc\n",
"tol = 1e-4;\n",
"maxit = 4;\n",
"xold = 0;\n",
"iter = 1;\n",
"while(1)\n",
"    xnew = fun5(xold);\n",
"    EA = abs(xnew - xold);\n",
"    if EA < tol | iter > maxit then\n",
"        break\n",
"    end\n",
"    xold = xnew;\n",
"    iter = iter + 1;\n",
"end\n",
"root = round(xnew*10^4) / 10^4;     //rounded to 4 decimal places\n",
"disp(root,'root = ')"
   ]
   }
,
{
		   "cell_type": "markdown",
		   "metadata": {},
		   "source": [
			"## Example 2.6: Root_using_Method_of_Iteration.sce"
		   ]
		  },
  {
"cell_type": "code",
	   "execution_count": null,
	   "metadata": {
	    "collapsed": true
	   },
	   "outputs": [],
"source": [
"//Example 2.6\n",
"clc\n",
"clear\n",
"\n",
"function f = fun6(x)\n",
"    f = 1./ sqrt(x+1);\n",
"endfunction\n",
"\n",
"tol = 1e-4;\n",
"maxit = 6;\n",
"xold = 1;\n",
"iter = 1;\n",
"while(1)\n",
"    xnew = fun6(xold);\n",
"    EA = abs(xnew - xold);\n",
"    if EA < tol | iter > maxit then\n",
"        break\n",
"    end\n",
"    xold = xnew;\n",
"    iter = iter + 1;\n",
"end\n",
"root = round(xnew*10^4) / 10^4;     //rounded to 4 decimal places\n",
"disp(root,'root = ')"
   ]
   }
,
{
		   "cell_type": "markdown",
		   "metadata": {},
		   "source": [
			"## Example 2.7: Root_using_Newton_Raphson_Method.sce"
		   ]
		  },
  {
"cell_type": "code",
	   "execution_count": null,
	   "metadata": {
	    "collapsed": true
	   },
	   "outputs": [],
"source": [
"//Example 2.7\n",
"clc\n",
"clear\n",
"\n",
"function [f,df] = fun7(x)\n",
"    f  = x.*exp(x) - 2;\n",
"    df = x.*exp(x) + exp(x);\n",
"endfunction\n",
"\n",
"xold = 1;\n",
"maxit = 2;\n",
"iter = 1;\n",
"\n",
"while (1)\n",
"    [fx,dfx] = fun7(xold);\n",
"    xnew = xold - fx/dfx;\n",
"    if iter == maxit then\n",
"        break\n",
"    end\n",
"    xold = xnew;\n",
"    iter = iter + 1;\n",
"end\n",
"root = round(xnew*10^3) / 10^3;\n",
"disp(root,'root = ')"
   ]
   }
,
{
		   "cell_type": "markdown",
		   "metadata": {},
		   "source": [
			"## Example 2.8: Root_using_Newton_Raphson_Method.sce"
		   ]
		  },
  {
"cell_type": "code",
	   "execution_count": null,
	   "metadata": {
	    "collapsed": true
	   },
	   "outputs": [],
"source": [
"//Example 2.8\n",
"clc\n",
"clear\n",
"\n",
"function [f,df] = fun8(x)\n",
"    f  = x.^3 - x - 1;\n",
"    df = 3*x.^2 - 1;\n",
"endfunction\n",
"\n",
"xold = 1;\n",
"maxit = 5;\n",
"iter = 1;\n",
"\n",
"while (1)\n",
"    [fx,dfx] = fun8(xold);\n",
"    xnew = xold - fx/dfx;\n",
"    if iter == maxit then\n",
"        break\n",
"    end\n",
"    xold = xnew;\n",
"    iter = iter + 1;\n",
"end\n",
"root = round(xnew*10^4) / 10^4;\n",
"disp(root,'root = ')"
   ]
   }
,
{
		   "cell_type": "markdown",
		   "metadata": {},
		   "source": [
			"## Example 2.9: Newton_Scheme_of_Iteration.sce"
		   ]
		  },
  {
"cell_type": "code",
	   "execution_count": null,
	   "metadata": {
	    "collapsed": true
	   },
	   "outputs": [],
"source": [
"// Example 2.9\n",
"// This is an analytical problem and need not be coded."
   ]
   }
],
"metadata": {
		  "kernelspec": {
		   "display_name": "Scilab",
		   "language": "scilab",
		   "name": "scilab"
		  },
		  "language_info": {
		   "file_extension": ".sce",
		   "help_links": [
			{
			 "text": "MetaKernel Magics",
			 "url": "https://github.com/calysto/metakernel/blob/master/metakernel/magics/README.md"
			}
		   ],
		   "mimetype": "text/x-octave",
		   "name": "scilab",
		   "version": "0.7.1"
		  }
		 },
		 "nbformat": 4,
		 "nbformat_minor": 0
}
