{
"cells": [
 {
		   "cell_type": "markdown",
	   "metadata": {},
	   "source": [
       "# Chapter 10: Elliptical Partial Differential Equations"
	   ]
	},
{
		   "cell_type": "markdown",
		   "metadata": {},
		   "source": [
			"## Example 10.1: Laplace_Equation_using_Five_Point_Formulae.sce"
		   ]
		  },
  {
"cell_type": "code",
	   "execution_count": null,
	   "metadata": {
	    "collapsed": true
	   },
	   "outputs": [],
"source": [
"//Example 10.1\n",
"\n",
"clc\n",
"clear\n",
"\n",
"h = 1/4;\n",
"xf = 1;\n",
"yf = 1;\n",
"x = 0:h:xf;\n",
"y = 0:h:yf;\n",
"m = length(y);\n",
"n = length(x);\n",
"\n",
"u = zeros(m,n);\n",
"u(m,:) = 100*x;\n",
"u(:,n) = 100*y';\n",
"u0 = u;\n",
"\n",
"I = ceil(m/2);\n",
"J = ceil(n/2);\n",
"\n",
"u(J,I) = (u0(J-2,I-2) + u0(J-2,I+2) + u0(J+2,I-2) + u0(J+2,I+2)) / 4;\n",
"\n",
"for j = [J-1 J+1]\n",
"    for i = [I-1 I+1]\n",
"        u(j,i) = (u(j-1,i-1) + u(j-1,i+1) + u(j+1,i-1) + u(j+1,i+1)) / 4;\n",
"    end\n",
"end\n",
"\n",
"j1 = [J-1 J J J+1];\n",
"i1 = [I I-1 I+1 I];\n",
"for k = 1:4\n",
"    i = i1(k);\n",
"    j = j1(k);\n",
"    u(j,i) = (u(j,i-1) + u(j,i+1) + u(j-1,i) + u(j+1,i)) / 4;\n",
"end\n",
"\n",
"disp(u,'u:')"
   ]
   }
,
{
		   "cell_type": "markdown",
		   "metadata": {},
		   "source": [
			"## Example 10.2: Temperature_in_Two_Dimensional_Geometry.sce"
		   ]
		  },
  {
"cell_type": "code",
	   "execution_count": null,
	   "metadata": {
	    "collapsed": true
	   },
	   "outputs": [],
"source": [
"// Example 10.2\n",
"// This is an analytical problem and need not be coded."
   ]
   }
,
{
		   "cell_type": "markdown",
		   "metadata": {},
		   "source": [
			"## Example 10.3: Laplace_Equation_in_Two_Dimension_using_Five_Point_Formulae.sce"
		   ]
		  },
  {
"cell_type": "code",
	   "execution_count": null,
	   "metadata": {
	    "collapsed": true
	   },
	   "outputs": [],
"source": [
"//Example 10.3\n",
"\n",
"clc\n",
"clear\n",
"\n",
"m = 5;\n",
"n = 5;\n",
"u = zeros(m,n);\n",
"u(m,:) = [50 100 100 100 50];\n",
"u0 = u;\n",
"I = ceil(m/2);\n",
"J = ceil(n/2);\n",
"\n",
"u(J,I) = (u0(J-2,I-2) + u0(J-2,I+2) + u0(J+2,I-2) + u0(J+2,I+2)) / 4;\n",
"\n",
"for j = [J-1 J+1]\n",
"    for i = [I-1 I+1]\n",
"        u(j,i) = (u(j-1,i-1) + u(j-1,i+1) + u(j+1,i-1) + u(j+1,i+1)) / 4;\n",
"    end\n",
"end\n",
"\n",
"j1 = [J-1 J J J+1];\n",
"i1 = [I I-1 I+1 I];\n",
"for k = 1:4\n",
"    i = i1(k);\n",
"    j = j1(k);\n",
"    u(j,i) = (u(j,i-1) + u(j,i+1) + u(j-1,i) + u(j+1,i)) / 4;\n",
"end\n",
"\n",
"kf = 2;\n",
"tab = zeros(kf+1,(m-2)*(n-2));\n",
"row = [];\n",
"for j = 2:n-1\n",
"    row = [row u(j,2:m-1)];\n",
"end\n",
"tab(1,:) = row;\n",
"for k = 1:kf\n",
"    row = [];\n",
"    for j = 2:n-1\n",
"        for i = 2:m-1\n",
"            u(j,i) = (u(j,i-1) + u(j,i+1) + u(j-1,i) + u(j+1,i)) / 4;\n",
"        end\n",
"        row = [row u(j,2:m-1)];\n",
"    end\n",
"    row = round(row*10^4)/10^4;\n",
"    tab(k+1,:) = row;\n",
"end\n",
"mprintf('%4s %9s %9s %9s %9s %10s %10s %10s %10s %10s','r','u11','u21','u31','u12','u22','u32','u13','u23','u33')\n",
"disp([(1:k+1)' tab])"
   ]
   }
,
{
		   "cell_type": "markdown",
		   "metadata": {},
		   "source": [
			"## Example 10.4: Poisson_Equation_using_Liebmann_Iterative_Method.sce"
		   ]
		  },
  {
"cell_type": "code",
	   "execution_count": null,
	   "metadata": {
	    "collapsed": true
	   },
	   "outputs": [],
"source": [
"//Example 10.4\n",
"\n",
"clc\n",
"clear\n",
"\n",
"h = 1/3;\n",
"x = 0:h:1;\n",
"y = 0:h:1;\n",
"m = length(y);\n",
"n = length(x);\n",
"u = zeros(m,n);\n",
"u(m,2:n-1) = 1;\n",
"\n",
"kf = 5;\n",
"tab = zeros(kf,(m-2)*(n-2));\n",
"for k = 1:kf\n",
"    row = [];\n",
"    for j = 2:n-1\n",
"        for i = 2:m-1\n",
"            constant = 10/9* (5 + 1/9*(i-1)^2 + 1/9*(j-1)^2);\n",
"            u(j,i) = (u(j,i-1) + u(j,i+1) + u(j-1,i) + u(j+1,i) + constant) / 4;\n",
"        end\n",
"        row = [row u(j,2:m-1)];\n",
"    end\n",
"    row = round(row*10^4)/10^4;\n",
"    tab(k,:) = row;\n",
"end\n",
"mprintf('%4s %9s %9s %9s %9s','r','u11','u21','u12','u22')\n",
"disp([(1:k)' tab])"
   ]
   }
,
{
		   "cell_type": "markdown",
		   "metadata": {},
		   "source": [
			"## Example 10.5: Laplace_Equation_using_Liebmann_Over_Relaxation_Method.sce"
		   ]
		  },
  {
"cell_type": "code",
	   "execution_count": null,
	   "metadata": {
	    "collapsed": true
	   },
	   "outputs": [],
"source": [
"//Example 10.5\n",
"\n",
"clc\n",
"clear\n",
"\n",
"x = 0:4;\n",
"y = 0:4;\n",
"m = length(y);\n",
"n = length(x);\n",
"u = zeros(m,n);\n",
"u(m,:) = x.^3;\n",
"u(:,n) = 16*y';\n",
"u0 = u;\n",
"\n",
"I = ceil(m/2);\n",
"J = ceil(n/2);\n",
"\n",
"u(J,I) = (u0(J-2,I-2) + u0(J-2,I+2) + u0(J+2,I-2) + u0(J+2,I+2)) / 4;\n",
"\n",
"for j = [J-1 J+1]\n",
"    for i = [I-1 I+1]\n",
"        u(j,i) = (u(j-1,i-1) + u(j-1,i+1) + u(j+1,i-1) + u(j+1,i+1)) / 4;\n",
"    end\n",
"end\n",
"\n",
"j1 = [J-1 J J J+1];\n",
"i1 = [I I-1 I+1 I];\n",
"for k = 1:4\n",
"    i = i1(k);\n",
"    j = j1(k);\n",
"    u(j,i) = (u(j,i-1) + u(j,i+1) + u(j-1,i) + u(j+1,i)) / 4;\n",
"end\n",
"disp(u,'u:')\n",
"\n",
"p = m-1;\n",
"q = n-1;\n",
"c = cos(%pi/p) + cos(%pi/q);\n",
"w = 4/(2+sqrt(4-c^2));\n",
"w = round(w*10^3)/10^3;\n",
"\n",
"kf = 10;\n",
"tab = zeros(kf+1,(m-2)*(n-2));\n",
"row = [];\n",
"for j = 2:n-1\n",
"    row = [row u(j,2:m-1)];\n",
"end\n",
"tab(1,:) = row;\n",
"for k = 1:kf\n",
"    row = [];\n",
"    for j = 2:n-1\n",
"        for i = 2:m-1\n",
"            u(j,i) = (u(j,i-1) + u(j,i+1) + u(j-1,i) + u(j+1,i)) *w/4 + (1-w)*u(j,i);\n",
"        end\n",
"        row = [row u(j,2:m-1)];\n",
"    end\n",
"    row = round(row*10^4)/10^4;\n",
"    tab(k+1,:) = row;\n",
"end\n",
"mprintf('\n\n%8s %9s %10s %10s %9s %10s %10s %9s %9s','u11','u21','u31','u12','u22','u32','u13','u23','u33')\n",
"disp(tab)"
   ]
   }
],
"metadata": {
		  "kernelspec": {
		   "display_name": "Scilab",
		   "language": "scilab",
		   "name": "scilab"
		  },
		  "language_info": {
		   "file_extension": ".sce",
		   "help_links": [
			{
			 "text": "MetaKernel Magics",
			 "url": "https://github.com/calysto/metakernel/blob/master/metakernel/magics/README.md"
			}
		   ],
		   "mimetype": "text/x-octave",
		   "name": "scilab",
		   "version": "0.7.1"
		  }
		 },
		 "nbformat": 4,
		 "nbformat_minor": 0
}
