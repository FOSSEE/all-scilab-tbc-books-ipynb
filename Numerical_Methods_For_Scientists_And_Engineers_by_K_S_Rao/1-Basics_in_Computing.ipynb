{
"cells": [
 {
		   "cell_type": "markdown",
	   "metadata": {},
	   "source": [
       "# Chapter 1: Basics in Computing"
	   ]
	},
{
		   "cell_type": "markdown",
		   "metadata": {},
		   "source": [
			"## Example 1.1: Conversion_of_Decimal_to_Binary.sce"
		   ]
		  },
  {
"cell_type": "code",
	   "execution_count": null,
	   "metadata": {
	    "collapsed": true
	   },
	   "outputs": [],
"source": [
"//Example 1.1\n",
"clc\n",
"clear\n",
"\n",
"dec_N = 47;\n",
"bin_N = dec2bin(dec_N)\n",
"disp(bin_N)"
   ]
   }
,
{
		   "cell_type": "markdown",
		   "metadata": {},
		   "source": [
			"## Example 1.2: Conversion_of_Binary_to_Decimal.sce"
		   ]
		  },
  {
"cell_type": "code",
	   "execution_count": null,
	   "metadata": {
	    "collapsed": true
	   },
	   "outputs": [],
"source": [
"//Example 1.2\n",
"clc\n",
"clear\n",
"\n",
"dec = 0.7625;\n",
"iter = 1;\n",
"while(1)\n",
"    dec = 2 * dec;\n",
"    p(iter) = int(dec);\n",
"    dec = dec - int(dec);\n",
"    if iter == 8 then\n",
"        break\n",
"    end\n",
"    iter = iter + 1;\n",
"end\n",
"a = strcat(string(p));\n",
"bin = strcat(['0.',a])\n",
"disp(bin)"
   ]
   }
,
{
		   "cell_type": "markdown",
		   "metadata": {},
		   "source": [
			"## Example 1.3: Conversion_of_Decimal_to_Binary_and_Octal.sce"
		   ]
		  },
  {
"cell_type": "code",
	   "execution_count": null,
	   "metadata": {
	    "collapsed": true
	   },
	   "outputs": [],
"source": [
"//Example 1.3\n",
"clc\n",
"clear\n",
"\n",
"dec_N = 59;\n",
"bin_N = dec2bin(dec_N)\n",
"oct_N = dec2oct(dec_N)\n",
"disp(bin_N,'Binary:')\n",
"disp(oct_N,'Octal:')"
   ]
   }
],
"metadata": {
		  "kernelspec": {
		   "display_name": "Scilab",
		   "language": "scilab",
		   "name": "scilab"
		  },
		  "language_info": {
		   "file_extension": ".sce",
		   "help_links": [
			{
			 "text": "MetaKernel Magics",
			 "url": "https://github.com/calysto/metakernel/blob/master/metakernel/magics/README.md"
			}
		   ],
		   "mimetype": "text/x-octave",
		   "name": "scilab",
		   "version": "0.7.1"
		  }
		 },
		 "nbformat": 4,
		 "nbformat_minor": 0
}
