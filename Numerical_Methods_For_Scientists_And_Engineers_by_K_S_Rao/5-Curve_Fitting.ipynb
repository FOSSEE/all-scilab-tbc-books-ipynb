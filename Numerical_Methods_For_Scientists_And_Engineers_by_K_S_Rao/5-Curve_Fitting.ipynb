{
"cells": [
 {
		   "cell_type": "markdown",
	   "metadata": {},
	   "source": [
       "# Chapter 5: Curve Fitting"
	   ]
	},
{
		   "cell_type": "markdown",
		   "metadata": {},
		   "source": [
			"## Example 5.10: Method_of_Moments.sce"
		   ]
		  },
  {
"cell_type": "code",
	   "execution_count": null,
	   "metadata": {
	    "collapsed": true
	   },
	   "outputs": [],
"source": [
"//Example 5.10\n",
"\n",
"clc\n",
"clear\n",
"\n",
"x = 3:7;\n",
"y = [31.9 34.6 33.8 27 31.6];\n",
"\n",
"delx = x(2) - x(1);\n",
"mu1 = delx * sum(y);\n",
"mu2 = delx * sum(x.*y);\n",
"mu3 = delx * sum(x^2 .*y);\n",
"\n",
"n = length(y);\n",
"l = x(1) - delx/2;\n",
"u = x(n) + delx/2;\n",
"\n",
"t0 = u-l;\n",
"t1 = integrate('x','x',l,u);\n",
"t2 = integrate('x^2','x',l,u);\n",
"t3 = integrate('x^3','x',l,u);\n",
"t4 = integrate('x^4','x',l,u);\n",
"\n",
"M1 = [t2 t1 t0; t3 t2 t1; t4 t3 t2];\n",
"M2 = [mu1; mu2; mu3];\n",
"M1 = round(M1*10^2)/10^2;\n",
"M = M1\M2;\n",
"\n",
"c = M(1);\n",
"b = M(2);\n",
"a = M(3);\n",
"\n",
"disp(round(a*10^4)/10^4, 'a =')\n",
"disp(round(b*10^4)/10^4, 'b =')\n",
"disp(round(c*10^4)/10^4, 'c =')"
   ]
   }
,
{
		   "cell_type": "markdown",
		   "metadata": {},
		   "source": [
			"## Example 5.1: Method_of_Group_Averages.sce"
		   ]
		  },
  {
"cell_type": "code",
	   "execution_count": null,
	   "metadata": {
	    "collapsed": true
	   },
	   "outputs": [],
"source": [
"//Example 5.1\n",
"clc\n",
"clear\n",
"\n",
"x = 10:10:80;\n",
"y = [1.06 1.33 1.52 1.68 1.81 1.91 2.01 2.11];\n",
"\n",
"X = log(x);\n",
"Y = log(y);\n",
"\n",
"n = length(Y);\n",
"M1 = [sum(Y); sum(X.*Y)];\n",
"M2 = [n sum(X); sum(X) sum(X.^2)];\n",
"\n",
"A = M2\M1;\n",
"\n",
"m = exp(A(1));\n",
"n = A(2);\n",
"\n",
"disp(round(m*10^4)/10^4, 'm =')\n",
"disp(round(n*10^4)/10^4, 'n =')"
   ]
   }
,
{
		   "cell_type": "markdown",
		   "metadata": {},
		   "source": [
			"## Example 5.2: Method_of_Group_Averages.sce"
		   ]
		  },
  {
"cell_type": "code",
	   "execution_count": null,
	   "metadata": {
	    "collapsed": true
	   },
	   "outputs": [],
"source": [
"//Example 5.2\n",
"clc\n",
"clear\n",
"\n",
"x = [20 30 35 40 45 50];\n",
"y = [10 11 11.8 12.4 13.5 14.4];\n",
"\n",
"X = x.^2;\n",
"Y = y;\n",
"\n",
"n = length(Y);\n",
"M1 = [sum(Y); sum(X.*Y)];\n",
"M2 = [n sum(X); sum(X) sum(X.^2)];\n",
"\n",
"A = M2\M1;\n",
"\n",
"a = A(1);\n",
"b = A(2);\n",
"\n",
"disp(round(a*10^4)/10^4, 'a =')\n",
"disp(round(b*10^4)/10^4, 'b =')"
   ]
   }
,
{
		   "cell_type": "markdown",
		   "metadata": {},
		   "source": [
			"## Example 5.3: Method_of_Group_Averages.sce"
		   ]
		  },
  {
"cell_type": "code",
	   "execution_count": null,
	   "metadata": {
	    "collapsed": true
	   },
	   "outputs": [],
"source": [
"//Example 5.3\n",
"\n",
"clc\n",
"clear\n",
"\n",
"x = [8 10 15 20 30 40];\n",
"y = [13 14 15.4 16.3 17.2 17.8];\n",
"\n",
"X = 1 ./x;\n",
"Y = 1 ./y;\n",
"\n",
"n = length(Y);\n",
"M1 = [sum(Y); sum(X.*Y)];\n",
"M2 = [n sum(X); sum(X) sum(X.^2)];\n",
"\n",
"A = M2\M1;\n",
"\n",
"b = A(1);\n",
"a = A(2);\n",
"\n",
"disp(round(a*10^4)/10^4, 'a =')\n",
"disp(round(b*10^4)/10^4, 'b =')"
   ]
   }
,
{
		   "cell_type": "markdown",
		   "metadata": {},
		   "source": [
			"## Example 5.4: Method_of_Least_Squares.sce"
		   ]
		  },
  {
"cell_type": "code",
	   "execution_count": null,
	   "metadata": {
	    "collapsed": true
	   },
	   "outputs": [],
"source": [
"//Example 5.4\n",
"\n",
"clc\n",
"clear\n",
"\n",
"X = 0.5:0.5:3;\n",
"Y = [15 17 19 14 10 7];\n",
"\n",
"n = length(Y);\n",
"M1 = [sum(Y); sum(X.*Y)];\n",
"M2 = [n sum(X); sum(X) sum(X.^2)];\n",
"\n",
"A = M2\M1;\n",
"\n",
"b = A(1);\n",
"a = A(2);\n",
"\n",
"disp(round(a*10^4)/10^4, 'a =')\n",
"disp(round(b*10^4)/10^4, 'b =')"
   ]
   }
,
{
		   "cell_type": "markdown",
		   "metadata": {},
		   "source": [
			"## Example 5.5: Method_of_Least_Squares.sce"
		   ]
		  },
  {
"cell_type": "code",
	   "execution_count": null,
	   "metadata": {
	    "collapsed": true
	   },
	   "outputs": [],
"source": [
"//Example 5.5\n",
"\n",
"clc\n",
"clear\n",
"\n",
"x = 1:6;\n",
"y = [2.6 5.4 8.7 12.1 16 20.2];\n",
"\n",
"X = x;\n",
"Y = y ./x;\n",
"\n",
"n = length(Y);\n",
"M1 = [sum(Y); sum(X.*Y)];\n",
"M2 = [n sum(X); sum(X) sum(X.^2)];\n",
"\n",
"A = M2\M1;\n",
"\n",
"a = A(1);\n",
"b = A(2);\n",
"\n",
"disp(round(a*10^5)/10^5, 'a =')\n",
"disp(round(b*10^5)/10^5, 'b =')"
   ]
   }
,
{
		   "cell_type": "markdown",
		   "metadata": {},
		   "source": [
			"## Example 5.6: Method_of_Least_Squares.sce"
		   ]
		  },
  {
"cell_type": "code",
	   "execution_count": null,
	   "metadata": {
	    "collapsed": true
	   },
	   "outputs": [],
"source": [
"//Example 5.6\n",
"\n",
"clc\n",
"clear\n",
"\n",
"X = 1:0.2:2;\n",
"Y = [0.98 1.4 1.86 2.55 2.28 3.2];\n",
"\n",
"n = length(Y);\n",
"M1 = [sum(X.^4) sum(X.^3) sum(X.^2); sum(X.^3) sum(X.^2) sum(X); sum(X.^2) sum(X) n];\n",
"M2 = [sum(X.^2 .* Y); sum(X.*Y); sum(Y)];\n",
"A = M1\M2;\n",
"\n",
"a = A(1);\n",
"b = A(2);\n",
"c = A(3);\n",
"\n",
"disp(round(a*10^4)/10^4, 'a =')\n",
"disp(round(b*10^4)/10^4, 'b =')\n",
"disp(round(c*10^4)/10^4, 'c =')"
   ]
   }
,
{
		   "cell_type": "markdown",
		   "metadata": {},
		   "source": [
			"## Example 5.7: Method_of_Least_Squares.sce"
		   ]
		  },
  {
"cell_type": "code",
	   "execution_count": null,
	   "metadata": {
	    "collapsed": true
	   },
	   "outputs": [],
"source": [
"//Example 5.7\n",
"\n",
"clc\n",
"clear\n",
"\n",
"x = 2:5;\n",
"y = [27.8 62.1 110 161];\n",
"\n",
"X = log(x);\n",
"Y = log(y);\n",
"\n",
"n = length(Y);\n",
"M1 = [sum(X.^2) sum(X); sum(X) n];\n",
"M2 = [sum(X.*Y); sum(Y)];\n",
"M = M1\M2;\n",
"\n",
"b = M(1);\n",
"A = M(2);\n",
"a = exp(A);\n",
"\n",
"disp(round(a*10^4)/10^4, 'a =')\n",
"disp(round(b*10^4)/10^4, 'b =')"
   ]
   }
,
{
		   "cell_type": "markdown",
		   "metadata": {},
		   "source": [
			"## Example 5.8: Principle_of_Least_Squares.sce"
		   ]
		  },
  {
"cell_type": "code",
	   "execution_count": null,
	   "metadata": {
	    "collapsed": true
	   },
	   "outputs": [],
"source": [
"//Example 5.8\n",
"\n",
"clc\n",
"clear\n",
"\n",
"x = 1:4;\n",
"y = [1.65 2.7 4.5 7.35];\n",
"\n",
"X = x;\n",
"Y = log10(y);\n",
"\n",
"n = length(Y);\n",
"M1 = [sum(X.^2) sum(X); sum(X) n];\n",
"M2 = [sum(X.*Y); sum(Y)];\n",
"M = M1\M2;\n",
"\n",
"B = M(1);\n",
"A = M(2);\n",
"a = 10^A;\n",
"b = B/log10(%e);\n",
"\n",
"disp(round(a), 'a =')\n",
"disp(round(b*10^4)/10^4, 'b =')"
   ]
   }
,
{
		   "cell_type": "markdown",
		   "metadata": {},
		   "source": [
			"## Example 5.9: Method_of_Moments.sce"
		   ]
		  },
  {
"cell_type": "code",
	   "execution_count": null,
	   "metadata": {
	    "collapsed": true
	   },
	   "outputs": [],
"source": [
"//Example 5.9\n",
"\n",
"clc\n",
"clear\n",
"\n",
"x = 2:5;\n",
"y = [27 40 55 68];\n",
"\n",
"delx = x(2) - x(1);\n",
"mu1 = delx * sum(y);\n",
"mu2 = delx * sum(x.*y);\n",
"\n",
"n = length(y);\n",
"l = x(1) - delx/2;\n",
"u = x(n) + delx/2;\n",
"\n",
"M1 = [integrate('x','x',l,u) u-l; integrate('x^2','x',l,u) integrate('x','x',l,u)];\n",
"M2 = [mu1; mu2];\n",
"M = M1\M2;\n",
"\n",
"a = M(1);\n",
"b = M(2);\n",
"\n",
"disp(round(a*10^4)/10^4, 'a =')\n",
"disp(round(b*10^4)/10^4, 'b =')"
   ]
   }
],
"metadata": {
		  "kernelspec": {
		   "display_name": "Scilab",
		   "language": "scilab",
		   "name": "scilab"
		  },
		  "language_info": {
		   "file_extension": ".sce",
		   "help_links": [
			{
			 "text": "MetaKernel Magics",
			 "url": "https://github.com/calysto/metakernel/blob/master/metakernel/magics/README.md"
			}
		   ],
		   "mimetype": "text/x-octave",
		   "name": "scilab",
		   "version": "0.7.1"
		  }
		 },
		 "nbformat": 4,
		 "nbformat_minor": 0
}
