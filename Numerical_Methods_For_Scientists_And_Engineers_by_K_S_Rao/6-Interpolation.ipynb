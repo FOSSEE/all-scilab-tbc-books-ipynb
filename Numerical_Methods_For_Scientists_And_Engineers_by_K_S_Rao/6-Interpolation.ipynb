{
"cells": [
 {
		   "cell_type": "markdown",
	   "metadata": {},
	   "source": [
       "# Chapter 6: Interpolation"
	   ]
	},
{
		   "cell_type": "markdown",
		   "metadata": {},
		   "source": [
			"## Example 6.10: Newton_Forward_Difference_Interpolation_Formula.sce"
		   ]
		  },
  {
"cell_type": "code",
	   "execution_count": null,
	   "metadata": {
	    "collapsed": true
	   },
	   "outputs": [],
"source": [
"//Example 6.10\n",
"\n",
"clc\n",
"clear\n",
"\n",
"x = 1:5;\n",
"Y = poly(0, 'Y');\n",
"y = [2 5 7 Y 32];\n",
"\n",
"n = length(x);\n",
"del = %nan*ones(n,5);\n",
"del(:,1) = y';\n",
"for j = 2:5\n",
"    for i = 1:n-j+1\n",
"        del(i,j) = del(i+1,j-1) - del(i,j-1);\n",
"    end\n",
"end\n",
"del(:,1) = [];\n",
"\n",
"// del4 = 0\n",
"\n",
"y0 = del(:,4);\n",
"y0(isnan(y0)) = [];\n",
"Y = roots(y0)\n",
"disp(Y,'Missing value f(x3) = ')"
   ]
   }
,
{
		   "cell_type": "markdown",
		   "metadata": {},
		   "source": [
			"## Example 6.11: Newton_Forward_Difference_Interpolation_Formula.sce"
		   ]
		  },
  {
"cell_type": "code",
	   "execution_count": null,
	   "metadata": {
	    "collapsed": true
	   },
	   "outputs": [],
"source": [
"//Example 6.11\n",
"\n",
"clc\n",
"clear\n",
"\n",
"x = 0:5;\n",
"y = [-3 3 11 27 57 107];\n",
"\n",
"n = length(x);\n",
"del = %nan*ones(n,4);\n",
"del(:,1) = y';\n",
"for j = 2:4\n",
"    for i = 1:n-j+1\n",
"        del(i,j) = del(i+1,j-1) - del(i,j-1);\n",
"    end\n",
"end\n",
"del(:,1) = [];\n",
"\n",
"X = poly(0, 'x');\n",
"h = x(2) - x(1);\n",
"p = (X-x(1)) / h;\n",
"x0 = x(1);\n",
"y0 = y(1);\n",
"dely0 = del(1,:);\n",
"\n",
"Y = y0;\n",
"\n",
"for i = 1:length(dely0)\n",
"    t = 1;\n",
"    for j = 1:i\n",
"        t = t * (p-j+1);\n",
"    end\n",
"    Y = Y + t*dely0(i)/factorial(i);\n",
"end\n",
"disp(Y,'Required cubic polynomial:')"
   ]
   }
,
{
		   "cell_type": "markdown",
		   "metadata": {},
		   "source": [
			"## Example 6.12: Newton_Backward_Difference_Interpolation_Formula.sce"
		   ]
		  },
  {
"cell_type": "code",
	   "execution_count": null,
	   "metadata": {
	    "collapsed": true
	   },
	   "outputs": [],
"source": [
"//Example 6.12\n",
"\n",
"clc\n",
"clear\n",
"\n",
"x = 1:8;\n",
"y = x^3;\n",
"\n",
"n = length(x);\n",
"del = %nan*ones(n,4);\n",
"del(:,1) = y';\n",
"for j = 2:4\n",
"    for i = 1:n-j+1\n",
"        del(i+j-1,j) = del(i+j-1,j-1) - del(i+j-2,j-1);\n",
"    end\n",
"end\n",
"\n",
"X = 7.5;\n",
"h = x(2) - x(1);\n",
"p = (X-x(n)) / h;\n",
"xn = x(n);\n",
"yn = y(n);\n",
"delyn = del(n,:);\n",
"\n",
"Y = 0;\n",
"\n",
"for i = 0:length(delyn)-1\n",
"    t = 1;\n",
"    for j = 1:i\n",
"        t = t * (p+j-1);\n",
"    end\n",
"    Y = Y + t*delyn(i+1)/factorial(i);\n",
"end\n",
"disp(Y,'y(7.5) = ')\n",
""
   ]
   }
,
{
		   "cell_type": "markdown",
		   "metadata": {},
		   "source": [
			"## Example 6.13: Newton_Backward_Difference_Interpolation_Formula.sce"
		   ]
		  },
  {
"cell_type": "code",
	   "execution_count": null,
	   "metadata": {
	    "collapsed": true
	   },
	   "outputs": [],
"source": [
"//Example 6.13\n",
"\n",
"clc\n",
"clear\n",
"\n",
"x = 1974:2:1982;\n",
"y = [40 43 48 52 57];\n",
"\n",
"n = length(x);\n",
"del = %nan*ones(n,5);\n",
"del(:,1) = y';\n",
"for j = 2:5\n",
"    for i = 1:n-j+1\n",
"        del(i+j-1,j) = del(i+j-1,j-1) - del(i+j-2,j-1);\n",
"    end\n",
"end\n",
"\n",
"X = 1979;\n",
"h = x(2) - x(1);\n",
"p = (X-x(n)) / h;\n",
"xn = x(n);\n",
"yn = y(n);\n",
"delyn = del(n,:);\n",
"\n",
"Y = 0;\n",
"\n",
"for i = 0:length(delyn)-1\n",
"    t = 1;\n",
"    for j = 1:i\n",
"        t = t * (p+j-1);\n",
"    end\n",
"    Y = Y + t*delyn(i+1)/factorial(i);\n",
"end\n",
"Y = round(Y*10^4)/10^4;\n",
"disp(Y,'Estimated sales for the year 1979: ')"
   ]
   }
,
{
		   "cell_type": "markdown",
		   "metadata": {},
		   "source": [
			"## Example 6.14: Lagrange_Interpolation_Formula.sce"
		   ]
		  },
  {
"cell_type": "code",
	   "execution_count": null,
	   "metadata": {
	    "collapsed": true
	   },
	   "outputs": [],
"source": [
"//Example 6.14\n",
"\n",
"clc\n",
"clear\n",
"\n",
"x = [1 3 4 6];\n",
"y = [-3 0 30 132];\n",
"\n",
"n = length(x);\n",
"Y = 0;\n",
"X = poly(0, 'X');\n",
"//X = 5;\n",
"for i = 1:n\n",
"    t = x;\n",
"    t(i) = [];\n",
"    p = 1;\n",
"    for j = 1:length(t)\n",
"        p = p * (X-t(j))/(x(i)-t(j));\n",
"    end\n",
"    Y = Y + p*y(i);\n",
"end\n",
"Y5 = horner(Y,5);\n",
"disp(Y5,'y(5) = ')"
   ]
   }
,
{
		   "cell_type": "markdown",
		   "metadata": {},
		   "source": [
			"## Example 6.15: Lagrange_Interpolation_Formula.sce"
		   ]
		  },
  {
"cell_type": "code",
	   "execution_count": null,
	   "metadata": {
	    "collapsed": true
	   },
	   "outputs": [],
"source": [
"//Example 6.15\n",
"\n",
"clc\n",
"clear\n",
"\n",
"x = [1 2 5];\n",
"y = [1 4 10];\n",
"\n",
"n = length(x);\n",
"Y = 0;\n",
"X = poly(0, 'X');\n",
"//X = 5;\n",
"for i = 1:n\n",
"    t = x;\n",
"    t(i) = [];\n",
"    p = 1;\n",
"    for j = 1:length(t)\n",
"        p = p * (X-t(j))/(x(i)-t(j));\n",
"    end\n",
"    Y = Y + p*y(i);\n",
"end\n",
"Y5 = horner(Y,3);\n",
"disp(Y5,'f(3) = ')"
   ]
   }
,
{
		   "cell_type": "markdown",
		   "metadata": {},
		   "source": [
			"## Example 6.16: Lagrange_and_Newton_Divided_Difference_Interpolation_Formulae.sce"
		   ]
		  },
  {
"cell_type": "code",
	   "execution_count": null,
	   "metadata": {
	    "collapsed": true
	   },
	   "outputs": [],
"source": [
"//Example 6.16\n",
"\n",
"clc\n",
"clear\n",
"\n",
"x = [0 1 2 4];\n",
"y = [1 1 2 5];\n",
"\n",
"n = length(x);\n",
"del = %nan*ones(n,4);\n",
"del(:,1) = y';\n",
"for j = 2:4\n",
"    for i = 1:n-j+1\n",
"        del(i,j) = (del(i+1,j-1) - del(i,j-1)) / (x(i+j-1) - x(i));\n",
"    end\n",
"end\n",
"del(:,1) = [];\n",
"\n",
"Y = 0;\n",
"X = poly(0, 'X');\n",
"for i = 1:n\n",
"    t = x;\n",
"    t(i) = [];\n",
"    p = 1;\n",
"    for j = 1:length(t)\n",
"        p = p * (X-t(j))/(x(i)-t(j));\n",
"    end\n",
"    Y = Y + p*y(i);\n",
"end\n",
"disp(round(Y*10^4)/10^4,'Interpolating polynomial:')"
   ]
   }
,
{
		   "cell_type": "markdown",
		   "metadata": {},
		   "source": [
			"## Example 6.17: Newton_Divided_Difference_Interpolation_Formulae.sce"
		   ]
		  },
  {
"cell_type": "code",
	   "execution_count": null,
	   "metadata": {
	    "collapsed": true
	   },
	   "outputs": [],
"source": [
"//Example 6.17\n",
"\n",
"clc\n",
"clear\n",
"\n",
"x = [0 1 4];\n",
"y = [2 1 4];\n",
"\n",
"n = length(x);\n",
"del = %nan*ones(n,3);\n",
"del(:,1) = y';\n",
"for j = 2:3\n",
"    for i = 1:n-j+1\n",
"        del(i,j) = (del(i+1,j-1) - del(i,j-1)) / (x(i+j-1) - x(i));\n",
"    end\n",
"end\n",
"del(:,1) = [];\n",
"\n",
"Y = 0;\n",
"X = 2;\n",
"for i = 1:n\n",
"    t = x;\n",
"    t(i) = [];\n",
"    p = 1;\n",
"    for j = 1:length(t)\n",
"        p = p * (X-t(j))/(x(i)-t(j));\n",
"    end\n",
"    Y = Y + p*y(i);\n",
"end\n",
"disp(Y,'y(2) = ')"
   ]
   }
,
{
		   "cell_type": "markdown",
		   "metadata": {},
		   "source": [
			"## Example 6.18: Identity_Proof_for_Newton_and_Lagrange_Interpolation_Formulae.sce"
		   ]
		  },
  {
"cell_type": "code",
	   "execution_count": null,
	   "metadata": {
	    "collapsed": true
	   },
	   "outputs": [],
"source": [
"// Example 6.18\n",
"// This is an analytical problem and need not be coded."
   ]
   }
,
{
		   "cell_type": "markdown",
		   "metadata": {},
		   "source": [
			"## Example 6.19: Interpolation_in_Two_Dimensions.sce"
		   ]
		  },
  {
"cell_type": "code",
	   "execution_count": null,
	   "metadata": {
	    "collapsed": true
	   },
	   "outputs": [],
"source": [
"//Example 6.19\n",
"\n",
"clc\n",
"clear\n",
"\n",
"x = 0:4;\n",
"n = length(x);\n",
"f = 'X^2 + Y^2 - Y';\n",
"tab = %nan*ones(n,5);\n",
"\n",
"for j = 0:4\n",
"    fj = strsubst(f,'Y','j');\n",
"    for i = 1:n\n",
"        tab(i,j+1) = eval(strsubst(fj,'X','x(i)'));\n",
"    end\n",
"end\n",
"//tab(:,1) = [];\n",
"mprintf('%4s %6s %6s %6s %6s %6s','x','y=0','y=1','y=2','y=3','y=4')\n",
"disp([(0:4)' tab])\n",
"tab2 = tab(2:4,2:4)';\n",
"n1 = length(tab2(:,1));\n",
"y = 2:4;\n",
"\n",
"del1 = %nan*ones(n1,3);\n",
"del1(:,1) = tab2(:,1);\n",
"for j = 2:4\n",
"    for i = 1:n1-j+1\n",
"        del1(i,j) = del1(i+1,j-1) - del1(i,j-1);\n",
"    end\n",
"end\n",
"\n",
"del2 = %nan*ones(n1,3);\n",
"del2(:,1) = tab2(:,2);\n",
"for j = 2:4\n",
"    for i = 1:n1-j+1\n",
"        del2(i,j) = del2(i+1,j-1) - del2(i,j-1);\n",
"    end\n",
"end\n",
"\n",
"del3 = %nan*ones(n1,3);\n",
"del3(:,1) = tab2(:,3);\n",
"for j = 2:4\n",
"    for i = 1:n1-j+1\n",
"        del3(i,j) = del3(i+1,j-1) - del3(i,j-1);\n",
"    end\n",
"end\n",
"\n",
"y0 = y(1);\n",
"Y = 3.5;\n",
"hy = y(2) - y(1);\n",
"py = (Y-y0)/hy;\n",
"\n",
"f1y = 0;\n",
"del1y0 = del1(1,:);\n",
"for i = 0:length(del1y0)-1\n",
"    t = 1;\n",
"    for j = 1:i\n",
"        t = t * (py-j+1);\n",
"    end\n",
"    f1y = f1y + t*del1y0(i+1)/factorial(i);\n",
"end\n",
"\n",
"f2y = 0;\n",
"del2y0 = del2(1,:);\n",
"for i = 0:length(del2y0)-1\n",
"    t = 1;\n",
"    for j = 1:i\n",
"        t = t * (py-j+1);\n",
"    end\n",
"    f2y = f2y + t*del2y0(i+1)/factorial(i);\n",
"end\n",
"\n",
"f3y = 0;\n",
"del3y0 = del3(1,:);\n",
"for i = 0:length(del3y0)-1\n",
"    t = 1;\n",
"    for j = 1:i\n",
"        t = t * (py-j+1);\n",
"    end\n",
"    f3y = f3y + t*del3y0(i+1)/factorial(i);\n",
"end\n",
"\n",
"del = %nan*ones(n1,3);\n",
"del(:,1) = [f1y; f2y; f3y];\n",
"for j = 2:4\n",
"    for i = 1:n1-j+1\n",
"        del(i,j) = del(i+1,j-1) - del(i,j-1);\n",
"    end\n",
"end\n",
"\n",
"f = 0;\n",
"X = 2.5;\n",
"x0 = x(2);\n",
"hx = x(2) - x(1);\n",
"px = (X-x0)/hx;\n",
"del0 = del(1,:)\n",
"for i = 0:length(del0)-1\n",
"    t = 1;\n",
"    for j = 1:i\n",
"        t = t * (px-j+1);\n",
"    end\n",
"    f = f + t*del0(i+1)/factorial(i);\n",
"end\n",
"disp(f,'f(2.5,3.5) = ')"
   ]
   }
,
{
		   "cell_type": "markdown",
		   "metadata": {},
		   "source": [
			"## Example 6.1: Forward_Difference_Table.sce"
		   ]
		  },
  {
"cell_type": "code",
	   "execution_count": null,
	   "metadata": {
	    "collapsed": true
	   },
	   "outputs": [],
"source": [
"//Example 6.1\n",
"\n",
"clc\n",
"clear\n",
"\n",
"x = 0.1:0.2:1.3;\n",
"y = [0.003 0.067 0.148 0.248 0.37 0.518 0.697];\n",
"\n",
"n = length(x);\n",
"del = %nan*ones(n,6);\n",
"del(:,1) = y';\n",
"for j = 2:6\n",
"    for i = 1:n-j+1\n",
"        del(i,j) = del(i+1,j-1) - del(i,j-1);\n",
"    end\n",
"end\n",
"del = [x' del];\n",
"del = round(del*10^3)/10^3;\n",
"mprintf('%5s %7s %8s %9s %8s %8s %8s','x','y','dy','d2y','d3y','d4y','d5y')\n",
"disp(del)"
   ]
   }
,
{
		   "cell_type": "markdown",
		   "metadata": {},
		   "source": [
			"## Example 6.20: Cubic_Spline_Curve.sce"
		   ]
		  },
  {
"cell_type": "code",
	   "execution_count": null,
	   "metadata": {
	    "collapsed": true
	   },
	   "outputs": [],
"source": [
"//Example 6.20\n",
"\n",
"clc\n",
"clear\n",
"\n",
"function [p] = cubicsplin(x,y)\n",
"// Fits point data to cubic spline fit\n",
"\n",
"n = length(x);\n",
"a = y(1:n-1);   // Spline Initials\n",
"\n",
"M1 = zeros(3*(n-1));\n",
"M2 = zeros(3*(n-1),1);\n",
"// Point Substitutions\n",
"for i = 1:n-1\n",
"    M1(i,i) = x(i+1) - x(i);\n",
"    M1(i,i+n-1) = (x(i+1) - x(i))^2;\n",
"    M1(i,i+2*(n-1)) = (x(i+1) - x(i))^3;\n",
"    M2(i) = y(i+1) - y(i);\n",
"end\n",
"\n",
"// Knot equations\n",
"for i = 1:n-2\n",
"    // Derivative (S') continuity\n",
"    M1(i+n-1,i) = 1;\n",
"    M1(i+n-1,i+1) = -1;\n",
"    M1(i+n-1,i+n-1) = 2*(x(i+1)-x(i));\n",
"    M1(i+n-1,i+2*(n-1)) = 3*(x(i+1)-x(i))^2;\n",
"    // S'' continuity\n",
"    M1(i+2*n-3,i+n-1) = 2;\n",
"    M1(i+2*n-3,i+n) = -2;\n",
"    M1(i+2*n-3,i+2*(n-1)) = 6*(x(i+1)-x(i));\n",
"end\n",
"// Given BC\n",
"M1(3*n-4,n) = 1;\n",
"M1(3*n-3,2*n-2) = 1;\n",
"M1(3*n-3,3*n-3) = 3*(3-2);\n",
"\n",
"var = M1\M2;\n",
"var = round(var);\n",
"b = var(1:n-1);\n",
"c = var(n:2*(n-1));\n",
"d = var(2*(n-1)+1:3*(n-1));\n",
"p = [d c b a(:)];\n",
"endfunction\n",
"\n",
"x = 0:3;\n",
"y = [1 4 0 -2];\n",
"p = cubicsplin(x,y);\n",
"for i = 1:length(p(:,1))\n",
"    disp(strcat(['S',string(i-1),'(x) =']))\n",
"    disp(poly(p(i,:),'X',['coeff']))\n",
"end"
   ]
   }
,
{
		   "cell_type": "markdown",
		   "metadata": {},
		   "source": [
			"## Example 6.21: Cubic_Spline_Curve.sce"
		   ]
		  },
  {
"cell_type": "code",
	   "execution_count": null,
	   "metadata": {
	    "collapsed": true
	   },
	   "outputs": [],
"source": [
"//Example 6.21\n",
"\n",
"clc\n",
"clear\n",
"\n",
"function [p] = cubicsplin(x,y)\n",
"// Fits point data to cubic spline fit\n",
"\n",
"n = length(x);\n",
"a = y(1:n-1);   // Spline Initials\n",
"\n",
"M1 = zeros(3*(n-1));\n",
"M2 = zeros(3*(n-1),1);\n",
"// Point Substitutions\n",
"for i = 1:n-1\n",
"    M1(i,i) = x(i+1) - x(i);\n",
"    M1(i,i+n-1) = (x(i+1) - x(i))^2;\n",
"    M1(i,i+2*(n-1)) = (x(i+1) - x(i))^3;\n",
"    M2(i) = y(i+1) - y(i);\n",
"end\n",
"\n",
"// Knot equations\n",
"for i = 1:n-2\n",
"    // Derivative (S') continuity\n",
"    M1(i+n-1,i) = 1;\n",
"    M1(i+n-1,i+1) = -1;\n",
"    M1(i+n-1,i+n-1) = 2*(x(i+1)-x(i));\n",
"    M1(i+n-1,i+2*(n-1)) = 3*(x(i+1)-x(i))^2;\n",
"    // S'' continuity\n",
"    M1(i+2*n-3,i+n-1) = 2;\n",
"    M1(i+2*n-3,i+n) = -2;\n",
"    M1(i+2*n-3,i+2*(n-1)) = 6*(x(i+1)-x(i));\n",
"end\n",
"// Given BC\n",
"M1(3*n-4,1) = 1;\n",
"M1(3*n-3,n-1) = 1;\n",
"M1(3*n-3,2*n-2) = 2*(3-2);\n",
"M1(3*n-3,3*n-3) = 3*(3-2)^2;\n",
"M2(3*n-4) = 2;\n",
"M2(3*n-3) = 2;\n",
"\n",
"var = M1\M2;\n",
"var = round(var);\n",
"b = var(1:n-1);\n",
"c = var(n:2*(n-1));\n",
"d = var(2*(n-1)+1:3*(n-1));\n",
"\n",
"p = [a(:) b c d];\n",
"endfunction\n",
"\n",
"x = 0:3;\n",
"y = [1 4 0 -2];\n",
"p = cubicsplin(x,y);\n",
"for i=1:length(p(:,1))\n",
"    disp(strcat(['S',string(i-1),'(x) = ']))\n",
"    disp(poly(p(i,:),'x',['coeff']))\n",
"end"
   ]
   }
,
{
		   "cell_type": "markdown",
		   "metadata": {},
		   "source": [
			"## Example 6.22: Minima_of_a_Tabulated_Function.sce"
		   ]
		  },
  {
"cell_type": "code",
	   "execution_count": null,
	   "metadata": {
	    "collapsed": true
	   },
	   "outputs": [],
"source": [
"//Example 6.22\n",
"\n",
"clc\n",
"clear\n",
"\n",
"x = 3:8;\n",
"y = [0.205 0.24 0.259 0.262 0.25 0.224];\n",
"\n",
"n = length(x);\n",
"del = %nan*ones(n,5);\n",
"del(:,1) = y';\n",
"for j = 2:5\n",
"    for i = 1:n-j+1\n",
"        del(i,j) = del(i+1,j-1) - del(i,j-1);\n",
"    end\n",
"end\n",
"\n",
"X = poly(0, 'X');\n",
"x0 = x(1);\n",
"y0 = y(1);\n",
"h = x(2) - x(1);\n",
"p = (X-x0)/h;\n",
"del0 = del(1,:);\n",
"del0 = round(del0*10^4)/10^4;\n",
"del0 = del0(1:find(del0==0)-1);\n",
"\n",
"Y = 0;\n",
"for i = 0:length(del0)-1\n",
"    t = 1;\n",
"    for j = 1:i\n",
"        t = t * (p-j+1);\n",
"    end\n",
"    Y = Y + t*del0(i+1)/factorial(i);\n",
"end\n",
"disp(Y,'y = ')\n",
"\n",
"dydx = derivat(Y);\n",
"minx = roots(dydx);\n",
"miny = round(horner(Y,minx)*10^5)/10^5;\n",
"disp(minx,'min_x = ')\n",
"disp(miny,'min_y = ')\n",
"//min_y value is incorrectly displayed in textbook as 0.25425 instead of 0.26278"
   ]
   }
,
{
		   "cell_type": "markdown",
		   "metadata": {},
		   "source": [
			"## Example 6.23: Maxima_of_a_Tabulated_Function.sce"
		   ]
		  },
  {
"cell_type": "code",
	   "execution_count": null,
	   "metadata": {
	    "collapsed": true
	   },
	   "outputs": [],
"source": [
"//Example 6.23\n",
"\n",
"clc\n",
"clear\n",
"\n",
"x = [-1 1 2 3];\n",
"y = [-21 15 12 3];\n",
"\n",
"n = length(x);\n",
"X = poly(0, 'X');\n",
"Y = 0;\n",
"for i = 1:n\n",
"    t = x;\n",
"    t(i) = [];\n",
"    p = 1;\n",
"    for j = 1:length(t)\n",
"        p = p * (X-t(j))/(x(i)-t(j));\n",
"    end\n",
"    Y = Y + p*y(i);\n",
"end\n",
"\n",
"dydx = derivat(Y);\n",
"extx = real(roots(dydx));\n",
"extx = round(extx*10^4)/10^4;\n",
"d2ydx = derivat(dydx);\n",
"\n",
"if  horner(d2ydx,extx(1)) < 0 then\n",
"    maxx = extx(1);\n",
"    maxy = horner(Y,maxx);\n",
"else\n",
"    maxx = extx(2);\n",
"    maxy = horner(Y,maxx);\n",
"end\n",
"maxy = round(maxy*10^4)/10^4;\n",
"disp(maxx,'max_x = ')\n",
"disp(maxy,'max_y = ')"
   ]
   }
,
{
		   "cell_type": "markdown",
		   "metadata": {},
		   "source": [
			"## Example 6.24: Determination_of_Function_Value.sce"
		   ]
		  },
  {
"cell_type": "code",
	   "execution_count": null,
	   "metadata": {
	    "collapsed": true
	   },
	   "outputs": [],
"source": [
"//Example 6.24\n",
"\n",
"clc\n",
"clear\n",
"\n",
"x = 1:3:10;\n",
"F = [500426 329240 175212 40365];\n",
"\n",
"n = length(x);\n",
"del = %nan*ones(n,4);\n",
"del(:,1) = F';\n",
"for j = 2:4\n",
"    for i = 1:n-j+1\n",
"        del(i,j) = del(i+1,j-1) - del(i,j-1);\n",
"    end\n",
"end\n",
"\n",
"del0 = del(1,:);\n",
"X = 2;\n",
"x0 = x(1);\n",
"h = x(2) - x(1);\n",
"p = (X-x0) / h;\n",
"F2 = 0;\n",
"for i = 0:length(del0)-1\n",
"    t = 1;\n",
"    for j = 1:i\n",
"        t = t * (p-j+1);\n",
"    end\n",
"    F2 = F2 + t*del0(i+1)/factorial(i);\n",
"end\n",
"\n",
"f2 = F(1) - F2;\n",
"disp(f2,'f(2) = ')"
   ]
   }
,
{
		   "cell_type": "markdown",
		   "metadata": {},
		   "source": [
			"## Example 6.2: Expression_for_Finite_Difference_Elements.sce"
		   ]
		  },
  {
"cell_type": "code",
	   "execution_count": null,
	   "metadata": {
	    "collapsed": true
	   },
	   "outputs": [],
"source": [
"// Example 6.2\n",
"// This is an analytical problem and need not be coded."
   ]
   }
,
{
		   "cell_type": "markdown",
		   "metadata": {},
		   "source": [
			"## Example 6.3: Expression_for_Finite_Difference_Elements.sce"
		   ]
		  },
  {
"cell_type": "code",
	   "execution_count": null,
	   "metadata": {
	    "collapsed": true
	   },
	   "outputs": [],
"source": [
"// Example 6.3\n",
"// This is an analytical problem and need not be coded."
   ]
   }
,
{
		   "cell_type": "markdown",
		   "metadata": {},
		   "source": [
			"## Example 6.4: Expression_for_Finite_Difference_Elements.sce"
		   ]
		  },
  {
"cell_type": "code",
	   "execution_count": null,
	   "metadata": {
	    "collapsed": true
	   },
	   "outputs": [],
"source": [
"// Example 6.4\n",
"// This is an analytical problem and need not be coded."
   ]
   }
,
{
		   "cell_type": "markdown",
		   "metadata": {},
		   "source": [
			"## Example 6.5: Proof_of_Relatio.sce"
		   ]
		  },
  {
"cell_type": "code",
	   "execution_count": null,
	   "metadata": {
	    "collapsed": true
	   },
	   "outputs": [],
"source": [
"// Example 6.5\n",
"// This is an analytical problem and need not be coded."
   ]
   }
,
{
		   "cell_type": "markdown",
		   "metadata": {},
		   "source": [
			"## Example 6.6: Proofs_of_given_Relations.sce"
		   ]
		  },
  {
"cell_type": "code",
	   "execution_count": null,
	   "metadata": {
	    "collapsed": true
	   },
	   "outputs": [],
"source": [
"// Example 6.6\n",
"// This is an analytical problem and need not be coded."
   ]
   }
,
{
		   "cell_type": "markdown",
		   "metadata": {},
		   "source": [
			"## Example 6.7: Proof_for_Commutation_of_given_Operations.sce"
		   ]
		  },
  {
"cell_type": "code",
	   "execution_count": null,
	   "metadata": {
	    "collapsed": true
	   },
	   "outputs": [],
"source": [
"// Example 6.7\n",
"// This is an analytical problem and need not be coded."
   ]
   }
,
{
		   "cell_type": "markdown",
		   "metadata": {},
		   "source": [
			"## Example 6.8: Newton_Forward_Difference_Interpolation_Formula.sce"
		   ]
		  },
  {
"cell_type": "code",
	   "execution_count": null,
	   "metadata": {
	    "collapsed": true
	   },
	   "outputs": [],
"source": [
"//Example 6.8\n",
"\n",
"clc\n",
"clear\n",
"\n",
"x = 10:10:50;\n",
"y = [46 66 81 93 101];\n",
"\n",
"n = length(x);\n",
"del = %nan*ones(n,5);\n",
"del(:,1) = y';\n",
"for j = 2:5\n",
"    for i = 1:n-j+1\n",
"        del(i,j) = del(i+1,j-1) - del(i,j-1);\n",
"    end\n",
"end\n",
"del(:,1) = [];\n",
"\n",
"X = 15; //input\n",
"for i = 1:n\n",
"    if X>x(i) then\n",
"        h = x(i+1) - x(i);\n",
"        p = (X-x(i)) / h;\n",
"        x0 = x(i);\n",
"        y0 = y(i);\n",
"        dely0 = del(i,:);\n",
"        dely0(isnan(y0)) = [];\n",
"    end\n",
"end\n",
"\n",
"Y = y0;\n",
"\n",
"for i = 1:length(dely0)\n",
"    t = 1;\n",
"    for j = 1:i\n",
"        t = t * (p-j+1);\n",
"    end\n",
"    Y = Y + t*dely0(i)/factorial(i);\n",
"end\n",
"Y = round(Y*10^4)/10^4;\n",
"disp(Y,'f(15) = ')"
   ]
   }
,
{
		   "cell_type": "markdown",
		   "metadata": {},
		   "source": [
			"## Example 6.9: Newton_Forward_Difference_Interpolation_Formula.sce"
		   ]
		  },
  {
"cell_type": "code",
	   "execution_count": null,
	   "metadata": {
	    "collapsed": true
	   },
	   "outputs": [],
"source": [
"//Example 6.9\n",
"\n",
"clc\n",
"clear\n",
"\n",
"x = 0.1:0.1:0.5;\n",
"y = [1.4 1.56 1.76 2 2.28];\n",
"\n",
"n = length(x);\n",
"del = %nan*ones(n,5);\n",
"del(:,1) = y';\n",
"for j = 2:5\n",
"    for i = 1:n-j+1\n",
"        del(i,j) = del(i+1,j-1) - del(i,j-1);\n",
"    end\n",
"end\n",
"del(:,1) = [];\n",
"\n",
"X = poly(0, 'X');\n",
"h = x(2) - x(1);\n",
"p = (X-x(1)) / h;\n",
"x0 = x(1);\n",
"y0 = y(1);\n",
"dely0 = del(1,:);\n",
"\n",
"Y = y0;\n",
"\n",
"for i = 1:length(dely0)\n",
"    t = 1;\n",
"    for j = 1:i\n",
"        t = t * (p-j+1);\n",
"    end\n",
"    Y = Y + t*dely0(i)/factorial(i);\n",
"end\n",
"Y = round(Y*10^2)/10^2;\n",
"disp(Y,'Required Newton''s Interpolating Polynomial:')"
   ]
   }
],
"metadata": {
		  "kernelspec": {
		   "display_name": "Scilab",
		   "language": "scilab",
		   "name": "scilab"
		  },
		  "language_info": {
		   "file_extension": ".sce",
		   "help_links": [
			{
			 "text": "MetaKernel Magics",
			 "url": "https://github.com/calysto/metakernel/blob/master/metakernel/magics/README.md"
			}
		   ],
		   "mimetype": "text/x-octave",
		   "name": "scilab",
		   "version": "0.7.1"
		  }
		 },
		 "nbformat": 4,
		 "nbformat_minor": 0
}
