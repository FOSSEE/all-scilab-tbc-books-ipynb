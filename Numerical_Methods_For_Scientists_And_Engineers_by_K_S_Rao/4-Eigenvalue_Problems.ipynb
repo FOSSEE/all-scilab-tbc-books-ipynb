{
"cells": [
 {
		   "cell_type": "markdown",
	   "metadata": {},
	   "source": [
       "# Chapter 4: Eigenvalue Problems"
	   ]
	},
{
		   "cell_type": "markdown",
		   "metadata": {},
		   "source": [
			"## Example 4.1: Eigenvalues_and_Eigenvectors.sce"
		   ]
		  },
  {
"cell_type": "code",
	   "execution_count": null,
	   "metadata": {
	    "collapsed": true
	   },
	   "outputs": [],
"source": [
"//Example 4.1\n",
"clc\n",
"clear\n",
"\n",
"A = [2 3 2; 4 3 5; 3 2 9];\n",
"v = [1; 1; 1];\n",
"iter = 1;\n",
"maxit = 5;\n",
"\n",
"while(1)\n",
"    u(:,iter) = A * v(:,iter);\n",
"    q(iter) = max(u(:,iter));\n",
"    v(:,iter+1) = u(:,iter) / q(iter);\n",
"    if iter == maxit then\n",
"        break\n",
"    end\n",
"    iter = iter + 1;\n",
"end\n",
"X = round(v(:,iter)*10^2) / 10^2;\n",
"disp(X,'Eigen Vector:')"
   ]
   }
,
{
		   "cell_type": "markdown",
		   "metadata": {},
		   "source": [
			"## Example 4.2: Eigenvalues_and_Eigenvectors_using_Jacobi_Method.sce"
		   ]
		  },
  {
"cell_type": "code",
	   "execution_count": null,
	   "metadata": {
	    "collapsed": true
	   },
	   "outputs": [],
"source": [
"//Example 4.2\n",
"clc\n",
"clear\n",
"\n",
"rt2 = sqrt(2);\n",
"A = [1 rt2 2; rt2 3 rt2; 2 rt2 1];\n",
"[n,n] = size(A);\n",
"iter = 1;\n",
"maxit = 3;\n",
"D = A;\n",
"S = 1;\n",
"\n",
"while(1)\n",
"    D_offdiag = D - diag(diag(D));\n",
"    [mx,index1] = max(abs(D_offdiag));\n",
"    i = index1(1);\n",
"    j = index1(2);\n",
"    if (D(i,i)-D(j,j)) == 0 then\n",
"        theta = %pi/4;\n",
"    else\n",
"        theta = atan(2*D(i,j)/(D(i,i)-D(j,j))) / 2;\n",
"    end\n",
"    S1 = eye(n,n);\n",
"    S1(i,i) = cos(theta);\n",
"    S1(i,j) = -sin(theta);\n",
"    S1(j,i) = sin(theta);\n",
"    S1(j,j) = cos(theta);\n",
"\n",
"    D1 = inv(S1) * D * S1;\n",
"    for j = 1:n\n",
"        for i = 1:n\n",
"            if abs(D1(i,j)) < 1D-10 then\n",
"                D1(i,j) = 0;\n",
"            end\n",
"        end\n",
"    end\n",
"    S = S * S1;\n",
"\n",
"    if D1 - diag(diag(D1)) == zeros(n,n) | iter == maxit then\n",
"        eigval = diag(D1);\n",
"        disp('Eigen Values:')\n",
"        disp(eigval)\n",
"\n",
"        disp('Eigen Vectors:')\n",
"        disp(S(:,1))\n",
"        disp(S(:,2))\n",
"        disp(S(:,3))\n",
"        break\n",
"    end\n",
"\n",
"    iter = iter + 1;\n",
"    D = D1;\n",
"end"
   ]
   }
,
{
		   "cell_type": "markdown",
		   "metadata": {},
		   "source": [
			"## Example 4.3: Eigenvalues_using_Jacobi_Method.sce"
		   ]
		  },
  {
"cell_type": "code",
	   "execution_count": null,
	   "metadata": {
	    "collapsed": true
	   },
	   "outputs": [],
"source": [
"//Example 4.3\n",
"clc\n",
"clear\n",
"\n",
"A = [2 -1 0; -1 2 -1; 0 -1 2];\n",
"[n,n] = size(A);\n",
"iter = 1;\n",
"maxit = 3;\n",
"//Note: Diagonal form may be achieved at iter = 9. Modify maxit to greater than 9 for exact result.\n",
"\n",
"D = A;\n",
"S = 1;\n",
"\n",
"while(1)\n",
"    D_offdiag = D - diag(diag(D));\n",
"    [mx,index1] = max(abs(D_offdiag));\n",
"    i = index1(1);\n",
"    j = index1(2);\n",
"    if (D(i,i)-D(j,j)) == 0 then\n",
"        theta = %pi/4;\n",
"    else\n",
"        theta = atan(2*D(i,j)/(D(i,i)-D(j,j))) / 2;\n",
"    end\n",
"    S1 = eye(n,n);\n",
"    S1(i,i) = cos(theta);\n",
"    S1(i,j) = -sin(theta);\n",
"    S1(j,i) = sin(theta);\n",
"    S1(j,j) = cos(theta);\n",
"\n",
"    D1 = inv(S1) * D * S1;\n",
"    for j = 1:n\n",
"        for i = 1:n\n",
"            if abs(D1(i,j)) < 1D-10 then\n",
"                D1(i,j) = 0;\n",
"            end\n",
"        end\n",
"    end\n",
"    S = S * S1;\n",
"\n",
"    if D1 - diag(diag(D1)) == zeros(n,n) | iter == maxit then\n",
"        eigval = diag(D1);\n",
"        eigval = round(eigval*10^3)/10^3;\n",
"        disp('Eigen Values:')\n",
"        disp(eigval)\n",
"        break\n",
"    end\n",
"\n",
"    iter = iter + 1;\n",
"    D = D1;\n",
"end"
   ]
   }
,
{
		   "cell_type": "markdown",
		   "metadata": {},
		   "source": [
			"## Example 4.4: Eigenvalues_and_Eigenvectors_using_Jacobi_Method.sce"
		   ]
		  },
  {
"cell_type": "code",
	   "execution_count": null,
	   "metadata": {
	    "collapsed": true
	   },
	   "outputs": [],
"source": [
"//Example 4.4\n",
"clc\n",
"clear\n",
"\n",
"A = [5 0 1; 0 -2 0; 1 0 5];\n",
"[n,n] = size(A);\n",
"iter = 1;\n",
"maxit = 3;\n",
"D = A;\n",
"S = 1;\n",
"\n",
"while(1)\n",
"    D_offdiag = D - diag(diag(D));\n",
"    [mx,index1] = max(abs(D_offdiag));\n",
"    i = index1(1);\n",
"    j = index1(2);\n",
"    if (D(i,i)-D(j,j)) == 0 then\n",
"        theta = %pi/4;\n",
"    else\n",
"        theta = atan(2*D(i,j)/(D(i,i)-D(j,j))) / 2;\n",
"    end\n",
"    S1 = eye(n,n);\n",
"    S1(i,i) = cos(theta);\n",
"    S1(i,j) = -sin(theta);\n",
"    S1(j,i) = sin(theta);\n",
"    S1(j,j) = cos(theta);\n",
"\n",
"    D1 = inv(S1) * D * S1;\n",
"    for j = 1:n\n",
"        for i = 1:n\n",
"            if abs(D1(i,j)) < 1D-10 then\n",
"                D1(i,j) = 0;\n",
"            end\n",
"        end\n",
"    end\n",
"    S = S * S1;\n",
"\n",
"    if D1 - diag(diag(D1)) == zeros(n,n) | iter == maxit then\n",
"        eigval = diag(D1);\n",
"        disp('Eigen Values:')\n",
"        disp(eigval)\n",
"\n",
"        disp('Eigen Vectors:')\n",
"        disp(S(:,1))\n",
"        disp(S(:,2))\n",
"        disp(S(:,3))\n",
"        break\n",
"    end\n",
"\n",
"    iter = iter + 1;\n",
"    D = D1;\n",
"end"
   ]
   }
],
"metadata": {
		  "kernelspec": {
		   "display_name": "Scilab",
		   "language": "scilab",
		   "name": "scilab"
		  },
		  "language_info": {
		   "file_extension": ".sce",
		   "help_links": [
			{
			 "text": "MetaKernel Magics",
			 "url": "https://github.com/calysto/metakernel/blob/master/metakernel/magics/README.md"
			}
		   ],
		   "mimetype": "text/x-octave",
		   "name": "scilab",
		   "version": "0.7.1"
		  }
		 },
		 "nbformat": 4,
		 "nbformat_minor": 0
}
