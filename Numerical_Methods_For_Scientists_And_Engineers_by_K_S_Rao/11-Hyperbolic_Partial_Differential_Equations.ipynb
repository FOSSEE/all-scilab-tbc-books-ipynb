{
"cells": [
 {
		   "cell_type": "markdown",
	   "metadata": {},
	   "source": [
       "# Chapter 11: Hyperbolic Partial Differential Equations"
	   ]
	},
{
		   "cell_type": "markdown",
		   "metadata": {},
		   "source": [
			"## Example 11.1: Initial_Value_Problem_using_Wave_Equation.sce"
		   ]
		  },
  {
"cell_type": "code",
	   "execution_count": null,
	   "metadata": {
	    "collapsed": true
	   },
	   "outputs": [],
"source": [
"//Example 11.1\n",
"\n",
"clc\n",
"clear\n",
"\n",
"delx = 1/8;\n",
"delt = 1/8;\n",
"x = 0:delx:1;\n",
"t = 0:delt:1;\n",
"m = length(x);\n",
"n = length(t);\n",
"u =zeros(n,m);\n",
"u(1,:) = sin(%pi*x);\n",
"N = 1/delx;\n",
"r = delt/delx;\n",
"\n",
"for j = 2:n\n",
"    for i = 2:m-1\n",
"        if j == 2 then\n",
"            u(j,i) = (2*(1-r^2)*u(j-1,i) + r^2*(u(j-1,i-1) + u(j-1,i+1))) /2;\n",
"        else\n",
"            u(j,i) = 2*(1-r^2)*u(j-1,i) + r^2*(u(j-1,i-1) + u(j-1,i+1)) - u(j-2,i);\n",
"        end\n",
"    end\n",
"end\n",
"u = round(u*10^4)/10^4;\n",
"mprintf('\n\n%6s %9s %9s %8s %s %8s %10s %10s %9s %7s %s','t','x = 0.0','x = 0.125','x = 0.25','x = 0.375','x = 0.5','x=0.625','x = 0.75','x=0.875','x = 1.0','n');\n",
"disp([(0:1/8:1)' u (0:n-1)']);\n",
"mprintf('\n\n');\n",
"t = [1/2 1];\n",
"for i = 1:length(t)\n",
"    Ex(i,:) = sin(%pi*x) * cos(%pi*t(i));\n",
"end\n",
"Ex = round(Ex*10^4)/10^4;\n",
"disp('At t = 1/2:')\n",
"disp(u(find(x==1/2),:),'Computed Solution:')\n",
"disp(Ex(1,:),'Actual Solution:')\n",
"\n",
"disp('At t = 1:')\n",
"disp(u(find(x==1),:),'Computed Solution:')\n",
"disp(Ex(2,:),'Actual Solution:')"
   ]
   }
,
{
		   "cell_type": "markdown",
		   "metadata": {},
		   "source": [
			"## Example 11.2: Initial_Value_Problem_using_Wave_Equation.sce"
		   ]
		  },
  {
"cell_type": "code",
	   "execution_count": null,
	   "metadata": {
	    "collapsed": true
	   },
	   "outputs": [],
"source": [
"//Example 11.2\n",
"\n",
"clc\n",
"clear\n",
"\n",
"delx = 0.2;\n",
"delt = 0.2;\n",
"x = 0:delx:1;\n",
"t = 0:delt:0.8;\n",
"m = length(x);\n",
"n = length(t);\n",
"u =zeros(n,m);\n",
"u(1,:) = x^2;\n",
"u(:,m) = 1+t';\n",
"N = 1/delx;\n",
"r = delt/delx;\n",
"\n",
"for j = 2:n\n",
"    for i = 2:m-1\n",
"        if j == 2 then\n",
"            u(j,i) = (2*(1-r^2)*u(j-1,i) + r^2*(u(j-1,i-1) + u(j-1,i+1)) + 2*delt) /2;\n",
"        else\n",
"            u(j,i) = 2*(1-r^2)*u(j-1,i) + r^2*(u(j-1,i-1) + u(j-1,i+1)) - u(j-2,i);\n",
"        end\n",
"    end\n",
"end\n",
"u = round(u*10^4)/10^4;\n",
"mprintf('\n%5s %9s %7s %7s %s %6s %6s','t','x = 0.0','x = 0.2','x = 0.4','x = 0.6','x = 0.8','x = 1.0');\n",
"disp([t' u])"
   ]
   }
],
"metadata": {
		  "kernelspec": {
		   "display_name": "Scilab",
		   "language": "scilab",
		   "name": "scilab"
		  },
		  "language_info": {
		   "file_extension": ".sce",
		   "help_links": [
			{
			 "text": "MetaKernel Magics",
			 "url": "https://github.com/calysto/metakernel/blob/master/metakernel/magics/README.md"
			}
		   ],
		   "mimetype": "text/x-octave",
		   "name": "scilab",
		   "version": "0.7.1"
		  }
		 },
		 "nbformat": 4,
		 "nbformat_minor": 0
}
