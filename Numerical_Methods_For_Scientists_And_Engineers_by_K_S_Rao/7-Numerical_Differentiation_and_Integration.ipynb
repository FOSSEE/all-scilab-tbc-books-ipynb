{
"cells": [
 {
		   "cell_type": "markdown",
	   "metadata": {},
	   "source": [
       "# Chapter 7: Numerical Differentiation and Integration"
	   ]
	},
{
		   "cell_type": "markdown",
		   "metadata": {},
		   "source": [
			"## Example 7.10: Integral_using_Simpson_One_Third_Rule.sce"
		   ]
		  },
  {
"cell_type": "code",
	   "execution_count": null,
	   "metadata": {
	    "collapsed": true
	   },
	   "outputs": [],
"source": [
"//Etample 7.10\n",
"\n",
"clc\n",
"clear\n",
"\n",
"t = 0:10:80;\n",
"a = [30 31.63 33.34 35.47 37.75 40.33 43.25 46.69 50.67];\n",
"\n",
"h = t(2) - t(1);\n",
"n = length(t);\n",
"\n",
"Is13 = a(1);\n",
"for i = 2:n-1\n",
"    rem2 = i-fix(i./2).*2;\n",
"    if rem2 == 0 then\n",
"        Is13 = Is13 + 4*a(i);\n",
"    else\n",
"        Is13 = Is13 + 2*a(i);\n",
"    end\n",
"end\n",
"Is13 = (Is13 + a(n))/10^3;\n",
"Is13 = round(h/3*Is13*10^4)/10^4;\n",
"disp(strcat(['v = ',string(Is13),' km/s']))"
   ]
   }
,
{
		   "cell_type": "markdown",
		   "metadata": {},
		   "source": [
			"## Example 7.11: Romberg_Integration_Method.sce"
		   ]
		  },
  {
"cell_type": "code",
	   "execution_count": null,
	   "metadata": {
	    "collapsed": true
	   },
	   "outputs": [],
"source": [
"//Example 7.11\n",
"\n",
"clc\n",
"clear\n",
"\n",
"x = 1:0.1:1.8;\n",
"x = round(x*10)/10;\n",
"y = [1.543 1.669 1.811 1.971 2.151 2.352 2.577 2.828 3.107];\n",
"n = length(x);\n",
"x0 = x(1);\n",
"xn = x(n);\n",
"\n",
"N = [1 2 4 8]\n",
"for j = 1:length(N)\n",
"    h = (xn - x0)./N(j);\n",
"    I = y(1);\n",
"    for xx = x0+h:h:xn-h\n",
"        xx = round(xx*10)/10;\n",
"        I = I + 2*y(x==xx);\n",
"    end\n",
"    Itrap(j) = h/2*(I + y(n));\n",
"    IRomb(1) = Itrap(1);\n",
"    if j~=1 then\n",
"        IRomb(j) = (4^(j-1)*Itrap(j)-IRomb(j-1))/(4^(j-1)-1);\n",
"    end\n",
"end\n",
"IRomb = round(IRomb*10^5)/10^5;\n",
"\n",
"disp(Itrap(length(N)),'Integral using Trapezoidal rule:')\n",
"disp(IRomb(length(N)),'Integral using Romberg''s formula:')\n",
"//In third step of computation of integral using Romberg's formula, author mistakenly took the 1.7672 instead of 1.7684 which resulted in a difference"
   ]
   }
,
{
		   "cell_type": "markdown",
		   "metadata": {},
		   "source": [
			"## Example 7.12: Double_Integral_using_Trapezoidal_Rule.sce"
		   ]
		  },
  {
"cell_type": "code",
	   "execution_count": null,
	   "metadata": {
	    "collapsed": true
	   },
	   "outputs": [],
"source": [
"//Example 7.12\n",
"\n",
"clc\n",
"clear\n",
"\n",
"function [f] = fun1(x,y)\n",
"    f = 1 / (x+y);\n",
"endfunction\n",
"\n",
"x = 1:0.25:2;\n",
"y = x;\n",
"\n",
"m = length(x);\n",
"n = length(y);\n",
"\n",
"del = %nan*ones(m,n);\n",
"for j = 1:n\n",
"    for i = 1:m\n",
"        del(i,j) = fun1(x(i),y(j));\n",
"    end\n",
"end\n",
"\n",
"hx = x(2) - x(1);\n",
"for i = 1:m\n",
"    I = del(i,1);\n",
"    for j = 2:n-1\n",
"        I = I + 2*del(i,j);\n",
"    end\n",
"    Itrap1(i) = hx/2 * (I+del(i,n));\n",
"end\n",
"Itrap1 = round(Itrap1*10^4)/10^4;\n",
"\n",
"hy = y(2) - y(1);\n",
"Itrap2 = Itrap1(1)\n",
"for i = 2:n-1\n",
"    Itrap2 = Itrap2 + 2* Itrap1(i);\n",
"end\n",
"Itrap2 = round(hy/2*(Itrap2+Itrap1(m))*10^4)/10^4;\n",
"disp(Itrap2,'I = ')"
   ]
   }
,
{
		   "cell_type": "markdown",
		   "metadata": {},
		   "source": [
			"## Example 7.13: Double_Integral_using_Trapezoidal_Rule.sce"
		   ]
		  },
  {
"cell_type": "code",
	   "execution_count": null,
	   "metadata": {
	    "collapsed": true
	   },
	   "outputs": [],
"source": [
"//Example 7.13\n",
"\n",
"clc\n",
"clear\n",
"\n",
"function [f] = fun1(x,y)\n",
"    f = sqrt(sin(x+y));\n",
"endfunction\n",
"\n",
"x = 0:%pi/8:%pi/2;\n",
"y = x;\n",
"\n",
"m = length(x);\n",
"n = length(y);\n",
"\n",
"del = %nan*ones(m,n);\n",
"for j = 1:n\n",
"    for i = 1:m\n",
"        del(i,j) = fun1(x(i),y(j));\n",
"    end\n",
"end\n",
"\n",
"hx = x(2) - x(1);\n",
"for i = 1:m\n",
"    I = del(i,1);\n",
"    for j = 2:n-1\n",
"        I = I + 2*del(i,j);\n",
"    end\n",
"    Itrap1(i) = hx/2 * (I+del(i,n));\n",
"end\n",
"Itrap1 = round(Itrap1*10^4)/10^4;\n",
"\n",
"hy = y(2) - y(1);\n",
"Itrap2 = Itrap1(1)\n",
"for i = 2:n-1\n",
"    Itrap2 = Itrap2 + 2* Itrap1(i);\n",
"end\n",
"Itrap2 = round(hy/2*(Itrap2+Itrap1(m))*10^4)/10^4;\n",
"disp(Itrap2,'I = ')"
   ]
   }
,
{
		   "cell_type": "markdown",
		   "metadata": {},
		   "source": [
			"## Example 7.14: One_Point_Gauss_Legendre_Quadrature_Formula.sce"
		   ]
		  },
  {
"cell_type": "code",
	   "execution_count": null,
	   "metadata": {
	    "collapsed": true
	   },
	   "outputs": [],
"source": [
"//Example 7.14\n",
"\n",
"clc\n",
"clear\n",
"\n",
"n = 1;\n",
"if n==1 then\n",
"    M = [0 2];\n",
"elseif n==2\n",
"    M = [sqrt(1/3) 1; -sqrt(1/3) 1];\n",
"elseif n==3\n",
"    M = [0 8/9; -0.774597 5/9; 0.774597 5/9];\n",
"elseif n==4\n",
"    M = [-0.339981 0.652145; -0.861136 0.347855; 0.339981 0.652145; 0.861136 0.347855];\n",
"elseif n==5\n",
"    M = [-0 0.568889; -0.538469 0.467914; -0.906180 0.236927; 0 0.568889; 0.538469 0.467914; 0.906180 0.236927];\n",
"elseif n==6\n",
"    M = [-0.238619 0.467914; -0.661209 0.360762; -0.932470 0.171325; 0.238619 0.467914; 0.661209 0.360762; 0.932470 0.171325];\n",
"end\n",
"\n",
"X = M(:,1);\n",
"W = M(:,2);\n",
"\n",
"disp(X,'E1 = ')\n",
"disp(W,'W1 = ')"
   ]
   }
,
{
		   "cell_type": "markdown",
		   "metadata": {},
		   "source": [
			"## Example 7.15: Two_Point_Gauss_Legendre_Quadrature_Formula.sce"
		   ]
		  },
  {
"cell_type": "code",
	   "execution_count": null,
	   "metadata": {
	    "collapsed": true
	   },
	   "outputs": [],
"source": [
"//Example 7.15\n",
"\n",
"clc\n",
"clear\n",
"\n",
"n = 2;\n",
"if n==1 then\n",
"    M = [0 2];\n",
"elseif n==2\n",
"    M = [sqrt(1/3) 1; -sqrt(1/3) 1];\n",
"elseif n==3\n",
"    M = [0 8/9; -0.774597 5/9; 0.774597 5/9];\n",
"elseif n==4\n",
"    M = [-0.339981 0.652145; -0.861136 0.347855; 0.339981 0.652145; 0.861136 0.347855];\n",
"elseif n==5\n",
"    M = [-0 0.568889; -0.538469 0.467914; -0.906180 0.236927; 0 0.568889; 0.538469 0.467914; 0.906180 0.236927];\n",
"elseif n==6\n",
"    M = [-0.238619 0.467914; -0.661209 0.360762; -0.932470 0.171325; 0.238619 0.467914; 0.661209 0.360762; 0.932470 0.171325];\n",
"end\n",
"\n",
"X = M(:,1);\n",
"W = M(:,2);\n",
"\n",
"disp(W(1),'W1 = ')\n",
"disp(W(2),'W2 = ')\n",
"disp(X(1),'E1 = ')\n",
"disp(X(2),'E2 = ')"
   ]
   }
,
{
		   "cell_type": "markdown",
		   "metadata": {},
		   "source": [
			"## Example 7.16: Four_Point_Gauss_Legendre_Quadrature_Formula.sce"
		   ]
		  },
  {
"cell_type": "code",
	   "execution_count": null,
	   "metadata": {
	    "collapsed": true
	   },
	   "outputs": [],
"source": [
"//Example 7.16\n",
"\n",
"clc\n",
"clear\n",
"\n",
"function [f] = fun1(x)\n",
"    f = 3*x^2 + x^3;\n",
"endfunction\n",
"\n",
"n = 4;\n",
"if n==1 then\n",
"    M = [0 2];\n",
"elseif n==2\n",
"    M = [sqrt(1/3) 1];\n",
"elseif n==3\n",
"    M = [0 8/9; -0.774597 5/9; 0.774597 5/9];\n",
"elseif n==4\n",
"    M = [-0.339981 0.652145; -0.861136 0.347855; 0.339981 0.652145; 0.861136 0.347855];\n",
"elseif n==5\n",
"    M = [-0 0.568889; -0.538469 0.467914; -0.906180 0.236927; 0 0.568889; 0.538469 0.467914; 0.906180 0.236927];\n",
"elseif n==6\n",
"    M = [-0.238619 0.467914; -0.661209 0.360762; -0.932470 0.171325; 0.238619 0.467914; 0.661209 0.360762; 0.932470 0.171325];\n",
"end\n",
"\n",
"X = M(:,1);\n",
"W = M(:,2);\n",
"I = 0;\n",
"for i = 1:length(X)\n",
"    I = I + W(i)*fun1(X(i));\n",
"end\n",
"disp(I,'I = ')"
   ]
   }
,
{
		   "cell_type": "markdown",
		   "metadata": {},
		   "source": [
			"## Example 7.1: Determination_of_Differential_Function_Value.sce"
		   ]
		  },
  {
"cell_type": "code",
	   "execution_count": null,
	   "metadata": {
	    "collapsed": true
	   },
	   "outputs": [],
"source": [
"//Example 7.1\n",
"\n",
"clc\n",
"clear\n",
"\n",
"x = 0:0.2:1;\n",
"y = [1 1.16 3.56 13.96 41.96 101];\n",
"\n",
"n = length(x);\n",
"del = %nan*ones(n,6);\n",
"del(:,1) = y';\n",
"for j = 2:6\n",
"    for i = 1:n-j+1\n",
"        del(i,j) = del(i+1,j-1) - del(i,j-1);\n",
"    end\n",
"end\n",
"del = round(del*10^2)/10^2;\n",
"mprintf('%5s %6s %9s %8s %8s %8s %7s','x','y','dy','d2y','d3y','d4y','d5y')\n",
"disp([x' del])\n",
"\n",
"h = x(2) - x(1);\n",
"del0 = del(1,:);\n",
"del1 = del(2,:);\n",
"\n",
"df1 = (del1(2) - del1(3)/2 + del1(4)/3 - del1(5)/4) / h;\n",
"d2f0 = (del0(2) - del0(3) + del0(4)*11/12 - del0(5)*5/6) / h^2;\n",
"disp(round(d2f0*10^1)/10^1,'f''''(0) = ')\n",
"disp(round(df1*10)/10,'f''(0.2) = ')\n",
""
   ]
   }
,
{
		   "cell_type": "markdown",
		   "metadata": {},
		   "source": [
			"## Example 7.2: Determination_of_Differential_Function_Value.sce"
		   ]
		  },
  {
"cell_type": "code",
	   "execution_count": null,
	   "metadata": {
	    "collapsed": true
	   },
	   "outputs": [],
"source": [
"//Example 7.2\n",
"\n",
"clc\n",
"clear\n",
"\n",
"x = 1.4:0.2:2.2;\n",
"y = [4.0552 4.953 6.0496 7.3891 9.025];\n",
"\n",
"n = length(x);\n",
"del = %nan*ones(n,5);\n",
"del(:,1) = y';\n",
"for j = 2:5\n",
"    for i = 1:n-j+1\n",
"        del(i+j-1,j) = del(i+j-1,j-1) - del(i+j-2,j-1);\n",
"    end\n",
"end\n",
"mprintf('%5s %6s %10s %10s %9s %9s','x','y','dy','d2y','d3y','d4y')\n",
"disp([x' del])\n",
"\n",
"h = x(2) - x(1);\n",
"deln = del(5,:);\n",
"\n",
"dfn = (deln(2) + deln(3)/2 + deln(4)/3 + deln(5)/4) / h;\n",
"d2fn = (deln(3) + deln(4) + deln(5)*11/12) / h^2;\n",
"dfn = round(dfn*10^4)/10^4;\n",
"d2fn = round(d2fn*10^4)/10^4;\n",
"disp(dfn,'y''(2.2) = ')\n",
"disp(d2fn,'y''''(2.2) = ')"
   ]
   }
,
{
		   "cell_type": "markdown",
		   "metadata": {},
		   "source": [
			"## Example 7.3: Determination_of_Differential_Function_Value.sce"
		   ]
		  },
  {
"cell_type": "code",
	   "execution_count": null,
	   "metadata": {
	    "collapsed": true
	   },
	   "outputs": [],
"source": [
"//Example 7.3\n",
"\n",
"clc\n",
"clear\n",
"\n",
"x = 0:4;\n",
"y = [6.9897 7.4036 7.7815 8.1281 8.451];\n",
"\n",
"n = length(x);\n",
"del = %nan*ones(n,5);\n",
"del(:,1) = y';\n",
"for j = 2:6\n",
"    for i = 1:n-j+1\n",
"        del(i,j) = del(i+1,j-1) - del(i,j-1);\n",
"    end\n",
"end\n",
"del(:,1) = [];\n",
"n0 = length(del(1,:));\n",
"\n",
"X = 2;\n",
"i = find(x==X);\n",
"dowy = 0;\n",
"\n",
"for j = 1:n0\n",
"    if j==2*int(j/2) then\n",
"        add = del(i,j);\n",
"    else\n",
"        add = (del(i-1,j) + del(i,j))/2;\n",
"        i = i-1;\n",
"        if i==0 then\n",
"            break\n",
"        end\n",
"    end\n",
"\n",
"    if add == %nan then\n",
"        break\n",
"    else\n",
"        dowy(j) = add;\n",
"    end\n",
"end\n",
"mprintf('%5s %6s %10s %9s %9s %9s','x','y','dy','d2y','d3y','d4y')\n",
"disp([x' y' del])\n",
"\n",
"mu = 1;\n",
"h = x(2) - x(1);\n",
"dy2 = mu/h*(dowy(1) - 1/6*dowy(3));\n",
"d2y2 = mu/h^2*(dowy(2)-1/12*dowy(4));\n",
"dy2 = round(dy2*10^4)/10^4;\n",
"d2y2 = round(d2y2*10^4)/10^4;\n",
"\n",
"disp(dy2,'y''(2) = ')\n",
"disp(d2y2,'y''''(2) = ')"
   ]
   }
,
{
		   "cell_type": "markdown",
		   "metadata": {},
		   "source": [
			"## Example 7.4: Determination_of_Differential_Function_Value.sce"
		   ]
		  },
  {
"cell_type": "code",
	   "execution_count": null,
	   "metadata": {
	    "collapsed": true
	   },
	   "outputs": [],
"source": [
"//Example 7.4\n",
"\n",
"clc\n",
"clear\n",
"\n",
"x = [0.15 0.21 0.23 0.27 0.32 0.35];\n",
"y = [0.1761 0.3222 0.3617 0.4314 0.5051 0.5441];\n",
"\n",
"n = length(x);\n",
"del = %nan*ones(n,6);\n",
"del(:,1) = y';\n",
"for j = 2:6\n",
"    for i = 1:n-j+1\n",
"        del(i,j) = (del(i+1,j-1) - del(i,j-1)) / (x(i+j-1)-x(i));\n",
"    end\n",
"end\n",
"del(:,1) = [];\n",
"del = round(del*10^3)/10^3;\n",
"mprintf('%5s %6s %10s %10s %8s %9s %9s','x','y','dy','d2y','d3y','d4y','d5y')\n",
"disp([x' y' del])\n",
"X = poly(0, 'X');\n",
"del0 = del(1,:);\n",
"y0 = y(1);\n",
"Y = y0;\n",
"for i = 1:length(del0)\n",
"    p = 1;\n",
"    for j = 1:i\n",
"        p = p*(X-x(j));\n",
"    end\n",
"    Y = Y + p*del0(i);\n",
"end\n",
"\n",
"dydx = derivat(Y);\n",
"d2ydx = derivat(dydx);\n",
"\n",
"XX = 0.25;\n",
"dy = horner(dydx,XX);\n",
"d2y = horner(d2ydx,XX);\n",
"\n",
"disp(round(dy*10^4)/10^4,'y''(0.25) = ')\n",
"disp(d2ydx,'y''''(x) = ')\n",
"disp(d2y,'y''''(0.25) = ')\n",
"//The constant term in y''(x) is incorrectly computed to -91.7 instead of -97.42 in the text."
   ]
   }
,
{
		   "cell_type": "markdown",
		   "metadata": {},
		   "source": [
			"## Example 7.5: Richardson_Extrapolation_Limit.sce"
		   ]
		  },
  {
"cell_type": "code",
	   "execution_count": null,
	   "metadata": {
	    "collapsed": true
	   },
	   "outputs": [],
"source": [
"//Example 7.5\n",
"\n",
"clc\n",
"clear\n",
"\n",
"function [f] = y(x)\n",
"    f = -1/x;\n",
"endfunction\n",
"\n",
"H = [0.0128 0.0064 0.0032];\n",
"n = length(H);\n",
"x = 0.05;\n",
"h = H(1);\n",
"Fh = (y(x+h) - y(x-h)) / (2*h);\n",
"Fh2 = (y(x+h/2) - y(x-h/2)) / (h);\n",
"Fh4 = (y(x+h/4) - y(x-h/4)) / (h/2);\n",
"\n",
"F1h2 = (4*Fh2 - Fh) / (4-1);\n",
"F1h4 = (4*Fh4 - Fh2) / (4-1);\n",
"F2h4 = (4^2*F1h4 - F1h2) / (4^2-1);\n",
"del = %nan*ones(n,3);\n",
"del(:,1) = [Fh Fh2 Fh4]';\n",
"del(1:2,2) = [F1h2 F1h4]';\n",
"del(1,3) = F2h4;\n",
"\n",
"disp(del(1,n),'y''(0.05) = ')\n",
"Exact = 1/x^2;\n",
"disp(Exact,'Exact Value:')"
   ]
   }
,
{
		   "cell_type": "markdown",
		   "metadata": {},
		   "source": [
			"## Example 7.6: Integral_using_Trapezoidal_and_Simpson_One_Third_Rule.sce"
		   ]
		  },
  {
"cell_type": "code",
	   "execution_count": null,
	   "metadata": {
	    "collapsed": true
	   },
	   "outputs": [],
"source": [
"//Example 7.6\n",
"\n",
"clc\n",
"clear\n",
"\n",
"function [I] = trap (fun,a,b,n)\n",
"// Integrate the function over the interval using Trapezoidal Formula\n",
"// trap (fun,a,b,n)\n",
"// fun - function to be integrated\n",
"// a - lower limit of integration\n",
"// b - upper limit of integration\n",
"// n - No. of times trapezoidal rule needs to be performed\n",
"\n",
"N = n + 1;  // N - total no. of points\n",
"h = (b-a) / (N-1);\n",
"x = linspace(a,b,N);\n",
"y = fun(x);\n",
"\n",
"sum1 = y(1) + 2 * sum(y(2:N-1)) + y(N);\n",
"I = h * sum1 / 2;                   // Trapezoidal Integral Value\n",
"endfunction\n",
"\n",
"function [I] = simp13 (fun,a,b,n)\n",
"// Integrate the function over the interval using Simpson's 1/3rd rule\n",
"// simp13 (fun,a,b,n)\n",
"// fun - function to be integrated\n",
"// a - lower limit of integration\n",
"// b - upper limit of integration\n",
"// n - No. of times simpson's 1/3rd rule needs to be performed\n",
"\n",
"N = 2 * n + 1;      // N - total no. of points\n",
"h = (b-a) / (N-1);\n",
"x = linspace(a,b,N);\n",
"y = fun(x);\n",
"\n",
"sum1 = y(1) + 4 * sum(y(2:2:N-1)) + 2 * sum(y(3:2:N-2)) + y(N);\n",
"I = h* sum1 / 3;                    // Simpson's 1/3rd Integral Value\n",
"endfunction\n",
"\n",
"n = 6;\n",
"ntrap = n;\n",
"ns13 = n/2;\n",
"I = [trap(sin,0,%pi,ntrap); simp13(sin,0,%pi,ns13)];\n",
"I = round(I*10^4)/10^4;\n",
"true = integrate('sin(x)','x',0,%pi);\n",
"err = abs(true - I) / true*100;\n",
"err = round(err*100)/100;\n",
"\n",
"disp(I(1),'y_trap = ')\n",
"disp(I(2),'y_simp13 = ')\n",
"disp(err(1),'error_trap = ')\n",
"disp(err(2),'error_simp13 = ')"
   ]
   }
,
{
		   "cell_type": "markdown",
		   "metadata": {},
		   "source": [
			"## Example 7.7: Integral_using_Simpson_One_Third_Rule.sce"
		   ]
		  },
  {
"cell_type": "code",
	   "execution_count": null,
	   "metadata": {
	    "collapsed": true
	   },
	   "outputs": [],
"source": [
"//Example 7.7\n",
"\n",
"clc\n",
"clear\n",
"\n",
"function [I] = simp13 (fun,a,b,n)\n",
"// Integrate the function over the interval using Simpson's 1/3rd rule\n",
"// simp13 (fun,a,b,n)\n",
"// fun - function to be integrated\n",
"// a - lower limit of integration\n",
"// b - upper limit of integration\n",
"// n - No. of times simpson's 1/3rd rule needs to be performed\n",
"\n",
"N = 2 * n + 1;      // N - total no. of points\n",
"h = (b-a) / (N-1);\n",
"x = linspace(a,b,N);\n",
"y = fun(x);\n",
"\n",
"sum1 = y(1) + 4 * sum(y(2:2:N-1)) + 2 * sum(y(3:2:N-2)) + y(N);\n",
"I = h* sum1 / 3;                    // Simpson's 1/3rd Integral Value\n",
"endfunction\n",
"\n",
"n = 8;\n",
"ns13 = n/2;\n",
"I = simp13(log,1,5,ns13);\n",
"I = round(I*10^4)/10^4;\n",
"deff('[y] = true(x)',['y = x * log(x) - x']);\n",
"trueVal = true(5) - true(1);\n",
"err = abs(trueVal - I) / trueVal*100;\n",
"err = round(err*100)/100;\n",
"\n",
"disp(I,'y_simp13 = ')\n",
"disp(trueVal,'Actual Integral = ')\n",
"disp(err,'error_simp13 = ')"
   ]
   }
,
{
		   "cell_type": "markdown",
		   "metadata": {},
		   "source": [
			"## Example 7.8: Integral_using_Trapezoidal_and_Simpson_One_Third_Rule.sce"
		   ]
		  },
  {
"cell_type": "code",
	   "execution_count": null,
	   "metadata": {
	    "collapsed": true
	   },
	   "outputs": [],
"source": [
"//Example 7.8\n",
"\n",
"clc\n",
"clear\n",
"\n",
"function [I] = trap (fun,a,b,n)\n",
"// Integrate the function over the interval using Trapezoidal Formula\n",
"// trap (fun,a,b,n)\n",
"// fun - function to be integrated\n",
"// a - lower limit of integration\n",
"// b - upper limit of integration\n",
"// n - No. of times trapezoidal rule needs to be performed\n",
"\n",
"N = n + 1;  // N - total no. of points\n",
"h = (b-a) / (N-1);\n",
"x = linspace(a,b,N);\n",
"y = fun(x);\n",
"\n",
"sum1 = y(1) + 2 * sum(y(2:N-1)) + y(N);\n",
"I = h * sum1 / 2;                   // Trapezoidal Integral Value\n",
"endfunction\n",
"\n",
"function [I] = simp13 (fun,a,b,n)\n",
"// Integrate the function over the interval using Simpson's 1/3rd rule\n",
"// simp13 (fun,a,b,n)\n",
"// fun - function to be integrated\n",
"// a - lower limit of integration\n",
"// b - upper limit of integration\n",
"// n - No. of times simpson's 1/3rd rule needs to be performed\n",
"\n",
"N = 2 * n + 1;      // N - total no. of points\n",
"h = (b-a) / (N-1);\n",
"x = linspace(a,b,N);\n",
"y = fun(x);\n",
"\n",
"sum1 = y(1) + 4 * sum(y(2:2:N-1)) + 2 * sum(y(3:2:N-2)) + y(N);\n",
"I = h* sum1 / 3;                    // Simpson's 1/3rd Integral Value\n",
"endfunction\n",
"\n",
"function [f] = fun1(x)\n",
"    f = 1 ./(1+x^2);\n",
"endfunction\n",
"\n",
"\n",
"n = 4;\n",
"ntrap = n;\n",
"ns13 = n/2;\n",
"I = [trap(fun1,0,1,ntrap); simp13(fun1,0,1,ns13)];\n",
"I = round(I*10^4)/10^4;\n",
"true = intg(0,1,fun1);\n",
"\n",
"disp(I(1),'y_trap = ')\n",
"disp(I(2),'y_simp13 = ')\n",
"disp(I(2)*4,'Approx pi = ')"
   ]
   }
,
{
		   "cell_type": "markdown",
		   "metadata": {},
		   "source": [
			"## Example 7.9: Integral_using_Simpson_One_Third_Rule.sce"
		   ]
		  },
  {
"cell_type": "code",
	   "execution_count": null,
	   "metadata": {
	    "collapsed": true
	   },
	   "outputs": [],
"source": [
"//Example 7.9\n",
"\n",
"clc\n",
"clear\n",
"\n",
"function [I] = simp13 (fun,a,b,n)\n",
"// Integrate the function over the interval using Simpson's 1/3rd rule\n",
"// simp13 (fun,a,b,n)\n",
"// fun - function to be integrated\n",
"// a - lower limit of integration\n",
"// b - upper limit of integration\n",
"// n - No. of times simpson's 1/3rd rule needs to be performed\n",
"\n",
"N = 2 * n + 1;      // N - total no. of points\n",
"h = (b-a) / (N-1);\n",
"x = linspace(a,b,N);\n",
"y = fun(x);\n",
"\n",
"sum1 = y(1) + 4 * sum(y(2:2:N-1)) + 2 * sum(y(3:2:N-2)) + y(N);\n",
"I = h* sum1 / 3;                    // Simpson's 1/3rd Integral Value\n",
"endfunction\n",
"\n",
"function [f] = fun1(x)\n",
"    f = sqrt(2/%pi)*exp(-x^2/2);\n",
"endfunction\n",
"\n",
"h = 0.125;\n",
"n = (1-0)/h;\n",
"ns13 = n/2;\n",
"I = simp13(fun1,0,1,ns13);\n",
"I = round(I*10^4)/10^4;\n",
"\n",
"disp(I,'Integral value, I = ')"
   ]
   }
],
"metadata": {
		  "kernelspec": {
		   "display_name": "Scilab",
		   "language": "scilab",
		   "name": "scilab"
		  },
		  "language_info": {
		   "file_extension": ".sce",
		   "help_links": [
			{
			 "text": "MetaKernel Magics",
			 "url": "https://github.com/calysto/metakernel/blob/master/metakernel/magics/README.md"
			}
		   ],
		   "mimetype": "text/x-octave",
		   "name": "scilab",
		   "version": "0.7.1"
		  }
		 },
		 "nbformat": 4,
		 "nbformat_minor": 0
}
