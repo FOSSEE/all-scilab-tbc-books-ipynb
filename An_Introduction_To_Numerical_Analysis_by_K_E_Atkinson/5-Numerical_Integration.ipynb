{
"cells": [
 {
		   "cell_type": "markdown",
	   "metadata": {},
	   "source": [
       "# Chapter 5: Numerical Integration"
	   ]
	},
{
		   "cell_type": "markdown",
		   "metadata": {},
		   "source": [
			"## Example 5.10: Simpson_Integration_error.sce"
		   ]
		  },
  {
"cell_type": "code",
	   "execution_count": null,
	   "metadata": {
	    "collapsed": true
	   },
	   "outputs": [],
"source": [
"        //    PG (292)\n",
"deff('[y]=f(x)','y=x^(3/2)')\n",
"x0=0;\n",
"xn=1;\n",
"x=x0:xn;\n",
"//    True value\n",
"I = integrate('x^(3/2)','x',0,1)\n",
"//    Using Simpson's rule\n",
"N=2;\n",
"h=(xn-x0)/N;\n",
"x1=x0+h;\n",
"x2=x0+2*h;\n",
"    I1 = h*(f(x0)+4*f(x1)+f(x2))/3\n",
"    I-I1\n",
"N=4;\n",
"h=(xn-x0)/N;\n",
"x1=x0+h;\n",
"x2=x0+2*h;\n",
"x3=x0+3*h;\n",
"x4=x0+4*h;\n",
"    I2 = h*(f(x0)+4*f(x1)+2*f(x2)+4*f(x3)+f(x4))/3\n",
"    I-I2\n",
"N=8;\n",
"h=(xn-x0)/N;\n",
"x1=x0+h;\n",
"x2=x0+2*h;\n",
"x3=x0+3*h;\n",
"x4=x0+4*h;\n",
"x5=x0+5*h;\n",
"x6=x0+6*h;\n",
"x7=x0+7*h;\n",
"x8=x0+8*h;\n",
"    I3 = h*(f(x0)+4*f(x1)+2*f(x2)+4*f(x3)+2*f(x4)+4*f(x5)+2*f(x6)+4*f(x7)+f(x8))/3\n",
"    I-I3"
   ]
   }
,
{
		   "cell_type": "markdown",
		   "metadata": {},
		   "source": [
			"## Example 5.11: Romberg_Integration.sce"
		   ]
		  },
  {
"cell_type": "code",
	   "execution_count": null,
	   "metadata": {
	    "collapsed": true
	   },
	   "outputs": [],
"source": [
"        //    PG (297)\n",
"deff('[y]=f(x)','y=exp(x)*cos(x)')\n",
"a=0;\n",
"b=%pi;\n",
"h=1;\n",
"//    True value\n",
"I = integrate('exp(x)*cos(x)','x',a,b)\n",
"//    Using Romberg integration\n",
"Romberg(a,b,f,h)"
   ]
   }
,
{
		   "cell_type": "markdown",
		   "metadata": {},
		   "source": [
			"## Example 5.12: Adaptive_simpso.sce"
		   ]
		  },
  {
"cell_type": "code",
	   "execution_count": null,
	   "metadata": {
	    "collapsed": true
	   },
	   "outputs": [],
"source": [
"        //    PG (302)\n",
"deff('[y]=f(x)','y=sqrt(x)')\n",
"funcprot(0)\n",
"a=0;\n",
"b=1;\n",
"//    True value\n",
"I = integrate('sqrt(x)','x',a,b)"
   ]
   }
,
{
		   "cell_type": "markdown",
		   "metadata": {},
		   "source": [
			"## Example 5.13: Integration.sce"
		   ]
		  },
  {
"cell_type": "code",
	   "execution_count": null,
	   "metadata": {
	    "collapsed": true
	   },
	   "outputs": [],
"source": [
"        //    PG (307)\n",
"deff('[y]=f(x)','y=sqrt(-log(x))')\n",
"funcprot(0)\n",
"a=0;\n",
"b=1;\n",
"//    True value\n",
"I = integrate('sqrt(-log(x))','x',a,b)"
   ]
   }
,
{
		   "cell_type": "markdown",
		   "metadata": {},
		   "source": [
			"## Example 5.14: Integration.sce"
		   ]
		  },
  {
"cell_type": "code",
	   "execution_count": null,
	   "metadata": {
	    "collapsed": true
	   },
	   "outputs": [],
"source": [
"        //    PG (313)\n",
"deff('[y]=f(x)','y=(log(x))/(x+2)')\n",
"funcprot(0)\n",
"a=0;\n",
"b=1;\n",
"//    True value\n",
"I = integrate('(log(x))/(x+2)','x',a,b)"
   ]
   }
,
{
		   "cell_type": "markdown",
		   "metadata": {},
		   "source": [
			"## Example 5.1: Integration.sce"
		   ]
		  },
  {
"cell_type": "code",
	   "execution_count": null,
	   "metadata": {
	    "collapsed": true
	   },
	   "outputs": [],
"source": [
"        //    PG (250)\n",
"deff('[y]=f(x)','y=(exp(x)-1)/x')\n",
"x0=0;\n",
"x1=1;\n",
"integrate('(exp(x)-1)/x','x',x0,x1)"
   ]
   }
,
{
		   "cell_type": "markdown",
		   "metadata": {},
		   "source": [
			"## Example 5.2: Trapezoidal_rule_for_integration.sce"
		   ]
		  },
  {
"cell_type": "code",
	   "execution_count": null,
	   "metadata": {
	    "collapsed": true
	   },
	   "outputs": [],
"source": [
"        //    PG (254)\n",
"deff('[y]=f(x)','y=exp(x)*cos(x)')\n",
"deff('[y]=fp(x)','y=exp(x)*(cos(x)-sin(x))')\n",
"deff('[y]=fpp(x)','y=-2*exp(x)*sin(x)')\n",
"x0=0;\n",
"x1=%pi;\n",
"//    True value\n",
"integrate('exp(x)*cos(x)','x',x0,x1)\n",
"//    Using Trapezoidal rule\n",
"n=2;\n",
"h=(x1-x0)/n;\n",
"I1 = (x1-x0) * (f(x0)+f(x1)) /4\n",
"E1 = -h^2 * (fp(x1)-fp(x0)) /12\n",
"n=4;\n",
"h=(x1-x0)/n;\n",
"I2 = (x1-x0) * (f(x0)+f(x1)) /4\n",
"E2 = -h^2 * (fp(x1)-fp(x0)) /12\n",
"n=8;\n",
"h=(x1-x0)/n;\n",
"I3 = (x1-x0) * (f(x0)+f(x1)) /4\n",
"E3 = -h^2 * (fp(x1)-fp(x0)) /12\n",
"n=16;\n",
"h=(x1-x0)/n;\n",
"I4 = (x1-x0) * (f(x0)+f(x1)) /4\n",
"E4 = -h^2 * (fp(x1)-fp(x0)) /12\n",
"n=32;\n",
"h=(x1-x0)/n;\n",
"I5 = (x1-x0) * (f(x0)+f(x1)) /4\n",
"E5 = -h^2 * (fp(x1)-fp(x0)) /12\n",
"n=64;\n",
"h=(x1-x0)/n;\n",
"I6 = (x1-x0) * (f(x0)+f(x1)) /4\n",
"E6 = -h^2 * (fp(x1)-fp(x0)) /12\n",
"n=128;\n",
"h=(x1-x0)/n;\n",
"I7 = (x1-x0) * (f(x0)+f(x1)) /4\n",
"E7 = -h^2 * (fp(x1)-fp(x0)) /12"
   ]
   }
,
{
		   "cell_type": "markdown",
		   "metadata": {},
		   "source": [
			"## Example 5.3: Corrected_trapezoidal_rule.sce"
		   ]
		  },
  {
"cell_type": "code",
	   "execution_count": null,
	   "metadata": {
	    "collapsed": true
	   },
	   "outputs": [],
"source": [
"        //    PG (255)\n",
"deff('[y]=f(x)','y=exp(x)*cos(x)')\n",
"deff('[y]=fp(x)','y=exp(x)*(cos(x)-sin(x))')\n",
"deff('[y]=fpp(x)','y=-2*exp(x)*sin(x)')\n",
"x0=0;\n",
"x1=%pi;\n",
"//    True value\n",
"integrate('exp(x)*cos(x)','x',x0,x1)\n",
"//    Using Corrected Trapezoidal rule\n",
"n=2;\n",
"h=(x1-x0)/n;\n",
"I1 = ((x1-x0)/2) * (f(x0)+f(x1)) /2\n",
"E1 = -h^2 * (fp(x1)-fp(x0)) /12\n",
"C1 = I1 + E1\n",
"n=4;\n",
"h=(x1-x0)/n;\n",
"I2 = ((x1-x0)/2) * (f(x0)+f(x1)) /2\n",
"E2 = -h^2 * (fp(x1)-fp(x0)) /12\n",
"C2 = I2 + E2\n",
"n=8;\n",
"h=(x1-x0)/n;\n",
"I3 = ((x1-x0)/2) * (f(x0)+f(x1)) /2\n",
"E3 = -h^2 * (fp(x1)-fp(x0)) /12\n",
"C3 = I3 + E3\n",
"n=16;\n",
"h=(x1-x0)/n;\n",
"I4 = ((x1-x0)/2) * (f(x0)+f(x1)) /2\n",
"E4 = -h^2 * (fp(x1)-fp(x0)) /12\n",
"C4 = I4 + E4\n",
"n=32;\n",
"h=(x1-x0)/n;\n",
"I5 = ((x1-x0)/2) * (f(x0)+f(x1)) /2\n",
"E5 = -h^2 * (fp(x1)-fp(x0)) /12\n",
"C5 = I5 + E5\n",
"n=64;\n",
"h=(x1-x0)/n;\n",
"I6 = ((x1-x0)/2) * (f(x0)+f(x1)) /2\n",
"E6 = -h^2 * (fp(x1)-fp(x0)) /12\n",
"C6 = I6 + E6"
   ]
   }
,
{
		   "cell_type": "markdown",
		   "metadata": {},
		   "source": [
			"## Example 5.4: Simpson_s_rule_for_integration.sce"
		   ]
		  },
  {
"cell_type": "code",
	   "execution_count": null,
	   "metadata": {
	    "collapsed": true
	   },
	   "outputs": [],
"source": [
"        //    PG (258)\n",
"deff('[y]=f(x)','y=exp(x)*cos(x)')\n",
"x0=0;\n",
"xn=%pi;\n",
"x=x0:xn;\n",
"//    True value\n",
"I = integrate('exp(x)*cos(x)','x',x0,x1)\n",
"//    Using Simpson's rule\n",
"N=2;\n",
"h=(xn-x0)/N;\n",
"x1=x0+h;\n",
"x2=x0+2*h;\n",
"    I1 = h*(f(x0)+4*f(x1)+f(x2))/3\n",
"N=4;\n",
"h=(xn-x0)/N;\n",
"x1=x0+h;\n",
"x2=x0+2*h;\n",
"x3=x0+3*h;\n",
"x4=x0+4*h;\n",
"    I2 = h*(f(x0)+4*f(x1)+2*f(x2)+4*f(x3)+f(x4))/3\n",
"N=8;\n",
"h=(xn-x0)/N;\n",
"x1=x0+h;\n",
"x2=x0+2*h;\n",
"x3=x0+3*h;\n",
"x4=x0+4*h;\n",
"x5=x0+5*h;\n",
"x6=x0+6*h;\n",
"x7=x0+7*h;\n",
"x8=x0+8*h;\n",
"    I3 = h*(f(x0)+4*f(x1)+2*f(x2)+4*f(x3)+2*f(x4)+4*f(x5)+2*f(x6)+4*f(x7)+f(x8))/3"
   ]
   }
,
{
		   "cell_type": "markdown",
		   "metadata": {},
		   "source": [
			"## Example 5.5: Trapezoidal_and_simpson_integration.sce"
		   ]
		  },
  {
"cell_type": "code",
	   "execution_count": null,
	   "metadata": {
	    "collapsed": true
	   },
	   "outputs": [],
"source": [
"        //    PG (261)\n",
"//    Example 1\n",
"deff('[y]=f(x)','y=x^(7/2)')\n",
"deff('[y]=fp(x)','y=3.5*x^(5/2)')\n",
"deff('[y]=fpp(x)','y=8.75*x^(3/2)')\n",
"deff('[y]=fppp(x)','y=(105*sqrt(x))/8')\n",
"deff('[y]=fpppp(x)','y=(105*x^(-0.5))/16')\n",
"x0=0;\n",
"x1=1;\n",
"x=x0:x1;\n",
"//    True value\n",
"I = integrate('x^(7/2)','x',x0,x1)\n",
"//    Using Trapezoidal rule\n",
"n=2;\n",
"h=(xn-x0)/n;\n",
"I1 = (xn-x0) * (f(x0)+f(xn)) /4;\n",
"E1 = -h^2 * (fp(xn)-fp(x0)) /12        //    Error\n",
"n=4;\n",
"h=(xn-x0)/n;\n",
"I2 = (xn-x0) * (f(x0)+f(xn)) /4;\n",
"E2 = -h^2 * (fp(xn)-fp(x0)) /12        //    Error\n",
"//    Using Simpson's rule\n",
"N=2;\n",
"h=(xn-x0)/N;\n",
"x1=x0+h;\n",
"x2=x0+2*h;\n",
"    I1 = h*(f(x0)+4*f(x1)+f(x2))/3\n",
"    E1 = -h^4*(xn-x0)*fpppp(0.5)/180\n",
"N=4;\n",
"h=(xn-x0)/N;\n",
"x1=x0+h;\n",
"x2=x0+2*h;\n",
"x3=x0+3*h;\n",
"x4=x0+4*h;\n",
"    I2 = h*(f(x0)+4*f(x1)+2*f(x2)+4*f(x3)+f(x4))/3\n",
"    E2 = -h^4*(xn-x0)*fpppp(0.5)/180"
   ]
   }
,
{
		   "cell_type": "markdown",
		   "metadata": {},
		   "source": [
			"## Example 5.6: Newton_Cotes_formulae.sce"
		   ]
		  },
  {
"cell_type": "code",
	   "execution_count": null,
	   "metadata": {
	    "collapsed": true
	   },
	   "outputs": [],
"source": [
"        //    PG (266)\n",
"//    Commonly used Newton Cotes formulae:-\n",
"//    n=1\n",
"//    h/2 * [f(a)+f(b)] - (h^3)*f''(e)/12--------Trapezoidal rule\n",
"//    n=2\n",
"//    h/3 * [f(a)+4*f((a+b)/2)+f(b)] - (h^5)*f^(4)(e)/90-----Simpson's rule\n",
"//    n=3\n",
"//    3*h/8 * [f(a)+3*f(a+h)+3*f(b-h)+f(b)] - (3*h^5)*f^(4)(e)/80\n",
"//    n=4\n",
"//    2*h/45 * [7*f(a)+32*f(a+h)+12*f((a+b)/2)+32*f(b-h)+7*f(b)] - (8*h^7)*f^(7)(e)/945"
   ]
   }
,
{
		   "cell_type": "markdown",
		   "metadata": {},
		   "source": [
			"## Example 5.7: Gaussian_Quadrature.sce"
		   ]
		  },
  {
"cell_type": "code",
	   "execution_count": null,
	   "metadata": {
	    "collapsed": true
	   },
	   "outputs": [],
"source": [
"        //    PG (277)\n",
"deff('[y]=f(x)','y=exp(x)*cos(x)')\n",
"x0=0;\n",
"x1=%pi;\n",
"//    True value\n",
"I = integrate('exp(x)*cos(x)','x',x0,x1)\n",
"//    Using Gaussian Quadrature\n",
"//    For n=2, w=1\n",
"n=2;\n",
"p  = legendrepol(n,'x')\n",
"xr = roots(p);\n",
"A  = [];\n",
"for j = 1:2\n",
"    pd = derivat(p)\n",
"    A = [A 2/((1-xr(j)^2)*(horner(pd,xr(j)))^2)]\n",
"end\n",
"tr = ((x1-x0)/2.*xr)+((x1+x0)/2)"
   ]
   }
,
{
		   "cell_type": "markdown",
		   "metadata": {},
		   "source": [
			"## Example 5.8: Gaussian_Legendre_Quadrature.sce"
		   ]
		  },
  {
"cell_type": "code",
	   "execution_count": null,
	   "metadata": {
	    "collapsed": true
	   },
	   "outputs": [],
"source": [
"        //    PG (278)\n",
"deff('[y]=f(x)','y=exp(-x^2)')\n",
"x0=0;\n",
"x1=1;\n",
"//    True value\n",
"I = integrate('exp(-x^2)','x',x0,x1)\n",
"//    Using Gaussian Quadrature\n",
"//    For n=2, w=1\n",
"n=2;\n",
"p  = legendrepol(n,'x')\n",
"xr = roots(p);\n",
"A  = [];\n",
"for j = 1:2\n",
"    pd = derivat(p)\n",
"    A = [A 2/((1-xr(j)^2)*(horner(pd,xr(j)))^2)]\n",
"end\n",
"tr = ((x1-x0)/2.*xr)+((x1+x0)/2);\n",
"s = ((x1-x0)/2)*f(tr)\n",
"I = s*A"
   ]
   }
,
{
		   "cell_type": "markdown",
		   "metadata": {},
		   "source": [
			"## Example 5.9: Integration.sce"
		   ]
		  },
  {
"cell_type": "code",
	   "execution_count": null,
	   "metadata": {
	    "collapsed": true
	   },
	   "outputs": [],
"source": [
"        //    PG (280)\n",
"I1 = integrate('sqrt(x)','x',0,1)\n",
"I2 = integrate('1/(1+(x-%pi)^2)','x',0,5)\n",
"I3 = integrate('exp(-x)*sin(50*x)','x',0,2*%pi)"
   ]
   }
],
"metadata": {
		  "kernelspec": {
		   "display_name": "Scilab",
		   "language": "scilab",
		   "name": "scilab"
		  },
		  "language_info": {
		   "file_extension": ".sce",
		   "help_links": [
			{
			 "text": "MetaKernel Magics",
			 "url": "https://github.com/calysto/metakernel/blob/master/metakernel/magics/README.md"
			}
		   ],
		   "mimetype": "text/x-octave",
		   "name": "scilab",
		   "version": "0.7.1"
		  }
		 },
		 "nbformat": 4,
		 "nbformat_minor": 0
}
