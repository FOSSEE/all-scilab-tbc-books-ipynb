{
"cells": [
 {
		   "cell_type": "markdown",
	   "metadata": {},
	   "source": [
       "# Chapter 3: Interpolation Theory"
	   ]
	},
{
		   "cell_type": "markdown",
		   "metadata": {},
		   "source": [
			"## Example 3.1: Lagrange_formula.sce"
		   ]
		  },
  {
"cell_type": "code",
	   "execution_count": null,
	   "metadata": {
	    "collapsed": true
	   },
	   "outputs": [],
"source": [
"        //    PG (134)\n",
"X = [0, -1, 1]\n",
"Y = [1, 2, 3]\n",
"lagrange(X,Y)"
   ]
   }
,
{
		   "cell_type": "markdown",
		   "metadata": {},
		   "source": [
			"## Example 3.2: Lagrange_Formula.sce"
		   ]
		  },
  {
"cell_type": "code",
	   "execution_count": null,
	   "metadata": {
	    "collapsed": true
	   },
	   "outputs": [],
"source": [
"        //    PG (136)\n",
"X=[0]\n",
"Y=[1]\n",
"deff('[y]=f(x)','y=log10(x)')\n",
"p=lagrange(X,Y)"
   ]
   }
,
{
		   "cell_type": "markdown",
		   "metadata": {},
		   "source": [
			"## Example 3.3: Lagrange_formula.sce"
		   ]
		  },
  {
"cell_type": "code",
	   "execution_count": null,
	   "metadata": {
	    "collapsed": true
	   },
	   "outputs": [],
"source": [
"        //    PG (137)\n",
"X=[0,-1]\n",
"Y=[1,2]\n",
"deff('[y]=f(x)','y=log(x)')\n",
"deff('[y]=fp(x)','y=1/x')\n",
"deff('[y]=fpp(x)','y=-1/(x)^2')\n",
"p = lagrange(X,Y)\n",
"//    E = f(x)-p\n",
"e = 0.00005    //    for a four-place logarithmic table"
   ]
   }
,
{
		   "cell_type": "markdown",
		   "metadata": {},
		   "source": [
			"## Example 3.4: Divided_differences.sce"
		   ]
		  },
  {
"cell_type": "code",
	   "execution_count": null,
	   "metadata": {
	    "collapsed": true
	   },
	   "outputs": [],
"source": [
"        //    PG (140)\n",
"X = [2.0,2.1,2.2,2.3,2.4]\n",
"X1 = X(1,1)\n",
"X2 = X(1,2)\n",
"X3 = X(1,3)\n",
"X4 = X(1,4)\n",
"X5 = X(1,5)\n",
"deff('[y]=f(x)','y=sqrt(x)')\n",
"Y = [f(X1) f(X2) f(X3) f(X4) f(X5)]\n",
"Y1 = Y(1,1)\n",
"Y2 = Y(1,2)\n",
"Y3 = Y(1,3)\n",
"Y4 = Y(1,4)\n",
"Y5 = Y(1,5)\n",
"//    Difference\n",
"//    f[X1,X2]\n",
"(f(X2) - f(X1))*10\n",
"//    f[X2,X3]\n",
"(f(X3) - f(X2))*10\n",
"//    f[X3,X4]\n",
"(f(X4) - f(X3))*10\n",
"//    f[X4,X5]\n",
"(f(X5) - f(X4))*10\n",
"//    D^2 * f[Xi]\n",
"((f(X3)-f(X2)) - (f(X2)-f(X1))) * 50\n",
"((f(X4)-f(X3)) - (f(X3)-f(X2))) * 50\n",
"((f(X5)-f(X4)) - (f(X4)-f(X3))) * 50"
   ]
   }
,
{
		   "cell_type": "markdown",
		   "metadata": {},
		   "source": [
			"## Example 3.6: Bessel_Function.sce"
		   ]
		  },
  {
"cell_type": "code",
	   "execution_count": null,
	   "metadata": {
	    "collapsed": true
	   },
	   "outputs": [],
"source": [
"        //    PG (142)\n",
"//    Values of Bessel Function Jo(x)\n",
"//        x                Jo(x)\n",
"//        2.0        0.2238907791\n",
"//        2.1        0.1666069803\n",
"//        2.2        0.1103622669\n",
"//        2.3        0.0555397844\n",
"//        2.4        0.0025076832\n",
"//        2.5       -0.0483837764\n",
"//        2.6       -0.0968049544\n",
"//        2.7       -0.1424493700\n",
"//        2.8       -0.1850360334\n",
"//        2.9       -0.2243115458\n",
"//    Calculate the value of x for which Jo(x) = 0.1"
   ]
   }
,
{
		   "cell_type": "markdown",
		   "metadata": {},
		   "source": [
			"## Example 3.7: Divided_differences.sce"
		   ]
		  },
  {
"cell_type": "code",
	   "execution_count": null,
	   "metadata": {
	    "collapsed": true
	   },
	   "outputs": [],
"source": [
"        //    PG (144)\n",
"deff('[y]=f(x)','y=sqrt(x)')\n",
"funcprot(0)\n",
"deff('[y]=fp(x)','y=0.5/sqrt(x)')\n",
"funcprot(0)\n",
"deff('[y]=fpp(x)','y=-0.25*x^(-3/2)')\n",
"funcprot(0)\n",
"deff('[y]=fppp(x)','y=3*x^(-2.5)/8')\n",
"deff('[y]=fpppp(x)','y=-15*x^(-7/2)/16')\n",
"//    f[2.0,2.1,.....2.4] = -0.002084\n",
"fpppp(2.3103)/factorial(4)"
   ]
   }
,
{
		   "cell_type": "markdown",
		   "metadata": {},
		   "source": [
			"## Example 3.8: Newton_forward_difference.sce"
		   ]
		  },
  {
"cell_type": "code",
	   "execution_count": null,
	   "metadata": {
	    "collapsed": true
	   },
	   "outputs": [],
"source": [
"        //    PG (150)\n",
"X = [2.0,2.1,2.2,2.3,2.4]\n",
"X1 = X(1,1)\n",
"X2 = X(1,2)\n",
"X3 = X(1,3)\n",
"X4 = X(1,4)\n",
"X5 = X(1,5)\n",
"deff('[y]=f(x)','y=sqrt(x)')\n",
"Y = [f(X1) f(X2) f(X3) f(X4) f(X5)]\n",
"Y1 = Y(1,1)\n",
"Y2 = Y(1,2)\n",
"Y3 = Y(1,3)\n",
"Y4 = Y(1,4)\n",
"Y5 = Y(1,5)\n",
"//    Difference\n",
"//    f[X1,X2]\n",
"(f(X2) - f(X1))\n",
"//    f[X2,X3]\n",
"(f(X3) - f(X2))\n",
"//    f[X3,X4]\n",
"(f(X4) - f(X3))\n",
"//    f[X4,X5]\n",
"(f(X5) - f(X4))\n",
"//    D^2 * f[Xi]\n",
"((f(X3)-f(X2)) - (f(X2)-f(X1)))\n",
"((f(X4)-f(X3)) - (f(X3)-f(X2)))\n",
"((f(X5)-f(X4)) - (f(X4)-f(X3)))\n",
"//    D^3 * f[Xi]\n",
"((f(X4)-f(X3)) - (f(X3)-f(X2))) - ((f(X3)-f(X2)) - (f(X2)-f(X1)))\n",
"((f(X5)-f(X4)) - (f(X4)-f(X3))) - ((f(X4)-f(X3)) - (f(X3)-f(X2)))\n",
"//    D^4 * f[Xi]\n",
"(((f(X5)-f(X4)) - (f(X4)-f(X3))) - ((f(X4)-f(X3)) - (f(X3)-f(X2)))) - (((f(X4)-f(X3)) - (f(X3)-f(X2))) - ((f(X3)-f(X2)) - (f(X2)-f(X1))))\n",
"mu = 1.5;\n",
"x = 2.15;\n",
"p1 = f(X1) + mu * (f(X2) - f(X1))\n",
"p2 = p1 + mu*(mu-1)*((f(X3)-f(X2)) - (f(X2)-f(X1)))/2\n",
"//    Similarly, p3 = 1.466288\n",
"//               p4 = 1.466288"
   ]
   }
],
"metadata": {
		  "kernelspec": {
		   "display_name": "Scilab",
		   "language": "scilab",
		   "name": "scilab"
		  },
		  "language_info": {
		   "file_extension": ".sce",
		   "help_links": [
			{
			 "text": "MetaKernel Magics",
			 "url": "https://github.com/calysto/metakernel/blob/master/metakernel/magics/README.md"
			}
		   ],
		   "mimetype": "text/x-octave",
		   "name": "scilab",
		   "version": "0.7.1"
		  }
		 },
		 "nbformat": 4,
		 "nbformat_minor": 0
}
