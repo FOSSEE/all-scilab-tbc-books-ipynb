{
"cells": [
 {
		   "cell_type": "markdown",
	   "metadata": {},
	   "source": [
       "# Chapter 8: Numerical solution of systems of linear equations"
	   ]
	},
{
		   "cell_type": "markdown",
		   "metadata": {},
		   "source": [
			"## Example 8.10: Gauss_Jacobi_method.sce"
		   ]
		  },
  {
"cell_type": "code",
	   "execution_count": null,
	   "metadata": {
	    "collapsed": true
	   },
	   "outputs": [],
"source": [
"    //    EXAMPLE (PG 547)\n",
"    //    Gauss Jacobi Method\n",
"A = [10 3 1;2 -10 3;1 3 10]        //        Coefficient Matrix\n",
"b = [14 -5 14]'                    //        Right hand matrix\n",
"x = [0 0 0]'                       //        Initial Gauss\n",
"d = diag(A)                        //        Diagonal elements of matrix A\n",
"a11 = d(1,1)\n",
"a22 = d(2,1)\n",
"a33 = d(3,1)\n",
"D = [a11 0 0;0 a22 0;0 0 a33]      //        Diagonal matrix of A\n",
"[L,U] = lu(A)  //    L is lower triangular matrix, U is upper triangular matrix\n",
"H = -inv(D)*(L+U)\n",
"C = inv(D)*b\n",
"for(m=0:6)     //    Initialising 'for' loop for setting no of iterations to 6\n",
"    x = H*x+C;\n",
"    disp(x)\n",
"    m=m+1;\n",
"    x;            //    Solution\n",
"    //    Rounding off to 4 decimal places\n",
"    x = x*10^4;\n",
"    x = int(x);\n",
"    x = x*10^(-4);\n",
"    disp(x)        //    Final Solution\n",
"end"
   ]
   }
,
{
		   "cell_type": "markdown",
		   "metadata": {},
		   "source": [
			"## Example 8.11: Gauss_seidel_mathod.sce"
		   ]
		  },
  {
"cell_type": "code",
	   "execution_count": null,
	   "metadata": {
	    "collapsed": true
	   },
	   "outputs": [],
"source": [
"    //EXAMPLE (PG 549)\n",
"    //Gauss Seidel Method\n",
"exec gaussseidel.sce\n",
"A = [10 3 1;2 -10 3;1 3 10]    //    Coefficient matrix\n",
"b = [14 -5 14]'                //    Right hand matrix\n",
"x0 = [0 0 0]'                  //    Initial Gauss\n",
"gaussseidel(A,b,x0)            //    Calling function\n",
"        //        End the problem                    "
   ]
   }
,
{
		   "cell_type": "markdown",
		   "metadata": {},
		   "source": [
			"## Example 8.13: Conjugate_gradient_method.sce"
		   ]
		  },
  {
"cell_type": "code",
	   "execution_count": null,
	   "metadata": {
	    "collapsed": true
	   },
	   "outputs": [],
"source": [
"    //    EXAMPLE (PG 568)\n",
"A= [5 4 3 2 1;4 5 4 3 2;3 4 5 4 3;2 3 4 5 4;1 2 3 4 5]    //    Matrix of order 5\n",
"    //    Getting the eigenvalues        \n",
"lam = spec(A)                //    lamda = spectral radius of matrix A \n",
"max(lam)                    //    Largest eigenvalue\n",
"min(lam)                    //    Smallest eigen value\n",
"    //        For the error bound given earlier on Pg 567    \n",
"c = min(lam)/max(lam)\n",
"(1-sqrt(c))/(1+sqrt(c))\n",
"    //    For linear system, choose the following values of b    \n",
"b = [7.9380 12.9763 17.3057 19.4332 18.4196]'\n",
"x = A\b;    //    Solution matrix\n",
"    //    Rounding off to 4 decimal places\n",
"x = x*10^4;\n",
"x = int(x);\n",
"x = x*10^(-4)\n",
"disp(x)        //    Final Solution"
   ]
   }
,
{
		   "cell_type": "markdown",
		   "metadata": {},
		   "source": [
			"## Example 8.2: LU_decompositio.sce"
		   ]
		  },
  {
"cell_type": "code",
	   "execution_count": null,
	   "metadata": {
	    "collapsed": true
	   },
	   "outputs": [],
"source": [
"    //    EXAMPLE (PG 512)\n",
"A = [1 2 1;2 2 3;-1 -3 0]                //    Coefficient matrix\n",
"b = [0 3 2]'                             //    Right hand matrix \n",
"[l,u] = lu(A)\n",
"    //    l is lower triangular matrix & u is upper triangular matrix\n",
"l*u\n",
"if(A==l*u)\n",
"    disp('A = LU is verified')\n",
"end\n",
"det(A)\n",
"det(u)\n",
"if(det(A)==det(u))\n",
"    disp('Determinant of A is equal to that of its upper triangular matrix')\n",
"    //    Product rule of determinants is verified"
   ]
   }
,
{
		   "cell_type": "markdown",
		   "metadata": {},
		   "source": [
			"## Example 8.4: LU_decompositio.sce"
		   ]
		  },
  {
"cell_type": "code",
	   "execution_count": null,
	   "metadata": {
	    "collapsed": true
	   },
	   "outputs": [],
"source": [
"    //    EXAMPLE (PG 518)\n",
"    //    Row interchanges on A can be represented by premultiplication of A \n",
"    //    by an appropriate matrix E, to get EA. \n",
"    //    Then, Gaussian Elimination leads to LU = PA\n",
"A = [0.729 0.81 0.9;1 1 1;1.331 1.21 1.1]     //    Coefficient Matrix\n",
"b = [0.6867 0.8338 1.000]'                    //    Right Hand Matrix\n",
"[L,U,E] = lu(A)\n",
"    //    L is lower triangular matrix(mxn)\n",
"    //    U is upper triangular matrix(mxmin(m,n))\n",
"    //    E is permutation matrix(min(m,n)xn)\n",
"Z=L*U \n",
"disp('LU = EA')\n",
"E\n",
"    //    The result EA is the matrix A with first,rows 1 & 3 interchanged, \n",
"    //    and then rows 2 & 3 interchanged.\n",
"    //    NOTE:-According to the book, P is replaced by E here."
   ]
   }
,
{
		   "cell_type": "markdown",
		   "metadata": {},
		   "source": [
			"## Example 8.5: Choleski_Decompositio.sce"
		   ]
		  },
  {
"cell_type": "code",
	   "execution_count": null,
	   "metadata": {
	    "collapsed": true
	   },
	   "outputs": [],
"source": [
"    //    EXAMPLE (PG 526)\n",
"disp('Consider Hilbert matrix of order three')\n",
"n=3;         //    Order of the matrix\n",
"A=zeros(n,n);//    a symmetric positive definite real or complex matrix.\n",
"for i=1:n    //    Initializing 'for' loop\n",
"    for j=1:n\n",
"        A(i,j)=1/(i+j-1);\n",
"    end\n",
"end        //End of 'for' loop\n",
"A\n",
"chol(A)                    //    Choleski Decomposition\n",
"L=[chol(A)]'              //    Lower Triangular Matrix\n",
"    //    The square roots obtained here can be avoided using a slight modification.\n",
"    //    We find a diagonal matrix D & a lower triangular matrix (L^~), \n",
"    //    with 1s on the diagonal such that A = (L^~) * D * (L^~)'\n",
"    //    chol(A) uses only the diagonal and upper triangle of A. \n",
"    //    The lower triangular is assumed to be the \n",
"    //    (complex conjugate) transpose of the upper."
   ]
   }
,
{
		   "cell_type": "markdown",
		   "metadata": {},
		   "source": [
			"## Example 8.6: LU_decompositio.sce"
		   ]
		  },
  {
"cell_type": "code",
	   "execution_count": null,
	   "metadata": {
	    "collapsed": true
	   },
	   "outputs": [],
"source": [
"    //    EXAMPLE (PG 529)\n",
"    //    Consider the coefficient matrix for spline interpolation\n",
"A = [2 1 0 0;1 4 1 0;0 1 4 1;0 0 1 2]\n",
"[l,u] = lu(A);    //    LU Decomposition\n",
"U = l'            //    Lower Triangular matrix\n",
"L = u'            //    Upper triangular matrix"
   ]
   }
,
{
		   "cell_type": "markdown",
		   "metadata": {},
		   "source": [
			"## Example 8.7: Error_analysis.sce"
		   ]
		  },
  {
"cell_type": "code",
	   "execution_count": null,
	   "metadata": {
	    "collapsed": true
	   },
	   "outputs": [],
"source": [
"    //    EXAMPLE (PG 531)\n",
"    //    Consider the linear system\n",
"    //    7*x1 + 10*x2 = b1\n",
"    //    5*x1 + 7*x2 = b2\n",
"A = [7 10;5 7]            //    Coefficient matrix\n",
"inv(A)                    //    Inverse matrix\n",
"    //    cond(A)1        //    Condition matrix\n",
"norm(A,1)*norm(inv(A),1)\n",
"    //    cond(A)2        //    Condition matrix\n",
"norm(A,2)*norm(inv(A),2)\n",
"    //    These condition numbers all suggest that the above system \n",
"    //    may be sensitive to changes in the right side b.\n",
"    //    Consider the particular case\n",
"b = [1 0.7]';        //    Right hand matrix\n",
"x = A\b;            //    Solution matrix\n",
"    //    Solution matrix\n",
"x1 = x(1,:)\n",
"x2 = x(2,:)\n",
"    //    For the perturbed system, we solve for:\n",
"b = [1.01 0.69]';        //    Right hand matrix\n",
"x = A\b;                //    Solution matrix\n",
"    //    Solution matrix\n",
"x1 = x(1,:)\n",
"x2 = x(2,:)\n",
"    //    The relative changes in x are quite large when compared with\n",
"    //    the size of the relative changes in the right side b."
   ]
   }
,
{
		   "cell_type": "markdown",
		   "metadata": {},
		   "source": [
			"## Example 8.8: Residual_correction_method.sce"
		   ]
		  },
  {
"cell_type": "code",
	   "execution_count": null,
	   "metadata": {
	    "collapsed": true
	   },
	   "outputs": [],
"source": [
"    //    EXAMPLE (PG 541)\n",
"    //    Consider a Hilbert matrix of order 3\n",
"n=3;             //    Order of the matrix\n",
"A=zeros(n,n);    //    a symmetric positive definite real or complex matrix.\n",
"for i=1:n        //    Initializing 'for' loop\n",
"    for j=1:n\n",
"        A(i,j)=1/(i+j-1);\n",
"    end\n",
"end        //    End of 'for' loop\n",
"A\n",
"    //    Rounding off to 4 decimal places\n",
"A = A*10^4;\n",
"A = int(A);\n",
"A = A*10^(-4);\n",
"disp(A)        //    Final Solution\n",
"H = A        //    Here H denoted H bar as denoted in the text\n",
"b = [1 0 0]'\n",
"x = H\b\n",
"    //    Rounding off to 3 decimal places\n",
"x = x*10^3;\n",
"x = int(x);\n",
"x = x*10^(-3);\n",
"disp(x)        //    Final Solution\n",
"//Now, using elimination with Partial Pivoting, we get the following answers\n",
"x0 = [8.968 -35.77 29.77]'\n",
"    //    ro is Residual correction\n",
"r0 = b - A*x0\n",
"    //    A*e0 = r0\n",
"e0 = inv(A)*r0\n",
"x1 = x0 + e0\n",
"    //        Repeating the above operations, we can get the values of r1, x2, e1...\n",
"    //        The vector x2 is accurate to 4 decimal digits.\n",
"    //        Note that x1 - x0 = e0 is an accurate predictor of the error e0 in x0."
   ]
   }
,
{
		   "cell_type": "markdown",
		   "metadata": {},
		   "source": [
			"## Example 8.9: Residual_correction_method.sce"
		   ]
		  },
  {
"cell_type": "code",
	   "execution_count": null,
	   "metadata": {
	    "collapsed": true
	   },
	   "outputs": [],
"source": [
"//EXAMPLE (PG 544)\n",
"//A(e) = A0 + eB\n",
"A0=[2 1 0;1 2 1;0 1 2]\n",
"B=[0 1 1;-1 0 1;-1 -1 0]\n",
"//inv(A(e)) = C = inv(A0)\n",
"C=inv(A0)\n",
"b=[0 1 2]'\n",
"x=A0\b\n",
"r=b-A0*x"
   ]
   }
],
"metadata": {
		  "kernelspec": {
		   "display_name": "Scilab",
		   "language": "scilab",
		   "name": "scilab"
		  },
		  "language_info": {
		   "file_extension": ".sce",
		   "help_links": [
			{
			 "text": "MetaKernel Magics",
			 "url": "https://github.com/calysto/metakernel/blob/master/metakernel/magics/README.md"
			}
		   ],
		   "mimetype": "text/x-octave",
		   "name": "scilab",
		   "version": "0.7.1"
		  }
		 },
		 "nbformat": 4,
		 "nbformat_minor": 0
}
