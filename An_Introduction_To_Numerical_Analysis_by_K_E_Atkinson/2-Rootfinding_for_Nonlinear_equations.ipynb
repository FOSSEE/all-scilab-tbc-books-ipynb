{
"cells": [
 {
		   "cell_type": "markdown",
	   "metadata": {},
	   "source": [
       "# Chapter 2: Rootfinding for Nonlinear equations"
	   ]
	},
{
		   "cell_type": "markdown",
		   "metadata": {},
		   "source": [
			"## Example 2.10: Aitke.sce"
		   ]
		  },
  {
"cell_type": "code",
	   "execution_count": null,
	   "metadata": {
	    "collapsed": true
	   },
	   "outputs": [],
"source": [
"    //    EXAMPLE (PG 85)\n",
"    //    x(n+1) = 6.28 + sin(x(n))\n",
"    //    True root is alpha = 6.01550307297\n",
"    deff ('[y]=f(x)','f(x)=6.28+sin(x(n))')\n",
"    //    k=6.01550307297\n",
"//x=6.01550307297\n",
"deff('[y]=g(x)','y=cos(x)')\n",
"// we call a user-defined function 'aitken' so as to find the approximate \n",
"// root of the equation with a defined permissible error.  \n",
"aitken(0.2,0.5,1,g)"
   ]
   }
,
{
		   "cell_type": "markdown",
		   "metadata": {},
		   "source": [
			"## Example 2.11: Multiple_roots.sce"
		   ]
		  },
  {
"cell_type": "code",
	   "execution_count": null,
	   "metadata": {
	    "collapsed": true
	   },
	   "outputs": [],
"source": [
"    //    EXAMPLE (PG 87)\n",
"        //    f(x) = (x-1.1)^3 * (x-2.1)\n",
"c = [2.7951 -8.954 10.56 -5.4 1]\n",
"p4=poly(c,'x','coeff')\n",
"roots(p4)\n",
"deff('[y]=f(x)','y=(x-1.1)^3*(x-2.1)')\n",
"xset('window',0);                                   \n",
"x=0:.01:3;                                             // defining the range of x.\n",
"y=feval(x,f);\n",
" \n",
"a=gca(); \n",
" \n",
"a.y_location = 'origin';\n",
" \n",
"a.x_location = 'origin'; \n",
"plot(x,y)                                                  // instruction to plot the graph\n",
"title(' y = (x-1.1)^3*(x-2.1)')"
   ]
   }
,
{
		   "cell_type": "markdown",
		   "metadata": {},
		   "source": [
			"## Example 2.1: Bisection_method.sce"
		   ]
		  },
  {
"cell_type": "code",
	   "execution_count": null,
	   "metadata": {
	    "collapsed": true
	   },
	   "outputs": [],
"source": [
"    //    EXAMPLE (PG 57)\n",
"    //    To find largest root, alpha, of x^6 - x - 1 = 0 \n",
"    //    using bisection method\n",
"    //    The graph of this function can also be observed here.\n",
"    \n",
"deff('[y]=f(x)','y=x^6-x-1')\n",
"                     //    It is straightforward to show that 1<alpha<2, and \n",
"                     //we will use this as our initial interval [a,b]\n",
"xset('window',0);                                   \n",
"x=-5:.01:5;                                             // defining the range of x.\n",
"y=feval(x,f);\n",
" \n",
"a=gca(); \n",
" \n",
"a.y_location = 'origin';\n",
" \n",
"a.x_location = 'origin'; \n",
"plot(x,y)                                                  // instruction to plot the graph\n",
"title(' y = x^6-x-1')\n",
"// execution of the user defined function so as to use it in program to find the approximate solution.\n",
"// we call a user-defined function 'bisection' so as to find the approximate \n",
"// root of the equation with a defined permissible error.  \n",
"bisection(1,2,f)"
   ]
   }
,
{
		   "cell_type": "markdown",
		   "metadata": {},
		   "source": [
			"## Example 2.2: Newton_method.sce"
		   ]
		  },
  {
"cell_type": "code",
	   "execution_count": null,
	   "metadata": {
	    "collapsed": true
	   },
	   "outputs": [],
"source": [
"    //    EXAMPLE (PG 60)\n",
"    //    To find largest root, alpha, of f(x) = x^6 - x - 1 = 0 \n",
"    //    using newton's method\n",
"deff('[y]=f(x)','y=x^6-x-1')\n",
"deff('[y]=fp(x)','y=6*x^5-1')                    //    Derivative of f(x)\n",
"x=(1+2)/2                    //    Initial appoximation\n",
"//we call a user-defined function 'newton' so as to find the approximate \n",
"// root of the equation with a defined permissible error.  \n",
"newton(x,f,fp)"
   ]
   }
,
{
		   "cell_type": "markdown",
		   "metadata": {},
		   "source": [
			"## Example 2.3: Secant_method.sce"
		   ]
		  },
  {
"cell_type": "code",
	   "execution_count": null,
	   "metadata": {
	    "collapsed": true
	   },
	   "outputs": [],
"source": [
"    //    EXAMPLE ( PG 66)\n",
"    //    To find largest root, alpha, of f(x) = x^6 - x - 1 = 0 \n",
"    //    using secant method\n",
"deff('[y]=f(x)','y=x^6-x-1')\n",
"a=1\n",
"b=2        //    Initial approximations\n",
"// we call a user-defined function 'secant' so as to find the approximate \n",
"// root of the equation with a defined permissible error.  \n",
"secant(a,b,f)"
   ]
   }
,
{
		   "cell_type": "markdown",
		   "metadata": {},
		   "source": [
			"## Example 2.4: Muller_method.sce"
		   ]
		  },
  {
"cell_type": "code",
	   "execution_count": null,
	   "metadata": {
	    "collapsed": true
	   },
	   "outputs": [],
"source": [
"    //    EXAMPLE1 (PG 76)\n",
"    //    f(x) = x^20 - 1\n",
"    //    solving using Muller's method\n",
"xset('window',1);                                   \n",
"x=-2:.01:4;                                       // defining the range of x.\n",
"deff('[y]=f(x)','y=x^20-1');                  //defining the cunction.\n",
"y=feval(x,f);\n",
" \n",
"a=gca(); \n",
" \n",
"a.y_location = 'origin';\n",
" \n",
"a.x_location = 'origin'; \n",
"plot(x,y)                                   // instruction to plot the graph \n",
"title(' y = x^20-1')\n",
"// from the above plot we can infre that the function has roots between   \n",
"// the intervals (0,1),(2,3).\n",
"        //sollution by muller method to 3 iterations.\n",
"muller(0,.5,1,f)"
   ]
   }
,
{
		   "cell_type": "markdown",
		   "metadata": {},
		   "source": [
			"## Example 2.6: Muller_method.sce"
		   ]
		  },
  {
"cell_type": "code",
	   "execution_count": null,
	   "metadata": {
	    "collapsed": true
	   },
	   "outputs": [],
"source": [
"    //    EXAMPLE3 (PG 76)\n",
"    //   f(x) = x^6- 12 * x^5 + 63 * x^4 - 216* x^3 + 567 * x^2 - 972 * x + 729\n",
"    //    or f(x) = (x^2+9)*(x-3)^4\n",
"    //    solving using Muller's method\n",
"deff('[y]=f(x)','y=(x^2+9)*(x-3)^4')\n",
"xset('window',2);                                   \n",
"x=-10:.1:10;                                             // defining the range of x.\n",
"y=feval(x,f);\n",
" \n",
"a=gca(); \n",
" \n",
"a.y_location = 'origin';\n",
" \n",
"a.x_location = 'origin'; \n",
"plot(x,y)                                                  // instruction to plot the graph\n",
"title(' y = (x^2+9)*(x-3)^4')\n",
"muller(0,.5,1,f)"
   ]
   }
,
{
		   "cell_type": "markdown",
		   "metadata": {},
		   "source": [
			"## Example 2.7: One_point_iteration_method.sce"
		   ]
		  },
  {
"cell_type": "code",
	   "execution_count": null,
	   "metadata": {
	    "collapsed": true
	   },
	   "outputs": [],
"source": [
"    //    EXAMPLE (PG 77)\n",
"    //    x^2-a = 0\n",
"    //    The graph for x^2-3 can also be observed here.\n",
"deff('[y]=f(x)','y=x*x-3')\n",
"funcprot(0)\n",
"xset('window',3);                                   \n",
"x=-2:.01:10;                                             // defining the range of x.\n",
"y=feval(x,f);\n",
" \n",
"a=gca(); \n",
" \n",
"a.y_location = 'origin';\n",
" \n",
"a.x_location = 'origin'; \n",
"plot(x,y)                                                  // instruction to plot the graph\n",
"title(' y = x^2-3')\n",
"    //        CASE 1\n",
"//We have f(x) = x^2-a.\n",
"//So, we assume g(x) = x^2+x-a and the value of a = 3\n",
"deff('[y]=g(x)','y=x^2+x-3')\n",
"funcprot(0)\n",
"x=2\n",
"for n=0:1:3\n",
" g(x);\n",
"   x=g(x)\n",
"end\n",
"//        CASE 2\n",
"//We have f(x) = x^2-a.\n",
"//So, we assume g(x) = a/x and the value of a = 3\n",
"deff('[y]=g(x)','y=3/x')\n",
"funcprot(0)\n",
"x=2\n",
"for n=0:1:3\n",
" g(x);\n",
"   x=g(x)\n",
"end\n",
"//        CASE 3\n",
"//We have f(x) = x^2-a.\n",
"//So, we assume g(x) = 0.5*(x+(a/x)) and the value of a = 3\n",
"deff('[y]=g(x)','y=0.5*(x+(3/x))')\n",
"funcprot(0)\n",
"x=2\n",
"for n=0:1:3\n",
" g(x);\n",
"   x=g(x)\n",
"end"
   ]
   }
,
{
		   "cell_type": "markdown",
		   "metadata": {},
		   "source": [
			"## Example 2.8: One_point_Iteration_method.sce"
		   ]
		  },
  {
"cell_type": "code",
	   "execution_count": null,
	   "metadata": {
	    "collapsed": true
	   },
	   "outputs": [],
"source": [
"    //    EXAMPLE (PG 81)\n",
"    //Assume alpha is a solution of x = g(x)\n",
"alpha=sqrt(3);\n",
"//    case 1\n",
"deff('[y]=g(x)','y=x^2+x-3')\n",
"deff('[z]=gp(x)','z=2*x+1')        //    Derivative of g(x)\n",
"gp(alpha)\n",
"//    case 2\n",
"deff('[y]=g(x)','y=3/x')\n",
"funcprot(0)\n",
"deff('[z]=gp(x)','z=3/x')        //    Derivative of g(x)\n",
"gp(alpha)\n",
"//    case 3\n",
"deff('[y]=g(x)','y=0.5*(x+(3/x))')\n",
"funcprot(0)\n",
"deff('[z]=gp(x)','z=0.5*(1-(3/(x^2)))')        //    Derivative of g(x)\n",
"gp(alpha)"
   ]
   }
],
"metadata": {
		  "kernelspec": {
		   "display_name": "Scilab",
		   "language": "scilab",
		   "name": "scilab"
		  },
		  "language_info": {
		   "file_extension": ".sce",
		   "help_links": [
			{
			 "text": "MetaKernel Magics",
			 "url": "https://github.com/calysto/metakernel/blob/master/metakernel/magics/README.md"
			}
		   ],
		   "mimetype": "text/x-octave",
		   "name": "scilab",
		   "version": "0.7.1"
		  }
		 },
		 "nbformat": 4,
		 "nbformat_minor": 0
}
