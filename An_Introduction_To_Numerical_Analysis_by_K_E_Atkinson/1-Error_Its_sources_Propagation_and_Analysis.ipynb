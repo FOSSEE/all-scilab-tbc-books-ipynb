{
"cells": [
 {
		   "cell_type": "markdown",
	   "metadata": {},
	   "source": [
       "# Chapter 1: Error Its sources Propagation and Analysis"
	   ]
	},
{
		   "cell_type": "markdown",
		   "metadata": {},
		   "source": [
			"## Example 1.10: Loss_of_significance_errors.sce"
		   ]
		  },
  {
"cell_type": "code",
	   "execution_count": null,
	   "metadata": {
	    "collapsed": true
	   },
	   "outputs": [],
"source": [
"        //    PG (25)\n",
"//    Consider solving ax^2 + b*x + c = \n",
"//    Consider a polynomial y = x^2 - 26*x + 1 = 0\n",
"x = poly(0,'x');\n",
"y = x^2 - 26*x + 1\n",
"p = roots(y)\n",
"ra1 = p(2,1)\n",
"ra2 = p(1,1)\n",
"//    Using the standard quadratic formula for finding roots,\n",
"rt1 = (-(-26)+sqrt((-26)^2 - 4*1*1))/(2*1)\n",
"rt2 = (-(-26)-sqrt((-26)^2 - 4*1*1))/(2*1)\n",
"//    Relative error\n",
"rel1 = (ra1-rt1)/ra1\n",
"rel2 = (ra2-rt2)/ra2\n",
"//    The significant errors have been lost in the subtraction ra2 = xa - ya.\n",
"//    The accuracy in ra2 is much less.\n",
"//    To calculate ra2 accurately, we use:\n",
"rt2 = ((13-sqrt(168))*(13+sqrt(168)))/(1*(13+sqrt(168)))\n",
"//    Now, rt2 is nearly equal to ra2. So, by exact calculations, we will now get a much better rel2."
   ]
   }
,
{
		   "cell_type": "markdown",
		   "metadata": {},
		   "source": [
			"## Example 1.11: Loss_of_significance_errors.sce"
		   ]
		  },
  {
"cell_type": "code",
	   "execution_count": null,
	   "metadata": {
	    "collapsed": true
	   },
	   "outputs": [],
"source": [
"        //    PG (26)\n",
"x = poly(0,'x');\n",
"x = 0;\n",
"deff('[y]=f(t)','y=exp(x*t)')\n",
"integrate('exp(x*t)','t',0,1)\n",
"//    So, for x = 0, f(0) = 1\n",
"//    f(x) is continuous at x = 0.\n",
"//    To see that there is a loss of significance problem when x is small, \n",
"//    we evaluate f(x) at 1.4*10^(-9)\n",
"x = 1.4*10^(-9)\n",
"integrate('exp(x*t)','t',0,1)\n",
"//    When we use a ten-digit hand calculator, the result is 1.000000001\n",
"//    To avoid the loss of significance error, we may use a quadratic Taylor approximation to exp(x) and then simplify f(x)."
   ]
   }
,
{
		   "cell_type": "markdown",
		   "metadata": {},
		   "source": [
			"## Example 1.1: Taylor_series.sce"
		   ]
		  },
  {
"cell_type": "code",
	   "execution_count": null,
	   "metadata": {
	    "collapsed": true
	   },
	   "outputs": [],
"source": [
"        //    PG (6)\n",
"//    Taylor series for e^(-x^2) upto first four terms\n",
"deff('[y]=f(x)','y=exp(-x^2)')\n",
"funcprot(0)\n",
"deff('[y]=fp(x)','y=-2*x*exp(-x^2)')\n",
"funcprot(0)\n",
"deff('[y]=fpp(x)','y=(1-2*x^2)*(-2*exp(-2*x^2))')\n",
"funcprot(0)\n",
"deff('[y]=g(x)','y=4*x*exp(-x^2)*(3-2*x^2)')\n",
"funcprot(0)\n",
"deff('[y]=gp(x)','y=(32*x^4*exp(-x^2))+(-72*x^2*exp(-x^2))+12*exp(-x^2)')\n",
"funcprot(0)\n",
"x0=0;\n",
"x=poly(0,'x');\n",
"T = f(x0) + (x-x0)*fp(x0)/factorial(1) + (x-x0)^2 * fpp(x0)/factorial(2) + (x-x0)^3 * g(x0)/factorial(3) + (x-x0)^4 * gp(x0)/factorial(4)\n",
"//     Similarily Taylor series for inv(tan(x))"
   ]
   }
,
{
		   "cell_type": "markdown",
		   "metadata": {},
		   "source": [
			"## Example 1.3: Vector_norms.sce"
		   ]
		  },
  {
"cell_type": "code",
	   "execution_count": null,
	   "metadata": {
	    "collapsed": true
	   },
	   "outputs": [],
"source": [
"        //    PG (11)\n",
"A = [1 -1;3 2]\n",
"x = [1;2]\n",
"y = A*x\n",
"norm(A,'inf')\n",
"norm(x,'inf')\n",
"norm(y,'inf')\n",
"x = [1;1]\n",
"y = A*x\n",
"norm(y,'inf')\n",
"norm(A,'inf')*norm(x,'inf')\n",
"//    norm(y,'inf') = norm(A,'inf') * norm(x,'inf')"
   ]
   }
,
{
		   "cell_type": "markdown",
		   "metadata": {},
		   "source": [
			"## Example 1.4: Conversion_to_decimal.sce"
		   ]
		  },
  {
"cell_type": "code",
	   "execution_count": null,
	   "metadata": {
	    "collapsed": true
	   },
	   "outputs": [],
"source": [
"        //    PG (12)\n",
"//    11011.01 is a binary number. Its decimal equivalent is:\n",
"1*2^4 + 1*2^3 + 0*2^2 + 1*2^1 + 1*2^0 + 0*2^(-1) + 1*2^(-2)\n",
"//    56C.F is a hexadecimal number. Its decimal equivalent is:\n",
"5*16^2 + 6*16^1 + 12*16^0 + 15*16^(-1)"
   ]
   }
,
{
		   "cell_type": "markdown",
		   "metadata": {},
		   "source": [
			"## Example 1.5: Error_and_relative_error.sce"
		   ]
		  },
  {
"cell_type": "code",
	   "execution_count": null,
	   "metadata": {
	    "collapsed": true
	   },
	   "outputs": [],
"source": [
"        //    PG (17)\n",
"xT = exp(1)\n",
"xA = 19/7\n",
"//    Error(xA)\n",
"xT - xA\n",
"//    Relative error, Rel(xA)\n",
"(xT-xA)/xT"
   ]
   }
,
{
		   "cell_type": "markdown",
		   "metadata": {},
		   "source": [
			"## Example 1.6: Errors.sce"
		   ]
		  },
  {
"cell_type": "code",
	   "execution_count": null,
	   "metadata": {
	    "collapsed": true
	   },
	   "outputs": [],
"source": [
"        //    PG (18)\n",
"xT = 1/3\n",
"xA = 0.333\n",
"abs(xT-xA)    //    Error\n",
"//--------------------------------\n",
"xT = 23.496\n",
"xA = 23.494\n",
"abs(xT-xA)    //    Error\n",
"//--------------------------------\n",
"xT = 0.02138\n",
"xA = 0.02144\n",
"abs(xT-xA)    //    Error"
   ]
   }
,
{
		   "cell_type": "markdown",
		   "metadata": {},
		   "source": [
			"## Example 1.7: Taylor_series.sce"
		   ]
		  },
  {
"cell_type": "code",
	   "execution_count": null,
	   "metadata": {
	    "collapsed": true
	   },
	   "outputs": [],
"source": [
"        //    PG (20)\n",
"//    Taylor series for the first two terms\n",
"deff('[y]=f(x)','y=sqrt(1+x)')\n",
"funcprot(0)\n",
"deff('[y]=fp(x)','y=0.5*(1+x)^(-1/2)')\n",
"funcprot(0)\n",
"x0=0;\n",
"x=poly(0,'x');\n",
"T = f(x0) + (x-x0)*fp(x0)/factorial(1)"
   ]
   }
,
{
		   "cell_type": "markdown",
		   "metadata": {},
		   "source": [
			"## Example 1.8: Graph_of_polynomial.sce"
		   ]
		  },
  {
"cell_type": "code",
	   "execution_count": null,
	   "metadata": {
	    "collapsed": true
	   },
	   "outputs": [],
"source": [
"        //    PG (21)\n",
"deff('[y]=f(x)','y = x^3-3*x^2+3*x-1')\n",
"xset('window',0);                                   \n",
"x=-0:.01:2;                                             // defining the range of x.\n",
"y=feval(x,f);\n",
" \n",
"a=gca(); \n",
" \n",
"a.y_location = 'origin';\n",
" \n",
"a.x_location = 'origin'; \n",
"plot(x,y)                                                  // instruction to plot the graph\n",
"title(' y = x^3-3*x^2+3*x-1')"
   ]
   }
,
{
		   "cell_type": "markdown",
		   "metadata": {},
		   "source": [
			"## Example 1.9: Error_and_Relative_error.sce"
		   ]
		  },
  {
"cell_type": "code",
	   "execution_count": null,
	   "metadata": {
	    "collapsed": true
	   },
	   "outputs": [],
"source": [
"        //    PG (24)\n",
"xT = %pi\n",
"xA = 3.1416\n",
"yT = 22/7\n",
"yA = 3.1429\n",
"xT - xA             //    Error\n",
"(xT - xA)/xT        //    Relative Error\n",
"yT - yA             //    Error\n",
"(yT - yA)/yT        //    Relative Error\n",
"(xT - yT) - (xA - yA)\n",
"((xT - yT) - (xA - yA))/(xT - yT)\n",
"//    Although the error in xA - yA is quite small,\n",
"//    the relative error in xA - yA is much larger than that in xA or yA alone."
   ]
   }
],
"metadata": {
		  "kernelspec": {
		   "display_name": "Scilab",
		   "language": "scilab",
		   "name": "scilab"
		  },
		  "language_info": {
		   "file_extension": ".sce",
		   "help_links": [
			{
			 "text": "MetaKernel Magics",
			 "url": "https://github.com/calysto/metakernel/blob/master/metakernel/magics/README.md"
			}
		   ],
		   "mimetype": "text/x-octave",
		   "name": "scilab",
		   "version": "0.7.1"
		  }
		 },
		 "nbformat": 4,
		 "nbformat_minor": 0
}
