{
"cells": [
 {
		   "cell_type": "markdown",
	   "metadata": {},
	   "source": [
       "# Chapter 6: Numerical methods for ordinary differential equations"
	   ]
	},
{
		   "cell_type": "markdown",
		   "metadata": {},
		   "source": [
			"## Example 6.10: Euler.sce"
		   ]
		  },
  {
"cell_type": "code",
	   "execution_count": null,
	   "metadata": {
	    "collapsed": true
	   },
	   "outputs": [],
"source": [
"        //    PG (365)\n",
"deff('[z]=g(x,y)','z=-y')\n",
"[y,x] = Euler1(0.25,1,2.25,0.25,g)\n",
"//----------------------------------\n",
"deff('[z]=f(x,y)','z=x-y^2')\n",
"[y,x] = Euler1(0.25,0,3.25,0.25,f)"
   ]
   }
,
{
		   "cell_type": "markdown",
		   "metadata": {},
		   "source": [
			"## Example 6.1: 1st_order_linear_differential_equation.sce"
		   ]
		  },
  {
"cell_type": "code",
	   "execution_count": null,
	   "metadata": {
	    "collapsed": true
	   },
	   "outputs": [],
"source": [
"        //    PG (334)\n",
"//    dy/dt=-y\n",
"function ydot=f(y,t),ydot=-y,\n",
"endfunction\n",
"y0=0;t0=0;t=0:1:%pi;\n",
"y=ode(y0,t0,t,f)\n",
"plot(t,y)"
   ]
   }
,
{
		   "cell_type": "markdown",
		   "metadata": {},
		   "source": [
			"## Example 6.11: Trapezoidal_method.sce"
		   ]
		  },
  {
"cell_type": "code",
	   "execution_count": null,
	   "metadata": {
	    "collapsed": true
	   },
	   "outputs": [],
"source": [
"        //    PG (372)\n",
"deff('[y]=f(x,y)','y=-y^2')\n",
"[x,y] = trapezoidal(1,1,5,1,f)"
   ]
   }
,
{
		   "cell_type": "markdown",
		   "metadata": {},
		   "source": [
			"## Example 6.16: Adams_Moulton_method.sce"
		   ]
		  },
  {
"cell_type": "code",
	   "execution_count": null,
	   "metadata": {
	    "collapsed": true
	   },
	   "outputs": [],
"source": [
"        //    PG (389)\n",
"//    Using Adams-Moulton Formula\n",
"deff('[z]=f(x,y)','z=(1/(1+x^2))-2*y^2')\n",
"y0 = 0;\n",
"//    Solution is Y(x) = x/(1+x^2)\n",
"function [y,x] = adamsmoulton4(y0,x0,xn,h,f)\n",
"//adamsmoulton4 4th order method solving ODE\n",
"//  dy/dx = f(y,x), with initial \n",
"//conditions y=y0 at x=x0.  The \n",
"//solution is obtained for x = [x0:h:xn]\n",
"//and returned in y\n",
"umaxAllowed = 1e+100;\n",
"x = [x0:h:xn]; y = zeros(x); n = length(y); y(1) = y0;\n",
"for j = 1:n-1\n",
"if j<3 then\n",
"      k1=h*f(x(j),y(j));\n",
"    k2=h*f(x(j)+h,y(j)+k1);\n",
"	y(j+1) = y(j) + (k2+k1)/2;\n",
"end;  \n",
"   \n",
"if j>=2 then\n",
"    	y(j+2) = y(j+1) + (h/12)*(23*f(x(j+1),y(j+1))-16*f(x(j),y(j))+5*f(x(j-1),y(j-1)));\n",
"end;\n",
"end;\n",
"endfunction\n",
"adamsmoulton4(0,2.0,10.0,2.0,f)"
   ]
   }
,
{
		   "cell_type": "markdown",
		   "metadata": {},
		   "source": [
			"## Example 6.21: Euler_method.sce"
		   ]
		  },
  {
"cell_type": "code",
	   "execution_count": null,
	   "metadata": {
	    "collapsed": true
	   },
	   "outputs": [],
"source": [
"        //    PG (405)\n",
"deff('[y]=f(x,y)','y=lamda*y+(1-lamda)*cos(x)-(1+lamda)*sin(x)')\n",
"lamda = -1;\n",
"[x,y]=Euler1(1,1,5,0.5,f)\n",
"lamda = -10;\n",
"[x,y]=Euler1(1,1,5,0.1,f)\n",
"lamda = -50;\n",
"[x,y]=Euler1(1,1,5,0.01,f)"
   ]
   }
,
{
		   "cell_type": "markdown",
		   "metadata": {},
		   "source": [
			"## Example 6.24: Trapezoidal_method.sce"
		   ]
		  },
  {
"cell_type": "code",
	   "execution_count": null,
	   "metadata": {
	    "collapsed": true
	   },
	   "outputs": [],
"source": [
"        //    PG (409)\n",
"deff('[y]=f(x,y)','y=lamda*y+(1-lamda)*cos(x)-(1+lamda)*sin(x)')\n",
"lamda = -1;\n",
"[x,y]=trapezoidal(1,1,5,0.5,f)\n",
"lamda = -10;\n",
"[x,y]=trapezoidal(1,1,5,0.5,f)\n",
"lamda = -50;\n",
"[x,y]=trapezoidal(1,1,5,0.5,f)"
   ]
   }
,
{
		   "cell_type": "markdown",
		   "metadata": {},
		   "source": [
			"## Example 6.31: Boundary_value_problem.sce"
		   ]
		  },
  {
"cell_type": "code",
	   "execution_count": null,
	   "metadata": {
	    "collapsed": true
	   },
	   "outputs": [],
"source": [
"        //    PG (434)\n",
"//    2-point linear Boundary value problem\n",
"//    Boundary value problems with eigenvalues - case: d^y/dx^2 + lam*y = 0\n",
"//    subject to y(0) = 0, y(1) = 0, where lam is unknown.  \n",
"//    The finite-difference approximation is: \n",
"//    (y(i-1)-2*y(i)+y(i+1))=-lam*Dx^2*y(i), i = 2,3,...,n-1\n",
"[x,y,lam] = BVPeigen1(1,5)"
   ]
   }
,
{
		   "cell_type": "markdown",
		   "metadata": {},
		   "source": [
			"## Example 6.4: Stability_of_solutio.sce"
		   ]
		  },
  {
"cell_type": "code",
	   "execution_count": null,
	   "metadata": {
	    "collapsed": true
	   },
	   "outputs": [],
"source": [
"        //    PG (339)\n",
"//    dy/dx=100y -101*(%e)^(-x)\n",
"function ydox=f(x,y),ydox=100*y -101*(%e)^(-x),endfunction\n",
"funcprot(0)\n",
"y0=1;\n",
"x0=0;\n",
"x=0:5;\n",
"y=ode(y0,x0,x,f)\n",
"//    Solution will be Y(x) = exp(-x)\n",
"//    For the perturbed problem, dy/dx = 100*y - 101*exp(-x), y(0) = 1+e\n",
"//    Solution will be Y(x;e) = exp(-x) + e*exp(100*x)\n",
"//    This rapidly departs from the true solution."
   ]
   }
,
{
		   "cell_type": "markdown",
		   "metadata": {},
		   "source": [
			"## Example 6.5: Euler_method.sce"
		   ]
		  },
  {
"cell_type": "code",
	   "execution_count": null,
	   "metadata": {
	    "collapsed": true
	   },
	   "outputs": [],
"source": [
"        //    PG (344)\n",
"//    dy/dx = y\n",
"// y'=f(x,t)\n",
"deff('[z]=f(x,y)','z=y');\n",
"// execute the function euler1 , so as to call it to evaluate the value of y,\n",
"[y,x] = Euler1(0.40,1,2.00,0.2,f)     // h=0.2;\n",
"[y,x] = Euler1(0.40,1,2.00,0.1,f)     // h=0.1;\n",
"[y,x] = Euler1(0.40,1,2.00,0.05,f)     // h=0.05;\n",
"//    True solution is\n",
"Y = exp(x)\n",
"//    dy/dx = (1/(1+x^2))-(2*y^2)\n",
"// y'=f(x,t)\n",
"deff('[z]=f(x,y)','z=(1/(1+x^2))-(2*y^2)');\n",
"// execute the function euler1 , so as to call it to evaluate the value of y,\n",
"[y,x] = Euler1(0,0,2,0.2,f)     // h=0.2;\n",
"[y,x] = Euler1(0,0,2,0.1,f)     // h=0.1;\n",
"[y,x] = Euler1(0,0,2,0.05,f)     // h=0.05;\n",
"//    True solution is\n",
"Y = x/(1+x^2)"
   ]
   }
,
{
		   "cell_type": "markdown",
		   "metadata": {},
		   "source": [
			"## Example 6.6: Euler.sce"
		   ]
		  },
  {
"cell_type": "code",
	   "execution_count": null,
	   "metadata": {
	    "collapsed": true
	   },
	   "outputs": [],
"source": [
"        //    PG (351)\n",
"//    dy/dx = -y + 2 * cos(x)\n",
"deff('[y]=g(x,y)','y=-y+2*cos(x)')\n",
"y0=1;\n",
"x0=0;\n",
"xn=5;\n",
"// execute the function euler1 , so as to call it to evaluate the value of y,\n",
"[y,x] = Euler1(y0,x0,xn,0.04,g)    //    h = 0.04\n",
"[y,x] = Euler1(y0,x0,xn,0.02,g)    //    h = 0.02\n",
"[y,x] = Euler1(y0,x0,xn,0.01,g)    //    h = 0.01"
   ]
   }
,
{
		   "cell_type": "markdown",
		   "metadata": {},
		   "source": [
			"## Example 6.7: Asymptotic_error_analysis.sce"
		   ]
		  },
  {
"cell_type": "code",
	   "execution_count": null,
	   "metadata": {
	    "collapsed": true
	   },
	   "outputs": [],
"source": [
"        //    PG (354)\n",
"//    dy/dx = -y\n",
"deff('[z]=f(x,y)','z=-y')\n",
"y0=1;\n",
"//    True solution is \n",
"Y = exp(-x)\n",
"//    The equation for D(x) is \n",
"//        D'(x) = -D(x) + 0.5*exp(-x)\n",
"//        D(0) = 0\n",
"//    The solution is\n",
"//        D(x) = 0.5*x*exp(-x)"
   ]
   }
,
{
		   "cell_type": "markdown",
		   "metadata": {},
		   "source": [
			"## Example 6.9: Midpoint_and_trapezoidal_method.sce"
		   ]
		  },
  {
"cell_type": "code",
	   "execution_count": null,
	   "metadata": {
	    "collapsed": true
	   },
	   "outputs": [],
"source": [
"        //    PG (357)\n",
"//    1. The mid-point method is defined by\n",
"//    y(n+1) = y(n-1) + 2*h*f(xn,yn)--------n>=1\n",
"//    It is an explicit two-step method.\n",
"//    The trapezoidal method is defined by\n",
"//    y(n+1) = yn + h*[f(xn,yn) + f(x(n+1),y(n+1))]------n>=0\n",
"//    It is an implicit one-step method."
   ]
   }
],
"metadata": {
		  "kernelspec": {
		   "display_name": "Scilab",
		   "language": "scilab",
		   "name": "scilab"
		  },
		  "language_info": {
		   "file_extension": ".sce",
		   "help_links": [
			{
			 "text": "MetaKernel Magics",
			 "url": "https://github.com/calysto/metakernel/blob/master/metakernel/magics/README.md"
			}
		   ],
		   "mimetype": "text/x-octave",
		   "name": "scilab",
		   "version": "0.7.1"
		  }
		 },
		 "nbformat": 4,
		 "nbformat_minor": 0
}
