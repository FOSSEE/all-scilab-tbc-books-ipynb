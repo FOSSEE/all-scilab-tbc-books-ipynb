{
"cells": [
 {
		   "cell_type": "markdown",
	   "metadata": {},
	   "source": [
       "# Chapter 4: Approximation of functions"
	   ]
	},
{
		   "cell_type": "markdown",
		   "metadata": {},
		   "source": [
			"## Example 4.10: Near_minimax_approximation.sce"
		   ]
		  },
  {
"cell_type": "code",
	   "execution_count": null,
	   "metadata": {
	    "collapsed": true
	   },
	   "outputs": [],
"source": [
"        //    PG (227)\n",
"deff('[y]=f(x)','y=exp(x)')\n",
"c3=0.994571+0.997308*x+0.542991*x^2+0.177347*x^3;\n",
"norm(exp(x)-c3,'inf')\n",
"//    as obtained in the example 6, c4 = 0.00547, T4(x) = (-1)\n",
"//    c4*T4(x) = 0.00547 * (-1)\n",
"//    norm(exp(x)-q3,'inf') = 0.00553"
   ]
   }
,
{
		   "cell_type": "markdown",
		   "metadata": {},
		   "source": [
			"## Example 4.11: Forced_oscillation_of_error.sce"
		   ]
		  },
  {
"cell_type": "code",
	   "execution_count": null,
	   "metadata": {
	    "collapsed": true
	   },
	   "outputs": [],
"source": [
"        //    PG (234)\n",
"deff('[y]=f(x)','y=exp(x)')\n",
"x = -1:0.01:1;\n",
"//    For \n",
"n = 1;\n",
"x = [-1 0 1];\n",
"E1 = 0.272;\n",
"F1 = 1.2715 + 1.1752*x;\n",
"//    Relative errors\n",
"x = -1.0;\n",
"exp(x) - F1;\n",
"r1 = ans(1,1)\n",
"x = 0.1614;\n",
"exp(x) - F1;\n",
"r2 = ans(1,2)\n",
"x = 1.0;\n",
"exp(x) - F1;\n",
"r3 = ans(1,3)\n",
"F3 = 0.994526 + 0.995682*x + 0.543981*x*x + 0.179519*x*x*x;\n",
"x = [-1.0 -0.6832 0.0493 0.7324 1.0]\n",
"exp(x) - F3    //    relative errors"
   ]
   }
,
{
		   "cell_type": "markdown",
		   "metadata": {},
		   "source": [
			"## Example 4.1: Error_of_approximating_exponent_of_x.sce"
		   ]
		  },
  {
"cell_type": "code",
	   "execution_count": null,
	   "metadata": {
	    "collapsed": true
	   },
	   "outputs": [],
"source": [
"        //    PG (199)\n",
"x = poly(0,'x');\n",
"p3 = 1 + x + (1/2)*x^(2) + (1/6)*x^3\n",
"deff('[y]=f(x)','y=exp(x)')\n",
"funcprot(0)\n",
"x = -1:0.01:1;\n",
"f(x) - p3"
   ]
   }
,
{
		   "cell_type": "markdown",
		   "metadata": {},
		   "source": [
			"## Example 4.2: Minimax_Approximation_problem.sce"
		   ]
		  },
  {
"cell_type": "code",
	   "execution_count": null,
	   "metadata": {
	    "collapsed": true
	   },
	   "outputs": [],
"source": [
"        //    PG (200)\n",
"deff('[y]=f(x)','y=exp(x)')\n",
"xset('window',0);\n",
"x=-1:.01:1;                // defining the range of x.\n",
"y=feval(x,f);\n",
" \n",
"a=gca(); \n",
" \n",
"a.y_location = 'origin';\n",
" \n",
"a.x_location = 'origin'; \n",
"plot(x,y)                // instruction to plot the graph\n",
"//    possible approximation\n",
"//        y = q1(x)\n",
"//    Let e(x) = exp(x) - [a0+a1*x]\n",
"//    q1(x) & exp(x) must be equal at two points in [-1,1], say at x1 & x2\n",
"//    sigma1 = max(abs(e(x)))\n",
"//    e(x1) = e(x2) = 0.\n",
"//    By another argument based on shifting the graph of y = q1(x),\n",
"//    we conclude that the maximum error sigma1 is attained at exactly 3 points.\n",
"//    e(-1) = sigma1\n",
"//    e(1) = sigma1\n",
"//    e(x3) = -sigma1\n",
"//    x1 < x3 < x2\n",
"//    Since e(x) has a relative minimum at x3, we have e'(x) = 0\n",
"//    Combining these 4 equations, we have..\n",
"//    exp(-1) - [a0-a1] = sigma1 ------------------(i)\n",
"//    exp(1) - [a0+a1] = p1 -----------------------(ii)\n",
"//    exp(x3) - [a0+a1*x3] = -sigma1 --------------(iii)\n",
"//    exp(x3) - a1 = 0 ----------------------------(iv)\n",
"//    These have the solution\n",
"a1 = (exp(1) - exp(-1))/2\n",
"x3 = log(a1)\n",
"sigma1 = 0.5*exp(-1) + x3*(exp(1) - exp(-1))/4\n",
"a0 = sigma1 + (1-x3)*a1\n",
"x = poly(0,'x');\n",
"//    Thus,\n",
"q1 = a0 + a1*x\n",
"deff('[y1]=f(x)','y1=1.2643+1.1752*x')\n",
"xset('window',0);\n",
"x=-1:.01:1;                // defining the range of x.\n",
"y=feval(x,f);\n",
" \n",
"a=gca(); \n",
" \n",
"a.y_location = 'origin';\n",
" \n",
"a.x_location = 'origin'; \n",
"plot(x,y)                // instruction to plot the graph"
   ]
   }
,
{
		   "cell_type": "markdown",
		   "metadata": {},
		   "source": [
			"## Example 4.3: Least_squares_approximation_problem.sce"
		   ]
		  },
  {
"cell_type": "code",
	   "execution_count": null,
	   "metadata": {
	    "collapsed": true
	   },
	   "outputs": [],
"source": [
"        //    PG (205)\n",
"deff('[y]=f(x)','y=exp(x)')\n",
"x=-1:.01:1;                // defining the range of x\n",
"//    Let r1(x) = b0 + b1(x)\n",
"//    Minimize \n",
"//        ||f-r1||^2 = integrate('(exp(x)-b0-b1*x)^2','x',-1,1) = F(b0,b1)\n",
"//    F = integrate('exp(2*x) + b0^2 + (b1^2)*(x^2) - 2*b0*x*exp(x) + 2*b0*b1*x','x',b0,b1)\n",
"//    To find a minimum, we set\n",
"//        df/db0 = 0\n",
"//        df/db1 = 0-----------necessary conditions at a minimal point\n",
"//    On solving, we get the values of b0 & b1\n",
"b0 = 0.5*integrate('exp(x)','x',-1,1)\n",
"b1 = 1.5*integrate('x*exp(x)','x',-1,1)\n",
"r1 = b0+b1*x;\n",
"norm(exp(x)-r1,'inf')    //    least squares approximation\n",
"r3 = 0.996294 + 0.997955*x + 0.536722*x^2 + 0.176139*x^3 \n",
"norm(exp(x)-r3,'inf')    //    cubic least squares approximation"
   ]
   }
,
{
		   "cell_type": "markdown",
		   "metadata": {},
		   "source": [
			"## Example 4.4: Weight_functions.sce"
		   ]
		  },
  {
"cell_type": "code",
	   "execution_count": null,
	   "metadata": {
	    "collapsed": true
	   },
	   "outputs": [],
"source": [
"        //    PG (206)\n",
"//    The following are the weight functions of most interest in the \n",
"//    developments of this text:\n",
"//        w(x)=1               a < = x < = b\n",
"//        w(x)=1/sqrt(1-x^2)    -1 < = x < = 1\n",
"//        w(x)=exp(-x)        0 < = x < infinity\n",
"//        w(x)=exp(-x^2)        -infinity < x < infinity"
   ]
   }
,
{
		   "cell_type": "markdown",
		   "metadata": {},
		   "source": [
			"## Example 4.5: Formulae.sce"
		   ]
		  },
  {
"cell_type": "code",
	   "execution_count": null,
	   "metadata": {
	    "collapsed": true
	   },
	   "outputs": [],
"source": [
"        //    PG (215)\n",
"//    for laguerre polynomials,\n",
"//    L(n+1)=1*[2*n+1-x]*L(n)/(n+1) - n*L(n-1)/(n+1)\n",
"//    for Legendre polynomials,\n",
"//    P(n+1)= (2*n +1)*x*P(n)/(n+1) - n*P(n-1)/(n+1)"
   ]
   }
,
{
		   "cell_type": "markdown",
		   "metadata": {},
		   "source": [
			"## Example 4.6: Formulae_for_laguerre_and_legendre_polynomials.sce"
		   ]
		  },
  {
"cell_type": "code",
	   "execution_count": null,
	   "metadata": {
	    "collapsed": true
	   },
	   "outputs": [],
"source": [
"        //    PG (215)\n",
"//    for laguerre polynomials,\n",
"//    L(n+1)=1*[2*n+1-x]*L(n)/(n+1) - n*L(n-1)/(n+1)\n",
"//    for Legendre polynomials,\n",
"//    P(n+1)= (2*n +1)*x*P(n)/(n+1) - n*P(n-1)/(n+1)"
   ]
   }
,
{
		   "cell_type": "markdown",
		   "metadata": {},
		   "source": [
			"## Example 4.7: Average_error_in_approximation.sce"
		   ]
		  },
  {
"cell_type": "code",
	   "execution_count": null,
	   "metadata": {
	    "collapsed": true
	   },
	   "outputs": [],
"source": [
"        //    PG (219)\n",
"deff('[y]=f(x)','y=exp(x)')\n",
"x=-1:.01:1;                // defining the range of x\n",
"//    Let r1(x) = b0 + b1(x)\n",
"//    Minimize \n",
"//        ||f-r1||^2 = integrate('(exp(x)-b0-b1*x)^2','x',-1,1) = F(b0,b1)\n",
"//    F = integrate('exp(2*x) + b0^2 + (b1^2)*(x^2) - 2*b0*x*exp(x) + 2*b0*b1*x','x',b0,b1)\n",
"//    To find a minimum, we set\n",
"//        df/db0 = 0\n",
"//        df/db1 = 0-----------necessary conditions at a minimal point\n",
"//    On solving, we get the values of b0 & b1\n",
"b0 = 0.5*integrate('exp(x)','x',-1,1);\n",
"b1 = 1.5*integrate('x*exp(x)','x',-1,1);\n",
"r1 = b0+b1*x;\n",
"norm(exp(x)-r1,'inf');    //    least squares approximation\n",
"r3 = 0.996294 + 0.997955*x + 0.536722*x^2 + 0.176139*x^3; \n",
"norm(exp(x)-r3,'inf');    //    cubic least squares approximation\n",
"//    average error E\n",
"E = norm(exp(x)-r3,2)/sqrt(2)"
   ]
   }
,
{
		   "cell_type": "markdown",
		   "metadata": {},
		   "source": [
			"## Example 4.8: Chebyshev_expansion_coefficients.sce"
		   ]
		  },
  {
"cell_type": "code",
	   "execution_count": null,
	   "metadata": {
	    "collapsed": true
	   },
	   "outputs": [],
"source": [
"        //    PG (220)\n",
"deff('[y]=f(x)','y=exp(x)')\n",
"//    Chebyshev expansion coefficients for exp(x)\n",
"//    j = 0\n",
"C0=2*(integrate('exp(cos(x))','x',0,3.14))/(3.14)\n",
"//    j = 1\n",
"C1=2*(integrate('exp(cos(x))*cos(x)','x',0,3.14))/(3.14)\n",
"//    j = 2\n",
"C2=2*(integrate('exp(cos(x))*cos(2*x)','x',0,3.14))/(3.14)\n",
"//    j = 3\n",
"C3=2*(integrate('exp(cos(x))*cos(3*x)','x',0,3.14))/(3.14)\n",
"//    j = 4\n",
"C4=2*(integrate('exp(cos(x))*cos(4*x)','x',0,3.14))/(3.14)\n",
"//    j = 5\n",
"C5=2*(integrate('exp(cos(x))*cos(5*x)','x',0,3.14))/(3.14)\n",
"//    we obtain\n",
"c1=1.266+1.130*x;\n",
"c3=0.994571+0.997308*x+0.542991*x^2+0.177347*x^3;\n",
"norm(exp(x)-c1,'inf')\n",
"norm(exp(x)-c3,'inf')"
   ]
   }
,
{
		   "cell_type": "markdown",
		   "metadata": {},
		   "source": [
			"## Example 4.9: Max_errors_in_cubic_chebyshev_least_squares_approx.sce"
		   ]
		  },
  {
"cell_type": "code",
	   "execution_count": null,
	   "metadata": {
	    "collapsed": true
	   },
	   "outputs": [],
"source": [
"        //    PG (223)\n",
"deff('[y]=f(x)','y=exp(x)')\n",
"x=[-1.0 -0.6919 0.0310 0.7229 1.0];                // defining x\n",
"r3 = 0.996294 + 0.997955*x + 0.536722*x^2 + 0.176139*x^3;\n",
"norm(exp(x)-r3,'inf');    //    cubic least squares approximation\n",
"deff('[y]=g(x)','y=0.994571+0.997308*x+0.542991*x^2+0.177347*x^3')\n",
"//    c3=g(x);\n",
"x1=x(1,1);\n",
"(exp(x1)-g(x1))\n",
"x2=x(1,2);\n",
"(exp(x2)-g(x2))\n",
"x3=x(1,3);\n",
"(exp(x3)-g(x3))\n",
"x4=x(1,4);\n",
"(exp(x4)-g(x4))\n",
"x5=x(1,5);\n",
"(exp(x5)-g(x5))"
   ]
   }
],
"metadata": {
		  "kernelspec": {
		   "display_name": "Scilab",
		   "language": "scilab",
		   "name": "scilab"
		  },
		  "language_info": {
		   "file_extension": ".sce",
		   "help_links": [
			{
			 "text": "MetaKernel Magics",
			 "url": "https://github.com/calysto/metakernel/blob/master/metakernel/magics/README.md"
			}
		   ],
		   "mimetype": "text/x-octave",
		   "name": "scilab",
		   "version": "0.7.1"
		  }
		 },
		 "nbformat": 4,
		 "nbformat_minor": 0
}
