{
"cells": [
 {
		   "cell_type": "markdown",
	   "metadata": {},
	   "source": [
       "# Chapter 9: The Matrix Eigenvalue Problem"
	   ]
	},
{
		   "cell_type": "markdown",
		   "metadata": {},
		   "source": [
			"## Example 9.11: QR_factorisatio.sce"
		   ]
		  },
  {
"cell_type": "code",
	   "execution_count": null,
	   "metadata": {
	    "collapsed": true
	   },
	   "outputs": [],
"source": [
"        //    PG (613)\n",
"A = [4 1 1;1 4 1;1 1 4]\n",
"w1 = [0.985599 0.119573 0.119573]'\n",
"P1 = eye() - 2*w1*w1'\n",
"A2 = P1*A\n",
"w2 = [0 0.996393 0.0848572]'\n",
"P2 = eye() - 2*w2*w2'\n",
"R = P2*A2\n",
"Q = P1*P2\n",
"Q*R\n",
"//    A = Q * R\n",
"abs(det(A))\n",
"abs(det(Q)*det(R))\n",
"//    |det(A)| = |det(Q)*det(R)| = |det(R)| = 54 (approx) \n",
"lam = spec(A)'\n",
"lam1 = lam(1,1)\n",
"lam2 = lam(1,2)\n",
"lam3 = lam(1,3)\n",
"lam1 * lam2 * lam3\n",
"//    Product of eigen values also comes out to be 54"
   ]
   }
,
{
		   "cell_type": "markdown",
		   "metadata": {},
		   "source": [
			"## Example 9.12: Tridiagonal_Matrix.sce"
		   ]
		  },
  {
"cell_type": "code",
	   "execution_count": null,
	   "metadata": {
	    "collapsed": true
	   },
	   "outputs": [],
"source": [
"        //    PG (617)\n",
"A = [1 3 4;3 1 2;4 2 1]\n",
"w2 = [0 2/sqrt(5) 1/sqrt(5)]'\n",
"P1 = eye() - 2*w2*w2'\n",
"T = P1' * A * P1    //    Tridiagonal matrix"
   ]
   }
,
{
		   "cell_type": "markdown",
		   "metadata": {},
		   "source": [
			"## Example 9.13: Planner_Rotation_Orthogonal_Matrix.sce"
		   ]
		  },
  {
"cell_type": "code",
	   "execution_count": null,
	   "metadata": {
	    "collapsed": true
	   },
	   "outputs": [],
"source": [
"        //    PG (619)\n",
"x = %pi/4\n",
"R = [cos(x) 0 sin(x);0 1 0;-sin(x) 0 cos(x)]\n",
"//    Planner Rotation Orthogonal Matrix"
   ]
   }
,
{
		   "cell_type": "markdown",
		   "metadata": {},
		   "source": [
			"## Example 9.14: Eigen_values_of_a_symmetric_tridiagonal_Matrix.sce"
		   ]
		  },
  {
"cell_type": "code",
	   "execution_count": null,
	   "metadata": {
	    "collapsed": true
	   },
	   "outputs": [],
"source": [
"        //    PG (620)\n",
"T = [2 1 0 0 0 0;1 2 1 0 0 0;0 1 2 1 0 0;0 0 1 2 1 0;0 0 0 1 2 1;0 0 0 0 1 2]\n",
"lam = spec(T)'\n",
"lam1 = lam(1,1)\n",
"B = [2-lam1 1 0 0 0 0;1 2-lam1 1 0 0 0;0 1 2-lam1 1 0 0;0 0 1 2-lam1 1 0;0 0 0 1 2-lam1 1;0 0 0 0 1 2]\n",
"f0 = abs(det(B))\n",
"f1 = 2-lam1"
   ]
   }
,
{
		   "cell_type": "markdown",
		   "metadata": {},
		   "source": [
			"## Example 9.15: Sturm_Sequence_property.sce"
		   ]
		  },
  {
"cell_type": "code",
	   "execution_count": null,
	   "metadata": {
	    "collapsed": true
	   },
	   "outputs": [],
"source": [
"        //    PG (621)\n",
"//    For the previous example, consider the sequence f0, f1....f6\n",
"//    For lam = 3,\n",
"//        (f0,.....f6) = (1,-1,0,1,-1,0,1)\n",
"//    The corresponding sequence of signs is \n",
"//        (+,-,+,+,-,+,+)\n",
"//    and s(3) = 2"
   ]
   }
,
{
		   "cell_type": "markdown",
		   "metadata": {},
		   "source": [
			"## Example 9.16: QR_Method.sce"
		   ]
		  },
  {
"cell_type": "code",
	   "execution_count": null,
	   "metadata": {
	    "collapsed": true
	   },
	   "outputs": [],
"source": [
"        //    PG (624)\n",
"A1 = [2 1 0;1 3 1;0 1 4]\n",
"lam = spec(A1)'\n",
"[Q1,R1] = qr(A1);\n",
"A2 = R1 * Q1\n",
"[Q2,R2] = qr(A2);\n",
"A3 = R2 * Q2\n",
"[Q3,R3] = qr(A3);\n",
"A4 = R3 * Q3\n",
"[Q4,R4] = qr(A4);\n",
"A5 = R4 * Q4\n",
"[Q5,R5] = qr(A5);\n",
"A6 = R5 * Q5\n",
"[Q6,R6] = qr(A6);\n",
"A7 = R6 * Q6\n",
"[Q7,R7] = qr(A7);\n",
"A8 = R7 * Q7\n",
"[Q8,R8] = qr(A8);\n",
"A9 = R8 * Q8\n",
"[Q9,R9] = qr(A9);\n",
"A10 = R9 * Q9\n",
"[Q10,R10] = qr(A10);"
   ]
   }
,
{
		   "cell_type": "markdown",
		   "metadata": {},
		   "source": [
			"## Example 9.18: Calculation_of_Eigen_vectors_and_Inverse_iteration.sce"
		   ]
		  },
  {
"cell_type": "code",
	   "execution_count": null,
	   "metadata": {
	    "collapsed": true
	   },
	   "outputs": [],
"source": [
"        //    PG (631)\n",
"A = [2 1 0;1 3 1;0 1 4]\n",
"lam = spec(A)\n",
"[L,U] = lu(A)\n",
"y1 = [1 1 1]'\n",
"w1 = [3385.2 -2477.3 908.20]'\n",
"z1 = [w1/norm(w1,'inf')]'\n",
"w2 = [20345 -14894 5451.9]'\n",
"z2 = [w2/norm(w2,'inf')]'\n",
"z3 = z2\n",
"//    The true answer is\n",
"x3 = [1 1-sqrt(3) 2-sqrt(3)]'\n",
"//    z2 equals x3 to within the limits of rounding error accumulations."
   ]
   }
,
{
		   "cell_type": "markdown",
		   "metadata": {},
		   "source": [
			"## Example 9.19: Inverse_Iteration.sce"
		   ]
		  },
  {
"cell_type": "code",
	   "execution_count": null,
	   "metadata": {
	    "collapsed": true
	   },
	   "outputs": [],
"source": [
"        //    PG (633)\n",
"A = [2 1 0;1 3 1;0 1 4]\n",
"lam = spec(A)\n",
"[L,U] = lu(A)\n",
"y1 = [1 1 1]'\n",
"w1 = [3385.2 -2477.3 908.20]'\n",
"z1 = [w1/norm(w1,'inf')]'\n",
"w2 = [20345 -14894 5451.9]'\n",
"z2 = [w2/norm(w2,'inf')]'\n",
"z3 = z2\n",
"//    The true answer is\n",
"x3 = [1 1-sqrt(3) 2-sqrt(3)]'\n",
"//    z2 equals x3 to within the limits of rounding error accumulations.\n",
"//    Consider lam = 1.2679\n",
"//    0.7321*x1 + x2 = 0\n",
"//    x1 + 1.7321*x2 + x3 = 0\n",
"//    Taking x1= 1.0, we have the approximate eigenvector \n",
"//                    x = [1.0000 -0.73210 0.26807]\n",
"//    Compared with the true answer obtained above, this is a slightly poorer\n",
"//    result obtained by inverse iteration."
   ]
   }
,
{
		   "cell_type": "markdown",
		   "metadata": {},
		   "source": [
			"## Example 9.1: Eigenvalues.sce"
		   ]
		  },
  {
"cell_type": "code",
	   "execution_count": null,
	   "metadata": {
	    "collapsed": true
	   },
	   "outputs": [],
"source": [
"        //    EXAMPLE 590    \n",
"A = [4 1 0;1 0 -1;1 1 -4]\n",
"[n,m] = size(A);\n",
"if m<>n then\n",
"	error('eigenvectors - matrix A is not square');\n",
"	abort;\n",
"end;\n",
"lam = spec(A)'                   //Eigenvalues of matrix A"
   ]
   }
,
{
		   "cell_type": "markdown",
		   "metadata": {},
		   "source": [
			"## Example 9.2: Eigen_values_and_matrix_norm.sce"
		   ]
		  },
  {
"cell_type": "code",
	   "execution_count": null,
	   "metadata": {
	    "collapsed": true
	   },
	   "outputs": [],
"source": [
"        // PG 591\n",
"n = 4\n",
"A = [4 1 0 0;1 4 1 0;0 1 4 1;0 0 1 4]\n",
"lam = spec(A)\n",
"//    Since A is symmetric, all eigen values are real.\n",
"//    The radii are all 1 or 2.\n",
"//    The centers of all the circles are 4.\n",
"//    All eigen values must all lie in the interval [2,6]\n",
"//    Since the eigen values of inv(A) are the reciprocals of those of A,\n",
"//    1/6 <= mu <= 1/2\n",
"//    Let inv(A) = B\n",
"B=inv(A);\n",
"norm(B,2)\n",
"n\n",
"i = 1:n;\n",
"j = 1:n;\n",
"    //    for j~i\n",
"    //        r = sum(abs(B(i,j)))\n",
"//    norm(B,2) = r(B) <= o.5"
   ]
   }
,
{
		   "cell_type": "markdown",
		   "metadata": {},
		   "source": [
			"## Example 9.3: Bounds_for_perturbed_eigen_values.sce"
		   ]
		  },
  {
"cell_type": "code",
	   "execution_count": null,
	   "metadata": {
	    "collapsed": true
	   },
	   "outputs": [],
"source": [
"        //    PG 593\n",
"disp('Consider Hilbert matrix of order three')\n",
"n=3;         //    Order of the matrix\n",
"A=zeros(n,n);//    a symmetric positive definite real or complex matrix.\n",
"for i=1:n    //    Initializing 'for' loop\n",
"    for j=1:n\n",
"        A(i,j)=1/(i+j-1);\n",
"    end\n",
"end        //End of 'for' loop\n",
"A\n",
"[n,m] = size(A)\n",
"if m<>n then\n",
"	error('eigenvectors - matrix A is not square');\n",
"	abort;\n",
"end;\n",
"lam = spec(A)'                   //Eigenvalues of matrix A\n",
"lam1 = lam(1,1)\n",
"lam2 = lam(1,2)\n",
"lam3 = lam(1,3)\n",
"    //    Rounding off to 4 decimal places\n",
"A = A*10^4;\n",
"    A = int(A);\n",
"    A = A*10^(-4);\n",
"    disp(A)        //    Final Solution\n",
"lamr = spec(A)'\n",
"lamr1 = lamr(1,1)\n",
"lamr2 = lamr(1,2)\n",
"lamr3 = lamr(1,3)\n",
"    //    Errors\n",
"lam - lamr\n",
"    //    Relative Errors\n",
"R1 = (lam1-lamr1)/lam1\n",
"R2 = (lam2-lamr2)/lam2\n",
"R3 = (lam3-lamr3)/lam3"
   ]
   }
,
{
		   "cell_type": "markdown",
		   "metadata": {},
		   "source": [
			"## Example 9.4: Eigenvalues_of_nonsymmetric_matrix.sce"
		   ]
		  },
  {
"cell_type": "code",
	   "execution_count": null,
	   "metadata": {
	    "collapsed": true
	   },
	   "outputs": [],
"source": [
"        //    PG 594\n",
"A = [101 -90;110 -98]\n",
"[n,m] = size(A)\n",
"if m<>n then\n",
"	error('eigenvectors - matrix A is not square');\n",
"	abort;\n",
"end;\n",
"lam = spec(A)'                   //Eigenvalues of matrix A\n",
"    //    A+E = [101-e -90-e;110 -98]\n",
"    //    Let e = 0.001\n",
"e = 0.001;\n",
"    //    Let A+E = D\n",
"D = [101-e -90-e;110 -98]\n",
"[n,m] = size(D)\n",
"if m<>n then\n",
"	error('eigenvectors - matrix D is not square');\n",
"	abort;\n",
"end;\n",
"lam = spec(D)'                   //Eigenvalues of matrix A"
   ]
   }
,
{
		   "cell_type": "markdown",
		   "metadata": {},
		   "source": [
			"## Example 9.5: Stability_of_eigenvalues_for_nonsymmetric_matrices.sce"
		   ]
		  },
  {
"cell_type": "code",
	   "execution_count": null,
	   "metadata": {
	    "collapsed": true
	   },
	   "outputs": [],
"source": [
"        //    PG 599\n",
"    //    e = 0.001\n",
"    //    From earlier example : \n",
"    //    eigen values of matrix A are 1 and 2. So,..\n",
"    //    inv(P)*A*P = [1 0;0 2]\n",
"A = [101 -90;110 -98]\n",
"B = [-1 -1;0 0]\n",
"    //    From the above equation, we get:\n",
"P = [9/sqrt(181) -10/sqrt(221);10/sqrt(181) -11/sqrt(221)]\n",
"inv(P)\n",
"K = norm(P)*norm(inv(P))        //    K is condition number\n",
"u1 = P(:,1)\n",
"u2 = P(:,2)\n",
"Q = inv(P)\n",
"R = Q'\n",
"w1 = R(:,1)\n",
"w2 = R(:,2)\n",
"s1 = 1/norm(w1,2)\n",
"norm(B)\n",
"//    abs(lam1(e) - lam1) <= sqrt(2)*e/0.005 + O(e^2) = 283*e + O(e^2)"
   ]
   }
,
{
		   "cell_type": "markdown",
		   "metadata": {},
		   "source": [
			"## Example 9.7: Rate_of_convergence.sce"
		   ]
		  },
  {
"cell_type": "code",
	   "execution_count": null,
	   "metadata": {
	    "collapsed": true
	   },
	   "outputs": [],
"source": [
"        //    (PG 607)\n",
"A = [1 2 3;2 3 4;3 4 5]\n",
"lam = spec(A)'\n",
"lam1 = lam(1,3)\n",
"lam2 = lam(1,1)\n",
"lam3 = lam(1,2)\n",
"    //    Theoretical ratio of convergence\n",
"lam2/lam1\n",
"b = 0.5*(lam2+lam3)\n",
"B = A-b*eye(3,3)\n",
"    //    Eigen values of A-bI are:\n",
"lamb = spec(B)'\n",
"lamb1 = lamb(1,3)\n",
"lamb2 = lamb(1,2)\n",
"lamb3 = lamb(1,1)\n",
"    //    Ratio of convergence for the power method applied to A-bI will be:\n",
"lamb2/lamb1\n",
"    //    This is less than half the magnitude of the original ratio."
   ]
   }
,
{
		   "cell_type": "markdown",
		   "metadata": {},
		   "source": [
			"## Example 9.8: Rate_of_convergence_after_extrapolation.sce"
		   ]
		  },
  {
"cell_type": "code",
	   "execution_count": null,
	   "metadata": {
	    "collapsed": true
	   },
	   "outputs": [],
"source": [
"        //    PG (608)\n",
"A = [1 2 3;2 3 4;3 4 5]\n",
"lam = spec(A)'        //    Eigen values of A\n",
"lam1 = lam(1,3)\n",
"lam2 = lam(1,1)\n",
"lam3 = lam(1,2)\n",
"//    Theoretical ratio of convergence\n",
"lam2/lam1\n",
"//    After extrapolating, we get\n",
"        lame1 = 9.6234814\n",
"//    Error:\n",
"lam1-lame1"
   ]
   }
,
{
		   "cell_type": "markdown",
		   "metadata": {},
		   "source": [
			"## Example 9.9: Householder_matrix.sce"
		   ]
		  },
  {
"cell_type": "code",
	   "execution_count": null,
	   "metadata": {
	    "collapsed": true
	   },
	   "outputs": [],
"source": [
"        //    PG (610)\n",
"w = [1/3 2/3 2/3]'\n",
"w1 = w(1,1)\n",
"w2 = w(2,1)\n",
"w3 = w(3,1)\n",
"U = [1-2*abs(w1)^2 -2*w1*w2' -2*w1*w3';-2*w1'*w2 1-2*abs(w2)^2 -2*w2*w3';-2*w1'*w3 -2*w2'*w3 1-2*abs(w3)^2]\n",
"U\n",
"inv(U)\n",
"//    U = inv(U)------Hence, U is Hermitian\n",
"U*U\n",
"//    U*U = I---------Hence, U is orthogonal"
   ]
   }
],
"metadata": {
		  "kernelspec": {
		   "display_name": "Scilab",
		   "language": "scilab",
		   "name": "scilab"
		  },
		  "language_info": {
		   "file_extension": ".sce",
		   "help_links": [
			{
			 "text": "MetaKernel Magics",
			 "url": "https://github.com/calysto/metakernel/blob/master/metakernel/magics/README.md"
			}
		   ],
		   "mimetype": "text/x-octave",
		   "name": "scilab",
		   "version": "0.7.1"
		  }
		 },
		 "nbformat": 4,
		 "nbformat_minor": 0
}
