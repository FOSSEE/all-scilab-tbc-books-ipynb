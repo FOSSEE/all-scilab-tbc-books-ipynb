{
"cells": [
 {
		   "cell_type": "markdown",
	   "metadata": {},
	   "source": [
       "# Chapter 3: Electroluminescent sources"
	   ]
	},
{
		   "cell_type": "markdown",
		   "metadata": {},
		   "source": [
			"## Example 3.15: Calculation_of_external_efficiency.sce"
		   ]
		  },
  {
"cell_type": "code",
	   "execution_count": null,
	   "metadata": {
	    "collapsed": true
	   },
	   "outputs": [],
"source": [
"// Example 3.15 \n",
"// Calculation of external efficiency \n",
"// Page no 484\n",
"\n",
"clc;\n",
"clear;\n",
"close;\n",
"\n",
"//Given data\n",
"ne1=0.20;       //Total efficiency \n",
"V=3;            // Voltage applied\n",
"Eg=1.43;        // Bandgap energy\n",
"\n",
"// External efficiency\n",
"ne=(ne1*Eg/V)*100;\n",
"\n",
"//Display result on command window\n",
"printf('\n External efficiency of the device (in percentage)= %0.1f  ',ne);\n",
""
   ]
   }
,
{
		   "cell_type": "markdown",
		   "metadata": {},
		   "source": [
			"## Example 3.16: Calculation_of_ratio_of_threshold_current_densities.sce"
		   ]
		  },
  {
"cell_type": "code",
	   "execution_count": null,
	   "metadata": {
	    "collapsed": true
	   },
	   "outputs": [],
"source": [
"// Example 3.16\n",
"//  Calculation of ratio of threshold current densities\n",
"// Page no 484\n",
"\n",
"clc;\n",
"clear;\n",
"close;\n",
"\n",
"// Given data\n",
"To1=160;                     // Device temperature\n",
"To2=55;                      // Device temperature\n",
"T1=293;\n",
"T2=353;\n",
"J81=exp(T1/To1);            // Threshold current density \n",
"J21=exp(T2/To1);\n",
"J82=exp(T1/To2);; \n",
"J22=exp(T2/To2);; \n",
"cd1=J21/J81;               // Ratio of threshold current densities\n",
"cd2=J22/J82;\n",
"\n",
"//Display result on command window\n",
"printf('\n Ratio of threshold current densities= %0.2f  ',cd1);\n",
"printf('\n Ratio of threshold current densities= %0.2f  ',cd2);"
   ]
   }
,
{
		   "cell_type": "markdown",
		   "metadata": {},
		   "source": [
			"## Example 3.17: Computation_of_conversion_efficiency.sce"
		   ]
		  },
  {
"cell_type": "code",
	   "execution_count": null,
	   "metadata": {
	    "collapsed": true
	   },
	   "outputs": [],
"source": [
"// Example 3.17 \n",
"//Computation of conversion efficiency \n",
"// Page no 484\n",
"\n",
"clc;\n",
"clear;\n",
"\n",
"//Given data\n",
"i=10*10^-6;            // Device current\n",
"p=5;                  // Electrical power\n",
"op=50 *10^-6;         // Optical power\n",
"ip=5*10*10^-3;        // Input power\n",
"\n",
"//Conversion efficiency\n",
"c=op/ip*100;              \n",
"//Display result on command window\n",
"printf('\n Conversion efficiency (in percentage)= %0.1f  ',c);\n",
""
   ]
   }
,
{
		   "cell_type": "markdown",
		   "metadata": {},
		   "source": [
			"## Example 3.18: Calculation_of_total_power_emitted.sce"
		   ]
		  },
  {
"cell_type": "code",
	   "execution_count": null,
	   "metadata": {
	    "collapsed": true
	   },
	   "outputs": [],
"source": [
"// Example 3.18 \n",
"// Calculation of total power emitted\n",
"// Page no 485\n",
"\n",
"clc;\n",
"clear;\n",
"close;\n",
"\n",
"//Given data\n",
"r=0.7;            // Emissivity\n",
"r0=5.67*10^-8;    // Stephen's constant\n",
"A=10^-4;          // Surface area\n",
"T=2000;           // Temperature\n",
"\n",
"// Total power emitted\n",
"P=r*r0*A*T^4;                     \n",
"\n",
"//Display result on command window\n",
"printf('\n Total power emitted (Watts)= %0.1f  ',P);\n",
""
   ]
   }
,
{
		   "cell_type": "markdown",
		   "metadata": {},
		   "source": [
			"## Example 3.19: Computation_of_total_energy.sce"
		   ]
		  },
  {
"cell_type": "code",
	   "execution_count": null,
	   "metadata": {
	    "collapsed": true
	   },
	   "outputs": [],
"source": [
"// Example 3.19 \n",
"// Computation of total energy\n",
"// Page no 485\n",
"\n",
"clc;\n",
"clear;\n",
"close;\n",
"\n",
"//Given data\n",
"h=6.63*10^-34;        // Planck constant\n",
"v=5*10^14;            // Bandgap frequency of laser\n",
"N=10^24;              // Population inversion density\n",
"V=10^-5;              // Volume of laser medium\n",
"\n",
"// Total energy\n",
"E=(1/2)*h*v*(N)*V;           \n",
"\n",
"//Display result on command window\n",
"printf('\n Total energy (J)= %0.1f  ',E);\n",
""
   ]
   }
,
{
		   "cell_type": "markdown",
		   "metadata": {},
		   "source": [
			"## Example 3.1: Calculation_of_barrier_potential.sce"
		   ]
		  },
  {
"cell_type": "code",
	   "execution_count": null,
	   "metadata": {
	    "collapsed": true
	   },
	   "outputs": [],
"source": [
"//Calculation of barrier potential\n",
"// Example 3.1 \n",
"// Page no 80\n",
"clc;\n",
"clear all;\n",
"close;\n",
"\n",
"\n",
"//Given data\n",
"p=5;                        // Resistivity of p-region\n",
"n=2;                        // Resistivity of n-region\n",
"mu=3900;\n",
"k=0.026;                    //Boltzmann constant\n",
"ni=2.5*10^13;              //Density of the electron hole pair\n",
"e=1.6*10^-19;              //charge of electron\n",
" \n",
"//Barrier potential calculation\n",
"r0=(1/p);          // Reflection at the fiber air interface \n",
"r1=(1/n);\n",
"m=r1/(mu*e);\n",
"p=6.5*10^14;       //Density of hole in p -region\n",
"Vb=k*log(p*m/ni^2);\n",
"\n",
"//Displaying the result in command window\n",
"printf('\n Barrier potential(in V) = %0.3f',Vb);\n",
"\n",
"// The answers vary due to round off error"
   ]
   }
,
{
		   "cell_type": "markdown",
		   "metadata": {},
		   "source": [
			"## Example 3.20: Computation_of_pulse_power.sce"
		   ]
		  },
  {
"cell_type": "code",
	   "execution_count": null,
	   "metadata": {
	    "collapsed": true
	   },
	   "outputs": [],
"source": [
"// Example 3.20 \n",
"// Computation of pulse power\n",
"// Page no 485\n",
"\n",
"clc;\n",
"clear;\n",
"close;\n",
"\n",
"// Given data\n",
"L=0.1;               // Length of laser\n",
"R=0.8;               // Mirror reflectance of end mirror\n",
"E=1.7;               // Laser pulse energy\n",
"c=3*10^8;            // Velocity of light\n",
"t=L/((1-R)*c);         // Cavity life time\n",
"\n",
"// Pulse power\n",
"p=E/t;                       \n",
"\n",
"//Display result on command window\n",
"printf('\n Pulse power (W)= %0.0f  ',p);\n",
""
   ]
   }
],
"metadata": {
		  "kernelspec": {
		   "display_name": "Scilab",
		   "language": "scilab",
		   "name": "scilab"
		  },
		  "language_info": {
		   "file_extension": ".sce",
		   "help_links": [
			{
			 "text": "MetaKernel Magics",
			 "url": "https://github.com/calysto/metakernel/blob/master/metakernel/magics/README.md"
			}
		   ],
		   "mimetype": "text/x-octave",
		   "name": "scilab",
		   "version": "0.7.1"
		  }
		 },
		 "nbformat": 4,
		 "nbformat_minor": 0
}
