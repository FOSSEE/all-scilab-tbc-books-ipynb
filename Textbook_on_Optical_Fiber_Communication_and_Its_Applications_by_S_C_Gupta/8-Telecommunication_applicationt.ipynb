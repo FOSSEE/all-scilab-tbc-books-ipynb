{
"cells": [
 {
		   "cell_type": "markdown",
	   "metadata": {},
	   "source": [
       "# Chapter 8: Telecommunication applicationt"
	   ]
	},
{
		   "cell_type": "markdown",
		   "metadata": {},
		   "source": [
			"## Example 8.45: Calculation_of_incident_optical_power.sce"
		   ]
		  },
  {
"cell_type": "code",
	   "execution_count": null,
	   "metadata": {
	    "collapsed": true
	   },
	   "outputs": [],
"source": [
"// Example 8.45\n",
"// Calculation of incident optical power.\n",
"// Page no 499\n",
"\n",
"clc;\n",
"clear;\n",
"close;\n",
"\n",
"//Given data\n",
"lambda=1.3*10^-6;                      // Wavelength\n",
"B=6*10^6;                             // Bandwidth\n",
"S=10^5;                               // Total system margin\n",
"n=1;                                 // Efficiency\n",
"v=3*10^14;\n",
"h=6.62*10^-34;                       // Planck constant\n",
"\n",
"\n",
"\n",
"// Incident optical power\n",
"P=(2*S*v*h*B)/n;  \n",
"\n",
"P1=10*log10(P/10^-3);\n",
"\n",
"//Displaying results in the command window            \n",
"printf('\n Incident optical power(in nW) = %0.1f  ',P1);\n",
"\n",
"\n",
"// The answers vary due to round off error"
   ]
   }
,
{
		   "cell_type": "markdown",
		   "metadata": {},
		   "source": [
			"## Example 8.46: Calculation_of_maximum_repeater_spacing_of_ASK_hetrodyne_and_PSK_homodyne.sce"
		   ]
		  },
  {
"cell_type": "code",
	   "execution_count": null,
	   "metadata": {
	    "collapsed": true
	   },
	   "outputs": [],
"source": [
"// Example 8.46\n",
"// Calculation of maximum repeater spacing of a)ASK hetrodyne b)PSK homodyne  \n",
"// Page no 500\n",
"\n",
"clc;\n",
"clear;\n",
"close;\n",
"\n",
"//Given data\n",
"\n",
"S=0.2;                             // Split loss\n",
"c=3*10^8;                          // velocity of light\n",
"lambda=1.55*10^-6;                 // Wavelength\n",
"B1=50*10^6;                        // Speed of communication\n",
"h=6.63*10^-34                      // Planck constant\n",
"B2=1*10^9;                         // Speed of communication\n",
"\n",
"\n",
"// a)Maximum repeater spacing for ASK hetrodyne\n",
"P1=(36*h*c*B1)/lambda; \n",
"P1=10*log10(P1/10^-3);\n",
"s1=4-P1;\n",
"R1=s1/S;\n",
"P2= (36*h*c*B2)/lambda;\n",
"P2=10*log10(P2/10^-3);\n",
"s2=4-P2;\n",
"R2=s2/S;\n",
"//b)Maximum repeater spacing for PSK homodyne\n",
"K1= (9*h*c*B1)/lambda;\n",
"K1=10*log10(K1/10^-3);\n",
"K1=4-K1;\n",
"R3=K1/S;\n",
"K2= (9*h*c*B2)/lambda;\n",
"K2=10*log10(K2/10^-3);\n",
"K2=4-K2;\n",
"R4=K2/S;\n",
"\n",
"//Displaying results in the command window            \n",
"printf('\n Maximum repeater spacing(in Km) = %0.3f  ',R1);\n",
"printf('\n Maximum repeater spacing(in Km) = %0.3f  ',R2);\n",
"printf('\n Maximum repeater spacing(in Km) = %0.3f  ',R3);\n",
"printf('\n Maximum repeater spacing(in Km) = %0.3f  ',R4);\n",
"// The answers vary due to round off error"
   ]
   }
,
{
		   "cell_type": "markdown",
		   "metadata": {},
		   "source": [
			"## Example 8.47: Calculation_of_incident_optical_power.sce"
		   ]
		  },
  {
"cell_type": "code",
	   "execution_count": null,
	   "metadata": {
	    "collapsed": true
	   },
	   "outputs": [],
"source": [
"// Example 8.47\n",
"// Calculation of incident optical power.\n",
"// Page no 499\n",
"\n",
"clc;\n",
"clear;\n",
"close;\n",
"\n",
"//Given data\n",
"\n",
"h=6.62*10^-34;                       // Planck constant\n",
"c=3*10^8;                           // velocity of light\n",
"lambda=1.55*10^-6;                 // Wavelength\n",
"B=400*10^6;                        // Speed of communication\n",
"\n",
"// Maximum repeater spacing\n",
"P=(36*h*c*B)/lambda; \n",
"P=10*log10(P/10^-3);\n",
"\n",
"\n",
"//Displaying results in the command window            \n",
"printf('\n Incident optical power(in nW) = %0.3f  ',P);\n",
"\n",
"\n",
"// The answers vary due to round off error"
   ]
   }
,
{
		   "cell_type": "markdown",
		   "metadata": {},
		   "source": [
			"## Example 8.48: Calculation_of_optical_power_budget.sce"
		   ]
		  },
  {
"cell_type": "code",
	   "execution_count": null,
	   "metadata": {
	    "collapsed": true
	   },
	   "outputs": [],
"source": [
"// Example 8.48\n",
"// Calculation of optical power budget.\n",
"// Page no 502\n",
"\n",
"clc;\n",
"clear;\n",
"close;\n",
"\n",
"//Given data\n",
"M=-10;                      // Mean optical power\n",
"S=-25;                      // Split loss\n",
"TS=7;                       // Total system margin\n",
"SP=1.4;                     // Split loss\n",
"C=1.6;                     // Connector loss\n",
"SM=4;                      // Safety margin\n",
"\n",
"\n",
"// Net margin between LED and receiver\n",
"N=M-S;  \n",
"\n",
"// Total system loss\n",
"T=TS+SP+C+SM;\n",
"// Excess power margin\n",
"E=N-T;\n",
"\n",
"\n",
"\n",
"\n",
"//Displaying results in the command window            \n",
"printf('\n Excess power margin(in dB) = %0.0f  ',E);\n",
"\n",
"\n",
"// The answers vary due to round off error"
   ]
   }
,
{
		   "cell_type": "markdown",
		   "metadata": {},
		   "source": [
			"## Example 8.49: Calculation_of_viability_of_digital_link.sce"
		   ]
		  },
  {
"cell_type": "code",
	   "execution_count": null,
	   "metadata": {
	    "collapsed": true
	   },
	   "outputs": [],
"source": [
"// Example 8.49\n",
"// Calculation of viability of digital link.\n",
"// Page no 503\n",
"\n",
"clc;\n",
"clear;\n",
"close;\n",
"\n",
"//Given data\n",
"M=-10;                      // Mean optical power\n",
"S=-41;                      // Receiver sensitivity\n",
"TS=18.2;                    // Total system margin\n",
"SP=3;                       // Split loss\n",
"C=1.5;                     // Connector loss\n",
"SM=6;                       // Safety margin\n",
"\n",
"\n",
"// Net margin between LED and receiver\n",
"N=M-S;  \n",
"\n",
"// Total system loss\n",
"T=TS+SP+C+SM;\n",
"// Excess power margin\n",
"E=N-T;\n",
"\n",
"\n",
"\n",
"\n",
"//Displaying results in the command window            \n",
"printf('\n Excess power margin(in dB) = %0.1f  ',E);\n",
"\n",
"\n",
"// The answers vary due to round off error"
   ]
   }
,
{
		   "cell_type": "markdown",
		   "metadata": {},
		   "source": [
			"## Example 8.50: Calculation_of_signal_to_noise_ratio.sce"
		   ]
		  },
  {
"cell_type": "code",
	   "execution_count": null,
	   "metadata": {
	    "collapsed": true
	   },
	   "outputs": [],
"source": [
"// Example 8.50\n",
"// Calculation of signal to noise ratio.\n",
"// Page no 499\n",
"\n",
"clc;\n",
"clear;\n",
"close;\n",
"\n",
"//Given data\n",
"\n",
"h=6.62*10^-34;                       // Planck constant\n",
"c=3*10^8;                           // velocity of light\n",
"lambda=1.55*10^-6;                 // Wavelength\n",
"B=400*10^6;                        // Speed of communication\n",
"s=2;\n",
"// S/N ratio\n",
"\n",
"sn=(s*4.24)/(2^(1/2));\n",
"i=(sn)^2;\n",
"\n",
"//Displaying results in the command window            \n",
"printf('\n Incident optical power(in nW) = %0.20f  ',i);\n",
"\n",
"\n",
"// The answer is wrong in the book\n",
""
   ]
   }
,
{
		   "cell_type": "markdown",
		   "metadata": {},
		   "source": [
			"## Example 8.51: Calculation_of_Bit_rate_of_communication_system_Bit_duration_and_Time_period.sce"
		   ]
		  },
  {
"cell_type": "code",
	   "execution_count": null,
	   "metadata": {
	    "collapsed": true
	   },
	   "outputs": [],
"source": [
"// Example 7.42\n",
"// Calculation of a)Bit rate of communication system  b)Bit duration c)Time period\n",
"// Page no 504\n",
"\n",
"clc;\n",
"clear;\n",
"close;\n",
"\n",
"//Given data\n",
"f=8*10^3;                    // Power launched in port 1\n",
"P2=0.082*10^-6;              // Power launched in port 2\n",
"P3=47*10^-6;                // Power launched in port 3 \n",
"P4=52*10^-6;                // Power launched in port 4\n",
"\n",
"// a)Bit rate of communication system\n",
"c=32*8;\n",
"B=f*c; \n",
"B=B*10^-6;\n",
"// b)Bit duration\n",
"D=1/B;\n",
"D=D*10*10^2;\n",
"P=8*D;\n",
"\n",
"\n",
"// c)Time period\n",
"T=32*P;\n",
"T=T*10^-3;\n",
"\n",
"\n",
"//Displaying results in the command window            \n",
"printf('\n Bit rate of communication system(in Mb/s) = %0.3f  ',B);\n",
"printf('\n Bit duration(in ns) = %0.0f  ',D);\n",
"printf('\n Time period(in micro sec)= %0.0f  ',T);\n",
"\n",
"// The answers vary due to round off error"
   ]
   }
],
"metadata": {
		  "kernelspec": {
		   "display_name": "Scilab",
		   "language": "scilab",
		   "name": "scilab"
		  },
		  "language_info": {
		   "file_extension": ".sce",
		   "help_links": [
			{
			 "text": "MetaKernel Magics",
			 "url": "https://github.com/calysto/metakernel/blob/master/metakernel/magics/README.md"
			}
		   ],
		   "mimetype": "text/x-octave",
		   "name": "scilab",
		   "version": "0.7.1"
		  }
		 },
		 "nbformat": 4,
		 "nbformat_minor": 0
}
