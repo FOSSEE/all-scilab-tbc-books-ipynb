{
"cells": [
 {
		   "cell_type": "markdown",
	   "metadata": {},
	   "source": [
       "# Chapter 6: Optical receiver systems"
	   ]
	},
{
		   "cell_type": "markdown",
		   "metadata": {},
		   "source": [
			"## Example 6.31: EX6_31.sce"
		   ]
		  },
  {
"cell_type": "code",
	   "execution_count": null,
	   "metadata": {
	    "collapsed": true
	   },
	   "outputs": [],
"source": [
"// Example 6.31\n",
"// Calculation of a)peak photocurrent , b)shot noise and c)mean square shot noise current\n",
"// Page no 489\n",
"\n",
"clc;\n",
"clear;\n",
"close;\n",
"\n",
"//Given data\n",
"n=0.7;                               // Efficiency\n",
"lambda=0.9*10^-6;                    // Wavelength\n",
"R=5*10^3;                           // Load resistance\n",
"I=2*10^-9;                          // Dark current\n",
"P=300*10^-6;                        // Incident power\n",
"B=15*10^6;                          // Bandwidth\n",
"T=298;                             // Room temperature\n",
"h=6.62*10^-34;\n",
"c=3*10^8;\n",
"e=1.602*10^-19;                    // Charge of an electron\n",
"k=1.381*10^-23;                    // Boltzman constant\n",
"\n",
"// a)Peak photocurrent\n",
"I=(n*P*e*lambda)/(h*c);\n",
"I=I*10^6;\n",
"\n",
"//b) Shot noise and mean square shot noise current\n",
"s=2*e*B*(2+I);\n",
"s=s*10^11;\n",
"\n",
"//c) mean square shot noise current\n",
"t=(4*k*T*B)/R;\n",
"t=t*10^17;\n",
"\n",
"\n",
"\n",
"\n",
"//Displaying results in the command window            \n",
"printf('\n Peak photocurrent (in nA)= %0.3f  ',I);\n",
"printf('\n Shot noise(in 10^-20 A)0 = %0.1f  ',s);\n",
"printf('\n Mean square shot noise current(in 10^-17 A) = %0.2f  ',t);\n",
"\n",
"\n",
"\n",
"// The answers vary due to round off error"
   ]
   }
,
{
		   "cell_type": "markdown",
		   "metadata": {},
		   "source": [
			"## Example 6.32: Calculation_of_signal_to_noise_ratio.sce"
		   ]
		  },
  {
"cell_type": "code",
	   "execution_count": null,
	   "metadata": {
	    "collapsed": true
	   },
	   "outputs": [],
"source": [
"// Example 6.32\n",
"// Calculation of signal to noise ratio\n",
"// Page no 495\n",
"\n",
"clc;\n",
"clear;\n",
"close;\n",
"\n",
"//Given data\n",
"I=152.3*10^-9;                     // Peak photocurrent\n",
"s=74.15*10^-20;                    // Shot noise \n",
"t=4.94*10^-17;                    // Mean square shot noise current\n",
"F=10*log10(3);                    // Noise figure\n",
"B=15*10^6;                        // Bandwidth\n",
"T=298;                            // Room temperature\n",
"k=1.381*10^-23;                   // Boltzman constant\n",
"R=5*10^3;                         // Load resistance\n",
"e=1.602*10^-19;                  // Charge of an electron\n",
"\n",
"\n",
"// Signal to noise ratio\n",
"S=(I^2)/((2*e*B*(2+I))+(4*k*T*B*F)/R);\n",
"S=S*10^3;\n",
"\n",
"\n",
"\n",
"\n",
"//Displaying results in the command window            \n",
"printf('\n Signal to noise ratio = %0.2f  ',S);\n",
"\n",
"\n",
"// The answers vary due to round off error"
   ]
   }
,
{
		   "cell_type": "markdown",
		   "metadata": {},
		   "source": [
			"## Example 6.33: Calculation_of_load_resistance_and_bandwidth.sce"
		   ]
		  },
  {
"cell_type": "code",
	   "execution_count": null,
	   "metadata": {
	    "collapsed": true
	   },
	   "outputs": [],
"source": [
"// Example 6.33\n",
"// Calculation of a)load resistance and b)bandwidth\n",
"// Page no 495\n",
"\n",
"clc;\n",
"clear;\n",
"close;\n",
"\n",
"//Given data\n",
"Cd=5*10^-12                         // Capacitance of pin photodiode\n",
"B=10*10^6;                         // Bandwidth\n",
"Ca=10*10^-12;                      // Input capacitance\n",
"\n",
"\n",
"// a)Load resistance\n",
"R=1/(2*%pi*B*Cd);\n",
"R=R*10^-3;\n",
"// b)Bandwidth\n",
"Bm=1/(2*%pi*(Cd+Ca)*R);\n",
"Bm=Bm*10^-9;\n",
"\n",
"\n",
"\n",
"//Displaying results in the command window            \n",
"printf('\n Wavelength of photodiode (in Kilo ohm)= %0.2f  ',R);\n",
"printf('\n Bandwidth(in MHz) = %0.3f  ',Bm);\n",
"\n",
"// The answers vary due to round off error"
   ]
   }
,
{
		   "cell_type": "markdown",
		   "metadata": {},
		   "source": [
			"## Example 6.34: Calculation_of_signal_to_noise_ratio.sce"
		   ]
		  },
  {
"cell_type": "code",
	   "execution_count": null,
	   "metadata": {
	    "collapsed": true
	   },
	   "outputs": [],
"source": [
"// Example 8.34\n",
"// Calculation of signal to noise ratio.\n",
"// Page no 491\n",
"\n",
"clc;\n",
"clear;\n",
"close;\n",
"\n",
"//Given data\n",
"\n",
"h=6.62*10^-34;                       // Planck constant\n",
"c=5*10^-12;                          // capacitor\n",
"lambda=1.55*10^-6;                  // Wavelength\n",
"B=50*10^6;                         // Speed of communication\n",
"s=2*10^-9;\n",
"I=10^-7;\n",
"k=1.381*10^-23;\n",
"T=291;\n",
"x=0.3;\n",
"e=1.602*10^-19;\n",
"\n",
"// Maximum load resistance is\n",
"R=1/(2*%pi*c*B);\n",
"\n",
"S=I^2/((2*e*B*I)+(4*k*T*B/R));\n",
"M=((4*k*T)/(e*x*R*I))^(0.435);\n",
"S1=((((M^2)*(I^2))/(2*e*B*I*M^2.3))+((4*k*T*B)/R));\n",
"S1=10*log10(S1);\n",
"//Displaying results in the command window            \n",
"printf('\n Load resistor(in ohm) = %0.1f  ',R);\n",
"printf('\n S/N(in dB) = %0.2f  ',S);\n",
"printf('\n M  = %0.2f  ',M);\n",
"printf('\n S/N(in dB)  = %0.2f  ',S1);\n",
"\n",
"// The answers vary due to round off error"
   ]
   }
,
{
		   "cell_type": "markdown",
		   "metadata": {},
		   "source": [
			"## Example 6.35: Calculation_of_responsivity_and_incident_optical_power.sce"
		   ]
		  },
  {
"cell_type": "code",
	   "execution_count": null,
	   "metadata": {
	    "collapsed": true
	   },
	   "outputs": [],
"source": [
"// Example 6.35\n",
"// Calculation of a) responsivity b)incident optical power\n",
"// Page no 493\n",
"\n",
"clc;\n",
"clear;\n",
"close;\n",
"\n",
"//Given data\n",
"n=0.6;                         // Quantum efficiency\n",
"e=1.602*10^-19;                // Charge of electron\n",
"lambda=0.9*10^-6;              // Wavelength \n",
"h=6.626*10^-34;                // Planck constant \n",
"c=3*10^8;                      // Velocity of light\n",
"I=2*10^-6;                     // Photocurrent\n",
"\n",
"// a)Responsivity\n",
"R= (n*e*lambda)/(h*c);\n",
"\n",
"// b)Incident power\n",
"P=I/R;\n",
"P=P*10^6;\n",
"\n",
"\n",
"//Displaying results in the command window            \n",
"printf('\n Responsivity(in A/W) = %0.3f  ',R);\n",
"printf('\n Incident power (in microwatt) = %0.3f  ',P);\n",
"\n",
"// The answers vary due to round off error"
   ]
   }
,
{
		   "cell_type": "markdown",
		   "metadata": {},
		   "source": [
			"## Example 6.36: Calculation_of_responsivity_and_Multiplication_factor.sce"
		   ]
		  },
  {
"cell_type": "code",
	   "execution_count": null,
	   "metadata": {
	    "collapsed": true
	   },
	   "outputs": [],
"source": [
"// Example 6.36\n",
"// Calculation of a) responsivity b)Multiplication factor\n",
"// Page no 493\n",
"\n",
"clc;\n",
"clear;\n",
"close;\n",
"\n",
"//Given data\n",
"n=0.8;                            // Quantum efficiency\n",
"e=1.602*10^-19;                   // Charge of an electron\n",
"lambda=0.9*10^-6;                 // Wavelength \n",
"h=6.626*10^-34;                   // Planck constant \n",
"c=3*10^8;                        // Velocity of light\n",
"I=15*10^-6;                      // Photocurrent\n",
"P=0.6*10^-6;\n",
"\n",
"// a)Responsivity\n",
"R= (n*e*lambda)/(h*c);\n",
"// b)Multiplication factor\n",
"Ip=P*R;\n",
"M=I/Ip;\n",
"\n",
"\n",
"//Displaying results in the command window            \n",
"printf('\n Responsivity(in A/W) = %0.3f  ',R);\n",
"printf('\n Multiplication factor = %0.2f  ',M);\n",
"\n",
"// The answers vary due to round off error"
   ]
   }
,
{
		   "cell_type": "markdown",
		   "metadata": {},
		   "source": [
			"## Example 6.37: Calculation_on_quantum_efficiency_and_responsivity.sce"
		   ]
		  },
  {
"cell_type": "code",
	   "execution_count": null,
	   "metadata": {
	    "collapsed": true
	   },
	   "outputs": [],
"source": [
"// Example 6.37\n",
"// Calculation of a) quantum efficiency b) responsivity\n",
"// Page no 494\n",
"\n",
"clc;\n",
"clear;\n",
"close;\n",
"\n",
"//Given data\n",
"e5=500;                            // No of incident photons\n",
"e8=800;                            // No of incident electrons\n",
"e=1.602*10^-19;                    // Charge of an electron\n",
"lambda=1.3*10^-6;                  // Wavelength \n",
"h=6.626*10^-34;                    // Planck constant \n",
"c=3*10^8;                         // Velocity of light\n",
"I=15*10^-6;                       // Photocurrent\n",
"P=0.6*10^-6;\n",
"\n",
"// a)Quantum efficiency\n",
"n=e5/e8;\n",
"// b)Responsivity\n",
"R=(n*e*lambda)/(h*c);\n",
"\n",
"\n",
"//Displaying results in the command window            \n",
"printf('\n Quantum efficiency (percent) = %0.1f  ',n*100);\n",
"printf('\n Responsivity(in A/W) = %0.3f  ',R);\n",
"\n",
"// The answers vary due to round off error"
   ]
   }
,
{
		   "cell_type": "markdown",
		   "metadata": {},
		   "source": [
			"## Example 6.38: Calculation_of_quantum_efficiency_and_responsivity.sce"
		   ]
		  },
  {
"cell_type": "code",
	   "execution_count": null,
	   "metadata": {
	    "collapsed": true
	   },
	   "outputs": [],
"source": [
"// Example 6.38\n",
"// Calculation of a) quantum efficiency b) responsivity\n",
"// Page no 494\n",
"\n",
"clc;\n",
"clear;\n",
"close;\n",
"\n",
"//Given data\n",
"e5=1.2*10^11;                            // No of electrons collected\n",
"e8=3.6*10^11;                            // No of incident photon\n",
"e=1.602*10^-19;                         // Charge of an electron\n",
"lambda=0.85*10^-6;                      // Wavelength \n",
"h=6.626*10^-34;                        // Planck constant \n",
"c=3*10^8;                              // Velocity of light\n",
"I=15*10^-6;                            // Photocurrent\n",
"P=0.6*10^-6; \n",
"\n",
"// a)Quantum efficiency\n",
"n=e5/e8;\n",
"// b)Responsivity\n",
"R=(n*e*lambda)/(h*c);\n",
"\n",
"\n",
"//Displaying results in the command window            \n",
"printf('\n Quantum efficiency = %0.2f  ',n);\n",
"printf('\n Responsivity(in A/W) = %0.3f  ',R);\n",
"\n",
"// The answers vary due to round off error"
   ]
   }
,
{
		   "cell_type": "markdown",
		   "metadata": {},
		   "source": [
			"## Example 6.39: Calculation_of_operating_wavelength_and_incidence_optical_power.sce"
		   ]
		  },
  {
"cell_type": "code",
	   "execution_count": null,
	   "metadata": {
	    "collapsed": true
	   },
	   "outputs": [],
"source": [
"// Example 6.39\n",
"// Calculation of a) operating wavelength b) incidence optical power\n",
"// Page no 495\n",
"\n",
"clc;\n",
"clear;\n",
"close;\n",
"\n",
"//Given data\n",
"n=0.60                            // Quantum efficiency\n",
"E=1.5*10^-19;                    // Photons of energy\n",
"e=1.602*10^-19;                  // Charge of an electron\n",
"h=6.626*10^-34;                  // Planck constant \n",
"c=3*10^8;                        // Velocity of light\n",
"I=2*10^-6;                      // Photocurrent\n",
"\n",
"\n",
"// a)Operating wavelength\n",
"lambda=(h*c)/E;\n",
"lambda=lambda*10^6;\n",
"\n",
"// b)Incident optical power\n",
"R=(n*e)/E;\n",
"P=I/R;\n",
"P=P*10^6;\n",
"\n",
"\n",
"//Displaying results in the command window            \n",
"printf('\n Wavelength of photodiode (in micrometer)= %0.2f  ',lambda);\n",
"printf('\n Incident optical power(in microWatt) = %0.2f  ',P);\n",
"\n",
"// The answers vary due to round off error"
   ]
   }
,
{
		   "cell_type": "markdown",
		   "metadata": {},
		   "source": [
			"## Example 6.40: Calculation_of_load_resistance_and_bandwidth.sce"
		   ]
		  },
  {
"cell_type": "code",
	   "execution_count": null,
	   "metadata": {
	    "collapsed": true
	   },
	   "outputs": [],
"source": [
"// Example 6.40\n",
"// Calculation of load resistance and bandwidth\n",
"// Page no 495\n",
"\n",
"clc;\n",
"clear;\n",
"close;\n",
"\n",
"//Given data\n",
"Cd=6*10^-12                         // Capacitance of pin photodiode\n",
"B=20*10^6;                         // Bandwidth\n",
"Ca=6*10^-12;                      // Input capacitance\n",
"\n",
"\n",
"// a)Load resistance\n",
"R=1/(2*%pi*B*Cd);\n",
"R=R*10^-3;\n",
"// b)Bandwidth\n",
"Bm=1/(2*%pi*(Ca+Ca)*R);\n",
"Bm=Bm*10^-9;\n",
"\n",
"\n",
"\n",
"//Displaying results in the command window            \n",
"printf('\n Load resistance (in Kilo ohm)= %0.2f  ',R);\n",
"printf('\n Bandwidth(in MHz) = %0.0f  ',Bm);\n",
"\n",
"// The answers vary due to round off error"
   ]
   }
,
{
		   "cell_type": "markdown",
		   "metadata": {},
		   "source": [
			"## Example 6.41: Calculation_of_maximum_bandwidth.sce"
		   ]
		  },
  {
"cell_type": "code",
	   "execution_count": null,
	   "metadata": {
	    "collapsed": true
	   },
	   "outputs": [],
"source": [
"// Example 6.41\n",
"// Calculation of maximum bandwidth\n",
"// Page no 496\n",
"\n",
"clc;\n",
"clear;\n",
"close;\n",
"\n",
"//Given data\n",
"t=5*10^-12                         // Electron transit time\n",
"G=70;                              // Gain of the device\n",
"\n",
"\n",
"\n",
"// Maximum bandwidth\n",
"Bm=1/(2*%pi*t*G);\n",
"Bm=Bm*10^-6;\n",
"\n",
"\n",
"\n",
"//Displaying results in the command window            \n",
"printf('\n Bandwidth(in MHz) = %0.1f  ',Bm);\n",
"\n",
"// The answers vary due to round off error"
   ]
   }
],
"metadata": {
		  "kernelspec": {
		   "display_name": "Scilab",
		   "language": "scilab",
		   "name": "scilab"
		  },
		  "language_info": {
		   "file_extension": ".sce",
		   "help_links": [
			{
			 "text": "MetaKernel Magics",
			 "url": "https://github.com/calysto/metakernel/blob/master/metakernel/magics/README.md"
			}
		   ],
		   "mimetype": "text/x-octave",
		   "name": "scilab",
		   "version": "0.7.1"
		  }
		 },
		 "nbformat": 4,
		 "nbformat_minor": 0
}
