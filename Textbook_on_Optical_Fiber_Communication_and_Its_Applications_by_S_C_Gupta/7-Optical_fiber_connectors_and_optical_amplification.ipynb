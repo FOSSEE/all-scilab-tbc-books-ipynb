{
"cells": [
 {
		   "cell_type": "markdown",
	   "metadata": {},
	   "source": [
       "# Chapter 7: Optical fiber connectors and optical amplification"
	   ]
	},
{
		   "cell_type": "markdown",
		   "metadata": {},
		   "source": [
			"## Example 7.42: EX7_42.sce"
		   ]
		  },
  {
"cell_type": "code",
	   "execution_count": null,
	   "metadata": {
	    "collapsed": true
	   },
	   "outputs": [],
"source": [
"// Example 7.42\n",
"// Calculation of a)excess loss,b)insertion loss,c)crosstalk and d)split ratio for the device.\n",
"// Page no 496\n",
"\n",
"clc;\n",
"clear;\n",
"close;\n",
"\n",
"//Given data\n",
"P1=60*10^-6;                 // Power launched in port 1\n",
"P2=0.004*10^-6;              // Power launched in port 2\n",
"P3=26*10^-6;                // Power launched in port 3 \n",
"P4=27.5*10^-6;              // Power launched in port 4\n",
"\n",
"// a)Excess loss\n",
"E=10*log10(P1/(P3+P4)); \n",
"\n",
"//b)Insertion loss\n",
"I1=10*log10(P1/P3);\n",
"I2=10*log10(P1/P4);\n",
"\n",
"//c)Crosstalk\n",
"C=10*log10(P2/P1);\n",
"\n",
"//d)Split ratio\n",
"S=(P3/(P3+P4))*100;\n",
"\n",
"\n",
"//Displaying results in the command window            \n",
"printf('\n Excess loss(in dB) = %0.1f  ',E);\n",
"printf('\n Insertion loss(in dB) = %0.2f  ',I1);\n",
"printf('\n Insertion loss (in dB)= %0.2f  ',I2);\n",
"printf('\n Crosstalk (in dB)= %0.1f  ',C);\n",
"printf('\n Split ratio(in percentage) = %0.1f  ',S);\n",
""
   ]
   }
,
{
		   "cell_type": "markdown",
		   "metadata": {},
		   "source": [
			"## Example 7.43: EX7_43.sce"
		   ]
		  },
  {
"cell_type": "code",
	   "execution_count": null,
	   "metadata": {
	    "collapsed": true
	   },
	   "outputs": [],
"source": [
"// Example 7.42\n",
"// Calculation of a)excess loss,b)insertion loss,c)crosstalk and d)split ratio for the device.\n",
"// Page no 497\n",
"\n",
"clc;\n",
"clear;\n",
"close;\n",
"\n",
"//Given data\n",
"P1=100*10^-6;                 // Power launched in port 1\n",
"P2=0.005*10^-6;              // Power launched in port 2\n",
"P3=30*10^-6;                // Power launched in port 3 \n",
"P4=35*10^-6;              // Power launched in port 4\n",
"\n",
"// a)Excess loss\n",
"E=10*log10(P1/(P3+P4)); \n",
"// b)Insertion loss\n",
"I1=10*log10(P1/P3);\n",
"I2=10*log10(P1/P4);\n",
"\n",
"//c)Crosstalk\n",
"C=10*log10(P2/P1);\n",
"\n",
"//d)Split ratio\n",
"S=(P3/(P3+P4))*100;\n",
"\n",
"\n",
"//Displaying results in the command window            \n",
"printf('\n Excess loss(in dB) = %0.2f  ',E);\n",
"printf('\n Insertion loss(in dB) = %0.3f  ',I1);\n",
"printf('\n Insertion loss (in dB)= %0.2f  ',I2);\n",
"printf('\n Crosstalk (in dB)= %0.1f  ',C);\n",
"printf('\n Split ratio(in percentage) = %0.2f  ',S);\n",
"// The cross talk answer computation is wrong in the book"
   ]
   }
,
{
		   "cell_type": "markdown",
		   "metadata": {},
		   "source": [
			"## Example 7.44: EX7_44.sce"
		   ]
		  },
  {
"cell_type": "code",
	   "execution_count": null,
	   "metadata": {
	    "collapsed": true
	   },
	   "outputs": [],
"source": [
"// Example 7.42\n",
"// Calculation of a)excess loss,b)insertion loss,c)crosstalk and d)split ratio for the device.\n",
"// Page no 498\n",
"\n",
"clc;\n",
"clear;\n",
"close;\n",
"\n",
"//Given data\n",
"P1=116.3*10^-6;                 // Power launched in port 1\n",
"P2=0.082*10^-6;              // Power launched in port 2\n",
"P3=47*10^-6;                // Power launched in port 3 \n",
"P4=52*10^-6;              // Power launched in port 4\n",
"\n",
"// a)Excess loss\n",
"E=10*log10(P1/(P3+P4)); \n",
"//b)Insertion loss\n",
"I1=10*log10(P1/P3);\n",
"I2=10*log10(P1/P4);\n",
"\n",
"//c)Crosstalk\n",
"C=10*log10(P2/P1);\n",
"\n",
"//d)Split ratio\n",
"S=(P3/(P3+P4))*100;\n",
"\n",
"\n",
"//Displaying results in the command window            \n",
"printf('\n Excess loss(in dB) = %0.1f  ',E);\n",
"printf('\n Insertion loss(in dB) = %0.3f  ',I1);\n",
"printf('\n Insertion loss (in dB)= %0.2f  ',I2);\n",
"printf('\n Crosstalk (in dB)= %0.2f  ',C);\n",
"printf('\n Split ratio(in percentage) = %0.2f  ',S);\n",
"// The answers vary due to round off error"
   ]
   }
],
"metadata": {
		  "kernelspec": {
		   "display_name": "Scilab",
		   "language": "scilab",
		   "name": "scilab"
		  },
		  "language_info": {
		   "file_extension": ".sce",
		   "help_links": [
			{
			 "text": "MetaKernel Magics",
			 "url": "https://github.com/calysto/metakernel/blob/master/metakernel/magics/README.md"
			}
		   ],
		   "mimetype": "text/x-octave",
		   "name": "scilab",
		   "version": "0.7.1"
		  }
		 },
		 "nbformat": 4,
		 "nbformat_minor": 0
}
