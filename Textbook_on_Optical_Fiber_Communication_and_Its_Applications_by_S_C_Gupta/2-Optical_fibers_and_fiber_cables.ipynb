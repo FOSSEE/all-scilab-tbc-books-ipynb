{
"cells": [
 {
		   "cell_type": "markdown",
	   "metadata": {},
	   "source": [
       "# Chapter 2: Optical fibers and fiber cables"
	   ]
	},
{
		   "cell_type": "markdown",
		   "metadata": {},
		   "source": [
			"## Example 2.010: Calculation_of_Cut_off_wavelength.sce"
		   ]
		  },
  {
"cell_type": "code",
	   "execution_count": null,
	   "metadata": {
	    "collapsed": true
	   },
	   "outputs": [],
"source": [
"// Example 2.10\n",
"// Calculation of Cut off wavelength\n",
"// Page no 482\n",
"\n",
"clc;\n",
"clear;\n",
"close;\n",
"\n",
"// Given data\n",
"V=2.403;              // Normalized frequency\n",
"delta=0.25;           // Refractive index of core\n",
"n1=1.46;              // Relative refractive index\n",
"a=4.5*10^-6;          // Radius of core\n",
"\n",
"// Cut off wavelenth\n",
"lambda=(2*%pi*a*n1*(sqrt(2*delta)))/V;       \n",
"\n",
"//Display result on command window\n",
"printf('\n Cut off wavelenth(nm) = %0.0f  ',lambda*10^8);\n",
"\n",
"// The answers vary due to round off error"
   ]
   }
,
{
		   "cell_type": "markdown",
		   "metadata": {},
		   "source": [
			"## Example 2.011: Calculation_of_reflection_and_loss_of_light_signal_at_joint_areas.sce"
		   ]
		  },
  {
"cell_type": "code",
	   "execution_count": null,
	   "metadata": {
	    "collapsed": true
	   },
	   "outputs": [],
"source": [
"// Example 2.11 \n",
"//Calculation of (a) reflection and (b) loss of light signal at joint areas.\n",
"// Page no 482\n",
"\n",
"clc;\n",
"clear;\n",
"close;\n",
"\n",
"// Given data\n",
"n1=1.5;                  // Refractive index of core\n",
"n=1;                     // Refractive index of air\n",
"\n",
"// (a) Reflection at the fiber air interface \n",
"R=((n1-n)/(n1+n))^2;     \n",
"\n",
"// (b) Light loss due to fiber air interface\n",
"l= -10*log10(1-R);\n",
"\n",
"//Display result on command window\n",
"printf('\n Reflection at the fiber air interface = %0.2f  ',R);\n",
"printf('\n Light loss due to fiber air interface (dB)= %0.2f  ',l);\n",
"\n",
""
   ]
   }
,
{
		   "cell_type": "markdown",
		   "metadata": {},
		   "source": [
			"## Example 2.012: Computation_of_numerical_aperature_and_maximum_angle_of_entrance.sce"
		   ]
		  },
  {
"cell_type": "code",
	   "execution_count": null,
	   "metadata": {
	    "collapsed": true
	   },
	   "outputs": [],
"source": [
"// Example 2.12 \n",
"// Computation of (a) numerical aperature and (b) maximum angle of entrance\n",
"// Page no 482\n",
"\n",
"clc;\n",
"clear;\n",
"close;\n",
"\n",
"//Given data\n",
"n1=1.48;             // Refractive index of core\n",
"n2=1.46;             // Refractive index of cladding\n",
"\n",
"// (a) Numerical Aperture \n",
"NA=sqrt(n1^2-n2^2);\n",
"\n",
"//(b) Maximum angle of entrance\n",
"theata=asind(NA);\n",
"\n",
"//Displaying result in the command window            \n",
"printf('\n Numerical Aperture  = %0.3f  ',NA);\n",
"printf('\n Maximum angle of entrance (degress) = %0.0f  ',theata);\n",
"\n",
"// Final answer in the book is wrong. Please refer example 2.11 of \n",
"// Fiber Optic Communication by Gerd Keiser book.\n",
"\n",
" "
   ]
   }
,
{
		   "cell_type": "markdown",
		   "metadata": {},
		   "source": [
			"## Example 2.013: Calculation_of_core_radius_and_maximum_value_of_angle_of_acceptance_of_the_fiber.sce"
		   ]
		  },
  {
"cell_type": "code",
	   "execution_count": null,
	   "metadata": {
	    "collapsed": true
	   },
	   "outputs": [],
"source": [
"// Example 2.13\n",
"// Calculation of (a) core radius and (b) maximum value of angle of acceptance of the fiber\n",
"// Page no 483\n",
"\n",
"clc;\n",
"clear;\n",
"close;\n",
"\n",
"//Given data\n",
"lambda=1320*10^-9;          // Wavelength of fiber\n",
"delta=0.077;                // Relative refractive index \n",
"n1=1.48;                    // Refractive index of core\n",
"n2=1.478;                   // Refractive index of cladding\n",
"v=2.403;                    // Normalized frequency\n",
"\n",
"// (a) Core radius\n",
"a=v*lambda/(2*%pi*delta);\n",
"a=a*10^6;\n",
"\n",
"//Numerical Aperture\n",
"NA=sqrt(n1^2-n2^2);\n",
"\n",
"// (b) Angle of acceptance\n",
"theata = asind(NA);\n",
"\n",
"//Display result on command window\n",
"printf('\n Radius of core (in micrometer) = %0.1f  ',a);\n",
"printf('\n Numerical aperture = %0.5f  ',NA);\n",
"printf('\n Angle of acceptance (degrees) = %0.0f  ',theata);\n",
"\n",
"// The answers vary due to round off error"
   ]
   }
,
{
		   "cell_type": "markdown",
		   "metadata": {},
		   "source": [
			"## Example 2.014: Calculation_of_critical_wavelength.sce"
		   ]
		  },
  {
"cell_type": "code",
	   "execution_count": null,
	   "metadata": {
	    "collapsed": true
	   },
	   "outputs": [],
"source": [
"// Example 2.14 \n",
"// Calculation of critical wavelength\n",
"// Page no 483\n",
"\n",
"clc;\n",
"clear;\n",
"close;\n",
"\n",
"//Given data\n",
"a=3*10^-6;            // Core diameter of fiber\n",
"delta=0.15;           // Relative refractive index \n",
"v=2.405;              // Normalized frequency\n",
"\n",
"// Critical wavelength\n",
"lambda=(2*%pi*a*delta)/v;\n",
"lambda=lambda*10^9;\n",
"\n",
"//Displaying The Results in Command Window\n",
"printf('\n Critical wavelength (nm)= %0.0f  ',lambda);\n",
"\n",
"// The answers vary due to round off error"
   ]
   }
,
{
		   "cell_type": "markdown",
		   "metadata": {},
		   "source": [
			"## Example 2.01: Compuatation_of_mode_parameter.sce"
		   ]
		  },
  {
"cell_type": "code",
	   "execution_count": null,
	   "metadata": {
	    "collapsed": true
	   },
	   "outputs": [],
"source": [
"// Example 2.1 \n",
"// Compuatation of mode parameter\n",
"// Page no. 479\n",
"\n",
"clc;\n",
"clear;\n",
"close;\n",
"\n",
"//Given data\n",
"n1=1.503; // refractive index of core\n",
"n2=1.50; // refractive index of cladding\n",
"a=4*10^-6; // core radius\n",
"lambda=1*10^-6; // light wavelength\n",
"\n",
"// Mode parameter computation\n",
"V=(2*%pi*a*sqrt(n1^2-n2^2))/(lambda);\n",
"\n",
"//Displaying the result in command window\n",
"printf('\n Mode parameter is = %0.3f ',V);\n",
"\n",
"// The answer vary due to round off error\n",
"\n",
""
   ]
   }
,
{
		   "cell_type": "markdown",
		   "metadata": {},
		   "source": [
			"## Example 2.02: Calculation_of_numerical_aperature.sce"
		   ]
		  },
  {
"cell_type": "code",
	   "execution_count": null,
	   "metadata": {
	    "collapsed": true
	   },
	   "outputs": [],
"source": [
"// Example 2.2 \n",
"// Calculation of numerical aperature\n",
"// Page no. 479\n",
"\n",
"clc;\n",
"clear;\n",
"close;\n",
"\n",
"//Given data\n",
"v=2.111;                  // Mode parameter\n",
"a=4.01*10^-6;             // Core radius in m\n",
"lambda=1.3*10^-6;         // Wavelength of laser light m\n",
"\n",
"//Numerical aperture computation\n",
"NA=(v*lambda)/(2*%pi*a); \n",
"\n",
"//Displaying the result in command window\n",
"printf('\n Numerical aperature = %0.2f',NA);\n",
"\n",
"\n",
""
   ]
   }
,
{
		   "cell_type": "markdown",
		   "metadata": {},
		   "source": [
			"## Example 2.03: Calculation_of_potential_difference.sce"
		   ]
		  },
  {
"cell_type": "code",
	   "execution_count": null,
	   "metadata": {
	    "collapsed": true
	   },
	   "outputs": [],
"source": [
"// Example 2.3 \n",
"// Calculation of potential difference\n",
"// page no 480\n",
"\n",
"clc;\n",
"clear;\n",
"close;\n",
"\n",
"// Given data\n",
"na=10^24;                     // Accepter impurity level\n",
"nd=10^22;                     // Donor impurity level\n",
"ni=2.4*10^19;                 // Intrinsic electron \n",
"T=290;                        // Room temperature\n",
"e=1.602*10^-19;               // Electric charge\n",
"K=1.38*10^-23;                // Boltzmann constant\n",
"\n",
"\n",
"//Potential difference\n",
"V=(K*T)/e*(log(na*nd/(ni)^2));\n",
"\n",
"//Display result on command window\n",
"printf('\n Potential difference (V) = %0.2f  ',V);\n",
"// The potential difference varies with the variation of Na, Nd and ni"
   ]
   }
,
{
		   "cell_type": "markdown",
		   "metadata": {},
		   "source": [
			"## Example 2.04: Calculation_of_Numerical_aperature_and_critical_angle.sce"
		   ]
		  },
  {
"cell_type": "code",
	   "execution_count": null,
	   "metadata": {
	    "collapsed": true
	   },
	   "outputs": [],
"source": [
"// Example 2.4\n",
"// Calculation of (a) Numerical aperature and (b) critical angle\n",
"// Page no 480\n",
"\n",
"clc;\n",
"clear;\n",
"close;\n",
"\n",
"// Given data\n",
"n1=1.5;                   // Refractive index of core\n",
"n2=1.47;                  // Refractive index of cladding\n",
"\n",
"// (a) Numerical aperature\n",
"NA= sqrt(n1^2-n2^2);                \n",
"\n",
"// (b) Critical angle\n",
"theatha=asind(n2/n1);               \n",
"\n",
"//Display result on command window\n",
"printf('\n Numerical aperature = %0.2f ',NA);\n",
"printf('\n Critical angle (degrees)= %0.1f  ',theatha);\n",
"\n",
""
   ]
   }
,
{
		   "cell_type": "markdown",
		   "metadata": {},
		   "source": [
			"## Example 2.05: Computation_of_normalized_frequency_and_no_of_guided_modes.sce"
		   ]
		  },
  {
"cell_type": "code",
	   "execution_count": null,
	   "metadata": {
	    "collapsed": true
	   },
	   "outputs": [],
"source": [
"// Example 2.5 \n",
"// Computation of (a) normalized frequency and (b) no. of guided modes\n",
"// Page no 480\n",
"\n",
"clc;\n",
"clear;\n",
"close;\n",
"\n",
"//Given data\n",
"lambda=0.85*10^-6;      // wavelength of fiber\n",
"a=40*10^-6;             // core diameter of fiber\n",
"delta=0.015;            // relative refractive index \n",
"n1=1.48;                // refractive index of core\n",
"\n",
"// (a) Normalized frequency \n",
"v=(2*%pi*a*n1*(2*delta)^(1/2))/lambda; \n",
"//(b) Number of guided modes\n",
"m=v^2/2;       \n",
"m=ceil(m);\n",
"//Displaying results in the command window            \n",
"printf('\n Normalized frequency is = %0.1f  ',v);\n",
"printf('\n Number of guided modes = %0.0f  ',m);"
   ]
   }
,
{
		   "cell_type": "markdown",
		   "metadata": {},
		   "source": [
			"## Example 2.06: Computation_of_normalized_frequency_and_no_of_guided_modes.sce"
		   ]
		  },
  {
"cell_type": "code",
	   "execution_count": null,
	   "metadata": {
	    "collapsed": true
	   },
	   "outputs": [],
"source": [
"// Example 2.6 \n",
"// Computation of normalized frequency and no of guided modes\n",
"// Page no 480\n",
"clc;\n",
"clear;\n",
"close;\n",
"\n",
"//Given data\n",
"lambda=1.30*10^-6;        // Wavelength of fiber\n",
"a=25*10^-6;               // Core diameter of fiber\n",
"delta=0.01;               // Relative refractive index \n",
"n1=1.50;                  // Refractive index of core\n",
"\n",
"// (a) Normalized frequency \n",
"v=((2*%pi*a*n1)/(lambda))*((2*delta)^(1/2)); \n",
"//(b) Number of guided modes\n",
"m=v^2/2;                    \n",
"//m=ceil(m);\n",
"\n",
"//Displaying results in the command window            \n",
"printf('\n Normalized frequency = %0.2f  ',v);\n",
"printf('\n Number of guided modes = %0.0f  ',m);\n",
"\n",
"//Answer varies due to round off error"
   ]
   }
,
{
		   "cell_type": "markdown",
		   "metadata": {},
		   "source": [
			"## Example 2.07: Calculation_of_normalized_frequency_and_no_of_guided_modes.sce"
		   ]
		  },
  {
"cell_type": "code",
	   "execution_count": null,
	   "metadata": {
	    "collapsed": true
	   },
	   "outputs": [],
"source": [
"// Example 2.7\n",
"// Calculation of normalized frequency and no of guided modes\n",
"// Page no 481\n",
"\n",
"clc;\n",
"clear;\n",
"close;\n",
"\n",
"//Given data\n",
"lambda=1.55*10^-6;      // Wavelength of fiber\n",
"a=30*10^-6;             // Core diameter of fiber\n",
"delta=0.015;            // Relative refractive index \n",
"n1=1.48;                // Refractive index of core\n",
"\n",
"// (a) Normalized frequency \n",
"v=(2*%pi*a*n1*(2*delta)^(1/2))/lambda; \n",
"//(b) Number of guided modes\n",
"m=v^2/2;                               \n",
"\n",
"//Displaying results in the command window            \n",
"printf('\n Normalized frequency = %0.2f  ',v);\n",
"printf('\n Number of guided modes = %0.0f  ',m);\n",
"// The answers vary due to round off error"
   ]
   }
,
{
		   "cell_type": "markdown",
		   "metadata": {},
		   "source": [
			"## Example 2.08: Calculation_of_normalized_frequency_and_no_of_guided_modes.sce"
		   ]
		  },
  {
"cell_type": "code",
	   "execution_count": null,
	   "metadata": {
	    "collapsed": true
	   },
	   "outputs": [],
"source": [
"// Example 2.8\n",
"// Calculation of normalized frequency and no of guided modes\n",
"// Page no 481\n",
"clc;\n",
"clear;\n",
"close;\n",
"\n",
"//Given data\n",
"lambda=1.55*10^-6;         // Wavelength of fiber\n",
"a=4*10^-6;                 // Core diameter of fiber\n",
"delta=0.01;                // Relative refractive index \n",
"n1=1.48;                   // Refractive index of core\n",
"// (a) Normalized frequency \n",
"v=(2*%pi*a*n1*(2*delta)^(1/2))/lambda; \n",
"//(b) Number of guided modes\n",
"m=v^2/2;                               \n",
"\n",
"//Displaying results in the command window            \n",
"printf('\n Normalized frequency = %0.3f  ',v);\n",
"printf('\n Number of guided modes = %0.0f  ',m);\n",
"// The answers vary due to round off error"
   ]
   }
,
{
		   "cell_type": "markdown",
		   "metadata": {},
		   "source": [
			"## Example 2.09: Calculation_of_Core_radius.sce"
		   ]
		  },
  {
"cell_type": "code",
	   "execution_count": null,
	   "metadata": {
	    "collapsed": true
	   },
	   "outputs": [],
"source": [
"// Example 2.9 \n",
"// Calculation of Core radius\n",
"// Page no 481\n",
"\n",
"clc;\n",
"clear;\n",
"\n",
"//Given data\n",
"lambda=0.85*10^-6;           // Wavelength of fiber\n",
"delta=0.015;                 // Relative refractive index \n",
"n1=1.48;                     // Refractive index of core\n",
"v=2.403;                     // Normalized frequency for single mode fiber\n",
"// Computation of core radius\n",
"a=v*lambda/(2*%pi*n1*sqrt(2*delta));\n",
"a=a*10^6;\n",
"\n",
"//Displaying result in the command window            \n",
"printf('\n Radius of core (in micrometer) = %0.1f  ',a);\n",
""
   ]
   }
,
{
		   "cell_type": "markdown",
		   "metadata": {},
		   "source": [
			"## Example 2.1: Calculation_of_core_diameter.sce"
		   ]
		  },
  {
"cell_type": "code",
	   "execution_count": null,
	   "metadata": {
	    "collapsed": true
	   },
	   "outputs": [],
"source": [
"// Example 2.1\n",
"// Calculation of core diameter\n",
"// Page no 31\n",
"\n",
"clc;\n",
"clear;\n",
"close;\n",
"\n",
"// Given data\n",
"n1=1.5;               // Refractive index of core\n",
"n2=1.48;              // Refractive index of cladding\n",
"N=1000;               // No of modes\n",
"lambda=1.3;           // Light wavelength\n",
"V=sqrt(2*N);          // Mode parameter\n",
"\n",
"//core diameter\n",
"d=(lambda*V)/(2*%pi*sqrt(n1^2-n2^2));   \n",
"\n",
"\n",
"//Display result on command window\n",
"printf('\n Mode parameter = %0.2f  ',V);\n",
"printf('\n Core diameter(micrometer)= %0.0f  ',d);\n",
"\n",
"// Answer is wrong in the book."
   ]
   }
,
{
		   "cell_type": "markdown",
		   "metadata": {},
		   "source": [
			"## Example 2.2: EX2_2.sce"
		   ]
		  },
  {
"cell_type": "code",
	   "execution_count": null,
	   "metadata": {
	    "collapsed": true
	   },
	   "outputs": [],
"source": [
"// Example 2.2\n",
"// Calculation of (a) critical angle (b) acceptance angle and oblique angle (c) numerical aperature \n",
"// (d) percentage of light collected by the fiber and (e) diameter of fiber\n",
"// Page no 35\n",
"\n",
"clc;\n",
"clear;\n",
"close;\n",
"\n",
"// Given data\n",
"n1=1.5;                           // Refractive index of core\n",
"n2=1.45;                          // Refractive index of cladding\n",
"V=2.405;                          // Mode parameter\n",
"lambda=1.55                       // Wavelength of fiber\n",
"\n",
"// (a) Critical angle of the\n",
"theatha=asind(n2/n1);             \n",
"\n",
"// (b) Oblique angle\n",
"oa=90-theatha;                       \n",
" //Acceptance angle   \n",
"t1=n1*sind(oa);  \n",
"th1=asind(t1); \n",
"\n",
"// (c) Numerical aperature                      \n",
"NA=sqrt(n1^2-n2^2);                   \n",
"\n",
"// (d) Percentage of light collected in fiber\n",
"P=(NA)^2*100;                        \n",
"\n",
"//(e) Diameter of fiber\n",
"d=V*lambda/%pi*(1/sqrt(n1^2-n2^2));  \n",
"\n",
"//Display result on command window\n",
"printf('\n Critical angle (degrees) = %0.0f  ',theatha);\n",
"printf('\n Oblique angle (degrees) = %0.0f  ',oa);\n",
"printf('\n Acceptance angle (degrees) = %0.0f  ',th1);\n",
"printf('\n Numerical aperature = %0.4f  ',NA);\n",
"printf('\n Percentage of light collected in fiber = %0.1f  ',P);\n",
"printf('\n Diameter of fiber (micrometer)  = %0.2f  ',d);\n",
""
   ]
   }
,
{
		   "cell_type": "markdown",
		   "metadata": {},
		   "source": [
			"## Example 2.3: Calculation_of_critical_angle_and_numerical_aperature_and_acceptance_angle.sce"
		   ]
		  },
  {
"cell_type": "code",
	   "execution_count": null,
	   "metadata": {
	    "collapsed": true
	   },
	   "outputs": [],
"source": [
"// Example 2.3\n",
"//  Calculation of (a) critical angle (b) numerical aperature and (c) acceptance angle\n",
"// Page no 38\n",
"\n",
"clc;\n",
"clear;\n",
"close;\n",
"\n",
"// Given data\n",
"n1=1.5;                           // Refractive index of core\n",
"n2=1.47;                          // Refractive index of cladding)\n",
"\n",
"// (a) Critical angle\n",
"theatha=asind(n2/n1);            \n",
"// (b) Numerical aperature\n",
"NA=sqrt(n1^2-n2^2);               \n",
"// (c) Acceptance angle\n",
"theatha1=asind(NA);                     \n",
"\n",
"//Display result on command window\n",
"printf('\n Critical angle (degrees) = %0.1f  ',theatha);\n",
"printf('\n Numerical aperature = %0.2f  ',NA);\n",
"printf('\n Acceptance angle (degrees) = %0.1f  ',theatha1);\n",
""
   ]
   }
,
{
		   "cell_type": "markdown",
		   "metadata": {},
		   "source": [
			"## Example 2.4: Calculation_of_output_power.sce"
		   ]
		  },
  {
"cell_type": "code",
	   "execution_count": null,
	   "metadata": {
	    "collapsed": true
	   },
	   "outputs": [],
"source": [
"// Example 2.4\n",
"// Calculation of output power\n",
"// Page no 46\n",
"\n",
"clc;\n",
"clear;\n",
"close;\n",
"\n",
"// Given data\n",
"Pi=1;                                       // Input power\n",
"A=0.5;                                     // Atteuation\n",
"L=15;                                     // Fiber link length\n",
"\n",
"// Output Power\n",
"Po=Pi*10^((-A*L)/10);                     \n",
"\n",
"//Display result on command window\n",
"printf('\n Output Power (in mW) = %0.3f  ',Po);\n",
"\n",
""
   ]
   }
,
{
		   "cell_type": "markdown",
		   "metadata": {},
		   "source": [
			"## Example 2.5: Calculation_of_maximum_transmission_distance.sce"
		   ]
		  },
  {
"cell_type": "code",
	   "execution_count": null,
	   "metadata": {
	    "collapsed": true
	   },
	   "outputs": [],
"source": [
"// Example 2.5\n",
"// Calculation of maximum transmission distance\n",
"// Page no 47\n",
"clc;\n",
"clear;\n",
"close;\n",
"\n",
"// Given data\n",
"Pi=1*10^-3;                   // Input power\n",
"A=0.5;                        // Atteuation\n",
"Po=50*10^-6;                  // Output Power\n",
"\n",
"// Maximum transmission distance\n",
"L=(10/A)*log10(Pi/Po);         \n",
"\n",
"//Display result on command window\n",
"printf('\n Maximum transmission distance (in km) = %0.0f  ',L);\n",
"\n",
"\n",
""
   ]
   }
,
{
		   "cell_type": "markdown",
		   "metadata": {},
		   "source": [
			"## Example 2.6: Calculation_of_output_power.sce"
		   ]
		  },
  {
"cell_type": "code",
	   "execution_count": null,
	   "metadata": {
	    "collapsed": true
	   },
	   "outputs": [],
"source": [
"// Example 2.6\n",
"// Calculation of output power\n",
"// Page no 48\n",
"\n",
"clc;\n",
"clear;\n",
"close;\n",
"\n",
"// Given data\n",
"Pin=1*10^-3;                  // Input power\n",
"AL1=10;                       // Attenuation 1\n",
"AL2=20;                       // Attenuation 2          \n",
"//Output power 1 and 2\n",
"Po1=Pin/10;                      \n",
"Po2=Pin/20;                          \n",
"Po1=Po1*10^3;\n",
"Po2=Po2*10^6;\n",
"//Display result on command window\n",
"printf('\n Output power(in mW) = %0.1f ',Po1);\n",
"printf('\n Output power(in microW)= %0.0f',Po2);\n",
""
   ]
   }
,
{
		   "cell_type": "markdown",
		   "metadata": {},
		   "source": [
			"## Example 2.7: Calculation_of_attenuation_and_Rayleigh_scattering_coefficient_for_fiber.sce"
		   ]
		  },
  {
"cell_type": "code",
	   "execution_count": null,
	   "metadata": {
	    "collapsed": true
	   },
	   "outputs": [],
"source": [
"\n",
"// Example 2.7\n",
"// Calculation of attenuation and Rayleigh scattering coefficient for fiber\n",
"// Page no 50\n",
"clc;\n",
"clear;\n",
"close;\n",
"\n",
"// Given data\n",
"n=1.46;                                      // Refractive index\n",
"p=0.286;                                     // Average photoelastic coefficient\n",
"B=7.25*10^-11;                               // Isothermal compressibility\n",
"k=1.38*10^-23;                               // Boltzmann's constant\n",
"T=1350;                                      // Fictive temperature\n",
"l1=1*10^-6;                                  // Wavelength 1\n",
"l2=1.3*10^-6;                                // Wavelength 2\n",
"L=10^3;                                      // Length\n",
"\n",
"// Rayleigh scattering coefficient for length 1\n",
"y1=8*(%pi)^3*(n)^8*(p)^2*B*k*T/(3*(l1)^4);   \n",
"// Rayleigh scattering coefficient for length 2\n",
"y2=8*(%pi)^3*(n)^8*(p)^2*B*k*T/(3*(l2)^4);   \n",
"y1=y1;\n",
"y2=y2;\n",
"//Attenuation 1\n",
"T1=exp(-(y1*L));                               \n",
"//Attenuation 2\n",
"T2=exp(-(y2*L));                               \n",
"\n",
"//Display result on command window\n",
"printf('\n First Rayleigh scattering coefficient = %0.6f m^-1 ',y1);\n",
"printf('\n Second Rayleigh scattering coefficient = %0.6f m^-1 ',y2);\n",
"\n",
"printf('\n Attenuation (@ Length 1) = %0.2f (dB/km) ',T1);\n",
"printf('\n Attenuation (@ Length 2) = %0.2f (dB/km) ',T2);\n",
"\n",
""
   ]
   }
,
{
		   "cell_type": "markdown",
		   "metadata": {},
		   "source": [
			"## Example 2.8: EX2_8.sce"
		   ]
		  },
  {
"cell_type": "code",
	   "execution_count": null,
	   "metadata": {
	    "collapsed": true
	   },
	   "outputs": [],
"source": [
"// Example 2.8\n",
"// Calculation of threshold power of stimulated Brillouin scattering and Raman Scattering\n",
"// Page no 52\n",
"\n",
"clc;\n",
"clear;\n",
"close;\n",
"\n",
"// Given data\n",
"A=0.5;                       // Attenuation\n",
"d=5;                         // Core diameter\n",
"lambda=1.3;                  // Operating wavelength\n",
"v=0.7;                       // Bandwith of laser diode\n",
"\n",
"// Threshold power of stimulated Brillouin scattering\n",
"Pb=4.4*10^-3*d^2*lambda^2*A*v;\n",
"Pb=Pb*10^3;\n",
"\n",
"//Threshold power stimulated Raman Scattering\n",
"Pr=5.9*10^-2*d^2*lambda*A; \n",
"\n",
"//Display result on command window\n",
"printf('\n Threshold power of stimulated Brillouin scattering (in mW) = %0.2f ',Pb);\n",
"printf('\n Threshold power stimulated Raman Scattering (in W)= %0.2f',Pr);\n",
"\n",
""
   ]
   }
],
"metadata": {
		  "kernelspec": {
		   "display_name": "Scilab",
		   "language": "scilab",
		   "name": "scilab"
		  },
		  "language_info": {
		   "file_extension": ".sce",
		   "help_links": [
			{
			 "text": "MetaKernel Magics",
			 "url": "https://github.com/calysto/metakernel/blob/master/metakernel/magics/README.md"
			}
		   ],
		   "mimetype": "text/x-octave",
		   "name": "scilab",
		   "version": "0.7.1"
		  }
		 },
		 "nbformat": 4,
		 "nbformat_minor": 0
}
