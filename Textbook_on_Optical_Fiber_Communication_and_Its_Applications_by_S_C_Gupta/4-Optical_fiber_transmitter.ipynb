{
"cells": [
 {
		   "cell_type": "markdown",
	   "metadata": {},
	   "source": [
       "# Chapter 4: Optical fiber transmitter"
	   ]
	},
{
		   "cell_type": "markdown",
		   "metadata": {},
		   "source": [
			"## Example 4.21: Calculation_of_wavelength_seperation_between_longitudinal_modes.sce"
		   ]
		  },
  {
"cell_type": "code",
	   "execution_count": null,
	   "metadata": {
	    "collapsed": true
	   },
	   "outputs": [],
"source": [
"// Example 4.21  \n",
"// Calculation of wavelength seperation between longitudinal modes.\n",
"// Page no 486\n",
"\n",
"clc;\n",
"clear;\n",
"close;\n",
"\n",
"//Given data\n",
"lambda=0.85;                   // Wavelength\n",
"n1=3.6;                        // Refractive index of GaAs\n",
"L=200*10^-6;                   // Length of cavity\n",
"\n",
"// Wavelength seperation between longitudinal modes.\n",
"lambda1=((lambda)^2)*(10^-12)/(2*n1*L);   \n",
"lambda1=lambda1*10^9;\n",
"\n",
"//Displaying results in the command window\n",
"printf('\n Wavelength seperation (in nm^2) = %0.1f ',lambda1);"
   ]
   }
,
{
		   "cell_type": "markdown",
		   "metadata": {},
		   "source": [
			"## Example 4.22: Computation_of_overall_external_efficiency.sce"
		   ]
		  },
  {
"cell_type": "code",
	   "execution_count": null,
	   "metadata": {
	    "collapsed": true
	   },
	   "outputs": [],
"source": [
"// Example 4.22  \n",
"// Computation of overall external efficiency\n",
"// Page no 486\n",
"\n",
"clc;\n",
"clear;\n",
"close;\n",
"\n",
"//Given data\n",
"eg=1.43;            // Bandgap energy\n",
"v=2.5;              // Electrical supply Voltage\n",
"nd=0.18;            // Optical efficiency of laser diode\n",
"\n",
"// Computation of overall external efficiency\n",
"ne=(nd*eg/v)*100;           \n",
"\n",
"//Display result in the command window\n",
"printf('\n Overall external efficiency (percentage)= %0.0f .',ne);\n",
""
   ]
   }
,
{
		   "cell_type": "markdown",
		   "metadata": {},
		   "source": [
			"## Example 4.23: Calculation_of_overall_external_efficiency_of_a_Laser_diode.sce"
		   ]
		  },
  {
"cell_type": "code",
	   "execution_count": null,
	   "metadata": {
	    "collapsed": true
	   },
	   "outputs": [],
"source": [
"// Example 4.23  \n",
"// Calculation of overall external efficiency of a Laser diode\n",
"// Page no 486\n",
"\n",
"clc;\n",
"clear;\n",
"close;\n",
"\n",
"//Given data\n",
"eg=1.43;            // Bandgap energy\n",
"v=2.5;              // Voltage applied\n",
"nd=0.30;            // Optical efficiency of laser diode\n",
"\n",
"//// Overall external efficiency \n",
"ne=(nd*eg/v)*100;   \n",
"\n",
"//Display result in the command window\n",
"printf('\n Overall external efficiency (percentage)= %0.0f .',ne);"
   ]
   }
],
"metadata": {
		  "kernelspec": {
		   "display_name": "Scilab",
		   "language": "scilab",
		   "name": "scilab"
		  },
		  "language_info": {
		   "file_extension": ".sce",
		   "help_links": [
			{
			 "text": "MetaKernel Magics",
			 "url": "https://github.com/calysto/metakernel/blob/master/metakernel/magics/README.md"
			}
		   ],
		   "mimetype": "text/x-octave",
		   "name": "scilab",
		   "version": "0.7.1"
		  }
		 },
		 "nbformat": 4,
		 "nbformat_minor": 0
}
