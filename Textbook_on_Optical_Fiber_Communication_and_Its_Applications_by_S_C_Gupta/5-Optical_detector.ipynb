{
"cells": [
 {
		   "cell_type": "markdown",
	   "metadata": {},
	   "source": [
       "# Chapter 5: Optical detector"
	   ]
	},
{
		   "cell_type": "markdown",
		   "metadata": {},
		   "source": [
			"## Example 5.24: Calculation_of_wavelength_and_resposivity_and_incident_power.sce"
		   ]
		  },
  {
"cell_type": "code",
	   "execution_count": null,
	   "metadata": {
	    "collapsed": true
	   },
	   "outputs": [],
"source": [
"// Example 5.24 \n",
"// Calculation of (a) wavelength (b) resposivity and (c) incident power\n",
"// Page no 487\n",
"\n",
"clc;\n",
"clear;\n",
"close;\n",
"\n",
"//Given data\n",
"e=0.7;                      // Efficiency\n",
"c=3*10^8;                   // Speed   of light\n",
"h=6.62*10^-34               // Planck constant\n",
"E=2.2*10^-19;               // Energy of photons\n",
"e1=1.6*10^-19;              // Electron charge \n",
"// (a) Wavelength computation\n",
"lambda=h*c/E                // Wavelength of laser source\n",
"f=c/lambda;                      \n",
"\n",
"// (b) Responsivity\n",
"R=e*(lambda*e1)/(h*c);                       \n",
"\n",
"// (c) Incident power\n",
"Ip=2*10^-6;                  // Photocurrent\n",
"P=Ip/R;\n",
"\n",
"//Display result on command window\n",
"printf('\n Wavelength of operation (micrometer)= %0.1f  ',lambda*10^6);\n",
"printf('\n Responsivity R (A/W) = %0.2f  ',R);\n",
"printf('\n output power P (microwWatt)= %0.2f  ',P*10^6);\n",
""
   ]
   }
,
{
		   "cell_type": "markdown",
		   "metadata": {},
		   "source": [
			"## Example 5.25: Computation_of_quantum_efficiency_and_resposivity.sce"
		   ]
		  },
  {
"cell_type": "code",
	   "execution_count": null,
	   "metadata": {
	    "collapsed": true
	   },
	   "outputs": [],
"source": [
"// Example 5.25\n",
"// Computation of (a) quantum efficiency and (b) resposivity\n",
"// page no 487\n",
"\n",
"clc;\n",
"clear;\n",
"close;\n",
"\n",
"//Given data\n",
"nh=1.5*10^12;                 // No. of hole pairs generated\n",
"np=2.5*10^12;                 // No. of incident photons\n",
"lambda=0.85*10^-6;            // Wavelength of laser source \n",
"c=3*10^8;                     // Speed of light\n",
"h=6.62*10^-34                 // Planck constant\n",
"e1=1.6*10^-19;                // Electronic charge\n",
"\n",
"// (a)  Quantum efficiency\n",
"e=nh/np;                            \n",
"\n",
"// (b) Responsivity\n",
"R=e*(lambda*e1)/(h*c);                       //\n",
"\n",
"//Display result on command window\n",
"printf('\n Quantum efficiency = %0.1f  ',e);\n",
"printf('\n Responsivity R (A/W) = %0.3f  ',R);"
   ]
   }
,
{
		   "cell_type": "markdown",
		   "metadata": {},
		   "source": [
			"## Example 5.26: Computation_of_wavelength_and_power_and_resposivity.sce"
		   ]
		  },
  {
"cell_type": "code",
	   "execution_count": null,
	   "metadata": {
	    "collapsed": true
	   },
	   "outputs": [],
"source": [
"// Example 5.26\n",
"// Computation of (a) wavelength (b) power and (c) resposivity\n",
"// page no 488\n",
"\n",
"clc;\n",
"clear;\n",
"close;\n",
"\n",
"//Given data\n",
"e=0.7;                     // Quantum efficiency\n",
"c=3*10^8;                  // Speed of light\n",
"h=6.62*10^-34              // Planck constant\n",
"E=1.5*10^-19;              // Energy of photons\n",
"e1=1.6*10^-19;             // Electronic charge\n",
"I=4*10^-6;                 // Diode photocurrent\n",
"// (a) Wavelength of operation\n",
"lambda=h*c/E;                    \n",
"\n",
"// (b) Responsivity\n",
"R=e*(lambda*e1)/(h*c);                       //\n",
"\n",
"// (c) Incident optical power \n",
"p=I/R;                                //power\n",
"\n",
"//Display result on command window\n",
"printf('\n Wavelength of operation (micrometer)= %0.3f  ',lambda*10^6);\n",
"printf('\n Responsivity R (A/W) = %0.3f  ',R);\n",
"printf('\n output power P (microwWatt) = %0.3f  ',p*10^6);"
   ]
   }
,
{
		   "cell_type": "markdown",
		   "metadata": {},
		   "source": [
			"## Example 5.27: Computation_of_multiplication_factor.sce"
		   ]
		  },
  {
"cell_type": "code",
	   "execution_count": null,
	   "metadata": {
	    "collapsed": true
	   },
	   "outputs": [],
"source": [
"// Example 5.27\n",
"// Computation of (a)resposivity (b)output current and (c)multiplication factor\n",
"// Page no 488\n",
"\n",
"clc;\n",
"clear;\n",
"close;\n",
"\n",
"//Given data\n",
"e=0.7;                  // Quantum efficiency\n",
"c=3*10^8;               // Speed of light\n",
"h=6.62*10^-34           // Planck constant\n",
"E=1.5*10^-19;           // Energy of photons\n",
"lambda=0.85*10^-6       // Wavelength of laser source\n",
"P=0.6*10^-6;            // Incident light power\n",
"e1=1.6*10^-19;          // Electronic charge\n",
"I=10*10^-6;             // Output current of the device                \n",
"\n",
"// (a) Responsivity\n",
"R=e*(lambda*e1)/(h*c);                       \n",
"\n",
"// (b) Photocurrent\n",
"Ip=R*P;\n",
"\n",
"// (c) Multiplication factor\n",
"M=I/Ip\n",
"\n",
"//Display result on command window\n",
"printf('\n Responsivity R (A/W) = %0.3f  ',R);\n",
"printf('\n Output current Ip (microA) = %0.3f  ',Ip*10^6);\n",
"printf('\n Multiplication factor M = %0.0f  ',M);\n",
"\n",
"//Calculation mistake in (b)Phtocurrent in the book"
   ]
   }
,
{
		   "cell_type": "markdown",
		   "metadata": {},
		   "source": [
			"## Example 5.28: Computation_of_cut_off_wavelength.sce"
		   ]
		  },
  {
"cell_type": "code",
	   "execution_count": null,
	   "metadata": {
	    "collapsed": true
	   },
	   "outputs": [],
"source": [
"// Example 5.28 \n",
"// Computation of  cut off wavelength\n",
"// Page no 488\n",
"\n",
"clc;\n",
"clear;\n",
"close;\n",
"\n",
"// Given data\n",
"h=6.626*10^-34;          // Planck constant.\n",
"c=3*10^8;                // Speed of light\n",
"Eg= 1.43*1.602*10^-19;   // Bandgap energy\n",
"\n",
"// Cut off wavelength \n",
"lambda= h*c/Eg; \n",
"\n",
"//Display result on command window\n",
"printf('\n Cut off wavelength (micrometer) = %0.3f  ',lambda*10^6);"
   ]
   }
,
{
		   "cell_type": "markdown",
		   "metadata": {},
		   "source": [
			"## Example 5.29: Computation_of_cut_off_wavelength.sce"
		   ]
		  },
  {
"cell_type": "code",
	   "execution_count": null,
	   "metadata": {
	    "collapsed": true
	   },
	   "outputs": [],
"source": [
"// Example 5.29 \n",
"// Computation of cut off wavelength\n",
"// Page no 489\n",
"\n",
"clc;\n",
"clear;\n",
"close;\n",
"\n",
"// Given data\n",
"h=6.626*10^-34;            // Planck constant\n",
"c=3*10^8;                  // Speed of light\n",
"Eg= 0.7*1.602*10^-19;      // Bandgap energy\n",
"\n",
"// Cut off wavelength \n",
"lambda= h*c/Eg;                    \n",
"//Display result on command window\n",
"printf('\n Cut off wavelength (micrometer) = %0.2f  ',lambda*10^6);\n",
"\n",
""
   ]
   }
,
{
		   "cell_type": "markdown",
		   "metadata": {},
		   "source": [
			"## Example 5.30: Computation_of_value_of_reflectance.sce"
		   ]
		  },
  {
"cell_type": "code",
	   "execution_count": null,
	   "metadata": {
	    "collapsed": true
	   },
	   "outputs": [],
"source": [
"// Example 5.30\n",
"// Computation of value of reflectance \n",
"// Page no 489\n",
"clc;\n",
"clear;\n",
"close;\n",
"// Given data\n",
"n1=3.5;                  // Refractive index of silicon\n",
"n2=1;                    // Refractive index of photodiode\n",
"//Value of reflectance\n",
"R=((n1-n2)/(n1+n2))^2;\n",
"   \n",
"//Display result on command window\n",
"printf('\n Value of reflectance (R) = %0.2f  ',R);"
   ]
   }
],
"metadata": {
		  "kernelspec": {
		   "display_name": "Scilab",
		   "language": "scilab",
		   "name": "scilab"
		  },
		  "language_info": {
		   "file_extension": ".sce",
		   "help_links": [
			{
			 "text": "MetaKernel Magics",
			 "url": "https://github.com/calysto/metakernel/blob/master/metakernel/magics/README.md"
			}
		   ],
		   "mimetype": "text/x-octave",
		   "name": "scilab",
		   "version": "0.7.1"
		  }
		 },
		 "nbformat": 4,
		 "nbformat_minor": 0
}
