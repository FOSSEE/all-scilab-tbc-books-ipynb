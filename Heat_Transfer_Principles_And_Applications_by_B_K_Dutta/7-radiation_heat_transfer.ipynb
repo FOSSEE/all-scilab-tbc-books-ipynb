{
"cells": [
 {
		   "cell_type": "markdown",
	   "metadata": {},
	   "source": [
       "# Chapter 7: radiation heat transfer"
	   ]
	},
{
		   "cell_type": "markdown",
		   "metadata": {},
		   "source": [
			"## Example 7.10: view_factors.sce"
		   ]
		  },
  {
"cell_type": "code",
	   "execution_count": null,
	   "metadata": {
	    "collapsed": true
	   },
	   "outputs": [],
"source": [
"//Example 7.10\n",
"//Calculate the view factors of the surfaces.\n",
"//Given\n",
"ds=0.3         //m, diameter of shell\n",
"r1=0.1         //m, distance from the  centre\n",
"//Calculation\n",
"//by the defination of view factor\n",
"F12=1\n",
"printf('The view factor from surface 1 to 2 is %f\n',F12)\n",
"//F21\n",
"R=ds/2          //m, radius of sphere\n",
"r2=sqrt(R^2-r1^2)\n",
"A1=%pi*r2^2      //m^2 area\n",
"A2=2*%pi*R^2+2*%pi*R*sqrt(R^2-r2^2)\n",
"//from reciprocity relation\n",
"F21=(A1/A2)*F12\n",
"printf('The view factor from surface 2 to 1 is %f\n',F21)"
   ]
   }
,
{
		   "cell_type": "markdown",
		   "metadata": {},
		   "source": [
			"## Example 7.12: a_carbon_steel_sphere.sce"
		   ]
		  },
  {
"cell_type": "code",
	   "execution_count": null,
	   "metadata": {
	    "collapsed": true
	   },
	   "outputs": [],
"source": [
"//Example 7.12\n",
"//calculate the time required for ball to cool down.\n",
"//Given\n",
"d=0.3     //m, diameter of steel sphere\n",
"Ti=800    //K, initial temp. of sphere\n",
"T2=303    //C,ambient temp.\n",
"T1=343     //C, final tempreture\n",
"rho=7801  //kg/m^3, density of steel\n",
"cp=0.473  //kj/kg C, specific heat of steel\n",
"//calculation\n",
"R=d/2    //m, radius of sphere\n",
"A1=4*%pi*R^2   //m^2, area of sphere\n",
"m=4/3*%pi*R^3*rho  //m^3, mass of sphere\n",
"F12=1              //view factor\n",
"s=5.669*10^-8      //stephen Boltzman's constant\n",
"//-dT1/dt=A1*F12*s*(T^4-T2^4)/(m*cp)\n",
"I=integrate('(1/(T1^4-T2^4))','T1',343,800)\n",
"t=I/(A1*F12*s/(m*cp*10^3))\n",
"printf('The time required for the ball to cool is %f h',t/3600)"
   ]
   }
,
{
		   "cell_type": "markdown",
		   "metadata": {},
		   "source": [
			"## Example 7.13: A_schedule_pipe.sce"
		   ]
		  },
  {
"cell_type": "code",
	   "execution_count": null,
	   "metadata": {
	    "collapsed": true
	   },
	   "outputs": [],
"source": [
"//Example 7.13\n",
"//Calculate the net rate of heat loss\n",
"//from unit length of pipe by radiation if\n",
"//(a) tha pipe surface is considered black\n",
"//(b) the pipe surface has an emissivity of 0.74\n",
"//Variables declaration\n",
"d=0.114          //m, dia.o f pipe\n",
"l=1                 //m,  length of pipe\n",
"A=(%pi)*d*l  //m sq,  area\n",
"e1=1             //emmisivity of black body\n",
"F12= 1           //view factor, 1:pipe surface, 2:room walls\n",
"s=5.67*10^-8    //stephen boltzman constant\n",
"T1= 440          //K, steam temp.\n",
"T2=300           //K, wall temp.\n",
"//Caluclation\n",
"Q12=A*e1*F12*s*(T1^4-T2^4)  //net rate of radiative heat loss\n",
"//Results\n",
"printf('(a) Net rate of radiative heat loss Q12 =%f W \n',Q12)\n",
"//Part-b\n",
"e2=0.74\n",
"Q12=A*e2*F12*s*(T1^4-T2^4)  //net rate of radiative heat loss\n",
"printf('(b) Net rate of radiative heat loss Q12 =%f W',Q12)"
   ]
   }
,
{
		   "cell_type": "markdown",
		   "metadata": {},
		   "source": [
			"## Example 7.14: view_factors_and_rate_of_loss.sce"
		   ]
		  },
  {
"cell_type": "code",
	   "execution_count": null,
	   "metadata": {
	    "collapsed": true
	   },
	   "outputs": [],
"source": [
"//Example 7.14\n",
"// a.Calculate i-View factors F12 and //F21,ii-Calculate net rate of radiant energy gain by inner surface.  \n",
"//(b) Hence calculate the rate of loss\n",
"//of saturated liquid nitrogen at 1 atm pressure \n",
"//stored in a double walled spherical Dewar flask.\n",
"//Variable declaration\n",
"F12=1                //view factor\n",
"r1=0.15              //m inner radius of phere\n",
"r2=0.155            //m , outer radius\n",
"//Calculation\n",
"A1=4*(%pi)*r1^2  //sq m inner area\n",
"A2=4*(%pi)*r2^2  //sq m,outer area \n",
"F21=A1/A2\n",
"h=200                 //J/g, heat of vaporization of nitrogen\n",
"s=5.669*10^-8     // boltzman constant\n",
"T2=298               //K, temp. of outer wall\n",
"T1=77                //K, Temp. of inner wall\n",
"e1=0.06              //emmisivity\n",
"e2=0.06              //emmisivity\n",
"x=((1-e1)/(e1*A1))+(1/(A1*F12))+((1-e2)/(e2*A2))\n",
"Q1net=(s*(T2^4-T1^4))/(x)\n",
"//Result-a-i\n",
"printf('a-i) View factor F12 = %f',F12)\n",
"printf('view factor F21 = %f',F21)\n",
"//Result- b\n",
"printf('(ii) The net rate of heat gain Q1net =%f J/s',Q1net)\n",
"nl=Q1net/h\n",
"nl=nl*3600        //g/h\n",
"printf('(b) Rate of nitrogen loss = %f g/h',nl)"
   ]
   }
,
{
		   "cell_type": "markdown",
		   "metadata": {},
		   "source": [
			"## Example 7.15: Net_rate_of_radient_heat.sce"
		   ]
		  },
  {
"cell_type": "code",
	   "execution_count": null,
	   "metadata": {
	    "collapsed": true
	   },
	   "outputs": [],
"source": [
"//Example 7.15\n",
"//Calculate the net rate of radiant heat transfer to the wall.\n",
"\n",
"//Given\n",
"x=0.15             //m, length of opening on a furnace\n",
"y=0.12             //m, width of opening on a furnace\n",
"x1=6               //m, width of wall\n",
"y1=5               //m, height of wall\n",
"e2=0.8             //emissivity of wall\n",
"T1=1400            //C, furnace temp.\n",
"T2=35              //C, wall temp.\n",
"T3=273             //C, standard temp.\n",
"s=5.669*10^-8     //stephen boltzman's constant\n",
"//in fig. 7.29\n",
"l1=2               //m, l1=AF\n",
"l2=1.5             //m, l2=AH\n",
"h=3                //m, E=dA1\n",
"//for the dA1-A2 pair the equation is \n",
"F1=(1/(2*%pi))*((l2/(sqrt(l2^2+h^2)))*tanh(l1/(sqrt(l2^2+h^2)))+(l1/(sqrt(l1^2+h^2)))*tanh(l2/(sqrt(l1^2+h^2))))\n",
"//Similarly\n",
"//for the dA1-A3 pair the equation is\n",
"F2=0.1175\n",
"//for the dA1-A4 pair the equation is\n",
"F3=0.1641\n",
"//for the dA1-A5 pair the equation is\n",
"F4=0.0992\n",
"//view factor b/w the opening (dA1)and the wall (W) is \n",
"F5=F1+F2+F3+F4\n",
"//Calculation of radient heat exchange\n",
"dA1=x*y\n",
"Aw=x1*y1\n",
"Eb1=s*(T1+T3)^4\n",
"Ebw=s*(T2+T3)^4\n",
"F6=dA1*F5/Aw\n",
"Q=dA1*F5*e2*(Eb1*(1-(1-e2)*F6)-Ebw)\n",
"printf('the net rate of radiant heat transfer to the wall is %f W',Q)\n",
""
   ]
   }
,
{
		   "cell_type": "markdown",
		   "metadata": {},
		   "source": [
			"## Example 7.16: the_base_of_rectangular.sce"
		   ]
		  },
  {
"cell_type": "code",
	   "execution_count": null,
	   "metadata": {
	    "collapsed": true
	   },
	   "outputs": [],
"source": [
"//Example 7.16\n",
"//Part-a-If the side walls are perfectly insulated \n",
"//and the surfaces are diffuse gray\n",
"//with an emissivity 0.7 \n",
"//,Calculate the required net rate of heat supplied to base.\n",
"//b- If the skin temp. of the outside of the top wall is 60 degree celcius\n",
"//and heat loss frim this surface occurs \n",
"//to a big factory shade at 30 degree celcius \n",
"//calculate the convective heat transfer coefficient \n",
"//Variable declaration\n",
"l=3           //m, length of wall\n",
"w=2           //m,  width of, wall\n",
"d=3           //m\n",
"R1=l/d\n",
"A1=l*w        //sq m,area  1: front part\n",
"A2=A1         //sq m ,  area, 2'back part\n",
"e1=0.7        //emmisivity\n",
"e2=0.7        //emmisivity\n",
"T1=673        //k\n",
"T2=523        //k\n",
"s=5.669*10^-8  //stephen boltzman constant\n",
"//Calculation\n",
"F12= 0.148  //view factor ,from fig. 7.12\n",
"x=(A1+A2-2*A1*F12)/(A2-(A1*(F12^2)))+((1/e1)-1)+(A1/A2)*((1/e2)-1)\n",
"//Results\n",
"Q1net=-1*A1*(s*(T2^4-T1^4))/(x)\n",
"printf('the net rate of radiant heat loss =%f kW \n',Q1net/1000)\n",
"// (b)\n",
"F24=1        //from fig 7.12\n",
"T20=333      //K, outer surface temp. of surface 2\n",
"T4=303       //K, ambient temp\n",
"Q2rad=A2*e2*F24*s*(T20^4-T4^4)\n",
"q=Q1net-Q2rad\n",
"q1=q/1000     // Kw\n",
"h=q/(A2*(T20-T4))\n",
"printf('convective heat transfer coeff. =%f W/sq m C',h)"
   ]
   }
,
{
		   "cell_type": "markdown",
		   "metadata": {},
		   "source": [
			"## Example 7.17: two_parallel_disks.sce"
		   ]
		  },
  {
"cell_type": "code",
	   "execution_count": null,
	   "metadata": {
	    "collapsed": true
	   },
	   "outputs": [],
"source": [
"//Example 7.17\n",
"//calculate the net rate of exchange of radiation between the disks.\n",
"//given\n",
"r1i=0.1       //m, inner radius of disk 1\n",
"r1o=0.2       //m, outer radius of disk 1\n",
"r2i=0.12      //m, inner radius of disk 2\n",
"r2o=0.25      //m, outer radius of disk 2\n",
"h=0.08        //m, distance between the disks\n",
"R2=r2o/h\n",
"R1=r1o/h\n",
"X=1+(1+R1^2)/R2^2\n",
"F23_14=1/2*(X-sqrt(X^2-4*(R1/R2)^2))\n",
"//calculation of F23_4\n",
"R2_=r2o/h\n",
"R1_=r1i/h\n",
"X_=1+(1+R1_^2)/R2_^2\n",
"F23_4=1/2*(X_-sqrt(X_^2-4*(R1_/R2_)^2))     //view factor\n",
"//similarly\n",
"F3_14=0.815          //view factor\n",
"F34=0.4              //view factor\n",
"A23=%pi*r2o^2        //area\n",
"A3=%pi*r2i^2\n",
"A1=%pi*(r1o^2-r1i^2)\n",
"//from eq. 1\n",
"F12=A23*(F23_14-F23_4)/A1-(A3*(F3_14-F34))/A1\n",
"//calculation of the rate of radiative heat exchange\n",
"//given\n",
"T1=1000            //K, temprature of disk 1\n",
"T2=300             //K, temprature of disk 2\n",
"s=5.669*10^-8      //stephen's Boltzman constant\n",
"e1=0.8             //emissivity\n",
"e2=0.7\n",
"A2=%pi*(r2o^2-r2i^2)\n",
"F1s=1-F12\n",
"F2s=1-(A1*F12/A2)\n",
"//calculation\n",
"//let some quantities equal to \n",
"a=(1-e1)/(e1*A1)\n",
"b=1/(A1*F12)\n",
"c=(1-e2)/(e2*A2)\n",
"d=1/(A1*F1s)\n",
"e=1/(A2*F2s)\n",
"f=s*T1^4\n",
"g=s*T2^4\n",
"//from eq. 7.42(a)\n",
"//(f-J1)/a=(J1-J2)/b+J1/d\n",
"//(g-J2)/c=(J2-J1)/b+J1/e\n",
"//solving two eqns by matrix\n",
"A=[-0.0564,0.5036;0.4712,-0.0564]\n",
"B=[161.847;21376.31]\n",
"X=inv(A)*B\n",
"\n",
"J1=X([1])\n",
"J2=X([2])\n",
"//net rate of radiation exchange \n",
"Q12net=(J1-J2)/b\n",
"printf('net rate of radiation exchange b/w disk 1 and 2 is %f W/m^2',Q12net)"
   ]
   }
,
{
		   "cell_type": "markdown",
		   "metadata": {},
		   "source": [
			"## Example 7.18: rate_of_heat_gai.sce"
		   ]
		  },
  {
"cell_type": "code",
	   "execution_count": null,
	   "metadata": {
	    "collapsed": true
	   },
	   "outputs": [],
"source": [
"//Example 7.18\n",
"//calculate the rate of heat gain by the liquid.\n",
"//Given\n",
"di=0.0254       //m, inner diameter of tube\n",
"Ti=77           //K, liquid temprature\n",
"do=52.5*10^-3   //m, pipe internal diameter\n",
"To=270          //K, wall temprature\n",
"l=1             //m, length of tube\n",
"e1=0.05         //emissivity of tube wall\n",
"e2=0.1          //emissivity of pipe wall\n",
"e3=0.02         //emissivity for inner surface of radiation field\n",
"e4=0.03         //emissivity for outer surface of radiation field\n",
"s=5.669*10^-8   //stephen boltzman costantl\n",
"//Calculation\n",
"ds=(do+di)/2    //m, diameter of radiation shield\n",
"Ao=%pi*do*l     //m^2, outer pipe area\n",
"As=%pi*ds*l     //m^2, shield area\n",
"Ai=%pi*di*l     //m^2, inner pipe area\n",
"//View factors\n",
"//for the long cylindrical enclosure made up of the outer pipe and the shield\n",
"Fso=1    //because outer surface of shield cant see itself\n",
"Fos=As/Ao \n",
"Fsi=Ai/As\n",
"//now assume \n",
"//(1-e2)/e2+ 1/Fos +Ao*(1-e4)/(As*e4)=x\n",
"//(1-e3)/e3 +1/Fsi +(1/Fsi)*(1-e1)/e1=y\n",
"x=(1-e2)/e2+ 1/Fos +Ao*(1-e4)/(As*e4)\n",
"y=(1-e3)/e3 +1/Fsi +(1/Fsi)*(1-e1)/e1\n",
"//solving the  equations for heat transfer from the outer pipe and inner pipe\n",
"deff('[x]=f(Ts)','x=(Ao*(To^4-Ts^4)/x)-(Ai*(Ts^4-Ti^4)/x)')\n",
"Ts=fsolve(1,f)\n",
"Qos=(Ao*s*(To^4-Ts^4))/x\n",
"printf('The net rate of heat gain of tube is %f W',Qos)"
   ]
   }
,
{
		   "cell_type": "markdown",
		   "metadata": {},
		   "source": [
			"## Example 7.20: carbon_dioxide_gas.sce"
		   ]
		  },
  {
"cell_type": "code",
	   "execution_count": null,
	   "metadata": {
	    "collapsed": true
	   },
	   "outputs": [],
"source": [
"//Example 7.20\n",
"//Calculate the spectral extinction coefficient.\n",
"//Given\n",
"T=300          //K, temprature\n",
"per=91         //percent, adsorbed radiation\n",
"lam=4.2        //micrometer, wavelength radiation\n",
"L=0.1          //m, path length\n",
"//calculation\n",
"// I2/I1=f\n",
"f=1-per/100    //fraction of incident radiation transmitted\n",
"//from  eq. 7.69\n",
"a=-log(f)/L\n",
"printf('the spectral extinction coefficient is %f m^-1',a)"
   ]
   }
,
{
		   "cell_type": "markdown",
		   "metadata": {},
		   "source": [
			"## Example 7.21: hot_flue_gas.sce"
		   ]
		  },
  {
"cell_type": "code",
	   "execution_count": null,
	   "metadata": {
	    "collapsed": true
	   },
	   "outputs": [],
"source": [
"//Example 7.21\n",
"//Calculate the rate of heat transfer .\n",
"//Given\n",
"Ts=800         //C, wall temp.\n",
"Tg=1100        //C. burner temprature\n",
"CO2=8          //percent, composition of CO2 in flue gas\n",
"M=15.2         //percent, composition of moisture in flue gas\n",
"a=0.4          //m, length of  duct\n",
"b=0.4          //width of duct\n",
"h=15           //W/m^2 C, heat transfer coefficient\n",
"P=1            //atm  pressure\n",
"//CAlCULATION of Eg(Tg)\n",
"pc=CO2/100*P         //atm, partial pressure of CO2\n",
"pw=M/100*P          //atm, partial pressure of moisture\n",
"l=1                 //m, length of duct\n",
"V=a*b*l             //m^3, volume of duct\n",
"A=1.6*l             //m^2 area of duct\n",
"Le=3.6*(V/A)        //m, mean beam length\n",
"\n",
"pc*Le\n",
"pw*Le\n",
"Tg_=Tg+273\n",
"Ts_=Ts+273\n",
"//from fig 7.38\n",
"Ec=0.06\n",
"Eg=0.048             //from fig 7.39\n",
"//a correction dE need to be calculated\n",
"pw/(pc+pw)\n",
"pc*Le+pw*Le\n",
"//from fig. 7.39\n",
"dE=0.003\n",
"Eg_Tg=Ec+Eg-dE      //emissivity at temp. Tg\n",
"\n",
"//Calculation of alpha\n",
"pc*Le*Ts/Tg\n",
"//from fig. 7.37\n",
"Ec1=0.068\n",
"//from fig. 7.38\n",
"Ew1=0.069\n",
"Cc=1                //correction factor\n",
"Cw=1                //correction factor\n",
"d_alpha=dE          //AT 1 ATM TOTAL PRESSURE\n",
"alpha=Cc*Ec1*(Tg_/Ts_)^0.65+Cw*Ew1*(Tg_/Ts_)^0.45-dE\n",
"//radiant   heat ransfer rate\n",
"s=5.669*10^-8                 //stephen's boltzman constant\n",
"Qrad=A*s*(Eg_Tg*Tg_^4-alpha*Ts_^4)      //kW\n",
"Qconv=h*A*(Tg-Ts)   //kW, convective heat transfer rate\n",
"Q=Qrad+Qconv\n",
"printf('The total rate of heat transfer from the gas to the wall is %f kW',Q/1000)"
   ]
   }
,
{
		   "cell_type": "markdown",
		   "metadata": {},
		   "source": [
			"## Example 7.3: the_sun_may_be_considered.sce"
		   ]
		  },
  {
"cell_type": "code",
	   "execution_count": null,
	   "metadata": {
	    "collapsed": true
	   },
	   "outputs": [],
"source": [
"//Example 7.3\n",
"//calculate (a)the fraction of solar radiation falls in visible range\n",
"//(b) the fraction occurs on the left of  visible range\n",
"//(c) the fraction ooccurs on right on visible range\n",
"//(d)wavelength and frequency of maximum spectral emissive power\n",
"//(e)the maximum spectral emissive power\n",
"//(f)the hemispherical total emissive power\n",
"//Given\n",
"Ts=5780              //K, surface temp.\n",
"//CAlculation\n",
"//(a)\n",
"lamda1=0.4         //micrometer, starting visible spectrum range \n",
"lamda2=0.7         //micrometer,ending visible spectrum range\n",
"E1=lamda1*Ts       //micrometer K, \n",
"E2=lamda2*Ts       //micrometer K, \n",
"//from table 7.2\n",
"//fraction of radiation lying between 0 and lamda1\n",
"F1=0.1229\n",
"//fraction of radiation lying between 0 and lamda2\n",
"F2=0.4889\n",
"//the fraction of radiation falls betweem lamda1 & lamda 2\n",
"F3=F2-F1\n",
"printf('the fraction of radiation falls in visible range is %f \n',F3)\n",
"//(b)\n",
"F4=F1\n",
"printf('the fraction of radiation on the left of visible range is %f \n',F4)\n",
"//(c)\n",
"F5=1-F2\n",
"printf('the fraction in right of visible range is %f \n',F5)\n",
"//(d)\n",
"//from wein's displacement law\n",
"lmax=2898/Ts\n",
"printf('The maximum wavelength is %f micrometer is',lmax)\n",
"c=2.998*10^8      //m/s, speed of light\n",
"mu=c/lmax\n",
"printf('The frequency is %f s^-1\n',mu)\n",
"//(e)\n",
"//from eq. 7.4\n",
"h=6.6256*10^-34         //Js planck's constant\n",
"k=1.3805*10^-23         //J/K, boltzman constant\n",
"Eblmax=(2*%pi*h*c^2*(lmax*10^-6)^-5)/((exp(h*c/(lmax*10^-6*k*Ts)))-1)\n",
"printf('the maximum spectral emissive power is %f W/m^2\n',Eblmax)\n",
"//(f)\n",
"s=5.668*10^-8           //stephen costant\n",
"Eb=s*Ts^4\n",
"printf('the hemispherical total emissive power is %f W/m^2',Eb)"
   ]
   }
,
{
		   "cell_type": "markdown",
		   "metadata": {},
		   "source": [
			"## Example 7.4: wavelength.sce"
		   ]
		  },
  {
"cell_type": "code",
	   "execution_count": null,
	   "metadata": {
	    "collapsed": true
	   },
	   "outputs": [],
"source": [
"//Example 7.4\n",
"//Determine the surface temp of blackbody and \n",
"//wavelength of maximum emission.\n",
"//Find the range of the spectrum in which the wavelength falls\n",
"\n",
"//Variables declaration\n",
"Eb=4000           //W/m sq, Total emmisive power\n",
"s=5.669*10^-8  //Stephen boltzman constant\n",
"\n",
"//Calculation\n",
"T=(Eb/s)^0.25  //k, surface temp. of black body\n",
"ym=2898/T      //micro meter,\n",
"//By weins law : Max. wavelength of emmision is inversaly proportional \n",
"//to temprature. and constant is 2898 micrometer.\n",
"\n",
"//Result\n",
"printf('Surface temp. is %f C',T)\n",
"printf('wavength is  %f micrometer ',ym)\n",
"printf(' from fig 7.1 it  falls in the infrared region of spectrum.')"
   ]
   }
,
{
		   "cell_type": "markdown",
		   "metadata": {},
		   "source": [
			"## Example 7.5: spectral_emissivity.sce"
		   ]
		  },
  {
"cell_type": "code",
	   "execution_count": null,
	   "metadata": {
	    "collapsed": true
	   },
	   "outputs": [],
"source": [
"//Example 7.5\n",
"//calculate (a) total (hemispherical) emissive power\n",
"//(b) total (hemispherical) emissivity\n",
"//Given\n",
"T=1500       //K, surface temprature\n",
"//from fig 7.7\n",
"e1=0.2     //emissivity ,when wavelength(l1) is 0<l1<2 micrometer\n",
"e2=0.6     //emissivity ,when wavelength(l2) is 2<l2<6 micrometer\n",
"e3=0.1     //emissivity ,when wavelength(l3) is 6<l3<10 micrometer\n",
"e4=0       //emissivity ,when wavelength(l4) is l4>10 micrometer\n",
"//from table 7.2\n",
"F1=0.2733        //fraction of energy in  wavelength (l1)\n",
"F2=0.89-F1       //fraction of energy in  wavelength (l2)\n",
"F3=0.9689-0.89   //fraction of energy in  wavelength (l3)\n",
"//Calculation\n",
"s=5.669*10^-8    //stephen's constant\n",
"Eb=s*T^4         //emissive power \n",
"E=(e1*F1+e2*F2+e3*F3)*Eb\n",
"printf('total (hemispherical) emissive power is %f W/m^2\n',E)\n",
"//(b)\n",
"e=E/(s*T^4)\n",
"printf('total (hemispherical) emissivity of the surface is %f',e)"
   ]
   }
,
{
		   "cell_type": "markdown",
		   "metadata": {},
		   "source": [
			"## Example 7.6: fraction_of_radiation.sce"
		   ]
		  },
  {
"cell_type": "code",
	   "execution_count": null,
	   "metadata": {
	    "collapsed": true
	   },
	   "outputs": [],
"source": [
"//Example 7.6\n",
"//Calculate the fraction of radiation emitted by the surface.\n",
"ri=5         //cm ,inside radius  of ring\n",
"w=3          //cm, width\n",
"ro=ri+w      //cm, outside radius \n",
"L=20         //cm, surface distance\n",
"\n",
"//view factor along surface dA1-A2\n",
"F1=2*integrate('20^2*r/(20^2+r^2)^2','r',0,ri)\n",
"//view factor along surface dA1-A2'\n",
"F2=2*integrate('20^2*r/(20^2+r^2)^2','r',ri,ro)\n",
"printf('fraction of radiation passes through hole  %f \n',F1)\n",
"printf('fraction of radiation intercepted by the ring %f ',F2)\n",
"\n",
"\n",
"\n",
"\n",
"\n",
"\n",
"\n",
"\n",
"\n",
"\n",
"\n",
"\n",
"\n",
"\n",
"\n",
"\n",
"\n",
"\n",
"\n",
"\n",
"\n",
"\n",
"\n",
"\n",
"\n",
"\n",
"\n",
"\n",
"\n",
"\n",
"\n",
"\n",
"\n",
""
   ]
   }
,
{
		   "cell_type": "markdown",
		   "metadata": {},
		   "source": [
			"## Example 7.8: relevant_view_factor.sce"
		   ]
		  },
  {
"cell_type": "code",
	   "execution_count": null,
	   "metadata": {
	    "collapsed": true
	   },
	   "outputs": [],
"source": [
"//Example 7.8\n",
"//Consider an enclosure consisting of a hemisphere \n",
"//of diameter d and a flat surface\n",
"//of the same diameter.\n",
"//Find the relevant view factor\n",
"\n",
"//Variables declaration\n",
"F11=0        //view factor\n",
"d=1           //let it be\n",
"printf('view factor F11 = %f' ,F11)\n",
"\n",
"//Calculation\n",
"F12=1-F11   //view factor\n",
"printf( 'view factor F22 =%f',F12)\n",
"\n",
"A1=((%pi)*d^2)/4   //sq m, area\n",
"A2=((%pi)*d^2)/2   //sq m, area\n",
"F21=A1/A2            //from eq . 7.26\n",
"printf('view factor F21 =%f', F21)\n",
"F22=1-F21  \n",
"//Results\n",
"printf('view factor=%f',F22)"
   ]
   }
,
{
		   "cell_type": "markdown",
		   "metadata": {},
		   "source": [
			"## Example 7.9: determine_the_view_factors.sce"
		   ]
		  },
  {
"cell_type": "code",
	   "execution_count": null,
	   "metadata": {
	    "collapsed": true
	   },
	   "outputs": [],
"source": [
"// Example7.9\n",
"//Consider an enclousure formed by closing one end\n",
"//of a cylinder( diameter= D,height=H)by a flat surface \n",
"//and the other end by hemispherical dome.\n",
"//Determine the view factor of all the surfaces of the enclousure\n",
"//if height is twice the diameter.\n",
"//1,2,3,4 are given surface of enclosure in fig. 7.21\n",
"//Variable declaration\n",
"s=3         //no. of surface\n",
"tvf=s^2    //total view factor\n",
"//using the result of example 7.8\n",
"F11=0 \n",
"F33= 0.5\n",
"printf('view factor F11 =%f',F11)\n",
"printf('view factor F33 =%f',F33)\n",
"//Calculation & Results\n",
"R1=0.25     //R=d/2*h &h=2d\n",
"R2=0.25\n",
"X=1+((1+R2^2)/(R1^2))\n",
"F14=(0.5)*(X-sqrt((X^2)-4*(R2/R1)^2))\n",
"printf('view factor F14 =%f',F14)\n",
"F13=F14\n",
"printf('view factor F13 =%f',F13)\n",
"F12=1-F11-F13  // from eq. 7.31 for surface 1\n",
"printf('view factor F12 =%f',F12)\n",
"d=1  //say\n",
"A1=(%pi*(d^2))/4\n",
"A3=(%pi*(d^2))/2\n",
"F31=A1*F13/(A3)\n",
"printf('view factor F31 =%f',F31)\n",
"// from eq. 7.31 for surface 3\n",
"F33=0.5\n",
"F32=1-F31-F33\n",
"printf('view factor F32 =%f',F32)\n",
"//for surface 2\n",
"A2=2*%pi*d^2\n",
"F21=A1*F12/A2\n",
"printf('view factor F21 =%f',F21)\n",
"F23=A3*F32/A2\n",
"printf('view factor F23 =%f',F23)\n",
"F22=1-F21-F23\n",
"printf('view factor F22 =%f',F22)"
   ]
   }
],
"metadata": {
		  "kernelspec": {
		   "display_name": "Scilab",
		   "language": "scilab",
		   "name": "scilab"
		  },
		  "language_info": {
		   "file_extension": ".sce",
		   "help_links": [
			{
			 "text": "MetaKernel Magics",
			 "url": "https://github.com/calysto/metakernel/blob/master/metakernel/magics/README.md"
			}
		   ],
		   "mimetype": "text/x-octave",
		   "name": "scilab",
		   "version": "0.7.1"
		  }
		 },
		 "nbformat": 4,
		 "nbformat_minor": 0
}
