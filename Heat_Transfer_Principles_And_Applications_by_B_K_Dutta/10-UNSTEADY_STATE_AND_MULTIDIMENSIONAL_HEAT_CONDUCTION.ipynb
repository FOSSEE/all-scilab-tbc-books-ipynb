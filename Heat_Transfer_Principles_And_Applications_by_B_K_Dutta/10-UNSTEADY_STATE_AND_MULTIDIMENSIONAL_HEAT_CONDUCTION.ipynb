{
"cells": [
 {
		   "cell_type": "markdown",
	   "metadata": {},
	   "source": [
       "# Chapter 10: UNSTEADY STATE AND MULTIDIMENSIONAL HEAT CONDUCTION"
	   ]
	},
{
		   "cell_type": "markdown",
		   "metadata": {},
		   "source": [
			"## Example 10.8: MUMERICAL_CALCULATION_OF_UNSTEADY_STATE_HEAT_CONDUCTION.sce"
		   ]
		  },
  {
"cell_type": "code",
	   "execution_count": null,
	   "metadata": {
	    "collapsed": true
	   },
	   "outputs": [],
"source": [
"//Example no. 10.8\n",
"//Page no. 444\n",
"//Calculate the bottom surface , mid plane ,top surface temperatures\n",
"//of the slab after 4 hours\n",
"//given\n",
"l=0.05                       //m,thickness of margarine  slab\n",
"ro=990                       //Kg/m^3, density of  margarine slab \n",
"cp=0.55                      //Kcal/kg C, ddpecific heat of slab\n",
"k=0.143                      //kcal/h mC,   thermal conductivity of slab\n",
"Ti=4                         //C, initial temp\n",
"To=25                        //C, ambient temp.\n",
"t=4                          //hours, time\n",
"h=8                          //kcal/h m^2 C\n",
"//calculation\n",
"Fo=k*t/(ro*cp*l^2)          //, fourier no.\n",
"Bi=h*l/k                     //Biot no.\n",
"//from fig. 10.6 a\n",
"Tcbar=0.7                    //Tcbar=(Tc-To)/(Ti-To)\n",
"Tc=To+Tcbar*(Ti-To)          //C, centre temp.\n",
"//from fig 10.6 b\n",
"//(T-To)/(Tc-To)=0.382\n",
"T=0.382*(Tc-To)+To           //c,top surface temp.\n",
"//again from fig. 10.6 b\n",
"Tm=0.842*(Tc-To)+To          //, mid plane temp.\n",
"printf('The bottom surface temperature of given slab is %f C',Tc);\n",
"printf('The top surface temperature of given slab is %f C',T);\n",
"printf('The  mid plane temperature of given slab is %f C',Tm);\n",
"\n",
""
   ]
   }
,
{
		   "cell_type": "markdown",
		   "metadata": {},
		   "source": [
			"## Example 10.9: NUMERIC_CALCULATION_OF_UNSTEADY_STATE_HEAT_CONDUCTION.sce"
		   ]
		  },
  {
"cell_type": "code",
	   "execution_count": null,
	   "metadata": {
	    "collapsed": true
	   },
	   "outputs": [],
"source": [
"//Example10.9\n",
"//Page no. 449\n",
"//calculate   :  (i) time required for the cantre-line temp.\n",
"//to drop down to 200 C\n",
"//(ii)the temp. at half radius  at that moment\n",
"//(iii)the amount of heat that has been  transfered to the liquid\n",
"// by that time per  metre   length of the shaft\n",
"//given data\n",
"Ti=870                             //C, initial temp.\n",
"To=30                              //C, ambient  temp.\n",
"Tc=200                             //C, centre line temp.\n",
"h=2000                              //W/m^2 C, surface heat transfer coefficient\n",
"a=0.05                             //m, radius of cylinder \n",
"k=20                               //W/m C, thermal conductivity\n",
"ro=7800                            //kg/m^3, density\n",
"cp=0.46*10^3                      //j/kg C,  specific heat\n",
"\n",
"//calculation\n",
"//i\n",
"Bi=h*a/k                          //Biot no.\n",
"alpha=k/(ro*cp)                     //m^2/C, thermal diffusivity\n",
"Tcbar=(Tc-To)/(Ti-To)             // dimensionless centre line temp.\n",
"//from fig 10.7 a\n",
"fo=0.51                           //fourier  no. fo=alpha*t/a^2\n",
"t=fo*a^2/alpha                    //s, time\n",
"\n",
"//ii\n",
"//at the half radius, r/a=0.5 & Bi=5\n",
"T=To+0.77*(Tc-To)                 //from fig. 10.7 b\n",
"\n",
"//iii\n",
"x=Bi^2*fo\n",
"//for x =12.75 & Bi=5.0. fig.10.9 b gives\n",
"//q/qi=0.83\n",
"qi= %pi*a^2*(1)*ro*cp*(Ti-To)   //kj, initial amount of heat energy \n",
"                                 //present in 1 m length of shaft\n",
"q=0.83*qi                        //j, amount of heat transfered \n",
"printf('(i) time required for the cantre-line temp.to drop down to 200 C is %f s',t);\n",
"printf('(ii)the temp. at half radius  at that moment is %f C ',T);\n",
"printf('(iii)the amount of heat that has been  transfered to the liquid is  %f Kj',q*10^(-3));                                 \n",
""
   ]
   }
],
"metadata": {
		  "kernelspec": {
		   "display_name": "Scilab",
		   "language": "scilab",
		   "name": "scilab"
		  },
		  "language_info": {
		   "file_extension": ".sce",
		   "help_links": [
			{
			 "text": "MetaKernel Magics",
			 "url": "https://github.com/calysto/metakernel/blob/master/metakernel/magics/README.md"
			}
		   ],
		   "mimetype": "text/x-octave",
		   "name": "scilab",
		   "version": "0.7.1"
		  }
		 },
		 "nbformat": 4,
		 "nbformat_minor": 0
}
