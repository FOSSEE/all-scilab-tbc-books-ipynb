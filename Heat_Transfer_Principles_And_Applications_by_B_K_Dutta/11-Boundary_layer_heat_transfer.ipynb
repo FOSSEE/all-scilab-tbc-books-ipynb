{
"cells": [
 {
		   "cell_type": "markdown",
	   "metadata": {},
	   "source": [
       "# Chapter 11: Boundary layer heat transfer"
	   ]
	},
{
		   "cell_type": "markdown",
		   "metadata": {},
		   "source": [
			"## Example 11.1: water_at_25_degree_celcius.sce"
		   ]
		  },
  {
"cell_type": "code",
	   "execution_count": null,
	   "metadata": {
	    "collapsed": true
	   },
	   "outputs": [],
"source": [
"//Example 11.1\n",
"//page no. 478\n",
"//a-Calculate Boundary layer thickness at x=0.5 m\n",
"//b-Calculate local drag coeff at x=0.5 m\n",
"//c-Force req to hold the plate in position\n",
"//d-shear stress at a plane,distant t/2 from the surface at x = 0.5 m\n",
"//Variable declaration\n",
"v =1 //m/s\n",
"//temprature\n",
"T=25            // degree celcius\n",
"//length of plate,l=1m\n",
"l=1             //m\n",
"//width of plate,w=0.5m\n",
"w=0.5 //m\n",
"//angle of incidence,theta=0 degree\n",
"theta=0         //degree\n",
"//Calculation\n",
"//for water at 25 degree celcius ,momentum diffusivity,\n",
"MD=8.63*(10^-7)  // m^2/s\n",
"//local Reynold no.\n",
"x=0.5 //m\n",
"Re=x*v/MD \n",
"//from Eq. 11.39,the boundary layer thickness is\n",
"t=5*x/(Re^0.5)\n",
"//Results\n",
"printf ('i) Boundary layer thickness is%f  m\n',t)\n",
"//local drag coefficient\n",
"//CD=local drag force per unit area (F)/kinetic energy per unit volume(KE)\n",
"//F=0.332*rho*v^2*Re^0.5 and KE= 0.5*rho*v^2\n",
"CD=0.332*v^2*(Re^-0.5)/(0.5)*v^2\n",
"printf('Local drag coefficient is %f \n',CD)\n",
"//From eq 11.44, the drag force acting on one side of the plate is\n",
"//kinetic viscocity\n",
"mu=8.6*(10^-4)\n",
"fd=0.664*mu*v*(l*v/MD)^0.5*w\n",
"//the total force acting on both sides of the plate\n",
"tfd=2*fd\n",
"printf('total drag force is %f  N \n',tfd)\n",
"//shear stress at any point in the boundary layer\n",
"//at a point in the boundary layer,\n",
"x=0.5 //m\n",
"y=t/2\n",
"// n=blasius dimensionless variable\n",
"n=y/(MD*x/v)^0.5\n",
"//From table 11.1, at n=2.5,f'(n)=0.218\n",
"//shear stress= tau\n",
"fn=0.218 //f'(n)=fn\n",
"tau=(mu*v*(v/(MD*x))^0.5)*fn\n",
"printf('Shear stress is %f N/m^2',tau)"
   ]
   }
,
{
		   "cell_type": "markdown",
		   "metadata": {},
		   "source": [
			"## Example 11.2: air_at_30_degree_celcius.sce"
		   ]
		  },
  {
"cell_type": "code",
	   "execution_count": null,
	   "metadata": {
	    "collapsed": true
	   },
	   "outputs": [],
"source": [
"//Example 11.2\n",
"//Page no. 488\n",
"//Calculate the thermal boundary layer thickness & \n",
"//local heat transfer coefficient 0.75 m from the leading edge.\n",
"//Variable declaration\n",
"Ts=200           // C,temp. of air\n",
"Ta=30            //C, temp .of surface\n",
"Va=8             //m/s, velocity of air\n",
"d=0.75           //m, distant from leading edge\n",
"//Calculation\n",
"Tm=(Ts+Ta)/2     //C, Mean temp. of boundary layer\n",
"mu=2.5*10^-5    //m^2/s, viscosity\n",
"P=0.69           //prndatl no.\n",
"k=0.036          //W/m c, thermal conductivity\n",
"Re=d*Va/mu       //reynold no.\n",
"t=5*d/(Re^0.5*P^(1/3))           //m, thermal boundary layer thickness\n",
"printf('Thermal boundary layer thickness is %f mm \n',t*10^3)\n",
"N=(0.332*Re^(0.5)*P^(1/3))   //Nusslet no.\n",
"h=k*N/d                                     //heat transfer coefficent\n",
"printf('heat transfer coeff is %f W/m^2 C',h)"
   ]
   }
,
{
		   "cell_type": "markdown",
		   "metadata": {},
		   "source": [
			"## Example 11.3: A_thin_metal_plate.sce"
		   ]
		  },
  {
"cell_type": "code",
	   "execution_count": null,
	   "metadata": {
	    "collapsed": true
	   },
	   "outputs": [],
"source": [
"//Example 11.3\n",
"//Page No. 489\n",
"//given\n",
"//Free strean velocity (v1) and temp.(t1) on side 1\n",
"v1=6 //m/s\n",
"t1=150 //degree celcius\n",
"//same on  side 2\n",
"v2=3 //m/s\n",
"t2=50 //degree celcius\n",
"//distant\n",
"x=0.7 //m\n",
"//The plate temp. is assumed to be equal to the mean of the bulk air temp on the two sides of the plates\n",
"T=100 //degree celcius\n",
"//Side 1\n",
"//mean air temp.\n",
"tm1=(T+t1)/2\n",
"//From thermophysical properties:kinetic viscosity (kv),Prandtl no.(P), thermal conductivity (k)\n",
"kv1=2.6*10^-5 //m^2/s\n",
"P1=0.69\n",
"k1=0.0336 //W/m degree celcius\n",
"//Reynold no.\n",
"Re1=x*v1/kv1\n",
"//Nusslet no(N1)\n",
"a=1/3\n",
"N1=0.332*(Re1)^0.5*P1^a\n",
"h1=k1*N1/x\n",
"//Side 2 of the plate\n",
"tm2=(T+t2)/2\n",
"//Similarly\n",
"kv2=2.076*(10)^-5 //m^2/s\n",
"P2=0.70\n",
"k2=0.03 //W/m degree celcius\n",
"Re2=x*v2/kv2\n",
"N2=0.332*(Re2)^0.5*P2^a\n",
"h2=k2*N2/x\n",
"//overall heat transfer coeff. \n",
"U=h1*h2/(h1+h2)\n",
"//The local rate of heat exchange\n",
"RH=U*(t1-t2)\n",
"printf('Local rate of heat exchange is  %f W/m2\n\n',RH)\n",
"//the plate temp is given by\n",
"TP=t2+(t1-t2)*U/h2\n",
"printf('Plate temperature is :%f Celsius \n',TP)"
   ]
   }
,
{
		   "cell_type": "markdown",
		   "metadata": {},
		   "source": [
			"## Example 11.4: calculate_the_temprature.sce"
		   ]
		  },
  {
"cell_type": "code",
	   "execution_count": null,
	   "metadata": {
	    "collapsed": true
	   },
	   "outputs": [],
"source": [
"//Example 11.4\n",
"//Calculate the temprature of the plate after 1 hour \n",
"//if its initial temp, is 120 C\n",
"\n",
"//Given\n",
"T1=120                             //C, initial temp.\n",
"T2=25                              //C, Final temp.\n",
"Tm=(T1+T2)/2                       //C, mean temp.\n",
"rho=8880                           //kg/m^3, density of plate\n",
"//Properties of air at mean temp.\n",
"mu=2.07*10^-5                      //m^2/s, viscosity\n",
"Pr=0.7                             //Prandtl no.\n",
"k=0.03                             //W/m C, thermal conductivity\n",
"l=0.4                              //m, length of plate\n",
"w=0.3                              //m, width of plate\n",
"d=0.0254                           //m, thickness of plate\n",
"Vinf=1                             //m/s, air velocity\n",
"Re=l*Vinf/mu                       //REynold no.\n",
"\n",
"//from eq. 11.90 (b)\n",
"Nu=0.664*(Re)^(1/2)*(Pr)^(1/3)     //average Nusslet no.\n",
"//Nu=l*h/k\n",
"h=Nu*k/l                           //W/m^2 C, heat transfer coefficient\n",
"//Rate of change of temp. is given by\n",
"A=2*l*w                            //m^2. area of plate\n",
"t=1*3600                           //s, time\n",
"cp=0.385*10^3                      //j/kg K, specific heat\n",
"m=l*w*d*rho                        //kg, mass of plate\n",
"\n",
"//-d/dt(m*cp8dt)=A*hv*(T1-T2)\n",
"//appling the boundary condition \n",
"T=(T1-T2)*exp(-A*h*t/(m*cp))+T2\n",
"printf('The  temprature of plate after 1 hour is %f C',round(T))"
   ]
   }
,
{
		   "cell_type": "markdown",
		   "metadata": {},
		   "source": [
			"## Example 11.5: Prandtl_analogy.sce"
		   ]
		  },
  {
"cell_type": "code",
	   "execution_count": null,
	   "metadata": {
	    "collapsed": true
	   },
	   "outputs": [],
"source": [
"//Example 11.5\n",
"//Page no. 508\n",
"//given\n",
"//Reynold no (Re),friction factor(f),Prandlt no. (P)\n",
"Re=7.44*(10^4)\n",
"f=0.00485\n",
"P=5.12\n",
"x=P-1            //assume\n",
"//according to Von Karmen analogy\n",
"N=((f/2)*Re*P)/(1+(5*sqrt(f/2))*(x+log(1+(5/6)*x)))\n",
"printf('Nusslet no is: %f \n',N)\n",
"//printf('The prandtl analogy predicts Nu=458.7')"
   ]
   }
],
"metadata": {
		  "kernelspec": {
		   "display_name": "Scilab",
		   "language": "scilab",
		   "name": "scilab"
		  },
		  "language_info": {
		   "file_extension": ".sce",
		   "help_links": [
			{
			 "text": "MetaKernel Magics",
			 "url": "https://github.com/calysto/metakernel/blob/master/metakernel/magics/README.md"
			}
		   ],
		   "mimetype": "text/x-octave",
		   "name": "scilab",
		   "version": "0.7.1"
		  }
		 },
		 "nbformat": 4,
		 "nbformat_minor": 0
}
