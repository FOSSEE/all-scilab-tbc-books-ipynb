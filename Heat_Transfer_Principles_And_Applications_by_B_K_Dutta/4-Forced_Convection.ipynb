{
"cells": [
 {
		   "cell_type": "markdown",
	   "metadata": {},
	   "source": [
       "# Chapter 4: Forced Convection"
	   ]
	},
{
		   "cell_type": "markdown",
		   "metadata": {},
		   "source": [
			"## Example 4.10: length_of_heat_exchanger.sce"
		   ]
		  },
  {
"cell_type": "code",
	   "execution_count": null,
	   "metadata": {
	    "collapsed": true
	   },
	   "outputs": [],
"source": [
"//Example 4.10\n",
"//calculate the length of heat exchanger.\n",
"//Given\n",
"dti=0.0212        //m inner tube\n",
"dto=0.0254        //cm, outer tube\n",
"dpi=0.035         //cm, outer pipe\n",
"mo_=500           //kh/h, cooling rate of oil\n",
"To2=110           //C, initial temo. of oil\n",
"To1=70            //C, temp. after cooling of oil\n",
"Tw2=40            //C, inlet temp. of water\n",
"Tw1=29            //C, outlet temp. of water\n",
"//properties of oil\n",
"cpo=0.478         //kcal/kg C\n",
"ko=0.12           //kcal/h m C, thermal conductivity\n",
"rho=850           //kg/m^3, density of oil\n",
"//properties of water\n",
"kw=0.542          //kcal/h m C, thermal conductivity\n",
"kw_=(kw*1.162)    //kj/kg C\n",
"muw=7.1*10^-4     //kg/ms, viscosity of water\n",
"cpw=1             //kcal/kg C\n",
"cpw_=cpw*4.17     //kcal/kg C\n",
"rhow=1000         //kg/m^3, density\n",
"//calculation\n",
"HL=mo_*cpo*(To2-To1)      //kcal/h, heat load of exchanger\n",
"mw_=HL/(cpw*(Tw2-Tw1))    //kg/h water flow rate\n",
"mw_1=mw_/(3600*10^3)      //m^3/s water flow rate\n",
"A1=(%pi/4)*(dti)^2        //m^2, flow area of tube\n",
"Vw=mw_1/A1                //m/s water velocity\n",
"Rew=dti*Vw*rhow/muw       //Reynold no.\n",
"Prw=cpw_*10^3*muw/kw_      //Prandtl no.\n",
"Nuw=0.023*Rew^0.8*Prw^0.4 //nusslet no.\n",
"//water side heat transfer coefficient   hi\n",
"hi=Nuw*kw/dti\n",
"\n",
"//oil side heat transfer coefficient\n",
"A2=%pi/4*(dpi^2-dto^2)    //m^2, flow area of annulus\n",
"Vo=mo_/(3600*rho*A2)      //m/s velocity of oil\n",
"de=(dpi^2-dto^2)/dto      //m, equivalent dia of annulus\n",
"Tmo=(To2+To1)/2           //C,mean oil temp.\n",
"muoil=exp((5550/(Tmo+273))-19)  //kg/ms, viscosity of oil\n",
"Reo=de*Vo*rho/muoil\n",
"Pro=cpo*muoil*3600/ko     //prandtl no. for oil    \n",
"\n",
"//assume (1st approximation)\n",
"Nuo=3.66\n",
"ho=Nuo*ko/de             //kcal/h m^2 c\n",
"L=1                      //assume length of tube\n",
"Ai=%pi*dti*L\n",
"Ao=%pi*dto*L\n",
"//overall heat transfer coefficient 1st approximation\n",
"Uo=1/(1/ho+Ao/(Ai*hi))\n",
"LMTD=((To2-Tw2)-(To1-Tw1))/(log((To2-Tw2)/(To1-Tw1)))\n",
"Ao1=HL/(Uo*LMTD)         //m^2, heat transfer area\n",
"Lt=Ao1/(%pi*dto)          //m, tube length\n",
"//from eq.  4.8\n",
"Nuo1=1.86*(Reo*Pro/(Lt/de))^(1/3)   //Nusslet no. \n",
"ho1=Nuo1*ko/de\n",
"Tmw=(Tw1+Tw2)/2         //C, mean water temp.\n",
"//balancing heat transfer rate of oil and water\n",
"\n",
"//average wall temp. Twall\n",
"Twall=((hi*dti*(-Tmw))-(ho1*dto*Tmo))/(-65.71216)\n",
"//viscosity of oil at this temp.\n",
"muwall=exp((5550/(Twall+273))-19)  //kg/ms, viscosity of oil\n",
"//Nusslet no. \n",
"Nuo2=1.86*(Reo*Pro/(Lt/de))^(1/3)*(muoil/muwall)^0.14\n",
"ho2=Nuo2*ko/de\n",
"Uo2=1/((1/ho2)+(Ao/(Ai*hi)))\n",
"Ao2=HL/(Uo2*LMTD)\n",
"Lt_=Ao2/(%pi*dto)\n",
"printf('The tube length is %f m',Lt_)"
   ]
   }
,
{
		   "cell_type": "markdown",
		   "metadata": {},
		   "source": [
			"## Example 4.11: rate_of_heat_transfer.sce"
		   ]
		  },
  {
"cell_type": "code",
	   "execution_count": null,
	   "metadata": {
	    "collapsed": true
	   },
	   "outputs": [],
"source": [
"//Example 4.11\n",
"//calculate the rate of heat transfer to water.\n",
"//Given\n",
"Ti=260                 //C, initial  temp.\n",
"Ts=70                  //C, skin temp.\n",
"St=0.15                //m,space between tubes in equilateral triangular arrangement\n",
"Sd=St                  //space between tubes\n",
"mu=4.43*10^-5                //m^2/s, momentum diffusity\n",
"k=0.0375                     //W/m C, thermal conductivity\n",
"rho=0.73                     //kg/m^3, density of air\n",
"cp=0.248                     //kj/kg C, specific heat of air\n",
"V=16                         //m/s, velociity \n",
"d=0.06                       //m, outside diameter of tube\n",
"Nt=15                        //no. of tubes in transverse row\n",
"Nl=14                        //no. of tubes in longitudinal row\n",
"N=Nl*Nt                      //total no. of tubes\n",
"L=1                          //m, length\n",
"//Calculation\n",
"Sl=(sqrt(3)/2)*St\n",
"Pr=cp*mu*3600*rho/k          //Prandtl no. of bulk air\n",
"Pr=0.62\n",
"Prw=0.70                     //Prandtl no. of air at wall temp. 70 C\n",
"//from eq. 4.25\n",
"Vmax=(St/(St-d))*V\n",
"//from eq. 4.26\n",
"Vmax1=(St/(2*(St-d)))*V\n",
"Redmax=d*Vmax/mu\n",
"p=St/Sl                     //pitch ratio\n",
"p<2\n",
"//from table 4.3\n",
"m=0.6\n",
"C=0.35*(St/Sl)^0.2\n",
"h=(k/d)*C*(36163)^m*(Pr)^(0.36)*(Pr/Prw)^(0.25)\n",
"//from eq. 4.28\n",
"dt=190*exp(-%pi*d*N*h/(rho*V*3600*Nt*St*cp))\n",
"LMTD=((Ti-Ts)-(dt))/log((Ti-Ts)/dt)\n",
"A=%pi*d*L*N                //m^2, heat transfer area\n",
"Q=h*A*LMTD\n",
"printf(' the rate of heat transfer to water.is %f kcal/h',Q)"
   ]
   }
,
{
		   "cell_type": "markdown",
		   "metadata": {},
		   "source": [
			"## Example 4.12: aniline_is_a_tonnage_oc.sce"
		   ]
		  },
  {
"cell_type": "code",
	   "execution_count": null,
	   "metadata": {
	    "collapsed": true
	   },
	   "outputs": [],
"source": [
"//Example 4.12\n",
"//Calculate the rise in temp. of water .\n",
"//Given\n",
"W=0.057                      //m^3/min/tube, flow rate of water\n",
"W_=W*16.66                   //kg/s. water flow rate\n",
"di=0.0212                    //m,inside diameter\n",
"Ti=32                        //C, inlet water temp.\n",
"Tw=80                        //C, wall temp.\n",
"L=3                          //m, length of pip\n",
"//Calculation\n",
"V=(W/60)*(1/((%pi/4)*di^2))   //m/s, water velocity\n",
"//the properties of water at mean liquid temp..\n",
"mu=7.65*10^-4                 //m^2/s, viscosity\n",
"k=0.623                       //W/m C, thermal conductivity\n",
"rho=995                       //kg/m^3, density of air\n",
"cp=4.17                       //kj/kg C, specific heat of air\n",
"\n",
"//calculation\n",
"Pr=cp*10^3*mu/k               //Prandtl no.\n",
"Re=di*V*rho/mu                // Reynold no.\n",
"//from eq. 4.19, nusslet no.\n",
"//from dittus boelter eq.\n",
"Nu=0.023*Re^0.8*Pr^0.4        //Prandtl no.\n",
"f=0.0014+0.125*Re^-0.32       //friction factor\n",
"//Reynold analogy\n",
"St=f/2                       //Stanton no.\n",
"Nu1=Re*Pr*St\n",
"//Prandtl analogy\n",
"St1=(f/2)/(1+5*(Pr-1)*sqrt(f/2))\n",
"Nu2=St1*Re*Pr               \n",
"//colburn analogy\n",
"Nu3=Re*Pr^(1/3)*(f/2)\n",
"h=Nu3*k/(di)               //W/m^2 C av heat transfer coefficient\n",
"//Q=W_*cp*10^3*(To-Ti)=h*A*LMTD\n",
"A=%pi*di*L       //m^2\n",
"deff('[x]=f(To)','x=W_*cp*10^3*(To-Ti)-h*A*((To-Ti)/log((Tw-Ti)/(Tw-To)))')\n",
"To=fsolve(1,f)\n",
"//Revised calculation\n",
"Tm=(Ti+To)/2               //C, mean liquid temp.\n",
"//the properties of water at new mean liquid temp..\n",
"mu1=6.2*10^-4                 //m^2/s, viscosity\n",
"k1=0.623                       //W/m C, thermal conductivity\n",
"rho1=991                       //kg/m^3, density of air\n",
"cp1=4.17                       //kj/kg C, specific heat of air\n",
"//calculation\n",
"Pr1=cp1*10^3*mu1/k1               //Prandtl no.\n",
"Re1=di*V*rho1/mu1                // Reynold no.\n",
"//from dittus boelter eq.\n",
"f1=0.0014+0.125*Re1^(-0.32)       //friction factor\n",
"//colburn analogy\n",
"Nu4=Re1*Pr1^(1/3)*(f1/2)\n",
"h1=Nu4*k1/(di)               //W/m^2 C av heat transfer coefficient\n",
"deff('[x]=f(To_)','x=W_*cp*10^3*(To_-Ti)-h1*A*((To_-Ti)/log((Tw-Ti)/(Tw-To_)))')\n",
"To_=fsolve(1,f)\n",
"printf('Outlet temp. of water for one pass through the tubes is %f C',To_)\n",
""
   ]
   }
,
{
		   "cell_type": "markdown",
		   "metadata": {},
		   "source": [
			"## Example 4.2: Air_flow_over_a_flat_plate.sce"
		   ]
		  },
  {
"cell_type": "code",
	   "execution_count": null,
	   "metadata": {
	    "collapsed": true
	   },
	   "outputs": [],
"source": [
"//Example 4.2\n",
"//Determine\n",
"//(a)local heat transfer coefficient .\n",
"//(b)the average heat transfer coefficient\n",
"//the rate of heat loss from the surface.\n",
"\n",
"//Given\n",
"l=2                      //m, length of flat surface\n",
"T1=150                   //C, surface temp.\n",
"p=1                      //atm, pressure\n",
"T2=30                    //C, bulk air  temp.\n",
"V=12                     //m/s, air velocity\n",
"\n",
"//Calculation\n",
"Tf=(T1+T2)/2            //C, mean air film temp.\n",
"mu=2.131*10^-5            //m^2/s, viscosity\n",
"k=0.031                   //W/m C, thermal conductivity\n",
"rho=0.962                 //kg/m^3, density of air\n",
"cp=1.01                   //kj/kg C, specific heat of air\n",
"Pr=cp*10^3*mu/k                //Prandtl no.\n",
"Remax=l*V*rho/mu          //maximum Reynold no.\n",
"Re=5*10^5                 //Reynold no. during transition to turbulent flow   \n",
"L_=(Re*mu)/(V*rho)        //m,distance from the leading edge\n",
"//for laminar flow heat transfer coefficient h, \n",
"//h16.707*x^-(1/2)\n",
"//(a)\n",
"//h2=31.4*x^(-1/5)\n",
"//b\n",
"hav=22.2\n",
"//c\n",
"Q=hav*l*p*(T1-T2)\n",
"printf('The rate of heat loss is %f W',Q)"
   ]
   }
,
{
		   "cell_type": "markdown",
		   "metadata": {},
		   "source": [
			"## Example 4.3: temprature_of_wire.sce"
		   ]
		  },
  {
"cell_type": "code",
	   "execution_count": null,
	   "metadata": {
	    "collapsed": true
	   },
	   "outputs": [],
"source": [
"//Example 4.3\n",
"//what will be the temp. of the wire at steady state.\n",
"//Given\n",
"d=7.24*10^-4                  //m, diameter of wire\n",
"l=1                           //m, length of wire\n",
"I=8.3                         //A, current in a wire\n",
"R=2.625                       //ohm/m, electrical resistance\n",
"V=10                          //m/s, air velocity\n",
"Tb=27                         //C, bulk air temp.\n",
"//the properties at bulk temp.\n",
"mu=1.983*10^-5                //m^2/s, viscosity\n",
"k=0.02624                     //W/m C, thermal conductivity\n",
"rho=1.1774                    //kg/m^3, density of air\n",
"cp=1.0057                     //kj/kg C, specific heat of air\n",
"\n",
"//calculation\n",
"Pr=cp*10^3*mu/k               //Prandtl no.\n",
"Re=d*V*rho/mu                 // Reynold no.\n",
"//from eq. 4.19, nusslet no.\n",
"Nu=0.3+(0.62*Re^(1/2)*Pr^(1/3)/(1+(0.4/Pr)^(2/3))^(1/4))*(1+(Re/(2.82*10^5))^(5/8))^(4/5)\n",
"hav=Nu*k/d                    //W/m^2 C, average heat transfer coefficient\n",
"Q=I^2*R                       //W, rate of electrical heat generation\n",
"A=%pi*d*l\n",
"dt=Q/(hav*A)                  //C,temp. difference\n",
"T=dt+Tb                       //C, steady state temp.\n",
"printf('The steady state temprature is %f C\n',T)\n",
"//REVISED CALCULATION\n",
"Tm=(T+Tb)/2                   //C, mean air film temp.\n",
"//the properties at Tm temp.\n",
"mu1=2.30*10^-5                  //m^2/s, viscosity\n",
"k1=0.0338                       //W/m C, thermal conductivity\n",
"rho1=0.878                      //kg/m^3, density of air\n",
"cp1=1.014                       //kj/kg C, specific heat of air\n",
"Re1=d*V*rho1/mu1                // Reynold no.\n",
"Pr1=(1.014*10^3*2.30*10^-5)/k1             //Prandtl no.\n",
"//from eq. 4.19, nusslet no.\n",
"Nu1=0.3+(0.62*Re1^(1/2)*Pr1^(1/3)/(1+(0.4/Pr1)^(2/3))^(1/4))*(1+(Re1/(2.82*10^5))^(5/8))^(4/5)\n",
"hav1=Nu1*k1/d                    //W/m^2 C, average heat transfer coefficient\n",
"dt1=Q/(hav1*A)                  //C,temp. difference\n",
"T1=dt1+Tb                       //C, steady state temp.\n",
"printf('The recalculated value  is almost equal to previous one.')"
   ]
   }
,
{
		   "cell_type": "markdown",
		   "metadata": {},
		   "source": [
			"## Example 4.4: Calculate_Required_time.sce"
		   ]
		  },
  {
"cell_type": "code",
	   "execution_count": null,
	   "metadata": {
	    "collapsed": true
	   },
	   "outputs": [],
"source": [
"//Example 4.4\n",
"//Calculate \n",
"//(a) what is initial  rate of melting of ice.\n",
"//(b)how much time would be needed to melt away 50 % of ice\n",
"//Given\n",
"di=0.04                       //m, diameter of ice ball\n",
"V=2                           //m/s, air velocity\n",
"T1=25                         //C, steam temp.\n",
"T2=0\n",
"//the properties  of air\n",
"mu=1.69*10^-5                 //kg/ms, viscosity\n",
"k=0.026                       //W/m C, thermal conductivity\n",
"rho=1.248                     //kg/m^3, density \n",
"cp=1.005                      //kj/kg C, specific heat \n",
"//propertice of ice\n",
"lamda=334                     //kj/kg, heat of fusion\n",
"rhoice=920                    //kg/m^3 density of ice\n",
"\n",
"//calculation\n",
"Pr=cp*10^3*mu/k               //Prandtl no.\n",
"Re=di*V*rho/mu                // Reynold no.\n",
"//from eq. 4.19, nusslet no.\n",
"Nu=2+(0.4*Re^0.5+0.06*Re^(2/3))*Pr^0.4\n",
"hav=Nu*k/di                   //W/m^2 C, average heat transfer coefficient\n",
"Ai=%pi*di^2                   //initial area of sphere\n",
"Qi=Ai*hav*(T1-T2)             //W=J/s, initial rate of heat transfer\n",
"Ri=Qi/lamda                   //initial  rate of melting of ice\n",
"printf('initial  rate of melting of ice is %f g/s\n',Ri)\n",
"\n",
"//(b)\n",
"//mass of ice ball 4/3*%pi*r^3\n",
"//Rate of melting= Rm= -d/dt(m)\n",
"//Rate of heat input required =-lamda*Rate of melting\n",
"//heat balance equation\n",
"// -lamda*(Rm)=h*4*%pi*r^2*dt\n",
"//integrating and solving\n",
"rf=((di/2)^3/2)^(1/3)\n",
"//solving eq. 3\n",
"t1=1.355*10^-4/(8.136*10^-8)\n",
"printf('The required time is is %f s\n',round(t1))\n",
""
   ]
   }
,
{
		   "cell_type": "markdown",
		   "metadata": {},
		   "source": [
			"## Example 4.5: average_time.sce"
		   ]
		  },
  {
"cell_type": "code",
	   "execution_count": null,
	   "metadata": {
	    "collapsed": true
	   },
	   "outputs": [],
"source": [
"//Example 4.5\n",
"//calculate the average time of contact .\n",
"//Given\n",
"Vo=0.5                        //m/s air velocity\n",
"T1=800                        //C, initial temp.\n",
"T2=550                        //C, final temp.\n",
"Tam=500                       //C, air mean temp.\n",
"P=1.2                         //atm, pressure\n",
"//the properties of solid particles.\n",
"dp=0.65*10^-3                 //m, average particle diameter\n",
"cps=0.196                     //kcal/kg C, specific heat\n",
"rhos=2550                     //kg/m^3, density \n",
"//Properties of air\n",
"mu=3.6*10^-5                  //kg/ms, viscosity\n",
"k=0.05                        //kcal/hm C, thermal conductivity\n",
"rho=0.545                     //kg/m^3, density of air\n",
"cp=0.263                      //kcal/kg C, specific heat of air\n",
"\n",
"//calculation\n",
"Pr=cp*mu*3600/k                    //Prandtl no.\n",
"Redp=dp*Vo*rho/mu             // Reynold no.\n",
"//from eq. 4.29(b) heat transfer coefficient\n",
"h=(k/dp)*(2+0.6*(Redp)^(1/2)*(Pr)^(1/3))\n",
"Tg=500                        //C, gas temp.\n",
"//from heat balance equation\n",
"// -(dTs/dt)=6h/(dp*rhos*cps)*(Ts-Tg)\n",
"t=(dp*rhos*cps/(6*h))*integrate('(1/(Ts-Tg))','Ts',550,800)\n",
"printf('the required contact time is %f s',t*3600)"
   ]
   }
,
{
		   "cell_type": "markdown",
		   "metadata": {},
		   "source": [
			"## Example 4.6: Overall_heat_transfer_coefficient.sce"
		   ]
		  },
  {
"cell_type": "code",
	   "execution_count": null,
	   "metadata": {
	    "collapsed": true
	   },
	   "outputs": [],
"source": [
"//Example 4.6\n",
"//Calculate the required rate of flow of water.\n",
"//calculate the overall heat transfer coefficient\n",
"//Given\n",
"mo_=1000           //kg/h, cooling rate of oil\n",
"cpo=2.05           //kj/kg C, specific heat of oil\n",
"T1=70              //C, initial temp. of oil\n",
"T2=40              //C,  temp. of oil after cooling\n",
"cpw=4.17           //kj/kg C, specific heat of water\n",
"T3=42              //C, initial temp. of water\n",
"T4=28              //C,  temp. of oil after cooling\n",
"A=3                //m^2, heat exchange area\n",
"//Calculation,  rate of flow of water\n",
"mw_=mo_*cpo*(T1-T2)/(cpw*(T3-T4))\n",
"printf('the required rate of flow of water is %f kg/h \n',mw_)\n",
"Q=mo_*cpo*(T1-T2)/3600       //kw, heat duty\n",
"dt1=T1-T3         //C, hot end temp. difference\n",
"dt2=T2-T4          //C, cold end temp. difference\n",
"LMTD=(dt1-dt2)/(log(dt1/dt2))  //log mean temp. difference\n",
"dtm=LMTD\n",
"U=Q*10^3/(A*dtm)\n",
"printf('the overall heat transfer coefficient is %f W/m^2 C',U)"
   ]
   }
,
{
		   "cell_type": "markdown",
		   "metadata": {},
		   "source": [
			"## Example 4.7: inlet_and_outlet_temprature.sce"
		   ]
		  },
  {
"cell_type": "code",
	   "execution_count": null,
	   "metadata": {
	    "collapsed": true
	   },
	   "outputs": [],
"source": [
"//Example 4.7\n",
"//calculatemthe inlet and outlet temp.of gas.\n",
"//Given\n",
"Q=38700             //kcal/h, heat duty\n",
"W=2000              //kg/h gas flow rate\n",
"cp=0.239            //kcal/kg C, specific heat of nitrogen\n",
"A=10                //m^2 ,heat exchanger area\n",
"U=70                //kcal/hm^2 C, overall heat transfer coefficient\n",
"n=0.63              //fin efficiency\n",
"\n",
"//Calculation\n",
"dt=Q/(W*cp)         //C, temp. difference\n",
"//To-Ti=dt.........................(i)\n",
"dtm=Q/(U*A*n)\n",
"//(To-Ti)/(log((160-Ti)/(160-To)))=87.8........(2)\n",
"//solving  1  and 2\n",
"deff('[x]=f(To)','x=(To-(To-dt))/(log((160-(To-dt))/(160-To)))-87.8')\n",
"To=fsolve(100,f)\n",
"Ti=To-dt\n",
"printf('The inlet temprature is  Ti=%f C\n',round(Ti))\n",
"printf('The outlet temprature is To=%f C\n',round(To))"
   ]
   }
,
{
		   "cell_type": "markdown",
		   "metadata": {},
		   "source": [
			"## Example 4.8: drop_in_temprature.sce"
		   ]
		  },
  {
"cell_type": "code",
	   "execution_count": null,
	   "metadata": {
	    "collapsed": true
	   },
	   "outputs": [],
"source": [
"//Example 4.8\n",
"//Calculate the drop in temp. of the water.\n",
"//Given\n",
"V=1.8                  //m/s, velocity of hot water\n",
"T1=110                 //C, initial temp.\n",
"l=15                   //m, length  of pipe\n",
"t=0.02                 //m, thickness of insulation\n",
"kc=0.12                //W/mC,thermal conductivity of insulating layer\n",
"ho=10                  //Wm^2 C, outside film coefficient\n",
"T2=20                  //C, ambient temp.\n",
"//the properties of water at 110 C\n",
"mu=2.55*10^-4          //m^2/s, viscosity\n",
"k=0.685                //W/m C, thermal conductivity\n",
"rho=950                //kg/m^3, density of air\n",
"cp=4.23                //kj/kg C, specific heat of air\n",
"di=0.035               //m, actual internal dia. of pipe\n",
"ri=di/2                //m,internal radius\n",
"t1=0.0036              //m, actual thickness of 1-1/4 schedule 40 pipe\n",
"ro=ri+t1               //m, outer radius of pipe\n",
"r_=ro+t                //m, outer radius of insulation\n",
"kw=43                  //W/mC, thermal conductivity of steel\n",
"//calculation\n",
"Pr=cp*10^3*mu/k        //Prandtl no.\n",
"Re=di*V*rho/mu         // Reynold no.\n",
"//from eq. 4.9,  Nusslet no.\n",
"Nu=0.023*(Re)^0.88*Pr^0.3\n",
"hi=Nu*k/di             //W/m^2 C, average heat transfer coefficient\n",
"//the overall coefficient inside area basis Ui\n",
"Ui=1/(1/hi+(ri*log(ro/ri))/kw+(ri*log(r_/ro))/kc+ri/(r_*ho)) \n",
"Ai=%pi*di*l           //m^2, inside area basis\n",
"W=%pi*ri^2*V*rho      //kg/s, water flow rate\n",
"//from the relation b/w LMTD and rate of heat loss\n",
"//deff('[x]=f(To)','x=W*cp*10^3*(T1-To)-Ui*Ai*((T1-To)/log((T1-T2)/(To-T2)))')\n",
"//To=fsolve(1,f)\n",
"\n",
"deff('[x]=f(To)','x=(W*cp*10^3)/(Ui*Ai)*(T1-To)-((T1-To)/log((T1-T2)/(To-T2)))')\n",
"To=fsolve(100,f)\n",
"printf('The outlet eater temp. is %f C',To)"
   ]
   }
,
{
		   "cell_type": "markdown",
		   "metadata": {},
		   "source": [
			"## Example 4.9: find_the_temprature.sce"
		   ]
		  },
  {
"cell_type": "code",
	   "execution_count": null,
	   "metadata": {
	    "collapsed": true
	   },
	   "outputs": [],
"source": [
"//Example 4.9\n",
"//at what temp. does the water leave the pipe.\n",
"//Given\n",
"T1=28              //C, inlet temp. \n",
"T2=250             //C,bulk temp.\n",
"V=10               //m/s, gas velocity\n",
"l=20               //m, length of pipe\n",
"mw=1*3600          //kg/h, water flow rate\n",
"di=4.1*10^-2       //m, inlet diameter\n",
"Tm=(T1+T2)/2       //C, mean temp.\n",
"ro=0.0484          //m, outside radius\n",
"//properties of water\n",
"mu=8.6*10^-4       //kg/ms, viscosity\n",
"kw=0.528           //kcal/h m C, thermal conductivity\n",
"kw_=0.528*1.162    //W/ m C, thermal conductivity\n",
"rho=996            //kg/m^3, density of air\n",
"cp=1*4.18          //kj/kg C, specific heat of air\n",
"cp_=1              //kcal/kg C\n",
"//properties of flue gas\n",
"mu1=2.33*10^-5     //kg/ms, viscosity\n",
"ka=0.0292          //kcal/h m C, thermal conductivity\n",
"rho1=0.891         //kg/m^3, density of air\n",
"cp1=0.243          //kcal/kg C, specific heat of air\n",
"Pr=0.69\n",
"\n",
"//calculation\n",
"A=%pi/4*di^2       //m^2, cross section of pipe\n",
"Vw=1/(rho*A)       //m/s, velocity of warer\n",
"Re=di*Vw*rho/mu    // Reynold no.\n",
"Pr1=cp*10^3*mu/kw_   //Prandtl no. for water\n",
"Nu=0.023*Re^0.8*Pr1^0.4               //Nusslet no.\n",
"//water side heat transfer coefficient  hi\n",
"hi=206*kw/di\n",
"//gas side heat transfer coefficient    ho\n",
"a=41              //mm, i.d. schedule\n",
"Tw=3.7            //mm, wall thickness\n",
"do=a+2*Tw         //mm, outer diameter of pipe\n",
"Re1=do*10^-3*V*rho1/mu1    // Reynold no\n",
"//from eq. 4.19, nusslet no.\n",
"Nu1=0.3+(0.62*Re1^(1/2)*Pr^(1/3)/(1+(0.4/Pr)^(2/3))^(1/4))*(1+(Re1/(2.82*10^5))^(5/8))^(4/5)\n",
"ho=(Nu1*ka/do)*10^3      //kcal/h m^2 C\n",
"Uo=1/(ro/(di/2*hi)+1/ho)   //kcal/h m^2 C, overall heat transfer coefficient\n",
"\n",
"//Heat balance\n",
"A1=%pi*ro*l         //m62, outside area of pipe\n",
"//from the formula of LMTD\n",
"deff('[x]=f(T2_)','x=mw*cp_*(T2_-T1)-Uo*A1*((T2_-T1)/log((T2-T1)/(T2-T2_)))')\n",
"T2_=fsolve(1,f)\n",
"printf('The exit water temp is %f K',round(T2_))"
   ]
   }
],
"metadata": {
		  "kernelspec": {
		   "display_name": "Scilab",
		   "language": "scilab",
		   "name": "scilab"
		  },
		  "language_info": {
		   "file_extension": ".sce",
		   "help_links": [
			{
			 "text": "MetaKernel Magics",
			 "url": "https://github.com/calysto/metakernel/blob/master/metakernel/magics/README.md"
			}
		   ],
		   "mimetype": "text/x-octave",
		   "name": "scilab",
		   "version": "0.7.1"
		  }
		 },
		 "nbformat": 4,
		 "nbformat_minor": 0
}
