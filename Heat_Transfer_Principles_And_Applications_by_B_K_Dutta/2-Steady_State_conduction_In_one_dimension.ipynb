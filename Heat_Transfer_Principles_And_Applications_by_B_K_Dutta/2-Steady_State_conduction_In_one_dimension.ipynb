{
"cells": [
 {
		   "cell_type": "markdown",
	   "metadata": {},
	   "source": [
       "# Chapter 2: Steady State conduction In one dimension"
	   ]
	},
{
		   "cell_type": "markdown",
		   "metadata": {},
		   "source": [
			"## Example 2.1: STEADY_STATE_RATE_OF_HEAT_GAIN.sce"
		   ]
		  },
  {
"cell_type": "code",
	   "execution_count": null,
	   "metadata": {
	    "collapsed": true
	   },
	   "outputs": [],
"source": [
"//Example 2.1\n",
"//(a)calculate  the steady state rate of heat gain .\n",
"//(b), th etemp. of interfaces of composite wall.\n",
"//(c)the percentage of total heat transfer resistance.\n",
"//additional thickness of cork. \n",
"//Given\n",
"A=1           //m^2, area\n",
"//for inner layer (cement)\n",
"ti=0.06       //m, thickness\n",
"ki=0.72       //W/m C,  thermal conductivity\n",
"Ti=-15        //C, temprature\n",
"//for middle layer (cork)\n",
"tm=0.1        //m, thickness\n",
"km=0.043      //W/m C,  thermal conductivity\n",
"//for outer layer(brick)\n",
"to=0.25       //m, thickness\n",
"ko=0.7        //W/m C,  thermal conductivity\n",
"To=30         //C, temprature\n",
" \n",
"//Calculation\n",
"//Thermal resistance of outer layer  //C/W\n",
"Ro=to/(ko*A) \n",
"//Thermal resistance of middle layer   //C/W\n",
"Rm=tm/(km*A) \n",
"//Thermal resistance of inner layer    //C/W\n",
"Ri=ti/(ki*A)\n",
"Rt=Ro+Rm+Ri\n",
"tdf=To-Ti        //temp driving force\n",
"//(a)\n",
"Q=tdf/Rt      //rate of heat gain\n",
"printf('the rate of heat gain is %f W\n',Q)\n",
"\n",
"//(b)\n",
"//from fig. 2.4\n",
"td1=Q*to/(ko*A)   //C temp. drop across the brick layer\n",
"T1=To-td1         //interface temp. between brick and cork\n",
"//similarly\n",
"td2=Q*tm/(km*A)   //C temp. drop across the cork layer\n",
"T2=T1-td2         //C, interface temp. between cement and cork\n",
"printf('interface temp. between brick and cork is %f C\n',T1)\n",
"printf('interface temp. between cement and cork is %f C\n',T2)\n",
"\n",
"\n",
"//(c)\n",
"Rpo=Ro/Rt         //thermal resistance offered by brick layer\n",
"Rpm=Rm/Rt         //thermal resistance offered by cork layer\n",
"Rpi=Ri/Rt         //thermal resistance offered by cement layer\n",
"printf('thermal resistance offered by brick layer is %f percent\n',Rpo*100)\n",
"printf('thermal resistance offered by cork layer is %f percent\n',Rpm*100)\n",
"printf('thermal resistance offered by cement layer is %f percent\n',Rpi*100)\n",
"\n",
"//second part\n",
"x=30              //percentage dec in heat transfer \n",
"Q1=Q*(1-x/100)    //W, desired rate of heat flow\n",
"Rth=tdf/Q1        //C/W, required thermal resistance\n",
"Rad=Rth-Rt        //additional thermal resistance\n",
"Tad=Rad*km*A\n",
"printf('Additional thickness of cork to be provided =%f cm',Tad*100)\n",
" "
   ]
   }
,
{
		   "cell_type": "markdown",
		   "metadata": {},
		   "source": [
			"## Example 2.2: Rate_of_heat_loss.sce"
		   ]
		  },
  {
"cell_type": "code",
	   "execution_count": null,
	   "metadata": {
	    "collapsed": true
	   },
	   "outputs": [],
"source": [
"//Exm[ple 2.2\n",
"//Page no. 15\n",
"//Given\n",
"//outer thickness of brickwork (to) & inner thickness (ti)\n",
"to=0.15    //m\n",
"ti=0.012   //m\n",
"//thickness of intermediate layer(til)\n",
"til=0.07   //m\n",
"//thermal conductivities of brick  and wood\n",
"kb=0.70    //W/m celcius\n",
"kw=0.18    //W/m celcius\n",
"//temp. of outside and inside wall\n",
"To=-15    //celcius\n",
"Ti=21     //celcius\n",
"//area\n",
"A=1       //m^2\n",
"//(a)solution\n",
"//Thermal resistance of brick  , wood and insulating layer\n",
"TRb=to/(kb*A)   //C/W\n",
"TRw=ti/(kw*A)   //C/W\n",
"TRi=2*TRb       //C/W\n",
"//Total thermal resistance\n",
"TR=TRb+TRw+TRi  //C/W\n",
"//Temp. driving force\n",
"T=Ti-To         //C\n",
"//Rate of heat loss\n",
"Q=T/TR\n",
"printf('Rate of heat loss is %f W\n',Q)\n",
"//(b)thermal conductivities of insulating layer\n",
"k=til/(A*TRi)\n",
"printf('thermal conductivities of insulating layer is %f W/m C',k)\n",
"\n",
"\n",
""
   ]
   }
,
{
		   "cell_type": "markdown",
		   "metadata": {},
		   "source": [
			"## Example 2.3: fraction_of_resistance.sce"
		   ]
		  },
  {
"cell_type": "code",
	   "execution_count": null,
	   "metadata": {
	    "collapsed": true
	   },
	   "outputs": [],
"source": [
"//Example 2.3\n",
"//Page no. 19\n",
"//Given\n",
"//Length & Inside rdius of gas duct\n",
"L=1       //m\n",
"ri=0.5    //m\n",
"//Properties of inner and outer layer\n",
"ki=1.3    //W/m C, thermal conductivity of inner bricks\n",
"ti=0.27   //m, inner layer thickness \n",
"ko=0.92   //W/m C, thermal conductivity of special bricks \n",
"to=0.14   //m, outer layer thickness\n",
"Ti=400    //C, inner layer temp.\n",
"To=65     //C, outer layer temp.\n",
"\n",
"//calculation\n",
"r_=ri+ti   //m, outer radius of fireclay  brick layer\n",
"ro=r_+to   //m, outer radius of special brick layer\n",
"//Heat transfer resistance\n",
"//Heat transfer resistance of fireclay brick\n",
"R1=(log(r_/ri))/(2*%pi*L*ki)\n",
"//Heat transfer resistance of special brick\n",
"R2=(log(ro/r_))/(2*%pi*L*ko)\n",
"//Total resistance\n",
"R=R1+R2\n",
"//Driving force\n",
"T=Ti-To\n",
"//Rate of heat loss\n",
"Q=T/(R)\n",
"printf('Rate of heat loss is %f W',Q)\n",
"//interface temp.\n",
"Tif=Ti-(Q*R1)\n",
"printf('interface temp.is  %f C',Tif)\n",
"//Fractional resistance offered  by the special brick layer\n",
"FR=R2/(R1+R2)\n",
"printf('Fractional resistance offered  by the special brick layer is %f ',FR)"
   ]
   }
,
{
		   "cell_type": "markdown",
		   "metadata": {},
		   "source": [
			"## Example 2.4: Calculate_Temprature.sce"
		   ]
		  },
  {
"cell_type": "code",
	   "execution_count": null,
	   "metadata": {
	    "collapsed": true
	   },
	   "outputs": [],
"source": [
"\n",
"//Example 2.4\n",
"//Calculate(a) hot end temprature'\n",
"//(b) temprature fradient at both the ends\n",
"//(c) the temprature at 0.15m away from the cold end.\n",
"//Given\n",
"d1=0.06       //m, one end diameter of steel rod\n",
"d2=0.12       //m,other end diameter of steel rod\n",
"l=0.2         //m length of rod\n",
"T2=30         //C, temp. at end 2\n",
"Q=50          //W, heat loss\n",
"k=15           //W/m c, thermal conductivity of rod\n",
"\n",
"//NUMERIC PART\n",
"//T=265.8-(7.07/(0.06-0.15*x))........(a)\n",
"//(a)\n",
"x1=0\n",
"//from eq. (a)\n",
"T1=265.8-(7.07/(0.06-0.15*x1))\n",
"printf('The hot  end temp. is %f C\n',T1)\n",
"//(b)  from eq. (i)\n",
"C=50                 //integration constant\n",
"//from eq. (i)\n",
"D1=-C/(%pi*d1^2*k)   //D=dT/dx, temprature gradient\n",
"printf('The temprature gradient at hot end is %f C/m\n',D1)\n",
"//similarly\n",
"D2=-1179             //at x= 0.2m\n",
"printf('The temprature gradient at cold end is %f C/m\n',D2)\n",
"\n",
"//(c)\n",
"x2=0.15              //m, given,\n",
"x3=l-x2              //m, section away from the cold end\n",
"//from eq. (a)\n",
"T2=265.8-(7.07/(0.06-0.15*x3))\n",
"printf('the temprature at 0.15m away from the cold end is %f C',T2)"
   ]
   }
,
{
		   "cell_type": "markdown",
		   "metadata": {},
		   "source": [
			"## Example 2.5: calculate_refrigeration_requirement.sce"
		   ]
		  },
  {
"cell_type": "code",
	   "execution_count": null,
	   "metadata": {
	    "collapsed": true
	   },
	   "outputs": [],
"source": [
"//Exaple2.5\n",
"//Page no.24\n",
"//Given\n",
"//inside and outside diameter and Temp.  of sphorical vessel\n",
"do=16\n",
"t=0.1\n",
"Ri=do/2        //m, inside radius \n",
"Ro=Ri+t        //m. outside radius\n",
"To=27          //C, \n",
"Ti=4           //C\n",
"k=0.02         //W/m C, thermal conductivity of foam layer \n",
"//from eq. 2.23 the rate of heat transfer\n",
"Q=(Ti-To)*(4*%pi*k*Ro*Ri)/(Ro-Ri)\n",
"printf('the rate of heat transfer is %f W\n',Q)\n",
"//Refrigeration capacity(RC)\n",
"//3516 Watt= 1 ton\n",
"RC=-Q/3516\n",
"printf('Refrigeration capacity is %f tons',RC)"
   ]
   }
,
{
		   "cell_type": "markdown",
		   "metadata": {},
		   "source": [
			"## Example 2.6: calculate_temp_gradient.sce"
		   ]
		  },
  {
"cell_type": "code",
	   "execution_count": null,
	   "metadata": {
	    "collapsed": true
	   },
	   "outputs": [],
"source": [
"//Example 2.6\n",
"//Calculate the temprature gradient at each end of the rod\n",
"//and the temprature midway in the rod at steady state\n",
"//Given\n",
"d=0.05        //m, diameter of rod\n",
"l=0.5         //m, length of rod\n",
"T1=30         //CTemp. at  one end (1)\n",
"T2=300        //C, temp  at other end (2)\n",
"T=poly(0,'T')\n",
"k=202+0.0545*T       //W/mC thermal conductivity of metal\n",
"\n",
"//CALCULATION OF HEAT FLUX\n",
"x1=l/2         //m, at mid plane\n",
"//temprature distribution ,\n",
"//comparing with quadratic eq. ax^2+bx+c \n",
"//and its solution as x=(-b+sqrt(b^2-4*a*c))/2*a\n",
"a=1.35*10^-4\n",
"b=1\n",
"c=-(564*x1+30.1)\n",
"T=(-b+sqrt(b^2-4*a*c))/(2*a)\n",
"printf('the temprature midway in the rod at steady state is %f C\n',T)\n",
"\n",
"//Temprature gradient at the ends of the rod\n",
"x2=0               //m, at one end\n",
"a1=1.35*10^-4\n",
"b1=1\n",
"c1=-(564*x2+30.1)\n",
"T1=(-b1+sqrt(b1^2-4*a1*c1))/(2*a1)\n",
"k1=202+0.0545*T1   \n",
"C1=113930           //integration constant from eq. (1)\n",
"TG1=C1/k1           //C/W, temprature gradient, dT/dx\n",
"//similarly\n",
"x3=0.5\n",
"a2=1.35*10^-4\n",
"b2=1\n",
"c2=-(564*x3+30.1)\n",
"T2=(-b2+sqrt(b2^2-4*a2*c2))/(2*a2)\n",
"k2=202+0.0545*T2\n",
"TG2=C1/k2\n",
"printf('Temprature gradient at one end of the rod is %f C/W\n',TG1)\n",
"printf('Temprature gradient at other end of the rod is %f C/W',TG2)\n",
"\n",
""
   ]
   }
,
{
		   "cell_type": "markdown",
		   "metadata": {},
		   "source": [
			"## Example 2.7: surface_emp_and_maximun_temp.sce"
		   ]
		  },
  {
"cell_type": "code",
	   "execution_count": null,
	   "metadata": {
	    "collapsed": true
	   },
	   "outputs": [],
"source": [
"//Example 2.7\n",
"//(a)what are the surface tempratures and average temp. of wall.\n",
"//(b)calculate the maximum temp. in the wall and its location\n",
"//(c)calculate the heat flux at the surface.\n",
"//(d)if there is heat generation then what is the\n",
"// average volumetric rate of heat generation?\n",
"//Given\n",
"x=poly(0,'x')\n",
"//temprature distribution in wall\n",
"T=600+2500*x-12000*x^2\n",
"t=0.3             //m, thickness of wall\n",
"k=23.5            //W/m c  thermal conductivity of wall\n",
"\n",
"//Calculation\n",
"x1=0\n",
"T1=600+2500*x1-12000*x1^2    //C, at surface\n",
"x2=0.3\n",
"T2=600+2500*x2-12000*x2^2    //C, at x=0.3\n",
"Tav=1/t*integrate('600+2500*x-12000*x^2','x',0,0.3)\n",
"printf('At the surface x=0, the temp. is %f C\n',T1)\n",
"printf('At the surface x=0.3m, the temp. is %f C\n',T2)\n",
"printf('Rhe average temprature of the wall is %f C',Tav)\n",
"\n",
"//(b)\n",
"D=derivat(T)                  //D=dT/dx\n",
"//for maximum temprature D=0\n",
"x3=2500/24000\n",
"printf('The maximum temprature occurs at %f m\n',x3)\n",
"Tmax=600+2500*x3-12000*x3^2\n",
"printf('The maximum temp. is %f C\n',Tmax)\n",
"\n",
"//(c)\n",
"D1=2500-24000*x1         //at x=0, temprature gradient\n",
"Hf1=-k*D1                //W/m^2, heat flux at left surface(x=0)\n",
"D2=2500-24000*x2         //at x=0.3, temprature gradient\n",
"Hf2=-k*D2                //W/m^2, heat flux at right surface(x=0.3)\n",
"printf('heat flux at left surface is %f W/m^2\n',Hf1)\n",
"printf('heat flux at right surface is %f W/m^2\n',Hf2)\n",
"\n",
"//(d)\n",
"Qt=Hf2-Hf1              //W/m^2, total rate of heat loss\n",
"Vw=0.3                  //m^3/m^2, volume of wall per unit surface area\n",
"Hav=Qt/Vw               //W/m^3, average volumetric rate\n",
"printf('The average volumetric rate if heat genaration is %fW/m^3 ',Hav)   "
   ]
   }
,
{
		   "cell_type": "markdown",
		   "metadata": {},
		   "source": [
			"## Example 2.8: percentage_of_total_heat.sce"
		   ]
		  },
  {
"cell_type": "code",
	   "execution_count": null,
	   "metadata": {
	    "collapsed": true
	   },
	   "outputs": [],
"source": [
"//Example 2.8\n",
"//Derive equtations for temprature distribution.\n",
"//calculate the maximum temp. in the assembly\n",
"//Given\n",
"ka=24         //W/mC thermal conductivitiy of material A\n",
"tA=0.1        //m, thickness of A material\n",
"kB=230        //W/mC thermal conductivity of metl B\n",
"kC=200        //W/mC thermal conductivity of metal C\n",
"tB=0.1        //m, thickness of B metal\n",
"tC=0.1        //m, thickness of C metal\n",
"TBo=100       //C, outer surface temp. of B wall\n",
"TCo=100       //C, outer surface temp. of C wall\n",
"Q=2.5*10^5    //W/m^3, heat generated\n",
"//NUMERIC PART\n",
"//Temprature distribution in A, B and C\n",
"x=poly(0,'x')\n",
"TA=-5208*x^2+2175*x-74.5\n",
"TB=100+96.6*x\n",
"TC=155.2-14*x\n",
"\n",
"//position of maximum temprature x, \n",
"D=derivat(TA)\n",
"//At D=0\n",
"x=2175/10416\n",
"printf('The maximum temp. will occur at a position %f m\n',x)\n",
"x1=x\n",
"TA=-5208*x1^2+2175*x1-74.5\n",
"printf('The maximum temprature is %f C',TA)\n",
""
   ]
   }
,
{
		   "cell_type": "markdown",
		   "metadata": {},
		   "source": [
			"## Example 2.9: temprature_distributio.sce"
		   ]
		  },
  {
"cell_type": "code",
	   "execution_count": null,
	   "metadata": {
	    "collapsed": true
	   },
	   "outputs": [],
"source": [
"//Example 2.9\n",
"//(a) derive eq. for temprature distribution\n",
"//(b) find the maximum temp.\n",
"//Given\n",
"di=0.15     //m, inner diameter\n",
"do=0.3      //m, outer diameter\n",
"Q1=100*10^3  //W/,m^3,inner  rate of heat generation\n",
"Q2=40*10^3   //W/m^3, outer rate of heat generation\n",
"Ti=100       //C, temp.at inside surface\n",
"To=200       //C, temp. at outside surface\n",
"k1=30        //W/m C, thermal conductivity of material for inner layer\n",
"k2=10        //W/m C, thermal conductivity of material for outer layer\n",
"\n",
"//Calculation\n",
"//T1=364+100*log(r)-833.3*r^2          (1)\n",
"//T2=718+216*log(r)-1000*r^2           (2)\n",
"//(b)from eq. 1\n",
"r=sqrt(100/2*833.3)\n",
"printf('This radial position does not fall within layer 1.\n Therefore no temprature maximum occurs in this layer.')\n",
"//similarly\n",
"printf(' Similarly no temprature maximum occurs in  layer 2.\n')\n",
"ro=di        //m, outer boundary\n",
"Tmax=To\n",
"printf('The maximum temprature at the outer boundary is %f C',Tmax)"
   ]
   }
],
"metadata": {
		  "kernelspec": {
		   "display_name": "Scilab",
		   "language": "scilab",
		   "name": "scilab"
		  },
		  "language_info": {
		   "file_extension": ".sce",
		   "help_links": [
			{
			 "text": "MetaKernel Magics",
			 "url": "https://github.com/calysto/metakernel/blob/master/metakernel/magics/README.md"
			}
		   ],
		   "mimetype": "text/x-octave",
		   "name": "scilab",
		   "version": "0.7.1"
		  }
		 },
		 "nbformat": 4,
		 "nbformat_minor": 0
}
