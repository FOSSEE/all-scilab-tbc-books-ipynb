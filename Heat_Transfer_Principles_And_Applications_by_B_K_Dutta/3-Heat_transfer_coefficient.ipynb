{
"cells": [
 {
		   "cell_type": "markdown",
	   "metadata": {},
	   "source": [
       "# Chapter 3: Heat transfer coefficient"
	   ]
	},
{
		   "cell_type": "markdown",
		   "metadata": {},
		   "source": [
			"## Example 3.10: percentage_increase_in_rate.sce"
		   ]
		  },
  {
"cell_type": "code",
	   "execution_count": null,
	   "metadata": {
	    "collapsed": true
	   },
	   "outputs": [],
"source": [
"//Example 3.10\n",
"//calcuate the percentage increase in the rate of heat transfer \n",
"//for the finned tube over the plain tube.\n",
"//Given\n",
"id=78*10^-3       //m, actual internal dia of pipe\n",
"tw=5.5*10^-3      //m, wall thickness\n",
"nl=8              //no. of longitudinal fins\n",
"tf=1.5*10^-3      //m, thickness of fin\n",
"w=30*10^-3        //m,breadth of fin\n",
"kf=45             //W/m C, thermal conductivity of fin \n",
"Tw=150            //C, wall temp.\n",
"To=28             //C, ambient temp.\n",
"h=75              //W/m^2C, surface heat transfer coefficient\n",
"\n",
"//Calculation\n",
"//from eq. 3.27\n",
"e=sqrt(2*h/(kf*tf))    \n",
"n=(1/(e*w))*tanh(e*w)  //efficiency of fin\n",
"L=1              //m, length of fin\n",
"Af=2*L*w         //m^2, area of  single fin\n",
"Atf=nl*Af          //m^2 total area of fin\n",
"Qmax=h*Atf*(Tw-To)   //W, maximum rate of heat transfer\n",
"Qa=n*Qmax           //W, actual rate of heat transfer\n",
"Afw=L*tf            //m^2, area of contact of fin with pipe wall\n",
"Atfw=Afw*nl         //m^2 , area of contact of all fin with pipe wall\n",
"ro=id/2+tw          //m, outer  pipe radius\n",
"A=2*%pi*L*ro        //m^2  area per meter\n",
"Afree=A-Atfw        //m^2, free outside area of finned pipe\n",
"//Rate of heat transfer from free area of pipe wall\n",
"Q1=h*Afree*(Tw-To)  //W, \n",
"//total rate of hewat gtransfer from finned pipe\n",
"Qtotal=Qa+Q1        //W\n",
"//Rate of heat transfer fromm unfinned pipe\n",
"Q2=h*A*(Tw-To)\n",
"per=(Qtotal-Q2)/Q2\n",
"printf('the percentage increase in the rate of heat transfer is %f percent ',per*100)"
   ]
   }
,
{
		   "cell_type": "markdown",
		   "metadata": {},
		   "source": [
			"## Example 3.11: Pre_stresed_multilayered_shell.sce"
		   ]
		  },
  {
"cell_type": "code",
	   "execution_count": null,
	   "metadata": {
	    "collapsed": true
	   },
	   "outputs": [],
"source": [
"//Example 3.11\n",
"//Calculate \n",
"//(a) Is there any thermal contact resistance at the interface between the layer?\n",
"//(b) if so calculate the contact resistance and\n",
"//express it in contact heat transfer coefficient\n",
"//(c) Calculate the temp. jump.\n",
"\n",
"//Given\n",
"id=90*10^-2       //m, internal diameter of steel\n",
"od=110*10^-2      //m, outer diameter of steel\n",
"Ti=180            //C, inside temp. of steel\n",
"To=170            //C, outside temp. of steel\n",
"k=37             //W/m C, thermal conductivity of alloy\n",
"Q=5.18*10^3       //W, Rate of heat loss\n",
"\n",
"//calculation\n",
"ri=id/2           //m, inside radius of shell\n",
"ro=od/2           //m, outside radius of shell\n",
"r_=0.5            //m, boundary between the layers\n",
"L=1               //m, length of shell\n",
"//Rate of heat transfer in the absence of contact resistance\n",
"Q1=2*%pi*L*k*(Ti-To)/(log(ro/ri))             \n",
"printf('Rate of heat transfer in the absence of contact resistance is %f KW\n',Q1/1000)\n",
"printf('The actual rate of heat loss is 5.18kW is much less than this value.\n So there is a thermal contact resistance at the interface between the layers \n')\n",
" \n",
"//(b)\n",
"Ri=(log(r_/ri)/(2*%pi*L*k))  //C/W, Resistance of inner layer\n",
"Ro=(log(ro/r_)/(2*%pi*L*k))  //C/W, Resistance of outer layer\n",
"Rc=((Ti-To)/(Q))-(Ri+Ro)     //C/W, contact resistance\n",
"printf('The contact resistance is %f C/W \n',Rc)\n",
"Ac=2*%pi*L*r_                //m^2, area of contact surface of shell\n",
"hc=1/(Ac*Rc)                 //W/m^2 c, contact heat transfer coefficient\n",
"printf('contact heat transfer coefficient is %f W/m^2 C \n',hc)\n",
"\n",
"//(c)\n",
"dt=Q/(hc*Ac)\n",
"printf('The temprature jump is %f C',dt)\n",
" "
   ]
   }
,
{
		   "cell_type": "markdown",
		   "metadata": {},
		   "source": [
			"## Example 3.12: critical_insulation_thickness.sce"
		   ]
		  },
  {
"cell_type": "code",
	   "execution_count": null,
	   "metadata": {
	    "collapsed": true
	   },
	   "outputs": [],
"source": [
"//Example 3.12\n",
"// calculate the critical thickness.\n",
"d=5.2*10^-3       //m, diameter of copper wire\n",
"ri=d/2            //inner radius of insulation\n",
"kc=0.43           //W/m C, thermal conductivity of PVC\n",
"Tw=60             //C, temp. 0f wire\n",
"h=11.35           //W/m^2 C, film coefficient\n",
"To=21             //C, ambient temp.\n",
"//calculation\n",
"Ro=kc/h           //m,critical outer radius of insulation\n",
"t=Ro-ri\n",
"printf('the critical thickness is %f mm',t*10^3)"
   ]
   }
,
{
		   "cell_type": "markdown",
		   "metadata": {},
		   "source": [
			"## Example 3.13: critical_insulation_thickness.sce"
		   ]
		  },
  {
"cell_type": "code",
	   "execution_count": null,
	   "metadata": {
	    "collapsed": true
	   },
	   "outputs": [],
"source": [
"//Example 3.13\n",
"// calculate the critical  insulation thickness.\n",
"d=15*10^-2        //m, length of steam main\n",
"t=10*10^-2        //m, thickness  of insulation\n",
"ki=0.035          //W/m C, thermal conductivity of insulation\n",
"h=10              //W/m^2 C, heat transfer coefficient\n",
"//calculation\n",
"//from eq. 3.29\n",
"ro=ki/h\n",
"printf('ro= %f cm \n',ro*10^3)\n",
"printf('Radius of bare pipe is larger than outer radius of insulation \n So critical  insulation thickness does not exist ')\n",
""
   ]
   }
,
{
		   "cell_type": "markdown",
		   "metadata": {},
		   "source": [
			"## Example 3.14: optimum_thickness.sce"
		   ]
		  },
  {
"cell_type": "code",
	   "execution_count": null,
	   "metadata": {
	    "collapsed": true
	   },
	   "outputs": [],
"source": [
"//Example 3.14\n",
"//calculate  the optimum thickness.\n",
"//Given\n",
"Ti=172           //C, saturation temp.\n",
"To=20            //C, ambient temp.\n",
"Cs=700           //per ton, cost of steam\n",
"Lv=487           //kcal/kg, latent heat of steam\n",
"ho=10.32         //kcal/h m^2 C, outer heat transfer coefficient\n",
"kc=0.031         //W/m C, thermal conductivity of insulation\n",
"n=5              //yr, service life of insulation\n",
"i=0.18          //Re/(yr)(Re), interest rate\n",
"//Calculation\n",
"di=0.168         //m, inner diameter of insulation\n",
"//Cost of insulation\n",
"Ci=17360-(1.91*10^4)*di         //Rs/m^3\n",
"Ch=Cs/(1000*Lv)                 //Rs/cal, cost of heat energy in steam\n",
"sm=1/(1+i)+1/(1+i)^2+1/(1+i)^3+1/(1+i)^4+1/(1+i)^n\n",
"//from eq. 3.33\n",
"ri=di/2         //m  inner radius of insulation\n",
"L=1             //m, length of pipe\n",
"//Pt=Ch*sm*2*%pi*ri*L*( 1/(((ri/kc)*('log(ro/ri)'))+ri/(ho*ro)))*7.2*10^3*(Ti-To)+%pi*(ro^2-ri^2)*L*Ci\n",
"//On differentiating , dpt/dro=-957.7*((1/ro)-(0.003/ro^2))/(log(ro)+(0.003/ro)+2.477)^2\n",
"deff('[x]=f(ro)','x=-957.7*((1/ro)-(0.003/ro^2))/(log(ro)+(0.003/ro)+2.477)^2+98960*ro')\n",
"ro=fsolve(0.1,f)\n",
"t=ro-ri\n",
"printf('The optimum insulation thickness is %f mm',t*1000)"
   ]
   }
,
{
		   "cell_type": "markdown",
		   "metadata": {},
		   "source": [
			"## Example 3.1: CALCULATE_TIME_REQUIRED.sce"
		   ]
		  },
  {
"cell_type": "code",
	   "execution_count": null,
	   "metadata": {
	    "collapsed": true
	   },
	   "outputs": [],
"source": [
"//Example 3.1\n",
"//calculate the time required for reduction .\n",
"//Given\n",
"di=0.06        //m,initial diameter of iceball\n",
"T1=30          //C, room temp.\n",
"T2=0           //ice ball temp.\n",
"h=11.4         //W/m^2 C, heat transfer coefficient\n",
"x=40           //% for reduction\n",
"rho=929        //kg/m^3, density of ice\n",
"Lv=3.35*10^5   //j/kg, latent heat of fusion\n",
"// m=4/3*%pi*r^3      //kg,mass of ice ball\n",
"//rate of melting=-dm/dt\n",
"//rate of heat adsorption =-4*%pi*r^2*rho*dr/dt*lamda\n",
"//at initial time t=0\n",
"C1=di/2        //constant of integration\n",
"//if the volume of the ball is reduced by 40% of the original volume \n",
"r=((1-x/100)*(di/2)^3)^(1/3)\n",
"//time required for melting using eq. 1\n",
"t=(di/2-r)/(h*(T1-T2)/(rho*Lv))\n",
"printf('The time required for melting the ice is %f s',t)"
   ]
   }
,
{
		   "cell_type": "markdown",
		   "metadata": {},
		   "source": [
			"## Example 3.2: TIME_FOR_HEATING_COIL.sce"
		   ]
		  },
  {
"cell_type": "code",
	   "execution_count": null,
	   "metadata": {
	    "collapsed": true
	   },
	   "outputs": [],
"source": [
"//Example 3.2\n",
"//calculate the time required for the  heating coil.\n",
"//Given\n",
"P=1*10^3           //W, electrical heating capacity\n",
"V=220              //V, applied voltage\n",
"d=0.574*10^-3      //m, diameter of wire\n",
"R=4.167            //ohm, electrical resistance\n",
"Tr=21              //C, room temp.\n",
"h=100              //W/m^2 C, heat transfer coefficient\n",
"rho=8920           //kg/m^3, density of wire\n",
"cp=384             //j/kg C, specific heat of wire\n",
"percent=63         //%, percent of the steady state\n",
"//Calculation\n",
"R_=V^2/P           //ohm, total electrical resistance\n",
"l=R_/R             //m, length of wire\n",
"A=%pi*d*l          //m^2, area of wire\n",
"Tf=P/(h*A)+Tr      //final temp.\n",
"dtf=Tf-Tr          //C. steady state temp. rise\n",
"//temp. of wire after 63% rise\n",
"T=Tr+(percent/100)*dtf   \n",
"//rate of heat accumulation on the wire\n",
"//d/dt(m*cp*T)                       (1)\n",
"//rate of heat loss\n",
"//h*A*(T-Tr).........................(2)\n",
"//heat balance eq.       (1)=(2)\n",
"m=%pi*d^2*l*rho/4  //kg. mass of wire\n",
"//integrating heat balance eq.\n",
"t=integrate('1/((P/(m*cp))-((h*A)/(m*cp))*(T-Tr))','T',21,322)\n",
"printf('The time required for the heating coil is %f s',t)"
   ]
   }
,
{
		   "cell_type": "markdown",
		   "metadata": {},
		   "source": [
			"## Example 3.3: Steady_State_temprature_distributio.sce"
		   ]
		  },
  {
"cell_type": "code",
	   "execution_count": null,
	   "metadata": {
	    "collapsed": true
	   },
	   "outputs": [],
"source": [
"//Example 3.3\n",
"//(a)calculate the heat transfer coefficient\n",
"//(b)what can be said about the same at the other surface of wall.\n",
"//(c)what is average volumetric rate of heat generation\n",
"//given\n",
"t=0.2           //m, thickness of wall\n",
"x=poly(0,'x')   //position in the wall\n",
"T=250-2750*x^2  //C, steady state temp. distribution\n",
"k=1.163         //W/m C, thermal conductivity of material\n",
"Ta=30           //C, ambient temp\n",
"\n",
"//calculation\n",
"//(a) at x=0.2   let T=T1 at x=x1\n",
"x1=0.2\n",
"T1=250-2750*x1^2\n",
"//let     D=dT/dx\n",
"D=derivat(T)\n",
"D=-5500*0.2     //C/m, at x=0.2\n",
"h=-k*D/(T1-Ta)\n",
"printf(' the heat transfer coefficient is %f W/m^2 C, \n',h)\n",
"\n",
"//(b)at other surface of wall, x=0=x2 (say)\n",
"x2=0\n",
"a=-5500*0\n",
"printf('So there is no heat flow at other surface of the wall \n')\n",
"\n",
"//(c)\n",
"A=1            //m^2, area\n",
"Vw=A*x1        //m^3, volume of wall\n",
"HL=h*(T1-Ta)   //W, heat loss from unit area\n",
"Vav=HL/x1\n",
"printf('average volumetric rate of heat generation is %f W/m^3',Vav)"
   ]
   }
,
{
		   "cell_type": "markdown",
		   "metadata": {},
		   "source": [
			"## Example 3.4: THICKNESS_OF_INSULATION.sce"
		   ]
		  },
  {
"cell_type": "code",
	   "execution_count": null,
	   "metadata": {
	    "collapsed": true
	   },
	   "outputs": [],
"source": [
"clc;\n",
"clear;\n",
"//Example 3.4\n",
"//calculate the thickness of insulation\n",
"//and the rate of heat loss per meter length of pipe.\n",
"//Given\n",
"id=97*10^-3         //m,internal diameter of steam pipe\n",
"od=114*10^-3        //m,outer diameter of steam pipe\n",
"pr=30               //bar, absolute pressure os saturated steam\n",
"Ti=234                //C, temp. at 30 bar absolute pressure\n",
"Ts=55               //C, skin temp.\n",
"To=30               //C, ambient temp.\n",
"kc=0.1              //W/m C, thermal conductivity of wool\n",
"kw=43               //W/m C, thermal conductivity of pipe\n",
"h=8                 //W/m^2 C, external air film coefficient \n",
"L=1                 //m, assume length\n",
"//Calculation\n",
"ri=id/2             //m, \n",
"r1=(114*10^-3)/2        //m,outer radius of steam pipe\n",
"\n",
"//thermal resistance of insulation\n",
"//Ri=log(ro/r1)/(2*%pi*L*kc)\n",
"//Thermal resistance of pipe wall\n",
"Rp=log(r1/ri)/(2*%pi*L*kw)\n",
"//RT=Ri+Rp\n",
"DF=Ti-Ts            //C, driving force\n",
"//At steady state the rate of heat flow through the insulation\n",
"// and the outer air film are equ\n",
"\n",
"//by trial and error method :\n",
"deff('[x]=f(ro)','x=(Ti-Ts)/(log(ro/r1)/kc+log(r1/ri)/kw)-(h*ro*(Ts-To))')\n",
"ro=fsolve(0.1,f)\n",
"th=ro-r1        //m, required thickness of insulation\n",
"Q=2*%pi*ro*h*L*(Ts-To)\n",
"printf('The rate of heat loss is %f W,',Q)"
   ]
   }
,
{
		   "cell_type": "markdown",
		   "metadata": {},
		   "source": [
			"## Example 3.5: 8_percent_SOLUTION_OF_ALCOHOL.sce"
		   ]
		  },
  {
"cell_type": "code",
	   "execution_count": null,
	   "metadata": {
	    "collapsed": true
	   },
	   "outputs": [],
"source": [
"//Example 3.5\n",
"//calculate\n",
"//(a)effective thickness of air and liquid films.\n",
"//(b)the overall heat transfer coefficient based on i.d of pipe.\n",
"//(c)the overall heat transfer coefficient based on od of insulation.\n",
"//(d)the percentage of total resistance  offered by air film.\n",
"//(e)the rate of heat loss per meter length of pipe.\n",
"//(f)insulation skin temp.\n",
"\n",
"//given\n",
"w1=8            //%, solubility of alcohol\n",
"w2=92           //%, solubility of water\n",
"k1=0.155        //W/m C, thermal conductivity of alcohol\n",
"k2=0.67         //W/m C thermal conductivity of water\n",
"ka=0.0263       //W/m C thermal conductivity of air\n",
"kw=45           //W/m Cthermal conductivity of pipe wall\n",
"ki=0.068        //W/m C , thermal cond. of glass\n",
"id=53*10^-3     //m, internal diameter of pipe\n",
"od=60*10^-3     //m, outer  diameter of pipe\n",
"t=0.04          //m, thickness of insulation\n",
"hi=800          //W/m^2 C, liquid film coefficient\n",
"ho=10           //W/m^2 C, air film coefficient\n",
"L=1             //m, length of pipe\n",
"T1=75           //C, initial temp.\n",
"T2=28           //C, ambient air temp.\n",
"//calculation\n",
"//(a)\n",
"km=(w1/100)*k1+(w2/100)*k2-0.72*(w1/100)*(w2/100)*(-(k1-k2))\n",
"deli=km/hi     //m, effective thickness of liquid film\n",
"delo=ka/ho     //m, effective thickness of air film\n",
"printf('effective thickness of air  is %f mm',deli*10^3)\n",
"printf('effective thickness of liquid films is %f mm.',delo*10^3)\n",
"//(b)\n",
"Ai=2*%pi*id/2*L      //m^2, inside area\n",
"ri=id/2              //m,inside radius of pipe\n",
"r_=od/2              //m, outside radius of pipe\n",
"ro=r_+t              //m, outer radius of insulation\n",
"Ao=2*%pi*ro*L        //m^2, outer area\n",
"//from eq. 3.11, overall heat transfer coefficient\n",
"Ui=1/(1/hi+(Ai*log(r_/ri))/(2*%pi*L*kw)+(Ai*log(ro/r_))/(2*%pi*L*ki)+Ai/(Ao*ho))\n",
"printf('the overall heat transfer coefficient based on i.d of pipe is %f W/m^2 C',Ui)\n",
"\n",
"//(c)\n",
"//frim eq. 3.14\n",
"Uo=Ui*Ai/Ao  \n",
"printf('the overall heat transfer coefficient based on od of pipe is %f W/m^2 C',Uo)\n",
"\n",
"//(d)\n",
"R=1/(Ui*Ai)          //C/W, total heat transfer resistance\n",
"Rair=1/(Ao*ho)       //C/W, heat transfer resistance of air film\n",
"p=Rair/R\n",
"printf('the percentage of total resistance  offered by air film. is %f percent',p*100)\n",
"\n",
"//(e)\n",
"Q=Ui*Ai*(T1-T2)\n",
"printf('Rate of heat loss is %f W',Q)\n",
"\n",
"//(f)\n",
"Ts=Uo*Ao*(T1-T2)/(ho*Ao)+T2\n",
"printf('insulation skin temp.is %f C',Ts)"
   ]
   }
,
{
		   "cell_type": "markdown",
		   "metadata": {},
		   "source": [
			"## Example 3.6: Insulated_flat_headed.sce"
		   ]
		  },
  {
"cell_type": "code",
	   "execution_count": null,
	   "metadata": {
	    "collapsed": true
	   },
	   "outputs": [],
"source": [
"//Example 3.6\n",
"//calcu;ate the temp. of the liquid entering the bank.\n",
"//also calculate the insulation skin temp. at the flat\n",
"//top surface and at the cylindrical surface.\n",
"//Given\n",
"id=1.5                //m, internal diameter of tank\n",
"h=2.5                 //m, height of tank\n",
"t1=0.006              //m, thickness of wall\n",
"t2=0.04               //m, thickness of insulation\n",
"Ta=25                 //C, ambient temp.\n",
"T1=80                 //C, outlet temp. of liquid\n",
"cp=2000               //j/kg C, specific heat of liquid\n",
"FR=700/3600           //KG/s, Liquid flow rate\n",
"\n",
"//Calculation\n",
"ri=id/2+t1            //m, inner radius of insulation\n",
"ro=ri+t2              //m, outer radius of insulation\n",
"ki=0.05               //W/m C, thermal conductivity of insulation\n",
"hc=4                  //W/m^2 C, heat transfer coefficient at cylindrical surface\n",
"ht=5.5                //W/m^2 C, heat transfer coefficient at flat surface\n",
"l=h+t1+t2             //m, height of the top of insulation\n",
"//fromm eq. 3.10\n",
"//heat transfer resistance of cylindrical wall\n",
"Rc=log(ro/ri)/(2*%pi*l*ki)+1/(2*%pi*ro*l*hc)\n",
"//heat transfer resistance of flat insulated top surface\n",
"Ri=(1/(%pi*ro^2))*((ro-ri)/ki+1/ht)\n",
"tdf=T1-Ta             //C, temp. driving force\n",
"Q=tdf/Rc + tdf/Ri       //W, total rate of heat loss\n",
"Tt=Q/(FR*cp)+T1        //C, inlet temp. of liquid\n",
"printf('Inlet liquid temp. should be %f C \n',Tt)\n",
"Q1=tdf/Ri   //W, rate of heat loss from flat surface\n",
"T1=Q1/(%pi*ro^2*ht)+Ta    \n",
"printf(' the insulation skin temp. at the flat top surface is %f C \n',T1)\n",
"//similarly\n",
"T2=38\n",
"printf('similarly  the insulation skin temp at cylindrical surface is %f C',T2)"
   ]
   }
,
{
		   "cell_type": "markdown",
		   "metadata": {},
		   "source": [
			"## Example 3.7: rate_of_heat_transfer.sce"
		   ]
		  },
  {
"cell_type": "code",
	   "execution_count": null,
	   "metadata": {
	    "collapsed": true
	   },
	   "outputs": [],
"source": [
"//Example 3.7\n",
"//what is the heat imput to the boiling.\n",
"//Given\n",
"id=2.5*10^-2              //m, internal diameter of glass tube\n",
"t=0.3*10^-2               //m, thickness of wall\n",
"l=2.5                     //m, length of nichrome wire\n",
"L=0.12                    //m, length of steel covered with heating coil\n",
"Re=16.7                   //ohm, electrical resistance\n",
"ti=2.5*10^-2              //m, thickness of layer of insulation\n",
"kg=1.4                    //W/m C, thermal conductivity of glass\n",
"ki=0.041                  //W/m C, thermal conductivity of insulation\n",
"T1=91                     //C, boiling temp. of liquid\n",
"T2=27                     //C, ambient temp.\n",
"ho=5.8                    //W/m ^2 C outside air film coefficient\n",
"V=90                      //V,  voltage\n",
"\n",
"//Calculation\n",
"Rc=Re*l                   //ohm, resistance of heating coil\n",
"Q=V^2/Rc                  //W, rate of heat generation\n",
"ri=id/2                   //m, inner radius of glass tube\n",
"r_=ri+t                   //m, outer radius of glass tube\n",
"ro=r_+ti                   //m,outer radius of insulation\n",
"//heat transfer resistance of glass wall\n",
"Rg=log(r_/ri)/(2*%pi*L*kg)\n",
"//combined resistance of insulation and outer air film\n",
"Rt=log(ro/r_)/(2*%pi*L*ki)+1/(2*%pi*ro*L*ho)\n",
"//Rate of heat input to the boiling liquid in steel=Q1=(Ts-T1)/Rg\n",
"//Rate of heat loss through insulation ,Q2=(Ts-To)/(Rt)\n",
"//Q1+Q2=Q\n",
"Ts=(Q+ T1/Rg +T2/Rt)/(1/Rg +1/Rt)\n",
"Q1=(Ts-T1)/Rg\n",
"Q2=Q-Q1\n",
"printf('the heat imput to the boiling.is %f W',Q1)"
   ]
   }
,
{
		   "cell_type": "markdown",
		   "metadata": {},
		   "source": [
			"## Example 3.8: A_10_gauge_electrical_copper.sce"
		   ]
		  },
  {
"cell_type": "code",
	   "execution_count": null,
	   "metadata": {
	    "collapsed": true
	   },
	   "outputs": [],
"source": [
"//Example 3.8\n",
"//determine(a) maximum allowable current\n",
"//(b) the corresponding remp. at the centre of wire and \n",
"//at the outer  surface of insulation\n",
"//Given\n",
"ri=1.3*10^-3            //m, radius of 10 gauge wire\n",
"t=1.3*10^-3             //m, thickness of rubber insulation\n",
"Ti=90                   //C, temp. 0f insulation\n",
"To=30                   //C, ambient temp.\n",
"h=15                    //W/m^2 C, air film coefficient\n",
"km=380                  //W/m C, thermal cond. of copper\n",
"kc=0.14                 //W/m C, thermal cond. of rubber(insulation)\n",
"Rc=0.422/100            //ohm/m, eletrical resistance of copper wire\n",
"\n",
"//NUMERIC CALCULATIONS\n",
"Tcmax=90                //X, the maximum temp. in insulation\n",
"ro=ri+t                 //m, outside radius of 10 gauge wire\n",
"Sv=((Tcmax-To)*(2*kc/ri^2))/(log(ro/ri)+kc/(h*ro))\n",
"//from eq.(xii), Sv=I^2*rho/(%pi*ri^2)\n",
"I=(%pi*ri^2*Sv/Rc)^0.5      //A, Current strength\n",
"printf('maximum allowable current is %f A\n',I)\n",
"\n",
"//(b) at r=0\n",
"Tm=To+(ri^2*Sv/2)*(1/km+(log(ro/ri))/kc+1/(h*ro))\n",
"printf('remp. at the centre of wire is %f C\n',Tm)\n",
"//at r=ro\n",
"Tc=30+(ri^2*Sv/(2*kc))*(kc/(h*ro))\n",
"printf('The temprature at the outer surface of insulation is %f C',Tc)"
   ]
   }
,
{
		   "cell_type": "markdown",
		   "metadata": {},
		   "source": [
			"## Example 3.9: Heat_generating_slab_A.sce"
		   ]
		  },
  {
"cell_type": "code",
	   "execution_count": null,
	   "metadata": {
	    "collapsed": true
	   },
	   "outputs": [],
"source": [
"//Example 3.9\n",
"//(a) calculate the temp. at the surface of slab A.\n",
"//what is the maximum Temp. in A.\n",
"//(b)determine the temp. gradient at both the \n",
"//surfaces of each of the slabs A,B  and C.\n",
"//(c)calculate the value of h1 & h2.\n",
"\n",
"//Given\n",
"tA=0.25          //m, thickness of slab A\n",
"tB=0.1           //m, thickness of slab B\n",
"tC=0.15          //m, thickness of slab C\n",
"kA=15            //W/m C, thermal comductivity of slab A\n",
"kB=10            //W/m C, thermal comductivity of slab B\n",
"kC=30            //W/m C, thermal comductivity of slab C\n",
"x=poly(0,'x')    //m, distance from left surface of B\n",
"//Temprature distribution in slab A\n",
"TA=90+4500*x-11000*x^2\n",
"T1=40            //C, fluid temp.\n",
"T2=35            //C, medium temp.\n",
"\n",
"//calculation\n",
"//(a)\n",
"x1=tB           \n",
"TA1=90+4500*x1-11000*x1^2\n",
"//similarly at the right surface\n",
"x2=tA+tB\n",
"TA2=90+4500*x2-11000*x2^2\n",
"//let dTA/dx=D\n",
"D=derivat(TA)\n",
"D=0              //for maximum temp.\n",
"x3=4500/22000\n",
"TAmax=90+4500*x3-11000*x3^2\n",
"printf('At x=0.1 the temp. at the surface of slab A  is %f C\n',TA1)\n",
"printf('At x=0.35 the temp. at the surface of slab A  is %f C\n',TA2)\n",
"printf(' the maximum Temp. in A occurs at  %f m\n',x3)\n",
"printf(' the maximum Temp. in A is %f TAmax \n',TAmax)\n",
"\n",
"//(b)\n",
"//At the interface 2\n",
"D1=4500-2*11000*x1       //C/W, D1=dTA/dx, at x=0.1\n",
"//At the interface 3\n",
"D2=4500-2*11000*x2       //D12=dTA/dx, at x=0.35\n",
"//Temprature gradient in slab B and C\n",
"//by using the continuity of heat flux at interface (2)\n",
"D3=-kA*D1/(-kB)          //D3=dTB/dx,  at x=0.1\n",
"//at interface (1)\n",
"D4=D3                    //D4=dTB/dx  at x=0\n",
"//similarly \n",
"D5=-1600                 //C/W, dTB/dx, x=0.35\n",
"D6=D5                    //at interface 4\n",
"printf('temp. gradient at interface 2 of the slabs A is %f C/W\n',D1)\n",
"printf('temp. gradient at interface 3 of the slabs A is %f C/W\n',D2)\n",
"printf('temp. gradient at interface 2 of the slabs B is %f C/W\n',D3)\n",
"printf('temp. gradient at interface 1 of the slabs B is %f C/W\n',D4)\n",
"printf('temp. gradient at interface 3 of the slabs Cis %f C/W\n',D5)\n",
"printf('temp. gradient at interface 4 of the slabs C is %f C/W\n',D6)\n",
"\n",
"//(c)\n",
"//from D3=3450  and TB=beeta1*x+beeta2\n",
"beeta1=3450\n",
"beeta2=85\n",
"x=0\n",
"TB=beeta1*x+beeta2\n",
"//similary\n",
"TC=877.5-1600*x\n",
"h1=-kB*D4/(T1-TB)\n",
"//similarly\n",
"h2=1129\n",
"printf('The  heat transfer coefficient at one surface of solid fluid interface is %fW/m^2 C\n',h1)\n",
"printf('The  heat transfer coefficient at other surface of solid fluid interface is %fW/m^2 C',h2)\n",
"\n",
""
   ]
   }
],
"metadata": {
		  "kernelspec": {
		   "display_name": "Scilab",
		   "language": "scilab",
		   "name": "scilab"
		  },
		  "language_info": {
		   "file_extension": ".sce",
		   "help_links": [
			{
			 "text": "MetaKernel Magics",
			 "url": "https://github.com/calysto/metakernel/blob/master/metakernel/magics/README.md"
			}
		   ],
		   "mimetype": "text/x-octave",
		   "name": "scilab",
		   "version": "0.7.1"
		  }
		 },
		 "nbformat": 4,
		 "nbformat_minor": 0
}
