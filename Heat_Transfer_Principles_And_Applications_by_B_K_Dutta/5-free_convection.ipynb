{
"cells": [
 {
		   "cell_type": "markdown",
	   "metadata": {},
	   "source": [
       "# Chapter 5: free convection"
	   ]
	},
{
		   "cell_type": "markdown",
		   "metadata": {},
		   "source": [
			"## Example 5.1: Rate_of_heat_loss.sce"
		   ]
		  },
  {
"cell_type": "code",
	   "execution_count": null,
	   "metadata": {
	    "collapsed": true
	   },
	   "outputs": [],
"source": [
"//Example 5.1\n",
"//Calculate the rate of heat loss .\n",
"//Given\n",
"T1=65                    //C, furnace temp.\n",
"T2=25                    //C, ambient temp.\n",
"h=1.5                    //m, height of door\n",
"w=1                      //m, width of door\n",
"Tf=(T1+T2)/2             //c, average air film temp.\n",
"//Properties of air at Tf\n",
"Pr=0.695                 //Prandtl no.\n",
"mu=1.85*10^-5            //m^2/s, viscosity\n",
"beeta=1/(Tf+273)         //K^-1. coefficient of volumetric expension\n",
"k=0.028                  //W/m C, thermal conductivity\n",
"g=9.8                    //m/s^2, gravitational constant\n",
"Grl=g*beeta*(T1-T2)*h^3/(mu^2)        //Grashof no.\n",
"Ral=Grl*Pr                            //Rayleigh no.\n",
"//Nusslet no.\n",
"Nul=(0.825+(0.387*(Ral)^(1/6))/(1+(0.492/Pr)^(9/16))^(8/27))^2 \n",
"hav=Nul*k/h              //average heat transfer coefficient\n",
"Ad=h*w                   //m^2, door area\n",
"dt=T1-T2                 //temp. driving force\n",
"q=hav*Ad*dt              //W,rate of heat loss\n",
"printf('The rate of heat loss is %f W',q)"
   ]
   }
,
{
		   "cell_type": "markdown",
		   "metadata": {},
		   "source": [
			"## Example 5.2: steady_state_temprature.sce"
		   ]
		  },
  {
"cell_type": "code",
	   "execution_count": null,
	   "metadata": {
	    "collapsed": true
	   },
	   "outputs": [],
"source": [
"//Example 5.2\n",
"//Calculate the steady state temp. of the plate.\n",
"//Given\n",
"T1=60                    //C, plate temp.\n",
"T2=25                    //C, ambient temp.\n",
"h=1\n",
"w=1                      //m, width of door\n",
"q=170                    //W, rate of heat transfer\n",
"Tf=(T1+T2)/2             //c, average air film temp.\n",
"//Properties of air at Tf\n",
"Pr=0.7                 //Prandtl no.\n",
"mu=1.85*10^-5            //m^2/s, viscosity\n",
"beeta=1/(Tf+273)         //K^-1. coefficient of volumetric expension\n",
"k=0.028                  //W/m C, thermal conductivity\n",
"g=9.8                    //m/s^2, gravitational constant\n",
"\n",
"//Calculation\n",
"A=h*w                    //m^2, plate area\n",
"P=2*(h+w)                //m,perimeter of plate \n",
"L=A/P                    //m characteristic length\n",
"Grl=g*beeta*(T1-T2)*L^3/(mu^2)      //Grashof no.\n",
"Ral=Grl*Pr                          //Rayleigh no.\n",
"//Nusslet no.\n",
"Nul=0.54*(Ral)^(1/4)                //Nusslet no.\n",
"hav=Nul*k/L                        //average heat transfer coefficient\n",
"Ts=q/(hav*A)+T2\n",
"printf('the steady state temp. of the plate is %f C',Ts)"
   ]
   }
,
{
		   "cell_type": "markdown",
		   "metadata": {},
		   "source": [
			"## Example 5.3: CALCULATE_TIME_REQUIRED.sce"
		   ]
		  },
  {
"cell_type": "code",
	   "execution_count": null,
	   "metadata": {
	    "collapsed": true
	   },
	   "outputs": [],
"source": [
"//Example 5.3\n",
"//Calculate the time required for cooling of the rod.\n",
"//Given\n",
"d=0.0254                  //m, diameter of steel rod\n",
"l=0.4                     //m, length of rod\n",
"T1=80                     //C, initial temp.\n",
"T2=30                     //C, ambient temp.\n",
"T3=35                     //c, temp. after cooling\n",
"rho=7800                  //kg/m^3 ,density of steel rod\n",
"cp=0.473                  //kj/kg C. specific heat\n",
"\n",
"//Calculation\n",
"m=%pi/4*d^2*l*rho         //kg. mass of cylinder\n",
"A=%pi*d*l                 //m^2, area of cylinder\n",
"dt=T1-T2                  //c, instantaneous temp. difference\n",
"h=1.32*(dt/d)^0.25        //W/m^2 C, heat transfer coefficient\n",
"i=integrate('1/(T^(5/4))','T',5,50)\n",
"t=i/(3.306*A/(m*cp*10^3))\n",
"printf('The required time for cooling is %f hr',t/3600)"
   ]
   }
,
{
		   "cell_type": "markdown",
		   "metadata": {},
		   "source": [
			"## Example 5.4: Rate_of_heat_loss.sce"
		   ]
		  },
  {
"cell_type": "code",
	   "execution_count": null,
	   "metadata": {
	    "collapsed": true
	   },
	   "outputs": [],
"source": [
"//Example 5.4\n",
"//Calculate the rate of heat loss by free convection per meter length of pipe.\n",
"//given\n",
"id=78*10^-3                    //m, internal diameter\n",
"od=89*10^-3                    //m, outer diameter\n",
"Pg=15                          //kg/cm^2, gauge pressure\n",
"t=2*10^-2                      //m, thickness of preformed mineral fibre\n",
"k=0.05                         //W/m C. thermal conductivity\n",
"Ta=25                          //C, ambient air temp.\n",
"Pr=0.705                       //Prandtl no.\n",
"//assume\n",
"Ts=50                          //C, skin temp.\n",
"l=1                            //m, length\n",
"Ti=200.5                        //C, initial temp.\n",
"rs=od/2+t                      //m, outer radius of insulation\n",
"ri=od/2                        //m, inner radius of insulation\n",
"//Rate of heat transfer through insulation per meter length of pipe\n",
"Q=2*%pi*l*k*(Ti-Ts)/(log(rs/ri))           //W\n",
"//properties of air at taken at the mean film temp.\n",
"Tf=(Ta+Ts)/2                  //C\n",
"mu=1.76*10^-5                 //m^2/s. viscosity\n",
"beeta=(1/(Tf+273))            //K^-1, coefficient of volumetric expansion\n",
"k1=0.027                      //W/m C, thermal conductivity\n",
"ds=2*rs                       //m, outer dia. of insulated pipe\n",
"g=9.8                         //m/s^2, gravitational constant\n",
"Grd=g*beeta*(Ts-Ta)*ds^3/(mu^2)        //Grashof no.\n",
"Rad=Grd*Pr                             //Rayleigh no.\n",
"//from eq. 5.9\n",
"//Nusslet no. \n",
"Nu=(0.60+(0.387*(Rad)^(1/6))/(1+(0.559/Pr)^(9/16))^(8/27))^2 \n",
"hav=Nu*k1/ds                 //W/ m^2 C, average heat transfer coefficient\n",
"Ts=(Q/(%pi*ds*l*hav))+Ta     //C, skin temp.\n",
"//revised calculation by assuming\n",
"Ts1=70                      //C, skin temp.\n",
"//Rate of heat transfer through insulation\n",
"Q1=2*%pi*l*k*(Ti-Ts1)/(log(rs/ri))\n",
"Tf1=(Ta+Ts1)/2                //C, average aie mean film temp.\n",
"mu1=1.8*10^-5                  //m^2/s. viscosity\n",
"beeta1=(1/(Tf1+273))            //K^-1, coefficient of volumetric expansion\n",
"k1=0.0275                     //W/m C, thermal conductivity\n",
"Pr1=0.703                     //Prandtl no.\n",
"Grd1=g*beeta1*(Ts1-Ta)*ds^3/(mu1^2)        //Grashof no.\n",
"Rad=Grd1*Pr1                               //Rayleigh no.\n",
"//from eq. 5.9\n",
"// average heat transfer coefficient, in //W/ m^2 C,\n",
"hav1=(0.60+(0.387*(Rad)^(1/6))/(1+(0.559/Pr)^(9/16))^(8/27))^2*(k1/ds)\n",
"Ts2=(Q1/(%pi*ds*l*hav1))+Ta\n",
"//again assume skin temp.=74\n",
"Ts2=74                      //C, assumed skin temp.\n",
"Q3=2*%pi*l*k*(Ti-Ts2)/(log(rs/ri))\n",
"printf('the rate of heat loss by free convection per meter length of pipe. is %f W',Q3)"
   ]
   }
,
{
		   "cell_type": "markdown",
		   "metadata": {},
		   "source": [
			"## Example 5.5: thickness_of_insulation.sce"
		   ]
		  },
  {
"cell_type": "code",
	   "execution_count": null,
	   "metadata": {
	    "collapsed": true
	   },
	   "outputs": [],
"source": [
"//Example 5.5\n",
"//Calculate , what thickness of insulation should be used \n",
"//so that the insulation skin temp. does not exceed 65 C\n",
"//Given\n",
"Ts=65                       //C, skin temp.\n",
"To=30                       //C, ambient temp.\n",
"Tw=460                      //C, wall temp.\n",
"Tf=(Ts+To)/2                  //C,mean air film temp.\n",
"beeta=(1/(Tf+273))                //K^-1, coefficient of volumetric expansion\n",
"g=9.8                         //m/s^2, gravitational constant\n",
"mu=1.84*10^-5               //m^2/s, viscosity\n",
"L=10.5                      //m, height of converter\n",
"di=4                        //m,diameter of converter\n",
"Pr=0.705                    //Prandtl no.\n",
"k=0.0241                    //kcal/h m C, thermal conductivity\n",
"\n",
"//Calculation\n",
"Grl=g*beeta*(Ts-To)*L^3/(mu^2)        //Grashof no.\n",
"x=di/L                      //assume di/l=x\n",
"y=35/(Grl)^(1/4)            //assume 35/(Grl)^(3/4)= y\n",
"//printf 'x>y''\n",
"//for a verticla flat plate,  from eq. 5.3\n",
"Ral=Grl*Pr                  //Rayleigh no.\n",
"//nusslet no.\n",
"Nu=(0.825+(0.387*(Ral)^(1/6))/(1+(0.496/Pr)^(9/16))^(8/27))^2\n",
"hav=Nu*k/L                 //kcal/h m^2 C, average heat transfer coefficient\n",
"//w=poly(0,'w')\n",
"//Dav=(4+(4+2*w))/2                 //average diameter\n",
"//Aav=%pi*Dav*L                     //average heat transfer area\n",
"//Qi=%pi*Dav*L*0.0602*(Tw-Ts)/w     //Rate of heat transfer through insulation\n",
"//rate of heat transfer from the outer surface of the insulation by free convection\n",
"//Qc=hav*%pi*Dav*L*(Ts-To)          \n",
"//Qi=Qc\n",
"deff('[x]=f(w)','x=%pi*(4+w)*L*0.0602*(Tw-Ts)/w-hav*%pi*(4+2*w)*L*(Ts-To)')\n",
"w=fsolve(0.1,f)\n",
"printf('The required insulation thickness is %f m',w)"
   ]
   }
,
{
		   "cell_type": "markdown",
		   "metadata": {},
		   "source": [
			"## Example 5.6: rate_of_heat_gai.sce"
		   ]
		  },
  {
"cell_type": "code",
	   "execution_count": null,
	   "metadata": {
	    "collapsed": true
	   },
	   "outputs": [],
"source": [
"//Example 5.6\n",
"//Calculate the rate of heat gain by the cooler surface.\n",
"//Given\n",
"L=1.6                  //m,height of enclosure\n",
"w=0.04                 //m, width of enclosure\n",
"b=0.8                  //m, breath\n",
"T1=22                  //C,surface temp.\n",
"T2=30                  //C, wall temp.\n",
"Tm=(T1+T2)/2           //C, Mean air temp.\n",
"Pr=0.7                 //Prandtl no.\n",
"//fpr air at 26 C\n",
"beeta=1/(Tm+273)       //K^-1. coefficient of volumetric expension\n",
"mu=1.684*10^-5         //m^2/s,  viscosity\n",
"k=0.026                //W/m C, thermal conductivity\n",
"alpha=2.21*10^-5       //m^2/s, thermal diffusity\n",
"g=9.8                  //m/s^2, gravitational constant\n",
"Raw=g*beeta*(T2-T1)*w^3/(mu*alpha)        //Rayleigh no.\n",
"Nuw=0.42*(Raw)^0.25*Pr^0.012*(L/w)^-0.3   //Nusslet no.\n",
"h=Nuw*k/w                                 //kcal/h m^2 C, heat transfer coefficient\n",
"q=h*(T2-T1)*(L*b)                         //W,the rate of heat transfer\n",
"printf('the rate of heat  transfer is %f W',q)"
   ]
   }
,
{
		   "cell_type": "markdown",
		   "metadata": {},
		   "source": [
			"## Example 5.7: Rate_of_heat_loss.sce"
		   ]
		  },
  {
"cell_type": "code",
	   "execution_count": null,
	   "metadata": {
	    "collapsed": true
	   },
	   "outputs": [],
"source": [
"//example 5.7\n",
"//Calculate the rate of heat loss by the combined free and forced convection.\n",
"//Given\n",
"Ts=60              //C, surface temp\n",
"To=30              //C, bulk temp.\n",
"d=0.06             //m, diameter  of pipe\n",
"l=1                //m, length\n",
"Tm=(Ts+To)/2\n",
"//for air at Tm\n",
"rho=1.105                     //kg/m^3, density\n",
"cp=0.24                       //kcal/kg C. specific heat\n",
"mu=1.95*10^-5                 //kg/m s. viscosity\n",
"P=0.7                         //Prandtl no. \n",
"kv=1.85*10^-5                     //m^2/s, kinetic viscosity\n",
"k=0.0241                      //kcal/f m C, thermal conductivity\n",
"beeta=(1/(Tm+273))                  //K^-1. coefficient of volumetric expension\n",
"V=0.3                         //m/s, velocity\n",
"g=9.8                         //m/s^2, gravitational constant\n",
"//Calculation of nusslet no.\n",
"Rad=g*beeta*(Ts-To)*d^3*P/(kv^2)      //Rayleigh no.\n",
"//from eq. 5.9\n",
"Nufree=(0.60+(0.387*Rad^(1/6))/(1+(0.559/P)^(9/16))^(8/27))^2\n",
"//calculation of forced convection nusslet no.\n",
"//from eq. 4.19\n",
"Re=d*V/(kv)\n",
"Nuforced=0.3+(0.62*Re^(1/2)*P^(1/3)/(1+(0.4/P)^(2/3))^(1/4))*(1+(Re/(2.82*10^5))^(5/8))^(4/5)\n",
"Nu=(Nuforced^3+Nufree^3)^(1/3)       //nusslet no. for mixed convection\n",
"//Nu=h*d/k\n",
"h=Nu*k/d                     //kcal/h m^2 C, heat transfer corfficient\n",
"q=h*%pi*d*l*(Ts-To)\n",
"printf('the rate of heat loss per meter length is %f kcal/h',q)"
   ]
   }
],
"metadata": {
		  "kernelspec": {
		   "display_name": "Scilab",
		   "language": "scilab",
		   "name": "scilab"
		  },
		  "language_info": {
		   "file_extension": ".sce",
		   "help_links": [
			{
			 "text": "MetaKernel Magics",
			 "url": "https://github.com/calysto/metakernel/blob/master/metakernel/magics/README.md"
			}
		   ],
		   "mimetype": "text/x-octave",
		   "name": "scilab",
		   "version": "0.7.1"
		  }
		 },
		 "nbformat": 4,
		 "nbformat_minor": 0
}
