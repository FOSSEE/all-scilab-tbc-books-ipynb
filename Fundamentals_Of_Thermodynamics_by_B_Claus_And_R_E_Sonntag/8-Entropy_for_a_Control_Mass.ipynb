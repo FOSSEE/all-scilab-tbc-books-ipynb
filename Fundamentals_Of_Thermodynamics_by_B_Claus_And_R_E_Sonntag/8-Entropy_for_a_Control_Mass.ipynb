{
"cells": [
 {
		   "cell_type": "markdown",
	   "metadata": {},
	   "source": [
       "# Chapter 8: Entropy for a Control Mass"
	   ]
	},
{
		   "cell_type": "markdown",
		   "metadata": {},
		   "source": [
			"## Example 8.10: Determiining_the_entropy_generated.sce"
		   ]
		  },
  {
"cell_type": "code",
	   "execution_count": null,
	   "metadata": {
	    "collapsed": true
	   },
	   "outputs": [],
"source": [
"//example 10\n",
"//Determiining the entropy generated\n",
"clear\n",
"clc\n",
"B=4 //COP of air conditioner\n",
"W=10 //power input of air conditioner in kW\n",
"Qh=B*W //in kW\n",
"Ql=Qh-W //in kW\n",
"Thigh=323 //in Kelvin\n",
"Tlow=263 //in Kelvin\n",
"SgenHP=(Qh*1000/Thigh)-(Ql*1000/Tlow) //in W/K\n",
"Tl=281 // in K\n",
"Th=294 //in K\n",
"SgenCV1=Ql*1000/Tlow-Ql*1000/Tl //in W/K\n",
"SgenCV2=Qh*1000/Th-Qh*1000/Thigh //in W/K\n",
"SgenTOT=SgenCV1+SgenCV2+SgenHP //in W/K\n",
"printf(' \n Hence,Total entropy generated is SgenTOT=%.1f W/K. \n',SgenTOT)"
   ]
   }
,
{
		   "cell_type": "markdown",
		   "metadata": {},
		   "source": [
			"## Example 8.1: Coefficient_of_performance_of_refrigerator.sce"
		   ]
		  },
  {
"cell_type": "code",
	   "execution_count": null,
	   "metadata": {
	    "collapsed": true
	   },
	   "outputs": [],
"source": [
"//example 1\n",
"//coefficient of performance of refrigerator\n",
"clear\n",
"clc\n",
"Th=60 //temperature at which heat is rejected from R-134a\n",
"Tl=0 //temperature at which heat is absorbed into the R-134a \n",
"s1=1.7262 //specific entropy at 0 Celsius\n",
"s2=s1 //process of state change from 1-2 is isentropic \n",
"s3=1.2857 //specific entropy at 60 celsius\n",
"s4=s3 //process of state change from 3-4 is isentropic\n",
"disp('if Pressure is 1400 kPa,then s=1.7360 kJ/kg-K and if P=1600 kPa,then s=1.7135 kJ/kg-K.Therefore')\n",
"P2=1400+(1600-1400)*(1.7262-1.736)/(1.7135-1.736) //pressure after compression in kPa\n",
"B=(Th+273)/(Th-Tl) //coefficient of performance of refrigerator\n",
"printf(' \n hence,pressure after compression is P2=%.3f kPa.\n',P2) \n",
"printf('\n and coefficient of performance of refrigerator is B=%.3f .\n',B)"
   ]
   }
,
{
		   "cell_type": "markdown",
		   "metadata": {},
		   "source": [
			"## Example 8.2: Heat_transfer_in_a_given_process.sce"
		   ]
		  },
  {
"cell_type": "code",
	   "execution_count": null,
	   "metadata": {
	    "collapsed": true
	   },
	   "outputs": [],
"source": [
"//example 2 \n",
"//heat transfer in a given process\n",
"clear\n",
"clc\n",
"u1=87.94 //specific internal energy of R-12 at state 1 in kJ/kg\n",
"u2=276.44 //specific internal energy of R-12 at state 2 in kJ/kg\n",
"s1=0.3357 //specific entropy at state 1 in kJ/kg-K\n",
"s2=1.2108 //specific entropy at state 2 in kJ/kg-K\n",
"V=0.001 //volume of saturated liquid in m^3\n",
"v1=0.000923 //specific volume in m^3/kg\n",
"m=V/v1 //mass of saturated liquid in kg\n",
"T=20 //temperature of liquid in celsius\n",
"Q12=m*(T+273.15)*(s2-s1) //heat transfer in kJ to accomplish the process\n",
"W12=m*(u1-u2)+Q12 //work required to accomplish the process\n",
"printf(' \n hence,work required to accomplish the process is W12=%.1f kJ.\n',W12)\n",
"printf(' \n and heat transfer is Q12=%.1f kJ.\n',Q12)"
   ]
   }
,
{
		   "cell_type": "markdown",
		   "metadata": {},
		   "source": [
			"## Example 8.3: Entropy_change.sce"
		   ]
		  },
  {
"cell_type": "code",
	   "execution_count": null,
	   "metadata": {
	    "collapsed": true
	   },
	   "outputs": [],
"source": [
"//example 3\n",
"//entropy change\n",
"clear\n",
"clc\n",
"C=4.184 // specific heat of water in kJ/kg-K\n",
"T1=20 //initial temperature of water in celsius\n",
"T2=90 //final temperature of water in celsius\n",
"dS1=C*log((T2+273.2)/(T1+273.2)) //change in entropy in kJ/kg-K\n",
"dS2=1.1925-0.2966 //in kJ/kg-K using steam tables\n",
"printf('\n hence,change in entropy assuming constant specific heat is dS1=%.4f kJ/kg-K.\n',dS1)\n",
"printf('\n using steam table is dS2=%.4f kJ/kg-K.\n',dS2) "
   ]
   }
,
{
		   "cell_type": "markdown",
		   "metadata": {},
		   "source": [
			"## Example 8.4: Entropy_change_with_different_assumptions.sce"
		   ]
		  },
  {
"cell_type": "code",
	   "execution_count": null,
	   "metadata": {
	    "collapsed": true
	   },
	   "outputs": [],
"source": [
"//example 4\n",
"//entropy change with different assumptions\n",
"clear\n",
"clc\n",
"T1=300 //initial temperature in kelvins\n",
"T2=1500 //final temperature in kelvins\n",
"P1=200 //initial pressure in kPa\n",
"P2=150 //final pressure in kPa\n",
"R=0.2598 // in kJ/kg-K\n",
"Cp=0.922 //specific heat in kJ/kg-K at constant pressure\n",
"dsT2=8.0649 //in kJ/kg-K\n",
"dsT1=6.4168 //in kJ/kg-K\n",
"dS1=dsT2-dsT1-R*log(P2/P1) //entropy change calculated using ideal gas tables\n",
"dS2=integrate('0.88/x-0.0001+0.54*x-0.33*x^2','x',0.3,1.5)-R*log(P2/P1) //entropy change calculated using empirical equation \n",
"dS3=Cp*log(T2/T1)-R*log(P2/P1) //entropy change assuming constant specific heat in kJ/kg-K\n",
"dS4=1.0767*log(T2/T1)+0.0747 //entropy change assuming specific heat is constant at its value at 990K\n",
"printf('\n hence,change in entropy using ideal gas tables is dS1=%.4f kJ/kg-K.\n',dS1)\n",
"printf('\n hence,change in entropy using empirical equation is dS2=%.4f kJ/kg-K.\n',dS2)\n",
"printf('\n hence,change in entropy using the value of specific heat at 300K is dS3=%.4f kJ/kg-K.\n',dS3)\n",
"printf('\n hence,change in entropy assuming specific heat is constant at its value at 900K is dS4=%.4f kJ/kg-K.\n',dS4)"
   ]
   }
,
{
		   "cell_type": "markdown",
		   "metadata": {},
		   "source": [
			"## Example 8.5: Entropy_change.sce"
		   ]
		  },
  {
"cell_type": "code",
	   "execution_count": null,
	   "metadata": {
	    "collapsed": true
	   },
	   "outputs": [],
"source": [
"//example 5\n",
"//entropy change\n",
"clear\n",
"clc\n",
"Cp=1.004 //specific heat at constant pressure in kJ/kg-K\n",
"R=0.287 //gas constant in kJ/kg-K\n",
"P1=400 //initial pressure in kPa\n",
"P2=300 //final pressure in kPa\n",
"T1=300 //initial temperature in K\n",
"T2=600 //final temperature in K\n",
"dS1=Cp*log(T2/T1)-R*log(P2/P1) //entropy change assuming constant specific heat\n",
"s1=6.8693 //specific entropy at T1\n",
"s2=7.5764 //specific entropy at T2\n",
"dS2=s2-s1-R*log(P2/P1) //entropy change assuming variable specific heat\n",
"printf('\n hence,entropy change assuming constant specific heat is dS1=%.4f kJ/kg-K.\n',dS1)\n",
"printf('\n and assuming variable specific heat is dS2=%.4f kJ/kg-K.\n',dS2)"
   ]
   }
,
{
		   "cell_type": "markdown",
		   "metadata": {},
		   "source": [
			"## Example 8.6: Work_done_by_air.sce"
		   ]
		  },
  {
"cell_type": "code",
	   "execution_count": null,
	   "metadata": {
	    "collapsed": true
	   },
	   "outputs": [],
"source": [
"//example 6\n",
"//work done by air\n",
"clear\n",
"clc\n",
"T1=600 //initial temperature of air in K\n",
"P1=400 //intial pressure of air in kPa\n",
"P2=150 //final pressure in kPa\n",
"u1=435.10 //specific internal energy at temperature T1 in kJ/kg\n",
"sT1=7.5764 //specific entropy at temperature T1 in kJ/kg-K\n",
"R=0.287 //gas constant in kJ/kg-K\n",
"ds=0\n",
"sT2=ds+sT1+R*log(P2/P1) //specific entropy at temperature T2 in kJ/kg-K\n",
"disp('we know the values of s and P for state 2.So,in order to fully determine the state,we will use steam table')\n",
"T2=457 //final temperature in K\n",
"u2=328.14 //specific internal energy at temperature T2 in kJ/kg\n",
"w=u1-u2 //work done by air in kJ/kg\n",
"printf('\n hence,work done by air is w=%.2f kJ/kg.\n',w)"
   ]
   }
,
{
		   "cell_type": "markdown",
		   "metadata": {},
		   "source": [
			"## Example 8.7: Work_and_heat_transfer.sce"
		   ]
		  },
  {
"cell_type": "code",
	   "execution_count": null,
	   "metadata": {
	    "collapsed": true
	   },
	   "outputs": [],
"source": [
"//example 7\n",
"//work and heat transfer\n",
"clear\n",
"clc\n",
"P2=500  //final pressure in cylinder in kPa\n",
"P1=100 //initial pressure in cylinder in kPa\n",
"T1=20+273.2 //initial temperature inside cylinder in Kelvins\n",
"n=1.3 \n",
"T2=(T1)*(P2/P1)^((n-1)/n) //final temperature inside cylinder in K\n",
"R=0.2968 //gas constant in kJ/kg-K\n",
"w12=R*(T2-T1)/(1-n) //work in kJ/kg\n",
"Cvo=0.745 //specific heat at constant volume in kJ/kg-K\n",
"q12=Cvo*(T2-T1)+w12 //heat transfer in kJ/kg\n",
"printf(' \n hence,work done is w12=%.1f kJ/kg.\n',w12)\n",
"printf('\n and heat transfer are q12=%.1f kJ/kg.\n',q12)"
   ]
   }
,
{
		   "cell_type": "markdown",
		   "metadata": {},
		   "source": [
			"## Example 8.8: Calculating_increase_in_entropy.sce"
		   ]
		  },
  {
"cell_type": "code",
	   "execution_count": null,
	   "metadata": {
	    "collapsed": true
	   },
	   "outputs": [],
"source": [
"//example 3\n",
"//calculating increase in entropy\n",
"clear\n",
"clc\n",
"m=1 //mass of saturated water vapour\n",
"sfg=6.0480 //in kJ/K\n",
"T=25 //temperature of surrounding air in celsius\n",
"dScm=-m*sfg //change in entropy of control mass in kJ/K\n",
"hfg=2257.0 //in kJ/kg\n",
"Qtosurroundings=m*hfg //heat transferred to surroundings in kJ\n",
"dSsurroundings=Qtosurroundings/(T+273.15) //in kJ/K\n",
"dSnet=dScm+dSsurroundings //net increase in entropy in kJ/K\n",
"printf(' hence,net increase in entropy of water plus surroundings is dSnet=%.4f kJ/K.\n',dSnet)  "
   ]
   }
,
{
		   "cell_type": "markdown",
		   "metadata": {},
		   "source": [
			"## Example 8.9: Entropy_generation.sce"
		   ]
		  },
  {
"cell_type": "code",
	   "execution_count": null,
	   "metadata": {
	    "collapsed": true
	   },
	   "outputs": [],
"source": [
"//example 9\n",
"//entropy generation\n",
"clear\n",
"clc\n",
"Qout=1 //value of heat flux generated by 1kW of electric power\n",
"T=600 //temperature of hot wire surface in K\n",
"Sgen=Qout/T //entropy generation in kW/K\n",
"printf(' \n hence,entropy generation is Sgen=%.5f kW/K.\n',Sgen)"
   ]
   }
],
"metadata": {
		  "kernelspec": {
		   "display_name": "Scilab",
		   "language": "scilab",
		   "name": "scilab"
		  },
		  "language_info": {
		   "file_extension": ".sce",
		   "help_links": [
			{
			 "text": "MetaKernel Magics",
			 "url": "https://github.com/calysto/metakernel/blob/master/metakernel/magics/README.md"
			}
		   ],
		   "mimetype": "text/x-octave",
		   "name": "scilab",
		   "version": "0.7.1"
		  }
		 },
		 "nbformat": 4,
		 "nbformat_minor": 0
}
