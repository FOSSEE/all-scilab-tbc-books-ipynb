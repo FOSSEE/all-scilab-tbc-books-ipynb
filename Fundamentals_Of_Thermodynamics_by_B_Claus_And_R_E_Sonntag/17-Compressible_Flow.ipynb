{
"cells": [
 {
		   "cell_type": "markdown",
	   "metadata": {},
	   "source": [
       "# Chapter 17: Compressible Flow"
	   ]
	},
{
		   "cell_type": "markdown",
		   "metadata": {},
		   "source": [
			"## Example 17.1: to_determine_isentropic_stagnation_pressure_and_temperature.sce"
		   ]
		  },
  {
"cell_type": "code",
	   "execution_count": null,
	   "metadata": {
	    "collapsed": true
	   },
	   "outputs": [],
"source": [
"//ques1\n",
"//to determine isentropic stagnation pressure and temperature \n",
"clear\n",
"clc\n",
"T=300;//Temperature of air in K\n",
"P=150;//Pressure of air in kPa\n",
"v=200;//velocity of air flow n m/s\n",
"Cp=1.004;//specific heat at constant pressure in kJ/kg\n",
"To=v^2/(2000*Cp)+T;//stagnation temperature in K\n",
"k=1.4;//constant\n",
"Po=P*(To/T)^(k/(k-1));//stagnation pressure in kPa\n",
"printf('Stagnation Temperature = %.1f K \n',To);\n",
"printf(' Stagnation Pressure = %.1f kPa \n',Po);"
   ]
   }
,
{
		   "cell_type": "markdown",
		   "metadata": {},
		   "source": [
			"## Example 17.3: determining_the_thrust_acting_on_a_control_surface.sce"
		   ]
		  },
  {
"cell_type": "code",
	   "execution_count": null,
	   "metadata": {
	    "collapsed": true
	   },
	   "outputs": [],
"source": [
"//ques3\n",
"//determining the thrust acting on a control surface\n",
"clear\n",
"clc\n",
"//i-inlet\n",
"//e-exit\n",
"//using momentum equation on control surface in x direction\n",
"me=20.4;//mass exiting in kg\n",
"mi=20;//mass entering in kg\n",
"ve=450;//exit velocity in m/s\n",
"vi=100;//exit velocity in m/s\n",
"Pi=95;//Pressure at inlet in kPa\n",
"Pe=125;//Pressure at exit in kPa\n",
"Po=100;//surrounding pressure in kPa\n",
"Ai=0.2;//inlet area in m^2\n",
"Ae=0.1;//exit area in m^2\n",
"Rx=(me*ve-mi*vi)/1000-(Pi-Po)*Ai+(Pe-Po)*Ae;//thrust in x direction in kN\n",
"printf('Thrust acting in x direction = %.2f kN',Rx); "
   ]
   }
,
{
		   "cell_type": "markdown",
		   "metadata": {},
		   "source": [
			"## Example 17.5: determining_velocity_of_sound_in_air.sce"
		   ]
		  },
  {
"cell_type": "code",
	   "execution_count": null,
	   "metadata": {
	    "collapsed": true
	   },
	   "outputs": [],
"source": [
"//ques5\n",
"//determining velocity of sound in air\n",
"clear\n",
"clc\n",
"k=1.4;//constant\n",
"R=0.287;//gas constant\n",
"//at 300K\n",
"T1=300;//K\n",
"c1=sqrt(k*R*T1*1000);\n",
"printf('Speed of sound at %.0f K = %.1f m/s \n',T1,c1);\n",
"T2=1000;//K\n",
"c2=sqrt(k*R*T2*1000);\n",
"printf(' Speed of sound at %.0f K = %.1f m/s \n',T2,c2);"
   ]
   }
,
{
		   "cell_type": "markdown",
		   "metadata": {},
		   "source": [
			"## Example 17.6: determining_mass_flow_rate_through_control_volume.sce"
		   ]
		  },
  {
"cell_type": "code",
	   "execution_count": null,
	   "metadata": {
	    "collapsed": true
	   },
	   "outputs": [],
"source": [
"//ques6\n",
"//determining mass flow rate through control volume\n",
"clear\n",
"clc\n",
"k=1.4;//constant\n",
"R=0.287;//gas constant\n",
"To=360;//stagnation Temperature in K \n",
"T=To*0.8333;//Temperature of air in K, 0.8333 stagnation ratio from table\n",
"v=sqrt(k*R*T*1000);//velocity in m/s\n",
"P=528;//stagnation pressure in kPa\n",
"d=P/(R*T);//stagnation density in kg/m^3\n",
"A=500*10^-6;//area in m^2\n",
"ms=d*A*v;//mass flow rate in kg/s\n",
"printf('Mass flow rate at the throat section = %.4f kg/s \n',ms);\n",
"//e-exit state\n",
"Te=To*0.9381;//exit temperature in K, ratio from table\n",
"ce=sqrt(k*R*Te*1000);//exit velocity of sound in m/s\n",
"Me=0.573;//Mach number\n",
"ve=Me*ce;\n",
"Pe=800;//exit pressure in kPa\n",
"de=Pe/R/Te;\n",
"mse=de*A*ve;\n",
"printf(' Mass flow rate at the exit section = %.4f kg/s \n',mse);"
   ]
   }
,
{
		   "cell_type": "markdown",
		   "metadata": {},
		   "source": [
			"## Example 17.7: determining_exit_properties_in_a_control_volume.sce"
		   ]
		  },
  {
"cell_type": "code",
	   "execution_count": null,
	   "metadata": {
	    "collapsed": true
	   },
	   "outputs": [],
"source": [
"//ques7\n",
"//determining exit properties in a control volume\n",
"clear\n",
"clc\n",
"Po=1000;//stagnation pressure in kPa\n",
"To=360;//stagnation temperature in K\n",
"\n",
"//when diverging section acting as nozzle\n",
"Pe1=0.0939*Po;//exit pressure of air in kPa\n",
"Te1=0.5089*To;//exit temperature in K\n",
"k=1.4;//constant\n",
"R=0.287;//gas constant for air\n",
"ce=sqrt(k*R*Te1*1000);//velocity of sound in exit section in m/s\n",
"Me=2.197;//mach number from table\n",
"ve1=Me*ce;//velocity of air at exit section in m/s\n",
"disp(' When diverging section act as a nozzle :-');\n",
"printf('Exit pressure  = %.1f kPa \n',Pe1);\n",
"printf('Exit Temperature = %.1f K \n',Te1);\n",
"printf('Exit velocity = %.1f m/s \n',ve1);\n",
"\n",
"//when diverging section act as diffuser\n",
"Me=0.308;\n",
"Pe2=0.0936*Po;//exit pressure of air in kPa\n",
"Te2=0.9812*To;//exit temperature in K\n",
"ce=sqrt(k*R*Te2*1000);//velocity of sound in exit section in m/s\n",
"ve2=Me*ce;\n",
"disp(' When diverging section act as a diffuser :-');\n",
"printf('Exit pressure  = %.1f kPa \n',Pe2);\n",
"printf('Exit Temperature = %.1f K \n',Te2);\n",
"printf('Exit velocity = %.1f m/s \n',ve2);\n",
""
   ]
   }
,
{
		   "cell_type": "markdown",
		   "metadata": {},
		   "source": [
			"## Example 17.9: determining_exit_plane_properties_in_control_volume.sce"
		   ]
		  },
  {
"cell_type": "code",
	   "execution_count": null,
	   "metadata": {
	    "collapsed": true
	   },
	   "outputs": [],
"source": [
"//ques9\n",
"//determining exit plane properties in control volume\n",
"clear\n",
"clc\n",
"//x-inlet\n",
"//y-exit\n",
"Mx=1.5;//mach number for inlet\n",
"My=0.7011;//mach number for exit\n",
"Px=272.4;//inlet pressure in kPa\n",
"Tx=248.3;//inlet temperature in K\n",
"Pox=1000;//stagnation pressure for inlet\n",
"Py=2.4583*Px;//Exit Pressure in kPa\n",
"Ty=1.320*Tx;//Exit temperature in K\n",
"Poy=0.9298*Pox;//Exit pressure in kPa\n",
"\n",
"printf('Exit pressure = %.1f kPa \n',Py);\n",
"printf(' Exit temperature = %.1f K \n',Ty);\n",
"printf(' Exit stagnation pressure = %.1f kPa \n',Poy);"
   ]
   }
],
"metadata": {
		  "kernelspec": {
		   "display_name": "Scilab",
		   "language": "scilab",
		   "name": "scilab"
		  },
		  "language_info": {
		   "file_extension": ".sce",
		   "help_links": [
			{
			 "text": "MetaKernel Magics",
			 "url": "https://github.com/calysto/metakernel/blob/master/metakernel/magics/README.md"
			}
		   ],
		   "mimetype": "text/x-octave",
		   "name": "scilab",
		   "version": "0.7.1"
		  }
		 },
		 "nbformat": 4,
		 "nbformat_minor": 0
}
