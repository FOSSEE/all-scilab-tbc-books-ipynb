{
"cells": [
 {
		   "cell_type": "markdown",
	   "metadata": {},
	   "source": [
       "# Chapter 9: Entropy Equation for a Control Volume"
	   ]
	},
{
		   "cell_type": "markdown",
		   "metadata": {},
		   "source": [
			"## Example 9.10: Turbine_efficiency.sce"
		   ]
		  },
  {
"cell_type": "code",
	   "execution_count": null,
	   "metadata": {
	    "collapsed": true
	   },
	   "outputs": [],
"source": [
"//example 10\n",
"//turbine efficiency\n",
"clear\n",
"clc\n",
"hi=3051.2 //initial specific heat of enthalpy in kJ/kg\n",
"si=7.1228 //initial specific entropy in kJ/kg-K\n",
"sf=0.7548 //in kJ/kg-K\n",
"sfg=7.2536 //in kJ/kg-K\n",
"ses=si //final specific entropy is same as the initial\n",
"xes=(si-sf)/sfg //quality of steam when it leaves the turbine\n",
"hf=225.9 //in kJ/kg\n",
"hfg=2373.1 //in kJ/kg\n",
"hes=hf+xes*hfg //final specific heat of enthalpy in kJ/kg\n",
"ws=hi-hes //work output of turbine calculated ideally  in kJ/kg\n",
"wa=600 //actual work output of turbine in kJ/kg\n",
"nturbine=wa/ws //efiiciency of turbine \n",
"printf('\n hence,efficiency of the turbine is nturbine=%.1f.\n',nturbine*100)"
   ]
   }
,
{
		   "cell_type": "markdown",
		   "metadata": {},
		   "source": [
			"## Example 9.11: Turbine_inlet_pressure.sce"
		   ]
		  },
  {
"cell_type": "code",
	   "execution_count": null,
	   "metadata": {
	    "collapsed": true
	   },
	   "outputs": [],
"source": [
"//example 11\n",
"//turbine inlet pressure\n",
"clear\n",
"clc\n",
"hi=1757.3 //initial specific heat of enthalpy of air in  kJ/kg\n",
"si=8.6905 //initial specifc entropy of airin kJ/kg-K\n",
"he=855.3 //final specific heat of enthalpy of air in kJ/kg\n",
"w=hi-he //actual work done by turbine in kJ/kg\n",
"n=0.85 //efficiency of turbine \n",
"ws=w/n //ideal work done by turbine in kJ/kg\n",
"hes=hi-ws //from first law of isentropic process\n",
"Tes=683.7 //final temperature in kelvins from air tables\n",
"ses=7.7148 //in kJ/kg-K\n",
"R=0.287 //gas constant in kJ/kg-K\n",
"Pi=100/%e^((si-ses)/-R) //turbine inlet pressure in kPa\n",
"printf('\n hence,turbine inlet pressure is Pi=%.0f kPa.\n',Pi)"
   ]
   }
,
{
		   "cell_type": "markdown",
		   "metadata": {},
		   "source": [
			"## Example 9.12: Required_work_input.sce"
		   ]
		  },
  {
"cell_type": "code",
	   "execution_count": null,
	   "metadata": {
	    "collapsed": true
	   },
	   "outputs": [],
"source": [
"//example 12\n",
"//required work input\n",
"clear\n",
"clc\n",
"Pe=150 //final pressure of air in kPa\n",
"Pi=100 //initial presure of air in kPa\n",
"k=1.4\n",
"Ti=300 //initial temperature of air in kelvis\n",
"Tes=Ti*(Pe/Pi)^((k-1)/k) //from second law\n",
"ws=1.004*(Ti-Tes) //from first law of isentropic process\n",
"n=0.7 //efficiency of automotive supercharger \n",
"w=ws/n //real work input in kJ/kg\n",
"Te=Ti-w/1.004 //temperature at supercharger exit in K\n",
"printf('\n hence,required work input is w=%.1f kJ/kg.\n',w)\n",
"printf('\n and exit temperature is Te=%.1f K.\n',Te)"
   ]
   }
,
{
		   "cell_type": "markdown",
		   "metadata": {},
		   "source": [
			"## Example 9.1: Entropy_generation.sce"
		   ]
		  },
  {
"cell_type": "code",
	   "execution_count": null,
	   "metadata": {
	    "collapsed": true
	   },
	   "outputs": [],
"source": [
"//example 1\n",
"//work done by steam\n",
"clear\n",
"clc\n",
"hi=3051.2 //initial specific heat of enthalpy of steam in kJ/kg\n",
"si=7.1228 //initial specific entropy of steam in kJ/kg-K\n",
"Pe=0.15 //final pressure in MPa\n",
"se=si //specific entropy in final state in kJ/kg-K\n",
"sf=1.4335 //in kJ/kg-K\n",
"sfg=5.7897 //in kJ/kg-K\n",
"vi=50 //velocity with which steam enters turbine in m/s\n",
"ve=200 //velocity with which steam leaves the turbine in m/s\n",
"xe=(se-sf)/sfg //quality of steam in final state\n",
"hf=467.1 //in kJ/kg\n",
"hfg=2226.5 //in kJ/kg\n",
"he=hf+xe*hfg //final specific heat of enthalpy of steam in kJ/kg\n",
"w=hi+vi^2/(2*1000)-he-ve^2/(2*1000) //work of steam for isentropic process in kJ/kg\n",
"printf('\n hence, work per kilogram of steam for this isentropic process is w=%.1f kJ/kg-K.\n',w)"
   ]
   }
,
{
		   "cell_type": "markdown",
		   "metadata": {},
		   "source": [
			"## Example 9.2: Exit_velocity_of_steam_from_nozzle.sce"
		   ]
		  },
  {
"cell_type": "code",
	   "execution_count": null,
	   "metadata": {
	    "collapsed": true
	   },
	   "outputs": [],
"source": [
"//example 2\n",
"//exit velocity of steam from nozzle\n",
"clear\n",
"clc\n",
"hi=3051.2 //initial specific heat of enthalpy in kJ/kg\n",
"si=7.1228 //initial specific entropy in kJ/kg-K\n",
"se=si //final specific entropy \n",
"Pe=0.3 //final pressure in MPa\n",
"disp('from steam table,various properties at final state are ')\n",
"he=2780.2 //final specific heat of enthalpy in kJ/kg-K\n",
"Te=159.1 //final temperature in celsius\n",
"vi=30 //velocity with which steam enters the nozzle in m/s\n",
"ve=((2*(hi-he)+(vi^2/1000))*1000)^0.5 //final velocity of steam with which it exits in m/s\n",
"printf('\n hence,exit velocity of the steam from the nozzle is ve=%.0f m/s.\n',ve)"
   ]
   }
,
{
		   "cell_type": "markdown",
		   "metadata": {},
		   "source": [
			"## Example 9.3: Violation_of_second_law.sce"
		   ]
		  },
  {
"cell_type": "code",
	   "execution_count": null,
	   "metadata": {
	    "collapsed": true
	   },
	   "outputs": [],
"source": [
"//example 3\n",
"//violation of second law\n",
"clear\n",
"clc\n",
"disp('from R-134a tables')\n",
"se=1.7148 //specific entropy in final state in kJ/kg-K\n",
"si=1.7395 //initial specific entropy in kJ/kg-K \n",
"disp('therefore,se<si,whereas for this process the second law requires that se>=si.The process described involves a violation of the second law and thus would be impossible.')"
   ]
   }
,
{
		   "cell_type": "markdown",
		   "metadata": {},
		   "source": [
			"## Example 9.4: Calculating_required_specific_work.sce"
		   ]
		  },
  {
"cell_type": "code",
	   "execution_count": null,
	   "metadata": {
	    "collapsed": true
	   },
	   "outputs": [],
"source": [
"//example 4\n",
"//calculating required specific work\n",
"clear\n",
"clc\n",
"Cp=1.004 //specific heat of air at constant pressure in kJ/kg-K\n",
"Ti=290 //initial temperature in kelvins\n",
"Pi=100 //initial pressure in kPa\n",
"Pe=1000 //final pressure in kPa\n",
"k=1.4 \n",
"Te=Ti*(Pe/Pi)^((k-1)/k) //final temperature in kelvins\n",
"we=Cp*(Ti-Te) //required specific work in kJ/kg\n",
"printf('\n hence,specific work required is we=%.3f kJ/kg.\n',we)"
   ]
   }
,
{
		   "cell_type": "markdown",
		   "metadata": {},
		   "source": [
			"## Example 9.5: Entropy_generation.sce"
		   ]
		  },
  {
"cell_type": "code",
	   "execution_count": null,
	   "metadata": {
	    "collapsed": true
	   },
	   "outputs": [],
"source": [
"//example 5\n",
"//entropy generation\n",
"clear\n",
"clc\n",
"h1=2865.54 //specific heat of enthalpy at state 1 in kJ/kg\n",
"h2=83.94 //specific heat of enthalpy  at state 2 in kJ/kg\n",
"h3=2725.3 //specific heat of enthalpy at state 3 in kJ?kg\n",
"s1=7.3115 //specific entropy at state 1 in kJ/kg-K\n",
"s2=0.2966 //specific entropy at state 2 in kJ/kg-K\n",
"s3=6.9918 //specific entropy at state 3in kJ/kg-K\n",
"m1=2 //mass flow rate at state 1 in kg/s\n",
"m2=m1*(h1-h3)/(h3-h2) //mass flow rate at state 2 in kg/s\n",
"m3=m1+m2 //mass flow rate at state 3 in kg/s\n",
"Sgen=m3*s3-m1*s1-m2*s2 //entropy generation in the process\n",
"printf('\n hence,entropy generated in this process is Sgen=%.3f kW/K.\n',Sgen)"
   ]
   }
,
{
		   "cell_type": "markdown",
		   "metadata": {},
		   "source": [
			"## Example 9.6: Work_required_to_fill_the_tank.sce"
		   ]
		  },
  {
"cell_type": "code",
	   "execution_count": null,
	   "metadata": {
	    "collapsed": true
	   },
	   "outputs": [],
"source": [
"//example 6\n",
"//work required to fill the tank\n",
"clear\n",
"clc\n",
"T1=17+273 //initial temperature of tank in Kelvins\n",
"sT1=6.83521 //specific entropy in kJ/kg-K\n",
"R=0.287 //gas constant in kJ/kg-K\n",
"P1=100 //initial pressure in kPa\n",
"P2=1000 //final pressure in kPa\n",
"sT2=sT1+R*log(P2/P1) //specific entropy at temperature T2 in kJ/kg-K\n",
"T2=555.7 //from interplotation \n",
"V1=0.04 //volume of tank in m^3\n",
"V2=V1 //final volume is equal to initial volume\n",
"m1=P1*V1/(R*T1) //initial mass of air in tank in kg\n",
"m2=P2*V2/(R*T2) //final mass of air in tank in kg\n",
"Min=m2-m1 //in kg\n",
"u1=207.19 //initial specific heat of enthalpy in kJ/kg\n",
"u2=401.49 //final specific heat of enthalpy in kJ/kg\n",
"hin=290.43 //in kJ/kg\n",
"W12=Min*hin+m1*u1-m2*u2 //work required to fill the tank in kJ\n",
"printf('\n hence,the total amount of work required to fill the tank is W12=%.1f m/s.\n',W12)"
   ]
   }
,
{
		   "cell_type": "markdown",
		   "metadata": {},
		   "source": [
			"## Example 9.7: Work_required_to_pump_water_isentropically.sce"
		   ]
		  },
  {
"cell_type": "code",
	   "execution_count": null,
	   "metadata": {
	    "collapsed": true
	   },
	   "outputs": [],
"source": [
"//example 7\n",
"//work required to pump water isentropically \n",
"clear\n",
"clc\n",
"P1=100 //initial pressure in kPa\n",
"P2=5000 //final pressure in kPa\n",
"v=0.001004 //specific volume in m^3/kg\n",
"w=v*(P2-P1) //work required to pump water isentropically\n",
"printf('\n hence,work required to pump water isentropically  is w=%.2f kJ/kg.\n',w)"
   ]
   }
,
{
		   "cell_type": "markdown",
		   "metadata": {},
		   "source": [
			"## Example 9.8: Velocity_in_exit_flow.sce"
		   ]
		  },
  {
"cell_type": "code",
	   "execution_count": null,
	   "metadata": {
	    "collapsed": true
	   },
	   "outputs": [],
"source": [
"//example 8\n",
"//Velocity in exit flow\n",
"clear\n",
"clc\n",
"disp('From Steam Tables, for liquid water at 20 C')\n",
"vf=0.001002 //in m^3/kg\n",
"v=vf\n",
"Pi=300 //Line pressure in kPa\n",
"Po=100 //in kPa\n",
"Ve=(2*v*(Pi-Po)*1000)^0.5 //velocity in the exit flow\n",
"printf(' \n Hence, an ideal nozzle can generate upto Ve=%.0f m/s in the exit flow. \n',Ve)"
   ]
   }
,
{
		   "cell_type": "markdown",
		   "metadata": {},
		   "source": [
			"## Example 9.9: Rate_of_Entropy_Generation.sce"
		   ]
		  },
  {
"cell_type": "code",
	   "execution_count": null,
	   "metadata": {
	    "collapsed": true
	   },
	   "outputs": [],
"source": [
"//example 9\n",
"//Rate of Entropy Generation\n",
"clear\n",
"clc\n",
"disp('From R-410a tables,we get')\n",
"hi=280.6 //in kJ/kg\n",
"he=307.8 //in kJ/kg\n",
"si=1.0272 //in kJ/kg\n",
"se=1.0140 //in kJ/kg\n",
"m=0.08 //flow rate of refrigerant in kg/s\n",
"P=3 //electrical power input in kW\n",
"Qcv=m*(he-hi)-P //in kW\n",
"To=30 //in Celsius\n",
"Sgen=m*(se-si)-Qcv/(To+273.2) //rate of entropy generation \n",
"printf('\n Hence,the rate of entropy generation for this process is Sgen=%.5f kW/K. \n',Sgen)"
   ]
   }
],
"metadata": {
		  "kernelspec": {
		   "display_name": "Scilab",
		   "language": "scilab",
		   "name": "scilab"
		  },
		  "language_info": {
		   "file_extension": ".sce",
		   "help_links": [
			{
			 "text": "MetaKernel Magics",
			 "url": "https://github.com/calysto/metakernel/blob/master/metakernel/magics/README.md"
			}
		   ],
		   "mimetype": "text/x-octave",
		   "name": "scilab",
		   "version": "0.7.1"
		  }
		 },
		 "nbformat": 4,
		 "nbformat_minor": 0
}
