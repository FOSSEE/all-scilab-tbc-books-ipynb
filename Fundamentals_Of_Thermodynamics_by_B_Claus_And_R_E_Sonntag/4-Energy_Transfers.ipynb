{
"cells": [
 {
		   "cell_type": "markdown",
	   "metadata": {},
	   "source": [
       "# Chapter 4: Energy Transfers"
	   ]
	},
{
		   "cell_type": "markdown",
		   "metadata": {},
		   "source": [
			"## Example 4.1: Work_done_during_different_processes.sce"
		   ]
		  },
  {
"cell_type": "code",
	   "execution_count": null,
	   "metadata": {
	    "collapsed": true
	   },
	   "outputs": [],
"source": [
"//example 1\n",
"//work done during different processes\n",
"clear\n",
"clc\n",
"P1=200 //initial pressure inside cylinder in kPa\n",
"V2=0.1 //in m^3\n",
"V1=0.04 //initial volume of gas in m^3\n",
"W1=P1*(V2-V1) //work done in isobaric process in kJ\n",
"printf('\n hence,the work done during the isobaric process is W1 = %.3f kJ. \n',W1)\n",
"W2=P1*V1*log(V2/V1) //work done in isothermal process in kJ\n",
"printf('\n hence,the work done in isothermal process is W2 = %.3f kJ. \n',W2)\n",
"P2=P1*(V1/V2)^(1.3) //final pressure according to the given process\n",
"W3=(P2*V2-P1*V1)/(1-1.3)\n",
"printf('\n hence,the work done during the described process is W3 = %.3f kJ. \n',W3)\n",
"W4=0 //work done in isovolumic process\n",
"printf('\n hence,the work done in the isovolumic process is W4 = %.3f kJ. \n',W4)"
   ]
   }
,
{
		   "cell_type": "markdown",
		   "metadata": {},
		   "source": [
			"## Example 4.3: work_produced.sce"
		   ]
		  },
  {
"cell_type": "code",
	   "execution_count": null,
	   "metadata": {
	    "collapsed": true
	   },
	   "outputs": [],
"source": [
"//example 3\n",
"//work produced\n",
"clear\n",
"clc\n",
"Psat=190.2 //in kPa\n",
"P1=Psat //saturation pressure in state 1\n",
"vf=0.001504 //in m^3/kg\n",
"vfg=0.62184 //in m^3/kg\n",
"x1=0.25 //quality\n",
"v1=vf+x1*vfg //specific volume at state 1 in m^3/kg\n",
"v2=1.41*v1 //specific volume at state 2 in m^3/kg\n",
"P2=600 //pressure in state 2 in kPa\n",
"m=0.5 //mass of ammonia in kg\n",
"W=m*(P1+P2)*(v2-v1)/2 //woork produced by ammonia in kJ\n",
"disp('hence,work produced by ammonia is 12.71 kJ')"
   ]
   }
,
{
		   "cell_type": "markdown",
		   "metadata": {},
		   "source": [
			"## Example 4.4: Calculating_work_done.sce"
		   ]
		  },
  {
"cell_type": "code",
	   "execution_count": null,
	   "metadata": {
	    "collapsed": true
	   },
	   "outputs": [],
"source": [
"//example 4\n",
"//calculating work done\n",
"clear\n",
"clc\n",
"v1=0.35411 //specific volume at state 1 in m^3/kg\n",
"v2=v1/2 \n",
"m=0.1 //mass of water in kg\n",
"P1=1000 //pressure inside cylinder in kPa\n",
"W=m*P1*(v2-v1) //in kJ\n",
"disp('hence,the work in the overall process is -17.7 kJ')"
   ]
   }
,
{
		   "cell_type": "markdown",
		   "metadata": {},
		   "source": [
			"## Example 4.7: Heat_transfer.sce"
		   ]
		  },
  {
"cell_type": "code",
	   "execution_count": null,
	   "metadata": {
	    "collapsed": true
	   },
	   "outputs": [],
"source": [
"//example 7\n",
"//heat transfer\n",
"clear\n",
"clc\n",
"k=1.4 //conductivity of glass pane in W/m-K\n",
"A=0.5 //total surface area of glass pane\n",
"dx=0.005 //thickness of glasspane in m\n",
"dT1=20-12.1 //temperature difference between room air and outer glass surface temperature in celsius\n",
"Q=-k*A*dT1/dx //conduction through glass slab in W\n",
"h=100 //convective heat transfer coefficient in W/m^2-K \n",
"dT=12.1-(-10)  //temperature difference between warm room and colder ambient in celsius\n",
"Q2=h*A*dT //heat transfer in convective layer in W\n",
"printf('\n hence,the rate of heat transfer in the glass and convective layer is Q2 = %.0f kW. \n',Q2)"
   ]
   }
],
"metadata": {
		  "kernelspec": {
		   "display_name": "Scilab",
		   "language": "scilab",
		   "name": "scilab"
		  },
		  "language_info": {
		   "file_extension": ".sce",
		   "help_links": [
			{
			 "text": "MetaKernel Magics",
			 "url": "https://github.com/calysto/metakernel/blob/master/metakernel/magics/README.md"
			}
		   ],
		   "mimetype": "text/x-octave",
		   "name": "scilab",
		   "version": "0.7.1"
		  }
		 },
		 "nbformat": 4,
		 "nbformat_minor": 0
}
