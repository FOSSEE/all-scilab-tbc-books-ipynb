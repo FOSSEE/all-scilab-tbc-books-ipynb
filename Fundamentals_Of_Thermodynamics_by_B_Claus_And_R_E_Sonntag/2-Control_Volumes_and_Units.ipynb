{
"cells": [
 {
		   "cell_type": "markdown",
	   "metadata": {},
	   "source": [
       "# Chapter 2: Control Volumes and Units"
	   ]
	},
{
		   "cell_type": "markdown",
		   "metadata": {},
		   "source": [
			"## Example 2.1: Weight_of_a_perso.sce"
		   ]
		  },
  {
"cell_type": "code",
	   "execution_count": null,
	   "metadata": {
	    "collapsed": true
	   },
	   "outputs": [],
"source": [
"//example 1\n",
"//weight of a person\n",
"clear\n",
"clc\n",
"m=1 //kg\n",
"g=9.75 //acc.due to gravity in m/s^2\n",
"F=m*g //weight of 1 kg mass in N\n",
"printf('\n hence,weight of person is F = %.3f N. \n',F)"
   ]
   }
,
{
		   "cell_type": "markdown",
		   "metadata": {},
		   "source": [
			"## Example 2.2: Average_Volume_and_Density.sce"
		   ]
		  },
  {
"cell_type": "code",
	   "execution_count": null,
	   "metadata": {
	    "collapsed": true
	   },
	   "outputs": [],
"source": [
"//example 2\n",
"//average volume and density\n",
"clear\n",
"clc\n",
"Vliq=0.2 //volume of liquid in m^3\n",
"dliq=997 //density of liquid in kg/m^3\n",
"Vstone=0.12 //volume of stone in m^3\n",
"Vsand=0.15 //volume of sand in m^3\n",
"Vair=0.53 //vo;ume of air in m^3\n",
"mliq=Vliq*dliq //mass of liquid in kg\n",
"dstone=2750 //density of stone in kg/m^3\n",
"dsand=1500 //density of sand in kg/m^3\n",
"mstone=Vstone*dstone //volume of stone in m^3\n",
"msand=Vsand*dsand //volume of sand in m^3\n",
"Vtot=1 //total volume in m^3\n",
"dair=1.1 //density of air in kg/m^3\n",
"mair=Vair*dair //mass of air\n",
"mtot=mair+msand+mliq+mstone //total mass in kg\n",
"v=Vtot/mtot //specific volume in  m^3/kg\n",
"d=1/v //overall density in kg/m^3\n",
"printf('\n hence,average specific volume is v=%.6f  m^3/kg. \n',v )\n",
"printf('\n and overall density is d=%.0f kg/m^3. \n',d)"
   ]
   }
,
{
		   "cell_type": "markdown",
		   "metadata": {},
		   "source": [
			"## Example 2.3: Calculating_the_required_force.sce"
		   ]
		  },
  {
"cell_type": "code",
	   "execution_count": null,
	   "metadata": {
	    "collapsed": true
	   },
	   "outputs": [],
"source": [
"//example 3\n",
"//calculating the required force\n",
"clear\n",
"clc\n",
"Dcyl=0.1 //cylinder diameter in m\n",
"Drod=0.01 //rod diameter in m\n",
"Acyl=%pi*Dcyl^2/4 //cross sectional area of cylinder in m^2\n",
"Arod=%pi*Drod^2/4 //cross sectional area of rod in m^2\n",
"Pcyl=250000 //inside hydaulic pressure in Pa\n",
"Po=101000 //outside atmospheric pressure in kPa\n",
"g=9.81 //acc. due to gravity in m/s^2\n",
"mp=25 //mass of (rod+piston) in kg\n",
"F=Pcyl*Acyl-Po*(Acyl-Arod)-mp*g //the force that rod can push within the upward direction in N\n",
"printf('\n hence,the force that rod can push within the upward direction is F = %.3f N. \n',F)"
   ]
   }
,
{
		   "cell_type": "markdown",
		   "metadata": {},
		   "source": [
			"## Example 2.4: Calculating_atmospheric_pressure.sce"
		   ]
		  },
  {
"cell_type": "code",
	   "execution_count": null,
	   "metadata": {
	    "collapsed": true
	   },
	   "outputs": [],
"source": [
"//example 4\n",
"//Calculating atmospheric pressure \n",
"clear\n",
"clc\n",
"dm=13534 //density of mercury in kg/m^3\n",
"H=0.750 //height difference between two columns in metres\n",
"g=9.80665 //acc. due to gravity  in m/s^2\n",
"Patm=dm*H*g/1000 //atmospheric pressure in kPa\n",
"printf('\n hence, atmospheric pressure is Patm = %.2f kPa. \n',Patm)"
   ]
   }
,
{
		   "cell_type": "markdown",
		   "metadata": {},
		   "source": [
			"## Example 2.5: Pressure_inside_vessel.sce"
		   ]
		  },
  {
"cell_type": "code",
	   "execution_count": null,
	   "metadata": {
	    "collapsed": true
	   },
	   "outputs": [],
"source": [
"//example 5\n",
"//pressure inside vessel\n",
"clear\n",
"clc\n",
"dm=13590 //density of mercury in kg/m^3\n",
"H=0.24 //height difference between two columns in metres\n",
"g=9.80665 //acc. due to gravity  in m/s^2\n",
"dP=dm*H*g //pressure difference in Pa\n",
"Patm=13590*0.750*9.80665 //Atmospheric Pressure in Pa\n",
"Pvessel=dP+Patm //Absolute Pressure inside vessel in Pa\n",
"Pvessel=Pvessel/101325//Absolute Pressure inside vessel in atm\n",
"printf('\n hence, the absolute pressure inside vessel is Pvessel = %.3f atm. \n',Pvessel)"
   ]
   }
,
{
		   "cell_type": "markdown",
		   "metadata": {},
		   "source": [
			"## Example 2.6: Calculating_Pressure.sce"
		   ]
		  },
  {
"cell_type": "code",
	   "execution_count": null,
	   "metadata": {
	    "collapsed": true
	   },
	   "outputs": [],
"source": [
"//example 6\n",
"//calculating pressure\n",
"clear\n",
"clc\n",
"dg=750 //density of gaasoline in kg/m^3\n",
"dR=1206 //density of R-134a in kg/m^3\n",
"H=7.5 //height of storage tank in metres\n",
"g=9.807 //acc. due to gravity in m/s^2\n",
"dP1=dg*g*H/1000 //in kPa\n",
"Ptop1=101 //atmospheric pressure in kPa\n",
"P1=dP1+Ptop1\n",
"disp('hence,pressure at the bottom of storage tank if fluid is gasoline is 156.2 kPa')\n",
"dP2=dR*g*H/1000 //in kPa\n",
"Ptop2=1000 //top surface pressure in kPa\n",
"P2=dP2+Ptop2\n",
"printf('\n hence, pressure at the bottom of storage tank if liquid is R-134a is P2 = %.0f kPa. \n',P2)"
   ]
   }
,
{
		   "cell_type": "markdown",
		   "metadata": {},
		   "source": [
			"## Example 2.7: Calculating_Balancing_Force.sce"
		   ]
		  },
  {
"cell_type": "code",
	   "execution_count": null,
	   "metadata": {
	    "collapsed": true
	   },
	   "outputs": [],
"source": [
"//example 6\n",
"//calculating balancing force\n",
"clear\n",
"clc\n",
"Po=100//Outside atmospheric pressure in kPa\n",
"F1=25 //net force on the smallest piston in kN\n",
"A1=0.01 //cross sectional area of lower piston in m^2\n",
"P1=Po+F1/A1 //fluid pressure in kPa\n",
"d=900 //density of fluid in kg/m^3\n",
"g=9.81 //acc. due to gravity in m/s^2\n",
"H=6 //height of second piston in comparison to first one in m\n",
"P2=P1-d*g*H/1000 //pressure at higher elevation on piston 2 in kPa\n",
"A2=0.05 // cross sectional area of higher piston in m^3\n",
"F2=(P2-Po)*A2 //balancing force on second piston in kN\n",
"printf('\n hence, balancing force on second larger piston is F2 = %.1f N. \n',F2)"
   ]
   }
],
"metadata": {
		  "kernelspec": {
		   "display_name": "Scilab",
		   "language": "scilab",
		   "name": "scilab"
		  },
		  "language_info": {
		   "file_extension": ".sce",
		   "help_links": [
			{
			 "text": "MetaKernel Magics",
			 "url": "https://github.com/calysto/metakernel/blob/master/metakernel/magics/README.md"
			}
		   ],
		   "mimetype": "text/x-octave",
		   "name": "scilab",
		   "version": "0.7.1"
		  }
		 },
		 "nbformat": 4,
		 "nbformat_minor": 0
}
