{
"cells": [
 {
		   "cell_type": "markdown",
	   "metadata": {},
	   "source": [
       "# Chapter 5: Energy Equation for a Control Mass"
	   ]
	},
{
		   "cell_type": "markdown",
		   "metadata": {},
		   "source": [
			"## Example 5.10: Calculating_rate_of_increase_of_internal_energy.sce"
		   ]
		  },
  {
"cell_type": "code",
	   "execution_count": null,
	   "metadata": {
	    "collapsed": true
	   },
	   "outputs": [],
"source": [
"//example 10\n",
"//calculating rate of increase of internal energy\n",
"clear\n",
"clc\n",
"W=-12.8*20 //power consumed in  J/s\n",
"Q=-10 //heat transfer rate from battery in J/s\n",
"r=Q-W //rate of increase of internal energy\n",
"printf('\n hence,the rate of increase of internal energy is r=%.0f J/s. \n', r)"
   ]
   }
,
{
		   "cell_type": "markdown",
		   "metadata": {},
		   "source": [
			"## Example 5.11: Rate_of_change_of_temperature.sce"
		   ]
		  },
  {
"cell_type": "code",
	   "execution_count": null,
	   "metadata": {
	    "collapsed": true
	   },
	   "outputs": [],
"source": [
"//example 11\n",
"//rate of change of temperature\n",
"clear\n",
"clc\n",
"Q=1500 //power produced by burning wood in J/s\n",
"mair=1 //mass of air in kg\n",
"mwood=5 //mass of soft pine wood in kg \n",
"miron=25 //mass of cast iron in kg\n",
"Cvair=0.717 //constant volume specific heat for air in kJ/kg\n",
"Cwood=1.38 //constant volume specific heat for wood in kJ/kg\n",
"Ciron=0.42 //constant volume specific heat for iron in kJ/kg\n",
"dT=75-20 //increase in temperature in Celsius\n",
"T=(Q/1000)/(mair*Cvair+mwood*Cwood+miron*Ciron) //rate of change of temperature in K/s\n",
"dt=(dT/T)/60 //in minutes\n",
"printf(' hence,the rate of change of temperature is dt=%.4f K/s.\n', T)\n",
"printf(' and time taken to reach a temperature of T=%.0f min.\n', dt)"
   ]
   }
,
{
		   "cell_type": "markdown",
		   "metadata": {},
		   "source": [
			"## Example 5.1: Calculating_height.sce"
		   ]
		  },
  {
"cell_type": "code",
	   "execution_count": null,
	   "metadata": {
	    "collapsed": true
	   },
	   "outputs": [],
"source": [
"//example 1\n",
"//calculating height\n",
"clear\n",
"clc\n",
"m=1100 //mass of car in kg\n",
"ke=400 //kinetic energy of car in kJ\n",
"V=(2*ke*1000/m)^0.5 //velocity of car in m/s\n",
"g=9.807 //acc. due to gravity in m/s^2\n",
"H=ke*1000/(m*g) //height to which the car  should be lifted so that its potential energy equals its kinetic energy\n",
"disp('hence,the car should be raised to a height of 37.1 m to make its potential energy equal to kinetic energy')"
   ]
   }
,
{
		   "cell_type": "markdown",
		   "metadata": {},
		   "source": [
			"## Example 5.2: Change_in_internal_energy.sce"
		   ]
		  },
  {
"cell_type": "code",
	   "execution_count": null,
	   "metadata": {
	    "collapsed": true
	   },
	   "outputs": [],
"source": [
"//example 2\n",
"//change in internal energy\n",
"clear\n",
"clc\n",
"W=-5090 //work input to paddle wheel in kJ\n",
"Q=-1500 //heat transfer from tank in kJ\n",
"dU=Q-W //change in internal energy in kJ\n",
"disp('hence,change in internal energy is 3590 kJ')"
   ]
   }
,
{
		   "cell_type": "markdown",
		   "metadata": {},
		   "source": [
			"## Example 5.3: Analysis_of_energy_transfer.sce"
		   ]
		  },
  {
"cell_type": "code",
	   "execution_count": null,
	   "metadata": {
	    "collapsed": true
	   },
	   "outputs": [],
"source": [
"//example 3\n",
"//analysis of energy transfer\n",
"clear\n",
"clc\n",
"g=9.806 //acceleration due to gravity in m/s^2\n",
"m=10 //mass of stone in kg\n",
"H1=10.2 //initial height of stone above water in metres\n",
"H2=0 //final height in metres\n",
"dKE1=-m*g*(H2-H1) //change in kinetic energy when stone enters state 2 in J\n",
"dPE1=-1 //change in potential energy when stone enters state 2 in J\n",
"printf('\n hence,when stone is about to enter state 2, dKE = %.3f J. \n',dKE1)\n",
"printf('\n and dPE = %.3f J. \n',dPE1)\n",
"dPE2=0 //change in potential energy when stone enters state 3 in JQ2=0 //no heat transfer when stone enters state 3 in J\n",
"W2=0 //no work done when stone enters state 3 in J\n",
"dKE2=-1 //change in kinetic energy when stone enters state 3\n",
"dU2=-dKE2 //change in internal energy when stone enters state 3 in J\n",
"printf('\n hence,when stone has just come to rest in the bucket i.e. state 3, W=0, dPE=0, dKE1 = %.3f J. \n',dKE2)\n",
"printf('\n and dU = %.3f J. \n',dU2)\n",
"dKE3=0 //change in kinetic energy when stone enters state 4\n",
"dPE=0 //change in potential energy when stone enters state 4 in J\n",
"W3=0 //no work done when stone enters state 4 in J\n",
"dU3=-1 //change in internal energy when stone enters state 4 in J\n",
"Q3=dU3 //heat transfer when stone enters state 4 in J\n",
"printf('\n hence,when stone has entered state 4, dPE=0, W3=0,dKE=0, dU= %.3f J. \n',dU3)\n",
"printf('\n and Q3= %.3f J. \n',Q3)"
   ]
   }
,
{
		   "cell_type": "markdown",
		   "metadata": {},
		   "source": [
			"## Example 5.4: Determinig_the_missing_properties.sce"
		   ]
		  },
  {
"cell_type": "code",
	   "execution_count": null,
	   "metadata": {
	    "collapsed": true
	   },
	   "outputs": [],
"source": [
"//example 4\n",
"//Determinig the missing properties \n",
"clear\n",
"clc\n",
"T1=300 //given temp. in Celsius\n",
"u1=2780 //given specific internal enrgy in kJ/kg\n",
"disp('From steam table, at T=300 C,ug=2563.0 kJ/kg.So,u1>ug ,it means the state is in the superheated vapor region.So, by interplotation,we find P=1648 kPa and v=0.1542 m^3/kg')\n",
"P2=2000 //hiven pressure in kPa\n",
"u2=2000 //given specific intrernal energy in kJ/kg\n",
"disp('at P=2000 kPa,')\n",
"uf=906.4 //in kJ/kg\n",
"ug=2600.3 //in kJ/kg \n",
"x2=(u2-906.4)/(ug-uf) \n",
"disp('Also, under the given conditions')\n",
"vf=0.001177 //in m^3/kg \n",
"vg=0.099627 //in m^3/kg\n",
"v2=vf+x2*(vg-vf)//Specific volume for water in m^3/kg\n",
"printf('\n hence,specific volume for water is v2 = %.5f m^3/kg. \n',v2)\n",
"printf('\n Therefore ,this state is in the two phase region with quality x2=%.4f . \n',x2)"
   ]
   }
,
{
		   "cell_type": "markdown",
		   "metadata": {},
		   "source": [
			"## Example 5.5: Calculating_heat_transfer_for_the_given_process.sce"
		   ]
		  },
  {
"cell_type": "code",
	   "execution_count": null,
	   "metadata": {
	    "collapsed": true
	   },
	   "outputs": [],
"source": [
"//example 5\n",
"//calculating heat transfer for the given process\n",
"clear\n",
"clc\n",
"Vliq=0.05 //volume of saturated liquid in m^3\n",
"vf=0.001043 //in m^3/kg\n",
"Vvap=4.95 //volume of saturated water vapour in m^3\n",
"vg=1.6940 //in m^3/kg\n",
"m1liq=Vliq/vf //mass of liquid in kg\n",
"m1vap=Vvap/vg //mass of vapors in kg\n",
"u1liq=417.36 //specific internal energy of liquid in kJ/kg\n",
"u1vap=2506.1 //specific internal energy of vapors in kJ/kg\n",
"U1=m1liq*u1liq+m1vap*u1vap //total internal energy in kJ\n",
"m=m1liq+m1vap //total mass in kg\n",
"V=5 //total volume in m^3\n",
"v2=V/m //final specific volume in m^3/kg\n",
"disp('by interplotation we find that for steam, if vg=0.09831 m^3/kg then pressure is 2.03 MPa')\n",
"u2=2600.5 //specific internal energy at final state in kJ/kg\n",
"U2=m*u2 //internal energy at final state in kJ\n",
"Q=U2-U1 //heat transfer for the process in kJ\n",
"printf('\n hence,heat transfer for the process is Q = %.0f kJ. \n',Q)"
   ]
   }
,
{
		   "cell_type": "markdown",
		   "metadata": {},
		   "source": [
			"## Example 5.6: Calculating_work_and_heat_transfer_for_the_process.sce"
		   ]
		  },
  {
"cell_type": "code",
	   "execution_count": null,
	   "metadata": {
	    "collapsed": true
	   },
	   "outputs": [],
"source": [
"//example 6\n",
"//calculating work and heat transfer for the process\n",
"clear\n",
"clc\n",
"V1=0.1 //volume of cylinder in m^3\n",
"m=0.5 //mass of steam in kg\n",
"v1=V1/m //specific volume of steam in m^3/kg\n",
"vf=0.001084 //m^3/kg\n",
"vfg=0.4614 //m^3/kg\n",
"x1=(v1-vf)/vfg //quality\n",
"hf=604.74 //kJ/kg\n",
"hfg=2133.8//kJ/kg\n",
"h2=3066.8 //final specific heat enthalpy in kJ/kg\n",
"h1=hf+x1*hfg //initial specific enthalpy in kJ/kg\n",
"Q=m*(h2-h1) //heat transfer for this process in kJ\n",
"P=400 //pressure inside cylinder in kPa\n",
"v2=0.6548 //specific enthalpy in m^3/kg\n",
"W=m*P*(v2-v1) //work done for the process in kJ\n",
"printf('\n hence, work done for the process, W = %.3f kJ. \n',W)\n",
"printf('\n and heat transfer, Q=%.3f kJ.\n',Q)"
   ]
   }
,
{
		   "cell_type": "markdown",
		   "metadata": {},
		   "source": [
			"## Example 5.8: Calculating_change_in_enthalpy.sce"
		   ]
		  },
  {
"cell_type": "code",
	   "execution_count": null,
	   "metadata": {
	    "collapsed": true
	   },
	   "outputs": [],
"source": [
"//example 8\n",
"//calculating change in enthalpy\n",
"clear\n",
"clc\n",
"h1=273.2 //specific heat enthalpy for oxygen at 300 K\n",
"h2=1540.2 //specific heat enthalpy for oxygen at 1500 K\n",
"T1=300 //initial temperature in K\n",
"T2=1500 //final temparature in K\n",
"x=poly([0],'x');\n",
"Cp=0.88-0.00001*x+0.54*x^2-0.33*x^3 //expression for constant pressure specific heat enthalpy for oxygen\n",
"dh1=h2-h1 //this change in specific heat enthalpy is calculated using ideal gas tables \n",
"dh2=1000*integrate('0.88-0.00001*x+0.54*x^2-0.33*x^3','x',T1/1000,T2/1000) //using empirical equation\n",
"dh3=0.922*(T2-T1) //it is claculated if we assume specific heat enthalpy to be constant and uses its value at 300K\n",
"dh4=1.0767*(T2-T1) //it is claculated if we assume specific heat enthalpy to be constant and uses its value at 900K i.e mean of initial and final temperature\n",
"printf('\n Hence,change in specific heat enthalpy if ideal gas tables are used is dh1=%.1f kJ/kg. \n', dh1)\n",
"printf('\n if empirical equations are used, dh2=%.1f kJ/kg. \n', dh2)\n",
"printf('\n if specific heat is assumed to be constant and using its value at T1, dh3=%.1f kJ/kg. \n', dh3)\n",
"printf('\n if specific heat is assumed to be constant at its value at (T1+T2)/2, dh4=%.1f kJ/kg. \n', dh4)"
   ]
   }
,
{
		   "cell_type": "markdown",
		   "metadata": {},
		   "source": [
			"## Example 5.9: Determining_amount_of_heat_transfer.sce"
		   ]
		  },
  {
"cell_type": "code",
	   "execution_count": null,
	   "metadata": {
	    "collapsed": true
	   },
	   "outputs": [],
"source": [
"//example 9\n",
"//determining amount of heat transfer\n",
"clear\n",
"clc\n",
"P=150 //pressure of nitrogen in cylinder in kPa\n",
"V=0.1 //initial volume of cylinder in m^3\n",
"T1=25 //initial temperature of nitrogen in celsius\n",
"T2=150 //final tempareture of nitrogen in celsius\n",
"R=0.2968 //in kJ/kg-K\n",
"m=P*V/(R*(T1+273)) //mass of nitrogen in kg\n",
"Cv=0.745 //constant volume specific heat for nitrogen in kJ/kg-K\n",
"W=-20 //work done on nitrogen gas in kJ\n",
"Q=m*Cv*(T2-T1)+W //heat transfer during the process in kJ\n",
"printf('\n hence,the heat transfer for the above process is Q=%.1f kJ. \n', Q)"
   ]
   }
],
"metadata": {
		  "kernelspec": {
		   "display_name": "Scilab",
		   "language": "scilab",
		   "name": "scilab"
		  },
		  "language_info": {
		   "file_extension": ".sce",
		   "help_links": [
			{
			 "text": "MetaKernel Magics",
			 "url": "https://github.com/calysto/metakernel/blob/master/metakernel/magics/README.md"
			}
		   ],
		   "mimetype": "text/x-octave",
		   "name": "scilab",
		   "version": "0.7.1"
		  }
		 },
		 "nbformat": 4,
		 "nbformat_minor": 0
}
