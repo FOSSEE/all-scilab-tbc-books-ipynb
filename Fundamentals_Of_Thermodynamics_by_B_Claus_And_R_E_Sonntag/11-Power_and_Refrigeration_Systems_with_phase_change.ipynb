{
"cells": [
 {
		   "cell_type": "markdown",
	   "metadata": {},
	   "source": [
       "# Chapter 11: Power and Refrigeration Systems with phase change"
	   ]
	},
{
		   "cell_type": "markdown",
		   "metadata": {},
		   "source": [
			"## Example 11.1: To_determine_the_efficiency_of_Rankine_cycle.sce"
		   ]
		  },
  {
"cell_type": "code",
	   "execution_count": null,
	   "metadata": {
	    "collapsed": true
	   },
	   "outputs": [],
"source": [
"//Ques 1\n",
"//To determine the efficiency of Rankine cycle\n",
"clc\n",
"clear\n",
"//1-Inlet state of pump\n",
"//2-Exit state of pump\n",
"P2=2000;//Exit pressure in kPa\n",
"P1=10;//Inlet pressure in kPa\n",
"v=0.00101;//specific weight of water in m^3/kg\n",
"wp=v*(P2-P1);//work done in pipe in kJ/kg\n",
"h1=191.8;//Enthalpy in kJ/kg from table\n",
"h2=h1+wp;//enthalpy in kJ/kg\n",
"//2-Inlet state for boiler\n",
"//3-Exit state for boiler\n",
"h3=2799.5;//Enthalpy in kJ/kg\n",
"//3-Inlet state for turbine\n",
"//4-Exit state for turbine\n",
"//s3=s4(Entropy remain same)\n",
"s4=6.3409;//kJ/kg\n",
"sf=0.6493;//Entropy at liquid state in kJ/kg\n",
"sfg=7.5009;//Entropy difference for vapor and liquid state in kJ/kg\n",
"x4=(s4-sf)/sfg;//x-factor\n",
"hfg=2392.8;//Enthalpy difference in kJ/kg for turbine\n",
"h4=h1+x4*hfg;//Enthalpy in kJ/kg\n",
"\n",
"nth=((h3-h2)-(h4-h1))/(h3-h2);\n",
"printf('Percentage efficiency = %.1f ',nth*100);"
   ]
   }
,
{
		   "cell_type": "markdown",
		   "metadata": {},
		   "source": [
			"## Example 11.2: To_determine_the_efficiency_of_Rankine_cycle.sce"
		   ]
		  },
  {
"cell_type": "code",
	   "execution_count": null,
	   "metadata": {
	    "collapsed": true
	   },
	   "outputs": [],
"source": [
"//Ques 2\n",
"//To determine the efficiency of Rankine cycle\n",
"clc\n",
"clear\n",
"//1-Inlet state of pump\n",
"//2-Exit state of pump\n",
"P2=4000;//Exit pressure in kPa\n",
"P1=10;//Inlet pressure in kPa\n",
"v=0.00101;//specific weight of water in m^3/kg\n",
"wp=v*(P2-P1);//work done in pipe in kJ/kg\n",
"h1=191.8;//Enthalpy in kJ/kg from table\n",
"h2=h1+wp;//enthalpy in kJ/kg\n",
"//2-Inlet state for boiler\n",
"//3-Exit state for boiler\n",
"h3=3213.6;//Enthalpy in kJ/kg from table\n",
"//3-Inlet state for turbine\n",
"//4-Exit state for turbine\n",
"//s3=s4(Entropy remain same)\n",
"s4=6.7690;//Entropy in kJ/kg from table\n",
"sf=0.6493;//Entropy at liquid state in kJ/kg from table\n",
"sfg=7.5009;//Entropy difference for vapor and liquid state in kJ/kg from table\n",
"x4=(s4-sf)/sfg;//x-factor\n",
"hfg=2392.8;//Enthalpy difference in kJ/kg for turbine\n",
"h4=h1+x4*hfg;//Enthalpy in kJ/kg\n",
"\n",
"nth=((h3-h2)-(h4-h1))/(h3-h2);\n",
"printf('Percentage efficiency = %.1f ',nth*100);"
   ]
   }
,
{
		   "cell_type": "markdown",
		   "metadata": {},
		   "source": [
			"## Example 11.3: To_determine_the_efficiency_of_a_cycle.sce"
		   ]
		  },
  {
"cell_type": "code",
	   "execution_count": null,
	   "metadata": {
	    "collapsed": true
	   },
	   "outputs": [],
"source": [
"//Ques 3\n",
"//To determine the efficiency of a cycle\n",
"clc\n",
"clear\n",
"//1-Inlet state of pump\n",
"//2-Exit state of pump\n",
"P2=4000;//Exit pressure in kPa\n",
"P1=10;//Inlet pressure in kPa\n",
"v=0.00101;//specific weight of water in m^3/kg\n",
"wp=v*(P2-P1);//work done in pipe in kJ/kg\n",
"h1=191.8;//Enthalpy in kJ/kg from table\n",
"h2=h1+wp;//enthalpy in kJ/kg\n",
"//2-Inlet state for boiler\n",
"//3-Exit state for Boiler\n",
"h3=3213.6;//Enthalpy in kJ/kg from table\n",
"//3-Inlet state for high pressure turbine\n",
"//4-Exit state for high pressure turbine\n",
"//s3=s4(Entropy remain same)\n",
"s4=6.7690;//Entropy in kJ/kg from table\n",
"sf=1.7766;//Entropy at liquid state in kJ/kg from table\n",
"sfg=5.1193;//Entropy difference for vapor and liquid state in kJ/kg from table\n",
"x4=(s4-sf)/sfg;//x-factor\n",
"hf=604.7//Enthalpy of liquid state in kJ/kg\n",
"hfg=2133.8;//Enthalpy difference in kJ/kg for turbine\n",
"h4=hf+x4*hfg;//Enthalpy in kJ/kg\n",
"//5-Inlet state for low pressure turbine\n",
"//6-Exit pressure for low pressure turbine\n",
"sf=0.6493;//Entropy in liquid state in kJ/kg for turbine\n",
"h5=3273.4;//enthalpy in kJ/kg \n",
"s5=7.8985;//Entropy in kJ/kg\n",
"sfg=7.5009;//entropy diff in kJ/kg \n",
"x6=(s5-sf)/sfg;//x-factor\n",
"hfg=2392.8;//enthalpy difference for low pressure turbine in kj/kg\n",
"h6=h1+x6*hfg;//entropy in kg/kg\n",
"wt=(h3-h4)+(h5-h6);//work output in kJ/kg\n",
"qh=(h3-h2)+(h5-h4);\n",
"\n",
"nth=(wt-wp)/qh;\n",
"printf('Percentage efficiency = %.1f ',nth*100);"
   ]
   }
,
{
		   "cell_type": "markdown",
		   "metadata": {},
		   "source": [
			"## Example 11.4: Efficiency_of_Refrigeration_cycle.sce"
		   ]
		  },
  {
"cell_type": "code",
	   "execution_count": null,
	   "metadata": {
	    "collapsed": true
	   },
	   "outputs": [],
"source": [
"//ques4\n",
"//Efficiency of Refrigeration cycle\n",
"clc\n",
"clear\n",
"//from previous examples\n",
"h1=191.8;//kJ/kg\n",
"h5=3213.6;//kg/kg\n",
"h6=2685.7;//kJ/kg\n",
"h7=2144.1;//kJ/kg\n",
"h3=604.7;//kJ/kg\n",
"//1-Inlet state of pump\n",
"//2-Exit state of pump\n",
"P2=400;//Exit pressure in kPa\n",
"P1=10;  //Inlet pressure in kPa\n",
"v=0.00101;//specific weight of water in m^3/kg\n",
"wp1=v*(P2-P1);//work done for low pressure pump in kJ/kg\n",
"h1=191.8;//Enthalpy in kJ/kg from table\n",
"h2=h1+wp1;//enthalpy in kJ/kg\n",
"//5-Inlet state for turbine\n",
"//6,7-Exit state for turbine\n",
"y=(h3-h2)/(h6-h2);//extraction fraction\n",
"wt=(h5-h6)+(1-y)*(h6-h7);//turbine work in kJ/kg\n",
"//3-Inlet for high pressure pump\n",
"//4-Exit for high pressure pump\n",
"P3=400;//kPa\n",
"P4=4000;//kPa\n",
"v=0.001084;//specific heat for 3-4 process in m^3/kg\n",
"wp2=v*(P4-P3);//work done for high pressure pump\n",
"h4=h3+wp2;//Enthalpy in kJ/kg\n",
"wnet=wt-(1-y)*wp1-wp2;\n",
"qh=h5-h4;//Heat output in kJ/kg\n",
"nth=wnet/qh;\n",
"printf('Refrigerator Efficiency = %.1f ',nth*100);"
   ]
   }
,
{
		   "cell_type": "markdown",
		   "metadata": {},
		   "source": [
			"## Example 11.5: To_determine_thermal_efficiency_of_cycle.sce"
		   ]
		  },
  {
"cell_type": "code",
	   "execution_count": null,
	   "metadata": {
	    "collapsed": true
	   },
	   "outputs": [],
"source": [
"//ques5\n",
"//To determine thermal efficiency of cycle\n",
"clear\n",
"clc\n",
"//5-Inlet state for turbine\n",
"//6-Exit state for turbine\n",
"//h-Enthalpy at a state \n",
"//s-Entropy at a state\n",
"//from steam table\n",
"h5=3169.1;//kJ/kg\n",
"s5=6.7235;//kJ/kg\n",
"s6s=s5;\n",
"sf=0.6493;//Entropy for liquid state in kJ/kg\n",
"sfg=7.5009;//Entropy difference in kJ/kg\n",
"hf=191.8;//kJ/kg\n",
"hfg=2392.8;//Enthalpy difference in kJ/kg\n",
"x6s=(s6s-sf)/sfg;//x-factor\n",
"h6s=hf+x6s*hfg;//kJ/Kg at state 6s\n",
"nt=0.86;//turbine efficiency given\n",
"wt=nt*(h5-h6s);\n",
"//1-Inlet state for pump\n",
"//2-Exit state for pump\n",
"np=0.80;//pump efficiency given\n",
"v=0.001009;//specific heat in m^3/kg\n",
"P2=5000;//kPa\n",
"P1=10;//kPa\n",
"wp=v*(P2-P1)/np;//Work done in pump in kJ/kg\n",
"wnet=wt-wp;//net work in kJ/kg\n",
"//3-Inlet state for boiler\n",
"//4-Exit state for boiler\n",
"h3=171.8;//in kJ/kg from table\n",
"h4=3213.6;//kJ/kg from table\n",
"qh=h4-h3;\n",
"nth=wnet/qh;\n",
"printf('Cycle Efficiency = %.1f ',nth*100);"
   ]
   }
],
"metadata": {
		  "kernelspec": {
		   "display_name": "Scilab",
		   "language": "scilab",
		   "name": "scilab"
		  },
		  "language_info": {
		   "file_extension": ".sce",
		   "help_links": [
			{
			 "text": "MetaKernel Magics",
			 "url": "https://github.com/calysto/metakernel/blob/master/metakernel/magics/README.md"
			}
		   ],
		   "mimetype": "text/x-octave",
		   "name": "scilab",
		   "version": "0.7.1"
		  }
		 },
		 "nbformat": 4,
		 "nbformat_minor": 0
}
