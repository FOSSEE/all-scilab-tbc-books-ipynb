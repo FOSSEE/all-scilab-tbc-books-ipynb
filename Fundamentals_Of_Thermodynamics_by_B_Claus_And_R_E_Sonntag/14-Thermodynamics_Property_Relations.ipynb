{
"cells": [
 {
		   "cell_type": "markdown",
	   "metadata": {},
	   "source": [
       "# Chapter 14: Thermodynamics Property Relations"
	   ]
	},
{
		   "cell_type": "markdown",
		   "metadata": {},
		   "source": [
			"## Example 14.1: to_determine_the_sublimation_pressure_of_water.sce"
		   ]
		  },
  {
"cell_type": "code",
	   "execution_count": null,
	   "metadata": {
	    "collapsed": true
	   },
	   "outputs": [],
"source": [
"//ques1\n",
"//to determine the sublimation pressure of water\n",
"clear\n",
"clc\n",
"//from table in appendix B.1.5\n",
"T1=213.2;//K, Temperature at state 1\n",
"P2=0.0129;//kPa, pressure at state 2\n",
"T2=233.2;//K, Temperature at state 2\n",
"hig=2838.9;//kJ/kg, enthalpy of sublimation \n",
"R=.46152;//Gas constant \n",
"//using relation log(P2/P1)=(hig/R)*(1/T1-1/T2) \n",
"P1=P2*exp(-hig/R*(1/T1-1/T2));\n",
"printf('Sublimation Pressure = %.5f kPa \n',P1);"
   ]
   }
,
{
		   "cell_type": "markdown",
		   "metadata": {},
		   "source": [
			"## Example 14.4: Volume_expansivity_Isothermal_and_Adiabatic_compressibility.sce"
		   ]
		  },
  {
"cell_type": "code",
	   "execution_count": null,
	   "metadata": {
	    "collapsed": true
	   },
	   "outputs": [],
"source": [
"//ques4\n",
"//Volume expansivity, Isothermal and Adiabatic compressibility\n",
"clear\n",
"clc\n",
"//known data\n",
"ap=5*10^-5;//K^-1 Volume expansivity\n",
"bt=8.6*10^-12;//m^2/N, Isothermal compressibility\n",
"v=0.000114;//m^3/kg, specific volume\n",
"P2=100*10^6;//pressure at state 2 in kPa\n",
"P1=100;//pressure at state 1 in kPa\n",
"w=-v*bt*(P2^2-P1^2)/2;//work done in J/kg\n",
"//q=T*ds and ds=-v*ap*(P2-P1)\n",
"//so q=-T*v*ap*(P2-P1)\n",
"T=288.2;//Temperature in K\n",
"q=-T*v*ap*(P2-P1);//heat in J/kg\n",
"du=q-w;//change in internal energy in J/kg\n",
"printf('Change in internal energy = %.1f J/kg ',du);\n",
" "
   ]
   }
,
{
		   "cell_type": "markdown",
		   "metadata": {},
		   "source": [
			"## Example 14.5: adiabatic_steady_state_processes.sce"
		   ]
		  },
  {
"cell_type": "code",
	   "execution_count": null,
	   "metadata": {
	    "collapsed": true
	   },
	   "outputs": [],
"source": [
"//ques5\n",
"//adiabatic steady state processes\n",
"clear\n",
"clc\n",
"//from table A.2\n",
"P1=20;//pressure at state 1 in MPa\n",
"P2=2;//pressure at state 2 in MPa\n",
"T1=203.2;//Temperature at state 1 in K\n",
"Pr1=P1/3.39;//Reduced pressure at state 1\n",
"Pr2=P2/3.39;//Reduced pressure at state 2\n",
"Tr1=T1/126.2;//Reduced temperature\n",
"//from compressibility chart h1*-h1=2.1*R*Tc\n",
"//from zero pressure specific heat data h1*-h2*=Cp*(T1a-T2a)\n",
"//h2*-h2=0.5*R*Tc\n",
"//this gives dh=h1-h2=-2.1*R*Tc+Cp*(T1a-T2a)+0.5*R*Tc\n",
"R=0.2968;//gas constant for given substance\n",
"Tc=126.2;//K, Constant temperature\n",
"Cp=1.0416;//heat enthalpy at constant pressure in kJ/kg\n",
"T2=146;//temperature at state 2\n",
"dh=-1.6*R*Tc+Cp*(T1-T2);//\n",
"printf('Enthalpy change = %.0f kJ/kg \n',dh);\n",
"printf(' Since Enthalpy change is %.0f kJ/kg so Temperature = %.1f K',dh,T2); "
   ]
   }
,
{
		   "cell_type": "markdown",
		   "metadata": {},
		   "source": [
			"## Example 14.6: isothermal_steady_state_processes.sce"
		   ]
		  },
  {
"cell_type": "code",
	   "execution_count": null,
	   "metadata": {
	    "collapsed": true
	   },
	   "outputs": [],
"source": [
"//ques6\n",
"//isothermal steady state processes\n",
"clear\n",
"clc\n",
"//from table A.2\n",
"P1=8;//pressure at state 1 in MPa\n",
"P2=0.5;//pressure at state 2 in MPa\n",
"T1=150;//Temperature at state 1 in K\n",
"Pr1=P1/3.39;//Reduced pressure at state 1\n",
"Pr2=P2/3.39;//Reduced pressure at state 2\n",
"Tr1=T1/126.2;//Reduced temperature\n",
"T2=125;//temperature at state 2\n",
"//from compressibility chart h1*-h1=2.1*R*Tc\n",
"//from zero pressure specific heat data h1*-h2*=Cp*(T1a-T2a)\n",
"//h2*-h2=0.5*R*Tc\n",
"//this gives dh=h1-h2=-2.1*R*Tc+Cp*(T1a-T2a)+0.15*R*Tc\n",
"R=0.2968;//gas constant for given substance\n",
"Tc=126.2;//K, Constant temperature\n",
"Cp=1.0416;//heat enthalpy at constant pressure in kJ/kg\n",
"dh=(2.35)*R*Tc+Cp*(T2-T1);//\n",
"printf('Enthalpy change = %.2f kJ/kg \n',dh);\n",
"//change in entropy \n",
"//ds= -(s2*-s2)+(s2*-s1*)+(s1*-s1)\n",
"//s1*-s1=1.6*R\n",
"//s2*-s2=0.1*R\n",
"//s2*-s1*=Cp*log(T2/T1)-R*log(P2/P1)\n",
"//so\n",
"ds=1.6*R-0.1*R+Cp*log(T2/T1)-R*log(P2/P1);\n",
"printf(' Entropy Change = %.4f kJ/kg.K ',ds);"
   ]
   }
,
{
		   "cell_type": "markdown",
		   "metadata": {},
		   "source": [
			"## Example 14.7: EX14_7.sce"
		   ]
		  },
  {
"cell_type": "code",
	   "execution_count": null,
	   "metadata": {
	    "collapsed": true
	   },
	   "outputs": [],
"source": [
"//ques7\n",
"//percent deviation using specific volume calculated by kays rule and vander waals rule\n",
"clear\n",
"clc\n",
"//a-denotes C02\n",
"//b-denotes CH4\n",
"T=310.94;//Temperature of mixture K\n",
"P=86.19;//Pressure of mixture in MPa\n",
"//Tc- critical Temperature\n",
"//Pc-critical pressure\n",
"Tca=304.1;//K\n",
"Tcb=190.4;//K\n",
"Pca=7.38;//MPa\n",
"Pcb=4.60;//MPa\n",
"Ra=0.1889;//gas constant for a in kJ/kg.K\n",
"Rb=0.5183;//gas constant for b in kJ/kg.K\n",
"xa=0.8;//fraction of CO2\n",
"xb=0.2;//fraction of CH4\n",
"Rm=xa*Ra+xb*Rb;//mean gas constant in kJ/kg.K\n",
"Ma=44.01;//molecular mass of a\n",
"Mb=16.043;//molecular mass of b\n",
"//1.Kay's rule\n",
"ya=xa/Ma/(xa/Ma+xb/Mb);//mole fraction of a\n",
"yb=xb/Mb/(xa/Ma+xb/Mb);//mole fraction of b\n",
"Tcm=ya*Tca+yb*Tcb;//mean critical temp in K\n",
"Pcm=ya*Pca+yb*Tcb;//mean critical pressure n MPa\n",
"//therefore pseudo reduced property of mixture\n",
"Trm=T/Tcm;\n",
"Prm=P/Pcm;\n",
"Zm=0.7;//Compressiblity from generalised compressibility chart\n",
"vc=Zm*Rm*T/P/1000;//specific volume calculated in m^3/kg\n",
"ve=0.0006757;//experimental specific volume in m^3/kg\n",
"pd1=(ve-vc)/ve*100;//percent deviation\n",
"printf('Percentage deviation in specific volume using Kays rule = %.1f percent \n',pd1);   \n",
"\n",
"//2. using vander waals equation\n",
"//values of vander waals constant\n",
"Aa=27*Ra^2*Tca^2/(64*Pca*1000);\n",
"Ba=Ra*Tca/(8*Pca*1000);\n",
"Ab=27*Rb^2*Tcb^2/(64*Pcb*1000);\n",
"Bb=Rb*Tcb/(8*Pcb*1000);\n",
"//mean vander waals constant\n",
"Am=(xa*sqrt(Aa)+xb*sqrt(Ab))^2;\n",
"Bm=(xa*Ba+xb*Bb);\n",
"//using vander waals equation we get cubic equation \n",
"//solving we get\n",
"vc=0.0006326;//calculated specific volume in m^3/kg\n",
"pd2=(ve-vc)/ve*100;\n",
"printf(' Percentage deviation in specific volume using vander waals eqn = %.1f percent \n',pd2); "
   ]
   }
],
"metadata": {
		  "kernelspec": {
		   "display_name": "Scilab",
		   "language": "scilab",
		   "name": "scilab"
		  },
		  "language_info": {
		   "file_extension": ".sce",
		   "help_links": [
			{
			 "text": "MetaKernel Magics",
			 "url": "https://github.com/calysto/metakernel/blob/master/metakernel/magics/README.md"
			}
		   ],
		   "mimetype": "text/x-octave",
		   "name": "scilab",
		   "version": "0.7.1"
		  }
		 },
		 "nbformat": 4,
		 "nbformat_minor": 0
}
