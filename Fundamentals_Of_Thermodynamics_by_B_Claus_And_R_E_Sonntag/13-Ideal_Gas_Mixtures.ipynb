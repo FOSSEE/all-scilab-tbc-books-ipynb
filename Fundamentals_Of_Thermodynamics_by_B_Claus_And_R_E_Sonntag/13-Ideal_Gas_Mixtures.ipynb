{
"cells": [
 {
		   "cell_type": "markdown",
	   "metadata": {},
	   "source": [
       "# Chapter 13: Ideal Gas Mixtures"
	   ]
	},
{
		   "cell_type": "markdown",
		   "metadata": {},
		   "source": [
			"## Example 13.3: calculating_humidity_ratio_dew_point_mass_of_air_mass_of_vapor.sce"
		   ]
		  },
  {
"cell_type": "code",
	   "execution_count": null,
	   "metadata": {
	    "collapsed": true
	   },
	   "outputs": [],
"source": [
"//ques3\n",
"//calculating humidity ratio, dew point,mass of air, mass of vapor\n",
"clear\n",
"clc\n",
"r=0.70;//relative humidity\n",
"Pg=5.628;//saturation pressure in kPa\n",
"Pv=r*Pg;//vapour pressure in kPa\n",
"P=100;//net pressure kPa \n",
"Pa=P-Pv;//Partial pressure of air\n",
"w=0.622*Pv/Pa;//humidity ratio formula\n",
"V=100;//volume in m^3\n",
"Ra=0.287;//gas constant for water vapour\n",
"T=308.2;//Temperature in K\n",
"ma=Pa*V/(Ra*T);//mass in kg\n",
"mv=w*ma;//mass of vapour\n",
"printf('Mass of vapour = %.2f Kg ', mv);"
   ]
   }
,
{
		   "cell_type": "markdown",
		   "metadata": {},
		   "source": [
			"## Example 13.4: calculating_amount_of_water_vapour_condensed_on_cooling.sce"
		   ]
		  },
  {
"cell_type": "code",
	   "execution_count": null,
	   "metadata": {
	    "collapsed": true
	   },
	   "outputs": [],
"source": [
"//ques4 \n",
"//calculating amount of water vapour condensed on cooling\n",
"clear\n",
"clc\n",
"//from example 3\n",
"w1=0.0255;//w1=w, humidity ratio at initial temperature\n",
"ma=108.6;//mass of air in kg\n",
"P=100;//kPa net pressure\n",
"//at 5 C mixture is saturated so Pv2=Pg2\n",
"Pg2=0.8721;\n",
"Pv2=Pg2;\n",
"w2=0.622*Pv2/(P-Pg2);\n",
"mc=ma*(w1-w2);\n",
"printf('Mass of vapour condense = %.3f kg \n',mc); "
   ]
   }
,
{
		   "cell_type": "markdown",
		   "metadata": {},
		   "source": [
			"## Example 13.5: calculating_heat_transfer_per_kilogram_of_dry_air.sce"
		   ]
		  },
  {
"cell_type": "code",
	   "execution_count": null,
	   "metadata": {
	    "collapsed": true
	   },
	   "outputs": [],
"source": [
"//ques5\n",
"//calculating heat transfer per kilogram of dry air\n",
"clear\n",
"clc\n",
"//1-inlet state\n",
"//2-Exit state\n",
"r1=0.80;//realtive humidity at state 1\n",
"Pg1=4.246;//saturation pressure of vapour in kPa\n",
"P1=105;//net pressure at state 1 in kPa\n",
"P2=100;//net pressure at state 2 in kPa\n",
"Pv1=r1*Pg1;//partial pressure of vapour in kPa\n",
"w1=0.622*Pv1/(P1-Pv1);//humidity ratio at state 1\n",
"r2=0.95;//relative humidity at state 2\n",
"Pg2=1.7051;//saturation pressure of vapour in kPa\n",
"Pv2=r2*Pg2;//partial pressure of vapour in kPa\n",
"w2=0.622*Pv2/(P2-Pv2);//humidity ratio at state 2\n",
"T1=30;//C\n",
"T2=15;//C\n",
"Cp=1.004;//specific heat of water vapour in kJ/kg\n",
"hv2=2528.9;//enthalpy of vapourisation of vapour in kJ/kg\n",
"hv1=2556.3;//enthalpy of vapourisation of vapour in kJ/kg\n",
"hl2=62.99;//enthalpy of \n",
"q=Cp*(T2-T1)+w2*hv2-w1*hv1+hl2*(w1-w2);//kJ/kg\n",
"printf('Heat transferred per unit mass = %.2f kJ/kg of dry air',q);"
   ]
   }
,
{
		   "cell_type": "markdown",
		   "metadata": {},
		   "source": [
			"## Example 13.6: calculating_heat_transferred_in_gas_vapour_mixture.sce"
		   ]
		  },
  {
"cell_type": "code",
	   "execution_count": null,
	   "metadata": {
	    "collapsed": true
	   },
	   "outputs": [],
"source": [
"//ques6\n",
"//calculating heat transferred in gas vapour mixture\n",
"clear\n",
"clc\n",
"//n-Nitrogen\n",
"//v-water vapour\n",
"Pn2=1995;//Pressure of nitrogen in kPa\n",
"V=0.5;//Volume in m^3\n",
"Rn2=0.2968;//Gas constant for nitrogen in kJ/kg.K\n",
"Rv=0.4615;//gas constant for vapour\n",
"T1=323.2;//Temperature in K\n",
"T2=283.2;//Temperature in K\n",
"Pv1=5;//Pressure of water vapour in kPa at state 1\n",
"Pv2=1.2276;//Pressure of water vapour in kPa at state 2\n",
"mn2=Pn2*V/(Rn2*T1);//mass of nitrogen\n",
"mv1=Pv1*V/(Rv*T1);//mass of vapour in kg\n",
"mv2=Pv2*V/(Rv*T2);//mass of vapour in kg\n",
"ml2=mv1-mv2;//mass of liquid condensed n kg\n",
"uv1=2443.1;//specific internal energy of vapour in kJ/kg at state 1\n",
"uv2=2389.2;//specific internal energy of vapour in kJ/kg at state 2\n",
"ul2=42.0;//specific internal energy of liquid water in kJ/kg\n",
"Cv=0.745;//specific heat at constant volume in kJ/kg.K\n",
"Q=mn2*Cv*(T2-T1)+mv2*uv2+ml2*ul2-mv1*uv1;\n",
"printf('Heat transferred = %.1f kJ ',Q);"
   ]
   }
,
{
		   "cell_type": "markdown",
		   "metadata": {},
		   "source": [
			"## Example 13.7: calculating_humidity_ratio_and_relative_humidity.sce"
		   ]
		  },
  {
"cell_type": "code",
	   "execution_count": null,
	   "metadata": {
	    "collapsed": true
	   },
	   "outputs": [],
"source": [
"//ques7\n",
"//calculating humidity ratio and relative humidity \n",
"clear\n",
"clc\n",
"//1-Inlet state\n",
"//2-Exit state\n",
"P=100;//net pressure n kPa \n",
"//it is steady state adiabatic process\n",
"//water vapour leaving is saturated so Pv2=Pg2\n",
"Pg2=2.339;//saturation pressure of vapour in kPa\n",
"Pv2=Pg2;//partial pressure of vapour\n",
"w2=0.622*Pv2/(P-Pg2);\n",
"Cpa=1.004;//specific heat n kJ/kg/K\n",
"T2=20;// final temp in C\n",
"T1=30;// initial temp in C\n",
"Hfg2=2454.1;//specific heat difference at state 2 in kJ/kg\n",
"hv1=2556.3;//enthalpy of water vapour at state 1 in kJ/kg\n",
"hl2=83.96;//enthalpy of liquid water in kJ/kg\n",
"w1=(Cpa*(T2-T1)+w2*Hfg2)/(hv1-hl2);\n",
"printf('Relative humidity = %.4f \n',w1);\n",
"//also w1=0.622*Pv1/(100-Pv2)\n",
"Pv1=100*w1/(0.622+w1);\n",
"Pg1=4.246;//saturation pressure at state 1 in kPa\n",
"r=Pv1/Pg1;//humidity ratio\n",
"printf(' Humidity ratio = %.3f ',r);"
   ]
   }
],
"metadata": {
		  "kernelspec": {
		   "display_name": "Scilab",
		   "language": "scilab",
		   "name": "scilab"
		  },
		  "language_info": {
		   "file_extension": ".sce",
		   "help_links": [
			{
			 "text": "MetaKernel Magics",
			 "url": "https://github.com/calysto/metakernel/blob/master/metakernel/magics/README.md"
			}
		   ],
		   "mimetype": "text/x-octave",
		   "name": "scilab",
		   "version": "0.7.1"
		  }
		 },
		 "nbformat": 4,
		 "nbformat_minor": 0
}
