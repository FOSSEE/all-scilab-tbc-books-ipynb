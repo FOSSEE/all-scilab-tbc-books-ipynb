{
"cells": [
 {
		   "cell_type": "markdown",
	   "metadata": {},
	   "source": [
       "# Chapter 3: Pure Substance Behaviour"
	   ]
	},
{
		   "cell_type": "markdown",
		   "metadata": {},
		   "source": [
			"## Example 3.10: Mass_flow_rate.sce"
		   ]
		  },
  {
"cell_type": "code",
	   "execution_count": null,
	   "metadata": {
	    "collapsed": true
	   },
	   "outputs": [],
"source": [
"//example 10\n",
"//mass  flow rate\n",
"clear\n",
"clc\n",
"dt=185 //time period in seconds over which there is incrrease in volume \n",
"dV=0.75 //increase in volume in 0.75 in m^3\n",
"V=dV/dt //volume flow rate in m^3/s\n",
"P=105 //pressure inside gas bell kPa\n",
"T=21 //temperature in celsius\n",
"R=0.1889 //ideal gas constant in kJ/kg-K\n",
"m=P*V/(R*(T+273.15)) //mass flow rate of the flow in kg/s\n",
"printf('\n hence,mass flow rate is m = %.3f kg/s. \n',m)\n",
"printf('\n and volume flow rate is V = %.3f m^3/s. \n',V)"
   ]
   }
,
{
		   "cell_type": "markdown",
		   "metadata": {},
		   "source": [
			"## Example 3.11: Predicting_the_nature_of_given_state.sce"
		   ]
		  },
  {
"cell_type": "code",
	   "execution_count": null,
	   "metadata": {
	    "collapsed": true
	   },
	   "outputs": [],
"source": [
"//example 11\n",
"//predicting the nature of given state\n",
"clear\n",
"clc\n",
"disp('For Nitrogn, the critical properties are 126.2 K, 3.39 MPa. Given T=20+273.2 K, P=1.0 MPa. Since, given temperature is more than twice Tc and the reduced pressure is less than 0.3, ideal gas behaviour is a very good assumption.')\n",
"disp('For Carbon Dioxide, the critical properties are 304.1 K,7.38 MPa.Given T=20+273.2 K, P=1.0 MPa Therefore, reduced properties are 0.96(T/Tc) and 0.136 (P/Pc). CO2 is a gas with a Z of about 0.95, os the ideal gas is accurate to within about 5% in this case.')\n",
"disp('Given P=1.0MPa, T=20+273.2 K. For Ammonia, at T=293.2 K, Pg=858 kPa. Since, P>Pg, this state is compressible liquid and not a gas.')"
   ]
   }
,
{
		   "cell_type": "markdown",
		   "metadata": {},
		   "source": [
			"## Example 3.12: Determining_specific_using_diffenet_laws.sce"
		   ]
		  },
  {
"cell_type": "code",
	   "execution_count": null,
	   "metadata": {
	    "collapsed": true
	   },
	   "outputs": [],
"source": [
"//example 12\n",
"//determining specific using diffenet laws\n",
"clear\n",
"clc\n",
"T=100 //given temp.in 100 celsius\n",
"P=3 //given pressure in MPa\n",
"v1=0.0065 //specific volume in m^3/kg using table\n",
"printf('\n hence,the specific volume for R-134a using R-134a tables is v1 = %.3f m^3/kg. \n',v1)\n",
"M=102.3 //molecular mass in kg\n",
"R=8.3145 //in kJ/K\n",
"Ru=R/M //in kJ/K-kg\n",
"v2=Ru*(T+273)/(P*1000) //specific volume assuming R-134a to be ideal gas in m^3/kg\n",
"printf('\n hence,the specific volume for R-134a using R-134a the ideal gas laws is v2 = %.3f m^3/kg. \n',v2)\n",
"Tr=373.2/374.2 //reduced temperature using generalized chart\n",
"Pr=3/4.06 //reduced pressure using generalized chart\n",
"Z=0.67 //compressibility factor \n",
"v3=Z*v2 // specific volume using generalized chart in m^3/kg\n",
"printf('\n hence,the specific volume for R-134a using the generalized chart is v3 = %.3f m^3/kg. \n',v3)"
   ]
   }
,
{
		   "cell_type": "markdown",
		   "metadata": {},
		   "source": [
			"## Example 3.13: Calculating_mass_of_gas.sce"
		   ]
		  },
  {
"cell_type": "code",
	   "execution_count": null,
	   "metadata": {
	    "collapsed": true
	   },
	   "outputs": [],
"source": [
"//example 13\n",
"//calculating mass of gas\n",
"clear\n",
"clc\n",
"Pc=4250 //critical pressure of propane in kPa\n",
"Tc=369.8 //critical temperature in K\n",
"T=15 //temperature of propane in celsius\n",
"Tr=T/Tc //reduced temperature\n",
"Prsat=0.2 // reduced pressure \n",
"P=Prsat*Pc //pressure in kPa\n",
"x=0.1 //given quality\n",
"Zf=0.035 //from graph\n",
"Zg=0.83 //from graph\n",
"Z=(1-x)*Zf+x*Zg //overall compressibility factor\n",
"V=0.1 //volume of steel bottle in m^3\n",
"R=0.1887 //in kPa-m^3/kg-K\n",
"m=P*V/(Z*R*(T+273)) //total propane mass in kg\n",
"printf('\n hence,the total propane mass is m = %.3f kg. \n',m)\n",
"printf('\n and pressure is P = %.3f kPa. \n',P)"
   ]
   }
,
{
		   "cell_type": "markdown",
		   "metadata": {},
		   "source": [
			"## Example 3.1: Determining_the_phase_of_water.sce"
		   ]
		  },
  {
"cell_type": "code",
	   "execution_count": null,
	   "metadata": {
	    "collapsed": true
	   },
	   "outputs": [],
"source": [
"//example 1\n",
"//determinig the phase of water\n",
"clear\n",
"clc\n",
"disp('from the table,we find that at 120C,saturation pressure of water is 198.5 kPa.But here we have pressure of 500 kPa.hence,water exists as a compressed liquid here.')\n",
"disp('also at 120C,vf=0.00106 kg/m^3 and vg=0.89186 kg/m^3.given v=0.5 m^3/kg i.e. vf<v<vg,so we have two phase mixture of liquid and vapor.')"
   ]
   }
,
{
		   "cell_type": "markdown",
		   "metadata": {},
		   "source": [
			"## Example 3.2: Determining_the_phase_of_Ammonia.sce"
		   ]
		  },
  {
"cell_type": "code",
	   "execution_count": null,
	   "metadata": {
	    "collapsed": true
	   },
	   "outputs": [],
"source": [
"//example 2\n",
"//determinig the phase \n",
"clear\n",
"clc\n",
"disp('from the table,we find that at 30C,saturation pressure of ammonia is 1167 kPa.But here we have pressure of 1000 kPa.hence,ammonia exists in superheated vapor state.')\n",
"disp('for R-22 at 200 kPa,vg=0.1119 kg/m^3.given v=0.15 m^3/kg i.e. v>vg,so the state is superheated vapor')"
   ]
   }
,
{
		   "cell_type": "markdown",
		   "metadata": {},
		   "source": [
			"## Example 3.3: Determining_the_quality_and_specific_volume.sce"
		   ]
		  },
  {
"cell_type": "code",
	   "execution_count": null,
	   "metadata": {
	    "collapsed": true
	   },
	   "outputs": [],
"source": [
"//example 3\n",
"//determining the quality and specific volume\n",
"clear\n",
"clc\n",
"v1=0.5 //given specific volume in m^3/kg\n",
"vf=0.001073 //specific volume when only liquid phase is present in m^3/kg\n",
"vfg=0.60475 //in m^3/kg\n",
"disp('For water at a pressure of 300 kPa,the state at which v1 is 0.5 m^3/kg is seen to be in the liquid-vapor two-phase region,at which T=133.6 C and the quality x is ')\n",
"x=(v1-vf)/vfg //quality \n",
"v2=1 //given specific volume in m^3/kg\n",
"disp('By comparing with the values given in the table,this state is seen to be in the superheated vapor region.temperature will be calculated using the method of interplotation.')\n",
"T=((400-300)*(1.0-0.8753))/(1.0315-0.8753)+300 //temperature of the water"
   ]
   }
,
{
		   "cell_type": "markdown",
		   "metadata": {},
		   "source": [
			"## Example 3.4: Percentage_of_vapor.sce"
		   ]
		  },
  {
"cell_type": "code",
	   "execution_count": null,
	   "metadata": {
	    "collapsed": true
	   },
	   "outputs": [],
"source": [
" //example 4\n",
"//percentage of vapor \n",
"clear\n",
"clc\n",
"vliq=0.1 //volume of saturated liquid in m^3\n",
"vf=0.000843 //in m^3/kg\n",
"vvap=0.9 //volume of saturated vapor R-134a in equilbrium\n",
"vg=0.02671 //in m^3/kg\n",
"mliq=vliq/vf //mass of liquid in kg \n",
"mvap=vvap/vg //mass of vapor in kg\n",
"m=mliq+mvap //total mass in kg\n",
"x=mvap/m //percentage of vapor on mass basis\n",
"disp('hence,% vapor on mass basis is 22.1')"
   ]
   }
,
{
		   "cell_type": "markdown",
		   "metadata": {},
		   "source": [
			"## Example 3.5: Calculating_pressure_after_heat_addition.sce"
		   ]
		  },
  {
"cell_type": "code",
	   "execution_count": null,
	   "metadata": {
	    "collapsed": true
	   },
	   "outputs": [],
"source": [
"//example 5\n",
"//calculating pressure after heat addition\n",
"clear\n",
"clc\n",
"v1=0.14922 //specific volume of sautrated ammonia in m^3/kg\n",
"disp('Since the volume does not change during the process,the specific volume remains constant.therefore, ')\n",
"v2=v1 //in m^3/kg\n",
"disp('Since vg at 40C is less than v2,it is evident that in the final state the Ammonia is superheated vapor.By interplotation,we find that ')\n",
"P2=945 //final pressure in kPa\n",
"disp('hence,the final pressure is 945 kPa')"
   ]
   }
,
{
		   "cell_type": "markdown",
		   "metadata": {},
		   "source": [
			"## Example 3.6: Determinig_the_missing_property.sce"
		   ]
		  },
  {
"cell_type": "code",
	   "execution_count": null,
	   "metadata": {
	    "collapsed": true
	   },
	   "outputs": [],
"source": [
"//example 6\n",
"//Determinig the missing property\n",
"clear\n",
"clc\n",
"T1=273-53.2 //given temperature in K\n",
"P1=600 //given pressure in kPa\n",
"disp('This temperature is higher than the critical temperature (critical temp. at P=600 kPa) is 96.37 K.Hence,v=0.10788 m^3/kg')\n",
"T2=100 //given temp. in K\n",
"v2=0.008 //given specific volume in m^3/kg\n",
"vf=0.001452 //in m^3/kg\n",
"vg=0.0312 //in m^3/kg\n",
"Psat=779.2 //saturation pressure in kPa\n",
"vfg=vg-vf //in m^3/kg\n",
"x=(v2-vf)/vfg //quality\n",
"printf('\n hence, the pressure is Psat = %.1f kPa. \n',Psat)\n",
"printf('\n and quality is x = %.4f . \n',x)"
   ]
   }
,
{
		   "cell_type": "markdown",
		   "metadata": {},
		   "source": [
			"## Example 3.7: Determining_the_pressure_of_water.sce"
		   ]
		  },
  {
"cell_type": "code",
	   "execution_count": null,
	   "metadata": {
	    "collapsed": true
	   },
	   "outputs": [],
"source": [
"//example 7\n",
"//determining the pressure of water\n",
"clear\n",
"clc\n",
"vg=0.12736 //specific volume in m^3/kg for water at 200C\n",
"v=0.4 //specific volume in m^3/kg\n",
"P1=500 //in kPa\n",
"v1=0.42492 //specific volume at P1 in m^3/kg\n",
"P2=600 //in kPa\n",
"v2=0.35202 //specific volume at P2 in m^3/kg\n",
"P=P1+(P2-P1)*(v-v1)/(v2-v1) //calculating pressure by interplotation\n",
"disp('hence,the pressure of water is 534.2 kPa')"
   ]
   }
,
{
		   "cell_type": "markdown",
		   "metadata": {},
		   "source": [
			"## Example 3.8: Calculating_mass_of_air.sce"
		   ]
		  },
  {
"cell_type": "code",
	   "execution_count": null,
	   "metadata": {
	    "collapsed": true
	   },
	   "outputs": [],
"source": [
"//example 8\n",
"//calculating mass of air\n",
"clear\n",
"clc\n",
"P=100 //pressure in kPa\n",
"V=6*10*4 //volume of room in m^3\n",
"R=0.287 //in kN-m/kg-K\n",
"T=25 //temperature in Celsius\n",
"m=P*V/(R*(T+273.2)) //mass of air contained in room\n",
"printf('\n hence, mass of air contained in room is m = %.3f kg. \n',m)"
   ]
   }
,
{
		   "cell_type": "markdown",
		   "metadata": {},
		   "source": [
			"## Example 3.9: Calculating_pressure_inside_tank.sce"
		   ]
		  },
  {
"cell_type": "code",
	   "execution_count": null,
	   "metadata": {
	    "collapsed": true
	   },
	   "outputs": [],
"source": [
"//example 9\n",
"//calculating pressure inside tank\n",
"clear\n",
"clc\n",
"V=0.5 //volumr of tank in m^3\n",
"m=10 //mass of ideal gas in kg\n",
"T=25 //temperature of tank in Celsius\n",
"M=24 //molecular mass of gas in kg/kmol\n",
"Ru=8.3145 //universal gas constant in kN-m/kmol-K\n",
"R=Ru/M //gas constant for given ideal gas in kN-m/kg-K\n",
"P=m*R*(T+273.2)/V //pressure inside tank\n",
"printf('\n hence,pressure inside tank is P = %.0f kPa. \n',P)"
   ]
   }
],
"metadata": {
		  "kernelspec": {
		   "display_name": "Scilab",
		   "language": "scilab",
		   "name": "scilab"
		  },
		  "language_info": {
		   "file_extension": ".sce",
		   "help_links": [
			{
			 "text": "MetaKernel Magics",
			 "url": "https://github.com/calysto/metakernel/blob/master/metakernel/magics/README.md"
			}
		   ],
		   "mimetype": "text/x-octave",
		   "name": "scilab",
		   "version": "0.7.1"
		  }
		 },
		 "nbformat": 4,
		 "nbformat_minor": 0
}
