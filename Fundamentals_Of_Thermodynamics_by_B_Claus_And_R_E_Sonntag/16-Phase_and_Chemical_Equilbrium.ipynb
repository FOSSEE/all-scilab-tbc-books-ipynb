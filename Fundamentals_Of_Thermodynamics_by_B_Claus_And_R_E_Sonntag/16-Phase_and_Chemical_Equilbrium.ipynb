{
"cells": [
 {
		   "cell_type": "markdown",
	   "metadata": {},
	   "source": [
       "# Chapter 16: Phase and Chemical Equilbrium"
	   ]
	},
{
		   "cell_type": "markdown",
		   "metadata": {},
		   "source": [
			"## Example 16.2: to_determine_change_in_gibbs_free_energy.sce"
		   ]
		  },
  {
"cell_type": "code",
	   "execution_count": null,
	   "metadata": {
	    "collapsed": true
	   },
	   "outputs": [],
"source": [
"//ques2\n",
"//to determine change in gibbs free energy\n",
"clear\n",
"clc\n",
"//1-H2\n",
"//2-O2\n",
"//3-H2O\n",
"\n",
"//at T=298 K\n",
"T1=298;//K\n",
"Hf1=0;//Enthalpy of formation of H2 at 298 K\n",
"Hf2=0;//Enthalpy of formation of O2 at 298 K\n",
"Hf3=-241.826;//enthalpy of formation of H2O at 298 K in kJ\n",
"dH=2*Hf1+Hf2-2*Hf3;//Change in enthalpy in kJ\n",
"Sf1=130.678;//Entropy of H2 at 298 K n J/K\n",
"Sf2=205.148;//Entropy of O2 at 298 K in J/K\n",
"Sf3=188.834;//entropy of H2O at 298 K in J/K\n",
"dS=2*Sf1+Sf2-2*Sf3;//Change in entropy in J/K\n",
"dG1=dH-T1*dS/1000;//change n gibbs free energy in kJ\n",
"printf(' Change in gibbs free energy at %.0f K = %.3f kJ \n' ,T1,dG1);\n",
"\n",
"//at T=2000 K\n",
"T2=2000;//K\n",
"Hf1=52.942-0;//Enthalpy of formation of H2 at 2000 K\n",
"Hf2=59.176-0;//Enthalpy of formation of O2 at 2000 K\n",
"Hf3=-241.826+72.788;//enthalpy of formation of H2O at 2000 K in kJ\n",
"dH=2*Hf1+Hf2-2*Hf3;//Change in enthalpy in kJ\n",
"Sf1=188.419;//Entropy of H2 at 2000 K n J/K\n",
"Sf2=268.748;//Entropy of O2 at 2000 K in J/K\n",
"Sf3=264.769;//entropy of H2O at 2000 K in J/K\n",
"dS=2*Sf1+Sf2-2*Sf3;//Change in entropy in J/K\n",
"dG2=dH-T2*dS/1000;//change n gibbs free energy in kJ\n",
"printf('  Change in gibbs free energy at %.0f K = %.3f kJ ' ,T2,dG2);"
   ]
   }
,
{
		   "cell_type": "markdown",
		   "metadata": {},
		   "source": [
			"## Example 16.3: calculating_equilibrium_constant.sce"
		   ]
		  },
  {
"cell_type": "code",
	   "execution_count": null,
	   "metadata": {
	    "collapsed": true
	   },
	   "outputs": [],
"source": [
"//ques3\n",
"//calculating equilibrium constant \n",
"clear\n",
"clc\n",
"dG1=-457.166;//change in gibbs free energy at temp 298 K from example2 in kJ\n",
"dG2=-271.040;;//change in gibbs free energy at temp 2000 K from example2 n kJ\n",
"T1=298;//K\n",
"T2=2000;//K\n",
"R=8.3145;//gas constant\n",
"K1=dG1*1000/(R*T1);\n",
"K2=dG2*1000/(R*T2);\n",
"printf('Equilibrium constant at %.0f K = %.3f \n',T1,K1);\n",
"printf(' Equilibrium constant at %.0f K = %.3f \n',T2,K2);"
   ]
   }
],
"metadata": {
		  "kernelspec": {
		   "display_name": "Scilab",
		   "language": "scilab",
		   "name": "scilab"
		  },
		  "language_info": {
		   "file_extension": ".sce",
		   "help_links": [
			{
			 "text": "MetaKernel Magics",
			 "url": "https://github.com/calysto/metakernel/blob/master/metakernel/magics/README.md"
			}
		   ],
		   "mimetype": "text/x-octave",
		   "name": "scilab",
		   "version": "0.7.1"
		  }
		 },
		 "nbformat": 4,
		 "nbformat_minor": 0
}
