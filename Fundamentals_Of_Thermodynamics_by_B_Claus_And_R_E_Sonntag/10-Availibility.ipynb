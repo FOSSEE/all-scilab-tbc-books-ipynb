{
"cells": [
 {
		   "cell_type": "markdown",
	   "metadata": {},
	   "source": [
       "# Chapter 10: Availibility"
	   ]
	},
{
		   "cell_type": "markdown",
		   "metadata": {},
		   "source": [
			"## Example 10.1: Calculating_reversible_work.sce"
		   ]
		  },
  {
"cell_type": "code",
	   "execution_count": null,
	   "metadata": {
	    "collapsed": true
	   },
	   "outputs": [],
"source": [
"//example 1\n",
"//Calculating reversible work\n",
"clear\n",
"clc\n",
"//Form the Steam Tables,the inlet and the exit state properties are \n",
"hi=171.95 //initial specific heat of enthalpy in kJ/kg\n",
"si=0.5705 //initial specific entropy in kJ/kg-K\n",
"se=2.1341 //final specific entropy in kJ/kg-K\n",
"he=765.34 //final specific heat of enthalpy in kJ/kg-K\n",
"m=5 //mass flow rate of feedwater in kg/s\n",
"q1=900/m //heat added by one of the sources in kJ/kg\n",
"q2=he-hi-q1 //second heat transfer in kJ/kg\n",
"To=25+273.3 //Temp. of the surroundings in K\n",
"T1=100+273.2 //temp. of reservoir of one of the source in K\n",
"T2=200+273.2 //temp. of reservoir of second source in K\n",
"wrev=To*(se-si)-(he-hi)+q1*(1-To/T1)+q2*(1-To/T2) //reversible work in kJ/kg\n",
"printf('\n Hence, the irreversibility is i=%.1f kJ/kg.\n',wrev)"
   ]
   }
,
{
		   "cell_type": "markdown",
		   "metadata": {},
		   "source": [
			"## Example 10.2: Calculating_reversible_work.sce"
		   ]
		  },
  {
"cell_type": "code",
	   "execution_count": null,
	   "metadata": {
	    "collapsed": true
	   },
	   "outputs": [],
"source": [
"//example 2\n",
"//Calculating reversible work\n",
"clear\n",
"clc\n",
"//Form the Steam Tables,the inlet and the exit state properties are\n",
"hi=298.6 //initial specific heat of enthalpy in kJ/kg\n",
"si=6.8631 //initial specific entropy in kJ/kg-K\n",
"se=7.4664 //final specific entropy in kJ/kg-K\n",
"he=544.7 //final specific heat of enthalpy in kJ/kg-K\n",
"q=-50 //heat lost to surroundings in kJ/kg\n",
"w=hi-he+q //work in kJ/kg\n",
"To=25+273.2 //Temp. of the surroundings in K\n",
"P1=100 //Pressure of ambient air in kPa\n",
"P2=1000 //Final pressure of air after compression in kPa\n",
"R=0.287 //Universal gas constant in kJ/kg-K\n",
"wrev=To*(se-si-R*log(P2/P1))-(he-hi)+q*(1-To/To)//reversible work for the given change of state in kJ/kg\n",
"i=wrev-w //irreversibility in kJ/kg\n",
"printf('\n Hence, the irreversibility is i=%.1f kJ/kg.\n',i)"
   ]
   }
,
{
		   "cell_type": "markdown",
		   "metadata": {},
		   "source": [
			"## Example 10.3: Calculating_reversible_work_and_irreversibility.sce"
		   ]
		  },
  {
"cell_type": "code",
	   "execution_count": null,
	   "metadata": {
	    "collapsed": true
	   },
	   "outputs": [],
"source": [
"//example 3\n",
"//Calculating reversible work and irreversibility\n",
"clear\n",
"clc\n",
"//Form the Steam Tables at state 1\n",
"u1=1243.5 //initial specific internal energy in kJ/kg\n",
"s1=4.4819 //initial specific entropy in kJ/kg-K\n",
"v1=28.895 //initial specific volume in m^3/kg\n",
"v2=2*v1 //final specific volume in kg/m^3\n",
"u2=u1 //initial specific internal energy in kJ/kg\n",
"//These two independent properties, v2 and u2 , fix state 2.The final temp. is calculated by interplotation using the data for T2=5C and v2,x=0/3928 and u=948.5 kJ/kg. For T2=10C and v2, x=0.5433 and u=1317 kJ/kg\n",
"T2=9.1+273.2 //final temp. in K\n",
"x2=0.513 //quality in final state\n",
"s2=4.644 //final specific entropy in kJ/kg\n",
"V1=1 //volume of part of A in m^3\n",
"m=V1/v1  //mass flow rate in kg/s\n",
"To=20+273.2 //Room temperature in K\n",
"Wrev=To*m*(s2-s1) //reversible work in kJ\n",
"I=Wrev //irreversibility of the process\n",
"printf('\n The irreversibility is I=%.3f kJ/kg.\n',I)"
   ]
   }
],
"metadata": {
		  "kernelspec": {
		   "display_name": "Scilab",
		   "language": "scilab",
		   "name": "scilab"
		  },
		  "language_info": {
		   "file_extension": ".sce",
		   "help_links": [
			{
			 "text": "MetaKernel Magics",
			 "url": "https://github.com/calysto/metakernel/blob/master/metakernel/magics/README.md"
			}
		   ],
		   "mimetype": "text/x-octave",
		   "name": "scilab",
		   "version": "0.7.1"
		  }
		 },
		 "nbformat": 4,
		 "nbformat_minor": 0
}
