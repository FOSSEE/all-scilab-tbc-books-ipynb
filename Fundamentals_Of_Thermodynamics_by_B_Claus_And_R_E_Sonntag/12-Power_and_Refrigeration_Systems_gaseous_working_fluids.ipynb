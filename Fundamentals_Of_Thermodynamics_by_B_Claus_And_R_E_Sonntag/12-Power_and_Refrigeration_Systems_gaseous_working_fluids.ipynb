{
"cells": [
 {
		   "cell_type": "markdown",
	   "metadata": {},
	   "source": [
       "# Chapter 12: Power and Refrigeration Systems gaseous working fluids"
	   ]
	},
{
		   "cell_type": "markdown",
		   "metadata": {},
		   "source": [
			"## Example 12.1: Standard_brayton_cycle.sce"
		   ]
		  },
  {
"cell_type": "code",
	   "execution_count": null,
	   "metadata": {
	    "collapsed": true
	   },
	   "outputs": [],
"source": [
"//ques1\n",
"//Standard brayton cycle\n",
"clc\n",
"clear\n",
"//1-Inlet for compressor\n",
"//2-Exit for compressor\n",
"//T-Temperature at a state\n",
"//P-Pressure at a state\n",
"T1=288.2;//K\n",
"P2=1000;//kPa\n",
"P1=100;//kPa\n",
"k=1.4;\n",
"T2=T1*(P2/P1)^(1-1/k);//K\n",
"Cp=1.004;//Specific heat at constant pressure in kJ/kg\n",
"wc=Cp*(T2-T1);//compressor work in kJ/kg;\n",
"printf('Temperature T2 = %.1f K\n',T2);\n",
"printf(' Compressor work = %.1f kJ/kg \n',wc);\n",
"//3-Turbine Inlet\n",
"//4-Turbine Exit\n",
"P4=P1;\n",
"P3=P2;\n",
"T3=1373.2;//K\n",
"T4=T3*(P4/P3)^(1-1/k);//K\n",
"wt=Cp*(T3-T4);\n",
"wnet=wt-wc;\n",
"printf(' Temperature T3 = %.1f K\n',T3);\n",
"printf(' Temperature T4 = %.1f K\n',T4);\n",
"printf(' Turbine work = %.1f kJ/kg\n',wt);\n",
"printf(' Net work = %.1f kJ/kg\n',wt-wc);\n",
"//2-Also high temperature heat exchanger Inlet\n",
"//3-(-do-) Exit\n",
"qh=Cp*(T3-T2);//Heat of source in kJ/kg\n",
"//4-high temp heat exchanger inlet\n",
"//1-(-do-) Exit\n",
"ql=Cp*(T4-T1);//Heat of sink in kJ/kg\n",
"nth=wnet/qh;\n",
"printf(' Thermal Efficiency of cycle = %.1f percent',nth*100);"
   ]
   }
,
{
		   "cell_type": "markdown",
		   "metadata": {},
		   "source": [
			"## Example 12.2: Standard_brayton_cycle.sce"
		   ]
		  },
  {
"cell_type": "code",
	   "execution_count": null,
	   "metadata": {
	    "collapsed": true
	   },
	   "outputs": [],
"source": [
"//Calculation mistake in book\n",
"//ques2\n",
"//Standard brayton cycle\n",
"clc\n",
"clear\n",
"//Calculation mistake in book\n",
"//1-Inlet for compressor\n",
"//2-Exit for compressor\n",
"//T-Temperature at a state\n",
"//P-Pressure at a state\n",
"T1=288.2;//K\n",
"P2=1000;//kPa\n",
"P1=100;//kPa\n",
"k=1.4;\n",
"T2s=T1*(P2/P1)^(1-1/k);//K\n",
"nc=.80;//Compressor Efficiency\n",
"T2=T1+(T2s-T1)/0.80;\n",
"Cp=1.004;//Specific heat at constant pressure in kJ/kg\n",
"wc=Cp*(T2-T1);//compressor work in kJ/kg;\n",
"printf('Temperature T2 = %.1f K\n',T2);\n",
"printf(' Compressor work = %.1f kJ/kg \n',wc);\n",
"//3-Turbine Inlet\n",
"//4-Turbine Exit\n",
"P4=P1;\n",
"P3=P2;\n",
"T3=1373.2;//K\n",
"T4s=T3*(P4/P3)^(1-1/k);//K\n",
"nt=0.85;//turbine Efficiency\n",
"T4=T3-(T3-T4s)*0.85;\n",
"wt=Cp*(T3-T4);\n",
"wnet=wt-wc;\n",
"printf(' Temperature T3 = %.1f K\n',T3);\n",
"printf(' Temperature T4 = %.1f K\n',T4);\n",
"printf(' Turbine work = %.1f kJ/kg\n',wt);\n",
"printf(' Net work = %.1f kJ/kg\n',wt-wc);\n",
"//2-Also high temperature heat exchanger Inlet\n",
"//3-(-do-) Exit\n",
"qh=Cp*(T3-T2);//Heat of source in kJ/kg\n",
"//4-high temp heat exchanger inlet\n",
"//1-(-do-) Exit\n",
"ql=Cp*(T4-T1);//Heat of sink in kJ/kg\n",
"nth=wnet/qh;\n",
"printf(' Thermal Efficiency of cycle = %.1f percent',nth*100);"
   ]
   }
,
{
		   "cell_type": "markdown",
		   "metadata": {},
		   "source": [
			"## Example 12.3: efficiency_of_the_cycle.sce"
		   ]
		  },
  {
"cell_type": "code",
	   "execution_count": null,
	   "metadata": {
	    "collapsed": true
	   },
	   "outputs": [],
"source": [
"//ques3\n",
"//efficiency of the cycle\n",
"clc\n",
"clear\n",
"wnet=395.2;//kJ/kg from example no 1\n",
"//Tx=T4\n",
"Tx=710.8;//K from example no 1\n",
"T3=1373.2;//K from example no 1\n",
"Cp=1.004;//specific heat in kJ/kg \n",
"qh=Cp*(T3-Tx);\n",
"nth=wnet/qh;\n",
"printf('Thermal efficiency = %.1f percent',nth*100); "
   ]
   }
,
{
		   "cell_type": "markdown",
		   "metadata": {},
		   "source": [
			"## Example 12.4: Calculation_of_work_in_the_given_cycle.sce"
		   ]
		  },
  {
"cell_type": "code",
	   "execution_count": null,
	   "metadata": {
	    "collapsed": true
	   },
	   "outputs": [],
"source": [
"//ques4\n",
"//Calculation of work in the given cycle\n",
"clear\n",
"clc\n",
"R=0.287;//gas constant \n",
"T1=288.2;//compressor temperature K\n",
"T2=1373.2;//K turbine temperature K\n",
"//Pe/Pi=c=10, Pi/Pe=1/c from example 12.1\n",
"c=10;\n",
"wc=-R*T1*log(c);\n",
"printf('Isothermal work in compressor = %.1f kJ/kg \n',wc);\n",
"wt=-R*T2*log(1/c);\n",
"printf(' Isothermal work in turbine = %.1f kJ/kg\n',wt); "
   ]
   }
,
{
		   "cell_type": "markdown",
		   "metadata": {},
		   "source": [
			"## Example 12.5: air_standard_cycle_for_jet_repulsion.sce"
		   ]
		  },
  {
"cell_type": "code",
	   "execution_count": null,
	   "metadata": {
	    "collapsed": true
	   },
	   "outputs": [],
"source": [
"//ques5\n",
"//air standard cycle for jet repulsion\n",
"clear\n",
"clc\n",
"//1-compressor inlet\n",
"//2-Compressor exit\n",
"//P-Pressure at given point\n",
"//T-Temperature at given point\n",
"P1=100;//kPa\n",
"P2=1000;//kPa\n",
"T1=288.2;//K\n",
"T2=556.8;//K\n",
"wc=269.5;//from ex 12.1 work done in compressor in kJ/kg\n",
"//2-Burner inlet\n",
"//3-Burner exit\n",
"P3=1000;//kPa\n",
"T3=1373.2;//K\n",
"//wc=wt\n",
"Cp=1.004;//specific enthalpy of heat at constant pressure in kJ/kg\n",
"k=1.4;\n",
"T4=T3-wc/Cp;\n",
"P4=P3*(T4/T3)^(1-1/k);\n",
"//from s4=s5 and h4=h5+v2/2 we get\n",
"T5=710.8//K, from second law\n",
"v=sqrt(2*Cp*1000*(T4-T5));//m/s\n",
"printf('Velocity of air leaving the nozel = %.0f m/s',v);"
   ]
   }
,
{
		   "cell_type": "markdown",
		   "metadata": {},
		   "source": [
			"## Example 12.6: air_standard_refrigeration_cycle.sce"
		   ]
		  },
  {
"cell_type": "code",
	   "execution_count": null,
	   "metadata": {
	    "collapsed": true
	   },
	   "outputs": [],
"source": [
"//ques6\n",
"//air standard refrigeration cycle\n",
"clear\n",
"clc\n",
"//1-compressor inlet\n",
"//2-compressor exit\n",
"P1=100;//kPa\n",
"P2=500;//kPa\n",
"k=1.4;\n",
"rp=P2/P1;\n",
"cop=(rp^(1-1/k)-1)^-1;\n",
"printf('Coefficient of performance = %.3f \n',cop);\n",
"//3-Expander inlet\n",
"//4-Expander exit\n",
"P3=P2;\n",
"P4=P1;\n",
"T3=288.23;//K, given and fixed\n",
"T4=T3/(P3/P4)^(1-1/k);\n",
"T1=253.2;//K, given\n",
"Cp=1.004;//Specific heat at cons pressure in kJ/kg\n",
"ql=Cp*(T1-T4);//heat released in kJ/kg\n",
"P=1//power required in kW \n",
"ms=P/ql;//kg/s\n",
"printf(' Rate at which the air enter the compressor = %.3f kg/s ',ms); "
   ]
   }
,
{
		   "cell_type": "markdown",
		   "metadata": {},
		   "source": [
			"## Example 12.7: the_otto_cycle.sce"
		   ]
		  },
  {
"cell_type": "code",
	   "execution_count": null,
	   "metadata": {
	    "collapsed": true
	   },
	   "outputs": [],
"source": [
"//ques7\n",
"//the otto cycle\n",
"clear\n",
"clc\n",
"//1-compressor inlet\n",
"//2-compressor exit\n",
"P1=100;//kPa\n",
"T1=288.2;//K\n",
"R=0.287;//gas constant\n",
"v1=R*T1/P1;//specific volume at inlet in m^3/kg\n",
"rv=10;//compression ratio given\n",
"k=1.4;//constant\n",
"T2=T1*rv^(k-1);//K\n",
"printf('Temperature at compressor exit, T2 = %.1f K \n',T2);\n",
"P2=P1*rv^k;//kPa\n",
"printf(' Pressure at compressor exit, P2 = %.3f MPa \n ',P2/1000); \n",
"v2=v1/rv;//specific heat at exit in m^3/kg\n",
"//23-heat addition process\n",
"//q23=Cv*(T3-T2)=1800 kJ/kg given\n",
"q23=1800;//kJ/kg heat addition, given\n",
"Cv=0.717;//specific heat at constant volume in kJ/kg\n",
"T3=T2+q23/Cv;//K\n",
"printf('\n Initial Temperature during heat additon process, T3 = %.0f K \n',T3);\n",
"P3=P2*(T3/T2);//kPa\n",
"printf( ' Initial pressure during heat addition process, P3 = %.3f MPa \n',P3/1000);\n",
"r=10;//k=V4/V3=P3/P4\n",
"T4=T3*(1/r)^(k-1);\n",
"printf(' \n Final temperature during heat addition process, T4 = %.1f K \n',T4);\n",
"P4=P3/r^k;//kPa\n",
"printf(' Final pressure during heat addition process, P4 = %.4f MPa \n',P4/1000);\n",
"nth=1-1/r^k;//thermal efficiency\n",
"printf('\n Thermal efficiency = %.1f percent \n',nth*100);\n",
"q41=Cv*(T1-T4);///heat for process 4-1 in kJ/kg\n",
"wnet=q23+q41;\n",
"mep=wnet/(v1-v2);//effective mean pressure n kPa\n",
"printf('\n Mean effective pressure = %.0f kPa \n',mep);"
   ]
   }
,
{
		   "cell_type": "markdown",
		   "metadata": {},
		   "source": [
			"## Example 12.8: the_diesel_cycle.sce"
		   ]
		  },
  {
"cell_type": "code",
	   "execution_count": null,
	   "metadata": {
	    "collapsed": true
	   },
	   "outputs": [],
"source": [
"//ques7\n",
"//the diesel cycle\n",
"clear\n",
"clc\n",
"//1-compressor inlet\n",
"//2-compressor exit\n",
"P1=100;//kPa\n",
"T1=288.2;//K\n",
"R=0.287;//gas constant\n",
"v1=R*T1/P1;//specific volume at inlet in m^3/kg\n",
"rv=20;//compression ratio given\n",
"k=1.4;//constant\n",
"T2=T1*rv^(k-1);//K\n",
"printf('Temperature at compressor exit, T2 = %.1f K \n',T2);\n",
"P2=P1*rv^k;//kPa\n",
"printf(' Pressure at compressor exit, P2 = %.3f MPa \n ',P2/1000); \n",
"v2=v1/rv;//specific heat at exit in m^3/kg\n",
"//23-heat addition process\n",
"//q23=Cv*(T3-T2)=1800 kJ/kg given\n",
"q23=1800;//kJ/kg heat addition, given\n",
"Cv=.717;\n",
"Cp=1.004;//specific heat at constant pressure in kJ/kg\n",
"T3=T2+q23/Cp;//K\n",
"printf('\n Initial Temperature during heat addition process, T3 = %.0f K \n',T3);\n",
"r=T3/T2;//T3/T2=V3/V2=r\n",
"v3=r*v2;\n",
"T4=T3/(v1/v3)^(k-1);\n",
"printf(' Final temperature during heat addition process, T4 = %.0f K \n',T4);\n",
"q41=Cv*(T1-T4);///heat for process 4-1 in kJ/kg\n",
"wnet=q23+q41;\n",
"mep=wnet/(v1-v2);//effective mean pressure in kPa\n",
"qh=1800;//heat transfer in kJ/kg\n",
"nth=wnet/qh;//thermal efficiency\n",
"\n",
"printf('\n Thermal efficiency = %.1f percent \n',nth*100);\n",
"printf('\n Mean effective pressure = %.0f kPa \n',mep);"
   ]
   }
],
"metadata": {
		  "kernelspec": {
		   "display_name": "Scilab",
		   "language": "scilab",
		   "name": "scilab"
		  },
		  "language_info": {
		   "file_extension": ".sce",
		   "help_links": [
			{
			 "text": "MetaKernel Magics",
			 "url": "https://github.com/calysto/metakernel/blob/master/metakernel/magics/README.md"
			}
		   ],
		   "mimetype": "text/x-octave",
		   "name": "scilab",
		   "version": "0.7.1"
		  }
		 },
		 "nbformat": 4,
		 "nbformat_minor": 0
}
