{
"cells": [
 {
		   "cell_type": "markdown",
	   "metadata": {},
	   "source": [
       "# Chapter 7: The Classical Second Law of Thermodynamics"
	   ]
	},
{
		   "cell_type": "markdown",
		   "metadata": {},
		   "source": [
			"## Example 7.1: Rate_of_fuel_consumption.sce"
		   ]
		  },
  {
"cell_type": "code",
	   "execution_count": null,
	   "metadata": {
	    "collapsed": true
	   },
	   "outputs": [],
"source": [
"//example 1\n",
"//rate of fuel consumption\n",
"clear\n",
"clc\n",
"W=136*0.7355 //output of automobile engine in kW\n",
"neng=0.3 //thermal efficiency of automobile engine\n",
"Qh=W/neng //energy output of fuel in kW\n",
"Ql=Qh-W //total rate of energy rejected to the ambient\n",
"qh=35000 //energy output of fuel in kJ/kg\n",
"m=Qh/qh //rate of fuel consumption in kg/s\n",
"printf('\n hence,total rate of energy rejected is Ql=%.0f kW.\n',Ql) \n",
"printf('\n and rate of fuel consumption is m=%.4f kg/s.\n',m)"
   ]
   }
,
{
		   "cell_type": "markdown",
		   "metadata": {},
		   "source": [
			"## Example 7.2: Coefficient_of_performance_of_refrigerator.sce"
		   ]
		  },
  {
"cell_type": "code",
	   "execution_count": null,
	   "metadata": {
	    "collapsed": true
	   },
	   "outputs": [],
"source": [
"//example 2\n",
"//coefficient of performance of refrigerator\n",
"clear\n",
"clc\n",
"Qh=400 //heat rejected to kitchen air in W\n",
"W=150 //electrical input power in W\n",
"Ql=Qh-W //rate of energy taken out to cold space in W\n",
"B=Ql/W //coefficicent of performnace of refrigerator\n",
"printf('\n hence,rate of energy taken out of the cold space is Ql=%.3f W.\n',Ql)\n",
"printf('\n and coefficient of performance of the refrigerator is B=%.3f .\n',B)"
   ]
   }
,
{
		   "cell_type": "markdown",
		   "metadata": {},
		   "source": [
			"## Example 7.4: Comparison_of_ideal_carnot_heat_engine_with_actual_heat_engine.sce"
		   ]
		  },
  {
"cell_type": "code",
	   "execution_count": null,
	   "metadata": {
	    "collapsed": true
	   },
	   "outputs": [],
"source": [
"//example 4\n",
"//comparison of ideal carnot heat engine with actual heat engine\n",
"clear\n",
"clc\n",
"Qh=1000 //rate of heat transfer to heat engine in kW\n",
"W=450 //rate of production of work in kW\n",
"Ql=Qh-W //rate of heat rejected by heat engine in kW\n",
"nthermal=W/Qh //efficiency from the definition of efficiency\n",
"Tl=300 //temperature of surroundings in K\n",
"Th=550 //temperature of heat source in Celsius\n",
"ncarnot=1-Tl/(Th+273) //efficiency if heat engine is considered to be ideal carnot heat engine\n",
"W2=ncarnot*Qh //rate of work production if heat engine is assumed to be ideal carnot heat engine in kW\n",
"Ql2=Qh-W2 //rate of heat rejected by heat engine in kW if heat engine is assumed to be ideal carnot heat engine\n",
"printf('\n hence,energy discarded to the ambient surroundings is Ql2=%.0fkW.\n',Ql2)\n",
"printf('\n and the engine efficiency is ncarnot=%.3f.\n',ncarnot)"
   ]
   }
,
{
		   "cell_type": "markdown",
		   "metadata": {},
		   "source": [
			"## Example 7.5: Calculating_required_work.sce"
		   ]
		  },
  {
"cell_type": "code",
	   "execution_count": null,
	   "metadata": {
	    "collapsed": true
	   },
	   "outputs": [],
"source": [
"//example 5\n",
"//calculating required work\n",
"clear\n",
"clc\n",
"Tl=24+273 //room temperature in Kelvins\n",
"Th=35+273 //atmospheric temperature in Kelvins\n",
"Ql=4 //rate of heat rejection from room\n",
"B=Tl/(Th-Tl) //coefficient of performance of air conditioner\n",
"W=Ql/B //required work in kW\n",
"printf('\n hence,the magnitude of reqiured work is W=%.2f kW.\n',W)"
   ]
   }
],
"metadata": {
		  "kernelspec": {
		   "display_name": "Scilab",
		   "language": "scilab",
		   "name": "scilab"
		  },
		  "language_info": {
		   "file_extension": ".sce",
		   "help_links": [
			{
			 "text": "MetaKernel Magics",
			 "url": "https://github.com/calysto/metakernel/blob/master/metakernel/magics/README.md"
			}
		   ],
		   "mimetype": "text/x-octave",
		   "name": "scilab",
		   "version": "0.7.1"
		  }
		 },
		 "nbformat": 4,
		 "nbformat_minor": 0
}
