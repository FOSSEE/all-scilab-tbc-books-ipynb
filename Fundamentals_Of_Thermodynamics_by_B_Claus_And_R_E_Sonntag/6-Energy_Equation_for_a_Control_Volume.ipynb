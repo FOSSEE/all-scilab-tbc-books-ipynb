{
"cells": [
 {
		   "cell_type": "markdown",
	   "metadata": {},
	   "source": [
       "# Chapter 6: Energy Equation for a Control Volume"
	   ]
	},
{
		   "cell_type": "markdown",
		   "metadata": {},
		   "source": [
			"## Example 6.10: Analysis_of_refrigerator.sce"
		   ]
		  },
  {
"cell_type": "code",
	   "execution_count": null,
	   "metadata": {
	    "collapsed": true
	   },
	   "outputs": [],
"source": [
"//example 10\n",
"//analysis of refrigerator\n",
"clear\n",
"clc\n",
"hf4=167.4 //in kJ/kg\n",
"hfg4=215.6 //in kJ/kg\n",
"h3=241.8 //specific heat of enthalpy of R-134a entering expansion valve\n",
"h4=h3 //specific heat of enthalpy of R-134a leaving expansion valve\n",
"h1=387.2 //in kJ/kg\n",
"h2=435.1 //in kJ/kg\n",
"x4=(h3-hf4)/hfg4 //quality of R-134a at evaporator inlet\n",
"m=0.1 //mass flow rate in kg/s\n",
"Qevap=m*(h1-h4) //rate of heat transfer to the evaporator\n",
"Wcomp=-5 //power input to compressor in kW\n",
"Qcomp=m*(h2-h1)+Wcomp //rate of heat transfer from compressor\n",
"printf('\n hence, the quality at the evaporator inlet is x4=%.3f. \n',x4')\n",
"printf('\n hence, the rate of heat transfer to the evaporator is Qevap=%.2f kW. \n',Qevap')\n",
"printf('\n hence, rate of heat transfer from the compressor is Qcomp=%.2f kW. \n',Qcomp')"
   ]
   }
,
{
		   "cell_type": "markdown",
		   "metadata": {},
		   "source": [
			"## Example 6.11: Determining_the_final_temperature_of_steam.sce"
		   ]
		  },
  {
"cell_type": "code",
	   "execution_count": null,
	   "metadata": {
	    "collapsed": true
	   },
	   "outputs": [],
"source": [
"//example 11\n",
"//Determining the final temperature of steam\n",
"clear\n",
"clc\n",
"u2=3040.4 //final internal energy in kJ/kg\n",
"hi=u2 //in kJ/kg\n",
"P2=1.4 //final Pressure in MPa\n",
"disp('Since, the final pressure is given as 1.4 MPa,we know two properties at the final state and hence,final state can be determined.The temperature corresponding to a pressure of 1.4 MPa and an internal energy of 3040.4 kJ/kg is found to be ')\n",
"T2=452 //final temperature in Celsius"
   ]
   }
,
{
		   "cell_type": "markdown",
		   "metadata": {},
		   "source": [
			"## Example 6.12: Calculating_mass_flow_of_steam_in_tank.sce"
		   ]
		  },
  {
"cell_type": "code",
	   "execution_count": null,
	   "metadata": {
	    "collapsed": true
	   },
	   "outputs": [],
"source": [
"//example 12\n",
"//Calculating mass flow of steam in tank\n",
"clear\n",
"clc\n",
"V1=0.4 //initial volume fo tank in m^3\n",
"v1=0.5243 //initial specific volume in m^3/kg\n",
"h1=3040.4 //initial specific enthalpy in kJ/kg\n",
"u1=2548.9 //initial specific internal energy in kJ/kg\n",
"m1=V1/v1 //initial mass of steam in tank in kg\n",
"V2=0.4 //final volume in m^3\n",
"disp('let x=V*(h1-u2)/v2-m1*(h1-u1).If we assume T2=300C, then v2=0.1823m^3/kg ,u2=2785.2kJ/kg and x=+ve.If we assume T2=350C,then v2=0.2003 m^3/kg, u2=2869.1kJ/kg and x=-ve.Hence,actualt T2 must be between these two assumed values in order that x=0.By interplotation,') \n",
"T2=342 //final temperature in Celsius\n",
"v2=0.1974 //final specific volume in m^3/kg\n",
"m2=V2/v2 //final mass of the steam in the tank in kg\n",
"m=m2-m1 //mass of steam that flowsinto the tank\n",
"printf(' \n Hence,mass of the steam that flows into the tank is m=%.3f kg. \n',m)"
   ]
   }
,
{
		   "cell_type": "markdown",
		   "metadata": {},
		   "source": [
			"## Example 6.13: Calculating_mass_flow_of_steam_in_tank.sce"
		   ]
		  },
  {
"cell_type": "code",
	   "execution_count": null,
	   "metadata": {
	    "collapsed": true
	   },
	   "outputs": [],
"source": [
"//example 13\n",
"//Calculating mass flow of steam in tank\n",
"clear\n",
"clc\n",
"vf1=0.001725 //in m^3/kg\n",
"vf2=0.0016 //in m^3/kg\n",
"uf1=368.7 //in kJ/kg\n",
"uf2=226 //in kJ/kg\n",
"vg1=0.08313 //in m^3/kg\n",
"vfg2=0.20381\n",
"ug1=1341 //in kJ/kg\n",
"ufg2=1099.7 //in kJ/kg\n",
"Vf=1 //initial volume of liquid in m^3\n",
"Vg=1 //initial volume of vapor in m^3\n",
"mf1=Vf/vf1 //initial mass of liquid in kg\n",
"mg1=Vg/vg1 //initial mass of vapor in kg\n",
"m1=mf1+mg1 //initial mass of liquid in kg\n",
"he=1461.1 //in kJ/kg\n",
"V=2 //volume of tank in m^3\n",
"disp('m1u1=mf1*uf1+mg1*ug1.If x2 is the quality,then m2=V/v2=2/(0.00160+0.20381*x2) and u2=uf2+x2*ufg2=226.0+1099.7*x2.')\n",
"disp('Also,m2*(he-u2)=m1*he-m1u1.From this equation,we will get an equation for x2.')\n",
"x2=((2*1461.1)-(2*226)-(0.00160*634706))/((634706*0.20381)+(2*1099.7)) //quality of ammonia\n",
"v2=0.00160+(0.20381*x2) //final specific volume in m^3/kg\n",
"m2=V/v2 //final mass of ammonia in kg\n",
"m=m1-m2 //mass of ammonia withdrawn\n",
"printf(' \n Hence,mass of ammonia withdrawn is m=%.1f kg. \n',m)"
   ]
   }
,
{
		   "cell_type": "markdown",
		   "metadata": {},
		   "source": [
			"## Example 6.1: Calculating_mass_flow_rate.sce"
		   ]
		  },
  {
"cell_type": "code",
	   "execution_count": null,
	   "metadata": {
	    "collapsed": true
	   },
	   "outputs": [],
"source": [
"//example 1\n",
"//calculating mass flow rate in kg/s\n",
"clear\n",
"clc\n",
"R=0.287 //in kJ/kg-K\n",
"T=25 //temperature in celsius\n",
"P=150 //pressure in kPa\n",
"v=R*(T+273.2)/P //specific volume in m^3/kg\n",
"D=0.2 //diameter of pipe in metre\n",
"A=%pi*D^2/4 //cross sectional area in m^2\n",
"V=0.1 //velocity of air in m/s\n",
"m=V*A/v //mass flow rate in kg/s\n",
"printf('\n hence,the mass flow rate is m=%.4f kg/s.\n',m)"
   ]
   }
,
{
		   "cell_type": "markdown",
		   "metadata": {},
		   "source": [
			"## Example 6.2: Work_done_for_adding_the_fluid.sce"
		   ]
		  },
  {
"cell_type": "code",
	   "execution_count": null,
	   "metadata": {
	    "collapsed": true
	   },
	   "outputs": [],
"source": [
"//example 2\n",
"//work done for adding the fluid\n",
"clear\n",
"clc\n",
"P=600 //pressure in kPa\n",
"m=1 //in kg\n",
"v=0.001 //specific volume in m^3/kg\n",
"W=P*m*v //necessary work in kJ for adding the fluid \n",
"printf(' \n hence,the work involved in this process is W=%.3f kJ. \n',W)"
   ]
   }
,
{
		   "cell_type": "markdown",
		   "metadata": {},
		   "source": [
			"## Example 6.3: Rate_of_flow_of_water.sce"
		   ]
		  },
  {
"cell_type": "code",
	   "execution_count": null,
	   "metadata": {
	    "collapsed": true
	   },
	   "outputs": [],
"source": [
"//example 3\n",
"//rate of flow of water\n",
"clear\n",
"clc\n",
"hir=441.89 //in kJ/kg for refrigerant using steam table \n",
"her=249.10 //in kJ/kg for refrigerant using steam table\n",
"hiw=42 //in kJ/kg for water using steam table\n",
"hew=83.95 //in kJ/kg for water using steam table\n",
"mr=0.2 //the rate at which refrigerant enters the condenser in kg/s\n",
"mw=mr*(hir-her)/(hew-hiw) //rate of flow of water in kg/s\n",
"printf('\n hence,the rate at which cooling water flows thorugh the condenser is mw=%.3f kg/s. \n', mw)"
   ]
   }
,
{
		   "cell_type": "markdown",
		   "metadata": {},
		   "source": [
			"## Example 6.4: Determining_quality_of_steam.sce"
		   ]
		  },
  {
"cell_type": "code",
	   "execution_count": null,
	   "metadata": {
	    "collapsed": true
	   },
	   "outputs": [],
"source": [
"//example 4\n",
"//determining quality of steam\n",
"clear\n",
"clc\n",
"hi=2850.1 //initial specific heat enthalpy for steam in kJ/kg\n",
"Vi=50 //initial velocity of steam in m/s\n",
"Ve=600 //final velocity of steam in m/s\n",
"he=hi+Vi^2/(2*1000)-Ve^2/(2*1000) //final specific heat enthalpy for steam in kJ/kg\n",
"hf=467.1 //at final state in kJ/kg\n",
"hfg=2226.5 //at final state in kJ/kg\n",
"xe=(he-hf)/hfg //quality of steam in final state\n",
"printf(' \n hence, the quality is xe=%.3f. \n',xe)"
   ]
   }
,
{
		   "cell_type": "markdown",
		   "metadata": {},
		   "source": [
			"## Example 6.5: Quality_of_ammonia_leaving_expansion_valve.sce"
		   ]
		  },
  {
"cell_type": "code",
	   "execution_count": null,
	   "metadata": {
	    "collapsed": true
	   },
	   "outputs": [],
"source": [
"//example 5\n",
"//quality of ammonia leaving expansion valve\n",
"clear\n",
"clc\n",
"hi=346.8 //specific heat enthalpy for ammonia at initial state in kJ/kg\n",
"he=hi //specific heat enthalpy for ammonia at final state will be equal that at initial state because it is a throttling process\n",
"hf=134.4 //at final state in kJ/kg\n",
"hfg=1296.4//at final state in kJ/kg\n",
"xe=(he-hf)/hfg //quality at final state\n",
"printf('\n hence,quality of the ammonia leaving the expansion valve is xe=%.4f. \n',xe')"
   ]
   }
,
{
		   "cell_type": "markdown",
		   "metadata": {},
		   "source": [
			"## Example 6.6: Power_output_of_turbine_in_kW.sce"
		   ]
		  },
  {
"cell_type": "code",
	   "execution_count": null,
	   "metadata": {
	    "collapsed": true
	   },
	   "outputs": [],
"source": [
"//example 6\n",
"//power output of turbine in kW\n",
"clear\n",
"clc\n",
"hi=3137 //initial specific heat of enthalpy in kJ/kg\n",
"he=2675.5 //final specific heat of enthalpy in kJ/kg\n",
"Vi=50 //initial velocity of steam in m/s\n",
"Ve=100 //final velocity of steam in m/s\n",
"Zi=6 //height of inlet conditions in metres\n",
"Ze=3 //height of exit conditions in metres\n",
"m=1.5 //mass flow rate of steam in kg/s\n",
"g=9.8066 //acc. due to gravity in m/s^2\n",
"Qcv=-8.5 //heat transfer rate from turbine in kW\n",
"Wcv=Qcv+m*(hi+Vi^2/(2*1000)+g*Zi/1000)-m*(he+Ve^2/(2*1000)+g*Ze/1000) //power output of turbine in kW\n",
"printf('\n hence,the power output of the turbine is Wcv=%.3f kW. \n',Wcv)"
   ]
   }
,
{
		   "cell_type": "markdown",
		   "metadata": {},
		   "source": [
			"## Example 6.7: Heat_transfer_rate_in_aftercooler.sce"
		   ]
		  },
  {
"cell_type": "code",
	   "execution_count": null,
	   "metadata": {
	    "collapsed": true
	   },
	   "outputs": [],
"source": [
"//example 7\n",
"//heat transfer rate in aftercooler\n",
"clear\n",
"clc\n",
"V1=0 //we assume initial velocity to be zero because its given that it enters with a low velocity\n",
"V2=25 //final velocity with which carbon dioxide exits in m/s\n",
"h2=401.52 //final specific enthalpy of heat when carbon dioxide exits in kJ/kg\n",
"h1=198 //initial specific enthalpy of heat in kJ/kg\n",
"w=h1-h2-V2^2/(2*1000) //in kJ/kg\n",
"Wc=-50 //power input to the compressor in kW\n",
"m=Wc/w //mass flow rate of carbon dioxide in kg/s\n",
"h3=257.9 //final specific enthalpy of heat when carbon dioxide flows into a constant pressure aftercooler\n",
"Qcool=-m*(h3-h2) //heat transfer rate in the aftercooler in kW\n",
"printf(' \n hence,heat transfer rate in the aftercooler is Qcool=%.3f kW. \n',Qcool)"
   ]
   }
,
{
		   "cell_type": "markdown",
		   "metadata": {},
		   "source": [
			"## Example 6.8: Required_Pump_work.sce"
		   ]
		  },
  {
"cell_type": "code",
	   "execution_count": null,
	   "metadata": {
	    "collapsed": true
	   },
	   "outputs": [],
"source": [
"//example 8\n",
"//Required pump work\n",
"clear\n",
"clc\n",
"m=1.5 //mass flow rate of water in kg/s\n",
"g=9.807 //acceleration due to gravity in m/s^2\n",
"Zin=-15 //depth of water pump in well in metres\n",
"Zex=0 //in metres\n",
"v=0.001001 //specific volume in m^3/kg\n",
"Pex=400+101.3 //exit pressure in kPa\n",
"Pin=90 //in kPa\n",
"W=m*(g*(Zin-Zex)*0.001-(Pex-Pin)*v) //power input in kW\n",
"printf(' \n Hence, the pump requires power input of W=%.0f W. \n',W*1000)"
   ]
   }
,
{
		   "cell_type": "markdown",
		   "metadata": {},
		   "source": [
			"## Example 6.9: Heat_tranfer_in_simple_steam_power_plant.sce"
		   ]
		  },
  {
"cell_type": "code",
	   "execution_count": null,
	   "metadata": {
	    "collapsed": true
	   },
	   "outputs": [],
"source": [
"//example 9\n",
"//heat tranfer in simple steam power plant\n",
"clear\n",
"clc\n",
"h1=3023.5 //specific heat of enthalpy of steam leaving boiler in kJ/kg\n",
"h2=3002.5 //specific heat of enthalpy of steam entering turbine in kJ/kg\n",
"x=0.9 //quality of steam entering condenser\n",
"hf=226 //in kJ/kg\n",
"hfg=2373.1 //in kJ/kg\n",
"h3=hf+x*hfg //specific heat of enthalpy of steam entering condenser in kJ/kg\n",
"h4=188.5 //specific heat of enthalpy of steam entering pump in kJ/kg\n",
"q12=h2-h1 //heat transfer in line between boiler and turbine in kJ/kg\n",
"w23=h2-h3 //turbine work in kJ/kg\n",
"q34=h4-h3 //heat transfer in condenser\n",
"w45=-4 //pump work in kJ/kg\n",
"h5=h4-w45 //in kJ/kg\n",
"q51=h1-h5 //heat transfer in boiler in kJ/kg\n",
"printf('\n hence, heat transfer in line between boiler and turbine is q12=%.1f kJ/kg. \n',q12')\n",
"printf('\n hence, turbine work is w23=%.1f kJ/kg. \n',w23')\n",
"printf('\n hence, heat transfer in condenser is q34=%.1f kJ/kg. \n',q34')\n",
"printf('\n hence, heat transfer in boiler is q51=%.0f kJ/kg. \n',q51')"
   ]
   }
],
"metadata": {
		  "kernelspec": {
		   "display_name": "Scilab",
		   "language": "scilab",
		   "name": "scilab"
		  },
		  "language_info": {
		   "file_extension": ".sce",
		   "help_links": [
			{
			 "text": "MetaKernel Magics",
			 "url": "https://github.com/calysto/metakernel/blob/master/metakernel/magics/README.md"
			}
		   ],
		   "mimetype": "text/x-octave",
		   "name": "scilab",
		   "version": "0.7.1"
		  }
		 },
		 "nbformat": 4,
		 "nbformat_minor": 0
}
