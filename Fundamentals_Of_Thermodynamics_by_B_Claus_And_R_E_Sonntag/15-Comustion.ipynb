{
"cells": [
 {
		   "cell_type": "markdown",
	   "metadata": {},
	   "source": [
       "# Chapter 15: Comustion"
	   ]
	},
{
		   "cell_type": "markdown",
		   "metadata": {},
		   "source": [
			"## Example 15.15: calculatng_reversible_elecromotive_force.sce"
		   ]
		  },
  {
"cell_type": "code",
	   "execution_count": null,
	   "metadata": {
	    "collapsed": true
	   },
	   "outputs": [],
"source": [
"//ques15\n",
"//calculatng reversible elecromotive force \n",
"clear\n",
"clc\n",
"//1-H2O\n",
"//2-H2\n",
"//3-O2\n",
"//hf-standard enthalpy \n",
"//sf-standard entropy\n",
"hf1=-285.830;//kJ\n",
"hf2=0;//kJ\n",
"hf3=0;//kJ\n",
"sf1=69.950;//kJ/K\n",
"sf2=130.678;//kJ/K\n",
"sf3=205.148;//kJ/K\n",
"dH=2*hf1-2*hf2-hf3;//change in enthalpy in kJ\n",
"dS=2*sf1-2*sf2-sf3;//change in entropy in kJ/K\n",
"T=298.15;//temperature in K\n",
"dG=dH-T*dS/1000;//change in gibbs free energy in kJ\n",
"E=-dG*1000/(96485*4);//emf in V\n",
"printf('Reversible electromotive Force = %.3f V',E);"
   ]
   }
,
{
		   "cell_type": "markdown",
		   "metadata": {},
		   "source": [
			"## Example 15.17: efficiency_of_generator_and_plant.sce"
		   ]
		  },
  {
"cell_type": "code",
	   "execution_count": null,
	   "metadata": {
	    "collapsed": true
	   },
	   "outputs": [],
"source": [
"//ques17\n",
"//efficiency of generator and plant\n",
"clear\n",
"clc\n",
"q=325000*(3398.3-856.0);//heat transferred to H2O/kg fuel in kJ/kg\n",
"qv=26700*33250;//higher heating value in kJ/kg\n",
"nst=q/qv*100;//efficiency of steam generator\n",
"w=81000*3600;//net work done in kJ/kg\n",
"nth=w/qv*100;//thermal efficiency\n",
"printf('Efficiency of generator = %.1f percent\n',nst);\n",
"printf(' Thermal Efficiency = %.1f percent\n',nth);"
   ]
   }
,
{
		   "cell_type": "markdown",
		   "metadata": {},
		   "source": [
			"## Example 15.1: theoratical_air_fuel_ratio_for_combustion_of_octane.sce"
		   ]
		  },
  {
"cell_type": "code",
	   "execution_count": null,
	   "metadata": {
	    "collapsed": true
	   },
	   "outputs": [],
"source": [
"//ques1\n",
"//theoratical air-fuel ratio for combustion of octane\n",
"clear\n",
"clc\n",
"rm=(12.5+47.0)/1;//air fuel ratio on mole basis\n",
"rma=rm*28.97/114.2;//air fuel ratio on mass basis;\n",
"printf('Theoratical air fuel ratio on mass basis = %.1f kg air/kg fuel \n',rma);"
   ]
   }
,
{
		   "cell_type": "markdown",
		   "metadata": {},
		   "source": [
			"## Example 15.6: determining_heat_transfer_per_kilomole_of_fuel_entering_combustion_chamber.sce"
		   ]
		  },
  {
"cell_type": "code",
	   "execution_count": null,
	   "metadata": {
	    "collapsed": true
	   },
	   "outputs": [],
"source": [
"//ques6\n",
"//determining heat transfer per kilomole of fuel entering combustion chamber\n",
"clear\n",
"clc\n",
"//1-CH4\n",
"//2-CO2\n",
"//3-H2O\n",
"//hf-standard enthalpy of given substance\n",
"hf1=-74.873;//kJ\n",
"hf2=-393.522;//kJ\n",
"hf3=-285.830;//kJ\n",
"Qcv=hf2+2*hf3-hf1;//kJ\n",
"printf('Heat transfer per kilomole of fuel entering combustion chamber = %.3f kJ ',Qcv);"
   ]
   }
,
{
		   "cell_type": "markdown",
		   "metadata": {},
		   "source": [
			"## Example 15.7: calculating_enthalpy_of_water_at_given_pressure_and_temperature.sce"
		   ]
		  },
  {
"cell_type": "code",
	   "execution_count": null,
	   "metadata": {
	    "collapsed": true
	   },
	   "outputs": [],
"source": [
"//ques7\n",
"//calculating enthalpy of water at given pressure and temperature\n",
"clear\n",
"clc\n",
"//1.Assuming steam to be an ideal gas with value of Cp\n",
"T1=298.15;//Initial temperature in K\n",
"T2=573.15;//final temperature in K\n",
"T=(T1+T2)/2;//average temperature in K\n",
"Cp=1.79+0.107*T/1000+0.586*(T/1000)^2-.20*(T/1000)^3;//specific heat at constant pressure in kj/kg.K\n",
"M=18.015;//mass in kg\n",
"dh=M*Cp*(T2-T1);//enthalpy change in kJ/kmol\n",
"ho=-241.826;//enthalpy at standard temperature and pressure in kJ/mol\n",
"htp1=ho+dh/1000;//enthalpy at given temp and pressure in kJ/kmol\n",
"printf('1. Enthalpy of water at given pressure and temperature using value of Cp = %.3f kJ/kmol \n',htp1);\n",
"\n",
"//2..Assuming steam to be an ideal gas with value for dh\n",
"dh=9359;//enthalpy change from table A.9 in kJ/mol\n",
"htp2=ho+dh/1000;//enthalpy at given temp and pressure in kJ/kmol\n",
"printf(' 2. Enthalpy of water at given pressure and temperature assuming value od dh = %.3f kJ/kmol \n',htp2);\n",
"\n",
"//3. Using steam table\n",
"dh=M*(2977.5-2547.2);//enthalpy change for gases in kJ/mol\n",
"htp3g=dh/1000+ho;\n",
"dh=M*(2977.5-104.9);//enthalpy change for liquid in kJ/mol\n",
"hl=-285.830;//standard enthalpy for liquid in kJ/kmol\n",
"htp3l=hl+dh/1000;//enthalpy at given temp and pressure in kJ/kmol\n",
"printf(' 3.(i) enthalpy at given temp and pressure in kJ/kmol in terms of liquid = %.3f kJ/kmol \n',htp3l);\n",
"printf(' 3.(ii) enthalpy at given temp and pressure in kJ/kmol in terms of liquid = %.3f kJ/kmol \n',htp3g);\n",
"//4.using generalised charts\n",
"//htp=ho-(h2*-h2)+(h2*-h1*)+(h1*-h1);\n",
"//h2*-h2=Z*R*Tc,\n",
"//h2*-h1*=9539 kJ/mol, from part 2\n",
"//h1*-h1=0 ,as ideal gas \n",
"Z=0.21;//from chart\n",
"R=8.3145;//gas constant in SI units\n",
"Tc=647.3;//critical temperature in K\n",
"htp4=ho+9539/1000-Z*R*Tc/1000;//enthalpy at given temp and pressure in kJ/kmol\n",
"printf(' 4. enthalpy at given temp and pressure in kJ/kmol using compressibility chart = %.3f kJ/kmol \n',htp4);"
   ]
   }
],
"metadata": {
		  "kernelspec": {
		   "display_name": "Scilab",
		   "language": "scilab",
		   "name": "scilab"
		  },
		  "language_info": {
		   "file_extension": ".sce",
		   "help_links": [
			{
			 "text": "MetaKernel Magics",
			 "url": "https://github.com/calysto/metakernel/blob/master/metakernel/magics/README.md"
			}
		   ],
		   "mimetype": "text/x-octave",
		   "name": "scilab",
		   "version": "0.7.1"
		  }
		 },
		 "nbformat": 4,
		 "nbformat_minor": 0
}
