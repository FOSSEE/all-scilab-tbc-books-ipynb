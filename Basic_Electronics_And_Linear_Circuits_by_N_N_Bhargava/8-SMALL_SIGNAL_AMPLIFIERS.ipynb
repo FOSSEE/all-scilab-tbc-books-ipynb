{
"cells": [
 {
		   "cell_type": "markdown",
	   "metadata": {},
	   "source": [
       "# Chapter 8: SMALL SIGNAL AMPLIFIERS"
	   ]
	},
{
		   "cell_type": "markdown",
		   "metadata": {},
		   "source": [
			"## Example 8.1: Determination_of_Hybrid_Parameters.sce"
		   ]
		  },
  {
"cell_type": "code",
	   "execution_count": null,
	   "metadata": {
	    "collapsed": true
	   },
	   "outputs": [],
"source": [
"//Example 8.1\n",
"//Refer Figure 8.15 and 8.16 in the Textbook\n",
"//Program to find the Hybrid Parameters from the given Transistor Characteristics\n",
"clear;\n",
"clc ;\n",
"close ;\n",
"//Given Circuit Data\n",
"Ic=2*10^(-3); //A\n",
"Vce=8.5; //V\n",
"//Calculation\n",
"//hfe=delta(ic)/delta(ib),Vce=constant\n",
"hfe=(2.7-1.7)*10^(-3)/((20-10)*10^(-6));\n",
"//hoe=delta(ic)/delta(Vce),ib=constant\n",
"hoe=(2.2-2.1)*10^(-3)/(10-7);\n",
"//hie=delta(Vbe)/delta(ib),Vce=constant\n",
"hie=(0.73-0.715)/((20-10)*10^(-6));\n",
"//hre=delta(Vbe)/delta(Vce),ib=constant\n",
"hre=(0.73-0.72)/(20-0);\n",
"//Displaying The Results in Command Window\n",
"printf('\n\t The Hybrid Parameters are:');\n",
"printf('\n\n\t hfe = %f ',hfe);\n",
"printf('\n\t hoe = %f uS',hoe/10^(-6));\n",
"printf('\n\t hie = %f kOhms',hie/10^3);\n",
"printf('\n\t hre = %f ',hre);"
   ]
   }
,
{
		   "cell_type": "markdown",
		   "metadata": {},
		   "source": [
			"## Example 8.2_a: Calculation_of_Input_Impedance_of_Amplifier.sce"
		   ]
		  },
  {
"cell_type": "code",
	   "execution_count": null,
	   "metadata": {
	    "collapsed": true
	   },
	   "outputs": [],
"source": [
"//Example 8.2 (a)\n",
"//Program to find the Input Impedance of the Amplifier\n",
"clear;\n",
"clc ;\n",
"close ;\n",
"//Given Circuit Data\n",
"ri=2*10^3; //Ohms\n",
"Rb=150*10^3; //Ohms\n",
"//Calculation\n",
"Zin=Rb*ri/(Rb+ri);\n",
"//Displaying The Results in Command Window\n",
"printf('\n\t The Input Impedance of the Amplifier is Zin = %f kOhms .',Zin/10^3);"
   ]
   }
,
{
		   "cell_type": "markdown",
		   "metadata": {},
		   "source": [
			"## Example 8.2_b: Calculation_of_Voltage_Gain_of_Amplifier.sce"
		   ]
		  },
  {
"cell_type": "code",
	   "execution_count": null,
	   "metadata": {
	    "collapsed": true
	   },
	   "outputs": [],
"source": [
"//Example 8.2 (b)\n",
"//Program to find the Voltage Gain of the Amplifier\n",
"clear;\n",
"clc ;\n",
"close ;\n",
"//Given Circuit Data\n",
"Beeta=100;\n",
"ri=2*10^3; //Ohms\n",
"Rac=5*10^3; //Ohms\n",
"//Calculation\n",
"Av=Beeta*Rac/ri;\n",
"//Displaying The Results in Command Window\n",
"printf('\n\t The Voltage Gain of the Amplifier is Av = %f with phase of 180 degrees .',Av);"
   ]
   }
,
{
		   "cell_type": "markdown",
		   "metadata": {},
		   "source": [
			"## Example 8.2_c: Calculation_of_Current_Gain_of_Amplifier.sce"
		   ]
		  },
  {
"cell_type": "code",
	   "execution_count": null,
	   "metadata": {
	    "collapsed": true
	   },
	   "outputs": [],
"source": [
"//Example 8.2 (c)\n",
"//Program to find the Current Gain of the Amplifier\n",
"clear;\n",
"clc ;\n",
"close ;\n",
"//Given Circuit Data\n",
"//Let input Current ib=2A\n",
"ib=2 ; //A, Assumption\n",
"io=100*ib ;\n",
"//Calculation\n",
"Ai=io/ib; // Current Gain\n",
"//Displaying The Results in Command Window\n",
"printf('\n\t The Current Gain of the Amplifier is Ai = %f .',Ai);"
   ]
   }
,
{
		   "cell_type": "markdown",
		   "metadata": {},
		   "source": [
			"## Example 8.3_a: Calculation_of_Voltage_Gain_of_Amplifier.sce"
		   ]
		  },
  {
"cell_type": "code",
	   "execution_count": null,
	   "metadata": {
	    "collapsed": true
	   },
	   "outputs": [],
"source": [
"//Example 8.3 (a)\n",
"//Program to find the Voltage Gain of the Amplifier\n",
"clear;\n",
"clc ;\n",
"close ;\n",
"//Given Circuit Data\n",
"Bac=150;\n",
"rin=2*10^3; //Ohms\n",
"R1=4.7*10^3; //Ohms\n",
"R2=12*10^3; //Ohms\n",
"//Calculation\n",
"Rac=R1*R2/(R1+R2);\n",
"Av=Bac*Rac/rin;\n",
"//Displaying The Results in Command Window\n",
"printf('\n\t The Voltage Gain of the Amplifier is Av = %f with phase of 180 degrees .',Av);"
   ]
   }
,
{
		   "cell_type": "markdown",
		   "metadata": {},
		   "source": [
			"## Example 8.3_b: Calculation_of_Input_Impedance_of_Amplifier.sce"
		   ]
		  },
  {
"cell_type": "code",
	   "execution_count": null,
	   "metadata": {
	    "collapsed": true
	   },
	   "outputs": [],
"source": [
"//Example 8.3 (b)\n",
"//Program to find the Input Impedance of the Amplifier\n",
"clear;\n",
"clc ;\n",
"close ;\n",
"//Given Circuit Data\n",
"rin=2*10^3; //Ohms\n",
"R3=75*10^3; //Ohms\n",
"R4=7.5*10^3; //Ohms\n",
"//Calculation\n",
"Zin=R3*R4*rin/(R3*R4+R4*rin+rin*R3);\n",
"//Displaying The Results in Command Window\n",
"printf('\n\t The Input Impedance of the Amplifier is Zin = %f kOhms .',Zin/10^3);"
   ]
   }
,
{
		   "cell_type": "markdown",
		   "metadata": {},
		   "source": [
			"## Example 8.3_c: Calculation_of_Q_Point_Parameters_of_Amplifier.sce"
		   ]
		  },
  {
"cell_type": "code",
	   "execution_count": null,
	   "metadata": {
	    "collapsed": true
	   },
	   "outputs": [],
"source": [
"//Example 8.3 (c)\n",
"//Program to find the Q Point of the Amplifier\n",
"clear;\n",
"clc ;\n",
"close ;\n",
"//Given Circuit Data\n",
"Vcc=15; //V\n",
"R1=75*10^3; //Ohms\n",
"R2=7.5*10^3; //Ohms\n",
"Rc=4.7*10^3; //Ohms\n",
"Re=1.2*10^3; //Ohms\n",
"//Calculation\n",
"Vb=Vcc*R2/(R1+R2);\n",
"Ve=Vb;\n",
"Ie=Ve/Re;\n",
"Vce=Vcc-(Rc+Re)*Ie;\n",
"//Displaying The Results in Command Window\n",
"printf('\n\t The Different Parameters of the Amplifier are Ie = %f mA and Vce = %f V .',Ie/10^(-3),Vce);"
   ]
   }
,
{
		   "cell_type": "markdown",
		   "metadata": {},
		   "source": [
			"## Example 8.4: Calculation_of_Voltage_Gain_of_Amplifier.sce"
		   ]
		  },
  {
"cell_type": "code",
	   "execution_count": null,
	   "metadata": {
	    "collapsed": true
	   },
	   "outputs": [],
"source": [
"//Example 8.4\n",
"//Program to find the Voltage Gain of the Amplifier\n",
"clear;\n",
"clc ;\n",
"close ;\n",
"//Given Circuit Data\n",
"u=20;\n",
"Rl=10*10^3; //Ohms\n",
"rp=10*10^3; //Ohms\n",
"//Calculation\n",
"A=u*Rl/(rp+Rl);\n",
"//Displaying The Results in Command Window\n",
"printf('\n\t The Voltage Gain of the Amplifier is A = %f with phase of 180 degrees .',A);"
   ]
   }
,
{
		   "cell_type": "markdown",
		   "metadata": {},
		   "source": [
			"## Example 8.5: Calculation_of_Gain_of_Single_Stage_Amplifier.sce"
		   ]
		  },
  {
"cell_type": "code",
	   "execution_count": null,
	   "metadata": {
	    "collapsed": true
	   },
	   "outputs": [],
"source": [
"//Example 8.5\n",
"//Program to find the Gain of the Amplifier\n",
"clear;\n",
"clc ;\n",
"close ;\n",
"//Given Circuit Data\n",
"gm=3000*10^(-6); //S\n",
"Rl=22*10^3; //Ohms\n",
"rp=300*10^3; //Ohms\n",
"//Calculation\n",
"//A=-(gm*Rl/(1+(Rl/rp))), For rp>>Rl we get\n",
"A=gm*Rl; //with Phase of 180 degrees\n",
"//Displaying The Results in Command Window\n",
"printf('\n\t The Gain of the Amplifier is A = %f with phase of 180 degrees .',A);"
   ]
   }
,
{
		   "cell_type": "markdown",
		   "metadata": {},
		   "source": [
			"## Example 8.6: Calculation_of_Output_Signal_Voltage_of_FET_Amplifier.sce"
		   ]
		  },
  {
"cell_type": "code",
	   "execution_count": null,
	   "metadata": {
	    "collapsed": true
	   },
	   "outputs": [],
"source": [
"//Example 8.6\n",
"//Program to find the Output Signal Voltage of the Amplifier\n",
"clear;\n",
"clc ;\n",
"close ;\n",
"//Given Circuit Data\n",
"Rl=12*10^3; //Ohms\n",
"Rg=1*10^6; //Ohms\n",
"Rs=1*10^3; //Ohms\n",
"Cs=25*10^(-6); //F\n",
"u=20;\n",
"rd=100*10^3; //Ohms\n",
"vi=0.1; //V\n",
"f=1*10^3; //Hz\n",
"//Calculation\n",
"Xcs=1/(2*%pi*f*Cs);\n",
"//As Xcs comes out to be much smaller than Rs, Rs is completely bypassed\n",
"A=u*Rl/(Rl+rd);\n",
"vo=A*vi;\n",
"//Displaying The Results in Command Window\n",
"printf('\n\t The Output Signal Voltage of the Amplifier is vo = %f V .',vo);"
   ]
   }
],
"metadata": {
		  "kernelspec": {
		   "display_name": "Scilab",
		   "language": "scilab",
		   "name": "scilab"
		  },
		  "language_info": {
		   "file_extension": ".sce",
		   "help_links": [
			{
			 "text": "MetaKernel Magics",
			 "url": "https://github.com/calysto/metakernel/blob/master/metakernel/magics/README.md"
			}
		   ],
		   "mimetype": "text/x-octave",
		   "name": "scilab",
		   "version": "0.7.1"
		  }
		 },
		 "nbformat": 4,
		 "nbformat_minor": 0
}
