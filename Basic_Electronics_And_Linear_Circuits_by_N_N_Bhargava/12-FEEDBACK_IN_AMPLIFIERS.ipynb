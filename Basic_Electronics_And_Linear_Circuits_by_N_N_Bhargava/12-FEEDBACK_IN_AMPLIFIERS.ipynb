{
"cells": [
 {
		   "cell_type": "markdown",
	   "metadata": {},
	   "source": [
       "# Chapter 12: FEEDBACK IN AMPLIFIERS"
	   ]
	},
{
		   "cell_type": "markdown",
		   "metadata": {},
		   "source": [
			"## Example 12.1: Calculation_of_Gain_of_Negative_Feedback_Amplifier.sce"
		   ]
		  },
  {
"cell_type": "code",
	   "execution_count": null,
	   "metadata": {
	    "collapsed": true
	   },
	   "outputs": [],
"source": [
"//Example 12.1\n",
"//Program to Calculate the Gain of a Negative Feedback Amplifier with\n",
"//Given Specifications\n",
"clear;\n",
"clc ;\n",
"close ;\n",
"//Given Circuit Data\n",
"A=100; //Internal Gain\n",
"B=1/10; //Feedback Factor\n",
"//Calculation\n",
"Af=A/(1+A*B);\n",
"//Displaying The Results in Command Window\n",
"printf('\n\t The Value of the Gain of Feedback Amplifier is, Af = %f .',Af);"
   ]
   }
,
{
		   "cell_type": "markdown",
		   "metadata": {},
		   "source": [
			"## Example 12.2: Calculation_of_Internal_Gain_and_Feedback_Gain.sce"
		   ]
		  },
  {
"cell_type": "code",
	   "execution_count": null,
	   "metadata": {
	    "collapsed": true
	   },
	   "outputs": [],
"source": [
"//Example 12.2\n",
"//Program to Calculate the A(Internal Gain) and Beeta(Feedback Gain) of //a Negative Feedback Amplifier with given Specifications\n",
"clear;\n",
"clc ;\n",
"close ;\n",
"//Given Circuit Data\n",
"Af=100; //Voltage Gain\n",
"Vin=50*10^(-3); //V , Input Signal without Feedaback Gain\n",
"Vi=0.6; //V , Input Signal with Feedaback Gain\n",
"//Calculation\n",
"Vo=Af*Vi;\n",
"A=Vo/Vin;\n",
"B=((A/Af)-1)/A;\n",
"//Displaying The Results in Command Window\n",
"printf('\n\t The Value of the Internal Gain A is, A = %f .',A);\n",
"printf('\n\t The Value of the Feedback Gain B is, B = %f percent .',B*100);"
   ]
   }
,
{
		   "cell_type": "markdown",
		   "metadata": {},
		   "source": [
			"## Example 12.3: Calculation_of_change_in_overall_Gain_of_Feedback_Amplifier.sce"
		   ]
		  },
  {
"cell_type": "code",
	   "execution_count": null,
	   "metadata": {
	    "collapsed": true
	   },
	   "outputs": [],
"source": [
"//Example 12.3\n",
"//Program to Calculate the change in overall Gain of the Feedback //Amplifier with given Gain reduction\n",
"clear;\n",
"clc ;\n",
"close ;\n",
"//Given Circuit Data\n",
"A=1000; //60dB, Voltage Gain\n",
"B=0.005; //Negative Feedback\n",
"dAbyA=-0.12; //dA/A = 12 %\n",
"//Calculation\n",
"dAfbyAf=1/(1+A*B)*dAbyA; //dAf/Af=1/(1+A*B)*dA/A\n",
"//Displaying The Results in Command Window\n",
"printf('\n\t The change in overall Gain of the Feedback Amplifier is, dAf/Af = %f which is equivalent to %f percent.',dAfbyAf,dAfbyAf*-100);"
   ]
   }
,
{
		   "cell_type": "markdown",
		   "metadata": {},
		   "source": [
			"## Example 12.4: Calculation_of_Input_Impedance_of_the_Feedback_Amplifier.sce"
		   ]
		  },
  {
"cell_type": "code",
	   "execution_count": null,
	   "metadata": {
	    "collapsed": true
	   },
	   "outputs": [],
"source": [
"//Example 12.4\n",
"//Program to Calculate the Input Impedance of the Feedback Amplifier //with given Specifications\n",
"clear;\n",
"clc ;\n",
"close ;\n",
"//Given Circuit Data\n",
"Zi=1*10^3; //Ohms\n",
"A=1000; //Voltage Gain\n",
"B=0.01; //Negative Feedback\n",
"//Calculation\n",
"Zid=(1+A*B)*Zi;\n",
"//Displaying The Results in Command Window\n",
"printf('\n\t The Value of the Input Impedance of the Feedback Amplifier is, Zid = %f kOhms.',Zid/10^3);"
   ]
   }
,
{
		   "cell_type": "markdown",
		   "metadata": {},
		   "source": [
			"## Example 12.5: Calculation_of_Feedback_Factor_and_Percent_change_in_overall_Gain.sce"
		   ]
		  },
  {
"cell_type": "code",
	   "execution_count": null,
	   "metadata": {
	    "collapsed": true
	   },
	   "outputs": [],
"source": [
"//Example 12.5\n",
"//Program to Calculate the value of Feedback Factor and Percentage //change in overall Gain of the Internal Amplifier\n",
"clear;\n",
"clc ;\n",
"close ;\n",
"//Given Circuit Data\n",
"A=1000; //60dB, Voltage Gain\n",
"Zo=12000; //Ohms\n",
"Zod=600; //Ohms\n",
"dAbyA=0.1; //dA/A = 10 %\n",
"//Calculation\n",
"B=((Zo/Zod)-1)/A; //Zod=Zo/(1+A*B)\n",
"dAfbyAf=1/(1+A*B)*dAbyA; //dAf/Af=1/(1+A*B)*dA/A\n",
"//Displaying The Results in Command Window\n",
"printf('\n\t The Feedback Factor of the Feedback Amplifier is, B = %f percent .',B*100);\n",
"printf('\n\t The change in overall Gain of the Feedback Amplifier is, dAf/Af = %f percent.',dAfbyAf*100);"
   ]
   }
],
"metadata": {
		  "kernelspec": {
		   "display_name": "Scilab",
		   "language": "scilab",
		   "name": "scilab"
		  },
		  "language_info": {
		   "file_extension": ".sce",
		   "help_links": [
			{
			 "text": "MetaKernel Magics",
			 "url": "https://github.com/calysto/metakernel/blob/master/metakernel/magics/README.md"
			}
		   ],
		   "mimetype": "text/x-octave",
		   "name": "scilab",
		   "version": "0.7.1"
		  }
		 },
		 "nbformat": 4,
		 "nbformat_minor": 0
}
