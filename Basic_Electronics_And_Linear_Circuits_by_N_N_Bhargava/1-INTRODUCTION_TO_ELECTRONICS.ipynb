{
"cells": [
 {
		   "cell_type": "markdown",
	   "metadata": {},
	   "source": [
       "# Chapter 1: INTRODUCTION TO ELECTRONICS"
	   ]
	},
{
		   "cell_type": "markdown",
		   "metadata": {},
		   "source": [
			"## Example 1.1: Resistor_Range_Calculation_using_Colour_Band_Sequence.sce"
		   ]
		  },
  {
"cell_type": "code",
	   "execution_count": null,
	   "metadata": {
	    "collapsed": true
	   },
	   "outputs": [],
"source": [
"//Example 1.1\n",
"//Program to find Range of a Resistor so as to satisfy manufacturer's Tolerances\n",
"//Colour Band Sequence: YELLOW, VIOLET, ORANGE, GOLD \n",
"clear;\n",
"clc ;\n",
"close ;\n",
"A=4;//NUMERICAL CODE FOR BAND YELLOW\n",
"B=7;//NUMERICAL CODE FOR BAND VIOLET\n",
"C=3;//NUMERICAL CODE FOR BAND ORANGE\n",
"D=5;//TOLERANCE VALUE FOR BAND GOLD i.e. 5%\n",
"//Resistor Value Calculation\n",
"R=(A*10+B)*10^C;\n",
"//Tolerance Value Calulation\n",
"T=D*R/100;\n",
"R1=R-T;\n",
"R2=R+T;\n",
"//Displaying The Results in Command Window\n",
"printf('\n\n\t Resistor Value is %f kOhms +- %f percent.',R/1000,D);\n",
"printf('\n\n\t Resistor Value is %f kOhms +- %f kOhms.',R/1000,T/1000);\n",
"printf('\n\n\t Range of Values of the Resistor is %f kOhms & %f kOhms.',R1/1000,R2/1000);"
   ]
   }
,
{
		   "cell_type": "markdown",
		   "metadata": {},
		   "source": [
			"## Example 1.2: Resistor_Range_Calculation_using_Colour_Band_Sequence.sce"
		   ]
		  },
  {
"cell_type": "code",
	   "execution_count": null,
	   "metadata": {
	    "collapsed": true
	   },
	   "outputs": [],
"source": [
"//Example 1.2\n",
"//Program to find Range of a Resistor so as to satisfy manufacturer's Tolerances\n",
"//Colour Band Sequence: GRAY, BLUE, GOLD, GOLD\n",
"clear;\n",
"clc ;\n",
"close ;\n",
"A=8;//NUMERICAL CODE FOR BAND GRAY\n",
"B=6;//NUMERICAL CODE FOR BAND BLUE\n",
"C=-1;//NUMERICAL CODE FOR BAND GOLD\n",
"D=5;//TOLERANCE VALUE FOR BAND GOLD i.e. 5%\n",
"//Resistor Value Calculation\n",
"R=(A*10+B)*10^C;\n",
"//Tolerance Value Calulation\n",
"T=D*R/100;\n",
"R1=R-T;\n",
"R2=R+T;\n",
"//Displaying The Results in Command Window\n",
"printf('\n\n\t Resistor Value is %f Ohms +- %f percent.',R,D);\n",
"printf('\n\n\t Resistor Value is %f Ohms +- %f Ohms.',R,T);\n",
"printf('\n\n\t Range of Values of the Resistor is %f Ohms & %f Ohms.',R1,R2);"
   ]
   }
],
"metadata": {
		  "kernelspec": {
		   "display_name": "Scilab",
		   "language": "scilab",
		   "name": "scilab"
		  },
		  "language_info": {
		   "file_extension": ".sce",
		   "help_links": [
			{
			 "text": "MetaKernel Magics",
			 "url": "https://github.com/calysto/metakernel/blob/master/metakernel/magics/README.md"
			}
		   ],
		   "mimetype": "text/x-octave",
		   "name": "scilab",
		   "version": "0.7.1"
		  }
		 },
		 "nbformat": 4,
		 "nbformat_minor": 0
}
