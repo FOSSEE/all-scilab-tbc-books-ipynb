{
"cells": [
 {
		   "cell_type": "markdown",
	   "metadata": {},
	   "source": [
       "# Chapter 10: POWER AMPLIFIERS"
	   ]
	},
{
		   "cell_type": "markdown",
		   "metadata": {},
		   "source": [
			"## Example 10.1: Calculation_of_Transformer_Turns_Ratio.sce"
		   ]
		  },
  {
"cell_type": "code",
	   "execution_count": null,
	   "metadata": {
	    "collapsed": true
	   },
	   "outputs": [],
"source": [
"//Example 10.1\n",
"//Program to Determine the Transformer Turns Ratio\n",
"clear;\n",
"clc ;\n",
"close ;\n",
"//Given Circuit Data\n",
"RL=16;// Ohms\n",
"RLd=10*10^3;// Ohms\n",
"//Calculation\n",
"N12=sqrt(RLd/RL);//N12=N1/N2\n",
"//Displaying The Results in Command Window\n",
"printf('\n\t The Transformer Turns Ratio is N1/N2 = %d:%d .',N12,1);"
   ]
   }
,
{
		   "cell_type": "markdown",
		   "metadata": {},
		   "source": [
			"## Example 10.2: Calculation_of_Effective_Resistance_seen_at_Primary.sce"
		   ]
		  },
  {
"cell_type": "code",
	   "execution_count": null,
	   "metadata": {
	    "collapsed": true
	   },
	   "outputs": [],
"source": [
"//Example 10.2\n",
"//Program to Determine the Effective Resistance seen looking into \n",
"//the Primary\n",
"clear;\n",
"clc ;\n",
"close ;\n",
"//Given Circuit Data\n",
"Rl=8; //Ohms\n",
"N12=15; //N12=N1/N2\n",
"//Calculation\n",
"Rld=(N12)^2*Rl;\n",
"//Displaying The Results in Command Window\n",
"printf('\n\t The Effective Resistance seen looking into the Primary, Rld = %f kOhms .',Rld/10^3);"
   ]
   }
,
{
		   "cell_type": "markdown",
		   "metadata": {},
		   "source": [
			"## Example 10.3_a: Calculation_of_2nd_3rd_and_4th_Harmonic_Distortions.sce"
		   ]
		  },
  {
"cell_type": "code",
	   "execution_count": null,
	   "metadata": {
	    "collapsed": true
	   },
	   "outputs": [],
"source": [
"//Example 10.3(a)\n",
"//Program to Determine the Second, Third & Fourth Harmonic Distortions \n",
"clear;\n",
"clc ;\n",
"close ;\n",
"//Given Circuit Data\n",
"//io=15*sin(600*t)+1.5*sin(1200*t)+1.2*sin(1800*t)+0.5*sin(2400*t)\n",
"I1=15;\n",
"I2=1.5;\n",
"I3=1.2;\n",
"I4=0.5;\n",
"//Calculation\n",
"D2=(I2/I1)*100;\n",
"D3=(I3/I1)*100;\n",
"D4=(I4/I1)*100;\n",
"//Displaying The Results in Command Window\n",
"printf('\n\t The Second Harmonic Distortion is, D2 = %f percent .',D2);\n",
"printf('\n\t The Third  Harmonic Distortion is, D3 = %f percent .',D3);\n",
"printf('\n\t The Fourth Harmonic Distortion is, D4 = %f percent .',D4);"
   ]
   }
,
{
		   "cell_type": "markdown",
		   "metadata": {},
		   "source": [
			"## Example 10.3_b: Percentage_Increase_in_Power_because_of_Distortion.sce"
		   ]
		  },
  {
"cell_type": "code",
	   "execution_count": null,
	   "metadata": {
	    "collapsed": true
	   },
	   "outputs": [],
"source": [
"//Example 10.3(b)\n",
"//Program to Determine the Percentage Increase in Power because of Distortion\n",
"clear;\n",
"clc ;\n",
"close ;\n",
"P1=poly(0,'P1');\n",
"//Given Circuit Data\n",
"//io=15*sin(600*t)+1.5*sin(1200*t)+1.2*sin(1800*t)+0.5*sin(2400*t)\n",
"I1=15;\n",
"I2=1.5;\n",
"I3=1.2;\n",
"I4=0.5;\n",
"//Calculation\n",
"D2=(I2/I1)*100;\n",
"D3=(I3/I1)*100;\n",
"D4=(I4/I1)*100;\n",
"D=sqrt(D2^2+D3^2+D4^2);//Distortion Factor\n",
"P=(1+(D/100)^2)*P1;\n",
"Pi=((P-P1)/P1)*100;\n",
"//Displaying The Results in Command Window\n",
"disp(Pi,'The Percentage Increase in Power because of Distortion is, Pi (in percent)= ');"
   ]
   }
],
"metadata": {
		  "kernelspec": {
		   "display_name": "Scilab",
		   "language": "scilab",
		   "name": "scilab"
		  },
		  "language_info": {
		   "file_extension": ".sce",
		   "help_links": [
			{
			 "text": "MetaKernel Magics",
			 "url": "https://github.com/calysto/metakernel/blob/master/metakernel/magics/README.md"
			}
		   ],
		   "mimetype": "text/x-octave",
		   "name": "scilab",
		   "version": "0.7.1"
		  }
		 },
		 "nbformat": 4,
		 "nbformat_minor": 0
}
