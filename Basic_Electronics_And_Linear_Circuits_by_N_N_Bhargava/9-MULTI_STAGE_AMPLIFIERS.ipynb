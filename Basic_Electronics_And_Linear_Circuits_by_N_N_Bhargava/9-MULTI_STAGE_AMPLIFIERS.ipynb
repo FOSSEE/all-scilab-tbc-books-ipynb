{
"cells": [
 {
		   "cell_type": "markdown",
	   "metadata": {},
	   "source": [
       "# Chapter 9: MULTI STAGE AMPLIFIERS"
	   ]
	},
{
		   "cell_type": "markdown",
		   "metadata": {},
		   "source": [
			"## Example 9.1: Calculate_overall_Voltage_Gain_in_dB.sce"
		   ]
		  },
  {
"cell_type": "code",
	   "execution_count": null,
	   "metadata": {
	    "collapsed": true
	   },
	   "outputs": [],
"source": [
"//Example 9.1\n",
"//Program to Calculate overall Voltage Gain of a Multistage \n",
"//Amplifier in dB\n",
"clear;\n",
"clc ;\n",
"close ;\n",
"//Given Data\n",
"A1=30;\n",
"A2=50;\n",
"A3=80;\n",
"//Calculation\n",
"A=A1*A2*A3; //Voltage Gain\n",
"Adb=20*log10(A); //Voltage Gain in dB\n",
"//Displaying The Results in Command Window\n",
"printf('\n\t The overall Voltage Gain of the Multistage Amplifier Adb = %f dB',Adb);"
   ]
   }
,
{
		   "cell_type": "markdown",
		   "metadata": {},
		   "source": [
			"## Example 9.2: Calculate_Voltage_at_the_Output_Terminal.sce"
		   ]
		  },
  {
"cell_type": "code",
	   "execution_count": null,
	   "metadata": {
	    "collapsed": true
	   },
	   "outputs": [],
"source": [
"//Example 9.2\n",
"//Program to Calculate Voltage at the Output Terminal of \n",
"//Two Stage Direct Coupled Amplifier\n",
"clear;\n",
"clc ;\n",
"close ;\n",
"//Given Data\n",
"Vcc=30; //V\n",
"Vi=1.4; //V\n",
"Vbe=0.7; //V\n",
"B=300; //Beeta\n",
"R1=27*10^3; //Ohms\n",
"R2=680; //Ohms\n",
"R3=24*10^3; //Ohms\n",
"R4=2.4*10^3; //Ohms\n",
"//Calculation\n",
"Ve=Vi-Vbe;\n",
"Ie1=Vbe/R2;\n",
"Ic1=Ie1;\n",
"Vc1=Vcc-Ic1*R1;\n",
"Vb2=Vc1;\n",
"Ve2=Vb2-Vbe;\n",
"Ie2=Ve2/R4;\n",
"Ic2=Ie2;\n",
"Vc2=Vcc-Ic2*R3;\n",
"Vo=Vc2;\n",
"//Displaying The Results in Command Window\n",
"printf('\n\t The Voltage at the Output Terminal of Two Stage Direct Coupled Amplifier, Vo = %f V',Vo);"
   ]
   }
,
{
		   "cell_type": "markdown",
		   "metadata": {},
		   "source": [
			"## Example 9.3: To_Plot_the_Frequency_Response_Curve.sce"
		   ]
		  },
  {
"cell_type": "code",
	   "execution_count": null,
	   "metadata": {
	    "collapsed": true
	   },
	   "outputs": [],
"source": [
"//Example 9.3\n",
"//Program to Calculate Gain in dB at Cutoff Frequencies and \n",
"//Plot Frequency Response Curve\n",
"clear;\n",
"clc ;\n",
"close ;\n",
"//Given Data\n",
"A=100;\n",
"f1=400;\n",
"f2=25*10^3;\n",
"f3=80;\n",
"f4=40*10^3;\n",
"//Calculation\n",
"Adb=20*log10(A);\n",
"Adbc=Adb-3; //Lower by 3dB\n",
"//Displaying The Results in Command Window\n",
"printf('\n\t The Gain at Cutoff Frequencies is, Adb (at Cutoff Frequencies) = %f dB',Adbc);\n",
"//Plotting the Frequency Response Curve\n",
"x = [f3 f1 f2 f4];\n",
"x1= [1 1 1 1];\n",
"y = [Adbc Adb Adb Adbc];\n",
"gainplot(y,x1);\n",
"a = gca();\n",
"a.y_location = 'left';\n",
"a.x_location = 'bottom';\n",
"a.x_label.text = '                    f3                         f1                Frequency(Hz)                          f2     f4';\n",
"a.y_label.text = '                                             AdB                                         37';\n",
"a.title.text = 'FREQUENCY RESPONSE CURVE';\n",
"plot2d(x,y);\n",
"r= [37 37];\n",
"q = [10 100000];\n",
"plot2d2(q,r,6);\n",
"r2= [37 40 40 37];\n",
"q2 = [f3 f1 f2 f4];\n",
"plot2d3(q2,r2,6);"
   ]
   }
,
{
		   "cell_type": "markdown",
		   "metadata": {},
		   "source": [
			"## Example 9.4_a: Calculate_Input_Impedance_of_Two_Stage_RC_Coupled_Amplifier.sce"
		   ]
		  },
  {
"cell_type": "code",
	   "execution_count": null,
	   "metadata": {
	    "collapsed": true
	   },
	   "outputs": [],
"source": [
"//Example 9.4 (a)\n",
"//Program to Calculate Input Impedance of the given \n",
"//Two Stage RC Coupled Amplifier\n",
"clear;\n",
"clc ;\n",
"close ;\n",
"//Given Data\n",
"R1=5.6*10^3; //Ohms\n",
"R2=56*10^3; //Ohms\n",
"R3=1.1*10^3; //Ohms\n",
"//Calculation\n",
"Zi=R1*R2*R3/(R1*R2+R2*R3+R3*R1);\n",
"//Displaying The Results in Command Window\n",
"printf('\n\t The Input Impedance, Zi = %f kOhms ',Zi/10^3);"
   ]
   }
,
{
		   "cell_type": "markdown",
		   "metadata": {},
		   "source": [
			"## Example 9.4_b: Calculate_Ouput_Impedance_of_Two_Stage_RC_Coupled_Amplifier.sce"
		   ]
		  },
  {
"cell_type": "code",
	   "execution_count": null,
	   "metadata": {
	    "collapsed": true
	   },
	   "outputs": [],
"source": [
"//Example 9.4 (b)\n",
"//Program to Calculate Output Impedance of the given \n",
"//Two Stage RC Coupled Amplifier\n",
"clear;\n",
"clc ;\n",
"close ;\n",
"//Given Data\n",
"Ro1=3.3*10^3; //Ohms\n",
"Ro2=2.2*10^3; //Ohms\n",
"//Calculation\n",
"Zo=Ro1*Ro2/(Ro1+Ro2);\n",
"//Displaying The Results in Command Window\n",
"printf('\n\t The Output Impedance, Zo = %f kOhms ',Zo/10^3);"
   ]
   }
,
{
		   "cell_type": "markdown",
		   "metadata": {},
		   "source": [
			"## Example 9.4_c: Calculate_Voltage_Gain_of_Two_Stage_RC_Coupled_Amplifier.sce"
		   ]
		  },
  {
"cell_type": "code",
	   "execution_count": null,
	   "metadata": {
	    "collapsed": true
	   },
	   "outputs": [],
"source": [
"//Example 9.4 (c)\n",
"//Program to Voltage Gain of the given Two Stage RC Coupled Amplifier\n",
"clear;\n",
"clc ;\n",
"close ;\n",
"//Given Data\n",
"Ro1=3.3*10^3; //Ohms\n",
"Ro2=2.2*10^3; //Ohms\n",
"hfe=120;\n",
"hie=1.1*10^3; //Ohms\n",
"R1=6.8*10^3; //Ohms\n",
"R2=56*10^3; //Ohms\n",
"R3=5.6*10^3; //Ohms\n",
"R4=1.1*10^3; //Ohms\n",
"//Calculation\n",
"Rac2=Ro1*Ro2/(Ro1+Ro2);\n",
"A2=-hfe*Rac2/hie;\n",
"Rac1=R1*R2*R3*R4/(R1*R2*R3+R2*R3*R4+R1*R3*R4+R1*R2*R4);\n",
"A1=-hfe*Rac1/hie;\n",
"A=A1*A2; //Overall Gain\n",
"//Displaying The Results in Command Window\n",
"printf('\n\t The Overall Gain, A = %f .',A);"
   ]
   }
,
{
		   "cell_type": "markdown",
		   "metadata": {},
		   "source": [
			"## Example 9.5: Calculate_Maximum_Voltage_Gain_and_Bandwidth_of_Triode_Amplifier.sce"
		   ]
		  },
  {
"cell_type": "code",
	   "execution_count": null,
	   "metadata": {
	    "collapsed": true
	   },
	   "outputs": [],
"source": [
"//Example 9.5\n",
"//Program to Calculate Maximum Voltage Gain & Bandwidth\n",
"clear;\n",
"clc ;\n",
"close ;\n",
"//Given Data\n",
"Rl=10*10^3; //Ohms\n",
"Rg=470*10^3; //Ohms\n",
"Cs=100*10^(-12); //F\n",
"u=25;\n",
"rp=8*10^3; //Ohms\n",
"Cc=0.01*10^(-6); //F\n",
"//Calculation\n",
"gm=u/rp;\n",
"Req=rp*Rl*Rg/(rp*Rl+Rl*Rg+Rg*rp);\n",
"Avm=gm*Req;\n",
"Avmd=Avm^2; // Voltage Gain of Two Stages\n",
"Rd=(rp*Rl/(rp+Rl))+Rg;\n",
"f1=1/(2*%pi*Cc*Rd); //Lower Cutoff Frequency\n",
"f1d=f1/sqrt(sqrt(2)-1); //Lower Cutoff Frequency of Two Stages\n",
"f2=1/(2*%pi*Cs*Req); //Upper Cutoff Frequency\n",
"f2d=f2*sqrt(sqrt(2)-1); //Upper Cutoff Frequency of Two Stages\n",
"BW=f2d-f1d; //Bandwidth\n",
"//Displaying The Results in Command Window\n",
"printf('\n\t The Voltage Gain of Two Stages, Avmd = %f ',Avmd);\n",
"printf('\n\t The Bandwidth, BW = %f kHz',BW/10^3);"
   ]
   }
],
"metadata": {
		  "kernelspec": {
		   "display_name": "Scilab",
		   "language": "scilab",
		   "name": "scilab"
		  },
		  "language_info": {
		   "file_extension": ".sce",
		   "help_links": [
			{
			 "text": "MetaKernel Magics",
			 "url": "https://github.com/calysto/metakernel/blob/master/metakernel/magics/README.md"
			}
		   ],
		   "mimetype": "text/x-octave",
		   "name": "scilab",
		   "version": "0.7.1"
		  }
		 },
		 "nbformat": 4,
		 "nbformat_minor": 0
}
