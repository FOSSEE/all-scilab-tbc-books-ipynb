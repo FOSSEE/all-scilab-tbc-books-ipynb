{
"cells": [
 {
		   "cell_type": "markdown",
	   "metadata": {},
	   "source": [
       "# Chapter 11: TUNED VOLTAGE AMPLIFIERS"
	   ]
	},
{
		   "cell_type": "markdown",
		   "metadata": {},
		   "source": [
			"## Example 11.1_a: Calculation_of_Resonant_Frequency.sce"
		   ]
		  },
  {
"cell_type": "code",
	   "execution_count": null,
	   "metadata": {
	    "collapsed": true
	   },
	   "outputs": [],
"source": [
"//Example 11.1 (a)\n",
"//Program to Calculate Resonant Frequency of the given Circuit\n",
"clear;\n",
"clc ;\n",
"close ;\n",
"//Given Circuit Data\n",
"C=300*10^(-12); //F\n",
"L=220*10^(-6); //H\n",
"R=20; //Ohms\n",
"//Calculation\n",
"fr=1/(2*%pi*sqrt(L*C));\n",
"//Displaying The Results in Command Window\n",
"printf('\n\t The Resonant Frequency, fr = %f kHz .',fr/10^3);"
   ]
   }
,
{
		   "cell_type": "markdown",
		   "metadata": {},
		   "source": [
			"## Example 11.1_b: Calculation_of_Impedance_at_Resonance.sce"
		   ]
		  },
  {
"cell_type": "code",
	   "execution_count": null,
	   "metadata": {
	    "collapsed": true
	   },
	   "outputs": [],
"source": [
"//Example 11.1 (b)\n",
"//Program to Calculate Impedance at Resonance of the given Circuit\n",
"clear;\n",
"clc ;\n",
"close ;\n",
"//Given Circuit Data\n",
"C=300*10^(-12); //F\n",
"L=220*10^(-6); //H\n",
"R=20; //Ohms\n",
"//Calculation\n",
"Rr=R;\n",
"//Displaying The Results in Command Window\n",
"printf('\n\t The Impedance at Resonance, Rr = %f Ohms .',Rr);"
   ]
   }
,
{
		   "cell_type": "markdown",
		   "metadata": {},
		   "source": [
			"## Example 11.1_c: Calculation_of_Current_at_Resonance.sce"
		   ]
		  },
  {
"cell_type": "code",
	   "execution_count": null,
	   "metadata": {
	    "collapsed": true
	   },
	   "outputs": [],
"source": [
"//Example 11.1 (c)\n",
"//Program to Calculate the Current at Resonance of the given Circuit\n",
"clear;\n",
"clc ;\n",
"close ;\n",
"//Given Circuit Data\n",
"V=10; //V\n",
"C=300*10^(-12); //F\n",
"L=220*10^(-6); //H\n",
"R=20; //Ohms\n",
"//Calculation\n",
"I=V/R;\n",
"//Displaying The Results in Command Window\n",
"printf('\n\t The Current at Resonance, I = %f A .',I);"
   ]
   }
,
{
		   "cell_type": "markdown",
		   "metadata": {},
		   "source": [
			"## Example 11.1_d: Calculation_of_Voltage_across_each_Component.sce"
		   ]
		  },
  {
"cell_type": "code",
	   "execution_count": null,
	   "metadata": {
	    "collapsed": true
	   },
	   "outputs": [],
"source": [
"//Example 11.1 (d)\n",
"//Program to Calculate the Voltage across each Component of the given Circuit\n",
"clear;\n",
"clc ;\n",
"close ;\n",
"//Given Circuit Data\n",
"V=10; //V\n",
"C=300*10^(-12); //F\n",
"L=220*10^(-6); //H\n",
"R=20; //Ohms\n",
"//Calculation\n",
"fr=1/(2*%pi*sqrt(L*C));\n",
"I=V/R;\n",
"Xl=2*%pi*fr*L;\n",
"Vl=I*Xl;\n",
"Xc=1/(2*%pi*fr*C);\n",
"Vc=I*Xc;\n",
"Vr=I*R;\n",
"//Displaying The Results in Command Window\n",
"printf('\n\t Voltage across the Inductance, Vl = %f V .',Vl);\n",
"printf('\n\t Voltage across the Capacitance, Vc = %f V .',Vc);\n",
"printf('\n\t Voltage across the Resistance, Vr = %f V .',Vr);"
   ]
   }
,
{
		   "cell_type": "markdown",
		   "metadata": {},
		   "source": [
			"## Example 11.2: Calculation_of_Parameters_of_the_Resonant_Circuit_at_Resonance.sce"
		   ]
		  },
  {
"cell_type": "code",
	   "execution_count": null,
	   "metadata": {
	    "collapsed": true
	   },
	   "outputs": [],
"source": [
"//Example 11.2\n",
"//Program to Calculate fr, Il, Ic, Line Current & Impedance of\n",
"//the Resonant Circuit at Resonance\n",
"clear;\n",
"clc ;\n",
"close ;\n",
"//Given Circuit Data\n",
"C=100*10^(-12); //F\n",
"L=100*10^(-6); //H\n",
"R=10; //Ohms\n",
"V=100; //V\n",
"//Calculation\n",
"fr=1/(2*%pi*sqrt(L*C));\n",
"Xl=2*%pi*fr*L;\n",
"Il=V/Xl;\n",
"Xc=1/(2*%pi*fr*C);\n",
"Ic=V/Xc;\n",
"Zp=L/(R*C);\n",
"I=V/Zp;\n",
"//Displaying The Results in Command Window\n",
"printf('\n\t The Calculated Values are :');\n",
"printf('\n\t fr= %f kHz.',fr/10^3);\n",
"printf('\n\t Il= %f A.',Il);\n",
"printf('\n\t Ic= %f A.',Ic);\n",
"printf('\n\t Zp= %f Ohms .',Zp);\n",
"printf('\n\t I= %f mA.',I/10^(-3));"
   ]
   }
,
{
		   "cell_type": "markdown",
		   "metadata": {},
		   "source": [
			"## Example 11.3: Calculation_of_Impedance_Q_and_Bandwidth_of_Resonant_Circuit.sce"
		   ]
		  },
  {
"cell_type": "code",
	   "execution_count": null,
	   "metadata": {
	    "collapsed": true
	   },
	   "outputs": [],
"source": [
"//Example 11.3\n",
"//Program to Calculate Impedance, Q and Bandwidth of the \n",
"//Resonant Circuit \n",
"clear;\n",
"clc ;\n",
"close ;\n",
"//Given Circuit Data\n",
"C=100*10^(-12); //F\n",
"L=150*10^(-6); //H\n",
"R=15; //Ohms\n",
"//Calculation\n",
"fr=1/(2*%pi*sqrt(L*C));\n",
"Zp=L/(R*C);\n",
"Q=2*%pi*fr*L/R;\n",
"df=fr/Q; //Bandwidth\n",
"//Displaying The Results in Command Window\n",
"printf('\n\t The Calculated Values are :');\n",
"printf('\n\t Impedance, Zp= %f kOhms.',Zp/10^3);\n",
"printf('\n\t Quality Factor, Q= %f .',Q);\n",
"printf('\n\t Bandwidth, df= %f kHz .',df/10^3);"
   ]
   }
],
"metadata": {
		  "kernelspec": {
		   "display_name": "Scilab",
		   "language": "scilab",
		   "name": "scilab"
		  },
		  "language_info": {
		   "file_extension": ".sce",
		   "help_links": [
			{
			 "text": "MetaKernel Magics",
			 "url": "https://github.com/calysto/metakernel/blob/master/metakernel/magics/README.md"
			}
		   ],
		   "mimetype": "text/x-octave",
		   "name": "scilab",
		   "version": "0.7.1"
		  }
		 },
		 "nbformat": 4,
		 "nbformat_minor": 0
}
