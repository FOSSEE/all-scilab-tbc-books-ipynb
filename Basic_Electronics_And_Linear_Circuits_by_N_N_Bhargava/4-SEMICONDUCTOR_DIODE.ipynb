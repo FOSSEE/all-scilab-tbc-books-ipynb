{
"cells": [
 {
		   "cell_type": "markdown",
	   "metadata": {},
	   "source": [
       "# Chapter 4: SEMICONDUCTOR DIODE"
	   ]
	},
{
		   "cell_type": "markdown",
		   "metadata": {},
		   "source": [
			"## Example 4.1: DC_Voltage_and_PIV_Calculation.sce"
		   ]
		  },
  {
"cell_type": "code",
	   "execution_count": null,
	   "metadata": {
	    "collapsed": true
	   },
	   "outputs": [],
"source": [
"//Example 4.1\n",
"//Program to determine DC Voltage across the load and PIV of the Diode\n",
"clear;\n",
"clc ;\n",
"close ;\n",
"//Given Circuit Data\n",
"Vrms=220; //Volts\n",
"n2=1; //Assumption\n",
"n1=12*n2; //Turns Ratio\n",
"//Calculation\n",
"Vp=sqrt(2)*Vrms;//Maximum(Peak) Primary Voltage\n",
"Vm=n2*Vp/n1;//Maximum Secondary Voltage\n",
"Vdc=Vm/%pi;//DC load Voltage \n",
"//Displaying The Results in Command Window\n",
"printf('\n\t The DC load Voltage is = %f V .',Vdc);\n",
"printf('\n\t The Peak Inverse Voltage(PIV) is = %f V .',Vm);"
   ]
   }
,
{
		   "cell_type": "markdown",
		   "metadata": {},
		   "source": [
			"## Example 4.2: DC_Voltage_and_PIV_Calculation.sce"
		   ]
		  },
  {
"cell_type": "code",
	   "execution_count": null,
	   "metadata": {
	    "collapsed": true
	   },
	   "outputs": [],
"source": [
"//Example 4.2\n",
"//Program to determine DC Voltage across the load and PIV of the \n",
"//Centre Tap Rectifier and Bridge Rectifier\n",
"clear;\n",
"clc ;\n",
"close ;\n",
"//Given Circuit Data\n",
"Vrms=220; //Volts\n",
"n2=1; //Assumption\n",
"n1=12*n2; //Turns Ratio\n",
"//Calculation\n",
"Vp=sqrt(2)*Vrms;//Maximum(Peak) Primary Voltage\n",
"Vm=n2*Vp/n1;//Maximum Secondary Voltage\n",
"Vdc=2*Vm/%pi;//DC load Voltage \n",
"//Displaying The Results in Command Window\n",
"printf('\n\t The DC load Voltage is = %f V .',Vdc);\n",
"printf('\n\t The Peak Inverse Voltage(PIV) of Bridge Rectifier is = %f V .',Vm);\n",
"printf('\n\t The Peak Inverse Voltage(PIV) of Centre-tap Rectifier is = %f V .',2*Vm);"
   ]
   }
,
{
		   "cell_type": "markdown",
		   "metadata": {},
		   "source": [
			"## Example 4.3_a: Peak_Value_of_Current_Calculation.sce"
		   ]
		  },
  {
"cell_type": "code",
	   "execution_count": null,
	   "metadata": {
	    "collapsed": true
	   },
	   "outputs": [],
"source": [
"//Example 4.3(a)\n",
"//Program to determine the Peak Value of Current\n",
"clear;\n",
"clc ;\n",
"close ;\n",
"//Given Circuit Data\n",
"Rl=1*10^(3);//Ohms\n",
"rd=10;//Ohms\n",
"Vm=220; //Volts(Peak Value of Voltage)\n",
"//Calculation\n",
"Im=Vm/(rd+Rl);//Peak Value of Current\n",
"//Displaying The Results in Command Window\n",
"printf('\n\t The Peak Value of Current is = %f mA .',Im/10^(-3));"
   ]
   }
,
{
		   "cell_type": "markdown",
		   "metadata": {},
		   "source": [
			"## Example 4.3_b: DC_or_Average_Value_of_Current_Calculation.sce"
		   ]
		  },
  {
"cell_type": "code",
	   "execution_count": null,
	   "metadata": {
	    "collapsed": true
	   },
	   "outputs": [],
"source": [
"//Example 4.3(b)\n",
"//Program to determine the DC or Average Value of Current\n",
"clear;\n",
"clc ;\n",
"close ;\n",
"//Given Circuit Data\n",
"Rl=1*10^(3);//Ohms\n",
"rd=10;//Ohms\n",
"Vm=220; //Volts(Peak Value of Voltage)\n",
"//Calculation\n",
"Im=Vm/(rd+Rl);//Peak Value of Current\n",
"Idc=2*Im/%pi;//DC Value of Current\n",
"//Displaying The Results in Command Window\n",
"printf('\n\t The DC or Average Value of Current is = %f mA .',Idc/10^(-3));"
   ]
   }
,
{
		   "cell_type": "markdown",
		   "metadata": {},
		   "source": [
			"## Example 4.3_c: RMS_Value_of_Current_Calculation.sce"
		   ]
		  },
  {
"cell_type": "code",
	   "execution_count": null,
	   "metadata": {
	    "collapsed": true
	   },
	   "outputs": [],
"source": [
"//Example 4.3(c)\n",
"//Program to determine the RMS Value of Current\n",
"clear;\n",
"clc ;\n",
"close ;\n",
"//Given Circuit Data\n",
"Rl=1*10^(3); //Ohms\n",
"rd=10; //Ohms\n",
"Vm=220; //Volts(Peak Value of Voltage)\n",
"//Calculation\n",
"Im=Vm/(rd+Rl);//Peak Value of Current\n",
"Irms=Im/sqrt(2);//RMS Value of Current\n",
"//Displaying The Results in Command Window\n",
"printf('\n\t The RMS Value of Current is = %f mA .',Irms/10^(-3));"
   ]
   }
,
{
		   "cell_type": "markdown",
		   "metadata": {},
		   "source": [
			"## Example 4.3_d: Ripple_Factor_Determination.sce"
		   ]
		  },
  {
"cell_type": "code",
	   "execution_count": null,
	   "metadata": {
	    "collapsed": true
	   },
	   "outputs": [],
"source": [
"//Example 4.3(d)\n",
"//Program to determine the Ripple Factor of Centre-tap Full Wave Rectifier\n",
"clear;\n",
"clc ;\n",
"close ;\n",
"//Given Circuit Data\n",
"Rl=1*10^(3); //Ohms\n",
"rd=10; //Ohms\n",
"Vm=220; //Volts(Peak Value of Voltage)\n",
"//Calculation\n",
"Im=Vm/(rd+Rl);//Peak Value of Current\n",
"Idc=2*Im/%pi;//DC Value of Current\n",
"Irms=Im/sqrt(2);//RMS Value of Current\n",
"r=sqrt((Irms/Idc)^2-1)//Ripple Factor\n",
"//Displaying The Results in Command Window\n",
"printf('\n\t The Ripple Factor r = %f .',r);"
   ]
   }
,
{
		   "cell_type": "markdown",
		   "metadata": {},
		   "source": [
			"## Example 4.3_e: Rectification_Efficiency_Calculation.sce"
		   ]
		  },
  {
"cell_type": "code",
	   "execution_count": null,
	   "metadata": {
	    "collapsed": true
	   },
	   "outputs": [],
"source": [
"//Example 4.3(e)\n",
"//Program to determine the Rectification Efficiency of Centre-tap Full Wave Rectifier\n",
"clear;\n",
"clc ;\n",
"close ;\n",
"//Given Circuit Data\n",
"Rl=1*10^(3); //Ohms\n",
"rd=10; //Ohms\n",
"Vm=220; //Volts(Peak Value of Voltage)\n",
"//Calculation\n",
"Im=Vm/(rd+Rl);//Peak Value of Current\n",
"Idc=2*Im/%pi;//DC Value of Current\n",
"Irms=Im/sqrt(2);//RMS Value of Current\n",
"Pdc=Idc^2*Rl;\n",
"Pac=Irms^2*(rd+Rl);\n",
"n=Pdc/Pac;//Rectification Efficiency\n",
"//Displaying The Results in Command Window\n",
"printf('\n\t The Rectification EFficiency n(eeta) = %f percent.',n*100);"
   ]
   }
,
{
		   "cell_type": "markdown",
		   "metadata": {},
		   "source": [
			"## Example 4.4: Maximum_Permissible_Current_Determination.sce"
		   ]
		  },
  {
"cell_type": "code",
	   "execution_count": null,
	   "metadata": {
	    "collapsed": true
	   },
	   "outputs": [],
"source": [
"//Example 4.4\n",
"//Program to determine Maximum Current the Given Zener Diode can handle\n",
"clear;\n",
"clc ;\n",
"close ;\n",
"//Given Circuit Data\n",
"Vz=9.1; //Volts\n",
"P=364*10^(-3); //Watts\n",
"//Calculation\n",
"Iz=P/Vz;\n",
"//Displaying The Results in Command Window\n",
"printf('\n\t The Maximum permissible Current is Iz(max) = %f mA .',Iz/10^(-3));"
   ]
   }
,
{
		   "cell_type": "markdown",
		   "metadata": {},
		   "source": [
			"## Example 4.5: Capacitance_Determination_on_changing_Bias_Voltage.sce"
		   ]
		  },
  {
"cell_type": "code",
	   "execution_count": null,
	   "metadata": {
	    "collapsed": true
	   },
	   "outputs": [],
"source": [
"//Example 4.5\n",
"//Program to determine Capacitance of Varactor Diode if the\n",
"//Reverse-Bias Voltage is increased from 4V to 8V \n",
"clear;\n",
"clc ;\n",
"close ;\n",
"//Given Circuit Data\n",
"Ci=18*10^(-12);//i.e. 18 pF\n",
"Vi=4; //Volts\n",
"Vf=8; //Volts\n",
"//Calculation\n",
"K=Ci*sqrt(Vi);\n",
"Cf=K/sqrt(Vf);\n",
"//Displaying The Results in Command Window\n",
"printf('\n\t The Final Value of Capacitance is C = %f pF .',Cf/10^(-12));"
   ]
   }
],
"metadata": {
		  "kernelspec": {
		   "display_name": "Scilab",
		   "language": "scilab",
		   "name": "scilab"
		  },
		  "language_info": {
		   "file_extension": ".sce",
		   "help_links": [
			{
			 "text": "MetaKernel Magics",
			 "url": "https://github.com/calysto/metakernel/blob/master/metakernel/magics/README.md"
			}
		   ],
		   "mimetype": "text/x-octave",
		   "name": "scilab",
		   "version": "0.7.1"
		  }
		 },
		 "nbformat": 4,
		 "nbformat_minor": 0
}
