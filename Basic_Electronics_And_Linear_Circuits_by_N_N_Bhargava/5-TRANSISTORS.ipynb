{
"cells": [
 {
		   "cell_type": "markdown",
	   "metadata": {},
	   "source": [
       "# Chapter 5: TRANSISTORS"
	   ]
	},
{
		   "cell_type": "markdown",
		   "metadata": {},
		   "source": [
			"## Example 5.1: Collector_and_Base_Currents_Calculation.sce"
		   ]
		  },
  {
"cell_type": "code",
	   "execution_count": null,
	   "metadata": {
	    "collapsed": true
	   },
	   "outputs": [],
"source": [
"//Example 5.1\n",
"//Program to Calculate Collector and Base Currents\n",
"clear;\n",
"clc ;\n",
"close ;\n",
"//Given Circuit Data\n",
"alpha=0.98; //alpha(dc)\n",
"Ico=1*10^(-6); //Ampere\n",
"Ie=1*10^(-3); //Ampere\n",
"//Calculation\n",
"Ic=alpha*Ie+Ico; //Collector Current\n",
"Ib=Ie-Ic; //Base Current \n",
"//Displaying The Results in Command Window\n",
"printf('\n\t The Collector Current is Ic= %f mA .',Ic/10^(-3));\n",
"printf('\n\t The Base Current is Ib= %f uA .',Ib/10^(-6));"
   ]
   }
,
{
		   "cell_type": "markdown",
		   "metadata": {},
		   "source": [
			"## Example 5.2: Dynamic_Input_Resistance_Determination.sce"
		   ]
		  },
  {
"cell_type": "code",
	   "execution_count": null,
	   "metadata": {
	    "collapsed": true
	   },
	   "outputs": [],
"source": [
"//Example 5.2\n",
"//Program to Determine Dynamic Input Resistance of the Transistor at //the point: Ie=0.5 mA and Vcb= -10 V.\n",
"clear;\n",
"clc ;\n",
"close ;\n",
"//From the Input Characteristics \n",
"dIe=(0.7-0.3)*10^(-3); //A\n",
"dVeb=(0.7-0.62); //V\n",
"//Calculation\n",
"ri=dVeb/dIe; //Dynamic Input Resistance at Vcb= -10 V \n",
"//Displaying The Results in Command Window\n",
"printf('\n\t The Dynamic Input Resistance is ri= %f Ohms .',ri);"
   ]
   }
,
{
		   "cell_type": "markdown",
		   "metadata": {},
		   "source": [
			"## Example 5.3: Short_Circuit_Current_Gain_Determination.sce"
		   ]
		  },
  {
"cell_type": "code",
	   "execution_count": null,
	   "metadata": {
	    "collapsed": true
	   },
	   "outputs": [],
"source": [
"//Example 5.3\n",
"//Program to Determine Short Circuit Current Gain of the Transistor\n",
"clear;\n",
"clc ;\n",
"close ;\n",
"//Given Data \n",
"dIe=1*10^(-3); //A\n",
"dIc=0.99*10^(-3); //A\n",
"//Calculation\n",
"hfb=dIc/dIe; //Short Circuit Current Gain\n",
"//Displaying The Results in Command Window\n",
"printf('\n\t The Short Circuit Current Gain is alpha or hfb= %f .',hfb);"
   ]
   }
,
{
		   "cell_type": "markdown",
		   "metadata": {},
		   "source": [
			"## Example 5.4_a: Common_Base_Short_Circuit_Current_Gain_Calculation.sce"
		   ]
		  },
  {
"cell_type": "code",
	   "execution_count": null,
	   "metadata": {
	    "collapsed": true
	   },
	   "outputs": [],
"source": [
"//Example 5.4(a)\n",
"//Program to Determine Common Base Short Circuit Current Gain (alpha)\n",
"//of the Transistor\n",
"clear;\n",
"clc ;\n",
"close ;\n",
"//Given Data \n",
"dIe=1*10^(-3); //A\n",
"dIc=0.995*10^(-3); //A\n",
"//Calculation\n",
"alpha=dIc/dIe; //Common Base Short Circuit Current Gain\n",
"//Displaying The Results in Command Window\n",
"printf('\n\t The Common Base Short Circuit Current Gain is alpha= %f .',alpha);"
   ]
   }
,
{
		   "cell_type": "markdown",
		   "metadata": {},
		   "source": [
			"## Example 5.4_b: Common_Emitter_Short_Circuit_Current_Gain_Calculation.sce"
		   ]
		  },
  {
"cell_type": "code",
	   "execution_count": null,
	   "metadata": {
	    "collapsed": true
	   },
	   "outputs": [],
"source": [
"//Example 5.4(b)\n",
"//Program to Determine Common Emitter Short Circuit Current Gain (beeta)\n",
"//of the Transistor\n",
"clear;\n",
"clc ;\n",
"close ;\n",
"//Given Data \n",
"dIe=1*10^(-3); //A\n",
"dIc=0.995*10^(-3); //A\n",
"//Calculation\n",
"alpha=dIc/dIe; //Common Base Short Circuit Current Gain\n",
"beeta=alpha/(1-alpha); //Common Emitter Short Circuit Current Gain\n",
"//Displaying The Results in Command Window\n",
"printf('\n\t The Common Emitter Short Circuit Current Gain is beeta= %f .',beeta);"
   ]
   }
,
{
		   "cell_type": "markdown",
		   "metadata": {},
		   "source": [
			"## Example 5.5: DC_Current_Gain_in_Common_Base_Configuration.sce"
		   ]
		  },
  {
"cell_type": "code",
	   "execution_count": null,
	   "metadata": {
	    "collapsed": true
	   },
	   "outputs": [],
"source": [
"//Example 5.5\n",
"//Program to Determine DC Current Gain in Common Base Configuration\n",
"clear;\n",
"clc ;\n",
"close ;\n",
"//Given Data \n",
"Beeta=100;\n",
"//Calculation\n",
"Alpha=Beeta/(Beeta+1); //DC Current Gain in Common Base Configuration\n",
"//Displaying The Results in Command Window\n",
"printf('\n\t The DC Current Gain in Common Base Configuration is Alpha= %f .',Alpha);"
   ]
   }
,
{
		   "cell_type": "markdown",
		   "metadata": {},
		   "source": [
			"## Example 5.6: Determination_of_Dynamic_Output_Resistance_and_AC_and_DC_Current_Gains.sce"
		   ]
		  },
  {
"cell_type": "code",
	   "execution_count": null,
	   "metadata": {
	    "collapsed": true
	   },
	   "outputs": [],
"source": [
"//Example 5.6\n",
"//Refer Figure 5.20 in the Textbook\n",
"//Program to Determine the Dynamic Output Resistance, \n",
"//DC Current Gain & AC Current Gain from given output characteristics\n",
"clear;\n",
"clc ;\n",
"close ;\n",
"//Given Data \n",
"Vce=10; //V\n",
"Ib=30*10^(-6); //A\n",
"//Calculation from Given Output Characteristics at Ib = 30uA\n",
"dVce=(12.5-7.5); //V\n",
"dic=(3.7-3.5)*10^(-3); //A\n",
"Ic=3.6*10^(-3); //A\n",
"ro=dVce/dic; // Dynamic Output Resistance\n",
"Beeta_dc=Ic/Ib; // DC Current Gain\n",
"Beeta_ac=((4.7-3.6)*10^(-3))/((40-30)*10^(-6));//AC Current Gain, From Graph, Bac=delta(ic)/delta(ib) for given Vce\n",
"//Displaying The Results in Command Window\n",
"printf('\n\t Dynamic Output Resistance ,ro = %f kOhms',ro/10^(3));\n",
"printf('\n\t DC Current Gain ,Bdc = %f ',Beeta_dc);\n",
"printf('\n\t AC Current Gain ,Bac = %f ',Beeta_ac);"
   ]
   }
,
{
		   "cell_type": "markdown",
		   "metadata": {},
		   "source": [
			"## Example 5.7: Q_Point_Determination.sce"
		   ]
		  },
  {
"cell_type": "code",
	   "execution_count": null,
	   "metadata": {
	    "collapsed": true
	   },
	   "outputs": [],
"source": [
"//Example 5.7\n",
"//Refer Figure 5.27 in the Textbook\n",
"//Program to Determine the Q point from given collector characteristics\n",
"clear;\n",
"clc ;\n",
"close ;\n",
"//Given Data \n",
"Vcc=12; //V\n",
"Rc=1*10^(3); //Ohms\n",
"Vbb=10.7; //V\n",
"Rb=200*10^(3); //Ohms\n",
"Vbe=0.7; //V\n",
"//Calculation\n",
"Ib=(Vbb-Vbe)/Rb;\n",
"//Value of Ib comes out to be 50uA. A dotted Curve is drawn for \n",
"//Ib=40uA and Ib=60uA. At the Point of Intersection:\n",
"Vce=6; //V\n",
"Ic=6*10^(-3); //A\n",
"//Displaying The Results in Command Window\n",
"printf('\n\t Q point: \n\n\t Ib = %f uA',Ib/10^(-6));\n",
"printf('\n\t Vce = %f V',Vce); \n",
"printf('\n\t Ic = %f mA',Ic/10^(-3));"
   ]
   }
,
{
		   "cell_type": "markdown",
		   "metadata": {},
		   "source": [
			"## Example 5.8: Calculation_of_Dynamic_Drain_Resistance_of_JFET.sce"
		   ]
		  },
  {
"cell_type": "code",
	   "execution_count": null,
	   "metadata": {
	    "collapsed": true
	   },
	   "outputs": [],
"source": [
"//Example 5.8\n",
"//Program to Calculate Dynamic Drain Resistance of JFET\n",
"clear;\n",
"clc ;\n",
"close ;\n",
"//Given Data \n",
"u=80; // Amplification Factor\n",
"gm=200*10^(-6); // S, Transconductance\n",
"//Calculation\n",
"rd=u/gm; //Dynamic Drain Resistance\n",
"//Displaying The Results in Command Window\n",
"printf('\n\t The Dynamic Drain Resistance of JFET is rd= %f kOhms.',rd/10^(3));"
   ]
   }
],
"metadata": {
		  "kernelspec": {
		   "display_name": "Scilab",
		   "language": "scilab",
		   "name": "scilab"
		  },
		  "language_info": {
		   "file_extension": ".sce",
		   "help_links": [
			{
			 "text": "MetaKernel Magics",
			 "url": "https://github.com/calysto/metakernel/blob/master/metakernel/magics/README.md"
			}
		   ],
		   "mimetype": "text/x-octave",
		   "name": "scilab",
		   "version": "0.7.1"
		  }
		 },
		 "nbformat": 4,
		 "nbformat_minor": 0
}
