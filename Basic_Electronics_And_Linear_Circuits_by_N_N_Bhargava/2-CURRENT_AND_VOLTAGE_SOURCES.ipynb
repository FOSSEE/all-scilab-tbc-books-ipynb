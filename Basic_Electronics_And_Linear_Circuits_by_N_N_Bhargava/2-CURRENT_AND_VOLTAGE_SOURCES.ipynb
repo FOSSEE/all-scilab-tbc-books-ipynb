{
"cells": [
 {
		   "cell_type": "markdown",
	   "metadata": {},
	   "source": [
       "# Chapter 2: CURRENT AND VOLTAGE SOURCES"
	   ]
	},
{
		   "cell_type": "markdown",
		   "metadata": {},
		   "source": [
			"## Example 2.1: Equivalent_Current_Source_Representation.sce"
		   ]
		  },
  {
"cell_type": "code",
	   "execution_count": null,
	   "metadata": {
	    "collapsed": true
	   },
	   "outputs": [],
"source": [
"//Example 2.1\n",
"//Program to Obtain Equivalent Current Source Representaion from Given Voltage Source Representation\n",
"clear;\n",
"clc ;\n",
"close ;\n",
"//Voltage Source or Thevenin's Representaion (Series Voltage Source & Resistor)\n",
"Vs=2; //Volts\n",
"Rs=1; //Ohm\n",
"//Current Source or Norton's Representaion (Parallel Current Source & Resistor)\n",
"Is=Vs/Rs; //Amperes\n",
"//Displaying The Results in Command Window\n",
"printf('\n\n\t The Short Circuit Current Value is %f Amperes.',Is);\n",
"printf('\n\n\t The Source Impedence Value is %f Ohm.',Rs);\n",
"printf('\n\n\t The Current Source & Source Impedance are connected in Parallel.');"
   ]
   }
,
{
		   "cell_type": "markdown",
		   "metadata": {},
		   "source": [
			"## Example 2.2: Equivalent_Voltage_Source_Representation.sce"
		   ]
		  },
  {
"cell_type": "code",
	   "execution_count": null,
	   "metadata": {
	    "collapsed": true
	   },
	   "outputs": [],
"source": [
"//Example 2.2\n",
"//Program to Obtain Equivalent Voltage Source Representaion from Given Current Source Representation\n",
"clear;\n",
"clc ;\n",
"close ;\n",
"//Current Source or Norton's Representaion (Parallel Current Source & Resistor)\n",
"Is=0.2; //Amperes\n",
"Zs=100; //Ohms\n",
"//Voltage Source or Thevenin's Representaion (Series Voltage Source & Resistor)\n",
"Vs=Is*Zs; //Volts\n",
"//Displaying The Results in Command Window\n",
"printf('\n\n\t The Open Circuit Voltage is %f Volts.',Vs);\n",
"printf('\n\n\t The Source Impedence Value is %f Ohms.',Zs);\n",
"printf('\n\n\t The Voltage Source & Source Impedance are connected in Series.');"
   ]
   }
,
{
		   "cell_type": "markdown",
		   "metadata": {},
		   "source": [
			"## Example 2.3: Current_Determination_using_Voltage_Source_and_Current_Source_Representations.sce"
		   ]
		  },
  {
"cell_type": "code",
	   "execution_count": null,
	   "metadata": {
	    "collapsed": true
	   },
	   "outputs": [],
"source": [
"//Example 2.3\n",
"//Program to Calculate Current in a Branch by Using Current Source Representation \n",
"//Verify the Circuit's Result for its equivalence with Voltage Source Representation\n",
"clear;\n",
"clc ;\n",
"close ;\n",
"//Given Circuit Data\n",
"Is=1.5*10^(-3);//Amperes\n",
"Zs=2*10^3;//Ohms\n",
"Z1=10*10^3;//Ohms\n",
"Z2=40*10^3;//Ohms\n",
"//Calculation for Current Source Representation\n",
"Zl=Z1*Z2/(Z1+Z2);\n",
"I2=Is*Zs/(Zs+Zl);\n",
"I4I=I2*Z1/(Z1+Z2);//Using Current Divider Rule\n",
"//Calculation for Current Source Representation\n",
"Vs=Is*Zs;//Open Circuit Volatge\n",
"I=Vs/(Zs+Zl);\n",
"I4V=I*Z1/(Z1+Z2);//Using Current Divider Rule\n",
"//Displaying The Results in Command Window\n",
"printf('\n\n\t The Load Current using Current Source Representaion is I4I = %f Amperes.',I4I);\n",
"printf('\n\n\t The Load Current using Voltage Source Representaion is I4V = %f Amperes.',I4V);\n",
"if I4I==I4V then\n",
"printf('\n\n\t Both Results are Equivalent.');\n",
"else\n",
"printf('\n\n\t Both Results are Not Equivalent.');\n",
"end;"
   ]
   }
,
{
		   "cell_type": "markdown",
		   "metadata": {},
		   "source": [
			"## Example 2.4: Output_Voltage_Determination.sce"
		   ]
		  },
  {
"cell_type": "code",
	   "execution_count": null,
	   "metadata": {
	    "collapsed": true
	   },
	   "outputs": [],
"source": [
"//Example 2.4\n",
"//Program to Obtain Output Voltage Vo from Given A.C. Equivalent of an Amplifier using a Transistor\n",
"clear;\n",
"clc ;\n",
"close ;\n",
"//Given Circuit Data\n",
"//Input Side\n",
"Vs=10*10^(-3);//i.e. 10 mV\n",
"Rs=1*10^3;//i.e. 1 kOhms\n",
"//Output Side\n",
"Ro1=20*10^3;//i.e. 20 kOhms\n",
"Ro2=2*10^3;//i.e. 2 kOhms\n",
"//Calculation\n",
"i=Vs/Rs;//Input Current\n",
"Io=100*i;//Output Current\n",
"Il=Io*Ro1/(Ro1+Ro2);//Using Current Divider Rule\n",
"Vo=Il*Ro2;//Output Volatge\n",
"//Displaying The Results in Command Window\n",
"printf('\n\t The Output Voltage Vo = %f Volts.',Vo);"
   ]
   }
],
"metadata": {
		  "kernelspec": {
		   "display_name": "Scilab",
		   "language": "scilab",
		   "name": "scilab"
		  },
		  "language_info": {
		   "file_extension": ".sce",
		   "help_links": [
			{
			 "text": "MetaKernel Magics",
			 "url": "https://github.com/calysto/metakernel/blob/master/metakernel/magics/README.md"
			}
		   ],
		   "mimetype": "text/x-octave",
		   "name": "scilab",
		   "version": "0.7.1"
		  }
		 },
		 "nbformat": 4,
		 "nbformat_minor": 0
}
