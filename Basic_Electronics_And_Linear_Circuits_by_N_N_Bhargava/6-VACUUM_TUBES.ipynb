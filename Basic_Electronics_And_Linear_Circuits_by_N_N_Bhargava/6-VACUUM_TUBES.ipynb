{
"cells": [
 {
		   "cell_type": "markdown",
	   "metadata": {},
	   "source": [
       "# Chapter 6: VACUUM TUBES"
	   ]
	},
{
		   "cell_type": "markdown",
		   "metadata": {},
		   "source": [
			"## Example 6.1: Dynamic_Plate_Resistance_of_the_Diode_Determination.sce"
		   ]
		  },
  {
"cell_type": "code",
	   "execution_count": null,
	   "metadata": {
	    "collapsed": true
	   },
	   "outputs": [],
"source": [
"//Example 6.1\n",
"//Program to Plot the Characteristics and \n",
"//Determine Dynamic Plate Resistance\n",
"clear;\n",
"clc ;\n",
"close ;\n",
"//Given Circuit Data\n",
"V=[0 0.5 1 1.5 2]; //V\n",
"I=[0 1.6 4 6.7 9.8]; //mA\n",
"//Plotting\n",
"plot(V,I);\n",
"a= gca ();\n",
"xlabel ('Plate Voltage (in V)');\n",
"ylabel ('Plate Current (in mA)');\n",
"title ('STATIC CHARACTERISTIC CURVE OF THE DIODE');\n",
"//Calculation\n",
"//Values from Characteristic Plot\n",
"dVp=0.5; //V\n",
"dIp=2.7*10^(-3); //A\n",
"rp=dVp/dIp; //Dynamic Plate Resistance\n",
"//Displaying The Results in Command Window\n",
"printf('\n\t The Dynamic Plate Resistance is rp= %f Ohms .',rp);"
   ]
   }
,
{
		   "cell_type": "markdown",
		   "metadata": {},
		   "source": [
			"## Example 6.2: Plotting_of_Static_Plate_Characteristics.sce"
		   ]
		  },
  {
"cell_type": "code",
	   "execution_count": null,
	   "metadata": {
	    "collapsed": true
	   },
	   "outputs": [],
"source": [
"//Example 6.2\n",
"//Program to Plot the Static Plate Characteristics and Determine //Plate AC Resistance, Mutual Conductance & Amplification Factor\n",
"clear;\n",
"clc ;\n",
"close ;\n",
"//Given Circuit Data\n",
"//All Values Extrapolated to Touch x-axis\n",
"V0=[20 50 100 150]; //V\n",
"V1=[70 100 150 200]; //V\n",
"V2=[112 150 200]; //V\n",
"V3=[177 200 250]; //V\n",
"V4=[235 250 300]; //V\n",
"I0=[0 3.5 11.2 20]; //mA\n",
"I1=[0 4 12.4 21.5]; //mA\n",
"I2=[0 5.4 14.1]; //mA\n",
"I3=[0 3.4 12.4]; //mA\n",
"I4=[0 2.5 11.3]; //mA\n",
"//Plotting\n",
"plot(V0,I0);\n",
"plot(V1,I1);\n",
"plot(V2,I2);\n",
"plot(V3,I3);\n",
"plot(V4,I4);\n",
"a= gca ();\n",
"xlabel ('Plate Voltage (in V)');\n",
"ylabel ('Plate Current (in mA)');\n",
"title ('STATIC PLATE CHARACTERISTIC CURVE OF THE TRIODE');\n",
"//Calculation\n",
"//Values from Characteristic Plot\n",
"dip=(14.0-10.7)*10^(-3);//A\n",
"dvp=20;//V\n",
"rp=dvp/dip;\n",
"diP=(12.4-5.3)*10^(-3);//A\n",
"dvG=1;//V\n",
"gm=diP/dvG;\n",
"u=gm*rp;\n",
"ut=(192-150)/1;\n",
"//Displaying The Results in Command Window\n",
"printf('\n\t The Plate AC Resistance is rp= %f kOhms .',rp/10^(3));\n",
"printf('\n\t The Mutual Conductance is gm= %f mS .',gm/10^(-3));\n",
"printf('\n\t The Graphical Amplification Factor is u= %f .',u);\n",
"printf('\n\t The Theoretical Amplification Factor is ut= %f .',ut);"
   ]
   }
],
"metadata": {
		  "kernelspec": {
		   "display_name": "Scilab",
		   "language": "scilab",
		   "name": "scilab"
		  },
		  "language_info": {
		   "file_extension": ".sce",
		   "help_links": [
			{
			 "text": "MetaKernel Magics",
			 "url": "https://github.com/calysto/metakernel/blob/master/metakernel/magics/README.md"
			}
		   ],
		   "mimetype": "text/x-octave",
		   "name": "scilab",
		   "version": "0.7.1"
		  }
		 },
		 "nbformat": 4,
		 "nbformat_minor": 0
}
