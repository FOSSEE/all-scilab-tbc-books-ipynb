{
"cells": [
 {
		   "cell_type": "markdown",
	   "metadata": {},
	   "source": [
       "# Chapter 14: ELECTRONIC INSTRUMENTS"
	   ]
	},
{
		   "cell_type": "markdown",
		   "metadata": {},
		   "source": [
			"## Example 14.1: Caculation_of_Series_Resistance_for_coversion_to_Voltmeter.sce"
		   ]
		  },
  {
"cell_type": "code",
	   "execution_count": null,
	   "metadata": {
	    "collapsed": true
	   },
	   "outputs": [],
"source": [
"//Example 14.1\n",
"//Program to Determine the Series Resistance to Convert given \n",
"//d' Arsonval movement into a Voltmeter with the specified Range\n",
"clear;\n",
"clc ;\n",
"close ;\n",
"//Given Circuit Data\n",
"Rm=100; //Ohms\n",
"Is=100*10^(-6); //A\n",
"Vr=100; //V\n",
"//Calculation\n",
"Rtotal=Vr/Is;\n",
"Rs=Rtotal-Rm;\n",
"//Displaying The Results in Command Window\n",
"printf('\n\t The Series Resistance to Convert given dArsonval movement into a Voltmeter is, Rs = %f kOhms .',Rs/10^3);"
   ]
   }
,
{
		   "cell_type": "markdown",
		   "metadata": {},
		   "source": [
			"## Example 14.2: Calculation_of_Shunt_Resistance.sce"
		   ]
		  },
  {
"cell_type": "code",
	   "execution_count": null,
	   "metadata": {
	    "collapsed": true
	   },
	   "outputs": [],
"source": [
"//Example 14.2\n",
"//Program to Determine the Shunt Resistance required \n",
"clear;\n",
"clc ;\n",
"close ;\n",
"//Given Circuit Data\n",
"Rm=100; //Ohms\n",
"CS=100*10^(-6); //A\n",
"Imax=10*10^(-3); //A\n",
"//Calculation\n",
"Ish=Imax-CS;\n",
"Rsh=Rm*CS/Ish;\n",
"//Displaying The Results in Command Window\n",
"printf('\n\t The Value of Shunt Resistance is, Rsh = %f Ohms .',Rsh);"
   ]
   }
,
{
		   "cell_type": "markdown",
		   "metadata": {},
		   "source": [
			"## Example 14.3: Designing_of_a_Universal_Shunt_for_making_a_Multi_Range_Milliammeter.sce"
		   ]
		  },
  {
"cell_type": "code",
	   "execution_count": null,
	   "metadata": {
	    "collapsed": true
	   },
	   "outputs": [],
"source": [
"//Example 14.3\n",
"//Program to Design the Universal Shunt for making Multi-Range //Milliammeter with Range 0-1 mA,0-100 mA,0-500 mA,0-1 A\n",
"clear;\n",
"clc ;\n",
"close ;\n",
"//Given Circuit Data\n",
"CS=100*10^(-6); //A\n",
"R=100; //Ohms\n",
"Rm=900; //Ohms\n",
"//(a)Calculation\n",
"Imax1=1*10^(-3); //A\n",
"Rsh=CS*R/(Imax1-CS);\n",
"Rm1=Rm;\n",
"Ish1=Imax1-CS;\n",
"Rsh1=Rm1*CS/Ish1;\n",
"//(b)Calculation\n",
"Imax2=10*10^(-3); //A\n",
"Ish2=Imax2-CS;\n",
"R1=(R*Ish2-Rm*CS)/(Ish2-CS);\n",
"//(c)Calculation\n",
"Imax3=100*10^(-3); //A\n",
"Ish3=Imax3-CS;\n",
"R2=((R-R1)*Ish3-Rm*CS)/(Ish3-CS);\n",
"//(d)Calculation\n",
"Imax4=500*10^(-3); //A\n",
"Ish4=Imax4-CS;\n",
"R3=((R-R1-R2)*Ish4-Rm*CS)/(Ish4-CS);\n",
"//(e)Calculation\n",
"Imax5=1; //A\n",
"Ish5=Imax5-CS;\n",
"R4=((R-R1-R2-R3)*Ish5-Rm*CS)/(Ish5-CS);\n",
"R5=R-R1-R2-R3-R4;\n",
"//Displaying The Results in Command Window\n",
"printf('\n\t Shunt Resistance          , Rsh = %f Ohms .',Rsh);\n",
"printf('\n\t For Range switch at 1 mA  , Rsh1 = %f Ohms .',Rsh1);\n",
"printf('\n\t For Range switch at 10 mA , R1 = %f Ohms .',R1);\n",
"printf('\n\t For Range switch at 100 mA, R2 = %f Ohms .',R2);\n",
"printf('\n\t For Range switch at 500 mA, R3 = %f Ohms .',R3);\n",
"printf('\n\t For Range switch at 1 A   , R4 = %f Ohms .',R4);\n",
"printf('\n\t\t\t           R5 = %f Ohms .',R5);"
   ]
   }
,
{
		   "cell_type": "markdown",
		   "metadata": {},
		   "source": [
			"## Example 14.4: Determination_of_Peak_and_RMS_AC_Voltage.sce"
		   ]
		  },
  {
"cell_type": "code",
	   "execution_count": null,
	   "metadata": {
	    "collapsed": true
	   },
	   "outputs": [],
"source": [
"//Example 14.4\n",
"//Program to Determine the AC Voltage \n",
"clear;\n",
"clc ;\n",
"close ;\n",
"//Given Circuit Data\n",
"DS=5; //V/cm, Deflection Sensitivity\n",
"l=10; //cm, Trace Length\n",
"//Calculation\n",
"Vp=DS*l;\n",
"Vm=Vp/2;\n",
"V=Vm/sqrt(2);\n",
"//Displaying The Results in Command Window\n",
"printf('\n\t The Peak AC Voltage, Vm = %f V .',Vm);\n",
"printf('\n\t The RMS AC Voltage, V = %f V .',V);"
   ]
   }
,
{
		   "cell_type": "markdown",
		   "metadata": {},
		   "source": [
			"## Example 14.5: Determination_of_Magnitude_and_Frequency_of_Voltage_Fed_to_Y_Input.sce"
		   ]
		  },
  {
"cell_type": "code",
	   "execution_count": null,
	   "metadata": {
	    "collapsed": true
	   },
	   "outputs": [],
"source": [
"//Example 14.5\n",
"//Program to Determine the Magnitude and the Frequency of the \n",
"//wave Voltage fed to the Y-input\n",
"clear;\n",
"clc ;\n",
"close ;\n",
"//Given Circuit Data\n",
"Am=3.5; //V, Amplitude\n",
"tb=0.1*10^(-3); //seconds\n",
"TP=4; //Time Period\n",
"//Calculation\n",
"Vm=2*Am;\n",
"V=Vm/sqrt(2);\n",
"T=TP*tb;\n",
"f=1/T;\n",
"//Displaying The Results in Command Window\n",
"printf('\n\t The Magnitude of Wave Voltage, V = %f V .',V);\n",
"printf('\n\t The Frequency of Wave Voltage, f = %f kHz .',f/10^3);\n",
"//Plot of the given Wave\n",
"figure\n",
"x=-6:0.01:6;\n",
"y=Am*cos(1.6*x); //Given Waveform\n",
"plot (x,y);\n",
"a= gca ();\n",
"a.x_location='origin';\n",
"a.y_location='origin';\n",
"xlabel ('X Axis');\n",
"ylabel ('Y Axis');\n",
"title ('CRO OUTPUT');\n",
"xgrid (6);"
   ]
   }
],
"metadata": {
		  "kernelspec": {
		   "display_name": "Scilab",
		   "language": "scilab",
		   "name": "scilab"
		  },
		  "language_info": {
		   "file_extension": ".sce",
		   "help_links": [
			{
			 "text": "MetaKernel Magics",
			 "url": "https://github.com/calysto/metakernel/blob/master/metakernel/magics/README.md"
			}
		   ],
		   "mimetype": "text/x-octave",
		   "name": "scilab",
		   "version": "0.7.1"
		  }
		 },
		 "nbformat": 4,
		 "nbformat_minor": 0
}
