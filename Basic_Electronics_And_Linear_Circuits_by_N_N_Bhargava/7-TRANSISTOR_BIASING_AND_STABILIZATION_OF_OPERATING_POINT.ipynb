{
"cells": [
 {
		   "cell_type": "markdown",
	   "metadata": {},
	   "source": [
       "# Chapter 7: TRANSISTOR BIASING AND STABILIZATION OF OPERATING POINT"
	   ]
	},
{
		   "cell_type": "markdown",
		   "metadata": {},
		   "source": [
			"## Example 7.10: Calculate_the_value_of_Rb.sce"
		   ]
		  },
  {
"cell_type": "code",
	   "execution_count": null,
	   "metadata": {
	    "collapsed": true
	   },
	   "outputs": [],
"source": [
"//Example 7.10\n",
"//Program to Calculate Rb in the Biasing Circuit\n",
"clear;\n",
"clc ;\n",
"close ;\n",
"//Given Circuit Data\n",
"Vcc=9; //V\n",
"Vce=3; //V\n",
"Re=500; //Ohms\n",
"Ic=8*10^(-3); //A\n",
"Beeta=80;\n",
"//Calculation\n",
"Ib=Ic/Beeta;\n",
"Rb=(Vcc-(Beeta+1)*Ib*Re)/Ib;\n",
"//Displaying The Results in Command Window\n",
"printf('The Base Resistance is :');\n",
"printf('\n\t Rb = %f kOhms .',Rb/10^3);"
   ]
   }
,
{
		   "cell_type": "markdown",
		   "metadata": {},
		   "source": [
			"## Example 7.11: Calculate_DC_bias_Voltages_and_Currents.sce"
		   ]
		  },
  {
"cell_type": "code",
	   "execution_count": null,
	   "metadata": {
	    "collapsed": true
	   },
	   "outputs": [],
"source": [
"//Example 7.11\n",
"//Program to Calculate DC Bias Voltages and Currents \n",
"clear;\n",
"clc ;\n",
"close ;\n",
"//Given Circuit Data\n",
"Vcc=12; //V\n",
"Vbe=0.3; //V\n",
"R1=40*10^3; //Ohms\n",
"R2=5*10^3; //Ohms\n",
"Re=1*10^3; //Ohms\n",
"Rc=5*10^3; //Ohms\n",
"Beeta=60;\n",
"//Calculation\n",
"Vb=(R2/(R1+R2))*Vcc;\n",
"Ve=Vb-Vbe;\n",
"Ie=Ve/Re;\n",
"Ic=Ie;\n",
"Vc=Vcc-Ic*Rc;\n",
"Vce=Vc-Ve;\n",
"//Displaying The Results in Command Window\n",
"printf('The Different Parameters are :');\n",
"printf('\n\t Vb = %f V .',Vb);\n",
"printf('\n\t Ve = %f V .',Ve);\n",
"printf('\n\t Ie = %f mA .',Ie/10^(-3));\n",
"printf('\n\t Ic = %f mA .',Ic/10^(-3));\n",
"printf('\n\t Vc = %f V .',Vc);\n",
"printf('\n\t Vce = %f V .',Vce);"
   ]
   }
,
{
		   "cell_type": "markdown",
		   "metadata": {},
		   "source": [
			"## Example 7.12: Calculate_Re_and_Vce_in_the_Circuit.sce"
		   ]
		  },
  {
"cell_type": "code",
	   "execution_count": null,
	   "metadata": {
	    "collapsed": true
	   },
	   "outputs": [],
"source": [
"//Example 7.12\n",
"//Program to Calculate Re and Vce of the given Circuit Specifications\n",
"clear;\n",
"clc ;\n",
"close ;\n",
"//Given Circuit Data\n",
"Vcc=15; //V\n",
"R1=200; //Ohms\n",
"R2=100; //Ohms\n",
"Rc=20; //Ohms\n",
"Ic=100*10^(-3); //A\n",
"//Calculation\n",
"Ie=Ic;\n",
"Vb=(R2/(R1+R2))*Vcc;\n",
"Ve=Vb;// Neglecting Vbe\n",
"Re=Ve/Ie;\n",
"Vce=Vcc-(Rc+Re)*Ic;\n",
"//Displaying The Results in Command Window\n",
"printf('\n\t The Emitter Resistance is Re = %f Ohms .',Re);\n",
"printf('\n\t The Collector to Emitter Voltage is Vce = %f V.',Vce);"
   ]
   }
,
{
		   "cell_type": "markdown",
		   "metadata": {},
		   "source": [
			"## Example 7.13: Calculate_Ic_and_Vce_for_given_Circuit.sce"
		   ]
		  },
  {
"cell_type": "code",
	   "execution_count": null,
	   "metadata": {
	    "collapsed": true
	   },
	   "outputs": [],
"source": [
"//Example 7.13\n",
"///Program to Calculate Ic and Vce of the given Circuit Specifications\n",
"clear;\n",
"clc ;\n",
"close ;\n",
"//Given Circuit Data\n",
"Vcc=12; //V\n",
"Vbe=0.3; //V\n",
"R1=40*10^3; //Ohms\n",
"R2=5*10^3; //Ohms\n",
"Re=1*10^3; //Ohms\n",
"Rc=5*10^3; //Ohms\n",
"Beeta=60;\n",
"//Calculation\n",
"Vth=(R2/(R1+R2))*Vcc;\n",
"Rth=R1*R2/(R1+R2);\n",
"Ib=(Vth-Vbe)/(Rth+Beeta*Re);\n",
"Ic=Beeta*Ib;\n",
"Vce=Vcc-Ic*(Rc+Re);\n",
"//Displaying The Results in Command Window\n",
"printf('The Different Parameters are :');\n",
"printf('\n\t Ic = %f mA .',Ic/10^(-3));\n",
"printf('\n\t Vce = %f V .',Vce);"
   ]
   }
,
{
		   "cell_type": "markdown",
		   "metadata": {},
		   "source": [
			"## Example 7.14: Calculate_Ic_and_Vce_for_given_Circuit.sce"
		   ]
		  },
  {
"cell_type": "code",
	   "execution_count": null,
	   "metadata": {
	    "collapsed": true
	   },
	   "outputs": [],
"source": [
"//Example 7.14\n",
"//Program to Calculate \n",
"//(a)Ic\n",
"//(b)Vce\n",
"clear;\n",
"clc ;\n",
"close ;\n",
"//Given Circuit Data\n",
"Vcc=12; //V\n",
"Vee=15; //V\n",
"Rc=5*10^3; //Ohms\n",
"Re=10*10^3; //Ohms\n",
"Rb=10*10^3; //Ohms\n",
"Beeta=100;\n",
"//Calculation\n",
"Ie=Vee/Re;\n",
"Ic=Ie;\n",
"Vce=Vcc-Ic*Rc;\n",
"//Displaying The Results in Command Window\n",
"printf('The Parameters are :');\n",
"printf('\n\t Ic = %f mA .',Ic/10^(-3));\n",
"printf('\n\t Vce = %f V .',Vce);"
   ]
   }
,
{
		   "cell_type": "markdown",
		   "metadata": {},
		   "source": [
			"## Example 7.1: Calculate_Ic_and_Vce_for_given_Circuit.sce"
		   ]
		  },
  {
"cell_type": "code",
	   "execution_count": null,
	   "metadata": {
	    "collapsed": true
	   },
	   "outputs": [],
"source": [
"//Example 7.1\n",
"//Program to Calculate\n",
"//(a)Collector Current\n",
"//(b)Collector-to-Emitter Voltage\n",
"clear;\n",
"clc ;\n",
"close ;\n",
"//Given Circuit Data\n",
"Vcc=9; //V\n",
"Rb=300*10^3; //Ohms\n",
"Rc=2*10^3; //Ohms\n",
"Beeta=50;\n",
"//Calculation\n",
"Ib=(Vcc)/Rb;\n",
"Ic=Beeta*Ib;\n",
"Icsat=Vcc/Rc;\n",
"Vce=Vcc-Ic*Rc;\n",
"//Displaying The Results in Command Window\n",
"printf('The different Parameters are \n\t Ib = %f uA .',Ib/10^(-6));\n",
"if Ic < Icsat then \n",
"  disp('Transistor is not in Saturation');\n",
"  printf('\n\t Ic = %f mA .',Ic/10^(-3));\n",
"  printf('\n\t Vce = %f V .',Vce);\n",
"else   \n",
"  disp('Transistor is in Saturation');\n",
"   printf('\n\t Ic = %f mA .',Icsat/10^(-3));\n",
"   printf('\n\t Vce = %f V .',0);\n",
"end"
   ]
   }
,
{
		   "cell_type": "markdown",
		   "metadata": {},
		   "source": [
			"## Example 7.2: Calculate_coordinates_of_Operating_Point.sce"
		   ]
		  },
  {
"cell_type": "code",
	   "execution_count": null,
	   "metadata": {
	    "collapsed": true
	   },
	   "outputs": [],
"source": [
"//Example 7.2\n",
"//Program to Calculate Operating Point Coordinates of the Circuit\n",
"clear;\n",
"clc ;\n",
"close ;\n",
"//Given Circuit Data\n",
"Vcc=10; //V\n",
"Rb=100*10^3; //Ohms\n",
"Rc=1*10^3; //Ohms\n",
"Beeta=60;\n",
"//Calculation\n",
"Ib=(Vcc)/Rb;\n",
"Ic=Beeta*Ib;\n",
"Icsat=Vcc/Rc;\n",
"Vce=Vcc-Ic*Rc;\n",
"//Displaying The Results in Command Window\n",
"printf('The Operating Point Coordinates of the Circuit are :\n\t Ib = %f uA .',Ib/10^(-6));\n",
"if Ic < Icsat then \n",
"  disp('Transistor is not in Saturation');\n",
"  printf('\n\t Ic = %f mA .',Ic/10^(-3));\n",
"  printf('\n\t Vce = %f V .',Vce);\n",
"else   \n",
"  disp('Transistor is in Saturation');\n",
"   printf('\n\t Ic = %f mA .',Icsat/10^(-3));\n",
"   printf('\n\t Vce = %f V .',0);\n",
"end"
   ]
   }
,
{
		   "cell_type": "markdown",
		   "metadata": {},
		   "source": [
			"## Example 7.3: Quiescent_Operating_Point_Determination.sce"
		   ]
		  },
  {
"cell_type": "code",
	   "execution_count": null,
	   "metadata": {
	    "collapsed": true
	   },
	   "outputs": [],
"source": [
"//Example 7.3\n",
"//Program to Calculate Operating Point Coordinates of the Circuit\n",
"clear;\n",
"clc ;\n",
"close ;\n",
"//Given Circuit Data\n",
"Vcc=10; //V\n",
"Rb=100*10^3; //Ohms\n",
"Rc=1*10^3; //Ohms\n",
"Beeta=150;\n",
"//Calculation\n",
"Ib=(Vcc)/Rb;\n",
"Ic=Beeta*Ib;\n",
"Icsat=Vcc/Rc;\n",
"Vce=Vcc-Ic*Rc;\n",
"//Displaying The Results in Command Window\n",
"printf('The Operating Point Coordinates of the Circuit are :\n\t Ib = %f uA .',Ib/10^(-6));\n",
"if Ic < Icsat then \n",
"  disp('Transistor is not in Saturation');\n",
"  printf('\n\t Ic = %f mA .',Ic/10^(-3));\n",
"  printf('\n\t Vce = %f V .',Vce);\n",
"else   \n",
"  disp('Transistor is in Saturation');\n",
"   printf('\n\t Ic = %f mA .',Icsat/10^(-3));\n",
"   printf('\n\t Vce = %f V .',0);\n",
"end"
   ]
   }
,
{
		   "cell_type": "markdown",
		   "metadata": {},
		   "source": [
			"## Example 7.4_a: Calculate_value_of_Resistance_Rb.sce"
		   ]
		  },
  {
"cell_type": "code",
	   "execution_count": null,
	   "metadata": {
	    "collapsed": true
	   },
	   "outputs": [],
"source": [
"//Example 7.4 (a)\n",
"//Program to Calculate Value of Rb in the Biasing Circuit\n",
"clear;\n",
"clc ;\n",
"close ;\n",
"//Given Circuit Data\n",
"Vcc=6; //V\n",
"Vbe=0.3; //V\n",
"Icbo=2*10^(-6); //A\n",
"Ic=1*10^(-3); //A\n",
"Beeta=20;\n",
"//Calculation\n",
"//Case 1: Considering Icbo and Vbe in the calculations\n",
"Ib=(Ic-(Beeta+1)*Icbo)/Beeta;\n",
"Rb1=(Vcc-Vbe)/Ib;\n",
"//Case 2: Neglecting Icbo and Vbe in the calculations\n",
"Ib=Ic/Beeta;\n",
"Rb2=Vcc/Ib;\n",
"//Percentage Error\n",
"E=(Rb2-Rb1)/Rb1*100;\n",
"//Displaying The Results in Command Window\n",
"printf('\n\t The Base Resistance is, Rb = %f kOhms .',Rb1/10^3);\n",
"printf('\n\t The Base Resistance (Neglecting Icbo and Vbe) is, Rb = %f kOhms .',Rb2/10^3);\n",
"printf('\n\t Percentage Error is = %f percent .',E);"
   ]
   }
,
{
		   "cell_type": "markdown",
		   "metadata": {},
		   "source": [
			"## Example 7.4_b: Calculation_of_Collector_Current_Ic.sce"
		   ]
		  },
  {
"cell_type": "code",
	   "execution_count": null,
	   "metadata": {
	    "collapsed": true
	   },
	   "outputs": [],
"source": [
"//Example 7.4 (b)\n",
"//Program to Calculate Rb in the Biasing Circuit\n",
"clear;\n",
"clc ;\n",
"close ;\n",
"//Given Circuit Data\n",
"Icbo=10*10^(-6); //A\n",
"Ib=47.9*10^(-6); //A\n",
"Beeta=25;\n",
"//Calculation\n",
"Ic=Beeta*Ib+(Beeta+1)*Icbo;\n",
"//Displaying The Results in Command Window\n",
"printf('The Collector Current is :');\n",
"printf('\n\t Ic = %f mA .',Ic/10^(-3));"
   ]
   }
,
{
		   "cell_type": "markdown",
		   "metadata": {},
		   "source": [
			"## Example 7.5: Calculation_of_Ie_and_Vc_in_the_Circuit.sce"
		   ]
		  },
  {
"cell_type": "code",
	   "execution_count": null,
	   "metadata": {
	    "collapsed": true
	   },
	   "outputs": [],
"source": [
"//Example 7.5\n",
"//Program to Calculate\n",
"//(a)Ie\n",
"//(b)Vc\n",
"clear;\n",
"clc ;\n",
"close ;\n",
"//Given Circuit Data\n",
"Vcc=10; //V\n",
"Rc=500; //Ohms\n",
"Rb=500*10^3; //Ohms\n",
"Beeta=100;\n",
"//Calculation\n",
"Ib=Vcc/(Rb+Beeta*Rc);\n",
"Ic=Beeta*Ib;\n",
"Ie=Ic;\n",
"Vce=Vcc-Ic*Rc;\n",
"Vc=Vce;\n",
"//Displaying The Results in Command Window\n",
"printf('The Different Parameters are :');\n",
"printf('\n\t Ie = %f mA .',Ie/10^(-3));\n",
"printf('\n\t Vc = %f V .',Vc);"
   ]
   }
,
{
		   "cell_type": "markdown",
		   "metadata": {},
		   "source": [
			"## Example 7.6: Calculate_Minimum_and_Maximum_Collector_Currents.sce"
		   ]
		  },
  {
"cell_type": "code",
	   "execution_count": null,
	   "metadata": {
	    "collapsed": true
	   },
	   "outputs": [],
"source": [
"//Example 7.6\n",
"//Program to Calculate\n",
"//(a)Minimum Collector Current\n",
"//(b)Maximum Collector Current\n",
"clear;\n",
"clc ;\n",
"close ;\n",
"//Given Circuit Data\n",
"Vcc=20; //V\n",
"Rc=2*10^3; //Ohms\n",
"Rb=200*10^3; //Ohms\n",
"Beeta1=50;\n",
"Beeta2=200;\n",
"//Calculation CASE-1: Minimum Collector Current\n",
"Ibmin=Vcc/(Rb+Beeta1*Rc);\n",
"Icmin=Beeta1*Ibmin;\n",
"//Calculation CASE-2: Maximum Collector Current\n",
"Ibmax=Vcc/(Rb+Beeta2*Rc);\n",
"Icmax=Beeta2*Ibmax;\n",
"//Displaying The Results in Command Window\n",
"printf('\n\t The Minimum Collector Current Ic(min) = %f mA .',Icmin/10^(-3));\n",
"printf('\n\t The Maximum Collector Current Ic(max) = %f mA .',Icmax/10^(-3));"
   ]
   }
,
{
		   "cell_type": "markdown",
		   "metadata": {},
		   "source": [
			"## Example 7.7: Calculate_Values_of_the_three_Currents.sce"
		   ]
		  },
  {
"cell_type": "code",
	   "execution_count": null,
	   "metadata": {
	    "collapsed": true
	   },
	   "outputs": [],
"source": [
"//Example 7.7\n",
"//Program to Calculate\n",
"//(a)Ib\n",
"//(b)Ic\n",
"//(c)Ie\n",
"clear;\n",
"clc ;\n",
"close ;\n",
"//Given Circuit Data\n",
"Vcc=10; //V\n",
"Rc=2*10^3; //Ohms\n",
"Rb=1*10^6; //Ohms\n",
"Re=1*10^3; //Ohms\n",
"Beeta=100;\n",
"//Calculation\n",
"Ib=Vcc/(Rb+(Beeta+1)*Re);\n",
"Ic=Beeta*Ib;\n",
"Ie=Ic+Ib;\n",
"//Displaying The Results in Command Window\n",
"printf('\n\t The Collector Current Ic = %f mA .',Ic/10^(-3));\n",
"printf('\n\t The Base Current Ib = %f uA .',Ib/10^(-6));\n",
"printf('\n\t The Emitter Current Ie = %f mA .',Ie/10^(-3));"
   ]
   }
,
{
		   "cell_type": "markdown",
		   "metadata": {},
		   "source": [
			"## Example 7.8: Calculate_Minimum_and_Maximum_Ie_and_corresponding_Vce.sce"
		   ]
		  },
  {
"cell_type": "code",
	   "execution_count": null,
	   "metadata": {
	    "collapsed": true
	   },
	   "outputs": [],
"source": [
"//Example 7.8\n",
"//Program to Calculate\n",
"//(a)Minimum Emitter Current & corresponding Vce\n",
"//(b)Maximum Emitter Current & corresponding Vce\n",
"clear;\n",
"clc ;\n",
"close ;\n",
"//Given Circuit Data\n",
"Vcc=6; //V\n",
"Vbe=0.3; //V\n",
"Rc=50; //Ohms\n",
"Rb=10*10^3; //Ohms\n",
"Re=100; //Ohms\n",
"Beeta1=50;\n",
"Beeta2=200;\n",
"//Calculation CASE-1: Minimum Emitter Current & corresponding Vce\n",
"Iemin=(Vcc-Vbe)*(Beeta1+1)/(Rb+(Beeta1+1)*Re);\n",
"Vcemin=Vcc-(Rc+Re)*Iemin;\n",
"//Calculatioen CASE-2: Maximum Emitter Current & corresponding Vce\n",
"Iemax=(Vcc-Vbe)*(Beeta2+1)/(Rb+(Beeta2+1)*Re);\n",
"Vcemax=Vcc-(Rc+Re)*Iemax;\n",
"//Displaying The Results in Command Window\n",
"printf('\n\t The Minimum Emitter Current Ie(min) = %f mA .',Iemin/10^(-3));\n",
"printf('\n\t The Corresponding Vce = %f V .',Vcemin);\n",
"printf('\n\t The Maximum Emitter Current Ie(max) = %f mA .',Iemax/10^(-3));\n",
"printf('\n\t The Corresponding Vce = %f V .',Vcemax);"
   ]
   }
,
{
		   "cell_type": "markdown",
		   "metadata": {},
		   "source": [
			"## Example 7.9: Determine_the_new_Q_Points.sce"
		   ]
		  },
  {
"cell_type": "code",
	   "execution_count": null,
	   "metadata": {
	    "collapsed": true
	   },
	   "outputs": [],
"source": [
"//Example 7.9\n",
"//Program to Calculate new Q points for \n",
"//Minimum and Maximum value of Beeta\n",
"clear;\n",
"clc ;\n",
"close ;\n",
"//Given Circuit Data\n",
"Vcc=6; //V\n",
"Vbe=0.3; //V\n",
"Rc=1*10^3; //Ohms\n",
"Rb=10*10^3; //Ohms\n",
"Re=100; //Ohms\n",
"Beeta1=50;\n",
"Beeta2=200;\n",
"//Calculation CASE-1: Minimum Emitter Current & corresponding Vce\n",
"Iemin=(Vcc-Vbe)*(Beeta1+1)/(Rb+(Beeta1+1)*Re);\n",
"Icmin=Iemin;\n",
"Vcemin=Vcc-(Rc+Re)*Iemin;\n",
"//Calculatioen CASE-2: Maximum Emitter Current & corresponding Vce\n",
"Iemax=(Vcc-Vbe)*(Beeta2+1)/(Rb+(Beeta2+1)*Re);\n",
"Icmax=Iemax;\n",
"Vcemax=Vcc-(Rc+Re)*Iemax;\n",
"//Displaying The Results in Command Window\n",
"Icsat=Vcc/(Rc+Re);\n",
"//Displaying The Results in Command Window\n",
"printf('For Beeta=50 :\n\t');\n",
"if Icmin < Icsat then \n",
"  disp('Transistor is not in Saturation');\n",
"  printf('\n\t Ic = %f mA .',Icmin/10^(-3));\n",
"  printf('\n\t Vc = %f V .',Vce);\n",
"else   \n",
"  disp('Transistor is in Saturation');\n",
"   printf('\n\t Ic(sat) = %f mA .',Icsat/10^(-3));\n",
"   printf('\n\t Vc(sat) = %f V .',0);\n",
"end\n",
"printf('\nFor Beeta=200 :\n\t');\n",
"if Icmax < Icsat then \n",
"  disp('Transistor is not in Saturation');\n",
"  printf('\n\t Ic = %f mA .',Icmax/10^(-3));\n",
"  printf('\n\t Vc = %f V .',Vce);\n",
"else   \n",
"  disp('Transistor is in Saturation');\n",
"   printf('\n\t Ic(sat) = %f mA .',Icsat/10^(-3));\n",
"   printf('\n\t Vc(sat) = %f V .',0);\n",
"end"
   ]
   }
],
"metadata": {
		  "kernelspec": {
		   "display_name": "Scilab",
		   "language": "scilab",
		   "name": "scilab"
		  },
		  "language_info": {
		   "file_extension": ".sce",
		   "help_links": [
			{
			 "text": "MetaKernel Magics",
			 "url": "https://github.com/calysto/metakernel/blob/master/metakernel/magics/README.md"
			}
		   ],
		   "mimetype": "text/x-octave",
		   "name": "scilab",
		   "version": "0.7.1"
		  }
		 },
		 "nbformat": 4,
		 "nbformat_minor": 0
}
