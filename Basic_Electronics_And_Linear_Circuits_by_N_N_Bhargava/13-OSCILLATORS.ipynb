{
"cells": [
 {
		   "cell_type": "markdown",
	   "metadata": {},
	   "source": [
       "# Chapter 13: OSCILLATORS"
	   ]
	},
{
		   "cell_type": "markdown",
		   "metadata": {},
		   "source": [
			"## Example 13.1: Calculate_Frequency_of_Oscillation_of_Tuned_Collector_Oscillator.sce"
		   ]
		  },
  {
"cell_type": "code",
	   "execution_count": null,
	   "metadata": {
	    "collapsed": true
	   },
	   "outputs": [],
"source": [
"//Example 13.1\n",
"//Program to Calculate Frequency of Oscillation of \n",
"//Tuned Collector Oscillator\n",
"clear;\n",
"clc ;\n",
"close ;\n",
"//Given Circuit Data\n",
"L=58.6*10^(-6);// H\n",
"C=300*10^(-12);// F\n",
"//Calculation\n",
"fo=1/(2*%pi*sqrt(L*C));\n",
"//Displaying The Results in Command Window\n",
"printf('\n\t The Frequency of Oscillation of Tuned Collector Oscillator is fo = %f kHz .',fo/10^3);"
   ]
   }
,
{
		   "cell_type": "markdown",
		   "metadata": {},
		   "source": [
			"## Example 13.2: Calculate_Frequency_of_Oscillation_of_Phase_Shift_Oscillator.sce"
		   ]
		  },
  {
"cell_type": "code",
	   "execution_count": null,
	   "metadata": {
	    "collapsed": true
	   },
	   "outputs": [],
"source": [
"//Example 13.2\n",
"//Program to Calculate Frequency of Oscillation of \n",
"//Vacuum Tube Phase Shift Oscillator\n",
"clear;\n",
"clc ;\n",
"close ;\n",
"//Given Circuit Data\n",
"R=100*10^3;// Ohms\n",
"C=0.01*10^(-6);//F\n",
"//Calculation\n",
"fo=1/(2*%pi*R*C*sqrt(6));\n",
"//Displaying The Results in Command Window\n",
"printf('\n\t The Frequency of Oscillation of Vacuum Tube Phase Shift Oscillator is fo = %f Hz .',fo);"
   ]
   }
,
{
		   "cell_type": "markdown",
		   "metadata": {},
		   "source": [
			"## Example 13.3: Calculate_Frequency_of_Oscillation_of_Wein_Bridge_Oscillator.sce"
		   ]
		  },
  {
"cell_type": "code",
	   "execution_count": null,
	   "metadata": {
	    "collapsed": true
	   },
	   "outputs": [],
"source": [
"//Example 13.3\n",
"//Program to Calculate Frequency of Oscillation of \n",
"//Wein Bridge Oscillator\n",
"clear;\n",
"clc ;\n",
"close ;\n",
"//Given Circuit Data\n",
"R1=220*10^3;// Ohms\n",
"R2=220*10^3;// Ohms\n",
"C1=250*10^(-12);//F\n",
"C2=250*10^(-12);//F\n",
"//Calculation\n",
"fo=1/(2*%pi*sqrt(R1*C1*R2*C2));\n",
"//Displaying The Results in Command Window\n",
"printf('\n\t The Frequency of Oscillation of Wein Bridge Oscillator is fo = %f kHz .',fo/10^3);"
   ]
   }
],
"metadata": {
		  "kernelspec": {
		   "display_name": "Scilab",
		   "language": "scilab",
		   "name": "scilab"
		  },
		  "language_info": {
		   "file_extension": ".sce",
		   "help_links": [
			{
			 "text": "MetaKernel Magics",
			 "url": "https://github.com/calysto/metakernel/blob/master/metakernel/magics/README.md"
			}
		   ],
		   "mimetype": "text/x-octave",
		   "name": "scilab",
		   "version": "0.7.1"
		  }
		 },
		 "nbformat": 4,
		 "nbformat_minor": 0
}
