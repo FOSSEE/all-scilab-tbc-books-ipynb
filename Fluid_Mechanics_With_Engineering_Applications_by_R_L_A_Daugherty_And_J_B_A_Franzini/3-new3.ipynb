{
"cells": [
 {
		   "cell_type": "markdown",
	   "metadata": {},
	   "source": [
       "# Chapter 3: new3"
	   ]
	},
{
		   "cell_type": "markdown",
		   "metadata": {},
		   "source": [
			"## Example 3.1: Example_1.sce"
		   ]
		  },
  {
"cell_type": "code",
	   "execution_count": null,
	   "metadata": {
	    "collapsed": true
	   },
	   "outputs": [],
"source": [
"clc\n",
"//Initialization of variables\n",
"Q=0.5 //cfs\n",
"d1=8 //in\n",
"d2=4 //in\n",
"R=2 //in\n",
"h=0.59 //in\n",
"//calculations\n",
"Aa=%pi*(d1/12)^2 /4\n",
"Va=Q/Aa\n",
"Ab=2*%pi*R*h/144\n",
"Vb=Q/Ab\n",
"//results\n",
"printf('Average velocity at section A =%.2f fps ',Va)\n",
"printf('\n Average velocity at section B=%.2f fps ',Vb)"
   ]
   }
,
{
		   "cell_type": "markdown",
		   "metadata": {},
		   "source": [
			"## Example 3.2: Example_1.sce"
		   ]
		  },
  {
"cell_type": "code",
	   "execution_count": null,
	   "metadata": {
	    "collapsed": true
	   },
	   "outputs": [],
"source": [
"clc\n",
"//Initialization of variables\n",
"Q=0.5 //cfs\n",
"d1=8 //in\n",
"d2=4 //in\n",
"R=2 //in\n",
"theta=45//degrees\n",
"//calculations\n",
"h=(1-cosd(theta)) //Multiply by r\n",
"Aa=2*%pi*h //Multiply by r^2\n",
"V=Q/Aa //divide by r^2\n",
"aA=0\n",
"r=0.167 //ft\n",
"V1=V/r^2\n",
"dvbydx=V*2/r^3\n",
"aB=V1*dvbydx\n",
"//results\n",
"//The answer varies a bit from the text due to rounding off error\n",
"printf('Acceleration at A = %d since flow is steady',aA)\n",
"printf('\n Acceleration at B = %d ft/s^2',aB)"
   ]
   }
],
"metadata": {
		  "kernelspec": {
		   "display_name": "Scilab",
		   "language": "scilab",
		   "name": "scilab"
		  },
		  "language_info": {
		   "file_extension": ".sce",
		   "help_links": [
			{
			 "text": "MetaKernel Magics",
			 "url": "https://github.com/calysto/metakernel/blob/master/metakernel/magics/README.md"
			}
		   ],
		   "mimetype": "text/x-octave",
		   "name": "scilab",
		   "version": "0.7.1"
		  }
		 },
		 "nbformat": 4,
		 "nbformat_minor": 0
}
