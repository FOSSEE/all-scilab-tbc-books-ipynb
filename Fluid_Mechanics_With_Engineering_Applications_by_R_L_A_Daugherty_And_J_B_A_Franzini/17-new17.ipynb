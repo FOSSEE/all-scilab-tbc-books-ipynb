{
"cells": [
 {
		   "cell_type": "markdown",
	   "metadata": {},
	   "source": [
       "# Chapter 17: new17"
	   ]
	},
{
		   "cell_type": "markdown",
		   "metadata": {},
		   "source": [
			"## Example 17.1_b: Example_2.sce"
		   ]
		  },
  {
"cell_type": "code",
	   "execution_count": null,
	   "metadata": {
	    "collapsed": true
	   },
	   "outputs": [],
"source": [
"clc\n",
"//Initialization of variables\n",
"ne=600 \n",
"gpm=1600\n",
"Ns=500\n",
"Head=900 //ft\n",
"//calculations\n",
"h=(ne*sqrt(gpm) /Ns)^(4/3)\n",
"n=Head/h\n",
"//results\n",
"printf('No. of stages = %d',n+1)"
   ]
   }
,
{
		   "cell_type": "markdown",
		   "metadata": {},
		   "source": [
			"## Example 17.1: Example_1.sce"
		   ]
		  },
  {
"cell_type": "code",
	   "execution_count": null,
	   "metadata": {
	    "collapsed": true
	   },
	   "outputs": [],
"source": [
"clc\n",
"//Initialization of variables\n",
"Ns=500\n",
"h=900 //ft\n",
"Q=1600 //gpm\n",
"//calculations\n",
"ne=Ns*h^(3/4) /sqrt(Q)\n",
"//results\n",
"printf('Minimum rotative speed = %d rpm',ne)"
   ]
   }
,
{
		   "cell_type": "markdown",
		   "metadata": {},
		   "source": [
			"## Example 17.2: Example_3.sce"
		   ]
		  },
  {
"cell_type": "code",
	   "execution_count": null,
	   "metadata": {
	    "collapsed": true
	   },
	   "outputs": [],
"source": [
"clc\n",
"//Initialization of variables\n",
"ne=600 \n",
"gpm=2000\n",
"h=150\n",
"num=2\n",
"//calculations\n",
"ns=ne*sqrt(gpm) /h^(3/4)\n",
"gpm2=num*gpm\n",
"h2=num^2 *h\n",
"Ns=2*ne*sqrt(gpm2) /h2^(3/4)\n",
"Ne2=Ns*(h/2)^(3/4) /sqrt(gpm)\n",
"//results\n",
"printf('Specific speed in case1 = %d ',ns)\n",
"printf('\nFlow rate in case 2 = %d gpm',gpm2)\n",
"printf('\n Head in case 2 = %d ft',h2)\n",
"printf('\n Specific speed in case 2 = %d ',Ns)\n",
"printf('\n required operating speed in case 2 = %d rpm',Ne2)"
   ]
   }
,
{
		   "cell_type": "markdown",
		   "metadata": {},
		   "source": [
			"## Example 17.3: Example_4.sce"
		   ]
		  },
  {
"cell_type": "code",
	   "execution_count": null,
	   "metadata": {
	    "collapsed": true
	   },
	   "outputs": [],
"source": [
"clc\n",
"//Initialization of variables\n",
"ne=600/2 \n",
"gpm=1450\n",
"h=140\n",
"NPSH=10.4\n",
"//calculations\n",
"Ns=gpm*sqrt(ne) /h^(3/4)\n",
"sigmac=NPSH/h\n",
"zsmax=-3 //ft\n",
"//results\n",
"printf('Sigma C for the pump = %.4f',sigmac)\n",
"printf('\n Position of pump = %d ft',zsmax)"
   ]
   }
,
{
		   "cell_type": "markdown",
		   "metadata": {},
		   "source": [
			"## Example 17.4: Example_5.sce"
		   ]
		  },
  {
"cell_type": "code",
	   "execution_count": null,
	   "metadata": {
	    "collapsed": true
	   },
	   "outputs": [],
"source": [
"clc\n",
"//Initialization of variables\n",
"ne=600\n",
"gpm=84500\n",
"h=225\n",
"f=0.95\n",
"phie=1.1\n",
"g=32.2\n",
"//calculations\n",
"Ns=ne*sqrt(gpm) /h^(3/4)\n",
"u2=phie*sqrt(2*g*h)\n",
"D=153.2*phie*sqrt(h) /ne\n",
"D0=1.06*D*12 //in\n",
"B=0.155*D0*12 //in\n",
"De=0.6*D0\n",
"u0=1.06*u2\n",
"Vm2=0.15*u0\n",
"Area=0.95*%pi*D/144 *B\n",
"Q=Area*Vm2\n",
"//results\n",
"printf('Specific speed =%d ',Ns)\n",
"printf('\n Flow rate = %d cfs',Q)\n",
"printf('\n Eye diameter = %.1f in',De)"
   ]
   }
],
"metadata": {
		  "kernelspec": {
		   "display_name": "Scilab",
		   "language": "scilab",
		   "name": "scilab"
		  },
		  "language_info": {
		   "file_extension": ".sce",
		   "help_links": [
			{
			 "text": "MetaKernel Magics",
			 "url": "https://github.com/calysto/metakernel/blob/master/metakernel/magics/README.md"
			}
		   ],
		   "mimetype": "text/x-octave",
		   "name": "scilab",
		   "version": "0.7.1"
		  }
		 },
		 "nbformat": 4,
		 "nbformat_minor": 0
}
