{
"cells": [
 {
		   "cell_type": "markdown",
	   "metadata": {},
	   "source": [
       "# Chapter 6: new6"
	   ]
	},
{
		   "cell_type": "markdown",
		   "metadata": {},
		   "source": [
			"## Example 6.1: Example_1.sce"
		   ]
		  },
  {
"cell_type": "code",
	   "execution_count": null,
	   "metadata": {
	    "collapsed": true
	   },
	   "outputs": [],
"source": [
"clc\n",
"//Initialization of variables\n",
"g=9.81 //kN/m^3\n",
"V2=12 //m/s\n",
"V3=12 //m/s\n",
"A2=10^2\n",
"A1=15^2\n",
"A3=7.5^2\n",
"t1=15 \n",
"t2=30\n",
"//calculations\n",
"V1=(A2*V2 + A3*V3)/A1\n",
"Q1=%pi /4 *A1*10^-4 *V1\n",
"Q2=%pi /4 *A2*10^-4 *V2\n",
"Q3=%pi /4 *A3*10^-4 *V3\n",
"P1g=V3^2 /(2*g) - V1^2 /(2*g)\n",
"P1=P1g*g\n",
"rho=10^3 \n",
"V2x=V2*cosd(t1)\n",
"V3x=V3*cosd(t2)\n",
"V1x=V1\n",
"Fx= -P1*A1*10^-4 + (rho*Q2*V2x + rho*Q3*V3x - rho*Q1*V1x)\n",
"Fx=Fx*10^-3 \n",
"V2y=V2*sind(t1)\n",
"V3y=-V3*sind(t2)\n",
"V1y=0\n",
"Fy=rho*Q2*V2y +rho*Q3*V3y -rho*Q1*V1y\n",
"Fy=Fy*10^-3\n",
"//results\n",
"printf('Force in x directio = %.3f kN',Fx)\n",
"printf('\n Force in y direction = %.3f kN',Fy)"
   ]
   }
,
{
		   "cell_type": "markdown",
		   "metadata": {},
		   "source": [
			"## Example 6.2: Example_2.sce"
		   ]
		  },
  {
"cell_type": "code",
	   "execution_count": null,
	   "metadata": {
	    "collapsed": true
	   },
	   "outputs": [],
"source": [
"clc\n",
"//Initialization of variables\n",
"V1x=100 //ft/sec\n",
"V2x=0.866*95\n",
"V1y=0\n",
"V2y=.5*95\n",
"A1=0.0218 //ft^2\n",
"//calculations\n",
"Q=A1*V1x\n",
"rho=1.94\n",
"Fx=rho*Q*(V2x-V1x)\n",
"Fxr=-Fx\n",
"Fy=rho*Q*(V2y-V1y)\n",
"//results\n",
"printf('Horizontal force on the blade = %.1f lb',Fxr)\n",
"printf('\n Vertical force on the blade = %d lb',Fy)"
   ]
   }
,
{
		   "cell_type": "markdown",
		   "metadata": {},
		   "source": [
			"## Example 6.3: Example_3.sce"
		   ]
		  },
  {
"cell_type": "code",
	   "execution_count": null,
	   "metadata": {
	    "collapsed": true
	   },
	   "outputs": [],
"source": [
"clc\n",
"//Initialization of variables\n",
"v2=36 //fps\n",
"beta=150 //degrees\n",
"u=60 //fps\n",
"rho=1.94\n",
"Qd=0.0218\n",
"V1=100 //fps\n",
"gam=62.4\n",
"g=32.2\n",
"//calculations\n",
"v2s=v2*sind(beta)\n",
"v2c=u+v2*cosd(beta)\n",
"V2=34 //fps\n",
"alpha=32 //degrees\n",
"Fx=rho*Qd*(v2c-V1)*(V1-u)\n",
"Fy=-rho*Qd*(V1-u)*v2s\n",
"Fx2=rho*Qd*V1*(v2c-V1)\n",
"HPin=gam*Qd*V1*(V1^2 /(2*g))/550\n",
"HPout=gam*Qd*V1*(V2^2 /(2*g))/550\n",
"HPtransfer=-Fx2*u/550\n",
"HPfl=HPin-HPout-HPtransfer\n",
"//results\n",
"printf('Force exerted by water on the vane = %d lb',Fx2)\n",
"printf('\n Friction loss = %.1f hp ',HPfl)"
   ]
   }
,
{
		   "cell_type": "markdown",
		   "metadata": {},
		   "source": [
			"## Example 6.4: Example_4.sce"
		   ]
		  },
  {
"cell_type": "code",
	   "execution_count": null,
	   "metadata": {
	    "collapsed": true
	   },
	   "outputs": [],
"source": [
"clc\n",
"//Initialization of variables\n",
"z1=35 //ft\n",
"z3=20 //ft\n",
"P1=30 //psi\n",
"g=32.2\n",
"z2=10 //ft\n",
"d2=4 //in\n",
"rho=1.94\n",
"be=20 //degrees\n",
"W=150 //lb\n",
"//calculations\n",
"V3= sqrt(2*g*(P1*144/55 + z1-z3))\n",
"Q=3.81 //cfs\n",
"V2=43.6 //fps\n",
"P2=55*(z3+ V3^2/(2*g) - z2 - V2^2/(2*g))/144\n",
"Fx=P2*%pi/4 *d2^2 - rho*55/62.4 *Q*(V3*cosd(be) - V2) \n",
"Fy=rho*55/62.4 *Q*(V3*sind(be) ) + W\n",
"Fres=sqrt(Fx^2 + Fy^2)\n",
"Fsx=rho*Q*55/62.4*(V3*cosd(be) )\n",
"//calculations\n",
"printf('resultant force = %d lb',Fres)\n",
"printf('\n horizontal component of force = %d lb',Fsx)"
   ]
   }
,
{
		   "cell_type": "markdown",
		   "metadata": {},
		   "source": [
			"## Example 6.5: Example_5.sce"
		   ]
		  },
  {
"cell_type": "code",
	   "execution_count": null,
	   "metadata": {
	    "collapsed": true
	   },
	   "outputs": [],
"source": [
"clc\n",
"//Initialization of variables\n",
"omega=300 //rpm\n",
"r1=1.6 //ft\n",
"Q=120 //cfs\n",
"z=0.8 //ft\n",
"beta1=80 //degrees\n",
"r2=1 //ft\n",
"rho=1.94\n",
"g=32.2\n",
"gam=62.4\n",
"//calculations\n",
"disp('part a')\n",
"u1=(2*%pi/60)*omega*r1\n",
"Vr1=Q/(2*%pi*r1*z)\n",
"v1=Vr1/sind(beta1)\n",
"v2c=v1*cosd(beta1)\n",
"V1c=u1+v2c\n",
"u2=(2*%pi/60)*omega*r2\n",
"Vr2=Vr1*(r1/r2)\n",
"beta2=atand(Vr2/u2)\n",
"printf('required Blade angle = %.1f degrees',180-beta2)\n",
"disp('part b')\n",
"T=rho*Q*(r1*V1c)\n",
"power=T*u2\n",
"printf('Torque exerted = %d ft lb/s',power)\n",
"disp('part c')\n",
"h2=u1*V1c/g\n",
"Power=gam*Q*h2\n",
"printf('Torque exerted = %d ft lb/s',Power)"
   ]
   }
,
{
		   "cell_type": "markdown",
		   "metadata": {},
		   "source": [
			"## Example 6.6: Example_6.sce"
		   ]
		  },
  {
"cell_type": "code",
	   "execution_count": null,
	   "metadata": {
	    "collapsed": true
	   },
	   "outputs": [],
"source": [
"clc\n",
"//Initialization of variables\n",
"V1=150*44/30\n",
"Q=20000/2\n",
"d=6.5 //ft\n",
"rho=0.072\n",
"//calculations\n",
"A=%pi/4 *(d)^2\n",
"V=Q/A\n",
"dV=2*(V-V1)\n",
"Ft=rho/32.2 *Q*2*dV\n",
"eta=1/(1+ dV/(2*V1))\n",
"dP=Ft/2 /(%pi/4) /d^2\n",
"hpp=Q*dP/550\n",
"//results\n",
"printf('pressure rise = %d psf',dP)\n",
"printf('\n horsepower input = %d hp ',hpp)"
   ]
   }
,
{
		   "cell_type": "markdown",
		   "metadata": {},
		   "source": [
			"## Example 6.7: Example_7.sce"
		   ]
		  },
  {
"cell_type": "code",
	   "execution_count": null,
	   "metadata": {
	    "collapsed": true
	   },
	   "outputs": [],
"source": [
"clc\n",
"//Initialization of variables\n",
"V1=8.02 //fps\n",
"V2=16.04 //fps\n",
"Q=481 //cfs\n",
"rho=1.94\n",
"A=10*6\n",
"d=3\n",
"//calculations\n",
"Fx=62.4*d*A - 62.4*d/2 *A/2 - rho*Q*(V2-V1)\n",
"V1m=2.56 //m/s\n",
"V2m=5.12 //m/s\n",
"Qm=15.4 //m^2/s\n",
"dm=1\n",
"Am=2*3\n",
"rhom=1\n",
"Fxm=9.81*dm*Am - 9.81*dm/2 *Am/2 - rhom*Qm*(V2m-V1m)\n",
"//results\n",
"printf('Force in x- direction = %d lb',Fx)\n",
"printf('Force in x- direction = %.1f kN',Fxm)"
   ]
   }
],
"metadata": {
		  "kernelspec": {
		   "display_name": "Scilab",
		   "language": "scilab",
		   "name": "scilab"
		  },
		  "language_info": {
		   "file_extension": ".sce",
		   "help_links": [
			{
			 "text": "MetaKernel Magics",
			 "url": "https://github.com/calysto/metakernel/blob/master/metakernel/magics/README.md"
			}
		   ],
		   "mimetype": "text/x-octave",
		   "name": "scilab",
		   "version": "0.7.1"
		  }
		 },
		 "nbformat": 4,
		 "nbformat_minor": 0
}
