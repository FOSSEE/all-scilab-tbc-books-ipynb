{
"cells": [
 {
		   "cell_type": "markdown",
	   "metadata": {},
	   "source": [
       "# Chapter 10: new10"
	   ]
	},
{
		   "cell_type": "markdown",
		   "metadata": {},
		   "source": [
			"## Example 10.1: Example_1.sce"
		   ]
		  },
  {
"cell_type": "code",
	   "execution_count": null,
	   "metadata": {
	    "collapsed": true
	   },
	   "outputs": [],
"source": [
"clc\n",
"//Initialization of variables\n",
"nu=0.001 //ft^2 /s\n",
"L=1.5 //ft\n",
"U=2 //ft/s\n",
"s=0.925\n",
"ro=1.94\n",
"b=6\n",
"//calculations\n",
"R=L*U/nu\n",
"Cf=1.328/sqrt(R)\n",
"Ff=Cf*s*ro*U*b/12 *L\n",
"delta=4.91 *L/sqrt(R)\n",
"T0=0.332*nu*s*ro*U/L *sqrt(R)\n",
"//results\n",
"printf('Friction drag = %.3f lb',Ff)\n",
"printf('\n Thickness of boundary layer = %.4f ft',delta)\n",
"printf('\n Shear stress = %.4f lb/ft^2',T0)\n",
"//Similar calculations are done for SI units case"
   ]
   }
,
{
		   "cell_type": "markdown",
		   "metadata": {},
		   "source": [
			"## Example 10.2: Example_2.sce"
		   ]
		  },
  {
"cell_type": "code",
	   "execution_count": null,
	   "metadata": {
	    "collapsed": true
	   },
	   "outputs": [],
"source": [
"clc\n",
"//Initialization of variables\n",
"nu=0.00015 //ft^2/s\n",
"L=35 //ft\n",
"U=88 //fps\n",
"g=32.2 //ft/s^2\n",
"b=10 //ft\n",
"w=8 //ft\n",
"rho=0.0725\n",
"//calculations\n",
"R=L*U/nu\n",
"Cf=0.455 /(log10(R))^2.58\n",
"B=2*b + w\n",
"Ff=Cf*rho/g *U^2 /2 *L*B\n",
"Rx=R/10^5\n",
"delta=L*0.377 /(b* Rx^(0.2))\n",
"T0=0.0587 *rho/g *U^2 /2 *(nu/(L*U))^(0.2)\n",
"//results\n",
"printf('Frictional drag = %.1f lb',Ff)\n",
"printf('\n Thickness of  boundary layer = %.3f ft',delta)\n",
"printf('\n Shear stress = %.4f lb/ft^2',T0)"
   ]
   }
,
{
		   "cell_type": "markdown",
		   "metadata": {},
		   "source": [
			"## Example 10.3: Example_3.sce"
		   ]
		  },
  {
"cell_type": "code",
	   "execution_count": null,
	   "metadata": {
	    "collapsed": true
	   },
	   "outputs": [],
"source": [
"clc\n",
"//Initialization of variables\n",
"nu=0.0000166 //ft^2 /s\n",
"U=5.06 //fps\n",
"L=50 //ft\n",
"g=32.2\n",
"dia=10 //ft\n",
"//calculations\n",
"R=L*U/nu\n",
"Cf=0.0028\n",
"Ff=Cf*64/g *U^2 /2 *%pi*dia*L\n",
"Rx=R/L\n",
"ec=26*nu/U *Rx^(0.25)\n",
"Rx2=Rx*L/2\n",
"T02=0.0587*U^2 /2 /(Rx2)^(0.2)\n",
"delta2=60*nu/sqrt(T02)\n",
"//results\n",
"printf('Friction drag = %d lb',Ff)\n",
"printf('\n Critical roughness = %.4f ft',ec)\n",
"printf('\n height of roughness = %.4f ft',delta2)"
   ]
   }
,
{
		   "cell_type": "markdown",
		   "metadata": {},
		   "source": [
			"## Example 10.4: Example_4.sce"
		   ]
		  },
  {
"cell_type": "code",
	   "execution_count": null,
	   "metadata": {
	    "collapsed": true
	   },
	   "outputs": [],
"source": [
"clc\n",
"//Initialization of variables\n",
"Cd=0.45\n",
"rho=0.0725/32.2\n",
"V=88 //fps\n",
"A=8*10\n",
"//calculations\n",
"Fd=Cd*rho*V^2 /2 *A\n",
"Drag2=23\n",
"D=Fd-Drag2\n",
"//results\n",
"printf('Pressure drag = %d lb',D)"
   ]
   }
,
{
		   "cell_type": "markdown",
		   "metadata": {},
		   "source": [
			"## Example 10.5: Example_5.sce"
		   ]
		  },
  {
"cell_type": "code",
	   "execution_count": null,
	   "metadata": {
	    "collapsed": true
	   },
	   "outputs": [],
"source": [
"clc\n",
"//Initialization of variables\n",
"Cd=0.2\n",
"D=8.5 //in\n",
"V=412 //fps\n",
"nu=1.57*10^-4 \n",
"//calculations\n",
"Vt=480 //fps\n",
"//results\n",
"printf('Free fall velocity = %d fps',Vt)"
   ]
   }
,
{
		   "cell_type": "markdown",
		   "metadata": {},
		   "source": [
			"## Example 10.6: Example_6.sce"
		   ]
		  },
  {
"cell_type": "code",
	   "execution_count": null,
	   "metadata": {
	    "collapsed": true
	   },
	   "outputs": [],
"source": [
"clc\n",
"//Initialization of variables\n",
"nu=1.15*10^-5 //m^2/s\n",
"D=2*10^-3 //m\n",
"V=15 //m/s\n",
"T=-20 //C\n",
"//calculations\n",
"R=D*V/nu\n",
"f=0.2 *V/D *(1+T/R)\n",
"//results\n",
"printf('Frequency of oscillation = %d Hz',f)"
   ]
   }
,
{
		   "cell_type": "markdown",
		   "metadata": {},
		   "source": [
			"## Example 10.7: Example_7.sce"
		   ]
		  },
  {
"cell_type": "code",
	   "execution_count": null,
	   "metadata": {
	    "collapsed": true
	   },
	   "outputs": [],
"source": [
"clc\n",
"//Initialization of variables\n",
"n=90 //rpm\n",
"R=2 \n",
"rho=0.0765/32.2\n",
"B=25\n",
"U=120 //fps\n",
"//calculations\n",
"vt=2*%pi*R*n/60\n",
"T=2*%pi*R*vt\n",
"Fl=rho*B*U*T\n",
"theta=asind(-T/(4*%pi*R*U))\n",
"//results\n",
"printf('Value of circulation = %d ft62/s',T)\n",
"printf('\n Transverse or lift force = %d lb',Fl)\n",
"printf('\n Position of stagnation points = %.1f',180-theta)"
   ]
   }
,
{
		   "cell_type": "markdown",
		   "metadata": {},
		   "source": [
			"## Example 10.8: Example_8.sce"
		   ]
		  },
  {
"cell_type": "code",
	   "execution_count": null,
	   "metadata": {
	    "collapsed": true
	   },
	   "outputs": [],
"source": [
"clc\n",
"//Initialization of variables\n",
"B=36 //ft\n",
"c=6 //ft\n",
"Cl=0.8\n",
"tau=0.175 \n",
"rho=0.001756\n",
"V=300 //fps\n",
"//calculations\n",
"alphai=Cl/(%pi*B/c) *(1+tau) *180/%pi\n",
"alpha=5.4 \n",
"lift=-5.6 //degrees\n",
"alphao=alpha-alphai\n",
"alphaod=alphao-lift\n",
"alphaor=alphaod*%pi/180\n",
"eta=Cl/(2*%pi*alphaor)\n",
"Fl=Cl*rho*V^2 /2 *B*c\n",
"Fd=0.047/Cl *13680\n",
"HP=Fd*V/550\n",
"//results\n",
"printf('Friction coefficient = %.3f ',eta)\n",
"printf('\n weight of the wing = %d lb',Fl)\n",
"printf('\n Horsepower required = %d hp',HP)"
   ]
   }
,
{
		   "cell_type": "markdown",
		   "metadata": {},
		   "source": [
			"## Example 10.9: Example_9.sce"
		   ]
		  },
  {
"cell_type": "code",
	   "execution_count": null,
	   "metadata": {
	    "collapsed": true
	   },
	   "outputs": [],
"source": [
"clc\n",
"//Initialization of variables\n",
"k=1.4\n",
"R=287\n",
"T=249 //K\n",
"v=600 //m/s\n",
"d=0.2 //m\n",
"//calculations\n",
"c=sqrt(k*R*T)\n",
"M=v/c\n",
"Cd=0.62\n",
"rho=47.22*10^3 /(R*T)\n",
"Fd=Cd*rho*v^2 /2 *%pi*d^2 /4\n",
"//results\n",
"printf('Drag = %d N',Fd)"
   ]
   }
],
"metadata": {
		  "kernelspec": {
		   "display_name": "Scilab",
		   "language": "scilab",
		   "name": "scilab"
		  },
		  "language_info": {
		   "file_extension": ".sce",
		   "help_links": [
			{
			 "text": "MetaKernel Magics",
			 "url": "https://github.com/calysto/metakernel/blob/master/metakernel/magics/README.md"
			}
		   ],
		   "mimetype": "text/x-octave",
		   "name": "scilab",
		   "version": "0.7.1"
		  }
		 },
		 "nbformat": 4,
		 "nbformat_minor": 0
}
