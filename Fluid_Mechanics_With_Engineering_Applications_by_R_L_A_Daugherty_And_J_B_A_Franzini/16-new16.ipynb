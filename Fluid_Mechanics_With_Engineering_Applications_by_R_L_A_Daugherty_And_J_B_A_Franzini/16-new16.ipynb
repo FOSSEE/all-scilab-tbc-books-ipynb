{
"cells": [
 {
		   "cell_type": "markdown",
	   "metadata": {},
	   "source": [
       "# Chapter 16: new16"
	   ]
	},
{
		   "cell_type": "markdown",
		   "metadata": {},
		   "source": [
			"## Example 16.2: Example_2.sce"
		   ]
		  },
  {
"cell_type": "code",
	   "execution_count": null,
	   "metadata": {
	    "collapsed": true
	   },
	   "outputs": [],
"source": [
"clc\n",
"//Initialization of variables\n",
"ns=20 \n",
"eta=0.925\n",
"etah=0.94\n",
"BD=0.1\n",
"phie=0.72\n",
"g=32.2\n",
"alpha2=90 //degrees\n",
"//calculations\n",
"Cr=ns^2 /(67100*phie^2 *BD*eta)\n",
"c1cos=etah/(2*phie)\n",
"alpha=atan(Cr/c1cos)\n",
"C1=Cr/sin(alpha)\n",
"beta1=acotd((C1*cos(alpha) -phie)/(C1*sin(alpha)))\n",
"//results\n",
"printf('Alpha = %.2f degrees',alpha*180/%pi)\n",
"printf('\n Beta = %.2f degrees',beta1)\n",
"disp('part b')\n",
"h=402\n",
"n=600 //rpm\n",
"bhp=3600\n",
"ns=n*sqrt(bhp) /h^(5/4)\n",
"D=153.2*phie*sqrt(h) /n\n",
"B=BD*D\n",
"Dt=D*0.735\n",
"Ac=0.95*%pi*D*B\n",
"Vr=Cr*sqrt(2*g*h)\n",
"Q=Ac*Vr\n",
"//results\n",
"printf('\n Breadth= %.3f ft',B)\n",
"printf('\n depth D= %.3f ft',D)\n",
"printf('\n velocity Vr= %d ft/s',Vr)\n",
"printf('\n Flow rate Q= %.1f cfs',Q)"
   ]
   }
,
{
		   "cell_type": "markdown",
		   "metadata": {},
		   "source": [
			"## Example 16.3: Example_3.sce"
		   ]
		  },
  {
"cell_type": "code",
	   "execution_count": null,
	   "metadata": {
	    "collapsed": true
	   },
	   "outputs": [],
"source": [
"clc\n",
"//Initialization of variables\n",
"ns=70 \n",
"z1=10 //ft\n",
"z2=5000 //ft\n",
"//calculations\n",
"P1=12.2*144/62.4\n",
"P2=0.26*144/62.4\n",
"sigmac=0.31\n",
"h=(P1-P2-z1)/sigmac\n",
"//results\n",
"printf('Max permissible head to assure against cavitation = %d ft',h)"
   ]
   }
,
{
		   "cell_type": "markdown",
		   "metadata": {},
		   "source": [
			"## Example 16.4: Example_4.sce"
		   ]
		  },
  {
"cell_type": "code",
	   "execution_count": null,
	   "metadata": {
	    "collapsed": true
	   },
	   "outputs": [],
"source": [
"clc\n",
"//Initialization of variables\n",
"Q=600 //cfs\n",
"z=350 //ft\n",
"eta=0.9\n",
"//calculations\n",
"power=62.4*Q*z*eta/550\n",
"rpm=75\n",
"n=2\n",
"ns=rpm*sqrt(power/n) /z^(5/4)\n",
"phi=0.45\n",
"D=153.3*sqrt(z) *phi/rpm\n",
"rpm2=600\n",
"ns2=rpm2*sqrt(power/n) /z^(5/4)\n",
"//results\n",
"printf('For two turbines, ns= %.2f',ns)\n",
"printf('\n For francis turbines, ns= %d ',ns2)"
   ]
   }
],
"metadata": {
		  "kernelspec": {
		   "display_name": "Scilab",
		   "language": "scilab",
		   "name": "scilab"
		  },
		  "language_info": {
		   "file_extension": ".sce",
		   "help_links": [
			{
			 "text": "MetaKernel Magics",
			 "url": "https://github.com/calysto/metakernel/blob/master/metakernel/magics/README.md"
			}
		   ],
		   "mimetype": "text/x-octave",
		   "name": "scilab",
		   "version": "0.7.1"
		  }
		 },
		 "nbformat": 4,
		 "nbformat_minor": 0
}
