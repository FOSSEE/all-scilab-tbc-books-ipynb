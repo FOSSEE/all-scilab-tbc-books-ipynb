{
"cells": [
 {
		   "cell_type": "markdown",
	   "metadata": {},
	   "source": [
       "# Chapter 2: new1"
	   ]
	},
{
		   "cell_type": "markdown",
		   "metadata": {},
		   "source": [
			"## Example 2.1: Example_1.sce"
		   ]
		  },
  {
"cell_type": "code",
	   "execution_count": null,
	   "metadata": {
	    "collapsed": true
	   },
	   "outputs": [],
"source": [
"clc\n",
"//Initialization of variables\n",
"z=20000 //ft\n",
"rate=-0.00356 //F/ft\n",
"T=59 //F\n",
"P=14.7 //psia\n",
"gamma=0.076 //lb/ft^3\n",
"//calculations\n",
"P2=P*144 - gamma*(z)\n",
"P2f=P2/144\n",
"P3=P*exp(-gamma*z/(P*144))\n",
"P4=((P*144)^0.285 -0.285*gamma*z*(P*144)^(-0.715))^(1/0.285)\n",
"P4f=P4/144.\n",
"P5=P*((460+T)/(460+T+rate*z))^(gamma*(T+460)/(P*144*rate))\n",
"//results\n",
"printf ('Constant density')\n",
"printf('\n Final pressure = %.2f psia',P2f)\n",
"printf('\n Isothermal')\n",
"printf('\n Final pressure = %.2f psia',P3)\n",
"printf('\n Isentropic')\n",
"printf('\n Final pressure = %.2f psia',P4f)\n",
"printf('\n Linear decrease')\n",
"printf('\n Final pressure = %d psia',P5+1)"
   ]
   }
,
{
		   "cell_type": "markdown",
		   "metadata": {},
		   "source": [
			"## Example 2.2: Example_2.sce"
		   ]
		  },
  {
"cell_type": "code",
	   "execution_count": null,
	   "metadata": {
	    "collapsed": true
	   },
	   "outputs": [],
"source": [
"clc\n",
"//Initialization of variables\n",
"wA=53.5 //lb/ft^3\n",
"wA2=8.4 //kN/m^3\n",
"wB=78.8 //lb/ft^3\n",
"wB2=12.3 //kN/m^3\n",
"PB=30 //psi\n",
"PB2=200 //kN/m^2\n",
"AB=1.3 //ft\n",
"AB2=40/100 //m\n",
"BC=6.5 //ft\n",
"BC2=2 //m\n",
"CD=10 //ft\n",
"CD2=3 //m\n",
"//Calculations\n",
"PAbyGB=PB*144/wB - AB*13.55*62.4/wB - (BC+CD) + (AB+BC)*wA/wB\n",
"PA=PAbyGB*wB/144.\n",
"PAbyGB2=PB2/wB2 - AB2*13.55*9.81/wB2 - (BC2+CD2) + (AB2+BC2)*wA2/wB2\n",
"PA2=PAbyGB2*wB2\n",
"//Results\n",
"printf('English units')\n",
"printf('\n Final pressure = %.1f psi',PA)\n",
"printf('\n SI Units')\n",
"printf('\n Final pressure = %d kPa',PA2+1)"
   ]
   }
,
{
		   "cell_type": "markdown",
		   "metadata": {},
		   "source": [
			"## Example 2.3: Example_3.sce"
		   ]
		  },
  {
"cell_type": "code",
	   "execution_count": null,
	   "metadata": {
	    "collapsed": true
	   },
	   "outputs": [],
"source": [
"clc\n",
"//Initialization of variables\n",
"W=500 //lb\n",
"width=2 //ft\n",
"len=4 //ft\n",
"CGx=1.2 //ft\n",
"CGy=0.9 //ft\n",
"theta=30 //degrees\n",
"gam=62.4 //lb/ft^3\n",
"//Calculations\n",
"Fv=width*len //multiply by gam*x\n",
"F=width/(2*cosd(theta)) //multiply by gam*x*x\n",
"//function[y] =yp(x)\n",
"//    y=x/(2*cosd(theta)) + width*(x/cosd(theta))/(12*(cosd(theta))^4)\n",
"//endfunction\n",
"//function[M]=func(x)\n",
"//    M=F*gam*x^2 *0.770*x/2 +W*CGx - Fv*gam*x*width\n",
"//endfunction\n",
"x= poly(0,'x');\n",
"vector=roots(F*gam*x^2 *0.770*x/2 +W*CGx - Fv*gam*x*width)\n",
"printf('The gate will remain closed between %.2f ft and %.2f ft',vector(3),vector(2))"
   ]
   }
,
{
		   "cell_type": "markdown",
		   "metadata": {},
		   "source": [
			"## Example 2.4: Example_4.sce"
		   ]
		  },
  {
"cell_type": "code",
	   "execution_count": null,
	   "metadata": {
	    "collapsed": true
	   },
	   "outputs": [],
"source": [
"clc\n",
"//Initialization of variables\n",
"z1=1 //in\n",
"z2=2 //in\n",
"z3=2 //in\n",
"sOil=0.8 \n",
"sWater=1\n",
"Pa=3 //psi\n",
"//calculations\n",
"Pd=(Pa) + (z2+z1)*sOil*62.4/144 + 62.4*z3/144\n",
"Fa=Pa*144*%pi*z3^2\n",
"Fb=sOil*62.4*(z2+z1-(z2+z3)*z2/((z2+z1)*%pi))*(%pi*z3^2 /2)\n",
"Fc=sOil*62.4*(z2+z1)*(%pi*z3^2 /2)\n",
"Fd=62.4*(z2+z3)*z2/((z2+z1)*%pi)*(%pi*z3^2 /2)\n",
"F=Fa+Fb+Fc+Fd\n",
"yPa=z2+z1\n",
"yCb=z2+z1-(z2+z3)*z2/((z2+z1)*%pi) \n",
"ICb=%pi*(z2+z3)^4 /128 -0.5*%pi*z2^2 *((z2+z3)*z2/((z2+z1)*%pi))^2\n",
"yPb=yCb+ICb/(yCb*0.5*%pi*z2^2)\n",
"yPc=z2+z1+ (z2+z3)*z2/((z2+z1)*%pi) \n",
"ICd=ICb\n",
"yPd=z2+z1 + (z2+z3)*z2/((z2+z1)*%pi) + ICb/((z2+z3)*z2/((z2+z1)*%pi)*0.5*%pi*z3^2 )\n",
"yP=(Fa*yPa+Fb*yPb+Fc*yPc+Fd*yPd)/F\n",
"//Results\n",
"printf('case 1')\n",
"printf('\n Pressure at the bottom = %.1f psi',Pd)\n",
"printf('\n case 2')\n",
"printf('\n Net force = %d lb', F+3)\n",
"printf('\n Location of net force= %.2f ft', yP)"
   ]
   }
,
{
		   "cell_type": "markdown",
		   "metadata": {},
		   "source": [
			"## Example 2.5: Example_5.sce"
		   ]
		  },
  {
"cell_type": "code",
	   "execution_count": null,
	   "metadata": {
	    "collapsed": true
	   },
	   "outputs": [],
"source": [
"clc\n",
"//Initialization of variables\n",
"dia=4 //m\n",
"P=35 //kN/m^2\n",
"theta=30 //degrees\n",
"//Calculations\n",
"Fx=P*(dia-dia*(1-cosd(theta))/2.)\n",
"Fz=P*dia*sind(theta)/2\n",
"dist=(dia-dia*(1-cosd(theta))/2.)\n",
"Fxb=9.81*dist*dist/2 \n",
"Fzb=9.81*((180+theta)*%pi*(dia/2)^2/360 + sqrt(3) /2 + dia/2)\n",
"//Results\n",
"printf('part a')\n",
"printf('\n Horizontal force= %.1f kN/m to the right', Fx)\n",
"printf('\n Vertical force = %.1f kN/m upward' , Fz)\n",
"printf('\n part b')\n",
"printf('\n force by the fluid = %.1f kN/m to the right',Fxb)\n",
"printf('\n weight of the cross-hatched volume of liquid =%.1f kN/m Upward',Fzb )"
   ]
   }
,
{
		   "cell_type": "markdown",
		   "metadata": {},
		   "source": [
			"## Example 2.6: Example_6.sce"
		   ]
		  },
  {
"cell_type": "code",
	   "execution_count": null,
	   "metadata": {
	    "collapsed": true
	   },
	   "outputs": [],
"source": [
"clc\n",
"//Initialization of variables\n",
"d1=4 //in\n",
"h1=3.75 //in\n",
"w1=0.85 //lb\n",
"gamma=52 //lb/ft^3\n",
"d2=5 //in\n",
"depth=3 //in\n",
"//Calculations\n",
"A=[(d1/2)*(d1/2), -(d2/2)*(d2/2)+(d1/2)*(d1/2) ; 1,1]\n",
"b=[0;w1*12*(12*2/d1)^2 /(gamma*%pi)]\n",
"C=A\b\n",
"x=C(1,1)\n",
"y=C(2,1)\n",
"height=depth-x\n",
"//Results\n",
"printf('Bottom of the cylinder will be %.2f in above the bottom of hollow cylinder',height)"
   ]
   }
,
{
		   "cell_type": "markdown",
		   "metadata": {},
		   "source": [
			"## Example 2.7: Example_7.sce"
		   ]
		  },
  {
"cell_type": "code",
	   "execution_count": null,
	   "metadata": {
	    "collapsed": true
	   },
	   "outputs": [],
"source": [
"clc\n",
"//Initialization of variables\n",
"v=180 //m/s\n",
"angle=40 //degrees\n",
"a=4 //m/s^2\n",
"r=2600 //m\n",
"g=9.81 //m/s^2\n",
"//calculations\n",
"//Assume outward and right as positive\n",
"an=-v*v/r\n",
"at=-a\n",
"ax=at*cosd(angle) +an*sind(angle)\n",
"az=at*sind(angle) -an*cosd(angle)\n",
"tangent=ax/(az+g)\n",
"theta=atand(tangent)\n",
"//Results\n",
"printf('Angle made by the free liquid = %.2f degrees',-theta)"
   ]
   }
],
"metadata": {
		  "kernelspec": {
		   "display_name": "Scilab",
		   "language": "scilab",
		   "name": "scilab"
		  },
		  "language_info": {
		   "file_extension": ".sce",
		   "help_links": [
			{
			 "text": "MetaKernel Magics",
			 "url": "https://github.com/calysto/metakernel/blob/master/metakernel/magics/README.md"
			}
		   ],
		   "mimetype": "text/x-octave",
		   "name": "scilab",
		   "version": "0.7.1"
		  }
		 },
		 "nbformat": 4,
		 "nbformat_minor": 0
}
