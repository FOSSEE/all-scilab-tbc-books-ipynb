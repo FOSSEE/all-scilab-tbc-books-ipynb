{
"cells": [
 {
		   "cell_type": "markdown",
	   "metadata": {},
	   "source": [
       "# Chapter 7: new7"
	   ]
	},
{
		   "cell_type": "markdown",
		   "metadata": {},
		   "source": [
			"## Example 7.2: Example_2.sce"
		   ]
		  },
  {
"cell_type": "code",
	   "execution_count": null,
	   "metadata": {
	    "collapsed": true
	   },
	   "outputs": [],
"source": [
"clc\n",
"//Initialization of variables\n",
"Dratio=8\n",
"mu=0.0006\n",
"rho=52/32.2\n",
"vm=1.22*10^-5 //lb s /ft^2\n",
"V=45 //fps\n",
"Fm=0.8\n",
"//calculations\n",
"vp=mu/rho\n",
"Vm=vm*V/(Dratio*vp)\n",
"Fratio=rho*V^2 /(1.94*Vm^2 *Dratio^2)\n",
"Fp=Fratio*Fm\n",
"//results\n",
"printf('velocity = %.2f fps',Vm)\n",
"printf('\n Drag force = %d lb',Fp)\n",
"disp('The answer given in textbook is wrong. Please use a calculator')"
   ]
   }
,
{
		   "cell_type": "markdown",
		   "metadata": {},
		   "source": [
			"## Example 7.3: Example_3.sce"
		   ]
		  },
  {
"cell_type": "code",
	   "execution_count": null,
	   "metadata": {
	    "collapsed": true
	   },
	   "outputs": [],
"source": [
"clc\n",
"//Initialization of variables\n",
"L=50\n",
"Fm=0.02 //N\n",
"Vm=1 //m/s\n",
"//calculations\n",
"Fp=L^3 *Fm \n",
"Fp=Fp*0.2248\n",
"Vp=sqrt(L) *Vm\n",
"Vp=Vp*3.28\n",
"Hp=Fp*Vp/550\n",
"//results\n",
"printf('Required horsepower = %.1f hp',Hp)"
   ]
   }
],
"metadata": {
		  "kernelspec": {
		   "display_name": "Scilab",
		   "language": "scilab",
		   "name": "scilab"
		  },
		  "language_info": {
		   "file_extension": ".sce",
		   "help_links": [
			{
			 "text": "MetaKernel Magics",
			 "url": "https://github.com/calysto/metakernel/blob/master/metakernel/magics/README.md"
			}
		   ],
		   "mimetype": "text/x-octave",
		   "name": "scilab",
		   "version": "0.7.1"
		  }
		 },
		 "nbformat": 4,
		 "nbformat_minor": 0
}
