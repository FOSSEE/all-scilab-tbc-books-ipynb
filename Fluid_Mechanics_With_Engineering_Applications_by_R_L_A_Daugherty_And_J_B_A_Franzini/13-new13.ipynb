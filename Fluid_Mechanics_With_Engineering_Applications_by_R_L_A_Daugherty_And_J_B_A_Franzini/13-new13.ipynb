{
"cells": [
 {
		   "cell_type": "markdown",
	   "metadata": {},
	   "source": [
       "# Chapter 13: new13"
	   ]
	},
{
		   "cell_type": "markdown",
		   "metadata": {},
		   "source": [
			"## Example 13.1: Example_1.sce"
		   ]
		  },
  {
"cell_type": "code",
	   "execution_count": null,
	   "metadata": {
	    "collapsed": true
	   },
	   "outputs": [],
"source": [
"clc\n",
"//Initialization of variables\n",
"ken=0.5\n",
"kex=0.2\n",
"f=0.0018\n",
"l=10 //ft\n",
"dia=3 //in\n",
"z1=8\n",
"z2=5\n",
"//calculations\n",
"x1=ken+kex+f*l*12/dia\n",
"t=35.5*2/3 *(z1^(3/2) - z2^(3/2))\n",
"//results\n",
"printf('Time reqired = %d s',t)"
   ]
   }
,
{
		   "cell_type": "markdown",
		   "metadata": {},
		   "source": [
			"## Example 13.2: Example_2.sce"
		   ]
		  },
  {
"cell_type": "code",
	   "execution_count": null,
	   "metadata": {
	    "collapsed": true
	   },
	   "outputs": [],
"source": [
"clc\n",
"//Initialization of variables\n",
"disp('For steady state, dV/dt =0')\n",
"Q=1600/449\n",
"A2=0.1963\n",
"g=32.2\n",
"rp2=2000\n",
"//calculations\n",
"V2=Q/A2\n",
"hp1=32*V2^2 /(2*g) -50\n",
"hp2=hp1*(rp2/1650)^2\n",
"hpf=169 //ft\n",
"Q=4.1 //cfs\n",
"//results\n",
"printf('Steady state flow rate = %.2f cfs',Q)"
   ]
   }
,
{
		   "cell_type": "markdown",
		   "metadata": {},
		   "source": [
			"## Example 13.3: Example_3.sce"
		   ]
		  },
  {
"cell_type": "code",
	   "execution_count": null,
	   "metadata": {
	    "collapsed": true
	   },
	   "outputs": [],
"source": [
"clc\n",
"//Initialization of variables\n",
"kl=0.5\n",
"f=0.02\n",
"L=15 //ft\n",
"D=0.1 //ft\n",
"k=3.5\n",
"g=9.81\n",
"H=2//ft\n",
"//calculations\n",
"k=kl+f*L/D\n",
"V0=sqrt(2*g*H/(1+k))\n",
"Q=[0.25 0.5 0.75]\n",
"V=V0*Q\n",
"Vfun=(2.95+V)./(2.95-V)\n",
"lnVfun=log(Vfun)\n",
"t=1.129*lnVfun\n",
"//results\n",
"disp(t)\n",
"disp('Similarly, it can be calculated for L=150,1500 ft')"
   ]
   }
,
{
		   "cell_type": "markdown",
		   "metadata": {},
		   "source": [
			"## Example 13.4: Example_4.sce"
		   ]
		  },
  {
"cell_type": "code",
	   "execution_count": null,
	   "metadata": {
	    "collapsed": true
	   },
	   "outputs": [],
"source": [
"clc\n",
"//Initialization of variables\n",
"Q=30 //cfs\n",
"r=2 //ft\n",
"cp=3200\n",
"rho=1.94\n",
"Q2=10 //cfs\n",
"z=300 //ft\n",
"//calculations\n",
"V=Q/(%pi*r^2)\n",
"ph=rho*cp*V/144\n",
"phd=4000/cp /(2*r) *ph\n",
"dV=(Q2-Q)/(%pi*r^2)\n",
"dph=-rho*cp*dV/144\n",
"ph3=rho*cp*V/3 /144\n",
"ph4=ph3*z*2/cp\n",
"//results\n",
"printf('Water hammer pressure= %.1f psi',ph)\n",
"printf('\n Water hammer pressure in case 2= %.1f psi',phd)\n",
"printf('\n Water hammer pressure in case 3= %.1f psi',dph)\n",
"printf('\n Pressure at valve in case 4 = %.1f psi',ph3)\n",
"printf('\n Pressure at 300 ft from reservoir = %.2f psi',ph4)"
   ]
   }
],
"metadata": {
		  "kernelspec": {
		   "display_name": "Scilab",
		   "language": "scilab",
		   "name": "scilab"
		  },
		  "language_info": {
		   "file_extension": ".sce",
		   "help_links": [
			{
			 "text": "MetaKernel Magics",
			 "url": "https://github.com/calysto/metakernel/blob/master/metakernel/magics/README.md"
			}
		   ],
		   "mimetype": "text/x-octave",
		   "name": "scilab",
		   "version": "0.7.1"
		  }
		 },
		 "nbformat": 4,
		 "nbformat_minor": 0
}
