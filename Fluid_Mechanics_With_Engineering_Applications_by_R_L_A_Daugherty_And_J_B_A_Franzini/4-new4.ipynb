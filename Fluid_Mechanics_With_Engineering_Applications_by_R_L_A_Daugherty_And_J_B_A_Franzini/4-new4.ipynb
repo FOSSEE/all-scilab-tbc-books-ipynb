{
"cells": [
 {
		   "cell_type": "markdown",
	   "metadata": {},
	   "source": [
       "# Chapter 4: new4"
	   ]
	},
{
		   "cell_type": "markdown",
		   "metadata": {},
		   "source": [
			"## Example 4.10: Example_10.sce"
		   ]
		  },
  {
"cell_type": "code",
	   "execution_count": null,
	   "metadata": {
	    "collapsed": true
	   },
	   "outputs": [],
"source": [
"clc\n",
"//Initialization of variables\n",
"V=60 //fps\n",
"theta=15 //degrees\n",
"ra=6/12 //ft\n",
"rb=8/12 //ft\n",
"B=1.5/12 //ft\n",
"//calculations\n",
"Vra=V*sind(theta)\n",
"Q=2* %pi*ra*B*Vra\n",
"Vratio=ra/rb\n",
"Vb=Vratio*V\n",
"flow=(V^2 - Vb^2)/(2*32.2)\n",
"//results\n",
"printf('Flow rate = %.2f cfs',Q)\n",
"printf('\n Velocity at b = %d fps',Vb)\n",
"printf('\n Pressure head = %.1f ft',flow)"
   ]
   }
,
{
		   "cell_type": "markdown",
		   "metadata": {},
		   "source": [
			"## Example 4.1: Example_1.sce"
		   ]
		  },
  {
"cell_type": "code",
	   "execution_count": null,
	   "metadata": {
	    "collapsed": true
	   },
	   "outputs": [],
"source": [
"clc\n",
"//Initialization of variables\n",
"d=1.26\n",
"d=25 //in\n",
"d2=60 //cm\n",
"Q=25//cfs\n",
"Q2=700 //L/s\n",
"dout=12 //in\n",
"dout2=30/100 //m\n",
"z=3 //ft\n",
"z2=1 //m\n",
"P1=45 //psi\n",
"P2=300 //kN/m^2\n",
"gamma=9.81 //kN/m^3\n",
"//calculations\n",
"V1=d/%pi\n",
"V2=d*4/%pi\n",
"pf=(P1*144/(1.26*62.4) + (V1^2)/64.4 - V2^2 /64.4 +z)*1.26*62.4/144\n",
"V1=Q2/1000/(%pi*dout2^2)\n",
"V2=4*V1\n",
"p2f=((P2/(1.26*gamma)) + V1^2 /(2*gamma) -V2^2 /(2*gamma) +z2)*1.26*gamma\n",
"\n",
"//results\n",
"printf('English units')\n",
"printf('\n Pressure at point 2 = %.1f psi ',pf)\n",
"printf('\n SI Units')\n",
"printf('\n Pressure at point 2 = %.d kN/m^2 ',p2f)"
   ]
   }
,
{
		   "cell_type": "markdown",
		   "metadata": {},
		   "source": [
			"## Example 4.2: Example_2.sce"
		   ]
		  },
  {
"cell_type": "code",
	   "execution_count": null,
	   "metadata": {
	    "collapsed": true
	   },
	   "outputs": [],
"source": [
"clc\n",
"//Initialization of variables\n",
"h=20 //m\n",
"c=4187 //N m /(kg K)\n",
"g=9.81\n",
"//calculations\n",
"dT=g*h/c\n",
"//results\n",
"printf('Increase in temperature of water = %.3f K',dT)"
   ]
   }
,
{
		   "cell_type": "markdown",
		   "metadata": {},
		   "source": [
			"## Example 4.3: Example_3.sce"
		   ]
		  },
  {
"cell_type": "code",
	   "execution_count": null,
	   "metadata": {
	    "collapsed": true
	   },
	   "outputs": [],
"source": [
"clc\n",
"//Initialization of variables\n",
"sg=1.26\n",
"sg2=1.26\n",
"HP=22\n",
"HP2=16\n",
"//calculations\n",
"hp=HP*550/(sg*62.4) //divide by Q\n",
"Q=14.2 //cfs\n",
"printf('In English units, By trial Q= %.1f cfs',Q)\n",
"hp2=HP2*1000/(sg2*9.81)\n",
"Q2=0.42 //m^3/s\n",
"printf('\n In SI units, By trial Q= %.2f m^3/s',Q2)"
   ]
   }
,
{
		   "cell_type": "markdown",
		   "metadata": {},
		   "source": [
			"## Example 4.44: Example_4.sce"
		   ]
		  },
  {
"cell_type": "code",
	   "execution_count": null,
	   "metadata": {
	    "collapsed": true
	   },
	   "outputs": [],
"source": [
"clc\n",
"//Initialization of variables\n",
"g=9810 //N/m^3\n",
"Q=10 //m^3/s\n",
"H=20 //m\n",
"//calculations\n",
"Rate=g*Q*H/1000\n",
"//results\n",
"printf('Rate of energy loss = %d kW',Rate-2)"
   ]
   }
,
{
		   "cell_type": "markdown",
		   "metadata": {},
		   "source": [
			"## Example 4.5: Example_5.sce"
		   ]
		  },
  {
"cell_type": "code",
	   "execution_count": null,
	   "metadata": {
	    "collapsed": true
	   },
	   "outputs": [],
"source": [
"clc\n",
"//Initialization of variables\n",
"s=0.86\n",
"P2=3.8 //psia\n",
"Patm=26.8 //in of Hg\n",
"SPatm=29.9 //in of Hg\n",
"psi=14.7 //psia\n",
"//calculations\n",
"Pa=Patm*psi/SPatm\n",
"Pcrit=-(Pa-P2)*144/(s*62.4)\n",
"Q=sqrt((-Pcrit+ 10*144/(s*62.4))*64.4*%pi^2 /(-1/2.25^2 + 1/0.25^2 ))\n",
"//results\n",
"printf('Max. theoretical flow = %.1f cfs',Q)"
   ]
   }
,
{
		   "cell_type": "markdown",
		   "metadata": {},
		   "source": [
			"## Example 4.6: Example_6.sce"
		   ]
		  },
  {
"cell_type": "code",
	   "execution_count": null,
	   "metadata": {
	    "collapsed": true
	   },
	   "outputs": [],
"source": [
"clc\n",
"//Initialization of variables\n",
"z=3 //ft\n",
"s=0.82\n",
"//calculations\n",
"ua=sqrt(z*2*32.2)\n",
"ub=sqrt(2*32.2*(-2*(1-s) +ua^2 /(2*32.2)))\n",
"//results\n",
"printf('Velocity at B= %.1f fps',ub)"
   ]
   }
,
{
		   "cell_type": "markdown",
		   "metadata": {},
		   "source": [
			"## Example 4.7: Example_7.sce"
		   ]
		  },
  {
"cell_type": "code",
	   "execution_count": null,
	   "metadata": {
	    "collapsed": true
	   },
	   "outputs": [],
"source": [
"clc\n",
"//Initialization of variables\n",
"d=3 //in\n",
"x1=0.5^2\n",
"x2=0.75^2\n",
"z=80 //ft\n",
"z3=10 //ft\n",
"//calculations\n",
"disp('Using bernoullis theorem')\n",
"v3=29.7 //fps\n",
"Q=%pi /4 *(d/12)^2 *v3\n",
"hls=5*(x1*v3)^2 /(2*32.2)\n",
"hld=12*(x2*v3)^2 /(2*32.2)\n",
"//results\n",
"printf('Head loss in suction pipe = %.1f ft',hls)\n",
"printf('\n Head loss in discharge pipe = %.1f ft',hld)\n",
"printf('\n Flow rate = %.2f cfs',Q)"
   ]
   }
,
{
		   "cell_type": "markdown",
		   "metadata": {},
		   "source": [
			"## Example 4.8: Example_8.sce"
		   ]
		  },
  {
"cell_type": "code",
	   "execution_count": null,
	   "metadata": {
	    "collapsed": true
	   },
	   "outputs": [],
"source": [
"clc\n",
"//Initialization of variables\n",
"z1=2\n",
"z2=0.8\n",
"//calculations\n",
"disp('From equation of continuity, z1*v1=z2*v2')\n",
"V1= sqrt((z2-z1)*2*9.81/(1-z1^2 /z2^2))\n",
"V2=z1*V1/z2\n",
"Q=z1*1*V1\n",
"//results\n",
"printf('Flow rate = %.2f m^3/s',Q)"
   ]
   }
,
{
		   "cell_type": "markdown",
		   "metadata": {},
		   "source": [
			"## Example 4.9: Example_9.sce"
		   ]
		  },
  {
"cell_type": "code",
	   "execution_count": null,
	   "metadata": {
	    "collapsed": true
	   },
	   "outputs": [],
"source": [
"clc\n",
"//Initialization of variables\n",
"theta=30 //degrees\n",
"z=10 //ft\n",
"x=60 //ft\n",
"//calculations\n",
"V=sqrt((0.5*32.2*69.3^2)/((x-sind(theta) *69.3)))\n",
"//results\n",
"printf('velocity = %.2f fps',V)"
   ]
   }
],
"metadata": {
		  "kernelspec": {
		   "display_name": "Scilab",
		   "language": "scilab",
		   "name": "scilab"
		  },
		  "language_info": {
		   "file_extension": ".sce",
		   "help_links": [
			{
			 "text": "MetaKernel Magics",
			 "url": "https://github.com/calysto/metakernel/blob/master/metakernel/magics/README.md"
			}
		   ],
		   "mimetype": "text/x-octave",
		   "name": "scilab",
		   "version": "0.7.1"
		  }
		 },
		 "nbformat": 4,
		 "nbformat_minor": 0
}
