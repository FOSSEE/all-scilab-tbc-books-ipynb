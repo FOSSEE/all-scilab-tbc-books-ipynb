{
"cells": [
 {
		   "cell_type": "markdown",
	   "metadata": {},
	   "source": [
       "# Chapter 12: new12"
	   ]
	},
{
		   "cell_type": "markdown",
		   "metadata": {},
		   "source": [
			"## Example 12.1: Example_1.sce"
		   ]
		  },
  {
"cell_type": "code",
	   "execution_count": null,
	   "metadata": {
	    "collapsed": true
	   },
	   "outputs": [],
"source": [
"clc\n",
"//Initialization of variables\n",
"P1=10 //psia\n",
"Q=0.6 //cfs\n",
"A1=0.0491 //ft^2\n",
"g=32.2\n",
"V=39.2//fps\n",
"A0=0.0218 //ft^2\n",
"d1=2 //in\n",
"d2=3 //in\n",
"//calculations\n",
"Phead=P1*144/62.4\n",
"V1=Q/A1\n",
"V2i= sqrt(2*g*(Phead + V1^2 /(2*g)))\n",
"Cv=V/V2i\n",
"A2=Q/V\n",
"Cc=A2/A0\n",
"Cd=Cc*Cv\n",
"hL=(1/Cv^2 -1)*(1- (d1/d2)^4)*V^2 /(2*g)\n",
"//results\n",
"printf('Cc = %.2f ',Cc)\n",
"printf('\n Cd= %.2f',Cd)\n",
"printf('\n Cv= %.2f',Cv)\n",
"printf('\n Head loss = %.2f ft',hL)"
   ]
   }
,
{
		   "cell_type": "markdown",
		   "metadata": {},
		   "source": [
			"## Example 12.2: Example_2.sce"
		   ]
		  },
  {
"cell_type": "code",
	   "execution_count": null,
	   "metadata": {
	    "collapsed": true
	   },
	   "outputs": [],
"source": [
"clc\n",
"//Initialization of variables\n",
"d=2 //in\n",
"g=32.2\n",
"d1=3 //in\n",
"k=1.06\n",
"//calculations\n",
"A2=%pi/4 *d^2 /144\n",
"dp=d/12\n",
"Q=k*A2*sqrt(2*g*dp)\n",
"A=%pi/4 *(d1/12)^2\n",
"V1=Q/A\n",
"K2=1.04\n",
"Q2=K2/k *Q\n",
"//results\n",
"printf('Flow rate = %.4f cfs',Q2)"
   ]
   }
,
{
		   "cell_type": "markdown",
		   "metadata": {},
		   "source": [
			"## Example 12.3: Example_3.sce"
		   ]
		  },
  {
"cell_type": "code",
	   "execution_count": null,
	   "metadata": {
	    "collapsed": true
	   },
	   "outputs": [],
"source": [
"clc\n",
"//Initialization of variables\n",
"P1=700 //kN/m^2\n",
"P2=400 //kN/m^2\n",
"D2=12.5 //cm\n",
"D1=25 //cm\n",
"C=0.985\n",
"g=9.81\n",
"R=287 //m^2/s^2 K\n",
"T=273+20 //K\n",
"//calculations\n",
"Pr=P2/P1\n",
"Dr=D2/D1\n",
"Y=0.72\n",
"gam1=P1*g/(R*T)\n",
"G=C*Y*%pi/4 *(D2/100)^2 *sqrt(2*g*gam1*(P1-P2)/(1- Dr^4))\n",
"//results\n",
"printf('Weight flow rate = %.4f kN/s',G)"
   ]
   }
,
{
		   "cell_type": "markdown",
		   "metadata": {},
		   "source": [
			"## Example 12.4: Example_4.sce"
		   ]
		  },
  {
"cell_type": "code",
	   "execution_count": null,
	   "metadata": {
	    "collapsed": true
	   },
	   "outputs": [],
"source": [
"clc\n",
"//Initialization of variables\n",
"V=3 //fps\n",
"y=1 //ft\n",
"L=4 //ft\n",
"//calculations\n",
"H= (V*y/3.33)^(2/3)\n",
"P=L-H\n",
"//results\n",
"printf('Height of weir = %.2f ft',P)"
   ]
   }
],
"metadata": {
		  "kernelspec": {
		   "display_name": "Scilab",
		   "language": "scilab",
		   "name": "scilab"
		  },
		  "language_info": {
		   "file_extension": ".sce",
		   "help_links": [
			{
			 "text": "MetaKernel Magics",
			 "url": "https://github.com/calysto/metakernel/blob/master/metakernel/magics/README.md"
			}
		   ],
		   "mimetype": "text/x-octave",
		   "name": "scilab",
		   "version": "0.7.1"
		  }
		 },
		 "nbformat": 4,
		 "nbformat_minor": 0
}
