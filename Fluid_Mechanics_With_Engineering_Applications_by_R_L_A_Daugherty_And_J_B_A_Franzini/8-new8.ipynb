{
"cells": [
 {
		   "cell_type": "markdown",
	   "metadata": {},
	   "source": [
       "# Chapter 8: new8"
	   ]
	},
{
		   "cell_type": "markdown",
		   "metadata": {},
		   "source": [
			"## Example 8.1: Example_1.sce"
		   ]
		  },
  {
"cell_type": "code",
	   "execution_count": null,
	   "metadata": {
	    "collapsed": true
	   },
	   "outputs": [],
"source": [
"clc\n",
"//Initialization of variables\n",
"s=0.85\n",
"nu=1.8*10^-5 //m^2 /s\n",
"d=10 //cm\n",
"flow=0.5 //L/s\n",
"//calculations\n",
"Q=flow*10^3\n",
"A=%pi*d^2 /4\n",
"V=Q/A\n",
"V=V/10^2\n",
"R=d*10^-2 *V/nu\n",
"//results\n",
"printf('reynolds number = %d .Hence the flow is laminar',R)"
   ]
   }
,
{
		   "cell_type": "markdown",
		   "metadata": {},
		   "source": [
			"## Example 8.2: Example_2.sce"
		   ]
		  },
  {
"cell_type": "code",
	   "execution_count": null,
	   "metadata": {
	    "collapsed": true
	   },
	   "outputs": [],
"source": [
"clc\n",
"//Initialization of variables\n",
"Vc=12.7 //cm/s\n",
"r=2 //cm\n",
"r2=5 //cm\n",
"R=354\n",
"rho=0.85\n",
"V=6.37 //cm/s\n",
"D=0.1 //m\n",
"//calculations\n",
"k=Vc/r2^2\n",
"f=64/R\n",
"T0=f/4 *rho*V^2 /2\n",
"T02=T0/10\n",
"hr=f*(V*10^-2)^2 /(2*9.81*D)\n",
"//results\n",
"printf('Friction factor = %.2f',f)\n",
"printf('\n Shear stress at the pipe wall = %.3f N/m^2',T02)\n",
"printf('\n Head loss per pipe length = %.5f m/m',hr)"
   ]
   }
,
{
		   "cell_type": "markdown",
		   "metadata": {},
		   "source": [
			"## Example 8.3: Example_3.sce"
		   ]
		  },
  {
"cell_type": "code",
	   "execution_count": null,
	   "metadata": {
	    "collapsed": true
	   },
	   "outputs": [],
"source": [
"clc\n",
"//Initialization of variables\n",
"Q=2 \n",
"A=0.196 //cm^2\n",
"D=0.5 //ft\n",
"rho=0.9*1.94\n",
"mu=0.0008 //lb s/ft^2\n",
"hl=25\n",
"g=32.2 //ft/sec^2\n",
"L=200 //ft\n",
"r=2 //in\n",
"//calculations\n",
"V=Q/A\n",
"R=D*V*rho/mu\n",
"f=hl*D*2*g/(L*V^2)\n",
"umax=V*(1+1.33*sqrt(f))\n",
"T0=f*rho*V^2 /8\n",
"u2=umax - 5.75* sqrt(T0/rho) *log10(D*12/r)\n",
"//results\n",
"printf('Center line velocity = %.1f fps',umax)\n",
"printf('\n Shear stress = %.2f lb/ft^2',T0)\n",
"printf('\n Velcoity at 2 in from center line = %.2f fps',u2)"
   ]
   }
,
{
		   "cell_type": "markdown",
		   "metadata": {},
		   "source": [
			"## Example 8.4: Example_4.sce"
		   ]
		  },
  {
"cell_type": "code",
	   "execution_count": null,
	   "metadata": {
	    "collapsed": true
	   },
	   "outputs": [],
"source": [
"clc\n",
"//Initialization of variables\n",
"f=0.0131\n",
"d=0.5 //m\n",
"//calculations\n",
"V=2.12 //m/s\n",
"R=10^6\n",
"Q=%pi*d^2 /4 *V \n",
"d1=32.8*10^-6 /(V* sqrt(f))\n",
"//results\n",
"printf('flow rate = %.3f m^3/s',Q)\n",
"printf('\n nominal thickness = %.2e m',d1)"
   ]
   }
,
{
		   "cell_type": "markdown",
		   "metadata": {},
		   "source": [
			"## Example 8.5: Example_5.sce"
		   ]
		  },
  {
"cell_type": "code",
	   "execution_count": null,
	   "metadata": {
	    "collapsed": true
	   },
	   "outputs": [],
"source": [
"clc\n",
"//Initialization of variables\n",
"dz=260 //ft\n",
"ke=0.5\n",
"f=0.02\n",
"l=5000 //ft\n",
"D=10 //in\n",
"A2=0.545\n",
"//calculations\n",
"V2by2g=dz/(1 + ke + f*l/(D/12))\n",
"V2=V2by2g*2*32.2\n",
"V=sqrt(V2)\n",
"DV=D*V\n",
"Q=%pi/4 *(D/12)^2 *V\n",
"//results\n",
"printf('Flow rate = %.2f cfs',Q)"
   ]
   }
,
{
		   "cell_type": "markdown",
		   "metadata": {},
		   "source": [
			"## Example 8.6: Example_6.sce"
		   ]
		  },
  {
"cell_type": "code",
	   "execution_count": null,
	   "metadata": {
	    "collapsed": true
	   },
	   "outputs": [],
"source": [
"clc\n",
"//Initialization of variables\n",
"z=260 //ft\n",
"f=0.02\n",
"//calculations\n",
"V2by2g=z/(1.11*256 + 6000*f)\n",
"V2=V2by2g*2*32.2\n",
"V=sqrt(V2)\n",
"Q=0.545*V\n",
"V3=16*V\n",
"H=z-f*6000*V2by2g\n",
"//results\n",
"printf('rate of discharge = %.2f cfs',Q)"
   ]
   }
,
{
		   "cell_type": "markdown",
		   "metadata": {},
		   "source": [
			"## Example 8.7: Example_7.sce"
		   ]
		  },
  {
"cell_type": "code",
	   "execution_count": null,
	   "metadata": {
	    "collapsed": true
	   },
	   "outputs": [],
"source": [
"clc\n",
"//Initialization of variables\n",
"g=52\n",
"Hp=2\n",
"//calculations\n",
"Q=3.48 //cfs\n",
"V6=3.48/0.196\n",
"P=-20.9 //ft\n",
"P2=P*(g/144)\n",
"//results\n",
"printf('Flow rate = %.2f cfs',Q)\n",
"printf('\n Pressure in the pipe = %.2f psi',P2)"
   ]
   }
,
{
		   "cell_type": "markdown",
		   "metadata": {},
		   "source": [
			"## Example 8.8: Example_8.sce"
		   ]
		  },
  {
"cell_type": "code",
	   "execution_count": null,
	   "metadata": {
	    "collapsed": true
	   },
	   "outputs": [],
"source": [
"clc\n",
"//Initialization of variables\n",
"h=10 //m\n",
"g=9.81 //m/s^2\n",
"f1=0.019\n",
"f2=0.021\n",
"f3=0.020\n",
"z1=300 //m\n",
"z2=150 //m\n",
"z3=250 //m\n",
"d1=0.3 //m\n",
"d2=0.2 //m\n",
"d3=0.25 //m\n",
"//calculations\n",
"disp('part(a)')\n",
"Vbyg=h/(f1*z1/d1 +f2*z2/d2 *(d1/d2)^4 + f3*z3/d3 *(d1/d3)^4)\n",
"V1=sqrt(2*g*Vbyg)\n",
"Q=%pi/4 *d1^2 *V1\n",
"printf('\n Flow rate = %.3f m^3/s',Q)\n",
"disp('Part b')\n",
"Le2=z2*f2/f1 *(d1/d2)^5\n",
"Le3=z3*f3/f1 *(d1/d3)^5\n",
"Le1=z1\n",
"Le=Le1+Le2+Le3\n",
"V1byg=h*d1/Le/f1\n",
"V2=sqrt(2*g*V1byg)\n",
"Q1=%pi/4 *d1^2 *V2\n",
"printf('\n Flow rate = %.3f m^3/s',Q1)"
   ]
   }
,
{
		   "cell_type": "markdown",
		   "metadata": {},
		   "source": [
			"## Example 8.9: Example_9.sce"
		   ]
		  },
  {
"cell_type": "code",
	   "execution_count": null,
	   "metadata": {
	    "collapsed": true
	   },
	   "outputs": [],
"source": [
"clc\n",
"//Initialization of variables\n",
"d1=6/12 //ft\n",
"d2=4/12 //ft\n",
"d3=8/12 //ft\n",
"l1=2000 //ft\n",
"l2=1600 //ft\n",
"l3=4000 //ft\n",
"f1=0.020\n",
"f2=0.032\n",
"f3=0.024\n",
"El1=200\n",
"El2=50\n",
"El3=120\n",
"g=32.2\n",
"//calculations\n",
"Vc=sqrt(2*g*(El1-El2)/288.9)\n",
"Qc=%pi/4 *d3^2 *Vc\n",
"Va=1.346*Vc\n",
"Qa=%pi/4 *d1^2 *Va\n",
"Vb=(d3^2 *Vc - d1^2 *Va)/d2^2\n",
"Qb=%pi/4 *d2^2 *Vb\n",
"P=62.4/144 *(El1 - El3 - f1*l1/d1 *Va^2 /(2*g))\n",
"//results\n",
"printf('Flowrate at A = %.3f cfs',Qa)\n",
"printf('\nFlowrate at B = %.3f cfs',Qb)\n",
"printf('\nFlowrate at C = %.3f cfs',Qc)\n",
"printf('\nPressure at P = %.2f psi',P)"
   ]
   }
],
"metadata": {
		  "kernelspec": {
		   "display_name": "Scilab",
		   "language": "scilab",
		   "name": "scilab"
		  },
		  "language_info": {
		   "file_extension": ".sce",
		   "help_links": [
			{
			 "text": "MetaKernel Magics",
			 "url": "https://github.com/calysto/metakernel/blob/master/metakernel/magics/README.md"
			}
		   ],
		   "mimetype": "text/x-octave",
		   "name": "scilab",
		   "version": "0.7.1"
		  }
		 },
		 "nbformat": 4,
		 "nbformat_minor": 0
}
