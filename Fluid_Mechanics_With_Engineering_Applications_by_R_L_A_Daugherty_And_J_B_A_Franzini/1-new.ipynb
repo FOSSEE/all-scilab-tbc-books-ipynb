{
"cells": [
 {
		   "cell_type": "markdown",
	   "metadata": {},
	   "source": [
       "# Chapter 1: new"
	   ]
	},
{
		   "cell_type": "markdown",
		   "metadata": {},
		   "source": [
			"## Example 1.1: example_1.sce"
		   ]
		  },
  {
"cell_type": "code",
	   "execution_count": null,
	   "metadata": {
	    "collapsed": true
	   },
	   "outputs": [],
"source": [
"clc\n",
"//Initialization of variables\n",
"sw=62.4 //lb/ft^3\n",
"sw2=9.81 //kN/m^3\n",
"sg=13.55 //No units\n",
"g=32.2 //ft/s^2\n",
"//calculations\n",
"dwater=sw/g\n",
"dwater2=sw2/(9.81)\n",
"Gmercury=sg*sw\n",
"Gmercury2=sg*sw2\n",
"dmercury=sg*dwater\n",
"dmercury2=sg*dwater2\n",
"//Results\n",
"printf('Density of water = %.2f slugs/ft^3',dwater)\n",
"printf('\n Density of water = %.2f g/ml',dwater2)\n",
"printf('\n Density of mercury = %.1f slugs/ft^3',dmercury)\n",
"printf('\n Density of mercury = %.2f kN/m^3',dmercury2)\n",
"printf('\n Specific weight of mercury = %d lb/ft^3',Gmercury+1)\n",
"printf('\n Specific weight of mercury = %d kN/m^3',Gmercury2+1)"
   ]
   }
,
{
		   "cell_type": "markdown",
		   "metadata": {},
		   "source": [
			"## Example 1.2: Example_2.sce"
		   ]
		  },
  {
"cell_type": "code",
	   "execution_count": null,
	   "metadata": {
	    "collapsed": true
	   },
	   "outputs": [],
"source": [
"clc\n",
"//Initialization of variables\n",
"T=460+100 //R\n",
"P=15 //psia\n",
"MW=32 //lb\n",
"g=32.2//ft/s^2\n",
"ratio=0.4\n",
"//Calculations\n",
"R=49710/32\n",
"d=P*144/(R*T)\n",
"Gamma=d*g\n",
"volume=1/d\n",
"P2=P*(1/ratio)^1.4\n",
"P2f=P2*144\n",
"T2=P2f*ratio/(d*R) -460\n",
"P3=P/ratio\n",
"//Results\n",
"printf('part a')\n",
"printf('\n Density of oxygen = %.5f slug/ft^3',d)\n",
"printf('\n Specific weight of oxygen = %.2f lb/ft^3',Gamma)\n",
"printf('\n Specific volume of oxygen = %d ft^3/slug',volume+1)\n",
"printf('\n part b')\n",
"printf('\n Final pressure of oxygen = %.1f psia ',P2)\n",
"printf('\n Final Temperature of oxygen = %d F ',T2+2)\n",
"printf('\n part 3')\n",
"printf('\n Final pressure of oxygen = %.1f psia ',P3)\n",
"printf('\n Final Temperature of oxygen = %d F ',T-460)"
   ]
   }
,
{
		   "cell_type": "markdown",
		   "metadata": {},
		   "source": [
			"## Example 1.3: Example_3.sce"
		   ]
		  },
  {
"cell_type": "code",
	   "execution_count": null,
	   "metadata": {
	    "collapsed": true
	   },
	   "outputs": [],
"source": [
"clc\n",
"//Initialization of variables\n",
"P=600*1000 //N/m^2\n",
"T=25//C\n",
"M=71 //Kg\n",
"//Calculations\n",
"R=8312/M\n",
"d=P/(R*(273+T))\n",
"Gamma=d*9.81\n",
"v=1/d\n",
"printf('Density of chlorine = %.1f kg/m^3',d)\n",
"printf('\n Specific weight of chlorine = %d N/m^3',Gamma+1)\n",
"printf('\n Specific volume of chlorine = %.3f m^3/Kg',v)"
   ]
   }
],
"metadata": {
		  "kernelspec": {
		   "display_name": "Scilab",
		   "language": "scilab",
		   "name": "scilab"
		  },
		  "language_info": {
		   "file_extension": ".sce",
		   "help_links": [
			{
			 "text": "MetaKernel Magics",
			 "url": "https://github.com/calysto/metakernel/blob/master/metakernel/magics/README.md"
			}
		   ],
		   "mimetype": "text/x-octave",
		   "name": "scilab",
		   "version": "0.7.1"
		  }
		 },
		 "nbformat": 4,
		 "nbformat_minor": 0
}
