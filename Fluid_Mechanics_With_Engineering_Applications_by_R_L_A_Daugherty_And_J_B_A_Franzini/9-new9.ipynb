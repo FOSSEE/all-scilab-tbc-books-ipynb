{
"cells": [
 {
		   "cell_type": "markdown",
	   "metadata": {},
	   "source": [
       "# Chapter 9: new9"
	   ]
	},
{
		   "cell_type": "markdown",
		   "metadata": {},
		   "source": [
			"## Example 9.1: Example_1.sce"
		   ]
		  },
  {
"cell_type": "code",
	   "execution_count": null,
	   "metadata": {
	    "collapsed": true
	   },
	   "outputs": [],
"source": [
"clc\n",
"//Initialization of variables\n",
"T2=30 //C\n",
"T1=20 //C\n",
"cv=716\n",
"m=15 //kg\n",
"cp=1003\n",
"//calculations\n",
"di=cv*(T2-T1)\n",
"dU=di*m\n",
"dh=cp*(T2-T1)\n",
"dH=dh*m\n",
"//results\n",
"printf('Change in Internal energy = %d N m',dU)\n",
"printf('\n Change in Enthalpy = %d Nm',dH)"
   ]
   }
,
{
		   "cell_type": "markdown",
		   "metadata": {},
		   "source": [
			"## Example 9.2: Example_2.sce"
		   ]
		  },
  {
"cell_type": "code",
	   "execution_count": null,
	   "metadata": {
	    "collapsed": true
	   },
	   "outputs": [],
"source": [
"clc\n",
"//Initialization of variables\n",
"cv=716\n",
"m=15 //kg\n",
"cp=1003\n",
"T1=20+273 //K\n",
"k=1.4\n",
"ratio=0.4\n",
"//calculations\n",
"T2=(T1)*(1/ratio)^(k-1)\n",
"P1=95 //kN/m^2\n",
"P2=P1*T2/(T1)/ratio\n",
"di=cv*(T2-T1)\n",
"dU=di*m\n",
"dh=cp*(T2-T1)\n",
"dH=dh*m\n",
"//results\n",
"printf('Final temperature = %d K',T2)\n",
"printf('\n Final pressure = %d kN/m^2',P2)\n",
"printf('\n Change in Internal energy = %d N m',dU)\n",
"printf('\n Change in Enthalpy = %d Nm',dH)\n",
"//The answers are a bit different due to rounding off error."
   ]
   }
,
{
		   "cell_type": "markdown",
		   "metadata": {},
		   "source": [
			"## Example 9.3: Example_3.sce"
		   ]
		  },
  {
"cell_type": "code",
	   "execution_count": null,
	   "metadata": {
	    "collapsed": true
	   },
	   "outputs": [],
"source": [
"clc\n",
"//Initialization of variables\n",
"k=1.4\n",
"R=1773\n",
"v=600 //fps\n",
"T=660 //K\n",
"P=100 //psia\n",
"cp=6210\n",
"g=32.2\n",
"//calculations\n",
"c=sqrt(k*R*T)\n",
"M=v/c\n",
"rho=k*P*144/c^2\n",
"Ps=P*144 + 0.5*(rho)*v^2 *(1+ 0.25*M^2)\n",
"Ts= (cp/g *T + v^2 /(2*g))*g/cp\n",
"//results\n",
"printf('Stagnation pressure = %d lb/ft^2',Ps)\n",
"printf('\n Stagnation temperature = %d R',Ts)\n",
"disp('Please check the units of the answer.')"
   ]
   }
,
{
		   "cell_type": "markdown",
		   "metadata": {},
		   "source": [
			"## Example 9.4: Example_4.sce"
		   ]
		  },
  {
"cell_type": "code",
	   "execution_count": null,
	   "metadata": {
	    "collapsed": true
	   },
	   "outputs": [],
"source": [
"clc\n",
"//Initialization of variables\n",
"g=32.2\n",
"A=0.0218 //ft^2\n",
"P1=25.6 //psia\n",
"T1=540 //K\n",
"k=1.4\n",
"R=1715\n",
"//calculations\n",
"G=g*A*P1*144/sqrt(T1) *sqrt(k/R *(2/(k+1))^((k+1)/(k-1)))\n",
"//results\n",
"printf('Flow rate  = %.2f lb/s',G)"
   ]
   }
,
{
		   "cell_type": "markdown",
		   "metadata": {},
		   "source": [
			"## Example 9.5: Example_5.sce"
		   ]
		  },
  {
"cell_type": "code",
	   "execution_count": null,
	   "metadata": {
	    "collapsed": true
	   },
	   "outputs": [],
"source": [
"clc\n",
"//Initialization of variables\n",
"P1=50 //psia\n",
"T1=540 //K\n",
"g=32.2\n",
"R=1715\n",
"k=1.4\n",
"P3=13.5 //psia\n",
"A2=0.0218 //ft^2\n",
"cp=6000\n",
"//calculations\n",
"Pc=0.528*P1\n",
"V32=R*T1/g *k/(k-1) *(1- (P3/P1)^((k-1)/k))\n",
"V3=sqrt(V32*2*g)\n",
"G3=g*A2*P1*144/sqrt(T1) *sqrt(k/R *(2/(k+1))^((k+1)/(k-1)))\n",
"T3= T1 - V3^2 /(2*cp) \n",
"gam3= g*P3*144/(R*T3)\n",
"gam2= (Pc/P3 *gam3^k )^(1/k)\n",
"V2=G3/gam2/A2\n",
"T2= (V3^2 -V2^2)/(2*cp) + T3\n",
"A3=G3/gam3/V3\n",
"D3= sqrt(4/%pi *A3)\n",
"G2=G3\n",
"//results\n",
"printf('\n velocity at section 3 = %d fps',V3)\n",
"printf('\n Flow rate at section 3 = %.3f lb/s',G3)\n",
"printf('\n temperature at section 3  = %d R',T3)\n",
"printf('\n velocity at section 2 = %d fps',V2)\n",
"printf('\n Flow rate at section 2 = %.3f lb/s',G2)\n",
"printf('\n temperature at section 2  = %d R',T2)\n",
"printf('\n Required Diameter = %.2f in',D3*12)"
   ]
   }
,
{
		   "cell_type": "markdown",
		   "metadata": {},
		   "source": [
			"## Example 9.6: Example_6.sce"
		   ]
		  },
  {
"cell_type": "code",
	   "execution_count": null,
	   "metadata": {
	    "collapsed": true
	   },
	   "outputs": [],
"source": [
"clc\n",
"//Initialization of variables\n",
"P1=10 //psia\n",
"T1=460+40 //R\n",
"R=1715\n",
"k=1.4\n",
"V1=1400 //fps\n",
"//calculations\n",
"rho1=P1/(R*T1)\n",
"c1=sqrt(k*R*T1)\n",
"M1=V1/c1\n",
"P2= P1 * (2*k*M1^2  - (k-1))/(k+1)\n",
"V2 =V1*((k-1)*M1^2 +2)/((k+1)*M1^2) \n",
"rho2=rho1*V1/V2\n",
"T2=P2/rho2/R\n",
"P22=122.5\n",
"V22=286\n",
"T22=328\n",
"//results\n",
"printf('Pressure at point 2 = %.1f psia and %.1f N/m^2',P2,P22)\n",
"printf('\n Velocity at point 2 = %d fps and %d m/s',V2,V22)\n",
"printf('\n Temperature at point 2 = %d R and %d K',T2,T22)\n",
"disp('Similarly it can be done for SI units')"
   ]
   }
,
{
		   "cell_type": "markdown",
		   "metadata": {},
		   "source": [
			"## Example 9.7: Example_7.sce"
		   ]
		  },
  {
"cell_type": "code",
	   "execution_count": null,
	   "metadata": {
	    "collapsed": true
	   },
	   "outputs": [],
"source": [
"clc\n",
"//Initialization of variables\n",
"A=140 //in^2\n",
"P=48 //lb/in^2\n",
"mu=3.78*10^-7\n",
"g=32.2\n",
"G=100 //lb/s\n",
"p=80 //lb/in^2\n",
"T=65+460 //R\n",
"k=1.4\n",
"R=1715\n",
"//calculations\n",
"Rh=A/P /12\n",
"R1=G*4*Rh/ (mu*g*A/144)\n",
"R2=R1\n",
"f=0.0083\n",
"gam1=p*g*144/(R*T)\n",
"V1=G*144/gam1/A\n",
"c=sqrt(k*R*T)\n",
"M1=V1/c\n",
"M2=1/sqrt(k)\n",
"D=4*Rh\n",
"L= ((1-M1^2 /M2^2)/(k*M1^2) - 2*log(M2/M1) )*D/f\n",
"Ln=500 //ft\n",
"P2=sqrt((p*144)^2 - G^2 *R*T/(g^2 *(A/144)^2 *f*Ln/D))\n",
"Pa=12.2\n",
"//results\n",
"printf('Max. length = %d ft',L)\n",
"printf('\n Pressure required = %.1f psia',P2/144 -Pa)"
   ]
   }
,
{
		   "cell_type": "markdown",
		   "metadata": {},
		   "source": [
			"## Example 9.8: Example_8.sce"
		   ]
		  },
  {
"cell_type": "code",
	   "execution_count": null,
	   "metadata": {
	    "collapsed": true
	   },
	   "outputs": [],
"source": [
"clc\n",
"//Initialization of variables\n",
"G=100 //lb/s\n",
"g=32.2\n",
"V2=300 //fps\n",
"V1=250 //fps\n",
"//calculations\n",
"Qh= (V2^2 -V1^2)/(2*g)\n",
"Q=Qh*G\n",
"//results\n",
"printf('Thermal energy added = %d ft lb/s',Q)"
   ]
   }
,
{
		   "cell_type": "markdown",
		   "metadata": {},
		   "source": [
			"## Example 9.9: Example_9.sce"
		   ]
		  },
  {
"cell_type": "code",
	   "execution_count": null,
	   "metadata": {
	    "collapsed": true
	   },
	   "outputs": [],
"source": [
"clc\n",
"//Initialization of variables\n",
"gam1=0.41\n",
"g=32.2\n",
"V1=250 //fps\n",
"R1=8.2*10^6\n",
"f=0.0083\n",
"A=0.97 //ft^2\n",
"G=100 //lb/s\n",
"k=1.4\n",
"P=80 //lb/in^2\n",
"ratio=0.8\n",
"R=1715\n",
"//calculations\n",
"rho1=gam1/g\n",
"X = G^2 /(gam1*A)^2 + 2*k/(k-1) *(P*144/rho1)\n",
"P2=(k-1)/2/k *(X*ratio*rho1 - G^2 /(g^2 *A^2 *ratio*rho1))\n",
"L=563 //ft\n",
"rho2=ratio*rho1\n",
"V2=G/(rho2*g*A)\n",
"T2=P2/(rho2*R)\n",
"//results\n",
"printf('Length = %d ft',L)\n",
"printf('\n velocity = %d fps',V2)\n",
"printf('\n Temperature = %d R',T2)"
   ]
   }
],
"metadata": {
		  "kernelspec": {
		   "display_name": "Scilab",
		   "language": "scilab",
		   "name": "scilab"
		  },
		  "language_info": {
		   "file_extension": ".sce",
		   "help_links": [
			{
			 "text": "MetaKernel Magics",
			 "url": "https://github.com/calysto/metakernel/blob/master/metakernel/magics/README.md"
			}
		   ],
		   "mimetype": "text/x-octave",
		   "name": "scilab",
		   "version": "0.7.1"
		  }
		 },
		 "nbformat": 4,
		 "nbformat_minor": 0
}
