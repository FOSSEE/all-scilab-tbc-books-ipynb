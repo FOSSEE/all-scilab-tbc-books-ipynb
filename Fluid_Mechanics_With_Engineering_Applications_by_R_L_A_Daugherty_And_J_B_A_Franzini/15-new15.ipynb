{
"cells": [
 {
		   "cell_type": "markdown",
	   "metadata": {},
	   "source": [
       "# Chapter 15: new15"
	   ]
	},
{
		   "cell_type": "markdown",
		   "metadata": {},
		   "source": [
			"## Example 15.1: Example_1.sce"
		   ]
		  },
  {
"cell_type": "code",
	   "execution_count": null,
	   "metadata": {
	    "collapsed": true
	   },
	   "outputs": [],
"source": [
"clc\n",
"//Initialization of variables\n",
"z2=500//ft\n",
"z1=300//ft\n",
"D=[1 1.5 2 2.5 3 4 6]\n",
"g=32.2\n",
"gam=62.4\n",
"//calculations\n",
"Dj=D/12\n",
"Vj=sqrt((z2-z1)*2*g./(1.04 + 640.*Dj.^4))\n",
"Aj=%pi/4 *Dj.^2\n",
"Q=Aj.*Vj\n",
"Pjet=gam*Q.*Vj.^2 /(2*g) /550\n",
"Pj=max(Pjet)\n",
"for i=1:length(Pjet)\n",
"    if(Pjet(i) ==Pj)\n",
"        break\n",
"    end\n",
"end\n",
"diameter=D(i)\n",
"//results\n",
"printf('Thus a pipe of %d in will be the optimum',diameter)"
   ]
   }
,
{
		   "cell_type": "markdown",
		   "metadata": {},
		   "source": [
			"## Example 15.2: Example_2.sce"
		   ]
		  },
  {
"cell_type": "code",
	   "execution_count": null,
	   "metadata": {
	    "collapsed": true
	   },
	   "outputs": [],
"source": [
"clc\n",
"//Initialization of variables\n",
"phi=0.46\n",
"g=32.2\n",
"k=0.44\n",
"cv=0.98\n",
"d=10 //in\n",
"A=0.545 //ft^2\n",
"beta=160 //degrees\n",
"//calculations\n",
"u=phi*sqrt(2*g)\n",
"V1=cv*sqrt(2*g)\n",
"gQ=62.4*A*V1\n",
"T=d/2 *gQ/g *(1 -cosd(beta) /sqrt(1+k) )*sqrt(2*g)*(cv-phi)\n",
"Power=T*2*u/d\n",
"//results\n",
"printf('Torque required = %d ft lb',T)\n",
"printf('\n Power transferred = %d ft lb/s',Power)\n",
"Pi=gQ\n",
"He=Power/Pi\n",
"printf('\n Hydraulic efficiency = %.2f',He)\n",
"v1=V1-u\n",
"v2=v1/(sqrt(1+k))\n",
"hl=k*v2^2 /(2*g)\n",
"printf('Head loss in bucket friction = %.4f',hl*100)\n",
"Hn=(1/cv^2 -1)*V1^2 /(2*g)\n",
"printf('\n Head loss in  nozzle = %.4f',Hn*100)\n",
"V2cos=u+v2*cosd(beta)\n",
"V2sin=v2*sind(beta)\n",
"alpha=acot(V2cos/V2sin)\n",
"V2=V2sin/sin(alpha)\n",
"Hd=V2^2/(2*g)\n",
"printf('\n Head loss at discharge = %.2f',Hd*100)\n",
"Htotal=Hd+Hn+hl\n",
"printf('\n Total head loss = %.2f',Htotal*100)"
   ]
   }
,
{
		   "cell_type": "markdown",
		   "metadata": {},
		   "source": [
			"## Example 15.3_a: Example_3.sce"
		   ]
		  },
  {
"cell_type": "code",
	   "execution_count": null,
	   "metadata": {
	    "collapsed": true
	   },
	   "outputs": [],
"source": [
"clc\n",
"//Initialization of variables\n",
"cv=0.98\n",
"g=32.2\n",
"h=1320 //ft\n",
"A=0.196 //ft^2\n",
"eta=0.85\n",
"ne=400\n",
"phi=0.45\n",
"//calculations\n",
"V=cv*sqrt(2*g*h)\n",
"Q=A*V\n",
"bhp=eta*62.4*Q*h/550\n",
"ns=ne*sqrt(bhp) /h^(5/4)\n",
"u=phi*sqrt(2*g*h)\n",
"D=u*60/%pi/ne\n",
"//results\n",
"printf('Pitch diameter = %.2f ft',D)"
   ]
   }
,
{
		   "cell_type": "markdown",
		   "metadata": {},
		   "source": [
			"## Example 15.3_b: Example_4.sce"
		   ]
		  },
  {
"cell_type": "code",
	   "execution_count": null,
	   "metadata": {
	    "collapsed": true
	   },
	   "outputs": [],
"source": [
"clc\n",
"//Initialization of variables\n",
"cv=0.98\n",
"g=32.2\n",
"h=1320 //ft\n",
"A=0.196 //ft^2\n",
"eta=0.85\n",
"ne=400\n",
"phi=0.45\n",
"//calculations\n",
"V=cv*sqrt(2*g*h)\n",
"Q=A*V/3\n",
"bhp=eta*62.4*Q*h/550\n",
"ne2=600\n",
"ns1=ne2*sqrt(bhp) /h^(5/4)\n",
"D=2500/ne2\n",
"Dj=sqrt(Q*4/V/%pi)\n",
"//results\n",
"printf('Jet diameter = %.3f ft',Dj)\n",
"printf('\n Specific speed = %.2f ',ns1)\n",
"printf('\n Pitch Diameter = %.2f ft',D)\n",
"printf('\n Operating speed = %d rpm',ne2)"
   ]
   }
],
"metadata": {
		  "kernelspec": {
		   "display_name": "Scilab",
		   "language": "scilab",
		   "name": "scilab"
		  },
		  "language_info": {
		   "file_extension": ".sce",
		   "help_links": [
			{
			 "text": "MetaKernel Magics",
			 "url": "https://github.com/calysto/metakernel/blob/master/metakernel/magics/README.md"
			}
		   ],
		   "mimetype": "text/x-octave",
		   "name": "scilab",
		   "version": "0.7.1"
		  }
		 },
		 "nbformat": 4,
		 "nbformat_minor": 0
}
