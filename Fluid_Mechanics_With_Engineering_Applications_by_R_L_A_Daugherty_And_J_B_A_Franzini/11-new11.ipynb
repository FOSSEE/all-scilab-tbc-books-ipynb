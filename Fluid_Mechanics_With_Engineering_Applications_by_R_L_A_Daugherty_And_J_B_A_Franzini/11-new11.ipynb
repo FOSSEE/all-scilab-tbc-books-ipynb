{
"cells": [
 {
		   "cell_type": "markdown",
	   "metadata": {},
	   "source": [
       "# Chapter 11: new11"
	   ]
	},
{
		   "cell_type": "markdown",
		   "metadata": {},
		   "source": [
			"## Example 11.1: Example_1.sce"
		   ]
		  },
  {
"cell_type": "code",
	   "execution_count": null,
	   "metadata": {
	    "collapsed": true
	   },
	   "outputs": [],
"source": [
"clc\n",
"//Initialization of variables\n",
"y=3.4 //ft\n",
"n=0.016\n",
"//calculations\n",
"A=(10+2*y)*y\n",
"P=10+ 2*sqrt(5) *y\n",
"Rh=A/P\n",
"f=116*n^2 /Rh^(1/3)\n",
"e= 14.8*Rh/ 10^(1/2/sqrt(f))\n",
"//results\n",
"printf('absolute roughness of pipe = %.4f ft',e)"
   ]
   }
,
{
		   "cell_type": "markdown",
		   "metadata": {},
		   "source": [
			"## Example 11.2: Example_2.sce"
		   ]
		  },
  {
"cell_type": "code",
	   "execution_count": null,
	   "metadata": {
	    "collapsed": true
	   },
	   "outputs": [],
"source": [
"clc\n",
"//Initialization of variables\n",
"y=1.495 //ft\n",
"Q=14 //cfs\n",
"g=32.2\n",
"//calculations\n",
"yc=(Q^2 /g *2)^(1/5)\n",
"//results\n",
"printf('yc = %.2f ft is greater than uniform flow depth. Hence flow is supercritical',yc)"
   ]
   }
,
{
		   "cell_type": "markdown",
		   "metadata": {},
		   "source": [
			"## Example 11.3: Example_3.sce"
		   ]
		  },
  {
"cell_type": "code",
	   "execution_count": null,
	   "metadata": {
	    "collapsed": true
	   },
	   "outputs": [],
"source": [
"clc\n",
"//Initialization of variables\n",
"q=27/4\n",
"g=32.2\n",
"Q=27 //cfs\n",
"d=2 //ft\n",
"dz1=0.3 //ft\n",
"//calculations\n",
"yc=(q^2 /g)^(1/3)\n",
"V2=Q/(4*yc)\n",
"V1=Q/(4*d)\n",
"dz = d+ V1^2 /(2*g) - V2^2/(2*g) - yc\n",
"y2=1.6 //ft\n",
"drop = d-(y2+dz1)\n",
"dz2=0.6 //ft\n",
"up=2.12 //ft\n",
"down=0.66 //ft\n",
"//results\n",
"printf('yc = %.2f ft. Since, depth is greater than critical depth. the flow is subcritical',yc)\n",
"printf('\n Drop in water height = %.2f ft',drop)\n",
"printf('\n Drop upstream = %.2f ft and Downstream = %.2f ft',up,down)"
   ]
   }
,
{
		   "cell_type": "markdown",
		   "metadata": {},
		   "source": [
			"## Example 11.5: Example_5.sce"
		   ]
		  },
  {
"cell_type": "code",
	   "execution_count": null,
	   "metadata": {
	    "collapsed": true
	   },
	   "outputs": [],
"source": [
"clc\n",
"//Initialization of variables\n",
"y0=2.17 //ft\n",
"q=400/10 \n",
"g=32.2\n",
"d=4.8 //ft\n",
"S0=0.0016\n",
"//calculations\n",
"yc=(q^2 /g)^(1/3)\n",
"y2=y0/2 *(-1 + sqrt(1+ 8*q^2 /(g*y0^3)))\n",
"y1=d/2 *(-1 + sqrt(1+ 8*q^2/(g*d^3)))\n",
"E1=y0 + (q/yc)^2 /(2*g)\n",
"E2= y1+ (q/y1)^2 /(2*g)\n",
"Vm=0.5*(q/yc + q/y1)\n",
"Rm=0.5*(y0/1.434 + y1/1.552)\n",
"S=(0.013*Vm/(1.49*Rm^(2/3)))^2\n",
"dx=(E1-E2)/(S-S0)\n",
"E1d=E2\n",
"E2d=d+ (q/4.8)^2 /(2*g)\n",
"HPl=62.4*q*10*(E1d-E2d)/550\n",
"//results\n",
"printf('Power loss = %.2f ',HPl)\n",
"//The answer is a bit different from the textbook due to rounding off error"
   ]
   }
,
{
		   "cell_type": "markdown",
		   "metadata": {},
		   "source": [
			"## Example 11.6: Example_6.sce"
		   ]
		  },
  {
"cell_type": "code",
	   "execution_count": null,
	   "metadata": {
	    "collapsed": true
	   },
	   "outputs": [],
"source": [
"clc\n",
"//Initialization of variables\n",
"y1=[1.5 1.48]\n",
"V1=[2.22 2.29]\n",
"d=1.2\n",
"//calculations\n",
"q=y1.*V1\n",
"V2=q/d\n",
"Vm=[2.5 2.56]\n",
"Rh1=[0.9 0.89]\n",
"Rh2=[0.88 0.78]\n",
"Rhm=(Rh1+Rh2)/2\n",
"S=(q.*Vm/ Rhm.^(2/3)).^2\n",
"dx=[358 226]\n",
"yavg=(y1(1) + y1(2))/2\n",
"qavg=(q(1) + q(2))/2\n",
"B=4.5\n",
"Q=qavg*B\n",
"//results\n",
"printf('Flow rate = %.1f m^3/s',Q)"
   ]
   }
],
"metadata": {
		  "kernelspec": {
		   "display_name": "Scilab",
		   "language": "scilab",
		   "name": "scilab"
		  },
		  "language_info": {
		   "file_extension": ".sce",
		   "help_links": [
			{
			 "text": "MetaKernel Magics",
			 "url": "https://github.com/calysto/metakernel/blob/master/metakernel/magics/README.md"
			}
		   ],
		   "mimetype": "text/x-octave",
		   "name": "scilab",
		   "version": "0.7.1"
		  }
		 },
		 "nbformat": 4,
		 "nbformat_minor": 0
}
