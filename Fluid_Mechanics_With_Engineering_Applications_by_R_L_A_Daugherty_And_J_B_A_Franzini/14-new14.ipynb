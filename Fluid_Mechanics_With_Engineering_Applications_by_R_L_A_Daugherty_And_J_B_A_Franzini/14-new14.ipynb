{
"cells": [
 {
		   "cell_type": "markdown",
	   "metadata": {},
	   "source": [
       "# Chapter 14: new14"
	   ]
	},
{
		   "cell_type": "markdown",
		   "metadata": {},
		   "source": [
			"## Example 14.1_a: Example_1.sce"
		   ]
		  },
  {
"cell_type": "code",
	   "execution_count": null,
	   "metadata": {
	    "collapsed": true
	   },
	   "outputs": [],
"source": [
"clc\n",
"//Initialization of variables\n",
"g=9.81 //kN/m^3\n",
"Q=3.2 //m^3/s\n",
"h=25 //m\n",
"eta=0.82\n",
"//calculations\n",
"bp= g*Q*h/eta\n",
"//results\n",
"printf('Brake power = %d kW',bp)"
   ]
   }
,
{
		   "cell_type": "markdown",
		   "metadata": {},
		   "source": [
			"## Example 14.1_b: Example_2.sce"
		   ]
		  },
  {
"cell_type": "code",
	   "execution_count": null,
	   "metadata": {
	    "collapsed": true
	   },
	   "outputs": [],
"source": [
"clc\n",
"//Initialization of variables\n",
"D1=50\n",
"n1=1450\n",
"n2=1200\n",
"D2=80\n",
"Q1=3.2 //cfs\n",
"h1=25 //m\n",
"g=9.81 //kN/m^3\n",
"eta=0.82\n",
"//calculations\n",
"h2=h1*(D2/D1)^2 *(n2/n1)^2\n",
"Q2=Q1*(D2/D1)^3 *(n2/n1)\n",
"bp=g*Q2*h2/eta\n",
"h1=82 //ft\n",
"Q1=50700 //gpm\n",
"h2=143.8 //ft\n",
"Q2=171800 //gpm\n",
"Ns1=n1*sqrt(Q1) /h1^(3/4) \n",
"Ns2=n2*sqrt(Q2) /h2^(3/4) \n",
"//results\n",
"printf('Brake power = %d kW',bp)\n",
"printf('\n Pumps are homologous. We expect them to have same specific speed and their speeds are %.1f and %.1f',Ns1,Ns2)\n",
"disp('14.1c is included in this example itself')"
   ]
   }
],
"metadata": {
		  "kernelspec": {
		   "display_name": "Scilab",
		   "language": "scilab",
		   "name": "scilab"
		  },
		  "language_info": {
		   "file_extension": ".sce",
		   "help_links": [
			{
			 "text": "MetaKernel Magics",
			 "url": "https://github.com/calysto/metakernel/blob/master/metakernel/magics/README.md"
			}
		   ],
		   "mimetype": "text/x-octave",
		   "name": "scilab",
		   "version": "0.7.1"
		  }
		 },
		 "nbformat": 4,
		 "nbformat_minor": 0
}
