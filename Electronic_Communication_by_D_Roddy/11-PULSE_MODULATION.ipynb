{
"cells": [
 {
		   "cell_type": "markdown",
	   "metadata": {},
	   "source": [
       "# Chapter 11: PULSE MODULATION"
	   ]
	},
{
		   "cell_type": "markdown",
		   "metadata": {},
		   "source": [
			"## Example 11.3_1: example_1.sce"
		   ]
		  },
  {
"cell_type": "code",
	   "execution_count": null,
	   "metadata": {
	    "collapsed": true
	   },
	   "outputs": [],
"source": [
"clc;\n",
"//page no 392\n",
"//prob no. 11.3.1\n",
"//PCM system with SNR=40dB & rms peak ratio=-10\n",
"SNR=40;\n",
"//a)Determination of no. of bits/code\n",
"n=(SNR-(10*log10(3))-(-10))/(20*log10(2));\n",
"disp(n,'The no. of bits per code word is');\n",
"disp('Rounded off ','=8');"
   ]
   }
,
{
		   "cell_type": "markdown",
		   "metadata": {},
		   "source": [
			"## Example 11.3_2: example_2.sce"
		   ]
		  },
  {
"cell_type": "code",
	   "execution_count": null,
	   "metadata": {
	    "collapsed": true
	   },
	   "outputs": [],
"source": [
"clc;\n",
"//page no 393\n",
"//prob no. 11.3.2\n",
"//A telephone signal wih cut off freq=4kHz digitzed into 8-bit at nyquist sampling rate fs=2W\n",
"q=1;W=4*10^3;n=8;\n",
"//a)Determination of Tx Bandwidth\n",
"B=(1+q)*W*n;\n",
"disp('Hz',B,'a)The transmission BW is');\n",
"//b)Determination of quantization S/N ratio\n",
"SN_dB=6*n;\n",
"disp('dB',SN_dB,'b)The quantization S/N ration is'); "
   ]
   }
],
"metadata": {
		  "kernelspec": {
		   "display_name": "Scilab",
		   "language": "scilab",
		   "name": "scilab"
		  },
		  "language_info": {
		   "file_extension": ".sce",
		   "help_links": [
			{
			 "text": "MetaKernel Magics",
			 "url": "https://github.com/calysto/metakernel/blob/master/metakernel/magics/README.md"
			}
		   ],
		   "mimetype": "text/x-octave",
		   "name": "scilab",
		   "version": "0.7.1"
		  }
		 },
		 "nbformat": 4,
		 "nbformat_minor": 0
}
