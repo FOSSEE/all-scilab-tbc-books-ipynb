{
"cells": [
 {
		   "cell_type": "markdown",
	   "metadata": {},
	   "source": [
       "# Chapter 16: ANTENNAS"
	   ]
	},
{
		   "cell_type": "markdown",
		   "metadata": {},
		   "source": [
			"## Example 16.19_1: example_3.sce"
		   ]
		  },
  {
"cell_type": "code",
	   "execution_count": null,
	   "metadata": {
	    "collapsed": true
	   },
	   "outputs": [],
"source": [
"clc;\n",
"//prob no. 16.19.1\n",
"// Paraboloida reflector antenna is given with\n",
"D=6;//reflector diameter in m\n",
"n=0.65;//illumination effeciency\n",
"f=10^10;//frequency of operation in Hz\n",
"c=3*10^8;//velo of light in m/s\n",
"wl=c/f;\n",
"A=(%pi*D^2)/4;\n",
"A_eff=n*A;\n",
"disp('m^2',A_eff,'Effective area is');\n",
"D0=4*%pi*A_eff/wl^2;\n",
"disp(D0,'The directivity is');\n",
"BW_dB=70*wl/D;\n",
"disp('degree',BW_dB,'The -3dB beamwidth is');\n",
"BW_null=2*BW_dB;\n",
"disp('degree',BW_null,'The null beamwidth is');"
   ]
   }
,
{
		   "cell_type": "markdown",
		   "metadata": {},
		   "source": [
			"## Example 16.7_2: example_1.sce"
		   ]
		  },
  {
"cell_type": "code",
	   "execution_count": null,
	   "metadata": {
	    "collapsed": true
	   },
	   "outputs": [],
"source": [
"clc;\n",
"//page no 590\n",
"//prob no. 16.7.2\n",
"//For the Hertzian dipole, the radiation pattern is described by g(x)=sin^2(x) and g(y)=1\n",
"// Determination of -3dB beamwidth\n",
"// from the polar diagram shown we have\n",
"g_x=0.5;\n",
"x=asind(sqrt(g_x));\n",
"g_y=0.5;\n",
"y1=asind(sqrt(g_y));\n",
"y=y1+90;\n",
"//Therefore\n",
"z=y-x;\n",
"disp('degree',z,'The -3dB beamwidth is');"
   ]
   }
,
{
		   "cell_type": "markdown",
		   "metadata": {},
		   "source": [
			"## Example 16.9_1: example_2.sce"
		   ]
		  },
  {
"cell_type": "code",
	   "execution_count": null,
	   "metadata": {
	    "collapsed": true
	   },
	   "outputs": [],
"source": [
"clc;\n",
"//prob no. 16.9.1\n",
"//Half dipole antenna is given with I=Io*cos(Bl) where l=0\n",
"//The physical length of the antenna is wl/2\n",
"//consider wl=unity and current Io=unity\n",
"Io=1;\n",
"wl=1;\n",
"phy_length=wl/2;\n",
"I_av=2*Io/%pi;\n",
"//Thus area is given as \n",
"Area=I_av*phy_length;\n",
"// From the above eq l_effective is given as\n",
"disp('l_eff= wl/pi');"
   ]
   }
],
"metadata": {
		  "kernelspec": {
		   "display_name": "Scilab",
		   "language": "scilab",
		   "name": "scilab"
		  },
		  "language_info": {
		   "file_extension": ".sce",
		   "help_links": [
			{
			 "text": "MetaKernel Magics",
			 "url": "https://github.com/calysto/metakernel/blob/master/metakernel/magics/README.md"
			}
		   ],
		   "mimetype": "text/x-octave",
		   "name": "scilab",
		   "version": "0.7.1"
		  }
		 },
		 "nbformat": 4,
		 "nbformat_minor": 0
}
