{
"cells": [
 {
		   "cell_type": "markdown",
	   "metadata": {},
	   "source": [
       "# Chapter 18: FACSIMILE AND TELEVISION"
	   ]
	},
{
		   "cell_type": "markdown",
		   "metadata": {},
		   "source": [
			"## Example 18.2_1: example_1.sce"
		   ]
		  },
  {
"cell_type": "code",
	   "execution_count": null,
	   "metadata": {
	    "collapsed": true
	   },
	   "outputs": [],
"source": [
"clc;\n",
"// page no 671\n",
"// prob no 18_2_1\n",
"//A drum of facsimile machine with diameter=70.4mm & scanning pitch=0.2mm/scan\n",
"D=70.4;P=0.2;\n",
"//Determination of index of co-operation \n",
"IOC_CCITT=D/P;\n",
"IOC_IEEE=IOC_CCITT*(%pi);\n",
"disp(IOC_IEEE,'The index of co-operation is');"
   ]
   }
,
{
		   "cell_type": "markdown",
		   "metadata": {},
		   "source": [
			"## Example 18.2_2: example_2.sce"
		   ]
		  },
  {
"cell_type": "code",
	   "execution_count": null,
	   "metadata": {
	    "collapsed": true
	   },
	   "outputs": [],
"source": [
"clc;\n",
"// page no 676\n",
"// prob no 18_2_2\n",
"//A drum scanner in eg.18.2.1 with pitch=0.26mm/line & diameter=68.4mm & drum rotate at 120rpm & scans lines=1075\n",
"D=68.4;P=0.26;rpm=120;n=1075;\n",
"//Determination of no. of pixels scan\n",
"Npx=(%pi)*(D/P);\n",
"disp('pixels/line',Npx,'The no. of pixels in scan line is');\n",
"//Determination of scan rate\n",
"Rs=rpm/60;\n",
"disp('lines/sec',Rs,'The scan rate is');\n",
"//Determination of pixel rate is \n",
"Rpx=Npx*Rs;\n",
"disp('pixels/sec',Rpx,'The pixel rate is');\n",
"f_max=Rpx/2;\n",
"//Determination of document Tx time\n",
"td=n/(60*Rs);\n",
"disp('min',td,'The document Transmission time is');"
   ]
   }
,
{
		   "cell_type": "markdown",
		   "metadata": {},
		   "source": [
			"## Example 18.3_1: example_3.sce"
		   ]
		  },
  {
"cell_type": "code",
	   "execution_count": null,
	   "metadata": {
	    "collapsed": true
	   },
	   "outputs": [],
"source": [
"clc;\n",
"//page no 693\n",
"//prob no. 18.3.1\n",
"a=(4/3);//aspect ratio\n",
"N=525;//no. of line periods per frame\n",
"Ns=40;//no. of suppressed lines\n",
"//Determination of no. of pixel periods in line period\n",
"Nv=N-Ns;\n",
"disp('lines',Nv,'The no. of pixel periods in line period is ');\n",
"//Determination of picture height and width\n",
"Nh=a*Nv;\n",
"disp('pixels',Nh,'The picture height is'); \n",
"Nl=(Nh/0.835);\n",
"disp('pixels',Nl,'The picture length is');"
   ]
   }
,
{
		   "cell_type": "markdown",
		   "metadata": {},
		   "source": [
			"## Example 18.3_2: example_4.sce"
		   ]
		  },
  {
"cell_type": "code",
	   "execution_count": null,
	   "metadata": {
	    "collapsed": true
	   },
	   "outputs": [],
"source": [
"clc;\n",
"//page no 694\n",
"//prob no. 18.3.2\n",
"//A TV system with\n",
"N=525;P=30;\n",
"//Determination of horizontal and vertical synchhronization freq.\n",
"fh=N*P;\n",
"disp('Hz',fh,'the horizontal freq. is ');\n",
"fv=2*P;\n",
"disp('Hz',fv,'the vertical freq. is ');\n",
"//Determination of time reqd to scan one line\n",
"Th=(1/fh);\n",
"disp('sec',Th,'the time reqd to scan one line is ');"
   ]
   }
,
{
		   "cell_type": "markdown",
		   "metadata": {},
		   "source": [
			"## Example 18.3_3: example_5.sce"
		   ]
		  },
  {
"cell_type": "code",
	   "execution_count": null,
	   "metadata": {
	    "collapsed": true
	   },
	   "outputs": [],
"source": [
"clc;\n",
"//page no 695\n",
"//prob no. 18.3.3\n",
"//U.S. NTSC is given \n",
"//refer example 18.3.2\n",
"fh=15750;Nl=775;\n",
"//Determination of video bandwidth\n",
"Bv=0.35*fh*Nl;\n",
"disp('Hz',Bv,'the band width is');"
   ]
   }
,
{
		   "cell_type": "markdown",
		   "metadata": {},
		   "source": [
			"## Example 18.7_1: example_6.sce"
		   ]
		  },
  {
"cell_type": "code",
	   "execution_count": null,
	   "metadata": {
	    "collapsed": true
	   },
	   "outputs": [],
"source": [
"clc;\n",
"//page no 706\n",
"//prob no. 18.7.1\n",
"//refer example 18.3.1\n",
"a=4/3;//aspect ratio\n",
"D=48.26*10^-2;//CRT tube diagonal\n",
"Nh=647;\n",
"H=sqrt((a^2)*(D^2)/(1+a^2));\n",
"//Determination of viewing angle & minimum dist. \n",
"w=H/Nh;\n",
"theta=Nh*(1/60);//As each pixel subtend 1 minute of arc\n",
"disp('degree',theta,'The viewing angle is');\n",
"X=H/(2*tand(theta/2));\n",
"disp('m',X,'The min. viewing dist is');"
   ]
   }
,
{
		   "cell_type": "markdown",
		   "metadata": {},
		   "source": [
			"## Example 18.7_2: example_7.sce"
		   ]
		  },
  {
"cell_type": "code",
	   "execution_count": null,
	   "metadata": {
	    "collapsed": true
	   },
	   "outputs": [],
"source": [
"clc;\n",
"//page no 707\n",
"//prob no. 18.7.2\n",
"//HDTV system is given\n",
"//Refer example 18.7.1\n",
"a=16/9;D=1.40;Nh=1840;//Assuming square pixel\n",
"H=sqrt((a^2)*(D^2)/(1+a^2));\n",
"//Determination of viewing angle\n",
"theta=Nh*(1/60);\n",
"disp('degree',theta,'The viewing angle is');\n",
"//Determination of viewing dist\n",
"X=H/(2*tand(theta/2));\n",
"disp('m',X,'The viewing dist is');"
   ]
   }
],
"metadata": {
		  "kernelspec": {
		   "display_name": "Scilab",
		   "language": "scilab",
		   "name": "scilab"
		  },
		  "language_info": {
		   "file_extension": ".sce",
		   "help_links": [
			{
			 "text": "MetaKernel Magics",
			 "url": "https://github.com/calysto/metakernel/blob/master/metakernel/magics/README.md"
			}
		   ],
		   "mimetype": "text/x-octave",
		   "name": "scilab",
		   "version": "0.7.1"
		  }
		 },
		 "nbformat": 4,
		 "nbformat_minor": 0
}
