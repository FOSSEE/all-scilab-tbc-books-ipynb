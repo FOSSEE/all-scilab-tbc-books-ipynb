{
"cells": [
 {
		   "cell_type": "markdown",
	   "metadata": {},
	   "source": [
       "# Chapter 20: Fiber Optic Communication"
	   ]
	},
{
		   "cell_type": "markdown",
		   "metadata": {},
		   "source": [
			"## Example 20.2_1: example_1.sce"
		   ]
		  },
  {
"cell_type": "code",
	   "execution_count": null,
	   "metadata": {
	    "collapsed": true
	   },
	   "outputs": [],
"source": [
"clc;\n",
"// page no 753\n",
"// prob no 20.2.1\n",
"// An optic fiber is made of glass with following details\n",
"n1=1.55;//RI of glass\n",
"n2=1.51;//RI of clad\n",
"// NA of the fibe is given as\n",
"NA=n1*sqrt(2*(n1-n2)/n1);\n",
"disp(NA,'The numerical aperture is');\n",
"// Acceptance angle is given as\n",
"acc_angle=asind(NA);\n",
"disp(acc_angle,'The acceptance angle is');"
   ]
   }
,
{
		   "cell_type": "markdown",
		   "metadata": {},
		   "source": [
			"## Example 20.2_2: example_2.sce"
		   ]
		  },
  {
"cell_type": "code",
	   "execution_count": null,
	   "metadata": {
	    "collapsed": true
	   },
	   "outputs": [],
"source": [
"clc;\n",
"//page no 761\n",
"//prob no. 20.2.2\n",
"//refer example 20.2.1\n",
"d=50*10^-6;wav=0.8*10^-6;NA=0.352;\n",
"//Determination of V number\n",
"V=(%pi)*d*NA/wav\n",
"disp(V,'the V no. is');\n",
"//Determination of approximate number of modes\n",
"N=(V^2)/2;\n",
"disp(N,'the approximate no. of modes are ');"
   ]
   }
,
{
		   "cell_type": "markdown",
		   "metadata": {},
		   "source": [
			"## Example 20.2_3: example_3.sce"
		   ]
		  },
  {
"cell_type": "code",
	   "execution_count": null,
	   "metadata": {
	    "collapsed": true
	   },
	   "outputs": [],
"source": [
"clc;\n",
"//page no 763\n",
"//prob no. 20.2.3\n",
"d=5*10^-6;wave=1.3*10^-6;NA=0.35;\n",
"//Determination of V no.\n",
"V=(%pi)*d*NA/wave;\n",
"disp(V,'the v no. is' );\n",
"disp('from the table it is seen that 6 modes have cut off v less than 4.23 ');"
   ]
   }
,
{
		   "cell_type": "markdown",
		   "metadata": {},
		   "source": [
			"## Example 20.2_4: example_4.sce"
		   ]
		  },
  {
"cell_type": "code",
	   "execution_count": null,
	   "metadata": {
	    "collapsed": true
	   },
	   "outputs": [],
"source": [
"clc;\n",
"//page no 762\n",
"//prob no. 20.2.4\n",
"//refer example 20.2.3\n",
"a=2;//gradding profile index\n",
"V=69.1;//normalized cutoff freq.\n",
"N=2390;//number of modes supported as a step index fiber \n",
"//Determination of no. of modes supported by graded index fiber\n",
"N_a=(N*a)/(a+2);\n",
"disp(N_a,'no. of modes supported by graded index fiber');"
   ]
   }
,
{
		   "cell_type": "markdown",
		   "metadata": {},
		   "source": [
			"## Example 20.2_5: example_5.sce"
		   ]
		  },
  {
"cell_type": "code",
	   "execution_count": null,
	   "metadata": {
	    "collapsed": true
	   },
	   "outputs": [],
"source": [
"clc;\n",
"//page no 763\n",
"//prob no. 20.2.5\n",
"d=10*10^-6;wav=1.3*10^-6;n1=1.55;V_max=2.405clc;\n",
"//page no 762\n",
"//prob no. 20.2.4\n",
"NA_max=(V_max*wave)/(%pi*d);\n",
"//a)Dtermination of maximum normailized index difference\n",
"del=(1/2)*(NA/n1)^2;\n",
"disp(del,'a)the normilized index difference is');\n",
"//b)Determination of reffactive index of claddin glass\n",
"n2=n1*(1-del);\n",
"disp(n2,'b)cladding index required is');\n",
"//Determination of the fiber acceptance angle \n",
"theta_max=asind(NA);\n",
"disp(theta_max,'the max acceptance angle is');"
   ]
   }
,
{
		   "cell_type": "markdown",
		   "metadata": {},
		   "source": [
			"## Example 20.3_1: example_6.sce"
		   ]
		  },
  {
"cell_type": "code",
	   "execution_count": null,
	   "metadata": {
	    "collapsed": true
	   },
	   "outputs": [],
"source": [
"clc;\n",
"//page no \n",
"//prob no. 20.3.1\n",
"//A silica fiber with \n",
"A_max=25;A1=2;A2=0.3;\n",
"//a)Determination of repeater dist at 0.9um wavelength\n",
"z1=A_max/A1;\n",
"disp('km',z1,'a)the repeater dist for 0.9um wavelength is');\n",
"//b)Determination of repeater dist at 1.5um wavelength\n",
"z2=A_max/A2;\n",
"disp('km',z2,'a)the repeater dist for 1.5um wavelength is');"
   ]
   }
,
{
		   "cell_type": "markdown",
		   "metadata": {},
		   "source": [
			"## Example 20.4_1: example_7.sce"
		   ]
		  },
  {
"cell_type": "code",
	   "execution_count": null,
	   "metadata": {
	    "collapsed": true
	   },
	   "outputs": [],
"source": [
"clc;\n",
"//page no 772\n",
"//prob no. 20.4.1\n",
"//Refer example 20.4.1\n",
"n1=1.55;del=0.0258;l=12.5;z=1000;c=3*10^8;\n",
"//a)Determination of intermodal dispersion\n",
"del_per_km=(n1*z*del)/((1-del)*c);\n",
"disp('s/km',del_per_km,'the intermodal dispersion is');\n",
"//b)Determination of intermodal dispersion for l=12.5\n",
"del_l=del_per_km*l/1000;\n",
"disp('s',del_l,'the intermodal dispertion for l=12.5 is');"
   ]
   }
,
{
		   "cell_type": "markdown",
		   "metadata": {},
		   "source": [
			"## Example 20.4_2: example_13.sce"
		   ]
		  },
  {
"cell_type": "code",
	   "execution_count": null,
	   "metadata": {
	    "collapsed": true
	   },
	   "outputs": [],
"source": [
"clc;\n",
"//page no 773\n",
"//prob no. 20.4.2\n",
"//Refer example 20.4.1\n",
"n1=1.55;del=0.0258;z=1000;c=3*10^8;z_disp=12.5;\n",
"del_graded=(n1*z*del^2)/(8*c);\n",
"//Determination of intermodal dispersion\n",
"del_total=del_graded*z_disp;\n",
"disp('sec',del_total,'the intermodal dispersion is');"
   ]
   }
,
{
		   "cell_type": "markdown",
		   "metadata": {},
		   "source": [
			"## Example 20.4_3: example_8.sce"
		   ]
		  },
  {
"cell_type": "code",
	   "execution_count": null,
	   "metadata": {
	    "collapsed": true
	   },
	   "outputs": [],
"source": [
"clc;\n",
"//page no 774\n",
"//prob no. 20.4.3\n",
"//Refer example 20.4.1\n",
"wav_0=0.8*10^-6;Dm=-0.15;wav_3=1.5;z=12.5;\n",
"del_t=Dm*wav_3;\n",
"//Determination of total material dispersion\n",
"del_md=del_t*z;\n",
"disp('ns',del_md,'The total material dispersion is');"
   ]
   }
,
{
		   "cell_type": "markdown",
		   "metadata": {},
		   "source": [
			"## Example 20.4_4: example_9.sce"
		   ]
		  },
  {
"cell_type": "code",
	   "execution_count": null,
	   "metadata": {
	    "collapsed": true
	   },
	   "outputs": [],
"source": [
"clc;\n",
"//page no 775\n",
"//prob no. 20.4.4\n",
"Dm=6.6;z=12.5;del_3=6;\n",
"del_wg=Dm*z*del_3;\n",
"disp('ps',del_wg,'Expected waveguide dispersion is');"
   ]
   }
,
{
		   "cell_type": "markdown",
		   "metadata": {},
		   "source": [
			"## Example 20.4_5: example_10.sce"
		   ]
		  },
  {
"cell_type": "code",
	   "execution_count": null,
	   "metadata": {
	    "collapsed": true
	   },
	   "outputs": [],
"source": [
"clc;\n",
"//page no 776\n",
"//prob no. 20.4.5\n",
"del_imd=0;del_md=2.81;del_wgd=0.495;t_w=2.5;\n",
"del_tot=((del_imd^2)+(del_md^2)+(del_wgd^2))^(1/2);\n",
"disp('ns',del_tot,'The total dispersion is');\n",
"t_r=((t_w^2)+(del_tot^2))^(1/2)\n",
"//Determination of max allowed bit rate\n",
"B=(1000/(2*t_r));\n",
"disp('Mbps',B,'The max allowed bit rate is');"
   ]
   }
,
{
		   "cell_type": "markdown",
		   "metadata": {},
		   "source": [
			"## Example 20.4_6: example_11.sce"
		   ]
		  },
  {
"cell_type": "code",
	   "execution_count": null,
	   "metadata": {
	    "collapsed": true
	   },
	   "outputs": [],
"source": [
"clc;\n",
"//page no 778\n",
"//prob no. 20.4.6\n",
"//A multimode step index fiber\n",
"del_t=4;B=10;\n",
"//a)Determination of BW distance product\n",
"BDP=1/(2*del_t);\n",
"disp('Mbps-km',BDP,'a)The BW distance product for fiber is');\n",
"//b)Determiation of dispersion limited length\n",
"z_max_disp=BDP/(B*10^-3);\n",
"disp('km',z_max_disp,'b)The disp limited length for a fiber is');"
   ]
   }
,
{
		   "cell_type": "markdown",
		   "metadata": {},
		   "source": [
			"## Example 20.5_1: example_14.sce"
		   ]
		  },
  {
"cell_type": "code",
	   "execution_count": null,
	   "metadata": {
	    "collapsed": true
	   },
	   "outputs": [],
"source": [
"clc;\n",
"//page no 780\n",
"//prob no. 20.5.1\n",
"//3 semiconductor diodes are given\n",
"E1=1.9;E2=1.46;E3=0.954;eV=1.9;//All in eV\n",
"c=3*10^8;//speed of light\n",
"//a)Determination of wavelength and freq for E1=1.9\n",
"wav1=1.241/E1;f1=c/(wav1*10^-6);\n",
"disp('um',wav1,'a)i)the wavelength is');\n",
"disp('Hz',f1,'a)ii)the freq is');\n",
"//b)Determination of wavelength and freq for E2=1.46\n",
"wav2=1.241/E2;f2=c/(wav2*10^-6);\n",
"disp('um',wav2,'b)i)the wavelength is');\n",
"disp('Hz',f2,'b)ii)the freq is');\n",
"//c)Determination of wavelength and freq for E3=0.945\n",
"wav3=1.241/E3;f3=c/(wav3*10^-6);\n",
"disp('um',wav3,'c)i)the wavelength is');\n",
"disp('Hz',f3,'c)ii)the freq is');"
   ]
   }
,
{
		   "cell_type": "markdown",
		   "metadata": {},
		   "source": [
			"## Example 20.8_1: example_12.sce"
		   ]
		  },
  {
"cell_type": "code",
	   "execution_count": null,
	   "metadata": {
	    "collapsed": true
	   },
	   "outputs": [],
"source": [
"clc;\n",
"//page no 799\n",
"//prob no. 20.8.1\n",
"//A fiber link is given\n",
"pt=0;pr=-57;Nc=2;BER=10^-9;N=5;Lpt=6;Lpr=6;Lc=1;Ls=0.5;Lf=2;M=5;del_t=0.505;B=35;Ns=5;\n",
"//a)Determination of loss-limited fiber length\n",
"z=(pt-pr-M-(Nc*Lc)-(Ns*Ls)-Lpt-Lpr)/Lf;\n",
"disp('km',z,'a)the loss-limited fiber is');\n",
"//b)Determination of max BW for loss-limited fiber length\n",
"B_max=1/(5*del_t*z);\n",
"disp('Gbps',B_max,'b)the max BW for loss-limited length is');\n",
"//c)Determination of dispersion-limited length \n",
"z_disp=1000/(5*del_t*B);\n",
"disp('km',z_disp,'the dispertion limited length is');"
   ]
   }
],
"metadata": {
		  "kernelspec": {
		   "display_name": "Scilab",
		   "language": "scilab",
		   "name": "scilab"
		  },
		  "language_info": {
		   "file_extension": ".sce",
		   "help_links": [
			{
			 "text": "MetaKernel Magics",
			 "url": "https://github.com/calysto/metakernel/blob/master/metakernel/magics/README.md"
			}
		   ],
		   "mimetype": "text/x-octave",
		   "name": "scilab",
		   "version": "0.7.1"
		  }
		 },
		 "nbformat": 4,
		 "nbformat_minor": 0
}
