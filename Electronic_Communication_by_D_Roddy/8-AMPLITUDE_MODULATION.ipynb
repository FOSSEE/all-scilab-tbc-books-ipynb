{
"cells": [
 {
		   "cell_type": "markdown",
	   "metadata": {},
	   "source": [
       "# Chapter 8: AMPLITUDE MODULATION"
	   ]
	},
{
		   "cell_type": "markdown",
		   "metadata": {},
		   "source": [
			"## Example 8.11_1: exampple_4.sce"
		   ]
		  },
  {
"cell_type": "code",
	   "execution_count": null,
	   "metadata": {
	    "collapsed": true
	   },
	   "outputs": [],
"source": [
"clc;\n",
"//page no 274\n",
"//prob no. 8.11.1\n",
"//RC load ckt for diode detector with c=1000pF in paralel with R=10Kohm\n",
"fm=10*10^3;//modulation freq\n",
"c=1000*10^-12;R=10*10^3;\n",
"Yp=(1/R)+((%i)*2*(%pi)*fm*c);//admittance of RC load\n",
"disp(Yp);\n",
"Zp=1/sqrt((real(Yp)^2)+(imag(Yp)^2));\n",
"disp(Zp);\n",
"//Determination of max modulation index\n",
"m=Zp/R;\n",
"disp(m,'The max modulation index is');"
   ]
   }
,
{
		   "cell_type": "markdown",
		   "metadata": {},
		   "source": [
			"## Example 8.3_1: example_1.sce"
		   ]
		  },
  {
"cell_type": "code",
	   "execution_count": null,
	   "metadata": {
	    "collapsed": true
	   },
	   "outputs": [],
"source": [
"clc;\n",
"//page no 257\n",
"//prob no. 8.3.1\n",
"//A modulating signal with zero dc component & vpp=11,vcp=10 carrier peak voltage\n",
"vpp=11;//peak to peak voltage of modulating signal\n",
"vcp=10;//carrier peak voltage\n",
"//Determination of modulation index\n",
"E_max=vcp+(vpp/2);\n",
"E_min=vcp-(vpp/2);\n",
"m=(E_max-E_min)/(E_max+E_min);\n",
"disp(m,'The modulation index is');\n",
"//determination of kratio of side lengths\n",
"L1_L2=E_max/E_min;\n",
"disp(L1_L2,'The ratio of side lengths L1/L2 is');"
   ]
   }
,
{
		   "cell_type": "markdown",
		   "metadata": {},
		   "source": [
			"## Example 8.5_1: example_2.sce"
		   ]
		  },
  {
"cell_type": "code",
	   "execution_count": null,
	   "metadata": {
	    "collapsed": true
	   },
	   "outputs": [],
"source": [
"clc;\n",
"//page no 260\n",
"//prob no. 8.5.1\n",
"//A carrier with fc=10MHz & vp=10V modulated with fm=5kHz & Vm=6V\n",
"fc=10*10^6;//Carrier freq\n",
"fm=5*10^3;//Modullating freq\n",
"vp=10;vm=6;\n",
"//Determination of modulation index\n",
"m=vm/vp;\n",
"disp(m,'The modulation index is');"
   ]
   }
,
{
		   "cell_type": "markdown",
		   "metadata": {},
		   "source": [
			"## Example 8.7_1: example_3.sce"
		   ]
		  },
  {
"cell_type": "code",
	   "execution_count": null,
	   "metadata": {
	    "collapsed": true
	   },
	   "outputs": [],
"source": [
"clc;\n",
"//page no 263\n",
"//prob no. 8.7.1\n",
"//AM radio Tx=10A when unmodulated & 12A when modulated\n",
"I=12;Ic=10;\n",
"//Determination of modulation index\n",
"m=sqrt(2*(((I/Ic)^2)-1));\n",
"disp(m,'The modulation index is');"
   ]
   }
],
"metadata": {
		  "kernelspec": {
		   "display_name": "Scilab",
		   "language": "scilab",
		   "name": "scilab"
		  },
		  "language_info": {
		   "file_extension": ".sce",
		   "help_links": [
			{
			 "text": "MetaKernel Magics",
			 "url": "https://github.com/calysto/metakernel/blob/master/metakernel/magics/README.md"
			}
		   ],
		   "mimetype": "text/x-octave",
		   "name": "scilab",
		   "version": "0.7.1"
		  }
		 },
		 "nbformat": 4,
		 "nbformat_minor": 0
}
