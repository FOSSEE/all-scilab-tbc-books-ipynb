{
"cells": [
 {
		   "cell_type": "markdown",
	   "metadata": {},
	   "source": [
       "# Chapter 13: TRANSMISSION LINES AND CABLES"
	   ]
	},
{
		   "cell_type": "markdown",
		   "metadata": {},
		   "source": [
			"## Example 13.10_1: example_2.sce"
		   ]
		  },
  {
"cell_type": "code",
	   "execution_count": null,
	   "metadata": {
	    "collapsed": true
	   },
	   "outputs": [],
"source": [
"clc;\n",
"//page no 485\n",
"//prob no. 13.10.1\n",
"// Measurements on a 50 ohm slotted line gave\n",
"Z0=50;//measured in ohm\n",
"VSWR=2.0;\n",
"d=0.2;//distance from load to first minimum\n",
"T=(VSWR-1)/(VSWR+1);\n",
"pi=180;\n",
"Ql=pi*(4*0.2-1);\n",
"// using Euler's identity\n",
"e=cosd(Ql)+%i*sind(Ql);// expansion for e^(jQl);\n",
"a=T*e;\n",
"//Load impedance is given as\n",
"ZL=Z0*(1+a)/(1-a);\n",
"disp('ohm',real(ZL),'a) The equivalent  series resistance is');\n",
"disp('ohm',imag(ZL),'The equivalent  series reactance is');\n",
"disp('The minus sign indicate the capacitive reactance');\n",
"Yl=1/ZL;\n",
"disp('ohm',1/real(Yl),'b) The equivalent  parallel resistance is');\n",
"disp('ohm',1/imag(Yl),'The equivalent  parallel reactance is');"
   ]
   }
,
{
		   "cell_type": "markdown",
		   "metadata": {},
		   "source": [
			"## Example 13.11_1: example_3.sce"
		   ]
		  },
  {
"cell_type": "code",
	   "execution_count": null,
	   "metadata": {
	    "collapsed": true
	   },
	   "outputs": [],
"source": [
"clc;\n",
"//page no 488\n",
"//prob no. 13.11.1\n",
"d=0.1;//length of 50ohm short-circuited line\n",
"Z0=50;//in ohm\n",
"f=500*10^6;//freq in Hz\n",
"pi=180;\n",
"Bl=2*pi*d;\n",
"//a)Determination of equivalent inductive reactance\n",
"Z=%i*Z0*tand(Bl);\n",
"disp('ohm','i',Z,'The equivalent inductive reactance is');\n",
"//b)Determination of equivalent inductance\n",
"L_eq=Z/(2*%pi*f);\n",
"disp('nH',L_eq*10^9,'The equivalent inductance is');"
   ]
   }
,
{
		   "cell_type": "markdown",
		   "metadata": {},
		   "source": [
			"## Example 13.17_1: example_4.sce"
		   ]
		  },
  {
"cell_type": "code",
	   "execution_count": null,
	   "metadata": {
	    "collapsed": true
	   },
	   "outputs": [],
"source": [
"clc;\n",
"//page no 513\n",
"//prob no. 13.17.1\n",
"VSWR=2;l_min=0.2;Z0=50;\n",
"Ql=((4*l_min )- 1)*%pi;\n",
"tl=(VSWR-1)/(VSWR+1);\n",
"Tl=tl*%e^(%i*Ql);\n",
"Zl=Z0*(1+Tl)/(1-Tl);\n",
"disp('ohm',real(Zl),'a) The equivalent  series resistance is');\n",
"disp('ohm',imag(Zl),'The equivalent  series reactance is');\n",
"disp('The minus sign indicate the capacitive reactance');\n",
"Yl=1/Zl;\n",
"disp('ohm',1/real(Yl),'b) The equivalent  parallel resistance is');\n",
"disp('ohm',1/imag(Yl),'The equivalent  parallel reactance is');"
   ]
   }
,
{
		   "cell_type": "markdown",
		   "metadata": {},
		   "source": [
			"## Example 13.17_2: example_5.sce"
		   ]
		  },
  {
"cell_type": "code",
	   "execution_count": null,
	   "metadata": {
	    "collapsed": true
	   },
	   "outputs": [],
"source": [
"clc;\n",
"//page no 514\n",
"//prob no. 13.17.2\n",
"// A transmission line is terminated with\n",
"ZL=30-(%i*23);\n",
"l=0.5;//// length of line in m\n",
"Z0=50;//characteristic impedance in ohm\n",
"wl=0.45;//wavelength on the line in m\n",
"B=2*%pi/wl;\n",
"Tl=(ZL-Z0)/(ZL+Z0)\n",
"VI=1;//reference voltage in volt\n",
"VR=VI*Tl;\n",
"Vi=VI*%e^(%i*B*l);\n",
"Vr=VR*%e^-(%i*B*l);\n",
"V=Vi+Vr;\n",
"I=(Vi-Vr)/Z0;\n",
"Z=V/I;\n",
"disp('ohm',Z,'The input impedance is');"
   ]
   }
,
{
		   "cell_type": "markdown",
		   "metadata": {},
		   "source": [
			"## Example 13.17_3: example_6.sce"
		   ]
		  },
  {
"cell_type": "code",
	   "execution_count": null,
	   "metadata": {
	    "collapsed": true
	   },
	   "outputs": [],
"source": [
"clc;\n",
"//page no 515\n",
"//prob no. 13.17.3\n",
"Z0=600;Zl=73;//in ohm\n",
"F=0.9;\n",
"QF=(2*%pi*F)/4;\n",
"//For matching, the effective load impedance on the main line must equal the characteristic impedance of the mail line\n",
"Zl1=Zl;\n",
"Z01=sqrt(Zl1*Zl);\n",
"Tl=(Zl-Z01)/(Zl+Z01);\n",
"VI=1;//reference voltage\n",
"Vi=VI*%e^(%i*QF);\n",
"Vr=Tl*VI*%e^-(%i*QF);\n",
"V_in=Vi+Vr;\n",
"I_in=(Vi-Vr)/Z01;\n",
"Z_in=V_in/I_in;\n",
"disp('ohm',Z_in,'The input impedance is');\n",
"//the voltage reflection coeff is\n",
"TL_F=(Z_in-Z0)/(Z_in+Z0);\n",
"//the VSWr is given as\n",
"VSWR_F=(1+TL_F)/(1-TL_F);\n",
"disp(VSWR_F,'The VSWR is');"
   ]
   }
,
{
		   "cell_type": "markdown",
		   "metadata": {},
		   "source": [
			"## Example 13.5_2: example_1.sce"
		   ]
		  },
  {
"cell_type": "code",
	   "execution_count": null,
	   "metadata": {
	    "collapsed": true
	   },
	   "outputs": [],
"source": [
"clc;\n",
"//page no 475\n",
"//prob no. 13.5.2\n",
"// The attenuation coeff is 0.0006 N/m\n",
"a=0.0006;//The attenuation coeff in N/m\n",
"//a)Determinaion of the attenuation coeff in dB/m\n",
"a_dB=8.686*a;\n",
"disp('dB/m',a_dB,'The attenuation coeff is');\n",
"//b) Determination of attenuation coeff in dB/mile\n",
"k=1609;//conversion coeff for meter to mile\n",
"a_dB_mile=k*a_dB;\n",
"disp('dB/mile',a_dB_mile,'The attenuation coeff is');"
   ]
   }
],
"metadata": {
		  "kernelspec": {
		   "display_name": "Scilab",
		   "language": "scilab",
		   "name": "scilab"
		  },
		  "language_info": {
		   "file_extension": ".sce",
		   "help_links": [
			{
			 "text": "MetaKernel Magics",
			 "url": "https://github.com/calysto/metakernel/blob/master/metakernel/magics/README.md"
			}
		   ],
		   "mimetype": "text/x-octave",
		   "name": "scilab",
		   "version": "0.7.1"
		  }
		 },
		 "nbformat": 4,
		 "nbformat_minor": 0
}
