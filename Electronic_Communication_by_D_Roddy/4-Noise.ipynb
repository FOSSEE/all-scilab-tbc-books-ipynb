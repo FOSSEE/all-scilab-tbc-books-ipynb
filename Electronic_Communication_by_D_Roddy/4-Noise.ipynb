{
"cells": [
 {
		   "cell_type": "markdown",
	   "metadata": {},
	   "source": [
       "# Chapter 4: Noise"
	   ]
	},
{
		   "cell_type": "markdown",
		   "metadata": {},
		   "source": [
			"## Example 4.11_1: example_5.sce"
		   ]
		  },
  {
"cell_type": "code",
	   "execution_count": null,
	   "metadata": {
	    "collapsed": true
	   },
	   "outputs": [],
"source": [
"clc;\n",
"// page no 135\n",
"// prob no 4_11_1\n",
"//An amplifier is given\n",
"Rn=300;//Equivalent noise resistance\n",
"Ieq=5*10^-6;//Equivalent noise current is 5 uA\n",
"Rs=150;//Amplifier fed from 150 ohm,10 uV rms sinusoidal source\n",
"Vs=10*10^-6;\n",
"Bn=10*10^6;//Noise BW is 10 MHz\n",
"//Assume the following\n",
"kT=4*10^-21;//k is Boltzman constant in J/K & T is room temp\n",
"q=1.6*10^-19;//Charge on electron in coulombs\n",
"//Determination of shot noise current\n",
"Ina=(2*q*Ieq*Bn)^(1/2);\n",
"disp('nA',Ina*(10^9)','The value of shot noise current Ina is ');\n",
"//Noise voltage developed by this across source resistance is \n",
"V=Ina*Rs;\n",
"disp('uV',Vs*(10^6)','The value of noise voltage across Rs is ');\n",
"//Noise voltage developed across Rn resistance is\n",
"Vna=(4*Rn*kT*Bn)^(1/2);\n",
"disp('uV',Vna*(10^6)','The value of noise voltage across Rn is ');\n",
"//Determination of thermal noise voltage from source \n",
"Vns=(4*Rs*kT*Bn)^(1/2);\n",
"disp('uV',Vns*(10^6)','The value of thermal noise voltage at Rs is');\n",
"//Determination of total noise voltage at input\n",
"Vn=(((V)^2)+((Vna)^2)+((Vns)^2))^(1/2)\n",
"disp('uV',Vn*(10^6)','The value of total noise voltage Vn is ');\n",
"//Determination of signal to noise ratio in dB\n",
"SNR=20*(log10(Vs/Vn));\n",
"disp('dB',SNR,'The value of signal to noise ratio is ');"
   ]
   }
,
{
		   "cell_type": "markdown",
		   "metadata": {},
		   "source": [
			"## Example 4.12_1: example_6.sce"
		   ]
		  },
  {
"cell_type": "code",
	   "execution_count": null,
	   "metadata": {
	    "collapsed": true
	   },
	   "outputs": [],
"source": [
"clc;\n",
"// page no 136\n",
"// prob no 4_12_1\n",
"//As shown in fig 4.12.1\n",
"//Three identical links are given with for 1 link is SNR=60 dB\n",
"SNR1=60;\n",
"l=3;\n",
"//Determination of output signal to noise ratio\n",
"SNR=(SNR1)-10*log10(l);\n",
"disp('dB',SNR,'The value of output signal to noise ratio is ');"
   ]
   }
,
{
		   "cell_type": "markdown",
		   "metadata": {},
		   "source": [
			"## Example 4.12_2: example_7.sce"
		   ]
		  },
  {
"cell_type": "code",
	   "execution_count": null,
	   "metadata": {
	    "collapsed": true
	   },
	   "outputs": [],
"source": [
"clc;\n",
"// page no 137\n",
"// prob no 4_12_2\n",
"//SNR for three links is given in which Ist two have SNR 60 db & IInd 40 dB\n",
"SNRdB(1)=60;//SNR is 60 dB for Ist link\n",
"SNRdB(2)=60;//SNR is 60 dB for IInd link\n",
"SNRdB(3)=40;//SNR is 40 dB for IIIrd link\n",
"//Determination of power in watt\n",
"for i=1:3\n",
"snr(i)=10^(-SNRdB(i)/10);\n",
"end;\n",
"//Determination of overall SNR\n",
"for i=1:3\n",
"SNR=snr(i);\n",
"end;\n",
"//Determination of total SNR in dB \n",
"SNRdB=10*(-log10(SNR));\n",
"disp('dB',SNRdB,'The value of output signal to noise ratio is ');"
   ]
   }
,
{
		   "cell_type": "markdown",
		   "metadata": {},
		   "source": [
			"## Example 4.13_1: example_8.sce"
		   ]
		  },
  {
"cell_type": "code",
	   "execution_count": null,
	   "metadata": {
	    "collapsed": true
	   },
	   "outputs": [],
"source": [
"clc;\n",
"// page no 139\n",
"// prob no 4_13_1\n",
"//Noise fig. of an amplifier is 7 dB with input SNR=35 dB\n",
"SNRin=35;//SNR at i/p of amplifier\n",
"F=7;//Noise figure of an amplifier\n",
"//Determination of output SNR\n",
"SNRout=SNRin-F;\n",
"disp('dB',SNRout,'The value of output signal to noise ratio is ');"
   ]
   }
,
{
		   "cell_type": "markdown",
		   "metadata": {},
		   "source": [
			"## Example 4.14_1: example_9.sce"
		   ]
		  },
  {
"cell_type": "code",
	   "execution_count": null,
	   "metadata": {
	    "collapsed": true
	   },
	   "outputs": [],
"source": [
"clc;\n",
"// page no 140\n",
"// prob no 4_14_1\n",
"//Noise fig. of an amplifier is 13 dB with BW=1MHz\n",
"f=13;//Noise figure of an amplifier\n",
"Bn=1*10^6;\n",
"kT=4*10^-21;//k is Boltzman constant in J/K & T is room temp\n",
"F=10^(f/10);\n",
"//Determination of equivalent amplifier input noise\n",
"Pna=(F-1)*kT*Bn;\n",
"disp('pW',Pna*10^12,'The value of input noise is');"
   ]
   }
,
{
		   "cell_type": "markdown",
		   "metadata": {},
		   "source": [
			"## Example 4.15_1: example_10.sce"
		   ]
		  },
  {
"cell_type": "code",
	   "execution_count": null,
	   "metadata": {
	    "collapsed": true
	   },
	   "outputs": [],
"source": [
"clc;\n",
"// page no 141\n",
"// prob no 4_15_1\n",
"//mixer with noise fig. 20dB preceded by amplifier with noise fig. 9dB is given\n",
"f1=9;//Noise fig for amplifier\n",
"f2=20;//Noise fig for mixer\n",
"g=15;//power gain\n",
"//Converting dB in power ratio\n",
"F1=10^(f1/10);\n",
"F2=10^(f2/10);\n",
"G=10^(g/10);\n",
"//Determination of overall noise fig. reffered at i/p\n",
"F=F1+(F2-1)/G;\n",
"//converting in dB\n",
"FdB=10*log10(F);\n",
"disp('dB',FdB,'The overall noise fig is');"
   ]
   }
,
{
		   "cell_type": "markdown",
		   "metadata": {},
		   "source": [
			"## Example 4.17_1: example_11.sce"
		   ]
		  },
  {
"cell_type": "code",
	   "execution_count": null,
	   "metadata": {
	    "collapsed": true
	   },
	   "outputs": [],
"source": [
"clc;\n",
"// page no 143\n",
"// prob no 4_17_1\n",
"//An attenuator is given with insertion loss of 6 dB\n",
"//Noise fig is equivalent to insertion loss\n",
"F=6;//Noise fig.=6 dB\n",
"//Determination of noise factor\n",
"Fn=10^(6/10);\n",
"disp(Fn,'The value of noise factor is '); "
   ]
   }
,
{
		   "cell_type": "markdown",
		   "metadata": {},
		   "source": [
			"## Example 4.18_1: example_12.sce"
		   ]
		  },
  {
"cell_type": "code",
	   "execution_count": null,
	   "metadata": {
	    "collapsed": true
	   },
	   "outputs": [],
"source": [
"clc;\n",
"// page no 144\n",
"// prob no 4_18_1\n",
"//A receiver with noise fig. 12dB fed by low noise amplr with gain  50 dB with noise temp of 90 k\n",
"f=12;\n",
"Tm=290;//Room temp value \n",
"T=90;\n",
"g=50;\n",
"//calculating power ratio\n",
"F=10^(f/10);\n",
"G=10^(g/10);\n",
"//Determination of equivalent noise at room temp\n",
"Tem=(F-1)*Tm;\n",
"disp('K',Tem,'The value of equivalent noise at room temp is');\n",
"//Determination of equivalent noise at 90 k temp\n",
"Te=T+(Tem/G);\n",
"disp('K',Te,'The value of equivalent noise at noise temp=90 is');"
   ]
   }
,
{
		   "cell_type": "markdown",
		   "metadata": {},
		   "source": [
			"## Example 4.19_1: example_13.sce"
		   ]
		  },
  {
"cell_type": "code",
	   "execution_count": null,
	   "metadata": {
	    "collapsed": true
	   },
	   "outputs": [],
"source": [
"clc;\n",
"// page no 146\n",
"// prob no 4_19_1\n",
"//An avalanche diode source is given with excess noise ratio is 14 dB\n",
"enr=14;\n",
"To=290;//Room temp in K\n",
"y=9;//Y-factor  is 9 dB\n",
"//converting dB in power ratio\n",
"ENR=10^(enr/10);\n",
"Y=10^(y/10);\n",
"//From def of ENR the hot temp is\n",
"Th=To*(ENR+1);\n",
"disp('K',Th,'The value of hot temp Th is '); \n",
"//Determination of equivalent noise temp\n",
"Te=(Th-(Y*To))/(Y-1);\n",
"disp('K',Te,'The value of equivalent noise temp Te is '); "
   ]
   }
,
{
		   "cell_type": "markdown",
		   "metadata": {},
		   "source": [
			"## Example 4.2_1: example_1.sce"
		   ]
		  },
  {
"cell_type": "code",
	   "execution_count": null,
	   "metadata": {
	    "collapsed": true
	   },
	   "outputs": [],
"source": [
"clc;\n",
"// page no 120\n",
"// prob no 4_2_1\n",
"//Resistor at room temp T=290 K with BW=1MHz and R=50 ohm\n",
"T=290\n",
"BW=1*10^6// Noise bandwidth in hertz\n",
"k=1.38*10^-23 //Boltzman constant in J/K\n",
"R=50\n",
"//Determination of thermal noise power Pn\n",
"Pn=k*T*BW;\n",
"disp('W',Pn,+'The value of thernal noise power is');\n",
"//Determination of RMS noise voltage\n",
"En=(4*R*k*T*BW)^(1/2);\n",
"disp('uV',En*(10^6),+'The value of RMS noise voltage is');"
   ]
   }
,
{
		   "cell_type": "markdown",
		   "metadata": {},
		   "source": [
			"## Example 4.2_2: example_2.sce"
		   ]
		  },
  {
"cell_type": "code",
	   "execution_count": null,
	   "metadata": {
	    "collapsed": true
	   },
	   "outputs": [],
"source": [
"clc;\n",
"// page no 122\n",
"// prob no 4_2_2\n",
"//Two resistor at room temp are given with BW=100KHz\n",
"R1=20000\n",
"R2=50000\n",
"k=1.38*10^-23 //Boltzman constant in J/K\n",
"T=290\n",
"BW=100*10^3\n",
"//Determination of thermal noise voltage for 20Kohm resistor\n",
"En1=(4*R1*k*T*BW)^(1/2);\n",
"disp('uV',En1*(10^6),+'a)i)The value of RMS noise voltage is');\n",
"//Determination of thermal noise voltage for 50 kohm resistor\n",
"En2=En1*(R2/R1)^(1/2);\n",
"disp('uV',En2*(10^6),+'a)ii)The value of RMS noise voltage is');\n",
"//Determination of thermal noise voltage for 20K & 50k resistor in series \n",
"Rser=R1+R2// Series combination of R1 & R2\n",
"En3=En1*(Rser/R1)^(1/2);\n",
"disp('uV',En3*(10^6),+'b)The value of RMS noise voltage is');\n",
"//Determination of thermal noise voltage for 20K & 50k resistor in parellel\n",
"Rpar=(R1*R2)/(R1+R2)// parallel combination of R1 & R2\n",
"En4=En1*(Rpar/R1)^(1/2);\n",
"disp('uV',En4*(10^6),+'c)The value of RMS noise voltage is');"
   ]
   }
,
{
		   "cell_type": "markdown",
		   "metadata": {},
		   "source": [
			"## Example 4.2_3: example_3.sce"
		   ]
		  },
  {
"cell_type": "code",
	   "execution_count": null,
	   "metadata": {
	    "collapsed": true
	   },
	   "outputs": [],
"source": [
"clc;\n",
"// page no 128\n",
"// prob no 4_2_3\n",
"//Parallel tuned ckt tuned at resonant freq f=120 MHz\n",
"f=120*10^6;\n",
"c=25*10^-12;//capacitance of 12 pF\n",
"Q=30;//Q-factor of the ckt is 30\n",
"BW=10*10^3;//cahnnel BW of the receiver is 10 KHz\n",
"k=1.38*10^-23 //Boltzman constant in J/K\n",
"T=290;//Room temp\n",
"//Determination of effective noise voltage Rd apearing at i/p at room temp\n",
" Rd=Q/(2*%pi*f*c);\n",
" disp('kohm',Rd/1000,'The value of Rd is ');\n",
" Vn=(4*Rd*k*T*BW)^(1/2);\n",
"disp('uV',Vn*(10^6),'The value of effective noise voltage is');"
   ]
   }
,
{
		   "cell_type": "markdown",
		   "metadata": {},
		   "source": [
			"## Example 4.3_1: example_4.sce"
		   ]
		  },
  {
"cell_type": "code",
	   "execution_count": null,
	   "metadata": {
	    "collapsed": true
	   },
	   "outputs": [],
"source": [
"clc;\n",
"// page no 131\n",
"// prob no 4_3_1\n",
"//Direct current of 1 mA flowing across semiconductor junctn\n",
"Idc=10^-3;\n",
"Bn=10^6;//Effective noise BW=1 MHz\n",
"q=1.6*10^-19;//Charge on electron in coulombs\n",
"//Determination of noise component current In in DC current of Idc=1 mA\n",
"In=(2*Idc*q*Bn)^(1/2);\n",
"disp('nA',In*(10^9)','The value of noise current In is ')"
   ]
   }
],
"metadata": {
		  "kernelspec": {
		   "display_name": "Scilab",
		   "language": "scilab",
		   "name": "scilab"
		  },
		  "language_info": {
		   "file_extension": ".sce",
		   "help_links": [
			{
			 "text": "MetaKernel Magics",
			 "url": "https://github.com/calysto/metakernel/blob/master/metakernel/magics/README.md"
			}
		   ],
		   "mimetype": "text/x-octave",
		   "name": "scilab",
		   "version": "0.7.1"
		  }
		 },
		 "nbformat": 4,
		 "nbformat_minor": 0
}
