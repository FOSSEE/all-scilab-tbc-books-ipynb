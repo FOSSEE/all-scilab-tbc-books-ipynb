{
"cells": [
 {
		   "cell_type": "markdown",
	   "metadata": {},
	   "source": [
       "# Chapter 5: TUNED SMALL SIGNAL AMPLIFIERS MIXERS AND ACTIVE FILTERS"
	   ]
	},
{
		   "cell_type": "markdown",
		   "metadata": {},
		   "source": [
			"## Example 5.4_1: example_1.sce"
		   ]
		  },
  {
"cell_type": "code",
	   "execution_count": null,
	   "metadata": {
	    "collapsed": true
	   },
	   "outputs": [],
"source": [
"//page no 162\n",
"// problem no 5.4.1\n",
"//Resonating freq of a tuned ckt of a CE amplifier is 5MHz\n",
"f=5*10^6;\n",
"c=100*10^-12;//tuning capacitance in F\n",
"Q=150;// Q-factor of the ckt\n",
"Rl=5*10^3;//load resistance in ohm\n",
"Rc=40*10^3;//o/p reistance of transistor\n",
"Ic=500*10^-6;//transister collector current in A\n",
"C=0.6*10^-12;//collector to base capacitance in F\n",
"Vt=26*10^-3;//thermal voltage in V\n",
"//transe conductance is given as\n",
"gm=Ic/Vt;\n",
"RD2=Q/(2*%pi*f*c);\n",
"// At resonance the output admittance is purely conductive and is given as\n",
"Yo=(1/Rc)+(1/RD2)+(1/Rl);\n",
"//The voltage gain is given as\n",
"Av=-(gm/Yo);\n",
"disp(Av,'The voltage gain is');\n",
"//The Millar capacitance is given as\n",
"Cm=(1-Av)*C;\n",
"disp('pF',Cm*10^12,'The Millar capacitance is');"
   ]
   }
,
{
		   "cell_type": "markdown",
		   "metadata": {},
		   "source": [
			"## Example 5.4_2: example_2.sce"
		   ]
		  },
  {
"cell_type": "code",
	   "execution_count": null,
	   "metadata": {
	    "collapsed": true
	   },
	   "outputs": [],
"source": [
"clc;\n",
"//page no 163\n",
"// problem no 5.4.2\n",
"//Resonating freq of a tuned ckt of a CE amplifier is 5MHz\n",
"f=5*10^6;//in Hz\n",
"w0=2*%pi*f;\n",
"Q=100;//Q-factor of the ckt\n",
"L=2*10^-6;//inductance expressed in H\n",
"Rs=1000;//source resistance in ohm\n",
"Ic=500*10^-6;//transister collector current in A\n",
"Vt=26*10^-3;//thermal voltage in V\n",
"hfe=200;\n",
"C_be=10*10^-12;//in pF\n",
"// refer to problem 5.4.1\n",
"Av=78;\n",
"Cm=47;\n",
"gm=Ic/Vt;\n",
"r_be=hfe/gm;\n",
"// The dynamic resistance of the tuned ckt is\n",
"RD1=Q*w0*L;\n",
"//The effective dynamic conductance is\n",
"RD1eff_1=(1/Rs)+(1/RD1)+(1/r_be);\n",
"RD1_eff=1/RD1eff_1\n",
"// Tha effective Q-factor is \n",
"Qeff=RD1_eff/(w0*L);\n",
"disp(Qeff,'The effective Q-factor is');\n",
"// The voltage gain refered to source is\n",
"Avs=RD1_eff*Av/Rs;\n",
"disp(Avs,'The voltage gain is');"
   ]
   }
],
"metadata": {
		  "kernelspec": {
		   "display_name": "Scilab",
		   "language": "scilab",
		   "name": "scilab"
		  },
		  "language_info": {
		   "file_extension": ".sce",
		   "help_links": [
			{
			 "text": "MetaKernel Magics",
			 "url": "https://github.com/calysto/metakernel/blob/master/metakernel/magics/README.md"
			}
		   ],
		   "mimetype": "text/x-octave",
		   "name": "scilab",
		   "version": "0.7.1"
		  }
		 },
		 "nbformat": 4,
		 "nbformat_minor": 0
}
