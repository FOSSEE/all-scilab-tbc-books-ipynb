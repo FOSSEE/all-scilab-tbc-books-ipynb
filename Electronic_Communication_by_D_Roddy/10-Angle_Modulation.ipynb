{
"cells": [
 {
		   "cell_type": "markdown",
	   "metadata": {},
	   "source": [
       "# Chapter 10: Angle Modulation"
	   ]
	},
{
		   "cell_type": "markdown",
		   "metadata": {},
		   "source": [
			"## Example 10.12_1: example_1.sce"
		   ]
		  },
  {
"cell_type": "code",
	   "execution_count": null,
	   "metadata": {
	    "collapsed": true
	   },
	   "outputs": [],
"source": [
"clc;\n",
"//page no 343\n",
"//problem no 10.12.1\n",
"p=10;t=0.3*10^-6;gm=2*10^-3;\n",
"q=1/p;f_max=q/(2*%pi*t);\n",
"Z2=p/gm;\n",
"R2=Z2;//Z2 is resistance\n",
"//Determination of equivalent tuning capacitance\n",
"C1=t/R2;\n",
"Ceq=gm*t;\n",
"disp('f',Ceq,'The equivaent tuning capacitance is');"
   ]
   }
,
{
		   "cell_type": "markdown",
		   "metadata": {},
		   "source": [
			"## Example 10.13_1: example_2.sce"
		   ]
		  },
  {
"cell_type": "code",
	   "execution_count": null,
	   "metadata": {
	    "collapsed": true
	   },
	   "outputs": [],
"source": [
"clc;\n",
"//page no 349\n",
"//problem no 10.13.1\n",
"del_phi_d=12;f_min=100;del_f_max_allow=15000;\n",
"del_phi_rad=(12*%pi)/180;\n",
"del_f_max=del_phi_rad*f_min;\n",
"//Determination of freq deviation\n",
"N=del_f_max_allow/del_f_max;\n",
"l=del_f_max*729;//using six tripler\n",
"f=0.1*729;\n",
"//Determination of signal oscillator signal\n",
"fo=152-f;\n",
"disp('MHz',fo,'fo is best obtained by using two tripler');"
   ]
   }
],
"metadata": {
		  "kernelspec": {
		   "display_name": "Scilab",
		   "language": "scilab",
		   "name": "scilab"
		  },
		  "language_info": {
		   "file_extension": ".sce",
		   "help_links": [
			{
			 "text": "MetaKernel Magics",
			 "url": "https://github.com/calysto/metakernel/blob/master/metakernel/magics/README.md"
			}
		   ],
		   "mimetype": "text/x-octave",
		   "name": "scilab",
		   "version": "0.7.1"
		  }
		 },
		 "nbformat": 4,
		 "nbformat_minor": 0
}
