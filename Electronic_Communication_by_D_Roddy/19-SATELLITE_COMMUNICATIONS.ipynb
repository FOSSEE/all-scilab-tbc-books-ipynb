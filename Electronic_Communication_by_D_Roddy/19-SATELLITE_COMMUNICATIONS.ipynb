{
"cells": [
 {
		   "cell_type": "markdown",
	   "metadata": {},
	   "source": [
       "# Chapter 19: SATELLITE COMMUNICATIONS"
	   ]
	},
{
		   "cell_type": "markdown",
		   "metadata": {},
		   "source": [
			"## Example 19.14_1: example_2.sce"
		   ]
		  },
  {
"cell_type": "code",
	   "execution_count": null,
	   "metadata": {
	    "collapsed": true
	   },
	   "outputs": [],
"source": [
"clc;\n",
"//page no 737\n",
"//problem no 19.14.1\n",
"//A high power amplr \n",
"P_HPA=600;TFL_dB=1.5;G_dB_ES=50;RFL_dB=1;GTR_dB_SAT=-8;FSL_dB=200;AML_dB=0.5;PL_dB=0.5;AA_dB=1;\n",
"//Determination of carrier to noise ratio\n",
"P_dB_HPA=10*log10(P_HPA/1);\n",
"EIRP_dB=P_dB_HPA-TFL_dB+G_dB_ES;\n",
"TPL_dB=FSL_dB+AML_dB+PL_dB+AA_dB;\n",
"CNoR_dB=EIRP_dB-TPL_dB-RFL_dB+GTR_dB_SAT+228.6;\n",
"disp(CNoR_dB,'The carrier to noise ratio in dB is');"
   ]
   }
,
{
		   "cell_type": "markdown",
		   "metadata": {},
		   "source": [
			"## Example 19.14_2: example_3.sce"
		   ]
		  },
  {
"cell_type": "code",
	   "execution_count": null,
	   "metadata": {
	    "collapsed": true
	   },
	   "outputs": [],
"source": [
"clc;\n",
"//page no 739\n",
"//problem no 19.14.2\n",
"f=14*10^9;BO_dB=10;GTR_dB_SAT=3;RFL_dB=1;phi_dB=-98;c=3*10^8;\n",
"//Determination of carrier to noise ratio\n",
"wav=c/f;\n",
"Ao_dB=10*log10((wav^2)/(4*(%pi)*1));\n",
"CNo_dB=phi_dB-BO_dB+GTR_dB_SAT-RFL_dB+Ao_dB+228.6;\n",
"disp(CNo_dB,'The carrier to noise ratio is');"
   ]
   }
,
{
		   "cell_type": "markdown",
		   "metadata": {},
		   "source": [
			"## Example 19.16_1: example_4.sce"
		   ]
		  },
  {
"cell_type": "code",
	   "execution_count": null,
	   "metadata": {
	    "collapsed": true
	   },
	   "outputs": [],
"source": [
"clc;\n",
"//page no \n",
"//problem no 19.16.1\n",
"//Determination of overall C/N\n",
"CNo_dB_U=88;CNo_dB_D=78;\n",
"NoC_U=10^(-CNo_dB_U/10);\n",
"NoC_D=10^(-CNo_dB_D/10);\n",
"NoC=NoC_U+NoC_D;\n",
"CNo_dB=10*log10(1/NoC);\n",
"disp(CNo_dB,'The overall carrier to noise ratio is');"
   ]
   }
,
{
		   "cell_type": "markdown",
		   "metadata": {},
		   "source": [
			"## Example 19.17_1: example_6.sce"
		   ]
		  },
  {
"cell_type": "code",
	   "execution_count": null,
	   "metadata": {
	    "collapsed": true
	   },
	   "outputs": [],
"source": [
"clc;\n",
"// page no 742\n",
"// prob no 19.17.1\n",
"// A digital satellite link is given with following specification\n",
"Eb_N0=9.6;//ratio expessed in dB\n",
"Rb=1.544*10^6;//bit rate expessed in bps\n",
"// The bit rate in dB relative to 1bps is\n",
"R_dB_b=10*log10(Rb) ;\n",
"//The required CN0 ratio is\n",
"CNo_db=Eb_N0+R_dB_b;\n",
"disp(CNo_db,'The ratio C/No is');"
   ]
   }
],
"metadata": {
		  "kernelspec": {
		   "display_name": "Scilab",
		   "language": "scilab",
		   "name": "scilab"
		  },
		  "language_info": {
		   "file_extension": ".sce",
		   "help_links": [
			{
			 "text": "MetaKernel Magics",
			 "url": "https://github.com/calysto/metakernel/blob/master/metakernel/magics/README.md"
			}
		   ],
		   "mimetype": "text/x-octave",
		   "name": "scilab",
		   "version": "0.7.1"
		  }
		 },
		 "nbformat": 4,
		 "nbformat_minor": 0
}
