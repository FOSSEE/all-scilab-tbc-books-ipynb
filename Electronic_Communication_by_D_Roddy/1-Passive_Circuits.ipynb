{
"cells": [
 {
		   "cell_type": "markdown",
	   "metadata": {},
	   "source": [
       "# Chapter 1: Passive Circuits"
	   ]
	},
{
		   "cell_type": "markdown",
		   "metadata": {},
		   "source": [
			"## Example 1.10_1: example_8.sce"
		   ]
		  },
  {
"cell_type": "code",
	   "execution_count": null,
	   "metadata": {
	    "collapsed": true
	   },
	   "outputs": [],
"source": [
"clc;\n",
"// page no 34\n",
"// prob no 1_10_1\n",
"//From the ckt of fig. 1.10.1(a)\n",
"C1=70*10^-12\n",
"C2=150*10^-12\n",
"Rl=200\n",
"Q=150\n",
"f=27*10^6\n",
"r=40000\n",
"//Determination of common resonant freq\n",
"wo=2*3.14*f;\n",
"disp('Mrad/sec',wo/(10^6),+'The value of common resonant freq is');\n",
"//Determination of Gl\n",
"Gl=1/Rl;\n",
"disp('mSec',Gl*(10^3),+'The value of Gl is');\n",
"//Checking the approxiamtion in denominator\n",
"ap=((wo*(C1+C2))/(Gl))^2\n",
"alpha=(C1+C2)/C1;\n",
"disp(alpha,'The value of alpha is ')\n",
"//Determination of effective load\n",
"Reff=((alpha)^2)*Rl;\n",
"disp('kohm',Reff/(10^3),+'The value of effective load is');\n",
"//If effective load is much less than internal resistance hence tuning capacitance then\n",
"Cs=C1*C2/(C1+C2);\n",
"disp('pF',Cs*(10^12),+'The value of tuning capacitance is');       \n",
"//Determination of Rd\n",
"Rd=Q/(wo*Cs);\n",
"disp('kohm',Rd/(10^3),+'The value of Rd is'); \n",
"//If Rd is much greater than Reff then -3dB bandwidth is given by\n",
"B=1/(2*3.14*C2*alpha*Rl);\n",
"disp('MHz',B/(10^6),+'The value of -3dB BW is');"
   ]
   }
,
{
		   "cell_type": "markdown",
		   "metadata": {},
		   "source": [
			"## Example 1.2_2: example_2.sce"
		   ]
		  },
  {
"cell_type": "code",
	   "execution_count": null,
	   "metadata": {
	    "collapsed": true
	   },
	   "outputs": [],
"source": [
"clc;\n",
"// page no 5\n",
"// prob no 1_2_2\n",
"//T-type attenuator provide 6-dB insertion loss\n",
"//All resistance are in ohm\n",
"Ro=50\n",
"ILdB=6\n",
"IL=10^-(ILdB/20)\n",
"//Determination of R \n",
"R=Ro*(1-IL)/(1+IL)\n",
"disp('ohm',R,+'The value of resistance R is')\n",
"//Determination of R3\n",
"R3=(2*Ro*IL)/(1-(0.5)^2)\n",
"disp('ohm',R3,+'The value of resistance R3 is')"
   ]
   }
,
{
		   "cell_type": "markdown",
		   "metadata": {},
		   "source": [
			"## Example 1.2_3: example_3.sce"
		   ]
		  },
  {
"cell_type": "code",
	   "execution_count": null,
	   "metadata": {
	    "collapsed": true
	   },
	   "outputs": [],
"source": [
"clc;\n",
"// page no 7\n",
"// prob no 1_2_3\n",
"//pi-attenuator with 6 dB insertion loss\n",
"//output resistance is Ro=50 ohm\n",
"//All resistance are in ohm\n",
"Ro=50\n",
"ILdB=6\n",
"IL=10^-(ILdB/20)\n",
"//Determination of RA and RB\n",
"RA=Ro*(1+IL)/(1-IL);\n",
"disp('ohm',RA,+'The value of resistance RA and RB is')\n",
"//Determination of RC\n",
"RC=Ro*(1-(IL)^2)/(2*IL);\n",
"disp('ohm',RC,+'The value of resistance RC is')"
   ]
   }
,
{
		   "cell_type": "markdown",
		   "metadata": {},
		   "source": [
			"## Example 1.2_4: example_4.sce"
		   ]
		  },
  {
"cell_type": "code",
	   "execution_count": null,
	   "metadata": {
	    "collapsed": true
	   },
	   "outputs": [],
"source": [
"clc;\n",
"// page no 9\n",
"// prob no 1_2_4\n",
"//As given in fig. 1.2.4 L-attenuator with source resistance Rs=75 ohm and load resistance Rl=50 ohm\n",
"Rs=75; Rl=50;\n",
"//Determination of R1\n",
"R1=(Rs*(Rs-Rl))^(1/2);\n",
"disp('ohm',R1,+'The value of resistance R1 is');\n",
"//Determination of R3\n",
"R3=((Rs^2)-(R1^2))/R1;\n",
"disp('ohm',R3,+'The value of resistance R3 is');\n",
"//Determination of insertion loss\n",
"IL=(R3*(Rs+R1))/((Rs+R1+R3)*(R3+R1)-(R3)^2)\n",
"ILdB=-20*log10(IL);//convertion of power in decibels\n",
"disp('dB',ILdB,+'The value of insertion loss is');"
   ]
   }
,
{
		   "cell_type": "markdown",
		   "metadata": {},
		   "source": [
			"## Example 1.2_5: example_5.sce"
		   ]
		  },
  {
"cell_type": "code",
	   "execution_count": null,
	   "metadata": {
	    "collapsed": true
	   },
	   "outputs": [],
"source": [
"clc;\n",
"// page no 10\n",
"// prob no 1_2_5\n",
"//As given in fig. 1.2.4 L-attenuator with source resistance Rs=10 ohm and load resistance Rl=50 ohm\n",
"Rs=10; Rl=50;\n",
"//Determination of R2\n",
"R2=(Rl*(Rl-Rs))^(1/2);\n",
"disp('ohm',R2,+'The value of resistance R2 is');\n",
"//Determination of R3\n",
"R3=((Rl^2)-(R2^2))/R2;\n",
"disp('ohm',R3,+'The value of resistance R3 is');\n",
"//Determination of insertion loss\n",
"IL=(R3*(Rs+Rl))/((Rs+R3)*(R3+R2+Rl)-(R3)^2)\n",
"ILdB=-20*log10(IL);//convertion of power in decibels\n",
"disp('dB',ILdB,+'The value of insertion loss is');"
   ]
   }
,
{
		   "cell_type": "markdown",
		   "metadata": {},
		   "source": [
			"## Example 1.5_1: example_6.sce"
		   ]
		  },
  {
"cell_type": "code",
	   "execution_count": null,
	   "metadata": {
	    "collapsed": true
	   },
	   "outputs": [],
"source": [
"clc;\n",
"// page no 21\n",
"// prob no 1_5_1\n",
"//Series tuned resonant ckt is given which is tuned at 25 MHz with \n",
"//series resistance 5 ohm self capacitance 7 pF and inductance 1 uH \n",
"C=7*10^-12;R=5;L=10^-6;f=25*10^6;\n",
"//Determination of self resonant freq of coil denoted as Fsr\n",
"Fsr=1/(2*3.14*(L*C)^0.5);\n",
"disp('MHz',Fsr/(10^6),+'The value of self resonant freq is');\n",
"//Determination of Q-factor of coil,excluding self-capacitive effects\n",
"Q=(2*3.14*f*L)/R;\n",
"disp(Q,'The value of Q-factor is');\n",
"//Determination of effective inductance\n",
"Leff=L/(1-(f/Fsr)^2);\n",
"disp('uH',Leff*(10^6),+'The value of effective inductance is');\n",
"//Determination of effective Q-factor\n",
"Qeff=Q*(1-(f/Fsr)^2);\n",
"disp(Qeff,'The value of effective Q-factor is');"
   ]
   }
,
{
		   "cell_type": "markdown",
		   "metadata": {},
		   "source": [
			"## Example 1.8_1: example_7.sce"
		   ]
		  },
  {
"cell_type": "code",
	   "execution_count": null,
	   "metadata": {
	    "collapsed": true
	   },
	   "outputs": [],
"source": [
"clc;\n",
"// page no 26\n",
"// prob no 1_8_1\n",
"//High frequency transformer with identical primary and secondary circuits\n",
"Lp=150*10^-6;\n",
"Ls=150*10^-6;\n",
"Cp=470*10^-12;\n",
"Cs=470*10^-12;\n",
"//Lp=Ls=150 uH,Cp=Cs=470 pF\n",
"Q=85//Q-factor for each ckt is 85\n",
"c=0.01//Coeff of coupling is 0.01\n",
"Rl=5000//Load resistance Rl=5000 ohm\n",
"r=75000//Constant current source with internal resistance r=75 kohm\n",
"//Determination of common resonant frequency\n",
"wo=1/((Lp*Cp)^(1/2));\n",
"//disp('Mrad/sec',wo/(10^6),+'The value of common resonant freq is');\n",
"p=3.77*10^6;\n",
"Z2=Rl/(1+(p*%i*Cs*Rl));\n",
"Z1=r/(1+(p*%i*Cp*r));\n",
"// At resonance Zs=Zp=Z\n",
"Z=wo*Ls*(1/Q +%i);\n",
"Zm=%i*p*c*Lp;\n",
"// Determination of denominator\n",
"Dr=((Z+Z1)*(Z+Z2))-(Zm^2)\n",
"// Hence transfer impedance is given as\n",
"Zr= (Z1*Z2*Zm)/Dr;\n",
"disp('ohm',Zr,'The transfer impedance is');"
   ]
   }
],
"metadata": {
		  "kernelspec": {
		   "display_name": "Scilab",
		   "language": "scilab",
		   "name": "scilab"
		  },
		  "language_info": {
		   "file_extension": ".sce",
		   "help_links": [
			{
			 "text": "MetaKernel Magics",
			 "url": "https://github.com/calysto/metakernel/blob/master/metakernel/magics/README.md"
			}
		   ],
		   "mimetype": "text/x-octave",
		   "name": "scilab",
		   "version": "0.7.1"
		  }
		 },
		 "nbformat": 4,
		 "nbformat_minor": 0
}
