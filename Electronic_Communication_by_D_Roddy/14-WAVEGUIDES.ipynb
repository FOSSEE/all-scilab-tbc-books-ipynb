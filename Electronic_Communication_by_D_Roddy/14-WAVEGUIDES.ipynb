{
"cells": [
 {
		   "cell_type": "markdown",
	   "metadata": {},
	   "source": [
       "# Chapter 14: WAVEGUIDES"
	   ]
	},
{
		   "cell_type": "markdown",
		   "metadata": {},
		   "source": [
			"## Example 14.2_1: example_1.sce"
		   ]
		  },
  {
"cell_type": "code",
	   "execution_count": null,
	   "metadata": {
	    "collapsed": true
	   },
	   "outputs": [],
"source": [
"clc;\n",
"//page no 524\n",
"//prob no. 14.2.1\n",
"// A rectangular waveguide has a broad wall dimension as a=0.900 in. Therefore\n",
"a=2.286;//in cm\n",
"wl_c=2*a*10^-2;//in m\n",
"c=3*10^8;\n",
"wl=c/10^10;//in m\n",
"if(wl_c >wl)\n",
"    disp('i)TE10 wave will propogate');\n",
"else\n",
"    disp('i)TE10 wave will not propogate');\n",
"end\n",
"//determination of gide wl\n",
"wl_g=wl/(sqrt(1-(wl/wl_c)^2));\n",
"disp('cm',wl_g*10^2,'Guide wavelength is');\n",
"//determination of phase velocity\n",
"vp=c*wl_g/wl;\n",
"disp('m/s',vp,'Phase velocity is');\n",
"//determination of group velocity\n",
"vg=c*wl/wl_g;\n",
"disp('m/s',vg,'Group velocity is');"
   ]
   }
],
"metadata": {
		  "kernelspec": {
		   "display_name": "Scilab",
		   "language": "scilab",
		   "name": "scilab"
		  },
		  "language_info": {
		   "file_extension": ".sce",
		   "help_links": [
			{
			 "text": "MetaKernel Magics",
			 "url": "https://github.com/calysto/metakernel/blob/master/metakernel/magics/README.md"
			}
		   ],
		   "mimetype": "text/x-octave",
		   "name": "scilab",
		   "version": "0.7.1"
		  }
		 },
		 "nbformat": 4,
		 "nbformat_minor": 0
}
