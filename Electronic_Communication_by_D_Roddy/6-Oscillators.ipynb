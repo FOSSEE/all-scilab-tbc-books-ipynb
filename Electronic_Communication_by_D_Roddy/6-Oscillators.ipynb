{
"cells": [
 {
		   "cell_type": "markdown",
	   "metadata": {},
	   "source": [
       "# Chapter 6: Oscillators"
	   ]
	},
{
		   "cell_type": "markdown",
		   "metadata": {},
		   "source": [
			"## Example 6.3_1: example_1.sce"
		   ]
		  },
  {
"cell_type": "code",
	   "execution_count": null,
	   "metadata": {
	    "collapsed": true
	   },
	   "outputs": [],
"source": [
"clc;\n",
"//page no 199\n",
"// prob no 6.3.1\n",
"// RC phase shift scillator\n",
"// In the given problem small-signal o/p resistance Rc=40kohm\n",
"// collector bias resistor, rc=10kohm,f=400 Hz;\n",
"// all resistances are in Kohm and freq in Hz\n",
"f=400;rc= 10; Rc= 40;\n",
"// Minimum value of beta is given by Bomin= 23+(4*Ro/R)+(29*R/Ro)\n",
"// For minimum beta Ro/R=2.7, we represent Ro/R=b\n",
"b=2.7;\n",
"Bomin=23+(4*b)+(29*1/b);\n",
"disp(Bomin,'1.The minimum value of beta is');\n",
"//Determination of R and C components\n",
"//R0 is given by (rc*Rc)/(rc+Rc)\n",
"R0=(rc*Rc)/(rc+Rc);\n",
"R=2.7* R0;\n",
"disp('Kohm',R,+'2.The value of resistor R=');\n",
"c=1/(2*%pi*f*R*sqrt(6+(4*b)))*10^9;\n",
"disp('pF',c,+'3.The value of capacitor is ');"
   ]
   }
,
{
		   "cell_type": "markdown",
		   "metadata": {},
		   "source": [
			"## Example 6.3_2: example_2.sce"
		   ]
		  },
  {
"cell_type": "code",
	   "execution_count": null,
	   "metadata": {
	    "collapsed": true
	   },
	   "outputs": [],
"source": [
"clc;\n",
"// page no 200\n",
"// prob no 6.3.2\n",
"// RC phase shift oscillator\n",
"// all resistors are in Kohm\n",
"f=800;R0=18;\n",
"// R>>Ro should be chosen to minimize the effect of Ro on frequency. A number of values for R can be tried, and it will be found that R=100Kohm is reasonable.\n",
"R=100;\n",
"c=1/(2*%pi*f*R*sqrt(6+(4*R0/R)))*10^9;// C in pF\n",
"disp('pF',c,+'The value of capacitor is ');"
   ]
   }
,
{
		   "cell_type": "markdown",
		   "metadata": {},
		   "source": [
			"## Example 6.3_3: example_3.sce"
		   ]
		  },
  {
"cell_type": "code",
	   "execution_count": null,
	   "metadata": {
	    "collapsed": true
	   },
	   "outputs": [],
"source": [
"clc;\n",
"// page no 201\n",
"// prob no 6_3_3\n",
"// RC pase shift oscillator\n",
"// All resistors are in Kohm\n",
"f=1000; Ro=5;\n",
"//Choose R>> R0 to minimize the effects of R0 on frequency. Select R=100kohm\n",
"R=100;\n",
"c=1/(2*%pi*f*R*sqrt(6+(4*R0/R)))*10^9;\n",
"disp('pF',c,+'The value of capacitor is ');\n",
"// The required open -circuit voltage gain is \n",
"Ao= 29+23*(Ro/R)+4*(Ro/R)^2;\n",
"disp(Ao,'1.The required open -circuit voltage gain is');\n",
"gm=Ao/Ro;\n",
"disp('mS',gm,+'2.The value of gm is');"
   ]
   }
,
{
		   "cell_type": "markdown",
		   "metadata": {},
		   "source": [
			"## Example 6.4_1: example_4.sce"
		   ]
		  },
  {
"cell_type": "code",
	   "execution_count": null,
	   "metadata": {
	    "collapsed": true
	   },
	   "outputs": [],
"source": [
"clc;\n",
"// page no 205\n",
"// prob no 6_4_1\n",
"// colpitt's oscillator\n",
"L=400*10^-6;// in H\n",
"c1= 100;// in pF\n",
"c2= 300;// in pF\n",
"Q=200;\n",
"Ro= 5*10^3;\n",
"Bo=100;//beta value\n",
"// The tuning capacitance is\n",
"Cs=(c1*c2/(c1+c2));\n",
"disp('pF',Cs,+'1.The value of capacitor is ');\n",
"//  the frequency of oscillation is obtained as\n",
"f=1/(2*%pi*sqrt(L*Cs*10^-12));\n",
"disp('Hz',f,'2.The frequency of oscillation is');\n",
"// The dynamic impedence of the tuned circuit \n",
"wo= 2*%pi *f;\n",
"Rd=Q/(wo*Cs*10^-12);\n",
"disp('ohm',Rd,+'3.The dynamic impedence of the tuned circuit');\n",
"// The coil series resistance is \n",
"r=wo*L/Q;\n",
"disp('ohm',r,+'4.The coil series resistance is ');\n",
"//The capacitor raio c= c1/c2=1/3, and therefore 1-c2/B0*c1 = 1 .\n",
"// The starting value of gm is therefore given by\n",
"c= c1/c2;\n",
"gm=(1/Ro)*c +(c+3+2)*(1/Rd);\n",
"disp('sec',gm,+'5.The value of gm is');\n",
"// Assuming the input resistance is that of the transistor alone,\n",
"R1=Bo/gm;\n",
"disp('ohm',R1,+'6.The input resistance is');\n",
"//The actual starting frequency is obtained from wo^2=(1/LCs)+(1/R1R2C1C2)\n",
"wo2=1/((L*Cs*10^-12)+(1/R1*Ro*c1*c2*10^-12*10^-12));\n",
"wo=sqrt(wo2);\n",
"// Hence the frequency is \n",
"f=wo/(2*%pi);\n",
"disp('Hz',f,'7.The frequency of oscillation is');"
   ]
   }
,
{
		   "cell_type": "markdown",
		   "metadata": {},
		   "source": [
			"## Example 6.6_1: example_5.sce"
		   ]
		  },
  {
"cell_type": "code",
	   "execution_count": null,
	   "metadata": {
	    "collapsed": true
	   },
	   "outputs": [],
"source": [
"clc;\n",
"// page no 211\n",
"// prob no 6.6.1\n",
"//In given problem zero bias capacitance co is 20pF\n",
"Co=20;// in pF\n",
"Vd=-7;// reverse bias voltage in volt\n",
"//constant pottential of junction is 0.5\n",
"a=0.5;// for abrupt junction\n",
"Cd=Co/(1-(Vd/0.5))^a;\n",
"disp('pF',Cd,+'The value of capacitor is ');"
   ]
   }
,
{
		   "cell_type": "markdown",
		   "metadata": {},
		   "source": [
			"## Example 6.6_2: example_6.sce"
		   ]
		  },
  {
"cell_type": "code",
	   "execution_count": null,
	   "metadata": {
	    "collapsed": true
	   },
	   "outputs": [],
"source": [
"clc;\n",
"// page no 212\n",
"// prob no 6.6.2\n",
"//Voltage controlled Clapp oscillator\n",
"// Capacitor is in pF and inductor in uH\n",
"C1=300; C2=300; Cc=20; L=100;\n",
"// A) With zero applied bias,the total tuning capacitor is\n",
"Vd1=0;a=0.5;Co=20;\n",
"Cd1=Co/(1-(Vd1/0.5))^a;\n",
"Cs1=1/((1/C1)+(1/C2)+(1/Cc)+(1/Cd1));\n",
"disp('pF',Cs1, +'1.The total tuning capacitor is');\n",
"// The frequency of oscillation is\n",
"f=1/(2*%pi*sqrt(L*10^-6*Cs1*10^-12));\n",
"disp('Hz',f,'2.The frequency of oscillation is');\n",
"// B) With a reverse bias of -7 v, the tuning capacitance becomes\n",
"Vd2=-7;\n",
"Cd2=Co/(1-(Vd2/0.5))^a;\n",
"Cs2=1/((1/C1)+(1/C2)+(1/Cc)+(1/Cd2));\n",
"disp('pF',Cs2, +'3.The total tuning capacitor is');\n",
"// The frequency of oscillation is\n",
"f=1/(2*%pi*sqrt(L*10^-6*Cs2*10^-12));\n",
"disp('Hz',f,'4.The frequency of oscillation is');"
   ]
   }
],
"metadata": {
		  "kernelspec": {
		   "display_name": "Scilab",
		   "language": "scilab",
		   "name": "scilab"
		  },
		  "language_info": {
		   "file_extension": ".sce",
		   "help_links": [
			{
			 "text": "MetaKernel Magics",
			 "url": "https://github.com/calysto/metakernel/blob/master/metakernel/magics/README.md"
			}
		   ],
		   "mimetype": "text/x-octave",
		   "name": "scilab",
		   "version": "0.7.1"
		  }
		 },
		 "nbformat": 4,
		 "nbformat_minor": 0
}
