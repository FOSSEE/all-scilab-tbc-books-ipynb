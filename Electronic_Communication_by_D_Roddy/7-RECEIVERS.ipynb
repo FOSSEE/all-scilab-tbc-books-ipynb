{
"cells": [
 {
		   "cell_type": "markdown",
	   "metadata": {},
	   "source": [
       "# Chapter 7: RECEIVERS"
	   ]
	},
{
		   "cell_type": "markdown",
		   "metadata": {},
		   "source": [
			"## Example 7.3_1: example_1.sce"
		   ]
		  },
  {
"cell_type": "code",
	   "execution_count": null,
	   "metadata": {
	    "collapsed": true
	   },
	   "outputs": [],
"source": [
"clc;\n",
"//page no 227\n",
"//prob no. 7.3.1\n",
"//An RF receiver tunes signal in 550-1600kHz with IF=455kHz\n",
"fs_min=550*10^3;fs_max=1600*10^3;IF=455*10^3;\n",
"//Determination of freq tuning ranges\n",
"fo_min=fs_min+IF;\n",
"fo_max=fs_max+IF;\n",
"disp('Hz',fo_max,'fo_max=','Hz',fo_min,'fo_min=','The freq tuning range is');\n",
"Rf=(fo_max)/(fo_min);//calculation of freq tuning range ratio\n",
"disp(Rf,'Rf=','The tuning range ratio of oscillator is');\n",
"Rc=Rf^2;//calculation of capacitance tuning range ratio\n",
"disp(Rc,'Rc=','The capacitor tuning range ratio of oscillator is');\n",
"//For RF section\n",
"Rf1=fs_max/fs_min;\n",
"disp(Rf1,'Rf=','The tuning range ratio of RF-ckt is');\n",
"Rc1=Rf1^2; \n",
"disp(Rc1,'Rc','The capacitor tuning range ratio of RF-ckt is');"
   ]
   }
,
{
		   "cell_type": "markdown",
		   "metadata": {},
		   "source": [
			"## Example 7.4_1: example_2.sce"
		   ]
		  },
  {
"cell_type": "code",
	   "execution_count": null,
	   "metadata": {
	    "collapsed": true
	   },
	   "outputs": [],
"source": [
"clc;\n",
"//page no 230\n",
"//prob no. 7.4.1\n",
"//Refer example 7.3.1\n",
"//2-tuning capacitor with max 350pF/section ^ capacitance ratio in eg. 7.3.1\n",
"Rco=8.463;Rfo=2.909;Rcs=4.182;Rfo=2.045;fo_max=2055*10^3;fo_min=1005*10^3;\n",
"Cs_max=350*10^-12;\n",
"//For the RF section\n",
"Cs_min=Cs_max/Rcs;\n",
"disp('F',Cs_min,'The Cs_min is'); "
   ]
   }
,
{
		   "cell_type": "markdown",
		   "metadata": {},
		   "source": [
			"## Example 7.6_1: example_3.sce"
		   ]
		  },
  {
"cell_type": "code",
	   "execution_count": null,
	   "metadata": {
	    "collapsed": true
	   },
	   "outputs": [],
"source": [
"clc;\n",
"//page no 234\n",
"//prob no. 7.6.1\n",
"// An AM broadcast receiver with following specifications is given\n",
"IF=465;//IF in KHz\n",
"fs=1000;//Tuning freq in KHz\n",
"Q=50;//Quality factor\n",
"// Oscillator freq fo is given as\n",
"fo=fs+IF;\n",
"// a) Image freq is given as\n",
"fi=fo+IF;\n",
"disp('KHz',fi,'Image freq is');\n",
"y=fi/fs - fs/fi;\n",
"// b) image rejection is given as \n",
"Ar=1/sqrt(1+(y*Q)^2);\n",
"Ar_dB=20*log10(Ar);\n",
"disp('dB',Ar_dB,'Image rejection is');"
   ]
   }
,
{
		   "cell_type": "markdown",
		   "metadata": {},
		   "source": [
			"## Example 7.7_1: example_4.sce"
		   ]
		  },
  {
"cell_type": "code",
	   "execution_count": null,
	   "metadata": {
	    "collapsed": true
	   },
	   "outputs": [],
"source": [
"clc;\n",
"//page no 236\n",
"//prob no. 7.7.1\n",
"// refer to example 7.3.1\n",
"// A broadcast receiver is tuned to a signal with\n",
"fs=950;//in KHz\n",
"IF=455;//in KHz\n",
"m=[1,2];\n",
"n=[1,2];\n",
"f0=fs+IF;\n",
"disp('The sum of frequencies are');\n",
"for i=1:1:2\n",
"    for j=1:1:2\n",
"fu1=n(j)/m(i) *f0 + 1/m(i) *IF;\n",
"disp(fu1);\n",
"end\n",
"end\n",
"disp('The difference of frequencies are');\n",
"for i=1:1:2\n",
"    for j=1:1:2\n",
"fu2=n(j)/m(i) *f0 - 1/m(i) *IF;\n",
"disp(fu2);\n",
"end\n",
"end"
   ]
   }
],
"metadata": {
		  "kernelspec": {
		   "display_name": "Scilab",
		   "language": "scilab",
		   "name": "scilab"
		  },
		  "language_info": {
		   "file_extension": ".sce",
		   "help_links": [
			{
			 "text": "MetaKernel Magics",
			 "url": "https://github.com/calysto/metakernel/blob/master/metakernel/magics/README.md"
			}
		   ],
		   "mimetype": "text/x-octave",
		   "name": "scilab",
		   "version": "0.7.1"
		  }
		 },
		 "nbformat": 4,
		 "nbformat_minor": 0
}
