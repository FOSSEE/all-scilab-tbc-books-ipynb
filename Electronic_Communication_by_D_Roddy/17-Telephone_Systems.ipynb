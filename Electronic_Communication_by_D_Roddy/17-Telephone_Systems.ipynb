{
"cells": [
 {
		   "cell_type": "markdown",
	   "metadata": {},
	   "source": [
       "# Chapter 17: Telephone Systems"
	   ]
	},
{
		   "cell_type": "markdown",
		   "metadata": {},
		   "source": [
			"## Example 17.1_1: example_1.sce"
		   ]
		  },
  {
"cell_type": "code",
	   "execution_count": null,
	   "metadata": {
	    "collapsed": true
	   },
	   "outputs": [],
"source": [
"clc;\n",
"//page no 641\n",
"//problem no 17.1.1\n",
"//a)Determination of max gain1\n",
"FTL=50;M=12;\n",
"NFL=2*FTL;NFLG=(NFL-M);\n",
"G_max1=NFLG/2;\n",
"disp('dB',G_max1,'a)The max gain is');\n",
"//b)Determination of max gain2\n",
"IL=3;RLW=20;RLE=40;\n",
"NL=(4*IL)+RLW+RLE;\n",
"NLG=(NL-M);\n",
"G_max2=NLG/2;\n",
"disp('dB',G_max2,'The max gain is');\n",
"//c)Determination of amplr gain \n",
"LT=15;OM=6;\n",
"OLW=(RLW-LT)/2;\n",
"OLE=(RLE-LT)/2;\n",
"A=OM+OLW+OLE+(2*IL);\n",
"disp('dB',A,'The amplr gain is');"
   ]
   }
],
"metadata": {
		  "kernelspec": {
		   "display_name": "Scilab",
		   "language": "scilab",
		   "name": "scilab"
		  },
		  "language_info": {
		   "file_extension": ".sce",
		   "help_links": [
			{
			 "text": "MetaKernel Magics",
			 "url": "https://github.com/calysto/metakernel/blob/master/metakernel/magics/README.md"
			}
		   ],
		   "mimetype": "text/x-octave",
		   "name": "scilab",
		   "version": "0.7.1"
		  }
		 },
		 "nbformat": 4,
		 "nbformat_minor": 0
}
