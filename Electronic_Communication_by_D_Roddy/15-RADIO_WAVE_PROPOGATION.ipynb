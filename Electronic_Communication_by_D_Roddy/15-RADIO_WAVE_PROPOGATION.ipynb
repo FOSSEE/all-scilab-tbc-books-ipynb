{
"cells": [
 {
		   "cell_type": "markdown",
	   "metadata": {},
	   "source": [
       "# Chapter 15: RADIO WAVE PROPOGATION"
	   ]
	},
{
		   "cell_type": "markdown",
		   "metadata": {},
		   "source": [
			"## Example 15.2_1: example_1.sce"
		   ]
		  },
  {
"cell_type": "code",
	   "execution_count": null,
	   "metadata": {
	    "collapsed": true
	   },
	   "outputs": [],
"source": [
"clc;\n",
"//page no 538\n",
"//prob no. 15.2.1\n",
"// satellite communication system is given \n",
"ht=36000;//height of satellite in km\n",
"f=4000;//freq used in MHz\n",
"Gt=15;//transmitting antenna gain\n",
"Gr=45;//receiving antenna gain\n",
"// A) Determination of free-space transmission loss\n",
"L=32.5+20*log10(ht)+20*log10(f);\n",
"disp('dB',L,'The free-space transmission loss is');\n",
"// B) Determination of received power Pr\n",
"Pt=200;//transmitted power in watt\n",
"Pr_Pt=Gt+Gr-L;//power ration in dB\n",
"Pr_Pt_watt=10^(Pr_Pt/10);//power ratio in watts\n",
"//Therefore\n",
"Pr=Pt*Pr_Pt_watt;\n",
"disp('watts',Pr,'The received power');"
   ]
   }
,
{
		   "cell_type": "markdown",
		   "metadata": {},
		   "source": [
			"## Example 15.2_2: example_2.sce"
		   ]
		  },
  {
"cell_type": "code",
	   "execution_count": null,
	   "metadata": {
	    "collapsed": true
	   },
	   "outputs": [],
"source": [
"clc;\n",
"//page no 539\n",
"//prob no. 15.2.2\n",
"// In the given problemhalf dipole antenna is given\n",
"Pr=10;//radiated power in watt\n",
"f=150;//freq used in MHz\n",
"d2=50;//distance of dipole in km\n",
"//we know for the half dipole the maximum gain is 1.64:1,and the effectie length is wl/pi. Therefore open-ckt voltage induced is given as\n",
"Vs=sqrt(30*Pr*1.64)/(d2*10^3)*2/%pi;\n",
"disp('uV',Vs*10^6,'The open-ckt voltage induced is ');"
   ]
   }
,
{
		   "cell_type": "markdown",
		   "metadata": {},
		   "source": [
			"## Example 15.3_1: example_3.sce"
		   ]
		  },
  {
"cell_type": "code",
	   "execution_count": null,
	   "metadata": {
	    "collapsed": true
	   },
	   "outputs": [],
"source": [
"clc;\n",
"//page no 545\n",
"//prob no. 15.3.1\n",
"// VHF mobile radio system is given \n",
"Pt=100;//transmitted power\n",
"f=150;//freq used in MHz\n",
"d1=20;//height of transmitting antenna in m\n",
"Gt=1.64;//transmitting antenna gain\n",
"ht=2;//height of receiving antenna in m\n",
"d2=40;// distance in km\n",
"wl=c/(f*10^6);\n",
"E0=sqrt(30*Pt*Gt)\n",
"// Field strength at a receiving antenna is\n",
"ER=(E0*4*%pi*d1*ht)/(wl*(d2*10^3)^2);\n",
"disp('uV/m',ER*10^6,'Field strength at a receiving antenna is');"
   ]
   }
,
{
		   "cell_type": "markdown",
		   "metadata": {},
		   "source": [
			"## Example 15.3_2: example_4.sce"
		   ]
		  },
  {
"cell_type": "code",
	   "execution_count": null,
	   "metadata": {
	    "collapsed": true
	   },
	   "outputs": [],
"source": [
"clc;\n",
"//page no 548\n",
"//prob no. 15.3.2\n",
"ht1=100;ht2=60;//antenna heights in ft\n",
"dmax_miles=sqrt(2*ht1)+sqrt(2*ht2);\n",
"disp('miles',dmax_miles,'The maximum range is');"
   ]
   }
,
{
		   "cell_type": "markdown",
		   "metadata": {},
		   "source": [
			"## Example 15.4_1: example_5.sce"
		   ]
		  },
  {
"cell_type": "code",
	   "execution_count": null,
	   "metadata": {
	    "collapsed": true
	   },
	   "outputs": [],
"source": [
"clc;\n",
"//page no 560\n",
"//prob no. 15.4.1\n",
"ht=200;//virtual height in km\n",
"a=6370;//in km\n",
"B_degree=20;\n",
"B_rad=20*%pi/180;//angle of elevation in degree\n",
"// The flat-earth approximation gives \n",
"d=2*ht/tand(B_degree);\n",
"disp('km',d,'d=');\n",
"// By using radian measures for all angles\n",
"d=2*a*(((%pi/2)-B_rad)-(asin(a*cosd(B_degree)/(a+ht))));\n",
"disp('km',d,'d=');"
   ]
   }
,
{
		   "cell_type": "markdown",
		   "metadata": {},
		   "source": [
			"## Example 15.7_1: example_6.sce"
		   ]
		  },
  {
"cell_type": "code",
	   "execution_count": null,
	   "metadata": {
	    "collapsed": true
	   },
	   "outputs": [],
"source": [
"clc;\n",
"//page no 574\n",
"//prob no. 15.7.1\n",
"// In this problem data regarding the sea water is given\n",
"conductivity = 4;//measured in S/m\n",
"rel_permittivity =80;\n",
"u=4*%pi*10^-7;\n",
"f1=100;//measured in Hz\n",
"f2=10^6;//measured in Hz\n",
"// A) first it is necessary to evaluate the ratio of conductivity/w*rel_permittivity\n",
"w1=2*%pi*f1;\n",
"r=conductivity/w1*rel_permittivity;\n",
"//after the calculation this ratio is much greater than unity. Therefore we have to use following eq to calculate the attenuation coeff as\n",
"a=sqrt(w1*conductivity*u/2);\n",
"disp('N/m',a,'The attenuation coeff is');\n",
"// By using the conversion factor 1N=8.686 dB\n",
"a_dB=a*8.686;\n",
"disp('dB/m',a_dB,'The attenuation coeff in dB/m is');\n",
"// B)\n",
"w2=2*%pi*f2;\n",
"r=conductivity/w2*rel_permittivity;\n",
"//after the calculation this ratio is much greater than unity. Therefore we have to use following eq to calculate the attenuation coeff as\n",
"a=sqrt(w2*conductivity*u/2);\n",
"disp('N/m',a,'The attenuation coeff is');\n",
"// By using the conversion factor 1N=8.686 dB\n",
"a_dB=a*8.686;\n",
"disp('dB/m',a_dB,'The attenuation coeff in dB/m is');"
   ]
   }
],
"metadata": {
		  "kernelspec": {
		   "display_name": "Scilab",
		   "language": "scilab",
		   "name": "scilab"
		  },
		  "language_info": {
		   "file_extension": ".sce",
		   "help_links": [
			{
			 "text": "MetaKernel Magics",
			 "url": "https://github.com/calysto/metakernel/blob/master/metakernel/magics/README.md"
			}
		   ],
		   "mimetype": "text/x-octave",
		   "name": "scilab",
		   "version": "0.7.1"
		  }
		 },
		 "nbformat": 4,
		 "nbformat_minor": 0
}
