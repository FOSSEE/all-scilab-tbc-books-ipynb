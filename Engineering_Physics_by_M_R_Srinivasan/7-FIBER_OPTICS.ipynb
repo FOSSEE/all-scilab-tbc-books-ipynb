{
"cells": [
 {
		   "cell_type": "markdown",
	   "metadata": {},
	   "source": [
       "# Chapter 7: FIBER OPTICS"
	   ]
	},
{
		   "cell_type": "markdown",
		   "metadata": {},
		   "source": [
			"## Example 7.1_u1: To_determine_the_no_of_modes_propogating_in_the_fiber.sce"
		   ]
		  },
  {
"cell_type": "code",
	   "execution_count": null,
	   "metadata": {
	    "collapsed": true
	   },
	   "outputs": [],
"source": [
"//Example 7_1_u1\n",
"clc();\n",
"clear;\n",
"//To determine the no of modes propogating in the fiber\n",
"n1=1.48\n",
"n2=1.41\n",
"NA=sqrt(n1^2-n2^2)\n",
"d=60  //units in micro mts\n",
"lamda0=0.8        //units in micro mts\n",
"v=(%pi*d*NA)/lamda0\n",
"n=v^2/2\n",
"printf('Number of modes n=%.2f',n)\n",
"//In text book the answer given wrong as n=4.55*10^3    the correct answer is n=5615.50 "
   ]
   }
,
{
		   "cell_type": "markdown",
		   "metadata": {},
		   "source": [
			"## Example 7.2_u1: To_find_the_fraction_of_initial_intensity.sce"
		   ]
		  },
  {
"cell_type": "code",
	   "execution_count": null,
	   "metadata": {
	    "collapsed": true
	   },
	   "outputs": [],
"source": [
"//Example 7_2_u1\n",
"clc();\n",
"clear;\n",
"//To find the fraction of initial intensity\n",
"alpha=-2.2            //units in db/Kilo meters\n",
"//When l=2 Kilo meters\n",
"l=2    //units in Kilo meters\n",
"//Case (a) when L=2 Kilo meters\n",
"It_I0=10^(alpha*l/10)\n",
"printf('The fraction of initial intensity left when L=2 It/I0=%.3f\n',It_I0)\n",
"//Case (b) when L=6 Kilo meters\n",
"l=6    //units in Kilo meters\n",
"It_I0=10^(alpha*l/10)\n",
"printf('The fraction of initial intensity left when L=6 It/I0=%.3f\n',It_I0)"
   ]
   }
,
{
		   "cell_type": "markdown",
		   "metadata": {},
		   "source": [
			"## Example 7.3_u1: To_calculate_the_numerical_apperture_and_angle_of_acceptance.sce"
		   ]
		  },
  {
"cell_type": "code",
	   "execution_count": null,
	   "metadata": {
	    "collapsed": true
	   },
	   "outputs": [],
"source": [
"//Example 7_3_u1\n",
"clc();\n",
"clear;\n",
"//To calculate the numerical apperture and angle of acceptance\n",
"n1=1.48\n",
"delta=0.05\n",
"NA=n1*sqrt(2*delta)\n",
"printf('Numerical apperture is NA=%.3f\n',NA)\n",
"ia=asin(NA)*180/%pi             //units in degrees\n",
"printf('Angle of acceptance is ia=%.2f Degrees',ia)"
   ]
   }
,
{
		   "cell_type": "markdown",
		   "metadata": {},
		   "source": [
			"## Example 7.4_u1: To_calculate_the_numerical_apperture_and_angle_of_acceptance.sce"
		   ]
		  },
  {
"cell_type": "code",
	   "execution_count": null,
	   "metadata": {
	    "collapsed": true
	   },
	   "outputs": [],
"source": [
"//Example 7_4_u1\n",
"clc();\n",
"clear;\n",
"//To calculate the numerical apperture and angle of acceptance\n",
"n1=1.45\n",
"n2=1.40\n",
"NA=sqrt(n1^2-n2^2)\n",
"printf('Numerical apperture is NA=%.3f\n',NA)\n",
"ia=asin(NA)*180/%pi             //units in degrees\n",
"printf('Angle of acceptance is ia=%.2f Degrees',ia)"
   ]
   }
,
{
		   "cell_type": "markdown",
		   "metadata": {},
		   "source": [
			"## Example 7.5_u1: To_find_the_loss_specification_of_a_fiber.sce"
		   ]
		  },
  {
"cell_type": "code",
	   "execution_count": null,
	   "metadata": {
	    "collapsed": true
	   },
	   "outputs": [],
"source": [
"//Example 7_5_u1\n",
"clc();\n",
"clear;\n",
"//To find the loss specification of a fiber\n",
"l=0.5       //units in KM\n",
"it=7.5*10^-6      //units in micro mts\n",
"i0=8.6*10^-6       //units in micro mts\n",
"alpha=(10/l)*log10(it/i0) //units in db/Km\n",
"printf('The loss specification of the fiber is alpha=%.2f db/km',alpha)"
   ]
   }
,
{
		   "cell_type": "markdown",
		   "metadata": {},
		   "source": [
			"## Example 7.6_u1: EX7_6_u1.sce"
		   ]
		  },
  {
"cell_type": "code",
	   "execution_count": null,
	   "metadata": {
	    "collapsed": true
	   },
	   "outputs": [],
"source": [
"//Example 7_6_u1\n",
"clc();\n",
"clear;\n",
"//To calculate the numerical aperture,acceptance angle,critical angle,velocity of the light in core and cladding\n",
"n1=1.5\n",
"delta=1.8*10^-2\n",
"NA=n1*sqrt(2*delta)\n",
"printf('Numerical apperture is NA=%.3f\n',NA)\n",
"ia=asin(NA)*180/%pi             //units in degrees\n",
"printf('Angle of acceptance is ia=%.2f Degrees\n',ia)\n",
"n2=0.982*n1\n",
"n2_n1=0.982\n",
"ic=asin(n2_n1)*180/%pi             //units in degrees\n",
"printf('Critical angle is ic=%.2f Degrees\n',ic)\n",
"c=3*10^8\n",
"vc=c/n1\n",
"printf('Velocity of light in core is vc=')\n",
"disp(vc)\n",
"vcc=c/n2\n",
"printf('Velocity of light in cladding is vcc=')\n",
"disp(vcc)"
   ]
   }
,
{
		   "cell_type": "markdown",
		   "metadata": {},
		   "source": [
			"## Example 7.7_u1: To_calculate_the_fiber_length.sce"
		   ]
		  },
  {
"cell_type": "code",
	   "execution_count": null,
	   "metadata": {
	    "collapsed": true
	   },
	   "outputs": [],
"source": [
"//Example 7_7_u1\n",
"clc();\n",
"clear;\n",
"//To calculate the fiber length\n",
"alpha=0.5   //units in db/KM\n",
"it=2*10^-6        //units in W\n",
"i0=1.5*10^-3          //units in W\n",
"l=-1*(10/alpha)*log10(it/i0)     //units in KM\n",
"printf('The length of the fiber is L=%.1f KM',l)"
   ]
   }
],
"metadata": {
		  "kernelspec": {
		   "display_name": "Scilab",
		   "language": "scilab",
		   "name": "scilab"
		  },
		  "language_info": {
		   "file_extension": ".sce",
		   "help_links": [
			{
			 "text": "MetaKernel Magics",
			 "url": "https://github.com/calysto/metakernel/blob/master/metakernel/magics/README.md"
			}
		   ],
		   "mimetype": "text/x-octave",
		   "name": "scilab",
		   "version": "0.7.1"
		  }
		 },
		 "nbformat": 4,
		 "nbformat_minor": 0
}
