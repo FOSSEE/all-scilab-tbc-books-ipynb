{
"cells": [
 {
		   "cell_type": "markdown",
	   "metadata": {},
	   "source": [
       "# Chapter 9: QUANTUM MECHANICS AND QUANTUM COMPUTING"
	   ]
	},
{
		   "cell_type": "markdown",
		   "metadata": {},
		   "source": [
			"## Example 1.1_u2: To_calculate_energy_momentum_and_the_probability_of_of_finding_the_particle.sce"
		   ]
		  },
  {
"cell_type": "code",
	   "execution_count": null,
	   "metadata": {
	    "collapsed": true
	   },
	   "outputs": [],
"source": [
"//Example 1_1_u2\n",
"clc();\n",
"clear;\n",
"//To calculate energy momentum and the probability of of finding the particle\n",
"n=3\n",
"h=6.63*10^-34            //units in m^2 kg s^-1\n",
"m=1.67*10^-27       //units in Kgs\n",
"l=0.1         //units in nm\n",
"l=l*10^-9        //units in meters\n",
"e=(n^2*h^2)/(8*m*l^2)    //units in joules\n",
"printf('The energy of the particle is E=')\n",
"disp(e)\n",
"printf('Joules')\n",
"lamda=(2*l)/n       //units in meters\n",
"lamda=6.6*10^-11  //units in meters\n",
"p=h/lamda        //units in Kg meter s^-1\n",
"printf('\nMomentum is p=')\n",
"disp(p)\n",
"printf('Kg  meter s^-1')\n",
"prob=((1/3)-0)\n",
"printf('\nThe probability of finding the particle is =%.2f',prob)"
   ]
   }
,
{
		   "cell_type": "markdown",
		   "metadata": {},
		   "source": [
			"## Example 1.2_u2: To_calculate_the_wavelength_of_the_radiation_emitted.sce"
		   ]
		  },
  {
"cell_type": "code",
	   "execution_count": null,
	   "metadata": {
	    "collapsed": true
	   },
	   "outputs": [],
"source": [
"//Example 1_2_u2\n",
"clc();\n",
"clear;\n",
"//To calculate the wavelength of the  radiation emitted\n",
"h=6.63*10^-34           //units in m^2 kg s^-1\n",
"m=9.1*10^-31       //units in Kgs\n",
"l=1            //units in nm\n",
"l=l*10^-9     //units in meters\n",
"c=3*10^8       //units in meters/sec\n",
"lamda=(8*m*c*l^2)/(27*h)  //units in meters\n",
"lamda=lamda*10^9        //units in nm\n",
"printf('The wavelength of the radiation is lamda=%.1fnm',lamda)"
   ]
   }
,
{
		   "cell_type": "markdown",
		   "metadata": {},
		   "source": [
			"## Example 1.3_u2: To_calculate_the_uncertenity_in_momentum.sce"
		   ]
		  },
  {
"cell_type": "code",
	   "execution_count": null,
	   "metadata": {
	    "collapsed": true
	   },
	   "outputs": [],
"source": [
"//Example 1_3_u2\n",
"clc();\n",
"clear;\n",
"//To calculate the uncertenity in momentum\n",
"h=6.63e-34                 //units in m^2 kg s^-1\n",
"deltax=1         //units in nm\n",
"deltax=deltax*10^-9                //units in meters\n",
"deltap=h/(4*%pi*deltax)          //units in Kg meter s^-1\n",
"printf('The uncertenity in momentum is delta p=')\n",
"disp(deltap)\n",
"printf('Kg ms^-1')\n",
"//In text book the answer is printed wrong as 0.53*10^-15 Kg ms^-1 the correct answer is  5.276D-26  Kg ms^-1 "
   ]
   }
,
{
		   "cell_type": "markdown",
		   "metadata": {},
		   "source": [
			"## Example 1.4_u2: To_find_out_the_no_of_states_that_can_accomodate.sce"
		   ]
		  },
  {
"cell_type": "code",
	   "execution_count": null,
	   "metadata": {
	    "collapsed": true
	   },
	   "outputs": [],
"source": [
"//Example 1_4_u2\n",
"clc();\n",
"clear;\n",
"//To find out the no of states that can accomodate\n",
"h=6.63*10^-34            //units in m^2 kg s^-1\n",
"m=9.1*10^-31         //units in Kgs\n",
"l=0.5           //units in nm\n",
"l=l*10^-9           //units in meters\n",
"v=15        //units in eV\n",
"v=v*1.6*10^-19          //units in Volts\n",
"nmax=(4*l*sqrt(m*v))/h\n",
"printf('The maximum quantum number possible is n=%d',nmax)"
   ]
   }
],
"metadata": {
		  "kernelspec": {
		   "display_name": "Scilab",
		   "language": "scilab",
		   "name": "scilab"
		  },
		  "language_info": {
		   "file_extension": ".sce",
		   "help_links": [
			{
			 "text": "MetaKernel Magics",
			 "url": "https://github.com/calysto/metakernel/blob/master/metakernel/magics/README.md"
			}
		   ],
		   "mimetype": "text/x-octave",
		   "name": "scilab",
		   "version": "0.7.1"
		  }
		 },
		 "nbformat": 4,
		 "nbformat_minor": 0
}
