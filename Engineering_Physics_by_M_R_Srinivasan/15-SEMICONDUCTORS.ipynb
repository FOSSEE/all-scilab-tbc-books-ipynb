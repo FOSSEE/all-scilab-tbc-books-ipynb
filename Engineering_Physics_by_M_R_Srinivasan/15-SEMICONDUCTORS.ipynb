{
"cells": [
 {
		   "cell_type": "markdown",
	   "metadata": {},
	   "source": [
       "# Chapter 15: SEMICONDUCTORS"
	   ]
	},
{
		   "cell_type": "markdown",
		   "metadata": {},
		   "source": [
			"## Example 7.1_u2: To_calculate_the_mean_free_path_and_mean_free_time.sce"
		   ]
		  },
  {
"cell_type": "code",
	   "execution_count": null,
	   "metadata": {
	    "collapsed": true
	   },
	   "outputs": [],
"source": [
"//Example 7_1_u2\n",
"clc();\n",
"clear;\n",
"//To calculate the mean free path and mean free time\n",
"mn=0.26*0.91*10^-30           //units in Kgs\n",
"un=1000*10^-4        //units in cm^2 V^-1 s^-1\n",
"e=1.6*10^-19          //units in coulombs\n",
"tc=(mn*un)/e         //units in s\n",
"tc1=tc*10^12         //units in ps\n",
"printf('The mean free time is %.3fps',tc1)\n",
"vth=10^7\n",
"meanfreepath=vth*tc*10^7       //units in nm\n",
"printf('\nThe mean free path is given by L=%.1f nm',meanfreepath)"
   ]
   }
,
{
		   "cell_type": "markdown",
		   "metadata": {},
		   "source": [
			"## Example 7.2_u2: To_calculate_the_diffusion_current_density.sce"
		   ]
		  },
  {
"cell_type": "code",
	   "execution_count": null,
	   "metadata": {
	    "collapsed": true
	   },
	   "outputs": [],
"source": [
"//Example 7_2_u2\n",
"clc();\n",
"clear;\n",
"//To calculate the diffusion current density\n",
"Dn=22.5 //units in cm^2/sec\n",
"e=1.6*10^-19  //units in coulombs\n",
"dn=(1*10^18)-(7*10^17)\n",
"dx=0.1            //units in cm\n",
"Jndiff=e*Dn*(dn/dx)          //units in A/cm^2\n",
"printf('The diffusion current density is Jn,diff=%.1f A/cm^2',Jndiff)"
   ]
   }
,
{
		   "cell_type": "markdown",
		   "metadata": {},
		   "source": [
			"## Example 7.3_u2: To_find_the_drift_velocity_and_diffusivity.sce"
		   ]
		  },
  {
"cell_type": "code",
	   "execution_count": null,
	   "metadata": {
	    "collapsed": true
	   },
	   "outputs": [],
"source": [
"//Example 7_3_u2\n",
"clc();\n",
"clear;\n",
"//To find the drift velocity and diffusivity\n",
"vp=1/(100*10^-6)           //units in cm/sec\n",
"eapp=50                   //units in Volt cm^-1\n",
"up=vp/eapp        //units in cm^-2 V^-1 s^-1\n",
"k=0.0259            //units in eV\n",
"dp=(k*up)             //units in cm^2 s^-1\n",
"printf('The drift velocity is Vp=%d cm/sec\n',vp)\n",
"printf('The diffusivity of minority carriers is Dp=%.2f cm^2/sec',dp)"
   ]
   }
,
{
		   "cell_type": "markdown",
		   "metadata": {},
		   "source": [
			"## Example 7.4_u2: To_find_the_charge_in_the_minority_carrier_concentration.sce"
		   ]
		  },
  {
"cell_type": "code",
	   "execution_count": null,
	   "metadata": {
	    "collapsed": true
	   },
	   "outputs": [],
"source": [
"//Example 7_4_u2\n",
"clc();\n",
"clear;\n",
"//To find the charge in the minority carrier concentration\n",
"ni=9.65*10^9       //units in cm^-3\n",
"nno=10^14     //units in cm^-3\n",
"//Before illumination\n",
"pno=ni^2/nno      //units in cm^-3\n",
"//After illumination\n",
"tp=2          //units in us\n",
"tp=tp*10^-6        //units in sec\n",
"gl=(10^13/10^-6)          //units in No of electron hole pair for cm^-3\n",
"pn=pno+(tp*gl)        //units in cm^-3\n",
"printf('Change in the minority carrier concentration is Pn=')\n",
"disp(pn)\n",
"printf('cm^-3')"
   ]
   }
,
{
		   "cell_type": "markdown",
		   "metadata": {},
		   "source": [
			"## Example 7.5_u2: To_find_the_hall_voltage.sce"
		   ]
		  },
  {
"cell_type": "code",
	   "execution_count": null,
	   "metadata": {
	    "collapsed": true
	   },
	   "outputs": [],
"source": [
"//Example 7_5_u2\n",
"clc();\n",
"clear;\n",
"//To find the hall voltage\n",
"e=1.6*10^-19    //units in coulombs\n",
"n=10^16         //units in no of atoms for cm^-3\n",
"Rh=-1/(e*n)         //units in cm^3/C\n",
"i=1            //units in milli amperes\n",
"i=i*10^-3          //units in amperes\n",
"Bz=10^-4      //units in wb/cm^2\n",
"a=2.5*10^-3      //units in cm^2\n",
"w=500*10^-4            //units in micro cm\n",
"Vh=((Rh*i*Bz)/a)*w       //units in V\n",
"Vh=Vh*10^3                //units in mV\n",
"printf('The hall voltage is Vh=%.5f mV',Vh)"
   ]
   }
],
"metadata": {
		  "kernelspec": {
		   "display_name": "Scilab",
		   "language": "scilab",
		   "name": "scilab"
		  },
		  "language_info": {
		   "file_extension": ".sce",
		   "help_links": [
			{
			 "text": "MetaKernel Magics",
			 "url": "https://github.com/calysto/metakernel/blob/master/metakernel/magics/README.md"
			}
		   ],
		   "mimetype": "text/x-octave",
		   "name": "scilab",
		   "version": "0.7.1"
		  }
		 },
		 "nbformat": 4,
		 "nbformat_minor": 0
}
