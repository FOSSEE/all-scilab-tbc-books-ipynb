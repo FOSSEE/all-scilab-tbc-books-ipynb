{
"cells": [
 {
		   "cell_type": "markdown",
	   "metadata": {},
	   "source": [
       "# Chapter 14: DIELECTRIC PROPERTIES"
	   ]
	},
{
		   "cell_type": "markdown",
		   "metadata": {},
		   "source": [
			"## Example 6.1_u2: To_calculate_the_dielectric_constant.sce"
		   ]
		  },
  {
"cell_type": "code",
	   "execution_count": null,
	   "metadata": {
	    "collapsed": true
	   },
	   "outputs": [],
"source": [
"//Example 6_1_u2\n",
"clc();\n",
"clear;\n",
"//To calculate the di-electric constant\n",
"eo=8.85*10^-12    //units in F/meter\n",
"alphae=36*10^-40     //units in meter^3\n",
"n=5*10^28    //units in meter^-3\n",
"er=((30*eo)+(2*n*alphae))/((30*eo)-(n*alphae))\n",
"printf('The di-electric constant is er=%.2f',er)"
   ]
   }
,
{
		   "cell_type": "markdown",
		   "metadata": {},
		   "source": [
			"## Example 6.2_u2: To_calculate_the_atomic_polarizability.sce"
		   ]
		  },
  {
"cell_type": "code",
	   "execution_count": null,
	   "metadata": {
	    "collapsed": true
	   },
	   "outputs": [],
"source": [
"//Example 6_2_u2\n",
"clc();\n",
"clear;\n",
"//To calculate the atomic polarizability\n",
"eo=8.85*10^-12         //units in F/meter\n",
"er=1.000435\n",
"n=2.7*10^25        //No of atoms/meter^3\n",
"alpha=(eo*(er-1))/n          //units in meter^3\n",
"printf('The atomic polarizability is aplha=')\n",
"disp(alpha)\n",
"printf('meter^3')"
   ]
   }
],
"metadata": {
		  "kernelspec": {
		   "display_name": "Scilab",
		   "language": "scilab",
		   "name": "scilab"
		  },
		  "language_info": {
		   "file_extension": ".sce",
		   "help_links": [
			{
			 "text": "MetaKernel Magics",
			 "url": "https://github.com/calysto/metakernel/blob/master/metakernel/magics/README.md"
			}
		   ],
		   "mimetype": "text/x-octave",
		   "name": "scilab",
		   "version": "0.7.1"
		  }
		 },
		 "nbformat": 4,
		 "nbformat_minor": 0
}
