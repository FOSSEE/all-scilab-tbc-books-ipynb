{
"cells": [
 {
		   "cell_type": "markdown",
	   "metadata": {},
	   "source": [
       "# Chapter 2: DIFFRACTION"
	   ]
	},
{
		   "cell_type": "markdown",
		   "metadata": {},
		   "source": [
			"## Example 2.1_u1: To_calculate_the_no_of_lines_in_one_cm_of_grating_surface.sce"
		   ]
		  },
  {
"cell_type": "code",
	   "execution_count": null,
	   "metadata": {
	    "collapsed": true
	   },
	   "outputs": [],
"source": [
"//Example 2_1_u1\n",
"clc();\n",
"clear;\n",
"//To calculate the no of lines in one cm of grating surface\n",
"k=2\n",
"lamda=5*10^-5     //units in cm\n",
"theta=30          //units in degrees\n",
"//We have nooflines=1/e=(k*lamda)/sin(theta)\n",
"nooflines=sin(theta*%pi/180)/(k*lamda)            //units in cm\n",
"printf('No of lines per centimeter is %.f',nooflines)\n",
"//In text book the answer is printed wrong as 10^3\n",
"//The correct answer is 5*10^3"
   ]
   }
,
{
		   "cell_type": "markdown",
		   "metadata": {},
		   "source": [
			"## Example 2.2_u1: To_Find_the_difference_in_angles_of_deviation_in_first_and_third_order_spectra.sce"
		   ]
		  },
  {
"cell_type": "code",
	   "execution_count": null,
	   "metadata": {
	    "collapsed": true
	   },
	   "outputs": [],
"source": [
"//Example 2_2_u1\n",
"clc();\n",
"clear;\n",
"//To Find the difference in angles of deviation in first and third order spectra\n",
"lamda=5000       //units in armstrongs\n",
"lamda=lamda*10^-8             //units in cm\n",
"e=1/6000\n",
"//For first order e*sin(theta1)=1*lamda\n",
"theta1=asin(lamda/e)   //units in radians\n",
"theta1=theta1*180/%pi   //units in degrees\n",
"printf('For First order spectra theta1=%.1f degrees',theta1)\n",
"//For third order e*sin(theta3)=3*lamda\n",
"theta3=asin(3*lamda/e)   //units in radians\n",
"theta3=theta3*180/%pi   //units in degrees\n",
"printf('\nFor Third order spectra theta3=%.1f degrees',theta3)\n",
"diffe=theta3-theta1       //units in degrees\n",
"printf('\nDifference in Angles of deviation in first and third order spectra is theta3-theta1=%.2fdegrees',diffe)"
   ]
   }
,
{
		   "cell_type": "markdown",
		   "metadata": {},
		   "source": [
			"## Example 2.3_u1: To_calculate_minimum_no_of_lines_per_centimeter.sce"
		   ]
		  },
  {
"cell_type": "code",
	   "execution_count": null,
	   "metadata": {
	    "collapsed": true
	   },
	   "outputs": [],
"source": [
"//Example 2_3_u1\n",
"clc();\n",
"clear;\n",
"//To calculate minimum no of lines per centimeter\n",
"lamda1=5890       //units in armstrongs\n",
"lamda2=5896       //units in armstrongs\n",
"dlamda=lamda2-lamda1       //units in armstrongs\n",
"k=2\n",
"n=lamda1/(k*dlamda)\n",
"width=2.5        //units in cm\n",
"nooflines=n/width\n",
"printf('No of lines per cm=%.1f',nooflines)"
   ]
   }
,
{
		   "cell_type": "markdown",
		   "metadata": {},
		   "source": [
			"## Example 2.4_u1: EX2_4_u1.sce"
		   ]
		  },
  {
"cell_type": "code",
	   "execution_count": null,
	   "metadata": {
	    "collapsed": true
	   },
	   "outputs": [],
"source": [
"//Example 2_4_u1\n",
"clc();\n",
"clear;\n",
"//To examine two spectral lines are clearly resolved in first order and second order\n",
"n=425\n",
"tno=2*n\n",
"lamda1=5890           //units in armstrongs\n",
"lamda2=5896           //units in armstrongs\n",
"dlamda=lamda2-lamda1\n",
"//For first order\n",
"n=lamda1/dlamda\n",
"printf('As total no of lines required for resolution in first order is %.f and total no of lines in grating is %d the lines will not be resolved in first order',n,tno)\n",
"//For second order\n",
"n=lamda1/(2*dlamda)\n",
"printf('\nAs total no of lines required for resolution in first order is %.f and total no of lines in grating is %d the lines will be resolved in second order',n,tno)"
   ]
   }
,
{
		   "cell_type": "markdown",
		   "metadata": {},
		   "source": [
			"## Example 2.5_u1: To_find_the_angle_of_separation.sce"
		   ]
		  },
  {
"cell_type": "code",
	   "execution_count": null,
	   "metadata": {
	    "collapsed": true
	   },
	   "outputs": [],
"source": [
"//Example 2_5_u1\n",
"clc();\n",
"clear;\n",
"//To find the angle of separation\n",
"lamda1=5016        //units in armstrongs\n",
"lamda2=5048        //units in armstrongs\n",
"lamda1=lamda1*10^-8    //units in cm\n",
"lamda2=lamda2*10^-8    //units in cm\n",
"k=2\n",
"n=15000\n",
"e=2.54/n            //units in cm\n",
"theta1=asin((2*lamda1)/e)*(180/%pi)          //units in degrees\n",
"theta2=asin((2*lamda2)/e)*(180/%pi)          //units in degrees\n",
"diffe=theta2-theta1                          //units in degrees\n",
"diffe=diffe*60                                 //units in minutes\n",
"printf('Angle of separation is %.f minutes',diffe)"
   ]
   }
,
{
		   "cell_type": "markdown",
		   "metadata": {},
		   "source": [
			"## Example 2.6_u1: To_Calculate_the_dispersive_power_of_the_grating.sce"
		   ]
		  },
  {
"cell_type": "code",
	   "execution_count": null,
	   "metadata": {
	    "collapsed": true
	   },
	   "outputs": [],
"source": [
"//Example 2_6_u1\n",
"clc();\n",
"clear;\n",
"//To Calculate the dispersive power of the grating\n",
"n=4000\n",
"e=1/n          //units in cm\n",
"k=3\n",
"lamda=5000      //units in armstrongs\n",
"lamda=lamda*10^-8         //units in cm\n",
"theta=asin((k*lamda)/e)*(180/%pi)        //units in degrees\n",
"costheta=cos(theta*%pi/180)\n",
"disppower=(k*n)/costheta\n",
"printf('The dispersive power of the grating is %.f',disppower)"
   ]
   }
,
{
		   "cell_type": "markdown",
		   "metadata": {},
		   "source": [
			"## Example 2.7_u1: To_Calculate_highest_power_of_spectrum_seen_with_mono_chromaic_light.sce"
		   ]
		  },
  {
"cell_type": "code",
	   "execution_count": null,
	   "metadata": {
	    "collapsed": true
	   },
	   "outputs": [],
"source": [
"//Example 2_7_u1\n",
"clc();\n",
"clear;\n",
"//To Calculate highest power of spectrum seen with mono chromaic light\n",
"lamda=6000         //units in armstrongs\n",
"lamda=lamda*10^-8       //units in cm\n",
"n=5000\n",
"e=1/n           //units in cm\n",
"k=e/lamda\n",
"printf('The highest order spectrum Seen with monochromatic light is %.2f',k)"
   ]
   }
,
{
		   "cell_type": "markdown",
		   "metadata": {},
		   "source": [
			"## Example 2.8_u1: To_calculate_the_wavelength.sce"
		   ]
		  },
  {
"cell_type": "code",
	   "execution_count": null,
	   "metadata": {
	    "collapsed": true
	   },
	   "outputs": [],
"source": [
"//Example 2_8_u1\n",
"clc();\n",
"clear;\n",
"//To calculate the wavelength\n",
"k=2\n",
"theta1=10            //units in degrees\n",
"dtheta=3             //units in degrees\n",
"dlamda=5*10^-9       //units in cm\n",
"lamda=(sin((theta1*%pi)/180)*dlamda*60*60)/(cos((theta1*%pi)/180)*dtheta*(%pi/180))   //units in cm\n",
"printf('Wavelength of the lines is %.7f cms',lamda)\n",
"lamda_dlamda=lamda+dlamda         //units in cm\n",
"N=6063\n",
"Ne=(N*k*lamda)/sin((theta1*%pi)/180)        //units in cm\n",
"printf('\nMinimum grating width required is %.1fcm',Ne)"
   ]
   }
,
{
		   "cell_type": "markdown",
		   "metadata": {},
		   "source": [
			"## Example 2.9_u1: To_calculate_resolving_power_in_second_order.sce"
		   ]
		  },
  {
"cell_type": "code",
	   "execution_count": null,
	   "metadata": {
	    "collapsed": true
	   },
	   "outputs": [],
"source": [
"//Example 2_9_u1\n",
"clc();\n",
"clear;\n",
"//To calculate resolving power in second order\n",
"//We have e*sin(theta)=k*lamda\n",
"//We have e*0.2=k*lamda       ->1\n",
"//And e*0.3=(k+1)*lamda        ->2\n",
"//Subtracting one and two 3*0.1=lamda\n",
"lamda=5000         //units in armstrongs\n",
"lamda=lamda*10^-8   //units in cm\n",
"e=lamda/0.1     //units in cm\n",
"width=2.5       //units in cm\n",
"N=width/e\n",
"respower=2*N\n",
"printf('Resolving power is %.f',respower)"
   ]
   }
],
"metadata": {
		  "kernelspec": {
		   "display_name": "Scilab",
		   "language": "scilab",
		   "name": "scilab"
		  },
		  "language_info": {
		   "file_extension": ".sce",
		   "help_links": [
			{
			 "text": "MetaKernel Magics",
			 "url": "https://github.com/calysto/metakernel/blob/master/metakernel/magics/README.md"
			}
		   ],
		   "mimetype": "text/x-octave",
		   "name": "scilab",
		   "version": "0.7.1"
		  }
		 },
		 "nbformat": 4,
		 "nbformat_minor": 0
}
