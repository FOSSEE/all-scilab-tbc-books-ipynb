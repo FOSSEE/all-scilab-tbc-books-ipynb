{
"cells": [
 {
		   "cell_type": "markdown",
	   "metadata": {},
	   "source": [
       "# Chapter 5: X RAY DIFFRACTION"
	   ]
	},
{
		   "cell_type": "markdown",
		   "metadata": {},
		   "source": [
			"## Example 5.10_u1: To_calculate_the_lattice_constant.sce"
		   ]
		  },
  {
"cell_type": "code",
	   "execution_count": null,
	   "metadata": {
	    "collapsed": true
	   },
	   "outputs": [],
"source": [
"//Example 5_10_u1\n",
"clc();\n",
"clear;\n",
"//To calculate the lattice constant\n",
"h=6.63*10^-34      //units in m^2 kg s^-1\n",
"m=1.804*10^-27      //units in Kgs\n",
"KB=1.38*10^-23       //units in m^2 kg s^-2 K^-1\n",
"T=300               //units in K\n",
"lamda=h/sqrt(3*m*KB*T)            //units in meters\n",
"n=2\n",
"a=(sqrt(3)*lamda)/2         //units in meters\n",
"printf('Lattice constant a=');\n",
"disp(a);\n",
"printf('meters')"
   ]
   }
,
{
		   "cell_type": "markdown",
		   "metadata": {},
		   "source": [
			"## Example 5.11_u1: To_determine_the_unitcell_and_its_dimensions.sce"
		   ]
		  },
  {
"cell_type": "code",
	   "execution_count": null,
	   "metadata": {
	    "collapsed": true
	   },
	   "outputs": [],
"source": [
"//Example 5_11_u1\n",
"clc();\n",
"clear;\n",
"//To determine the unitcell and its dimensions\n",
"//Experimental data\n",
"//We have relation sin^(theta)=(lamda/2*a)^2 and (h^2+k^2+l^2)=j*(lamda/2*a)^2\n",
"theta21=12.1        //units in degrees\n",
"theta22=17.1        //units in degrees\n",
"theta23=21        //units in degrees\n",
"theta24=24.3        //units in degrees\n",
"theta25=27.2        //units in degrees\n",
"theta26=29.9        //units in degrees\n",
"theta28=34.7        //units in degrees\n",
"theta29=36.9        //units in degrees\n",
"theta210=38.9        //units in degrees\n",
"theta211=40.9        //units in degrees\n",
"theta212=42.8        //units in degrees\n",
"theta1=theta21/2      //units in degrees\n",
"theta2=theta22/2      //units in degrees\n",
"theta3=theta23/2      //units in degrees\n",
"theta4=theta24/2      //units in degrees\n",
"theta5=theta25/2      //units in degrees\n",
"theta6=theta26/2      //units in degrees\n",
"theta8=theta28/2      //units in degrees\n",
"theta9=theta29/2      //units in degrees\n",
"theta10=theta210/2      //units in degrees\n",
"theta11=theta211/2      //units in degrees\n",
"theta12=theta212/2      //units in degrees\n",
"//sin^2(theta) values\n",
"sin1=(sin(theta1*%pi/180))^2\n",
"sin2=(sin(theta2*%pi/180))^2\n",
"sin3=(sin(theta3*%pi/180))^2\n",
"sin4=(sin(theta4*%pi/180))^2\n",
"sin5=(sin(theta5*%pi/180))^2\n",
"sin6=(sin(theta6*%pi/180))^2\n",
"sin8=(sin(theta8*%pi/180))^2\n",
"sin9=(sin(theta9*%pi/180))^2\n",
"sin10=(sin(theta10*%pi/180))^2\n",
"sin11=(sin(theta11*%pi/180))^2\n",
"sin12=(sin(theta12*%pi/180))^2\n",
"//sin^2(theta)/0.0111 value\n",
"temp1=sin1/sin1\n",
"temp2=sin2/sin1\n",
"temp3=sin3/sin1\n",
"temp4=sin4/sin1\n",
"temp5=sin5/sin1\n",
"temp6=sin6/sin1\n",
"temp8=sin8/sin1\n",
"temp9=sin9/sin1\n",
"temp10=sin10/sin1\n",
"temp11=sin11/sin1\n",
"temp12=sin12/sin1\n",
"//(h,k,l) values are determined such that the sum h^2+k^2+l^2=temp value in that manner hence we have to select the (h,k,l) values\n",
"//(h,k,l) values\n",
"hkl1=100       //As h^2+k^2+l^2=1\n",
"hkl2=110       //As h^2+k^2+l^2=2\n",
"hkl3=111       //As h^2+k^2+l^2=3\n",
"hkl4=200       //As h^2+k^2+l^2=4\n",
"hkl5=210       //As h^2+k^2+l^2=5\n",
"hkl6=211       //As h^2+k^2+l^2=6\n",
"hkl8=220       //As h^2+k^2+l^2=8\n",
"hkl9=300       //As h^2+k^2+l^2=9\n",
"hkl10=310       //As h^2+k^2+l^2=10\n",
"hkl11=311       //As h^2+k^2+l^2=11\n",
"hkl12=222       //As h^2+k^2+l^2=12\n",
"printf('unit cell Dimensions when 2*theta=%.1f is (%d) where sin^2(theta)/0.0111 is %d\n',theta21,hkl1,temp1 )\n",
"printf('unit cell Dimensions when 2*theta=%.1f is (%d) where sin^2(theta)/0.0111 is %.1f\n',theta22,hkl2,temp2 )\n",
"printf('unit cell Dimensions when 2*theta=%.1f is (%d) where sin^2(theta)/0.0111 is %.1f\n',theta23,hkl3,temp3 )\n",
"printf('unit cell Dimensions when 2*theta=%.1f is (%d) where sin^2(theta)/0.0111 is %.1f\n',theta24,hkl4,temp4 )\n",
"printf('unit cell Dimensions when 2*theta=%.1f is (%d) where sin^2(theta)/0.0111 is%.1f\n',theta25,hkl5,temp5 )\n",
"printf('unit cell Dimensions when 2*theta=%.1f is (%d) where sin^2(theta)/0.0111 is %.1f\n',theta26,hkl6,temp6 )\n",
"printf('unit cell Dimensions when 2*theta=%.1f is (%d) where sin^2(theta)/0.0111 is %.1f\n',theta28,hkl8,temp8 )\n",
"printf('unit cell Dimensions when 2*theta=%.1f is (%d) where sin^2(theta)/0.0111 is %.1f\n',theta29,hkl9,temp9 )\n",
"printf('unit cell Dimensions when 2*theta=%.1f is (%d) where sin^2(theta)/0.0111 is %.1f\n',theta210,hkl10,temp10 )\n",
"printf('unit cell Dimensions when 2*theta=%.1f is (%d) where sin^2(theta)/0.0111 is %.1f\n',theta211,hkl11,temp11 )\n",
"printf('unit cell Dimensions when 2*theta=%.1f is (%d) where sin^2(theta)/0.0111 is %.1f\n',theta212,hkl12,temp12 )\n",
"lamda=71         //units in pm\n",
"a=lamda/(2*sqrt(sin1))    //units in pm\n",
"printf('The unitcell and its dimensions are %dpm',a)"
   ]
   }
,
{
		   "cell_type": "markdown",
		   "metadata": {},
		   "source": [
			"## Example 5.12_u1: EX5_12_u1.sce"
		   ]
		  },
  {
"cell_type": "code",
	   "execution_count": null,
	   "metadata": {
	    "collapsed": true
	   },
	   "outputs": [],
"source": [
"//Example 5_12_u1\n",
"clc();\n",
"clear;\n",
"//To determine the cubic structure of element and lattice constant and to identify element\n",
"//Diffraction data\n",
"theta21=40        //units in degrees\n",
"theta22=58        //units in degrees\n",
"theta23=73        //units in degrees\n",
"theta24=86.8        //units in degrees\n",
"theta25=100.4        //units in degrees\n",
"theta26=114.7        //units in degrees\n",
"theta1=theta21/2      //units in degrees\n",
"theta2=theta22/2      //units in degrees\n",
"theta3=theta23/2      //units in degrees\n",
"theta4=theta24/2      //units in degrees\n",
"theta5=theta25/2      //units in degrees\n",
"theta6=theta26/2      //units in degrees\n",
"//sin^2(theta) values\n",
"sin1=(sin(theta1*%pi/180))^2\n",
"sin2=(sin(theta2*%pi/180))^2\n",
"sin3=(sin(theta3*%pi/180))^2\n",
"sin4=(sin(theta4*%pi/180))^2\n",
"sin5=(sin(theta5*%pi/180))^2\n",
"sin6=(sin(theta6*%pi/180))^2\n",
"//sin^2(theta)/0.111 value\n",
"temp1=sin1/sin1\n",
"temp2=sin2/sin1\n",
"temp3=sin3/sin1\n",
"temp4=sin4/sin1\n",
"temp5=sin5/sin1\n",
"temp6=sin6/sin1\n",
"//(h,k,l) values are determined such that the sum h^2+k^2+l^2=temp value in that manner hence we have to select the (h,k,l) values\n",
"//(h,k,l) values\n",
"hkl1=100    //As h^2+k^2+l^2=1\n",
"hkl2=110    //As h^2+k^2+l^2=2\n",
"hkl3=111    //As h^2+k^2+l^2=3\n",
"hkl4=200     //As h^2+k^2+l^2=4\n",
"hkl5=210       //As h^2+k^2+l^2=5\n",
"hkl6=211       //As h^2+k^2+l^2=6\n",
"printf('unit cell Dimensions when 2*theta=%.1f is (%d) where sin^2(theta)/0.0111 is %d\n',theta21,hkl1,temp1 )\n",
"printf('unit cell Dimensions when 2*theta=%.1f is (%d) where sin^2(theta)/0.0111 is %d\n',theta22,hkl2,temp2 )\n",
"printf('unit cell Dimensions when 2*theta=%.1f is (%d) where sin^2(theta)/0.0111 is %d\n',theta23,hkl3,temp3 )\n",
"printf('unit cell Dimensions when 2*theta=%.1f is (%d) where sin^2(theta)/0.0111 is %d\n',theta24,hkl4,temp4 )\n",
"printf('unit cell Dimensions when 2*theta=%.1f is (%d) where sin^2(theta)/0.0111 is%d\n',theta25,hkl5,temp5 )\n",
"printf('unit cell Dimensions when 2*theta=%.1f is (%d) where sin^2(theta)/0.0111 is %d\n',theta26,hkl6,temp6 )\n",
"\n",
"ratio=sin1/sin2\n",
"printf('The ratio of sin(theta)^2 values for first and second angles is %.2f\n Hence the crystal structure is bcc\n',ratio)\n",
"lamda=0.154   //units in nm\n",
"//As we have used ratio of angles of  2*theta=40 degrees and 58 degrees above we use h=1,k=1,l=0 and a^2=(lamda/2)*sqrt(sqrt(h^2+k^2+l^2)/sin^2(theta))\n",
"h=2\n",
"k=0\n",
"l=0\n",
"theta=20       //units in degrees\n",
"a=(lamda/2)*(sqrt(sqrt(h^2+k^2+l^2)/sin(theta*(%pi/180))^2))           //units in nm\n",
"printf('Lattice constant a=%.3fnm \n And the element is tungsten Since Tungsten has lattice constant of %.3fnm and crystallizes in bcc structure',a,a)\n",
"//Given in textbook to find  lattice constant h=1,k=1,l=1 but the correct answer is h=2,k=0,l=0"
   ]
   }
,
{
		   "cell_type": "markdown",
		   "metadata": {},
		   "source": [
			"## Example 5.13_u1: EX5_13_u1.sce"
		   ]
		  },
  {
"cell_type": "code",
	   "execution_count": null,
	   "metadata": {
	    "collapsed": true
	   },
	   "outputs": [],
"source": [
"//Example 5_13_u1\n",
"clc();\n",
"clear;\n",
"//To determine the crystal structure and indices of plane and lattice parameter of the material\n",
"theta21=20.7        //units in degrees\n",
"theta22=28.72        //units in degrees\n",
"theta23=35.36        //units in degrees\n",
"theta24=41.07        //units in degrees\n",
"theta25=46.19        //units in degrees\n",
"theta26=50.90        //units in degrees\n",
"theta28=55.28        //units in degrees\n",
"theta29=59.4        //units in degrees\n",
"\n",
"theta1=theta21/2      //units in degrees\n",
"theta2=theta22/2      //units in degrees\n",
"theta3=theta23/2      //units in degrees\n",
"theta4=theta24/2      //units in degrees\n",
"theta5=theta25/2      //units in degrees\n",
"theta6=theta26/2      //units in degrees\n",
"theta8=theta28/2      //units in degrees\n",
"theta9=theta29/2      //units in degrees\n",
"//sin^2(theta) values\n",
"sin1=(sin(theta1*%pi/180))^2\n",
"sin2=(sin(theta2*%pi/180))^2\n",
"sin3=(sin(theta3*%pi/180))^2\n",
"sin4=(sin(theta4*%pi/180))^2\n",
"sin5=(sin(theta5*%pi/180))^2\n",
"sin6=(sin(theta6*%pi/180))^2\n",
"sin8=(sin(theta8*%pi/180))^2\n",
"sin9=(sin(theta9*%pi/180))^2\n",
"//sin^2(theta)/0.0308 values\n",
"temp1=sin1/sin1\n",
"temp2=sin2/sin1\n",
"temp3=sin3/sin1\n",
"temp4=sin4/sin1\n",
"temp5=sin5/sin1\n",
"temp6=sin6/sin1\n",
"temp8=sin8/sin1\n",
"temp9=sin9/sin1\n",
"\n",
"h2k2l21=temp1*2\n",
"\n",
"h2k2l22=temp2*2\n",
"h2k2l23=temp3*2  \n",
"h2k2l24=temp4*2\n",
"h2k2l25=temp5*2\n",
"h2k2l26=temp6*2\n",
"h2k2l28=temp8*2\n",
"h2k2l29=temp9*2\n",
"//(h,k,l) values are determined such that the sum h^2+k^2+l^2=temp value in that manner hence we have to select the (h,k,l) values\n",
"//(h,k,l) values\n",
"hkl1=110       //As h^2+k^2+l^2=2\n",
"hkl2=200       //As h^2+k^2+l^2=4\n",
"hkl3=211       //As h^2+k^2+l^2=6\n",
"hkl4=220       //As h^2+k^2+l^2=8\n",
"hkl5=310       //As h^2+k^2+l^2=10\n",
"hkl6=232       //As h^2+k^2+l^2=12\n",
"hkl8=321               //As h^2+k^2+l^2=14\n",
"hkl9=400       //As h^2+k^2+l^2=16\n",
"\n",
"printf('unit cell Dimensions for peak 1 when 2*theta=%.1f is (%d) where sin^2(theta)/0.0308 is %.2f\n',theta21,hkl1,ceil(h2k2l21) )\n",
"printf('unit cell Dimensions for peak 2 when 2*theta=%.1f is (%d) where sin^2(theta)/0.0308 is %.2f\n',theta22,hkl2,ceil(h2k2l22) )\n",
"printf('unit cell Dimensions for peak 3 when 2*theta=%.1f is (%d) where sin^2(theta)/0.0308 is%.2f\n',theta23,hkl3,ceil(h2k2l23))\n",
"printf('unit cell Dimensions for peak 4 when 2*theta=%.1f is (%d) where sin^2(theta)/0.0308 is %.2f\n',theta24,hkl4,ceil(h2k2l24))\n",
"printf('unit cell Dimensions for peak 5 when 2*theta=%.1f is (%d) where sin^2(theta)/0.0308 is%.2f\n',theta25,hkl5,ceil(h2k2l25))\n",
"printf('unit cell Dimensions for peak 6 when 2*theta=%.1f is (%d) where sin^2(theta)/0.0308 is%.2f\n',theta26,hkl6,ceil(h2k2l26))\n",
"printf('unit cell Dimensions for peak 7 when 2*theta=%.1f is (%d) where sin^2(theta)/0.0308 is %.2f\n',theta28,hkl8,ceil(h2k2l28))\n",
"printf('unit cell Dimensions for peak 8 when 2*theta=%.1f is (%d) where sin^2(theta)/0.0308 is %.2f\n',theta29,hkl9,ceil(h2k2l29))\n",
"\n",
"printf('The material corresonds to bcc structure\n') \n",
"//Consider peak no 8 where theta=29.71\n",
"lamda=0.07107       //units in nm\n",
"d400=lamda/(2*sin(theta9*(%pi/180)))         //units in nm\n",
"a=d400*sqrt(ceil(h2k2l29))         //units in nm\n",
"printf('Lattice parameter of the material a=%.4fnm',a)"
   ]
   }
,
{
		   "cell_type": "markdown",
		   "metadata": {},
		   "source": [
			"## Example 5.14_u1: To_calculate_the_effective_temprature_of_neutrons.sce"
		   ]
		  },
  {
"cell_type": "code",
	   "execution_count": null,
	   "metadata": {
	    "collapsed": true
	   },
	   "outputs": [],
"source": [
"//Example 5_14_u1\n",
"clc();\n",
"clear;\n",
"//To calculate the effective temprature of neutrons\n",
"a=0.352     //units in nm\n",
"h=1\n",
"k=1\n",
"l=1\n",
"d=a/sqrt(h^2+k^2+l^2)        //units in nm\n",
"theta=28.5          //units in degrees\n",
"lamda=2*d*sin(theta*(%pi/180))         //units in nm\n",
"h=6.63*10^-34      //units in m^2 kg s^-1\n",
"m=1.67*10^-27      //units in Kgs\n",
"KB=1.38*10^-23       //units in m^2 kg s^-2 K^-1\n",
"lamda=lamda*10^-9         //units in meters\n",
"T=h^2/(3*m*KB*lamda^2)       //units in K\n",
"printf('The effective temprature of neutrons is T=%dK',T)"
   ]
   }
,
{
		   "cell_type": "markdown",
		   "metadata": {},
		   "source": [
			"## Example 5.15_u1: To_calculate_the_Braggs_angle.sce"
		   ]
		  },
  {
"cell_type": "code",
	   "execution_count": null,
	   "metadata": {
	    "collapsed": true
	   },
	   "outputs": [],
"source": [
"//Example 5_15_u1\n",
"clc();\n",
"clear;\n",
"//To calculate the Braggs angle \n",
"h=6.63*10^-34      //units in m^2 kg s^-1\n",
"m=9.1*10^-31        //units in Kgs\n",
"e=1.6*10^-19         //units in coulombs\n",
"v=80                   //units in volts\n",
"lamda=h/sqrt(2*m*e*v)            //units in mts\n",
"lamda=lamda*10^9       //units in nm\n",
"a=0.35         //units in nm\n",
"h=1\n",
"k=1\n",
"l=1\n",
"d111=a/sqrt(h^2+k^2+l^2)        //units in nm            //units in nm\n",
"theta=asin(lamda/(2*d111))              //units in radians\n",
"theta=theta*180/%pi                  //units in degrees\n",
"printf('Braggs angle is theta=%.2fDegrees or 19Degrees40Minutes',theta)"
   ]
   }
,
{
		   "cell_type": "markdown",
		   "metadata": {},
		   "source": [
			"## Example 5.16_u1: To_calculate_the_difference_between_the_samples.sce"
		   ]
		  },
  {
"cell_type": "code",
	   "execution_count": null,
	   "metadata": {
	    "collapsed": true
	   },
	   "outputs": [],
"source": [
"//Example 5_16_u1\n",
"clc();\n",
"clear;\n",
"//To calculate the difference between the samples\n",
"d=0.2552       //units in nm\n",
"a=d*sqrt(2)       //units in nm\n",
"lamda=0.152       //units in nm\n",
"theta=21          //units in degrees\n",
"//For sample A\n",
"d111=lamda/(2*sin(theta*%pi/180))      //units in nm\n",
"h=1\n",
"k=1\n",
"l=1\n",
"a1=d111*sqrt(h^2+k^2+l^2)            //units in nm\n",
"printf('For sample A a=%.4f nm',a1)\n",
"//For sample B\n",
"theta=21.38          //units in degrees\n",
"d111=lamda/(2*sin(theta*%pi/180))      //units in nm\n",
"h=1\n",
"k=1\n",
"l=1\n",
"a2=d111*sqrt(h^2+k^2+l^2)            //units in nm\n",
"change=((a1-a2)/a2)*100\n",
"printf('\nFor sample B a=%.4f nm',a2)\n",
"printf('\n Sample B is pure high purity copper as lattice parameter of A is %.2f percent greater than that of pure copper',change)\n",
"//Given in text book change in lattice parameter is 1.75% greater  but it is 1.73%"
   ]
   }
,
{
		   "cell_type": "markdown",
		   "metadata": {},
		   "source": [
			"## Example 5.17_u1: To_find_the_type_of_crystal_and_lattice_parameter_and_atomic_diameter.sce"
		   ]
		  },
  {
"cell_type": "code",
	   "execution_count": null,
	   "metadata": {
	    "collapsed": true
	   },
	   "outputs": [],
"source": [
"//Example 5_17_u1\n",
"clc();\n",
"clear;\n",
"//To find the type of crystal and lattice parameter and atomic diameter \n",
"lamda=0.171       //units in nm\n",
"theta=30            //units in degrees\n",
"//Assuming the metal is BCC\n",
"d110=lamda/(2*sin(theta*%pi/180))      //units in nm\n",
"h=1\n",
"k=1\n",
"l=0\n",
"a1=d110*sqrt(h^2+k^2+l^2)            //units in nm\n",
"a2=0.148*sqrt(4)\n",
"printf('The lattice parameter is a=%.3fnm but a=%.3fnm if we consider it as bcc hence it is not bcc',a1,a2)\n",
"//Assuming the metal is FCC\n",
"a1=0.171*sqrt(3)    //units in nm\n",
"a2=0.148*sqrt(4)    //units in nm\n",
"ad=a1/sqrt(2)         //units in nm\n",
"printf('\nIf we consider it as FCC a=%.3fnm hence it is FCC',a1)\n",
"printf('\n Atomic diameter is %.4fnm',ad)"
   ]
   }
,
{
		   "cell_type": "markdown",
		   "metadata": {},
		   "source": [
			"## Example 5.18_u1: To_find_out_the_planes_which_gives_reflection.sce"
		   ]
		  },
  {
"cell_type": "code",
	   "execution_count": null,
	   "metadata": {
	    "collapsed": true
	   },
	   "outputs": [],
"source": [
"//Example 5_18_u1\n",
"clc();\n",
"clear;\n",
"//To find out the planes which gives reflection \n",
"lamda=0.154   //units in nm\n",
"theta=90             //units in degrees  as sin(theta) is maximum at 90 degrees\n",
"d=lamda/(2*sin(theta*%pi/180))      //units in nm\n",
"D=0.228          //units in nm\n",
"hkl=(2*D)/(d*sqrt(3))\n",
"hkl2=hkl^2\n",
"printf('As h^2+k^2+l^2=%.2f \n The highest possible values of (h,k,l) are (2,2,2) Hence (2,2,2) planes give reflection',hkl2)\n",
"//Given in text book h^2+k^2+l^2=13.98 but the answer is h^2+k^2+l^2=11.69"
   ]
   }
,
{
		   "cell_type": "markdown",
		   "metadata": {},
		   "source": [
			"## Example 5.1_u1: To_determine_the_miller_indices_of_the_plane.sce"
		   ]
		  },
  {
"cell_type": "code",
	   "execution_count": null,
	   "metadata": {
	    "collapsed": true
	   },
	   "outputs": [],
"source": [
"//Example 5_1_u1\n",
"clc();\n",
"clear;\n",
"//To determine the miller indices of the plane\n",
"//Given Intercepts are 2a,-3b,6c\n",
"a=1\n",
"b=1\n",
"c=1\n",
"intercepts1=2*a\n",
"intercepts2=-3*b\n",
"intercepts3=6*c\n",
"unitcell1=intercepts1/a\n",
"unitcell2=intercepts2/b\n",
"unitcell3=intercepts3/c\n",
"resiprocal1=1/unitcell1\n",
"resiprocal2=1/unitcell2\n",
"resiprocal3=1/unitcell3\n",
"lcms=int32([unitcell1 unitcell2 unitcell3]);\n",
"v=lcm(lcms)\n",
"lcm1=3\n",
"lcm2=-2\n",
"lcm3=1\n",
"printf('Co-ordinates of A,B,C are (%.2f,0,0),(0,%.1f,0)(0,0,%d)',1/lcm1,1/lcm2,lcm3)\n",
"printf('\n   Miller indices of the plane are(%d,%d,%d)',lcm1,lcm2,lcm3)"
   ]
   }
,
{
		   "cell_type": "markdown",
		   "metadata": {},
		   "source": [
			"## Example 5.2_u1: To_determine_the_miller_indices_of_the_plane.sce"
		   ]
		  },
  {
"cell_type": "code",
	   "execution_count": null,
	   "metadata": {
	    "collapsed": true
	   },
	   "outputs": [],
"source": [
"//Example 5_2_u1\n",
"clc();\n",
"clear;\n",
"//To determine the miller indices of the plane\n",
"//Given Intercepts are Infinity,OY,OZ\n",
"intercepts1='Infinity'\n",
"intercepts2='OY'\n",
"intercepts3='OZ'\n",
"unitcell1='Infinity'\n",
"unitcell2=1\n",
"unitcell3=(2/3)\n",
"resiprocal1=0\n",
"resiprocal2=1/unitcell2\n",
"resiprocal3=1/unitcell3\n",
"lcms=int32([unitcell2 unitcell3]);\n",
"v=lcm(lcms)\n",
"lcm1=0\n",
"lcm2=2\n",
"lcm3=3\n",
"printf('Co-ordinates of A,B,C are (Infinity,0,0),(0,%d,0)(0,0,%f)',unitcell2,unitcell3)\n",
"printf('\n   Miller indices of the plane are(%d,%d,%d)',lcm1,lcm2,lcm3)"
   ]
   }
,
{
		   "cell_type": "markdown",
		   "metadata": {},
		   "source": [
			"## Example 5.3_u1: To_find_the_intercepts_along_the_Y_and_Z_axes.sce"
		   ]
		  },
  {
"cell_type": "code",
	   "execution_count": null,
	   "metadata": {
	    "collapsed": true
	   },
	   "outputs": [],
"source": [
"//Example 5_3_u1\n",
"clc();\n",
"clear;\n",
"//To find the intercepts along the Y and Z axes\n",
"a=0.121          //units in nm\n",
"b=0.184          //units in nm\n",
"c=0.197          //units in nm\n",
"//Given miller indices are (2,3,1)\n",
"OA_OB=3/2\n",
"OA_OC=1/2\n",
"OB=(2/3)*b //units in nm\n",
"OC=2*c     //units in nm\n",
"printf('The Intercepts along the Y and Z axes are OB=%.3fnm and OC=%.3fnm',OB,OC)"
   ]
   }
,
{
		   "cell_type": "markdown",
		   "metadata": {},
		   "source": [
			"## Example 5.4_u1: To_calculate_the_inter_planar_distance.sce"
		   ]
		  },
  {
"cell_type": "code",
	   "execution_count": null,
	   "metadata": {
	    "collapsed": true
	   },
	   "outputs": [],
"source": [
"//Example 5_4_u1\n",
"clc();\n",
"clear;\n",
"//To calculate the inter planar distance\n",
"a=0.82     //units in nm\n",
"b=0.94      //units in nm\n",
"c=0.75       //units in nm\n",
"h=1\n",
"k=2\n",
"l=3\n",
"d=1/sqrt((((h/a)^2)+((k/b)^2)+((l/c)^2)))          //units in nm\n",
"printf('The Distance between (1,2,3) planes and (2,4,6) planes is d123=%.2fnm and d246=%.2fnm',d,d/2)\n",
"//In textbook the answer is printed wrong as d123=0.11nm and d246=0.055nm but the correct answers are d123=0.21nm and d246=0.11nm "
   ]
   }
,
{
		   "cell_type": "markdown",
		   "metadata": {},
		   "source": [
			"## Example 5.5_u1: To_find_out_the_interplanar_spacing_of_the_reflecting_planes_of_the_crystal.sce"
		   ]
		  },
  {
"cell_type": "code",
	   "execution_count": null,
	   "metadata": {
	    "collapsed": true
	   },
	   "outputs": [],
"source": [
"//Example 5_5_u1\n",
"clc();\n",
"clear;\n",
"//To find out the interplanar spacing of the reflecting planes of the crystal\n",
"theta=28       //units in degrees\n",
"lamda=0.12      //units in nm\n",
"n=2\n",
"d=(n*lamda)/(2*sin(theta*(%pi/180)))\n",
"printf('The interplanar spacing of the reflecting planes of the crystal is d=%.2fnm',d)"
   ]
   }
,
{
		   "cell_type": "markdown",
		   "metadata": {},
		   "source": [
			"## Example 5.6_u1: To_calculate_the_interplanar_spacing_and_wavelength.sce"
		   ]
		  },
  {
"cell_type": "code",
	   "execution_count": null,
	   "metadata": {
	    "collapsed": true
	   },
	   "outputs": [],
"source": [
"//Example 5_6_u1\n",
"clc();\n",
"clear;\n",
"//To calculate the interplanar spacing and wavelength\n",
"n1=1\n",
"theta1=23          //units in degrees\n",
"n2=3\n",
"theta2=60          //units in degrees\n",
"lamda1=97           //units in pm\n",
"lamda2=(n2*lamda1*sin(theta1*(%pi/180)))/(sin(theta2*(%pi/180)))          //units in pm\n",
"d=(n2*lamda1)/(2*sin(theta2*(%pi/180)))       //units in pm\n",
"printf('Wavelength lamda=%dpm \n Interplanar spacing d=%dpm',lamda2,d)"
   ]
   }
,
{
		   "cell_type": "markdown",
		   "metadata": {},
		   "source": [
			"## Example 5.7_u1: EX5_7_u1.sce"
		   ]
		  },
  {
"cell_type": "code",
	   "execution_count": null,
	   "metadata": {
	    "collapsed": true
	   },
	   "outputs": [],
"source": [
"//Example 5_7_u1\n",
"clc();\n",
"clear;\n",
"//To find the wavelength whenthese planes give rise to maximum density in reflection\n",
"d=275    //units in pm\n",
"theta=45        //units in degrees\n",
"//For n=1\n",
"n=1\n",
"lamda=(2*d*sin(theta*(%pi/180)))/n       //units in pm\n",
"printf('Wavelength for n=1 is lamda=%.1fpm\n',lamda)\n",
"//For n=2\n",
"n=2\n",
"lamda=(2*d*sin(theta*(%pi/180)))/n       //units in pm\n",
"printf('Wavelength for n=1 is lamda=%.1fpm\n',lamda)\n",
"//For n=3\n",
"n=3\n",
"lamda=(2*d*sin(theta*(%pi/180)))/n       //units in pm\n",
"printf('Wavelength for n=1 is lamda=%.1fpm\n',lamda)\n",
"//For n=4\n",
"n=4\n",
"lamda=(2*d*sin(theta*(%pi/180)))/n       //units in pm\n",
"printf('Wavelength for n=1 is lamda=%.1fpm\n',lamda)\n",
"//For n=5\n",
"n=5\n",
"lamda=(2*d*sin(theta*(%pi/180)))/n       //units in pm\n",
"printf('Wavelength for n=1 is lamda=%.1fpm\n',lamda)\n",
"printf('For n=1,2,3 and >5 lamda lies beyond the range of wavelengths of polychromatic source')"
   ]
   }
,
{
		   "cell_type": "markdown",
		   "metadata": {},
		   "source": [
			"## Example 5.8_u1: To_calculate_the_Bragg_angle_and_the_wavelength_of_X_rays.sce"
		   ]
		  },
  {
"cell_type": "code",
	   "execution_count": null,
	   "metadata": {
	    "collapsed": true
	   },
	   "outputs": [],
"source": [
"//Example 5_8_u1\n",
"clc();\n",
"clear;\n",
"//To calculate the Bragg angle and the wavelength of X-rays\n",
"//Given plane indices are (1,1,1)\n",
"theta=87      //units in degrees\n",
"theta=theta/2    //units in degrees\n",
"a=0.2      //units in nm\n",
"h=1\n",
"k=1\n",
"l=1\n",
"d=a/sqrt(h^2+k^2+l^2)        //units in nm\n",
"lamda=2*d*sin(theta*(%pi/180))          //units in nm\n",
"printf('Bragg angle theta=%.1fdegrees \n wavelength lamda=%.3fnm',theta,lamda)"
   ]
   }
,
{
		   "cell_type": "markdown",
		   "metadata": {},
		   "source": [
			"## Example 5.9_u1: To_determine_the_interplanar_spacing.sce"
		   ]
		  },
  {
"cell_type": "code",
	   "execution_count": null,
	   "metadata": {
	    "collapsed": true
	   },
	   "outputs": [],
"source": [
"//Example 5_9_u1\n",
"clc();\n",
"clear;\n",
"//To determine the interplanar spacing\n",
"h=6.63*10^-34      //units in m^2 kg s^-1\n",
"m=9.1*10^-31        //units in Kgs\n",
"e=1.6*10^-19    //units in coulombs\n",
"v=844           //units in Volts\n",
"lamda=h/sqrt(2*m*e*v)            //units in meters\n",
"n=1\n",
"theta=58      //units in degrees\n",
"d=(n*lamda)/(2*sin(theta*(%pi/180)))           //units in meters\n",
"printf('The interplanar spacing d=')\n",
"disp(d)\n",
"printf('meters')"
   ]
   }
],
"metadata": {
		  "kernelspec": {
		   "display_name": "Scilab",
		   "language": "scilab",
		   "name": "scilab"
		  },
		  "language_info": {
		   "file_extension": ".sce",
		   "help_links": [
			{
			 "text": "MetaKernel Magics",
			 "url": "https://github.com/calysto/metakernel/blob/master/metakernel/magics/README.md"
			}
		   ],
		   "mimetype": "text/x-octave",
		   "name": "scilab",
		   "version": "0.7.1"
		  }
		 },
		 "nbformat": 4,
		 "nbformat_minor": 0
}
