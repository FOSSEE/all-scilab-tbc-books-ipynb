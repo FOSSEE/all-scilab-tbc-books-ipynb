{
"cells": [
 {
		   "cell_type": "markdown",
	   "metadata": {},
	   "source": [
       "# Chapter 1: INTERFERENCE"
	   ]
	},
{
		   "cell_type": "markdown",
		   "metadata": {},
		   "source": [
			"## Example 1.10_u1: To_find_the_diameter_of_the_20th_dark_ring.sce"
		   ]
		  },
  {
"cell_type": "code",
	   "execution_count": null,
	   "metadata": {
	    "collapsed": true
	   },
	   "outputs": [],
"source": [
"//Example 1_10_u1\n",
"clc();\n",
"clear;\n",
"//To find the diameter of the 20th dark ring\n",
"D4=0.4         //units in cm\n",
"D12=0.7         //units in cm\n",
"//As we have (D20^2-D4^2)/(D12^2-D4^2)=(4*16)/(4*8)\n",
"ans=(4*16)/(4*8)\n",
"D20_2=(ans*((D12)^2-(D4)^2))+(D4)^2          //units in cm^2\n",
"D20=sqrt(D20_2)                              //units in cm\n",
"printf('Diameter of the 20th dark ring is %.3fcm',D20)"
   ]
   }
,
{
		   "cell_type": "markdown",
		   "metadata": {},
		   "source": [
			"## Example 1.11_u1: To_calculate_refractive_Index_of_liquid.sce"
		   ]
		  },
  {
"cell_type": "code",
	   "execution_count": null,
	   "metadata": {
	    "collapsed": true
	   },
	   "outputs": [],
"source": [
"//Example 1_11_u1\n",
"clc();\n",
"clear;\n",
"//To calculate refractive Index of liquid\n",
"  d10=1.40\n",
"  d_10=1.27\n",
"  u=(d10/d_10)^2\n",
"  printf('The refractive index of liquid is %.3f',u)"
   ]
   }
,
{
		   "cell_type": "markdown",
		   "metadata": {},
		   "source": [
			"## Example 1.12_u1: To_calculate_the_wavelength_of_the_light_used.sce"
		   ]
		  },
  {
"cell_type": "code",
	   "execution_count": null,
	   "metadata": {
	    "collapsed": true
	   },
	   "outputs": [],
"source": [
"//Example 1_12_u1\n",
"clc();\n",
"clear;\n",
"//To calculate the wavelength of the light used\n",
"Dnp=0.8   //units in cm\n",
"Dn=0.3      //units in cm\n",
"n1=25\n",
"n2=5\n",
"p=n1-n2\n",
"R=100         //units in cm\n",
"lamda=(Dnp^2-Dn^2)/(4*p*R)                //units in cm\n",
"printf('The wavelength of light used is %.8fcm',lamda)\n",
"//In text book the answer is printed wrong as 4.87*10^-5cm\n",
"//correct Answer is 6.875*10^-5cm"
   ]
   }
,
{
		   "cell_type": "markdown",
		   "metadata": {},
		   "source": [
			"## Example 1.1_u1: To_calculate_the_location_of_screen_from_slits.sce"
		   ]
		  },
  {
"cell_type": "code",
	   "execution_count": null,
	   "metadata": {
	    "collapsed": true
	   },
	   "outputs": [],
"source": [
"//Example 1_1_u1\n",
"clc();\n",
"clear;\n",
"//To calculate the location of screen from slits\n",
"d=0.08            //units in cm\n",
"d=d*10^-2         //units in mts\n",
"betaa=6*10^-4       //units in mts\n",
"v=8*10^11           //units in kHz\n",
"c=3*10^8            //units in mts\n",
"lamda=c/(v*10^3)           //units in mts\n",
"d=(betaa*d)/lamda            //units in mts\n",
"printf('The distance of the screen from the slits is %.2fmts',d) "
   ]
   }
,
{
		   "cell_type": "markdown",
		   "metadata": {},
		   "source": [
			"## Example 1.2_u1: To_calculate_the_wavelength.sce"
		   ]
		  },
  {
"cell_type": "code",
	   "execution_count": null,
	   "metadata": {
	    "collapsed": true
	   },
	   "outputs": [],
"source": [
"//Example 1_2_u1\n",
"clc();\n",
"clear;\n",
"//To calculate the wavelength\n",
"//First case to calculte the wavelengths of the light source to obtain fringes 0.46*10^-2 mts\n",
"lamda1=4200    //units in armstrongs\n",
"lamda1=lamda1*10^-10   //units in mts\n",
"betaa=0.64*10^-2     //units in mts\n",
"D_d=betaa/lamda1      //units in mts\n",
"//Second caseDistance between slits and screen is reduced to half\n",
"beeta1=0.46*10^-2     //units in mts\n",
"lamdaD_d=beeta1*2             //units in mts\n",
"lamda=(lamda1*lamdaD_d)/betaa           //units in mts\n",
"lamda=lamda*10^10      //units in armstrongs\n",
"printf('The wavelength of the Light source is %.1fArmstrongs',lamda)"
   ]
   }
,
{
		   "cell_type": "markdown",
		   "metadata": {},
		   "source": [
			"## Example 1.3_u1: EX1_3_u1.sce"
		   ]
		  },
  {
"cell_type": "code",
	   "execution_count": null,
	   "metadata": {
	    "collapsed": true
	   },
	   "outputs": [],
"source": [
"//Example 1_3_u1\n",
"clc();\n",
"clear;\n",
"//To compare the intensity at a point distance 1mm from the center to that at its center and to find minimum dist from center of point \n",
"//Path difference=(Y*d)/D\n",
"y=1     //units in mm\n",
"y=y*10^-3     //units in mts\n",
"D=1      //units in mts\n",
"d=1     //units in mm\n",
"d=d*10^-3      //units in mts\n",
"pathdifference=(y*d)/D         //units in mts\n",
"lamda=5893     //units in armstrongs\n",
"lamda=lamda*10^-10    //units in mts\n",
"phasedifference=(2*pathdifference)/lamda           //units in pi radiand\n",
"ratioofintensity=(cos((phasedifference/2)*%pi))^2   //units in \n",
"printf('The ratio of intensity with central maximum is %.4f\n',ratioofintensity)\n",
"pathdifference=lamda/4\n",
"distance=(pathdifference*D)/d        //units in mts\n",
"printf('The Distance of the point on the screen from center is %fmts',distance)"
   ]
   }
,
{
		   "cell_type": "markdown",
		   "metadata": {},
		   "source": [
			"## Example 1.4_u1: To_calculate_thickness_of_plate.sce"
		   ]
		  },
  {
"cell_type": "code",
	   "execution_count": null,
	   "metadata": {
	    "collapsed": true
	   },
	   "outputs": [],
"source": [
"//Example 1_4_u1\n",
"clc();\n",
"clear;\n",
"//To calculate thickness of plate\n",
"//t=(n*lamda)/(u-u1)\n",
"n=5\n",
"u=1.7\n",
"u1=1.4\n",
"lamda=4800        //units in armstrongs\n",
"lamda=lamda*10^-10   //units in mts\n",
"t=(n*lamda)/(u-u1)       //units in mts\n",
"printf('Thickness of glass plate is %.6fmts',t)\n",
"//In text book the answer is printed wrong as 8*10^-8 mts     \n",
"//the correct answer is 8*10^-6   mts"
   ]
   }
,
{
		   "cell_type": "markdown",
		   "metadata": {},
		   "source": [
			"## Example 1.5_u1: To_find_the_refractive_index_of_coil.sce"
		   ]
		  },
  {
"cell_type": "code",
	   "execution_count": null,
	   "metadata": {
	    "collapsed": true
	   },
	   "outputs": [],
"source": [
"//Example 1_5_u1\n",
"clc();\n",
"clear;\n",
"//To find the refractive index of coil\n",
"volume=0.2      //units in CC\n",
"thickness=volume/(100*100)       //units in cm\n",
"n=1\n",
"lamda=5.5*10^-5       //units in cm\n",
"r=0\n",
"u=(n*lamda)/(2*thickness*cos(r))\n",
"printf('Refractive index of oil is %.3f',u)"
   ]
   }
,
{
		   "cell_type": "markdown",
		   "metadata": {},
		   "source": [
			"## Example 1.6_U1: Calculate_the_wavelengths_of_light_in_visible_spectrum.sce"
		   ]
		  },
  {
"cell_type": "code",
	   "execution_count": null,
	   "metadata": {
	    "collapsed": true
	   },
	   "outputs": [],
"source": [
"//Example 1_6_u1\n",
"clc();\n",
"clear;\n",
"//Calculate the wavelengths of light in visible spectrum\n",
"i=35          //units in degrees\n",
"u=1.33\n",
"d=5*10^-5      //units in cm\n",
"r=asin(sin(i*%pi/180)/u)      //units in radians\n",
"r=r*180/%pi                   //units in degrees\n",
"//For n=1\n",
"n=1\n",
"lamda1=(2*u*d*cos(r*%pi/180))/n       //units in cm\n",
"printf('For n=1 lamda=%.6fcm which lies in infrared region',lamda1)\n",
"//For n=2\n",
"n=2\n",
"lamda2=(2*u*d*cos(r*%pi/180))/n      //units in cm\n",
"printf('\nFor n=2 lamda=%.6fcm which lies in visible region',lamda2)\n",
"//For n=3\n",
"n=3\n",
"lamda3=(2*u*d*cos(r*%pi/180))/n          //units in cm\n",
"printf('\nFor n=3 lamda=%.6fcm which lies in visible region',lamda3)\n",
"//For n=4\n",
"n=4\n",
"lamda4=(2*u*d*cos(r*%pi/180))/n        //units in cm\n",
"printf('\nFor n=4 lamda=%.6fcm which lies in ultraviolet region',lamda4)\n",
"printf('\nHence absent wavelengths in reflected region are %.6fcm  and %.6fcm',lamda2,lamda3)"
   ]
   }
,
{
		   "cell_type": "markdown",
		   "metadata": {},
		   "source": [
			"## Example 1.7_u1: To_calculate_the_fring_width.sce"
		   ]
		  },
  {
"cell_type": "code",
	   "execution_count": null,
	   "metadata": {
	    "collapsed": true
	   },
	   "outputs": [],
"source": [
"//Example 1_7_u1\n",
"clc();\n",
"clear;\n",
"//To calculate the fring width\n",
"//betaa=(lamda)/(2*alpha)\n",
"lamda=6000         //units in armstrongs\n",
"lamda=lamda*10^-8   //units in cm\n",
"diameter=0.05         //units in mm\n",
"distance=15            //units in cm\n",
"alpha=(diameter/distance)*10^-1     //units in radians\n",
"betaa=lamda/(2*alpha)            //units in cm\n",
"printf('The fringe width is %.2fcm',betaa)"
   ]
   }
,
{
		   "cell_type": "markdown",
		   "metadata": {},
		   "source": [
			"## Example 1.8_u1: To_calculate_the_distance_from_the_edge_of_wedge.sce"
		   ]
		  },
  {
"cell_type": "code",
	   "execution_count": null,
	   "metadata": {
	    "collapsed": true
	   },
	   "outputs": [],
"source": [
"//Example 1_8_u1\n",
"clc();\n",
"clear;\n",
"//To calculate the distance from the edge of wedge  \n",
"alpha=0.01          //units in radians\n",
"n=10\n",
"lamda=6000         //units in armstrongs\n",
"lamda=lamda*10^-10  //units in mts\n",
"x=((2*n-1)*lamda)/(4*alpha)        //units in mts\n",
"printf('Distance from the edge of the wedge is %.6fmts',x)"
   ]
   }
,
{
		   "cell_type": "markdown",
		   "metadata": {},
		   "source": [
			"## Example 1.9_u1: To_calculate_diameter_of_the_fifth_bright_ring.sce"
		   ]
		  },
  {
"cell_type": "code",
	   "execution_count": null,
	   "metadata": {
	    "collapsed": true
	   },
	   "outputs": [],
"source": [
"//Example 1_9_u1\n",
"clc();\n",
"clear;\n",
"//To calculate diameter of the fifth bright ring\n",
"n=5\n",
"lamda=5460    //units in armstrongs\n",
"lamda=lamda*10^-6    //units in cm\n",
"f=400       //units in cm\n",
"u=1.5\n",
"R=(u-1)*2*f     //units in cm\n",
"diameter=sqrt(2*(2*n-1)*lamda*R)\n",
"printf('Diameter of the 5th bright ring is %.4fcm',diameter)\n",
"//In text book the answer is printed wrong as 0.627cm \n",
"//The correct answer is 6.269 cms"
   ]
   }
],
"metadata": {
		  "kernelspec": {
		   "display_name": "Scilab",
		   "language": "scilab",
		   "name": "scilab"
		  },
		  "language_info": {
		   "file_extension": ".sce",
		   "help_links": [
			{
			 "text": "MetaKernel Magics",
			 "url": "https://github.com/calysto/metakernel/blob/master/metakernel/magics/README.md"
			}
		   ],
		   "mimetype": "text/x-octave",
		   "name": "scilab",
		   "version": "0.7.1"
		  }
		 },
		 "nbformat": 4,
		 "nbformat_minor": 0
}
