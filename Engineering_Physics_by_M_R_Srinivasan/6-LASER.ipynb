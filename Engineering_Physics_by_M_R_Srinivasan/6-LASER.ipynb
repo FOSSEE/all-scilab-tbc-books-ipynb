{
"cells": [
 {
		   "cell_type": "markdown",
	   "metadata": {},
	   "source": [
       "# Chapter 6: LASER"
	   ]
	},
{
		   "cell_type": "markdown",
		   "metadata": {},
		   "source": [
			"## Example 6.1_u1: To_calculate_the_Electric_field_of_a_laser_beam.sce"
		   ]
		  },
  {
"cell_type": "code",
	   "execution_count": null,
	   "metadata": {
	    "collapsed": true
	   },
	   "outputs": [],
"source": [
"//Example 6_1_u1\n",
"clc();\n",
"clear;\n",
"//To calculate the Electric field of a laser beam\n",
"power=1          //units in milli Watts\n",
"power=power*10^-3       //units in Watts\n",
"area=3       //units in milli meter^2\n",
"area=area*10^-6      //units in meter^2\n",
"i=power/area         // units in Watts/meter^2\n",
"c=3*10^8   //units in meter/sec\n",
"u=4*10^-7       //units in SI\n",
"n=1\n",
"E0=sqrt((i*2*c*u)/n)    //units in V/meters\n",
"printf('The electric field is E0=%.2f V/m',E0)\n",
"//In text book answer is given E0=501 V/m but the correct answer is E0=282.84 V/m "
   ]
   }
,
{
		   "cell_type": "markdown",
		   "metadata": {},
		   "source": [
			"## Example 6.2_u1: To_calculate_the_Electric_field_of_a_bulb.sce"
		   ]
		  },
  {
"cell_type": "code",
	   "execution_count": null,
	   "metadata": {
	    "collapsed": true
	   },
	   "outputs": [],
"source": [
"//Example 6_2_u1\n",
"clc();\n",
"clear;\n",
"//To calculate the Electric field of a bulb\n",
"power=10       //units in Watts\n",
"r=10           //units in meters\n",
"area=4*%pi*r^2        //units in meter^2\n",
"i=(100*power)/area         //Units in Watt/meter^2\n",
"c=3*10^8   //units in meter/sec\n",
"u=4*10^-7       //units in SI\n",
"n=1\n",
"E0=sqrt((i*2*c*u)/n)    //units in Volt/meter\n",
"printf('The electric field of the bulb is E0=%.2f Volt/meters',E0)\n",
"//In text book answer is given E0=2.4 V/m but the correct answer is E0=13.82 V/m "
   ]
   }
,
{
		   "cell_type": "markdown",
		   "metadata": {},
		   "source": [
			"## Example 6.3_u1: To_calculate_the_electric_field_intensity_a_a_point.sce"
		   ]
		  },
  {
"cell_type": "code",
	   "execution_count": null,
	   "metadata": {
	    "collapsed": true
	   },
	   "outputs": [],
"source": [
"//Example 6_3_u1\n",
"clc();\n",
"clear;\n",
"//To calculate the electric field intensity a a point\n",
"power=1      //units in milli Watts\n",
"power=power*10^-3 //units in Watts\n",
"r=6        //units in milli meters\n",
"r=6*10^-6     //units in meters\n",
"area=%pi*r^2        //units in meter^2\n",
"i=power/area     //units in Watt/meter^2\n",
"c=3*10^8   //units in meter/sec\n",
"u=4*10^-7       //units in SI\n",
"n=1\n",
"E=sqrt((i*2*c*u)/n)    //units in Volt/meters\n",
"printf('The electric field intensity a a point is given by E=%.2f Volt/meters',E)\n",
"//In text book answer is given E=8.1*10^4 V/m but the correct answer is E=46065.89 V/m "
   ]
   }
,
{
		   "cell_type": "markdown",
		   "metadata": {},
		   "source": [
			"## Example 6.4_u1: To_calculate_the_ratio_of_populations_of_two_energy_levels.sce"
		   ]
		  },
  {
"cell_type": "code",
	   "execution_count": null,
	   "metadata": {
	    "collapsed": true
	   },
	   "outputs": [],
"source": [
"//Example 6_4_u1\n",
"clc();\n",
"clear;\n",
"//To calculate the ratio of populations of two energy levels\n",
"h=6.63*10^-34      //units in m^2 kg s^-1\n",
"c=3*10^8            //units in meter/sec\n",
"lamda=694.3              //units in nm\n",
"lamda=lamda*10^-9        //units in meters\n",
"kb=1.38*10^-23               //units in m^2 kg s^-2 K^-1\n",
"T=300                     //units in K\n",
"n1_n2=exp((h*c)/(lamda*kb*T))\n",
"printf('The ratio of Populations of two energy levels is N1/N2=')\n",
"disp(n1_n2);"
   ]
   }
,
{
		   "cell_type": "markdown",
		   "metadata": {},
		   "source": [
			"## Example 6.5_u1: To_find_the_wavelength_of_the_radiation_emitted.sce"
		   ]
		  },
  {
"cell_type": "code",
	   "execution_count": null,
	   "metadata": {
	    "collapsed": true
	   },
	   "outputs": [],
"source": [
"//Example 6_5_u1\n",
"clc();\n",
"clear;\n",
"//To find the wavelength of the radiation emitted\n",
"h=6.63*10^-34      //units in m^2 kg s^-1\n",
"c=3*10^8           //units in meter/sec\n",
"kb=1.38*10^-23                 //units in m^2 kg s^-2 K^-1\n",
"T=300                                    //units in K\n",
"lamda=(h*c)/(kb*T)           //units in microns\n",
"lamda=lamda*10^6             //units in micro meters\n",
"printf('The wavelength of the radiation emmitted is lamda=%.2f um',lamda)"
   ]
   }
,
{
		   "cell_type": "markdown",
		   "metadata": {},
		   "source": [
			"## Example 6.6_u1: To_calculate_the_ratio_of_stimulated_emission_to_Spontaneous_emission.sce"
		   ]
		  },
  {
"cell_type": "code",
	   "execution_count": null,
	   "metadata": {
	    "collapsed": true
	   },
	   "outputs": [],
"source": [
"//Example 6_6_u1\n",
"clc();\n",
"clear;\n",
"//To calculate the ratio of stimulated emission to Spontaneous emission\n",
"h=6.63*10^-34                    //units in m^2 kg s^-1\n",
"c=3*10^8                                  //units in meter/sec\n",
"lamda=694.3                                  //units in nm\n",
"lamda=lamda*10^-9                       //units in meters\n",
"kb=1.38*10^-23                                  //units in m^2 kg s^-2 K^-1\n",
"T=300                                                    //units in K\n",
"constant=(h*c)/(lamda*kb*T)\n",
"R=1/(exp(constant)-1)\n",
"printf('The ratio of stimulated emission to Spontaneous emission is R=')\n",
"disp(R)\n",
"//In text book answer is given R=4.98*10^-14 but the correct answer is R=8.874D-31   "
   ]
   }
,
{
		   "cell_type": "markdown",
		   "metadata": {},
		   "source": [
			"## Example 6.7_u1: To_calculate_the_no_of_photons_emitted_by_the_ruby_laser.sce"
		   ]
		  },
  {
"cell_type": "code",
	   "execution_count": null,
	   "metadata": {
	    "collapsed": true
	   },
	   "outputs": [],
"source": [
"//Example 6_7_u1\n",
"clc();\n",
"clear;\n",
"//To calculate the no of photons emitted by the ruby laser\n",
"p=1       //units in Watts\n",
"lamda=694.3           //units in nm\n",
"lamda=lamda*10^-9       //units in meters\n",
"h=6.63*10^-34            //units in m^2 kg s^-1\n",
"c=3*10^8                        //units in meter/sec\n",
"n=(p*lamda)/(h*c)\n",
"printf('The no of photons emitted by the ruby laser is n=')\n",
"disp(n)"
   ]
   }
],
"metadata": {
		  "kernelspec": {
		   "display_name": "Scilab",
		   "language": "scilab",
		   "name": "scilab"
		  },
		  "language_info": {
		   "file_extension": ".sce",
		   "help_links": [
			{
			 "text": "MetaKernel Magics",
			 "url": "https://github.com/calysto/metakernel/blob/master/metakernel/magics/README.md"
			}
		   ],
		   "mimetype": "text/x-octave",
		   "name": "scilab",
		   "version": "0.7.1"
		  }
		 },
		 "nbformat": 4,
		 "nbformat_minor": 0
}
