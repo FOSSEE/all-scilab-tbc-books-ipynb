{
"cells": [
 {
		   "cell_type": "markdown",
	   "metadata": {},
	   "source": [
       "# Chapter 3: POLARIZATION OF LIGHT"
	   ]
	},
{
		   "cell_type": "markdown",
		   "metadata": {},
		   "source": [
			"## Example 3.1_u1: To_calculate_the_polarising_angle.sce"
		   ]
		  },
  {
"cell_type": "code",
	   "execution_count": null,
	   "metadata": {
	    "collapsed": true
	   },
	   "outputs": [],
"source": [
"//Example 3_1_u1\n",
"clc();\n",
"clear;\n",
"//To calculate the polarising angle\n",
"u=1.5\n",
"ip=atan(u)*(180/%pi)       //units in degrees\n",
"printf('The Polarising angle is %.2fdegrees or 56degrees.18minutes',ip)\n",
"//in text book the answer is printed wrong as 56degrees.18minutes\n",
"//the correct answer is 56.31degrees or 56 degrees 18minutes"
   ]
   }
,
{
		   "cell_type": "markdown",
		   "metadata": {},
		   "source": [
			"## Example 3.2_u1: To_calculate_the_thickness_of_quarter_wave_plate.sce"
		   ]
		  },
  {
"cell_type": "code",
	   "execution_count": null,
	   "metadata": {
	    "collapsed": true
	   },
	   "outputs": [],
"source": [
"//Example 3_2_u1\n",
"clc();\n",
"clear;\n",
"//To calculate the thickness of quarter wave plate\n",
"lamda=6000       //units in armstrongs\n",
"lamda=lamda*10^-10         //units in mts\n",
"n0=1.554\n",
"ne=1.544\n",
"d=(lamda)/(4*(n0-ne))         //units in mts\n",
"printf('Thickness of quarter wave plate is %.6fmts',d)"
   ]
   }
,
{
		   "cell_type": "markdown",
		   "metadata": {},
		   "source": [
			"## Example 3.3_u1: To_calculate_the_wavelength.sce"
		   ]
		  },
  {
"cell_type": "code",
	   "execution_count": null,
	   "metadata": {
	    "collapsed": true
	   },
	   "outputs": [],
"source": [
"//Example 3_3_u1\n",
"clc();\n",
"clear;\n",
"//To calculate the wavelength\n",
"d=12.5      //units in microns\n",
"d=d*10^-6   //units in mts\n",
"u0_ue=0.01\n",
"lamda=4*d*u0_ue\n",
"printf('The wavelength is %.7fmts',lamda)\n",
"//In text book the answer is printed wrong as 4*10^-7mts\n",
"//The correct answer is 5*10^-7 mts"
   ]
   }
,
{
		   "cell_type": "markdown",
		   "metadata": {},
		   "source": [
			"## Example 3.4_u1: To_calculate_the_thickness_of_the_plate.sce"
		   ]
		  },
  {
"cell_type": "code",
	   "execution_count": null,
	   "metadata": {
	    "collapsed": true
	   },
	   "outputs": [],
"source": [
"//Example 3_4_u1\n",
"clc();\n",
"clear;\n",
"//To calculate the thickness of the plate\n",
"lamda=5.5*10^-5        //units in cm\n",
"u0=1.553\n",
"ue=1.542\n",
"d=lamda/(2*(u0-ue))     //units in cm\n",
"d=d*10^-2               //units in mts\n",
"printf('The thickness of the plate is %.7fmts',d)"
   ]
   }
],
"metadata": {
		  "kernelspec": {
		   "display_name": "Scilab",
		   "language": "scilab",
		   "name": "scilab"
		  },
		  "language_info": {
		   "file_extension": ".sce",
		   "help_links": [
			{
			 "text": "MetaKernel Magics",
			 "url": "https://github.com/calysto/metakernel/blob/master/metakernel/magics/README.md"
			}
		   ],
		   "mimetype": "text/x-octave",
		   "name": "scilab",
		   "version": "0.7.1"
		  }
		 },
		 "nbformat": 4,
		 "nbformat_minor": 0
}
