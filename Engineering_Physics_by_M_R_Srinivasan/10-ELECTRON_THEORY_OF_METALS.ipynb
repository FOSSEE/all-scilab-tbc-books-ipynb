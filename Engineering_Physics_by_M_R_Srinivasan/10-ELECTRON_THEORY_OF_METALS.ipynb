{
"cells": [
 {
		   "cell_type": "markdown",
	   "metadata": {},
	   "source": [
       "# Chapter 10: ELECTRON THEORY OF METALS"
	   ]
	},
{
		   "cell_type": "markdown",
		   "metadata": {},
		   "source": [
			"## Example 2.1_u2: To_calculate_the_density_of_electrons_and_mobility_of_electrons_in_silver.sce"
		   ]
		  },
  {
"cell_type": "code",
	   "execution_count": null,
	   "metadata": {
	    "collapsed": true
	   },
	   "outputs": [],
"source": [
"//Example 2_1_u2\n",
"clc();\n",
"clear;\n",
"//To calculate the density of electrons and mobility of electrons in silver\n",
"row=10.5*10^3       //units in Kg/m^3\n",
"NA=6.023*10^23          //Avagadro number\n",
"Z=1\n",
"MA=107.9*10^-3         //units in Kg\n",
"n=(row*NA*Z)/MA        //units in m^-3\n",
"printf('The number density of electrons is n=')\n",
"disp(n)\n",
"printf('m^-3')\n",
"row=6.8*10^7         //units in ohm^-1 metre^-1\n",
"n=5.86*10^28         //units in m^-3\n",
"e=1.6*10^-19         //units in  coulombs\n",
"u=(row)/(n*e)            //units in m^2 V^-1 sec^-1\n",
"printf('\nThe conductivity is u=')\n",
"disp(u)\n",
"printf('m^2 V^-1 sec^-1')"
   ]
   }
,
{
		   "cell_type": "markdown",
		   "metadata": {},
		   "source": [
			"## Example 2.2_u2: To_corresponding_mean_free_path_and_compare_with_experimental_value.sce"
		   ]
		  },
  {
"cell_type": "code",
	   "execution_count": null,
	   "metadata": {
	    "collapsed": true
	   },
	   "outputs": [],
"source": [
"//Example 2_2_u2\n",
"clc();\n",
"clear;\n",
"//To corresponding mean free path and compare with experimental value\n",
"row=6.87*10^7                  //units in Kg/m^3\n",
"m=9.11*10^-31               //units in Kgs\n",
"n=5.86*10^28                         //units in m^-3\n",
"e=1.6*10^-19                     //units in  coulombs\n",
"t=(row*m)/(n*e^2)         //units in s\n",
"printf('The mean free path is t=')\n",
"disp(t)\n",
"printf('sec')\n",
"kb=1.381*10^-23           //units in m^2 kg s^-2 K^-1\n",
"T=300                   //units in K\n",
"m=9.11*10^-31                          //units in Kgs\n",
"v=(sqrt(3*kb*T))/sqrt(m)         //units in m/s\n",
"printf('\nVelocity v=%.2f m/s\n',v)\n",
"lamda=t*v //units in meters\n",
"printf('Wavelength is lamda=')\n",
"disp(lamda)\n",
"printf('meters')\n",
"printf('\nThe experimental value is ten times higher than predicted value')\n",
"//In textbook the answer is printed wrong as t=2.84*10^-14 s and lamda=3.28*10^-9 meters but correct answer is t=4.172D-14sec and lamda=4.873D-09 meters"
   ]
   }
,
{
		   "cell_type": "markdown",
		   "metadata": {},
		   "source": [
			"## Example 2.3_u2: To_calculate_the_drift_velocity_and_their_mobility.sce"
		   ]
		  },
  {
"cell_type": "code",
	   "execution_count": null,
	   "metadata": {
	    "collapsed": true
	   },
	   "outputs": [],
"source": [
"//Example 2_3_u2\n",
"clc();\n",
"clear;\n",
"//To calculate the drift velocity and their mobility\n",
"rowm=2700    //units in kg/m^3\n",
"NA=6.023*10^23                 //Avagadro number\n",
"MA=26.98*10^-3      //units in Kg\n",
"n=(rowm*NA)/MA          //units in m^-3\n",
"row=2.52*10^-6        //units in ohm metre\n",
"e=1.6*10^-19                   //units in  coulombs\n",
"u=(row/(n*e))*10^13       //units in meter^2 V^-1 s^-1\n",
"E=50       //units in Volt/meter\n",
"vd=u*E             //units in meter/sec\n",
"printf('The drift velocity of conduction electrons is vd=%.4f meter/sec',vd)\n",
"printf('\nMobility of conduction electrons is n=')\n",
"disp(n)\n",
"printf('meter^-3')\n",
"//Given in text book mobility is n=18.07*10^28 meter^-3 but the correct answer is n=6.027D+28 meter^-3\n",
"//Given in text book vd=0.066 meter/sec which is wrong and the correct one is vd=0.1307 meter/sec"
   ]
   }
,
{
		   "cell_type": "markdown",
		   "metadata": {},
		   "source": [
			"## Example 2.4_u2: To_calculate_the_current_density_in_each_wire_and_drift_speed_of_electrons.sce"
		   ]
		  },
  {
"cell_type": "code",
	   "execution_count": null,
	   "metadata": {
	    "collapsed": true
	   },
	   "outputs": [],
"source": [
"//Example 2_4_u2\n",
"clc();\n",
"clear;\n",
"//To calculate the current density in each wire and drift speed of electrons \n",
"dcu=1.8*10^-3     //units in meters\n",
"dAl=2.5*10^-3     //units in meters\n",
"Acu=(%pi*dcu^2)/4      //units in meter^2\n",
"AAl=(%pi*dAl^2)/4      //units in meter^2\n",
"ia=1.3    //units in amperes\n",
"jcu=ia/Acu           //units in A/meter^2\n",
"jAl=ia/AAl           //units in A/meter^2\n",
"printf('Current density in Copper is jcu=%.2f A/meter^2\n',jcu)\n",
"printf('Current density in Aluminium is jal=%.2f A/meter^2\n',jAl)\n",
"d1=8.49*10^28     //units in meter^-3\n",
"d2=18*10^28     //units in meter^-3\n",
"e=1.6*10^-19                  //units in  coulombs\n",
"vdcu=jcu/(d1*e)     //units in meter/sec\n",
"vdal=jAl/(d2*e)     //units in meter/sec\n",
"printf('Drift speed of electrons in copper vdcu=%.6f meter/sec\n',vdcu)\n",
"printf('Drift speed of electrons in Aluminium vdal=%.6f meter/sec\n',vdal)"
   ]
   }
,
{
		   "cell_type": "markdown",
		   "metadata": {},
		   "source": [
			"## Example 2.5_u2: EX2_5_u2.sce"
		   ]
		  },
  {
"cell_type": "code",
	   "execution_count": null,
	   "metadata": {
	    "collapsed": true
	   },
	   "outputs": [],
"source": [
"//Example 2_5_u2\n",
"clc();\n",
"clear;\n",
"//To calculate the no of states for conduction electrons and the average energy interval \n",
"n=9.11*10^-31            //units in Kg\n",
"E=5*1.6*10^-19        //units in J\n",
"v=10^-6       //units in meter^3\n",
"h=6.67*10^-34               //units in m^2 kg s^-1\n",
"NE=(8*sqrt(2)*%pi*n^1.5*E^0.5*v)/h^3        //units in J^-1\n",
"no=NE*0.01*1.6*10^-19           //units in J\n",
"printf('Available number of energy states is ')\n",
"disp(no)\n",
"interval=0.01/no        //units in eV\n",
"printf('Average energy interval is')\n",
"disp(interval)\n",
"printf('eV')\n",
"//Given in text book available no of energy states is 1.52*10^20 but correct answer is 1.490D+20  and for average energy interval is 7*10^-23 eV but correct answer is 6.709D-23 eV "
   ]
   }
,
{
		   "cell_type": "markdown",
		   "metadata": {},
		   "source": [
			"## Example 2.6_u2: To_calculate_the_fermi_energy_level.sce"
		   ]
		  },
  {
"cell_type": "code",
	   "execution_count": null,
	   "metadata": {
	    "collapsed": true
	   },
	   "outputs": [],
"source": [
"//Example 2_6_u2\n",
"clc();\n",
"clear;\n",
"//To calculate the fermi energy level\n",
"h=4.14*10^-15      //units in m^2 kg s^-1\n",
"n=8.49*10^28          //units in m^-3\n",
"m=9.1*10^-31       //units in Kgs\n",
"Ef=(h^2*(3*n)^0.666)/(8*m*(%pi)^0.666)        //units in J\n",
"Ef=Ef*1.67*10^-19       //units in eV\n",
"printf('Fermi energy for copper is Ef=%.2f eV',Ef)"
   ]
   }
,
{
		   "cell_type": "markdown",
		   "metadata": {},
		   "source": [
			"## Example 2.7_u2: To_calculate_the_probability_for_a_state.sce"
		   ]
		  },
  {
"cell_type": "code",
	   "execution_count": null,
	   "metadata": {
	    "collapsed": true
	   },
	   "outputs": [],
"source": [
"//Example 2_7_u2\n",
"clc();\n",
"clear;\n",
"//To calculate the probability for a state \n",
"//When 0.1 eV above the fermi energy\n",
"e_ef=0.1      //units in eV\n",
"kb=8.62*10^-5           //units in eV/K\n",
"t=800        //units in kelvin\n",
"fE=1/(1+exp((e_ef)/(kb*t)))\n",
"printf('The probability of occupancy for a state whose energy is 0.1 eV above the fermi energy is f(E)=%.3f',fE)\n",
"//0.1 eV below the fermi energy level\n",
"e_ef=-0.1      //units in eV\n",
"fE=1/(1+exp((e_ef)/(kb*t)))\n",
"printf('\nThe probability of occupancy for a state whose energy is 0.1 eV below the fermi energy is f(E)=%.3f',fE)\n",
"//Equal to the fermi energy level\n",
"e_ef=0      //units in eV\n",
"fE=1/(1+exp((e_ef)/(kb*t)))\n",
"printf('\nThe probability of occupancy for a state whose energy is 0.1 eV and  equal to the fermi energy is f(E)=%.3f',fE)"
   ]
   }
,
{
		   "cell_type": "markdown",
		   "metadata": {},
		   "source": [
			"## Example 2.8_u2: EX2_8_u2.sce"
		   ]
		  },
  {
"cell_type": "code",
	   "execution_count": null,
	   "metadata": {
	    "collapsed": true
	   },
	   "outputs": [],
"source": [
"//Example 2_8_u2\n",
"clc();\n",
"clear;\n",
"//TO Find the energy at which probability of occupancy is 0.9 and density of states and the population density\n",
"fe=0.9\n",
"k=(1/fe)-1\n",
"logk=log(k)\n",
"kb=8.62*10^-5                  //units in eV/K\n",
"t=1000      //units in K\n",
"E=logk*kb*t        //units in eV\n",
"ef=7.06      //units in eV\n",
"energy=E+ef      //units in eV\n",
"printf('The energy of this state is E=%.2f eV',energy)\n",
"n=9.1*10^-31                        //units in Kgs\n",
"EE=energy           //units in eV\n",
"h=4.14*10^-15       //units in eV sec\n",
"ZE=(8*sqrt(2)*%pi*n^1.5*sqrt(EE))/h^3        //units in meter^-3 (eV)^-1\n",
"ZE=ZE*1.56*10^28                           //units meter^-3 (eV)^-1\n",
"printf('\nThe density of the states for this energy is Z(E)=')\n",
"disp(ZE)\n",
"printf('meter^-3 (eV)^-1')\n",
"ne=ZE*fe   //units in meter^-3 (eV)^-1\n",
"printf('\nThe population density for this energy is N(E)=')\n",
"disp(ne)\n",
"printf('meter^-3 (eV)^-1')"
   ]
   }
,
{
		   "cell_type": "markdown",
		   "metadata": {},
		   "source": [
			"## Example 2.9_u2: To_calculate_the_fermi_energy_and_fermi_factor.sce"
		   ]
		  },
  {
"cell_type": "code",
	   "execution_count": null,
	   "metadata": {
	    "collapsed": true
	   },
	   "outputs": [],
"source": [
"//Example 2_9_u2\n",
"clc();\n",
"clear;\n",
"//To calculate the fermi energy and fermi factor\n",
"ve=4*3        //No of Valence electrons\n",
"v=4.05*10^-10             //units in meter^3\n",
"n=ve/v^3     //units in meter^-3\n",
"h=4.14*10^-15           //units in eV sec\n",
"m=9.1*10^-31                   //units in Kgs\n",
"Ef=(h^2*(3*n)^0.666)/(8*m*(%pi)^0.666)        //units in J\n",
"Ef=Ef*1.67*10^-19       //units in eV\n",
"printf('Fermi energy is Ef=%.2f eV',Ef)\n",
"e_ef=0.1      //units in eV\n",
"kb=8.62*10^-5            //units in eV/K    \n",
"t=300        //units in kelvin\n",
"fE=1/(1+exp((e_ef)/(kb*t)))\n",
"printf('\nFermi factor f(E) is %.4f',fE)"
   ]
   }
],
"metadata": {
		  "kernelspec": {
		   "display_name": "Scilab",
		   "language": "scilab",
		   "name": "scilab"
		  },
		  "language_info": {
		   "file_extension": ".sce",
		   "help_links": [
			{
			 "text": "MetaKernel Magics",
			 "url": "https://github.com/calysto/metakernel/blob/master/metakernel/magics/README.md"
			}
		   ],
		   "mimetype": "text/x-octave",
		   "name": "scilab",
		   "version": "0.7.1"
		  }
		 },
		 "nbformat": 4,
		 "nbformat_minor": 0
}
