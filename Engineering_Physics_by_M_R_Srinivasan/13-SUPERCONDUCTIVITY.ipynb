{
"cells": [
 {
		   "cell_type": "markdown",
	   "metadata": {},
	   "source": [
       "# Chapter 13: SUPERCONDUCTIVITY"
	   ]
	},
{
		   "cell_type": "markdown",
		   "metadata": {},
		   "source": [
			"## Example 5.1_u2: To_find_the_temprature_where_would_be_the_critical_field.sce"
		   ]
		  },
  {
"cell_type": "code",
	   "execution_count": null,
	   "metadata": {
	    "collapsed": true
	   },
	   "outputs": [],
"source": [
"//Example 5_1_u2\n",
"clc();\n",
"clear;\n",
"//To find the temprature where would be the critical field\n",
"hc=0.070       //units in K\n",
"ho=0.0803       //units in K\n",
"tc=7.22          //units in K\n",
"T=tc*sqrt(1-(hc/ho))        //units in K\n",
"printf('Temprature T=%.2f K',T)\n",
"//Given in textbook T=2.94K But the correct answer is T=2.59K"
   ]
   }
,
{
		   "cell_type": "markdown",
		   "metadata": {},
		   "source": [
			"## Example 5.2_u2: To_calculate_the_maximum_current_density.sce"
		   ]
		  },
  {
"cell_type": "code",
	   "execution_count": null,
	   "metadata": {
	    "collapsed": true
	   },
	   "outputs": [],
"source": [
"//Example 5_2_u2\n",
"clc();\n",
"clear;\n",
"//To calculate the maximum current density\n",
"hc=7.9*10^3    //units in amp/meter\n",
"d=10^-3             //units in meter\n",
"ic=hc*%pi*d         //units in amp\n",
"critcurrentden=(ic*4)/(%pi*d^2) //units in amp/meter^2\n",
"printf('The critical current density is %d amp/meter^2',critcurrentden)"
   ]
   }
,
{
		   "cell_type": "markdown",
		   "metadata": {},
		   "source": [
			"## Example 5.3_u2: To_calculate_the_transition_temprature_and_critical_field.sce"
		   ]
		  },
  {
"cell_type": "code",
	   "execution_count": null,
	   "metadata": {
	    "collapsed": true
	   },
	   "outputs": [],
"source": [
"//Example 5_3_u2\n",
"clc();\n",
"clear;\n",
"//To calculate the transition temprature and critical field\n",
"hc1=1.4*10^5      //units in amp/meter\n",
"hc2=4.2*10^5       //units in amp/meter\n",
"t1=14        //units in K\n",
"t2=13         //units in K\n",
"tc=sqrt((hc1*t2^2-hc2*t1^2)/(hc1-hc2))     //units in K\n",
"printf('Transition temprature is Tc=%.2f K',tc)\n",
"hc1_ho=1-(t1/tc)^2\n",
"ho=hc1/hc1_ho       //units in amp/meter\n",
"printf('\nCritical field Ho=%.1f amp/meter',ho)"
   ]
   }
,
{
		   "cell_type": "markdown",
		   "metadata": {},
		   "source": [
			"## Example 5.4_u2: To_calculate_its_critical_temprature.sce"
		   ]
		  },
  {
"cell_type": "code",
	   "execution_count": null,
	   "metadata": {
	    "collapsed": true
	   },
	   "outputs": [],
"source": [
"//Example 5_4_u2\n",
"clc();\n",
"clear;\n",
"//To calculate its critical temprature\n",
"tc1=4.185       //units in K\n",
"m1=199.5\n",
"m2=203.4\n",
"tc2=tc1*sqrt(m1/m2)     //units in K\n",
"printf('Critical temprature Tc2=%.3f K',tc2)"
   ]
   }
],
"metadata": {
		  "kernelspec": {
		   "display_name": "Scilab",
		   "language": "scilab",
		   "name": "scilab"
		  },
		  "language_info": {
		   "file_extension": ".sce",
		   "help_links": [
			{
			 "text": "MetaKernel Magics",
			 "url": "https://github.com/calysto/metakernel/blob/master/metakernel/magics/README.md"
			}
		   ],
		   "mimetype": "text/x-octave",
		   "name": "scilab",
		   "version": "0.7.1"
		  }
		 },
		 "nbformat": 4,
		 "nbformat_minor": 0
}
