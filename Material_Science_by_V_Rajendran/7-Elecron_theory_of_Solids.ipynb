{
"cells": [
 {
		   "cell_type": "markdown",
	   "metadata": {},
	   "source": [
       "# Chapter 7: Elecron theory of Solids"
	   ]
	},
{
		   "cell_type": "markdown",
		   "metadata": {},
		   "source": [
			"## Example 7.10: drift_velocity_of_electrons_in_silver_piece.sce"
		   ]
		  },
  {
"cell_type": "code",
	   "execution_count": null,
	   "metadata": {
	    "collapsed": true
	   },
	   "outputs": [],
"source": [
"// Example 7.10, page no-166\n",
"clear\n",
"clc\n",
"rho=1.6*10^-8 //Ohm-m\n",
"e=1.6*10^-19//C\n",
"fe=5.5*e//J\n",
"avg=6.023*10^23\n",
"d=1.05*10^4//density\n",
"wt=107.9*10^-3//atomic weight\n",
"m=9.1*10^-31//kg\n",
"c=3*10^8//m/s\n",
"sig=1/rho\n",
"n=avg*d/wt\n",
"t=sig*m/(n*e^2)\n",
"printf('\nThe conductivity of silver piece is %.2f*10^7 per Ohm-m\n\nThe relaxation time is %.2f*10^-14 s',sig*10^-7,t*10^14)\n",
"lam=c*t\n",
"vd=sig*100/(n*e)\n",
"printf('\n\nThe driftt velocityy of electrons in the silver piece is %.2f m/s',vd)\n",
""
   ]
   }
,
{
		   "cell_type": "markdown",
		   "metadata": {},
		   "source": [
			"## Example 7.11: resistivity_of_copper.sce"
		   ]
		  },
  {
"cell_type": "code",
	   "execution_count": null,
	   "metadata": {
	    "collapsed": true
	   },
	   "outputs": [],
"source": [
"// Example 7.11, page no-167\n",
"clear\n",
"clc\n",
"r1=1.7*10^-8\n",
"t2=300\n",
"t1=700+273\n",
"r2=r1*sqrt((t1/t2))\n",
"printf('The resistivityy of the copper wire is %.4f*10^-8 Ohm-m',r2*10^8)"
   ]
   }
,
{
		   "cell_type": "markdown",
		   "metadata": {},
		   "source": [
			"## Example 7.12: mobility_and_drift_velocity_of_electrons.sce"
		   ]
		  },
  {
"cell_type": "code",
	   "execution_count": null,
	   "metadata": {
	    "collapsed": true
	   },
	   "outputs": [],
"source": [
"// Example 7.12, page no-168\n",
"clear\n",
"clc\n",
"\n",
"rho=1.54*10^-8\n",
"e=1.6*10^-19 //C\n",
"ef=5.5*e//J\n",
"n=5.8*10^28///per cubic meter\n",
"m=9.1*10^-31//kg\n",
"\n",
"//(i)\n",
"t=m/(rho*n*e^2)\n",
"mu=e*t/m\n",
"printf('\n(i)\nThe relaxation time is %.2f*10^-14 s\nThe mobility of the electrons is %.4f *10^-3 m^2/V-s',t*10^14,mu*10^3)\n",
"\n",
"//(ii)\n",
"vd=e*t*100/m\n",
"printf('\n\n(ii)\nthe drift velocity of elctron is %.5f m/s',vd)\n",
"\n",
"//(iii)\n",
"vf=sqrt(2*ef/m)\n",
"printf('\n\n(iii)\nFermi velocity is %.2f*10^6 m/s',vf*10^-6)\n",
"\n",
"//(iv)\n",
"lam=vf*t\n",
"printf('\n\n(iv)\nThe mean free path is %.3f*10^-8 m',lam*10^8)"
   ]
   }
,
{
		   "cell_type": "markdown",
		   "metadata": {},
		   "source": [
			"## Example 7.1: mobility_of_electrons_in_copper.sce"
		   ]
		  },
  {
"cell_type": "code",
	   "execution_count": null,
	   "metadata": {
	    "collapsed": true
	   },
	   "outputs": [],
"source": [
"// Example 7.1, page no-160\n",
"clear\n",
"clc\n",
"rho=1.73*10^-8 //Ohm-m\n",
"z=63.5\n",
"d=8.92*10^3 //kg/m^3\n",
"avg=6.023*10^26\n",
"e=1.6*10^-19//C\n",
"m=9.11*10^-31//Kg\n",
"\n",
"n=avg*d/z\n",
"sig=1/rho\n",
"tau=sig*m/(n*e^2)\n",
"mu=sig/(n*e)\n",
"\n",
"printf('Mobility of electrons in copper is %.2f *10^-3 m^2/V-s',mu*10^3)"
   ]
   }
,
{
		   "cell_type": "markdown",
		   "metadata": {},
		   "source": [
			"## Example 7.2: resistivity_of_copper.sce"
		   ]
		  },
  {
"cell_type": "code",
	   "execution_count": null,
	   "metadata": {
	    "collapsed": true
	   },
	   "outputs": [],
"source": [
"// Example 7.2, page no-161\n",
"clear\n",
"clc\n",
"r=1.85*10^-10//m\n",
"t=3*10^-14//s\n",
"m=9.11*10^-31//Kg\n",
"e=1.6*10^-19//C\n",
"a=r*(4/sqrt(3))\n",
"ne=2/a^3\n",
"rho=m/(ne*t*e^2)\n",
"printf('Resistivity of copper is %.3f*10^-8 Ohm-m',rho*10^8)"
   ]
   }
,
{
		   "cell_type": "markdown",
		   "metadata": {},
		   "source": [
			"## Example 7.3: resistivity_of_sodium.sce"
		   ]
		  },
  {
"cell_type": "code",
	   "execution_count": null,
	   "metadata": {
	    "collapsed": true
	   },
	   "outputs": [],
"source": [
"// Example 7.3, page no-161\n",
"clear\n",
"clc\n",
"\n",
"r=1.85*10^-10//m\n",
"t=3.1*10^14//s\n",
"m=9.11*10^-31//Kg\n",
"e=1.6*10^-19//C\n",
"n=25.33*10^27\n",
"rho=m/(n*t*e^2)\n",
"printf('The electric Resistivity of sodium at 0°C is %.3f*10^-36 Ohm-m',rho*10^36)"
   ]
   }
,
{
		   "cell_type": "markdown",
		   "metadata": {},
		   "source": [
			"## Example 7.4: mobility_of_electrons_in_meatls.sce"
		   ]
		  },
  {
"cell_type": "code",
	   "execution_count": null,
	   "metadata": {
	    "collapsed": true
	   },
	   "outputs": [],
"source": [
"// Example 7.4, page no-162\n",
"clear\n",
"clc\n",
"\n",
"r=1.85*10^-10//m\n",
"t=3.4*10^-14//s\n",
"m=9.11*10^-31//Kg\n",
"e=1.6*10^-19//C\n",
"n=5.8*10^28//per m^3\n",
"rho=m/(n*t*e^2)\n",
"printf('\nThe electric resistivity of material is %.3f*10^-8 Ohm-m',rho*10^8)\n",
"mu=e*t/m\n",
"printf('\nThe mobility of the electron in a metal is %.2f*10^-3 m^2/v-s',mu*10^3)"
   ]
   }
,
{
		   "cell_type": "markdown",
		   "metadata": {},
		   "source": [
			"## Example 7.5: drift_velocity_of_electrons.sce"
		   ]
		  },
  {
"cell_type": "code",
	   "execution_count": null,
	   "metadata": {
	    "collapsed": true
	   },
	   "outputs": [],
"source": [
"// Example 7.5, page no-163\n",
"clear\n",
"clc\n",
"\n",
"rho=1.54*10^-8//ohm-m\n",
"E=100//V/m\n",
"n=5.8*10^28//m^-3\n",
"e=1.6*10^-19//C\n",
"mu=1/(rho*n*e)\n",
"vd=mu*E\n",
"printf('\nMobility of electron in silvetr is %.4f*10^-3 m^2/v-s\n\nThe drift velocity of the electron in silver is %.5f m/s ',mu*10^3,vd)"
   ]
   }
,
{
		   "cell_type": "markdown",
		   "metadata": {},
		   "source": [
			"## Example 7.6: mobility_of_electrons.sce"
		   ]
		  },
  {
"cell_type": "code",
	   "execution_count": null,
	   "metadata": {
	    "collapsed": true
	   },
	   "outputs": [],
"source": [
"// Example 7.6, page no-163\n",
"clear\n",
"clc\n",
"\n",
"d=10.5*10^3 //kg/m^3\n",
"sig=6.8*10^7//per Ohm-m\n",
"wt=107.9//kg/m^3\n",
"e=1.6*10^-19//C\n",
"avg=6.023*10^26//atoms/m^3\n",
"\n",
"n=avg*d/wt\n",
"mu=sig/(n*e)\n",
"printf('The mobility of electron is %.3f *10^-2 m^2.V/s',mu*10^2)"
   ]
   }
,
{
		   "cell_type": "markdown",
		   "metadata": {},
		   "source": [
			"## Example 7.7: Lorentz_Number.sce"
		   ]
		  },
  {
"cell_type": "code",
	   "execution_count": null,
	   "metadata": {
	    "collapsed": true
	   },
	   "outputs": [],
"source": [
"// Example 7.7, page no-164\n",
"clear\n",
"clc\n",
"sig=5.87*10^7\n",
"k=390//W/m-k\n",
"T=293\n",
"L=k/(sig*T)\n",
"printf('The Lorentz number is %.3f *10^-8 W.Ohm/K^2',L*10^8)"
   ]
   }
,
{
		   "cell_type": "markdown",
		   "metadata": {},
		   "source": [
			"## Example 7.8: Lorentz_Number.sce"
		   ]
		  },
  {
"cell_type": "code",
	   "execution_count": null,
	   "metadata": {
	    "collapsed": true
	   },
	   "outputs": [],
"source": [
"// Example 7.8, page no-164\n",
"clear\n",
"clc\n",
"\n",
"t=1*10^-14//s\n",
"T=300//K\n",
"m=9.11*10^-31//Kg\n",
"e=1.6*10^-19//C\n",
"n=6*10^28//per m^3\n",
"sig=(n*t*e^2)/m\n",
"printf('\nthe electrical conductivity is %.4f * 10^7/ohm-m',sig*10^-7)\n",
"k=1.38*10^-23\n",
"k1=n*%pi^2*k^2*T*t/(3*m)\n",
"printf('\n\nThermal conductivity is %.2f W/m-k',k1)\n",
"L=k1/(sig*T)\n",
"printf('\n\nthe Lorentz number is %.4f *10^-8 W.Ohm/k^2',L*10^8)"
   ]
   }
,
{
		   "cell_type": "markdown",
		   "metadata": {},
		   "source": [
			"## Example 7.9: conductivity_of_copper.sce"
		   ]
		  },
  {
"cell_type": "code",
	   "execution_count": null,
	   "metadata": {
	    "collapsed": true
	   },
	   "outputs": [],
"source": [
"// Example 7.9, page no-165\n",
"clear\n",
"clc\n",
"\n",
"d=8900 //kg/m^3\n",
"cu=63.5\n",
"t=10^-14 //s\n",
"avg=6.023*10^23\n",
"n=avg*d*1000/cu\n",
"m=9.1*10^-31//kg\n",
"e=1.6*10^-19\n",
"\n",
"sig=(n*t*e^2)/m\n",
"printf('The electrical conductivity is %.3f *10^7 /Ohm-m',sig*10^-7)"
   ]
   }
],
"metadata": {
		  "kernelspec": {
		   "display_name": "Scilab",
		   "language": "scilab",
		   "name": "scilab"
		  },
		  "language_info": {
		   "file_extension": ".sce",
		   "help_links": [
			{
			 "text": "MetaKernel Magics",
			 "url": "https://github.com/calysto/metakernel/blob/master/metakernel/magics/README.md"
			}
		   ],
		   "mimetype": "text/x-octave",
		   "name": "scilab",
		   "version": "0.7.1"
		  }
		 },
		 "nbformat": 4,
		 "nbformat_minor": 0
}
