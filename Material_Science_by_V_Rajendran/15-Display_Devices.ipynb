{
"cells": [
 {
		   "cell_type": "markdown",
	   "metadata": {},
	   "source": [
       "# Chapter 15: Display Devices"
	   ]
	},
{
		   "cell_type": "markdown",
		   "metadata": {},
		   "source": [
			"## Example 15.1: wavelength_of_light.sce"
		   ]
		  },
  {
"cell_type": "code",
	   "execution_count": null,
	   "metadata": {
	    "collapsed": true
	   },
	   "outputs": [],
"source": [
"// Example 15.1, page no-406\n",
"clear\n",
"clc\n",
"\n",
"e=1.6*10^-19//C\n",
"eg=1.8//eV\n",
"E=e*eg\n",
"h=6.626*10^-34\n",
"c=3*10^8//m/s\n",
"lam=h*c/E\n",
"printf('The wavelenth of light emitted from given LED is %.4f µm',lam*10^6)"
   ]
   }
,
{
		   "cell_type": "markdown",
		   "metadata": {},
		   "source": [
			"## Example 15.2: Band_Gap_of_GaAsP.sce"
		   ]
		  },
  {
"cell_type": "code",
	   "execution_count": null,
	   "metadata": {
	    "collapsed": true
	   },
	   "outputs": [],
"source": [
"// Example 15.2, page no-406\n",
"clear\n",
"clc\n",
"\n",
"e=1.6*10^-19//C\n",
"h=6.626*10^-34\n",
"c=3*10^8//m/s\n",
"lam=6751*10^-10//m\n",
"E=h*c/lam\n",
"E=E/e\n",
"printf('The band gap of the given GaAsP is %.1f eV',E)"
   ]
   }
],
"metadata": {
		  "kernelspec": {
		   "display_name": "Scilab",
		   "language": "scilab",
		   "name": "scilab"
		  },
		  "language_info": {
		   "file_extension": ".sce",
		   "help_links": [
			{
			 "text": "MetaKernel Magics",
			 "url": "https://github.com/calysto/metakernel/blob/master/metakernel/magics/README.md"
			}
		   ],
		   "mimetype": "text/x-octave",
		   "name": "scilab",
		   "version": "0.7.1"
		  }
		 },
		 "nbformat": 4,
		 "nbformat_minor": 0
}
