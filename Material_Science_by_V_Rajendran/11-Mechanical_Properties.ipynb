{
"cells": [
 {
		   "cell_type": "markdown",
	   "metadata": {},
	   "source": [
       "# Chapter 11: Mechanical Properties"
	   ]
	},
{
		   "cell_type": "markdown",
		   "metadata": {},
		   "source": [
			"## Example 11.1: Stress_produced_in_an_Al.sce"
		   ]
		  },
  {
"cell_type": "code",
	   "execution_count": null,
	   "metadata": {
	    "collapsed": true
	   },
	   "outputs": [],
"source": [
"// Example 11.1, page no-332\n",
"clear\n",
"clc\n",
"\n",
"ld=2000//kg\n",
"g=9.8//m/s^2\n",
"r=0.005\n",
"force=ld*g\n",
"stress= force/(%pi*r^2)\n",
"printf('The stress produce in an aluminium alloy is %.1f MPa',stress*10^-6)"
   ]
   }
,
{
		   "cell_type": "markdown",
		   "metadata": {},
		   "source": [
			"## Example 11.2: perentage_elongation_and_reduction.sce"
		   ]
		  },
  {
"cell_type": "code",
	   "execution_count": null,
	   "metadata": {
	    "collapsed": true
	   },
	   "outputs": [],
"source": [
"// Example 11.2, page no-332\n",
"clear\n",
"clc\n",
"lf=53.75*10^-3\n",
"l0=50*10^-3\n",
"df=9.4*10^-3\n",
"d0=8.8*10^-3\n",
"pl=(lf-l0)*100/l0\n",
"pa=((%pi*df^2)-(%pi*d0^2))*100/(%pi*df^2)\n",
"printf('\nThe %% elongation is %.1f%% and \nthe %% reduction in area is %.3f%%',pl,pa)"
   ]
   }
,
{
		   "cell_type": "markdown",
		   "metadata": {},
		   "source": [
			"## Example 11.3: Brinell_Hardness_Number.sce"
		   ]
		  },
  {
"cell_type": "code",
	   "execution_count": null,
	   "metadata": {
	    "collapsed": true
	   },
	   "outputs": [],
"source": [
"// Example 11.3, page no-332\n",
"clear\n",
"clc\n",
"ts=937//MPa\n",
"bhn=ts/3.45\n",
"printf('The Brinell Hardness Number is %.2f',bhn)"
   ]
   }
,
{
		   "cell_type": "markdown",
		   "metadata": {},
		   "source": [
			"## Example 11.4: Tensile_strength_and_fatigue_limit_of_Steel_plate.sce"
		   ]
		  },
  {
"cell_type": "code",
	   "execution_count": null,
	   "metadata": {
	    "collapsed": true
	   },
	   "outputs": [],
"source": [
"// Example 11.4, page no-333\n",
"clear\n",
"clc\n",
"p=3000\n",
"D=10\n",
"d=2.2\n",
"Hb=2*p/(%pi*D*(D-sqrt(D^2-d^2)))\n",
"printf('\nBrinell Hardness Number of steel Plate, Hb=%.1f\n',Hb)\n",
"ts=3.45*Hb\n",
"fl=0.5*ts\n",
"printf('\nThe Tensile strength of steel plate is %.3f MPa\n',ts)\n",
"printf('\nThe Fatigue limit of steel plate is %.4f MPa',fl)"
   ]
   }
],
"metadata": {
		  "kernelspec": {
		   "display_name": "Scilab",
		   "language": "scilab",
		   "name": "scilab"
		  },
		  "language_info": {
		   "file_extension": ".sce",
		   "help_links": [
			{
			 "text": "MetaKernel Magics",
			 "url": "https://github.com/calysto/metakernel/blob/master/metakernel/magics/README.md"
			}
		   ],
		   "mimetype": "text/x-octave",
		   "name": "scilab",
		   "version": "0.7.1"
		  }
		 },
		 "nbformat": 4,
		 "nbformat_minor": 0
}
