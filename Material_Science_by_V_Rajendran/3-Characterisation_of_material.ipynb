{
"cells": [
 {
		   "cell_type": "markdown",
	   "metadata": {},
	   "source": [
       "# Chapter 3: Characterisation of material"
	   ]
	},
{
		   "cell_type": "markdown",
		   "metadata": {},
		   "source": [
			"## Example 3.1: wavelength_and_frequency_of_Xrays.sce"
		   ]
		  },
  {
"cell_type": "code",
	   "execution_count": null,
	   "metadata": {
	    "collapsed": true
	   },
	   "outputs": [],
"source": [
"// Example 3.1, page no-89\n",
"clear\n",
"clc\n",
"h=6.626*10^-34//Js\n",
"e=1.6*10^-19//C\n",
"c=3*10^8//m/s\n",
"v=10000//V\n",
"lam_min=(h*c)/(e*v)\n",
"V=c/lam_min\n",
"printf('\n(i)\nThe wavelength of X-rays emitted Lamda_min = %.2f A°\n(ii)\nThe frequency of X-ray beam emitted is %.1f*10^18 Hz',lam_min*10^10,V*10^-18)"
   ]
   }
,
{
		   "cell_type": "markdown",
		   "metadata": {},
		   "source": [
			"## Example 3.2: wavelength_and_velocity_of_electrons.sce"
		   ]
		  },
  {
"cell_type": "code",
	   "execution_count": null,
	   "metadata": {
	    "collapsed": true
	   },
	   "outputs": [],
"source": [
"// Example 3.2, page no-89\n",
"clear\n",
"clc\n",
"v=10000//V\n",
"i=2*10^-3 //A\n",
"e=1.6*10^-19//C\n",
"t=1\n",
"m=9.1*10^-31//kg\n",
"//(i)\n",
"n=i*t/e\n",
"printf('The no of electrons striking the target per second =%.2f *10^16',n*10^-16)\n",
"//(ii)\n",
"v1=sqrt(2*e*v/m)\n",
"//(iii)\n",
"lam=12400/v\n",
"printf('\n(ii)\nThe velocity of electron =%.2f*10^7 m/s\n(iii)\nWavelength of x-rays=%.2f A°',v1*10^-7,lam)"
   ]
   }
,
{
		   "cell_type": "markdown",
		   "metadata": {},
		   "source": [
			"## Example 3.3: wavelength_and_angle_for_2nd_order_bragg_reflection.sce"
		   ]
		  },
  {
"cell_type": "code",
	   "execution_count": null,
	   "metadata": {
	    "collapsed": true
	   },
	   "outputs": [],
"source": [
"// Example 3.3, page no-90\n",
"clear\n",
"clc\n",
"d=5.6534*10^-10 \n",
"theta=13.6666 //in degrees\n",
"n=1\n",
"//(i)\n",
"lam=2*d*sin(theta*%pi/180)/n\n",
"printf('\n(i)\nLambda =%.3f*10^-10 m',lam*10^10)\n",
"//(ii)\n",
"n=2\n",
"theta=asin(n*lam/(2*d))\n",
"theta=theta*180/%pi\n",
"printf('\n(ii)\n2nd order Bragg reflection at angle Theta2 = %f°',theta)"
   ]
   }
,
{
		   "cell_type": "markdown",
		   "metadata": {},
		   "source": [
			"## Example 3.4: Grating_spacing_and_glancing_angle.sce"
		   ]
		  },
  {
"cell_type": "code",
	   "execution_count": null,
	   "metadata": {
	    "collapsed": true
	   },
	   "outputs": [],
"source": [
"// Example 3.4, page no-91\n",
"clear\n",
"clc\n",
"v=24800\n",
"n=1\n",
"lam=1.54*10^-10//m\n",
"ga=15.8 //degree\n",
"//(i)\n",
"d=n*lam/(2*sin(ga*%pi/180))\n",
"printf('\n(i)\ngrating spacinf for NaCl crystal =%f *10^-10 m',d*10^10)\n",
"//(ii)\n",
"lam_min=12400/v\n",
"lam_min=lam_min*10^-10\n",
"theta=asin(n*lam_min/(2*d))\n",
"theta=theta*180/%pi\n",
"printf('\n(ii)\nglancing angle for minimum wavelength = %f degrees',theta)"
   ]
   }
,
{
		   "cell_type": "markdown",
		   "metadata": {},
		   "source": [
			"## Example 3.5: wavelength_of_radiation.sce"
		   ]
		  },
  {
"cell_type": "code",
	   "execution_count": null,
	   "metadata": {
	    "collapsed": true
	   },
	   "outputs": [],
"source": [
"// Example 3.5, page no-92\n",
"clear\n",
"clc\n",
"lam=0.7078 *10^-10\n",
"wt=42\n",
"wt1=48\n",
"lam1=(lam*(wt-1)^2)/(wt1-1)^2\n",
"printf('\nWavelength of cadmium radiation is %.4f A°',lam1*10^10)"
   ]
   }
,
{
		   "cell_type": "markdown",
		   "metadata": {},
		   "source": [
			"## Example 3.6: Energy_of_thermal_neutron.sce"
		   ]
		  },
  {
"cell_type": "code",
	   "execution_count": null,
	   "metadata": {
	    "collapsed": true
	   },
	   "outputs": [],
"source": [
"// Example 3.6, page no-92\n",
"clear\n",
"clc\n",
"lam=10^-10//m\n",
"h=6.626*10^-34\n",
"m=1.675*10^-27\n",
"e1=1.602*10^-19//ev\n",
"e=(h^2)/(2*m*lam^2)\n",
"e=e/e1\n",
"printf('\nThe energy of thermal neutron with wavelength 1A° is %f eV',e)"
   ]
   }
,
{
		   "cell_type": "markdown",
		   "metadata": {},
		   "source": [
			"## Example 3.8: temperature_of_thermal_neutron.sce"
		   ]
		  },
  {
"cell_type": "code",
	   "execution_count": null,
	   "metadata": {
	    "collapsed": true
	   },
	   "outputs": [],
"source": [
"// Example 3.8, page no-94\n",
"clear\n",
"clc\n",
"lam=0.1//nm\n",
"T=(2.516^2)/(lam)^2\n",
"printf('temperature of thermal neutron corresponding to 1A is %.0f K',T)"
   ]
   }
],
"metadata": {
		  "kernelspec": {
		   "display_name": "Scilab",
		   "language": "scilab",
		   "name": "scilab"
		  },
		  "language_info": {
		   "file_extension": ".sce",
		   "help_links": [
			{
			 "text": "MetaKernel Magics",
			 "url": "https://github.com/calysto/metakernel/blob/master/metakernel/magics/README.md"
			}
		   ],
		   "mimetype": "text/x-octave",
		   "name": "scilab",
		   "version": "0.7.1"
		  }
		 },
		 "nbformat": 4,
		 "nbformat_minor": 0
}
