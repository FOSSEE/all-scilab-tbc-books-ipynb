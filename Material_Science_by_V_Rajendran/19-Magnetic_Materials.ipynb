{
"cells": [
 {
		   "cell_type": "markdown",
	   "metadata": {},
	   "source": [
       "# Chapter 19: Magnetic Materials"
	   ]
	},
{
		   "cell_type": "markdown",
		   "metadata": {},
		   "source": [
			"## Example 19.10: Saturation_Magnetisation_and_saturation_flux_density.sce"
		   ]
		  },
  {
"cell_type": "code",
	   "execution_count": null,
	   "metadata": {
	    "collapsed": true
	   },
	   "outputs": [],
"source": [
"// Example 19.10, page no-548\n",
"clear\n",
"clc\n",
"\n",
"d=8900//kg/m^3\n",
"wt=58.71\n",
"avg=6.022*10^26\n",
"bet=9.27*10^-24\n",
"mu=4*%pi*10^-7\n",
"mm=0.6*bet\n",
"N=d*avg/wt\n",
"ms=mm*N\n",
"bs=mu*ms\n",
"printf('\nThe saturation magnetisation is %.3f *10^5 A/m\nThe saturation flux density is %.3f Wb/m^2',ms*10^-5,bs)"
   ]
   }
,
{
		   "cell_type": "markdown",
		   "metadata": {},
		   "source": [
			"## Example 19.11: Saturation_Magnetisationof_Gadolinium.sce"
		   ]
		  },
  {
"cell_type": "code",
	   "execution_count": null,
	   "metadata": {
	    "collapsed": true
	   },
	   "outputs": [],
"source": [
"// Example 19.11, page no-548\n",
"clear\n",
"clc\n",
"awt=157.25//atomic weight\n",
"an=64//atomic number\n",
"d=7860//density\n",
"k=9.27*10^-24\n",
"avg=6.023*10^26\n",
"N=d*8*k*avg/awt\n",
"printf('The saturation magnetisation of gadolinium is %.2f*10^6 A/m',N*10^-6)"
   ]
   }
,
{
		   "cell_type": "markdown",
		   "metadata": {},
		   "source": [
			"## Example 19.12: Magnetic_Flux_density.sce"
		   ]
		  },
  {
"cell_type": "code",
	   "execution_count": null,
	   "metadata": {
	    "collapsed": true
	   },
	   "outputs": [],
"source": [
"// Example 19.12, page no-549\n",
"clear\n",
"clc\n",
"H=1000 //A/m\n",
"sus=-0.3*10^-5\n",
"mu=4*%pi*10^-7\n",
"M=sus*H\n",
"B=mu*(M+H)\n",
"printf('The magnetic flux density inside the material is %.3f T or Wb.m^-2',B*10^3)"
   ]
   }
,
{
		   "cell_type": "markdown",
		   "metadata": {},
		   "source": [
			"## Example 19.1: Relative_permiability_and_magnetic_force.sce"
		   ]
		  },
  {
"cell_type": "code",
	   "execution_count": null,
	   "metadata": {
	    "collapsed": true
	   },
	   "outputs": [],
"source": [
"// Example 19.1, page no-541\n",
"clear\n",
"clc\n",
"M=2300//A/m\n",
"B=0.00314// Wb/m^2\n",
"mu=4*%pi*10^-7\n",
"H=(B/mu)-M\n",
"mur=(M/H)+1\n",
"printf('The magnetic force H is %.4f A/m and the relative permeability mu_r is %.5f',H,mur)"
   ]
   }
,
{
		   "cell_type": "markdown",
		   "metadata": {},
		   "source": [
			"## Example 19.2: magnetisation_and_flux_density.sce"
		   ]
		  },
  {
"cell_type": "code",
	   "execution_count": null,
	   "metadata": {
	    "collapsed": true
	   },
	   "outputs": [],
"source": [
"// Example 19.2, page no-542\n",
"clear\n",
"clc\n",
"H=10^4 //A/m\n",
"sus=3.7*10^-3\n",
"mu=4*%pi*10^-7\n",
"M=sus*H\n",
"B=mu*(M+H)\n",
"printf('The magnetisation in the material is %.0f A/m and flux density in the material is %.2f * 10^-2 Wb.m^-2',M,B*10^2)"
   ]
   }
,
{
		   "cell_type": "markdown",
		   "metadata": {},
		   "source": [
			"## Example 19.3: Flux_density.sce"
		   ]
		  },
  {
"cell_type": "code",
	   "execution_count": null,
	   "metadata": {
	    "collapsed": true
	   },
	   "outputs": [],
"source": [
"// Example 19.3, page no-542\n",
"clear\n",
"clc\n",
"H=10^4 //A/m\n",
"sus=-0.8*10^-5\n",
"mu=4*%pi*10^-7\n",
"M=sus*H\n",
"B=mu*(M+H)\n",
"printf('The flux density in the material is %.2f * 10^-2 Wb.m^-2',B*10^2)"
   ]
   }
,
{
		   "cell_type": "markdown",
		   "metadata": {},
		   "source": [
			"## Example 19.4: Permiability.sce"
		   ]
		  },
  {
"cell_type": "code",
	   "execution_count": null,
	   "metadata": {
	    "collapsed": true
	   },
	   "outputs": [],
"source": [
"// Example 19.4, page no-543\n",
"clear\n",
"clc\n",
"\n",
"H=1800//A/m\n",
"fi=3*10^-5//Wb\n",
"A=0.2*10^-4//m^2\n",
"\n",
"B=fi/A\n",
"mu=B/H\n",
"printf('\nThe magnetic flux is %.1f Wb/m^2\nThe permeability is %.3f*10^-4 H/m',B,mu*10^4)"
   ]
   }
,
{
		   "cell_type": "markdown",
		   "metadata": {},
		   "source": [
			"## Example 19.5: Magnetic_Moment.sce"
		   ]
		  },
  {
"cell_type": "code",
	   "execution_count": null,
	   "metadata": {
	    "collapsed": true
	   },
	   "outputs": [],
"source": [
"// Example 19.5, page no-544\n",
"clear\n",
"clc\n",
"\n",
"B=0.65//Wb/m^2\n",
"r=8906//kg/m^3\n",
"M=58.7\n",
"avg=6.023*10^26\n",
"mu=4*%pi*10^-7\n",
"k=9.27*10^-24//A.m^2\n",
"N=r*avg/M\n",
"mu_m=B/(N*mu)\n",
"mu_m=mu_m/k\n",
"\n",
"printf('The magnetic moment of nickel atom is %.2f Bohr magneton',mu_m)"
   ]
   }
,
{
		   "cell_type": "markdown",
		   "metadata": {},
		   "source": [
			"## Example 19.6: Avrage_magnetisation.sce"
		   ]
		  },
  {
"cell_type": "code",
	   "execution_count": null,
	   "metadata": {
	    "collapsed": true
	   },
	   "outputs": [],
"source": [
"// Example 19.6, page no-545\n",
"clear\n",
"clc\n",
"a=2.5*10^-10//m\n",
"M=1.8*10^6//A/m\n",
"e=1.6*10^-19//C\n",
"n=2/a^3\n",
"m=9.1*10^-31//kg\n",
"h=6.625*10^-34\n",
"ma=M/n\n",
"beta1=e*h/(4*%pi*m)\n",
"printf('The average magnetisation contributed per atom = %.3f Bohr Magneton',ma/beta1)"
   ]
   }
,
{
		   "cell_type": "markdown",
		   "metadata": {},
		   "source": [
			"## Example 19.7: System_Temperature.sce"
		   ]
		  },
  {
"cell_type": "code",
	   "execution_count": null,
	   "metadata": {
	    "collapsed": true
	   },
	   "outputs": [],
"source": [
"// Example 19.7, page no-545\n",
"clear\n",
"clc\n",
"\n",
"mu=9.4*10^-24\n",
"H=2\n",
"k=1.38*10^-23\n",
"T=2*mu*H/(k*log(2))\n",
"printf('The temperature of the system T is %.1f K',T)"
   ]
   }
,
{
		   "cell_type": "markdown",
		   "metadata": {},
		   "source": [
			"## Example 19.8: Saturation_Magnetic_field_of_Gd.sce"
		   ]
		  },
  {
"cell_type": "code",
	   "execution_count": null,
	   "metadata": {
	    "collapsed": true
	   },
	   "outputs": [],
"source": [
"// Example 19.8, page no-547\n",
"clear\n",
"clc\n",
"ba=7.1//Bohr Magnetron\n",
"aw=1.8*10^6 //A/m\n",
"d=7.8*10^3\n",
"avg=6.023*10^26\n",
"M=157.26\n",
"mu=4*%pi*10^-7\n",
"k=9.27*10^-24 //Bohr Magnetron\n",
"N=d*avg/M\n",
"mm=N*ba*k\n",
"B=N*mu*k*7.1\n",
"printf('\nThe saturation magnetic field of Gd atom is %f Wb/m^2',B)"
   ]
   }
,
{
		   "cell_type": "markdown",
		   "metadata": {},
		   "source": [
			"## Example 19.9: Saturation_Magnetisation.sce"
		   ]
		  },
  {
"cell_type": "code",
	   "execution_count": null,
	   "metadata": {
	    "collapsed": true
	   },
	   "outputs": [],
"source": [
"// Example 19.9, page no-547\n",
"clear\n",
"clc\n",
"bet=9.27*10^-24\n",
"V=0.839*10^-9\n",
"M=32*bet/V^3\n",
"printf('The saturation magnetisation is %.3f *10^5 A/m',M*10^-5)"
   ]
   }
],
"metadata": {
		  "kernelspec": {
		   "display_name": "Scilab",
		   "language": "scilab",
		   "name": "scilab"
		  },
		  "language_info": {
		   "file_extension": ".sce",
		   "help_links": [
			{
			 "text": "MetaKernel Magics",
			 "url": "https://github.com/calysto/metakernel/blob/master/metakernel/magics/README.md"
			}
		   ],
		   "mimetype": "text/x-octave",
		   "name": "scilab",
		   "version": "0.7.1"
		  }
		 },
		 "nbformat": 4,
		 "nbformat_minor": 0
}
