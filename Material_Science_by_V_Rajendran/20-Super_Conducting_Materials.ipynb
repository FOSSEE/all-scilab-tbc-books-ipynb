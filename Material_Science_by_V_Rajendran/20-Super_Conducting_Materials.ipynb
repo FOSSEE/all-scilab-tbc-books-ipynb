{
"cells": [
 {
		   "cell_type": "markdown",
	   "metadata": {},
	   "source": [
       "# Chapter 20: Super Conducting Materials"
	   ]
	},
{
		   "cell_type": "markdown",
		   "metadata": {},
		   "source": [
			"## Example 20.2: Critical_Field.sce"
		   ]
		  },
  {
"cell_type": "code",
	   "execution_count": null,
	   "metadata": {
	    "collapsed": true
	   },
	   "outputs": [],
"source": [
"// Example 20.1, page no-568\n",
"clear\n",
"clc\n",
"h0=0.0306\n",
"t1=2.0\n",
"t2=3.7\n",
"he=h0*(1-((t1^2)/t2^2))\n",
"printf('The critical field at %d K is %.5f T',t1,he)"
   ]
   }
,
{
		   "cell_type": "markdown",
		   "metadata": {},
		   "source": [
			"## Example 20.3: Critical_field_through_a_wire.sce"
		   ]
		  },
  {
"cell_type": "code",
	   "execution_count": null,
	   "metadata": {
	    "collapsed": true
	   },
	   "outputs": [],
"source": [
"// Example 20.3, page no-569\n",
"clear\n",
"clc\n",
"\n",
"t1=4.2\n",
"t2=7.18\n",
"h0=6.5*10^4//A/m\n",
"he=h0*(1-((t1^2)/t2^2))\n",
"r=0.5*10^-3\n",
"I=2*%pi*he*r\n",
"printf('The critical current through a wire of lead is %.2f A',I)"
   ]
   }
,
{
		   "cell_type": "markdown",
		   "metadata": {},
		   "source": [
			"## Example 20.4: Critical_Temperature_for_metal.sce"
		   ]
		  },
  {
"cell_type": "code",
	   "execution_count": null,
	   "metadata": {
	    "collapsed": true
	   },
	   "outputs": [],
"source": [
"// Example 20.4, page no-570\n",
"clear\n",
"clc\n",
"\n",
"tc1=4.185\n",
"m1=199.5\n",
"m2=203.4\n",
"tc2=tc1* sqrt(m1/m2)\n",
"printf('The critical temperature for metal with isotopic mass of %.1f is %.3f K',m2,tc2)"
   ]
   }
],
"metadata": {
		  "kernelspec": {
		   "display_name": "Scilab",
		   "language": "scilab",
		   "name": "scilab"
		  },
		  "language_info": {
		   "file_extension": ".sce",
		   "help_links": [
			{
			 "text": "MetaKernel Magics",
			 "url": "https://github.com/calysto/metakernel/blob/master/metakernel/magics/README.md"
			}
		   ],
		   "mimetype": "text/x-octave",
		   "name": "scilab",
		   "version": "0.7.1"
		  }
		 },
		 "nbformat": 4,
		 "nbformat_minor": 0
}
