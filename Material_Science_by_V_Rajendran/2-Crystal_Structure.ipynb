{
"cells": [
 {
		   "cell_type": "markdown",
	   "metadata": {},
	   "source": [
       "# Chapter 2: Crystal Structure"
	   ]
	},
{
		   "cell_type": "markdown",
		   "metadata": {},
		   "source": [
			"## Example 20.21: Lattice_constant.sce"
		   ]
		  },
  {
"cell_type": "code",
	   "execution_count": null,
	   "metadata": {
	    "collapsed": true
	   },
	   "outputs": [],
"source": [
"// Example 2.21, page no-42\n",
"clear\n",
"clc\n",
"d=8960\n",
"m=63.54\n",
"n=4\n",
"avg=6.023*10^26\n",
"a=(n*m*10^-3/(avg*d))^(1/3)\n",
"printf('\nThe lattice constant of copper is %.4f A°',a*10^10)"
   ]
   }
,
{
		   "cell_type": "markdown",
		   "metadata": {},
		   "source": [
			"## Example 2.13: Lattice_spacing_from_Miller_indices.sce"
		   ]
		  },
  {
"cell_type": "code",
	   "execution_count": null,
	   "metadata": {
	    "collapsed": true
	   },
	   "outputs": [],
"source": [
"// Example 2.13, page no-37\n",
"clear\n",
"clc\n",
"//(i)\n",
"h=1\n",
"k=1\n",
"l=1\n",
"a=4.12*10^-10\n",
"d=a/sqrt(h^2+k^2+l^2)\n",
"printf('\nFor (111) plane\nThe lattice spacing is %.3f*10^-10 m',d*10^10)\n",
"//(ii)\n",
"\n",
"h=1\n",
"k=1\n",
"l=2\n",
"a=4.12*10^-10\n",
"d=a/sqrt(h^2+k^2+l^2)\n",
"printf('\n\nFor (112) plane\nThe lattice spacing is %.3f*10^-10 m',d*10^10)\n",
"//(iii)\n",
"\n",
"h=1\n",
"k=2\n",
"l=3\n",
"a=4.12*10^-10\n",
"d=a/sqrt(h^2+k^2+l^2)\n",
"printf('\n\nFor (123) plane\nThe lattice spacing is %.3f*10^-10 m',d*10^10)"
   ]
   }
,
{
		   "cell_type": "markdown",
		   "metadata": {},
		   "source": [
			"## Example 2.15: Lattice_spacing_from_Miller_indices.sce"
		   ]
		  },
  {
"cell_type": "code",
	   "execution_count": null,
	   "metadata": {
	    "collapsed": true
	   },
	   "outputs": [],
"source": [
"// Example 2.15, page no-38\n",
"clear\n",
"clc\n",
"h=2\n",
"k=2\n",
"l=0\n",
"a=4.938*10^-10\n",
"d=a/sqrt(h^2+k^2+l^2)\n",
"printf('\nThe lattice spacing for (220) plane is %.3f*10^-10 m',d*10^10)"
   ]
   }
,
{
		   "cell_type": "markdown",
		   "metadata": {},
		   "source": [
			"## Example 2.16: Number_of_atoms_in_Al_foil.sce"
		   ]
		  },
  {
"cell_type": "code",
	   "execution_count": null,
	   "metadata": {
	    "collapsed": true
	   },
	   "outputs": [],
"source": [
"// Example 2.16, page no-39\n",
"clear\n",
"clc\n",
"a=0.405*10^-10//m\n",
"t=0.005//m\n",
"A=25*10^-2//m\n",
"n=t*A/a^3\n",
"printf('The number of atoms in the Al foil is %.2f * 10^28',n*10^-28)"
   ]
   }
,
{
		   "cell_type": "markdown",
		   "metadata": {},
		   "source": [
			"## Example 2.17: no_of_unit_cells_in_1_kg_metal.sce"
		   ]
		  },
  {
"cell_type": "code",
	   "execution_count": null,
	   "metadata": {
	    "collapsed": true
	   },
	   "outputs": [],
"source": [
"// Example 2.17, page no-39\n",
"clear\n",
"clc\n",
"a=2.88*10^-10//\n",
"d=7200//k/m^3\n",
"n=1/(d*a^3)\n",
"printf('The number of unit cell present in 1 kg metal is %.4f *10^24',n*10^-24)"
   ]
   }
,
{
		   "cell_type": "markdown",
		   "metadata": {},
		   "source": [
			"## Example 2.18: percentage_volume_change_during_structural_changes.sce"
		   ]
		  },
  {
"cell_type": "code",
	   "execution_count": null,
	   "metadata": {
	    "collapsed": true
	   },
	   "outputs": [],
"source": [
"// Example 2.18, page no-39\n",
"clear\n",
"clc\n",
"rbcc=0.1258*10^-9\n",
"rfcc=0.1292*10^-9\n",
"a=4*rbcc/sqrt(3)\n",
"vbcc=(a^3)/2\n",
"a1=4*rfcc/sqrt(2)\n",
"vfcc=(a1^3)/4\n",
"vp=(vbcc-vfcc)\n",
"vp=floor(vp*10^32)\n",
"vp=vp*10^-32/vbcc\n",
"printf('The volume change in %% duringg the structural change is %.4f',vp*100)"
   ]
   }
,
{
		   "cell_type": "markdown",
		   "metadata": {},
		   "source": [
			"## Example 2.19: Copper_Density.sce"
		   ]
		  },
  {
"cell_type": "code",
	   "execution_count": null,
	   "metadata": {
	    "collapsed": true
	   },
	   "outputs": [],
"source": [
"// Example 2.19, page no-40\n",
"clear\n",
"clc\n",
"awt=63.5*10^-3//g\n",
"avg=6.023*10^26\n",
"r=1.273*10^-10\n",
"n=4\n",
"a=4*r/sqrt(2)\n",
"d=n*awt/(avg*a^3)\n",
"printf('The density of copper is %.4f gm/m^3',d)\n",
"\n",
""
   ]
   }
,
{
		   "cell_type": "markdown",
		   "metadata": {},
		   "source": [
			"## Example 2.20: Atomic_Radius.sce"
		   ]
		  },
  {
"cell_type": "code",
	   "execution_count": null,
	   "metadata": {
	    "collapsed": true
	   },
	   "outputs": [],
"source": [
"// Example 2.20, page no-41\n",
"clear\n",
"clc\n",
"d=7860\n",
"m=55.85\n",
"n=2\n",
"avg=6.023*10^26\n",
"a=(n*m*10^-3/(avg*d))^(1/3)\n",
"r=a*sqrt(3)/4\n",
"printf('\nThe lattice constant of alfa-iron is %.4f A°',a*10^10)\n",
"printf('\nThe atomic radius  of alfa-iron is %.5f *10^-10 m',r*10^10)"
   ]
   }
,
{
		   "cell_type": "markdown",
		   "metadata": {},
		   "source": [
			"## Example 2.22: Glancing_angle.sce"
		   ]
		  },
  {
"cell_type": "code",
	   "execution_count": null,
	   "metadata": {
	    "collapsed": true
	   },
	   "outputs": [],
"source": [
"// Example 2.22, page no-42\n",
"clear\n",
"clc\n",
"a=3.81*10^-10//m\n",
"h=1\n",
"k=3\n",
"l=2\n",
"lam=0.58*10^-10\n",
"n=2\n",
"d=a/sqrt(h^2+k^2+l^2)\n",
"theta=asin(n*lam/(2*d))\n",
"printf('The angle of glancing at which 2nd order diffraction pattern of NaCl occurs is %.2f°',theta*180/%pi)"
   ]
   }
,
{
		   "cell_type": "markdown",
		   "metadata": {},
		   "source": [
			"## Example 2.23: Lattice_constant.sce"
		   ]
		  },
  {
"cell_type": "code",
	   "execution_count": null,
	   "metadata": {
	    "collapsed": true
	   },
	   "outputs": [],
"source": [
"// Example 2.23, page no-43\n",
"clear\n",
"clc\n",
"h=3\n",
"k=0\n",
"l=2\n",
"theta=35//in degrees\n",
"lam=0.7*10^-10//m\n",
"n=1\n",
"d=n*lam/(2*sin(theta*%pi/180))\n",
"printf('\nThe interplanar distance for(302) plane is %.3f*10^-11 m',d*10^11)\n",
"a=d*sqrt(h^2+k^2+l^2)\n",
"printf('\nThe lattice constance is %.2f*10^-10 m',a*10^10)"
   ]
   }
,
{
		   "cell_type": "markdown",
		   "metadata": {},
		   "source": [
			"## Example 2.24: Plane_Drawing.sce"
		   ]
		  },
  {
"cell_type": "code",
	   "execution_count": null,
	   "metadata": {
	    "collapsed": true
	   },
	   "outputs": [],
"source": [
"// Example 2.24, page no-44\n",
"clear\n",
"clc\n",
"///for plane (0,0,1)\n",
"deff('z=f(x,y)','z=x^0-y^0')\n",
"x=0:0.2:3 ;y=x ;\n",
"//clf() ;\n",
"subplot(311)\n",
"fplot3d(x,y,f,alpha=5,theta=31)\n",
"\n",
"///For plane(1,0,1)\n",
"deff('z=f(x,y)','z=x^1-y^0')\n",
"x=0:0.2:3 ;y=x ;\n",
"//clf() ;\n",
"subplot(312)\n",
"fplot3d(x,y,f,alpha=5,theta=31)\n",
"\n",
"///For plane(1,1,1)\n",
"deff('z=f(x,y)','z=x^1-y^1')\n",
"x=0:0.2:3 ;y=x ;\n",
"//clf() ;\n",
"subplot(313)\n",
"fplot3d(x,y,f,alpha=5,theta=31)\n",
""
   ]
   }
,
{
		   "cell_type": "markdown",
		   "metadata": {},
		   "source": [
			"## Example 2.25: Interplanar_spacing.sce"
		   ]
		  },
  {
"cell_type": "code",
	   "execution_count": null,
	   "metadata": {
	    "collapsed": true
	   },
	   "outputs": [],
"source": [
"// Example 2.25, page no-45\n",
"clear\n",
"clc\n",
"theta=12//in degrees\n",
"lam=2.82*10^-10//m\n",
"n=1\n",
"d=n*lam/(2*sin(theta*%pi/180))\n",
"printf('The interplanar spacing is %.3f *10^-10 m',d*10^10)"
   ]
   }
,
{
		   "cell_type": "markdown",
		   "metadata": {},
		   "source": [
			"## Example 2.26: Lattice_spacing_and_deBroglie_wavelength.sce"
		   ]
		  },
  {
"cell_type": "code",
	   "execution_count": null,
	   "metadata": {
	    "collapsed": true
	   },
	   "outputs": [],
"source": [
"// Example 2.26, page no-46\n",
"clear\n",
"clc\n",
"theta=27.5/2//in degrees\n",
"a=0.563*10^-9\n",
"n=1\n",
"h=1\n",
"k=1\n",
"l=1\n",
"d=a/sqrt(h^2+k^2+l^2)\n",
"printf('\nThe lattice spacing for the plane (111) is %.2f * 10^-10 m',d*10^10)\n",
"lam=2*d*sin(theta*%pi/180)/n\n",
"printf('\nThe deBroglie wavelength of the neutrons is %.3f *10^-10 m',lam*10^10)"
   ]
   }
,
{
		   "cell_type": "markdown",
		   "metadata": {},
		   "source": [
			"## Example 2.27: Lattice_constant_and_atomic_radius.sce"
		   ]
		  },
  {
"cell_type": "code",
	   "execution_count": null,
	   "metadata": {
	    "collapsed": true
	   },
	   "outputs": [],
"source": [
"// Example 2.27, page no-46\n",
"clear\n",
"clc\n",
"h=1\n",
"k=1\n",
"l=0\n",
"d=2*10^-10//m\n",
"a=d*sqrt(h^2+k^2+l^2)\n",
"R=a/(2*sqrt(2))\n",
"printf('The lattice constant is %.3f*10^-10 m\nThe atomic radius of the crystal is %.1f *10^-10 m',a*10^10,R*10^10)"
   ]
   }
,
{
		   "cell_type": "markdown",
		   "metadata": {},
		   "source": [
			"## Example 2.28: energy_of_the_neutron.sce"
		   ]
		  },
  {
"cell_type": "code",
	   "execution_count": null,
	   "metadata": {
	    "collapsed": true
	   },
	   "outputs": [],
"source": [
"// Example 2.28, page no-47\n",
"clear\n",
"clc\n",
"theta=22//in degrees\n",
"d=1.8*10^-10//m\n",
"n=1\n",
"h=6.626*10^-34\n",
"m=9.1*10^-31//kg\n",
"e=1.6*10^-19//C\n",
"lam=2*d*sin(theta*%pi/180)/n\n",
"E=(1/(2*m))*(h/lam)^(2)\n",
"printf('\nThe deBroglie wavelength of the neutron is %.3f *10^-10\nthe energy of the neutron is %.2f eV',lam*10^10,E/e)"
   ]
   }
,
{
		   "cell_type": "markdown",
		   "metadata": {},
		   "source": [
			"## Example 2.29: InterPlanar_Spacing.sce"
		   ]
		  },
  {
"cell_type": "code",
	   "execution_count": null,
	   "metadata": {
	    "collapsed": true
	   },
	   "outputs": [],
"source": [
"// Example 2.29, page no-48\n",
"clear\n",
"clc\n",
"\n",
"h=1\n",
"k=1\n",
"l=1\n",
"a=3*10^-10\n",
"d=a/sqrt(h^2+k^2+l^2)\n",
"printf('\nThe interplanar spacing for the plane(101) is %.3f*10^-10 m',d*10^10)"
   ]
   }
,
{
		   "cell_type": "markdown",
		   "metadata": {},
		   "source": [
			"## Example 2.2: Lattice_spacing_from_Miller_indices.sce"
		   ]
		  },
  {
"cell_type": "code",
	   "execution_count": null,
	   "metadata": {
	    "collapsed": true
	   },
	   "outputs": [],
"source": [
"// Example 2.2, page no-29\n",
"clear\n",
"clc\n",
"// Intercepts are in the ratio 3a:4b along X,Y and parallel to Z axis\n",
"//x intercept 3,y intercept 4 and z intercept infinity \n",
"a=2*10^-10// 2 Angstrom\n",
"h=4\n",
"k=3\n",
"l=0\n",
"d=a/sqrt(h^2+k^2+l^2)\n",
"printf('The lattice spacing for the plane 430 is %.1f*10^-10 m',d*10^10)"
   ]
   }
,
{
		   "cell_type": "markdown",
		   "metadata": {},
		   "source": [
			"## Example 2.30: Lattice_spacing_from_Miller_indices.sce"
		   ]
		  },
  {
"cell_type": "code",
	   "execution_count": null,
	   "metadata": {
	    "collapsed": true
	   },
	   "outputs": [],
"source": [
"// Example 2.30, page no-48\n",
"clear\n",
"clc\n",
"h=3\n",
"k=2\n",
"l=1\n",
"rfcc=0.1278*10^-9//m\n",
"a=4*rfcc/sqrt(2)\n",
"d=a/sqrt(h^2+k^2+l^2)\n",
"printf('\nThe lattice constant = %.3f *106-10\nThe interplanar spacing for the plane(321) is %.3f*10^-11 m',a*10^10,d*10^11)"
   ]
   }
,
{
		   "cell_type": "markdown",
		   "metadata": {},
		   "source": [
			"## Example 2.31: Number_of_atoms_in_Al_foil.sce"
		   ]
		  },
  {
"cell_type": "code",
	   "execution_count": null,
	   "metadata": {
	    "collapsed": true
	   },
	   "outputs": [],
"source": [
"// Example 2.31, page no-49\n",
"clear\n",
"clc\n",
"a=0.4049*10^-10//m\n",
"t=0.005//m\n",
"A=25*10^-2//m\n",
"n=t*A/a^3\n",
"printf('The number of atoms in the Al foil is %.2f * 10^28',n*10^-28)"
   ]
   }
,
{
		   "cell_type": "markdown",
		   "metadata": {},
		   "source": [
			"## Example 2.32: energy_of_the_neutron.sce"
		   ]
		  },
  {
"cell_type": "code",
	   "execution_count": null,
	   "metadata": {
	    "collapsed": true
	   },
	   "outputs": [],
"source": [
"// Example 2.32, page no-49\n",
"clear\n",
"clc\n",
"theta=20//in degrees\n",
"d=2*10^-10//m\n",
"n=1\n",
"h=6.626*10^-34\n",
"m=1.67*10^-27//kg\n",
"e=1.6*10^-19//C\n",
"lam=2*d*sin(theta*%pi/180)/n\n",
"E=(1/(2*m))*(h/lam)^(2)\n",
"printf('\nThe deBroglie wavelength of the neutron is %.3f *10^-10\nthe energy of the neutron is %.4f eV',lam*10^10,E/e)"
   ]
   }
,
{
		   "cell_type": "markdown",
		   "metadata": {},
		   "source": [
			"## Example 2.35: deBroglie_wavelength_of_electrons.sce"
		   ]
		  },
  {
"cell_type": "code",
	   "execution_count": null,
	   "metadata": {
	    "collapsed": true
	   },
	   "outputs": [],
"source": [
"// Example 2.35, page no-51\n",
"clear\n",
"clc\n",
"e=1.6*10^-19//C\n",
"\n",
"h=6.626*10^-34\n",
"m=9.1*10^-31//kg\n",
"ek=235.2*e\n",
"n=1\n",
"theta=9.21\n",
"lam=h/sqrt(2*m*ek)\n",
"d=n*lam/(2*sin(theta*%pi/180))\n",
"printf('\nThe deBroglie wavelength of electron is %.3f *10^-11 m\nThe interplanar spacing is %.3f *10^-10 m',lam*10^11,d*10^10)"
   ]
   }
,
{
		   "cell_type": "markdown",
		   "metadata": {},
		   "source": [
			"## Example 2.36: Lattice_spacing_from_Miller_indices.sce"
		   ]
		  },
  {
"cell_type": "code",
	   "execution_count": null,
	   "metadata": {
	    "collapsed": true
	   },
	   "outputs": [],
"source": [
"// Example 2.36, page no-52\n",
"clear\n",
"clc\n",
"// Intercepts are in the ratio 3a:4b along X,Y and parallel to Z axis\n",
"//x intercept 3,y intercept 4 and z intercept infinity \n",
"a=2*10^-10// 2 Angstrom\n",
"h=4\n",
"k=3\n",
"l=0\n",
"d=a/sqrt(h^2+k^2+l^2)\n",
"printf('The lattice spacing for the plane 430 is %.1f*10^-10 m',d*10^10)"
   ]
   }
,
{
		   "cell_type": "markdown",
		   "metadata": {},
		   "source": [
			"## Example 2.38: Plane_Drawing.sce"
		   ]
		  },
  {
"cell_type": "code",
	   "execution_count": null,
	   "metadata": {
	    "collapsed": true
	   },
	   "outputs": [],
"source": [
"// Example 2.38, page no-53\n",
"clear\n",
"clc\n",
"printf('Same as example 2.24 of the same chapter')"
   ]
   }
,
{
		   "cell_type": "markdown",
		   "metadata": {},
		   "source": [
			"## Example 2.3: Lattice_constant_of_Sodium.sce"
		   ]
		  },
  {
"cell_type": "code",
	   "execution_count": null,
	   "metadata": {
	    "collapsed": true
	   },
	   "outputs": [],
"source": [
"// Example 2.3, page no-31\n",
"clear\n",
"clc\n",
"\n",
"d=9.6*10^2//kg/m^3\n",
"awt=23\n",
"n=2\n",
"avg=6.023*10^26\n",
"m=n*awt/avg\n",
"a=(m/d)^(1/3)\n",
"printf('The lattice constant od sodium is %.1f A°',a*10^10)"
   ]
   }
,
{
		   "cell_type": "markdown",
		   "metadata": {},
		   "source": [
			"## Example 2.4: Avogadro_Constant.sce"
		   ]
		  },
  {
"cell_type": "code",
	   "execution_count": null,
	   "metadata": {
	    "collapsed": true
	   },
	   "outputs": [],
"source": [
"// Example 2.4, page no-31\n",
"clear\n",
"clc\n",
"\n",
"d=4*10^3//kg/m^3\n",
"awtcs=132.9\n",
"awtcl=35.5\n",
"a=4.12*10^-10\n",
"m=d*a^3\n",
"N=(awtcs+awtcl)/m\n",
"printf('The value of Avogadro Constant %.4f *10^26 per kg mole',N*10^-26)"
   ]
   }
,
{
		   "cell_type": "markdown",
		   "metadata": {},
		   "source": [
			"## Example 2.5: Lattice_spacing_from_Miller_indices.sce"
		   ]
		  },
  {
"cell_type": "code",
	   "execution_count": null,
	   "metadata": {
	    "collapsed": true
	   },
	   "outputs": [],
"source": [
"// Example 2.5, page no-31\n",
"clear\n",
"clc\n",
"lam=1.5418*10^-10//m\n",
"theta=30//in degrees\n",
"h=1\n",
"k=1\n",
"l=1\n",
"a=lam*sqrt(h^2+k^2+l^2)/(2*sin(theta*%pi/180))\n",
"printf('The lattice constant is %.4f *10^-10 m',a*10^10)"
   ]
   }
,
{
		   "cell_type": "markdown",
		   "metadata": {},
		   "source": [
			"## Example 2.6: Lattice_spacing_from_Miller_indices.sce"
		   ]
		  },
  {
"cell_type": "code",
	   "execution_count": null,
	   "metadata": {
	    "collapsed": true
	   },
	   "outputs": [],
"source": [
"// Example 2.6, page no-33\n",
"clear\n",
"clc\n",
"h=1\n",
"k=0\n",
"l=0\n",
"a=2.814*10^-10\n",
"d=a/sqrt(h^2+k^2+l^2)\n",
"printf('The lattice spacing for the plane(100) is %.3f*10^-10 m',d*10^10)"
   ]
   }
,
{
		   "cell_type": "markdown",
		   "metadata": {},
		   "source": [
			"## Example 2.7: Lattice_spacing_from_Miller_indices.sce"
		   ]
		  },
  {
"cell_type": "code",
	   "execution_count": null,
	   "metadata": {
	    "collapsed": true
	   },
	   "outputs": [],
"source": [
"// Example 2.7, page no-33\n",
"clear\n",
"clc\n",
"h=3\n",
"k=2\n",
"l=1\n",
"a=4.12*10^-10\n",
"d=a/sqrt(h^2+k^2+l^2)\n",
"printf('The lattice spacing for the plane(321) is %.4f*10^-10 m',d*10^10)"
   ]
   }
,
{
		   "cell_type": "markdown",
		   "metadata": {},
		   "source": [
			"## Example 2.8: Lattice_spacing_from_Miller_indices.sce"
		   ]
		  },
  {
"cell_type": "code",
	   "execution_count": null,
	   "metadata": {
	    "collapsed": true
	   },
	   "outputs": [],
"source": [
"// Example 2.8, page no-34\n",
"clear\n",
"clc\n",
"///(i)\n",
"h=1\n",
"k=0\n",
"l=1\n",
"a=4.2*10^-10\n",
"d=a/sqrt(h^2+k^2+l^2)\n",
"printf('\nThe lattice spacing for the plane(101) is %.3f*10^-10 m',d*10^10)\n",
"///(ii)\n",
"h=2\n",
"k=2\n",
"l=1\n",
"a=4.12*10^-10\n",
"d=a/sqrt(h^2+k^2+l^2)\n",
"printf('\nThe lattice spacing for the plane(220) is %.1f*10^-10 m',d*10^10)"
   ]
   }
],
"metadata": {
		  "kernelspec": {
		   "display_name": "Scilab",
		   "language": "scilab",
		   "name": "scilab"
		  },
		  "language_info": {
		   "file_extension": ".sce",
		   "help_links": [
			{
			 "text": "MetaKernel Magics",
			 "url": "https://github.com/calysto/metakernel/blob/master/metakernel/magics/README.md"
			}
		   ],
		   "mimetype": "text/x-octave",
		   "name": "scilab",
		   "version": "0.7.1"
		  }
		 },
		 "nbformat": 4,
		 "nbformat_minor": 0
}
