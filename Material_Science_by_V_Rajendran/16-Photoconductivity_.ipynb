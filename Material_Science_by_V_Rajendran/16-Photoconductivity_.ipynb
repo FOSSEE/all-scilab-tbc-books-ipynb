{
"cells": [
 {
		   "cell_type": "markdown",
	   "metadata": {},
	   "source": [
       "# Chapter 16: Photoconductivity "
	   ]
	},
{
		   "cell_type": "markdown",
		   "metadata": {},
		   "source": [
			"## Example 16.1: Pairs_generated_per_second.sce"
		   ]
		  },
  {
"cell_type": "code",
	   "execution_count": null,
	   "metadata": {
	    "collapsed": true
	   },
	   "outputs": [],
"source": [
"// Example 16.1, page no-416\n",
"clear\n",
"clc\n",
"\n",
"lam=0.4*10^-6//m\n",
"A=4*10^-6//m^2\n",
"in=200//W/m^2\n",
"h=6.626*10^-34\n",
"c=3*10^8//m/s\n",
"N=in*A*lam/(h*c)\n",
"printf('The number of pairs generated per second is %.3f * 10^14',N*10^-14)"
   ]
   }
,
{
		   "cell_type": "markdown",
		   "metadata": {},
		   "source": [
			"## Example 16.2: Wavelength_of_emitted_radiation.sce"
		   ]
		  },
  {
"cell_type": "code",
	   "execution_count": null,
	   "metadata": {
	    "collapsed": true
	   },
	   "outputs": [],
"source": [
"// Example 16.2, page no-417\n",
"clear\n",
"clc\n",
"\n",
"e=1.6*10^-19//C\n",
"eg=1.43 //eV\n",
"E=e*eg\n",
"h=6.626*10^-34\n",
"c=3*10^8//m/s\n",
"lam=h*c/E\n",
"printf('The wavelength of emitted radiation is %.2f µm',lam*10^6)"
   ]
   }
],
"metadata": {
		  "kernelspec": {
		   "display_name": "Scilab",
		   "language": "scilab",
		   "name": "scilab"
		  },
		  "language_info": {
		   "file_extension": ".sce",
		   "help_links": [
			{
			 "text": "MetaKernel Magics",
			 "url": "https://github.com/calysto/metakernel/blob/master/metakernel/magics/README.md"
			}
		   ],
		   "mimetype": "text/x-octave",
		   "name": "scilab",
		   "version": "0.7.1"
		  }
		 },
		 "nbformat": 4,
		 "nbformat_minor": 0
}
