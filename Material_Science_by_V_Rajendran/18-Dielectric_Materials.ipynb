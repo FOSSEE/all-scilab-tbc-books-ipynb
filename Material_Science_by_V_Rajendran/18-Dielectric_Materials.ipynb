{
"cells": [
 {
		   "cell_type": "markdown",
	   "metadata": {},
	   "source": [
       "# Chapter 18: Dielectric Materials"
	   ]
	},
{
		   "cell_type": "markdown",
		   "metadata": {},
		   "source": [
			"## Example 18.10: Polarisability_of_Ar.sce"
		   ]
		  },
  {
"cell_type": "code",
	   "execution_count": null,
	   "metadata": {
	    "collapsed": true
	   },
	   "outputs": [],
"source": [
"// Example 18.10, page no-466\n",
"clear\n",
"clc\n",
"\n",
"epsr=1.0024\n",
"N=2.7*10^25 //atoms.m^-3\n",
"eps=8.854*10^-12//F.m^-1\n",
"alfe=eps*(epsr-1)/N\n",
"printf('The polarisability of argon atom is %.1f * 10^-40 F m^2',alfe*10^40)\n",
""
   ]
   }
,
{
		   "cell_type": "markdown",
		   "metadata": {},
		   "source": [
			"## Example 18.11: Polarisability_of_He_atom.sce"
		   ]
		  },
  {
"cell_type": "code",
	   "execution_count": null,
	   "metadata": {
	    "collapsed": true
	   },
	   "outputs": [],
"source": [
"// Example 18.11, page no-466\n",
"clear\n",
"clc\n",
"\n",
"epsr=1.0000684\n",
"N=2.7*10^25 //atoms.m^-3\n",
"eps=8.854*10^-12//F.m^-1\n",
"alfe=eps*(epsr-1)/N\n",
"printf('The electronic polarisability of He atom at NTP is %.3f * 10^-41 F m^2',alfe*10^41)"
   ]
   }
,
{
		   "cell_type": "markdown",
		   "metadata": {},
		   "source": [
			"## Example 18.12: Polarisability_of_Ar.sce"
		   ]
		  },
  {
"cell_type": "code",
	   "execution_count": null,
	   "metadata": {
	    "collapsed": true
	   },
	   "outputs": [],
"source": [
"// Example 18.12, page no-467\n",
"clear\n",
"clc\n",
"epsr=12\n",
"N=5*10^28 //atoms.m^-3\n",
"eps=8.854*10^-12//F.m^-1\n",
"alfe=eps*(epsr-1)/N\n",
"printf('The electronic polarisability of given element is %.3f * 10^-39 F m^2',alfe*10^39)"
   ]
   }
,
{
		   "cell_type": "markdown",
		   "metadata": {},
		   "source": [
			"## Example 18.13: energy_stored_in_dielectric.sce"
		   ]
		  },
  {
"cell_type": "code",
	   "execution_count": null,
	   "metadata": {
	    "collapsed": true
	   },
	   "outputs": [],
"source": [
"// Example 18.13, page no-467\n",
"clear\n",
"clc\n",
"\n",
"c=2*10^-6//F\n",
"v=1000//V\n",
"epsr=100\n",
"E=(c*v^2)/2\n",
"c0=c/epsr\n",
"e2=(c0*v^2)/2\n",
"E1=E-e2\n",
"printf('The energy stored in dielectric is %.2f J',E1)"
   ]
   }
,
{
		   "cell_type": "markdown",
		   "metadata": {},
		   "source": [
			"## Example 18.14: Electronic_polarisability_of_Sulphur.sce"
		   ]
		  },
  {
"cell_type": "code",
	   "execution_count": null,
	   "metadata": {
	    "collapsed": true
	   },
	   "outputs": [],
"source": [
"// Example 18.14, page no-468\n",
"clear\n",
"clc\n",
"epsr=4.94\n",
"eps=8.854*10^-12\n",
"d=2.07*10^3//kg.m^-3\n",
"w=32.07\n",
"N=6.023*10^23*10^3*d/w\n",
"alfe=3*eps*(epsr-1)/(N*(epsr+2))\n",
"printf('The electronic polarisability of sulphur is %f * 10^-40 F.m^2',alfe*10^40)"
   ]
   }
,
{
		   "cell_type": "markdown",
		   "metadata": {},
		   "source": [
			"## Example 18.15: energy_stored_in_capacitor.sce"
		   ]
		  },
  {
"cell_type": "code",
	   "execution_count": null,
	   "metadata": {
	    "collapsed": true
	   },
	   "outputs": [],
"source": [
"// Example 18.15, page no-469\n",
"clear\n",
"clc\n",
"A=6.45*10^-4//m^2\n",
"d=2*10^-3//m\n",
"epsr=6\n",
"v=10//v\n",
"eps=8.85*10^-12//F/m\n",
"c=eps*epsr*A/d\n",
"printf('Capaccitance of Capacitor = %.3f pF',c*10^12)\n",
"q=c*v\n",
"E=v/d\n",
"p=eps*(epsr-1)*E\n",
"printf('\ncharge stored on the plate is %.3f *10^-11 C',q*10^11)\n",
"printf('\nPolarisation produce in the plate is %.3f *10^-7 Cm^-2',p*10^7)"
   ]
   }
,
{
		   "cell_type": "markdown",
		   "metadata": {},
		   "source": [
			"## Example 18.16: Polarisation_produced_in_NaCl.sce"
		   ]
		  },
  {
"cell_type": "code",
	   "execution_count": null,
	   "metadata": {
	    "collapsed": true
	   },
	   "outputs": [],
"source": [
"// Example 18.16, page no-470\n",
"clear\n",
"clc\n",
"E=600*10^3 //V/m\n",
"eps=8.854*10^-12 //F/m\n",
"epsr=6\n",
"p=eps*(epsr-1)*E\n",
"printf('Polarisation produced in NaCl is %.3f *10^-5 C.m^-2',p*10^5)"
   ]
   }
,
{
		   "cell_type": "markdown",
		   "metadata": {},
		   "source": [
			"## Example 18.17: Relative_permitivity_of_NaCl.sce"
		   ]
		  },
  {
"cell_type": "code",
	   "execution_count": null,
	   "metadata": {
	    "collapsed": true
	   },
	   "outputs": [],
"source": [
"// Example 18.17, page no-470\n",
"clear\n",
"clc\n",
"E=1000 //V/m\n",
"p=4.3*10^-8\n",
"eps=8.854*10^-12\n",
"epsr=1+p/(eps*E)\n",
"printf('Relative permitivity of NaCl is %.2f',epsr)"
   ]
   }
,
{
		   "cell_type": "markdown",
		   "metadata": {},
		   "source": [
			"## Example 18.18: Electric_field_strength.sce"
		   ]
		  },
  {
"cell_type": "code",
	   "execution_count": null,
	   "metadata": {
	    "collapsed": true
	   },
	   "outputs": [],
"source": [
"// Example 18.18, page no-471\n",
"clear\n",
"clc\n",
"A=1000*10^-6 //m^2\n",
"d=5*10^-3\n",
"epsr=4\n",
"Q=3*10^-10\n",
"eps=8.854*10^-12\n",
"c=(eps*epsr*A)/d\n",
"v=Q/c\n",
"E=v/d\n",
"printf('The voltage across capacitor is %.2f V\nThe electric field strength is %.2f V/m',v,E)"
   ]
   }
,
{
		   "cell_type": "markdown",
		   "metadata": {},
		   "source": [
			"## Example 18.19: Polarisability_of_He_atom.sce"
		   ]
		  },
  {
"cell_type": "code",
	   "execution_count": null,
	   "metadata": {
	    "collapsed": true
	   },
	   "outputs": [],
"source": [
"// Example 18.19, page no-472\n",
"clear\n",
"clc\n",
"epsr=1.0000684\n",
"N=2.7*10^25//m^-3\n",
"eps=8.854*10^-12\n",
"alfe=eps*(epsr-1)/N\n",
"printf('The electronic polarisability of He atoms at NTP is %.3f *10^-41 F.m^2',alfe*10^41)"
   ]
   }
,
{
		   "cell_type": "markdown",
		   "metadata": {},
		   "source": [
			"## Example 18.1: Dilectric_constant_of_KCl.sce"
		   ]
		  },
  {
"cell_type": "code",
	   "execution_count": null,
	   "metadata": {
	    "collapsed": true
	   },
	   "outputs": [],
"source": [
"// Example 18.1, page no-460\n",
"clear\n",
"clc\n",
"atom=4\n",
"kci=0.629*10^-9//m\n",
"alfk=1.264*10^-40//m^2\n",
"alfCl=3.408*10^-40//m^2\n",
"eps0=8.854*10^-12\n",
"pol=alfk+alfCl\n",
"N=atom/kci^3\n",
"epsr=(N*pol/eps0)+1\n",
"printf('\nThe electronic polarisability for KCL = %.3f *10^-40 F m^2\n',pol*10^40)\n",
"printf('\nThe no of Dipoles per m^3 = %.3f * 10^28 atoms m^-3\n',N/10^28)\n",
"printf('\nThe dielectric constant of KCL is %.3f',epsr)"
   ]
   }
,
{
		   "cell_type": "markdown",
		   "metadata": {},
		   "source": [
			"## Example 18.20: Electric_field_strength.sce"
		   ]
		  },
  {
"cell_type": "code",
	   "execution_count": null,
	   "metadata": {
	    "collapsed": true
	   },
	   "outputs": [],
"source": [
"// Example 18.20, page no-472\n",
"clear\n",
"clc\n",
"A=3*10^-3//m^2\n",
"d=1*10^-3 //m\n",
"epsr=3.5\n",
"Q=20*10^-9//C\n",
"eps=8.854*10^-12 //F.m^-1\n",
"c=eps*epsr*A/d\n",
"E=Q/(c*d)\n",
"printf('The capacitance of capacitor is %.2f pF\nThe electric field strength is %.2f*10^3 V/m',c*10^12,E*10^-3)"
   ]
   }
,
{
		   "cell_type": "markdown",
		   "metadata": {},
		   "source": [
			"## Example 18.21: Dilectric_Displacement.sce"
		   ]
		  },
  {
"cell_type": "code",
	   "execution_count": null,
	   "metadata": {
	    "collapsed": true
	   },
	   "outputs": [],
"source": [
"// Example 18.21, page no-473\n",
"clear\n",
"clc\n",
"A=7.54*10^-4 //m^2\n",
"d=2.45*10^-3 //m\n",
"epsr=6\n",
"v=10 //V\n",
"eps=8.854*10^-12//F/m\n",
"c=eps*epsr*A/d\n",
"printf('\nThe capacitance of the capacitor is %.3f pF',c*10^12)\n",
"Q=c*v\n",
"E=v/d\n",
"p=eps*(epsr-1)*E\n",
"D=eps*epsr*E\n",
"printf('\nCharge stored on capacitor = %.3f *10^-11 C\nE=%.2f*10^3 V/m\nPolarisation=%.3f*10^-7 Cm^-2\ndielectric displacement = %.3f*10^-7 cm',Q*10^11,E*10^-3,p*10^7,D*10^7)"
   ]
   }
,
{
		   "cell_type": "markdown",
		   "metadata": {},
		   "source": [
			"## Example 18.22: Polarisation_produced_in_NaCl.sce"
		   ]
		  },
  {
"cell_type": "code",
	   "execution_count": null,
	   "metadata": {
	    "collapsed": true
	   },
	   "outputs": [],
"source": [
"// Example 18.22, page no-475\n",
"clear\n",
"clc\n",
"E=500\n",
"epsr=6\n",
"eps=8.854*10^-12\n",
"p=eps*(epsr-1)*E\n",
"printf('The polarisation produced in NaCl is %.3f * 10^-8 C.m^-2',p*10^8)"
   ]
   }
,
{
		   "cell_type": "markdown",
		   "metadata": {},
		   "source": [
			"## Example 18.23: Polarisation_produced_in_NaCl.sce"
		   ]
		  },
  {
"cell_type": "code",
	   "execution_count": null,
	   "metadata": {
	    "collapsed": true
	   },
	   "outputs": [],
"source": [
"// Example 18.23, page no-475\n",
"clear\n",
"clc\n",
"\n",
"E=500\n",
"epsr=15\n",
"eps=8.854*10^-12\n",
"p=eps*(epsr-1)*E\n",
"printf('The polarisation produced in NaCl is %.3f * 10^-8 C.m^-2',p*10^8)\n",
""
   ]
   }
,
{
		   "cell_type": "markdown",
		   "metadata": {},
		   "source": [
			"## Example 18.24: Voltage_across_Capacitor.sce"
		   ]
		  },
  {
"cell_type": "code",
	   "execution_count": null,
	   "metadata": {
	    "collapsed": true
	   },
	   "outputs": [],
"source": [
"// Example 18.24, page no-475\n",
"clear\n",
"clc\n",
"A=650*10^-6 //mm^2\n",
"d=4 *10^-3//mm\n",
"epsr=3.5\n",
"eps=8.854*10^-12\n",
"q=2*10^-10//C\n",
"v=q*d/(eps*epsr*A)\n",
"printf('The voltage across capacitor is %.2f V',v)"
   ]
   }
,
{
		   "cell_type": "markdown",
		   "metadata": {},
		   "source": [
			"## Example 18.25: Charge_on_Capacitor.sce"
		   ]
		  },
  {
"cell_type": "code",
	   "execution_count": null,
	   "metadata": {
	    "collapsed": true
	   },
	   "outputs": [],
"source": [
"// Example 18.25, page no-476\n",
"clear\n",
"clc\n",
"A=5*10^-4 //m^2\n",
"d=1.5*10^-3//m\n",
"epsr=6\n",
"v=100\n",
"eps=8.854*10^-12\n",
"q=eps*epsr*A*v/d\n",
"printf('The charge on the capacitor is %.2f *10^-9 C',q*10^9)"
   ]
   }
,
{
		   "cell_type": "markdown",
		   "metadata": {},
		   "source": [
			"## Example 18.26: Dilectric_Constant.sce"
		   ]
		  },
  {
"cell_type": "code",
	   "execution_count": null,
	   "metadata": {
	    "collapsed": true
	   },
	   "outputs": [],
"source": [
"// Example 18.26, page no-476\n",
"clear\n",
"clc\n",
"\n",
"d=2.08*10^3//kg-m^3\n",
"wt=32\n",
"ep=3.28*10^-40\n",
"eps=8.854*10^-15\n",
"k=(3*10^28*7*10^-40)/(3*eps)\n",
"epsr=2.5812/(1-0.7906)\n",
"printf('The dielectric constant of the given material is %.3f',epsr)"
   ]
   }
,
{
		   "cell_type": "markdown",
		   "metadata": {},
		   "source": [
			"## Example 18.2: Electronic_polarisability_of_Se_atom.sce"
		   ]
		  },
  {
"cell_type": "code",
	   "execution_count": null,
	   "metadata": {
	    "collapsed": true
	   },
	   "outputs": [],
"source": [
"// Example 18.2, page no-460\n",
"clear\n",
"clc\n",
"r=0.12*10^-9//m\n",
"eps=8.854*10^-12\n",
"alf=4*%pi*eps*r^3\n",
"printf('The electronic polarisability of an isolated Se is %.4f * 10^-40 F m^2',alf*10^40)"
   ]
   }
,
{
		   "cell_type": "markdown",
		   "metadata": {},
		   "source": [
			"## Example 18.3: ratio_between_electronic_and_ionic_polarability.sce"
		   ]
		  },
  {
"cell_type": "code",
	   "execution_count": null,
	   "metadata": {
	    "collapsed": true
	   },
	   "outputs": [],
"source": [
"// Example 18.3, page no-461\n",
"clear\n",
"clc\n",
"\n",
"n=2.69\n",
"er=4.94\n",
"alfi_by_alfe=(((n+2)*(er-1))/((er+2)*(n-1)))-1\n",
"printf('The ratio of the electronic to ionic polariability is %.4f',1/alfi_by_alfe)"
   ]
   }
,
{
		   "cell_type": "markdown",
		   "metadata": {},
		   "source": [
			"## Example 18.4: Dielectric_constant_of_Ne_gas.sce"
		   ]
		  },
  {
"cell_type": "code",
	   "execution_count": null,
	   "metadata": {
	    "collapsed": true
	   },
	   "outputs": [],
"source": [
"// Example 18.4, page no-462\n",
"clear\n",
"clc\n",
"N= 2.7*10^25//atoms m^-3\n",
"alfe=0.35*10^-40 //F m^2\n",
"eps=8.854*10^-12\n",
"epsr=(1+(2*N*alfe)/(3*eps))/(1-(N*alfe)/(3*eps))\n",
"printf('The dielectric constant of Ne gas is %.8f',epsr)"
   ]
   }
,
{
		   "cell_type": "markdown",
		   "metadata": {},
		   "source": [
			"## Example 18.5: Charge_on_Capacitor.sce"
		   ]
		  },
  {
"cell_type": "code",
	   "execution_count": null,
	   "metadata": {
	    "collapsed": true
	   },
	   "outputs": [],
"source": [
"// Example 18.5, page no-462\n",
"clear\n",
"clc\n",
"\n",
"eps=8.85*10^-12//F m^-1\n",
"epsr=6\n",
"A=5*10^-4//m^2\n",
"d=1.5*10^-3\n",
"v=100\n",
"Q=eps*epsr*A*v/d\n",
"printf('The charge on the capacitor is %.2f * 10^-9 C',Q*10^9)"
   ]
   }
,
{
		   "cell_type": "markdown",
		   "metadata": {},
		   "source": [
			"## Example 18.6: Dielectric_constant_of_Ar_gas.sce"
		   ]
		  },
  {
"cell_type": "code",
	   "execution_count": null,
	   "metadata": {
	    "collapsed": true
	   },
	   "outputs": [],
"source": [
"// Example 18.6, page no-463\n",
"clear\n",
"clc\n",
"N=2.7*10^25//m^-3\n",
"d=0.384*10^-9//m\n",
"eps=8.854*10^-12\n",
"alfe=4*%pi*eps*d^3\n",
"epsr=(1+(2*N*alfe)/(3*eps))/(1-(N*alfe)/(3*eps))\n",
"printf('The dielectric constant of Ar  is %.8f',epsr)"
   ]
   }
,
{
		   "cell_type": "markdown",
		   "metadata": {},
		   "source": [
			"## Example 18.7: Energy_stored_in_capacitor_and_polarising_the_capacitor.sce"
		   ]
		  },
  {
"cell_type": "code",
	   "execution_count": null,
	   "metadata": {
	    "collapsed": true
	   },
	   "outputs": [],
"source": [
"// Example 18.7, page no-464\n",
"clear\n",
"clc\n",
"c=2*10^-6//F\n",
"epsr=80\n",
"v=1000 //v\n",
"E1=(c*v^2)/2\n",
"c0=c/epsr\n",
"E2=(c0*v^2)/2\n",
"E=E1-E2\n",
"printf('\nThe Energy stored in capacitor =%.0f J',E1)\n",
"printf('\nThe energy stored in polarising the capacitor = %.4f J',E)"
   ]
   }
,
{
		   "cell_type": "markdown",
		   "metadata": {},
		   "source": [
			"## Example 18.8: ratio_of_internal_field_to_the_applied_field.sce"
		   ]
		  },
  {
"cell_type": "code",
	   "execution_count": null,
	   "metadata": {
	    "collapsed": true
	   },
	   "outputs": [],
"source": [
"// Example 18.8, page no-464\n",
"clear\n",
"clc\n",
"N=5*10^28 //m^-3\n",
"alfe=2*10^-40 //F m^2\n",
"eps=8.854*10^-12\n",
"P=N*alfe\n",
"E_ratio=1/(1-(P/(3*eps)))\n",
"printf('The ratio of the internal field to the applied field = %.4f',E_ratio)"
   ]
   }
,
{
		   "cell_type": "markdown",
		   "metadata": {},
		   "source": [
			"## Example 18.9: Relative_permittivity_of_NaCl.sce"
		   ]
		  },
  {
"cell_type": "code",
	   "execution_count": null,
	   "metadata": {
	    "collapsed": true
	   },
	   "outputs": [],
"source": [
"// Example 18.9, page no-465\n",
"clear\n",
"clc\n",
"E=1000//V.m^-1\n",
"P=4.3*10^-8 //C.m^-2\n",
"eps=8.854*10^-12 //F.m^-1\n",
"epsr=1+P/(eps*E)\n",
"printf('The relative permittivity of NaCl is %.2f',epsr)"
   ]
   }
],
"metadata": {
		  "kernelspec": {
		   "display_name": "Scilab",
		   "language": "scilab",
		   "name": "scilab"
		  },
		  "language_info": {
		   "file_extension": ".sce",
		   "help_links": [
			{
			 "text": "MetaKernel Magics",
			 "url": "https://github.com/calysto/metakernel/blob/master/metakernel/magics/README.md"
			}
		   ],
		   "mimetype": "text/x-octave",
		   "name": "scilab",
		   "version": "0.7.1"
		  }
		 },
		 "nbformat": 4,
		 "nbformat_minor": 0
}
