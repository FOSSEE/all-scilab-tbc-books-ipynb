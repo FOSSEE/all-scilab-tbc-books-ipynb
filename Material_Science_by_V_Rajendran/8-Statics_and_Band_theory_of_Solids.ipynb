{
"cells": [
 {
		   "cell_type": "markdown",
	   "metadata": {},
	   "source": [
       "# Chapter 8: Statics and Band theory of Solids"
	   ]
	},
{
		   "cell_type": "markdown",
		   "metadata": {},
		   "source": [
			"## Example 8.10: Fermi_Energy.sce"
		   ]
		  },
  {
"cell_type": "code",
	   "execution_count": null,
	   "metadata": {
	    "collapsed": true
	   },
	   "outputs": [],
"source": [
"// Example 8.10, page no-215\n",
"clear\n",
"clc\n",
"n=18.1*10^28//per cubic m\n",
"h=6.62*10^-34//Js\n",
"m=9.1*10^-31//Kg\n",
"e=1.6*10^-19//C\n",
"ef=((3*n/(8*%pi))^(2/3))*((h^2)/(2*m))\n",
"ef=ef/e\n",
"printf('The Fermi energy at 0 K is %.2f eV ',ef)"
   ]
   }
,
{
		   "cell_type": "markdown",
		   "metadata": {},
		   "source": [
			"## Example 8.11: Fermi_distribution_Function.sce"
		   ]
		  },
  {
"cell_type": "code",
	   "execution_count": null,
	   "metadata": {
	    "collapsed": true
	   },
	   "outputs": [],
"source": [
"// Example 8.11, page no-215\n",
"clear\n",
"clc\n",
"e=1.6*10^-19//C\n",
"Ed=0.5*e\n",
"k=1.38*10^-23\n",
"x=0.01\n",
"T=Ed/(k*log((1/x)-1))\n",
"\n",
"printf('Temperature at which there is 1%% probability that a state with 0.5 eV energy occupied above the Fermi energy level is %.1f K',T)"
   ]
   }
,
{
		   "cell_type": "markdown",
		   "metadata": {},
		   "source": [
			"## Example 8.12: theorotical_example.sce"
		   ]
		  },
  {
"cell_type": "code",
	   "execution_count": null,
	   "metadata": {
	    "collapsed": true
	   },
	   "outputs": [],
"source": [
"// Example 8.12, page no-216\n",
"clear\n",
"clc\n",
"printf('Theorotical Exam[ple')"
   ]
   }
,
{
		   "cell_type": "markdown",
		   "metadata": {},
		   "source": [
			"## Example 8.13: theorotical_example.sce"
		   ]
		  },
  {
"cell_type": "code",
	   "execution_count": null,
	   "metadata": {
	    "collapsed": true
	   },
	   "outputs": [],
"source": [
"// Example 8.1, page no-217\n",
"clear\n",
"clc\n",
"printf('Theorotical Exam[ple')"
   ]
   }
,
{
		   "cell_type": "markdown",
		   "metadata": {},
		   "source": [
			"## Example 8.14: Energies_for_different_probabilities.sce"
		   ]
		  },
  {
"cell_type": "code",
	   "execution_count": null,
	   "metadata": {
	    "collapsed": true
	   },
	   "outputs": [],
"source": [
"// Example 8.14, page no-218\n",
"clear\n",
"clc\n",
"ef=2.1\n",
"k=1.38*10^-23\n",
"T=300//K\n",
"e=1.6*10^-19//c\n",
"//(i)\n",
"p1=0.99\n",
"E1=ef+(k*T*log(-1+1/p1))/e\n",
"\n",
"//(ii)\n",
"p2=0.01\n",
"E2=ef+(k*T*log(-1+1/p2))/e\n",
"\n",
"//(iii)\n",
"p3=0.5\n",
"E3=ef+(k*T*log(-1+1/p3))/e\n",
"\n",
"printf('\nThe energies for the occupying of delectrons at %d K for the probability of %.2f is %.2f',T,p1,E1)\n",
"\n",
"printf('\nThe energies for the occupying of delectrons at %d K for the probability of %.2f is %.2f',T,p2,E2)\n",
"\n",
"printf('\nThe energies for the occupying of delectrons at %d K for the probability of %.2f is %.2f',T,p3,E3)"
   ]
   }
,
{
		   "cell_type": "markdown",
		   "metadata": {},
		   "source": [
			"## Example 8.15: Fermi_distribution_Function.sce"
		   ]
		  },
  {
"cell_type": "code",
	   "execution_count": null,
	   "metadata": {
	    "collapsed": true
	   },
	   "outputs": [],
"source": [
"// Example 8.15, page no-219\n",
"clear\n",
"clc\n",
"e=1.6*10^-19 //C\n",
"ed=0.02*e\n",
"T1=200\n",
"T2=400\n",
"k=1.38*10^-23\n",
"fe1=1/(1+%e^(ed/(k*T1)))\n",
"fe2=1/(1+%e^(ed/(k*T2)))\n",
"printf('\nThe Fermi distribution function for the given energy at %d K is %.4f',T1,fe1)\n",
"printf('\nThe Fermi distribution function for the given energy at %d K is %.4f',T2,fe2)"
   ]
   }
,
{
		   "cell_type": "markdown",
		   "metadata": {},
		   "source": [
			"## Example 8.16: Fermi_Energy.sce"
		   ]
		  },
  {
"cell_type": "code",
	   "execution_count": null,
	   "metadata": {
	    "collapsed": true
	   },
	   "outputs": [],
"source": [
"// Example 8.16, page no-220\n",
"clear\n",
"clc\n",
"d=10500//density\n",
"avg=6.022*10^26\n",
"awt=107.9\n",
"n=d*avg/awt//per cubic m\n",
"h=6.62*10^-34//Js\n",
"m=9.1*10^-31//Kg\n",
"e=1.6*10^-19//C\n",
"ef=((3*n/(8*%pi))^(2/3))*((h^2)/(2*m))\n",
"ef=ef/e\n",
"printf('The Fermi energy for given metal is %.2f eV ',ef)"
   ]
   }
,
{
		   "cell_type": "markdown",
		   "metadata": {},
		   "source": [
			"## Example 8.17: Fermi_distribution_Function.sce"
		   ]
		  },
  {
"cell_type": "code",
	   "execution_count": null,
	   "metadata": {
	    "collapsed": true
	   },
	   "outputs": [],
"source": [
"// Example 8.17, page no-221\n",
"clear\n",
"clc\n",
"e=1.6*10^-19 //C\n",
"ed=0.2*e\n",
"T1=300\n",
"T2=1000\n",
"k=1.38*10^-23\n",
"fe1=1/(1+%e^(ed/(k*T1)))\n",
"fe2=1/(1+%e^(ed/(k*T2)))\n",
"printf('\nThe Fermi distribution function for the given energy at %d K is %.6f',T1,fe1)\n",
"printf('\nThe Fermi distribution function for the given energy at %d K is %.4f',T2,fe2)"
   ]
   }
,
{
		   "cell_type": "markdown",
		   "metadata": {},
		   "source": [
			"## Example 8.18: Electron_density.sce"
		   ]
		  },
  {
"cell_type": "code",
	   "execution_count": null,
	   "metadata": {
	    "collapsed": true
	   },
	   "outputs": [],
"source": [
"// Example 8.18, page no-221\n",
"clear\n",
"clc\n",
"\n",
"h=6.62*10^-34//Js\n",
"m=9.1*10^-31//Kg\n",
"e=1.6*10^-19//C\n",
"ef=3*e\n",
"k=((3/(8*%pi))^(2/3))*((h^2)/(2*m))\n",
"k=ef/k\n",
"n=k^(1.5)\n",
"printf('The number of free electrons concentration in metal is %.2f *10^28 per cubic meter ',n*10^-28)"
   ]
   }
,
{
		   "cell_type": "markdown",
		   "metadata": {},
		   "source": [
			"## Example 8.19: concentration_of_free_electrons.sce"
		   ]
		  },
  {
"cell_type": "code",
	   "execution_count": null,
	   "metadata": {
	    "collapsed": true
	   },
	   "outputs": [],
"source": [
"// Example 8.18, page no-221\n",
"clear\n",
"clc\n",
"\n",
"h=6.62*10^-34//Js\n",
"m=9.1*10^-31//Kg\n",
"e=1.6*10^-19//C\n",
"ef=5.5*e\n",
"k=((3/(8*%pi))^(2/3))*((h^2)/(2*m))\n",
"k=ef/k\n",
"n=k^(1.5)\n",
"printf('The number of free electrons concentration in metal is %.3f *10^28 per cubic meter ',n*10^-28)"
   ]
   }
,
{
		   "cell_type": "markdown",
		   "metadata": {},
		   "source": [
			"## Example 8.1: Fermi_energy.sce"
		   ]
		  },
  {
"cell_type": "code",
	   "execution_count": null,
	   "metadata": {
	    "collapsed": true
	   },
	   "outputs": [],
"source": [
"// Example 8.1, page no-208\n",
"clear\n",
"clc\n",
"d_cu=8.96*10^3//density of cu\n",
"a_cu=63.55//Atomic weight of cu\n",
"d_z=7100\n",
"a_z=65.38\n",
"d_al=2700\n",
"a_al=27\n",
"avg=6.023*10^26\n",
"h=6.626*10^-34\n",
"m=9.1*10^-31//kg\n",
"e=1.6*10^-19//C\n",
"\n",
"//(i)\n",
"n_cu=d_cu*avg/a_cu\n",
"e_cu=(h^2/(8*m))*(3*n_cu/%pi)^(2/3)\n",
"e_cu=e_cu/e\n",
"printf('\n(i)For Cu\nThe electron concentration in Cu is %.4f*10^28 per m^3\nFermi energy at 0 k =%.4f eV ',n_cu*10^-28,e_cu)\n",
"\n",
"//(ii)\n",
"n_z=d_z*avg*2/a_z\n",
"e_z=(h^2/(8*m))*(3*n_z/%pi)^(2/3)\n",
"e_z=e_z/e\n",
"printf('\n(i)For Zn\nThe electron concentration in Zn is %.4f*10^28 per m^3\nFermi energy at 0 k =%.4f eV ',n_z*10^-28,e_z)\n",
"\n",
"//(i)\n",
"n_al=d_al*avg*3/a_al\n",
"e_al=(h^2/(8*m))*(3*n_al/%pi)^(2/3)\n",
"e_al=e_al/e\n",
"printf('\n(i)For Al\nThe electron concentration in Al is %.4f*10^28 per m^3\nFermi energy at 0 k =%.4f eV ',n_al*10^-28,e_al)"
   ]
   }
,
{
		   "cell_type": "markdown",
		   "metadata": {},
		   "source": [
			"## Example 8.20: carrier_density_and_fermi_velocity.sce"
		   ]
		  },
  {
"cell_type": "code",
	   "execution_count": null,
	   "metadata": {
	    "collapsed": true
	   },
	   "outputs": [],
"source": [
"// Example 8.18, page no-221\n",
"clear\n",
"clc\n",
"\n",
"h=6.62*10^-34//Js\n",
"m=9.1*10^-31//Kg\n",
"e=1.6*10^-19//C\n",
"ef=7*e\n",
"k=((3/(8*%pi))^(2/3))*((h^2)/(2*m))\n",
"k=ef/k\n",
"n=k^(1.5)\n",
"printf('The number of free electrons concentration in metal is %.2f *10^28 per cubic meter ',n*10^-28)\n",
"vth=sqrt(2*ef/m)\n",
"printf('\nThe termal velocity of electrons in copper is %.3f *10^6 m/s',vth*10^-6)"
   ]
   }
,
{
		   "cell_type": "markdown",
		   "metadata": {},
		   "source": [
			"## Example 8.2: Density_of_States.sce"
		   ]
		  },
  {
"cell_type": "code",
	   "execution_count": null,
	   "metadata": {
	    "collapsed": true
	   },
	   "outputs": [],
"source": [
"// Example 8.2, page no-210\n",
"clear\n",
"clc\n",
"avg=6.023*10^26\n",
"h=6.626*10^-34\n",
"m=9.1*10^-31//kg\n",
"e=1.6*10^-19//C\n",
"n=8.4905*10^28\n",
"\n",
"ef=(h^2/(8*m))*(3*n/%pi)^(2/3)\n",
"ef=ef/e\n",
"gam=6.82*10^27\n",
"x=(gam*sqrt(ef))/2\n",
"printf('The density of states for Cu at the Fermi level for T = 0 K is %.0f*10^27 m^-3',x*10^-27)"
   ]
   }
,
{
		   "cell_type": "markdown",
		   "metadata": {},
		   "source": [
			"## Example 8.3: Nordheims_Coefficient.sce"
		   ]
		  },
  {
"cell_type": "code",
	   "execution_count": null,
	   "metadata": {
	    "collapsed": true
	   },
	   "outputs": [],
"source": [
"// Example 8.3, page no-210\n",
"clear\n",
"clc\n",
"rni=63//n Ohm.m\n",
"rcr=129\n",
"k=1120\n",
"c=(k*10^-9)/(0.8*(1-0.8))\n",
"printf('The Nordheims coeeficient is %.0f *10^-6 Ohm-m',c*10^6)"
   ]
   }
,
{
		   "cell_type": "markdown",
		   "metadata": {},
		   "source": [
			"## Example 8.4: Conductivity_of_Al.sce"
		   ]
		  },
  {
"cell_type": "code",
	   "execution_count": null,
	   "metadata": {
	    "collapsed": true
	   },
	   "outputs": [],
"source": [
"// Example 8.4, page no-211\n",
"clear\n",
"clc\n",
"d=2700//kh/m^3\n",
"awt=27\n",
"t=10^-14//s\n",
"e=1.6*10^-19//C\n",
"m=9.1*10^-31//Kg\n",
"avg=6.023*10^26\n",
"n=avg*d*3/awt\n",
"sig=(n*t*e^2)/m\n",
"printf('The conductivity of Al is %.4f*10^7 ohm-m.',sig*10^-7)"
   ]
   }
,
{
		   "cell_type": "markdown",
		   "metadata": {},
		   "source": [
			"## Example 8.5: Fermi_distribution_Function.sce"
		   ]
		  },
  {
"cell_type": "code",
	   "execution_count": null,
	   "metadata": {
	    "collapsed": true
	   },
	   "outputs": [],
"source": [
"// Example 8.5, page no-211\n",
"clear\n",
"clc\n",
"e1=0.01//eV\n",
"e=1.6*10^-19//C\n",
"ed=e*e1\n",
"T=200//K\n",
"E=1/(1+%e^(ed/(T*1.38*10^-23)))\n",
"printf('The Fermy distribution function for energy E is %.4f',E)"
   ]
   }
,
{
		   "cell_type": "markdown",
		   "metadata": {},
		   "source": [
			"## Example 8.6: Fermi_temperature.sce"
		   ]
		  },
  {
"cell_type": "code",
	   "execution_count": null,
	   "metadata": {
	    "collapsed": true
	   },
	   "outputs": [],
"source": [
"// Example 8.6, page no-212\n",
"clear\n",
"clc\n",
"\n",
"v=0.86*10^6//m/s\n",
"m=9.1*10^-31//Kg\n",
"e=1.6*10^-19//C\n",
"k=1.38*10^-23 //J/K\n",
"E=(m*v^2)/2\n",
"T=E/k\n",
"printf('\nThe fermi energy is %.3f*10^-19 J\nThe Fermi Temperature Tf is %.2f*10^4 K',E*10^19,T*10^-4)"
   ]
   }
,
{
		   "cell_type": "markdown",
		   "metadata": {},
		   "source": [
			"## Example 8.7: Density_of_States.sce"
		   ]
		  },
  {
"cell_type": "code",
	   "execution_count": null,
	   "metadata": {
	    "collapsed": true
	   },
	   "outputs": [],
"source": [
"// Example 8.7, page no-212\n",
"clear\n",
"clc\n",
"\n",
"m=9.1*10^-31//Kg\n",
"dE=0.01 //eV\n",
"h=6.63*10^-34///Js\n",
"eF=3//eV\n",
"e=1.6*10^-19//C\n",
"E1=eF*e\n",
"E2=E1+e*dE\n",
"\n",
"n=(4*%pi*(2*m)^(1.5))/h^3\n",
"k=((2*0.3523/3)*((E2^(1.5)-(E1^(1.5)))))\n",
"n=n*k\n",
"printf('The number of states lying between the energy level is %.2f*10^25',n*10^-25)"
   ]
   }
,
{
		   "cell_type": "markdown",
		   "metadata": {},
		   "source": [
			"## Example 8.8: Fermi_Velocity.sce"
		   ]
		  },
  {
"cell_type": "code",
	   "execution_count": null,
	   "metadata": {
	    "collapsed": true
	   },
	   "outputs": [],
"source": [
"// Example 8.8, page no-214\n",
"clear\n",
"clc\n",
"Tf=24600//K\n",
"m=9.11*10^-31//Kg\n",
"k=1.38*10^-23\n",
"vf=sqrt(2*k*Tf/m)\n",
"printf('The Fermi Velocity is %.4f *10^6 m/s',vf*10^-6)"
   ]
   }
,
{
		   "cell_type": "markdown",
		   "metadata": {},
		   "source": [
			"## Example 8.9: Fermi_Energy.sce"
		   ]
		  },
  {
"cell_type": "code",
	   "execution_count": null,
	   "metadata": {
	    "collapsed": true
	   },
	   "outputs": [],
"source": [
"// Example 8.9, page no-214\n",
"clear\n",
"clc\n",
"n=18.1*10^28//per cubic m\n",
"h=6.62*10^-34//Js\n",
"m=9.1*10^-31//Kg\n",
"e=1.6*10^-19//C\n",
"ef=((3*n/(8*%pi))^(2/3))*((h^2)/(2*m))\n",
"ef=ef/e\n",
"printf('The Fermi energy at 0 K is %.2f eV ',ef)"
   ]
   }
],
"metadata": {
		  "kernelspec": {
		   "display_name": "Scilab",
		   "language": "scilab",
		   "name": "scilab"
		  },
		  "language_info": {
		   "file_extension": ".sce",
		   "help_links": [
			{
			 "text": "MetaKernel Magics",
			 "url": "https://github.com/calysto/metakernel/blob/master/metakernel/magics/README.md"
			}
		   ],
		   "mimetype": "text/x-octave",
		   "name": "scilab",
		   "version": "0.7.1"
		  }
		 },
		 "nbformat": 4,
		 "nbformat_minor": 0
}
