{
"cells": [
 {
		   "cell_type": "markdown",
	   "metadata": {},
	   "source": [
       "# Chapter 1: Materials Properties and Requirements"
	   ]
	},
{
		   "cell_type": "markdown",
		   "metadata": {},
		   "source": [
			"## Example 1.1: Resistance_of_the_wire.sce"
		   ]
		  },
  {
"cell_type": "code",
	   "execution_count": null,
	   "metadata": {
	    "collapsed": true
	   },
	   "outputs": [],
"source": [
"// Example 1.1, page no-8\n",
"clear\n",
"clc\n",
"\n",
"r=0.45*10^-3 //m\n",
"L=0.3 //m\n",
"rho=17*10^-9 //ohm-m \n",
"//Calculations\n",
"R=rho*(L/(%pi*r^2))\n",
"printf('The Resistance of the wire is %.3f ohm',R)"
   ]
   }
,
{
		   "cell_type": "markdown",
		   "metadata": {},
		   "source": [
			"## Example 1.2: Extension_of_a_wire.sce"
		   ]
		  },
  {
"cell_type": "code",
	   "execution_count": null,
	   "metadata": {
	    "collapsed": true
	   },
	   "outputs": [],
"source": [
"// Example 1.2, page no-8\n",
"clear\n",
"clc\n",
"\n",
"r=1.25*10^-3 //m\n",
"L=3 //m\n",
"F=4900 //Newton\n",
"e=2.05*10^11 //Pa\n",
"s=F/(%pi*r^2*e)\n",
"printf('strain = %.3f\nTherefore, extension = %.3f',s,s*3)"
   ]
   }
],
"metadata": {
		  "kernelspec": {
		   "display_name": "Scilab",
		   "language": "scilab",
		   "name": "scilab"
		  },
		  "language_info": {
		   "file_extension": ".sce",
		   "help_links": [
			{
			 "text": "MetaKernel Magics",
			 "url": "https://github.com/calysto/metakernel/blob/master/metakernel/magics/README.md"
			}
		   ],
		   "mimetype": "text/x-octave",
		   "name": "scilab",
		   "version": "0.7.1"
		  }
		 },
		 "nbformat": 4,
		 "nbformat_minor": 0
}
