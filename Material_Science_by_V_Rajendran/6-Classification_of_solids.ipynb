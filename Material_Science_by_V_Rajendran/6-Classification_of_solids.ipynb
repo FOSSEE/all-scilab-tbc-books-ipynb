{
"cells": [
 {
		   "cell_type": "markdown",
	   "metadata": {},
	   "source": [
       "# Chapter 6: Classification of solids"
	   ]
	},
{
		   "cell_type": "markdown",
		   "metadata": {},
		   "source": [
			"## Example 6.1: Wavelength_of_light_emitted_from_LED.sce"
		   ]
		  },
  {
"cell_type": "code",
	   "execution_count": null,
	   "metadata": {
	    "collapsed": true
	   },
	   "outputs": [],
"source": [
"// Example 6.1, page no-143\n",
"clear\n",
"clc\n",
"e=1.609*10^-19//C\n",
"eg=1.8  //eV\n",
"h=6.626*10^-34\n",
"c=3*10^8//m/s\n",
"E=e*eg\n",
"lamda=h*c/E\n",
"printf('The wavelength of light emitted from given LED is %.3f µm',lamda*10^7)"
   ]
   }
,
{
		   "cell_type": "markdown",
		   "metadata": {},
		   "source": [
			"## Example 6.2: Band_gap_of_given_GaAsP.sce"
		   ]
		  },
  {
"cell_type": "code",
	   "execution_count": null,
	   "metadata": {
	    "collapsed": true
	   },
	   "outputs": [],
"source": [
"// Example 6.2, page no-144\n",
"clear\n",
"clc\n",
"lam=6715*10^-10//m\n",
"h=6.626*10^-34\n",
"c=3*10^8//m/s\n",
"e=1.6*10^-19//C\n",
"Eg=h*c/lam\n",
"Eg=Eg/e\n",
"printf('The band gap of the given GaAsP is %.2f eV',Eg)"
   ]
   }
],
"metadata": {
		  "kernelspec": {
		   "display_name": "Scilab",
		   "language": "scilab",
		   "name": "scilab"
		  },
		  "language_info": {
		   "file_extension": ".sce",
		   "help_links": [
			{
			 "text": "MetaKernel Magics",
			 "url": "https://github.com/calysto/metakernel/blob/master/metakernel/magics/README.md"
			}
		   ],
		   "mimetype": "text/x-octave",
		   "name": "scilab",
		   "version": "0.7.1"
		  }
		 },
		 "nbformat": 4,
		 "nbformat_minor": 0
}
