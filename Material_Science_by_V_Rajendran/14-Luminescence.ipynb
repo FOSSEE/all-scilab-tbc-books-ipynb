{
"cells": [
 {
		   "cell_type": "markdown",
	   "metadata": {},
	   "source": [
       "# Chapter 14: Luminescence"
	   ]
	},
{
		   "cell_type": "markdown",
		   "metadata": {},
		   "source": [
			"## Example 14.1: Penetration_depth_of_electron.sce"
		   ]
		  },
  {
"cell_type": "code",
	   "execution_count": null,
	   "metadata": {
	    "collapsed": true
	   },
	   "outputs": [],
"source": [
"// Example 14.1, page no-385\n",
"clear\n",
"clc\n",
"eb=10000//eV\n",
"k=1.2*10^-4\n",
"b=0.151\n",
"e=1.6*10^-19\n",
"rc=k*(eb*e)^b\n",
"printf('The penetration depth of the electron is %.4f µm',rc*10^6)"
   ]
   }
,
{
		   "cell_type": "markdown",
		   "metadata": {},
		   "source": [
			"## Example 14.2: Luminescent_lifetime.sce"
		   ]
		  },
  {
"cell_type": "code",
	   "execution_count": null,
	   "metadata": {
	    "collapsed": true
	   },
	   "outputs": [],
"source": [
"// Example 14.2, page no-386\n",
"clear\n",
"clc\n",
"ed=0.4//eV\n",
"e=1.6*10^-19//C\n",
"kT=0.025//eV\n",
"q=10^8\n",
"r=q*%e^(-(ed/kT))\n",
"printf('The escape rate per unit time = %2.1f per sec\n Therefore, the luminescent lifetime is nearly %.0f sec',r,r)"
   ]
   }
],
"metadata": {
		  "kernelspec": {
		   "display_name": "Scilab",
		   "language": "scilab",
		   "name": "scilab"
		  },
		  "language_info": {
		   "file_extension": ".sce",
		   "help_links": [
			{
			 "text": "MetaKernel Magics",
			 "url": "https://github.com/calysto/metakernel/blob/master/metakernel/magics/README.md"
			}
		   ],
		   "mimetype": "text/x-octave",
		   "name": "scilab",
		   "version": "0.7.1"
		  }
		 },
		 "nbformat": 4,
		 "nbformat_minor": 0
}
