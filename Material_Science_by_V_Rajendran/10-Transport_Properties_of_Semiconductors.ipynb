{
"cells": [
 {
		   "cell_type": "markdown",
	   "metadata": {},
	   "source": [
       "# Chapter 10: Transport Properties of Semiconductors"
	   ]
	},
{
		   "cell_type": "markdown",
		   "metadata": {},
		   "source": [
			"## Example 10.10: Electrical_conductivity_of_Si.sce"
		   ]
		  },
  {
"cell_type": "code",
	   "execution_count": null,
	   "metadata": {
	    "collapsed": true
	   },
	   "outputs": [],
"source": [
"// Example 10.9, page no-273\n",
"clear\n",
"clc\n",
"e=1.6*10^-19//C\n",
"m=9.1*10^-31//kg\n",
"h=6.626*10^-34\n",
"k=1.38*10^-23\n",
"eg=1.1*e\n",
"mue=0.48//m^2/V.s\n",
"muh=0.013//m^2/V.s\n",
"T=300//K\n",
"ni=2*(2*%pi*m*k*T/(h^(2)))^(1.5)\n",
"ni=ni*%e^(-eg/(2*k*T))\n",
"\n",
"sig=ni*e*(mue+muh)\n",
"printf('\nThe carrier concentration of an intrinsic semiconductor is = %.2f*10^16 per m^3\n the electrical conductiivity od Si is %.3f*10^-3 per Ohm-m',ni*10^-16,sig*10^3)"
   ]
   }
,
{
		   "cell_type": "markdown",
		   "metadata": {},
		   "source": [
			"## Example 10.11: Fermi_energy_of_Silicon.sce"
		   ]
		  },
  {
"cell_type": "code",
	   "execution_count": null,
	   "metadata": {
	    "collapsed": true
	   },
	   "outputs": [],
"source": [
"// Example 10.11, page no-275\n",
"clear\n",
"clc\n",
"e=1.6*10^-19//C\n",
"eg=1.12\n",
"me=0.12\n",
"mh=0.28\n",
"T=300\n",
"k=1.38*10^-23\n",
"\n",
"ef=(eg/2)+(3*k*T/4)*log(mh/me)\n",
"printf('The Fermi energy of Si at 300 K is %.3f eV',ef)"
   ]
   }
,
{
		   "cell_type": "markdown",
		   "metadata": {},
		   "source": [
			"## Example 10.12: effect_of_temperature_on_Fermi_level.sce"
		   ]
		  },
  {
"cell_type": "code",
	   "execution_count": null,
	   "metadata": {
	    "collapsed": true
	   },
	   "outputs": [],
"source": [
"// Example 10.12, page no-275\n",
"clear\n",
"clc\n",
"\n",
"e=1.60*10^-19//C\n",
"eg=1*e\n",
"k=1.38*10^-23\n",
"m=4\n",
"T=0.1*e*4/(3*k*log(m))\n",
"printf('Temperature at which Fermi level is shifted 10%% is %.f K',T)"
   ]
   }
,
{
		   "cell_type": "markdown",
		   "metadata": {},
		   "source": [
			"## Example 10.13: Conductivity_of_Ge.sce"
		   ]
		  },
  {
"cell_type": "code",
	   "execution_count": null,
	   "metadata": {
	    "collapsed": true
	   },
	   "outputs": [],
"source": [
"// Example 10.13, page no-276\n",
"clear\n",
"clc\n",
"\n",
"e=1.6*10^-19//C\n",
"ni=2.4*10^19 //m^-3\n",
"mue=0.39//m^2/V-s\n",
"muh=0.19//m^2/V-s\n",
"sig=ni*e*(mue+muh)\n",
"printf('The conductivity of Ge at 300 K is %.2f per Ohm-m',sig)"
   ]
   }
,
{
		   "cell_type": "markdown",
		   "metadata": {},
		   "source": [
			"## Example 10.14: Fermi_Energy_level.sce"
		   ]
		  },
  {
"cell_type": "code",
	   "execution_count": null,
	   "metadata": {
	    "collapsed": true
	   },
	   "outputs": [],
"source": [
"// Example 10.14, page no-277\n",
"clear\n",
"clc\n",
"\n",
"e=1.6*10^-19//C\n",
"T1=300//K\n",
"T2=330//K\n",
"eg=0.3\n",
"eg2=eg*T2/T1\n",
"printf('E_c-E_f330=%.2f eV\n\nAt 330 K, the Fermi energy level lies %.2f eV, bellow the conduction band.',eg2,eg2)"
   ]
   }
,
{
		   "cell_type": "markdown",
		   "metadata": {},
		   "source": [
			"## Example 10.15: Conductivity_of_Ge.sce"
		   ]
		  },
  {
"cell_type": "code",
	   "execution_count": null,
	   "metadata": {
	    "collapsed": true
	   },
	   "outputs": [],
"source": [
"// Example 10.15, page no-277\n",
"clear\n",
"clc\n",
"e=1.6*10^-19 //C\n",
"eg=0.72*e//eV\n",
"t1=293//K\n",
"t2=313//K\n",
"k=1.38*10^-23\n",
"sig1=2\n",
"n=(t2/t1)*%e^((eg/(2*k))*((1/t1)-(1/t2)))\n",
"sig2=sig1*n\n",
"printf('The conductivity of Ge at 40°C is %.3f per Ohm-m',sig2)"
   ]
   }
,
{
		   "cell_type": "markdown",
		   "metadata": {},
		   "source": [
			"## Example 10.16: Intrinsic_concentration_of_Si.sce"
		   ]
		  },
  {
"cell_type": "code",
	   "execution_count": null,
	   "metadata": {
	    "collapsed": true
	   },
	   "outputs": [],
"source": [
"// Example 10.16, page no-278\n",
"clear\n",
"clc\n",
"e=1.6*10^-19//C\n",
"m=9.1*10^-31//kg\n",
"mm=0.31*m//kg\n",
"h=6.626*10^-34\n",
"k=1.38*10^-23\n",
"eg=1.1*e\n",
"T=300//K\n",
"ni=2*(2*%pi*mm*k*T/(h^(2)))^(1.5)\n",
"ni=ni*%e^(-eg/(2*k*T))\n",
"printf('The intrinsic concentration of Si at %d K is %.4f * 10^15 electrons per m^3',T,ni*10^-15)"
   ]
   }
,
{
		   "cell_type": "markdown",
		   "metadata": {},
		   "source": [
			"## Example 10.17: Drift_Velocity.sce"
		   ]
		  },
  {
"cell_type": "code",
	   "execution_count": null,
	   "metadata": {
	    "collapsed": true
	   },
	   "outputs": [],
"source": [
"// Example 10.17, page no-279\n",
"clear\n",
"clc\n",
"hc=0.55*10^-10//m^3//A-s\n",
"cc=5.9*10^7//per Ohm-m\n",
"T=300//K\n",
"dm=hc*cc\n",
"printf('The drift mobility is given by mu_d = %.1f * 10^-3 m^2/V-s',dm*10^3)"
   ]
   }
,
{
		   "cell_type": "markdown",
		   "metadata": {},
		   "source": [
			"## Example 10.18: average_no_of_electron_per_Cu_atom.sce"
		   ]
		  },
  {
"cell_type": "code",
	   "execution_count": null,
	   "metadata": {
	    "collapsed": true
	   },
	   "outputs": [],
"source": [
"// Example 10.18, page no-279\n",
"clear\n",
"clc\n",
"\n",
"sig=5.9*10^7//per Ohm-m\n",
"e=1.6*10^-19//C\n",
"mu=3.2*10^-3//m^2/V-s\n",
"d=8900//density\n",
"avg=6.022*10^23\n",
"ni=sig/(e*mu)\n",
"awt=63.5\n",
"n=avg*d*1000/awt\n",
"k=ni/n\n",
"printf('Concentration of free electron in pure Cu is %.2f*10^28\nThe average number of electrons contributed per Cu atom is %.2f i.e. %.0f',n*10^-28,k,k)"
   ]
   }
,
{
		   "cell_type": "markdown",
		   "metadata": {},
		   "source": [
			"## Example 10.19: Mobility_of_Ge.sce"
		   ]
		  },
  {
"cell_type": "code",
	   "execution_count": null,
	   "metadata": {
	    "collapsed": true
	   },
	   "outputs": [],
"source": [
"// Example 10.19, page no-280\n",
"clear\n",
"clc\n",
"i=5*10^-3//A\n",
"v=1.35//v\n",
"l=0.01//m\n",
"b=5*10^-3\n",
"t=10^-3//m\n",
"a=5*10^-6//m^2\n",
"vy=20*10^-3\n",
"H=0.45//Wb/m^2\n",
"\n",
"rho=v*a/(l*i)\n",
"Ey=vy/t\n",
"j=i/a\n",
"k=Ey/(H*j)\n",
"Rh=3*%pi*k/8\n",
"mu=Rh/rho\n",
"printf('The mobility of the Ge sample is %.2f m^2/V-s',mu)"
   ]
   }
,
{
		   "cell_type": "markdown",
		   "metadata": {},
		   "source": [
			"## Example 10.1: Intrinsic_concentration_conductivity_and_resistivity.sce"
		   ]
		  },
  {
"cell_type": "code",
	   "execution_count": null,
	   "metadata": {
	    "collapsed": true
	   },
	   "outputs": [],
"source": [
"// Example 10.1, page no-267\n",
"clear\n",
"clc\n",
"T=300//K\n",
"mue=0.4//m^2/V-s\n",
"muh=0.2\n",
"e=1.6*10^-19//C\n",
"eg=0.7*e//J\n",
"m=9.1*10^-31//kg\n",
"me=0.55\n",
"mh=0.37\n",
"h=6.626*10^-34\n",
"k=1.38*10^-23\n",
"ni=2*(2*%pi*k*T/(h^2))^(1.5)\n",
"ni=ni*(m^1.5)*(mh*me)^(3/4)\n",
"ni=ni*%e^(-eg/(k*T))\n",
"printf('\nThe intrinsic concentration ni=%.3f *10^13 /m^3',ni*10^-13)\n",
"\n",
"sig=ni*e*(mue+muh)\n",
"rho=1/sig\n",
"printf('\nIntrinsic Conductivity,Sigma =%.3f *10^-6 per m^3\nIntrinsic Resistivity, rho = %.2f*10^6 Ohm-m',sig*10^6,rho*10^-6)"
   ]
   }
,
{
		   "cell_type": "markdown",
		   "metadata": {},
		   "source": [
			"## Example 10.20: Hall_Potential_Difference.sce"
		   ]
		  },
  {
"cell_type": "code",
	   "execution_count": null,
	   "metadata": {
	    "collapsed": true
	   },
	   "outputs": [],
"source": [
"// Example 10.20, page no-282\n",
"clear\n",
"clc\n",
"I=200//A\n",
"H=1.5//Wb/m^2\n",
"n=8.4*10^28//electronsper m^3\n",
"d=1.0*10^-3 //m\n",
"e=1.6*10^-19//C\n",
"v=I*H/(n*d*e)\n",
"printf('The Hall potential difference appearance between the ship is %.0f µv',v*10^6)"
   ]
   }
,
{
		   "cell_type": "markdown",
		   "metadata": {},
		   "source": [
			"## Example 10.21: Mobility_of_Si.sce"
		   ]
		  },
  {
"cell_type": "code",
	   "execution_count": null,
	   "metadata": {
	    "collapsed": true
	   },
	   "outputs": [],
"source": [
"// Example 10.21, page no-283\n",
"clear\n",
"clc\n",
"rh=3.66*10^-4//m^3/C\n",
"rho=8.93*10^-3//Ohm-m\n",
"e=1.6*10^-19//C\n",
"ni=1/(rh*e)\n",
"muh=rh/rho\n",
"printf('the carrier concentration of Si doped specimen is %.3f *10^22 m^-3\n The mobility of Si doped specimen is %.5f m^2/V-s',ni*10^-22,muh)"
   ]
   }
,
{
		   "cell_type": "markdown",
		   "metadata": {},
		   "source": [
			"## Example 10.22: Electron_concentration_and_Mobility.sce"
		   ]
		  },
  {
"cell_type": "code",
	   "execution_count": null,
	   "metadata": {
	    "collapsed": true
	   },
	   "outputs": [],
"source": [
"// Example 10.22, page no-283\n",
"clear\n",
"clc\n",
"Rh=3.66*10^-11//m^2//A-s\n",
"sig=112*10^7//ohm-m\n",
"e=1.6*10^-19 //C\n",
"n=3*%pi/(8*Rh*e)\n",
"mu=sig/(n*e)\n",
"printf('\nThe concentration of electrons is %.0f*10^29 m^-3\nthe electron mobility at room temperature = %.3f m^2/V-s',n*10^-29,mu)"
   ]
   }
,
{
		   "cell_type": "markdown",
		   "metadata": {},
		   "source": [
			"## Example 10.23: Hall_voltage.sce"
		   ]
		  },
  {
"cell_type": "code",
	   "execution_count": null,
	   "metadata": {
	    "collapsed": true
	   },
	   "outputs": [],
"source": [
"// Example 10.23, page no-284\n",
"clear\n",
"clc\n",
"I=50//A\n",
"B=1.5//T\n",
"t=0.5*10^-2\n",
"e=1.6*10^-19//C\n",
"d=2*10^-2\n",
"N=8.4*10^28//m^-3\n",
"v=B*I/(N*e*d)\n",
"printf('The Hall voltage is %.2f *10^-7 V',v*10^7)"
   ]
   }
,
{
		   "cell_type": "markdown",
		   "metadata": {},
		   "source": [
			"## Example 10.24: Relaxation_time.sce"
		   ]
		  },
  {
"cell_type": "code",
	   "execution_count": null,
	   "metadata": {
	    "collapsed": true
	   },
	   "outputs": [],
"source": [
"// Example 10.24, page no-284\n",
"clear\n",
"clc\n",
"rho=1.54*10^-8//Ohm-m\n",
"ni=5.8*10^28//per m^3\n",
"m=9.1*10^-31//kg\n",
"e=1.6*10^-19//C\n",
"tau=m/(rho*ni*(e^2))\n",
"printf('The relaxation time of electrons in metal is %.2f*10^-14 s',tau*10^14)"
   ]
   }
,
{
		   "cell_type": "markdown",
		   "metadata": {},
		   "source": [
			"## Example 10.25: Electron_mobility_in_Silver.sce"
		   ]
		  },
  {
"cell_type": "code",
	   "execution_count": null,
	   "metadata": {
	    "collapsed": true
	   },
	   "outputs": [],
"source": [
"// Example 10.25, page no-285\n",
"clear\n",
"clc\n",
"sig=6.22*10^7//per ohm-m\n",
"n=5.9*10^28//m^3\n",
"e=1.6*10^-19//C\n",
"mu=sig/(n*e)\n",
"printf('The mobility of electrons in Si is %.2f*10^-3 m^2/V-s',mu*10^3)"
   ]
   }
,
{
		   "cell_type": "markdown",
		   "metadata": {},
		   "source": [
			"## Example 10.26: Electron_mobility_and_electric_field.sce"
		   ]
		  },
  {
"cell_type": "code",
	   "execution_count": null,
	   "metadata": {
	    "collapsed": true
	   },
	   "outputs": [],
"source": [
"// Example 10.26, page no-285\n",
"clear\n",
"clc\n",
"rho=0.1//Ohm-m\n",
"ni=10^20//per m^3\n",
"vd=1//m/s\n",
"e=1.6*10^-19//C\n",
"mu=1/(rho*ni*e)\n",
"E=vd/mu\n",
"printf('\nThe mobility of the electrons in material is %.3f m^2/V-s\nThe electric field is %.1f V/m',mu,E)"
   ]
   }
,
{
		   "cell_type": "markdown",
		   "metadata": {},
		   "source": [
			"## Example 10.27: Electron_mobility.sce"
		   ]
		  },
  {
"cell_type": "code",
	   "execution_count": null,
	   "metadata": {
	    "collapsed": true
	   },
	   "outputs": [],
"source": [
"// Example 10.27, page no-286\n",
"clear\n",
"clc\n",
"sig=6.22*10^7//per Ohm-m\n",
"n=5.9*10^28\n",
"e=1.6*10^-19\n",
"mu=sig/(n*e)\n",
"printf('The mobility of electrons in silver is %.2f*10^-3 m^2/V-s',mu*10^3)"
   ]
   }
,
{
		   "cell_type": "markdown",
		   "metadata": {},
		   "source": [
			"## Example 10.28: Electron_mobility_and_electric_field.sce"
		   ]
		  },
  {
"cell_type": "code",
	   "execution_count": null,
	   "metadata": {
	    "collapsed": true
	   },
	   "outputs": [],
"source": [
"// Example 10.28, page no-286\n",
"clear\n",
"clc\n",
"rho=0.1//Ohm-m\n",
"ni=10^20//per m^3\n",
"vd=1//m/s\n",
"e=1.6*10^-19//C\n",
"mu=1/(rho*ni*e)\n",
"E=vd/mu\n",
"printf('\nThe mobility of the electrons in material is %.3f m^2/V-s\nThe electric field is %.1f V/m',mu,E)"
   ]
   }
,
{
		   "cell_type": "markdown",
		   "metadata": {},
		   "source": [
			"## Example 10.29: Electron_mobility_and_conductivity.sce"
		   ]
		  },
  {
"cell_type": "code",
	   "execution_count": null,
	   "metadata": {
	    "collapsed": true
	   },
	   "outputs": [],
"source": [
"// Example 10.29, page no-287\n",
"clear\n",
"clc\n",
"\n",
"avg=6.023*10^23\n",
"m=9.1*10^-31//kg\n",
"e=1.6*10^-19//C\n",
"d=8.92*10^3 //kg/m^3\n",
"rho=1.73*10^-8//Ohm-m\n",
"z=63.5\n",
"\n",
"n=avg*d/z\n",
"sig=1/rho\n",
"tau=sig*m/(n*(e^2))\n",
"mu=sig/(e*n)\n",
"printf('\nThe relaxation time is %.2f *10^-11 s\nThe mobility of electrons in copper is %.2f m^2/V-s\nThe conductivity of coppper is %.2f * 10^7 per Ohm-m\n',tau*10^11,mu,sig*10^-7)"
   ]
   }
,
{
		   "cell_type": "markdown",
		   "metadata": {},
		   "source": [
			"## Example 10.2: Fermi_Energy.sce"
		   ]
		  },
  {
"cell_type": "code",
	   "execution_count": null,
	   "metadata": {
	    "collapsed": true
	   },
	   "outputs": [],
"source": [
"// Example 10.2, page no-268\n",
"clear\n",
"clc\n",
"ni=1.45*10^10//cm^-3\n",
"nd=10^16//cm^-3\n",
"k=1.38*10^-23\n",
"T=300\n",
"e=1.6*10^-19//C\n",
"Ef=k*T*log(nd/ni)\n",
"Ef=Ef/e\n",
"printf('The Fermi energyy with respect to Ef in intrinsic Si = %.3f eV',Ef)"
   ]
   }
,
{
		   "cell_type": "markdown",
		   "metadata": {},
		   "source": [
			"## Example 10.30: Drift_Velocity.sce"
		   ]
		  },
  {
"cell_type": "code",
	   "execution_count": null,
	   "metadata": {
	    "collapsed": true
	   },
	   "outputs": [],
"source": [
"// Example 10.30, page no-288\n",
"clear\n",
"clc\n",
"rho=1.54*10^-8//ohm-m\n",
"E=100//V/m\n",
"ni=5.8*10^28//m^3\n",
"e=1.6*10^-19//C\n",
"mu=1/(rho*ni*e)\n",
"vd=mu*E\n",
"printf('The mobility of electrons in silver is %.4f*10^-3 m^2/V-s\nThe drift velocity id %.5f m/s',mu*10^3,vd)"
   ]
   }
,
{
		   "cell_type": "markdown",
		   "metadata": {},
		   "source": [
			"## Example 10.31: Relaxation_time.sce"
		   ]
		  },
  {
"cell_type": "code",
	   "execution_count": null,
	   "metadata": {
	    "collapsed": true
	   },
	   "outputs": [],
"source": [
"// Example 10.31, page no-288\n",
"clear\n",
"clc\n",
"rho=1.43*10^-8//Ohm-m\n",
"ni=6.5*10^28//per m^3\n",
"e=1.6*10^-19//C\n",
"m=9.1*10^-31//Kg\n",
"tau=m/(rho*ni*e^2)\n",
"printf('The relaxation time for electrons in the metal is %.2f *10^-14 s',tau*10^14)"
   ]
   }
,
{
		   "cell_type": "markdown",
		   "metadata": {},
		   "source": [
			"## Example 10.32: Electron_mobility_in_Al.sce"
		   ]
		  },
  {
"cell_type": "code",
	   "execution_count": null,
	   "metadata": {
	    "collapsed": true
	   },
	   "outputs": [],
"source": [
"// Example 10.32, page no-289\n",
"clear\n",
"clc\n",
"\n",
"R=60\n",
"rho=2.7*10^-8//Ohm-m\n",
"i=15//A.\n",
"l=5//m\n",
"m=3\n",
"e=1.6*10^-19//C\n",
"d=2.7*10^3//kg/m^3\n",
"awt=26.98\n",
"avg=6.023*10^23\n",
"n=m*avg*1000*d/awt\n",
"printf('Free electron concentration is %.3f * 10^29',n*10^-29)\n",
"mu=1/(rho*n*e)\n",
"printf('\nThe mobility of electron in aluminium is %.4f*10^-3 m^2/v-s',mu*10^3)\n",
"vd=mu*i*R*10^-3/l\n",
"printf('\nThe drift velocity of the electron in Al is %.1f*10^-4 m/s',vd*10^4)"
   ]
   }
,
{
		   "cell_type": "markdown",
		   "metadata": {},
		   "source": [
			"## Example 10.33: drift_and_thermal_velocity.sce"
		   ]
		  },
  {
"cell_type": "code",
	   "execution_count": null,
	   "metadata": {
	    "collapsed": true
	   },
	   "outputs": [],
"source": [
"// Example 10.33, page no-290\n",
"clear\n",
"clc\n",
"R=0.02//Ohm-m\n",
"i=15//A\n",
"mu=4.3*10^-3//m^2/V-s\n",
"l=2//m\n",
"k=1.38*10^-23\n",
"m=9.1*10^-31//kg\n",
"T=300//K\n",
"v=i*R\n",
"E=v/l\n",
"vd=E*mu\n",
"vth=sqrt(3*k*T/m)\n",
"printf('\nThe thermal velocity of the free electrons in copper is %.3f mm/s\nThe drift velocity of electrons in copper is %.3f mm/s',vth*10^-5,vd*10^3)"
   ]
   }
,
{
		   "cell_type": "markdown",
		   "metadata": {},
		   "source": [
			"## Example 10.3: Resistance_of_Germanium.sce"
		   ]
		  },
  {
"cell_type": "code",
	   "execution_count": null,
	   "metadata": {
	    "collapsed": true
	   },
	   "outputs": [],
"source": [
"// Example 10.3, page no-269\n",
"clear\n",
"clc\n",
"ni=2.5*10^19//m^-3\n",
"mue=0.39//m^2/V-s\n",
"muh=0.19\n",
"l=10^-2//m\n",
"e=1.6*10^-19//C\n",
"sig=ni*e*(mue+muh)\n",
"R=l/(sig*10^-6)\n",
"printf('The conductivity of intrinsic Ge is %.2f /ohm-m\nThe Resistance is %.0f',sig,R)"
   ]
   }
,
{
		   "cell_type": "markdown",
		   "metadata": {},
		   "source": [
			"## Example 10.4: conductivity_of_Intrinsic_semiconductor.sce"
		   ]
		  },
  {
"cell_type": "code",
	   "execution_count": null,
	   "metadata": {
	    "collapsed": true
	   },
	   "outputs": [],
"source": [
"// Example 10.4, page no-269\n",
"clear\n",
"clc\n",
"ni=1.5*10^16//m^-3\n",
"mue=0.13//m^2/V-s\n",
"muh=0.05\n",
"e=1.6*10^-19//C\n",
"sig=ni*e*(mue+muh)\n",
"printf('The conductivity of intrinsic Ge is %.2f *10^-4 /ohm-m',sig*10^4)"
   ]
   }
,
{
		   "cell_type": "markdown",
		   "metadata": {},
		   "source": [
			"## Example 10.5: Intrinsic_Resistivity.sce"
		   ]
		  },
  {
"cell_type": "code",
	   "execution_count": null,
	   "metadata": {
	    "collapsed": true
	   },
	   "outputs": [],
"source": [
"// Example 10.5, page no-270\n",
"clear\n",
"clc\n",
"ni=2.15*10^13//cm^-3\n",
"mue=3900//cm^2/V-s\n",
"muh=1900\n",
"e=1.6*10^-19//C\n",
"sig=ni*e*(mue+muh)\n",
"r=1/sig\n",
"\n",
"printf('The conductivity of intrinsic Ge is %.2f *10^-2 /ohm-cm\n The intrinsic resistivity is %.0f Ohm-cm',sig*10^2,r)//answers not matching with book's ans."
   ]
   }
,
{
		   "cell_type": "markdown",
		   "metadata": {},
		   "source": [
			"## Example 10.6: electrical_conductivity_of_boron_doped_semiconductor.sce"
		   ]
		  },
  {
"cell_type": "code",
	   "execution_count": null,
	   "metadata": {
	    "collapsed": true
	   },
	   "outputs": [],
"source": [
"// Example 10.6, page no-270\n",
"clear\n",
"clc\n",
"ni=2.1*10^19//m^-3\n",
"mue=0.4//m^2/V-s\n",
"muh=0.2\n",
"e=1.6*10^-19//C\n",
"p=4.5*10^23//m^-3\n",
"sig=ni*e*(mue+muh)\n",
"r=p*e*muh\n",
"\n",
"printf('The conductivity of intrinsic Ge is %.3f *10^-2 /ohm-cm\nThe intrinsic resistivity is %.2f *10^4',sig,r*10^-4)"
   ]
   }
,
{
		   "cell_type": "markdown",
		   "metadata": {},
		   "source": [
			"## Example 10.7: Hole_concentration_conductivity_and_Resistance.sce"
		   ]
		  },
  {
"cell_type": "code",
	   "execution_count": null,
	   "metadata": {
	    "collapsed": true
	   },
	   "outputs": [],
"source": [
"// Example 10.7, page no-271\n",
"clear\n",
"clc\n",
"n=5*10^28//m^-3\n",
"ni=1.45*10^13//m^-3\n",
"mue=1.35//m^2/V-s\n",
"muh=0.45\n",
"e=1.6*10^-19//C\n",
"p=4.5*10^23//m^-3\n",
"sig=ni*e*(mue+muh)\n",
"rho=1/sig\n",
"//rho=rho*10^12\n",
"r=rho*10^12\n",
"nd=n/10^9\n",
"p=(ni^2)/nd\n",
"sig2=nd*e*mue\n",
" \n",
"printf('\nThe intrinsic conductivity is %.2f *10^-6 /ohm-cm\n\nThe intrinsic resistivity is %.2f *10^-5Ohm-m\n\nResistance = %.2f*10^7 Ohm\n\nDonar concentration is %.0f*10^19\n\nConcentration of hole is %.1f*10^6 m^-3\n\nConductivity = %.1f per ohm-m',sig*10^6,rho*10^-5,r*10^-17,nd*10^-19,p*10^-6,sig2)"
   ]
   }
,
{
		   "cell_type": "markdown",
		   "metadata": {},
		   "source": [
			"## Example 10.8: Band_Gap_of_Ge.sce"
		   ]
		  },
  {
"cell_type": "code",
	   "execution_count": null,
	   "metadata": {
	    "collapsed": true
	   },
	   "outputs": [],
"source": [
"// Example 10.8, page no-272\n",
"clear\n",
"clc\n",
"\n",
"T=300//K\n",
"rho=2.12//ohm-m\n",
"mue=0.36//m^2/V-s\n",
"muh=0.17\n",
"e=1.6*10^-19//C\n",
"m=9.1*10^-31//kg\n",
"h=6.626*10^-34\n",
"sig=1/rho\n",
"ni=sig/(e*(muh+mue))\n",
"printf('\nConductivity = %.6f per Ohm-m\nIntrinsic carrier concentration, ni=%.5f*10^18',sig,ni*10^-18)\n",
"\n",
"k=1.38*10^-23\n",
"Nc=2*(2*%pi*k*T/h^(2))^(1.5)\n",
"Nc=Nc*(0.5*m)^(1.5)\n",
"Nv=2*(2*%pi*k*T/h^(2))^(1.5)\n",
"Nv=Nv*(0.37*m)^(1.5)\n",
"printf('\nNc=%.3f*10^24\nNv=%.3f*10^24',Nc*10^-24,Nv*10^-24)\n",
"eg=2*k*T*log(sqrt(Nc*Nv)/ni)\n",
"eg=eg/e\n",
"printf('\nThe band gap of Ge is %.3f eV',eg)"
   ]
   }
,
{
		   "cell_type": "markdown",
		   "metadata": {},
		   "source": [
			"## Example 10.9: carrier_concentration_of_intrinsic_semiconductor.sce"
		   ]
		  },
  {
"cell_type": "code",
	   "execution_count": null,
	   "metadata": {
	    "collapsed": true
	   },
	   "outputs": [],
"source": [
"// Example 10.9, page no-273\n",
"clear\n",
"clc\n",
"e=1.6*10^-19//C\n",
"m=9.1*10^-31//kg\n",
"h=6.626*10^-34\n",
"k=1.38*10^-23\n",
"eg=0.7*e\n",
"T=300//K\n",
"ni=2*(2*%pi*m*k*T/(h^(2)))^(1.5)\n",
"ni=ni*%e^(-eg/(2*k*T))\n",
"printf('The carrier concentration of an intrinsic semiconductor is = %.2f*10^18 per m^3',ni*10^-18)"
   ]
   }
],
"metadata": {
		  "kernelspec": {
		   "display_name": "Scilab",
		   "language": "scilab",
		   "name": "scilab"
		  },
		  "language_info": {
		   "file_extension": ".sce",
		   "help_links": [
			{
			 "text": "MetaKernel Magics",
			 "url": "https://github.com/calysto/metakernel/blob/master/metakernel/magics/README.md"
			}
		   ],
		   "mimetype": "text/x-octave",
		   "name": "scilab",
		   "version": "0.7.1"
		  }
		 },
		 "nbformat": 4,
		 "nbformat_minor": 0
}
