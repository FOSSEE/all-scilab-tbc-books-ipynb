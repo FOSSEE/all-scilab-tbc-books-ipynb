{
"cells": [
 {
		   "cell_type": "markdown",
	   "metadata": {},
	   "source": [
       "# Chapter 23: Polymer Materials"
	   ]
	},
{
		   "cell_type": "markdown",
		   "metadata": {},
		   "source": [
			"## Example 23.1: Sulphur_required_for_final_rubber_product.sce"
		   ]
		  },
  {
"cell_type": "code",
	   "execution_count": null,
	   "metadata": {
	    "collapsed": true
	   },
	   "outputs": [],
"source": [
"// Example 23.1, page no-625\n",
"clear\n",
"clc\n",
"p_wt=500 //kg\n",
"s_req=32/(32+54)\n",
"printf('Therefore, sulphur required for %d *10^3 kg of final  rubber product = %d * 10^-3 kg',p_wt,s_req*p_wt)"
   ]
   }
,
{
		   "cell_type": "markdown",
		   "metadata": {},
		   "source": [
			"## Example 23.2: Photon_energy_to_break_C_C_bond.sce"
		   ]
		  },
  {
"cell_type": "code",
	   "execution_count": null,
	   "metadata": {
	    "collapsed": true
	   },
	   "outputs": [],
"source": [
"// Example 23.2, page no-625\n",
"clear\n",
"clc\n",
"E=370*10^3//energy of c-c bond j/mol\\n",
"lam=3200*10^-10 //m\n",
"h=6.626*10^-34\n",
"c=3*10^8//m/s\n",
"E1=h*c/lam\n",
"Ec=E/(6.02*10^23)\n",
"printf('\nE=%.2f*10^-19 J',E1*10^19)\n",
"printf('\nThe Energy of c-c Bond = %.1f * 10^-19',Ec*10^19)\n",
"printf('\n\nThe UV light photon energy is sufficient to break a C-C bond.\nTherefore, the polymer deteriorates under the influence of UV light')"
   ]
   }
],
"metadata": {
		  "kernelspec": {
		   "display_name": "Scilab",
		   "language": "scilab",
		   "name": "scilab"
		  },
		  "language_info": {
		   "file_extension": ".sce",
		   "help_links": [
			{
			 "text": "MetaKernel Magics",
			 "url": "https://github.com/calysto/metakernel/blob/master/metakernel/magics/README.md"
			}
		   ],
		   "mimetype": "text/x-octave",
		   "name": "scilab",
		   "version": "0.7.1"
		  }
		 },
		 "nbformat": 4,
		 "nbformat_minor": 0
}
