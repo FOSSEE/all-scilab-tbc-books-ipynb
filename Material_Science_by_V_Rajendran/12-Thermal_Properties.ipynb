{
"cells": [
 {
		   "cell_type": "markdown",
	   "metadata": {},
	   "source": [
       "# Chapter 12: Thermal Properties"
	   ]
	},
{
		   "cell_type": "markdown",
		   "metadata": {},
		   "source": [
			"## Example 12.10: Heat_energy_Requirement.sce"
		   ]
		  },
  {
"cell_type": "code",
	   "execution_count": null,
	   "metadata": {
	    "collapsed": true
	   },
	   "outputs": [],
"source": [
"// Example 12.10, page no-356\n",
"clear\n",
"clc\n",
"h_ir=444//J.kg^-1.K^-1\n",
"h_gr=711//J.kg^-1.K^-1\n",
"h_pl=1880//J.kg^-1.K^-1\n",
"t2=373//K\n",
"t1=300//K\n",
"delT=t2-t1\n",
"W=2 //Kg\n",
"\n",
"//(a) For Iron\n",
"q=W*h_ir*delT\n",
"\n",
"//(b)for Graphite\n",
"q1=W*h_gr*delT\n",
"\n",
"//(b)for polypropylene\n",
"q2=W*h_pl*delT\n",
"\n",
"printf('The heat energy required to raise temperature %.0f K from its temperature of \niron, graphite and polypropylene is %.0f,%.0f,%.0f J respectively',delT,q,q1,q2)"
   ]
   }
,
{
		   "cell_type": "markdown",
		   "metadata": {},
		   "source": [
			"## Example 12.1: Change_in_length_due_to_heating.sce"
		   ]
		  },
  {
"cell_type": "code",
	   "execution_count": null,
	   "metadata": {
	    "collapsed": true
	   },
	   "outputs": [],
"source": [
"// Example 12.1, page no-350\n",
"clear\n",
"clc\n",
"\n",
"alfe=8.8*10^-6//per k\n",
"lo=0.1//m\n",
"delT=973//K\n",
"delL=alfe*lo*delT\n",
"printf('The change in length produced by heating is %.3f mm',delL*10^3)"
   ]
   }
,
{
		   "cell_type": "markdown",
		   "metadata": {},
		   "source": [
			"## Example 12.2: Change_in_length_due_to_heating.sce"
		   ]
		  },
  {
"cell_type": "code",
	   "execution_count": null,
	   "metadata": {
	    "collapsed": true
	   },
	   "outputs": [],
"source": [
"// Example 12.2, page no-350\n",
"clear\n",
"clc\n",
"\n",
"alfe=5.3*10^-6//per k\n",
"lo=0.1//m\n",
"delT=973//K\n",
"delL=alfe*lo*delT\n",
"printf('The change in length produced by heating is %.3f mm',delL*10^3)\n",
""
   ]
   }
,
{
		   "cell_type": "markdown",
		   "metadata": {},
		   "source": [
			"## Example 12.3: Steady_state_heat_Transfer.sce"
		   ]
		  },
  {
"cell_type": "code",
	   "execution_count": null,
	   "metadata": {
	    "collapsed": true
	   },
	   "outputs": [],
"source": [
"// Example 12.3, page no-351\n",
"clear\n",
"clc\n",
"k=371//J/msk\n",
"delT=50//in degrees\n",
"delx=10*10^-3\n",
"ht=k*delT/delx\n",
"printf('The steady state heat transfer of 10 mm copper sheet is %.3f *10^6 J.m^-2.s^-1',ht*10^-6)"
   ]
   }
,
{
		   "cell_type": "markdown",
		   "metadata": {},
		   "source": [
			"## Example 12.4: Compression_Stress_due_to_Heating.sce"
		   ]
		  },
  {
"cell_type": "code",
	   "execution_count": null,
	   "metadata": {
	    "collapsed": true
	   },
	   "outputs": [],
"source": [
"// Example 12.4, page no-351\n",
"clear\n",
"clc\n",
"alfe=8.8*10^-6//per K\n",
"t1=1300//K\n",
"t2=327//K\n",
"delT=t1-t2\n",
"E=370 //GPa\n",
"ep=alfe*delT\n",
"sig=ep*E\n",
"printf('\nThe unconstrained thermal expansion produced by the heating is %.4f *10^-3',ep*10^3)\n",
"printf('\nthe compression stress produced by heating is %.3f GPa',sig)"
   ]
   }
,
{
		   "cell_type": "markdown",
		   "metadata": {},
		   "source": [
			"## Example 12.5: Heat_flux_transmitted.sce"
		   ]
		  },
  {
"cell_type": "code",
	   "execution_count": null,
	   "metadata": {
	    "collapsed": true
	   },
	   "outputs": [],
"source": [
"// Example 12.5, page no-352\n",
"clear\n",
"clc\n",
"\n",
"K=120//W/m.K\n",
"t2=423\n",
"t1=323\n",
"delT=t2-t1\n",
"delx=7.5*10^-3//m\n",
"A=0.5//m^2\n",
"Q=K*A*(delT/delx)\n",
"hph=Q*3600\n",
"printf('The heat flux transmitted through a sheet per hour is %.2f *10^9 J.h^-1',hph*10^-9)"
   ]
   }
,
{
		   "cell_type": "markdown",
		   "metadata": {},
		   "source": [
			"## Example 12.6: Youngs_Modulus.sce"
		   ]
		  },
  {
"cell_type": "code",
	   "execution_count": null,
	   "metadata": {
	    "collapsed": true
	   },
	   "outputs": [],
"source": [
"// Example 12.6, page no-353\n",
"clear\n",
"clc\n",
"\n",
"alfe=17*10^-6///per K\n",
"t2=293 //K\n",
"t1=233 //K\n",
"delT=t2-t1\n",
"st=119//MPa\n",
"k=alfe*delT\n",
"printf('\nThe strain produced in te rod is %.2f * 10^-3',k*10^3)\n",
"E=(st*10^6)/k\n",
"printf('\nThe Youngs Modulus of the rod is %.1f GPa',E*10^-9)"
   ]
   }
,
{
		   "cell_type": "markdown",
		   "metadata": {},
		   "source": [
			"## Example 12.7: temperature_Change.sce"
		   ]
		  },
  {
"cell_type": "code",
	   "execution_count": null,
	   "metadata": {
	    "collapsed": true
	   },
	   "outputs": [],
"source": [
"// Example 12.7, page no-353\n",
"clear\n",
"clc\n",
"\n",
"lo=11.6 //m\n",
"delx=5.4*10^-3//m\n",
"alfL=12*10^-6//per K\n",
"delT=delx/(lo*alfL)\n",
"printf('The maximum temperature cange can withstand without any thermal stress is %.2f K',delT)"
   ]
   }
,
{
		   "cell_type": "markdown",
		   "metadata": {},
		   "source": [
			"## Example 12.8: compressive_Sress.sce"
		   ]
		  },
  {
"cell_type": "code",
	   "execution_count": null,
	   "metadata": {
	    "collapsed": true
	   },
	   "outputs": [],
"source": [
"// Example 12.7, page no-354\n",
"clear\n",
"clc\n",
"\n",
"lo=0.35//m\n",
"alfe=23.6*10^-6///per K\n",
"t2=358 //K\n",
"t1=288 //K\n",
"delT=t2-t1\n",
"ym=69//GPa\n",
"k=alfe*delT\n",
"printf('\nThe strain produced in te rod is %.3f * 10^-3',k*10^3)\n",
"E=ym*k*10^9\n",
"printf('\nThe compressive stress produced in Al rod is %.3f GPa',E*10^-9)"
   ]
   }
,
{
		   "cell_type": "markdown",
		   "metadata": {},
		   "source": [
			"## Example 12.9: limit_to_compression_stress.sce"
		   ]
		  },
  {
"cell_type": "code",
	   "execution_count": null,
	   "metadata": {
	    "collapsed": true
	   },
	   "outputs": [],
"source": [
"// Example 12.9, page no-355\n",
"clear\n",
"clc\n",
"alfe=20*10^-6//per K\n",
"t1=293//K\n",
"sig=172///MPa\n",
"E=100 //GPa\n",
"delT=(sig*10^6)/(E*alfe*10^9)\n",
"printf('\nTf-Ti=%.0f',delT)\n",
"printf('\n\nthe maximum temperature at which the rod may be heated without\nexceeding a compresssive stress of %.0f MPa is %.0f K',sig,delT+t1)"
   ]
   }
],
"metadata": {
		  "kernelspec": {
		   "display_name": "Scilab",
		   "language": "scilab",
		   "name": "scilab"
		  },
		  "language_info": {
		   "file_extension": ".sce",
		   "help_links": [
			{
			 "text": "MetaKernel Magics",
			 "url": "https://github.com/calysto/metakernel/blob/master/metakernel/magics/README.md"
			}
		   ],
		   "mimetype": "text/x-octave",
		   "name": "scilab",
		   "version": "0.7.1"
		  }
		 },
		 "nbformat": 4,
		 "nbformat_minor": 0
}
