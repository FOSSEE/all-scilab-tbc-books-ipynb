{
"cells": [
 {
		   "cell_type": "markdown",
	   "metadata": {},
	   "source": [
       "# Chapter 5: Crystal Imperfections"
	   ]
	},
{
		   "cell_type": "markdown",
		   "metadata": {},
		   "source": [
			"## Example 5.1: Average_distance_between_dislocations.sce"
		   ]
		  },
  {
"cell_type": "code",
	   "execution_count": null,
	   "metadata": {
	    "collapsed": true
	   },
	   "outputs": [],
"source": [
"// Example 5.1, page no-130\n",
"clear\n",
"clc\n",
"\n",
"a=3.615*10^-10//m\n",
"t_ang=0.75 //in degree\n",
"h=1\n",
"k=1\n",
"l=0\n",
"d_110=a/sqrt(h^2+k^2+l^2)\n",
"D=d_110/tan(t_ang*%pi/(180*2))\n",
"printf('The average distance between the dislocations is %.3f A°',D*10^6)"
   ]
   }
,
{
		   "cell_type": "markdown",
		   "metadata": {},
		   "source": [
			"## Example 5.2: Schottky_defects_per_unit_cell.sce"
		   ]
		  },
  {
"cell_type": "code",
	   "execution_count": null,
	   "metadata": {
	    "collapsed": true
	   },
	   "outputs": [],
"source": [
"// Example 5.2, page no-130\n",
"clear\n",
"clc\n",
"lp=4.0185*10^-10//m\n",
"dens=4285//kg/m^3\n",
"avg=6.022*10^26\n",
"wt_cs=132.9\n",
"wt_cl=35.5\n",
"N=(dens*avg*lp^3)/(wt_cs+wt_cl)\n",
"sd=(1-N)*100/1\n",
"printf('The number of Schottky defects per unit cell = %.3f%%',sd)"
   ]
   }
],
"metadata": {
		  "kernelspec": {
		   "display_name": "Scilab",
		   "language": "scilab",
		   "name": "scilab"
		  },
		  "language_info": {
		   "file_extension": ".sce",
		   "help_links": [
			{
			 "text": "MetaKernel Magics",
			 "url": "https://github.com/calysto/metakernel/blob/master/metakernel/magics/README.md"
			}
		   ],
		   "mimetype": "text/x-octave",
		   "name": "scilab",
		   "version": "0.7.1"
		  }
		 },
		 "nbformat": 4,
		 "nbformat_minor": 0
}
