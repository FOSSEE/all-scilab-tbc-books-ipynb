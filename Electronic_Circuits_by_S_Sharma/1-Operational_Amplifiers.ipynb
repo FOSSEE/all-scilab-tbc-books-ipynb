{
"cells": [
 {
		   "cell_type": "markdown",
	   "metadata": {},
	   "source": [
       "# Chapter 1: Operational Amplifiers"
	   ]
	},
{
		   "cell_type": "markdown",
		   "metadata": {},
		   "source": [
			"## Example 1.10: Output_voltage.sce"
		   ]
		  },
  {
"cell_type": "code",
	   "execution_count": null,
	   "metadata": {
	    "collapsed": true
	   },
	   "outputs": [],
"source": [
"// Exa 1.10\n",
"format('v',7);\n",
"clc;\n",
"clear;\n",
"close;\n",
"// Given data\n",
"V1=2;// in V\n",
"V2=3;// in V\n",
"Rf=3;// in kohm\n",
"R1=1;// in kohm\n",
"disp('Output voltage when only 2V voltage source is acting in volt')\n",
"Vo1= (1+Rf/R1)*V1;\n",
"disp(Vo1);\n",
"disp('Output voltage due to 3V voltage source in volt')\n",
"Vo2= (1+Rf/R1)*V2;\n",
"disp(Vo2);\n",
"Vo= Vo1+Vo2;// in volts\n",
"disp(Vo,'Total output voltage in volts')"
   ]
   }
,
{
		   "cell_type": "markdown",
		   "metadata": {},
		   "source": [
			"## Example 1.11: Range_of_voltage_gain.sce"
		   ]
		  },
  {
"cell_type": "code",
	   "execution_count": null,
	   "metadata": {
	    "collapsed": true
	   },
	   "outputs": [],
"source": [
"// Exa 1.11\n",
"format('v',7);\n",
"clc;\n",
"clear;\n",
"close;\n",
"// Given data\n",
"Rf=500;// in kohm\n",
"min_vvs= 0;// minimum value of variable resistor in ohm\n",
"max_vvs= 10;// maximum value of variable resistor in ohm\n",
"Ri_min= 10+min_vvs;// in kohm\n",
"Ri_max= 10+max_vvs;//in kohm\n",
"// Av= Vo/Vi= -Rf/Ri\n",
"disp('Closed loop voltage gain corresponding to Ri(min) is ')\n",
"Av=-Rf/Ri_min;\n",
"disp(Av)\n",
"disp('and closed loop voltage gain corresponding to Ri(max) is ')\n",
"Av=-Rf/Ri_max;\n",
"disp(Av)\n",
"disp('Thus the closed loop gain of the circuit can be adjusted at any value between -25 to -50 with the help of variable resistor.')"
   ]
   }
,
{
		   "cell_type": "markdown",
		   "metadata": {},
		   "source": [
			"## Example 1.12: Range_of_output_voltage.sce"
		   ]
		  },
  {
"cell_type": "code",
	   "execution_count": null,
	   "metadata": {
	    "collapsed": true
	   },
	   "outputs": [],
"source": [
"// Exa 1.12\n",
"format('v',7);\n",
"clc;\n",
"clear;\n",
"close;\n",
"// Given data\n",
"Rf=200;// in kohm\n",
"R1= 20;// in kohm\n",
"// Av= Vo/Vi= -Rf/Ri\n",
"Av= -Rf/R1;\n",
"Vi_min= 0.1;// in V\n",
"Vi_max= 0.5;// in V\n",
"// Vo= Av*Vi\n",
"Vo_min= Av*Vi_min;// in V\n",
"Vo_max= Av*Vi_max;// in V\n",
"disp('Output voltage ranges from '+string(Vo_min)+'V to '+string(Vo_max)+'V')"
   ]
   }
,
{
		   "cell_type": "markdown",
		   "metadata": {},
		   "source": [
			"## Example 1.13: The_value_of_R1_and_R2.sce"
		   ]
		  },
  {
"cell_type": "code",
	   "execution_count": null,
	   "metadata": {
	    "collapsed": true
	   },
	   "outputs": [],
"source": [
"// Exa 1.13\n",
"format('v',7);\n",
"clc;\n",
"clear;\n",
"close;\n",
"// Given data\n",
"Rf= 250;// in kohm\n",
"// Output voltage expression, Vo= -5*Va+3*Vb\n",
"// and we know that for a difference amplifier circuit, \n",
"// Vo= -Rf/R1*Va + [R2/(R1+R2)]*[1+Rf/R1]*Vb\n",
"// Comparing both the expression, we get\n",
"// -Rf/R1*Va= -5*Va, or\n",
"R1= Rf/5;// in kohm\n",
"disp(R1,'The value of R1 in kohm')\n",
"// and \n",
"R2= 3*R1^2/(R1+Rf-3*R1)\n",
"disp(R2,'The value of R2 in kohm')\n",
"\n",
"// Note : Answer in the book is wrong"
   ]
   }
,
{
		   "cell_type": "markdown",
		   "metadata": {},
		   "source": [
			"## Example 1.14: Output_voltage.sce"
		   ]
		  },
  {
"cell_type": "code",
	   "execution_count": null,
	   "metadata": {
	    "collapsed": true
	   },
	   "outputs": [],
"source": [
"// Exa 1.14\n",
"format('v',7);\n",
"clc;\n",
"clear;\n",
"close;\n",
"// Given data\n",
"Vi_1= 150;// in µV\n",
"Vi_2= 140;// in µV\n",
"Vd= Vi_1-Vi_2;// in µV\n",
"Vd=Vd*10^-6;// in V\n",
"Vc= (Vi_1+Vi_2)/2;// in µV\n",
"Vc=Vc*10^-6;// in V\n",
"// Vo= Ad*Vd*(1+Vc/(CMRR*Vd))\n",
"\n",
"// (i) For Ad=4000 and CMRR= 100\n",
"Ad=4000;\n",
"CMRR= 100;\n",
"Vo= Ad*Vd*(1+Vc/(CMRR*Vd));// in volt\n",
"Vo= Vo*10^3;// in mV\n",
"disp(Vo,'(i) Output voltage in mV')\n",
"\n",
"// (ii) For Ad=4000 and CMRR= 10^5\n",
"Ad=4000;\n",
"CMRR= 10^5;\n",
"Vo= Ad*Vd*(1+Vc/(CMRR*Vd));// in volt\n",
"Vo= Vo*10^3;// in mV\n",
"disp(Vo,'(ii) Output voltage in mV')"
   ]
   }
,
{
		   "cell_type": "markdown",
		   "metadata": {},
		   "source": [
			"## Example 1.15: Output_voltage.sce"
		   ]
		  },
  {
"cell_type": "code",
	   "execution_count": null,
	   "metadata": {
	    "collapsed": true
	   },
	   "outputs": [],
"source": [
"// Exa 1.15\n",
"format('v',7);\n",
"clc;\n",
"clear;\n",
"close;\n",
"// Given data\n",
"Rf=470;// in kohm\n",
"R1=4.3;// in kohm\n",
"R2=33;// in kohm\n",
"R3=33;// in kohm\n",
"Vi= 80;// in µV\n",
"Vi=Vi*10^-6;// in volt\n",
"A1= 1+Rf/R1;\n",
"A2=-Rf/R2;\n",
"A3= -Rf/R3;\n",
"A=A1*A2*A3;\n",
"Vo= A*Vi;// in volt\n",
"disp(Vo,'Output voltage in volts is : ')"
   ]
   }
,
{
		   "cell_type": "markdown",
		   "metadata": {},
		   "source": [
			"## Example 1.16: Output_voltage.sce"
		   ]
		  },
  {
"cell_type": "code",
	   "execution_count": null,
	   "metadata": {
	    "collapsed": true
	   },
	   "outputs": [],
"source": [
"// Exa 1.16\n",
"format('v',7);\n",
"clc;\n",
"clear;\n",
"close;\n",
"// Given data\n",
"R1= 33;// in kΩ\n",
"R2= 10;// in kΩ\n",
"R3= 330;// in kΩ\n",
"V1= '50mV sin(1000 t)';\n",
"V2= '10mV sin(3000 t)';\n",
"Vo1= R3/R1*50*10^-3;\n",
"Vo2= R3/R2*10*10^-3;\n",
"// Vo= -Vo1-Vo2;\n",
"disp('Output voltage is '+string(-Vo1)+' sin (1000 t)'+string(-Vo2)+' sin(3000 t)')\n",
""
   ]
   }
,
{
		   "cell_type": "markdown",
		   "metadata": {},
		   "source": [
			"## Example 1.17: Output_voltage.sce"
		   ]
		  },
  {
"cell_type": "code",
	   "execution_count": null,
	   "metadata": {
	    "collapsed": true
	   },
	   "outputs": [],
"source": [
"// Exa 1.17\n",
"format('v',7);\n",
"clc;\n",
"clear;\n",
"close;\n",
"// Given data\n",
"R1=10;// in kohm\n",
"R2=150;// in kohm\n",
"R3=10;// in kohm\n",
"R4=300;// in kohm\n",
"V1= 1;// in V\n",
"V2= 2;// in V\n",
"Vo= [(1+R4/R2)*(R3*V1/(R1+R3))-(R4/R2)*V2];\n",
"disp(Vo,'Output voltage in volts is : ')"
   ]
   }
,
{
		   "cell_type": "markdown",
		   "metadata": {},
		   "source": [
			"## Example 1.18: Output_voltage.sce"
		   ]
		  },
  {
"cell_type": "code",
	   "execution_count": null,
	   "metadata": {
	    "collapsed": true
	   },
	   "outputs": [],
"source": [
"// Exa 1.18\n",
"format('v',6);\n",
"clc;\n",
"clear;\n",
"close;\n",
"// Given data\n",
"R1=12;// in kohm\n",
"Rf=360;// in kohm\n",
"V1= -0.3;// in V\n",
"Vo= (1+Rf/R1)*V1;// in V\n",
"disp(Vo,'Output voltage result in volts is : ')\n",
"\n",
"// Part(b)\n",
"Vo= 2.4;// in V\n",
"// We know, Vo= (1+Rf/R1)*V1\n",
"V1= Vo/(1+Rf/R1);\n",
"V1= V1*10^3;// in mV\n",
"disp(V1,'Input voltage in mV to result in an output of 2.4 Volt is')"
   ]
   }
,
{
		   "cell_type": "markdown",
		   "metadata": {},
		   "source": [
			"## Example 1.19: Output_voltage.sce"
		   ]
		  },
  {
"cell_type": "code",
	   "execution_count": null,
	   "metadata": {
	    "collapsed": true
	   },
	   "outputs": [],
"source": [
"// Exa 1.19\n",
"format('v',7);\n",
"clc;\n",
"clear;\n",
"close;\n",
"// Given data\n",
"Rf=68;// in kohm\n",
"R1=33;// in kohm\n",
"R2=22;// in kohm\n",
"R3=12;// in kohm\n",
"V1= 0.2;// in V\n",
"V2=-0.5;// in V\n",
"V3= 0.8;// in V\n",
"Vo= -Rf/R1*V1 + (-Rf/R2)*V2 + (-Rf/R3)*V3;// in volts\n",
"disp(Vo,'Output voltage in volts is : ')"
   ]
   }
,
{
		   "cell_type": "markdown",
		   "metadata": {},
		   "source": [
			"## Example 1.1: Value_of_Rf.sce"
		   ]
		  },
  {
"cell_type": "code",
	   "execution_count": null,
	   "metadata": {
	    "collapsed": true
	   },
	   "outputs": [],
"source": [
"// Exa 1.1\n",
"format('v',7);\n",
"clc;\n",
"clear;\n",
"close;\n",
"// Given data\n",
"G= -100;\n",
"R1= 2.2;// in kohm\n",
"R1=R1*10^3;// in ohm\n",
"// Formula G=-Rf/R1\n",
"Rf= -G*R1;\n",
"Rf= Rf*10^-3;// in kohm\n",
"disp(Rf,'The value of Rf in kohm is ')"
   ]
   }
,
{
		   "cell_type": "markdown",
		   "metadata": {},
		   "source": [
			"## Example 1.20: Output_voltage.sce"
		   ]
		  },
  {
"cell_type": "code",
	   "execution_count": null,
	   "metadata": {
	    "collapsed": true
	   },
	   "outputs": [],
"source": [
"// Exa 1.20\n",
"format('v',7);\n",
"clc;\n",
"clear;\n",
"close;\n",
"// Given data\n",
"Rf=100;// in kohm\n",
"R1=20;// in kohm\n",
"V1= 1.5;// in V\n",
"Vo1= V1;\n",
"Vo= -Rf/R1*Vo1;// in volts\n",
"disp(Vo,'Output voltage in volts is : ')"
   ]
   }
,
{
		   "cell_type": "markdown",
		   "metadata": {},
		   "source": [
			"## Example 1.22: Inverting_op_amp.sce"
		   ]
		  },
  {
"cell_type": "code",
	   "execution_count": null,
	   "metadata": {
	    "collapsed": true
	   },
	   "outputs": [],
"source": [
"// Exa 1.22\n",
"format('v',7);\n",
"clc;\n",
"clear;\n",
"close;\n",
"// Given data\n",
"vo= -10;// in V\n",
"i_f= 1;// in mA\n",
"i_f= i_f*10^-3;//in A\n",
"// Formula vo= -i_f*Rf\n",
"Rf= -vo/i_f;// in Ω\n",
"// The output voltage, vo= -(v1+5*v2)       (i)\n",
"// vo= -Rf/R1*v1 - Rf/R2*v2;                    (ii)\n",
"// Comparing equations (i) and (2)\n",
"R1= Rf/1;// in Ω\n",
"R2= Rf/5;// in Ω\n",
"Rf= Rf*10^-3;// in kΩ\n",
"R1= R1*10^-3;// in kΩ\n",
"R2= R2*10^-3;// in kΩ\n",
"disp(Rf,'The value of Rf in kΩ is : ')\n",
"disp(R1,'The value of R1 in kΩ is : ')\n",
"disp(R2,'The value of R2 in kΩ is : ')"
   ]
   }
,
{
		   "cell_type": "markdown",
		   "metadata": {},
		   "source": [
			"## Example 1.24: Output_voltage.sce"
		   ]
		  },
  {
"cell_type": "code",
	   "execution_count": null,
	   "metadata": {
	    "collapsed": true
	   },
	   "outputs": [],
"source": [
"// Exa 1.24\n",
"format('v',7);\n",
"clc;\n",
"clear;\n",
"close;\n",
"// Given data\n",
"R1= 9;// in kΩ\n",
"R2= 1;// in kΩ\n",
"R3= 2;// in kΩ\n",
"R4= 3;// in kΩ\n",
"// The output voltage, vo1= (1+R1/R2)*va\n",
"vo1BYva= (1+R1/R2);//       (i)\n",
"// Voltage at node va= R4*v1/(R3+R4)\n",
"vaBYv1= R4/(R3+R4);//       (ii)\n",
"// From (i) and (ii)\n",
"vo1BYv1= vo1BYva*vaBYv1;//      (iii)\n",
"// The output voltage, vo2= (1+R1/R2)*va\n",
"vo2BYva= (1+R1/R2);//       (iv)\n",
"// Voltage at node va= R3*v2/(R3+R4)\n",
"vaBYv2= R3/(R3+R4);//       (v)\n",
"// From (i) and (ii)\n",
"vo2BYv2= vo2BYva*vaBYv2;//      (iii)\n",
"// Total output vo= vo1 + vo2\n",
"disp('Total voltage is '+string(vo1BYv1)+' v1 + '+string(vo2BYv2)+' v2')"
   ]
   }
,
{
		   "cell_type": "markdown",
		   "metadata": {},
		   "source": [
			"## Example 1.25: Output_voltage.sce"
		   ]
		  },
  {
"cell_type": "code",
	   "execution_count": null,
	   "metadata": {
	    "collapsed": true
	   },
	   "outputs": [],
"source": [
"// Exa 1.25\n",
"format('v',7);\n",
"clc;\n",
"clear;\n",
"close;\n",
"// Given data\n",
"R1= 9;// in kΩ\n",
"R2= 1;// in kΩ\n",
"R3= 2;// in kΩ\n",
"R4= 3;// in kΩ\n",
"// The output voltage, vo1= (1+R1/R2)*va\n",
"vo1BYva= (1+R1/R2);//       (i)\n",
"// Voltage at node va= R4*v1/(R3+R4)\n",
"vaBYv1= R4/(R3+R4);//       (ii)\n",
"// From (i) and (ii)\n",
"vo1BYv1= vo1BYva*vaBYv1;//      (iii)\n",
"// The output voltage, vo2= (1+R1/R2)*va\n",
"vo2BYva= (1+R1/R2);//       (iv)\n",
"// Voltage at node va= R3*v2/(R3+R4)\n",
"vaBYv2= R3/(R3+R4);//       (v)\n",
"// From (i) and (ii)\n",
"vo2BYv2= vo2BYva*vaBYv2;//      (iii)\n",
"// The output voltage, vo3= (-R1/R2)*v3\n",
"vo3BYv3= (-R1/R2);//       (i)\n",
"\n",
"// Total output vo= vo1 + vo2 + vo3\n",
"disp('Total voltage is '+string(vo1BYv1)+' v1 + '+string(vo2BYv2)+' v2 '+string(vo3BYv3)+' v3')"
   ]
   }
,
{
		   "cell_type": "markdown",
		   "metadata": {},
		   "source": [
			"## Example 1.26: Gai.sce"
		   ]
		  },
  {
"cell_type": "code",
	   "execution_count": null,
	   "metadata": {
	    "collapsed": true
	   },
	   "outputs": [],
"source": [
"// Exa 1.26\n",
"format('v',7);\n",
"clc;\n",
"clear;\n",
"close;\n",
"// Given data\n",
"// omega_t= Ao*omega_b\n",
"// 2*%pi*f_t = Ao*2*%pi*f_b\n",
"// f_t= Ao*f_b\n",
"// Part (i)\n",
"Ao1= 10^5;\n",
"f_b1= 10^2;// in Hz\n",
"f_t1= Ao1*f_b1;// in Hz\n",
"// Part (ii)\n",
"Ao2= 10^6;\n",
"f_t2= 10^6;// in Hz\n",
"f_b2= f_t2/Ao2;// in Hz\n",
"// Part (iii)\n",
"f_b3= 10^3;// in Hz\n",
"f_t3= 10^8;// in Hz\n",
"Ao3= f_t3/f_b3;\n",
"// Part (iv)\n",
"f_b4= 10^-1;// in Hz\n",
"f_t4= 10^6;// in Hz\n",
"Ao4= f_t4/f_b4;\n",
"// Part (v)\n",
"Ao5= 2*10^5;\n",
"f_b5= 10;// in Hz\n",
"f_t5= Ao5*f_b5;// in Hz\n",
"disp(f_t1,'The value of f_t1 in Hz is : ')\n",
"disp(f_b2,'The value of f_b2 in Hz is : ')\n",
"disp(Ao3,'The value of Ao3 is : ')\n",
"disp(Ao4,'The value of Ao4 is : ')\n",
"disp(f_t5,'The value of f_t5 in Hz is : ')"
   ]
   }
,
{
		   "cell_type": "markdown",
		   "metadata": {},
		   "source": [
			"## Example 1.27: Value_of_Ao_fb_fr.sce"
		   ]
		  },
  {
"cell_type": "code",
	   "execution_count": null,
	   "metadata": {
	    "collapsed": true
	   },
	   "outputs": [],
"source": [
"// Exa 1.27\n",
"format('v',7);\n",
"clc;\n",
"clear;\n",
"close;\n",
"// Given data\n",
"Ao= 86;// in dB\n",
"A= 40;// in dB\n",
"f=100;// in kHz\n",
"f=f*10^3;// in Hz\n",
"// From  20*log(S) = 20*log(Ao/A), where S, stands for sqrt(1+(f/fb)^2)\n",
"S= 10^((Ao-A)/20);\n",
"// S= sqrt(1+(f/fb)^2)\n",
"fb= f/sqrt(S^2-1);// in Hz\n",
"Ao= 10^(Ao/20);\n",
"ft= Ao*fb;// in Hz\n",
"ft= round(ft*10^-6);// in MHz\n",
"disp(Ao,'The value of Ao is : ')\n",
"disp(fb,'The value of fb in Hz is : ')\n",
"disp(ft,'The value of ft in MHz is : ')"
   ]
   }
,
{
		   "cell_type": "markdown",
		   "metadata": {},
		   "source": [
			"## Example 1.28: 3dB_frequency_and_gain.sce"
		   ]
		  },
  {
"cell_type": "code",
	   "execution_count": null,
	   "metadata": {
	    "collapsed": true
	   },
	   "outputs": [],
"source": [
"// Exa 1.28\n",
"format('v',5);\n",
"clc;\n",
"clear;\n",
"close;\n",
"// Given data\n",
"Ao= 10^4;// in V/V\n",
"f_t= 10^6;// in Hz\n",
"R2byR1= 20;\n",
"omega_t= 2*%pi*f_t;\n",
"omega_3dB= omega_t/(1+R2byR1);\n",
"f3dB= omega_3dB/(2*%pi);// in Hz\n",
"f3dB= f3dB*10^-3;// in kHz\n",
"disp(f3dB,'3-dB frequency of the closed loop amplifier in kHz is : ')\n",
"f3dB= 0.1*f3dB;// in Hz\n",
"voBYvi= -R2byR1/sqrt(1+(2*%pi*f3dB/omega_3dB)^2);\n",
"voBYvi= abs(voBYvi);// in v/v\n",
"disp(voBYvi,'Gain in v/v is : ')\n",
"\n",
"\n",
""
   ]
   }
,
{
		   "cell_type": "markdown",
		   "metadata": {},
		   "source": [
			"## Example 1.2: Output_voltage.sce"
		   ]
		  },
  {
"cell_type": "code",
	   "execution_count": null,
	   "metadata": {
	    "collapsed": true
	   },
	   "outputs": [],
"source": [
"// Exa 1.2\n",
"format('v',7);\n",
"clc;\n",
"clear;\n",
"close;\n",
"// Given data\n",
"Rf= 200;// in kohm\n",
"R1= 2;// in kohm\n",
"vin=2.5;// in mV\n",
"vin=vin*10^-3;// in volt\n",
"G= -Rf/R1;\n",
"vo= G*vin;// in V\n",
"disp(vo,'The output voltage in volt is : ')"
   ]
   }
,
{
		   "cell_type": "markdown",
		   "metadata": {},
		   "source": [
			"## Example 1.3: Inverting_amplifier.sce"
		   ]
		  },
  {
"cell_type": "code",
	   "execution_count": null,
	   "metadata": {
	    "collapsed": true
	   },
	   "outputs": [],
"source": [
"// Exa 1.3\n",
"format('v',7);\n",
"clc;\n",
"clear;\n",
"close;\n",
"// Given data\n",
"G=-10;\n",
"Ri= 100;// in kohm\n",
"R1= Ri;// in kohm\n",
"R1=R1*10^3;// in ohm\n",
"// Formula G=-R2/R1\n",
"R2= R1*abs(G);// ohm\n",
"R1= R1*10^-3;// in kohm\n",
"R2= R2*10^-6;// in Mohm\n",
"disp(R1,'Value of R1 in kohm is : ')\n",
"disp(R2,'and value of R2 in Mohm is : ')"
   ]
   }
,
{
		   "cell_type": "markdown",
		   "metadata": {},
		   "source": [
			"## Example 1.4: Inverting_amplifier.sce"
		   ]
		  },
  {
"cell_type": "code",
	   "execution_count": null,
	   "metadata": {
	    "collapsed": true
	   },
	   "outputs": [],
"source": [
"// Exa 1.4\n",
"format('v',7);\n",
"clc;\n",
"clear;\n",
"close;\n",
"// Given data\n",
"R1= 100;// in kohm\n",
"R2= 500;// in kohm\n",
"V1= 2;// in volt\n",
"Vo= (1+R2/R1)*V1;// in volt\n",
"disp(Vo,'Output voltage for noninverting amplifier in volt')"
   ]
   }
,
{
		   "cell_type": "markdown",
		   "metadata": {},
		   "source": [
			"## Example 1.5: Output_voltage.sce"
		   ]
		  },
  {
"cell_type": "code",
	   "execution_count": null,
	   "metadata": {
	    "collapsed": true
	   },
	   "outputs": [],
"source": [
"// Exa 1.5\n",
"format('v',7);\n",
"clc;\n",
"clear;\n",
"close;\n",
"// Given data\n",
"Rf= 1;// in Mohm\n",
"Rf=Rf*10^6;//in ohm\n",
"\n",
"// Part(a)\n",
"V1=1;//in volt\n",
"V2=2;//in volt\n",
"V3=3;//in volt\n",
"R1= 500;// in kohm\n",
"R1=R1*10^3;//in ohm\n",
"R2= 1;// in Mohm\n",
"R2=R2*10^6;//in ohm\n",
"R3= 1;// in Mohm\n",
"R3=R3*10^6;//in ohm\n",
"Vo= -Rf*(V1/R1+V2/R2+V3/R3);// in volt\n",
"disp(Vo,'(a) Output voltage in volt is : ')\n",
"\n",
"// Part(b)\n",
"V1=-2;//in volt\n",
"V2=3;//in volt\n",
"V3=1;//in volt\n",
"R1= 200;// in kohm\n",
"R1=R1*10^3;//in ohm\n",
"R2= 500;// in kohm\n",
"R2=R2*10^3;//in ohm\n",
"R3= 1;// in Mohm\n",
"R3=R3*10^6;//in ohm\n",
"Vo= -Rf*(V1/R1+V2/R2+V3/R3);// in volt\n",
"disp(Vo,'(b) Output voltage in volt is : ')"
   ]
   }
,
{
		   "cell_type": "markdown",
		   "metadata": {},
		   "source": [
			"## Example 1.6: Maximum_and_minimum_closed_loop_gain.sce"
		   ]
		  },
  {
"cell_type": "code",
	   "execution_count": null,
	   "metadata": {
	    "collapsed": true
	   },
	   "outputs": [],
"source": [
"// Exa 1.6\n",
"format('v',7);\n",
"clc;\n",
"clear;\n",
"close;\n",
"// Given data\n",
"disp('Minimum closed loop voltage gain for R2=0 and R1= 2 kohm')\n",
"R2=0;\n",
"R1=2;// in kohm\n",
"R1=R1*10^3;// in ohm\n",
"Av_min= (1+R2/R1)\n",
"disp(Av_min)\n",
"\n",
"disp('Maximum closed loop voltage gain for maximum value of R2=100 kohm and R1= 2 kohm')\n",
"R2=100;// in kohm\n",
"R1=2;// in kohm\n",
"Av_max= (1+R2/R1)\n",
"disp(Av_max)"
   ]
   }
,
{
		   "cell_type": "markdown",
		   "metadata": {},
		   "source": [
			"## Example 1.7: Output_voltage.sce"
		   ]
		  },
  {
"cell_type": "code",
	   "execution_count": null,
	   "metadata": {
	    "collapsed": true
	   },
	   "outputs": [],
"source": [
"// Exa 1.7\n",
"format('v',7);\n",
"clc;\n",
"clear;\n",
"close;\n",
"// Given data\n",
"V1= 745;// in µV\n",
"V2= 740;// in µV\n",
"V1=V1*10^-6;// in volt\n",
"V2=V2*10^-6;// in volt\n",
"CMRR=80;// in dB\n",
"Av=5*10^5;\n",
"// (i)\n",
"// CMRR in dB= 20*log(Ad/Ac)\n",
"Ad=Av;\n",
"Ac= Ad/10^(CMRR/20);\n",
"// (ii)\n",
"Vo= Ad*(V1-V2)+Ac*(V1+V2)/2;\n",
"disp(Vo,'Output voltage in volt is : ')\n",
"\n",
"// Note:- In the book, there is calculation error to evaluate the value of Ac, so the value of Ac is wrong ans to evaluate the output voltage there is also calculation error "
   ]
   }
,
{
		   "cell_type": "markdown",
		   "metadata": {},
		   "source": [
			"## Example 1.8: Voltage_gai.sce"
		   ]
		  },
  {
"cell_type": "code",
	   "execution_count": null,
	   "metadata": {
	    "collapsed": true
	   },
	   "outputs": [],
"source": [
"// Exa 1.8\n",
"format('v',7);\n",
"clc;\n",
"clear;\n",
"close;\n",
"// Given data\n",
"R1= 1;// in Mohm\n",
"Ri=R1;// in Mohm\n",
"Rf=1;// in Mohm\n",
"A_VF= -Rf/R1;\n",
"disp(A_VF,'Voltage gain is : ')"
   ]
   }
],
"metadata": {
		  "kernelspec": {
		   "display_name": "Scilab",
		   "language": "scilab",
		   "name": "scilab"
		  },
		  "language_info": {
		   "file_extension": ".sce",
		   "help_links": [
			{
			 "text": "MetaKernel Magics",
			 "url": "https://github.com/calysto/metakernel/blob/master/metakernel/magics/README.md"
			}
		   ],
		   "mimetype": "text/x-octave",
		   "name": "scilab",
		   "version": "0.7.1"
		  }
		 },
		 "nbformat": 4,
		 "nbformat_minor": 0
}
