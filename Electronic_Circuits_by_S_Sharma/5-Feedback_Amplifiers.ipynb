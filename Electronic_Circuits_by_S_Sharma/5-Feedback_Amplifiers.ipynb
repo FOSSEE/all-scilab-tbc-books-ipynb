{
"cells": [
 {
		   "cell_type": "markdown",
	   "metadata": {},
	   "source": [
       "# Chapter 5: Feedback Amplifiers"
	   ]
	},
{
		   "cell_type": "markdown",
		   "metadata": {},
		   "source": [
			"## Example 5.10: Value_of_Av_bita_Avf_Ri_Rif_Ro_and_Rof.sce"
		   ]
		  },
  {
"cell_type": "code",
	   "execution_count": null,
	   "metadata": {
	    "collapsed": true
	   },
	   "outputs": [],
"source": [
"// Exa 5.10\n",
"format('v',5);\n",
"clc;\n",
"clear;\n",
"close;\n",
"// Given data\n",
"gm=50;\n",
"R_E= 100;// in ohm\n",
"R_S= 1;// in kohm\n",
"R_S=R_S*10^3;// in ohm\n",
"r_pi= 1100;// in ohm\n",
"h_ie= r_pi;\n",
"// Formula Av= Vo/Vs, But Vo= gm*vpi*R_E and Vs= Ib*(Ri+rpi), so\n",
"Av= gm*R_E/(R_S+h_ie)\n",
"// As Vo=Vf, so\n",
"Bita=1;\n",
"D= 1+Bita*Av;\n",
"Avf= Av/D;\n",
"Ri= R_S+r_pi;// in ohm\n",
"Ri= Ri*10^-3;// in kohm\n",
"R_if= Ri*D;// in kohm\n",
"// Ro= infinite, so \n",
"// Rof= infinite\n",
"disp(Av,'Value of Av is : ')\n",
"disp(Bita,'Value of Bita is : ')\n",
"disp(D,'The value of D is : ')\n",
"disp(Avf,'Value of Avf is : ')\n",
"disp(Ri,'Value of Ri in kohm')\n",
"disp(R_if,'Value of R_if in kohm is : ')\n",
"disp('Value of Ro and Rof is : ')\n",
"disp('infinite')"
   ]
   }
,
{
		   "cell_type": "markdown",
		   "metadata": {},
		   "source": [
			"## Example 5.11: Value_of_Avf_Rif_Rof_and_bita.sce"
		   ]
		  },
  {
"cell_type": "code",
	   "execution_count": null,
	   "metadata": {
	    "collapsed": true
	   },
	   "outputs": [],
"source": [
"// Exa 5.11\n",
"format('v',5);\n",
"clc;\n",
"clear;\n",
"close;\n",
"// Given data\n",
"gm=2;// in mA/V\n",
"gm=gm*10^-3;// in A/V\n",
"r_d= 40;// in kohm\n",
"r_d= r_d*10^3;// in ohm\n",
"Rs= 3;// in kohm\n",
"Rs= Rs*10^3;// in ohm\n",
"miu= gm*r_d;\n",
"Bita=1;\n",
"Av= miu*Rs/(r_d+Rs);\n",
"D= 1+Bita*Av;\n",
"Avf= Av/D;\n",
"// Ri=infinite, so R_if = Ri*D = infinite\n",
"Rof= r_d/D;// in ohm\n",
"disp(Av,'Value of Av is : ')\n",
"disp(D,'Value of D is ')\n",
"disp(Avf,'Value of Avf is : ')\n",
"disp('Value of R_if is ')\n",
"disp('infinite')\n",
"disp(Rof,'Value of Rof in ohm is : ')"
   ]
   }
,
{
		   "cell_type": "markdown",
		   "metadata": {},
		   "source": [
			"## Example 5.12: Value_of_D_Gmf_Rif_and_Rof.sce"
		   ]
		  },
  {
"cell_type": "code",
	   "execution_count": null,
	   "metadata": {
	    "collapsed": true
	   },
	   "outputs": [],
"source": [
"// Exa 5.12\n",
"format('v',7);\n",
"clc;\n",
"clear;\n",
"close;\n",
"// Given data\n",
"gm=75;// in A/V\n",
"Rs= 1;// in kohm\n",
"Rs= Rs*10^3;// in ohm\n",
"R_E= 1;// in kohm\n",
"R_E= R_E*10^3;// in ohm\n",
"rpi= 1;// in kohm\n",
"rpi= rpi*10^3;// in ohm\n",
"hie=rpi;\n",
"\n",
"Io= -gm;\n",
"Vi= Rs+R_E+rpi;\n",
"Gm= Io/Vi;\n",
"disp(Gm,'Value of Gm is : ')\n",
"Bita=-R_E;\n",
"disp(Bita,'Value of Bita is : ')\n",
"D= 1+Bita*Gm;\n",
"disp(D,'Value of D is : ')\n",
"Gmf= Gm/D;\n",
"disp(Gmf,'Value of Gmf is : ')\n",
"Ri= Rs+R_E+hie;// in ohm\n",
"Rif= Ri*D;// in ohm\n",
"Rif=Rif*10^-3;// in kohm\n",
"disp(Rif,'Value of Rif in kohm is : ')\n",
"// Ro=infinite, so R_of = Ro*D = infinite\n",
"disp('Value of R_of is ')\n",
"disp('infinite')\n",
""
   ]
   }
,
{
		   "cell_type": "markdown",
		   "metadata": {},
		   "source": [
			"## Example 5.19: Percentage_change_in_Af.sce"
		   ]
		  },
  {
"cell_type": "code",
	   "execution_count": null,
	   "metadata": {
	    "collapsed": true
	   },
	   "outputs": [],
"source": [
"// Exa 5.19\n",
"format('v',4);\n",
"clc;\n",
"clear;\n",
"close;\n",
"// Given data\n",
"A= 10^5;\n",
"Af= 100;\n",
"// Formula Af= A/(1+A*Bita)\n",
"Bita= 1/Af-1/A;\n",
"\n",
"//when A= 10^3\n",
"A=10^3;\n",
"Af_desh= A/(1+A*Bita);\n",
"\n",
"delta_Af= Af_desh-Af;\n",
"Perc_Change_inAf= delta_Af/Af*100;// in %\n",
"disp(Perc_Change_inAf,'Percentage change in Af is : ')"
   ]
   }
,
{
		   "cell_type": "markdown",
		   "metadata": {},
		   "source": [
			"## Example 5.1: Percentage_of_output_which_is_feedback_to_input.sce"
		   ]
		  },
  {
"cell_type": "code",
	   "execution_count": null,
	   "metadata": {
	    "collapsed": true
	   },
	   "outputs": [],
"source": [
"// Exa 5.1\n",
"format('v',7);\n",
"clc;\n",
"clear;\n",
"close;\n",
"// Given data\n",
"A= 800;// unit less\n",
"Af= 50;// unit less\n",
"// Formula Af= A/(1+Bita*A)\n",
"Bita= 1/Af-1/A;\n",
"disp(Bita*100,'Percentage of output which is feedback to the input in % is  ')"
   ]
   }
,
{
		   "cell_type": "markdown",
		   "metadata": {},
		   "source": [
			"## Example 5.20: Percentage_gain_reduction.sce"
		   ]
		  },
  {
"cell_type": "code",
	   "execution_count": null,
	   "metadata": {
	    "collapsed": true
	   },
	   "outputs": [],
"source": [
"// Exa 5.20\n",
"format('v',5);\n",
"clc;\n",
"clear;\n",
"close;\n",
"// Given data\n",
"A= 100;\n",
"Vs=1;// in volt\n",
"Bita=1;// as in the voltage follower, the output voltage is same as input\n",
"Af= A/(1+Bita*A);\n",
"CLG= 1+A*Bita;// closed loop gain\n",
"disp(CLG,'Closed loop gain is : ')\n",
"CLG_dB= 20*log10(CLG);\n",
"disp(CLG_dB,'Closed loop gain in dB is : ')\n",
"Vo= Af*Vs;// in V\n",
"disp(Vo,'Value of Vo in volt is : ')\n",
"Vi= Vs-Vo;// in V\n",
"disp(round(Vi*10^3),'Value of Vi in mV is : ')\n",
"// If A decrease 10%,i.e.\n",
"A=90;\n",
"Af_desh= A/(1+Bita*A);\n",
"Per_gain_reduction= (Af_desh-Af)/Af*100;// in %\n",
"disp(Per_gain_reduction,'Percentage of gain reduction in %')"
   ]
   }
,
{
		   "cell_type": "markdown",
		   "metadata": {},
		   "source": [
			"## Example 5.21: Open_loop_gain_and_loop_gain.sce"
		   ]
		  },
  {
"cell_type": "code",
	   "execution_count": null,
	   "metadata": {
	    "collapsed": true
	   },
	   "outputs": [],
"source": [
"// Exa 5.21\n",
"format('v',7);\n",
"clc;\n",
"clear;\n",
"close;\n",
"// Given data\n",
"// Part (a)\n",
"PerError= 1;// in %\n",
"A= 10^5;// (Assumed value)\n",
"ABita= 1/PerError*100;\n",
"Bita= 1/(PerError*A);\n",
"disp('% error               A                   Aß                   1+Aß')\n",
"disp(string(PerError)+'                    '+string(A)+'              '+string(ABita)+'                    '+string(1+ABita))\n",
"// Part (b)\n",
"PerError= 5;// in %\n",
"ABita= 1/PerError*100;\n",
"Bita= 1/(PerError*A);\n",
"disp(string(PerError)+'                    '+string(A)+'               '+string(ABita)+'                      '+string(1+ABita))\n",
"// Part (c)\n",
"PerError= 50;// in %\n",
"ABita= 1/PerError*100;\n",
"Bita= 1/(PerError*A);\n",
"disp(string(PerError)+'                  '+string(A)+'               '+string(ABita)+'                         '+string(1+ABita))"
   ]
   }
,
{
		   "cell_type": "markdown",
		   "metadata": {},
		   "source": [
			"## Example 5.22: Value_of_AB.sce"
		   ]
		  },
  {
"cell_type": "code",
	   "execution_count": null,
	   "metadata": {
	    "collapsed": true
	   },
	   "outputs": [],
"source": [
"// Exa 5.22\n",
"format('v',7);\n",
"clc;\n",
"clear;\n",
"close;\n",
"// Given data\n",
"S= -20;// sensitivity of closed to open loop gain in dB\n",
"// sensitivity of closed to open loop gain = 1/(1+AB) = S\n",
"// or (1+AB) = -S\n",
"AB= 10^(-S/20) - 1;\n",
"disp(AB,'The loop gain AB for which the sensitivity of closed loop gain to open loop gain is -20 dB, is : ')\n",
"\n",
"// Part (b) when \n",
"S= 1/2;// sensitivity of closed to open loop gain in dB\n",
"//S= 1/(1+AB)\n",
"AB= 1/S-1;\n",
"disp(AB,'The loop gain AB for which the sensitivity of closed loop gain to open loop gain is 1/2 ,is : ')\n",
""
   ]
   }
,
{
		   "cell_type": "markdown",
		   "metadata": {},
		   "source": [
			"## Example 5.23: Gain_densitivity_factor.sce"
		   ]
		  },
  {
"cell_type": "code",
	   "execution_count": null,
	   "metadata": {
	    "collapsed": true
	   },
	   "outputs": [],
"source": [
"// Exa 5.23\n",
"format('v',5);\n",
"clc;\n",
"clear;\n",
"close;\n",
"// Given data\n",
"A=10^5;\n",
"Af= 10^3;\n",
"// Af= A/(1+A*Bita)\n",
"Bita= 1/Af-1/A;\n",
"GDF= 1+A*Bita;// gain densitivity factor\n",
"disp(GDF,'Gain densitivity factor is : ')\n",
"// Part (a) when A drops 10 %\n",
"A_desh= A-A*10/100;\n",
"Af_desh= A_desh/(1+A_desh*Bita);\n",
"CorresPer= (Af-Af_desh)/Af*100;// corresponding percentage in %\n",
"disp(CorresPer,'When A drops by 10 % then corresponding percentage is ')\n",
"// Part (b) when A drops 30 %\n",
"A_desh= A-A*30/100;\n",
"Af_desh= A_desh/(1+A_desh*Bita);\n",
"CorresPer= (Af-Af_desh)/Af*100;// corresponding percentage in %\n",
"disp(CorresPer,'When A drops by 30 % then corresponding percentage is ')\n",
"\n",
"\n",
"\n",
"\n",
"\n",
"\n",
"\n",
"\n",
"\n",
"\n",
""
   ]
   }
,
{
		   "cell_type": "markdown",
		   "metadata": {},
		   "source": [
			"## Example 5.24: Upper_and_lower_3dB_frequency.sce"
		   ]
		  },
  {
"cell_type": "code",
	   "execution_count": null,
	   "metadata": {
	    "collapsed": true
	   },
	   "outputs": [],
"source": [
"// Exa 5.24\n",
"format('v',7);\n",
"clc;\n",
"clear;\n",
"close;\n",
"// Given data\n",
"A=100;\n",
"Af= 10;\n",
"f_L= 100;// in Hz\n",
"f_H= 10;// in kHz\n",
"// Af= A/(1+A*Bita)\n",
"Bita= 1/Af-1/A;\n",
"f_desh_L= f_L/(1+A*Bita);// in Hz\n",
"f_desh_H= f_H/(1+A*Bita);// in kHz\n",
"disp(f_desh_L,'Low frequency in Hz is : ')\n",
"disp(f_desh_H,'High frequency in kHz is : ')\n",
"\n",
"// Note: In the book Calculation to find the value of high frequency i.e. f_desh_H is wrong so the answer in the book is wrong "
   ]
   }
,
{
		   "cell_type": "markdown",
		   "metadata": {},
		   "source": [
			"## Example 5.25: Value_of_alpha_and_bita.sce"
		   ]
		  },
  {
"cell_type": "code",
	   "execution_count": null,
	   "metadata": {
	    "collapsed": true
	   },
	   "outputs": [],
"source": [
"// Exa 5.25\n",
"format('v',7);clc;\n",
"clear;\n",
"close;\n",
"// Given data\n",
"Vs= 100;// in mV\n",
"Vf= 95;// in mV\n",
"Vs= Vs*10^-3;// in V\n",
"Vf= Vf*10^-3;// in V\n",
"Vo=10;// in V\n",
"Vi= Vs-Vf;// in V\n",
"Av= Vo/Vi;// in V/V\n",
"disp(Av,'Value of A in V/V is : ')\n",
"Bita= Vf/Vo;// in V/V\n",
"disp(Bita,'Value of Bita in V/V is : ')\n",
"\n",
"// Note: In the book Calculation to find the value of Bita is wrong so the asnwer in the book is wrong"
   ]
   }
,
{
		   "cell_type": "markdown",
		   "metadata": {},
		   "source": [
			"## Example 5.26: Value_of_alpha_and_bita.sce"
		   ]
		  },
  {
"cell_type": "code",
	   "execution_count": null,
	   "metadata": {
	    "collapsed": true
	   },
	   "outputs": [],
"source": [
"// Exa 5.26\n",
"format('v',7);\n",
"clc;\n",
"clear;\n",
"close;\n",
"// Given data\n",
"Is= 100;// in µA\n",
"Is= Is*10^-6;// in A\n",
"If= 95;// in µA\n",
"If= If*10^-6;// in A\n",
"Io= 10;// in mA\n",
"Io= Io*10^-3;// in A\n",
"A= Io/(Is-If);// n A/A\n",
"Bita= If/Io;// A/A\n",
"disp(A,'Value of A in A/A is : ')\n",
"disp(Bita,'Value of Bita in A/A is : ')\n",
"\n",
"// Note: In the book , to evaluating the value of Bita, they putted wrong value of If (95 at place of 90)"
   ]
   }
,
{
		   "cell_type": "markdown",
		   "metadata": {},
		   "source": [
			"## Example 5.28: Gain_input_resistance_and_output_resistance_of_the_closed_loop_amp.sce"
		   ]
		  },
  {
"cell_type": "code",
	   "execution_count": null,
	   "metadata": {
	    "collapsed": true
	   },
	   "outputs": [],
"source": [
"// Exa 5.28\n",
"format('v',6);\n",
"clc;\n",
"clear;\n",
"close;\n",
"// Given data\n",
"A=2000;//V/V\n",
"Bita= 0.1;// inV/V\n",
"Ri= 1;// in kohm\n",
"Ri= Ri*10^3;// in ohm\n",
"Ro= 1;// in kohm\n",
"Ro= Ro*10^3;// in ohm\n",
"Af= A/(1+A*Bita);\n",
"disp(Af,'The gain Af in volt is : ')\n",
"Rif= Ri*(1+A*Bita);// in ohm\n",
"disp(Rif*10^-3,'The input resistance in kohm is : ')\n",
"Rof= Ro/(1+A*Bita);// in ohm\n",
"disp(Rof*10^-3,'The output resistance in kohm is : ')\n",
"\n",
"\n",
"// Note: In the book, to finding the value of Af, Rif and Rof there is missprinting to putting the value of Bita but value of Af and Rif is correct because to calculating Af and Rif , the value of Bita is taken .1 (not .01)\n",
"//          but to evaluating the value of Rof calculation is also wrong so the answer in the book is wrong"
   ]
   }
,
{
		   "cell_type": "markdown",
		   "metadata": {},
		   "source": [
			"## Example 5.29: Closed_loop_voltage_gai.sce"
		   ]
		  },
  {
"cell_type": "code",
	   "execution_count": null,
	   "metadata": {
	    "collapsed": true
	   },
	   "outputs": [],
"source": [
"// Exa 5.29\n",
"format('v',7);\n",
"clc;\n",
"clear;\n",
"close;\n",
"// Given data\n",
"\n",
"// Part (b)\n",
"Af= 10;\n",
"A= 10^4;\n",
"// Af= A/(1+A*Bita);\n",
"Bita= 1/Af-1/A;\n",
"// Bita= R1/(R1+R2)\n",
"R2_by_R1= 1/Bita-1;\n",
"disp(R2_by_R1,'Value of R2/R1 is : ')\n",
"\n",
"// Part (c)\n",
"Vs= 1;// in V\n",
"Vo= (1+R2_by_R1)*Vs;\n",
"disp(Vo,'Value of Vo in volt is : ')\n",
"Vf= Vo/(1+R2_by_R1)\n",
"disp(Vf,'Value of Vf in volt is : ')"
   ]
   }
,
{
		   "cell_type": "markdown",
		   "metadata": {},
		   "source": [
			"## Example 5.2: Value_of_alpha_and_Bita.sce"
		   ]
		  },
  {
"cell_type": "code",
	   "execution_count": null,
	   "metadata": {
	    "collapsed": true
	   },
	   "outputs": [],
"source": [
"// Exa 5.2\n",
"format('v',7);\n",
"clc;\n",
"clear;\n",
"close;\n",
"// Given data\n",
"Af= 100;// unit less\n",
"Vi= 50;// in mV\n",
"Vi= Vi*10^-3;// in V\n",
"Vs= 0.5;// in V\n",
"// Formula Af= Vo/Vs\n",
"Vo= Af*Vs;// in V\n",
"A= Vo/Vi;\n",
"disp(A,'Value of A is : ')\n",
"// Formula Af= A/(1+B*A)\n",
"B= 1/Af-1/A;\n",
"B=B*100;// in %\n",
"disp(B,'Value of B is in percent : ')"
   ]
   }
,
{
		   "cell_type": "markdown",
		   "metadata": {},
		   "source": [
			"## Example 5.3: Value_of_fL_and_fH.sce"
		   ]
		  },
  {
"cell_type": "code",
	   "execution_count": null,
	   "metadata": {
	    "collapsed": true
	   },
	   "outputs": [],
"source": [
"// Exa 5.3\n",
"format('v',5);\n",
"clc;\n",
"clear;\n",
"close;\n",
"// Given data\n",
"Bita= 5/100;\n",
"f_H= 50;// in kHz\n",
"f_H= f_H*10^3;// in Hz\n",
"f_L= 50;// in kHz\n",
"Amid= 1000;\n",
"f_LF= f_L/(1+Bita*Amid);// in Hz\n",
"f_HF= f_H*(1+Bita*Amid);// in Hz\n",
"disp(f_LF,'Value of f_LF in Hz is : ')\n",
"disp(f_HF*10^-6,'Value of f_LF in MHz is : ')"
   ]
   }
,
{
		   "cell_type": "markdown",
		   "metadata": {},
		   "source": [
			"## Example 5.4: Value_of_bita_and_Af.sce"
		   ]
		  },
  {
"cell_type": "code",
	   "execution_count": null,
	   "metadata": {
	    "collapsed": true
	   },
	   "outputs": [],
"source": [
"// Exa 5.4\n",
"format('v',6);\n",
"clc;\n",
"clear;\n",
"close;\n",
"// Given data\n",
"dAf_by_Af= 0.2/100;\n",
"dA_by_A= 150/2000;\n",
"A=2000;\n",
"// Formula dAf_by_Af = 1/(1+Bita*A) * dA_by_A\n",
"Bita= dA_by_A/(A*dAf_by_Af )-1/A;\n",
"Af= A/(1+Bita*A);\n",
"disp(Bita*100,'Value of Bita in percent is ')\n",
"disp(Af,'Value of Af is : ')"
   ]
   }
,
{
		   "cell_type": "markdown",
		   "metadata": {},
		   "source": [
			"## Example 5.5: Fraction_of_the_output_that_is_feedback_to_input.sce"
		   ]
		  },
  {
"cell_type": "code",
	   "execution_count": null,
	   "metadata": {
	    "collapsed": true
	   },
	   "outputs": [],
"source": [
"// Exa 5.5\n",
"format('v',7);\n",
"clc;\n",
"clear;\n",
"close;\n",
"// Given data\n",
"Av= 140;\n",
"Avf= 17.5;\n",
"// Formula Avf= Av/(1+Av*Bita)\n",
"Bita= 1/Avf-1/Av;\n",
"disp(Bita,'Fraction of the output is ')"
   ]
   }
,
{
		   "cell_type": "markdown",
		   "metadata": {},
		   "source": [
			"## Example 5.6: Fraction_of_the_output_voltage_feedback.sce"
		   ]
		  },
  {
"cell_type": "code",
	   "execution_count": null,
	   "metadata": {
	    "collapsed": true
	   },
	   "outputs": [],
"source": [
"// Exa 5.6\n",
"format('v',7);\n",
"clc;\n",
"clear;\n",
"close;\n",
"// Given data\n",
"Av= 100;\n",
"Avf= 50;\n",
"// Formula Avf= Av/(1+Av*Bita)\n",
"Bita= 1/Avf-1/Av;\n",
"disp(Bita,'The vlaue of bita is ')\n",
"\n",
"// Part(ii)\n",
"Avf= 75;\n",
"// Formula Avf= Av/(1+Av*Bita)\n",
"Av= Avf/(1-Bita*Avf)\n",
"disp(Av,'Value of amplifier gain is : ')"
   ]
   }
,
{
		   "cell_type": "markdown",
		   "metadata": {},
		   "source": [
			"## Example 5.7: Percentage_reduction_in_stage_gain.sce"
		   ]
		  },
  {
"cell_type": "code",
	   "execution_count": null,
	   "metadata": {
	    "collapsed": true
	   },
	   "outputs": [],
"source": [
"// Exa 5.7\n",
"format('v',6);\n",
"clc;\n",
"clear;\n",
"close;\n",
"// Given data\n",
"Av= 50;\n",
"Avf= 25;\n",
"// Formula Avf= Av/(1+Av*Bita)\n",
"Bita= 1/Avf-1/Av;\n",
"// Part(i)\n",
"Av=50;\n",
"Avf= 40;\n",
"Perc_reduction= (Av-Avf)/Av*100;// Percentage of reduction in stage gain in %\n",
"disp(Perc_reduction,'Without feedback, percentage of reduction in stage gain in % is : ')\n",
"\n",
"// Part(ii)\n",
"Av= 40;\n",
"Avf= 25;\n",
"gain_with_neg_feed= Av/(1+Bita*Av);\n",
"Perc_reduction= (Avf-gain_with_neg_feed)/Avf*100;// in %\n",
"disp(Perc_reduction,'With feedback, percentage reduction in stage gain in % is : ')\n",
""
   ]
   }
,
{
		   "cell_type": "markdown",
		   "metadata": {},
		   "source": [
			"## Example 5.8: Bandwidth_of_a_feedback_amplifiers.sce"
		   ]
		  },
  {
"cell_type": "code",
	   "execution_count": null,
	   "metadata": {
	    "collapsed": true
	   },
	   "outputs": [],
"source": [
"// Exa 5.8\n",
"format('v',7);\n",
"clc;\n",
"clear;\n",
"close;\n",
"// Given data\n",
"Ao= 10^4;\n",
"Afo= 50;\n",
"omega_H= 2*%pi*100;// in rad/s\n",
"// Formula Afo= Ao/(1+Ao*Bita)\n",
"Bita= 1/Afo-1/Ao;\n",
"omega_f_H= omega_H*(1+Ao*Bita);\n",
"disp('Closed loop bandwidth in rad/s is :  ')\n",
"disp(string(omega_f_H)+' or 2*%pi*20*10^3');\n",
"disp('So the bandwidth increase form 100 Hz to 20 kHz on the gain decreases form 104 to 50')\n",
""
   ]
   }
],
"metadata": {
		  "kernelspec": {
		   "display_name": "Scilab",
		   "language": "scilab",
		   "name": "scilab"
		  },
		  "language_info": {
		   "file_extension": ".sce",
		   "help_links": [
			{
			 "text": "MetaKernel Magics",
			 "url": "https://github.com/calysto/metakernel/blob/master/metakernel/magics/README.md"
			}
		   ],
		   "mimetype": "text/x-octave",
		   "name": "scilab",
		   "version": "0.7.1"
		  }
		 },
		 "nbformat": 4,
		 "nbformat_minor": 0
}
