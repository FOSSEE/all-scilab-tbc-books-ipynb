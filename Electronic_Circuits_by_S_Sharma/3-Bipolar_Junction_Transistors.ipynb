{
"cells": [
 {
		   "cell_type": "markdown",
	   "metadata": {},
	   "source": [
       "# Chapter 3: Bipolar Junction Transistors"
	   ]
	},
{
		   "cell_type": "markdown",
		   "metadata": {},
		   "source": [
			"## Example 3.10: Voltage_gai.sce"
		   ]
		  },
  {
"cell_type": "code",
	   "execution_count": null,
	   "metadata": {
	    "collapsed": true
	   },
	   "outputs": [],
"source": [
"// Exa 3.10\n",
"format('v',7);\n",
"clc;\n",
"clear;\n",
"close;\n",
"// Given data \n",
"V_CC= 10;// in V\n",
"V_BB= 3;// in V\n",
"V_BE= 0.7;// in V\n",
"V_T= 25*10^-3;// in V\n",
"bita=100;\n",
"RC= 3;// in kΩ\n",
"RC=RC*10^3;// in Ω\n",
"RB= 100;// in kΩ\n",
"RB=RB*10^3;// in Ω\n",
"I_B= (V_BB-V_BE)/RB;// in V\n",
"I_C= bita*I_B;// in A\n",
"V_C= V_CC-I_C*RC;// in V\n",
"gm= I_C/V_T;// in A/V\n",
"r_pi= bita/gm;// in Ω\n",
"// v_be= r_pi/(RB+r_pi)*v_i\n",
"v_be_by_v_i= r_pi/(RB+r_pi);\n",
"// v_o= -gm*v_be*RC\n",
"v_o_by_v_i= -gm*v_be_by_v_i*RC;// in V/V\n",
"Av= v_o_by_v_i;// in V/V\n",
"disp(round(Av),'Voltage gain in V/V is : ')"
   ]
   }
,
{
		   "cell_type": "markdown",
		   "metadata": {},
		   "source": [
			"## Example 3.11: All_node_voltages_and_currents.sce"
		   ]
		  },
  {
"cell_type": "code",
	   "execution_count": null,
	   "metadata": {
	    "collapsed": true
	   },
	   "outputs": [],
"source": [
"// Exa 3.11\n",
"format('v',5);\n",
"clc;\n",
"clear;\n",
"close;\n",
"// Given data \n",
"V_B= 4;// in V\n",
"V_BE= 0.7;// in V\n",
"V_CC= 10;// in V\n",
"V_E= V_B-V_BE;// in V\n",
"R_E= 3.3;// in kΩ\n",
"R_E=R_E*10^3;// in Ω\n",
"RC= 4.7;// in kΩ\n",
"RC=RC*10^3;// in Ω\n",
"I_E= V_E/R_E;// in A\n",
"bita=100;\n",
"alpha= bita/(1+bita);\n",
"I_C= alpha*I_E;//in A\n",
"disp(I_C*10^3,'The value of I_C in mA is : ')\n",
"V_C= V_CC-I_C*RC;// in V\n",
"disp(V_C,'The value of V_C in volts is : ')\n",
"I_B= I_E/(1+bita);// in A\n",
"disp(I_B*10^3,'The value of I_B in mA is : ')"
   ]
   }
,
{
		   "cell_type": "markdown",
		   "metadata": {},
		   "source": [
			"## Example 3.12: All_node_voltage_and_all_branch_current.sce"
		   ]
		  },
  {
"cell_type": "code",
	   "execution_count": null,
	   "metadata": {
	    "collapsed": true
	   },
	   "outputs": [],
"source": [
"// Exa 3.12\n",
"format('v',7);\n",
"clc;\n",
"clear;\n",
"close;\n",
"// Given data \n",
"V_B= 5;// in V\n",
"V_BE= 0.7;// in V\n",
"V_CC= 10;// in V\n",
"bita=100;\n",
"R_B= 100;// in kΩ\n",
"R_C= 2;// in kΩ\n",
"R_B=R_B*10^3;// in Ω\n",
"R_C=R_C*10^3;// in Ω\n",
"I_B= (V_B-V_BE)/R_B;// in A\n",
"I_C= bita*I_B;//in A\n",
"V_C= V_CC-I_C*R_C;// in V\n",
"I_E= I_C;// in A (approx)\n",
"disp(I_B*10^3,'The value of I_B in mA is : ')\n",
"disp(I_C*10^3,'The value of I_C in mA is : ')\n",
"disp(V_C,'The value of V_C in volts is : ')\n",
"disp(I_E*10^3,'The value of I_E in mAis : ')"
   ]
   }
,
{
		   "cell_type": "markdown",
		   "metadata": {},
		   "source": [
			"## Example 3.13: All_node_voltage_and_all_branch_current.sce"
		   ]
		  },
  {
"cell_type": "code",
	   "execution_count": null,
	   "metadata": {
	    "collapsed": true
	   },
	   "outputs": [],
"source": [
"// Exa 3.13\n",
"format('v',5);\n",
"clc;\n",
"clear;\n",
"close;\n",
"// Given data \n",
"V_B= 0;// in V\n",
"V_EB= 0.7;// in V\n",
"bita=100;\n",
"V_EC= 0.2;// in V\n",
"V_E= V_EB+V_B;// in V\n",
"V_CC= 5;// in V\n",
"R_C= 1;// in kΩ\n",
"R_C=R_C*10^3;// in Ω\n",
"R_B= 10;// in kΩ\n",
"R_B= R_B*10^3;// in Ω\n",
"// V_E= V_B+V_EB        (i)\n",
"// V_C= V_E-V_EC= V_B+V_EB-V_EC     (ii)\n",
"// I_E= (V_CC-V_E)/R_C= (V_CC-V_B-V_EB)/R_C     (iii)\n",
"// I_B= V_B/R_B                     (iv)\n",
"// I_C= (V_C+V_CC)/R_C= (V_B+V_EB-V_EC+V_CC)/R_B      (v)\n",
"// By using relationship, I_E= I_B+I_C\n",
"V_B= (9*V_CC-11*V_EB+V_EC)/12;// in V\n",
"V_E= V_B+V_EB;// in V\n",
"V_C= V_B+V_EB-V_EC;// in V\n",
"I_E= (V_CC-V_B-V_EB)/R_C// in amp\n",
"I_C= (V_B+V_EB-V_EC+V_CC)/R_B;// in amp\n",
"I_B= V_B/R_B;// in amp\n",
"disp(V_B,'The value of V_B in volts is : ')\n",
"disp(V_E,'The value of V_E in volts is : ')\n",
"disp(V_C,'The value of V_C in volts is : ')\n",
"disp(I_E*10^3,'The value of I_E in mA is : ')\n",
"disp(I_C*10^3,'The value of I_C in mA is : ')\n",
"disp(I_B*10^3,'The value of I_B in mA is : ')"
   ]
   }
,
{
		   "cell_type": "markdown",
		   "metadata": {},
		   "source": [
			"## Example 3.14: Region_in_which_Q_point_lie.sce"
		   ]
		  },
  {
"cell_type": "code",
	   "execution_count": null,
	   "metadata": {
	    "collapsed": true
	   },
	   "outputs": [],
"source": [
"// Exa 3.14\n",
"format('v',5);\n",
"clc;\n",
"clear;\n",
"close;\n",
"// Given data \n",
"bita=100;\n",
"hFE= 100;\n",
"VCEsat= 0.2;// in V\n",
"VBEsat= 0.8;// in V\n",
"VBEactive= 0.7;// in V\n",
"VBB= 5;// in V\n",
"VCC= 10;// in V\n",
"R_C= 3;// in kΩ\n",
"R_C=R_C*10^3;// in Ω\n",
"R_B= 50;// in kΩ\n",
"R_B=R_B*10^3;// in Ω\n",
"// Formula VCC= ICsat*R_C+VCEsat\n",
"ICsat= (VCC-VCEsat)/R_C;//A\n",
"disp(ICsat*10^3,'The value of IC(sat) in mA is : ')\n",
"IBmin= ICsat/bita;// in A\n",
"// Apply KVL to input circuit,  VBB= IB*R_B+VBEsat\n",
"IB= (VBB-VBEsat)/R_B;// in A\n",
"disp(IB*10^6,'Actual base current in µA is : ')"
   ]
   }
,
{
		   "cell_type": "markdown",
		   "metadata": {},
		   "source": [
			"## Example 3.16: Value_of_Bita.sce"
		   ]
		  },
  {
"cell_type": "code",
	   "execution_count": null,
	   "metadata": {
	    "collapsed": true
	   },
	   "outputs": [],
"source": [
"// Exa 3.16\n",
"format('v',7);\n",
"clc;\n",
"clear;\n",
"close;\n",
"// Given data \n",
"// bita= alpha/(1-alpha)\n",
"// At alpha= 0.5\n",
"alpha= 0.5;\n",
"bita=  alpha/(1-alpha);\n",
"disp(bita,'At alpha=0.5, the value of bita is : ')\n",
"// At alpha= 0.9\n",
"alpha= 0.9;\n",
"bita = alpha/(1-alpha);\n",
"disp(bita,'At alpha=0.9, the value of bita is : ')\n",
"// At alpha= 0.5\n",
"alpha= 0.999;\n",
"bita= alpha/(1-alpha);\n",
"disp(bita,'At alpha=0.999, the value of bita is : ')"
   ]
   }
,
{
		   "cell_type": "markdown",
		   "metadata": {},
		   "source": [
			"## Example 3.17: Value_of_Bita.sce"
		   ]
		  },
  {
"cell_type": "code",
	   "execution_count": null,
	   "metadata": {
	    "collapsed": true
	   },
	   "outputs": [],
"source": [
"// Exa 3.17\n",
"format('v',6);\n",
"clc;\n",
"clear;\n",
"close;\n",
"// Given data \n",
"// alpha= bita/(1-bita)\n",
"// At bita= 1\n",
"bita=1;\n",
" alpha= bita/(1+bita);\n",
" disp(alpha,'At bita=1, the value of alpha is : ')\n",
" // At bita= 2\n",
"bita=2;\n",
" alpha= bita/(1+bita);\n",
" disp(alpha,'At bita=2, the value of alpha is : ')\n",
"// At bita= 100\n",
"bita=100;\n",
" alpha= bita/(1+bita);\n",
" disp(alpha,'At bita=100, the value of alpha is : ')\n",
"// At bita= 200\n",
"bita=200;\n",
" alpha= bita/(1+bita);\n",
" disp(alpha,'At bita=200, the value of alpha is : ')"
   ]
   }
,
{
		   "cell_type": "markdown",
		   "metadata": {},
		   "source": [
			"## Example 3.18: Value_of_Is_Ic_and_VBE.sce"
		   ]
		  },
  {
"cell_type": "code",
	   "execution_count": null,
	   "metadata": {
	    "collapsed": true
	   },
	   "outputs": [],
"source": [
" // Exa 3.18\n",
"format('v',9);\n",
"clc;\n",
"clear;\n",
"close;\n",
"// Given data \n",
"VBE= 0.76;// in V\n",
"VT= 0.025;// in V\n",
"I_C= 10*10^-3;// in A\n",
"// Formula I_C= I_S*%e^(VBE/VT)\n",
"I_S= I_C/(%e^(VBE/VT));// in A\n",
"disp(I_S,'The value of I_S in amp is : ')\n",
"// Part(a) for VBE = 0.7 V\n",
"VBE= 0.7;// in V\n",
"I_C= I_S*%e^(VBE/VT)\n",
"disp(I_C*10^3,'For VBE = 0.7 V , The value of I_C in mA is : ')\n",
"\n",
"// Part (b) for I_C= 10 µA\n",
"I_C= 10*10^-6;// in A\n",
"// Formula I_C= I_S*%e^(VBE/VT)\n",
"VBE= VT*log(I_C/I_S);\n",
"disp(VBE,'For I_C = 10 µA, The value of VBE in V is : ')"
   ]
   }
,
{
		   "cell_type": "markdown",
		   "metadata": {},
		   "source": [
			"## Example 3.19: Transistor_model.sce"
		   ]
		  },
  {
"cell_type": "code",
	   "execution_count": null,
	   "metadata": {
	    "collapsed": true
	   },
	   "outputs": [],
"source": [
"// Exa 3.19\n",
"format('v',9);\n",
"clc;\n",
"clear;\n",
"close;\n",
"// Given data \n",
"VBE= 0.7;// in V\n",
"VT= 0.025;// in V\n",
"I_B= 100;// in µA\n",
"I_B=I_B*10^-6;// in A\n",
"I_C= 10*10^-3;// in A\n",
"// Formula I_C= I_S*%e^(VBE/VT)\n",
"I_S= I_C/(%e^(VBE/VT));// in A\n",
"alpha= I_C/(I_C+I_B);\n",
"bita= I_C/I_B;\n",
"IS_by_alpha= I_S/alpha;// in A\n",
"IS_by_bita= I_S/bita;// in A\n",
"disp(alpha,'The value of alpha is : ');\n",
"disp(bita,'The value of bita is : ');\n",
"disp(IS_by_alpha,'The value of Is/alpha in A is :');\n",
"disp(IS_by_bita,'The value of Is/bita in A is : ');"
   ]
   }
,
{
		   "cell_type": "markdown",
		   "metadata": {},
		   "source": [
			"## Example 3.1: Value_of_IE_IB_IC_and_VC.sce"
		   ]
		  },
  {
"cell_type": "code",
	   "execution_count": null,
	   "metadata": {
	    "collapsed": true
	   },
	   "outputs": [],
"source": [
"// Exa 3.1\n",
"format('v',5);\n",
"clc;\n",
"clear;\n",
"close;\n",
"// Given data \n",
"V_E= -0.7;// in V\n",
"Bita=50;\n",
"RC= 5;// in kΩ\n",
"RE= 10;// in kΩ\n",
"RE= RE*10^3;// in Ω\n",
"RC= RC*10^3;// in Ω\n",
"V_CC= 10;// in V\n",
"V_BE= -10;// in volt\n",
"I_E= (V_E-V_BE)/RE;// in A\n",
"disp(I_E*10^3,'Emitter current in mA is : ')\n",
"// I_E= I_B+I_C and I_C= Bita*I_B, so\n",
"I_B= I_E/(1+Bita);// in A\n",
"disp(I_B*10^6,'Base current in µA is : ')\n",
"I_C= I_E-I_B;//in A\n",
"disp(I_C*10^3,'Collector current in mA is : ')\n",
"V_C= V_CC-I_C*RC;// in V\n",
"disp(V_C,'The value of V_C in volts is :')"
   ]
   }
,
{
		   "cell_type": "markdown",
		   "metadata": {},
		   "source": [
			"## Example 3.20: Labelled_current_and_voltage.sce"
		   ]
		  },
  {
"cell_type": "code",
	   "execution_count": null,
	   "metadata": {
	    "collapsed": true
	   },
	   "outputs": [],
"source": [
"// Exa 3.20\n",
"format('v',7);\n",
"clc;\n",
"clear;\n",
"close;\n",
"// Given data \n",
"VBE= 0.7;// in V\n",
"VCC= 10.7;// in V\n",
"R_C= 10;//in kΩ\n",
"R_C=R_C*10^3;// in Ω\n",
"R_B= 10;//in kΩ\n",
"R_B=R_B*10^3;// in Ω\n",
"I1= (VCC-VBE)/R_C;// in A\n",
"disp(I1*10^3,'The value of I1 in mA is : ')\n",
"// Part (b)\n",
"VC= -4;//in V\n",
"VB= -10;// in V\n",
"R_C= 5.6;//in kΩ\n",
"R_C=R_C*10^3;// in Ω\n",
"R_B= 2.4;//in kΩ\n",
"R_B=R_B*10^3;// in Ω\n",
"VCC=12;// V\n",
"I_C= (VC-VB)/R_B;// in A\n",
"V2= VCC- (R_C*I_C);\n",
"disp(V2,'The value of V2 in volt is : ');\n",
"// Part (c)\n",
"VCC= 0;\n",
"VCE= -10;// in V\n",
"R_C= 10;//in kΩ\n",
"R_C=R_C*10^3;// in Ω\n",
"I_C= (VCC-VCE)/R_C;// in A\n",
"V4= 1;// in V\n",
"I3= I_C;// in A (approx)\n",
"disp(V4,'The value of V4 in volt is : ');\n",
"disp(I3*10^3,'The value of I3 in mA is : ')\n",
"// Part (d)\n",
"VBE= -10;// in V\n",
"VCC= 10;// in V\n",
"R_B= 5;//in kΩ\n",
"R_B=R_B*10^3;// in Ω\n",
"R_C= 15;//in kΩ\n",
"R_C=R_C*10^3;// in Ω\n",
"// I5= I_C and \n",
"// I5= (V6-0.7-VBE)/R_B and I_C= (VCC-V6)/R_C\n",
"V6= (VCC*R_B+R_C*(0.7+VBE))/(R_C+R_B);\n",
"disp(V6,'The value of V6 in volt is : ')\n",
"I5= (V6-0.7-VBE)/R_B;// in A\n",
"disp(I5*10^3,'The value of I5 in mA is : ')\n",
"\n",
""
   ]
   }
,
{
		   "cell_type": "markdown",
		   "metadata": {},
		   "source": [
			"## Example 3.21: Value_of_bita_and_labelled_voltage.sce"
		   ]
		  },
  {
"cell_type": "code",
	   "execution_count": null,
	   "metadata": {
	    "collapsed": true
	   },
	   "outputs": [],
"source": [
"// Exa 3.21\n",
"format('v',7);\n",
"clc;\n",
"clear;\n",
"close;\n",
"// Given data \n",
"// Part (a)\n",
"V_C= 2;// in V\n",
"R_C= 1;// in kΩ\n",
"R_C=R_C*10^3;// in Ω\n",
"V_B= 4.3;// in V\n",
"R_B= 200;// in kΩ\n",
"R_B=R_B*10^3;// in Ω\n",
"I_C= V_C/R_C;// in A\n",
"I_B= V_B/R_B;// in A\n",
"Beta= I_C/I_B;\n",
"disp('Part (a)')\n",
"disp(I_C*10^3,'Collector current in mA is : ')\n",
"disp(I_B*10^6,'Base current in µA is : ')\n",
"disp(Beta,'The value of Beta is : ')\n",
"\n",
"// Part (b)\n",
"V_C= 2.3;// in V\n",
"R_C= 230;// in kΩ\n",
"R_C=R_C*10^3;// in Ω\n",
"V_B= 4.3;// in V\n",
"R_B= 20;// in kΩ\n",
"R_B=R_B*10^3;// in Ω\n",
"I= V_C/R_C;// current through 230Ω resistro i.e. I_C + I_B in A\n",
"I_B= (V_B-V_C)/R_B;// in A\n",
"I_C= I-I_B;// in A\n",
"Beta= abs(I_C/I_B);\n",
"disp('Part (b)')\n",
"disp(I_C*10^3,'Collector current in mA is : ')\n",
"disp(I_B*10^3,'Base current in mA is : ')\n",
"disp(Beta,'The value of Beta is : ')\n",
"\n",
"// Part (c)\n",
"V_E= 10;// in V\n",
"R_E= 1;// in kΩ\n",
"R_E=R_E*10^3;// in Ω\n",
"V_1= 7;// in V\n",
"R_C= 1;// in kΩ\n",
"R_C=R_C*10^3;// in Ω\n",
"V_B= 6.3;// in V\n",
"R_B= 100;// in kΩ\n",
"R_B=R_B*10^3;// in Ω\n",
"I_E= (V_E-V_1)/R_C;//in A\n",
"I_C=I_E;// in A (approx)\n",
"V_C= I_C*R_C;// in V\n",
"I_B= (V_B-V_C)/R_B;// in A\n",
"Beta= I_E/I_B-1;\n",
"disp('Part (c)')\n",
"disp(I_E*10^3,'Emitter current in mA is : ')\n",
"disp(I_B*10^6,'Base current in µA is : ')\n",
"disp(V_C,'Collector voltage in volts is : ')\n",
"disp(Beta,'The value of Beta is : ')\n",
"\n",
"// Note : In the book the value of base current in the first part is wrong due to calculation error.\n",
"//           In the part (b) the values of collector current and Beta are wrong due to calculation error in the first line of part (b)"
   ]
   }
,
{
		   "cell_type": "markdown",
		   "metadata": {},
		   "source": [
			"## Example 3.22: The_emitter_base_and_collector_voltage_and_current.sce"
		   ]
		  },
  {
"cell_type": "code",
	   "execution_count": null,
	   "metadata": {
	    "collapsed": true
	   },
	   "outputs": [],
"source": [
"    // Exa 3.22\n",
"format('v',6);\n",
"clc;\n",
"clear;\n",
"close;\n",
"// Given data \n",
"// Part (a)\n",
"bita= 30;\n",
"R_C= 2.2;// in kΩ\n",
"R_C=R_C*10^3;// in Ω\n",
"R_B= 2.2;// in kΩ\n",
"R_B=R_B*10^3;// in Ω\n",
"VCC= 3;// in V\n",
"VCE= -3;// in V\n",
"VBE= 0.7;// in V\n",
"V_B= 0;// in V\n",
"V_E= V_B-VBE;// in V\n",
"I_E= (V_E-VCE)/R_B;// in A\n",
"I_C= I_E;// in A\n",
"V_C= VCC-I_E*R_C;// in V\n",
"I_B= I_C/bita;// in A\n",
"disp('Part (a)')\n",
"disp(V_B,'The value of V_B in V is : ')\n",
"disp(V_E,'The value of V_E in V is : ')\n",
"disp(I_E*10^3,'The value of I_E in mA is : ')\n",
"disp(V_C,'The value of V_C in V is : ')\n",
"disp(I_B*10^3,'The value of I_B in mA is : ')\n",
"// Part (b)\n",
"R_C= 560;// in Ω\n",
"R_B= 1.1;// in kΩ\n",
"R_B=R_B*10^3;// in Ω\n",
"VCC= 9;// in V\n",
"VCE= 3;// in V\n",
"V_B= 3;// in V\n",
"V_E= V_B+VBE;// in V\n",
"I_E= (VCC-V_E)/R_B;// in A\n",
"alpha= bita/(1+bita);\n",
"I_C= I_E*alpha;// in A\n",
"V_C= I_C*R_C;// in V\n",
"I_B= I_C/bita;// in A\n",
"disp('Part (b)')\n",
"disp(V_B,'The value of V_B in V is : ')\n",
"disp(V_E,'The value of V_E in V is : ')\n",
"disp(I_C*10^3,'The value of I_E in mA is : ')\n",
"disp(V_C,'The value of V_C in V is : ')\n",
"disp(I_B*10^3,'The value of I_B in mA is : ')\n",
""
   ]
   }
,
{
		   "cell_type": "markdown",
		   "metadata": {},
		   "source": [
			"## Example 3.23: Value_of_VE_VC_and_alpha_bita.sce"
		   ]
		  },
  {
"cell_type": "code",
	   "execution_count": null,
	   "metadata": {
	    "collapsed": true
	   },
	   "outputs": [],
"source": [
"// Exa 3.23\n",
"format('v',5);\n",
"clc;\n",
"clear;\n",
"close;\n",
"// Given data \n",
"VBE= 0.7;// in V\n",
"VCC= 9;// in V\n",
"VCE= -9;// in V\n",
"V_B= -1.5;// in V\n",
"R_C= 10;// in kΩ\n",
"R_C=R_C*10^3;// in Ω\n",
"R_B= 10;// in kΩ\n",
"R_B=R_B*10^3;// in Ω\n",
"I_B=  abs(V_B)/R_B;// in A\n",
"V_E= V_B-VBE;// in V\n",
"disp(V_E,'The value of V_E in volt is : ')\n",
"I_E= (V_E-VCE)/R_B;// in A\n",
"Beta= I_E/I_B-1;\n",
"alpha= Beta/(1+Beta);\n",
"disp(alpha,'The value of alpha in volt is : ')\n",
"disp(Beta,'The value of Beta in volt is : ')\n",
"V_C= VCC-I_E*alpha*R_C;// in V\n",
"disp(V_C,'The value of V_C in volt is : ')\n",
"// When Beta = infinite then\n",
"alpha= 1 ;// As infinite/(1+infinite) = 1\n",
"I_B= 0;\n",
"V_B=0;\n",
"V_C= VCC-I_E*R_C;// in volt\n",
"disp('When Beta =  infinite then :-')\n",
"disp(V_B,'The value of V_B in volt is : ')\n",
"disp(V_E,'The value of V_E in volt is : ')\n",
"disp(V_C,'The value of V_C in volt is : ')"
   ]
   }
,
{
		   "cell_type": "markdown",
		   "metadata": {},
		   "source": [
			"## Example 3.24: Current_flow.sce"
		   ]
		  },
  {
"cell_type": "code",
	   "execution_count": null,
	   "metadata": {
	    "collapsed": true
	   },
	   "outputs": [],
"source": [
"// Exa 3.24\n",
"format('v',5);\n",
"clc;\n",
"clear;\n",
"close;\n",
"// Given data \n",
"VBE_1= 0.7;// in V\n",
"VBE_2= 0.5;// in V\n",
"V_T= 0.025;// in V\n",
"I_C1= 10;// in mV\n",
"I_C1= I_C1*10^-3;// in A\n",
"//  I_C1= I_S*%e^(VBE_1/V_T)        (i)\n",
"//  I_C2= I_S*%e^(VBE_2/V_T)        (ii)\n",
"// Devide equation (ii) by (i)\n",
"I_C2= I_C1*%e^((VBE_2-VBE_1)/V_T);// in A\n",
"disp(I_C2*10^6,'The value of I_C2 in µA is : ')"
   ]
   }
,
{
		   "cell_type": "markdown",
		   "metadata": {},
		   "source": [
			"## Example 3.25: Voltage_gai.sce"
		   ]
		  },
  {
"cell_type": "code",
	   "execution_count": null,
	   "metadata": {
	    "collapsed": true
	   },
	   "outputs": [],
"source": [
"// Exa 3.25\n",
"format('v',7);\n",
"clc;\n",
"clear;\n",
"close;\n",
"// Given data \n",
"R1= 10;// in kΩ\n",
"R1=R1*10^3;// in Ω\n",
"R2= 10;// in kΩ\n",
"R2=R2*10^3;// in Ω\n",
"I_C=.5;// mA\n",
"V_T= 0.025;//in V\n",
"I_C= I_C*10^-3;// in A\n",
"V= 10;// in V\n",
"Vth= V*R1/(R1+R2);// in V\n",
"Rth=  R1*R2/(R1+R2);//in Ω\n",
"vo= I_C*Rth;// in V\n",
"vi=V_T;// in V\n",
"vo_by_vi= vo/vi;//in V/V\n",
"disp(vo_by_vi,'The value of vo/vi in V/V is : ')"
   ]
   }
,
{
		   "cell_type": "markdown",
		   "metadata": {},
		   "source": [
			"## Example 3.27: Value_of_VB_VC_and_VE.sce"
		   ]
		  },
  {
"cell_type": "code",
	   "execution_count": null,
	   "metadata": {
	    "collapsed": true
	   },
	   "outputs": [],
"source": [
"// Exa 3.27\n",
"format('v',7);\n",
"clc;\n",
"clear;\n",
"close;\n",
"// Given data \n",
"V_B= 2;// in V\n",
"V_CC=5;// in V\n",
"V_BE= 0.7;// in V\n",
"R_E= 1*10^3;// in Ω\n",
"R_C= 1*10^3;// in Ω\n",
"V_E= V_B-V_BE;// in V\n",
"I_E= V_E/R_E;// in A\n",
"I_C= I_E;// in A\n",
"V_C= V_CC-I_C*R_C;//in V\n",
"disp('At V_B= +2 V')\n",
"disp(V_E,'The value of V_E in volts is : ')\n",
"disp(V_C,'The value of V_C in volts is : ')\n",
"\n",
"// Part (b)\n",
"V_B= 0;//in V\n",
"V_E= 0;// in V\n",
"I_E=  0;// in A\n",
"V_C= 5;// in V\n",
"disp('At V_B= 0 V')\n",
"disp(V_E,'The value of V_E in volts is : ')\n",
"disp(V_C,'The value of V_C in volts is : ')"
   ]
   }
,
{
		   "cell_type": "markdown",
		   "metadata": {},
		   "source": [
			"## Example 3.28: Value_of_VE_and_VC.sce"
		   ]
		  },
  {
"cell_type": "code",
	   "execution_count": null,
	   "metadata": {
	    "collapsed": true
	   },
	   "outputs": [],
"source": [
"// Exa 3.28\n",
"format('v',7);\n",
"clc;\n",
"clear;\n",
"close;\n",
"// Given data \n",
"V_B= 0;// in V\n",
"R_E=1*10^3;//in Ω\n",
"R_C=1*10^3;//in Ω\n",
"V_CC=5;// in V\n",
"V_BE= 0.7;// in V\n",
"V_E= V_B-V_BE;// in V\n",
"I_E= (1+V_E)/R_E;// in A\n",
"I_C= I_E;// (approx) in A\n",
"V_C= V_CC-I_C*R_C;//in V\n",
"disp('Part (i)')\n",
"disp(V_E,'The value of V_E in volt is : ');\n",
"disp(V_C,'The value of V_C in volt is : ');\n",
"// For saturation \n",
"V_CE=0.2 ;// V\n",
"V_CB= -0.5;// in V\n",
"// I_C= 5-V_C/R_C and V_C= V_E-VCE, So\n",
"// I_C= (5.2-V_E)/R_C\n",
"// I_E= (V_E+1)/R_E and at the edge of saturation I_C=I_E,\n",
"V_E= 4.2/2;/// in V\n",
"V_B= V_E+0.7;// in V\n",
"V_C= V_E+0.2;// in V\n",
"disp('Part (ii) ')\n",
"disp(V_E,'The value of V_E in volts is : ');\n",
"disp(V_B,'The value of V_B in volts is : ');\n",
"disp(V_C,'The value of V_C in volts is : ');\n",
"\n",
"// Note: In the book , there is a miss print in the last line of this question because V_E+0.2= 2.1+0.2 = 2.3  (not 2.8) , so answer in the book is wrong \n",
"\n",
""
   ]
   }
,
{
		   "cell_type": "markdown",
		   "metadata": {},
		   "source": [
			"## Example 3.29: Value_of_VB_IB_IE_IC_VC_alpha_and_bita.sce"
		   ]
		  },
  {
"cell_type": "code",
	   "execution_count": null,
	   "metadata": {
	    "collapsed": true
	   },
	   "outputs": [],
"source": [
"// Exa 3.29\n",
"format('v',7);\n",
"clc;\n",
"clear;\n",
"close;\n",
"// Given data \n",
"V_CC=5;// in V\n",
"V_E= 1;// in V\n",
"V_BE= 0.7;// in V\n",
"R_E=5*10^3;//in Ω\n",
"R_C=5*10^3;//in Ω\n",
"R_B= 20*10^3;// in Ω\n",
"I_E= (V_CC-V_E)/R_E;//  in A\n",
"// For pnp transistor V_BE= V_E-V_B\n",
"V_B= V_E-V_BE;// in V\n",
"I_B= V_B/R_B;// in A\n",
"I_C= I_E-I_B;// in A\n",
"V_C= I_C*R_C-V_CC;// in V\n",
"bita= I_C/I_B;\n",
"alpha= I_C/I_E;\n",
"disp(V_B,'The value of V_B in volts is : ');\n",
"disp(I_B*10^3,'The value of I_B in mA is : ');\n",
"disp(I_E*10^3,'The value of I_E in mA is : ');\n",
"disp(I_C*10^3,'The value of I_C in mA is : ');\n",
"disp(V_C,'The value of V_C in volts is : ');\n",
"disp(bita,'The value of bita is : ');\n",
"disp(alpha,'The value of alpha is : ');"
   ]
   }
,
{
		   "cell_type": "markdown",
		   "metadata": {},
		   "source": [
			"## Example 3.2: Value_of_alpha_and_bita.sce"
		   ]
		  },
  {
"cell_type": "code",
	   "execution_count": null,
	   "metadata": {
	    "collapsed": true
	   },
	   "outputs": [],
"source": [
"// Exa 3.2\n",
"format('v',6);\n",
"clc;\n",
"clear;\n",
"close;\n",
"// Given data \n",
"V_E= 1.7;// in V\n",
"V_B= 1;// in V\n",
"RC= 5;// in kΩ\n",
"RE= 5;// in kΩ\n",
"RE= RE*10^3;// in Ω\n",
"RC= RC*10^3;// in Ω\n",
"RB= 100;//in kΩ\\n",
"RB= RB*10^3;// in Ω\n",
"V_CC= 10;// in V\n",
"V_BE= -10;// in volt\n",
"I_E= (V_CC-V_E)/RE;// in A\n",
"I_B= V_B/RB;// in V\n",
"// Formula I_B=  (1-alpha)*I_E\n",
"alpha= 1-I_B/I_E;\n",
"disp(alpha,'Value of alpha is : ')\n",
"bita= alpha/(1-alpha);\n",
"disp(bita,'Value of bita is : ')\n",
"V_C= (I_E-I_B)*RC-V_CC;// in volt\n",
"disp(V_C,'Collector voltage in volts is : ')\n",
"\n",
""
   ]
   }
,
{
		   "cell_type": "markdown",
		   "metadata": {},
		   "source": [
			"## Example 3.30: DC_voltage_and_value_of_gm.sce"
		   ]
		  },
  {
"cell_type": "code",
	   "execution_count": null,
	   "metadata": {
	    "collapsed": true
	   },
	   "outputs": [],
"source": [
"// Exa 3.30\n",
"format('v',7);\n",
"clc;\n",
"clear;\n",
"close;\n",
"// Given data\n",
"V_CC=5;// in V\n",
"V_T= 0.025;// in V\n",
"R_C=7.5*10^3;//in Ω\n",
"I_C= 0.5;// in mA\n",
"I_C= I_C*10^-3;// in A\n",
"I_E=I_C;// (approx) in A\n",
"V_C= V_CC-I_C*R_C;// in V\n",
"disp(V_C,'dc voltage at the collector in volt is : ')\n",
"gm= I_C/V_T;// in A/V\n",
"disp(gm*10^3,'The value of gm in mA/V is : ')\n",
"// v_be= -v_i\n",
"// v_c= -gm*v_be*R_C\n",
"vcbyvi= gm*R_C;// in V/V\n",
"disp(vcbyvi,'The value of vc/vi in V/V is : ')"
   ]
   }
,
{
		   "cell_type": "markdown",
		   "metadata": {},
		   "source": [
			"## Example 3.31: Input_resistance_and_overall_voltage_gain.sce"
		   ]
		  },
  {
"cell_type": "code",
	   "execution_count": null,
	   "metadata": {
	    "collapsed": true
	   },
	   "outputs": [],
"source": [
"// Exa 3.31\n",
"format('v',7);\n",
"clc;\n",
"clear;\n",
"close;\n",
"// Given data\n",
"V_T= 0.025;// in V\n",
"I_E= 0.5;// in mA\n",
"I_E= I_E*10^-3;// in mA\n",
"Rsig= 50;// in Ω\n",
"R_C= 5*10^3;// in Ω\n",
"re= V_T/I_E;// in ohm\n",
"Rin= Rsig+re;// in ohm\n",
"disp(Rin,'Input resistance in Ω is : ')\n",
"// Part(b)\n",
"// vo= -0.99*ie*R_C and ie= -v_sig/Rin\n",
"vo_by_v_sig= 0.99*R_C/Rin;// in V/V\n",
"disp(vo_by_v_sig,'The value of vo/vsig in V/V is : ')"
   ]
   }
,
{
		   "cell_type": "markdown",
		   "metadata": {},
		   "source": [
			"## Example 3.32: Input_resistance_and_overall_voltage_gain.sce"
		   ]
		  },
  {
"cell_type": "code",
	   "execution_count": null,
	   "metadata": {
	    "collapsed": true
	   },
	   "outputs": [],
"source": [
"// Exa 3.32\n",
"format('v',4);\n",
"clc;\n",
"clear;\n",
"close;\n",
"// Given data\n",
"bita= 200;\n",
"alpha= bita/(1+bita);\n",
"R_C= 100;// in Ω\n",
"R_B= 10;// in kΩ\n",
"Rsig= 1;// in kΩ\n",
"Rsig= Rsig*10^3;// in Ω\n",
"R_B= R_B*10^3;// in Ω\n",
"V_T= 25*10^-3;\n",
"V=1.5;// in V\n",
"I_E= 10;// in mA\n",
"I_E= I_E*10^-3;// in A\n",
"I_C= alpha*I_E;// in A\n",
"V_C= I_C*R_C;// in V\n",
"I_B= I_C/bita;// in A\n",
"V_B= V-(R_B*I_B)\n",
"gm= I_C/V_T;// in A/V\n",
"rpi= bita/gm;// in Ω\n",
"Rib= rpi;// in Ω\n",
"disp(Rib,'The value of Rib in Ω is : ')\n",
"Rin= R_B*rpi/(R_B+rpi);// in Ω\n",
"disp(Rin,'The value of Rin in Ω is : ')\n",
"// vbe= v_sig*Rin/(Rsig+Rin);\n",
"vbe_by_vsig= Rin/(Rsig+Rin);\n",
"// vo= -gm*vbe*R_C and = -gm*v_sig*Rin/(Rsig+Rin)\n",
"vo_by_vsig= -gm*R_C*vbe_by_vsig;// in V/V\n",
"disp(vo_by_vsig,'Overall voltage gain in V/V is : ')\n",
"// if \n",
"vo= 0.4;//(±) in V\n",
"vs= vo/abs(vo_by_vsig);// in V\n",
"vbe= vbe_by_vsig*vs;// in V\n",
"disp(vs*10^3,'The value of v_sig in mV is : ')\n",
"disp(vbe*10^3,'The value of v_be in mV is : ')\n",
"\n",
"// Note: There is some difference between in this coding and book solution. But Coding is correct.\n",
"\n",
"\n",
"\n",
""
   ]
   }
,
{
		   "cell_type": "markdown",
		   "metadata": {},
		   "source": [
			"## Example 3.33: Value_of_alpha_bita_and_Is.sce"
		   ]
		  },
  {
"cell_type": "code",
	   "execution_count": null,
	   "metadata": {
	    "collapsed": true
	   },
	   "outputs": [],
"source": [
"// Exa 3.33\n",
"format('v',7);\n",
"clc;\n",
"clear;\n",
"close;\n",
"// Given data\n",
"V_T= 0.025;// in V\n",
"// Part(a)\n",
"disp('Part (a)')\n",
"V_BE= 690;// in mV\n",
"V_BE=V_BE*10^-3;// in V\n",
"I_C= 1;// in mA\n",
"I_B= 50;// in µA\n",
"I_C=I_C*10^-3;// in A\n",
"I_B=I_B*10^-6;// in A\n",
"bita= I_C/I_B;\n",
"alpha= bita/(1+bita);\n",
"I_E= I_C/alpha;// in A\n",
"// I_C= I_S*%e^(V_BE/V_T)\n",
"I_S= I_C/(%e^(V_BE/V_T));\n",
"disp(bita,'The value of bita is : ')\n",
"disp(alpha,'The value of alpha is : ')\n",
"disp(I_E*10^3,'The value of I_E in mA is : ')\n",
"disp(I_S,'The value of I_S in amp is : ')\n",
"\n",
"// Part(b)\n",
"disp('Part (b)')\n",
"V_BE= 690;// in mV\n",
"V_BE=V_BE*10^-3;// in V\n",
"I_C= 1;// in mA\n",
"I_C=I_C*10^-3;// in A\n",
"I_E= 1.070;// in mA\n",
"I_E=I_E*10^-3;// in A\n",
"bita= I_C/I_B;\n",
"alpha= I_C/I_E;\n",
"bita= alpha/(1-alpha);\n",
"I_B= I_C/bita;// in A\n",
"// I_C= I_S*%e^(V_BE/V_T)\n",
"I_S= I_C/(%e^(V_BE/V_T));\n",
"disp(bita,'The value of bita is : ')\n",
"disp(alpha,'The value of alpha is : ')\n",
"disp(I_B*10^6,'The value of I_B in µA is : ')\n",
"disp(I_S,'The value of I_S in amp is : ')\n",
"\n",
"// Part(c)\n",
"disp('Part (C)')\n",
"V_BE= 580;// in mV\n",
"V_BE=V_BE*10^-3;// in V\n",
"I_E= 0.137;// in mA\n",
"I_B= 7;// in µA\n",
"I_E=I_E*10^-3;// in A\n",
"I_B=I_B*10^-6;// in A\n",
"//  I_C= alpha*I_E  = bita*I_B\n",
"bita= I_E/I_B-1;\n",
"alpha= bita/(1+bita);\n",
"I_C= bita*I_B;// in A\n",
"// I_C= I_S*%e^(V_BE/V_T)\n",
"I_S= I_C/(%e^(V_BE/V_T));\n",
"disp(bita,'The value of bita is : ')\n",
"disp(alpha,'The value of alpha is : ')\n",
"disp(I_C*10^3,'The value of I_C in mA is : ')\n",
"disp(I_S,'The value of I_S in amp is : ')\n",
"\n",
"// Part(d)\n",
"disp('Part (d)')\n",
"V_BE= 780;// in mV\n",
"V_BE=V_BE*10^-3;// in V\n",
"I_C= 10.10;// in mA\n",
"I_B= 120;// in µA\n",
"I_C=I_C*10^-3;// in A\n",
"I_B=I_B*10^-6;// in A\n",
"bita= I_C/I_B;\n",
"alpha= bita/(1+bita);\n",
"I_E= I_C/alpha;// in A\n",
"// I_C= I_S*%e^(V_BE/V_T)\n",
"I_S= I_C/(%e^(V_BE/V_T));\n",
"disp(bita,'The value of bita is : ')\n",
"disp(alpha,'The value of alpha is : ')\n",
"disp(I_E*10^3,'The value of I_E in mA is : ')\n",
"disp(I_S,'The value of I_S in amp is : ')\n",
"\n",
"// Part(e)\n",
"disp('Part (e)')\n",
"V_BE= 820;// in mV\n",
"V_BE=V_BE*10^-3;// in V\n",
"I_E= 75;// in mA\n",
"I_B= 1050;// in µA\n",
"I_E=I_E*10^-3;// in A\n",
"I_B=I_B*10^-6;// in A\n",
"//  I_C= alpha*I_E  = bita*I_B\n",
"bita= I_E/I_B-1;\n",
"alpha= bita/(1+bita);\n",
"I_C= bita*I_B;// in A\n",
"// I_C= I_S*%e^(V_BE/V_T)\n",
"I_S= I_C/(%e^(V_BE/V_T));\n",
"disp(bita,'The value of bita is : ')\n",
"disp(alpha,'The value of alpha is : ')\n",
"disp(I_C*10^3,'The value of I_C in mA is : ')\n",
"disp(I_S,'The value of I_S in amp is : ')\n",
""
   ]
   }
,
{
		   "cell_type": "markdown",
		   "metadata": {},
		   "source": [
			"## Example 3.3: Bias_voltage.sce"
		   ]
		  },
  {
"cell_type": "code",
	   "execution_count": null,
	   "metadata": {
	    "collapsed": true
	   },
	   "outputs": [],
"source": [
"// Exa 3.3\n",
"format('v',6);\n",
"clc;\n",
"clear;\n",
"close;\n",
"// Given data \n",
"V_CC= 10;// in V\n",
"V_CE= 3.2;// in V\n",
"RC= 6.8;// in kΩ\n",
"RC= RC*10^3;// in Ω\n",
"I_S= 1*10^-15;// in A\n",
"V_T= 25*10^-3;// in V\n",
"I_C1= (V_CC-V_CE)/RC;// in A\n",
"// Formula I_C= I_S*%e^(V_BE1/V_T)\n",
"V_BE1= V_T*log(I_C1/I_S);// in volt\n",
"disp(I_C1*10^3,'Collector current in mA is : ')\n",
"disp(V_BE1,'Value of V_BE in volts is : ')\n",
"\n",
"// Part (b)\n",
"v_in= 5*10^-3;// in V\n",
"Av= -(V_CC-V_CE)/V_T;// in V/V\n",
"disp(Av,'Voltage gain in V/V is : ')\n",
"v_o= abs(Av )*v_in;// in V\n",
"disp(v_o,'Change in output voltage in volts is : ')\n",
"\n",
"// Part (c) for V_CE= 0.3 V\n",
"V_CE= 0.3;// in V\n",
"I_C2= (V_CC-V_CE)/RC;// in A\n",
"// I_C1= I_S*%e^(V_BE1/V_T)      (i)\n",
"// I_C2= I_S*%e^(V_BE2/V_T)      (ii)\n",
"// divide the equation (ii) by (i)\n",
"delta_V_BE= V_T*log(I_C2/I_C1);// in volt    ( where delta_V_BE = V_BE2-V_BE1 )\n",
"disp(delta_V_BE*10^3 ,'The positive increament in V_BE in mV is : ')\n",
"\n",
"// Part (d)\n",
"v_o= 0.99*V_CC;// in V\n",
"I_C3= (V_CC-v_o)/RC;// in A\n",
"delta_V_BE= V_T*log(I_C3/I_C1);// in V\n",
"disp(delta_V_BE*10^3 ,'The negative increament in V_BE in mV is : ')\n",
"\n",
"\n",
"\n",
"\n",
"\n",
"\n",
"\n",
""
   ]
   }
,
{
		   "cell_type": "markdown",
		   "metadata": {},
		   "source": [
			"## Example 3.4: Design_a_fixed_bias_circuit.sce"
		   ]
		  },
  {
"cell_type": "code",
	   "execution_count": null,
	   "metadata": {
	    "collapsed": true
	   },
	   "outputs": [],
"source": [
"// Exa 3.4\n",
"format('v',7);\n",
"clc;\n",
"clear;\n",
"close;\n",
"// Given data \n",
"V_CC= 10;// in V\n",
"V_CE= 5;// in V\n",
"V_BE= 0.7;// in V\n",
"I_C= 5*10^-3;// in mA\n",
"bita= 100;\n",
"R_C= (V_CC-V_CE)/I_C;// in Ω\n",
"I_B= I_C/bita;// in A\n",
"R_B= (V_CC-V_BE)/I_B;// in Ω\n",
"disp(R_C*10^-3,'The value of R_C in kΩ is : ')\n",
"disp(I_B*10^6,'The value of I_B in µA is : ')\n",
"disp(R_B*10^-3,'The value of R_B in kΩ is : ')\n",
"\n",
"// Note: The value of base current in the book is wrong\n",
"\n",
"\n",
""
   ]
   }
,
{
		   "cell_type": "markdown",
		   "metadata": {},
		   "source": [
			"## Example 3.5: Operating_point.sce"
		   ]
		  },
  {
"cell_type": "code",
	   "execution_count": null,
	   "metadata": {
	    "collapsed": true
	   },
	   "outputs": [],
"source": [
"// Exa 3.5\n",
"format('v',7);\n",
"clc;\n",
"clear;\n",
"close;\n",
"// Given data \n",
"V_CC= 6;// in V\n",
"bita= 100;\n",
"R_C= 2;// in kΩ\n",
"R_C= R_C*10^3;// in Ω\n",
"R_B= 530;// in kΩ\n",
"R_B= R_B*10^3;// in Ω\n",
"// when I_C=0\n",
"I_C=0;\n",
"V_CE= V_CC-I_C*R_C;// in volt\n",
"V_CE= 0:0.1:6;// in Volt\n",
"I_C= (V_CC-V_CE)/R_C*1000;// in mA\n",
"plot(V_CE,I_C);\n",
"title('DC load line')\n",
"xlabel('V_CE in volts')\n",
"ylabel('I_C in mA')\n",
"disp('DC load line shown in figure')\n",
"// When V_CE= 0\n",
"I_C= V_CC/R_C;//in A\n",
"// Operating point for silicon transistor \n",
"V_BE= 0.7;// in V\n",
"I_B= (V_CC-V_BE)/R_B;//in A\n",
"I_CQ= bita*I_B;// in A\n",
"V_CEQ= V_CC-I_CQ*R_C;// in volt\n",
"disp('Operating point is '+string(V_CEQ)+' V and '+string(I_CQ*10^3)+' mA')"
   ]
   }
,
{
		   "cell_type": "markdown",
		   "metadata": {},
		   "source": [
			"## Example 3.6: Q_point_values.sce"
		   ]
		  },
  {
"cell_type": "code",
	   "execution_count": null,
	   "metadata": {
	    "collapsed": true
	   },
	   "outputs": [],
"source": [
"// Exa 3.6\n",
"format('v',7);\n",
"clc;\n",
"clear;\n",
"close;\n",
"// Given data \n",
"V_CC= 12;// in V\n",
"V_BE= 0.7;// in V\n",
"bita= 100;\n",
"R_C= 10;// in kΩ\n",
"R_C= R_C*10^3;// in Ω\n",
"R_B= 100;// in kΩ\n",
"R_B= R_B*10^3;// in Ω\n",
"I_BQ= (V_CC-V_BE)/((1+bita)*R_C+R_B);// in A\n",
"I_CQ= bita*I_BQ;// in A\n",
"V_CEQ= V_CC-(I_CQ+I_BQ)*R_C;// in volt\n",
"// For dc load line\n",
"// When\n",
"I_C=0;\n",
"V_CE= V_CC-(I_C+I_BQ)*R_C;// in volt\n",
"// When\n",
"V_CE= 0;\n",
"I_C= (V_CC-I_BQ*R_C)/R_C;//in A\n",
"disp('Q- point values for circuit is '+string(V_CEQ)+' V and '+string(I_CQ*10^3)+' mA')\n",
""
   ]
   }
,
{
		   "cell_type": "markdown",
		   "metadata": {},
		   "source": [
			"## Example 3.7: Collector_to_base_bias_circuit.sce"
		   ]
		  },
  {
"cell_type": "code",
	   "execution_count": null,
	   "metadata": {
	    "collapsed": true
	   },
	   "outputs": [],
"source": [
"// Exa 3.7\n",
"format('v',6);\n",
"clc;\n",
"clear;\n",
"close;\n",
"// Given data \n",
"V_CC= 15;// in V\n",
"V_BE= 0.7;// in V\n",
"V_CE= 5;// in V\n",
"I_C= 5;// in mA\n",
"I_C=I_C*10^-3;// in A\n",
"bita= 100;\n",
"I_B= I_C/bita;// in A\n",
"disp(I_B*10^6,'Base current in µA is : ')\n",
"//Apply KVL to collector circuit ,  V_CC= (I_C+I_B)*R_C+V_CE\n",
"R_C= (V_CC-V_CE)/(I_C+I_B);// in Ω\n",
"disp(R_C*10^-3,'The value of R_C in kΩ is : ')\n",
"//Apply KVL to base or input circuit,  V_CC= (I_C+I_B)*R_C+V_CE + I_B*R_B\n",
"R_B= (V_CC-V_BE-(I_C+I_B)*R_C)/I_B;// in ohm\n",
"disp(R_B*10^-3,'The value of R_B in kΩ is : ')\n",
""
   ]
   }
,
{
		   "cell_type": "markdown",
		   "metadata": {},
		   "source": [
			"## Example 3.8: Value_of_RB.sce"
		   ]
		  },
  {
"cell_type": "code",
	   "execution_count": null,
	   "metadata": {
	    "collapsed": true
	   },
	   "outputs": [],
"source": [
"// Exa 3.8\n",
"format('v',7);\n",
"clc;\n",
"clear;\n",
"close;\n",
"// Given data \n",
"V_BE= 0.7;// in V\n",
"V_CE= 3;// in V\n",
"I_C= 1;// in mA\n",
"I_C=I_C*10^-3;// in A\n",
"bita= 100;\n",
"I_B= I_C/bita;// in A\n",
"// V_CE= V_BE+V_CB and V_CB= I_B*R_B\n",
"R_B= (V_CE-V_BE)/I_B;// in Ω\n",
"disp(R_B*10^-3,'The value of R_B in kΩ is : ')"
   ]
   }
,
{
		   "cell_type": "markdown",
		   "metadata": {},
		   "source": [
			"## Example 3.9: Operating_point.sce"
		   ]
		  },
  {
"cell_type": "code",
	   "execution_count": null,
	   "metadata": {
	    "collapsed": true
	   },
	   "outputs": [],
"source": [
"// Exa 3.9\n",
"format('v',7);\n",
"clc;\n",
"clear;\n",
"close;\n",
"// Given data \n",
"R1= 10;// in kΩ\n",
"R1=R1*10^3;// in Ω\n",
"R2= 5;// in kΩ\n",
"R2=R2*10^3;// in Ω\n",
"RC= 1;// in kΩ\n",
"RC=RC*10^3;// in Ω\n",
"RE= 2;// in kΩ\n",
"RE=RE*10^3;// in Ω\n",
"V_CC= 15;// in V\n",
"V_BE= 0.7;// in V\n",
"// When\n",
"I_C=0;\n",
"V_CE= V_CC-I_C*(RC+RE);// in V\n",
"// When V_CE= 0\n",
"I_C= V_CC/(RC+RE);// in A\n",
"V_B= V_CC*R2/(R1+R2);// in V\n",
"I_E= (V_B-V_BE)/RE;// in A\n",
"I_C= I_E;// in A (approx)\n",
"I_CQ= I_C;// in A\n",
"V_CE= V_CC-I_C*(RC+RE);// in V\n",
"V_CEQ= V_CE;// in V\n",
"V_CE= 0:0.1:15;// in Volt\n",
"I_C= (V_CC-V_CE)/(RC+RE)*1000;// in mA\n",
"plot(V_CE,I_C);\n",
"title('DC load line')\n",
"xlabel('V_CE in volts')\n",
"ylabel('I_C in mA')\n",
"disp('DC load line shown in figure')\n",
"disp('Operating point is '+string(V_CEQ)+' V and '+string(I_CQ*10^3)+' mA')"
   ]
   }
],
"metadata": {
		  "kernelspec": {
		   "display_name": "Scilab",
		   "language": "scilab",
		   "name": "scilab"
		  },
		  "language_info": {
		   "file_extension": ".sce",
		   "help_links": [
			{
			 "text": "MetaKernel Magics",
			 "url": "https://github.com/calysto/metakernel/blob/master/metakernel/magics/README.md"
			}
		   ],
		   "mimetype": "text/x-octave",
		   "name": "scilab",
		   "version": "0.7.1"
		  }
		 },
		 "nbformat": 4,
		 "nbformat_minor": 0
}
