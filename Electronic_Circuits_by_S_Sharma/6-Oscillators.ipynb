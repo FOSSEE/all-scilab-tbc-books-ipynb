{
"cells": [
 {
		   "cell_type": "markdown",
	   "metadata": {},
	   "source": [
       "# Chapter 6: Oscillators"
	   ]
	},
{
		   "cell_type": "markdown",
		   "metadata": {},
		   "source": [
			"## Example 6.10: Frequency_of_oscillation.sce"
		   ]
		  },
  {
"cell_type": "code",
	   "execution_count": null,
	   "metadata": {
	    "collapsed": true
	   },
	   "outputs": [],
"source": [
"// Exa 6.10\n",
"format('v',8);\n",
"clc;\n",
"clear;\n",
"close;\n",
"// Given data\n",
"R1= 220;// in kohm\n",
"R1=R1*10^3;// in ohm\n",
"R2=R1;// in ohm\n",
"C1= 250;// in pF\n",
"C1= C1*10^-12;// in F\n",
"C2=C1;// in F\n",
"f= 1/(2*%pi*R1*C1);\n",
"disp(f,'Frequency of oscilltions in Hz is : ')"
   ]
   }
,
{
		   "cell_type": "markdown",
		   "metadata": {},
		   "source": [
			"## Example 6.11: Value_of_C.sce"
		   ]
		  },
  {
"cell_type": "code",
	   "execution_count": null,
	   "metadata": {
	    "collapsed": true
	   },
	   "outputs": [],
"source": [
"// Exa 6.11\n",
"format('v',7);\n",
"clc;\n",
"clear;\n",
"close;\n",
"// Given data\n",
"R= 10;// in kohm\n",
"R=R*10^3;// in ohm\n",
"f=1000;\n",
"fie= 60;// in °\n",
"// The impedence of given circuit , Z= R+j*1/(omega*C)\n",
"// the phase shift, tan(fie)= imaginary part/ Real part\n",
"// tand(fie) = 1/(omega*R*C)\n",
"C= 1/(2*%pi*R*tand(fie));\n",
"disp(C*10^12,'The value of C in pF is : ')\n",
"\n",
"// Note : There is an calculation error to evaluate the value of C, So the answer in the book is wrong"
   ]
   }
,
{
		   "cell_type": "markdown",
		   "metadata": {},
		   "source": [
			"## Example 6.12: Frequency_of_oscillatoin_and_minimum_gain.sce"
		   ]
		  },
  {
"cell_type": "code",
	   "execution_count": null,
	   "metadata": {
	    "collapsed": true
	   },
	   "outputs": [],
"source": [
"// Exa 6.12\n",
"format('v',7);\n",
"clc;\n",
"clear;\n",
"close;\n",
"// Given data\n",
"L= 50;// in µH\n",
"L= L*10^-6;// in H\n",
"C1= 300;// in pF\n",
"C1= C1*10^-12;// in F\n",
"C2= 100;// in pF\n",
"C2= C2*10^-12;// in F\n",
"C_eq= C1*C2/(C1+C2);// in F\n",
"f= 1/(2*%pi*sqrt(L*C_eq));// in Hz\n",
"disp(f*10^-6,'Frequency of oscillations in MHz is : ')\n",
"Bita= C2/C1;\n",
"// (iii)\n",
"// A*Bita >=1, so A*Bita= 1  (for sustained oscillations)\n",
"Amin= 1/Bita;\n",
"disp(Amin,'Minimum gain to substain oscillations is : ')\n",
""
   ]
   }
,
{
		   "cell_type": "markdown",
		   "metadata": {},
		   "source": [
			"## Example 6.14: The_range_of_capacitance.sce"
		   ]
		  },
  {
"cell_type": "code",
	   "execution_count": null,
	   "metadata": {
	    "collapsed": true
	   },
	   "outputs": [],
"source": [
"// Exa 6.14\n",
"format('v',4);\n",
"clc;\n",
"clear;\n",
"close;\n",
"// Given data\n",
"L1= 2;// in mH\n",
"L1= L1*10^-3;// in H\n",
"L2= 1.5;// in mH\n",
"L2= L2*10^-3;// in H\n",
"// Formula f= 1/(2*%pi*sqrt((L1+L2)*C)\n",
"// For f= 1000 kHz, C will be maximum\n",
"f=1000;// in kHz\n",
"f=f*10^3;// in Hz\n",
"Cmax= 1/((2*%pi*f)^2*(L1+L2));// in F\n",
"// For f= 2000 kHz, C will be maximum\n",
"f=2000;// in kHz\n",
"f=f*10^3;// in Hz\n",
"Cmin= 1/((2*%pi*f)^2*(L1+L2));// in F\n",
"disp(Cmin*10^12,'Minimum Capacitance in pF is : ')\n",
"disp(Cmax*10^12,'Maximum Capacitance in pF is : ')"
   ]
   }
,
{
		   "cell_type": "markdown",
		   "metadata": {},
		   "source": [
			"## Example 6.1: Minimum_gain_of_the_amplifier_to_provide_oscillation.sce"
		   ]
		  },
  {
"cell_type": "code",
	   "execution_count": null,
	   "metadata": {
	    "collapsed": true
	   },
	   "outputs": [],
"source": [
"// Exa 6.1\n",
"format('v',7);\n",
"clc;\n",
"clear;\n",
"close;\n",
"// Given data\n",
"Vf= 0.0125;// in volt\n",
"Vo= 0.5;// in volt\n",
"Bita= Vf/Vo;\n",
"// For oscillator A*Bita= 1\n",
"A= 1/Bita;\n",
"disp('Amplifier Should have a minimum gain of '+string(A)+' to provide oscillation')"
   ]
   }
,
{
		   "cell_type": "markdown",
		   "metadata": {},
		   "source": [
			"## Example 6.2: The_frequency_of_oscillation.sce"
		   ]
		  },
  {
"cell_type": "code",
	   "execution_count": null,
	   "metadata": {
	    "collapsed": true
	   },
	   "outputs": [],
"source": [
"// Exa 6.2\n",
"format('v',6);\n",
"clc;\n",
"clear;\n",
"close;\n",
"// Given data\n",
"R1= 50;// in kohm\n",
"R1=R1*10^3;// in ohm\n",
"R2=R1;// in ohm\n",
"R3=R2;// in ohm\n",
"C1= 60;// in pF\n",
"C1= C1*10^-12;// in F\n",
"C2=C1;// in F\n",
"C3=C2;// in F\n",
"f= 1/(2*%pi*R1*C1*sqrt(6));\n",
"disp(f*10^-3,'Frequency of oscilltions in kHz is : ')"
   ]
   }
,
{
		   "cell_type": "markdown",
		   "metadata": {},
		   "source": [
			"## Example 6.3: Wein_Bridge_oscillator.sce"
		   ]
		  },
  {
"cell_type": "code",
	   "execution_count": null,
	   "metadata": {
	    "collapsed": true
	   },
	   "outputs": [],
"source": [
"// Exa 6.3\n",
"format('v',5);\n",
"clc;\n",
"clear;\n",
"close;\n",
"// Given data\n",
"f=2;// in kHz\n",
"f=f*10^3;// in Hz\n",
"// Let\n",
"R= 10;// in kohm   (As R should be greater than 1 kohm)\n",
"R=R*10^3;// in ohm\n",
"// Formula f= 1/(2*%pi*R*C)\n",
"C= 1/(2*%pi*f*R);// in F\n",
"C= C*10^9;// in nF\n",
"// For Bita to be 1/3, Choose\n",
"R4= R;// in ohm\n",
"R3= 2*R4;// in ohm\n",
"disp(C,'Value of C in nF is : ')\n",
"disp(R3*10^-3,'Value of R3 in kohm is : ')\n",
"disp(R4*10^-3,'Value of R4 in kohm is : ')\n",
""
   ]
   }
,
{
		   "cell_type": "markdown",
		   "metadata": {},
		   "source": [
			"## Example 6.4: Frequency_of_oscillations.sce"
		   ]
		  },
  {
"cell_type": "code",
	   "execution_count": null,
	   "metadata": {
	    "collapsed": true
	   },
	   "outputs": [],
"source": [
"// Exa 6.4\n",
"format('v',7);\n",
"clc;\n",
"clear;\n",
"close;\n",
"// Given data\n",
"R1= 200;// in kohm\n",
"R1=R1*10^3;// in ohm\n",
"R2=R1;// in ohm\n",
"C1= 200;// in pF\n",
"C1= C1*10^-12;// in F\n",
"C2=C1;// in F\n",
"f= 1/(2*%pi*R1*C1);// in Hz\n",
"disp(f*10^-3,'Frequency of oscilltions in kHz is : ')\n",
"\n",
"// Note: Calculation to find the value of f in the book is wrong, so answer in the book is wrong"
   ]
   }
,
{
		   "cell_type": "markdown",
		   "metadata": {},
		   "source": [
			"## Example 6.5: Operating_frequency.sce"
		   ]
		  },
  {
"cell_type": "code",
	   "execution_count": null,
	   "metadata": {
	    "collapsed": true
	   },
	   "outputs": [],
"source": [
"// Exa 6.5\n",
"format('v',7);\n",
"clc;\n",
"clear;\n",
"close;\n",
"// Given data\n",
"L= 100;// in µH\n",
"L= L*10^-6;// in H\n",
"C1= .001;// in µF\n",
"C1= C1*10^-6;// in F\n",
"C2= .01;// in µF\n",
"C2= C2*10^-6;// in F\n",
"C= C1*C2/(C1+C2);// in F\n",
"// (i)\n",
"f= 1/(2*%pi*sqrt(L*C));// in Hz\n",
"disp(round(f*10^-3),'Operating frequency in kHz is : ')\n",
"// (ii)\n",
"Bita= C1/C2;\n",
"disp(Bita,'Feedback fraction is : ')\n",
"// (iii)\n",
"// A*Bita >=1, so Amin*Bita= 1\n",
"Amin= 1/Bita;\n",
"disp(Amin,'Minimum gain to substain oscillations is : ')\n",
""
   ]
   }
,
{
		   "cell_type": "markdown",
		   "metadata": {},
		   "source": [
			"## Example 6.6: Operating_frequency.sce"
		   ]
		  },
  {
"cell_type": "code",
	   "execution_count": null,
	   "metadata": {
	    "collapsed": true
	   },
	   "outputs": [],
"source": [
"// Exa 6.6\n",
"format('v',6);\n",
"clc;\n",
"clear;\n",
"close;\n",
"// Given data\n",
"L= 15;// in µH\n",
"L= L*10^-6;// in H\n",
"C1= .004;// in µF\n",
"C1= C1*10^-6;// in F\n",
"C2= .04;// in µF\n",
"C2= C2*10^-6;// in F\n",
"C= C1*C2/(C1+C2);// in F\n",
"f= 1/(2*%pi*sqrt(L*C));// in Hz\n",
"disp(f*10^-3,'Frequency of oscillations in kHz is : ')"
   ]
   }
,
{
		   "cell_type": "markdown",
		   "metadata": {},
		   "source": [
			"## Example 6.7: Frequency_of_oscillator.sce"
		   ]
		  },
  {
"cell_type": "code",
	   "execution_count": null,
	   "metadata": {
	    "collapsed": true
	   },
	   "outputs": [],
"source": [
"// Exa 6.7\n",
"format('v',7);\n",
"clc;\n",
"clear;\n",
"close;\n",
"// Given data\n",
"L= 0.01;// in H\n",
"C= 10;// in pF\n",
"C= C*10^-12;// in F\n",
"f= 1/(2*%pi*sqrt(L*C));// in Hz\n",
"disp(f*10^-3,'Frequency of oscillations in kHz is : ')\n",
"\n",
"// Note: Calculation to find the value of f in the book is wrong, so answer in the book is wrong"
   ]
   }
,
{
		   "cell_type": "markdown",
		   "metadata": {},
		   "source": [
			"## Example 6.8: Value_of_fs_and_fp.sce"
		   ]
		  },
  {
"cell_type": "code",
	   "execution_count": null,
	   "metadata": {
	    "collapsed": true
	   },
	   "outputs": [],
"source": [
"// Exa 6.8\n",
"format('v',5);\n",
"clc;\n",
"clear;\n",
"close;\n",
"// Given data\n",
"L= 0.8;// in H\n",
"\n",
"C= .08;// in pF\n",
"C= C*10^-12;// in F\n",
"C_M= 1.9;// in pF\n",
"C_M= C_M*10^-12;// in F\n",
"C_T= C*C_M/(C+C_M);// in F\n",
"R=5;// in kohm\n",
"f_s= 1/(2*%pi*sqrt(L*C));// in Hz\n",
"disp(f_s*10^-3,'Series resonant frequency in kHz is : ')\n",
"// (ii)\n",
"f_p= 1/(2*%pi*sqrt(L*C_T));// in Hz\n",
"disp(f_p*10^-3,'parallel resonant frequency in kHz is : ')\n",
"\n",
"// Note: Calculation to find the value of parallel resonant frequency in the book is wrong, so answer in the book is wrong"
   ]
   }
],
"metadata": {
		  "kernelspec": {
		   "display_name": "Scilab",
		   "language": "scilab",
		   "name": "scilab"
		  },
		  "language_info": {
		   "file_extension": ".sce",
		   "help_links": [
			{
			 "text": "MetaKernel Magics",
			 "url": "https://github.com/calysto/metakernel/blob/master/metakernel/magics/README.md"
			}
		   ],
		   "mimetype": "text/x-octave",
		   "name": "scilab",
		   "version": "0.7.1"
		  }
		 },
		 "nbformat": 4,
		 "nbformat_minor": 0
}
