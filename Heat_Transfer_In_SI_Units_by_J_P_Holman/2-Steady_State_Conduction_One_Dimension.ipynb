{
"cells": [
 {
		   "cell_type": "markdown",
	   "metadata": {},
	   "source": [
       "# Chapter 2: Steady State Conduction One Dimension"
	   ]
	},
{
		   "cell_type": "markdown",
		   "metadata": {},
		   "source": [
			"## Example 2.10: rod_with_heat_sources.sce"
		   ]
		  },
  {
"cell_type": "code",
	   "execution_count": null,
	   "metadata": {
	    "collapsed": true
	   },
	   "outputs": [],
"source": [
"clear;\n",
"clc;\n",
"printf('\t\t\tExample Number 2.10\n\n\n');\n",
"// rod with heat sources \n",
"// illustration2.10\n",
"// solution\n",
"\n",
"// q_dot is uniform heat source per unit volume \n",
"// h is convection coefficient\n",
"// k is heat transfer coefficient\n",
"// A is area of crossection\n",
"// P is perimeter \n",
"// Tinf is environment temperature \n",
"// we first make an energy balance on the element of the rod shown in figure(2-10)\n",
"// energy in left place + heat generated in element  =  energy out right face + energy lost by convection\n",
"// or \n",
"// -(k*A*dT_by_dx)+(q_dot*A*dx) = -(k*A(dT_by_dx+(d2T_by_dx2)*dx))+h*P*dx*(T-Tinf)\n",
"// simlifying we have \n",
"// d2T_by_dx2-((h*P)/(k*A))*(T-Tinf)+q_dot/k = 0\n",
"// replacing theta = (T-Tinf) and (square meter) = ((h*P)/(k*A))\n",
"// d2theta_by_dx2-(square meter)*theta+q_dot/k = 0\n",
"// we can make a further substitution as theta` = theta-(q_dot/(k*(square meter)))\n",
"// so that our differential equation becomes \n",
"// d2theta`_by_dx2-(square meter)*theta`\n",
"// which has the general solution theta` = C1*exp^(-m*x)+C2*exp^(m*x)\n",
"// the two end temperatures are used to establish the boundary conditions:\n",
"// theta` = theta1` = T1-Tinf-q_dot/(k*(square meter)) = C1+C2\n",
"// theta` = theta2` = T2-Tinf-q_dot/(k*(square meter)) = C1*exp^(-m*L)+C2*exp^(m*L)\n",
"// solving for the constants C1 and C2 gives \n",
"// (((theta1`*exp^(2*m*L)-theta2`*exp^(m*L))*exp^(-m*x))+((theta2`exp^(m*L)-theta1`)exp^(m*x))/(exp^(2*m*L)-1))\n",
"printf('the expression for the temperature distribution in the rod is ');\n",
"printf('\n theta` = (((theta1`*exp^(2*m*L)-theta2`*exp^(m*L))*exp^(-m*x))+((theta2`exp^(m*L)-theta1`)exp^(m*x))/(exp^(2*m*L)-1))');\n",
"printf('\n for an infinitely long heat generating fin with the left end maintained at T1, the temperature distribution becomes ');\n",
"printf('\n theta`/theta1 = exp^(-m*x)');\n",
"\n",
"\n",
""
   ]
   }
,
{
		   "cell_type": "markdown",
		   "metadata": {},
		   "source": [
			"## Example 2.11: influence_of_contact_conductance_on_heat_transfer.sce"
		   ]
		  },
  {
"cell_type": "code",
	   "execution_count": null,
	   "metadata": {
	    "collapsed": true
	   },
	   "outputs": [],
"source": [
"clear;\n",
"clc;\n",
"printf('\t\t\tExample Number 2.11\n\n\n');\n",
"// influence of contact conductance on heat transfer\n",
"// illustration2.11\n",
"// solution\n",
"\n",
"d = 0.03;//[m] diameter of steel bar\n",
"l = 0.1;//[m] length of steel bar\n",
"A = (%pi*d^(2))/4;// [square meter] crossectional area of bar \n",
"k = 16.3;// [W/square meter per degree celsius] thermal conductivity of tube \n",
"hc = 1893.93;// [W/square meter per degree celsius] contact coefficient\n",
"// the overall heat flow is subjected to three thermal resistances \n",
"// one conduction resistance for each bar\n",
"// contact resistance \n",
"Rth = l/(k*A);// [degree celsius /W]\n",
"// from table(2-2) the contact resistance is \n",
"Rc = 1/(hc*A);// [degree celsius /W]\n",
"Rt = 2*Rth+Rc;// [degree celsius /W] total resistance\n",
"dt = 100;// [degree celsius] temperature difference\n",
"q = dt/Rt;// [W] overall heat flow\n",
"printf('overall heat flow is %f W',q);\n",
"// temperature drop across the contact is found by taking the ratio \n",
"// of the contact resistance to the total thermal resistance \n",
"dt_c = (Rc/(2*Rth))*dt;// [degree celsius]\n",
"printf('\nthe temperature drop across the contact is %f degree celsius',dt_c);\n",
""
   ]
   }
,
{
		   "cell_type": "markdown",
		   "metadata": {},
		   "source": [
			"## Example 2.1: multilayer_conduction.sce"
		   ]
		  },
  {
"cell_type": "code",
	   "execution_count": null,
	   "metadata": {
	    "collapsed": true
	   },
	   "outputs": [],
"source": [
"clear;\n",
"clc;\n",
"printf('\t\t\tExample Number 2.1\n\n\n');\n",
"// multilayer conduction\n",
"// illustration2.1\n",
"// solution\n",
"\n",
"dx1 = 0.1;// [m] thickness of layer of common brick\n",
"k1 = 0.7;// [W/m degree celsius] heat transfer coefficient of common brick\n",
"dx2 = 0.0375;// [m] thickness of layer of gypsum plaster\n",
"k2 = 0.48;// [W/m degree celsius] heat transfer coefficient gypsum plaster\n",
"Rb = dx1/k1;// [square meter degree celsius /W] thermal resistance of brick\n",
"Rp = dx2/k2;// [square meter degree celsius /W] thermal resistance of gypsum plaster\n",
"R = Rb+Rp;// [square meter degree celsius /W] thermal resistance without insulation\n",
"R1 = R/0.2;// [square meter degree celsius /W] with insulation \n",
"// heat loss with the rock-wool insulation is 20 percent \n",
"Rrw = R1-R;// [square meter degree celsius /W]\n",
"k3 = 0.065;// [W/m degree celsius] heat transfer coefficient\n",
"dx3 = Rrw*k3;// [m]\n",
"printf('length of thickness is %f cm added to reduce the heat loss(or gain) through wall by 80 percent',dx3*100);\n",
""
   ]
   }
,
{
		   "cell_type": "markdown",
		   "metadata": {},
		   "source": [
			"## Example 2.2: multilayer_cylindrical_system.sce"
		   ]
		  },
  {
"cell_type": "code",
	   "execution_count": null,
	   "metadata": {
	    "collapsed": true
	   },
	   "outputs": [],
"source": [
"clear;\n",
"clc;\n",
"printf('\t\t\tExample Number 2.2\n\n\n');\n",
"// multilayer cylindrical system\n",
"// illustration2.2\n",
"// solution\n",
"\n",
"ID = 0.02;// [m] inner diameter of steel\n",
"OD = 0.04;//[m] outer diameter of steel\n",
"t = 0.03;//[m] thickness of asbestos insulation\n",
"// system is like three concentric cylinders \n",
"T1 = 600;// [degree celsius] inside wall temperature\n",
"T2 = 100;// [degree celsius] outside insulation temperature\n",
"Ks = 19;//[W/m degree celsius] heat transfer coefficient of steel\n",
"Ka = 0.2;// [W/m degree celsius] heat transfer coefficient of asbestos\n",
"// heat flow is given by per unit length\n",
"Q_l = ((2*22*(T1-T2)/7)/((log(OD/ID)/Ks)+(log(0.1/OD)/Ka)));// [W/m]\n",
"// above calculated heat flow is used to calculate the interface temperature\n",
"// between the outside wall and the insulation\n",
"Ta = Q_l*(log(0.1/OD)/(2*3.14*Ka))+T2;// [degree celsius] Ta is interface temperature\n",
"printf('heat flow is given by %f W/m',Q_l);\n",
"printf('\n the interface temperature is %f degree celsius ',Ta);"
   ]
   }
,
{
		   "cell_type": "markdown",
		   "metadata": {},
		   "source": [
			"## Example 2.3: heat_transfer_through_a_composite_wall.sce"
		   ]
		  },
  {
"cell_type": "code",
	   "execution_count": null,
	   "metadata": {
	    "collapsed": true
	   },
	   "outputs": [],
"source": [
"clear;\n",
"clc;\n",
"printf('\t\t\tExample Number 2.3\n\n\n');\n",
"// heat transfer through a composite wall\n",
"// illustration2.3\n",
"// solution\n",
"\n",
"// 1. heat transfer through studs for unit depth\n",
"l = 0.0413;// [m] length of wood studs\n",
"b = 1.0;// [m] unit depth\n",
"A = l*b;// [square meter] area of studs for unit depth\n",
"hi = 7.5;// [W/square meter per degree celsius] convectional heat transfer coefficient\n",
"ho = 15;// [W/square meter per degree celsius] convectional heat transfer coefficient\n",
"Kb = 0.69;// [W/m per degree celsius] heat transfer coefficient of brick\n",
"Kgi = 0.96;// [W/m per degree celsius] heat transfer coefficient of gypsum inner sheath\n",
"Ki = 0.04;// [W/m per degree celsius] heat transfer coefficient of insulation\n",
"Kws = 0.1;// [W/m per degree celsius] heat transfer coefficient of wood stud\n",
"Kgo = 0.48;// [W/m per degree celsius] heat transfer coefficient of gypsum outer sheath\n",
"Rair = 1/(ho*A);// [degree celsius /W] convection resistance outside of brick\n",
"dx_b = 0.08;// [m] thickness of brick\n",
"dx_os = 0.019;//[m] thickness of outer sheet\n",
"dx_ws = 0.0921;// [m] thickness of wood stud\n",
"dx_is = 0.019;// [m] thickness of inner sheet\n",
"Rb = dx_b/(Kb*A);// [degree celsius /W] conduction resistance in brick\n",
"Ros = dx_os/(Kgi*A);// [degree celsius /W] conduction resistance through outer sheet\n",
"Rws = dx_ws/(Kws*A);// [degree celsius /W] conduction resistance through wood stud\n",
"Ris = dx_is/(Kgo*A);// [degree celsius /W] conduction resistance through inner sheet\n",
"Ri = 1/(hi*A);// [degree celsius /W] convection resistance on inside\n",
"Rt = Rair+Rb+Ros+Rws+Ris+Ri;// [degree celsius /W] total thermal resistance through the wood stud section\n",
"printf('total thermal resistance through the wood stud section is %f degree celsius /W',Rt);\n",
"// 2. heat transfer through insulation section \n",
"A1 = 0.406-A;// [square meter] area of insulation section for unit depth\n",
"dx_ins = 0.0921;// [m] thickness of insulation\n",
"Rins = dx_ins/(Ki*A1);// [degree celsius /W] conduction resistance through insulation section\n",
"// five of the materials are same but resistance involve different area \n",
"// i.e. (40.6-4.13) cm instead of 4.13 cm \n",
"// so that each of the previous must be multiplied by a factor of (4.13/(40.6-4.13)) = 0.113 \n",
"Rt_ins = (Rair+Rb+Ros+Ris+Ri)*0.113+Rins;// [degree celsius /W] total resistance through insulation section \n",
"printf('\n total thermal resistance through the insulation section is %f degree celsius /W',Rt_ins);\n",
"R_overall = 1/((1/Rt)+(1/Rt_ins));// [degree celsius /W] overall resistance for the section\n",
"// the value is related to overall heat transfer coefficient by \n",
"// Q = U*A*dt = dt/R_overall \n",
"// where A is area of total section\n",
"A_ = 0.406;// [square meter] area of total section\n",
"U = 1/(R_overall*A_);// [W/square meter degree celsius] overall heat transfer coefficient\n",
"// R value is somewhat different from thermal resistance and is given by\n",
"R_value = 1/U;// [degree celsius square meter/W] R value of system\n",
"printf('\n overall heat transfer coefficient is %f W/square meter per degree celsius',U);\n",
"printf('\n R value is %f square meter/W',R_value);"
   ]
   }
,
{
		   "cell_type": "markdown",
		   "metadata": {},
		   "source": [
			"## Example 2.4: overall_heat_transfer_coefficient_for_a_tube.sce"
		   ]
		  },
  {
"cell_type": "code",
	   "execution_count": null,
	   "metadata": {
	    "collapsed": true
	   },
	   "outputs": [],
"source": [
"clear;\n",
"clc;\n",
"printf('\t\t\tExample Number 2.4\n\n\n');\n",
"// overall heat transfer coefficient for a tube \n",
"// illustration2.3\n",
"// solution\n",
"\n",
"ID = 0.025;// [m] inner diameter of steel\n",
"OD = ID+2*0.0008;//[m] outer diameter of steel\n",
"hi = 3500;// [W/square meter per degree celsius] convectional heat transfer coefficient of inside\n",
"ho = 7.6;// [W/square meter per degree celsius] convectional heat transfer coefficient of outside \n",
"L = 1.0;// [m] tube length\n",
"Ai = %pi*ID*L;// [square meter] inside crossectional area \n",
"Ao = %pi*OD*L;// [square meter] outside crossectional area \n",
"k = 16;// [W/square meter per degree celsius] thermal conductivity of tube\n",
"Ri = 1/(hi*Ai);// [degree celsius /W] convection resistance inside tube\n",
"Rt = log(OD/ID)/(2*3.14*k*L);// [degree celsius /W] thermal resistance \n",
"Ro = 1/(ho*Ao);// [degree celsius /W] convection resistance outside tube\n",
"R_total = Ri+Rt+Ro;// [degree celsius /W] total thermal and convection  resistance \n",
"Uo = 1/(Ao*R_total);// [W/square meter degree celsius] overall heat transfer coefficient\n",
"printf('overall heat transfer coefficient is %f W/square meter degree celsius',Uo);\n",
"Tw = 50;// [degree celsius] water temperature\n",
"Ta = 20;// [degree celsius] surrounding air temperature\n",
"dt = Tw-Ta;// [degree celsius] temperature difference\n",
"q = Uo*Ao*dt;// [W] heat transfer \n",
"printf('\n heat loss per unit length is %f W(for 1m length)',q);"
   ]
   }
,
{
		   "cell_type": "markdown",
		   "metadata": {},
		   "source": [
			"## Example 2.5: critical_insulation_thickness.sce"
		   ]
		  },
  {
"cell_type": "code",
	   "execution_count": null,
	   "metadata": {
	    "collapsed": true
	   },
	   "outputs": [],
"source": [
"clear;\n",
"clc;\n",
"printf('\t\t\tExample Number 2.5\n\n\n');\n",
"// critical insulation thickness  \n",
"// illustration2.5\n",
"// solution\n",
"\n",
"k = 0.17;// [W/m per degree celsius] heat transfer coefficient of asbestos\n",
"Tr = 20;// [degree celsius] temperature of room air\n",
"h = 3;// [W/square meter per degree celsius] convectional heat transfer coefficient\n",
"Tp = 200;// [degree celsius] temperature of pipe\n",
"d = 0.05;// [m] diameter of pipe\n",
"// from equation (2-18) we calculate r_o as\n",
"r_o = k/h;// [m] critical radius of insulation\n",
"printf('critical radius of insulation for asbestos is %f cm ',r_o*100);\n",
"Ri = d/2;// [m] inside radius of insulation\n",
"// heat transfer is calculated from equation (2-17)\n",
"q_by_L = (2*3.14*(Tp-Tr))/(((log(r_o/Ri))/0.17)+(1/(h*r_o)));// [W/m] heat transfer per unit length\n",
"printf('\n heat loss when covered with critical radius of insulation is %f W/m',q_by_L);\n",
"// without insulation the convection from the outer surface of pipe is \n",
"q_by_L1 = h*2*3.14*Ri*(Tp-Tr);// [W/m] convection from outer surface without insulation\n",
"printf('\n heat loss without  insulation is %f W/m',q_by_L1);\n",
"per_inc = ((q_by_L-q_by_L1)/q_by_L1)*100;// percentage increase in heat transfer\n",
"printf('\n so the addition of 3.17 of insulation actually increases the heat transfer by %f percent',per_inc);"
   ]
   }
,
{
		   "cell_type": "markdown",
		   "metadata": {},
		   "source": [
			"## Example 2.6: heat_source_with_convection.sce"
		   ]
		  },
  {
"cell_type": "code",
	   "execution_count": null,
	   "metadata": {
	    "collapsed": true
	   },
	   "outputs": [],
"source": [
"clear;\n",
"clc;\n",
"printf('\t\t\tExample Number 2.6\n\n\n');\n",
"// heat source with convection  \n",
"// illustration2.6\n",
"// solution\n",
"\n",
"// all the power generated in the wire must be dissipated by convection to the liquid \n",
"// P = i^(2)*R = q = h*A*dt\n",
"L = 100;// [cm] length of the wire  \n",
"k = 19;// [W/m per degree celsius] heat transfer coefficient of steel wire\n",
"A = %pi*(0.15)^(2);// [square meter] crossectional area of wire\n",
"rho = 70*10^(-6);// [micro ohm cm] resistivity of steel \n",
"R = rho*L/A;// [ohm] resistance of wire\n",
"i = 200;// [ampere] current in the wire\n",
"P = i^(2)*R;// [W] power generated in the wire\n",
"Tl = 110;// [degree celsius] liquid temperature\n",
"d = 0.003;// [m] diameter of wire\n",
"l = 1;// [m] length of wire\n",
"Tw = (P/(4000*3.14*d*l))+110;// [degree celsius] wire temperature\n",
"// heat generated per unit volume q_dot is calculated as\n",
"// P = q_dot*V = q_dot*3.14*r^(2)*l\n",
"r = d/2;// [m] radius of wire\n",
"q_dot = P/(%pi*r^(2)*l);// [W/m^(3)]\n",
"// finally the center temperature of the wire is calculated from equation (2-26)\n",
"To = ((q_dot*(r^(2)))/(4*k))+Tw;// [degree celsius]\n",
"printf('center temperature of the wire is %f degree celsius',To);\n",
"\n",
"\n",
"\n",
"\n",
"\n",
""
   ]
   }
,
{
		   "cell_type": "markdown",
		   "metadata": {},
		   "source": [
			"## Example 2.7: influence_of_thermal_conductivity_on_fin_temperature_profiles.sce"
		   ]
		  },
  {
"cell_type": "code",
	   "execution_count": null,
	   "metadata": {
	    "collapsed": true
	   },
	   "outputs": [],
"source": [
"clear;\n",
"clc;\n",
"printf('\t\t\tExample Number 2.7\n\n\n');\n",
"// influence of thermal conductivity on fin temperature profiles\n",
"// illustration2.7\n",
"// solution\n",
"\n",
"d = 0.02;// [m] diameter of rod\n",
"L = 0.1;// [m] length of rod\n",
"A = %pi*d^(2)/4;// [square meter] crossectional area of rod\n",
"h = 25;// [W/square meter per degree celsius] convectional heat transfer coefficient\n",
"k_c = 385;// [W/m per degree celsius] heat transfer coefficient of copper\n",
"k_s = 17;// [W/m per degree celsius] heat transfer coefficient of steel \n",
"k_g = 0.8;// [W/m per degree celsius] heat transfer coefficient of glass \n",
"// calculating (h*P/(k*A)) and m and m*L for three different rod \n",
"P = %pi*d;// [m] perimeter of rod\n",
"printf('Material\t(hP/kA)\t\tm\t\tmL');\n",
"printf('\ncopper\t\t%f\t%f\t\t%f',(h*P/(k_c*A)),((h*P/(k_c*A)))^(1/2),((h*P/(k_c*A)))^(1/2)*L);\n",
"printf('\nstainless steel\t%f\t%f\t%f',(h*P/(k_s*A)),((h*P/(k_s*A)))^(1/2),((h*P/(k_s*A)))^(1/2)*L);\n",
"printf('\nglass\t\t%f\t%f\t%f',(h*P/(k_g*A)),((h*P/(k_g*A)))^(1/2),((h*P/(k_g*A)))^(1/2)*L);\n",
"// \n",
"Lc = L+d/4;// [m] corrected length\n",
"// the parameters of interest for the heat flow and efficiency comparisons are now tabulated as \n",
"printf('\nthe parameters of interest for the heat flow and efficiency comparisons are now tabulated as');\n",
"printf('\nMaterial\t\t(hPkA)\t\tmLc');\n",
"printf('\ncopper\t\t%f\t\t%f',(h*P*k_c*A),((h*P/(k_c*A)))^(1/2)*Lc);\n",
"printf('\nstainless steel\t%f\t\t%f',(h*P*k_s*A),((h*P/(k_s*A)))^(1/2)*Lc);\n",
"printf('\nglass\t\t%f\t\t%f',(h*P*k_g*A),((h*P/(k_g*A)))^(1/2)*Lc);\n",
"// efficiency is calculated using equation(2-38) by using the above values of mLc\n",
"// to compare the heat flows we could either calculate the values from equation (2-36) for a unit value of theta_o\n",
"printf('\nMaterial\t\tefficiency\tq relative to copper percentage');\n",
"printf('\ncopper\t\t%f\t\t%f',tanh(((h*P/(k_c*A)))^(1/2)*Lc)/(((h*P/(k_c*A)))^(1/2)*Lc),100);\n",
"printf('\nstainless steel\t%f\t\t%f',tanh(((h*P/(k_s*A)))^(1/2)*Lc)/(((h*P/(k_s*A)))^(1/2)*Lc),((tanh(((h*P/(k_s*A)))^(1/2)*Lc)/(((h*P/(k_s*A)))^(1/2)*Lc))/(tanh(((h*P/(k_c*A)))^(1/2)*Lc)/(((h*P/(k_c*A)))^(1/2)*Lc)))*100);\n",
"printf('\nglass\t\t%f\t\t%f',tanh(((h*P/(k_g*A)))^(1/2)*Lc)/(((h*P/(k_g*A)))^(1/2)*Lc),((tanh(((h*P/(k_g*A)))^(1/2)*Lc)/(((h*P/(k_g*A)))^(1/2)*Lc))/(tanh(((h*P/(k_c*A)))^(1/2)*Lc)/(((h*P/(k_c*A)))^(1/2)*Lc)))*100);\n",
"deff('[y]=f1(x)','y=exp(-((h*P/(k_c*A)))^(1/2)*x)/(1+exp(-2*((h*P/(k_c*A)))^(1/2)*L))+exp(((h*P/(k_c*A)))^(1/2)*x)/(1+exp(2*((h*P/(k_c*A)))^(1/2)*L))');\n",
"deff('[y]=f2(x)','y=exp(-((h*P/(k_s*A)))^(1/2)*x)/(1+exp(-2*((h*P/(k_s*A)))^(1/2)*L))+exp(((h*P/(k_s*A)))^(1/2)*x)/(1+exp(2*((h*P/(k_s*A)))^(1/2)*L))');\n",
"deff('[y]=f3(x)','y=exp(-((h*P/(k_g*A)))^(1/2)*x)/(1+exp(-2*((h*P/(k_g*A)))^(1/2)*L))+exp(((h*P/(k_g*A)))^(1/2)*x)/(1+exp(2*((h*P/(k_g*A)))^(1/2)*L))');\n",
"x=0:0.01:0.1;\n",
"plot(x,f1,x,f2,x,f3);\n",
"legend('copper, k = 385 W/m degree celsius','stainless steel k = 17 W/m degree celsius','glass k = 0.8 W/m degree celsius');\n",
"xlabel('x,m');\n",
"ylabel('theta / theta_O');\n",
"xgrid();\n",
"\n",
"\n",
""
   ]
   }
,
{
		   "cell_type": "markdown",
		   "metadata": {},
		   "source": [
			"## Example 2.8: straight_aluminium_fin.sce"
		   ]
		  },
  {
"cell_type": "code",
	   "execution_count": null,
	   "metadata": {
	    "collapsed": true
	   },
	   "outputs": [],
"source": [
"clear;\n",
"clc;\n",
"printf('\t\t\tExample Number 2.8\n\n\n');\n",
"// straight aluminium fin\n",
"// illustration2.8\n",
"// solution\n",
"\n",
"t = 0.003;// [m] thickness of fin\n",
"L = 0.075;// [m] length of fin\n",
"Tb = 300;// [degree celsius] base temperature\n",
"Tair = 50;// [degree celsius] ambient temperature\n",
"k = 200;// [W/m per degree celsius] heat transfer coefficient of aluminium fin\n",
"h = 10;// [W/square meter per degree celsius] convectional heat transfer coefficient\n",
"// We Will use the approximate method of solution by extending the fin \n",
"// With a fictitious length t/2\n",
"// using equation(2-36)\n",
"Lc = L+t/2;// [m] corrected length\n",
"z = 1;// [m] unit depth\n",
"p = (2*z+2*t);// [m] perimeter of fin\n",
"A = z*t;// [square meter] crossectional area of fin\n",
"m = ((h*p)/(k*A))^(0.5);\n",
"// from equation(2-36)\n",
"dt = Tb-Tair;// [degree celsius] temperature difference\n",
"q = tanh(m*Lc)*((h*p*k*A)^(0.5))*dt;// [W/m] heat transfer per unit length \n",
"printf('heat loss from the fin per unit length is %f W/m',q);"
   ]
   }
,
{
		   "cell_type": "markdown",
		   "metadata": {},
		   "source": [
			"## Example 2.9: circumferential_aluminium_fin.sce"
		   ]
		  },
  {
"cell_type": "code",
	   "execution_count": null,
	   "metadata": {
	    "collapsed": true
	   },
	   "outputs": [],
"source": [
"clear;\n",
"clc;\n",
"printf('\t\t\tExample Number 2.9\n\n\n');\n",
"// circumferential aluminium fin\n",
"// illustration2.9\n",
"// solution\n",
"\n",
"t = 0.001;// [m] thickness of fin\n",
"L = 0.015;// [m] length of fin\n",
"Ts = 170;// [degree celsius] surface temperature\n",
"Tfluid = 25;// [degree celsius] fluid temperature\n",
"k = 200;// [W/m per degree celsius] heat transfer coefficient of aluminium fin\n",
"h = 130;// [W/square meter per degree celsius] convectional heat transfer coefficient\n",
"d = 0.025;// [m] tube diameter\n",
"Lc = L+t/2;// [m] corrected length\n",
"r1 = d/2;// [m] radius of tube\n",
"r2_c = r1+Lc;// [m] corrected radius\n",
"Am = t*(r2_c-r1);// [square meter] profile area \n",
"c = r2_c/r1;// constant to determine efficiency of fin from curve \n",
"c1 = ((Lc)^(1.5))*((h/(k*Am))^(0.5));// constant to determine efficiency of fin from curve\n",
"// using c and c1 to determine the efficiency of the fin from figure (2-12)\n",
"// we get nf = 82 percent\n",
"// heat would be transferred if the entire fin were at the base temperature \n",
"// both sides of fin exchanging heat \n",
"q_max = 2*%pi*(r2_c^(2)-r1^(2))*h*(Ts-Tfluid);// [W] maximum heat transfer\n",
"q_act = 0.82*q_max;//[W] actual heat transfer\n",
"printf('the actual heat transferred is %f W',q_act);\n",
""
   ]
   }
],
"metadata": {
		  "kernelspec": {
		   "display_name": "Scilab",
		   "language": "scilab",
		   "name": "scilab"
		  },
		  "language_info": {
		   "file_extension": ".sce",
		   "help_links": [
			{
			 "text": "MetaKernel Magics",
			 "url": "https://github.com/calysto/metakernel/blob/master/metakernel/magics/README.md"
			}
		   ],
		   "mimetype": "text/x-octave",
		   "name": "scilab",
		   "version": "0.7.1"
		  }
		 },
		 "nbformat": 4,
		 "nbformat_minor": 0
}
