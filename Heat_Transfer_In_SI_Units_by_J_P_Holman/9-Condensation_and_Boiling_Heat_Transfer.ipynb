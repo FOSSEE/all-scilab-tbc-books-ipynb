{
"cells": [
 {
		   "cell_type": "markdown",
	   "metadata": {},
	   "source": [
       "# Chapter 9: Condensation and Boiling Heat Transfer"
	   ]
	},
{
		   "cell_type": "markdown",
		   "metadata": {},
		   "source": [
			"## Example 9.1: condensation_on_vertical_plate.sce"
		   ]
		  },
  {
"cell_type": "code",
	   "execution_count": null,
	   "metadata": {
	    "collapsed": true
	   },
	   "outputs": [],
"source": [
"clear;\n",
"clc;\n",
"printf('\t\t\tExample Number 9.1\n\n\n');\n",
"// condensation on vertical plate\n",
"// Example 9.1(page no.-492)\n",
"// solution\n",
"\n",
"// we have to check the reynolds no. to that film is laminar or turbulent\n",
"Tf = (100+98)/2;// [degree celsius]\n",
"Tw = 98;// [degree celsius]\n",
"RHOf=960;// [kg/cubic meter] \n",
"MUf=2.82*10^(-4);// [kg/m s]\n",
"Kf=0.68;// [W/m degree celsius]\n",
"g=9.81;// [m/s^(2)]\n",
"L=0.3;// [m]\n",
"// RHOf(RHOf-RHOv)~RHOf^(2)\n",
"// let us assume laminar film condensate \n",
"Tsat=100;// [degree celsius]\n",
"Tg=100;// [degree celsius]\n",
"Hfg=2255*10^(3);// [J/kg]\n",
"hbar=0.943*((RHOf^(2)*g*Hfg*Kf^(3)/(L*MUf*(Tg-Tw)))^(0.25));// [W/square meter degree celsius]\n",
"h=hbar;// [W/square meter degree celsius]\n",
"// checking reynolds no. with equation(9-17)\n",
"Ref=4*h*L*(Tsat-Tw)/(Hfg*MUf);\n",
"printf('value of reynolds no. is %f \n\n so the laminar assumption was correct ',Ref);\n",
"// the heat transfer is now calculated from \n",
"A=0.3*0.3;// [square meter]\n",
"q=hbar*A*(Tsat-Tw);// [W]\n",
"mdot=q/Hfg;// [kg/h]\n",
"printf('\n\n the heat transfer is %f w',q);\n",
"mdot=mdot*3600;// [kg/h]\n",
"printf('\n\n total mass flow condensate is %f kg/h',mdot);"
   ]
   }
,
{
		   "cell_type": "markdown",
		   "metadata": {},
		   "source": [
			"## Example 9.2: condensation_on_tube_tank.sce"
		   ]
		  },
  {
"cell_type": "code",
	   "execution_count": null,
	   "metadata": {
	    "collapsed": true
	   },
	   "outputs": [],
"source": [
"clear;\n",
"clc;\n",
"printf('\t\t\tExample Number 9.2\n\n\n');\n",
"// condensation on tube tank\n",
"// Example 9.2(page no.-493)\n",
"// solution\n",
"\n",
"// the condensate properties are obtained from previous example\n",
"// replacing L by n*d\n",
"Tw=98;// [degree celsius]\n",
"RHOf=960;// [kg/cubic meter] \n",
"MUf=2.82*10^(-4);// [kg/m s]\n",
"Kf=0.68;// [W/m degree celsius]\n",
"g=9.81;// [m/s^(2)]\n",
"Tsat=100;// [degree celsius]\n",
"Tg=100;// [degree celsius]\n",
"Hfg=2255*10^(3);// [J/kg]\n",
"d=0.0127;// [m]\n",
"n=10;\n",
"hbar=0.725*((RHOf^(2)*g*Hfg*Kf^(3)/(n*d*MUf*(Tg-Tw)))^(0.25));// [W/square meter degree celsius]\n",
"// total surface area is \n",
"n=100;\n",
"Al=n*22*d/7;// [square meter]\n",
"printf('total surface area is %f square meter/m',Al);\n",
"// so the heat transfer is \n",
"Ql=hbar*Al*(Tg-Tw);// [W]\n",
"printf('\n\n heat transfer is %f kW/m',Ql/1000);\n",
"// total mass flow of condensate is then \n",
"mdotl=Ql/Hfg;// [kg/h]\n",
"mdotl=mdotl*3600;// [kg/h]\n",
"printf('\n\n total mass flow of condensate is %f kg/h',mdotl);"
   ]
   }
,
{
		   "cell_type": "markdown",
		   "metadata": {},
		   "source": [
			"## Example 9.3: boiling_on_brass_plate.sce"
		   ]
		  },
  {
"cell_type": "code",
	   "execution_count": null,
	   "metadata": {
	    "collapsed": true
	   },
	   "outputs": [],
"source": [
"clear;\n",
"clc;\n",
"printf('\t\t\tExample Number 9.3\n\n\n');\n",
"// boiling on brass plate \n",
"// Example 9.3(page no.-501-502)\n",
"// solution\n",
"\n",
"Qawater_platinum=946.1;//[kw/square meter] from figure (9-8) heat flux for water platinum combination \n",
"Tw=117;// [degree celsius]\n",
"Tsat=100;// [degree celsius]\n",
"// from table (9-2)\n",
"Csfwater_platinum=0.013;// for water platinum \n",
"Csfwater_brass=0.006;// for water brass\n",
"deff('y = G(Qawater_brass)','y = (((Qawater_brass)/((Qawater_platinum)))-((Csfwater_platinum/Csfwater_brass)^(3)))');\n",
"Qawater_brass = fsolve(0,G);\n",
"printf('heat transfer for water brass system is %f W/square meter',Qawater_brass);"
   ]
   }
,
{
		   "cell_type": "markdown",
		   "metadata": {},
		   "source": [
			"## Example 9.4: Flow_boiling.sce"
		   ]
		  },
  {
"cell_type": "code",
	   "execution_count": null,
	   "metadata": {
	    "collapsed": true
	   },
	   "outputs": [],
"source": [
"clear;\n",
"clc;\n",
"printf('\t\t\tExample Number 9.4\n\n\n');\n",
"// Flow boiling\n",
"// Example 9.4(page no.-506)\n",
"// solution\n",
"\n",
"p = 5*101325/10^(6);// [MPa] pressure of water \n",
"d = 0.0254;// [m] diameter of tube \n",
"Tw = 10;// [degree celsius]\n",
"// for calculation we use equation (9-45), noting that \n",
"dT = 10;// [degree celsius]\n",
"// the heat transfer coefficient is calculated as \n",
"h = 2.54*Tw^(3)*exp(p/1.551);// [W/square meter degree celsius]\n",
"// the surface area for a 1-m length of tube is \n",
"L = 1;// [m]\n",
"A = %pi*d*L;// [square meter]\n",
"// so the heat transfer is \n",
"q = h*A*dT;// [W/m]\n",
"printf('the heat transfer in a 1.0 m length of tube is %f W/m',q);"
   ]
   }
,
{
		   "cell_type": "markdown",
		   "metadata": {},
		   "source": [
			"## Example 9.5: water_boiling_in_a_pan.sce"
		   ]
		  },
  {
"cell_type": "code",
	   "execution_count": null,
	   "metadata": {
	    "collapsed": true
	   },
	   "outputs": [],
"source": [
"clear;\n",
"clc;\n",
"printf('\t\t\tExample Number 9.5\n\n\n');\n",
"// water boiling in a pan \n",
"// Example 9.5(page no.-506-507)\n",
"// solution\n",
"\n",
"p = 101325/10^(6);// [MPa] pressure of water \n",
"dT_x = 8;// [degree celsius]\n",
"p1 = 0.17;// [MPa] given operating pressure\n",
"// we will use the simplified relation of table 9-13(page no.-506) for the estimates.we do not know the value of q_by_A and so must choose one of the two relation for a horizontal surface from the table\n",
"// we anticipate nucleate boiling, so choose\n",
"h = 5.56*dT_x^(3);// [W/square meter degree celsius]\n",
"// and the heat flux is \n",
"q_by_A = h*dT_x;// [W/square meter]\n",
"// for operation as a pressure cooker we obtain the value of h from equation(9-44)\n",
"hp = h*(p1/p)^(0.4);// [W/square meter degree celsius]\n",
"// the corresponding heat flux is \n",
"q_by_A1 = hp*dT_x;// [W/square meter]\n",
"printf('heat flux obtained is %f kW/square meter',q_by_A/1000);\n",
"per_inc = 100*(q_by_A1-q_by_A)/q_by_A;\n",
"printf('\n\n if the pan operates as a pressure cooker at 0.17 MPa the increase in heat flux is %f percent',per_inc);"
   ]
   }
,
{
		   "cell_type": "markdown",
		   "metadata": {},
		   "source": [
			"## Example 9.6: heat_flux_comparisons.sce"
		   ]
		  },
  {
"cell_type": "code",
	   "execution_count": null,
	   "metadata": {
	    "collapsed": true
	   },
	   "outputs": [],
"source": [
"clear;\n",
"clc;\n",
"printf('\t\t\tExample Number 9.6\n\n\n');\n",
"// heat-flux comparisons \n",
"// Example 9.6(page no.-509)\n",
"// solution\n",
"\n",
"Tw = 200;// [degree celsius] water temperature \n",
"L = 0.08;// [m] length of solid copper bar\n",
"dT = 100;// [degree celsius] temperature differential in copper bar\n",
"//using the data of table 9-4(page no.-508)\n",
"// the heat flux per unit area is expressed as q_by_A = -k*del_T/dx\n",
"// from table A-2(page no.-) the thermal conductivity of copper is \n",
"k = 374;// [W/m degree celsius]\n",
"q_by_A = -k*(-dT)/L;// [W/square meter]\n",
"// from table 9-4(page no.-508) the typical axial heat flux for a water heat flux for a water heat pipe is \n",
"q_by_A_axial = 0.67;// [kW/csquare meter]\n",
"q_by_A = q_by_A/(1000*10^(4));// [kW/csquare meter]\n",
"printf('thus the heat transfers more than %f times the heat of a pure copper rod with a substantial temperature gradient.',q_by_A_axial/q_by_A);"
   ]
   }
],
"metadata": {
		  "kernelspec": {
		   "display_name": "Scilab",
		   "language": "scilab",
		   "name": "scilab"
		  },
		  "language_info": {
		   "file_extension": ".sce",
		   "help_links": [
			{
			 "text": "MetaKernel Magics",
			 "url": "https://github.com/calysto/metakernel/blob/master/metakernel/magics/README.md"
			}
		   ],
		   "mimetype": "text/x-octave",
		   "name": "scilab",
		   "version": "0.7.1"
		  }
		 },
		 "nbformat": 4,
		 "nbformat_minor": 0
}
