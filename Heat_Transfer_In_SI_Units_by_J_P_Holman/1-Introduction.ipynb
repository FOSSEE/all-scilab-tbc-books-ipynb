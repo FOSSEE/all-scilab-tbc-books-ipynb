{
"cells": [
 {
		   "cell_type": "markdown",
	   "metadata": {},
	   "source": [
       "# Chapter 1: Introduction"
	   ]
	},
{
		   "cell_type": "markdown",
		   "metadata": {},
		   "source": [
			"## Example 1.1: conduction_through_copper_plate.sce"
		   ]
		  },
  {
"cell_type": "code",
	   "execution_count": null,
	   "metadata": {
	    "collapsed": true
	   },
	   "outputs": [],
"source": [
"clear;\n",
"clc;\n",
"printf('\t\t\tExample Number 1.1\n\n\n');\n",
"// conduction through copper plate\n",
"// illustration1.1\n",
"// solution\n",
"\n",
"k = 370; // [W/m] at 250 degree celsius\n",
"dt = 100-400;//[degree celsius] temperature difference\n",
"dx = 3*10^(-2);//[m] thickness of plate\n",
"//calculating heat transfer per unit area from fourier's law\n",
"q = -k*dt/dx;//[MW/square meter]\n",
"printf('rate of heat transfer per unit area is %f MW/square meter',q/1000000);"
   ]
   }
,
{
		   "cell_type": "markdown",
		   "metadata": {},
		   "source": [
			"## Example 1.2: convection_calculation.sce"
		   ]
		  },
  {
"cell_type": "code",
	   "execution_count": null,
	   "metadata": {
	    "collapsed": true
	   },
	   "outputs": [],
"source": [
"clear;\n",
"clc;\n",
"printf('\t\t\tExample Number 1.2\n\n\n');\n",
"// convection calculation\n",
"// illustration1.2\n",
"// solution\n",
"\n",
"Twall = 250;//[degree celsius] wall temperature\n",
"Tair = 20;//[degree celsius] air temperature\n",
"h = 25;//[W/square meter] heat transfer coefficient\n",
"l = 75*10^(-2);//[m] length of plate\n",
"b = 50*10^(-2);//[m] width of plate\n",
"area = l*b;//[square meter] area of plate\n",
"dt = 250-20;//[degree celsius]\n",
"// from newton's law of cooling\n",
"q = h*area*dt;// [W]\n",
"printf('rate of heat transfer is %f kW',q/1000);\n",
""
   ]
   }
,
{
		   "cell_type": "markdown",
		   "metadata": {},
		   "source": [
			"## Example 1.3: multimode_heat_transfer.sce"
		   ]
		  },
  {
"cell_type": "code",
	   "execution_count": null,
	   "metadata": {
	    "collapsed": true
	   },
	   "outputs": [],
"source": [
"clear;\n",
"clc;\n",
"printf('\t\t\tExample Number 1.3\n\n\n');\n",
"// multimode heat transfer\n",
"// illustration1.3\n",
"// solution\n",
"\n",
"Qconv = 2156;// [W] from previous problem\n",
"Qrad = 300;// [W] given\n",
"dx = 0.02;// [m] plate thicknesss\n",
"l = 0.75;// [m] length of plate \n",
"w = 0.5;// [m] width of plate\n",
"k = 43;//[W/m] from table 1.1\n",
"area = l*w;//[square meter] area of plate\n",
"Qcond = Qconv+Qrad;// [W]\n",
"dt = Qcond*dx/(k*area);// [degree celsius] temperature difference\n",
"Ti = 250+dt;// inside temperature\n",
"printf('the inside plate temperature is therefore %f degree celsius',Ti);"
   ]
   }
,
{
		   "cell_type": "markdown",
		   "metadata": {},
		   "source": [
			"## Example 1.4: heat_source_and_convection.sce"
		   ]
		  },
  {
"cell_type": "code",
	   "execution_count": null,
	   "metadata": {
	    "collapsed": true
	   },
	   "outputs": [],
"source": [
"clear;\n",
"clc;\n",
"printf('\t\t\tExample Number 1.4\n\n\n');\n",
"// heat source and convection\n",
"// illustration1.4\n",
"// solution\n",
"\n",
"d = 1*10^(-3);//[m] diameter of wire\n",
"l = 10*10^(-2);//[m] length of wire\n",
"Sarea = 22*d*l/7;//[square meter] surface area of wire\n",
"h = 5000;//[W/square meter] heat transfer coefficient\n",
"Twall = 114;// [degree celsius]\n",
"Twater = 100;// [degree celsius]\n",
"//total convection loss is given by equation(1-8)\n",
"Q = h*Sarea*(Twall-Twater);// [W]\n",
"printf('heat transfer is therefore %f W',Q);\n",
"printf(' this is equal to the electric power which must be applied');"
   ]
   }
,
{
		   "cell_type": "markdown",
		   "metadata": {},
		   "source": [
			"## Example 1.5: radiation_heat_transfer.sce"
		   ]
		  },
  {
"cell_type": "code",
	   "execution_count": null,
	   "metadata": {
	    "collapsed": true
	   },
	   "outputs": [],
"source": [
"clear;\n",
"clc;\n",
"printf('\t\t\tExample Number 1.5\n\n\n');\n",
"// radiation heat transfer\n",
"// illustration1.5\n",
"// solution\n",
"\n",
"sigma = 5.699*10^(-8);//[W/square meter*k^(4)] universal constant\n",
"T1 = 273.15+800;// [k] first plate temperature\n",
"T2 = 273.15+300;// [k] second plate temperature\n",
"//equation(1-10) may be employed for this problem\n",
"Q = sigma*((T1^(4))-(T2^(4)));// [W/square meter]\n",
"printf('heat transfer per unit area is %f kW/square meter',Q/1000);"
   ]
   }
,
{
		   "cell_type": "markdown",
		   "metadata": {},
		   "source": [
			"## Example 1.6: total_heat_loss_by_convection_and_radiation.sce"
		   ]
		  },
  {
"cell_type": "code",
	   "execution_count": null,
	   "metadata": {
	    "collapsed": true
	   },
	   "outputs": [],
"source": [
"clear;\n",
"clc;\n",
"printf('\t\t\tExample Number 1.6\n\n\n');\n",
"// total heat loss by convection and radiation\n",
"// illustration1.6\n",
"// solution\n",
"\n",
"d = 0.05;//[m] diameter of pipe\n",
"Twall = 50;//[degree celsius] \n",
"Tair = 20;//[degree celsius]\n",
"emi = 0.8;//emissivity\n",
"h = 6.5;//[W/square meter] heat transfer coefficient for free convection\n",
"Q1 = h*22*d*(Twall-Tair)/7;//[W/m] convection loss per unit length\n",
"sigma = 5.669*10^(-8);// [W/square meter*k^(4)] universal constant\n",
"T1 = 273.15+Twall;// [k]\n",
"T2 = 273.15+Tair;// [k]\n",
"Q2 = emi*22*d*sigma*((T1^(4))-(T2^(4)))/7;// [W/m] heat loss due to radiation per unit length\n",
"Qtotal = Q1+Q2;// [W/m] total heat loss per unit length\n",
"printf('total heat loss is therefore %f W/m',Qtotal);"
   ]
   }
],
"metadata": {
		  "kernelspec": {
		   "display_name": "Scilab",
		   "language": "scilab",
		   "name": "scilab"
		  },
		  "language_info": {
		   "file_extension": ".sce",
		   "help_links": [
			{
			 "text": "MetaKernel Magics",
			 "url": "https://github.com/calysto/metakernel/blob/master/metakernel/magics/README.md"
			}
		   ],
		   "mimetype": "text/x-octave",
		   "name": "scilab",
		   "version": "0.7.1"
		  }
		 },
		 "nbformat": 4,
		 "nbformat_minor": 0
}
