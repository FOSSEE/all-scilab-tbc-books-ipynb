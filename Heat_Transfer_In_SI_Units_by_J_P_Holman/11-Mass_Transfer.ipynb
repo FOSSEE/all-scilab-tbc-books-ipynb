{
"cells": [
 {
		   "cell_type": "markdown",
	   "metadata": {},
	   "source": [
       "# Chapter 11: Mass Transfer"
	   ]
	},
{
		   "cell_type": "markdown",
		   "metadata": {},
		   "source": [
			"## Example 11.1: diffusion_coefficient_for_co2.sce"
		   ]
		  },
  {
"cell_type": "code",
	   "execution_count": null,
	   "metadata": {
	    "collapsed": true
	   },
	   "outputs": [],
"source": [
"clear;\n",
"clc;\n",
"printf('\t\t\tExample Number 11.1\n\n\n');\n",
"// diffusion coefficient for co2\n",
"// Example 11.1(page no.-583)\n",
"// solution\n",
"\n",
"T = 25+273.15;// [K] temperature of air\n",
"Vco2 = 34.0;// molecular volume of co2\n",
"Vair = 29.0;// molecular volume of air\n",
"Mco2 = 44;// molecular weight of co2\n",
"Mair = 28.9;// molecular weight of air\n",
"P = 1.01325*10^(5);// [Pa] atmospheric pressure\n",
"// using equation (11-2)\n",
"D = 435.7*T^(1.5)*(((1/Mco2)+(1/Mair))^(1/2))/(P*(Vco2^(1/3)+Vair^(1/3))^(2));\n",
"printf('value of diffusion coefficient for co2 in air is %f square centimeter/s',D);"
   ]
   }
,
{
		   "cell_type": "markdown",
		   "metadata": {},
		   "source": [
			"## Example 11.2: diffusion_coefficient_for_co2.sce"
		   ]
		  },
  {
"cell_type": "code",
	   "execution_count": null,
	   "metadata": {
	    "collapsed": true
	   },
	   "outputs": [],
"source": [
"clear;\n",
"clc;\n",
"printf('\t\t\tExample Number 11.2\n\n\n');\n",
"// diffusion coefficient for co2\n",
"// Example 11.2(page no.-586-587)\n",
"// solution\n",
"\n",
"T = 25+273.15;// [K] temperature of air\n",
"p = 1.01325*10^(5);// [Pa] atmospheric pressure\n",
"pw1 = 3166.7618901;// [Pa] partial pressure at the bottom of test tube\n",
"pw2 = 0;// [Pa] partial pressure at the top of test tube\n",
"pa1 = p-pw1;// [Pa] \n",
"pa2 = p-pw2;// [Pa]\n",
"D = .256*10^(-4);// [square meter/s] diffusion coefficient\n",
"Mw = 18;// [g] molecular weight of water\n",
"A = 22*((5*10^(-3))^(2))/7;// [square meter] area of test tube\n",
"R = 8314;// [J/mol K]gas constant\n",
"// using equation(11-16)\n",
"mw = (D*p*Mw*A/(R*T*0.15))*log(pa2/pa1);// mass flow rate\n",
"printf(' mass flow rate is %e kg/s',mw);"
   ]
   }
,
{
		   "cell_type": "markdown",
		   "metadata": {},
		   "source": [
			"## Example 11.3: Wet_bulb_temperature.sce"
		   ]
		  },
  {
"cell_type": "code",
	   "execution_count": null,
	   "metadata": {
	    "collapsed": true
	   },
	   "outputs": [],
"source": [
"clear;\n",
"clc;\n",
"printf('\t\t\tExample Number 11.3\n\n\n');\n",
"// Wet-bulb temperature\n",
"// Example 11.3(page no.-590-591)\n",
"// solution\n",
"\n",
"Pg = 2107;// [Pa] from steam table at 18.3 degree celcius\n",
"Pw = Pg*18;// [Pa]\n",
"Rw = 8315;// [J/mol K] gas constant\n",
"Tw = 273.15+18.3;// [K]\n",
"RHOw = Pw/(Rw*Tw);// [kg/cubic meter]\n",
"Cw = RHOw;// [kg/cubic meter]\n",
"RHOinf = 0;// since the free stream is dry air\n",
"Cinf = 0;\n",
"P = 1.01325*10^(5);// [Pa]\n",
"R = 287;// [J /kg  K]\n",
"T = Tw;// [K]\n",
"RHO = P/(R*T);// [kg/cubic meter]\n",
"Cp = 1004;// [J/kg degree celsius]\n",
"Le = 0.845;\n",
"Hfg = 2.456*10^(6);// [J/kg]\n",
"// now using equation(11-31)\n",
"Tinf = (((Cw-Cinf)*Hfg)/(RHO*Cp*(Le^(2/3))))+Tw;// [K]\n",
"Tin = Tinf-273.15;// [degree celsius]\n",
"printf('temperature of dry air is %f degree celsius',Tin);\n",
"printf('\n\n these calculations are now recalculated the density at the arithmetic-average temperature between wall and free-stream conditions');\n",
"printf('\n\n with this adjustments these results are RHO = 1.143 kg/m^(3) and Tinf = 55.8 degree celcius');\n",
""
   ]
   }
,
{
		   "cell_type": "markdown",
		   "metadata": {},
		   "source": [
			"## Example 11.4: relative_humidity_of_air_stream.sce"
		   ]
		  },
  {
"cell_type": "code",
	   "execution_count": null,
	   "metadata": {
	    "collapsed": true
	   },
	   "outputs": [],
"source": [
"clear;\n",
"clc;\n",
"printf('\t\t\tExample Number 11.4\n\n\n');\n",
"// relative humidity of air stream\n",
"// Example 11.4(page no.-591)\n",
"// solution\n",
"\n",
"// these data were taken from previous example\n",
"Rho = 1.212;// [kg/cubic meter]\n",
"Cp = 1004;// [J/kg]\n",
"Le = 0.845;\n",
"Tw = 18.3;// [degree celsius]\n",
"Tinf = 32.2;// [degree celsius]\n",
"Rhow = 0.015666;// [kg/cubic meter]\n",
"Cw = Rhow;// [kg/cubic meter]\n",
"Hfg = 2.456*10^(6);// [J/kg]\n",
"// we use eqn 11-31\n",
"Cinf = Cw-(Rho*Cp*Le^(2/3)*(Tinf-Tw)/Hfg);// [kg/cubic meter]\n",
"Rhoinf = Cinf;// [kg/cubic meter]\n",
"Rhog = 0.0342;// [kg/cubic meter]\n",
"RH = (Rhoinf/Rhog)*100;\n",
"printf(' relative humidity is therefore %f percentage',RH);\n",
""
   ]
   }
,
{
		   "cell_type": "markdown",
		   "metadata": {},
		   "source": [
			"## Example 11.5: water_evaporation_rate.sce"
		   ]
		  },
  {
"cell_type": "code",
	   "execution_count": null,
	   "metadata": {
	    "collapsed": true
	   },
	   "outputs": [],
"source": [
"clear;\n",
"clc;\n",
"printf('\t\t\tExample Number 11.5\n\n\n');\n",
"// water evaporation rate\n",
"// Example 11.5(page no.-593-594)\n",
"// solution\n",
"\n",
"Ta = 38+273;// [K] temperature of atmospheric air\n",
"RH = 0.30;// relative humidity\n",
"u = 10;// [mi/h] mean wind speed\n",
"R = 0.287;// universal gas constant\n",
"Dw = 0.256*10^(-4);// [square meter/s] from table A-8(page no.-610)\n",
"rho_w = 1000;// [kg/cubic meter]\n",
"// for this calculation we can make use of equation(11-36). from thermodynamic steam tables\n",
"p_g = 6.545;// [kPa] at 38 degree celsius\n",
"p_s = p_g;// [kPa]\n",
"p_w = RH*p_s;// [kPa]\n",
"p_s = 1.933;// [in Hg]\n",
"p_w = 0.580;// [in Hg]\n",
"// also \n",
"u_bar = u*24;// [mi/day]\n",
"// equation(11-36) yields, with the application of the 0.7 factor\n",
"E_lp = 0.7*(0.37+0.0041*u_bar)*(p_s-p_w)^(0.88);// [in/day]\n",
"E_lp = E_lp*2.54/100;// [m/day]\n",
"// noting that standard pan has the diameter of 1.2m, we can use the figure to calculate the mass evaporation rate per unit area as\n",
"m_dot_w_by_A = E_lp*rho_w/24;// [kg/h square meter]\n",
"// as a matter of interest, we might calculate the molecular-diffusion rate of water vapour from equation(11-35), taking z1 as the 1.5m dimension above the standard pan.\n",
"z1 = 1.5;// [m]\n",
"// since     rho = p/(R*T)\n",
"// equation(11-35) can be written as \n",
"m_dot_w_by_A1 = 0.622*Dw*p_g*3600/(R*Ta*z1);// [kg/h square meter]\n",
"printf('evaporation rate on the land under these conditions is %e kg/h square meter',m_dot_w_by_A1);\n",
"\n",
""
   ]
   }
],
"metadata": {
		  "kernelspec": {
		   "display_name": "Scilab",
		   "language": "scilab",
		   "name": "scilab"
		  },
		  "language_info": {
		   "file_extension": ".sce",
		   "help_links": [
			{
			 "text": "MetaKernel Magics",
			 "url": "https://github.com/calysto/metakernel/blob/master/metakernel/magics/README.md"
			}
		   ],
		   "mimetype": "text/x-octave",
		   "name": "scilab",
		   "version": "0.7.1"
		  }
		 },
		 "nbformat": 4,
		 "nbformat_minor": 0
}
