{
"cells": [
 {
		   "cell_type": "markdown",
	   "metadata": {},
	   "source": [
       "# Chapter 6: Empirical and Practical Relations for Forced Convection Heat Transfer"
	   ]
	},
{
		   "cell_type": "markdown",
		   "metadata": {},
		   "source": [
			"## Example 6.10: heating_of_air_with_in_line_tube_bank.sce"
		   ]
		  },
  {
"cell_type": "code",
	   "execution_count": null,
	   "metadata": {
	    "collapsed": true
	   },
	   "outputs": [],
"source": [
"clear;\n",
"clc;\n",
"printf('\t\t\tExample Number 6.10\n\n\n');\n",
"// heating of air with in-line tube bank\n",
"// Example 6.10(page number-300-302)\n",
"// solution\n",
"\n",
"p = 101325;// [Pa] pressure of air\n",
"Ta = 10+273.15;// [K] temperature of air \n",
"d = 0.0254;// [m] diameter of tubes\n",
"Sp = 0.0381;// [m] spacing between tubes in normal and parallel direction\n",
"Sn = Sp;\n",
"R = 287;// [] universal gas constant\n",
"u = 7;// [m/s] velocity of air \n",
"Ts = 65+273.15;// [K] surface temperature of tubes\n",
"// the constants for use with equation (6-17) may be obtained from table 6-4(page no.-298),using\n",
"Sp_by_d = Sp/d;\n",
"Sn_by_d = Sn/d;\n",
"// so that\n",
"C = 0.278;\n",
"n = 0.620;\n",
"// the properties of air are evaluated at the film temperature, which at entrance to the tube bank is\n",
"Tf = (Ta+Ts)/2;// [K]\n",
"rho_f = p/(R*Tf);// [kg/cubic meter]\n",
"mu_f = 1.894*10^(-5);// [kg/m s]\n",
"k_f = 0.027;// [W/m degree celsius]\n",
"Pr_f = 0.706;// prandtl number\n",
"Cp = 1007;// [J/Kg degree celsius]\n",
"// the maximum velocity is therefore\n",
"u_max = u*Sn/(Sn-d);// [m/s]\n",
"// the reynolds number is computed by using the maximum velocity\n",
"Re = rho_f*u_max*d/mu_f;\n",
"// the heat transfer coefficient is calculated by using equation(6-17)\n",
"h = C*Re^(n)*Pr_f^(1/3)*k_f/d;// [W/square meter degree celsius]\n",
"// multiplying by 0.92 from table 6-5 (page no.-298) to correct for only five tube rows gives\n",
"h = 0.92*h;// [W/square meter degree celsius]\n",
"// the total surface area for heat transfer, considering unit length of tubes is \n",
"N = 15*5;// ttal no. of tubes\n",
"A = N*%pi*d*1;// [square meter/m] \n",
"// befre calculating the heat transfer, we must recognize thet the air temperature increases as the air flows thrugh the tube bank.\n",
"// therefore, this must be taken into account when using q=h*A*(Ts-Ta)\n",
"// as a good approximatin, we can use an arithmetic average value of Tinf and write for the energy balance \n",
"// say the equation A is      q = h*A*(Ts-(Tinf1+Tinf2)/2) = m_dot*Cp*(Tinf2-Tinf1)\n",
"// where now the subscripts 1 and 2 designate entrance and exit to the tube bank.\n",
"// the mass flow to the entrance to the 15 tubes is \n",
"rho_inf = p/(R*Ta);// [Kg/m^(3)]\n",
"m_dot=rho_inf*u*15*Sn;// [kg/s]\n",
"// so that equation A becomes after inserting the values and solving\n",
"Tinf1 = Ta;// [K]\n",
"deff('[y] = f1(Tinf2)','y = (h*A*(Ts-(Tinf1+Tinf2)/2)-m_dot*Cp*(Tinf2-Tinf1))')\n",
"Tinf2=fsolve(1,f1);\n",
"// the heat transfer is then obtained from the right side of equation A\n",
"q = m_dot*Cp*(Tinf2-Ta);// [W/m]\n",
"printf('the exit air temperature is %f degree celsius',Tinf2-273);\n",
"printf('\n\n heat transfer per unit length for the tube bank is %f kW/m',q/1000);\n",
"\n",
""
   ]
   }
,
{
		   "cell_type": "markdown",
		   "metadata": {},
		   "source": [
			"## Example 6.11: alternate_calculation_method.sce"
		   ]
		  },
  {
"cell_type": "code",
	   "execution_count": null,
	   "metadata": {
	    "collapsed": true
	   },
	   "outputs": [],
"source": [
"clear;\n",
"clc;\n",
"printf('\t\t\tExample Number 6.11\n\n\n');\n",
"// alternate calculation method \n",
"// example 6.10 (page no.-302) \n",
"// solution\n",
"\n",
"// data for this example is taken from previous example (6-10)\n",
"// properties for use in equation (6-34) are evaluated at free-atream conditions of 10 degree celsius\n",
"v = 14.2*10^(-6);// [square meter/s]\n",
"k = 0.0249;// [W/m degree celsius]\n",
"Pr = 0.712;// prandtl number\n",
"Pr_w = 0.70;// prandtl number\n",
"u = 7;// [m/s] velocity of air \n",
"Sp = 0.0381;// [m] spacing between normal and parallel direction to the flow\n",
"Sn = 0.0381;// spacing between normal and parallel direction to the flow\n",
"d = 0.0254;// [m] diameter of tube\n",
"//maximum velocity is \n",
"u_max = u*(Sn/(Sn-d));// [m/s]\n",
"// the reynolds number is \n",
"Re_d_max = u_max*d/v;\n",
"// so that the constants for equation (6-34) are\n",
"C = 0.27;\n",
"n = 0.63;\n",
"// inserting values we obtain\n",
"h = C*Re_d_max^(n)*(Pr/Pr_w)^(1/4)*k/d;// [W/square meter degree celsius] heat transfer coefficient\n",
"// multiplying by 0.92 from table 6-7 (page no.-300) to correct for only five tube rows gives\n",
"h = 0.92*h;// [W/square meter degree celsius]\n",
"printf('the value of heat transfer coefficient is %f W/square meter degree celsius',h);\n",
"h_in = 163.46432;// [W/square meter degree celsius] from previous example\n",
"printf('\n\n the value of heat transfer coefficient for previous problem is %f W/square meter degree celsius',h_in);\n",
"P = (h-h_in)*100/h_in;\n",
"printf('\n\n percentage increase in value of h is %f',P);\n",
"\n",
"\n",
" \n",
"\n",
"\n",
""
   ]
   }
,
{
		   "cell_type": "markdown",
		   "metadata": {},
		   "source": [
			"## Example 6.12: heating_of_liquid_bismuth_in_tube.sce"
		   ]
		  },
  {
"cell_type": "code",
	   "execution_count": null,
	   "metadata": {
	    "collapsed": true
	   },
	   "outputs": [],
"source": [
"clear;\n",
"clc;\n",
"printf('\t\t\tExample Number 6.12\n\n\n');\n",
"// heating of liquid bismuth in tube \n",
"// example 6.11 (page no.-305-6) \n",
"// solution\n",
"\n",
"m_dot = 4.5;// [Kg/s] flow rate of bismuth\n",
"d = 0.05;// [m] diameter of steel tube\n",
"Ti = 415;// [degree celsius] initial temperature of bismuth\n",
"Tf = 440;// [degree celsius] final temperature of bismuth\n",
"// because a constant heat flux is maintained, we may use equation 6-47 to calculate the heat transfer coefficient.\n",
"// the properties of bismuth are evaluated at the average bulk temperature of \n",
"Ta = (Ti+Tf)/2;// [degree celsius]\n",
"mu = 1.34*10^(-3);// [Kg/m s] viscosity\n",
"Cp = 149;// [J/Kg degree celsius] heat \n",
"k = 15.6;// [W/m degree celsius]\n",
"Pr = 0.013;// prandtl number\n",
"// the total transfer is calculated from\n",
"q = m_dot*Cp*(Tf-Ti);// [W]\n",
"// we calculate reynolds and peclet number as \n",
"G = m_dot/(%pi*d^(2)/4);\n",
"Re_d = d*G/mu;\n",
"Pe = Re_d*Pr;\n",
"// the heat transfer coefficient is calculated from equation 6-47\n",
"Nu_d = 4.82+0.0185*Pe^(0.827);\n",
"h = Nu_d*k/d;// [W/square meter degree celsius]\n",
"// the total required surface area of the tube may now be computed from q=h*A*DT\n",
"// where we use the temperature difference of\n",
"DT = 20;// [degree celsius] \n",
"A = q/(h*DT);// [square meter] \n",
"// the area in turn can be expressed in terms of tube length \n",
"L = A/(%pi*d);// [m]\n",
"printf('Length of tube required to effect the heat transfer is %f m',L);"
   ]
   }
,
{
		   "cell_type": "markdown",
		   "metadata": {},
		   "source": [
			"## Example 6.1: turbulent_heat_transfer_in_a_tube.sce"
		   ]
		  },
  {
"cell_type": "code",
	   "execution_count": null,
	   "metadata": {
	    "collapsed": true
	   },
	   "outputs": [],
"source": [
"clear;\n",
"clc;\n",
"printf('\t\t\tExample Number 6.1\n\n\n');\n",
"// turbulent heat transfer in a tube  \n",
"// illustration6.1\n",
"// solution\n",
"\n",
"p = 2*101325;// [Pa] pressure of air\n",
"Ta = 200+273.15;// [K] temperature of air \n",
"d = 0.0254;// [m] diameter of tube \n",
"R = 287;// [] gas constant\n",
"u = 10;// [m/s] velocity of air\n",
"dT = 20;// [degree celsius] temperature difference between wall and air \n",
"// we first calculate the reynolds number to determine if the flow is laminar or turbulent, and then select the appropriate empirical correlation to calculate the heat transfer \n",
"// the properties of air at a bulk temperature of 473 K are\n",
"rho = p/(R*Ta);// [kg/cubic meter] density of gas\n",
"mu = 2.57*10^(-5);// [kg/m s] viscosity  \n",
"k = 0.0386;// [W/m degree celsius]\n",
"Cp = 1025;// [J/kg K]\n",
"Pr = 0.681;// prandtl no.\n",
"Re_d = rho*u*d/mu;// reynolds number\n",
"disp(Re_d, 'reynolds number is' );\n",
"disp('so that the flow is turbulent');\n",
"// we therefore use equation (6-4a) to calculate the heat transfer coefficient\n",
"Nu_d = 0.023*Re_d^(0.8)*Pr^(0.4);// nusselt no.\n",
"h = Nu_d*k/d;// [W/m^2 degree celsius] heat transfer coefficient\n",
"// the heat transfer per unit length is then\n",
"q_by_L = h*%pi*d*(dT);// [W/m]\n",
"L = 3;// [m] \n",
"// we can now make an energy balance to calculate the increase in bulk temperature in a 3 m length of tube :\n",
"// q = m_dot*Cp*dT_b = L*(q_byL)\n",
"m_dot = rho*u*%pi*d^(2)/4;// [kg/s] gas flow rate\n",
"// so that we insert the numerical values in the energy balance to obtain \n",
"dT_b = L*q_by_L/(m_dot*Cp);// [degree celsius]\n",
"printf('\n heat transfer per unit length is %f W/m',q_by_L);\n",
"printf('\n\n bulk temperature increase over the length of 3 m on tube is %f degree celsius ',dT_b);\n",
"\n",
"\n",
"\n",
""
   ]
   }
,
{
		   "cell_type": "markdown",
		   "metadata": {},
		   "source": [
			"## Example 6.2: heating_of_water_in_laminar_tube_flow.sce"
		   ]
		  },
  {
"cell_type": "code",
	   "execution_count": null,
	   "metadata": {
	    "collapsed": true
	   },
	   "outputs": [],
"source": [
"clear;\n",
"clc;\n",
"printf('\t\t\tExample Number 6.2\n\n\n');\n",
"// heating of water in laminar tube flow \n",
"// illustration6.2\n",
"// solution\n",
"\n",
"Tw = 60;// [degree celsius] temperature of water\n",
"d = 0.0254;// [m] diameter of tube \n",
"R = 287;// [] gas constant\n",
"u = 0.02;// [m/s] velocity of water\n",
"Tw = 80;// [degree celsius] temperature of wall   \n",
"L = 3;// [m] length of the tube\n",
"// we first calculate the reynolds number at the inlet bulk temperature to determine the flow regime  \n",
"// the properties of water at  temperature of 333.15 K are\n",
"rho = 985;// [kg/cubic meter] density of gas\n",
"mu = 4.71*10^(-4);// [kg/m s] viscosity  \n",
"k = 0.651;// [W/m degree celsius]\n",
"Cp = 4.18*10^3;// [J/kg K]\n",
"Pr = 3.02;// prandtl no.\n",
"Re_d = rho*u*d/mu;// reynolds number\n",
"disp(Re_d, 'reynolds number is' );\n",
"disp('so that the flow is laminar');\n",
"// so the flow is laminar, calculating the additional parameter, we have \n",
"B = Re_d*Pr*d/L ;\n",
"// since the value of B is greater than 10, so equation(6-10) is applicable.\n",
"// firstly making the calculation on the basis of 60 degree celsius, determine the exit bulk temperature\n",
"// the energy balance becomes q = h*pi*d*L(Tw-(Tb1+Tb2)/2) = m_dot*Cp*(Tb2-Tb1)   say equation a \n",
"// at the wall temperature of 80 degree celsius \n",
"mu_w = 3.55*10^(-4);// [kg/m s] \n",
"// from equation (6-10)\n",
"Nu_d = 1.86*(B)^(1/3)*(mu/mu_w)^(0.14);\n",
"h = k*Nu_d/d;\n",
"// the mass flow rate is \n",
"m_dot = rho*%pi*d^(2)*u/4;// [kg/s]\n",
"// inserting the values in equation a\n",
"Tb1 = 60;// [degree celsius]\n",
"deff('[y] = f(Tb2)','y = (h*%pi*d*L*(Tw-(Tb1+Tb2)/2)-m_dot*Cp*(Tb2-Tb1))')\n",
"Tb2 = fsolve(1,f);\n",
"Tb_mean = (Tb1+Tb2)/2;// [degree celsius]\n",
"// we obtain the properties at  Tb_mean\n",
"rho1 = 982;// [kg/m^(3)] density of gas\n",
"mu1 = 4.36*10^(-4);// [kg/m s] viscosity  \n",
"k1 = 0.656;// [W/m degree celsius]\n",
"Cp1 = 4.185*10^3;// [J/kg K]\n",
"Pr1 = 2.78;// prandtl no.\n",
"Re_d1 = Re_d*mu/mu1;\n",
"C = Re_d1*Pr1*d/L ;\n",
"Nu_d1 = 1.86*(C)^(1/3)*(mu1/mu_w)^(0.14);\n",
"h = k1*Nu_d1/d;\n",
"// we insert this value of h back into equation a to get \n",
"deff('[y] = f(Tb2)','y = (h*%pi*d*L*(Tw-(Tb1+Tb2)/2)-m_dot*Cp*(Tb2-Tb1))')\n",
"Tb2 = fsolve(1,f);\n",
"printf('\n the exit water temperature is %f degree celsius',Tb2);\n",
"\n",
"\n",
"\n",
"\n",
"\n",
""
   ]
   }
,
{
		   "cell_type": "markdown",
		   "metadata": {},
		   "source": [
			"## Example 6.3: heating_of_air_in_laminar_tube_flow_for_constant_heat_flux.sce"
		   ]
		  },
  {
"cell_type": "code",
	   "execution_count": null,
	   "metadata": {
	    "collapsed": true
	   },
	   "outputs": [],
"source": [
"clear;\n",
"clc;\n",
"printf('\t\t\tExample Number 6.3\n\n\n');\n",
"// heating of air in laminar tube flow for constant heat flux\n",
"// illustration6.3\n",
"// solution\n",
"\n",
"p = 101325;// [Pa] pressure of air\n",
"Ta = 27;// [degree celsius] temperature of air \n",
"d = 0.005;// [m] diameter of tube \n",
"R = 287;// [] gas constant\n",
"u = 3;// [m/s] velocity of air\n",
"L = 0.1;// [m] length of tube\n",
"Tb = 77;// [degree celsius] exit bulk temperature \n",
"// we first must evaluate the flow regime and do so by taking properties at the average bulk temperature  \n",
"Tb_bar = (Ta+Tb)/2;// [degree celsius]\n",
"v = 18.22*10^(-6);// [square meter/s] kinematic viscosity\n",
"k = 0.02814;// [W/m degree celsius]\n",
"Cp = 1006;// [J/kg K]\n",
"Pr = 0.703;// prandtl no.\n",
"Re_d = u*d/v;// reynolds number\n",
"disp(Re_d, 'reynolds number is' );\n",
"disp('so that the flow is laminar');\n",
"// so that the flow is laminar \n",
"//the tube length is short, so we expect a thermal entrance effect and shall consult figure(6-5)\n",
"// the inverse Graetz number is computed as \n",
"Gz_inverse = L/(Re_d*Pr*d);\n",
"// therefore, for qw = constant, we obtain the nusselt number at exit from figure (6-5) as\n",
"Nu = 4.7;\n",
"// the total heat transfer is obtained in terms of the overall energy balance \n",
"// at entrance \n",
"rho = 1.1774;// [kg/cubic meter] density\n",
"// mass flow is\n",
"m_dot = rho*%pi*d^(2)*u/4;// [kg/s]\n",
"q = m_dot*Cp*(Tb-Ta);// [W]\n",
"// thus we may find the heat transfer without the actually determining wall temperatures or values of h. However, to determine Tw we must compute qw for insertion in equation(b). we have\n",
"qw = q/(%pi*d*L);// [W]\n",
"// now\n",
"Tw = Tb+(qw*d/(Nu*k));// [degree celsius]\n",
"// and the heat transfer coefficient is\n",
"h = qw/(Tw-Tb);// [W/square meter degree celsius]\n",
"printf('\n total heat transfer is %f W',q);\n",
"printf('\n\n exit wall temperature is %f degree celsius',Tw);\n",
"printf('\n\n heat transfer coefficient is %f W/square meter degree celsius',h);\n",
"\n",
"\n",
"\n",
""
   ]
   }
,
{
		   "cell_type": "markdown",
		   "metadata": {},
		   "source": [
			"## Example 6.4: heating_of_air_with_isothermal_tube_wall.sce"
		   ]
		  },
  {
"cell_type": "code",
	   "execution_count": null,
	   "metadata": {
	    "collapsed": true
	   },
	   "outputs": [],
"source": [
"clear;\n",
"clc;\n",
"printf('\t\t\tExample Number 6.4\n\n\n');\n",
"// heating of air with isothermal tube wall\n",
"// illustration6.4\n",
"// solution\n",
"\n",
"p = 101325;// [Pa] pressure of air\n",
"Ta = 27;// [degree celsius] temperature of air \n",
"d = 0.005;// [m] diameter of tube \n",
"R = 287;// [] gas constant\n",
"u = 3;// [m/s] velocity of air\n",
"L = 0.1;// [m] length of tube\n",
"Tb = 77;// [degree celsius] exit bulk temperature \n",
"// we first must evaluate the flow regime and do so by taking properties at the average bulk temperature  \n",
"Tb_bar = (Ta+Tb)/2;// [degree celsius]\n",
"v = 18.22*10^(-6);// [square meter/s] kinematic viscosity\n",
"k = 0.02814;// [W/m degree celsius]\n",
"Cp = 1006;// [J/kg K]\n",
"Pr = 0.703;// prandtl no.\n",
"Re_d = u*d/v;// reynolds number\n",
"disp(Re_d, 'reynolds number is' );\n",
"disp('so that the flow is laminar');\n",
"// so that the flow is laminar\n",
"// now we determine Nu_d_bar for Tw = constant. for Gz_inverse = 0.0346 we read \n",
"Nu_d = 5.15;\n",
"// we thus calculate the average heat transfer coefficient as \n",
"h_bar = Nu_d*k/d;// [W/square meter degree celsius]\n",
"// we base the heat transfer on a mean bulk temperature of Tb_bar, so that\n",
"Tw = 3.49/(h_bar*%pi*d*L)+Tb_bar;// [degree celsius]\n",
"printf('\n exit wall temperature is %f degree celsius',Tw);\n",
"\n",
"\n",
" "
   ]
   }
,
{
		   "cell_type": "markdown",
		   "metadata": {},
		   "source": [
			"## Example 6.5: heat_transfer_in_a_rough_tube.sce"
		   ]
		  },
  {
"cell_type": "code",
	   "execution_count": null,
	   "metadata": {
	    "collapsed": true
	   },
	   "outputs": [],
"source": [
"clear;\n",
"clc;\n",
"printf('\t\t\tExample Number 6.5\n\n\n');\n",
"// heat transfer in a rough tube \n",
"// illustration6.5\n",
"// solution\n",
"\n",
"Tw = 90;// [degree celsius] temperature of tube wall \n",
"d = 0.02;// [m] diameter of tube \n",
"u = 3;// [m/s] velocity of air\n",
"Tw_i = 40;// [degree celsius] entering water temperature \n",
"Tw_f = 60;// [degree celsius] leaving water temperature\n",
"Cp = 4.174*10^3;// [J/kg K]\n",
"Tb_bar = (Tw_i+Tw_f)/2;// [degree celsius]\n",
"// we first calculate the heat transfer from q = m_dot*Cp*dTb\n",
"q = 989*3*%pi*0.01^(2)*4174*(Tw_f-Tw_i);// [W]\n",
"// for the rough tube condition, we may employ the Petukhov relation, equation (6-7) The mean film temperaturee is \n",
"Tf = (Tw+Tb_bar)/2;// [degree celsius]\n",
"// and the fluid properties are \n",
"rho = 978;// [kg/cubic meter] density of gas\n",
"mu = 4.0*10^(-4);// [kg/m s] viscosity  \n",
"k = 0.664;// [W/m degree celsius]\n",
"Pr = 2.54;// prandtl no.\n",
"// also\n",
"mu_b = 5.55*10^(-4);// [kg/m s] viscosity  \n",
"mu_w = 2.81*10^(-4);// [kg/m s] viscosity  \n",
"// the reynolds number is thus \n",
"Re_d = rho*u*d/mu;\n",
"// consulting figure(6-14), we find the friction factor as \n",
"f_f = 0.0218;\n",
"// because Tw>Tb, we take \n",
"n = 0.11;\n",
"// and obtain\n",
"Nu_d = ((f_f*Re_d*2.54)/((1.07+12.7*(f_f/8)^(0.5)*(2.54^(2/3)-1))*8))*(mu_b/mu_w)^(n);\n",
"h = Nu_d*k/d;// [W/square meter degree celsius]\n",
"// the tube length is obtained from energy balance \n",
"L = q/(h*%pi*d*(Tw-Tb_bar));// [m]\n",
"printf('the length of tube necessary to accomplish the heating is %f m',L);\n",
" "
   ]
   }
,
{
		   "cell_type": "markdown",
		   "metadata": {},
		   "source": [
			"## Example 6.6: turbulent_heat_transfer_in_a_short_tube.sce"
		   ]
		  },
  {
"cell_type": "code",
	   "execution_count": null,
	   "metadata": {
	    "collapsed": true
	   },
	   "outputs": [],
"source": [
"clear;\n",
"clc;\n",
"printf('\t\t\tExample Number 6.6\n\n\n');\n",
"// turbulent heat transfer in a short tube \n",
"// illustration6.6\n",
"// solution\n",
"\n",
"p = 101325;// [Pa] pressure of air\n",
"Ta = 300;// [K] temperature of air \n",
"d = 0.02;// [m] diameter of tube \n",
"u = 40;// [m/s] velocity of air\n",
"L = 0.1;// [m] length of tube\n",
"dT = 5;// [degree celsius] rise in temperature \n",
"// we first must evaluate the air properties at 300 K  \n",
"v = 15.69*10^(-6);// [square meter/s] kinematic viscosity\n",
"k = 0.02624;// [W/m degree celsius]\n",
"Cp = 1006;// [J/kg K]\n",
"Pr = 0.70;// prandtl no.\n",
"rho = 1.18;// [kg/cubic meter]\n",
"Re_d = u*d/v;// reynolds number\n",
"disp(Re_d,'reynolds number is ');\n",
"disp('so the flow is turbulent');\n",
"// consulting figure (6-6) for this value of Re_d and L/d = 5 we find\n",
"Nu_x_by_Nu_inf = 1.15;\n",
"// or the heat transfer coefficient is about 15 percent higher that it would be for thermally developed flow.\n",
"// we calculate heat-transfer for developed flow using \n",
"Nu_d = 0.023*Re_d^(0.8)*Pr^(0.4);\n",
"// and \n",
"h = k*Nu_d/d;// [W/square meter degree celsius]\n",
"// increasing this value by 15 percent\n",
"h = 1.15*h;// [W/square meter degree celsius]\n",
"// the mass flow is\n",
"Ac = %pi*d^(2)/4;// [square meter] \n",
"m_dot = rho*u*Ac;// [kg/s]\n",
"// so the total heat transfer is\n",
"A = %pi*d*L;// [square meter] \n",
"q_by_A = m_dot*Cp*dT/A;// [W/square meter]\n",
"printf('\n\n the constant heat flux that must be applied at the tube surface to result in an air temperature rise of 5 degree celsius is %f W/square meter',q_by_A);\n",
"Tb_bar = (Ta+(Ta+dT))/2;// [K]\n",
"Tw_bar = Tb_bar+q_by_A/h;// [K] \n",
"printf('\n\n average wall temperature is %f K',Tw_bar);\n",
""
   ]
   }
,
{
		   "cell_type": "markdown",
		   "metadata": {},
		   "source": [
			"## Example 6.7: airflow_across_isothermal_cylinder.sce"
		   ]
		  },
  {
"cell_type": "code",
	   "execution_count": null,
	   "metadata": {
	    "collapsed": true
	   },
	   "outputs": [],
"source": [
"clear;\n",
"clc;\n",
"printf('\t\t\tExample Number 6.7\n\n\n');\n",
"// airflow across isothermal cylinder\n",
"// illustration6.7\n",
"// solution\n",
"\n",
"p = 101325;// [Pa] pressure of air\n",
"Ta = 35+273.15;// [K] temperature of air \n",
"d = 0.05;// [m] diameter of tube \n",
"R = 287;// [] gas constant\n",
"u = 50;// [m/s] velocity of air\n",
"Tc = 150+273.15;// [degree celsius] cylinder temperature\n",
"// we first find the reynolds number and then find the applicable constants from table(6-2) for use with equation (6-17) \n",
"// the properties of air are evaluated at the film temperature:\n",
"Tf = (Ta+Tc)/2;// [K]\n",
"rho_f = p/(R*Tf);// [kg/cubic meter]\n",
"mu_f = 2.14*10^(-5);// [kg/m s]\n",
"k_f = 0.0312;// [W/m degree celsius]\n",
"Pr_f = 0.695;// prandtl number\n",
"Re_f = rho_f*u*d/mu_f;// reynolds number\n",
"// from table (6-2) table\n",
"C = 0.0266;\n",
"n = 0.805;\n",
"// so from equation (6-17)\n",
"h = C*(Re_f)^(n)*(Pr_f)^(1/3)*k_f/d;// [W/square meter degree celsius] heat transfer coefficient\n",
"// the heat transfer per unit length is \n",
"q_by_L = h*%pi*d*(Tc-Ta);// [W/m]\n",
"printf('heat loss per unit length of cylinder is %f W/m',q_by_L);\n",
""
   ]
   }
,
{
		   "cell_type": "markdown",
		   "metadata": {},
		   "source": [
			"## Example 6.8: heat_transfer_from_electrically_heated.sce"
		   ]
		  },
  {
"cell_type": "code",
	   "execution_count": null,
	   "metadata": {
	    "collapsed": true
	   },
	   "outputs": [],
"source": [
"clear;\n",
"clc;\n",
"printf('\t\t\tExample Number 6.8\n\n\n');\n",
"// heat transfer from electrically heated\n",
"// illustration6.8\n",
"// solution\n",
"\n",
"p = 101325;// [Pa] pressure of air\n",
"Tw = 25+273.15;// [K] temperature of air \n",
"d = 3.94*10^(-5);// [m] diameter of wire\n",
"R = 287;// [] gas constant\n",
"u = 50;// [m/s] velocity of air perpendicular to the air\n",
"Tr = 50+273.15;// [degree celsius] rise in surface temperature\n",
"// we first obtain the properties at the film temperature :\n",
"Tf = (Tw+Tr)/2;// [K]\n",
"v_f = 16.7*10^(-6);// [square meter/s]\n",
"k = 0.02704;// [W/m degree celsius]\n",
"Pr_f = 0.706;// prandtl number\n",
"Re_d = u*d/v_f;// reynolds number\n",
"// the Peclet number is \n",
"Pe = Re_d*Pr_f;\n",
"// and we find that equations (6-17),(6-21), or (6-19) apply.\n",
"// let us make the calculation with both the simplest expression, (6-17),and the most complex,(6-21), and compare results.\n",
"// using equation (6-17) with \n",
"C = 0.683;\n",
"n = 0.466;\n",
"// we have\n",
"Nu_d = 0.683*Re_d^(n)*Pr_f^(1/3);\n",
"// the value of heat transfer coefficient is\n",
"h = Nu_d*k/d;// [W/square meter degree celsius]\n",
"// the heat transfer per unit length is then \n",
"q_by_L = %pi*d*h*(Tr-Tw);// [W/m]\n",
"// using equation (6-21), we calculate the nusselt no as \n",
"Nu_d1 = 0.3+((0.62*Re_d^(1/2)*Pr_f^(1/3))/((1+(0.4/Pr_f)^(2/3))^(1/4))*((1+(Re_d/282000)^(5/8))^(4/5)));\n",
"h1 = Nu_d1*k/d;// [W/square meter degree celsius]\n",
"// and\n",
"q_by_L1 = h1*%pi*d*(Tr-Tw);// [W/m]\n",
"printf('heat lost per unit length by the wire is %f W/m',q_by_L1);\n",
"\n",
"\n",
""
   ]
   }
,
{
		   "cell_type": "markdown",
		   "metadata": {},
		   "source": [
			"## Example 6.9: heat_transfer_from_sphere.sce"
		   ]
		  },
  {
"cell_type": "code",
	   "execution_count": null,
	   "metadata": {
	    "collapsed": true
	   },
	   "outputs": [],
"source": [
"clear;\n",
"clc;\n",
"printf('\t\t\tExample Number 6.9\n\n\n');\n",
"// heat transfer from sphere \n",
"// illustration6.9\n",
"// solution\n",
"\n",
"p = 101325;// [Pa] pressure of air\n",
"Ta = 27+273.15;// [K] temperature of air \n",
"d = 0.012;// [m] diameter of sphere\n",
"u = 4;// [m/s] velocity of air \n",
"Ts = 77+273.15;// [degree celsius] surface temperature of sphere\n",
"// consulting equation (6-30) we find that the reynolds number is evaluated at the free-stream temperature.\n",
"// we therefore need the following properties at Ta = 300.15K\n",
"v = 15.69*10^(-6);// [square meter/s]\n",
"k = 0.02624;// [W/m degree celsius]\n",
"Pr = 0.708;// prandtl number\n",
"mu_inf = 1.8462*10^(-5);// [kg/m s]\n",
"// at Ts = 350K\n",
"mu_w = 2.075*10^(-5);// [kg/m s]\n",
"Re_d = u*d/v;// reynolds number\n",
"// from equation (6-30),\n",
"Nu_bar = 2+((0.4)*(Re_d)^(1/2)+0.06*(Re_d)^(2/3))*(Pr^(0.4))*((mu_inf/mu_w)^(1/4));\n",
"// and\n",
"h_bar = Nu_bar*k/d;// [W/square meter degree celsius] heat transfer coefficient\n",
"// the heat transfer is then \n",
"A = 4*%pi*d^(2)/4;// [square meter] area of sphere\n",
"q = h_bar*A*(Ts-Ta);// [W]\n",
"// for comparison purposes let us also calculate the heat-transfer coefficient using equation(6-25). the film temperature is \n",
"Tf = (Ta+Ts)/2;// [K]\n",
"v_f = 18.23*10^(-6);// [square meter/s]\n",
"k_f = 0.02814;// [W/m degree celsius] \n",
"// reynolds number is \n",
"Re_d1 = u*d/v_f;\n",
"// from equation (6-25)\n",
"Nu_f = 0.37*(u*d/v_f)^(0.6);\n",
"// and h_bar is calculated as\n",
"h_bar = Nu_f*k_f/d;// [W/square meter degree celsius]\n",
"printf('heat lost by the sphere is %f W',q);\n",
"\n",
""
   ]
   }
],
"metadata": {
		  "kernelspec": {
		   "display_name": "Scilab",
		   "language": "scilab",
		   "name": "scilab"
		  },
		  "language_info": {
		   "file_extension": ".sce",
		   "help_links": [
			{
			 "text": "MetaKernel Magics",
			 "url": "https://github.com/calysto/metakernel/blob/master/metakernel/magics/README.md"
			}
		   ],
		   "mimetype": "text/x-octave",
		   "name": "scilab",
		   "version": "0.7.1"
		  }
		 },
		 "nbformat": 4,
		 "nbformat_minor": 0
}
