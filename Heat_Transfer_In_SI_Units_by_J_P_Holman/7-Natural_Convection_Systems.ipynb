{
"cells": [
 {
		   "cell_type": "markdown",
	   "metadata": {},
	   "source": [
       "# Chapter 7: Natural Convection Systems"
	   ]
	},
{
		   "cell_type": "markdown",
		   "metadata": {},
		   "source": [
			"## Example 7.10: heat_transfer_across_water_layer.sce"
		   ]
		  },
  {
"cell_type": "code",
	   "execution_count": null,
	   "metadata": {
	    "collapsed": true
	   },
	   "outputs": [],
"source": [
"clear;\n",
"clc;\n",
"printf('\t\t\tExample Number 7.10\n\n\n');\n",
"// heat transfer across water layer\n",
"// Example 7.10 (page no.-346-347) \n",
"// solution\n",
"\n",
"L = 0.5;// [m] length of square plate\n",
"d = 0.01;// [m] seperation between square plates\n",
"T1 = 100;// [degree F] temperature of lower plate\n",
"T2 = 80;// [degree F] temperature of upper plate\n",
"// we evaluate properties at mean temperature of 90 degree F and obtain, for water\n",
"k = 0.623;// [W/m degree celsus]\n",
"// and the following term is particularly useful in obtaining the product GrPr \n",
"// g*Beta*rho^(2)*Cp/(mu*k) = 2.48*10^(10) [1/m^(3) degree celsius]\n",
"// the Grashof-prandtl number product is now evaluated using the plate spacing of 0.01 m as the characterstic dimension\n",
"K = 2.48*10^(10);// [1/m^(3) degree celsius]\n",
"Gr_into_Pr = K*(T1-T2)*(5/9)*d^(3);\n",
"// now, using equation 7-64 and consulting table 7-3(page no.-344) we obtain\n",
"C = 0.13;\n",
"n = 0.3;\n",
"m = 0;\n",
"// therefore, equation (7-64) becomes\n",
"Ke_by_K = C*Gr_into_Pr^(n);\n",
"// the effectve thermal conductivity is thus\n",
"ke = k*Ke_by_K;// [W/m degree celsius]\n",
"// and the heat transfer is\n",
"A = L^(2);// [square meter] area of plate\n",
"q = ke*A*(T1-T2)*(5/9)/d;// [W]\n",
"printf('heat lost by the lower plate is %f W',q);\n",
""
   ]
   }
,
{
		   "cell_type": "markdown",
		   "metadata": {},
		   "source": [
			"## Example 7.11: reduction_of_convection_in_ar_gap.sce"
		   ]
		  },
  {
"cell_type": "code",
	   "execution_count": null,
	   "metadata": {
	    "collapsed": true
	   },
	   "outputs": [],
"source": [
"clear;\n",
"clc;\n",
"printf('\t\t\tExample Number 7.11 \n\n\n');\n",
"// reduction of convection in ar gap\n",
"// Example 7.11 (page no.-347) \n",
"// solution\n",
"\n",
"Tm = 300;// [K] mean temperature of air\n",
"dT = 20;// [degree celsius] temperature difference\n",
"R = 287;// [] universal gas constant\n",
"g = 9.81;// [m/s^(2)] acceleration due to gravity\n",
"p_atm = 101325;// [Pa] atmospheric pressure\n",
"// consulting table 7-13(page no.-344), we find that for gases, a value Grdel_into_Pr<2000 is necessary to reduce the system to one of pure conduction.\n",
"// at 300 K the properties of air are\n",
"k = 0.02624;// [W/m degree celsius]\n",
"Pr = 0.7;// prandtl no.\n",
"mu = 1.846*10^(-5);// [Kg/m s]\n",
"Beta = 1/300;\n",
"// we have\n",
"Grdel_into_Pr = 2000;\n",
"\n",
"// Part A for spacing of 1cm\n",
"\n",
"del = 0.01;// [m] spacing between plate\n",
"p = sqrt((Grdel_into_Pr*((R*Tm)^(2))*mu^(2))/(g*Beta*dT*del^(3)*Pr));// [Pa]\n",
"// or vacuum\n",
"vacuum = p_atm-p;// [Pa]\n",
"printf('vacuum necessary for glass spacings of 1 cm is %f Pa',vacuum);\n",
"\n",
"// Part B for spacing of 2cm\n",
"\n",
"del1 = 0.02;// [m] spacing between plate\n",
"p1 = sqrt(Grdel_into_Pr*(R*Tm)^(2)*mu^(2)/(g*Beta*dT*del1^(3)*Pr));// [Pa]\n",
"// or vacuum\n",
"vacuum1 = p_atm-p1;// [Pa]\n",
"printf('\n\n vacuum necessary for glass spacings of 2 cm is %f Pa',vacuum1);"
   ]
   }
,
{
		   "cell_type": "markdown",
		   "metadata": {},
		   "source": [
			"## Example 7.12: heat_transfer_across_evacuated_space.sce"
		   ]
		  },
  {
"cell_type": "code",
	   "execution_count": null,
	   "metadata": {
	    "collapsed": true
	   },
	   "outputs": [],
"source": [
"clear;\n",
"clc;\n",
"printf('\t\t\tExample Number 7.12\n\n\n');\n",
"// heat transfer across evacuated space\n",
"// Example 7.12 (page no.-351-352) \n",
"// solution\n",
"\n",
"E = 0.06;// emmisvity of polished aluminium plate\n",
"d = 0.025;// [m] seperation between plates\n",
"p = 101325*10^(-6);// [Pa] pressure of air between plates\n",
"T1 = 100;// [degree celsius] temperature of plate 1\n",
"T2 = 30;// [degree celsius] temperature of plate 2\n",
"// we first calculate the mean free path to determine if low-density effects to be important.\n",
"// evaluating properties at the mean air temperature of 65 degree celsius, we have\n",
"lambda = (2.27*10^(-5)*((T1+T2)/2+273))/(p);// [m]\n",
"// since the plate spacing is only 2.5 cm, we should expect low-density effects to be important.\n",
"// evaluating properties at the mean temperature of 65 degree celsius, we have\n",
"k = 0.0291;// [W/m degree celsius]\n",
"Gamma = 1.40;\n",
"Pr = 0.7;\n",
"alpha = 0.9;// from table 7-4(page no.-350)\n",
"// combining equations (7-75)with the central temperature gradient relation gives \n",
"// inserting the appropriate properties gives\n",
"deff('y = f(dT)','y = dT-((2-alpha)/alpha)*(2*Gamma/(Gamma+1))*(lambda/Pr)*((T1-T2-2*dT)/d)');\n",
"dT = fsolve(1,f);\n",
"// the conduction heat transfer is thus\n",
"q_by_A = k*((T1-T2-2*dT)/d);// [W/square meter]\n",
"printf('conduction heat transfer through the air gap is %f W/square meter',q_by_A);\n",
"// at normal atmospheric pressure the conduction would be \n",
"q_by_A1 = k*((T1-T2)/d);// [W/square meter]\n",
"// the radiation heat transfer is calculated with equation (8-42), taking E1=E2=0.06 for polished aluminium:\n",
"sigma = 5.669*10^(-8);// []\n",
"q_by_A_rad = sigma*(((T1+273)^(4)-(T2+273)^(4))/((2/E)-1));// [W/square meter] \n",
"printf('\n\n thus, at the low density condition the radiation heat transfer is almost %f times as large as the conduction',q_by_A_rad/q_by_A);\n",
""
   ]
   }
,
{
		   "cell_type": "markdown",
		   "metadata": {},
		   "source": [
			"## Example 7.13: combined_free_and_forced_convection_with_air.sce"
		   ]
		  },
  {
"cell_type": "code",
	   "execution_count": null,
	   "metadata": {
	    "collapsed": true
	   },
	   "outputs": [],
"source": [
"clear;\n",
"clc;\n",
"printf('\t\t\tExample Number 7.13\n\n\n');\n",
"// combined free and forced convection with air\n",
"// Example 7.12 (page no.-353-355) \n",
"// solution\n",
"\n",
"p = 101325;// [Pa] pressure of air\n",
"Ta = 27;// [degree celsius] temperature of air\n",
"d = 0.025;// [m] diameter of tube\n",
"u = 0.3;// [m/s] velocity of air\n",
"Tw = 140;// [degree celcius] temperature of tube wall\n",
"L = 0.4;// [m] length of tube\n",
"R = 287;// [] universal gas constant\n",
"// the properties of air are evaluated at the film temperature:\n",
"Tf = (Tw+Ta)/2;// [degree celcius]\n",
"// the properties of interest are thus\n",
"kf = 0.0305;// [W/m degree celcius]\n",
"Pr = 0.695;// prandtl number\n",
"Beta = 1/(Tf+273);// [K^(-1)]\n",
"g = 9.8;// [square meter/s] acceleration due to gravity\n",
"mu_f = 2.102*10^(-5);// [Kg/m s]\n",
"mu_w = 2.337*10^(-5);// [Kg/m s]\n",
"rho_f = p/(R*(Tf+273));// [Kg/cubic meter]\n",
"// let us take the bulk temperature as 27 degree celsius for evaluating mu_b;then\n",
"mu_b = 1.8462*10^(-5);// [Kg/m s]\n",
"// the significant parameters are calculated as \n",
"Re_f = rho_f*u*d/mu_f;\n",
"Gr = rho_f^(2)*g*Beta*(Tw-Ta)*d^(3)/mu_f^(2);\n",
"Z = Gr*Pr*d/L;// constant\n",
"// according to figure(7-14)(page no.-354), the mixed convection flow regime is encountered. thus we must use equation(7-77).\n",
"// The graetz number is calculated as \n",
"Gz = Re_f*Pr*d/L;\n",
"// and the numerical calculation for equation(7-77) becomes\n",
"Nu = 1.75*(mu_b/mu_w)^(0.14)*[Gz+0.012*(Gz*Gr^(1/3))^(4/3)]^(1/3);\n",
"// the average heat transfer coefficient is calculated as \n",
"h_bar = Nu*kf/d;// [W/square meter degree celsius]\n",
"printf('heat transfer coefficient is %f W/square meter degree celsius',h_bar);\n",
""
   ]
   }
,
{
		   "cell_type": "markdown",
		   "metadata": {},
		   "source": [
			"## Example 7.1: constant_heat_flux_from_vertical_plate.sce"
		   ]
		  },
  {
"cell_type": "code",
	   "execution_count": null,
	   "metadata": {
	    "collapsed": true
	   },
	   "outputs": [],
"source": [
"clear;\n",
"clc;\n",
"printf('\t\t\tExample Number 7.1\n\n\n');\n",
"// constant heat flux from vertical plate  \n",
"// Example 7.1 (page no.-330-331) \n",
"// solution\n",
"\n",
"q_w = 800;// [W/square meter] radiant energy flux\n",
"H = 3.5;// [m] height of metal plate surface\n",
"W = 2;// [m] width of metal plate\n",
"Ta = 30;// [degree celsius] surrounding air temperature \n",
"// we treat this problem as one with constant heat flux on the surface since we do not know the surface temperature, we must make an estimate for determining Tf and the air properties.\n",
"// an approximate value of h for free convection problems is \n",
"h = 10;// [W/square meter degree celsius]\n",
"dT = q_w/h;// [degree celsius]\n",
"// then\n",
"Tf = (dT/2)+Ta;// [degree celsius] approximately \n",
"// at Tf the properties of air are \n",
"v = 2.005*10^(-5);// [square meter/s]\n",
"k = 0.0295;// [W/m degree celsius]\n",
"Pr = 0.7;// prandtl number\n",
"Beta = 1/(Tf+273);// [K^(-1)]\n",
"// from equation (7-30), with\n",
"x = 3.5;// [m]\n",
"g = 9.8;// [square meter/s] acceleration due to gravity \n",
"Gr_x = (g*Beta*q_w*x^(4))/(k*v^(2));\n",
"// we may therefore use equation (7-32) to evaluate h_x\n",
"h_x = (k*0.17*(Gr_x*Pr)^(1/4))/x;// [W/square meter degree celsius]\n",
"// in the turbulent heat transfer governed by equation (7-32), we note that\n",
"// Nu_x = h*x/k ~ (Gr_x)^(1/4) ~ x\n",
"// or h_x doest noy vary with x, and we may take this as the average value. the value of h\n",
"h = 5.41;// [W/square meter degree celsius]\n",
"// is less than the approximate value we used to estimate Tf, recalculating dT, we obtain\n",
"dT1 = q_w/h_x;// [degree celsius]\n",
"// our new film temperature would be\n",
"Tf1 = Ta+dT1/2;// [degree celsius]\n",
"// at Tf the properties of air are\n",
"v1 = 2.354*10^(-5);// [square meter/s]\n",
"k1 = 0.0320;// [W/m degree celsius]\n",
"Pr1 = 0.695;// prandtl number\n",
"Beta1 = 1/(Tf1+273);// [K^(-1)]\n",
"// then \n",
"Gr_x1 = (g*Beta1*q_w*x^(4))/(k1*v1^(2));\n",
"// and h_x is caalculated from\n",
"h_x1 = (k1*0.17*(Gr_x1*Pr1)^(1/4))/x;// [W/square meter degree celsius]\n",
"// our new temperature difference is calculated as \n",
"dT2 = q_w/h_x1;// [degree celsius]\n",
"// the average wall temperature is therefore\n",
"T_w_avg = dT2+Ta;// [degree celsius]\n",
"printf('the average wall temperature is therefore %f degree celsius',T_w_avg);\n",
"\n",
"\n",
"\n",
"\n",
"\n",
""
   ]
   }
,
{
		   "cell_type": "markdown",
		   "metadata": {},
		   "source": [
			"## Example 7.2: heat_transfer_from_isothermal_vertical_plate.sce"
		   ]
		  },
  {
"cell_type": "code",
	   "execution_count": null,
	   "metadata": {
	    "collapsed": true
	   },
	   "outputs": [],
"source": [
"clear;\n",
"clc;\n",
"printf('\t\t\tExample Number 7.2\n\n\n');\n",
"// heat transfer from isothermal vertical plate\n",
"// Example 7.2 (page no.-332) \n",
"// solution\n",
"\n",
"H = 4;// [m] height of vertical plate\n",
"Tp = 60;// [degree celsius] plate temperature\n",
"Ta = 10;// [degree celsius] atmospheric temperature\n",
"// we first determine the film temperature as\n",
"Tf = (Tp+Ta)/2;// [degree celsius]\n",
"// the properties of interest are thus\n",
"v = 16.5*10^(-6);// [square meter/s]\n",
"k = 0.02685;// [W/m degree celsius]\n",
"Pr = 0.7;// prandtl number\n",
"Beta = 1/(Tf+273);// [K^(-1)]\n",
"g = 9.8;// [square meter/s] acceleration due to gravity \n",
"// and\n",
"Gr_into_Pr = (g*Beta*(Tp-Ta)*H^(3)*Pr)/(v^(2));\n",
"// we then may use equation (7-29) to obtain\n",
"Nu_bar_root = 0.825+(0.387*(Gr_into_Pr)^(1/6))/(1+(0.492/Pr)^(9/16))^(8/27);\n",
"Nu_bar = (Nu_bar_root)^(2);\n",
"// the heat transfer coefficient is \n",
"h_bar = Nu_bar*k/H;// [W/square meter degree celsius]\n",
"// the heat transfer is \n",
"A = H*10;// [square meter] for 10 m wide plate\n",
"q = h_bar*A*(Tp-Ta);// [W]\n",
"// as an alternative, we could employ the simpler relation \n",
"Nu = 0.1*(Gr_into_Pr)^(1/3);\n",
"printf('heat transfer if the plate is 10 m wide is %f W',q);\n",
"\n",
"\n",
"\n",
"\n",
""
   ]
   }
,
{
		   "cell_type": "markdown",
		   "metadata": {},
		   "source": [
			"## Example 7.3: heat_transfer_from_horizontal_tube_in_water.sce"
		   ]
		  },
  {
"cell_type": "code",
	   "execution_count": null,
	   "metadata": {
	    "collapsed": true
	   },
	   "outputs": [],
"source": [
"clear;\n",
"clc;\n",
"printf('\t\t\tExample Number 7.3\n\n\n');\n",
"// heat transfer from horizontal tube in water\n",
"// Example 7.3 (page no.-333) \n",
"// solution\n",
"\n",
"d = 0.02;// [m] diameter of heater\n",
"Ts = 38;// [degree celsius] surface temperature of heater\n",
"Tw = 27;// [degree celsius] water temperature\n",
"// the film temperature is \n",
"Tf = (Ts+Tw)/2;// [degree celsius]\n",
"// from appendix A the properties of water are \n",
"k = 0.630;// [W/m degree celsius] thermal conductivity\n",
"// and the following term is particularly useful in obtaining the product GrPr product when it is multiplied by d^(3)*DT\n",
"// g*Beta*rho^(2)*Cp/(mu*k) = 2.48*10^(10) [1/m^(3) degree celsius]\n",
"K = 2.48*10^(10);// [1/m^(3) degree celsius]\n",
"Gr_into_Pr = K*(Ts-Tw)*d^(3);\n",
"// using table 7-1 (page number -328), we get \n",
"C = 0.53;\n",
"m = 1/4;\n",
"// so that\n",
"Nu = C*(Gr_into_Pr)^(1/4);\n",
"h = Nu*k/d;// [W/square meter degree celsius] convection heat transfer coefficient\n",
"// the heat transfer is thus\n",
"q_by_L = h*%pi*d*(Ts-Tw);// [W/m]\n",
"printf('free-convection heat loss per unit length of heater is %f W/m',q_by_L);\n",
""
   ]
   }
,
{
		   "cell_type": "markdown",
		   "metadata": {},
		   "source": [
			"## Example 7.4: heat_transfer_from_fine_wire_in_air.sce"
		   ]
		  },
  {
"cell_type": "code",
	   "execution_count": null,
	   "metadata": {
	    "collapsed": true
	   },
	   "outputs": [],
"source": [
"clear;\n",
"clc;\n",
"printf('\t\t\tExample Number 7.4\n\n\n');\n",
"// heat transfer from fine wire in air\n",
"// Example 7.4 (page no.-333-334) \n",
"// solution\n",
"\n",
"d = 0.00002;// [m] diameter of wire\n",
"L = 0.5;// [m] length of wire whose temperature is maintained\n",
"Ts = 54;// [degree celsius] surface temperature of wire \n",
"Pa = 101325;// [Pa] pressure of air\n",
"Ta = 0;// [degree celsius] temperature of air \n",
"// we first determine the film temperature as\n",
"Tf = (Ts+Ta)/2;// [degree celsius]\n",
"// the properties of interest are thus\n",
"v = 15.69*10^(-6);// [square meter/s]\n",
"k = 0.02624;// [W/m degree celsius]\n",
"Pr = 0.708;// prandtl number\n",
"Beta = 1/(Tf+273);// [K^(-1)]\n",
"g = 9.8;// [square meter/s] acceleration due to gravity \n",
"// and\n",
"Gr_into_Pr = (g*Beta*(Ts-Ta)*d^(3)*Pr)/(v^(2));\n",
"// from table 7-1 we find\n",
"C = 0.675;\n",
"m = 0.058;\n",
"// so that\n",
"Nu_bar = C*(Gr_into_Pr)^(m);\n",
"h_bar = Nu_bar*k/d;// [W/square meter degree celsius]\n",
"// the heat required is \n",
"A = %pi*d*L;// [square meter] surface area of wire \n",
"q = h_bar*A*(Ts-Ta);// [W]\n",
"printf('electric power necessary to maintain the the wire temperature if the length is 0.5 m is %f W',q);"
   ]
   }
,
{
		   "cell_type": "markdown",
		   "metadata": {},
		   "source": [
			"## Example 7.5: heated_horizontal_pipe_in_air.sce"
		   ]
		  },
  {
"cell_type": "code",
	   "execution_count": null,
	   "metadata": {
	    "collapsed": true
	   },
	   "outputs": [],
"source": [
"clear;\n",
"clc;\n",
"printf('\t\t\tExample Number 7.5\n\n\n');\n",
"// heated horizontal pipe in air \n",
"// Example 7.5 (page no.-334-335) \n",
"// solution\n",
"\n",
"d = 0.3048;// [m] diameter of pipe\n",
"Ts = 250;// [degree celsius] surface temperature of pipe \n",
"Ta = 15;// [degree celsius] temperature of air \n",
"// we first determine the Grashof-prandtl number product and then select the appropriate constants from table 7-1(page no.-328) for use with              equation (7-25) \n",
"// the properties of air are evaluated at the film temperature:\n",
"Tf = (Ts+Ta)/2;// [degree celsius]\n",
"// the properties of interest are thus\n",
"v = 26.54*10^(-6);// [square meter/s]\n",
"k = 0.03406;// [W/m degree celsius]\n",
"Pr = 0.687;// prandtl number\n",
"Beta = 1/(Tf+273);// [K^(-1)]\n",
"g = 9.8;// [square meter/s] acceleration due to gravity\n",
"Gr_d_into_Pr = g*Beta*(Ts-Ta)*d^(3)*Pr/(v^(2));\n",
"// from table 7-1 \n",
"C = 0.53;\n",
"m = 1/4;\n",
"Nu_d = C*(Gr_d_into_Pr)^(m);\n",
"h = Nu_d*k/d;// [W/square meter degree celsius]\n",
"// the heat transfer per unit length is then calculated from \n",
"q_by_L = h*%pi*d*(Ts-Ta);// [W/m]\n",
"printf('free-convection heat loss per unit length is %f kW/m',q_by_L/1000);"
   ]
   }
,
{
		   "cell_type": "markdown",
		   "metadata": {},
		   "source": [
			"## Example 7.6: cube_cooling_in_air.sce"
		   ]
		  },
  {
"cell_type": "code",
	   "execution_count": null,
	   "metadata": {
	    "collapsed": true
	   },
	   "outputs": [],
"source": [
"clear;\n",
"clc;\n",
"printf('\t\t\tExample Number 7.6\n\n\n');\n",
"// cube cooling in air\n",
"// Example 7.6 (page no.-336) \n",
"// solution\n",
"\n",
"L = 0.2;// [m] side length of cube\n",
"Ts = 60;// [degree celsius] surface temperature of cube\n",
"Ta = 10;// [degree celsius] air temperature\n",
"// this is an irregular solid so we use the information in the last entry of table 7-1(page no.-328) in the absence of a specific correlation for this    geometry. \n",
"// the properties were evaluated as\n",
"v = 17.47*10^(-6);// [square meter/s]\n",
"k = 0.02685;// [W/m degree celsius]\n",
"Pr = 0.70;// prandtl number\n",
"Beta = 3.25*10^(-3);// [K^(-1)]\n",
"g = 9.8;// [square meter/s] acceleration due to gravity \n",
"// the characteristic length is the distance a particle travels in the boundary layer, which is L/2 along the bottom plus L along the side plus L/2 on  the top or\n",
"Gr_into_Pr = (g*Beta*(Ts-Ta)*(2*L)^(3)*Pr)/(v^(2));\n",
"// from the last entry in table 7-1 we find\n",
"C = 0.52;\n",
"n = 1/4;\n",
"// so that\n",
"Nu = C*(Gr_into_Pr)^(n);\n",
"h_bar = Nu*k/(2*L);// [W/square meter degree celsius]\n",
"// the cube has six sides so the area is \n",
"A = 6*L^(2);// [square meter]\n",
"// the heat required is \n",
"q = h_bar*A*(Ts-Ta);// [W]\n",
"printf('heat transfer is %f W',q);"
   ]
   }
,
{
		   "cell_type": "markdown",
		   "metadata": {},
		   "source": [
			"## Example 7.7: calculation_with_simplified_relations.sce"
		   ]
		  },
  {
"cell_type": "code",
	   "execution_count": null,
	   "metadata": {
	    "collapsed": true
	   },
	   "outputs": [],
"source": [
"clear;\n",
"clc;\n",
"printf('\t\t\tExample Number 7.7\n\n\n');\n",
"// calculation with simplified relations \n",
"// Example 7.7 (page no.-338-339) \n",
"// solution\n",
"\n",
"// this example is calculation of heat transfer with simplified relations for example (7.5) so we use the data of example 7.5\n",
"\n",
"d = 0.3048;// [m] diameter of pipe\n",
"Ts = 250;// [degree celsius] surface temperature of pipe \n",
"Ta = 15;// [degree celsius] temperature of air \n",
"// we first determine the Grashof-prandtl number product and then select the appropriate constants from table 7-1(page no.-328) for use with              equation (7-25) \n",
"// the properties of air are evaluated at the film temperature:\n",
"Tf = (Ts+Ta)/2;// [degree celsius]\n",
"// the properties of interest are thus\n",
"v = 26.54*10^(-6);// [square meter/s]\n",
"k = 0.03406;// [W/m degree celsius]\n",
"Pr = 0.687;// prandtl number\n",
"Beta = 1/(Tf+273);// [K^(-1)]\n",
"g = 9.8;// [square meter/s] acceleration due to gravity\n",
"// in example (7.5) we found that a rather large pipe with a substantial temperature difference between the surface and air still had a GrPr product of  1.57*10^(8)<10^(9), so laminar equation is selected from table 7-2(page no.-339). the heat transfer coefficient is given by \n",
"h = 1.32*((Ts-Ta)/d)^(1/4);// [W/square meter degree celsius]\n",
"// the heat transfer is then \n",
"q_by_L = h*%pi*d*(Ts-Ta);// [W/m]\n",
"printf('heat transfer is %f kW/m',q_by_L/1000);\n",
"\n",
"\n",
""
   ]
   }
,
{
		   "cell_type": "markdown",
		   "metadata": {},
		   "source": [
			"## Example 7.8: heat_transfer_across_vertical_air_gap.sce"
		   ]
		  },
  {
"cell_type": "code",
	   "execution_count": null,
	   "metadata": {
	    "collapsed": true
	   },
	   "outputs": [],
"source": [
"clear;\n",
"clc;\n",
"printf('\t\t\tExample Number 7.8\n\n\n');\n",
"// heat transfer across vertical air gap\n",
"// Example 7.8 (page no.-345) \n",
"// solution\n",
"\n",
"L = 0.5;// [m] side length vertical square plate\n",
"d = 0.015;// [m] distance between plates\n",
"p = 101325;// [Pa] pressure of air\n",
"R = 287;// [] universal gas constant\n",
"T1 = 100;// [degree celsius] temperature of first plate\n",
"T2 = 40;// [degree celsius] temperature of second plate\n",
"E = 0.2;// emissivity of both surfaces\n",
"// the properties of air is evaluated at the mean temperature\n",
"Tf = (T1+T2)/2;// [degree celsius]\n",
"rho = p/(R*(Tf+273));// [Kg/m^(3)] density\n",
"k = 0.0295;// [W/m degree celsius]\n",
"Pr = 0.70;// prandtl number\n",
"Beta = 1/(Tf+273);// [K^(-1)]\n",
"mu = 2.043*10^(-5);// [Kg/m s] viscosity\n",
"g = 9.8;// [square meter/s] acceleration due to gravity\n",
"// the Grashof-prandtl number product is now calculated as \n",
"Gr_into_Pr = (g*rho^(2)*Beta*(T1-T2)*(d)^(3)*Pr)/(mu^(2));\n",
"// we may now use equation (7-64) to calculate the effective thermal conductivity, with\n",
"L = 0.5;// [m]\n",
"del = 0.015;// [m]\n",
"// and the constants taken from table 7-3(page no.-344):\n",
"Ke_by_K = 0.197*(Gr_into_Pr)^(1/4)*(L/del)^(-1/9);\n",
"// the heat transfer may now be calculated with equation (7-54). the area is \n",
"A = L^(2);// [square meter]\n",
"q = Ke_by_K*k*A*(T1-T2)/del;// [W]\n",
" // the radiation flux is calculated with equation(7-67), taking \n",
"T1 = 373;// [K]\n",
"T2 = 313;// [K]\n",
"E1 = E;\n",
"E2 = E;\n",
"sigma = 5.669*10^(-8);// [W/square meter K^(4)]\n",
"q_A = sigma*(T1^(4)-T2^(4))/((1/E1)+(1/E2)-1);// [W/square meter]\n",
"q_rad = A*q_A;// [W]\n",
"printf('free-convection heat transfer across the air space is %f W',q);\n",
"printf('\n\nradiation heat transfer across the air space is %f W',q_rad);"
   ]
   }
,
{
		   "cell_type": "markdown",
		   "metadata": {},
		   "source": [
			"## Example 7.9: heat_transfer_across_horizontal_air_gap.sce"
		   ]
		  },
  {
"cell_type": "code",
	   "execution_count": null,
	   "metadata": {
	    "collapsed": true
	   },
	   "outputs": [],
"source": [
"clear;\n",
"clc;\n",
"printf('\t\t\tExample Number 7.9\n\n\n');\n",
"// heat transfer across horizontal air gap\n",
"// Example 7.9 (page no.-346) \n",
"// solution\n",
"\n",
"a = 0.2;// [m] side length of plate\n",
"d = 0.01;// [m] seperation between two plates \n",
"p = 101325;// [Pa] pressure of air\n",
"R = 287;// [] universal gas constant\n",
"T1 = 100;// [degree celsius] temperature of first plate\n",
"T2 = 40;// [degree celsius] temperature of second plate\n",
"// the properties are the same as given in example(7.8)\n",
"Tf = (T1+T2)/2;// [degree celsius]\n",
"rho = p/(R*(Tf+273));// [Kg/m^(3)] density\n",
"k = 0.0295;// [W/m degree celsius]\n",
"Pr = 0.70;// prandtl number\n",
"Beta = 1/(Tf+273);// [K^(-1)]\n",
"mu = 2.043*10^(-5);// [Kg/m s] viscosity\n",
"g = 9.8;// [square meter/s] acceleration due to gravity\n",
"// the GrPr product is evaluated on the basis of the separating distance, so we have \n",
"Gr_into_Pr = (g*rho^(2)*Beta*(T1-T2)*(d)^(3)*Pr)/(mu^(2));\n",
"// consulting table 7-3(page no.-344) we find\n",
"C = 0.059;\n",
"n = 0.4;\n",
"m = 0;\n",
"Ke_by_K = C*(Gr_into_Pr)^(n)*(a/d)^(m);\n",
"A = a^(2);// [square meter] area of plate \n",
"q = Ke_by_K*k*A*(T1-T2)/d;// [W]\n",
"printf('heat transfer across the air space is %f W',q);"
   ]
   }
],
"metadata": {
		  "kernelspec": {
		   "display_name": "Scilab",
		   "language": "scilab",
		   "name": "scilab"
		  },
		  "language_info": {
		   "file_extension": ".sce",
		   "help_links": [
			{
			 "text": "MetaKernel Magics",
			 "url": "https://github.com/calysto/metakernel/blob/master/metakernel/magics/README.md"
			}
		   ],
		   "mimetype": "text/x-octave",
		   "name": "scilab",
		   "version": "0.7.1"
		  }
		 },
		 "nbformat": 4,
		 "nbformat_minor": 0
}
