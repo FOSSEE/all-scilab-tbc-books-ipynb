{
"cells": [
 {
		   "cell_type": "markdown",
	   "metadata": {},
	   "source": [
       "# Chapter 4: Unsteady State Conduction"
	   ]
	},
{
		   "cell_type": "markdown",
		   "metadata": {},
		   "source": [
			"## Example 4.10: heat_loss_for_finite_length_cylinder.sce"
		   ]
		  },
  {
"cell_type": "code",
	   "execution_count": null,
	   "metadata": {
	    "collapsed": true
	   },
	   "outputs": [],
"source": [
"clear;\n",
"clc;\n",
"printf('\t\t\tExample Number 4.10\n\n\n');\n",
"// heat loss for finite-length cylinder \n",
"// illustration4.10\n",
"// solution\n",
"\n",
"d = 0.05;// [m] diameter of aluminium cylinder\n",
"l = 0.1;// [m] length of aluminium cylinder  \n",
"Ti = 200;// [degree celsius] initial temperature of of cylinder\n",
"Te = 70;// [degree celsius] environment temperature\n",
"k = 215;// [W/m degree celsius] heat transfer coefficient of plate\n",
"h = 525;// [W/square meter degree celsius] convection heat transfer coefficient \n",
"alpha = 8.4*10^(-5);// [square meter/s] constant\n",
"x1 = 0.00625;// [m] distance at which temperature is calculated from end\n",
"t = 60;// [s] time after which temperature is measured\n",
"r = 0.0125;// [m] radius at which temperature is calculated\n",
"// we first calculate the dimensionless heat-loss ratio for the infinite plate and infinite cylinder which make up the multidimensional body\n",
"// for the plate we have \n",
"L = 0.05;// [m]\n",
"A = h*L/k;\n",
"B = h^(2)*alpha*t/k^(2);\n",
"// from figure (4-14), for the plate, we read \n",
"Q_by_Q_o_plate = 0.22;\n",
"// for the cylinder \n",
"r_o = 0.025;// [m]\n",
"// so we calculate \n",
"C = h*r_o/k;\n",
"// and from figure(4-15) we have \n",
"Q_by_Q_o_cyl = 0.55;\n",
"// the two heat ratios may be inserted in equation(4-22) to give \n",
"Q_by_Q_o_tot = Q_by_Q_o_plate+Q_by_Q_o_cyl*(1-Q_by_Q_o_plate);\n",
"c = 896;// [J/kg degree celsius] specific heat of aluminium\n",
"rho = 2707;// [kg/cubic meter] density of aluminium\n",
"V = %pi*r_o^(2)*l;// [cubic meter]\n",
"Qo = rho*c*V*(Ti-Te);// [J]\n",
"Q = Qo*Q_by_Q_o_tot;// [J] the actual heat loss in the 1-minute \n",
"printf(' the actual heat loss in the 1-minute  is %f kJ',Q/1000);\n",
"\n",
"\n",
"\n",
"\n",
"\n",
"\n",
"\n",
"\n",
"\n",
"\n",
"\n",
"\n",
"\n",
""
   ]
   }
,
{
		   "cell_type": "markdown",
		   "metadata": {},
		   "source": [
			"## Example 4.12: implicit_formulatio.sce"
		   ]
		  },
  {
"cell_type": "code",
	   "execution_count": null,
	   "metadata": {
	    "collapsed": true
	   },
	   "outputs": [],
"source": [
"clear;\n",
"clc;\n",
"printf('\t\t\tExample Number 4.12\n\n\n');\n",
"// implicit formulation\n",
"// Example 4.12 (page no.-173-174)\n",
"// solution\n",
"\n",
"// we are using the data of example 4.11 for this question\n",
"// we are inserting the value of Rij in equation (4-43) to write the nodal equations for the end of the first time increment, taking all T1^(p) = 200 degree celsius\n",
"// we use underscore to designate the temperatures at the end of the time increment. for node 1\n",
"// 0.05302*T1_ = 200/70.731+T2_/70.731+40/84.833+0.01296*200\n",
"// for node 2\n",
"// 0.05302*T2_ = T1_/70.731+T3_/70.731+40/84.833+0.01296*200\n",
"// for node 3 and 4,\n",
"// 0.05302*T3_ = T2_/70.731+T4_/70.731+40/84.833+0.01296*200\n",
"// 0.02686*T4_ = T3_/70.731+40/2829+40/169.77+0.00648*200\n",
"// these equations can then be reduced to\n",
"// 0.05302*T1_-0.01414*T2_ = 5.8911\n",
"// -0.01414*T1_+0.05302*T2_-0.01414*T3_ = 3.0635\n",
"// -0.01414*T2_+0.05302*T3_-0.01414*T4_ = 3.0635\n",
"// -0.01414*T3_+0.02686*T4_ = 1.5457\n",
"// These equations can be solved by matrix method \n",
"Z = [0.05302 -0.01414 0 0;-0.01414 0.05302 -0.01414 0;0 -0.01414 0.05302 -0.01414;0 0 -0.01414 0.02686];\n",
"C = [5.8911;3.0635;3.0635;1.5457];\n",
"T_ = Z^(-1)*C;\n",
"T1_ = T_(1);// [degree celsius]\n",
"T2_ = T_(2);// [degree celsius]\n",
"T3_ = T_(3);// [degree celsius]\n",
"T4_ = T_(4);// [degree celsius]\n",
"// we can now apply the backward-difference formulation a second time using the double underscore to designate the temperatures at the end of the second time increment:\n",
"// 0.05302*T1__ = 200/70.731+T2__/70.731+40/84.833+0.01296*145.81\n",
"// 0.05302*T2__ = T1__/70.731+T3__/70.731+40/84.833+0.01296*130.12\n",
"// 0.05302*T3__ = T2__/70.731+T4__/70.731+40/84.833+0.01296*125.43\n",
"// 0.02686*T4__ = T3__/70.731+40/2829+40/169.77+0.00648*123.56\n",
"// These equations can be solved by matrix method\n",
"X = [0.05302 -0.01414 0 0;-0.01414 0.05302 -0.01414 0;0 -0.01414 0.05302 -0.01414;0 0 -0.01414 0.02686];\n",
"V = [5.1888;2.1578;2.0970;1.0504];\n",
"T__ = X^(-1)*V;\n",
"T1__ = T__(1);// [degree celsius]\n",
"T2__ = T__(2);// [degree celsius]\n",
"T3__ = T__(3);// [degree celsius]\n",
"T4__ = T__(4);// [degree celsius]\n",
"printf(' temperatures after time increment 1 are:');\n",
"printf('\n\n\t\t T1'' == %f',T1_);\n",
"printf('\n\n\t\t T2'' == %f',T2_);\n",
"printf('\n\n\t\t T3'' == %f',T3_);\n",
"printf('\n\n\t\t T4'' == %f',T4_);\n",
"printf('\n\n temperatures after time increment 2 are:');\n",
"printf('\n\n\t\t T1'''' == %f',T1__);\n",
"printf('\n\n\t\t T2'''' == %f',T2__);\n",
"printf('\n\n\t\t T3'''' == %f',T3__);\n",
"printf('\n\n\t\t T4'''' == %f',T4__);\n",
""
   ]
   }
,
{
		   "cell_type": "markdown",
		   "metadata": {},
		   "source": [
			"## Example 4.1: steel_ball_cooling_in_air.sce"
		   ]
		  },
  {
"cell_type": "code",
	   "execution_count": null,
	   "metadata": {
	    "collapsed": true
	   },
	   "outputs": [],
"source": [
"clear;\n",
"clc;\n",
"printf('\t\t\tExample Number 4.1\n\n\n');\n",
"// steel ball cooling in air \n",
"// illustration4.1\n",
"// solution\n",
"\n",
"h = 10;// [W/square meter per degree celsius] convectional heat transfer coefficient\n",
"k = 35;// [W/m per degree celsius] heat transfer coefficient\n",
"c = 460;// [kJ/kg]\n",
"r = 0.05/2;// [m] diameter of ball \n",
"Tb = 450;// [degree celsius] ball temperature\n",
"Te = 100;// [degree celsius] environment temperature \n",
"A = 4*%pi*r^(2);\n",
"V = 4*%pi*r^(3)/3;\n",
"// We anticipate that the lumped capacity method will apply because of the low value of h and high value of k\n",
"// we check by using equation (4-6)\n",
"K = h*(V/A)/k;\n",
"// since the value of K is less than 0.1 so we will use equation (4-5)\n",
"T = 150;// [degree celsius] attained temperature by the ball\n",
"rho = 7800;// [kg/cubic meter] density of the ball\n",
"a = (h*A)/(rho*c*V);\n",
"t = log((T-Te)/(Tb-Te))/(-a);// [s] time required to attain the temperature of 150 degree celsius\n",
"printf('time required to attain the temperature of 150 by degree celsius by the ball is %f h',t/3600);\n",
"\n",
"    "
   ]
   }
,
{
		   "cell_type": "markdown",
		   "metadata": {},
		   "source": [
			"## Example 4.2: Semi_infinite_solid_with_sudden_change_in_surface_conditions.sce"
		   ]
		  },
  {
"cell_type": "code",
	   "execution_count": null,
	   "metadata": {
	    "collapsed": true
	   },
	   "outputs": [],
"source": [
"clear;\n",
"clc;\n",
"printf('\t\t\tExample Number 4.2\n\n\n');\n",
"// Semi-infinite solid with sudden change in surface conditions\n",
"// illustration4.2\n",
"// solution\n",
"\n",
"k = 45;// [W/m per degree celsius] thermal conductivity of steel block\n",
"alpha = 1.4*10^(-5);// [square meter/s] constant\n",
"Tb = 35;// [degree celsius] block temperature\n",
"x = 0.025;// [m] depth at which temperature is calculated\n",
"t = 30;// [s] time after which temperature is to be calculated \n",
"// we can make use of the solutions for the semi-infinite solid given as equation (4-8) and (4-13a)\n",
"// for case A (by suddenly raising the  surface temperature to 250 degree celsius)\n",
"To = 250;// [degree celsius]\n",
"T_x_t = To+(Tb-To)*(erf(x/(2*(alpha*t)^(1/2))));\n",
"printf('temperature at depth of 0.025 m after 30 second for case 1 is %f degree celsius',T_x_t);\n",
"// for the constant heat flux case B we make use of equation (4-13a)\n",
"// since qo/A is given \n",
"q_by_A = 3.2*10^(5);// [W/square meter]\n",
"T_x_t1 = Tb+(2*q_by_A*(alpha*t/%pi)^(1/2)*exp(-x^(2)/(4*alpha*t))/k)-(q_by_A*x*(1-erf(x/(2*(alpha*t)^(1/2))))/k);// [degree celsius]\n",
"printf('\n temperature at depth of 0.025 m after 30 second for case 2 is %f degree celsius',T_x_t1)\n",
"// for the constant heat flux case the surface temperature after 30 s would be evaluated with x = 0 in equation(4-13a)\n",
"x = 0;// [m] at the surface\n",
"T_x_o = Tb+(2*q_by_A*(alpha*t/%pi)^(1/2)*exp(-x^(2)/(4*alpha*t))/k)-(q_by_A*x*(1-erf(x/(2*(alpha*t)^(1/2))))/k);// [degree celsius]\n",
"printf('\n surface temperature after 30 second is %f degree celsius',T_x_o);\n",
"\n",
"\n",
"\n",
"\n",
"\n",
"\n",
" "
   ]
   }
,
{
		   "cell_type": "markdown",
		   "metadata": {},
		   "source": [
			"## Example 4.3: pulsed_energy_at_surface_of_semi_infinite_solid.sce"
		   ]
		  },
  {
"cell_type": "code",
	   "execution_count": null,
	   "metadata": {
	    "collapsed": true
	   },
	   "outputs": [],
"source": [
"clear;\n",
"clc;\n",
"printf('\t\t\tExample Number 4.3\n\n\n');\n",
"// pulsed energy at surface of semi-infinite solid\n",
"// illustration4.3\n",
"// solution\n",
"\n",
"rho = 7800;// [kg/cubic meter] density of slab\n",
"c = 460;// [J/kg degree celsius] constant\n",
"alpha = 0.44*10^(-5);// [square meter/s] constant\n",
"Ts = 40;// [degree celsius] initial temperature of of slab\n",
"x = 0.0;// [m] depth at which temperature is calculated\n",
"t = 2;// [s] time after which temperature is calculated\n",
"// this problem is a direct application of equation (4-13b)\n",
"// we have \n",
"Qo_by_A = 10^(7);// [J/square meter] heat flux\n",
"To = Ts+(Qo_by_A/(rho*c*(%pi*alpha*t)^(1/2)))*exp(-x^(2)/(4*alpha*t));// [degree celsius] surface temperature at x = 0 \n",
"printf('surface temperature at x = 0 and at t = 2 second is %f degree celsius',To);\n",
"x = 0.002;// [m] depth at which temperature is calculated\n",
"T = Ts+(Qo_by_A/(rho*c*(%pi*alpha*t)^(1/2)))*exp(-x^(2)/(4*alpha*t));// [degree celsius] temperature at depth x = 0.002  \n",
"printf('\n temperature at depth 0.002 m and after 2 second is %f degree celsius',T);\n",
"\n",
"\n",
"\n",
""
   ]
   }
,
{
		   "cell_type": "markdown",
		   "metadata": {},
		   "source": [
			"## Example 4.4: heat_removal_from_semi_infinite_solid.sce"
		   ]
		  },
  {
"cell_type": "code",
	   "execution_count": null,
	   "metadata": {
	    "collapsed": true
	   },
	   "outputs": [],
"source": [
"clear;\n",
"clc;\n",
"printf('\t\t\tExample Number 4.4\n\n\n');\n",
"// heat removal from semi-infinite solid\n",
"// illustration4.4\n",
"// solution\n",
"\n",
"alpha = 8.4*10^(-5);// [square meter/s] constant\n",
"Ts = 200;// [degree celsius] initial temperature of of slab\n",
"x = 0.04;// [m] depth at which temperature is calculated\n",
"T_x_t = 120;// [degree celsius] temperature at depth 0.04 m\n",
"To = 70;// [degree celsius] surface temperature after lowering\n",
"k = 215;// [W/m degree celsius] heat transfer coefficient \n",
"// We first find the time required to attain the 120 degree celsius temperature \n",
"// and then integrate equation(4-12) to find the total heat removed during this interval \n",
"t = (x/(erfinv(((T_x_t-To)/(Ts-To)))*2*sqrt(alpha)))^(2);// [s]\n",
"printf('time taken to attain the temperature of 120 degree celsius %f s',t);\n",
"// the total heat removed at the surface is obtained by integrating equation(4-12):\n",
"// Qo_by_A = integrate('qo_by_A','dt',0,t)\n",
"// or Qo_by_A = integrate('k*(To-Ts)/(sqrt(%pi*alpha*t))','dt',0,t)\n",
"Qo_by_A = integrate('k*(To-Ts)/(sqrt(%pi*alpha*t))','t',0,t);\n",
"printf('\n the total heat removed from the surface is %e J/square meter',Qo_by_A);\n",
"\n",
"\n",
"\n",
""
   ]
   }
,
{
		   "cell_type": "markdown",
		   "metadata": {},
		   "source": [
			"## Example 4.5: sudden_exposure_of_semi_infinite_solid_slab_to_convection.sce"
		   ]
		  },
  {
"cell_type": "code",
	   "execution_count": null,
	   "metadata": {
	    "collapsed": true
	   },
	   "outputs": [],
"source": [
"clear;\n",
"clc;\n",
"printf('\t\t\tExample Number 4.5\n\n\n');\n",
"// sudden exposure of semi-infinite solid slab to convection\n",
"// illustration4.5\n",
"// solution\n",
"\n",
"alpha = 8.4*10^(-5);// [square meter/s] constant\n",
"Ts = 200;// [degree celsius] initial temperature of of slab\n",
"Te = 70;// [degree celsius] environment temperature \n",
"k = 215;// [W/m degree celsius] heat transfer coefficient of slab\n",
"h = 525;// [W/square meter degree celsius] heat transfer coefficient \n",
"x = 0.04;// [m] depth at which temperature is calculated\n",
"T_x_t = 120;// [degree celsius] temperature at depth 0.04 m\n",
"// we can use equation (4-15) or figure (4-5) for solution of this problem\n",
"// by using figure it is easier to calculate  it involves iterative method to solve because time appeares in both the variables \n",
"// h*sqrt(alpha*t)/k and x/(2*sqrt(alpha*t))\n",
"K = (T_x_t-Ts)/(Te-Ts); \n",
"// we seek the values of t such that the above value of K is equal to the value of K which comes out from graph\n",
"// we therfore try values of t and obtain other readings\n",
"printf('The iteration are listed below\n');\n",
"// at t = 1000s\n",
"t = 1000;// [s] time\n",
"A =  h*sqrt(alpha*t)/k;\n",
"B = x/(2*sqrt(alpha*t));\n",
"printf(' t\t\th*sqrt(alpha*t)/k \t x/(2*sqrt(alpha*t)) \t (T_x_t-Ts)/(Te-Ts)');\n",
"printf('\n %f\t\t %f \t %f \t\t 0.41',t,A,B);\n",
"t = 3000;// [s] time\n",
"A =  h*sqrt(alpha*t)/k;\n",
"B = x/(2*sqrt(alpha*t));\n",
"printf('\n %f\t\t %f \t %f \t\t 0.61',t,A,B);\n",
"t = 4000;// [s] time\n",
"A =  h*sqrt(alpha*t)/k;\n",
"B = x/(2*sqrt(alpha*t));\n",
"printf('\n %f\t\t %f \t %f \t\t 0.68',t,A,B);\n",
"printf('\n consequently the time required is approximately 3000 second');\n",
"\n",
"\n",
"\n",
""
   ]
   }
,
{
		   "cell_type": "markdown",
		   "metadata": {},
		   "source": [
			"## Example 4.6: aluminium_plate_suddenly_exposed_to_convection.sce"
		   ]
		  },
  {
"cell_type": "code",
	   "execution_count": null,
	   "metadata": {
	    "collapsed": true
	   },
	   "outputs": [],
"source": [
"clear;\n",
"clc;\n",
"printf('\t\t\tExample Number 4.6\n\n\n');\n",
"// aluminium plate suddenly  exposed to convection\n",
"// illustration4.6\n",
"// solution\n",
"\n",
"alpha = 8.4*10^(-5);// [square meter/s] constant\n",
"Ts = 200;// [degree celsius] initial temperature of of plate\n",
"Te = 70;// [degree celsius] environment temperature \n",
"k = 215;// [W/m degree celsius] heat transfer coefficient of plate\n",
"h = 525;// [W/square meter degree celsius] heat transfer coefficient \n",
"x = 0.0125;// [m] depth at which temperature is calculated\n",
"t = 60;// [s] time after which plate temperature is calculated\n",
"L = 0.025;// [m] thickness of plate\n",
"theta_i = Ts-Te;// [degree celsius]\n",
"// then \n",
"Z = alpha*t/L^2;\n",
"X = k/(h*L);\n",
"x_by_L = x/L;\n",
"// from figure 4-7(page no.-144-145)\n",
"theta_o_by_theta_i = 0.61;\n",
"theta_o = theta_o_by_theta_i*theta_i;// [degree celsius]\n",
"// from figure 4-10(page no.-149) at x/L = 0.5,\n",
"theta_by_theta_o = 0.98;\n",
"theta = theta_by_theta_o*theta_o;// [degree celsius]\n",
"T = Te+theta;// [degree celsius]\n",
"// we compute the energy lost by the slab by using Figure 4-14(page no.-152). For this calculation we require the following properties of aluminium:\n",
"rho = 2700;// [kg/cubic meter]\n",
"C = 900;// [J/kg degree celsius]\n",
"// for figure 4-14(page no.-152) we need \n",
"V = h^2*alpha*t/(k^2);\n",
"B = h*L/k;\n",
"// from figure 4-14(page no.-152)\n",
"Q_by_Qo = 0.41;\n",
"// for unit area \n",
"Qo_by_A = rho*C*2*L*theta_i;// [J/square meter]\n",
"// so that the heat removed per unit surface area is \n",
"Q_by_A = Qo_by_A*Q_by_Qo;// [J/square meter]\n",
"printf('\n\n temperature at a depth of 1.25 cm from one of faces after 1 min of exposure of plate to the environment is %f degree celsius',T);\n",
"printf('\n\n energy removed per unit area from the plate in this time is %e J/square meter',Q_by_A);\n",
"\n",
""
   ]
   }
,
{
		   "cell_type": "markdown",
		   "metadata": {},
		   "source": [
			"## Example 4.7: long_cylinder_suddenly_exposed_to_convection.sce"
		   ]
		  },
  {
"cell_type": "code",
	   "execution_count": null,
	   "metadata": {
	    "collapsed": true
	   },
	   "outputs": [],
"source": [
"clear;\n",
"clc;\n",
"printf('\t\t\tExample Number 4.7(Page no.-154-155)\n\n\n');\n",
"// long cylinder suddenly exposed to convection \n",
"// Example 4.7\n",
"// solution\n",
"\n",
"d = 0.05;// [m] diameter of cylinder\n",
"Ti = 200;// [degree celsius] initial temperature of aluminium cylinder\n",
"Tinf = 70;// [degree celsius] temperature of environment\n",
"h = 525;// [W/square meter degree celsius] heat transfer coefficient\n",
"// we have\n",
"theta_i = Ti-Tinf;// [degree celsius]\n",
"alpha = 8.4*10^(-5);// [square meter/s]\n",
"ro = d/2;// [m]\n",
"t = 60;// [s]\n",
"k = 215;// [W/m degree celsius]\n",
"r = 0.0125;// [m]\n",
"rho = 2700;// [kg/cubic meter]\n",
"C = 900;// [J/kg degree celsius]\n",
"// we compute\n",
"Z = alpha*t/ro^2;\n",
"X = k/(h*ro);\n",
"r_by_ro = r/ro;\n",
"// from figure 4-8(page no.-146)\n",
"theta_o_by_theta_i = 0.38;\n",
"// and from figure 4-11(page no.-150) at r/ro = 0.5\n",
"theta_by_theta_o = 0.98;\n",
"// so that \n",
"theta_by_theta_i = theta_o_by_theta_i*theta_by_theta_o;\n",
"theta = theta_i*theta_by_theta_i;// [degree celsius]\n",
"T = Tinf+theta;// [degree celsius]\n",
"// to compute the heat lost, we determine\n",
"V = h^2*alpha*t/k^2;\n",
"B = h*ro/k;\n",
"// then from figure 4-15(page no.-153)\n",
"Q_by_Qo = 0.65;\n",
"// for unit length\n",
"Qo_by_L = rho*C*%pi*ro^2*theta_i;// [J/m]\n",
"// and the actual heat lost per unit length is \n",
"Q_by_L = Qo_by_L*Q_by_Qo;// [J/m]\n",
"printf('temperature at a radius of 1.25 cm is %f degree celsius',T);\n",
"printf('\n\nheat lost per unit length 1 minute after the cylinder is exposed to the environment is %e J/m',Q_by_L);"
   ]
   }
,
{
		   "cell_type": "markdown",
		   "metadata": {},
		   "source": [
			"## Example 4.8: semi_infinite_cylinder_suddenly_exposed_to_convection.sce"
		   ]
		  },
  {
"cell_type": "code",
	   "execution_count": null,
	   "metadata": {
	    "collapsed": true
	   },
	   "outputs": [],
"source": [
"clear;\n",
"clc;\n",
"printf('\t\t\tExample Number 4.8\n\n\n');\n",
"// semi-infinite cylinder suddenly exposed to convection \n",
"// illustration4.8\n",
"// solution\n",
"\n",
"d = 0.05;// [m] diameter of aluminium cylinder \n",
"Ti = 200;// [degree celsius] initial temperature of of cylinder\n",
"Te = 70;// [degree celsius] environment temperature\n",
"k = 215;// [W/m degree celsius] heat transfer coefficient of plate\n",
"h = 525;// [W/square meter degree celsius] convection heat transfer coefficient \n",
"alpha = 8.4*10^(-5);// [square meter/s] constant\n",
"x = 0.10;// [m] distance at which temperature is calculated from end\n",
"t = 60;// [s] time after which temperature is measured\n",
"// so that the parameters for use with figure(4-5)\n",
"A = h*sqrt(alpha*t)/k;\n",
"B = x/(2*sqrt(alpha*t));\n",
"// from figure (4-5)\n",
"z = 1-0.036;\n",
"S_of_X = z;\n",
"// for the infinite cylinder we seek both the axis- and surface-temperature ratios.\n",
"// the parameters for use with fig(4-8) are \n",
"r_o = d/2;// [m] radius of aluminium cylinder \n",
"r = d/2;// [m]  for surface temperature ratio\n",
"C = k/(h*r_o);\n",
"D = (alpha*t/r_o^(2));\n",
"y = 0.38;\n",
"// this is the axis temperature ratio.\n",
"// to find the surface-temperature ratio,we enter figure (4-11),using \n",
"R = r/r_o;\n",
"u = 0.97;\n",
"// thus \n",
"w = y;// at r = 0\n",
"v = y*u;// at r = r_o\n",
"C_of_O_axis = w;// at r = 0\n",
"C_of_O_r_o = v;// at r = r_o\n",
"// combining the solutions for the semi-infinite slab and infinite cylinder, we have \n",
"t = S_of_X*C_of_O_axis;\n",
"s = S_of_X*C_of_O_r_o;\n",
"// the corresponding temperatures are \n",
"T_axis = Te+t*(Ti-Te);\n",
"T_r_o = Te+s*(Ti-Te);\n",
"printf('the temperature at the axis is %f degree celsius',T_axis);\n",
"printf('\n the temperature at the surface is %f degree celsius',T_r_o);\n",
"\n",
"\n",
""
   ]
   }
,
{
		   "cell_type": "markdown",
		   "metadata": {},
		   "source": [
			"## Example 4.9: finite_length_cylinder_suddenly_exposed_to_convection.sce"
		   ]
		  },
  {
"cell_type": "code",
	   "execution_count": null,
	   "metadata": {
	    "collapsed": true
	   },
	   "outputs": [],
"source": [
"clear;\n",
"clc;\n",
"printf('\t\t\tExample Number 4.9\n\n\n');\n",
"// finite length cylinder suddenly exposed to convection \n",
"// illustration4.9\n",
"// solution\n",
"\n",
"d = 0.05;// [m] diameter of aluminium cylinder \n",
"Ti = 200;// [degree celsius] initial temperature of of cylinder\n",
"Te = 70;// [degree celsius] environment temperature\n",
"k = 215;// [W/m degree celsius] heat transfer coefficient of plate\n",
"h = 525;// [W/square meter degree celsius] convection heat transfer coefficient \n",
"alpha = 8.4*10^(-5);// [square meter/s] constant\n",
"x1 = 0.00625;// [m] distance at which temperature is calculated from end\n",
"t = 60;// [s] time after which temperature is measured\n",
"r = 0.0125;// [m] radius at which temperature is calculated\n",
"// to solve this problem we combine the solutions from heisler charts for an infinite cylinder and an infinite plate in accordance with the combination shown in fig (4-18f)\n",
"// for the infinite plate problem \n",
"L = 0.05;// [m]\n",
"// the x position is measured fromthe center of the plate so that\n",
"x = L-x1;// [m]\n",
"A = k/(h*L);\n",
"B = (alpha*t/L^(2));\n",
"// from figures (4-17) and (4-10) respectively\n",
"thetha_o_by_i = 0.75;\n",
"thetha_by_i = 0.95;\n",
"// so that\n",
"thetha_by_i_plate = thetha_o_by_i*thetha_by_i;\n",
"// for the cylinder \n",
"r_o = d/2;// [m] radius of the cylinder\n",
"R = r/r_o;\n",
"C = k/(h*r_o);\n",
"D = (alpha*t/r_o^(2));\n",
"// and from figures (4-8) and (4-11), respectively\n",
"thetha_o_by_i_cyl = 0.38;\n",
"thetha_by_o = 0.98;\n",
"// so that\n",
"thetha_by_i_cyl = thetha_o_by_i_cyl*thetha_by_o;\n",
"// combibing the solutions for the plate and cylinder gives\n",
"thetha_by_i_short_cyl = thetha_by_i_plate*thetha_by_i_cyl;\n",
"// thus\n",
"T = Te+thetha_by_i_short_cyl*(Ti-Te);\n",
"printf('the temperature at a radial position of 0.0125 m and a distance of 0.00625m from one end of cylinder 60 second after exposure to environment is %f degree celsius',T);\n",
"\n",
""
   ]
   }
],
"metadata": {
		  "kernelspec": {
		   "display_name": "Scilab",
		   "language": "scilab",
		   "name": "scilab"
		  },
		  "language_info": {
		   "file_extension": ".sce",
		   "help_links": [
			{
			 "text": "MetaKernel Magics",
			 "url": "https://github.com/calysto/metakernel/blob/master/metakernel/magics/README.md"
			}
		   ],
		   "mimetype": "text/x-octave",
		   "name": "scilab",
		   "version": "0.7.1"
		  }
		 },
		 "nbformat": 4,
		 "nbformat_minor": 0
}
