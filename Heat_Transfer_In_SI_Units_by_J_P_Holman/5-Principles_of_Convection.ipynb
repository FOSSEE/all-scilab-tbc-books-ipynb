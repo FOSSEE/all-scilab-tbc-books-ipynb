{
"cells": [
 {
		   "cell_type": "markdown",
	   "metadata": {},
	   "source": [
       "# Chapter 5: Principles of Convection"
	   ]
	},
{
		   "cell_type": "markdown",
		   "metadata": {},
		   "source": [
			"## Example 5.10: turbulent_boundary_layer_thickness.sce"
		   ]
		  },
  {
"cell_type": "code",
	   "execution_count": null,
	   "metadata": {
	    "collapsed": true
	   },
	   "outputs": [],
"source": [
"clear;\n",
"clc;\n",
"printf('\t\t\tExample Number 5.10\n\n\n');\n",
"// turbulent-boundary-layer thickness   \n",
"// illustration5.10\n",
"// solution\n",
"\n",
"// we have to use the data from example 5.8 and 5.9\n",
"Rel = 1.553*10^6;// from previous example\n",
"L = 0.75;// [m] length of plate\n",
"// it is a simple matter to insert this value in equations(5-91) and (5-95) along with\n",
"x = L;// [m]\n",
"// turbulent-boundary-layer thickness are\n",
"// part a.  from the leading edge of the plate \n",
"del_a = x*0.381*Rel^(-0.2);// [m] \n",
"// part b   from the transition point at Recrit = 5*10^(5)\n",
"del_b = x*0.381*Rel^(-0.2)-10256*Rel^(-1);// [m]\n",
"printf('turbulent-boundary-layer thickness at the end of the plate from the leading edge of the plate is %f mm',del_a*1000);\n",
"printf('\n\n turbulent-boundary-layer thickness at the end of the plate from the transition point at Re_crit = 5*10^(5) is %f mm',del_b*1000);\n",
" \n",
"\n",
"\n",
""
   ]
   }
,
{
		   "cell_type": "markdown",
		   "metadata": {},
		   "source": [
			"## Example 5.11: high_speed_heat_transfer_for_a_flat_plate.sce"
		   ]
		  },
  {
"cell_type": "code",
	   "execution_count": null,
	   "metadata": {
	    "collapsed": true
	   },
	   "outputs": [],
"source": [
"clear;\n",
"clc;\n",
"printf('\t\t\tExample Number 5.11\n\n\n');\n",
"// high speed heat transfer for a flat plate\n",
"// Example 5.11 (page no.-257-259) \n",
"// solution\n",
"\n",
"L = 0.7;// [m] length of flat plate\n",
"W = 1;// [m] width of plate\n",
"// flow conditions are \n",
"M = 3;\n",
"p = 101325/20;// [Pa]\n",
"T = -40+273;// [degree celsius]\n",
"Tw = 35;// [degree celsius] temperature at which plate is maintained\n",
"Gamma = 1.4;\n",
"g_c = 1;// []\n",
"R = 287;// [] universal gas costant\n",
"// we have to consider laminar and turbulent portions of the boundary layer seperately\n",
"// the free-stream acoustic velocity is calculated from\n",
"a = sqrt(Gamma*g_c*R*T);// [m/s]\n",
"// so that free stream velocity is \n",
"u = M*a;// [m/s]\n",
"// the maximum reynolds number is estimated by making a computation based on properties evaluated at free stream conditions:\n",
"rho = p/(R*T);// [Kg/m^(3)]\n",
"mu = 1.434*10^(-5);// [Kg/m s]\n",
"Re_L = rho*u*L/mu;\n",
"// thus we conclude that both laminar and turbulent boundary layer heat transfer must be considered.\n",
"// we first determine the reference temperature for the two regimes and then evaluate properties at these temperatures.\n",
"\n",
"// LAMINAR PORTION\n",
"\n",
"T_o = T*(1+((Gamma-1)/2)*M^(2));// [K]\n",
"Pr = 0.7// prandtl number(assuming)\n",
"// we have\n",
"r = sqrt(Pr);\n",
"T_aw = r*(T_o-T)+T;// [K]\n",
"// then the reference temperature from equation(5-124) is\n",
"T_star = T+0.5*(Tw-(T-273))+0.22*(T_aw-T);// [K]\n",
"// checking the prandtl number at this temperature\n",
"Pr_star = 0.697;\n",
"// so that the calculation is valid.because Pr_star and the value of Pr used to determine the recovery factor are almost same\n",
"// the other properties to be used in the laminar heat transfer analysis are\n",
"rho_star = p/(R*T_star);// [Kg/m^(3)]\n",
"mu_star = 2.07*10^(-5);// [Kg/m s]\n",
"k_star = 0.03;// [W/m degree celsius]\n",
"Cp_star = 1009;// [J/Kg degree celsius]\n",
"\n",
"// TURBULENT PORTION\n",
"\n",
"// Assuming \n",
"Pr = 0.7;\n",
"r = Pr^(1/3);\n",
"T_aw1 = r*(T_o-T)+T;// [K]\n",
"// then the reference temperature from equation(5-124) is\n",
"T_star = T+0.5*(Tw-(T-273))+0.22*(T_aw-T);// [K]\n",
"// checking the prandtl number at this temperature\n",
"Pr_star1 = 0.695;\n",
"// the agreement between Pr_star and the assumed value is sufficiently close.\n",
"// the other properties to be used in the turbulent heat transfer analysis are\n",
"rho_star1 = p/(R*T_star);// [Kg/m^(3)]\n",
"mu_star1 = 2.09*10^(-5);// [Kg/m s]\n",
"k_star1 = 0.0302;// [W/m degree celsius]\n",
"Cp_star1 = 1009;// [J/Kg degree celsius]\n",
" \n",
"// LAMINAR HEAT TRANSFER\n",
"\n",
"// we assume\n",
"Re_star_crit = 5*10^(5);\n",
"x_c = Re_star_crit*mu_star/(rho_star*u);// [m]\n",
"Nu_bar = 0.664*(Re_star_crit)^(1/2)*(Pr_star)^(1/3);\n",
"h_bar = Nu_bar*k_star/x_c;// [W/m^(2) degree celsius] average heat transfer coefficient\n",
"// heat transfer is calculated as\n",
"A = x_c*1;// [m^(2)]\n",
"q = h_bar*A*(Tw-(T_aw-273));// [W]\n",
"\n",
"// TURBULENT HEAT TRANSFER\n",
"\n",
"// to determine the turbulent heat transfer we must obtain an expression for the local heat transfer coefficient from\n",
"// St_x*Pr_star1^(2/3) = 0.0296*Re_star_x^(-1/5)\n",
"// and then integrate from x = 0.222m to x = 0.7m to determine the total heat transfer\n",
"h_x = integrate('Pr_star1^(-2/3)*rho_star1*u*Cp_star1*0.0296*(rho_star1*u*x/mu_star1)^(-1/5)','x',0.222,0.7);// [W/m^(2) degree celsius]\n",
"// the average heat transfer coefficient in the turbulent region is determined from integral h_x dx divided by integral dx limit from 0.222 to 0.7\n",
"h_bar1 = h_x/(integrate('1','x',0.222,0.7));//[W/m^(2) degree celsius]\n",
"// using this value we may calculate the heat transfer in the turbulent region of the flat plate:\n",
"A1 = (L-0.222);// [m^(2)]\n",
"q1 = h_bar1*A1*(Tw-(T_aw1-273));// W\n",
"\n",
"// the total amount of cooling required is the sum of the heat transfers for the laminar and turbulent portions\n",
" Total_cooling = abs(q)+abs(q1);// [W]\n",
"printf('the total amount of cooling required is the sum of the heat transfers for the laminar and turbulent portions is %f W',Total_cooling);\n",
"\n",
" \n",
" "
   ]
   }
,
{
		   "cell_type": "markdown",
		   "metadata": {},
		   "source": [
			"## Example 5.1: water_flow_in_a_diffuser.sce"
		   ]
		  },
  {
"cell_type": "code",
	   "execution_count": null,
	   "metadata": {
	    "collapsed": true
	   },
	   "outputs": [],
"source": [
"clear;\n",
"clc;\n",
"printf('\t\t\tExample Number 5.1\n\n\n');\n",
"// water flow in a diffuser  \n",
"// illustration5.1\n",
"// solution\n",
"\n",
"Tw = 20;// [degree celcius] water temperature \n",
"m_dot = 8;// [kg/s] water flow rate \n",
"d1 = 0.03;// [m] diameter at section 1\n",
"d2 = 0.07;// [m] diameter at section 2\n",
"A1 = %pi*d1^(2)/4;// [square meter] cross-sectional area at section 1\n",
"A2 = %pi*d2^(2)/4;// [square meter] cross-sectional area at section  2\n",
"gc = 1;// [m/s^(2)] acceleration due to gravity\n",
"rho = 1000;// [kg/cubic meter] density of water at 20 degree celcius\n",
"// we may calculate the velocities from the mass-continuity relation\n",
"u1 = m_dot/(rho*A1);// [m/s]\n",
"u2 = m_dot/(rho*A2);// [m/s]\n",
"// the pressure difference is obtained by Bernoulli equation(5-7a)\n",
"p2_minus_p1 = rho*(u1^(2)-u2^(2))/(2*gc);// [Pa] \n",
"printf('the increase in static pressure between sections 1 and 2 is %f kPa',p2_minus_p1/1000);\n",
"\n",
"\n",
""
   ]
   }
,
{
		   "cell_type": "markdown",
		   "metadata": {},
		   "source": [
			"## Example 5.2: isentropic_expansion_of_air.sce"
		   ]
		  },
  {
"cell_type": "code",
	   "execution_count": null,
	   "metadata": {
	    "collapsed": true
	   },
	   "outputs": [],
"source": [
"clear;\n",
"clc;\n",
"printf('\t\t\tExample Number 5.2\n\n\n');\n",
"// isentropic expansion of air \n",
"// illustration5.2\n",
"// solution\n",
"\n",
"Ta = 300+273.15;// [K] air temperature\n",
"Pa = 0.7;// [MPa] pressure of air\n",
"u2 = 300;// [m/s] final velocity\n",
"gc = 1;// [m/s^(2)] acceleration due to gravity\n",
"Y = 1.4;// gama value for air \n",
"Cp = 1005;// [J/kg degree celsius]\n",
"// the initial velocity is small and the process is adiabatic. in terms of temperature \n",
"T2 = Ta-u2^(2)/(2*gc*Cp);\n",
"printf('the static temperature is %f K',T2);\n",
"// we may calculate the pressure difference from the isentropic relation \n",
"p2 = Pa*((T2/Ta)^(Y/(Y-1)));\n",
"printf('\n\n static pressure is %f MPa',p2);\n",
"// the velocity of sound at condition 2 is \n",
"a2 = 20.045*T2^(1/2);// [m/s] \n",
"// so that the mach no. is \n",
"M2 = u2/a2;\n",
"printf('\n\n Mach number is %f',M2);\n",
"\n",
""
   ]
   }
,
{
		   "cell_type": "markdown",
		   "metadata": {},
		   "source": [
			"## Example 5.3: mass_flow_and_boundary_layer_thickness.sce"
		   ]
		  },
  {
"cell_type": "code",
	   "execution_count": null,
	   "metadata": {
	    "collapsed": true
	   },
	   "outputs": [],
"source": [
"clear;\n",
"clc;\n",
"printf('\t\t\tExample Number 5.3\n\n\n');\n",
"// mass flow and boundary-layer thickness  \n",
"// illustration5.3\n",
"// solution\n",
"\n",
"Ta = 27+273.15;// [K] air temperature\n",
"Pa = 101325;// [Pa] pressure of air\n",
"u = 2;// [m/s] air velocity\n",
"x1 = 0.2;// [m] distance from the leading edge of plate\n",
"x2 = 0.4;// [m] distance from the leading edge of plate\n",
"R = 287;// []\n",
"mu = 1.85*10^(-5);// [kg/m s] viscosity of air \n",
"// the density of air is calculated from \n",
"rho = Pa/(R*Ta);// [kg/cubic meter] \n",
"// the reynolds number is calculated as\n",
"Re_x1 = rho*u*x1/mu;\n",
"Re_x2 = rho*u*x2/mu;\n",
"// the boundary layer thickness is calculated from equation(5-21)\n",
"del_x1 = 4.64*x1/Re_x1^(1/2);// [m]\n",
"del_x2 = 4.64*x2/Re_x2^(1/2);// [m]\n",
"// to calculate the mass flow which enters the boundary layer from the free stream between x = 0.2 m and x = 0.4 m\n",
"// we simply take the difference between the mass flow in the boundary layer at these two x positions.\n",
"// at any x position the mass flow in the boundary layer is given by the integral dm = integrate('rho*u_y','y',0,del);\n",
"// velocity is given by equation (5-19) u_y = u*[1.5*(y/del)-0.5*(y/del)^(3)]\n",
"// after integration we get dm = 5*rho*u*del/8\n",
"dm = 5*rho*u*(del_x2-del_x1)/8\n",
"printf(' mass flow entering the boundary layer is %e kg/s',dm);\n",
""
   ]
   }
,
{
		   "cell_type": "markdown",
		   "metadata": {},
		   "source": [
			"## Example 5.4: isothermal_flat_plate_heated_over_entire_length.sce"
		   ]
		  },
  {
"cell_type": "code",
	   "execution_count": null,
	   "metadata": {
	    "collapsed": true
	   },
	   "outputs": [],
"source": [
"clear;\n",
"clc;\n",
"printf('\t\t\tExample Number 5.4\n\n\n');\n",
"// isothermal flat plate heated over entire length  \n",
"// illustration5.4\n",
"// solution\n",
"\n",
"// total heat transfer over a certain length of the plate is desired, so we wish to calculate average heat transfer coefficients. \n",
"// for this purpose we use equations (5-44) and (5-45), evaluating the properties at the film temperature :\n",
"Tp = 60+273.15;// [K] plate temperature \n",
"Ta = 27+273.15;// [K] air temperature\n",
"Tf = (Tp+Ta)/2;// [K]\n",
"u = 2;// [m/s] air velocity\n",
"// from appendix A the properties are \n",
"v = 17.36*10^(-6);// [square meter/s] kinematic viscosity\n",
"x1 = 0.2;// [m] distance from the leading edge of plate\n",
"x2 = 0.4;// [m] distance from the leading edge of plate\n",
"k = 0.02749;// [W/m K] heat transfer coefficient\n",
"Pr = 0.7;// prandtl number\n",
"Cp = 1006;// [J/kg K]\n",
"// at x = 0.2m\n",
"Re_x1 = u*x1/v;// reynolds number\n",
"Nu_x1 = 0.332*Re_x1^(1/2)*Pr^(1/3);// nusselt number\n",
"hx1 = Nu_x1*k/x1;// [W/square meter K] \n",
"// the average value of the heat transfer coefficient is twice this value, or\n",
"h_bar1 = 2*hx1;// [W/square meter K] \n",
"// the heat flow is \n",
"A1 = x1*1;// [square meter] area for unit depth\n",
"q1 = h_bar1*A1*(Tp-Ta);// [W]\n",
"// at x = 0.4m\n",
"Re_x2 = u*x2/v;// reynolds number\n",
"Nu_x2 = 0.332*Re_x2^(1/2)*Pr^(1/3);// nusselt number\n",
"hx2 = Nu_x2*k/x2;// [W/square meter K] \n",
"// the average value of the heat transfer coefficient is twice this value, or\n",
"h_bar2 = 2*hx2;// [W/square meter K] \n",
"// the heat flow is \n",
"A2 = x2*1;// [square meter] area for unit depth\n",
"q2 = h_bar2*A2*(Tp-Ta);// [W] \n",
"printf('the heat transfered in first case of the plate is  %f W',q1);\n",
"printf('\n\n and the heat transfered in second case of the plate is  %f W',q2);\n",
"\n",
"\n",
"\n",
"\n",
""
   ]
   }
,
{
		   "cell_type": "markdown",
		   "metadata": {},
		   "source": [
			"## Example 5.5: flat_plate_with_constant_heat_flux.sce"
		   ]
		  },
  {
"cell_type": "code",
	   "execution_count": null,
	   "metadata": {
	    "collapsed": true
	   },
	   "outputs": [],
"source": [
"clear;\n",
"clc;\n",
"printf('\t\t\tExample Number 5.5\n\n\n');\n",
"// flat plate with constant heat flux\n",
"// illustration5.5\n",
"// solution\n",
"\n",
"u = 5;// [m/s] air velocity\n",
"l = 0.6;// [m] plate length\n",
"Ta = 27+273.15;// [K] temperature of airstream\n",
"// properties should be evaluated at the film temperature, but we do not know the plate temperature so for an initial calculation we take the properties at the free-stream conditions of\n",
"v = 15.69*10^(-6);// [square meter/s] kinematic viscosity\n",
"k = 0.02624;// [W/m degree celsius] heat transfer coefficient\n",
"Pr = 0.7;// prandtl number\n",
"Re_l = l*u/v;// reynolds number\n",
"P = 1000;// [W] power of heater\n",
"qw = P/l^(2);// [W/square meter] heat flux per unit area \n",
"// from equation (5-50) the average temperature difference is \n",
"Tw_minus_Tinf_bar = qw*l/(0.6795*k*(Re_l)^(1/2)*(Pr)^(1/3));// [degree celsius]\n",
"// now, we go back and evaluate properties at \n",
"Tf = (Tw_minus_Tinf_bar+Ta+Ta)/2;// [degree celsius]\n",
"// and obtain\n",
"v1 = 28.22*10^(-6);// [square meter/s] kinematic viscosity\n",
"k1 = 0.035;// [W/m degree celsius] heat transfer coefficient\n",
"Pr1 = 0.687;// prandtl number\n",
"Re_l1 = l*u/v1;// reynolds number\n",
"Tw_minus_Tinf_bar1 = qw*l/(0.6795*k1*(Re_l1)^(1/2)*(Pr1)^(1/3));// [degree celsius]\n",
"// at the end of the plate(x = l = 0.6m) the temperature difference is obtained from equation (5-48) and (5-50) with the constant of 0.453\n",
"Tw_minus_Tinf_x_equal_l = Tw_minus_Tinf_bar1*0.6795/0.453;// [degree celsius]\n",
"printf('average temperature difference along the plate is %f degree celsius',Tw_minus_Tinf_bar);\n",
"printf('\n\n temperature difference at the trailing edge is %f degree celsius',Tw_minus_Tinf_x_equal_l);\n",
"\n",
"\n",
""
   ]
   }
,
{
		   "cell_type": "markdown",
		   "metadata": {},
		   "source": [
			"## Example 5.6: plate_with_unheated_starting_length.sce"
		   ]
		  },
  {
"cell_type": "code",
	   "execution_count": null,
	   "metadata": {
	    "collapsed": true
	   },
	   "outputs": [],
"source": [
"clear;\n",
"clc;\n",
"printf('\t\t\tExample Number 5.6\n\n\n');\n",
"// plate with unheated starting length\n",
"// illustration5.6\n",
"// solution\n",
"\n",
"u = 20;// [m/s] air velocity\n",
"l = 0.2;// [m] plate length as well as width (square)\n",
"p = 101325;// [Pa] air pressure \n",
"Ta = 300;// [K] temperature of airstream\n",
"Tw = 350;// [K] temperature of last half of plate \n",
"// First we evaluate the air properties at the film temperature \n",
"Tf = (Tw+Ta)/2;// [K]\n",
"// and obtain\n",
"v = 18.23*10^(-6);// [square meter/s] kinematic viscosity\n",
"k = 0.02814;// [W/m degree celsius] heat transfer coefficient\n",
"Pr = 0.7;// prandtl number\n",
"// at the trailing edge of the plate the reynolds number is \n",
"Re_l = l*u/v;// reynolds number\n",
"// or laminar flow over the length of the plate\n",
"// heating does not start until the last half of the plate, or at position xo = 0.1m. \n",
"xo = 0.1;// [m]\n",
"// the local heat transfer coefficient is given by equation (5-41)\n",
"// hx = 0.332*k*Pr^(1/3)*(u/v)^(1/2)*x^(-1/2)*[1-(xo/x)^(0.75)]^(-1/3);\n",
"// the plate is 0.2 m wide so the heat transfer is obtained by integrating over the heated length xo<x<l\n",
"q = l*(Tw-Ta)*integrate('(0.332*k*Pr^(1/3)*(u/v)^(1/2)*x^(-1/2)*[1-(xo/x)^(0.75)]^(-1/3))','x',xo,l);\n",
"printf('the heat lost by the plate is %f W',q);\n",
"// the average value of the heat transfer coefficient over the heated length is given by \n",
"h = q*(Tw-Ta)*(l-xo)*l;// [W/square meter degree celsius]\n",
"printf('\n\n the average value of heat transfer coefficient over the heated length is given by %f W/square meter degree celsius',h);\n",
""
   ]
   }
,
{
		   "cell_type": "markdown",
		   "metadata": {},
		   "source": [
			"## Example 5.7: oil_flow_over_heated_flat_plate.sce"
		   ]
		  },
  {
"cell_type": "code",
	   "execution_count": null,
	   "metadata": {
	    "collapsed": true
	   },
	   "outputs": [],
"source": [
"clear;\n",
"clc;\n",
"printf('\t\t\tExample Number 5.7\n\n\n');\n",
"// oil flow over heated flat plate \n",
"// illustration5.7\n",
"// solution\n",
"\n",
"u = 1.2;// [m/s] oil velocity\n",
"l = 0.2;// [m] plate length as well as width (square) \n",
"To = 20+273.15;// [K] temperature of engine oil\n",
"Tu = 60+273.15;// [K] uniform temperature of plate   \n",
"// First we evaluate the film temperature \n",
"T = (To+Tu)/2;// [K]\n",
"// and obtain the properties of engine oil are \n",
"rho = 876;// [kg/cubic meter] density of oil\n",
"v = 0.00024;// [square meter/s] kinematic viscosity\n",
"k = 0.144;// [W/m degree celsius] heat transfer coefficient\n",
"Pr = 2870;// prandtl number\n",
"// at the trailing edge of the plate the reynolds number is \n",
"Re = l*u/v;// reynolds number\n",
"// because the prandtl no. is so large we will employ equation(5-51) for the solution. \n",
"// we see that hx varies with x in the same fashion as in equation(5-44) , i.e. hx is inversely proportional to the square root of x ,\n",
"// so that we get the same solution as in equation(5-45) for the average heat transfer coefficient. \n",
"// evaluating equation(5-51) at x = 0.2m gives\n",
"Nux = 0.3387*Re^(1/2)*Pr^(1/3)/[1+(0.0468/Pr)^(2/3)]^(1/4);\n",
"hx = Nux*k/l;// [W/square meter degree celsius]  heat transfer coefficient\n",
"// the average value of the convection coefficient is \n",
"h = 2*hx;// [W/square meter degree celsius]  \n",
"// so that total heat transfer is \n",
"A = l^(2);// [square meter] area of the plate \n",
"q = h*A*(Tu-To);// [W] \n",
"printf('average value of the convection coefficient is %f W/square meter degree celsius',h);\n",
"printf('\n\n and the heat lost by the plate is %f W',q);\n",
"\n",
"\n",
"\n",
"\n",
"\n",
"\n",
""
   ]
   }
,
{
		   "cell_type": "markdown",
		   "metadata": {},
		   "source": [
			"## Example 5.8: drag_force_on_a_flat_plate.sce"
		   ]
		  },
  {
"cell_type": "code",
	   "execution_count": null,
	   "metadata": {
	    "collapsed": true
	   },
	   "outputs": [],
"source": [
"clear;\n",
"clc;\n",
"printf('\t\t\tExample Number 5.8\n\n\n');\n",
"// drag force on a flat plate  \n",
"// illustration5.8\n",
"// solution\n",
"\n",
"// data is used from example 5.4 \n",
"// we use equation (5-56) to compute the friction coefficient and then calculate the drag force .\n",
"// an average friction coefficient is desired, so st_bar*pr^(2/3) = Cf_bar/2\n",
"p = 101325;// [Pa] pressure of air\n",
"x = 0.4;// [m] drag force is computed on first 0.4 m of the plate \n",
"R = 287;// []\n",
"Tf = 316.5;// [K]\n",
"u = 2;// [m/s] air velocity\n",
"Cp = 1006;// [J/kg K]\n",
"Pr = 0.7;// prandtl no.\n",
"rho = p/(R*Tf);// [kg/cubic meter] density at 316.5 K \n",
"h_bar = 8.698;// [W/square meter K]  heat transfer coefficient\n",
"// for the 0.4m length\n",
"st_bar = h_bar/(rho*Cp*u);\n",
"// then from equation (5-56)\n",
"Cf_bar = st_bar*Pr^(2/3)*2;\n",
"// the average shear stress at the wall is computed from equation(5-52)\n",
"tau_w_bar = Cf_bar*rho*u^(2)/2;// [N/square meter]\n",
"A = x*1;// [square meter] area per unit length \n",
"// the drag force is the product of this shear stress and the area,\n",
"D = tau_w_bar*A;// [N] \n",
"printf('Drag force exerted on the first 0.4 m of the plate is %f mN',D*1000);\n",
"\n",
""
   ]
   }
,
{
		   "cell_type": "markdown",
		   "metadata": {},
		   "source": [
			"## Example 5.9: turbulent_heat_transfer_from_isothermal_flat_plate.sce"
		   ]
		  },
  {
"cell_type": "code",
	   "execution_count": null,
	   "metadata": {
	    "collapsed": true
	   },
	   "outputs": [],
"source": [
"clear;\n",
"clc;\n",
"printf('\t\t\tExample Number 5.9\n\n\n');\n",
"// turbulent heat transfer from isothermal flat plate   \n",
"// illustration5.9\n",
"// solution\n",
"\n",
"p = 101325;// [Pa] pressure of air\n",
"R = 287;// []\n",
"Ta = 20+273.15;// [K] temperature of air \n",
"u = 35;// [m/s] air velocity\n",
"L = 0.75;// [m] length of plate \n",
"Tp = 60+273.15;// [K] plate temperature \n",
"// we evaluate properties at the film temperature \n",
"Tf = (Ta+Tp)/2;// [K]\n",
"rho = p/(R*Tf);// [kg/cubic meter]\n",
"mu = 1.906*10^(-5);// [kg/m s] viscosity  \n",
"k = 0.02723;// [W/m degree celsius]\n",
"Cp = 1007;// [J/kg K]\n",
"Pr = 0.7;// prandtl no.\n",
" // the reynolds number is \n",
" Rel = rho*u*L/mu;\n",
" // and the boundary layer is turbulent because the reynolds number is greater than 5*10^(5).\n",
" // therefore, we use equation(5-85) to calculate the average heat transfer over the plate:\n",
" Nul_bar = Pr^(1/3)*(0.037*Rel^(0.8)-871);\n",
" A = L*1;// [square meter] area of plate per unit depth\n",
"h_bar = Nul_bar*k/L; // [W/square meter degree celsius]\n",
"q = h_bar*A*(Tp-Ta);// [W] heat transfer from plate\n",
" printf('heat transfer from plate is %f W',q);\n",
" \n",
" "
   ]
   }
],
"metadata": {
		  "kernelspec": {
		   "display_name": "Scilab",
		   "language": "scilab",
		   "name": "scilab"
		  },
		  "language_info": {
		   "file_extension": ".sce",
		   "help_links": [
			{
			 "text": "MetaKernel Magics",
			 "url": "https://github.com/calysto/metakernel/blob/master/metakernel/magics/README.md"
			}
		   ],
		   "mimetype": "text/x-octave",
		   "name": "scilab",
		   "version": "0.7.1"
		  }
		 },
		 "nbformat": 4,
		 "nbformat_minor": 0
}
