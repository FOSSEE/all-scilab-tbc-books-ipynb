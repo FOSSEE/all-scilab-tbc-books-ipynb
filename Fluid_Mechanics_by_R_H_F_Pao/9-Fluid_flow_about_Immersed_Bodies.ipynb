{
"cells": [
 {
		   "cell_type": "markdown",
	   "metadata": {},
	   "source": [
       "# Chapter 9: Fluid flow about Immersed Bodies"
	   ]
	},
{
		   "cell_type": "markdown",
		   "metadata": {},
		   "source": [
			"## Example 9.1_b: Boundary_layer_thickness.sce"
		   ]
		  },
  {
"cell_type": "code",
	   "execution_count": null,
	   "metadata": {
	    "collapsed": true
	   },
	   "outputs": [],
"source": [
"clc\n",
"clear\n",
"//Initialization of variables\n",
"x=36/12\n",
"rho=2.45 //slugs/ft^3\n",
"mu=9.2e-3 //lb-sec/ft^2\n",
"v=3 //ft/s\n",
"//calculatons\n",
"Nr=v*x*rho/mu\n",
"z=[4.91 5.48 4.65]\n",
"x=36/12\n",
"delta=z*x/sqrt(Nr)\n",
"f=[0.332 0.365 0.322]\n",
"T=f*mu*v/x *sqrt(Nr)\n",
"//results\n",
"disp('Boundary layer thickness = ')\n",
"disp('In order of Blasius, parabola and pohlhauser')\n",
"format('v',6);delta\n",
"disp(delta)\n",
"disp('Shearing stress = ')\n",
"disp('In order of Blasius, parabola and pohlhauser')\n",
"format('v',6);T\n",
"disp(T)"
   ]
   }
,
{
		   "cell_type": "markdown",
		   "metadata": {},
		   "source": [
			"## Example 9.1: Drag_on_the_plates.sce"
		   ]
		  },
  {
"cell_type": "code",
	   "execution_count": null,
	   "metadata": {
	    "collapsed": true
	   },
	   "outputs": [],
"source": [
"clc\n",
"clear\n",
"//Initialization of variables\n",
"rho=2.45 //slugs/ft^3\n",
"mu=9.2e-3 //lb-sec/ft^2\n",
"x=3\n",
"v=3 //ft/s\n",
"B=6/12 //ft\n",
"L=36/12 //ft\n",
"//calculatons\n",
"Nr=v*x*rho/mu\n",
"y=[1.32 1.46 1.328]\n",
"Cd=y*Nr^(-0.5)\n",
"Fd=2*Cd*B*L*(0.5*rho*v^2)\n",
"//results\n",
"disp('Drag on the plates using different formulae blasius, parabola and pohlhauser in order')\n",
"format('v',6);Fd\n",
"disp(Fd)"
   ]
   }
,
{
		   "cell_type": "markdown",
		   "metadata": {},
		   "source": [
			"## Example 9.2_b: Horsepower_required.sce"
		   ]
		  },
  {
"cell_type": "code",
	   "execution_count": null,
	   "metadata": {
	    "collapsed": true
	   },
	   "outputs": [],
"source": [
"clc\n",
"clear\n",
"//Initialization of variables\n",
"e=0.01 //ft\n",
"rho=2 //slugs/ft^3\n",
"mu=2.6e-5 //lb sec/ft^2\n",
"speed=10 //knots\n",
"L=250 //ft\n",
"A=30000 //ft^2\n",
"//calculations\n",
"V=speed*1.69\n",
"Nrl=V*L*rho/mu\n",
"Cdf=0.074/Nrl^0.2 -1700/Nrl\n",
"Fd=Cdf*A*0.5*rho*V^2\n",
"hp=Fd*V/550\n",
"//results\n",
"printf('Total frictional drag = %d lb',Fd)\n",
"printf('\n Horsepower required = %.1f hp',hp)\n",
"disp('The answer given in textbook is wrong. please use a calculator')"
   ]
   }
,
{
		   "cell_type": "markdown",
		   "metadata": {},
		   "source": [
			"## Example 9.2_c: Total_frictional_drag.sce"
		   ]
		  },
  {
"cell_type": "code",
	   "execution_count": null,
	   "metadata": {
	    "collapsed": true
	   },
	   "outputs": [],
"source": [
"clc\n",
"clear\n",
"//Initialization of variables\n",
"e=0.01 //ft\n",
"rho=2 //slugs/ft^3\n",
"mu=2.6e-5 //lb sec/ft^2\n",
"speed=10 //knots\n",
"L=250 //ft\n",
"A=30000 //ft^2\n",
"//calculations\n",
"V=speed*1.69\n",
"Nrl=V*L*rho/mu\n",
"Cdf=1/(1.89 + 1.62*log10(L/e))^(2.5)\n",
"Fd=Cdf*A*0.5*rho*V^2\n",
"hp=Fd*V/550\n",
"//results\n",
"printf('Total frictional drag = %d lb',Fd)\n",
"printf('\n Horsepower required = %.1f hp',hp)\n",
""
   ]
   }
,
{
		   "cell_type": "markdown",
		   "metadata": {},
		   "source": [
			"## Example 9.2: Total_frictional_drag.sce"
		   ]
		  },
  {
"cell_type": "code",
	   "execution_count": null,
	   "metadata": {
	    "collapsed": true
	   },
	   "outputs": [],
"source": [
"clc\n",
"clear\n",
"//Initialization of variables\n",
"e=0.01 //ft\n",
"rho=2 //slugs/ft^3\n",
"mu=2.6e-5 //lb sec/ft^2\n",
"speed=10 //knots\n",
"L=250 //ft\n",
"A=30000 //ft^2\n",
"//calculations\n",
"V=speed*1.69\n",
"Nrl=V*L*rho/mu\n",
"Cdf=1.32 /sqrt(Nrl)\n",
"Fd=Cdf*A*0.5*rho*V^2\n",
"hp=Fd*V/550\n",
"//results\n",
"printf('Total frictional drag = %d lb',Fd)\n",
"printf('\n Horsepower required = %.1f hp',hp)"
   ]
   }
,
{
		   "cell_type": "markdown",
		   "metadata": {},
		   "source": [
			"## Example 9.3: Drag_on_the_model.sce"
		   ]
		  },
  {
"cell_type": "code",
	   "execution_count": null,
	   "metadata": {
	    "collapsed": true
	   },
	   "outputs": [],
"source": [
"clc\n",
"clear\n",
"//Initialization of variables\n",
"V=200 //ft/s\n",
"L=5 //ft\n",
"B=2 //ft\n",
"rho=0.00232 //slug/ft^3\n",
"mu=3.82e-7 //lb-sec/ft^2\n",
"p2=14.815 //psia\n",
"pa=14.7 //psia\n",
"//calculations\n",
"Nr=V*L*rho/mu\n",
"Cdf=0.0032\n",
"Fdf=Cdf*%pi*L*B*0.5*rho*V^2\n",
"Fd=(p2-pa)*%pi/4 *(B*12)^2 -Fdf\n",
"//results\n",
"printf('Drag on the model = %.2f lb',Fd)"
   ]
   }
,
{
		   "cell_type": "markdown",
		   "metadata": {},
		   "source": [
			"## Example 9.4: Velocity_of_flow.sce"
		   ]
		  },
  {
"cell_type": "code",
	   "execution_count": null,
	   "metadata": {
	    "collapsed": true
	   },
	   "outputs": [],
"source": [
"clc\n",
"clear\n",
"//Initialization of variables\n",
"p1=14.7 //psia\n",
"z1=3 //ft\n",
"gam=62.4\n",
"rho=1.94 //slug/ft^3\n",
"pa=0.4 //psia\n",
"za=1 //ft\n",
"//calculations\n",
"v3=(pa-p1)*144 + (za-z1)*gam\n",
"V=sqrt(-v3*2/(3*rho))\n",
"//results\n",
"printf('Velocity of flow = %.1f ft/s',V)\n",
"disp('The answer is a bit different due to rounding off error in textbook')"
   ]
   }
,
{
		   "cell_type": "markdown",
		   "metadata": {},
		   "source": [
			"## Example 9.5: Horsepower_required.sce"
		   ]
		  },
  {
"cell_type": "code",
	   "execution_count": null,
	   "metadata": {
	    "collapsed": true
	   },
	   "outputs": [],
"source": [
"clc\n",
"clear\n",
"//Initialization of variables\n",
"rpm=60 \n",
"rho=2 //slugs/ft^3\n",
"mu=3.5e-5 //lb-sec/ft^2\n",
"D=4/12 //ft\n",
"r=2 //ft\n",
"//calcualtions\n",
"V=rpm*2*%pi/60 *2\n",
"Nr=V*D*rho/mu\n",
"Cd=1.1\n",
"Fd=Cd*%pi/4 *(D)^2 *0.5*rho*V^2\n",
"T=2*Fd*r\n",
"w=rpm*2*%pi/60\n",
"hp=T*w/550\n",
"//results\n",
"printf('Horsepower required = %.2f hp',hp)"
   ]
   }
,
{
		   "cell_type": "markdown",
		   "metadata": {},
		   "source": [
			"## Example 9.6: terminal_velocity.sce"
		   ]
		  },
  {
"cell_type": "code",
	   "execution_count": null,
	   "metadata": {
	    "collapsed": true
	   },
	   "outputs": [],
"source": [
"clc\n",
"clear\n",
"//Initialization of variables\n",
"g=32.2 //ft/s^2\n",
"h=60000 //ft\n",
"F=2000 //;b\n",
"d=3 //ft\n",
"rho=0.00231\n",
"//calculations\n",
"V=sqrt(2*g*h)\n",
"disp('By trail and error')\n",
"Cd=0.25\n",
"Nm=0.87\n",
"A=%pi/4 *d^2\n",
"Vt=sqrt(2*F/(Cd*A*rho))\n",
"//results\n",
"printf('terminal velocity = %.1f ft/s',Vt)"
   ]
   }
],
"metadata": {
		  "kernelspec": {
		   "display_name": "Scilab",
		   "language": "scilab",
		   "name": "scilab"
		  },
		  "language_info": {
		   "file_extension": ".sce",
		   "help_links": [
			{
			 "text": "MetaKernel Magics",
			 "url": "https://github.com/calysto/metakernel/blob/master/metakernel/magics/README.md"
			}
		   ],
		   "mimetype": "text/x-octave",
		   "name": "scilab",
		   "version": "0.7.1"
		  }
		 },
		 "nbformat": 4,
		 "nbformat_minor": 0
}
