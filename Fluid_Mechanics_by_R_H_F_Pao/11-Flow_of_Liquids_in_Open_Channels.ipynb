{
"cells": [
 {
		   "cell_type": "markdown",
	   "metadata": {},
	   "source": [
       "# Chapter 11: Flow of Liquids in Open Channels"
	   ]
	},
{
		   "cell_type": "markdown",
		   "metadata": {},
		   "source": [
			"## Example 11.1_a: Discharge_using_Darcy_equation.sce"
		   ]
		  },
  {
"cell_type": "code",
	   "execution_count": null,
	   "metadata": {
	    "collapsed": true
	   },
	   "outputs": [],
"source": [
"clc\n",
"clear\n",
"//Initialization of variables\n",
"rho=1.94 //slugs/ft^3\n",
"mu=2.34e-5 //lb-sec/ft^2\n",
"y=5 //ft\n",
"T=25 //ft\n",
"d=10 //ft\n",
"slope=3/2 \n",
"g=32.2 //ft/s^2\n",
"S=0.001\n",
"//calculations\n",
"A=y*d+ 2*0.5*y*(slope*y)\n",
"WP=d+ 2*sqrt(3^2 +2^2) /2 *y\n",
"R=A/WP\n",
"e=0.01 //ft\n",
"rr=2*R/e\n",
"f=0.019\n",
"C=sqrt(8*g/f)\n",
"V=C*sqrt(R*S)\n",
"Q=V*A\n",
"//results\n",
"printf('Discharge using Darcy equation = %.1f ft^3/s',Q)\n",
"disp('The answer is a bit different due to rounding off error in textbook')"
   ]
   }
,
{
		   "cell_type": "markdown",
		   "metadata": {},
		   "source": [
			"## Example 11.1_b: Discharge_using_kutter_ganguillet_formula.sce"
		   ]
		  },
  {
"cell_type": "code",
	   "execution_count": null,
	   "metadata": {
	    "collapsed": true
	   },
	   "outputs": [],
"source": [
"clc\n",
"clear\n",
"//Initialization of variables\n",
"rho=1.94 //slugs/ft^3\n",
"mu=2.34e-5 //lb-sec/ft^2\n",
"y=5 //ft\n",
"T=25 //ft\n",
"d=10 //ft\n",
"slope=3/2 \n",
"g=32.2 //ft/s^2\n",
"S=0.001\n",
"n=0.017\n",
"//calculations\n",
"A=y*d+ 2*0.5*y*(slope*y)\n",
"WP=d+ 2*sqrt(3^2 +2^2) /2 *y\n",
"R=A/WP\n",
"e=0.01 //ft\n",
"rr=2*R/e\n",
"f=0.019\n",
"C=(41.65 + 0.00281/S + 1.811/n)/(1+( 41.65 + 0.00281/S)*n/sqrt(R))\n",
"V=C*sqrt(R*S)\n",
"Q=V*A\n",
"//results\n",
"printf('Discharge using kutter ganguillet formula = %.1f ft^3/s',Q)\n",
"disp('The answer is a bit different due to rounding off error in textbook')"
   ]
   }
,
{
		   "cell_type": "markdown",
		   "metadata": {},
		   "source": [
			"## Example 11.1_c: Discharge_using_bazin_formula.sce"
		   ]
		  },
  {
"cell_type": "code",
	   "execution_count": null,
	   "metadata": {
	    "collapsed": true
	   },
	   "outputs": [],
"source": [
"clc\n",
"clear\n",
"//Initialization of variables\n",
"rho=1.94 //slugs/ft^3\n",
"mu=2.34e-5 //lb-sec/ft^2\n",
"y=5 //ft\n",
"T=25 //ft\n",
"d=10 //ft\n",
"slope=3/2 \n",
"g=32.2 //ft/s^2\n",
"S=0.001\n",
"m=0.21\n",
"//calculations\n",
"A=y*d+ 2*0.5*y*(slope*y)\n",
"WP=d+ 2*sqrt(3^2 +2^2) /2 *y\n",
"R=A/WP\n",
"e=0.01 //ft\n",
"rr=2*R/e\n",
"f=0.019\n",
"C=157.6 /(1+ m/sqrt(R))\n",
"V=C*sqrt(R*S)\n",
"Q=V*A\n",
"//results\n",
"printf('Discharge using bazin formula = %.1f ft^3/s',Q)\n",
"disp('The answer is a bit different due to rounding off error in textbook')"
   ]
   }
,
{
		   "cell_type": "markdown",
		   "metadata": {},
		   "source": [
			"## Example 11.1_d: Discharge_using_Darcy_equation.sce"
		   ]
		  },
  {
"cell_type": "code",
	   "execution_count": null,
	   "metadata": {
	    "collapsed": true
	   },
	   "outputs": [],
"source": [
"clc\n",
"clear\n",
"//Initialization of variables\n",
"rho=1.94 //slugs/ft^3\n",
"mu=2.34e-5 //lb-sec/ft^2\n",
"y=5 //ft\n",
"T=25 //ft\n",
"d=10 //ft\n",
"slope=3/2 \n",
"g=32.2 //ft/s^2\n",
"S=0.001\n",
"n=0.017\n",
"//calculations\n",
"A=y*d+ 2*0.5*y*(slope*y)\n",
"WP=d+ 2*sqrt(3^2 +2^2) /2 *y\n",
"R=A/WP\n",
"e=0.01 //ft\n",
"rr=2*R/e\n",
"f=0.019\n",
"C=1.486*R^(1/6) /n\n",
"V=C*sqrt(R*S)\n",
"Q=V*A\n",
"//results\n",
"printf('Discharge using Darcy equation = %.1f ft^3/s',Q)\n",
"disp('The answer is a bit different due to rounding off error in textbook')"
   ]
   }
,
{
		   "cell_type": "markdown",
		   "metadata": {},
		   "source": [
			"## Example 11.1_e: froude_number.sce"
		   ]
		  },
  {
"cell_type": "code",
	   "execution_count": null,
	   "metadata": {
	    "collapsed": true
	   },
	   "outputs": [],
"source": [
"clc\n",
"clear\n",
"//Initialization of variables\n",
"rho=1.94 //slugs/ft^3\n",
"mu=2.34e-5 //lb-sec/ft^2\n",
"y=5 //ft\n",
"T=25 //ft\n",
"d=10 //ft\n",
"slope=3/2 \n",
"g=32.2 //ft/s^2\n",
"S=0.001\n",
"n=0.017\n",
"//calculations\n",
"A=y*d+ 2*0.5*y*(slope*y)\n",
"WP=d+ 2*sqrt(3^2 +2^2) /2 *y\n",
"R=A/WP\n",
"e=0.01 //ft\n",
"rr=2*R/e\n",
"f=0.019\n",
"C=(41.65 + 0.00281/S + 1.811/n)/(1+( 41.65 + 0.00281/S)*n/sqrt(R))\n",
"V=C*sqrt(R*S)\n",
"T=d+ 2*(slope*y)\n",
"yh=A/T\n",
"Nf=V/(sqrt(g*yh))\n",
"//results\n",
"printf('froude number = %.2f',Nf)"
   ]
   }
,
{
		   "cell_type": "markdown",
		   "metadata": {},
		   "source": [
			"## Example 11.1_f: Critical_depth.sce"
		   ]
		  },
  {
"cell_type": "code",
	   "execution_count": null,
	   "metadata": {
	    "collapsed": true
	   },
	   "outputs": [],
"source": [
"clc\n",
"clear\n",
"//Initialization of variables\n",
"rho=1.94 //slugs/ft^3\n",
"mu=2.34e-5 //lb-sec/ft^2\n",
"y=5 //ft\n",
"T=25 //ft\n",
"d=10 //ft\n",
"slope=3/2 \n",
"g=32.2 //ft/s^2\n",
"S=0.001\n",
"n=0.017\n",
"//calculations\n",
"A=y*d+ 2*0.5*y*(slope*y)\n",
"WP=d+ 2*sqrt(3^2 +2^2) /2 *y\n",
"R=A/WP\n",
"e=0.01 //ft\n",
"rr=2*R/e\n",
"f=0.019\n",
"C=(41.65 + 0.00281/S + 1.811/n)/(1+( 41.65 + 0.00281/S)*n/sqrt(R))\n",
"V=C*sqrt(R*S)\n",
"Q=V*A\n",
"T=d+ 2*(slope*y)\n",
"yh=A/T\n",
"yc=2.88  //ft\n",
"//results\n",
"disp('yc is obtained using trial and error method')\n",
"printf('Critical depth = %.2f ft',yc)"
   ]
   }
,
{
		   "cell_type": "markdown",
		   "metadata": {},
		   "source": [
			"## Example 11.2: Minimum_scale_ratio.sce"
		   ]
		  },
  {
"cell_type": "code",
	   "execution_count": null,
	   "metadata": {
	    "collapsed": true
	   },
	   "outputs": [],
"source": [
"clc\n",
"clear\n",
"//Initialization of variables\n",
"Re=4000\n",
"rho=1.94 //slugs/ft^3\n",
"vm=5.91 //ft/s\n",
"mu=3.24e-5 //ft-lb/s^2\n",
"Rm=3.12 //ft\n",
"//calculations\n",
"lam3=Re*mu/(vm*4*Rm*rho)\n",
"lam=lam3^(2/3)\n",
"//results\n",
"printf('Minimum scale ratio = %.2e',lam)"
   ]
   }
,
{
		   "cell_type": "markdown",
		   "metadata": {},
		   "source": [
			"## Example 11.3: Discharge_in_the_channel.sce"
		   ]
		  },
  {
"cell_type": "code",
	   "execution_count": null,
	   "metadata": {
	    "collapsed": true
	   },
	   "outputs": [],
"source": [
"clc\n",
"clear\n",
"//Initialization of variables\n",
"yc=2 //ft\n",
"g=32.2 //ft/s^2\n",
"d=10 //ft\n",
"gam=62.4\n",
"rho=1.94\n",
"B=10 //ft\n",
"//calculations\n",
"Vc=sqrt(g*yc)\n",
"Ac=yc*d\n",
"Q=Vc*Ac\n",
"y1=5.88 //ft\n",
"y2=0.88 //ft\n",
"V1=2.73 //ft/s\n",
"V2=18.25 //ft/s\n",
"Nf1=0.198\n",
"Nf2=3.43\n",
"F= 0.5*gam*y1^2 *B - 0.5*gam*y2^2 *B - Q*rho*V2 +Q*rho*V1\n",
"//results\n",
"printf('Discharge in the channel = %.1f ft^3/s',Q)\n",
"printf('\n Depth of the channel at upstream and downstream = %.2f ft and %.2f ft',y1,y2)\n",
"printf('\n froude numbers at upstream and downstream = %.3f and %.3f',Nf1,Nf2)\n",
"printf('\n Force applied = %d lb',F)"
   ]
   }
,
{
		   "cell_type": "markdown",
		   "metadata": {},
		   "source": [
			"## Example 11.4: distance_from_vena_contracta.sce"
		   ]
		  },
  {
"cell_type": "code",
	   "execution_count": null,
	   "metadata": {
	    "collapsed": true
	   },
	   "outputs": [],
"source": [
"clc\n",
"clear\n",
"//Initialization of variables\n",
"S0=0.0009\n",
"n=0.018\n",
"w=20 //ft\n",
"d=0.5 //ft\n",
"Q=400 //ft^3/s\n",
"g=32.2 //ft/s^2\n",
"//calculations\n",
"y2=4 //ft\n",
"V2=Q/(w*y2)\n",
"Nf2=V2/sqrt(g*y2)\n",
"yr=0.5*(sqrt(1+ 8*Nf2^2) -1)\n",
"y1=yr*y2\n",
"L1=32.5\n",
"L2=37.1 \n",
"L3=51.4\n",
"L=L1+L2+L3\n",
"//results\n",
"printf('distance from vena contracta = %.1f ft and  %.2f ft',y2,y1)\n",
"printf('\n Total distance = %.1f ft',L)"
   ]
   }
],
"metadata": {
		  "kernelspec": {
		   "display_name": "Scilab",
		   "language": "scilab",
		   "name": "scilab"
		  },
		  "language_info": {
		   "file_extension": ".sce",
		   "help_links": [
			{
			 "text": "MetaKernel Magics",
			 "url": "https://github.com/calysto/metakernel/blob/master/metakernel/magics/README.md"
			}
		   ],
		   "mimetype": "text/x-octave",
		   "name": "scilab",
		   "version": "0.7.1"
		  }
		 },
		 "nbformat": 4,
		 "nbformat_minor": 0
}
