{
"cells": [
 {
		   "cell_type": "markdown",
	   "metadata": {},
	   "source": [
       "# Chapter 7: Flow of In compressible fluids in closed conduits"
	   ]
	},
{
		   "cell_type": "markdown",
		   "metadata": {},
		   "source": [
			"## Example 7.10: Pressure_difference.sce"
		   ]
		  },
  {
"cell_type": "code",
	   "execution_count": null,
	   "metadata": {
	    "collapsed": true
	   },
	   "outputs": [],
"source": [
"clc\n",
"clear\n",
"//Initialization of variables\n",
"e0=0.00085 //ft\n",
"alpha=0.25 ///year\n",
"t=15 //years\n",
"r0=3 //in\n",
"Q=500 //gal/min\n",
"d=6 //in\n",
"mu=2.04e-5 //lb-sec/ft^2\n",
"rho=1.94 //slugs/ft^3\n",
"g=32.2 //ft/s^2\n",
"L=1 //ft\n",
"gam=62.4\n",
"//calculations\n",
"e15=e0*(1+ alpha*t)\n",
"ratio=r0/(12*e15)\n",
"V=Q/(7.48*60*%pi/4 *(d/12)^2)\n",
"Nr=V*d*rho/(mu*12)\n",
"f=0.036\n",
"hl=f*L/(d/12) *V^2 /(2*g)\n",
"dp=gam*hl\n",
"//results\n",
"printf('Pressure difference = %.2f lb/ft^2 per foot of horizontal pipe',dp)"
   ]
   }
,
{
		   "cell_type": "markdown",
		   "metadata": {},
		   "source": [
			"## Example 7.11: horsepower_required.sce"
		   ]
		  },
  {
"cell_type": "code",
	   "execution_count": null,
	   "metadata": {
	    "collapsed": true
	   },
	   "outputs": [],
"source": [
"clc\n",
"clear\n",
"//Initialization of variables\n",
"d2=4 //in\n",
"d1=3 //in\n",
"e=0.0005 //ft\n",
"mu=3.75e-5 //lb-sec/ft^2\n",
"rho=1.94 //slugs/ft^3\n",
"Q=100 //gal/min\n",
"L=100 //ft\n",
"g=32.2 //ft/s^2\n",
"gam=62.4\n",
"//calculations\n",
"A=%pi/4 *((d2/12)^2 -(d1/12)^2)\n",
"WP=%pi*(d1+d2)/12\n",
"R=A/WP\n",
"RR= 2*R/e\n",
"V= Q/(7.48*60*A)\n",
"Nr=V*4*R*rho/mu\n",
"f=0.035\n",
"hl=f*L/(4*R) *V^2 /(2*g)\n",
"hp=hl*Q/(7.48*60) *gam/550\n",
"//results\n",
"printf('horsepower required = %.2f hp/100 ft',hp)"
   ]
   }
,
{
		   "cell_type": "markdown",
		   "metadata": {},
		   "source": [
			"## Example 7.12: Discharge.sce"
		   ]
		  },
  {
"cell_type": "code",
	   "execution_count": null,
	   "metadata": {
	    "collapsed": true
	   },
	   "outputs": [],
"source": [
"clc\n",
"clear\n",
"//Initialization of variables\n",
"p1=25 //psig\n",
"p2=20 //psig\n",
"d1=18 //in\n",
"d2=12 //in\n",
"Cl=0.25\n",
"gam=62.4\n",
"g=32.2 //ft/s^2\n",
"//calculations\n",
"Vr=(d2/d1)^2\n",
"xv=(p2-p1)*144/gam\n",
"V22=xv/(-1-Cl+Vr^2) *2*g\n",
"V2=sqrt(V22)\n",
"Q=V2*%pi/4 *(d2/12)^2\n",
"//results\n",
"printf('Discharge = %.1f ft^3/s',Q)"
   ]
   }
,
{
		   "cell_type": "markdown",
		   "metadata": {},
		   "source": [
			"## Example 7.13: Discharge.sce"
		   ]
		  },
  {
"cell_type": "code",
	   "execution_count": null,
	   "metadata": {
	    "collapsed": true
	   },
	   "outputs": [],
"source": [
"clc\n",
"clear\n",
"//Initialization of variables\n",
"V61=10.8 //ft/s\n",
"V81=6.05 //ft/s\n",
"r0=3 //in\n",
"e=0.00015\n",
"d1=6 //in\n",
"rho=1.94 //slugs/ft^3\n",
"mu=2.34e-5 //ft-lb/s^2\n",
"//calculations\n",
"roe=r0/(12*e)\n",
"Nr1=V61*(d1/12)*rho/mu\n",
"f6=0.0165\n",
"V6=11.6 //ft/s\n",
"V8=6.52 //ft/s\n",
"Q=V6*%pi/4 *(d1/12)^2\n",
"//results\n",
"printf('Discharge = %.2f ft^3/s',Q)"
   ]
   }
,
{
		   "cell_type": "markdown",
		   "metadata": {},
		   "source": [
			"## Example 7.14: Diameter_of_steel_pipe.sce"
		   ]
		  },
  {
"cell_type": "code",
	   "execution_count": null,
	   "metadata": {
	    "collapsed": true
	   },
	   "outputs": [],
"source": [
"clc\n",
"clear\n",
"//Initialization of variables\n",
"L=1000 //ft\n",
"Q=2000/(7.48*60) //ft63/s\n",
"g=32.2 //ft/s^2\n",
"p=5 //psi/1000 ft\n",
"gam=62.4\n",
"sp=0.7\n",
"f=0.02\n",
"r0=0.904/2\n",
"e=0.00015\n",
"mu=7e-6 //lb-ft/s^2\n",
"L=1000 //ft\n",
"//calculations\n",
"hl=p*144/(sp*gam)\n",
"D5=f*8*L*Q^2 /(%pi^2 *g*hl)\n",
"D=D5^(1/5)\n",
"Nr=4*Q*sp*gam/(g*(%pi*D*mu))\n",
"f2=0.0145\n",
"D5=f2*8*L*Q^2 /(%pi^2 *g*hl)\n",
"D1=D5^(1/5)\n",
"//results\n",
"printf('Diameter of steel pipe = %.3f ft',D1)"
   ]
   }
,
{
		   "cell_type": "markdown",
		   "metadata": {},
		   "source": [
			"## Example 7.1_b: Kinematic_viscosity.sce"
		   ]
		  },
  {
"cell_type": "code",
	   "execution_count": null,
	   "metadata": {
	    "collapsed": true
	   },
	   "outputs": [],
"source": [
"clc\n",
"clear\n",
"//Initialization of variables\n",
"z1=2 //ft\n",
"Q=0.1 //gal/min\n",
"alpha=2\n",
"g=32.2 //ft/s^2\n",
"L=4 //ft\n",
"D=1/96 //ft\n",
"//calculations\n",
"v2=Q/(7.48*60* %pi/4 *D^2)\n",
"hl=z1-alpha*v2^2 /(2*g)\n",
"Nr=64/hl *L/D *v2^2 /(2*g)\n",
"mu=v2*D/Nr\n",
"//results\n",
"printf('Kinematic viscosity = %.2e ft^2/s',mu)"
   ]
   }
,
{
		   "cell_type": "markdown",
		   "metadata": {},
		   "source": [
			"## Example 7.1_c: Theoretical_entrance_transistion_length.sce"
		   ]
		  },
  {
"cell_type": "code",
	   "execution_count": null,
	   "metadata": {
	    "collapsed": true
	   },
	   "outputs": [],
"source": [
"clc\n",
"clear\n",
"//Initialization of variables\n",
"z1=2 //ft\n",
"Q=0.1 //gal/min\n",
"alpha=2\n",
"g=32.2 //ft/s^2\n",
"L=4 //ft\n",
"D=1/96 //ft\n",
"//calculations\n",
"v2=Q/(7.48*60* %pi/4 *D^2)\n",
"hl=z1-alpha*v2^2 /(2*g)\n",
"Nr=64/hl *L/D *v2^2 /(2*g)\n",
"Ld=0.058*Nr*D\n",
"//results\n",
"printf('Theoretical entrance transistion length = %.3f ft',Ld)"
   ]
   }
,
{
		   "cell_type": "markdown",
		   "metadata": {},
		   "source": [
			"## Example 7.1: Reynolds_number.sce"
		   ]
		  },
  {
"cell_type": "code",
	   "execution_count": null,
	   "metadata": {
	    "collapsed": true
	   },
	   "outputs": [],
"source": [
"clc\n",
"clear\n",
"//Initialization of variables\n",
"z1=2 //ft\n",
"Q=0.1 //gal/min\n",
"alpha=2\n",
"g=32.2 //ft/s^2\n",
"L=4 //ft\n",
"D=1/96 //ft\n",
"//calculations\n",
"v2=Q/(7.48*60* %pi/4 *D^2)\n",
"hl=z1-alpha*v2^2 /(2*g)\n",
"Nr=64/hl *L/D *v2^2 /(2*g)\n",
"//results\n",
"printf('Reynolds number is %d.  Hence the flow is laminar',Nr)\n",
"//The answer is a bit different due to rounding off error in textbook"
   ]
   }
,
{
		   "cell_type": "markdown",
		   "metadata": {},
		   "source": [
			"## Example 7.2: Horsepower_required.sce"
		   ]
		  },
  {
"cell_type": "code",
	   "execution_count": null,
	   "metadata": {
	    "collapsed": true
	   },
	   "outputs": [],
"source": [
"clc\n",
"clear\n",
"//Initialization of variables\n",
"Q=350 //gal/min\n",
"D=6 //in\n",
"rho=0.84\n",
"gam=62.4\n",
"g=32.2 //ft/s^2\n",
"mu=9.2e-5 //lb-sec/ft^2\n",
"L=5280 //ft\n",
"//calculations\n",
"V=Q/(7.48*60*%pi/4 *(D/12)^2)\n",
"Nr=V*D/12 *rho*gam/g /mu\n",
"f=0.3164/(Nr)^0.25\n",
"hl=f*L*12/D *V^2 /(2*g)\n",
"hp=hl*gam*Q*rho/(550*7.48*60)\n",
"//resu;ts\n",
"printf('Horsepower required = %.2f hp/mile',hp)"
   ]
   }
,
{
		   "cell_type": "markdown",
		   "metadata": {},
		   "source": [
			"## Example 7.3: Alpha_beta.sce"
		   ]
		  },
  {
"cell_type": "code",
	   "execution_count": null,
	   "metadata": {
	    "collapsed": true
	   },
	   "outputs": [],
"source": [
"clc\n",
"clear\n",
"//Initialization of variables\n",
"n=7\n",
"//calculations\n",
"alpha= (n+1)^3 *(2*n+1)^3 /(4*n^4 *(n+3)*(2*n+3))\n",
"bet=(n+1)^2 *(2*n+1)^2 /(2*n^2 *(n+2)*(2*n+2))\n",
"//results\n",
"printf('alpha = %.2f',alpha)\n",
"printf('\n beta = %.2f',bet)"
   ]
   }
,
{
		   "cell_type": "markdown",
		   "metadata": {},
		   "source": [
			"## Example 7.5: Horsepower_input_of_the_fan.sce"
		   ]
		  },
  {
"cell_type": "code",
	   "execution_count": null,
	   "metadata": {
	    "collapsed": true
	   },
	   "outputs": [],
"source": [
"clc\n",
"clear\n",
"//Initialization of variables\n",
"spg=0.84\n",
"z=1 //in\n",
"gam=62.4\n",
"patm=14.7 //psia\n",
"T=459.6+85 //R\n",
"R=53.3\n",
"g=32.2 //ft/s^2\n",
"D=3 //ft\n",
"mu=3.88e-7 //lb-sec/ft^2\n",
"//calculations\n",
"dp=spg*z/12 *gam\n",
"rho=patm*144/(R*T*g)\n",
"umax=sqrt(2*dp/rho)\n",
"V=0.8*umax\n",
"Nr=V*D*rho/mu\n",
"V2=0.875*umax\n",
"mass=rho*%pi/4 *D^2 *V2\n",
"emf=V2^2 /(2*g)\n",
"hp=emf*mass*g/550\n",
"//results\n",
"printf('Mass flow rate = %.2f slug/sec',mass)\n",
"printf('\n Horsepower input of the fan = %.2f hp',hp)"
   ]
   }
,
{
		   "cell_type": "markdown",
		   "metadata": {},
		   "source": [
			"## Example 7.7_a: velocity.sce"
		   ]
		  },
  {
"cell_type": "code",
	   "execution_count": null,
	   "metadata": {
	    "collapsed": true
	   },
	   "outputs": [],
"source": [
"clc\n",
"clear\n",
"//Initialization of variables\n",
"D=36 //in\n",
"rho=0.00226  //slug/ft^3\n",
"mu=3.88e-7 //lb-sec/ft^2\n",
"umax=62.2 //ft/s\n",
"V=54.5 //ft/s\n",
"Nr=9.5e5\n",
"r0=18 //in\n",
"r=12 //in\n",
"n=8.8\n",
"k=0.4\n",
"//calculations\n",
"f=0.0032 + 0.221/(Nr^0.237)\n",
"Vs=sqrt(f/8) *V\n",
"y=r0-r\n",
"u1=umax*(y/r0)^(1/n)\n",
"u2=umax+ 2.5*Vs*log(y/r0)\n",
"u3=umax+ Vs/k *(sqrt(1-y/r0) + log(1-sqrt(1-y/r0)))\n",
"u4=Vs*(5.5+ 5.75*log10(Vs*y/12 *rho/mu))\n",
"//results\n",
"printf('Using equation 7-13, velocity = %.1f ft/s',u1)\n",
"printf('\n Using equation 7-18, velocity = %.1f ft/s',u2)\n",
"printf('\n Using equation 7-25, velocity = %.1f ft/s',u3)\n",
"printf('\n Using equation 7-34a, velocity = %.1f ft/s',u4)"
   ]
   }
,
{
		   "cell_type": "markdown",
		   "metadata": {},
		   "source": [
			"## Example 7.7_b: buffer_zone.sce"
		   ]
		  },
  {
"cell_type": "code",
	   "execution_count": null,
	   "metadata": {
	    "collapsed": true
	   },
	   "outputs": [],
"source": [
"clc\n",
"clear\n",
"//Initialization of variables\n",
"D=36 //in\n",
"rho=0.00226  //slug/ft^3\n",
"mu=3.88e-7 //lb-sec/ft^2\n",
"umax=62.2 //ft/s\n",
"V=54.5 //ft/s\n",
"Nr=9.5e5\n",
"r0=18 //in\n",
"r=12 //in\n",
"n=8.8\n",
"k=0.4\n",
"//calculations\n",
"f=0.0032 + 0.221/(Nr^0.237)\n",
"Vs=sqrt(f/8) *V\n",
"y=r0-r\n",
"delta1=D*5*sqrt(8) /(Nr*sqrt(f))\n",
"vss=70\n",
"thick=13*delta1\n",
"//results\n",
"printf('Outer edge of buffer zone is at %d',vss)\n",
"printf('\n Thickness of buffer zone = %.4f in',thick)"
   ]
   }
,
{
		   "cell_type": "markdown",
		   "metadata": {},
		   "source": [
			"## Example 7.7_c: velocity.sce"
		   ]
		  },
  {
"cell_type": "code",
	   "execution_count": null,
	   "metadata": {
	    "collapsed": true
	   },
	   "outputs": [],
"source": [
"clc\n",
"clear\n",
"//Initialization of variables\n",
"D=36 //in\n",
"rho=0.00226  //slug/ft^3\n",
"mu=3.88e-7 //lb-sec/ft^2\n",
"umax=62.2 //ft/s\n",
"V=54.5 //ft/s\n",
"Nr=9.5e5\n",
"r0=18 //in\n",
"r=12 //in\n",
"n=8.8\n",
"k=0.4\n",
"//calculations\n",
"f=0.0032 + 0.221/(Nr^0.237)\n",
"Vs=sqrt(f/8) *V\n",
"delta1=D*5*sqrt(8) /(Nr*sqrt(f))\n",
"y=delta1\n",
"u2=Vs^2 *delta1/12 *rho/mu\n",
"u1=62.2 *(delta1/18)^(1/n)\n",
"//results\n",
"printf('using equation 7-13, velocity = %.1f ft/s',u1)\n",
"printf('\n using equation 7-30, velocity = %.1f ft/s',u2)"
   ]
   }
,
{
		   "cell_type": "markdown",
		   "metadata": {},
		   "source": [
			"## Example 7.7_d: velocity.sce"
		   ]
		  },
  {
"cell_type": "code",
	   "execution_count": null,
	   "metadata": {
	    "collapsed": true
	   },
	   "outputs": [],
"source": [
"clc\n",
"clear\n",
"//Initialization of variables\n",
"D=36 //in\n",
"rho=0.00226  //slug/ft^3\n",
"mu=3.88e-7 //lb-sec/ft^2\n",
"umax=62.2 //ft/s\n",
"V=54.5 //ft/s\n",
"Nr=9.5e5\n",
"r0=18 //in\n",
"r=12 //in\n",
"n=8.8\n",
"k=0.4\n",
"//calculations\n",
"f=0.0032 + 0.221/(Nr^0.237)\n",
"Vs=sqrt(f/8) *V\n",
"delta1=D*5*sqrt(8) /(Nr*sqrt(f))\n",
"y=14*delta1\n",
"u2=62.2*(y/18)^(1/n)\n",
"u3=Vs*(5.50 + 5.75*log10(Vs*y/12 *rho/mu))\n",
"//results\n",
"printf('Using equation 7-13, velocity = %.1f ft/s',u2)\n",
"printf('\n using equation 7-34a, velocity = %.1f ft/s',u3)"
   ]
   }
,
{
		   "cell_type": "markdown",
		   "metadata": {},
		   "source": [
			"## Example 7.7_e: shearing_stress.sce"
		   ]
		  },
  {
"cell_type": "code",
	   "execution_count": null,
	   "metadata": {
	    "collapsed": true
	   },
	   "outputs": [],
"source": [
"clc\n",
"clear\n",
"//Initialization of variables\n",
"D=36 //in\n",
"rho=0.00226  //slug/ft^3\n",
"mu=3.88e-7 //lb-sec/ft^2\n",
"umax=62.2 //ft/s\n",
"V=54.5 //ft/s\n",
"Nr=9.5e5\n",
"r0=18 //in\n",
"r=12 //in\n",
"n=8.8\n",
"k=0.4\n",
"//calculations\n",
"f=0.0032 + 0.221/(Nr^0.237)\n",
"Vs=sqrt(f/8) *V\n",
"delta1=D*5*sqrt(8) /(Nr*sqrt(f))\n",
"u2=Vs^2 *delta1/12 *rho/mu\n",
"T0=rho*Vs^2\n",
"T02=mu*u2/delta1 *12\n",
"//results\n",
"printf('Using equation 7-9a, shearing stress = %.5f lb/ft^2',T0)\n",
"printf('\n Using equation 7-28, shearing stress = %.5f lb/ft^2',T02)\n",
"disp('The answers are a bit different due to rounding off error in textbook')"
   ]
   }
,
{
		   "cell_type": "markdown",
		   "metadata": {},
		   "source": [
			"## Example 7.8: velocity.sce"
		   ]
		  },
  {
"cell_type": "code",
	   "execution_count": null,
	   "metadata": {
	    "collapsed": true
	   },
	   "outputs": [],
"source": [
"clc\n",
"clear\n",
"//Initialization of variables\n",
"umax=62.2 //ft/s\n",
"r0=18 //in\n",
"e=0.0696 //in\n",
"r=6 //in\n",
"//calculations\n",
"Vs=umax/(8.5 + 5.75*log10(r0/e))\n",
"u=Vs*(8.5 + 5.75*log10(r/e))\n",
"//results\n",
"printf('Velocity = %.1f ft/s',u)"
   ]
   }
,
{
		   "cell_type": "markdown",
		   "metadata": {},
		   "source": [
			"## Example 7.9: roughness_factor.sce"
		   ]
		  },
  {
"cell_type": "code",
	   "execution_count": null,
	   "metadata": {
	    "collapsed": true
	   },
	   "outputs": [],
"source": [
"clc\n",
"clear\n",
"//Initialization of variables\n",
"d=8 //in\n",
"V=3.65 //ft/s\n",
"u1=4.75 //ft/s\n",
"r0=4 //in\n",
"//calculations\n",
"f=0.0449\n",
"Q=V*%pi/4 *(d/12)^2\n",
"Vs=(u1-V)/3.75\n",
"r0e=10^((u1/Vs - 8.5)/5.75)\n",
"e=r0/r0e\n",
"//results\n",
"printf('Flow rate = %.2f ft^3/s',Q)\n",
"printf('\n roughness factor = %.3f in',e)"
   ]
   }
],
"metadata": {
		  "kernelspec": {
		   "display_name": "Scilab",
		   "language": "scilab",
		   "name": "scilab"
		  },
		  "language_info": {
		   "file_extension": ".sce",
		   "help_links": [
			{
			 "text": "MetaKernel Magics",
			 "url": "https://github.com/calysto/metakernel/blob/master/metakernel/magics/README.md"
			}
		   ],
		   "mimetype": "text/x-octave",
		   "name": "scilab",
		   "version": "0.7.1"
		  }
		 },
		 "nbformat": 4,
		 "nbformat_minor": 0
}
