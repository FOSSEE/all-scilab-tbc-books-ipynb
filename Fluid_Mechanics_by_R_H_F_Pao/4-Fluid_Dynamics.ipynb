{
"cells": [
 {
		   "cell_type": "markdown",
	   "metadata": {},
	   "source": [
       "# Chapter 4: Fluid Dynamics"
	   ]
	},
{
		   "cell_type": "markdown",
		   "metadata": {},
		   "source": [
			"## Example 4.11: Horsepower.sce"
		   ]
		  },
  {
"cell_type": "code",
	   "execution_count": null,
	   "metadata": {
	    "collapsed": true
	   },
	   "outputs": [],
"source": [
"clc\n",
"clear\n",
"//Initialization of variables\n",
"gam=62.4\n",
"ds=12 //in\n",
"dd=10 //in\n",
"Q=4 //ft^3/s\n",
"pd=40 //psia\n",
"ps=-6 //psia\n",
"zd=5 //ft\n",
"zs=0\n",
"g=32.2 //ft/s^2\n",
"//calculations\n",
"vs=Q/(%pi/4 *(ds/12)^2)\n",
"vd=Q/(%pi/4 *(dd/12)^2)\n",
"emp = (pd-ps)*144/gam + zd-zs + (vd^2 - vs^2)/(2*g)\n",
"hpp=emp*Q*gam/550\n",
"//results\n",
"printf('Horsepower input of the test pump = %.1f hp',hpp)"
   ]
   }
,
{
		   "cell_type": "markdown",
		   "metadata": {},
		   "source": [
			"## Example 4.12: component_of_force.sce"
		   ]
		  },
  {
"cell_type": "code",
	   "execution_count": null,
	   "metadata": {
	    "collapsed": true
	   },
	   "outputs": [],
"source": [
"clc\n",
"clear\n",
"//Initialization of variables\n",
"d1=12 //in\n",
"d2=8 //in\n",
"v1=15 //ft/s\n",
"p1=12 //psig\n",
"p2=5.85 //psig\n",
"rho=1.94 //ft^3/slug\n",
"angle=60 //degrees\n",
"//calculations\n",
"Q=%pi/4 *(d1/12)^2 *v1\n",
"v2=Q/(%pi/4 *(d2/12)^2)\n",
"pa1=p1*%pi/4 *(d1)^2\n",
"pa2=p2*%pi/4 *(d2)^2\n",
"qv1=rho*Q*v1\n",
"qv2=rho*Q*v2\n",
"Fx=pa1+qv1+ cosd(angle)*(pa2+qv2)\n",
"Fy=sind(angle)*(pa2+qv2)\n",
"//results\n",
"printf('Horizontal component of force = %d lb',Fx)\n",
"printf('\n Vertical component of force = %d lb',Fy)"
   ]
   }
,
{
		   "cell_type": "markdown",
		   "metadata": {},
		   "source": [
			"## Example 4.14_b: Thrust.sce"
		   ]
		  },
  {
"cell_type": "code",
	   "execution_count": null,
	   "metadata": {
	    "collapsed": true
	   },
	   "outputs": [],
"source": [
"clc\n",
"clear\n",
"//Initialization of variables\n",
"de=4 //in\n",
"T=1000 //lb\n",
"g=32.2 //ft/s^2\n",
"vele=8.5 //lb/s\n",
"pe=16.5 //psia\n",
"pa=14.7 //psia\n",
"pa2=1 //psia\n",
"//calculations\n",
"Ae=%pi/4 *de^2\n",
"Ve= (T-(pe-pa)*Ae)*g/vele\n",
"T2=vele/g *Ve + (pe-pa2)*Ae\n",
"//results\n",
"printf('Thrust = %d lb',T2)"
   ]
   }
,
{
		   "cell_type": "markdown",
		   "metadata": {},
		   "source": [
			"## Example 4.14: Exit_velocity.sce"
		   ]
		  },
  {
"cell_type": "code",
	   "execution_count": null,
	   "metadata": {
	    "collapsed": true
	   },
	   "outputs": [],
"source": [
"clc\n",
"clear\n",
"//Initialization of variables\n",
"de=4 //in\n",
"T=1000 //lb\n",
"g=32.2 //ft/s^2\n",
"vele=8.5 //lb/s\n",
"pe=16.5 //psia\n",
"pa=14.7 //psia\n",
"//calculations\n",
"Ae=%pi/4 *de^2\n",
"Ve= (T-(pe-pa)*Ae)*g/vele\n",
"//results\n",
"printf('Exit velocity = %d ft/s',Ve)"
   ]
   }
,
{
		   "cell_type": "markdown",
		   "metadata": {},
		   "source": [
			"## Example 4.16: Horsepower_dissipatio.sce"
		   ]
		  },
  {
"cell_type": "code",
	   "execution_count": null,
	   "metadata": {
	    "collapsed": true
	   },
	   "outputs": [],
"source": [
"clc\n",
"clear\n",
"//Initialization of variables\n",
"q=240 //ft^3/sec/ft\n",
"v1=60 //ft/s\n",
"gam=62.4 \n",
"rho=1.94 //slug/ft^3\n",
"g=32.2 //ft/s^2\n",
"//calculations\n",
"y1=q/v1\n",
"v2=8.6 //ft/s\n",
"y2=28 //ft\n",
"hl= (y1+ v1^2 /(2*g)) - (y2+ v2^2 /(2*g))\n",
"hpp=hl*q*gam/550\n",
"//results\n",
"printf('Downstream depth = %.1f ft',y2)\n",
"printf('\n Horsepower dissipation = %d hp per foot width',hpp)"
   ]
   }
,
{
		   "cell_type": "markdown",
		   "metadata": {},
		   "source": [
			"## Example 4.17: Acceleratio.sce"
		   ]
		  },
  {
"cell_type": "code",
	   "execution_count": null,
	   "metadata": {
	    "collapsed": true
	   },
	   "outputs": [],
"source": [
"clc\n",
"clear\n",
"//Initialization of variables\n",
"dh=3 //in\n",
"L=12 //in\n",
"g=32.2 //ft/s^2\n",
"//calculations\n",
"a=dh/L *g\n",
"//results\n",
"printf('Acceleration = %.2f ft/s^2',a)"
   ]
   }
,
{
		   "cell_type": "markdown",
		   "metadata": {},
		   "source": [
			"## Example 4.1: dp_ds.sce"
		   ]
		  },
  {
"cell_type": "code",
	   "execution_count": null,
	   "metadata": {
	    "collapsed": true
	   },
	   "outputs": [],
"source": [
"clc\n",
"clear\n",
"//Initialization of variables\n",
"rho=1.5 //g/cc\n",
"g=32.2 //ft/s^2\n",
"dzds=-0.5\n",
"x1=0\n",
"x2=3\n",
"//calculations\n",
"function dpds = func(s)\n",
"    dpds=-rho*g*dzds - rho*(3+9*s)*9\n",
"endfunction\n",
"r1=func(x1)\n",
"r2=func(x2)\n",
"//results\n",
"printf('At the upper end, dp/ds = %.1f lb/ft^2 per foot',r1)\n",
"printf('\n At the lower end, dp/ds = %.1f lb/ft^2 per foot',r2)"
   ]
   }
,
{
		   "cell_type": "markdown",
		   "metadata": {},
		   "source": [
			"## Example 4.2: pressure_difference.sce"
		   ]
		  },
  {
"cell_type": "code",
	   "execution_count": null,
	   "metadata": {
	    "collapsed": true
	   },
	   "outputs": [],
"source": [
"clc\n",
"clear\n",
"//Initialization of variables\n",
"g=32.2 //ft/s^2\n",
"v1=3 //ft/s\n",
"z1=1.5 //ft\n",
"rho=1.5 //g/cc\n",
"z2=0\n",
"v2=30 //ft/s\n",
"//calculations\n",
"dp= rho*(v2^2 /2 - g*z1 +g*z2 - v1^2 /2)\n",
"//results\n",
"printf('pressure difference = %.1f lb/ft^2',dp)"
   ]
   }
,
{
		   "cell_type": "markdown",
		   "metadata": {},
		   "source": [
			"## Example 4.3: Power_transferred.sce"
		   ]
		  },
  {
"cell_type": "code",
	   "execution_count": null,
	   "metadata": {
	    "collapsed": true
	   },
	   "outputs": [],
"source": [
"clc\n",
"clear\n",
"//Initialization of variables\n",
"pd=15 //psia\n",
"rhod=0.005//slug/ft^3\n",
"pi=150 //psia\n",
"rhoi=0.03 //slug/ft^3\n",
"dz=-25 //ft\n",
"vd=1000 //ft/s\n",
"vi=100 //ft/s\n",
"ud=200 //Btu/slug\n",
"ui=250 //Btu/slug\n",
"g=32.2 //ft/s^2\n",
"J=778\n",
"uff=5 //ft/s\n",
"Q=50 //Btu/sec\n",
"//calculations\n",
"pr=pd/rhod*144 - pi/rhoi *144\n",
"zr=g*(dz)\n",
"vr=(vd^2 -vi^2)/2\n",
"ur=(ud-ui)*J\n",
"jeh=J*Q*g/uff\n",
"gem=pr+zr+vr+ur+jeh\n",
"power=gem*uff/g\n",
"//results\n",
"printf('Power transferred = %d ft-lb/sec',power)"
   ]
   }
,
{
		   "cell_type": "markdown",
		   "metadata": {},
		   "source": [
			"## Example 4.4: Kinetic_energy_correction_factor.sce"
		   ]
		  },
  {
"cell_type": "code",
	   "execution_count": null,
	   "metadata": {
	    "collapsed": true
	   },
	   "outputs": [],
"source": [
"clc\n",
"clear\n",
"//Initialization of variables\n",
"r0=1 \n",
"ri=0\n",
"//calculations\n",
"function v= func1(y)\n",
"    v= 2*y^(1/7) *(y-1)\n",
"endfunction\n",
"V=intg(ri,r0,func1)\n",
"function alpha= func2(y)\n",
"    alpha= 1/ (%pi*V^3) *2*%pi *(y)^(3/7) *(y-1) \n",
"endfunction\n",
"a2=intg(ri,r0,func2)\n",
"//results\n",
"printf('Kinetic energy correction factor = %.2f',a2)"
   ]
   }
,
{
		   "cell_type": "markdown",
		   "metadata": {},
		   "source": [
			"## Example 4.5_a: Pressure_at_the_lower_end_if_friction_is_neglected.sce"
		   ]
		  },
  {
"cell_type": "code",
	   "execution_count": null,
	   "metadata": {
	    "collapsed": true
	   },
	   "outputs": [],
"source": [
"clc\n",
"clear\n",
"//Initialization of variables\n",
"gam=62.4\n",
"pu=40 //psia\n",
"zu=25 //ft\n",
"vu=8 //ft/s\n",
"g=32.2 //ft/s^2\n",
"vl=8 //ft/s\n",
"zl=0 //ft\n",
"//calculations\n",
"pl= gam*(pu*144/gam +zu-zl+ (vu^2 -vl^2)/(2*g))/144\n",
"//results\n",
"printf('Pressure at the lower end if friction is neglected = %.2f psig',pl)"
   ]
   }
,
{
		   "cell_type": "markdown",
		   "metadata": {},
		   "source": [
			"## Example 4.5_b: Pressure_at_the_lower_end_if_friction_is_neglected.sce"
		   ]
		  },
  {
"cell_type": "code",
	   "execution_count": null,
	   "metadata": {
	    "collapsed": true
	   },
	   "outputs": [],
"source": [
"clc\n",
"clear\n",
"//Initialization of variables\n",
"hl=5\n",
"gam=62.4\n",
"pu=40 //psia\n",
"zu=25 //ft\n",
"vu=8 //ft/s\n",
"g=32.2 //ft/s^2\n",
"vl=8 //ft/s\n",
"zl=0 //ft\n",
"//calculations\n",
"pl= gam*(pu*144/gam +zu-zl-hl+ (vu^2 -vl^2)/(2*g))/144\n",
"//results\n",
"printf('Pressure at the lower end if friction is neglected = %.2f psig',pl)"
   ]
   }
,
{
		   "cell_type": "markdown",
		   "metadata": {},
		   "source": [
			"## Example 4.6_b: Pressure.sce"
		   ]
		  },
  {
"cell_type": "code",
	   "execution_count": null,
	   "metadata": {
	    "collapsed": true
	   },
	   "outputs": [],
"source": [
"clc\n",
"clear\n",
"//Initialization of variables\n",
"gam=62.4\n",
"pa=0\n",
"za=15 //ft\n",
"va=0\n",
"pg=0\n",
"zg=0\n",
"g=32.2 //ft/s^2\n",
"d=4 //in\n",
"dg=2 //in\n",
"zd=25  //ft\n",
"//calculations\n",
"vg= sqrt(2*g*(pa/gam +za+va^2 /(2*g) -pg/gam - zg))\n",
"Ag=%pi/4 *(dg/12)^2\n",
"Q=Ag*vg\n",
"A=%pi/4 *(d/12)^2\n",
"v4=Q/A\n",
"pc=-v4^2 *gam/(2*g*144)\n",
"pgd= za-zd - v4^2 /(2*g)\n",
"pd=pgd*gam/144\n",
"pe=-v4^2 *gam/(2*g*144)\n",
"pfg= za- v4^2 /(2*g)\n",
"pf=pfg*gam/144\n",
"//results\n",
"printf('Pressure at C = %.2f psig',pc)\n",
"printf('\n Pressure at D = %.2f psig',pd)\n",
"printf('\n Pressure at E = %.2f psig',pe)\n",
"printf('\n Pressure at F = %.2f psig',pf)"
   ]
   }
,
{
		   "cell_type": "markdown",
		   "metadata": {},
		   "source": [
			"## Example 4.6: discharge.sce"
		   ]
		  },
  {
"cell_type": "code",
	   "execution_count": null,
	   "metadata": {
	    "collapsed": true
	   },
	   "outputs": [],
"source": [
"clc\n",
"clear\n",
"//Initialization of variables\n",
"gam=62.4\n",
"pa=0\n",
"za=15 //ft\n",
"va=0\n",
"pg=0\n",
"zg=0\n",
"g=32.2 //ft/s^2\n",
"dg=2 //in\n",
"//calculations\n",
"vg= sqrt(2*g*(pa/gam +za+va^2 /(2*g) -pg/gam - zg))\n",
"Ag=%pi/4 *(dg/12)^2\n",
"Q=Ag*vg\n",
"//results\n",
"printf('discharge = %.2f ft^3/sec',Q)"
   ]
   }
,
{
		   "cell_type": "markdown",
		   "metadata": {},
		   "source": [
			"## Example 4.7: Time_required.sce"
		   ]
		  },
  {
"cell_type": "code",
	   "execution_count": null,
	   "metadata": {
	    "collapsed": true
	   },
	   "outputs": [],
"source": [
"clc\n",
"clear\n",
"//Initialization of variables\n",
"d1=6 //ft\n",
"d2=3 //in\n",
"pa=2 //ft\n",
"d=13.6 \n",
"sg=0.75\n",
"h1=5 //sec\n",
"h2=3 //sec\n",
"g=32.2 //ft/s^2\n",
"//calculations\n",
"pag=pa/12 *d/sg\n",
"function time = func(h)\n",
"    time= -d1^2 /(d2/12)^2 /(sqrt(2*g)) *(pag+h)^(-0.5)\n",
"endfunction\n",
"ti=intg(h1,h2,func)\n",
"//results\n",
"printf('Time required = %.1f sec',ti)"
   ]
   }
,
{
		   "cell_type": "markdown",
		   "metadata": {},
		   "source": [
			"## Example 4.8: Rate_of_flow.sce"
		   ]
		  },
  {
"cell_type": "code",
	   "execution_count": null,
	   "metadata": {
	    "collapsed": true
	   },
	   "outputs": [],
"source": [
"clc\n",
"clear\n",
"//Initialization of variables\n",
"x=12 //ft\n",
"angle=30 //degrees\n",
"g=32.2 //ft/s^2\n",
"z=-2 //ft\n",
"d=2 //in\n",
"//calculations\n",
"vj= x/cosd(angle) *sqrt(g/(2*(x*tand(angle) -z)))\n",
"Q=%pi/4 *(d/12)^2 *vj\n",
"//results\n",
"printf('Rate of flow = %.2f ft^3/s',Q)"
   ]
   }
,
{
		   "cell_type": "markdown",
		   "metadata": {},
		   "source": [
			"## Example 4.9: Discharge.sce"
		   ]
		  },
  {
"cell_type": "code",
	   "execution_count": null,
	   "metadata": {
	    "collapsed": true
	   },
	   "outputs": [],
"source": [
"clc\n",
"clear\n",
"//Initialization of variables\n",
"x=10 //in of mercury\n",
"sg=13.6 //g/cc\n",
"d1=8 //in\n",
"d2=4 //in\n",
"g=32.2 //ft/s^2\n",
"//calculations\n",
"vdiff=x/12 *sg- x/12\n",
"Vts=vdiff/(1-(d2/d1)^4)\n",
"Vt=sqrt(2*g*Vts)\n",
"Q=Vt*%pi/4 *(d2/12)^2\n",
"//results\n",
"printf('Discharge = %.2f ft^3/s',Q)"
   ]
   }
],
"metadata": {
		  "kernelspec": {
		   "display_name": "Scilab",
		   "language": "scilab",
		   "name": "scilab"
		  },
		  "language_info": {
		   "file_extension": ".sce",
		   "help_links": [
			{
			 "text": "MetaKernel Magics",
			 "url": "https://github.com/calysto/metakernel/blob/master/metakernel/magics/README.md"
			}
		   ],
		   "mimetype": "text/x-octave",
		   "name": "scilab",
		   "version": "0.7.1"
		  }
		 },
		 "nbformat": 4,
		 "nbformat_minor": 0
}
