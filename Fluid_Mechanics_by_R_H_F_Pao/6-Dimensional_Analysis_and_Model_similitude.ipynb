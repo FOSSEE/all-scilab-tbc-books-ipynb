{
"cells": [
 {
		   "cell_type": "markdown",
	   "metadata": {},
	   "source": [
       "# Chapter 6: Dimensional Analysis and Model similitude"
	   ]
	},
{
		   "cell_type": "markdown",
		   "metadata": {},
		   "source": [
			"## Example 6.3: Pressure_drop.sce"
		   ]
		  },
  {
"cell_type": "code",
	   "execution_count": null,
	   "metadata": {
	    "collapsed": true
	   },
	   "outputs": [],
"source": [
"clc\n",
"clear\n",
"//Initialization of variables\n",
"dg=0.5 //in\n",
"dw=12 //in\n",
"rhog=0.022 //slug/ft^3\n",
"rhow=1.94 //slug/ft^3\n",
"muw=2.34e-5 //lb-sec/ft^2\n",
"mug=3.50e-7 //lb-sec/ft^2\n",
"Qg=0.15 //ft^3/s\n",
"dpg=100 //lb/ft^2\n",
"//calculations\n",
"Vr=dg/dw *rhog/rhow *muw/mug\n",
"Qr=Vr*dw^2 /dg^2\n",
"Qw=Qr*Qg\n",
"dpr=rhow/rhog *(Vr)^2\n",
"dpw=dpr*dpg\n",
"//results\n",
"printf('Flow rate of water = %.2f ft^3/s',Qw)\n",
"printf('\n Pressure drop = %.1f lb/ft^2',dpw)"
   ]
   }
,
{
		   "cell_type": "markdown",
		   "metadata": {},
		   "source": [
			"## Example 6.4: Time.sce"
		   ]
		  },
  {
"cell_type": "code",
	   "execution_count": null,
	   "metadata": {
	    "collapsed": true
	   },
	   "outputs": [],
"source": [
"clc\n",
"clear\n",
"//Initialization of variables\n",
"Lr=1/10\n",
"rhom=2\n",
"rhop=1.94\n",
"//calculations\n",
"Vr=sqrt(Lr)\n",
"Tr=Lr/Vr\n",
"ar=Vr/Tr\n",
"Fr=rhom/rhop *ar*Lr^3\n",
"//results\n",
"printf('Velocity ratio = %.4f',Vr)\n",
"printf('\n Time ratio = %.4f',Tr)\n",
"printf('\n Acceleration ratio = %d ',ar)\n",
"printf('\n Force ratio = %.6f',Fr)"
   ]
   }
],
"metadata": {
		  "kernelspec": {
		   "display_name": "Scilab",
		   "language": "scilab",
		   "name": "scilab"
		  },
		  "language_info": {
		   "file_extension": ".sce",
		   "help_links": [
			{
			 "text": "MetaKernel Magics",
			 "url": "https://github.com/calysto/metakernel/blob/master/metakernel/magics/README.md"
			}
		   ],
		   "mimetype": "text/x-octave",
		   "name": "scilab",
		   "version": "0.7.1"
		  }
		 },
		 "nbformat": 4,
		 "nbformat_minor": 0
}
