{
"cells": [
 {
		   "cell_type": "markdown",
	   "metadata": {},
	   "source": [
       "# Chapter 2: Fluid Statics"
	   ]
	},
{
		   "cell_type": "markdown",
		   "metadata": {},
		   "source": [
			"## Example 2.1: Final_pressure.sce"
		   ]
		  },
  {
"cell_type": "code",
	   "execution_count": null,
	   "metadata": {
	    "collapsed": true
	   },
	   "outputs": [],
"source": [
"clc\n",
"clear\n",
"//Initialization of variables\n",
"gam=0.0765 //lb/ft^3\n",
"p=14.7 //psia\n",
"dz=10560 //ft\n",
"//calculations\n",
"pg=p*144/gam\n",
"p2=p*exp(-dz/pg)\n",
"gam2=p2/p*gam\n",
"//results\n",
"printf('Final pressure = %.2f psia',p2)\n",
"printf('\n Final specific weight = %.4f lb/ft^3',gam2)"
   ]
   }
,
{
		   "cell_type": "markdown",
		   "metadata": {},
		   "source": [
			"## Example 2.2: Final_specific_weight.sce"
		   ]
		  },
  {
"cell_type": "code",
	   "execution_count": null,
	   "metadata": {
	    "collapsed": true
	   },
	   "outputs": [],
"source": [
"clc\n",
"clear\n",
"//Initialization of variables\n",
"gam=0.0765 //lb/ft^3\n",
"p=14.7 //psia\n",
"dz=10560 //ft\n",
"n=1.235\n",
"//calculations\n",
"pg=p*144/gam\n",
"p2=p*(1- dz/pg *(n-1)/n)^(n/(n-1))\n",
"gam2=(p2/p)^(1/n) *gam\n",
"//results\n",
"printf('Final pressure = %.2f psia',p2)\n",
"printf('\n Final specific weight = %.4f lb/ft^3',gam2)\n",
""
   ]
   }
,
{
		   "cell_type": "markdown",
		   "metadata": {},
		   "source": [
			"## Example 2.3: Absolute_pressure_in_feet_of_water.sce"
		   ]
		  },
  {
"cell_type": "code",
	   "execution_count": null,
	   "metadata": {
	    "collapsed": true
	   },
	   "outputs": [],
"source": [
"clc\n",
"clear\n",
"//Initialization of variables\n",
"pb=28.5 //in mercury\n",
"d=13.6 //g/cc\n",
"gam=62.4\n",
"pobs=-4 //psi\n",
"//calculations\n",
"patm=pb/12 *gam*d/144\n",
"pabs=patm+pobs\n",
"P=pabs*144/gam\n",
"//results\n",
"printf('Absolute pressure = %.1f psia',pabs)\n",
"printf('\n Absolute pressure in feet of water = %.1f ft of water',P)"
   ]
   }
,
{
		   "cell_type": "markdown",
		   "metadata": {},
		   "source": [
			"## Example 2.4: Absolute_pressure_of_Air.sce"
		   ]
		  },
  {
"cell_type": "code",
	   "execution_count": null,
	   "metadata": {
	    "collapsed": true
	   },
	   "outputs": [],
"source": [
"clc\n",
"clear\n",
"//Initialization of variables\n",
"pb=28 //in mercury\n",
"d=13.6 //g/cc\n",
"gam=62.4\n",
"xm=15 //in\n",
"xw=10 //in\n",
"patm=28 //in\n",
"//calculations\n",
"pB=-xm/12 *gam/144 *d + xw*gam/144\n",
"pair=patm/12 *gam/144 *d - xm/12 *gam/144 *d\n",
"//results\n",
"printf('The pressure gauge at B indicates a reading of %.2f psi vacuum',-pB)\n",
"printf('\n Absolute pressure of Air = %.2f psia',pair)"
   ]
   }
,
{
		   "cell_type": "markdown",
		   "metadata": {},
		   "source": [
			"## Example 2.5: Pressure_difference.sce"
		   ]
		  },
  {
"cell_type": "code",
	   "execution_count": null,
	   "metadata": {
	    "collapsed": true
	   },
	   "outputs": [],
"source": [
"clc\n",
"clear\n",
"//Initialization of variables\n",
"pb=28.5 //in mercury\n",
"d=13.6 //g/cc\n",
"gam=62.4\n",
"xm=10 //in\n",
"xw=2 //ft\n",
"//calculations\n",
"dp= xw*gam/144 - xm/12 *gam/144 + xm/12 *gam/144 *d\n",
"//results\n",
"printf('Pressure difference = %.2f psi',dp)\n",
"if dp>0 then\n",
"    printf('\n Pressure at A is greater than that at B')\n",
"elseif dp=0\n",
"    printf('\n Pressure at both A and B are equal')\n",
"else\n",
"    printf('\n Pressure at A is less than that at B')\n",
"end"
   ]
   }
,
{
		   "cell_type": "markdown",
		   "metadata": {},
		   "source": [
			"## Example 2.6: Magnitude_of_total_force.sce"
		   ]
		  },
  {
"cell_type": "code",
	   "execution_count": null,
	   "metadata": {
	    "collapsed": true
	   },
	   "outputs": [],
"source": [
"clc\n",
"clear\n",
"//Initialization of variables\n",
"gam=62.4\n",
"x1=4 //ft\n",
"x2=6  //ft\n",
"y1=6 //ft\n",
"z=8 //ft\n",
"dy=1 //ft\n",
"angle=60 //degrees\n",
"//calculations\n",
"A1=x1*x2\n",
"A2=1/2 *y1^2\n",
"yc = (A1*(x1+x2+dy) + A2*(x1+x2))/(A1+A2)\n",
"hc=yc*sind(angle)\n",
"F=hc*gam*(A1+A2)\n",
"ic1=1/12 *x1*y1^3\n",
"ic2=1/36*y1*x2^3\n",
"ad1=A1*(x1+x2+dy-yc)^2\n",
"ad2=A2*(x1+x2-yc)^2\n",
"It=ic1+ic2+ad1+ad2\n",
"ydc=It/(yc*(A1+A2))\n",
"function m= momen(u)\n",
"    m= gam*sind(angle) *(2*x1+u)*0.5*(x2-u)*(y1-u)\n",
"endfunction\n",
"MED=intg(0, y1, momen)\n",
"FEDC=gam*sind(angle) *A2*(x1+x2)\n",
"xed=MED/FEDC\n",
"xp= (A1*2*(x1+x2+dy) + (x1+x2)*(A2)*(x1+xed))/(A1*(x1+x2+dy) + A2*(x1+x2))\n",
"//results\n",
"printf('Magnitude of total force = %d lb',F)\n",
"printf('\n Vertical location of force = %.3f ft',ydc)\n",
"printf('\n Horizontal location of force = %.2f ft from AB',xp)\n",
"printf('\n Direction of force is perpendicular to the plane surface')"
   ]
   }
,
{
		   "cell_type": "markdown",
		   "metadata": {},
		   "source": [
			"## Example 2.7: Magnitude_of_total_force.sce"
		   ]
		  },
  {
"cell_type": "code",
	   "execution_count": null,
	   "metadata": {
	    "collapsed": true
	   },
	   "outputs": [],
"source": [
"clc\n",
"clear\n",
"//Initialization of variables\n",
"gam=62.4\n",
"z=10 //ft\n",
"z2=5 //ft\n",
"z3=4.25 //ft\n",
"p=2 //psig\n",
"//calculations\n",
"h=p*144/gam\n",
"Av=z^2\n",
"Fh=gam*(z+h)*Av\n",
"hpc=1/12 *z^4 /((h+z)*z^2)\n",
"Fv=gam*(z2+h) *z^2 + gam*%pi/4 *z^2 *z\n",
"xp= (gam*(z2+h) *z^2 *z2 + gam*%pi/4 *z^2 *z*z3)/(Fv)\n",
"F=sqrt(Fh^2 + Fv^2)\n",
"//results\n",
"printf('Magnitude of force = %d lb',F)\n",
"printf('\n horizontal distance from line of action of Fv = %.2f ft from AG',xp)"
   ]
   }
,
{
		   "cell_type": "markdown",
		   "metadata": {},
		   "source": [
			"## Example 2.8: Location_of_metacenter.sce"
		   ]
		  },
  {
"cell_type": "code",
	   "execution_count": null,
	   "metadata": {
	    "collapsed": true
	   },
	   "outputs": [],
"source": [
"clc\n",
"clear\n",
"//Initialization of variables\n",
"gam=0.0765 //lb/ft^3\n",
"l=40 //ft\n",
"w=16 //ft\n",
"d=8 //ft\n",
"z=6  //ft\n",
"BG=1 //ft\n",
"//calculations\n",
"I=1/12 *l*w^3\n",
"V=l*w*z\n",
"IVG=I/V - BG\n",
"MB=I/V\n",
"//results\n",
"printf('I/V -BG = %.2f ft ',IVG)\n",
"if IVG >0 then\n",
"    printf('\n Barge is stable')\n",
"else\n",
"    printf('\n The barge is unstable')\n",
"end\n",
"printf('\n Location of metacenter = %.2f ft above the center of buoyancy ',MB)"
   ]
   }
],
"metadata": {
		  "kernelspec": {
		   "display_name": "Scilab",
		   "language": "scilab",
		   "name": "scilab"
		  },
		  "language_info": {
		   "file_extension": ".sce",
		   "help_links": [
			{
			 "text": "MetaKernel Magics",
			 "url": "https://github.com/calysto/metakernel/blob/master/metakernel/magics/README.md"
			}
		   ],
		   "mimetype": "text/x-octave",
		   "name": "scilab",
		   "version": "0.7.1"
		  }
		 },
		 "nbformat": 4,
		 "nbformat_minor": 0
}
