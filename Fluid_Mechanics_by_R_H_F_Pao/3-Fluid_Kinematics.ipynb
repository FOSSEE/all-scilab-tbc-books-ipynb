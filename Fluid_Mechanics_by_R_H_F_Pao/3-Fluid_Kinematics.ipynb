{
"cells": [
 {
		   "cell_type": "markdown",
	   "metadata": {},
	   "source": [
       "# Chapter 3: Fluid Kinematics"
	   ]
	},
{
		   "cell_type": "markdown",
		   "metadata": {},
		   "source": [
			"## Example 3.1: Mean_velocity.sce"
		   ]
		  },
  {
"cell_type": "code",
	   "execution_count": null,
	   "metadata": {
	    "collapsed": true
	   },
	   "outputs": [],
"source": [
"clc\n",
"clear\n",
"//Initialization of variables\n",
"gam=0.0765 //lb/ft^3\n",
"Q=100 //ft^3/sec\n",
"d1=2.5 //ft\n",
"d2=9 //in\n",
"l=12 //ft\n",
"//calculations\n",
"A1=%pi/4 *d1^2\n",
"V1=Q/A1\n",
"A2=%pi*l*d2/12\n",
"V2=Q/A2\n",
"//results\n",
"printf('Mean velocity of flow at section 1 = %.1f ft/sec',V1)\n",
"printf('\n Mean velocity of flow at section 2 = %.2f ft/sec',V2)"
   ]
   }
,
{
		   "cell_type": "markdown",
		   "metadata": {},
		   "source": [
			"## Example 3.5: component_of_velocity.sce"
		   ]
		  },
  {
"cell_type": "code",
	   "execution_count": null,
	   "metadata": {
	    "collapsed": true
	   },
	   "outputs": [],
"source": [
"clc\n",
"clear\n",
"//Initialization of variables\n",
"x=3 \n",
"y=1\n",
"//calculations\n",
"u=-3*y^2\n",
"v=-6*x\n",
"//results\n",
"printf('Horizontal component of velocity = %d ',u)\n",
"printf('\n vertical component of velocity = %d ',v)"
   ]
   }
],
"metadata": {
		  "kernelspec": {
		   "display_name": "Scilab",
		   "language": "scilab",
		   "name": "scilab"
		  },
		  "language_info": {
		   "file_extension": ".sce",
		   "help_links": [
			{
			 "text": "MetaKernel Magics",
			 "url": "https://github.com/calysto/metakernel/blob/master/metakernel/magics/README.md"
			}
		   ],
		   "mimetype": "text/x-octave",
		   "name": "scilab",
		   "version": "0.7.1"
		  }
		 },
		 "nbformat": 4,
		 "nbformat_minor": 0
}
