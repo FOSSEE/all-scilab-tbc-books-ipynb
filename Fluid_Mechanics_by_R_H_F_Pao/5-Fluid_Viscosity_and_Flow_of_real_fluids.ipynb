{
"cells": [
 {
		   "cell_type": "markdown",
	   "metadata": {},
	   "source": [
       "# Chapter 5: Fluid Viscosity and Flow of real fluids"
	   ]
	},
{
		   "cell_type": "markdown",
		   "metadata": {},
		   "source": [
			"## Example 5.3: Viscosity_of_oil.sce"
		   ]
		  },
  {
"cell_type": "code",
	   "execution_count": null,
	   "metadata": {
	    "collapsed": true
	   },
	   "outputs": [],
"source": [
"clc\n",
"clear\n",
"//Initialization of variables\n",
"m=1155 //lb\n",
"gam=62.4\n",
"spg=0.93\n",
"t=3*60 //sec\n",
"d=1/6 //in\n",
"L=20 //ft\n",
"dp=2.5 //psi\n",
"//calculations\n",
"Q=m/(t*spg*gam)\n",
"A=%pi/4 *d^2\n",
"V=Q/A\n",
"mu=dp*d^2 *144/(32*V*L)\n",
"//results\n",
"printf('Viscosity of oil = %.4f lb-sec/ft^2',mu)"
   ]
   }
,
{
		   "cell_type": "markdown",
		   "metadata": {},
		   "source": [
			"## Example 5.4: Alpha_beta.sce"
		   ]
		  },
  {
"cell_type": "code",
	   "execution_count": null,
	   "metadata": {
	    "collapsed": true
	   },
	   "outputs": [],
"source": [
"clc\n",
"clear\n",
"//Initialization of variables\n",
"g=32.2\n",
"gam=62.4\n",
"r0=1\n",
"//calculations\n",
"function al= func1(r)\n",
"    al=8/r0^8 *(r0^2-r^2)^3 *(2*r)\n",
"endfunction\n",
"alpha=intg(0,r0,func1)\n",
"function a2= func2(r)\n",
"    a2=4/r0^6 *(r0^2 -r^2) ^2 *(2*r)\n",
"endfunction\n",
"bet=intg(0,r0,func2)\n",
"//results\n",
"printf('Alpha = %d ',alpha)\n",
"printf('\n beta = %.2f',bet)"
   ]
   }
,
{
		   "cell_type": "markdown",
		   "metadata": {},
		   "source": [
			"## Example 5.5_a: Energy_loss.sce"
		   ]
		  },
  {
"cell_type": "code",
	   "execution_count": null,
	   "metadata": {
	    "collapsed": true
	   },
	   "outputs": [],
"source": [
"clc\n",
"clear\n",
"//Initialization of variables\n",
"spg=0.93\n",
"mu=3.1e-3 //lb-sec/ft^2\n",
"gam=62.4\n",
"z=50 //m\n",
"p1=60 //psia\n",
"p2=25 //psia\n",
"//calculations\n",
"p1g=144*p1\n",
"p2g=144*p2 + spg*gam*z\n",
"dp=p1g-p2g\n",
"//results\n",
"if p1g>p2g then\n",
"    printf('The flow is in upward direction')\n",
"else\n",
"    printf('The flow is in downward direction')\n",
"end\n",
"printf('\n Energy loss= %d ft-lb/ft^3',dp)"
   ]
   }
,
{
		   "cell_type": "markdown",
		   "metadata": {},
		   "source": [
			"## Example 5.5_b: Flow_rate.sce"
		   ]
		  },
  {
"cell_type": "code",
	   "execution_count": null,
	   "metadata": {
	    "collapsed": true
	   },
	   "outputs": [],
"source": [
"clc\n",
"clear\n",
"//Initialization of variables\n",
"hl=2140 //ft-lb/ft^3\n",
"spg=0.93\n",
"mu=3.1e-3 //lb-sec/ft^2\n",
"gam=62.4\n",
"z=50 //m\n",
"p1=60 //psia\n",
"p2=25 //psia\n",
"d=1 //in\n",
"//calculations\n",
"V= hl*(d/12)^2 /(32*mu*z)\n",
"Q=V*%pi/4 *(d/12)^2\n",
"Q2=Q*7.48*60\n",
"//results\n",
"printf('Flow rate = %.2f gal/min',Q2)"
   ]
   }
,
{
		   "cell_type": "markdown",
		   "metadata": {},
		   "source": [
			"## Example 5.7: Flow_in_model.sce"
		   ]
		  },
  {
"cell_type": "code",
	   "execution_count": null,
	   "metadata": {
	    "collapsed": true
	   },
	   "outputs": [],
"source": [
"clc\n",
"clear\n",
"//Initialization of variables\n",
"muw=2.04e-5 //lb-sec/ft^2\n",
"rhow=1.94 //slugs/ft^3\n",
"mua=3.74e-7 //lb-sec/ft^2\n",
"rhoa=0.00237 //slug/ft^3\n",
"Qw=200 //gal/min\n",
"Lr=5\n",
"//calculations\n",
"Qa=Qw*Lr *(rhow/rhoa)*(mua/muw)\n",
"//results\n",
"printf('Flow in model = %d gal/min',Qa)"
   ]
   }
],
"metadata": {
		  "kernelspec": {
		   "display_name": "Scilab",
		   "language": "scilab",
		   "name": "scilab"
		  },
		  "language_info": {
		   "file_extension": ".sce",
		   "help_links": [
			{
			 "text": "MetaKernel Magics",
			 "url": "https://github.com/calysto/metakernel/blob/master/metakernel/magics/README.md"
			}
		   ],
		   "mimetype": "text/x-octave",
		   "name": "scilab",
		   "version": "0.7.1"
		  }
		 },
		 "nbformat": 4,
		 "nbformat_minor": 0
}
