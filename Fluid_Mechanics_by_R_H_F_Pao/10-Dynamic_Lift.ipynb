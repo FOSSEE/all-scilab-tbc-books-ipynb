{
"cells": [
 {
		   "cell_type": "markdown",
	   "metadata": {},
	   "source": [
       "# Chapter 10: Dynamic Lift"
	   ]
	},
{
		   "cell_type": "markdown",
		   "metadata": {},
		   "source": [
			"## Example 10.2_a: Max_theoretical_porpulsive_force.sce"
		   ]
		  },
  {
"cell_type": "code",
	   "execution_count": null,
	   "metadata": {
	    "collapsed": true
	   },
	   "outputs": [],
"source": [
"clc\n",
"clear\n",
"//Initialization of variables\n",
"vel=50 //mph\n",
"w=240 //rpm\n",
"r0=3 //ft\n",
"L=30 //ft\n",
"rho=0.00230 //slug/ft^2\n",
"theta=30 //degrees\n",
"//calculations\n",
"V=vel*5280/3600\n",
"T=2*%pi*r0^2 *w*2*%pi/60\n",
"Fl=rho*V*T*L\n",
"F=r0*Fl*cosd(theta)\n",
"//results\n",
"printf('Max. theoretical porpulsive force = %d lb',F)"
   ]
   }
,
{
		   "cell_type": "markdown",
		   "metadata": {},
		   "source": [
			"## Example 10.2_b: Force_required.sce"
		   ]
		  },
  {
"cell_type": "code",
	   "execution_count": null,
	   "metadata": {
	    "collapsed": true
	   },
	   "outputs": [],
"source": [
"clc\n",
"clear\n",
"//Initialization of variables\n",
"vel=50 //mph\n",
"w=240 //rpm\n",
"r0=3 //ft\n",
"L=30 //ft\n",
"rho=0.00230 //slug/ft^2\n",
"theta=30 //degrees\n",
"Cl=2\n",
"Cd=1\n",
"//calculations\n",
"vc=r0*w\n",
"V=vel*5280/3600\n",
"vr=vc/V\n",
"A=2*r0*L\n",
"Fl=Cl*A*0.5*rho*V^2\n",
"Fd=Cd*A*0.5*rho*V^2\n",
"F=r0*(Fl*cosd(theta) + Fd*sind(theta))\n",
"//results\n",
"printf('Force required = %d lb',F)"
   ]
   }
,
{
		   "cell_type": "markdown",
		   "metadata": {},
		   "source": [
			"## Example 10.3_a: Boundary_circulation.sce"
		   ]
		  },
  {
"cell_type": "code",
	   "execution_count": null,
	   "metadata": {
	    "collapsed": true
	   },
	   "outputs": [],
"source": [
"clc\n",
"clear\n",
"//Initialization of variables\n",
"W=7500 //pounds\n",
"rho=0.00230\n",
"V=175*5280/3600 //ft/s\n",
"B=50\n",
"//calculations\n",
"T=W/(rho*V*B)\n",
"//results\n",
"printf('Boundary circulation = %d ft^2/s',T)"
   ]
   }
,
{
		   "cell_type": "markdown",
		   "metadata": {},
		   "source": [
			"## Example 10.3_b: Horsepower_required.sce"
		   ]
		  },
  {
"cell_type": "code",
	   "execution_count": null,
	   "metadata": {
	    "collapsed": true
	   },
	   "outputs": [],
"source": [
"clc\n",
"clear\n",
"//Initialization of variables\n",
"W=7500 //pounds\n",
"rho=0.00230\n",
"V=175*5280/3600 //ft/s\n",
"B=50\n",
"A=350 //ft^2\n",
"//calculations\n",
"Cl=W/(A*0.5*rho*V^2)\n",
"Cd=0.03\n",
"Fd=Cd*A*0.5*rho*V^2 \n",
"hp=Fd*V/550\n",
"//results\n",
"printf('Horsepower required = %d hp',hp)"
   ]
   }
,
{
		   "cell_type": "markdown",
		   "metadata": {},
		   "source": [
			"## Example 10.4: Horsepower_required.sce"
		   ]
		  },
  {
"cell_type": "code",
	   "execution_count": null,
	   "metadata": {
	    "collapsed": true
	   },
	   "outputs": [],
"source": [
"clc\n",
"clear\n",
"//Initialization of variables\n",
"Fl=7500 //pounds\n",
"rho=0.00230\n",
"V=175*5280/3600 //ft/s\n",
"B=50\n",
"A=350 //ft^2\n",
"//calculations\n",
"Vi=2*Fl/(%pi*rho*V*B^2)\n",
"Cl=Fl/(A*0.5*rho*V^2)\n",
"Cdi=Cl*Vi/(V)\n",
"Fdi=Cdi*A*0.5*rho*V^2\n",
"hp=Fdi*V/550\n",
"//results\n",
"printf('Horsepower required = %.1f hp',hp)"
   ]
   }
],
"metadata": {
		  "kernelspec": {
		   "display_name": "Scilab",
		   "language": "scilab",
		   "name": "scilab"
		  },
		  "language_info": {
		   "file_extension": ".sce",
		   "help_links": [
			{
			 "text": "MetaKernel Magics",
			 "url": "https://github.com/calysto/metakernel/blob/master/metakernel/magics/README.md"
			}
		   ],
		   "mimetype": "text/x-octave",
		   "name": "scilab",
		   "version": "0.7.1"
		  }
		 },
		 "nbformat": 4,
		 "nbformat_minor": 0
}
