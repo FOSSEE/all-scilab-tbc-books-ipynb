{
"cells": [
 {
		   "cell_type": "markdown",
	   "metadata": {},
	   "source": [
       "# Chapter 8: Fluid Compressibility and Compressible Flow"
	   ]
	},
{
		   "cell_type": "markdown",
		   "metadata": {},
		   "source": [
			"## Example 8.10: Pressure_at_sectio.sce"
		   ]
		  },
  {
"cell_type": "code",
	   "execution_count": null,
	   "metadata": {
	    "collapsed": true
	   },
	   "outputs": [],
"source": [
"clc\n",
"clear\n",
"//Initialization of variables\n",
"k=1.4\n",
"R=53.3 //lb-ft/lb R\n",
"e=0.0005 //ft\n",
"mu=3.77e-7 //lb-sec/ft^2\n",
"pe=14.7 //psia\n",
"Te=524.6 //R\n",
"g=32.2 //ft/s^2\n",
"Vi=12.5 //ft/s\n",
"l=6 //in\n",
"b=8 //in\n",
"L=100 //ft\n",
"//calculations\n",
"rhoe=pe*144/(R*g*Te)\n",
"Ve=Vi/(g*rhoe*(l*b/144))\n",
"Nme=Ve/(sqrt(k*g*R*Te))\n",
"Rd=l*b/(2*(l+b)) /12\n",
"rr=2*R/e\n",
"Nr=Ve*4*Rd*rhoe/mu\n",
"f=0.019\n",
"f2=1/(2*k) *(1/Nme^2 -1) - (k+1)/(4*k) *log((1+ (k-1)/2 *Nme^2)/(Nme^2 *(1+(k-1)/2)))\n",
"ff=f*L/(8*Rd) +f2\n",
"Nm1=0.305\n",
"Tr2=(1+ (k-1)/2 *Nm1^2)/(1+ (k-1/2))\n",
"Tre=(1+ (k-1)/2 *Nme^2)/(1+ (k-1/2))\n",
"pr2=Nm1*(1+ (k-1)/2 *Nm1^2)^(0.5) /(1+(k-1)/2)^0.5\n",
"pre=Nme*(1+ (k-1)/2 *Nme^2)^(0.5) /(1+(k-1)/2)^0.5\n",
"p1=pe/pr2 *pre\n",
"T1=Te/Tr2 *Tre\n",
"//results\n",
"printf('Pressure at section 1 = %.1f psia',p1)\n",
"printf('\n Tempreature at section 1 = %.1f R',T1)"
   ]
   }
,
{
		   "cell_type": "markdown",
		   "metadata": {},
		   "source": [
			"## Example 8.11: Limiting_pressure_in_adiabatic_case.sce"
		   ]
		  },
  {
"cell_type": "code",
	   "execution_count": null,
	   "metadata": {
	    "collapsed": true
	   },
	   "outputs": [],
"source": [
"clc\n",
"clear\n",
"//Initialization of variables\n",
"k=1.4\n",
"R=53.3 //lb-ft/lb R\n",
"g=32.2 //ft/s^2\n",
"T1=534.6 //R\n",
"V1=400 //ft/s\n",
"p1=350 //psia\n",
"f=0.02\n",
"D=6/12 //ft\n",
"//calculations\n",
"Nm1=V1/sqrt(k*g*R*T1)\n",
"Nm2=1/sqrt(k)\n",
"p2=p1*(Nm1)/Nm2\n",
"fl= log(Nm1/Nm2) + 1/(2*k*Nm1^2) *(1- Nm1^2 /Nm2^2)\n",
"L12=fl*2*D/f\n",
"ps=p1*Nm1*(1+ (k-1)/2 *Nm1^2)^0.5 /(1+(k-1)/2)^0.5\n",
"Nm2=1\n",
"fl2= -(k+1)/(4*k) *log((1+ (k-1)/2 *Nm1^2)/(Nm1^2 *(1+ (k-1)/2))) + 1/(2*k*Nm1^2) *(1- Nm1^2 /Nm2^2)\n",
"L2=fl2*2*D/f\n",
"//results\n",
"printf('Limiting pressure = %.1f psia',p2)\n",
"printf('\n Distance = %.1f ft',L12)\n",
"printf('\n Limiting pressure in adiabatic case = %.1f psia',ps)\n",
"printf('\n Distance required = %.1f ft',L2)"
   ]
   }
,
{
		   "cell_type": "markdown",
		   "metadata": {},
		   "source": [
			"## Example 8.1: Final_temperature.sce"
		   ]
		  },
  {
"cell_type": "code",
	   "execution_count": null,
	   "metadata": {
	    "collapsed": true
	   },
	   "outputs": [],
"source": [
"clc\n",
"clear\n",
"//Initialization of variables\n",
"pi=14.7 //psia\n",
"pf=50 //psia\n",
"cp=0.240 //Btu/lb R\n",
"cv=0.170 //Btu/lb R\n",
"J=778\n",
"T=60+459.6 //R\n",
"//calculations\n",
"R=J*(cp-cv)\n",
"k=cp/cv\n",
"gam=pi*144/(R*T)\n",
"V=1/gam\n",
"Vf=V*(pi/pf)^(1/k)\n",
"Tf=T*(pf*Vf/(pi*V))\n",
"//results\n",
"printf('Initial volume = %.2f ft^3',V)\n",
"printf('\n Final volume = %.2f cu ft',Vf)\n",
"printf('\n Final temperature = %.1f R',Tf)"
   ]
   }
,
{
		   "cell_type": "markdown",
		   "metadata": {},
		   "source": [
			"## Example 8.2: Pressure_difference.sce"
		   ]
		  },
  {
"cell_type": "code",
	   "execution_count": null,
	   "metadata": {
	    "collapsed": true
	   },
	   "outputs": [],
"source": [
"clc\n",
"clear\n",
"//Initialization of variables\n",
"ratio=0.99\n",
"E=3.19e5 //lb/in^2\n",
"//calculations\n",
"pd=-E*log(ratio)\n",
"//ersults\n",
"printf('Pressure difference = %d psi',pd)"
   ]
   }
,
{
		   "cell_type": "markdown",
		   "metadata": {},
		   "source": [
			"## Example 8.3: Speed_of_test_plane.sce"
		   ]
		  },
  {
"cell_type": "code",
	   "execution_count": null,
	   "metadata": {
	    "collapsed": true
	   },
	   "outputs": [],
"source": [
"clc\n",
"clear\n",
"//Initialization of variables\n",
"k=1.4\n",
"g=32.2 //ft/s^2\n",
"R=53.3 //ft-lb/lb R\n",
"T=389.9 //R\n",
"Nm=2\n",
"//calculations\n",
"c=sqrt(k*g*R*T)\n",
"V=Nm*c*3600/5280\n",
"//results\n",
"printf('Speed of test plane = %d mph',V)"
   ]
   }
,
{
		   "cell_type": "markdown",
		   "metadata": {},
		   "source": [
			"## Example 8.4_a: Velocity_at_sectio.sce"
		   ]
		  },
  {
"cell_type": "code",
	   "execution_count": null,
	   "metadata": {
	    "collapsed": true
	   },
	   "outputs": [],
"source": [
"clc\n",
"clear\n",
"//Initialization of variables\n",
"T1=584.6 //R\n",
"g=32.2 //ft/s^2\n",
"k=1.4\n",
"R=53.3 //ft-lb/lb R\n",
"V1=600 //ft/s\n",
"T2=519.6 //R\n",
"//calculations\n",
"Nm1=V1/(sqrt(k*g*R*T1))\n",
"Nm22= ((1+ (k-1)/2 *Nm1^2)/(T2/T1) -1)*(2/(k-1))\n",
"Nm2=sqrt(Nm22)\n",
"V2=Nm2*sqrt(k*g*R*T2)\n",
"//results\n",
"printf('Velocity at section 2 = %d ft/s',V2)"
   ]
   }
,
{
		   "cell_type": "markdown",
		   "metadata": {},
		   "source": [
			"## Example 8.4_b: Pressure_difference_between_two_stations.sce"
		   ]
		  },
  {
"cell_type": "code",
	   "execution_count": null,
	   "metadata": {
	    "collapsed": true
	   },
	   "outputs": [],
"source": [
"clc\n",
"clear\n",
"//Initialization of variables\n",
"T1=584.6 //R\n",
"g=32.2 //ft/s^2\n",
"k=1.4\n",
"R=53.3 //ft-lb/lb R\n",
"V1=600 //ft/s\n",
"T2=519.6 //R\n",
"pa=14.7 //psi\n",
"p1=50 //psia\n",
"//calculations\n",
"Nm1=V1/(sqrt(k*g*R*T1))\n",
"Nm22= ((1+ (k-1)/2 *Nm1^2)/(T2/T1) -1)*(2/(k-1))\n",
"Nm2=sqrt(Nm22)\n",
"pr=((1+ (k-1)/2 *Nm1^2)/(1+ (k-1)/2 *Nm2^2))^(k/(k-1))\n",
"p2=pr*(p1+pa)\n",
"dp=p1+pa-p2\n",
"//results\n",
"printf('Pressure difference between two stations = %.1f psi',dp)"
   ]
   }
,
{
		   "cell_type": "markdown",
		   "metadata": {},
		   "source": [
			"## Example 8.4_c: Area_ratio.sce"
		   ]
		  },
  {
"cell_type": "code",
	   "execution_count": null,
	   "metadata": {
	    "collapsed": true
	   },
	   "outputs": [],
"source": [
"clc\n",
"clear\n",
"//Initialization of variables\n",
"T1=584.6 //R\n",
"g=32.2 //ft/s^2\n",
"k=1.4\n",
"R=53.3 //ft-lb/lb R\n",
"V1=600 //ft/s\n",
"T2=519.6 //R\n",
"//calculations\n",
"Nm1=V1/(sqrt(k*g*R*T1))\n",
"Nm22= ((1+ (k-1)/2 *Nm1^2)/(T2/T1) -1)*(2/(k-1))\n",
"Nm2=sqrt(Nm22)\n",
"Ar= Nm1/Nm2 *((1+ (k-1)/2 *Nm2^2)/(1+ (k-1)/2 *Nm1^2))^((k+1)/(2*(k-1)))\n",
"//results\n",
"printf('Area ratio = %.3f',Ar)"
   ]
   }
,
{
		   "cell_type": "markdown",
		   "metadata": {},
		   "source": [
			"## Example 8.4_d: Density_of_air_at_station.sce"
		   ]
		  },
  {
"cell_type": "code",
	   "execution_count": null,
	   "metadata": {
	    "collapsed": true
	   },
	   "outputs": [],
"source": [
"clc\n",
"clear\n",
"//Initialization of variables\n",
"T1=584.6 //R\n",
"g=32.2 //ft/s^2\n",
"k=1.4\n",
"R=53.3 //ft-lb/lb R\n",
"V1=600 //ft/s\n",
"T2=519.6 //R\n",
"pa=14.7 //psi\n",
"p1=50 //psia\n",
"//calculations\n",
"Nm1=V1/(sqrt(k*g*R*T1))\n",
"Nm22= ((1+ (k-1)/2 *Nm1^2)/(T2/T1) -1)*(2/(k-1))\n",
"Nm2=sqrt(Nm22)\n",
"pr=((1+ (k-1)/2 *Nm1^2)/(1+ (k-1)/2 *Nm2^2))^(k/(k-1))\n",
"p2=pr*(p1+pa)\n",
"rho1=(p1+pa)*144/(g*R*T1)\n",
"rho2=p2*144/(g*R*T2)\n",
"//results\n",
"printf('Density of air at station 1 = %.5f slug/ft^3',rho1)\n",
"printf('\n Density of air at station 2 = %.5f slug/ft^3',rho2)"
   ]
   }
,
{
		   "cell_type": "markdown",
		   "metadata": {},
		   "source": [
			"## Example 8.5: Mass_rate_of_air_flow.sce"
		   ]
		  },
  {
"cell_type": "code",
	   "execution_count": null,
	   "metadata": {
	    "collapsed": true
	   },
	   "outputs": [],
"source": [
"clc\n",
"clear\n",
"//Initialization of variables\n",
"p0=19.7 //psia\n",
"R=53.3 //lb-ft/lb-R\n",
"T0=539.6 //R\n",
"g=32.2 //ft/s^2\n",
"pa=14.7 //psia\n",
"d=1 //in\n",
"k=1.4\n",
"//calculations\n",
"rho0=p0*144/(g*R*T0)\n",
"pr=pa/p0\n",
"G=%pi/4 *(d/12)^2 *(2*k/(k-1) *p0*144*rho0)^(0.5) *(pr)^(1/k) *(1-pr^((k-1)/k))^0.5\n",
"//results\n",
"printf('Mass rate of air flow = %.5f slug/sec',G)"
   ]
   }
,
{
		   "cell_type": "markdown",
		   "metadata": {},
		   "source": [
			"## Example 8.6: Mass_rate_of_air_flow.sce"
		   ]
		  },
  {
"cell_type": "code",
	   "execution_count": null,
	   "metadata": {
	    "collapsed": true
	   },
	   "outputs": [],
"source": [
"clc\n",
"clear\n",
"//Initialization of variables\n",
"p0=64.7 //psia\n",
"R=53.3 //lb-ft/lb-R\n",
"T0=539.6 //R\n",
"g=32.2 //ft/s^2\n",
"pa=14.7 //psia\n",
"d=1 //in\n",
"k=1.4\n",
"//calculations\n",
"rho0=p0*144/(g*R*T0)\n",
"pr=pa/p0\n",
"G=%pi/4 *(d/12)^2 *(k*p0*144*rho0)^(0.5) *(2/(k+1))^((k+1)/(2*(k-1)))\n",
"//results\n",
"printf('Mass rate of air flow = %.5f slug/sec',G)\n",
""
   ]
   }
,
{
		   "cell_type": "markdown",
		   "metadata": {},
		   "source": [
			"## Example 8.7_a: weight_of_air_flow_through_the_nozzle.sce"
		   ]
		  },
  {
"cell_type": "code",
	   "execution_count": null,
	   "metadata": {
	    "collapsed": true
	   },
	   "outputs": [],
"source": [
"clc\n",
"clear\n",
"//Initialization of variables\n",
"k=1.4\n",
"R=53.3 //lb-ft/lb R\n",
"pe=14.7 //psia\n",
"p0=114.7 //psia\n",
"T0=524.6 //R\n",
"g=32.2 //ft/s^2\n",
"d=0.5 //in\n",
"//calculations\n",
"pr=pe/p0\n",
"prcr=0.528\n",
"pr=prcr*p0\n",
"rho0= p0*144/(g*R*T0)\n",
"G=%pi/4 *(d/12)^2 *(k*p0*144*rho0)^(0.5) *(2/(k+1))^((k+1)/(2*(k-1)))\n",
"Wt=G*g\n",
"//results\n",
"printf('weight of air flow through the nozzle = %.4f lb/s',Wt)"
   ]
   }
,
{
		   "cell_type": "markdown",
		   "metadata": {},
		   "source": [
			"## Example 8.7_b: Mach_number_exit.sce"
		   ]
		  },
  {
"cell_type": "code",
	   "execution_count": null,
	   "metadata": {
	    "collapsed": true
	   },
	   "outputs": [],
"source": [
"clc\n",
"clear\n",
"//Initialization of variables\n",
"k=1.4\n",
"R=53.3 //lb-ft/lb R\n",
"pe=14.7 //psia\n",
"p0=114.7 //psia\n",
"T0=524.6 //R\n",
"g=32.2 //ft/s^2\n",
"d=0.5 //in\n",
"Nm1=1\n",
"//calculations\n",
"pr=pe/p0\n",
"Nme=sqrt(2/(k-1) *((1/pr)^((k-1)/k) -1))\n",
"Te=T0/(1+ (k-1)/2 *Nme^2)\n",
"Ve=Nme*sqrt(k*g*R*Te)\n",
"At=%pi/4 *(d)^2\n",
"Ae=Nm1/Nme *((1+ (k-1)/2 *Nme^2)/(1+ (k-1)/2 *Nm1^2))^((k+1)/(2*(k-1))) *At\n",
"//results\n",
"printf('Mach number exit = %.2f',Nme)\n",
"printf('\n Exit velocity = %d ft/s',Ve)\n",
"printf('\n Exit area = %.3f in^2',Ae)"
   ]
   }
,
{
		   "cell_type": "markdown",
		   "metadata": {},
		   "source": [
			"## Example 8.8_a: Exit_mach_number.sce"
		   ]
		  },
  {
"cell_type": "code",
	   "execution_count": null,
	   "metadata": {
	    "collapsed": true
	   },
	   "outputs": [],
"source": [
"clc\n",
"clear\n",
"//Initialization of variables\n",
"k=1.4\n",
"R=53.3 //lb-ft/lb R\n",
"p0=100 //psia\n",
"T0=534.6 //R\n",
"g=32.2 //ft/s^2\n",
"d=0.5 //in\n",
"Nm1=1\n",
"A=2/144 //ft^2\n",
"//calculations\n",
"disp('Exit mach number is found using trial and error')\n",
"Nme=2.44\n",
"rho0=p0*144/(g*R*T0)\n",
"G= A*sqrt(k*p0*144*rho0) *(2/(k+1))^((k+1)/(2*(k-1)))\n",
"pe=p0*(1/(1+(k-1)/2 *Nme^2))^(k/(k-1))\n",
"Te=T0/(1+ (k-1)/2 *Nme^2)\n",
"Ve=Nme*(sqrt(k*g*R*Te))\n",
"//results\n",
"printf('\n Exit mass flow rate = %.3f slug/s',G)\n",
"printf('\n Exit pressure = %.2f psia',pe)\n",
"printf('\n Exit temperature = %.1f R',Te)\n",
"printf('\n Exit velocity = %d ft/s',Ve)\n",
"printf('\n Exit mach number = %.2f',Nme)"
   ]
   }
,
{
		   "cell_type": "markdown",
		   "metadata": {},
		   "source": [
			"## Example 8.8_b: Exit_mach_number.sce"
		   ]
		  },
  {
"cell_type": "code",
	   "execution_count": null,
	   "metadata": {
	    "collapsed": true
	   },
	   "outputs": [],
"source": [
"clc\n",
"clear\n",
"//Initialization of variables\n",
"k=1.4\n",
"R=53.3 //lb-ft/lb R\n",
"p0=100 //psia\n",
"T0=534.6 //R\n",
"g=32.2 //ft/s^2\n",
"d=0.5 //in\n",
"Nm1=1\n",
"A=2/144 //ft^2\n",
"//calculations\n",
"disp('Exit mach number is found using trial and error')\n",
"Nme=0.24\n",
"rho0=p0*144/(g*R*T0)\n",
"G= A*sqrt(k*p0*144*rho0) *(2/(k+1))^((k+1)/(2*(k-1)))\n",
"pe=p0*(1/(1+(k-1)/2 *Nme^2))^(k/(k-1))\n",
"Te=T0/(1+ (k-1)/2 *Nme^2)\n",
"Ve=Nme*(sqrt(k*g*R*Te))\n",
"//results\n",
"printf('\n Exit mass flow rate = %.3f slug/s',G)\n",
"printf('\n Exit pressure = %.2f psia',pe)\n",
"printf('\n Exit temperature = %.1f R',Te)\n",
"printf('\n Exit velocity = %d ft/s',Ve)\n",
"printf('\n Exit mach number = %.2f',Nme)\n",
""
   ]
   }
,
{
		   "cell_type": "markdown",
		   "metadata": {},
		   "source": [
			"## Example 8.9: Mach_number_upstream.sce"
		   ]
		  },
  {
"cell_type": "code",
	   "execution_count": null,
	   "metadata": {
	    "collapsed": true
	   },
	   "outputs": [],
"source": [
"clc\n",
"clear\n",
"//Initialization of variables\n",
"k=1.4\n",
"R=53.3 //lb-ft/lb R\n",
"pu=6.43 //psia\n",
"Tu=244 //R\n",
"Nmu=2.44\n",
"//calculations\n",
"Nmd = sqrt(((k-1)*Nmu^2 +2)/(2*k*Nmu^2 - (k-1)))\n",
"pd=pu*(2*k*Nmu^2 - (k-1))/(k+1)\n",
"Td=Tu*(2*k*Nmu^2 - (k-1))/(k+1) *((k-1)*Nmu^2 +2)/((k+1)*Nmu^2)\n",
"//results\n",
"printf('Mach number upstream = %.3f ',Nmd)\n",
"printf('\n Pressure upstream = %.1f psia',pd)\n",
"printf('\n Temperature upstream = %.1f R',Td)"
   ]
   }
],
"metadata": {
		  "kernelspec": {
		   "display_name": "Scilab",
		   "language": "scilab",
		   "name": "scilab"
		  },
		  "language_info": {
		   "file_extension": ".sce",
		   "help_links": [
			{
			 "text": "MetaKernel Magics",
			 "url": "https://github.com/calysto/metakernel/blob/master/metakernel/magics/README.md"
			}
		   ],
		   "mimetype": "text/x-octave",
		   "name": "scilab",
		   "version": "0.7.1"
		  }
		 },
		 "nbformat": 4,
		 "nbformat_minor": 0
}
