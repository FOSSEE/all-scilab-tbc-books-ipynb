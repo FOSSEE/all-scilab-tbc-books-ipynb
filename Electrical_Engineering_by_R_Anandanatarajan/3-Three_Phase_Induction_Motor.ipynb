{
"cells": [
 {
		   "cell_type": "markdown",
	   "metadata": {},
	   "source": [
       "# Chapter 3: Three Phase Induction Motor"
	   ]
	},
{
		   "cell_type": "markdown",
		   "metadata": {},
		   "source": [
			"## Example 3.1: Frequency_of_rotor_current.sce"
		   ]
		  },
  {
"cell_type": "code",
	   "execution_count": null,
	   "metadata": {
	    "collapsed": true
	   },
	   "outputs": [],
"source": [
"//Chapter-3, Example 3.1, Page 3.6\n",
"//=============================================================================\n",
"clc\n",
"clear\n",
"\n",
"//INPUT DATA\n",
"N=900;//Rotor speed in rpm\n",
"f=50;//Power supply frequency in Hz\n",
"P=6;//No. of poles\n",
"\n",
"//CALCULATIONS\n",
"Ns=(120*f)/P;//Synchronous speed in rpm\n",
"s=((Ns-N)/Ns)*100;//%slip \n",
"f1=(s*f)/100;//Frequency of rotor current in Hz\n",
"\n",
"//OUTPUT\n",
"mprintf('Slip of a 3 phase motor is %i percent\nFrequency of rotor current is %i Hz',s,f1)\n",
"\n",
"//=================================END OF PROGRAM=============================="
   ]
   }
,
{
		   "cell_type": "markdown",
		   "metadata": {},
		   "source": [
			"## Example 3.2: Full_load_speed_of_the_motor.sce"
		   ]
		  },
  {
"cell_type": "code",
	   "execution_count": null,
	   "metadata": {
	    "collapsed": true
	   },
	   "outputs": [],
"source": [
"//Chapter-3, Example 3.2, Page 3.6\n",
"//=============================================================================\n",
"clc\n",
"clear\n",
"\n",
"//INPUT DATA\n",
"N=600;//Speed of 12 pole 3 phase alternator in rpm\n",
"P=12;//No. of poles of alternator\n",
"n=6;//No. of poles in induction motor\n",
"s=2.5;//slip of the motor in %\n",
"\n",
"//CALCULATIONS\n",
"f=(N*P)/120;//Alternator supply frequency in Hz\n",
"Ns=(120*f)/n;//Synchronous speed in rpm\n",
"N1=(Ns-((s*Ns)/100));//Full load speed of the motor when the slip is 2.5%\n",
"\n",
"//OUTPUT\n",
"mprintf('Full load speed of the motor when the slip is 2.5 percent = %irpm',N1)\n",
"\n",
"//=================================END OF PROGRAM=============================="
   ]
   }
,
{
		   "cell_type": "markdown",
		   "metadata": {},
		   "source": [
			"## Example 3.3: Slip_and_speed_of_rotor.sce"
		   ]
		  },
  {
"cell_type": "code",
	   "execution_count": null,
	   "metadata": {
	    "collapsed": true
	   },
	   "outputs": [],
"source": [
"//Chapter-3, Example 3.3, Page 3.7\n",
"//=============================================================================\n",
"clc\n",
"clear\n",
"\n",
"//INPUT DATA\n",
"P=6;//Number of poles\n",
"f=50;//Supply frequency in Hz\n",
"f1=3;//Rotor current frequency in Hz\n",
"\n",
"//CALCULATIONS\n",
"s=(f1/f)*100;//Slip of the motor in %\n",
"Ns=(120*f)/P;//Synchronous speed in rpm\n",
"N=(Ns-((s*Ns)/100));//Speed of the motor in rpm\n",
"\n",
"//OUTPUT\n",
"mprintf('Slip of the motor is %i percent\nSpeed of the motor is %i rpm',s,N)\n",
"\n",
"//=================================END OF PROGRAM=============================="
   ]
   }
,
{
		   "cell_type": "markdown",
		   "metadata": {},
		   "source": [
			"## Example 3.4: Shaft_output_and_torque.sce"
		   ]
		  },
  {
"cell_type": "code",
	   "execution_count": null,
	   "metadata": {
	    "collapsed": true
	   },
	   "outputs": [],
"source": [
"//Chapter-3, Example 3.4, Page 3.12\n",
"//=============================================================================\n",
"clc\n",
"clear\n",
"\n",
"//INPUT DATA\n",
"VL=440;//Supply line voltage in V\n",
"P=4;//Number of poles\n",
"IL=75;//Line current in A\n",
"cosx=0.8;//Power factor\n",
"n=0.8;//Efficiency of the motor\n",
"s=0.03;//slip of the motor\n",
"f=50;//Frequency in Hz\n",
"\n",
"//CALCULATIONS\n",
"Pm=(sqrt(3)*VL*IL*cosx*n);//Output power in W\n",
"Ns=(120*f)/P;//Synchronous speed in rpm\n",
"N=(1-s)*Ns;//Actual speed in rpm\n",
"\n",
"//OUTPUT\n",
"mprintf('Shaft output power is %3.0f W\nActual speed is %i rpm',Pm,N)\n",
"\n",
"//=================================END OF PROGRAM=============================="
   ]
   }
,
{
		   "cell_type": "markdown",
		   "metadata": {},
		   "source": [
			"## Example 3.5: Parameters_of_induction_motor.sce"
		   ]
		  },
  {
"cell_type": "code",
	   "execution_count": null,
	   "metadata": {
	    "collapsed": true
	   },
	   "outputs": [],
"source": [
"//Chapter-3, Example 3.5, Page 3.13\n",
"//=============================================================================\n",
"clc\n",
"clear\n",
"\n",
"//INPUT DATA\n",
"P=6;//Number of poles\n",
"f=50;//Supply frequency in Hz\n",
"Tm=120;//Shaft torque in N.m\n",
"f1=2;//Rotor current frequency in Hz\n",
"L=5;//Amount of constant losses in N.m\n",
"C=500;//Amount of core losses in W\n",
"\n",
"//CALCULATIONS\n",
"Ns=(120*f)/P;//Synchronous speed in rpm\n",
"s=(f1/f);//Slip of the motor \n",
"N=(1-s)*Ns;//Actual speed in rpm\n",
"P=(2*3.14*N*Tm)/60;//Shaft power in W\n",
"Pm=(2*3.14*N*(Tm+L))/60000;//Mechanical power output in kW\n",
"R=(s*Pm)/(1-s);//Rotor copper losses in kW\n",
"I=(Pm+R+(L/10));//Motor input in kW\n",
"n=(Pm/I)*100;//Machine efficiency\n",
"\n",
"//OUTPUT\n",
"mprintf('a)Mechanical power output is %3.3f kW\nb)Rotor copper losses is %3.2fkW\nc)Motor input is %3.3f kW\nd)Machine efficiency is %3.1f percent',Pm,R,I,n)\n",
"\n",
"//=================================END OF PROGRAM=============================="
   ]
   }
,
{
		   "cell_type": "markdown",
		   "metadata": {},
		   "source": [
			"## Example 3.6: Slip_and_torque.sce"
		   ]
		  },
  {
"cell_type": "code",
	   "execution_count": null,
	   "metadata": {
	    "collapsed": true
	   },
	   "outputs": [],
"source": [
"//Chapter-3, Example 3.6, Page 3.17\n",
"//=============================================================================\n",
"clc\n",
"clear\n",
"\n",
"//INPUT DATA\n",
"VL=11000;//Supply line voltage in V\n",
"P=12;//Number of poles\n",
"f=50;//Supply frequency in Hz\n",
"R2=0.2;//Rotor resistance in ohm\n",
"X2=1.2;//Rotor reactance at stand still in ohm\n",
"N=480;//Full load speed in rpm\n",
"\n",
"//CALCULATIONS\n",
"s=(R2/X2);//Slip at maximum torque\n",
"Ns=(120*f)/P;//Synchronous speed in rpm\n",
"s1=(Ns-N)/Ns;//Slip at full load\n",
"T=((R2^2+(s1^2*X2^2))/((2*X2)*(s1*R2)));//Ratio of maximum and full load torque\n",
"T1=((R2^2+X2^2)/(2*X2*R2));//Ratio of maximum and starting torque\n",
"\n",
"//OUTPUT\n",
"mprintf('a)Slip at maximum torque is %3.2f \nb)Ratio of maximum and full load torque is %3.2f \nc)Ratio of maximum and starting torque is %3.2f',s,T,T1)\n",
"\n",
"//=================================END OF PROGRAM=============================="
   ]
   }
,
{
		   "cell_type": "markdown",
		   "metadata": {},
		   "source": [
			"## Example 3.7: Maximum_torque_and_starting_torque.sce"
		   ]
		  },
  {
"cell_type": "code",
	   "execution_count": null,
	   "metadata": {
	    "collapsed": true
	   },
	   "outputs": [],
"source": [
"//Chapter-3, Example 3.7, Page 3.18\n",
"//=============================================================================\n",
"clc\n",
"clear\n",
"\n",
"//INPUT DATA\n",
"P=6;//Number of poles\n",
"f=50;//Supply frequency in Hz\n",
"R2=0.4;//Rotor reisitance in ohm\n",
"X2=4;//Rotor standstill reactance in ohm\n",
"T1=2;//Ratio of maximum torque to starting torque\n",
"\n",
"//CALCULATIONS\n",
"Ns=(120*f)/P;//Synchronous speed in rpm\n",
"Sm=(R2/X2);//Slip at maximum torque\n",
"NTM=(Ns*(1-Sm));//Speed of the motor at maximum torque in rpm\n",
"T=((R2^2+X2^2)/(2*R2*X2));//Ratio of maximum torque to starting torque\n",
"Rext=(sqrt(X2^2/((2*T1)-1))-R2);//Additional resistance required for the ratio of maximum torque to the statring torque to be 2 in ohm\n",
"\n",
"//OUTPUT\n",
"mprintf('a)Speed of the motor at maximum torque is %i rpm \n b)Ratio of maximum torque to starting torque is %3.2f \n c)Additional resistance required for the ratio of maximum torque to the starting torque to be 2 is %3.1f ohm',NTM,T,Rext)\n",
"\n",
"//=================================END OF PROGRAM=============================="
   ]
   }
],
"metadata": {
		  "kernelspec": {
		   "display_name": "Scilab",
		   "language": "scilab",
		   "name": "scilab"
		  },
		  "language_info": {
		   "file_extension": ".sce",
		   "help_links": [
			{
			 "text": "MetaKernel Magics",
			 "url": "https://github.com/calysto/metakernel/blob/master/metakernel/magics/README.md"
			}
		   ],
		   "mimetype": "text/x-octave",
		   "name": "scilab",
		   "version": "0.7.1"
		  }
		 },
		 "nbformat": 4,
		 "nbformat_minor": 0
}
