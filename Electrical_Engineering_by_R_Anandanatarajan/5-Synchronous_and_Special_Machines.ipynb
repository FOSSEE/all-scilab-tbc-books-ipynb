{
"cells": [
 {
		   "cell_type": "markdown",
	   "metadata": {},
	   "source": [
       "# Chapter 5: Synchronous and Special Machines"
	   ]
	},
{
		   "cell_type": "markdown",
		   "metadata": {},
		   "source": [
			"## Example 5.1: Emf_generated_and_line_voltage.sce"
		   ]
		  },
  {
"cell_type": "code",
	   "execution_count": null,
	   "metadata": {
	    "collapsed": true
	   },
	   "outputs": [],
"source": [
"//Chapter-5, Example 5.1, Page 5.6\n",
"//=============================================================================\n",
"clc\n",
"clear\n",
"\n",
"//INPUT DATA\n",
"f=50;//Frequency in Hz\n",
"Z=200;//Number of conductors\n",
"kp=1;//Pitch factor\n",
"kd=0.96;//Distribution factor\n",
"q=0.05;//Flux in Wb\n",
"\n",
"//CALCULATIONS\n",
"Eph=(2.22*kp*kd*f*q*Z);//EMF generated per phase in V\n",
"LV=(Eph*sqrt(3));//Line voltage in V\n",
"\n",
"//OUTPUT\n",
"mprintf('(i)Emf generated per phase is %3.1f V \n(ii)Line voltage is %3.1f V',Eph,LV)\n",
"\n",
"//=================================END OF PROGRAM=============================="
   ]
   }
,
{
		   "cell_type": "markdown",
		   "metadata": {},
		   "source": [
			"## Example 5.2: Induced_emf_per_phase.sce"
		   ]
		  },
  {
"cell_type": "code",
	   "execution_count": null,
	   "metadata": {
	    "collapsed": true
	   },
	   "outputs": [],
"source": [
"//Chapter-5, Example 5.2, Page 5.7\n",
"//=============================================================================\n",
"clc\n",
"clear\n",
"\n",
"//INPUT DATA\n",
"P=8;//Number of poles\n",
"f=50;//Frequency in Hz\n",
"Z=(36*8);//Number of conductors\n",
"q=0.04;//Flux in Wb\n",
"kp=1;//Pitch factor\n",
"kd=1;//Distribution factor\n",
"\n",
"//CALCULATIONS\n",
"Eph=(2.22*kp*kd*f*q*Z);//EMF generated per phase in V\n",
"\n",
"//OUTPUT\n",
"mprintf('Induced emf per phase is %3.1f V',Eph)\n",
"\n",
"//=================================END OF PROGRAM=============================="
   ]
   }
,
{
		   "cell_type": "markdown",
		   "metadata": {},
		   "source": [
			"## Example 5.3: Number_of_conductors.sce"
		   ]
		  },
  {
"cell_type": "code",
	   "execution_count": null,
	   "metadata": {
	    "collapsed": true
	   },
	   "outputs": [],
"source": [
"//Chapter-5, Example 5.3, Page 5.7\n",
"//=============================================================================\n",
"clc\n",
"clear\n",
"\n",
"//INPUT DATA\n",
"P=8;//Number of poles\n",
"EL=11000;//Line voltage of the alternator in kV\n",
"Eph=(EL/sqrt(3));//Phase voltage per pole in V\n",
"kp=1;//Pitch factor\n",
"kd=0.98;//Distribution factor\n",
"q=0.17;//Flux in Wb\n",
"f=50;//Frequency in Hz\n",
"\n",
"//CALCULATIONS\n",
"Z=(Eph/(2.22*kp*kd*f*q));//Number of conductors per phase\n",
"\n",
"//OUTPUT\n",
"mprintf('Number of conductors per phase is %3.0f',Z)\n",
"\n",
"//=================================END OF PROGRAM=============================="
   ]
   }
,
{
		   "cell_type": "markdown",
		   "metadata": {},
		   "source": [
			"## Example 5.4: Synchronous_reactance.sce"
		   ]
		  },
  {
"cell_type": "code",
	   "execution_count": null,
	   "metadata": {
	    "collapsed": true
	   },
	   "outputs": [],
"source": [
"//Chapter-5, Example 5.3, Page 5.7\n",
"//=============================================================================\n",
"clc\n",
"clear\n",
"\n",
"//INPUT DATA\n",
"Eph=(6.6*10^3)/sqrt(3);//Phase voltage in V\n",
"Isc=145;//Short circuit current in A\n",
"Ra=1;//Resistance of stator winding in ohm\n",
"\n",
"//CALCULATIONS\n",
"Zs=(Eph/Isc);//Synchronous impedence in ohm\n",
"Xs=sqrt(Zs^2-Ra^2);//Synchronous reactance in ohm\n",
"\n",
"//OUTPUT\n",
"mprintf('Synchronous reactance is %3.2f ohm',Xs)\n",
"\n",
"//=================================END OF PROGRAM=============================="
   ]
   }
],
"metadata": {
		  "kernelspec": {
		   "display_name": "Scilab",
		   "language": "scilab",
		   "name": "scilab"
		  },
		  "language_info": {
		   "file_extension": ".sce",
		   "help_links": [
			{
			 "text": "MetaKernel Magics",
			 "url": "https://github.com/calysto/metakernel/blob/master/metakernel/magics/README.md"
			}
		   ],
		   "mimetype": "text/x-octave",
		   "name": "scilab",
		   "version": "0.7.1"
		  }
		 },
		 "nbformat": 4,
		 "nbformat_minor": 0
}
