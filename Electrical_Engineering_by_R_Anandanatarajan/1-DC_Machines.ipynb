{
"cells": [
 {
		   "cell_type": "markdown",
	   "metadata": {},
	   "source": [
       "# Chapter 1: DC Machines"
	   ]
	},
{
		   "cell_type": "markdown",
		   "metadata": {},
		   "source": [
			"## Example 1.10: To_calculate_the_properties_of_shunt_generator.sce"
		   ]
		  },
  {
"cell_type": "code",
	   "execution_count": null,
	   "metadata": {
	    "collapsed": true
	   },
	   "outputs": [],
"source": [
"//Chapter-1, Example 1.10, Page 1.26\n",
"//=============================================================================\n",
"clc\n",
"clear\n",
"\n",
"//INPUT DATA\n",
"IL=180;//Load current in A\n",
"V=220;//Terminal voltage in V\n",
"Ra=0.01;//Armature resistance in ohm\n",
"Rsh=40;//Shield field resistance in ohm\n",
"Wc=1000;//Constant losses in W\n",
"x=185;//Load current in A\n",
"\n",
"//CALCULATIONS\n",
"Ia=(IL+(V/Rsh));//Armature current in A\n",
"Eg=(V+(Ia*Ra));//Generated emf in V\n",
"Pm=(V*x)+Wc+(Ia^2*Ra)+(V^2/Rsh);//Output of the prime mover in W\n",
"nm=((V*Ia)/Pm)*100;//Mechanical efficiency\n",
"ne=((V*IL)/(Eg*Ia))*100;//Electrical efficiency\n",
"no=((V*IL)/(Pm))*100;//Overall efficiency\n",
"\n",
"//OUTPUT\n",
"mprintf('a)Generated emf is %3.3f V \n b)Output of the prime mover is %3.2f W \n c)Mechanical efficiency is %3.2f percent \n d)Electrical efficiency is %3.2f percent \n e)Overall efficiency is %3.2f percent',Eg,Pm,nm,ne,no)\n",
"\n",
"//=================================END OF PROGRAM=============================="
   ]
   }
,
{
		   "cell_type": "markdown",
		   "metadata": {},
		   "source": [
			"## Example 1.11: To_calculate_the_back_emf_and_total_mechanical_power.sce"
		   ]
		  },
  {
"cell_type": "code",
	   "execution_count": null,
	   "metadata": {
	    "collapsed": true
	   },
	   "outputs": [],
"source": [
"//Chapter-1, Example 1.11, Page 1.33\n",
"//=============================================================================\n",
"clc\n",
"clear\n",
"\n",
"\n",
"//INPUT DATA\n",
"IL=15;//Load current in A\n",
"V=220;//Terminal voltage in V\n",
"Rsh=180;//Field resistance in ohm\n",
"Ra=0.03;//Armature resistance in ohm\n",
"\n",
"//CALCULATIONS\n",
"Ish=(V/Rsh);//Field current in A\n",
"Ia=(IL-Ish);//Armature current in A\n",
"Eb=(V-(Ia*Ra));//Back emf in V\n",
"Pm=(Eb*Ia)/1000;//Total mechanical power in kW\n",
"\n",
"//OUTPUT\n",
"mprintf('i)Back emf is %3.2f V \nii)Total mechanical power developed in the armature is %3.2f kW',Eb,Pm)\n",
"\n",
"//=================================END OF PROGRAM=============================="
   ]
   }
,
{
		   "cell_type": "markdown",
		   "metadata": {},
		   "source": [
			"## Example 1.12: To_find_the_change_in_back_emf.sce"
		   ]
		  },
  {
"cell_type": "code",
	   "execution_count": null,
	   "metadata": {
	    "collapsed": true
	   },
	   "outputs": [],
"source": [
"//Chapter-1, Example 1.12, Page 1.34\n",
"//=============================================================================\n",
"clc\n",
"clear\n",
"\n",
"//INPUT DATA\n",
"V=220;//Terminal voltage in V\n",
"IaFL=25;//Full load armature current in A\n",
"IaNL=5;//No load armature current in A\n",
"Ra=0.5;//Armature resistance in ohm\n",
"\n",
"//CALCULATIONS\n",
"EbNL=(V-(IaNL*Ra));//Back emf at no load in V\n",
"Eb=(V-(IaFL*Ra));//Back emf at full load in V\n",
"E=(EbNL-Eb);//Change in back emf from no load to full load in V\n",
"\n",
"//OUTPUT\n",
"mprintf('Change in back emf from no load to full load is %3.0f V',E)\n",
"\n",
"//=================================END OF PROGRAM=============================="
   ]
   }
,
{
		   "cell_type": "markdown",
		   "metadata": {},
		   "source": [
			"## Example 1.13: To_find_the_speed_of_the_motor.sce"
		   ]
		  },
  {
"cell_type": "code",
	   "execution_count": null,
	   "metadata": {
	    "collapsed": true
	   },
	   "outputs": [],
"source": [
"//Chapter-1, Example 1.13, Page 1.34\n",
"//=============================================================================\n",
"clc\n",
"clear\n",
"\n",
"//INPUT DATA\n",
"P=4;//Number of poles\n",
"V=500;//Terminal voltage in V\n",
"Ia=80;//Armature current in A\n",
"Ra=0.4;//Armature resistance in ohm\n",
"A=2;//Number of parallel paths\n",
"Z=522;//Number of conductors\n",
"q=0.025;//Useful flux per pole in Wb\n",
"\n",
"//CALCULATIONS\n",
"Eb=(V-(Ia*Ra));//Back emf in V\n",
"N=(Eb*60*A)/(P*q*Z);//Speed of the motor in rpm\n",
"\n",
"//OUTPUT\n",
"mprintf('Speed of the motor is %3.1f rpm',N)\n",
"\n",
"//=================================END OF PROGRAM=============================="
   ]
   }
,
{
		   "cell_type": "markdown",
		   "metadata": {},
		   "source": [
			"## Example 1.14: To_find_the_armature_resistance_and_maximum_armature_current.sce"
		   ]
		  },
  {
"cell_type": "code",
	   "execution_count": null,
	   "metadata": {
	    "collapsed": true
	   },
	   "outputs": [],
"source": [
"//Chapter-1, Example 1.14, Page 1.35\n",
"//=============================================================================\n",
"clc\n",
"clear\n",
"\n",
"//INPUT DATA\n",
"Eb=225;//Back emf in V\n",
"IL=40;//Line current in A\n",
"Rsh=150;//Field  resistance in ohm\n",
"Ish=1.67;//Field current in A\n",
"\n",
"//CALCULATIONS\n",
"V=(Ish*Rsh);//Terminal applied voltage in V\n",
"Ia=(IL-Ish);//Armature current in A\n",
"Ra=(V-Eb)/Ia;//Armature resistance in ohm\n",
"Ia=(V/Ra);//Maximum armature current in A\n",
"\n",
"//OUTPUT\n",
"mprintf('i)Armature resistance is %3.2f ohm \nii)Armature current will be maximum at the moment of start up and it is %3.2f A',Ra,Ia)\n",
"\n",
"//=================================END OF PROGRAM=============================="
   ]
   }
,
{
		   "cell_type": "markdown",
		   "metadata": {},
		   "source": [
			"## Example 1.15: To_find_the_back_emf.sce"
		   ]
		  },
  {
"cell_type": "code",
	   "execution_count": null,
	   "metadata": {
	    "collapsed": true
	   },
	   "outputs": [],
"source": [
"//Chapter-1, Example 1.15, Page 1.36\n",
"//=============================================================================\n",
"clc\n",
"clear\n",
"\n",
"//INPUT DATA\n",
"V=400;//Terminal voltage in V\n",
"P=8000;//Motor output power in W\n",
"n=0.9;//Motor efficiency\n",
"Rsh=180;//Field resistance in ohm\n",
"Ra=0.6;//Armature resistance in ohm\n",
"\n",
"//CALCULATIONS\n",
"If=(V/Rsh);//Field current in A\n",
"Pi=(P/n);//Input power in W\n",
"IL=(Pi/V);//Load current in A\n",
"Ia=(IL-If);//Armature current in A\n",
"Eb=(V-(Ia*Ra));//Back emf in V\n",
"\n",
"//OUTPUT\n",
"mprintf('Back emf is %3.0f V',Eb)\n",
"\n",
"//=================================END OF PROGRAM=============================="
   ]
   }
,
{
		   "cell_type": "markdown",
		   "metadata": {},
		   "source": [
			"## Example 1.16: To_find_the_total_power_developed.sce"
		   ]
		  },
  {
"cell_type": "code",
	   "execution_count": null,
	   "metadata": {
	    "collapsed": true
	   },
	   "outputs": [],
"source": [
"//Chapter-1, Example 1.16, Page 1.37\n",
"//=============================================================================\n",
"clc\n",
"clear\n",
"\n",
"//INPUT DATA\n",
"P=30000;//Power rating of the dc machine in W\n",
"V=300;//Terminal voltage in V\n",
"Ra=0.04;//Armature resistance in ohm\n",
"Rsh=120;//Shunt field resistance in ohm\n",
"\n",
"//CALCULATIONS\n",
"IL=(P/V);//Load current in A\n",
"Ia=(IL+(V/Rsh));//Armature current in A\n",
"Eg=(V+(Ia*Ra));//Generated emf in V\n",
"P=(Eg*Ia);//Power developed in the armature in W\n",
"Ish=(V/Rsh);//Field current in A\n",
"Ia2=(IL-Ish);//Armature current in motor in A\n",
"Eb=(V-(Ia2*Ra));//Back emf in V\n",
"P1=(Eb*Ia2);//Power developed in the armature in W\n",
"\n",
"//OUTPUT\n",
"mprintf('Total power developed in the armature when \ni)the dc machine is operated as a generator is %3.0f W \nii)when the dc machine is operated as a motor is %3.1f W',P,P1)\n",
"\n",
"//=================================END OF PROGRAM=============================="
   ]
   }
,
{
		   "cell_type": "markdown",
		   "metadata": {},
		   "source": [
			"## Example 1.17: To_find_the_armature_torque_and_armature_current.sce"
		   ]
		  },
  {
"cell_type": "code",
	   "execution_count": null,
	   "metadata": {
	    "collapsed": true
	   },
	   "outputs": [],
"source": [
"//Chapter-1, Example 1.17, Page 1.43\n",
"//=============================================================================\n",
"clc\n",
"clear\n",
"\n",
"//INPUT DATA\n",
"P=4;//Number of poles\n",
"Z=726;//Number of conductors \n",
"A=2;//Number of parallel paths\n",
"q=(30*10^-3);//Flux per pole in Wb\n",
"Ia=45;//Total armature current in A\n",
"\n",
"//CALCULATIONS\n",
"Ta=(0.159*Z*q*Ia*P)/A;//Armature toque in N.m\n",
"\n",
"//OUTPUT\n",
"mprintf('Armature torque is %3.2f N.m',Ta)\n",
"\n",
"//=================================END OF PROGRAM=============================="
   ]
   }
,
{
		   "cell_type": "markdown",
		   "metadata": {},
		   "source": [
			"## Example 1.18: To_calculate_the_current_taken_and_diameter_of_the_motor_pulley.sce"
		   ]
		  },
  {
"cell_type": "code",
	   "execution_count": null,
	   "metadata": {
	    "collapsed": true
	   },
	   "outputs": [],
"source": [
"//Chapter-1, Example 1.18, Page 1.43\n",
"//=============================================================================\n",
"clc\n",
"clear\n",
"\n",
"//INPUT DATA\n",
"N=(1800/60);//Speed of the motor in rps\n",
"V=200;//Terminal voltage in V\n",
"Nl=(900/60);//Lathe speed in rps\n",
"F=300;//Force exerted in N\n",
"r=0.2;//Radius of the shaft in m\n",
"n=0.9;//Efficiency of the motor\n",
"Dp=0.3;//Diamter of the Lathe pulley in m\n",
"\n",
"//CALCULATIONS\n",
"Tsh=(F*r);//Shaft torque in N.m\n",
"Psh=(Tsh*2*3.14*Nl);//Shaft power in W\n",
"Pi=(Psh/n);//Input power in W\n",
"I=(Pi/V);//Current taken by the motor in A\n",
"Dm=((Nl*Dp)/N)*100;//Diameter of the motor pulley in cm\n",
"\n",
"//OUTPUT\n",
"mprintf('Current taken by the motor is %3.1f A \nDiameter of the motor pulley is %3.0f cm',I,Dm)\n",
"\n",
"//=================================END OF PROGRAM=============================="
   ]
   }
,
{
		   "cell_type": "markdown",
		   "metadata": {},
		   "source": [
			"## Example 1.19: To_calculate_the_armature_torque_and_horse_power.sce"
		   ]
		  },
  {
"cell_type": "code",
	   "execution_count": null,
	   "metadata": {
	    "collapsed": true
	   },
	   "outputs": [],
"source": [
"//Chapter-1, Example 1.19, Page 1.45\n",
"//=============================================================================\n",
"clc\n",
"clear\n",
"\n",
"//INPUT DATA\n",
"N=(300/60);//Speed of the motor in rps\n",
"P=4;//Number of poles\n",
"Z=732;//Number of conductors \n",
"I=80;//Current through each conductor in A\n",
"l=0.35;//Length of the conductor in m\n",
"n=0.8;//Efficiency of flux distribution\n",
"B=0.8;//Flux densty in Wb/m^2\n",
"D=0.8;//Diameter of the armature in m\n",
"\n",
"//CALCULATIONS\n",
"Ze=(Z*n);//Number of effective conductors\n",
"q=(B*l*2*3.14*(D/2))/4;//Flux per pole in Wb\n",
"Ta=(0.159*q*Ze*I*P);//Armature torque in N.m\n",
"F=(B*I*l);//Force on each conductor in N\n",
"T=(F*(D/2));//Torque due to on econductor in N.m\n",
"T1=(T*Ze);//Torque due to all conductors in N.m\n",
"Br=(2*3.14*N*60*T1)/(60*746);//Brake Horse power in HP\n",
"\n",
"//OUTPUT\n",
"mprintf('Armature torque is %3.0f N.m \n Horse power output is %3.1f HP',Ta,Br)\n",
"\n",
"//=================================END OF PROGRAM==============================\n",
""
   ]
   }
,
{
		   "cell_type": "markdown",
		   "metadata": {},
		   "source": [
			"## Example 1.1: To_find_generated_emf.sce"
		   ]
		  },
  {
"cell_type": "code",
	   "execution_count": null,
	   "metadata": {
	    "collapsed": true
	   },
	   "outputs": [],
"source": [
"//Chapter-1, Example 1.1, Page 1.14\n",
"//=============================================================================\n",
"clc\n",
"clear\n",
"\n",
"//INPUT DATA\n",
"I=450;//Load current in A\n",
"V=250;//Terminal voltage in V\n",
"Ra=0.04;//Armature resistance in ohm\n",
"Rf=50;//Shunt field resistance in ohm\n",
"\n",
"//CALCULATIONS\n",
"Ia=(V/Rf)+I;//Total current in A\n",
"Eg=(V+(Ia*Ra));//Generated emf in V\n",
"\n",
"//OUTPUT\n",
"mprintf('Generated emf is %3.1f V',Eg)\n",
"\n",
"//=================================END OF PROGRAM=============================="
   ]
   }
,
{
		   "cell_type": "markdown",
		   "metadata": {},
		   "source": [
			"## Example 1.20: To_find_the_armature_torque.sce"
		   ]
		  },
  {
"cell_type": "code",
	   "execution_count": null,
	   "metadata": {
	    "collapsed": true
	   },
	   "outputs": [],
"source": [
"//Chapter-1, Example 1.20, Page 1.46\n",
"//=============================================================================\n",
"clc\n",
"clear\n",
"\n",
"\n",
"//INPUT DATA\n",
"IL=50;//Load current in A\n",
"V=220;//Terminal voltage in V\n",
"Ra=0.3;//Armature resistance in ohm\n",
"Rsh=220;//Field resistance in ohm\n",
"N=1200;//Speed of the motor in rpm\n",
"\n",
"//CALCULATIONS\n",
"Ish=(V/Rsh);//Field current in A\n",
"Ia=(IL-Ish);//Armature current in A\n",
"Eb=(V-(Ia*Ra));//Back emf in V\n",
"Ta=(9.55*Eb*Ia)/N;//Armature torque in N.m\n",
"\n",
"//OUTPUT\n",
"mprintf('Armature torque is %3.0f N.m',Ta)\n",
"\n",
"//=================================END OF PROGRAM=============================="
   ]
   }
,
{
		   "cell_type": "markdown",
		   "metadata": {},
		   "source": [
			"## Example 1.21: To_determine_the_speed_and_electro_magnetic_torque.sce"
		   ]
		  },
  {
"cell_type": "code",
	   "execution_count": null,
	   "metadata": {
	    "collapsed": true
	   },
	   "outputs": [],
"source": [
"//Chapter-1, Example 1.21, Page 1.49\n",
"//=============================================================================\n",
"clc\n",
"clear\n",
"\n",
"//INPUT DATA\n",
"V=220;//Terminal voltage in V\n",
"P=(10*746);//Rating of the motor in W\n",
"Iao=5;//No load armature current in A\n",
"No=1200;//No load speed in rpm\n",
"Ra=0.3;//Armature resistance in ohm\n",
"Ial=35;//Armature load current in A\n",
"\n",
"//CALCULATIONS\n",
"Nl=(No*((V-(Ial*Ra))/(V-(Iao*Ra))));//Speed at load in rpm\n",
"Ebo=218.5;//Back emf at no load in V\n",
"EbL=209.5;//Back emf at full load in V\n",
"Tao=(9.55*Ebo*Iao)/No;//No load torque in N.m\n",
"TaL=(9.55*EbL*Ial)/Nl;//Load torque in N.m\n",
"\n",
"//OUTPUT\n",
"mprintf('Load speed is %3.0f rpm \n Load torque is %3.2f N.m',Nl,TaL)\n",
"\n",
"//=================================END OF PROGRAM==============================\n",
""
   ]
   }
,
{
		   "cell_type": "markdown",
		   "metadata": {},
		   "source": [
			"## Example 1.22: To_calculate_the_speed_of_the_motor.sce"
		   ]
		  },
  {
"cell_type": "code",
	   "execution_count": null,
	   "metadata": {
	    "collapsed": true
	   },
	   "outputs": [],
"source": [
"//Chapter-1, Example 1.21, Page 1.49\n",
"//=============================================================================\n",
"clc\n",
"clear\n",
"\n",
"//INPUT DATA\n",
"V=220;//Terminal voltage in V\n",
"Io=4;//No load current in A\n",
"No=800;//No load speed in rpm\n",
"IL=24;//Load current in A\n",
"Ra=0.25;//Armature resistance in ohm\n",
"Rsh=220;//Shunt field resistance in ohm\n",
"No=800;//No load speed in rpm\n",
"\n",
"//CALCULATIONS\n",
"Ish=(V/Rsh);//Field current in A\n",
"Iao=Io-Ish;//Armature current at no load in A\n",
"IaL=IL-Ish;//Armature current at load in A\n",
"Nl=(No*((V-(IaL*Ra))/(V-(Iao*Ra))));//Speed at load in rpm\n",
"\n",
"//OUTPUT\n",
"mprintf('Speed of the motor at load is %3.0f rpm',Nl)\n",
"\n",
"//=================================END OF PROGRAM=============================="
   ]
   }
,
{
		   "cell_type": "markdown",
		   "metadata": {},
		   "source": [
			"## Example 1.23: To_calculate_the_speed_of_a_motor.sce"
		   ]
		  },
  {
"cell_type": "code",
	   "execution_count": null,
	   "metadata": {
	    "collapsed": true
	   },
	   "outputs": [],
"source": [
"//Chapter-1, Example 1.21, Page 1.49\n",
"//=============================================================================\n",
"clc\n",
"clear\n",
"\n",
"//INPUT DATA\n",
"P=6;//Number of poles\n",
"A=6;//Number of parallel paths for lap wound\n",
"Z=600;//Number of conductors\n",
"IL=100;//Load current in A\n",
"V=120;//Terminal voltage in V\n",
"Ra=30;//Armature resistance in ohm\n",
"Rsh=0.06;//Shunt field resistance in ohm\n",
"q=(30*10^-3);//Flux per pole in Wb\n",
"\n",
"//CALCULATIONS\n",
"Ish=(V/Ra);//Field current in A\n",
"Ia=(IL-Ish);//Armature current in A\n",
"Eb=(V-(Ia*Rsh));//Back emf in V\n",
"N=(60*Eb*A)/(q*Z*P);//Speed of the motor in rpm\n",
"\n",
"//OUTPUT\n",
"mprintf('Speed of the lap wound shunt motor is %3.0f rpm',N)\n",
"\n",
"//=================================END OF PROGRAM=============================="
   ]
   }
,
{
		   "cell_type": "markdown",
		   "metadata": {},
		   "source": [
			"## Example 1.24: To_calculate_the_speed.sce"
		   ]
		  },
  {
"cell_type": "code",
	   "execution_count": null,
	   "metadata": {
	    "collapsed": true
	   },
	   "outputs": [],
"source": [
"//Chapter-1, Example 1.21, Page 1.49\n",
"//=============================================================================\n",
"clc\n",
"clear\n",
"//INPUT DATA\n",
"Pg=120000;//Power delivered when generator in W\n",
"Ng=1000;//Prime mover speed in rpm\n",
"Vg=600;//Terminal voltage given by the generator in V dc\n",
"Pm=120000;//Power taken as motor in W\n",
"Vm=600;//Terminal voltage when motor in V dc\n",
"Ra=0.05;//Armature resistance in ohm\n",
"Rsh=200;//Field resistance in ohm\n",
"Vb=1;//Brush drop in V\n",
"Ng=1000;//Speed of the generator in rpm\n",
"//CALCULATIONS\n",
"//When operated as a generator\n",
"IL1=(Pg/Vg);//Load current in A\n",
"If1=(Vg/Rsh);//Filed current in A\n",
"Ia1=(IL1+If1);//Armature current in A\n",
"Eg=(Vg+(Ia1*Ra)+Vb);//Generated emf in V\n",
"//When operated as a motor\n",
"IL2=(Pm/Vm);//Load current in A\n",
"If2=(Vm/Rsh);//Field current in A\n",
"Ia2=(IL2-If2);//Armature current in A\n",
"Eb=(Vm-(Ia2*Ra)-Vb);//Back emf in V\n",
"Nm=(Ng*Eb)/Eg;//Speed of the motor in rpm\n",
"//OUTPUT\n",
"mprintf('Speed of the dc machine when operated as a motor is %3.0f rpm',Nm)\n",
"//=================================END OF PROGRAM=============================="
   ]
   }
,
{
		   "cell_type": "markdown",
		   "metadata": {},
		   "source": [
			"## Example 1.25: To_find_the_speed_and_torque.sce"
		   ]
		  },
  {
"cell_type": "code",
	   "execution_count": null,
	   "metadata": {
	    "collapsed": true
	   },
	   "outputs": [],
"source": [
"//Chapter-1, Example 1.21, Page 1.49\n",
"//=============================================================================\n",
"clc\n",
"clear\n",
"\n",
"//INPUT DATA\n",
"R=0.05;//Total resistance of the motor in ohm\n",
"IL1=120;//Load current in A\n",
"V=220;//Terminal voltage in V\n",
"N=1200;//Speed in rpm\n",
"IL2=60;//Half load current in A\n",
"\n",
"//CALCULATIONS\n",
"//Tnew=0.25*Told\n",
"//Hence percentage change in torque is 75% since it is (Told-Tnew)/Told*100\n",
"Ebnew=(V-(IL1*R));//New back emf in V\n",
"Ebold=(V-(IL2*R));//Old back emf in V\n",
"Nnew=(N*Ebnew*IL1)/(Ebold*IL2);//New speed in rpm\n",
"Pspeed=(Nnew/N)*100;//Percentage change in speed in %\n",
"//Ianew=(Iaold/sqrt(2))\n",
"I=sqrt(2)*100;//Percentage in current \n",
"N1new=(sqrt(2)*Ebnew*N)/Ebold;//New speed in rpm\n",
"P1speed=(N1new/N)*100;//Percentage change in speed in %\n",
"\n",
"//OUTPUT\n",
"mprintf('i)Percentage in speed is %3.2f and Percentage in torque is 75\nii)New speed is %3.0f rpm and new current is (1/sqrt(2)) times old current',Pspeed,N1new)\n",
"\n",
"//=================================END OF PROGRAM=============================="
   ]
   }
,
{
		   "cell_type": "markdown",
		   "metadata": {},
		   "source": [
			"## Example 1.26: To_find_the_efficiency_of_the_motor.sce"
		   ]
		  },
  {
"cell_type": "code",
	   "execution_count": null,
	   "metadata": {
	    "collapsed": true
	   },
	   "outputs": [],
"source": [
"//Chapter-1, Example 1.21, Page 1.49\n",
"//=============================================================================\n",
"clc\n",
"clear\n",
"\n",
"//INPUT DATA\n",
"V=220;//Terminal voltage in V\n",
"ILo=5;//No load current in A\n",
"Ra=0.3;//Armature resistance in ohm\n",
"Rsh=220;//Field resistance in ohm\n",
"IL=50;//Load current in A\n",
"\n",
"//CALCULATIONS\n",
"Lo=(ILo*V);//No load losses in W\n",
"Ish=(V/Rsh);//Shunt current in A\n",
"Iao=(ILo-Ish);//No load armature current in A\n",
"Lco=((Iao^2*Ra)+(Ish^2*Rsh));//No load copper losses in W\n",
"Ifl=(Lo-Lco);//Iron and friction losses in W\n",
"Ia=(IL-Ish);//Armature current in A\n",
"Vl=(Ia^2*Ra);//Variable losses in W\n",
"Tl=(Vl+Lco+Ifl);//Total losses in W\n",
"P=(V*IL);//Input power in W\n",
"n=((P-Tl)/P)*100;//Efficiency\n",
"\n",
"//OUTPUT\n",
"mprintf('Efficiency of the motor is %3.1f percent',n)\n",
"\n",
"//=================================END OF PROGRAM=============================="
   ]
   }
,
{
		   "cell_type": "markdown",
		   "metadata": {},
		   "source": [
			"## Example 1.27: To_calculate_the_properties_of_shunt_motor.sce"
		   ]
		  },
  {
"cell_type": "code",
	   "execution_count": null,
	   "metadata": {
	    "collapsed": true
	   },
	   "outputs": [],
"source": [
"//Chapter-1, Example 1.21, Page 1.49\n",
"//=============================================================================\n",
"clc\n",
"clear\n",
"\n",
"//INPUT DATA\n",
"V=250;//Terminal voltage in V\n",
"IL=50;//Load current in A\n",
"N=1000;//Speed in rpm\n",
"Wi=1200;//Iron and friction losses in W\n",
"Ra=0.05;//Armature resistance in ohm\n",
"Rsh=125;//Field resistance in ohm\n",
"\n",
"//CALCULATIONS\n",
"Ish=(V/Rsh);//Field current in A\n",
"Ia=(IL-Ish);//Armature current in A\n",
"Eb=(V-(Ia*Ra));//Back emf in V\n",
"Cu=((V*IL)-(Eb*Ia));//Copper losses in W\n",
"Ta=(9.55*Eb*Ia)/N;//Armature torque in N.m\n",
"Ts=(9.55*((Eb*Ia)-Wi))/N;//Shaft torque in N.m\n",
"n=(((Eb*Ia)-Wi)/(V*IL))*100;//Efficiency of the motor\n",
"\n",
"//OPUTPUT\n",
"mprintf('(i)Copper loss is %3.1f W\n(ii)Armature torque is %3.1f N.m\n(iii)Shaft torque is %3.2f N.m\n(iv)Efficiency is %3.1f percent',Cu,Ta,Ts,n)\n",
"\n",
"//=================================END OF PROGRAM=============================="
   ]
   }
,
{
		   "cell_type": "markdown",
		   "metadata": {},
		   "source": [
			"## Example 1.28: To_find_the_speed_and_load_current_and_speed_regulation.sce"
		   ]
		  },
  {
"cell_type": "code",
	   "execution_count": null,
	   "metadata": {
	    "collapsed": true
	   },
	   "outputs": [],
"source": [
"//Chapter-1, Example 1.21, Page 1.49\n",
"//=============================================================================\n",
"clc\n",
"clear\n",
"\n",
"//INPUT DATA\n",
"A=2;//Number of parallel paths \n",
"Z=926;//Number of conductors\n",
"P=4;//Nmber of poles\n",
"V=220;//Line voltage in V\n",
"Io=3;//No load ine current in A\n",
"If=0.8;//No load field current in A\n",
"q=(6*10^-3);//No load field flux in Wb\n",
"Ra=0.9;//Armature resistance in ohm\n",
"T=30;//Load torque in N.m\n",
"\n",
"//CALCULATIONS\n",
"Ebo=(V-((Io-If)*Ra));//No load back emf in V\n",
"No=(Ebo*60*A)/(q*Z*P);//No load speed in rpm\n",
"Ia=(A*T)/(0.159*q*Z*P);//Armature current in A\n",
"IL=(Ia+If);//Load current in A\n",
"Eb=(V-(Ia*Ra));//Back emf in V\n",
"N=(Eb*60*A)/(q*Z*P);//Speed at load in rpm\n",
"R=((No-N)/No)*100;//Speed regulation in percent\n",
"\n",
"//OUTPUT\n",
"mprintf('No load speed is %3.0f rpm\nSpeed at load is %3.1f rpm\nSpeed regulation is %3.2f percent',No,N,R)\n",
"\n",
"//=================================END OF PROGRAM=============================="
   ]
   }
,
{
		   "cell_type": "markdown",
		   "metadata": {},
		   "source": [
			"## Example 1.29: To_find_the_change_in_speed.sce"
		   ]
		  },
  {
"cell_type": "code",
	   "execution_count": null,
	   "metadata": {
	    "collapsed": true
	   },
	   "outputs": [],
"source": [
"//Chapter-1, Example 1.21, Page 1.49\n",
"//=============================================================================\n",
"clc\n",
"clear\n",
"\n",
"//INPUT DATA\n",
"V=250;//Terminal voltage in V dc\n",
"N1=800;//Existing speed in rpm\n",
"Ra=0.05;//Armature resistance in ohm\n",
"Ia1=40;//Existing armature current in A\n",
"R=0.1;//Reduction in field flux\n",
"\n",
"//CALCULATIONS\n",
"Ia2=(Ia1/(1-R));//New armature current in A\n",
"N2=(N1*(V-(Ia1*Ra)))/((V-(Ia2*Ra))*(1-R));//New speed in rpm\n",
"\n",
"//OUTPUT\n",
"mprintf('New speed is %3.0f rpm',N2)\n",
"\n",
"//=================================END OF PROGRAM=============================="
   ]
   }
,
{
		   "cell_type": "markdown",
		   "metadata": {},
		   "source": [
			"## Example 1.2: To_calculate_induced_emf_and_armature_current.sce"
		   ]
		  },
  {
"cell_type": "code",
	   "execution_count": null,
	   "metadata": {
	    "collapsed": true
	   },
	   "outputs": [],
"source": [
"//Chapter-1, Example 1.2, Page 1.15\n",
"//=============================================================================\n",
"clc\n",
"clear\n",
"\n",
"//INPUT DATA\n",
"Il=40;//Load current in A\n",
"V=400;//Terminal voltage in V\n",
"Ra=0.04;//Armature resistance in ohm\n",
"Rse=0.02;//Series field resistance in ohm\n",
"Rsh=300;//Shunt field resistance in ohm\n",
"V1=2;//Voltage drop across the brushes in V\n",
"\n",
"//CALCULATIONS\n",
" Ia=Il+(V/Rsh);//Armature current in A\n",
" Eg=V+(Ia*Ra)+(Ia*Rse)+V1;//Generated emf in V\n",
" \n",
"//OUTPUT\n",
"mprintf('Induced emf is %3.3f V \n Armature current is %3.2f A',Eg,Ia)\n",
"\n",
"//=================================END OF PROGRAM=============================="
   ]
   }
,
{
		   "cell_type": "markdown",
		   "metadata": {},
		   "source": [
			"## Example 1.30: To_find_the_resistance_to_be_included.sce"
		   ]
		  },
  {
"cell_type": "code",
	   "execution_count": null,
	   "metadata": {
	    "collapsed": true
	   },
	   "outputs": [],
"source": [
"//Chapter-1, Example 1.21, Page 1.49\n",
"//=============================================================================\n",
"clc\n",
"clear\n",
"\n",
"//INPUT DATA\n",
"V=300;//Terminal voltage in V\n",
"N1=600;//Existing speed in rpm\n",
"IL=30;//Load current in A\n",
"N2=800;//New speed in rpm\n",
"Ra=0.5;//Armature resistance in ohm\n",
"Rsh=125;//Field resistance in ohm\n",
"\n",
"//CALCULATIONS\n",
"Ish1=(V/Rsh);//Field current in A\n",
"Ia1=(IL-Ish1);//Armature current in A\n",
"Ia2=(V-sqrt((V^2)-(4*Ra*(V-(Ia1*Ra))*Ia1*(N2/N1))));//New armature current in A\n",
"Ish2=(Ish1*Ia1)/Ia2;//New field current in A\n",
"Rsh2=(V/Ish2);//New field resistance in ohm\n",
"FR=(Rsh2-Rsh);//Field rheostat in ohm\n",
"\n",
"//OUTPUT\n",
"mprintf('The value of resistance to be included in the field is %3.2f ohm',FR)\n",
"\n",
"//=================================END OF PROGRAM=============================="
   ]
   }
,
{
		   "cell_type": "markdown",
		   "metadata": {},
		   "source": [
			"## Example 1.31: To_find_the_resistance_required.sce"
		   ]
		  },
  {
"cell_type": "code",
	   "execution_count": null,
	   "metadata": {
	    "collapsed": true
	   },
	   "outputs": [],
"source": [
"//Chapter-1, Example 1.21, Page 1.49\n",
"//=============================================================================\n",
"clc\n",
"clear\n",
"\n",
"//INPUT DATA\n",
"N1=1000;//Initial speed in rpm\n",
"N2=600;//Final speed in rpm\n",
"Ia1=40;//Initial armature current in A\n",
"Ia2=30;//Final armature current in A\n",
"V=250;//Terminal voltage in V\n",
"Ra=0.5;//Armature resistance in ohm\n",
"\n",
"//CALCULATIONS\n",
"R=(V-((N2/N1)*(V-(Ia1*Ra))))/30;//Total resistance in ohm\n",
"Rs=(R-Ra);//Series resistance in ohm\n",
"\n",
"//OUTPUT\n",
"mprintf('Resistance required in series is %3.2f ohm',Rs)\n",
"\n",
"//=================================END OF PROGRAM=============================="
   ]
   }
,
{
		   "cell_type": "markdown",
		   "metadata": {},
		   "source": [
			"## Example 1.32: To_find_the_additional_field_resistance_to_be_included.sce"
		   ]
		  },
  {
"cell_type": "code",
	   "execution_count": null,
	   "metadata": {
	    "collapsed": true
	   },
	   "outputs": [],
"source": [
"//Chapter-1, Example 1.21, Page 1.49\n",
"//=============================================================================\n",
"clc\n",
"clear\n",
"\n",
"//INPUT DATA\n",
"N1=1200;//Initial speed in rpm\n",
"N2=1500;//Final speed in rpm\n",
"Ia1=80;//Initial armature current in A\n",
"Ia2=100;//Final armature current in A\n",
"V=220;//Terminal voltage in V\n",
"Ra=0.05;//Armature resistance in ohm\n",
"Rsh1=220;//Initial shunt resistance in ohm\n",
"\n",
"//CALCULATIONS\n",
"Rsh2=((N2/N1)*(V-(Ia1*Ra))*Rsh1)/(V-(Ia2*Ra));//New shunt resistance in ohm\n",
"Rs=(Rsh2-V);//Field resistance in ohm\n",
"\n",
"//OUTPUT\n",
"mprintf('Additional field resistance to be included in the field is %3.2f ohm',Rs)\n",
"\n",
"//=================================END OF PROGRAM=============================="
   ]
   }
,
{
		   "cell_type": "markdown",
		   "metadata": {},
		   "source": [
			"## Example 1.33: To_find_the_speed.sce"
		   ]
		  },
  {
"cell_type": "code",
	   "execution_count": null,
	   "metadata": {
	    "collapsed": true
	   },
	   "outputs": [],
"source": [
"//Chapter-1, Example 1.21, Page 1.49\n",
"//=============================================================================\n",
"clc\n",
"clear\n",
"\n",
"clc\n",
"clear\n",
"//INPUT DATA\n",
"N1=1500;//Initial speed in rpm\n",
"N2=1200;//Final speed in rpm\n",
"Ia1=30;//Initial armature current in A\n",
"V=300;//Terminal voltage in V\n",
"Ra1=0.5;//Initial armature resistance in ohm\n",
"\n",
"//CALCULATIONS\n",
"R=(V-((N2/N1)*(V-(Ia1*Ra1))))/Ia1;//Total resistance in ohm\n",
"Rs=(R-Ra1);//Resistance to be added in ohm\n",
"n=((V-(Ia1*R))/V)*100;//Armature circuit efficiency\n",
"Nn2=(N2*(V-((Ia1/2)*R)))/(V-(Ia1*R));//New speed at half of the full load torque in rpm\n",
"\n",
"//OUTPUT\n",
"mprintf('Resistance to be added to the existing armature resistance is %3.1f ohm \n Speed at half of the full load torque is %3.1f rpm',Rs,Nn2)\n",
"\n",
"//=================================END OF PROGRAM=============================="
   ]
   }
,
{
		   "cell_type": "markdown",
		   "metadata": {},
		   "source": [
			"## Example 1.34: To_find_the_properties_of_shunt_motor.sce"
		   ]
		  },
  {
"cell_type": "code",
	   "execution_count": null,
	   "metadata": {
	    "collapsed": true
	   },
	   "outputs": [],
"source": [
"//Chapter-1, Example 1.21, Page 1.49\n",
"//=============================================================================\n",
"clc\n",
"clear\n",
"\n",
"//INPUT DATA\n",
"Pi=8800;//Input power in W\n",
"Ra=0.5;//Armature resistance in ohm\n",
"No=1260;//Speed of the motor at no load in rpm\n",
"V=240;//Line voltage in V\n",
"Pm=18800;//Gross mechanical power in W\n",
"V=240;//treminal voltage in V\n",
"\n",
"//CALCULATIONS\n",
"K=(V/No);//Constant of proportionality \n",
"Eb1=(240-sqrt((V^2)-(4*(Pi/2))))/2;//Back emf in V\n",
"Eb2=(240+sqrt((V^2)-(4*(Pi/2))))/2;//Back emf in V\n",
"I=(Pi/V);//Rated current in A\n",
"Ia=(V-Eb1)/Ra;//Armature current in A\n",
"Nn=(Eb2/K);//New speed in rpm\n",
"Ia2=(V-Eb2)/Ra;//Armature current in A\n",
"T=(60*Pi)/(2*3.14*Nn);//Torque developed in N.m\n",
"K2=(T/Ia2);//New constant\n",
"//TN=(0.5*10^-4)Nn^2\n",
"Nnn1=(-((K2*K)/Ra)+sqrt((((K2*K)/Ra))^2+(4*(0.5*10^-4)*((V*K2)/Ra))))/(2*0.5*10^-4);//New speed in rpm\n",
"\n",
"//OUTPUT\n",
"mprintf('Armature current is %3.0f A \n Torque developed is %3.2f N.m \n New speed of the motor is %3.0f rpm',Ia2,T,Nnn1)\n",
"\n",
"//=================================END OF PROGRAM=============================="
   ]
   }
,
{
		   "cell_type": "markdown",
		   "metadata": {},
		   "source": [
			"## Example 1.35: To_find_the_torque_and_power_and_speed.sce"
		   ]
		  },
  {
"cell_type": "code",
	   "execution_count": null,
	   "metadata": {
	    "collapsed": true
	   },
	   "outputs": [],
"source": [
"//Chapter-1, Example 1.21, Page 1.49\n",
"//=============================================================================\n",
"clc\n",
"clear\n",
"\n",
"//INPUT DATA\n",
"N1=1500;//Initial speed in rpm\n",
"V1=270;//Terminal voltage in V\n",
"T=300;//Full load torque in N.m\n",
"N2=1200;//New speed in rpm\n",
"V2=(2*V1);//New terminal voltage in V\n",
"Ra=0.31;//Armature resistance in ohm\n",
"\n",
"//CALCULATIONS\n",
"Ia=(T*2*3.14*N1)/(V1*60);//Full load current in A\n",
"Eb=(V1*(N2/N1));//Back emf in V\n",
"Pm=(Eb*Ia)/1000;//Mechanical power developed in kW\n",
"Eb2=(V2-(Ia*Ra));//Back emf at new terminal volatge in V\n",
"N=(Eb2*Ia*60)/(2*3.14*T);//New speed in rpm\n",
"Pm2=(Eb2*Ia/1000);//Mechanical power in kW\n",
"\n",
"//OUTPUT\n",
"mprintf('i)Full load current is %3.1f A, Full load power is %3.1f kW, Armature resistance is %3.2f ohm\nii)New motor torque is %3.0f N.m, Motor power is %3.1f kW, Motor speed is %3.0f rpm',Ia,Pm,Ra,T,Pm2,N)\n",
"\n",
"//=================================END OF PROGRAM=============================="
   ]
   }
,
{
		   "cell_type": "markdown",
		   "metadata": {},
		   "source": [
			"## Example 1.36: To_find_the_series_resistance_required.sce"
		   ]
		  },
  {
"cell_type": "code",
	   "execution_count": null,
	   "metadata": {
	    "collapsed": true
	   },
	   "outputs": [],
"source": [
"//Chapter-1, Example 1.21, Page 1.49\n",
"//=============================================================================\n",
"clc\n",
"clear\n",
"\n",
"//INPUT DATA\n",
"V=200;//Terminal voltage in V\n",
"Ra=0.05;//Armature resistance in ohm\n",
"Rse=0.03;//Field resistance in ohm\n",
"N1=1000;//Present speed in rpm\n",
"N2=800;//Required speed in rpm\n",
"Ia=40;//Armature current in A\n",
"\n",
"//CALCULATIONS\n",
"R=(V-((N2/N1)*(V-(Ia*(Ra+Rse)))))/Ia;//Total resistance in ohm\n",
"R1=(R-Ra-Rse);//Series resistance required to be connected in series with armature and field resistance in ohm\n",
"\n",
"//OUTPUT\n",
"mprintf('Series resistance required to be connected in series with armature and field resistance is %3.3f ohm',R1)\n",
"\n",
"//=================================END OF PROGRAM=============================="
   ]
   }
,
{
		   "cell_type": "markdown",
		   "metadata": {},
		   "source": [
			"## Example 1.37: To_find_the_series_resistance_to_be_added.sce"
		   ]
		  },
  {
"cell_type": "code",
	   "execution_count": null,
	   "metadata": {
	    "collapsed": true
	   },
	   "outputs": [],
"source": [
"//Chapter-1, Example 1.21, Page 1.49\n",
"//=============================================================================\n",
"clc\n",
"clear\n",
"\n",
"//INPUT DATA\n",
"V=500;//Terminal voltage in V dc\n",
"I=30;//Line current in A\n",
"N1=600;//Initial speed in rpm\n",
"N2=500;//Required speed in rpm\n",
"R=0.5;//Total resistance in ohm\n",
"\n",
"//CALCULATIONS\n",
"Eb1=(V-(I*R));//Back emf in V\n",
"Ka=(Eb1*60)/(I*N1);//Proportionality constant\n",
"T1=(Ka*I^2)/(2*3.14);//Torque developed at speed 600 rpm\n",
"T2=(T1*(N2/N1)^2);//Torque developed at speed 500 rpm\n",
"I2=sqrt((2*3.14*T2)/Ka);//New lin ecurrent in A\n",
"Eb2=(Ka*I2*N2)/60;//New back emf in V\n",
"R1=(V-Eb2)/I2;//Required series resistance in ohm\n",
"\n",
"//OUTPUT\n",
"mprintf('Series resistance to be added to armature field circuit is %3.1f ohm',R1)\n",
"\n",
"//=================================END OF PROGRAM=============================="
   ]
   }
,
{
		   "cell_type": "markdown",
		   "metadata": {},
		   "source": [
			"## Example 1.38: To_calculate_the_Resistance.sce"
		   ]
		  },
  {
"cell_type": "code",
	   "execution_count": null,
	   "metadata": {
	    "collapsed": true
	   },
	   "outputs": [],
"source": [
"//Chapter-1, Example 1.21, Page 1.49\n",
"//=============================================================================\n",
"clc\n",
"clear\n",
"\n",
"//INPUT DATA\n",
"V=200;//Terminal voltage in V dc\n",
"I1=25;//Line current in A\n",
"Ra=0.5;//Armature resistance in ohm\n",
"Rse=0.3;//Field resistance in ohm\n",
"\n",
"//CALCULATIONS\n",
"//N2=0.75*N1\n",
"I2=sqrt((I1^2*(0.75)^3));//New line current in A\n",
"Eb1=(V-(I1*(Ra+Rse)));//Back emf in V\n",
"X=(V*I2);//X value for Resistance\n",
"R=(X-(0.75*Eb1))/I2^2;//Total resistance in ohm\n",
"Rs=(R-Ra-Rse);//Resistance to be connected in ohm\n",
"\n",
"//OUTPUT\n",
"mprintf('Resistance to be connected is %3.1f ohm',Rs)\n",
"\n",
"//=================================END OF PROGRAM=============================="
   ]
   }
,
{
		   "cell_type": "markdown",
		   "metadata": {},
		   "source": [
			"## Example 1.3: To_calculate_induced_emf_and_armature_current.sce"
		   ]
		  },
  {
"cell_type": "code",
	   "execution_count": null,
	   "metadata": {
	    "collapsed": true
	   },
	   "outputs": [],
"source": [
"//Chapter-1, Example 1.3, Page 1.15\n",
"//=============================================================================\n",
"clc\n",
"clear\n",
"\n",
"//INPUT DATA\n",
"V=250;//Terminal voltage in V\n",
"IL=40;//Load current in A\n",
"Ra=0.04;//Armature resistance in ohm\n",
"Rse=0.03;//Series field resistance in ohm\n",
"Rsh=100;//Shunt field resistance in ohm\n",
"Vbr=2;//Voltage drop across brushes in V\n",
"\n",
"//CALCULATIONS\n",
"Vsh=(V+(IL*Rse));//Voltage across shunt field in V\n",
"Ia=(IL+(Vsh/Rsh));//Armature current in A\n",
"Eg=(V+(IL*Rse)+(Ia*Ra)+Vbr);//Generated emf in V\n",
"\n",
"//OUTPUT\n",
"mprintf('Induced emf is %3.1f V \nArmature current is %3.3f A',Eg,Ia)\n",
"\n",
"//=================================END OF PROGRAM=============================="
   ]
   }
,
{
		   "cell_type": "markdown",
		   "metadata": {},
		   "source": [
			"## Example 1.4: To_calculate_the_total_power_delivered.sce"
		   ]
		  },
  {
"cell_type": "code",
	   "execution_count": null,
	   "metadata": {
	    "collapsed": true
	   },
	   "outputs": [],
"source": [
"//Chapter-1, Example 1.4, Page 1.16\n",
"//=============================================================================\n",
"clc\n",
"clear\n",
"\n",
"//INPUT DATA\n",
"Ed=25000;//Power delivered by the generator in W\n",
"V=250;//Terminal voltage in V\n",
"Rsh=75;//Shunt field resistance in ohm\n",
"Ra=0.03;//Armature resistance in ohm\n",
"\n",
"//CALCULATIONS\n",
"IL=(Ed/V);//Load current in A\n",
"If=(V/Rsh);//Field current in A\n",
"Ia=(IL+If);//Armature current in A\n",
"Eg=(V+(Ia*Ra));//Generated emf in V\n",
"Pg=(Eg*Ia)/1000;//Generated power in kW\n",
"\n",
"//OUTPUT\n",
"mprintf('Total power delivered by the armature is %3.2f kW',Pg)\n",
"\n",
"//=================================END OF PROGRAM=============================="
   ]
   }
,
{
		   "cell_type": "markdown",
		   "metadata": {},
		   "source": [
			"## Example 1.5: To_calculate_the_emf_generated.sce"
		   ]
		  },
  {
"cell_type": "code",
	   "execution_count": null,
	   "metadata": {
	    "collapsed": true
	   },
	   "outputs": [],
"source": [
"//Chapter-1, Example 1.5, Page 1.17\n",
"//=============================================================================\n",
"clc\n",
"clear\n",
"\n",
"//INPUT DATA\n",
"n=48;//Number of slots\n",
"z=16;//Number of conductors per slot\n",
"q=0.018;//Flux per pole in Wb\n",
"P=4;//Number of poles\n",
"N=1000;//Speed of armature in rpm\n",
"A=2;//Number of parallel paths \n",
"\n",
"//CALCULATIONS\n",
"Z=(n*z);//Number of conductors\n",
"Eg=(q*Z*N*P)/(60*A);//Generated emf in V\n",
"\n",
"//OUTPUT\n",
"mprintf('Generated emf is %3.1f V',Eg)\n",
"\n",
"//=================================END OF PROGRAM=============================="
   ]
   }
,
{
		   "cell_type": "markdown",
		   "metadata": {},
		   "source": [
			"## Example 1.6: To_calculate_the_speed.sce"
		   ]
		  },
  {
"cell_type": "code",
	   "execution_count": null,
	   "metadata": {
	    "collapsed": true
	   },
	   "outputs": [],
"source": [
"//Chapter-1, Example 1.6, Page 1.18\n",
"//=============================================================================\n",
"clc\n",
"clear\n",
"\n",
"//INPUT DATA\n",
"P=4;//Number of poles\n",
"Z=400;//Number of conductors\n",
"q=0.03;//Flux per pole in Wb\n",
"Eg=250;//Generated emf in V\n",
"A1=4;//Number of parallel paths in lap wound\n",
"A2=2;//Number of parallel paths in wave wound\n",
"\n",
"//CALCULATIONS\n",
"N1=(60*Eg*A1)/(q*Z*P);//Speed reqired in lap wound in rpm\n",
"N2=(60*Eg*A2)/(q*Z*P);//Speed reqired in wave wound in rpm\n",
"\n",
"//OUTPUT\n",
"mprintf('Speed reqired in lap wound is %3.0f rpm \nSpeed reqired in wave wound is %3.0f rpm',N1,N2)\n",
"\n",
"//=================================END OF PROGRAM=============================="
   ]
   }
,
{
		   "cell_type": "markdown",
		   "metadata": {},
		   "source": [
			"## Example 1.7: To_calculate_the_flux_per_pole.sce"
		   ]
		  },
  {
"cell_type": "code",
	   "execution_count": null,
	   "metadata": {
	    "collapsed": true
	   },
	   "outputs": [],
"source": [
"//Chapter-1, Example 1.7, Page 1.18\n",
"//=============================================================================\n",
"clc\n",
"clear\n",
"\n",
"//INPUT DATA\n",
"Eg1=250;//Existing generated emf in V\n",
"N1=800;//Existed rated speed in rpm\n",
"q1=0.03;//Existing flux in Wb\n",
"Eg2=300;//New generated emf in V\n",
"N2=1000;//New rated speed in rpm\n",
"\n",
"//CALCULATIONS\n",
"q2=(q1*N1*Eg2)/(Eg1*N2);//New flux per pole in Wb\n",
"\n",
"//OUTPUT\n",
"mprintf('New flux per pole is %3.4f Wb',q2)\n",
"\n",
"//=================================END OF PROGRAM=============================="
   ]
   }
,
{
		   "cell_type": "markdown",
		   "metadata": {},
		   "source": [
			"## Example 1.8: To_calculate_the_terminal_voltage.sce"
		   ]
		  },
  {
"cell_type": "code",
	   "execution_count": null,
	   "metadata": {
	    "collapsed": true
	   },
	   "outputs": [],
"source": [
"//Chapter-1, Example 1.8, Page 1.19\n",
"//=============================================================================\n",
"clc\n",
"clear\n",
"\n",
"//NPUT DATA\n",
"n=200;//Number of turns\n",
"P=6;//Number of poles\n",
"A=P;//Since lap wound turns\n",
"Ra=0.0112;//Armature resistance in ohm\n",
"Ia=40;//Armature current in A\n",
"N=1000;//Armature speed in rpm\n",
"q=0.03;//Flux per pole in Wb\n",
"\n",
"//CALCULATIONS\n",
"Z=(n*2);//Total number of conductors\n",
"Eg=(q*Z*N*P)/(60*A);//Generated emf in V\n",
"IaRa=(Ia*Ra);//Armature drop in VI\n",
"V=(Eg-IaRa);//Terminal voltage in V\n",
"\n",
"//OUTPUT\n",
"mprintf('Terminal voltage is %3.3f V',V)\n",
"\n",
"//=================================END OF PROGRAM=============================="
   ]
   }
,
{
		   "cell_type": "markdown",
		   "metadata": {},
		   "source": [
			"## Example 1.9: To_calculate_the_speed.sce"
		   ]
		  },
  {
"cell_type": "code",
	   "execution_count": null,
	   "metadata": {
	    "collapsed": true
	   },
	   "outputs": [],
"source": [
"//Chapter-9, Example 1.9, Page 1.20\n",
"//=============================================================================\n",
"clc\n",
"clear\n",
"\n",
"//INPUT DATA\n",
"P=4;//Number of poles\n",
"A=2;//Number of parallel paths for wave wound\n",
"Z=400;//Number of conductors\n",
"q=(20*10^-3);//Flux per pole in Wb\n",
"Ra=0.04;//Armature resistance in ohm\n",
"Rsh=75;//Shunt field resistance in ohm\n",
"V=250;//Terminal voltage in V\n",
"PL=(600*100);//Total load on the generator in W\n",
"Vld=10;//Line drop in V\n",
"\n",
"//CALCULATIONS\n",
"IL=(PL/V);//Load current in A\n",
"Ish=(V/Rsh);//Shunt field current in A\n",
"Ia=(IL+Ish);//Armature current in A\n",
"Eg=(V+(Ia*Ra)+Vld);//Generated emf in V\n",
"N=(60*Eg*A)/(q*Z*P);//Speed at which the generator should be driven in rpm\n",
"\n",
"//OUTPUT\n",
"mprintf('Speed at which the generator should be driven is %i rpm',N)\n",
"\n",
"//=================================END OF PROGRAM=============================="
   ]
   }
],
"metadata": {
		  "kernelspec": {
		   "display_name": "Scilab",
		   "language": "scilab",
		   "name": "scilab"
		  },
		  "language_info": {
		   "file_extension": ".sce",
		   "help_links": [
			{
			 "text": "MetaKernel Magics",
			 "url": "https://github.com/calysto/metakernel/blob/master/metakernel/magics/README.md"
			}
		   ],
		   "mimetype": "text/x-octave",
		   "name": "scilab",
		   "version": "0.7.1"
		  }
		 },
		 "nbformat": 4,
		 "nbformat_minor": 0
}
