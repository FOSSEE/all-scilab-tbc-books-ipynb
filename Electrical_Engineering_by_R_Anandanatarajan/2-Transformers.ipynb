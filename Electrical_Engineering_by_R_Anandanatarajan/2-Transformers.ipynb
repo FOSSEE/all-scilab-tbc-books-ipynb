{
"cells": [
 {
		   "cell_type": "markdown",
	   "metadata": {},
	   "source": [
       "# Chapter 2: Transformers"
	   ]
	},
{
		   "cell_type": "markdown",
		   "metadata": {},
		   "source": [
			"## Example 2.10: Primary_current_and_power_factor.sce"
		   ]
		  },
  {
"cell_type": "code",
	   "execution_count": null,
	   "metadata": {
	    "collapsed": true
	   },
	   "outputs": [],
"source": [
"//Chapter-2, Example 2.10, Page 2.17\n",
"//=============================================================================\n",
"clc\n",
"clear\n",
"\n",
"//INPUT DATA\n",
"Io=12;//Primary no load current in A\n",
"cosqo=0.25;//No load power factor \n",
"I2=220;//Secondary load current in A\n",
"cosq2=0.8;//Secondary power factor\n",
"K=(1/5);//Turn ratio\n",
"\n",
"//CALCULATIONS\n",
"qo=acosd(cosqo);//phase angle in degree\n",
"q2=acosd(cosq2);//Phase angle in degree\n",
"Ioc=complex((Io*cosqo),(Io*sind(qo)));//Io value in complex form\n",
"I2i=complex((K*I2*cosq2),(K*I2*sind(q2)));//I2i value in complex form\n",
"I1=(Ioc+I2i);//Primary current in A\n",
"X=sqrt((real(I1))^2+(imag(I1))^2);//Primary current in A\n",
"Y=cosd(atand(imag(I1)/real(I1)));//Power factor\n",
"\n",
"//OUTPUT\n",
"mprintf('Primary current is %3.1f A and Primary power factor is %3.2f',X,Y)\n",
"\n",
"//=================================END OF PROGRAM=============================="
   ]
   }
,
{
		   "cell_type": "markdown",
		   "metadata": {},
		   "source": [
			"## Example 2.11: Properties_of_an_ideal_step_up_transformer.sce"
		   ]
		  },
  {
"cell_type": "code",
	   "execution_count": null,
	   "metadata": {
	    "collapsed": true
	   },
	   "outputs": [],
"source": [
"//Chapter-2, Example 2.11, Page 2.18\n",
"//=============================================================================\n",
"clc\n",
"clear\n",
"\n",
"//INPUT DATA\n",
"K=(330/110);//Turn ratio\n",
"N1=110;//Number of turns in the primary\n",
"N2=330;//Number of turns in the secandary\n",
"V1=4000;//Primary voltage in V\n",
"f=50;//Supply frquency in Hz\n",
"Z2=complex(120,40);//Secondary load\n",
"\n",
"//CALCULATIONS\n",
"q=(V1/(4.44*N1*f));//Flux in Wb\n",
"V2=(K*V1);//Secondary voltage in V\n",
"I2=(V2/Z2);//Secondary current in A\n",
"I1=K*I2;//Primary current in A\n",
"S=(V1*I1)/1000;//Transformer rating\n",
"P1=(V1*sqrt((real(I1))^2+(imag(I1))^2)*cosd((atand(imag(I1)/real(I1)))))/1000;//Real power in kW\n",
"R1=(V1*sqrt((real(I1))^2+(imag(I1))^2)*sind(-(atand(imag(I1)/real(I1)))))/1000;//Reactive power in KVAR\n",
"Zeq=(V1/I1);//Transformer equivalent impedence \n",
"a1=sqrt((real(I1))^2+(imag(I1))^2);\n",
"a2=sqrt((real(I2))^2+(imag(I2))^2);\n",
"b1=real(Zeq);\n",
"b2=imag(Zeq);\n",
"\n",
"//OUTPUT\n",
"mprintf('a)Maximum flux in the core is %3.3f Wb\n(b)Primary current is %3.2f A and Secondary current is %3.2f A\n(c)Real power is %3.0f KW and Reactive power is %3.0f KVAR\n(d)Value of impedence consumed is %3.1f+j%3.1f',q,a1,a2,P1,R1,b1,b2)\n",
"\n",
"//=================================END OF PROGRAM=============================="
   ]
   }
,
{
		   "cell_type": "markdown",
		   "metadata": {},
		   "source": [
			"## Example 2.12: Primary_current_and_peak_value_of_flux.sce"
		   ]
		  },
  {
"cell_type": "code",
	   "execution_count": null,
	   "metadata": {
	    "collapsed": true
	   },
	   "outputs": [],
"source": [
"//Chapter-2, Example 2.12, Page 2.20\n",
"//=============================================================================\n",
"clc\n",
"clear\n",
"\n",
"//INPUT DATA\n",
"N1=100;//Number of turns in the primary\n",
"N2=2000;//Number of turns in the secondary\n",
"V1=220;//Primary volatge in V\n",
"f=50;//Supply frequency in Hz\n",
"I2=3;//Secondary current in A\n",
"\n",
"//CALCULATIONS\n",
"K=(N2/N1);//Turn ratio\n",
"I1=(K*I2);//Primary current in A\n",
"q=(V1/(4.44*f*N1))*1000;//Peak vaue of flux linked with the secondary in m.Wb\n",
"\n",
"//OUTPUT\n",
"mprintf('(a)The value of primary current is %3.0f A \n(b)The peak value of flux linked with the secondary is %3.1f m.Wb',I1,q)\n",
"\n",
"//=================================END OF PROGRAM=============================="
   ]
   }
,
{
		   "cell_type": "markdown",
		   "metadata": {},
		   "source": [
			"## Example 2.13: Secondary_voltage_and_primary_and_secondary_current.sce"
		   ]
		  },
  {
"cell_type": "code",
	   "execution_count": null,
	   "metadata": {
	    "collapsed": true
	   },
	   "outputs": [],
"source": [
"//Chapter-2, Example 2.13, Page 2.21\n",
"//=============================================================================\n",
"clc\n",
"clear\n",
"\n",
"//INPUT DATA\n",
"N1=1100;//Number of turns in the primary\n",
"N2=550;//Number of turns in the secandary\n",
"V1=200;//Primary voltage in V\n",
"R2=5;//Resistance in the secondary in ohm\n",
"\n",
"//CALCULATIONS\n",
"K=(N2/N1);//Turn ratio\n",
"V2=(K*V1);//Secondary voltage in V\n",
"I2=(V2/R2);//Current in the secondary in A\n",
"I1=(K*I2);//Current in the primary in A\n",
"\n",
"//OUTPUT\n",
"mprintf('(a)Secondary voltage is %3.0f V\n(b)Primary current is %3.0f A\n(c)Secondary current is %3.0f A',V2,I2,I1)\n",
"\n",
"//=================================END OF PROGRAM=============================="
   ]
   }
,
{
		   "cell_type": "markdown",
		   "metadata": {},
		   "source": [
			"## Example 2.14: Primary_current.sce"
		   ]
		  },
  {
"cell_type": "code",
	   "execution_count": null,
	   "metadata": {
	    "collapsed": true
	   },
	   "outputs": [],
"source": [
"//Chapter-2, Example 2.16, Page 2.30\n",
"//=============================================================================\n",
"clc\n",
"clear\n",
"\n",
"//INPUT DATA\n",
"N1=400;//Number of turns in the primary\n",
"N2=100;//Number of turns in the secondary\n",
"Io=4;//No load current in A\n",
"qo=0.3;//No load current power factor \n",
"I2=120;//Secondary current in A\n",
"q2=0.8;//Secondary current power factor\n",
"\n",
"//CALCULATIONS\n",
"K=(N2/N1);//Turn ratio\n",
"I2i=(K*I2);//Secondary current in A\n",
"I2ic=complex((I2i*q2),(I2i*sind(acosd(q2))));//Ixi in complex form\n",
"Ioc=complex((Io*qo),(Io*sind(acosd(qo))));//Ixi in complex form\n",
"Iic=(I2ic+Ioc);//Primary current in complex form\n",
"a1=sqrt((real(Iic))^2+(imag(Iic))^2);\n",
"a2=atand(imag(Iic)/real(Iic));\n",
"q=cosd(a2);//Phase angle in degree\n",
"\n",
"//OUTPUT\n",
"mprintf('Current taken by the primary is %3.2f A and power factor is %3.2f',a1,q)\n",
"\n",
"//=================================END OF PROGRAM=============================="
   ]
   }
,
{
		   "cell_type": "markdown",
		   "metadata": {},
		   "source": [
			"## Example 2.15: Power_delivered_and_current_taken.sce"
		   ]
		  },
  {
"cell_type": "code",
	   "execution_count": null,
	   "metadata": {
	    "collapsed": true
	   },
	   "outputs": [],
"source": [
"//Chapter-2, Example 2.15, Page 2.23\n",
"//=============================================================================\n",
"clc\n",
"clear\n",
"\n",
"//INPUT DATA\n",
"V1=6000;//Primary volatge in V\n",
"V2=500;//Secondary voltage in V\n",
"Z2=complex(4,3)\n",
"\n",
"//CALCULATIONS\n",
"K=(V2/V1);//Voltage transformation ratio\n",
"I2=(V2/Z2);//Secondary current in A\n",
"a1=sqrt((real(I2))^2+(imag(I2))^2);\n",
"a2=atand(imag(I2)/real(I2));\n",
"q=cosd(a2);//Phase angle in degree\n",
"P2=(V2*a1*q)/1000;//Power delivered in kW\n",
"I1=(K*a1);//Primary current in A\n",
"\n",
"//OUTPUT\n",
"mprintf('Power delivered is %3.0f kW \nCurrent taken by an ideal transformer is %3.2f A',P2,I1)\n",
" \n",
"//=================================END OF PROGRAM=============================="
   ]
   }
,
{
		   "cell_type": "markdown",
		   "metadata": {},
		   "source": [
			"## Example 2.16: Parameters_of_a_transformer.sce"
		   ]
		  },
  {
"cell_type": "code",
	   "execution_count": null,
	   "metadata": {
	    "collapsed": true
	   },
	   "outputs": [],
"source": [
"//Chapter-2, Example 2.1, Page 2.4\n",
"//=============================================================================\n",
"clc\n",
"clear\n",
"\n",
"//INPUT DATA\n",
"Q=25;//Rating of a transformer in KVA\n",
"V1=2000;//Primary voltage in V\n",
"V2=200;//Secondary volatge in V\n",
"R1=0.15;//Primary winding resistance in ohm\n",
"X1=0.25;//Primary leakage reactance in ohm\n",
"R2=0.04;//Secondary winding resistance in ohm\n",
"X2=0.015;//Secondary leakage reactance in ohm\n",
"\n",
"//CALCULATIONS\n",
"K=(V2/V1);//Voltage transformation ratio\n",
"Ro1=(R1+(R2/K^2));//Resistance referred to primary in ohm\n",
"Xo1=(X1+(X2/K^2));//Reactance referred to primary in ohm\n",
"Zo1=sqrt(Ro1^2+Xo1^2);//Impedence referred to primary in ohm\n",
"Ro2=(R2+(R1*K^2));//Resistance referred to secndary in ohm\n",
"Xo2=(X2+(X1*K^2));//Reactance referred to secondary in ohm\n",
"Zo2=sqrt(Ro2^2+Xo2^2);//Impedence referred to secondary in ohm\n",
"\n",
"//OUTPUT\n",
"mprintf('(a)Resistance referred to primary is %3.2f ohm \n Reactance referred to primary is %3.2f ohm \n Impedence referred to primary is %3.1f ohm \n\n(b)Resistance referred to secndary is %3.4f ohm \n Reactance referred to secondary is %3.4f ohm \n Impedence referred to secondary is %3.3f ohm',Ro1,Xo1,Zo1,Ro2,Xo2,Zo2)\n",
"\n",
"//=================================END OF PROGRAM=============================="
   ]
   }
,
{
		   "cell_type": "markdown",
		   "metadata": {},
		   "source": [
			"## Example 2.17: Parameters_of_a_transformer.sce"
		   ]
		  },
  {
"cell_type": "code",
	   "execution_count": null,
	   "metadata": {
	    "collapsed": true
	   },
	   "outputs": [],
"source": [
"//Chapter-2, Example 2.17, Page 2.32\n",
"//=============================================================================\n",
"clc\n",
"clear\n",
"\n",
"//INPUT DATA\n",
"R1=3.5;//Primary Resistance in ohm\n",
"X1=5.2;//Primary reactance in ohm\n",
"R2=0.01;//Secondary Resistance in ohm\n",
"X2=0.02;//Secondary reactance in ohm\n",
"Q=40000;//Rating of the transformer in VA\n",
"V1=4000;//Primary voltage in V\n",
"V2=200;//Secondary voltage in V\n",
"\n",
"//CALCULATIONS\n",
"Z1=complex(R1,X1);//Primary impedence\n",
"Z2=complex(R2,X2);//Secondary impedence\n",
"I1=(Q/V1);//Primary current in A\n",
"I2=(Q/V2);//Secondary current in A\n",
"K=(I1/I2);//Current ratio\n",
"Ro1=(R1+(R2/K^2));//Resistance referred to primary in ohm\n",
"Xo1=(X1+(X2/K^2));//Reactance referred to primary in ohm\n",
"Zo1=(Z1+(Z2/K^2));//Impedence referred to primary in ohm\n",
"Ro2=(R2+(R1*K^2));//Resistance referred to secndary in ohm\n",
"Xo2=(X2+(X1*K^2));//Reactance referred to secondary in ohm\n",
"Zo2=(Z2+(Z1*K^2));//Impedence referred to secondary in ohm\n",
"a1=real(Zo1);\n",
"a2=imag(Zo1);\n",
"a3=real(Zo2);\n",
"a4=imag(Zo2);\n",
"\n",
"//OUTPUT\n",
"mprintf('(a)Resistance referred to primary is %3.1f ohm \n Reactance referred to primary is %3.1f ohm \n Impedence referred to primary is %3.1f+j%3.1f ohm \n\n(b)Resistance referred to secndary is %3.5f ohm \n Reactance referred to secondary is %3.3f ohm \n Impedence referred to secondary is %3.5f+j%3.3f ohm',Ro1,Xo1,a1,a2,Ro2,Xo2,a3,a4)\n",
"\n",
"//=================================END OF PROGRAM=============================="
   ]
   }
,
{
		   "cell_type": "markdown",
		   "metadata": {},
		   "source": [
			"## Example 2.18: Parameters_of_a_transformer.sce"
		   ]
		  },
  {
"cell_type": "code",
	   "execution_count": null,
	   "metadata": {
	    "collapsed": true
	   },
	   "outputs": [],
"source": [
"//Chapter-2, Example 2.18, Page 2.34\n",
"//=============================================================================\n",
"clc\n",
"clear\n",
"\n",
"//INPUT DATA\n",
"Q=(40*1000);//Transformer rating in VA\n",
"V1=1600;//Primary voltage in V\n",
"V2=160;//Secondary voltage in V\n",
"f=50;//Frequency in Hz\n",
"R=10;//Turn ratio\n",
"\n",
"//CALCULATIONS\n",
"K=0.1;//Turn ratio\n",
"I2=(Q/V2);//Full load secondary current in A\n",
"Z2=(V2/I2);//Load impedence in ohm\n",
"Zo1=(Z2/K^2);//Impedence referred to high tension side in ohm\n",
"I2i=(K*I2);//Value of current referred to high tension side in A\n",
"\n",
"//OUTPUT\n",
"mprintf('(a)Load impedence required for full load current is %3.2f ohm \n(b)Impedence referred to high tension side is %3.0f ohm\n(c)Value of current referred to high tension side is %3.0f A',Z2,Zo1,I2i)\n",
"\n",
"//=================================END OF PROGRAM=============================="
   ]
   }
,
{
		   "cell_type": "markdown",
		   "metadata": {},
		   "source": [
			"## Example 2.19: Priamary_and_secondary_resistance_and_reactance.sce"
		   ]
		  },
  {
"cell_type": "code",
	   "execution_count": null,
	   "metadata": {
	    "collapsed": true
	   },
	   "outputs": [],
"source": [
"//Chapter-2, Example 2.19, Page 2.35\n",
"//=============================================================================\n",
"clc\n",
"clear\n",
"\n",
"//INPUT DATA\n",
"Q=80;//Transformer rating in KVA\n",
"V1=11000;//Primart voltage in V\n",
"V2=440;//Secondary voltage in V\n",
"Pcu=0.75;//Primary copper loss in kW\n",
"Scu=0.5;//Secondary copper loss in kW\n",
"\n",
"//CALCULATIONS\n",
"I2=(Q*1000)/V2;//Full load secondary current in A\n",
"I1=(Q*1000)/V1;//Full load primary current in A\n",
"R1=((Pcu)/I1^2)*1000;//Primary resistance in ohm\n",
"R2=(Scu*1000)/I2^2;//Secondary resistance in ohm\n",
"Xo1=(0.04*V1)/I1;// Equivalent primary reactance in ohm\n",
"K=(I1/I2);//Current ratio\n",
"X1=(Xo1/((R1+(R2/K))/(R2/K)));//Primary reactance in ohm\n",
"X2i=(Xo1/X1);//Equivalent secondary reactance in ohm\n",
"X2=(X2i*K);//Secondary reactance in ohm\n",
"\n",
"//OUTPUT\n",
"mprintf('a)Primary resistance is %3.2f ohm and Secondary resistance in is  %3.3f ohm\nb)Primary reactance is %3.2f ohm and Secondary reactance is %3.3f ohm',R1,R2,X1,X2)\n",
"\n",
"//=================================END OF PROGRAM=============================="
   ]
   }
,
{
		   "cell_type": "markdown",
		   "metadata": {},
		   "source": [
			"## Example 2.1: Number_of_turns_and_full_load_current.sce"
		   ]
		  },
  {
"cell_type": "code",
	   "execution_count": null,
	   "metadata": {
	    "collapsed": true
	   },
	   "outputs": [],
"source": [
"//Chapter-2, Example 2.1, Page 2.4\n",
"//=============================================================================\n",
"clc\n",
"clear\n",
"\n",
"//INPUT DATA\n",
"V1=1000;//Voltage in primary circuit in V\n",
"V2=100;//Voltage in secondary ciricut in V\n",
"N2=60;//Number of turns in secondary \n",
"R=10000;//Rating of transformer in VA\n",
"\n",
"//CALCULATIONS\n",
"K=(V2/V1);//Voltage transformation ratio\n",
"N1=(N2/K);//Number of turns in primary\n",
"I1=(R/V1);//Current in the primary in A\n",
"I2=(R/V2);//Current in the secondary in A\n",
"\n",
"//OUTPUT\n",
"mprintf('a)Number of turns in the primary is %3.0f turns \nb)Current in the primary is %3.0f A and Current in the secondary is %3.0f A',N1,I1,I2)\n",
"\n",
"//=================================END OF PROGRAM=============================="
   ]
   }
,
{
		   "cell_type": "markdown",
		   "metadata": {},
		   "source": [
			"## Example 2.20: Primary_voltage_and_power_factor_and_efficiency.sce"
		   ]
		  },
  {
"cell_type": "code",
	   "execution_count": null,
	   "metadata": {
	    "collapsed": true
	   },
	   "outputs": [],
"source": [
"//Chapter-2, Example 2.20, Page 2.37\n",
"//=============================================================================\n",
"clc\n",
"clear\n",
"\n",
"//INPUT DATA\n",
"K=(1/20);//Turn ratio\n",
"R1=30;//Primary resistance in ohm\n",
"R2=0.08;//Secondary resistance in ohm\n",
"X1=80;//Primary reactance in ohm\n",
"X2=0.3;//Secondary reactance in ohm\n",
"I=1.5;//No load current in A\n",
"cosqo=0.5;//Power factor\n",
"I2=200;//Load current in A\n",
"V2=500;//Secondary terminal voltage in V\n",
"cosq2=0.8;//Load power factor\n",
"q3=60;//Phase angle in degree\n",
"\n",
"//CALCULATIONS\n",
"q2=(acosd(cosq2));//Phase angle in degree\n",
"I2i=complex((I2*cosd(q2)),(I2*sind(-q2)));//Load current in complex form\n",
"V2i=complex(V2,0);//Secondary terminal voltage in complex form\n",
"Z2=complex(R2,X2);//Impedence in complex form\n",
"E2=(V2i+(I2i*Z2));//Terminal voltage in V\n",
"E1=(sqrt((real(E2))^2+(imag(E2))^2)/K);//Primary voltage in V\n",
"I2c=(K*I2);//Secondary current in A\n",
"I21c=complex((I2c*cosd(q2)),(I2c*sind(-q2)));//Load current in complex form\n",
"Io=complex((I*cosd(-q3)),(I*sind(-q3)));//No load current in A\n",
"I1c=(Io+I21c);//Total current\n",
"Z1=complex(R1,X1);//Primary impedence\n",
"V1=(E1+(I1c*Z1));//Primary applied voltage \n",
"V1i=(sqrt((real(V1))^2+(imag(V1))^2));//Primary applied voltage in V\n",
"A=((atand(imag(V1)/real(V1)))-((atand(imag(I1c)/real(I1c)))));//Angle between V1 and I1 in degree\n",
"p=cosd(A);//Power factor\n",
"Cu=(I2^2*(R2+(K^2*R1)));//Copper losses in W\n",
"C=(V1i*sqrt((real(Io))^2+(imag(Io))^2)*cosqo);//Constant losses in W\n",
"P=(V2*I2*cosq2);//Output power in W\n",
"n=(P/(P+Cu+C))*100;//Efficiency\n",
"\n",
"//OUTPUT\n",
"mprintf('Primary applied voltage is %3.2f V\nPrimary power factor is %3.2f \nEfficiency is %3.2f percent',V1i,p,n);\n",
"\n",
"//=================================END OF PROGRAM=============================="
   ]
   }
,
{
		   "cell_type": "markdown",
		   "metadata": {},
		   "source": [
			"## Example 2.21: Primary_induced_emf_and_current.sce"
		   ]
		  },
  {
"cell_type": "code",
	   "execution_count": null,
	   "metadata": {
	    "collapsed": true
	   },
	   "outputs": [],
"source": [
"//Chapter-2, Example 2.21, Page 2.39\n",
"//=============================================================================\n",
"clc\n",
"clear\n",
"\n",
"//INPUT DATA\n",
"V1=1000;//Primary voltage in V\n",
"V2=300;//Secondary voltage in V\n",
"R1=0.2;//Primary resistance in ohm\n",
"X1=0.75;//Primary reactance in ohm\n",
"I1=50;//Primary current in A\n",
"cosq1=0.8;//Power factor\n",
"\n",
"//CALCULATIONS\n",
"E1=(V1-(I1*sqrt(R1^2+X1^2)));//Primary induced emf in V\n",
"\n",
"//OUTPUT\n",
"mprintf('Primary induced emf is %3.1f V',E1)\n",
"\n",
"//=================================END OF PROGRAM=============================="
   ]
   }
,
{
		   "cell_type": "markdown",
		   "metadata": {},
		   "source": [
			"## Example 2.22: Induced_emf_in_the_secondary.sce"
		   ]
		  },
  {
"cell_type": "code",
	   "execution_count": null,
	   "metadata": {
	    "collapsed": true
	   },
	   "outputs": [],
"source": [
"//Chapter-2, Example 2.22, Page 2.40\n",
"//=============================================================================\n",
"clc\n",
"clear\n",
"\n",
"//INPUT DATA\n",
"L2=7500;//Load on secondary in W\n",
"V2=220;//Secondary voltage in V\n",
"cosq=0.8;//Power factor\n",
"R2=0.05;//Secondary resistance in ohm\n",
"X2=0.75;//Secondary reactance in ohm\n",
"V2i=200;//Secondary voltage in V\n",
"\n",
"//CALCULATIONS\n",
"I2=(L2/(V2*cosq));//Secondary current in A\n",
"q=acosd(cosq);//Phase angle in degree\n",
"I2c=complex((I2*cosd(q)),(I2*sind(-q)));//I2 in complex form\n",
"Z2=complex(R2,X2);\n",
"E2=(V2i+(I2c*Z2));//Induced imf in V\n",
"a1=real(E2);\n",
"a2=imag(E2);\n",
"\n",
"//OUTPUT\n",
"mprintf('Induced emf in the secondary is %3.2f+j%3.2f',a1,a2)\n",
"\n",
"//=================================END OF PROGRAM=============================="
   ]
   }
,
{
		   "cell_type": "markdown",
		   "metadata": {},
		   "source": [
			"## Example 2.23: Primary_currrent.sce"
		   ]
		  },
  {
"cell_type": "code",
	   "execution_count": null,
	   "metadata": {
	    "collapsed": true
	   },
	   "outputs": [],
"source": [
"//Chapter-2, Example 2.23, Page 2.40\n",
"//=============================================================================\n",
"clc\n",
"clear\n",
"\n",
"//INPUT DATA\n",
"K=(1000/200);//Voltage transformation ratio\n",
"R1=2;//Primary resistance in ohm\n",
"R2=200;//Secondary resistance in ohm\n",
"Vo=360;//Volts in V\n",
"\n",
"//CALCULATIONS\n",
"Z2i=(R2/K^2);//Equivalent secondary impedence in ohm\n",
"Zo1=(Z2i+R1);//Equivalent primary impedence in ohm\n",
"I1=(Vo/Zo1);//Primary current in A\n",
"\n",
"//OUTPUT\n",
"mprintf('Primary current is %3.0f A',I1)\n",
"\n",
"//=================================END OF PROGRAM=============================="
   ]
   }
,
{
		   "cell_type": "markdown",
		   "metadata": {},
		   "source": [
			"## Example 2.24: Secondary_voltage_and_primary_current.sce"
		   ]
		  },
  {
"cell_type": "code",
	   "execution_count": null,
	   "metadata": {
	    "collapsed": true
	   },
	   "outputs": [],
"source": [
"//Chapter-2, Example 2.24, Page 2.41\n",
"//=============================================================================\n",
"clc\n",
"clear\n",
"\n",
"//INPUT DATA\n",
"K=(500/10);//Turn ratio in step up transformer \n",
"Z1=complex(0,6);//Primary reactance in ohm\n",
"Z2=complex(20000,-10000);//Secondary impedence in ohm\n",
"V1=100;//Primary voltage in V\n",
"\n",
"//CALCULATIONS\n",
"Z2i=(Z2/K^2);//Equivalent secondary impedence in ohm\n",
"Zo1=(Z1+Z2i);//Equivalent primary impedence in ohm\n",
"I1=(V1/Zo1);//Primary current in A\n",
"V2i=(I1*Z2i);//Equivalent secondary voltage in V\n",
"V2=(K*V2i);//Secondary voltage in V\n",
"X=sqrt((real(V2))^2+(imag(V2))^2);//X value for secondary voltage\n",
"Y=-(45+atand(imag(V2)/real(V2)));//Phase angle in degree\n",
"\n",
"//OUTPUT\n",
"mprintf('Secondary volatge is %3.0f V,%3.1f degree',X,Y)\n",
"\n",
"//=================================END OF PROGRAM=============================="
   ]
   }
,
{
		   "cell_type": "markdown",
		   "metadata": {},
		   "source": [
			"## Example 2.25: Efficiency_and_regulation.sce"
		   ]
		  },
  {
"cell_type": "code",
	   "execution_count": null,
	   "metadata": {
	    "collapsed": true
	   },
	   "outputs": [],
"source": [
"//Chapter-2, Example 2.25, Page 2.44\n",
"//=============================================================================\n",
"clc\n",
"clear\n",
"\n",
"//INPUT DATA\n",
"V1=2200;//Primary volatge in V\n",
"V2=220;//Secondary voltage in V\n",
"K=(V2/V1);//Voltage transformation ratio\n",
"R1=0.3;//Primary resistance in ohm\n",
"R2i=0.24;//Equivalent secondary resistance in ohm\n",
"Ro=300;//No load resistance in ohm\n",
"RL=0.4;//Load resistance in ohm\n",
"X1=0.8;//Primary reactance in ohm\n",
"X2i=0.9;//Equivalent secondary reactance in ohm\n",
"Xo=1100;//No load reactance in ohm\n",
"XL=0.3;//Load reactance in ohm\n",
"\n",
"//CALCULATIONS\n",
"ZLi=(complex(RL,R1)/K^2);//Equivalent load impedence in ohm\n",
"Z1=complex(R1,X1);//Primary impedence \n",
"Z2i=complex(R2i,X2i);//Equivalent secondary impedence\n",
"Zo=complex(Ro,Xo);//No load impedence \n",
"Zeq=((Zo*(Z1+Z2i+ZLi))/(Zo+Z1+Z2i+ZLi));//Equivalent impedence\n",
"I1=(V1/Zeq);//Primary current in A\n",
"I2i=((I1*Zo)/(Zo+Z1+Z2i+ZLi));//Equivalent secondary current in A\n",
"Io=((I1*((Z1+Z2i+ZLi)/(Zo+Z1+Z2i+ZLi))));//No load current in A\n",
"Pi=(V1*sqrt((real(I1))^2+(imag(I1))^2)*cosd(atand(imag(I1)/real(I1))))/1000;//Input power in kW\n",
"Pcu1=(((real(I1))^2+(imag(I1))^2)*R1);//Primary copper losses in W\n",
"Pcu2=(((real(I1))^2+(imag(I1))^2)*R2i);//Primary copper losses in W\n",
"C=(((real(Io))^2+(imag(Io))^2)*Ro);//Constant losses in W\n",
"n=(((Pi*1000)-Pcu2-C)/(Pi*1000))*100;//Efficiency\n",
"R=((V1-(sqrt((real(I2i))^2+(imag(I2i))^2)*sqrt((real(ZLi))^2+(imag(ZLi))^2)))/((sqrt((real(I2i))^2+(imag(I2i))^2)*sqrt((real(ZLi))^2+(imag(ZLi))^2))))*100;//Percentage Regulation\n",
"\n",
"//OUTPUT\n",
"mprintf('Efficiency is %3.1f percent \nRegulation is %3.2f percent',n,R)\n",
"\n",
"//=================================END OF PROGRAM=============================="
   ]
   }
,
{
		   "cell_type": "markdown",
		   "metadata": {},
		   "source": [
			"## Example 2.26: Secondary_terminal_voltage_at_full_load.sce"
		   ]
		  },
  {
"cell_type": "code",
	   "execution_count": null,
	   "metadata": {
	    "collapsed": true
	   },
	   "outputs": [],
"source": [
"//Chapter-2, Example 2.26, Page 2.49\n",
"//=============================================================================\n",
"clc\n",
"clear\n",
"\n",
"//INPUT DATA\n",
"R1=6;//Primary resistance in ohm\n",
"R2=0.3;//Secondary resistance in ohm\n",
"X1=10;//Primary reactance in ohm\n",
"X2=0.5;//Secondary reactance in ohm\n",
"E1=2220;//primary induced emf in V\n",
"E2=220;//Secondary induced resistance in V\n",
"V1=2220;//Primary voltage drop in V\n",
"R=8;//Rate of transformer in KVA\n",
"K=E2/E1;//Transformer voltage ratio\n",
"cosQ=0.8;//Power factor\n",
"sinQ=0.6;//sine of Q\n",
"\n",
"//CALCULATIONS\n",
"R02=R2+(K^2*R1);//Resistance refered to the secondary in ohms\n",
"X02=X2+(K^2*X1);//Reactance refered to the secondary in ohms\n",
"I2=((R*1000)/E2);//Secondary full load current in A\n",
"V02=(I2*R02*cosQ)+(I2*X02*sinQ);//Secondary voltage drop in V\n",
"V2=E2-V02;//Secondary terminal voltage in V\n",
"\n",
"//OUTPUT\n",
"mprintf('Secondary terminal voltage at full load is %3.1f V',V2)\n",
"\n",
"//=================================END OF PROGRAM=============================="
   ]
   }
,
{
		   "cell_type": "markdown",
		   "metadata": {},
		   "source": [
			"## Example 2.27: Voltage_regulatio.sce"
		   ]
		  },
  {
"cell_type": "code",
	   "execution_count": null,
	   "metadata": {
	    "collapsed": true
	   },
	   "outputs": [],
"source": [
"//Chapter-2, Example 2.27, Page 2.49\n",
"//=============================================================================\n",
"clc\n",
"clear\n",
"\n",
"//INPUT DATA\n",
"Tr=36;//Transformer rating in terms of KVA\n",
"E1=5000;//Primary induced emf in V\n",
"E2=500;//Secondary induced emf in V\n",
"R01=22;//Winding resistance referred to the primary in ohm\n",
"X01=36;//Winding reactance referred to primary in ohm\n",
"cosQ1=0.8;//Primary power factor\n",
"cosQ2=0.8;//Secondary power factor\n",
"sinQ1=0.6;//sine of Q1\n",
"\n",
"//CALCULATIONS\n",
"I1=((X01*1000)/E1);//Full load primary current in A\n",
"Vd=(I1*R01*cosQ1)+(I1*X01*sinQ1);//Secondary voltage drop in V\n",
"V=(Vd/E1)*100;//Percentage voltage regulation in %\n",
"\n",
"//OUTPUT\n",
"mprintf('Percentage voltage regulation is %3.1f percent',V)\n",
"\n",
"//=================================END OF PROGRAM=============================="
   ]
   }
,
{
		   "cell_type": "markdown",
		   "metadata": {},
		   "source": [
			"## Example 2.28: Voltage_regulatio.sce"
		   ]
		  },
  {
"cell_type": "code",
	   "execution_count": null,
	   "metadata": {
	    "collapsed": true
	   },
	   "outputs": [],
"source": [
"//Chapter-2, Example 2.28, Page 2.51\n",
"//=============================================================================\n",
"clc\n",
"clear\n",
"\n",
"//INPUT DATA\n",
"Rp=1;//Percentage resistance drop in percentage\n",
"Xp=4;//Percentage reactance drop in percentage\n",
"cosQ1=0.8;//Lagging power factor\n",
"sinQ1=0.6;//Sine of Q1\n",
"cosQ2=1;//Power factor\n",
"sinQ2=0;//Sine of Q2\n",
"cosQ3=0.8;//Leading power factor\n",
"sinQ3=0.6;//Sine of Q3\n",
"\n",
"//CALCULATIONS\n",
"Vla=(Rp*cosQ1)+(Xp*sinQ1);//Percentage secondary voltage drop for lagging power factor in percentage\n",
"V=(Rp*cosQ2)+(Xp*sinQ2);//Percentage secondary voltage drop for unity power factor in percentage\n",
"Vle=(Rp*cosQ3)-(Xp*sinQ3);//Percentage secondary voltage drop for leading power factor in percentage\n",
"\n",
"//OUTPUT\n",
"mprintf('Secondary voltage drop for lagging power factor is %3.1f percent\nSecondary voltage drop for unity power factor is %3.1f percent\nsecondary voltage drop for leading power factor is %3.1f percent',Vla,V,Vle )\n",
"\n",
"//=================================END OF PROGRAM=============================="
   ]
   }
,
{
		   "cell_type": "markdown",
		   "metadata": {},
		   "source": [
			"## Example 2.29: Power_factor_and_regulation.sce"
		   ]
		  },
  {
"cell_type": "code",
	   "execution_count": null,
	   "metadata": {
	    "collapsed": true
	   },
	   "outputs": [],
"source": [
"//Chapter-2, Example 2.29, Page 2.52\n",
"//=============================================================================\n",
"clc\n",
"clear\n",
"\n",
"//INPUT DATA\n",
"Resistance=3;//% Resistance drop\n",
"Reactance=6;//% Reactance drop\n",
"\n",
"//CALCULATIONS\n",
"q=atand(Reactance/Resistance);//Phase angle in degree\n",
"cosq=cosd(q);//Power factor\n",
"Regulation=((Resistance*cosq)+(Reactance*sind(q)));//% Regulation at the power factor\n",
"\n",
"//OUTPUT\n",
"mprintf('Power factor is %3.2f \nPercentage regulation at this power factor is %3.1f percent',cosq,Regulation)\n",
"\n",
"//=================================END OF PROGRAM=============================="
   ]
   }
,
{
		   "cell_type": "markdown",
		   "metadata": {},
		   "source": [
			"## Example 2.2: Properties_of_an_ideal_transformer.sce"
		   ]
		  },
  {
"cell_type": "code",
	   "execution_count": null,
	   "metadata": {
	    "collapsed": true
	   },
	   "outputs": [],
"source": [
"//Chapter-2, Example 2.2, Page 2.5\n",
"//=============================================================================\n",
"clc\n",
"clear\n",
"\n",
"//INPUT DATA\n",
"N1=400;//Number of turns in the primary\n",
"N2=30;//Number of turns in the secondary\n",
"Q=20000;//Rating of the transformer in VA\n",
"V1=2000;//Primary voltage in V\n",
"f=50;//Power supply frequency in Hz\n",
"\n",
"//CALCULATIONS\n",
"K=(N2/N1);//Voltage transformation ratio\n",
"I1=(Q/V1);//Current in the primary in A\n",
"I2=(I1/K);//Current in the secondary in A\n",
"V2=(K*V1);//Secondary voltage in V\n",
"q=(V1/(4.44*f*N1));//Maximum flux in the core in Wb\n",
"\n",
"//OUTPUT\n",
"mprintf('(a)Full load primary current is %3.0f A and secondary current is %3.2f A \n(b)Induced emf in the secondary is %3.0f V \n(c)Maximum flux in the core is %3.3f Wb',I1,I2,V2,q)\n",
"\n",
"//=================================END OF PROGRAM=============================="
   ]
   }
,
{
		   "cell_type": "markdown",
		   "metadata": {},
		   "source": [
			"## Example 2.30: Parameters_of_a_transformer.sce"
		   ]
		  },
  {
"cell_type": "code",
	   "execution_count": null,
	   "metadata": {
	    "collapsed": true
	   },
	   "outputs": [],
"source": [
"//Chapter-2, Example 2.30, Page 2.57\n",
"//=============================================================================\n",
"clc\n",
"clear\n",
"\n",
"//INPUT DATA\n",
"V1=250;//Primary voltage in V\n",
"V2=100;//Secondary voltage in V\n",
"I1=0.4;//Primary current in A\n",
"Wo=36;//No load power input in W\n",
"\n",
"//CALCULATIONS\n",
"K=(V2/V1);//Voltage transformation ratio \n",
"q=acosd(Wo/(V1*I1));//Phase angle in degree\n",
"Im=(I1*sind(q));//Magnetising current in A\n",
"Iw=(I1*cosd(q));//Working current in A\n",
"I=(I1*V1*cosd(q));//Iron loss in W\n",
"\n",
"//OUTPUT\n",
"mprintf('(a)Turns ratio is %3.1f \n(b)Magnetising current is %3.3f A \n(c)Working current is %3.3f A \n(d)Iron loss is %3.0f W',K,Im,Iw,I)\n",
"\n",
"//=================================END OF PROGRAM=============================="
   ]
   }
,
{
		   "cell_type": "markdown",
		   "metadata": {},
		   "source": [
			"## Example 2.31: Primary_voltage_and_power_factor.sce"
		   ]
		  },
  {
"cell_type": "code",
	   "execution_count": null,
	   "metadata": {
	    "collapsed": true
	   },
	   "outputs": [],
"source": [
"//Chapter-2, Example 2.31, Page 2.58\n",
"//=============================================================================\n",
"clc\n",
"clear\n",
"\n",
"//INPUT DATA\n",
"I2=400;//Full load secondary current in A\n",
"I1=(I2*0.2);//Full load secondary current in A\n",
"K=(I1/I2);//Turns ratio\n",
"Z1=complex(0.5,1.5);//Transformer parameter\n",
"Z2=complex(0.02,0.05);//Transformer parameter\n",
"\n",
"//CALCULATIONS\n",
"Zo1=Z1+(Z2/K^2);//Transformer parameter\n",
"Vsc=(I1*Zo1);//Primary voltage under short circuit test in V\n",
"[A B]=polar(Vsc);//Primary voltage under short circuit test in V in polar form\n",
"B=atand(imag(Zo1)/real(Zo1));//Phase angle in degree\n",
"\n",
"//OUTPUT\n",
"mprintf('Primary voltage under short circuit test is %3.1f and %3.2f degree V (polar form)',A,B)\n",
"\n",
"//=================================END OF PROGRAM=============================="
   ]
   }
,
{
		   "cell_type": "markdown",
		   "metadata": {},
		   "source": [
			"## Example 2.32: Equivalent_resistance_and_leakage_reactance.sce"
		   ]
		  },
  {
"cell_type": "code",
	   "execution_count": null,
	   "metadata": {
	    "collapsed": true
	   },
	   "outputs": [],
"source": [
"//Chapter-2, Example 2.32, Page 2.58\n",
"//=============================================================================\n",
"clc\n",
"clear\n",
"\n",
"//INPUT DATA\n",
"Q=250*1000;//Rating of a transformer in VA\n",
"V1=11000;//Rated primary voltage in V\n",
"V2=2200;//Rated secondary voltage in V\n",
"N1=1000;//Number of turns in the primary\n",
"N2=200;//Number of turns in the secondary\n",
"R1=1.5;//Primary resistance in ohm\n",
"R2=0.05;//Secondary resistance in ohm\n",
"Vsc=600;//Primary voltage when secondary is short circuited in V\n",
"n=0.99;//Efficiency of the transformer\n",
"\n",
"//CALCULATIONS\n",
"K=(N2/N1);//Turn ratio\n",
"I1=(Q/(V1*n));//Full load primary current in A\n",
"Zo1=(Vsc/I1);//Equivalent reactance in ohm\n",
"R2i=(R2/K^2);//Equivalent secondary resistance in ohm\n",
"Ro1=(R1+R2i);//Equivalent primary resistance in ohm\n",
"Xo1=sqrt(Zo1^2-Ro1^2);//Equivalent ractance in ohm\n",
"\n",
"//OUTPUT\n",
"mprintf('Equivalent resistance referred to primary is %3.2f ohm \nEquivalent reactance referred to primary is %3.2f ohm',Ro1,Xo1)\n",
"\n",
"//=================================END OF PROGRAM=============================="
   ]
   }
,
{
		   "cell_type": "markdown",
		   "metadata": {},
		   "source": [
			"## Example 2.33: Efficiency_of_transformer.sce"
		   ]
		  },
  {
"cell_type": "code",
	   "execution_count": null,
	   "metadata": {
	    "collapsed": true
	   },
	   "outputs": [],
"source": [
"//Chapter-2, Example 2.33, Page 2.64\n",
"//=============================================================================\n",
"clc\n",
"clear\n",
"\n",
"//INPUT DATA\n",
"L=400;//Constant or Iron losses in W\n",
"C=700;//Full load copper loss in W\n",
"Q=40000;//Rating of transformer in VA\n",
"cosq=0.85;//Load power factor\n",
"\n",
"//CALCULATIONS\n",
"P=(Q*cosq);//Full load output in W\n",
"LC=(L+C);//Total full load losses in W\n",
"IP=(P+LC);//Full load input in W\n",
"n=(P/IP)*100;//Full load efficiency\n",
"P2=(0.5*Q*cosq);//Half load output in W\n",
"LC2=(L+(0.5^2*C));//Total losses at half loads in W\n",
"IP2=(P2+LC2);//Half load input in W\n",
"n2=(P2/IP2)*100;//Half load efficiency\n",
"\n",
"//OUTPUT\n",
"mprintf('Efficiency of the transformer at full load is %3.2f percent \nEfficiency of the transformer at half load is %3.2f percent',n,n2)\n",
"\n",
"//=================================END OF PROGRAM=============================="
   ]
   }
,
{
		   "cell_type": "markdown",
		   "metadata": {},
		   "source": [
			"## Example 2.34: Parameters_of_a_transformer.sce"
		   ]
		  },
  {
"cell_type": "code",
	   "execution_count": null,
	   "metadata": {
	    "collapsed": true
	   },
	   "outputs": [],
"source": [
"//Chapter-2, Example 2.34, Page 2.65\n",
"//=============================================================================\n",
"clc\n",
"clear\n",
"\n",
"//INPUT DATA\n",
"Q=50000;//Rating of the transformer in VA\n",
"Pi=500;//Constat losses in W\n",
"Pcu=900;//Full load variable losses in W\n",
"cosq=0.8;//Power factor\n",
"\n",
"//CALCULATIONS\n",
"nFL=((Q*cosq)/((Q*cosq)+Pi+Pcu))*100;//Full load efficiency\n",
"L=(Q*sqrt(Pi/Pcu))/1000;//Load at which transformer operates at maximum efficiency in KVA\n",
"n=((L*1000)/((L*1000)+Pi+Pi))*100;//Maximum efficiency\n",
"\n",
"//OUTPUT\n",
"mprintf('a)Full load efficiency is %3.2f percent \nb)Load at which transformer operates at maximum efficiency is %3.2f KVA \nc)Maximum efficiency is %3.2f percent',nFL,L,n)\n",
"\n",
"//=================================END OF PROGRAM=============================="
   ]
   }
,
{
		   "cell_type": "markdown",
		   "metadata": {},
		   "source": [
			"## Example 2.35: Efficiency_at_full_load.sce"
		   ]
		  },
  {
"cell_type": "code",
	   "execution_count": null,
	   "metadata": {
	    "collapsed": true
	   },
	   "outputs": [],
"source": [
"//Chapter-2, Example 2.35, Page 2.66\n",
"//=============================================================================\n",
"clc\n",
"clear\n",
"\n",
"//INPUT DATA\n",
"V1=5000;//Primary voltage in V\n",
"V2=200;//Secondary voltage in V\n",
"Q=60000;//Rating of transformer in VA\n",
"R1=8;//Primary resistance in ohm\n",
"R2=0.009;//Secondary resistance in ohm\n",
"Io=0.4;//No load primary current in A\n",
"cosq=0.29;//Power factor\n",
"\n",
"//CALCULATIONS\n",
"K=(V2/V1);//Turn ratio\n",
"Cu=((Q/V1)^2*(R1+(R2/K^2)));//Full load copper losses in W\n",
"C=(V1*Io*cosq);//Constant losses in W\n",
"I1=(Q/V1);//Primary current in A\n",
"nFL=((V1*I1*0.8)/((V1*I1*0.8)+(Cu+C)))*100;//Full load efficiency of the transformer\n",
"\n",
"//CALCULATIONS\n",
"mprintf('Full load efficiency of the transformer is %3.2f percent',nFL)\n",
"\n",
"//=================================END OF PROGRAM=============================="
   ]
   }
,
{
		   "cell_type": "markdown",
		   "metadata": {},
		   "source": [
			"## Example 2.36: Secondary_current_and_maximum_efficiency.sce"
		   ]
		  },
  {
"cell_type": "code",
	   "execution_count": null,
	   "metadata": {
	    "collapsed": true
	   },
	   "outputs": [],
"source": [
"//Chapter-2, Example 2.36, Page 2.67\n",
"//=============================================================================\n",
"clc\n",
"clear\n",
"\n",
"//INPUT DATA\n",
"V1=500;//Primary voltage in V\n",
"V2=100;//Secondary voltage in V\n",
"K=(V2/V1);//Turn ratio\n",
"R1=0.04;//Primary resistance in ohm\n",
"R2=0.03;//Secondary resistance in ohm\n",
"Pi=200;//Iron or constant lossses in W\n",
"\n",
"//CALCULATIONS\n",
"I2=sqrt(Pi/(R2+(R1*K^2)));//Secondary current in A\n",
"nmax1=((V2*I2)/((V2*I2)+Pi+Pi))*100;//Maximum efficiency at unit power factor\n",
"nmax8=((V2*I2*0.8)/((V2*I2*0.8)+Pi+Pi))*100;//Maximum efficiency at 0.8 power factor\n",
"\n",
"//OUTPUT\n",
"mprintf('Maximum efficiency at unit power factor is %3.2f percent \nMaximum efficiency at 0.8 power factor is %3.2f percent',nmax1,nmax8)\n",
"\n",
"//=================================END OF PROGRAM=============================="
   ]
   }
,
{
		   "cell_type": "markdown",
		   "metadata": {},
		   "source": [
			"## Example 2.37: Constant_losses_and_full_load_copper_losses.sce"
		   ]
		  },
  {
"cell_type": "code",
	   "execution_count": null,
	   "metadata": {
	    "collapsed": true
	   },
	   "outputs": [],
"source": [
"//Chapter-2, Example 2.37, Page 2.68\n",
"//=============================================================================\n",
"clc\n",
"clear\n",
"\n",
"//INPUT DATA\n",
"nFL=0.98;//Efficiency of transformer at full load 0.8 power factor\n",
"upf=0.99;//Efficiency of the transformer at half load\n",
"Q=500;//Transformer rating in KVA\n",
"cosq=0.8;//Power facotor\n",
"\n",
"//CALCULATIONS\n",
"L=((Q*1000*cosq)/nFL)-(Q*1000*cosq);//Full load losses in W\n",
"L2=((0.5*Q*1000*100)/99)-(0.5*Q*1000);//Half load losses in W\n",
"A=[0.25,0.25;\n",
"   1,0.25]\n",
"B=[(0.25*L);\n",
"    L2]\n",
"A=inv(A)*B;//Soving for Pi and Pc\n",
"\n",
"\n",
"//OUTPUT\n",
"mprintf('Constant losses are %3.2f W\nFull load copper losses are %3.2f W',A(1),A(2))\n",
"\n",
"//=================================END OF PROGRAM=============================="
   ]
   }
,
{
		   "cell_type": "markdown",
		   "metadata": {},
		   "source": [
			"## Example 2.38: All_day_efficiency.sce"
		   ]
		  },
  {
"cell_type": "code",
	   "execution_count": null,
	   "metadata": {
	    "collapsed": true
	   },
	   "outputs": [],
"source": [
"//Chapter-2, Example 2.38, Page 2.71\n",
"//=============================================================================\n",
"clc\n",
"clear\n",
"\n",
"//INPUT DATA\n",
"T=4;//Total loss in kW\n",
"Q=120;//Rating of transformer in KVA\n",
"DF=4;//Duration of operation at full load in h\n",
"DH=4;//Duration of operation at half load in h\n",
"DN=16;//Duration of operation at no load in h\n",
"\n",
"//CALCULATIONS\n",
"EF=(Q*1*T);//Energy delivered for 4 hours full load in kWh\n",
"EH=(0.5*Q*1*T);//Energy delivered for 4 hours half load in kWh\n",
"EN=0;//Energy delivered for 16 hours\n",
"E24=(EH+EF+EN);//Total energy deliverd for 24 hours in kWh\n",
"C=(1.5*24);//Constant losses for 24 hours in kWh\n",
"C4=(1.5*4);//full load copper losses for 4 hours in kWh\n",
"Ch4=(0.5^2*1.5*4);//Half load copper losses for 4 hours in kWh\n",
"CN=0;//No load copper loss for 16 hours\n",
"TE=(C+C4+Ch4+CN);//Total energy losses for 24 hours\n",
"n=(E24/(E24+TE))*100;//All day efficiency\n",
"\n",
"//OUTPUT\n",
"mprintf('All day efficiency is %3.1f percent',n)\n",
"\n",
"//=================================END OF PROGRAM=============================="
   ]
   }
,
{
		   "cell_type": "markdown",
		   "metadata": {},
		   "source": [
			"## Example 2.39: All_day_efficiency.sce"
		   ]
		  },
  {
"cell_type": "code",
	   "execution_count": null,
	   "metadata": {
	    "collapsed": true
	   },
	   "outputs": [],
"source": [
"//Chapter-2, Example 2.39, Page 2.72\n",
"//=============================================================================\n",
"clc\n",
"clear\n",
"\n",
"//INPUT DATA\n",
"Q=10;//Rating of transformer in KVA\n",
"n=0.96;//Full load efficiency\n",
"DN=12;//Duration of no load in h\n",
"DH=6;//Duration of half load in h\n",
"D4=4;//Duration of 1/4th load in h\n",
"DF=2;//Duration of full load in h\n",
"\n",
"//CALCULATIONS\n",
"O=(Q*1);//Full load output in kW\n",
"L=((O/n)-O)*1000;//Full load total losses in W\n",
"Fcu=(L/2);//Full load copper ;osses in W\n",
"Fc=Fcu;//Constant losses\n",
"LN=0;//No load energy delivered for 12 h\n",
"LF=(DF*O);//Full load energy delivered for 2 hours\n",
"L6=(DH*O*0.5);//Half load energy delivered for 6 hours\n",
"L4=(D4*O*0.25);//1/4th load energy delivered for 4 hours\n",
"TE=(LN+LF+L6+L4);//Total energy delivered for 24 hours in kWh\n",
"LLC=(Fc*24);//Constant losses for 24 h\n",
"LLF=(DF*Fc);//Full load copper losses delivered for 2 hours\n",
"LL6=(DH*Fc*0.5^2);//Half load copper losses delivered for 6 hours\n",
"LL4=(D4*Fc*0.25^2);//1/4th load copper losses delivered for 4 hours\n",
"LTE=(LLC+LLF+LL6+LL4)/1000;//Total copper losses delivered for 24 hours in kWh\n",
"nall=((TE/(TE+LTE))*100);//All day efficiency\n",
"\n",
"//OUTPUT\n",
"mprintf('All day efficiency is %3.1f percent',nall)\n",
"\n",
"//=================================END OF PROGRAM=============================="
   ]
   }
,
{
		   "cell_type": "markdown",
		   "metadata": {},
		   "source": [
			"## Example 2.3: Number_of_turns_and_induced_emf.sce"
		   ]
		  },
  {
"cell_type": "code",
	   "execution_count": null,
	   "metadata": {
	    "collapsed": true
	   },
	   "outputs": [],
"source": [
"//Chapter-2, Example 2.3, Page 2.6\n",
"//=============================================================================\n",
"clc\n",
"clear\n",
"\n",
"//INPUT DATA\n",
"A=(40*10^-4);//Area of cross section of the core A in m^2\n",
"B=8;//Maximum flux density in the core B in Wb/m^2\n",
"V1=2000;//Primary voltage in V\n",
"V2=200;//Secondary voltage in V\n",
"f=50;//Frequency in Hz\n",
"\n",
"//CALCULATIONS\n",
"N1=(V1/(4.44*B*A*f));//Number of turns in the primary\n",
"N2=(V2/(4.44*f*A*B));//Number of turns in the secondary\n",
"\n",
"//OUTPUT\n",
"mprintf('Number of turns in the primary is %3.0f \nNumber of turns in the secondary is%3.0f',N1,N2)\n",
" \n",
"//=================================END OF PROGRAM=============================="
   ]
   }
,
{
		   "cell_type": "markdown",
		   "metadata": {},
		   "source": [
			"## Example 2.40: Current_and_output_of_transformer.sce"
		   ]
		  },
  {
"cell_type": "code",
	   "execution_count": null,
	   "metadata": {
	    "collapsed": true
	   },
	   "outputs": [],
"source": [
"//Chapter-2, Example 2.40, Page 2.75\n",
"//=============================================================================\n",
"clc\n",
"clear\n",
"\n",
"//INPUT DATA\n",
"VLP=11000;//Primary line voltage in V\n",
"VLS=440;//Secondary line voltage in V\n",
"Vphp=11000;//Primary phase voltage in V\n",
"Vphs=(440/sqrt(3));//Secondary phase voltage in V\n",
"ILP=4;//Primary line current in A\n",
"q=0.8;//Power factor\n",
"\n",
"//CALCULATIONS\n",
"Iphp=(ILP/sqrt(3));//Primary phase current in A\n",
"K=(Vphs/VLP);//Turn ratio\n",
"I2ph=(Iphp/K);//Secondary phase current in A\n",
"P=(sqrt(3)*VLS*VLP*q)/10^5;//Output of the transformer in kW\n",
"\n",
"//OUTPUT\n",
"mprintf('Primary phase current is %3.2f A and Secondary phase current is %3.0f A \nOutput of the transformer is%3.0f kW',Iphp,I2ph,P)\n",
"\n",
"//=================================END OF PROGRAM=============================="
   ]
   }
,
{
		   "cell_type": "markdown",
		   "metadata": {},
		   "source": [
			"## Example 2.41: Parameters_of_an_ideal_transformer.sce"
		   ]
		  },
  {
"cell_type": "code",
	   "execution_count": null,
	   "metadata": {
	    "collapsed": true
	   },
	   "outputs": [],
"source": [
"//Chapter-2, Example 2.41, Page 2.77\n",
"//=============================================================================\n",
"clc\n",
"clear\n",
"\n",
"//INPUT DATA\n",
"VLP=2200;//Primary line voltage in V\n",
"Vphp=VLP;//Primary phase voltage in V\n",
"VLS=440;//Secondary line voltage in V\n",
"Vload=440;//Load line phase voltage in V\n",
"Z=complex(8,6);//Load impedence in complex form\n",
"\n",
"//CALCULATIONS\n",
"X=sqrt((real(Z))^2+(imag(Z))^2);//X value for load current\n",
"Y=atand(imag(Z)/real(Z));//Phase angle in degree\n",
"ILS=(VLS/X);//Load current in A\n",
"PS=(sqrt(3)*VLS*ILS*cosd(Y))/1000;//Power delivered by secondary in kW\n",
"K=((Vload/sqrt(3))/VLP);//Turn ratio\n",
"IPS=(sqrt(3)*ILS);//Secondary phase current in A\n",
"IPP=(K*IPS);//Primary phase current in A\n",
"\n",
"//OUTPUT\n",
"mprintf('a)Load delivered by the secondary is %3.1f kW \nb)Current in primary is %3.1f A and Current in secondary is %3.2f A',PS,IPP,IPS)\n",
"\n",
"//=================================END OF PROGRAM=============================="
   ]
   }
,
{
		   "cell_type": "markdown",
		   "metadata": {},
		   "source": [
			"## Example 2.4: Number_of_turns.sce"
		   ]
		  },
  {
"cell_type": "code",
	   "execution_count": null,
	   "metadata": {
	    "collapsed": true
	   },
	   "outputs": [],
"source": [
"//Chapter-2, Example 2.4, Page 2.7\n",
"//=============================================================================\n",
"clc\n",
"clear\n",
"\n",
"//INPUT DATA\n",
"V1=2500;//primary voltage in V\n",
"V2=200;//Secondary voltage in V\n",
"e=(30*0.9);//Effective side of magnetic core in cm\n",
"A=(30*30*0.9*0.9*10^-4);//Area of cross section of the limb in m^2\n",
"B=1;//Maximum flux density in Wb/m^2\n",
"q=(B*A);//Maximum flux in Wb\n",
"f=50;//Frequency of power supply in Hz\n",
"\n",
"//CALCULATIONS\n",
"N1=(V1/(4.44*f*q));//Number of turns in the primary\n",
"N2=(V2/(4.44*f*q));//Number of turns in the secondary\n",
"\n",
"//OUTPUT\n",
"mprintf('Number of turns in the primary are %3.0f turns and Number of turns in the secondary are %3.0f turns',N1,N2)\n",
"\n",
"//=================================END OF PROGRAM=============================="
   ]
   }
,
{
		   "cell_type": "markdown",
		   "metadata": {},
		   "source": [
			"## Example 2.5: Magnetising_and_iron_loss_components.sce"
		   ]
		  },
  {
"cell_type": "code",
	   "execution_count": null,
	   "metadata": {
	    "collapsed": true
	   },
	   "outputs": [],
"source": [
"//Chapter-2, Example 2.5, Page 2.10\n",
"//=============================================================================\n",
"clc\n",
"clear\n",
"\n",
"//INPUT DATA\n",
"Io=0.8;//No load primary current in A\n",
"Wo=75;//No load primary poewr in W\n",
"V1=220;//Primary voltage in V\n",
"f=50;//Supply frequency in Hz\n",
"\n",
"//CALCULATIONS\n",
"Iw=(Wo/V1);//Iron loss component in A\n",
"Im=sqrt(Io^2-Iw^2);//Magnetising component in A\n",
"\n",
"//OUTPUT\n",
"mprintf('Iron loss component is %3.2f A \nMagnetising component is %3.3f A',Iw,Im)\n",
"\n",
"//=================================END OF PROGRAM=============================="
   ]
   }
,
{
		   "cell_type": "markdown",
		   "metadata": {},
		   "source": [
			"## Example 2.6: Core_and_iron_loss_and_magnetising_current.sce"
		   ]
		  },
  {
"cell_type": "code",
	   "execution_count": null,
	   "metadata": {
	    "collapsed": true
	   },
	   "outputs": [],
"source": [
"//Chapter-2, Example 2.6, Page 2.11\n",
"//=============================================================================\n",
"clc\n",
"clear\n",
"\n",
"//INPUT DATA\n",
"Io=6;//No load primary current in A\n",
"cosq=0.3;//Power factor\n",
"V1=220;//Primary voltage in V\n",
"V2=2200;//Secondary voltage in V\n",
"\n",
"//CALCULATIONS\n",
"Wo=(V1*Io*cosq);//Core loss in W\n",
"Iw=(Io*cosq);//Iron loss current in A\n",
"Im=sqrt(Io^2-Iw^2);//Magnetsising current in A\n",
"\n",
"//OUTPUT\n",
"mprintf('(a)Core loss is %3.0f W\n(b)Iron loss current is %3.1f A\n(c)Magnetising current is %3.2f A',Wo,Iw,Im)\n",
"\n",
"//=================================END OF PROGRAM=============================="
   ]
   }
,
{
		   "cell_type": "markdown",
		   "metadata": {},
		   "source": [
			"## Example 2.7: Properties_of_a_transformer.sce"
		   ]
		  },
  {
"cell_type": "code",
	   "execution_count": null,
	   "metadata": {
	    "collapsed": true
	   },
	   "outputs": [],
"source": [
"//Chapter-2, Example 2.7, Page 2.12\n",
"//=============================================================================\n",
"clc\n",
"clear\n",
"\n",
"//INPUT DATA\n",
"V1=200;//Primary voltage in V\n",
"V2=2000;//Secondary voltage in V\n",
"Io=7;//Primay no load current in A\n",
"Wo=180;//Primary no load power in W\n",
"R1=0.05;//Primary winding resistance in ohm\n",
"\n",
"//CALCULATIONS\n",
"Fe=(Wo-(Io^2*R1));//Iron loss or core loss alone in W\n",
"cosq=(Wo/(V1*Io));//No load power factor\n",
"Iw=(Wo/V1);//Working component of current in A\n",
"Im=sqrt(Io^2-Iw^2);//Magnetising current in A\n",
"\n",
"//OUTPUT\n",
"mprintf('(a)The core loss is %3.2f W\n(b)No load power factor is %3.3f lagging\n(c)Working component of current is %3.1f A\n(d)Magnetising current is %3.2f A',Fe,cosq,Iw,Im)\n",
"\n",
"//=================================END OF PROGRAM=============================="
   ]
   }
,
{
		   "cell_type": "markdown",
		   "metadata": {},
		   "source": [
			"## Example 2.8: Primary_current.sce"
		   ]
		  },
  {
"cell_type": "code",
	   "execution_count": null,
	   "metadata": {
	    "collapsed": true
	   },
	   "outputs": [],
"source": [
"//Chapter-2, Example 2.8, Page 2.14\n",
"//=============================================================================\n",
"clc\n",
"clear\n",
"\n",
"//INPUT DATA\n",
"Io=6;//No load prmary current in A\n",
"cosqo=0.2;//Primary no load power factor \n",
"I2=125;//Secondary load current in A\n",
"cosq2=0.8;//Secondary load power factor \n",
"V1=400;//Primary terminal voltage in V\n",
"V2=100;//Secondary terminal voltage in V\n",
"\n",
"//CALCULATIONS\n",
"K=(V2/V1);//Voltage transformation ratio\n",
"I2i=(K*I2);//Secondary current in A\n",
"q=(acos(cosqo)-acos(cosq2));//Value of angle in degees\n",
"I1=sqrt((Io^2)+(I2i^2)+(2*Io*I2i*cos(q)));//Primary current in A\n",
"\n",
"//OUTPUT\n",
"mprintf('Primary current is %3.2f A',I1)\n",
"\n",
"//=================================END OF PROGRAM=============================="
   ]
   }
,
{
		   "cell_type": "markdown",
		   "metadata": {},
		   "source": [
			"## Example 2.9: No_load_current_and_phase_angle.sce"
		   ]
		  },
  {
"cell_type": "code",
	   "execution_count": null,
	   "metadata": {
	    "collapsed": true
	   },
	   "outputs": [],
"source": [
"//Chapter-2, Example 2.9, Page 2.16\n",
"//=============================================================================\n",
"clc\n",
"clear\n",
"\n",
"//INPUT DATA\n",
"N1=760;//Number of turns in the primary\n",
"N2=180;//Number of turns in the secondary\n",
"I2=70;//Secondary load current in A\n",
"cosq=0.8;//Secondary load power factor\n",
"I1=30;//Primary current in A\n",
"cosq1=0.71;//Primary current power factor\n",
"\n",
"//CALCULATIONS\n",
"K=(N2/N1);//Ratio of turns\n",
"I2i=(K*I2);//Secondary current in A\n",
"I1i=complex((I1*cosq1),(I1*sind(acosd(cosq1))));//Primary current in A\n",
"I2c=complex((I2i*cosq),(I2i*sind(acosd(cosq))));//Secondary current in A\n",
"A1=sqrt((real(I1i))^2+(imag(I1i))^2);\n",
"A2=(atand(imag(I1i)/real(I1i)));\n",
"B1=sqrt((real(I2c))^2+(imag(I2c))^2);\n",
"B2=(atand(imag(I2c)/real(I2c)));\n",
"C=(A1*cosd(A2))-(B1*cosd(B2));\n",
"D=(A1*sind(A2))-(B1*sind(B2));\n",
"q=atand(D/C);//Phase angle in degree\n",
"p=cosd(q);//Power factor\n",
"Io=(D/sind(q));//No load current in A\n",
"\n",
"//OUTPUT\n",
"mprintf('No load current of the transformer is %3.2f A and its phase angle is %3.2f degree',Io,q)\n",
"\n",
"//=================================END OF PROGRAM=============================="
   ]
   }
],
"metadata": {
		  "kernelspec": {
		   "display_name": "Scilab",
		   "language": "scilab",
		   "name": "scilab"
		  },
		  "language_info": {
		   "file_extension": ".sce",
		   "help_links": [
			{
			 "text": "MetaKernel Magics",
			 "url": "https://github.com/calysto/metakernel/blob/master/metakernel/magics/README.md"
			}
		   ],
		   "mimetype": "text/x-octave",
		   "name": "scilab",
		   "version": "0.7.1"
		  }
		 },
		 "nbformat": 4,
		 "nbformat_minor": 0
}
