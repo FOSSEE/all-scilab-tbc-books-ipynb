{
"cells": [
 {
		   "cell_type": "markdown",
	   "metadata": {},
	   "source": [
       "# Chapter 7: STABILITY ANALYSIS OF CONTROL SYSTEMS"
	   ]
	},
{
		   "cell_type": "markdown",
		   "metadata": {},
		   "source": [
			"## Example 1.0: root_locus.sce"
		   ]
		  },
  {
"cell_type": "code",
	   "execution_count": null,
	   "metadata": {
	    "collapsed": true
	   },
	   "outputs": [],
"source": [
"//caption:root_locus\n",
"//example 1\n",
"//page 291\n",
"s=%s;\n",
"g=s/(s+1);\n",
"G=syslin('c',g)\n",
"evans(g,200)"
   ]
   }
,
{
		   "cell_type": "markdown",
		   "metadata": {},
		   "source": [
			"## Example 2.0: root_locus.sce"
		   ]
		  },
  {
"cell_type": "code",
	   "execution_count": null,
	   "metadata": {
	    "collapsed": true
	   },
	   "outputs": [],
"source": [
"//caption:root_locus\n",
"//example 2\n",
"//page 291\n",
"s=%s;\n",
"g=1/(s*(s+4));\n",
"G=syslin('c',g)\n",
"evans(g,200)"
   ]
   }
,
{
		   "cell_type": "markdown",
		   "metadata": {},
		   "source": [
			"## Example 3.0: root_locus.sce"
		   ]
		  },
  {
"cell_type": "code",
	   "execution_count": null,
	   "metadata": {
	    "collapsed": true
	   },
	   "outputs": [],
"source": [
"//caption:root_locus\n",
"//example 3\n",
"//page 292\n",
"s=%s;\n",
"g=1/(s*(s+1)*(s+3));\n",
"G=syslin('c',g)\n",
"evans(g,200)"
   ]
   }
,
{
		   "cell_type": "markdown",
		   "metadata": {},
		   "source": [
			"## Example 7.17_18: gain_phase_plot.sce"
		   ]
		  },
  {
"cell_type": "code",
	   "execution_count": null,
	   "metadata": {
	    "collapsed": true
	   },
	   "outputs": [],
"source": [
"//caption:gain_phase_plot\n",
"//example 7.17.18\n",
"//page 256\n",
"k=1; \n",
"s=%s; \n",
"G=syslin('c',k/(s*(0.5*s+1)*(0.25*s+1))); \n",
"// freq range to plot \n",
"fmin=0.1; \n",
"fmax=7; \n",
"black(G, fmin, fmax) \n",
"xgrid \n",
"xtitle('Gain phase plot')\n",
"disp('for GM=8 db, K=2.23') \n",
"disp('for PM=20 deg. , K=2.69')"
   ]
   }
,
{
		   "cell_type": "markdown",
		   "metadata": {},
		   "source": [
			"## Example 7.17_1: stability_using_Nyquist_criterion.sce"
		   ]
		  },
  {
"cell_type": "code",
	   "execution_count": null,
	   "metadata": {
	    "collapsed": true
	   },
	   "outputs": [],
"source": [
"//caption:stability_using_Nyquist_criterion\n",
"//example 7.17.1\n",
"//page 236\n",
"clf;\n",
"s=%s;\n",
"s1=-s;\n",
"g=50/((s+1)*(s+2));\n",
"g1=50/((s1+1)*(s1+2));\n",
"GH=syslin('c',g)\n",
"GH1=syslin('c',g1)\n",
"nyquist(GH);\n",
"nyquist(GH1);\n",
"mtlb_axis([-5 30 -20 20]);\n",
"xtitle('Nyquist plot of 50/((s+1)*(s+2))')\n",
"figure;\n",
"show_margins(GH,'nyquist')\n",
"disp('since the point(-1+%i0) is not encircled by Nyquist plot ,so N=0 and P=0(given)')\n",
"N=0;//no. of encirclement of -1+%i0 by G(s)H(s) plot\n",
"P=0;//no. of poles of G(s)H(s) with positive real part\n",
"Z=P-N;//np.of zeros of 1+G(s)H(s)=0 with positive real part\n",
"disp(Z,'Z=')\n",
"disp('as Z=0,there are no roots of closed loop characterstics eq having positive real part, hence system is stable.')"
   ]
   }
,
{
		   "cell_type": "markdown",
		   "metadata": {},
		   "source": [
			"## Example 7.17_2_ii: stability_using_Nyquist_criterion.sce"
		   ]
		  },
  {
"cell_type": "code",
	   "execution_count": null,
	   "metadata": {
	    "collapsed": true
	   },
	   "outputs": [],
"source": [
"//caption:stability_using_Nyquist_criterion\n",
"//example 7.17.2_ii\n",
"//page 237\n",
"disp('for K=2.5')\n",
"g=(2.5*(s+1))/((s+0.5)*(s-2));\n",
"g1=(2.5*(s1+1))/((s1+0.5)*(s1-2));\n",
"GH=syslin('c',g);\n",
"GH1=syslin('c',g1);\n",
"nyquist(GH);\n",
"nyquist(GH1);\n",
"mtlb_axis([-3 0.5 -0.6 0.6]);\n",
"xtitle('Nyquist plot of (2.5*(s+1))/((s+0.5)*(s-2))')\n",
"figure;\n",
"show_margins(GH,'nyquist')\n",
"disp('since the point(-1+%i0) is  encircled anticlockwise by Nyquist plot ,so N=1 and P=1(given)')\n",
"N=1;//no. of encirclement of -1+%i0 by G(s)H(s) plot anticlockwise\n",
"P=1;//no. of poles of G(s)H(s) with positive real part\n",
"Z=P-N;//np.of zeros of 1+G(s)H(s)=0 with positive real part\n",
"disp(Z,'Z=')\n",
"disp('as Z=0,there are no roots of closed loop characterstics eq having positive real part, hence system is stable.')"
   ]
   }
,
{
		   "cell_type": "markdown",
		   "metadata": {},
		   "source": [
			"## Example 7.17_2_i: stability_using_Nyquist_criterion.sce"
		   ]
		  },
  {
"cell_type": "code",
	   "execution_count": null,
	   "metadata": {
	    "collapsed": true
	   },
	   "outputs": [],
"source": [
"//caption:stability_using_Nyquist_criterion\n",
"//example 7.17.2\n",
"//page 237\n",
"clf();\n",
"s=%s;\n",
"s1=-s;\n",
"disp('for K=1.25')\n",
"g=(1.25*(s+1))/((s+0.5)*(s-2));\n",
"g1=(1.25*(s1+1))/((s1+0.5)*(s1-2));\n",
"GH=syslin('c',g);\n",
"GH1=syslin('c',g1);\n",
"nyquist(GH);\n",
"nyquist(GH1);\n",
"mtlb_axis([-1.5 0.2 -0.3 0.3]);\n",
"xtitle('Nyquist plot of (10*(s-1))/((s+2)*(s+3));')\n",
"figure;\n",
"show_margins(GH,'nyquist')\n",
"disp('since the point(-1+%i0) is  encircled clockwise by Nyquist plot ,so N=-1 and P=1(given)')\n",
"N=-1;//no. of encirclement of -1+%i0 by G(s)H(s) plot anticlockwise\n",
"P=1;//no. of poles of G(s)H(s) with positive real part\n",
"Z=P-N;//np.of zeros of 1+G(s)H(s)=0 with positive real part\n",
"disp(Z,'Z=')\n",
"disp('as Z=2,there are two roots of closed loop characterstics eq having positive real part, hence system is unstable.')"
   ]
   }
,
{
		   "cell_type": "markdown",
		   "metadata": {},
		   "source": [
			"## Example 7.17_3: stability_using_Nyquist_criterion.sce"
		   ]
		  },
  {
"cell_type": "code",
	   "execution_count": null,
	   "metadata": {
	    "collapsed": true
	   },
	   "outputs": [],
"source": [
"//caption:stability_using_Nyquist_criterion\n",
"//example 7.17.3\n",
"//page 238\n",
"clf();\n",
"s=%s;\n",
"s1=-s;\n",
"g=(s+0.25)/(s^2*(s+0.5)*(s+1));\n",
"g1=(s1+0.25)/(s1^2*(s1+0.5)*(s1+1));\n",
"GH=syslin('c',g);\n",
"GH1=syslin('c',g1);\n",
"nyquist(GH);\n",
"nyquist(GH1);\n",
"mtlb_axis([-2000 500 -30 30]);\n",
"xtitle('Nyquist plot of (s+0.25)/(s^2*(s+0.5)*(s+1))')\n",
"figure;\n",
"show_margins(GH,'nyquist')\n",
"disp('since the point(-1+%i0) is  encircled clockwise by Nyquist plot ,so N=-1 and P=1(given)')\n",
"N=-1;//no. of encirclement of -1+%i0 by G(s)H(s) plot anticlockwise\n",
"P=1;//no. of poles of G(s)H(s) with positive real part\n",
"Z=P-N;//np.of zeros of 1+G(s)H(s)=0 with positive real part\n",
"disp(Z,'Z=')\n",
"disp('as Z=2,there are two roots of closed loop characterstics eq having positive real part, hence system is unstable.')"
   ]
   }
,
{
		   "cell_type": "markdown",
		   "metadata": {},
		   "source": [
			"## Example 7.17_5: Phase_Margi.sce"
		   ]
		  },
  {
"cell_type": "code",
	   "execution_count": null,
	   "metadata": {
	    "collapsed": true
	   },
	   "outputs": [],
"source": [
"//caption:phase_margin\n",
"//example 7.17.5\n",
"//page 241\n",
"clf();\n",
"s=%s;\n",
"s1=-s;\n",
"disp('for K=3')\n",
"g=(2.5*3)/(s*(0.4*s+1)*(0.2*s+1));\n",
"g1=(2.5*3)/(s1*(0.4*s1+1)*(0.2*s1+1));\n",
"GH=syslin('c',g);\n",
"GH1=syslin('c',g1);\n",
"nyquist(GH);\n",
"nyquist(GH1);\n",
"mtlb_axis([-5 1  -500 500]);\n",
"xtitle('Nyquist plot of (2.5*3)/(s*(0.4*s+1)*(0.2*s+1))')\n",
"pm=p_margin(GH)\n",
"disp(pm,'phase margin=')"
   ]
   }
,
{
		   "cell_type": "markdown",
		   "metadata": {},
		   "source": [
			"## Example 7.17_7: stability_using_Nyquist_criterion.sce"
		   ]
		  },
  {
"cell_type": "code",
	   "execution_count": null,
	   "metadata": {
	    "collapsed": true
	   },
	   "outputs": [],
"source": [
"//caption:stability_using_Nyquist_criterion\n",
"//example 7.17.7\n",
"//page 244\n",
"clf();\n",
"s=%s;\n",
"s1=-s;\n",
"g=(2.2/(s*(s+1)*(s^2+2*s+2)))\n",
"g1=(2.2/(s1*(s1+1)*(s1^2+2*s1+2)))\n",
"GH=syslin('c',g);\n",
"GH1=syslin('c',g1);\n",
"nyquist(GH);\n",
"nyquist(GH1);\n",
"mtlb_axis([-2.5 0.2 -75 75]);\n",
"disp('as the nyquist plot passes through the point -1+%i*0, so system is marginally stable and output represents sustained oscillations.')"
   ]
   }
,
{
		   "cell_type": "markdown",
		   "metadata": {},
		   "source": [
			"## Example 7.17_9: gain_margin_and_phase_margin.sce"
		   ]
		  },
  {
"cell_type": "code",
	   "execution_count": null,
	   "metadata": {
	    "collapsed": true
	   },
	   "outputs": [],
"source": [
"//caption: gain_margin_and_phase_margin\n",
"//example 7.17.9\n",
"//page 245\n",
"s=%s;\n",
"syms w;\n",
"s1=-s;\n",
"gh=(32/(s*(s+sqrt(6))^3));\n",
"g=sym((32/(s*(s+sqrt(6))^3)));\n",
"s=%i*w;\n",
"a=eval(g);\n",
"w=sqrt(2);\n",
"b=float(eval(abs(a)));\n",
"disp(b,'at w=sqrt(2),|G(jw)H(jw)|=');\n",
"GH=syslin('c',gh);\n",
"gm=g_margin(GH);\n",
"pm=p_margin(GH);\n",
"disp(gm,'Gain margin=');\n",
"disp(pm,'Phase margin=');\n",
"disp('since gm=0 and pm=0, so system is marginally stable')"
   ]
   }
,
{
		   "cell_type": "markdown",
		   "metadata": {},
		   "source": [
			"## Example 7.19_1: stability_using_bode_plot.sce"
		   ]
		  },
  {
"cell_type": "code",
	   "execution_count": null,
	   "metadata": {
	    "collapsed": true
	   },
	   "outputs": [],
"source": [
"//caption:stability_using_bode_plot\n",
"//example 7.19.1\n",
"//page 280\n",
"s=%s;\n",
"g=50/((s+1)*(s+2));\n",
"G=syslin('c',g)\n",
"fmin=0.01; \n",
"fmax=100; \n",
"bode(G, fmin, fmax) \n",
"show_margins(G)\n",
"gm=g_margin(G)\n",
"pm=p_margin(G)\n",
"disp(gm,'gain_margin=');\n",
"disp(pm,'phase_margin=');\n",
"disp('since gain and phase margin are both positive so system is stable')"
   ]
   }
,
{
		   "cell_type": "markdown",
		   "metadata": {},
		   "source": [
			"## Example 7.19_2: gain_margin_and_phase_margin.sce"
		   ]
		  },
  {
"cell_type": "code",
	   "execution_count": null,
	   "metadata": {
	    "collapsed": true
	   },
	   "outputs": [],
"source": [
"//caption:gain_margin_and_phase_margin\n",
"//example 7.19.2\n",
"//page 282\n",
"s=%s;\n",
"g=((2*(s+0.25))/(s^2*(s+1)*(s+0.5)));\n",
"G=syslin('c',g)\n",
"fmin=0.1; \n",
"fmax=100; \n",
"bode(G, fmin, fmax) \n",
"[gm,freqGM]=g_margin(G);\n",
"[pm,freqPM]=p_margin(G);\n",
"show_margins(G);\n",
"disp(gm,'gain_margin=');\n",
"disp((freqGM*2*%pi),'gain_margin_freq=');\n",
"disp(pm,'phase_margin=');\n",
"disp((freqPM*2*%pi),'phase_margin_freq=');\n",
"show_margins(G);\n",
"disp('since gain and phase margin are both negative so system is unstable')"
   ]
   }
,
{
		   "cell_type": "markdown",
		   "metadata": {},
		   "source": [
			"## Example 7.19_3: stability_using_bode_plot.sce"
		   ]
		  },
  {
"cell_type": "code",
	   "execution_count": null,
	   "metadata": {
	    "collapsed": true
	   },
	   "outputs": [],
"source": [
"//caption:stability_using_bode_plot\n",
"//example 7.19.3\n",
"//page 283\n",
"s=%s;\n",
"g=(48*(s+10))/(s*(s+20)*(s^2+2.4*s+16));\n",
"G=syslin('c',g)\n",
"fmin=0.01; \n",
"fmax=100; \n",
"bode(G, fmin, fmax) \n",
"show_margins(G)\n",
"gm=g_margin(G)\n",
"pm=p_margin(G)\n",
"disp(gm,'gain_margin=');\n",
"disp(pm,'phase_margin=');\n",
"disp('since gain and phase margin are both positive so system is stable')"
   ]
   }
,
{
		   "cell_type": "markdown",
		   "metadata": {},
		   "source": [
			"## Example 7.24_10: Overall_Transfer_Function_and_Root_Locus.sce"
		   ]
		  },
  {
"cell_type": "code",
	   "execution_count": null,
	   "metadata": {
	    "collapsed": true
	   },
	   "outputs": [],
"source": [
"//Caption:overall_transfer_function_and_root_locus\n",
"//example 7.24.10\n",
"//page 314\n",
"syms Ka Ke Kf Rf Lf eq  N1 N2 N3 N4 N5\n",
"//where Ka=amplifier_gain; Ke=error_detector_gain;  Kf=motor_torque_const; Rf=field_resistance; Lf=field_inductance Jeq=moment_of_inertia; feq=coeff_of_viscous_friction;\n",
"s=%s;\n",
"d=N1/N2;\n",
"e=N4/N3;\n",
"f=N4/N5;\n",
"n=N3/N5\n",
"Ke=0.05; Kf=2; Rf=10; Lf=2; Jeq=0.5*10^-4; feq=10^-4;  d=0.1; e=5; f=0.5;n=0.2;\n",
"a=(1*Ke); //in series\n",
"b=Kf/(Rf+s*Lf);\n",
"c=1/(s*(Jeq*s+feq));\n",
"g= (b*c)   //in series\n",
"h= (g*a)   //in series\n",
"j= (h*0.02)  //in series\n",
"k=j/(1+j*0.5);\n",
"a1=1/20;\n",
"cl=a1*k\n",
"disp(cl,'C(s)/R(s)=');\n",
"clf();\n",
"G=syslin('c',cl)\n",
"evans(G,200)\n",
"xgrid(2)"
   ]
   }
,
{
		   "cell_type": "markdown",
		   "metadata": {},
		   "source": [
			"## Example 7.24_11: root_locus.sce"
		   ]
		  },
  {
"cell_type": "code",
	   "execution_count": null,
	   "metadata": {
	    "collapsed": true
	   },
	   "outputs": [],
"source": [
"//caption:root_locus\n",
"//example 7.24.11\n",
"//page 308\n",
"clc;\n",
"s=%s;\n",
"syms K\n",
"clf();\n",
"g=K*(s+0.1)/(s*(s-0.2)*(s^2+s+0.6));\n",
"Z=2\n",
"P=2\n",
"disp('the characterstics eq. is determined as:')\n",
"CH=(s*(s-0.2)*(s^2+s+0.6))+K*(s+0.1)\n",
"CH=sym('(s*(s-0.2)*(s^2+s+0.6))+K*(s+0.1)');\n",
"disp('=0',CH,'characterstics_eq,CH=')\n",
"eq=(s*(s-0.2)*(s^2+s+0.6))\n",
"p=roots(eq)\n",
"disp(p,'open loop poles are:')\n",
"c0=coeffs(CH,'s',0);\n",
"c1=coeffs(CH,'s',1);\n",
"c2=coeffs(CH,'s',2);\n",
"c3=coeffs(CH,'s',3);\n",
"c4=coeffs(CH,'s',4);\n",
"b=[c0 c1 c2 c3 c4 ]\n",
"routh=[b([5,3,1]);b([4,2]),0]\n",
"routh=[routh;-det(routh(1:2,1:2))/routh(2,1),routh(1,3),0]\n",
"routh(3,1)=simple(routh(3,1))\n",
"t=routh(2:3,1:2)\n",
"l=simple(-det(t)/t(2,1))\n",
"routh=[routh;l,0,0]\n",
"routh=[routh;K,0,0]\n",
"K=sym('-(s*(s-0.2)*(s^2+s+0.6))/(s+0.1)')\n",
"d=diff(K,s)\n",
"e=3*s^4+2*s^3+0.64*s^2+0.08*s-0.12\n",
"r=roots(e);\n",
"disp(r,'r=')\n",
"disp('since -0.37 and 0.08 lies on root locus, so the breakaway point is -0.37 and 0.08 ')\n",
"disp(routh,'routh=')\n",
"disp('for given system to be marginally stable:');\n",
"disp('(625*K^2-310*K+33)/(625*K-275)=0 ');\n",
"disp('which gives:');\n",
"disp('K=0.148 and 0.352');\n",
"K1=0.148;\n",
"K2=0.352\n",
"a=((11-25*K1)/20)*s^2+K1/10//intersection of root locus with jw axis\n",
"r1=roots(a)\n",
"b=((11-25*K2)/20)*s^2+K2/10//intersection of root locus with jw axis\n",
"r2=roots(b)\n",
"disp(r1,r2,'root locus crosses imaginary axis at:')\n",
"g=(s+0.1)/(s*(s-0.2)*(s^2+s+0.6));\n",
"G=syslin('c',g)\n",
"evans(G,200)\n",
"xgrid(2)\n",
"v=[-1 0.7 -2 2];\n",
"mtlb_axis(v)"
   ]
   }
,
{
		   "cell_type": "markdown",
		   "metadata": {},
		   "source": [
			"## Example 7.24_1: root_locus_descriptio.sce"
		   ]
		  },
  {
"cell_type": "code",
	   "execution_count": null,
	   "metadata": {
	    "collapsed": true
	   },
	   "outputs": [],
"source": [
"//caption:root_locus_description\n",
"//example 7.24.1\n",
"//page 295\n",
"clc;\n",
"s=%s;\n",
"syms K\n",
"G=K/(s*(s+4));\n",
"disp('the characterstics eq. is determined as:')\n",
"CH=(s*(s+4))+K\n",
"CH=sym('(s*(s+4))+K');\n",
"disp('=0',CH,'characterstics_eq,CH=')\n",
"eq=(s*(s+4))\n",
"p=roots(eq)\n",
"disp(p,'open loop poles are:')\n",
"K=sym('-(s*(s+4))')\n",
"d=diff(K,s)\n",
"e=2*s+4\n",
"P=2;\n",
"Z=0;\n",
"disp('since -2 lies on root locus so breakaway point is -2')\n",
"for(k=0:1)\n",
"  A=((2*k+1)*180)/(P-Z);\n",
"  disp(A,'asymptote are at angle:')\n",
"end\n",
"x=((0-4)-0)/(P-Z)  // (sum_of_P - sum_of_Z)/(P-Z)\n",
"disp(x,'asymptotes intersect at ')\n",
"disp('since |G(s)*H(s)|=1')\n",
"disp('which gives K=8')\n",
"k=8\n",
"g=k/(s*(s+4))\n",
"G=syslin('c',g)\n",
"evans(g,200)\n",
"xgrid(2)"
   ]
   }
,
{
		   "cell_type": "markdown",
		   "metadata": {},
		   "source": [
			"## Example 7.24_2: root_locus_descriptio.sce"
		   ]
		  },
  {
"cell_type": "code",
	   "execution_count": null,
	   "metadata": {
	    "collapsed": true
	   },
	   "outputs": [],
"source": [
"//caption:root_locus_description\n",
"//example 7.24.2\n",
"//page 296\n",
"s=%s;\n",
"syms K;\n",
"GH=K/(s*(s+1)*(s+3))\n",
"zeta=0.5\n",
"//from given data \n",
"disp('the characterstics eq. is determined as:')\n",
"CH=(s*(s+1)*(s+3))+K\n",
"CH=sym('(s*(s+1)*(s+3))+K');\n",
"disp('=0',CH,'characterstics_eq,CH=')\n",
"c0=coeffs(CH,'s',0);\n",
"c1=coeffs(CH,'s',1);\n",
"c2=coeffs(CH,'s',2);\n",
"c3=coeffs(CH,'s',3);\n",
"b=[c0 c1 c2 c3]\n",
"n=4;\n",
"routh=[b([4,2]);b([3,1])];\n",
"routh=[routh;-det(routh)/routh(2,1),0]\n",
"t=routh(2:3,1:2)\n",
"routh=[routh;-det(t)/t(2,1),0]\n",
"K=sym('-(s^3+4*s^2+3*s)')\n",
"d=diff(K,s)\n",
"e=-3*s^2-8*s-3 \n",
"r1=roots(e)\n",
"disp(r1,'roots=')\n",
"disp('-0.45 is break away point since it lies on root locus')\n",
"disp(routh,'routh=')\n",
"disp('for given system to be marginally stable:');\n",
"disp('(12-K)=0 ');\n",
"disp('which gives:');\n",
"disp('K=12, for margianl stability');\n",
"K=12;\n",
"k=12\n",
"a=4*s^2+k//intersection of root locus with imaginary plane\n",
"r=roots(a)\n",
"g=k/(s*(s+1)*(s+3))\n",
"G=syslin('c',g)\n",
"evans(g,8)\n",
"xgrid(2)\n",
"disp('the line theta=acos(zeta)=60 intersects root locus at sa=(-0.35+i0.6)')\n",
"disp('the value of K at s=sa is find to be 1.66 ')\n",
"disp('the value of K at s=-4')\n",
"disp('K=12')\n",
"disp('at K=1.66')\n",
"k=1.66\n",
"H=1\n",
"G=k/(s*(s+1)*(s+3))\n",
"CL=G/(1+G*H)\n",
"disp(CL,'C(s)/R(s)=')"
   ]
   }
,
{
		   "cell_type": "markdown",
		   "metadata": {},
		   "source": [
			"## Example 7.24_3: root_locus_descriptio.sce"
		   ]
		  },
  {
"cell_type": "code",
	   "execution_count": null,
	   "metadata": {
	    "collapsed": true
	   },
	   "outputs": [],
"source": [
"//caption:root_locus_description\n",
"//example 7.24.3\n",
"//page 299\n",
"clc;\n",
"s=%s;\n",
"syms K\n",
"G=K/(s*(s+6)*(s^2+4*s+13));\n",
"disp('the characterstics eq. is determined as:')\n",
"CH=(s*(s+6)*(s^2+4*s+13))+K\n",
"CH=sym('(s*(s+6)*(s^2+4*s+13))+K');\n",
"disp('=0',CH,'characterstics_eq,CH=')\n",
"eq=(s*(s+6)*(s^2+4*s+13))\n",
"p=roots(eq)\n",
"disp(p,'open loop poles are:')\n",
"phi1=180-(atan(3/2)*180/%pi)\n",
"phi2=atan(3/4)*180/%pi\n",
"phi3=90\n",
"phi_p2=180-(phi1+phi2+phi3)\n",
"phi_p3=-phi_p2\n",
"disp(phi_p2,'angle of departure for -2+3i=')\n",
"disp(phi_p3,'angle of departure for -2-3i=')\n",
"c0=coeffs(CH,'s',0);\n",
"c1=coeffs(CH,'s',1);\n",
"c2=coeffs(CH,'s',2);\n",
"c3=coeffs(CH,'s',3);\n",
"c4=coeffs(CH,'s',4);\n",
"b=[c0 c1 c2 c3 c4]\n",
"routh=[b([5,3,1]);b([4,2]),0]\n",
"routh=[routh;-det(routh(1:2,1:2))/routh(2,1),routh(1,3),0]\n",
"routh(3,1)=simple(routh(3,1))\n",
"t=routh(2:3,1:2)\n",
"l=simple(-det(t)/t(2,1))\n",
"routh=[routh;l,0,0]\n",
"routh=[routh;K,0,0]\n",
"K=sym('-(s*(s+6)*(s^2+4*s+13))')\n",
"d=diff(K,s)\n",
"e=-(4*s^3+30*s^2+74*s+78)\n",
"f=-e;\n",
"r=roots(f);\n",
"disp(r,'r=')\n",
"disp('since -4.2 lies on root locus, so the breakaway point is -4.2 ')\n",
"disp(routh,'routh=')\n",
"disp('for given system to be marginally stable:');\n",
"disp('(78-0.34*K)=0 ');\n",
"disp('which gives:');\n",
"disp('K=229.4');\n",
"K=229.4;\n",
"k=229.4;\n",
"a=29.2*s^2+229.4//intersection of root locus with s plane\n",
"r1=roots(a)\n",
"g=k/(s*(s+6)*(s^2+4*s+13));\n",
"g=syslin('c',g)\n",
"evans(g,200)\n",
"xgrid(2)\n",
"disp(r1,'the point of intersection of root locus with imaginary axis =')\n",
""
   ]
   }
,
{
		   "cell_type": "markdown",
		   "metadata": {},
		   "source": [
			"## Example 7.24_4: root_locus.sce"
		   ]
		  },
  {
"cell_type": "code",
	   "execution_count": null,
	   "metadata": {
	    "collapsed": true
	   },
	   "outputs": [],
"source": [
"//caption:root_locus\n",
"//example 7.24.4\n",
"//page 301\n",
"clc;\n",
"s=%s;\n",
"syms K;\n",
"GH=K/(s*(s+4)*(s^2+4*s+13))\n",
"disp('the characterstics eq. is determined as:')\n",
"CH=(s*(s+4)*(s^2+4*s+13))+K\n",
"CH=sym('(s*(s+4)*(s^2+4*s+13))+K');\n",
"disp('=0',CH,'characterstics_eq,CH=')\n",
"c0=coeffs(CH,'s',0);\n",
"c1=coeffs(CH,'s',1);\n",
"c2=coeffs(CH,'s',2);\n",
"c3=coeffs(CH,'s',3);\n",
"c4=coeffs(CH,'s',4);\n",
"b=[c0 c1 c2 c3 c4 ]\n",
"routh=[b([5,3,1]);b([4,2]),0]\n",
"routh=[routh;-det(routh(1:2,1:2))/routh(2,1),routh(1,3),0]\n",
"routh(3,1)=simple(routh(3,1))\n",
"t=routh(2:3,1:2)\n",
"l=simple(-det(t)/t(2,1))\n",
"routh=[routh;l,0,0]\n",
"routh=[routh;K,0,0]\n",
"K=sym('(s*(s+4)*(s^2+4*s+13))')\n",
"d=diff(K,s)\n",
"e=(-4*s^3+24*s^2+58*s+52)\n",
"r=roots(e)\n",
"disp('since -2 lies on root locus so complex breakaway point is -2+i1.58 and -2-i1.58')\n",
"disp(routh,'routh=')\n",
"disp('for given system to be marginally stable:');\n",
"disp('((20-4K)/5)=0 ');\n",
"disp('which gives:');\n",
"disp('K=5');\n",
"K=5;\n",
"k=5\n",
"a=5*s^2+5//intersection of root locus with s plane\n",
"r=roots(a)\n",
"g=k/(s*(s+2)*(s^2+2*s+2))\n",
"G=syslin('c',g)\n",
"evans(g,200)\n",
"xgrid(2)\n",
"eq=(s*(s+4)*(s^2+4*s+13))\n",
"p=roots(eq)\n",
"disp(p,'open loop poles are:')\n",
"phi1=180-(atan(3/2)*180/%pi)\n",
"phi2=atan(3/2)*180/%pi\n",
"phi3=90\n",
"phi_p2=180-(phi1+phi2+phi3)\n",
"phi_p3=-phi_p2\n",
"disp(phi_p2,'angle of departure for -2+3i=')\n",
"disp(phi_p3,'angle of departure for -2-3i=')"
   ]
   }
,
{
		   "cell_type": "markdown",
		   "metadata": {},
		   "source": [
			"## Example 7.24_6: root_locus.sce"
		   ]
		  },
  {
"cell_type": "code",
	   "execution_count": null,
	   "metadata": {
	    "collapsed": true
	   },
	   "outputs": [],
"source": [
"//caption:root_locus\n",
"//example 7.24.6\n",
"//page 304\n",
"clc;\n",
"s=%s;\n",
"syms K;\n",
"clf();\n",
"g=(K*(s+1)/(s^2+0.4*s+0.4));\n",
"eq=(s^2+0.4*s+0.4)\n",
"p=roots(eq)\n",
"disp(p,'open loop poles are:');\n",
"P=2;\n",
"Z=1;\n",
"k=0\n",
"  A=((2*k+1)*180)/(P-Z);\n",
"  disp(A,'asymptote are at angle:')\n",
"  CH=(s^2+0.4*s+0.4)+K*(s+1)\n",
"CH=sym('(s^2+0.4*s+0.4)+K*(s+1)');\n",
"disp('=0',CH,'characterstics_eq,CH=')\n",
"K=sym('-(s^2+0.4*s+0.4)/(s+1)')\n",
"d=diff(K,s)\n",
"e=s*(s+2)\n",
"disp('break away point s=-2 as it lies on root locus')\n",
"disp('since |G(s)*H(s)|=1')\n",
"disp('which gives K=3.6')\n",
"k=3.6\n",
"g=(k*(s+1))/(s^2+0.4*s+0.4);\n",
"G=syslin('c',g)\n",
"evans(g,200)\n",
"xgrid(1)\n",
"v=[-20 1 -2 2]\n",
"mtlb_axis(v);\n",
"disp(' poles s=(-0.2+j0.6 and -0.2-j0.6)are equidistant from the zero s=-1, hence rootlocus plot is arc of the circle with centre s=-1 and radius 1.')"
   ]
   }
,
{
		   "cell_type": "markdown",
		   "metadata": {},
		   "source": [
			"## Example 7.24_7: root_locus.sce"
		   ]
		  },
  {
"cell_type": "code",
	   "execution_count": null,
	   "metadata": {
	    "collapsed": true
	   },
	   "outputs": [],
"source": [
"//caption:root_locus\n",
"//example 7.24.7\n",
"//page 306\n",
"s=%s;\n",
"syms K;\n",
"GH=K/(s*(s+2)*(s+4))\n",
"//since Mp=40%, so .4=exp((-zeta*%pi)/(sqrt(1-zeta^2))\n",
"zeta=0.3\n",
"//from given data \n",
"disp('the characterstics eq. is determined as:')\n",
"CH=(s*(s+2)*(s+4))+K\n",
"K=sym('-(s^3+6*s^2+8*s)')\n",
"d=diff(K,s)\n",
"e=-3*s^2-12*s-8 \n",
"r1=roots(e)\n",
"disp(r1,'roots=')\n",
"disp('-0.842 is break away point sinc it lies on root locus')\n",
"CH=sym('s^3+6*s^2+8*s+K');\n",
"disp('=0',CH,'characterstics_eq,CH=')\n",
"c0=coeffs(CH,'s',0);\n",
"c1=coeffs(CH,'s',1);\n",
"c2=coeffs(CH,'s',2);\n",
"c3=coeffs(CH,'s',3);\n",
"b=[c0 c1 c2 c3]\n",
"n=4;\n",
"routh=[b([4,2]);b([3,1])];\n",
"routh=[routh;-det(routh)/routh(2,1),0]\n",
"t=routh(2:3,1:2)\n",
"routh=[routh;-det(t)/t(2,1),0]\n",
"disp(routh,'routh=')\n",
"disp('for given system to be marginally stable:');\n",
"disp('(48-K)=0 ');\n",
"disp('which gives:');\n",
"disp('K=48');\n",
"K=48;\n",
"k=48\n",
"a=6*s^2+48//intersection of root locus with imaginary plane\n",
"r=roots(a)\n",
"g=k/(s*(s+2)*(s+4))\n",
"G=syslin('c',g)\n",
"evans(g,8)\n",
"xgrid(2)\n",
"disp('the line theta=acos(zeta)=72.5 intersects root locus at sa=(-0.5+i1.65)')\n",
"disp('the value of K at s=sa is find to be 14.87 for Mp=40%')\n",
"K=14.87\n",
"ts=4/0.5     //ts=4/(zeta*wn)\n",
"Kv=limit(s*GH,s,0)\n",
"Kv=eval(Kv)\n",
"Kv=float(Kv)\n",
"disp(Kv,'Kv=');"
   ]
   }
,
{
		   "cell_type": "markdown",
		   "metadata": {},
		   "source": [
			"## Example 7.24_8: root_locus.sce"
		   ]
		  },
  {
"cell_type": "code",
	   "execution_count": null,
	   "metadata": {
	    "collapsed": true
	   },
	   "outputs": [],
"source": [
"//caption:root_locus\n",
"//example 7.24.8\n",
"//page 308\n",
"clc;\n",
"s=%s;\n",
"syms K;\n",
"GH=K/(s*(s+1)*(s+3))\n",
"zeta=0.5\n",
"//from given data \n",
"disp('the characterstics eq. is determined as:')\n",
"CH=(s*(s+1)*(s+3))+K\n",
"CH=sym('(s*(s+1)*(s+3))+K');\n",
"disp('=0',CH,'characterstics_eq,CH=')\n",
"c0=coeffs(CH,'s',0);\n",
"c1=coeffs(CH,'s',1);\n",
"c2=coeffs(CH,'s',2);\n",
"c3=coeffs(CH,'s',3);\n",
"b=[c0 c1 c2 c3]\n",
"n=4;\n",
"routh=[b([4,2]);b([3,1])];\n",
"routh=[routh;-det(routh)/routh(2,1),0]\n",
"t=routh(2:3,1:2)\n",
"routh=[routh;-det(t)/t(2,1),0]\n",
"K=sym('-(s^3+4*s^2+3*s)')\n",
"d=diff(K,s)\n",
"e=-3*s^2-8*s-3 \n",
"r1=roots(e)\n",
"disp(r1,'roots=')\n",
"disp('-0.45 is break away point since it lies on root locus')\n",
"disp(routh,'routh=')\n",
"disp('for given system to be marginally stable:');\n",
"disp('(12-K)=0 ');\n",
"disp('which gives:');\n",
"disp('K=12, for margianl stability');\n",
"K=12;\n",
"k=12\n",
"a=4*s^2+k//intersection of root locus with imaginary plane\n",
"r=roots(a)\n",
"disp(r,'intersection point of root locus with imaginary axis=')\n",
"g=k/(s*(s+1)*(s+3))\n",
"G=syslin('c',g)\n",
"evans(g,8)\n",
"xgrid(2)\n",
"disp('for K=6')\n",
"k=6;\n",
"GH=k/(s*(s+1)*(s+3))\n",
"gm=K/k  //gm=K(marginal_stability)/K(desired)\n",
"disp(gm,'gain_margin=')\n",
"disp('the point where K=6 is s=1.2')\n",
"pm=180+(-90-(atan(1.2/1)*180/%pi)-(atan(1.2/3)*180/%pi))\n",
"disp(pm,'phase margin=')"
   ]
   }
,
{
		   "cell_type": "markdown",
		   "metadata": {},
		   "source": [
			"## Example 7.24_9: root_locus.sce"
		   ]
		  },
  {
"cell_type": "code",
	   "execution_count": null,
	   "metadata": {
	    "collapsed": true
	   },
	   "outputs": [],
"source": [
"//caption:root_locus\n",
"//example 7.24.9\n",
"//page 308\n",
"clc;\n",
"s=%s;\n",
"syms K\n",
"clf();\n",
"g=(K*(s^2+4)/(s*(s+1)));\n",
"Z=2\n",
"P=2\n",
"disp('the characterstics eq. is determined as:')\n",
"CH=(s*(s+1))+K*(s^2+4)\n",
"CH=sym('(s*(s+1))+K*(s^2+4)');\n",
"disp('=0',CH,'characterstics_eq,CH=')\n",
"eq=(s*(s+1))\n",
"p=roots(eq)\n",
"disp(p,'open loop poles are:')\n",
"K=sym('-(s*(s+1))/(s^2+4)')\n",
"d=diff(K,s)\n",
"e=2*s^2-8*s-8\n",
"r=roots(e);\n",
"disp(r,'r=')\n",
"disp('since -0.82 lies on root locus, so the breakaway point is -0.82 ')\n",
"disp('by putting s=-0.82 in  |G(s)*H(s)|=1, the value of K at s=-0.82 is K=0.2')\n",
"k=0.2\n",
"g=(k*(s^2+4)/(s*(s+1)));\n",
"G=syslin('c',g)\n",
"evans(g,200)\n",
"xgrid(2)\n",
"\n",
"disp('part (b)')\n",
"disp('by putting s=-0.69+i0.9 in  |G(s)*H(s)|=1, K=0.464')"
   ]
   }
,
{
		   "cell_type": "markdown",
		   "metadata": {},
		   "source": [
			"## Example 7.5_1: stability_using_Routh_hurwitz_criterion.sce"
		   ]
		  },
  {
"cell_type": "code",
	   "execution_count": null,
	   "metadata": {
	    "collapsed": true
	   },
	   "outputs": [],
"source": [
"//caption:stability_using_Routh-hurwitz_criterion\n",
"//example 7.5.1\n",
"//page 202\n",
"clc;\n",
"s=%s;\n",
"A=s^3+4.5*s^2+3.5*s+1.5;\n",
"b=coeff(A)\n",
"n=length(b)\n",
"B=routh_t(A)\n",
"disp(B,'routh table:');\n",
"c=0;\n",
"for(i=1:n)\n",
"  if(B(i,1)<0)\n",
"    c=c+1;\n",
"  end\n",
"end\n",
"if(c>=1)\n",
"  disp('system is unstable')\n",
"else('system is stable')\n",
"end"
   ]
   }
,
{
		   "cell_type": "markdown",
		   "metadata": {},
		   "source": [
			"## Example 7.5_2: stability_using_Routh_hurwitz_criterion.sce"
		   ]
		  },
  {
"cell_type": "code",
	   "execution_count": null,
	   "metadata": {
	    "collapsed": true
	   },
	   "outputs": [],
"source": [
"//caption:stability_using_Routh-hurwitz_criterion\n",
"//example 7.5.2\n",
"//page 202\n",
"s=%s;\n",
"A=s^3+4*10^2*s^2+5*10^4*s+2*10^6;\n",
"b=coeff(A)\n",
"n=length(b)\n",
"B=routh_t(A)\n",
"disp(B,'routh table:');\n",
"c=0;\n",
"for(i=1:n)\n",
"  if(B(i,1)<0)\n",
"    c=c+1;\n",
"  end\n",
"end\n",
"if(c>=1)\n",
"  printf('\n system is unstable')\n",
"else('system is stable')\n",
"end"
   ]
   }
,
{
		   "cell_type": "markdown",
		   "metadata": {},
		   "source": [
			"## Example 7.5_3: stability_using_Routh_hurwitz_criterion.sce"
		   ]
		  },
  {
"cell_type": "code",
	   "execution_count": null,
	   "metadata": {
	    "collapsed": true
	   },
	   "outputs": [],
"source": [
"//caption:stability_using_Routh-hurwitz_criterion\n",
"//example 7.5.3\n",
"//page 203\n",
"s=%s;\n",
"A=s^5+4*1.5*s^4+4*s^3+4*s^2+5*s+10;\n",
"C=2*s+5;\n",
"CL=A/C;\n",
"disp(CL,'C(s)/R(s)=');\n",
"disp('=0',A,'characteristics eq is:')\n",
"b=coeff(A)\n",
"n=length(b)\n",
"B=routh_t(A)\n",
"disp(B,'routh table:');\n",
"c=0;\n",
"r=1;\n",
"for(i=1:n)\n",
"  if(B(i,1)<0)\n",
"    c=c+1;\n",
"    if(i==n & B(n,1)<0)\n",
"      r=r;\n",
"    else\n",
"      r=r+1;\n",
"    end\n",
"  end\n",
"end\n",
"if(c>=1)\n",
"  printf('system is unstable\n');\n",
"else('system is stable ' );\n",
"end\n",
"mprintf('no. of roots with positive real parts=%d',r);\n",
""
   ]
   }
,
{
		   "cell_type": "markdown",
		   "metadata": {},
		   "source": [
			"## Example 7.5_4: stability_using_Routh_hurwitz_criterion.sce"
		   ]
		  },
  {
"cell_type": "code",
	   "execution_count": null,
	   "metadata": {
	    "collapsed": true
	   },
	   "outputs": [],
"source": [
"//caption:stability_using_Routh-hurwitz_criterion\n",
"//example 7.5.4\n",
"//page 203\n",
"ieee (2)\n",
"s=%s;\n",
"A=s^5+s^4+2*s^3+2*s^2+11*s+10;\n",
"b=coeff(A);\n",
"n=length(b);\n",
"B=routh_t(A);\n",
"K=B;\n",
"c=0;\n",
"syms eps;\n",
"x=limit(eps,eps,0);\n",
"y=limit(((-1+2*eps)/eps),eps,0);\n",
"z=limit(((-1+2*eps-10*eps^2)/(-1+2*eps)),eps,0);\n",
"//after putting the limit we get:\n",
"K(3,1)=0;\n",
"K(4,1)=-%inf;\n",
"K(5,1)=1;\n",
"disp(K,'routh_table:')\n",
"printf('There are two sign changes of first column ,hence the system is unstable \n' )\n",
""
   ]
   }
,
{
		   "cell_type": "markdown",
		   "metadata": {},
		   "source": [
			"## Example 7.5_5: stability_using_Routh_hurwitz_criterion.sce"
		   ]
		  },
  {
"cell_type": "code",
	   "execution_count": null,
	   "metadata": {
	    "collapsed": true
	   },
	   "outputs": [],
"source": [
"//caption:stability_using_Routh-hurwitz_criterion\n",
"//example 7.5.5\n",
"//page 204\n",
"s=%s;\n",
"A=s^6+s^5+5*s^4+3*s^3+2*s^2-4*s-8;\n",
"b=coeff(A)\n",
"n=length(b)\n",
"routh=[b([7,5,3,1]);b([6,4,2]),0];\n",
"\n",
"c=[routh(1,1),routh(1,3);routh(2,1),routh(2,3)]\n",
"d=[routh(1,1),routh(1,4);routh(2,1),routh(2,4)]\n",
"routh=[routh;-det(routh(1:2,1:2))/routh(2,1),-det(c)/routh(2,1),-det(d)/routh(2,1),0];\n",
"routh1=routh;\n",
"e=[routh(2,1),routh(2,2);routh(3,1),routh(3,2)]\n",
"f=[routh(2,1),routh(2,3);routh(3,1),routh(3,3)]\n",
"routh=[routh;-det(e)/routh(3,1),-det(f)/routh(3,1),0,0];\n",
"disp('since all elements of fourth row are zero, so we make auxiliary equation')\n",
"A=sym('2*s^4+6*s^2-8')\n",
"B=diff(A,s)\n",
"routh=[routh1;8,12,0,0]\n",
"g=[routh(3,1),routh(3,3);routh(4,1),routh(4,3)]\n",
"routh=[routh;-det(routh(3:4,1:2))/routh(4,1),-det(g)/routh(4,1),0,0];\n",
"routh=[routh;-det(routh(4:5,1:2))/routh(5,1),0,0,0];\n",
"routh=[routh;-det(routh(5:6,1:2))/routh(6,1),0,0,0]\n",
"disp(routh,'routh table:')\n",
"c=0;\n",
"r=1;\n",
"for(i=1:n)\n",
"  if(routh(i,1)<0)\n",
"    c=c+1;\n",
"    if(i==n & routh(n,1)<0)\n",
"      r=r;\n",
"    else\n",
"      r=r+1;\n",
"    end\n",
"  end\n",
"end\n",
"if(c>=1)\n",
"  printf('system is unstable\n')\n",
"else('system is stable ' )\n",
"end\n",
"mprintf('no. of roots with positive real parts=%d',r);\n",
""
   ]
   }
,
{
		   "cell_type": "markdown",
		   "metadata": {},
		   "source": [
			"## Example 7.5_6: stability_using_Routh_hurwitz_criterion.sce"
		   ]
		  },
  {
"cell_type": "code",
	   "execution_count": null,
	   "metadata": {
	    "collapsed": true
	   },
	   "outputs": [],
"source": [
"//caption:stability_using_Routh-hurwitz_criterion\n",
"//example 7.5.6\n",
"//page 206\n",
"s=%s;\n",
"syms T \n",
"num=exp(-s*T);\n",
"den=s*(s+2);\n",
"G=num/den;\n",
"H=1;\n",
"a=(1+G*H);\n",
"CL=G/a;\n",
"CL=simple(CL);\n",
"CH=s^2+2*s+exp(-s*T);\n",
"//exp(-s*T)=1-sT+(sT)^2/2+....\n",
"CH=s^2+(2-T)*s+1;\n",
"disp('=0',CH,'characterstics_eq,CH=')\n",
"c0=coeffs(CH,'s',0);\n",
"c1=coeffs(CH,'s',1);\n",
"c2=coeffs(CH,'s',2);\n",
"b=[c0 c1 c2]\n",
"n=3;\n",
"routh=[b([3,1]);b([2]),0];\n",
"routh=[routh;simple(-det(routh)/routh(2,1)),0]\n",
"disp(routh,'routh=');\n",
"disp('for given system to be stable:');\n",
"disp('2-T>0');\n",
"disp('which gives:');\n",
"disp('T<2');"
   ]
   }
,
{
		   "cell_type": "markdown",
		   "metadata": {},
		   "source": [
			"## Example 7.5_7_a: stability_using_Routh_hurwitz_criterion.sce"
		   ]
		  },
  {
"cell_type": "code",
	   "execution_count": null,
	   "metadata": {
	    "collapsed": true
	   },
	   "outputs": [],
"source": [
"//caption:stability_using_Routh-hurwitz_criterion\n",
"//example 7.5.7.(a)\n",
"//page 207\n",
"s=%s;\n",
"syms T K\n",
"P=s*(s*(s+10)+T);\n",
"CH=sym('s^3+10*s^2+T*s+K');\n",
"disp('=0',CH,'characterstics_eq,CH=')\n",
"c0=coeffs(CH,'s',0);\n",
"c1=coeffs(CH,'s',1);\n",
"c2=coeffs(CH,'s',2);\n",
"c3=coeffs(CH,'s',3);\n",
"b=[c0 c1 c2 c3]\n",
"n=4;\n",
"routh=[b([4,2]);b([3,1])];\n",
"routh=[routh;-det(routh)/routh(2,1),0]\n",
"t=routh(2:3,1:2)\n",
"routh=[routh;-det(t)/t(2,1),0]\n",
"disp(routh,'routh=')\n",
"disp('for given system to be stable:');\n",
"disp('((10*T-K)/10)>0 and K>0');\n",
"disp('which gives:');\n",
"disp('0<K<10T');"
   ]
   }
,
{
		   "cell_type": "markdown",
		   "metadata": {},
		   "source": [
			"## Example 7.5_7_b: value_of_K_of_characterstics_equatio.sce"
		   ]
		  },
  {
"cell_type": "code",
	   "execution_count": null,
	   "metadata": {
	    "collapsed": true
	   },
	   "outputs": [],
"source": [
"//caption:value_of_K_of_characterstics_eq\n",
"//example 7.5.7.(b)\n",
"//page 207\n",
"s=%s;\n",
"syms K s1;\n",
"CH=s^3+10*s^2+18*s+K\n",
"s=s1-1;\n",
"CH=eval(CH);\n",
"CH=simple(CH);\n",
"disp('=0',CH,'characterstics_eq,CH=');\n",
"c0=coeffs(CH,'s1',0);\n",
"c1=coeffs(CH,'s1',1);\n",
"c2=coeffs(CH,'s1',2);\n",
"c3=coeffs(CH,'s1',3);\n",
"b=[c0 c1 c2 c3]\n",
"n=4;\n",
"routh=[b([4,2]);b([3,1])];\n",
"routh=[routh;-det(routh)/routh(2,1),0]\n",
"t=routh(2:3,1:2)\n",
"routh=[routh;-det(t)/t(2,1),0]\n",
"disp(routh,'routh=')\n",
"disp('for given system to be stable:');\n",
"disp('((-(K-16))/7)>0 and K-9>0');\n",
"disp('which gives:');\n",
"disp('9<K<16');"
   ]
   }
,
{
		   "cell_type": "markdown",
		   "metadata": {},
		   "source": [
			"## Example 7.5_8: value_of_K_in_terms_of_T1_and_T2.sce"
		   ]
		  },
  {
"cell_type": "code",
	   "execution_count": null,
	   "metadata": {
	    "collapsed": true
	   },
	   "outputs": [],
"source": [
"//caption:value_of_K_in_terms_of_T1_and_T2\n",
"//example 7.5.8\n",
"//page 207\n",
"s=%s;\n",
"syms K T1 T2;\n",
"m=s*(s*T1+1)*(s*T2+1)\n",
"G=K/m;\n",
"CH=1+G;\n",
"disp('on simplyfying CH')\n",
"CH=m+K;\n",
"CH=simple(CH);\n",
"disp('=0',CH,'characterstics_eq,CH=');\n",
"c0=coeffs(CH,'s',0);\n",
"c1=coeffs(CH,'s',1);\n",
"c2=coeffs(CH,'s',2);\n",
"c3=coeffs(CH,'s',3);\n",
"b=[c0 c1 c2 c3]\n",
"n=4;\n",
"routh=[b([4,2]);b([3,1])];\n",
"routh=[routh;-det(routh)/routh(2,1),0]\n",
"t=routh(2:3,1:2)\n",
"routh=[routh;-det(t)/t(2,1),0]\n",
"disp(routh,'routh=')\n",
"disp('for given system to be stable:');\n",
"disp('K>0 and (-(K*T1*T2-T2-T1)/(T2+T1))>0');\n",
"disp('which gives:');\n",
"disp('0<K<((1/T1)+(1/T2))');"
   ]
   }
],
"metadata": {
		  "kernelspec": {
		   "display_name": "Scilab",
		   "language": "scilab",
		   "name": "scilab"
		  },
		  "language_info": {
		   "file_extension": ".sce",
		   "help_links": [
			{
			 "text": "MetaKernel Magics",
			 "url": "https://github.com/calysto/metakernel/blob/master/metakernel/magics/README.md"
			}
		   ],
		   "mimetype": "text/x-octave",
		   "name": "scilab",
		   "version": "0.7.1"
		  }
		 },
		 "nbformat": 4,
		 "nbformat_minor": 0
}
