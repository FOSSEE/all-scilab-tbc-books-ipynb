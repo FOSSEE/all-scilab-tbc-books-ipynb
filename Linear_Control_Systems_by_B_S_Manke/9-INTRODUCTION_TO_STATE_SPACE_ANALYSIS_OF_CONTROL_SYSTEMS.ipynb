{
"cells": [
 {
		   "cell_type": "markdown",
	   "metadata": {},
	   "source": [
       "# Chapter 9: INTRODUCTION TO STATE SPACE ANALYSIS OF CONTROL SYSTEMS"
	   ]
	},
{
		   "cell_type": "markdown",
		   "metadata": {},
		   "source": [
			"## Example 9.10_10: Obtain_State_Matrix.sce"
		   ]
		  },
  {
"cell_type": "code",
	   "execution_count": null,
	   "metadata": {
	    "collapsed": true
	   },
	   "outputs": [],
"source": [
"//caption:obtain_state_matrix\n",
"//example 9.10.10\n",
"//page 393\n",
"s=%s;\n",
"g=(s^2+6*s+8)/((s+3)*(s^2+2*s+5));\n",
"CL=syslin('c',g);\n",
"disp(CL,'C(s)/R(s)=');\n",
"SS=tf2ss(CL)\n",
"[Ac,Bc,U,ind]=canon(SS(2),SS(3))\n",
"disp(SS,'state space matrix=')\n",
"disp(Ac,'Ac',Bc,'Bc',U,'U',ind,'ind')"
   ]
   }
,
{
		   "cell_type": "markdown",
		   "metadata": {},
		   "source": [
			"## Example 9.10_11: Obtain_Time_Response.sce"
		   ]
		  },
  {
"cell_type": "code",
	   "execution_count": null,
	   "metadata": {
	    "collapsed": true
	   },
	   "outputs": [],
"source": [
"//caption:obtain_time_response\n",
"//example 9.10.11\n",
"//page 394\n",
"s=%s;\n",
"syms t\n",
"A=[0 1;-2 0]\n",
"B=[1 -1]\n",
"x0=[1 1]'\n",
"[r c]=size(A);//size of matrix A\n",
"p=s*eye(r,c)-A;//s*I-A where I is identity matrix\n",
"q=det(p)//determinant of sI-A\n",
"r=inv(p)//inverse of sI-A\n",
"//for calculating state transistion matrix\n",
"ip=[0 0;0 0]\n",
"i=1;j=1;\n",
"for i=1:2\n",
"  for j=1:2\n",
"    ip(i,j)=ilaplace(r(i,j),s,t);\n",
"    j=j+1;\n",
"  end\n",
"  i=i+1;\n",
"end\n",
"disp(ip,'state transistion matrix,ip(t)=');\n",
"x=ip*x0\n",
"y=x(1,1)-x(2,1)\n",
"y=simple(y) //output\n",
"disp(y,'time response of the system,y(t)=');"
   ]
   }
,
{
		   "cell_type": "markdown",
		   "metadata": {},
		   "source": [
			"## Example 9.10_12_ii: Obtain_Zero_State_Response.sce"
		   ]
		  },
  {
"cell_type": "code",
	   "execution_count": null,
	   "metadata": {
	    "collapsed": true
	   },
	   "outputs": [],
"source": [
"//caption:obtain_zero_state_response\n",
"//example 9.10.12_(ii)\n",
"//page 395\n",
"s=%s;\n",
"syms t\n",
"A=[0 1;-2 -1]\n",
"B=[0 1]'\n",
"x0=[1 0]'\n",
"[r c]=size(A);//size of matrix A\n",
"p=s*eye(r,c)-A;//s*I-A where I is identity matrix\n",
"q=det(p)//determinant of sI-A\n",
"r=inv(p)//inverse of sI-A\n",
"m=r*B*(1/s);\n",
"//for calculating zero state response\n",
"x=[0;0]\n",
"x(1,1)=ilaplace(m(1,1),s,t);\n",
"x(2,1)=ilaplace(m(2,1),s,t);\n",
"disp(x,'zero input response of the system,x(t)=');"
   ]
   }
,
{
		   "cell_type": "markdown",
		   "metadata": {},
		   "source": [
			"## Example 9.10_12_i: Obtain_Zero_Input_Response.sce"
		   ]
		  },
  {
"cell_type": "code",
	   "execution_count": null,
	   "metadata": {
	    "collapsed": true
	   },
	   "outputs": [],
"source": [
"//caption:obtain_zero_input_response\n",
"//example 9.10.12_(i)\n",
"//page 395\n",
"s=%s;\n",
"syms t\n",
"A=[0 1;-2 -1]\n",
"B=[0 1]'\n",
"x0=[1 0]'\n",
"[r c]=size(A);//size of matrix A\n",
"p=s*eye(r,c)-A;//s*I-A where I is identity matrix\n",
"q=det(p)//determinant of sI-A\n",
"r=inv(p)//inverse of sI-A\n",
"//for calculating state transistion matrix\n",
"ip=[0 0;0 0]\n",
"i=1;j=1;\n",
"for i=1:2\n",
"  for j=1:2\n",
"    ip(i,j)=ilaplace(r(i,j),s,t);\n",
"    j=j+1;\n",
"  end\n",
"  i=i+1;\n",
"end\n",
"disp(ip,'state transistion matrix,ip(t)=');\n",
"x=ip*x0\n",
"disp(x,'zero input response of the system,x(t)=');"
   ]
   }
,
{
		   "cell_type": "markdown",
		   "metadata": {},
		   "source": [
			"## Example 9.10_13: Obtain_Time_Response.sce"
		   ]
		  },
  {
"cell_type": "code",
	   "execution_count": null,
	   "metadata": {
	    "collapsed": true
	   },
	   "outputs": [],
"source": [
"//caption:obtain_time_response\n",
"//example 9.10.13\n",
"//page 397\n",
"syms t;\n",
"A=[0 1;-2 0]\n",
"x0=[1 1]'\n",
"[r c]=size(A);//size of matrix A\n",
"//since exp(At)=I+A*t+(A*t)^2/2+(A*t)^3/3+...\n",
"I=eye(r,c)\n",
"p=I+A*t+(A*t)^2/2+(A*t)^3/3\n",
"x=p*x0;\n",
"disp(x(1,1),'time response of the system,x1(t)=');\n",
"disp(x(2,1),'time response of the system,x2(t)=');"
   ]
   }
,
{
		   "cell_type": "markdown",
		   "metadata": {},
		   "source": [
			"## Example 9.10_14: Obtain_Time_Response_using_Diagonalization_Process.sce"
		   ]
		  },
  {
"cell_type": "code",
	   "execution_count": null,
	   "metadata": {
	    "collapsed": true
	   },
	   "outputs": [],
"source": [
"//caption:obtain_time_response_using_diagonalization_process\n",
"//example 9.10.14\n",
"//page 398\n",
"syms m11 m22 m21 m12 t;\n",
"s=%s;\n",
"poly(0,'l');\n",
"A=[1 4;-2 -5]\n",
"B=[0;1]\n",
"C=[1;0]'\n",
"x0=[1 0]'\n",
"[r c]=size(A);//size of matrix A\n",
"I=eye(r,c);\n",
"p=l*I-A;//l*I-A where I is identity matrix\n",
"q=det(p)//determinant of lI-A\n",
"\n",
"//roots of q are -1 and -3\n",
"l1=-1;\n",
"l2=-3;\n",
"//for determining modal matrix\n",
"x1=[m11;m21]\n",
"q1=(l1*I-A)*x1\n",
"//on solving we find m11=1, m21=-0.5\n",
"m11=1;m21=-0.5\n",
"x2=[m12;m22]\n",
"q2=(l2*I-A)*x1\n",
"//on solving we find m12=1, m22=-1\n",
"m12=1;m22=-1\n",
"M=[m11 m12;m21 m22]\n",
"M1=inv(M);\n",
"k1=M1*A*M;\n",
"z0=M1*x0;\n",
"k2=M1*B\n",
"Z=inv(s*I-k1)*z0+(inv(s*I-k1)*k2)*(1/s);\n",
"X=M*Z\n",
"x=[0;0]\n",
"x(1,1)=ilaplace(X(1,1),s,t);\n",
"x(2,1)=ilaplace(X(2,1),s,t);\n",
"y=C*x\n",
"disp(y,'output_equation_is,y(t)=')"
   ]
   }
,
{
		   "cell_type": "markdown",
		   "metadata": {},
		   "source": [
			"## Example 9.10_15: Obtain_Time_Response_using_Diagonalization_Process.sce"
		   ]
		  },
  {
"cell_type": "code",
	   "execution_count": null,
	   "metadata": {
	    "collapsed": true
	   },
	   "outputs": [],
"source": [
"//caption:obtain_time_response_using_diagonalization_process\n",
"//example 9.10.15\n",
"//page 403\n",
"syms t;\n",
"s=%s;\n",
"poly(0,'l');\n",
"A=[0 1;-6 -5]\n",
"B=[0;1]\n",
"C=[6 1]\n",
"x0=[1 0]'\n",
"[r c]=size(A);//size of matrix A\n",
"I=eye(r,c);\n",
"p=l*I-A;//l*I-A where I is identity matrix\n",
"q=det(p)//determinant of lI-A\n",
"//roots of q are -1 and -3\n",
"l1=-2;\n",
"l2=-3;\n",
"//for determining vandermonde's matrix\n",
"P=[1 1;l1 l2];\n",
"P1=inv(P);\n",
"k1=P1*A*P;\n",
"z0=P1*x0;\n",
"k2=P1*B\n",
"Z=inv(s*I-k1)*z0+(inv(s*I-k1)*k2)*(1/s);\n",
"X=P*Z\n",
"X(2,1)=-5/(s^2+5*s+6)\n",
"x=[0;0]\n",
"x(1,1)=ilaplace(X(1,1),s,t);\n",
"x(2,1)=ilaplace(X(2,1),s,t);\n",
"y=C*x\n",
"y=simple(y)\n",
"disp(y,'output_equation_is,y(t)=')"
   ]
   }
,
{
		   "cell_type": "markdown",
		   "metadata": {},
		   "source": [
			"## Example 9.10_16: Determine_Transfer_Matrix.sce"
		   ]
		  },
  {
"cell_type": "code",
	   "execution_count": null,
	   "metadata": {
	    "collapsed": true
	   },
	   "outputs": [],
"source": [
"//caption:determine_transfer_matrix\n",
"//example 9.10.16\n",
"//page 406\n",
"clc;\n",
"s=%s\n",
"A=[1 -2;4 -5]\n",
"B=[2;1]\n",
"C=[1 1]\n",
"[r c]=size(A);//size of matrix A\n",
"p=s*eye(r,c)-A;//s*I-A where I is identity matrix\n",
"r=inv(p)//inverse of sI-A\n",
"G=C*r*B//transfer matrix\n",
"disp(G,'transfer matrix=')"
   ]
   }
,
{
		   "cell_type": "markdown",
		   "metadata": {},
		   "source": [
			"## Example 9.10_17: Determine_Transfer_Matrix.sce"
		   ]
		  },
  {
"cell_type": "code",
	   "execution_count": null,
	   "metadata": {
	    "collapsed": true
	   },
	   "outputs": [],
"source": [
"//caption:determine_transfer_matrix\n",
"//example 9.10.17\n",
"//page 407\n",
"s=%s\n",
"A=[-3 1;0 -1]\n",
"B=[1;1]\n",
"C=[1 1]\n",
"D=0;\n",
"[r c]=size(A);//size of matrix A\n",
"p=s*eye(r,c)-A;//s*I-A where I is identity matrix\n",
"r=inv(p)//inverse of sI-A\n",
"G=C*r*B//transfer matrix\n",
"disp(G,'transfer matrix=')"
   ]
   }
,
{
		   "cell_type": "markdown",
		   "metadata": {},
		   "source": [
			"## Example 9.10_18: Determine_Transfer_Matrix.sce"
		   ]
		  },
  {
"cell_type": "code",
	   "execution_count": null,
	   "metadata": {
	    "collapsed": true
	   },
	   "outputs": [],
"source": [
"//caption:determine_transfer_matrix\n",
"//example 9.10.17\n",
"//page 407\n",
"s=%s\n",
"A=[0 3;-2 -5]\n",
"B=[1 1;1 1]\n",
"C=[2 1;1 0]\n",
"D=0;\n",
"[r c]=size(A);//size of matrix A\n",
"p=s*eye(r,c)-A;//s*I-A where I is identity matrix\n",
"r=inv(p)//inverse of sI-A\n",
"G=C*r*B//transfer matrix\n",
"disp(G,'transfer matrix=')"
   ]
   }
,
{
		   "cell_type": "markdown",
		   "metadata": {},
		   "source": [
			"## Example 9.10_20: Check_for_Contrallability_of_System.sce"
		   ]
		  },
  {
"cell_type": "code",
	   "execution_count": null,
	   "metadata": {
	    "collapsed": true
	   },
	   "outputs": [],
"source": [
"//caption:check_for_contrallability_of_system\n",
"//example 9.10.20\n",
"//page 410\n",
"A=[0 1 0;0 0 1;0 -2 -3]\n",
"B=[0 1;0 0;1 1]\n",
"P=cont_mat(A,B);\n",
"disp(P,'Controllability Matrix=');\n",
"S=[P(1) P(4) P(7);P(2) P(5) P(8);P(3) P(6) P(9)];//collecting columns from P to form a square matrix (3*3)\n",
"d=det(S);\n",
"if d==0\n",
"  printf('matrix is singular, so system is uncontrollable');\n",
"else\n",
"  printf('system is controllable');\n",
"end;"
   ]
   }
,
{
		   "cell_type": "markdown",
		   "metadata": {},
		   "source": [
			"## Example 9.10_21: Check_for_Contrallability_and_Observability.sce"
		   ]
		  },
  {
"cell_type": "code",
	   "execution_count": null,
	   "metadata": {
	    "collapsed": true
	   },
	   "outputs": [],
"source": [
"//caption:check_for_contrallability_and_observability_of_system\n",
"//example 9.10.21\n",
"//page 411\n",
"A=[0 1 0;0 0 1;-6 -11 -6]\n",
"B=[1 0 1]'\n",
"C=[10 5 1]\n",
"P=cont_mat(A,B);\n",
"disp(P,'Controllability Matrix=');\n",
"d=det(P)\n",
"if d==0\n",
"  printf('matrix is singular, so system is uncontrollable');\n",
"else\n",
"  printf('system is controllable');\n",
"end;\n",
"P1=obsv_mat(A,C);\n",
"disp(P1,'Observability Matrix=');\n",
"d1=det(P1)\n",
"if d1==0\n",
"  printf('matrix is singular, so system is unobservable');\n",
"else\n",
"  printf('system is observable');\n",
"end;"
   ]
   }
,
{
		   "cell_type": "markdown",
		   "metadata": {},
		   "source": [
			"## Example 9.10_22: Check_for_Contrallability_and_Observability.sce"
		   ]
		  },
  {
"cell_type": "code",
	   "execution_count": null,
	   "metadata": {
	    "collapsed": true
	   },
	   "outputs": [],
"source": [
"//caption:check_for_contrallability_and_observability_of_system\n",
"//example 9.10.21\n",
"//page 411\n",
"s=%s;\n",
"g=(10*(s+3))/((s+4)*(s+2)^2);\n",
"CL=syslin('c',g);\n",
"disp(CL,'Y(s)/U(s)=');\n",
"SS=tf2ss(CL)\n",
"[Ac,Bc,U,ind]=canon(SS(2),SS(3))\n",
"A=SS(2)\n",
"B=SS(3)\n",
"C=SS(4)\n",
"P=cont_mat(A,B);\n",
"P=round(P)\n",
"disp(P,'Controllability Matrix=');\n",
"d=det(P)\n",
"if d==0\n",
"  printf('matrix is singular, so system is uncontrollable');\n",
"else\n",
"  printf('system is controllable');\n",
"end;\n",
"P1=obsv_mat(A,C);\n",
"P1=round(P1);\n",
"disp(P1,'Observability Matrix=');\n",
"d1=det(P1)\n",
"if d1==0\n",
"  printf('matrix is singular, so system is unobservable');\n",
"else\n",
"  printf('system is observable');\n",
"end"
   ]
   }
,
{
		   "cell_type": "markdown",
		   "metadata": {},
		   "source": [
			"## Example 9.10_4_a: Obtain_State_Matrix.sce"
		   ]
		  },
  {
"cell_type": "code",
	   "execution_count": null,
	   "metadata": {
	    "collapsed": true
	   },
	   "outputs": [],
"source": [
"//caption:obtain_state_matrix\n",
"//example 9.10.4_a\n",
"//page 387\n",
"s=%s;\n",
"g=1/((s+1)*(s+3));\n",
"CL=syslin('c',g);\n",
"disp(CL,'C(s)/R(s)=');\n",
"SS=tf2ss(CL)\n",
"[Ac,Bc,U,ind]=canon(SS(2),SS(3))\n",
"disp(SS,'state space matrix=')\n",
"disp(Ac,'Ac',Bc,'Bc',U,'U',ind,'ind')"
   ]
   }
,
{
		   "cell_type": "markdown",
		   "metadata": {},
		   "source": [
			"## Example 9.10_4_b: Obtain_State_Matrix.sce"
		   ]
		  },
  {
"cell_type": "code",
	   "execution_count": null,
	   "metadata": {
	    "collapsed": true
	   },
	   "outputs": [],
"source": [
"//caption:obtain_state_matrix\n",
"//example 9.10.4_b\n",
"//page 387\n",
"clc;\n",
"s=%s;\n",
"g=(2*s+1)/(s^2+2);\n",
"CL=syslin('c',g);\n",
"disp(CL,'C(s)/R(s)=');\n",
"SS=tf2ss(CL)\n",
"[Ac,Bc,U,ind]=canon(SS(2),SS(3))\n",
"disp(SS,'state space matrix=')\n",
"disp(Ac,'Ac',Bc,'Bc',U,'U',ind,'ind')"
   ]
   }
,
{
		   "cell_type": "markdown",
		   "metadata": {},
		   "source": [
			"## Example 9.10_5: Obtain_State_Matrix.sce"
		   ]
		  },
  {
"cell_type": "code",
	   "execution_count": null,
	   "metadata": {
	    "collapsed": true
	   },
	   "outputs": [],
"source": [
"//caption:obtain_state_matrix\n",
"//example 9.10.5\n",
"//page 388\n",
"s=%s;\n",
"g=(s+3)/(s^2+3*s+4);\n",
"CL=syslin('c',g);\n",
"disp(CL,'C(s)/R(s)=');\n",
"SS=tf2ss(CL)\n",
"[Ac,Bc,U,ind]=canon(SS(2),SS(3))\n",
"disp(SS,'state space matrix=')\n",
"disp(Ac,'Ac',Bc,'Bc',U,'U',ind,'ind')"
   ]
   }
,
{
		   "cell_type": "markdown",
		   "metadata": {},
		   "source": [
			"## Example 9.10_6: Obtain_State_Matrix.sce"
		   ]
		  },
  {
"cell_type": "code",
	   "execution_count": null,
	   "metadata": {
	    "collapsed": true
	   },
	   "outputs": [],
"source": [
"//caption:obtain_state_matrix\n",
"//example 9.10.6\n",
"//page 389\n",
"s=%s;\n",
"g=(s^2+3*s+2)/(s^3+9*s^2+26*s+24);\n",
"CL=syslin('c',g);\n",
"disp(CL,'C(s)/R(s)=');\n",
"SS=tf2ss(CL)\n",
"[Ac,Bc,U,ind]=canon(SS(2),SS(3))\n",
"disp(SS,'state space matrix=')\n",
"disp(Ac,'Ac',Bc,'Bc',U,'U',ind,'ind')"
   ]
   }
,
{
		   "cell_type": "markdown",
		   "metadata": {},
		   "source": [
			"## Example 9.10_7: Obtain_State_Matrix.sce"
		   ]
		  },
  {
"cell_type": "code",
	   "execution_count": null,
	   "metadata": {
	    "collapsed": true
	   },
	   "outputs": [],
"source": [
"//caption:obtain_state_matrix\n",
"//example 9.10.7\n",
"//page 390\n",
"s=%s;\n",
"g=(s+3)/((s+1)*(s+2));\n",
"CL=syslin('c',g);\n",
"disp(CL,'C(s)/R(s)=');\n",
"SS=tf2ss(CL)\n",
"[Ac,Bc,U,ind]=canon(SS(2),SS(3))\n",
"disp(SS,'state space matrix=')\n",
"disp(Ac,'Ac',Bc,'Bc',U,'U',ind,'ind')"
   ]
   }
,
{
		   "cell_type": "markdown",
		   "metadata": {},
		   "source": [
			"## Example 9.10_9: Obtain_State_Matrix.sce"
		   ]
		  },
  {
"cell_type": "code",
	   "execution_count": null,
	   "metadata": {
	    "collapsed": true
	   },
	   "outputs": [],
"source": [
"//caption:obtain_state_matrix\n",
"//example 9.10.9\n",
"//page 392\n",
"s=%s;\n",
"g=(10*(s+3))/((s+4)*(s+2)^2);\n",
"CL=syslin('c',g);\n",
"disp(CL,'C(s)/R(s)=');\n",
"SS=tf2ss(CL)\n",
"[Ac,Bc,U,ind]=canon(SS(2),SS(3))\n",
"disp(SS,'state space matrix=')\n",
"disp(Ac,'Ac',Bc,'Bc',U,'U',ind,'ind')"
   ]
   }
,
{
		   "cell_type": "markdown",
		   "metadata": {},
		   "source": [
			"## Example 9.8_1: Check_for_Contrallability_of_System.sce"
		   ]
		  },
  {
"cell_type": "code",
	   "execution_count": null,
	   "metadata": {
	    "collapsed": true
	   },
	   "outputs": [],
"source": [
"//caption:check_for_contrallability_of_system\n",
"//example 9.8.1\n",
"//page 381\n",
"A=[1 1;0 -1]\n",
"B=[1;0]\n",
"P=cont_mat(A,B);\n",
"disp(P,'Controllability Matrix=');\n",
"d=determ(P)\n",
"if d==0\n",
"  printf('matrix is singular, so system is uncontrollable');\n",
"else\n",
"  printf('system is controllable');\n",
"end;"
   ]
   }
,
{
		   "cell_type": "markdown",
		   "metadata": {},
		   "source": [
			"## Example 9.8_2: Check_for_Contrallability_of_System.sce"
		   ]
		  },
  {
"cell_type": "code",
	   "execution_count": null,
	   "metadata": {
	    "collapsed": true
	   },
	   "outputs": [],
"source": [
"//caption:check_for_contrallability_of_system\n",
"//example 9.8.2\n",
"//page 381\n",
"A=[-2 0;0 -1]\n",
"B=[1;1]\n",
"P=cont_mat(A,B);\n",
"disp(P,'Controllability Matrix=');\n",
"d=determ(P)\n",
"if d==0\n",
"  printf('matrix is singular, so system is uncontrollable');\n",
"else\n",
"  printf('system is controllable');\n",
"end;"
   ]
   }
,
{
		   "cell_type": "markdown",
		   "metadata": {},
		   "source": [
			"## Example 9.9_1_a: Check_for_Observability_of_System.sce"
		   ]
		  },
  {
"cell_type": "code",
	   "execution_count": null,
	   "metadata": {
	    "collapsed": true
	   },
	   "outputs": [],
"source": [
"//caption:check_for_observability_of_system\n",
"//example 9.9.1_a\n",
"//page 383\n",
"A=[0 1;-2 -3]\n",
"B=[0;1]\n",
"C=[1 1]\n",
"P=obsv_mat(A,C);\n",
"disp(P,'Observability Matrix=');\n",
"d=determ(P)\n",
"if d==0\n",
"  printf('matrix is singular, so system is unobservable');\n",
"else\n",
"  printf('system is observable');\n",
"end;"
   ]
   }
,
{
		   "cell_type": "markdown",
		   "metadata": {},
		   "source": [
			"## Example 9.9_1_b: Check_for_Observability_of_System.sce"
		   ]
		  },
  {
"cell_type": "code",
	   "execution_count": null,
	   "metadata": {
	    "collapsed": true
	   },
	   "outputs": [],
"source": [
"//caption:check_for_observability_of_system\n",
"//example 9.9.1_b\n",
"//page 383\n",
"A=[-2 1;0 1]\n",
"B=[1;1]\n",
"C=[1 1]\n",
"P=obsv_mat(A,C);\n",
"disp(P,'Observability Matrix=');\n",
"d=determ(P)\n",
"if d==0\n",
"  printf('matrix is singular, so system is unobservable');\n",
"else\n",
"  printf('system is observable');\n",
"end;"
   ]
   }
],
"metadata": {
		  "kernelspec": {
		   "display_name": "Scilab",
		   "language": "scilab",
		   "name": "scilab"
		  },
		  "language_info": {
		   "file_extension": ".sce",
		   "help_links": [
			{
			 "text": "MetaKernel Magics",
			 "url": "https://github.com/calysto/metakernel/blob/master/metakernel/magics/README.md"
			}
		   ],
		   "mimetype": "text/x-octave",
		   "name": "scilab",
		   "version": "0.7.1"
		  }
		 },
		 "nbformat": 4,
		 "nbformat_minor": 0
}
