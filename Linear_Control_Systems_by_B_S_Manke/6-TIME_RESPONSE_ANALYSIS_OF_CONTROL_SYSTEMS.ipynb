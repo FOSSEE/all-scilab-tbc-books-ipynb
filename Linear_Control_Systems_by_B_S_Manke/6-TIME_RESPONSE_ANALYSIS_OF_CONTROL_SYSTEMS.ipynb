{
"cells": [
 {
		   "cell_type": "markdown",
	   "metadata": {},
	   "source": [
       "# Chapter 6: TIME RESPONSE ANALYSIS OF CONTROL SYSTEMS"
	   ]
	},
{
		   "cell_type": "markdown",
		   "metadata": {},
		   "source": [
			"## Example 6.10_10: Determine_Transfer_Function_Wn_zeta.sce"
		   ]
		  },
  {
"cell_type": "code",
	   "execution_count": null,
	   "metadata": {
	    "collapsed": true
	   },
	   "outputs": [],
"source": [
"//caption:determine_transfer_function,Wn,zeta\n",
"//example 6.10.10\n",
"//page 179\n",
"//J=moment of inertia,f=C,Ke=error detector gain,Wn=natural frequency, zeta=damping ratio,Km=torque constant\n",
"syms J f s\n",
"Ke=5.73;\n",
"Km=0.045;\n",
"n=sym('N1/N2')\n",
"n=subs(n,'N1/N2',1/10);\n",
"J=0.25*float(n^2);//referred to motor side\n",
"f=1*float(n^2);//referred to motor side\n",
"//from the block diagram given in fig 6.10.6 on page 179,\n",
"a=(Ke*Km)\n",
"b=1/(J*s^2+f*s)\n",
"c=(b*float(a))\n",
"G=(n*c);\n",
"G=simple(G)\n",
"H=1;\n",
"d=(1+G*H);\n",
"d=simple(d);\n",
"CL=G/d;\n",
"CL=simple(CL)\n",
"disp(CL,'C(s)/R(s)=');\n",
"e=poly([328800 127516 31879],'s','coeff')\n",
"printf('the characterstics eq. is:\n');\n",
"disp(e);\n",
"f=coeff(e)\n",
"Wn=sqrt((f(1,1)/f(1,3)))//natural_frequency\n",
"zeta=((f(1,2)/f(1,3))/(2*Wn))//damping ratio\n",
"//part(b)\n",
"syms Td\n",
"g=1+s*Td\n",
"h=(g*G)\n",
"i=1+h*H\n",
"i=simple(i);\n",
"CL2=(h/i)\n",
"CL2=simple(CL2);\n",
"disp(CL2,'C(s)/R(s)=');\n",
"poly(0,'s');\n",
"l=s^2+(10.32*Td+4)*s+10.32;\n",
"printf('on simplyfying the characterstics eq. is:');\n",
"disp(float(l));\n",
"Wn1=sqrt(10.32)//natural_frequency\n",
"//2*zeta1*Wn1=10.32*Td+4\n",
"zeta1=1;//as damping is critical\n",
"Td=(2*zeta1*Wn1-4)/10.32;\n",
"disp(Td,'time const. of advanced phase circuit,Td=');\n",
""
   ]
   }
,
{
		   "cell_type": "markdown",
		   "metadata": {},
		   "source": [
			"## Example 6.10_11: Determine_Characterstics_eq_and_Steady_State_Error.sce"
		   ]
		  },
  {
"cell_type": "code",
	   "execution_count": null,
	   "metadata": {
	    "collapsed": true
	   },
	   "outputs": [],
"source": [
"//caption:determine_characterstics_eq_and_steady_state_error\n",
"//example 6.10.11\n",
"//page 181\n",
"//J=moment of inertia,f=C,K=controller gain,Wn=natural frequency, zeta=damping ratio\n",
"syms f J K Kt\n",
"s=%s;\n",
"A=sym((1/(J*s^2+f*s)));\n",
"J=250;\n",
"K=8*10^4;\n",
"B=eval(A)\n",
"a=(K*B);\n",
"H1=s*Kt;\n",
"b=(1+a*H1);\n",
"b=simple(b);\n",
"CL1=a/b;\n",
"CL1=simple(CL1);\n",
"H=1;\n",
"c=1+CL1*H;\n",
"c=simple(c);\n",
"CL=CL1/c\n",
"CL=simple(CL);\n",
"disp(CL,'C(s)/R(s)=');\n",
"Wn=sqrt(80000/250)//natural frequency\n",
"//2*zeta*Wn=(80000*Kt+f)/250\n",
"zeta=1;//for critical damping\n",
"d=2*zeta*Wn;\n",
"v=[320 d 1];\n",
"CH=poly(v,'s','coeff');\n",
"r=float(5*2*%pi/60);\n",
"//steady state error for unit ramp input is:Ess= (2*zeta/Wn)\n",
"Ess=(2*zeta/Wn)*r;\n",
"disp(Ess,'steady_state_error=');"
   ]
   }
,
{
		   "cell_type": "markdown",
		   "metadata": {},
		   "source": [
			"## Example 6.10_12: determine_WnWd_zeta_and_steady_state_error.sce"
		   ]
		  },
  {
"cell_type": "code",
	   "execution_count": null,
	   "metadata": {
	    "collapsed": true
	   },
	   "outputs": [],
"source": [
"//caption:determine_Wn,Wd,zeta_and_steady_state_error\n",
"//example 6.10.12\n",
"//page 182\n",
"clc;\n",
"s=%s;\n",
"G=sym('25/(s*(s+5))');\n",
"G=simple(G);\n",
"H=1;\n",
"CL=G/.H;\n",
"CL=simple(CL);\n",
"disp(CL,'C(s)/R(s)=');\n",
"printf('the char. eq is:')\n",
"disp('s^2+5*s+25')\n",
"Wn=sqrt(25)//natural_frequency\n",
"//2*zeta*Wn=5\n",
"zeta=5/(2*Wn);//damping ratio\n",
"d=zeta*Wn;//damping_factor\n",
"z=sqrt(1-zeta^2);\n",
"Wd=Wn*z;//damped_frequency_of_oscillation\n",
"Mp=exp((-zeta*%pi)/z)*100;//%_max.peak_overshoot\n",
"//steady state error for unit ramp input is:Ess= (2*zeta/Wn)\n",
"Ess=(2*zeta/Wn);//steady state error\n",
"disp('part(a):')\n",
"disp(Wn,'natural_frequency,Wn=');\n",
"disp(zeta,'damping ratio,zeta=');\n",
"disp(Wd,'damped_frequency_of_oscillation,Wd=');\n",
"disp(Mp,'%_max.peak_overshoot,Mp=');\n",
"disp(Ess,'steady state error,Ess=');\n",
"//if damping ratio is increased from 0.5 to 0.75 by incorporating tachometer feedback\n",
"zeta=0.75;\n",
"H1=sym('s*Kt')//tachometer_feedback\n",
"CL1=G/(1+G*H1);\n",
"CL1=simple(CL1);\n",
"CL2=CL1/(1+H*CL1);\n",
"CL2=simple(CL2);\n",
"disp(CL2,'C(s)/R(s)=');\n",
"Wn=sqrt(25);\n",
"//2*zeta*Wn=25*Kt+5;\n",
"Kt=(2*zeta*Wn-5)/25;//tachometer_gain\n",
"Mp1=exp((-zeta*%pi)/sqrt(1-zeta^2))*100;//%_peak_overshoot\n",
"disp('After applying tachometer feedback:')\n",
"disp(Kt,'tachometer_gain,Kt=');\n",
"disp(Mp1,'%_peak_overshoot,Mp1=');"
   ]
   }
,
{
		   "cell_type": "markdown",
		   "metadata": {},
		   "source": [
			"## Example 6.10_13: determine_K_ts_tp_and_Mp.sce"
		   ]
		  },
  {
"cell_type": "code",
	   "execution_count": null,
	   "metadata": {
	    "collapsed": true
	   },
	   "outputs": [],
"source": [
"//caption:determine_K,ts,tp,Mp\n",
"//example 6.10.13\n",
"//page 184\n",
"clc;\n",
"syms K;\n",
"s=%s;\n",
"G=sym('K/(s*(s+6))');\n",
"H=0.2;\n",
"CL=G/(1+G*H);\n",
"CL=simple(CL);\n",
"Wn=sqrt(K/5)\n",
"zeta=0.7//(given) damping ratio\n",
"//2*zeta*Wn=6\n",
"Wn=6/(2*zeta);\n",
"K=Wn^2*5;\n",
"ts=4/(zeta*Wn);//settling_time\n",
"Mp=exp((-zeta*%pi)/sqrt(1-zeta^2))*100;//%_peak_overshoot\n",
"tp=%pi/(Wn*sqrt(1-zeta^2));//peak_time\n",
"disp(Wn,'natural_frequency,Wn=');\n",
"disp(Mp,'%_max.peak_overshoot,Mp=');\n",
"disp(ts,'settling_time,ts=');\n",
"disp(tp,'peak_time,tp=');"
   ]
   }
,
{
		   "cell_type": "markdown",
		   "metadata": {},
		   "source": [
			"## Example 6.10_14: determine_Mp_Ess_and_steady_state_value.sce"
		   ]
		  },
  {
"cell_type": "code",
	   "execution_count": null,
	   "metadata": {
	    "collapsed": true
	   },
	   "outputs": [],
"source": [
"//caption:determine_Mp,Ess_and_steady_state_value\n",
"//example 6.10.14\n",
"//page 185\n",
"//there are two inputs: R(s) is reference input and Tl(s)is load torque\n",
"clc;\n",
"s=%s;\n",
"A=sym('1/(0.15*s^2+0.9*s)');\n",
"K=6;\n",
"//while considering R(s),we take Tl(s)=0\n",
"G=(A*K);  //in series\n",
"H=1;\n",
"CL=G/(1+G*H);\n",
"CL=simple(CL);\n",
"disp(CL,'C(s)/R(s)=');\n",
"Wn=sqrt(40);//natural_frequency\n",
"//2*zeta*Wn=6\n",
"zeta=6/(2*Wn);//damping ratio\n",
"Mp=exp((-zeta*%pi)/sqrt(1-zeta^2))*100;//%_peak_overshoot\n",
"//steady state error for unit ramp input is:Ess= (2*zeta/Wn)\n",
"Ess=(2*zeta/Wn);//steady state error\n",
"disp(Mp,'%_peak_overshoot=');\n",
"disp(Ess,'steady state error=');\n",
"printf('Now considering effect of Tl(s),put R(s)=0\n');\n",
"H=6;\n",
"CL1=A/(1+A*H);\n",
"CL1=simple(CL1);\n",
"disp(CL1,'C(s)/-Tl(s)=');//-ve sign indicates output position lags behind the input\n",
"Tl=1/s;//given\n",
"C=-Tl*CL1;\n",
"Css=limit(s*C,s,0);\n",
"disp(Css,'steady state value of output=');"
   ]
   }
,
{
		   "cell_type": "markdown",
		   "metadata": {},
		   "source": [
			"## Example 6.10_16: determine_Wn_zeta_and_M.sce"
		   ]
		  },
  {
"cell_type": "code",
	   "execution_count": null,
	   "metadata": {
	    "collapsed": true
	   },
	   "outputs": [],
"source": [
"//caption:determine_Wn,zeta_and_Mp\n",
"//example 6.10.16\n",
"//page 187\n",
"s=%s;\n",
"num=1;\n",
"den=sym('s*(1+0.5*s)*(1+0.2*s)');\n",
"c=num/den;\n",
"c=simple(c);\n",
"disp(c,'C(s)/E(s)=');\n",
"G=c;\n",
"H=1;\n",
"CL=G/(1+G*H);\n",
"CL=simple(CL);\n",
"disp(CL,'C(s)/R(s)=');\n",
"A=pfss((10/(s^3+7*s^2+10*s+10)));\n",
"d=denom(A(1));\n",
"b=coeff(denom(A(1)))\n",
"printf('for oscillatory roots:')\n",
"Wn=sqrt(b(1,1));//natural_frequency\n",
"//2*zeta*Wn=1.5;\n",
"zeta=1.5/(2*Wn);//damping ratio\n",
"Mp=exp((-zeta*%pi)/sqrt(1-zeta^2))*100;//%_peak_overshoot\n",
"disp(Wn,'natural_frequency=');\n",
"disp(zeta,'damping ratio=');\n",
"disp(Mp,'%_peak_overshoot=');"
   ]
   }
,
{
		   "cell_type": "markdown",
		   "metadata": {},
		   "source": [
			"## Example 6.10_17: determine_Kp_Kv_and_Ka.sce"
		   ]
		  },
  {
"cell_type": "code",
	   "execution_count": null,
	   "metadata": {
	    "collapsed": true
	   },
	   "outputs": [],
"source": [
"//caption:determine_Kp_Kv_Ka\n",
"//example 6.10.17\n",
"//page 188\n",
"s=%s;\n",
"syms t;\n",
"num=sym('2*(s^2+3*s+20)');\n",
"den=sym('s*(s+2)*(s^2+4*s+10)');\n",
"GH=num/den;\n",
"GH=simple(GH);\n",
"disp(GH,'G(s)H(s)=');\n",
"input1=5;\n",
"Kp=limit(GH,s,0);//static positional error coefficient\n",
"Ess=5*(1/(1+Kp));//steady state error\n",
"e=(1/(%inf+1));\n",
"e=0;\n",
"Ess=e;\n",
"disp(Kp,'static positional error coefficient=');\n",
"disp(Ess,'steady state error=');\n",
"input2=4*t;\n",
"Kv=limit(s*GH,s,0);//static velocity error coefficient\n",
"Ess=(1/Kv)*4;//steady state error\n",
"disp(Kv,'static velocity error coefficient=');\n",
"disp(Ess,'steady state error=');\n",
"input3=(4*t^2)/2;\n",
"Ka=limit(s^2*GH,s,0);//static acceleration error coefficient\n",
"Ess=(1/Ka)*4;//steady state error\n",
"disp(Ka,'static acceleration error coefficient=');\n",
"disp('steady state error=');\n",
"disp('infinity')\n",
""
   ]
   }
,
{
		   "cell_type": "markdown",
		   "metadata": {},
		   "source": [
			"## Example 6.10_18: determine_Kp_Kv_and_Ka.sce"
		   ]
		  },
  {
"cell_type": "code",
	   "execution_count": null,
	   "metadata": {
	    "collapsed": true
	   },
	   "outputs": [],
"source": [
"//caption:determine_Kp_Kv_Ka\n",
"//example 6.10.17\n",
"//page 188\n",
"s=%s;\n",
"syms t K zeta Wn;\n",
"num=K;\n",
"den=sym('s*(s^2+2*zeta*Wn*s+Wn^2)');\n",
"G=num/den;\n",
"G=simple(G);\n",
"disp(G,'G(s)=');\n",
"Kp=limit(G,s,0);//static positional error coefficient\n",
"disp(Kp,'static positional error coefficient,Kp=');\n",
"Kv=limit(s*G,s,0);//static velocity error coefficient\n",
"disp(Kv,'static velocity error coefficient,Kv=');\n",
"Ka=limit(s^2*G,s,0);//static acceleration error coefficient\n",
"disp(Ka,'static acceleration error coefficient,Ka=');\n",
"printf('for(ii):');\n",
"num=sym('100*(s+2)*(s+40)');\n",
"den=sym('s^3*(s^2+4*s+200)');\n",
"GH=num/den;\n",
"GH=simple(GH);\n",
"disp(GH,'G(s)H(s)=');\n",
"Kp=limit(GH,s,0);//static positional error coefficient\n",
"disp(Kp,'static positional error coefficient,Kp=');\n",
"Kv=limit(s*GH,s,0);//static velocity error coefficient\n",
"disp(Kv,'static velocity error coefficient,Kv=');\n",
"Ka=limit(s^2*GH,s,0);//static acceleration error coefficient\n",
"disp(Ka,'static acceleration error coefficient,Ka=');"
   ]
   }
,
{
		   "cell_type": "markdown",
		   "metadata": {},
		   "source": [
			"## Example 6.10_19: determine_steady_state_error.sce"
		   ]
		  },
  {
"cell_type": "code",
	   "execution_count": null,
	   "metadata": {
	    "collapsed": true
	   },
	   "outputs": [],
"source": [
"//caption:determine_steady_state_error\n",
"//example 6.10.19\n",
"//page 189\n",
"s=%s;\n",
"syms K bta alpha G\n",
"num=sym('K*s+bta');\n",
"den=sym('s^2+alpha*s+bta');\n",
"CL=num/den;\n",
"disp(CL,'C(s)/R(s)=');//----(1)\n",
"H=1;\n",
"//also\n",
"cl=G/(1+G*H);\n",
"disp(cl,'also,C(s)/R(s)=');//------(2)\n",
"//from eq. (1) and (2), we get\n",
"G=num/(s^2+s*(alpha-K));\n",
"disp(G,'G(s)=');\n",
"B=1/(1+G);\n",
"B=simple(B);\n",
"disp(B,'E(s)/R(s)=');\n",
"R=1/s^2;\n",
"E=B*R;\n",
"E=simple(E);\n",
"Ess=limit(s*E,s,0);\n",
"disp(Ess,'steady state error=');"
   ]
   }
,
{
		   "cell_type": "markdown",
		   "metadata": {},
		   "source": [
			"## Example 6.10_1: time_response_for_step_function.sce"
		   ]
		  },
  {
"cell_type": "code",
	   "execution_count": null,
	   "metadata": {
	    "collapsed": true
	   },
	   "outputs": [],
"source": [
"//Caption:time_response_for_step_function\n",
"//example 6.10.1\n",
"//page 170\n",
"// we have defined parallel and series function which we are going to use here\n",
"exec parallel.sce;\n",
"exec series.sce;\n",
"s=%s;\n",
"syms t;\n",
"a=4/(s*(s+4))\n",
"b=s+1.2\n",
"c=s+0.8\n",
"d=a/(1+a)\n",
"e=parallel(b,c)\n",
"f=d/.e;\n",
"disp(f,'C(s)/R(s)=');//transfer function\n",
"//since input:r(t)=2, so R(s)=2/s;//step_function_of_magnitude_2\n",
"g=f*(2/s);\n",
"disp(g,'C(s)=');\n",
"[A]=pfss(8/(s*(s+2)*(s+6)))\n",
"F=ilaplace((8/(s*(s+2)*(s+6))),s,t);\n",
"disp(F,'time_response_for_step_function_of_magnitude_2,f(t)=')"
   ]
   }
,
{
		   "cell_type": "markdown",
		   "metadata": {},
		   "source": [
			"## Example 6.10_20: determine_steady_state_error_and_error_coefficient.sce"
		   ]
		  },
  {
"cell_type": "code",
	   "execution_count": null,
	   "metadata": {
	    "collapsed": true
	   },
	   "outputs": [],
"source": [
"//caption:determine_steady_state_error_and_error_coefficient\n",
"//example 6.10.20\n",
"//page 189\n",
"s=%s;\n",
"syms t a0 a1 a2;\n",
"r=a0+a1*t+(a2/2)*t^2;\n",
"//since for 'r' only upto 2nd order derivative is non zero, so only coeff. C0 C1 C2 exist\n",
"num=20;\n",
"den=sym('(s*(s+2))');\n",
"G=num/den;\n",
"disp(G,'G(s)=');\n",
"A=1/(1+G);\n",
"A=simple(A);\n",
"disp(A,'E(s)/R(s)=');\n",
"C0=limit(A,s,0);\n",
"B=sym('((20)/(s^2+2*s+20))');//on simplyfying A=1-B\n",
"d=diff(-B,s);\n",
"C1=limit(d,s,0);\n",
"d1=diff(-B,s,2);\n",
"C2=limit(d1,s,0);\n",
"r1=diff(r,t);\n",
"r2=diff(r,t,2);\n",
"e=(C0*r)+(C1*r1)+(C2*r2)/2;\n",
"disp(C0,'C0=');\n",
"disp(float(C1),'C1=');\n",
"disp(float(C2),'C2=');\n",
"disp(float(e),'steady_state_error,e=');"
   ]
   }
,
{
		   "cell_type": "markdown",
		   "metadata": {},
		   "source": [
			"## Example 6.10_21: determine_steady_state_error_and_error_coefficient.sce"
		   ]
		  },
  {
"cell_type": "code",
	   "execution_count": null,
	   "metadata": {
	    "collapsed": true
	   },
	   "outputs": [],
"source": [
"//caption:determine_steady_state_error_and_error_coefficient\n",
"//example 6.10.21\n",
"//page 191\n",
"s=%s;\n",
"syms t;\n",
"r=2+3*t+2*t^3;\n",
"//since for 'r' only upto 2nd order derivative is non zero, so only coeff. C0 C1 C2 exist\n",
"G=sym('1/(s*(s+2))');\n",
"A=1/(1+G);\n",
"A=simple(A);\n",
"disp(A,'E(s)/R(s)=');\n",
"C0=limit(A,s,0);\n",
"B=sym('((1)/(s^2+2*s+1))');//on simplyfying A=1-B\n",
"d=diff(-B,s);\n",
"C1=limit(d,s,0);\n",
"d1=diff(-B,s,2);\n",
"C2=limit(d1,s,0);\n",
"r1=diff(r,t);\n",
"r2=diff(r,t,2);\n",
"d2=diff(-B,s,3)\n",
"C3=limit(d2,s,0)\n",
"e=(C0*r)+(C1*r1)+(C2*r2)/2;\n",
"disp(float(e),'steady_state_error,e=');\n",
"disp(C0,'C0=');\n",
"disp(float(C1),'C1=');\n",
"disp(float(C2),'C2=');\n",
"disp(float(C3),'C3=')"
   ]
   }
,
{
		   "cell_type": "markdown",
		   "metadata": {},
		   "source": [
			"## Example 6.10_22: determine_voltage_Er_and_change_in_terminalvoltage.sce"
		   ]
		  },
  {
"cell_type": "code",
	   "execution_count": null,
	   "metadata": {
	    "collapsed": true
	   },
	   "outputs": [],
"source": [
"//caption:determine_reference_voltage,Er_and_%change_in_terminal_voltage\n",
"//example 6.10.22\n",
"//page 191\n",
"clc;\n",
"syms G H \n",
"s=%s;\n",
"A=G/.H;\n",
"disp(A,'E0/Er=');\n",
"G=200;  //gain\n",
"H=0.1;\n",
"B=eval(A);\n",
"disp(B,'E0/Er=');\n",
"E0=250;\n",
"Er=(1/B)*E0;\n",
"disp('for_closed_loop_system:');\n",
"disp(float(Er),'reference_voltage,Er=');\n",
"disp('for_open_loop_system:');\n",
"disp(float(E0/G),'Er=E0/G=');\n",
"\n",
"disp('part (b)')\n",
"disp('for closed loop system:')\n",
"disp('as the forward path gain is reduced by 10%, the new value of gain,G is 180 ')\n",
"G=180  //gain\n",
"pcG=10  //percentage change in G\n",
"S=1/(1+G*H)\n",
"disp(S,'sensitivity,S=');\n",
"disp('since S=1/19,     (given)')\n",
"pcM=S*pcG  //percentage change in overall gain,M\n",
"pcEo=pcM\n",
"disp(pcM,'percentage change in overall gain,M=')\n",
"disp(pcEo,'percentage change in terminal voltage,Eo=')\n",
"disp('for open loop system:')\n",
"pcEo=(25/250)*100   \n",
"disp(pcEo,'percentage change in terminal voltage,Eo=')"
   ]
   }
,
{
		   "cell_type": "markdown",
		   "metadata": {},
		   "source": [
			"## Example 6.10_23: determine_sensitivity_wrt_K_and_H.sce"
		   ]
		  },
  {
"cell_type": "code",
	   "execution_count": null,
	   "metadata": {
	    "collapsed": true
	   },
	   "outputs": [],
"source": [
"//caption:determine_sensitivity_w.r.t_K_and_H\n",
"//example 6.10.23\n",
"//page 192\n",
"syms Wn zeta K H;\n",
"s=%s;\n",
"A=sym('Wn^2/(s^2+2*zeta*Wn*s)');\n",
"B=(A*K);\n",
"CL=B/(1+B*H);\n",
"CL=simple(CL);\n",
"disp(CL,'overall_transfer_function:M(s)=');\n",
"disp('sensitivity_w.r.t_K:');\n",
"a=diff(CL,K);\n",
"b=K/CL;\n",
"b=simple(b);\n",
"Sk=a*b;\n",
"Sk=simple(Sk);\n",
"disp(Sk,'sensitivity_w.r.t_K,Sk=');\n",
"disp('sensitivity_w.r.t_H:');\n",
"c=diff(CL,H);\n",
"d=H/CL;\n",
"d=simple(d);\n",
"Sh=c*d;\n",
"Sh=simple(Sh);\n",
"disp(Sh,'sensitivity_w.r.t_H,Sh=');"
   ]
   }
,
{
		   "cell_type": "markdown",
		   "metadata": {},
		   "source": [
			"## Example 6.10_2: Time_Response_for_unit_Impulse_and_Step_function.sce"
		   ]
		  },
  {
"cell_type": "code",
	   "execution_count": null,
	   "metadata": {
	    "collapsed": true
	   },
	   "outputs": [],
"source": [
"//Caption:time_response_for_unit_impulse_and_step_function\n",
"//example 6.10.2\n",
"//page 171\n",
"//G(s)=(4*s+1)/4*(s^2);H(s)=1;\n",
"clc;\n",
"s=%s;\n",
"syms t;\n",
"G=(4*s+1)/(4*(s^2))//G(s)\n",
"b=1;\n",
"a=G/.(b);\n",
"disp(a,'C(s)/R(s)=');\n",
"//for unit impulse response R(s)=1 ; so C(s)=a;\n",
"disp('for unit impulse response R(s)=1 ; so C(s)=a;')\n",
"disp(a,'C(s)=');\n",
"c=ilaplace(a,s,t);\n",
"disp(c,'c(t)=');\n",
"//for unit step response R(s)=1/s\n",
"disp('for unit step response R(s)=1/s, so'); \n",
"d=a*(1/s);\n",
"disp(d,'C(s)=');\n",
"e=ilaplace(d,s,t);\n",
"disp(e,'c(t)=');"
   ]
   }
,
{
		   "cell_type": "markdown",
		   "metadata": {},
		   "source": [
			"## Example 6.10_3: Time_Response_for_Unit_Step_Function.sce"
		   ]
		  },
  {
"cell_type": "code",
	   "execution_count": null,
	   "metadata": {
	    "collapsed": true
	   },
	   "outputs": [],
"source": [
"//Caption:time_response_for_unit_step_function\n",
"//example 6.10.3\n",
"//page 172\n",
"//G(s)=2/(s*(s+3)\n",
"clc;\n",
"s=%s;\n",
"syms t;\n",
"G=2/(s*(s+3))//G(s)\n",
"b=1;\n",
"a=G/.(b);\n",
"disp(a,'C(s)/R(s)=');\n",
"disp('for unit step response R(s)=1/s'); \n",
"d=a*(1/s);\n",
"disp(d,'C(s)=');\n",
"e=ilaplace(d,s,t);\n",
"disp(e,'c(t)=');"
   ]
   }
,
{
		   "cell_type": "markdown",
		   "metadata": {},
		   "source": [
			"## Example 6.10_4: Time_Response_for_Unit_Step_Function.sce"
		   ]
		  },
  {
"cell_type": "code",
	   "execution_count": null,
	   "metadata": {
	    "collapsed": true
	   },
	   "outputs": [],
"source": [
"//Caption:time_response_for_unit_step_function\n",
"//example 6.10.4\n",
"//page 172\n",
"s=%s;\n",
"syms t;\n",
"a=(s+4);\n",
"b=1/(s*(s+2));\n",
"c=(a*b); //in series\n",
"d=0.5;\n",
"e=c/.d\n",
"f=1;\n",
"g=e/.f;\n",
"disp(g,'C(s)/R(s)=');\n",
"disp('for unit step response R(s)=1/s,  so'); \n",
"h=g*(1/s);\n",
"disp(h,'C(s)=');\n",
"[A]=pfss(h);\n",
"A(1)=(1/s)\n",
"F1=ilaplace(A(1),s,t)\n",
"//A(2)can be written as: A(2)=a1+a2\n",
"a1=-1/(4*(6+3.5*s+s^2));\n",
"a2=(-(s+1.75)/(6+3.5*s+s^2));           \n",
"F2=ilaplace(a1,s,t);\n",
"F3=ilaplace(a2,s,t);\n",
"//now multiplying by their coefficient\n",
"F1=(2/3)*F1;\n",
"F2=(1/6)*F2;\n",
"F3=(2/3)*F3;\n",
"//after adding F1,F2 and F3 and simplyfying we get time response which is denoted by 'c(t)' \n",
"disp('c(t)=((2-(%e^(-1.75*t)*(2*cos(1.71*t)-0.29*sin(1.71*t))))/3');//time_response"
   ]
   }
,
{
		   "cell_type": "markdown",
		   "metadata": {},
		   "source": [
			"## Example 6.10_5: Calculate_Wn_zeta_Wd_tp_Mp.sce"
		   ]
		  },
  {
"cell_type": "code",
	   "execution_count": null,
	   "metadata": {
	    "collapsed": true
	   },
	   "outputs": [],
"source": [
"//Caption:calculate_Wn,zeta,Wd,tp,Mp\n",
"//example 6.10.5\n",
"//page 174\n",
"//given G(s)=20/(s+1)*(s+2)\n",
"clc;\n",
"s=%s;\n",
"G=syslin('c',[20/((s+1)*(s+5))])//G(s):transfer function in forward path\n",
"H=1;//backward path transfer function\n",
"a=G/.H //closed loop transfer function\n",
"b=denom(a)\n",
"c=coeff(b)\n",
"//Wn^2=c(1,1)\n",
"Wn=sqrt(c(1,1))//natural frequency\n",
"disp(Wn,'natural frequency,Wn=')\n",
"//2*zeta*Wn=c(1,2)\n",
"zeta=c(1,2)/(2*Wn)//damping ratio\n",
"disp(zeta,'damping ratio,zeta=')\n",
"Wd=Wn*sqrt(1-zeta^2)//damped frequency\n",
"disp(Wd,'damping ratio,Wd=')\n",
"Tp=%pi/Wd//peak time\n",
"disp(Tp,'peak time,Tp=')\n",
"Mp=(exp(-(zeta*%pi)/sqrt(1-zeta^2)))*100//max. overshoot\n",
"disp(Mp,'max overshoot,Mp=')\n",
"t=(2*%pi)/(Wn*sqrt(1-zeta^2))//period of oscillation\n",
"disp(t,'time at which first overshoot occurs=')\n",
"disp(t,'period of oscillation,t=')\n",
"ts=4/(zeta*Wn)//settling time\n",
"disp(ts,'settling time,ts=')\n",
"N=Wd/(2*%pi)*ts//no. of oscillations completed before reaching steady state\n",
"disp(N,'no. of oscillations completed before reaching steady state,N=')"
   ]
   }
,
{
		   "cell_type": "markdown",
		   "metadata": {},
		   "source": [
			"## Example 6.10_6: Time_Response.sce"
		   ]
		  },
  {
"cell_type": "code",
	   "execution_count": null,
	   "metadata": {
	    "collapsed": true
	   },
	   "outputs": [],
"source": [
"//Caption:time_response\n",
"//example 6.10.6\n",
"//page 174\n",
"//Kt=torque constant,J=moment of inertia,f=coeff. of viscous friction\n",
"clc;\n",
"syms Kt J f t\n",
"s=%s;\n",
"Kt=360,J=10,f=60\n",
"b=1/(J*s^2+f*s);\n",
"G=(Kt*b)  //in series\n",
"H=1;//backward path transfer function\n",
"cl=G/.H;//closed_loop_transfer_function\n",
"d=denom(cl)/10;//taking 10 common from numerator and denominator for simplyfying closed_loop_transfer_function\n",
"f=numer(cl)/10;\n",
"CL=f/d;//closed_loop_transfer_function_after_simplifying\n",
"printf('overall transfer function= \n');\n",
"disp(CL,'C(s)/R(s)=');\n",
"//given R(s)=(50*(%pi/180))*(1/s);\n",
"R=(50*(%pi/180))*(1/s);\n",
"C=R*CL;\n",
"e=coeff(d)\n",
"//Wn^2=e(1,1)\n",
"Wn=sqrt(e(1,1))//natural frequency\n",
"//2*zeta*Wn=c(1,2)\n",
"zeta=e(1,2)/(2*Wn)//damping ratio\n",
"//c(t):time_response_expression\n",
"c=(5*%pi/18)*(1-(exp(-zeta*Wn*t)*sin(Wn*sqrt(1-zeta^2)*t+atan(sqrt(1-zeta^2)/zeta)))/sqrt(1-zeta^2));\n",
"c=float(c)\n",
"disp(c,'c(t)=')"
   ]
   }
,
{
		   "cell_type": "markdown",
		   "metadata": {},
		   "source": [
			"## Example 6.10_7: determine_factor_by_which_K_should_be_reduced.sce"
		   ]
		  },
  {
"cell_type": "code",
	   "execution_count": null,
	   "metadata": {
	    "collapsed": true
	   },
	   "outputs": [],
"source": [
"//caption:determine_factor_by_which_K_should_be_reduced\n",
"//example 6.10.7\n",
"//page 175\n",
"syms T K //K=forward_path_gain,T=time_constant\n",
"s=%s;\n",
"G=K/(s*(s*T+1));\n",
"G=simple(G);\n",
"printf('the_forward_path_transfer_function: \n' );\n",
"disp(G,'G(s)=');\n",
"H=1;//backward path transfer function\n",
"CL=G/.H;\n",
"CL=simple(CL);\n",
"printf('the_overlall_transfer_function: \n' );\n",
"disp(CL,'C(s)/R(s)=');\n",
"printf('the_characterstic_equation_is:\n ');\n",
"disp('s^2+s/T+K/T=0');\n",
"//from char. eq. we get Wn^2=K/T and 2*zeta*Wn=1/T, so\n",
"Wn=sqrt(K/T);//natural frequency\n",
"zeta=(1/2)*sqrt(1/K*T)\n",
"//let K1 be forward path gain when Mp1=60% and zeta1 be corresponding damping factor\n",
"syms K1 K2 zeta1 zeta2\n",
"Mp1=(exp(-(zeta1*%pi)/sqrt(1-zeta1^2)))*100//max. overshoot\n",
"//on solving we get :\n",
"zeta1=0.158\n",
"//similarly let K2 be forward path gain when Mp2=20% and zeta2 be corresponding damping factor, which gives\n",
"zeta2=0.447\n",
"//assuming time const. T to be const. we get\n",
"k=(K1/K2);\n",
"k=(zeta1/zeta2)^2;\n",
"disp(k,'K1/K2=');\n",
"\n",
"\n",
""
   ]
   }
,
{
		   "cell_type": "markdown",
		   "metadata": {},
		   "source": [
			"## Example 6.10_8: Determine_Steady_State_Speed_and_Error.sce"
		   ]
		  },
  {
"cell_type": "code",
	   "execution_count": null,
	   "metadata": {
	    "collapsed": true
	   },
	   "outputs": [],
"source": [
"//caption:determine_steady_state_speed_and_error\n",
"//example 6.10.8\n",
"//page 176\n",
"//Tm=torque constant,J=moment of inertia,f=coeff. of viscous friction, E=error detector gain\n",
"syms Tm J f t E s\n",
"Tm=75;J=10;f=5;E=1;\n",
"a=(Tm*E);\n",
"b=1/(J*s+f);\n",
"c=(a*b);\n",
"H=1;//backward path transfer function\n",
"CL=c/.H;\n",
"printf('the_overlall_transfer_function: \n' );\n",
"disp(CL,'Wo(s)/Wr(s)=');\n",
"//since Wr(s)=(2*%pi)*(1/s)\n",
"q=bfloat((2*%pi),2)\n",
"Wr=q*(1/s)\n",
"Wo=CL*Wr;\n",
"wo=ilaplace(Wo,s,t)\n",
"printf('expression_relating_load_speed_and_time:\n');\n",
"disp(wo,'wo(t)=');\n",
"a=Wo*s\n",
"Woss=limit(a,s,0);//steady state speed\n",
"Woss=dbl(Woss);\n",
"disp(Woss,'steady state speed=');\n",
"We=Wr*(10*s+5)/(10*s+80);\n",
"Wess=limit(s*We,s,0);//steady state error\n",
"Wess=dbl(Wess);\n",
"disp(Wess,'steady state error=');\n",
""
   ]
   }
,
{
		   "cell_type": "markdown",
		   "metadata": {},
		   "source": [
			"## Example 6.10_9: determine_J_f_K.sce"
		   ]
		  },
  {
"cell_type": "code",
	   "execution_count": null,
	   "metadata": {
	    "collapsed": true
	   },
	   "outputs": [],
"source": [
"//caption:determine_J,f,K\n",
"//example 6.10.9\n",
"//page 178\n",
"//J=moment of inertia,f=C,K=forward path gain,Wn=natural frequency, zeta=damping ratio\n",
"syms J f K s zeta Wn\n",
"CL=1/(J*s^2+f*s+K);\n",
"printf('given:transfer function is:\n');\n",
"disp(CL,'theta(s)/T(s)=');\n",
"T=10*(1/s);\n",
"theta=T*CL;\n",
"theta_ss=limit(s*theta,s,0)//steady_state_value\n",
"printf('given:theta_ss=0.5\n so K=10/0.5');\n",
"theta_ss=0.5;\n",
"K=10/theta_ss;\n",
"disp(K,'forward path gain,K=');\n",
"Mp=0.06;//max.peak overshoot (given)--------(1)\n",
"Mp=exp((-zeta*%pi)/sqrt(1-zeta^2))//---------(2)\n",
"//from eq. (1) and (2), we get\n",
"zeta=0.66;\n",
"tp=%pi/(Wn*(sqrt(1-zeta^2)));//-------(3)\n",
"tp=1//(given)\n",
"Wn=%pi/(tp*sqrt(1-zeta^2));\n",
"//also Wn=sqrt(K/J);\n",
"J=K/Wn^2;\n",
"//also 2*zeta*Wn=f/J\n",
"f=J*2*zeta*Wn;\n",
"disp(J,'moment of inertia,J=');\n",
"disp(f,'moment of inertia,f=');"
   ]
   }
],
"metadata": {
		  "kernelspec": {
		   "display_name": "Scilab",
		   "language": "scilab",
		   "name": "scilab"
		  },
		  "language_info": {
		   "file_extension": ".sce",
		   "help_links": [
			{
			 "text": "MetaKernel Magics",
			 "url": "https://github.com/calysto/metakernel/blob/master/metakernel/magics/README.md"
			}
		   ],
		   "mimetype": "text/x-octave",
		   "name": "scilab",
		   "version": "0.7.1"
		  }
		 },
		 "nbformat": 4,
		 "nbformat_minor": 0
}
