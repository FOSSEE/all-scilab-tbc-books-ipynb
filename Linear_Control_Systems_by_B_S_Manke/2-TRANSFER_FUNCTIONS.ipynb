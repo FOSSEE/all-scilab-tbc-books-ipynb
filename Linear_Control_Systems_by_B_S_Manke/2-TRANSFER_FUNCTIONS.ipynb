{
"cells": [
 {
		   "cell_type": "markdown",
	   "metadata": {},
	   "source": [
       "# Chapter 2: TRANSFER FUNCTIONS"
	   ]
	},
{
		   "cell_type": "markdown",
		   "metadata": {},
		   "source": [
			"## Example 2.4_1: pole_zero_plot.sce"
		   ]
		  },
  {
"cell_type": "code",
	   "execution_count": null,
	   "metadata": {
	    "collapsed": true
	   },
	   "outputs": [],
"source": [
"//Caption:pole_zero_Plot\n",
"// example 2.4.1\n",
"//page 19\n",
"//transfer function:G(s)=(1/2((s^2+4)*(1+2.5*s))/((s^2+2)*(1+0.5*s)))\n",
"s=%s;\n",
"G=syslin('c',(1/2*((s^2+4)*(1+2.5*s))/((s^2+2)*(1+0.5*s))));\n",
"disp(G,'G(s)=');\n",
"x=plzr(G)\n",
"xtitle('pole-zero_configuration','Real_part','Img_part');\n",
"// value at s=2\n",
"a=2;\n",
"g=(1/2*((a^2+4)*(1+2.5*a))/((a^2+2)*(1+0.5*a)));\n",
"disp(g,'G(2)=');"
   ]
   }
,
{
		   "cell_type": "markdown",
		   "metadata": {},
		   "source": [
			"## Example 2.4_2: final_value.sce"
		   ]
		  },
  {
"cell_type": "code",
	   "execution_count": null,
	   "metadata": {
	    "collapsed": true
	   },
	   "outputs": [],
"source": [
"//Caption:final_value\n",
"// example 2.4.2\n",
"//page 20\n",
"//refer to fig.2.4.2 given on page 20\n",
"//poles are located at s=0,-2 and -4\n",
"//zero at s=-3\n",
"s=%s;\n",
"syms K;\n",
"g=syslin('c',((s+3))/(s*(s+2)*(s+4)));//transfer function\n",
"G=K*g;//transfer function\n",
"disp(G,'G(s)=');\n",
"//G(s)=3.2 at s=1;\n",
"//on solving we find K=12\n",
"K=12;\n",
"G=K*g;\n",
"disp(G,'G(s)=')"
   ]
   }
],
"metadata": {
		  "kernelspec": {
		   "display_name": "Scilab",
		   "language": "scilab",
		   "name": "scilab"
		  },
		  "language_info": {
		   "file_extension": ".sce",
		   "help_links": [
			{
			 "text": "MetaKernel Magics",
			 "url": "https://github.com/calysto/metakernel/blob/master/metakernel/magics/README.md"
			}
		   ],
		   "mimetype": "text/x-octave",
		   "name": "scilab",
		   "version": "0.7.1"
		  }
		 },
		 "nbformat": 4,
		 "nbformat_minor": 0
}
