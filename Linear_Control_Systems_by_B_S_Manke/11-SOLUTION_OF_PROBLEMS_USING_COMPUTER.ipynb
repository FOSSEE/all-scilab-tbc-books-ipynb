{
"cells": [
 {
		   "cell_type": "markdown",
	   "metadata": {},
	   "source": [
       "# Chapter 11: SOLUTION OF PROBLEMS USING COMPUTER"
	   ]
	},
{
		   "cell_type": "markdown",
		   "metadata": {},
		   "source": [
			"## Example 11.10_a: calculate_tr_Tp_Mp.sce"
		   ]
		  },
  {
"cell_type": "code",
	   "execution_count": null,
	   "metadata": {
	    "collapsed": true
	   },
	   "outputs": [],
"source": [
"//Caption:calculate_tr,Tp,Mp\n",
"//example 11_10_a\n",
"//page 478\n",
"s=%s;\n",
"G=16/(s^2+1.6*s)\n",
"H=1;\n",
"CL=G/.H\n",
"disp(CL,'C(s)/R(s)=');\n",
"b=denom(CL)\n",
"c=coeff(b)\n",
"//Wn^2=c(1,1)\n",
"Wn=sqrt(c(1,1))//natural frequency\n",
"//2*zeta*Wn=c(1,2)\n",
"zeta=c(1,2)/(2*Wn)//damping ratio\n",
"Wd=Wn*sqrt(1-zeta^2)//damped frequency\n",
"Mp=(exp(-(zeta*%pi)/sqrt(1-zeta^2)))*100//max. overshoot\n",
"tr=(%pi-atan(sqrt(1-zeta^2)/zeta))/(Wn*sqrt(1-zeta^2))//rise time\n",
"Tp=%pi/Wd//peak time\n",
"disp(Tp,'peak time=');\n",
"disp(Mp,'max. peak overshoot=')\n",
"disp(tr,'rise time=')"
   ]
   }
,
{
		   "cell_type": "markdown",
		   "metadata": {},
		   "source": [
			"## Example 11.10_b: calculate_Td_tr_Tp_Mp.sce"
		   ]
		  },
  {
"cell_type": "code",
	   "execution_count": null,
	   "metadata": {
	    "collapsed": true
	   },
	   "outputs": [],
"source": [
"//Caption:calculate_Td,tr,Tp,Mp\n",
"//example 11_10_b\n",
"//page 478\n",
"s=%s;\n",
"syms Td\n",
"G=16/(s^2+1.6*s)\n",
"G1=1+s*Td\n",
"H=1;\n",
"a=G*G1\n",
"CL=a/.H\n",
"CL=simple(CL)\n",
"disp(CL,'C(s)/R(s)=');\n",
"zeta=0.8//given\n",
"//since zeta=0.8 so 2*zeta*Wn=1.6+16*Td\n",
"Wn=sqrt(16)\n",
"//so on solving \n",
"Td=0.3\n",
"//so transfer function takes the form:\n",
"CL1=(16+4.8*s)/(s^2+6.4*s+6)\n",
"disp(CL1,'C(s)/R(s)=');\n",
"Wn1=sqrt(16)\n",
"//2*zeta1*Wn1=6.4\n",
"zeta1=6.4/(2*Wn1)//damping ratio\n",
"Wd=Wn1*sqrt(1-zeta1^2)//damped frequency\n",
"Mp=(exp(-(zeta1*%pi)/sqrt(1-zeta1^2)))*100//max. overshoot\n",
"tr=(%pi-atan(sqrt(1-zeta1^2)/zeta1))/(Wn1*sqrt(1-zeta1^2))//rise time\n",
"Tp=%pi/Wd//peak time\n",
"disp(Tp,'peak time=');\n",
"disp(Mp,'max. peak overshoot=')\n",
"disp(tr,'rise time=')"
   ]
   }
,
{
		   "cell_type": "markdown",
		   "metadata": {},
		   "source": [
			"## Example 11.11: expression_for_unit_step_response.sce"
		   ]
		  },
  {
"cell_type": "code",
	   "execution_count": null,
	   "metadata": {
	    "collapsed": true
	   },
	   "outputs": [],
"source": [
"//Caption:expression_for_unit_step_response\n",
"// example 11_11\n",
"//page 481\n",
"syms G1 G2 G3 H1 t;\n",
"s=%s;\n",
"G1=s+1;\n",
"G2=1/(s+2);\n",
"H2=1/(s*(s+1));\n",
"H1=1/(s+2);\n",
"a=G1/(1+G1*H1);\n",
"b=a/(1+a*H2)\n",
"y=b*G2;\n",
"disp(y,'C(s)/R(s)=')\n",
"//for unit step response R(s)=1/s;\n",
"C=y*(1/s)\n",
"c=ilaplace(C,s,t)\n",
"disp(c,'expression_for_unit_step_response_is=')"
   ]
   }
,
{
		   "cell_type": "markdown",
		   "metadata": {},
		   "source": [
			"## Example 11.12: unit_step_and_impulse_response.sce"
		   ]
		  },
  {
"cell_type": "code",
	   "execution_count": null,
	   "metadata": {
	    "collapsed": true
	   },
	   "outputs": [],
"source": [
"//Caption:unit_step_and_impulse_response\n",
"//example 11_12\n",
"//page 482\n",
"s=%s;\n",
"syms t;\n",
"G=(4*s+1)/(4*s^2)\n",
"H=1;\n",
"CL=G/.H\n",
"disp(CL,'C(s)/R(s)=')\n",
"y=ilaplace(CL,s,t);\n",
"disp(y,'unit impulse response,c(t)=');\n",
"//for unit step response R(s)=1/s;\n",
"C=CL*(1/s)\n",
"c=ilaplace(C,s,t)\n",
"disp(c,'expression_for_unit_step_response_is=')"
   ]
   }
,
{
		   "cell_type": "markdown",
		   "metadata": {},
		   "source": [
			"## Example 11.13: determine_transfer_function.sce"
		   ]
		  },
  {
"cell_type": "code",
	   "execution_count": null,
	   "metadata": {
	    "collapsed": true
	   },
	   "outputs": [],
"source": [
"//Caption:determine_transfer_function\n",
"//example 11_13\n",
"//page 483\n",
"syms t;\n",
"f=exp(-t)*(1-cos(2*t))\n",
"F=laplace(f,t,s);\n",
"disp(F,'F(s)=')"
   ]
   }
,
{
		   "cell_type": "markdown",
		   "metadata": {},
		   "source": [
			"## Example 11.14: determine_Wn_Wd_Tp_zeta_and_steady_state_error.sce"
		   ]
		  },
  {
"cell_type": "code",
	   "execution_count": null,
	   "metadata": {
	    "collapsed": true
	   },
	   "outputs": [],
"source": [
"//caption:determine_Wn,Wd,Tp,zeta_and_steady_state_error\n",
"//example 11_14\n",
"//page 484\n",
"s=%s;\n",
"syms t;\n",
"G=20/((s+5)*(s+1))\n",
"H=1;\n",
"CL=G/.H\n",
"disp(CL,'C(s)/R(s)=')\n",
"b=denom(CL)\n",
"disp(0,b,'=','the char. eq is:',)\n",
"Wn=sqrt(25)//natural_frequency\n",
"//2*zeta*Wn=6\n",
"zeta=6/(2*Wn);//damping ratio\n",
"d=zeta*Wn;//damping_factor\n",
"z=sqrt(1-zeta^2);\n",
"Wd=Wn*z;//damped_frequency_of_oscillation\n",
"Mp=exp((-zeta*%pi)/z)*100;//%_max.peak_overshoot\n",
"Tp=%pi/Wd//peak time\n",
"tfirst=(2*%pi)/Wd   //time for first under shoot\n",
"period=(2*%pi)/Wd    //period of oscillation\n",
"ts=4/(zeta*Wn)//settling time\n",
"N=(Wd/(2*%pi))*ts//no. of oscillations completed before reaching steady state\n",
"disp(Wn,'natural frequency=');\n",
"disp(zeta,'damping ratio=');\n",
"disp(Wd,'damped frequency of oscillation=');\n",
"disp(Tp,'peak time=');\n",
"disp(Mp,'%_max.peak overshoot=');\n",
"disp(tfirst,'time for first under shoot=');\n",
"disp(period,'period of oscillation=');\n",
"disp(N,'no. of oscillations completed before reaching steady state=');"
   ]
   }
,
{
		   "cell_type": "markdown",
		   "metadata": {},
		   "source": [
			"## Example 11.15: determine_Wn_Wd_zeta_and_steady_state_error.sce"
		   ]
		  },
  {
"cell_type": "code",
	   "execution_count": null,
	   "metadata": {
	    "collapsed": true
	   },
	   "outputs": [],
"source": [
"//caption:determine_Wn,Wd,zeta_and_steady_state_error\n",
"//example 11_15\n",
"//page 484\n",
"s=%s;\n",
"G=sym('25/(s*(s+5))');\n",
"G=simple(G);\n",
"H=1;\n",
"CL=G/.H;\n",
"CL=simple(CL);\n",
"disp(CL,'C(s)/R(s)=');\n",
"printf('the char. eq is:')\n",
"disp('s^2+5*s+25')\n",
"Wn=sqrt(25)//natural_frequency\n",
"//2*zeta*Wn=5\n",
"zeta=5/(2*Wn);//damping ratio\n",
"d=zeta*Wn;//damping_factor\n",
"z=sqrt(1-zeta^2);\n",
"Wd=Wn*z;//damped_frequency_of_oscillation\n",
"Mp=exp((-zeta*%pi)/z)*100;//%_max.peak_overshoot\n",
"//steady state error for unit ramp input is:Ess= (2*zeta/Wn)\n",
"Ess=(2*zeta/Wn);//steady state error\n",
"disp('part(a):')\n",
"disp(Wn,'natural_frequency=');\n",
"disp(zeta,'damping ratio=');\n",
"disp(Wd,'damped_frequency_of_oscillation=');\n",
"disp(Mp,'%_max.peak_overshoot=');\n",
"disp(Ess,'steady state error=');\n",
"//if damping ratio is increased from 0.5 to 0.75 by incorporating tachometer feedback\n",
"zeta=0.75;\n",
"H1=sym('s*Kt')//tachometer_feedback\n",
"CL1=G/(1+G*H1);\n",
"CL1=simple(CL1);\n",
"CL2=CL1/(1+H*CL1);\n",
"CL2=simple(CL2);\n",
"disp(CL2,'C(s)/R(s)=');\n",
"Wn=sqrt(25);\n",
"//2*zeta*Wn=25*Kt+5;\n",
"Kt=(2*zeta*Wn-5)/25;//tachometer_gain\n",
"Mp1=exp((-zeta*%pi)/sqrt(1-zeta^2))*100;//%_peak_overshoot\n",
"disp('After applying tachometer feedback:')\n",
"disp(Kt,'tachometer_gain=');\n",
"disp(Mp1,'%_peak_overshoot=');"
   ]
   }
,
{
		   "cell_type": "markdown",
		   "metadata": {},
		   "source": [
			"## Example 11.16: determine_Kp_Kv_Ka.sce"
		   ]
		  },
  {
"cell_type": "code",
	   "execution_count": null,
	   "metadata": {
	    "collapsed": true
	   },
	   "outputs": [],
"source": [
"//caption:determine_Kp_Kv_Ka\n",
"//example 11_16\n",
"//page 485\n",
"s=%s;\n",
"syms t;\n",
"num=10\n",
"den=sym('s^2+6*s+10');\n",
"GH=num/den;\n",
"GH=simple(GH);\n",
"disp(GH,'G(s)H(s)=');\n",
"Kp=limit(GH,s,0);//static positional error coefficient\n",
"disp(Kp,'static positional error coefficient=');\n",
"Kv=limit(s*GH,s,0);//static velocity error coefficient\n",
"disp(Kv,'static velocity error coefficient=');\n",
"Ka=limit(s^2*GH,s,0);//static acceleration error coefficient\n",
"disp(Ka,'static acceleration error coefficient=');"
   ]
   }
,
{
		   "cell_type": "markdown",
		   "metadata": {},
		   "source": [
			"## Example 11.17: determine_Kp_Kv_Ka.sce"
		   ]
		  },
  {
"cell_type": "code",
	   "execution_count": null,
	   "metadata": {
	    "collapsed": true
	   },
	   "outputs": [],
"source": [
"//caption:determine_Kp_Kv_Ka\n",
"//example 11_16\n",
"//page 485\n",
"s=%s;\n",
"syms t;\n",
"num=sym('100*(s+2)*(s+40)');\n",
"den=sym('(s^3*(s^2+4*s+200))');\n",
"GH=num/den;\n",
"GH=simple(GH);\n",
"disp(GH,'G(s)H(s)=');\n",
"Kp=limit(GH,s,0);//static positional error coefficient\n",
"disp(Kp,'static positional error coefficient=');\n",
"Kv=limit(s*GH,s,0);//static velocity error coefficient\n",
"disp(Kv,'static velocity error coefficient=');\n",
"Ka=limit(s^2*GH,s,0);//static acceleration error coefficient\n",
"disp(Ka,'static acceleration error coefficient=');"
   ]
   }
,
{
		   "cell_type": "markdown",
		   "metadata": {},
		   "source": [
			"## Example 11.18: determine_Kp_Kv_Ka.sce"
		   ]
		  },
  {
"cell_type": "code",
	   "execution_count": null,
	   "metadata": {
	    "collapsed": true
	   },
	   "outputs": [],
"source": [
"//caption:determine_Kp_Kv_Ka\n",
"//example 11_18\n",
"//page 488\n",
"s=%s;\n",
"syms t;\n",
"num=sym('2*(s^2+3*s+20)');\n",
"den=sym('s*(s+2)*(s^2+4*s+10)');\n",
"GH=num/den;\n",
"GH=simple(GH);\n",
"disp(GH,'G(s)H(s)=');\n",
"input1=5;\n",
"Kp=limit(GH,s,0);//static positional error coefficient\n",
"Ess=5*(1/(1+Kp));//steady state error\n",
"e=(1/(%inf+1));\n",
"e=0;\n",
"Ess=e;\n",
"disp(Kp,'static positional error coefficient=');\n",
"disp(Ess,'steady state error=');\n",
"input2=4*t;\n",
"Kv=limit(s*GH,s,0);//static velocity error coefficient\n",
"Ess=(1/Kv)*4;//steady state error\n",
"disp(Kv,'static velocity error coefficient=');\n",
"disp(Ess,'steady state error=');\n",
"input3=(4*t^2)/2;\n",
"Ka=limit(s^2*GH,s,0);//static acceleration error coefficient\n",
"Ess=(1/Ka)*4;//steady state error\n",
"disp(Ka,'static acceleration error coefficient=');\n",
"disp('steady state error=');\n",
"disp('infinity')\n",
""
   ]
   }
,
{
		   "cell_type": "markdown",
		   "metadata": {},
		   "source": [
			"## Example 11.19: determine_transfer_function.sce"
		   ]
		  },
  {
"cell_type": "code",
	   "execution_count": null,
	   "metadata": {
	    "collapsed": true
	   },
	   "outputs": [],
"source": [
"//Caption:determine_transfer_function\n",
"//example 11_19\n",
"//page 489\n",
"syms t;\n",
"s=%s;\n",
"c=0.5+(1.25*exp(-t))-(1.75*exp(-12*t));\n",
"C=laplace(c,t,s);\n",
"disp(C,'C(s)=')"
   ]
   }
,
{
		   "cell_type": "markdown",
		   "metadata": {},
		   "source": [
			"## Example 11.1: pole_zero_Plot.sce"
		   ]
		  },
  {
"cell_type": "code",
	   "execution_count": null,
	   "metadata": {
	    "collapsed": true
	   },
	   "outputs": [],
"source": [
"//Caption:pole_zero_plot\n",
"// example 11_1\n",
"//page 468\n",
"//transfer function:G(s)=((8*(s+3)*(s+4))/(s*(s+2)*(s^2+2*s+2)))\n",
"s=%s;\n",
"G=syslin('c',((8*(s+3)*(s+4))/(s*(s+2)*(s^2+2*s+2))));\n",
"disp(G,'G(s)=');\n",
"x=plzr(G)\n",
"xgrid(2)"
   ]
   }
,
{
		   "cell_type": "markdown",
		   "metadata": {},
		   "source": [
			"## Example 11.21_a: roots_of_characterstics_equatio.sce"
		   ]
		  },
  {
"cell_type": "code",
	   "execution_count": null,
	   "metadata": {
	    "collapsed": true
	   },
	   "outputs": [],
"source": [
"//Caption:roots_of_characterstics_equation\n",
"//example 11_21_a\n",
"//page 491\n",
"s=%s;\n",
"num=210\n",
"den=sym('s*(s+2)*(s^2+12*s+6)');\n",
"G=num/den;\n",
"G=simple(G);\n",
"H=1;\n",
"n1=poly([210],'s','coeff');\n",
"d1=poly([210 192 390 44 1],'s','coeff');\n",
"CL=syslin('c',n1,d1)\n",
"disp(CL,'C(s)/R(s)=')\n",
"b=denom(CL)\n",
"disp(0,'=',b,'the char. eq is:',)\n",
"r=roots(b);\n",
"disp(r,'roots of char. eq. are=');"
   ]
   }
,
{
		   "cell_type": "markdown",
		   "metadata": {},
		   "source": [
			"## Example 11.21_b: bode_plot.sce"
		   ]
		  },
  {
"cell_type": "code",
	   "execution_count": null,
	   "metadata": {
	    "collapsed": true
	   },
	   "outputs": [],
"source": [
"//Caption:bode_plot\n",
"//example 11_21_b\n",
"//page 491\n",
"s=%s;\n",
"num=210\n",
"den=(s*(s+2)*(s^2+12*s+6));\n",
"g=num/den;\n",
"G=syslin('c',g)\n",
"fmin=0.01; \n",
"fmax=100; \n",
"bode(G, fmin, fmax) \n",
"show_margins(G)\n",
"gm=g_margin(G)\n",
"pm=p_margin(G)\n",
"disp(gm,'gain_margin=');\n",
"disp(pm,'phase_margin=');"
   ]
   }
,
{
		   "cell_type": "markdown",
		   "metadata": {},
		   "source": [
			"## Example 11.22: gain_margin_and_phase_margin.sce"
		   ]
		  },
  {
"cell_type": "code",
	   "execution_count": null,
	   "metadata": {
	    "collapsed": true
	   },
	   "outputs": [],
"source": [
"//caption:gain_margin_and_phase_margin\n",
"//example 11_22\n",
"//page 493\n",
"s=%s;\n",
"g=((2*(s+0.25))/(s^2*(s+1)*(s+0.5)));\n",
"G=syslin('c',g)\n",
"fmin=0.1; \n",
"fmax=100; \n",
"bode(G, fmin, fmax) \n",
"[gm,freqGM]=g_margin(G);\n",
"[pm,freqPM]=p_margin(G);\n",
"show_margins(G);\n",
"disp(gm,'gain_margin=');\n",
"disp((freqGM*2*%pi),'gain_margin_freq=');\n",
"disp(pm,'phase_margin=');\n",
"disp((freqPM*2*%pi),'phase_margin_freq=');\n",
"show_margins(G);\n",
"disp('since gain and phase margin are both negative so system is unstable')"
   ]
   }
,
{
		   "cell_type": "markdown",
		   "metadata": {},
		   "source": [
			"## Example 11.24: stability_using_Nyquist_criterion.sce"
		   ]
		  },
  {
"cell_type": "code",
	   "execution_count": null,
	   "metadata": {
	    "collapsed": true
	   },
	   "outputs": [],
"source": [
"//caption:stability_using_Nyquist_criterion\n",
"//example 11_24\n",
"//page 496\n",
"clf;\n",
"s=%s;\n",
"s1=-s;\n",
"g=50/((s+1)*(s+2));\n",
"g1=50/((s1+1)*(s1+2));\n",
"GH=syslin('c',g)\n",
"GH1=syslin('c',g1)\n",
"nyquist(GH);\n",
"nyquist(GH1);\n",
"mtlb_axis([-5 30 -20 20]);\n",
"xtitle('Nyquist plot of 50/((s+1)*(s+2))')\n",
"figure;\n",
"show_margins(GH,'nyquist')\n",
"disp('since the point(-1+%i0) is not encircled by Nyquist plot ,so N=0 and P=0(given)')\n",
"N=0;//no. of encirclement of -1+%i0 by G(s)H(s) plot\n",
"P=0;//no. of poles of G(s)H(s) with positive real part\n",
"Z=P-N;//np.of zeros of 1+G(s)H(s)=0 with positive real part\n",
"disp(Z,'Z=')\n",
"disp('as Z=0,there are no roots of closed loop characterstics eq having positive real part, hence system is stable.')"
   ]
   }
,
{
		   "cell_type": "markdown",
		   "metadata": {},
		   "source": [
			"## Example 11.25: stability_using_Nyquist_criterion.sce"
		   ]
		  },
  {
"cell_type": "code",
	   "execution_count": null,
	   "metadata": {
	    "collapsed": true
	   },
	   "outputs": [],
"source": [
"//caption:stability_using_Nyquist_criterion\n",
"//example 11_25\n",
"//page 497\n",
"clf();\n",
"s=%s;\n",
"s1=-s;\n",
"g=(2.2/(s*(s+1)*(s^2+2*s+2)))\n",
"g1=(2.2/(s1*(s1+1)*(s1^2+2*s1+2)))\n",
"GH=syslin('c',g);\n",
"GH1=syslin('c',g1);\n",
"nyquist(GH);\n",
"nyquist(GH1);\n",
"mtlb_axis([-2.5 0.2 -75 75]);\n",
"disp('as the nyquist plot passes through the point -1+%i*0, so system is marginally stable and output represents sustained oscillations.')"
   ]
   }
,
{
		   "cell_type": "markdown",
		   "metadata": {},
		   "source": [
			"## Example 11.26_ii: stability_using_Nyquist_criterion.sce"
		   ]
		  },
  {
"cell_type": "code",
	   "execution_count": null,
	   "metadata": {
	    "collapsed": true
	   },
	   "outputs": [],
"source": [
"//caption:stability_using_Nyquist_criterion\n",
"//example 11_26_ii\n",
"//page 497\n",
"clf();\n",
"s=%s;\n",
"s1=-s;\n",
"disp('for K=4')\n",
"g=(4*(s-1))/((s+2)*(s+3));\n",
"g1=(4*(s1-1))/((s1+2)*(s1+3));\n",
"GH=syslin('c',g);\n",
"GH1=syslin('c',g1);\n",
"nyquist(GH);\n",
"nyquist(GH1);\n",
"mtlb_axis([-1 1 -1 1]);\n",
"xtitle('Nyquist plot of (2.5*(s+1))/((s+0.5)*(s-2))')\n",
"disp('since the point(-1+%i0) is  encircled anticlockwise by Nyquist plot ,so N=1 and P=1(given)')\n",
"N=0;//no. of encirclement of -1+%i0 by G(s)H(s) plot anticlockwise\n",
"P=0;//no. of poles of G(s)H(s) with positive real part\n",
"Z=P-N;//np.of zeros of 1+G(s)H(s)=0 with positive real part\n",
"disp(Z,'Z=')\n",
"disp('as Z=0,there are no roots of closed loop characterstics eq having positive real part, hence system is stable.')"
   ]
   }
,
{
		   "cell_type": "markdown",
		   "metadata": {},
		   "source": [
			"## Example 11.26_i: stability_using_Nyquist_criterion.sce"
		   ]
		  },
  {
"cell_type": "code",
	   "execution_count": null,
	   "metadata": {
	    "collapsed": true
	   },
	   "outputs": [],
"source": [
"//caption:stability_using_Nyquist_criterion\n",
"//example 11_26_i\n",
"//page 497\n",
"clf();\n",
"s=%s;\n",
"s1=-s;\n",
"disp('for K=10')\n",
"g=(10*(s-1))/((s+2)*(s+3));\n",
"g1=(10*(s1-1))/((s1+2)*(s1+3));\n",
"GH=syslin('c',g);\n",
"GH1=syslin('c',g1);\n",
"nyquist(GH);\n",
"nyquist(GH1);\n",
"mtlb_axis([-2 2 -2.5 2.5]);\n",
"xtitle('Nyquist plot of (10*(s-1))/((s+2)*(s+3));')\n",
"disp('since the point(-1+%i0) is  encircled clockwise by Nyquist plot ,so N=-1 and P=1(given)')\n",
"N=-1;//no. of encirclement of -1+%i0 by G(s)H(s) plot anticlockwise\n",
"P=0;//no. of poles of G(s)H(s) with positive real part\n",
"Z=P-N;//np.of zeros of 1+G(s)H(s)=0 with positive real part\n",
"disp(Z,'Z=')\n",
"disp('as Z=1,there is one roots of closed loop characterstics eq having positive real part, hence system is unstable.')"
   ]
   }
,
{
		   "cell_type": "markdown",
		   "metadata": {},
		   "source": [
			"## Example 11.27: root_locus.sce"
		   ]
		  },
  {
"cell_type": "code",
	   "execution_count": null,
	   "metadata": {
	    "collapsed": true
	   },
	   "outputs": [],
"source": [
"//caption:root_locus\n",
"//example 11_27\n",
"//page 499\n",
"s=%s;\n",
"clf();\n",
"g=((s^2+4)/(s*(s+1)));\n",
"G=syslin('c',g)\n",
"evans(g,200)\n",
"xgrid(2)"
   ]
   }
,
{
		   "cell_type": "markdown",
		   "metadata": {},
		   "source": [
			"## Example 11.28: root_locus.sce"
		   ]
		  },
  {
"cell_type": "code",
	   "execution_count": null,
	   "metadata": {
	    "collapsed": true
	   },
	   "outputs": [],
"source": [
"//caption:root_locus\n",
"//example 11_28\n",
"//page 501\n",
"s=%s;\n",
"clf();\n",
"g=1/(s*(s+2)*(s^2+2*s+2));\n",
"G=syslin('c',g)\n",
"evans(g,200)\n",
"xgrid(2)"
   ]
   }
,
{
		   "cell_type": "markdown",
		   "metadata": {},
		   "source": [
			"## Example 11.29: root_locus.sce"
		   ]
		  },
  {
"cell_type": "code",
	   "execution_count": null,
	   "metadata": {
	    "collapsed": true
	   },
	   "outputs": [],
"source": [
"//caption:root_locus\n",
"//example 11_29\n",
"//page 502\n",
"s=%s;\n",
"g=1/(s*(s+1)*(s+3));\n",
"G=syslin('c',g)\n",
"evans(g,200)\n",
"xgrid(2)"
   ]
   }
,
{
		   "cell_type": "markdown",
		   "metadata": {},
		   "source": [
			"## Example 11.2: transfer_function.sce"
		   ]
		  },
  {
"cell_type": "code",
	   "execution_count": null,
	   "metadata": {
	    "collapsed": true
	   },
	   "outputs": [],
"source": [
"//Caption:transfer_function\n",
"// example 11_2\n",
"//page 469\n",
"syms G1 G2 G3 H1;\n",
"s=%s;\n",
"G1=4/(s*(s+4));\n",
"G2=s+1.2;\n",
"G3=s+0.8;\n",
"H1=1;\n",
"H2=(G2+G3);\n",
"a=G1/.H1;\n",
"y=a/(1+a*H2)\n",
"disp(y,'C(s)/R(s)=')"
   ]
   }
,
{
		   "cell_type": "markdown",
		   "metadata": {},
		   "source": [
			"## Example 11.30: root_locus.sce"
		   ]
		  },
  {
"cell_type": "code",
	   "execution_count": null,
	   "metadata": {
	    "collapsed": true
	   },
	   "outputs": [],
"source": [
"//caption:root_locus\n",
"//example 11_30\n",
"//page 503\n",
"s=%s;\n",
"g=1/(s*(s+4)*(s^2+4*s+13));\n",
"G=syslin('c',g)\n",
"evans(g,200)\n",
"xgrid(2)"
   ]
   }
,
{
		   "cell_type": "markdown",
		   "metadata": {},
		   "source": [
			"## Example 11.31: design_lead_compensator.sce"
		   ]
		  },
  {
"cell_type": "code",
	   "execution_count": null,
	   "metadata": {
	    "collapsed": true
	   },
	   "outputs": [],
"source": [
"//caption:design_lead_compensator\n",
"//example 11_31\n",
"//page 339\n",
"s=%s;\n",
"clf();\n",
"syms K;\n",
"g=(K/(s*(1+0.2*s)));\n",
"Kv=limit(s*g,s,0);//static velocity error coefficient\n",
"//since Kv=10\n",
"K=10;\n",
"g=(10/(s*(1+0.2*s)));\n",
"G=syslin('c',g)\n",
"fmin=0.01; \n",
"fmax=100; \n",
"bode(G, fmin, fmax) \n",
"show_margins(G)\n",
"[gm,freqGM]=g_margin(G);\n",
"[pm,freqPM]=p_margin(G);\n",
"disp(gm,'gain_margin=');\n",
"disp((freqGM*2*%pi),'gain_margin_freq=');\n",
"disp(pm,'phase_margin=');\n",
"disp((freqPM*2*%pi),'phase_margin_freq_or_gain_cross_over_frequency=');\n",
"disp('since P.M is less than desired value so we need phase lead network ')\n",
"disp('selecting zero of lead compensating network at w=5.5rad/sec and pole at w=13.8rad/sec and applying gain to account attenuatin factor .')\n",
"gc=(1+0.18*s)/(1+0.072*s)\n",
"Gc=syslin('c',gc)\n",
"disp(Gc,'transfer function of lead compensator=');\n",
"G1=G*Gc\n",
"disp(G1,'overall transfer function=');\n",
"fmin=0.01; \n",
"fmax=100; \n",
"figure();\n",
"bode(G1, fmin, fmax);\n",
"show_margins(G1)\n",
"[gm,freqGM]=g_margin(G1);\n",
"[pm,freqPM]=p_margin(G1);\n",
"disp(pm,'phase_margin_of_compensated_system=');\n",
"disp((freqPM*2*%pi),'gain_cross_over_frequency=');"
   ]
   }
,
{
		   "cell_type": "markdown",
		   "metadata": {},
		   "source": [
			"## Example 11.32: nicholas_chart.sce"
		   ]
		  },
  {
"cell_type": "code",
	   "execution_count": null,
	   "metadata": {
	    "collapsed": true
	   },
	   "outputs": [],
"source": [
"//caption:nicholas_chart\n",
"//example 11_32\n",
"//page 507\n",
"s=%s;\n",
"num=20;\n",
"den=(s*(s+2)*(s+5))\n",
"g=num/den\n",
"G=syslin('c',g)\n",
"fmin=0.01\n",
"fmax=100\n",
"black(G,fmin,fmax)\n",
"xgrid(2)"
   ]
   }
,
{
		   "cell_type": "markdown",
		   "metadata": {},
		   "source": [
			"## Example 11.33: obtain_state_matrix.sce"
		   ]
		  },
  {
"cell_type": "code",
	   "execution_count": null,
	   "metadata": {
	    "collapsed": true
	   },
	   "outputs": [],
"source": [
"//caption:obtain_state_matrix\n",
"//example 11_33\n",
"//page 509\n",
"s=%s;\n",
"g=(s+2)/((s+1)*(s+3));\n",
"CL=syslin('c',g);\n",
"disp(CL,'C(s)/R(s)=');\n",
"SS=tf2ss(CL)\n",
"[Ac,Bc,U,ind]=canon(SS(2),SS(3))\n",
"disp(SS,'state space matrix=')\n",
"disp(Ac,'Ac',Bc,'Bc',U,'U',ind,'ind')"
   ]
   }
,
{
		   "cell_type": "markdown",
		   "metadata": {},
		   "source": [
			"## Example 11.34: obtain_state_matrix.sce"
		   ]
		  },
  {
"cell_type": "code",
	   "execution_count": null,
	   "metadata": {
	    "collapsed": true
	   },
	   "outputs": [],
"source": [
"//caption:obtain_state_matrix\n",
"//example 11_34\n",
"//page 509\n",
"s=%s;\n",
"g=(s^2+s+2)/(s^3+9*s^2+26*s+24);\n",
"CL=syslin('c',g);\n",
"disp(CL,'C(s)/R(s)=');\n",
"SS=tf2ss(CL)\n",
"[Ac,Bc,U,ind]=canon(SS(2),SS(3))\n",
"disp(SS,'state space matrix=')\n",
"disp(Ac,'Ac',Bc,'Bc',U,'U',ind,'ind')"
   ]
   }
,
{
		   "cell_type": "markdown",
		   "metadata": {},
		   "source": [
			"## Example 11.35: obtain_state_matrix.sce"
		   ]
		  },
  {
"cell_type": "code",
	   "execution_count": null,
	   "metadata": {
	    "collapsed": true
	   },
	   "outputs": [],
"source": [
"//caption:obtain_state_matrix\n",
"//example 11_35\n",
"//page 510\n",
"s=%s;\n",
"g=1/(s^2+2*s+5);\n",
"CL=syslin('c',g);\n",
"disp(CL,'C(s)/R(s)=');\n",
"SS=tf2ss(CL)\n",
"[Ac,Bc,U,ind]=canon(SS(2),SS(3))\n",
"disp(SS,'state space matrix=')\n",
"disp(Ac,'Ac',Bc,'Bc',U,'U',ind,'ind')"
   ]
   }
,
{
		   "cell_type": "markdown",
		   "metadata": {},
		   "source": [
			"## Example 11.36: state_transition_matrix.sce"
		   ]
		  },
  {
"cell_type": "code",
	   "execution_count": null,
	   "metadata": {
	    "collapsed": true
	   },
	   "outputs": [],
"source": [
"//caption:state_transition_matrix\n",
"//example 11_36\n",
"//page 511\n",
"s=%s;\n",
"syms t\n",
"A=[1 4;-2 -5]\n",
"[r c]=size(A);//size of matrix A\n",
"p=s*eye(r,c)-A;//s*I-A where I is identity matrix\n",
"q=det(p)//determinant of sI-A\n",
"r=inv(p)//inverse of sI-A\n",
"//for calculating state transistion matrix\n",
"ip=[0 0;0 0]\n",
"i=1;j=1;\n",
"for i=1:2\n",
"  for j=1:2\n",
"    ip(i,j)=ilaplace(r(i,j),s,t);\n",
"    j=j+1;\n",
"  end\n",
"  i=i+1;\n",
"end\n",
"disp(ip,'state transistion matrix,ip(t)=');"
   ]
   }
,
{
		   "cell_type": "markdown",
		   "metadata": {},
		   "source": [
			"## Example 11.37: check_for_contrallability_of_system.sce"
		   ]
		  },
  {
"cell_type": "code",
	   "execution_count": null,
	   "metadata": {
	    "collapsed": true
	   },
	   "outputs": [],
"source": [
"//caption:check_for_contrallability_of_system\n",
"//example 11_37\n",
"//page 512\n",
"A=[1 1;0 -1]\n",
"B=[1;0]\n",
"P=cont_mat(A,B);\n",
"disp(P,'Controllability Matrix=');\n",
"d=determ(P)\n",
"if d==0\n",
"  printf('matrix is singular, so system is uncontrollable');\n",
"else\n",
"  printf('system is controllable');\n",
"end;"
   ]
   }
,
{
		   "cell_type": "markdown",
		   "metadata": {},
		   "source": [
			"## Example 11.38: determine_transfer_function.sce"
		   ]
		  },
  {
"cell_type": "code",
	   "execution_count": null,
	   "metadata": {
	    "collapsed": true
	   },
	   "outputs": [],
"source": [
"//caption:determine_transfer_function\n",
"//example 11_38\n",
"//page 513\n",
"s=%s\n",
"A=[-5 1;-6 0]\n",
"B=[1;2]\n",
"C=[2 1]\n",
"D=0;\n",
"[r c]=size(A);//size of matrix A\n",
"p=s*eye(r,c)-A;//s*I-A where I is identity matrix\n",
"r=inv(p)//inverse of sI-A\n",
"G=C*r*B+D//transfer matrix\n",
"disp(G,'transfer matrix=')"
   ]
   }
,
{
		   "cell_type": "markdown",
		   "metadata": {},
		   "source": [
			"## Example 11.39: determine_transfer_matrix.sce"
		   ]
		  },
  {
"cell_type": "code",
	   "execution_count": null,
	   "metadata": {
	    "collapsed": true
	   },
	   "outputs": [],
"source": [
"//caption:determine_transfer_matrix\n",
"//example 11_39\n",
"//page 513\n",
"s=%s\n",
"A=[0 1;-6 -5]\n",
"B=[0;1]\n",
"C=[2 1]\n",
"D=0;\n",
"[r c]=size(A);//size of matrix A\n",
"p=s*eye(r,c)-A;//s*I-A where I is identity matrix\n",
"r=inv(p)//inverse of sI-A\n",
"G=C*r*B+D//transfer matrix\n",
"disp(G,'transfer matrix=')"
   ]
   }
,
{
		   "cell_type": "markdown",
		   "metadata": {},
		   "source": [
			"## Example 11.3: transfer_function.sce"
		   ]
		  },
  {
"cell_type": "code",
	   "execution_count": null,
	   "metadata": {
	    "collapsed": true
	   },
	   "outputs": [],
"source": [
"//Caption:transfer_function\n",
"// example 11_3\n",
"//page 470\n",
"syms G1 G2 G3 H1;\n",
"s=%s;\n",
"G1=4;\n",
"G2=s\n",
"G3=1/(s*(s+2));\n",
"H1=0.5;\n",
"H2=1;\n",
"a=(G1+G2);\n",
"b=(a*G3);\n",
"c=b/.H1;\n",
"y=c/(1+c*H2)\n",
"disp(y,'C(s)/R(s)=')"
   ]
   }
,
{
		   "cell_type": "markdown",
		   "metadata": {},
		   "source": [
			"## Example 11.4: determine_Wn_zeta_and_Mp.sce"
		   ]
		  },
  {
"cell_type": "code",
	   "execution_count": null,
	   "metadata": {
	    "collapsed": true
	   },
	   "outputs": [],
"source": [
"//caption:determine_Wn,zeta_and_Mp\n",
"//example 11_4\n",
"//page 471\n",
"s=%s;\n",
"num=1;\n",
"den=sym('s*(1+0.5*s)*(1+0.2*s)');\n",
"c=num/den;\n",
"c=simple(c);\n",
"disp(c,'C(s)/E(s)=');\n",
"G=c;\n",
"H=1;\n",
"CL=G/(1+G*H);\n",
"CL=simple(CL);\n",
"disp(CL,'C(s)/R(s)=');\n",
"A=pfss((10/(s^3+7*s^2+10*s+10)));\n",
"d=denom(A(1));\n",
"b=coeff(denom(A(1)))\n",
"printf('for oscillatory roots:')\n",
"Wn=sqrt(b(1,1));//natural_frequency\n",
"//2*zeta*Wn=1.5;\n",
"zeta=1.5/(2*Wn);//damping ratio\n",
"Mp=exp((-zeta*%pi)/sqrt(1-zeta^2))*100;//%_peak_overshoot\n",
"disp(Wn,'natural_frequency,Wn=');\n",
"disp(zeta,'damping ratio,zeta=');\n",
"disp(Mp,'%_peak_overshoot,Mp=');"
   ]
   }
,
{
		   "cell_type": "markdown",
		   "metadata": {},
		   "source": [
			"## Example 11.5: time_response_for_unit_step_function.sce"
		   ]
		  },
  {
"cell_type": "code",
	   "execution_count": null,
	   "metadata": {
	    "collapsed": true
	   },
	   "outputs": [],
"source": [
"//Caption:time_response_for_unit_step_function\n",
"//example 11_6\n",
"//page 474\n",
"s=%s;\n",
"syms t;\n",
"G=(s+2)/(s*(s+1))\n",
"H=1;\n",
"CL=G/.H\n",
"disp(CL,'C(s)/R(s)=')\n",
"y=ilaplace(CL,s,t);\n",
"disp(y,'c(t)=');\n",
"b=denom(CL)\n",
"c=coeff(b)\n",
"//Wn^2=c(1,1)\n",
"Wn=sqrt(c(1,1))//natural frequency\n",
"//2*zeta*Wn=c(1,2)\n",
"zeta=c(1,2)/(2*Wn)//damping ratio\n",
"Wd=Wn*sqrt(1-zeta^2)//damped frequency\n",
"tr=(%pi-atan(sqrt(1-zeta^2)/zeta))/(Wn*sqrt(1-zeta^2))\n",
"Mp=(exp(-(zeta*%pi)/sqrt(1-zeta^2)))*100//max. overshoot\n",
"disp(tr,'rise time=');\n",
"disp(Mp,'max. peak overshoot=');"
   ]
   }
,
{
		   "cell_type": "markdown",
		   "metadata": {},
		   "source": [
			"## Example 11.7: time_response_for_unit_step_function.sce"
		   ]
		  },
  {
"cell_type": "code",
	   "execution_count": null,
	   "metadata": {
	    "collapsed": true
	   },
	   "outputs": [],
"source": [
"//Caption:time_response_for_unit_step_function\n",
"//example 11_7\n",
"//page 475\n",
"s=%s;\n",
"syms t;\n",
"CL=(s+2)/(s^2+2*s+2)\n",
"disp(CL,'C(s)/R(s)=')\n",
"y=ilaplace(CL,s,t);\n",
"disp(y,'c(t)=');\n",
"b=denom(CL)\n",
"c=coeff(b)\n",
"//Wn^2=c(1,1)\n",
"Wn=sqrt(c(1,1))//natural frequency\n",
"//2*zeta*Wn=c(1,2)\n",
"zeta=c(1,2)/(2*Wn)//damping ratio\n",
"Wd=Wn*sqrt(1-zeta^2)//damped frequency\n",
"Tp=%pi/Wd//peak time\n",
"Mp=(exp(-(zeta*%pi)/sqrt(1-zeta^2)))*100//max. overshoot\n",
"disp(Tp,'peak time=');\n",
"disp(Mp,'max. peak overshoot=')"
   ]
   }
,
{
		   "cell_type": "markdown",
		   "metadata": {},
		   "source": [
			"## Example 11.8: time_response_for_unit_step_function.sce"
		   ]
		  },
  {
"cell_type": "code",
	   "execution_count": null,
	   "metadata": {
	    "collapsed": true
	   },
	   "outputs": [],
"source": [
"//Caption:time_response_for_unit_step_function\n",
"//example 11_8\n",
"//page 476\n",
"s=%s;\n",
"syms t;\n",
"G=(20)/((s+1)*(s+5))\n",
"H=1;\n",
"CL=G/.H\n",
"disp(CL,'C(s)/R(s)=')\n",
"y=ilaplace(CL,s,t);\n",
"disp(y,'c(t)=');\n",
"b=denom(CL)\n",
"c=coeff(b)\n",
"//Wn^2=c(1,1)\n",
"Wn=sqrt(c(1,1))//natural frequency\n",
"//2*zeta*Wn=c(1,2)\n",
"zeta=c(1,2)/(2*Wn)//damping ratio\n",
"Wd=Wn*sqrt(1-zeta^2)//damped frequency\n",
"Mp=(exp(-(zeta*%pi)/sqrt(1-zeta^2)))*100//max. overshoot\n",
"Tp=%pi/Wd//peak time\n",
"t=(2*%pi)/(Wn*sqrt(1-zeta^2))//period of oscillation\n",
"ts=4/(zeta*Wn)//settling time\n",
"N=Wd/(2*%pi)*ts//no. of oscillations completed before reaching steady state\n",
"disp(Tp,'peak time=');\n",
"disp(Mp,'max. peak overshoot=');\n",
"disp(t,'period of oscillation');\n",
"disp(N,'no. of oscillations completed before reaching steady state=');\n",
"disp(ts,'settling time=')"
   ]
   }
,
{
		   "cell_type": "markdown",
		   "metadata": {},
		   "source": [
			"## Example 11.9: time_response_for_unit_step_function.sce"
		   ]
		  },
  {
"cell_type": "code",
	   "execution_count": null,
	   "metadata": {
	    "collapsed": true
	   },
	   "outputs": [],
"source": [
"//Caption:time_response_for_unit_step_function\n",
"//example 11_9\n",
"//page 476\n",
"s=%s;\n",
"syms t;\n",
"CL=(4*s+4)/(s^2+2*s+5)\n",
"disp(CL,'C(s)/R(s)=')\n",
"y=ilaplace(CL,s,t);\n",
"disp(y,'c(t)=');\n",
"b=denom(CL)\n",
"c=coeff(b)\n",
"//Wn^2=c(1,1)\n",
"Wn=sqrt(c(1,1))//natural frequency\n",
"//2*zeta*Wn=c(1,2)\n",
"zeta=c(1,2)/(2*Wn)//damping ratio\n",
"Wd=Wn*sqrt(1-zeta^2)//damped frequency\n",
"Mp=(exp(-(zeta*%pi)/sqrt(1-zeta^2)))*100//max. overshoot\n",
"Tp=%pi/Wd//peak time\n",
"disp(Tp,'peak time=');\n",
"disp(Mp,'max. peak overshoot=');"
   ]
   }
],
"metadata": {
		  "kernelspec": {
		   "display_name": "Scilab",
		   "language": "scilab",
		   "name": "scilab"
		  },
		  "language_info": {
		   "file_extension": ".sce",
		   "help_links": [
			{
			 "text": "MetaKernel Magics",
			 "url": "https://github.com/calysto/metakernel/blob/master/metakernel/magics/README.md"
			}
		   ],
		   "mimetype": "text/x-octave",
		   "name": "scilab",
		   "version": "0.7.1"
		  }
		 },
		 "nbformat": 4,
		 "nbformat_minor": 0
}
