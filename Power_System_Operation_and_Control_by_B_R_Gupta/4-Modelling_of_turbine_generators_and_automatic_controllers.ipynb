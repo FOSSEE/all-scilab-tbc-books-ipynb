{
"cells": [
 {
		   "cell_type": "markdown",
	   "metadata": {},
	   "source": [
       "# Chapter 4: Modelling of turbine generators and automatic controllers"
	   ]
	},
{
		   "cell_type": "markdown",
		   "metadata": {},
		   "source": [
			"## Example 4.1: Shared_load_and_power_factor.sce"
		   ]
		  },
  {
"cell_type": "code",
	   "execution_count": null,
	   "metadata": {
	    "collapsed": true
	   },
	   "outputs": [],
"source": [
"//Exa 4.1\n",
"clc;clear;close;\n",
"format('v',8);\n",
"kVA=4000;//kVA//rating\n",
"f1_nl=50;//Hz(No load frequency of machine1)\n",
"f1_fl=47.5;//Hz(No load frequency of machine1)\n",
"f2_nl=50;//Hz(No load frequency of machine2)\n",
"f2_fl=48;//Hz(No load frequency of machine2)\n",
"L=6000;//kW(Load)\n",
"L1=poly(0,'L1');//Load of machine1\n",
"//f1_nl-(f1_nl-f1_fl)*L1/kVA=f1_nl-(f2_nl-f2_fl)*L2/kVA where L2=L-L1\n",
"L1=(f2_nl-f2_fl)*L/[(f1_nl-f1_fl)+(f2_nl-f2_fl)];//kW\n",
"L2=L-L1;//kW\n",
"disp('Part(a)');\n",
"disp(L1,'Load supplied by first machine(kW)');\n",
"disp(L2,'Load supplied by second machine(kW)');\n",
"disp('Part(b)');\n",
"L2=4000;//kW//Machine2 is supplying 4000kW\n",
"fdrop1=f1_nl-f1_fl;//Hz(frequency drop of machine 1)\n",
"fdrop2=f2_nl-f2_fl;//Hz(frequency drop of machine 2)\n",
"L1=L2*fdrop2/fdrop1;//kW//Load supplied by machine 1\n",
"L=L1+L2;//kW//Total Load\n",
"disp(L,'Total load supplied without getting over loaded(kW)')"
   ]
   }
,
{
		   "cell_type": "markdown",
		   "metadata": {},
		   "source": [
			"## Example 4.2: Current_Power_factor_and_emf.sce"
		   ]
		  },
  {
"cell_type": "code",
	   "execution_count": null,
	   "metadata": {
	    "collapsed": true
	   },
	   "outputs": [],
"source": [
"//Exa 4.2\n",
"clc;clear;close;\n",
"format('v',6);\n",
"Lt=3000;//kW//Total Load\n",
"pf=0.8;//Power factor Lagging\n",
"I=150;//A\n",
"ZA=0.4+%i*12;//ohm//synchronous impedence\n",
"ZB=0.5+%i*10;//ohm//synchronous impedence\n",
"Vt=6.6;//kV//Terminal Voltage\n",
"L=Lt/2;//kW//Load supplied by each machine\n",
"LA=L;//kW\n",
"LB=L;//kW\n",
"//LB=sqrt(3)*Vt*IB*cosd(theta_B);\n",
"theta_B=acosd(LB/sqrt(3)/Vt/I);//degree\n",
"IB=I*(cosd(theta_B)-%i*sind(theta_B));//A\n",
"I_total=Lt/sqrt(3)/Vt/pf;//A//Total Current\n",
"IA_plus_IB=I_total*(0.8-%i*0.6);//A\n",
"IA=IA_plus_IB-IB;//A\n",
"cos_thetaA=real(IA)/abs(IA);//lagging power factor\n",
"EA=Vt/sqrt(3)+IA*ZA/1000;//kV per phase\n",
"del_A=atand(imag(EA)/real(EA));//degree//Load Angle\n",
"emf_A=abs(EA);//kV per phase//Induced emf of machine A\n",
"EB=Vt/sqrt(3)+IB*ZB/1000;//kV per phase\n",
"del_B=atand(imag(EB)/real(EB));//degree//Load Angle\n",
"emf_B=abs(EB);//kV per phase//Induced emf of machine A\n",
"IA=abs(IA);//A\n",
"disp(IA,'Current on machine A(A) : ');\n",
"pfA=cos_thetaA;//power factor\n",
"disp(pfA,'Lagging power factor of machine A');\n",
"format('v',5);\n",
"disp(emf_A,'Induced emf of machine A(kV per phase)');\n",
"disp(del_A,'Load angle of machine A(degree)');\n",
"disp(del_B,'Load angle of machine B(degree)');\n",
"disp(emf_B,'Induced emf of machine B(kV per phase)');\n",
"//Answer in the textbook is not accurate."
   ]
   }
,
{
		   "cell_type": "markdown",
		   "metadata": {},
		   "source": [
			"## Example 4.3: Synchronising_power.sce"
		   ]
		  },
  {
"cell_type": "code",
	   "execution_count": null,
	   "metadata": {
	    "collapsed": true
	   },
	   "outputs": [],
"source": [
"//Exa 4.3\n",
"clc;clear;close;\n",
"format('v',5);\n",
"P=5;//MVA\n",
"V=1000;//V\n",
"speed=1500;//rpm//speed\n",
"ns=speed/60;//rps\n",
"f=50;//Hz\n",
"pf=0.8;//Power factor Lagging\n",
"Xs=20;//%//synchronous reluctance\n",
"Xs=Xs/100;///p.u.\n",
"disp('Part(a)');\n",
"V=1;//p.u.//on no load\n",
"E=1;//p.u.//on no load\n",
"Ps=V*E/Xs;//p.u.\n",
"Ps=Ps*P;//MW per elect. radian\n",
"Ps=Ps*1000;//kW per elect. radian\n",
"//1 mech. radian=%pi/90 elect. radian\n",
"Ps=Ps*%pi/90;//kW per mech. degree\n",
"disp(Ps,'Synchronising power per mech. degree(kW)');\n",
"d=0.5;//degree////displacement\n",
"Ts=Ps*1000*d/2/%pi/ns;//N-m\n",
"format('v',6);\n",
"disp(Ts,'Synchronising torque(N-m)');\n",
"disp('Part(b)');\n",
"theta=acosd(pf);//degree\n",
"E=V+(cosd(theta)-%i*sind(theta))*%i*Xs;//p.u.\n",
"Ps=V*E/Xs;//p.u.\n",
"Ps=Ps*P;//MW per elect. radian\n",
"Ps=Ps*1000;//kW per elect. radian\n",
"//1 mech. radian=%pi/90 elect. radian\n",
"Ps=Ps*%pi/90;//kW per mech. degree\n",
"Ps=abs(Ps);//kW per mech. degree\n",
"disp(Ps,'Synchronising power per mech. degree(kW)');\n",
"d=0.5;//degree////displacement\n",
"Ts=abs(Ps)*1000*d/2/%pi/ns;//N-m\n",
"disp(Ts,'Synchronising torque(N-m)');\n",
"//Answer in the textbook is not accurate."
   ]
   }
,
{
		   "cell_type": "markdown",
		   "metadata": {},
		   "source": [
			"## Example 4.4: Synchronising_power_and_torque.sce"
		   ]
		  },
  {
"cell_type": "code",
	   "execution_count": null,
	   "metadata": {
	    "collapsed": true
	   },
	   "outputs": [],
"source": [
"//Exa 4.4\n",
"clc;clear;close;\n",
"format('v',6);\n",
"P=2;//MVA\n",
"V=6000;//V\n",
"speed=750;//rpm//speed\n",
"ns=speed/60;//rps\n",
"Zs=6;//ohm/phase\n",
"f=50;//Hz\n",
"pf=0.8;//Power factor Lagging\n",
"//Calculation\n",
"I=P*10^6/sqrt(3)/V;//A//Current\n",
"theta=acosd(pf);//degree\n",
"E=V/sqrt(3)+I*(cosd(theta)-%i*sind(theta))*%i*Zs;//V\n",
"Ps=V*sqrt(3)*E/Zs/1000;//kw per elect. radian\n",
"Ps=Ps*4*%pi/180;//kW per mech. degree\n",
"Ps=abs(Ps);//kW per mech. degree\n",
"disp(Ps,'Synchronising power per mech. degree(kW)');\n",
"Ts=abs(Ps)*1000/2/%pi/ns;//N-m\n",
"disp(Ts,'Synchronising torque(N-m)');\n",
"//Answer in the textbook is not accurate."
   ]
   }
,
{
		   "cell_type": "markdown",
		   "metadata": {},
		   "source": [
			"## Example 4.5: Load_current_and_power_factor.sce"
		   ]
		  },
  {
"cell_type": "code",
	   "execution_count": null,
	   "metadata": {
	    "collapsed": true
	   },
	   "outputs": [],
"source": [
"//Exa 4.5\n",
"clc;clear;close;\n",
"format('v',6);\n",
"I=100;//A///Current\n",
"V=11;//kV\n",
"Xs=4;//ohm/phase\n",
"f=50;//Hz\n",
"pf=0.8;//Power factor Lagging\n",
"//Calculation\n",
"theta=acosd(pf);//degree\n",
"disp('Part(a)');\n",
"E=V*1000/sqrt(3)+I*(cosd(theta)-%i*sind(theta))*%i*Xs;//V\n",
"del=atand(imag(E)/real(E));//degree\n",
"E=abs(E);//V/phase\n",
"disp(E,'Open circuit phase emf(V/phase)');\n",
"disp(del,'Angle delta(degree)');\n",
"disp('Part(b)');\n",
"del_dash=10+del;//degree\n",
"P_by_V=E*sind(del_dash)/Xs;//per phase\n",
"//P=V*I*cos_fi\n",
"I_cos_fi=P_by_V;\n",
"//V*1000/sqrt(3)+I*(cos_fi-%i*sin_fi)*%i*Xs=E\n",
"I_sin_fi={sqrt(E^2-(4*I_cos_fi^2))-V*1000/sqrt(3)}/4;\n",
"tan_fi=I_sin_fi/I_cos_fi;\n",
"fi=atand(tan_fi);//degree\n",
"I=I_cos_fi/cosd(fi);//A\n",
"disp(I,'New load current(A)');\n",
"pf=cosd(fi);//lagging power factor\n",
"disp(pf,'Its power factor(lagging)');\n",
"disp('Part(c)');\n",
"pf1=0.8;///original power factor\n",
"Idash=I*pf/pf1;//Current\n",
"disp(Idash,'New value of load current(A)');\n",
"//Answer is slightly differ because of accuracy in calculations."
   ]
   }
,
{
		   "cell_type": "markdown",
		   "metadata": {},
		   "source": [
			"## Example 4.6: Inertia_Constant.sce"
		   ]
		  },
  {
"cell_type": "code",
	   "execution_count": null,
	   "metadata": {
	    "collapsed": true
	   },
	   "outputs": [],
"source": [
"//Exa 4.6\n",
"clc;clear;close;\n",
"format('v',7);\n",
"G=200;//MVA\n",
"H=6;//MJ/MVA///Inertia Constant\n",
"V=11;//kV\n",
"f=50;//Hz\n",
"L1=120;//MW\n",
"L2=160;//MW\n",
"\n",
"//Calculation\n",
"disp('Part(a)');\n",
"Es=G*H;//MJ////Stored Energy\n",
"disp(Es,'Stored energy(MJ)');\n",
"disp('Part(b)');\n",
"Pa=L1-L2;//MW\n",
"M=G*H/180/f;//MJ-sec/elect.deg.\n",
"alfa=-Pa/M;//elect.deg./sec^2///Retardation\n",
"disp(alfa,'Motor retardation(elect.deg.sec^2)');\n",
"disp('Part(c)');\n",
"n=5;//cycles\n",
"t=n/f;//sec\n",
"del_change=1/2*-alfa*t^2;//elect.deg.\n",
"disp(del_change,'Change in power angle(elect.deg.)');\n",
"alfa=alfa*60/(180*4);//rpm/sec\n",
"ns=1500;//rpm\n",
"nr=ns+(-alfa)*t;//rpm;///rotor speed\n",
"disp(nr,'Rotor speed at the end of 5 cycle(rpm)');\n",
"disp('Part(d)')\n",
"H2=4;//MJ/MVA\n",
"G2=150;//MVA\n",
"Gb=100;//MVA\n",
"Heb=H*G/Gb+H2*G2/Gb;//MJ/MVA\n",
"disp(Heb,'Inertia constant for the equivalent generator(MJ/MVA)');"
   ]
   }
],
"metadata": {
		  "kernelspec": {
		   "display_name": "Scilab",
		   "language": "scilab",
		   "name": "scilab"
		  },
		  "language_info": {
		   "file_extension": ".sce",
		   "help_links": [
			{
			 "text": "MetaKernel Magics",
			 "url": "https://github.com/calysto/metakernel/blob/master/metakernel/magics/README.md"
			}
		   ],
		   "mimetype": "text/x-octave",
		   "name": "scilab",
		   "version": "0.7.1"
		  }
		 },
		 "nbformat": 4,
		 "nbformat_minor": 0
}
