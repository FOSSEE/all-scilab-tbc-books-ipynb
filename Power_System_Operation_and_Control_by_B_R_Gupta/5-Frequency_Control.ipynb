{
"cells": [
 {
		   "cell_type": "markdown",
	   "metadata": {},
	   "source": [
       "# Chapter 5: Frequency Control"
	   ]
	},
{
		   "cell_type": "markdown",
		   "metadata": {},
		   "source": [
			"## Example 5.10: Change_in_step_and_frequency_error.sce"
		   ]
		  },
  {
"cell_type": "code",
	   "execution_count": null,
	   "metadata": {
	    "collapsed": true
	   },
	   "outputs": [],
"source": [
"//Example 5.10\n",
"clc;clear;close;\n",
"format('v',7);\n",
"s=poly(0,'s');//for transfer function\n",
"Tg=0.2;//sec///time constant of governing system\n",
"Tt=2;//sec///time constant of turbine\n",
"Gr=1/(1+Tg*s);//Transfer function of governer\n",
"Gt=1/(1+Tt*s);//Transfer function of turbine\n",
"C=1500;//MW\n",
"f=50;//Hz\n",
"R=4;//%////Speed regulation constant\n",
"H=5;//sec////Inertia constant\n",
"delPL=1;//%////change in load\n",
"delf=1;//%////change in frequency\n",
"disp('Part(a)');\n",
"R=R/100*f;//z/p.u.MW\n",
"D=delPL/delf*C/f;//MW/Hz\n",
"D=D/C;//p.u.MW/Hz\n",
"Kp=1/D;//Hz/p.u.MW\n",
"Tp=2*H/f/D;//sec\n",
"Gp=Kp/(1+Tp*s);//Transfer function of power system\n",
"delFs=-Gp/(1+Gr*Gt*Gp/R);\n",
"disp(delFs,'delFs = M/s*');\n",
"disp('Part(b)');\n",
"delf0_by_M=-Kp/(1+Kp/R);//Hz\n",
"delf0=delf/100*f;//Hz\n",
"M=delf0/delf0_by_M;//p.u.MW\n",
"M=M*C;//MW\n",
"disp(M,'Largest step change(MW)');\n",
"//Transfer functions multiplication Gr*Gt*Gp is calculated & it is not possible to show together without calculated as in the book."
   ]
   }
,
{
		   "cell_type": "markdown",
		   "metadata": {},
		   "source": [
			"## Example 5.11: Static_Frequency_Drop.sce"
		   ]
		  },
  {
"cell_type": "code",
	   "execution_count": null,
	   "metadata": {
	    "collapsed": true
	   },
	   "outputs": [],
"source": [
"//Example 5.11\n",
"clc;clear;close;\n",
"format('v',8);\n",
"GA=5000;//MW\n",
"GB=10000;//MW\n",
"R=2;//Hz/p.u.MW////Speed regulation constant\n",
"D=0.01;//p.u.MW/Hz\n",
"Ls=100;//MW//Load increase\n",
"RA=R*GB/GA;//Hz/p.u.MW\n",
"DA=D*GA/GB;//p.u.MW/Hz\n",
"RB=R;//Hz/p.u.MW\n",
"DB=D;//p.u.MW/Hz\n",
"Beta_A=DA+1/RA;//p.u.MW/Hz\n",
"Beta_B=DB+1/RB;//p.u.MW/Hz\n",
"MA=0;//Load increase\n",
"MB=Ls/GB;//p.u.MW\n",
"delf0=-MB/(Beta_A+Beta_B);//Hz\n",
"disp(delf0,'Static frequency drop(Hz)');\n",
"format('v',6);\n",
"delPAB=Beta_A*MB/(Beta_A+Beta_B);//p.u.MW\n",
"delPAB=delPAB*GB;//MW\n",
"disp(delPAB,'Change in tie line power(MW)');"
   ]
   }
,
{
		   "cell_type": "markdown",
		   "metadata": {},
		   "source": [
			"## Example 5.12: Change_in_frequency_and_tie_line_power.sce"
		   ]
		  },
  {
"cell_type": "code",
	   "execution_count": null,
	   "metadata": {
	    "collapsed": true
	   },
	   "outputs": [],
"source": [
"//Example 5.12\n",
"clc;clear;close;\n",
"format('v',8);\n",
"GA=500;//MW\n",
"GB=2000;//MW\n",
"RA=2.5;//Hz/p.u.MW////Speed regulation constant\n",
"RB=2;//Hz/p.u.MW////Speed regulation constant\n",
"Ls=20;//MW//Load increase\n",
"f=50;//Hz\n",
"delL=1;//%////change in load\n",
"delf=1;//%////change in frequency\n",
"DA=delL/delf*GA/f;//MW/Hz\n",
"DA=DA/GB;//p.u.MW/Hz\n",
"DB=delL/delf*GB/f;//MW/Hz\n",
"DB=DB/GB;//p.u.MW/Hz\n",
"RA=RA*GB/GA;//Hz/p.u.MW\n",
"Beta_A=DA+1/RA;//p.u.MW/Hz\n",
"Beta_B=DB+1/RB;//p.u.MW/Hz\n",
"disp('Part(a)');\n",
"MA=Ls/GB;//unitless\n",
"MB=0;//unitless\n",
"delf0=-MA/(Beta_A+Beta_B);//Hz\n",
"disp(delf0,'Change in frequency(Hz)');\n",
"delPAB=-Beta_B*MA/(Beta_B+Beta_A);//p.u.MW\n",
"delPAB=delPAB*GB;//MW\n",
"disp(delPAB,'Change in tie line power(MW)');\n",
"disp('Part(b)');\n",
"MB=Ls/GB;//unitless\n",
"MA=0;//unitless\n",
"delf0=-MB/(Beta_A+Beta_B);//Hz\n",
"disp(delf0,'Change in frequency(Hz)');\n",
"delPAB=Beta_A*MB/(Beta_B+Beta_A);//p.u.MW\n",
"delPAB=delPAB*GB;//MW\n",
"disp(delPAB,'Change in tie line power(MW)');"
   ]
   }
,
{
		   "cell_type": "markdown",
		   "metadata": {},
		   "source": [
			"## Example 5.13: Frequency_of_collision.sce"
		   ]
		  },
  {
"cell_type": "code",
	   "execution_count": null,
	   "metadata": {
	    "collapsed": true
	   },
	   "outputs": [],
"source": [
"//Example 5.13\n",
"clc;clear;close;\n",
"format('v',5);\n",
"G=4000;//MW\n",
"R=2;//Hz/p.u.MW////Speed regulation constant\n",
"H=5;//sec\n",
"C=600;//MW//Capacity\n",
"theta=40;//degree///Power angle\n",
"f=50;//Hz\n",
"disp('Part(a)');\n",
"T=C/G*cosd(theta);//sec\n",
"omega0=sqrt([2*%pi*f*T/H-(f/4/R/H)^2]);//radian/sec\n",
"disp(omega0,'Frequency of oscillation(radian/sec)');\n",
"disp('Part(b)');\n",
"delLB=100;//MW//change in load in area B\n",
"delPAB=delLB/2;//MW//because Beta_A=Beta_B\n",
"disp(delPAB,'Change in tie line power(MW)');\n",
"disp('Part(c)');\n",
"format('v',6);\n",
"omega0=sqrt([2*%pi*f*T/H]);//radian/sec\n",
"disp(omega0,'Frequency of oscillation(radian/sec)');"
   ]
   }
,
{
		   "cell_type": "markdown",
		   "metadata": {},
		   "source": [
			"## Example 5.14: Frequency_at_shared_load.sce"
		   ]
		  },
  {
"cell_type": "code",
	   "execution_count": null,
	   "metadata": {
	    "collapsed": true
	   },
	   "outputs": [],
"source": [
"//Example 5.14\n",
"clc;clear;close;\n",
"format('v',6);\n",
"C1=300;//MW\n",
"C2=400;//MW\n",
"G1=4;//%//droop characteristics of governer\n",
"G2=5;//%//droop characteristics of governer\n",
"L=600;//MW\n",
"f=50;//Hz\n",
"//Load on first generator =L1\n",
"//Load on second generator =L-L1\n",
"//f-G1*f/100*(L1/C1)=f-G2*f/100*(L2/C2)\n",
"L1=G2*L/C2/(G1/C1+G2/C2);//MW\n",
"L2=L-L1;//MW\n",
"disp(L1,'Load on first generator(MW)');\n",
"disp(L2,'Load on second generator(MW)');\n",
"fLoad=f*(1-L1/C1*G1/100);//Hz\n",
"disp(fLoad,'Frequency at load(Hz)');"
   ]
   }
,
{
		   "cell_type": "markdown",
		   "metadata": {},
		   "source": [
			"## Example 5.15: Change_in_frequency.sce"
		   ]
		  },
  {
"cell_type": "code",
	   "execution_count": null,
	   "metadata": {
	    "collapsed": true
	   },
	   "outputs": [],
"source": [
"//Example 5.15 \n",
"clc;clear;close;\n",
"format('v',6);\n",
"G=100;//MVA\n",
"f=50;//Hz\n",
"delL=50;//MW\n",
"Tc=0.4;//sec\n",
"H=5;///kWs/kVA\n",
"KE=G*1000*H;//kWs\n",
"delKE=delL*1000*Tc;////kWs///due to decrease in load\n",
"fnew=sqrt((KE+delKE)/KE) *f;//Hz\n",
"fdev=(fnew-f)/f*100;//%\n",
"disp(fnew,'New frequency(Hz)');\n",
"disp(fdev,'Frequency deviation(%)');"
   ]
   }
,
{
		   "cell_type": "markdown",
		   "metadata": {},
		   "source": [
			"## Example 5.16: Percentage_frequency_deviation.sce"
		   ]
		  },
  {
"cell_type": "code",
	   "execution_count": null,
	   "metadata": {
	    "collapsed": true
	   },
	   "outputs": [],
"source": [
"//Example 5.16\n",
"clc;clear;close;\n",
"format('v',7);\n",
"G=100;//MVA\n",
"f=50;//Hz\n",
"delL=60;//MW\n",
"Tc=0.35;//sec\n",
"H=5;///kWs/kVA\n",
"KE=G*1000*H;//kWs\n",
"delKE=(G-delL)*1000*Tc;////kWs///due to decrease in load\n",
"fnew=sqrt((KE+delKE)/KE) *f;//Hz\n",
"fdev=(fnew-f)/f*100;//%\n",
"disp(fnew,'New frequency(Hz)');\n",
"format('v',6);\n",
"disp(fdev,'Frequency deviation(%)');"
   ]
   }
,
{
		   "cell_type": "markdown",
		   "metadata": {},
		   "source": [
			"## Example 5.17: Rate_of_frequency_increase.sce"
		   ]
		  },
  {
"cell_type": "code",
	   "execution_count": null,
	   "metadata": {
	    "collapsed": true
	   },
	   "outputs": [],
"source": [
"//Example 5.17\n",
"clc;clear;close;\n",
"format('v',6);\n",
"KE=1500;//MJ\n",
"Pin=5;//MW\n",
"f=50;//Hz\n",
"t=1;//sec\n",
"delKE=Pin*t;////MJ///due to power inputs\n",
"fnew=sqrt((KE+delKE)/KE) *f;//Hz\n",
"delf=fnew-f;///Hz/second\n",
"disp(delf,'Frequency increase rate(Hz/sec)');"
   ]
   }
,
{
		   "cell_type": "markdown",
		   "metadata": {},
		   "source": [
			"## Example 5.18: Primary_ALFC_looop_parameter.sce"
		   ]
		  },
  {
"cell_type": "code",
	   "execution_count": null,
	   "metadata": {
	    "collapsed": true
	   },
	   "outputs": [],
"source": [
"//Example 5.18\n",
"clc;clear;close;\n",
"format('v',6);\n",
"C=2000;//MW///Capacity\n",
"L=1000;//MW//Load\n",
"H=5;//kWs/KVA\n",
"R=2.4;//Hz/puMW//Regulation\n",
"f=50;//Hz\n",
"delL=1;//%////change in load\n",
"delf=1;//%////change in frequency\n",
"D=delL/delf*L/f;//MW/Hz\n",
"D=D/C;//p.u.MW/Hz\n",
"Kp=1/D;//Hz/p.u.MW\n",
"Tp=2*H/f/D;//sec\n",
"disp('Primary ALFC loop parameters are : ');\n",
"disp(D,'D(p.u.MW/Hz)');\n",
"disp(Kp,'Kp(Hz/p.u.MW)');\n",
"disp(Tp,'Tp(sec)');"
   ]
   }
,
{
		   "cell_type": "markdown",
		   "metadata": {},
		   "source": [
			"## Example 5.19: Compute_the_time_error.sce"
		   ]
		  },
  {
"cell_type": "code",
	   "execution_count": null,
	   "metadata": {
	    "collapsed": true
	   },
	   "outputs": [],
"source": [
"//Example 5.19\n",
"clc;clear;close;\n",
"format('v',6);\n",
"Tp=10;//sec\n",
"Tg=0;//sec\n",
"Tt=0;//sec\n",
"Kp=100;//Hz/p.u.MW\n",
"R=3;///Hz/CuMW\n",
"delPD=0.1;//p.u.\n",
"Ki=0.1;//constant\n",
"f=50;//Hz\n",
"s=poly(0,'s');\n",
"delFs=-Kp/Tp*[delPD/(s^2+s*{(1+Kp/R)/Tp})+Ki*Kp/Tp];\n",
"n=1;//cycle\n",
"time_error=n/f;//sec\n",
"disp(time_error,'Total time error(sec)');"
   ]
   }
,
{
		   "cell_type": "markdown",
		   "metadata": {},
		   "source": [
			"## Example 5.1: Change_in_power_output.sce"
		   ]
		  },
  {
"cell_type": "code",
	   "execution_count": null,
	   "metadata": {
	    "collapsed": true
	   },
	   "outputs": [],
"source": [
"//Example 5.1\n",
"clc;clear;close;\n",
"P=100;//MW\n",
"drop=4;//%(No load to full load drop)\n",
"f=50;//Hz\n",
"disp('Part(i)');\n",
"p=1;//MW(For calculating per unit MW)\n",
"R=(drop/100)*f/p;//Hz/p.u.MW\n",
"disp(R,'Speed regulation in Hz/p.u.MW');\n",
"R=(drop/100)*f/P;//Hz/MW\n",
"disp(R,'Speed regulation in Hz/MW');\n",
"disp('Part(ii)');\n",
"del_f=-0.1;//Hz(Frequency drop)\n",
"delP=-1/R*del_f;//MW(Change in power output)\n",
"disp(delP,'Change in power output(MW)');"
   ]
   }
,
{
		   "cell_type": "markdown",
		   "metadata": {},
		   "source": [
			"## Example 5.20: Generated_output_Power_and_frequency.sce"
		   ]
		  },
  {
"cell_type": "code",
	   "execution_count": null,
	   "metadata": {
	    "collapsed": true
	   },
	   "outputs": [],
"source": [
"//Example 5.20\n",
"clc;clear;close;\n",
"format('v',6);\n",
"L=14;//MW//Total Load\n",
"C1=15;//MW\n",
"R1=3;//%//speed regulation\n",
"C2=4;//MW\n",
"R2=4;//%//speed regulation\n",
"LB=4;//MW//Load on bus bar\n",
"LA=10;//MW///Load on bus bar\n",
"f=50;//Hz\n",
"//Load on station A= L1 MW\n",
"//Load on station B= L-L1 MW\n",
"//f-C1*f/100*(L1/C1)=f-C2*f/100*(L2/C2)\n",
"L1=R2*L/C2/(R1/C1+R2/C2);//MW\n",
"L2=L-L1;//MW\n",
"disp(L1,'Load generation at station A(MW)');\n",
"disp(L2,'Load generation at station B(MW)');\n",
"Pt=L1-LA;//MW//Power transmitted A to B\n",
"f_oper=f-R1/100/C1*(L1)*f;//Hz\n",
"disp(f_oper,'Operating Frequency(Hz)');"
   ]
   }
,
{
		   "cell_type": "markdown",
		   "metadata": {},
		   "source": [
			"## Example 5.21: No_Load_Frequencies.sce"
		   ]
		  },
  {
"cell_type": "code",
	   "execution_count": null,
	   "metadata": {
	    "collapsed": true
	   },
	   "outputs": [],
"source": [
"//Example 5.21\n",
"clc;clear;close;\n",
"format('v',6);\n",
"C1=300;//MW\n",
"C2=400;//MW\n",
"G1=4;//%//droop characteristics of governer\n",
"G2=6;//%//droop characteristics of governer\n",
"L=400;//MW\n",
"f=50;//Hz\n",
"L1=C1*L/(C1+C2);//MW//Load on 300 MW generator\n",
"L2=L*C2/(C1+C2);//MW//Load on 400 MW generator\n",
"f01=f*(C1)/(C1-G1/100*L1);//Hz///No load frequency\n",
"disp(f01,'No load frequency of 300 MW generator(Hz)');\n",
"f02=f*(C2)/(C2-G2/100*L2);//Hz///No load frequency\n",
"disp(f02,'No load frequency of 400 MW generator(Hz)');"
   ]
   }
,
{
		   "cell_type": "markdown",
		   "metadata": {},
		   "source": [
			"## Example 5.22: Generation_and_transfer_of_power.sce"
		   ]
		  },
  {
"cell_type": "code",
	   "execution_count": null,
	   "metadata": {
	    "collapsed": true
	   },
	   "outputs": [],
"source": [
"//Example 5.22\n",
"clc;clear;close;\n",
"format('v',6);\n",
"C1=200;//MW\n",
"C2=100;//MW\n",
"R1=1.5;//%//speed regulation\n",
"R2=3;//%//speed regulation\n",
"L=100;//MW///Load on each bus\n",
"f=50;//Hz\n",
"RA=R1/100*f/C1;//Hz/MW\n",
"RB=R2/100*f/C2;//Hz/MW\n",
"//Let PA= generation at plant A\n",
"//PB=2*L-PA will be generation at plant B\n",
"//RA*PA=RB*PB\n",
"PA=RB*2*L/(RA+RB);//MW\n",
"PB=2*L-PA;//MW\n",
"disp(PA,'Load generation at plant A(MW)');\n",
"disp(PB,'Load generation at plant B(MW)');\n",
"Pt=PA-L;//MW///Power transfer\n",
"disp(Pt,'Power transfer from A to B(MW)');"
   ]
   }
,
{
		   "cell_type": "markdown",
		   "metadata": {},
		   "source": [
			"## Example 5.23: Voltage_Boost_Needed.sce"
		   ]
		  },
  {
"cell_type": "code",
	   "execution_count": null,
	   "metadata": {
	    "collapsed": true
	   },
	   "outputs": [],
"source": [
"//Example 5.23\n",
"clc;clear;close;\n",
"format('v',7);\n",
"Z=1.5+%i*2.5;//ohm\n",
"V=11;//kV\n",
"P=20;//MW\n",
"pf=0.8;//power factor\n",
"theta=acosd(pf);\n",
"I=P*1000/sqrt(3)/V/pf;//\n",
"I=I*expm(%i*-theta*%pi/180);//A\n",
"Vdrop=I*Z;//V\n",
"Vboost=Vdrop;//V\n",
"disp(Vboost,'Voltage boost needed at station A(V)');"
   ]
   }
,
{
		   "cell_type": "markdown",
		   "metadata": {},
		   "source": [
			"## Example 5.24: Phase_angle_and_pu_real_and_active.sce"
		   ]
		  },
  {
"cell_type": "code",
	   "execution_count": null,
	   "metadata": {
	    "collapsed": true
	   },
	   "outputs": [],
"source": [
"//Example 5.24\n",
"clc;clear;close;\n",
"format('v',6);\n",
"Z=3+%i*9;//%///impedence\n",
"Z=Z/100;//p.u.///Impedence\n",
"I=1;//p.u.\n",
"IZ=Z;//p.u.\n",
"disp('Part(a)');\n",
"//2*I^2-2*cos(del)=[abs(IZ)]^2\n",
"cos_del=acosd((2*I^2-[abs(IZ)]^2)/2);//degree\n",
"disp(cos_del,'Phase angle between two station(degree)');\n",
"angle_abc=87.277;///degree\n",
"theta=180-angle_abc-atand(imag(IZ)/real(IZ));//degree\n",
"Preal=I^2*cosd(theta);//p.u.\n",
"disp(Preal,'Real power transfer(p.u.)');\n",
"Preactive=I^2*sind(theta);//p.u.\n",
"disp(Preactive,'Reactive power transfer(p.u.)');\n",
"disp('Part(b)');\n",
"//1.05^2+1^2-2*1.05*cos(del)=[abs(IZ)]^2\n",
"cos_del=acosd((1.05^2+1^2-[abs(IZ)]^2)/2/1.05);//degree\n",
"disp(cos_del,'Phase angle between two station(degree)');\n",
"angle_dbc=60.53;///degree\n",
"theta=atand(imag(IZ)/real(IZ))-angle_dbc//degree\n",
"Preal=I^2*cosd(theta);//p.u.\n",
"disp(Preal,'Real power transfer(p.u.)');\n",
"Preactive=I^2*sind(theta);//p.u.\n",
"disp(Preactive,'Reactive power transfer(p.u.)');\n",
"//Answer in the textbook is not accurate."
   ]
   }
,
{
		   "cell_type": "markdown",
		   "metadata": {},
		   "source": [
			"## Example 5.2: Frequency_Deviation.sce"
		   ]
		  },
  {
"cell_type": "code",
	   "execution_count": null,
	   "metadata": {
	    "collapsed": true
	   },
	   "outputs": [],
"source": [
"//Example 5.2\n",
"clc;clear;close;\n",
"format('v',6);\n",
"P=100;//MVA\n",
"f=50;//Hz\n",
"H=5;//kW-sec/kVA(Constant)\n",
"delP=50;//MW(Increased Load)\n",
"td=0.5;//s(Time delay)\n",
"P=P/1000;//kVA\n",
"KE=P*H;//kW-sec\n",
"delP=delP/1000;//kW(Increased Load)\n",
"KE_loss=delP*td;//kW-s\n",
"f_new=sqrt((KE-KE_loss)/KE)*f;//Hz\n",
"f_dev=(f-f_new)/f*100;//%(Frequency deviation)\n",
"disp(f_dev,'Frequency deviation(%)');"
   ]
   }
,
{
		   "cell_type": "markdown",
		   "metadata": {},
		   "source": [
			"## Example 5.3: Value_of_R.sce"
		   ]
		  },
  {
"cell_type": "code",
	   "execution_count": null,
	   "metadata": {
	    "collapsed": true
	   },
	   "outputs": [],
"source": [
"//Example 5.3\n",
"clc;clear;close;\n",
"format('v',7);\n",
"P1=500;//MW\n",
"P2=200;//MW\n",
"f=50;//Hz\n",
"delP=140;//MW(System load increase)\n",
"f_new=49.5;//Hz(Frequency after drop)\n",
"delP1=delP*P1/(P1+P2);//MW\n",
"delP2=delP*P2/(P1+P2);//MW\n",
"f_dev=f_new-f;//Hz\n",
"//For delPdash=0, R1 &R2 can be calculated as :\n",
"R1=-1/delP1*f_dev;//Hz/MW\n",
"R2=-1/delP2*f_dev;//Hz/MW\n",
"disp(R2,R1,'Value of R for unit 1 & 2(Hz/MW)');"
   ]
   }
,
{
		   "cell_type": "markdown",
		   "metadata": {},
		   "source": [
			"## Example 5.4: Static_Frequency_Drop.sce"
		   ]
		  },
  {
"cell_type": "code",
	   "execution_count": null,
	   "metadata": {
	    "collapsed": true
	   },
	   "outputs": [],
"source": [
"//Example 5.4\n",
"clc;clear;close;\n",
"format('v',8);\n",
"f=50;//Hz\n",
"R=2;//Hz/pu MW\n",
"Pr=10000;//MW(Rated Capacity)\n",
"P=Pr/2;//MW(Operating Power)\n",
"delP=2;//%(Load Increase)\n",
"del_f=f*1/100;//Hz(1% change in frequency)\n",
"del_PL=P*1/100;//MW(1% change in load)\n",
"//Rate of change of load with frequency :\n",
"D=del_PL/del_f;//MW/Hz\n",
"D=D/Pr;//p.u. MW/Hz\n",
"//Frequency response characteristic : \n",
"Beta=D+1/R;//p.u. MW/Hz\n",
"M=delP/100*P;//MW\n",
"M=M/Pr;//p.u. MW\n",
"del_fo=-M/Beta;//Hz\n",
"disp(del_fo,'Static frequency drop(Hz)')\n",
"R=%inf;\n",
"Beta=D+1/R;//p.u. MW/Hz\n",
"del_fo=-M/Beta;//Hz\n",
"disp(del_fo,'If speed governer loop is open, frequency drop(Hz)')"
   ]
   }
,
{
		   "cell_type": "markdown",
		   "metadata": {},
		   "source": [
			"## Example 5.5: Primary_ALFC_looop_parameter.sce"
		   ]
		  },
  {
"cell_type": "code",
	   "execution_count": null,
	   "metadata": {
	    "collapsed": true
	   },
	   "outputs": [],
"source": [
"//Example 5.5\n",
"clc;clear;close;\n",
"format('v',7);\n",
"C=10000;//MW(Control area capacity)\n",
"P=5000;//MW\n",
"H=5;//s\n",
"R=3;//Hz/pu MW\n",
"f=50;//Hz\n",
"del_f=f*1/100;//Hz\n",
"del_PL=P*1/100;//MW\n",
"D=del_PL/del_f;//MW/Hz\n",
"D=D/C;//p.u. MW/Hz\n",
"//Primary ALFC loop parameters :\n",
"Kp=1/D;//Hz/p.u. MW\n",
"Tp=2*H/f/D;//s\n",
"disp('Primary ALFC loop parameters :')\n",
"disp(Kp,'Kp(Hz/p.u. MW)');\n",
"disp(Tp,'Tp(seconds)');"
   ]
   }
,
{
		   "cell_type": "markdown",
		   "metadata": {},
		   "source": [
			"## Example 5.6: Increased_Generation.sce"
		   ]
		  },
  {
"cell_type": "code",
	   "execution_count": null,
	   "metadata": {
	    "collapsed": true
	   },
	   "outputs": [],
"source": [
"//Example 5.6\n",
"clc;clear;close;\n",
"format('v',6);\n",
"f=50;//Hz\n",
"R=2;//Hz/pu MW\n",
"Pr=10000;//MW(Rated Capacity)\n",
"P=Pr/2;//MW(Operating Power)\n",
"delP=2;//%(Load Increase)\n",
"del_f=f*1/100;//Hz(1% change in frequency)\n",
"del_PL=P*1/100;//MW(1% change in load)\n",
"//Rate of change of load with frequency :\n",
"D=del_PL/del_f;//MW/Hz\n",
"D=D/Pr;//p.u. MW/Hz\n",
"//Frequency response characteristic : \n",
"Beta=D+1/R;//p.u. MW/Hz\n",
"M=delP/100*P;//MW\n",
"M=M/Pr;//p.u. MW\n",
"del_fo=-M/Beta;//Hz\n",
"disp('Frequency drop contribution to increase in load(MW) : ');\n",
"delP_fo=-del_fo*(D*Pr);//MW\n",
"disp(delP_fo);\n",
"disp('Increase in generation to meet the increase load(MW) ');\n",
"delP_gen=-del_fo/R*Pr;//MW\n",
"disp(delP_gen);"
   ]
   }
,
{
		   "cell_type": "markdown",
		   "metadata": {},
		   "source": [
			"## Example 5.7: Frequency_Deviation.sce"
		   ]
		  },
  {
"cell_type": "code",
	   "execution_count": null,
	   "metadata": {
	    "collapsed": true
	   },
	   "outputs": [],
"source": [
"//Example 5.7\n",
"clc;clear;close;\n",
"format('v',5);\n",
"G=100;//MVA\n",
"f=50;//Hz\n",
"n=3000;//rpm\n",
"L=25;//MW//Load\n",
"td=0.5;//sec\n",
"H=4.5;//MW-sec/MVA\n",
"//Calculation\n",
"KE=H*G;//MW-sec////at no load\n",
"KE_Loss=L*td;//MW-sec///due to increase in load\n",
"f_new=sqrt((KE-KE_Loss)/KE)*f;//Hz\n",
"delF=(f-f_new)/f*100;//%////frequency deviation\n",
"disp(delF,'Frequency deviation(%)');"
   ]
   }
,
{
		   "cell_type": "markdown",
		   "metadata": {},
		   "source": [
			"## Example 5.8: Change_in_step_and_frequency.sce"
		   ]
		  },
  {
"cell_type": "code",
	   "execution_count": null,
	   "metadata": {
	    "collapsed": true
	   },
	   "outputs": [],
"source": [
"//Example 5.8\n",
"clc;clear;close;\n",
"format('v',6);\n",
"C=4000;//MW\n",
"f=50;//Hz\n",
"L=2500;//MW//Load\n",
"R=2;//Hz/p.u.MW////Speed regulation constant\n",
"H=5;//sec////Inertia constant\n",
"delPL=2;//%////change in load\n",
"delf=1;//%////change in frequency\n",
"disp('Part(a)');\n",
"D=delPL/delf*L/f;//MW/Hz\n",
"D=D/C;//p.u.MW/Hz\n",
"Beta=D+1/R;//p.u.MW/Hz\n",
"delf0=-0.2;//Hz\n",
"M=-(delf0)*Beta;//p.u.MW\n",
"M=M*C;//MW\n",
"disp(M,'Largest change in step load(MW)');\n",
"disp('Part(b)');\n",
"Kp=1/D;//Hz/p.u.MW\n",
"Tp=2*H/f/D;//sec\n",
"Tdash=(R+Kp)/R/Tp;//sec\n",
"disp(Tdash,'(R+Kp)/(R*Tp) in seconds = ');\n",
"printf('Change in frequency as a funtion of time, \ndelf(t) = -0.2*(1-epsilon^(-%f*t))',Tdash);"
   ]
   }
,
{
		   "cell_type": "markdown",
		   "metadata": {},
		   "source": [
			"## Example 5.9: Frequency_response_and_value_of_Ki.sce"
		   ]
		  },
  {
"cell_type": "code",
	   "execution_count": null,
	   "metadata": {
	    "collapsed": true
	   },
	   "outputs": [],
"source": [
"//Example 5.9\n",
"clc;clear;close;\n",
"format('v',7);\n",
"C=4000;//MW\n",
"f=50;//Hz\n",
"L=C;//MW//Load\n",
"R=2.5;//%////Speed regulation constant\n",
"H=5;//sec////Inertia constant\n",
"delPL=1;//%////change in load\n",
"delf=1;//%////change in frequency\n",
"disp('Part(a)');\n",
"Ls=80;//MW;//increase in step to load\n",
"R=R/100*f;//z/p.u.MW\n",
"D=delPL/delf*L/f;//MW/Hz\n",
"D=D/C;//p.u.MW/Hz\n",
"M=Ls/L;//unitless//for given step load\n",
"Kp=1/D;//Hz/p.u.MW\n",
"Tp=2*H/f/D;//sec\n",
"Tdash1=(R+Kp)/R/Tp;//sec\n",
"disp(Tdash1,'(R+Kp)/(R*Tp) in seconds = ');\n",
"Tdash2=(R*Kp*M)/(R+Kp);//sec\n",
"disp(Tdash2,'(R*Kp*M)/(R+Kp) in seconds = ');\n",
"delf0=-Tdash2;//Hz////Static frequency error\n",
"disp(delf0,'Static frequency error(Hz)');\n",
"disp('Part(b)');\n",
"Ki=(1+Kp/R)^2/4/Tp/Kp;//p.u.MW/Hz\n",
"disp(Ki,'Critical value of Ki(p.u.MW/Hz)');"
   ]
   }
],
"metadata": {
		  "kernelspec": {
		   "display_name": "Scilab",
		   "language": "scilab",
		   "name": "scilab"
		  },
		  "language_info": {
		   "file_extension": ".sce",
		   "help_links": [
			{
			 "text": "MetaKernel Magics",
			 "url": "https://github.com/calysto/metakernel/blob/master/metakernel/magics/README.md"
			}
		   ],
		   "mimetype": "text/x-octave",
		   "name": "scilab",
		   "version": "0.7.1"
		  }
		 },
		 "nbformat": 4,
		 "nbformat_minor": 0
}
