{
"cells": [
 {
		   "cell_type": "markdown",
	   "metadata": {},
	   "source": [
       "# Chapter 6: Reactive power control"
	   ]
	},
{
		   "cell_type": "markdown",
		   "metadata": {},
		   "source": [
			"## Example 6.1: Voltage_and_power_factor.sce"
		   ]
		  },
  {
"cell_type": "code",
	   "execution_count": null,
	   "metadata": {
	    "collapsed": true
	   },
	   "outputs": [],
"source": [
"//exa 6.1\n",
"clc;clear;close;\n",
"format('v',6);\n",
"kV=220;//kV\n",
"Z=0.8+%i*0.2;//pu\n",
"V=1;//V(Voltage at load terminal)\n",
"X=0.2+0.05;//pu(line and transformer reactance)\n",
"P=real(Z);//pu\n",
"Q=imag(Z);//pu\n",
"BaseMVA=100;//MVA\n",
"BasekV=220;//kV\n",
"I=sqrt((P^2+Q^2)/V^2)*expm(%i*atan(-imag(Z),real(Z)));//pu\n",
"Vb=V+I*(X*expm(%i*%pi/2));//pu(Voltage at 200 kV bus)\n",
"fi_p=atand(imag(Vb),real(Vb));//degree(power angle)\n",
"Vb=abs(Vb)*kV;//kV(Voltage at 200 kV bus)\n",
"pf=cosd(fi_p+atand(imag(Z),real(Z)));//power factor at 220 kV bus\n",
"disp(Vb,'Voltage at 220 kV bus (kV)');\n",
"disp(pf,'Power factor at 220 kV bus (lagging)');"
   ]
   }
,
{
		   "cell_type": "markdown",
		   "metadata": {},
		   "source": [
			"## Example 6.2: Voltage_and_power_factor.sce"
		   ]
		  },
  {
"cell_type": "code",
	   "execution_count": null,
	   "metadata": {
	    "collapsed": true
	   },
	   "outputs": [],
"source": [
"//exa 6.2\n",
"clc;clear;close;\n",
"format('v',6);\n",
"kV=220;//kV\n",
"Z=0.8+%i*0.2;//pu\n",
"V=1;//V(Voltage at load terminal)\n",
"X=0.2+0.05;//pu(line and transformer reactance)\n",
"P=real(Z);//pu\n",
"Q=imag(Z);//pu\n",
"BaseMVA=100;//MVA\n",
"BasekV=220;//kV\n",
"I=sqrt((P^2+Q^2)/V^2);//pu\n",
"Vb=V+I*(X*expm(%i*%pi/2));//pu(Voltage at 200 kV bus)\n",
"fi_p=atand(imag(Vb),real(Vb));//degree(power angle)\n",
"Vb=abs(Vb)*kV;//kV(Voltage at 200 kV bus)\n",
"pf=cosd(fi_p);//power factor at 220 kV bus\n",
"disp(Vb,'Voltage at 220 kV bus (kV)');\n",
"format('v',5);\n",
"disp(pf,'Power factor at 220 kV bus (lagging)');"
   ]
   }
,
{
		   "cell_type": "markdown",
		   "metadata": {},
		   "source": [
			"## Example 6.3: Find_ABCD_Parameters.sce"
		   ]
		  },
  {
"cell_type": "code",
	   "execution_count": null,
	   "metadata": {
	    "collapsed": true
	   },
	   "outputs": [],
"source": [
"//exa 6.3\n",
"clc;clear;close;\n",
"format('v',7);\n",
"l=350;//km(length of line)\n",
"Z=180*expm(%i*75*%pi/180);//ohm/phase(Total)\n",
"Y=1*10^-3*expm(%i*90*%pi/180);//Siemens/phase(Total)\n",
"z=Z/l;//ohm/km\n",
"y=Y/l;//Siemens/km\n",
"re=l*sqrt(z*y);//\n",
"Zc=sqrt(z/y);//ohm\n",
"disp('Part(a) A,B,C,D parameters are : ');\n",
"A=cosh(re);//unitless\n",
"D=A;//unitless\n",
"B=Zc*sinh(re);//ohm\n",
"C=sinh(re)/Zc;//unitless\n",
"A_mag=abs(A);//unitless\n",
"A_angle=atand(imag(A)/real(A));//degree\n",
"B_mag=abs(B);//ohm\n",
"B_angle=atand(imag(B)/real(B));//degree\n",
"C_mag=abs(C);//unitless\n",
"C_angle=atand(imag(C)/real(C));//degree\n",
"C_angle=C_angle+180;//degree(Converting -ve to +ve angle)\n",
"D_mag=abs(D);//unitless\n",
"D_angle=atand(imag(D)/real(D));//degree\n",
"disp(A_mag,'Magnitude of A : ');\n",
"format('v',5);\n",
"disp(A_angle,'Angle of A(degree) : ');\n",
"format('v',7);\n",
"disp(B_mag,'Magnitude of B(ohm) : ');\n",
"format('v',6);\n",
"disp(B_angle,'Angle of B(degree) : ');\n",
"format('v',8);\n",
"disp(C_mag,'Magnitude of C : ');\n",
"format('v',6);\n",
"disp(C_angle,'Angle of C(degree) : ');\n",
"format('v',7);\n",
"disp(D_mag,'Magnitude of D : ');\n",
"format('v',5);\n",
"disp(D_angle,'Angle of D(degree) : ');\n",
"//60% series compensation\n",
"B=B-%i*60/100*abs(Z)*sind(atand(imag(Z),real(Z)));//ohm(considering series compensation=60%)\n",
"//For Equivalent pi-circuit\n",
"disp('Part(b) A,B,C,D parameters of compensated line are : ');\n",
"Ydash=2/Zc*[(cosh(re)-1)/sinh(re)];//S\n",
"A=1+B*Ydash/2;//unitless\n",
"D=A;//unitless\n",
"C=2*Ydash/2+B*(Ydash/2)^2;//unitless\n",
"A_mag=abs(A);//unitless\n",
"A_angle=atand(imag(A)/real(A));//degree\n",
"B_mag=abs(B);//ohm\n",
"B_angle=atand(imag(B)/real(B));//degree\n",
"C_mag=abs(C);//unitless\n",
"C_angle=atand(imag(C)/real(C));//degree\n",
"C_angle=C_angle+180;//degree(Converting -ve to +ve angle)\n",
"D_mag=abs(D);//unitless\n",
"D_angle=atand(imag(D)/real(D));//degree\n",
"format('v',4);\n",
"disp(B_mag,'Magnitude of B(ohm) : ');\n",
"format('v',6);\n",
"disp(B_angle,'Angle of B(degree) : ');\n",
"format('v',7);\n",
"disp(A_mag,'Magnitude of A : ');\n",
"format('v',5);\n",
"disp(A_angle,'Angle of A(degree) : ');\n",
"format('v',6);\n",
"disp(C_mag,'Magnitude of C : ');\n",
"format('v',5);\n",
"disp(C_angle,'Angle of C(degree) : ');\n",
"format('v',7);\n",
"disp(D_mag,'Magnitude of D : ');\n",
"format('v',5);\n",
"disp(D_angle,'Angle of D(degree) : ');\n",
"//Answer for some parts are not accurate in the textbook."
   ]
   }
,
{
		   "cell_type": "markdown",
		   "metadata": {},
		   "source": [
			"## Example 6.4: Constant_of_nominal_pi_circuit.sce"
		   ]
		  },
  {
"cell_type": "code",
	   "execution_count": null,
	   "metadata": {
	    "collapsed": true
	   },
	   "outputs": [],
"source": [
"//exa 6.4\n",
"clc;clear;close;\n",
"format('v',6);\n",
"l=350;//km(length of line)\n",
"Z=180*expm(%i*75*%pi/180);//ohm/phase(Total)\n",
"Y=1*10^-3*expm(%i*90*%pi/180);//Siemens/phase(Total)\n",
"z=Z/l;//ohm/km\n",
"y=Y/l;//Siemens/km\n",
"re=l*sqrt(z*y);//\n",
"Zc=sqrt(z/y);//ohm\n",
"disp('For Uncompensated Line, Constants are :');\n",
"B=Z;//ohm//B Parameter\n",
"A=1+Z*Y/2;//unitless//A Parameter\n",
"D=A;//unitless//D Parameter\n",
"C=Y*(1+Z*Y/4);//S//C Parameter\n",
"A_mag=abs(A);\n",
"A_angle=atand(imag(A)/real(A));//degree\n",
"B_mag=abs(B);\n",
"B_angle=atand(imag(B)/real(B));//degree\n",
"C_mag=abs(C);\n",
"C_angle=atand(imag(C)/real(C))+180;//degree\n",
"D_mag=abs(D);\n",
"D_angle=atand(imag(D)/real(D));//degree\n",
"disp(B_angle,B_mag,'Magnitude and Angle(degree) of B(ohm) is ');\n",
"disp(A_angle,A_mag,'Magnitude and Angle(degree) of A is ');\n",
"disp(D_angle,D_mag,'Magnitude and Angle(degree) of D is ');\n",
"format('v',9);\n",
"disp(C_mag,'Magnitude of C(S) is ');\n",
"format('v',6);\n",
"disp(C_angle,'Angle(degree) of C is ');\n",
"disp('For Compensated Line, Constants are :');\n",
"B=Z-0.6*%i*406;//ohm//B Parameter\n",
"A=1+conj(B)*Y/2;//unitless//A Parameter\n",
"D=A;//unitless//D Parameter\n",
"C=Y*(1+Z*Y/4);//S//C Parameter\n",
"A_mag=abs(A);\n",
"A_angle=atand(imag(A)/real(A));//degree\n",
"B_mag=abs(B);\n",
"B_angle=-atand(imag(B)/real(B));//degree\n",
"C_mag=abs(C);\n",
"C_angle=atand(imag(C)/real(C))+180;//degree\n",
"D_mag=abs(D);\n",
"D_angle=atand(imag(D)/real(D));//degree\n",
"disp(B_angle,B_mag,'Magnitude and Angle(degree) of B(ohm) is ');\n",
"disp(A_angle,A_mag,'Magnitude and Angle(degree) of A is ');\n",
"disp(D_angle,D_mag,'Magnitude and Angle(degree) of D is ');\n",
"format('v',9);\n",
"disp(C_mag,'Magnitude of C(S) is ');\n",
"format('v',6);\n",
"disp(C_angle,'Angle(degree) of C is ');"
   ]
   }
,
{
		   "cell_type": "markdown",
		   "metadata": {},
		   "source": [
			"## Example 6.5: VAR_injection_ay_bus.sce"
		   ]
		  },
  {
"cell_type": "code",
	   "execution_count": null,
	   "metadata": {
	    "collapsed": true
	   },
	   "outputs": [],
"source": [
"//exa 6.5\n",
"clc;clear;close;\n",
"format('v',6);\n",
"kv1=220;//kv\n",
"kv2=132;//kv\n",
"baseMVA=200;//MVA\n",
"//Base impedence in 132 kv circuit\n",
"baseZ2=kv2^2/baseMVA;//ohm\n",
"z1=%i*75;//ohm\n",
"z2=%i*70;//ohm\n",
"z3=%i*90;//ohm\n",
"z1=z1/baseZ2;//pu\n",
"z2=z2/baseZ2;//pu\n",
"z3=z3/baseZ2;//pu\n",
"X_AD=%i*0.08+z1;//pu//Reactance from A to D\n",
"X_BD=%i*0.08+z2;//pu//Reactance from A to D\n",
"Zp=z3*X_AD*X_BD/(z3*X_AD+z3*X_BD+X_BD+X_AD);//parallel combination\n",
"sc_D=baseMVA/abs(Zp);//MVA//Short Circuit MVA at D\n",
"delQBYdelV=sc_D/kv2;//MVA/kv\n",
"delQ=delQBYdelV*4;//MVar\n",
"disp(delQ,'Var injection at Bus D(MVar) : ');\n",
"//Answer in the textbook is not accurate."
   ]
   }
,
{
		   "cell_type": "markdown",
		   "metadata": {},
		   "source": [
			"## Example 6.6: Capacity_of_shunt_compensation.sce"
		   ]
		  },
  {
"cell_type": "code",
	   "execution_count": null,
	   "metadata": {
	    "collapsed": true
	   },
	   "outputs": [],
"source": [
"//exa 6.6\n",
"clc;clear;close;\n",
"format('v',6);\n",
"A=0.98*expm(%i*3*%pi/180);//Constant\n",
"B=110*expm(%i*75*%pi/180);//ohm/phase\n",
"P=50;//MVA\n",
"pf=0.8;//lagging\n",
"V=132;//kV\n",
"//Formula : Pr=|Vs|*|Vr|/|B|*cosd(Beta-delta)-|A|*|Vr|^2/|B|*cosd(Beta-alfa) :\n",
"betaSUBdelta=acosd((P*pf+abs(A)*V^2/abs(B)*cosd(atand(imag(B),real(B))-atand(imag(A),real(A))))/V^2*abs(B));\n",
"Qr=V^2/abs(B)*sind(betaSUBdelta)-abs(A)*V^2/abs(B)*sind(atand(imag(B),real(B))-atand(imag(A),real(A)));//MVar\n",
"Qr=P*0.6-Qr;//MVar//Since load require lagging component\n",
"disp(Qr,'(a) Capacity of shunt compensation equipment(MVar) : ');\n",
"//part(b)\n",
"//Formula : Pr=|Vs|*|Vr|/|B|*cosd(Beta-delta)-|A|*|Vr|^2/|B|*cosd(Beta-alfa) :\n",
"format('v',5);\n",
"P=0;//MW\n",
"betaSUBdelta=acosd((P*pf+abs(A)*V^2/abs(B)*cosd(atand(imag(B),real(B))-atand(imag(A),real(A))))/V^2*abs(B));\n",
"Qr=V^2/abs(B)*sind(betaSUBdelta)-abs(A)*V^2/abs(B)*sind(atand(imag(B),real(B))-atand(imag(A),real(A)));//MVar\n",
"Qr=P*0.6-Qr;//MVar//Since load require lagging component\n",
"disp(-Qr,'(b) Capacity of shunt compensation equipment(MVar) : ');"
   ]
   }
,
{
		   "cell_type": "markdown",
		   "metadata": {},
		   "source": [
			"## Example 6.7: Find_tap_settings.sce"
		   ]
		  },
  {
"cell_type": "code",
	   "execution_count": null,
	   "metadata": {
	    "collapsed": true
	   },
	   "outputs": [],
"source": [
"//exa 6.7\n",
"clc;clear;close;\n",
"format('v',6);\n",
"V=220;//kV\n",
"Z=20+%i*60;//ohm\n",
"Pr=100;//MVA\n",
"pf=0.8;//lagging pf\n",
"P=Pr*10^6*pf/3;//W\n",
"theta=acosd(pf);//degree\n",
"Q=Pr*10^6*sind(theta)/3;//Vars\n",
"V1=V/sqrt(3)*1000;//V\n",
"V2=V1;//V\n",
"//ts^2*[1-(R*P+X*Q)/V1/V2]=V2/V1\n",
"ts=sqrt(V2/V1/[1-(real(Z)*P+imag(Z)*Q)/V1/V2]);\n",
"tr=1/ts;\n",
"disp(ts,'Tap settings : ts is ');\n",
"format('v',5);\n",
"disp(tr,'tr is ');"
   ]
   }
,
{
		   "cell_type": "markdown",
		   "metadata": {},
		   "source": [
			"## Example 6.8: Find_tap_settings.sce"
		   ]
		  },
  {
"cell_type": "code",
	   "execution_count": null,
	   "metadata": {
	    "collapsed": true
	   },
	   "outputs": [],
"source": [
"//exa 6.8\n",
"clc;clear;close;\n",
"format('v',6);\n",
"kV1=132;//kV\n",
"kV2=33;//kV\n",
"kV3=11;//kV\n",
"MVA1=75;//MVA\n",
"MVA2=50;//MVA\n",
"MVA3=25;//MVA\n",
"X=0.12;//p.u.\n",
"//part(a)\n",
"P=60;//MW\n",
"V1=125;//kV\n",
"V1=V1/kV1;//p.u.\n",
"Q=MVA2/MVA1;//p.u.\n",
"//V1=Vn+X*Q/Vn\n",
"Vn=poly(0,'Vn');\n",
"eqn=Vn^2-V1*Vn+X*Q\n",
"Vn=roots(eqn);//p.u.\n",
"Vn=Vn(1);//p.u.\n",
"Vn=Vn*kV1;//kV\n",
"k=Vn/kV2;//Transformer ratio\n",
"disp(k,'Under Load condition, transformer ratio is ');\n",
"//part(b)\n",
"V1=140;//kV\n",
"V1=V1/kV1;//p.u.\n",
"Q=MVA3/MVA1;//p.u.\n",
"//V1=Vn+X*Q/Vn\n",
"Vn=poly(0,'Vn');\n",
"eqn=Vn^2-V1*Vn+X*Q\n",
"Vn=roots(eqn);//p.u.\n",
"Vn=Vn(1);//p.u.\n",
"Vn=Vn*kV1;//kV\n",
"k=Vn/kV2;//Transformer ratio\n",
"disp(k,'Under No Load condition, transformer ratio is ');"
   ]
   }
,
{
		   "cell_type": "markdown",
		   "metadata": {},
		   "source": [
			"## Example 6.9: Settings_of_tap_changes.sce"
		   ]
		  },
  {
"cell_type": "code",
	   "execution_count": null,
	   "metadata": {
	    "collapsed": true
	   },
	   "outputs": [],
"source": [
"//exa 6.9\n",
"clc;clear;close;\n",
"format('v',7);\n",
"V=132;//kV\n",
"Z=25+%i*66;//ohm\n",
"Pr=100;//MW\n",
"pf=0.9;//lagging pf\n",
"P=Pr*10^6/3;//W\n",
"theta=acosd(pf);//degree\n",
"Q=Pr*10^6*tand(theta)/3;//vars\n",
"V1=V/sqrt(3)*1000;//V\n",
"V2=V1;//V\n",
"//ts^2*[1-(R*P+X*Q)/V1/V2]=V2/V1\n",
"ts=sqrt(V2/V1/[1-(real(Z)*P+imag(Z)*Q)/V1/V2]);\n",
"tr=1/ts;\n",
"disp(ts,'Tap settings : ts is ');\n",
"format('v',5);\n",
"disp(tr,'tr is ');"
   ]
   }
],
"metadata": {
		  "kernelspec": {
		   "display_name": "Scilab",
		   "language": "scilab",
		   "name": "scilab"
		  },
		  "language_info": {
		   "file_extension": ".sce",
		   "help_links": [
			{
			 "text": "MetaKernel Magics",
			 "url": "https://github.com/calysto/metakernel/blob/master/metakernel/magics/README.md"
			}
		   ],
		   "mimetype": "text/x-octave",
		   "name": "scilab",
		   "version": "0.7.1"
		  }
		 },
		 "nbformat": 4,
		 "nbformat_minor": 0
}
