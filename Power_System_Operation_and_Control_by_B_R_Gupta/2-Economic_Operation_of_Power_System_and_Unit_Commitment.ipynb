{
"cells": [
 {
		   "cell_type": "markdown",
	   "metadata": {},
	   "source": [
       "# Chapter 2: Economic Operation of Power System and Unit Commitment"
	   ]
	},
{
		   "cell_type": "markdown",
		   "metadata": {},
		   "source": [
			"## Example 2.10: Transmission_Loss_and_Recieved_Power.sce"
		   ]
		  },
  {
"cell_type": "code",
	   "execution_count": null,
	   "metadata": {
	    "collapsed": true
	   },
	   "outputs": [],
"source": [
"//exa 2.10\n",
"clc;clear;close;\n",
"format('v',5);\n",
"B11=0.001;//MW^-1\n",
"B22=0.0024;//MW^-1\n",
"B12=-0.0005;//MW^-1\n",
"//dC1/dP1=0.8*P1+16;//Rs./MWh\n",
"//dC2/dP2=0.08*P2+12;//Rs./MWh\n",
"lambda=20;\n",
"//Iterations for calculating value\n",
"P1(1)=0;\n",
"P2=0;\n",
"for i=2:1:10\n",
"    P1(i)=(0.2+0.001*P2(i-1))/0.006;\n",
"    P2(i)=(0.4+0.001*P1(i))/0.0088;\n",
"    if  P1(i)==P1(i-1) then\n",
"break;\n",
"    end\n",
"end\n",
"P1=P1(i);//MW\n",
"disp(P1,'Generation P1(MW) : ');\n",
"P2=P2(i);//MW\n",
"disp(P2,'Generation P2(MW) : ');\n",
"format('v',4);\n",
"PL=B11*P1^2+2*B12*P1*P2+B22*P2^2;//MW\n",
"disp(PL,'Transmission Loss(MW) : ');\n",
"format('v',5);\n",
"Pr=P1+P2-PL;//MW\n",
"disp(Pr,'Received Power(MW) : ');"
   ]
   }
,
{
		   "cell_type": "markdown",
		   "metadata": {},
		   "source": [
			"## Example 2.11: Cost_Characteristics.sce"
		   ]
		  },
  {
"cell_type": "code",
	   "execution_count": null,
	   "metadata": {
	    "collapsed": true
	   },
	   "outputs": [],
"source": [
"//exa 2.11\n",
"clc;clear;close;\n",
"format('v',7);\n",
"//C1=561+7.92*P1+0.001562*P1^2;//Rs./hour\n",
"//C2=310+7.85*P2+0.00194*P2^2;//Rs./hour\n",
"a1=561;a2=310;\n",
"b1=7.92;b2=7.85;\n",
"c1=0.001562;c2=0.00194;\n",
"ce=c1*c2/(c1+c2);\n",
"be=ce*(b1/c1+b2/c2);\n",
"ae=a1-b1^2/4/c1+a2-b2^2/4/c2+be^2/4/ce;\n",
"disp('Coefficients are : ');\n",
"disp('ae = '+string(ae)+' & be = '+string(be));\n",
"format('v',10);\n",
"disp(ce,'ce = ')\n",
"PT=poly(0,'PT');\n",
"disp('Cost Characteristics : ')\n",
"disp('CT=870.753+7.8888*PT+0.0008653*PT^2');"
   ]
   }
,
{
		   "cell_type": "markdown",
		   "metadata": {},
		   "source": [
			"## Example 2.12: Daily_Operating_Schedule.sce"
		   ]
		  },
  {
"cell_type": "code",
	   "execution_count": null,
	   "metadata": {
	    "collapsed": true
	   },
	   "outputs": [],
"source": [
"//exa 2.12\n",
"clc;clear;close;\n",
"format('v',7);\n",
"//C1=7700+52.8*P1+5.5*10^-3*P1^2;//Rs./hour\n",
"//C2=2500+15*P2+0.05*P2^2;//Rs./hour\n",
"a1=7700;a2=2500;\n",
"b1=52.8;b2=15;\n",
"c1=5.5*10^-3;c2=0.05;\n",
"P1=poly(0,'P1');\n",
"P2=poly(0,'P2');\n",
"dC1bydP1=52.8+2*5.5*10^-3*P1;\n",
"dC2bydP2=15+2*0.05*P2;\n",
"disp('For 1200 MW Load :');\n",
"P=1200;//MW\n",
"//Let loads of unit are P1 & 1200-P1\n",
"//Economical Loading dC1/dP1=dC2/dP2\n",
"eqn=52.8+2*5.5*10^-3*P1-15-2*0.05*(1200-P1);\n",
"P1=roots(eqn);//MW\n",
"P2=1200-P1;//MW\n",
"disp(P1,'P1(MW) : ');\n",
"disp(P2,'P2(MW) : ');\n",
"disp('For 900 MW Load :');\n",
"P=900;//MW\n",
"clear('P1','P2');\n",
"P1=poly(0,'P1');\n",
"P2=poly(0,'P2');\n",
"//Let loads of unit are P1 & 900-P1\n",
"//Economical Loading dC1/dP1=dC2/dP2\n",
"eqn=52.8+2*5.5*10^-3*P1-15-2*0.05*(900-P1);\n",
"P1=roots(eqn);//MW\n",
"P2=900-P1;//MW\n",
"disp(P1,'P1(MW) : ');\n",
"disp(P2,'P2(MW) : ');\n",
"disp('For 500 MW Load :');\n",
"P=500;//MW\n",
"clear('P1','P2');\n",
"P1=poly(0,'P1');\n",
"P2=poly(0,'P2');\n",
"//Let loads of unit are P1 & 500-P1\n",
"//Economical Loading dC1/dP1=dC2/dP2\n",
"eqn=52.8+2*5.5*10^-3*P1-15-2*0.05*(500-P1);\n",
"P1=roots(eqn);//MW\n",
"P2=500-P1;//MW\n",
"//Minimum load is 200MW\n",
"if P1<200 then\n",
"    P2=P1+P2\n",
"    P1=0;\n",
"end\n",
"disp(P1,'P1(MW) : ');\n",
"disp(P2,'P2(MW) : ');\n",
"format('v',10);\n",
"C=(2500+15*P2+0.05*P2^2)*10;//Rs.//Operating cost for 10 hour\n",
"disp(C,'Operating cost for 10 hour(Rs.)');\n",
"disp('Other option : ');\n",
"P1=200;//MW\n",
"P2=300;//MW\n",
"disp(P1,'P1(MW) : ');\n",
"disp(P2,'P2(MW) : ');\n",
"C1=7700+52.8*P1+5.5*10^-3*P1^2;//Rs./hour\n",
"C2=2500+15*P2+0.05*P2^2;//Rs./hour\n",
"C=10*(C1+C2);//Rs.//Operating cost for 10 hour\n",
"disp(C,'Operating cost for 10 hour(Rs.)');"
   ]
   }
,
{
		   "cell_type": "markdown",
		   "metadata": {},
		   "source": [
			"## Example 2.13: Cost_of_generation.sce"
		   ]
		  },
  {
"cell_type": "code",
	   "execution_count": null,
	   "metadata": {
	    "collapsed": true
	   },
	   "outputs": [],
"source": [
"//exa 2.13\n",
"clc;clear;close;\n",
"format('v',10);\n",
"//C1=2000+20*P1+0.05*P1^2;//Rs./hour\n",
"//C2=2750+26*P2+0.03091*P2^2;//Rs./hour\n",
"P1=350;//MW\n",
"P2=550;//MW\n",
"C1=2000+20*P1+0.05*P1^2;//Rs./hour\n",
"C2=2750+26*P2+0.03091*P2^2;//Rs./hour\n",
"C=C1+C2;//Rs./hour\n",
"disp(C,'(a) Total Cost(Rs./hour)');\n",
"P=P1+P2;//MW//Total Load\n",
"P1=poly(0,'P1');\n",
"P2=poly(0,'P2');\n",
"dC1bydP1=20+2*0.05*P1;\n",
"dC2bydP2=26+2*0.03091*P2;\n",
"disp('(b) For Economic Scheduling')\n",
"format('v',7);\n",
"//dC1/dP1=dC2/dP2 for economic sheduling\n",
"//Let loads of unit are P1 & P-P1\n",
"eqn=20+2*0.05*P1-26-2*0.03091*(P-P1);\n",
"P1=roots(eqn);//MW\n",
"P2=P-P1;//MW\n",
"disp(P2,P1,'Loads P1 & P2 in MW are : ');\n",
"C1=2000+20*P1+0.05*P1^2;//Rs./hour\n",
"C2=2750+26*P2+0.03091*P2^2;//Rs./hour\n",
"Cnew=C1+C2;//Rs./hour\n",
"disp(Cnew,'Total Cost(Rs./hour)');\n",
"saving=C-Cnew;//Rs./hour\n",
"disp(saving,'Total saving(Rs./hour)');\n",
"format('v',5);\n",
"Lt=P1-350;//MW//Tie line load\n",
"disp(Lt,'Tie line load from Plant1 to Plant2(MW) : ');"
   ]
   }
,
{
		   "cell_type": "markdown",
		   "metadata": {},
		   "source": [
			"## Example 2.14: Extra_Ooperating_Cost.sce"
		   ]
		  },
  {
"cell_type": "code",
	   "execution_count": null,
	   "metadata": {
	    "collapsed": true
	   },
	   "outputs": [],
"source": [
"//exa 2.14\n",
"clc;clear;close;\n",
"format('v',7);\n",
"//C=5000+450*P+0.5*P^2;//Rs./hour\n",
"e1=+2;//%//error\n",
"e2=-2;//%//error\n",
"P=200;//MW//Total Load\n",
"//Considering error\n",
"P1=poly(0,'P1');\n",
"P2=poly(0,'P2');\n",
"C1=(5000+450*P+0.5*P1^2)*0.98;//Rs./hour\n",
"C2=(5000+450*P+0.5*P2^2)*1.02;//Rs./hour\n",
"//Let loads of unit are P1 & P-P1\n",
"//dC1/dP1=dC2/dP2 for economic sheduling\n",
"eqn=450*0.98+2*0.5*P1*0.98-450*1.02-2*0.5*(P-P1)*1.02;\n",
"P1=roots(eqn);//MW\n",
"P2=P-P1;//MW\n",
"//if no instrumention error\n",
"C1=(5000+450*P1+0.5*P1^2)*0.98;//Rs./hour\n",
"C2=(5000+450*P2+0.5*P2^2)*1.02;//Rs./hour\n",
"C=C1+C2;//Rs./hour\n",
"//Due to intrumentation error\n",
"P1=P/2;//MW\n",
"P2=P/2;//MW\n",
"C1=(5000+450*P1+0.5*P1^2)*0.98;//Rs./hour\n",
"C2=(5000+450*P2+0.5*P2^2)*1.02;//Rs./hour\n",
"Cerr=C1+C2;//Rs./hour\n",
"Cextra=Cerr-C;//Rs,/hour\n",
"disp(Cextra,'Extra operating cost(Rs./hour)');"
   ]
   }
,
{
		   "cell_type": "markdown",
		   "metadata": {},
		   "source": [
			"## Example 2.15: Find_Optimum_Scheduling.sce"
		   ]
		  },
  {
"cell_type": "code",
	   "execution_count": null,
	   "metadata": {
	    "collapsed": true
	   },
	   "outputs": [],
"source": [
"//exa 2.15\n",
"clc;clear;close;\n",
"format('v',7);\n",
"P1=poly(0,'P1');\n",
"P2=poly(0,'P2'); \n",
"P3=poly(0,'P3');\n",
"Q1=0.002*P1^2+0.86*P1+20;//tons/hour\n",
"Q2=0.004*P2^2+1.08*P2+20;//tons/hour\n",
"Q3=0.0028*P3^2+0.64*P3+36;//tons/hour\n",
"Pmax=120;//MW\n",
"Pmin=36;//MW\n",
"P=200;//MW\n",
"C=500;//Rs./ton\n",
"//C1=C*Q1;C2=C*Q2;C3=C*Q3;//Rs./ton\n",
"dC1bydP1=2*P1+430;//Rs./hour\n",
"dC2bydP2=4*P2+540;//Rs./hour\n",
"dC3bydP3=2.8*P3+320;//Rs./hour\n",
"//P1+P2+P3=P\n",
"A1=[1 1 1];//Coefficient Matrix\n",
"B1=[P];//Coefficient Matrix\n",
"//For minimal cost above 3 equation should be equal\n",
"//eqn1=2*P1-4*P2+430-540;\n",
"//eqn2=4*P2-2.8*P3-320+540;\n",
"A2=[0 4 -2.8];//Coefficient Matrix\n",
"B2=[-540+320];//Coefficient Matrix\n",
"//eqn3=-2*P1+2.8*P3+320-430;\n",
"A3=[-2 0 2.8];//Coefficient Matrix\n",
"B3=[430-320];//Coefficient Matrix\n",
"//solving by matrix method\n",
"A=[A1;A2;A3];//Coefficient Matrix\n",
"B=[B1;B2;B3];//Coefficient Matrix\n",
"X=A^-1*B;//Solution Matrix\n",
"P1=X(1);//MW\n",
"P2=X(2);//MW\n",
"P3=X(3);//MW\n",
"Pmax=120;//MW\n",
"Pmin=36;//MW\n",
"if P2<Pmin then\n",
"   P2=Pmin;//MW     \n",
"end;\n",
"//P1+P3=P-P2//eqn(4)\n",
"A1=[1 1];//Coefficient Matrix\n",
"B1=[P-P2];//Coefficient Matrix\n",
"//eqn3=-2*P1+2.8*P3+320-430;\n",
"A2=[-2 2.8];//Coefficient Matrix\n",
"B2=[430-320];//Coefficient Matrix\n",
"//solving by matrix method\n",
"A=[A1;A2];//Coefficient Matrix\n",
"B=[B1;B2];//Coefficient Matrix\n",
"X=A^-1*B;//Solution Matrix\n",
"P1=X(1);//MW\n",
"P3=X(2);//MW\n",
"disp('According to optimum scheduling, Load distriution is :');\n",
"disp(P1,'P1(MW) : ');\n",
"disp(P2,'P2(MW) : ');\n",
"disp(P3,'P3(MW) : ');"
   ]
   }
,
{
		   "cell_type": "markdown",
		   "metadata": {},
		   "source": [
			"## Example 2.16: Heat_inputs_and_savings.sce"
		   ]
		  },
  {
"cell_type": "code",
	   "execution_count": null,
	   "metadata": {
	    "collapsed": true
	   },
	   "outputs": [],
"source": [
"//exa 2.16\n",
"clc;clear;close;\n",
"format('v',11);\n",
"L=30;//MW\n",
"//I=(32+32*L+1.68*L^2)*10^5;\n",
"t1=18;///hours\n",
"t2=6;///hours\n",
"//Full load 18 hours\n",
"I1=(32+32*L+1.68*L^2)*10^5*t1;//kJ\n",
"//Half load 6 hours\n",
"I2=(32+32*L/2+1.68*(L/2)^2)*10^5*t2\n",
"I=I1+I2;//kJ\n",
"disp(I,'(a) Heat input per day(kJ)');\n",
"E=L*t1+L/2*t2;//MWh///Energy produced in 24 hours\n",
"Lu=E/(t1+t2);//MW\n",
"Inew=(32+32*Lu+1.68*Lu^2)*10^5*(t1+t2);//kJ\n",
"saving=I-Inew;///kJ\n",
"saving=saving/(E*1000);//kJ/kWh\n",
"disp(saving,'(b) Saving in heat per kWh of energy(kJ/kWh) : ');"
   ]
   }
,
{
		   "cell_type": "markdown",
		   "metadata": {},
		   "source": [
			"## Example 2.17: Find_Optimum_Scheduling.sce"
		   ]
		  },
  {
"cell_type": "code",
	   "execution_count": null,
	   "metadata": {
	    "collapsed": true
	   },
	   "outputs": [],
"source": [
"//exa 2.17\n",
"clc;clear;close;\n",
"format('v',7);\n",
"P=800;//MW(Total Load)\n",
"//Using Variable for Cost Curve Equation\n",
"P1=poly(0,'P1');P2=poly(0,'P2');P3=poly(0,'P3');\n",
"//Cost Curve Equation\n",
"C1=450+6.5*P1+0.0013*P1^2;//Rs./hour\n",
"C2=300+7.8*P2+0.0019*P2^2;//Rs./hour\n",
"C3=80+8.1*P3+0.005*P3^2;//Rs./hour\n",
"//Part(a) is not computational\n",
"//Part (b)\n",
"dC1BydP1=6.5+2*0.0013*P1;//Rs./MWh///eqn(1)\n",
"dC2BydP2=7.8+2*0.0019*P2;//Rs./MWh///eqn(2)\n",
"dC3BydP3=8.1+2*0.005*P3;//Rs./MWh///eqn(3)\n",
"//P1+P2+P3=P;//MW///eqn(4)\n",
"A1=[1 1 1];//Coefficient Matrix\n",
"B1=[800];//Coefficient Matrix\n",
"//Equating eqn(1) & (2)\n",
"A2=[2*0.0013 -2*0.0019 0];//Coefficient Matrix\n",
"B2=[7.8-6.5];//Coefficient Matrix\n",
"//Equating eqn(2) & (3)\n",
"A3=[0 2*0.0019 -2*0.005];//Coefficient Matrix\n",
"B3=[8.1-7.8];//Coefficient Matrix\n",
"//Solution By Matrix method\n",
"A=[A1;A2;A3];//Coefficient Matrix\n",
"B=[B1;B2;B3];//Coefficient Matrix\n",
"X=A^-1*B;//Solution Matrix\n",
"P1=X(1);//MW\n",
"P2=X(2);//MW\n",
"P3=X(3);//MW\n",
"disp('(b) According to optimum scheduling, Load distriution is :');\n",
"disp(P1,'P1(MW) : ');\n",
"disp(P2,'P2(MW) : ');\n",
"disp(P3,'P3(MW) : ');\n",
"//Part(c)\n",
"disp('(c) Optimum scheduling : ');\n",
"P1max=600;//MW\n",
"P1min=100;//MW\n",
"P2max=400;//MW\n",
"P2min=50;//MW\n",
"P3max=200;//MW\n",
"P3min=50;//MW\n",
"if P2<P2max&P2>P2min then\n",
"    disp('P2 is within maximum and minimum limits.');\n",
"    P1=P1max;//MW\n",
"    P3=P3min;//MW\n",
"    P2=P-P1-P3;//MW\n",
"end;\n",
"//Lambda=dC2/dP2 as P2 is niether maximum limit nor minimum limit.\n",
"dC2BydP2=7.8+2*0.0019*P2;//Rs./MWh\n",
"lambda=dC2BydP2;//Rs./MWh\n",
"dC1BydP1=6.5+2*0.0013*P1;//Rs./MWh\n",
"dC3BydP3=8.1+2*0.005*P3;//Rs./MWh\n",
"if dC1BydP1<lambda then\n",
"    disp('Condition for P1 satisfied.');\n",
"end;\n",
"if dC3BydP3>lambda then\n",
"    disp('Condition for P3 satisfied.');\n",
"end;\n",
"disp('Load distribution is : ');\n",
"disp(P1,'P1(MW) : ');\n",
"disp(P2,'P2(MW) : ');\n",
"disp(P3,'P3(MW) : ');"
   ]
   }
,
{
		   "cell_type": "markdown",
		   "metadata": {},
		   "source": [
			"## Example 2.18: Transmission_Loss.sce"
		   ]
		  },
  {
"cell_type": "code",
	   "execution_count": null,
	   "metadata": {
	    "collapsed": true
	   },
	   "outputs": [],
"source": [
"//exa 2.18\n",
"clc;clear;close;\n",
"format('v',6);\n",
"Bmn=[0.0676 0.00953 -0.00507\n",
"0.00953 0.0521 0.00901\n",
"-0.00507 0.00901 0.0294];//Loss Coefficient\n",
"Bno=[-0.0766;0.00342;0.0189];//Loss Coefficient\n",
"Boo=0.04357;//Loss Coefficient\n",
"P1=107.9;//MW\n",
"P2=50;//MW\n",
"P3=60;//MW\n",
"//solution : \n",
"PL=[P1 P2 P3]*Bmn+[P1 P2 P3]*Bno+Boo;//MW\n",
"PL=sum(-PL);//MW\n",
"disp(PL,'Transmission Loss(MW)');\n",
"//Note : Values calculated in the book are slightly wrong because of accuracy in calculation as compared to scilab accuracy."
   ]
   }
,
{
		   "cell_type": "markdown",
		   "metadata": {},
		   "source": [
			"## Example 2.19: Find_Load_Distribution.sce"
		   ]
		  },
  {
"cell_type": "code",
	   "execution_count": null,
	   "metadata": {
	    "collapsed": true
	   },
	   "outputs": [],
"source": [
"//exa 2.19\n",
"clc;clear;close;\n",
"format('v',6);\n",
"//lambda1=0.1*P1+20;//Rs./MWh\n",
"//lambda2=0.12*P2+16;//Rs./MWh\n",
"P=180;//MW\n",
"//Let loads are P1 & P-P1\n",
"//Economical loading lambda1=lambda2\n",
"P1=poly(0,'P1');P2=poly(0,'P2');\n",
"eqn=0.1*P1+20-0.12*(P-P1)-16;\n",
"P1=roots(eqn);//MW\n",
"P2=P-P1;//MW\n",
"disp(P1,'Load P1(MW) : ');\n",
"disp(P2,'Load P2(MW) : ');"
   ]
   }
,
{
		   "cell_type": "markdown",
		   "metadata": {},
		   "source": [
			"## Example 2.20: Find_the_load_division.sce"
		   ]
		  },
  {
"cell_type": "code",
	   "execution_count": null,
	   "metadata": {
	    "collapsed": true
	   },
	   "outputs": [],
"source": [
"//exa 2.20\n",
"clc;clear;close;\n",
"format('v',6);\n",
"//F1=0.004*P1^2+2*P1+80;//Rs./hr\n",
"//F2=0.006*P2^2+1.5*P2+100;//Rs./hr\n",
"P=250;//MW\n",
"P1=poly(0,'P1');P2=poly(0,'P2');\n",
"dF1bydP1=2*0.004*P1+2;\n",
"dF2bydP2=2*0.006*P2+1.5;\n",
"//Let loads are P1 & P-P1\n",
"//Economical loading lambda1=lambda2\n",
"eqn=2*0.004*P1+2-2*0.006*(P-P1)-1.5;\n",
"P1=roots(eqn);//MW\n",
"P2=P-P1;//MW\n",
"disp(P1,'Load P1(MW) : ');\n",
"disp(P2,'Load P2(MW) : ');"
   ]
   }
,
{
		   "cell_type": "markdown",
		   "metadata": {},
		   "source": [
			"## Example 2.21: Minimum_cost_of_generation.sce"
		   ]
		  },
  {
"cell_type": "code",
	   "execution_count": null,
	   "metadata": {
	    "collapsed": true
	   },
	   "outputs": [],
"source": [
"//exa 2.21\n",
"clc;clear;close;\n",
"format('v',8);\n",
"//F1=(8*P1+0.024*P1^2+80)*10^6;//Btu./hr\n",
"//F2=(6*P2+0.04*P2^2+120)*10^6;//Btu./hr\n",
"Pmax=100;//MW\n",
"Pmin=10;//MW\n",
"C=2.5;//Rs./million Btu\n",
"//C1=2.5*F1/10^6\n",
"//C2=2.5*F2/10^6\n",
"//For Maximum Load of 100 MW\n",
"P1=poly(0,'P1');P2=poly(0,'P2');\n",
"dC1bydP1=8*2.5+2.5*2*0.024*P1;\n",
"dC2bydP2=6*2.5+2.5*2*0.04*P2;\n",
"//Let loads are P1 & Pmax-P1\n",
"//Economical loading lambda1=lambda2\n",
"eqn=8*2.5+2.5*2*0.024*P1-6*2.5-2.5*2*0.04*(Pmax-P1);\n",
"P1=roots(eqn);//MW\n",
"P2=Pmax-P1;//MW\n",
"C1=2.5*((8*P1+0.024*P1^2+80)*10^6)/10^6;//Rs./hour\n",
"C2=2.5*((6*P2+0.04*P2^2+120)*10^6)/10^6;//Rs./hour\n",
"C100=(C1+C2)*12;//Rs.(Total cost of 12 hours on 100MW load)\n",
"//For Maximum load of 50 MW\n",
"//Let loads are P1 & Pmax-P1\n",
"//Economical loading : lambda1=lambda2\n",
"Pmax1=50;//MW\n",
"clear('P1','P2');\n",
"P1=poly(0,'P1');P2=poly(0,'P2');\n",
"eqn=8*2.5+2.5*2*0.024*P1-6*2.5-2.5*2*0.04*(Pmax1-P1);\n",
"P1=roots(eqn);//MW\n",
"P2=Pmax1-P1;//MW\n",
"C1=2.5*((8*P1+0.024*P1^2+80)*10^6)/10^6;//Rs./hour\n",
"C2=2.5*((6*P2+0.04*P2^2+120)*10^6)/10^6;//Rs./hour\n",
"C50=(C1+C2)*12;//Rs.(Total cost of 12 hours on 50MW load)\n",
"C=C100+C50;//Rs.(Total cost for 24 hours)\n",
"disp(C,'Minimum total cost for 24 hours(Rs.) : ');\n",
"E=(Pmax*12+Pmax1*12)*10^3;//kWh\n",
"//Operating cost per unit energy\n",
"Co=C/E;//Rs./kWh\n",
"disp(Co,'Operating cost per unit energy(Rs./kWh) : ');\n",
"//Answer is wrong in the textbook. Calculation mistake in energy generation calculation & Cost calculation."
   ]
   }
,
{
		   "cell_type": "markdown",
		   "metadata": {},
		   "source": [
			"## Example 2.22: Find_Optimum_Scheduling.sce"
		   ]
		  },
  {
"cell_type": "code",
	   "execution_count": null,
	   "metadata": {
	    "collapsed": true
	   },
	   "outputs": [],
"source": [
"//exa 2.22\n",
"clc;clear;close;\n",
"format('v',10);\n",
"//F1=0.05*P1^2+21.5*P1+800;//Rs./hr\n",
"//F2=0.1*P2^2+27*P2+500;//Rs./hr\n",
"//F3=0.07*P3^2+16*P3+900;//Rs./hr\n",
"PT=200;//MW\n",
"Pmax=120;//MW\n",
"Pmin=39;//MW\n",
"//coefficients : \n",
"c1=0.05;c2=0.1;c3=0.07;\n",
"b1=21.5;b2=27;b3=16;\n",
"a1=800;a2=500;a3=900;\n",
"lambda=(1/2*[b1/c1+b2/c2+b3/c3]+PT)/[1/2*[1/c1+1/c2+1/c3]];\n",
"//Economical loading dF1/dP1=dF2/dP2=dF3/dP3\n",
"P1=poly(0,'P1');P2=poly(0,'P2');P3=poly(0,'P3');\n",
"dF1bydP1=2*0.05*P1+21.5;\n",
"dF2bydP2=2*0.1*P2+27;\n",
"dF2bydP3=2*0.07*P3+16;\n",
"//Solving equation :\n",
"A=[2*0.05 0 0;0 2*0.1 0;0 0 2*0.07];\n",
"B=[lambda-21.5;lambda-27;lambda-16];\n",
"X=A^-1*B;\n",
"P1=X(1);//MW\n",
"P2=X(2);//MW\n",
"P3=X(3);//MW\n",
"if P2<Pmin then\n",
"    P2=Pmin;\n",
"end\n",
"P1plusP3=PT-P2;//MW\n",
"//dF1/dP1=dF3/dP3\n",
"//Let loads are P1 & P1plusP3-P1\n",
"clear('P1','P3');\n",
"P1=poly(0,'P1');P3=poly(0,'P3');\n",
" eqn=2*0.05*P1+21.5-2*0.07*(P1plusP3-P1)-16;\n",
" P1=roots(eqn);//MW\n",
" P3=P1plusP3-P1;//MW\n",
" disp('Optimum scheduling :');\n",
" disp(P3,P2,P1,'Loads P1, P2 & P3 in MW are :');\n",
" F1=0.05*P1^2+21.5*P1+800;//Rs./hr\n",
"F2=0.1*P2^2+27*P2+500;//Rs./hr\n",
"F3=0.07*P3^2+16*P3+900;//Rs./hr\n",
"C=F1+F2+F3;//Rs/hour\n",
"disp(C,'For this schedule, total cost per hour(Rs./hour)');"
   ]
   }
,
{
		   "cell_type": "markdown",
		   "metadata": {},
		   "source": [
			"## Example 2.23: Generation_schedule_and_load_demand.sce"
		   ]
		  },
  {
"cell_type": "code",
	   "execution_count": null,
	   "metadata": {
	    "collapsed": true
	   },
	   "outputs": [],
"source": [
"//exa 2.23\n",
"clc;clear;close;\n",
"format('v',7);\n",
"//dF1/dP1=0.025*P1+15;//\n",
"//dF2/dP2=0.05*P2+20;//\n",
"PL=15.625;//MW\n",
"P1=125;//MW\n",
"lambda=24;//Rs. per MWh\n",
"B11=PL/P1^2;//Coefficient Loss\n",
"//dF2/dP2*L2=lambda\n",
"P2=poly(0,'P2');\n",
"L2=1;//penalty factor\n",
"eqn=(0.05*P2+20)*L2-lambda;\n",
"P2=roots(eqn);//MW\n",
"//PL=B11*P1^2\n",
"P1=poly(0,'P1');\n",
"dPLbydP1=2*B11*P1;\n",
"L1=1/(1-dPLbydP1);//penalty factor\n",
"eqn=(0.025*P1+15)-lambda/L1\n",
"P1=roots(numer(eqn));//MW\n",
"disp(P2,P1,'Generation P1 & P2 in MW are ');\n",
"PL=B11*P1^2;//MW\n",
"LD=P1-PL+P2;//MW\n",
"disp(LD,'Load Demand(MW) :');"
   ]
   }
,
{
		   "cell_type": "markdown",
		   "metadata": {},
		   "source": [
			"## Example 2.24: Optimum_Schedule_and_total_generation.sce"
		   ]
		  },
  {
"cell_type": "code",
	   "execution_count": null,
	   "metadata": {
	    "collapsed": true
	   },
	   "outputs": [],
"source": [
"//exa 2.24\n",
"clc;clear;close;\n",
"format('v',7);\n",
"//dC1/dP1=0.02*P1+16;//\n",
"//dC2/dP2=0.04*P2+20;//\n",
"PL=10;//MW\n",
"P1=100;//MW\n",
"lambda=25;//Rs. per MWh\n",
"B11=PL/P1^2;B22=0;B12=0;//Coefficient Loss\n",
"//dF2/dP2*L2=lambda\n",
"P2=poly(0,'P2');\n",
"L2=1;//penalty factor\n",
"eqn=(0.04*P2+20)*L2-lambda;\n",
"P2=roots(eqn);//MW\n",
"//PL=B11*P1^2\n",
"P1=poly(0,'P1');\n",
"dPLbydP1=2*B11*P1;\n",
"L1=1/(1-dPLbydP1);//penalty factor\n",
"eqn=(0.02*P1+16)-lambda/L1\n",
"P1=roots(numer(eqn));//MW\n",
"disp(P2,P1,'Generation P1 & P2 in MW are ')\n",
"PL=B11*P1^2;//MW\n",
"LD=P1-PL+P2;//MW\n",
"disp(LD,'Load Demand(MW) :');"
   ]
   }
,
{
		   "cell_type": "markdown",
		   "metadata": {},
		   "source": [
			"## Example 2.2: Saving_per_year.sce"
		   ]
		  },
  {
"cell_type": "code",
	   "execution_count": null,
	   "metadata": {
	    "collapsed": true
	   },
	   "outputs": [],
"source": [
"//exa 2.2\n",
"clc;clear;close;\n",
"format('v',8);\n",
"//For equal incremental cost\n",
"L1=125;//MW\n",
"L2=100;//MW\n",
"//For equal sharing\n",
"L=(L1+L2)/2;//MW\n",
"//Change in cost Unit 1\n",
"dC1=integrate('0.2*P1+30','P1',L1,L);//Rs./hour\n",
"//Change in cost Unit 2\n",
"dC2=integrate('0.15*P2+40','P2',L2,L);//Rs./hour\n",
"dCyearly=(dC1+dC2)*24*365;//Rs./year\n",
"disp(dCyearly,'Saving per year in economic load allocation(Rs./year)');\n",
"//Answer in the textbook is not accurate."
   ]
   }
,
{
		   "cell_type": "markdown",
		   "metadata": {},
		   "source": [
			"## Example 2.3: Increase_in_generation.sce"
		   ]
		  },
  {
"cell_type": "code",
	   "execution_count": null,
	   "metadata": {
	    "collapsed": true
	   },
	   "outputs": [],
"source": [
"//exa 2.3\n",
"clc;clear;close;\n",
"format('v',6);\n",
"L=400;///MW///total load\n",
"delPD=50;//MW//increase in demand\n",
"//dC1/dP1=0.2*P1+30\n",
"//dC2/dP2=0.15*P2+40\n",
"twoC1=0.2;//from above equation\n",
"twoC2=0.15;//from above equation\n",
"delP1_by_delPD=(1/twoC1)/(1/twoC1+1/twoC2);\n",
"delP2_by_delPD=(1/twoC2)/(1/twoC1+1/twoC2);\n",
"delP1=delP1_by_delPD*delPD;//MW\n",
"disp(delP1,'Increase in generation of unit1(MW) : ');\n",
"delP2=delP2_by_delPD*delPD;//MW\n",
"disp(delP2,'Increase in generation of unit2(MW) : ');\n",
"format('v',7);\n",
"P1=L/2+delP1;//load on unit 1\n",
"disp(P1,'Total load on unit1(MW) : ');\n",
"P2=L/2+delP2;//load on unit 2\n",
"disp(P2,'Total load on unit2(MW) : ');\n",
"format('v',6);\n",
"disp('Checking incremental cost :');\n",
"dC1_by_dP1=0.2*P1+30;//Rs./MWh\n",
"disp(dC1_by_dP1,'Incremental cost of unit 1(Rs./MWh) : ');\n",
"dC2_by_dP2=0.2*P2+30;//Rs./MWh\n",
"disp(dC2_by_dP2,'Incremental cost of unit 2(Rs./MWh) : ');\n",
"disp('Conclusion : Cost are same(Approximately).');\n",
"//Note : Values calculated in the book are slightly wrong because of accuracy in calculation as compared to scilab accuracy."
   ]
   }
,
{
		   "cell_type": "markdown",
		   "metadata": {},
		   "source": [
			"## Example 2.5: Loss_Coefficient_and_Transmission_Loss.sce"
		   ]
		  },
  {
"cell_type": "code",
	   "execution_count": null,
	   "metadata": {
	    "collapsed": true
	   },
	   "outputs": [],
"source": [
"//exa 2.5\n",
"clc;clear;close;\n",
"format('v',8);\n",
"I1=0.8;//p.u.\n",
"I2=1;//p.u.\n",
"Za=0.04+%i*0.12;//p.u.\n",
"Zb=0.03+%i*0.1;//p.u.\n",
"Zc=0.03+%i*0.12;//p.u.\n",
"V=1;//p.u.\n",
"//Solution : \n",
"V1=V+(I1+I2)*Za+I1*(Zb);//p.u.\n",
"V2=V+(I1+I2)*Za+I2*(Zc);//p.u.\n",
"P1=real(I1*V1);//p.u.\n",
"P2=real(I2*V2);//p.u.\n",
"fi1=atan(imag(V1),real(V1));\n",
"fi2=atan(imag(V2),real(V2));\n",
"disp('Loss Coefficients are : ')\n",
"B11=[real(Za)+real(Zb)]/[abs(V1)^2*cos(fi1)^2];//p.u.\n",
"disp(B11,'B11(p.u.) : ');\n",
"B22=[real(Za)+real(Zc)]/[abs(V2)^2*cos(fi2)^2];//p.u.\n",
"disp(B22,'B22(p.u.) : ');\n",
"B12=[real(Za)]/[abs(V1)*abs(V2)*cos(fi1)*cos(fi2)];//p.u.\n",
"disp(B12,'B12(p.u.) : ');\n",
"PL=P1^2*B11+P2^2*B22+2*P1*P2*B12;//p.u.\n",
"format('v',10);\n",
"disp(PL,'Transmission Loss(p.u.) : ');\n",
"//Note : Values calculated in the book are slightly wrong because of accuracy in calculation as compared to scilab accuracy."
   ]
   }
,
{
		   "cell_type": "markdown",
		   "metadata": {},
		   "source": [
			"## Example 2.7: Loss_Formula_Coefficients.sce"
		   ]
		  },
  {
"cell_type": "code",
	   "execution_count": null,
	   "metadata": {
	    "collapsed": true
	   },
	   "outputs": [],
"source": [
"//exa 2.7\n",
"clc;clear;close;\n",
"format('v',8);\n",
"Za=0.03+%i*0.09;//p.u.\n",
"Ia=1.5-%i*0.4;//p.u.\n",
"Zb=0.10+%i*0.30;//p.u.\n",
"Ib=0.5-%i*0.2;//p.u.\n",
"Zc=0.03+%i*0.09;//p.u.\n",
"Ic=1-%i*0.1;//p.u.\n",
"Zd=0.04+%i*0.12;//p.u.\n",
"Id=1-%i*0.2;//p.u.\n",
"Ze=0.04+%i*0.12;//p.u.\n",
"Ie=1.5-%i*0.3;//p.u.\n",
"V=1;//p.u.\n",
"base=100;//MVA\n",
"//Solution\n",
"//Currents of load\n",
"IL1=0.4;//p.u.\n",
"IL2=0.6;//p.u.\n",
"//Current distribution factors :\n",
"Na1=1;Na2=0;\n",
"Nb1=0.6;Nb2=-0.4;\n",
"Nc1=0;Nc2=1;\n",
"Nd1=0.4;Nd2=0.4;\n",
"Ne1=0.6;Ne2=0.6;\n",
"//Bus Voltages\n",
"V1=V+Ia*Za;//p.u.\n",
"V2=V-Ib*Zb+Ic*Zc;//p.u.\n",
"//Phase Angles\n",
"theta1=atand(imag(Ia),real(Ia));//degree\n",
"theta2=atand(imag(Ic),real(Ic));//degree\n",
"//Power Factors : \n",
"cos_fi1=cosd(atand(imag(V1),real(V1))-theta1);//source 1 power factor\n",
"cos_fi2=cosd(atand(imag(V2),real(V2))-theta2);//source 2 power factor\n",
"disp('Loss formula Coefficients in p.u. :')\n",
"B11=[Na1^2*real(Za)+Nb1^2*real(Zb)+Nc1^2*real(Zc)+Nd1^2*real(Zd)+Ne1^2*real(Ze)]/[abs(V1)^2*cos_fi1];//p.u.\n",
"disp(B11,'B11(p.u) : ');\n",
"format('v',7);\n",
"B22=[Na2^2*real(Za)+Nb2^2*real(Zb)+Nc2^2*real(Zc)+Nd2^2*real(Zd)+Ne2^2*real(Ze)]/[abs(V2)^2*cos_fi2];//p.u.\n",
"disp(B22,'B22(p.u) : ');\n",
"B12=[Na1*Na2*real(Za)+Nb1*Nb2*real(Zb)+Nc1*Nc2*real(Zc)+Nd1*Nd2*real(Zd)+Ne1*Ne2*real(Zc)]/[abs(V1)*abs(V2)*cos_fi1*cos_fi2*[cosd(theta1-theta2)]];//p.u.\n",
"disp(B12,'B12(p.u) : ');\n",
"//Converting p.u. to actual value\n",
"format('v',10);\n",
"disp('Loss formula Coefficients in MW^-1 :')\n",
"B11=B11/base;//MW^-1\n",
"disp(B11,'B11(MW^-1) : ');\n",
"format('v',9);\n",
"B22=B22/base;//MW^-1\n",
"disp(B22,'B22(MW^-1) : ');\n",
"B12=B12/base;//MW^-1\n",
"disp(B12,'B12(MW^-1) : ');\n",
"//Note : Values calculated in the book are slightly wrong because of accuracy in calculation as compared to scilab accuracy."
   ]
   }
,
{
		   "cell_type": "markdown",
		   "metadata": {},
		   "source": [
			"## Example 2.8: Required_generationa_at_each_plant.sce"
		   ]
		  },
  {
"cell_type": "code",
	   "execution_count": null,
	   "metadata": {
	    "collapsed": true
	   },
	   "outputs": [],
"source": [
"//exa 2.8\n",
"clc;clear;close;\n",
"format('v',8);\n",
"//dC1/dP1=0.2*P1+22;//Rs./MWh\n",
"//dC2/dP2=0.15*P2+30;//Rs./MWh\n",
"B22=0;B12=0;//Because Loss is independent wrt P2\n",
"P1=100;//MW\n",
"PL=15;//MW\n",
"B11=PL/P1^2;//MW^-1\n",
"L1=1/[1-0.003*P1];//Penalty Factor plant 1\n",
"L2=1;//Penalty Factor of plant 2\n",
"lambda=60;\n",
"//lambda=dC1/dP1*L1=dC2/dP2*L2\n",
"//dC1/dP1*L1=dC2/dP2*L2\n",
"P2=((0.2*P1+22)*L1-30)/0.15;//MW\n",
"P=P1+P2-B11*P1^2;//MW//Total Load\n",
"disp(P1,'Required generation at plant1(MW)');\n",
"disp(P2,'Required generation at plant2(MW)');\n",
"disp(P,'Total Load(MW)');"
   ]
   }
,
{
		   "cell_type": "markdown",
		   "metadata": {},
		   "source": [
			"## Example 2.9: Saving_in_Rs_per_hour.sce"
		   ]
		  },
  {
"cell_type": "code",
	   "execution_count": null,
	   "metadata": {
	    "collapsed": true
	   },
	   "outputs": [],
"source": [
"//exa 2.9\n",
"clc;clear;close;\n",
"format('v',6);\n",
"//dC1/dP1=0.2*P1+22;//Rs./MWh\n",
"//dC2/dP2=0.15*P2+30;//Rs./MWh\n",
"B22=0;B12=0;//Because Loss is independent wrt P2\n",
"P1=100;//MW\n",
"PL=15;//MW\n",
"B11=PL/P1^2;//MW^-1\n",
"L1=1/[1-0.003*P1];//Penalty Factor plant 1\n",
"L2=1;//Penalty Factor of plant 2\n",
"lambda=60;\n",
"//lambda=dC1/dP1*L1=dC2/dP2*L2\n",
"//dC1/dP1*L1=dC2/dP2*L2\n",
"P2=((0.2*P1+22)*L1-30)/0.15;//MW\n",
"P=P1+P2-B11*P1^2;//MW//Total Load\n",
"//dC1/dP1=dC2/dP2; neglecting transmission loss\n",
"clear('P2');//for recalculation\n",
"//0.2*P1-0.15*P2-8=0;///eqn(1)\n",
"//P1=0.75*P2+40;//P1+P2-B11*P1^2-P=0;//eqn(2)\n",
"//1.75*P2-B11*P1^2=P-40\n",
"Eqn=[-B11 1.75 40-P];\n",
"P2=roots(Eqn);\n",
"P2=P2(2);//MW//neglecting higher value\n",
"P1=0.75*P2+40;//MW\n",
"dC1=integrate('0.2*P+22','P',100,P1);//Rs.//Additional Cost plant1\n",
"dC2=integrate('0.15*P+30','P',200,P2);//Rs.//Decreased Cost  plant2\n",
"dC=dC1+dC2;//Rs./hour//Net change in cost\n",
"disp(dC,'Taking transmission loss in account, Net saving per hour in fuel cost(Rs,/hour)');\n",
"//Note : Values calculated in the book are slightly wrong because of accuracy in calculation as compared to scilab accuracy."
   ]
   }
],
"metadata": {
		  "kernelspec": {
		   "display_name": "Scilab",
		   "language": "scilab",
		   "name": "scilab"
		  },
		  "language_info": {
		   "file_extension": ".sce",
		   "help_links": [
			{
			 "text": "MetaKernel Magics",
			 "url": "https://github.com/calysto/metakernel/blob/master/metakernel/magics/README.md"
			}
		   ],
		   "mimetype": "text/x-octave",
		   "name": "scilab",
		   "version": "0.7.1"
		  }
		 },
		 "nbformat": 4,
		 "nbformat_minor": 0
}
