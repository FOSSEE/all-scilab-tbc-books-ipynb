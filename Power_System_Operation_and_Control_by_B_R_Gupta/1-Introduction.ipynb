{
"cells": [
 {
		   "cell_type": "markdown",
	   "metadata": {},
	   "source": [
       "# Chapter 1: Introduction"
	   ]
	},
{
		   "cell_type": "markdown",
		   "metadata": {},
		   "source": [
			"## Example 1.10: Station_Capacity_and_Reserve_capacity.sce"
		   ]
		  },
  {
"cell_type": "code",
	   "execution_count": null,
	   "metadata": {
	    "collapsed": true
	   },
	   "outputs": [],
"source": [
"//exa 1.10\n",
"clc;clear;close;\n",
"format('v',6);\n",
"E=438*10^4;//kWh\n",
"LF=20;//% annual\n",
"CF=15;//%//Capacity Factor\n",
"Lmax=E/(LF/100)/24/365;//kW\n",
"Lmax=Lmax/1000;//MW\n",
"C=Lmax/CF*LF;//MW//Plant Capacity\n",
"disp(C,'Plant Capacity(MW): ');\n",
"RC=C-Lmax;//MW//Reserve Capacity\n",
"disp(RC,'Reserve Capacity(MW) : ');"
   ]
   }
,
{
		   "cell_type": "markdown",
		   "metadata": {},
		   "source": [
			"## Example 1.11: Maximum_demand_and_annual_energy_supplied.sce"
		   ]
		  },
  {
"cell_type": "code",
	   "execution_count": null,
	   "metadata": {
	    "collapsed": true
	   },
	   "outputs": [],
"source": [
"//exa 1.11\n",
"clc;clear;close;\n",
"format('v',7);\n",
"L1=10000;//kW\n",
"L2=6000;//kW\n",
"L3=8000;//kW\n",
"L4=7000;//kW\n",
"df=1.5;//diversity factor\n",
"LF=65;//%//Load Factor\n",
"Dinc=60;//%//Increase in maximum demand\n",
"L=L1+L2+L3+L4;//kW//Sum \n",
"L=L/1000;//MW\n",
"Dmax=L/df;//MW\n",
"disp(Dmax,'Maximum demand on station(MWh)');\n",
"E=Dmax*365*24*LF/100;//MWh//Annual Energy\n",
"format('v',9);\n",
"disp(E,'Annual Energy Supplied(MWh)');\n",
"Din_max=Dinc/100*Dmax;//MW\n",
"format('v',7);\n",
"C=Dmax+Din_max;//MW\n",
"disp(C,'Installed Capacity(MW)')"
   ]
   }
,
{
		   "cell_type": "markdown",
		   "metadata": {},
		   "source": [
			"## Example 1.12: Weekly_Load_Factor.sce"
		   ]
		  },
  {
"cell_type": "code",
	   "execution_count": null,
	   "metadata": {
	    "collapsed": true
	   },
	   "outputs": [],
"source": [
"//exa 1.12\n",
"clc;clear;close;\n",
"format('v',5);\n",
"//Arranging data for Load Duration Curve\n",
"//week days 5-9pm load\n",
"L1=350;//MW\n",
"t1=4*5;//hours\n",
"//week days 8-12am & 1-5pm load\n",
"L2=250;//MW\n",
"t2=t1+8*5;//hours\n",
"//saturday & sunday 5-9pm load\n",
"L3=200;//MW\n",
"t3=t2+4*2;//hours\n",
"//All days 150MW load\n",
"L4=150;//MW\n",
"t4=t3+6*5+15*2;//hours\n",
"//All days 100MW load\n",
"L5=100;//MW\n",
"t5=t4+6*5+5*2;//hours\n",
"A=31600;//Total Load Curve Area\n",
"LF=A/L1/24/7*100;//%//Weekly load factor\n",
"disp(LF,'Weekly Load factor(%)');\n",
"disp('Load Duration Curve is shown in figure.');\n",
"//Load Duration Curve\n",
"L=[L1 L2 L3 L4 L5];//MW\n",
"T=[t1 t2 t3 t4 t5];//hours\n",
"plot2d2(T,L);\n",
"xtitle('Load Duration Curve','Time(Hours)','Load(MW)');"
   ]
   }
,
{
		   "cell_type": "markdown",
		   "metadata": {},
		   "source": [
			"## Example 1.13: Annual_Load_factor.sce"
		   ]
		  },
  {
"cell_type": "code",
	   "execution_count": null,
	   "metadata": {
	    "collapsed": true
	   },
	   "outputs": [],
"source": [
"//exa 1.13\n",
"clc;clear;close;\n",
"format('v',7);\n",
"LF=0.825;//Daily Load Factor\n",
"ratio1=0.87;//daily peak load to monthly peak load\n",
"ratio2=0.78;//monthly peak load to annually peak load\n",
"LF_annual=LF*ratio1*ratio2;//Annual Load Factor\n",
"disp(LF_annual,'Annual Load Factor : ');"
   ]
   }
,
{
		   "cell_type": "markdown",
		   "metadata": {},
		   "source": [
			"## Example 1.14: Peak_Load_on_transformer_and_feeder.sce"
		   ]
		  },
  {
"cell_type": "code",
	   "execution_count": null,
	   "metadata": {
	    "collapsed": true
	   },
	   "outputs": [],
"source": [
"//exa 1.14\n",
"clc;clear;close;\n",
"format('v',5);\n",
"//Transformer1\n",
"Lm=300;//kW\n",
"df_m=0.6;//demand factor\n",
"Lc=100;//kW//Commercial Load\n",
"df_c=0.5;//demand factor\n",
"//Transformer2\n",
"Lr2=500;//kW//Residential Load\n",
"df_Lr2=0.4;//demand factor\n",
"//Transformer3\n",
"Lr3=400;//kW\n",
"df_Lr3=0.5;//demand factor\n",
"//Diversity factors\n",
"df1=2.3;\n",
"df2=2.5;\n",
"df3=2;\n",
"DF=1.4;//Diversity factor between transformers\n",
"//Solution :\n",
"disp('Part(a)');\n",
"Lp1=(Lm*df_m+Lc*df_c)/df1;//kW//Peak load on Transformer1\n",
"disp(Lp1,'Peak load on Transformer1(kW)');\n",
"Lp2=Lr2*df_Lr2/df2;//kW//Peak load on Transformer2\n",
"disp(Lp2,'Peak load on Transformer2(kW)');\n",
"Lp3=Lr3*df_Lr3/df3;//kW//Peak load on Transformer3\n",
"disp(Lp3,'Peak load on Transformer3(kW)');\n",
"disp('Part(b)');\n",
"LpF=(Lp1+Lp2+Lp3)/DF;//Peak load on feeder\n",
"disp(LpF,'Peak load on feeder(kW)');"
   ]
   }
,
{
		   "cell_type": "markdown",
		   "metadata": {},
		   "source": [
			"## Example 1.16: Max_Load_and_Load_factor.sce"
		   ]
		  },
  {
"cell_type": "code",
	   "execution_count": null,
	   "metadata": {
	    "collapsed": true
	   },
	   "outputs": [],
"source": [
"//exa 1.16\n",
"clc;clear;close;\n",
"format('v',8);\n",
"L=[20 25 30 25 35 20];//MW\n",
"T=[6 4 2 4 4 4];//Hours\n",
"Lmax=max(L);//MW\n",
"disp(Lmax,'(a) Maximum demand(MW)');\n",
"E=L(1)*sum(T)+(L(2)-L(1))*T(2)+(L(3)-L(1))*T(3)+(L(4)-L(1))*T(4)+(L(5)-L(1))*T(5)+(L(6)-L(1))*T(6);//MWh\n",
"E=E*1000;//kWh\n",
"disp(E,'(b) Units generated per day(kWh)');\n",
"Lavg=E/sum(T);///kWh\n",
"Lavg=Lavg/1000;///MW\n",
"disp(Lavg,'(c) Average Load(MW)');\n",
"format('v',6);\n",
"LF=Lavg/Lmax*100;//%\n",
"disp(LF,'(d) Load Factor(%)');"
   ]
   }
,
{
		   "cell_type": "markdown",
		   "metadata": {},
		   "source": [
			"## Example 1.17: Real_Power.sce"
		   ]
		  },
  {
"cell_type": "code",
	   "execution_count": null,
	   "metadata": {
	    "collapsed": true
	   },
	   "outputs": [],
"source": [
"//exa 1.17\n",
"clc;clear;close;\n",
"format('v',8);\n",
"pf=0.8;//power factor\n",
"delf=1;//%//drop in frequency(delf/f)\n",
"//delP=-2*(sind(theta))^2*delf\n",
"theta=acosd(pf);//degree\n",
"delP_BY_delf=-2*sind(theta)^2;//increase in load wrt frequency\n",
"disp(-delP_BY_delf,'1% drop in frequency, Increased in Load(%)');"
   ]
   }
,
{
		   "cell_type": "markdown",
		   "metadata": {},
		   "source": [
			"## Example 1.18: Total_Energy_generated.sce"
		   ]
		  },
  {
"cell_type": "code",
	   "execution_count": null,
	   "metadata": {
	    "collapsed": true
	   },
	   "outputs": [],
"source": [
"//exa 1.18\n",
"clc;clear;close;\n",
"format('v',8);\n",
"Lmax=100;//MW\n",
"LF=40;//%//Load Factor\n",
"Lavg=Lmax*LF/100;//MW\n",
"E=Lavg*24*365;//MWh\n",
"disp(E,'Energy generated in a year(MWh)');"
   ]
   }
,
{
		   "cell_type": "markdown",
		   "metadata": {},
		   "source": [
			"## Example 1.19: Motor_Load_Change.sce"
		   ]
		  },
  {
"cell_type": "code",
	   "execution_count": null,
	   "metadata": {
	    "collapsed": true
	   },
	   "outputs": [],
"source": [
"//exa 1.19 page 25\n",
"clc;clear;close;\n",
"format('v',5);\n",
"V=400;//V\n",
"s1=0.03;//initial slip\n",
"delV=1;//%///Voltage Drop\n",
"R1=0.290;//ohm/phase\n",
"R2=0.15;//ohm/phase\n",
"X=0.7;//ohm/phase(X1+X2)\n",
"//V1^2*s1=V2^2*s2 for speed independent torque\n",
"//taking for calculating s2\n",
"V1=1;//V \n",
"V2=V1-V1*delV/100;//V\n",
"s2=V1^2/V2^2*s1;//slip\n",
"I2ByI1=sqrt([R1+R2/s1]^2+X^2)/sqrt([R1+R2/s2]^2+X^2)*(V2/V1)\n",
"delI=(I2ByI1-1)*100;//%//Current Increase\n",
"disp(delI,'1% drop in Voltage increases current by(%)');\n",
"//P=(R1+R2/s)*I^2\n",
"P2ByP1=(R1+R2/s2)/(R1+R2/s1)*I2ByI1^2;//ratio\n",
"delP=(1-P2ByP1)*100;//%//Power Decrease\n",
"format('v',4);\n",
"disp(delP,'1% drop in Voltage decreases power input by(%)');\n",
"//Answer in the textbook is not accurate."
   ]
   }
,
{
		   "cell_type": "markdown",
		   "metadata": {},
		   "source": [
			"## Example 1.1: Load_Demand_and_energy.sce"
		   ]
		  },
  {
"cell_type": "code",
	   "execution_count": null,
	   "metadata": {
	    "collapsed": true
	   },
	   "outputs": [],
"source": [
"//exa 1.1\n",
"clc;clear;close;\n",
"format('v',6);\n",
"B=100;//W(8Bulb)\n",
"F=60;//W(2Fan)\n",
"L=100;//W(2Light)\n",
"LoadConnected=8*B+2*F+2*L;//W\n",
"disp(LoadConnected,'(a) Connected Load (W)')\n",
"//12 midnight to 5am\n",
"demand1=1*F;//W\n",
"//5am to 7am\n",
"demand2=2*F+1*L;//W\n",
"//7am to 9am\n",
"demand3=0;//W\n",
"//9am to 6pm\n",
"demand4=2*F;//W\n",
"//6pm to midnight\n",
"demand5=2*F+4*B;//W\n",
"DEMAND=[demand1 demand2 demand3 demand4 demand5]\n",
"max_demand=max(DEMAND);\n",
"disp(max_demand,'(b) Maximum demand (W)');\n",
"df=max_demand/LoadConnected;//demand factor\n",
"disp(df,'(c) Demand factor');\n",
"E=demand1*5+demand2*2+demand3*2+demand4*9+demand5*6;//Wh\n",
"E=E/1000;//kWh\n",
"disp(E,'(d) Energy consumed during 24 hours(kWh)')\n",
"Edash=LoadConnected*24/1000;//kWh\n",
" disp(Edash,'(e) Energy consumed during 24 hours if all devices are used(kWh)')"
   ]
   }
,
{
		   "cell_type": "markdown",
		   "metadata": {},
		   "source": [
			"## Example 1.2: Demand_and_Diversity_Factor.sce"
		   ]
		  },
  {
"cell_type": "code",
	   "execution_count": null,
	   "metadata": {
	    "collapsed": true
	   },
	   "outputs": [],
"source": [
"//exa 1.2\n",
"clc;clear;close;\n",
"format('v',6);\n",
"LoadA=2.5*1000;//W\n",
"//12 midnight to 5am\n",
"d1A=100;//W\n",
"//5am to 6am\n",
"d2A=1.1*1000;//W\n",
"//6am to 8am\n",
"d3A=200;//W\n",
"//8am to 5pm\n",
"d4A=0;//W\n",
"//5pm to 12 midnight\n",
"d5A=500;//W\n",
"LoadB=3*1000;//W\n",
"//11 pm to 7am\n",
"d1B=0;//W\n",
"//7 am to 8 am\n",
"d2B=300;//W\n",
"//8 am to 10 am\n",
"d3B=1*1000;//W\n",
"//10 am to 6 pm\n",
"d4B=200;//W\n",
"//6 pm to 11 pm\n",
"d5B=600;//W\n",
"DEMAND_A=[d1A d2A d3A d4A d5A];//W\n",
"DEMAND_B=[d1B d2B d3B d4B d5B];//W\n",
"max_demand_A=max(DEMAND_A);//W\n",
"max_demand_B=max(DEMAND_B);//W\n",
"df_A=max_demand_A/LoadA;//demand factor\n",
"df_B=max_demand_B/LoadB;//demand factor\n",
"disp(df_B,df_A,'Demand factor of consumer A & B are');\n",
"gd_factor=(max_demand_A+max_demand_B)/max_demand_A;\n",
"disp(gd_factor,'Group diversity factor')\n",
"E_A=d1A*5+d2A*1+d3A*2+d4A*9+d5A*7;//Wh\n",
"E_B=d1B*8+d2B*1+d3B*2+d4B*8+d5B*5;//Wh\n",
"E_A=E_A/1000;//kWh\n",
"E_B=E_B/1000;//kWh\n",
"disp(E_B,E_A,'Energy consumed by A & B during 24 hours(kWh)')\n",
"Emax_A=max_demand_A*24/1000;//kWh\n",
"Emax_B=max_demand_B*24/1000;//kWh\n",
" disp(Emax_B,Emax_A,'Maximum energy consumer A & B can consume during 24 hours(kWh)')\n",
"ratio_A=E_A/Emax_A;\n",
"format('v',7);\n",
"ratio_B=E_B/Emax_B;\n",
"disp(ratio_B,ratio_A,'Ratio of actual energy to maximum energy of consumer A & B') "
   ]
   }
,
{
		   "cell_type": "markdown",
		   "metadata": {},
		   "source": [
			"## Example 1.3: Increase_in_peak_demand.sce"
		   ]
		  },
  {
"cell_type": "code",
	   "execution_count": null,
	   "metadata": {
	    "collapsed": true
	   },
	   "outputs": [],
"source": [
"//exa 1.3\n",
"clc;clear;close;\n",
"format('v',6);\n",
"n1=600;//No. of apartments\n",
"L1=5;//kW//Each Apartment Load\n",
"n2=20;//No. of general purpose shops\n",
"L2=2;//kW//Each Shop Load\n",
"df=0.8;//demand factor\n",
"//1 Floor mill\n",
"L3=10;//kW//Load\n",
"df3=0.7;//demand factor\n",
"//1 Saw mill\n",
"L4=5;//kW//Load\n",
"df4=0.8;//demand factor\n",
"//1 Laundry\n",
"L5=20;//kW//Load\n",
"df5=0.65;//demand factor\n",
"//1 Cinema\n",
"L6=80;//kW//Load\n",
"df6=0.5;//demand factor\n",
"//Street lights\n",
"n7=200;//no. of tube lights\n",
"L7=40;//W//Load of each light\n",
"//Residential Load\n",
"df8=0.5;//demand factor\n",
"gdf_r=3;//group diversity factor\n",
"pdf_r=1.25;//peak diversity factor\n",
"//Commertial Load\n",
"gdf_c=2;//group diversity factor\n",
"pdf_c=1.6;//peak diversity factor\n",
"//Solution :\n",
"//Maximum demand of each apartment\n",
"dmax_1a=L1*df8;//kW\n",
"//Maximum demand of 600 apartment\n",
"dmax_a=n1*dmax_1a/gdf_r;//kW\n",
"//demand of apartments at system peak time\n",
"d_a_sp=dmax_a/pdf_r;//kW\n",
"//Maximum Commercial demand\n",
"dmax_c=(n2*L2*df+L3*df3+L4*df4+L5*df5+L6*df6)/gdf_c;//kW\n",
"//Commercial demand at system peak time\n",
"d_c_sp=dmax_c/pdf_c;//kW\n",
"//demand of street light at system peak time\n",
"d_sl_sp=n7*L7/1000;//kW\n",
"//Increase in system peak demand\n",
"DI=d_a_sp+d_c_sp+d_sl_sp;//kW\n",
"disp(DI,'Increase in system peak demand(kW)');"
   ]
   }
,
{
		   "cell_type": "markdown",
		   "metadata": {},
		   "source": [
			"## Example 1.4: Load_Factor_and_Energy_Supplied.sce"
		   ]
		  },
  {
"cell_type": "code",
	   "execution_count": null,
	   "metadata": {
	    "collapsed": true
	   },
	   "outputs": [],
"source": [
"//exa 1.4\n",
"clc;clear;close;\n",
"format('v',6);\n",
"//12 to 5 am\n",
"L1=20;//MW\n",
"t1=5;//hours\n",
"//5 to 9 am\n",
"L2=40;//MW\n",
"t2=4;//hours\n",
"//9 to 6 pm\n",
"L3=80;//MW\n",
"t3=9;//hours\n",
"//6 to 10 pm\n",
"L4=100;//MW\n",
"t4=4;//hours\n",
"//10 to 12 am\n",
"L5=20;//MW\n",
"t5=2;//hours\n",
"//Energy Poduced in 24 hours\n",
"E=L1*t1+L2*t2+L3*t3+L4*t4+L5*t5;//MWh\n",
"disp(E,'Energy Supplied by the plant in 24 hours(MWh) :');\n",
"LF=E/24;//%//Load Factor\n",
"disp(LF,'Load Factor(%)');"
   ]
   }
,
{
		   "cell_type": "markdown",
		   "metadata": {},
		   "source": [
			"## Example 1.5: Capacity_and_utilisation_factor.sce"
		   ]
		  },
  {
"cell_type": "code",
	   "execution_count": null,
	   "metadata": {
	    "collapsed": true
	   },
	   "outputs": [],
"source": [
"//exa 1.5\n",
"clc;clear;close;\n",
"format('v',6);\n",
"C=125;//MW//Installed Capacity\n",
"//12 to 5 am\n",
"L1=20;//MW\n",
"t1=5;//hours\n",
"//5 to 9 am\n",
"L2=40;//MW\n",
"t2=4;//hours\n",
"//9 to 6 pm\n",
"L3=80;//MW\n",
"t3=9;//hours\n",
"//6 to 10 pm\n",
"L4=100;//MW\n",
"t4=4;//hours\n",
"//10 to 12 am\n",
"L5=20;//MW\n",
"t5=2;//hours\n",
"//Energy Poduced in 24 hours\n",
"E=L1*t1+L2*t2+L3*t3+L4*t4+L5*t5;//MWh\n",
"LF=E/24;//%//Load Factor\n",
"CF=LF/C;//%//Capacity Factor\n",
"disp(CF,'Capacity Factor(%) : ');\n",
"UF=100/C;//%//Utilisation Factor\n",
"disp(UF,'Utilisation Factor(%) : ');\n",
""
   ]
   }
,
{
		   "cell_type": "markdown",
		   "metadata": {},
		   "source": [
			"## Example 1.6: Energy_Load_curve_and_Mass_Curve.sce"
		   ]
		  },
  {
"cell_type": "code",
	   "execution_count": null,
	   "metadata": {
	    "collapsed": true
	   },
	   "outputs": [],
"source": [
"//exa 1.6\n",
"clc;clear;close;\n",
"format('v',6);\n",
"//12 to 5 am & 10 to 12 am\n",
"L1=20;//MW\n",
"E1=L1*24;//MWh\n",
"//5 to 9 am\n",
"L2=40;//MW\n",
"E2=E1+(L2-L1)*17;//MWh\n",
"//9 to 6 pm\n",
"L3=80;//MW\n",
"E3=E2+(L3-L2)*13;//MWh\n",
"//6 to 10 pm\n",
"L4=100;//MW\n",
"E4=E3+(L4-L3)*4;//MWh\n",
"//Plotting Energy load curve\n",
"L=[0,L1,L2,L3,L4];//MW\n",
"E=[0,E1,E2,E3,E4];//Mwh\n",
"subplot(2,1,1)\n",
"plot(E,L)\n",
"xlabel('Energy(MWh)');\n",
"ylabel('Load(MW)');\n",
"title('Energy Load Curve');\n",
"//Energy Supplied\n",
"//Upto 5am\n",
"t1=5;//hours\n",
"E1=L1*t1;//MWh\n",
"//Upto 9am\n",
"t2=4;//hours\n",
"E2=E1+L2*t2;//MWh\n",
"//Upto 6pm\n",
"t3=9;//hours\n",
"E3=E2+L3*t3;//MWh\n",
"//Upto 10pm\n",
"t4=4;//hours\n",
"E4=E3+L4*t4;//MWh\n",
"//Upto 12pm\n",
"t4=2;//hours\n",
"E4=E3+L4*t4;//MWh\n",
"//Plotting Mass curve\n",
"T=[0,1,2,3,4];//MW\n",
"E=[0,E1,E2,E3,E4];//Mwh\n",
"subplot(2,1,2)\n",
"plot(T,E)\n",
"ylabel('Energy(MWh)');\n",
"xlabel('0-1: 12-5am 1-2: 5-9am 2-3: 9-6pm 3-4: 6-10pm above4: 10-12pm');\n",
"title('Mass Curve');"
   ]
   }
,
{
		   "cell_type": "markdown",
		   "metadata": {},
		   "source": [
			"## Example 1.7: Load_Factor_Plant_capacity_reserve_capacity.sce"
		   ]
		  },
  {
"cell_type": "code",
	   "execution_count": null,
	   "metadata": {
	    "collapsed": true
	   },
	   "outputs": [],
"source": [
"//exa 1.7\n",
"clc;clear;close;\n",
"format('v',9);\n",
"dmax=40;//MW//Maximum demand\n",
"CF=0.5;//Capacity Factor\n",
"UF=0.8;//Utilisation Factor\n",
"LF=CF/UF;///Load Factor\n",
"disp(LF,'(a) Load Factor : ');\n",
"C=dmax/UF;//MW//Plant Capacity\n",
"disp(C,'(b) Plant Capacity(MW) : ');\n",
"RC=C-dmax;//MW//Reserve Capacity\n",
"disp(RC,'(c) Reserve Capacity(MW) : ');\n",
"p=dmax*LF*24*365;//MWh//Annual Energy Production\n",
"disp(p,'(d) Annual Energy Production(MWh) : ');"
   ]
   }
,
{
		   "cell_type": "markdown",
		   "metadata": {},
		   "source": [
			"## Example 1.8: Load_Curve_and_energy_required.sce"
		   ]
		  },
  {
"cell_type": "code",
	   "execution_count": null,
	   "metadata": {
	    "collapsed": true
	   },
	   "outputs": [],
"source": [
"//exa 1.8\n",
"clc;clear;close;\n",
"format('v',6);\n",
"L1=50;//MW//Initial\n",
"t1=5;//hours\n",
"L2=50;//MW//5am\n",
"t2=4;//hours\n",
"L3=100;//MW//9am\n",
"t3=9;//hours\n",
"L4=100;//MW//6pm\n",
"t4=2;//hours\n",
"L5=150;//MW//8pm\n",
"t5=2;//hours\n",
"L6=80;//MW//10pm\n",
"t6=2;//hours\n",
"L7=50;//MW\n",
"//Energy Required in 24 hours\n",
"E=L1*t1+(L2+L3)/2*t2+(L3+L4)/2*t3+(L4+L5)/2*t4+(L5+L6)/2*t5+(L6+L1)/2*t6;//MWh\n",
"disp(E,'Energy required in one day(MWh)');\n",
"DLF=E/L5/24*100;//%//Daily Load Factor\n",
"disp(DLF,'Daily Load Factor(%)');\n",
"//Plotting load curve\n",
"T=[0,1,2,3,4,5,6];//Slots\n",
"L=[L1,L2,L3,L4,L5,L6,L7];//MW\n",
"plot(T,L)\n",
"ylabel('Load(MW)');\n",
"xlabel('0-1: 12-5am 1-2: 5-9am 2-3: 9-6pm 3-4: 6-8pm 4-5:8-10pm 5-6 :10-12pm');\n",
"title('Chronological Load Curve');"
   ]
   }
,
{
		   "cell_type": "markdown",
		   "metadata": {},
		   "source": [
			"## Example 1.9: Load_duration_curve_and_Mass_curve.sce"
		   ]
		  },
  {
"cell_type": "code",
	   "execution_count": null,
	   "metadata": {
	    "collapsed": true
	   },
	   "outputs": [],
"source": [
"//exa 1.9\n",
"clc;clear;close;\n",
"format('v',6);\n",
"L1=50;//MW//Initial\n",
"t1=5;//hours\n",
"L2=50;//MW//5am\n",
"t2=4;//hours\n",
"L3=100;//MW//9am\n",
"t3=9;//hours\n",
"L4=100;//MW//6pm\n",
"t4=2;//hours\n",
"L5=150;//MW//8pm\n",
"t5=2;//hours\n",
"L6=80;//MW//10pm\n",
"t6=2;//hours\n",
"L7=50;//MW\n",
"//Load Duration Curve\n",
"l1=L5;//Mw\n",
"l2=L4;//MW\n",
"l3=L1;//MW\n",
"L=[l1,l2,l2,l3,l3]\n",
"T=0:6:24;//Duration in hours\n",
"subplot(2,1,1)\n",
"plot(T,L)\n",
"ylabel('Load(MW)');\n",
"xlabel('Hours');\n",
"title('Load Duration Curve');\n",
"//Energy Consumed\n",
"//Upto 5am\n",
"t1=5;//hours\n",
"E1=L1*t1;//MWh\n",
"//Upto 9am\n",
"t2=4;//hours\n",
"E2=E1+L2*t2;//MWh\n",
"//Upto 6pm\n",
"t3=9;//hours\n",
"E3=E2+L3*t3;//MWh\n",
"//Upto 10pm\n",
"t4=4;//hours\n",
"E4=E3+L4*t4;//MWh\n",
"//Upto 12pm\n",
"t4=2;//hours\n",
"E4=E3+L4*t4;//MWh\n",
"//Plotting Mass curve\n",
"T=[0,1,2,3,4];//MW\n",
"E=[0,E1,E2,E3,E4];//Mwh\n",
"subplot(2,1,2)\n",
"plot(T,E)\n",
"ylabel('Energy(MWh)');\n",
"xlabel('0-1: 12-5am 1-2: 5-9am 2-3: 9-6pm 3-4: 6-10pm above4: 10-12pm');\n",
"title('Mass Curve');"
   ]
   }
],
"metadata": {
		  "kernelspec": {
		   "display_name": "Scilab",
		   "language": "scilab",
		   "name": "scilab"
		  },
		  "language_info": {
		   "file_extension": ".sce",
		   "help_links": [
			{
			 "text": "MetaKernel Magics",
			 "url": "https://github.com/calysto/metakernel/blob/master/metakernel/magics/README.md"
			}
		   ],
		   "mimetype": "text/x-octave",
		   "name": "scilab",
		   "version": "0.7.1"
		  }
		 },
		 "nbformat": 4,
		 "nbformat_minor": 0
}
