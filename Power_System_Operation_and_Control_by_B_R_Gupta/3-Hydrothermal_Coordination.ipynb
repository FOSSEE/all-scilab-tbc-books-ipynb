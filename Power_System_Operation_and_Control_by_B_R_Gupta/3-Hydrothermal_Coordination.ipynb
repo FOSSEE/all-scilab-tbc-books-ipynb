{
"cells": [
 {
		   "cell_type": "markdown",
	   "metadata": {},
	   "source": [
       "# Chapter 3: Hydrothermal Coordination"
	   ]
	},
{
		   "cell_type": "markdown",
		   "metadata": {},
		   "source": [
			"## Example 3.1: MW_rating.sce"
		   ]
		  },
  {
"cell_type": "code",
	   "execution_count": null,
	   "metadata": {
	    "collapsed": true
	   },
	   "outputs": [],
"source": [
"//Exa 3.1\n",
"clc;clear;close;\n",
"format('v',6);\n",
"head=205;//m(Mean Head)\n",
"A=1000;//km^2(Catchment area)\n",
"rf=125;//cm(Annual Rainfall)\n",
"a=80;//%(Available rainfall for power generation)\n",
"LF=75;//%(Load factor)\n",
"head_loss=5;//m(Head Loss)\n",
"Eta_turbine=0.9;//Efficiency of turbine\n",
"Eta_generator=0.95;//Efficiency of generator\n",
"//Calculation\n",
"WaterUsed=A*10^6*rf/100*a/100;//m^3/year(Discharge)\n",
"WaterUsed=WaterUsed/(365*24*60*60);//m^3/sec\n",
"Eff_Head=head-head_loss;//m(Effective Head)\n",
"P=735.5/75*WaterUsed*Eff_Head*Eta_turbine*Eta_generator/1000;//MW(Load of station)\n",
"Ppeak=P/(LF/100);//MW(Peak Load )\n",
"disp(Ppeak,'MW rating of station(MW)');\n",
"//type ot turbine\n",
"if head>200 then\n",
"    disp('Pelton turbine is more suitable because head>200 meter.');\n",
"end;"
   ]
   }
,
{
		   "cell_type": "markdown",
		   "metadata": {},
		   "source": [
			"## Example 3.2: Capacity_of_hydro_plant_and_steel_plant.sce"
		   ]
		  },
  {
"cell_type": "code",
	   "execution_count": null,
	   "metadata": {
	    "collapsed": true
	   },
	   "outputs": [],
"source": [
"//Exa 3.2\n",
"clc;clear;close;\n",
"format('v',6);\n",
"WF=50;//m^3/sec(Water flow)\n",
"head=90;//m\n",
"LF=75;//%(Load factor)\n",
"Eta=90;//%(Efficiency of hydro plant)\n",
"L=5;//%(Transmission losses)\n",
"TC=350;//MW\n",
"hp=140;//MW//Hydro power\n",
"//Calculation\n",
"P=735.5/75*WF*head*Eta/100/1000;//MW(Power available)\n",
"Pnet=P*(100-L)/100;//MW///Net Available hydro power\n",
"E=Pnet*24;//MW-hours////Hydro Energy\n",
"disp(E,'Available hydro energy(MW-hours) : ');\n",
"format('v',5);\n",
"C1=hp/((100-L)/100);//MW//Capacity of hydro plant\n",
"disp(C1,'Capacity of hydro plant(MW) : ');\n",
"C2=TC-hp;//MW//Capacity of thermal plant\n",
"disp(C2,'Capacity of thermal plant(MW) : ');"
   ]
   }
,
{
		   "cell_type": "markdown",
		   "metadata": {},
		   "source": [
			"## Example 3.3: Water_Used_and_operating_cost.sce"
		   ]
		  },
  {
"cell_type": "code",
	   "execution_count": null,
	   "metadata": {
	    "collapsed": true
	   },
	   "outputs": [],
"source": [
"//Exa 3.3\n",
"clc;clear;close;\n",
"format('v',9);\n",
"P1=700;//MW(Load for 14 hours)\n",
"P2=500;//MW(Load for 10 hours)\n",
"B22=0.0005;//Loss Coefficient\n",
"t1=14;//hour\n",
"t2=10;//hour\n",
"r2=2.5;//Rs/hour/(m^3/sec)\n",
"//Characteristics of units : \n",
"//C1=(24+0.02*P1)*P1;//Rs./hour\n",
"//W2=(6+0.0025*P2)*P2;//m^3/sec\n",
"lambda=37.944;//Rs./MWh(For peak load conditions)\n",
"P1=348.6;//MW(For peak load conditions)\n",
"P2=454.84;//MW(For peak load conditions)\n",
"PL=103.44;//MW(For peak load conditions)\n",
"lambda_dash=31.73;//Rs./MWh(For peak load conditions)\n",
"P1_dash=193.25;//MW(For peak off conditions)\n",
"P2_dash=378.25;//MW(For peak off conditions)\n",
"PL_dash=71.50;//MW(For peak off conditions)\n",
"W=[(6+0.0025*P2)*P2*t1+(6+0.0025*P2_dash)*P2_dash*t2]*3600/10^3;//m^3//D3ily water used\n",
"disp(W,'Daily water used by plant(m^3) : ');\n",
"C=(24+0.02*P1)*P1*t1+(24+0.02*P1_dash)*P1_dash*t2;//Rs.\n",
"disp(C,'Daily operating cost of plant(Rs.) : ');"
   ]
   }
,
{
		   "cell_type": "markdown",
		   "metadata": {},
		   "source": [
			"## Example 3.4: Load_on_plant_and_cost_of_water.sce"
		   ]
		  },
  {
"cell_type": "code",
	   "execution_count": null,
	   "metadata": {
	    "collapsed": true
	   },
	   "outputs": [],
"source": [
"//Exa 3.4\n",
"clc;clear;close;\n",
"format('v',7);\n",
"t1=14;//hour(working hour of hydro station)\n",
"t2=24;//hour(Working hour of steam station)\n",
"//Characteristics of units : \n",
"//C=(5+8*Ps+0.05*Ps^2);//Rs./hour\n",
"//dW/dPh=30+0.05*Ph;//m^3/MW-sec\n",
"W=500*10^6;//m^3(Water Quantity used)\n",
"Ps=250;//MW(Load on steam station)\n",
"lambda=8+0.1*Ps;//Rs./MW-hour\n",
"//W=Ph*(30+0.05*Ph)*t1*3600;//\n",
"//0.05*Ph^2*t1*3600+Ph*30*t1*3600-W=0\n",
"Ph=poly(0,'Ph');\n",
"Ph=roots(0.05*Ph^2*t1*3600+Ph*30*t1*3600-W);//MW\n",
"Ph=Ph(2);//MW//Leaving negative root\n",
"disp(Ph,'Load on hydro plant(MW)');\n",
"r=lambda/(30+0.05*Ph);//Rs./hour/(m^3/sec)\n",
"disp(r,'Cost of water use(Rs./hour/(m^3/sec)) : ');\n",
"//Answer is slightly differ due to accuracy in calculations."
   ]
   }
],
"metadata": {
		  "kernelspec": {
		   "display_name": "Scilab",
		   "language": "scilab",
		   "name": "scilab"
		  },
		  "language_info": {
		   "file_extension": ".sce",
		   "help_links": [
			{
			 "text": "MetaKernel Magics",
			 "url": "https://github.com/calysto/metakernel/blob/master/metakernel/magics/README.md"
			}
		   ],
		   "mimetype": "text/x-octave",
		   "name": "scilab",
		   "version": "0.7.1"
		  }
		 },
		 "nbformat": 4,
		 "nbformat_minor": 0
}
