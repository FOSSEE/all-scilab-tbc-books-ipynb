{
"cells": [
 {
		   "cell_type": "markdown",
	   "metadata": {},
	   "source": [
       "# Chapter 4: electromagnetic fields and waves"
	   ]
	},
{
		   "cell_type": "markdown",
		   "metadata": {},
		   "source": [
			"## Example 4.10: 10.sce"
		   ]
		  },
  {
"cell_type": "code",
	   "execution_count": null,
	   "metadata": {
	    "collapsed": true
	   },
	   "outputs": [],
"source": [
"\n",
"Er=2.25\n",
"ur=1\n",
"W=10^9\n",
"p=0.2\n",
"uo=4*%pi*10^-7\n",
"Eo=8.854*10^-12\n",
"ko=W*sqrt(uo*Eo)\n",
"k2=W*sqrt(uo*Eo*Er)\n",
"n1=sqrt(uo/Eo)\n",
"n2=sqrt(uo/Eo/Er)\n",
"R=(n2-n1)/(n1+n2)\n",
"T=2*n2/(n1+n2)\n",
"VSWR=(1+p)/(1-p)\n",
"Pav=3.84^2/(2*n2)\n",
"printf('\nko=%.4f rad/m\nk2=%.4f rad/m\nn1=%.4f ohm\nn2=%.4f ohm\nR=%.2f\nT=%.2f \nVSWR=%.2f\nPav=%.4f W/m^2',ko,k2,n1,n2,R,T,VSWR,Pav)"
   ]
   }
,
{
		   "cell_type": "markdown",
		   "metadata": {},
		   "source": [
			"## Example 4.11: 11.sce"
		   ]
		  },
  {
"cell_type": "code",
	   "execution_count": null,
	   "metadata": {
	    "collapsed": true
	   },
	   "outputs": [],
"source": [
"\n",
"for m=1:1:3\n",
"    qo=2.5*10^-2\n",
"    fc=3*10^8*m/(9*10^-2)\n",
"    qc=2*4.5*10^-2/m\n",
"    printf('\nm=%f\nfc=%.4e Hz\nlambdaC=%.2e m',m,fc,qc)\n",
"    printf('\nTM0=%.4e Hz',fc)\n",
"    q=qo/sqrt(1-(qo/qc)^2)\n",
"    printf('\nlambda=%.4e m\n',q)\n",
"end"
   ]
   }
,
{
		   "cell_type": "markdown",
		   "metadata": {},
		   "source": [
			"## Example 4.12: 12.sce"
		   ]
		  },
  {
"cell_type": "code",
	   "execution_count": null,
	   "metadata": {
	    "collapsed": true
	   },
	   "outputs": [],
"source": [
"\n",
"a=0.0158\n",
"b=0.0079\n",
"f=15.8*10^9\n",
"//TE10\n",
"m=1\n",
"n=0\n",
"fc=3*10^8*sqrt((m/2/a)^2+(n/2/b)^2)\n",
"printf('\n(a)\nfor TE10 \n\tfc=%.4e Hz',fc)\n",
"Vp=3*10^8/sqrt(1-(fc/f)^2)\n",
"//TE20\n",
"m=2\n",
"n=0\n",
"fc=3*10^8*sqrt((m/2/a)^2+(n/2/b)^2)\n",
"printf('\nfor TE20 \n\tfc=%.4e Hz',fc)\n",
"//TE01\n",
"m=0\n",
"n=1\n",
"fc=3*10^8*sqrt((m/2/a)^2+(n/2/b)^2)\n",
"printf('\nfor TE01 \n\tfc=%.4e Hz',fc)\n",
"//TE11\n",
"m=1\n",
"n=1\n",
"fc=3*10^8*sqrt((m/2/a)^2+(n/2/b)^2)\n",
"printf('\nfor TE11 \n\tfc=%.4e Hz',fc)\n",
"printf('\n(c)\nVp=%4e m/s',Vp)\n",
"\n",
"\n",
"\n",
"\n",
""
   ]
   }
,
{
		   "cell_type": "markdown",
		   "metadata": {},
		   "source": [
			"## Example 4.3: 3.sce"
		   ]
		  },
  {
"cell_type": "code",
	   "execution_count": null,
	   "metadata": {
	    "collapsed": true
	   },
	   "outputs": [],
"source": [
"Eo=8.854*10^-12\n",
"uo=4*%pi*10^-7\n",
"\n",
"W=2/sqrt(uo*Eo)\n",
"printf('\nW=%.0e rad/s',W)"
   ]
   }
,
{
		   "cell_type": "markdown",
		   "metadata": {},
		   "source": [
			"## Example 4.4: 4.sce"
		   ]
		  },
  {
"cell_type": "code",
	   "execution_count": null,
	   "metadata": {
	    "collapsed": true
	   },
	   "outputs": [],
"source": [
"Q=[0:0.01:2*%pi]\n",
"q=[0:0.01:%pi]\n",
"k=integrate('60*%pi/sin(Q)*cos(%pi/2*cos(Q))^2','Q',0,%pi/2)\n",
"printf('\nk=%.2f W',4*k*%pi)"
   ]
   }
,
{
		   "cell_type": "markdown",
		   "metadata": {},
		   "source": [
			"## Example 4.5: 5.sce"
		   ]
		  },
  {
"cell_type": "code",
	   "execution_count": null,
	   "metadata": {
	    "collapsed": true
	   },
	   "outputs": [],
"source": [
"B=2*%pi\n",
"C=3*10^8\n",
"lambda=2*%pi/B\n",
"f=C/lambda\n",
"W=2*%pi*f\n",
"uo=4*%pi*10^-7\n",
"k=2*%pi\n",
"n=W*uo/k\n",
"printf('\n(a)lambda=%.0f m\n(b)f=%.0e Hz\n(c)n=%.4f ohm',lambda,f,n)"
   ]
   }
,
{
		   "cell_type": "markdown",
		   "metadata": {},
		   "source": [
			"## Example 4.6: 6.sce"
		   ]
		  },
  {
"cell_type": "code",
	   "execution_count": null,
	   "metadata": {
	    "collapsed": true
	   },
	   "outputs": [],
"source": [
"uo=1.2567*10^-6\n",
"f=10^4\n",
"W=2*%pi*f\n",
"a=4\n",
"k=sqrt(W*uo*a/2)+sqrt(W*uo*a/2)*%i\n",
"B=real(k)\n",
"a=imag(k)\n",
"lambda=2*%pi/B\n",
"Vp=W/B\n",
"delta=1/a\n",
"disp(k,'k=')\n",
"printf('\nlambda=%f m\nVp=%.4e m/s\ndelta=%.4f m',lambda,Vp,delta)"
   ]
   }
,
{
		   "cell_type": "markdown",
		   "metadata": {},
		   "source": [
			"## Example 4.7: 7.sce"
		   ]
		  },
  {
"cell_type": "code",
	   "execution_count": null,
	   "metadata": {
	    "collapsed": true
	   },
	   "outputs": [],
"source": [
"\n",
"ky=6\n",
"kz=8\n",
"\n",
"kr=sqrt(ky^2+kz^2)\n",
"printf('\nkr=%.0f m^-1',kr)\n",
"//(a)\n",
"O=180/%pi*asin(ky/kr)\n",
"theta=(180-O)*%pi/180\n",
"Vr=3*10^8\n",
"printf('\n(a)\nO=%.2f degree',O)\n",
"//(b)\n",
"lr=2*%pi/kr\n",
"ly=2*%pi/ky\n",
"lz=2*%pi/kz\n",
"printf('\n(b)\nlr=%.4f m\nly=%.4f m\nlz=%.4f m',lr,ly,lz)\n",
"//(c)\n",
"W=Vr*kr\n",
"f=W/lr\n",
"Vpy=W/ky\n",
"Vpz=W/kz\n",
"printf('\n(c)\nW=%.0e rad/s\nf=%.2e Hz\nVpy=%.1e m/s\nVpz=%.2e m/s',W,f,Vpy,Vpz)\n",
"Ver=3*10^8\n",
"Vey=Ver*sin(theta)\n",
"Vez=Ver*cos(theta)\n",
"printf('\n(d)\nVey=%.1e m/s\nVez=%.1e m/s',Vey,Vez)\n",
"\n",
"\n",
"\n",
"\n",
"\n",
""
   ]
   }
],
"metadata": {
		  "kernelspec": {
		   "display_name": "Scilab",
		   "language": "scilab",
		   "name": "scilab"
		  },
		  "language_info": {
		   "file_extension": ".sce",
		   "help_links": [
			{
			 "text": "MetaKernel Magics",
			 "url": "https://github.com/calysto/metakernel/blob/master/metakernel/magics/README.md"
			}
		   ],
		   "mimetype": "text/x-octave",
		   "name": "scilab",
		   "version": "0.7.1"
		  }
		 },
		 "nbformat": 4,
		 "nbformat_minor": 0
}
