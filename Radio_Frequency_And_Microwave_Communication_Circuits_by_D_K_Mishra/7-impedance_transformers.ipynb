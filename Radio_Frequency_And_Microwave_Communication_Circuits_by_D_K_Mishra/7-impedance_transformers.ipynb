{
"cells": [
 {
		   "cell_type": "markdown",
	   "metadata": {},
	   "source": [
       "# Chapter 7: impedance transformers"
	   ]
	},
{
		   "cell_type": "markdown",
		   "metadata": {},
		   "source": [
			"## Example 7.1: 1.sce"
		   ]
		  },
  {
"cell_type": "code",
	   "execution_count": null,
	   "metadata": {
	    "collapsed": true
	   },
	   "outputs": [],
"source": [
"\n",
"RL=100\n",
"Zo=50\n",
"PM=0.05\n",
"c=3*10^8\n",
"f=900*10^6\n",
"lambda=c/f\n",
"Z1=sqrt(RL*Zo)\n",
"l=lambda/4\n",
"fractional_bandwidth=2-4/%pi*acos(abs(2*PM*sqrt(Zo*RL)/(RL-Zo)/sqrt(1-PM^2)))\n",
"printf('\nZ1=%f ohm\nl=%.4f m\nfractional bandwidth=%.7f',Z1,l,fractional_bandwidth)"
   ]
   }
,
{
		   "cell_type": "markdown",
		   "metadata": {},
		   "source": [
			"## Example 7.5: 5.sce"
		   ]
		  },
  {
"cell_type": "code",
	   "execution_count": null,
	   "metadata": {
	    "collapsed": true
	   },
	   "outputs": [],
"source": [
"\n",
"delf=0.6\n",
"fo=1\n",
"Zo=100\n",
"Qz=acos(1/sqrt(2)*cos((2-delf/fo)/4*%pi))\n",
"Qm=acos(sqrt(2)*cos(Qz))\n",
"Z_L=5\n",
"k=sqrt((Z_L-1)^2/4/Z_L*cotg(Qz)^4)\n",
"Pm=sqrt(k^2/(1+k^2))\n",
"Z1=sqrt(((Z_L-1)^2/4/tan(Qz)^4+Z_L)^(1/2)+(Z_L-1)/2/tan(Qz)^2)\n",
"Z2=Z_L/Z1*Zo\n",
"Z_in=Z1^2/Z2^2*Z_L*10^4\n",
"F=(Z_in-1)/(Z_in+1)\n",
"printf('\nQz=%.4f rad\nQm=%.1f\nk=%.4f\nPm=%.4f\nZ_1=%.2f ohm\nZ2=%.2f ohm\nZ-in=%.4f\nF=%.4f',Qz,Qm,k,Pm,Z1,Z2,Z_in,F)"
   ]
   }
],
"metadata": {
		  "kernelspec": {
		   "display_name": "Scilab",
		   "language": "scilab",
		   "name": "scilab"
		  },
		  "language_info": {
		   "file_extension": ".sce",
		   "help_links": [
			{
			 "text": "MetaKernel Magics",
			 "url": "https://github.com/calysto/metakernel/blob/master/metakernel/magics/README.md"
			}
		   ],
		   "mimetype": "text/x-octave",
		   "name": "scilab",
		   "version": "0.7.1"
		  }
		 },
		 "nbformat": 4,
		 "nbformat_minor": 0
}
