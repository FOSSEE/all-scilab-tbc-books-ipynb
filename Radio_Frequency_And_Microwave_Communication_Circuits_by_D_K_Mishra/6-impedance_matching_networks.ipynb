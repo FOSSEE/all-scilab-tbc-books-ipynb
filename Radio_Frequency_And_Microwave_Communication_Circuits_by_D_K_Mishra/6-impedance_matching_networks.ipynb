{
"cells": [
 {
		   "cell_type": "markdown",
	   "metadata": {},
	   "source": [
       "# Chapter 6: impedance matching networks"
	   ]
	},
{
		   "cell_type": "markdown",
		   "metadata": {},
		   "source": [
			"## Example 6.10: 10.sce"
		   ]
		  },
  {
"cell_type": "code",
	   "execution_count": null,
	   "metadata": {
	    "collapsed": true
	   },
	   "outputs": [],
"source": [
"\n",
"W=2*%pi*10^9\n",
"Gs=0.02\n",
"Gp=0.008\n",
"Q=sqrt(Gs/Gp-1)\n",
"Bs=Gs/Q\n",
"Bp=Q*Gp\n",
"printf('\nQ=%.4f\nBs=%.4f S\nBp=%.2f S\n',Q,Bs,Bp)"
   ]
   }
,
{
		   "cell_type": "markdown",
		   "metadata": {},
		   "source": [
			"## Example 6.1: 1.sce"
		   ]
		  },
  {
"cell_type": "code",
	   "execution_count": null,
	   "metadata": {
	    "collapsed": true
	   },
	   "outputs": [],
"source": [
"\n",
"//data\n",
"Zo=100\n",
"ZL=complex(50,-75)\n",
"B=2*%pi\n",
"XL=-0.75\n",
"RL=0.5\n",
"Y_L=Zo/ZL\n",
"//formulas and result\n",
"printf('\nresult:-')\n",
"G_L=real(Y_L)\n",
"B_L=imag(Y_L)\n",
"disp(Y_L,'Y_L=')\n",
"A=G_L*(G_L-1)+B_L^2\n",
"printf('\nA=%.4f',A)\n",
"ds=1/B*atan((XL+sqrt(XL^2-A*(1-RL)))/A)\n",
"printf('\nds=%f*lambda',ds)                 //calculation mistake in book\n",
"ds=1/B*atan((XL-sqrt(XL^2-A*(1-RL)))/A)\n",
"printf('\nds=%f*lambda',ds)\n",
"X_s=-1.2748\n",
"Ls=1/B*acot(X_s)\n",
"printf('\nLs=%f*lambda',Ls)\n",
"X_s=1.2748\n",
"Ls=1/B*acot(X_s)\n",
"printf('\nLs=%f*lambda',Ls)"
   ]
   }
,
{
		   "cell_type": "markdown",
		   "metadata": {},
		   "source": [
			"## Example 6.3: 3.sce"
		   ]
		  },
  {
"cell_type": "code",
	   "execution_count": null,
	   "metadata": {
	    "collapsed": true
	   },
	   "outputs": [],
"source": [
"\n",
"FL=0.4*exp(-%i*30*%pi/180)\n",
"Fin=0.2*exp(%i*45*%pi/180)\n",
"Z_L=(1+FL)/(1-FL)\n",
"Z_in=(1+Fin)/(1-Fin)\n",
"Y_in=(1-Fin)/(1+Fin)\n",
"disp(Z_L,'Z_L=')\n",
"disp(Z_in,'Z_in=')\n",
"disp(Y_in,'Y_in=')\n",
"//Y_in=(1+%i*Z_L*tan(Bl))/(Z_L+%i*tan(Bl))\n",
"Y_in=1/Z_in\n",
"disp(Y_in,'Y_in=')"
   ]
   }
,
{
		   "cell_type": "markdown",
		   "metadata": {},
		   "source": [
			"## Example 6.5: 5.sce"
		   ]
		  },
  {
"cell_type": "code",
	   "execution_count": null,
	   "metadata": {
	    "collapsed": true
	   },
	   "outputs": [],
"source": [
"\n",
"RL=50\n",
"Rs=75\n",
"\n",
"R1=sqrt(Rs*(Rs-RL))\n",
"R2=sqrt(RL^2*Rs/(Rs-RL))\n",
"attenuation=20*log10(R2*RL/(R1*(R2+RL)+R2*RL))\n",
"printf('\nR1=%.1f ohm\nR2=%.1f ohm\nattenuation(dB)=%.2f dB',R1,R2,attenuation)"
   ]
   }
,
{
		   "cell_type": "markdown",
		   "metadata": {},
		   "source": [
			"## Example 6.6: 6.sce"
		   ]
		  },
  {
"cell_type": "code",
	   "execution_count": null,
	   "metadata": {
	    "collapsed": true
	   },
	   "outputs": [],
"source": [
"\n",
"Rp=600\n",
"Rs=50\n",
"W=2*%pi*400*10^6\n",
"Q=sqrt(Rp/Rs-1)\n",
"Xs=Q*Rs\n",
"Xp=Rp/Q\n",
"Cs=1/W/Xs\n",
"Lp=Xp/W\n",
"Ls=Xs/W\n",
"Cp=1/W/Xp\n",
"printf('\nQ=%.4f\nXs=%.4f ohm\nXp=%.4f ohm\nCs=%.2e F\nLp=%.3e H\nLs=%.3e H\nCp=%.2e F',Q,Xs,Xp,Cs,Lp,Ls,Cp)"
   ]
   }
,
{
		   "cell_type": "markdown",
		   "metadata": {},
		   "source": [
			"## Example 6.7: 7.sce"
		   ]
		  },
  {
"cell_type": "code",
	   "execution_count": null,
	   "metadata": {
	    "collapsed": true
	   },
	   "outputs": [],
"source": [
"\n",
"Rp=600   //ohm\n",
"Rs=173.2    //ohm\n",
"Q=sqrt(Rp/Rs-1)\n",
"Xs=Q*Rs\n",
"Xp=Rp/Q\n",
"printf('\nQ=%.4f\nXs=%.4f ohm\nXp=%.4f ohm\n',Q,Xs,Xp)\n",
"Rp=173.2    //ohm\n",
"Rs=50         //ohm\n",
"Q=sqrt(Rp/Rs-1)\n",
"Xs=Q*Rs\n",
"Xp=Rp/Q\n",
"printf('\nQ=%.4f\nXs=%.4f ohm\nXp=%.4f ohm\n',Q,Xs,Xp)"
   ]
   }
,
{
		   "cell_type": "markdown",
		   "metadata": {},
		   "source": [
			"## Example 6.8: 8.sce"
		   ]
		  },
  {
"cell_type": "code",
	   "execution_count": null,
	   "metadata": {
	    "collapsed": true
	   },
	   "outputs": [],
"source": [
"\n",
"f=500*10^6\n",
"W=2*%pi*f\n",
"Rp=50\n",
"Rs=10\n",
"Q=sqrt(Rp/Rs-1)\n",
"Xs=Q*Rs\n",
"Xp=Rp/Q\n",
"Ls=(Xs-10)/W\n",
"Cp=1/W/Xp\n",
"Cs=1/W/(Xs+10)\n",
"Lp=Xp/W\n",
"printf('\nQ=%.0f\nXs=%.0f ohm\nXp=%.0f ohm\nLs=%.4e H\nCp=%e F\nCs=%e F\nLp=%e H',Q,Xs,Xp,Ls,Cp,Cs,Lp)"
   ]
   }
,
{
		   "cell_type": "markdown",
		   "metadata": {},
		   "source": [
			"## Example 6.9: 9.sce"
		   ]
		  },
  {
"cell_type": "code",
	   "execution_count": null,
	   "metadata": {
	    "collapsed": true
	   },
	   "outputs": [],
"source": [
"\n",
"ZL=10^3/(8-%i*12)\n",
"Rp=50\n",
"W=2*%pi*10^9\n",
"Rs=real(ZL)\n",
"Q=sqrt(Rp/Rs-1)\n",
"Xs=Q*Rs\n",
"Xc=Xs+imag(ZL)\n",
"Xp=Rp/Q\n",
"C=1/W/Xc\n",
"L=Xp/W\n",
"disp(ZL,'ZL=')\n",
"printf('\nQ=%.4f\nXs=%.4f ohm\nXp=%.4f ohm\nC=%.4e F\nL=%.4e H\n',Q,Xs,Xp,C,L)\n",
"printf('\nXs=57.6923-21.0654 ohm\nXp=91.2909 ohm\nCp=1.7434 F')"
   ]
   }
],
"metadata": {
		  "kernelspec": {
		   "display_name": "Scilab",
		   "language": "scilab",
		   "name": "scilab"
		  },
		  "language_info": {
		   "file_extension": ".sce",
		   "help_links": [
			{
			 "text": "MetaKernel Magics",
			 "url": "https://github.com/calysto/metakernel/blob/master/metakernel/magics/README.md"
			}
		   ],
		   "mimetype": "text/x-octave",
		   "name": "scilab",
		   "version": "0.7.1"
		  }
		 },
		 "nbformat": 4,
		 "nbformat_minor": 0
}
