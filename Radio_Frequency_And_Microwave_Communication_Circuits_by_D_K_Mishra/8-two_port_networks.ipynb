{
"cells": [
 {
		   "cell_type": "markdown",
	   "metadata": {},
	   "source": [
       "# Chapter 8: two port networks"
	   ]
	},
{
		   "cell_type": "markdown",
		   "metadata": {},
		   "source": [
			"## Example 8.10: 10.sce"
		   ]
		  },
  {
"cell_type": "code",
	   "execution_count": null,
	   "metadata": {
	    "collapsed": true
	   },
	   "outputs": [],
"source": [
"\n",
"I1=1\n",
"I2=-I1\n",
"V1=I1\n",
"B=-V1/I2\n",
"D=-I1/I2\n",
"V2=V1\n",
"I1=0\n",
"A=V1/V2\n",
"C=I1/V2\n",
"M=[A,B;C,D]\n",
"printf('\nA=')\n",
"disp(M)"
   ]
   }
,
{
		   "cell_type": "markdown",
		   "metadata": {},
		   "source": [
			"## Example 8.1: 1.sce"
		   ]
		  },
  {
"cell_type": "code",
	   "execution_count": null,
	   "metadata": {
	    "collapsed": true
	   },
	   "outputs": [],
"source": [
"\n",
"I1=1\n",
"V1=6*I1\n",
"Z11=V1/I1\n",
"V2=6*I1\n",
"Z21=V2/I1\n",
"I2=1\n",
"V1=6*I2\n",
"Z12=V1/I2\n",
"V2=6*I2\n",
"Z22=V2/I2\n",
"A=[Z11,Z12;Z21,Z22]\n",
"printf('\nA=')\n",
"disp(A)"
   ]
   }
,
{
		   "cell_type": "markdown",
		   "metadata": {},
		   "source": [
			"## Example 8.14: 14.sce"
		   ]
		  },
  {
"cell_type": "code",
	   "execution_count": null,
	   "metadata": {
	    "collapsed": true
	   },
	   "outputs": [],
"source": [
"\n",
"V1in=.5*(10*exp(%i*%pi/180*0)+50*.1*exp(%i*%pi/180*40))\n",
"disp(V1in)\n",
"V1ref=0.5*(10*exp(%i*%pi/180*0)-50*.1*exp(%i*%pi/180*40))\n",
"disp(V1ref)\n",
"V2in=0.5*(12*exp(%i*%pi/180*30)+50*.15*exp(%i*%pi/180*100))\n",
"disp(V2in)\n",
"V2ref=0.5*(12*exp(%i*%pi/180*30)-50*.15*exp(%i*%pi/180*100))\n",
"disp(V2ref)"
   ]
   }
,
{
		   "cell_type": "markdown",
		   "metadata": {},
		   "source": [
			"## Example 8.17: 17.sce"
		   ]
		  },
  {
"cell_type": "code",
	   "execution_count": null,
	   "metadata": {
	    "collapsed": true
	   },
	   "outputs": [],
"source": [
"\n",
"n=10\n",
"S11=(n^2-1)/(n^2+1)\n",
"S21=2*n/(n^2+1)\n",
"S22=(1-n^2)/(1+n^2)\n",
"S12=2*n/(n^2+1)\n",
"A=[S11,S12;S21,S22]\n",
"disp(A)"
   ]
   }
,
{
		   "cell_type": "markdown",
		   "metadata": {},
		   "source": [
			"## Example 8.19: 19.sce"
		   ]
		  },
  {
"cell_type": "code",
	   "execution_count": null,
	   "metadata": {
	    "collapsed": true
	   },
	   "outputs": [],
"source": [
"\n",
"Zo1=50\n",
"Zo2=50\n",
"Vs1=1\n",
"Vs2=1\n",
"Z1=%i*50+50*(-%i*25)/(50-%i*25)\n",
"S11=(Z1-Zo1)/(Z1+Zo1)\n",
"Z2=(50+%i*50)*(-%i*25)/(50+%i*50-25*%i)\n",
"S22=(Z2-Zo2)/(Z2+Zo2)\n",
"V2=(10-%i*20)/(50+%i*50+10-%i*20)*Vs1\n",
"S21=2*V2/Vs1\n",
"V2=(10-%i*30)/(50+10-%i*30)*Vs2\n",
"V1=50/(50+%i*50)*V2\n",
"S12=2*V1/Vs2\n",
"A=[S11,S12;S21,S22]\n",
"disp(A,'A=')"
   ]
   }
,
{
		   "cell_type": "markdown",
		   "metadata": {},
		   "source": [
			"## Example 8.2: 2.sce"
		   ]
		  },
  {
"cell_type": "code",
	   "execution_count": null,
	   "metadata": {
	    "collapsed": true
	   },
	   "outputs": [],
"source": [
"\n",
"I1=1\n",
"V1=12*I1\n",
"V2=0\n",
"Z21=V2/I1\n",
"Z11=V1/I1\n",
"I2=1\n",
"V2=3*I2\n",
"V1=0\n",
"Z12=V1/I2\n",
"V2=3*I2\n",
"Z22=V2/I2\n",
"A=[Z11,Z12;Z21,Z22]\n",
"printf('\nA=')\n",
"disp(A)"
   ]
   }
,
{
		   "cell_type": "markdown",
		   "metadata": {},
		   "source": [
			"## Example 8.3: 3.sce"
		   ]
		  },
  {
"cell_type": "code",
	   "execution_count": null,
	   "metadata": {
	    "collapsed": true
	   },
	   "outputs": [],
"source": [
"\n",
"I1=1\n",
"V1=18*I1\n",
"V2=6*I1\n",
"Z11=V1/I1\n",
"Z21=V2/I1\n",
"I2=1\n",
"V2=9*I2\n",
"V1=6*I2\n",
"Z12=V1/I2\n",
"Z22=V2/I2\n",
"A=[Z11,Z12;Z21,Z22]\n",
"printf('\nA=')\n",
"disp(A)"
   ]
   }
,
{
		   "cell_type": "markdown",
		   "metadata": {},
		   "source": [
			"## Example 8.5: 5.sce"
		   ]
		  },
  {
"cell_type": "code",
	   "execution_count": null,
	   "metadata": {
	    "collapsed": true
	   },
	   "outputs": [],
"source": [
"\n",
"V2=1\n",
"V1=1\n",
"V2=0\n",
"I1=0.05*V1\n",
"I2=-0.05*V1\n",
"Y11=I1/V1\n",
"Y21=I2/V1\n",
"I2=0.05*V2\n",
"I1=-0.05*V2\n",
"Y12=-0.05\n",
"Y22=0.05\n",
"A=[Y11,Y12;Y21,Y22]\n",
"printf('\nA=')\n",
"disp(A)"
   ]
   }
,
{
		   "cell_type": "markdown",
		   "metadata": {},
		   "source": [
			"## Example 8.6: 6.sce"
		   ]
		  },
  {
"cell_type": "code",
	   "execution_count": null,
	   "metadata": {
	    "collapsed": true
	   },
	   "outputs": [],
"source": [
"\n",
"V1=1\n",
"V2=1\n",
"I1=0.0225/0.325*V1\n",
"VN=I1/(0.2+0.025)\n",
"I2=-0.2*VN\n",
"Y11=I1/V1\n",
"Y21=I2/V1\n",
"I2=0.025/0.325*V2\n",
"VM=I2/(0.1+0.025)\n",
"I1=-0.1*VM\n",
"Y12=I1/V2\n",
"Y22=I2/V2\n",
"A=[Y11,Y12;Y21,Y22]\n",
"printf('\nA=')\n",
"disp(A)"
   ]
   }
,
{
		   "cell_type": "markdown",
		   "metadata": {},
		   "source": [
			"## Example 8.7: 7.sce"
		   ]
		  },
  {
"cell_type": "code",
	   "execution_count": null,
	   "metadata": {
	    "collapsed": true
	   },
	   "outputs": [],
"source": [
"\n",
"V1=1\n",
"V2=1\n",
"I1=0.1192*V1\n",
"IN=0.05*I1/(0.05+(0.1*(0.2+0.025)/(0.1+0.2+0.025)))\n",
"IM=0.2*0.0692*V1/(0.2+0.025)\n",
"I2=-(IN+IM)\n",
"Y11=I1/V1\n",
"Y21=I2/V1\n",
"I2=(0.05+0.2*(0.1+0.025)/(0.2+0.1+0.025))*V2\n",
"IN=0.05*I2/(0.05+(0.2*(0.1+0.025)/(0.2+.1+0.025)))\n",
"IM=0.1*0.0769*V2/(0.1+0.025)\n",
"I1=-(IN+IM)\n",
"Y12=I1/V2\n",
"Y22=I2/V2\n",
"A=[Y11,Y12;Y21,Y22]\n",
"printf('\nA=')\n",
"disp(A)"
   ]
   }
,
{
		   "cell_type": "markdown",
		   "metadata": {},
		   "source": [
			"## Example 8.9: 9.sce"
		   ]
		  },
  {
"cell_type": "code",
	   "execution_count": null,
	   "metadata": {
	    "collapsed": true
	   },
	   "outputs": [],
"source": [
"\n",
"I1=1\n",
"V1=14*I1\n",
"I2=-2/3*I1\n",
"h11=V1/I1\n",
"h21=I2/I1\n",
"V2=9*I2\n",
"V1=6*I2\n",
"h12=V1/V2\n",
"h22=I2/V2\n",
"A=[h11,h12;h21,h22]\n",
"printf('\nA=')\n",
"disp(A)"
   ]
   }
],
"metadata": {
		  "kernelspec": {
		   "display_name": "Scilab",
		   "language": "scilab",
		   "name": "scilab"
		  },
		  "language_info": {
		   "file_extension": ".sce",
		   "help_links": [
			{
			 "text": "MetaKernel Magics",
			 "url": "https://github.com/calysto/metakernel/blob/master/metakernel/magics/README.md"
			}
		   ],
		   "mimetype": "text/x-octave",
		   "name": "scilab",
		   "version": "0.7.1"
		  }
		 },
		 "nbformat": 4,
		 "nbformat_minor": 0
}
