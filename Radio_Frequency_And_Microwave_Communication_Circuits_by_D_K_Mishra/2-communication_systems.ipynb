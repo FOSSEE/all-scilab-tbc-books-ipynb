{
"cells": [
 {
		   "cell_type": "markdown",
	   "metadata": {},
	   "source": [
       "# Chapter 2: communication systems"
	   ]
	},
{
		   "cell_type": "markdown",
		   "metadata": {},
		   "source": [
			"## Example 2.10: 10.sce"
		   ]
		  },
  {
"cell_type": "code",
	   "execution_count": null,
	   "metadata": {
	    "collapsed": true
	   },
	   "outputs": [],
"source": [
"//data in question\n",
"//noise figure(dB)\n",
"NF=3.5\n",
"//band width(Hz)\n",
"B=(12-10)*10^9\n",
"//amplifier gain\n",
"G=10^(20/10)\n",
"To=290\n",
"k=1.38*10^-23\n",
"//data print\n",
"printf('\nNF=3.5 dB\tB=2 GHz  \tG=20dB\n')\n",
"//equations and result\n",
"//noise factor\n",
"F=10^(NF/10)\n",
"printf('\nnoise factor\nF=10^(NF/10)=%f',F)\n",
"No=F*k*To*B*G\n",
"printf('\noutput noise power\nNo=F*k*To*B*G=%.4e W',No)\n",
"printf(' = %.1f dBm',10*log10(No*1000))"
   ]
   }
,
{
		   "cell_type": "markdown",
		   "metadata": {},
		   "source": [
			"## Example 2.11: 11.sce"
		   ]
		  },
  {
"cell_type": "code",
	   "execution_count": null,
	   "metadata": {
	    "collapsed": true
	   },
	   "outputs": [],
"source": [
"printf('\n\t(a) Find the noise figure of this cascaded system.')\n",
"printf('\n\t(b) What would be the noise figure if the amplifier were placed before the transmission line?\n')\n",
"// data in question\n",
"//ambient temperature(K)\n",
"Te=300\n",
"To=290\n",
"//noise temperature of amplifier(K)\n",
"Ta=150\n",
"k=1.38*10^-23\n",
"//band width(Hz)\n",
"B=100*10^6\n",
"//gain of amplifier\n",
"Gamp=10^(15/10)\n",
"// for transmission lines\n",
"Gline=1/10^0.2\n",
"//data print\n",
"printf('\nTe=300K\tTa=150K\tB=100MHz\tGamp=15dB\tattenuation=2dB\n')\n",
"//equations and result\n",
"printf('\nresult:-')\n",
"//noise factor for amplifier\n",
"Famp=1+Ta/To\n",
"printf('\nFamp=1+Ta/To')\n",
"//noise for transmission lines\n",
"Fline=1+(1/Gline-1)*Te/To\n",
"printf('\nFline=1+(1/Gline-1)*Te/To')\n",
"Fcascaded=Fline+(Famp-1)/Gline\n",
"printf('\n(a)noise figure of cascaded system\n\tFcascaded=Fline+(Famp-1)/Gline = %.4f',Fcascaded)\n",
"printf(' = %.4f dB',10*log10(Fcascaded))\n",
"Fcascaded=Famp+(Fline-1)/Gamp\n",
"printf('\n(b)if the amplifier is connected before the line\n\tFcascaded=Famp+(Fline-1)/Gamp = %.4f',Fcascaded)\n",
"printf(' = %.4f dB',10*log10(Fcascaded))\n",
"\n",
"\n",
"\n",
""
   ]
   }
,
{
		   "cell_type": "markdown",
		   "metadata": {},
		   "source": [
			"## Example 2.1: 1.sce"
		   ]
		  },
  {
"cell_type": "code",
	   "execution_count": null,
	   "metadata": {
	    "collapsed": true
	   },
	   "outputs": [],
"source": [
"// data given in question\n",
"// diameter of dish (m)\n",
"d=30;\n",
"//frequency of radiation (Hz)\n",
"f=4*10^9;\n",
"// speed of light(m/s)\n",
"c=3*10^8;\n",
"// efficiency of aperture\n",
"e=0.6;\n",
"//data print\n",
"printf('\nd=30 m\tf=4 GHz\te=0.6\n')\n",
"// equation and result\n",
"printf('\nresult:-')\n",
"wavelength=c/f\n",
"printf('\nwavelength of radiating signal=c/f= %.3f m',wavelength)\n",
"A=%pi*d^2/4\n",
"printf('\narea of aperture A=pi*d^2/4=%.4f m^2',A)\n",
"G=4*%pi*A*e/wavelength^2\n",
"\n",
"printf('\nantenna gain G=4*pi*A*e/wavelength^2 =%.3f',G)\n",
"printf('=%.0f dB',10*log10(G))\n",
"BW=65*wavelength/d\n",
"printf('\nhalf power beam width BW=65*wavelength/d=%.4f degree',BW)\n",
""
   ]
   }
,
{
		   "cell_type": "markdown",
		   "metadata": {},
		   "source": [
			"## Example 2.12: 12.sce"
		   ]
		  },
  {
"cell_type": "code",
	   "execution_count": null,
	   "metadata": {
	    "collapsed": true
	   },
	   "outputs": [],
"source": [
"//data in question\n",
"//noise factor of A1\n",
"F1=10^(3/10)\n",
"//noise factor of A2\n",
"F2=10^(5/10)\n",
"//gain of amplifier A1\n",
"G1=10^(20/10)\n",
"//gain of amplifier A2\n",
"G2=10^(20/10)\n",
"//data print\n",
"printf('\nF1=3dB\tF2=5dB\tG1=G2=20dB\n')\n",
"//equation and result\n",
"printf('\nresult:-')\n",
"//overall gain of cascaded system\n",
"G=G1*G2\n",
"printf('\noverall gain of cascaded system\nG=G1*G2= %.2f',G)\n",
"printf(' = %.0f dB',10*log10(G))\n",
"//overall noise figure of cascaded system\n",
"F=F1+(F2-1)/G1\n",
"printf('\noverall noise of cascaded system\nF=F1+(F2-1)/G1 = %.6f',F)    //some difference in result is due to approx in calculation\n",
"printf(' = %.3f dB',10*log10(F))\n",
"F=F2+(F1-1)/G2\n",
"printf('\noverall noise of cascaded system when order of amplifiers is changed\nF=F2+(F1-1)/G2 = %.6f',F)\n",
"printf(' = %.6f dB',10*log10(F))\n",
"\n",
"\n",
"\n",
"\n",
""
   ]
   }
,
{
		   "cell_type": "markdown",
		   "metadata": {},
		   "source": [
			"## Example 2.13: 13.sce"
		   ]
		  },
  {
"cell_type": "code",
	   "execution_count": null,
	   "metadata": {
	    "collapsed": true
	   },
	   "outputs": [],
"source": [
"//noise factor\n",
"F=10^(10/10)\n",
"//equation and result\n",
"printf('\nresult:-')\n",
"printf('\n(a)B=1MHz')\n",
"B=1\n",
"Pimds=-111+F+10*log10(B)     //F in dB, B in MHz, Pidms in dBm\n",
"printf('\n\tPimds=-111+F+10*log10(B)\n\tPimds=%.1f dBm',Pimds)\n",
"printf(' = %.2e mW',10^(Pimds/10))\n",
"printf('\n(b)B=1GHz')\n",
"B=1000\n",
"Pimds=-111+F+10*log10(B)     //F in dB, B in MHz, Pidms in dBm\n",
"printf('\n\tPimds=-111+F+10*log10(B)\n\tPimds=%.1f dBm',Pimds)\n",
"printf(' = %.2e mW',10^(Pimds/10))\n",
"\n",
"printf('\n(c)B=10GHz')\n",
"B=10000\n",
"Pimds=-111+F+10*log10(B)     //F in dB, B in MHz, Pidms in dBm\n",
"printf('\n\tPimds=-111+F+10*log10(B)\n\tPimds=%.1f dBm',Pimds)\n",
"printf(' = %.2e mW',10^(Pimds/10))\n",
"printf('\n(d)B=1kHz')\n",
"B=0.001\n",
"Pimds=-111+F+10*log10(B)     //F in dB, B in MHz, Pidms in dBm\n",
"printf('\n\tPimds=-111+F+10*log10(B)\n\tPimds=%.1f dBm',Pimds)\n",
"printf(' = %.2e mW',10^(Pimds/10))"
   ]
   }
,
{
		   "cell_type": "markdown",
		   "metadata": {},
		   "source": [
			"## Example 2.14: 14.sce"
		   ]
		  },
  {
"cell_type": "code",
	   "execution_count": null,
	   "metadata": {
	    "collapsed": true
	   },
	   "outputs": [],
"source": [
"// data in question\n",
"//input signal(dBm)\n",
"Pin=-15\n",
"//intercept point of characteristic curve(dBm)\n",
"Pip=25\n",
"printf('\nPin=-15dBm\tPip=25dBm\n')\n",
"//equations and result\n",
"printf('\nresult:-')\n",
"Pimr=(Pin-Pip)*2     //Pimr in dB; Pin,Pip in dBm\n",
"printf('\nintermodulation ratio\nPimr=(Pin-Pip)*2 =%.1f dB',Pimr)"
   ]
   }
,
{
		   "cell_type": "markdown",
		   "metadata": {},
		   "source": [
			"## Example 2.15: 15.sce"
		   ]
		  },
  {
"cell_type": "code",
	   "execution_count": null,
	   "metadata": {
	    "collapsed": true
	   },
	   "outputs": [],
"source": [
"//data in question\n",
"To=290\n",
"//bandwidth(Hz)\n",
"B=500*10^3\n",
"k=1.38*10^-23\n",
"//noise factor\n",
"F=10^(8/10)\n",
"//input power at IP\n",
"Pip=10\n",
"printf('\nB=500kHz\tF=8 dB\tPip=10 dBm')\n",
"//equations and result\n",
"Nf=k*To*B*F\n",
"printf('\nNf=k*To*B*F=%.4e',Nf)\n",
"printf(' = %.2f dBm',10*log10(Nf*1000))\n",
"Nf=10*log10(Nf*1000)   //Nf in dBm\n",
"DR=2/3*(Pip-Nf)    //DR in dB; Pip,Nf in dBm\n",
"printf('\ndynamic range\nDR=2/3*(Pip-Nf)=%.2f dB',DR)\n",
""
   ]
   }
,
{
		   "cell_type": "markdown",
		   "metadata": {},
		   "source": [
			"## Example 2.2: 2.sce"
		   ]
		  },
  {
"cell_type": "code",
	   "execution_count": null,
	   "metadata": {
	    "collapsed": true
	   },
	   "outputs": [],
"source": [
"//impedance of transmission line\n",
"Za=73\n",
"//impedance of antenna\n",
"Zo=50\n",
"//radiation efficiency\n",
"ecd=1\n",
"I=integrate('(sin(x))^4','x',0,%pi)*2*%pi\n",
"Do=4*%pi/I\n",
"printf('\nDo=%.4f=%.4f dB',Do,10*log10(Do))\n",
"//voltage reflection coefficient\n",
"F=(Za-Zo)/(Za+Zo)\n",
"printf('\nvoltage reflection coefficient\nF=(Za-Zo)/(Za+Zo)=%f',F)\n",
"//mismatch efficiency of antenna\n",
"er=1-F^2\n",
"printf('\nmismatch efficiency of antenna\ner=1-F^2=%.4f=%.4f dB',er,10*log10(er))\n",
"//overall gain\n",
"Go=10*log10(Do)+10*log10(er)+10*log10(ecd)\n",
"printf('\noverall gain\nGo=Do+er+ecd=%.4f dB',Go)"
   ]
   }
,
{
		   "cell_type": "markdown",
		   "metadata": {},
		   "source": [
			"## Example 2.3: 3.sce"
		   ]
		  },
  {
"cell_type": "code",
	   "execution_count": null,
	   "metadata": {
	    "collapsed": true
	   },
	   "outputs": [],
"source": [
"printf('\nunit vector along the polarization of incident wave is ui=[1 0 0]')\n",
"ui=[1 0 0];\n",
"printf('\nunit vector along the antenna polarization ua=[1 1 0]*(1/sqrt(2))\n')\n",
"ua=[1 1 0]*(1/sqrt(2));\n",
"d=ui*ua'\n",
"printf('\npolarization loss factor |ui*ua|^2=%.2f',d^2)\n",
"printf('=%.2f dB',10*log10(d^2))"
   ]
   }
,
{
		   "cell_type": "markdown",
		   "metadata": {},
		   "source": [
			"## Example 2.4: 4.sce"
		   ]
		  },
  {
"cell_type": "code",
	   "execution_count": null,
	   "metadata": {
	    "collapsed": true
	   },
	   "outputs": [],
"source": [
"// data \n",
"// output of high power amplifier(W)\n",
"Pt=500;\n",
"//efficiency\n",
"e=0.8;\n",
"//gain of transmitting antenna(60dB=10^6)\n",
"G=10^6;\n",
"// data print\n",
"printf('\nPt=500 W\te=0.8\tG=60 dB\n')\n",
"//equations and result\n",
"printf('\nresult:-')\n",
"Pant=e*Pt\n",
"printf('\noutput power of antenna Pant=%.2f W',Pant)\n",
"L=Pt/Pant\n",
"printf('\ninput/output power ratio L=Pt/Pant=%.2f=%.4f dB',L,10*log10(L))\n",
"EIRP=Pt*G/L\n",
"printf('\nEIRP =%.4f dBw',10*log10(Pt)+10*log10(G)-10*log10(L))\n",
"printf('\nEIRP=Pt*G/L=%.2e W',EIRP)"
   ]
   }
,
{
		   "cell_type": "markdown",
		   "metadata": {},
		   "source": [
			"## Example 2.5: 5.sce"
		   ]
		  },
  {
"cell_type": "code",
	   "execution_count": null,
	   "metadata": {
	    "collapsed": true
	   },
	   "outputs": [],
"source": [
"// data in question\n",
"//distance of satellite from earth surface(m)\n",
"R=35860000;\n",
"//operating frequency of satellite(Hz)\n",
"f=4*10^9;\n",
"c=3*10^8;\n",
"//data print\n",
"printf('\nR=35,860 km\tf=4 GHz\n')\n",
"//equations and result\n",
"printf('\nresult:-')\n",
"wavelength=c/f\n",
"printf('\nwavelength of signal = c/f = %.3f m',wavelength)\n",
"space_loss_ratio=(wavelength/(4*%pi*R))^2\n",
"printf('\nspace loss ratio=(wavelength/(4*pi*R))^2 = %.2e',space_loss_ratio)\n",
"printf(' = %.4f dB',10*log10(space_loss_ratio))"
   ]
   }
,
{
		   "cell_type": "markdown",
		   "metadata": {},
		   "source": [
			"## Example 2.6: 6.sce"
		   ]
		  },
  {
"cell_type": "code",
	   "execution_count": null,
	   "metadata": {
	    "collapsed": true
	   },
	   "outputs": [],
"source": [
"//date in question\n",
"//transmitting antenna gain (dB)\n",
"Gt=37\n",
"// ground station antenna gain (dB)\n",
"Gr=45.8\n",
"//frequency of signal\n",
"f=20*10^3\n",
"//distance from ground station\n",
"R=36941.031\n",
"//data print\n",
"printf('\nGt=37\tGr=45.8\tf=20GHz\tR=36941.031km\n')\n",
"//equation and result\n",
"printf('\nresult:-')\n",
"Pt=10*log10(2000)\n",
"printf('\npower transmitted\n\tPt=10*log10(2000)=%.4f dB\n',Pt)\n",
"Pr=Pt+Gt+Gr-20*log10(f*R)-32.4418    //Pt,Pr in dBm and Gt,Gr in dB f in MHz and R in km\n",
"printf('\npower received at earth station\n\tPr=Pt+Gt+Gr-20*log10(f*R)-32.4418=%f dBm',Pr)\n",
"Gt=0    //Gt in dB\n",
"Gr=0    //Gr in dB\n",
"Pr=Pt+Gt+Gr-20*log10(f*R)-32.4418 \n",
"printf('\nif two antennas are isotropic \n\tPr=%f dBm=%.4emW',Pr,10^(Pr/10))"
   ]
   }
,
{
		   "cell_type": "markdown",
		   "metadata": {},
		   "source": [
			"## Example 2.7: 7.sce"
		   ]
		  },
  {
"cell_type": "code",
	   "execution_count": null,
	   "metadata": {
	    "collapsed": true
	   },
	   "outputs": [],
"source": [
"//data in question\n",
"// input power to the antenna(W)\n",
"Ps=2;\n",
"//reflection coefficient of transmitting antenna\n",
"Yt=0.1\n",
"//reflection coefficient of receiving antenna\n",
"Yr=0.2\n",
"//distance between two antennas\n",
"//consider\n",
"A=10^(-5)\n",
"R=100*(A)\n",
"//maximum directivity of receiving antenna(20 dB = 10^(20/10))\n",
"Gr=10^(20/10)\n",
"//maximum directivity of transmitting antenna(16dB=10^(16/10))\n",
"Gt=10^(16/10)\n",
"//data print\n",
"printf('\nPs=2 W\tYt=0.1\tYr=0.2\tR=100λ\tGr=20 dB\tGt=16 dB\n')\n",
"//equations and result\n",
"// power transmitted in the forward direction\n",
"printf('\nresult:-')\n",
"Pt = (1-Yt^2)*Ps\n",
"printf('\npower transmitted in the forward direction\n\tPt = (1-Yt^2)*Ps=%.2f W',Pt)\n",
"//Friis transmission equation\n",
"Pr=Pt*(A/(4*%pi*R))^2*Gr*Gt\n",
"printf('\nFriis equation \n\tPr=Pt*(λ/(4*pi*R))^2*Gr*Gt=%fW',Pr)\n",
"printf(' =%.0f mW',Pr*1000)\n",
"//power delivered to receiver\n",
"Pd=(1-Yr^2)*Pr\n",
"printf('\npower delivered to receiver\n\tPd=(1-Yr^2)*Pr=%.1f mW',Pd*1000)\n",
"\n",
"\n",
""
   ]
   }
,
{
		   "cell_type": "markdown",
		   "metadata": {},
		   "source": [
			"## Example 2.8: 8.sce"
		   ]
		  },
  {
"cell_type": "code",
	   "execution_count": null,
	   "metadata": {
	    "collapsed": true
	   },
	   "outputs": [],
"source": [
"//data in question\n",
"//power transmission(W)\n",
"Pt=25000\n",
"//operating frequency(Hz)\n",
"f=12*10^9\n",
"//gain of transmitter antenna(25dB)\n",
"Gt=10^(25/10)\n",
"//gain of receiver antenna(25dB)\n",
"Gr=10^(25/10)\n",
"//distance between two radars(m)\n",
"R=10000\n",
"//surface area of target radar(m^2)\n",
"A=8\n",
"c=3*10^8\n",
"//data print\n",
"printf('\nPt=25 kW\tf=12 GHz\tGt=Gr=25 dB\tR=10 km\tA=8 m^2\n')\n",
"//equation and result\n",
"printf('\nresult:-')\n",
"//wavelength L\n",
"L=c/f\n",
"printf('\nwavelength of signal L=c/f=%.3f m',L)\n",
"Pr=Gr*Gt*Pt*A*L^2/(4*%pi*(4*%pi*R^2)^2)\n",
"printf('\nreceived power \nPr=Gr*Gt*Pt*A*L^2/(4*pi*(4*pi*R^2)^2)= %.2eW',Pr)\n",
"printf(' = %.2f pW',Pr*10^12)\n",
"\n",
""
   ]
   }
,
{
		   "cell_type": "markdown",
		   "metadata": {},
		   "source": [
			"## Example 2.9: 9.sce"
		   ]
		  },
  {
"cell_type": "code",
	   "execution_count": null,
	   "metadata": {
	    "collapsed": true
	   },
	   "outputs": [],
"source": [
"//data in question\n",
"//noise power at Th=290 K(dBm)\n",
"P1=-70\n",
"Th=290\n",
"//noise power at Tc=77 K(dBm)\n",
"P2=-75\n",
"Tc=77\n",
"//given noise temperature(K)\n",
"Ts=450 \n",
"//frequency band B\n",
"B=1.5*10^9-500*10^6\n",
"//power gain of amplifier(10dB=10)\n",
"G=10\n",
"//boltzamn constant\n",
"k=1.38*10^(-23)\n",
"//data print\n",
"printf('\nP1=-70 dBm at Th=290 K\tP2=-75 dBm at Tc=77 K \tTs=450 K G=10\n')\n",
"//equation and result\n",
"printf('\nresult:-')\n",
"//Y-factor(Y=P1/P2 = (P1-P2)dBm)\n",
"Y=10^((P1-P2)/10)\n",
"printf('\n Y-factor = 10^((P1-P2)/10) = %.4f',Y)\n",
"//equivalent noise temperature\n",
"Te=(Th-Y*Tc)/(Y-1)\n",
"printf('\nequivalent noise temperature\nTe=(Th-Y*Tc)/(Y-1)=%.2f K',Te)\n",
"//noise power output of amplifier\n",
"Po=G*k*Ts*B+G*k*Te*B\n",
"printf('\nnoise power output\nPo=G*k*Ts*B+G*k*Te*B=%.4e W',Po)\n",
"printf(' = %.4f dBm\n',10*log10(Po*1000))\n",
"\n",
""
   ]
   }
],
"metadata": {
		  "kernelspec": {
		   "display_name": "Scilab",
		   "language": "scilab",
		   "name": "scilab"
		  },
		  "language_info": {
		   "file_extension": ".sce",
		   "help_links": [
			{
			 "text": "MetaKernel Magics",
			 "url": "https://github.com/calysto/metakernel/blob/master/metakernel/magics/README.md"
			}
		   ],
		   "mimetype": "text/x-octave",
		   "name": "scilab",
		   "version": "0.7.1"
		  }
		 },
		 "nbformat": 4,
		 "nbformat_minor": 0
}
