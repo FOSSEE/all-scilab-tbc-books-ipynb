{
"cells": [
 {
		   "cell_type": "markdown",
	   "metadata": {},
	   "source": [
       "# Chapter 11: transistor amplifier design"
	   ]
	},
{
		   "cell_type": "markdown",
		   "metadata": {},
		   "source": [
			"## Example 11.1: 1.sce"
		   ]
		  },
  {
"cell_type": "code",
	   "execution_count": null,
	   "metadata": {
	    "collapsed": true
	   },
	   "outputs": [],
"source": [
"\n",
"function x=mod(n)\n",
"    r=real(n)\n",
"    i=imag(n)\n",
"    x=sqrt(r^2+i^2)\n",
"endfunction\n",
"S11=0.894*exp(-%i*60.6*%pi/180)\n",
"S12=0.02*exp(%i*62.4*%pi/180)\n",
"S21=3.122*exp(%i*123.6*%pi/180)\n",
"S22=0.781*exp(-%i*27.6*%pi/180)\n",
"del=mod(S11*S22-S12*S21)\n",
"k=(1+mod(del)^2-mod(S11)^2-mod(S22)^2)/2/mod(S12*S21)\n",
"disp(del,'|del|=mod(S11*S22-S12*S21)=')\n",
"disp(k,'k=(1+mod(del)^2-mod(S11)^2-mod(S22)^2)/2*mod(S12*S21)=')\n",
""
   ]
   }
,
{
		   "cell_type": "markdown",
		   "metadata": {},
		   "source": [
			"## Example 11.2: 2.sce"
		   ]
		  },
  {
"cell_type": "code",
	   "execution_count": null,
	   "metadata": {
	    "collapsed": true
	   },
	   "outputs": [],
"source": [
"\n",
"Zo=50\n",
"S11=0.6*exp(-%i*155*%pi/180)\n",
"S22=0.48*exp(-%i*20*%pi/180)\n",
"S12=0\n",
"S21=6*exp(%i*180*%pi/180)\n",
"Ss11=0.606*exp(%i*155*%pi/180)\n",
"Ss22=0.48*exp(%i*20*%pi/180)\n",
"function x=mod(n)\n",
"    r=real(n)\n",
"    i=imag(n)\n",
"    x=sqrt(r^2+i^2)\n",
"endfunction\n",
"//k=(1-mod(S11)^2-mod(S22)^2+mod(del)^2)/(2*mod(S12*S21))\n",
"del=mod(S11*S22-S12*S21)\n",
"disp(mod(del),'mod(del)=')\n",
"GTUmax=(1-mod(Ss11)^2)*mod(S21)^2/mod((1-mod(S11)^2))^2*(1-mod(Ss22)^2)/mod((1-mod(S22)^2))^2\n",
"disp(GTUmax,'GTUmax=')\n",
"disp(10*log10(GTUmax),'GTUmax in dB=')"
   ]
   }
,
{
		   "cell_type": "markdown",
		   "metadata": {},
		   "source": [
			"## Example 11.3: 3.sce"
		   ]
		  },
  {
"cell_type": "code",
	   "execution_count": null,
	   "metadata": {
	    "collapsed": true
	   },
	   "outputs": [],
"source": [
"\n",
"S11=0.614*exp(-%i*167.4*%pi/180)\n",
"S21=2.187*exp(%i*32.4*%pi/180)\n",
"S12=0.046*exp(%i*65*%pi/180)\n",
"S22=0.716*exp(-%i*83*%pi/180)\n",
"del=(S11*S22-S12*S21)\n",
"B1=1+mod(S11)^2-mod(S22)^2-mod(del)^2\n",
"B2=1+mod(S22)^2-mod(S11)^2-mod(del)^2\n",
"C1=S11-Ss22*del\n",
"C2=S22-Ss11*del\n",
"function x=mod(n)\n",
"    r=real(n)\n",
"    i=imag(n)\n",
"    x=sqrt(r^2+i^2)\n",
"endfunction\n",
"\n",
"disp(mod(del),'del=')\n",
"k=(1-mod(S11)^2-mod(S22)^2+mod(del)^2)/(2*mod(S12*S21))\n",
"disp(k,'k=')\n",
"FMS=(B1-sqrt(B1^2-4*mod(C1)^2))/(2*C1)\n",
"disp(FMS,'FMS=')\n",
"FML= (B2-sqrt(B2^2-4*mod(C2)^2))/(2*C2)\n",
"disp(FML,'FML=')\n",
"GTmax=mod(S21)/mod(S12)*(k-sqrt(k^2-1))\n",
"printf('\nGTmax=%.3f',GTmax)\n",
"printf('\nGTmax in dB=%.2f dB',10*log10(GTmax))\n",
"\n",
"\n",
"\n",
""
   ]
   }
,
{
		   "cell_type": "markdown",
		   "metadata": {},
		   "source": [
			"## Example 11.4: 4.sce"
		   ]
		  },
  {
"cell_type": "code",
	   "execution_count": null,
	   "metadata": {
	    "collapsed": true
	   },
	   "outputs": [],
"source": [
"\n",
"//for transistor A\n",
"function x=mod(n)\n",
"    r=real(n)\n",
"    i=imag(n)\n",
"    x=sqrt(r^2+i^2)\n",
"endfunction\n",
"\n",
"S11=0.45*exp(%i*%pi/180*150)\n",
"S12=0.01*exp(-%i*%pi/180*10)\n",
"S21=2.05*exp(%i*%pi/180*10)\n",
"S22=0.4*exp(-%i*%pi/180*150)\n",
"UA=(mod(S12)*mod(S21)*mod(S11)*mod(S22))/(1-mod(S11)^2)/(1-mod(S22)^2)\n",
"disp(UA,'UA=')\n",
"//for transistor B\n",
"S11=0.641*exp(-%i*%pi/180*171.3)\n",
"S12=0.057*exp(%i*%pi/180*16.3)\n",
"S21=2.058*exp(%i*%pi/180*28.5)\n",
"S22=0.572*exp(-%i*%pi/180*95.7)\n",
"UB=(mod(S12)*mod(S21)*mod(S11)*mod(S22))/(1-mod(S11)^2)/(1-mod(S22)^2)\n",
"disp(UB,'UB=')\n",
"\n",
"\n",
"\n",
"\n",
"\n",
"\n",
"\n",
""
   ]
   }
,
{
		   "cell_type": "markdown",
		   "metadata": {},
		   "source": [
			"## Example 11.5: 5.sce"
		   ]
		  },
  {
"cell_type": "code",
	   "execution_count": null,
	   "metadata": {
	    "collapsed": true
	   },
	   "outputs": [],
"source": [
"\n",
"S11=0.75*exp(-%i*120*%pi/180)\n",
"S22=0.6*exp(-%i*70*%pi/180)\n",
"S21=2.5*exp(%i*80*%pi/180)\n",
"function x=mod(n)\n",
"    r=real(n)\n",
"    i=imag(n)\n",
"    x=sqrt(r^2+i^2)\n",
"endfunction\n",
"GSmax=1/(1-mod(S11)^2)\n",
"GLmax=1/(1-mod(S22)^2)\n",
"Go=mod(S21)^2\n",
"disp(GSmax,'GSmax=')\n",
"disp(10*log10(GSmax),'GSmax in dB=')\n",
"disp(GLmax,'GLmax=')\n",
"disp(10*log10(GLmax),'GLmax in dB=')\n",
"disp(Go,'Go=')\n",
"disp(10*log10(Go),'Go in dB=')\n",
"GTUmax=10*log10(GSmax*GLmax*Go)\n",
"disp(GTUmax,'GTUmax=')"
   ]
   }
,
{
		   "cell_type": "markdown",
		   "metadata": {},
		   "source": [
			"## Example 11.6: 6.sce"
		   ]
		  },
  {
"cell_type": "code",
	   "execution_count": null,
	   "metadata": {
	    "collapsed": true
	   },
	   "outputs": [],
"source": [
"\n",
"Gs=10^0.5\n",
"S11=2.27*exp(-%i*%pi/180*120)\n",
"S21=4*exp(%i*%pi/180*50)\n",
"S12=0\n",
"S22=0.6*exp(-%i*%pi/180*80)\n",
"Ss11=2.27*exp(%i*%pi/180*120)\n",
"function x=mod(n)\n",
"    r=real(n)\n",
"    i=imag(n)\n",
"    x=sqrt(r^2+i^2)\n",
"endfunction\n",
"//(b)\n",
"gs=Gs*(1-mod(S11)^2)\n",
"Rs=(1-mod(S11)^2)*sqrt(1-gs)/(1-(1-gs)*mod(S11)^2)\n",
"ds=gs*(Ss11)/(1-(1-gs)*mod(S11)^2)\n",
"printf('\nGs=%.4f\ngs=%.4f\nRs=%.4f',Gs,gs,Rs)\n",
"disp(ds,'ds=')\n",
"Gs=10^.3\n",
"gs=Gs*(1-mod(S11)^2)\n",
"Rs=(1-mod(S11)^2)*sqrt(1-gs)/(1-(1-gs)*mod(S11)^2)\n",
"ds=gs*(Ss11)/(1-(1-gs)*mod(S11)^2)\n",
"printf('\nGs=%.4f\ngs=%.4f\nRs=%.4f',Gs,gs,Rs)\n",
"disp(ds,'ds=')\n",
"GLmax=1/(1-mod(S22)^2)\n",
"disp(GLmax,'GLmax=')\n",
"Go=mod(S21)^2\n",
"disp(Go,'Go=')\n",
"GTU=3+10*log10(GLmax*Go)\n",
"printf('\nGTU=%.4f dB',GTU)\n",
"\n",
"\n",
"\n",
""
   ]
   }
],
"metadata": {
		  "kernelspec": {
		   "display_name": "Scilab",
		   "language": "scilab",
		   "name": "scilab"
		  },
		  "language_info": {
		   "file_extension": ".sce",
		   "help_links": [
			{
			 "text": "MetaKernel Magics",
			 "url": "https://github.com/calysto/metakernel/blob/master/metakernel/magics/README.md"
			}
		   ],
		   "mimetype": "text/x-octave",
		   "name": "scilab",
		   "version": "0.7.1"
		  }
		 },
		 "nbformat": 4,
		 "nbformat_minor": 0
}
