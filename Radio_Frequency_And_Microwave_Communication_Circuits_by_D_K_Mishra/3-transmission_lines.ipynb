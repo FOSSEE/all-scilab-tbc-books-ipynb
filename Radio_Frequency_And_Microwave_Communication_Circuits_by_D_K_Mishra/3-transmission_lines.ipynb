{
"cells": [
 {
		   "cell_type": "markdown",
	   "metadata": {},
	   "source": [
       "# Chapter 3: transmission lines"
	   ]
	},
{
		   "cell_type": "markdown",
		   "metadata": {},
		   "source": [
			"## Example 3.10: 10.sce"
		   ]
		  },
  {
"cell_type": "code",
	   "execution_count": null,
	   "metadata": {
	    "collapsed": true
	   },
	   "outputs": [],
"source": [
"//data\n",
"Zoc=-54.6*%i         //ohm\n",
"Zsc=103*%i            //ohm\n",
"d=1.5               //m\n",
"Zo=sqrt(Zoc*Zsc)\n",
"printf('\nZo=%.0f ohm',Zo)\n",
"//y=1/d*atanh(sqrt(Zsc/Zoc))\n",
"y=1/2/d*log(complex(1,1.8969)/complex(1,-1.8969))\n",
"printf('\ny=')\n",
"disp(y)\n",
"printf('1/m\nnegligible real part')                             //real part negligible"
   ]
   }
,
{
		   "cell_type": "markdown",
		   "metadata": {},
		   "source": [
			"## Example 3.11: 11.sce"
		   ]
		  },
  {
"cell_type": "code",
	   "execution_count": null,
	   "metadata": {
	    "collapsed": true
	   },
	   "outputs": [],
"source": [
"//data\n",
"W=2*%pi*26*10^6     //rad/s\n",
"Vp=200*10^6      //m/S\n",
"B=W/Vp\n",
"Zo=50   //ohm\n",
"Zs=50     //ohm\n",
"Vs=100   //volt\n",
"ZL=100+%i*50    //ohm\n",
"l=10     //m\n",
"//formulas and result\n",
"printf('\nresult:-')\n",
"printf('\nB=%f rad/m',B)\n",
"Zin=Zo*(ZL+%i*Zo*tan(B*l))/(Zo+%i*ZL*tan(B*l))\n",
"disp(Zin,'Zin=')\n",
"VA=Vs/(Zs+Zin)*Zin\n",
"disp(VA,'VA=')\n",
"ZTh=Zo*complex(Zs,Zo*tan(B*l))/complex(Zo,Zs*tan(B*l))\n",
"disp(ZTh,'ZTh=')\n",
"Vin=50*exp(%i*(-8.168))\n",
"VTh=2*Vin\n",
"disp(VTh,'VTh=')\n",
"VL=VTh/(ZTh+ZL)*ZL\n",
"disp(VL,'VL=')\n",
"F=(complex(19.21,3.52)-50)/(complex(19.21,3.52)+50)\n",
"disp(F,'F=')\n",
"Z=10\n",
"VL=Vin*(exp(-%i*B*Z)+F*exp(%i*B*Z))\n",
"disp(VL,'VL=')"
   ]
   }
,
{
		   "cell_type": "markdown",
		   "metadata": {},
		   "source": [
			"## Example 3.1: 1.sce"
		   ]
		  },
  {
"cell_type": "code",
	   "execution_count": null,
	   "metadata": {
	    "collapsed": true
	   },
	   "outputs": [],
"source": [
"//resistance of line (ohm/m)\n",
"R=0.015\n",
"//operating frequency(Hz)\n",
"n=1.6*10^9\n",
"//angular frequency\n",
"w=2*%pi*n\n",
"//inductance of line(H/m)\n",
"L=0.002*10^(-6)\n",
"//conductance of line(S/m)\n",
"G=0.1*10^(-3)\n",
"//capacitance of line(F/m)\n",
"C=0.012*10^(-12)\n",
"printf('\nR=0.015ohm/m\tn=1.6GHz\tL=0.002uH/m\tG=0.1mS/m\tC=0.012pF/m\n')\n",
"//formulas and result\n",
"printf('\nimpedance Z=R+iwL=')\n",
"\n",
"Y=complex(G,w*C)    //admittance per unit length\n",
"Z=complex(R,w*L)     //impedance per unit length\n",
"disp(Z)\n",
"printf('ohm/m\nadmittance Y=G+iwC=')\n",
"disp(Y)\n",
"printf('S/m\nZo=square root(Z/Y)=')\n",
"disp(sqrt(Z/Y))\n",
"printf('ohm')\n",
"\n",
"\n",
"\n",
"\n",
"\n",
"\n",
""
   ]
   }
,
{
		   "cell_type": "markdown",
		   "metadata": {},
		   "source": [
			"## Example 3.12: 12.sce"
		   ]
		  },
  {
"cell_type": "code",
	   "execution_count": null,
	   "metadata": {
	    "collapsed": true
	   },
	   "outputs": [],
"source": [
"//data\n",
"R=250    //ohm\n",
"V250=60*sqrt(2)/11*exp(-%i*45/180*%pi) //volt\n",
"Pd=(real(V250)^2+imag(V250)^2)/(2*R)\n",
"printf('\nV250=')\n",
"disp(V250)\n",
"printf('\nPd=%f W',Pd)"
   ]
   }
,
{
		   "cell_type": "markdown",
		   "metadata": {},
		   "source": [
			"## Example 3.13: 13.sce"
		   ]
		  },
  {
"cell_type": "code",
	   "execution_count": null,
	   "metadata": {
	    "collapsed": true
	   },
	   "outputs": [],
"source": [
"//data\n",
"ZL=complex(73,-42.5)\n",
"Zo=complex(50,.01)\n",
"//formula and result\n",
"printf('\nresult:-')\n",
"F=(ZL-Zo)/(ZL+Zo)\n",
"p=sqrt(real(F)^2+imag(F)^2)\n",
"VSWR=(1+p)/(1-p)\n",
"disp(F,'F=')\n",
"printf('\nVSWR=%.4f',VSWR)"
   ]
   }
,
{
		   "cell_type": "markdown",
		   "metadata": {},
		   "source": [
			"## Example 3.14: 14.sce"
		   ]
		  },
  {
"cell_type": "code",
	   "execution_count": null,
	   "metadata": {
	    "collapsed": true
	   },
	   "outputs": [],
"source": [
"//data\n",
"q=2   //m\n",
"B=%pi    //rad/m\n",
"d1=.4     //m\n",
"Z2=1      \n",
"S=2.4     \n",
"//formula and result\n",
"printf('\nresult:-')\n",
"Z_L=complex(1,-S*tan(B*d1))/complex(S,-tan(B*d1))\n",
"disp(Z_L,'Z_L=')\n",
"disp(Z_L*100,'ZL=')"
   ]
   }
,
{
		   "cell_type": "markdown",
		   "metadata": {},
		   "source": [
			"## Example 3.15: 15.sce"
		   ]
		  },
  {
"cell_type": "code",
	   "execution_count": null,
	   "metadata": {
	    "collapsed": true
	   },
	   "outputs": [],
"source": [
"//data\n",
"ZL=50+%i*100\n",
"Zo=50\n",
"Bl=%pi/2\n",
"//formula and result\n",
"printf('\nresult:-')\n",
"Z_in=Zo*(%i*Zo)/(%i*ZL)\n",
"F=(ZL-Zo)/(ZL+Zo)\n",
"x=sqrt(real(F)^2+imag(F)^2)\n",
"printf('\nx=%f',x)\n",
"VSWR=(1+x)/(1-x)\n",
"Z_L=ZL/Zo\n",
"printf('\nZ_in=')\n",
"disp(Z_in)\n",
"printf('\nF=')\n",
"disp(F)\n",
"printf('\nVSWR=%.4f',VSWR)\n",
"printf('\nZ_L=')\n",
"disp(Z_L)"
   ]
   }
,
{
		   "cell_type": "markdown",
		   "metadata": {},
		   "source": [
			"## Example 3.2: 2.sce"
		   ]
		  },
  {
"cell_type": "code",
	   "execution_count": null,
	   "metadata": {
	    "collapsed": true
	   },
	   "outputs": [],
"source": [
"//data\n",
"W=2*%pi*10^8   //rad/s\n",
"Vp=2.5*10^8     //m/s\n",
"Vin=75/(50+75)*3*complex(cos(0),sin(0))     //V\n",
"Iin=3/(50+75)*complex(cos(0),sin(0))         //A\n",
"//formula and result\n",
"printf('\nresult:-')\n",
"b=W/Vp\n",
"printf('\nB=%.4frad/m',b)\n",
"printf('\nV=1.8*cos(2*pi*10^8*t-0.8*pi*z)\ni=0.024*cos(2*pi*10^8*t-0.8*pi*z)')\n",
""
   ]
   }
,
{
		   "cell_type": "markdown",
		   "metadata": {},
		   "source": [
			"## Example 3.3: 3.sce"
		   ]
		  },
  {
"cell_type": "code",
	   "execution_count": null,
	   "metadata": {
	    "collapsed": true
	   },
	   "outputs": [],
"source": [
"//data\n",
"R=2            //ohm/m\n",
"G=0.5*10^(-3)  //S/m\n",
"L=8*10^-9            //H/m\n",
"C=0.23*10^-12           //F/m\n",
"W=2*%pi*10^9           //Hz\n",
"Y=15.29*10^-4*exp(%i*1.2377)\n",
"Z=50.31*exp(%i*1.531)   \n",
"//equation and result\n",
"printf('\nresult:-')\n",
"Zo=sqrt(complex(R,W*L)/complex(G,W*C))\n",
"y=sqrt(Z*Y)\n",
"a=real(y)\n",
"B=imag(y)\n",
"disp(Zo,'Zo=sqrt(complex(R,W*L)/complex(G,W*C))=')\n",
"\n",
"disp(y,'y=sqrt(Z*Y)=')\n",
"printf('\na=%.4fNp/m\nB=%.4frad/m',a,B)\n",
""
   ]
   }
,
{
		   "cell_type": "markdown",
		   "metadata": {},
		   "source": [
			"## Example 3.5: 5.sce"
		   ]
		  },
  {
"cell_type": "code",
	   "execution_count": null,
	   "metadata": {
	    "collapsed": true
	   },
	   "outputs": [],
"source": [
"//data\n",
"lambda=1\n",
"Zin=150\n",
"ZL=300\n",
"//formula and result\n",
"Zo=sqrt(Zin*ZL)\n",
"printf('\nresult:-')\n",
"printf('\n(a)d=lambda/4=%.2f m',lambda/4)\n",
"printf('\n(b)Zo=sqrt(Zin*ZL)=%.3f ohm',sqrt(Zin*ZL))\n",
"printf('\n(c)FL=(ZL-Zo)/(ZL+Zo)=%.4f',(ZL-Zo)/(ZL+Zo))\n",
""
   ]
   }
,
{
		   "cell_type": "markdown",
		   "metadata": {},
		   "source": [
			"## Example 3.6: 6.sce"
		   ]
		  },
  {
"cell_type": "code",
	   "execution_count": null,
	   "metadata": {
	    "collapsed": true
	   },
	   "outputs": [],
"source": [
"//data\n",
"Zin=45    //ohm\n",
"ZL=20       //ohm\n",
"b=0.5/2      //cm\n",
"Er=2.1\n",
"L=200*10^-9     //H\n",
"f=3*10^9       //Hz\n",
"C=55.63*Er*10^-12    //F\n",
"//formulas and result\n",
"printf('\nresult:-')\n",
"Zo=sqrt(Zin*ZL)\n",
"printf('\nZo=%.0f ohm',Zo)\n",
"k=30/sqrt(200*10^-9/(55.63*Er*10^-12))\n",
"a=b/exp(k)\n",
"printf('\na=%f cm',a)\n",
"lambda=1/(f*sqrt(L*C))\n",
"printf('\nlambda=%f m',lambda)\n",
"d=lambda/4\n",
"printf('\nd=%f m =%f cm',d,d*100)"
   ]
   }
,
{
		   "cell_type": "markdown",
		   "metadata": {},
		   "source": [
			"## Example 3.7: 7.sce"
		   ]
		  },
  {
"cell_type": "code",
	   "execution_count": null,
	   "metadata": {
	    "collapsed": true
	   },
	   "outputs": [],
"source": [
"//data\n",
"Zo1=80\n",
"ZL=50\n",
"h=1.6     //mm\n",
"Er=2.3\n",
"Zo=sqrt(Zo1*ZL)\n",
"A=1.4635\n",
"B=6.1739\n",
"qo=150\n",
"// formulas and result\n",
"printf('\nresult:-')\n",
"W=h*(2/%pi*(6.1739-1-log(2*6.1739-1)+(2.3-1)/(2*2.3)*(log(6.1739-1)+0.39-0.61/2.3)))\n",
"printf('\nW=%.4f mm',W)\n",
"F=(1+12*h/W)^(-1/2)\n",
"printf('\nF=%.6f',F)\n",
"Ee=(2.3+1)/2+(2.3-1)/2*0.383216-(2.3-1)/4.6*0.005/sqrt(2.0656)\n",
"printf('\nEe=%.1f',Ee)\n",
"F=4*h*sqrt(Er-1)/qo*(0.5+(1+2*log10(1+W/h))^2)\n",
"printf('\nF=%f',F)\n",
"Ee=((sqrt(2.3)-sqrt(1.9))/(1+4*F^(-1.5))+sqrt(1.9))^2\n",
"printf('\nEe(f)=%f',Ee)\n",
"q=3*10^8/(2*10^9*sqrt(1.9))\n",
"printf('\nq=%f m',q)\n",
"length_of_line=q/4\n",
"printf('\nlength of line=%.3f m',length_of_line)\n",
"\n",
""
   ]
   }
,
{
		   "cell_type": "markdown",
		   "metadata": {},
		   "source": [
			"## Example 3.8: 8.sce"
		   ]
		  },
  {
"cell_type": "code",
	   "execution_count": null,
	   "metadata": {
	    "collapsed": true
	   },
	   "outputs": [],
"source": [
"Zo=50\n",
"C=100*10^(-12)\n",
"a=1.15*10^(-3)\n",
"//data print\n",
"printf('\nZo=50 ohm C=100pF/m a=0.01 dB/m\n')\n",
"//formula and result\n",
"L=C*Zo^2\n",
"R=a*sqrt(L/C)\n",
"G=R*C/L\n",
"vp=1/sqrt(L*C)\n",
"printf('\nresult:-')\n",
"printf('\n(a)R=a*sqrt(L/C)=%.3f ohm/m',a*sqrt(L/C))\n",
"printf('\n(b)L=C*Zo^2=%.3e H/m',C*Zo^2)\n",
"printf('\n(c)G=R*C/L=%.3e S/m',R*C/L)\n",
"printf('\n(d)vp=1/sqrt(L*C)=%.1e m/s',1/sqrt(L*C))\n",
""
   ]
   }
,
{
		   "cell_type": "markdown",
		   "metadata": {},
		   "source": [
			"## Example 3.9: 9.sce"
		   ]
		  },
  {
"cell_type": "code",
	   "execution_count": null,
	   "metadata": {
	    "collapsed": true
	   },
	   "outputs": [],
"source": [
"//data\n",
"Zin=complex(30,60)        //ohm\n",
"Zsc=%i*53.1        //ohm\n",
"Zoc=-48.3*%i            //ohm\n",
"//formula and result\\n",
"printf('\nresult:-')\n",
"Zo=sqrt(Zsc*Zoc)\n",
"printf('\nZo=%f ohm',Zo)\n",
"ZL=Zoc*(Zsc-Zin)/(Zin-Zoc)\n",
"disp(ZL,'ZL=')"
   ]
   }
],
"metadata": {
		  "kernelspec": {
		   "display_name": "Scilab",
		   "language": "scilab",
		   "name": "scilab"
		  },
		  "language_info": {
		   "file_extension": ".sce",
		   "help_links": [
			{
			 "text": "MetaKernel Magics",
			 "url": "https://github.com/calysto/metakernel/blob/master/metakernel/magics/README.md"
			}
		   ],
		   "mimetype": "text/x-octave",
		   "name": "scilab",
		   "version": "0.7.1"
		  }
		 },
		 "nbformat": 4,
		 "nbformat_minor": 0
}
