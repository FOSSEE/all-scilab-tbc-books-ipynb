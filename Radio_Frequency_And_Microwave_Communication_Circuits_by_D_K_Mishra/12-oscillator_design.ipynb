{
"cells": [
 {
		   "cell_type": "markdown",
	   "metadata": {},
	   "source": [
       "# Chapter 12: oscillator design"
	   ]
	},
{
		   "cell_type": "markdown",
		   "metadata": {},
		   "source": [
			"## Example 12.11: 11.sce"
		   ]
		  },
  {
"cell_type": "code",
	   "execution_count": null,
	   "metadata": {
	    "collapsed": true
	   },
	   "outputs": [],
"source": [
"\n",
"FG=1.25*exp(%i*40*%pi/180)\n",
"Z_G=(1+FG)/(1-FG)\n",
"disp(Z_G)"
   ]
   }
,
{
		   "cell_type": "markdown",
		   "metadata": {},
		   "source": [
			"## Example 12.1: 1.sce"
		   ]
		  },
  {
"cell_type": "code",
	   "execution_count": null,
	   "metadata": {
	    "collapsed": true
	   },
	   "outputs": [],
"source": [
"\n",
"R1=10000\n",
"R2=1\n",
"C=.002*10^-6\n",
"L=10^-6\n",
"//B=complex(0,W*L)/complex(R1-W^2*R2*C*L,W*(L+R1*R2*C))\n",
"W=sqrt(R1/(R2*L*C))\n",
"printf('\nW=sqrt(R1/(R2*L*C))=%.2e rad/s',W)\n",
"f=W/(2*%pi)\n",
"printf('\nf=W/(2*pi)=%.3eHz',f)\n",
"A=1+R1*R2*C/L\n",
"printf('\nA=1+R1*R2*C/L=%.3f',A)"
   ]
   }
,
{
		   "cell_type": "markdown",
		   "metadata": {},
		   "source": [
			"## Example 12.12: 12.sce"
		   ]
		  },
  {
"cell_type": "code",
	   "execution_count": null,
	   "metadata": {
	    "collapsed": true
	   },
	   "outputs": [],
"source": [
"\n",
"Z=50\n",
"S11=2.18*exp(%i*%pi/180*(-35))\n",
"S21=2.75*exp(%i*%pi/180*(96))\n",
"S12=1.26*exp(%i*%pi/180*(18))\n",
"S22=0.52*exp(%i*%pi/180*(155))\n",
"FL=0.59*exp(%i*%pi/180*(-104))\n",
"function [x]=mod(n)\n",
"    r=real(n)\n",
"    i=imag(n)\n",
"    x=sqrt(r^2+i^2)\n",
"endfunction\n",
"del=S11*S22-S12*S21\n",
"k=(1-mod(S11)^2-mod(S22)^2+mod(del)^2)/(2*mod(S12*S21))\n",
"disp(del,'del=')\n",
"printf('\nk=%.2f',k)\n",
"Cs=conj(S11-del*conj(S22))/(mod(S11)^2-mod(del)^2)\n",
"disp(Cs,'Cs')\n",
"rs=mod((S12*S21)/(mod(S11)^2-mod(del)^2))\n",
"printf('\nrs=%.3f',rs)\n",
"CL=conj(S22-del*conj(S11))/(mod(S22)^2-mod(del)^2)\n",
"disp(CL,'CL=')\n",
"rL=mod(S12*S21/(mod(S22)^2-mod(del)^2))\n",
"printf('\nrL=%.2f',rL)\n",
"Fin=S11+(S12*S21*FL)/(1-S22*FL)\n",
"disp(Fin,'Fin=')\n",
"Zin=50*(1+Fin)/(1-Fin)\n",
"disp(Zin,'Zin=')\n",
"ZG=27.9+%i*1.91\n",
"disp(ZG,'ZG=')\n",
"FG=(ZG-50)/(ZG+1)\n",
"disp(FG,'FG=')        //calculation mistake in calculating FG in book\n",
"VSWR=(1+mod(FG))/(1-mod(FG))\n",
"printf('\nVSWR=%.3f',VSWR)\n",
""
   ]
   }
,
{
		   "cell_type": "markdown",
		   "metadata": {},
		   "source": [
			"## Example 12.13: 13.sce"
		   ]
		  },
  {
"cell_type": "code",
	   "execution_count": null,
	   "metadata": {
	    "collapsed": true
	   },
	   "outputs": [],
"source": [
"\n",
"S11=0.9*exp(%i*%pi/180*150)\n",
"S21=1.7*exp(-%i*%pi/180*80)\n",
"S12=0.07*exp(%i*%pi/180*120)\n",
"S22=1.08*exp(-%i*%pi/180*56)\n",
"function x=mod(n)\n",
"    r=real(n)\n",
"    i=imag(n)\n",
"    x=sqrt(r^2+i^2)\n",
"endfunction\n",
"del1=(1-S11)*(1-S22)-S12*S21\n",
"disp(del1,'del1=')\n",
"Z_11=((1+S11)*(1-S22)+S21*S12)/del1\n",
"disp(Z_11,'Z_11=')\n",
"Z_12=2*S12/del1\n",
"disp(Z_12,'Z_12=')\n",
"Z_21=2*S21/del1\n",
"disp(Z_21,'Z_21=')\n",
"Z_22=((1-S11)*(1+S22)+S21*S12)/del1\n",
"disp(Z_22,'Z_22=')\n",
"Zinductor=%i*2*%pi*2.75*10^9*1.45*10^-9\n",
"\n",
"Z_inductor=Zinductor/50\n",
"\n",
"disp([Z_inductor],'[Z_inductor]')\n",
"\n",
"A=[Z_11,Z_12;Z_21,Z_22]+[Z_inductor,Z_inductor;Z_inductor,Z_inductor]\n",
"disp(A,'[Z_s11,Z_s12;Z_s21,Z_s22]=')\n",
"\n",
"\n",
"del=(Z_11+1)*(Z_22+1)-A(1,2)*A(2,1)\n",
"      disp(del,'del=')\n",
"       \n",
" Ss12=2*A(1,2)/del\n",
"      disp(Ss12,'Ss12=')\n",
"Ss21=2*A(2,1)/del\n",
"      disp(Ss21,'Ss21=')\n",
"Ss11=((A(1,1)-1)*(A(2,2)+1)-A(1,2)*A(2,1))/del\n",
"       disp(Ss11,'Ss11=')\n",
"Ss22=((A(1,1)+1)*(A(2,2)-1)-A(1,2)*A(2,1))/del\n",
"        disp(Ss22,'Ss22=')\n",
"del=S11*S22-S21*S12\n",
"        disp(mod(del),'del=')\n",
"\n",
"\n",
"k=(1-mod(S11)^2-mod(S22)^2+mod(del)^2)/(2*mod(S12*S21))\n",
"disp(k,'k=')\n",
"Cs=conj(S11-del*conj(S22))/(mod(S11)^2-mod(del)^2)\n",
"disp(Cs,'Cs=')\n",
"rs=mod((S12*S21)/(mod(S11)^2-mod(del)^2))\n",
"disp(rs,'rs=')\n",
"CL=conj(S22-del*conj(S11))/(mod(S22)^2-mod(del)^2)           // I THINK \n",
"disp(CL,'CL=')                                              // THERE IS A    \n",
"rL=mod(S12*S21/(mod(S22)^2-mod(del)^2))                     // PROBLEM IN BOOK\n",
"disp(rL,'rL=')                                              //IF THERE IS ERROR\n",
"FL=0.5689*exp(%i*%pi/180*167.8)                           //IN CODE LET ME KNOW\n",
"disp(FL,'FL=')\n",
"Fin=S11+S12*S21*FL/(1-S22*FL)\n",
"disp(Fin,'Fin=')\n",
"Zin=50*(1+Fin)/(1-Fin)\n",
"disp(Zin,'Zin=')\n",
"ZG=-real(Zin)/3-%i*imag(Zin)\n",
"disp(ZG,'ZG=')\n",
""
   ]
   }
,
{
		   "cell_type": "markdown",
		   "metadata": {},
		   "source": [
			"## Example 12.2: 2.sce"
		   ]
		  },
  {
"cell_type": "code",
	   "execution_count": null,
	   "metadata": {
	    "collapsed": true
	   },
	   "outputs": [],
"source": [
"\n",
"//unit in SI\n",
"L1=10^-9\n",
"L2=10^-9\n",
"Go=4.5*10^-3\n",
"RL=50\n",
"W=2*%pi*150*10^6\n",
"n=sqrt(1/(Go*RL))\n",
"disp(n,'n=')\n",
"L3=L2/n^2\n",
"printf('\nconsidering L1=L2=1nH')\n",
"printf('\nL3=L2/n^2=%.4e H',L3)\n",
"C=1/((L1+L2)*W^2)\n",
"printf('\nC=1/((L1+L2)*W^2)=%.5e F',C)"
   ]
   }
,
{
		   "cell_type": "markdown",
		   "metadata": {},
		   "source": [
			"## Example 12.4: 4.sce"
		   ]
		  },
  {
"cell_type": "code",
	   "execution_count": null,
	   "metadata": {
	    "collapsed": true
	   },
	   "outputs": [],
"source": [
"\n",
"Cvar=3.5*10^-12\n",
"C1=150*10^-12\n",
"C2=72*10^-12\n",
"L=32*10^-9\n",
"C=Cvar+C1*C2/(C1+C2)\n",
"f=1/(2*%pi*sqrt(L*C))\n",
"printf('\nC=%.3e F\nf=%.3e Hz\n',C,f)\n",
"Cvar=32*10^-12\n",
"C=Cvar+C1*C2/(C1+C2)\n",
"f=1/(2*%pi*sqrt(L*C))\n",
"printf('\nC=%.3e F\nf=%.3e Hz\n',C,f)\n",
"Cvar=3.5*10^-12\n",
"C=Cvar+C1*C2/(C1+C2)\n",
"f=1/(2*%pi*sqrt(L*C))\n",
"printf('\nC=%.3e F\nf=%.3e Hz',C,f)"
   ]
   }
,
{
		   "cell_type": "markdown",
		   "metadata": {},
		   "source": [
			"## Example 12.5: 5.sce"
		   ]
		  },
  {
"cell_type": "code",
	   "execution_count": null,
	   "metadata": {
	    "collapsed": true
	   },
	   "outputs": [],
"source": [
"\n",
"Ve=2\n",
"Be=%pi/2\n",
"Kd=Ve/sin(Be)\n",
"printf('\nKd=%.0f',Kd)\n",
"//Ko=dW/Vd\n",
"Ko=2*%pi*100*1000\n",
"dWH=Kd*Ko\n",
"printf('\ndWH=Kd*Ko=%.4e rad/s',dWH)\n",
"dfH=dWH/(2*%pi)\n",
"printf('\ndfH=dWH/(2*pi)=%.4e Hz',dfH)"
   ]
   }
,
{
		   "cell_type": "markdown",
		   "metadata": {},
		   "source": [
			"## Example 12.6: 6.sce"
		   ]
		  },
  {
"cell_type": "code",
	   "execution_count": null,
	   "metadata": {
	    "collapsed": true
	   },
	   "outputs": [],
"source": [
"\n",
"Ve=2\n",
"Bemax=%pi/2\n",
"Kd=Ve/Bemax\n",
"printf('\nKd=%.4f',Kd)\n",
"Ko=2*%pi*10^5\n",
"dWH=Kd*Ko*Bemax\n",
"printf('\ndWH=Kd*Ko*Bemax=%.4e rad/s',dWH)\n",
"printf('\ndfH=dWH/(2*pi)=%.2e Hz',dWH/(2*%pi))"
   ]
   }
,
{
		   "cell_type": "markdown",
		   "metadata": {},
		   "source": [
			"## Example 12.7: 7.sce"
		   ]
		  },
  {
"cell_type": "code",
	   "execution_count": null,
	   "metadata": {
	    "collapsed": true
	   },
	   "outputs": [],
"source": [
"\n",
"Vin=2  //Volt\n",
"Vosc=2    //Volt\n",
"VPD=2  //volt\n",
"Ein=0.75\n",
"Eosc=0.75\n",
"Vd=1\n",
"dW=2*%pi*10^7\n",
"Km=VPD/(Vin*Vosc)\n",
"printf('\nKm=%.1f V^-1',Km)\n",
"Kd=0.5*Km*Ein*Eosc\n",
"Ko=dW/Vd\n",
"//(a)\n",
"qd=2*%pi*(11-10)*10^6/(Ko*Kd)\n",
"printf('\n(a)qd=%.4f rad = %.4f degree\n',qd,qd*180/%pi)\n",
"//(b)\n",
"qd=2*%pi*(9-10)*10^6/(Ko*Kd)\n",
"printf('\n(b)qd=%.4f rad = %.4f degree',qd,qd*180/%pi)"
   ]
   }
,
{
		   "cell_type": "markdown",
		   "metadata": {},
		   "source": [
			"## Example 12.8: 8.sce"
		   ]
		  },
  {
"cell_type": "code",
	   "execution_count": null,
	   "metadata": {
	    "collapsed": true
	   },
	   "outputs": [],
"source": [
"\n",
"Wo=2*%pi*2*10^6\n",
"Wf=2*%pi*2.5*10^6\n",
"Ko=10^7\n",
"Ka=10\n",
"Kd=0.5\n",
"N=20\n",
"E=0.8\n",
"Wn=10^4\n",
"C2=0.5*10^-6\n",
"Vd=(Wo-Wf)/Ko\n",
"Ve=Vd/Ka\n",
"Qe=Ve/Kd\n",
"K=Kd*Ka*Ko/N\n",
"dW=sqrt(2*(2*E*Wn*K-Wn^2))\n",
"df=dW/(2*%pi)\n",
"T1=K/Wn^2\n",
"T2=2*E/Wn-1/K\n",
"R2=T2/C2\n",
"R1=T1/C2-R2\n",
"printf('\nVd=%.4f V\nVe=%.4f V\nQe=%.4f rad\nK=%.2e\ndW=%.4e rad/s\ndf=%.4e Hz\nT1=%.4f s\nT2=%.4e s\nR2=%.2f ohm\nR1=%.3f ohm',Vd,Ve,Qe,K,dW,df,T1,T2,R2,R1)\n",
"\n",
"\n",
""
   ]
   }
],
"metadata": {
		  "kernelspec": {
		   "display_name": "Scilab",
		   "language": "scilab",
		   "name": "scilab"
		  },
		  "language_info": {
		   "file_extension": ".sce",
		   "help_links": [
			{
			 "text": "MetaKernel Magics",
			 "url": "https://github.com/calysto/metakernel/blob/master/metakernel/magics/README.md"
			}
		   ],
		   "mimetype": "text/x-octave",
		   "name": "scilab",
		   "version": "0.7.1"
		  }
		 },
		 "nbformat": 4,
		 "nbformat_minor": 0
}
