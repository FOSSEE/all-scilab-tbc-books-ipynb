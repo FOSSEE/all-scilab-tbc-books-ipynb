{
"cells": [
 {
		   "cell_type": "markdown",
	   "metadata": {},
	   "source": [
       "# Chapter 9: filter design"
	   ]
	},
{
		   "cell_type": "markdown",
		   "metadata": {},
		   "source": [
			"## Example 9.10: 10.sce"
		   ]
		  },
  {
"cell_type": "code",
	   "execution_count": null,
	   "metadata": {
	    "collapsed": true
	   },
	   "outputs": [],
"source": [
"\n",
"fl=10*10^6\n",
"fu=40*10^6\n",
"Wu=2*%pi*40*10^6\n",
"Wl=2*%pi*10*10^6\n",
"gc=0.9662\n",
"gL=0.62425\n",
"Wo=2*%pi*20*10^6\n",
"fo=sqrt(fl*fu)\n",
"printf('\nfo=%.2e Hz',fo)\n",
"\n",
"CBP1=(Wu-Wl)/(Wo^2*gL)\n",
"LBP1=gL/(Wu-Wl)\n",
"printf('\nCBP1=%.3e F\nLBP1=%.4e H',CBP1,LBP1)\n",
"\n",
"CBP2=(Wu-Wl)/(Wo^2*gc)\n",
"LBP2=gc/(Wu-Wl)\n",
"printf('\nCBP2=%.3e F\nLBP2=%.4e H',CBP2,LBP2)\n",
"\n",
"\n",
"printf('\nC1=C3=%.2f pF',19.122*1000/75)\n",
"\n",
"printf('\nL1=L3=%.4f nH',75*3.3116)\n",
"\n",
"printf('\nL2=%.4f uH',75*12.354/1000)\n",
"\n",
"printf('\nC2=%.3f pF',5.1258/75*1000)"
   ]
   }
,
{
		   "cell_type": "markdown",
		   "metadata": {},
		   "source": [
			"## Example 9.11: 11.sce"
		   ]
		  },
  {
"cell_type": "code",
	   "execution_count": null,
	   "metadata": {
	    "collapsed": true
	   },
	   "outputs": [],
"source": [
"\n",
"fl=10*10^6\n",
"fu=40*10^6\n",
"Wu=2*%pi*40*10^6\n",
"Wl=2*%pi*10*10^6\n",
"gc=2\n",
"gL=1\n",
"Wo=2*%pi*20*10^6\n",
"fo=sqrt(fl*fu)\n",
"printf('\nfo=%.2e Hz',fo)\n",
"\n",
"CBP1=(Wu-Wl)/(Wo^2*gL)\n",
"LBP1=gL/(Wu-Wl)\n",
"printf('\nCBS1=%.3e F\nLBS1=%.4e H',CBP1,LBP1)\n",
"LBP2=1/gc/(Wu-Wl)\n",
"CBP2=(Wu-Wl)*gc/(Wo^2)\n",
"\n",
"printf('\nCBP2=%.3e F\nLBP2=%.4e H',LBP2,CBP2)\n",
"\n",
"\n",
"printf('\nC1=C3=%.2f pF',5.305/75*1000)\n",
"\n",
"printf('\nL1=L3=%.4f nH',75*11.94)\n",
"\n",
"printf('\nL2=%.4f uH',75*2.653/1000)\n",
"\n",
"printf('\nC2=%.3f pF',23.87/75*1000)"
   ]
   }
,
{
		   "cell_type": "markdown",
		   "metadata": {},
		   "source": [
			"## Example 9.12: 12.sce"
		   ]
		  },
  {
"cell_type": "code",
	   "execution_count": null,
	   "metadata": {
	    "collapsed": true
	   },
	   "outputs": [],
"source": [
"\n",
"\n",
"printf('\ngo=g4=1')\n",
"n=3\n",
"for p=1:1:3\n",
"    gp=2*sin((2*p-1)*%pi/2/n)\n",
"        printf('\ngp=%.2f',gp)\n",
"end\n",
"\n",
"printf('\nQ1=Q3=%.4f rad=%.1f degree',50/150,50/150*180/%pi)\n",
"printf('\nQ2=%.2f rad=%.2f degree',30*2/50,30*2/50*180/%pi)"
   ]
   }
,
{
		   "cell_type": "markdown",
		   "metadata": {},
		   "source": [
			"## Example 9.13: 13.sce"
		   ]
		  },
  {
"cell_type": "code",
	   "execution_count": null,
	   "metadata": {
	    "collapsed": true
	   },
	   "outputs": [],
"source": [
"\n",
"n=3\n",
"printf('\ngo=g4=1')\n",
"for p=1:1:3\n",
"    gp=2*sin((2*p-1)*%pi/2/n)\n",
"        printf('\ngp=%.2f',gp)\n",
"end"
   ]
   }
,
{
		   "cell_type": "markdown",
		   "metadata": {},
		   "source": [
			"## Example 9.2: 2.sce"
		   ]
		  },
  {
"cell_type": "code",
	   "execution_count": null,
	   "metadata": {
	    "collapsed": true
	   },
	   "outputs": [],
"source": [
"\n",
"foo=2.05*10^6\n",
"fc=2*10^6\n",
"Zo=75\n",
"Wc=2*%pi*2*10^6\n",
"L=Zo/Wc*2\n",
"C=2/(Zo*Wc)\n",
"m=sqrt(1-(fc/foo)^2)\n",
"printf('\nm=%.4f',m)\n",
"printf('\nm*L/2=%.2e H',m*L/2)\n",
"printf('\nm*C=%.3e F',m*C)\n",
"printf('\n(1-m^2)*L/4/m=%.2e',(1-m^2)*L/4/m)"
   ]
   }
,
{
		   "cell_type": "markdown",
		   "metadata": {},
		   "source": [
			"## Example 9.3: 3.sce"
		   ]
		  },
  {
"cell_type": "code",
	   "execution_count": null,
	   "metadata": {
	    "collapsed": true
	   },
	   "outputs": [],
"source": [
"\n",
"Zo=75\n",
"Wc=2*%pi*2*10^6\n",
"foo=2.05*10^6\n",
"L=Zo/Wc*2\n",
"m=0.6\n",
"C=2/(Zo*Wc)\n",
"printf('\nm*L/2=%.2e H',m*L/2)\n",
"printf('\nm*C=%.3e F',m*C/2)\n",
"printf('\n(1-m^2)*L/4/m=%.2e',(1-m^2)*L/2/m)"
   ]
   }
,
{
		   "cell_type": "markdown",
		   "metadata": {},
		   "source": [
			"## Example 9.4: 4.sce"
		   ]
		  },
  {
"cell_type": "code",
	   "execution_count": null,
	   "metadata": {
	    "collapsed": true
	   },
	   "outputs": [],
"source": [
"\n",
"Zo=75\n",
"Wc=2*%pi*2*10^6\n",
"foo=1.95*10^6\n",
"fc=2*10^6\n",
"L=Zo/Wc/2\n",
"C=1/2/(Zo*Wc)\n",
"m=sqrt(1-(foo/fc)^2)\n",
"printf('\nL=%.3e H',L)\n",
"printf('\nC=%.3e F',C)\n",
"printf('\nm=%.4f',m)\n",
"printf('\n2*C/m=%.4e F',2*C/m)\n",
"printf('\nL/m=%.4e H',L/m)\n",
"printf('\n4*m*C/(1-m^2)=%.4e F',4*m*C/(1-m^2))"
   ]
   }
,
{
		   "cell_type": "markdown",
		   "metadata": {},
		   "source": [
			"## Example 9.5: 5.sce"
		   ]
		  },
  {
"cell_type": "code",
	   "execution_count": null,
	   "metadata": {
	    "collapsed": true
	   },
	   "outputs": [],
"source": [
"\n",
"Le=3\n",
"E=10^(Le/10)-1\n",
"L=15\n",
"Wc=1\n",
"W=1.3*Wc\n",
"n=1/2*(log10(10^(L/10)-1)-log10(E))/log10(W/Wc)\n",
"m=acosh(sqrt(10^(0.1*L)-1))/acosh(W/Wc)\n",
"printf('\nn=%.2f',n)\n",
"printf('\nm=%.3f',m)"
   ]
   }
,
{
		   "cell_type": "markdown",
		   "metadata": {},
		   "source": [
			"## Example 9.6: 6.sce"
		   ]
		  },
  {
"cell_type": "code",
	   "execution_count": null,
	   "metadata": {
	    "collapsed": true
	   },
	   "outputs": [],
"source": [
"\n",
"L=30\n",
"W=40*10^6\n",
"Wc=10*10^6\n",
"Le=3\n",
"E=10^(Le/10)\n",
"Zo=50\n",
"Wc=2*%pi*10^6*10\n",
"L=Zo/Wc\n",
"C=2/(Zo*Wc)\n",
"n=1/2*(log10(10^(L/10)-1)-log10(E))/log10(W/Wc)\n",
"printf('\nn=%.2f',n)\n",
"printf('\ng1=%.0f\ng2=%.0f\ng3=%.0f',2*sin(%pi/6),2*sin(%pi/2),2*sin(%pi*5/6))\n",
"printf('\n')\n",
"printf('\nL1=L3=%.4e H',L)\n",
"printf('\nC2=%.3e F',C)\n",
"Zo=50\n",
"Wc=2*%pi*10^6*10\n",
"L=Zo*2/Wc\n",
"C=1/(Zo*Wc)\n",
"printf('\nL2=%.4e H',L)\n",
"printf('\nC1=C3=%.4e F',C)"
   ]
   }
,
{
		   "cell_type": "markdown",
		   "metadata": {},
		   "source": [
			"## Example 9.7: 7.sce"
		   ]
		  },
  {
"cell_type": "code",
	   "execution_count": null,
	   "metadata": {
	    "collapsed": true
	   },
	   "outputs": [],
"source": [
"\n",
"Gr=0.01\n",
"m=acosh(sqrt(10^(0.1*L)-1)/sqrt(10^(0.1*Gr-1)))/acosh(W/Wc)\n",
"printf('\nm=%.0f\n',m)\n",
"m=3\n",
"E=log(coth(Gr/17.37))\n",
"X=sinh(E/2/m)\n",
"n=3\n",
"gp=1\n",
"\n",
"for p=1:1:n\n",
"    ap=sin((2*p-1)*%pi/2/m)\n",
"    bp=X^2+sin(p*%pi/m)^2\n",
"    printf('\nap=%.4f\nbp=%.4f\n',ap,bp)\n",
"end\n",
"gp=0.62425\n",
"printf('\ng0=g4=1')\n",
"printf('\np=1\tgp=0.62425')\n",
"for p=2:1:n\n",
"    gp=4*sin((2*(p-1)-1)*%pi/2/m)*sin((2*p-1)*%pi/2/m)/(X^2+sin((p-1)*%pi/m)^2)/gp\n",
"     printf('\np=%.0f\tgp=%.5f',p,gp)\n",
"end\n",
"\n",
"printf('\nL1=L3=%.4e H\nC1=%.4e F',75*0.62425/(2*%pi*10^8),0.9662/(75*2*%pi*10^8))\n",
"\n",
"\n",
"\n",
"\n",
"\n",
"\n",
"\n",
"\n",
"\n",
"\n",
"\n",
"\n",
"\n",
""
   ]
   }
,
{
		   "cell_type": "markdown",
		   "metadata": {},
		   "source": [
			"## Example 9.8: 8.sce"
		   ]
		  },
  {
"cell_type": "code",
	   "execution_count": null,
	   "metadata": {
	    "collapsed": true
	   },
	   "outputs": [],
"source": [
"\n",
"m=3\n",
"for p=1:1:3\n",
"    ap=sin((2*p-1)*%pi/2/m)\n",
"    printf('\np=%.0f\tap=%.3f',p,ap)\n",
"end\n",
"Gr=3\n",
"\n",
"E=log(coth(Gr/17.37))\n",
"X=sinh(E/2/m)\n",
"printf('\nE=%.4f\nX=%.4f',E,X)\n",
"for p=1:1:3\n",
"    bp=X^2+sin(p*%pi/m)^2\n",
"    printf('\np=%.0f\tbp=%.4f',p,bp)\n",
"end\n",
"gp=3.349\n",
"printf('\ng0=g4=1\ng1=3.349')\n",
"for p=2:1:3\n",
"    gp=4*sin((2*(p-1)-1)*%pi/2/m)*sin((2*p-1)*%pi/2/m)/(X^2+sin((p-1)*%pi/m)^2)/gp\n",
"    printf('\ngp=%.4f',gp)\n",
"end\n",
"printf('\nL1=L3=%.1e H\nC2=%.4e F',75*3.349/(2*%pi*10^8),0.7116/(75*2*%pi*10^8))"
   ]
   }
,
{
		   "cell_type": "markdown",
		   "metadata": {},
		   "source": [
			"## Example 9.9: 9.sce"
		   ]
		  },
  {
"cell_type": "code",
	   "execution_count": null,
	   "metadata": {
	    "collapsed": true
	   },
	   "outputs": [],
"source": [
"\n",
"gL=0.62425\n",
"gc=0.9662\n",
"m=3\n",
"Wc=2*%pi*100*10^6\n",
"CHP=1/(Wc*gL)\n",
"LHP=1/(Wc*gc)\n",
"printf('\nCHP=%.3e F\nLHP=%.3e H',CHP,LHP)\n",
"C1=2.5495/75*10^3\n",
"L2=75*1.6472\n",
"printf('\nC1=C3=%.0f pF\nL2=%.1f nH',C1,L2)"
   ]
   }
],
"metadata": {
		  "kernelspec": {
		   "display_name": "Scilab",
		   "language": "scilab",
		   "name": "scilab"
		  },
		  "language_info": {
		   "file_extension": ".sce",
		   "help_links": [
			{
			 "text": "MetaKernel Magics",
			 "url": "https://github.com/calysto/metakernel/blob/master/metakernel/magics/README.md"
			}
		   ],
		   "mimetype": "text/x-octave",
		   "name": "scilab",
		   "version": "0.7.1"
		  }
		 },
		 "nbformat": 4,
		 "nbformat_minor": 0
}
