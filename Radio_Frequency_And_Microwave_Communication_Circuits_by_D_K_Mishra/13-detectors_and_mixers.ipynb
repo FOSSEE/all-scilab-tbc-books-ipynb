{
"cells": [
 {
		   "cell_type": "markdown",
	   "metadata": {},
	   "source": [
       "# Chapter 13: detectors and mixers"
	   ]
	},
{
		   "cell_type": "markdown",
		   "metadata": {},
		   "source": [
			"## Example 13.1: 1.sce"
		   ]
		  },
  {
"cell_type": "code",
	   "execution_count": null,
	   "metadata": {
	    "collapsed": true
	   },
	   "outputs": [],
"source": [
"\n",
"P=10000\n",
"V=1000\n",
"W1=4*%pi*10^6\n",
"Wc=2*%pi*10^8\n",
"a=P/V^2\n",
"printf('\na=%.2f',a)\n",
"//(b)=\n",
"A=1000+2*225+2*150+2*75\n",
"peak_power=a*A^2\n",
"printf('\nA=%.0f V\npeak_power=%.0f W',A,peak_power)"
   ]
   }
,
{
		   "cell_type": "markdown",
		   "metadata": {},
		   "source": [
			"## Example 13.2: 2.sce"
		   ]
		  },
  {
"cell_type": "code",
	   "execution_count": null,
	   "metadata": {
	    "collapsed": true
	   },
	   "outputs": [],
"source": [
"\n",
"n=1\n",
"q=1.602*10^-19\n",
"k=1.38*10^-23\n",
"T=290\n",
"Is=10^-8\n",
"a=q/(n*k*T)\n",
"Ib=0\n",
"Rj=1/(a*(Ib+Is))\n",
"printf('\n(a)Rj=%.2e ohm',Rj)\n",
"Ib=100*10^-6\n",
"Rj=1/(a*(Ib+Is))\n",
"printf('\n(b)Rj=%.1f ohm',Rj)"
   ]
   }
,
{
		   "cell_type": "markdown",
		   "metadata": {},
		   "source": [
			"## Example 13.3: 3.sce"
		   ]
		  },
  {
"cell_type": "code",
	   "execution_count": null,
	   "metadata": {
	    "collapsed": true
	   },
	   "outputs": [],
"source": [
"\n",
"//(c)\n",
"a=1\n",
"delf=10*1000\n",
"fm=1000\n",
"B=a*delf/fm\n",
"disp(B,'B=')\n",
"//(d)\n",
"a=2\n",
"delf=10*1000\n",
"fm=500\n",
"B=a*delf/fm\n",
"disp(B,'B=')"
   ]
   }
,
{
		   "cell_type": "markdown",
		   "metadata": {},
		   "source": [
			"## Example 13.5: 5.sce"
		   ]
		  },
  {
"cell_type": "code",
	   "execution_count": null,
	   "metadata": {
	    "collapsed": true
	   },
	   "outputs": [],
"source": [
"\n",
"IDss=50*10^-3\n",
"gm=200*10^-3\n",
"VL=.25\n",
"RL=50\n",
"Vp=2*VL\n",
"//gm=-2*IDss/Vp\n",
"Vp=2*IDss/gm\n",
"printf('\nVp=2*IDss/gm=%.2f V',Vp)\n",
"gc=IDss/(2*Vp)\n",
"printf('\ngc=IDss/(2*Vp)=%.2e S',gc)\n",
"Av=gc*RL\n",
"printf('\nAv=gc*RL=%.2f',Av)"
   ]
   }
],
"metadata": {
		  "kernelspec": {
		   "display_name": "Scilab",
		   "language": "scilab",
		   "name": "scilab"
		  },
		  "language_info": {
		   "file_extension": ".sce",
		   "help_links": [
			{
			 "text": "MetaKernel Magics",
			 "url": "https://github.com/calysto/metakernel/blob/master/metakernel/magics/README.md"
			}
		   ],
		   "mimetype": "text/x-octave",
		   "name": "scilab",
		   "version": "0.7.1"
		  }
		 },
		 "nbformat": 4,
		 "nbformat_minor": 0
}
