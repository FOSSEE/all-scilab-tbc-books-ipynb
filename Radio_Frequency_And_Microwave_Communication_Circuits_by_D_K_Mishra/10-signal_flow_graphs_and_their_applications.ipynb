{
"cells": [
 {
		   "cell_type": "markdown",
	   "metadata": {},
	   "source": [
       "# Chapter 10: signal flow graphs and their applications"
	   ]
	},
{
		   "cell_type": "markdown",
		   "metadata": {},
		   "source": [
			"## Example 10.10: 10.sce"
		   ]
		  },
  {
"cell_type": "code",
	   "execution_count": null,
	   "metadata": {
	    "collapsed": true
	   },
	   "outputs": [],
"source": [
"\n",
"Zs=20\n",
"Zo=50\n",
"ZL=30\n",
"S11=0.45*exp(%i*150*%pi/180)\n",
"S21=0.01*exp(-10*%pi/180*%i)\n",
"S12=2.05*exp(10*%pi/180*%i)\n",
"S22=0.4*exp(-150*%pi/180*%i)\n",
"function x=mod(n)\n",
"    r=real(n)\n",
"    i=imag(n)\n",
"    x=sqrt(r^2+i^2)\n",
"endfunction\n",
"Fs=(Zs-Zo)/(Zs+Zo)\n",
"printf('\nFs=(Zs-Zo)/(Zs+Zo)=%.3f',Fs)\n",
"FL=(ZL-Zo)/(ZL+Zo)\n",
"printf('\nFL=(ZL-Zo)/(ZL-Zo)=%.3f',FL)\n",
"Fin=S11+(S21*S12*FL)/(1-S22*FL)\n",
"disp(Fin,'Fin=')\n",
"Fout=S22+(S21*S12*Fs)/(1-S11*Fs)\n",
"disp(Fout,'Fout=')\n",
"GT=(1-mod(Fs)^2)*mod(S12)^2/mod(1-S11*Fs)^2*(1-mod(FL)^2)/mod(1-Fout*FL)^2\n",
"printf('\nGT=%.4f',GT)\n",
"GP=mod(S12)^2*(1-mod(FL)^2)/mod(1-S22*FL)^2/(1-mod(Fin)^2)\n",
"printf('\nGP=%.4f',GP)\n",
"GA=(1-mod(Fs)^2)/mod((1-S11*Fs))^2*mod(S12)^2/(1-mod(Fout)^2)\n",
"printf('\nGA=%.4f',GA)\n",
"\n",
"printf('\nGT(dB)=%.1f dB\nGP(dB)=%.2f dB\nGA(dB)=%.2f dB',10*log10(GT),10*log10(GP),10*log10(GA))"
   ]
   }
,
{
		   "cell_type": "markdown",
		   "metadata": {},
		   "source": [
			"## Example 10.11: 11.sce"
		   ]
		  },
  {
"cell_type": "code",
	   "execution_count": null,
	   "metadata": {
	    "collapsed": true
	   },
	   "outputs": [],
"source": [
"\n",
"Zo=50\n",
"S11=0.97*exp(-43*%i*%pi/180)\n",
"S12=0.0\n",
"S21=3.39*exp(%i*140*%pi/180)\n",
"S22=0.63*exp(-%i*32*%pi/180)\n",
"FL=0.63*exp(%i*32*%pi/180)\n",
"Fs=0.97*exp(%i*43*%pi/180)\n",
"function x=mod(n)\n",
"    r=real(n)\n",
"    i=imag(n)\n",
"    x=sqrt(r^2+i^2)\n",
"endfunction\n",
"Fin=S11+S12*S21*FL/(1-S22*FL)\n",
"Fout=S22+S21*S12*Fs/(1-S11*Fs)\n",
"GTU=(1-mod(Fs)^2)/mod(1-mod(S11)*mod(Fs))^2*mod(S21)^2*(1-mod(FL)^2)/mod(1-mod(S22)*mod(FL))^2\n",
"printf('\nGTU=%.4f',GTU)\n",
"GP=1/(1-mod(Fin)^2)*mod(S21)^2*(1-mod(FL)^2)/(1-mod(S22)*mod(FL))^2\n",
"printf('\nGP=%.4f',GP)\n",
"GA=(1-mod(Fs)^2)*mod(S21)^2/(1-mod(S11)*mod(Fs))^2/(1-mod(Fout)^2)\n",
"printf('\nGA=%.4f',GA)\n",
"\n",
"\n",
"\n",
"\n",
""
   ]
   }
],
"metadata": {
		  "kernelspec": {
		   "display_name": "Scilab",
		   "language": "scilab",
		   "name": "scilab"
		  },
		  "language_info": {
		   "file_extension": ".sce",
		   "help_links": [
			{
			 "text": "MetaKernel Magics",
			 "url": "https://github.com/calysto/metakernel/blob/master/metakernel/magics/README.md"
			}
		   ],
		   "mimetype": "text/x-octave",
		   "name": "scilab",
		   "version": "0.7.1"
		  }
		 },
		 "nbformat": 4,
		 "nbformat_minor": 0
}
