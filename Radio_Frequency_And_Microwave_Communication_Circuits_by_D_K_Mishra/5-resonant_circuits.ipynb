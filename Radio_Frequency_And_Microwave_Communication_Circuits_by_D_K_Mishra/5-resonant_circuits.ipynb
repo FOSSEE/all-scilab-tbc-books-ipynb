{
"cells": [
 {
		   "cell_type": "markdown",
	   "metadata": {},
	   "source": [
       "# Chapter 5: resonant circuits"
	   ]
	},
{
		   "cell_type": "markdown",
		   "metadata": {},
		   "source": [
			"## Example 5.10: 10.sce"
		   ]
		  },
  {
"cell_type": "code",
	   "execution_count": null,
	   "metadata": {
	    "collapsed": true
	   },
	   "outputs": [],
"source": [
"\n",
"fr=35*10^9\n",
"w=2*%pi*fr\n",
"Es=9.9\n",
"Er=36\n",
"uo=4*%pi*10^-7\n",
"Eo=8.8154*10^-12\n",
"z1=1.2892*10^8/(fr*sqrt(Es))\n",
"z2=1.2892*10^8/(fr*sqrt(Er))\n",
"r=0.835*10^-3\n",
"printf('\n1.2892*10^8/(fr*sqrt(Es))=%.3e m',z1)\n",
"printf('\n1.2892*10^8/(fr*sqrt(Er))=%.3e m',z2)\n",
"ko=w*sqrt(uo*Eo)\n",
"y=sqrt((ko*r)^2*(Er-1)-5.784)\n",
"printf('\ny=%.3f',y)\n",
"k_=2.405/r+y/(2.405*r*(1+2.43/y+0.291*y))\n",
"printf('\nk_=%.3e',k_)\n",
"a1=sqrt(k_^2-ko^2*Es)\n",
"a2=sqrt(k_^2-ko^2)\n",
"B=sqrt(ko^2*Er-k_^2)\n",
"printf('\na1=%.3e\na2=%.3e\nB=%.3e',a1,a2,B)\n",
"d=10^-3\n",
"t=.25*10^-3\n",
"h=1/B*(atan(a1/(B*tanh(a1*t)))+atan(a2/(B*tanh(a2*d))))\n",
"printf('\nh=%.3e m',h)\n",
"\n",
""
   ]
   }
,
{
		   "cell_type": "markdown",
		   "metadata": {},
		   "source": [
			"## Example 5.1: 1.sce"
		   ]
		  },
  {
"cell_type": "code",
	   "execution_count": null,
	   "metadata": {
	    "collapsed": true
	   },
	   "outputs": [],
"source": [
"\n",
"//data\n",
"f2=9      //MHz\n",
"f1=11        //MHz\n",
"R=50          //ohm\n",
"W1=2*%pi*11*10^6      //rad/s\n",
"W2=2*%pi*9*10^6         //rad/s\n",
"//formula and result\n",
"printf('\nresult:-')\n",
"Wo=sqrt(W1*W2)\n",
"fo=sqrt(f1*f2)\n",
"printf('\nWo=sqrt(W1*W2)\nfo=sqrt(f1*f2)=%.6f MHz',fo)\n",
"L=R/(W1-W2)\n",
"printf('\nQ=Wo*L/R=Wo/(W1-W2)\nL=R/(W1-W2)=%.6e H',L)\n",
"C=1/(L*Wo^2)\n",
"printf('\nWo=1/sqrt(L*C)\nC=1/(L*Wo^2)=%.6e F',C)"
   ]
   }
,
{
		   "cell_type": "markdown",
		   "metadata": {},
		   "source": [
			"## Example 5.2: 2.sce"
		   ]
		  },
  {
"cell_type": "code",
	   "execution_count": null,
	   "metadata": {
	    "collapsed": true
	   },
	   "outputs": [],
"source": [
"\n",
"//data\n",
"Lp=10^(-5)    //H\n",
"Cp=10^(-11)    //F\n",
"Rp=10^5           //ohm\n",
"RL=10^5             //ohm\n",
"//formula and result\n",
"printf('\nresult:-')\n",
"Wo=1/sqrt(Lp*Cp)\n",
"printf('\nWo=1/sqrt(Lp*Cp)=%.0e rad/s',Wo)\n",
"Q=Rp/(Wo*Lp)\n",
"printf('\nQ=Rp/(Wo*Lp)=%.0f',Q)\n",
"Qe=RL/(Wo*Lp)\n",
"printf('\nQe=RL/(Wo*Lp)=%.0f',Qe)\n",
"QL=Q*Qe/(Q+Qe)\n",
"printf('\nQL=Q*Qe/(Q+Qe)=%.0f',QL)"
   ]
   }
,
{
		   "cell_type": "markdown",
		   "metadata": {},
		   "source": [
			"## Example 5.3: 3.sce"
		   ]
		  },
  {
"cell_type": "code",
	   "execution_count": null,
	   "metadata": {
	    "collapsed": true
	   },
	   "outputs": [],
"source": [
"\n",
"//data\n",
"R2=62.5*10^3    //ohm\n",
"E=1\n",
"L1=320*10^(-9)    //H\n",
"L2=20*10^(-9)        //H\n",
"//formula and result\n",
"printf('\nresult:-')\n",
"n=sqrt(E*L1/L2)\n",
"printf('\nn=sqrt(E*L1/L2)=%.0f',n)\n",
"R1=n^(2)*R2\n",
"printf('\nZ1=n^2*Z2\nY1=Y2/n^2=1/n^2*complex(1/R2,W*C2)\n\nR1=n^2*R2=%.0e ohm\n',R1)\n",
"C1=(6+1/4^2*30.7)*10^-12\n",
"printf('\nC1=%.2e F\n',C1)\n",
"Wo=1/sqrt(L1*C1)\n",
"printf('\nWo=1/sqrt(L1*C1)=%.4e rad/s\n',Wo)\n",
"fo=Wo/(2*%pi)\n",
"printf('\nfo=Wo/(2*pi)=%.2e Hz\n',fo)\n",
"Q=R1/(Wo*L1)\n",
"printf('\nQ=R1/(Wo*L1)=%.4f',Q)"
   ]
   }
,
{
		   "cell_type": "markdown",
		   "metadata": {},
		   "source": [
			"## Example 5.5: 5.sce"
		   ]
		  },
  {
"cell_type": "code",
	   "execution_count": null,
	   "metadata": {
	    "collapsed": true
	   },
	   "outputs": [],
"source": [
"\n",
"//data\n",
"a=0.455*10^-3    //m\n",
"b=1.499*10^-3    //m\n",
"W=2*%pi*5*10^9    //rad/s\n",
"uo=4*%pi*10^-7    \n",
"q=5.813*10^7\n",
"Eo=8.854*10^-12\n",
"Er=2.08\n",
"d=0.0004\n",
"//formula and result\n",
"printf('\nresult:-')\n",
"Rs=sqrt(W*uo/2/q)\n",
"printf('\nRs=%f ohm',Rs)\n",
"ac=Rs*(1/a+1/b)/(2*log(b/a)*sqrt(uo/Eo))\n",
"printf('\nac=%f Np/m',ac)\n",
"ac=ac*sqrt(Er)\n",
"ad=W/2*sqrt(uo*Eo*Er)*(d)\n",
"Bo=2*%pi*5*10^9/(3*10^8)\n",
"Bd=2*%pi*5*10^9*sqrt(2.08)/(3*10^8)\n",
"a=0.058768\n",
"Qair=Bo/(2*a)\n",
"a=0.114963\n",
"Qteflon=Bd/(2*a)\n",
"printf('\n\twith teflon\n ac=%f Np/m\nad=%f Np/m\nBo=%f rad/m\nBd=%f rad/m,\nQair=%f,\nQteflon=%f',ac,ad,Bo,Bd,Qair,Qteflon)"
   ]
   }
,
{
		   "cell_type": "markdown",
		   "metadata": {},
		   "source": [
			"## Example 5.6: 6.sce"
		   ]
		  },
  {
"cell_type": "code",
	   "execution_count": null,
	   "metadata": {
	    "collapsed": true
	   },
	   "outputs": [],
"source": [
"\n",
"Zo=50\n",
"Er=2.08\n",
"B=60*%pi^2/Zo/sqrt(Er)\n",
"c=3*10^8\n",
"f=2*10^9\n",
"Ee=1.7875\n",
"t=0.159*10^-6\n",
"a=5.813*10^7\n",
"fGHz=2\n",
"A=Zo/60*((Er+1)/2)^(1/2)+(Er-1)/(Er+1)*(0.23+0.11/Er)\n",
"printf('\nA=%.4f\nB=%.4f',A,B)\n",
"h=1.59*10^-3\n",
"if A>1.52 then\n",
"    W=h*(8*exp(A)/(exp(2*A)-2))\n",
"else\n",
"    W=h*(2/%pi*(B-1-log(2*B-1)+(Er-1)/2/Er*(log(B-1)+0.39-0.61/Er)))\n",
"end\n",
"printf('\nW=%.6f cm',W)\n",
"\n",
"Ere=0.5*(2.08+1+(2.08-1)/sqrt(1+12/3.192094))-(2.08-1)*0.0001/4.6/sqrt(3.1921)\n",
"printf('\nEre=%.4f',Ere)\n",
"l=c/(2*f*sqrt(Ee))\n",
"printf('\nl=%.6f m',l)\n",
"We=W/h+0.3979*t/h*(1+log(2*h/t))\n",
"printf('\nWe/h=%.4f',We)\n",
"F=1+1/We*(1-1.25*t/(%pi*h)+1.25/%pi*log(2*h/t))\n",
"ac=44.1255*10^-5*F*Zo*Ere/h*sqrt(fGHz/a)*(We+0.667*We/(We+1.444))\n",
"printf('\nac=%.4f Np/m',ac)\n",
"del=0.00040\n",
"ad=10.4766*Er/(Er-1)*(Ere-1)/sqrt(Ere)*fGHz*tan(del)\n",
"printf('\nad=%.4f Np/m',ad)\n",
"B=2*%pi/(2*l)\n",
"printf('\nB=%.4f rad/m',B)\n",
"Q=B/(2*(ac+ad))\n",
"printf('\nQ=%.1f',Q)\n",
"\n",
""
   ]
   }
,
{
		   "cell_type": "markdown",
		   "metadata": {},
		   "source": [
			"## Example 5.7: 7.sce"
		   ]
		  },
  {
"cell_type": "code",
	   "execution_count": null,
	   "metadata": {
	    "collapsed": true
	   },
	   "outputs": [],
"source": [
"\n",
"a=2.286*10^-2\n",
"b=1.016*10^-2\n",
"f=9.379*10^9\n",
"c=1/2/sqrt((9379/300)^2-(1/2/a)^2)\n",
"printf('\nc=%.5f m = %.4f cm',c,c*100)\n",
"\n",
"\n",
""
   ]
   }
,
{
		   "cell_type": "markdown",
		   "metadata": {},
		   "source": [
			"## Example 5.8: 8.sce"
		   ]
		  },
  {
"cell_type": "code",
	   "execution_count": null,
	   "metadata": {
	    "collapsed": true
	   },
	   "outputs": [],
"source": [
"\n",
"//data\n",
"Er=2.05\n",
"ur=1\n",
"a=.016 //m\n",
"b=.0071   //m\n",
"c=.0156   //m\n",
"m=1  \n",
"p=1 \n",
"printf('\nresult:-')\n",
"fr=(300/sqrt(ur*Er))*sqrt((m/(2*a))^2+(p/(2*c))^2) \n",
"printf('\nfr=(300/sqrt(ur*Er))*sqrt((m/(2*a))^2+(p/(2*C))^2)\n =%.3e MHz',fr)"
   ]
   }
,
{
		   "cell_type": "markdown",
		   "metadata": {},
		   "source": [
			"## Example 5.9: 9.sce"
		   ]
		  },
  {
"cell_type": "code",
	   "execution_count": null,
	   "metadata": {
	    "collapsed": true
	   },
	   "outputs": [],
"source": [
"\n",
"w=2*%pi*5*10^9\n",
"u=4*%pi*10^-7\n",
"a=5.8*10^7\n",
"r=sqrt((3.832^2+(%pi/2)^2)/(5000*2*%pi/300)^2)\n",
"h=2*r\n",
"del=sqrt(2/(w*u*a))\n",
"printf('\ndel=%.4e m',del)\n",
"Qc=47.7465*10^6/(9.3459*10^-7*5*10^9)*(3.832^2+(%pi/2)^2)^1.5/((3.832^2+(%pi/2)^2)+1)\n",
"printf('\nQc=%.2f',Qc)"
   ]
   }
],
"metadata": {
		  "kernelspec": {
		   "display_name": "Scilab",
		   "language": "scilab",
		   "name": "scilab"
		  },
		  "language_info": {
		   "file_extension": ".sce",
		   "help_links": [
			{
			 "text": "MetaKernel Magics",
			 "url": "https://github.com/calysto/metakernel/blob/master/metakernel/magics/README.md"
			}
		   ],
		   "mimetype": "text/x-octave",
		   "name": "scilab",
		   "version": "0.7.1"
		  }
		 },
		 "nbformat": 4,
		 "nbformat_minor": 0
}
