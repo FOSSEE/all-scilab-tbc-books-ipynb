{
"cells": [
 {
		   "cell_type": "markdown",
	   "metadata": {},
	   "source": [
       "# Chapter 7: Control Systems Analysis and Design by Frequency Response Method"
	   ]
	},
{
		   "cell_type": "markdown",
		   "metadata": {},
		   "source": [
			"## Example 7.10: Nyquist_Plot.sce"
		   ]
		  },
  {
"cell_type": "code",
	   "execution_count": null,
	   "metadata": {
	    "collapsed": true
	   },
	   "outputs": [],
"source": [
"// Example 7-10\n",
"// Nyquist Plot\n",
"clear; clc;\n",
"xdel(winsid());  //close all windows\n",
"s = %s;\n",
"num = 1;\n",
"den = s^2 + 0.8*s + 1;\n",
"G = syslin('c',num,den);\n",
"nyquist(G,-1000,1000);\n",
"xgrid(color('gray'));\n",
"xtitle('Nyquist plot of G(s) = 1 / (s^2 + 0.8*s + 1)');\n",
"// Note: nyquist function plots frequencies -1000 and 1000 in Hz and not in rad/s"
   ]
   }
,
{
		   "cell_type": "markdown",
		   "metadata": {},
		   "source": [
			"## Example 7.11: Nyquist_Plot.sce"
		   ]
		  },
  {
"cell_type": "code",
	   "execution_count": null,
	   "metadata": {
	    "collapsed": true
	   },
	   "outputs": [],
"source": [
"// Example 7-11\n",
"// Nyquist Plot\n",
"clear; clc;\n",
"xdel(winsid());  //close all windows\n",
"s = %s;\n",
"num = 1;\n",
"den = s * (s + 1);\n",
"G = syslin('c',num,den);\n",
"scf();\n",
"a = gca();\n",
"a.clip_state = 'on';   //clip the extra nyquist plot\n",
"nyquist(G,-1000,1000);\n",
"xgrid(color('gray'));\n",
"xtitle('Nyquist plot of G(s) = 1 / (s * (s + 1))');\n",
"a.data_bounds  = [-3 -5 ; 3 5];\n",
"a.box = 'on';"
   ]
   }
,
{
		   "cell_type": "markdown",
		   "metadata": {},
		   "source": [
			"## Example 7.12: Nyquist_Plots_of_system_in_state_space.sce"
		   ]
		  },
  {
"cell_type": "code",
	   "execution_count": null,
	   "metadata": {
	    "collapsed": true
	   },
	   "outputs": [],
"source": [
"// Example 7-11\n",
"// Nyquist Plot\n",
"clear; clc;\n",
"xdel(winsid());  //close all windows\n",
"s = %s;\n",
"num = 1;\n",
"den = s * (s + 1);\n",
"G = syslin('c',num,den);\n",
"scf();\n",
"a = gca();\n",
"a.clip_state = 'on';   //clip the extra nyquist plot\n",
"nyquist(G,-1000,1000);\n",
"xgrid(color('gray'));\n",
"xtitle('Nyquist plot of G(s) = 1 / (s * (s + 1))');\n",
"a.data_bounds  = [-3 -5 ; 3 5];\n",
"a.box = 'on';"
   ]
   }
,
{
		   "cell_type": "markdown",
		   "metadata": {},
		   "source": [
			"## Example 7.13: Nyquist_Plot_of_MIMO_system.sce"
		   ]
		  },
  {
"cell_type": "code",
	   "execution_count": null,
	   "metadata": {
	    "collapsed": true
	   },
	   "outputs": [],
"source": [
"// Example 7-13\n",
"// Nyquist Plot of MIMO system\n",
"clear; clc;\n",
"xdel(winsid());  //close all windows\n",
"A = [-1 -1 ; 6.5 0];\n",
"B = [1 1; 1 0];\n",
"C = [1 0; 0 1];\n",
"D = [0 0; 0 0];\n",
"G = syslin('c',A,B,C,D);\n",
"P = clean(ss2tf(G)); \n",
"subplot(2,2,1);\n",
"nyquist(P(1,1),-100,100);\n",
"xgrid(color('gray'));\n",
"xtitle('Nyquist plot: From U1','Real Axis','To Y1');\n",
"subplot(2,2,2);\n",
"nyquist(P(2,1),-100,100);\n",
"xgrid(color('gray'));\n",
"xtitle('Nyquist plot: From U1','Real Axis','To Y2');\n",
"subplot(2,2,3);\n",
"nyquist(P(1,2),-100,100);\n",
"xgrid(color('gray'));\n",
"xtitle('Nyquist plot: From U2','Real Axis','To Y1');\n",
"subplot(2,2,4);\n",
"nyquist(P(2,2),-100,100);\n",
"xgrid(color('gray'));\n",
"xtitle('Nyquist plot From U2','Real Axis','To Y2');"
   ]
   }
,
{
		   "cell_type": "markdown",
		   "metadata": {},
		   "source": [
			"## Example 7.14: Nyquist_Stability_Check.sce"
		   ]
		  },
  {
"cell_type": "code",
	   "execution_count": null,
	   "metadata": {
	    "collapsed": true
	   },
	   "outputs": [],
"source": [
"// Example 7-14\n",
"// Nyquist Stability Check\n",
"clear; clc;\n",
"xdel(winsid());  //close all windows\n",
"s = %s;\n",
"T1 = 5; T2 = 10;\n",
"K = 1;\n",
"den = (T1*s + 1)*(T2*s + 1); \n",
"GH = syslin('c',K,den);\n",
"nyquist(GH,-1000,1000);\n",
"xgrid(color('gray'));"
   ]
   }
,
{
		   "cell_type": "markdown",
		   "metadata": {},
		   "source": [
			"## Example 7.19: Nyquist_plot_stability_check.sce"
		   ]
		  },
  {
"cell_type": "code",
	   "execution_count": null,
	   "metadata": {
	    "collapsed": true
	   },
	   "outputs": [],
"source": [
"// Example 7-19\n",
"// Nyquist plot stability check\n",
"clear; clc;\n",
"xdel(winsid());  //close all windows\n",
"s = %s;\n",
"num = s + 0.5;\n",
"den = s^3 + s^2 + 1;\n",
"disp(routh_t(den),'routh table =');  // display the routh table\n",
"GbyK = syslin('c',num,den); // open loop system\n",
"nyquist(GbyK,-1000,1000);"
   ]
   }
,
{
		   "cell_type": "markdown",
		   "metadata": {},
		   "source": [
			"## Example 7.1: Steady_state_sinusoidal_output.sce"
		   ]
		  },
  {
"cell_type": "code",
	   "execution_count": null,
	   "metadata": {
	    "collapsed": true
	   },
	   "outputs": [],
"source": [
"// Example 7-1\n",
"// Steady state sinusoidal output\n",
"clear; clc;\n",
"xdel(winsid());  //close all windows\n",
"// please set the path\n",
"// cd '/<your code directory>/'\n",
"// exec('plotresp.sci')\n",
"s = %s;\n",
"w = 1;\n",
"K = 5;\n",
"T = 0.1;\n",
"G = syslin('c',K,T*s + 1);\n",
"t = 0:0.1:20;\n",
"u = sin(w*t);\n",
"plotresp(u,t,G,'Response to sinusoidal input'); \n",
"// as T*w is small amplitude of output is ~ K (5)"
   ]
   }
,
{
		   "cell_type": "markdown",
		   "metadata": {},
		   "source": [
			"## Example 7.20: Gain_and_phase_margins_for_different_K.sce"
		   ]
		  },
  {
"cell_type": "code",
	   "execution_count": null,
	   "metadata": {
	    "collapsed": true
	   },
	   "outputs": [],
"source": [
"// Example 7-20\n",
"// Gain and phase margins for different K\n",
"clear; clc;\n",
"xdel(winsid());  //close all windows\n",
"// please edit the path\n",
"// cd '/<your code directory>/';\n",
"// exec('shmargins.sci');\n",
"s = %s /2 / %pi;  // corrected for frequencies in rad/s\n",
"K = 10;\n",
"G = syslin('c', K, s*(s+1)*(s+5));\n",
"shmargins(G);\n",
"scf();\n",
"K = 100;\n",
"G = syslin('c', K, s*(s+1)*(s+5));\n",
"shmargins(G);"
   ]
   }
,
{
		   "cell_type": "markdown",
		   "metadata": {},
		   "source": [
			"## Example 7.21: Stability_Margins.sce"
		   ]
		  },
  {
"cell_type": "code",
	   "execution_count": null,
	   "metadata": {
	    "collapsed": true
	   },
	   "outputs": [],
"source": [
"// Example 7-21\n",
"// Stability Margins\n",
"clear; clc;\n",
"xdel(winsid());  //close all windows\n",
"// please edit the path\n",
"// cd '/<your code directory>/';\n",
"// exec('shmargins.sci');\n",
"s = %s /2 / %pi;  // corrected for frequencies in rad/s\n",
"num = 20*(s+1);\n",
"den =s * (s + 5) * (s^2 + 2*s + 10);\n",
"G = syslin('c',num,den);\n",
"shmargins(G);"
   ]
   }
,
{
		   "cell_type": "markdown",
		   "metadata": {},
		   "source": [
			"## Example 7.22: Correlating_bandwidth_and_speed_of_response.sce"
		   ]
		  },
  {
"cell_type": "code",
	   "execution_count": null,
	   "metadata": {
	    "collapsed": true
	   },
	   "outputs": [],
"source": [
"// Example 7-22\n",
"// Correlating bandwidth and speed of response\n",
"clear; clc;\n",
"xdel(winsid());  //close all windows\n",
"// please edit the path\n",
"// cd '/<your code directory>/';\n",
"// exec('plotresp.sci');\n",
"s = %s /2 /%pi; // frequencies in rad/s\n",
"G1 = syslin('c',1,s + 1);\n",
"G2 = syslin('c',1,3*s + 1);\n",
"subplot(2,1,1);\n",
"gainplot(G1,0.1,10);\n",
"xtitle('system 1 : 1 / (s + 1)','rad/s');\n",
"subplot(2,1,2);\n",
"gainplot(G2,0.1,10);\n",
"xtitle('system 2 : 1 / (3*s + 1)','rad/s');\n",
"scf();\n",
"t = 0:0.05:1;\n",
"u = ones(1,length(t));\n",
"subplot(2,1,1);\n",
"plotresp(u,t,G1,'');\n",
"plotresp(u,t,G2,'Step response of two systems with different bandwidth');\n",
"xstring(0.1,0.75,'System 1');\n",
"xstring(0.35,0.4,'System 2');\n",
"subplot(2,1,2);\n",
"plotresp(t,t,G1,'');\n",
"plotresp(t,t,G2,'Ramp response of two systems with different bandwidth');\n",
"xstring(0.45,0.35,'System 1');\n",
"xstring(0.8,0.45,'System 2');"
   ]
   }
,
{
		   "cell_type": "markdown",
		   "metadata": {},
		   "source": [
			"## Example 7.23: Frequency_charecteristics.sce"
		   ]
		  },
  {
"cell_type": "code",
	   "execution_count": null,
	   "metadata": {
	    "collapsed": true
	   },
	   "outputs": [],
"source": [
"// Example 7-23\n",
"// Frequency charecteristics \n",
"clear; clc;\n",
"xdel(winsid());  //close all windows\n",
"// please edit the path\n",
"// cd '/<your code directory>/';\n",
"// exec('freqch.sci');\n",
"s = %s /2 /%pi; // frequencies in rad/s\n",
"G = 1 / (s * (0.5*s + 1) * (s + 1));\n",
"H = syslin('c',G /. 1);\n",
"omega = logspace(-1,1,200);\n",
"[Mr wr bw repf] = freqch(H,omega);\n",
"bode(omega,repf);\n",
"xtitle('Bode Diagram','rad/s');\n",
"a = gcf();set(a.children(1).x_label,'text','rad/s');"
   ]
   }
,
{
		   "cell_type": "markdown",
		   "metadata": {},
		   "source": [
			"## Example 7.24: Polar_and_Nichols_plot_with_M_circles.sce"
		   ]
		  },
  {
"cell_type": "code",
	   "execution_count": null,
	   "metadata": {
	    "collapsed": true
	   },
	   "outputs": [],
"source": [
"// Example 7-24\n",
"// Polar and Nichols plot with M circles\n",
"clear; clc;\n",
"xdel(winsid());  //close all windows\n",
"// please edit the path\n",
"// cd '/<your code directory>/';\n",
"// exec('spolarplot.sci');\n",
"s = %s;\n",
"G = syslin('c',1,s*(s+1));\n",
"omega = logspace(-2,2,100);\n",
"repf = spolarplot(G,omega);\n",
"scf();\n",
"black(omega,repf);\n",
"chart([1.4],[],list(1,0));\n",
"xgrid(color('gray'));\n",
"xstring(-150,8,'Mr = 1.4')"
   ]
   }
,
{
		   "cell_type": "markdown",
		   "metadata": {},
		   "source": [
			"## Example 7.25: Verifying_experimentally_derived_Transfer_function.sce"
		   ]
		  },
  {
"cell_type": "code",
	   "execution_count": null,
	   "metadata": {
	    "collapsed": true
	   },
	   "outputs": [],
"source": [
"// Example 7-25\n",
"// Verifying experimentally derived Transfer function\n",
"clear; clc;\n",
"xdel(winsid());  //close all windows\n",
"s = %s;\n",
"num = 320*(s + 2);\n",
"den = s * (s + 1) * (s^2 + 8*s + 64);\n",
"G = syslin('c',num,den);\n",
"bode(G,0.1,40);\n",
"xtitle('Bode plot of G(s) = [320*(s + 2)]/[s * (s + 1) * (s^2 + 8*s + 64)]');"
   ]
   }
,
{
		   "cell_type": "markdown",
		   "metadata": {},
		   "source": [
			"## Example 7.26_1: Design_of_Lead_compensator_with_Bode_plots.sce"
		   ]
		  },
  {
"cell_type": "code",
	   "execution_count": null,
	   "metadata": {
	    "collapsed": true
	   },
	   "outputs": [],
"source": [
"// Example 7-26-1\n",
"// Design of Lead compensator with Bode plots\n",
"clear; clc;\n",
"xdel(winsid());  //close all windows\n",
"mode(0);\n",
"// please edit the path\n",
"// cd '/<your code directory>/';\n",
"// exec('shmargins.sci');\n",
"s = %s/2/%pi;\n",
"G = 4 / (s * (s + 2));\n",
"Kv = 20;\n",
"K = Kv / horner(s * G,0)\n",
"GK = syslin('c',K * G);\n",
"[gm, gcrw, pm, pcrw] = shmargins(GK);\n",
"// required specification is pm = 50 degrees\n",
"phi = 50 - pm + 6  // 6 deg compensation\n",
"sn = sind(phi);\n",
"alpha = (1 - sn)/(1 + sn)\n",
"wc = 9; // new gain crossover freq.\n",
"z = wc * sqrt(alpha) // z = 1 / T\n",
"p = wc / sqrt(alpha) // p = 1 / (alpha*T)\n",
"Kc = K / alpha\n",
"disp(Kc * (%s + z)/(%s + p),'Gc = '); \n",
"Gc = Kc * (s + z)/(s + p);\n",
"GGc = syslin('c',Gc * G);\n",
"scf();\n",
"shmargins(GGc);"
   ]
   }
,
{
		   "cell_type": "markdown",
		   "metadata": {},
		   "source": [
			"## Example 7.26_2: Evaluating_Lead_compensated_system.sce"
		   ]
		  },
  {
"cell_type": "code",
	   "execution_count": null,
	   "metadata": {
	    "collapsed": true
	   },
	   "outputs": [],
"source": [
"// Example 7-26-2\n",
"// Evaluating Lead compensated system\n",
"clear; clc;\n",
"xdel(winsid());  //close all windows\n",
"// please edit the path\n",
"// cd '/<your code directory>/';\n",
"// exec('plotresp.sci');\n",
"s = %s;\n",
"G = 4 / (s * (s + 2));\n",
"Kc = 42.104125;\n",
"z  = 4.3861167;\n",
"p = 18.467361;\n",
"Gc = Kc * (s + z)/(s + p);\n",
"GGc = G*Gc;\n",
"H = syslin('c',G /. 1);\n",
"Hc = syslin('c',GGc /. 1);\n",
"t = 0:0.05:5;\n",
"u1 = ones(1,length(t)); //step response\n",
"u2 = t;                 //ramp response\n",
"subplot(2,1,1);plotresp(u1,t,H,'');\n",
"plotresp(u1,t,Hc,'Unit step response');\n",
"xstring(0.65,0.55,'uncompensated system');\n",
"xstring(0.1,1.2,'compensated system');\n",
"subplot(2,1,2);plotresp(u2,t,H,'');\n",
"plotresp(u2,t,Hc,'Unit ramp response');\n",
"xstring(3.0,2.0,'uncompensated system');\n",
"xstring(0,0.5,'compensated system');"
   ]
   }
,
{
		   "cell_type": "markdown",
		   "metadata": {},
		   "source": [
			"## Example 7.27_1: Design_of_Lag_compensator_with_Bode_plots.sce"
		   ]
		  },
  {
"cell_type": "code",
	   "execution_count": null,
	   "metadata": {
	    "collapsed": true
	   },
	   "outputs": [],
"source": [
"// Example 7-27-1\n",
"// Design of Lag compensator with Bode plots\n",
"clear; clc;\n",
"xdel(winsid());  //close all windows\n",
"mode(0);\n",
"// please edit the path\n",
"// cd '/<your code directory>/';\n",
"// exec('shmargins.sci');\n",
"s = %s/2/%pi;\n",
"G = 1 / (s * (s + 1) * (0.5*s + 1));\n",
"Kv = 5;\n",
"K = Kv / horner(s * G,0)\n",
"GK = syslin('c',K * G);\n",
"[gm, gcrw, pm, pcrw] = shmargins(GK);\n",
"// required specification is pm = 40 degrees\n",
"wc = 0.5; // new gain crossover freq.\n",
"beta = 10\n",
"z = 0.1      // z = 1 / T is chosen one octave less\n",
"p = z / beta \n",
"Kc = K / beta\n",
"disp(Kc * (%s + z)/(%s + p),'Gc = '); \n",
"Gc = Kc * (s + z)/(s + p);\n",
"GGc = syslin('c',Gc * G);\n",
"scf();\n",
"shmargins(GGc);"
   ]
   }
,
{
		   "cell_type": "markdown",
		   "metadata": {},
		   "source": [
			"## Example 7.27_2: Evaluating_Lag_compensated_system.sce"
		   ]
		  },
  {
"cell_type": "code",
	   "execution_count": null,
	   "metadata": {
	    "collapsed": true
	   },
	   "outputs": [],
"source": [
"// Example 7-27-2\n",
"// Evaluating Lag compensated system\n",
"clear; clc;\n",
"xdel(winsid());  //close all windows\n",
"// please edit the path\n",
"// cd '/<your code directory>/';\n",
"// exec('plotresp.sci');\n",
"s = %s;\n",
"G = 1 / (s * (s + 1) * (0.5*s + 1));\n",
"Kc = 0.5;\n",
"z  = 0.1;\n",
"p  = 0.01;\n",
"Gc = Kc * (s + z)/(s + p);\n",
"GGc = G*Gc;\n",
"H = syslin('c',G /. 1);\n",
"Hc = syslin('c',GGc /. 1);\n",
"t = 0:0.5:40;\n",
"u1 = ones(1,length(t)); //step response\n",
"subplot(2,1,1);plotresp(u1,t,H,'');\n",
"plotresp(u1,t,Hc,'Unit step response');\n",
"xstring(2.5,0.55,'uncompensated system');\n",
"xstring(0.1,1.3,'compensated system');\n",
"t = 0:0.5:30;\n",
"u2 = t;                 //ramp response\n",
"subplot(2,1,2);plotresp(u2,t,H,'');\n",
"plotresp(u2,t,Hc,'Unit ramp response');\n",
"xstring(15,13,'uncompensated system');\n",
"xstring(14,20,'compensated system');"
   ]
   }
,
{
		   "cell_type": "markdown",
		   "metadata": {},
		   "source": [
			"## Example 7.28_1: Design_of_Lag_lead_compensation_with_Bode_plots.sce"
		   ]
		  },
  {
"cell_type": "code",
	   "execution_count": null,
	   "metadata": {
	    "collapsed": true
	   },
	   "outputs": [],
"source": [
"// Example 7-28-1\n",
"// Design of Lag - lead compensation with Bode plots\n",
"clear; clc;\n",
"xdel(winsid());  //close all windows\n",
"mode(0);\n",
"// please edit the path\n",
"// cd '/<your code directory>/';\n",
"// exec('shmargins.sci');\n",
"s = %s /2 /%pi ;\n",
"G = 1 / (s * (s + 1) * (s + 2));\n",
"Kv = 10;\n",
"K = Kv / horner(s * G,0)\n",
"GK = syslin('c',K * G);\n",
"[gm, gcrw, pm, pcrw] = shmargins(GK);\n",
"wc = 1.5; // new gain crossover freq.\n",
"// required specification is pm = 50 degrees\n",
"phi = 55  // 6 deg compensation\n",
"sn = sind(phi);\n",
"beta = (1 + sn)/(1 - sn)\n",
"z2 = wc /10; // z2 = 1 / T2 :1 decade below our new gain cross freq. \n",
"p2 = z2 / beta;\n",
"disp((%s + z2)/(%s + p2),'Gclead = '); \n",
"Gclead = (s + z2)/(s + p2);\n",
"z1 = 0.7 ; //corner frequencies are around w = 7 <-> -20db\n",
"p1 = 7;\n",
"disp((%s + z1)/(%s + p1),'Gclag = '); \n",
"Gclag = (s + z1)/(s + p1);\n",
"Gc = K * Gclag * Gclead;\n",
"GGc = syslin('c',Gc * G);\n",
"scf();\n",
"shmargins(GGc);"
   ]
   }
,
{
		   "cell_type": "markdown",
		   "metadata": {},
		   "source": [
			"## Example 7.28_2: Evaluating_Lag_Lead_compensated_system.sce"
		   ]
		  },
  {
"cell_type": "code",
	   "execution_count": null,
	   "metadata": {
	    "collapsed": true
	   },
	   "outputs": [],
"source": [
"// Example 7-26-2\n",
"// Evaluating Lag Lead compensated system\n",
"clear; clc;\n",
"xdel(winsid());  //close all windows\n",
"// please edit the path\n",
"// cd '/<your code directory>/';\n",
"// exec('plotresp.sci');\n",
"s = %s;\n",
"G = 1 / (s * (s + 1) * (s + 2));\n",
"Gc = 20 * (s + 0.7) * (s + 0.15) / (s + 7) / (s + 0.015);\n",
"GGc = G*Gc;\n",
"H = syslin('c',G /. 1);\n",
"Hc = syslin('c',GGc /. 1);\n",
"t = 0:0.1:30;\n",
"u1 = ones(1,length(t)); //step response\n",
"u2 = t;                 //ramp response\n",
"subplot(2,1,1);plotresp(u1,t,H,'');\n",
"plotresp(u1,t,Hc,'Unit step response');\n",
"xstring(3,0.8,'uncompensated system');\n",
"xstring(0.7,0.6,'compensated system');\n",
"subplot(2,1,2);plotresp(u2,t,H,'');\n",
"plotresp(u2,t,Hc,'Unit ramp response');\n",
"xstring(10,7,'uncompensated system');\n",
"xstring(2,0.5,'compensated system');"
   ]
   }
,
{
		   "cell_type": "markdown",
		   "metadata": {},
		   "source": [
			"## Example 7.2: Steady_state_sinusoidal_output_lag_and_lead.sce"
		   ]
		  },
  {
"cell_type": "code",
	   "execution_count": null,
	   "metadata": {
	    "collapsed": true
	   },
	   "outputs": [],
"source": [
"// Example 7-2\n",
"// Steady state sinusoidal output lag and lead\n",
"clear; clc;\n",
"xdel(winsid());  //close all windows\n",
"// please set the path\n",
"// cd '/<your code directory>/'\n",
"// exec('plotresp.sci')\n",
"s = %s;\n",
"T1 = 1;\n",
"T2 = 5;\n",
"a = s + 1/T1;\n",
"b = s + 1/T2;\n",
"w = 1;\n",
"G1 = syslin('c',a,b);\n",
"G2 = syslin('c',b,a);\n",
"t = 0:0.1:50;\n",
"u = sin(w*t);\n",
"plotresp(u,t,G1,'Response to sinusoidal input');\n",
"plotresp(u,t,G2,'Response to sinusoidal input'); \n",
"xstring(17,1.4,'Lead network T1 > T2 : lead network');\n",
"xstring(17,-0.8,'Lag network T1 > T2 : lead network');"
   ]
   }
,
{
		   "cell_type": "markdown",
		   "metadata": {},
		   "source": [
			"## Example 7.3: Bode_Plot_in_Hz.sce"
		   ]
		  },
  {
"cell_type": "code",
	   "execution_count": null,
	   "metadata": {
	    "collapsed": true
	   },
	   "outputs": [],
"source": [
"// Example 7-3\n",
"// Bode Plot in Hz\n",
"clear; clc;\n",
"xdel(winsid());  //close all windows\n",
"s = %s;\n",
"num = 10*(s + 3);\n",
"den = s * (s + 2) * (s^2 + s + 2);\n",
"G = syslin('c',num,den);\n",
"bode(G);\n",
"xtitle('Bode plot of G(s) = [10*(s + 3)]/[s*(s + 2)*(s^2 + s + 2)]');"
   ]
   }
,
{
		   "cell_type": "markdown",
		   "metadata": {},
		   "source": [
			"## Example 7.4: Bode_Plot_with_transport_lag.sce"
		   ]
		  },
  {
"cell_type": "code",
	   "execution_count": null,
	   "metadata": {
	    "collapsed": true
	   },
	   "outputs": [],
"source": [
"// Example 7-4\n",
"// Bode Plot with transport lag\n",
"clear; clc;\n",
"xdel(winsid());  //close all windows\n",
"omega = logspace(-1,1,100);\n",
"repf = exp(%i*omega*-0.5) ./ (ones(1,length(omega)) + %i*omega);\n",
"bode(omega,repf);\n",
"xtitle('Bode plot of G(s) = exp(-0.5jw) / [1 + jw]','rad/s');\n",
"a = gcf();set(a.children(1).x_label,'text','rad/s');"
   ]
   }
,
{
		   "cell_type": "markdown",
		   "metadata": {},
		   "source": [
			"## Example 7.5: Bode_Plot_in_rad_per_s.sce"
		   ]
		  },
  {
"cell_type": "code",
	   "execution_count": null,
	   "metadata": {
	    "collapsed": true
	   },
	   "outputs": [],
"source": [
"// Example 7-5\n",
"// Bode Plot in rad/s\n",
"clear; clc;\n",
"xdel(winsid());  //close all windows\n",
"s = %s;\n",
"num = 25;\n",
"den = s^2 + 4*s + 25;\n",
"G = syslin('c',num,den);\n",
"bode(G);\n",
"xtitle('Bode plot of G(s) = 25 / s^2 + 4*s + 25');\n",
"// Note, bode plots in Sci-Lab use the frequency in Hz and not in\n",
"// rad/s . If we wish to get the plot with rad/s we can...\n",
"omega = logspace(-2,2,50);\n",
"f = omega / 2 / %pi;\n",
"repf = repfreq(G,f);    // calculate the frequency response\n",
"                        // repf is a vector of complex numbers\n",
"scf();\n",
"bode(omega,repf);\n",
"xtitle('Bode plot of G(s) = 25 / s^2 + 4*s + 25','rad/s');\n",
"a = gcf();set(a.children(1).x_label,'text','rad/s');"
   ]
   }
,
{
		   "cell_type": "markdown",
		   "metadata": {},
		   "source": [
			"## Example 7.6: Bode_plot_in_rad_per_s.sce"
		   ]
		  },
  {
"cell_type": "code",
	   "execution_count": null,
	   "metadata": {
	    "collapsed": true
	   },
	   "outputs": [],
"source": [
"// Example 7-6\n",
"// Bode Plot in rad/s\n",
"// Plots made with angular freuqency - rad/s on the x-axis\n",
"clear; clc;\n",
"xdel(winsid());  //close all windows\n",
"s = %s / 2 / %pi;  //correction to get frequency axis in rad/s\n",
"num = 9 * (s^2 + 0.2*s + 1);\n",
"den = s * (s^2 + 1.2*s + 9);\n",
"G = syslin('c',num,den);\n",
"              \n",
"bode(G,0.01,100);\n",
"xtitle('Bode plot of G(s) = 9*(s^2 + 0.2*s + 1) / s*(s^2 + 1.2*s + 9)','rad/s');\n",
"a = gcf();set(a.children(1).x_label,'text','rad/s');"
   ]
   }
,
{
		   "cell_type": "markdown",
		   "metadata": {},
		   "source": [
			"## Example 7.7: Bode_Plot_for_a_system_in_State_Space.sce"
		   ]
		  },
  {
"cell_type": "code",
	   "execution_count": null,
	   "metadata": {
	    "collapsed": true
	   },
	   "outputs": [],
"source": [
"// Example 7-7\n",
"// Bode Plot for a system in State Space representation\n",
"clear; clc;\n",
"xdel(winsid());  //close all windows\n",
"A = [0 1; -25 -4];\n",
"B = [0 ; 25];\n",
"C = [1 0];\n",
"D = [0];\n",
"G = syslin('c',A,B,C,D);\n",
"omega = logspace(-1,2,100);\n",
"f = omega / 2 / %pi;\n",
"repf = repfreq(G,f);    // Frequency response\n",
"              \n",
"bode(omega,repf);\n",
"xtitle('Bode Diagram','rad/s');\n",
"a = gcf();set(a.children(1).x_label,'text','rad/s');"
   ]
   }
,
{
		   "cell_type": "markdown",
		   "metadata": {},
		   "source": [
			"## Example 7.8: Polar_Plot_of_a_linear_system.sce"
		   ]
		  },
  {
"cell_type": "code",
	   "execution_count": null,
	   "metadata": {
	    "collapsed": true
	   },
	   "outputs": [],
"source": [
"// Example 7-8\n",
"// Polar Plot of a linear system\n",
"clear; clc;\n",
"xdel(winsid());  //close all windows\n",
"// please edit the path\n",
"// cd '/<your code directory>/';\n",
"// exec('spolarplot.sci');\n",
"T = 10; s = %s;\n",
"omega = logspace(-1,3,1000);\n",
"G = syslin('c',1,s*(T*s + 1));\n",
"spolarplot();"
   ]
   }
,
{
		   "cell_type": "markdown",
		   "metadata": {},
		   "source": [
			"## Example 7.9: Polar_Plot_with_transport_lag.sce"
		   ]
		  },
  {
"cell_type": "code",
	   "execution_count": null,
	   "metadata": {
	    "collapsed": true
	   },
	   "outputs": [],
"source": [
"// Example 7-9\n",
"// Polar Plot with transport lag\n",
"clear; clc;\n",
"xdel(winsid());  //close all windows\n",
"T = 10;\n",
"L = 100;\n",
"omega = logspace(-1,2,1000);\n",
"s = %i * omega;\n",
"den = s .* (T*s + 1);\n",
"num = exp(-1*s*L);\n",
"repf = num ./ den;\n",
"rad = abs(repf);\n",
"theta = atan(imag(repf),real(repf));\n",
"polarplot(theta,rad,style = 2);"
   ]
   }
,
{
		   "cell_type": "markdown",
		   "metadata": {},
		   "source": [
			"## Example 7.a_10: Nyquist_Plot_with_transport_lag.sce"
		   ]
		  },
  {
"cell_type": "code",
	   "execution_count": null,
	   "metadata": {
	    "collapsed": true
	   },
	   "outputs": [],
"source": [
"// Example A-7-10\n",
"// Nyquist Plot with transport lag\n",
"clear; clc;\n",
"xdel(winsid());  //close all windows\n",
"omega = logspace(-2,2,100);\n",
"f = omega ./ (2*%pi);\n",
"repf = 2.65 * exp(%i*omega*-0.8) ./ (ones(1,length(omega)) + %i*omega);\n",
"nyquist(f,repf);\n",
"plot(-1,0,'.');\n",
"xstring(-0.9,0,'passes -1',0,1);"
   ]
   }
,
{
		   "cell_type": "markdown",
		   "metadata": {},
		   "source": [
			"## Example 7.a_11: Nyquist_Plot.sce"
		   ]
		  },
  {
"cell_type": "code",
	   "execution_count": null,
	   "metadata": {
	    "collapsed": true
	   },
	   "outputs": [],
"source": [
"// Example A-7-11\n",
"// Nyquist Plot\n",
"clear; clc;\n",
"xdel(winsid());  //close all windows\n",
"s = %s /2 /%pi;\n",
"num = 20 * ( s^2 + s + 0.5);\n",
"den = s * (s + 1) * (s + 10);\n",
"G = syslin('c',num,den);\n",
"a = gca();\n",
"a.clip_state = 'on';\n",
"nyquist(G,-1000,1000);\n",
"xgrid(color('gray'));\n",
"a.data_bounds = [-2 -3 ; 3 3];\n",
"a.box = 'on';"
   ]
   }
,
{
		   "cell_type": "markdown",
		   "metadata": {},
		   "source": [
			"## Example 7.a_12: Nyquist_plot_for_positive_omega.sce"
		   ]
		  },
  {
"cell_type": "code",
	   "execution_count": null,
	   "metadata": {
	    "collapsed": true
	   },
	   "outputs": [],
"source": [
"// Example A-7-12\n",
"// Nyquist plot for positive omega\n",
"clear; clc;\n",
"xdel(winsid());  //close all windows\n",
"s = %s /2 /%pi;\n",
"num = 20 * ( s^2 + s + 0.5);\n",
"den = s * (s + 1) * (s + 10);\n",
"G = syslin('c',num,den);\n",
"a = gca();\n",
"a.clip_state = 'on';\n",
"nyquist(G,0.01,1000);\n",
"xgrid(color('gray'));\n",
"a.data_bounds = [-3 -5 ; 3 1];\n",
"a.box = 'on';"
   ]
   }
,
{
		   "cell_type": "markdown",
		   "metadata": {},
		   "source": [
			"## Example 7.a_13: Nyquist_plot_with_points_at_selected_frequencies.sce"
		   ]
		  },
  {
"cell_type": "code",
	   "execution_count": null,
	   "metadata": {
	    "collapsed": true
	   },
	   "outputs": [],
"source": [
"// Example A-7-13\n",
"// Nyquist plot with points plotted at selected frequencies \n",
"clear; clc;\n",
"xdel(winsid());  //close all windows\n",
"s = %s /2 /%pi;\n",
"num = 20 * ( s^2 + s + 0.5);\n",
"den = s * (s + 1) * (s + 10);\n",
"G = syslin('c',num,den);\n",
"a = gca();\n",
"a.clip_state = 'on';\n",
"nyquist(G,0.01,1000);\n",
"xtitle('Nyquist Diagram');\n",
"a.data_bounds = [-2 -5 ; 3 0];\n",
"a.box = 'on';\n",
"omega = [0.2 0.3 0.5 1 2 6 10 20];\n",
"z = repfreq(G,omega);\n",
"plot(real(z), imag(z),'.k');\n",
"x = [1     1.1  1.2   1.3   1.8  1.5  0.8  0.25];\n",
"y = [-4.7 -3.3 -1.7  -0.51 -0.4  -1  -1.3  -1];\n",
"text = ['w = 0.2' '0.3' '0.5' '1.0' '2.0' '6.0' '10' '20'];\n",
"xstring(x,y,text,0,1);\n",
"[phi db] =phasemag(z);\n",
"mag = abs(z);\n",
"disp([omega' mag' phi'] , '[w mag phi] = ');"
   ]
   }
,
{
		   "cell_type": "markdown",
		   "metadata": {},
		   "source": [
			"## Example 7.a_14: Nyquist_plot_for_positive_and_negative_feedback.sce"
		   ]
		  },
  {
"cell_type": "code",
	   "execution_count": null,
	   "metadata": {
	    "collapsed": true
	   },
	   "outputs": [],
"source": [
"// Example A-7-14\n",
"// Nyquist plot for positive and negative feedback\n",
"clear; clc;\n",
"xdel(winsid());  //close all windows\n",
"s = %s;\n",
"num = s^2 + 4*s + 6;\n",
"den = s^2 + 5*s + 4;\n",
"G = syslin('c',num,den);\n",
"H = syslin('c',-1 * num,den);\n",
"nyquist(G,-100,100);\n",
"nyquist(H,-100,100);\n",
"xtitle('Nyquist plot for G(s) and -G(s)');\n",
"a = gca(); a.data_bounds = [-2 -1; 2 1];"
   ]
   }
,
{
		   "cell_type": "markdown",
		   "metadata": {},
		   "source": [
			"## Example 7.a_18: Verifying_experimentally_derived_Transfer_function.sce"
		   ]
		  },
  {
"cell_type": "code",
	   "execution_count": null,
	   "metadata": {
	    "collapsed": true
	   },
	   "outputs": [],
"source": [
"// Example A-7-18\n",
"// Verifying experimentally derived Transfer function\n",
"clear; clc;\n",
"xdel(winsid());  //close all windows\n",
"s = %s /2 /%pi; // frequencies in rad/s\n",
"G = syslin('c', 4*(2*s + 1), s*s*(s^2 + 0.4*s + 4) );\n",
"bode(G,0.1,100);\n",
"xtitle('Bode plot of G(s) = 4*(2*s + 1)/[s*s*(s^2 + 0.4*s + 4)]','rad/s');\n",
"a = gcf();set(a.children(1).x_label,'text','rad/s');"
   ]
   }
,
{
		   "cell_type": "markdown",
		   "metadata": {},
		   "source": [
			"## Example 7.a_1: Bode_plot.sce"
		   ]
		  },
  {
"cell_type": "code",
	   "execution_count": null,
	   "metadata": {
	    "collapsed": true
	   },
	   "outputs": [],
"source": [
"// Example A-7-1\n",
"// Bode plot\n",
"clear; clc;\n",
"xdel(winsid());  //close all windows\n",
"s = %s /2 /%pi; // frequencies in rad/s\n",
"G = syslin('c', 10*(s + 1), (s + 2)*(s + 5));\n",
"bode(G,0.1,100);\n",
"xtitle('Bode plot of G(s) = 10*(s + 1)/[(s + 2)*(s + 5)]','rad/s');\n",
"a = gcf();set(a.children(1).x_label,'text','rad/s');"
   ]
   }
,
{
		   "cell_type": "markdown",
		   "metadata": {},
		   "source": [
			"## Example 7.a_23: Nichols_plot.sce"
		   ]
		  },
  {
"cell_type": "code",
	   "execution_count": null,
	   "metadata": {
	    "collapsed": true
	   },
	   "outputs": [],
"source": [
"// Example A-7-23\n",
"// Nichols plot\n",
"clear; clc;\n",
"xdel(winsid());  //close all windows\n",
"s = %s;\n",
"G = syslin('c',9 , s*(s+0.5)*(s^2 + 0.6*s + 10) );\n",
"black(G);\n",
"chart([8 -4],[],list(1,0));\n",
"xgrid(color('gray'));"
   ]
   }
,
{
		   "cell_type": "markdown",
		   "metadata": {},
		   "source": [
			"## Example 7.a_3: Bode_plot_for_system_in_state_space.sce"
		   ]
		  },
  {
"cell_type": "code",
	   "execution_count": null,
	   "metadata": {
	    "collapsed": true
	   },
	   "outputs": [],
"source": [
"// Example A-7-3\n",
"// Bode plot for system in state space\n",
"clear; clc;\n",
"xdel(winsid());  //close all windows\n",
"// please edit the path\n",
"// cd '/<your code directory>/';\n",
"// exec('transferf.sci');\n",
"A = [0 1; -25 -4];\n",
"B = [1 1; 0 1];\n",
"C = [1 0; 0 1];\n",
"D = zeros(2,2);\n",
"G = transferf(A,B,C,D);disp(G,'transfer function = ');\n",
"subplot(2,2,1);\n",
"bode(G(1,1));\n",
"subplot(2,2,2);\n",
"bode(G(1,2));\n",
"subplot(2,2,3);\n",
"bode(G(2,1));\n",
"subplot(2,2,4);\n",
"bode(G(2,2));"
   ]
   }
,
{
		   "cell_type": "markdown",
		   "metadata": {},
		   "source": [
			"## Example 7.a_4: Bode_plot_for_different_gain_K.sce"
		   ]
		  },
  {
"cell_type": "code",
	   "execution_count": null,
	   "metadata": {
	    "collapsed": true
	   },
	   "outputs": [],
"source": [
"// Example A-7-4\n",
"// Bode plot for different gain K\n",
"clear; clc;\n",
"xdel(winsid());  //close all windows\n",
"s = %s /2/%pi ;\n",
"P = s*(s+1)*(s+5);\n",
"num = [1,10,20];\n",
"den = [P+1 , P+10, P+20];\n",
"Gtf = num ./ den;\n",
"G = syslin('c',Gtf);\n",
"bode([G(1,1); G(1,2); G(1,3)],0.1,100,['K = 1';'K = 10';'K = 20'] );\n",
"xtitle('','rad/s');\n",
"a = gcf();set(a.children(1).x_label,'text','rad/s');"
   ]
   }
,
{
		   "cell_type": "markdown",
		   "metadata": {},
		   "source": [
			"## Example 7.a_8: Stability_check.sce"
		   ]
		  },
  {
"cell_type": "code",
	   "execution_count": null,
	   "metadata": {
	    "collapsed": true
	   },
	   "outputs": [],
"source": [
"// Example A-7-8\n",
"// Stability check\n",
"clear; clc;\n",
"xdel(winsid());  //close all windows\n",
"s = %s;\n",
"K = 2;\n",
"P = s*(s+1)*(2*s+1) + K;\n",
"disp(routh_t(P))\n",
"// unstable since two roots are in RHP"
   ]
   }
,
{
		   "cell_type": "markdown",
		   "metadata": {},
		   "source": [
			"## Example 7.i_1: Bode_plot_for_2nd_order_systems_with_varying_zeta.sce"
		   ]
		  },
  {
"cell_type": "code",
	   "execution_count": null,
	   "metadata": {
	    "collapsed": true
	   },
	   "outputs": [],
"source": [
"// Illustration 7-1\n",
"// Bode plot of second order systems with varying damping (zeta)\n",
"// With refernce to section 7.2  (Figure 7.9)\n",
"clear; clc;\n",
"xdel(winsid());  //close all windows\n",
"s = %s;\n",
"// Taking wn = 1 in all cases\n",
"zeta = [0.1 0.2 0.3 0.5 0.7 1.0];\n",
"N = ones(6,1);\n",
"D = zeros(6,1);\n",
"for i = 1:6 \n",
"  D(i) = s^2 + 2*zeta(i)*s + 1;  \n",
"end\n",
"H = syslin('c',N,D);\n",
"omega = logspace(-1,1,100);\n",
"f = omega / 2 / %pi;\n",
"repf = repfreq(H,f);    // Frequency response\n",
"              \n",
"bode(omega,repf, ['zeta = 0.1',' 0.2',' 0.3',' 0.5',' 0.7',' 1.0']);\n",
"xtitle('Bode plot of second order systems','rad/s');\n",
"a = gcf();set(a.children(1).x_label,'text','rad/s');"
   ]
   }
],
"metadata": {
		  "kernelspec": {
		   "display_name": "Scilab",
		   "language": "scilab",
		   "name": "scilab"
		  },
		  "language_info": {
		   "file_extension": ".sce",
		   "help_links": [
			{
			 "text": "MetaKernel Magics",
			 "url": "https://github.com/calysto/metakernel/blob/master/metakernel/magics/README.md"
			}
		   ],
		   "mimetype": "text/x-octave",
		   "name": "scilab",
		   "version": "0.7.1"
		  }
		 },
		 "nbformat": 4,
		 "nbformat_minor": 0
}
