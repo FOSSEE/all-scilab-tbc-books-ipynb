{
"cells": [
 {
		   "cell_type": "markdown",
	   "metadata": {},
	   "source": [
       "# Chapter 10: Control Systems Design in State Space"
	   ]
	},
{
		   "cell_type": "markdown",
		   "metadata": {},
		   "source": [
			"## Example 10.10: Design_of_quadratic_optimal_regulator_system.sce"
		   ]
		  },
  {
"cell_type": "code",
	   "execution_count": null,
	   "metadata": {
	    "collapsed": true
	   },
	   "outputs": [],
"source": [
"// Example 10-10\n",
"// Design of quadratic optimal regulator system\n",
"clear; clc;\n",
"xdel(winsid());  //close all windows\n",
"mode(0);\n",
"A = [-1 1;0 2];\n",
"B = [1;0];\n",
"Q = [1 0; 0 1];\n",
"R = [1];\n",
"// solve the riccati equation\n",
"P = riccati(A, B*inv(R)*B', Q,'c')\n",
"K = inv(R)*B'*P\n",
"E = spec(A - B*K) // eigen values\n",
"// when a solution does not exist\n",
"// a different method is used - least square solution"
   ]
   }
,
{
		   "cell_type": "markdown",
		   "metadata": {},
		   "source": [
			"## Example 10.11: Design_of_quadratic_optimal_regulator_system.sce"
		   ]
		  },
  {
"cell_type": "code",
	   "execution_count": null,
	   "metadata": {
	    "collapsed": true
	   },
	   "outputs": [],
"source": [
"// Example 10-11\n",
"// Design of quadratic optimal regulator system\n",
"clear; clc;\n",
"xdel(winsid());  //close all windows\n",
"mode(0);\n",
"A = [0 1;0 -1];\n",
"B = [0;1];\n",
"Q = [1 0; 0 1];\n",
"R = [1];\n",
"// solve the riccati equation\n",
"P = riccati(A, B*inv(R)*B', Q,'c')\n",
"K = inv(R)*B'*P\n",
"E = spec(A - B*K) // eigen values"
   ]
   }
,
{
		   "cell_type": "markdown",
		   "metadata": {},
		   "source": [
			"## Example 10.12: Design_of_quadratic_optimal_regulator_system_and_finding_the_response.sce"
		   ]
		  },
  {
"cell_type": "code",
	   "execution_count": null,
	   "metadata": {
	    "collapsed": true
	   },
	   "outputs": [],
"source": [
"// Example 10-12\n",
"// Design of quadratic optimal regulator system and finding the response\n",
"clear; clc;\n",
"xdel(winsid());  //close all windows\n",
"mode(0);\n",
"A = [0 1 0; 0 0 1; -35 -27 -9];\n",
"B = [0; 0; 1];\n",
"Q = [1 0 0; 0 1 0; 0 0 1];\n",
"R = [1];\n",
"// solve the riccati equation\n",
"P = riccati(A, B*inv(R)*B', Q,'c')\n",
"K = inv(R)*B'*P\n",
"E = spec(A - B*K) // eigen values\n",
"x0 = [1; 0; 0];  // initial state\n",
"G = syslin('c',(A - B*K),[0;0;0],[0 0 0],[0], x0);\n",
"t = 0:0.01:8;\n",
"u = zeros(1,length(t)); \n",
"[y x] = csim(u,t,G);         \n",
"xtitle('Response to initial condition','t (sec)','x1');\n",
"subplot(3,1,1);xgrid(color('gray'));\n",
"plot(t,x(1,:));\n",
"subplot(3,1,2);xgrid(color('gray'));\n",
"xtitle('','t (sec)','x2');\n",
"plot(t,x(2,:));\n",
"subplot(3,1,3);xgrid(color('gray'));\n",
"xtitle('','t (sec)','x3');\n",
"plot(t,x(3,:));"
   ]
   }
,
{
		   "cell_type": "markdown",
		   "metadata": {},
		   "source": [
			"## Example 10.13: Design_of_quadratic_optimal_regulator_system_and_finding_the_response.sce"
		   ]
		  },
  {
"cell_type": "code",
	   "execution_count": null,
	   "metadata": {
	    "collapsed": true
	   },
	   "outputs": [],
"source": [
"// Example 10-13\n",
"// Design of quadratic optimal regulator system\n",
"clear; clc;\n",
"xdel(winsid());  //close all windows\n",
"A = [0 1 0; 0 0 1; 0 -2 -3];\n",
"B = [0; 0; 1];\n",
"C = [1 0 0];\n",
"Q = [100 0 0; 0 1 0; 0 0 1];\n",
"R = [0.01];\n",
"// solve the riccati equation\n",
"P = riccati(A, B*inv(R)*B', Q,'c');\n",
"K = inv(R)*B'*P;\n",
"disp(K,'K = ');\n",
"k1 = K(1);\n",
"G = syslin('c',A - B*K, B*k1 , C, [0]);\n",
"t = 0:0.01:8; \n",
"u = ones(1,length(t));\n",
"[y,x] = csim(u,t,G);\n",
"plot(t,x);\n",
"xgrid(color('gray'));\n",
"xtitle('Step-Response','t (sec)','state variables');\n",
"legend('x1 (= y)','x2','x3');"
   ]
   }
,
{
		   "cell_type": "markdown",
		   "metadata": {},
		   "source": [
			"## Example 10.1: Gain_matrix_using_characteristic_eq_and_Ackermanns_formula.sce"
		   ]
		  },
  {
"cell_type": "code",
	   "execution_count": null,
	   "metadata": {
	    "collapsed": true
	   },
	   "outputs": [],
"source": [
"// Example 10-1\n",
"// Gain matrix using characteristic eq and Ackermanns formula\n",
"clear; clc;\n",
"xdel(winsid());  //close all windows\n",
"mode(0);\n",
"// please edit the path\n",
"// cd '<path to dependencies>';\n",
"// exec('ackermann.sci');\n",
"A = [0 1 0; 0 0 1;-1 -5 -6];\n",
"B = [0; 0; 1];\n",
"P = [-2 + %i*4 , -2 - %i*4, -10];\n",
"// Method 1\n",
"phi = poly(spec(A),'s');\n",
"disp(phi,'Given systems characteristic eq = ');\n",
"cf = coeff(phi);\n",
"a = cf(1:$-1)\n",
"phid = poly(P,'s');\n",
"disp(phid,'Desired characteristic eq = ');\n",
"cf = coeff(phid);\n",
"alpha = cf(1:$-1)\n",
"T = eye(3,3) // in this case\n",
"K = (alpha - a) * inv(T)\n",
"// Method 2\n",
"[K, phiA] = ackermann(A,B,P);\n",
"disp(cont_mat(A,B), ' controllability matrix = ');\n",
"disp(phiA,'phi(A) =');\n",
"disp(K,'using ackermanns formula K = ');"
   ]
   }
,
{
		   "cell_type": "markdown",
		   "metadata": {},
		   "source": [
			"## Example 10.2: Gain_matrix_using_ppol_and_Ackermanns_formula.sce"
		   ]
		  },
  {
"cell_type": "code",
	   "execution_count": null,
	   "metadata": {
	    "collapsed": true
	   },
	   "outputs": [],
"source": [
"// Example 10-2\n",
"// Gain matrix using ppol and Ackermanns formula\n",
"clear; clc;\n",
"xdel(winsid());  //close all windows\n",
"// please edit the path\n",
"// cd '<path to dependencies>';\n",
"// exec('ackermann.sci');\n",
"A = [0 1 0; 0 0 1;-1 -5 -6];\n",
"B = [0; 0; 1];\n",
"P = [-2 + %i*4 , -2 - %i*4, -10];\n",
"K = ackermann(A,B,P);disp(K,'using ackermanns formula K = ');\n",
"K = ppol(A,B,P);   disp(K,'using ppol function K = ')\n",
"// ackermann's formula is computationally tedious \n",
"// and hence avoided"
   ]
   }
,
{
		   "cell_type": "markdown",
		   "metadata": {},
		   "source": [
			"## Example 10.3: Response_to_initial_condition.sce"
		   ]
		  },
  {
"cell_type": "code",
	   "execution_count": null,
	   "metadata": {
	    "collapsed": true
	   },
	   "outputs": [],
"source": [
"// Example 10-3\n",
"// Response to initial condition\n",
"clear; clc;\n",
"xdel(winsid());  //close all windows\n",
"A = [0 1 0; 0 0 1;-1 -5 -6];\n",
"B = [0; 0; 1];\n",
"C = [0 0 0];\n",
"D = 0;\n",
"K = [199 55 8];\n",
"x0 = [1; 0; 0];  // initial state\n",
"G = syslin('c',(A - B*K),C',C,D,x0);\n",
"t = 0:0.01:4;\n",
"u = zeros(1,length(t));  // zero input response\n",
"[y x] = csim(u,t,G);\n",
"xtitle('Response to initial condition','t (sec)','x1');\n",
"subplot(3,1,1);xgrid(color('gray'));\n",
"plot(t,x(1,:));\n",
"subplot(3,1,2);xgrid(color('gray'));\n",
"xtitle('','t (sec)','x2');\n",
"plot(t,x(2,:));\n",
"subplot(3,1,3);xgrid(color('gray'));\n",
"xtitle('','t (sec)','x3');\n",
"plot(t,x(3,:));"
   ]
   }
,
{
		   "cell_type": "markdown",
		   "metadata": {},
		   "source": [
			"## Example 10.4: Design_of_servo_system_with_integrator_in_the_plant.sce"
		   ]
		  },
  {
"cell_type": "code",
	   "execution_count": null,
	   "metadata": {
	    "collapsed": true
	   },
	   "outputs": [],
"source": [
"// Example 10-4\n",
"// Design of servo system with integrator in the plant\n",
"clear; clc;\n",
"xdel(winsid());  //close all windows\n",
"mode(0)\n",
"// please edit the path\n",
"// cd '<path to dependencies>';\n",
"// exec('plotresp.sci');\n",
"s = %s;\n",
"Gp = cont_frm( 1, s*(s+1)*(s+2));\n",
"A = Gp.A\n",
"B = Gp.B\n",
"J = [-2 + %i*2*sqrt(3) , -2 - %i*2*sqrt(3), -10];\n",
"K = ppol(A,B,J)\n",
"A1 = A - B*K;\n",
"B1 = [0; 0; 160];\n",
"C1 = [1 0 0];\n",
"D1 = [0];\n",
"G = syslin('c',A1,B1,C1,D1); ssprint(G);\n",
"t = 0:0.01:5;\n",
"u = ones(1,length(t));\n",
"plotresp(u,t,G,'Unit-Step Response of servo system');"
   ]
   }
,
{
		   "cell_type": "markdown",
		   "metadata": {},
		   "source": [
			"## Example 10.5: Design_of_servo_system_without_integrator_in_the_plant.sce"
		   ]
		  },
  {
"cell_type": "code",
	   "execution_count": null,
	   "metadata": {
	    "collapsed": true
	   },
	   "outputs": [],
"source": [
"// Example 10-5\n",
"// Design of servo system without integrator in the plant\n",
"clear; clc;\n",
"xdel(winsid());  //close all windows\n",
"mode(0);\n",
"function smallplot(i)\n",
"  subplot(3,2,i);xgrid(color('gray'));\n",
"  plot(t,x(i,:));\n",
"endfunction\n",
"// Plant\n",
"A = [0 1 0 0; 20.601 0 0 0; 0 0 0 1; -0.4905 0 0 0];\n",
"B = [0; -1; 0; 0.5];\n",
"C = [0 0 1 0];\n",
"J = [-1 + %i*sqrt(3) , -1 - %i*sqrt(3), -5, -5, -5];\n",
"// Error dynamics with the error as a state variable \n",
"Ahat = [A zeros(4,1); -C 0];\n",
"Bhat = [B ; 0];\n",
"Khat = ppol(Ahat,Bhat,J)\n",
"K = Khat(1: $-1)\n",
"k1 = -Khat($) \n",
"// Over all system with the error as a state variable \n",
"A1 = Ahat - Bhat*Khat;\n",
"B1 = [zeros(4,1); 1];\n",
"C1 = [C , 0];\n",
"D1 = [0];\n",
"G = syslin('c',A1,B1,C1,D1);\n",
"t = 0:0.02:6;\n",
"u = ones(1,length(t));\n",
"[y ,x] = csim(u,t,G);\n",
"smallplot(1);\n",
"xtitle('x1','t (sec)','');\n",
"smallplot(2);\n",
"xtitle('x2','t (sec)','x2');\n",
"smallplot(3);\n",
"xtitle('','t (sec)','x3');\n",
"smallplot(4);\n",
"xtitle('','t (sec)','x4');\n",
"smallplot(5);\n",
"xtitle('','t (sec)','error');"
   ]
   }
,
{
		   "cell_type": "markdown",
		   "metadata": {},
		   "source": [
			"## Example 10.6: Observer_Gain_matrix_using_ch_eq_and_Ackermanns_formula.sce"
		   ]
		  },
  {
"cell_type": "code",
	   "execution_count": null,
	   "metadata": {
	    "collapsed": true
	   },
	   "outputs": [],
"source": [
"// Example 10-6\n",
"// Observer Gain matrix using ch eq and Ackermanns formula\n",
"clear; clc;\n",
"xdel(winsid());  //close all windows\n",
"mode(0);\n",
"// please edit the path\n",
"// cd '<path to dependencies>';\n",
"// exec('ackermann.sci');\n",
"A = [0 20.6; 1 0];\n",
"C = [0 1];\n",
"P = [-10 -10];\n",
"// Method 1\n",
"phi = poly(spec(A),'s');\n",
"disp(phi,'Given systems characteristic eq = ');\n",
"cf = coeff(phi);\n",
"a = cf(1:$-1)'\n",
"phid = poly(P,'s');\n",
"disp(phid,'Desired characteristic eq = ');\n",
"cf = coeff(phid);\n",
"alpha = cf(1:$-1)'\n",
"T = eye(2,2) // in this case\n",
"Ke = inv(T) * (alpha - a) \n",
"// Method 2\n",
"[Ke, phiA] = ackermann(A',C',P);\n",
"disp(obsv_mat(A,C), 'observability matrix = ');\n",
"disp(phiA','phi(A) =');\n",
"disp(Ke','using ackermanns formula Ke = ');"
   ]
   }
,
{
		   "cell_type": "markdown",
		   "metadata": {},
		   "source": [
			"## Example 10.7: Designing_a_controller_using_a_full_order_observer.sce"
		   ]
		  },
  {
"cell_type": "code",
	   "execution_count": null,
	   "metadata": {
	    "collapsed": true
	   },
	   "outputs": [],
"source": [
"// Example 10-7\n",
"// Designing a controller using a full order observer\n",
"clear; clc;\n",
"xdel(winsid());  //close all windows\n",
"mode(0);\n",
"function smallplot(i)\n",
"  subplot(2,2,i);xgrid(color('gray'));\n",
"  plot(t,x(i,:));\n",
"endfunction\n",
"  \n",
"s = %s;\n",
"A = [0 1; 20.6 0];\n",
"B = [0; 1];\n",
"C = [1 0];\n",
"D = [0];\n",
"P = [-1.8 + %i*2.4 ,-1.8 - %i*2.4 ]; \n",
"Q = [-8 -8];  // observer poles\n",
"K = ppol(A,B,P)\n",
"Ke = ppol(A',C',Q)'\n",
"// The transfer function of observer controller\n",
"A1 = A - B*K - Ke*C\n",
"M = s*eye(A1) - A1\n",
"UbyE = K * inv(M) * Ke;\n",
"disp(UbyE, 'U(s) / E(s) =');\n",
"// Plant dynamics\n",
"Gp = syslin('c',A,B,C,D);\n",
"disp('plant  dynamics'); ssprint(Gp);\n",
"YbyU = ss2tf(Gp)\n",
"// Observer controller dynamics\n",
"disp('observer controller dynamics (x = xbar) ,(u = y), (y = u)');\n",
"Goc = syslin('c',A1,Ke,-K,[0]);\n",
"ssprint(Goc);\n",
"// Overall System transfer funtion\n",
"GsFullsystem = UbyE * YbyU /. 1\n",
"// Overall System\n",
"x0 = [1; 0; 0.5; 0];  // initial state\n",
"As = [A-B*K, B*K ; zeros(2,2) , A-Ke*C];\n",
"Gss = syslin('c',As,[1;0;0;0], [1 0 0 0], [0],x0);\n",
"// Unit step response\n",
"t = 0:0.01:4;\n",
"u = zeros(1,length(t));\n",
"[y x] = csim(u,t,Gss);\n",
"smallplot(1);\n",
"xtitle('Response to initial condition','t (sec)','x1');\n",
"smallplot(2);\n",
"xtitle('Response to initial condition','t (sec)','x2');\n",
"smallplot(3);\n",
"xtitle('','t (sec)','e1');\n",
"smallplot(4);\n",
"xtitle('','t (sec)','e2');"
   ]
   }
,
{
		   "cell_type": "markdown",
		   "metadata": {},
		   "source": [
			"## Example 10.8: Designing_a_controller_using_a_minimum_order_observer.sce"
		   ]
		  },
  {
"cell_type": "code",
	   "execution_count": null,
	   "metadata": {
	    "collapsed": true
	   },
	   "outputs": [],
"source": [
"// Example 10-8\n",
"// Designing a controller using a minimum order observer\n",
"clear; clc;\n",
"xdel(winsid());  //close all windows\n",
"mode(0);\n",
"A = [0 1 0; 0 0 1; -6 -11 -6];\n",
"B = [0; 0; 1];\n",
"C = [1 0 0];\n",
"D = [0];\n",
"P = [-2 + %i*2*sqrt(3),-2 - %i*2*sqrt(3),-6];\n",
"Q = [-10 -10];  // observer poles\n",
"K = ppol(A,B,P)\n",
"// Observer design\n",
"Aaa = A(1,1)\n",
"Aab = A(1,2:$)\n",
"Aba = A(2:$,1)\n",
"Abb = A(2:$,2:$)\n",
"Ke = ppol(Abb',Aab',Q)'\n",
"Ba = B(1,1)\n",
"Bb = B(2:$,1)\n",
"Ahat = Abb - Ke*Aab;\n",
"disp(Ahat,'Ahat = Abb - Ke*Aab =');\n",
"Bh = Aba - Ke*Aaa;\n",
"disp(Bh,'Aba - Ke*Aaa =');\n",
"Chat = [zeros(1,2); eye(2,2)]\n",
"Dhat = [1; Ke]\n",
"Fhat = Bb - Ke*Ba;\n",
"disp(Fhat,'Fhat = Bb - Ke*Ba =');"
   ]
   }
,
{
		   "cell_type": "markdown",
		   "metadata": {},
		   "source": [
			"## Example 10.9: Design_of_quadratic_optimal_regulator_system.sce"
		   ]
		  },
  {
"cell_type": "code",
	   "execution_count": null,
	   "metadata": {
	    "collapsed": true
	   },
	   "outputs": [],
"source": [
"// Example 10.9\n",
"// Design of quadratic optimal regulator system\n",
"clear; clc;\n",
"xdel(winsid());  //close all windows\n",
"mode(0);\n",
"A = [0 1;0 0];\n",
"B = [0;1];\n",
"Q = [1 0; 0 1];\n",
"R = [1];\n",
"// solve the riccati equation\n",
"P = riccati(A, B*inv(R)*B', Q,'c')\n",
"K = inv(R)*B'*P\n",
"E = spec(A - B*K) // eigen values"
   ]
   }
,
{
		   "cell_type": "markdown",
		   "metadata": {},
		   "source": [
			"## Example 10.a_13: Designing_a_regulator_using_a_minimum_order_observer.sce"
		   ]
		  },
  {
"cell_type": "code",
	   "execution_count": null,
	   "metadata": {
	    "collapsed": true
	   },
	   "outputs": [],
"source": [
"// Example A-10-13\n",
"// Designing a regulator using a minimum order observer\n",
"clear; clc;\n",
"xdel(winsid());  //close all windows\n",
"mode(0);\n",
"function smallplot(i)\n",
"  subplot(3,2,i);xgrid(color('gray'));\n",
"  plot(t,x(i,:));\n",
"endfunction\n",
"A = [0 0 1 0; 0 0 0 1; -36 36 -0.6 0.6; 18 -18 0.3 -0.3];\n",
"B = [0; 0; 1; 0];\n",
"C = [1 0 0 0; 0 1 0 0];\n",
"D = [0;0];\n",
"Gp = syslin('c',A,B,C,D);\n",
"Aab = A(1:2,3:$);\n",
"Abb = A(3:$,3:$);\n",
"P = [-2 + %i*2*sqrt(3),-2 - %i*2*sqrt(3),-10,-10 ] \n",
"Q = [-15 -16]  // observer poles\n",
"K = ppol(A,B,P)\n",
"Ke = ppol(Abb',Aab',Q)'\n",
"Kb = K(3:$);\n",
"AA = [A - B*K , B*Kb; zeros(2,4) , Abb - Ke*Aab]\n",
"// system response to initial conditions \n",
"x0 = [0.1; 0; 0; 0; 0.1; 0.05];\n",
"G = syslin('c',AA,zeros(6,1),zeros(1,6),[0],x0);\n",
"t = 0:0.01:4;\n",
"u = zeros(1,length(t));\n",
"[y x] = csim(u,t,G);\n",
"smallplot(1);\n",
"xtitle('Response to initial condition','t (sec)','x1');\n",
"smallplot(2);\n",
"xtitle('Response to initial condition','t (sec)','x2');\n",
"smallplot(3);\n",
"xtitle('','t (sec)','x3');\n",
"smallplot(4);\n",
"xtitle('','t (sec)','x4');\n",
"smallplot(5);\n",
"xtitle('','t (sec)','e1');\n",
"smallplot(6);\n",
"xtitle('','t (sec)','e2');"
   ]
   }
,
{
		   "cell_type": "markdown",
		   "metadata": {},
		   "source": [
			"## Example 10.a_14: Designing_a_regulator_using_a_minimum_and_full_order_observer.sce"
		   ]
		  },
  {
"cell_type": "code",
	   "execution_count": null,
	   "metadata": {
	    "collapsed": true
	   },
	   "outputs": [],
"source": [
"// Example A-10-14\n",
"// Designing a regulator using a minimum and full order observer\n",
"clear; clc;\n",
"xdel(winsid());  //close all windows\n",
"mode(0);\n",
"// please edit the path\n",
"// cd '<path to dependencies>';\n",
"// exec('minorder.sci');\n",
"function smallplot(i)\n",
"  subplot(2,2,i);xgrid(color('gray'));\n",
"  plot(t,x(i,:));\n",
"endfunction\n",
"A = [0 1; 0 -2];\n",
"B = [0; 4];\n",
"C = [1 0];\n",
"D = [0];\n",
"Gp = syslin('c',A,B,C,D);\n",
"P = [-2 + %i*2*sqrt(3),-2 - %i*2*sqrt(3)]\n",
"Q1 = [-8 -8 ] \n",
"Q2 = [-8];\n",
"disp('full order obssrver -');\n",
"K1 = ppol(A,B,P)\n",
"Ke1 = ppol(A',C',Q1)'\n",
"Go1 =transferf(A-B*K1-Ke1*C,Ke1,K1,[0]);\n",
"disp(Go1,'full order observer controller transfer function =');\n",
"// system response to initial conditions \n",
"AA1 = [A - B*K1, B*K1; zeros(2,2), A - Ke1*C];\n",
"x0 = [1; 0; 1; 0];\n",
"G = syslin('c',AA1,zeros(4,1),zeros(1,4),[0],x0);\n",
"t = 0:0.05:8;\n",
"u = zeros(1,length(t));\n",
"[y x] = csim(u,t,G);\n",
"smallplot(1);\n",
"xtitle('Response to initial condition (Full order)','t (sec)','x1');\n",
"smallplot(2);\n",
"xtitle('Response to initial condition (Full order)','t (sec)','x2');\n",
"smallplot(3);\n",
"xtitle('','t (sec)','e1');\n",
"smallplot(4);\n",
"xtitle('','t (sec)','e2');\n",
"disp('minimal order observer -');\n",
"P\n",
"Q2\n",
"[K2 Ke2 Go2 ch AA2] = minorder(A,B,P,Q2);\n",
"K2\n",
"Ke2\n",
"disp(Go2,'minimal order observer controller transfer function =');\n",
"x0 = [1; 0; 1;];\n",
"G = syslin('c',AA2,zeros(3,1),zeros(1,3),[0],x0);\n",
"t = 0:0.05:8;\n",
"u = zeros(1,length(t));\n",
"[y x] = csim(u,t,G);\n",
"scf();\n",
"smallplot(1);\n",
"xtitle('Response to initial condition (minimal order)','t (sec)','x1');\n",
"smallplot(2);\n",
"xtitle('Response to initial condition (minimal order)','t (sec)','x2');\n",
"smallplot(3);\n",
"xtitle('','t (sec)','e');\n",
"scf();\n",
"// Bode diagram\n",
"C1 = Go1*Gp /. 1;\n",
"C2 = Go2*Gp /. 1;\n",
"bode([C1 ;C2],0.1,100,['System 1';'System 2']);"
   ]
   }
,
{
		   "cell_type": "markdown",
		   "metadata": {},
		   "source": [
			"## Example 10.a_17: Design_of_quadratic_optimal_regulator_system_and_finding_the_response.sce"
		   ]
		  },
  {
"cell_type": "code",
	   "execution_count": null,
	   "metadata": {
	    "collapsed": true
	   },
	   "outputs": [],
"source": [
"// Example A-10-17\n",
"// Design of quadratic optimal regulator system and finding the response\n",
"clear; clc;\n",
"xdel(winsid());  //close all windows\n",
"mode(0);\n",
"function smallplot(i)\n",
"  subplot(3,2,i);xgrid(color('gray'));\n",
"  plot(t,x(i,:));\n",
"endfunction\n",
"A = [0 1 0 0; 20.601 0 0 0; 0 0 0 1; -0.4905 0 0 0];\n",
"B = [0; -1; 0; 0.5];\n",
"C = [0 0 1 0];\n",
"Ahat = [A zeros(4,1); -C 0]\n",
"Bhat = [B ; 0]\n",
"Q = eye(5,5);Q(1,1) = 100\n",
"R = [0.01]\n",
"// solve the riccati equation\n",
"P = riccati(Ahat, Bhat*inv(R)*Bhat', Q,'c');\n",
"K = inv(R)*Bhat'*P\n",
"k1 = -K($);\n",
"AA = Ahat - Bhat*K\n",
"G = syslin('c',AA,[zeros(4,1); 1] , [C 0], [0]);\n",
"t = 0:0.05:10; \n",
"u = ones(1,length(t));\n",
"[y,x] = csim(u,t,G);smallplot(1);\n",
"xtitle('x1','t (sec)','');\n",
"smallplot(2);\n",
"xtitle('x2','t (sec)','x2');\n",
"smallplot(3);\n",
"xtitle('','t (sec)','x3');\n",
"smallplot(4);\n",
"xtitle('','t (sec)','x4');\n",
"smallplot(5);\n",
"xtitle('','t (sec)','x5');"
   ]
   }
,
{
		   "cell_type": "markdown",
		   "metadata": {},
		   "source": [
			"## Example 10.a_5: Feedback_gain_for_moving_eigen_values.sce"
		   ]
		  },
  {
"cell_type": "code",
	   "execution_count": null,
	   "metadata": {
	    "collapsed": true
	   },
	   "outputs": [],
"source": [
"// Example A-10-5\n",
"// Feedback gain for moving eigen values\n",
"clear; clc;\n",
"xdel(winsid());  //close all windows\n",
"mode(0);\n",
"s = %s;\n",
"A = [0 1;-2 -3];\n",
"B = [0; 2];\n",
"C = [1 0];\n",
"E = [-3 -5]; // new eigen values\n",
"ch = det(s*eye(2,2) - A)\n",
"cf = coeff(ch);\n",
"a = cf(1: $-1)\n",
"chd = poly(E,'s'); \n",
"cf2 =  coeff(chd);\n",
"alpha = cf2(1: $-1)\n",
"M = cont_mat(A,B)\n",
"W = [cf(2:$) ; 1 0]\n",
"T = M*W\n",
"Ti = inv(T); disp(Ti,'inv(T)');\n",
"K = (alpha - a) * Ti"
   ]
   }
,
{
		   "cell_type": "markdown",
		   "metadata": {},
		   "source": [
			"## Example 10.a_6: Gain_matrix_determination.sce"
		   ]
		  },
  {
"cell_type": "code",
	   "execution_count": null,
	   "metadata": {
	    "collapsed": true
	   },
	   "outputs": [],
"source": [
"// Example A-10-6\n",
"// Gain matrix determination\n",
"clear; clc;\n",
"xdel(winsid());  //close all windows\n",
"A = [0 1 0; 0 0 1;-6 -11 -6];\n",
"B = [0; 0; 10];\n",
"P = [-2 + %i*2*sqrt(3) , -2 - %i*2*sqrt(3), -10];\n",
"K = ppol(A,B,P);   disp(K,'K =');"
   ]
   }
,
{
		   "cell_type": "markdown",
		   "metadata": {},
		   "source": [
			"## Example 10.a_9: Transforming_to_canonical_form.sce"
		   ]
		  },
  {
"cell_type": "code",
	   "execution_count": null,
	   "metadata": {
	    "collapsed": true
	   },
	   "outputs": [],
"source": [
"// Example A-10-9\n",
"// Transforming to canonical form\n",
"clear; clc;\n",
"xdel(winsid());  //close all windows\n",
"mode(0);\n",
"s = %s;\n",
"A = [1 1;-4 -3];\n",
"B = [0; 2];\n",
"C = [1 1];\n",
"ch = det(s*eye(2,2) - A)\n",
"cf = coeff(ch);\n",
"a = cf(1: $-1)\n",
"N = obsv_mat(A,C)'\n",
"W = [cf(2:$) ; 1 0]\n",
"Qi = W*N'\n",
"Q = inv(Qi)\n",
"A1 = Qi*A*Q\n",
"B1 = Qi*B"
   ]
   }
,
{
		   "cell_type": "markdown",
		   "metadata": {},
		   "source": [
			"## Example 10.i_1: Designing_a_regulator_using_a_minimum_order_observer.sce"
		   ]
		  },
  {
"cell_type": "code",
	   "execution_count": null,
	   "metadata": {
	    "collapsed": true
	   },
	   "outputs": [],
"source": [
"// Illustration 10.1\n",
"// Designing a regulator using a minimum order observer\n",
"// Section 10-6 of the book\n",
"clear; clc;\n",
"xdel(winsid());  //close all windows\n",
"mode(0);\n",
"// please edit the path\n",
"// cd '<path to dependencies>';\n",
"// exec('minorder.sci');\n",
"function smallplot(i)\n",
"  subplot(3,2,i);xgrid(color('gray'));\n",
"  plot(t,x(i,:));\n",
"endfunction\n",
"A = [0 1 0; 0 0 1; 0 -24 -10];\n",
"B = [0; 10; -80];\n",
"C = [1 0 0];\n",
"D = [0];\n",
"Gp = syslin('c',A,B,C,D);\n",
"// Trial 1\n",
"disp('trial 1')\n",
"P = [-1 + %i*2,-1 - %i*2,-5 ] \n",
"Q = [-10 -10]  // observer poles\n",
"// Determining gains K and Ke\n",
"// Determining observer controller transfer function\n",
"[K Ke Go ch] = minorder(A,B,P,Q);\n",
"K\n",
"Ke\n",
"disp(Go,'observer controller transfer function =');\n",
"disp(ch,'overall system characteristic equation =');\n",
"disp(roots(Go.den),'observer controller has unstable root!');\n",
"disp('trial 2'); // Trial 2;\n",
"P\n",
"Q = [-4.5 -4.5]; // change Q\n",
"[K Ke Go ch AA] = minorder(A,B,P,Q);\n",
"K\n",
"Ke\n",
"disp(Go,'observer controller transfer function =');\n",
"disp(ch,'overall system characteristic equation =');\n",
"disp(roots(Go.den),'observer controller has all stable roots!');\n",
"// system response to initial conditions \n",
"x0 = [1; 0; 0; 1; 0];\n",
"G = syslin('c',AA,[1 ;0 ;0 ;0 ;0],[1 0 0 0 0],[0],x0);\n",
"t = 0:0.01:8;\n",
"u = zeros(1,length(t));\n",
"[y x] = csim(u,t,G);\n",
"smallplot(1);\n",
"xtitle('Response to initial condition','t (sec)','x1');\n",
"smallplot(2);\n",
"xtitle('Response to initial condition','t (sec)','x2');\n",
"smallplot(3);\n",
"xtitle('','t (sec)','x3');\n",
"smallplot(4);\n",
"xtitle('','t (sec)','e1');\n",
"smallplot(5);\n",
"xtitle('','t (sec)','e2');\n",
"scf();\n",
"// Bode diagram\n",
"O = Go*Gp; C = O /. 1;\n",
"bode([O;C],0.001,100,['Open loop system'; 'Closed loop system']);\n",
"disp(p_margin(O),'Phase margin');"
   ]
   }
,
{
		   "cell_type": "markdown",
		   "metadata": {},
		   "source": [
			"## Example 10.i_2: Designing_a_control_system_with_a_minimum_order_observer.sce"
		   ]
		  },
  {
"cell_type": "code",
	   "execution_count": null,
	   "metadata": {
	    "collapsed": true
	   },
	   "outputs": [],
"source": [
"// Illustration 10.2\n",
"// Designing a control system with a minimum order observer\n",
"// Section 10-7 of the book\n",
"clear; clc;\n",
"xdel(winsid());  //close all windows\n",
"mode(0);\n",
"// please edit the path\n",
"// cd '<path to dependencies>';\n",
"// exec('minorder.sci');\n",
"// exec('plotresp.sci');\n",
"s = %s;\n",
"t = 0:0.05:10;\n",
"u = ones(1,length(t));\n",
"Gp = syslin('c',1,s*(s^2 + 1));\n",
"Gs = cont_frm(1,s*(s^2 + 1)); \n",
"A = Gs.A;\n",
"B = Gs.B;\n",
"C = Gs.C;\n",
"D = Gs.D;\n",
"// designing the observer controller\n",
"P = [-1 + %i,-1 - %i,-8 ] \n",
"Q = [-4 -4]  // observer poles\n",
"[K Ke Go] = minorder(A,B,P,Q);\n",
"K\n",
"Ke\n",
"disp(Go,'observer controller transfer function =');\n",
"// First configuration\n",
"C1 = Go*Gp /. 1;\n",
"disp(C1,'closed loop system of first configuration =');\n",
"plotresp(u,t,C1,'Step response');\n",
"// Secoond Configuration\n",
"C = Gp /. Go;\n",
"N = 1 / horner(C,0)\n",
"C2 = syslin('c',N*C);\n",
"y = csim(u,t,C2);\n",
"disp(C2,'closed loop system of second configuration =');\n",
"plot(t,y,'r');\n",
"legend('step input','system 1','system 2');\n",
"// Bode diagram\n",
"scf();\n",
"bode([C1;C2],0.01,100,['system 1';'system 2']);\n",
"// frequency in Hz"
   ]
   }
],
"metadata": {
		  "kernelspec": {
		   "display_name": "Scilab",
		   "language": "scilab",
		   "name": "scilab"
		  },
		  "language_info": {
		   "file_extension": ".sce",
		   "help_links": [
			{
			 "text": "MetaKernel Magics",
			 "url": "https://github.com/calysto/metakernel/blob/master/metakernel/magics/README.md"
			}
		   ],
		   "mimetype": "text/x-octave",
		   "name": "scilab",
		   "version": "0.7.1"
		  }
		 },
		 "nbformat": 4,
		 "nbformat_minor": 0
}
