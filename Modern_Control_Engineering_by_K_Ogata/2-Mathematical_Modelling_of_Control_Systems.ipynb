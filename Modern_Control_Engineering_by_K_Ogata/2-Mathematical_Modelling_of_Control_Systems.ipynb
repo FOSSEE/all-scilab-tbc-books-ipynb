{
"cells": [
 {
		   "cell_type": "markdown",
	   "metadata": {},
	   "source": [
       "# Chapter 2: Mathematical Modelling of Control Systems"
	   ]
	},
{
		   "cell_type": "markdown",
		   "metadata": {},
		   "source": [
			"## Example 2.4: Convert_State_space_to_Transfer_Function_model.sce"
		   ]
		  },
  {
"cell_type": "code",
	   "execution_count": null,
	   "metadata": {
	    "collapsed": true
	   },
	   "outputs": [],
"source": [
"// Example2-4\n",
"// Conversion from state space to transfer function model\n",
"clear;clc;close;\n",
"// Please edit the path below\n",
"// cd '/your code directory/';\n",
"// exec('transferf.sci');\n",
"A = [0 1 0; 0 0 1;-5 -25 -5];\n",
"B = [0; 25; -120];\n",
"C = [1 0 0];\n",
"D = [0];\n",
"G = transferf(A,B,C,D);\n",
"disp(G,'transfer function = ');"
   ]
   }
,
{
		   "cell_type": "markdown",
		   "metadata": {},
		   "source": [
			"## Example 2.a_11: State_space_to_Transfer_Function_model_SISO_system.sce"
		   ]
		  },
  {
"cell_type": "code",
	   "execution_count": null,
	   "metadata": {
	    "collapsed": true
	   },
	   "outputs": [],
"source": [
"// Example A-2-11\n",
"// Conversion from state space model to transfer function model\n",
"// for a Single Input Single Output System \n",
"clear; clc; close;\n",
"// Please edit the path below\n",
"// cd '/your code directory/';\n",
"// exec('transferf.sci');\n",
"A = [-1 1 0; 0 -1 1; 0 0 -2];\n",
"B = [0; 0; 1];\n",
"C = [1 0 0];\n",
"D = [0];\n",
"Htf = transferf(A,B,C,D);        // Htf is the tranfer function \n",
"disp(Htf,'Htf =');               // polynomial. ie. Htf = num / den"
   ]
   }
,
{
		   "cell_type": "markdown",
		   "metadata": {},
		   "source": [
			"## Example 2.a_12: State_space_to_Transfer_Function_model_MIMO_system.sce"
		   ]
		  },
  {
"cell_type": "code",
	   "execution_count": null,
	   "metadata": {
	    "collapsed": true
	   },
	   "outputs": [],
"source": [
"// Example A-2-12\n",
"// Conversion from state space model to transfer function model\n",
"//            for a multiple input multiple output system \n",
"clear; clc; close;\n",
"// Please edit the path below\n",
"// cd '/your code directory/';\n",
"// exec('transferf.sci');\n",
"A = [0 1; -25 -4];\n",
"B = [1 1; 0 1];\n",
"C = [1 0; 0 1];\n",
"D = [0 0; 0 0];\n",
"Htf = transferf(A,B,C,D)     // Htf is the tranfer function matrix,\n",
"disp(Htf,'Htf =');           // with four transfer functions  - \n",
"                             // Htf(1,1),Htf(1,2),Htf(2,1),Htf(2,2);"
   ]
   }
,
{
		   "cell_type": "markdown",
		   "metadata": {},
		   "source": [
			"## Example 2.a_7: Transfer_Function_to_Controllable_State_Space_form.sce"
		   ]
		  },
  {
"cell_type": "code",
	   "execution_count": null,
	   "metadata": {
	    "collapsed": true
	   },
	   "outputs": [],
"source": [
"// Example A-2-7\n",
"// Transfer function to controllable form (state space)\n",
"clear; clc;close;mode(0);\n",
"s = %s;\n",
"Num = 2*s^3 + s^2 + s + 2;   n = coeff(Num);\n",
"Den = s^3 + 4*s^2 + 5*s + 2; d = coeff(Den);\n",
"for i = 1:4 ;  b(i) = n(5 - i); a(i) = d(5 - i); end\n",
"// Method 1\n",
"_beta(1) = b(1);\n",
"_beta(2) = b(2) - a(2)*_beta(1);\n",
"_beta(3) = b(3) - a(2)*_beta(2) - a(3)*_beta(1);\n",
"_beta(4) = b(4) - a(2)*_beta(3) - a(3)*_beta(2) - a(4)*_beta(1);\n",
"A = [0 1 0; 0 0 1; -d(1:3)]\n",
"B = _beta(2:4)\n",
"C = [1 0 0 ] \n",
"D = b(1)\n",
"// method 2\n",
"H2 = cont_frm(Num,Den)"
   ]
   }
,
{
		   "cell_type": "markdown",
		   "metadata": {},
		   "source": [
			"## Example 2.b_14: Verifying_linearization_of_a_non_linear_system.sce"
		   ]
		  },
  {
"cell_type": "code",
	   "execution_count": null,
	   "metadata": {
	    "collapsed": true
	   },
	   "outputs": [],
"source": [
"// Exercise B-2-14\n",
"// An illustration on Linearization\n",
"// Linearize the function y = f(x) = 0.2*x^3 at x=2\n",
"// SOLUTION : y = 2.4*x - 3.2\n",
"// Let us observe graphically the linear approximation\n",
"// and the error, and percentage error\n",
"clear; clc; xdel(winsid());\n",
"x = 0.05:0.05:5;\n",
"y = 0.2 * x .^ 3;\n",
"yl = 2.4 * x - 3.2 ;       // this is not a linear system!\n",
"err = abs(y - yl);         //Error in approximation\n",
"errpc = err ./ y  * 100;   //Percentage error \n",
"subplot(2,1,1);\n",
"plot2d(x,y,style=2);\n",
"plot2d(x,yl,style=3,leg='linearized system');\n",
"xtitle('Original and linearized system','x','y');\n",
"subplot(2,1,2);\n",
"plot2d(x,err,style=5);\n",
"xtitle('Error','x','error');\n",
"scf();\n",
"plot2d(x,errpc,style=5,rect=[1 0 3 100]);\n",
"plot2d(x, 10 * ones(1,length(x)) ,style=2,leg='10% error margin' );\n",
"xtitle('Percentage Error','x','% error');"
   ]
   }
,
{
		   "cell_type": "markdown",
		   "metadata": {},
		   "source": [
			"## Example 2.b_4: Step_and_Ramp_response_of_different_Controllers.sce"
		   ]
		  },
  {
"cell_type": "code",
	   "execution_count": null,
	   "metadata": {
	    "collapsed": true
	   },
	   "outputs": [],
"source": [
"// Exercise B-2-4\n",
"// Plotting the response of different types of controllers\n",
"// to unit step and unit ramp input.\n",
"clear; clc; xdel(winsid());\n",
"Kp = 4;    //proportional gain\n",
"Ki1 = 2;   //integral gain\n",
"Td = 0.8;  //differential time\n",
"Ti = 2;    //integral time\n",
"Ki2 = Kp / Ti;\n",
"s = %s;\n",
"Gi = syslin('c',Ki1/s);\n",
"t = 0:0.05:3;\n",
"ramp = t; \n",
"subplot(3,2,1);\n",
"p1 = Kp * ones(1,length(t));\n",
"p2 = Kp * t;\n",
"plot2d(t ,p1 , style=2);\n",
"plot2d(t ,p2 , style=3);\n",
"xtitle('Proportional control','t','y');\n",
"legend('step input','ramp input'); \n",
"xgrid(color('gray'));\n",
"subplot(3,2,2);\n",
"i1 =  csim('step',t,Gi);\n",
"i2 =  csim(ramp,t,Gi); \n",
"plot2d(t ,i1, style=2);\n",
"plot2d(t ,i2, style=3) ;\n",
"xtitle('Integral control','t','y');\n",
"xgrid(color('gray'));\n",
"i1 = i1 * Ki2 / Ki1; //change of gain\n",
"i2 = i2 * Ki2 / Ki1;\n",
" \n",
"subplot(3,2,3);\n",
"plot2d(t ,p1 + i1, style=2);\n",
"plot2d(t ,p2 + i2, style=3);\n",
"xtitle('Proportional integral control','t','y');\n",
"xgrid(color('gray'));\n",
" \n",
"subplot(3,2,4);\n",
"pd1 = p1;\n",
"pd2 = p2 + Kp*Td*ones(1,length(t)); //derivative term\n",
"plot2d(t ,pd1, style=2);\n",
"plot2d(t ,pd2, style=3);\n",
"xtitle('Proportional plus derivative control','t','y');\n",
"xgrid(color('gray'));\n",
" \n",
"subplot(3,2,5);\n",
"plot2d(t ,pd1 + i1, style=2);\n",
"plot2d(t ,pd2 + i2, style=3,leg='ramp input') ;\n",
"xtitle('P.I.D. control','t','y');\n",
"xgrid(color('gray'));"
   ]
   }
,
{
		   "cell_type": "markdown",
		   "metadata": {},
		   "source": [
			"## Example 2.i_1: Series_Parallel_Feedback_connection_of_Systems.sce"
		   ]
		  },
  {
"cell_type": "code",
	   "execution_count": null,
	   "metadata": {
	    "collapsed": true
	   },
	   "outputs": [],
"source": [
"// Illustration 2.1\n",
"// Section 2-3 in the book\n",
"// Demonstrating Series,Parallel and feedback connection of Linear Systems\n",
"clear; clc; close;\n",
"// Define Polynomials in variable 's'\n",
"// Please NOTE : The list of coeficients has to be given in\n",
"//                INCREASING  powers of 's', \n",
"n1 = poly( [10] ,'s','c');      \n",
"d1 = poly( [10 2 1] ,'s','c'); // 10 + 2*s + s^2\n",
"// Alternate method to define transfer functions in scilab\n",
"// using '%s'  \n",
"s = %s; \n",
"n2 = 5;\n",
"d2 = 5 + s;\n",
"G1 = syslin('c',n1,d1);    //define continuous LTI systems systems\n",
"G2 = syslin('c',n2,d2);\n",
"disp(G1,'G1 =');disp(G2,'G2 ='); //display variables on the screen\n",
"series   = G1 * G2;\n",
"parallel = G1 + G2;\n",
"feedback = G1 /. G2 ;  // feedback is via G2.\n",
"disp(series,'series =');\n",
"disp(parallel,'parallel =');\n",
"disp(feedback,'feedback =');"
   ]
   }
,
{
		   "cell_type": "markdown",
		   "metadata": {},
		   "source": [
			"## Example 2.i_2: Transfer_Function_to_State_Space_Model.sce"
		   ]
		  },
  {
"cell_type": "code",
	   "execution_count": null,
	   "metadata": {
	    "collapsed": true
	   },
	   "outputs": [],
"source": [
"// Illustration 2.2\n",
"// Conversion from transfer function model to state space model\n",
"// Section 2-6 of the Book\n",
"//     This example demonstrates that there is no unique \n",
"//  state space reperesentation of a transfer function. \n",
"clear; clc; close; mode(0); \n",
"s = %s;\n",
"num = s;\n",
"den = 160 + 56*s + 14*s^2 + s^3;\n",
"Htf = syslin('c',num,den)\n",
"// There are infinite state space models for the same transfer \n",
"// function. The tf2ss() function will return one of them,\n",
"Hss = tf2ss(Htf);\n",
"ssprint(Hss);       //Print the state space model\n",
"//Alternatively: you can directly get the A,B,C,D\n",
"[A,B,C,D] = abcd(Htf)\n",
"//To cross check, let us find the transfer function \n",
"Htf2 = clean(ss2tf(Hss))   //which matches with Htf \n",
"Hssc = cont_frm(Htf.num,Htf.den)\n",
"Htfc = clean(ss2tf(Hssc))\n",
"// The same transfer function again "
   ]
   }
],
"metadata": {
		  "kernelspec": {
		   "display_name": "Scilab",
		   "language": "scilab",
		   "name": "scilab"
		  },
		  "language_info": {
		   "file_extension": ".sce",
		   "help_links": [
			{
			 "text": "MetaKernel Magics",
			 "url": "https://github.com/calysto/metakernel/blob/master/metakernel/magics/README.md"
			}
		   ],
		   "mimetype": "text/x-octave",
		   "name": "scilab",
		   "version": "0.7.1"
		  }
		 },
		 "nbformat": 4,
		 "nbformat_minor": 0
}
