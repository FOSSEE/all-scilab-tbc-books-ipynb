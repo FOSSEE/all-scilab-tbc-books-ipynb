{
"cells": [
 {
		   "cell_type": "markdown",
	   "metadata": {},
	   "source": [
       "# Chapter 6: Control Systems Analysis and Design by Root Locus Method"
	   ]
	},
{
		   "cell_type": "markdown",
		   "metadata": {},
		   "source": [
			"## Example 6.10: Design_of_parallel_compensation_by_root_locus.sce"
		   ]
		  },
  {
"cell_type": "code",
	   "execution_count": null,
	   "metadata": {
	    "collapsed": true
	   },
	   "outputs": [],
"source": [
"// Example 6-10\n",
"// Design of parallel compensation by root locus\n",
"clear; clc;\n",
"xdel(winsid());  //close all windows\n",
"// please edit the path\n",
"// cd '/<your code directory>/';\n",
"// exec('plotresp.sci');\n",
"function [G,C] = getsystem(K)\n",
"  G = 20 / ( s*(s+1)*(s+4) + K*s ); //open loop system\n",
"  C = syslin('c',G /. 1); // closed loop system \n",
"endfunction\n",
"s = %s;\n",
"// Root locus of the denominator polynomial (modified)\n",
"H = syslin('c',s , s^3 + 5*s^2 + 4*s + 20);\n",
"evans(H);\n",
"a= gca();a.children(1).visible = 'off';\n",
"sgrid([0.4],[]);  // draw zeta = 0.4 line\n",
"a.box = 'on';        \n",
"a.data_bounds = [-6 -6;1 6];\n",
"xgrid(color('gray'));\n",
"r = [ -2.1589 ; -1.049 ]; i =[4.9652; 2.4065];\n",
"p  = r + %i * i;      \n",
"K = [1; 1] ./ abs(horner(H,p));   \n",
"plot(r,i,'.');\n",
"xstring(r,i,['K =' + string(K(1)),'K =' + string(K(2))] ); \n",
"k = K ./ 20; \n",
"disp([K k],'K : k = ');\n",
"[G1 C1] = getsystem(K(1));\n",
"[G2 C2] = getsystem(K(2));\n",
"disp(roots(C1.den),'closed loop poles of system with k = ' + string(k(1)));\n",
"disp(roots(C2.den),'closed loop poles of system with k = ' + string(k(2)));\n",
"disp(C1,'C1 =');disp(C2,'C2 =');\n",
"scf();\n",
"t = 0:0.05:10;\n",
"u = ones(1,length(t));\n",
"plotresp(u,t,C1,'');\n",
"plotresp(u,t,C2,'Step response of parallel compensated systems');\n",
"xstring(1.3,1.1,'k = ' + string(k(1)));\n",
"xstring(2,0.8,'k = ' + string(k(2)));"
   ]
   }
,
{
		   "cell_type": "markdown",
		   "metadata": {},
		   "source": [
			"## Example 6.15: Design_of_lag_compensator.sce"
		   ]
		  },
  {
"cell_type": "code",
	   "execution_count": null,
	   "metadata": {
	    "collapsed": true
	   },
	   "outputs": [],
"source": [
"// Example A-6-15\n",
"// Design of lag compensator\n",
"clear; clc;\n",
"xdel(winsid());  //close all windows\n",
"mode(0);\n",
"// please edit the path\n",
"// cd '/<your code directory>/';\n",
"// exec('rootl.sci');\n",
"// exec('plotresp.sci');\n",
"s = %s;\n",
"G = syslin('c',10,s * (s + 4));\n",
"Kv = 80;           // desired velocity constant\n",
"R = [-2 -2];\n",
"I = [sqrt(6) -sqrt(6)];\n",
"dp = R(1) + %i*I(1)\n",
"disp(horner(s*G,0),'Kv (uncompensated system) = ');\n",
"_beta = 20;  // taking Kc =1 we get beta as 10\n",
"z = 0.1;     // choose z = 0.1\n",
"p = z / _beta; \n",
"Gc = (s + z)/(s + p);\n",
"disp(Gc ,'compensator = ');\n",
"H = G * Gc ;         // compensated system\n",
"H = syslin('c',numer(H),denom(H));\n",
"Gdp = horner(Gc,dp);\n",
"disp(abs(Gdp),'Magnitude contribution of controller =');\n",
"disp(phasemag(Gdp),'Angle contribution of controller =');\n",
"rootl(G,[-3 -4; 1 4],'');\n",
"rootl(H,[-3 -4; 1 4],'Uncompensated and Compensated system');\n",
"xgrid(color('gray'));\n",
"plot(R,I,'x');\n",
"xstring(R(1),I(1),'Original pole on uncompensated sys');\n",
"G1 = syslin('c',G /. 1);      \n",
"C = syslin('c',H /. 1);      // final closed loop system\n",
"disp(C,'closed loop system =');\n",
"disp(roots(C.den),'closed loop poles = ');\n",
"disp(horner(s*H,0),'velocity error constant Kv =')\n",
"scf();\n",
"subplot(2,1,1);\n",
"t = 0:0.05:10;\n",
"u = ones(1,length(t));\n",
"plotresp(u,t,G1,'');\n",
"plotresp(u,t,C,'Unit step response');\n",
"xstring(1,0.9,'uncompensated system');\n",
"xstring(0.7,1.12,'compensated system');\n",
"t = 0:0.5:20;\n",
"subplot(2,1,2);\n",
"plotresp(t,t,G1,'');\n",
"plotresp(t,t,C,'Unit ramp response');\n",
"xstring(2,0.9,'uncompensated system');\n",
"xstring(0.1,4,'compensated system');"
   ]
   }
,
{
		   "cell_type": "markdown",
		   "metadata": {},
		   "source": [
			"## Example 6.16: Design_of_lag_lead_compensator.sce"
		   ]
		  },
  {
"cell_type": "code",
	   "execution_count": null,
	   "metadata": {
	    "collapsed": true
	   },
	   "outputs": [],
"source": [
"// Example A-6-16\n",
"// Design of lag lead compensator\n",
"clear; clc;\n",
"xdel(winsid());  //close all windows\n",
"mode(0);\n",
"// please edit the path\n",
"// cd '/<your code directory>/';\n",
"// exec('rootl.sci');\n",
"// exec('plotresp.sci');\n",
"s = %s;\n",
"G = syslin('c',10,s * (s + 2) * (s + 8));\n",
"Kv = 80;           // desired velocity constant\n",
"R = [-2 -2];\n",
"I = [2*sqrt(3) -2*sqrt(3)];\n",
"dp = R(1) + %i*I(1)\n",
"disp(horner(s*G,0),'Kv (uncompensated system) = ');\n",
"// designing lead part\n",
"Kc = Kv /abs(horner(s*G,0))\n",
"angdef = 180 - phasemag(horner(G,dp))\n",
"z1 = 3.7     //z1 and p1 determinded graphically\n",
"p1 = 53.35\n",
"T1 = 1 / z1\n",
"_beta = T1 * p1; disp(_beta,'beta =');\n",
"Gc1 =Kc * (s + z1)/(s + p1); disp(Gc1,'Lead compensator Gc1 =');\n",
"// Lag compensator design\n",
"p2 = 0.01  //say\n",
"z2 = p2 * _beta\n",
"Gc2 = (s + z2)/(s + p2);\n",
"disp(Gc2,'Lag compensator Gc2 =');\n",
"disp(abs(horner(Gc2,dp)),'magnitude contribution of lag part =');\n",
"disp(phasemag(horner(Gc2,dp)),'angle contribution of lag part =');\n",
"// these are acceptable\n",
"Gc = Gc1 * Gc2\n",
"H = G * Gc ;         // compensated system\n",
"H = syslin('c',numer(H),denom(H));\n",
"subplot(1,2,1);\n",
"rootl(G,[-10 -10; 10 10],'Uncompensated system');\n",
"plot(R,I,'x');\n",
"xgrid(color('gray'));\n",
"subplot(1,2,2);\n",
"rootl(H,[-10 -10; 10 10],'Compensated system');\n",
"plot(R,I,'x');\n",
"xgrid(color('gray'));\n",
"xstring(R(1),I(1),'Desired closed loop poles');\n",
"G1 = syslin('c',G /. 1);      \n",
"C = syslin('c',H /. 1);      // final closed loop system\n",
"disp(C,'closed loop system =');\n",
"disp(roots(C.den),'closed loop poles = ');\n",
"disp(horner(s*H,0),'velocity error constant Kv =')\n",
"scf();\n",
"subplot(2,1,1);\n",
"t = 0:0.05:10;\n",
"u = ones(1,length(t));\n",
"plotresp(u,t,G1,'');\n",
"plotresp(u,t,C,'Unit step response');\n",
"xstring(1,0.5,'uncompensated system');\n",
"xstring(0.7,1.12,'compensated system');\n",
"subplot(2,1,2);\n",
"plotresp(t,t,G1,'');\n",
"plotresp(t,t,C,'Unit ramp response');\n",
"xstring(2,0.9,'uncompensated system');\n",
"xstring(0.5,2,'compensated system');"
   ]
   }
,
{
		   "cell_type": "markdown",
		   "metadata": {},
		   "source": [
			"## Example 6.1: Root_Locus.sce"
		   ]
		  },
  {
"cell_type": "code",
	   "execution_count": null,
	   "metadata": {
	    "collapsed": true
	   },
	   "outputs": [],
"source": [
"// Example 6-1\n",
"// Root Locus\n",
"clear; clc;\n",
"xdel(winsid());  //close all windows\n",
"// please edit the path\n",
"// cd '/<your code directory>/';\n",
"// exec('rootl.sci');\n",
"s = %s;\n",
"D = s * (s + 1) * (s + 2);\n",
"H = syslin('c',1,D);\n",
"rootl(H,[-4 -3; 2 3],'Root locus of G(s) = 1/(s*(s + 1)*(s + 2))');"
   ]
   }
,
{
		   "cell_type": "markdown",
		   "metadata": {},
		   "source": [
			"## Example 6.2: Root_Locus.sce"
		   ]
		  },
  {
"cell_type": "code",
	   "execution_count": null,
	   "metadata": {
	    "collapsed": true
	   },
	   "outputs": [],
"source": [
"// Example 6-2\n",
"// Root Locus\n",
"clear; clc;\n",
"xdel(winsid());  //close all windows\n",
"s = %s;\n",
"H = syslin('c',s + 2, s^2 + 2*s + 3);\n",
"evans(H,10);\n",
"xgrid();\n",
"a = gca();\n",
"a.box = 'on';\n",
"a.data_bounds = [-6 -3; 2 3];\n",
"a.children(1).visible = 'off';\n",
"xtitle('Root locus of G(s) = (s + 2)/ (s^2 + 2*s + 3)');"
   ]
   }
,
{
		   "cell_type": "markdown",
		   "metadata": {},
		   "source": [
			"## Example 6.3: Root_Locus.sce"
		   ]
		  },
  {
"cell_type": "code",
	   "execution_count": null,
	   "metadata": {
	    "collapsed": true
	   },
	   "outputs": [],
"source": [
"// Example 6-3\n",
"// Root locus\n",
"clear; clc;\n",
"xdel(winsid());  //close all windows\n",
"// please edit the path\n",
"// cd '/<your code directory>/';\n",
"// exec('rootl.sci');\n",
"s = %s;\n",
"N = s + 3;\n",
"D = s * (s + 1) * (s^2 + 4*s +16);\n",
"H = syslin('c',N,D);\n",
"disp( roots(D) ,'open loop poles = ');\n",
"disp( roots(N) ,'open loop zeros = ');\n",
"rootl(H,[-6 -6; 6 6],'Root locus of G(s) = (s + 3)/(s * (s + 1) * (s^2 + 4*s +16) )');"
   ]
   }
,
{
		   "cell_type": "markdown",
		   "metadata": {},
		   "source": [
			"## Example 6.4: Root_Locus.sce"
		   ]
		  },
  {
"cell_type": "code",
	   "execution_count": null,
	   "metadata": {
	    "collapsed": true
	   },
	   "outputs": [],
"source": [
"// Example 6-4\n",
"// Root locus\n",
"clear; clc;\n",
"xdel(winsid());  //close all windows\n",
"// please edit the path\n",
"// cd '/<your code directory>/';\n",
"// exec('rootl.sci');\n",
"s = %s;\n",
"D = s*(s + 0.5)*(s^2 + 0.6*s + 10);\n",
"H = syslin('c',1,D);\n",
"disp(roots(D),'open loop poles =');\n",
"rootl(H,[-6 -6; 6 6],'Root locus of G(s) =  1/(s*(s + 0.5)*(s^2 + 0.6*s + 10)');"
   ]
   }
,
{
		   "cell_type": "markdown",
		   "metadata": {},
		   "source": [
			"## Example 6.5: Root_locus_of_system_in_state_space.sce"
		   ]
		  },
  {
"cell_type": "code",
	   "execution_count": null,
	   "metadata": {
	    "collapsed": true
	   },
	   "outputs": [],
"source": [
"// Example 6_5\n",
"// Root locus of system in state space\n",
"clear; clc;\n",
"xdel(winsid());  //close all windows\n",
"// please edit the path\n",
"// cd '/<your code directory>/';\n",
"exec('rootl.sci');\n",
"A = [0 1 0; 0 0 1; -160 -56 -14];\n",
"B = [0; 1; -14];\n",
"C = [1 0 0];\n",
"D = [0];\n",
"G = syslin('c',A,B,C,D);\n",
"H = clean(ss2tf(G));\n",
"disp(H,' transfer function = ');\n",
"rootl(G,[-20 -20; 20 20],'Root locus plot of State Space model');"
   ]
   }
,
{
		   "cell_type": "markdown",
		   "metadata": {},
		   "source": [
			"## Example 6.6_1: Design_of_a_lead_compensator_using_root_locus.sce"
		   ]
		  },
  {
"cell_type": "code",
	   "execution_count": null,
	   "metadata": {
	    "collapsed": true
	   },
	   "outputs": [],
"source": [
"// Example 6-6-1\n",
"// Design of a lead compensator using root locus\n",
"clear; clc;\n",
"xdel(winsid());  //close all windows\n",
"// please edit the path\n",
"// cd '/<your code directory>/';\n",
"// exec('rootl.sci');\n",
"s = %s;\n",
"G = syslin('c',10 , s*(s+1) ); //open loop system\n",
"R = [ -1.5 -1.5];\n",
"I = [2.5981 -2.5981];  // desired closed loop poles\n",
"dp = R(1) + %i*I(1);\n",
"rootl(G,[-5 -5; 1 5],'Uncompensated system');\n",
"xgrid(color('gray'));\n",
"plot(R,I,'x');    // A gain adjustment is not enough as the \n",
"                  // desired poles do not lie on the roor locus\n",
"[phi1 db] = phasemag(horner(G,dp));\n",
"angdef = 180 - phi1;\n",
"disp(angdef,'Angle deficiency = ');\n",
"// Lead compensator for Maximum Kv\n",
"// here we will find the pole-zero of the compensator\n",
"// using the prescirbed method\n",
"[phi2 dbi] = phasemag(dp);\n",
"angOPA = phi2;\n",
"angPOD = 180 - phi2;\n",
"angOPD = (angOPA - angdef) / 2;\n",
"angOPC = (angOPA + angdef) / 2;\n",
"angPDO = (180 - angPOD - angOPD);\n",
"angPCO = (180 - angPOD - angOPC);\n",
"//using the sine rule of triangles\n",
"DO = sind(angOPD) * abs(dp) / sind(angPDO);\n",
"CO = sind(angOPC) * abs(dp) / sind(angPCO);\n",
"Gc = (s + DO)/(s + CO);\n",
"disp(Gc ,'compensator = ');\n",
"H = G.num * Gc / G.den  ;         // compensated system\n",
"H = syslin('c',numer(H),denom(H));\n",
"scf();\n",
"rootl(H,[-5 -5; 1 5],'Compensated system');\n",
"xgrid(color('gray'));\n",
"plot(R,I,'x');\n",
"// Final system passes through the desired poles\n",
"// required gain for the system\n",
"Kc = abs(1 / horner(H,dp));\n",
"disp(Kc,'required gain Kc = ');\n",
"C = H*Kc /. 1;      // final closed loop system\n",
"disp(C,'closed loop system =');\n",
"disp(roots(C.den),'closed loop poles = ');\n",
"disp(horner(s*H*Kc,0),'velocity error constant Kv =')"
   ]
   }
,
{
		   "cell_type": "markdown",
		   "metadata": {},
		   "source": [
			"## Example 6.6_2: Step_and_ramp_response_of_lead_compensated_systems.sce"
		   ]
		  },
  {
"cell_type": "code",
	   "execution_count": null,
	   "metadata": {
	    "collapsed": true
	   },
	   "outputs": [],
"source": [
"// Example 6-6-2\n",
"// Step and ramp response of lead compensated systems\n",
"clear; clc;\n",
"xdel(winsid());  //close all windows\n",
"function Gc = leadcomp(Kc,z,p);\n",
"  Gc = Kc* ((s + z)/(s + p));\n",
"endfunction\n",
"function plotall(u,t,text)\n",
"  y   = csim(u,t,H );\n",
"  yc1 = csim(u,t,H1);\n",
"  yc2 = csim(u,t,H2);\n",
"  plot(t,y,t,yc1,t,yc2);\n",
"  xgrid(color('gray'));\n",
"  xtitle(text + ' Response of compensated and uncompensated systems','t sec','Output');\n",
"  legend('Uncompensated System','Compensated System Method 1','Compensated System Method 2');\n",
"endfunction \n",
"    \n",
"s = %s;\n",
"G = 10 / ( s*(s+1) ); //open loop system\n",
"Gc1 = leadcomp(1.2292,1.9373,4.6458);\n",
"Gc2 = leadcomp(0.9,1,3);\n",
"H =  syslin('c',G /. 1);\n",
"H1 = syslin('c', ( G * Gc1) /. 1);\n",
"H2 = syslin('c', ( G * Gc2) /. 1);\n",
" \n",
" t = 0:0.05:5;\n",
" u = ones(1,length(t));\n",
" plotall(u,t,'Step');scf();\n",
" t = 0:0.05:9; \n",
" plotall(t,t,'Ramp');\n",
"  plot(t,t,'k');"
   ]
   }
,
{
		   "cell_type": "markdown",
		   "metadata": {},
		   "source": [
			"## Example 6.7_1: Design_of_a_lag_compensator_using_root_locus.sce"
		   ]
		  },
  {
"cell_type": "code",
	   "execution_count": null,
	   "metadata": {
	    "collapsed": true
	   },
	   "outputs": [],
"source": [
"// Example 6-7-1\n",
"// Design of a lag compensator using root locus\n",
"clear; clc;\n",
"xdel(winsid());  //close all windows\n",
"// please edit the path\n",
"// cd '/<your code directory>/';\n",
"// exec('rootl.sci');\n",
"s = %s;\n",
"G = syslin('c',1.06 , s*(s+1)*(s+2)); //open loop system\n",
"R = [ -0.31 -0.31];\n",
"I = [0.55 -0.55];  // desired closed loop poles\n",
"dp = R(1) + %i*I(1);\n",
"disp(roots(G.den + 1.06),'Closed loop poles (uncompensated)=');\n",
"disp(horner(s*G,0),'Kv (uncompensated system = ');\n",
"rootl(G,[-3 -2; 1 2],'');\n",
"plot(R,I,'x');\n",
"// Lag compensator for Kv = 5 sec.\n",
"_beta = 10;  // taking beta as 10\n",
"z = 0.05;\n",
"p = z / _beta; \n",
"Gc = (s + z)/(s + p);\n",
"disp(Gc ,'compensator = ');\n",
"H = G.num * Gc / G.den  ;         // compensated system\n",
"H = syslin('c',numer(H),denom(H));\n",
"rootl(H,[-3 -2; 1 2],'Uncompensated and Compensated system');\n",
"xgrid(color('gray'));\n",
"xstring(R(1),I(1),'New pole on compensated sys');\n",
"Kc = abs(1 / horner(H,dp));\n",
"disp(Kc,'required controller gain Kc = ');\n",
"C = H*Kc /. 1;      // final closed loop system\n",
"disp(C,'closed loop system =');\n",
"disp(roots(C.den),'closed loop poles = ');\n",
"disp(horner(s*H*Kc,0),'velocity error constant Kv =')"
   ]
   }
,
{
		   "cell_type": "markdown",
		   "metadata": {},
		   "source": [
			"## Example 6.7_2: Step_and_ramp_response_of_lag_compensated_system.sce"
		   ]
		  },
  {
"cell_type": "code",
	   "execution_count": null,
	   "metadata": {
	    "collapsed": true
	   },
	   "outputs": [],
"source": [
"// Example 6-7-2\n",
"// Step and ramp response of lag compensated system\n",
"clear; clc;\n",
"xdel(winsid());  //close all windows\n",
"// please edit the path\n",
"// cd '/<your code directory>/';\n",
"// exec('plotresp.sci');\n",
"s = %s;\n",
"G = 1.06 / (s * (s + 1) * (s + 2));\n",
"Kc = 0.9956;\n",
"z  = 0.05;\n",
"p  = 0.005;\n",
"Gc = Kc * (s + z)/(s + p);\n",
"GGc = G*Gc;\n",
"H = syslin('c',G /. 1);\n",
"Hc = syslin('c',GGc /. 1);\n",
"t = 0:0.5:40;\n",
"u1 = ones(1,length(t)); //step response\n",
"subplot(2,1,1);plotresp(u1,t,H,'');\n",
"plotresp(u1,t,Hc,'Unit step response');\n",
"xstring(5,0.9,'uncompensated system');\n",
"xstring(0.1,1.2,'compensated system');\n",
"t = 0:0.5:50;\n",
"u2 = t;                 //ramp response\n",
"subplot(2,1,2);plotresp(u2,t,H,'');\n",
"plotresp(u2,t,Hc,'Unit ramp response');\n",
"xstring(18,13,'uncompensated system');\n",
"xstring(9,20,'compensated system');"
   ]
   }
,
{
		   "cell_type": "markdown",
		   "metadata": {},
		   "source": [
			"## Example 6.8_1: Design_of_a_lag_lead_compensator_using_root_locus.sce"
		   ]
		  },
  {
"cell_type": "code",
	   "execution_count": null,
	   "metadata": {
	    "collapsed": true
	   },
	   "outputs": [],
"source": [
"// Example 6-8-1\n",
"// Design of a lag lead compensator using root locus 1\n",
"// zeta ~= gamma (not equal to)\n",
"clear; clc;\n",
"xdel(winsid());  //close all windows\n",
"// please edit the path\n",
"// cd '/<your code directory>/';\n",
"// exec('rootl.sci');\n",
"s = %s;\n",
"G = syslin('c',4 , s * (s + 0.5)); //open loop system\n",
"Kv = 80;           // desired velocity constant\n",
"wn = 5;            // desired natural frequency and damping\n",
"_zeta = 0.5;\n",
"sigma = -1*wn * _zeta;\n",
"wd = wn * sqrt(1 - _zeta^2);\n",
"dp = sigma + %i*wd;    // desired closed loop poles\n",
"disp(roots(G.den + 4),'Closed loop poles (uncompensated)=');\n",
"disp(horner(s*G,0),'Kv (uncompensated system = ');\n",
"rootl(G,[-5 -2; 1 2],'Uncompensated system');\n",
"xgrid(color('gray'));\n",
"plot([sigma sigma],[wd -wd],'x');\n",
"xstring(sigma,wd,'Desired CL poles');\n",
"// Designing Lead Part\n",
"[phi1 db] = phasemag(horner(G,dp));\n",
"angdef = 180 - phi1;\n",
"disp(angdef,'Angle deficiency = ');\n",
"z1 = 0.5  //Make the lead compensator zero cancel the system zero\n",
"// To determin p1;\n",
"// Gc1 = [0.5 +(-2.5 + 4.33j)] / [(p1 -2.5) + 4.33j]\n",
"[theta m2] = phasemag(-2.0 + 4.33*%i);\n",
"p1 = 2.5 + 4.33*cotd(theta - angdef);  // so that it contributes 'angdef'\n",
"Gc1 = (s + z1)/(s + p1);      disp(Gc1,'Lead compensator Gc1 =');\n",
"_gamma = p1 / z1;             disp(_gamma,'gamma = ');\n",
"Kc = abs(1/horner(G*Gc1,dp)); disp(Kc,'Kc = ');\n",
"// Lag compensator design\n",
"_beta = Kv * _gamma / Kc / horner(s*G,0); disp(_beta,'beta');\n",
"T2 = 5;  //say\n",
"z2 = 1 / T2; p2 = z2 / _beta;\n",
"Gc2 = (s + z2)/(s + p2);\n",
"disp(Gc2,'Lag compensator Gc2 =');\n",
"disp(abs(horner(Gc2,dp)),'magnitude contribution of lag part =');\n",
"disp(phasemag(horner(Gc2,dp)),'angle contribution of lag part =');\n",
"// these are acceptable\n",
"Gc = Kc*Gc1*Gc2;\n",
"disp(Gc,'final lag lead controller = ');\n",
"scf()\n",
"rootl(Gc*G,[-5 -2; 1 2],'Compensated system');\n",
"xgrid(color('gray'));\n",
"plot([sigma sigma],[wd -wd],'x');\n",
"C = Gc*G /. 1;\n",
"disp(C,'closed loop system =');\n",
"disp(roots(C.den),'closed loop poles = ');\n",
"disp(horner(s*Gc*G,0),'velocity error constant Kv =')"
   ]
   }
,
{
		   "cell_type": "markdown",
		   "metadata": {},
		   "source": [
			"## Example 6.8_2: Evaluating_Lag_Lead_compensated_system.sce"
		   ]
		  },
  {
"cell_type": "code",
	   "execution_count": null,
	   "metadata": {
	    "collapsed": true
	   },
	   "outputs": [],
"source": [
"// Example 6-8-2\n",
"// Evaluating Lag Lead compensated system\n",
"clear; clc;\n",
"xdel(winsid());  //close all windows\n",
"// please edit the path\n",
"// cd '/<your code directory>/';\n",
"// exec('plotresp.sci');\n",
"s = %s;\n",
"G = 4 / (s * (s + 0.5));\n",
"Gc = 6.25 * (s + 0.5) * (s + 0.2) / (s + 5) / (s + 0.125);\n",
"GGc = G*Gc;\n",
"H = syslin('c',G /. 1);\n",
"Hc = syslin('c',GGc /. 1);\n",
"t = 0:0.05:20;\n",
"u1 = ones(1,length(t)); //step response\n",
"plotresp(u1,t,H,'');\n",
"plotresp(u1,t,Hc,'Unit step response');\n",
"xstring(0.5,1.7,'uncompensated system');\n",
"xstring(1,0.95,'compensated system');\n",
"scf()\n",
"t = 0:0.05:10;\n",
"plotresp(t,t,H,'');\n",
"y2 = plotresp(t,t,Hc,'Unit ramp response');a = gca()\n",
"delete(a.children(2)); // deleting the drawn graph and redrawing\n",
"// with a different colour\n",
"plot(t,y2,'r');\n",
"legend('ramp input','uncompensated system','compensated system');"
   ]
   }
,
{
		   "cell_type": "markdown",
		   "metadata": {},
		   "source": [
			"## Example 6.9_1: Design_of_lag_lead_compensator_using_root_locus_2.sce"
		   ]
		  },
  {
"cell_type": "code",
	   "execution_count": null,
	   "metadata": {
	    "collapsed": true
	   },
	   "outputs": [],
"source": [
"// Example 6-9-1\n",
"// Design of a lag lead compensator using root locus 2\n",
"// gamma = beta case\n",
"clear; clc;\n",
"xdel(winsid());  //close all windows\n",
"// please edit the path\n",
"// cd '/<your code directory>/';\n",
"// exec('rootl.sci');\n",
"s = %s;\n",
"G = syslin('c',4 , s * (s + 0.5)); //open loop system\n",
"Kv = 80;           // desired velocity constant\n",
"wn = 5;            // desired natural frequency and damping\n",
"_zeta = 0.5;\n",
"sigma = -1*wn * _zeta;\n",
"wd = wn * sqrt(1 - _zeta^2);\n",
"dp = sigma + %i*wd;    // desired closed loop poles\n",
"disp(roots(G.den + 4),'Closed loop poles (uncompensated)=');\n",
"disp(horner(s*G,0),'Kv (uncompensated system = ');\n",
"rootl(G,[-5 -2; 1 2],'Uncompensated system');\n",
"xgrid(color('gray'));\n",
"plot([sigma sigma],[wd -wd],'x');\n",
"xstring(sigma,wd,'Desired CL poles');\n",
"// Designing Lead Part\n",
"Kc = Kv / horner(s*G,0);      disp(Kc,'Kc = ');\n",
"z1 = 2.38;     //z1 and p1 determinded graphically\n",
"p1 = 8.34;\n",
"T1 = 1 / z1;                  disp(T1,'T1');\n",
"_beta = T1 * p1;              disp(_beta,'beta =');\n",
"Gc1 =Kc * (s + z1)/(s + p1); disp(Gc1,'Lead compensator Gc1 =');\n",
"// Lag compensator design\n",
"T2 = 10;  //say\n",
"z2 = 1 / T2; p2 = z2 / _beta;\n",
"Gc2 = (s + z2)/(s + p2);\n",
"disp(Gc2,'Lag compensator Gc2 =');\n",
"disp(abs(horner(Gc2,dp)),'magnitude contribution of lag part =');\n",
"disp(phasemag(horner(Gc2,dp)),'angle contribution of lag part =');\n",
"// these are acceptable\n",
"Gc = Gc1*Gc2;\n",
"disp(Gc,'final lag lead controller = ');\n",
"scf()\n",
"rootl(Gc*G,[-5 -2; 1 2],'Compensated system');\n",
"xgrid(color('gray'));\n",
"plot([sigma sigma],[wd -wd],'x');\n",
"C = Gc*G /. 1;\n",
"disp(C,'closed loop system =');\n",
"disp(roots(C.den),'closed loop poles = ');\n",
"disp(horner(s*Gc*G,0),'velocity error constant Kv =')\n",
"disp(dp,'desired poles =');"
   ]
   }
,
{
		   "cell_type": "markdown",
		   "metadata": {},
		   "source": [
			"## Example 6.9_2: Evaluating_Lag_Lead_compensated_system.sce"
		   ]
		  },
  {
"cell_type": "code",
	   "execution_count": null,
	   "metadata": {
	    "collapsed": true
	   },
	   "outputs": [],
"source": [
"// Example 6-9-2\n",
"// Evaluating Lag Lead compensated system\n",
"clear; clc;\n",
"xdel(winsid());  //close all windows\n",
"// please edit the path\n",
"// cd '/<your code directory>/';\n",
"// exec('plotresp.sci');\n",
"s = %s;\n",
"G = 4 / (s * (s + 0.5));\n",
"Gc = 10 * (s + 2.38) * (s + 0.1) / (s + 8.34) / (s + 0.0285);\n",
"GGc = G*Gc;\n",
"H = syslin('c',G /. 1);\n",
"Hc = syslin('c',GGc /. 1);\n",
"t = 0:0.05:20;\n",
"u1 = ones(1,length(t)); //step response\n",
"plotresp(u1,t,H,'');\n",
"plotresp(u1,t,Hc,'Unit step response');\n",
"xstring(0.5,1.7,'uncompensated system');\n",
"xstring(1,0.95,'compensated system');\n",
"scf()\n",
"t = 0:0.05:10;\n",
"plotresp(t,t,H,'');\n",
"plotresp(t,t,Hc,'Unit ramp response');\n",
"xstring(1.4,0.9,'uncompensated system');\n",
"xstring(0,1.5,'compensated system');"
   ]
   }
,
{
		   "cell_type": "markdown",
		   "metadata": {},
		   "source": [
			"## Example 6.a_13_1: Lead_Compensator_Design_Attempt_1.sce"
		   ]
		  },
  {
"cell_type": "code",
	   "execution_count": null,
	   "metadata": {
	    "collapsed": true
	   },
	   "outputs": [],
"source": [
"// Example A-6-13-1\n",
"// Lead Compensator Design Attempt 1\n",
"clear; clc;\n",
"xdel(winsid());  //close all windows\n",
"// please edit the path\n",
"// cd '/<your code directory>/';\n",
"// exec('rootl.sci');\n",
"// exec('plotresp.sci');\n",
"s = %s;\n",
"G = syslin('c',1,s^2);\n",
"H = syslin('c',1,0.1*s + 1);\n",
"R = [-1 -1];\n",
"I = [1.73205 -1.73205];\n",
"dp = R(1) + %i*I(1);\n",
"subplot(1,2,1);\n",
"rootl(G*H,[-15 -15; 5 15],'Root locus plot for uncompensated system');\n",
"plot(R,I,'x');\n",
"angdef = 180 - phasemag(horner(G*H,dp));\n",
"disp(angdef,'angle deficiency =');\n",
"z = 1; // zero at -1;\n",
"p = 1.73205 / tand(90 - angdef) + 1 ;\n",
"Gc = (s + z) / (s + p);\n",
"disp(Gc,'lead compensator =');\n",
"Kc = abs(1/ horner(G*Gc*H,dp));\n",
"disp(Kc,'Kc =');\n",
"O = Kc*Gc*G*H;   disp(O,'open loop Transfer function =');\n",
"C = Kc*Gc*G /. H;      disp(C,'closed loop Transfer function =');\n",
"disp(roots(C.den),'closed loop poles =');\n",
"subplot(1,2,2);\n",
"rootl(O,[-15 -15; 5 15],'Root locus plot for compensated system');\n",
"plot(R,I,'x');\n",
"scf();\n",
"t = 0:0.05:10;\n",
"u = ones(1,length(t)); //step response\n",
"plotresp(u,t,C,'Unit step response');\n",
"xstring(1,0.95,'compensated system');"
   ]
   }
,
{
		   "cell_type": "markdown",
		   "metadata": {},
		   "source": [
			"## Example 6.a_13_2: Lead_Compensator_Design_Attempt_2.sce"
		   ]
		  },
  {
"cell_type": "code",
	   "execution_count": null,
	   "metadata": {
	    "collapsed": true
	   },
	   "outputs": [],
"source": [
"// Example A-6-13-2\n",
"// Lead Compensator Design Attempt 2\n",
"clear; clc;\n",
"xdel(winsid());  //close all windows\n",
"// please edit the path\n",
"// cd '/<your code directory>/';\n",
"// exec('rootl.sci');\n",
"// exec('plotresp.sci');\n",
"s = %s;\n",
"G = syslin('c',1,s^2);\n",
"H = syslin('c',1,0.1*s + 1);\n",
"R = [-1 -1];\n",
"I = [1.73205 -1.73205];\n",
"dp = R(1) + %i*I(1);\n",
"subplot(1,2,1);\n",
"rootl(G*H,[-15 -15; 5 15],'Root locus plot for uncompensated system');\n",
"plot(R,I,'x');\n",
"angdef = 180 - phasemag(horner(G*H,dp));\n",
"disp(angdef,'angle deficiency =');\n",
"z = 3; // zeros at -3;\n",
"p = 1.73205 / tand(40.89334 - angdef/2) + 1 ; disp(p,'p =');\n",
"Gc = ((s + z) / (s + p)) ^2;\n",
"disp(Gc,'lead compensator =');\n",
"Kc = abs(1/ horner(G*Gc*H,dp));\n",
"disp(Kc,'Kc =');\n",
"O = Kc*Gc*G*H;   disp(O,'open loop Transfer function =');\n",
"C = Kc*Gc*G /. H;      disp(C,'closed loop Transfer function =');\n",
"disp(roots(C.den),'closed loop poles =');\n",
"subplot(1,2,2);\n",
"rootl(O,[-15 -15; 5 15],'Root locus plot for compensated system');\n",
"plot(R,I,'x');\n",
"scf();\n",
"t = 0:0.05:10;\n",
"u = ones(1,length(t)); //step response\n",
"plotresp(u,t,C,'Unit step response');\n",
"xstring(1,0.95,'compensated system');"
   ]
   }
,
{
		   "cell_type": "markdown",
		   "metadata": {},
		   "source": [
			"## Example 6.a_17: Design_of_lag_lead_compensator.sce"
		   ]
		  },
  {
"cell_type": "code",
	   "execution_count": null,
	   "metadata": {
	    "collapsed": true
	   },
	   "outputs": [],
"source": [
"// Example A-6-17\n",
"// Design of lag lead compensator\n",
"clear; clc;\n",
"xdel(winsid());  //close all windows\n",
"mode(0);\n",
"// please edit the path\n",
"// cd '/<your code directory>/';\n",
"// exec('rootl.sci');\n",
"// exec('plotresp.sci');\n",
"s = %s;\n",
"G = syslin('c',1 ,s * (s + 1) * (s + 5));\n",
"Kv = 50;           // desired velocity constant\n",
"disp(horner(s*G,0),'Kv (uncompensated system) = ');\n",
"// designing lead part\n",
"Kc = Kv /abs(horner(s*G,0))\n",
"z1 = 1     //to cancel the pole s = -1 of the plant\n",
"_beta = 16.025; disp(_beta,'beta =');\n",
"x = 1.9054    // beta and x are found analytically\n",
"dp = -x + sqrt(3)*%i*x\n",
"R = [-x -x]; I = [imag(dp) -imag(dp)];\n",
"p1 = z1 * _beta\n",
"Gc1 =Kc * (s + z1)/(s + p1); disp(Gc1,'Lead compensator Gc1 =');\n",
"// Lag compensator design\n",
"p2 = 0.01  //say\n",
"z2 = p2 * _beta\n",
"Gc2 = (s + z2)/(s + p2);\n",
"disp(Gc2,'Lag compensator Gc2 =');\n",
"disp(abs(horner(Gc2,dp)),'magnitude contribution of lag part =');\n",
"disp(phasemag(horner(Gc2,dp)),'angle contribution of lag part =');\n",
"// these are acceptable\n",
"Gc = Gc1 * Gc2\n",
"H = G * Gc ;         // compensated system\n",
"H = syslin('c',numer(H),denom(H));\n",
"subplot(1,2,1);\n",
"rootl(G,[-20 -15; 10 15],'Uncompensated system');\n",
"plot(R,I,'x');\n",
"xgrid(color('gray'));\n",
"subplot(1,2,2);\n",
"rootl(H,[-20 -15; 10 15],'Compensated system');\n",
"plot(R,I,'x');\n",
"xgrid(color('gray'));\n",
"xstring(R(1),I(1),'Desired closed loop poles');\n",
"G1 = syslin('c',G /. 1);      \n",
"C = syslin('c',H /. 1);      // final closed loop system\n",
"disp(C,'closed loop system =');\n",
"disp(roots(C.den),'closed loop poles = ');\n",
"disp(horner(s*H,0),'velocity error constant Kv =')\n",
"scf();\n",
"subplot(2,1,1);\n",
"t = 0:0.05:10;\n",
"u = ones(1,length(t));\n",
"plotresp(u,t,G1,'');\n",
"plotresp(u,t,C,'Unit step response');\n",
"xstring(1,0.1,'uncompensated system');\n",
"xstring(0.7,1.12,'compensated system');\n",
"subplot(2,1,2);\n",
"plotresp(t,t,G1,'');\n",
"plotresp(t,t,C,'Unit ramp response');\n",
"xstring(3,0.9,'uncompensated system');\n",
"xstring(0.7,2,'compensated system');"
   ]
   }
,
{
		   "cell_type": "markdown",
		   "metadata": {},
		   "source": [
			"## Example 6.a_18: Design_of_a_compensator_for_a_highly_oscillactory_system.sce"
		   ]
		  },
  {
"cell_type": "code",
	   "execution_count": null,
	   "metadata": {
	    "collapsed": true
	   },
	   "outputs": [],
"source": [
"// Example A-6-18\n",
"// Design of a compensator for an highly oscillactory system\n",
"clear; clc;\n",
"xdel(winsid());  //close all windows\n",
"mode(0);\n",
"// please edit the path\n",
"// cd '/<your code directory>/';\n",
"// exec('rootl.sci');\n",
"// exec('plotresp.sci');\n",
"s = %s;\n",
"G = syslin('c',2*s + 0.1,s * (s^2 + 0.1*s + 4));\n",
"R = [-2 -2];\n",
"I = 2*sqrt(3) * [1 -1];\n",
"dp = R(1) + %i*I(1)\n",
"// Cancel the zero at -0.1\n",
"Gc2 = (s + 4)/(2*s + 0.1)\n",
"G1 = G*Gc2\n",
"angdef = 180 - phasemag(horner(G1,dp));\n",
"disp(angdef,'angle deficiency =')\n",
"// Designing two lead comensators in series\n",
"angdefby2 = angdef / 2\n",
"z = 2 // say\n",
"p = 2 + 2 * sqrt(3) * cotd(90 - angdefby2)\n",
"Gc1 = ((s + z)/(s + p))^2\n",
"G2 = Gc1 * G1;\n",
"Kc = 1 / abs(horner(G2,dp))\n",
"Gc = Kc * Gc1 * Gc2\n",
"H = Kc * G2;  disp(H,'Gc*G = ');\n",
"C = H /. 1;   disp(C,'closed loop Transfer function =');\n",
"disp(roots(C.den),'closed loop poles =');\n",
"subplot(1,2,1);\n",
"rootl(G,[-15 -15; 15 15],'Root locus plot for uncompensated system');\n",
"plot(R,I,'x');\n",
"xgrid(color('gray'));\n",
"subplot(1,2,2);\n",
"rootl(H,[-15 -15; 15 15],'Root locus plot for compensated system');\n",
"plot(R,I,'x');\n",
"xgrid(color('gray'));\n",
"scf();\n",
"subplot(2,1,1);\n",
"t = 0:0.02:5;\n",
"u = ones(1,length(t)); //step response\n",
"plotresp(u,t,C,'Unit step response of the compensated system');\n",
"subplot(2,1,2);\n",
"t = 0:0.02:8;\n",
"plotresp(t,t,C,'Unit step response of the compensated system');"
   ]
   }
,
{
		   "cell_type": "markdown",
		   "metadata": {},
		   "source": [
			"## Example 6.a_6: Root_locus.sce"
		   ]
		  },
  {
"cell_type": "code",
	   "execution_count": null,
	   "metadata": {
	    "collapsed": true
	   },
	   "outputs": [],
"source": [
"// Example A-6-6\n",
"// Root locus\n",
"clear; clc;\n",
"xdel(winsid());  //close all windows\n",
"// please edit the path\n",
"// cd '/<your code directory>/';\n",
"// exec('rootl.sci');\n",
"s = %s;\n",
"G = syslin('c',1,s * (s + 1) * (s^2 + 4*s + 13));\n",
"rootl(G,[-6 -5; 6 5],'Root locus plot for 1/ [s * (s + 1) * (s^2 + 4*s + 13]');\n",
"// the same method may be employed to plot root loci in examples\n",
"// A-6-1,2,3,8,10,\n",
"// simply write the transfer function and choose suitable range\n",
"// [xmin ymin; xmax ymax]"
   ]
   }
,
{
		   "cell_type": "markdown",
		   "metadata": {},
		   "source": [
			"## Example 6.i_1: Finding_the_Gain_K_at_any_point_on_the_root_locus.sce"
		   ]
		  },
  {
"cell_type": "code",
	   "execution_count": null,
	   "metadata": {
	    "collapsed": true
	   },
	   "outputs": [],
"source": [
"// Illustration 6.1\n",
"// Finding the Gain K at any point on the root locus\n",
"clear; clc;\n",
"xdel(winsid());  //close all windows\n",
"// please set the path\n",
"// cd '/<your code directory>/'\n",
"// exec('rootl.sci');\n",
"// exec('gainat.sci');\n",
"function drawr()\n",
"  rootl(G,[-4 -4; 4 4],'Gain at an arbitary point on the root locus');\n",
"endfunction\n",
"s = %s;\n",
"G = syslin('c',1, s * (s + 1) * (s + 3) );\n",
"drawr();\n",
"addmenu(0,'Gain',['Select Point 5 points','clear']);\n",
"Gain_0 = ['for i = 1:5; gainat(G); end;','delete(gca());drawr();'];\n",
"// click on the Gain menu in the menu bar\n",
"// clear will restore your rootlocus"
   ]
   }
,
{
		   "cell_type": "markdown",
		   "metadata": {},
		   "source": [
			"## Example 6.i_2: Orthogonality_Constant_gain_curves_and_Root_Locus.sce"
		   ]
		  },
  {
"cell_type": "code",
	   "execution_count": null,
	   "metadata": {
	    "collapsed": true
	   },
	   "outputs": [],
"source": [
"// Illustration 6.2\n",
"// Orthogonality of constant gain curves and root locus\n",
"// and the root locus\n",
"// Section6.3  Figure 6-29 in the book\n",
"clear; clc;\n",
"xdel(winsid());  //close all windows\n",
"// please set the path\n",
"// cd '/<your code directory>/'\n",
"// exec('rootl.sci');\n",
"s = %s;\n",
"P = 1 /( s * (s + 1) * (s + 2) );\n",
"G = syslin('c',P);\n",
"rootl(G,[ -6 -6; 6 6 ],'Orthogonality of root locus and constant gain curves');\n",
"P = 1 / P;\n",
"v = -6:0.1:6;\n",
"[X,Y] = ndgrid(v,v); // prepares a grid to compute the gain\n",
"S = X + %i * Y;\n",
"K = abs(horner(P,S)) ; // Gain evaluated over the grid\n",
"contour(v,v,K,10);  // plot lines of constant gain"
   ]
   }
,
{
		   "cell_type": "markdown",
		   "metadata": {},
		   "source": [
			"## Example 6.i_3: Effect_of_adding_poles_or_zeros_on_the_root_locus.sce"
		   ]
		  },
  {
"cell_type": "code",
	   "execution_count": null,
	   "metadata": {
	    "collapsed": true
	   },
	   "outputs": [],
"source": [
"// Illustration 6.3\n",
"// Effect of adding poles or zeros on the root locus of the system\n",
"// (section6-5). (fig 6-35)\n",
"// Interactive Program\n",
"// A MENU called 'Add' will be added to the window \n",
"clear; clc;\n",
"xdel(winsid());  //close all windows\n",
"// please set the path\n",
"// cd '/<your code directory>/'\n",
"// exec('rootl.sci');\n",
"function J = add(n,H)\n",
"  \n",
"  z = locate(1,1);\n",
"  x = z(1);y = z(2);\n",
"  N = H.num;\n",
"  D = H.den;\n",
"  if abs(y) <= 0.2 then    \n",
"    if n == 1 then  D = D * (s-x);\n",
"      else   N = N * (s-x);\n",
"    end\n",
"    zp = x;\n",
"   else\n",
"    if n == 1 then   D = D * (s^2 - 2*x*s + x^2 + y^2);\n",
"      else  N = N * (s^2 - 2*x*s + x^2 + y^2);\n",
"     end\n",
"    zp = x + %i * y; \n",
"   end \n",
"   J = syslin('c',N,D);\n",
"   draws(J);\n",
"   if(n == 1) then disp(zp,'p = '); else disp(zp,'z = ');end\n",
"   disp(J,'G = '); \n",
"endfunction\n",
"function draws(P)\n",
"  delete(gca());\n",
"  rootl(P,[-5 -5; 5 5],'Root locus'); //you can change the range :[-20,-20;20,20];\n",
"endfunction\n",
"// Main Program\n",
"s = %s;\n",
"N = 1;\n",
"D = s * (s + 1) * (s + 3);\n",
"G = syslin('c',1,D);\n",
"H = G;\n",
"draws(G);\n",
"addmenu(0,'Add',['Pole','zero','Reset']);\n",
"Add_0 = ['H = add(1,H)','H = add(2,H);','draws(G);H=G;']; \n",
"// place a zero close to the pole at -3\n",
"// first place it to the right then , to the left\n",
"// Then mover farther to the right.[-5 -5; 5 5]"
   ]
   }
],
"metadata": {
		  "kernelspec": {
		   "display_name": "Scilab",
		   "language": "scilab",
		   "name": "scilab"
		  },
		  "language_info": {
		   "file_extension": ".sce",
		   "help_links": [
			{
			 "text": "MetaKernel Magics",
			 "url": "https://github.com/calysto/metakernel/blob/master/metakernel/magics/README.md"
			}
		   ],
		   "mimetype": "text/x-octave",
		   "name": "scilab",
		   "version": "0.7.1"
		  }
		 },
		 "nbformat": 4,
		 "nbformat_minor": 0
}
