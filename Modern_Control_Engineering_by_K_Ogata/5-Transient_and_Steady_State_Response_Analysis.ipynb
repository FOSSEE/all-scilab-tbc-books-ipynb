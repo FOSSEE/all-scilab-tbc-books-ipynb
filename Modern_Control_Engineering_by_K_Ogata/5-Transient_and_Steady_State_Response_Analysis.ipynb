{
"cells": [
 {
		   "cell_type": "markdown",
	   "metadata": {},
	   "source": [
       "# Chapter 5: Transient and Steady State Response Analysis"
	   ]
	},
{
		   "cell_type": "markdown",
		   "metadata": {},
		   "source": [
			"## Example 5.10: Response_to_initial_condition_using_syslin_x0.sce"
		   ]
		  },
  {
"cell_type": "code",
	   "execution_count": null,
	   "metadata": {
	    "collapsed": true
	   },
	   "outputs": [],
"source": [
"// Example 5-10\n",
"// Response to initial condition (differential equation) \n",
"// Solution of differential equation with initial conditions \n",
"clear; clc;\n",
"xdel(winsid());  //close all windowss\n",
"t = 0:0.05:10;\n",
"s = %s;\n",
"G1 = cont_frm(1, s^3 + 8*s^2 + 17*s + 10); //get the state space model\n",
"ssprint(G1);\n",
"x0 = [2; 1; 0.5];   // initial states of the system\n",
"G = syslin('c', G1.A, G1.B, G1.C, G1.D, x0);\n",
"y = csim( zeros(1,length(t)) , t, G);\n",
"        // response to zero input will give response to initial state\n",
"plot(t,y);\n",
"xgrid(color('gray'));\n",
"xtitle('Response to initial conditions','t Sec','y');"
   ]
   }
,
{
		   "cell_type": "markdown",
		   "metadata": {},
		   "source": [
			"## Example 5.12: Constructing_Routh_array.sce"
		   ]
		  },
  {
"cell_type": "code",
	   "execution_count": null,
	   "metadata": {
	    "collapsed": true
	   },
	   "outputs": [],
"source": [
"// Example 5-12\n",
"// Constructing Routh array in scilab \n",
"clear; clc;\n",
"xdel(winsid());  //close all windows\n",
"mode(0);\n",
"s = %s;\n",
"H = s^4 + 2*s^3 + 3*s^2 + 4*s + 5;\n",
"routh_t(H)      // display the routh table"
   ]
   }
,
{
		   "cell_type": "markdown",
		   "metadata": {},
		   "source": [
			"## Example 5.13: Constructing_Routh_array.sce"
		   ]
		  },
  {
"cell_type": "code",
	   "execution_count": null,
	   "metadata": {
	    "collapsed": true
	   },
	   "outputs": [],
"source": [
"// Example 5-13\n",
"// Constructing Routh array in scilab\n",
" \n",
"clear; clc;\n",
"xdel(winsid());  //close all windows\n",
"mode(0);\n",
"s = %s;\n",
"H = s^5 + 2*s^4 + 24*s^3 + 48*s^2 - 25*s - 50;\n",
"routh_t(H)\n",
"// In this example a zero row forms at s^3\n",
"// the function atutomatically computes the derivative of the \n",
"// auxilliary polynomial 2s^4 + 48s^2 - 50 \n",
"// viz = 8*s^3 + 96s^2 "
   ]
   }
,
{
		   "cell_type": "markdown",
		   "metadata": {},
		   "source": [
			"## Example 5.2: Determining_K_and_Kh_for_required_step_response.sce"
		   ]
		  },
  {
"cell_type": "code",
	   "execution_count": null,
	   "metadata": {
	    "collapsed": true
	   },
	   "outputs": [],
"source": [
"// Example 5-2\n",
"// Determining K and Kh for required step response charecteristics\n",
"clear; clc;\n",
"xdel(winsid());\n",
"mode(0);\n",
"Mp = 0.2;\n",
"tp = 1;\n",
"J  = 1; // kg.m^2 \n",
"B  = 1; // N-/rad/sec\n",
"z = poly(0,'z');\n",
"Eq = (z*%pi)^2 - log(1/Mp)^2 * (1 - z^2);\n",
"x = roots(Eq);\n",
"zeta = abs(x(1))\n",
"wd = %pi / tp\n",
"wn = wd / sqrt(1 - zeta^2)\n",
"K  = J * wn^2\n",
"Kh = (2*sqrt(K*J)*zeta - B) / K\n",
"sigma = wn*zeta;\n",
"_beta = atan(wd/sigma)\n",
"tr = (%pi - _beta) / wd\n",
"ts_2percent = 4 / sigma\n",
"ts_5percent = 3 / sigma"
   ]
   }
,
{
		   "cell_type": "markdown",
		   "metadata": {},
		   "source": [
			"## Example 5.3: Step_response_of_MIMO_system.sce"
		   ]
		  },
  {
"cell_type": "code",
	   "execution_count": null,
	   "metadata": {
	    "collapsed": true
	   },
	   "outputs": [],
"source": [
"// Example 5-3\n",
"// Step response of a linear System given in State Space\n",
"// Model (Multiple Input Multiple Output System)\n",
"clear; clc;\n",
"xdel(winsid()); //close all windows\n",
"A = [ -1 -1; 6.5 0];\n",
"B = [ 1 1; 1 0];\n",
"C = [ 1 0; 0 1];\n",
"D = [ 0 0; 0 0];\n",
"G = syslin('c',A,B,C,D);\n",
"Gtf = clean(ss2tf(G));\n",
"disp(Gtf,'Gtf = '); //transfer function matrix\n",
"N = 200;                      //No of points\n",
"t = linspace(0,10,N);\n",
"u1 = [ones(1,N) ; zeros(1,N)];\n",
"u2 = [zeros(1,N); ones(1,N) ];\n",
"y1 = csim(u1,t,G);           // find system response\n",
"y2 = csim(u2,t,G);\n",
"plot(t,y1);\n",
"xtitle('Unit Step Response: input = u1 (u2 = 0)','t Sec','Response');\n",
"xgrid(color('gray'));       // grid\n",
"legend('output: y1','output: y2');\n",
"scf(1);                      // new window\n",
"plot(t,y2);\n",
"xtitle('Unit Step Response: input = u2 (u1 = 0)','t Sec','Response');\n",
"xgrid(color('gray'));\n",
"legend('output: y1','output: y2');\n",
" \n",
" // We cannot use csim('step' , , ) because this option is only available\n",
" // for SISO sytems"
   ]
   }
,
{
		   "cell_type": "markdown",
		   "metadata": {},
		   "source": [
			"## Example 5.4: Second_order_systems_with_different_damping_ratio.sce"
		   ]
		  },
  {
"cell_type": "code",
	   "execution_count": null,
	   "metadata": {
	    "collapsed": true
	   },
	   "outputs": [],
"source": [
"// Example 5-4 \n",
"// 2d and 3d plots of standard second order systems\n",
"// with wn = 1 and different damping ratios\n",
"clear; clc;\n",
"xdel(winsid()); //close all windows\n",
"s = %s;\n",
"t = 0:0.1:10;\n",
"zeta = 0:0.2:1;\n",
"for n = 1:6\n",
"    z(n,:) = csim('step',t,syslin('c', 1,s^2 + 2*zeta(n)*s + 1));  \n",
"end\n",
"plot(t,z);  // 2d plot of step responses\n",
"xtitle('Plot of step response curves with wn = 1 and different zeta','t sec','Response');\n",
"xgrid(color('gray'));\n",
"legend('zeta = 0','0.2','0.4','0.6','0.8','1.0');\n",
"scf();   // new window\n",
"[x,y] = meshgrid(0:0.1:10 , 0:0.2:1);  //needed by the mesh command\n",
"mesh(x,y,z);\n",
"xtitle(' 3d Plot of step Response','t sec','zeta','Response');\n",
"    \n",
"  "
   ]
   }
,
{
		   "cell_type": "markdown",
		   "metadata": {},
		   "source": [
			"## Example 5.5: Impulse_Response_of_a_Second_order_System.sce"
		   ]
		  },
  {
"cell_type": "code",
	   "execution_count": null,
	   "metadata": {
	    "collapsed": true
	   },
	   "outputs": [],
"source": [
"// Example 5-5\n",
"// Impulse Response of a Second Order System\n",
"clear; clc;\n",
"xdel(winsid()); //close all windows\n",
"s = %s;\n",
"G = syslin('c', 1, s^2 + 0.2*s + 1);\n",
"t = 0:0.5:50;\n",
"y = csim('impuls',t,G);\n",
"plot(t,y);\n",
"xtitle('Impulse Response of 1/ (s^2 + 0.2*s + 1)','t sec','Response');\n",
"xgrid(color('gray'));"
   ]
   }
,
{
		   "cell_type": "markdown",
		   "metadata": {},
		   "source": [
			"## Example 5.6: Unit_Ramp_response_of_a_second_order_system.sce"
		   ]
		  },
  {
"cell_type": "code",
	   "execution_count": null,
	   "metadata": {
	    "collapsed": true
	   },
	   "outputs": [],
"source": [
"// Example 5-6\n",
"// Unit Ramp response of a second order system\n",
"clear; clc;\n",
"xdel(winsid()); //close all windows\n",
"// Please edit the path\n",
"// cd '/<your code directory>/';\n",
"// exec('plotresp.sci');\n",
"s = %s\n",
"G = syslin('c', 2*s + 1, s^2 + s + 1);\n",
"t = 0:0.05:10;\n",
"plotresp(t,t,G,'Unit ramp response of G = (2*s + 1) / (s^2 + s + 1)');"
   ]
   }
,
{
		   "cell_type": "markdown",
		   "metadata": {},
		   "source": [
			"## Example 5.7: Response_to_step_and_exponential_input.sce"
		   ]
		  },
  {
"cell_type": "code",
	   "execution_count": null,
	   "metadata": {
	    "collapsed": true
	   },
	   "outputs": [],
"source": [
"// Example 5-7\n",
"// Response to step and exponential input\n",
"clear; clc;\n",
"xdel(winsid()); //close all windows\n",
"// Please edit the path\n",
"// cd '/<your code directory>/';\n",
"// exec('plotresp.sci');\n",
"t = 0:0.1:16;\n",
"A = [-1  0.5; -1  0];\n",
"B = [0; 1];\n",
"C = [1  0];\n",
"D = [0];\n",
"G = syslin('c',A,B,C,D);\n",
"// unit step response\n",
"u = ones(1,length(t));\n",
"plotresp(u,t,G,'Unit-Step Response');\n",
"scf();\n",
"// resposne to exponential input = e^(-t)\n",
"u = exp(-t);\n",
"plotresp(u,t,G,'Response to exponential input');"
   ]
   }
,
{
		   "cell_type": "markdown",
		   "metadata": {},
		   "source": [
			"## Example 5.8: Response_to_initial_condition.sce"
		   ]
		  },
  {
"cell_type": "code",
	   "execution_count": null,
	   "metadata": {
	    "collapsed": true
	   },
	   "outputs": [],
"source": [
"// Example 5-8\n",
"// Response to initial condition (Transfer Function)\n",
"clear; clc;\n",
"xdel(winsid()); //close all windows\n",
"s = %s;\n",
"N = 0.1*s^2 + 0.35*s ;  \n",
"D = s^2 + 3*s + 2;\n",
"G = syslin('c',N,D);\n",
"t = linspace(0,8,200);\n",
"u = ones(1,200);\n",
"y = csim(u,t,G);\n",
"plot(t,y);\n",
"xtitle('Response to initial conditions','t Sec','Response');\n",
"xgrid(color('gray'));\n",
"// We cannot use the 'step' version of csim directly\n",
"// as direct feedback sets to zero for the 'step' option"
   ]
   }
,
{
		   "cell_type": "markdown",
		   "metadata": {},
		   "source": [
			"## Example 5.9: Response_to_initial_conditions_using_state_space.sce"
		   ]
		  },
  {
"cell_type": "code",
	   "execution_count": null,
	   "metadata": {
	    "collapsed": true
	   },
	   "outputs": [],
"source": [
"// Example 5-9\n",
"// Response to initial conditions using state space approach\n",
"clear; clc;\n",
"xdel(winsid()); //close all windows\n",
"A = [0  1; -10 -5];\n",
"x0 = [2; 1];\n",
"G = syslin('c',A,x0,[0 0],[0]); //use dummy C and D variables\n",
"t = 0:0.01:3;\n",
"[y,x] = csim('impuls',t,G);\n",
"plot(t, x(1,:), t, x(2,:));\n",
"xtitle('Response to initial condition','t Sec','State variables');\n",
"xgrid(color('gray'));\n",
"legend('x1','x2');\n",
"// The State variables x, respond only to A,B matrices\n",
"// changning C and D will make no difference."
   ]
   }
,
{
		   "cell_type": "markdown",
		   "metadata": {},
		   "source": [
			"## Example 5.a_10: Step_response_characteristics.sce"
		   ]
		  },
  {
"cell_type": "code",
	   "execution_count": null,
	   "metadata": {
	    "collapsed": true
	   },
	   "outputs": [],
"source": [
"// Example A-5-10\n",
"// Plot the unit step response and find the transient parameters\n",
"// viz. - rise time, peak time , settling time and maximum overshoot\n",
"clear; clc;\n",
"xdel(winsid());  //close all windows\n",
"mode(0);\n",
"// Please edit path if needed\n",
"// cd '/<your code path>/';\n",
"// exec('stepch.sci');\n",
"N = poly( [12.811 18 6.3223],'s','c') ;\n",
"D = poly( [12.811 18 11.3223 6 1], 's','c');\n",
"G = syslin('c',N,D);\n",
"[Mp tp tr ts] = stepch(G,0,20,0.01,0.02)"
   ]
   }
,
{
		   "cell_type": "markdown",
		   "metadata": {},
		   "source": [
			"## Example 5.a_11: Step_Response_for_different_zeta_and_wn.sce"
		   ]
		  },
  {
"cell_type": "code",
	   "execution_count": null,
	   "metadata": {
	    "collapsed": true
	   },
	   "outputs": [],
"source": [
"// Example A-5-11\n",
"// Unit Step Response for different systems for different zeta,wn\n",
"clear; clc;\n",
"xdel(winsid());  //close all windows\n",
"zeta = [0.3 0.5 0.7 0.8];\n",
"wn   = [1 2 4 6];\n",
"n    = wn .^ 2;\n",
"sigma= 2 .* zeta .* wn;\n",
"s = %s;\n",
"t = 0:0.1:10;\n",
"for i= 1:4\n",
"z(i,:) = csim('step',t,syslin('c', n(i), s^2 + sigma(i)*s + n(i) )); \n",
"end\n",
"plot(t,z);  // 2d plot of step responses\n",
"xtitle('Plot of step response curves with different wn and zeta','t sec','Response');\n",
"xgrid(color('gray'));\n",
"legend('(zeta,wn) = (0.3 , 1)','(0.5 , 2)','(0.7 , 4)','(0.8 , 6)');"
   ]
   }
,
{
		   "cell_type": "markdown",
		   "metadata": {},
		   "source": [
			"## Example 5.a_12: Response_to_unit_ramp_and_exponential_input.sce"
		   ]
		  },
  {
"cell_type": "code",
	   "execution_count": null,
	   "metadata": {
	    "collapsed": true
	   },
	   "outputs": [],
"source": [
"// Example A-5-12\n",
"// Response to unit ramp and exponential input\n",
"clear; clc;\n",
"xdel(winsid());  //close all windows\n",
"// Please edit path if needed\n",
"// cd '/<your code folder>/'\n",
"// exec('plotresp.sci');\n",
"s = %s;\n",
"G = syslin('c', s + 10, s^3 + 6*s^2 + 9*s + 10);\n",
"t = 0:0.05:10;\n",
"e = exp(-0.5 * t);\n",
"plotresp(t,t,G,'Response to unit ramp input');\n",
"scf();\n",
"plotresp(e,t,G,'Response to exponential input');"
   ]
   }
,
{
		   "cell_type": "markdown",
		   "metadata": {},
		   "source": [
			"## Example 5.a_13: Response_to_input_r_equals_2_plus_t.sce"
		   ]
		  },
  {
"cell_type": "code",
	   "execution_count": null,
	   "metadata": {
	    "collapsed": true
	   },
	   "outputs": [],
"source": [
"// Example A-5-13\n",
"// Response to input r = 2 + t\n",
"clear; clc;\n",
"xdel(winsid());  //close all windows\n",
"// Please edit the path\n",
"// cd '/<your code folder>/Codes/chapter_5';\n",
"// exec('plotresp.sci')\n",
"s = %s;\n",
"G = syslin('c', 5, s^2 + s + 5);\n",
"t = 0:0.05:10;\n",
"r = 2 + t;\n",
"plotresp(r,t,G,'Response to input r = 2 + t');"
   ]
   }
,
{
		   "cell_type": "markdown",
		   "metadata": {},
		   "source": [
			"## Example 5.a_14: Response_to_unit_acceleration_input.sce"
		   ]
		  },
  {
"cell_type": "code",
	   "execution_count": null,
	   "metadata": {
	    "collapsed": true
	   },
	   "outputs": [],
"source": [
"// Example A-5-14\n",
"// Response to unit acceleration r = (1/2) * t^2\n",
"clear; clc;\n",
"xdel(winsid());  //close all windows\n",
"// please edit the path\n",
"// cd '/<your code folder>/Codes/chapter_5'\n",
"// exec('plotresp.sci')\n",
"s = %s;\n",
"G = syslin('c', 2, s^2 + s + 2);\n",
"t = 0:0.05:10;\n",
"r = (1/2) * t.^2;\n",
"plotresp(r,t,G,'Response to unit accceleration r = (1/2) * t^2');"
   ]
   }
,
{
		   "cell_type": "markdown",
		   "metadata": {},
		   "source": [
			"## Example 5.a_15: Step_Responses_for_different_zeta.sce"
		   ]
		  },
  {
"cell_type": "code",
	   "execution_count": null,
	   "metadata": {
	    "collapsed": true
	   },
	   "outputs": [],
"source": [
"// Example A-5-15\n",
"// 2d and 3d plot for various values of zeta\n",
"// Please refer to example 5-4\n",
"// To get the trasnposed plot please add the lines\n",
"scf();\n",
"mesh(y,x,z);\n",
"xtitle(' 3d Plot of step Response transposed','zeta','t sec','Response');"
   ]
   }
,
{
		   "cell_type": "markdown",
		   "metadata": {},
		   "source": [
			"## Example 5.a_16: Response_to_initial_conditions.sce"
		   ]
		  },
  {
"cell_type": "code",
	   "execution_count": null,
	   "metadata": {
	    "collapsed": true
	   },
	   "outputs": [],
"source": [
"// Example A-5-16\n",
"// Response to initial conditions\n",
"clear; clc;\n",
"xdel(winsid());  //close all windows\n",
"A = [0 1 0; 0 0 1; -10 -17 -8];\n",
"C = [1 0 0];\n",
"x0 = [2; 1; 0.5];\n",
"G = syslin('c',A,[0; 0; 0],C,0,x0);\n",
"t = 0:0.05:10;\n",
"u = zeros(1,length(t));\n",
"y = csim(u,t,G);\n",
"plot(t,y);\n",
"xgrid(color('gray'));\n",
"xtitle('Response to initial condition','t (sec)','output');"
   ]
   }
,
{
		   "cell_type": "markdown",
		   "metadata": {},
		   "source": [
			"## Example 5.a_3: Verifying_design_to_match_given_response_curve.sce"
		   ]
		  },
  {
"cell_type": "code",
	   "execution_count": null,
	   "metadata": {
	    "collapsed": true
	   },
	   "outputs": [],
"source": [
"// Example A-5-3\n",
"// Verifying design to match given response curve\n",
"clear; clc;\n",
"xdel(winsid());  //close all windows\n",
"// Please edit the path\n",
"// cd '/<your code directory>/';\n",
"// exec('plotresp.sci');\n",
"s = %s;\n",
"K = 1.42;\n",
"T = 1.09;\n",
"K = 1.42;\n",
"G1 = (K/(s*(T*s + 1)) ) /. 1;\n",
"G = syslin('c',G1);\n",
"t = 0:0.1:10;\n",
"u = ones(1,length(t));\n",
"y = plotresp(u,t,G,'Step response');\n",
"[m t] = max(y);\n",
"Mp = m - 1;\n",
"tp = (t - 1) * 0.1;\n",
"disp(Mp,'Mp = ');\n",
"disp(tp,'tp = ');"
   ]
   }
,
{
		   "cell_type": "markdown",
		   "metadata": {},
		   "source": [
			"## Example 5.a_4: Determining_K_and_k_for_required_step_response.sce"
		   ]
		  },
  {
"cell_type": "code",
	   "execution_count": null,
	   "metadata": {
	    "collapsed": true
	   },
	   "outputs": [],
"source": [
"// Example A-5-4\n",
"// Determining K and k for required step response charecteristics\n",
"clear; clc;\n",
"xdel(winsid());\n",
"mode(0);\n",
"Mp = 0.25;\n",
"tp = 2;\n",
"J  = 1; // kg.m^2 \n",
"z = poly(0,'z');\n",
"Eq = (z*%pi)^2 - log(1/Mp)^2 * (1 - z^2);\n",
"x = roots(Eq);\n",
"zeta = abs(x(1))\n",
"wd = %pi / tp\n",
"wn = wd / sqrt(1 - zeta^2)\n",
"K  = J * wn^2\n",
"k = 2*zeta*wn / K"
   ]
   }
,
{
		   "cell_type": "markdown",
		   "metadata": {},
		   "source": [
			"## Example 5.a_5: Verifying_design_to_match_given_response.sce"
		   ]
		  },
  {
"cell_type": "code",
	   "execution_count": null,
	   "metadata": {
	    "collapsed": true
	   },
	   "outputs": [],
"source": [
"// Example A-5-5\n",
"// Verifying design to match given response curve\n",
"clear; clc;\n",
"xdel(winsid());  //close all windows\n",
"s = %s;\n",
"m = 5.2; // lb / ft^2\n",
"b = 12.2;// lb/ft/sec\n",
"k = 20;  // lb /ft\n",
"G = syslin('c',1,m*s^2 + b*s + k);\n",
"STEP = 0.05; t = 0:STEP:7;\n",
"u = 2 * ones(1,length(t));\n",
"y = csim(u,t,G);\n",
"plot(t,y);\n",
"xgrid(color('gray'));\n",
"xtitle('Step response','t sec','Response');\n",
"[m t] = max(y);\n",
"Mp = (m - 0.1) /0.1 * 100;\n",
"tp = (t - 1) * STEP;\n",
"disp(Mp,'Mp (percent) = ');\n",
"disp(tp,'tp = ');"
   ]
   }
,
{
		   "cell_type": "markdown",
		   "metadata": {},
		   "source": [
			"## Example 5.a_8: Unit_step_response_and_partial_fraction_expansion.sce"
		   ]
		  },
  {
"cell_type": "code",
	   "execution_count": null,
	   "metadata": {
	    "collapsed": true
	   },
	   "outputs": [],
"source": [
"// Example A-5-8\n",
"// Unit step response and partial fraction expansion\n",
"clear; clc;\n",
"xdel(winsid());  //close all windows\n",
"// Please edit path\n",
"// cd '<your codes path>/';\n",
"// exec('pf_residu.sci');\n",
"// exec('plotresp.sci');\n",
"s = %s ;\n",
"N = poly( [80 72 25 3],'s','c');\n",
"D = poly( [80 96 40 8 1],'s','c');\n",
"G = syslin('c',N,D)\n",
"t = 0:0.05:5;\n",
"u = ones(1,length(t));\n",
"plotresp(u,t,G,'Unit Step Response of C(s) / D(s)');\n",
"// To find the residues of step response\n",
"D = D * s; \n",
"[r,z,p] = pf_residu(N,D);\n",
"disp(z,'zeros = ');disp([p,r],'poles : residues  ='); \n",
"  "
   ]
   }
,
{
		   "cell_type": "markdown",
		   "metadata": {},
		   "source": [
			"## Example 5.a_9: Effect_of_zeros_on_step_response_of_a_system.sce"
		   ]
		  },
  {
"cell_type": "code",
	   "execution_count": null,
	   "metadata": {
	    "collapsed": true
	   },
	   "outputs": [],
"source": [
"// Example A-5-9\n",
"// Effect of zeros on step response of a system\n",
"// Interactive program\n",
"clear; clc;\n",
"xdel(winsid());  //close all windows\n",
"function drawg()\n",
"  delete(gca())\n",
"  N = 4*(s*1/z + 1); \n",
"  G = syslin('c',N,D);\n",
"  ys = csim('step',t,G);\n",
"  m = max(ys);\n",
"  Mp = m -1;\n",
"  plot(t,ys);\n",
"  xtitle('Unit Step Response for zero at z =' + string(z) + ' Mp = ' + string(Mp),'t (sec)','Output');\n",
"  xgrid(color('gray'));\n",
"  a = gca();\n",
"  a.data_bounds = [0 0;10 4]\n",
"endfunction\n",
"s = %s;\n",
"z = 0.2;\n",
"D = s^2 + 4*s + 4;\n",
"t = 0:0.02:10;\n",
"drawg();\n",
"h = uicontrol('style','pushbutton','position','250|10|60|20','callback','z = z - 0.1;drawg()','String','<-');\n",
"j = uicontrol('style','pushbutton','position','310|10|60|20','callback','z = z + 0.1;drawg()','String','->');"
   ]
   }
],
"metadata": {
		  "kernelspec": {
		   "display_name": "Scilab",
		   "language": "scilab",
		   "name": "scilab"
		  },
		  "language_info": {
		   "file_extension": ".sce",
		   "help_links": [
			{
			 "text": "MetaKernel Magics",
			 "url": "https://github.com/calysto/metakernel/blob/master/metakernel/magics/README.md"
			}
		   ],
		   "mimetype": "text/x-octave",
		   "name": "scilab",
		   "version": "0.7.1"
		  }
		 },
		 "nbformat": 4,
		 "nbformat_minor": 0
}
