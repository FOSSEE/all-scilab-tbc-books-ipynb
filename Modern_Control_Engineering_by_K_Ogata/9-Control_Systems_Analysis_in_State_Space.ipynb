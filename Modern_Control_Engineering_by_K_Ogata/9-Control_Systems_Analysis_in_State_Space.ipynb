{
"cells": [
 {
		   "cell_type": "markdown",
	   "metadata": {},
	   "source": [
       "# Chapter 9: Control Systems Analysis in State Space"
	   ]
	},
{
		   "cell_type": "markdown",
		   "metadata": {},
		   "source": [
			"## Example 9.14: State_and_ouput_controllability_and_observability.sce"
		   ]
		  },
  {
"cell_type": "code",
	   "execution_count": null,
	   "metadata": {
	    "collapsed": true
	   },
	   "outputs": [],
"source": [
"// Example 9-14\n",
"// State and ouput controllability and observability\n",
"clear; clc;\n",
"xdel(winsid());  //close all windows\n",
"A = [1 1; -2 -1];\n",
"B = [0;1];\n",
"C = [1 0];\n",
"D = [0];\n",
"G =syslin('c',A,B,C,D); ssprint(G);\n",
"Cc = cont_mat(A,B); disp(Cc,'state controllability matrix =');\n",
"c = [C*B C*A*B];  disp(Oc,'output controllability matrix =');\n",
"Ob = obsv_mat(A,C); disp(Ob,'observability matrix =');"
   ]
   }
,
{
		   "cell_type": "markdown",
		   "metadata": {},
		   "source": [
			"## Example 9.15: Observability.sce"
		   ]
		  },
  {
"cell_type": "code",
	   "execution_count": null,
	   "metadata": {
	    "collapsed": true
	   },
	   "outputs": [],
"source": [
"// Example 9-15\n",
"// Observability\n",
"clear; clc;\n",
"xdel(winsid());  //close all windows\n",
"A = [0 1 0; 0 0 1; -6 -11 -6];\n",
"B = [0; 0; 1];\n",
"C = [4 5 1];\n",
"Ob = obsv_mat(A,C); \n",
"disp(Ob,'observability matrix =');\n",
"disp(clean(det(Ob)) , 'det(Ob) =');\n",
"// system is not completely observable"
   ]
   }
,
{
		   "cell_type": "markdown",
		   "metadata": {},
		   "source": [
			"## Example 9.1: Transfer_function_to_controllable_observable_and_jordon_canonical_forms.sce"
		   ]
		  },
  {
"cell_type": "code",
	   "execution_count": null,
	   "metadata": {
	    "collapsed": true
	   },
	   "outputs": [],
"source": [
"// Example 9-1\n",
"// Transfer function to controllable, observable and jordon canonical forms\n",
"clear; clc;\n",
"xdel(winsid());  //close all windows\n",
"// please edit the path\n",
"// cd '<path for the dependencies>';\n",
"// exec('pf_residu.sci');\n",
"s = %s;\n",
"N = s + 3;\n",
"D = s^2 + 3*s + 2;\n",
"Hc = cont_frm(N,D);\n",
"disp('controllable form ='); ssprint(Hc);\n",
"Ho =syslin('c', (Hc.A)' , (Hc.C)', (Hc.B)' ,Hc.D);\n",
"disp('observable form ='); ssprint(Ho);\n",
"A = diag(roots(D));\n",
"B = [1;1]; \n",
"C = pf_residu(N,D)';\n",
"D = Hc.D;               // in this case : b0 = 0\n",
"Hj = syslin('c',A,B,C,D); \n",
"disp('jordon canonical form =');ssprint(Hj);\n",
"// This example will work for any proper transfer function\n",
"// with all distinct poles or eigen values"
   ]
   }
,
{
		   "cell_type": "markdown",
		   "metadata": {},
		   "source": [
			"## Example 9.2: Transformations_in_state_space.sce"
		   ]
		  },
  {
"cell_type": "code",
	   "execution_count": null,
	   "metadata": {
	    "collapsed": true
	   },
	   "outputs": [],
"source": [
"// Example 9-2\n",
"// Transformations in state space \n",
"clear; clc;\n",
"xdel(winsid());  //close all windows\n",
"mode(0);\n",
"A = [0 1 0; 0 0 1; -6 -11 -6];\n",
"B = [0; 0; 0]; \n",
"C = [1 0 0];\n",
"D = [0];\n",
"H = syslin('c',A,B,C,D); \n",
"disp('non standard form =');ssprint(H);\n",
"e = spec(A)'   // eigen values\n",
"P = [ones(1,3); e; e.^2] // P is the transformation matrix\n",
"A1 = diag(e);\n",
"B1 = inv(P)* B;\n",
"C1 = C * P;\n",
"D1 = D;\n",
"H1 = syslin('c',A1,B1,C1,D1); \n",
"disp('standard form =');ssprint(H1);"
   ]
   }
,
{
		   "cell_type": "markdown",
		   "metadata": {},
		   "source": [
			"## Example 9.3: Conversion_from_state_space_to_transfer_function_model.sce"
		   ]
		  },
  {
"cell_type": "code",
	   "execution_count": null,
	   "metadata": {
	    "collapsed": true
	   },
	   "outputs": [],
"source": [
"// Example 9-3\n",
"// Conversion from state space to transfer function model\n",
"clear; clc;\n",
"xdel(winsid());  //close all windows\n",
"// please edit the path\n",
"// cd '<path to your dependencies>';\n",
"// exec('transferf.sci');\n",
"A = [0 1 0; 0 0 1; -5.008 -25.1026 -5.03247];\n",
"B = [0; 25.04; -121.005];\n",
"C = [1 0 0];\n",
"D = [0];\n",
"H = transferf(A,B,C,D);\n",
"disp(H,'H =');         "
   ]
   }
,
{
		   "cell_type": "markdown",
		   "metadata": {},
		   "source": [
			"## Example 9.4: Conversion_from_state_space_to_transfer_function_model.sce"
		   ]
		  },
  {
"cell_type": "code",
	   "execution_count": null,
	   "metadata": {
	    "collapsed": true
	   },
	   "outputs": [],
"source": [
"// Example 9-4\n",
"// Conversion from state space to transfer function model\n",
"clear; clc;\n",
"xdel(winsid());  //close all windows\n",
"// please edit the path\n",
"// cd '<path to your dependencies>';\n",
"// exec('transferf.sci');\n",
"A = [0 1; -25 -4];\n",
"B = [1 1; 0 1];\n",
"C = [1 0; 0 1];\n",
"D = [0 0; 0 0];\n",
"H = transferf(A,B,C,D);\n",
"disp(H,'H =');       \n",
"// Htf is the tranfer function matrix with four transfer functions\n",
"// Htf(y1,u1),Htf(y1,u2)\n",
"// Htf(y2,u1),Htf(y2,u2)"
   ]
   }
,
{
		   "cell_type": "markdown",
		   "metadata": {},
		   "source": [
			"## Example 9.5: State_transition_matrix.sce"
		   ]
		  },
  {
"cell_type": "code",
	   "execution_count": null,
	   "metadata": {
	    "collapsed": true
	   },
	   "outputs": [],
"source": [
"// Example 9-5\n",
"// State transition matrix\n",
"clear; clc;\n",
"xdel(winsid());  //close all windows\n",
"// please edit the path\n",
"// cd '<path for the dependencies>';\n",
"// exec('pf_residu.sci');\n",
"// exec('ilaplace.sci');\n",
"  \n",
"s = %s;\n",
"A = [0 1; -2 -3];\n",
"L = inv(s*eye(2,2) - A);\n",
"disp(L, 'inv(sI - A) =');\n",
"// Find the Inverse Laplace transform\n",
"for i = 1:2\n",
"  for j = 1:2\n",
"    phi(i,j) = ilaplace(L(i,j));\n",
"  end;\n",
"end;\n",
"disp(phi,'state transition matrix =');\n",
"// ilaplace may not work for systems with repeated poles"
   ]
   }
,
{
		   "cell_type": "markdown",
		   "metadata": {},
		   "source": [
			"## Example 9.7: Finding_e_to_the_power_At_using_laplace_transforms.sce"
		   ]
		  },
  {
"cell_type": "code",
	   "execution_count": null,
	   "metadata": {
	    "collapsed": true
	   },
	   "outputs": [],
"source": [
"// Example 9-7\n",
"// Finding e to the power At using laplace transforms\n",
"clear; clc;\n",
"xdel(winsid());  //close all windows\n",
"// please edit the path\n",
"// cd '<path for the dependencies>';\n",
"// exec('pf_residu.sci');\n",
"// exec('ilaplace.sci');\n",
"  \n",
"s = %s;\n",
"A = [0 1; 0 -2];\n",
"L = inv(s*eye(2,2) - A);\n",
"disp(L, 'inv(sI - A) =');\n",
"// Find the Inverse Laplace transform\n",
"for i = 1:2\n",
"  for j = 1:2\n",
"    phi(i,j) = ilaplace(L(i,j));\n",
"  end;\n",
"end;\n",
"disp(phi,'e^At =');"
   ]
   }
,
{
		   "cell_type": "markdown",
		   "metadata": {},
		   "source": [
			"## Example 9.9: Linear_dependence_of_vectors.sce"
		   ]
		  },
  {
"cell_type": "code",
	   "execution_count": null,
	   "metadata": {
	    "collapsed": true
	   },
	   "outputs": [],
"source": [
"// Example 9-9\n",
"// Linear dependence of vectors\n",
"clear; clc;\n",
"xdel(winsid());  //close all windows\n",
"mode(0)\n",
"x1 = [1; 2; 3]\n",
"x2 = [1; 0; 1]\n",
"x3 = [2; 2; 4]\n",
"A = [x1 x2 x3];\n",
"disp(A,'[x1:x2:x3] =');\n",
"disp(clean(det(A)),'det([x1:x2:x3]) ='); // singular\n",
"x3 = [2;2;2]\n",
"A = [x1 x2 x3];\n",
"disp(A,'[x1:x2:x3] =');\n",
"disp(det(A),'det([x1:x2:x3]) =');// non singular"
   ]
   }
,
{
		   "cell_type": "markdown",
		   "metadata": {},
		   "source": [
			"## Example 9.a_16: Controllability_and_pole_zero_cancellation.sce"
		   ]
		  },
  {
"cell_type": "code",
	   "execution_count": null,
	   "metadata": {
	    "collapsed": true
	   },
	   "outputs": [],
"source": [
"// Example A-9-16\n",
"// Controllability and pole zero cancellation\n",
"clear; clc;\n",
"xdel(winsid());  //close all windows\n",
"// please edit the path\n",
"// cd '<path to dependencies>';\n",
"// exec('transferf.sci');\n",
"A = [-3 1; -2  1.5];\n",
"B = [1; 4];\n",
"C = [1 0];\n",
"D = 0;\n",
"Cc = cont_mat(A,B); disp(Cc,'state controllability matrix =');\n",
"disp(det(Cc), 'det(Cc) = '); \n",
"Htf = transferf(A,B,C,D); disp(Htf,'Reduced transfer function =');\n",
"e = spec(A);              disp(e,'Eigen values = ');\n",
"D = poly(e,'s');   disp(D,'actual denominator (characteristic poly) =');\n",
" "
   ]
   }
,
{
		   "cell_type": "markdown",
		   "metadata": {},
		   "source": [
			"## Example 9.a_17: Controllability_observability_and_pole_zero_cancellation.sce"
		   ]
		  },
  {
"cell_type": "code",
	   "execution_count": null,
	   "metadata": {
	    "collapsed": true
	   },
	   "outputs": [],
"source": [
"// Example A-9-17\n",
"// Controllability observability and pole zero cancellation\n",
"clear; clc;\n",
"xdel(winsid());  //close all windows\n",
"A = [0  1; -0.4  -1.3];\n",
"B = [0; 1];\n",
"C = [0.8 1];\n",
"D = [0];\n",
"G1 = syslin('c',A,B,C,D); ssprint(G1);\n",
"G2 = syslin('c',A', C',B',D); ssprint(G2);\n",
"Cc1 = cont_mat(A,B); disp(Cc1,'state controllability matrix 1 =');\n",
"disp(det(Cc1), 'det(Cc1) = ');\n",
"Ob1 = obsv_mat(A,C); disp(Ob1,'observability matrix 1 =');\n",
"disp(det(Ob1),'det(Ob1)');\n",
" \n",
"Cc2 = cont_mat(A',C'); disp(Cc2,'state controllability matrix 2 =');\n",
"disp(det(Cc2), 'det(Cc2) = ');\n",
"Ob2 = obsv_mat(A',B'); disp(Ob2 ,'observability matrix 2 =');\n",
"disp(det(Ob2),'det(Ob1)');\n",
"Htf = ss2tf(G1); disp(Htf,'Reduced transfer function =');\n",
"e = spec(A);              disp(e,'Eigen values = ');\n",
"D = poly(e,'s');   disp(D,'actual denominator (characteristic poly) =');\n",
" "
   ]
   }
,
{
		   "cell_type": "markdown",
		   "metadata": {},
		   "source": [
			"## Example 9.a_5: Conversion_from_transfer_function_model_to_state_space_model.sce"
		   ]
		  },
  {
"cell_type": "code",
	   "execution_count": null,
	   "metadata": {
	    "collapsed": true
	   },
	   "outputs": [],
"source": [
"// Example A-9-5\n",
"// Conversion from transfer function model to state space model\n",
"clear; clc;\n",
"xdel(winsid());  //close all windows\n",
"s = %s;\n",
"num = 25.04*s + 5.008;\n",
"den = poly( [5.008 25.1026 5.03247 1],'s','c');\n",
"Hss = cont_frm(num,den);\n",
"disp(Hss,'Hss = ');\n",
" "
   ]
   }
,
{
		   "cell_type": "markdown",
		   "metadata": {},
		   "source": [
			"## Example 9.b_3: Obtaining_canonical_form.sce"
		   ]
		  },
  {
"cell_type": "code",
	   "execution_count": null,
	   "metadata": {
	    "collapsed": true
	   },
	   "outputs": [],
"source": [
"// Exercise B-9-3\n",
"// Obtaining canonical form\n",
"clear; clc;\n",
"xdel(winsid());  //close all windows\n",
"// please edit the path\n",
"// cd '<path to dependencies>';\n",
"// exec('transferf.sci');\n",
"A = [1 2; -4 -3];\n",
"B = [1;2];\n",
"C = [1 1];\n",
"D = 0;\n",
"[Ac Bc U ind] = canon(A,B);\n",
"U = -1*U;   // a correction\n",
"Cc = C*U;\n",
"disp(clean(Ac),'Ac = ');\n",
"disp(clean(Bc),'Bc = ');\n",
"disp(clean(Cc),'Cc = ');\n",
"disp(U,'transformation matrix U = ');\n",
"// Ac=inv(U)*A*U, Bc=inv(U)*B\n",
"// check\n",
"Htf1 = transferf(A,B,C,D);\n",
"Htf2 = transferf(Ac,Bc,Cc,D);\n",
"disp(Htf1,'Htf1 = ');\n",
"disp(Htf2,'Htf2 = ');"
   ]
   }
],
"metadata": {
		  "kernelspec": {
		   "display_name": "Scilab",
		   "language": "scilab",
		   "name": "scilab"
		  },
		  "language_info": {
		   "file_extension": ".sce",
		   "help_links": [
			{
			 "text": "MetaKernel Magics",
			 "url": "https://github.com/calysto/metakernel/blob/master/metakernel/magics/README.md"
			}
		   ],
		   "mimetype": "text/x-octave",
		   "name": "scilab",
		   "version": "0.7.1"
		  }
		 },
		 "nbformat": 4,
		 "nbformat_minor": 0
}
