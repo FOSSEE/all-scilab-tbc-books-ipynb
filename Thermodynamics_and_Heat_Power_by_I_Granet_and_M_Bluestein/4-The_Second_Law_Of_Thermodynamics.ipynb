{
"cells": [
 {
		   "cell_type": "markdown",
	   "metadata": {},
	   "source": [
       "# Chapter 4: The Second Law Of Thermodynamics"
	   ]
	},
{
		   "cell_type": "markdown",
		   "metadata": {},
		   "source": [
			"## Example 4.10: Determine_the_change_in_entropy.sce"
		   ]
		  },
  {
"cell_type": "code",
	   "execution_count": null,
	   "metadata": {
	    "collapsed": true
	   },
	   "outputs": [],
"source": [
"//scilab 5.4.1\n",
"clear;\n",
"clc;\n",
"printf('\t\t\tProblem Number 4.10\n\n\n');\n",
"// Chapter 4 : The Second Law Of Thermodynamics\n",
"// Problem 4.10  (page no. 159) \n",
"// Solution\n",
"\n",
"hfg=1959.7; //Unit:kJ/kg //Evaporative enthalpy\n",
"T=195.07+273; //Converted into Kelvin //Temperature\n",
"deltaS=hfg/T; //Change in entropy //kJ/kg*K\n",
"printf('Change in entropy at 1.4MPa for the vaporization of 1 kg is %f kJ/kg*K',deltaS); //Values compares very closely to the Steam Tables value"
   ]
   }
,
{
		   "cell_type": "markdown",
		   "metadata": {},
		   "source": [
			"## Example 4.11: Heat_rejected.sce"
		   ]
		  },
  {
"cell_type": "code",
	   "execution_count": null,
	   "metadata": {
	    "collapsed": true
	   },
	   "outputs": [],
"source": [
"//scilab 5.4.1\n",
"clear;\n",
"clc;\n",
"printf('\t\t\tProblem Number 4.11\n\n\n');\n",
"// Chapter 4 : The Second Law Of Thermodynamics\n",
"// Problem 4.11  (page no. 159) \n",
"// Solution\n",
"\n",
"//Let is assume that a Carnot engine cycle operates between two temperatures in each case.\n",
"t=1000; //(unit:fahrenheit) \n",
"//converting temperatures to absolute temperatures;\n",
"T1=t+460;\n",
"//T1*deltaS=Qin;\n",
"Qin=100; //Unit:Btu //heat added to the cycle \n",
"deltaS=Qin/T1; //Change in entropy //Btu/R\n",
"T2=50+460; //converting 50 F temperature to absolute temperature;\n",
"Qr=T2*deltaS; //Heat rejected //Unit:Btu\n",
"printf('%f Btu energy is unavailable with respect to a receiver at 50 fahrenheit \n',Qr);\n",
"T2=0+460; //converting 0 F temperature to absolute temperature;\n",
"Qr=T2*deltaS; //Heat rejected //unit:Btu\n",
"printf('%f Btu energy is unavailable with respect to a receiver at 0 fahrenheit \n',Qr);"
   ]
   }
,
{
		   "cell_type": "markdown",
		   "metadata": {},
		   "source": [
			"## Example 4.12: energy_unavailable_at_receiver.sce"
		   ]
		  },
  {
"cell_type": "code",
	   "execution_count": null,
	   "metadata": {
	    "collapsed": true
	   },
	   "outputs": [],
"source": [
"//scilab 5.4.1\n",
"clear;\n",
"clc;\n",
"printf('\t\t\tProblem Number 4.12\n\n\n');\n",
"// Chapter 4 : The Second Law Of Thermodynamics\n",
"// Problem 4.12  (page no. 160) \n",
"// Solution\n",
"\n",
"Qin=1000; //Unit:Joule //heat entered to the system\n",
"t=500; //(unit:Celcius)  //temperature\n",
"//converting temperature\n",
"T1=t+273; //Unit:Kelvin\n",
"deltaS=Qin/T1; //Change in entropy //Unit:J/K\n",
"printf('Solution for (a),\n');\n",
"T2=20+273; //converted 20 Celcius temperature to Kelvin;\n",
"Qr=T2*deltaS; //Heat rejected at 20 celcius //Joule\n",
"printf('%f Joule energy is unavailable with respect to a receiver at 20 Celcius\n\n',Qr);\n",
"\n",
"printf('Solution for (b),\n')\n",
"T2=0+273; //converted 0 Celcius temperature to Kelvin\n",
"Qr=T2*deltaS; //heat rejected at 0 celcius //Joule\n",
"printf('%f Joule energy is unavailable with respect to a receiver at 0 Celcius\n',Qr);"
   ]
   }
,
{
		   "cell_type": "markdown",
		   "metadata": {},
		   "source": [
			"## Example 4.13: The_final_temperature.sce"
		   ]
		  },
  {
"cell_type": "code",
	   "execution_count": null,
	   "metadata": {
	    "collapsed": true
	   },
	   "outputs": [],
"source": [
"//scilab 5.4.1\n",
"clear;\n",
"clc;\n",
"printf('\t\t\tProblem Number 4.13\n\n\n');\n",
"// Chapter 4 : The Second Law Of Thermodynamics\n",
"// Problem 4.13  (page no. 161) \n",
"// Solution\n",
"\n",
"//deltas=Cp*ln(T2/T1)\n",
"//Multiplying both the sides of equation by the mass m,\n",
"//DeltaS=m*Cp*ln(T2/T1)\n",
"m=6; //mass //Unit:lbm\n",
"Cp=0.361; //Btu/lbm*R //Specific heat constant\n",
"DeltaS=-0.7062; //Unit:Btu/R //change in entropy\n",
"t=1440; //(unit:fahrenheit) \n",
"//converting temperatures to absolute temperatures;\n",
"T1=t+460; //Unit:R\n",
"//Rearranging the equation,\n",
"T2=T1*exp(DeltaS/(m*Cp)); //final temperature //Unit:R\n",
"printf('Final temperature is %f R',T2);\n",
"printf('or %f fahrenheit',T2-460);"
   ]
   }
,
{
		   "cell_type": "markdown",
		   "metadata": {},
		   "source": [
			"## Example 4.14: Net_Change_in_entropy.sce"
		   ]
		  },
  {
"cell_type": "code",
	   "execution_count": null,
	   "metadata": {
	    "collapsed": true
	   },
	   "outputs": [],
"source": [
"//scilab 5.4.1\n",
"clear;\n",
"clc;\n",
"printf('\t\t\tProblem Number 4.14\n\n\n');\n",
"// Chapter 4 : The Second Law Of Thermodynamics\n",
"// Problem 4.14  (page no. 162) \n",
"// Solution\n",
"\n",
"//1 lbm of water at 500F is mixed with 1 lbm of water at 100F\n",
"m1=1; //Unit:lbm //mass\n",
"m2=1; //Unit:lbm //mass\n",
"c1=1; //Specific heat constant\n",
"c2=1; //Specific heat constant\n",
"t1=500; //(unit:fahrenheit) \n",
"t2=100; //(unit:fahrenheit)\n",
"cmix=1; //Specific heat constant of mixture\n",
"//now, m1*c1*t1 +m2*c2*t2 = (m1+m2)*cmix*t\n",
"//So,\n",
"t=((m1*c1*t1)+(m2*c2*t2))/((m1+m2)*cmix) //resulting temperature of the mixture\n",
"printf('The resulting temperature of the mixture is %f fahrenheit\n',t);\n",
"//For this problem,the hot steam is cooled\n",
"deltas=cmix*log((t+460)/(t1+460)); //temperatures converted to absolute temperatures; //deltas=change in entropy //Unit:Btu/(lbm*R)\n",
"//The cold steam is heated\n",
"deltaS=cmix*log((t+460)/(t2+460)); //temperatures converted to absolute temperatures; //deltaS=change in entropy //Unit:Btu/(lbm*R)\n",
"printf('The net change in entropy is %f Btu/(lbm*R)\n',deltaS+deltas);"
   ]
   }
,
{
		   "cell_type": "markdown",
		   "metadata": {},
		   "source": [
			"## Example 4.15: Change_in_entropy.sce"
		   ]
		  },
  {
"cell_type": "code",
	   "execution_count": null,
	   "metadata": {
	    "collapsed": true
	   },
	   "outputs": [],
"source": [
"//scilab 5.4.1\n",
"clear;\n",
"clc;\n",
"printf('\t\t\tProblem Number 4.15\n\n\n');\n",
"// Chapter 4 : The Second Law Of Thermodynamics\n",
"// Problem 4.15  (page no. 163) \n",
"// Solution\n",
"\n",
"//In problem 4.15,\n",
"//1 lbm of water at 500F is mixed with 1 lbm of water at 100F\n",
"m1=1; //Unit:lbm //mass\n",
"m2=1; //Unit:lbm //mass\n",
"c1=1; //Specific heat constant\n",
"c2=1; //Specific heat constant\n",
"t1=500; //(unit:fahrenheit)\n",
"t2=100; //(unit:fahrenheit)\n",
"cmix=1; //Specific heat constant of mixture\n",
"//now, m1*c1*t1 +m2*c2*t2 = (m1+m2)*cmix*t  //So,\n",
"t=((m1*c1*t1)+(m2*c2*t2))/((m1+m2)*cmix) //resulting temperature of the mixture\n",
"printf('In problem 4.14,The resulting temperature of the mixture is %f fahrenheit\n',t);\n",
"\n",
"//Now,in problem 4.15,taking 0F as a reference temperature,\n",
"//For hot fluid,\n",
"deltas=cmix*log((t1+460)/(0+460)); //temperatures converted to absolute temperatures; //deltas=change in entropy //Unit:Btu/(lbm*R)\n",
"//For cold fluid,\n",
"s=cmix*log((t2+460)/(0+460)); //temperatures converted to absolute temperatures; //s=change in entropy //Unit:Btu/(lbm*R)\n",
"//At final mixture temperature of t F,the entropy of each system above 0F is,for the hot fluid \n",
"s1=cmix*log((t+460)/(0+460)); //temperatures converted to absolute temperatures; //s1=change in entropy //Unit:Btu/(lbm*R)\n",
"//and for the cold fluid,\n",
"s2=cmix*log((t+460)/(0+460)); //temperatures converted to absolute temperatures; //s2=change in entropy //Unit:Btu/(lbm*R)\n",
"printf('The change in the entropy for hot fluid is %f Btu/(lbm*R)\n',s1-deltas);\n",
"printf('The change in the entropy for cold fluid is %f Btu/(lbm*R)\n',s2-s);\n",
"printf('The total change in entropy if %f Btu/(lbm*R',s1-deltas+s2-s);"
   ]
   }
,
{
		   "cell_type": "markdown",
		   "metadata": {},
		   "source": [
			"## Example 4.1: Efficiency.sce"
		   ]
		  },
  {
"cell_type": "code",
	   "execution_count": null,
	   "metadata": {
	    "collapsed": true
	   },
	   "outputs": [],
"source": [
"//scilab 5.4.1\n",
"clear;\n",
"clc;\n",
"printf('\t\t\tProblem Number 4.1\n\n\n');\n",
"// Chapter 4 : The Second Law Of Thermodynamics\n",
"// Problem 4.1  (page no. 148) \n",
"// Solution\n",
"\n",
"//given data\n",
"t1=1000;  //(unit:fahrenheit) //Source temperature\n",
"t2=80;   //(unit:fahrenheit) //Sink temperature\n",
"//solution\n",
"//converting temperatures to absolute temperatures;\n",
"T1=t1+460; //Source temperature //Unit:R\n",
"T2=t2+460; //Sink temperature //Unit:R\n",
"\n",
"printf('Solution for (a)\n');\n",
"ans=((T1-T2)/T1)*100;//(ans in %)  //Efficiency of the engine\n",
"printf('Efficiency of the engine is %f percentage\n\n',ans);\n",
"\n",
"printf('Solution for (b)\n');\n",
"T1=2000+460; //Source temperature //Unit:R\n",
"T2=t2+460;  //Sink temperature //Unit:R\n",
"ans=((T1-T2)/T1)*100;//(ans in %) //Efficiency of the engine\n",
"printf('When the upper tempretrature is increased upto certain ,Efficiency of the engine is %f percentage \n\n',ans);\n",
"\n",
"printf('Solution for (c)\n');\n",
"T1=t1+460; //Source temperature //Unit:R\n",
"T2=160+460;  //Sink temperature //Unit:R\n",
"ans=((T1-T2)/T1)*100;//(ans in %) //Efficiency of the engine\n",
"printf('When the lower tempretrature is increased upto certain ,Efficiency of the engine is %f percentage \n\n',ans);"
   ]
   }
,
{
		   "cell_type": "markdown",
		   "metadata": {},
		   "source": [
			"## Example 4.2: Work_and_the_heat_removed_from_reservoir.sce"
		   ]
		  },
  {
"cell_type": "code",
	   "execution_count": null,
	   "metadata": {
	    "collapsed": true
	   },
	   "outputs": [],
"source": [
"//scilab 5.4.1\n",
"clear;\n",
"clc;\n",
"printf('\t\t\tProblem Number 4.2\n\n\n');\n",
"// Chapter 4 : The Second Law Of Thermodynamics\n",
"// Problem 4.2  (page no. 149) \n",
"// Solution\n",
"\n",
"//given data\n",
"Qin=100; //heat added to the cycle \n",
"\n",
"printf('In problem 4.1,\n')\n",
"//given data\n",
"t1=1000;  //(unit:fahrenheit) //Source temperature\n",
"t2=80;   //(unit:fahrenheit)  //Sink temperature\n",
"//solution\n",
"//converting temperatures to absolute temperatures;\n",
"T1=t1+460; //Source temperature //Unit:R\n",
"T2=t2+460;  //Sink temperature //Unit:R\n",
"printf('Solution for (a)\n');\n",
"printf('Efficiency of the engine is %f percentage\n\n',((T1-T2)/T1)*100);\n",
"\n",
"printf('Now in problem 4.2,\n')\n",
"W=0.63*Qin; //W=W/J; //Efficiency in problem 4.1 \n",
"W=Qin*(W/Qin); //amount of work\n",
"Qr=Qin-W; //Qin-Qr=W/J  //Qr=heat rejected by the cycle\n",
"printf('The heat removed from the reservoir %f units',Qr);"
   ]
   }
,
{
		   "cell_type": "markdown",
		   "metadata": {},
		   "source": [
			"## Example 4.3: Minimum_input_required.sce"
		   ]
		  },
  {
"cell_type": "code",
	   "execution_count": null,
	   "metadata": {
	    "collapsed": true
	   },
	   "outputs": [],
"source": [
"//scilab 5.4.1\n",
"clear;\n",
"clc;\n",
"printf('\t\t\tProblem Number 4.3\n\n\n');\n",
"// Chapter 4 : The Second Law Of Thermodynamics\n",
"// Problem 4.3  (page no. 149) \n",
"// Solution\n",
"\n",
"//given data\n",
"t1=70; //(unit:fahrenheit) //Source temperature\n",
"t2=15; //(unit:fahrenheit)  //Sink temperature\n",
"Qin=125000; //(unit=Btu/hr) //Qin=heat added to the cycle\n",
"//converting temperatures to absolute temperatures;\n",
"T1=t1+460; //Source temperature //Unit:R\n",
"T2=t2+460; //Sink temperature //Unit:R\n",
"Qr=Qin*(T2/T1); //Qr=heat rejected by the cycle\n",
"printf('Qr is %f in Btu/hr\n',Qr);\n",
"work=Qin-Qr; //reversed cycle requires atleast input //work //btu/hr\n",
"printf('Work is %f in Btu/hr\n',work);\n",
"// 1 hp = 33000 ft*LBf/min \n",
"// 1 Btu = 778 ft*LBf //1 hr = 60 min\n",
"printf('Minimum horsepower input required is %f hp',work*778/(60*33000));"
   ]
   }
,
{
		   "cell_type": "markdown",
		   "metadata": {},
		   "source": [
			"## Example 4.4: A_Carnot_engine.sce"
		   ]
		  },
  {
"cell_type": "code",
	   "execution_count": null,
	   "metadata": {
	    "collapsed": true
	   },
	   "outputs": [],
"source": [
"//scilab 5.4.1\n",
"clear;\n",
"clc;\n",
"printf('\t\t\tProblem Number 4.4\n\n\n');\n",
"// Chapter 4 : The Second Law Of Thermodynamics\n",
"// Problem 4.4  (page no. 150) \n",
"// Solution\n",
"\n",
"W=(50*33000)/778;//output //W=W/J\n",
"// 1 hp = 33000 ft*LBf/min \n",
"// 1 Btu = 778 ft*LBf\n",
"printf('Output is %f in Btu/min\n',W);\n",
"t1=1000; //Source temperature //(unit:fahrenheit)\n",
"t2=100;  //Sink temperature //(unit:fahrenheit)\n",
"//converting temperatures to absolute temperatures;\n",
"T1=t1+460; //Source temperature //Unit:R\n",
"T2=t2+460; //Sink temperature //Unit:R\n",
"n=(1-(T2/T1))*100; //efficiency\n",
"printf('Efficiency is %f percentage\n',n);//(in %)\n",
"//n=(W/J)/Qin\n",
"Qin=W/(n/100);//(unit Btu/hr) //Qin=heat added to the cycle\n",
"printf('Heat added to the cycle is %f in  Btu/min\n',Qin);\n",
"Qr=Qin*(1-(n/100));//(unit Btu/hr) //Qr=heat rejected by the cycle\n",
"printf('Heat rejected by the cycle is %f in  Btu/min \n',Qr);"
   ]
   }
,
{
		   "cell_type": "markdown",
		   "metadata": {},
		   "source": [
			"## Example 4.5: The_Carnot_engine.sce"
		   ]
		  },
  {
"cell_type": "code",
	   "execution_count": null,
	   "metadata": {
	    "collapsed": true
	   },
	   "outputs": [],
"source": [
"//scilab 5.4.1\n",
"clear;\n",
"clc;\n",
"printf('\t\t\tProblem Number 4.5\n\n\n');\n",
"// Chapter 4 : The Second Law Of Thermodynamics\n",
"// Problem 4.5  (page no. 151) \n",
"// Solution\n",
"\n",
"t1=700; //Source temperature //Unit:Celcius\n",
"t2=20;  //Sink temperature //Unit:Celcius\n",
"//converting in F\n",
"T1=t1+273;  //Source temperature //Unit:R\n",
"T2=t2+273; //Sink temperature //Unit:R\n",
"n=(T1-T2)/T1*100; //Efficiency\n",
"printf('Efficiency is %f percentage\n',n);//(in %)\n",
"output=65;//in hp //Given\n",
"work=output*0.746;//(unit kJ/s) // 1 hp = 746 W\n",
"printf('Work is %f kJ/s\n',work);\n",
"Qin=work/(n/100);//(unit kJ/s) //Qin=heat added to the cycle\n",
"printf('Heat added to the cycle is %f kJ/s \n',Qin);\n",
"Qr=Qin*(1-(n/100));//(unit kJ/s) //Qr=heat rejected by the cycle\n",
"printf('Heat rejected by the cycle is %f  kJ/s \n',Qr);"
   ]
   }
,
{
		   "cell_type": "markdown",
		   "metadata": {},
		   "source": [
			"## Example 4.7: Two_Carnot_engines.sce"
		   ]
		  },
  {
"cell_type": "code",
	   "execution_count": null,
	   "metadata": {
	    "collapsed": true
	   },
	   "outputs": [],
"source": [
"//scilab 5.4.1\n",
"clear;\n",
"clc;\n",
"printf('\t\t\tProblem Number 4.7\n\n\n');\n",
"// Chapter 4 : The Second Law Of Thermodynamics\n",
"// Problem 4.7  (page no. 152) \n",
"// Solution\n",
"\n",
"t1=700; //(unit:fahrenheit) //Source temperature\n",
"t2=200; //(unit:fahrenheit)  //Sink temperature\n",
"//converting temperatures to absolute temperatures;\n",
"T1=t1+460;  //Source temperature //Unit:R\n",
"T2=t2+460; //Sink temperature //Unit:R\n",
"//n1=(T1-Ti)/T1 and n2=(Ti-T2)/Ti //n1 & n2 are efficiency\n",
"//(T1-Ti)/T1=(Ti-T2)/Ti;\n",
"Ti=sqrt(T1*T2); //Exhaust temperature  //Unit:R\n",
"printf('Exhaust temperature of first engine is %f in R\n',Ti);\n",
"//converting absolute temperature to normal F temperature\n",
"//Ti(fahrenheit)=Ti(R)-460;\n",
"printf('Exhaust temperature of first engine is %f fahrenheit\n',Ti-460);"
   ]
   }
,
{
		   "cell_type": "markdown",
		   "metadata": {},
		   "source": [
			"## Example 4.8: Change_in_entropy.sce"
		   ]
		  },
  {
"cell_type": "code",
	   "execution_count": null,
	   "metadata": {
	    "collapsed": true
	   },
	   "outputs": [],
"source": [
"//scilab 5.4.1\n",
"clear;\n",
"clc;\n",
"printf('\t\t\tProblem Number 4.8\n\n\n');\n",
"// Chapter 4 : The Second Law Of Thermodynamics\n",
"// Problem 4.8  (page no. 157) \n",
"// Solution\n",
"\n",
"//For reversible isothermal process,\n",
"q=843.7; //Heat //Unit:Btu //at 200 psia\n",
"t=381.86; //(unit:fahrenheit) //temperature\n",
"////converting temperatures to absolute temperatures;\n",
"T=t+460; //temperature //unit:R\n",
"deltaS=(q/T); //Change in entropy  //Unit:Btu/lbm*R\n",
"printf('Change in entropy is %f  Btu/lbm*R\n',deltaS); //1 LBm of saturated water"
   ]
   }
,
{
		   "cell_type": "markdown",
		   "metadata": {},
		   "source": [
			"## Example 4.9: work_done_per_pound_and_energy_rejected.sce"
		   ]
		  },
  {
"cell_type": "code",
	   "execution_count": null,
	   "metadata": {
	    "collapsed": true
	   },
	   "outputs": [],
"source": [
"//scilab 5.4.1\n",
"clear;\n",
"clc;\n",
"printf('\t\t\tProblem Number 4.9\n\n\n');\n",
"// Chapter 4 : The Second Law Of Thermodynamics\n",
"// Problem 4.9  (page no. 158) \n",
"// Solution\n",
"\n",
"//For reversible isothermal process,\n",
"//In problem 4.8,\n",
"q=843.7; //Heat //Unit:Btu //at 200 psia\n",
"t=381.86; //(unit:fahrenheit) \n",
"//converting temperatures to absolute temperatures;\n",
"T=t+460; //Unit:R'\n",
"deltaS=(q/T);  //Change in entropy //Btu/lbm\n",
"printf('Change in entropy is %f  Btu/lbm*R\n',deltaS); //1 LBm of saturated water\n",
"\n",
"//In problem 4.9\n",
"t1=381.86; //(unit:fahrenheit) //Source temperature\n",
"t2=50; //(unit:fahrenheit)  //Sink temperature\n",
"//converting temperatures to absolute temperatures;\n",
"T1=t1+460;  //Source temperature //Unit:R\n",
"T2=t2+460; //Sink temperature //Unit:R\n",
"qin=q;//heat added to the cycle \n",
"n=(1-(T2/T1))*100; //Efficiency\n",
"printf('Efficiency is %f percentage\n',n);\n",
"wbyJ=qin*n*0.01;//work output\n",
"printf('Work output is %f Btu/lbm\n',wbyJ);\n",
"Qr=qin-wbyJ; //heat rejected\n",
"printf('Heat rejected is %f Btu/lbm\n\n',Qr);\n",
"printf('As an alternative solution and refering to figure 4.12,\n')\n",
"qin=T1*deltaS; //heat added //btu/lbm\n",
"Qr=T2*deltaS; //Heat rejected //btu/lbm\n",
"printf('Heat rejected is %f Btu/lbm\n',Qr);\n",
"wbyJ=qin-Qr; //Work output //Btu/lbm\n",
"printf('Work output is %f Btu/lbm\n',wbyJ);\n",
"n=(wbyJ/qin)*100; //Efficiency\n",
"printf('Efficiency is %f percentage\n',n);"
   ]
   }
],
"metadata": {
		  "kernelspec": {
		   "display_name": "Scilab",
		   "language": "scilab",
		   "name": "scilab"
		  },
		  "language_info": {
		   "file_extension": ".sce",
		   "help_links": [
			{
			 "text": "MetaKernel Magics",
			 "url": "https://github.com/calysto/metakernel/blob/master/metakernel/magics/README.md"
			}
		   ],
		   "mimetype": "text/x-octave",
		   "name": "scilab",
		   "version": "0.7.1"
		  }
		 },
		 "nbformat": 4,
		 "nbformat_minor": 0
}
