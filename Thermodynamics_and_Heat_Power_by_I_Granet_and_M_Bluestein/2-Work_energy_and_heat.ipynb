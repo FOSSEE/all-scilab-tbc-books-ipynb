{
"cells": [
 {
		   "cell_type": "markdown",
	   "metadata": {},
	   "source": [
       "# Chapter 2: Work energy and heat"
	   ]
	},
{
		   "cell_type": "markdown",
		   "metadata": {},
		   "source": [
			"## Example 2.10: Kinetic_Energy.sce"
		   ]
		  },
  {
"cell_type": "code",
	   "execution_count": null,
	   "metadata": {
	    "collapsed": true
	   },
	   "outputs": [],
"source": [
"clear;\n",
"clc;\n",
"printf('\t\t\tProblem Number 2.10\n\n\n');\n",
"// Chapter 2: Work, Energy, and Heat\n",
"// Problem 2.10 (page no. 70) \n",
"// Solution\n",
"\n",
"m=10 //Unit:kg //m=mass\n",
"Z=10 //Unit:m //Z=The distance,the body is raised from its initial position when the force is applied\n",
"g= 9.81 //Unit:m/s^2 //g=The local gravity\n",
"//There are no losses in the system\n",
"//So,initial potential energy plus initial kinetic energy equal to sum of final potential energy plus final kinetic energy\n",
"//So, PE1+KE1=PE2+KE2\n",
"//From the figure,KE1=0; PE2=0;\n",
"//So,PE1=KE2;\n",
"PE1=m*g*Z; //PE=Potential Energy //Unit:Joule\n",
"//KE2=(m*v^2)/2\n",
"v=(PE1*2)/m; \n",
"V=sqrt(v); //Unit:m/s //velocity \n",
"printf('Velocity = %f m/s',V);\n",
"KE2=PE1; //kinetic energy //Unit:Joule\n",
"printf('\nKinetic energy is %f N*m',PE1);"
   ]
   }
,
{
		   "cell_type": "markdown",
		   "metadata": {},
		   "source": [
			"## Example 2.11: Flow_work.sce"
		   ]
		  },
  {
"cell_type": "code",
	   "execution_count": null,
	   "metadata": {
	    "collapsed": true
	   },
	   "outputs": [],
"source": [
"clear;\n",
"clc;\n",
"printf('\t\t\tProblem Number 2.11\n\n\n');\n",
"// Chapter 2: Work, Energy, and Heat\n",
"// Problem 2.11 (page no. 74) \n",
"// Solution\n",
"\n",
"printf('At the entrance of device,\n');\n",
"p1=100; //pressure at the entance //Unit:psia,lbf/in^2\n",
"Rho1=62.4; //Unit:lbm/ft^3  //Rho=The density\n",
"v1=144*(1/Rho1) //Specific Volume at entrance or reciprocal of fluid density // 144 in^2=1 ft^2\n",
"//1 Btu = 778 ft*lbf \n",
"J=778; //Unit:ft*lbf/Btu //conversion factor\n",
"FW1=(p1*v1)/J; //Flow work  //Btu/lbm\n",
"printf('Flow work = %f Btu/lbm\n',FW1);\n",
"\n",
"printf('At the exit of device,\n');\n",
"p2=50; //pressure at the exit //Unit:psia,lbf/in^2\n",
"Rho2=30; //Unit:lbm/ft^3 //Rho=The density\n",
"v2=144*(1/Rho2) //Specific Volume at exit or reciprocal of fluid density // 144 in^2=1 ft^2\n",
"//1 Btu = 778 ft*lbf \n",
"J=778; //Unit:ft*lbf/Btu //conversion factor\n",
"FW2=(p2*v2)/J; //Flow work //Btu/lbm\n",
"printf('Flow work = %f Btu/lbm\n',FW2);"
   ]
   }
,
{
		   "cell_type": "markdown",
		   "metadata": {},
		   "source": [
			"## Example 2.12: Flow_work.sce"
		   ]
		  },
  {
"cell_type": "code",
	   "execution_count": null,
	   "metadata": {
	    "collapsed": true
	   },
	   "outputs": [],
"source": [
"clear;\n",
"clc;\n",
"printf('\t\t\tProblem Number 2.12\n\n\n');\n",
"// Chapter 2: Work, Energy, and Heat\n",
"// Problem 2.12 (page no. 75) \n",
"// Solution\n",
"\n",
"printf('At the entrance of device,\n');\n",
"p1=200*1000; //200kPa*1000 Pa/kPa  //pressure at the entrance //Unit:N/m^2\n",
"Rho1=1000; //kg/m^3 //Fluid density at entrance\n",
"v1=1/Rho1; //Specific Volume at entrance or reciprocal of fluid density\n",
"FW1=p1*v1; //Flow work at entrance //Unit:N*m/kg\n",
"printf('Flow work = %fN*m/kg\n',FW1);\n",
"\n",
"printf('At the exit of device,\n');\n",
"p2=100*1000; //200kPa*1000 Pa/kPa  //pressure at the exit //Unit:N/m^2\n",
"Rho2=250; //kg/m^3 //Fluid density at exit\n",
"v2=1/Rho2; //Specific Volume at entrance or reciprocal of fluid density\n",
"FW2=p2*v2; //Flow work at exit//Unit:N*m/kg\n",
"printf('Flow work = %f N*m/kg\n',FW2);"
   ]
   }
,
{
		   "cell_type": "markdown",
		   "metadata": {},
		   "source": [
			"## Example 2.14: Work_done.sce"
		   ]
		  },
  {
"cell_type": "code",
	   "execution_count": null,
	   "metadata": {
	    "collapsed": true
	   },
	   "outputs": [],
"source": [
"clear;\n",
"clc;\n",
"printf('\t\t\tProblem Number 2.14\n\n\n');\n",
"// Chapter 2: Work, Energy, and Heat\n",
"// Problem 2.14 (page no. 78)\n",
"// Solution\n",
"\n",
"//It is necessary that pressure be expressed as psfa when the volume is in cubic feet\n",
"//100 psia = 100*144 psfa\n",
"p1=100*144; //Unit:psfa  //initial pressure\n",
"v1=2; //Unit:ft^3/lb //Initial Specific Volume\n",
"v2=1; //Unit:ft^3/lb //Final Specific Volume\n",
"w=p1*v1*log(v2/v1); //work done on fluid //Unit:ft*lbf/lbm\n",
"printf('Work done on fluid = %f ft*lbf/lb\n',w);\n",
"//1 Btu = 778 ft*lbf \n",
"printf('Work done on the fluid per pound of fluid is %f Btu/lbm',w/778);"
   ]
   }
,
{
		   "cell_type": "markdown",
		   "metadata": {},
		   "source": [
			"## Example 2.15: Work_done.sce"
		   ]
		  },
  {
"cell_type": "code",
	   "execution_count": null,
	   "metadata": {
	    "collapsed": true
	   },
	   "outputs": [],
"source": [
"clear;\n",
"clc;\n",
"printf('\t\t\tProblem Number 2.15\n\n\n');\n",
"// Chapter 2: Work, Energy, and Heat\n",
"// Problem 2.15 (page no. 79) \n",
"// Solution\n",
"\n",
"//p1*v1=p2*v2\n",
"p1=200*1000; //p1=Initial Pressure //Unit:Pa\n",
"p2=800*1000; //p2=Final Pressure //Unit:Pa\n",
"v1=0.1; //v1=Initial Special Volume //Unit:m^3/kg\n",
"v2=(p1/p2)*v1; //v1=final Special Volume //Unit:m^3/kg\n",
"w=p1*v1*log(v2/v1); //workdone //Unit:kJ/kg\n",
"printf('Work done per kilogram of gas is %f kJ/kg (into the system)',w/1000);"
   ]
   }
,
{
		   "cell_type": "markdown",
		   "metadata": {},
		   "source": [
			"## Example 2.2: Work.sce"
		   ]
		  },
  {
"cell_type": "code",
	   "execution_count": null,
	   "metadata": {
	    "collapsed": true
	   },
	   "outputs": [],
"source": [
"clear;\n",
"clc;\n",
"printf('\t\t\tProblem Number 2.2\n\n\n');\n",
"// Chapter 2: Work, Energy, and Heat\n",
"// Problem 2.2 (page no. 62) \n",
"// Solution\n",
"\n",
"//Given\n",
"k=100; // Unit:lbf/in. //k=spring constant\n",
"l=2; //Unit:inch //l= length of compression of string\n",
"work=(1/2)*k*l^2; //force-displacement relation //Unit:in*lbf\n",
"printf('Workdone is %f inch*lbf',work);"
   ]
   }
,
{
		   "cell_type": "markdown",
		   "metadata": {},
		   "source": [
			"## Example 2.3: Work.sce"
		   ]
		  },
  {
"cell_type": "code",
	   "execution_count": null,
	   "metadata": {
	    "collapsed": true
	   },
	   "outputs": [],
"source": [
"clear;\n",
"clc;\n",
"printf('\t\t\tProblem Number 2.3\n\n\n');\n",
"// Chapter 2: Work, Energy, and Heat\n",
"// Problem 2.3 (page no. 62) \n",
"// Solution\n",
"\n",
"//Given\n",
"k=20*1000; // Unit:N/m  //k=20kN //k=spring constant\n",
"l=0.075; //Unit:meter  //l=75 mm //l= length of compression of string\n",
"work=(1/2)*k*l^2; //force-displacement relation //Unit:N*m\n",
"printf('Workdone is %f Jule',work);"
   ]
   }
,
{
		   "cell_type": "markdown",
		   "metadata": {},
		   "source": [
			"## Example 2.4: Potential_Energy.sce"
		   ]
		  },
  {
"cell_type": "code",
	   "execution_count": null,
	   "metadata": {
	    "collapsed": true
	   },
	   "outputs": [],
"source": [
"clear;\n",
"clc;\n",
"printf('\t\t\tProblem Number 2.4\n\n\n');\n",
"// Chapter 2: Work, Energy, and Heat\n",
"// Problem 2.4 (page no. 66) \n",
"// Solution\n",
"\n",
"//Given\n",
"Z=600; //Unit:ft //Z=The distance,the body is raised from its initial position when the force is applied\n",
"gc=32.174; //Unit: (lbm*ft)/(lbf*s^2) //gc is constant of proportionality\n",
"g=gc; //Unit:ft/s^2 //g=The local gravity\n",
"m=1; //Unit:lbm //m=mass\n",
"PE=(m*g*Z)/gc; //potential energy //Unit:ft*lbf\n",
"printf('%f ft*lbf work is done lifting the water to elevation ',PE)"
   ]
   }
,
{
		   "cell_type": "markdown",
		   "metadata": {},
		   "source": [
			"## Example 2.5: Potential_Energy.sce"
		   ]
		  },
  {
"cell_type": "code",
	   "execution_count": null,
	   "metadata": {
	    "collapsed": true
	   },
	   "outputs": [],
"source": [
"clear;\n",
"clc;\n",
"printf('\t\t\tProblem Number 2.5\n\n\n');\n",
"// Chapter 2: Work, Energy, and Heat\n",
"// Problem 2.5 (page no. 66) \n",
"// Solution\n",
"\n",
"\n",
"m=1; //Unit:kg //m=mass\n",
"g= 9.81 //Unit:m/s^2 //g=The local gravity\n",
"Z=50 //Unit:m ////Z=The distance,the body is raised from its initial position when the force is applied //In this case Z=delivered water from well to pump\n",
"PE=m*g*Z; //PE=Potential Energy //Unit:Joule\n",
"printf('Change in potential energy per kg of water is %f J ',PE); //J=Joule=N*m=kg*m^2/s^2"
   ]
   }
,
{
		   "cell_type": "markdown",
		   "metadata": {},
		   "source": [
			"## Example 2.6: power_generated.sce"
		   ]
		  },
  {
"cell_type": "code",
	   "execution_count": null,
	   "metadata": {
	    "collapsed": true
	   },
	   "outputs": [],
"source": [
"clear;\n",
"clc;\n",
"printf('\t\t\tProblem Number 2.6\n\n\n');\n",
"// Chapter 2: Work, Energy, and Heat\n",
"// Problem 2.6 (page no. 66) \n",
"// Solution\n",
"\n",
"Rho=62.4; //Unit:lbm/ft^3 //Rho=The density of water\n",
"A=10000; //Flow=10000; gal/min\n",
"V=(231/1728); // 12 inch=1 ft //So,1 ft^3=1728 in^3  // One Gallon is a volumetric measure equal to 231 in^3\n",
"//A*V //Unit:ft^3/min\n",
"\n",
"//In example, 2.4:\n",
"printf('From example 2.4\n');\n",
"Z=600; //Unit:ft //Z=The distance,the body is raised from its initial position when the force is applied\n",
"gc=32.174; //Unit: (lbm*ft)/(lbf*s^2) //gc is constant of proportionality\n",
"g=gc; //Unit:ft/s^2 //g=The local gravity\n",
"m=1; //Unit:lbm //m=mass\n",
"PE=(m*g*Z)/gc; //potential energy //Unit:ft*lbf\n",
"printf('%f ft*lbf work is done lifting the water to elevation\n ',PE);\n",
"\n",
"//So,\n",
"printf('In example 2.5 \n')\n",
"M=Rho*A*V; //M=the mass flow\n",
"Power=M*PE; //Unit:ft*lbf/lbm\n",
"printf('Generated Power is %f ft*lbf/lbm \n',Power);\n",
"// 1 horsepower = 33,000 ft*lbf/min\n",
"printf('Power = %f hp\n',Power/33000);"
   ]
   }
,
{
		   "cell_type": "markdown",
		   "metadata": {},
		   "source": [
			"## Example 2.7: Power.sce"
		   ]
		  },
  {
"cell_type": "code",
	   "execution_count": null,
	   "metadata": {
	    "collapsed": true
	   },
	   "outputs": [],
"source": [
"clear;\n",
"clc;\n",
"printf('\t\t\tProblem Number 2.7\n\n\n');\n",
"// Chapter 2: Work, Energy, and Heat\n",
"// Problem 2.7 (page no. 67) \n",
"// Solution\n",
"\n",
"printf('In problem 2.5\n');\n",
"m=1; //Unit:kg //m=mass\n",
"g= 9.81 //Unit:m/s^2 //g=The local gravity\n",
"Z=50 //Unit:m ////Z=The distance,the body is raised from its initial position when the force is applied //In this case Z=delivered water from well to pump\n",
"PE=m*g*Z; //PE=Potential Energy //Unit:Joule\n",
"printf('Change in potential energy per kg of water is %f J \n',PE); //J=Joule=N*m=kg*m^2/s^2\n",
"//Given data in problem 2.7 is\n",
"M=1000; //Unit;kg/min//M=Water density \n",
"Power=PE*M*(1/60); //1 min=60 seconds //power //unit:Joule/s=W\n",
"printf('Power is %f Watt\n',Power); //Watt=N*m/s = Joule/s =Watt\n",
"//1 Hp=746 Watt\n",
"printf('Power is %f Horsepower',Power/745);"
   ]
   }
,
{
		   "cell_type": "markdown",
		   "metadata": {},
		   "source": [
			"## Example 2.8: Kinetic_Energy.sce"
		   ]
		  },
  {
"cell_type": "code",
	   "execution_count": null,
	   "metadata": {
	    "collapsed": true
	   },
	   "outputs": [],
"source": [
"clear;\n",
"clc;\n",
"printf('\t\t\tProblem Number 2.8\n\n\n');\n",
"// Chapter 2: Work, Energy, and Heat\n",
"// Problem 2.8 (page no. 69) \n",
"// Solution\n",
"\n",
"m=10; //Unit:lb //m=Mass\n",
"V1=88; //Unit://ft/s V1=Velocity before it is slowed down\n",
"V2=10; //Unit;ft/s //V2=Velocity after it is slowed down\n",
"gc=32.174; //Unit: (lbm*ft)/(lbf*s^2) //gc is constant of proportionality\n",
"\n",
"KE1=m*V1^2/(2*gc); //The kinetic energy of the body before it is slowed down //Unit:ft*lbf\n",
"printf('The kinetic energy of the body before it is slowed down is %f ft*lbf\n',KE1);\n",
"\n",
"KE2=m*V2^2/(2*gc); //The kinetic energy of the body before it is slowed down //Unit:ft*lbf\n",
"printf('The kinetic energy of the body before it is slowed down is %f ft*lbf\n',KE2);\n",
"\n",
"KE=KE1-KE2; //KE=Change in kinetic energy //Unit:ft*lbf\n",
"printf('Change in kinetic energy is %f ft*lbf',KE);"
   ]
   }
,
{
		   "cell_type": "markdown",
		   "metadata": {},
		   "source": [
			"## Example 2.9: Change_in_Kinetic_Energy.sce"
		   ]
		  },
  {
"cell_type": "code",
	   "execution_count": null,
	   "metadata": {
	    "collapsed": true
	   },
	   "outputs": [],
"source": [
"clear;\n",
"clc;\n",
"printf('\t\t\tProblem Number 2.9\n\n\n');\n",
"// Chapter 2: Work, Energy, and Heat\n",
"// Problem 2.9 (page no. 70) \n",
"// Solution\n",
"\n",
"m=1500; //Unit:kg //m=mass\n",
"V1=50; //Km/hour V1=Velocity before it is slowed down\n",
"//V1=(50*1000 m/hour)^2/(3600 s/hour)^2 \n",
"KE1=(m*(V1*1000)^2/3600^2)/2; //KE1=Initial kinetic energy //Unit:Joule\n",
"\n",
"//After slowing down\n",
"V2=30; //Unit:KM/hour //V2=Velocity after it is slowed down\n",
"//V2=(30*1000 m/hour)^2/(3600 s/hour)^2 \n",
"KE2=(m*(V2*1000)^2/3600^2)/2; //KE2=After slowing down, the kinetic energy //Unit:Joule\n",
" \n",
"KE=KE1-KE2; //KE=Change in kinetic energy //Unit:Joule\n",
"printf('Change in kinetic energy is %f kJ',KE/1000);"
   ]
   }
],
"metadata": {
		  "kernelspec": {
		   "display_name": "Scilab",
		   "language": "scilab",
		   "name": "scilab"
		  },
		  "language_info": {
		   "file_extension": ".sce",
		   "help_links": [
			{
			 "text": "MetaKernel Magics",
			 "url": "https://github.com/calysto/metakernel/blob/master/metakernel/magics/README.md"
			}
		   ],
		   "mimetype": "text/x-octave",
		   "name": "scilab",
		   "version": "0.7.1"
		  }
		 },
		 "nbformat": 4,
		 "nbformat_minor": 0
}
