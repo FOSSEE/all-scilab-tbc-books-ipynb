{
"cells": [
 {
		   "cell_type": "markdown",
	   "metadata": {},
	   "source": [
       "# Chapter 7: Mixtures Of Ideal Gases"
	   ]
	},
{
		   "cell_type": "markdown",
		   "metadata": {},
		   "source": [
			"## Example 7.10: The_final_temperature_of_the_mixture.sce"
		   ]
		  },
  {
"cell_type": "code",
	   "execution_count": null,
	   "metadata": {
	    "collapsed": true
	   },
	   "outputs": [],
"source": [
"//scilab 5.4.1\n",
"clear;\n",
"clc;\n",
"printf('\t\t\tProblem Number 7.10\n\n\n');\n",
"// Chapter 7 : Mixtures Of Ideal Gases\n",
"// Problem 7.10  (page no. 332) \n",
"// Solution\n",
"\n",
"//Problem 7.9 is carried out as a nonflow mixing process.\n",
"//Given in problem 7.9,: cp of oxygen is 0.23 Btu/lbm*R.cp of nitrogen is 0.25 Btu/lbm*R. 160 lbm/hr of oxygen and 196 lbm/hr of nitrogen are mixed.oxygen is at 500F and nitrogen  is at 200 F. //cp=specific heat at constant pressure \n",
"//Given in problem 7.10,: cv of oxygen is 0.164 Btu/lbm*R.cv of nitrogen is 0.178 Btu/lbm*R. //cv=specific heat at constant volume\n",
"\n",
"//Because this is a nonflow process,the energy equation for this process requires the internal energy of the mixture to equal to the sum of the internal energy of   its components.\n",
"//Alternatively,the decrease in internal energy of the oxygen must equal the increase in internal energy of the nitrogen.Using latter statement gives us,\n",
"// (160*0.164*(500-tm)) = (196*0.178*(tm-200))\n",
"//where m*cv*deltat has been used for deltau. //Unit for cp & cv is Btu/lbm*R\n",
"//rearranging the above equation,\n",
"tm=((500*160*0.164)+(196*0.178*200))/((196*0.178)+(160*0.164)); //tm=mixture temperature //Unit:fahrenheit\n",
"printf('The final temperature of the mixture is %f F\n',tm);\n",
""
   ]
   }
,
{
		   "cell_type": "markdown",
		   "metadata": {},
		   "source": [
			"## Example 7.12: The_change_in_entropy.sce"
		   ]
		  },
  {
"cell_type": "code",
	   "execution_count": null,
	   "metadata": {
	    "collapsed": true
	   },
	   "outputs": [],
"source": [
"//scilab 5.4.1\n",
"clear;\n",
"clc;\n",
"printf('\t\t\tProblem Number 7.12\n\n\n');\n",
"// Chapter 7 : Mixtures Of Ideal Gases\n",
"// Problem 7.12  (page no. 334) \n",
"// Solution\n",
"\n",
"//The change in entropy of the mixture is the sum of the changes in entropy of each component.\n",
"//Given in problem 7.9,: cp of oxygen is 0.23 Btu/lbm*R.cp of nitrogen is 0.25 Btu/lbm*R. 160 lbm/hr of oxygen and 196 lbm/hr of nitrogen are mixed.oxygen is at 500F and nitrogen  is at 200 F. //cp=specific heat at constant pressure \n",
"//In 7.9,for the oxygen,the temperature starts at 500F(960 R) and decreases to 328.7 F.For the nitrogen,the temperature starts at 200F(660 R) and increase to 328.7 F.\n",
"//deltas = (cp*log(T2/T1)); //Unit:Btu/lbm*R //change in entropy\n",
"\n",
"//For the oxygen,\n",
"cp=0.23; //specific heat at constant pressure //Unit:Btu/lbm*R\n",
"T2=328.7+460; //Unit:R //final temperature\n",
"T1=500+460; //Unit:R //starting temperature\n",
"deltas=(cp*log(T2/T1)); //Unit:Btu/lbm*R //change in entropy for oxygen\n",
"DeltaS=160*deltas; //Btu/R //The total change in entropy of the oxygen\n",
"printf('The total change in entropy of the oxygen is %f Btu/R\n',DeltaS);\n",
"\n",
"//For the nitrogen,\n",
"cp=0.25; //specific heat at constant pressure //Unit:Btu/lbm*R\n",
"T2=328.7+460; //Unit:R //final temperature\n",
"T1=200+460; //Unit:R //starting temperature\n",
"deltas=(cp*log(T2/T1)); //Unit:Btu/lbm*R //change in entropy for nitrogen\n",
"deltaS=196*deltas; //Btu/R //The total change in entropy of the nitrogen\n",
"printf('The total change in entropy of the nitrogen is %f Btu/R\n',deltaS);\n",
"deltaS=deltaS+DeltaS; //the total change in entropy for the mixture //Btu/lbm*R\n",
"printf('The total change in entropy for the mixture is %f Btu/R\n',deltaS);\n",
"\n",
"//Per pound of mixture,\n",
"deltasm=deltaS/(196+160); //increase in entropy per pound mass of mixture\n",
"printf('Increase in entropy per pound mass of mixture is %f Btu/lbm*R\n\n',deltasm);\n",
"\n",
"\n",
"printf('An alternative solution:\n');\n",
"//As an alternative solution,assume an arbitrary datum of 0 F(460 R).\n",
"cp=0.23; //specific heat at constant pressure //Unit:Btu/lbm*R\n",
"//For initial entropy of oxygen,\n",
"T2=500+460; //Unit:R //final temperature\n",
"T1=0+460; //Unit:R //starting temperature\n",
"deltas=cp*log(T2/T1); //the initial change in entropy for oxygen // Btu/lbm*R\n",
"printf('The initial change in entropy for oxygen is %f Btu/lbm*R\n',deltas);\n",
"//For final entropy of oxygen,\n",
"T2=328.7+460; //Unit:R //final temperature\n",
"T1=0+460; //Unit:R //starting temperature\n",
"Deltas=cp*log(T2/T1); //the final change in entropy for oxygen // Btu/lbm*R\n",
"printf('The final change in entropy for oxygen is %f Btu/lbm*R\n',Deltas);\n",
"deltaS=Deltas-deltas; //The entropy change of the oxygen //Btu/lbm*R\n",
"printf('The entropy change of the oxygen is %f Btu/lbm*R\n',deltaS);\n",
"\n",
"//For nitrogen,\n",
"cp=0.25; //specific heat at constant pressure //Unit:Btu/lbm*R\n",
"//For initial entropy of nitrogen,\n",
"T2=200+460; //Unit:R //final temperature\n",
"T1=0+460; //Unit:R //starting temperature\n",
"deltas=cp*log(T2/T1); //the initial change in entropy for nitrogen // Btu/lbm*R\n",
"printf('The initial change in entropy for nitrogen is %f Btu/lbm*R\n',deltas);\n",
"//For final entropy of nitrogen,\n",
"T2=328.7+460; //Unit:R //final temperature\n",
"T1=0+460; //Unit:R //starting temperature\n",
"Deltas=cp*log(T2/T1); //the final change in entropy for nitrogen // Btu/lbm*R\n",
"printf('The final change in entropy for nitrogen is %f Btu/lbm*R\n',Deltas);\n",
"deltaS=Deltas-deltas; //The entropy change of the nitrogen //Btu/lbm*R\n",
"printf('The entropy change of the nitrogen is %f Btu/lbm*R\n',deltaS);\n",
"\n",
"//The remainder of the problem is as before.The advantage of using this alternative method is the negative logarithms are avoided by choosing a reference          temperature lower than any other temperature in the system\n",
""
   ]
   }
,
{
		   "cell_type": "markdown",
		   "metadata": {},
		   "source": [
			"## Example 7.13: The_dew_point_temperature.sce"
		   ]
		  },
  {
"cell_type": "code",
	   "execution_count": null,
	   "metadata": {
	    "collapsed": true
	   },
	   "outputs": [],
"source": [
"//scilab 5.4.1\n",
"clear;\n",
"clc;\n",
"printf('\t\t\tProblem Number 7.13\n\n\n');\n",
"// Chapter 7 : Mixtures Of Ideal Gases\n",
"// Problem 7.13  (page no. 338) \n",
"// Solution\n",
"\n",
"//Referring to figure 7.6,it will be seen that the cooling of an air-water vapor mixture from B to A proceeds at constant pressure until the saturation curve is   reached.\n",
"//At 80 F(the mixture temperature),the Steam Tables give us a saturation pressure of a 0.5073 psia,and because the relative humidity is 50%,the vapor pressure of  the water is 0.5*0.5073=0.2537 psia.\n",
"//Using the steam tables,the saturation temperature corresponding to 0.2537 psia is 60 F.\n",
"//So,\n",
"printf('The dew point temperature of the air is 60 F\n')"
   ]
   }
,
{
		   "cell_type": "markdown",
		   "metadata": {},
		   "source": [
			"## Example 7.14: Air_water_vapor_mixture.sce"
		   ]
		  },
  {
"cell_type": "code",
	   "execution_count": null,
	   "metadata": {
	    "collapsed": true
	   },
	   "outputs": [],
"source": [
"//scilab 5.4.1\n",
"clear;\n",
"clc;\n",
"printf('\t\t\tProblem Number 7.14\n\n\n');\n",
"// Chapter 7 : Mixtures Of Ideal Gases\n",
"// Problem 7.14  (page no. 338) \n",
"// Solution\n",
"\n",
"//To solve this probelm,it is necessary to determine the properties of the saturated mixture 90 F.If the air is saturated at 90 F,the partial pressure of the water  vapor is found directly from the Steam Tables as 0.6988 psia,and the specific volume of the water vapor is 467.7 ft^3/lbm of vapor.\n",
"printf('The partial pressure of the dry air is %f psia\n',14.7-0.6988); //the mixture is at 14.7 psia\n",
"R=1545/28.966; //gas constant of dry air=1545/Molecular weight\n",
"T=90+460; //temperature of dry air //Unit:R\n",
"pdryair=14.0; //psia //pressure of dry air\n",
"//Applying the ideal gas equation to the air,\n",
"vdryair=(R*T)/(pdryair*144); //volume of dry air //ft^3/lbm //1 in^2=144 Ft^2\n",
"//the mass of dry air in the 467.7 ft^3 container \n",
"printf('The mass of dry air in the 467.7 ft^3 container is %f lbm\n',467.7/vdryair);\n",
"//To obtain relative humidity(phy),it is necessary to determine the mole fraction of water vapor for both the saturated mixture and the mixture in question.\n",
"//The saturated mixture contains 1 lbm of water vapor or 1/18.016 moles =0.055 mole of water vapor and (467.7/vdryair)/28.966=1.109 moles of dry air.\n",
"//For the saturated mixture, the ratio of moles of water vapor to moles of mixture is 0.055/(0.055+1.109)=0.0477\n",
"//For the actual mixture,the moles of water vapor per pound of dry air is 0.005/18.016=0.000278 and 1 lbm of dry air is 1/28.966=0.0345 mole.So,the mole of water vapor per mole of  mixture at the conditions of the  mixture is 0.000278/(0.0345+0.000278)=0.00799\n",
"//From the defination of relative humidity,\n",
"printf('The relative humidity of the mixture is %f \n',(0.00799/0.0477)*100);\n",
"\n",
"//Because the mole ratio is also the ratio of the partial pressures for the ideal gas,phy can be expressed as the ratio of the partial pressure of the water vapor in  the mixture to the partial pressure of the water vapor at saturation.Therefore,\n",
"printf('The partial pressure of the vapor at saturation is %f psia\n',(0.00799/0.0477)*0.6988);\n",
"printf('And the partial pressure of the dry air in the mixture is %f psia\n',14.7-((0.00799/0.0477)*0.6988)); //14.7-The partial pressure of the vapor at saturation\n",
"//The dew point temperature is the saturation temperature corresponding to the partial pressure of the water vapor in the mixture.So,\n",
"printf('The dew point temperature corresponding to %f psia is 39F\n',(0.00799/0.0477)*0.6988);\n",
"\n",
""
   ]
   }
,
{
		   "cell_type": "markdown",
		   "metadata": {},
		   "source": [
			"## Example 7.15: Determine_partial_pressure_and_relative_humidity_and_dew_point_temperature.sce"
		   ]
		  },
  {
"cell_type": "code",
	   "execution_count": null,
	   "metadata": {
	    "collapsed": true
	   },
	   "outputs": [],
"source": [
"//scilab 5.4.1\n",
"clear;\n",
"clc;\n",
"printf('\t\t\tProblem Number 7.15\n\n\n');\n",
"// Chapter 7 : Mixtures Of Ideal Gases\n",
"// Problem 7.15  (page no. 343) \n",
"// Solution\n",
"\n",
"//Problem 7.14 using equations, Rm=((ma/(ma+mv))*Ra)+((mv/(ma+mv))*Rv)   and  phy*pvs=pv\n",
"W=0.005; //Humidity ratio\n",
"pm=14.7; //mixture is at 14.7 psia\n",
"//W=0.622*(pv/(pm-pv))\n",
"//Rearranging,\n",
"pv=(W*pm)/(0.622+W); //the partial pressure of the water vapor \n",
"printf('The partial pressure of the water vapor is %f psia\n',pv);\n",
"pa=pm-pv; //pa=the partial pressure of the dry air in the mixture\n",
"printf('The partial pressure of dry air is %f psia\n',pa);\n",
"//It is necessary to obtain pvs from the Steam Tables at 90 F.This is 0.6988 psia.\n",
"pvs=0.6988; //saturation pressure of water vapor at the temperature of mixture\n",
"printf('The partial pressure of the water vapor at saturation is %f psia\n',pvs);\n",
"//Therefore,\n",
"phy=pv/pvs; //relative humidity\n",
"printf('The relative humidity  is %f percent\n',phy*100);\n",
"//The dew point temperature is the saturation temperature corresponding to 0.117 psia,which is found from the Steam Tables to be 39 F.\n",
"printf('The dew point temperature of the mixture is 39 F\n');\n",
"//The results of this problem and problem 7.14 are in good agreement"
   ]
   }
,
{
		   "cell_type": "markdown",
		   "metadata": {},
		   "source": [
			"## Example 7.16: Determine_how_much_water_was_removed_from_the_air.sce"
		   ]
		  },
  {
"cell_type": "code",
	   "execution_count": null,
	   "metadata": {
	    "collapsed": true
	   },
	   "outputs": [],
"source": [
"//scilab 5.4.1\n",
"clear;\n",
"clc;\n",
"printf('\t\t\tProblem Number 7.16\n\n\n');\n",
"// Chapter 7 : Mixtures Of Ideal Gases\n",
"// Problem 7.16  (page no. 343) \n",
"// Solution\n",
"\n",
"pm=14.7; //the barometer is at 14.7 psia //mixture is at 14.7 psia\n",
"//The amount of water vapor removed (per pound of dry air) is the difference between the humidity ratio (specific humidity) at inlet and outlet of the conditioning    unit.We shall therefore evalute W for both specified conditions.Because phy=pv/pvs,\n",
"//At 90F:\n",
"phy=0.7; //relative humidity\n",
"pvs=0.6988; //psia //saturation pressure of water vapor at the temperature of mixture\n",
"pv=phy*pvs; //psia //the partial pressure of the water vapor \n",
"pa=pm-pv; //psia //pa=the partial pressure of the dry air in the mixture\n",
"W=0.622*(pv/pa); //Humidity ratio\n",
"\n",
"//At 80F:\n",
"phy=0.4; //relative humidity\n",
"pvs=0.5073; //psia //saturation pressure of water vapor at the temperature of mixture\n",
"pv=phy*pvs; //psia //the partial pressure of the water vapor \n",
"pa=pm-pv; //psia //pa=the partial pressure of the dry air in the mixture\n",
"w=0.622*(pv/pa); //Humidity ratio\n",
"\n",
"printf('The amount of water removed per pound of dry air is %f\n',W-w);"
   ]
   }
,
{
		   "cell_type": "markdown",
		   "metadata": {},
		   "source": [
			"## Example 7.17: Determine_dew_point_temperature_using_psychrometric_chart.sce"
		   ]
		  },
  {
"cell_type": "code",
	   "execution_count": null,
	   "metadata": {
	    "collapsed": true
	   },
	   "outputs": [],
"source": [
"//scilab 5.4.1\n",
"clear;\n",
"clc;\n",
"printf('\t\t\tProblem Number 7.17\n\n\n');\n",
"// Chapter 7 : Mixtures Of Ideal Gases\n",
"// Problem 7.17  (page no. 347) \n",
"// Solution\n",
"\n",
"//Problem 7.13 using the psychrometric chart\n",
"//Entering figure 7.11 at a dry-bulb temperature of 80 F,we proceed vertically until we reach 50% humidity curve.At this intersection,we proceed horizontally and    read the dew-point temperature as approximately 60 F.\n",
"printf('The dew point temperature of air is 60 F\n');"
   ]
   }
,
{
		   "cell_type": "markdown",
		   "metadata": {},
		   "source": [
			"## Example 7.18: EX7_18.sce"
		   ]
		  },
  {
"cell_type": "code",
	   "execution_count": null,
	   "metadata": {
	    "collapsed": true
	   },
	   "outputs": [],
"source": [
"//scilab 5.4.1\n",
"clear;\n",
"clc;\n",
"printf('\t\t\tProblem Number 7.18\n\n\n');\n",
"// Chapter 7 : Mixtures Of Ideal Gases\n",
"// Problem 7.18  (page no. 347) \n",
"// Solution\n",
"\n",
"//Problem 7.14 using the psychrometric chart\n",
"//In this problem,we are given the moisture content of the air to be 0.005 lb per pound of dry air.\n",
"//This corresponds to 0.005*7000=35 grains per pound of dry air.\n",
"//Entering the chart at 90F and proceeding verticaly to 35 grains per pound of dry air,we find the dew point to be 39F by proceeding horizontally to the intersection with the saturation curve. \n",
"printf('The dew-point temperature of the mixture is 39 F\n');\n",
"printf('The relative humidity is approximately 17 percent\n');\n",
"//From the leftmost scale,we read the pressure of water vapor to be 0.12 psia.\n",
"printf('The partial pressure of the air is %f psia\n',14.7-0.12);\n",
"//Comparing these results to problem 7.14,indicated good agreement between the results obtained by chart and by calculation"
   ]
   }
,
{
		   "cell_type": "markdown",
		   "metadata": {},
		   "source": [
			"## Example 7.19: Determine_water_removed_from_the_air_using_psychrometric_chart.sce"
		   ]
		  },
  {
"cell_type": "code",
	   "execution_count": null,
	   "metadata": {
	    "collapsed": true
	   },
	   "outputs": [],
"source": [
"//scilab 5.4.1\n",
"clear;\n",
"clc;\n",
"printf('\t\t\tProblem Number 7.19\n\n\n');\n",
"// Chapter 7 : Mixtures Of Ideal Gases\n",
"// Problem 7.19  (page no. 348) \n",
"// Solution\n",
"\n",
"//Problem 7.16 using the psychrometric chart\n",
"//The initial conditions are 90 F and 70% relative humidity\n",
"//Entering the chart at 90 F dry bulb temperature and proceeding vertically to 70% relative humidity,we find the air to have 150 grains water vapor per pound of dry air.At the final condition of 80F and 40% relative humidity,we read 61 grains of water/lb of dry air.\n",
"//So,\n",
"printf('The water removed is %f grains per pound of dry air\n',150-61);\n",
"printf('Or %f lb of water per pound of dry air is removed\n',(150-61)/7000);"
   ]
   }
,
{
		   "cell_type": "markdown",
		   "metadata": {},
		   "source": [
			"## Example 7.1: Dry_air_mixture_of_oxygen_and_nitrogen.sce"
		   ]
		  },
  {
"cell_type": "code",
	   "execution_count": null,
	   "metadata": {
	    "collapsed": true
	   },
	   "outputs": [],
"source": [
"//scilab 5.4.1\n",
"clear;\n",
"clc;\n",
"printf('\t\t\tProblem Number 7.1\n\n\n');\n",
"// Chapter 7 : Mixtures Of Ideal Gases\n",
"// Problem 7.1  (page no. 322) \n",
"// Solution\n",
"\n",
"//As the basis of the calculation,assume that we have 1 lbm of mixture.Also,take the molecular weight of oxygen to be 32.00 and nitrogen to be 28.02.(from table7.1)\n",
"printf('Solution for (a)\n');\n",
"nO2=0.2315/32; //no of moles of oxygen=ratio of mass and molecular weight //0.2315 lb of oxygen per pound\n",
"printf('The moles of oxygen is %f mole/lbm of mixture\n',nO2);\n",
"nN2=0.7685/28.02; //no of moles of nitrogen=ratio of mass and molecular weight //0.7685 lb of nitrogen per pound\n",
"printf('The moles of nitrogen is %f mole/lbm of mixture\n',nN2);\n",
"nm=nO2+nN2; //Unit:Mole/lbm //number of moles of gas mixture is sum of the moles of its constituent gases\n",
"printf('The total number of moles is %f mole/lbm\n',nm); \n",
"xO2=nO2/nm; //mole fraction of oxygen=ratio of no of moles of oxygen and total moles in mixture\n",
"xN2=nN2/nm; //mole fraction of nitrogen=ratio of no of moles of oxygen and total moles in mixture\n",
"printf('The mole fraction of oxygen is %f and the mole fraction of nitrogen is %f\n',xO2,xN2);\n",
"//(Check:xO2+xN2=1)\n",
"printf('xO2+xN2=%f\n\n',xO2+xN2);\n",
"\n",
"printf('Solution for (b)\n');\n",
"// the air is at 14.7 psia\n",
"pO2=xO2*14.7; //the partial pressure of oxygen=pressure of air * the mole fraction of oxygen //psia\n",
"printf('The partial pressure of oxygen is %f psia\n',pO2);\n",
"pN2=xN2*14.7; //the partial pressure of nitrogen=pressure of air * the mole fraction of nitrogen //psia\n",
"printf('The partial pressure of nitrogen is %f psia\n\n',pN2);\n",
"\n",
"printf('Solution for (c)\n');\n",
"MWm=(xO2*32) + (xN2*28.02); //the molecular weight of air=sum of products of mole fraction of each gas component\n",
"printf('The molecular weight of air is %f\n\n',MWm);\n",
"\n",
"printf('Solution for (d)\n');\n",
"Rm=1545/MWm; //the gas constant of air\n",
"printf('The gas constant of air is %f\n\n',Rm);"
   ]
   }
,
{
		   "cell_type": "markdown",
		   "metadata": {},
		   "source": [
			"## Example 7.20: Determine_the_heat_required.sce"
		   ]
		  },
  {
"cell_type": "code",
	   "execution_count": null,
	   "metadata": {
	    "collapsed": true
	   },
	   "outputs": [],
"source": [
"//scilab 5.4.1\n",
"clear;\n",
"clc;\n",
"printf('\t\t\tProblem Number 7.22\n\n\n');\n",
"// Chapter 7 : Mixtures Of Ideal Gases\n",
"// Problem 7.22  (page no. 349) \n",
"// Solution\n",
"\n",
"//dry bulb temperature is 50 F\n",
"//relative humidity is 50 percent\n",
"//We first locate 50 F and 50 percent relative humidity on figure 7.11.At this state,we read 26 grains of water per pound of dry air and a total heat of 16.1 Btu per  pound of a dry air.\n",
"//We now proceed horizontally to 80 F at a constant value of 26 grains of water per pound of dry air and read a total heat of 23.4 Btu per pound of dry air.\n",
"printf('The heat required is %f Btu per pound of dry air',23.4-16.1)"
   ]
   }
,
{
		   "cell_type": "markdown",
		   "metadata": {},
		   "source": [
			"## Example 7.21: Determine_relative_humidity.sce"
		   ]
		  },
  {
"cell_type": "code",
	   "execution_count": null,
	   "metadata": {
	    "collapsed": true
	   },
	   "outputs": [],
"source": [
"//scilab 5.4.1\n",
"clear;\n",
"clc;\n",
"printf('\t\t\tProblem Number 7.21\n\n\n');\n",
"// Chapter 7 : Mixtures Of Ideal Gases\n",
"// Problem 7.21  (page no. 352) \n",
"// Solution\n",
"\n",
"//An evaporative cooling process\n",
"//Because the exit air is saturated,we find the exit condition on the curve corresponding to a wet-bulb temperature of 50 F.The process is carried out at constant     total enthalpy,which is along a line of constant wet-bulb temperature.\n",
"//Proceeding along the 50 F wet-bulb temperature line of figure 7.11 diagonally to the right until it intersects with the vertical 80 F dry-bulb temperature line    yields a relative humidity of approximately 4 %\n",
"printf('For An evaporative cooling process,The relative humidity of the entering air is 4 percent');"
   ]
   }
,
{
		   "cell_type": "markdown",
		   "metadata": {},
		   "source": [
			"## Example 7.22: The_final_mixture_composition.sce"
		   ]
		  },
  {
"cell_type": "code",
	   "execution_count": null,
	   "metadata": {
	    "collapsed": true
	   },
	   "outputs": [],
"source": [
"//scilab 5.4.1\n",
"clear;\n",
"clc;\n",
"printf('\t\t\tProblem Number 7.22\n\n\n');\n",
"// Chapter 7 : Mixtures Of Ideal Gases\n",
"// Problem 7.22  (page no. 356) \n",
"// Solution\n",
"\n",
"//As noted from figure 7.27, 1 lb of mixture,4/5 lb of indoor air,and 1/5 lb of outdoor air are mixed per pound of mixture. \n",
"//We now locate the two end states on the psychrometric chart and connect them with a straight line.The line connecting the end states is divided  into 5 equal parts. Using the results of equation, (ha-ha2)/(ha-ha1) = (W2-W)/(W-W1) = ma1/ma2 = l1/l2 ,we now proceed from the 75 F indoor air state 1 part toward the 90F outdoor air state.This Locates \n",
"printf('The final mixture,which is found to be a dry-bulb temperature of approximately 78 F,a wet-bulb temperature of 66 F and relative humidity of 54 percent\n');"
   ]
   }
,
{
		   "cell_type": "markdown",
		   "metadata": {},
		   "source": [
			"## Example 7.23: The_cooling_tower.sce"
		   ]
		  },
  {
"cell_type": "code",
	   "execution_count": null,
	   "metadata": {
	    "collapsed": true
	   },
	   "outputs": [],
"source": [
"//scilab 5.4.1\n",
"clear;\n",
"clc;\n",
"printf('\t\t\tProblem Number 7.23\n\n\n');\n",
"// Chapter 7 : Mixtures Of Ideal Gases\n",
"// Problem 7.23  (page no. 358) \n",
"// Solution\n",
"\n",
"//The cooling tower\n",
"//From the Steam tables,\n",
"//For water:\n",
"h100F=68.05;  //Btu/lbm //enthalpy at 100 F\n",
"h70F=38.09;   //Btu/lbm  //enthalpy at 70 F\n",
"//For air:\n",
"h=20.4; //Unit:Btu/lb //at inlet,total heat/lb dry air\n",
"w=38.2; //Unit:grains/lb  //at inlet,moisture pickup/lb dry air (at 60F D.B. and 50% R.H.)\n",
"H=52.1; //Unit:Btu/lb //at outlet,total heat/lb dry air\n",
"W=194.0; //Unit:grains/lb //at outlet,moisture pickup/lb dry air (at 90F D.B. and 90% R.H.)\n",
"\n",
"//Per pound of dry air,the heat interchange is H-h Btu per pound of dry air.\n",
"//Per pound of dry air,the moisture increase is (W-w)/7000 lb per pound of dry air.\n",
"//From the equation, ma*(H-h) = 200000*h100F - mwout*h70F             //ma=mass of air  mwout=mass of cooled water \n",
"//and  ma*((W-w)/7000) = 200000 - mwout\n",
"//Solving the latter equation for mwout,we have  mwout=200000-(ma*((W-w)/7000))\n",
"//Substituting this into the heat balance yields,\n",
"// ma*(H-h) = 200000*h100F - 200000*h70F + ma*h70F*((W-w)/7000)\n",
"//Solving gives us,\n",
"ma=(200000*(h100F-h70F))/((H-h)-(h70F*((W-w)/7000))); //The amount of air required per hour //Unit:lbm/hr of dry air\n",
"printf('The amount of air required per hour is %f lbm/hr of dry air\n',ma);\n",
"printf('The amount of water lost per hour due to evaporation is %f lbm/hr\n',ma*((W-w)/7000));\n",
"//note that the water evaporated is slightly over 2% of the incoming water,and this is the makeup that has to be furnished to the tower.\n",
"//answer are slightly differ because of value of (W-w)/7000 is given 0.0233 instead of 0.0225"
   ]
   }
,
{
		   "cell_type": "markdown",
		   "metadata": {},
		   "source": [
			"## Example 7.2: Determine_molecular_weight_and_partial_pressure.sce"
		   ]
		  },
  {
"cell_type": "code",
	   "execution_count": null,
	   "metadata": {
	    "collapsed": true
	   },
	   "outputs": [],
"source": [
"//scilab 5.4.1\n",
"clear;\n",
"clc;\n",
"printf('\t\t\tProblem Number 7.2\n\n\n');\n",
"// Chapter 7 : Mixtures Of Ideal Gases\n",
"// Problem 7.2  (page no. 323) \n",
"// Solution\n",
"\n",
"//For Gaseous Freon-12 (CCl2F2)\n",
"//MW of air=29 & MW of freon-12=120.9\n",
"//initial pressure in tank is atmospheric pressure that is 14.7 psia\n",
"//final pressure of tank is 1000 psia\n",
"//The partial pressure of the Freon-12 is 1000-14.7\n",
"printf('The partial pressure of the Freon-12 is %f\n',1000-14.7)\n",
"//the mole fraction of air=the initial pressure / final pressure\n",
"printf('The mole fraction of air is %f\n',14.7/1000)\n",
"//the mole fraction of freon=the partial pressure of freon / the final pressure\n",
"printf('The mole fraction of Freon-12 is %f\n',(1000-14.7)/1000)\n",
"MWm=((14.7/1000)*29) + (((1000-14.7)/1000)*120.9);//the molecular weight of mixture=sum of products of mole fraction of each gas component \n",
"printf('The molecular weight of the mixture is %f',MWm);"
   ]
   }
,
{
		   "cell_type": "markdown",
		   "metadata": {},
		   "source": [
			"## Example 7.3: Determine_moles_moles_fraction_molecular_weight_and_gas_constant.sce"
		   ]
		  },
  {
"cell_type": "code",
	   "execution_count": null,
	   "metadata": {
	    "collapsed": true
	   },
	   "outputs": [],
"source": [
"//scilab 5.4.1\n",
"clear;\n",
"clc;\n",
"printf('\t\t\tProblem Number 7.3\n\n\n');\n",
"// Chapter 7 : Mixtures Of Ideal Gases\n",
"// Problem 7.3  (page no. 323) \n",
"// Solution\n",
"\n",
"//Ten pounds of air,1 lb of carbon dioxide,and 5 lb of nitrogen are mixed at constant temperature until the mixture pressure is constant\n",
"nair=10/29; //no of moles of air=ratio of mass and molecular weight //10 lb of nitrogen per pound //molecular weight of air=29\n",
"printf('The moles of air is %f mole/lbm of mixture\n',nair);\n",
"nCO2=1/44; //no of moles of carbon dioxide=ratio of mass and molecular weight //1 lb of per pound //molecular weight of CO2=44\n",
"printf('The moles of carbon dioxide is %f mole/lbm of mixture\n',nCO2);\n",
"nN2=5/28; //no of moles of nitrogen=ratio of mass and molecular weight //5 lb of nitrogen per pound //molecular weight of N2=28\n",
"printf('The moles of nitrogen is %f mole/lbm of mixture\n',nN2);\n",
"nm=nair+nCO2+nN2; //Unit:Mole/lbm //number of moles of gas mixture is sum of the moles of its constituent gases\n",
"printf('The total number of moles is %f mole/lbm\n\n',nm); \n",
"\n",
"xair=nair/nm //mole fraction of air=ratio of no of moles of air and total moles in mixture\n",
"xCO2=nCO2/nm; //mole fraction of carbon dioxide=ratio of no of moles of carbon dioxide and total moles in mixture\n",
"xN2=nN2/nm; //mole fraction of nitrogen=ratio of no of moles of oxygen and total moles in mixture\n",
"printf('The mole fraction of air is %f \n',xair);\n",
"printf('The mole fraction of carbon dioxide is %f\n',xCO2)\n",
"printf('The mole fraction of nitrogen is %f\n\n',xN2);\n",
"\n",
"//final pressure of is 100 psia\n",
"pair=xair*100; //the partial pressure of air= final pressure * the mole fraction of air //psia\n",
"printf('The partial pressure of air is %f psia\n',pair);\n",
"pCO2=xCO2*100; //the partial pressure of carbon dioxide= final pressure * the mole fraction of CO2 //psia\n",
"printf('The partial pressure of carbon dioxide is %f psia\n',pCO2);\n",
"pN2=xN2*100; //the partial pressure of nitrogen=final pressure * the mole fraction of nitrogen //psia\n",
"printf('The partial pressure of nitrogen is %f psia\n\n',pN2);\n",
"\n",
"//the molecular weight of mixture=sum of products of mole fraction of each gas component\n",
"MWm=(xair*29) + (xCO2*44) + (xN2*28); //The molecular weight of air \n",
"printf('The molecular weight of air is %f\n\n',MWm);\n",
"\n",
"Rm=1545/MWm; //the gas constant of air\n",
"printf('The gas constant of air is %f\n\n',Rm);"
   ]
   }
,
{
		   "cell_type": "markdown",
		   "metadata": {},
		   "source": [
			"## Example 7.4: Volume_of_a_mixture.sce"
		   ]
		  },
  {
"cell_type": "code",
	   "execution_count": null,
	   "metadata": {
	    "collapsed": true
	   },
	   "outputs": [],
"source": [
"//scilab 5.4.1\n",
"clear;\n",
"clc;\n",
"printf('\t\t\tProblem Number 7.4\n\n\n');\n",
"// Chapter 7 : Mixtures Of Ideal Gases\n",
"// Problem 7.4  (page no. 325) \n",
"// Solution\n",
"\n",
"//five moles of oxygen and 10 moles of hydrogen are mixed\n",
"//The total number of moles is 10+5=15.Therefore,mole fraction of each constituent is\n",
"xO2=5/15; //The mole fraction of oxygen \n",
"xH2=10/15; //The mole fraction of hydrogen\n",
"printf('The mole fraction of oxygen is %f and of hydrogen is %f\n',xO2,xH2);\n",
"//the molecular weight of mixture=sum of products of mole fraction of each gas component(MW of O2=32 and MW of H2=2.016)\n",
"printf('The molecular weight of the final mixture is %f\n',((5/15)*32)+((10/15)*2.016));\n",
"R=1545/32; //the gas constant of oxygen\n",
"T=460+70; //absolute temperature //Unit:R\n",
"p=14.7; //pressure //psia\n",
"//The partial volume of the oxygen can be found as follows:per pound of oxygen,\n",
"//p*vO2=R*T;\n",
"vO2=(R*T)/(p*144); //ft^3/lbm //1 in^2=144 ft^2  \n",
"//Because there are 5 moles of oxygen,each containing 32 lbm,\n",
"VO2=vO2*5*32; //ft^3 //partial volume of oxygen\n",
"printf('The partial volume of oxygen is %f ft^3\n',VO2);\n",
"//For the hydrogen,we can simplify the procedure by noting that the fraction of the total volume occupied by the oxygen is the same as its mole fraction.Therefore,\n",
"Vm=3*VO2; //total volume occupied //ft^3\n",
"printf('The mixture volume is %f ft^3\n',Vm);\n",
"//and the hydrogen volume\n",
"VH2=Vm-VO2; //Ft^2 //partial volume of hydrogen\n",
"printf('From simplified procedure,The partial volume of hydrogen is %f ft^3\n',VH2);\n",
"\n",
"//We could obtain the partial volume of hydrogen by proceeding as we did for the oxygen.Thus,\n",
"//p*vH2=R*T;\n",
"R=1545/2.016; //the gas constant of hydrogen\n",
"vH2=(R*T)/(p*144); //ft^3/lbm //1 in^2=144 ft^2  \n",
"//Because there are 10 moles of hydrogen,each containing 2.016 lbm,\n",
"VH2=vH2*10*2.016; //ft^3 //partial volume of hydrogen\n",
"printf('The partial volume of hydrogen is %f ft^3\n\n',VH2);\n",
"//Which checks our previous values.\n",
"\n",
"\n",
"printf('From another method,\n');\n",
"//As an alternative to the foregoing,we could also use the fact that at 14.7 psia and 32F a mole of any gas occupies a volume of 358 ft^3.\n",
"printf('At 70F and 14.7 psia,a mole occupies %f ft^3\n',358*((460+70)/(460+32))); \n",
"//Therefore, 5 moles of oxygen occupies \n",
"VO2=5*358*((460+70)/(460+32)); //The partial volume of oxygen //ft^3\n",
"printf('The partial volume of oxygen is %f ft^3\n',VO2);\n",
"//and 10 moles of hydrogen occupies\n",
"VH2=10*358*((460+70)/(460+32)); //The partial volume of hydrogen //ft^3\n",
"printf('The partial volume of hydrogen is %f ft^3\n',VH2);\n",
"//Both values are in good agreement with the previous calculations.\n",
""
   ]
   }
,
{
		   "cell_type": "markdown",
		   "metadata": {},
		   "source": [
			"## Example 7.5: The_volume_of_a_mixture.sce"
		   ]
		  },
  {
"cell_type": "code",
	   "execution_count": null,
	   "metadata": {
	    "collapsed": true
	   },
	   "outputs": [],
"source": [
"//scilab 5.4.1\n",
"clear;\n",
"clc;\n",
"printf('\t\t\tProblem Number 7.5\n\n\n');\n",
"// Chapter 7 : Mixtures Of Ideal Gases\n",
"// Problem 7.5  (page no. 326) \n",
"// Solution\n",
"\n",
"//Referring to figure 7.3,we have for CO2,\n",
"nCO2=10/44; //mole //no of moles of carbon dioxide=ratio of mass and molecular weight //10 lb of per pound //molecular weight of CO2=44\n",
"//and for N2,\n",
"nN2=5/28.02; //mole //no of moles of nitrogen=ratio of mass and molecular weight //5 lb of nitrogen per pound\n",
"printf('The total number of moles in the mixture is %f mole\n',nCO2+nN2);\n",
"//Therefore,\n",
"xCO2=nCO2/(nCO2+nN2); //mole fraction of carbon dioxide=ratio of no of moles of carbon dioxide and total moles in mixture\n",
"xN2=nN2/(nCO2+nN2); //mole fraction of nitrogen=ratio of no of moles of oxygen and total moles in mixture\n",
"printf('The mole fraction of carbon dioxide is %f and the mole fraction of nitrogen is %f\n',xCO2,xN2);\n",
"//the molecular weight of mixture=sum of products of mole fraction of each gas component\n",
"MWm=(xCO2*44) + (xN2*28.02); //the molecular weight of mixture\n",
"printf('The molecular weight of air is %f\n',MWm);\n",
"//Because the mixture is 15 lbm (10CO2 + 5N2),the volume of the mixture is found from pm*Vm=mm*Rm*Tm\n",
"pm=100; //mixture pressure //psia \n",
"Tm=460+70; //mixture temperature //R(absolute temperature)\n",
"Rm=1545/37.0; //gas constant of mixture \n",
"mm=15; //mass of mixture //Unit:lb\n",
"//So,rearranging the equation,gives\n",
"Vm=(mm*Rm*Tm)/(pm*144);  //mixture volume //ft^3 //1 in^2= 144 ft^2\n",
"printf('The mixture volume is %f ft^3\n',Vm);\n",
"//the partial volume of carbon dioxide is the total volume multiplied by the mole fraction.Thus,\n",
"VCO2=Vm*xCO2; //the partial volume of CO2 //ft^3\n",
"printf('The partial volume of carbon dioxide is %f ft^3\n',VCO2);\n",
"VN2=Vm*xN2; //the partial volume of N2 //ft^3\n",
"printf('The partial volume of nitrogen is %f ft^3\n',VN2);\n",
"//The partial pressure of each constituent is proportional to its mole fraction,for these conditions,\n",
"pCO2=pm*xCO2; //the partial pressure of carbon dioxide= final pressure * the mole fraction of CO2 //psia\n",
"printf('The partial pressure of carbon dioxide is %f psia\n',pCO2);\n",
"pN2=pm*xN2; //the partial pressure of nitrogen=final pressure * the mole fraction of nitrogen //psia\n",
"printf('The partial pressure of nitrogen is %f psia\n\n',pN2);\n",
"\n",
""
   ]
   }
,
{
		   "cell_type": "markdown",
		   "metadata": {},
		   "source": [
			"## Example 7.6: Mixture_compositio.sce"
		   ]
		  },
  {
"cell_type": "code",
	   "execution_count": null,
	   "metadata": {
	    "collapsed": true
	   },
	   "outputs": [],
"source": [
"//scilab 5.4.1\n",
"clear;\n",
"clc;\n",
"printf('\t\t\tProblem Number 7.6\n\n\n');\n",
"// Chapter 7 : Mixtures Of Ideal Gases\n",
"// Problem 7.6  (page no. 327) \n",
"// Solution\n",
"\n",
"//we will assume that we have 100 volumes of gas mixture and set up table 7.2.In first coloumn,we tabulate the gas,and in the second coloumn,we tabulate the given   volume fractions.Because the mole fraction equals to volume fraction,the values in coloumn 3 are the same as those in coloumn 2.\n",
"//The molecular weight is obtained from table 7.1.Because the MW of the mixture is the sum of the individual mole fraction multiplied by the respective molecular      weights,the next coloumn tabulates the product of the mole fraction multiplied by molecular weight(3*4).The sum of these entries is the molecular weight of the    mixture,which for this case is 33.4.\n",
"printf('Basis:100 volumes of gas mixture\n\n')\n",
"printf('gas    Volume       Mole           Molecular                            mass  \n')\n",
"printf('       fraction    fraction x      weight MW     (x)MW                  fraction\n')\n",
"printf('CO2    0.40        0.40          44.0           %f               %f\n',(0.40*44.0),(0.40*44.0)/33.4)\n",
"printf('N2     0.10        0.10          28.02          %f                %f                \n',(28.02*0.10),(28.02*0.10)/33.4)\n",
"printf('H2     0.10        0.10          2.016          %f                %f                \n',(0.10*2.016),(0.10*2.016)/33.4)\n",
"printf('O2     0.40        0.40          32.0           %f               %f                \n',(0.40*32.0),(0.40*32.0)/33.4)\n",
"printf('       1.00        1.00                         33.4=MWm               = 1.000              \n ')\n",
"\n",
"\n",
"\n",
"\n",
"\n",
"\n",
""
   ]
   }
,
{
		   "cell_type": "markdown",
		   "metadata": {},
		   "source": [
			"## Example 7.7: Mixture_Compositio.sce"
		   ]
		  },
  {
"cell_type": "code",
	   "execution_count": null,
	   "metadata": {
	    "collapsed": true
	   },
	   "outputs": [],
"source": [
"//scilab 5.4.1\n",
"clear;\n",
"clc;\n",
"printf('\t\t\tProblem Number 7.7\n\n\n');\n",
"// Chapter 7 : Mixtures Of Ideal Gases\n",
"// Problem 7.7  (page no. 328) \n",
"// Solution\n",
"\n",
"//We will take as a basis 100 lbm of mixture.\n",
"//Dividing colomn 2 by 3 gives us mass/molecular weight  or moles of each constituents.The total number of moles in the mixture is the sum of coloumn 4,and the      molecular weight of the mixture is the mass of the mixture(100 lbm) divided by the number of moles\n",
"//In coloumn 5,mole fraction is given by moles/total mole\n",
"\n",
"printf('Basis:100 pounds of gas mixture\n\n')\n",
"printf('gas    Mass        Molecular      Moles                   Mole         Percent      \n')\n",
"printf('        lbm        weight MW                           fraction        Volume        \n')\n",
"printf('CO2    52.7          44.0          1.2                   %f             %f   \n',(1.2/3),(1.2/3)*100)\n",
"printf('N2      8.4          28.02         0.3                   %f             %f   \n',(0.3/3),(0.3/3)*100)\n",
"printf('H2      0.6          2.016         0.3                   %f             %f   \n',(0.3/3),(0.3/3)*100)\n",
"printf('O2     38.3          32.0          1.2                   %f             %f   \n',(1.2/3),(1.2/3)*100)\n",
"printf('       =100.0                     =3.0                 =1.00               = 100              \n ')\n",
"printf('                              MWm=100/3=33.3               ')\n",
""
   ]
   }
,
{
		   "cell_type": "markdown",
		   "metadata": {},
		   "source": [
			"## Example 7.8: Mixture_Compositio.sce"
		   ]
		  },
  {
"cell_type": "code",
	   "execution_count": null,
	   "metadata": {
	    "collapsed": true
	   },
	   "outputs": [],
"source": [
"//scilab 5.4.1\n",
"clear;\n",
"clc;\n",
"printf('\t\t\tProblem Number 7.8\n\n\n');\n",
"// Chapter 7 : Mixtures Of Ideal Gases\n",
"// Problem 7.8  (page no. 329) \n",
"// Solution\n",
"\n",
"//We will take as a basis 100 lbm of mixture.\n",
"//Dividing colomn 2 by 3 gives us mass/molecular weight  or moles of each constituents.The total number of moles in the mixture is the sum of coloumn 4,and the      molecular weight of the mixture is the mass of the mixture(100 lbm) divided by the number of moles\n",
"//In coloumn 5,mole fraction is given by moles/total mole\n",
"\n",
"printf('Basis:100 pounds of gas mixture\n\n')\n",
"printf('gas    Mass        Molecular      Moles                   Mole         Percent      \n')\n",
"printf('        lbm        weight MW                           fraction        Volume        \n')\n",
"printf('O2     23.18         32.00         0.724                   %f             %f   \n',(0.724/3.45),(0.724/3.45)*100)\n",
"printf('N2     75.47         28.02         2.693                   %f             %f   \n',(2.692/3.45),(2.692/3.45)*100)\n",
"printf('A       1.30         39.90         0.033                   %f             %f   \n',(0.033/3.45),(0.033/3.45)*100)\n",
"printf('CO2     0.05         44.00          -                       -             -  \n')\n",
"printf('       =100.00                     =3.45                 =1.00               = 100              \n ')\n",
"printf('                            MWm=100/3.45=28.99               ')"
   ]
   }
,
{
		   "cell_type": "markdown",
		   "metadata": {},
		   "source": [
			"## Example 7.9: Thermodynamic_properties_of_a_gas_mixture.sce"
		   ]
		  },
  {
"cell_type": "code",
	   "execution_count": null,
	   "metadata": {
	    "collapsed": true
	   },
	   "outputs": [],
"source": [
"//scilab 5.4.1\n",
"clear;\n",
"clc;\n",
"printf('\t\t\tProblem Number 7.9\n\n\n');\n",
"// Chapter 7 : Mixtures Of Ideal Gases\n",
"// Problem 7.9  (page no. 331) \n",
"// Solution\n",
"\n",
"//Given: cp of oxygen is 0.23 Btu/lbm*R.cp of nitrogen is 0.25 Btu/lbm*R. 160 lbm/hr of oxygen and 196 lbm/hr of nitrogen are mixed.oxygen is at 500 F and nitrogen  is at 200 F.\n",
"\n",
"//The energy equation for the steady-flow,adiaatic mixing process gives us the requirement that the enthalpy of the mixture must equal to the enthalpies of the      components,because deltah=q=0.An alternative statement of this requirement is that the gain in enthalpy of the nitrogen must equal the decrease in enthalpy of the   oxygen.Using the latter statement,that the change in enthalpy of nitrogen,yields\n",
"// (160*0.23*(500-tm)) = (196*0.25*(tm-200)) where tm=mixture temperature\n",
"//where m*cp*deltat has been used for deltah. //cp=specific heat at constant pressure //Unit for cp is Btu/lbm*R\n",
"//rearranging the above equation,\n",
"tm=((500*160*0.23)+(196*0.25*200))/((196*0.25)+(160*0.23)); //tm=mixture temperature //Unit:fahrenheit\n",
"printf('The final temperature of the mixture is %f F\n',tm);\n",
"//Using the requirement that the enthalpy of the mixture must equal to the sum of the enthalpies of the components yields an alternative solution to this problem.Let  us assume that at 0 F,the enthalpy of each gas and of the mixture is zero.The enthalpy of the entering oxygen is (160*0.23*(500-0)),and the enthalpy of the        entering nitrogen is (196*0.25*(200-0)).The enthalpy of the mixture is ((160+196)*cpm*(tm-0))\n",
"//Therefore,  (160*0.23*500)+(196*0.25*200) = ((160+196)*cpm*tm)\n",
"cpm=((160/(160+196))*0.23)+((196/(160+196))*0.25); //specific heat at constant pressure for gas mixture //Btu/lbm*R\n",
"printf('For mixture,Specific heat at constant pressure is %f Btu/lbm*R\n',cpm);\n",
"//therefore,\n",
"tm=((160*0.23*500)+(196*0.25*200))/(cpm*(160+196)); //tm=mixture temperature //Unit:fahrenheit\n",
"printf('By using value of cpm,The final temperature of the mixture is %f F\n',tm);\n",
"//The use of 0 F as a base was arbitrary but convenient.Any base would yield the same results.\n",
"//The answer of cpm is wrong in the book."
   ]
   }
],
"metadata": {
		  "kernelspec": {
		   "display_name": "Scilab",
		   "language": "scilab",
		   "name": "scilab"
		  },
		  "language_info": {
		   "file_extension": ".sce",
		   "help_links": [
			{
			 "text": "MetaKernel Magics",
			 "url": "https://github.com/calysto/metakernel/blob/master/metakernel/magics/README.md"
			}
		   ],
		   "mimetype": "text/x-octave",
		   "name": "scilab",
		   "version": "0.7.1"
		  }
		 },
		 "nbformat": 4,
		 "nbformat_minor": 0
}
