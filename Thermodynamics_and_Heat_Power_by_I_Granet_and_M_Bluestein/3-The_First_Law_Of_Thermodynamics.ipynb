{
"cells": [
 {
		   "cell_type": "markdown",
	   "metadata": {},
	   "source": [
       "# Chapter 3: The First Law Of Thermodynamics"
	   ]
	},
{
		   "cell_type": "markdown",
		   "metadata": {},
		   "source": [
			"## Example 3.10: Workdone.sce"
		   ]
		  },
  {
"cell_type": "code",
	   "execution_count": null,
	   "metadata": {
	    "collapsed": true
	   },
	   "outputs": [],
"source": [
"clear;\n",
"clc;\n",
"printf('\t\t\tProblem Number 3.10\n\n\n');\n",
"// Chapter 3 : The First Law Of Thermodynamics\n",
"// Problem 3.10 (page no. 105) \n",
"// Solution\n",
"\n",
"Cp=0.22; //Unit:Btu/(LBm*R) //Specific heat for constant pressure process\n",
"Cv=0.17; //Unit:Btu/(LBm*R) //Specific heat for constant volume process\n",
"q=800/10; //data given:800 Btu as heat is added to 10 LBm //Unit:Btu/LBm\n",
"T1=100; //Unit:Fahrenheit //Initial temperature //T2=Final temperature\n",
"//For a non-flow,constant pressure process\n",
"//q=deltah=h2-h1=Cp(T2-T1) //deltah=change in enthalpy\n",
"//deltaT=T2-T1;\n",
"deltaT=q/Cp; //Fahrenheit  //change in temperature\n",
"T2=deltaT+T1; //Fahrenheit  //final temperature\n",
"//For a constant volume pressure\n",
"//u2-u1=Change in internal energy //w=workdone\n",
"//q-w=u2-u1\n",
"//-w=(u2-u1)-q = Cv*(T2-T1)-q\n",
"w=-(Cv*(T2-T1)-q); //Unit:Btu/lbm //workdone\n",
"printf('%f Btu/lbm work is taken out of the system due to workdone by gas\n',w);\n",
"printf('As there is 10 lbm in the system\n')\n",
"printf('%f Btu work is taken out of the system due to workdone by gas\n',w*10);"
   ]
   }
,
{
		   "cell_type": "markdown",
		   "metadata": {},
		   "source": [
			"## Example 3.11: Determine_the_Power_Produced.sce"
		   ]
		  },
  {
"cell_type": "code",
	   "execution_count": null,
	   "metadata": {
	    "collapsed": true
	   },
	   "outputs": [],
"source": [
"clear;\n",
"clc;\n",
"printf('\t\t\tProblem Number 3.11\n\n\n');\n",
"// Chapter 3 : The First Law Of Thermodynamics\n",
"// Problem 3.11 (page no. 111) \n",
"// Solution\n",
"\n",
"//Given data\n",
"//                    Inlet     Outlet\n",
"//Pressure(psia)      1000      1\n",
"//Temperature(F)      1000      101.74\n",
"//Velocity(ft/s)      125       430\n",
"//Inlet position(ft)  +10       0\n",
"//Enthalpy(Btu/LBm)   1505.4    940.0\n",
"//Steam flow rate of 150000 LBm/hr\n",
"\n",
"//From the table,\n",
"Z1=10; V1=125; h1=1505.4; Z2=0; V2=430; h2=940.0;\n",
"\n",
"//Energy equation is given by\n",
"//((Z1/J)*(g/gc)) + (V1^2/(2*gc*J)) + h1 + q = ((Z2/J)*(g/gc)) + (V2^2/(2*gc*J)) + h2 + w/J\n",
"printf('Solution for (a) \n');\n",
"q=0; //net heat\n",
"J=778; //Conversion factor\n",
"gc=32.174; //Unit: (LBm*ft)/(LBf*s^2) //gc is constant of proportionality\n",
"g=gc; //Unit:ft/s^2 //g=The local gravity\n",
"//W1=w/J;\n",
"//Energy equation is given by\n",
"W1=((Z1/J)*(g/gc)) + (V1^2/(2*gc*J)) + h1 + q - ((Z2/J)*(g/gc)) - (V2^2/(2*gc*J)) - h2; //Unit:Btu/LBm\n",
"printf('If heat losses are negligible,\n');\n",
"printf('Total work of the turbine is %f Btu/LBm\n',W1);\n",
"printf('Total work of the turbine is %f Btu/hr\n',W1*150000); \n",
"//(W*150000*778)/(60*33000) //in terms of horsepower  //1 hr=60 min //1 hp=33000 (ft*LBf)\n",
"printf('Total work of the turbine is %f hp \n',(W1*150000*778)/(60*33000)); \n",
"//1 hp =0.746 kW\n",
"printf('Total work of the turbine is %f kW \n\n',((W1*150000*778)/(60*33000))*0.746);\n",
"\n",
"\n",
"printf('\nSolution for (b) \n');\n",
"//Heat losses equal 50,000 Btu/hr\n",
"q=50000/150000; //Unit:Btu/LBm //Heat loss\n",
"W2=((Z1/J)*(g/gc)) + (V1^2/(2*gc*J)) + h1 - q - ((Z2/J)*(g/gc)) - (V2^2/(2*gc*J)) - h2; //Unit:Btu/LBm\n",
"printf('If heat losses equal 50,000 Btu/hr , Total work of the turbine is %f Btu/LBm\n',W2);\n",
""
   ]
   }
,
{
		   "cell_type": "markdown",
		   "metadata": {},
		   "source": [
			"## Example 3.12: Work_output_per_kg.sce"
		   ]
		  },
  {
"cell_type": "code",
	   "execution_count": null,
	   "metadata": {
	    "collapsed": true
	   },
	   "outputs": [],
"source": [
"clear;\n",
"clc;\n",
"printf('\t\t\tProblem Number 3.12\n\n\n');\n",
"// Chapter 3 : The First Law Of Thermodynamics\n",
"// Problem 3.12 (page no. 112) \n",
"// Solution\n",
"\n",
"Z1=2; //Unit:m //Inlet position\n",
"g=9.81 //Unit:m/s^2 //g=The local gravity\n",
"V1=40; //Unit:m/s //Inlet velocity\n",
"h1=3433.8; //Unit:kJ/kg //Inlet enthalpy\n",
"q=1 //Unit:kJ/kg //Heat losses\n",
"Z2=0; //Outlet position //unit:m\n",
"V2=162; //Unit:m/s //Outlet velocity\n",
"h2=2675.5; //Unit:kJ/kg //Outlet enthalpy\n",
"\n",
"//Energy equation is given by\n",
"//((Z1*g)) + (V1^2/2) + h1 + q = ((Z2*g) + (V2^2/2) + h2 + w\n",
"\n",
"w= ((Z1*g)/1000) + ((V1^2/2)/1000) + h1 - q - ((Z2*g)/1000) - ((V2^2/2)/1000) - h2 ; //Unit:kJ/kg //Conersation: 1 kJ=1000 J\n",
"printf('The work output per kilogram is %f kJ/kg\n',w);"
   ]
   }
,
{
		   "cell_type": "markdown",
		   "metadata": {},
		   "source": [
			"## Example 3.13: The_work_output_per_pound.sce"
		   ]
		  },
  {
"cell_type": "code",
	   "execution_count": null,
	   "metadata": {
	    "collapsed": true
	   },
	   "outputs": [],
"source": [
"clear;\n",
"clc;\n",
"printf('\t\t\tProblem Number 3.13\n\n\n');\n",
"// Chapter 3 : The First Law Of Thermodynamics\n",
"// Problem 3.13 (page no. 113) \n",
"// Solution\n",
"\n",
"p1=150; //Unit:psia //Initial pressure\n",
"T1=1000; //Unit:R //Temperature at pressure p1\n",
"p2=15; //Unit:psia //Final pressure\n",
"T2=600; //Unit:R //Temperature at pressure p2\n",
"Cp=0.24; //Unit:Btu/(LBm*R) //Specific heat for constant pressure process\n",
"v1=2.47; //Unit:ft^3/LBm //Specific volume at inlet conditions\n",
"v2=14.8; //Unit:ft^3/LBm //Specific volume at outlet conditions\n",
"\n",
"//For a non-flow,constant pressure process\n",
"//w/J=deltah=h2-h1=Cp(T2-T1) //deltah=change in enthalpy\n",
"//W=w/J\n",
"W=Cp*(T1-T2); //W=Work output //Unit:Btu/LBm\n",
"printf('The work output of the turbine per pound of working fluid is %f Btu/LBm',W);"
   ]
   }
,
{
		   "cell_type": "markdown",
		   "metadata": {},
		   "source": [
			"## Example 3.14: The_work_output_per_pound.sce"
		   ]
		  },
  {
"cell_type": "code",
	   "execution_count": null,
	   "metadata": {
	    "collapsed": true
	   },
	   "outputs": [],
"source": [
"clear;\n",
"clc;\n",
"printf('\t\t\tProblem Number 3.14\n\n\n');\n",
"// Chapter 3 : The First Law Of Thermodynamics\n",
"// Problem 3.14 (page no. 114) \n",
"// Solution\n",
"\n",
"//In problem 3.13 ,\n",
"p1=150; //Unit:psia //Initial pressure\n",
"T1=1000; //Unit:R //Temperature at pressure p1\n",
"p2=15; //Unit:psia //Final pressure\n",
"T2=600; //Unit:R //Temperature at pressure p2\n",
"Cp=0.24; //Unit:Btu/(LBm*R) //Specific heat for constant pressure process\n",
"v1=2.47; //Unit:ft^3/LBm //Specific volume at inlet conditions\n",
"v2=14.8; //Unit:ft^3/LBm //Specific volume at outlet conditions\n",
"\n",
"//For a non-flow,constant pressure process\n",
"//w/J=deltah=h2-h1=Cp(T2-T1) //deltah=change in enthalpy\n",
"//W=w/J\n",
"W=Cp*(T1-T2); //W=Work output //Unit:Btu/LBm //h2-h1\n",
"printf('In problem 3.13,The work output of the turbine per pound of working fluid is %f Btu/LBm \n \n',W);\n",
"\n",
"//Now,In problem 3.14 , \n",
"q=1.1; //Unit:Btu/LBm //Heat losses\n",
"//For a non-flow,constant pressure process\n",
"//q-w/J=deltah=h2-h1=Cp(T2-T1) //deltah=change in enthalpy\n",
"//W1=w/J\n",
"W1=-q+W; //W=Work output //Unit:Btu/LBm //W=h2-h1 //Because q  is out of the system,it is a negative quantity\n",
"printf('In problem 3.14,heat loss equal to 1.1 Btu/LBm,\n');\n",
"printf('The work output of the turbine per pound of working fluid is %f Btu/LBm \n',W1);"
   ]
   }
,
{
		   "cell_type": "markdown",
		   "metadata": {},
		   "source": [
			"## Example 3.15: Determine_the_heat_transfer.sce"
		   ]
		  },
  {
"cell_type": "code",
	   "execution_count": null,
	   "metadata": {
	    "collapsed": true
	   },
	   "outputs": [],
"source": [
"clear;\n",
"clc;\n",
"printf('\t\t\tProblem Number 3.15\n\n\n');\n",
"// Chapter 3 : The First Law Of Thermodynamics\n",
"// Problem 3.15 (page no. 115) \n",
"// Solution\n",
"\n",
"p1=100; //Unit:psia //Initial pressure\n",
"t1=950; //Unit:Fahrenheit //Temperature at pressure p1\n",
"p2=76; //Unit:psia //Final pressure\n",
"t2=580; //Unit:Fahrenheit //Temperature at pressure p2\n",
"v1=4; //Unit:ft^3/LBm //Specific volume at inlet conditions\n",
"v2=3.86; //Unit:ft^3/LBm //Specific volume at outlet conditions\n",
"Cv=0.32; //Unit:Btu/(LBm*R) //Specific heat for constant volume process\n",
"\n",
"T1=t1+460; //Unit:R //Temperature at pressure p1\n",
"T2=t2+460; //Unit:R //Temperature at pressure p2\n",
"J=778; //J=Conversion factor\n",
"\n",
"//Z1=Inlet position //Unit:m \n",
"//V1=Inlet velocity //Unit:m/s\n",
"//Z2=Outlet position //Unit:m \n",
"//V2=Outlet velocity Unit:m/s \n",
"//u1=internal energy //energy in\n",
"//u2=internal energy //energy out\n",
"\n",
"//Energy equation is given by\n",
"//((Z1/J)*(g/gc)) + (V1^2/(2*gc*J)) + u1 + ((p1*v1)/J) + q = ((Z2/J)*(g/gc)) + (V2^2/(2*gc*J)) + u2 + ((p2*v2)/J) + w/J; //Unit:Btu/LBm\n",
"//Because pipe is horizontal and velocity terms are to be neglected, \n",
"// Also no work crosses the boundaries of the system, the energy equation is reduced to\n",
"//u1 + ((p1*v1)/J) + q = u2 + ((p2*v2)/J)\n",
"//u2-u1=Cv*(T2-T1) //For a constant volume process //u2-u1=Chnage in internal energy\n",
"//So,\n",
"q=Cv*(T2-T1) + (p2*v2*144)/J - (p1*v1*144)/J;  //q=heat transfer //1 ft^2=144 in^2 //Unit:Btu/LBm\n",
"printf('%f Btu/LBm heat is transferred from the gas \n',q);"
   ]
   }
,
{
		   "cell_type": "markdown",
		   "metadata": {},
		   "source": [
			"## Example 3.16: Determine_the_heat_transfer.sce"
		   ]
		  },
  {
"cell_type": "code",
	   "execution_count": null,
	   "metadata": {
	    "collapsed": true
	   },
	   "outputs": [],
"source": [
"clear;\n",
"clc;\n",
"printf('\t\t\tProblem Number 3.16\n\n\n');\n",
"// Chapter 3 : The First Law Of Thermodynamics\n",
"// Problem 3.16 (page no. 116) \n",
"// Solution\n",
"\n",
"//In problem 3.15,\n",
"p1=100; //Unit:psia //Initial pressure\n",
"t1=950; //Unit:Fahrenheit //Temperature at pressure p1\n",
"p2=76; //Unit:psia //Final pressure\n",
"t2=580; //Unit:Fahrenheit //Temperature at pressure p2\n",
"v1=4; //Unit:ft^3/LBm //Specific volume at inlet conditions\n",
"v2=3.86; //Unit:ft^3/LBm //Specific volume at outlet conditions\n",
"Cv=0.32; //Unit:Btu/(LBm*R) //Specific heat for constant volume process\n",
"\n",
"T1=t1+460; //Unit:R //Temperature at pressure p1\n",
"T2=t2+460; //Unit:R //Temperature at pressure p2\n",
"J=778; //J=Conversion factor\n",
"gc=32.174; //Unit: (LBm*ft)/(LBf*s^2) //gc is constant of proportionality\n",
"g=gc; //Unit:ft/s^2 //g=The local gravity\n",
"\n",
"//Z1=Inlet position //Unit:m \n",
"//V1=Inlet velocity //Unit:m/s\n",
"//Z2=Outlet position //Unit:m \n",
"//V2=Outlet velocity Unit:m/s \n",
"//u1=internal energy //energy in\n",
"//u2=internal energy //energy out\n",
"\n",
"//Energy equation is given by\n",
"//((Z1/J)*(g/gc)) + (V1^2/(2*gc*J)) + u1 + ((p1*v1)/J) + q = ((Z2/J)*(g/gc)) + (V2^2/(2*gc*J)) + u2 + ((p2*v2)/J) + w/J; //Unit:Btu/LBm\n",
"//In 3.15, the elevation of the pipe at section 1 makes Z1 = 0\n",
"// Also no work crosses the boundaries of the system, the energy equation is reduced to\n",
"//u1 + ((p1*v1)/J) + q = u2 + ((p2*v2)/J) + ((Z2/J)*(g/gc))\n",
"//In problrm 3.16,\n",
"Z2=100; //Given //Unit:ft //Outlet position\n",
"//u2-u1=Cv*(T2-T1) //For a constant volume process //u2-u1=Chnage in internal energy\n",
"//So,\n",
"q=Cv*(T2-T1) + (p2*v2*144)/J - (p1*v1*144)/J + ((Z2/J)*(g/gc)) ;  //q=heat transfer //1 ft^2=144 in^2 //Unit:Btu/LBm\n",
"printf('%f Btu/LBm heat is transferred from the gas \n',q);\n",
"//For this problem , neglecting the elevation term leads to an insignificant error"
   ]
   }
,
{
		   "cell_type": "markdown",
		   "metadata": {},
		   "source": [
			"## Example 3.17: The_boiler_example.sce"
		   ]
		  },
  {
"cell_type": "code",
	   "execution_count": null,
	   "metadata": {
	    "collapsed": true
	   },
	   "outputs": [],
"source": [
"clear;\n",
"clc;\n",
"printf('\t\t\tProblem Number 3.17\n\n\n');\n",
"// Chapter 3 : The First Law Of Thermodynamics\n",
"// Problem 3.17 (page no. 117) \n",
"// Solution\n",
"\n",
"p1=1000; //Unit:psia //Initial pressure\n",
"t1=100;  //Unit:Fahrenheit //Temperature at pressure p1\n",
"p2=1000; //Unit:psia //Final pressure\n",
"t2=1000; //Unit:Fahrenheit //Temperature at pressure p2\n",
"// feed in 10,000 LBm/hr \n",
"h1=70.68  //Unit:Btu/LBm //Inlet enthalpy\n",
"h2=1505.9 //Unit:Btu/LBm //Outlet enthalpy\n",
"\n",
"T1=t1+460; //Unit:R //Temperature at pressure p1\n",
"T2=t2+460; //Unit:R //Temperature at pressure p2\n",
"//Energy equation is given by\n",
"J=778; //J=Conversion factor\n",
"\n",
"//Z1=Inlet position //Unit:m \n",
"//V1=Inlet velocity //Unit:m/s\n",
"//Z2=Outlet position //Unit:m \n",
"//V2=Outlet velocity Unit:m/s \n",
"//u1=internal energy //energy in\n",
"//u2=internal energy //energy out\n",
"//h=enthalpy\n",
"\n",
"//Energy equation is given by\n",
"//((Z1/J)*(g/gc)) + (V1^2/(2*gc*J)) + u1 + ((p1*v1)/J) + q = ((Z2/J)*(g/gc)) + (V2^2/(2*gc*J)) + u2 + ((p2*v2)/J) + w/J; //Unit:Btu/LBm\n",
"\n",
"//we can consider this system as a single unit with feed water entering ans steam leaving. \n",
"//It well designed,this unit will be thoroughly insulated,and heat losse will be reduced to a negligible amount\n",
"//Alos,no work will be added to the fluid during the time it is passing through the unit, and kinetic energy differences will be assumed to be negligibly small\n",
"//Differennces in elevation also be considered negligible\n",
"//So,the energy equation is reduced to \n",
"//u1 + ((p1*v1)/J) + q = u2 + ((p2*v2)/J)\n",
"//Because h=u+(p*v/J)\n",
"q=h2-h1; //q=net heat losses //Unit:Btu/LBm\n",
"printf('Net heat losses is %f Btu/LBm \n',q);\n",
"printf('For 10000 LBm/hr,\n');\n",
"printf('%f Btu/hr energy has been added to the water to convert it to steam',q*10000)\n",
""
   ]
   }
,
{
		   "cell_type": "markdown",
		   "metadata": {},
		   "source": [
			"## Example 3.18: The_final_velocity_of_the_nozzle.sce"
		   ]
		  },
  {
"cell_type": "code",
	   "execution_count": null,
	   "metadata": {
	    "collapsed": true
	   },
	   "outputs": [],
"source": [
"clear;\n",
"clc;\n",
"printf('\t\t\tProblem Number 3.18\n\n\n');\n",
"// Chapter 3 : The First Law Of Thermodynamics\n",
"// Problem 3.18  (page no. 119) \n",
"// Solution\n",
"\n",
"h1=1220  //Unit:Btu/LBm //Inlet enthalpy\n",
"h2=1100 //Unit:Btu/LBm //Outlet enthalpy\n",
"\n",
"//Z1=Inlet position //Unit:m \n",
"//V1=Inlet velocity //Unit:m/s\n",
"//Z2=Outlet position //Unit:m \n",
"//V2=Outlet velocity Unit:m/s \n",
"//u1=internal energy //energy in\n",
"//u2=internal energy //energy out\n",
"J=778; //J=Conversion factor\n",
"gc=32.174; //Unit: (LBm*ft)/(LBf*s^2) //gc is constant of proportionality\n",
"\n",
"//Energy equation is given by\n",
"//((Z1/J)*(g/gc)) + (V1^2/(2*gc*J)) + u1 + ((p1*v1)/J) + q = ((Z2/J)*(g/gc)) + (V2^2/(2*gc*J)) + u2 + ((p2*v2)/J) + w/J; //Unit:Btu/LBm\n",
"\n",
"//For this device,differences in elevation are negligible.No work is done on or by the fluid,friction is negligible\n",
"//And due to the speed of the fluid flowing and the short length of the nozzle,heat transfer to or from the surroundings is also negligible.\n",
"//So,the energy equation is reduced to \n",
"//u1 + ((p1*v1)/J) +(V1^2/(2*gc*J)  = u2 + ((p2*v2)/J) + (V2^2/(2*gc*J)\n",
"// h1-h2 = ((V2^2-V1^2)/(2*gc*J))\n",
"\n",
"printf('Solution for (a)\n');\n",
"//For neglegible entering velocity, V1=0\n",
"//So,\n",
"V2=sqrt((2*gc*J)*(h1-h2)); //the final velocity  //ft/s\n",
"printf('It the initial velocity of the system is negligible,the final velocity is %f ft/s \n \n',V2);\n",
"\n",
"printf('Solution for (b)\n');\n",
"//If the initial velocity is appreciable,\n",
"V1=1000; //Unit:ft/s //the initial velocity \n",
"V2=sqrt(((h1-h2)*(2*gc*J)) + V1^2 ) ;\n",
"printf('It the initial velocity of the system is appreciable,the final velocity is %f ft/s \n \n',V2);"
   ]
   }
,
{
		   "cell_type": "markdown",
		   "metadata": {},
		   "source": [
			"## Example 3.19: Nozzle.sce"
		   ]
		  },
  {
"cell_type": "code",
	   "execution_count": null,
	   "metadata": {
	    "collapsed": true
	   },
	   "outputs": [],
"source": [
"clear;\n",
"clc;\n",
"printf('\t\t\tProblem Number 3.19\n\n\n');\n",
"// Chapter 3 : The First Law Of Thermodynamics\n",
"// Problem 3.19 (page no. 120) \n",
"// Solution\n",
"\n",
"h1=3450*1000 //Unit:J/kg //Enthalpy of steam when it enters a nozzle\n",
"h2=2800*1000 //Unit:J/kg //Enthalpy of steam when it leaves a nozzle\n",
"\n",
"//V2^2/2=h1-h2;\n",
"V2=sqrt(2*(h1-h2)); //V2=Final velocity //Unit:m/s\n",
"printf('Final velocity = %f m/s\n',V2);"
   ]
   }
,
{
		   "cell_type": "markdown",
		   "metadata": {},
		   "source": [
			"## Example 3.1: Change_in_internal_energy.sce"
		   ]
		  },
  {
"cell_type": "code",
	   "execution_count": null,
	   "metadata": {
	    "collapsed": true
	   },
	   "outputs": [],
"source": [
"clear;\n",
"clc;\n",
"printf('\t\t\tProblem Number 3.1\n\n\n');\n",
"// Chapter 3 : The First Law Of Thermodynamics\n",
"// Problem 3.1 (page no. 91) \n",
"// Solution\n",
"\n",
"//For a constant volume process, 10 Btu/lbm heat is added to the system\n",
"//We can consider thet a tank having a fixed volume has heat added to it\n",
"//Under these conditions,the mechanical work done on or by the system must be 0\n",
"//u2-u1=q\n",
"printf('Heat has been converted to internal energy of the working fluid\n');\n",
"//So,\n",
"printf(' So,Change in internal energy u2-u1=10 Btu/Lbm');"
   ]
   }
,
{
		   "cell_type": "markdown",
		   "metadata": {},
		   "source": [
			"## Example 3.21: The_heat_exchanger.sce"
		   ]
		  },
  {
"cell_type": "code",
	   "execution_count": null,
	   "metadata": {
	    "collapsed": true
	   },
	   "outputs": [],
"source": [
"clear;\n",
"clc;\n",
"printf('\t\t\tProblem Number 3.21\n\n\n');\n",
"// Chapter 3 : The First Law Of Thermodynamics\n",
"// Problem 3.21 (page no. 125) \n",
"// Solution\n",
"\n",
"m=400; //Unit:LBm/min //mass of lubricating oil\n",
"Cp=0.85; //Unit:Btu/LBm*R //Specific heat of the oil\n",
"T1=215; //Temperature when hot oil is entering //Unit:Fahrenheit\n",
"T2=125; //Temperature when hot oil is leaving //Unit:Fahrenheit\n",
"DeltaT=T2-T1; //Unit:Fahrenheit  //change in temperature\n",
"Qoil=m*Cp*DeltaT; //Heat out of oil //Btu/min\n",
"printf('Heat out of oil is %f Btu/min (Out of oil)\n',Qoil);\n",
"//Heat out of oil is the heat into the water\n",
"//Mw=Water flow rate\n",
"//M*Cpw*DeltaTw=Qoil\n",
"Cpw=1.0; //Unit:Btu/LBm*R //Specific heat of the water\n",
"T3=60; //Temperature when water is entering //Unit:Fahrenheit\n",
"T4=90; //Temperature when water is leaving //Unit:Fahrenheit\n",
"DeltaTw=T4-T3; //Unit:Fahrenheit //change in temperature\n",
"Mw=Qoil/(Cpw*DeltaTw); //The Required water flow rate  //Unit;lbm/Min\n",
"printf('The Required water flow rate is %f lbm/Min\n',abs(Mw));"
   ]
   }
,
{
		   "cell_type": "markdown",
		   "metadata": {},
		   "source": [
			"## Example 3.4: Change_in_internal_energy.sce"
		   ]
		  },
  {
"cell_type": "code",
	   "execution_count": null,
	   "metadata": {
	    "collapsed": true
	   },
	   "outputs": [],
"source": [
"clear;\n",
"clc;\n",
"printf('\t\t\tProblem Number 3.1\n\n\n');\n",
"// Chapter 3 : The First Law Of Thermodynamics\n",
"// Problem 3.1 (page no. 91) \n",
"// Solution\n",
"\n",
"printf('Solution For (a)\n');\n",
"m=10; //Unit:lbm //mass of water\n",
"//delataU=U2-U1\n",
"Heat=100; //Unit:Btu //heat added\n",
"deltaU=Heat/m; //Change in internal energy  //unit:Btu/lbm\n",
"printf('Change in internal energy per pound of water is %f Btu/lbm\n',deltaU);\n",
"\n",
"printf('Solution For (b)\n');\n",
"printf('In this process,energy crosses the boundary of the system by means of fractional work\n');\n",
"printf('The contents of the tank will not distinguish between the energy if it is added as heat or the energy added as fraction work\n');"
   ]
   }
,
{
		   "cell_type": "markdown",
		   "metadata": {},
		   "source": [
			"## Example 3.5: The_mass_flow_rate_and_exit_velocity.sce"
		   ]
		  },
  {
"cell_type": "code",
	   "execution_count": null,
	   "metadata": {
	    "collapsed": true
	   },
	   "outputs": [],
"source": [
"clear;\n",
"clc;\n",
"printf('\t\t\tProblem Number 3.5\n\n\n');\n",
"// Chapter 3 : The First Law Of Thermodynamics\n",
"// Problem 3.5 (page no. 96) \n",
"// Solution\n",
"\n",
"P1=100 //Unit:psia //Pressure at the entrance to a steady-flow device\n",
"Rho1=62.4 //Unit:lbm/ft^3 //the density of the fluid\n",
"A1V1=10000 //Unit:ft^3/min //Entering fluid\n",
"A2=2 //Unit:ft^2 //Exit area\n",
"m=Rho1*A1V1; //Unit:lbm/min //mass rate of flow per unit time\n",
"printf('Mass flow rate is %f LBm/min\n',m);\n",
"\n",
"Rho2=Rho1; //Unit:lbm/ft^3 //the density of the fluid\n",
"//m=Rho2*A2*V2\n",
"//So,\n",
"V2=m/(Rho2*A2); //velocity at exit //Unit:ft/min\n",
"printf('The exit velocity is %f ft/min',V2);"
   ]
   }
,
{
		   "cell_type": "markdown",
		   "metadata": {},
		   "source": [
			"## Example 3.6: The_mass_flow_rate_and_the_exit_velocity.sce"
		   ]
		  },
  {
"cell_type": "code",
	   "execution_count": null,
	   "metadata": {
	    "collapsed": true
	   },
	   "outputs": [],
"source": [
"clear;\n",
"clc;\n",
"printf('\t\t\tProblem Number 3.6\n\n\n');\n",
"// Chapter 3 : The First Law Of Thermodynamics\n",
"// Problem 3.6 (page no. 97) \n",
"// Solution\n",
"\n",
"Rho1=1000 //Unit:kg/m^3 //the density of the fluid at entrance\n",
"A1V1=2000 //Unit:m^3/min //Entering fluid\n",
"A2=0.5 //Unit:ft^2 //Exit area\n",
"m=Rho1*A1V1; //Unit:kg/min //mass rate of flow per unit time\n",
"printf('Mass flow rate is %f kg/min\n',m);\n",
"\n",
"Rho2=Rho1; //Unit:kg/m^3 //the density of the fluid at exit\n",
"//m=Rho2*A2*V2\n",
"//So,\n",
"V2=m/(Rho2*A2); //The exit velocity //Unit:m/min\n",
"printf('The exit velocity is %f m/min',V2);\n",
""
   ]
   }
,
{
		   "cell_type": "markdown",
		   "metadata": {},
		   "source": [
			"## Example 3.7: The_mass_flow_rate.sce"
		   ]
		  },
  {
"cell_type": "code",
	   "execution_count": null,
	   "metadata": {
	    "collapsed": true
	   },
	   "outputs": [],
"source": [
"clear;\n",
"clc;\n",
"printf('\t\t\tProblem Number 3.7\n\n\n');\n",
"// Chapter 3 : The First Law Of Thermodynamics\n",
"// Problem 3.7 (page no. 97) \n",
"// Solution\n",
"\n",
"Rho=62.4 //Unit:lbm/ft^3 //the density of the fluid\n",
"V=100 //Unit:ft/s //Velocity of fluid\n",
"d=1 //Unit:in //Diameter\n",
"//1 ft^2=144 in^2 //A=(%pi/4)*d^2\n",
"A=(%pi*d^2)/(4*144) //Unit:ft^2 //area \n",
"m=Rho*A*V; //Unit:lbm/s //mass rate of flow per unit time\n",
"printf('Mass flow rate is %f lbm/s\n',m);"
   ]
   }
,
{
		   "cell_type": "markdown",
		   "metadata": {},
		   "source": [
			"## Example 3.8: Velocity_at_inlet_and_outlet.sce"
		   ]
		  },
  {
"cell_type": "code",
	   "execution_count": null,
	   "metadata": {
	    "collapsed": true
	   },
	   "outputs": [],
"source": [
"clear;\n",
"clc;\n",
"printf('\t\t\tProblem Number 3.8\n\n\n');\n",
"// Chapter 3 : The First Law Of Thermodynamics\n",
"// Problem 3.8 (page no. 98) \n",
"// Solution\n",
"\n",
"m1=50000; //Unit:LBm/hr //An inlet steam flow\n",
"v1=0.831 //Unit:ft^3/LBm //Specific volume of inlet steam\n",
"d1=6  //Unit:in //Inlet diameter\n",
"A1=(%pi*d1^2)/(4*144) //1 ft^2=144 in^2 //Entering area\n",
"V1=(m1*v1)/(A1*60*60) //(60 min/hr * 60 s/min) //To convert hours into seconds //velocity at inlet\n",
"printf('The velocity at inlet is %f ft/s\n',V1);\n",
"\n",
"\n",
"m2=m1; //Unit:LBm/hr //m2=An outlet steam flow\n",
"v2=1.825 //Unit:ft^3/LBm //Specific volume of outlet steam\n",
"d2=8  //Unit:in //Outlet diameter\n",
"A2=(%pi*d2^2)/(4*144) //1 ft^2=144 in^2 //Exit area\n",
"V2=(m1*v2)/(A2*60*60) //(60 min/hr * 60 s/min) //To convert hours into seconds //velocity at outlet\n",
"printf('The velocity at outlet is %f ft/s',V2);"
   ]
   }
,
{
		   "cell_type": "markdown",
		   "metadata": {},
		   "source": [
			"## Example 3.9: Inlet_and_outlet_velocities.sce"
		   ]
		  },
  {
"cell_type": "code",
	   "execution_count": null,
	   "metadata": {
	    "collapsed": true
	   },
	   "outputs": [],
"source": [
"clear;\n",
"clc;\n",
"printf('\t\t\tProblem Number 3.9\n\n\n');\n",
"// Chapter 3 : The First Law Of Thermodynamics\n",
"// Problem 3.9 (page no. 99) \n",
"// Solution\n",
"\n",
"m1=10000; //Unit:kg/hr //An inlet steam flow\n",
"v1=0.05 //Unit:m^3/kg //Specific volume of inlet steam\n",
"d1=0.1  //Unit:m //Inlet diameter //100 mm =0.1 m\n",
"A1=(%pi/4)*d1^2 //Unit:m^2 //Entering area\n",
"V1=(m1*v1)/(A1*60*60) //(60 min/hr * 60 s/min) //To convert hours into seconds //velocity at inlet //Unit:m/s\n",
"printf('The velocity at inlet is %f m/s\n',V1);\n",
"\n",
"\n",
"m2=m1; //Unit:kg/hr //m2=An outlet steam flow\n",
"v2=0.10 //Unit:m^3/kg //Specific volume of outlet steam\n",
"d2=0.2  //Unit:m //Outlet diameter //200 mm = 0.2 m\n",
"A2=(%pi/4)*(d2^2) //Unit:m^2 //Exit area\n",
"V2=(m1*v2)/(A2*60*60) //(60 min/hr * 60 s/min) //To convert hours into seconds //velocity at outlet //Unit:m/s\n",
"printf('The velocity at outlet is %f m/s',V2);"
   ]
   }
],
"metadata": {
		  "kernelspec": {
		   "display_name": "Scilab",
		   "language": "scilab",
		   "name": "scilab"
		  },
		  "language_info": {
		   "file_extension": ".sce",
		   "help_links": [
			{
			 "text": "MetaKernel Magics",
			 "url": "https://github.com/calysto/metakernel/blob/master/metakernel/magics/README.md"
			}
		   ],
		   "mimetype": "text/x-octave",
		   "name": "scilab",
		   "version": "0.7.1"
		  }
		 },
		 "nbformat": 4,
		 "nbformat_minor": 0
}
