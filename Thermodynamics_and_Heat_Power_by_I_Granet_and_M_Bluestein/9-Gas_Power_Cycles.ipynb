{
"cells": [
 {
		   "cell_type": "markdown",
	   "metadata": {},
	   "source": [
       "# Chapter 9: Gas Power Cycles"
	   ]
	},
{
		   "cell_type": "markdown",
		   "metadata": {},
		   "source": [
			"## Example 9.10: Determine_the_mean_effective_pressure.sce"
		   ]
		  },
  {
"cell_type": "code",
	   "execution_count": null,
	   "metadata": {
	    "collapsed": true
	   },
	   "outputs": [],
"source": [
"//scilab 5.4.1\n",
"clear;\n",
"clc;\n",
"printf('\t\t\tProblem Number 9.10\n\n\n');\n",
"// Chapter 9 : Gas Power Cycles\n",
"// Problem 9.10  (page no. 470) \n",
"// Solution\n",
"\n",
"//For four cycle,six cylinder engine,\n",
"//Using the results of problem 9.5,\n",
"hp=100; //Horsepower //Unit:hp\n",
"L=4/12; //Unit:ft //stroke is 4 in.\n",
"A=(%pi/4)*(3)^2*6; //Cylinder bore is 3 in.\n",
"N=4000/2; //Power strokes per minute //2L engine //Unit:rpm\n",
"//hp=(pm*LA*N)/33000;\n",
"pm=(hp*33000)/(L*A*N); //The mean effective pressure //psia\n",
"printf('The mean effective pressure is %f psia',pm);"
   ]
   }
,
{
		   "cell_type": "markdown",
		   "metadata": {},
		   "source": [
			"## Example 9.11: The_mean_effective_pressure.sce"
		   ]
		  },
  {
"cell_type": "code",
	   "execution_count": null,
	   "metadata": {
	    "collapsed": true
	   },
	   "outputs": [],
"source": [
"//scilab 5.4.1\n",
"clear;\n",
"clc;\n",
"printf('\t\t\tProblem Number 9.11\n\n\n');\n",
"// Chapter 9 : Gas Power Cycles\n",
"// Problem 9.11  (page no. 470) \n",
"// Solution\n",
"\n",
"//six cylinder engine,with displacement 3.3L\n",
"//Using the results of problem 9.5,\n",
"hp=230; //Horsepower //Unit:hp\n",
"//3.3L*1000 cm^3/L*(in/2.54 cm)^3\n",
"LA=3.3*1000*(1/2.54)^3; //mean //in^3\n",
"N=5500/2; //Power strokes per minute //2L engine //Unit:rpm\n",
"//hp=(pm*LA*N)/33000;\n",
"pm=(hp*33000*12)/(LA*N); //1ft=12inch //The mean effective pressure //psia\n",
"printf('The mean effective pressure is %f psia',pm);"
   ]
   }
,
{
		   "cell_type": "markdown",
		   "metadata": {},
		   "source": [
			"## Example 9.12: Efficiency_and_temperature_of_the_exhaust.sce"
		   ]
		  },
  {
"cell_type": "code",
	   "execution_count": null,
	   "metadata": {
	    "collapsed": true
	   },
	   "outputs": [],
"source": [
"//scilab 5.4.1\n",
"clear;\n",
"clc;\n",
"printf('\t\t\tProblem Number 9.12\n\n\n');\n",
"// Chapter 9 : Gas Power Cycles\n",
"// Problem 9.12  (page no. 478) \n",
"// Solution\n",
"\n",
"//An air-standard Diesel engine\n",
"rc=16; //Compression Ratio Rc=v2/v3\n",
"v4byv3=2; //Cutoff ratio=v4/v3\n",
"k=1.4; //with the cycle starting at 14 psia and 100 F  //It is apparent incerease in compression ratio yields an increased cycle efficiency\n",
"T2=100+460; //temperatures converted to absolute temperatures;\n",
"ndiesel=1-((inv(rc))^(k-1)*(((v4byv3)^k-1)/(k*(v4byv3-1)))); //The efficiency of the diesel engine\n",
"printf('The efficiency of the diesel engine is %f percentage\n',ndiesel*100);\n",
"// T3/T2=rc^k-1 and T5/T4=(1/re^k-1) //re=expansion ratio=v5/v4\n",
"//But T4/T3=v4/v3=rc/re\n",
"//So,\n",
"T5=T2*(v4byv3)^k; //The temperature of the exhaust of the cycle //Unit:R\n",
"printf('The temperature of the exhaust of the cycle is %f R i.e. %f F',T5,T5-460);"
   ]
   }
,
{
		   "cell_type": "markdown",
		   "metadata": {},
		   "source": [
			"## Example 9.13: Determine_net_work_and_mean_effective_pressure.sce"
		   ]
		  },
  {
"cell_type": "code",
	   "execution_count": null,
	   "metadata": {
	    "collapsed": true
	   },
	   "outputs": [],
"source": [
"//scilab 5.4.1\n",
"clear;\n",
"clc;\n",
"printf('\t\t\tProblem Number 9.13\n\n\n');\n",
"// Chapter 9 : Gas Power Cycles\n",
"// Problem 9.13  (page no. 479) \n",
"// Solution\n",
"\n",
"//Now,in problem 9.12,\n",
"//An air-standard Diesel engine\n",
"rc=16; //Compression Ratio Rc=v2/v3\n",
"v4byv3=2; //Cutoff ratio=v4/v3\n",
"k=1.4; //with the cycle starting at 14 psia and 100 F  //It is apparent incerease in compression ratio yields an increased cycle efficiency\n",
"T2=100; //Unit:F //temperature \n",
"T5=1018; //Unit:F //Found in 9.12 //The temperature of the exhaust of the cycle //Unit:R\n",
"ndiesel=0.614 //Efficiency of the diesel engine //Found in 9.12\n",
"//Now,in problem 9.13,\n",
"cp=0.24; //Unit:Btu/(lbm*R) //Specific heat constant for constant pressure process\n",
"cv=0.172; //Unit:Btu/(lbm*R) //Specific heat constant for constant volume process\n",
"\n",
"Qr=cv*(T5-T2); //Heat rejected //Unit:Btu/lbm\n",
"//ndeisel=1-(Qr/qin); //Efficiency=ndeisel //qin=heat added\n",
"qin=Qr/(1-ndiesel); //Unit:Btu/lbm\n",
"J=778; //J=Conversion factor\n",
"networkout=J*(qin-Qr); //(ft*lbf)/lbm //Net work out per pound of gas\n",
"printf('Net work out per pound of gas is %f (ft*lbf)/lbm\n',networkout);\n",
"//The mean effective pressure is net work divided by (v2-v3):\n",
"mep=networkout/((16-1)*144); //1ft^2=144 in^2 //Unit:psia  //The mean effective pressure\n",
"printf('The mean effective pressure is %f psia',mep); "
   ]
   }
,
{
		   "cell_type": "markdown",
		   "metadata": {},
		   "source": [
			"## Example 9.14: Ddetermine_Heat_in_and_heat_rejected.sce"
		   ]
		  },
  {
"cell_type": "code",
	   "execution_count": null,
	   "metadata": {
	    "collapsed": true
	   },
	   "outputs": [],
"source": [
"//scilab 5.4.1\n",
"clear;\n",
"clc;\n",
"printf('\t\t\tProblem Number 9.14\n\n\n');\n",
"// Chapter 9 : Gas Power Cycles\n",
"// Problem 9.14  (page no. 489) \n",
"// Solution\n",
"\n",
"//A Brayton cycle\n",
"rc=7; //Compression Ratio Rc=v2/v3\n",
"k=1.4;  //It is apparent incerease in compression ratio yields an increased cycle efficiency\n",
"cp=0.24; //Unit:Btu/(lbm*R) //Specific heat constant for constant pressure process\n",
"T3=1500; //(unit:fahrenheit) //peak tempeature\n",
"p1=14.7; //Unit:psia //Initial condition\n",
"T1=70+460; //temperatures converted to absolute temperatures; //Initial condition\n",
"R=53.3; //Unit:ft*lbf/lbm*R //constant of proportionality\n",
"nBrayton=1-((inv(rc))^(k-1)); //A Brayton cycle efficiency \n",
"printf('A Brayton cycle efficiency is %f percentage\n',nBrayton*100);\n",
"//If we base our calculation on 1 lbm of gas and use subscripts that corresponds to points (1),(2),(3) and (4) of fig.9.22,we have\n",
"v1=(R*T1)/p1; //Unit:ft^3/lbm //specific volume at point 1\n",
"//Because rc=7 then,\n",
"v2=v1/rc; //Unit:ft^3/lbm //specific volume at point 2\n",
"//After the isentropic compression, T2*v2^k-1 = T1*v1^k-1\n",
"T2=T1*(v1/v2)^(k-1); //Unit:R //temperature at point 2\n",
"T2=T2-460; //Unit:fahrenheit //temperature at point 2\n",
"qin=cp*(T3-T2); //Heat in //Unit:Btu/lbm\n",
"printf('The heat in is %f Btu/lbm\n',qin);\n",
"//Because efficiency can be stated to be work out divided by heat in,\n",
"wbyJ=nBrayton*qin; //The work out //Unit:Btu/lbm\n",
"printf('The work out is %f Btu/lbm\n',wbyJ); //Answer is wrong in the book.cause they have taken efficiency value wrong\n",
"printf('The heat rejected is %f Btu/lbm\n',qin-wbyJ); //Anser is affected because of value of wbyJ"
   ]
   }
,
{
		   "cell_type": "markdown",
		   "metadata": {},
		   "source": [
			"## Example 9.1: The_efficiency_of_Otto_cycle_and_Carnot_cycle.sce"
		   ]
		  },
  {
"cell_type": "code",
	   "execution_count": null,
	   "metadata": {
	    "collapsed": true
	   },
	   "outputs": [],
"source": [
"//scilab 5.4.1\n",
"clear;\n",
"clc;\n",
"printf('\t\t\tProblem Number 9.1\n\n\n');\n",
"// Chapter 9 : Gas Power Cycles\n",
"// Problem 9.1  (page no. 462) \n",
"// Solution\n",
"\n",
"Rc=7; //Compression Ratio Rc=v2/v3\n",
"k=1.4;  //It is apparent incerease in compression ratio yields an increased cycle efficiency\n",
"notto=(1-(1/Rc)^(k-1))*100; //Efficiency of an otto engine\n",
"printf('The efficiency of the otto cycle is %f percentage\n',notto);\n",
"//For the carnot cycle,\n",
"//Nc=1-(T2/T4) //efficiency for the carnot cycle //T2=lowest temperature //T4=Highest temperature\n",
"\n",
"T2=70+460; //for converting to R //Conversion of unit\n",
"//At 700 F\n",
"T4=700+460; //temperatures converted to absolute temperatures;\n",
"nc=(1-(T2/T4))*100; //efficiency of the carnot cycle\n",
"printf('When peak temperature is 700 fahrenheit,efficiency of the carnot cycle is %f percentage\n',nc);        \n",
"\n",
"//At 1000 F\n",
"T4=1000+460; //temperatures converted to absolute temperatures;\n",
"nc=(1-(T2/T4))*100; //efficiency of the carnot cycle\n",
"printf('When peak temperature is 1000 fahrenheit,efficiency of the carnot cycle is %f percentage\n',nc);\n",
"\n",
"//At 3000 F\n",
"T4=3000+460; //temperatures converted to absolute temperatures;\n",
"nc=(1-(T2/T4))*100; //efficiency of the carnot cycle\n",
"printf('When peak temperature is 3000 fahrenheit,efficiency of the carnot cycle is %f percentage\n',nc);"
   ]
   }
,
{
		   "cell_type": "markdown",
		   "metadata": {},
		   "source": [
			"## Example 9.2: Efficiency_and_net_work_out.sce"
		   ]
		  },
  {
"cell_type": "code",
	   "execution_count": null,
	   "metadata": {
	    "collapsed": true
	   },
	   "outputs": [],
"source": [
"//scilab 5.4.1\n",
"clear;\n",
"clc;\n",
"printf('\t\t\tProblem Number 9.2\n\n\n');\n",
"// Chapter 9 : Gas Power Cycles\n",
"// Problem 9.2  (page no. 463) \n",
"// Solution\n",
"\n",
"cv=0.172; //Unit:Btu/(lbm*R) //Specific heat constant\n",
"Rc=7; //Compression Ratio Rc=v2/v3\n",
"k=1.4; //It is apparent incerease in compression ratio yields an increased cycle efficiency\n",
"T2=70+460; //for converting to R //Conversion of unit\n",
"//For 1000 F\n",
"T4=1000+460; //temperatures converted to absolute temperatures;\n",
"T3byT2=Rc^(k-1); //Unit less\n",
"T3=T3byT2*T2;\n",
"qin=cv*(T4-T3); //Unit:Btu/lbm //Heat added\n",
"//Qr=cv*(T5-T2)*(T5/T4)=(v2/v3)^(k-1)\n",
"Qr=(inv(Rc))^(k-1); //Unit:Btu/lbm //Heat rejected\n",
"T5=T4*Qr;\n",
"Qr=cv*(T5-T2); //Unit:Btu/lbm //Heat rejected\n",
"printf('The net work out is %f Btu/lbm\n',qin-Qr);\n",
"notto=((qin-Qr)/qin)*100; //The efficiency of otto cycle \n",
"printf('The efficiency of otto cycle is %f percentage',notto);\n",
"//The value agrees with the results of problem 9.1"
   ]
   }
,
{
		   "cell_type": "markdown",
		   "metadata": {},
		   "source": [
			"## Example 9.3: Determine_the_Peak_temperature.sce"
		   ]
		  },
  {
"cell_type": "code",
	   "execution_count": null,
	   "metadata": {
	    "collapsed": true
	   },
	   "outputs": [],
"source": [
"//scilab 5.4.1\n",
"clear;\n",
"clc;\n",
"printf('\t\t\tProblem Number 9.3\n\n\n');\n",
"// Chapter 9 : Gas Power Cycles\n",
"// Problem 9.3  (page no. 464) \n",
"// Solution\n",
"\n",
"cv=0.7186; //Unit:kJ/(kg*K) //Specific heat constant for constant volume process\n",
"Rc=8; //Compression Ratio Rc=v2/v3\n",
"k=1.4;  //It is apparent incerease in compression ratio yields an increased cycle efficiency\n",
"T2=20+273; //20 C converted to its kelvin value\n",
"qin=50; //Heat added //Unit:kJ\n",
"T3byT2=Rc^(k-1);\n",
"T3=T3byT2*T2; //Unit:K\n",
"//qin=cv*(T4-T3) //heat added //Unit:kJ\n",
"T4=(qin/cv)+T3; //The peak temperature of the cycle //Unit:K\n",
"printf('The peak temperature of the cycle is %f Kelvin i.e. %f Celcius',T4,T4-273);"
   ]
   }
,
{
		   "cell_type": "markdown",
		   "metadata": {},
		   "source": [
			"## Example 9.4: Determine_temperature_pressure_and_specific_volume_at_each_point.sce"
		   ]
		  },
  {
"cell_type": "code",
	   "execution_count": null,
	   "metadata": {
	    "collapsed": true
	   },
	   "outputs": [],
"source": [
"//scilab 5.4.1\n",
"clear;\n",
"clc;\n",
"printf('\t\t\tProblem Number 9.4\n\n\n');\n",
"// Chapter 9 : Gas Power Cycles\n",
"// Problem 9.4  (page no. 465) \n",
"// Solution\n",
"\n",
"//For an Otto cycle,\n",
"rc=7; //Compression Ratio Rc=v2/v3\n",
"q=50; //Unit:Btu/lbm //Heat added\n",
"p2=14.7; //Unit:psia //pressure at point 2\n",
"T2=60+460; //temperatures converted to absolute temperatures; //Unit:R\n",
"cp=0.24; //Unit:Btu/(lbm*R) //Specific heat constant for constant pressure process\n",
"cv=0.171; //Unit:Btu/(lbm*R) //Specific heat constant for constant volume process\n",
"R=53.3; //Unit:ft*lbf/lbm*R //constant of proportionality\n",
"k=1.4;  //It is apparent incerease in compression ratio yields an increased cycle efficiency\n",
"//Refering to figure 9.9,\n",
"//At (2),we need v2.\n",
"//p2*v2=R*T2\n",
"v2=(R*T2)/(p2*144); //Unit:ft^3/lbm //1ft^2=144 in^2 //specific volume at point 2\n",
"printf('At point (2),\nspecific volume v2=%f ft^3/lbm\n\n',v2);\n",
"//For The isentropic path (2)&(3),p3*v3^k=p2*v2^k,so\n",
"//So,p3=p2*(v2/v3)^k;\n",
"p3=p2*rc^k; //Unit:psia //pressure at point 3\n",
"printf('At path(2)&(3)\n');\n",
"printf('pressure p3=%f psia\n',p3);\n",
"v3=v2/rc; //Unit:ft^3/lbm //specific volume at point 3\n",
"printf('specific volume v3=%f ft^3/lbm\n',v3);\n",
"T3=(p3*v3*144)/R; //Unit:R //1ft^2=144 in^2 //temperature at point 3\n",
"printf('temperature T3=%f R\n\n',T3);\n",
"printf('At point(4),\n');\n",
"//To obtain the values at (4),we note\n",
"v4=v3; //Unit:ft^3/lbm //specific volume at point 4\n",
"printf('specific volume v4=%f ft^3/lbm\n',v4);\n",
"//qin=cv*(T4-T3)\n",
"T4=T3+(q/cv); //Unit:R //temperature at point 4 \n",
"printf('temperature T4=%f R\n',T4);\n",
"//For p4,\n",
"p4=(R*T4)/(144*v4); //Unit:psia //1ft^2=144 in^2 //pressure at point 4\n",
"printf('pressure p4=%f psia\n\n',p4);\n",
"//The last point has the same specific volume as (2),giving\n",
"printf('At last point,\n');\n",
"v5=v2; //Unit:ft^3/lbm //specific volume at point 5\n",
"printf('specific volume v5=%f ft^3/lbm\n',v5);\n",
"//The isentropic path equation,p5*v5^k=p4*v4^k,so\n",
"p5=p4*(v4/v5)^k; //Unit:psia //pressure at point 5\n",
"printf('pressure p5=%f psia\n',p5);\n",
"T5=(p5*v5*144)/(R); //Unit:R //1ft^2=144 in^2 temperature at point 5\n",
"printf('temperature T5=%f R\n\n',T5);\n",
"n=(((T4-T3)-(T5-T2))/(T4-T3))*100; //The efficiency of the cycle\n",
"printf('The efficiency of the cycle is %f percentage',n);"
   ]
   }
,
{
		   "cell_type": "markdown",
		   "metadata": {},
		   "source": [
			"## Example 9.7: Determine_the_horsepower.sce"
		   ]
		  },
  {
"cell_type": "code",
	   "execution_count": null,
	   "metadata": {
	    "collapsed": true
	   },
	   "outputs": [],
"source": [
"//scilab 5.4.1\n",
"clear;\n",
"clc;\n",
"printf('\t\t\tProblem Number 9.7\n\n\n');\n",
"// Chapter 9 : Gas Power Cycles\n",
"// Problem 9.7  (page no. 468) \n",
"// Solution\n",
"\n",
"//For four cycle engine,\n",
"//Using the results of problem 9.6,\n",
"pm=1000; //Unit:kPa //mean effective pressure //Unit:psia\n",
"N=4000/2; //Power strokes per minute //2L engine //Unit:rpm\n",
"LA=2 //Mean //Unit:liters\n",
"hp=(pm*LA*N)/44760; //The horsepower //Unit:hp\n",
"printf('The horsepower is %f hp',hp);"
   ]
   }
,
{
		   "cell_type": "markdown",
		   "metadata": {},
		   "source": [
			"## Example 9.9: Compression_ratio.sce"
		   ]
		  },
  {
"cell_type": "code",
	   "execution_count": null,
	   "metadata": {
	    "collapsed": true
	   },
	   "outputs": [],
"source": [
"//scilab 5.4.1\n",
"clear;\n",
"clc;\n",
"printf('\t\t\tProblem Number 9.9\n\n\n');\n",
"// Chapter 9 : Gas Power Cycles\n",
"// Problem 9.9  (page no. 469) \n",
"// Solution\n",
"\n",
"//An otto engine\n",
"c=0.2; //clearance equal to 20% of its displacement\n",
"//Using results of problem 9.8, \n",
"rc=(1+c)/c; //The compression ratio\n",
"printf('The compression ratio is %f',rc);"
   ]
   }
],
"metadata": {
		  "kernelspec": {
		   "display_name": "Scilab",
		   "language": "scilab",
		   "name": "scilab"
		  },
		  "language_info": {
		   "file_extension": ".sce",
		   "help_links": [
			{
			 "text": "MetaKernel Magics",
			 "url": "https://github.com/calysto/metakernel/blob/master/metakernel/magics/README.md"
			}
		   ],
		   "mimetype": "text/x-octave",
		   "name": "scilab",
		   "version": "0.7.1"
		  }
		 },
		 "nbformat": 4,
		 "nbformat_minor": 0
}
