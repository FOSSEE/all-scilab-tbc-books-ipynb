{
"cells": [
 {
		   "cell_type": "markdown",
	   "metadata": {},
	   "source": [
       "# Chapter 8: Vapor Power Cycles"
	   ]
	},
{
		   "cell_type": "markdown",
		   "metadata": {},
		   "source": [
			"## Example 8.10: efficiency_of_reheat_cycle_by_computerized_properties.sce"
		   ]
		  },
  {
"cell_type": "code",
	   "execution_count": null,
	   "metadata": {
	    "collapsed": true
	   },
	   "outputs": [],
"source": [
"//scilab 5.4.1\n",
"clear;\n",
"clc;\n",
"printf('\t\t\tProblem Number 8.10\n\n\n');\n",
"// Chapter 8 : Vapor Power Cycles\n",
"// Problem 8.10  (page no. 389) \n",
"// Solution\n",
"\n",
"//Some of the property data required was found in problem8.4.In addition we have,\n",
"//at 200 psia,s=1.7566 Btu/lbm*R,\n",
"h7=1413.6; //Unit:Btu/lbm //Enthalpy\n",
"//at 200 psia,s=1.8320 Btu/lbm*R,\n",
"h4=1514.0; //Unit:Btu/lbm //Enthalpy\n",
"//at 14.696 psia,s=1.8320 Btu/lbm*R,\n",
"h5=1205.2; //Unit:Btu/lbm //Enthalpy\n",
"h1=180.17; //Unit:Btu/lbm //enthalpy\n",
"//Using these data,\n",
"nreheat=((h4-h5)+(h4-h7))/((h4-h1)+(h4-h7)); //The efficiency of the reheat cycle \n",
"printf('The efficiency of the reheat cycle is %f percentage',nreheat*100);"
   ]
   }
,
{
		   "cell_type": "markdown",
		   "metadata": {},
		   "source": [
			"## Example 8.11: Efficiency_of_Rankine_and_regenerative_cycle.sce"
		   ]
		  },
  {
"cell_type": "code",
	   "execution_count": null,
	   "metadata": {
	    "collapsed": true
	   },
	   "outputs": [],
"source": [
"//scilab 5.4.1\n",
"clear;\n",
"clc;\n",
"printf('\t\t\tProblem Number 8.11\n\n\n');\n",
"// Chapter 8 : Vapor Power Cycles\n",
"// Problem 8.11  (page no. 394) \n",
"// Solution\n",
"\n",
"printf('Solution for (a)\n');\n",
"//For the rankine cycle,the Mollier chart gives\n",
"h4=1505; //Enthalpy //Unit:Btu/lbm\n",
"h5=922; //Enthalpy //Unit:Btu/lbm\n",
"h6=h5; //Enthalpy //Unit:Btu/lbm\n",
"//and at the condenser,\n",
"h1=69.74; //enthalpy //Unit:Btu/lbm\n",
"nR=(h4-h5)/(h4-h1); //efficiency of rankine cycle\n",
"printf('The efficiency of rankine cycle is %f percentage\n\n',nR*100);\n",
"\n",
"printf('Solution for (b)\n');\n",
"//Figure 8.16 shows the regenerative cycle.After doing work(isentropically),W lbs of steam are bled from the turbine at 50 psia for each lbm of steam leaving the steam generator,and (1-W)    pound goes through the turbine and is condensed in the condenser to saturated liquid at 1 psia.This condensate is pumped to the heater,where it mixes with the extraced steam and leaves as  saturated liquid at 50 psia.The required enthalpies are:\n",
"//Leaving turbine:\n",
"h5=1168; //Btu/lbm at 50 psia \n",
"//Leaving condenser:\n",
"h7=69.74; //Btu/lbm at 1 psia // is equal to h8 if pump work is neglected\n",
"//Leaving heater:\n",
"h1=250.24; //Btu/lbm at 50 psia //is equal to h2 if pump work is neglected(saturated liquid)\n",
"//A Heat balance around the heater gives\n",
"//W*h5 + (1-W)*h7 = 1*h1 \n",
"W=((1*h1)-h7)/(h5-h7); //Unit:lbm //W lb of steam \n",
"printf('W=%f lbm\n',W);\n",
"work=(1-W)*(h4-922) + W*(h4-h5); //h5=922 from the mollier chart //Unit:Btu/lbm //The work output\n",
"printf('The work output is %f Btu/lbm\n',work);\n",
"//Heat into steam generator equals the enthalpy leaving minus the enthalpy of the saturated liquid entering at 50 psia:\n",
"qin=h4-h1; //Unit:Btu/lbm //Heat in\n",
"n=work/qin; //Efficiency of regenerative cycle\n",
"printf('The efficiency of regenerative cycle is %f percentage\n',n*100);\n",
"//The efficiency of a regenerative cycle with one open heater is given by \n",
"n=1-(((h5-h1)*(h6-h7))/((h4-h1)*(h5-h7)));  //efficiency of a regenerative cycle\n",
"W=(h1-h7)/(h5-h7); //Unit:lbm  //W lb of steam\n",
"printf('When the rankine cycle is compared with regenerative cycle,\n');\n",
"printf('W=%f lbm and the efficiency of a regenerative cycle with one open heater is given by %f percentage\n',W,n*100);"
   ]
   }
,
{
		   "cell_type": "markdown",
		   "metadata": {},
		   "source": [
			"## Example 8.12: The_efficiency_of_the_cycle.sce"
		   ]
		  },
  {
"cell_type": "code",
	   "execution_count": null,
	   "metadata": {
	    "collapsed": true
	   },
	   "outputs": [],
"source": [
"//scilab 5.4.1\n",
"clear;\n",
"clc;\n",
"printf('\t\t\tProblem Number 8.12\n\n\n');\n",
"// Chapter 8 : Vapor Power Cycles\n",
"// Problem 8.12  (page no. 396) \n",
"// Solution\n",
"\n",
"//Figure 8.16(a) shows the cycle.For this cycle,W2 pounds are extracted at 100 psia,and W1 pounds are extracted at 50 psia for each pound produced by the steam generator.The enthalpies that  are required are:\n",
"//Leaving turbine: 922 //Btu/lbm at 1 psia\n",
"//Leaving condenser: 69.74 //Btu/lbm at 1 psia (saturated liquid)\n",
"//Leaving low pressure heater: 250.24 //Btu/lbm at 50 psia (saturated liquid)\n",
"//Leaving high pressure heater: 298.61 //Btu/lbm at 100 psia\n",
"//At low pressure extraction: 1168 //Btu/lbm at 50 psia\n",
"//At high pressure extraction: 1228.6 //Btulbm at 100 psia\n",
"//Entering turbine: 1505 //Btu/lbm\n",
"//The heat balance around the high pressure heater gives us\n",
"//W2*1228.6 + (1-W2)*250.24 = 1*298.61\n",
"W2=((1*298.61)-250.24)/(1228.6-250.24); //lbm //W2 pounds are extracted at 100 psia\n",
"printf('W2=%f lbm\n',W2);\n",
"//A heat balance around the low pressure heater yields\n",
"//W1*1168 + (1-W1-W2)*69.74 = (1-W2)*250.24\n",
"W1=(((1-W2)*250.24)-69.74+(W2*69.74))/(1168-69.74); //lbm //W1 pounds are extracted at 50 psia\n",
"printf('W1=%f lbm\n',W1);\n",
"work=((1505-1228.6)*1)+((1-W2)*(1228.6-1168))+((1-W1-W2)*(1168-922)); //The work output //Btu/lbm\n",
"printf('The work output is %f Btu/lbm\n',work);\n",
"//Heat into the steam generator equals the enthalpy leaving minus the enthalpy of saturated liquid at 100 psia:\n",
"qin=1505-298.61; //Btu/lbm //Heat in \n",
"printf('Heat in = %f Btu/lbm\n',qin);\n",
"n=work/qin; //The efficiency\n",
"printf('The efficiency is %f percentage\n',n*100);\n",
"//In terms of figure 8.16a,\n",
"//W2=(h1-h11)/(h5-h11)\n",
"//W1=(h5-h1/h6-h9)*(h10-h9/h5-h10) neglecting the pump work\n",
"//n=1-(h7-h8/h4-h1)*(h5-h1/h5-h10)*(h6-h10/h6-h8)\n",
"//For this problem , h8=h9 , h10=h11 and h1=h2.Thus\n",
"W2=(298.61-250.24)/(1228.6-250.24); //lbm //W2 pounds are extracted at 100 psia\n",
"printf('Comparing the results,\n');\n",
"printf('W2=%f lbm\n',W2);\n",
"W1=((1228.6-298.61)*(250.24-69.74))/((1168-69.74)*(1228.6-250.24)); //lbm //W1 pounds are extracted at 50 psia\n",
"printf('W1=%f lbm\n',W1); \n",
"n=1-(((922-69.74)*(1228.6-298.61)*(1168-250.24))/((1505-298.61)*(1228.6-250.24)*(1168-69.74))); //Efficiency\n",
"printf('The efficiency is %f percentage\n',n*100);"
   ]
   }
,
{
		   "cell_type": "markdown",
		   "metadata": {},
		   "source": [
			"## Example 8.13: efficiency_of_cycle_and_comparision.sce"
		   ]
		  },
  {
"cell_type": "code",
	   "execution_count": null,
	   "metadata": {
	    "collapsed": true
	   },
	   "outputs": [],
"source": [
"//scilab 5.4.1\n",
"clear;\n",
"clc;\n",
"printf('\t\t\tProblem Number 8.13\n\n\n');\n",
"// Chapter 8 : Vapor Power Cycles\n",
"// Problem 8.13  (page no. 398) \n",
"// Solution\n",
"\n",
"//Regenerative cycle\n",
"//Assume that 1 lbm of steam leaves the steam generator and that W1 lbm is bled off to the closed heater at 100psia and that W2 lbm is bled off to the open heater at 50 psia.Alos,assume that the feedwater leaving the closed heater at 310F,18F less than the saturation temperature corresponding to 100 psia.For calculation purposes,we will use hf at 310 F for this enthalpy.Using the Mollier diagram and the steam tables,we find the following values of enthalpy:\n",
"\n",
"//h to turbine=1505 Btu/lbm(at 1000 psia and 1000F)\n",
"//h at first extraction=1228 Btu/lbm(isentropically to 100 psia)\n",
"//h at second extraction=1168 Btu/lbm(isentropically to 100 psia)\n",
"//h at turbine exit=922 Btu/lbm (isentropically to 1 psia)\n",
"//hf=298.61 Btu/lbm(at 100 psia)\n",
"//hf=250.24 Btu/lbm(at 50 psia)\n",
"//hf=280.06 Btu/lbm(at 310 F)\n",
"//hf=69.74 Btu/lbm (at 1 psia)\n",
"//A heat balance around the high pressure heater gives us\n",
"//W1*(1228-298.61) = 1*(280.06-250.24)\n",
"W1=((1*(280.06-250.24)))/(1228-298.61); //lbm //W1 lbm is extracted at 100 psia\n",
"printf('W1=%f lbm\n',W1);\n",
"//A heat balance around the open heater gives us\n",
"//W2*1168 +(1-W1-W2)*69.74 + W1*268.61 = 1*250.24\n",
"W2=((1*250.24)-(W1*268.61)-69.74+(W1*69.74))/(1168-69.74); //lbm //W2 lbm is extracted at 50 psia\n",
"printf('W2=%f lbm\n',W2);\n",
"//The work output of the cycle consists of the work that 1 lbm does in expanding isentropically to 100 psia,plus the work done by (1-W1)lbm expanding isentropicaly from 100 to 50 psia,plus the work done by (1-W1-W2)lbm expanding isentropically from 50 to 1 psia.\n",
"//Numerically,the work is\n",
"workoutput=(1*(1505-1228))+((1-W1)*(1228-1168))+((1-W1-W2)*(1168-922)); //Btu/lbm //the work output\n",
"printf('The work output is %f Btu/lbm\n',workoutput);\n",
"heatinput=1505-280.06; //Btu/lbm //the heat input\n",
"printf('The heat input is %f Btu/lbm\n',heatinput);\n",
"n=workoutput/heatinput; //Efficiency\n",
"printf('The efficiency is %f percentage\n',n*100);\n",
"//When compared to 8.11,we conclude that the addition of additional closed heater raises the efficiency. "
   ]
   }
,
{
		   "cell_type": "markdown",
		   "metadata": {},
		   "source": [
			"## Example 8.14: efficiency_of_energy_utilization_and_thermal_efficiency.sce"
		   ]
		  },
  {
"cell_type": "code",
	   "execution_count": null,
	   "metadata": {
	    "collapsed": true
	   },
	   "outputs": [],
"source": [
"//scilab 5.4.1\n",
"clear;\n",
"clc;\n",
"printf('\t\t\tProblem Number 8.14\n\n\n');\n",
"// Chapter 8 : Vapor Power Cycles\n",
"// Problem 8.14  (page no. 426) \n",
"// Solution\n",
"\n",
"//From problem 8.11,\n",
"//Leaving turbine:\n",
"h5=1168; //Btu/lbm at 50 psia \n",
"//For the rankine cycle,the Mollier chart gives\n",
"h4=1505; //Enthalpy //Unit:Btu/lbm\n",
"h6=922; //Enthalpy //Unit:Btu/lbm //h6=h5;\n",
"//and at the condenser,\n",
"h1=69.74; //enthalpy //Unit:Btu/lbm\n",
"//Leaving condenser:\n",
"h7=69.74; //Btu/lbm at 1 psia // is equal to h8 if pump work is neglected\n",
"//Leaving heater:\n",
"h2=250.24; //Btu/lbm at 50 psia //is equal to h1 if pump work is neglected(saturated liquid)\n",
"//A Heat balance around the heater gives\n",
"//W*h5 + (1-W)*h7 = 1*h1 \n",
"W=((1*h2)-h7)/(h5-h7); //Unit:lbm\n",
"liquidleaving=(W*h2)+(1-W)*h1; //Btu/lbm //liquid leaving the heatexchange\n",
"\n",
"//Using these data,,\n",
"heatin=h4-liquidleaving; //Btu/lbm //heat in the boiler\n",
"printf('Heat in at boiler is %f Btu/lbm\n',heatin);\n",
"workout=((1-W)*(h4-h6))+(W*(h4-h5)); //Btu/lbm //The work out of turbine\n",
"printf('The work out of turbine is %f Btu/lbm\n',workout);\n",
"n=workout/heatin; //efficiency //The conventional thermal efficiency\n",
"printf('The conventional thermal efficiency is %f percentage\n',n*100);\n",
"//If at this time we have define the efficiency of energy utilization to be the ratio of the work out plus the useful heat out divided by the heat input to the    cycle, nenergyutilization=((w+qoutuseful)/qin)*100\n",
"qout=W*(h5-h2); //heat out //Btu/lbm\n",
"n=(workout+qout)/heatin; //efficiency of energy utilization\n",
"printf('Efficiency of energy utilization is %f percentage\n',n*100);\n",
"//Comparing with 8.11, we see that conventional thermal efficiency is decreased and efficiency of energy utilization is increased"
   ]
   }
,
{
		   "cell_type": "markdown",
		   "metadata": {},
		   "source": [
			"## Example 8.1: Thermal_efficiency_neglecting_pump_work_and_including_pump_work.sce"
		   ]
		  },
  {
"cell_type": "code",
	   "execution_count": null,
	   "metadata": {
	    "collapsed": true
	   },
	   "outputs": [],
"source": [
"//scilab 5.4.1\n",
"clear;\n",
"clc;\n",
"printf('\t\t\tProblem Number 8.1\n\n\n');\n",
"// Chapter 8 : Vapor Power Cycles\n",
"// Problem 8.1  (page no. 380) \n",
"// Solution\n",
"\n",
"//From the Steam Tables or Mollier chart in Appendix 3,we find that\n",
"hf=340.49; //Unit:kJ/kg //at 50kPa //enthalpy\n",
"h1=hf; //at 50kPa //hf=enthalpy of saturated liquid //Unit:kJ/kg\n",
"h4=3230.9; //Unit:kJ/kg //enthalpy\n",
"h5=2407.4; //Unit:kJ/kg ////enthalpy\n",
"//Here,point 5 is in the wet steam region.\n",
"printf('Solution for (a)\n');\n",
"//Neglecting pump work (h2=h1) gives\n",
"nR=(h4-h5)/(h4-h1); //Thermal efficiency of the cycle\n",
"printf('The thermal efficiency of the cycle is %f percentage\n\n',nR*100);\n",
"\n",
"printf('Solution for (b)\n');\n",
"p2=3000; //Unit:kPa //Upper pressure\n",
"p1=50; //Unit:kPa //Lower pressure\n",
"vf=0.001030; //Specific volume of saturated liquid  //m^3/kg\n",
"Pumpwork=(p2-p1)*vf; //Unit:kJ/kg //pump work\n",
"//The efficiency of the cycle including pump work is\n",
"nR=((h4-h5)-Pumpwork)/((h4-h1)-Pumpwork); //Thermal efficiency of the cycle\n",
"printf('The thermal efficiency of the cycle including pump work is %f percentage\n\n',nR*100);"
   ]
   }
,
{
		   "cell_type": "markdown",
		   "metadata": {},
		   "source": [
			"## Example 8.2: Thermal_efficiency_using_computer_disk_property_values.sce"
		   ]
		  },
  {
"cell_type": "code",
	   "execution_count": null,
	   "metadata": {
	    "collapsed": true
	   },
	   "outputs": [],
"source": [
"//scilab 5.4.1\n",
"clear;\n",
"clc;\n",
"printf('\t\t\tProblem Number 8.2\n\n\n');\n",
"// Chapter 8 : Vapor Power Cycles\n",
"// Problem 8.2  (page no. 381) \n",
"// Solution\n",
"\n",
"//Using the computer disk to obtain the neccesary properties\n",
"printf('Solution for (a)\n');\n",
"//For the conditions given in problem8.1,the properties are found to be\n",
"hf=340.49; //Unit:kJ/kg //at 50kPa //enthalpy\n",
"h1=hf; //at 50kPa //hf=enthalpy of saturated liquid\n",
"h2=h1; //Enthalpy //Unit:kJ/kg\n",
"h4=3230.9; //Unit:kJ/kg //enthalpy\n",
"h5=2407.4; //Unit:kJ/kg //enthalpy\n",
"//Neglecting pump work \n",
"nR=(h4-h5)/(h4-h2); //Thermal efficiency of the cycle\n",
"printf('The thermal efficiency of the cycle is %f percentage\n\n',nR*100);\n",
"\n",
"printf('Solution for (b)\n');\n",
"//For the pump work,we do not need the approximation,because the computerized tables give us the necessary values directly.\n",
"//Assuming that the condensate leaving the condenser is saturated liquid gives us an enthalpy of 340.54 kJ/kg and an entropy of 1.0912 kJ/kg*K for an isentropic compression, the final cond-ition is the boiler pressure of 3Mpa and an entropy of 1.0912 kJ/kg*K. For these values,the program yields an enthalpy of 343.59 kJ/kg*K.The isentropic pump work is equal to \n",
"Pumpwork=343.59-340.54; //Unit:kJ/kg //pumpwork\n",
"//The efficiency of the cycle including pump work is\n",
"nR=((h4-h5)-Pumpwork)/((h4-h1)-Pumpwork); //Thermal efficiency of the cycle\n",
"printf('The thermal efficiency of the cycle including pump work is %f percentage\n\n',nR*100);\n",
"//Final results in this problem agree with the result in problem8.1"
   ]
   }
,
{
		   "cell_type": "markdown",
		   "metadata": {},
		   "source": [
			"## Example 8.3: Thermal_efficiency.sce"
		   ]
		  },
  {
"cell_type": "code",
	   "execution_count": null,
	   "metadata": {
	    "collapsed": true
	   },
	   "outputs": [],
"source": [
"//scilab 5.4.1\n",
"clear;\n",
"clc;\n",
"printf('\t\t\tProblem Number 8.3\n\n\n');\n",
"// Chapter 8 : Vapor Power Cycles\n",
"// Problem 8.3  (page no. 382) \n",
"// Solution\n",
"\n",
"//Solution for (a)\n",
"//Figurre 8.3 with the cycle extending into the superheat region and expanding along 4->5 is the appropriate diagram for this process.\n",
"\n",
"printf('Solution for (b)\n');\n",
"//This problem can be solved either by use of the Mollier chart or the Steam Tables.If the chart is used,14.696 psia is first located on the saturated vapor line.Because the expansion,4->5,is isentropic,a vertical line on the chart is the path of the process.The point corresponding to 4 in figure 8.3 is found where this vertical line intersects 400 psia.At this point,the ent-halpy is 1515 Btu/lbm,and the corresponding temperature is approximatelty 980F.Saturated vapor at 14.696 psia  has an enthalpy of 1150.5 Btu/lbm(from the Mollier chart).The Steam Tables sh-ow that saturated liquid at 14.696 psia has an enthalpy of 180.15 Btu/lbm.In terms of figure 8.3,and neglecting pump work,we have \n",
"h1=180.15; //Unit:Btu/lbm //enthalpy\n",
"h2=h1; //Enthalpy //Unit:Btu/lbm\n",
"h4=1515; //Unit:Btu/lbm //enthalpy\n",
"h5=1150.5; //Unit:kJ/kg //enthalpy\n",
"//Neglecting pump work yields\n",
"nR=(h4-h5)/(h4-h2); //Thermal efficiency of the cycle\n",
"printf('Neglecting the pump work,The thermal efficiency of the cycle is %f percentage\n\n',nR*100);\n",
"p2=400; //Unit:Psia //Upper pressure\n",
"p1=14.696; //Unit:Psia //Lower pressure\n",
"vf=0.01167; //Specific volume of saturated liquid  //ft^3/lbm\n",
"J=778; //Conversion factor\n",
"Pumpwork=((p2-p1)*vf*144)/J; //Unit:Btu/lbm //1ft^2=144 in^2 //pumpwork\n",
"//The efficiency of the cycle including pump work is\n",
"nR=((h4-h5)-Pumpwork)/((h4-h1)-Pumpwork); //Thermal efficiency of the cycle\n",
"printf('The thermal efficiency of the cycle including pump work is %f percentage\n\n',nR*100);\n",
"//where the denominator is h4-h2=h4-h1-(h2-h1).Neglecting pump work is obviously justified in this case.An alternative solution is obtained by using the Steam Tables:at 14.696 psia ans sat-uration,sg=1.7567 ; at 400 psia,s= 1.7567.From Table 3(at 400 psia)\n",
"//   s      h      t\n",
"//1.7632  1523.6  1000 \n",
"//1.7567  1514.2  982.4\n",
"//1.7558  1512.9  980\n",
" "
   ]
   }
,
{
		   "cell_type": "markdown",
		   "metadata": {},
		   "source": [
			"## Example 8.4: Thermal_efficiency_using_computer_generated_property_values.sce"
		   ]
		  },
  {
"cell_type": "code",
	   "execution_count": null,
	   "metadata": {
	    "collapsed": true
	   },
	   "outputs": [],
"source": [
"//scilab 5.4.1\n",
"clear;\n",
"clc;\n",
"printf('\t\t\tProblem Number 8.4\n\n\n');\n",
"// Chapter 8 : Vapor Power Cycles\n",
"// Problem 8.4  (page no. 383) \n",
"// Solution\n",
"\n",
"//Refer to figure8.3.The desired  quantities are obtained as follows:\n",
"//at 14.696 psia,saturated vapor (x=1),s=1.7566 Btu/lbm*R\n",
"h5=1150.4; //Unit:Btu/lbm //enthaply\n",
"//at 14.696 psia,saturated liquid (x=0),s=0.3122 Btu/lbm*R\n",
"h2=180.17; //Unit:Btu/lbm //enthaply \n",
"h1=h2;\n",
"//at 400 psia,s=1.7566 Btu/lbm*R,\n",
"h4=1514.0; //Unit:Btu/lbm //Enthalpy\n",
"t=982.07; //Unit:F //tempearature\n",
"//at 400 psia,s=0.3122 Btu/lbm*R, //s=entropy\n",
"h=181.39; //Unit:Btu/lbm //Enthalpy\n",
"//Note the agreement of these values with the ones obtained for problem8.4.Alos,note the temperature of 982.07F compared to 982.4F.Continuing,\n",
"//Neglecting pump work \n",
"nR=(h4-h5)/(h4-h2); //Thermal efficiency of the cycle\n",
"printf('Neglecting the pump work,The thermal efficiency of the cycle is %f percentage\n\n',nR*100);\n",
"Pumpwork=h-h2; //Unit:kJ/kg ///pumpwork\n",
"//The efficiency of the cycle including pump work is\n",
"nR=((h4-h5)-Pumpwork)/((h4-h2)-Pumpwork); //Thermal efficiency of the cycle\n",
"printf('The thermal efficiency of the cycle including pump work is %f percentage\n\n',nR*100);"
   ]
   }
,
{
		   "cell_type": "markdown",
		   "metadata": {},
		   "source": [
			"## Example 8.5: Carnot_cycle_efficiency_and_type_efficiency.sce"
		   ]
		  },
  {
"cell_type": "code",
	   "execution_count": null,
	   "metadata": {
	    "collapsed": true
	   },
	   "outputs": [],
"source": [
"//scilab 5.4.1\n",
"clear;\n",
"clc;\n",
"printf('\t\t\tProblem Number 8.5\n\n\n');\n",
"// Chapter 8 : Vapor Power Cycles\n",
"// Problem 8.5  (page no. 385) \n",
"// Solution\n",
"\n",
"//The Carnot cycle would operate between 982.4F and 212F.\n",
"T1=982.4+460; //temperature converted to absolute temperature //Unit:R\n",
"T2=212+460; //temperature converted to absolute temperature //Unit:R\n",
"nc=((T1-T2)/T1)*100; //Efficiency of carnot cycle\n",
"printf('The efficiency is %f percentage\n',nc);\n",
"//In problem 8.3,\n",
"nR=27.3; //Thermal efficiency of the cycle neglecting the pump work\n",
"typen=(nR/nc)*100; //Type efficiency=ideal thermal efficiency/efficiency of carnot cycle operating between min and max temperature limits\n",
"printf('The type efficiency of the ideal Rankine cycle is %f percentage\n',typen);"
   ]
   }
,
{
		   "cell_type": "markdown",
		   "metadata": {},
		   "source": [
			"## Example 8.6: Efficiency_of_Rankine_cycle.sce"
		   ]
		  },
  {
"cell_type": "code",
	   "execution_count": null,
	   "metadata": {
	    "collapsed": true
	   },
	   "outputs": [],
"source": [
"//scilab 5.4.1\n",
"clear;\n",
"clc;\n",
"printf('\t\t\tProblem Number 8.6\n\n\n');\n",
"// Chapter 8 : Vapor Power Cycles\n",
"// Problem 8.6  (page no. 385) \n",
"// Solution\n",
"\n",
"//For the upper temperature of the cycle,we have 400C,and for 50kPa,the steam tables give us a saturation temperature of 81.33C.The efficiency of a Carnot cycle operating between the limits would be\n",
"T1=400+273; //Celcius temperature converted to fahrenheit temperature\n",
"T2=81.33+273; //temperature converted to fahrenheit temperature\n",
"nc=((T1-T2)/T1)*100; //Efficiency of carnot cycle\n",
"printf('The efficiency is %f percentage\n',nc);\n",
"//In problem 8.1,\n",
"nR=28.5; //Thermal efficiency of the cycle neglecting the pump work\n",
"typen=(nR/nc)*100; //Type efficiency=ideal thermal efficiency/efficiency of carnot cycle operating between min and max temperature limits\n",
"printf('The type efficiency of the ideal Rankine cycle is %f percentage\n',typen);"
   ]
   }
,
{
		   "cell_type": "markdown",
		   "metadata": {},
		   "source": [
			"## Example 8.7: Thermal_efficiency.sce"
		   ]
		  },
  {
"cell_type": "code",
	   "execution_count": null,
	   "metadata": {
	    "collapsed": true
	   },
	   "outputs": [],
"source": [
"//scilab 5.4.1\n",
"clear;\n",
"clc;\n",
"printf('\t\t\tProblem Number 8.7\n\n\n');\n",
"// Chapter 8 : Vapor Power Cycles\n",
"// Problem 8.7  (page no. 386) \n",
"// Solution\n",
"\n",
"//From problem 8.3,\n",
"work=1515-1150.5; //Unit:Btu/lbm of steam //pump work is neglected //Useful ideal work\n",
"//Because of the heat losses, 50 Btu/lbm of the 364.5 Btu/lbm becomes unavailable.\n",
"available=364.5-50; //Unit:Btu/lbm \n",
"n=available/(1515-180.15); //Thermal efficiency of the cycle neglecting pump work h4=1515; //Unit:Btu/lbm //enthalpy & h1=180.15; //Unit:Btu/lbm //enthalpy\n",
"printf('The thermal efficiency of the cycle neglecting pump work is %f percentage\n\n',n*100);"
   ]
   }
,
{
		   "cell_type": "markdown",
		   "metadata": {},
		   "source": [
			"## Example 8.8: Heat_rate_and_steam_rate_per_kilowatt_hour.sce"
		   ]
		  },
  {
"cell_type": "code",
	   "execution_count": null,
	   "metadata": {
	    "collapsed": true
	   },
	   "outputs": [],
"source": [
"//scilab 5.4.1\n",
"clear;\n",
"clc;\n",
"printf('\t\t\tProblem Number 8.8\n\n\n');\n",
"// Chapter 8 : Vapor Power Cycles\n",
"// Problem 8.8  (page no. 387) \n",
"// Solution\n",
"\n",
"//Neglecting the pump work,we have\n",
"heatrate=3413/0.273; //Unit:Btu/kWh //0.273=efficiency //1 kWh=3413 //heat rate\n",
"printf('The heat rate is %f Btu/kWh\n',heatrate);\n",
"//Per pound of steam,1515-1150.5=364.5 Btu is delivered.\n",
"//Because 1 kWh=3413\n",
"printf('The steam rate is %f lbm of steam per kilowatt-hour\n',3413/(1515-1150.5));"
   ]
   }
,
{
		   "cell_type": "markdown",
		   "metadata": {},
		   "source": [
			"## Example 8.9: Efficiency_of_reheat_cycle.sce"
		   ]
		  },
  {
"cell_type": "code",
	   "execution_count": null,
	   "metadata": {
	    "collapsed": true
	   },
	   "outputs": [],
"source": [
"//scilab 5.4.1\n",
"clear;\n",
"clc;\n",
"printf('\t\t\tProblem Number 8.9\n\n\n');\n",
"// Chapter 8 : Vapor Power Cycles\n",
"// Problem 8.9  (page no. 388) \n",
"// Solution\n",
"\n",
"//The Mollier chart provides a convenient way of solving this problem.Expanding from 980F,400 psia,s=1.7567 to 200 psia yields a final enthalpy of 1413 Btu/lbm.Expanding from 200 psia ans  an enthalpy of 1515 Btu/lbm to 14.696 psia yields a final enthaply of 1205 Btu/lbm. \n",
"h4=1515; //Unit:Btu/lbm //enthalpy\n",
"h5=1205; //Unit:Btu/lbm //enthalpy\n",
"h7=1413; //Unit:Btu/lbm //enthalpy\n",
"h1=180.15; //Unit:Btu/lbm //enthalpy\n",
"nreheat=((h4-h5)+(h4-h7))/((h4-h1)+(h4-h7)); //The efficiency of the reheat cycle\n",
"printf('The efficiency of the reheat cycle is %f percentage',nreheat*100);\n",
"//It is apparent that for the conditions of this problem,the increase in efficiency is not very large.The final condition of the fluid after the second expansion is superheated steam at \n",
"//14.696 psia.By condensing at this relatively high pressure condition,a large amount of heat is rejected to the condenser cooling water.7"
   ]
   }
],
"metadata": {
		  "kernelspec": {
		   "display_name": "Scilab",
		   "language": "scilab",
		   "name": "scilab"
		  },
		  "language_info": {
		   "file_extension": ".sce",
		   "help_links": [
			{
			 "text": "MetaKernel Magics",
			 "url": "https://github.com/calysto/metakernel/blob/master/metakernel/magics/README.md"
			}
		   ],
		   "mimetype": "text/x-octave",
		   "name": "scilab",
		   "version": "0.7.1"
		  }
		 },
		 "nbformat": 4,
		 "nbformat_minor": 0
}
