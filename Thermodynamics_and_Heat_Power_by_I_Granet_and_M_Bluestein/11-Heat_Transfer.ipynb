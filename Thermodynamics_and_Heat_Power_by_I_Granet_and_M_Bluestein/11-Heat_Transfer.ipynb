{
"cells": [
 {
		   "cell_type": "markdown",
	   "metadata": {},
	   "source": [
       "# Chapter 11: Heat Transfer"
	   ]
	},
{
		   "cell_type": "markdown",
		   "metadata": {},
		   "source": [
			"## Example 11.10: heat_loss_from_the_pipe.sce"
		   ]
		  },
  {
"cell_type": "code",
	   "execution_count": null,
	   "metadata": {
	    "collapsed": true
	   },
	   "outputs": [],
"source": [
"//scilab 5.4.1\n",
"clear;\n",
"clc;\n",
"printf('\t\t\tProblem Number 11.10\n\n\n');\n",
"// Chapter 11 : Heat Transfer\n",
"// Problem 11.10  (page no. 566) \n",
"// Solution\n",
"\n",
"//A bare steel pipe\n",
"ro=90; //Outside diameter //Unit:mm\n",
"ri=75; //inside diameter //Unit:mm\n",
"Ti=110; //Inside temperature //Unit:Celcius\n",
"To=40; //Outside temperature //Unit:Celcius\n",
"L=2; //Length //Unit:m\n",
"deltaT=Ti-To; //Change in temperature //Unit:Celcius\n",
"k=45 //Unit:W/(m*C) //k=proportionality constant //k=thermal conductivity\n",
"Q=(2*%pi*k*L*deltaT)/log(ro/ri); //The heat loss from the pipe  //unit:W\n",
"printf('The heat loss from the pipe is %f W',Q);\n",
""
   ]
   }
,
{
		   "cell_type": "markdown",
		   "metadata": {},
		   "source": [
			"## Example 11.11: heat_loss_from_mineral_of_wool.sce"
		   ]
		  },
  {
"cell_type": "code",
	   "execution_count": null,
	   "metadata": {
	    "collapsed": true
	   },
	   "outputs": [],
"source": [
"//scilab 5.4.1\n",
"clear;\n",
"clc;\n",
"printf('\t\t\tProblem Number 11.11\n\n\n');\n",
"// Chapter 11 : Heat Transfer\n",
"// Problem 11.11  (page no. 567) \n",
"// Solution\n",
"\n",
"//From problem 11.9,\n",
"//A bare steel pipe\n",
"r2=3.50; //Outside diameter //Unit:in.\n",
"r1=3.00; //inside diameter //Unit:in.\n",
"Ti=240; //Inside temperature //unit:fahrenheit\n",
"L=5; //Length //Unit:ft\n",
"k1=26; //Unit:Btu/(hr*ft*F) //k=proportionality constant //k=thermal conductivity\n",
"ans1=(inv(k1)*log(r2/r1));\n",
"\n",
"//Now,in problem 11.11,\n",
"//Mineral wool\n",
"r3=5.50; //inside diameter //Unit:in.\n",
"r2=3.50; //outside diameter //Unit:in.\n",
"To=85; //Outside temperature //unit:fahrenheit\n",
"deltaT=Ti-To; //Change in temperature //unit:fahrenheit\n",
"k2=0.026 //Unit:Btu/(hr*ft*F) //k=proportionality constant //k=thermal conductivity\n",
"ans2=(inv(k2)*log(r3/r2));\n",
"\n",
"Q=(2*%pi*L*deltaT)/(ans1+ans2); //The heat loss from the pipe  //unit:Btu/hr\n",
"printf('The heat loss from the pipe is %f Btu/hr',Q);\n",
"\n",
""
   ]
   }
,
{
		   "cell_type": "markdown",
		   "metadata": {},
		   "source": [
			"## Example 11.12: Convection.sce"
		   ]
		  },
  {
"cell_type": "code",
	   "execution_count": null,
	   "metadata": {
	    "collapsed": true
	   },
	   "outputs": [],
"source": [
"//scilab 5.4.1\n",
"clear;\n",
"clc;\n",
"printf('\t\t\tProblem Number 11.12\n\n\n');\n",
"// Chapter 11 : Heat Transfer\n",
"// Problem 11.12  (page no. 569) \n",
"// Solution\n",
"\n",
"//From problem 11.9,\n",
"//The bare pipe\n",
"r2=3.50; //Outside diameter //Unit:in.\n",
"r1=3.00; //inside diameter //Unit:in.\n",
"Ti=240; //Inside temperature //unit:fahrenheit\n",
"L=5; //Length //Unit:ft\n",
"k=26; //Unit:Btu/(hr*ft*F) //k=proportionality constant //k=thermal conductivity\n",
"Rpipe=log(r2/r1)/(2*%pi*k*L); //the resistance of pipe //Unit:(hr*F)/Btu\n",
"printf('The resistance of pipe is %f (hr*F)/Btu\n',Rpipe);\n",
"\n",
"//Now,in problem 11.12,\n",
"To=70; //Outside temperature //unit:fahrenheit\n",
"deltaT=Ti-To; //Change in temperature //unit:fahrenheit\n",
"h=0.9; //Coefficient of heat transfer //Unit:Btu/(hr*ft^2*F)\n",
"A=(%pi*r2)/12*L;  //Area //Unit:ft^2 //1 inch = 1/12 feet //unit:ft^2\n",
"Rconvection=inv(h*A); //The resistance due to natural convection to the surrounding air //Unit:(hr*F)/Btu\n",
"printf('The resistance due to natural convection to the surrounding air is %f (hr*F)/Btu\n',Rconvection);\n",
"\n",
"Rtotal=Rpipe+Rconvection; //The total resistance   //unit:(hr*F)/Btu\n",
"printf('The total resistance is %f (hr*F)/Btu\n\n',Rtotal);\n",
"Q=deltaT/Rtotal; //ohm's law (fourier's equation) //The heat transfer from the pipe to the surrounding air   //unit:Btu/hr\n",
"printf('The heat transfer from the pipe to the surrounding air is %f Btu/hr\n',Q);"
   ]
   }
,
{
		   "cell_type": "markdown",
		   "metadata": {},
		   "source": [
			"## Example 11.15: Convection.sce"
		   ]
		  },
  {
"cell_type": "code",
	   "execution_count": null,
	   "metadata": {
	    "collapsed": true
	   },
	   "outputs": [],
"source": [
"//scilab 5.4.1\n",
"clear;\n",
"clc;\n",
"printf('\t\t\tProblem Number 11.15\n\n\n');\n",
"// Chapter 11 : Heat Transfer\n",
"// Problem 11.15  (page no. 574) \n",
"// Solution\n",
"\n",
"D=3.5/12; //3.5 inch = 3.5/12 feet//Unit:ft //Outside diameter\n",
"Ti=120; //Inside temperature //unit:fahrenheit\n",
"To=70; //Outside temperature //unit:fahrenheit\n",
"deltaT=Ti-To; //unit:fahrenheit //Change in temperature\n",
"h=0.9; //Coefficient of heat transfer //Unit:Btu/(hr*ft^2*F)\n",
"L=5; //Length //Unit:ft //From problem 11.10\n",
"A=(%pi*D)*L;  //Area //Unit:ft^2 \n",
"Q=h*A*deltaT; //The heat loss due to convection //Unit:Btu/hr //Newton's law of cooling\n",
"printf('The heat loss due to convection is %f Btu/hr',Q);"
   ]
   }
,
{
		   "cell_type": "markdown",
		   "metadata": {},
		   "source": [
			"## Example 11.16: Determine_the_heat_transfer_through_the_wall_and_wall_temperature.sce"
		   ]
		  },
  {
"cell_type": "code",
	   "execution_count": null,
	   "metadata": {
	    "collapsed": true
	   },
	   "outputs": [],
"source": [
"//scilab 5.4.1\n",
"clear;\n",
"clc;\n",
"printf('\t\t\tProblem Number 11.16\n\n\n');\n",
"// Chapter 11 : Heat Transfer\n",
"// Problem 11.16  (page no. 575) \n",
"// Solution\n",
"\n",
"//This problem can not be solved directly,because the individual film resistances aree functions of unknown temperature differences.Therefore,\n",
"//From the first approximation,\n",
"h=1/2; //Coefficient of heat transfer //unit:Btu/(hr*ft^2*F)\n",
"//For area 1 ft^2,\n",
"R=(3/12)/0.07; //The wall resistance is deltax/(k*A) //k=0.07 //Unit:Btu/(hr*ft*F) //k=proportionality constant //k=thermal conductivity\n",
"Roverall=inv(1/2)+inv(1/2)+R; //the overall series resistance //Unit:Btu/(hr*ft*F)\n",
"printf('For h=0.5,the overall series resistance is %f Btu/(hr*ft*F)\n',Roverall);\n",
"//Using the value of Roverall,we can now obtain Q and individual temperature differences,\n",
"Ti=80; //warm air temperature //unit:fahrenheit\n",
"To=50; //cold air temperature //unit:fahrenheit\n",
"deltaT=Ti-To; //unit:fahrenheit  //Change in temperature\n",
"Q=deltaT/Roverall; //Unit:Btu/(hr*ft^2) //heat transfer //ohm's law (fourier's equation)\n",
"printf('For h=0.5,heat transfer is %f Btu/(hr*ft^2)\n',Q);\n",
"printf('For h=0.5,\n');\n",
"//deltaT through the hot air film is Q/(1/2)\n",
"printf('Temperaure difference through the hot air film is %f F\n',Q/(1/2));\n",
"//Throught the wall deltaT is R*Q\n",
"printf('Temperaure difference through the wall is %f F\n',Q*R);\n",
"//deltaT through the cold air film is Q/(1/2)\n",
"printf('Temperaure difference through the cold air film is %f F\n\n',Q/(1/2));\n",
"\n",
"//With these temperature differences,we can now enter figures 11.12 and 11.14 to verify our approximation.From figure 11.14,we find h=0.42 Btu/(hr*ft*2*F)\n",
"//Using h=0.42,we have for the overall resistance (1/0.42)+(1/0.42)+R\n",
"h=0.42; //Coefficient of heat transfer  //unit:Btu/(hr*ft^2*F)\n",
"Roverall=inv(h)+inv(h)+R; //the overall series resistance //Unit:Btu/(hr*ft*F)\n",
"printf('For h=0.42,the overall series resistance is %f Btu/(hr*ft*F)\n',Roverall);\n",
"Q=deltaT/Roverall; //Unit:Btu/(hr*ft^2) //heat transfer //ohm's law (fourier's equation)\n",
"printf('For h=0.42,heat transfer is %f Btu/(hr*ft^2)\n',Q);\n",
"printf('For h=0.42,\n');\n",
"// deltat through both air films is Q/h\n",
"printf('Temperaure difference through the hot and cold air film is %f F\n',Q/h);\n",
"//and through the wall,deltat is Q*R\n",
"printf('Temperaure difference through the wall is %f F\n\n',Q*R);\n",
"\n",
"//Entering figure 11.14,we find that h stays essentially 0.42,and our solution is that the heat flow is Q,the 'hot' side of the wall is at Ti-(Q/h),the 'cold' side  is at To+(Q/h) ,and temperature drop in the wall is Ti-(Q/h)-(To+(Q/h)).\n",
"printf('The temperature drop on the hot side of the wall is %f F\n',Ti-(Q/h));\n",
"printf('The temperature drop on the cold side of the wall is %f F\n',To+(Q/h));\n",
"printf('The temperature drop in the wall is %f F\n',Ti-(Q/h)-(To+(Q/h)));\n",
"//Which checks our wall deltat calculation."
   ]
   }
,
{
		   "cell_type": "markdown",
		   "metadata": {},
		   "source": [
			"## Example 11.17: Determine_the_heat_transfer_coefficient.sce"
		   ]
		  },
  {
"cell_type": "code",
	   "execution_count": null,
	   "metadata": {
	    "collapsed": true
	   },
	   "outputs": [],
"source": [
"//scilab 5.4.1\n",
"clear;\n",
"clc;\n",
"printf('\t\t\tProblem Number 11.17\n\n\n');\n",
"// Chapter 11 : Heat Transfer\n",
"// Problem 11.17  (page no. 578) \n",
"// Solution\n",
"\n",
"//The first step is to check Reynolds number.It will be recalled that the Reynolds number is given by (D*V*rho)/mu and is dimensionless.Therefore,we can use D,      diameter in feet;V velocity in ft/hr;rho density in lbm/ft^3 and mu viscosity in lbm/(ft*hr).\n",
"//Alternatively,the Reynolds number is given by (D*G)/mu,where G is the mass flow rate per unit area (lbm/(hr*ft^2)).\n",
"G=((20*60)*(4*144)/(%pi*0.87^2)); //Unit:lbm/(hr*ft^2)  //Inside diameter=0.87 inch ////1 in.^2=144 ft^2 //20 lbm/min of water(min converted to second)\n",
"//the viscosity of air at these conditions is obtained from figure 11.17 as 0.062 lbm/(ft*hr).So,\n",
"mu=0.33; //the viscosity of air //unit:lbm/(ft*hr)\n",
"D=0.87/12; //Inside diameter //1 in^2=144 ft^2\n",
"//Therefore Reynolds number is \n",
"Re=(D*G)/mu; //Reynolds number\n",
"//which is well into the turbulent flow regime.\n",
"printf('The Reynolds number is %f\n',Re);\n",
"//The next step is to enter Figure 11.18 at W/1000 of 20*(60/1000)=1.2 and 400F to obtain h1=630.\n",
"//From the figure 11.20,we obtain F=1.25 for an inside diameter of 0.87 inch.So,\n",
"h1=630; //basic heat transfer coefficient //unit:Btu/(hr*ft^2*F)\n",
"F=1.25; //correction factor\n",
"h=h1*F; //heat transfer coefficient //the inside film coefficient //unit:Btu/(hr*ft^2*F)\n",
"printf('The heat-transfer coefficient is %f Btu/(hr*ft^2*F)\n',h);"
   ]
   }
,
{
		   "cell_type": "markdown",
		   "metadata": {},
		   "source": [
			"## Example 11.18: Determine_the_inside_film_coefficient.sce"
		   ]
		  },
  {
"cell_type": "code",
	   "execution_count": null,
	   "metadata": {
	    "collapsed": true
	   },
	   "outputs": [],
"source": [
"//scilab 5.4.1\n",
"clear;\n",
"clc;\n",
"printf('\t\t\tProblem Number 11.18\n\n\n');\n",
"// Chapter 11 : Heat Transfer\n",
"// Problem 11.18  (page no. 579) \n",
"// Solution\n",
"\n",
"//We first check the Reynolds number and note that G is same as for problem 11.17.So,\n",
"//G is the mass flow rate per unit area (lbm/(hr*ft^2)).\n",
"G=((20*60)*(4*144))/(%pi*(0.87^2)); //Unit:lbm/(hr*ft^2)  //Inside diameter=0.87 inch ////1 in.^2=144 ft^2 //20 lbm/min of water(min converted to second)\n",
"//the viscosity of air at these conditions is obtained from figure 11.17 as 0.062 lbm/(ft*hr).So,\n",
"mu=0.062; //the viscosity of air //unit:lbm/(ft*hr)\n",
"D=0.87/12; //Inside diameter //1 in^2=144 ft^2\n",
"//Reynolds number is DG/mu,therefore \n",
"Re=(D*G)/mu; //Reynolds number\n",
"printf('The Reynolds number is %f\n',Re);\n",
"//which places the flow in the turbulent regime.Because W/1000(W=weight flow) is same as for problem 11.17 and equals 1.2,we now enter figure 11.19 at 1.2 and 400F   to obtain h1=135.Because the inside tube diameter is same as before,F=1.25.Therefore,\n",
"h1=135; //basic heat transfer coefficient //unit:Btu/(hr*ft^2*F)\n",
"F=1.25; //correction factor\n",
"h=h1*F; //heat transfer coefficient //the inside film coefficient //unit:Btu/(hr*ft^2*F)\n",
"printf('The inside film coefficient is %f Btu/(hr*ft^2*F)\n',h);\n",
"//It is interesting that for equal mass flow rates,water yields a heat-transfer coefficient almost five times greater than air"
   ]
   }
,
{
		   "cell_type": "markdown",
		   "metadata": {},
		   "source": [
			"## Example 11.19: Determine_the_heat_loss_by_radiation.sce"
		   ]
		  },
  {
"cell_type": "code",
	   "execution_count": null,
	   "metadata": {
	    "collapsed": true
	   },
	   "outputs": [],
"source": [
"//scilab 5.4.1\n",
"clear;\n",
"clc;\n",
"printf('\t\t\tProblem Number 11.19\n\n\n');\n",
"// Chapter 11 : Heat Transfer\n",
"// Problem 11.19  (page no. 586) \n",
"// Solution\n",
"\n",
"//A bare steel pipe\n",
"//From the Table 11.5,case 2,\n",
"Fe=0.79; //Emissivity factor to allow for the departure of the surfaces interchanging heat from complete blackness;Fe is a function of the surface emissivities and       configurations\n",
"FA=1; //geometric factor to allow for the average solid angle through which one surface 'sees' the other\n",
"sigma=0.173*10^-8; //Stefan-Boltzmann constant //Unit:Btu/(hr*ft^2*R^4)\n",
"T1=120+460; //outside temperature //Unit:R //fahrenheit converted to absolute temperature\n",
"T2=70+460; //inside temperature //Unit:R //fahrenheit converted to absolute temperature\n",
"D=3.5/12; //3.5 inch = 3.5/12 feet//Unit:ft //Outside diameter\n",
"L=5; //Length //Unit:ft //From problem 11.10\n",
"A=(%pi*D)*L;  //Area //Unit:ft^2 \n",
"Q=sigma*Fe*FA*A*(T1^4-T2^4); //The net interchange of heat by radiation between two bodies at different temperatures //Unit:Btu/hr ////Stefan-Boltzmann law\n",
"printf('The heat loss by radiation is %f Btu/hr\n',Q);"
   ]
   }
,
{
		   "cell_type": "markdown",
		   "metadata": {},
		   "source": [
			"## Example 11.1: Heat_transfer_per_square_foot_of_wall.sce"
		   ]
		  },
  {
"cell_type": "code",
	   "execution_count": null,
	   "metadata": {
	    "collapsed": true
	   },
	   "outputs": [],
"source": [
"clear;\n",
"clc;\n",
"printf('\t\t\tProblem Number 11.1\n\n\n');\n",
"// Chapter 11: Heat Transfer\n",
"// Problem 11.1 (page no. 553) \n",
"// Solution\n",
"\n",
"\n",
"deltaX=6/12; //6 inch = 6/12 feet //deltaX=length //unit:feet\n",
"k=0.40; //Unit:Btu/(hr*ft*F) //k=proportionality constant //k=thermal conductivity //From the table\n",
"T1=150; //temperature maintained at one face //fahrenheit\n",
"T2=80; //tempetature maintained at other face //fahrenheit\n",
"deltaT=T2-T1; //fahrenheit //Change in temperature\n",
"Q=(-k*deltaT)/deltaX; //Heat transfer per square foot of wall //Unit:Btu/hr*ft^2\n",
"printf('Heat transfer per square foot of wall is %f Btu/hr*ft^2',Q);"
   ]
   }
,
{
		   "cell_type": "markdown",
		   "metadata": {},
		   "source": [
			"## Example 11.20: Determine_the_heat_transfer_coefficient.sce"
		   ]
		  },
  {
"cell_type": "code",
	   "execution_count": null,
	   "metadata": {
	    "collapsed": true
	   },
	   "outputs": [],
"source": [
"//scilab 5.4.1\n",
"clear;\n",
"clc;\n",
"printf('\t\t\tProblem Number 11.20\n\n\n');\n",
"// Chapter 11 : Heat Transfer\n",
"// Problem 11.20  (page no. 588) \n",
"// Solution\n",
"\n",
"//The upper temperature is given as 120 F and the temperature difference is \n",
"Ti=120; //Inside temperature //unit:fahrenheit\n",
"To=70; //Outside temperature //unit:fahrenheit\n",
"deltaT=120-70; //unit:fahrenheit //Change in temperature\n",
"//Using figure 11.28, \n",
"hrdash=1.18; //factor for radiation coefficient //Unit:Btu/(hr*ft^2*F)\n",
"Fe=1; //Emissivity factor to allow for the departure of the surfaces interchanging heat from complete blackness;Fe is a function of the surface emissivities and       configurations\n",
"FA=0.79; //geometric factor to allow for the average solid angle through which one surface 'sees' the other\n",
"hr=Fe*FA*hrdash; //The radiation heat-transfer coefficient for the pipe //Unit:Btu/(hr*ft^2*F)\n",
"printf('The radiation heat-transfer coefficient for the pipe is %f Btu/(hr*ft^2*F)\n',hr);\n",
"\n",
"//As a check,Using the results of problem 11.17,\n",
"printf('As a check,using the results of problem 11.17,\n');\n",
"D=3.5/12; //3.5 inch = 3.5/12 feet//Unit:ft //Outside diameter\n",
"L=5; //Length //Unit:ft //From problem 11.10\n",
"A=(%pi*D)*L;  //Area //Unit:ft^2 \n",
"Q=214.5; //heat loss //Unit:Btu/hr\n",
"hr=Q/(A*deltaT); //The radiation heat-transfer coefficient for the pipe //Unit:Btu/(hr*ft^2*F) //Newton's law of cooling\n",
"printf('The radiation heat-transfer coefficient for the pipe is %f Btu/(hr*ft^2*F)\n',hr);"
   ]
   }
,
{
		   "cell_type": "markdown",
		   "metadata": {},
		   "source": [
			"## Example 11.21: Determine_the_heat_loss_due_to_convection.sce"
		   ]
		  },
  {
"cell_type": "code",
	   "execution_count": null,
	   "metadata": {
	    "collapsed": true
	   },
	   "outputs": [],
"source": [
"//scilab 5.4.1\n",
"clear;\n",
"clc;\n",
"printf('\t\t\tProblem Number 11.21\n\n\n');\n",
"// Chapter 11 : Heat Transfer\n",
"// Problem 11.21  (page no. 589) \n",
"// Solution\n",
"\n",
"//Because the conditions of illustrative problem 11.15 are the same as for problem 11.19 and 11.20,we can solve this problem in two ways to obtain a check.\n",
"//Thus,adding the results of these problems yields,\n",
"printf('Adding the results of the problems yields,\n')\n",
"Qtotal=206.2+214.5; //Unit:Btu/hr //total heat loss\n",
"printf('The heat loss due to convection is %f Btu/hr\n',Qtotal);\n",
"\n",
"//We can also approach this solution by obtaining radiation and convection heat-transfer co-efficcient.Thus,\n",
"hcombined=0.9+0.94; //Coefficient of heat transfer //Unit:Btu/(hr*ft^2*F)\n",
"D=3.5/12; //3.5 inch = 3.5/12 feet //Unit:ft //Outside diameter\n",
"Ti=120; //Inside temperature //unit:fahrenheit\n",
"To=70; //Outside temperature //unit:fahrenheit\n",
"deltaT=Ti-To; //unit:fahrenheit //Change in temperature\n",
"L=5; //Length //Unit:ft //From problem 11.10\n",
"A=(%pi*D)*L;  //Area //Unit:ft^2 \n",
"Qtotal=hcombined*A*deltaT; //Unit:Btu/hr //total heat loss due to convection //Newton's law of cooling\n",
"printf('By obtaining radiation and convection heat-transfer co-efficcient,\n')\n",
"printf('The heat loss due to convection is %f Btu/hr',Qtotal);"
   ]
   }
,
{
		   "cell_type": "markdown",
		   "metadata": {},
		   "source": [
			"## Example 11.22: Determine_the_overall_heat_transfer_coefficient.sce"
		   ]
		  },
  {
"cell_type": "code",
	   "execution_count": null,
	   "metadata": {
	    "collapsed": true
	   },
	   "outputs": [],
"source": [
"//scilab 5.4.1\n",
"clear;\n",
"clc;\n",
"printf('\t\t\tProblem Number 11.22\n\n\n');\n",
"// Chapter 11 : Heat Transfer\n",
"// Problem 11.22  (page no. 595) \n",
"// Solution\n",
"\n",
"//For brick,concrete,plaster,hot film and cold film,\n",
"A=1; //area //Unit:ft^2\n",
"//For a plane wall,the areas are all the same,and if we use 1 ft^2 of wall surface as the reference area,\n",
"//For Brick,\n",
"deltax=6/12; //6 inch = 6/12 feet //deltax=length //unit:ft\n",
"k=0.40; //Unit:Btu/(hr*ft*F) //k=proportionality constant //k=thermal conductivity //From the table\n",
"brickResistance=deltax/(k*A); //Thermal resistance //Unit:(hr*f)/Btu\n",
"printf('For brick,');\n",
"printf('The resistance is %f (hr*F)/Btu\n',brickResistance);\n",
"\n",
"//For Concrete,\n",
"deltax=(1/2)/12; //(1/2) inch = (1/2)/12 feet //deltax=length //unit:ft\n",
"k=0.80; //Unit:Btu/(hr*ft*F) //k=proportionality constant //k=thermal conductivity //From the table\n",
"concreteResistance=deltax/(k*A); //Thermal resistance //Unit:(hr*f)/Btu\n",
"printf('For Concrete,');\n",
"printf('The resistance is %f (hr*F)/Btu\n',concreteResistance);\n",
"\n",
"//For plaster,\n",
"deltax=(1/2)/12; // (1/2) inch = 6/12 feet //deltax=length //unit:ft\n",
"k=0.30; //Unit:Btu/(hr*ft*F) //k=proportionality constant //k=thermal conductivity //From the table\n",
"plasterResistance=deltax/(k*A); //Thermal resistance //Unit:(hr*f)/Btu\n",
"printf('For plaster,');\n",
"printf('The resistance is %f (hr*F)/Btu\n',plasterResistance);\n",
"\n",
"//For 'hot film',\n",
"h=0.9; //Coefficient of heat transfer //Unit:Btu/(hr*ft^2*F)\n",
"hotfilmResistance=inv(h*A); //Thermal resistance //Unit:(hr*f)/Btu\n",
"printf('For hot film,');\n",
"printf('The resistance is %f (hr*F)/Btu\n',hotfilmResistance);\n",
"\n",
"//For 'cold film',\n",
"h=1.5; //Coefficient of heat transfer //Unit:Btu/(hr*ft^2*F)\n",
"coldfilmResistance=inv(h*A); //Thermal resistance //Unit:(hr*f)/Btu\n",
"printf('For cold film,');\n",
"printf('The resistance is %f (hr*F)/Btu\n\n',coldfilmResistance);\n",
"\n",
"totalResistance=brickResistance+concreteResistance+plasterResistance+hotfilmResistance+coldfilmResistance; //the overall resistance  //Unit:(hr*f)/Btu\n",
"printf('The overall resistance is %f (hr*F)/Btu\n',totalResistance);\n",
"\n",
"U=inv(totalResistance); //Unit:Btu/(hr*ft^2) //The overall conductance(or overall heat-transfer coefficient)\n",
"printf('The overall conductance(or overall heat-transfer coefficient) is %f Btu/(hr/ft^2)\n',U);\n",
"//In problem 11.21,the solution is straightforward,because the heat-transfer area is constant for all series resistances."
   ]
   }
,
{
		   "cell_type": "markdown",
		   "metadata": {},
		   "source": [
			"## Example 11.23: Determine_the_overall_heat_transfer_coefficient_of_outside_and_inside_area.sce"
		   ]
		  },
  {
"cell_type": "code",
	   "execution_count": null,
	   "metadata": {
	    "collapsed": true
	   },
	   "outputs": [],
"source": [
"//scilab 5.4.1\n",
"clear;\n",
"clc;\n",
"printf('\t\t\tProblem Number 11.23\n\n\n');\n",
"// Chapter 11 : Heat Transfer\n",
"// Problem 11.23  (page no. 596) \n",
"// Solution\n",
"\n",
"hi=45; //Film coefficient on the inside of the pipe //Unit:Btu/(hr*ft^2*F)\n",
"r1=3.0/2; //Inside radius //Unit:inch\n",
"k1=26; //Unit:Btu/(hr*ft^2*F) //k=proportionality constant for steel pipe //k=thermal conductivity for fir //From the table\n",
"r2=3.5/2; //outide radius //Unit:inch\n",
"k2=0.026; //Unit:Btu/(hr*ft^2*F) //k=proportionality constant for mineral wool //k=thermal conductivity for fir //From the table\n",
"r3=5.50/2; //radius //Unit:inch\n",
"ho=0.9; //Film coefficient on the outside of the pipe //Unit:Btu/(hr*ft^2*F)\n",
"//Results of problem 11.23,\n",
"Ui=1/((1/hi)+((r1/(k1*12))*log(r2/r1))+((r1/(k2*12))*log(r3/r2))+(1/(ho*(r3/r1)))); //Unit:Btu/(hr*ft^2*F) //1 in.=12 ft //Heat transfer coefficient based on inside surface \n",
"printf('Heat transfer coefficient based on inside surface is %f Btu/(hr*ft^2*F)\n',Ui); \n",
"//Because Uo*Ao=Ui*Ai\n",
"Uo=Ui*(r1/r3); //Heat transfer coefficient based on outside surface //Unit:Btu/(hr*ft^2*F)\n",
"printf('Heat transfer coefficient based on outside surface is %f Btu/(hr*ft^2*F)\n',Uo);"
   ]
   }
,
{
		   "cell_type": "markdown",
		   "metadata": {},
		   "source": [
			"## Example 11.24: Determine_the_outside_tube_surface_required.sce"
		   ]
		  },
  {
"cell_type": "code",
	   "execution_count": null,
	   "metadata": {
	    "collapsed": true
	   },
	   "outputs": [],
"source": [
"//scilab 5.4.1\n",
"clear;\n",
"clc;\n",
"printf('\t\t\tProblem Number 11.24\n\n\n');\n",
"// Chapter 11 : Heat Transfer\n",
"// Problem 11.24  (page no. 601) \n",
"// Solution\n",
"\n",
"//A COUNTERFLOW HEAT EXCHANGER\n",
"//Hot oil enters at 215 F and leaves at 125 F\n",
"//Water enters the unit at 60 F and leaves at 90 F\n",
"//Therefore,From figure 11.34, \n",
"thetaA=215-90; //the greatest temperature difference between the fluids(at either inlet or outlet) //Unit:fahrenheit\n",
"thetaB=125-60; //the least temperature difference between the fluids(at either inlet or outlet) //Unit:fahrenheit\n",
"deltaTm=(thetaA-thetaB)/log(thetaA/thetaB); //logarithmic mean temperature difference //Unit:fahrenheit \n",
"//From the oil data,\n",
"m=400*60;  //mass //Unit:lb/sec //1 min=60 sec\n",
"Cp=0.85; //Specific heat of the oil //Unit:Btu/(lb*F)\n",
"deltaT=215-125;  //Change in temperature //Unit:fahrenheit\n",
"Q=m*Cp*deltaT //The heat transfer //Unit:Btu/hr\n",
"//Q=U*A*deltaTm\n",
"U=40;//The overall coefficient of heat transfer of the unit //Unit:Btu/(hr*ft^2*F)\n",
"A=Q/(U*deltaTm); //Umit:ft^2 //The outside surface area\n",
"printf('The outside surface area required is %f ft^2',A);\n",
""
   ]
   }
,
{
		   "cell_type": "markdown",
		   "metadata": {},
		   "source": [
			"## Example 11.25: Determine_the_outside_surface_area_required.sce"
		   ]
		  },
  {
"cell_type": "code",
	   "execution_count": null,
	   "metadata": {
	    "collapsed": true
	   },
	   "outputs": [],
"source": [
"//scilab 5.4.1\n",
"clear;\n",
"clc;\n",
"printf('\t\t\tProblem Number 11.25\n\n\n');\n",
"// Chapter 11 : Heat Transfer\n",
"// Problem 11.25  (page no. 602) \n",
"// Solution\n",
"\n",
"//In problem 11.24, A COUNTERFLOW HEAT EXCHANGER is operated in the parallel flow\n",
"//Hot oil enters at 215 F and leaves at 125 F\n",
"//Water enters the unit at 60 F and leaves at 90 F\n",
"//Therefore,From figure 11.35, \n",
"thetaA=215-60; //the greatest temperature difference between the fluids(at either inlet or outlet) //Unit:fahrenheit\n",
"thetaB=125-90; //the least temperature difference between the fluids(at either inlet or outlet) //Unit:fahrenheit\n",
"deltaTm=(thetaA-thetaB)/log(thetaA/thetaB); //logarithmic mean temperature difference //Unit:fahrenheit \n",
"//From the oil data,\n",
"m=400*60;  //mass //Unit:lb/sec //1 min=60 sec\n",
"Cp=0.85; //Specific heat of the oil //Unit:Btu/(lb*F)\n",
"deltaT=215-125;  //Change in temperature  //Unit:fahrenheit\n",
"Q=m*Cp*deltaT //The heat transfer //Unit:Btu/hr\n",
"//Q=U*A*deltaTm\n",
"U=40;//The overall coefficient of heat transfer of the unit //Unit:Btu/(hr*ft^2*F)\n",
"A=Q/(U*deltaTm); //Umit:ft^2 //The outside surface area\n",
"printf('The outside surface area required is %f ft^2',A);\n",
"\n",
"\n",
"\n",
"\n",
""
   ]
   }
,
{
		   "cell_type": "markdown",
		   "metadata": {},
		   "source": [
			"## Example 11.26: the_outside_surface_area_required.sce"
		   ]
		  },
  {
"cell_type": "code",
	   "execution_count": null,
	   "metadata": {
	    "collapsed": true
	   },
	   "outputs": [],
"source": [
"//scilab 5.4.1\n",
"clear;\n",
"clc;\n",
"printf('\t\t\tProblem Number 11.26\n\n\n');\n",
"// Chapter 11 : Heat Transfer\n",
"// Problem 11.26  (page no. 603) \n",
"// Solution\n",
"\n",
"//From the table 11.7,\n",
"//For the oil side,a resistance(fouling factor) of 0.005 (hr*F*ft^2)/Btu can be used\n",
"//and for the water side,a fouling factor of 0.001 (hr*F*ft^2)/Btu can be used\n",
"//From problem 11.25,\n",
"U=40;//The coefficient of heat transfer of the unit //Unit:Btu/(hr*ft^2*F)\n",
"//therefore,\n",
"Roil=0.005; //unit:(hr*ft^2*F)/Btu //resistance at oil side\n",
"Rwater=0.001; //unit:(hr*ft^2*F)/Btu //resistance for water side\n",
"Rcleanunit=inv(U); //unit:(hr*ft^2*F)/Btu //resistance at clean unit\n",
"Roverall=Roil+Rwater+Rcleanunit; //unit:(hr*ft^2*F)/Btu //overall resistance\n",
"Uoverall=inv(Roverall); //Unit:Btu/(hr*ft^2*F) //The overall coefficient of heat transfer of the unit\n",
"//Because all the parameters are the same,the surface area required will vary inversely as U\n",
"A=569*(U/Uoverall); //A=569 ft^2 in the problem 11.25 //unit:ft^2  //The outside surface area\n",
"printf('The outside surface area required is %f ft^2',A);"
   ]
   }
,
{
		   "cell_type": "markdown",
		   "metadata": {},
		   "source": [
			"## Example 11.27: True_mean_temperature_difference.sce"
		   ]
		  },
  {
"cell_type": "code",
	   "execution_count": null,
	   "metadata": {
	    "collapsed": true
	   },
	   "outputs": [],
"source": [
"//scilab 5.4.1\n",
"clear;\n",
"clc;\n",
"printf('\t\t\tProblem Number 11.27\n\n\n');\n",
"// Chapter 11 : Heat Transfer\n",
"// Problem 11.27  (page no. 605) \n",
"// Solution\n",
"\n",
"//HEAT EXCHANGER\n",
"//Oil flows in the tube side and is cooled from  280 F to 140 F\n",
"//Therefore,\n",
"t2=140; //Unit:fahrenheit\n",
"t1=280; //Unit:fahrenheit\n",
"//On the shell side,water is heated from 85 F to 115 F\n",
"T1=85; //Unit:fahrenheit\n",
"T2=115; //Unit:fahrenheit\n",
"P=(t2-t1)/(T1-t1); \n",
"R=(T1-T2)/(t2-t1);\n",
"//From the figure,\n",
"F=0.91;//Correction factor\n",
"LMTD=((t1-T2)-(t2-T1))/log((t1-T2)/(t2-T1)); //LMTD=Log mean temperature difference //Unit:fahrenheit\n",
"TMTD=F*LMTD; //TMTD=True mean temperature difference //Unit:fahrenheit\n",
"printf('The true mean temperature is %f fahrenheit',TMTD);\n",
""
   ]
   }
,
{
		   "cell_type": "markdown",
		   "metadata": {},
		   "source": [
			"## Example 11.2: Heat_transfer_per_unit_wall_area.sce"
		   ]
		  },
  {
"cell_type": "code",
	   "execution_count": null,
	   "metadata": {
	    "collapsed": true
	   },
	   "outputs": [],
"source": [
"clear;\n",
"clc;\n",
"printf('\t\t\tProblem Number 11.2\n\n\n');\n",
"// Chapter 11: Heat Transfer\n",
"// Problem 11.2 (page no. 553) \n",
"// Solution\n",
"\n",
"deltaX=0.150; //Given,150 mm =0.150 meter // //deltaX=length //Unit:meter\n",
"k=0.692; //Unit:W/(m*celcius) //k=proportionality constant //k=thermal conductivity \n",
"T1=70; //temperature maintained at one face //celcius\n",
"T2=30; //tempetature maintained at other face //celcius\n",
"deltaT=T2-T1; //celcius //change in temperature\n",
"Q=(-k*deltaT)/deltaX; //Heat transfer per square foot of wall //unit:W/m^2\n",
"printf('Heat transfer per square foot of wall is %f W/m^2',Q);"
   ]
   }
,
{
		   "cell_type": "markdown",
		   "metadata": {},
		   "source": [
			"## Example 11.3: determine_the_resistance_needed.sce"
		   ]
		  },
  {
"cell_type": "code",
	   "execution_count": null,
	   "metadata": {
	    "collapsed": true
	   },
	   "outputs": [],
"source": [
"//scilab 5.4.1\n",
"clear;\n",
"clc;\n",
"printf('\t\t\tProblem Number 11.3\n\n\n');\n",
"// Chapter 11 : Heat Transfer\n",
"// Problem 11.3  (page no. 556) \n",
"// Solution\n",
"\n",
"//From example 11.1,\n",
"deltaX=6/12; //6 inch = 6/12 feet //deltaX=length //unit:feet \n",
"A=1; //area  //ft^2\n",
"k=0.40; //Unit:Btu/(hr*ft*F) //k=proportionality constant //k=thermal conductivity //From the table\n",
"\n",
"Rt=deltaX/(k*A); //Thermal resistance //Unit:(hr*f)/Btu\n",
"\n",
"//Q=deltaT/Rt //Q=heat transfer //ohm's law (fourier's equation)\n",
"//i=deltaE/Re //i=current in amperes //deltaE=The potential difference //Re=the electrical resistance //ohm's law\n",
"// Q/i = (deltaT/Rt)*(deltaE/Re)\n",
"//Q/i=100; //Given // 1 A correspond to 100 Btu/(hr*ft^2)\n",
"deltaE=9; //Unit:Volt //potential difference\n",
"T1=150; //temperature maintained at one face //fahrenheit\n",
"T2=80; //tempetature maintained at other face //fahrenheit\n",
"deltaT=T2-T1; //fahrenheit //Change in temperature\n",
"Re=(100*deltaE*Rt)/deltaT; //Unit:Ohms //The electrical resistance needed\n",
"printf('The electrical resistance needed is %f ohms\n',abs(Re));\n",
"i=deltaE/Re; //current //Unit:amperes\n",
"Q=100*i; //Heat transfer per square foot of wall //Unit:Btu/hr*ft^2\n",
"printf('Heat transfer per square foot of wall is %f Btu/hr*ft^2',abs(Q));\n",
"\n",
""
   ]
   }
,
{
		   "cell_type": "markdown",
		   "metadata": {},
		   "source": [
			"## Example 11.4: Heat_transfer_per_sqr_foot_of_wall.sce"
		   ]
		  },
  {
"cell_type": "code",
	   "execution_count": null,
	   "metadata": {
	    "collapsed": true
	   },
	   "outputs": [],
"source": [
"//scilab 5.4.1\n",
"clear;\n",
"clc;\n",
"printf('\t\t\tProblem Number 11.4\n\n\n');\n",
"// Chapter 11 : Heat Transfer\n",
"// Problem 11.4  (page no. 558) \n",
"// Solution\n",
"\n",
"//For Brick,\n",
"deltaX=6/12; //6 inch = 6/12 feet //deltaX=length //unit:ft\n",
"A=1; //area  //unit:ft^2\n",
"k=0.40; //Unit:Btu/(hr*ft*F) //k=proportionality constant //k=thermal conductivity //From the table\n",
"R=deltaX/(k*A); //Thermal resistance //Unit:(hr*f)/Btu\n",
"printf('For brick,\n');\n",
"printf('The resistance is %f (hr*F)/Btu\n\n',R);\n",
"R1=R;\n",
"\n",
"//For Concrete,\n",
"deltaX=(1/2)/12; //(1/2) inch = (1/2)/12 feet //deltaX=length //unit:ft\n",
"A=1; //area //ft^2\n",
"k=0.80; //Unit:Btu/(hr*ft*F) //k=proportionality constant //k=thermal conductivity //From the table\n",
"R=deltaX/(k*A); //Thermal resistance //Unit:(hr*f)/Btu\n",
"printf('For Concrete,\n');\n",
"printf('The resistance is %f (hr*F)/Btu\n\n',R);\n",
"R2=R;\n",
"\n",
"//For plaster,\n",
"deltaX=(1/2)/12; // (1/2) inch = 6/12 feet //deltaX=length //unit:ft\n",
"A=1; //area //ft^2\n",
"k=0.30; //Unit:Btu/(hr*ft*F) //k=proportionality constant //k=thermal conductivity //From the table\n",
"R=deltaX/(k*A); //Thermal resistance //Unit:(hr*f)/Btu\n",
"printf('For plaster,\n');\n",
"printf('The resistance is %f (hr*F)/Btu\n\n',R);\n",
"R3=R;\n",
"\n",
"Rot=R1+R2+R3; //Rot=The overall resistance //unit:(hr*F)/Btu\n",
"printf('The overall resistance is %f (hr*F)/Btu\n\n',Rot);\n",
"T1=70; //temperature maintained at one face //fahrenheit \n",
"T2=30; //tempetature maintained at other face //fahrenheit \n",
"deltaT=T2-T1; //fahrenheit //Change in temperature\n",
"Q=deltaT/Rot; //Q=Heat transfer //Unit:Btu/(hr*ft^2); //ohm's law (fourier's equation)\n",
"printf('Heat transfer per square foot of wall is %f Btu/hr*ft^2',abs(Q));"
   ]
   }
,
{
		   "cell_type": "markdown",
		   "metadata": {},
		   "source": [
			"## Example 11.5: The_interface_temperatures.sce"
		   ]
		  },
  {
"cell_type": "code",
	   "execution_count": null,
	   "metadata": {
	    "collapsed": true
	   },
	   "outputs": [],
"source": [
"//scilab 5.4.1\n",
"clear;\n",
"clc;\n",
"printf('\t\t\tProblem Number 11.5\n\n\n');\n",
"// Chapter 11 : Heat Transfer\n",
"// Problem 11.5  (page no. 558) \n",
"// Solution\n",
"\n",
"printf('In problem 11.4,\n');\n",
"//From example 11.4,,,\n",
"//For Brick,\n",
"deltaX=6/12; //6 inch = 6/12 feet //deltaX=length //unit:ft\n",
"A=1; //area  //unit:ft^2\n",
"k=0.40; //Unit:Btu/(hr*ft*F) //k=proportionality constant //k=thermal conductivity //From the table\n",
"R=deltaX/(k*A); //Thermal resistance //Unit:(hr*f)/Btu\n",
"printf('For brick,\n');\n",
"printf('The resistance is %f (hr*F)/Btu\n\n',R);\n",
"R1=R;\n",
"\n",
"//For Concrete,\n",
"deltaX=(1/2)/12; //(1/2) inch = (1/2)/12 feet //deltaX=length //unit:ft\n",
"A=1; //area //ft^2\n",
"k=0.80; //Unit:Btu/(hr*ft*F) //k=proportionality constant //k=thermal conductivity //From the table\n",
"R=deltaX/(k*A); //Thermal resistance //Unit:(hr*f)/Btu\n",
"printf('For Concrete,\n');\n",
"printf('The resistance is %f (hr*F)/Btu\n\n',R);\n",
"R2=R;\n",
"\n",
"//For plaster,\n",
"deltaX=(1/2)/12; // (1/2) inch = 6/12 feet //deltaX=length //unit:ft\n",
"A=1; //area //ft^2\n",
"k=0.30; //Unit:Btu/(hr*ft*F) //k=proportionality constant //k=thermal conductivity //From the table\n",
"R=deltaX/(k*A); //Thermal resistance //Unit:(hr*f)/Btu\n",
"printf('For plaster,\n');\n",
"printf('The resistance is %f (hr*F)/Btu\n\n',R);\n",
"R3=R;\n",
"\n",
"Rot=R1+R2+R3; //Rot=The overall resistance //unit:(hr*F)/Btu\n",
"printf('The overall resistance is %f (hr*F)/Btu\n\n',Rot);\n",
"T1=70; //temperature maintained at one face //fahrenheit \n",
"T2=30; //tempetature maintained at other face //fahrenheit \n",
"deltaT=T2-T1; //fahrenheit //Change in temperature\n",
"Q=deltaT/Rot; //Q=Heat transfer //Unit:Btu/(hr*ft^2);\n",
"printf('Heat transfer per square foot of wall is %f Btu/hr*ft^2',abs(Q));\n",
"\n",
"printf('Now in problem 11.5,\n');\n",
"deltaT=R*Q //ohm's law (fourier's equation) //Change in temperature //fahrenheit\n",
"//For Brick,\n",
"deltaT=Q*R1; //Unit:fahrenheit //ohm's law (fourier's equation) //Change in temperature\n",
"t1=deltaT;\n",
"//For Concrete,\n",
"deltaT=Q*R2; //Unit:fahrenheit //ohm's law (fourier's equation) //Change in temperature\n",
"t2=deltaT;\n",
"//For plaster,\n",
"deltaT=Q*R3; //Unit:fahrenheit //ohm's law (fourier's equation) //Change in temperature\n",
"t3=deltaT;\n",
"\n",
"deltaTo=t1+t2+t3; //Overall Change in temperature //fahrenheit\n",
"printf('The overall change in temperature is %f F\n',abs(deltaTo));\n",
"//The interface temperature are:\n",
"printf('The interface temperature are:\n');\n",
"printf('For brick-concrete : %f fahrenheit\n',abs(T2)+abs(t1));\n",
"printf('For concrete-plaster : %f fahrenheit\n',abs(T2)+abs(t1)+abs(t2));"
   ]
   }
,
{
		   "cell_type": "markdown",
		   "metadata": {},
		   "source": [
			"## Example 11.6: Heat_transfer_per_square_meter_of_wall.sce"
		   ]
		  },
  {
"cell_type": "code",
	   "execution_count": null,
	   "metadata": {
	    "collapsed": true
	   },
	   "outputs": [],
"source": [
"//scilab 5.4.1\n",
"clear;\n",
"clc;\n",
"printf('\t\t\tProblem Number 11.6\n\n\n');\n",
"// Chapter 11 : Heat Transfer\n",
"// Problem 11.6  (page no. 559) \n",
"// Solution\n",
"\n",
"//For Brick,\n",
"deltaX=0.150; //Unit:m //150 mm = 0.150 m //deltaX=length //unit:meter\n",
"A=1; //area  //unit:m^2\n",
"k=0.692; //Unit:W/(m*C) //k=proportionality constant //k=thermal conductivity //From the table\n",
"R=deltaX/(k*A); //Thermal resistance //Unit:C/W\n",
"printf('For brick,\n');\n",
"printf('The resistance is %f Celcius/W\n\n',R);\n",
"R1=R;\n",
"\n",
"//For Concrete,\n",
"deltaX=0.012; //Unit:m //12 mm = 0.0120 m //deltaX=length //unit:meter\n",
"A=1; //area  //unit:m^2\n",
"k=1.385; //Unit:W/(m*C) //k=proportionality constant //k=thermal conductivity //From the table\n",
"R=deltaX/(k*A); //Thermal resistance //Unit:C/W\n",
"printf('For Concrete,\n');\n",
"printf('The resistance is %f Celcius/W\n\n',R);\n",
"R2=R;\n",
"\n",
"//For plaster,\n",
"deltaX=0.0120; //Unit:m //12 mm = 0.0120 m //deltaX=length //unit:meter\n",
"A=1; //area  //unit:m^2\n",
"k=0.519; //Unit:W/(m*C) //k=proportionality constant //k=thermal conductivity //From the table\n",
"R=deltaX/(k*A); //Thermal resistance //Unit:C/W\n",
"printf('For plaster,\n');\n",
"printf('The resistance is %f Celcius/W\n\n',R);\n",
"R3=R;\n",
"\n",
"Ro=R1+R2+R3; //Rot=The overall resistance //unit:C/W\n",
"printf('The overall resistance is %f Celcius/W\n',Ro);\n",
"T1=0; //temperature maintained at one face //Celcius\n",
"T2=20; //tempetature maintained at other face //Celcius\n",
"deltaT=T2-T1; //Change in temperature  //Celcius\n",
"Q=deltaT/Ro; //Q=Heat transfer //Unit:W/m^2; //ohm's law (fourier's equation)\n",
"printf('Heat transfer per square meter of wall is %f W/m^2',abs(Q));"
   ]
   }
,
{
		   "cell_type": "markdown",
		   "metadata": {},
		   "source": [
			"## Example 11.7: The_temperature_at_the_interfaces.sce"
		   ]
		  },
  {
"cell_type": "code",
	   "execution_count": null,
	   "metadata": {
	    "collapsed": true
	   },
	   "outputs": [],
"source": [
"//scilab 5.4.1\n",
"clear;\n",
"clc;\n",
"printf('\t\t\tProblem Number 11.7\n\n\n');\n",
"// Chapter 11 : Heat Transfer\n",
"// Problem 11.7  (page no. 560) \n",
"// Solution\n",
"\n",
"printf('In problem 11.6,\n');\n",
"//For Brick,\n",
"deltaX=0.150; //Unit:m //150 mm = 0.150 m //deltaX=length //unit:meter\n",
"A=1; //area //unit:meter^2\n",
"k=0.692; //Unit:W/(m*C) //k=proportionality constant //k=thermal conductivity //From the table\n",
"R=deltaX/(k*A); //Thermal resistance //Unit:Celcius/W\n",
"printf('For brick,\n');\n",
"printf('The resistance is %f Celcius/W\n\n',R);\n",
"R1=R;\n",
"\n",
"//For Concrete,\n",
"deltaX=0.012; //Unit:m //12 mm = 0.0120 m //deltaX=length //unit:meter\n",
"A=1; //area  //unit:meter^2\n",
"k=1.385; //Unit:W/(m*C) //k=proportionality constant //k=thermal conductivity //From the table\n",
"R=deltaX/(k*A); //Thermal resistance //Unit:Celcius/W\n",
"printf('For Concrete,\n');\n",
"printf('The resistance is %f Celcius/W\n\n',R);\n",
"R2=R;\n",
"\n",
"//For plaster,\n",
"deltaX=0.0120; //Unit:m //12 mm = 0.0120 m //deltaX=length //unit:meter\n",
"A=1; //area  //unit:meter^2\n",
"k=0.519; //Unit:W/(m*C) //k=proportionality constant //k=thermal conductivity //From the table\n",
"R=deltaX/(k*A); //Thermal resistance //Unit:Celcius/W\n",
"printf('For plaster,\n');\n",
"printf('The resistance is %f Celcius/W\n\n',R);\n",
"R3=R;\n",
"\n",
"Ro=R1+R2+R3; //Rot=The overall resistance Celcius/W\n",
"printf('The overall resistance is %f Celcius/W\n',Ro);\n",
"T1=0; //temperature maintained at one face //Celcius\n",
"T2=20; //tempetature maintained at other face //Celcius\n",
"deltaT=T2-T1; //Change in temperature //Celcius\n",
"Q=deltaT/Ro; //Q=Heat transfer //Unit:W/m^2;\n",
"printf('Heat transfer per square meter of wall is %f W/m^2\n\n',abs(Q));\n",
"\n",
"printf('Now in problem 11.5,\n');\n",
"//deltaT=R*Q //ohm's law (fourier's equation)\n",
"//For Brick,\n",
"deltaT=Q*R1; //Unit:Celcius //Change in temperature\n",
"t1=deltaT;\n",
"//For Concrete,\n",
"deltaT=Q*R2; //Unit:Celcius //Change in temperature\n",
"t2=deltaT;\n",
"//For plaster,\n",
"deltaT=Q*R3; //Unit:Celcius //Change in temperature\n",
"t3=deltaT;\n",
"\n",
"deltaTo=t1+t2+t3; //The overall Change in temperature //Celcius\n",
"printf('The overall change in temperature is %f celcius\n',abs(deltaTo));\n",
"//The interface temperature are:\n",
"printf('The interface temperature are:\n');\n",
"printf('%f Celcius\n',abs(deltaTo)-abs(t1));\n",
"printf('%f Celcius\n',abs(deltaTo)-abs(t1)-abs(t2));\n",
"printf('%f Celcius\n',abs(deltaTo)-abs(t1)-abs(t2)-abs(t3));"
   ]
   }
,
{
		   "cell_type": "markdown",
		   "metadata": {},
		   "source": [
			"## Example 11.8: total_heat_loss.sce"
		   ]
		  },
  {
"cell_type": "code",
	   "execution_count": null,
	   "metadata": {
	    "collapsed": true
	   },
	   "outputs": [],
"source": [
"//scilab 5.4.1\n",
"clear;\n",
"clc;\n",
"printf('\t\t\tProblem Number 11.8\n\n\n');\n",
"// Chapter 11 : Heat Transfer\n",
"// Problem 11.8  (page no. 561) \n",
"// Solution\n",
"\n",
"deltaX=4/12; //4 inch = 6/12 feet //deltaX=length //unit:ft\n",
"A=7*2; //area //area=hight*width //unit:ft^2\n",
"k=0.090; //Unit:Btu/(hr*ft*F) //k=proportionality constant //k=thermal conductivity for fir //From the table\n",
"Rfir=deltaX/(k*A); //Resistance of fir //Unit:(hr*F)/Btu\n",
"printf('For fir,\n');\n",
"printf('The resistance is %f (hr*F)/Btu\n\n',Rfir);\n",
"\n",
"deltaX=4/12; //4 inch = 6/12 feet //deltaX=length //unit:ft\n",
"A=7*2; //area //area=hight*width  //unit:ft^2\n",
"k=0.065; //Unit:Btu/(hr*ft*F) //k=proportionality constant //k=thermal conductivity for pine //From the table\n",
"Rpine=deltaX/(k*A); //Resistance of pine //Unit:(hr*F)/Btu\n",
"printf('For pine,\n');\n",
"printf('The resistance is %f (hr*F)/Btu\n\n',Rpine);\n",
"\n",
"deltaX=4/12; //4 inch = 6/12 feet //deltaX=length //unit:ft\n",
"A=7*2; //area //area=hight*width //unit:ft^2\n",
"k=0.025; //Unit:Btu/(hr*ft*F) //k=proportionality constant //k=thermal conductivity for corkboard //From the table\n",
"Rcorkboard=deltaX/(k*A); //Resistance of corkboard //Unit:(hr*F)/Btu\n",
"printf('For corkboard,\n');\n",
"printf('The resistance is %f (hr*F)/Btu\n\n',Rcorkboard);\n",
"\n",
"Roverall=inv(inv(Rfir)+inv(Rpine)+inv(Rcorkboard));\n",
"printf('The overall resistance is %f (hr*F)/Btu\n\n',Roverall);\n",
"\n",
"T1=60; //temperature maintained at one face //unit:fahrenheit\n",
"T2=80; //tempetature maintained at other face //unit:fahrenheit\n",
"deltaT=T2-T1; //Change in temperature //unit:fahrenheit\n",
"Qtotal=deltaT/Roverall; //Q=Total Heat loss //Unit:Btu/hr; //ohm's law (fourier's equation)\n",
"printf('Total Heat loss from the wall is %f Btu/hr\n',abs(Qtotal));\n",
"\n",
"//As a check,\n",
"Qfir=deltaT/Rfir; //Q=Fir Heat loss //Unit:Btu/hr; //ohm's law (fourier's equation)\n",
"printf('Heat loss from the wall made of fir is %f Btu/hr\n',abs(Qfir));\n",
"Qpine=deltaT/Rpine; //Q=Pine Heat loss //Unit:Btu/hr; //ohm's law (fourier's equation)\n",
"printf('Heat loss from the wall made of pine is %f Btu/hr\n',abs(Qpine));\n",
"Qcorkboard=deltaT/Rcorkboard; //Q=corkboard Heat loss //Unit:Btu/hr; //ohm's law (fourier's equation)\n",
"printf('Heat loss from the wall made of corkboard is %f Btu/hr\n',abs(Qcorkboard));\n",
"Qtotal=Qfir+Qpine+Qcorkboard; //Total Heat loss from the wall //unit:Btu/hr\n",
"printf('Total Heat loss from the wall is %f Btu/hr\n',abs(Qtotal));"
   ]
   }
,
{
		   "cell_type": "markdown",
		   "metadata": {},
		   "source": [
			"## Example 11.9: The_heat_loss_from_the_pipe.sce"
		   ]
		  },
  {
"cell_type": "code",
	   "execution_count": null,
	   "metadata": {
	    "collapsed": true
	   },
	   "outputs": [],
"source": [
"//scilab 5.4.1\n",
"clear;\n",
"clc;\n",
"printf('\t\t\tProblem Number 11.9\n\n\n');\n",
"// Chapter 11 : Heat Transfer\n",
"// Problem 11.9  (page no. 565) \n",
"// Solution\n",
"\n",
"//A bare steel pipe\n",
"ro=3.50; //Outside diameter //Unit:in.\n",
"ri=3.00; //inside diameter //Unit:in.\n",
"Ti=240; //Inside temperature //unit:fahrenheit\n",
"To=120; //Outside temperature //unit:fahrenheit\n",
"L=5; //Length //Unit:ft\n",
"deltaT=Ti-To; //Change in temperature //unit:fahrenheit\n",
"k=26 //Unit:Btu/(hr*ft*F) //k=proportionality constant //k=thermal conductivity\n",
"Q=(2*%pi*k*L*deltaT)/log(ro/ri); //The heat loss from the pipe //unit:Btu/hr\n",
"printf('The heat loss from the pipe is %f Btu/hr',Q);"
   ]
   }
],
"metadata": {
		  "kernelspec": {
		   "display_name": "Scilab",
		   "language": "scilab",
		   "name": "scilab"
		  },
		  "language_info": {
		   "file_extension": ".sce",
		   "help_links": [
			{
			 "text": "MetaKernel Magics",
			 "url": "https://github.com/calysto/metakernel/blob/master/metakernel/magics/README.md"
			}
		   ],
		   "mimetype": "text/x-octave",
		   "name": "scilab",
		   "version": "0.7.1"
		  }
		 },
		 "nbformat": 4,
		 "nbformat_minor": 0
}
