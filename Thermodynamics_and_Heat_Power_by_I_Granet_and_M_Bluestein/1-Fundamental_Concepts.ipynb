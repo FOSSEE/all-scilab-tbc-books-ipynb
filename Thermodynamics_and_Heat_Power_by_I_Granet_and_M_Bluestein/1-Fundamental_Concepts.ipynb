{
"cells": [
 {
		   "cell_type": "markdown",
	   "metadata": {},
	   "source": [
       "# Chapter 1: Fundamental Concepts"
	   ]
	},
{
		   "cell_type": "markdown",
		   "metadata": {},
		   "source": [
			"## Example 1.10: Pressure.sce"
		   ]
		  },
  {
"cell_type": "code",
	   "execution_count": null,
	   "metadata": {
	    "collapsed": true
	   },
	   "outputs": [],
"source": [
"//scilab 5.4.1\n",
"clear;\n",
"clc;\n",
"printf('\t\t\tProblem Number 1.10\n\n\n');\n",
"// Chapter 1: Fundamental Concepts\n",
"// Problem 1.10 (page no. 35) \n",
"// Solution\n",
"\n",
"//Given\n",
"Rho=2000; //Unit: kg/m^3 //The density of fluid\n",
"h=-10; //Unit: mm //Height of column of fluid //the height is negative because it is measured up from the base\n",
"g=9.6 //Unit:m/s^2 //the local acceleration of gravity\n",
"//Solution\n",
"p=-Rho*g*h; //P=Pressure at the base of a column of fluid //Unit:Pa\n",
"printf('Pressure at the base of a column of fluid is %f Pa',p);"
   ]
   }
,
{
		   "cell_type": "markdown",
		   "metadata": {},
		   "source": [
			"## Example 1.11: Absolute_pressure.sce"
		   ]
		  },
  {
"cell_type": "code",
	   "execution_count": null,
	   "metadata": {
	    "collapsed": true
	   },
	   "outputs": [],
"source": [
"//scilab 5.4.1\n",
"clear;\n",
"clc;\n",
"printf('\t\t\tProblem Number 1.11\n\n\n');\n",
"// Chapter 1: Fundamental Concepts\n",
"// Problem 1.11 (page no. 35) \n",
"// Solution\n",
"\n",
"//Given\n",
"Patm=30.0 //in. //pressure of mercury at standard temperature\n",
"Vacuum=26.5  //in.  //vaccum pressure\n",
"Pabs=Patm-Vacuum; //Absolute pressure of mercury //in.\n",
"// (3.5 inch* (ft/12 inch) * (13.6*62.4)LBf/ft^3 * kg/2.2 LBf * 9.806 N/kg)/((12 inch^2/ft^2) * (0.0254 m/inch)^2)\n",
"p=(3.5*(1/12)*13.6*62.4*(1/2.2)*9.806)/(12^2*0.0254^2*1000); //kPa //Absolute pressure in psia\n",
"printf('Absolute pressure of mercury is %f kPa',p)"
   ]
   }
,
{
		   "cell_type": "markdown",
		   "metadata": {},
		   "source": [
			"## Example 1.1: Temperature_indicated_on_same_on_both_Fahrenheit_and_Celsius_thermometers.sce"
		   ]
		  },
  {
"cell_type": "code",
	   "execution_count": null,
	   "metadata": {
	    "collapsed": true
	   },
	   "outputs": [],
"source": [
"//scilab 5.4.1\n",
"clear;\n",
"clc;\n",
"printf('\t\t\tProblem Number 1.1\n\n\n');\n",
"// Chapter 1: Fundamental Concepts\n",
"// Problem 1.1 (page no. 8) \n",
"// Solution\n",
"\n",
"//C=(5/9)*(F-32);\n",
"//F=32+(9*C/5);\n",
"//Letting C=F in equation;\n",
"//F=(5/9)*(F-32);\n",
"//Therefore\n",
"F=-160/4; //fahrenheit\n",
"disp(F,'F=');\n",
"printf('Both fahrenheit and celsius temperature scales indicate same temperature at %f',F);"
   ]
   }
,
{
		   "cell_type": "markdown",
		   "metadata": {},
		   "source": [
			"## Example 1.2: Force_And_Mass.sce"
		   ]
		  },
  {
"cell_type": "code",
	   "execution_count": null,
	   "metadata": {
	    "collapsed": true
	   },
	   "outputs": [],
"source": [
"//scilab 5.4.1\n",
"clear;\n",
"clc;\n",
"printf('\t\t\tProblem Number 1.2\n\n\n');\n",
"// Chapter 1: Fundamental Concepts\n",
"// Problem 1.2 (page no. 18) \n",
"// Solution\n",
"\n",
"//Given\n",
"Mm=0.0123//Unit:lb //Mass of the moon;\n",
"Me=1 //Unit:lb //Mass of the earth;\n",
"Dm=0.273 //Unit:feet //Diameter of the moon;\n",
"De=1 //Unit:feet //Diameter of the earth;\n",
"Rm=Dm/2; //Radius of the moon; //Unit:feet\n",
"Re=De/2; //Radius of the earth; //Unit:feet\n",
"\n",
"//F=(K*M1*M2)/d^2 //Law of universal gravitation;\n",
"//Fe=(K*Me*m)/Re^2; //Fe=Force exerted on the mass;\n",
"//Fm=(K*Mm*m)/Rm^2; //Fm=Force exerted on the moon;\n",
"F=(Me/Mm)*(Rm/Re)^2; //F=Fe/Fm;\n",
"printf('Relation of force exerted on earth to mass is')\n",
"disp(F,'Fe/Fm =');\n",
""
   ]
   }
,
{
		   "cell_type": "markdown",
		   "metadata": {},
		   "source": [
			"## Example 1.3: Calculating_weight.sce"
		   ]
		  },
  {
"cell_type": "code",
	   "execution_count": null,
	   "metadata": {
	    "collapsed": true
	   },
	   "outputs": [],
"source": [
"//scilab 5.4.1\n",
"clear;\n",
"clc;\n",
"printf('\t\t\tProblem Number 1.3\n\n\n');\n",
"// Chapter 1: Fundamental Concepts\n",
"// Problem 1.3 (page no. 20) \n",
"// Solution\n",
"\n",
"//Given\n",
"M=5; //Unit:kg //mass of body;\n",
"g=9.81; //Unit:m/s^2 //the local acceleration of gravity\n",
"W=M*g; //W=the weight of the body //Unit:Newton // 1 N= 1 kg*m/s^2\n",
"printf('The weight of the body is %f N',W);"
   ]
   }
,
{
		   "cell_type": "markdown",
		   "metadata": {},
		   "source": [
			"## Example 1.4: Force_and_mass.sce"
		   ]
		  },
  {
"cell_type": "code",
	   "execution_count": null,
	   "metadata": {
	    "collapsed": true
	   },
	   "outputs": [],
"source": [
"//scilab 5.4.1\n",
"clear;\n",
"clc;\n",
"printf('\t\t\tProblem Number 1.4\n\n\n');\n",
"// Chapter 1: Fundamental Concepts\n",
"// Problem 1.4 (page no. 21) \n",
"// Solution\n",
"\n",
"printf('Solution for (a)\n');\n",
"//given\n",
"M=10 //Unit:kg //mass of body;\n",
"g=9.5 //Unit:m/s^2 //the local acceleration of gravity\n",
"W=M*g; //W=the weight of the body; //Unit:Newton // 1 N= 1 kg*m/s^2\n",
"printf('The weight of the body is %f N\n\n',W);\n",
"\n",
"printf('Solution for (b)\n');\n",
"//Given\n",
"F=10; //Unit:Newton //Horizontal Force\n",
"a=F/M; //newton's second law of motion\n",
"printf('The horizontal acceleration of the body is %f m/s^2\n',a);"
   ]
   }
,
{
		   "cell_type": "markdown",
		   "metadata": {},
		   "source": [
			"## Example 1.5: The_SI_Unit.sce"
		   ]
		  },
  {
"cell_type": "code",
	   "execution_count": null,
	   "metadata": {
	    "collapsed": true
	   },
	   "outputs": [],
"source": [
"//scilab 5.4.1\n",
"clear;\n",
"clc;\n",
"printf('\t\t\tProblem Number 1.5\n\n\n');\n",
"// Chapter 1: Fundamental Concepts\n",
"// Problem 1.5 (page no. 25) \n",
"// Solution\n",
"\n",
"//Conversion Problem\n",
"// 1 inch=0.0254 meter so, 1=0.0254 meter/inch    //Eq.1\n",
"// 1 ft=12 inch so, 1=12 inch/ft.........//Eq.2\n",
"//Multiplying Eq.1 & Eq.2  // We get 1=0.0254*12 meter/ft\n",
"//Taking Square both side\n",
"//1^2=(0.0254*12)^2  meter^2/ft^2\n",
"printf('1 ft^2=%f meter^2\n',(0.0254*12)^2); "
   ]
   }
,
{
		   "cell_type": "markdown",
		   "metadata": {},
		   "source": [
			"## Example 1.7: Pressure.sce"
		   ]
		  },
  {
"cell_type": "code",
	   "execution_count": null,
	   "metadata": {
	    "collapsed": true
	   },
	   "outputs": [],
"source": [
"//scilab 5.4.1\n",
"clear;\n",
"clc;\n",
"printf('\t\t\tProblem Number 1.7\n\n\n');\n",
"// Chapter 1: Fundamental Concepts\n",
"// Problem 1.7 (page no. 33) \n",
"// Solution\n",
"\n",
"//The Specific gravity of mercury is 13.6 //Given\n",
"//Converting the unit of weight of grams per cubic centimeter to pounds per cubic foot\n",
"// 1 lbf=454 gram //1 inch= 2.54 cm\n",
"//So 1 gram=1/454 lbf and 1 ft=12*2.54 cm\n",
"//Gamma=(gram/cm^3)*(lb/gram)*(cm^3/ft^3)=lb/ft^3\n",
"//Gamma=(1 gram/cm^3)*(1 lbf/454 gram)*(2.54*12)^3 *cm^3/ft^3\n",
"Gamma=(1/454)*(2.54*12)^3; //lbf/ft^3 //conversion factor\n",
"disp(Gamma,'Conversion Factor=');\n",
"p=(1/12)*(Gamma*13.6); //lbf/ft^2 //gage pressure\n",
"p=(1/12)*Gamma*13.6*(1/144) //ft^2/inch^2 //gage pressure\n",
"printf('Guage Pressure is %f psi\n',p);\n",
"printf('Local atmospheric pressure is 14.7 psia\n');\n",
"P=p+14.7; //Pressure on the base of the column //Unit:psia\n",
"printf(' So Pressure on the base of the column is %f psia',P);\n",
""
   ]
   }
,
{
		   "cell_type": "markdown",
		   "metadata": {},
		   "source": [
			"## Example 1.8: Pressure.sce"
		   ]
		  },
  {
"cell_type": "code",
	   "execution_count": null,
	   "metadata": {
	    "collapsed": true
	   },
	   "outputs": [],
"source": [
"//scilab 5.4.1\n",
"clear;\n",
"clc;\n",
"printf('\t\t\tProblem Number 1.8\n\n\n');\n",
"// Chapter 1: Fundamental Concepts\n",
"// Problem 1.8 (page no. 34) \n",
"// Solution\n",
"\n",
"//Given\n",
"Rho=13.595; //Unit: kg/m^3 //The density of mercury\n",
"h=25.4; //Unit: mm //Height of column of mercury\n",
"g=9.806; //Unit:m/s^2 //the local acceleration of gravity\n",
"//Solution\n",
"p=Rho*g*h; //P=Pressure at the base of a column of mercury //Unit:Pa\n",
"printf('Pressure at the base of a column of mercury is %f Pa',p);"
   ]
   }
,
{
		   "cell_type": "markdown",
		   "metadata": {},
		   "source": [
			"## Example 1.9: Absolute_pressure.sce"
		   ]
		  },
  {
"cell_type": "code",
	   "execution_count": null,
	   "metadata": {
	    "collapsed": true
	   },
	   "outputs": [],
"source": [
"//scilab 5.4.1\n",
"clear;\n",
"clc;\n",
"printf('\t\t\tProblem Number 1.9\n\n\n');\n",
"// Chapter 1: Fundamental Concepts\n",
"// Problem 1.9 (page no. 34) \n",
"// Solution\n",
"\n",
"//Given\n",
"Patm=30.0; //in. //pressure of mercury at standard temperature\n",
"Vacuum=26.5;  //in.  //vaccum pressure\n",
"Pabs=Patm-Vacuum; //Absolute pressure of mercury //in.\n",
"// 1 inch mercury exerts a pressure of 0.491 psi\n",
"p=Pabs*0.491; //Absolute pressure in psia\n",
"printf('Absolute pressure of mercury in is %f psia',p);\n",
""
   ]
   }
],
"metadata": {
		  "kernelspec": {
		   "display_name": "Scilab",
		   "language": "scilab",
		   "name": "scilab"
		  },
		  "language_info": {
		   "file_extension": ".sce",
		   "help_links": [
			{
			 "text": "MetaKernel Magics",
			 "url": "https://github.com/calysto/metakernel/blob/master/metakernel/magics/README.md"
			}
		   ],
		   "mimetype": "text/x-octave",
		   "name": "scilab",
		   "version": "0.7.1"
		  }
		 },
		 "nbformat": 4,
		 "nbformat_minor": 0
}
