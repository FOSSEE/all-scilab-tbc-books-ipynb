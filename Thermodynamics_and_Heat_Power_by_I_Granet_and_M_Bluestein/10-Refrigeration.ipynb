{
"cells": [
 {
		   "cell_type": "markdown",
	   "metadata": {},
	   "source": [
       "# Chapter 10: Refrigeration"
	   ]
	},
{
		   "cell_type": "markdown",
		   "metadata": {},
		   "source": [
			"## Example 10.10: total_work_and_mass.sce"
		   ]
		  },
  {
"cell_type": "code",
	   "execution_count": null,
	   "metadata": {
	    "collapsed": true
	   },
	   "outputs": [],
"source": [
"//scilab 5.4.1\n",
"clear;\n",
"clc;\n",
"printf('\t\t\tProblem Number 10.10\n\n\n');\n",
"// Chapter 10 : Refrigeration\n",
"// Problem 10.10  (page no. 518) \n",
"// Solution\n",
"\n",
"printf('Solution for (a)\n');\n",
"//By defination,the efficiency of the compressor is the ratio of the ideal compression work to actual compression work.\n",
"//Based on the points on fig.10.12, //n=(h4-h3)/(h4'-h3);\n",
"//There is close correspondence between 5.3 psia and -60F for saturated conditions.Therefore,state 3 is a superheated vapour at 5.3 psia and approximately -20F,because the problem states\n",
"//that state 3 has a 40F superheat.Interpolation in the Freon tables in Appendix 3 yields\n",
"T=-20; //Unit:F  //temperature\n",
"// p      h        s\n",
"//7.5  75.719  0.18371\n",
"//5.3  76.885  0.18985             h3=75.886 Btu/lbm\n",
"//5.0  75.990  0.19069\n",
"\n",
"//At 100 psia and s=0.18985,\n",
"//  t           s      h\n",
"// 170F     0.18996  100.571\n",
"// 169.6F   0.18985  100.5          h4=100.5 Btu/lbm\n",
"// 160F     0.18726  98.884\n",
"\n",
"//The weight of refrigerant is given by\n",
"// 200(tons)/(h3-h1) = (200*5)/(75.886-h1)\n",
"//In the saturated tables,h1 is\n",
"//    p        h \n",
"// 101.86   26.832\n",
"// 100psia  26.542\n",
"// 98.87    26.365\n",
"\n",
"//m=mass flow/min\n",
"h1=26.542; //enthalpy //Unit:Btu/lbm\n",
"n=0.8; //Efficiency\n",
"h4=100.5; //enthalpy //Unit:Btu/lbm\n",
"h3=75.886; //enthalpy //Unit:Btu/lbm\n",
"m=(200*5)/(75.886-h1); //mass\n",
"h4dashminush3=(h4-h3)/n; \n",
"//Total work of compression=m*(h4minush3)\n",
"J=778; //J=Conversion factor\n",
"work=(h4dashminush3*m*J)/33000; //1 horsepower = 33,000 ft*LBf/min //Unit:hp //work\n",
"printf('%f horsepower is required to drive the compressor if it has a mechanical efficiency 100percentage\n\n',work);\n",
"\n",
"printf('Solution for (b)\n');\n",
"//Assuming a specific heat of the water as unity,we obtain\n",
"//From part (a),\n",
"//h4'-h3=h4minush3\n",
"h4dash=h4dashminush3+h3; //Unit:Btu/lbm\n",
"mdot=(m*(h4dash-h1))/(70-60); //water enters at 60F and leaves at 70F //the required capacity in lbm/min\n",
"printf('%f lbm/min of cooling water i.e. %f gal/min is the required capacity of cooling water to pump',mdot,mdot/8.3);"
   ]
   }
,
{
		   "cell_type": "markdown",
		   "metadata": {},
		   "source": [
			"## Example 10.11: Work_and_mass.sce"
		   ]
		  },
  {
"cell_type": "code",
	   "execution_count": null,
	   "metadata": {
	    "collapsed": true
	   },
	   "outputs": [],
"source": [
"//scilab 5.4.1\n",
"clear;\n",
"clc;\n",
"printf('\t\t\tProblem Number 10.11\n\n\n');\n",
"// Chapter 10 : Refrigeration\n",
"// Problem 10.11  (page no. 521) \n",
"// Solution\n",
"\n",
"printf('Solution for (a)\n');\n",
"//From appendix3,reading the p-h diagram directly,we have\n",
"h3=76.2; //Unit:Btu/lbm //Enthalpy\n",
"h4=100.5; //Unit:Btu/lbm //Enthalpy\n",
"n=0.8; //Efficiency //From 10.10\n",
"work=(h4-h3)/n; //Work of compression //Unit:Btu/lbm\n",
"//The enthalpy of saturated liquid at 100 psia is given at 26.1 Btu/lbm.Proceeding as before yields\n",
"m=(200*5)/(h3-26.1); //Unit:lbm/min //m=massflow/min\n",
"J=778; //J=Conversion factor\n",
"totalwork=(m*work*J)/33000; //1 horsepower = 33,000 ft*LBf/min //total ideal work //unit:hp\n",
"printf('Total ideal work of compression is %f hp\n\n',totalwork);\n",
"\n",
"printf('Solution for (b)\n');\n",
"h4dash=h3+work; //Btu/lbm\n",
"mdot=(m*(h4dash-26.5))/(70-60); //water enters at 60F and leaves at 70F //the required capacity in lbm/min\n",
"printf('%f lbm/min of cooling water i.e. %f gal/min is the required capacity of cooling water to pump',mdot,mdot/8.3);"
   ]
   }
,
{
		   "cell_type": "markdown",
		   "metadata": {},
		   "source": [
			"## Example 10.12: Determine_the_airflow_required_per_ton_of_refrigeration.sce"
		   ]
		  },
  {
"cell_type": "code",
	   "execution_count": null,
	   "metadata": {
	    "collapsed": true
	   },
	   "outputs": [],
"source": [
"//scilab 5.4.1\n",
"clear;\n",
"clc;\n",
"printf('\t\t\tProblem Number 10.12\n\n\n');\n",
"// Chapter 10 : Refrigeration\n",
"// Problem 10.12  (page no. 526) \n",
"// Solution\n",
"\n",
"COP=2.5; //Coefficient of performance\n",
"cp=0.24; //Unit:Btu/(lbm*R) //Specific heat constant for constant pressure process\n",
"T1=-100+460; //temperatures converted to absolute temperatures; //Unit:R //lowest temperature of the cycle\n",
"T3=150+460; //temperatures converted to absolute temperatures; //Unit:R //Upper temperature of the cycle\n",
"//T1/T4-T1 = COP\n",
"T4=(3.5*T1)/COP; //Unit:R //temperature at point 4\n",
"//T2/T3-T2 =COP\n",
"T2=(COP*T3)/3.5; //Unit:R //temperature at point 2\n",
"printf('The work of the expander is %f Btu/lbm of air\n',cp*(T4-T1));\n",
"printf('The work of the compressor is %f Btu/lbm of air\n',cp*(T3-T2));\n",
"printf('The net work required by the cycle is %f Btu/lbm\n',(cp*(T3-T2))-(cp*(T4-T1)));\n",
"printf('Per ton of refrigeration,the required airflow is %f lbm/min per ton\n',200/(cp*(T2-T1)));"
   ]
   }
,
{
		   "cell_type": "markdown",
		   "metadata": {},
		   "source": [
			"## Example 10.13: A_vacuum_Refrigeration_system.sce"
		   ]
		  },
  {
"cell_type": "code",
	   "execution_count": null,
	   "metadata": {
	    "collapsed": true
	   },
	   "outputs": [],
"source": [
"//scilab 5.4.1\n",
"clear;\n",
"clc;\n",
"printf('\t\t\tProblem Number 10.13\n\n\n');\n",
"// Chapter 10 : Refrigeration\n",
"// Problem 10.13  (page no. 536) \n",
"// Solution\n",
"\n",
"//A VACUUM REFRIGERATION SYSTEM \n",
"//A vacuum refrigeration system is used to cool water from 90F to 45F\n",
"h1=58.07; //Unit:Btu/lbm //enthalpy\n",
"h2=13.04; //Unit:Btu/lbm  //enthalpy\n",
"h3=1081.1; //Unit:Btu/lbm //enthalpy\n",
"m1=1; //mass //unit:lbm\n",
"//m2=1-m3 //unit:lbm\n",
"//Now, m1*h1 = m2*h2 + m3*h3\n",
"//Putting the values and arranging the equation,\n",
"m3=(m1*h1-h2)/(h3+h2); //The mass of vapour that must be removed per pound //unit:lbm\n",
"printf('The mass of vapour that must be removed per pound of entering water is %f lbm',m3);\n",
"\n",
""
   ]
   }
,
{
		   "cell_type": "markdown",
		   "metadata": {},
		   "source": [
			"## Example 10.14: A_vacuum_Refrigeration_system.sce"
		   ]
		  },
  {
"cell_type": "code",
	   "execution_count": null,
	   "metadata": {
	    "collapsed": true
	   },
	   "outputs": [],
"source": [
"//scilab 5.4.1\n",
"clear;\n",
"clc;\n",
"printf('\t\t\tProblem Number 10.14\n\n\n');\n",
"// Chapter 10 : Refrigeration\n",
"// Problem 10.14  (page no. 536) \n",
"// Solution\n",
"\n",
"//In problem 10.13,\n",
"//A VACUUM REFRIGERATION SYSTEM \n",
"//A vacuum refrigeration system is used to cool water from 90F to 45F\n",
"h1=58.07; //Unit:Btu/lbm //enthalpy\n",
"h2=13.04; //Unit:Btu/lbm  //enthalpy\n",
"h3=1081.1; //Unit:Btu/lbm //enthalpy\n",
"m1=1; //mass //lbm\n",
"//m2=1-m3 //unit:lbm\n",
"//Now, m1*h1 = m2*h2 + m3*h3\n",
"//Putting the values and arranging the equation,\n",
"m3=(m1*h1-h2)/(h3+h2); //The mass of vapour that must be removed per pound //unit:lbm\n",
"m2=1-m3; //mass //unit:lbm\n",
"printf('The mass of vapour that must be removed per pound of entering water is %f lbm\n',m3);\n",
"//Now,in problem 10.14,\n",
"//The refrigeration effect can be determined as m3*(h3-h1) or m2*(h1-h2)\n",
"printf('The refrigeration effect using eqn m3*(h3-h1) is %f Btu/lbm\n',m3*(h3-h1));\n",
"printf('The refrigeration effect using eqn m2*(h1-h2) is %f Btu/lbm\n',m2*(h1-h2));"
   ]
   }
,
{
		   "cell_type": "markdown",
		   "metadata": {},
		   "source": [
			"## Example 10.15: The_heat_pump.sce"
		   ]
		  },
  {
"cell_type": "code",
	   "execution_count": null,
	   "metadata": {
	    "collapsed": true
	   },
	   "outputs": [],
"source": [
"//scilab 5.4.1\n",
"clear;\n",
"clc;\n",
"printf('\t\t\tProblem Number 10.15\n\n\n');\n",
"// Chapter 10 : Refrigeration\n",
"// Problem 10.15  (page no. 539) \n",
"// Solution\n",
"\n",
"//THE HEAT PUMP\n",
"T1=70+460; //70F=70+460 R //Energy flows into the system at reservoir at constant temperature T1(unit:R) //from problem 10.1\n",
"T2=32+460; //32F=32+460 R //Heat is rejected to the constant temperature T2(Unit:R) //from problem 10.1\n",
"COP=T1/(T1-T2); //Coefficient of performance for carnot heat pump\n",
"printf('Coefficient of performance(COP) of the carnot cycle is %f\n',COP);\n",
"printf('The COP can also be obtained from the energy items solved for in problem 10.1\n')\n",
"//In problem 10.1, The power was found to be 77.2 Btu/min and the total tare of heat rejection was 1077.2 Btu/min\n",
"//Therefore,\n",
"printf('Coefficient of performance(COP) of the cycle is %f\n',1077.2/77.2); "
   ]
   }
,
{
		   "cell_type": "markdown",
		   "metadata": {},
		   "source": [
			"## Example 10.16: The_heat_pump.sce"
		   ]
		  },
  {
"cell_type": "code",
	   "execution_count": null,
	   "metadata": {
	    "collapsed": true
	   },
	   "outputs": [],
"source": [
"//scilab 5.4.1\n",
"clear;\n",
"clc;\n",
"printf('\t\t\tProblem Number 10.16\n\n\n');\n",
"// Chapter 10 : Refrigeration\n",
"// Problem 10.16  (page no. 539) \n",
"// Solution\n",
"\n",
"//Let us first consider the cycle as a refrigeration cycle\n",
"//In problem 10.1\n",
"T1=70+460; //70F=70+460 R //Energy flows into the system at reservoir at constant temperature T1(unit:R)\n",
"T2=0+460; //0F=32+460 R //Heat is rejected to the constant temperature T2(Unit:R)\n",
"COP=T2/(T1-T2); //Coefficient of performance\n",
"printf('Coefficient of performance(COP) of the cycle is %f\n\n',COP);\n",
"Qremoved=1000; //Unit:Btu/min //heat removal\n",
"WbyJ=Qremoved/COP; //the power input //unit:Btu/min\n",
"printf('The power input is %f Btu/min\n\n',WbyJ);\n",
"Qrej=Qremoved+WbyJ; //The rate of heat rejected to the room //Unit:Btu/min\n",
"printf('The rate of heat rejected to the room is %f Btu/min\n',Qrej);\n",
"printf('The COP as a heat pump is %f\n',Qrej/WbyJ);\n",
"printf('As a check,COP of heat pump is %f = 1 + COP of carnot cycle %f',Qrej/WbyJ,COP);\n",
""
   ]
   }
,
{
		   "cell_type": "markdown",
		   "metadata": {},
		   "source": [
			"## Example 10.1: A_Carnot_Refrigeration_Cycle.sce"
		   ]
		  },
  {
"cell_type": "code",
	   "execution_count": null,
	   "metadata": {
	    "collapsed": true
	   },
	   "outputs": [],
"source": [
"//scilab 5.4.1\n",
"clear;\n",
"clc;\n",
"printf('\t\t\tProblem Number 10.1\n\n\n');\n",
"// Chapter 10 : Refrigeration\n",
"// Problem 10.1  (page no. 503) \n",
"// Solution\n",
"\n",
"T1=70+460; //70F=70+460 R //Energy flows into the system at reservoir at constant temperature T1(unit:R)\n",
"T2=32+460; //32F=32+460 R //Heat is rejected to the constant temperature T2(Unit:R)\n",
"printf('Solution for (a),\n');\n",
"COP=T2/(T1-T2); //Coefficient of performance\n",
"printf('Coefficient of performance(COP) of the cycle is %f\n\n',COP);\n",
"printf('Solution for (b),\n');\n",
"Qremoved=1000; //Unit:Btu/min //heat removal\n",
"WbyJ=Qremoved/COP; //The power required //Unit:Btu/min\n",
"printf('The power required is %f Btu/min\n\n',WbyJ);\n",
"printf('Solution for (c),\n');\n",
"Qrej=Qremoved+WbyJ; //The rate of heat rejected to the room  //Unit:Btu/min\n",
"printf('The rate of heat rejected to the room is %f Btu/min',Qrej);"
   ]
   }
,
{
		   "cell_type": "markdown",
		   "metadata": {},
		   "source": [
			"## Example 10.2: A_carnot_refrigeration_cycle.sce"
		   ]
		  },
  {
"cell_type": "code",
	   "execution_count": null,
	   "metadata": {
	    "collapsed": true
	   },
	   "outputs": [],
"source": [
"//scilab 5.4.1\n",
"clear;\n",
"clc;\n",
"printf('\t\t\tProblem Number 10.2\n\n\n');\n",
"// Chapter 10 : Refrigeration\n",
"// Problem 10.2  (page no. 504) \n",
"// Solution\n",
"\n",
"T1=20+273; //20C=20+273 R //Energy flows into the system at reservoir at constant temperature T1(unit:R)\n",
"T2=-5+273; //-5C=-5+273 R //Heat is rejected to the constant temperature T2(Unit:R)\n",
"printf('Solution for (a),\n');\n",
"COP=T2/(T1-T2); //Coefficient of performance\n",
"printf('Coefficient of performance(COP) of the cycle is %f\n\n',COP);\n",
"printf('Solution for (b),\n');\n",
"Qremoved=30; //Unit:kW //heat removal \n",
"W=Qremoved/COP; //power required //unit:kW\n",
"printf('The power required is %f kW \n\n',W);\n",
"printf('Solution for (c),\n');\n",
"Qrej=Qremoved+W; //The rate of heat rejected to the room  //Unit:kW\n",
"printf('The rate of heat rejected to the room is %f kW',Qrej);"
   ]
   }
,
{
		   "cell_type": "markdown",
		   "metadata": {},
		   "source": [
			"## Example 10.3: Defined_Ratings.sce"
		   ]
		  },
  {
"cell_type": "code",
	   "execution_count": null,
	   "metadata": {
	    "collapsed": true
	   },
	   "outputs": [],
"source": [
"//scilab 5.4.1\n",
"clear;\n",
"clc;\n",
"printf('\t\t\tProblem Number 10.3\n\n\n');\n",
"// Chapter 10 : Refrigeration\n",
"// Problem 10.3  (page no. 505) \n",
"// Solution\n",
"\n",
"T1=70+460; //70F=70+460 R //Energy flows into the system at reservoir at constant temperature T1(unit:R)\n",
"T2=20+460; //20F=20+460 R //Heat is rejected to the constant temperature T2(Unit:R)\n",
"printf('Solution for (a),\n');\n",
"COP=T2/(T1-T2); //Coefficient of performance\n",
"printf('Coefficient of performance(COP) of the cycle is %f\n\n',COP);\n",
"printf('Solution for (b),\n');\n",
"HPperTOR=4.717/COP; //Horsepower per ton of refrigeration //Unit:hp/ton\n",
"COPactual=2; //Actual Coefficient of performance(COP) is stated to be 2\n",
"HPperTORactual=4.717/COPactual; //Horsepower per ton of refrigeration(actual) //Unit:hp/ton\n",
"printf('The horsepower required by the actual cycle over the minimum is %f hp/ton',HPperTORactual-HPperTOR);"
   ]
   }
,
{
		   "cell_type": "markdown",
		   "metadata": {},
		   "source": [
			"## Example 10.4: Defined_Ratings.sce"
		   ]
		  },
  {
"cell_type": "code",
	   "execution_count": null,
	   "metadata": {
	    "collapsed": true
	   },
	   "outputs": [],
"source": [
"//scilab 5.4.1\n",
"clear;\n",
"clc;\n",
"printf('\t\t\tProblem Number 10.4\n\n\n');\n",
"// Chapter 10 : Refrigeration\n",
"// Problem 10.4  (page no. 506) \n",
"// Solution\n",
"\n",
"COP=4.5; //Coefficient of performance //From problem 10.1\n",
"HPperTOR=4.717/COP; //Horsepower per ton of refrigeration //Unit:hp/ton\n",
"Qremoved=1000; //Unit:Btu/min //From problem 10.1\n",
"//1000 Btu/min /200 Btu/min ton = 5 tons of refrigeration\n",
"HPrequired=HPperTOR*5; //The horsepower required //unit:hp\n",
"printf('The horsepower required is %f hp\n',HPrequired);\n",
"//In problem 10.1, 77.2 Btu/min was required\n",
"printf('The power required is %f hp\n',77.2*778*inv(33000)); //1 Btu=778 ft*lbf //1 min*hp = 33000 ft*lbf\n",
"//The ratio of the power required in each problem is the same as the inverse ratio of the COP value\n",
"//Therefore,\n",
"printf('The power required is %f hp\n',(COP/12.95)*HPrequired); //COP(in problem 10.1)=12.95\n",
"printf('This checks our results')"
   ]
   }
,
{
		   "cell_type": "markdown",
		   "metadata": {},
		   "source": [
			"## Example 10.5: Defined_Ratings.sce"
		   ]
		  },
  {
"cell_type": "code",
	   "execution_count": null,
	   "metadata": {
	    "collapsed": true
	   },
	   "outputs": [],
"source": [
"//scilab 5.4.1\n",
"clear;\n",
"clc;\n",
"printf('\t\t\tProblem Number 10.5\n\n\n');\n",
"// Chapter 10 : Refrigeration\n",
"// Problem 10.5  (page no. 506) \n",
"// Solution\n",
"\n",
"COP=10.72; //In the problem 10.2 //Coefficient of performance\n",
"P=2.8; //In the problem 10.2 //The power was 2.8 kW\n",
"COPactual=3.8; //Actual Coefficient of performance(COP)\n",
"power=P*COP/COPactual; //The power required  //unit:kW\n",
"printf('The power required is %f kW',power)"
   ]
   }
,
{
		   "cell_type": "markdown",
		   "metadata": {},
		   "source": [
			"## Example 10.6: Refrigeration_cycles.sce"
		   ]
		  },
  {
"cell_type": "code",
	   "execution_count": null,
	   "metadata": {
	    "collapsed": true
	   },
	   "outputs": [],
"source": [
"//scilab 5.4.1\n",
"clear;\n",
"clc;\n",
"printf('\t\t\tProblem Number 10.6\n\n\n');\n",
"// Chapter 10 : Refrigeration\n",
"// Problem 10.6  (page no. 509) \n",
"// Solution\n",
" \n",
"//From Appendix 3,at 120psia,the corresponding saturation temperature is 66 F, enthalpies are\n",
"h1=116.0; //Unit:Btu/lbm //enthalpy\n",
"h2=116.0; //Unit:Btu/lbm //Throttling gives h1=h2 //enthalpy\n",
"h3=602.4; //Unit:Btu/lbm //enthalpy\n",
"//From the consideration that s3=s4,h4 is found at 15 psia,\n",
"s3=1.3938; //s=entropy //Unit:Btu/(lbm*F)\n",
"//Therefore by interpolation in the superheat tables at 120 psia,\n",
"t4=237.4; //Unit:fahrenheit //temperature\n",
"h4=733.4; //Unit:Btu/lbm //enthalpy\n",
"printf('Solution for (a),\n');\n",
"COP=(h3-h1)/(h4-h3); //Coefficient of performance\n",
"printf('Coefficient of performance is %f\n\n',COP);\n",
"printf('Solution for (b),\n');\n",
"printf('The work of compression is %f Btu/lbm\n\n',h4-h3);\n",
"printf('Solution for (c),\n');\n",
"printf('The refrigatering effect is %f Btu/lbm\n\n',h3-h1);\n",
"printf('Solution for (d),\n');\n",
"tons=30; //capacity of 30 tons is desired\n",
"printf('The pounds per minute of ammonia required for ciculation is %f lbm/min\n\n',(200*tons)/(h3-h1));\n",
"printf('Solution for (e),\n');\n",
"printf('The ideal horsepower per ton of refrigeration is %f hp/ton\n\n',4.717*((h4-h3)/(h3-h1)));\n",
"\n",
""
   ]
   }
,
{
		   "cell_type": "markdown",
		   "metadata": {},
		   "source": [
			"## Example 10.7: Refrigeration_cycles.sce"
		   ]
		  },
  {
"cell_type": "code",
	   "execution_count": null,
	   "metadata": {
	    "collapsed": true
	   },
	   "outputs": [],
"source": [
"//scilab 5.4.1\n",
"clear;\n",
"clc;\n",
"printf('\t\t\tProblem Number 10.7\n\n\n');\n",
"// Chapter 10 : Refrigeration\n",
"// Problem 10.7  (page no. 510) \n",
"// Solution\n",
" \n",
"//From Appendix 3,110 psig corresponds to 96 F, enthalpies are\n",
"h1=30.14; //Unit:Btu/lbm //enthalpy\n",
"h2=30.14; //Unit:Btu/lbm //Throttling gives h1=h2 //enthalpy\n",
"h3=75.110; //Unit:Btu/lbm //enthalpy\n",
"//From the consideration that s3=s4,at -20F,\n",
"s3=0.17102; //Unit:Btu/(lbm*F) //s=entropy\n",
"//Therefore by interpolation in the Freon-12 superheat table at these values,\n",
"h4=89.293; //Unit:Btu/lbm //enthalpy\n",
"printf('Solution for (a),\n');\n",
"COP=(h3-h1)/(h4-h3); //Coefficient of performance\n",
"printf('Coefficient of performance is %f\n\n',COP);\n",
"printf('Solution for (b),\n');\n",
"printf('The work of compression is %f Btu/lbm\n\n',h4-h3);\n",
"printf('Solution for (c),\n');\n",
"printf('The refrigatering effect is %f Btu/lbm\n\n',h3-h1);\n",
"printf('Solution for (d),\n');\n",
"tons=30; //capacity of 30 tons is desired\n",
"printf('The pounds per minute of ammonia required for ciculation is %f lbm/min\n\n',(200*tons)/(h3-h1));\n",
"printf('Solution for (e),\n');\n",
"printf('The ideal horsepower per ton of refrigeration is %f hp/ton\n\n',4.717*((h4-h3)/(h3-h1)));\n",
"\n",
""
   ]
   }
,
{
		   "cell_type": "markdown",
		   "metadata": {},
		   "source": [
			"## Example 10.8: An_ideal_Refrigeration_cycle.sce"
		   ]
		  },
  {
"cell_type": "code",
	   "execution_count": null,
	   "metadata": {
	    "collapsed": true
	   },
	   "outputs": [],
"source": [
"//scilab 5.4.1\n",
"clear;\n",
"clc;\n",
"printf('\t\t\tProblem Number 10.8\n\n\n');\n",
"// Chapter 10 : Refrigeration\n",
"// Problem 10.8  (page no. 517) \n",
"// Solution\n",
" \n",
"//From Appendix 3,using the Freon-12 tables, enthalpies are\n",
"h1=28.713; //Unit:Btu/lbm //enthalpy\n",
"h2=28.713; //Unit:Btu/lbm //Throttling gives h1=h2 //enthalpy\n",
"h3=78.335; //Unit:Btu/lbm //enthalpy\n",
"//From the consideration that s3=s4,\n",
"s3=0.16798; //Unit:Btu/(lbm*F) //s=entropy\n",
"//Therefore by interpolation in the superheat tables at 90 F,\n",
"s=0.16798; //entropy at 90F //Btu/lbm*F\n",
"h4=87.192; //Unit:Btu/lbm //enthalpy\n",
"printf('The heat extracted is %f Btu/lbm\n\n',h3-h1);\n",
"printf('The work required is %f Btu/lbm\n\n',h4-h3);\n",
"COP=(h3-h1)/(h4-h3); //Coefficient of performance\n",
"printf('The Coefficient of performance(COP) of this ideal cycle is %f',COP);"
   ]
   }
,
{
		   "cell_type": "markdown",
		   "metadata": {},
		   "source": [
			"## Example 10.9: Coefficient_of_performance.sce"
		   ]
		  },
  {
"cell_type": "code",
	   "execution_count": null,
	   "metadata": {
	    "collapsed": true
	   },
	   "outputs": [],
"source": [
"//scilab 5.4.1\n",
"clear;\n",
"clc;\n",
"printf('\t\t\tProblem Number 10.9\n\n\n');\n",
"// Chapter 10 : Refrigeration\n",
"// Problem 10.9  (page no. 518) \n",
"// Solution\n",
" \n",
"//From Appendix 3,using the HFC-134a tables, enthalpies are\n",
"h1=41.6; //Unit:Btu/lbm //enthalpy\n",
"h2=41.6; //Unit:Btu/lbm //Throttling gives h1=h2 //enthalpy\n",
"h3=104.6; //Unit:Btu/lbm //enthalpy\n",
"//From the consideration that s3=s4,\n",
"s3=0.2244; //Unit:Btu/(lbm*F) //s=entropy\n",
"h4=116.0; //Unit:Btu/lbm //enthalpy\n",
"printf('The heat extracted is %f Btu/lbm\n\n',h3-h1);\n",
"printf('The work required is %f Btu/lbm\n\n',h4-h3);\n",
"COP=(h3-h1)/(h4-h3); //Coefficient of performance\n",
"printf('The Coefficient of performance(COP) of this ideal cycle is %f',COP);"
   ]
   }
],
"metadata": {
		  "kernelspec": {
		   "display_name": "Scilab",
		   "language": "scilab",
		   "name": "scilab"
		  },
		  "language_info": {
		   "file_extension": ".sce",
		   "help_links": [
			{
			 "text": "MetaKernel Magics",
			 "url": "https://github.com/calysto/metakernel/blob/master/metakernel/magics/README.md"
			}
		   ],
		   "mimetype": "text/x-octave",
		   "name": "scilab",
		   "version": "0.7.1"
		  }
		 },
		 "nbformat": 4,
		 "nbformat_minor": 0
}
