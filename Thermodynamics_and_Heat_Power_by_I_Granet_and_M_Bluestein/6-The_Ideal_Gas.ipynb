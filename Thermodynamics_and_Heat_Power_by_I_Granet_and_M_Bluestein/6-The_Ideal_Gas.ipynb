{
"cells": [
 {
		   "cell_type": "markdown",
	   "metadata": {},
	   "source": [
       "# Chapter 6: The Ideal Gas"
	   ]
	},
{
		   "cell_type": "markdown",
		   "metadata": {},
		   "source": [
			"## Example 6.10: The_mean_specific_heat_at_constant_pressure.sce"
		   ]
		  },
  {
"cell_type": "code",
	   "execution_count": null,
	   "metadata": {
	    "collapsed": true
	   },
	   "outputs": [],
"source": [
"clear;\n",
"clc;\n",
"printf('\t\t\tProblem Number 6.10\n\n\n');\n",
"// Chapter 6: The Ideal Gas\n",
"// Problem 6.10 (page no. 252) \n",
"// Solution\n",
"\n",
"//The table in Appendix 3 does not give us the enthalpy data at 960R and 540R that we need.Interpolating yields\n",
"//  T    hbar      T    hbar\n",
"// 537  3729.5    900   6268.1\n",
"// 540  3750.4    960   6694.0\n",
"// 600  4167.9    1000  6977.9\n",
"//So,\n",
"hbar540=3729.5+(3/63)*(4167.9-3729.5); //enthalpy //unit:Btu/lbm\n",
"hbar960=6268.1+(60/100)*(6977.9-6268.1);  //enthalpy //unit:Btu/lbm\n",
"//Note that hbar is given for a mass of 1 lb mole.To obtain the enthalpy per pound,it is necessary to divide the values og h by the molecular weight,28.\n",
"h2=6694.0;  //enthalpy //unit:Btu/lbm\n",
"h1=3750.4;  //enthalpy //unit:Btu/lbm\n",
"T2=500+460; //absolute  final temperature //unit:R\n",
"T1=80+460; //absolute initial temperature //unit:R\n",
"cbar=(h2-h1)/(28*(T2-T1)); //The mean specific heat at constant pressure  //unit:Btu/lbm*R\n",
"printf('The mean specific heat at constant pressure is %f Btu/lbm*R\n',cbar);\n",
"//With the more extesive Gas tables,these interpolations are avoided.The Gas Tables provide a relatively easy and accurate method of obtaining average specific heats.Also,these tables have been computerized for ease of application."
   ]
   }
,
{
		   "cell_type": "markdown",
		   "metadata": {},
		   "source": [
			"## Example 6.11: Determine_the_mean_specific_heat.sce"
		   ]
		  },
  {
"cell_type": "code",
	   "execution_count": null,
	   "metadata": {
	    "collapsed": true
	   },
	   "outputs": [],
"source": [
"clear;\n",
"clc;\n",
"printf('\t\t\tProblem Number 6.11\n\n\n');\n",
"// Chapter 6: The Ideal Gas\n",
"// Problem 6.11 (page no. 253) \n",
"// Solution\n",
"\n",
"T2=500+460; //absolute  final temperature  //unit:R\n",
"T1=80+460; //absolute initial temperature  //unit:R\n",
"//cp=0.219 + (3.42*10^-5*T) - (2.93*10^-9*T^2); //Unit:Btu/lbm*R\n",
"//Comparing with c=A+(B*T)+(D*T^2) \n",
"A=0.219;        //constant\n",
"B=3.42*10^-5;   //constant\n",
"D=2.93*10^-9;   //constant\n",
"//Using these values and equation cbar=A+((B/2)(T2+T1))+((D/3)*(T2^2+(T2*T1)+T1^2))\n",
"cpbar=A+((B/2)*(T2+T1))+((D/3)*(T2^2+(T2*T1)+T1^2)); //The mean specific heat //Btu/lbm*R\n",
"printf('The mean specific heat at constant pressure for air between 80F and 500F is %f Btu/lbm*R\n',cpbar);"
   ]
   }
,
{
		   "cell_type": "markdown",
		   "metadata": {},
		   "source": [
			"## Example 6.12: Determine_cv.sce"
		   ]
		  },
  {
"cell_type": "code",
	   "execution_count": null,
	   "metadata": {
	    "collapsed": true
	   },
	   "outputs": [],
"source": [
"clear;\n",
"clc;\n",
"printf('\t\t\tProblem Number 6.12\n\n\n');\n",
"// Chapter 6: The Ideal Gas\n",
"// Problem 6.12 (page no. 255) \n",
"// Solution\n",
"\n",
"//The molecular weight of oxygen is 32.Therefore,\n",
"R=1545/32; //Unit:ft*lbf/lbm*R //constant of proportionality\n",
"J=778; //conversion factor\n",
"cp=0.24; //Unit:Btu/lbm*R //specific heat at constant pressure\n",
"//cp-cv=R/J\n",
"cv=cp-(R/J); //specific heat at constant volume //unit:Btu/lbm*R\n",
"printf('Specific heat at constant volume is %f Btu/lbm*R\n',cv);"
   ]
   }
,
{
		   "cell_type": "markdown",
		   "metadata": {},
		   "source": [
			"## Example 6.13: Determine_cv_and_cp_in_SI_units.sce"
		   ]
		  },
  {
"cell_type": "code",
	   "execution_count": null,
	   "metadata": {
	    "collapsed": true
	   },
	   "outputs": [],
"source": [
"clear;\n",
"clc;\n",
"printf('\t\t\tProblem Number 6.13\n\n\n');\n",
"// Chapter 6: The Ideal Gas\n",
"// Problem 6.13 (page no. 255) \n",
"// Solution\n",
"\n",
"//From equation,cv=R/(k-1) ,\n",
"R=8.314/32; //constant of proportionality //kJ/kg*K //The molecular weight of oxygen is 32\n",
"k=1.4 //for oxygen //given //k=cp/cv\n",
"cv=R/(k-1); //Specific heat at constant volume //unit:kJ/kg*K\n",
"printf('Specific heat at constant volume is %f kJ/kg*K\n',cv);\n",
"cp=k*cv; //specific heat at constant pressure //Unit:kJ/kg*K\n",
"printf('Specific heat at constant pressure is %f kJ/kg*K\n',cp);"
   ]
   }
,
{
		   "cell_type": "markdown",
		   "metadata": {},
		   "source": [
			"## Example 6.14: Determine_k_cp_and_cv_for_the_gas.sce"
		   ]
		  },
  {
"cell_type": "code",
	   "execution_count": null,
	   "metadata": {
	    "collapsed": true
	   },
	   "outputs": [],
"source": [
"clear;\n",
"clc;\n",
"printf('\t\t\tProblem Number 6.14\n\n\n');\n",
"// Chapter 6: The Ideal Gas\n",
"// Problem 6.14 (page no. 255) \n",
"// Solution\n",
"\n",
"R=60; //Unit:ft*lbf/lbm*R //constant of proportionality\n",
"deltah=500; //Btu/lbm //change in enthalpy\n",
"deltau=350; //Btu/lbm //change in internal energy\n",
"J=778; //conversion factor\n",
"//Because deltah-(cp*deltaT) and deltau=cv*deltaT\n",
"// deltah/deltau=(cp*deltaT)/(cv*deltaT)=cp/cv=k\n",
"k=deltah/deltau; //Ratio of specific heats\n",
"printf('Ratio of specific heats k is %f\n',k);\n",
"//From equation cv=R/(J*(k-1))\n",
"cv=R/(J*(k-1)); //specific heat at constant volume //Btu/lbm*R\n",
"printf('Specific heat at constant volume is %f Btu/lbm*R\n',cv);\n",
"cp=k*cv; //Specific heat at constant pressure //Btu/lbm*R\n",
"printf('Specific heat at constant pressure is %f Btu/lbm*R\n',cp);"
   ]
   }
,
{
		   "cell_type": "markdown",
		   "metadata": {},
		   "source": [
			"## Example 6.15: Find_the_specific_heat_at_constant_pressure.sce"
		   ]
		  },
  {
"cell_type": "code",
	   "execution_count": null,
	   "metadata": {
	    "collapsed": true
	   },
	   "outputs": [],
"source": [
"clear;\n",
"clc;\n",
"printf('\t\t\tProblem Number 6.15\n\n\n');\n",
"// Chapter 6: The Ideal Gas\n",
"// Problem 6.15 (page no. 256) \n",
"// Solution\n",
"\n",
"//When solving this type of problem,it is necessary to note carefully the information given and to write the correct energy equation for this process.Because the    process is carried out at constant volume,the heat added equals the change in inernal energy.Because the change in internal energy per pound for the ideal gas is      cv*(T2-T1),the total change in internal energy for m pounds must equals the heat added.Thus,\n",
"//data given\n",
"Q=0.33; //heat\n",
"//Initial conditions\n",
"V=60; //in^3 //volume\n",
"m=0.0116; //lbs //mass\n",
"p1=90; //psia //pressure\n",
"T1=460+40; //Fahrenheit temperature converted to absolute temperature\n",
"//Final condition=Initial condition + heat\n",
"V=60; //in^3 //volume\n",
"m=0.0116; //lbs //mass\n",
"p2=108; //psia //pressure \n",
"T2=460+140; //Fahrenheit temperature converted to absolute temperature //unit:R\n",
"//Q=m*(u2-u1)=m*cv*(T2-T1)\n",
"cv=Q/(m*(T2-T1)); //specific heat at constant volume //Btu/lbm*R\n",
"printf('Specific heat at constant volume is %f Btu/lbm*R\n',cv);\n",
"//To obtain cp,it is first necessary to obtain R.Enough information was given in the initial conditions of the problem to apply eqn. p*V=m*R*T\n",
"R=(144*p1*(V/1728))/(m*T1); //1 ft^2=144 in^2 //1 ft^3=1728 in^3 //Unit:ft*lbf/lbm*R //constant of proportionality\n",
"printf('Constant of proportionality R is %f ft*lbf/lbm*R\n',R);\n",
"//cp-cv=(R/J)\n",
"J=778; //conversion factor\n",
"cp=cv+(R/J); //Specific heat at constant pressure //Btu/lbm*R\n",
"printf('Specific heat at constant pressure is %f Btu/lbm*R\n',cp);"
   ]
   }
,
{
		   "cell_type": "markdown",
		   "metadata": {},
		   "source": [
			"## Example 6.16: Determine_the_change_in_entropy.sce"
		   ]
		  },
  {
"cell_type": "code",
	   "execution_count": null,
	   "metadata": {
	    "collapsed": true
	   },
	   "outputs": [],
"source": [
"clear;\n",
"clc;\n",
"printf('\t\t\tProblem Number 6.16\n\n\n');\n",
"// Chapter 6: The Ideal Gas\n",
"// Problem 6.16 (page no. 260) \n",
"// Solution\n",
"\n",
"//data\n",
"cp=0.24; //Specific heat at constant pressure //Btu/lbm*R\n",
"p2=15; //psia //final pressure\n",
"p1=100; //psia //initial pressure\n",
"T2=460+0;  //absolute  final temperature //unit:R\n",
"T1=460+100; //absolute initial temperature  //unit:R\n",
"J=778; //conversion factor\n",
"R=1545/29; //moleculer weight=29 //Unit:ft*lbf/lbm*R //constant of proportionality\n",
" //On the basis of the data given,\n",
"deltas=(cp*(log(T2/T1)))-((R/J)*(log(p2/p1))); //change in entropy //Btu/lbm*R\n",
"printf('The change in enthalpy is %f Btu/lbm*R\n',deltas);"
   ]
   }
,
{
		   "cell_type": "markdown",
		   "metadata": {},
		   "source": [
			"## Example 6.17: Determine_change_in_entropy.sce"
		   ]
		  },
  {
"cell_type": "code",
	   "execution_count": null,
	   "metadata": {
	    "collapsed": true
	   },
	   "outputs": [],
"source": [
"clear;\n",
"clc;\n",
"printf('\t\t\tProblem Number 6.17\n\n\n');\n",
"// Chapter 6: The Ideal Gas\n",
"// Problem 6.17 (page no. 261) \n",
"// Solution\n",
"\n",
"//data of problem6.16\n",
"cp=0.24; //Specific heat at constant pressure //Btu/lbm*R\n",
"p2=15; //psia //final pressure\n",
"p1=100; //psia //initial pressure\n",
"T2=460+0;  //absolute  final temperature //unit:R\n",
"T1=460+100; //absolute initial temperature //unit:R\n",
"J=778; //conversion factor\n",
"R=1545/29; //moleculer weight=29 //Unit:ft*lbf/lbm*R //constant of proportionality\n",
"//Because cp and R are given,let us first solve for cv,\n",
"//cp=(R*k)/(J*(k-1))\n",
"k=(cp*J)/((cp*J)-R); //k=cp/cv //ratio of specific heats\n",
"printf('Ratio of specific heats k is %f\n',k);\n",
"//k=cp/cv\n",
"cv=cp/k; //Specific heat at constant volume //Btu/lbm*R\n",
"printf('Specific heat at constant volume is %f Btu/lbm*R\n',cv);\n",
"//Now, deltas=(cv*log(p2/p1))+(cp*log(v2/v1));\n",
"//But, v2/v1=(T2*p1)/(T1*p2)\n",
"v2byv1=(T2*p1)/(T1*p2); // v2/v1 //unitless\n",
"deltas=(cv*log(p2/p1))+(cp*log(v2byv1)); //The change in enthalpy  //unit:Btu/lbm*R\n",
"printf('The change in enthalpy is %f Btu/lbm*R\n',deltas);\n",
"//The agreement is very good."
   ]
   }
,
{
		   "cell_type": "markdown",
		   "metadata": {},
		   "source": [
			"## Example 6.18: Determine_the_change_in_entropy.sce"
		   ]
		  },
  {
"cell_type": "code",
	   "execution_count": null,
	   "metadata": {
	    "collapsed": true
	   },
	   "outputs": [],
"source": [
"clear;\n",
"clc;\n",
"printf('\t\t\tProblem Number 6.18\n\n\n');\n",
"// Chapter 6: The Ideal Gas\n",
"// Problem 6.18 (page no. 261) \n",
"// Solution\n",
"\n",
"//data,\n",
"cp=0.9093; //Specific heat at constant pressure //kJ/kg*R\n",
"p2=150; //kPa //final pressure\n",
"p1=500; //kPa //initial pressure\n",
"T2=273+0;  //final temperature //Celsius converted to kelvin\n",
"T1=273+100; //initial temperature //Celsius converted to kelvin\n",
"//J=778; //conversion factor\n",
"R=8.314/32; //moleculer weight of oxygen=32 //Unit:ft*lbf/lbm*R //constant of proportionality\n",
"//Using equation, and dropping J gives,\n",
"deltas=(cp*(log(T2/T1)))-((R)*(log(p2/p1))); //change in entropy //kJ/kg*K\n",
"//For 2 kg,\n",
"deltaS=2*deltas; //The change in enthalpy in kJ/K\n",
"printf('For 2 kg oxygen,The change in enthalpy is %f kJ/K\n',deltaS);"
   ]
   }
,
{
		   "cell_type": "markdown",
		   "metadata": {},
		   "source": [
			"## Example 6.19: Determine_the_increase_in_pressure.sce"
		   ]
		  },
  {
"cell_type": "code",
	   "execution_count": null,
	   "metadata": {
	    "collapsed": true
	   },
	   "outputs": [],
"source": [
"clear;\n",
"clc;\n",
"printf('\t\t\tProblem Number 6.19\n\n\n');\n",
"// Chapter 6: The Ideal Gas\n",
"// Problem 6.19 (page no. 262) \n",
"// Solution\n",
"\n",
"//from the equation, deltas/cv = (k*log(v2/v1))+ log(p2/p1) //change in entropy\n",
"k=1.4; //k=cp/cv //ratio of specific heats\n",
"//deltas=(1/4)*cv //so, \n",
"// 1/4= (k*log(v2/v1))+ log(p2/p1)\n",
"v2=1/2; //Because,v2=(1/2)*v1  //initial specific volume \n",
"v1=1;   //final specific volume\n",
"p2byp1=exp((1/4)-(k*log(v2/v1))); //increase in pressure\n",
"printf('p2/p1=%f\n',p2byp1);\n",
"printf('So,increase in pressure is %f ',p2byp1);"
   ]
   }
,
{
		   "cell_type": "markdown",
		   "metadata": {},
		   "source": [
			"## Example 6.1: Boyles_law.sce"
		   ]
		  },
  {
"cell_type": "code",
	   "execution_count": null,
	   "metadata": {
	    "collapsed": true
	   },
	   "outputs": [],
"source": [
"clear;\n",
"clc;\n",
"printf('\t\t\tProblem Number 6.1\n\n\n');\n",
"// Chapter 6: The Ideal Gas\n",
"// Problem 6.1 (page no. 241) \n",
"// Solution\n",
"\n",
"P1=100; //Pressure at volume V1=100 ft^3 //Unit:psia\n",
"V1=100; //Unit:ft^3 //V1=Volume at 100 psia\n",
"P2=30 // Reduced Pressure //Unit:psia\n",
"//Boyle's law,P1*V1=P2*V2\n",
"V2=(P1*V1)/P2; //Volume occupied by the gas //ft^3\n",
"printf('Volume occupied by the gas = %f ft^3',V2);"
   ]
   }
,
{
		   "cell_type": "markdown",
		   "metadata": {},
		   "source": [
			"## Example 6.20: Determine_change_in_entropy.sce"
		   ]
		  },
  {
"cell_type": "code",
	   "execution_count": null,
	   "metadata": {
	    "collapsed": true
	   },
	   "outputs": [],
"source": [
"clear;\n",
"clc;\n",
"printf('\t\t\tProblem Number 6.20\n\n\n');\n",
"// Chapter 6: The Ideal Gas\n",
"// Problem 6.20 (page no. 264) \n",
"// Solution\n",
"\n",
"//data\n",
"T2=460+270; //Fahrenheit temperature converted to absolute final temperature //unit:R\n",
"T1=460+70; //Fahrenheit temperature converted to absolute initial temperature //unit:R\n",
"cv=0.17; //specific heat at constant volume //Btu/lbm*R\n",
"//Now,\n",
"deltas=cv*log(T2/T1); //change in entropy //Unit:Btu/lbm*R\n",
"//For 1/2 lb,\n",
"deltaS=(1/2)*deltas; //The change in enthalpy in Btu/R\n",
"printf('For 1/2 lb of gas,The change in enthalpy is %f Btu/R\n',deltaS);"
   ]
   }
,
{
		   "cell_type": "markdown",
		   "metadata": {},
		   "source": [
			"## Example 6.21: Determine_the_change_in_entropy.sce"
		   ]
		  },
  {
"cell_type": "code",
	   "execution_count": null,
	   "metadata": {
	    "collapsed": true
	   },
	   "outputs": [],
"source": [
"clear;\n",
"clc;\n",
"printf('\t\t\tProblem Number 6.21\n\n\n');\n",
"// Chapter 6: The Ideal Gas\n",
"// Problem 6.21 (page no. 264) \n",
"// Solution\n",
"\n",
"//data\n",
"T2=100+273; //Celsius temperature converted to Kelvin //final temperature\n",
"T1=20+273; //Celsius temperature converted to Kelvin //initial temperature\n",
"cv=0.7186; //specific heat at constant volume //kJ/kg*K\n",
"//Now,\n",
"deltas=cv*log(T2/T1); //change in entropy //Unit:kJ/kg*K\n",
"//For 0.2 kg,\n",
"deltaS=(0.2)*deltas; //The change in enthalpy in kJ/K\n",
"printf('For 0.2 kg of air,The change in enthalpy is %f kJ/K\n',deltaS);"
   ]
   }
,
{
		   "cell_type": "markdown",
		   "metadata": {},
		   "source": [
			"## Example 6.22: Determine_the_higher_temperature.sce"
		   ]
		  },
  {
"cell_type": "code",
	   "execution_count": null,
	   "metadata": {
	    "collapsed": true
	   },
	   "outputs": [],
"source": [
"clear;\n",
"clc;\n",
"printf('\t\t\tProblem Number 6.22\n\n\n');\n",
"// Chapter 6: The Ideal Gas\n",
"// Problem 6.22 (page no. 264) \n",
"// Solution\n",
"\n",
"//data\n",
"deltas=0.0743; //change in entropy //Unit:Btu/lbm*R\n",
"T1=460+100; //Fahrenheit temperature converted to absolute initial temperature\n",
"cv=0.219; //specific heat at constant volume //Btu/lbm*R\n",
"//Now,\n",
"//deltas=cv*log(T2/T1); \n",
"T2=T1*exp(deltas/cv); //higher temperature //absolute temperature  //unit:R\n",
"printf('The higher temperature is %f R\n',T2)"
   ]
   }
,
{
		   "cell_type": "markdown",
		   "metadata": {},
		   "source": [
			"## Example 6.23: Determine_the_initial_temperature.sce"
		   ]
		  },
  {
"cell_type": "code",
	   "execution_count": null,
	   "metadata": {
	    "collapsed": true
	   },
	   "outputs": [],
"source": [
"clear;\n",
"clc;\n",
"printf('\t\t\tProblem Number 6.23\n\n\n');\n",
"// Chapter 6: The Ideal Gas\n",
"// Problem 6.23 (page no. 265) \n",
"// Solution\n",
"\n",
"//data\n",
"deltaS=0.4386; //change in entropy //Unit:kJ/K\n",
"T2=273+425; //Celsius temperature converted to kelvin //initial temperature\n",
"cv=0.8216; //specific heat at constant volume //kJ/kg*K\n",
"m=1.5; //mass //kg\n",
"//Now,\n",
"//deltas=m*cv*log(T2/T1); \n",
"T1=T2/(exp(deltaS/(m*cv))) //initial temperature //unit:K\n",
"printf('The initial temperature of the process is %f K or %f C\n',T1,T1-273)"
   ]
   }
,
{
		   "cell_type": "markdown",
		   "metadata": {},
		   "source": [
			"## Example 6.24: Determine_deltas_deltas_and_flow_work.sce"
		   ]
		  },
  {
"cell_type": "code",
	   "execution_count": null,
	   "metadata": {
	    "collapsed": true
	   },
	   "outputs": [],
"source": [
"clear;\n",
"clc;\n",
"printf('\t\t\tProblem Number 6.24\n\n\n');\n",
"// Chapter 6: The Ideal Gas\n",
"// Problem 6.24 (page no. 267) \n",
"// Solution\n",
"\n",
"//data given\n",
"T2=460+400; //Fahrenheit temperature converted to absolute final temperature //unit:R\n",
"T1=460+70; //Fahrenheit temperature converted to absolute initial temperature //unit:R\n",
"cp=0.24; //specific heat at constant pressure //Btu/lbm*R\n",
"J=778; //conversion factor\n",
"R=1545/29; //moleculer weight=29 //Unit:ft*lbf/lbm*R //constant of proportionality\n",
"//From the energy equation for the constant-pressure process,the heat transferred is deltah.Therefore,\n",
"//q=deltah=cp*(T2-T1)\n",
"deltah=cp*(T2-T1); //heat transferred //Btu/lb //into system\n",
"printf('The heat transferred is %f Btu/lb(into system)\n',deltah);\n",
"deltas=cp*log(T2/T1); //increase in entropy //Btu/lbm*R\n",
"printf('The increase in entropy is %f Btu/lbm*R\n',deltas);\n",
"//The flow work change is (p2*v2)/J - (p1*v1)/J = (R/J)*(T2-T1)\n",
"flowworkchange=(R/J)*(T2-T1); //Btu/lbm //The flow work change per pound of air\n",
"printf('The flow work change per pound of air is %f Btu/lbm\n',flowworkchange);\n",
"//In addition to each of the assumptions made in all the process being considered,it has further been tacitly assumed that these processes are carried out quasi-      statically and without friction."
   ]
   }
,
{
		   "cell_type": "markdown",
		   "metadata": {},
		   "source": [
			"## Example 6.25: Determine_the_heat_transferred_and_the_increase_in_entropy_per_kg_of_air.sce"
		   ]
		  },
  {
"cell_type": "code",
	   "execution_count": null,
	   "metadata": {
	    "collapsed": true
	   },
	   "outputs": [],
"source": [
"clear;\n",
"clc;\n",
"printf('\t\t\tProblem Number 6.25\n\n\n');\n",
"// Chapter 6: The Ideal Gas\n",
"// Problem 6.25 (page no. 268) \n",
"// Solution\n",
"\n",
"//data given\n",
"T2=500+273; //Celsius temperature converted to Kelvin //final temperature\n",
"T1=20+273; //Celsius temperature converted to Kelvin //initial temperature\n",
"cp=1.0062; //specific heat at constant pressure //kJ/kg*K\n",
"//From the energy equation for the constant-pressure process,the heat transferred is deltah.Therefore,\n",
"//q=deltah=cp*(T2-T1)\n",
"deltah=cp*(T2-T1); //heat transferred //kJ/kg //into system\n",
"printf('The heat transferred is per kilogram of air %f kJ/kg\n',deltah);\n",
"deltas=cp*log(T2/T1); //increase in entropy //kJ/kg*K\n",
"printf('The increase in entropy per kilogram of air is %f kJ/kg*K\n',deltas);"
   ]
   }
,
{
		   "cell_type": "markdown",
		   "metadata": {},
		   "source": [
			"## Example 6.26: Determine_the_heat_added_and_work_out_of_the_system.sce"
		   ]
		  },
  {
"cell_type": "code",
	   "execution_count": null,
	   "metadata": {
	    "collapsed": true
	   },
	   "outputs": [],
"source": [
"clear;\n",
"clc;\n",
"printf('\t\t\tProblem Number 6.26\n\n\n');\n",
"// Chapter 6: The Ideal Gas\n",
"// Problem 6.26 (page no. 270) \n",
"// Solution\n",
"\n",
"//data given\n",
"v2=2; //Because,v2=(2)*v1 //volume increases to its twice its final volume\n",
"v1=1; //initial volume\n",
"T=460+200; //Fahrenheit temperature converted to absolute temperature\n",
"J=778; //conversion factor\n",
"R=1545/28; //moleculer weight of nitrogen=28 //Unit:ft*lbf/lbm*R //constant of proportionality\n",
"//From the equation, w/J=q=T*deltas=((R*T)/J)*log(v2/v1)\n",
"q=((R*T)/J)*log(v2/v1); //Btu/lbm //the heat added to system\n",
"//For 0.1 lb,\n",
"Q=0.1*q; //Btu //the heat added to system\n",
"printf('The heat added to system is %f Btu\n',Q);\n",
"//The work out of the system is equal to the heat added;thus,\n",
"WbyJ=Q; //The work out of the system(out of the system) //unit:Btu\n",
"printf('The work out of the system is %f Btu(out of the system)\n',WbyJ);"
   ]
   }
,
{
		   "cell_type": "markdown",
		   "metadata": {},
		   "source": [
			"## Example 6.27: Determine_the_heat_added_and_workout_of_the_system.sce"
		   ]
		  },
  {
"cell_type": "code",
	   "execution_count": null,
	   "metadata": {
	    "collapsed": true
	   },
	   "outputs": [],
"source": [
"clear;\n",
"clc;\n",
"printf('\t\t\tProblem Number 6.27\n\n\n');\n",
"// Chapter 6: The Ideal Gas\n",
"// Problem 6.27 (page no. 270) \n",
"// Solution\n",
"\n",
"//data given\n",
"T=50+273; //Celsius temperature converted to Kelvin //final temperature //unit:K\n",
"v2=1/2; //Because,v2=(1/2)*v1 //volume increases to its half its final volume\n",
"v1=1;\n",
"R=8.314/32; //moleculer weight of oxygen=32 //Unit:kJ/kg*K //constant of proportionality\n",
"//From the equation, q=((R*T))*log(v2/v1)\n",
"q=R*T*log(v2/v1); //heat added //kJ/kg\n",
"printf('The heat added to system is %f kJ/kg(heat out of system)\n',q);\n",
"//The work out of the system is equal to the heat added;thus,\n",
"W=q; //The work out of the system  //unit:kJ/kg\n",
"printf('The work out of the system is %f kJ/kg(into system)\n',W);"
   ]
   }
,
{
		   "cell_type": "markdown",
		   "metadata": {},
		   "source": [
			"## Example 6.28: Determine_the_change_in_entropy.sce"
		   ]
		  },
  {
"cell_type": "code",
	   "execution_count": null,
	   "metadata": {
	    "collapsed": true
	   },
	   "outputs": [],
"source": [
"clear;\n",
"clc;\n",
"printf('\t\t\tProblem Number 6.28\n\n\n');\n",
"// Chapter 6: The Ideal Gas\n",
"// Problem 6.28 (page no. 271) \n",
"// Solution\n",
"\n",
"//data given in problem 6.27\n",
"T=50+273; //Celsius temperature converted to Kelvin //final temperature\n",
"v2=1/2; //Because,v2=(1/2)*v1 //volume increases to its half its final volume\n",
"v1=1;\n",
"R=8.314/32; //moleculer weight of oxygen=32 //Unit:kJ/kg*K //constant of proportionality\n",
"//From the equation, q=((R*T))*log(v2/v1)\n",
"q=R*T*log(v2/v1); //heat added //kJ/kg\n",
"printf('The heat added to system is %f kJ/kg(heat out of system)\n',q);\n",
"//For a constant temperature,\n",
"deltas=q/T; //Change in entropy //unit:kJ/kg*K\n",
"printf('The change in entropy is %f kJ/kg*K\n',deltas);"
   ]
   }
,
{
		   "cell_type": "markdown",
		   "metadata": {},
		   "source": [
			"## Example 6.29: Determine_the_final_state_and_work_done_by_the_air.sce"
		   ]
		  },
  {
"cell_type": "code",
	   "execution_count": null,
	   "metadata": {
	    "collapsed": true
	   },
	   "outputs": [],
"source": [
"clear;\n",
"clc;\n",
"printf('\t\t\tProblem Number 6.29\n\n\n');\n",
"// Chapter 6: The Ideal Gas\n",
"// Problem 6.29 (page no. 274) \n",
"// Solution\n",
"\n",
"//data given\n",
"T1=1000; //absolute initial temperature //unit:R\n",
"p2=1; //unit:atm //absolute final pressure\n",
"p1=5; //unit:atm //absolute initial pressure\n",
"J=778; //conversion factor\n",
"R=1545/29; //moleculer weight=29 //Unit:ft*lbf/lbm*R //constant of proportionality\n",
"k=1.4; //k=cp/cv //ratio of specific heats\n",
"//From the equation, \n",
"T2=T1*((p2/p1)^((k-1)/k)); //Unit:R //The absolute final temperature\n",
"printf('The absolute final temperature is %f R\n',T2);\n",
"work=(R*(T2-T1))/(J*(1-k)); //Btu/lbm //The work done by air(out)\n",
"printf('The work done by air is %f Btu/lbm(out)\n',work)"
   ]
   }
,
{
		   "cell_type": "markdown",
		   "metadata": {},
		   "source": [
			"## Example 6.2: Boyles_law.sce"
		   ]
		  },
  {
"cell_type": "code",
	   "execution_count": null,
	   "metadata": {
	    "collapsed": true
	   },
	   "outputs": [],
"source": [
"clear;\n",
"clc;\n",
"printf('\t\t\tProblem Number 6.2\n\n\n');\n",
"// Chapter 6: The Ideal Gas\n",
"// Problem 6.2 (page no. 241) \n",
"// Solution\n",
"\n",
"P1=10^6; //Pressure at volume V1=2 m^3 //Unit:Pa\n",
"V1=2; //Unit:m^3 //V1=Volume at 10^6 Pa\n",
"P2=8*10^6 // Increased Pressure //Unit:Pa\n",
"//Boyle's law,P1*V1=P2*V2\n",
"V2=(P1*V1)/P2; //Volume occupied by gas //unit:m^3\n",
"printf('Volume occupied by gas = %f m^3',V2);"
   ]
   }
,
{
		   "cell_type": "markdown",
		   "metadata": {},
		   "source": [
			"## Example 6.30: Determine_the_final_state_and_work_done.sce"
		   ]
		  },
  {
"cell_type": "code",
	   "execution_count": null,
	   "metadata": {
	    "collapsed": true
	   },
	   "outputs": [],
"source": [
"clear;\n",
"clc;\n",
"printf('\t\t\tProblem Number 6.30\n\n\n');\n",
"// Chapter 6: The Ideal Gas\n",
"// Problem 6.30 (page no. 274) \n",
"// Solution\n",
"\n",
"//data given\n",
"//mass of 1 kg\n",
"T1=500+273; //Celsius temperature converted to Kelvin //final temperature\n",
"p2=1; //atm //absolute final pressure\n",
"p1=5; //atm //absolute initial pressure\n",
"J=778; //conversion factor\n",
"R=8.314/29; //moleculer weight=29 //Unit:kJ/kg*K //constant of proportionality\n",
"k=1.4; //k=cp/cv //ratio of specific heat\n",
"//From the equation, \n",
"T2=T1*((p2/p1)^((k-1)/k)); //Unit:Kelvin //The absolute final temperature\n",
"printf('The absolute final temperature is %f K or %f C\n',T2,T2-273);\n",
"work=(R*(T2-T1))/((1-k)); //kJ/kg //The work done by air(out)\n",
"printf('The work done by air is %f kJ/kg(out)\n',work)"
   ]
   }
,
{
		   "cell_type": "markdown",
		   "metadata": {},
		   "source": [
			"## Example 6.31: Determine_value_of_k.sce"
		   ]
		  },
  {
"cell_type": "code",
	   "execution_count": null,
	   "metadata": {
	    "collapsed": true
	   },
	   "outputs": [],
"source": [
"clear;\n",
"clc;\n",
"printf('\t\t\tProblem Number 6.31\n\n\n');\n",
"// Chapter 6: The Ideal Gas\n",
"// Problem 6.31 (page no. 275) \n",
"// Solution\n",
"\n",
"//data given\n",
"T1=800+273; //Celsius temperature converted to Kelvin //initial temperature\n",
"T2=500+273; //Celsius temperature converted to Kelvin //final temperature\n",
"p2=1; //atm //absolute final pressure\n",
"p1=5; //atm //absolute initial pressure\n",
"//A gas expands isentropically\n",
"//From the equation,\n",
"//T2/T1=((p2/p1)^((k-1)/k));\n",
"//rearranging,\n",
"k=inv(1-((log(T2/T1)/log(p2/p1)))); //k=cp/cv //Ratio of specific heats\n",
"printf('Ratio of specific heats (k) is %f\n',k);"
   ]
   }
,
{
		   "cell_type": "markdown",
		   "metadata": {},
		   "source": [
			"## Example 6.32: Determine_q_work_and_change_in_entropy.sce"
		   ]
		  },
  {
"cell_type": "code",
	   "execution_count": null,
	   "metadata": {
	    "collapsed": true
	   },
	   "outputs": [],
"source": [
"clear;\n",
"clc;\n",
"printf('\t\t\tProblem Number 6.32\n\n\n');\n",
"// Chapter 6: The Ideal Gas\n",
"// Problem 6.32 (page no. 279) \n",
"// Solution\n",
"\n",
"//data given\n",
"n=1.3; //p*v^1.3=constant\n",
"k=1.4; //k=cp/cv Ratio of specific heats \n",
"cp=0.24; //specific heat at constant pressure //Btu/lbm*R\n",
"T2=600; //absolute final temperature //unit:R\n",
"T1=1500; //absolute initial temperature //unit:R\n",
"R=53.3; //Unit:ft*lbf/lbm*R //constant of proportionality\n",
"J=778; //conversion factor\n",
"cv=cp/k; //specific heat at constant volume //Btu/lbm*R\n",
"//Therefore,\n",
"cn=cv*((k-n)/(1-n)); //Polytropic specific heat //Btu/lbm*R\n",
"printf('Polytropic specific heat(cn) is %f Btu/lbm*R\n',cn);\n",
"//The negative sign of cn indicates that either the heat transfer for the process comes from the system or there is a negative temperature change while heat is        transferred to the system.\n",
"//The heat transferred is cn*(T2-T1).Therefore,\n",
"q=cn*(T2-T1); //heat transferred //Btu/lbm(to the system)\n",
"printf('The heat transferred is %f Btu/lbm(to the system)\n',q);\n",
"//The work done can be found using equation,\n",
"w=(R*(T2-T1))/(J*(1-n)); //Btu/lbm //the workdone(from the system)\n",
"printf('The work done is %f Btu/lbm(from the system)\n',w);\n",
"deltas=cn*log(T2/T1)' //change in entropy //Btu/lbm*R\n",
"printf('The change in enthalpy is %f Btu/lbm*R\n',deltas);"
   ]
   }
,
{
		   "cell_type": "markdown",
		   "metadata": {},
		   "source": [
			"## Example 6.33: Ratio_of_inlet_pressure_to_outlet_pressure.sce"
		   ]
		  },
  {
"cell_type": "code",
	   "execution_count": null,
	   "metadata": {
	    "collapsed": true
	   },
	   "outputs": [],
"source": [
"clear;\n",
"clc;\n",
"printf('\t\t\tProblem Number 6.33\n\n\n');\n",
"// Chapter 6: The Ideal Gas\n",
"// Problem 6.33 (page no. 279) \n",
"// Solution\n",
"\n",
"//data given in problem 6.32,\n",
"n=1.3; //p*v^1.3=constant\n",
"k=1.4; //k=cp/cv //ratio of specific heats\n",
"cp=0.24; //specific heat at constant pressure //Btu/lbm*R\n",
"T2=600; //absolute final temperature //unit:R\n",
"T1=1500; //absolute initial temperature //unir:R\n",
"R=53.3; //Unit:ft*lbf/lbm*R //constant of proportionality\n",
"J=778; //conversion factor\n",
"//Equation,\n",
"// T1/T2=((p1/p2)^((n-1)/n));\n",
"//rearranging,\n",
"p1byp2=exp(log(T1/T2)/((n-1)/n)); //The ratio of inlet to outlet pressure\n",
"printf('The ratio of inlet to outlet pressure is %f\n',p1byp2);"
   ]
   }
,
{
		   "cell_type": "markdown",
		   "metadata": {},
		   "source": [
			"## Example 6.34: Change_in_enthalpy_internal_energy_and_entropy.sce"
		   ]
		  },
  {
"cell_type": "code",
	   "execution_count": null,
	   "metadata": {
	    "collapsed": true
	   },
	   "outputs": [],
"source": [
"clear;\n",
"clc;\n",
"printf('\t\t\tProblem Number 6.34\n\n\n');\n",
"// Chapter 6: The Ideal Gas\n",
"// Problem 6.34 (page no. 284) \n",
"// Solution\n",
"\n",
"//From the table at 1000 R:                     //From the table at 500 R:\n",
"h2=240.98;                                       h1=119.48; \n",
"//Btu/lbm //enthalpy                             //Btu/lbm //enthalpy\n",
"u2=172.43;                                       u1=85.20; \n",
"//Btu/lbm //internal energy                      //Btu/lbm //internal energy \n",
"fy2=0.75042;                                     fy1=0.58233; \n",
"//Btu/lbm*R                                      //Btu/lbm*R\n",
"\n",
"//The change in enthalpy is\n",
"deltah=h2-h1; //Btu/lbm\n",
"//The change in internal energy is\n",
"deltau=u2-u1; //Btu/lbm\n",
"printf('The change in enthalpy is %f Btu/lbm & the change in internal energy is %f Btu/lbm\n',deltah,deltau);\n",
"//Because in the constant-pressure process -R*log(p2/p1) is zero,\n",
"deltas=fy2-fy1; //Btu/lbm*R //The entropy when air is heated at constant pressure\n",
"printf('The entropy when air is heated at constant pressure is %f Btu/lbm/R\n',deltas);"
   ]
   }
,
{
		   "cell_type": "markdown",
		   "metadata": {},
		   "source": [
			"## Example 6.35: Determine_final_temperature_and_workdone.sce"
		   ]
		  },
  {
"cell_type": "code",
	   "execution_count": null,
	   "metadata": {
	    "collapsed": true
	   },
	   "outputs": [],
"source": [
"clear;\n",
"clc;\n",
"printf('\t\t\tProblem Number 6.35\n\n\n');\n",
"// Chapter 6: The Ideal Gas\n",
"// Problem 6.35 (page no. 285) \n",
"// Solution\n",
"\n",
"//In this problem,the air expands from 5 atm absolute to 1 atm absolute from an initial temperature of 1000R,\n",
"pr=12.298; //relative pressure //unit:atm \n",
"h=240.98; //Btu/lbm //enthalpy \n",
"pr=12.298/5; //The value of the final relative pressure //unit:atm\n",
"//Interpolation in the air table yields the following:\n",
"//   T     pr\n",
"//  620   2.249\n",
"//        2.4596\n",
"//  640   2.514\n",
"T=620+(((2.4596-2.249)/(2.514-2.249))*20); //the final temperature //unit:R\n",
"printf('The absolute final temperature is %f R\n',T);\n",
"u1=172.43; //initial internal energy //Btu/lbm\n",
"u2=108.51; //final internal energy //Btu/lbm\n",
"work=u1-u2; //Btu/lbm The work done by air in an isentropic nonflow expansion //where the value of u2 is obtained by interpolation at T  temperature and the value of u1 is read from the air table at 1000 R. \n",
"printf('The work done by air in an isentropic nonflow expansion is %f Btu/lbm(out)\n',work)"
   ]
   }
,
{
		   "cell_type": "markdown",
		   "metadata": {},
		   "source": [
			"## Example 6.36: Determine_the_velocity_of_sound_air_and_hydrogen.sce"
		   ]
		  },
  {
"cell_type": "code",
	   "execution_count": null,
	   "metadata": {
	    "collapsed": true
	   },
	   "outputs": [],
"source": [
"clear;\n",
"clc;\n",
"printf('\t\t\tProblem Number 6.36\n\n\n');\n",
"// Chapter 6: The Ideal Gas\n",
"// Problem 6.36 (page no. 288) \n",
"// Solution\n",
"\n",
"T=1000+460; //Fahrenheit temperature converted to absolute temperature\n",
"//The velocity of sound in air at 1000 F is\n",
"Va=49.0*sqrt(T); //velocity //ft/s\n",
"printf('The velocity of sound air at 1000 F is %f ft/s\n',Va);\n",
"//Hydrogen has a specific heat ratio of 1.41 and R=766.53.Therefore,\n",
"khydrogen=1.41; //specific heats ratio for air\n",
"kair=1.40; //specific heats ratio for air\n",
"Rhydrogen=766.53; //gas constant //ft*lbf/lbm*R\n",
"Rair=53.36; //gas constant //ft*lbf/lbm*R\n",
"// Vahydrogen/Vaair = sqrt((Rhydrogen*khydrogen)/(Rair*kair))\n",
"//rearranging,\n",
"Vahydrogen=Va*sqrt((Rhydrogen*khydrogen)/(Rair*kair)); //The velocity of sound in hydrogen at 1000 F //unit:ft/s\n",
"printf('The velocity of sound in hydrogen at 1000 F is %f ft/s\n',Vahydrogen);"
   ]
   }
,
{
		   "cell_type": "markdown",
		   "metadata": {},
		   "source": [
			"## Example 6.37: Determine_the_mach_number.sce"
		   ]
		  },
  {
"cell_type": "code",
	   "execution_count": null,
	   "metadata": {
	    "collapsed": true
	   },
	   "outputs": [],
"source": [
"clear;\n",
"clc;\n",
"printf('\t\t\tProblem Number 6.37\n\n\n');\n",
"// Chapter 6: The Ideal Gas\n",
"// Problem 6.37 (page no. 288) \n",
"// Solution\n",
"\n",
"T=200+460; //Fahrenheit temperature converted to absolute temperature //unit:R\n",
"V=1500; //ft/s //the local velocity\n",
"Va=49.0*sqrt(T); //velocity of sound air at 200 F  //unit:ft/s\n",
"printf('The velocity of sound air at 200 F is %f ft/s\n',Va);\n",
"M=V/Va; //The Mach number=the local velocity/velocity of sound //unitless\n",
"printf('The Mach number is %f\n',M);"
   ]
   }
,
{
		   "cell_type": "markdown",
		   "metadata": {},
		   "source": [
			"## Example 6.38: Determine_the_total_enthalpy.sce"
		   ]
		  },
  {
"cell_type": "code",
	   "execution_count": null,
	   "metadata": {
	    "collapsed": true
	   },
	   "outputs": [],
"source": [
"clear;\n",
"clc;\n",
"printf('\t\t\tProblem Number 6.38\n\n\n');\n",
"// Chapter 6: The Ideal Gas\n",
"// Problem 6.38 (page no. 290) \n",
"// Solution\n",
"\n",
"//data given\n",
"V=1000; //ft/s //the fluid velocity\n",
"gc=32.17; //Unit:(LBm*ft)/(LBf*s^2) //gc is constant of proportionality\n",
"J=778; //conversion factor\n",
"h=1204.4; //Btu/lbm //enthalpy of saturated steam\n",
"//h0-h=V^2/(2*gc*J) \n",
"h0=h+((V^2)/(2*gc*J));  //Btu/lbm //h0=stagnation enthalpy\n",
"printf('The total enthalpy is %f Btu/lbm\n',h0);\n",
"//It will be noted for this problem that if the initial velocity had been 100ft/s,deltah would have been 0.2 Btu/lbm,and for most practical purpposes,the total      properties and those of the flowing fluid would have been essentially the same.Thus,for low-velocity fluids,the difference in total and steam properties can be      neglected."
   ]
   }
,
{
		   "cell_type": "markdown",
		   "metadata": {},
		   "source": [
			"## Example 6.39: Converging_and_Diverging_Nozzles.sce"
		   ]
		  },
  {
"cell_type": "code",
	   "execution_count": null,
	   "metadata": {
	    "collapsed": true
	   },
	   "outputs": [],
"source": [
"clear;\n",
"clc;\n",
"printf('\t\t\tProblem Number 6.39\n\n\n');\n",
"// Chapter 6: The Ideal Gas\n",
"// Problem 6.39 (page no. 297) \n",
"// Solution\n",
"\n",
"k=1.4; //the specific heats ratio //k=cp/cv\n",
"M=1; //(table 6.5) //The Mach number=the local velocity/velocity of sound\n",
"T0=800; //absolute temperature //unit:R\n",
"gc=32.17; //Unit:(LBm*ft)/(LBf*s^2) //gc is constant of proportionality\n",
"R=53.35; //gas constant //ft*lbf/lbm*R\n",
"p0=300; //psia //pressure\n",
"\n",
"// * or 'star' subscripts to conditions in which M=1;\n",
"// '0' subscript refers to isentropic stagnation\n",
"//Refer to figure 6.26,\n",
"//Tstar/T0=0.8333\n",
"Tstar=T0*0.8333; //temperature when M=1 //unit:R\n",
"printf('If the mach number at the outlet is unity,temperature is %f R\n',Tstar);\n",
"Vat=sqrt(gc*R*Tstar*k); //ft/s //Vat=V2 //local velocity of sound\n",
"printf('If the mach number at the outlet is unity,velocity is %f ft/s\n\n',Vat)\n",
"\n",
"//For A/Astar=2.035\n",
"//The table yields\n",
"M1=0.3; //mach number at inlet\n",
"printf('At inlet,The mach number is %f\n',M1)\n",
"//pstar/p0=0.52828\n",
"pstar=p0*0.52828;  //pressure when M=1 //psia\n",
"//also,\n",
"//T1/T0=0.98232 and p1/p0=0.93947\n",
"//Therefore,\n",
"T1=T0*0.982332; //unit:R //T1=temperature at inlet\n",
"printf('At inlet,The temperature is %f R\n',T1);\n",
"p1=p0*0.93947; //psia //p1=pressure at inlet\n",
"printf('At inlet,The pressure is %f psia\n',p1);\n",
"//From the inlet conditions derived,\n",
"Va1=sqrt(gc*k*R*T1); //ft/s //V1=velocity at inlet\n",
"V1=M1*Va1; //ft/s //velocity\n",
"printf('At inlet,The velocity is %f ft/s\n',V1);\n",
"//The specific volume at inlet is found from the equation of state for an ideal gas:\n",
"v=(R*T1)/(p1*144); //ft^3/lbm //1 ft^2=144 in^2(for conversion of unit) //specific volume\n",
"rho=inv(v); //inverse of specific volume //density\n",
"A=2.035; //area //ft^2\n",
"m=rho*A*V1; //mass flow //unit:lbm/s\n",
"printf('At inlet,The mass flow is %f lbm/s\n',m);"
   ]
   }
,
{
		   "cell_type": "markdown",
		   "metadata": {},
		   "source": [
			"## Example 6.3: Charles_law.sce"
		   ]
		  },
  {
"cell_type": "code",
	   "execution_count": null,
	   "metadata": {
	    "collapsed": true
	   },
	   "outputs": [],
"source": [
"clear;\n",
"clc;\n",
"printf('\t\t\tProblem Number 6.3\n\n\n');\n",
"// Chapter 6: The Ideal Gas\n",
"// Problem 6.3 (page no. 242) \n",
"// Solution\n",
"\n",
"T1=32+460; //Temperature at volume V1=150 ft^3 //Unit:R\n",
"V1=150; //Unit:ft^3 //V1=Volume at 32 F\n",
"T2=100+460 // Increased Temperature //Unit:R\n",
"//Charles's law,V1/V2 = T1/T2\n",
"V2=(T2*V1)/T1; //Volume occupied by gas //unit:m^3\n",
"printf('Volume occupied by gas = %f m^3',V2);"
   ]
   }
,
{
		   "cell_type": "markdown",
		   "metadata": {},
		   "source": [
			"## Example 6.40: Converging_and_Diverging_Nozzles.sce"
		   ]
		  },
  {
"cell_type": "code",
	   "execution_count": null,
	   "metadata": {
	    "collapsed": true
	   },
	   "outputs": [],
"source": [
"clear;\n",
"clc;\n",
"printf('\t\t\tProblem Number 6.40\n\n\n');\n",
"// Chapter 6: The Ideal Gas\n",
"// Problem 6.40 (page no. 299) \n",
"// Solution\n",
"\n",
"// * or 'star' subscripts to conditions in which M=1;\n",
"// '0' subscript refers to isentropic stagnation\n",
"//This problem will be solved by two methods(A and B)\n",
"printf('Method A\n'); //By equations:\n",
"k=1.4; //the specific heat ratio //k=cp/cv\n",
"R=53.3; //gas constant //ft*lbf/lbm*R\n",
"M=2.5; //mach number=the local velocity/velocity of sound\n",
"printf('Solution for (a)\n');\n",
"// T/Tstar = (k+1)/(2*(1+((1/2)*(k-1)*M^2)))\n",
"// Tstar/T0=2/(k+1)\n",
"//Therefore,\n",
"// (Tstar/T0)*(T/Tstar) = (T/T0)=1/(1+((1/2)*(k-1)*M^2))\n",
"T0=560; //absolute temperature or stagnation temperature //unit:R\n",
"T=T0/(1+((1/2)*(k-1)*M^2)); //temperature at M=2.5\n",
"printf('The temperature is %f R\n\n',T);\n",
"printf('Solution for (b)\n');\n",
"p=0.5; //static pressure //unit:psia\n",
"// p0/p = (T0/T)^(k/(k-1))\n",
"p0=p*14.7*((T0/T)^(k/(k-1))); //pressure at M=2.5 //unit:psia\n",
"printf('The pressure is %f psia\n\n',p0);\n",
"printf('Solution for (c)\n');\n",
"gc=32.17; //Unit:(LBm*ft)/(LBf*s^2) //gc is constant of proportionality\n",
"Va=sqrt(gc*k*R*T); //ft/s //local velocity of sound\n",
"V=M*Va; //valocity at M=2.5 //unit:ft/s\n",
"printf('The velocity is %f ft/s\n\n',V);\n",
"printf('Solution for (d)\n');\n",
"v=(R*T)/(p*14.7*144); //ft^3/lbm //1 ft^2=144 in^2 //specific volume at M=2.5\n",
"printf('The specific volume is %f ft^3/lbm\n\n',v);\n",
"printf('Solution for (e)\n');\n",
"//Mass velocity is definrd as the mass flow per unit area\n",
"// m/A=(A*V)/(v*A)=V/v\n",
"printf('The mass velocity is %f lbm/(s*ft^2)\n\n\n',V/v); //mass velocity at M=2.5\n",
"\n",
"\n",
"printf('Method B\n'); //By the gas tables: //table 6.5 gives\n",
"M=2.5; //mach number=the local velocity/velocity of sound\n",
"printf('Solution for (a)\n');\n",
"T0=560; //absolute temperature or stagnation temperature\n",
"//T/T0=0.44444\n",
"T=T0*0.44444; //temperature at M=2.5\n",
"printf('The temperature is %f R\n\n',T)\n",
"printf('Solution for (b)\n');\n",
"p=0.5; //static pressure\n",
"//p/p0=0.05853\n",
"p0=(p*14.7)/0.05853; //pressure at M=2.5\n",
"printf('The pressure is %f psia\n\n',p0);\n",
"printf('Solution for (c)\n');\n",
"printf('As before %f ft/s\n\n',V)\n",
"printf('Solution for (d)\n');\n",
"printf('As before %f ft^3/lbm\n\n',v)\n",
"printf('Solution for (e)\n');\n",
"printf('As before %f lbm/(s*ft^1)\n',V/v)"
   ]
   }
,
{
		   "cell_type": "markdown",
		   "metadata": {},
		   "source": [
			"## Example 6.41: Real_Gases.sce"
		   ]
		  },
  {
"cell_type": "code",
	   "execution_count": null,
	   "metadata": {
	    "collapsed": true
	   },
	   "outputs": [],
"source": [
"clear;\n",
"clc;\n",
"printf('\t\t\tProblem Number 6.41\n\n\n');\n",
"// Chapter 6: The Ideal Gas\n",
"// Problem 6.41 (page no. 304) \n",
"// Solution\n",
"\n",
"//For Methane(CH4,MW=16)\n",
"p=500; //evaluate specific volume at p pressure //Unit:psia\n",
"pc=674; //critical temperature //Unit:psia\n",
"T=50+460; //evaluate specific volume at T temperature //Unit:R\n",
"Tc=343; //critical temperature //Unit:R\n",
"R=1545/16; //gas constant R = 1545/Molecular Weight //ft*lbf/lbm*R\n",
"pr=p/pc; //reduced pressure //unit:psia\n",
"Tr=T/Tc; //reduced temperature //unit:R\n",
"//Reading figure 6.28 at these values gives\n",
"Z=0.93; //compressibility factor\n",
"//Z=(p*v)/(R*T)\n",
"v=Z*((R*T)/(p*144)); //ft^3/lbm //1 ft^2=144 in^2(for conversion of unit) //specific volume\n",
"printf('Using the value of Z=0.93,the specific volume is %f ft^3/lbm\n',v);\n",
"//For ideal gas,\n",
"v=(R*T)/(p*144); //ft^3/lbm //1 ft^2=144 in^2(for conversion of unit) //specific volume\n",
"printf('For the ideal gas,the specific volume is %f ft^3/lbm\n',v);"
   ]
   }
,
{
		   "cell_type": "markdown",
		   "metadata": {},
		   "source": [
			"## Example 6.4: Percent_increase_in_ideal_gas.sce"
		   ]
		  },
  {
"cell_type": "code",
	   "execution_count": null,
	   "metadata": {
	    "collapsed": true
	   },
	   "outputs": [],
"source": [
"clear;\n",
"clc;\n",
"printf('\t\t\tProblem Number 6.4\n\n\n');\n",
"// Chapter 6: The Ideal Gas\n",
"// Problem 6.4 (page no. 242) \n",
"// Solution\n",
"\n",
"//If for this process T2=1.25*T1,\n",
"// T2/T1 = 1.25\n",
"//Therefore,\n",
"// p2/p1 = T2/T1 //Charles's law(volume constant)\n",
"//Thus,\n",
"printf('The absolute gas pressure increases by 25 percent\n');"
   ]
   }
,
{
		   "cell_type": "markdown",
		   "metadata": {},
		   "source": [
			"## Example 6.5: Determine_Final_volume.sce"
		   ]
		  },
  {
"cell_type": "code",
	   "execution_count": null,
	   "metadata": {
	    "collapsed": true
	   },
	   "outputs": [],
"source": [
"clear;\n",
"clc;\n",
"printf('\t\t\tProblem Number 6.5\n\n\n');\n",
"// Chapter 6: The Ideal Gas\n",
"// Problem 6.5 (page no. 242) \n",
"// Solution\n",
"\n",
"V1=4; //m^3 //initial volume\n",
"T2=0+273; //celsius converted to kelvin  //gas is cooled to 0 C //final temperature\n",
"T1=100+273; //celsius converted to kelvin //initial temperature\n",
"V2=V1*(T2/T1); //final volume //Charles's law(pressure constant) //unit:m^3\n",
"printf('The final volume is %f m^3',V2);"
   ]
   }
,
{
		   "cell_type": "markdown",
		   "metadata": {},
		   "source": [
			"## Example 6.6: The_gas_in_the_container.sce"
		   ]
		  },
  {
"cell_type": "code",
	   "execution_count": null,
	   "metadata": {
	    "collapsed": true
	   },
	   "outputs": [],
"source": [
"clear;\n",
"clc;\n",
"printf('\t\t\tProblem Number 6.6\n\n\n');\n",
"// Chapter 6: The Ideal Gas\n",
"// Problem 6.6 (page no. 245) \n",
"// Solution\n",
"\n",
"//Let us first put each of the given variables into a consistent set of units:\n",
"p=(200+14.7)*(144); //Unit:psfa*(lbf/ft^2) //1 ft^2=144 in^2 //pressure\n",
"T=(460+73); //Fahrenheit temperature converted to absolute temperature //unit:R\n",
"V=120/1728;  //1 ft^3=1728 in^3 //total volume //unit:ft^3\n",
"R=1545/28; //Unit:ft*lbf/lbm*R //because the molecular weight of nitrogen is 28 //constant of proportionality\n",
"//Applying, p*v=R*T, //ideal gas law\n",
"v=(R*T)/p; //Unit:ft^3/lbm //specific volume\n",
"printf('The specific volume is %f ft^3/lbm\n',v);\n",
"//The mass of gas is the total volume divided by the specific volume\n",
"printf('The gas in the container is %f lbm\n',V/v);\n",
"//The same result is obtained by direct use of eq. p*V=m*R*T\n",
"m=(p*V)/(R*T); //The gas in the container //unit:lbm //ideal gas law\n",
"printf('The gas in the container is %f lbm\n',m); "
   ]
   }
,
{
		   "cell_type": "markdown",
		   "metadata": {},
		   "source": [
			"## Example 6.7: Determine_final_pressure.sce"
		   ]
		  },
  {
"cell_type": "code",
	   "execution_count": null,
	   "metadata": {
	    "collapsed": true
	   },
	   "outputs": [],
"source": [
"clear;\n",
"clc;\n",
"printf('\t\t\tProblem Number 6.7\n\n\n');\n",
"// Chapter 6: The Ideal Gas\n",
"// Problem 6.7 (page no. 245) \n",
"// Solution\n",
"\n",
"//Applying , (p1*V1)/T1 = (p2*V2)/T2\n",
"//and p2=p1*(T2/T1) because V1=V2\n",
"p1=200+14.7; //Unit:psia //initial pressure\n",
"T2=460+200; //final temperature is 200 F //Fahrenheit temperature converted to absolute temperature //unit:R\n",
"T1=460+73; //Fahrenheit temperature converted to absolute temperature //unit:R\n",
"p2=p1*(T2/T1); //final pressure //Unit:psia //Charles's law(volume constant)\n",
"printf('The final pressure is %f psia',p2);"
   ]
   }
,
{
		   "cell_type": "markdown",
		   "metadata": {},
		   "source": [
			"## Example 6.8: Determine_the_gas_in_the_tank.sce"
		   ]
		  },
  {
"cell_type": "code",
	   "execution_count": null,
	   "metadata": {
	    "collapsed": true
	   },
	   "outputs": [],
"source": [
"clear;\n",
"clc;\n",
"printf('\t\t\tProblem Number 6.8\n\n\n');\n",
"// Chapter 6: The Ideal Gas\n",
"// Problem 6.8 (page no. 246) \n",
"// Solution\n",
"\n",
"//For CO2,\n",
"R=8.314/44; //Unit:kJ/kg*K //constant of proportionality //Molecular weight of CO2=44\n",
"p=500; //Unit:kPa //pressure\n",
"V=0.5; //Unit:m^3 //volume\n",
"T=(100+273); //Unit:K //Celsius converted to kelvin\n",
"//Applying p*V=m*R*T ,\n",
"m=(p*V)/(R*T); //mass //kg //ideal gas law\n",
"printf('The mass of gas in the tank is %f kg\n',m);"
   ]
   }
,
{
		   "cell_type": "markdown",
		   "metadata": {},
		   "source": [
			"## Example 6.9: Determine_the_mean_specific_heat.sce"
		   ]
		  },
  {
"cell_type": "code",
	   "execution_count": null,
	   "metadata": {
	    "collapsed": true
	   },
	   "outputs": [],
"source": [
"clear;\n",
"clc;\n",
"printf('\t\t\tProblem Number 6.9\n\n\n');\n",
"// Chapter 6: The Ideal Gas\n",
"// Problem 6.9 (page no. 252) \n",
"// Solution\n",
"\n",
"T2=500+460;  //absolute  final temperature  //unit:R\n",
"T1=80+460;  //absolute initial temperature //unit:R\n",
"//The equation cpbar= 0.338-(1.24*10^2/T)+(4.15*10^4)/T^2 has a form , cbar= Adash+(Bdash/T)+(Ddash/T^2)\n",
"//So,\n",
"Adash=0.338;      //constant\n",
"Bdash=-1.24*10^2; //constant\n",
"Ddash=4.15*10^4;  //constant\n",
"//Therefore,from equation,cbar=Adash+((Bdash*log(T2/T1))/(T2-T1))+(Ddash/(T2*T1))\n",
"cpbar=Adash+((Bdash*log(T2/T1))/(T2-T1))+(Ddash/(T2*T1)); //The mean specific heat //Btu/lbm*R\n",
"printf('The mean specific heat at constant pressure between 80F and 500F is %f Btu/lbm*R\n',cpbar);"
   ]
   }
],
"metadata": {
		  "kernelspec": {
		   "display_name": "Scilab",
		   "language": "scilab",
		   "name": "scilab"
		  },
		  "language_info": {
		   "file_extension": ".sce",
		   "help_links": [
			{
			 "text": "MetaKernel Magics",
			 "url": "https://github.com/calysto/metakernel/blob/master/metakernel/magics/README.md"
			}
		   ],
		   "mimetype": "text/x-octave",
		   "name": "scilab",
		   "version": "0.7.1"
		  }
		 },
		 "nbformat": 4,
		 "nbformat_minor": 0
}
