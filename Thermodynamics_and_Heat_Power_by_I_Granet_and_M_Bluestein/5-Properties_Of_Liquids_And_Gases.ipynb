{
"cells": [
 {
		   "cell_type": "markdown",
	   "metadata": {},
	   "source": [
       "# Chapter 5: Properties Of Liquids And Gases"
	   ]
	},
{
		   "cell_type": "markdown",
		   "metadata": {},
		   "source": [
			"## Example 5.10: Determine_the_quality.sce"
		   ]
		  },
  {
"cell_type": "code",
	   "execution_count": null,
	   "metadata": {
	    "collapsed": true
	   },
	   "outputs": [],
"source": [
"//scilab 5.4.1\n",
"clear;\n",
"clc;\n",
"printf('\t\t\tProblem Number 5.10\n\n\n');\n",
"// Chapter 5 : Properties Of Liquids And Gases\n",
"// Problem 5.10  (page no. 194) \n",
"// Solution\n",
"\n",
"//For the wet mixture,hx=hf+(x*hfg),solving for x gives us\n",
"//Using table 1,we have,\n",
"hx=2000; //kJ/kg //Enthalpy of wet mixture at 30 C\n",
"hf=125.79; //kJ/kg //saturated liquid enthalpy\n",
"hfg=2430.5; // //Evap. Enthalpy //kJ/kg\n",
"x=(hx-hf)/hfg; //quality\n",
"printf('The quality is %f percentage of a wet steam at 30 C\n',x*100);"
   ]
   }
,
{
		   "cell_type": "markdown",
		   "metadata": {},
		   "source": [
			"## Example 5.11: Determine_h_v_u_and_s_of_superheated_steam.sce"
		   ]
		  },
  {
"cell_type": "code",
	   "execution_count": null,
	   "metadata": {
	    "collapsed": true
	   },
	   "outputs": [],
"source": [
"//scilab 5.4.1\n",
"clear;\n",
"clc;\n",
"printf('\t\t\tProblem Number 5.11\n\n\n');\n",
"// Chapter 5 : Properties Of Liquids And Gases\n",
"// Problem 5.11  (page no. 197) \n",
"// Solution\n",
"\n",
"//The values of temperature and pressure are listed in Table 3(Figure 5.10) and can be read directly.\n",
"printf('Specific volume of superheated steam at 330 psia and 450F is v=1.4691 ft^3/lbm\n');\n",
"printf('Internal Energy of superheated steam at 330 psia and 450F is u=1131.8 Btu/lbm\n');\n",
"printf('Enthalpy of superheated steam at 330 psia and 450F is h=1221.5 Btu/lbm\n');\n",
"printf('Entropy of superheated steam at 330 psia and 450F is s=1.5219 Btu/lbm*R\n');"
   ]
   }
,
{
		   "cell_type": "markdown",
		   "metadata": {},
		   "source": [
			"## Example 5.12: Determine_v_u_h_and_s_of_superheated_steam.sce"
		   ]
		  },
  {
"cell_type": "code",
	   "execution_count": null,
	   "metadata": {
	    "collapsed": true
	   },
	   "outputs": [],
"source": [
"//scilab 5.4.1\n",
"clear;\n",
"clc;\n",
"printf('\t\t\tProblem Number 5.12\n\n\n');\n",
"// Chapter 5 : Properties Of Liquids And Gases\n",
"// Problem 5.12  (page no. 197) \n",
"// Solution\n",
"\n",
"//The values of temperature and pressure are listed in Table 3(Figure 5.10) and can be read directly.\n",
"printf('Specific volume of superheated steam at 2.0 MPa and 240 C is v=0.10845 m^3/lbm\n');\n",
"printf('Internal Energy of superheated steam at 2.0 MPa and 240 C is u=2659.6 kJ/kg\n');\n",
"printf('Enthalpy of superheated steam at 2.0 MPa and 240 C is h=2876.5 kJ/kg\n');\n",
"printf('Entropy of superheated steam at 2.0 MPa and 240 C is s=6.4952 kJ/kg*K\n');"
   ]
   }
,
{
		   "cell_type": "markdown",
		   "metadata": {},
		   "source": [
			"## Example 5.13: Determine_v_h_s_and_u_of_superheated_steam.sce"
		   ]
		  },
  {
"cell_type": "code",
	   "execution_count": null,
	   "metadata": {
	    "collapsed": true
	   },
	   "outputs": [],
"source": [
"//scilab 5.4.1\n",
"clear;\n",
"clc;\n",
"printf('\t\t\tProblem Number 5.13\n\n\n');\n",
"// Chapter 5 : Properties Of Liquids And Gases\n",
"// Problem 5.13  (page no. 197) \n",
"// Solution\n",
"\n",
"\n",
"//The necessary interpolations(between 450F and 460F at 330 psia) are best done in tabular forms as shown:\n",
"//  t    v\n",
"// 460  1.4945  \n",
"// 455  1.4818  \n",
"// 450  1.4691\n",
"v=1.4691+(1/2)*(1.4945-1.4691); //ft^3/lbm //specific volume\n",
"printf('The specific volume of saturated steam at 330 psia & 455F is %f ft^3/lbm\n',v);\n",
"\n",
"//  t    u\n",
"// 460  1137.0  \n",
"// 455  1134.4  \n",
"// 450  1131.8 \n",
"u=1131.8+(1/2)*(1137.0-1131.8); //Btu/lbm //internal energy\n",
"printf('The internal energy of saturated steam at 330 psia & 455F is %f Btu/lbm\n',u);\n",
"\n",
"//  t    h\n",
"// 460  1228.2  \n",
"// 455  1224.9  \n",
"// 450  1221.5\n",
"h=1221.5+(1/2)*(1228.2-1221.5); //enthaply //Btu/lbm\n",
"printf('The enthalpy of saturated steam at 330 psia & 455F is %f Btu/lbm\n',h);\n",
"\n",
"//  t    s\n",
"// 460  1.5293  \n",
"// 455  1.5256  \n",
"// 450  1.5219\n",
"s=1.5219+(1/2)*(1.5293-1.5219); //entropy //Btu/lbm*R\n",
"printf('The entropy of saturated steam at 330 psia & 455F is %f Btu/lbm*R\n',s);"
   ]
   }
,
{
		   "cell_type": "markdown",
		   "metadata": {},
		   "source": [
			"## Example 5.14: Determine_specific_volume_and_enthalpy_of_superheated_steam.sce"
		   ]
		  },
  {
"cell_type": "code",
	   "execution_count": null,
	   "metadata": {
	    "collapsed": true
	   },
	   "outputs": [],
"source": [
"//scilab 5.4.1\n",
"clear;\n",
"clc;\n",
"printf('\t\t\tProblem Number 5.14\n\n\n');\n",
"// Chapter 5 : Properties Of Liquids And Gases\n",
"// Problem 5.14  (page no. 198) \n",
"// Solution\n",
"\n",
"//From Table3, we first obtain the properties at 337 psia and 460 F and then 337 psia and 470 F.\n",
"//The necessary interpolations are best done in tabular forms as shown:\n",
"//Proceeding with the calculation,at 460 F,\n",
"//  p    v                                     //  p    h\n",
"// 340  1.4448                                 // 340  1226.7\n",
"// 337  1.4595                                 // 337  1227.2\n",
"// 335  1.4693                                 // 335  1227.5\n",
"v=1.4696-(2/5)*(1.4693-1.4448);                h=1227.5-(2/5)*(1227.5-1226.7);\n",
"//ft^3/lbm //specific volume                   //Btu/lbm //enthaply\n",
"\n",
"//And at 470 F,\n",
"//  p    v                                     //  p    h\n",
"// 340  1.4693                                 // 340  1233.4\n",
"// 337  1.4841                                 // 337  1233.9\n",
"// 335  1.4940                                 // 335  1234.2\n",
"v=1.4640-(2/5)*(1.4640-1.4693);                h=1234.2-(2/5)*(1234.2-1233.4);\n",
"//ft^3/lbm //specific volume                   //Btu/lbm //enthaply\n",
"\n",
"//Therefore,at 337 psia and 465 F\n",
"//  t    v                                    //  t    h\n",
"// 470  1.4841                                // 470  1233.9\n",
"// 465  1.4718                                // 465  1230.7\n",
"// 460  1.4595                                // 460  1227.5\n",
"v=1.4595+(1/2)*(1.4841-1.4595);               h=1227.5+(1/2)*(1233.9-1227.5);\n",
"//ft^3/lbm //specific volume                  //Btu/lbm //enthaply\n",
"printf('At 465 F and 337 psia,specific volume=%f ft^3/lbm and enthalpy=%f Btu/lbm\n',v,h);\n",
""
   ]
   }
,
{
		   "cell_type": "markdown",
		   "metadata": {},
		   "source": [
			"## Example 5.15: Determine_h_s_v_and_u_of_subcooled_water.sce"
		   ]
		  },
  {
"cell_type": "code",
	   "execution_count": null,
	   "metadata": {
	    "collapsed": true
	   },
	   "outputs": [],
"source": [
"//scilab 5.4.1\n",
"clear;\n",
"clc;\n",
"printf('\t\t\tProblem Number 5.15\n\n\n');\n",
"// Chapter 5 : Properties Of Liquids And Gases\n",
"// Problem 5.15  (page no. 202) \n",
"// Solution\n",
"\n",
"//The values of temperature and pressure are listed in Table 4(Figure 5.10) and can be read directly.\n",
"printf('Specific volume of subcooled water at 1000 psia and 300F is v=0.017379 ft^3/lbm\n');\n",
"printf('Internal Energy of subcooled water at 1000 psia and 300F is u=268.24 Btu/lbm\n');\n",
"printf('Enthalpy of subcooled water at 1000 psia and 300F is h=271.46 Btu/lbm\n');\n",
"printf('Entropy of subcooled water at 1000 psia and 300F is s=0.43552 Btu/lbm*R\n');"
   ]
   }
,
{
		   "cell_type": "markdown",
		   "metadata": {},
		   "source": [
			"## Example 5.16: Determine_enthalpy_of_subcooled_water.sce"
		   ]
		  },
  {
"cell_type": "code",
	   "execution_count": null,
	   "metadata": {
	    "collapsed": true
	   },
	   "outputs": [],
"source": [
"//scilab 5.4.1\n",
"clear;\n",
"clc;\n",
"printf('\t\t\tProblem Number 5.16\n\n\n');\n",
"// Chapter 5 : Properties Of Liquids And Gases\n",
"// Problem 5.16  (page no. 202) \n",
"// Solution\n",
"\n",
"//It is necessary to ontain the saturation values corresponding to 300 F.This is done by reading Table A.1 in Appendix 3,which gives\n",
"pf=66.98; //psia //pressure\n",
"vf=0.017448; //ft^3/lbm //specific volume\n",
"hf=269.73; //Btu/lbm //enthaply\n",
"//Now,\n",
"p=1000; //psia //pressure\n",
"J=778; //Conversion factor //ft*lbf/Btu\n",
"//From eq.5.5,\n",
"h=hf+((p-pf)*vf*144)/J; //1ft^2=144 in^2 //The enthalpy of subcooled water //Btu/lbm\n",
"printf('The enthalpy of subcooled water is %f Btu/lbm\n',h);\n",
"//The difference between this value and the value found in problem 5.15,expressed as a percentage is\n",
"percentoferror=(h-271.46)/271.46;\n",
"printf('Percent of error is %f\n',percentoferror*100);"
   ]
   }
,
{
		   "cell_type": "markdown",
		   "metadata": {},
		   "source": [
			"## Example 5.1: The_enthalpy.sce"
		   ]
		  },
  {
"cell_type": "code",
	   "execution_count": null,
	   "metadata": {
	    "collapsed": true
	   },
	   "outputs": [],
"source": [
"//scilab 5.4.1\n",
"clear;\n",
"clc;\n",
"printf('\t\t\tProblem Number 5.1\n\n\n');\n",
"// Chapter 5 : Properties Of Liquids And Gases\n",
"// Problem 5.1  (page no. 182) \n",
"// Solution\n",
"\n",
"p=0.6988; //Unit:psia //absolute pressure\n",
"vg=467.7; //Unit:ft^3/lbm //Saturated vapour specific volume\n",
"ug=1040.2; //Unit:Btu/lbm //Saturated vapour internal energy\n",
"J=778; //J=Conversion factor\n",
"// 1 Btu = 778 ft*LBf\n",
"//h=u+(p*v)/J \n",
"hg=ug+((p*vg*144)/J); //The enthalpy of saturated steam //1 ft^2=144 in^2 //Btu/lbm\n",
"printf('The enthalpy of saturated steam at 90 F is %f Btu/lbm',hg); //The value is matched with the value in table 1"
   ]
   }
,
{
		   "cell_type": "markdown",
		   "metadata": {},
		   "source": [
			"## Example 5.25: the_enthalpy_of_saturated_steam.sce"
		   ]
		  },
  {
"cell_type": "code",
	   "execution_count": null,
	   "metadata": {
	    "collapsed": true
	   },
	   "outputs": [],
"source": [
"//scilab 5.4.1\n",
"clear;\n",
"clc;\n",
"printf('\t\t\tProblem Number 5.25\n\n\n');\n",
"// Chapter 5 : Properties Of Liquids And Gases\n",
"// Problem 5.25  (page no. 211) \n",
"// Solution\n",
" \n",
"//On a chart in Appendix 3,it is necessary to estimate the 90 F point on the saturation line.From the chart or the table in the upper left of the chart,we note that 90 F is between 1.4 and 1.5 in. of mercury.Estimating the intersection of this value with the saturation curve yields\n",
"printf('Enthalpy of saturated steam hg=1100 Btu/lbm\n');\n",
"//This is a good agreement with results of problem 5.1"
   ]
   }
,
{
		   "cell_type": "markdown",
		   "metadata": {},
		   "source": [
			"## Example 5.26: Enthalpy_of_a_wet_steam.sce"
		   ]
		  },
  {
"cell_type": "code",
	   "execution_count": null,
	   "metadata": {
	    "collapsed": true
	   },
	   "outputs": [],
"source": [
"//scilab 5.4.1\n",
"clear;\n",
"clc;\n",
"printf('\t\t\tProblem Number 5.26\n\n\n');\n",
"// Chapter 5 : Properties Of Liquids And Gases\n",
"// Problem 5.26  (page no. 212) \n",
"// Solution\n",
"\n",
"//The Mollier chart has lines of constant moisture in the wet region which correspond to (1-x).Therefore,we read at 20% moisture(80% Quality) and 120 psia,\n",
"printf('The enthalpy of a wet steam mixture at 120 psia having quality 80 percent is 1015 Btu/lbm\n');\n",
"//Which also agrees well with the calculated value in problem 5.7"
   ]
   }
,
{
		   "cell_type": "markdown",
		   "metadata": {},
		   "source": [
			"## Example 5.27: quality_of_a_wet_steam_mixture.sce"
		   ]
		  },
  {
"cell_type": "code",
	   "execution_count": null,
	   "metadata": {
	    "collapsed": true
	   },
	   "outputs": [],
"source": [
"//scilab 5.4.1\n",
"clear;\n",
"clc;\n",
"printf('\t\t\tProblem Number 5.27\n\n\n');\n",
"// Chapter 5 : Properties Of Liquids And Gases\n",
"// Problem 5.27  (page no. 213) \n",
"// Solution\n",
"\n",
"//Entering the Mollier chart at 900 Btu/lbm and estimating 90 F(near the 1.5-in. Hg dashed line) yields a constant moisture percent of 19.2%.\n",
"printf('The quality is %f percent\n',(1-0.192)*100);\n",
"//We show good agreement with the calculated value."
   ]
   }
,
{
		   "cell_type": "markdown",
		   "metadata": {},
		   "source": [
			"## Example 5.28: determine_the_enthalpy_of_steam.sce"
		   ]
		  },
  {
"cell_type": "code",
	   "execution_count": null,
	   "metadata": {
	    "collapsed": true
	   },
	   "outputs": [],
"source": [
"//scilab 5.4.1\n",
"clear;\n",
"clc;\n",
"printf('\t\t\tProblem Number 5.28\n\n\n');\n",
"// Chapter 5 : Properties Of Liquids And Gases\n",
"// Problem 5.28  (page no. 214) \n",
"// Solution\n",
"\n",
"//From the chart,\n",
"printf('The enthalpy of steam at 330 psia is h=1220 Btu/lbm\n');\n",
"//Compared to 1221.5 Btu/lbm found in problem 5.11"
   ]
   }
,
{
		   "cell_type": "markdown",
		   "metadata": {},
		   "source": [
			"## Example 5.29: Determine_the_enthalpy_and_entropy_of_steam.sce"
		   ]
		  },
  {
"cell_type": "code",
	   "execution_count": null,
	   "metadata": {
	    "collapsed": true
	   },
	   "outputs": [],
"source": [
"//scilab 5.4.1\n",
"clear;\n",
"clc;\n",
"printf('\t\t\tProblem Number 5.29\n\n\n');\n",
"// Chapter 5 : Properties Of Liquids And Gases\n",
"// Problem 5.29  (page no. 214) \n",
"// Solution\n",
"\n",
"//We note that the steam is superheated.From the Mollier chart in SI units,\n",
"printf('The enthalpy h=2876.5 kJ/kg and entropy s=6.4952 kJ/kg*K\n');\n",
"//Values are matched with problem 5.12"
   ]
   }
,
{
		   "cell_type": "markdown",
		   "metadata": {},
		   "source": [
			"## Example 5.2: Determine_the_enthalpy_of_saturated_steam.sce"
		   ]
		  },
  {
"cell_type": "code",
	   "execution_count": null,
	   "metadata": {
	    "collapsed": true
	   },
	   "outputs": [],
"source": [
"//scilab 5.4.1\n",
"clear;\n",
"clc;\n",
"printf('\t\t\tProblem Number 5.2\n\n\n');\n",
"// Chapter 5 : Properties Of Liquids And Gases\n",
"// Problem 5.2  (page no. 187) \n",
"// Solution\n",
"\n",
"p=4.246; //Unit:kPa //absolute pressure\n",
"vg=32.894; //Unit:m^3/kg //specific volume\n",
"ug=2416.6; //Unit:kJ/kg //internal energy\n",
"J=778; //J=Conversion factor\n",
"// 1 Btu = 778 ft*LBf\n",
"//h=u+(p*v)\n",
"hg=ug+(p*vg); //The enthalpy of saturated steam //1 ft^2=144 in^2 //unit:kJ/kg\n",
"printf('The enthalpy of saturated steam at 30 C is %f kJ/kg',hg); //The value is matched with the value in table 1"
   ]
   }
,
{
		   "cell_type": "markdown",
		   "metadata": {},
		   "source": [
			"## Example 5.30: Determine_the_enthalpy_of_steam.sce"
		   ]
		  },
  {
"cell_type": "code",
	   "execution_count": null,
	   "metadata": {
	    "collapsed": true
	   },
	   "outputs": [],
"source": [
"//scilab 5.4.1\n",
"clear;\n",
"clc;\n",
"printf('\t\t\tProblem Number 5.30\n\n\n');\n",
"// Chapter 5 : Properties Of Liquids And Gases\n",
"// Problem 5.30  (page no. 215) \n",
"// Solution\n",
"\n",
"//Because neither pressure nor temperature is shown directly,it is necessary to estimate to obtain the desired value.\n",
"printf('The enthalpy of steam is h=1231 Btu/lbm\n');\n",
"//In problem 5.14,h=1230.7 Btu/lbm,Which is matched here."
   ]
   }
,
{
		   "cell_type": "markdown",
		   "metadata": {},
		   "source": [
			"## Example 5.31: determine_hg.sce"
		   ]
		  },
  {
"cell_type": "code",
	   "execution_count": null,
	   "metadata": {
	    "collapsed": true
	   },
	   "outputs": [],
"source": [
"//scilab 5.4.1\n",
"clear;\n",
"clc;\n",
"printf('\t\t\tProblem Number 5.31\n\n\n');\n",
"// Chapter 5 : Properties Of Liquids And Gases\n",
"// Problem 5.31  (page no. 215) \n",
"// Solution\n",
"\n",
"//Reading the chart at 30 C and saturation gives us,\n",
"printf('The enthalpy of saturated steam is hg=2556 kJ/kg\n');\n",
"//Which matches with value of problem 5.2"
   ]
   }
,
{
		   "cell_type": "markdown",
		   "metadata": {},
		   "source": [
			"## Example 5.32: Determine_hx_and_sx.sce"
		   ]
		  },
  {
"cell_type": "code",
	   "execution_count": null,
	   "metadata": {
	    "collapsed": true
	   },
	   "outputs": [],
"source": [
"//scilab 5.4.1\n",
"clear;\n",
"clc;\n",
"printf('\t\t\tProblem Number 5.32\n\n\n');\n",
"// Chapter 5 : Properties Of Liquids And Gases\n",
"// Problem 5.32  (page no. 215) \n",
"// Solution\n",
"\n",
"//Reading the chart in wet region at 1.0 MPa and x=0.85(moisture of 15%) gives us\n",
"printf('hx=2476 kJ/kg and sx=5.92 kJ/kg*K\n');\n",
"//The chart does not give ux or vx directly"
   ]
   }
,
{
		   "cell_type": "markdown",
		   "metadata": {},
		   "source": [
			"## Example 5.33: Determine_the_quality_of_steam.sce"
		   ]
		  },
  {
"cell_type": "code",
	   "execution_count": null,
	   "metadata": {
	    "collapsed": true
	   },
	   "outputs": [],
"source": [
"//scilab 5.4.1\n",
"clear;\n",
"clc;\n",
"printf('\t\t\tProblem Number 5.33\n\n\n');\n",
"// Chapter 5 : Properties Of Liquids And Gases\n",
"// Problem 5.33  (page no. 215) \n",
"// Solution\n",
"\n",
"//Locate 30 C on the saturation line.Now follow a line of constant pressure,which is also a line of constant temperature in wet region,until an enthalpy of 2000kJ/kg is reached.\n",
"printf('The moisture content is 23 percent or x=77 percent\n');"
   ]
   }
,
{
		   "cell_type": "markdown",
		   "metadata": {},
		   "source": [
			"## Example 5.34: Determine_entropy_and_enthalpy.sce"
		   ]
		  },
  {
"cell_type": "code",
	   "execution_count": null,
	   "metadata": {
	    "collapsed": true
	   },
	   "outputs": [],
"source": [
"//scilab 5.4.1\n",
"clear;\n",
"clc;\n",
"printf('\t\t\tProblem Number 5.34\n\n\n');\n",
"// Chapter 5 : Properties Of Liquids And Gases\n",
"// Problem 5.34  (page no. 216) \n",
"// Solution\n",
"\n",
"//We enter the chart in the superheat region at 2.0MPa and 240 C to read the enthalpy and entropy.This procedure gives \n",
"printf('Enthalpy h=2877 kJ/kg and entropy s=6.495 kJ/kg*K\n');\n",
"//The other properties cant be obtained directly from the chart"
   ]
   }
,
{
		   "cell_type": "markdown",
		   "metadata": {},
		   "source": [
			"## Example 5.35: Determine_the_moisture_in_the_steam_flowing_in_the_pipe.sce"
		   ]
		  },
  {
"cell_type": "code",
	   "execution_count": null,
	   "metadata": {
	    "collapsed": true
	   },
	   "outputs": [],
"source": [
"//scilab 5.4.1\n",
"clear;\n",
"clc;\n",
"printf('\t\t\tProblem Number 5.35\n\n\n');\n",
"// Chapter 5 : Properties Of Liquids And Gases\n",
"// Problem 5.35  (page no. 218) \n",
"// Solution\n",
"\n",
"//As already noted,h1=h2 for this process.On the Mollier chart,h2 is found to be 1170 Btu/lbm at 14.7 psia and 250 F.Proceeding to the left on the chart,the constant-enthalpy value of 1170 Btu/lbm to 150 psia yields a moisture of 3% or a quality of 97%.\n",
"//If we use the tables to obtain the solution to this problem,we would first obtain h2 from the superheated vapor tables as 1168.8 Btu/lbm.Because hx=hf+(x*hfg),we    obtain x as\n",
"hx=1168.8; //Btu/lbm \n",
"hf=330.75; //Btu/lbm //values of 150 psia\n",
"hfg=864.2; //Btulbm //values of 150 psia\n",
"x=(hx-hf)/hfg; //Quality\n",
"printf('Moisture in the steam flowing in the pipe is %f percent\n',(1-x)*100);\n",
"printf('or quality of the steam is %f percent\n',x*100);\n",
"//very often,it is necessary to perform multiple interpolations if the tables are used,and the Mollier chart yields results within the rquired accuracy for most engineering problems and saves considerable time.\n",
"//We can also use the computerised programs to solve this program.We first enter the 250F and 14.7 psia to obtain h of 1168.7 Btu/lbm.We then continue by entering h of 1168.7 Btu/lbm and p of 150 psia.The printout gives us x of 0.9699 or 97%.While the computer solution is quick and easy to use,you should still sketch out the    problem on an h-s or T-s diagram to show the path of the process.\n",
"\n",
"// Saturation Properties\n",
"//--------------------------\n",
"// T=250.00 degF\n",
"// P=29.814 psia\n",
"//       z         z1        zg\n",
"// v(ft^3/lbm)   0.01700   13.830\n",
"// h(Btu/lbm)     218.62   1164.1\n",
"// s(Btu/lbm*F)  0.3678    1.7001\n",
"// u(Btu/lbm)    218.52    1087.8\n",
"\n",
"//Thermo Properties\n",
"//------------------------\n",
"// T= 250.00 degF\n",
"// P= 14.700 psia\n",
"// v= 28.417 ft^3/lbm\n",
"// h= 1168.7 Btu/lbm\n",
"// s= 1.7831 Btu/lbm*F\n",
"// u= 1091.4 Btu/lbm\n",
"\n",
"// Saturation Properties\n",
"//--------------------------\n",
"// T=340.06 degF\n",
"// P=118.00 psia\n",
"//       z        z1        zg\n",
"// v(ft^3/lbm)   0.01787   3.7891\n",
"// h(Btu/lbm)    311.39    1190.7\n",
"// s(Btu/lbm*F)  0.4904    1.5899\n",
"// u(Btu/lbm)    311.00    1108.0\n",
"\n",
"//Thermo Properties\n",
"//------------------------\n",
"// T= 358.49 degF\n",
"// P= 150.00 psia\n",
"// v= 2.9248 ft^3/lbm\n",
"// h= 1168.7 Btu/lbm\n",
"// s= 1.5384 Btu/lbm*F\n",
"// u= 1087.5 Btu/lbm\n",
"// x= 0.9699\n",
"\n",
"//Region:Saturated"
   ]
   }
,
{
		   "cell_type": "markdown",
		   "metadata": {},
		   "source": [
			"## Example 5.36: The_final_pressure_of_the_steam_and_the_heat_added.sce"
		   ]
		  },
  {
"cell_type": "code",
	   "execution_count": null,
	   "metadata": {
	    "collapsed": true
	   },
	   "outputs": [],
"source": [
"//scilab 5.4.1\n",
"clear;\n",
"clc;\n",
"printf('\t\t\tProblem Number 5.36\n\n\n');\n",
"// Chapter 5 : Properties Of Liquids And Gases\n",
"// Problem 5.36  (page no. 219) \n",
"// Solution\n",
"\n",
"//Because the tank volume is 10 ft^3,the final specific volume of the steam is 10 ft^3/lbm.Interpolations in Table A.2 yield a final pressure of 42 psia.The heat    added is simply difference in internal energy between the two states.\n",
"u2=1093.0; //internal energy //Btu/lbm\n",
"u1=117.95; //internal energy //Btu/lbm\n",
"q=u2-u1; //heat added //Btu/lbm\n",
"printf('The final pressure is 42 psia and the heat added is %f Btu/lbm\n',q);"
   ]
   }
,
{
		   "cell_type": "markdown",
		   "metadata": {},
		   "source": [
			"## Example 5.37: Heat_added_per_unit_mass.sce"
		   ]
		  },
  {
"cell_type": "code",
	   "execution_count": null,
	   "metadata": {
	    "collapsed": true
	   },
	   "outputs": [],
"source": [
"//scilab 5.4.1\n",
"clear;\n",
"clc;\n",
"printf('\t\t\tProblem Number 5.37\n\n\n');\n",
"// Chapter 5 : Properties Of Liquids And Gases\n",
"// Problem 5.37  (page no. 220) \n",
"// Solution\n",
"\n",
"//The mass in the tank is constant,and the heat added will be the change in internal energy of the contents of the tank between the two states.The initial mass in     the tank is found as follows:\n",
"Vf=45; //volume of water //ft^2\n",
"vf=0.016715;\n",
"Vg=15; //Volume of steam //ft^2\n",
"vg=26.80;\n",
"mf=Vf/vf; //lbm\n",
"mg=Vg/vg; //lbm\n",
"total=mf+mg; //total mass\n",
"//The internal energy is the sum of the internal energy of the liquid plus vapor:\n",
"ug=1077.6;\n",
"uf=180.1;\n",
"Ug=mg*ug; //Btu\n",
"Uf=mf*uf; //Btu\n",
"Total=Ug+Uf; //total internal energy\n",
"printf('The total internal energy is %f Btu\n',Total);\n",
"//Because the mass in the tank is constant,the final specific volume must equal the initial specific volume,or\n",
"vx=(Vf+Vg)/(mf+mg); //ft^3/lbm\n",
"//But vx=vf+(x*vfg).Therefore using table A.2 at 800 psia,\n",
"vx=0.022282;\n",
"vf=0.02087;\n",
"vfg=0.5691-0.02087;\n",
"x=(vx-vf)/vfg;\n",
"printf('The final amount of vapor is %f lbm\n',x*total);  //x*total mass \n",
"mg=x*total;\n",
"printf('The final amount of liquid is %f lbm\n',total-(x*total)); //total mass minus final amount of vapor \n",
"mf=total-(x*total);\n",
"//The final internal energy is found as before:\n",
"ug=1115.0;\n",
"uf=506.6;\n",
"Ug=mg*ug; //Btu\n",
"Uf=mf*uf; //Btu\n",
"Total1=Ug+Uf;\n",
"difference=Total1-Total; //final internal energy-initial internal energy\n",
"//per unit mass heat added is,\n",
"printf('The heat added per unit is %f Btu/lbm\n',difference/total); //the difference of internal energy/total mass"
   ]
   }
,
{
		   "cell_type": "markdown",
		   "metadata": {},
		   "source": [
			"## Example 5.38: Determine_the_change_in_enthalpy.sce"
		   ]
		  },
  {
"cell_type": "code",
	   "execution_count": null,
	   "metadata": {
	    "collapsed": true
	   },
	   "outputs": [],
"source": [
"//scilab 5.4.1\n",
"clear;\n",
"clc;\n",
"printf('\t\t\tProblem Number 5.38\n\n\n');\n",
"// Chapter 5 : Properties Of Liquids And Gases\n",
"// Problem 5.38  (page no. 222) \n",
"// Solution\n",
"\n",
"//As shown in Fig. 5.21b,the process dscribed in this problem is a vertical line on the Mollier Chart.For 800 psia and 600F,the Mollier chart yeilds h1=1270 Btu/lbm and s1=1.485.Proceeding vertically down the chart at constant s to 200 psia yields a final enthalpy h2=1148 Btu/lbm.The change in enthaly using the process is        1270-1148=122 Btu/lbm.\n",
"//We may also solve this problem using the steam tables in Appendix 3.Thus,the enthalpy at 800 psia and 600 F is 1270.4 Btu/lbm,and its entropy is 1.4861 Btu/lbm*R.\n",
"//Because the process is isentropic,the final entropy at 200psia must be 1.4861.From the saaturation table,the entropy of saturated steam at 200 psia is 1.5464,which indicates the final steam condition must be wet because the entropy of the final steam is less than the entropy of saturation.Using the wet steam relation yields,\n",
"//sx=sf+(x*sfg)\n",
"h1=1270.4; sx=1.4861; sf=0.5440; sfg=1.0025 ;hf=355.6; hfg=843.7;\n",
"x=(sx-sf)/sfg; //Quality\n",
"//Therefore,the final enthalpy is\n",
"hx=hf+(x*hfg); //Btu/lbm\n",
"printf('The final enthalpy is %f Btu/lbm\n',hx);\n",
"printf('The change in enthalpy is %f Btu/lbm\n',h1-hx); //Note the agreement with the Mollier chart solution\n",
"//we can also use the computer program to solve this problem.For 600F and 800 psia, h=1270. Btu/lbm and s=1.4857 Btu/lbm*R.Now using p=200 psia and s=1.4857,we obtain\n",
"//h=1148.1 Btu/lbm.The change in enthalpy is 1270.0-1148.1=121.9 Btu/lbm.Note the effort saved using either the Mollier chart or the computer program. \n",
"\n",
"// Saturation Properties\n",
"//--------------------------\n",
"// T=600.00 degF\n",
"// P=1541.7 psia\n",
"//       z        z1         zg\n",
"// v(ft^3/lbm)   0.02362   0.2675\n",
"// h(Btu/lbm)    616.59    1166.2\n",
"// s(Btu/lbm*F)  0.8129    1.3316\n",
"// u(Btu/lbm)    609.85    1089.9\n",
"\n",
"//Thermo Properties\n",
"//------------------------\n",
"// T= 600.00 degF\n",
"// P= 800.00 psia\n",
"// v= 0. ft^3/lbm\n",
"// h= 1168.7 Btu/lbm\n",
"// s= 1.5384 Btu/lbm*F\n",
"// u= 1087.5 Btu/lbm\n",
"//Region:Superheated\n",
"\n",
"// Saturation Properties\n",
"//--------------------------\n",
"// T=381.87 degF\n",
"// P=200.00 psia\n",
"//       z        z1        zg\n",
"// v(ft^3/lbm)   0.01839   2.2883\n",
"// h(Btu/lbm)    355.60    1199.0\n",
"// s(Btu/lbm*F)  0.5440    1.5462\n",
"// u(Btu/lbm)    354.92    1114.3\n",
"\n",
"//Thermo Properties\n",
"//------------------------\n",
"// T= 381.87 degF\n",
"// P= 200.00 psia\n",
"// v= 2.1512 ft^3/lbm\n",
"// h= 1148.1 Btu/lbm\n",
"// s= 1.4857 Btu/lbm*F\n",
"// u= 1068.5 Btu/lbm\n",
"// x= 0.9396\n",
"\n",
"//Region:Saturated"
   ]
   }
,
{
		   "cell_type": "markdown",
		   "metadata": {},
		   "source": [
			"## Example 5.39: Determine_the_final_state_of_the_steam.sce"
		   ]
		  },
  {
"cell_type": "code",
	   "execution_count": null,
	   "metadata": {
	    "collapsed": true
	   },
	   "outputs": [],
"source": [
"//scilab 5.4.1\n",
"clear;\n",
"clc;\n",
"printf('\t\t\tProblem Number 5.39\n\n\n');\n",
"// Chapter 5 : Properties Of Liquids And Gases\n",
"// Problem 5.39  (page no. 226) \n",
"// Solution\n",
"\n",
"//As refering to figure 5.21,it will be seen that the final temperature and enthalpy will both be higher than for the isentropic case.\n",
"//80% of the isentropic enthalpy difference\n",
"deltah=0.8*122; //change in enthalpy //Btu/lbm\n",
"h1=1270; //Btu/lbm //initial enthalpy\n",
"h2=h1-deltah; //the final enthalpy //Btu/lbm\n",
"printf('The final enthalpy is %f Btu/lbm\n',h2);\n",
"printf('and the final pressure is 200 psia\n');\n",
"printf('The Mollier chart indicates the final state to be in the wet region,\n');\n",
"printf('with 3.1percent moisture content and an entropy of 1.514 Btu/lbm*R');"
   ]
   }
,
{
		   "cell_type": "markdown",
		   "metadata": {},
		   "source": [
			"## Example 5.3: Determine_hg_vg_sg_and_ug.sce"
		   ]
		  },
  {
"cell_type": "code",
	   "execution_count": null,
	   "metadata": {
	    "collapsed": true
	   },
	   "outputs": [],
"source": [
"//scilab 5.4.1\n",
"clear;\n",
"clc;\n",
"printf('\t\t\tProblem Number 5.3\n\n\n');\n",
"// Chapter 5 : Properties Of Liquids And Gases\n",
"// Problem 5.3  (page no. 188) \n",
"// Solution\n",
"\n",
"//The necessary interpolations are best done in tabular forms as shown:\n",
"//  p    hg\n",
"// 115  1190.4  table 2\n",
"// 118  1190.8  (hg)118=1190.8\n",
"// 120  1191.1\n",
"hg=1190.4+(3/5)*(1191.1-1190.4); //Btu/lbm //enthaply\n",
"printf('The enthalpy of saturated steam at 118 psia is %f Btu/lbm\n',hg);\n",
"\n",
"//  p    vg\n",
"// 115  3.884  table 2\n",
"// 118  3.792  (vg)118=3.790\n",
"// 120  3.730\n",
"vg=3.884-(3/5)*(3.884-3.730); //ft^3/lbm //specific volume\n",
"printf('The specific volume of saturated steam at 118 psia is %f ft^3/lbm\n',vg);\n",
"\n",
"//  p    sg\n",
"// 115  1.5921  table 2\n",
"// 118  1.5900  (sg)118=1.5900\n",
"// 120  1.5886\n",
"sg=1.5921-(3/5)*(1.5921-1.5886); //entropy\n",
"printf('The entropy of saturated steam at 118 psia is %f\n',sg);\n",
"\n",
"//  p    ug\n",
"// 115  1107.7  table 2\n",
"// 118  1108.06  (ug)118=1180.1\n",
"// 120  1108.3\n",
"ug=1107.7-(3/5)*(1108.3-1107.7); //internal energy\n",
"printf('The internal energy of saturated steam at 118 psia is %f\n',ug);\n",
"//The interpolation process that was done in tabular form for this problem can also be demonstated by refering to figure 5.8 for the specific volume.It will be \n",
"//seen that the results of this problem and the tabulated values are essentially in exact agreement and that linear interpolation is satisfactory in these tables."
   ]
   }
,
{
		   "cell_type": "markdown",
		   "metadata": {},
		   "source": [
			"## Example 5.40: Change_in_enthalpy.sce"
		   ]
		  },
  {
"cell_type": "code",
	   "execution_count": null,
	   "metadata": {
	    "collapsed": true
	   },
	   "outputs": [],
"source": [
"//scilab 5.4.1\n",
"clear;\n",
"clc;\n",
"printf('\t\t\tProblem Number 5.40\n\n\n');\n",
"// Chapter 5 : Properties Of Liquids And Gases\n",
"// Problem 5.40  (page no. 226) \n",
"// Solution\n",
"\n",
"//Using the Mollier chart,\n",
"h1=2942; //kJ/kg //initial enthalpy\n",
"//Proceeding as shown in figure 5.21b,that is,vertically at constant entropy to a pressure of 0.1 MPa,gives us\n",
"h2=2512; //kJ/kg //final enthalpy\n",
"printf('Neglecting kinetic & potential energy,The change in enthalpy of the steam is %f kJ/kg',h1-h2);"
   ]
   }
,
{
		   "cell_type": "markdown",
		   "metadata": {},
		   "source": [
			"## Example 5.41: Determine_Final_velocity_of_the_steam.sce"
		   ]
		  },
  {
"cell_type": "code",
	   "execution_count": null,
	   "metadata": {
	    "collapsed": true
	   },
	   "outputs": [],
"source": [
"//scilab 5.4.1\n",
"clear;\n",
"clc;\n",
"printf('\t\t\tProblem Number 5.41\n\n\n');\n",
"// Chapter 5 : Properties Of Liquids And Gases\n",
"// Problem 5.41  (page no. 226) \n",
"// Solution\n",
"\n",
"//From the conditions given in problem 5.38,the isentropic change in enthalpy is 122 Btu/lbm\n",
"//So,\n",
"h1minush2=122; //Btu/lbm //change in enthalpy\n",
"J=778; //Conversion factor\n",
"gc=32.17; //lbm*ft/lbf*s^2 //constant of proportionality\n",
"V2=sqrt(2*gc*J*(h1minush2)); //final velocity //ft/s\n",
"printf('As the steam leaves the nozzle,The final velocity is %f ft/s',V2);"
   ]
   }
,
{
		   "cell_type": "markdown",
		   "metadata": {},
		   "source": [
			"## Example 5.42: Determine_the_final_velocity.sce"
		   ]
		  },
  {
"cell_type": "code",
	   "execution_count": null,
	   "metadata": {
	    "collapsed": true
	   },
	   "outputs": [],
"source": [
"//scilab 5.4.1\n",
"clear;\n",
"clc;\n",
"printf('\t\t\tProblem Number 5.42\n\n\n');\n",
"// Chapter 5 : Properties Of Liquids And Gases\n",
"// Problem 5.42  (page no. 227) \n",
"// Solution\n",
"\n",
"//Because the process is irreversible,we cannot show it on the Mollier diagram.However,the analysis of problem 3.22 for the nozzle is still valid,and all that is      needed is the enthalpy at the beginning and the end of the expansion.From the problem 5.38,\n",
"h1=1270; //Btu/lbm //initial enthalpy\n",
"//For h2 we locate the state point on the Mollier diagram as being saturated vapor at 200 psia.This gives us\n",
"h2=1199; //Btu/lbm //final enthalpy\n",
"J=778; //Conversion factor\n",
"gc=32.17; //lbm*ft/lbf*s^2 //constant of proportionality\n",
"V2=sqrt(2*gc*J*(h1-h2)); //final velocity //Ft/s\n",
"printf('As the steam leaves the nozzle,The final velocity is %f ft/s',V2);"
   ]
   }
,
{
		   "cell_type": "markdown",
		   "metadata": {},
		   "source": [
			"## Example 5.43: Heat_added_per_pound.sce"
		   ]
		  },
  {
"cell_type": "code",
	   "execution_count": null,
	   "metadata": {
	    "collapsed": true
	   },
	   "outputs": [],
"source": [
"//scilab 5.4.1\n",
"clear;\n",
"clc;\n",
"printf('\t\t\tProblem Number 5.43\n\n\n');\n",
"// Chapter 5 : Properties Of Liquids And Gases\n",
"// Problem 5.43  (page no. 229) \n",
"// Solution\n",
"\n",
"//From the saturation table,500 psia corresponds to a temperature of 467.13F,and the saturated vapor has an enthalpy of 1205.3 Btu/lbm.At 500 psia and 800 F,the       saturated vapor has an enthalpy of 1412.1 Btu/lbm.Because this process is a steady-flow process at constant pressure,the energy equation becomes q=h2-h1,assuming    that differences in the kinetic energy and potential energy terms are negligible.Therefore,\n",
"h2=1412.1; //Btu/lbm //final enthalpy\n",
"h1=1205.3; //Btu/lbm //initial enthalpy\n",
"q=h2-h1; //heat added //Btu/lbm\n",
"printf('%f Btu/lbm heat per pound of steam was added\n',q);"
   ]
   }
,
{
		   "cell_type": "markdown",
		   "metadata": {},
		   "source": [
			"## Example 5.44: Heat_removed.sce"
		   ]
		  },
  {
"cell_type": "code",
	   "execution_count": null,
	   "metadata": {
	    "collapsed": true
	   },
	   "outputs": [],
"source": [
"//scilab 5.4.1\n",
"clear;\n",
"clc;\n",
"printf('\t\t\tProblem Number 5.44\n\n\n');\n",
"// Chapter 5 : Properties Of Liquids And Gases\n",
"// Problem 5.44  (page no. 229) \n",
"// Solution\n",
"\n",
"//From the saturation table at 1 psia,\n",
"hf=69.74; //Btu/lbm //saturated liquid enthalpy\n",
"hfg=1036.0; //Btu/lbm //Evap. Enthalpy\n",
"hg=1105.8; //Btu/lbm //The enthalpy of saturated steam\n",
"x=0.97; //Quality\n",
"//Because the condensation process is carried out at constant pressure,the energy equation is q=deltah.\n",
"hx=hf+(x*hfg); //the initial enthalpy //Btu/lbm\n",
"printf('The initial enthalpy is %f Btu/lbm\n',hx);\n",
"//The final enthalpy is hf=69.74.So,\n",
"deltah=hx-hf; //The enthalpy difference //Btu/lbm\n",
"printf('At 1 psia,The enthalpy difference is %f Btu/lbm\n',deltah);\n",
"printf('By the computer solution,the enthalpy difference is 1004.6 Btu/lbm');\n",
"// Saturation Properties\n",
"//--------------------------\n",
"// T=101.71 degF\n",
"// P=1.0000 psia\n",
"//       z        z1         zg\n",
"// v(ft^3/lbm)   0.01614   333.55\n",
"// h(Btu/lbm)    69.725    1105.4\n",
"// s(Btu/lbm*F)  0.1326    1.9774\n",
"// u(Btu/lbm)    69.722    1043.6\n",
"\n",
"//Thermo Properties\n",
"//------------------------\n",
"// T= 101.71 degF\n",
"// P= 1.0000 psia\n",
"// v= 323.55 ft^3/lbm\n",
"// h= 1074.3 Btu/lbm\n",
"// s= 1.9221 Btu/lbm*F\n",
"// u= 1014.4 Btu/lbm\n",
"// x= 0.9700\n",
"\n",
"//Region:Saturated"
   ]
   }
,
{
		   "cell_type": "markdown",
		   "metadata": {},
		   "source": [
			"## Example 5.4: hfg_for_saturated_steam.sce"
		   ]
		  },
  {
"cell_type": "code",
	   "execution_count": null,
	   "metadata": {
	    "collapsed": true
	   },
	   "outputs": [],
"source": [
"//scilab 5.4.1\n",
"clear;\n",
"clc;\n",
"printf('\t\t\tProblem Number 5.4\n\n\n');\n",
"// Chapter 5 : Properties Of Liquids And Gases\n",
"// Problem 5.4  (page no. 189) \n",
"// Solution\n",
"\n",
"//By defination,\n",
"//hg=ug+(p*vg)/J\n",
"//hf=uf+(p*vf)/J\n",
"//hfg = hg-hf = (ug-uf) + p*(vg-vf)/J = ufg + p*(vg-vf)/J\n",
"//From table 2 at 115 psia,\n",
"p=115; //Unit:psia //absolute pressure\n",
"ufg=798.8; //Unit:Btu/lbm //Evap. internal energy\n",
"ug=3.884; //Unit:ft^3/lbm //Saturated vapour internal energy\n",
"vf=0.017850; //Unit:ft^3/lbm //Saturated liquid specific volume\n",
"J=778; //J=Conversion factor //Unit:ft*lbf/Btu\n",
"//1 ft^2=144 in^2\n",
"hfg=ufg+(p*144*(ug-vf))/J; //Evap. Enthalpy //Unit:Btu/lbm\n",
"printf('hfg for saturated steam at 115 psia is %f Btu/lbm',hfg); //The tabulated values are matched"
   ]
   }
,
{
		   "cell_type": "markdown",
		   "metadata": {},
		   "source": [
			"## Example 5.5: find_hfg.sce"
		   ]
		  },
  {
"cell_type": "code",
	   "execution_count": null,
	   "metadata": {
	    "collapsed": true
	   },
	   "outputs": [],
"source": [
"//scilab 5.4.1\n",
"clear;\n",
"clc;\n",
"printf('\t\t\tProblem Number 5.5\n\n\n');\n",
"// Chapter 5 : Properties Of Liquids And Gases\n",
"// Problem 5.5  (page no. 190) \n",
"// Solution\n",
"\n",
"//From table 2 at 1.0 MPa,\n",
"p=1000; //Unit:kN/m^2 //absolute pressure\n",
"ufg=1822.0; //Unit:kJ/kg //Evap. internal energy\n",
"vf=0.0011273; //Unit:m^3/kg //Saturated liquid specific volume\n",
"vg=0.19444; //Unit:m^3/kg //Saturated vapour specific volume\n",
"vfg=vg-vf;  //Evap. specific volume //m^3/kg\n",
"hfg=ufg+(p*vfg); //Evap. Enthalpy //Unit:kJ/kg\n",
"printf('hfg for saturated steam at 1.0 MPa is %f kJ/kg',hfg); //The tabulated values are matched"
   ]
   }
,
{
		   "cell_type": "markdown",
		   "metadata": {},
		   "source": [
			"## Example 5.6: Determine_hfg.sce"
		   ]
		  },
  {
"cell_type": "code",
	   "execution_count": null,
	   "metadata": {
	    "collapsed": true
	   },
	   "outputs": [],
"source": [
"//scilab 5.4.1\n",
"clear;\n",
"clc;\n",
"printf('\t\t\tProblem Number 5.6\n\n\n');\n",
"// Chapter 5 : Properties Of Liquids And Gases\n",
"// Problem 5.6  (page no. 190) \n",
"// Solution\n",
"\n",
"//For constant-temperature,reversible vaporization, hfg=deltah=T*deltas=T*sfg\n",
"hfg=(388.12+460)*(1.1042); //Evap. Enthalpy //Unit:Btu/lbm\n",
"printf('By considering the process to be a reversible,constant-temperature,hfg for saturated steam at 115 psia is %f Btu/lbm',hfg); //ans is wrong in the book\n",
"//Values are matched with tabulated values.Use of -459.67 F for absolute zero,which is the value used in table,gives almost exact agreement."
   ]
   }
,
{
		   "cell_type": "markdown",
		   "metadata": {},
		   "source": [
			"## Example 5.7: Determine_sx_hx_ux_and_vx.sce"
		   ]
		  },
  {
"cell_type": "code",
	   "execution_count": null,
	   "metadata": {
	    "collapsed": true
	   },
	   "outputs": [],
"source": [
"//scilab 5.4.1\n",
"clear;\n",
"clc;\n",
"printf('\t\t\tProblem Number 5.7\n\n\n');\n",
"// Chapter 5 : Properties Of Liquids And Gases\n",
"// Problem 5.7  (page no. 192) \n",
"// Solution\n",
"\n",
"//Using Table 2 ans a quality of 80%(x=0.8),we have\n",
"//at 120 psia\n",
"x=0.8;\n",
"sf=0.49201; //saturated liquid entropy //Unit:Btu/lbm*R\n",
"sfg=1.0966; //Evap. Entropy //Unit:Btu/lbm*R \n",
"hf=312.67; //saturated liquid enthalpy //Unit:Btu/lbm \n",
"hfg=878.5; //Evap. Enthalpy //Unit:Btu/lbm\n",
"uf=312.27; //saturated liquid internal energy //Unit:Btu/lbm \n",
"ufg=796.0; //Unit:Btu/lbm //Evap. internal energy\n",
"vf=0.017886; //Saturated liquid specific volume //Unit:ft^3/lbm \n",
"vfg=(3.730-0.017886); //evap. specific volume //Unit:ft^3/lbm \n",
"sx=sf+(x*sfg); //entropy //Btu/lbm*R\n",
"printf('Entropy of a wet steam mixture at 120 psia is %f Btu/lbm*R\n',sx);\n",
"hx=hf+(x*hfg); //enthalpy  //Btu/lbm*R\n",
"printf('Enthalpy of a wet steam mixture at 120 psia is %f Btu/lbm\n',hx);\n",
"ux=uf+(x*ufg); //internal energy //Btu/lbm*R\n",
"printf('Internal energy of a wet steam mixture at 120 psia is %f Btu/lbm\n',ux);\n",
"vx=vf+(x*vfg); ///specific volume //ft^3/lbm\n",
"printf('Specific Volume of a wet steam mixture at 120 psia is %f ft^3/lbm\n',vx);\n",
"//As a check,\n",
"J=778; //ft*lbf/Btu //Conversion factor\n",
"px=120; //psia //pressure\n",
"ux=hx-((px*vx*144)/J); //1 ft^2=144 in^2 //internal energy\n",
"printf('As a check,\n')\n",
"printf('Internal energy of a wet steam mixture at 120 psia is %f Btu/lbm\n',ux);\n",
"printf('Which agrees with the values obtained above');"
   ]
   }
,
{
		   "cell_type": "markdown",
		   "metadata": {},
		   "source": [
			"## Example 5.8: Determine_sx_hx_ux_and_vx_when_quality_is_given.sce"
		   ]
		  },
  {
"cell_type": "code",
	   "execution_count": null,
	   "metadata": {
	    "collapsed": true
	   },
	   "outputs": [],
"source": [
"//scilab 5.4.1\n",
"clear;\n",
"clc;\n",
"printf('\t\t\tProblem Number 5.8\n\n\n');\n",
"// Chapter 5 : Properties Of Liquids And Gases\n",
"// Problem 5.8  (page no. 193) \n",
"// Solution\n",
"\n",
"//Using Table 2 ans a quality of 85%(x=0.85),we have\n",
"//at 1.0 MPa\n",
"x=0.85;\n",
"sf=2.1387; //saturated liquid entropy //Unit:kJ/kg*K\n",
"sfg=4.4487; //Evap. Entropy //Unit:kJ/kg*K \n",
"hf=762.81; //saturated liquid enthalpy //Unit:kJ/kg\n",
"hfg=2015.3; //Evap. Enthalpy //Unit:kJ/kg\n",
"uf=761.68; //saturated liquid internal energy //Unit:kJ/kg\n",
"ufg=1822.0; //Unit:kJ/kg //Evap. internal energy\n",
"vf=1.1273; //Saturated liquid specific volume //Unit:m^3/kg \n",
"vfg=(194.44-1.1273); //evap. specific volume //Unit:m^3/kg \n",
"sx=sf+(x*sfg); //entropy //kJ/kg*K\n",
"printf('Entropy of a wet steam mixture at 1.0 MPa  is %f kJ/kg*K\n',sx);\n",
"hx=hf+(x*hfg); //enthalpy //kJ/kg*K\n",
"printf('Enthalpy of a wet steam mixture at 1.0 MPa is %f kJ/kg\n',hx);\n",
"ux=uf+(x*ufg); //internal energy  //kJ/kg*K\n",
"printf('Internal energy of a wet steam mixture at 1.0 MPa is %f kJ/kg\n',ux);\n",
"vx=(vf+(x*vfg))*(0.001); //specific volume //m^3/kg\n",
"printf('Specific Volume of a wet steam mixture at 1.0 MPa is %f m^3/kg\n',vx);\n",
"//As a check,\n",
"px=10^6; //psia //pressure\n",
"ux=hx-((px*vx)/10^3); //1 ft^2=144 in^2 //internal energy\n",
"printf('As a check,\n')\n",
"printf('Internal energy of a wet steam mixture at 120 psia is %f kJ/kg\n',ux);\n",
"printf('Which agrees with the values obtained above');\n",
"\n",
"\n",
"\n",
""
   ]
   }
,
{
		   "cell_type": "markdown",
		   "metadata": {},
		   "source": [
			"## Example 5.9: Quality_of_the_steam.sce"
		   ]
		  },
  {
"cell_type": "code",
	   "execution_count": null,
	   "metadata": {
	    "collapsed": true
	   },
	   "outputs": [],
"source": [
"//scilab 5.4.1\n",
"clear;\n",
"clc;\n",
"printf('\t\t\tProblem Number 5.9\n\n\n');\n",
"// Chapter 5 : Properties Of Liquids And Gases\n",
"// Problem 5.9  (page no. 193) \n",
"// Solution\n",
"\n",
"//For the wet mixture,hx=hf+(x*hfg),solving for x gives us\n",
"//Using table 1,we have,\n",
"hx=900; //Btu/lbm //Enthalpy of wet mixture at 90F\n",
"hf=58.07; //Btu/lbm //saturated liquid enthalpy\n",
"hfg=1042.7; //Btu/lbm //Evap. Enthalpy\n",
"x=(hx-hf)/hfg; //quality\n",
"printf('The quality is %f percentage of a wet steam at 90F\n',x*100);"
   ]
   }
],
"metadata": {
		  "kernelspec": {
		   "display_name": "Scilab",
		   "language": "scilab",
		   "name": "scilab"
		  },
		  "language_info": {
		   "file_extension": ".sce",
		   "help_links": [
			{
			 "text": "MetaKernel Magics",
			 "url": "https://github.com/calysto/metakernel/blob/master/metakernel/magics/README.md"
			}
		   ],
		   "mimetype": "text/x-octave",
		   "name": "scilab",
		   "version": "0.7.1"
		  }
		 },
		 "nbformat": 4,
		 "nbformat_minor": 0
}
