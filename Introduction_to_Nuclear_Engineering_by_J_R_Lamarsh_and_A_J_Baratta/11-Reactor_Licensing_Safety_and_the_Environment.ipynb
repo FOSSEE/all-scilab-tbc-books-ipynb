{
"cells": [
 {
		   "cell_type": "markdown",
	   "metadata": {},
	   "source": [
       "# Chapter 11: Reactor Licensing Safety and the Environment"
	   ]
	},
{
		   "cell_type": "markdown",
		   "metadata": {},
		   "source": [
			"## Example 11.10: Concentration_of_radionuclide.sce"
		   ]
		  },
  {
"cell_type": "code",
	   "execution_count": null,
	   "metadata": {
	    "collapsed": true
	   },
	   "outputs": [],
"source": [
"// Example 11.10\n",
"clear all;\n",
"clc;\n",
"\n",
"// Given data\n",
"P = 1000;                                       // Electrical power of the plant in Mwe\n",
"eta = 0.38;                                     // Plant efficiency\n",
"P_th = P/eta;                                   // Thermal power of the plant in MW\n",
"h = 100;                                        // Height of stack in metre\n",
"t = 24*365;                                     // The number of hours in a year\n",
"m0 = 13000;                                     // Amount of coal in the plant in Btu/lb\n",
"m0_ash = 0.09;                                  // Fraction of ash in the coal\n",
"\n",
"// 1.\n",
"E = P_th*t;                                     // Energy released in a year in MW-hour\n",
"// Converting the units in Btu by using 1 MW-hour = 3.412*10^6 Btu\n",
"m = (E*3.412*10^6)/m0;\n",
"// Converting the units in g/year by using 1 lb/year = 453.59237 g/year\n",
"m = m*453.59237;\n",
"// Assuming the fly ash equipment has an efficiency of 97.5% of fly ash removal\n",
"eta_flyash = 0.025;                             // Only (1-efficiency) is exhausted\n",
"m_ash = eta_flyash*m0_ash*m;\n",
"// A typical power plant contains 3pCi/g of each nuclide (Radium-226) in one year\n",
"A = 3*10^(-12);\n",
"// Calculation\n",
"A_total = A*m_ash;\n",
"// Result\n",
"printf(' \n Total activity of Radium-226 emitted = %.4f curie \n',A_total)\n",
"\n",
"// 2.\n",
"v_bar = 1;                                      // Wind speed in m/sec\n",
"t = 24*365*3600;                                // Analysis time of one year equivalently in seconds\n",
"MPC = 3*10^(-12);                               // Maximum Permissible Concentration in micro-curie/cm^3\n",
"Q_bar = A_total/t;                              // Emission rate for one year in curie/year\n",
"// Let the quantity chi*v_bar/Q_bar = x\n",
"// Using the plot for Pasquill F, given in Fig. A.7, Pg no 413 from Slade, D. H., Editor, Meteorology and Atomic Energy-1968. U. S. Atomic Energy Commission Report TID-24190, 1968.\n",
"x = 2.5*10^(-6);                                // Maximum value of x at 10^4 m \n",
"// Solving for chi\n",
"chi = (x*Q_bar)/v_bar;\n",
"// Converting the units from Ci/m^3 to micro-curie/cm^3 by multiplying by 10^6/10^6  = 1\n",
"printf(' \n Concentration of Radium-226 present = %.2E micro-curie/cm^3 \n',chi)\n",
"// Let c be the comparison factor\n",
"// Calculation\n",
"c = MPC/chi;\n",
"// Result\n",
"printf(' \n On comparison, the total concentration of Radium-226 is %d times smaller than Maximum Permissible Concentration (MPC) \n',c)\n",
"// The comparison factor is slightly different from the value in the textbook. This is because of approximation used in the textbook."
   ]
   }
,
{
		   "cell_type": "markdown",
		   "metadata": {},
		   "source": [
			"## Example 11.11: Activity_of_radioactive_gas_effluent.sce"
		   ]
		  },
  {
"cell_type": "code",
	   "execution_count": null,
	   "metadata": {
	    "collapsed": true
	   },
	   "outputs": [],
"source": [
"// Example 11.11\n",
"clear all;\n",
"clc;\n",
"\n",
"// Given data\n",
"Qy_bar = 1.04*10^(-2);                      // Emission rate for one year in curie/year\n",
"// Let (chi/Q_bar) = d which is called 'Dilution factor'\n",
"d = 4*10^(-8);                              // Dilution factor in year/cm^3\n",
"vd = 0.01;                                  // Experimentally determined constant\n",
"\n",
"// 1.\n",
"T_12 = 8.04;                                // Half life of Iodine 131 in days\n",
"T_12f = 14;                                 // First order half life of Iodine 131 in days\n",
"// Converting days into years by using 1 year = 365 days\n",
"lambda = 0.693/(T_12/365);                  // Decay constant of Iodine-131\n",
"lambdaf = 0.693/(T_12f/365);                // First order decay constant of Iodine-131\n",
"// Calculation\n",
"Cf = (Qy_bar*d*vd)/(lambda+lambdaf);\n",
"// Expressing the result in micro-curie \n",
"Cf = Cf*10^6;\n",
"// Result\n",
"printf(' \n The activity of I-131 on the vegetation = %.2E micro-curie/m^2 \n',Cf);\n",
"\n",
"// 2.\n",
"// The proportionality factor has a value 9*10^(-5) Ci/cm^3 of milk per Ci/m^2 of grass\n",
"// Calculation \n",
"Cm = 9*10^(-5)*Cf;\n",
"// Result\n",
"printf(' \n The concentration of I-131 in the milk = %.2E micro-curie/m^2 \n',Cm);\n",
"\n",
"// 3.\n",
"MPC = 3*10^(-7);                            // Maximum Permissible Concentration in micro-curie/cm^3\n",
"// Calculation\n",
"H_dot = (2270*Cm)/MPC;\n",
"// Result\n",
"printf(' \n The annual dose rate to an infant thyroid by consuming radiated milk = %.2E mrem/year \n',H_dot);"
   ]
   }
,
{
		   "cell_type": "markdown",
		   "metadata": {},
		   "source": [
			"## Example 11.12: Activity_of_radioactive_liquid_effluent.sce"
		   ]
		  },
  {
"cell_type": "code",
	   "execution_count": null,
	   "metadata": {
	    "collapsed": true
	   },
	   "outputs": [],
"source": [
"// Example 11.12\n",
"clear all;\n",
"clc;\n",
"\n",
"// Given data\n",
"Qy_bar = 0.197;                             // Emission rate for one year in micro-curie/year\n",
"// Let (chi/Q_bar) = d which is called 'Dilution factor'\n",
"d = 6.29*10^(-16);                          // Dilution factor in year/cm^3\n",
"MPC_w = 6*10^(-5);                          // Maximum Permissible Concentration (MPC) of iron in micro-curie/cm^3\n",
"\n",
"Cw = Qy_bar*d;                              // The concentration of Fe-59 \n",
"// For fish\n",
"Rs_fish = 110;                             // Consumption rate in g/day\n",
"// Using the data from Table 11.15 for saltwater concentration of fish for iron\n",
"CF_fish = 1800;                            // Concentration Factor of fish\n",
"Cs_fish = CF_fish*Cw;                       // Activity of fish\n",
"H_dot_fish = (Cs_fish*Rs_fish*500)/(MPC_w*2200);    // Dose rate for fish\n",
"\n",
"// For mollusks\n",
"Rs_mollusk = 10;                           // Consumption rate in g/day\n",
"// Using the data from Table 11.15 for saltwater concentration of mollusk for iron\n",
"CF_mollusk = 7600;                         // Concentration Factor of mollusk\n",
"Cs_mollusk = CF_mollusk*Cw;                 // Activity of mollusk\n",
"H_dot_mollusk = (Cs_mollusk*Rs_mollusk*500)/(MPC_w*2200);   // Dose rate for mollusk\n",
"\n",
"// For crustaceans\n",
"Rs_crustacean = 10;                        // Consumption rate in g/day\n",
"// Using the data from Table 11.15 for saltwater concentration of crustacean for iron\n",
"CF_crustacean = 2000;                      // Concentration Factor of crustacean\n",
"Cs_crustacean = CF_crustacean*Cw;           // Activity of crustacean\n",
"H_dot_crustacean = (Cs_crustacean*Rs_crustacean*500)/(MPC_w*2200);  // Dose rate for crustacean\n",
"\n",
"// Calculation\n",
"H_dot = H_dot_fish+H_dot_mollusk+H_dot_crustacean;\n",
"// Result\n",
"printf(' \n The annual dose rate to GI tract by consuming fish = %.2E mrem/year',H_dot_fish);\n",
"printf(' \n The annual dose rate to GI tract by consuming mollusk = %.2E mrem/year',H_dot_mollusk);\n",
"printf(' \n The annual dose rate to GI tract by consuming crustaceans = %.2E mrem/year',H_dot_crustacean);\n",
"printf(' \n The annual dose rate to GI tract by consuming seafood = %.2E mrem/year \n',H_dot);\n",
"// The answer for annual dose rate to GI tract by consuming fish is wrong in the textbook. This is because the value of fish consumption rate is wrongly considered."
   ]
   }
,
{
		   "cell_type": "markdown",
		   "metadata": {},
		   "source": [
			"## Example 11.1: Diffusion_of_radioactive_effluents.sce"
		   ]
		  },
  {
"cell_type": "code",
	   "execution_count": null,
	   "metadata": {
	    "collapsed": true
	   },
	   "outputs": [],
"source": [
"// Example 11.1\n",
"clear all;\n",
"clc;\n",
"\n",
"// Given data\n",
"h = 30;                                     // Height at which the effluent is relaesed\n",
"// Calculation of maxima location \n",
"sigma_z = h/sqrt(2);                        // Vertical dispersion coefficient\n",
"// Using the plot given in Figure 11.12 for Type F condition\n",
"// The corresponding value with calculated maximum location is noted. \n",
"h_max = 1900;\n",
"// Result\n",
"printf(' \n The point of maximum concentration of non-radioactive effluent = %d m \n',h_max);"
   ]
   }
,
{
		   "cell_type": "markdown",
		   "metadata": {},
		   "source": [
			"## Example 11.2: External_dose_from_gamma_rays.sce"
		   ]
		  },
  {
"cell_type": "code",
	   "execution_count": null,
	   "metadata": {
	    "collapsed": true
	   },
	   "outputs": [],
"source": [
"// Example 11.2\n",
"clear all;\n",
"clc;\n",
"\n",
"// Given data\n",
"A = 2*10^3;                                 // Amount of radioactivity release due to Xenon-133 in curie\n",
"t = 365*24*3600;                            // Time in seconds\n",
"Q_dash = A/t;                               // Average emission rate of Xenon-133\n",
"h = 100;                                    // Location of radioactivity release through vent\n",
"v_bar = 1;                                  // Wind speed in m/sec\n",
"// Using the plot given in Figure 11.11 and 11.12 for Type F condition at 100 m\n",
"sigma_y = 275;                              // Horizontal dispersion coefficient\n",
"sigma_z = 46;                               // Vertical dispersion coefficient\n",
"chi = (Q_dash*exp(-h^2/(2*sigma_z^2)))/(%pi*v_bar*sigma_y*sigma_z);     // Radionuclide concentration in terms of Ci/cm^3\n",
"// Using data from Table 11.3\n",
"Eg_bar = 0.03;                              // Average gamma decay energy per disintegration in MeV\n",
"// Calculation \n",
"H_dot = 0.262*chi*Eg_bar*t*10^3;            // The units are in mrem/year\n",
"// Expressing the dose rate in SI units\n",
"H_dot_SI = 2.62*chi*Eg_bar*t*10^3;\n",
"// Result\n",
"printf(' \n The external gamma dose rate due to xenon release under type F condition = %.4f mrem/year or %.3f mSv/year \n',H_dot,H_dot_SI);"
   ]
   }
,
{
		   "cell_type": "markdown",
		   "metadata": {},
		   "source": [
			"## Example 11.3: External_dose_from_gamma_rays.sce"
		   ]
		  },
  {
"cell_type": "code",
	   "execution_count": null,
	   "metadata": {
	    "collapsed": true
	   },
	   "outputs": [],
"source": [
"// Example 11.3\n",
"clear all;\n",
"clc;\n",
"\n",
"// Using data from Table 11.3\n",
"Eg_bar = 0.00211;                            // Average gamma decay energy per disintegration in MeV\n",
"// Calculation\n",
"C_y = 0.262*Eg_bar;\n",
"// Result\n",
"printf(' \n The dose rate factor due to krypton exposure = %.2E rem*m^3/sec-Ci \n',C_y);"
   ]
   }
,
{
		   "cell_type": "markdown",
		   "metadata": {},
		   "source": [
			"## Example 11.4: External_dose_from_gamma_rays.sce"
		   ]
		  },
  {
"cell_type": "code",
	   "execution_count": null,
	   "metadata": {
	    "collapsed": true
	   },
	   "outputs": [],
"source": [
"// Example 11.4\n",
"clear all;\n",
"clc;\n",
"\n",
"// The results given in Example 11.2 are to be used in this problem\n",
"chi = 1.5*10^(-10);                             // Radionuclide concentration in terms of Ci/cm^3\n",
"t = 365*24*3600;                                // Time in seconds\n",
"// Using data from Table 11.3\n",
"Ebeta_bar = 0.146;                              // Average gamma decay energy per disintegration in MeV\n",
"f = 1;                                          // Experimentally detemined factor\n",
"// Calculation\n",
"H_dot = 0.229*Ebeta_bar*chi*f*t;\n",
"// Expressing the result in milli-rem\n",
"printf(' \n The external beta dose rate due to xenon exposure for a year = %.3f mrem/year \n',H_dot*10^3);"
   ]
   }
,
{
		   "cell_type": "markdown",
		   "metadata": {},
		   "source": [
			"## Example 11.5: Dose_rate_to_thyroid.sce"
		   ]
		  },
  {
"cell_type": "code",
	   "execution_count": null,
	   "metadata": {
	    "collapsed": true
	   },
	   "outputs": [],
"source": [
"// Example 11.5\n",
"clear all;\n",
"clc;\n",
"\n",
"// Given data\n",
"A = 1.23;                                   // Amount of radioactivity release due to I-131 in curie in one year\n",
"h = 30;                                     // Location of radioactivity release through vent in meter\n",
"v_bar = 1.2;                                // Wind speed in m/sec\n",
"T_12 = 8.04;                                // Half life of Iodine 131 in days\n",
"T_12b = 138;                                // Biological half life of Iodine 131 in days\n",
"zeta = 0.23;                                // Fraction of core inventory in MeV \n",
"q = 0.23;                                   // Fraction of Iodine-131 in thyroid\n",
"M = 20;                                     // Mass of an adult thyroid in grams\n",
"\n",
"// 1.\n",
"t = 365*24*3600;                            // Time in seconds\n",
"Q_dash = A/t;                               // Average emission rate of Iodine-131\n",
"// Converting days into seconds by using 1 day = 86400 seconds\n",
"lambda = 0.693/(T_12*86400);                // Decay constant of Iodine-131\n",
"lambda_b = 0.693/(T_12b*86400);             // Biological decay constant of Iodine-131\n",
"// Let the quantity chi*v_bar/Q_bar = x\n",
"// Using the plot given in Figure 11.13 for Type E condition at 2000 m\n",
"x = 6*10^(-5);\n",
"// Solving for chi\n",
"chi = (x*Q_dash)/v_bar;\n",
"// As per the standards of International Commission on Radiolgical Protection (ICRP) \n",
"B = 2.32*10^(-4);                           // Normal breathing rate in m^3/sec\n",
"// Calculation\n",
"H_dot = (592*B*zeta*q*chi)/(M*(lambda+lambda_b));\n",
"// Result\n",
"printf(' \n The equilibrium dose rate to an adult thyroid = %.2E rem/sec \n',H_dot);\n",
"\n",
"// 2.\n",
"// Calculation\n",
"H = H_dot*t;\n",
"// Expressing the result in milli-rem\n",
"// Result\n",
"printf(' \n The annual dose to an adult thyroid = %.2f mrem \n',H*10^3);"
   ]
   }
,
{
		   "cell_type": "markdown",
		   "metadata": {},
		   "source": [
			"## Example 11.6: Ground_exposure_from_gamma_rays.sce"
		   ]
		  },
  {
"cell_type": "code",
	   "execution_count": null,
	   "metadata": {
	    "collapsed": true
	   },
	   "outputs": [],
"source": [
"// Example 11.6\n",
"clear all;\n",
"clc;\n",
"\n",
"// Given data\n",
"E = 0.66;                                       // Energy of gamma ray emitted by caesium in MeV\n",
"x = 100;                                        // Height of exposure in cm\n",
"// Using the data from Table II.5 for air at E = 0.66 MeV\n",
"mua_rho = 0.0294;                               // The ratio of absorption coefficient to density of air in cm^2/g\n",
"// Using the data from Table II.4 for air at E = 0.66 MeV\n",
"mu_rho = 0.0775;                               // The ratio of attenuation coefficient to density of air in cm^2/g\n",
"// Using standard value for density of air\n",
"rho = 1.293*10^(-3);\n",
"mu = mu_rho*rho;\n",
"mux = mu*x;\n",
"gamma = 0.57722;                                  // Euler's constant\n",
"E1 = -gamma+log(1/mux)+mux;                       // Conversion factor \n",
"// Using parameter data from Table 11.16\n",
"C = 1.41;                                       // A constant\n",
"beta = 0.0857;                                  // A constant\n",
"// Calculation\n",
"H_dot_S = 3.39*10^(-2)*E*mua_rho*(E1+(C*exp(-(1-beta)*mux)/(1-beta)));\n",
"// Converting time in hours by 1 hour = 3600 seconds\n",
"// Result\n",
"printf(' \n The gamma ray dose rate conversion factor due to caesium-137 = %.2E rem*m^2/sec-Ci or %.2f rem*m^2/hour-Ci\n',H_dot_S,H_dot_S*3600);\n",
""
   ]
   }
,
{
		   "cell_type": "markdown",
		   "metadata": {},
		   "source": [
			"## Example 11.7: External_dose_from_gamma_rays.sce"
		   ]
		  },
  {
"cell_type": "code",
	   "execution_count": null,
	   "metadata": {
	    "collapsed": true
	   },
	   "outputs": [],
"source": [
"// Example 11.7\n",
"clear all;\n",
"clc;\n",
"\n",
"// Given data\n",
"C0 = 6.25*10^6;                              // Amount of initial radioactivity release due to I-131 in curie\n",
"p = 0.1;                                    // Leakage rate in percent\n",
"t0 = 2*3600;                                // Analysis time in seconds\n",
"v_bar = 1;                                  // Wind speed in m/sec\n",
"\n",
"// 1.\n",
"lambdal = 0.01*p/86400;                     // Decay constant corresponding to leakage rate in seconds (1 day = 86400 seconds)\n",
"// Using the data from Example 11.5 for the half life of Iodine-131\n",
"T_12 = 8.04;                                // Half life of Iodine 131 in days\n",
"lambdac = 0.693/(T_12*86400);               // Decay constant of Iodine-131 (I-131) in seconds\n",
"// Using data from Table 11.3\n",
"Eg_bar = 0.371;                             // Average gamma decay energy per disintegration of I-131 in MeV\n",
"// Using the plot given in Figure 11.11 and 11.12 for Type F condition at 100 m\n",
"sigma_y = 21;                               // Horizontal dispersion coefficient\n",
"sigma_z = 70;                               // Vertical dispersion coefficient\n",
"// As lambdac*t << 1, \n",
"// Calculation\n",
"H = (0.262*Eg_bar*lambdal*C0*t0)/(%pi*v_bar*sigma_y*sigma_z);\n",
"// Result\n",
"printf(' \n The total external dose due to gamma ray exposure = %.2E rem\n',H)\n",
"\n",
"// 2.\n",
"// Using the data given in Example 11.5\n",
"B = 2.32*10^(-4);                           // Normal breathing rate in m^3/sec\n",
"zeta = 0.23;                                // Fraction of core inventory in MeV \n",
"q = 0.23;                                   // Fraction of Iodine-131 in thyroid\n",
"M = 20;                                     // Mass of an adult thyroid in grams\n",
"// Calculation\n",
"H_dot = (592*B*zeta*q*lambdal*C0*t0)/(%pi*v_bar*sigma_y*sigma_z*M);\n",
"// Converting the units from rem/sec to milli-rem/hour by multiplying by (1000*3600)\n",
"// Result\n",
"printf(' \n The dose rate to an adult thyroid after 2 hours = %.2E rem/sec or %d mrem/hour\n',H_dot,ceil(H_dot*(1000*3600)));\n",
"\n",
"// 3.\n",
"// Using the data given in Example 11.5\n",
"T_12 = 8.04;                                // Half life of Iodine 131 in days\n",
"T_12b = 138;                                // Biological half life of Iodine 131 in days\n",
"lambda = 0.693/(T_12*86400);                // Decay constant of Iodine-131 in sec^(-1)\n",
"lambda_b = 0.693/(T_12b*86400);             // Biological decay constant of Iodine-131 in sec^(-1)\n",
"// Calculation\n",
"H = H_dot/(lambda+lambda_b);\n",
"// Result\n",
"printf(' \n The dose commitment to thyroid by Iodine-131 exposure after 2 hours = %.2f rem \n',H);"
   ]
   }
,
{
		   "cell_type": "markdown",
		   "metadata": {},
		   "source": [
			"## Example 11.8: Direct_dose_from_gamma_rays.sce"
		   ]
		  },
  {
"cell_type": "code",
	   "execution_count": null,
	   "metadata": {
	    "collapsed": true
	   },
	   "outputs": [],
"source": [
"// Example 11.8\n",
"clear all;\n",
"clc;\n",
"\n",
"// Given\n",
"E = 2.4;                                    // Energy of gamma rays in MeV\n",
"r = 1000*100;                               // Distance from the building where radiation is exposed in cm\n",
"t0 = 2*3600;                                // Time of exposure in seconds\n",
"A = 3*10^7;                                 // Amount of initial radioactivity release due to Kr-88 in curie\n",
"f = 0.4;                                    // Fraction of disintegrations which release 2.4 MeV gamma rays\n",
"C0 = A*f;                                   // Effective number of curies \n",
"T_12 = 2.79;                                // Half life of Iodine 131 in hours\n",
"\n",
"lambda = 0.693/(T_12*3600);                 // Decay constant of Iodine-131 in sec^(-1)\n",
"// Using the result given in Example 11.7\n",
"lambdal = 1.16*10^(-8);                     // Decay constant corresponding to fission prouduct release from building\n",
"lambdac = lambda+lambdal;                   // Total decay constant in sec^(-1) \n",
"// Using the data from Table II.4 for air at E = 2.4 MeV\n",
"mu_rho = 0.041;                             // The attenuation coefficient in cm^2/g\n",
"// Using standard value for density of air in g/cm^3\n",
"rho = 1.293*10^(-3);\n",
"mu = mu_rho*rho;\n",
"// Using the data from Table II.5 for air at E = 2.4 MeV\n",
"mua_rho = 0.0227;                           // The ratio of absorption coefficient to density of air in cm^2/g\n",
"printf(' \n Buildup factor is measured at %.2f',mu*r);\n",
"// Using Berger's form in Problem 11.9 \n",
"B_p = 4.7;                                  // Buildup factor due to a point source\n",
"// Calculation\n",
"H = (54*C0*(1-exp(-lambdac*t0))/lambdac)*(E*mua_rho*B_p*exp(-mu*r)/r^2);\n",
"// Result\n",
"printf(' \n The direct dose due to gamma ray exposure = %.4f rem \n',H)\n",
"// There is a slight deviation in the answer due to approximation of value in the textbook."
   ]
   }
,
{
		   "cell_type": "markdown",
		   "metadata": {},
		   "source": [
			"## Example 11.9: Activity_of_radionuclide_release_into_atmosphere.sce"
		   ]
		  },
  {
"cell_type": "code",
	   "execution_count": null,
	   "metadata": {
	    "collapsed": true
	   },
	   "outputs": [],
"source": [
"// Example 11.9\n",
"clear all;\n",
"clc;\n",
"\n",
"// Given data\n",
"gammai = 0.0277;                            // Fission yield of Iodine-131 in fraction\n",
"P = 3200;                                   // Thermal power of the plant in MW\n",
"// Calculation\n",
"alphai = 8.46*10^5*P*gammai;\n",
"// Result\n",
"printf(' \n The saturation activity of Iodine-131 during reactor operation = %.2E curie \n',alphai)\n",
"\n",
"// Using assumption 2 of Nuclear Regulatory Commission (NRC) in calculation of radii of exclusion zone and Low Population Zone (LPZ)\n",
"// Due to core meltdown, 25 percent of iodine inventory is released and out of which 91 percent is in elemental form.\n",
"Fp = 0.25*0.91;                             // Fraction of Iodine-131 released from the fuel into the reactor containment\n",
"// As entire iodine escapes through air\n",
"Fb = 1;                                     // Fraction of 'Fp' which remains airborne and is capable of escaping from the building\n",
"// Calculation\n",
"C0 = alphai*Fp*Fb;\n",
"// Result\n",
"printf(' \n The activity of Iodine-131 in elemental form due to core meltdown = %.2E curie \n',C0);"
   ]
   }
],
"metadata": {
		  "kernelspec": {
		   "display_name": "Scilab",
		   "language": "scilab",
		   "name": "scilab"
		  },
		  "language_info": {
		   "file_extension": ".sce",
		   "help_links": [
			{
			 "text": "MetaKernel Magics",
			 "url": "https://github.com/calysto/metakernel/blob/master/metakernel/magics/README.md"
			}
		   ],
		   "mimetype": "text/x-octave",
		   "name": "scilab",
		   "version": "0.7.1"
		  }
		 },
		 "nbformat": 4,
		 "nbformat_minor": 0
}
