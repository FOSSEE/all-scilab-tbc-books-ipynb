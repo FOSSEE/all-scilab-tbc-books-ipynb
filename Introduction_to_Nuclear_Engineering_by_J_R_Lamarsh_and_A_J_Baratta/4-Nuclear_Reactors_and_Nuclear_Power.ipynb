{
"cells": [
 {
		   "cell_type": "markdown",
	   "metadata": {},
	   "source": [
       "# Chapter 4: Nuclear Reactors and Nuclear Power"
	   ]
	},
{
		   "cell_type": "markdown",
		   "metadata": {},
		   "source": [
			"## Example 4.1: Conversion_and_Breeding_of_nuclear_fuels.sce"
		   ]
		  },
  {
"cell_type": "code",
	   "execution_count": null,
	   "metadata": {
	    "collapsed": true
	   },
	   "outputs": [],
"source": [
"// Example 4.1\n",
"clear all;\n",
"clc;\n",
"\n",
"// Given data\n",
"// Number of neutrons absorbed by Uranium-238 in resonances for every neutron absorbed in Uranium-235\n",
"n_resonance = 0.254;\n",
"// Number of neutrons absorbed by Uranium-238 at thermal energy for every neutron absorbed in Uranium-235\n",
"n_th = 0.64;\n",
"m = 1;                  // Amount of Uranium-235 consumed in kg\n",
"A_U = 235;              // Atomic mass number of Uranium-235\n",
"A_Pu = 239;             // Atomic mass number of Plutonium-239\n",
"\n",
"// 1.\n",
"// Calculation \n",
"C = n_resonance+n_th;\n",
"// Result\n",
"printf('\n Conversion ratio of the reactor = %4.3f \n',C);\n",
"\n",
"// 2. \n",
"// Calculation \n",
"amt_Pu = m*C*A_Pu/A_U;\n",
"// Result\n",
"printf('\n Amount of Plutonium-239 produced in the reactor = %4.3f kg \n',amt_Pu);"
   ]
   }
,
{
		   "cell_type": "markdown",
		   "metadata": {},
		   "source": [
			"## Example 4.2: Production_and_doubling_time_of_nuclear_fuels.sce"
		   ]
		  },
  {
"cell_type": "code",
	   "execution_count": null,
	   "metadata": {
	    "collapsed": true
	   },
	   "outputs": [],
"source": [
"// Example 4.2\n",
"clear all;\n",
"clc;\n",
"\n",
"// Given data\n",
"wP0 = 1;                // Total fuel consumption rate in terms of kg/day\n",
"M = 500;                // Amount of Plutonium-239 in kg at startup of the reactor\n",
"breeding_gain = 0.15;   // Breeding gain of the reactor\n",
"\n",
"// 1.\n",
"printf(' The Fast breeder reactor produces %.2f kg of plutonium-239 more for every kilogram consumed \n',breeding_gain);\n",
"// Calculation\n",
"// 1 year = 365 days\n",
"production_rate = ceil(breeding_gain*365);\n",
"// Result\n",
"printf('\n Production rate of plutonium-239 = %3.2f kg/day = %d kg/year',breeding_gain,production_rate);\n",
"\n",
"// 2.\n",
"// Calculation \n",
"t_Dl = M/production_rate;\n",
"t_De = log(2)*t_Dl;\n",
"// Result\n",
"printf(' \n Linear doubling time of plutonium fuel in the reactor = %2.1f years \n',t_Dl);\n",
"printf(' \n Exponential doubling time of plutonium fuel in the reactor = %2.1f years \n',t_De);"
   ]
   }
,
{
		   "cell_type": "markdown",
		   "metadata": {},
		   "source": [
			"## Example 4.3: Nuclear_fuel_performance.sce"
		   ]
		  },
  {
"cell_type": "code",
	   "execution_count": null,
	   "metadata": {
	    "collapsed": true
	   },
	   "outputs": [],
"source": [
"// Example 4.3\n",
"clear all;\n",
"clc;\n",
"\n",
"// Given data\n",
"power = 3300;         // Reactor power in MW\n",
"time = 750;           // Reactor operation time in days\n",
"amt_UO2 = 98;         // Amount of Uranium dioxide (UO2) in metric tons\n",
"atwt_U = 238;         // As the enrichment of Uranium-235 is 3 w/o the majority portion is Uranium-238\n",
"molwt_O = 16;          // Molecular weight of Oxygen\n",
"\n",
"\n",
"// 1.\n",
"amt_U = amt_UO2*atwt_U/(atwt_U+2*molwt_O);  // Amount of uranium in tonne\n",
"total_burnup = power*time;                  // Total burnup in MWd\n",
"// Calculation \n",
"specific_burnup = total_burnup/amt_U;\n",
"// Result\n",
"printf(' \n Specific burnup = %3.2f MWd/tonne \n',specific_burnup);\n",
"\n",
"// 2.\n",
"// Due to fission of 1.05 g of Uranium-235, 1 MWd of energy is released.\n",
"m = 1.05;\n",
"P = 10^6;\n",
"maxth_burnup = P/m;                         // Theoritical maximum burnup \n",
"// Calculation of Fractional burnup\n",
"bet = specific_burnup/maxth_burnup;\n",
"// Result\n",
"printf(' \n Fractional burnup = %3.2f percent \n',bet*100);\n",
"// Due to approximation of specific burnup value, there is a slight change in fractional burnup value as compared to the textbook value."
   ]
   }
,
{
		   "cell_type": "markdown",
		   "metadata": {},
		   "source": [
			"## Example 4.4: Plant_availability_factor_and_capacity_factor.sce"
		   ]
		  },
  {
"cell_type": "code",
	   "execution_count": null,
	   "metadata": {
	    "collapsed": true
	   },
	   "outputs": [],
"source": [
"// Example 4.4\n",
"clear all;\n",
"clc;\n",
"\n",
"// Given data\n",
"ratpower = 1075;                // Output rated electrical power in MWe of the reactor\n",
"delpower_yr = 255000;           // Net output power delivered in one year in terms of MWd\n",
"time_refuel = 28;               // Number of days the plant was shutdown for refuelling\n",
"time_repairs = 45;              // Number of days the plant was shutdown for repairs\n",
"time_convrepairs = 18;          // Number of days the plant was shutdown for conventional repairs\n",
"\n",
"// 1.\n",
"// 1 year = 365 days\n",
"ratpower_yr = ratpower*365;      // Net output rated power in one year in terms of MWd\n",
"// Calculation\n",
"cap_factor = delpower_yr/ratpower_yr;\n",
"// Result\n",
"printf(' \n Plant capacity factor = %d percent\n',ceil(cap_factor*100));\n",
"\n",
"// 2.\n",
"// Number of days the plant was shutdown in one year \n",
"total_shutdown = time_refuel+time_repairs+time_convrepairs;\n",
"// Number of days the plant was operable in one year\n",
"total_operation = 365-total_shutdown;\n",
"// Calculation\n",
"ava_factor = total_operation/365;\n",
"// Result\n",
"printf(' \n Plant availability factor = %d percent\n',ava_factor*100);"
   ]
   }
,
{
		   "cell_type": "markdown",
		   "metadata": {},
		   "source": [
			"## Example 4.5: Nuclear_fuel_utlizatio.sce"
		   ]
		  },
  {
"cell_type": "code",
	   "execution_count": null,
	   "metadata": {
	    "collapsed": true
	   },
	   "outputs": [],
"source": [
"// Example 4.5\n",
"clear all;\n",
"clc;\n",
"\n",
"// Given data \n",
"t = 30;                         // Time of uranium sufficiency in years \n",
"// Assuming once through Light Water Reactor (LWR)fuel cycle\n",
"U_LWR = 0.0055;                 // Uranium Utilization factor for LWR\n",
"// Assuming once through Liquid Metal cooled Fast Breeder Reactor (LMFBR) fuel cycle\n",
"U_LMFBR = 0.67;                 // Uranium Utilization factor for LMFBR\n",
"// Estimation \n",
"est_time = 30*U_LMFBR/U_LWR;\n",
"// Result\n",
"printf('The time for which Uranium would fuel LMFBR = %d years \n',ceil(est_time));"
   ]
   }
,
{
		   "cell_type": "markdown",
		   "metadata": {},
		   "source": [
			"## Example 4.6: Separative_work.sce"
		   ]
		  },
  {
"cell_type": "code",
	   "execution_count": null,
	   "metadata": {
	    "collapsed": true
	   },
	   "outputs": [],
"source": [
"// Example 4.6\n",
"clear all;\n",
"clc;\n",
"\n",
"// Given data\n",
"A_U = 238;              // Atomic Mass number of Uranium\n",
"A_O = 16;               // Atomic Mass number of Oxygen\n",
"amt_UO2 = 33000;        // Amount of Uranium dioxide (UO2) present in kilogram(kg)\n",
"x_P = 0.032;            // Enrichment of 3.2 w/o uranium product\n",
"x_T = 0.002;            // Enrichemnt of 0.2 w/o residual tails\n",
"// From Figure 4.45\n",
"x_F = 0.00711;          // Enrichemnt of 0.711 w/o feed\n",
"\n",
"// 1.\n",
"// Estimation of enriched uranium in kg\n",
"M_P = A_U*amt_UO2/(A_U+2*A_O);\n",
"// Estimation of amount of Uranium feed in kg\n",
"M_F = ((x_P-x_T)/(x_F-x_T))*M_P;\n",
"// Result\n",
"printf(' \n The amount of uranium feed required per reload = %d kg \n',ceil(M_F));\n",
"\n",
"// 2.\n",
"V_x_P = (1-2*x_P)*log((1-x_P)/x_P);         // Value function of uranium product with enrichemnt of 3.2 w/o\n",
"V_x_F = (1-2*x_F)*log((1-x_F)/x_F);         // Value function of feed with enrichemnt of 0.711 w/o\n",
"V_x_T = (1-2*x_T)*log((1-x_T)/x_T);         // Value function of tallings with enrichemnt of 0.2 w/o\n",
"rate_SWU = 130.75;                          // Enrichment cost in dollars per SWU\n",
"// Calculation \n",
"SWU = M_P*(V_x_P-V_x_T)-M_F*(V_x_F-V_x_T);  // Separative Work (SWU) in kg\n",
"enrich_cost = ceil(SWU)*rate_SWU;           // Enrichment cost in dollars\n",
"// Result\n",
"printf('\n The enrichment cost = $ %d \n',ceil(enrich_cost));\n",
"// Due to approximation of Separative Work Unit(SWU), there is a difference in the value of enrichment cost on comparison with the textbook value.\n",
""
   ]
   }
],
"metadata": {
		  "kernelspec": {
		   "display_name": "Scilab",
		   "language": "scilab",
		   "name": "scilab"
		  },
		  "language_info": {
		   "file_extension": ".sce",
		   "help_links": [
			{
			 "text": "MetaKernel Magics",
			 "url": "https://github.com/calysto/metakernel/blob/master/metakernel/magics/README.md"
			}
		   ],
		   "mimetype": "text/x-octave",
		   "name": "scilab",
		   "version": "0.7.1"
		  }
		 },
		 "nbformat": 4,
		 "nbformat_minor": 0
}
