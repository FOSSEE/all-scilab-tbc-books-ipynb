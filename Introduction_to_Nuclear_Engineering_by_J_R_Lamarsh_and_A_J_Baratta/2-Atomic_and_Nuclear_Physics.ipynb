{
"cells": [
 {
		   "cell_type": "markdown",
	   "metadata": {},
	   "source": [
       "# Chapter 2: Atomic and Nuclear Physics"
	   ]
	},
{
		   "cell_type": "markdown",
		   "metadata": {},
		   "source": [
			"## Example 2.10: Mass_equatio.sce"
		   ]
		  },
  {
"cell_type": "code",
	   "execution_count": null,
	   "metadata": {
	    "collapsed": true
	   },
	   "outputs": [],
"source": [
"// Example 2.10\n",
"clear all;\n",
"clc;\n",
"\n",
"// Using standard data table of mass and the coefficients of mass equation for Silver-107\n",
"N = 60;                                       // Number of neutrons\n",
"Z = 47;                                       // Atomic number\n",
"A = 107;                                      // Atomic mass number\n",
"// The coefficients used in mass equation are \n",
"alpha = 15.56;\n",
"bet = 17.23;\n",
"gam = 0.697;\n",
"zeta = 23.285;\n",
"mn = 939.573;                                 // Mass of neutron in terms of energy\n",
"mH = 938.791;                                 // Mass of proton in terms of energy\n",
"// Calculation \n",
"disp('Using mass equation');\n",
"M = (N*mn)+(Z*mH)-(alpha*A)+(bet*(A^(2/3)))+(gam*Z^2/A^(1/3))+(zeta*(A-2*Z)^2/A);\n",
"// Expressing in amu by using 1 amu = 931.5 MeV\n",
"M_amu = M/931.5;\n",
"printf(' Mass = %5.5f MeV = %5.5f u \n',M,M_amu);\n",
"disp('Actual mass = 106.905092 u');\n",
"// Calculation \n",
"BE = (alpha*A)-(bet*(A^(2/3)))-(gam*Z^2/A^(1/3))-((zeta*(A-(2*Z))^2)/A);\n",
"// Result\n",
"printf('\n Binding Energy = %4.2f MeV or %3.1f MeV/nucleon \n',BE,BE/107);\n",
"// The value is different from the answer given in the textbook. The textbook answer is wrong."
   ]
   }
,
{
		   "cell_type": "markdown",
		   "metadata": {},
		   "source": [
			"## Example 2.11: Energy_of_Maxwellian_distribution.sce"
		   ]
		  },
  {
"cell_type": "code",
	   "execution_count": null,
	   "metadata": {
	    "collapsed": true
	   },
	   "outputs": [],
"source": [
"// Example 2.11\n",
"clear all;\n",
"clc;\n",
"\n",
"// Given data\n",
"T_C = 38;                           // Given temeperature in celsius\n",
"//The temperature in Kelvin \n",
"T_K = T_C+273.15;\n",
"T_0 = 293.61;                       // The temperature in kelvin equivalent to 0 deg celsius\n",
"kT = 0.0253;                        // The term 'kT' in eV at temperature T0\n",
"// Calculation\n",
"Ep = 0.5*kT*(T_K/T_0);\n",
"Ebar = 3*Ep;\n",
"// Result\n",
"printf(' Most probable energy of air molecules = %5.5f eV \n',Ep);\n",
"printf(' Average energy of air molecules = %5.5f eV \n',Ebar);\n",
"\n",
""
   ]
   }
,
{
		   "cell_type": "markdown",
		   "metadata": {},
		   "source": [
			"## Example 2.12: Atom_density.sce"
		   ]
		  },
  {
"cell_type": "code",
	   "execution_count": null,
	   "metadata": {
	    "collapsed": true
	   },
	   "outputs": [],
"source": [
"// Example 2.12\n",
"clear all;\n",
"clc;\n",
"\n",
"// Given data\n",
"rho = 0.97;                                 // Density of Sodium in gram/cm^3\n",
"// From standard data table\n",
"NA = 0.6022*10^24;                          // Avagodro number\n",
"M = 22.99;                                  // Atomic weight of Sodium\n",
"// Calculation\n",
"N = rho*NA/M;\n",
"// Result\n",
"printf('Atom density of sodium = %5.5E atoms/cm^3 \n',N);"
   ]
   }
,
{
		   "cell_type": "markdown",
		   "metadata": {},
		   "source": [
			"## Example 2.13: Atom_density.sce"
		   ]
		  },
  {
"cell_type": "code",
	   "execution_count": null,
	   "metadata": {
	    "collapsed": true
	   },
	   "outputs": [],
"source": [
"// Example 2.13\n",
"clear all;\n",
"clc;\n",
"\n",
"// Given data\n",
"rho_NaCl = 2.17;                    // Density of Sodium Chloride(NaCl) in gram/cm^3\n",
"// From standard data table\n",
"NA = 0.6022*10^24;                  // Avogodro number\n",
"M_Na = 22.99;                       // Atomic weight of Sodium(Na)\n",
"M_Cl = 35.453;                      // Atomic weight of Chlorine(Cl)\n",
"M_NaCl = M_Na+M_Cl;                 // Molecular weight of Sodium Chloride(NaCl)\n",
"// Calculation\n",
"N = rho_NaCl*NA/M_NaCl;\n",
"// As in NaCl, there is one atom of Na and Cl\n",
"N_Na = N;\n",
"N_Cl = N;\n",
"// Result\n",
"printf(' Atom density of Sodium and Chlorine = %5.4E molecules/cm^3 \n',N);"
   ]
   }
,
{
		   "cell_type": "markdown",
		   "metadata": {},
		   "source": [
			"## Example 2.14: Atom_density.sce"
		   ]
		  },
  {
"cell_type": "code",
	   "execution_count": null,
	   "metadata": {
	    "collapsed": true
	   },
	   "outputs": [],
"source": [
"// Example 2.14\n",
"clear all;\n",
"clc;\n",
"\n",
"// Given data\n",
"rho = 1;                                        // Density of water in gram/cm^3\n",
"\n",
"// 1.\n",
"M_H = 1.00797;                                  // Atomic weight of Hydrogen(H)\n",
"M_O = 15.9994;                                  // Atomic weight of Oxygen(O)\n",
"// As in water, there is two atoms of Hydrogen(H) and one atom of Oxygen(O)\n",
"M = (2*M_H)+M_O;                                // Molecular weight of water\n",
"// From standard data table\n",
"NA = 0.6022*10^24;                              // Avagodro number\n",
"// Calculation \n",
"N = rho*NA/M;\n",
"// Result\n",
"printf('Atom density of water = %5.5E molecules/cm^3 \n',N);\n",
"\n",
"// 2.\n",
"// As in water, there is two atoms of Hydrogen(H) and one atom of Oxygen(O)\n",
"N_H = 2*N;                                      // Atom density of Hydrogen\n",
"N_O = N;                                        // Atom density of Oxygen\n",
"// Result\n",
"printf('Atom density of Hydrogen(H) = %5.4E atoms/cm^3 \n',N_H);\n",
"printf('Atom density of Oxygen(O)= %5.4E atoms/cm^3 \n',N_O);\n",
"\n",
"// 3.\n",
"// Using the data given in Table II.2, Appendix II for isotropic abundance of deuterium\n",
"isoab_H2 = 0.015;\n",
"// Calculation\n",
"N_H2 = isoab_H2*N_H/100;\n",
"// Result\n",
"printf('Atom density of Deuterium(H-2)= %5.4E atoms/cm^3 \n',N_H2);"
   ]
   }
,
{
		   "cell_type": "markdown",
		   "metadata": {},
		   "source": [
			"## Example 2.15: Atom_density.sce"
		   ]
		  },
  {
"cell_type": "code",
	   "execution_count": null,
	   "metadata": {
	    "collapsed": true
	   },
	   "outputs": [],
"source": [
"// Example 2.15\n",
"clear all;\n",
"clc;\n",
"\n",
"// Given data \n",
"rho = 19.1;                                 // Density of Uranium-235 in gram/cm^3\n",
"wt = 1500;                                  // Weight of uranium rods in a reactor in kg\n",
"nr = 0.2;                                   // Enrichment(w/o) of Uranium-235\n",
"\n",
"// 1.\n",
"// As Enrichment is 20(w/o)\n",
"wt_U235 = nr*wt;                            // Amount of Uranium-235\n",
"// Result\n",
"printf('Amount of Uranium-235 in the reactor = %d kg \n',wt_U235);\n",
"\n",
"// 2.\n",
"// From standard data table\n",
"NA = 0.6022*10^24;                          // Avagodro number\n",
"M_U235 = 235.0439;                          // Atomic weight of Uranium-235\n",
"M_U238 = 238.0508;                          // Atomic weight of Uranium-238\n",
"// Calculation\n",
"N_U235 = nr*rho*NA/M_U235;                  // Atom density of Uranium-235\n",
"N_U238 = (1-nr)*rho*NA/M_U238;              // Atom density of Uranium-238\n",
"// Result\n",
"printf('Atom density of Uranium-235 = %5.2E atoms/cm^3 \n',N_U235);\n",
"printf('Atom density of Uranium-238 = %5.2E atoms/cm^3 \n',N_U238);"
   ]
   }
,
{
		   "cell_type": "markdown",
		   "metadata": {},
		   "source": [
			"## Example 2.16: Atom_density.sce"
		   ]
		  },
  {
"cell_type": "code",
	   "execution_count": null,
	   "metadata": {
	    "collapsed": true
	   },
	   "outputs": [],
"source": [
"// Example 2.16\n",
"clear all;\n",
"clc;\n",
"\n",
"// Given data\n",
"rho_UO2 = 10.5;                             // Density of UO2 pellets in gram/cm^3\n",
"nr = 0.3;                                   // Enrichment(w/o) of Uranium-235\n",
"// From standard data table\n",
"M_U235 = 235.0439;                          // Atomic weight of Uranium-235\n",
"M_U238 = 238.0508;                          // Atomic weight of Uranium-238\n",
"M_O = 15.999;                               // Atomic weight of Oxygen\n",
"NA = 0.6022*10^24;                          // Avogodro number\n",
"\n",
"M = 1/((nr/M_U235)+((1-nr)/M_U238));\n",
"M_UO2 = M+(2*M_O);                          // Molecular weight of UO2\n",
"nr_U = M/M_UO2*100;                         // The percent(w/o) of Uranium in UO2 pellet\n",
"rho_U = nr_U*rho_UO2/100                    // Density of Uranium in g/cm^3\n",
"rho_U235 = nr*rho_U                         // Density of Uranium-235 in g/cm^3\n",
"// Calculation\n",
"N_U235=rho_U235*NA/M_U235;\n",
"// Result\n",
"printf('Atom density of Uranium-235 = %5.2E atoms/cm^3 \n',N_U235);\n",
""
   ]
   }
,
{
		   "cell_type": "markdown",
		   "metadata": {},
		   "source": [
			"## Example 2.1: Number_of_deuterium_atoms.sce"
		   ]
		  },
  {
"cell_type": "code",
	   "execution_count": null,
	   "metadata": {
	    "collapsed": true
	   },
	   "outputs": [],
"source": [
"// Example 2.1\n",
"clear all;\n",
"clc;\n",
"// Given data\n",
"atom_h = 6.6*10^24;                      // Number of atoms in Hydrogen\n",
"// Using the data given in Table II.2, Appendix II for isotropic abundance of deuterium\n",
"isoab_H2 = 0.015;                        // Isotropic abundance of deuterium\n",
"// Calculation\n",
"totatom_d=(isoab_H2*atom_h)/100;\n",
"// Result\n",
"printf('\n Number of deuterium atoms = %2.1E \n',totatom_d);\n",
""
   ]
   }
,
{
		   "cell_type": "markdown",
		   "metadata": {},
		   "source": [
			"## Example 2.2: Atomic_and_Molecular_weight.sce"
		   ]
		  },
  {
"cell_type": "code",
	   "execution_count": null,
	   "metadata": {
	    "collapsed": true
	   },
	   "outputs": [],
"source": [
"// Example 2.2\n",
"clear all;\n",
"clc;\n",
"// Given data \n",
"// Using the data given in the example 2.2\n",
"atwt_O16 = 15.99492;                      // Atomic weight of O-16 isotope\n",
"isoab_O16 = 99.759;                       // Abundance of O-16 isotope\n",
"atwt_O17 = 16.99913;                      // Atomic weight of O-17 isotope\n",
"isoab_O17 = 0.037;                        // Abundance of O-17 isotope\n",
"atwt_O18 = 17.99916;                      // Atomic weight of O-18 isotope\n",
"isoab_O18 = 0.204;                        // Abundance of O-18 isotope\n",
"// Calculation\n",
"atwt_O=(isoab_O16*atwt_O16 + isoab_O17*atwt_O17 + isoab_O18*atwt_O18)/100;\n",
"// Result\n",
"printf('\n Atomic Weight of Oxygen = %5.5f \n',atwt_O);\n",
""
   ]
   }
,
{
		   "cell_type": "markdown",
		   "metadata": {},
		   "source": [
			"## Example 2.3: Mass_and_Energy.sce"
		   ]
		  },
  {
"cell_type": "code",
	   "execution_count": null,
	   "metadata": {
	    "collapsed": true
	   },
	   "outputs": [],
"source": [
"// Example 2.3\n",
"clear all;\n",
"clc;\n",
"// Given data\n",
"me = 9.1095*10^(-28);                     // Mass of electron in grams\n",
"c = 2.9979*10^10;                         // Speed of light in vacuum in cm/sec\n",
"// Calculation\n",
"rest_mass = me*c^2;\n",
"// Result\n",
"printf('\n Rest mass energy of electron = %5.4E ergs\n',rest_mass);\n",
"disp('Expressing the result in joules')\n",
"// 1 Joule = 10^(-7)ergs\n",
"rest_mass_j = rest_mass*10^(-7);\n",
"printf('\n Rest mass energy of electron = %5.4E joules\n',rest_mass_j);\n",
"disp('Expressing the result in MeV')\n",
"// 1 MeV = 1.6022*10^(-13)joules\n",
"rest_mass_mev = rest_mass_j/(1.6022*10^(-13));\n",
"printf('\n Rest mass energy of electron = %5.4f MeV\n',rest_mass_mev);"
   ]
   }
,
{
		   "cell_type": "markdown",
		   "metadata": {},
		   "source": [
			"## Example 2.4: Mass_and_Energy.sce"
		   ]
		  },
  {
"cell_type": "code",
	   "execution_count": null,
	   "metadata": {
	    "collapsed": true
	   },
	   "outputs": [],
"source": [
"// Example 2.4\n",
"clear all;\n",
"clc;\n",
"\n",
"// From the result of Example 2.3\n",
"// Rest mass energy of electron = 0.5110 MeV\n",
"rest_mass_mev = 0.5110;\n",
"me = 9.1095*10^(-28);                           // Mass of electron in grams\n",
"// From standard data table\n",
"// 1 amu = 1.6606*10^(-24)g\n",
"amu = 1.6606*10^(-24);\n",
"// Calculation\n",
"en_eq = (amu/me)*rest_mass_mev;\n",
"// Result\n",
"printf('\n Energy equivalent of one amu = %3.1f MeV\n',en_eq);"
   ]
   }
,
{
		   "cell_type": "markdown",
		   "metadata": {},
		   "source": [
			"## Example 2.5: Excited_states_and_radiation.sce"
		   ]
		  },
  {
"cell_type": "code",
	   "execution_count": null,
	   "metadata": {
	    "collapsed": true
	   },
	   "outputs": [],
"source": [
"// Example 2.5\n",
"clear all;\n",
"clc;\n",
"\n",
"// From the standard data table\n",
"h = 6.626*10^(-34);                         // Planck's constant in J-s\n",
"c = 3*10^8;                                 // Speed of light in vacuum in m/sec\n",
"// Given data \n",
"disp('The ionization energy of K shell electron in Lead atom is 88keV');\n",
"E = 88*10^3;                                // Ionization energy  in keV\n",
"// Expressing the result in joules by using 1 eV = 1.6022*10^(-19) J\n",
"E = E*1.6022*10^(-19);\n",
"printf('From Planck\''s law of photoelectric effect \n Energy = (h*c)/lambda\n');\n",
"// Calculation \n",
"lambda = (h*c)/E; \n",
"// Result\n",
"printf('\n Wavelength of radiation = %4.3E m\n',lambda);"
   ]
   }
,
{
		   "cell_type": "markdown",
		   "metadata": {},
		   "source": [
			"## Example 2.6: Activity_of_radioactive_foil.sce"
		   ]
		  },
  {
"cell_type": "code",
	   "execution_count": null,
	   "metadata": {
	    "collapsed": true
	   },
	   "outputs": [],
"source": [
"// Example 2.6\n",
"clear all;\n",
"clc;\n",
"\n",
"// Given data\n",
"T12 = 64.8;                                           // Half life = 64.8 hour\n",
"lambda = 0.693/T12;                                   // Decay constant in hour^(-1)\n",
"t = 12;                                               // Analysis time of gold sample in hours\n",
"alpha = 0.9;                                          // Activity of gold sample after analysis time\n",
"\n",
"// 1. \n",
"// Calculation\n",
"R = alpha/(1-exp(-lambda*t));\n",
"// Result\n",
"printf('\n Theoretical maximum activity = %3.1f curie (Ci) \n',R);\n",
"\n",
"// 2. \n",
"// Calculation\n",
"// The expression to calculate 80 percent of maximum activity is \n 0.8R = R*(1-exp(-lambda*t)) \n",
"t = -log(0.2)/lambda;\n",
"// Result\n",
"printf('\n Time to reach 80 percent of maximum activity = %d hours \n',t);"
   ]
   }
,
{
		   "cell_type": "markdown",
		   "metadata": {},
		   "source": [
			"## Example 2.7: Nuclear_Reactio.sce"
		   ]
		  },
  {
"cell_type": "code",
	   "execution_count": null,
	   "metadata": {
	    "collapsed": true
	   },
	   "outputs": [],
"source": [
"// Example 2.7\n",
"clear all;\n",
"clc;\n",
"\n",
"disp('The reactants are Nitrogen and neutron')\n",
"// The total atomic number of reactants \n",
"Z_reactant = 7+0;\n",
"// The total atomic mass number of reactants\n",
"A_reactant = 14+1;\n",
"disp('One of the known product is Hydrogen')\n",
"Z_H = 1;                            // The atomic number of Hydrogen\n",
"A_H = 1;                            // The atomic mass number of Hydrogen \n",
"// The atomic number of unknown element\n",
"Z_unknown = Z_reactant-Z_H;\n",
"// The atomic mass number of unknown element \n",
"A_unknown = A_reactant-A_H;\n",
"// Result\n",
"printf(' \n For unknown element the atomic number is %d and atomic mass number is %d \n',Z_unknown,A_unknown);\n",
"// From periodic table \n",
"disp('The element corresponds to Carbon-14');\n",
"\n",
"\n",
""
   ]
   }
,
{
		   "cell_type": "markdown",
		   "metadata": {},
		   "source": [
			"## Example 2.8: Q_value_of_nuclear_reaction.sce"
		   ]
		  },
  {
"cell_type": "code",
	   "execution_count": null,
	   "metadata": {
	    "collapsed": true
	   },
	   "outputs": [],
"source": [
"// Example 2.8\n",
"clear all;\n",
"clc;\n",
"\n",
"disp('The reaction is Tritium(d,n)Helium-4');\n",
"// Using standard data table of mass in amu\n",
"M_H3 = 3.016049;                             // Atomic mass of Tritium\n",
"M_He4 = 4.002604;                            // Atomic mass of Helium\n",
"M_d = 2.014102;                              // Atomic mass of Deuterium\n",
"M_n = 1.008665;                              // Atomic mass of neutron\n",
"// Calculation of total mass of reactants\n",
"tot_reac = M_H3+M_d;\n",
"// Calculation of total mass of products\n",
"tot_prod = M_He4+M_n;\n",
"// Calculation \n",
"Q = tot_reac-tot_prod;\n",
"// Expressing in MeV by using 1 amu = 931.5 MeV\n",
"Q_mev = Q*931.5;\n",
"// Result\n",
"printf(' \n Q value for the reaction = %5.3f MeV',Q_mev);\n",
"if Q_mev > 0 then\n",
"    printf('\n The reaction is exothermic. \n');\n",
"else\n",
"    printf('\n The reaction is endothermic. \n');\n",
"end"
   ]
   }
,
{
		   "cell_type": "markdown",
		   "metadata": {},
		   "source": [
			"## Example 2.9: Binding_energy.sce"
		   ]
		  },
  {
"cell_type": "code",
	   "execution_count": null,
	   "metadata": {
	    "collapsed": true
	   },
	   "outputs": [],
"source": [
"// Example 2.9\n",
"clear all;\n",
"clc;\n",
"\n",
"// Using standard data table of mass in amu\n",
"M_C12 = 12;                             // Atomic mass of Carbon-12\n",
"M_n = 1.00866;                          // Atomic mass of neutron\n",
"M_C13 = 13.00335;                       // Atomic mass of Carbon-13\n",
"//If one neutron is removed from carbon-13, carbon-12 is obtained\n",
"tot = M_C12+M_n;\n",
"dm = tot-M_C13;                         // Mass defect\n",
"// Converting to energy equivalent from mass by using 1 amu = 931.5 MeV\n",
"Es = dm*931.5;\n",
"// Result\n",
"printf(' \n The binding Energy of the last neutron in Carbon-13 atom = %4.2f MeV',Es);"
   ]
   }
],
"metadata": {
		  "kernelspec": {
		   "display_name": "Scilab",
		   "language": "scilab",
		   "name": "scilab"
		  },
		  "language_info": {
		   "file_extension": ".sce",
		   "help_links": [
			{
			 "text": "MetaKernel Magics",
			 "url": "https://github.com/calysto/metakernel/blob/master/metakernel/magics/README.md"
			}
		   ],
		   "mimetype": "text/x-octave",
		   "name": "scilab",
		   "version": "0.7.1"
		  }
		 },
		 "nbformat": 4,
		 "nbformat_minor": 0
}
