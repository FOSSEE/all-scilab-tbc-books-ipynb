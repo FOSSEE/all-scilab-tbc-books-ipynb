{
"cells": [
 {
		   "cell_type": "markdown",
	   "metadata": {},
	   "source": [
       "# Chapter 10: Radiation Shielding"
	   ]
	},
{
		   "cell_type": "markdown",
		   "metadata": {},
		   "source": [
			"## Example 10.1: Gamma_ray_buildup_factor.sce"
		   ]
		  },
  {
"cell_type": "code",
	   "execution_count": null,
	   "metadata": {
	    "collapsed": true
	   },
	   "outputs": [],
"source": [
"// Example 10.1\n",
"clear all;\n",
"clc;\n",
"\n",
"// Given data\n",
"E0 = 2;                                        // Energy of gamma rays in MeV\n",
"a = 10;                                       // Thickeness of lead shield in cm\n",
"phi0 = 10^6;                                  // Intensity of gamma rays in gamma-rays/cm^2-sec\n",
"\n",
"// 1.\n",
"// Using the data from Table II.4 for E0 = 2 MeV\n",
"mu_rho = 0.0457;                              // The ratio of total attenuation coefficient to density in cm^2/g\n",
"// From standard data tables for lead\n",
"rho = 11.34;                                  // Density of lead in g/cm^3\n",
"// Calculation\n",
"phi_u = phi0*exp(-(mu_rho*rho*a));\n",
"// Result\n",
"printf('\n Uncollided flux at the rear side of lead shield = %.2E gamma-rays/cm^2-sec \n',phi_u)\n",
"\n",
"// 2.\n",
"// Using the data from Table 10.1 for 2 MeV of lead material\n",
"mua = mu_rho*rho*a;\n",
"B_4 = 2.41;                                     // Buildup factor if mu*a = 4\n",
"B_7 = 3.36;                                     // Buildup factor if mu*a = 7\n",
"// Using two point method of straight line for calculating buildup factor at mu*a\n",
"B_m = B_4+((mua-4)*((B_7-B_4)/(7-4)));\n",
"// Calculation\n",
"phi_b = phi_u*B_m;\n",
"// Result\n",
"printf('\n Buildup flux at the rear side of lead shield = %.2E gamma-rays/cm^2-sec \n',phi_b);\n",
"\n",
"// 3.\n",
"// Using the data from Table II.5 for 2 MeV \n",
"mua_rho_air = 0.0238;                           // The ratio of total attenuation coefficient to density of air in cm^2/g\n",
"// Calculation\n",
"X_dot = 0.0659*E0*mua_rho_air*phi_b;\n",
"// Result\n",
"printf('\n Exposure rate at the rear side of lead shield = %.1f mR/hour \n',X_dot);"
   ]
   }
,
{
		   "cell_type": "markdown",
		   "metadata": {},
		   "source": [
			"## Example 10.2: Gamma_ray_buildup_factor.sce"
		   ]
		  },
  {
"cell_type": "code",
	   "execution_count": null,
	   "metadata": {
	    "collapsed": true
	   },
	   "outputs": [],
"source": [
"// Example 10.2\n",
"clear all;\n",
"clc;\n",
"\n",
"// Given data\n",
"E = 1;                                          // Energy of gamma rays in MeV\n",
"X_dot = 1;                                      // Exposure rate in mR/hour\n",
"phi0 = 10^8;                                    // Intensity of gamma rays in gamma-rays/cm^2-sec from isotropic point source\n",
"// Using the data from Table II.5 for 1 MeV \n",
"mua_rho_air = 0.028;                             // The ratio of total attenuation coefficient to density of air in cm^2/g\n",
"phi_b = X_dot/(0.0659*E*mua_rho_air);          // Buildup flux in gamma-rays/cm^2-sec\n",
"// Using Eq 10.14\n",
"printf(' \n The equation to calculate radius is \n %.2E  = %E * Bp*exp(-mu*R)/(4*pi*R^2) \n',phi_b,phi0);\n",
"// Using the data from Table II.4 for E = 1 MeV for Iron\n",
"mu_rho = 0.0595;                              // The ratio of total attenuation coefficient to density in cm^2/g\n",
"// From standard data tables for iron\n",
"rho = 7.864;                                  // Density of iron in g/cm^3\n",
"mu = mu_rho*rho;\n",
"// On solving the right hand side of equation\n",
"// RHS = 3.22*10^3*Bp*exp(-mu*R)/(mu*R)^2\n",
"// Let mu*R = x\n",
"// Using the data from Table 10.2 for isotropic point source of 1 MeV incident on iron material\n",
"Bp = [1.87 2.89 5.39 10.2 16.2 28.3 42.7];\n",
"x = [1 2 4 7 10 15 20];\n",
"for i = 1:7\n",
"    RHS(i) = (3.22*10^3*Bp(i)*exp(-x(i))/x(i)^2);\n",
"end\n",
"plot2d('nl',x(:),RHS(:));\n",
"xlabel('mu*R');\n",
"ylabel('RHS');\n",
"title('Semilog plot of RHS vs mu*R')\n",
"// From the graph\n",
"muR = 6.55;                                   // This is the value when RHS = 1\n",
"// Calculation\n",
"R = muR/mu;\n",
"// Result\n",
"printf('\n The shield radius required = %d cm \n',ceil(R));"
   ]
   }
,
{
		   "cell_type": "markdown",
		   "metadata": {},
		   "source": [
			"## Example 10.3: Shielding_of_infinite_planar_source.sce"
		   ]
		  },
  {
"cell_type": "code",
	   "execution_count": null,
	   "metadata": {
	    "collapsed": true
	   },
	   "outputs": [],
"source": [
"// Example 10.3\n",
"clear all;\n",
"clc;\n",
"\n",
"// Given data\n",
"E = 2;                                          // Energy of gamma rays in MeV\n",
"X_dot = 2.5;                                    // Exposure rate in mR/hour\n",
"phi0 = 10^9;                                    // Intensity of gamma rays in gamma-rays/cm^2-sec from isotropic point source\n",
"// Using the data from Table II.5 for 1 MeV \n",
"mua_rho_air = 0.0238;                           // The ratio of total attenuation coefficient to density of air in cm^2/g\n",
"phi_b = X_dot/(0.0659*E*mua_rho_air);          // Buildup flux in gamma-rays/cm^2-sec\n",
"\n",
"// From standard data tables for concrete\n",
"rho = 2.35;                                     // Density of concrete in g/cm^3\n",
"// Using the data from Table 10.3 for concrete at 2 MeV\n",
"A1 = 18.089;\n",
"A2 = 1-A1;\n",
"alpha1 = -0.0425;\n",
"alpha2 = 0.00849;\n",
"// Using Eq 10.26\n",
"printf(' \n The equation to calculate thickness is \n %.2E = (%E/2) *(%4.3f*E1(%4.3f*mu*a) %4.3f*E1(%4.3f*mu*a)) \n',phi_b,phi0,A1,(1+alpha1),A2,(1+alpha2));\n",
"// Using the data from Table II.4 for E = 1 MeV for concrete\n",
"mu_rho = 0.0445;                              // The ratio of total attenuation coefficient to density in cm^2/g\n",
"mu = mu_rho*rho;\n",
"// On solving the right hand side of equation\n",
"// RHS = 1.13*10^7*(E1(0.9575*mu*a)-0.94*E1(1.00849*mu*a))\n",
"// Let mu*a = x\n",
"x = 1:20\n",
"for i = 1:20\n",
"    RHS(i) = 1.13*10^7*(exp(-0.9575*x(i))*((1/(0.9575*x(i))+(1/(0.9575*x(i))^3))) - exp(-1.00849*x(i))*((1/(1.00849*x(i))+(1/(1.00849*x(i))^3))));\n",
"end\n",
"plot2d('nl',x(:),RHS(:));\n",
"xlabel('mu*a');\n",
"ylabel('RHS');\n",
"title('Semilog plot of RHS vs mu*a')\n",
"// From the graph\n",
"mua = 13.6;                                   // This is the value when RHS = 1\n",
"// Calculation\n",
"a = mua/mu;\n",
"// Result\n",
"printf('\n The concrete thickness = %d cm \n',a);"
   ]
   }
,
{
		   "cell_type": "markdown",
		   "metadata": {},
		   "source": [
			"## Example 10.4: Multilayered_shielding.sce"
		   ]
		  },
  {
"cell_type": "code",
	   "execution_count": null,
	   "metadata": {
	    "collapsed": true
	   },
	   "outputs": [],
"source": [
"// Example 10.4\n",
"clear all;\n",
"clc;\n",
"\n",
"// Given data\n",
"E = 6;                                          // Energy of gamma rays in MeV\n",
"phi0 = 10^2;                                    // Intensity of gamma rays in gamma-rays/cm^2-sec from mono-directional beam\n",
"x_w = 100;                                      // Thickness of water in cm\n",
"x_Pb = 8;                                       // Thickness of lead in cm\n",
"// Using data from Table II.4 at 6 MeV\n",
"mu_w = 0.0275;                                  // Total attenuation coefficient of water in cm^(-1)\n",
"mu_Pb = 0.4944;                                 // Total attenuation coefficient of lead in cm^(-1)\n",
"\n",
"mua_w = x_w*mu_w;                               // Attenuation due to thickness of water\n",
"mua_Pb = x_Pb*mu_Pb;                            // Attenuation due to thickness of lead\n",
"\n",
"// Case (a) - Water is placed before the lead\n",
"printf(' \n In case (a), Buildup factor is only due to lead measured at %.2f',mua_Pb);\n",
"// Using the data from Table 10.1 at 6 MeV\n",
"B_Pb = 1.86;\n",
"phi_b_a = phi0*B_Pb*exp(-(mua_w+mua_Pb));\n",
"\n",
"// Using the data from Table II.5 for 6 MeV \n",
"mua_rho_air = 0.0172;                           // The ratio of total attenuation coefficient to density of air in cm^2/g\n",
"// Calculation\n",
"X_dot_a = 0.0659*E*mua_rho_air*phi_b_a;\n",
"// Result\n",
"printf('\n Exposure rate if water is placed before lead shield = %.2f uR/hour \n',X_dot_a*1000);\n",
"\n",
"// Case (b) - Lead is placed before water\n",
"printf(' \n In case (b), Buildup factor is due to water and lead measured at %.2f and %.2f respectively',mua_w,mua_Pb);\n",
"// Using the data from Table 10.1 for water at 3.2 MeV,, which is the minimum point of mu_Pb curve\n",
"B_w = 2.72;\n",
"B_m = B_Pb*B_w;\n",
"phi_b_b = phi0*B_m*exp(-(mua_w+mua_Pb));\n",
"\n",
"// Calculation\n",
"X_dot_b = 0.0659*E*mua_rho_air*phi_b_b;\n",
"// Result\n",
"printf('\n Exposure rate if lead is placed before water = %.2f uR/hour \n',X_dot_b*1000);\n",
"// The answer given in the textbook is wrong. This is because the intensity of gamma rays is wrongly taken for calculation. \n",
""
   ]
   }
,
{
		   "cell_type": "markdown",
		   "metadata": {},
		   "source": [
			"## Example 10.5: Removal_cross_sectio.sce"
		   ]
		  },
  {
"cell_type": "code",
	   "execution_count": null,
	   "metadata": {
	    "collapsed": true
	   },
	   "outputs": [],
"source": [
"// Example 10.5\n",
"clear all;\n",
"clc;\n",
"\n",
"// Given data\n",
"fission_density = 4*10^7;                       // Fission density in fissions/cm^2-sec\n",
"// 1 inches = 2.54 cm\n",
"d = 28*2.54;                                    // Diamaeter of plate in cm\n",
"R = d/2;                                        // Radius of plate in cm\n",
"v = 2.42;                                       // Number of fission neutrons emitted per fission\n",
"x = 75;                                         // Distance of point from center of plate in cm\n",
"// Using the data from Table 10.4 for removal macroscopic cross section of water\n",
"sigma_RW = 0.103;                               // Removal macroscopic cross section of water in cm^-1\n",
"S = v*fission_density;                          // Strength of neutron source in terms of neutrons/cm^2-sec\n",
"A = 0.12;                                       // A constant\n",
"// From Figure 10.19\n",
"tan_theta = R/x;\n",
"theta = atan(R/x);\n",
"sec_theta = sec(theta);\n",
"\n",
"// 1.\n",
"x11 = sigma_RW*x;                               // Exponential integral function\n",
"x21 = sigma_RW*x*sec_theta;                     // Exponential integral function\n",
"// Let the upper limit of integral be 20\n",
"x_limit = 20;\n",
"function y=f(x),y=exp(-x)/x,endfunction\n",
" E1_x11 = intg(x11,x_limit,f);\n",
" E1_x21 = intg(x21,x_limit,f);\n",
"// Calculation\n",
"phi_1 = S*A/2*(E1_x11-E1_x21);\n",
"// Result\n",
"printf(' \n The fast flux without iron shield = %d neutrons/cm^2-sec \n',phi_1);\n",
"\n",
"// 2. Iron slab is inserted in front of the fission plate\n",
"// Using the data from Table 10.4 for removal macroscopic cross section of iron\n",
"sigma_R = 0.168;                               // Removal macroscopic cross section of iron in cm^-1\n",
"t = 3*2.54;                                     // Thickness of iron slab in cm\n",
"// Now the analysis is similar to multi layered shielding\n",
"x12 = sigma_RW*x+sigma_R*t;                     // Exponential integral function\n",
"x22 = sigma_RW*x*sec_theta+sigma_R*t*sec_theta; // Exponential integral function\n",
"// Let the upper limit of integral be 20\n",
"x_limit = 20;\n",
"function y=f(x),y=exp(-x)/x,endfunction\n",
" E1_x12 = intg(x12,x_limit,f);\n",
" E1_x22 = intg(x22,x_limit,f);\n",
"// Calculation\n",
"phi_2 = S*A/2*(E1_x12-E1_x22);\n",
"// Result\n",
"printf(' \n The fast flux with iron shield = %.1f neutrons/cm^2-sec \n',phi_2);"
   ]
   }
,
{
		   "cell_type": "markdown",
		   "metadata": {},
		   "source": [
			"## Example 10.6: Removal_cross_sectio.sce"
		   ]
		  },
  {
"cell_type": "code",
	   "execution_count": null,
	   "metadata": {
	    "collapsed": true
	   },
	   "outputs": [],
"source": [
"// Example 10.6\n",
"clear all;\n",
"clc;\n",
"\n",
"// Given data\n",
"// Assuming average energy produced per fission reaction is 200 MeV \n",
"P = 250*10^3;                                   // Power of research reactor in Watts\n",
"P_fission = 200*10^6*1.6*10^(-19);              // Energy produced in a fission reaction in terms of joule\n",
"f = 0.75;                                       // Metal volume fraction\n",
"// In this problem, both reflector and shield act as a composite shield\n",
"a = 150+15;                                     // Net shield distance in cm\n",
"// 1 litre = 1000 grams\n",
"V = 32*1000;                                    // Core volume in gram\n",
"\n",
"fission_density = (P/P_fission)*(1/V);\n",
"v = 2.42;                                       // Number of fission neutrons emitted per fission\n",
"S = fission_density*v;                          // Neutron source strength in neutrons/cm^3-sec\n",
"// Assuming spherical shape\n",
"// Volume of sphere = (4/3)*pi*(radius)^3\n",
"R = ((3*V)/(4*%pi))^(1/3);\n",
"// Using the data from Table 10.4 for removal macroscopic cross section \n",
"sigma_R = 0.174;                               // Removal macroscopic cross section of uranium in cm^-1\n",
"sigma_RW = 0.103;                               // Removal macroscopic cross section of water in cm^-1\n",
"A = 0.12;                                       // A constant\n",
"alpha = ((1-f)*sigma_RW)+(f*sigma_R);           // A parameter\n",
"// Calculation\n",
"theta = (S*A/(4*alpha))*(ceil(R)/(ceil(R)+a))^2*exp(-sigma_RW*a)*(1-exp(-2*alpha*ceil(R)));\n",
"// Converting into equivalent dose rate by referring Figure 9.12\n",
"// Fast neutron flux of 6.8 neutrons/cm^2-sec is equivalent to 1 mrem/hr\n",
"H_dot = theta/6.8;\n",
"// Result\n",
"printf(' \n Fast neutron dose rate near the surface of the shield = %.1f mrem/hour \n ',H_dot);"
   ]
   }
,
{
		   "cell_type": "markdown",
		   "metadata": {},
		   "source": [
			"## Example 10.7: Dose_equivalent_rate_and_thickness.sce"
		   ]
		  },
  {
"cell_type": "code",
	   "execution_count": null,
	   "metadata": {
	    "collapsed": true
	   },
	   "outputs": [],
"source": [
"// Example 10.7\n",
"clear all;\n",
"clc;\n",
"\n",
"// Given data\n",
"E = 14;                                         // Energy of neutrons in MeV\n",
"phi0 = 10^9;                                    // Intensity of neutrons in neutrons/cm^2-sec from isotropic point source\n",
"// 1 feet  = 30.48 cm\n",
"d = 10*30.48;                                   // Distance of concrete wall from a point source in cm\n",
"// As Intensity obeys inverse square law\n",
"I = phi0/(4*%pi*d^2);                           // Intensity of neutron beam in terms of neutrons/cm^2-sec\n",
"H_dot = 1;                                      // The required dose equivalent rate in mrem/hour\n",
"// From Figure 10.23(b)\n",
"H0_dot = H_dot/I;                                // The dose equivalent rate\n",
"// Result\n",
"printf(' \n The reduced dose equivalent rate due to concrete wall is = %.2E mrem/hr \n',H0_dot);\n",
"// By looking into Figure 10.23(b) on thickness axis\n",
"printf(' \n The concrete slab thickness is = 70 cm \n');\n",
""
   ]
   }
,
{
		   "cell_type": "markdown",
		   "metadata": {},
		   "source": [
			"## Example 10.8: Shielding_of_prompt_fission_gamma_rays.sce"
		   ]
		  },
  {
"cell_type": "code",
	   "execution_count": null,
	   "metadata": {
	    "collapsed": true
	   },
	   "outputs": [],
"source": [
"// Example 10.8\n",
"clear all;\n",
"clc;\n",
"\n",
"// Given data\n",
"R = 7*30.48;                                    // Distance of core from the center of shield in cm\n",
"// Assuming average energy produced per fission reaction is 200 MeV \n",
"P = 10;                                         // Power of teaching reactor in Watts\n",
"P_fission = 200*10^6*1.6*10^(-19);              // Energy produced in a fission reaction in terms of joule\n",
"fission_rate = P/P_fission;                     // Number of fission reactions\n",
"\n",
"// By assuming that the gammma rays are of equal energy of 1 MeV (Group 1) and looking into Table 10.5\n",
"E1 = 1;                                          // Energy of gamma rays in MeV (Assumed)\n",
"chi_pn1 = 5.2;                                    // Number of prompt gamma rays emitted per fission with energy 2 MeV\n",
"S1 = chi_pn1*fission_rate;                        // Source strength in gamma rays/sec\n",
"// Using the data from Table II.4 for E = 1 MeV for water\n",
"mu1 = 0.0996;                                    // Mass attenuation coefficient at 1 MeV in cm^-1\n",
"printf(' \n Buildup factor is due to water measured at %.2f',mu1*R);\n",
"// Using the data from Table 10.2 at 1 MeV\n",
"B_p1 = 373;\n",
"phi_b1 = (S1/(4*%pi*R^2))*B_p1*exp(-mu1*R);      // Buildup flux\n",
"// Using the data from Table II.5 for 1 MeV \n",
"mua_rho_air1 = 0.028;                            // The ratio of total attenuation coefficient to density of air in cm^2/g\n",
"// Calculation\n",
"X_dot1 = 0.0659*E1*mua_rho_air1*phi_b1;\n",
"printf('\n Exposure rate due to group 1 = %.4f mR/hour \n',X_dot1);\n",
"\n",
"// By assuming that the gammma rays are of equal energy of 2 MeV (Group 2) and looking into Table 10.5\n",
"E2 = 2;                                          // Energy of gamma rays in MeV (Assumed)\n",
"chi_pn2 = 1.8;                                   // Number of prompt gamma rays emitted per fission with energy 2 MeV\n",
"S2 = chi_pn2*fission_rate;                        // Source strength in gamma rays/sec\n",
"// Using the data from Table II.4 for E = 2 MeV for water\n",
"mu2 = 0.0493;                                    // Mass attenuation coefficient at 2 MeV in cm^-1\n",
"printf(' \n Buildup factor is due to water measured at %.2f',mu2*R);\n",
"// Using the data from Table 10.2 at 2 MeV\n",
"B_p2 = 13.1;\n",
"phi_b2 = (S2/(4*%pi*R^2))*B_p2*exp(-mu2*R);      // Buildup flux \n",
"// Using the data from Table II.5 for 2 MeV \n",
"mua_rho_air2 = 0.0238;                           // The ratio of total attenuation coefficient to density of air in cm^2/g\n",
"// Calculation \n",
"X_dot2 = 0.0659*E2*mua_rho_air2*phi_b2;\n",
"printf('\n Exposure rate due to group 2 = %.1f mR/hour \n',X_dot2);\n",
"\n",
"// By assuming that the gammma rays are of equal energy of 4 MeV (Group 3) and looking into Table 10.5\n",
"E3 = 4;                                          // Energy of gamma rays in MeV (Assumed)\n",
"chi_pn3 = 0.22;                                   // Number of prompt gamma rays emitted per fission with energy 4 MeV\n",
"S3 = chi_pn3*fission_rate;                        // Source strength in gamma rays/sec\n",
"// Using the data from Table II.4 for E = 4 MeV for water\n",
"mu3 = 0.0339;                                    // Mass attenuation coefficient at 4 MeV in cm^-1\n",
"printf(' \n Buildup factor is due to water measured at %.1f',mu3*R);\n",
"// Using the data from Table 10.2 at 4 MeV\n",
"B_p3 = 5.27;\n",
"phi_b3 = (S3/(4*%pi*R^2))*B_p3*exp(-mu3*R);      // Buildup flux \n",
"// Using the data from Table II.5 for 4 MeV \n",
"mua_rho_air3=0.0194;                             // The ratio of total attenuation coefficient to density of air in cm^2/g\n",
"// Calculation\n",
"X_dot3 = 0.0659*E3*mua_rho_air3*phi_b3;\n",
"printf('\n Exposure rate due to group 3 = %.1f mR/hour \n',X_dot3);\n",
"\n",
"// By assuming that the gammma rays are of equal energy of 6 MeV (Group 4) and looking into Table 10.5\n",
"E4 = 6;                                          // Energy of gamma rays in MeV (Assumed)\n",
"chi_pn4 = 0.025;                                 // Number of prompt gamma rays emitted per fission with energy 4 MeV\n",
"S4 = chi_pn4*fission_rate;                       // Source strength in gamma rays/sec\n",
"// Using the data from Table II.4 for E = 6 MeV for water\n",
"mu4 = 0.0275;                                    // Mass attenuation coefficient at 6 MeV in cm^-1\n",
"printf(' \n Buildup factor is due to water measured at %.2f',mu4*R);\n",
"// Using the data from Table 10.2 at 6 MeV\n",
"B_p4 = 3.53;\n",
"phi_b4 = (S4/(4*%pi*R^2))*B_p4*exp(-mu4*R);       // Buildup flux \n",
"// Using the data from Table II.5 for 4 MeV \n",
"mua_rho_air4=0.0172;                             // The ratio of total attenuation coefficient to density of air in cm^2/g\n",
"// Calculation\n",
"X_dot4 = 0.0659*E4*mua_rho_air4*phi_b4;\n",
"printf('\n Exposure rate due to group 3 = %.2f mR/hour \n',X_dot4);\n",
"\n",
"//Calculation\n",
"X_dot = X_dot1+X_dot2+X_dot3+X_dot4;\n",
"// Result\n",
"printf('\n The total exposure rate due to all groups = %.2f mR/hour \n',X_dot);\n",
"\n",
""
   ]
   }
,
{
		   "cell_type": "markdown",
		   "metadata": {},
		   "source": [
			"## Example 10.9: Coolant_activity.sce"
		   ]
		  },
  {
"cell_type": "code",
	   "execution_count": null,
	   "metadata": {
	    "collapsed": true
	   },
	   "outputs": [],
"source": [
"// Example 10.9\n",
"clear all;\n",
"clc;\n",
"\n",
"// Given data\n",
"// Assuming average energy produced per fission reaction is 200 MeV \n",
"P = 55;                                         // Power density of reactor in watts/cm^3\n",
"rho_eff_U = 0.33;                               // Effective density of uranium in g/cm^3\n",
"rho_eff_W = 1-rho_eff_U;                        // Effective density of water in g/cm^3\n",
"t_i = 3;                                        // Average time spent by water in the reactor in seconds\n",
"t_0 = 2;                                        // Average time spent by water in the external coolant circuit in seconds\n",
"// 1 eV = 1.6*10^(-19) J\n",
"P_fission = 200*10^6*1.6*10^(-19);              // Energy produced in a fission reaction in terms of joule\n",
"fission_density = P/P_fission;                  // Number of fission reactions\n",
"v = 2.42;                                       // Number of fission neutrons emitted per fission\n",
"S = v*fission_density;                          // Strength of neutron source in terms of neutrons/cm^2-sec\n",
"// Atom density of oxygen at normal density of 1 g/cm^3 is\n",
"rho = 1;                                        // Density of water in g/cm^3\n",
"N_A = 6.02*10^(23);                             // Avogadro's constant\n",
"M = 18;                                         // Molecular weight of water\n",
"atom_density = (rho*N_A)/M;\n",
"\n",
"// Using the data from Table 10.7\n",
"sigma_r = 1.9*10^(-5)*10^(-24);                 // Reaction cross section in cm^2\n",
"T_12 = 7.1;                                     // Half life of the given reaction in seconds\n",
"lambda = 0.693/T_12;                            // Decay constant of the given reaction in seconds^(-1)\n",
"sigma_act = rho_eff_W*atom_density*sigma_r;     // Average macroscopic activation cross section\n",
"// Using the data from Table 10.4\n",
"sigma_RW = 0.103;                               // Removal cross section of water in cm^-1\n",
"sigma_RU = 0.174;                               // Removal cross section of Uranium in cm^-1\n",
"sigma_R = (sigma_RU*rho_eff_U)+(sigma_RW*rho_eff_W);    // Removal cross section of mixture\n",
"// Let activation rate given by (sigma_act*phi_av) be denoted as AR\n",
"AR = (sigma_act*S)/sigma_R;\n",
"// Calculation\n",
"alpha = AR*(1-exp(-t_i*lambda))/(1-exp(-(t_i+t_0)*lambda));\n",
"// 1 curie = 3.7*10^(10) disintegrations/sec\n",
"// Result\n",
"printf('\n Equilibrium activity of water due to neutron capture of oxygen = %.2E disintegrations/cm^3-sec or %d uCi/cm^3 \n',alpha,ceil(alpha*10^6/(3.7*10^10)));\n",
"\n",
""
   ]
   }
],
"metadata": {
		  "kernelspec": {
		   "display_name": "Scilab",
		   "language": "scilab",
		   "name": "scilab"
		  },
		  "language_info": {
		   "file_extension": ".sce",
		   "help_links": [
			{
			 "text": "MetaKernel Magics",
			 "url": "https://github.com/calysto/metakernel/blob/master/metakernel/magics/README.md"
			}
		   ],
		   "mimetype": "text/x-octave",
		   "name": "scilab",
		   "version": "0.7.1"
		  }
		 },
		 "nbformat": 4,
		 "nbformat_minor": 0
}
