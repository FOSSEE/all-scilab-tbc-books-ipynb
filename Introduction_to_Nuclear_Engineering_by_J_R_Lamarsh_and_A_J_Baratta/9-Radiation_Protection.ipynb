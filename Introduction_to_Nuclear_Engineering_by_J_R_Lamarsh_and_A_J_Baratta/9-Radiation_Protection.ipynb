{
"cells": [
 {
		   "cell_type": "markdown",
	   "metadata": {},
	   "source": [
       "# Chapter 9: Radiation Protection"
	   ]
	},
{
		   "cell_type": "markdown",
		   "metadata": {},
		   "source": [
			"## Example 9.10: Internal_exposure_due_to_radionuclide.sce"
		   ]
		  },
  {
"cell_type": "code",
	   "execution_count": null,
	   "metadata": {
	    "collapsed": true
	   },
	   "outputs": [],
"source": [
"// Example 9.10\n",
"clear all;\n",
"clc;\n",
"\n",
"// Given data\n",
"M = 20;                               // Mass of organ in grams\n",
"\n",
"// a)\n",
"// Using the data from Table 9.15\n",
"T_12 = 8.04;                          // Radiological half life of Iodine-131 in days\n",
"T_12_b = 138;                         // Biological half life of Iodine-131 in days\n",
"lambda = 0.693/T_12;                  // Radiological decay constant of Iodine-131 in days^-1\n",
"lambda_b = 0.693/T_12_b;              // Biological decay constant of Iodine-131 in days^-1\n",
"lambda_e = lambda+lambda_b;           // Equivalent decay constant in days^-1\n",
"// Using the data from Table 9.15\n",
"zeta = 0.23;                          // Effective energy equivalent in MeV\n",
"q = 0.23;                             // The fraction of Iodine-131 that goes by inhalation\n",
"// Calculation\n",
"DCF = (51.1*zeta*q)/(M*lambda_e);\n",
"// Result\n",
"printf(' \n The dose commitment factor by inhalation = %.2f rem/ucurie \n',DCF);\n",
"\n",
"// b) \n",
"breathing_rate = 2.32*10^(-4);        // Normal breathing rate in m^3/sec\n",
"time = 2*3600;                        // Time of radiation exposure in seconds\n",
"I_conc = 2*10^(-9);                   // Iodine-131 concentration\n",
"C0 = breathing_rate*time*I_conc;      // Total intake of Iodine-131 by inhalation \n",
"// Calculation\n",
"H = C0*(DCF*10^6);                    // Using DCF in micro-curie\n",
"// Result\n",
"printf(' \n The dose commitment to thyroid = %.2E rem = %.2f mrem \n',H,H*1000);"
   ]
   }
,
{
		   "cell_type": "markdown",
		   "metadata": {},
		   "source": [
			"## Example 9.11: Maximum_Permissible_Concentration.sce"
		   ]
		  },
  {
"cell_type": "code",
	   "execution_count": null,
	   "metadata": {
	    "collapsed": true
	   },
	   "outputs": [],
"source": [
"// Example 9.11\n",
"clear all;\n",
"clc;\n",
"\n",
"// Given data\n",
"V_W = 2200;                           // Volume of water inatke in terms of cm^3/day\n",
"// 1 litre = 1000 gram(g)\n",
"M = 43*1000;                          // Mass of water present in standard man according to standards\n",
"// Using the data from Table 9.13\n",
"MPD = 0.1/7;                          // Maximum Permissible Dose (MPD) in rem/day\n",
"// Using the data from Table 9.15\n",
"zeta = 0.01;                          // Effective energy equivalent in MeV\n",
"q = 1;                                // The fraction of Tritium that goes inside by ingestion\n",
"T_b = 11.9;                           // Biological Half life of Tritium in years\n",
"lambda_b = 0.693/T_b;                 // Biological decay constant of Tritium in years^-1 \n",
"\n",
"// As biological and radiological half lives are less than 50 year intake period, the exponential term (exp(-lambda_e*50)) is neglected\n",
"// Maximum Permissible Concentration(MPC) for a 7 day or 168 hour week tritium dose \n",
"MPC_w_168 = (lambda_b*M*MPD)/(51.1*V_W*zeta*q);\n",
"printf('\n Maximum Permissible Concentration(MPC) for a 7 day or 168 hour week tritium dose for occupational purpose = %.2f uCi/cm^3 \n',MPC_w_168);\n",
"// The exposure at work is doubled for 40 hour week as compared to 168 hour week \n",
"// For 40 hour week, with work of 5 days out of 7 day week according to a study\n",
"MPC_w_40 = MPC_w_168*2*(7/5);\n",
"printf('\n Maximum Permissible Concentration(MPC) for a 40 hour week tritium dose for occupational purpose = %.3f uCi/cm^3 \n',MPC_w_40);\n",
"\n",
"// By analyzing the data of Table 9.13\n",
"// The whole body dose of general public is one tenth of the occupational purpose.\n",
"MPC_w_168_gp = MPC_w_168*0.1;\n",
"printf('\n Maximum Permissible Concentration(MPC) for a 7 day or 168 hour week tritium dose for general public = %.3f uCi/cm^3 \n',MPC_w_168_gp);\n",
"// The answer of Maximum Permissible Concentration(MPC) for a 168 hour week tritium dose for general public is given wrong in the textbook.\n",
""
   ]
   }
,
{
		   "cell_type": "markdown",
		   "metadata": {},
		   "source": [
			"## Example 9.12: Acute_radiation_exposure.sce"
		   ]
		  },
  {
"cell_type": "code",
	   "execution_count": null,
	   "metadata": {
	    "collapsed": true
	   },
	   "outputs": [],
"source": [
"// Example 9.12\n",
"clear all;\n",
"clc;\n",
"\n",
"// Given data\n",
"no_home = 10^6;                               // Number of houses\n",
"no_resident = 4;                              // Number of residents in a home\n",
"total_time = 50;                              // Number of years the analysis is carried out\n",
"radon_concn_old = 1;                          // Radon concentration in older uninsulated homes in terms of pCi/l\n",
"radon_concn_new = 6;                          // Radon concentration in modern insulated homes in terms of pCi/l\n",
"time = 3500;                                  // Time spent in home by a person per year in hours\n",
"eq_concn = 0.5;                               // Equilibrium concentration of 50% \n",
"// 1 year = 24*365 hours\n",
"X_increased = eq_concn*(radon_concn_new-radon_concn_old)*(time/(24*365));   // The increased exposure of radon per person\n",
"\n",
"// Using the data of Radon risk assessment of United States of America\n",
"// There are nearly 100 cases of cancer per 10^6 persons at 1 pCi-year dose.\n",
"// Calculation\n",
"no_cancer = (no_home*no_resident)*total_time*(100/10^6)*X_increased;\n",
"// Result\n",
"printf('\n Number of additional cases of cancer from insulation of home = %d \n',no_cancer);\n",
"// There is a slight deviation in the value given in the textbook. This is because of approximation of the number of additional cases of cancer in the textbook."
   ]
   }
,
{
		   "cell_type": "markdown",
		   "metadata": {},
		   "source": [
			"## Example 9.13: Acute_radiation_exposure.sce"
		   ]
		  },
  {
"cell_type": "code",
	   "execution_count": null,
	   "metadata": {
	    "collapsed": true
	   },
	   "outputs": [],
"source": [
"// Example 9.13\n",
"clear all;\n",
"clc;\n",
"\n",
"// Given data\n",
"H_ext = 3;                                    // External dose in rem\n",
"H_wbL = 5;                                    // Annual whole body dose limit in rem\n",
"// Using the data from Table 9.17\n",
"// Annual Limit Intake (ALI) for inhalation of Iodine-131 is 54uCurie (Ci)\n",
"ALI = 54;\n",
"// Calculation\n",
"I = ALI*(1-(H_ext/H_wbL));\n",
"// Result\n",
"printf('\n Amount of Iodine-131 intake within safety limits = %d uCi \n',ceil(I));"
   ]
   }
,
{
		   "cell_type": "markdown",
		   "metadata": {},
		   "source": [
			"## Example 9.1: Gamma_ray_interaction.sce"
		   ]
		  },
  {
"cell_type": "code",
	   "execution_count": null,
	   "metadata": {
	    "collapsed": true
	   },
	   "outputs": [],
"source": [
"// Example 9.1\n",
"clear all;\n",
"clc;\n",
"\n",
"// Given data\n",
"e = 1.6*10^(-19);                         // Electronic charge in couloumb(coul)\n",
"X = 1*10^(-3)/3600;                       // Exposure rate in terms of R/sec\n",
"// According to the definition of Roentgen, 1 R = 2.58*10^(-7) coul/g \n",
"R = 2.58*10^(-7);\n",
"// From standard table\n",
"// There is 0.001293 g of air per 1 cm^3 at 1 atmospheric pressure at 0 C \n",
"density_air = 0.001293;\n",
"// Calculation\n",
"IR = (X*R*density_air)/e;\n",
"// Result\n",
"printf(' \n Rate of ions produced from gamma ray interaction = %d ions/cm^3-sec',IR);"
   ]
   }
,
{
		   "cell_type": "markdown",
		   "metadata": {},
		   "source": [
			"## Example 9.2: Absorbed_dose_rate_and_dose_equivalent_rate.sce"
		   ]
		  },
  {
"cell_type": "code",
	   "execution_count": null,
	   "metadata": {
	    "collapsed": true
	   },
	   "outputs": [],
"source": [
"// Example 9.2\n",
"clear all;\n",
"clc;\n",
"\n",
"// According to the definition of radiation absorbed dose(rad), 1 rad/sec = 100 ergs/g-sec\n",
"// Given data\n",
"D = 5*10^(-3)/100;                            // Absorbed dose in terms of rad/sec\n",
"// Expressing absorbed dose rate in SI units\n",
"// 1 Gray(Gy) = 100 rad \n",
"D_dot = D*3600/100;\n",
"// Using data from Table 9.2\n",
"Q = 1;                                        // Quality factor for gamma rays for tissue\n",
"// Calculation\n",
"H_dot = D_dot*Q;\n",
"printf(' \n Absorbed dose rate in a tissue = %.1f mGy/hr \n',D_dot*1000);\n",
"printf(' \n Dose equivalent rate in a tissue = %.1f mSv/hr \n',H_dot*1000);"
   ]
   }
,
{
		   "cell_type": "markdown",
		   "metadata": {},
		   "source": [
			"## Example 9.3: Acute_radiation_exposure.sce"
		   ]
		  },
  {
"cell_type": "code",
	   "execution_count": null,
	   "metadata": {
	    "collapsed": true
	   },
	   "outputs": [],
"source": [
"// Example 9.3\n",
"clear all;\n",
"clc;\n",
"\n",
"// Given data\n",
"H = 25;                                       // Equivalent dose in rem\n",
"age = 30;                                     // Age of worker in years\n",
"exp_age = 77;                                 // Average age upto which a person lives in years\n",
"// Using data from Table 9.6\n",
"// Bone cancer\n",
"rc_bone = 0.2;                                // Risk coefficient per 10^6 rem/year\n",
"lp_bone = 10;                                 // Latent period in years\n",
"// Probability of dying from bone cancer \n",
"p_bone=(H*rc_bone*(exp_age-(lp_bone+age)))/10^6;\n",
"\n",
"// Breast cancer\n",
"rc_breast = 1.5;                               // Risk coefficient per 10^6 rem/year\n",
"lp_breast = 15;                                // Latent period in years\n",
"// Probability of dying from breast cancer \n",
"p_breast = (H*rc_breast*(exp_age-(lp_breast+age)))/10^6;\n",
"\n",
"// Leukemia\n",
"rc_leukemia = 1;                              // Risk coefficient per 10^6 rem/year\n",
"lp_leukemia = 2;                              // Latent period in years\n",
"// Probability of dying from leukemia \n",
"p_leukemia = (H*rc_leukemia*(exp_age-(lp_leukemia+age)))/10^6;\n",
"\n",
"// Lung cancer\n",
"rc_lung = 1;                                  // Risk coefficient per 10^6 rem/year\n",
"lp_lung = 15;                                 // Latent period in years\n",
"// Probability of dying from lung cancer\n",
"p_lung = (H*rc_lung*(exp_age-(lp_lung+age)))/10^6;\n",
"\n",
"// Pancreatic cancer\n",
"rc_pancreas = 0.2;                             // Risk coefficient per 10^6 rem/year\n",
"lp_pancreas = 15;                              // Latent period in years\n",
"// Probability of dying from Pancreatic cancer\n",
"p_pancreas = (H*rc_pancreas*(exp_age-(lp_pancreas+age)))/10^6;\n",
"\n",
"// Stomach cancer\n",
"rc_stomach = 0.6;                              // Risk coefficient per 10^6 rem/year\n",
"lp_stomach = 15;                               // Latent period in years\n",
"// Probability of dying from stomach cancer\n",
"p_stomach = (H*rc_stomach*(exp_age-(lp_stomach+age)))/10^6;\n",
"\n",
"// Rest of alimentary cancer\n",
"rc_ali = 0.2;                                  // Risk coefficient per 10^6 rem/year\n",
"lp_ali = 15;                                   // Latent period in years\n",
"// Probability of dying from rest of alimentary cancer\n",
"p_ali = (H*rc_ali*(exp_age-(lp_ali+age)))/10^6;\n",
"\n",
"// Thyroid cancer\n",
"rc_thy = 0.43;                                  // Risk coefficient per 10^6 rem/year\n",
"lp_thy = 10;                                    // Latent period in years\n",
"// Probability of dying from thyroid cancer\n",
"p_thy = (H*rc_thy*(exp_age-(lp_thy+age)))/10^6;\n",
"\n",
"// All other type of cancer\n",
"rc_other = 1;                                   // Risk coefficient per 10^6 rem/year\n",
"lp_other = 15;                                  // Latent period in years\n",
"// Probability of dying from all other type of cancer\n",
"p_other = (H*rc_other*(exp_age-(lp_other+age)))/10^6;\n",
"\n",
"// Calculation\n",
"p = p_bone+p_breast+p_leukemia+p_lung+p_pancreas+p_stomach+p_ali+p_thy+p_other;\n",
"// Result\n",
"printf('\n Probability that the worker will die from cancer = %.1E \n',p);\n",
"\n",
"// The value obtained is different from the value given in the textbook. This is because of approximation of individual probabilities in the textbook."
   ]
   }
,
{
		   "cell_type": "markdown",
		   "metadata": {},
		   "source": [
			"## Example 9.4: Acute_radiation_exposure.sce"
		   ]
		  },
  {
"cell_type": "code",
	   "execution_count": null,
	   "metadata": {
	    "collapsed": true
	   },
	   "outputs": [],
"source": [
"// Example 9.4\n",
"clear all;\n",
"clc;\n",
"H = 1;                              // Equivalent dos in rem\n",
"n = 10^6;                           // Population\n",
"// Given data\n",
"\n",
"// Using the data of number of expected deaths of leukemia per 10^6 people from Table 9.9\n",
"// In utero age group\n",
"frac_utero = 0.011;                 // Fraction of population\n",
"riskyr_utero = 10;                  // Risk years\n",
"riskcoef_utero = 15;                // Risk coefficient\n",
"// Number of deaths in utero is given by\n",
"deaths_utero = frac_utero*riskyr_utero*riskcoef_utero;\n",
"\n",
"// In 0-0.99 age group\n",
"frac_0_099 = 0.014;                 // Fraction of population\n",
"riskyr_0_099 = 25;                  // Risk years\n",
"riskcoef_0_099 = 2;                 // Risk coefficient\n",
"// Number of deaths in 0-0.99 age group is given by\n",
"deaths_0_099 = frac_0_099*riskyr_0_099*riskcoef_0_099;\n",
"\n",
"// In 1-10 age group\n",
"frac_1_10 = 0.146;                  // Fraction of population\n",
"riskyr_1_10 = 25;                   // Risk years\n",
"riskcoef_1_10 = 2;                  // Risk coefficient\n",
"// Number of deaths in 1-10 age group is given by\n",
"deaths_1_10=frac_1_10*riskyr_1_10*riskcoef_1_10;\n",
"\n",
"// In 11-20 age group\n",
"frac_11_20 = 0.196;                 // Fraction of population\n",
"riskyr_11_20 = 25;                  // Risk years\n",
"riskcoef_11_20 = 1;                 // Risk coefficient\n",
"// Number of deaths in 11-20 age group is given by\n",
"deaths_11_20=frac_11_20*riskyr_11_20*riskcoef_11_20;\n",
"\n",
"// In 21-30 age group\n",
"frac_21_30 = 0.164;                 // Fraction of population\n",
"riskyr_21_30 = 25;                  // Risk years\n",
"riskcoef_21_30 = 1;                 // Risk coefficient\n",
"// Number of deaths in 21-30 age group is given by\n",
"deaths_21_30=frac_21_30*riskyr_21_30*riskcoef_21_30;\n",
"\n",
"// In 31-40 age group\n",
"frac_31_40 = 0.118;                 // Fraction of population\n",
"riskyr_31_40 = 25;                  // Risk years\n",
"riskcoef_31_40 = 1;                 // Risk coefficient\n",
"// Number of deaths in 31-40 age group is given by\n",
"deaths_31_40=frac_31_40*riskyr_31_40*riskcoef_31_40;\n",
"\n",
"// In 41-50 age group\n",
"frac_41_50 = 0.109;                 // Fraction of population\n",
"riskyr_41_50 = 25;                  // Risk years\n",
"riskcoef_41_50 = 1;                 // Risk coefficient\n",
"// Number of deaths in 41-50 age group is given by\n",
"deaths_41_50 = frac_41_50*riskyr_41_50*riskcoef_41_50;\n",
"\n",
"// In 51-60 age group\n",
"frac_51_60 = 0.104;                 // Fraction of population\n",
"riskyr_51_60 = 22.5;                // Risk years\n",
"riskcoef_51_60 = 1;                 // Risk coefficient\n",
"// Number of deaths in 51-50 age group is given by\n",
"deaths_51_60 = frac_51_60*riskyr_51_60*riskcoef_51_60;\n",
"\n",
"// In 61-70 age group\n",
"frac_61_70 = 0.08;\n",
"riskyr_61_70 = 15.1;\n",
"riskcoef_61_70 = 1;                 // Risk coefficient\n",
"// Number of deaths in 61-70 age group is given by\n",
"deaths_61_70=frac_61_70*riskyr_61_70*riskcoef_61_70;\n",
"\n",
"// In 71-80 age group\n",
"frac_71_80 = 0.044;                 // Fraction of population\n",
"riskyr_71_80 = 9.1;                 // Risk years\n",
"riskcoef_71_80 = 1;                 // Risk coefficient\n",
"// Number of deaths in 71-80 age group is given by\n",
"deaths_71_80 = frac_71_80*riskyr_71_80*riskcoef_71_80;\n",
"\n",
"// Age greater than 80\n",
"frac_80 = 0.02;                     // Fraction of population\n",
"riskyr_80 = 4.5;                    // Risk years\n",
"riskcoef_80 = 1;                    // Risk coefficient\n",
"// Number of deaths with age greater than 80 years is given by\n",
"deaths_80=frac_80*riskyr_80*riskcoef_80;\n",
"\n",
"// Calculation\n",
"total_deaths = deaths_utero+deaths_0_099+deaths_1_10+deaths_11_20+deaths_21_30+deaths_31_40+deaths_41_50+deaths_51_60+deaths_61_70+deaths_71_80+deaths_80;\n",
"// Result\n",
"printf(' \n Number of cases or deaths expected from leukemia = %.1f \n',total_deaths);\n",
"\n",
"\n",
"\n",
""
   ]
   }
,
{
		   "cell_type": "markdown",
		   "metadata": {},
		   "source": [
			"## Example 9.5: Chronic_radiation_exposure.sce"
		   ]
		  },
  {
"cell_type": "code",
	   "execution_count": null,
	   "metadata": {
	    "collapsed": true
	   },
	   "outputs": [],
"source": [
"// Example 9.5\n",
"clear all;\n",
"clc;\n",
"\n",
"// Given data\n",
"H_year = 5;                                   // Equiavelnt dose per year in rem\n",
"start_age = 18;                               // Initial age of the worker in years\n",
"ret_age = 68;                                 // Retirement age of the worker in years\n",
"// Using data from Table 9.6 with respect to Bone cancer\n",
"latent_period = 10;                           // Latent period in years\n",
"plateau_period = 30;                          // Plateau period in years\n",
"rc_bone = 0.2;                                // Risk coefficient per 10^6 rem/year\n",
"\n",
"n = ret_age-(start_age+latent_period);        // Number of years of accumulated dose\n",
"H = n*H_year;                                 // Total equivalent dose in rem\n",
"// Calculation\n",
"p_bone = (H*rc_bone*plateau_period)/10^6;\n",
"// Result\n",
"printf(' \n The probability of dying from bone cancer = %.1E \n',p_bone);"
   ]
   }
,
{
		   "cell_type": "markdown",
		   "metadata": {},
		   "source": [
			"## Example 9.6: External_exposure_due_to_gamma_rays.sce"
		   ]
		  },
  {
"cell_type": "code",
	   "execution_count": null,
	   "metadata": {
	    "collapsed": true
	   },
	   "outputs": [],
"source": [
"// Example 9.6\n",
"clear all;\n",
"clc;\n",
"\n",
"// Given data\n",
"E =2 ;                                        // Energy of gamma radiation in MeV\n",
"X_dot = 1;                                    // Exposure rate in mR/hour\n",
"// Using the data from Table II.5\n",
"// Let mu_a/rho of air at 2 Mev be denoted as mu_rho\n",
"mu_rho = 0.0238;                              // Ratio of absorption coefficient to sensity of air in cm^2/g\n",
"// Calculation\n",
"I = X_dot/(E*mu_rho*0.0659);\n",
"printf(' \n The beam intensity of gamma radiation required = %d gamma rays/cm^2-sec \n',ceil(I));"
   ]
   }
,
{
		   "cell_type": "markdown",
		   "metadata": {},
		   "source": [
			"## Example 9.7: External_exposure_due_to_X_rays.sce"
		   ]
		  },
  {
"cell_type": "code",
	   "execution_count": null,
	   "metadata": {
	    "collapsed": true
	   },
	   "outputs": [],
"source": [
"// Example 9.7\n",
"clear all;\n",
"clc;\n",
"\n",
"// Given data\n",
"phi = 2.4*10^5;                               // Flux in x-rays/cm^2-sec\n",
"// From Figure 9.9\n",
"// To receive an exposure rate of 1 mR/hr at 50 keV, the flux is 8*10^3 x-rays/cm^2-sec\n",
"phi_eq = 8*10^3;                              // Equivalent flux in x-rays/cm^2-sec\n",
"X_dot_eq = 1;                                 // Equivalent Exposure rate in mR/hr\n",
"X_dot = (phi*X_dot_eq)/phi_eq;                // Exposure rate of the operator in mR/hr\n",
"// From Figure 9.10 at 50 kV energy, the energy dependent function is\n",
"f_bone = 3.3;\n",
"f_muscle = 0.93;\n",
"f_fat = 0.9;\n",
"// Using data from Table 9.2\n",
"Q = 1;                                        // Quality factor for x-rays\n",
"// Calculation\n",
"D_dot_bone = X_dot*f_bone*Q;                  // Dose equivalent rate in bone\n",
"D_dot_muscle = X_dot*f_muscle*Q;              // Dose equivalent rate in muscle\n",
"D_dot_fat = X_dot*f_fat*Q;                    // Dose equivalent rate in fat\n",
"// Result\n",
"printf(' \n Dose equivalent rate in bone = %d mrem/hour \n',ceil(D_dot_bone));\n",
"printf(' \n Dose equivalent rate in muscle = %d mrem/hour \n',ceil(D_dot_muscle));\n",
"printf(' \n Dose equivalent rate in fat = %d mrem/hour \n',ceil(D_dot_fat));\n",
""
   ]
   }
,
{
		   "cell_type": "markdown",
		   "metadata": {},
		   "source": [
			"## Example 9.8: External_exposure_due_to_neutrons.sce"
		   ]
		  },
  {
"cell_type": "code",
	   "execution_count": null,
	   "metadata": {
	    "collapsed": true
	   },
	   "outputs": [],
"source": [
"// Example 9.8\n",
"clear all;\n",
"clc;\n",
"\n",
"// Given data\n",
"phi_n = 20;                               // Given neutron flux in neutrons/cm^2-sec\n",
"// From Figure 9.12\n",
"// To receive an dose equivalent rate of 1 mrem/hr, the fast neutron flux is 7 neutrons/cm^2-sec\n",
"phi_n_eq = 7;\n",
"D_dot_eq = 1; \n",
"D_dot_n = (phi_n*D_dot_eq)/phi_n_eq;      // Dose rate due to fast neutron flux in mrem/hr\n",
"phi_th = 300;                             // Given thermal flux in neutrons/cm^2-sec\n",
"// From Figure 9.12\n",
"// To receive an dose equivalent rate of 1 mrem/hr, the thermal flux is 260 neutrons/cm^2-sec\n",
"phi_th_eq = 260;\n",
"D_dot_th = (phi_th*D_dot_eq)/phi_th_eq;  // Dose rate due to thermal neutron flux in mrem/hr\n",
"D_dot = D_dot_n+D_dot_th;               // Total dose rate in mrem/hr\n",
"printf('\n The permitted weekly dose is 100 mrem \n');\n",
"D_dot_perm = 100;\n",
"// Calculation\n",
"t = D_dot_perm/D_dot;\n",
"printf(' \n The time of exposure upto a safe level = %.1f hour \n',t);\n",
"// The answer given in the textbook is wrong. This is because of wrong computation of total dose rate"
   ]
   }
,
{
		   "cell_type": "markdown",
		   "metadata": {},
		   "source": [
			"## Example 9.9: External_exposure_due_to_neutrons.sce"
		   ]
		  },
  {
"cell_type": "code",
	   "execution_count": null,
	   "metadata": {
	    "collapsed": true
	   },
	   "outputs": [],
"source": [
"// Example 9.9\n",
"clear all;\n",
"clc;\n",
"\n",
"// Given data\n",
"fluence = 10^8;                               // Given fluence neutrons/cm^2\n",
"// From Figure 9.12\n",
"// To receive an dose equivalent rate of 1 mrem/hr, the fast neutron flux is 7 neutrons/cm^2-sec\n",
"phi_eq = 7;                                  // Equivalent flux in neutrons/cm^2-sec\n",
"D_eq = 1;                                    // Equivalent dose rate in mrem/hr\n",
"// 1 hour = 3600 seconds\n",
"fluence_eq = phi_eq*3600;                    // Equivalent fluence in neutrons/cm^2\n",
"// Calculation \n",
"D = (fluence*D_eq)/fluence_eq;\n",
"// Result\n",
"printf(' \n Dose received due to exposure of accelerator source = %d mrem \n',D);\n",
"// The answer given in textbook is approximated to a nearest value."
   ]
   }
],
"metadata": {
		  "kernelspec": {
		   "display_name": "Scilab",
		   "language": "scilab",
		   "name": "scilab"
		  },
		  "language_info": {
		   "file_extension": ".sce",
		   "help_links": [
			{
			 "text": "MetaKernel Magics",
			 "url": "https://github.com/calysto/metakernel/blob/master/metakernel/magics/README.md"
			}
		   ],
		   "mimetype": "text/x-octave",
		   "name": "scilab",
		   "version": "0.7.1"
		  }
		 },
		 "nbformat": 4,
		 "nbformat_minor": 0
}
