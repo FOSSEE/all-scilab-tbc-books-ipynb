{
"cells": [
 {
		   "cell_type": "markdown",
	   "metadata": {},
	   "source": [
       "# Chapter 5: Neutron Diffusion and Moderation"
	   ]
	},
{
		   "cell_type": "markdown",
		   "metadata": {},
		   "source": [
			"## Example 5.2: Neutron_diffusion.sce"
		   ]
		  },
  {
"cell_type": "code",
	   "execution_count": null,
	   "metadata": {
	    "collapsed": true
	   },
	   "outputs": [],
"source": [
"// Example 5.2\n",
"clear all;\n",
"clc;\n",
"\n",
"// Given data\n",
"// 1 barn = 10^(-24) cm^2\n",
"sigma_s = 4.8*10^(-24)          // Scattering cross section of carbon in cm^2\n",
"A_C = 12;                       // Atomic Mass number for carbon-12\n",
"E = 1;                          // Energy of carbon-12 atom in eV\n",
"// Using the data given in Table II.3, for carbon (graphite) at energy 1 eV\n",
"N = 0.08023*10^(24);            // Atom density in terms of atom/cm^3\n",
"mu_bar = 2/(3*A_C);             // Average value of the cosine of the angle at which neutrons are scattered in the med/ium\n",
"SIGMA_s = N*sigma_s             // Macroscopic scattering cross section of carbon-12\n",
"// Calculation\n",
"D = 1/(3*SIGMA_s*(1-mu_bar));\n",
"// Result\n",
"printf('\n Diffusion coefficeint of graphite at 1 eV = %4.3f cm \n',D);\n",
"\n",
"\n",
"\n",
""
   ]
   }
,
{
		   "cell_type": "markdown",
		   "metadata": {},
		   "source": [
			"## Example 5.5: Multigroup_diffusion_theory.sce"
		   ]
		  },
  {
"cell_type": "code",
	   "execution_count": null,
	   "metadata": {
	    "collapsed": true
	   },
	   "outputs": [],
"source": [
"// Example 5.5\n",
"clear all;\n",
"clc;\n",
"\n",
"// Given data\n",
"phi1 = 6*10^(14);               // Neutron flux of Group 1\n",
"phi2 = 1*10^(15);               // Neutron flux of Group 2\n",
"phi3 = 3*10^(15);               // Neutron flux of Group 3\n",
"\n",
"// 1.\n",
"// Using the data given in Table II.3, for atom density of sodium\n",
"N = 0.02541*10^(24);            // Atom density in terms of atom/cm^3\n",
"// Using the data given for sigmay (Microscopic radiative capture cross section) in Table II.3,\n",
"// 1 barn = 10^(-24) cm^2\n",
"sigmay1 = 0.0005*10^(-24);      // Microscopic gamma cross section of Group 1\n",
"sigmay2 = 0.001*10^(-24);       // Microscopic gamma cross section of Group 2\n",
"sigmay3 = 0.001*10^(-24);       // Microscopic gamma cross section of Group 3\n",
"// Calculation \n",
"F_a = N*((sigmay1*phi1)+(sigmay2*phi2)+(sigmay3*phi3));\n",
"// Result\n",
"printf('\n Total absorption rate for three groups = %3.2E neutrons/cm^3-sec \n',F_a);\n",
"\n",
"// 2.\n",
"// Calculation\n",
"sigmag_12 = 0.24*10^(-24);        // Microscopic scattereing cross section of neutrons from Group 1 to Group 2\n",
"F_12 = N*sigmag_12*phi1;\n",
"// Result\n",
"printf('\n Neutron scattering rate from the first to second group = %3.2E neutrons/cm^3-sec \n',F_12);\n",
""
   ]
   }
,
{
		   "cell_type": "markdown",
		   "metadata": {},
		   "source": [
			"## Example 5.6: Neutron_diffusion.sce"
		   ]
		  },
  {
"cell_type": "code",
	   "execution_count": null,
	   "metadata": {
	    "collapsed": true
	   },
	   "outputs": [],
"source": [
"// Example 5.6\n",
"clear all;\n",
"clc;\n",
"\n",
"// Given data\n",
"S = 10^7;             // Strength of neutron source in neutrons/sec\n",
"r = 15;               // Distance over which neutron flux is to be calculated in cm\n",
"// Using the data given in Table 5.2,\n",
"L_T = 2.85;           // Thermal diffusion length in cm\n",
"D_bar = 0.16;         // Diffusion coefficient in cm\n",
"// Calculation\n",
"phi_T = S*exp(-r/L_T)/(4*%pi*D_bar*r);\n",
"// Result\n",
"printf('\n Neutron flux = %3.2E neutrons/cm^2-sec \n',phi_T);"
   ]
   }
,
{
		   "cell_type": "markdown",
		   "metadata": {},
		   "source": [
			"## Example 5.7: Neutron_diffusion.sce"
		   ]
		  },
  {
"cell_type": "code",
	   "execution_count": null,
	   "metadata": {
	    "collapsed": true
	   },
	   "outputs": [],
"source": [
"// Example 5.7\n",
"clear all;\n",
"clc;\n",
"\n",
"// Given data\n",
"T_F = 500;                  // Temeperature in Fahrenheit\n",
"P = 2000;                   // Pressure in psi\n",
"rho = 49.6;                 // Density in terms of lb/ft^3\n",
"// Converting the given temperature from Fahrenheit to Celsius\n",
"T_C = (5/9)*(T_F-32);\n",
"// Converting the temperature from Celsius to Kelvin scale\n",
"T_K = 273+T_C;\n",
"\n",
"// Using the data given in Table 5.2,\n",
"D_bar_0 = 0.16;             // Diffusion coefficient at 293 K\n",
"rho_0 = 62.4;               // Density at 293 K in terms of lb/ft^3\n",
"L_T2_0 = 8.1;               // Diffusion area at 293 K in cm^2\n",
"T_0 = 293;                  // Standard Temperature in kelvin\n",
"m = 0.47;                   // Material specific constant\n",
"// Calculation\n",
"D_bar = D_bar_0*(rho_0/rho)*(T_K/T_0)^m;\n",
"L_T2 = L_T2_0*(rho_0/rho)^2*(T_K/T_0)^(m+1/2);\n",
"// Result\n",
"printf('\n Diffusion coefficient of ordinary water = %4.3f cm \n',D_bar);\n",
"printf('\n Diffusion area of ordinary water = %3.1f cm^2 \n',L_T2);"
   ]
   }
],
"metadata": {
		  "kernelspec": {
		   "display_name": "Scilab",
		   "language": "scilab",
		   "name": "scilab"
		  },
		  "language_info": {
		   "file_extension": ".sce",
		   "help_links": [
			{
			 "text": "MetaKernel Magics",
			 "url": "https://github.com/calysto/metakernel/blob/master/metakernel/magics/README.md"
			}
		   ],
		   "mimetype": "text/x-octave",
		   "name": "scilab",
		   "version": "0.7.1"
		  }
		 },
		 "nbformat": 4,
		 "nbformat_minor": 0
}
