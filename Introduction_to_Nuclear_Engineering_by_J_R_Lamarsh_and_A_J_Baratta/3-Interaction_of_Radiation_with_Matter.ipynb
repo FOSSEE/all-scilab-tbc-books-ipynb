{
"cells": [
 {
		   "cell_type": "markdown",
	   "metadata": {},
	   "source": [
       "# Chapter 3: Interaction of Radiation with Matter"
	   ]
	},
{
		   "cell_type": "markdown",
		   "metadata": {},
		   "source": [
			"## Example 3.10: Energy_loss_in_scattering_reactions.sce"
		   ]
		  },
  {
"cell_type": "code",
	   "execution_count": null,
	   "metadata": {
	    "collapsed": true
	   },
	   "outputs": [],
"source": [
"// Example 3.10\n",
"clear all;\n",
"clc;\n",
"\n",
"// Given data\n",
"E = 1;                                  // Energy of neutron in MeV\n",
"A = 2;                                  // Atomic mass number of deuterium\n",
"v = 45;                                 // Scattering angle in degree\n",
"\n",
"//  1.\n",
"// Calculation \n",
"E_dash = E/(A+1)^2 *((cosd (v)+sqrt(A^2-(sind(v))^2))^2);\n",
"// Result\n",
"printf('\n Energy of scattered neutron = %4.3f MeV \n',E_dash);\n",
"\n",
"// 2.\n",
"// Calculation \n",
"E_A = E-E_dash;\n",
"// Result\n",
"printf('\n Energy of recoil nucleus = %4.3f MeV \n',E_A);\n",
"\n",
"// 3.\n",
"// Calculation \n",
"deltau = log(E/E_dash);\n",
"// Result\n",
"printf('\n Change in lethargy of neutron on collision = %4.3f \n',deltau);"
   ]
   }
,
{
		   "cell_type": "markdown",
		   "metadata": {},
		   "source": [
			"## Example 3.11: Neutron_absorption_rate.sce"
		   ]
		  },
  {
"cell_type": "code",
	   "execution_count": null,
	   "metadata": {
	    "collapsed": true
	   },
	   "outputs": [],
"source": [
"// Example 3.11\n",
"clear all;\n",
"clc;\n",
"\n",
"// Given data\n",
"phi = 5*10^(12);                                // Neutron flux in neutrons/cm^2-sec\n",
"T = 600;                                        // Temperature of neutron in degree\n",
"// Using the data given in Table II.3, Appendix II for indium\n",
"N = 0.0383*10^(24);                             // Atom density in atoms/cm^3\n",
"// 1 barn = 10^(-24) cm^2\n",
"sigmaa_E0 = 194*10^(-24);                       // Microscopic absorption cross section in cm^2\n",
"SIGMA_E0 = N*sigmaa_E0;                         // Macroscopic absorption cross section in cm^(-1)\n",
"// From Table 3.2 \n",
"ga_600 = 1.15;                                  // Non 1/v factor at 600 degree celsius\n",
"// Calculation \n",
"F_a = ga_600*SIGMA_E0*phi;\n",
"// Result\n",
"printf('\n Absorption rate of neutrons per cc in indium foil = %4.2E neutrons/cm^3-sec \n',F_a);"
   ]
   }
,
{
		   "cell_type": "markdown",
		   "metadata": {},
		   "source": [
			"## Example 3.12: Activity_estimatio.sce"
		   ]
		  },
  {
"cell_type": "code",
	   "execution_count": null,
	   "metadata": {
	    "collapsed": true
	   },
	   "outputs": [],
"source": [
"// Example 3.12\n",
"clear all;\n",
"clc;\n",
"\n",
"// Given data\n",
"N = 120;                                // Number of fuel rods\n",
"P = 100;                                // Reactor power in MW\n",
"t = 1;                                  // Estimation time of fuel rod after removal in days\n",
"T = 365;                                // Time of reactor operation\n",
"// Estimation\n",
"Activity_total = 1.4*10^6*P*[t^(-0.2)-(t+T)^(-0.2)];\n",
"Activity_one = Activity_total/N;        // For one fuel rod\n",
"// Result\n",
"printf('\n The activity of a fuel rod = %2.1E Ci \n',Activity_one);"
   ]
   }
,
{
		   "cell_type": "markdown",
		   "metadata": {},
		   "source": [
			"## Example 3.13: Fission_neutron_estimation.sce"
		   ]
		  },
  {
"cell_type": "code",
	   "execution_count": null,
	   "metadata": {
	    "collapsed": true
	   },
	   "outputs": [],
"source": [
"// Example 3.13\n",
"clear all;\n",
"clc;\n",
"\n",
"// Using the data given in Table 3.4 and Table II.2 for uranium\n",
"v_235 = 2.418;            // Average number of neutrons released per fission\n",
"y_235 = 0.72;             // Isotropic abundance of Uranium-235 on the earth\n",
"sigmaf_235 = 582.2;       // Fission cross section of Uranium-235\n",
"sigmaa_235 = 680.8;       // Absorption cross section of Uranium-235\n",
"N_235 = y_235;\n",
"y_238 = 99.26;            // Isotropic abundance of Uranium-238 on the earth\n",
"sigmaa_238 = 2.7;         // Absorption cross section of Uranium-238\n",
"// Calculation\n",
"n = (v_235*y_235*sigmaf_235)/((y_235*sigmaa_235)+(y_238*sigmaa_238));\n",
"// Result\n",
"printf('\n Eta for natural uranium = %3.2f \n',n);"
   ]
   }
,
{
		   "cell_type": "markdown",
		   "metadata": {},
		   "source": [
			"## Example 3.14: Energy_released_in_fission_reaction.sce"
		   ]
		  },
  {
"cell_type": "code",
	   "execution_count": null,
	   "metadata": {
	    "collapsed": true
	   },
	   "outputs": [],
"source": [
"// Example 3.14\n",
"clear all;\n",
"clc;\n",
"\n",
"// Fission of 1 g of Uranium-235 releases approximately 1 MW/day of energy. \n",
"// 1 MW/day = 8.64*10^(10) J\n",
"energy_uranium = 8.64*10^10;\n",
"\n",
"// 1. Coal\n",
"h_coal = 3*10^7;      // Heat contenet of coal in J/kg\n",
"// Calculation\n",
"amt_coal = energy_uranium/h_coal;\n",
"// Result\n",
"printf('\n Amount of coal required for energy equivalent of fission = %3.2E kg \n or %3.2f metric tons or %3.2f short tons\n',amt_coal,amt_coal/10^3,amt_coal*1.10231/10^3);\n",
"// The result is expressed in all units of commercial importance.\n",
"\n",
"// 2. Oil\n",
"h_oil = 4.3*10^7;      // Heat contenet of oil in J/kg\n",
"// Calculation\n",
"amt_oil = energy_uranium/h_oil;\n",
"// Result\n",
"printf('\n Amount of oil required for energy equivalent of fission = %3.2E kg \n or %3.2f tons or %3.1f barrels\n',amt_oil,amt_oil/10^3,amt_oil*6.3/10^3);\n",
"// The result is expressed in all units of commercial importance.\n",
""
   ]
   }
,
{
		   "cell_type": "markdown",
		   "metadata": {},
		   "source": [
			"## Example 3.15: Gamma_ray_attenuation_in_materials.sce"
		   ]
		  },
  {
"cell_type": "code",
	   "execution_count": null,
	   "metadata": {
	    "collapsed": true
	   },
	   "outputs": [],
"source": [
"// Example 3.15\n",
"clear all;\n",
"clc;\n",
"\n",
"// Given data\n",
"rho = 10;                               // Density of UO2 in g/cm^3\n",
"mol_wt_UO2 = 238+(16*2);                // Molecular weight of UO2\n",
"per_U   =  (238/mol_wt_UO2)*100;        // Percent by weight of Uranium\n",
"per_O = 100-per_U;                      // Percent by weight of Oxygen\n",
"\n",
"// Calculation \n",
"//Using the data given in Table II.4 for uranium and oxygen\n",
"mup_U = 0.0757;                         // Ratio of mass attenuation coefficient to density of uranium in cm^2/g\n",
"mup_O = 0.0636;                         // Ratio of mass attenuation coefficient to density of oxygen in cm^2/g\n",
"mup = (per_U/100*mup_U)+(per_O/100*mup_O);    // The total ratio of mass attenuation coefficient in cm^2/g\n",
"mu = mup*rho;\n",
"// Calculation \n",
"lambda = 1/mu;\n",
"// Result\n",
"printf('\n Mass attenuation coefficient of Uranium dioxide (UO2) = %5.3f cm^(-1) \n',mu);\n",
"printf('\n Mean free path = %3.2f cm \n',lambda);\n",
"// The answer is marked wrongly in the textbook. But the solution is correctly evaluated."
   ]
   }
,
{
		   "cell_type": "markdown",
		   "metadata": {},
		   "source": [
			"## Example 3.16: Energy_deposition_of_radioactive_samples.sce"
		   ]
		  },
  {
"cell_type": "code",
	   "execution_count": null,
	   "metadata": {
	    "collapsed": true
	   },
	   "outputs": [],
"source": [
"// Example 3.16\n",
"clear all;\n",
"clc;\n",
"\n",
"// Given data\n",
"E = 0.8;                    // Average gamma ray energy in MeV\n",
"I = 3*10^(11);              // Intensity of gamma rays incident on the container in gamma rays/cm^2-sec\n",
"// Using the data given in Table II.5 for iron at 0.8 MeV\n",
"mup_iron = 0.0274;          // Ratio of mass attenuation coefficient to density of iron in cm^2/g\n",
"// Calculation \n",
"dep_rate = E*I*mup_iron;\n",
"// Expressing the result in SI units\n",
"// 1 MeV = 1.6*10^(-13) J\n",
"// 1 kg = 1000 g\n",
"dep_rate_SI = dep_rate*(1.6*10^(-13)*1000);\n",
"printf('\n Rate of energy deposited = %3.2E MeV/g-sec or %.2f J/kg-sec \n',dep_rate,dep_rate_SI);"
   ]
   }
,
{
		   "cell_type": "markdown",
		   "metadata": {},
		   "source": [
			"## Example 3.17: Range_of_charged_particles.sce"
		   ]
		  },
  {
"cell_type": "code",
	   "execution_count": null,
	   "metadata": {
	    "collapsed": true
	   },
	   "outputs": [],
"source": [
"// Example 3.17\n",
"clear all;\n",
"clc;\n",
"\n",
"// Given data \n",
"E_max = 1.39;                   // Maximum energy of beta rays in MeV\n",
"// Calculation \n",
"R_max = 0.412*E_max^(1.265-(0.0954*log(E_max)));\n",
"// Result\n",
"printf('\n Maximum distance of beta rays traversed = %4.3f cm \n',R_max);"
   ]
   }
,
{
		   "cell_type": "markdown",
		   "metadata": {},
		   "source": [
			"## Example 3.1: Neutron_collsion.sce"
		   ]
		  },
  {
"cell_type": "code",
	   "execution_count": null,
	   "metadata": {
	    "collapsed": true
	   },
	   "outputs": [],
"source": [
"// Example 3.1\n",
"clear all;\n",
"clc;\n",
"\n",
"// Given data\n",
"// 1 barn = 10^(-24) cm^2\n",
"sigma = 2.6*10^(-24);                   // Cross section of carbon-12 in cm^2\n",
"I = 5*10^8;                             // Intensity of neutron beam in neutrons/cm^2-sec\n",
"A = 0.1;                                // Cross sectional area of the beam in cm^2;\n",
"X = 0.05;                               // Thickness of the target in cm\n",
"\n",
"// 1.\n",
"// Using the data given in Table I.3, Appendix II for carbon-12\n",
"N = 0.08*10^(24);                       // Atom density in atoms/cm^3\n",
"// Calculation \n",
"IR = sigma*I*N*A*X;\n",
"// Result\n",
"printf('\n Total interaction rate = %2.1E interactions/sec \n',IR);\n",
"\n",
"// 2. \n",
"no = I*A;                               // Neutron rate in neutrons/sec\n",
"// Calculation \n",
"p = IR/no;\n",
"printf('\n Probability of collision = %3.2E \n',p);\n",
""
   ]
   }
,
{
		   "cell_type": "markdown",
		   "metadata": {},
		   "source": [
			"## Example 3.2: Probability_of_nuclear_reaction.sce"
		   ]
		  },
  {
"cell_type": "code",
	   "execution_count": null,
	   "metadata": {
	    "collapsed": true
	   },
	   "outputs": [],
"source": [
"// Example 3.2\n",
"clear all;\n",
"clc;\n",
"\n",
"// Given data\n",
"sigmaf = 582;           // Fission cross section of U-235 on bombardment of neutron in barn\n",
"sigmay = 99;            // Radiative capture cross section of U-235 on bombardment of neutron in barn\n",
"// Calculation\n",
"pf = sigmaf/(sigmaf+sigmay);\n",
"// Result\n",
"printf('\n Probability of fission = %.3f = %3.1f percent\n',pf,pf*100);"
   ]
   }
,
{
		   "cell_type": "markdown",
		   "metadata": {},
		   "source": [
			"## Example 3.3: Neutron_collsion.sce"
		   ]
		  },
  {
"cell_type": "code",
	   "execution_count": null,
	   "metadata": {
	    "collapsed": true
	   },
	   "outputs": [],
"source": [
"// Example 3.3\n",
"clear all;\n",
"clc;\n",
"\n",
"// Given data\n",
"// Using the data given in the example 3.1\n",
"N = 0.08*10^(24);                   // Atom density of Carbon-12 in atoms/cm^3\n",
"// 1 barn = 10^(-24) cm^2\n",
"sigma = 2.6*10^(-24);               // Cross section of carbon-12 in cm^2\n",
"I = 5*10^8;                         // Intensity of neutron beam in neutrons/cm^2-sec\n",
"\n",
"// 1.\n",
"// Calculation \n",
"SIGMAt = N*sigma;\n",
"// Result\n",
"printf('\n Macroscopic cross section of carbon-12 = %3.2f cm^(-1)\n',SIGMAt);\n",
"\n",
"//2. \n",
"// Calculation \n",
" F= I*SIGMAt;\n",
"// Result\n",
"printf('\n Collision density in the carbon-12 target = %3.2E collisions/cm^(3)-sec\n',F);"
   ]
   }
,
{
		   "cell_type": "markdown",
		   "metadata": {},
		   "source": [
			"## Example 3.4: Mean_free_path.sce"
		   ]
		  },
  {
"cell_type": "code",
	   "execution_count": null,
	   "metadata": {
	    "collapsed": true
	   },
	   "outputs": [],
"source": [
"// Example 3.4\n",
"clear all;\n",
"clc;\n",
"\n",
"// Given data\n",
"E = 100;                            // Neutron energy in keV\n",
"// Using the data given in Table II.3, for E = 100 keV\n",
"atom_density = 0.0254*10^(24);      // Atom density of sodium in atoms/cm^3\n",
"// 1 barn = 10^(-24) cm^2\n",
"sigma = 3.4*10^(-24);               // Microscopic cross section of sodium in cm^2\n",
"// Calculation\n",
"SIGMA = atom_density*sigma;\n",
"lambda = 1/SIGMA;\n",
"// Result\n",
"printf('\n Macroscopic cross section = %5.4f cm^(-1)\n',SIGMA);\n",
"printf('\n Mean Free Path = %3.2f cm\n',lambda);"
   ]
   }
,
{
		   "cell_type": "markdown",
		   "metadata": {},
		   "source": [
			"## Example 3.5: Absorption_cross_section.sce"
		   ]
		  },
  {
"cell_type": "code",
	   "execution_count": null,
	   "metadata": {
	    "collapsed": true
	   },
	   "outputs": [],
"source": [
"// Example 3.5\n",
"clear all;\n",
"clc;\n",
"\n",
"// Given data\n",
"atom_density_U235 = 3.48*10^(-4)*10^(24);  // Atom density of Uranium-235 in atoms/cm^3\n",
"atom_density_U238 = 0.0483*10^(24);        // Atom density of Uranium-238 in atoms/cm^3\n",
"// 1 barn = 10^(-24) cm^2\n",
"sigmaa_U235 = 680.8*10^(-24);              // Absorption cross section of Uranium-235 incm^2\n",
"sigmaa_U238 = 2.7*10^(-24);                // Absorption cross section of Uranium-238 incm^2\n",
"// Calculation\n",
"SIGMAA=(atom_density_U235*sigmaa_U235)+(atom_density_U238*sigmaa_U238);\n",
"// Result\n",
"printf('\n Macroscopic absorption cross section = %4.3f cm^(-1)\n',SIGMAA);"
   ]
   }
,
{
		   "cell_type": "markdown",
		   "metadata": {},
		   "source": [
			"## Example 3.6: Scattering_cross_section.sce"
		   ]
		  },
  {
"cell_type": "code",
	   "execution_count": null,
	   "metadata": {
	    "collapsed": true
	   },
	   "outputs": [],
"source": [
"// Example 3.6\n",
"clear all;\n",
"clc;\n",
"\n",
"// Given data\n",
"sigmas_H_1 = 3;                 // Scattering cross section of Hydrogen in barn at 1 MeV\n",
"sigmas_O_1 = 8;                 // Scattering cross section of Oxygen in barn at 1 MeV\n",
"sigmas_H_th = 21;               // Scattering cross section of Hydrogen in barn at 0.0253 eV \n",
"sigmas_O_th = 4;                // Scattering cross section of Oxygen in barn at 0.0253 eV\n",
"// Calculation\n",
"sigmas_H20_1 = (2*sigmas_H_1)+(1*sigmas_O_1);\n",
"// Result\n",
"printf('\n Scattering cross section of Water at 1 MeV = %d b \n',sigmas_H20_1);\n",
"// The equation used to calculate the scattering cross section at 1 MeV cannot be used at thermal energy. \n",
"printf(' Experimental value of scattering cross section of Water at 0.0253 eV = %d b \n',103);"
   ]
   }
,
{
		   "cell_type": "markdown",
		   "metadata": {},
		   "source": [
			"## Example 3.7: Reactor_power.sce"
		   ]
		  },
  {
"cell_type": "code",
	   "execution_count": null,
	   "metadata": {
	    "collapsed": true
	   },
	   "outputs": [],
"source": [
"// Example 3.7\n",
"clear all;\n",
"clc;\n",
"\n",
"// Given data\n",
"phi = 1*10^(13);                            // Neutron flux in neutrons/cm^3\n",
"v = 64000;                                  // Volume of research reactor in cm^3\n",
"sigmaf = 0.1;                               // Macroscopic fission cross section in cm^(-1)\n",
"// The energy released per fission reaction is 200 MeV\n",
"// 1 MeV = 1.6*10^(-13) joule\n",
"E = 200*1.6*10^(-13);\n",
"// Calculation \n",
"fiss_rate = sigmaf*phi;                     // Fission rate in neutrons/cm^2-sec\n",
"power_cc = E*fiss_rate/10^6;                // Reactor power/cc\n",
"power = power_cc*v;\n",
"printf('\n Reactor power of a research reactor = %d MW\n',power);"
   ]
   }
,
{
		   "cell_type": "markdown",
		   "metadata": {},
		   "source": [
			"## Example 3.8: Elastic_scattering.sce"
		   ]
		  },
  {
"cell_type": "code",
	   "execution_count": null,
	   "metadata": {
	    "collapsed": true
	   },
	   "outputs": [],
"source": [
"// Example 3.8\n",
"clear all;\n",
"clc;\n",
"\n",
"// 1 barn = 10^(-24) cm^2\n",
"// From the Figure 3.4 given in the textbook\n",
"sigmae = 4.8*10^(-24);                // Experimental cross section of carbon from 0.02eV to 0.01MeV\n",
"// Assuming spherical shape and elstic scattering\n",
"R = sqrt(sigmae/(4*%pi));\n",
"// Result\n",
"printf('\n Radius of carbon nucleus = %3.1E cm\n',R);"
   ]
   }
,
{
		   "cell_type": "markdown",
		   "metadata": {},
		   "source": [
			"## Example 3.9: Radiative_capture_reactio.sce"
		   ]
		  },
  {
"cell_type": "code",
	   "execution_count": null,
	   "metadata": {
	    "collapsed": true
	   },
	   "outputs": [],
"source": [
"// Example 3.9\n",
"clear all;\n",
"clc;\n",
"\n",
"// Given data \n",
"E0 = 0.0253;                                // Thermal energy in eV\n",
"// 1 barn = 10^(-24) cm^2\n",
"sigmay_E0 = 0.332*10^(-24);                 // Radiative capture cross section at 0.0253 eV in cm^2\n",
"E = 1;                                      // Energy in eV at which radiative cross section is to be found\n",
"// Calculation \n",
"sigmay_E = sigmay_E0*sqrt(E0/E);\n",
"// Result\n",
"// Expressing the result in barn\n",
"printf('\n Radiative capture cross section of hydrogen at 1 eV = %5.4f b\n',sigmay_E*10^(24));"
   ]
   }
],
"metadata": {
		  "kernelspec": {
		   "display_name": "Scilab",
		   "language": "scilab",
		   "name": "scilab"
		  },
		  "language_info": {
		   "file_extension": ".sce",
		   "help_links": [
			{
			 "text": "MetaKernel Magics",
			 "url": "https://github.com/calysto/metakernel/blob/master/metakernel/magics/README.md"
			}
		   ],
		   "mimetype": "text/x-octave",
		   "name": "scilab",
		   "version": "0.7.1"
		  }
		 },
		 "nbformat": 4,
		 "nbformat_minor": 0
}
