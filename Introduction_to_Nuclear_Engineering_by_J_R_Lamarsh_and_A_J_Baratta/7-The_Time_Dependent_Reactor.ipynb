{
"cells": [
 {
		   "cell_type": "markdown",
	   "metadata": {},
	   "source": [
       "# Chapter 7: The Time Dependent Reactor"
	   ]
	},
{
		   "cell_type": "markdown",
		   "metadata": {},
		   "source": [
			"## Example 7.10: Total_control_rod_worth.sce"
		   ]
		  },
  {
"cell_type": "code",
	   "execution_count": null,
	   "metadata": {
	    "collapsed": true
	   },
	   "outputs": [],
"source": [
"// Example 7.10\n",
"clear all;\n",
"clc;\n",
"\n",
"// Given data\n",
"d = 5;                                    // Inner diameter of the tube in cm\n",
"a = d/2;                                  // Inner radius of the tube in cm\n",
"l = 76;                                   // Length of the tube in cm\n",
"rho = 2;                                  // Density of B4C in g/cm^3\n",
"n = 5;                                    // Number of rods in tbe reactor\n",
"m_B4C = 2*(n*%pi*(a^2)*l);                // Mass of B4C in all the rods\n",
"// Using the data from standard periodic table\n",
"molwt_B = 10.8;                           // Molecular weight of Boron(B)\n",
"molwt_C = 12;                             // Molecular weight of Carbon(C)\n",
"molwt_B4C = (4*molwt_B)+molwt_C;          // Molecular weight of B4C\n",
"N_A = 0.6*10^(24);                        // Avogadro number\n",
"// From Table II.3 \n",
"sigma_a = 0.27*10^(-24);                  // Microscopic absorption cross section of boron in cm^2\n",
"n_B = (4*m_B4C*N_A)/molwt_B4C;            // Number of boron atoms\n",
"// Using the result of Example 6.3\n",
"SIGMA_aF = 0.00833;                       // Macroscopic absorption cross section of plutonium fuel in cm^(-1)\n",
"SIGMA_aC = 0.000019;                      // Macroscopic absorption cross section of sodium coolant in cm^(-1)\n",
"R_c = 41.7;                               // Critical radius in cm\n",
"N_B = n_B/((4/3)*%pi*R_c^3);              // Atom density of boron over an entire reactor assuming spherical shape\n",
"SIGMA_aB = sigma_a*N_B;                   // Macroscopic absorption cross section of boron\n",
"// Calculation\n",
"rho_w = SIGMA_aB/(SIGMA_aF+SIGMA_aC);\n",
"// Result\n",
"printf(' \n The worth of the control rods using one group theory = %.4f or %.2f percent \n',rho_w,rho_w*100);\n",
"// In textbook, the final answer of total worth of control rods in percentage is wrong."
   ]
   }
,
{
		   "cell_type": "markdown",
		   "metadata": {},
		   "source": [
			"## Example 7.11: Differential_control_rod_worth.sce"
		   ]
		  },
  {
"cell_type": "code",
	   "execution_count": null,
	   "metadata": {
	    "collapsed": true
	   },
	   "outputs": [],
"source": [
"// Example 7.11\n",
"clear all;\n",
"clc;\n",
"\n",
"// Given data\n",
"H = 70;                                       // Height of square cylindrical reactor in cm\n",
"rho_wH = 0.065;                               // Total worth of a control rod at full height\n",
"rho_wx = 0.01;                                // Total worth of a control rod to be achieved \n",
"// Let y-sin(y) = t\n",
"t = 2*%pi*(rho_wx/rho_wH);\n",
"// Using Newton Raphson method for solving the transcendental equation y - sin(y) -0.966 = 0\n",
"deff('y=f(y)','y = y-sin(y)-0.966')\n",
"deff('y=f1(y)','y = 1-cos(y)')\n",
"y0=0.5;             // Initial value\n",
"e = 0.00001;        // Relative error tolerance\n",
"for i=1:4\n",
"    y1 = y0-f(y0)/f1(y0)\n",
"    e1 = abs(y0-y1)\n",
"    y0 = y1;\n",
"    if abs(y0)<e then\n",
"        break;\n",
"    end\n",
"end\n",
"y = y1;                                         // The solution of transcendental equation\n",
"// Calculation\n",
"x = (y*H)/(2*%pi);\n",
"// Result\n",
"printf('\n The length of control rod to be inserted = %2.1f cm \n',x);"
   ]
   }
,
{
		   "cell_type": "markdown",
		   "metadata": {},
		   "source": [
			"## Example 7.12: Chemical_Shim.sce"
		   ]
		  },
  {
"cell_type": "code",
	   "execution_count": null,
	   "metadata": {
	    "collapsed": true
	   },
	   "outputs": [],
"source": [
"// Example 7.12\n",
"clear all;\n",
"clc;\n",
"\n",
"// Given data\n",
"f0 = 0.93;                                // Thermal utilization factor \n",
"rho = 0.205;                              // Total excess reactivity \n",
"rho_w = 0.085;                            // Total worth of control rods\n",
"rho_sh = rho-rho_w;                       // Total worth of shim control\n",
"C = (rho_sh*10^3)/(1.92*(1-f0));          // Concentration of boric acid in ppm\n",
"printf('\n The minimum concentration of boric acid = %d ppm \n',ceil(C));\n",
"// Expressing in gram/litre\n",
"// Using the data from standard periodic table\n",
"molwt_B = 10.8;                           // Molecular weight of Boron(B)\n",
"molwt_O = 16;                             // Molecular weight of Oxygen(O)\n",
"molwt_H = 1;                             // Molecular weight of Hydrogen(H)\n",
"molwt_H3BO3 = (3*molwt_H)+molwt_B+(3*molwt_O);          // Molecular weight of Boric acid\n",
"// Calculation\n",
"amt_H3BO3 = (molwt_H3BO3/molwt_B)*C/1000;\n",
"// Result\n",
"printf('\n The shim system must contain %3.2f g/litre of boric acid to hold down the reactor. \n',amt_H3BO3);\n",
""
   ]
   }
,
{
		   "cell_type": "markdown",
		   "metadata": {},
		   "source": [
			"## Example 7.13: Temperature_coefficient_of_reactivity.sce"
		   ]
		  },
  {
"cell_type": "code",
	   "execution_count": null,
	   "metadata": {
	    "collapsed": true
	   },
	   "outputs": [],
"source": [
"// Example 7.13\n",
"clear all;\n",
"clc;\n",
"\n",
"// Given data\n",
"p = 0.878;                                // Resonance escape probability\n",
"T = 273+350;                              // Given temeprature converted in Kelvin\n",
"d = 2.8;                                  // Diameter of rod in cm\n",
"a = d/2;                                  // Radius of rod in cm\n",
"rho = 19.1;                               // Density of uranium in g/cm^3\n",
"// Using data from Table 7.4 for Uranium-238\n",
"A = 48*10^(-4);                           // Constant value\n",
"C = 1.28*10^(-2);                         // Constant value\n",
"beta_I = A+C/(a*rho);                     // A parameter\n",
"\n",
"// Calculation\n",
"alpha_prompt = -(beta_I/(2*sqrt(T)))*log(1/p);\n",
"// Result\n",
"printf('\n The prompt temperature coefficient = %.2E per K \n',alpha_prompt);\n",
""
   ]
   }
,
{
		   "cell_type": "markdown",
		   "metadata": {},
		   "source": [
			"## Example 7.14: Fission_product_poisons.sce"
		   ]
		  },
  {
"cell_type": "code",
	   "execution_count": null,
	   "metadata": {
	    "collapsed": true
	   },
	   "outputs": [],
"source": [
"// Example 7.14\n",
"clear all;\n",
"clc;\n",
"// Assuming that the fission product poisoning results in 12 barns per original Uranium-235 atom in a time frame of one year\n",
"sigma_p = 12;                             // Microscopic poison cross section in barns\n",
"v = 2.42;                                 // Average number of neutrons produced in fission\n",
"// Using Table II.2 for fission cross section of Uranium-235 at thermal energy\n",
"sigma_f = 587;                           // Microscopic fission cross section in barns\n",
"// Calculation\n",
"rho = -sigma_p/(v*sigma_f);\n",
"// Result\n",
"printf(' \n The reactivity due to poisons = %.5f or %.3f percent \n',rho,rho*100);"
   ]
   }
,
{
		   "cell_type": "markdown",
		   "metadata": {},
		   "source": [
			"## Example 7.1: Reactor_kinetics.sce"
		   ]
		  },
  {
"cell_type": "code",
	   "execution_count": null,
	   "metadata": {
	    "collapsed": true
	   },
	   "outputs": [],
"source": [
"// Example 7.1\n",
"clear all;\n",
"clc;\n",
"\n",
"// Using the data form Table 6.3 at temperature = 20 deg \n",
"n_T = 2.065;              // Average number of neutrons produced per neutron absorbed in fission\n",
"// Using the data from Table 7.1\n",
"t_dM = 2.1e-4;            // The mean diffusion time of the moderator in seconds\n",
"k_inf = 1;                // The reactor is critical\n",
"f = k_inf/n_T;            // Thermal utilization factor\n",
"// Calculation\n",
"t_d = t_dM*(1-f);\n",
"l_p = t_d;\n",
"// Result\n",
"printf(' \n The prompt neutron lifetime = %3.2E seconds \n',l_p);"
   ]
   }
,
{
		   "cell_type": "markdown",
		   "metadata": {},
		   "source": [
			"## Example 7.2: Reactor_period.sce"
		   ]
		  },
  {
"cell_type": "code",
	   "execution_count": null,
	   "metadata": {
	    "collapsed": true
	   },
	   "outputs": [],
"source": [
"// Example 7.2\n",
"clear all;\n",
"clc;\n",
"\n",
"// Given data\n",
"k_inf = 1.001;                      // Infinite multiplication factor\n",
"// From the Example 7.1\n",
"l_p = 1e-4;                         // Prompt neutron lifetime\n",
"// Calculation\n",
"T = l_p/(k_inf-1);\n",
"// Result\n",
"printf(' \n The response time of the reactor = %2.1f sec \n',T);\n",
"printf(' \n The reactor power will increase as exp(t/%2.1f), where ''t'' denotes the time in seconds \n',T);"
   ]
   }
,
{
		   "cell_type": "markdown",
		   "metadata": {},
		   "source": [
			"## Example 7.3: Reactivity.sce"
		   ]
		  },
  {
"cell_type": "code",
	   "execution_count": null,
	   "metadata": {
	    "collapsed": true
	   },
	   "outputs": [],
"source": [
"// Example 7.3\n",
"clear all;\n",
"clc;\n",
"\n",
"// Given data\n",
"k_inf = 1.001;                      // Infinite multiplication factor\n",
"// Calculation\n",
"rho = (k_inf-1)/k_inf;\n",
"// Result\n",
"printf(' \n The reactivity = %.1E or %2.1f percent \n',rho,rho*100);"
   ]
   }
,
{
		   "cell_type": "markdown",
		   "metadata": {},
		   "source": [
			"## Example 7.4: Reactor_period.sce"
		   ]
		  },
  {
"cell_type": "code",
	   "execution_count": null,
	   "metadata": {
	    "collapsed": true
	   },
	   "outputs": [],
"source": [
"// Example 7.4\n",
"clear all;\n",
"clc;\n",
"\n",
"// Using the result of Example 7.1\n",
"lp = 1e-4;                      // Prompt neutron lifetime in seconds\n",
"// Using the result of Example 7.3\n",
"rho = 1e-3;                     // Reactivity\n",
"// By referring to Figure 7.2\n",
"printf(' \n Reactor period = 57 seconds \n');"
   ]
   }
,
{
		   "cell_type": "markdown",
		   "metadata": {},
		   "source": [
			"## Example 7.5: Reactivity.sce"
		   ]
		  },
  {
"cell_type": "code",
	   "execution_count": null,
	   "metadata": {
	    "collapsed": true
	   },
	   "outputs": [],
"source": [
"// Example 7.5\n",
"clear all;\n",
"clc;\n",
"\n",
"// Using the result of Example 7.3\n",
"reactivity = 0.001;\n",
"// As the reactor is fueled with Uranium-235 \n",
"bet = 0.0065;                  // Total delayed neutron fraction of all groups denoted by 'beta'\n",
"printf(' \n A dollar is worth 0.0065 in reactivity for Uranium-235 reactor. \n');\n",
"// Calculation\n",
"rho = reactivity/bet;\n",
"// Result\n",
"printf(' \n Reactivity = %4.3f dollars or %2.1f cents \n',rho,rho*100);"
   ]
   }
,
{
		   "cell_type": "markdown",
		   "metadata": {},
		   "source": [
			"## Example 7.6: Prompt_drop.sce"
		   ]
		  },
  {
"cell_type": "code",
	   "execution_count": null,
	   "metadata": {
	    "collapsed": true
	   },
	   "outputs": [],
"source": [
"// Example 7.6\n",
"clear all;\n",
"clc;\n",
"\n",
"// Given data\n",
"P0 = 500;                           // Reactor power in MW\n",
"rho = -0.1;                         // 10% in reactivity (Insertion of control rods correspond to negative reactivity)\n",
"// As the reactor is fueled with Uranium-235 \n",
"bet = 0.0065;                       // Total delayed neutron fraction of all groups denoted by 'beta'\n",
"\n",
"P1 = (bet*(1-rho)*P0)/(bet-rho);    // The drop in power level in terms of MW\n",
"// Assuming that negative reactivity is greater than 4%\n",
"T = 80;                             // Reactor period obtained from Figure 7.2 in seconds\n",
"t = 600;                            // Analysis time in seconds \n",
"// Calculation\n",
"P = P1*exp(-t/T);                   // Power level drop in MW\n",
"// Result\n",
"printf(' \n The power level drop after 10 minutes = %5.4f MW \n',P);"
   ]
   }
,
{
		   "cell_type": "markdown",
		   "metadata": {},
		   "source": [
			"## Example 7.7: Control_worth_of_a_center_rod.sce"
		   ]
		  },
  {
"cell_type": "code",
	   "execution_count": null,
	   "metadata": {
	    "collapsed": true
	   },
	   "outputs": [],
"source": [
"// Example 7.7\n",
"clear all;\n",
"clc;\n",
"\n",
"// Given data\n",
"H = 70;                                       // Height of the cylinder in cm\n",
"R = H/2;                                      // Diameter of the cylinder in cm\n",
"a = 1.9;                                      // Radius of black control rod in cm\n",
"// From Table 6.2, Buckling can be found by\n",
"B0 = sqrt((2.405/R)^2+(%pi/H)^2);\n",
"// Using the data from Table 5.2 and 5.3\n",
"L_TM2 = 8.1;                                  // Diffusion area of water moderator in cm^2\n",
"t_TM = 27;                                    // Neutron age of water moderator in cm^2\n",
"// Using the data form Table 6.3 at temperature = 20 deg \n",
"n_T = 2.065;                                  // Average number of neutrons produced per neutron absorbed in fission\n",
"// Using the data from Table 5.2 and Table II.3\n",
"D_bar = 0.16;                                 // Thermal neutron diffusion coefficient in cm\n",
"SIGMA_t = 3.443;                              // Total macroscopic cross section in cm^(-1)\n",
"f = (1+B0^2*(L_TM2+t_TM))/(n_T+B0^2*L_TM2);   // Thermal utilization factor\n",
"M_T2 = (1-f)*L_TM2+t_TM;                      // Thermal migration area in cm^2\n",
"d = 2.131*D_bar*(a*SIGMA_t+0.9354)/(a*SIGMA_t+0.5098);  // Extrapolation distance\n",
"// Calculation\n",
"rho_w = (7.43*M_T2*(0.116+log(R/(2.405*a))+(d/a))^(-1))/((1+B0^2*M_T2)*R^2);\n",
"// Result\n",
"printf(' \n The worth of a black control rod = %.3f or %2.1f percent \n',rho_w,rho_w*100);"
   ]
   }
,
{
		   "cell_type": "markdown",
		   "metadata": {},
		   "source": [
			"## Example 7.8: Total_control_rod_worth.sce"
		   ]
		  },
  {
"cell_type": "code",
	   "execution_count": null,
	   "metadata": {
	    "collapsed": true
	   },
	   "outputs": [],
"source": [
"// Example 7.8\n",
"clear all;\n",
"clc;\n",
"\n",
"// Using the data and result from Example 7.7\n",
"f = 0.583;                                 // Thermal Utilization factor \n",
"L_TM2 = 8.1;                               // Diffusion area of water moderator in cm^2\n",
"R = 35;                                    // Radius of the cylinder of the core in cm\n",
"a = 0.508;                                 // Radius of control rod in cm\n",
"Rc = sqrt(R^2/100);                        // Critical radius in cm\n",
"L_T = sqrt((1-f)*L_TM2);                   // Thermal diffusion length in cm\n",
"// The points of estimation are chosen as follows\n",
"y = a/L_T;\n",
"z = Rc/L_T;\n",
"// Using the data given in Table V.I for modified Bessel functions\n",
"I0_275 = 1.019;                           // I0 at 0.275\n",
"I1_275 = 0.1389;                          // I1 at 0.275\n",
"I1_189 = 1.435;                           // I1 at 1.89\n",
"K0_275 = 1.453;                           // K0 at 0.275\n",
"K1_275 = 3.371;                           // K1 at 0.275\n",
"K1_189 = 0.1618;                          // K1 at 1.89\n",
"E = ((z^2-y^2)/(2*y))*(((I0_275*K1_189)+(K0_275*I1_189))/((I1_189*K1_275)-(K1_189*I1_275)));                                  // The lattice function\n",
"// Using the data from Table 5.2 and Table II.3\n",
"D_bar = 0.16;                             // Thermal neutron diffusion coefficient in cm\n",
"SIGMA_t = 3.443;                          // Total macroscopic cross section in cm^(-1)\n",
"d = 2.131*D_bar*(a*SIGMA_t+0.9354)/(a*SIGMA_t+0.5098);  // Extrapolation distance\n",
"f_R = 1/((((z^2-y^2)*d)/(2*a))+E);          // Rod utilization parameter\n",
"// Calculation\n",
"rho_w = f_R/(1-f_R);\n",
"// Result\n",
"printf(' \n The total worth of the control rods = %.3f or %2.1f percent \n',rho_w,rho_w*100);\n",
"// There is a deviation in the value computed on comparison with the value given in the textbook. This is due to approximation of thermal diffusion area in the textbook.\n",
"\n",
"\n",
""
   ]
   }
,
{
		   "cell_type": "markdown",
		   "metadata": {},
		   "source": [
			"## Example 7.9: Total_control_rod_worth.sce"
		   ]
		  },
  {
"cell_type": "code",
	   "execution_count": null,
	   "metadata": {
	    "collapsed": true
	   },
	   "outputs": [],
"source": [
"// Example 7.9\n",
"clear all;\n",
"clc;\n",
"\n",
"// Given data\n",
"SIGMAa_bar = 0.2;                              // Average macroscopic absorption cross section in cm^(-1)\n",
"L_T = 1.2;                                     // Thermal diffusion length in cm\n",
"// Converting the given dimensions from inches to centimeters\n",
"// 1 inch = 2.54 cm\n",
"// From Figure 7.9\n",
"l = 9.75*(2.54/2);                            // Length of the half rod\n",
"a = 0.312*(2.54/2);                           // Thickness of the half rod\n",
"m = 44.5/sqrt(2);                             // Closest distance between two rods\n",
"\n",
"D_bar = SIGMAa_bar*L_T^2;                      // Thermal neutron diffusion coefficient in cm\n",
"d = 2.131*D_bar;                               // Extrapolation distance in cm which is obtained for bare planar surface\n",
"f_R = ((4*(l-a)*L_T)/(m-(2*a))^2*(1/((d/L_T)+coth((m-(2*a))/(2*L_T)))));    // Rod utilization parameter\n",
"// Calculation\n",
"rho_w = f_R/(1-f_R);\n",
"// Result\n",
"printf(' \n The total worth of the control rods = %.3f or %.1f percent \n',rho_w,rho_w*100);\n",
"// There is a slight deviation in the value computed on comparison with the value given in the textbook. This is due to approximation of rod utilization parameter in the textbook."
   ]
   }
],
"metadata": {
		  "kernelspec": {
		   "display_name": "Scilab",
		   "language": "scilab",
		   "name": "scilab"
		  },
		  "language_info": {
		   "file_extension": ".sce",
		   "help_links": [
			{
			 "text": "MetaKernel Magics",
			 "url": "https://github.com/calysto/metakernel/blob/master/metakernel/magics/README.md"
			}
		   ],
		   "mimetype": "text/x-octave",
		   "name": "scilab",
		   "version": "0.7.1"
		  }
		 },
		 "nbformat": 4,
		 "nbformat_minor": 0
}
