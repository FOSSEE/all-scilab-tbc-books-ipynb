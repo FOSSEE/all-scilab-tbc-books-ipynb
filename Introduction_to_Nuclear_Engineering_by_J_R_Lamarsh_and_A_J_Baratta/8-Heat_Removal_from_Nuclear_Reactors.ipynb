{
"cells": [
 {
		   "cell_type": "markdown",
	   "metadata": {},
	   "source": [
       "# Chapter 8: Heat Removal from Nuclear Reactors"
	   ]
	},
{
		   "cell_type": "markdown",
		   "metadata": {},
		   "source": [
			"## Example 8.10: Boiling_crisis.sce"
		   ]
		  },
  {
"cell_type": "code",
	   "execution_count": null,
	   "metadata": {
	    "collapsed": true
	   },
	   "outputs": [],
"source": [
"// Example 8.10\n",
"clear all;\n",
"clc;\n",
"\n",
"// Using the data from Example 8.3 to 8.8\n",
"P = 2000;                                 // Pressure in psi\n",
"v = 15.6;                                 // Coolant velocity in ft/sec\n",
"D_e = 0.0427;                             // Equivalent diameter in ft\n",
"d = 0.42;                                 // Diameter of the fuel rod in inches\n",
"b = 0.024;                                // Thickness of Zircaloy-4 clad in inches\n",
"a = (d/2)+b;                              // Radius of fuel rods in inches \n",
"T_b = 600;                                // Bulk temeperature in F \n",
"\n",
"// 1.\n",
"// Using Bernath correlation\n",
"// Calculation\n",
"T_wc = 102.6*log(P)-((97.2*P)/(P+15))-(0.45*v)+32;\n",
"// Result\n",
"printf(' \n Cladding temeperature = %d F\n',T_wc);\n",
"\n",
"// 2.\n",
"D_i = (2*%pi*a)/(%pi*12);                  // Heated perimeter is (2*%pi*a)/12 in feet \n",
"// Calculation\n",
"h_c = 10890*((D_e)/(D_e+D_i))+((48*v)/D_e^0.6);\n",
"// Result\n",
"printf(' \n Heat transfer coefficient = %d Btu/hr-ft^2-F\n',h_c);\n",
"\n",
"// 3.\n",
"// Calculation\n",
"q_c = h_c*(T_wc-T_b);\n",
"// Result\n",
"printf(' \n Critical heat flux = %.2E Btu/hr-ft^2\n',q_c);\n",
"// In the textbook, the unit of critical heat flux is wrong.\n",
""
   ]
   }
,
{
		   "cell_type": "markdown",
		   "metadata": {},
		   "source": [
			"## Example 8.11: Engineering_sub_factor.sce"
		   ]
		  },
  {
"cell_type": "code",
	   "execution_count": null,
	   "metadata": {
	    "collapsed": true
	   },
	   "outputs": [],
"source": [
"// Example 8.11\n",
"clear all;\n",
"clc;\n",
"\n",
"// Given data\n",
"m_lbar = 0.457;                        // Average linear density of UO2 in lb/ft\n",
"sigma = 0.0122;                        // Standard deviation of set of measured linear densities of UO2\n",
"// Calculation\n",
"F_Eml = 1+(3*sigma)/m_lbar;\n",
"printf(' \n Engineering subfactor for the amount of fissile material = %.2f \n',F_Eml);\n",
""
   ]
   }
,
{
		   "cell_type": "markdown",
		   "metadata": {},
		   "source": [
			"## Example 8.12: Fuel_rod_calculatio.sce"
		   ]
		  },
  {
"cell_type": "code",
	   "execution_count": null,
	   "metadata": {
	    "collapsed": true
	   },
	   "outputs": [],
"source": [
"// Example 8.12\n",
"clear all;\n",
"clc;\n",
"\n",
"q_max = 539000;                               // Maximum heat flux  Btu/hr-ft^2\n",
"F = 2.8;                                      // Hot channel factor\n",
"P = 3000;                                     // Reactor thermal power in MW\n",
"// Expressing in Btu/hr\n",
"// According to Table 1.9, 1 kW = 3412 Btu/hr\n",
"P = P*3.412*10^6;                             // Reactor thermal power in Btu/hr\n",
"l = 12;                                       // Length of fuel rod in ft\n",
"d = 0.5/12;                                   // Diameter of fuel rod in ft\n",
"r = d/2;                                      // Radius of fuel rod in ft\n",
"\n",
"// 1.\n",
"q_av = q_max/F;\n",
"// Calculation\n",
"A = P/q_av;\n",
"// Result\n",
"printf(' \n Total heat transfer area = %d ft^2\n',A);\n",
"\n",
"// 2.\n",
"A_one = 2*%pi*r;                              // The total surface area of one fuel rod\n",
"// Calculation \n",
"n = A/A_one;\n",
"// Result\n",
"printf(' \n Number of fuel rods = %d \n',n); \n",
"// The value is different as compared to the textbook value. This is due to approximation of total heat transfer area in the textbook and in this problem actual value is considered. As total heat transfer area is further used to calculate number of fuel rods, therefore the difference in value exists."
   ]
   }
,
{
		   "cell_type": "markdown",
		   "metadata": {},
		   "source": [
			"## Example 8.1: Coolant_temperature.sce"
		   ]
		  },
  {
"cell_type": "code",
	   "execution_count": null,
	   "metadata": {
	    "collapsed": true
	   },
	   "outputs": [],
"source": [
"// Example 8.1\n",
"clear all;\n",
"clc;\n",
"// Given data\n",
"P = 3025;                                 // Reactor thermal power in MW\n",
"w = 136.3*10^6;                           // Coolant flow rate in lb/hr\n",
"// According to Table 1.9\n",
"// 1 kW = 3412 Btu/hr\n",
"q = P*1000*3412;                         // Converting into Btu/hr\n",
"delh = q/w;                              // Rise in enthalpy\n",
"// Using the data from Table IV.1 for temperature 542.6 F\n",
"hin = 539.7;                              // Enthalpy of input water in Btu/lb\n",
"// Calculation\n",
"hout = hin+delh;                          // Enthalpy of released water in Btu/lb\n",
"// From Table IV.1 \n",
"// Result\n",
"printf(' \n %3.1f Btu/lb corresponds to 599 F coolant water temperature. \n',hout);"
   ]
   }
,
{
		   "cell_type": "markdown",
		   "metadata": {},
		   "source": [
			"## Example 8.2: Steam_temperature.sce"
		   ]
		  },
  {
"cell_type": "code",
	   "execution_count": null,
	   "metadata": {
	    "collapsed": true
	   },
	   "outputs": [],
"source": [
"// Example 8.2\n",
"clear all;\n",
"clc;\n",
"// Given data\n",
"P = 6.895;                                // Pressure of steam in MPa\n",
"w = 2.93*10^6;                            // Steam flow rate in kg/hr\n",
"Tin = 190.6+273;                          // Inlet temperature in Kelvin\n",
"// 1.\n",
"// Using the data from Table IV.2 \n",
"// Result\n",
"printf(' \n At a pressure of 6.895 MPa the steam temeperature is 284.86 C \n');\n",
"// 2. \n",
"// Using the data from Table IV.2 \n",
"hout = 2773.2;                            // Enthalpy of spent steam in kJ/kg\n",
"// Using the data from Table IV.1 \n",
"hin = 807.8;                              // Enthalpy of inlet steam at Tin in kJ/kg\n",
"// Calculation\n",
"q = w*(hout-hin);\n",
"// Result\n",
"printf(' \n Reactor power is %.3E J/hr or %d MW \n',q,q/(3600*1000));"
   ]
   }
,
{
		   "cell_type": "markdown",
		   "metadata": {},
		   "source": [
			"## Example 8.3: Heat_production_in_fuel_rods.sce"
		   ]
		  },
  {
"cell_type": "code",
	   "execution_count": null,
	   "metadata": {
	    "collapsed": true
	   },
	   "outputs": [],
"source": [
"// Example 8.3\n",
"clear all;\n",
"clc;\n",
"\n",
"// Given data\n",
"n = 193*204;                              // Total number of fuel rods in the reactor\n",
"// 1 feet  = 12 inches\n",
"R = 67/12;                                // Outer radius of the cylinder in feet(ft)\n",
"H = 144/12;                               // Outer radius of the cylinder in ft\n",
"d = 0.42/12;                              // Diameter of the fuel rod in ft\n",
"a = d/2;                                  // Radius of the fuel rod in ft\n",
"P = 1893;                                 // Reactor thermal power in MW\n",
"Ed = 180;                                 // Energy deposited locally in the fuel per fission in MW(Assumption)\n",
"ER = 200;                                 // Recoverable energy per fission in MW(Assumption)\n",
"\n",
"// 1.\n",
"// Calculation\n",
"// According to Table 1.9\n",
"// 1 kW=3412 Btu/hr\n",
"q_r = (2.32*P*Ed)/(n*ER);\n",
"q_max=(q_r*3412*1000)/(2*H*a^2);\n",
"// Result\n",
"printf(' \n Total energy production at the axis = %.2E Btu/hr',(q_r*3412*1000));\n",
"printf(' \n Maximum energy production at the axis = %.2E Btu/hr-ft^3 \n',q_max);\n",
"\n",
"// 2.\n",
"r = 20/12;                                   // Distance from the axis in ft\n",
"j0 = besselj(0,((2.405*r)/R));              // Bessel function\n",
"// Calculation\n",
"// According to Table 1.9\n",
"// 1 kW=3412 Btu/hr\n",
"q_r20 = q_r*j0;\n",
"q_max20 = (q_r20*3412*1000)/(2*H*a^2);\n",
"// Result\n",
"printf(' \n Total energy production at a distance of 20 inches = %.2E Btu/hr',(q_r20*3412*1000));\n",
"printf(' \n Maximum energy production at a distance of 20 inches = %.2E Btu/hr-ft^3 \n',q_max20);"
   ]
   }
,
{
		   "cell_type": "markdown",
		   "metadata": {},
		   "source": [
			"## Example 8.4: Decay_energy.sce"
		   ]
		  },
  {
"cell_type": "code",
	   "execution_count": null,
	   "metadata": {
	    "collapsed": true
	   },
	   "outputs": [],
"source": [
"// Example 8.4\n",
"clear all;\n",
"clc;\n",
"// Given data\n",
"P0 = 825;                                     // Reactor thermal power in MW\n",
"t0 = 1.5*3.16*10^7;                           // Reactor operation time in seconds\n",
"ts = 0.1;                                     // Reactor shutdown time in seconds\n",
"// 1.\n",
"// Let P/P0 = q\n",
"// From Figure 8.3\n",
"q_ts = 0.07;                                  // Fission product to decay power during shutdown time\n",
"q_t0 = 0.0007;                                // Fission product to decay power after operating time\n",
"q = q_ts-q_t0;                                // Net fission product to decay power\n",
"// Calculation\n",
"P = q*P0;\n",
"// Result\n",
"printf(' \n Decay energy at shutdown = %2.1f MW',P);\n",
"// One hour after shutdown \n",
"ts1 = 3.6*10^3;                                // Reactor shutdown time in seconds\n",
"// Let P/P0=q\n",
"// From Figure 8.3\n",
"q_ts1 = 0.014;                                 // Fission product to decay power at shutdown time\n",
"q_t0 = 0.0007;                                // Fission product to decay power after operating time\n",
"q1 = q_ts1-q_t0;\n",
"// Calculation\n",
"P1 = q1*P0;\n",
"// Result\n",
"printf(' \n Decay energy one hour after shutdown = %2.1f MW',P1);\n",
"// One year after shutdown\n",
"ts2 = 3.16*10^7;                               // Reactor shutdown time in seconds\n",
"// Let P/P0=q\n",
"// From Figure 8.3\n",
"q_ts2 = 0.00079;                               // Fission product to decay power at shutdown time\n",
"// Now the operating time is t0+ts2 which can be denoted by t01\n",
"q_t01 = 0.00063;                               // Fission product to decay power after operating time\n",
"q2 = q_ts2-q_t01;\n",
"// Calculation \n",
"P2 = q2*P0;\n",
"// Result\n",
"printf(' \n Decay energy one year after shutdown = %.3f MW \n',P2);\n",
"// 2.\n",
"C = 0.88;                                     // Conversion factor \n",
"// Using data from Table II.2\n",
"sigma_a25 = 681;                              // Microscopic absorption cross section in barns\n",
"sigma_f25 = 582;                              // Microscopic fission cross section in barns\n",
"// At shutdown time\n",
"P_29 = (2.28*10^(-3)*C*(sigma_a25/sigma_f25))*P0;\n",
"P_39 = (2.17*10^(-3)*C*(sigma_a25/sigma_f25))*P0;\n",
"printf(' \n Decay energy at shutdown with effect of Uranium-239 and Neptunium-239 decay = %2.2f MW and %2.2f MW respectively',P_29,P_39);\n",
"// One hour after shutdown \n",
"ts1 = 3600;                                   // TIme in seconds\n",
"P_291 = P_29*exp(-4.9*10^(-4)*ts1);\n",
"P_391 = P_39*(exp(-3.41*10^(-6)*ts1)-(7*10^(-3)*exp(-4.9*10^(-4)*ts1)));\n",
"printf(' \n Decay energy one hour after shutdown with effect of Uranium-239 and Neptunium-239 decay = %2.2f MW and %2.2f MW respectively',P_291,P_391);\n",
"// One year after shutdown  \n",
"P_292 = 0;                                    // Half life of Uranium-239 is 23.5 minutes\n",
"P_392 = 0;                                    // Half life of Neptunium-239 is 2.35 days\n",
"printf(' \n Decay energy one year after shutdown with effect of Uranium-239 and Neptunium-239 decay = %d MW and %d MW respectively',P_292,P_392);\n",
"// There is a slight deviation in the values as compared with the texbook. This is because of approximation of difference values in the textbook."
   ]
   }
,
{
		   "cell_type": "markdown",
		   "metadata": {},
		   "source": [
			"## Example 8.5: Fuel_rod_temperature_parameters.sce"
		   ]
		  },
  {
"cell_type": "code",
	   "execution_count": null,
	   "metadata": {
	    "collapsed": true
	   },
	   "outputs": [],
"source": [
"// Example 8.5\n",
"clear all;\n",
"clc;\n",
"// Given data\n",
"// 1 feet  = 12 inches\n",
"d = 0.42/12;                              // Diameter of the fuel rod in feet(ft)\n",
"a = d/2;                                  // Radius of the fuel rod in ft\n",
"b = 0.024/12;                             // Thickness of Zircaloy-4 clad in ft\n",
"H = 12;                                   // Length of fuel rod in ft\n",
"T_m = 3970;                               // Center temperature of fuel in F\n",
"// 1.\n",
"// Using the result of Example 8.3\n",
"q_max = 4.66*10^7;                        // Maximum heat flux at the center of the rod in Btu/hr-ft^3\n",
"// Calculation\n",
"q_bar = (a^2*q_max)/(2*(a+b));\n",
"// According to Table 1.9\n",
"// 1 kW=3412 Btu/hr\n",
"// Result\n",
"printf(' \n Heat flux of the fuel rod = %.2E Btu/hr-ft^2 or %3.1f W/cm^2 \n',q_bar,(q_bar*1000)/(3412*30.48^2));\n",
"// 2.\n",
"// Using the data from Table IV.6\n",
"k_f = 1.1;                                // Thermal conductivity of fuel rod in Btu/hr-ft-F\n",
"k_c = 10;                                 // Thermal conductivity of cladding in Btu/hr-ft-F\n",
"R_f = 1/(4*%pi*H*k_f);                    // Thermal resistance of fuel in F-hour/Btu\n",
"R_c = log(1+(b/a))/(2*%pi*H*k_c);         // Thermal resistance of cladding in F-hour/Btu\n",
"// Calculation\n",
"T_c = T_m-(q_bar*2*%pi*(a+b)*H*(R_f+R_c));\n",
"// Result\n",
"printf(' \n Outer temperature of cladding = %d F \n',ceil(T_c));"
   ]
   }
,
{
		   "cell_type": "markdown",
		   "metadata": {},
		   "source": [
			"## Example 8.6: Coolant_temperature.sce"
		   ]
		  },
  {
"cell_type": "code",
	   "execution_count": null,
	   "metadata": {
	    "collapsed": true
	   },
	   "outputs": [],
"source": [
"// Example 8.6\n",
"clear all;\n",
"clc;\n",
"// Given data\n",
"h = 7500;                                     // Heat transfer coefficient in Btu/hr-ft^2-F\n",
"// Using the result of Example 8.5 \n",
"q_bar = 3.66*10^5;                            // Heat flux of the fuel rod in Btu/hr-ft^2\n",
"T_c = 650;                                    // Outer temperature of cladding in F\n",
"// Calculation\n",
"T_b = T_c-(q_bar/h);\n",
"// Result\n",
"printf(' \n Temperature of water with respect to the midpoint of the hottest fuel rod = %d F \n',T_b);"
   ]
   }
,
{
		   "cell_type": "markdown",
		   "metadata": {},
		   "source": [
			"## Example 8.7: Fuel_rod_temperature_parameters_and_coolant_temperature.sce"
		   ]
		  },
  {
"cell_type": "code",
	   "execution_count": null,
	   "metadata": {
	    "collapsed": true
	   },
	   "outputs": [],
"source": [
"// Example 8.7\n",
"clear all;\n",
"clc;\n",
"// Given data\n",
"T_b0 = 543;                                // Temperature of inlet coolant in F\n",
"w = 3148;                                 // Coolant rate per channel in lb/hr\n",
"// 1. \n",
"V_f = 1.15*10^(-2);                       // Volume of fueled portion in ft^2\n",
"// Using the result of Example 8.3\n",
"q_max = 4.66*10^7;                        // Maximum heat flux at the center of the rod in Btu/hr-ft^3\n",
"// From Table IV.3\n",
"c_p = 1.3;                                // Specific heat at constant pressure in Btu/lb-F\n",
"// Calculation \n",
"T_bmax = T_b0+((2*q_max*V_f)/(%pi*w*c_p));\n",
"// Result\n",
"printf(' \n Exit temperature of the coolant = %d F \n',T_bmax);\n",
"// 2.\n",
"// Using the data of Example 8.6\n",
"h = 7500;                                 // Heat transfer coefficient in Btu/hr-ft^2-F\n",
"// Using the data of Example 8.5\n",
"d = 0.42/12;                              // Diameter of the fuel rod in feet(ft)\n",
"a = d/2;                                  // Radius of the fuel rod in ft\n",
"b = 0.024/12;                             // Thickness of Zircaloy-4 clad in ft\n",
"H = 12;                                   // Length of fuel rod in ft\n",
"A = 2*%pi*(a+b)*H;                        // Area of the assumed cylinder in ft^2\n",
"R_h = 1/(h*A);                            // Convective resistance in F-hour/Btu\n",
"alpha = %pi*w*c_p*R_h;                    // A parameter\n",
"// Using the result from Example 8.5 \n",
"R_f = 6.03*10^(-3);                       // Thermal resistance of fuel \n",
"R_c = 1.43*10^(-4);                       // Thermal resistance of cladding\n",
"R = R_f+R_c+R_h;                          // Total resistance\n",
"bet = %pi*w*c_p*R;                        // A parameter denoted by 'beta'\n",
"// Calculation\n",
"T_cmax = T_b0+((q_max*V_f*R_h)*((1+sqrt(1+alpha^2))/alpha));\n",
"T_mmax = T_b0+((q_max*V_f*R)*((1+sqrt(1+bet^2))/bet));\n",
"// Result\n",
"printf(' \n Maximum temperature of cladding and fuel = %d F and %d F respectively. \n',ceil(T_cmax),T_mmax);"
   ]
   }
,
{
		   "cell_type": "markdown",
		   "metadata": {},
		   "source": [
			"## Example 8.8: Reynolds_number.sce"
		   ]
		  },
  {
"cell_type": "code",
	   "execution_count": null,
	   "metadata": {
	    "collapsed": true
	   },
	   "outputs": [],
"source": [
"// Example 8.8\n",
"clear all;\n",
"clc;\n",
"// Given data\n",
"d = 0.42;                                 // Diameter of the fuel rod in inches\n",
"b = 0.024;                                // Thickness of Zircaloy-4 clad in inches\n",
"v = 15.6*3600;                            // Speed of fluid in feet/hour\n",
"a = (d/2)+b;                              // Radius of fuel rods in inches\n",
"P = 2000;                                 // Pressure of water in psi\n",
"T = 600;                                  // Water temperature in F\n",
"// Using the data from example 8.5 \n",
"s = 0.6;                                  // Pitch of square array in inches\n",
"D_e = 2*((s^2-(%pi*a^2))/(%pi*a));        // Equivalent diameter in inches\n",
"// Converting the units in terms of feet \n",
"D_e = D_e/12;\n",
"// Using tha Table IV.3 at given T and P value\n",
"rho = 42.9;                               // Density of fluid in ft/hr\n",
"mu = 0.212;                               // Viscosity of fluid in lb/hr-ft\n",
"// Calculation \n",
"Re = (D_e*v*rho)/mu;\n",
"// Result\n",
"printf(' \n Reylonds number = %d \n',Re);\n",
"if Re >= 10000 then\n",
"    printf(' \n As the reylonds number is greater than 10000, the flow is turbulent. \n');\n",
"end\n",
"// The value is different as compared to the textbook value. This is due to approximation of Reynolds number in the textbook."
   ]
   }
,
{
		   "cell_type": "markdown",
		   "metadata": {},
		   "source": [
			"## Example 8.9: Heat_transfer_coefficient.sce"
		   ]
		  },
  {
"cell_type": "code",
	   "execution_count": null,
	   "metadata": {
	    "collapsed": true
	   },
	   "outputs": [],
"source": [
"// Example 8.9\n",
"clear all;\n",
"clc;\n",
"\n",
"// Using the data from Example 8.8\n",
"s = 0.6;                                  // Pitch of square lattice in inches\n",
"d = 0.42;                                 // Diameter of the fuel rod in inches\n",
"b = 0.024;                                // Thickness of Zircaloy-4 clad in inches\n",
"a = (d/2)+b;                              // Radius of fuel rods in inches \n",
"D_e = 0.0427;                             // Equivalent diameter in feet\n",
"Re = 484329;                              // Reynolds number\n",
"PD = s/(2*a);                             // The ratio of pitch to diameter of fuel rod\n",
"// For a square lattice\n",
"C = 0.042*PD-0.024;                       // A constant\n",
"\n",
"// According to Table IV.3\n",
"c_p = 1.45;                               // Specific heat at constant pressure in Btu/lb-F\n",
"mu = 0.212;                               // Viscosity of fluid in lb/hr-ft\n",
"k = 0.296;                                // Conductivity of fluid in Btu/hr-ft F\n",
"Pr=(c_p*mu)/k;                          // Prandtl number\n",
"// The constants are assumed as\n",
"m = 0.8;  \n",
"n = 1/3;\n",
"// Calculation\n",
"h = C*(k/D_e)*(Re)^m*Pr^n;\n",
"// Result\n",
"printf(' \n Heat transfer coefficient = %d Btu/hr-ft^2-F\n',h);\n",
"// The value is different as compared to the textbook value. This is due to approximation of Reynolds number in the textbook and in this problem actual value is considered."
   ]
   }
],
"metadata": {
		  "kernelspec": {
		   "display_name": "Scilab",
		   "language": "scilab",
		   "name": "scilab"
		  },
		  "language_info": {
		   "file_extension": ".sce",
		   "help_links": [
			{
			 "text": "MetaKernel Magics",
			 "url": "https://github.com/calysto/metakernel/blob/master/metakernel/magics/README.md"
			}
		   ],
		   "mimetype": "text/x-octave",
		   "name": "scilab",
		   "version": "0.7.1"
		  }
		 },
		 "nbformat": 4,
		 "nbformat_minor": 0
}
