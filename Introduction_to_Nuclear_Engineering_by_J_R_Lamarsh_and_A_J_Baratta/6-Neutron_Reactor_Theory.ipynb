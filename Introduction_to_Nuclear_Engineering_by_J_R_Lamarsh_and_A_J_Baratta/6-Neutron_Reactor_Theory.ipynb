{
"cells": [
 {
		   "cell_type": "markdown",
	   "metadata": {},
	   "source": [
       "# Chapter 6: Neutron Reactor Theory"
	   ]
	},
{
		   "cell_type": "markdown",
		   "metadata": {},
		   "source": [
			"## Example 6.10: Critical_parameters_for_heterogenous_reactor.sce"
		   ]
		  },
  {
"cell_type": "code",
	   "execution_count": null,
	   "metadata": {
	    "collapsed": true
	   },
	   "outputs": [],
"source": [
"// Example 6.10\n",
"clear all;\n",
"clc;\n",
"\n",
"// Given data\n",
"N = 150;                    // Number of zirconium atoms for every uranium atom\n",
"\n",
"// 1.\n",
"// Using the data of atom density of zirconium from Table II.3\n",
"N_Z = 0.0429;                 // Atom density of zirconium in terms of 10^(24)\n",
"sigma_tZ = 6.6;               // Total cross section of zirconium in barns\n",
"// Using the data of cross section of uranium-235 from Table II.3\n",
"sigma_tU = 690;               // Total cross section of uranium in barns\n",
"N_25 = N_Z/N;                 // Atom concentration of uranium-235\n",
"// Calculation \n",
"lambda = 1/((sigma_tZ*N_Z)+(sigma_tU*N_25));\n",
"// Result\n",
"printf(' \n The mean free path of thermal neutrons = %3.1f cm \n',lambda);\n",
"\n",
"// 2.\n",
"// Using the data of atom density of water from Table II.3\n",
"N_W = 0.0334;                 // Atom density of water in terms of 10^(24)\n",
"// As the water and zirconium occupy half of the volume\n",
"N_W = 0.5*0.0334;\n",
"N_Z = 0.5*0.0429;\n",
"// From the Figure 6.6\n",
"// Uranium is present in one third of the sandwich or \n one sixth of the entire area \n",
"N_25 = 2.86*10^(-4)/6;\n",
"// Using the data from Table 3.2\n",
"g_aF = 0.978;             // Non 1/v factor Uranium-235 fuel\n",
"// Using the data from Table II.3 for microscopic absorption cross section \n",
"sigma_aU = 681;           // Microscopic absorption cross section of Uranium-235 in barns\n",
"sigma_aZ = 0.185;         // Microscopic absorption cross section of Zirconium in barns\n",
"sigma_aW = 0.664;         // Microscopic absorption cross section of Water in barns\n",
"f = (N_25*g_aF*sigma_aU)/((N_25*g_aF*sigma_aU)+(N_Z*sigma_aZ)+(N_W*sigma_aW));      // Thermal utilization factor\n",
"// Using the data form Table 6.3 at temperature = 20 deg \n",
"n_T = 2.065;              // Average number of neutrons produced per neutron absorbed in fission\n",
"// Calculation\n",
"k_inf = n_T*f;\n",
"// Result\n",
"printf('\n Infinite multiplication factor = %4.3f \n',k_inf);\n",
"\n",
""
   ]
   }
,
{
		   "cell_type": "markdown",
		   "metadata": {},
		   "source": [
			"## Example 6.11: Critical_parameter_for_heterogenous_reactor.sce"
		   ]
		  },
  {
"cell_type": "code",
	   "execution_count": null,
	   "metadata": {
	    "collapsed": true
	   },
	   "outputs": [],
"source": [
"// Example 6.11\n",
"clear all;\n",
"clc;\n",
"\n",
"// Using the data from Table 3.2\n",
"g_a25=0.978;             // Non 1/v factor Uranium-235 fuel for absorption\n",
"g_f25=0.976;             // Non 1/v factor Uranium-235 fuel for fission\n",
"g_a28=1.0017;            // Non 1/v factor Uranium-238 fuel for absorption\n",
"\n",
"v_25=2.42;               // Average number of neutrons in one fission of Uranium-235\n",
"// Using the data from Table II.3 for microscopic absorption and fission cross section \n",
"sigma_a25=681;           // Microscopic absorption cross section of Uranium-235 in barns\n",
"sigma_a28=2.7;           // Microscopic absorption cross section of Uranium-238 in barns\n",
"sigma_f25=582;           // Microscopic fission cross section of Uranium-235 in barns\n",
"\n",
"// Using the data of atom density of uranium and let N_28/N_25= N\n",
"N = 138;\n",
"// Calculation\n",
"n_T = (v_25*sigma_f25*g_f25)/((sigma_a25*g_a25)+(N*sigma_a28*g_a28));\n",
"// Result\n",
"printf('\n Average number of neutrons produced per neutron absorbed in fission = %3.2f \n',n_T);\n",
""
   ]
   }
,
{
		   "cell_type": "markdown",
		   "metadata": {},
		   "source": [
			"## Example 6.12: Critical_parameter_for_heterogenous_reactor.sce"
		   ]
		  },
  {
"cell_type": "code",
	   "execution_count": null,
	   "metadata": {
	    "collapsed": true
	   },
	   "outputs": [],
"source": [
"// Example 6.12\n",
"clear all;\n",
"clc;\n",
"\n",
"// Given data\n",
"rdist = 25.4;                     // Distance between the rods in cm\n",
"a = 1.02;                         // Radius of a rod in cm\n",
"// From the Figure 6.9\n",
"b = rdist/sqrt(%pi);             // Radius of equivalent cell in cm\n",
"// Using the data from Table 5.2\n",
"L_F = 1.55;                      // Diffusion length of uranium fuel in cm\n",
"L_M = 59;                        // Diffusion length of graphite moderator in cm\n",
"// Using the data from Table II.3 at thermal energy\n",
"SIGMA_aM = 0.0002728;           // Macroscopic absorption cross section of graphite moderator in barns\n",
"SIGMA_aF = 0.3668;              // Macroscopic absorption cross section of uranium fuel in barns\n",
"// Let\n",
"x = a/L_F;\n",
"y = a/L_M;\n",
"z = b/L_M;\n",
"// The series expansion relations are\n",
"F = 1+(0.5*(x/2)^2)-((1/12)*(x/2)^4)+((1/48)*(x/2)^6);\n",
"E = 1+(z^2/2)*(((z^2*log(z/y))/(z^2-y^2))-(3/4)+(y^2/(4*z^2)));\n",
"// Let the ratio of volumes of moderator to fuel is denoted by V\n",
"V = (b^2-a^2)/a^2;\n",
"// Calculation\n",
"f = 1/((SIGMA_aM*V*F/SIGMA_aF)+E);\n",
"// Result\n",
"printf('\n The thermal utilization factor = %.4f \n',f);\n",
"// There is a slight variation in the value as compared from the textbook. This is due to approximation of the parameters value in textbook."
   ]
   }
,
{
		   "cell_type": "markdown",
		   "metadata": {},
		   "source": [
			"## Example 6.13: Critical_parameter_for_heterogenous_reactor.sce"
		   ]
		  },
  {
"cell_type": "code",
	   "execution_count": null,
	   "metadata": {
	    "collapsed": true
	   },
	   "outputs": [],
"source": [
"// Example 6.13\n",
"clear all;\n",
"clc;\n",
"\n",
"// Using the data given in the problem 6.12\n",
"rdist = 25.4;                         // Distance between the rods in cm\n",
"a = 1.02;                             // Radius of the rod in cm\n",
"b = rdist/sqrt(%pi);                  // Radius of equivalent cell\n",
"V = (b^2-a^2)/a^2;                    // Ratio of volumes of moderator to fuel \n",
"// Using the data from Table II.3 for Uranium-238 density and atom density \n",
"rho = 19.1;                           // Uranium-238 density in g/cm^3\n",
"N_F = 0.0483;                         // Atom density in terms of 10^(24)\n",
"// Using Table 6.5 for Uranium-238 \n",
"A = 2.8;\n",
"C = 38.3;\n",
"// Using Table 6.6 for graphite\n",
"// Let zeta_M*SIGMA_sM = s\n",
"s = 0.0608;\n",
"I = A+C/sqrt(a*rho);                  // Empirical expression of resonance integral parameter\n",
"// Calculation\n",
"p = exp(-(N_F*I)/(s*V));\n",
"// Result\n",
"printf('\n Resonance escape probability = %.4f \n',p);\n",
""
   ]
   }
,
{
		   "cell_type": "markdown",
		   "metadata": {},
		   "source": [
			"## Example 6.1: Critical_neutron_parameters.sce"
		   ]
		  },
  {
"cell_type": "code",
	   "execution_count": null,
	   "metadata": {
	    "collapsed": true
	   },
	   "outputs": [],
"source": [
"// Example 6.1\n",
"clear all;\n",
"clc;\n",
"\n",
"// Given data\n",
"M_F = 235;                  // Atomic mass of Uranium-235\n",
"M_S = 23;                   // Atomic mass of Sodium-23\n",
"rho_F_S = 1;                // Ratio of densities of Uranium fuel to Sodium\n",
"// Using the data given in Table 5.2,\n",
"sigmaa_S=0.0008;            // Absorption cross section of Sodium\n",
"sigmaa_F=1.65;              // Absorption cross section of Uranium\n",
"\n",
"rho_S_F = 100-rho_F_S;\n",
"N_S_F = rho_S_F*(M_F/M_S);    // Ratio of atomic densities of Uranium and Sodium\n",
"// Using the data in Table 6.1 for Uranium-235\n",
"// The value of average number of neutrons produced for a neutron absorbed n(eta) for Uranium-235 is 2.2\n",
"eta = 2.2;\n",
"\n",
"// Calculation \n",
"f = 1/(1+(N_S_F*(sigmaa_S/sigmaa_F)));\n",
"k_inf = eta*f;\n",
"// Result\n",
"printf('\n Thermal Utilization factor = %.3f \n',f);\n",
"printf('\n Infinite Multiplication factor = %3.2f \n',k_inf);"
   ]
   }
,
{
		   "cell_type": "markdown",
		   "metadata": {},
		   "source": [
			"## Example 6.2: Maximum_and_average_flux.sce"
		   ]
		  },
  {
"cell_type": "code",
	   "execution_count": null,
	   "metadata": {
	    "collapsed": true
	   },
	   "outputs": [],
"source": [
"// Example 6.2\n",
"clear all;\n",
"clc;\n",
"\n",
"// Given data\n",
"R = 50;                   // Radius of reactor core in cm\n",
"P = 100*10^6;             // Power level of the reactor in watt\n",
"SIGMA_f = 0.0047;         // Macroscopic fission cross section in cm^(-1)\n",
"E_R = 3.2*10^(-11);       // Energy released per fission in joules/second\n",
"// Using the data in Table 6.2 for spherical geometry\n",
"OMEGA = 3.29;             // Measure of the variation of flux in the reactor\n",
"// Calculation\n",
"phi_max = (%pi*P)/(4*E_R*SIGMA_f*R^3);\n",
"phi_av = phi_max/OMEGA;\n",
"// Result\n",
"printf('\n Maximum flux in the spherical reactor = %3.2E neutrons/cm^2-sec \n',phi_max);\n",
"printf('\n Average flux in the spherical reactor = %3.2E neutrons/cm^2-sec \n',phi_av);"
   ]
   }
,
{
		   "cell_type": "markdown",
		   "metadata": {},
		   "source": [
			"## Example 6.3: Critical_radius.sce"
		   ]
		  },
  {
"cell_type": "code",
	   "execution_count": null,
	   "metadata": {
	    "collapsed": true
	   },
	   "outputs": [],
"source": [
"// Example 6.3\n",
"clear all;\n",
"clc;\n",
"\n",
"// Given data\n",
"N_F = 0.00395*10^(24);                // Atom density of Plutonium-239 fuel in atom/cm^3\n",
"N_S = 0.0234*10^(24);                 // Atom density of Sodium-23 in atom/cm^3\n",
"// Using the data given in Table 6.1,\n",
"// 1 barn = 10^(-24) cm^2\n",
"sigmaa_S = 0.0008*10^(-24);           // Microscopic absorption cross section of Sodium in cm^2\n",
"sigmaa_F = 2.11*10^(-24);             // Microscopic absorption cross section of Plutonium in cm^2\n",
"sigmatr_F = 6.8*10^(-24);             // Microscopic transport cross section of Plutonium\n",
"sigmatr_S = 3.3*10^(-24);             // Microscopic transport cross section of Sodium\n",
"// The value of average number of neutrons produced for a neutron absorbed n(eta) for Plutonium-239 is 2.61\n",
"eta = 2.61;\n",
"\n",
"SIGMAA_S = sigmaa_S*N_S;             // Macroscopic absorption cross section of Sodium in cm^(-1)\n",
"SIGMAA_F = sigmaa_F*N_F;            // Macroscopic absorption cross section of Plutonium in cm^(-1)\n",
"SIGMAA = SIGMAA_S+SIGMAA_F;         // Total macroscopic absorption cross section in cm^(-1)\n",
"SIGMA_tr = (sigmatr_F*N_F)+(sigmatr_S*N_S); // Macroscopic transport cross section \n",
"f = SIGMAA_F/SIGMAA;                // Calculation of Thermal Utilization factor(f)\n",
"f = ceil(f);\n",
"k_inf = eta*f;                       // Calculation of Infinite Multiplication factor(k_inf)\n",
"\n",
"D = 1/(3*SIGMA_tr);                 // Calculation of Diffusion coefficient\n",
"L2 = D/SIGMAA;                      // Diffusion area\n",
"d = 2.13*D;                         // Extrapolated distance\n",
"R_ctil = %pi*sqrt(L2/(k_inf-1));    // Critical Radius for an extrapolated boundary\n",
"// Calculation\n",
"R_c = R_ctil-d;\n",
"// Result\n",
"printf('\n Critical Radius = %2.1f cm \n',R_c);\n",
"// The answer given in the textbook is wrong. "
   ]
   }
,
{
		   "cell_type": "markdown",
		   "metadata": {},
		   "source": [
			"## Example 6.4: Non_leakage_probability.sce"
		   ]
		  },
  {
"cell_type": "code",
	   "execution_count": null,
	   "metadata": {
	    "collapsed": true
	   },
	   "outputs": [],
"source": [
"// Example 6.4\n",
"clear all;\n",
"clc;\n",
"\n",
"// Using the result from Example 6.3\n",
"R_c = 48.5;                     // Critical Radius for an extrapolated boundary in cm\n",
"L2 = 384;                      // Diffusion area in cm^2\n",
"// Calculation\n",
"P_L = 1/(1+((%pi/R_c)^2*L2));\n",
"// Result\n",
"printf('\n Nonleakage probability of a fission neutron = %3.2f \n',P_L);"
   ]
   }
,
{
		   "cell_type": "markdown",
		   "metadata": {},
		   "source": [
			"## Example 6.5: Critical_parameter_calculations.sce"
		   ]
		  },
  {
"cell_type": "code",
	   "execution_count": null,
	   "metadata": {
	    "collapsed": true
	   },
	   "outputs": [],
"source": [
"// Example 6.5\n",
"clear all;\n",
"clc;\n",
"\n",
"// Given data\n",
"R = 100;                        // Radius of a spherical reactor in cm\n",
"P = 10^5;                      // Power of the reactor in watt\n",
"\n",
"// 1.\n",
"// Calculation\n",
"B = sqrt((%pi/R)^2);\n",
"// Result\n",
"printf(' \n Buckling = %3.2E \n',B);\n",
"\n",
"// 2.\n",
"// Using the data from Tables 3.2, 5.2, 5.3 and 6.3\n",
"L_TM2 = 3500;                  // Diffusion area of moderator (Sodium) in cm^2\n",
"n_T = 2.065;                   // Average number of fission neutrons emitted per neutron absorbed\n",
"t_TM = 368;                   // Diffusion time of moderator (Sodium) in cm^2\n",
"// 1 barn = 10^(-24) cm^2\n",
"sigma_aM = 0.0034*10^(-24);   // Microscopic absorption cross section of Sodium in cm^2\n",
"sigma_aF = 681*10^(-24);      // Microscopic absorption cross section of Uranium-235 in cm^2\n",
"g_a = 0.978;                  // Non 1/v factor\n",
"M_F = 235;                    // Molecular weight of Uranium-235\n",
"M_M = 12;                     // Molecular weight of Carbon-12\n",
"Z = (1+B^2*(L_TM2+t_TM))/(n_T-1-(B^2*t_TM)); // An intermediate factor \n",
"// Calculation \n",
"rho_M = 1.6;                  // Density of Graphite in g/cm^3\n",
"m_M = (4/3*%pi*R^3)*rho_M;    // Mass of moderator\n",
"// Calculation \n",
"m_F = ((Z*sigma_aM*M_F)/(g_a*sigma_aF*M_M))*m_M/1000;\n",
"// Result\n",
"printf('\n Critical mass = %2.1f kg \n',m_F);\n",
"\n",
"// 3.\n",
"f = Z/(Z+1);                    // Thermal utilization factor\n",
"// Calculation \n",
"k_inf = n_T*f;\n",
"// Result\n",
"printf('\n Infinite Multiplication factor (k_inf) = %.2f \n',k_inf);\n",
"\n",
"// 4.\n",
"// Calculation \n",
"L_T2 = (1-f)*L_TM2\n",
"// Result\n",
"printf('\n Thermal Diffusion area = %d cm^2 \n',L_T2);\n",
"\n",
"// 5.\n",
"E_R = 3.2*10^(-11);           // Energy per fission reaction in joules/second\n",
"N_A = 6.02*10^(23);           // Avogadro number (constant)\n",
"V = (4/3*%pi*R^3);            // Volume of the spherical reactor in cm^3\n",
"// Using the data from Tables 3.2\n",
"g_fF = 0.976;                 // Non 1/v factor Uranium-235 fuel\n",
"// Using the data from Tables II.2 for Uranium-235\n",
"sigma_f = 582*10^(-24);       // Microscopic fission cross section for Uranium-235 in cm^2\n",
"// Macroscopic fission cross section is calculated as follows\n",
"SIGMA_f = m_F*N_A*0.886*g_fF*sigma_f*1000/(V*M_F);\n",
"\n",
"// From Table 6.2, the constant A can be calculated as\n",
"A = P/(4*(R^2)*E_R*SIGMA_f);\n",
"\n",
"// The expression for thermal flux is\n",
"printf(' \n The expression for thermal flux = %4.3E sin (Br)/r \n',A);\n",
"// The maximum value of thermal flux is given at distance equal to zero\n",
"phi_T0 = A*B;\n",
"// Result\n",
"printf(' The maximum thermal flux = %4.3E neutrons/cm^2-sec \n',phi_T0);\n",
"// There is a slight variation in the values of diffusion area and constant A as compared from the textbook. This is due to approximation of values in textbook.\n",
""
   ]
   }
,
{
		   "cell_type": "markdown",
		   "metadata": {},
		   "source": [
			"## Example 6.6: Critical_mass.sce"
		   ]
		  },
  {
"cell_type": "code",
	   "execution_count": null,
	   "metadata": {
	    "collapsed": true
	   },
	   "outputs": [],
"source": [
"// Example 6.6\n",
"clear all;\n",
"clc;\n",
"\n",
"// Given data\n",
"rho_F = 0.0145;           // Density of Uranium-235 in the mixture in g/cm^3\n",
"rho_M = 1;                // Density of Water in the mixture in g/cm^3\n",
"M_M = 18;                 // Molecular weight of water\n",
"M_F = 235;                // Molecular weight of Uranium-235\n",
"\n",
"// 1.\n",
"// The ratio of number of atoms of Uranium-235 to water per cc is\n",
"NF_NM = (rho_F*M_M)/(rho_M*M_F);\n",
"// Using the data from Tables 3.2\n",
"g_aF = 0.978;             // Non 1/v factor of Uranium-235 fuel\n",
"g_aM = 2;                 // Non 1/v factor of Water\n",
"// Using the data from Table II.2 for Uranium-235\n",
"// 1 barn = 10^(-24) cm^2\n",
"sigma_aF = 681*10^(-24);  // Microscopic absorption cross section of Uranium-235 in cm^2\n",
"sigma_aM=0.333*10^(-24);  // Microscopic absorption cross section of Hydrogen in cm^2\n",
"// Using the data form Table 6.3 at temperature = 20 deg \n",
"n_T = 2.065;              // Average number of neutrons produced per neutron absorbed in fission\n",
"phisig_aF = 0.886*g_aF*sigma_aF;    // Average thermal absorption cross-section of fuel \n",
"phisig_aM = 0.886*g_aM*sigma_aM;    // Average thermal absorption cross-sections of moderator\n",
"Z = (NF_NM)*(phisig_aF/phisig_aM);  // Parameter Z\n",
"f = Z/(Z+1);                        // Thermal utilization factor of the fuel\n",
"k_inf = n_T*f;                      // Infinite multiplication factor \n",
"\n",
"// From Table 5.2 and 5.3\n",
"L_TM2 = 8.1;                    // Diffusion area in cm^2\n",
"t_T = 27;                       // Neutron age in cm^2\n",
"L_T2 = (1-f)*L_TM2;             // Diffusion area of fuel moderator mixture\n",
"M_T2 = L_T2+t_T;                // Migration area of fuel moderator mixture\n",
"// Buckling can be found as\n",
"B2 = (k_inf-1)/M_T2;\n",
"printf(' \n Using the buckling formula from Table 6.2 \n B^2 = (2.405/R)^2+(pi/H)^2 \n For minumum critical mass H = 1.82R \n');\n",
"// On solving for R in B^2 = 8.763/R^2\n",
"R = sqrt(8.763/B2);\n",
"H = 1.82*R;\n",
"// Result\n",
"printf(' \n The dimensions of the cylinder are');\n",
"printf(' \n Radius of cylinder = %2.1f cm \t Height of cylinder = %3.1f cm \n',R,H);\n",
"\n",
"// 2.\n",
"V = %pi*R^2*H;                      // Reactor volume (in cc) assuming cylindrical geometry\n",
"// Calculation \n",
"m_F = rho_F*V;\n",
"printf(' \n The critical fuel mass = %2.1f kg \n',m_F/1000);\n",
"// There is a slight variation in the values of dimensions of cylinder and critical fuel mass as compared from the textbook. This is due to approximation of values in textbook."
   ]
   }
,
{
		   "cell_type": "markdown",
		   "metadata": {},
		   "source": [
			"## Example 6.7: Critical_concentration.sce"
		   ]
		  },
  {
"cell_type": "code",
	   "execution_count": null,
	   "metadata": {
	    "collapsed": true
	   },
	   "outputs": [],
"source": [
"// Example 6.7\n",
"clear all;\n",
"clc;\n",
"\n",
"// Given data\n",
"R = 300;                   // Radius of the sphere in cm\n",
"M_M = 20;                 // Molecular weight of heavy water\n",
"M_F = 235;                // Molecular weight of Uranium-235\n",
"\n",
"// 1.\n",
"// Using the data from Table 5.2\n",
"Dbar_r = 0.84;              // Diffusion coefficient of graphite in cm\n",
"Dbar_c = 0.87;              // Diffusion coefficient of heavy water in cm\n",
"L_TM2 = 9400;               // Diffusion area of heavy water in cm^2\n",
"L_r = 59;                   // Diffusion length of graphite in cm\n",
"// Using the data from Table 3.2\n",
"g_aF = 0.978;               // Non 1/v factor Uranium-235 fuel\n",
"// Using the data from Table II.2 for Uranium-235\n",
"// 1 barn = 10^(-24) cm^2\n",
"sigma_aF = 681*10^(-24);            // Microscopic absorption cross section of Uranium-235 in cm^2\n",
"SIGMA_aM = 9.3*10^(-5)*10^(-24);    // Macroscopic absorption coefficient of Heavy water in cm^(-1)\n",
"N = 0.03323;                        // Atomic density of heavy water\n",
"// Let BRcot(BR)= y\n",
"y = 1-((Dbar_r/Dbar_c)*((R/L_r)+1));\n",
"// Considering only the first solution, B*R=2.64\n",
"B = 2.64/R;\n",
"// Using the data form Table 6.3 at temperature = 20 deg \n",
"n_T = 2.065;                        // Average number of neutrons produced per neutron absorbed in fission\n",
"Z = (1+(B^2*L_TM2))/(n_T-1);        // A parameter\n",
"sigma_aM = sqrt(4/%pi)*SIGMA_aM/N;  // Microscopic absorption cross section of Heavy water in cm^2\n",
"// The ratio of densities of fuel to moderator\n",
"rho_FM = Z*(M_F*sigma_aM)/(M_M*g_aF*sigma_aF)\n",
"rho_M = 1.1;                        // Density of Heavy water in g/cm^3\n",
"// Calculation\n",
"rho_F = rho_FM*rho_M;\n",
"// Result\n",
"printf(' \n The critical concentration = %.4f g/litre \n',rho_F*1000);\n",
"\n",
"// 2.\n",
"V = (4/3)*%pi*R^3;                  // Reactor volume (in cc) assuming spherical geometry\n",
"// Calculation\n",
"m_F = rho_F*V;\n",
"// Result\n",
"printf(' \n The critical fuel mass = %3.2f kg \n',m_F/1000);\n",
""
   ]
   }
,
{
		   "cell_type": "markdown",
		   "metadata": {},
		   "source": [
			"## Example 6.8: Critical_radius.sce"
		   ]
		  },
  {
"cell_type": "code",
	   "execution_count": null,
	   "metadata": {
	    "collapsed": true
	   },
	   "outputs": [],
"source": [
"// Example 6.8\n",
"clear all;\n",
"clc;\n",
"\n",
"// Given data\n",
"rho_F = 2*10^(-4);            // Concentration of Uranium-235 fuel in g/cm^3\n",
"rho_M = 1.6;                  // Concentration of graphite moderator in g/cm^3\n",
"M_F = 235;                    // Molecular mass of Uranium-235 fuel\n",
"M_M = 12;                     // Molecular mass of Graphite(Carbon) moderator\n",
"\n",
"// 1.\n",
"// Using the data from Tables 3.2\n",
"g_aF = 0.978;                 // Non 1/v factor Uranium-235 fuel\n",
"// Using the data from Table II.2 for Uranium-235 and Carbon\n",
"// 1 barn = 10^(-24) cm^2\n",
"sigma_aF = 681*10^(-24);      // Microscopic absorption cross section of Uranium-235 in cm^2\n",
"sigma_aM = 3.4*10^(-3)*10^(-24); // Microscopic absorption cross section of Graphite in cm^2\n",
"Z = (rho_F*M_M*g_aF*sigma_aF)/(rho_M*M_F*sigma_aM);     // Parameter Z\n",
"f = Z/(Z+1);                    // Thermal utilization factor of the fuel\n",
"// Using the data form Table 6.3 at temperature = 20 deg \n",
"n_T = 2.065;                    // Average number of neutrons produced per neutron absorbed in fission\n",
"k_inf = n_T*f;                  // The infinite multiplication factor\n",
"// From Table 5.2\n",
"L_TM2 = 3500;                   // Diffusion area of Graphite in cm^2\n",
"L_r = 59;                       // Diffusion length of graphite in cm\n",
"L_T2 = (1-f)*L_TM2;             // Diffusion area of fuel moderator mixture\n",
"// Buckling can be found as\n",
"B = sqrt((k_inf-1)/L_T2);\n",
"// Calculation\n",
"R = acot(-1/(B*L_r))/B;\n",
"// Result\n",
"printf(' \n The critical radius of fuel loaded thermal reactor = %3.2f cm \n',R);\n",
"\n",
"// 2.\n",
"// Reactor is bare or reflector is not present\n",
"// Calculation\n",
"R0 = %pi/B;\n",
"// Result\n",
"printf(' \n The critical radius of bare thermal reactor = %d cm \n',R0);\n",
"// There is a slight variation in the value of critical radius as compared from the textbook. This is due to approximation of the thermal utilization factor value in textbook."
   ]
   }
,
{
		   "cell_type": "markdown",
		   "metadata": {},
		   "source": [
			"## Example 6.9: Critical_radius_and_mass.sce"
		   ]
		  },
  {
"cell_type": "code",
	   "execution_count": null,
	   "metadata": {
	    "collapsed": true
	   },
	   "outputs": [],
"source": [
"// Example 6.9\n",
"clear all;\n",
"clc;\n",
"\n",
"// Given data\n",
"rho_F = 0.0145;                 // Concentration of Uranium-235 fuel in g/cm^3\n",
"// Using the result of Example 6.6 \n",
"M_T2 = 30.8;                    // Migration area in cm^2\n",
"B = 0.0529;                     // Buckling factor\n",
"delta = 7.2+0.1*(M_T2-40);      // Empirical formula for reflector savings\n",
"R0 = %pi/B;                     // The radius of the bare reactor\n",
"// Calculation \n",
"R = R0-delta;\n",
"m_F=rho_F*4/3*%pi*R^3;\n",
"// Result\n",
"printf(' \n The critical radius of reflected reactor = %3.2f cm \n',R);\n",
"printf(' \n The critical mass of reflected reactor = %3.2f kg \n',m_F/1000);\n",
""
   ]
   }
],
"metadata": {
		  "kernelspec": {
		   "display_name": "Scilab",
		   "language": "scilab",
		   "name": "scilab"
		  },
		  "language_info": {
		   "file_extension": ".sce",
		   "help_links": [
			{
			 "text": "MetaKernel Magics",
			 "url": "https://github.com/calysto/metakernel/blob/master/metakernel/magics/README.md"
			}
		   ],
		   "mimetype": "text/x-octave",
		   "name": "scilab",
		   "version": "0.7.1"
		  }
		 },
		 "nbformat": 4,
		 "nbformat_minor": 0
}
